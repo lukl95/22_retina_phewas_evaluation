{
 "cells": [
  {
   "cell_type": "markdown",
   "metadata": {},
   "source": [
    "# Benchmarks"
   ]
  },
  {
   "cell_type": "markdown",
   "metadata": {},
   "source": [
    "## Initialize"
   ]
  },
  {
   "cell_type": "code",
   "execution_count": 1,
   "metadata": {
    "execution": {
     "iopub.execute_input": "2023-02-07T20:21:23.758243Z",
     "iopub.status.busy": "2023-02-07T20:21:23.757811Z",
     "iopub.status.idle": "2023-02-07T20:21:27.014023Z",
     "shell.execute_reply": "2023-02-07T20:21:27.013542Z",
     "shell.execute_reply.started": "2023-02-07T20:21:23.758173Z"
    },
    "tags": []
   },
   "outputs": [
    {
     "name": "stderr",
     "output_type": "stream",
     "text": [
      "/home/buergelt/miniconda3/envs/retrisk/lib/python3.9/site-packages/scipy/__init__.py:146: UserWarning: A NumPy version >=1.16.5 and <1.23.0 is required for this version of SciPy (detected version 1.23.5\n",
      "  warnings.warn(f\"A NumPy version >={np_minversion} and <{np_maxversion}\"\n"
     ]
    }
   ],
   "source": [
    "import os\n",
    "import math\n",
    "import pathlib\n",
    "import numpy as np\n",
    "import pandas as pd\n",
    "import pyarrow as pa\n",
    "import pyarrow.feather as feather\n",
    "from tqdm.auto import tqdm\n",
    "from IPython.display import clear_output\n",
    "\n",
    "import warnings\n",
    "from lifelines.utils import CensoringType\n",
    "from lifelines.utils import concordance_index"
   ]
  },
  {
   "cell_type": "code",
   "execution_count": 2,
   "metadata": {
    "execution": {
     "iopub.execute_input": "2023-02-07T20:21:27.015216Z",
     "iopub.status.busy": "2023-02-07T20:21:27.015091Z",
     "iopub.status.idle": "2023-02-07T20:21:27.057946Z",
     "shell.execute_reply": "2023-02-07T20:21:27.057536Z",
     "shell.execute_reply.started": "2023-02-07T20:21:27.015200Z"
    },
    "tags": []
   },
   "outputs": [
    {
     "name": "stdout",
     "output_type": "stream",
     "text": [
      "/sc-projects/sc-proj-ukb-cvd\n"
     ]
    },
    {
     "data": {
      "text/plain": [
       "[0, 1, 2, 3, 4, 5, 6, 7, 8, 9, 10, 11, 12, 13, 14, 15, 16, 17, 18, 19, 20, 21]"
      ]
     },
     "execution_count": 2,
     "metadata": {},
     "output_type": "execute_result"
    }
   ],
   "source": [
    "node = !hostname\n",
    "if \"sc\" in node[0]:\n",
    "    base_path = \"/sc-projects/sc-proj-ukb-cvd\"\n",
    "else: \n",
    "    base_path = \"/data/analysis/ag-reils/ag-reils-shared/cardioRS\"\n",
    "print(base_path)\n",
    "\n",
    "project_label = \"22_retina_phewas\"\n",
    "project_path = f\"{base_path}/results/projects/{project_label}\"\n",
    "figure_path = f\"{project_path}/figures\"\n",
    "output_path = f\"{project_path}/data\"\n",
    "\n",
    "pathlib.Path(figure_path).mkdir(parents=True, exist_ok=True)\n",
    "pathlib.Path(output_path).mkdir(parents=True, exist_ok=True)\n",
    "\n",
    "experiment = '221108'\n",
    "experiment_path = f\"{output_path}/{experiment}\"\n",
    "pathlib.Path(experiment_path).mkdir(parents=True, exist_ok=True)\n",
    "\n",
    "\n",
    "name_dict = {\n",
    "    \"predictions_cropratio0.66\": \"ConvNextSmall(Retina)+MLP_cropratio0.66\",\n",
    "}\n",
    "\n",
    "partitions = [i for i in range(22)]\n",
    "partitions"
   ]
  },
  {
   "cell_type": "code",
   "execution_count": 3,
   "metadata": {
    "execution": {
     "iopub.execute_input": "2023-02-07T20:21:27.058747Z",
     "iopub.status.busy": "2023-02-07T20:21:27.058635Z",
     "iopub.status.idle": "2023-02-07T20:21:27.060942Z",
     "shell.execute_reply": "2023-02-07T20:21:27.060600Z",
     "shell.execute_reply.started": "2023-02-07T20:21:27.058732Z"
    }
   },
   "outputs": [],
   "source": [
    "today = '221109'"
   ]
  },
  {
   "cell_type": "code",
   "execution_count": 4,
   "metadata": {
    "execution": {
     "iopub.execute_input": "2023-02-07T20:21:27.061625Z",
     "iopub.status.busy": "2023-02-07T20:21:27.061468Z",
     "iopub.status.idle": "2023-02-07T20:21:27.086893Z",
     "shell.execute_reply": "2023-02-07T20:21:27.086553Z",
     "shell.execute_reply.started": "2023-02-07T20:21:27.061612Z"
    },
    "tags": []
   },
   "outputs": [],
   "source": [
    "import pandas as pd\n",
    "\n",
    "extra_endpoints = set([\n",
    "    'phecode_059-1', #  \"Cerebral infarction [Ischemic stroke]\",\n",
    "    \"phecode_375-1\", # Glaucoma\n",
    "    \"phecode_374-42\", # Diabetic retinopathy\n",
    "    \"phecode_202\", # Diabetes mellitus\n",
    "    \"phecode_401\",\t#Hypertension\"  \n",
    "    \"phecode_103\", # Malignant neoplasm of the skin\n",
    "])\n",
    "cardio_endpoints = set([\n",
    "'phecode_431-11', #  \"Cerebral infarction [Ischemic stroke]\",\n",
    "'phecode_404', #  \"Ischemic heart disease\",\n",
    "'phecode_404-1', #  \"Myocardial infarction [Heart attack]\", # intervention\n",
    "'phecode_424', #  \"Heart failure\", # intervention\n",
    " 'OMOP_4306655', #  \"All-Cause Death\", # intervention\n",
    "'phecode_420' #  \"Cardiac arrest\", # intervention  \n",
    "])\n",
    "\n",
    "all_endpoints = [l.replace('_prevalent', '') for l in list(pd.read_csv('/sc-projects/sc-proj-ukb-cvd/results/projects/22_retinal_risk/data/220602/endpoints.csv').endpoint.values)]\n",
    "\n",
    "# endpoints = sorted(list(cardio_endpoints.intersection(all_endpoints)))\n",
    "endpoints = sorted(list(extra_endpoints.intersection(all_endpoints)))"
   ]
  },
  {
   "cell_type": "code",
   "execution_count": 5,
   "metadata": {
    "execution": {
     "iopub.execute_input": "2023-02-07T20:21:27.088023Z",
     "iopub.status.busy": "2023-02-07T20:21:27.087870Z",
     "iopub.status.idle": "2023-02-07T20:21:27.092166Z",
     "shell.execute_reply": "2023-02-07T20:21:27.091815Z",
     "shell.execute_reply.started": "2023-02-07T20:21:27.088010Z"
    },
    "tags": []
   },
   "outputs": [],
   "source": [
    "out_path = f\"{experiment_path}/coxph_cvd/predictions_{today}\"\n",
    "pathlib.Path(out_path).mkdir(parents=True, exist_ok=True)"
   ]
  },
  {
   "cell_type": "code",
   "execution_count": 6,
   "metadata": {
    "execution": {
     "iopub.execute_input": "2023-02-07T20:21:27.092715Z",
     "iopub.status.busy": "2023-02-07T20:21:27.092618Z",
     "iopub.status.idle": "2023-02-07T20:21:27.515038Z",
     "shell.execute_reply": "2023-02-07T20:21:27.514602Z",
     "shell.execute_reply.started": "2023-02-07T20:21:27.092703Z"
    },
    "tags": []
   },
   "outputs": [],
   "source": [
    "from sklearn.preprocessing import StandardScaler\n",
    "import pickle\n",
    "import zstandard\n",
    "\n",
    "def read_data(fp_in):\n",
    "    temp = pd.read_feather(f\"{fp_in}\").set_index(\"eid\")\n",
    "    return temp   \n",
    "    \n",
    "def save_pickle(data, data_path):\n",
    "    with open(data_path, \"wb\") as fh:\n",
    "        cctx = zstandard.ZstdCompressor()\n",
    "        with cctx.stream_writer(fh) as compressor:\n",
    "            compressor.write(pickle.dumps(data, protocol=pickle.HIGHEST_PROTOCOL))\n",
    "    \n",
    "def read_predictions(endpoint, feature_set, partition, model):\n",
    "    \n",
    "    #identifier = f\"{endpoint}_{feature_set}_{model}_{partition}_mean\" # for meaned preds\n",
    "    identifier = f\"{endpoint}_{feature_set}_{model}_{partition}\"\n",
    "    fp_in = f\"{out_path}/{identifier}.feather\"\n",
    "    \n",
    "    temp = read_data(fp_in)\n",
    "    return temp"
   ]
  },
  {
   "cell_type": "code",
   "execution_count": 7,
   "metadata": {
    "execution": {
     "iopub.execute_input": "2023-02-07T20:21:27.515887Z",
     "iopub.status.busy": "2023-02-07T20:21:27.515733Z",
     "iopub.status.idle": "2023-02-07T20:21:27.520735Z",
     "shell.execute_reply": "2023-02-07T20:21:27.520414Z",
     "shell.execute_reply.started": "2023-02-07T20:21:27.515872Z"
    },
    "tags": []
   },
   "outputs": [
    {
     "data": {
      "text/plain": [
       "['ImageTraining_[]_ConvNeXt_MLPHead_predictions_cropratio0.66']"
      ]
     },
     "execution_count": 7,
     "metadata": {},
     "output_type": "execute_result"
    }
   ],
   "source": [
    "model_path = pathlib.Path(f\"{experiment_path}/coxph/input\")\n",
    "models = [f.name for f in model_path.iterdir() if f.is_dir() and \"ipynb_checkpoints\" not in str(f)]\n",
    "models"
   ]
  },
  {
   "cell_type": "code",
   "execution_count": 8,
   "metadata": {
    "execution": {
     "iopub.execute_input": "2023-02-07T20:21:27.521405Z",
     "iopub.status.busy": "2023-02-07T20:21:27.521244Z",
     "iopub.status.idle": "2023-02-07T20:21:32.143245Z",
     "shell.execute_reply": "2023-02-07T20:21:32.142756Z",
     "shell.execute_reply.started": "2023-02-07T20:21:27.521392Z"
    },
    "tags": []
   },
   "outputs": [
    {
     "name": "stdout",
     "output_type": "stream",
     "text": [
      "0\n",
      "1\n",
      "2\n",
      "3\n",
      "4\n",
      "5\n"
     ]
    }
   ],
   "source": [
    "d = []\n",
    "\n",
    "for i, endpoint in enumerate(endpoints):\n",
    "    print(i)\n",
    "    for feature_set in [\n",
    "        \"Age+Sex\",\n",
    "        \"Retina\",\n",
    "        \"Age+Sex+Retina\",\n",
    "        \"SCORE2\",\n",
    "        \"SCORE2+Retina\",\n",
    "        \"ASCVD\",\n",
    "        \"ASCVD+Retina\",\n",
    "        \"QRISK3\",\n",
    "        \"QRISK3+Retina\"\n",
    "                    ]:\n",
    "        for partition in partitions:\n",
    "            for model in models:\n",
    "                try: \n",
    "                    temp = read_predictions(endpoint, feature_set, partition, model)\n",
    "                    d.append({\"endpoint\": endpoint, \"features\":feature_set, \"model\":model, \"partition\":partition, \"available\": True})\n",
    "                except:\n",
    "                    d.append({\"endpoint\": endpoint, \"features\":feature_set, \"partition\":partition, \"available\": False})"
   ]
  },
  {
   "cell_type": "code",
   "execution_count": 9,
   "metadata": {
    "execution": {
     "iopub.execute_input": "2023-02-07T20:21:32.144176Z",
     "iopub.status.busy": "2023-02-07T20:21:32.144000Z",
     "iopub.status.idle": "2023-02-07T20:21:32.149610Z",
     "shell.execute_reply": "2023-02-07T20:21:32.149286Z",
     "shell.execute_reply.started": "2023-02-07T20:21:32.144160Z"
    },
    "tags": []
   },
   "outputs": [
    {
     "data": {
      "text/plain": [
       "array([ True])"
      ]
     },
     "execution_count": 9,
     "metadata": {},
     "output_type": "execute_result"
    }
   ],
   "source": [
    "pd.DataFrame.from_dict(d)['available'].unique()"
   ]
  },
  {
   "cell_type": "code",
   "execution_count": 10,
   "metadata": {
    "execution": {
     "iopub.execute_input": "2023-02-07T20:21:32.150273Z",
     "iopub.status.busy": "2023-02-07T20:21:32.150113Z",
     "iopub.status.idle": "2023-02-07T20:21:32.175562Z",
     "shell.execute_reply": "2023-02-07T20:21:32.175220Z",
     "shell.execute_reply.started": "2023-02-07T20:21:32.150260Z"
    },
    "tags": []
   },
   "outputs": [
    {
     "data": {
      "text/html": [
       "<div>\n",
       "<style scoped>\n",
       "    .dataframe tbody tr th:only-of-type {\n",
       "        vertical-align: middle;\n",
       "    }\n",
       "\n",
       "    .dataframe tbody tr th {\n",
       "        vertical-align: top;\n",
       "    }\n",
       "\n",
       "    .dataframe thead th {\n",
       "        text-align: right;\n",
       "    }\n",
       "</style>\n",
       "<table border=\"1\" class=\"dataframe\">\n",
       "  <thead>\n",
       "    <tr style=\"text-align: right;\">\n",
       "      <th></th>\n",
       "      <th>available</th>\n",
       "    </tr>\n",
       "    <tr>\n",
       "      <th>features</th>\n",
       "      <th></th>\n",
       "    </tr>\n",
       "  </thead>\n",
       "  <tbody>\n",
       "    <tr>\n",
       "      <th>ASCVD</th>\n",
       "      <td>132</td>\n",
       "    </tr>\n",
       "    <tr>\n",
       "      <th>ASCVD+Retina</th>\n",
       "      <td>132</td>\n",
       "    </tr>\n",
       "    <tr>\n",
       "      <th>Age+Sex</th>\n",
       "      <td>132</td>\n",
       "    </tr>\n",
       "    <tr>\n",
       "      <th>Age+Sex+Retina</th>\n",
       "      <td>132</td>\n",
       "    </tr>\n",
       "    <tr>\n",
       "      <th>QRISK3</th>\n",
       "      <td>132</td>\n",
       "    </tr>\n",
       "    <tr>\n",
       "      <th>QRISK3+Retina</th>\n",
       "      <td>132</td>\n",
       "    </tr>\n",
       "    <tr>\n",
       "      <th>Retina</th>\n",
       "      <td>132</td>\n",
       "    </tr>\n",
       "    <tr>\n",
       "      <th>SCORE2</th>\n",
       "      <td>132</td>\n",
       "    </tr>\n",
       "    <tr>\n",
       "      <th>SCORE2+Retina</th>\n",
       "      <td>132</td>\n",
       "    </tr>\n",
       "  </tbody>\n",
       "</table>\n",
       "</div>"
      ],
      "text/plain": [
       "                available\n",
       "features                 \n",
       "ASCVD                 132\n",
       "ASCVD+Retina          132\n",
       "Age+Sex               132\n",
       "Age+Sex+Retina        132\n",
       "QRISK3                132\n",
       "QRISK3+Retina         132\n",
       "Retina                132\n",
       "SCORE2                132\n",
       "SCORE2+Retina         132"
      ]
     },
     "execution_count": 10,
     "metadata": {},
     "output_type": "execute_result"
    }
   ],
   "source": [
    "pd.DataFrame.from_dict(d).groupby([\"features\"])[\"available\"].sum().to_frame()"
   ]
  },
  {
   "cell_type": "code",
   "execution_count": 11,
   "metadata": {
    "execution": {
     "iopub.execute_input": "2023-02-07T20:21:32.176241Z",
     "iopub.status.busy": "2023-02-07T20:21:32.176070Z",
     "iopub.status.idle": "2023-02-07T20:21:32.183209Z",
     "shell.execute_reply": "2023-02-07T20:21:32.182877Z",
     "shell.execute_reply.started": "2023-02-07T20:21:32.176227Z"
    },
    "tags": []
   },
   "outputs": [
    {
     "data": {
      "text/html": [
       "<div>\n",
       "<style scoped>\n",
       "    .dataframe tbody tr th:only-of-type {\n",
       "        vertical-align: middle;\n",
       "    }\n",
       "\n",
       "    .dataframe tbody tr th {\n",
       "        vertical-align: top;\n",
       "    }\n",
       "\n",
       "    .dataframe thead th {\n",
       "        text-align: right;\n",
       "    }\n",
       "</style>\n",
       "<table border=\"1\" class=\"dataframe\">\n",
       "  <thead>\n",
       "    <tr style=\"text-align: right;\">\n",
       "      <th></th>\n",
       "      <th></th>\n",
       "      <th>available</th>\n",
       "    </tr>\n",
       "    <tr>\n",
       "      <th>model</th>\n",
       "      <th>features</th>\n",
       "      <th></th>\n",
       "    </tr>\n",
       "  </thead>\n",
       "  <tbody>\n",
       "    <tr>\n",
       "      <th rowspan=\"9\" valign=\"top\">ImageTraining_[]_ConvNeXt_MLPHead_predictions_cropratio0.66</th>\n",
       "      <th>ASCVD</th>\n",
       "      <td>132</td>\n",
       "    </tr>\n",
       "    <tr>\n",
       "      <th>ASCVD+Retina</th>\n",
       "      <td>132</td>\n",
       "    </tr>\n",
       "    <tr>\n",
       "      <th>Age+Sex</th>\n",
       "      <td>132</td>\n",
       "    </tr>\n",
       "    <tr>\n",
       "      <th>Age+Sex+Retina</th>\n",
       "      <td>132</td>\n",
       "    </tr>\n",
       "    <tr>\n",
       "      <th>QRISK3</th>\n",
       "      <td>132</td>\n",
       "    </tr>\n",
       "    <tr>\n",
       "      <th>QRISK3+Retina</th>\n",
       "      <td>132</td>\n",
       "    </tr>\n",
       "    <tr>\n",
       "      <th>Retina</th>\n",
       "      <td>132</td>\n",
       "    </tr>\n",
       "    <tr>\n",
       "      <th>SCORE2</th>\n",
       "      <td>132</td>\n",
       "    </tr>\n",
       "    <tr>\n",
       "      <th>SCORE2+Retina</th>\n",
       "      <td>132</td>\n",
       "    </tr>\n",
       "  </tbody>\n",
       "</table>\n",
       "</div>"
      ],
      "text/plain": [
       "                                                                   available\n",
       "model                                              features                 \n",
       "ImageTraining_[]_ConvNeXt_MLPHead_predictions_c... ASCVD                 132\n",
       "                                                   ASCVD+Retina          132\n",
       "                                                   Age+Sex               132\n",
       "                                                   Age+Sex+Retina        132\n",
       "                                                   QRISK3                132\n",
       "                                                   QRISK3+Retina         132\n",
       "                                                   Retina                132\n",
       "                                                   SCORE2                132\n",
       "                                                   SCORE2+Retina         132"
      ]
     },
     "execution_count": 11,
     "metadata": {},
     "output_type": "execute_result"
    }
   ],
   "source": [
    "pd.DataFrame.from_dict(d).groupby([\"model\", \"features\"])[\"available\"].sum().to_frame()"
   ]
  },
  {
   "cell_type": "code",
   "execution_count": 15,
   "metadata": {
    "execution": {
     "iopub.execute_input": "2023-02-07T20:24:12.775617Z",
     "iopub.status.busy": "2023-02-07T20:24:12.775317Z",
     "iopub.status.idle": "2023-02-07T20:24:12.884828Z",
     "shell.execute_reply": "2023-02-07T20:24:12.884381Z",
     "shell.execute_reply.started": "2023-02-07T20:24:12.775597Z"
    },
    "tags": []
   },
   "outputs": [
    {
     "name": "stdout",
     "output_type": "stream",
     "text": [
      "OMOP_4306655_Age+Sex_ImageTraining_[]_ConvNeXt_MLPHead_predictions_cropratio0.66_0.feather\n"
     ]
    },
    {
     "data": {
      "text/html": [
       "<div>\n",
       "<style scoped>\n",
       "    .dataframe tbody tr th:only-of-type {\n",
       "        vertical-align: middle;\n",
       "    }\n",
       "\n",
       "    .dataframe tbody tr th {\n",
       "        vertical-align: top;\n",
       "    }\n",
       "\n",
       "    .dataframe thead th {\n",
       "        text-align: right;\n",
       "    }\n",
       "</style>\n",
       "<table border=\"1\" class=\"dataframe\">\n",
       "  <thead>\n",
       "    <tr style=\"text-align: right;\">\n",
       "      <th></th>\n",
       "      <th>model</th>\n",
       "      <th>endpoint</th>\n",
       "      <th>score</th>\n",
       "      <th>partition</th>\n",
       "      <th>path</th>\n",
       "    </tr>\n",
       "  </thead>\n",
       "  <tbody>\n",
       "    <tr>\n",
       "      <th>0</th>\n",
       "      <td>ImageTraining_[]_ConvNeXt_MLPHead_predictions_...</td>\n",
       "      <td>OMOP_4306655</td>\n",
       "      <td>ASCVD</td>\n",
       "      <td>0</td>\n",
       "      <td>OMOP_4306655_ASCVD_ImageTraining_[]_ConvNeXt_M...</td>\n",
       "    </tr>\n",
       "    <tr>\n",
       "      <th>1</th>\n",
       "      <td>ImageTraining_[]_ConvNeXt_MLPHead_predictions_...</td>\n",
       "      <td>OMOP_4306655</td>\n",
       "      <td>ASCVD</td>\n",
       "      <td>1</td>\n",
       "      <td>OMOP_4306655_ASCVD_ImageTraining_[]_ConvNeXt_M...</td>\n",
       "    </tr>\n",
       "    <tr>\n",
       "      <th>2</th>\n",
       "      <td>ImageTraining_[]_ConvNeXt_MLPHead_predictions_...</td>\n",
       "      <td>OMOP_4306655</td>\n",
       "      <td>ASCVD</td>\n",
       "      <td>2</td>\n",
       "      <td>OMOP_4306655_ASCVD_ImageTraining_[]_ConvNeXt_M...</td>\n",
       "    </tr>\n",
       "    <tr>\n",
       "      <th>3</th>\n",
       "      <td>ImageTraining_[]_ConvNeXt_MLPHead_predictions_...</td>\n",
       "      <td>OMOP_4306655</td>\n",
       "      <td>ASCVD</td>\n",
       "      <td>3</td>\n",
       "      <td>OMOP_4306655_ASCVD_ImageTraining_[]_ConvNeXt_M...</td>\n",
       "    </tr>\n",
       "    <tr>\n",
       "      <th>4</th>\n",
       "      <td>ImageTraining_[]_ConvNeXt_MLPHead_predictions_...</td>\n",
       "      <td>OMOP_4306655</td>\n",
       "      <td>ASCVD</td>\n",
       "      <td>4</td>\n",
       "      <td>OMOP_4306655_ASCVD_ImageTraining_[]_ConvNeXt_M...</td>\n",
       "    </tr>\n",
       "    <tr>\n",
       "      <th>...</th>\n",
       "      <td>...</td>\n",
       "      <td>...</td>\n",
       "      <td>...</td>\n",
       "      <td>...</td>\n",
       "      <td>...</td>\n",
       "    </tr>\n",
       "    <tr>\n",
       "      <th>2371</th>\n",
       "      <td>ImageTraining_[]_ConvNeXt_MLPHead_predictions_...</td>\n",
       "      <td>phecode_431-11</td>\n",
       "      <td>SCORE2+Retina</td>\n",
       "      <td>17</td>\n",
       "      <td>phecode_431-11_SCORE2+Retina_ImageTraining_[]_...</td>\n",
       "    </tr>\n",
       "    <tr>\n",
       "      <th>2372</th>\n",
       "      <td>ImageTraining_[]_ConvNeXt_MLPHead_predictions_...</td>\n",
       "      <td>phecode_431-11</td>\n",
       "      <td>SCORE2+Retina</td>\n",
       "      <td>18</td>\n",
       "      <td>phecode_431-11_SCORE2+Retina_ImageTraining_[]_...</td>\n",
       "    </tr>\n",
       "    <tr>\n",
       "      <th>2373</th>\n",
       "      <td>ImageTraining_[]_ConvNeXt_MLPHead_predictions_...</td>\n",
       "      <td>phecode_431-11</td>\n",
       "      <td>SCORE2+Retina</td>\n",
       "      <td>19</td>\n",
       "      <td>phecode_431-11_SCORE2+Retina_ImageTraining_[]_...</td>\n",
       "    </tr>\n",
       "    <tr>\n",
       "      <th>2374</th>\n",
       "      <td>ImageTraining_[]_ConvNeXt_MLPHead_predictions_...</td>\n",
       "      <td>phecode_431-11</td>\n",
       "      <td>SCORE2+Retina</td>\n",
       "      <td>20</td>\n",
       "      <td>phecode_431-11_SCORE2+Retina_ImageTraining_[]_...</td>\n",
       "    </tr>\n",
       "    <tr>\n",
       "      <th>2375</th>\n",
       "      <td>ImageTraining_[]_ConvNeXt_MLPHead_predictions_...</td>\n",
       "      <td>phecode_431-11</td>\n",
       "      <td>SCORE2+Retina</td>\n",
       "      <td>21</td>\n",
       "      <td>phecode_431-11_SCORE2+Retina_ImageTraining_[]_...</td>\n",
       "    </tr>\n",
       "  </tbody>\n",
       "</table>\n",
       "<p>2376 rows × 5 columns</p>\n",
       "</div>"
      ],
      "text/plain": [
       "                                                  model        endpoint  \\\n",
       "0     ImageTraining_[]_ConvNeXt_MLPHead_predictions_...    OMOP_4306655   \n",
       "1     ImageTraining_[]_ConvNeXt_MLPHead_predictions_...    OMOP_4306655   \n",
       "2     ImageTraining_[]_ConvNeXt_MLPHead_predictions_...    OMOP_4306655   \n",
       "3     ImageTraining_[]_ConvNeXt_MLPHead_predictions_...    OMOP_4306655   \n",
       "4     ImageTraining_[]_ConvNeXt_MLPHead_predictions_...    OMOP_4306655   \n",
       "...                                                 ...             ...   \n",
       "2371  ImageTraining_[]_ConvNeXt_MLPHead_predictions_...  phecode_431-11   \n",
       "2372  ImageTraining_[]_ConvNeXt_MLPHead_predictions_...  phecode_431-11   \n",
       "2373  ImageTraining_[]_ConvNeXt_MLPHead_predictions_...  phecode_431-11   \n",
       "2374  ImageTraining_[]_ConvNeXt_MLPHead_predictions_...  phecode_431-11   \n",
       "2375  ImageTraining_[]_ConvNeXt_MLPHead_predictions_...  phecode_431-11   \n",
       "\n",
       "              score  partition  \\\n",
       "0             ASCVD          0   \n",
       "1             ASCVD          1   \n",
       "2             ASCVD          2   \n",
       "3             ASCVD          3   \n",
       "4             ASCVD          4   \n",
       "...             ...        ...   \n",
       "2371  SCORE2+Retina         17   \n",
       "2372  SCORE2+Retina         18   \n",
       "2373  SCORE2+Retina         19   \n",
       "2374  SCORE2+Retina         20   \n",
       "2375  SCORE2+Retina         21   \n",
       "\n",
       "                                                   path  \n",
       "0     OMOP_4306655_ASCVD_ImageTraining_[]_ConvNeXt_M...  \n",
       "1     OMOP_4306655_ASCVD_ImageTraining_[]_ConvNeXt_M...  \n",
       "2     OMOP_4306655_ASCVD_ImageTraining_[]_ConvNeXt_M...  \n",
       "3     OMOP_4306655_ASCVD_ImageTraining_[]_ConvNeXt_M...  \n",
       "4     OMOP_4306655_ASCVD_ImageTraining_[]_ConvNeXt_M...  \n",
       "...                                                 ...  \n",
       "2371  phecode_431-11_SCORE2+Retina_ImageTraining_[]_...  \n",
       "2372  phecode_431-11_SCORE2+Retina_ImageTraining_[]_...  \n",
       "2373  phecode_431-11_SCORE2+Retina_ImageTraining_[]_...  \n",
       "2374  phecode_431-11_SCORE2+Retina_ImageTraining_[]_...  \n",
       "2375  phecode_431-11_SCORE2+Retina_ImageTraining_[]_...  \n",
       "\n",
       "[2376 rows x 5 columns]"
      ]
     },
     "execution_count": 15,
     "metadata": {},
     "output_type": "execute_result"
    }
   ],
   "source": [
    "in_path = f\"{experiment_path}/coxph_cvd/predictions_{today}\"\n",
    "prediction_paths = !ls $in_path\n",
    "print(prediction_paths[0])\n",
    "predictions = pd.Series(prediction_paths).str.split(\"_\", expand=True)\\\n",
    "    .assign(path = prediction_paths)\\\n",
    "    .assign(endpoint = lambda x: x[0]+\"_\"+x[1])\\\n",
    "    .assign(score = lambda x: x[2])\\\n",
    "    .assign(model = lambda x: x[3]+\"_\"+x[4]+\"_\"+x[5]+\"_\"+x[6]+\"_\"+x[7]+\"_\"+x[8])\\\n",
    "    .assign(partition = lambda x: x[9].str.replace(\".feather\", \"\", regex=True).astype(int))\\\n",
    "    [[\"model\", \"endpoint\", \"score\", \"partition\", \"path\"]].sort_values([\"model\", \"endpoint\", \"score\", \"partition\"]).reset_index(drop=True)\n",
    "predictions"
   ]
  },
  {
   "cell_type": "code",
   "execution_count": 16,
   "metadata": {
    "execution": {
     "iopub.execute_input": "2023-02-07T20:24:19.456179Z",
     "iopub.status.busy": "2023-02-07T20:24:19.455845Z",
     "iopub.status.idle": "2023-02-07T20:24:19.460411Z",
     "shell.execute_reply": "2023-02-07T20:24:19.460038Z",
     "shell.execute_reply.started": "2023-02-07T20:24:19.456159Z"
    },
    "tags": []
   },
   "outputs": [
    {
     "data": {
      "text/plain": [
       "array(['OMOP_4306655', 'phecode_059-1', 'phecode_103', 'phecode_202',\n",
       "       'phecode_374-42', 'phecode_375-1', 'phecode_401', 'phecode_404',\n",
       "       'phecode_404-1', 'phecode_420', 'phecode_424', 'phecode_431-11'],\n",
       "      dtype=object)"
      ]
     },
     "execution_count": 16,
     "metadata": {},
     "output_type": "execute_result"
    }
   ],
   "source": [
    "predictions.endpoint.unique()"
   ]
  },
  {
   "cell_type": "code",
   "execution_count": 17,
   "metadata": {
    "execution": {
     "iopub.execute_input": "2023-02-07T20:24:25.447395Z",
     "iopub.status.busy": "2023-02-07T20:24:25.447066Z",
     "iopub.status.idle": "2023-02-07T20:24:25.459106Z",
     "shell.execute_reply": "2023-02-07T20:24:25.458719Z",
     "shell.execute_reply.started": "2023-02-07T20:24:25.447375Z"
    },
    "tags": []
   },
   "outputs": [],
   "source": [
    "predictions.to_feather(f\"{experiment_path}/prediction_paths_CVD.feather\")"
   ]
  },
  {
   "cell_type": "code",
   "execution_count": null,
   "metadata": {},
   "outputs": [],
   "source": []
  }
 ],
 "metadata": {
  "kernelspec": {
   "display_name": "retrisk",
   "language": "python",
   "name": "retrisk"
  },
  "language_info": {
   "codemirror_mode": {
    "name": "ipython",
    "version": 3
   },
   "file_extension": ".py",
   "mimetype": "text/x-python",
   "name": "python",
   "nbconvert_exporter": "python",
   "pygments_lexer": "ipython3",
   "version": "3.9.7"
  },
  "toc-autonumbering": false
 },
 "nbformat": 4,
 "nbformat_minor": 4
}
