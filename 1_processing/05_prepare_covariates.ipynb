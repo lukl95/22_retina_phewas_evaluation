{
 "cells": [
  {
   "cell_type": "markdown",
   "metadata": {},
   "source": [
    "# Benchmarks"
   ]
  },
  {
   "cell_type": "markdown",
   "metadata": {},
   "source": [
    "## Initialize"
   ]
  },
  {
   "cell_type": "code",
   "execution_count": 1,
   "metadata": {
    "execution": {
     "iopub.execute_input": "2022-11-08T16:12:54.198730Z",
     "iopub.status.busy": "2022-11-08T16:12:54.198453Z",
     "iopub.status.idle": "2022-11-08T16:12:56.972908Z",
     "shell.execute_reply": "2022-11-08T16:12:56.972322Z",
     "shell.execute_reply.started": "2022-11-08T16:12:54.198688Z"
    },
    "tags": []
   },
   "outputs": [],
   "source": [
    "import os\n",
    "import math\n",
    "import pathlib\n",
    "import numpy as np\n",
    "import pandas as pd\n",
    "import pyarrow as pa\n",
    "import pyarrow.feather as feather\n",
    "from tqdm.auto import tqdm\n",
    "from IPython.display import clear_output\n",
    "\n",
    "import warnings\n",
    "from lifelines.utils import CensoringType\n",
    "from lifelines.utils import concordance_index"
   ]
  },
  {
   "cell_type": "code",
   "execution_count": 2,
   "metadata": {
    "execution": {
     "iopub.execute_input": "2022-11-08T16:12:56.974223Z",
     "iopub.status.busy": "2022-11-08T16:12:56.974031Z",
     "iopub.status.idle": "2022-11-08T16:12:56.996626Z",
     "shell.execute_reply": "2022-11-08T16:12:56.996217Z",
     "shell.execute_reply.started": "2022-11-08T16:12:56.974206Z"
    },
    "tags": []
   },
   "outputs": [
    {
     "name": "stdout",
     "output_type": "stream",
     "text": [
      "/sc-projects/sc-proj-ukb-cvd\n"
     ]
    },
    {
     "data": {
      "text/plain": [
       "[0, 1, 2, 3, 4, 5, 6, 7, 8, 9, 10, 11, 12, 13, 14, 15, 16, 17, 18, 19, 20, 21]"
      ]
     },
     "execution_count": 2,
     "metadata": {},
     "output_type": "execute_result"
    }
   ],
   "source": [
    "node = !hostname\n",
    "if \"sc\" in node[0]:\n",
    "    base_path = \"/sc-projects/sc-proj-ukb-cvd\"\n",
    "else: \n",
    "    base_path = \"/data/analysis/ag-reils/ag-reils-shared/cardioRS\"\n",
    "print(base_path)\n",
    "\n",
    "project_label = \"22_retina_phewas\"\n",
    "project_path = f\"{base_path}/results/projects/{project_label}\"\n",
    "figure_path = f\"{project_path}/figures\"\n",
    "output_path = f\"{project_path}/data\"\n",
    "\n",
    "pathlib.Path(figure_path).mkdir(parents=True, exist_ok=True)\n",
    "pathlib.Path(output_path).mkdir(parents=True, exist_ok=True)\n",
    "\n",
    "# experiment = '220812_test'\n",
    "experiment = '221108'\n",
    "experiment_path = f\"{output_path}/{experiment}\"\n",
    "pathlib.Path(experiment_path).mkdir(parents=True, exist_ok=True)\n",
    "\n",
    "\n",
    "name_dict = {\n",
    "    \"predictions_cropratio0.66\": \"ConvNextSmall(Retina)+MLP_cropratio0.66\",\n",
    "}\n",
    "\n",
    "partitions = [i for i in range(22)]\n",
    "partitions"
   ]
  },
  {
   "cell_type": "code",
   "execution_count": 3,
   "metadata": {
    "execution": {
     "iopub.execute_input": "2022-11-08T16:12:56.997428Z",
     "iopub.status.busy": "2022-11-08T16:12:56.997315Z",
     "iopub.status.idle": "2022-11-08T16:12:56.999727Z",
     "shell.execute_reply": "2022-11-08T16:12:56.999380Z",
     "shell.execute_reply.started": "2022-11-08T16:12:56.997412Z"
    },
    "tags": []
   },
   "outputs": [],
   "source": [
    "covariates = [\"age_at_recruitment_f21022_0_0\", \"sex_f31_0_0\",  \"ethnic_background_f21000_0_0\"]"
   ]
  },
  {
   "cell_type": "code",
   "execution_count": 4,
   "metadata": {
    "execution": {
     "iopub.execute_input": "2022-11-08T16:12:57.000513Z",
     "iopub.status.busy": "2022-11-08T16:12:57.000245Z",
     "iopub.status.idle": "2022-11-08T16:12:57.100158Z",
     "shell.execute_reply": "2022-11-08T16:12:57.099650Z",
     "shell.execute_reply.started": "2022-11-08T16:12:57.000497Z"
    },
    "tags": []
   },
   "outputs": [],
   "source": [
    "data_covariates = pd.read_feather(\"/sc-projects/sc-proj-ukb-cvd/data/2_datasets_pre/211110_anewbeginning/baseline_covariates_220503.feather\")\\\n",
    "    .set_index(\"eid\")[covariates]\\\n",
    "    .assign(age_at_recruitment_f21022_0_0 = lambda x: x.age_at_recruitment_f21022_0_0.astype(np.int32))"
   ]
  },
  {
   "cell_type": "code",
   "execution_count": 5,
   "metadata": {
    "execution": {
     "iopub.execute_input": "2022-11-08T16:12:57.101677Z",
     "iopub.status.busy": "2022-11-08T16:12:57.101329Z",
     "iopub.status.idle": "2022-11-08T16:12:57.148890Z",
     "shell.execute_reply": "2022-11-08T16:12:57.148449Z",
     "shell.execute_reply.started": "2022-11-08T16:12:57.101659Z"
    },
    "tags": []
   },
   "outputs": [],
   "source": [
    "data_covariates.reset_index().to_feather(f\"{experiment_path}/data_covariates.feather\")"
   ]
  },
  {
   "cell_type": "code",
   "execution_count": 6,
   "metadata": {
    "execution": {
     "iopub.execute_input": "2022-11-08T16:12:57.149658Z",
     "iopub.status.busy": "2022-11-08T16:12:57.149541Z",
     "iopub.status.idle": "2022-11-08T16:12:57.164318Z",
     "shell.execute_reply": "2022-11-08T16:12:57.163986Z",
     "shell.execute_reply.started": "2022-11-08T16:12:57.149643Z"
    },
    "tags": []
   },
   "outputs": [
    {
     "data": {
      "text/html": [
       "<div>\n",
       "<style scoped>\n",
       "    .dataframe tbody tr th:only-of-type {\n",
       "        vertical-align: middle;\n",
       "    }\n",
       "\n",
       "    .dataframe tbody tr th {\n",
       "        vertical-align: top;\n",
       "    }\n",
       "\n",
       "    .dataframe thead th {\n",
       "        text-align: right;\n",
       "    }\n",
       "</style>\n",
       "<table border=\"1\" class=\"dataframe\">\n",
       "  <thead>\n",
       "    <tr style=\"text-align: right;\">\n",
       "      <th></th>\n",
       "      <th>age_at_recruitment_f21022_0_0</th>\n",
       "      <th>sex_f31_0_0</th>\n",
       "      <th>ethnic_background_f21000_0_0</th>\n",
       "    </tr>\n",
       "    <tr>\n",
       "      <th>eid</th>\n",
       "      <th></th>\n",
       "      <th></th>\n",
       "      <th></th>\n",
       "    </tr>\n",
       "  </thead>\n",
       "  <tbody>\n",
       "    <tr>\n",
       "      <th>1000018</th>\n",
       "      <td>49</td>\n",
       "      <td>Female</td>\n",
       "      <td>British</td>\n",
       "    </tr>\n",
       "    <tr>\n",
       "      <th>1000020</th>\n",
       "      <td>59</td>\n",
       "      <td>Male</td>\n",
       "      <td>British</td>\n",
       "    </tr>\n",
       "    <tr>\n",
       "      <th>1000037</th>\n",
       "      <td>59</td>\n",
       "      <td>Female</td>\n",
       "      <td>British</td>\n",
       "    </tr>\n",
       "    <tr>\n",
       "      <th>1000043</th>\n",
       "      <td>63</td>\n",
       "      <td>Male</td>\n",
       "      <td>British</td>\n",
       "    </tr>\n",
       "    <tr>\n",
       "      <th>1000051</th>\n",
       "      <td>51</td>\n",
       "      <td>Female</td>\n",
       "      <td>British</td>\n",
       "    </tr>\n",
       "    <tr>\n",
       "      <th>...</th>\n",
       "      <td>...</td>\n",
       "      <td>...</td>\n",
       "      <td>...</td>\n",
       "    </tr>\n",
       "    <tr>\n",
       "      <th>6025150</th>\n",
       "      <td>43</td>\n",
       "      <td>Female</td>\n",
       "      <td>British</td>\n",
       "    </tr>\n",
       "    <tr>\n",
       "      <th>6025165</th>\n",
       "      <td>45</td>\n",
       "      <td>Female</td>\n",
       "      <td>British</td>\n",
       "    </tr>\n",
       "    <tr>\n",
       "      <th>6025173</th>\n",
       "      <td>57</td>\n",
       "      <td>Male</td>\n",
       "      <td>British</td>\n",
       "    </tr>\n",
       "    <tr>\n",
       "      <th>6025182</th>\n",
       "      <td>56</td>\n",
       "      <td>Male</td>\n",
       "      <td>British</td>\n",
       "    </tr>\n",
       "    <tr>\n",
       "      <th>6025198</th>\n",
       "      <td>67</td>\n",
       "      <td>Male</td>\n",
       "      <td>British</td>\n",
       "    </tr>\n",
       "  </tbody>\n",
       "</table>\n",
       "<p>502460 rows × 3 columns</p>\n",
       "</div>"
      ],
      "text/plain": [
       "         age_at_recruitment_f21022_0_0 sex_f31_0_0  \\\n",
       "eid                                                  \n",
       "1000018                             49      Female   \n",
       "1000020                             59        Male   \n",
       "1000037                             59      Female   \n",
       "1000043                             63        Male   \n",
       "1000051                             51      Female   \n",
       "...                                ...         ...   \n",
       "6025150                             43      Female   \n",
       "6025165                             45      Female   \n",
       "6025173                             57        Male   \n",
       "6025182                             56        Male   \n",
       "6025198                             67        Male   \n",
       "\n",
       "        ethnic_background_f21000_0_0  \n",
       "eid                                   \n",
       "1000018                      British  \n",
       "1000020                      British  \n",
       "1000037                      British  \n",
       "1000043                      British  \n",
       "1000051                      British  \n",
       "...                              ...  \n",
       "6025150                      British  \n",
       "6025165                      British  \n",
       "6025173                      British  \n",
       "6025182                      British  \n",
       "6025198                      British  \n",
       "\n",
       "[502460 rows x 3 columns]"
      ]
     },
     "execution_count": 6,
     "metadata": {},
     "output_type": "execute_result"
    }
   ],
   "source": [
    "data_covariates"
   ]
  },
  {
   "cell_type": "code",
   "execution_count": 7,
   "metadata": {
    "execution": {
     "iopub.execute_input": "2022-11-08T16:12:57.164918Z",
     "iopub.status.busy": "2022-11-08T16:12:57.164818Z",
     "iopub.status.idle": "2022-11-08T16:12:57.170452Z",
     "shell.execute_reply": "2022-11-08T16:12:57.170118Z",
     "shell.execute_reply.started": "2022-11-08T16:12:57.164905Z"
    }
   },
   "outputs": [
    {
     "data": {
      "text/plain": [
       "age_at_recruitment_f21022_0_0       0\n",
       "sex_f31_0_0                         0\n",
       "ethnic_background_f21000_0_0     7334\n",
       "dtype: int64"
      ]
     },
     "execution_count": 7,
     "metadata": {},
     "output_type": "execute_result"
    }
   ],
   "source": [
    "data_covariates.isna().sum(axis=0)"
   ]
  },
  {
   "cell_type": "code",
   "execution_count": 8,
   "metadata": {
    "execution": {
     "iopub.execute_input": "2022-11-08T16:12:57.171174Z",
     "iopub.status.busy": "2022-11-08T16:12:57.171072Z",
     "iopub.status.idle": "2022-11-08T16:12:57.203378Z",
     "shell.execute_reply": "2022-11-08T16:12:57.202997Z",
     "shell.execute_reply.started": "2022-11-08T16:12:57.171162Z"
    }
   },
   "outputs": [
    {
     "data": {
      "text/html": [
       "<div>\n",
       "<style scoped>\n",
       "    .dataframe tbody tr th:only-of-type {\n",
       "        vertical-align: middle;\n",
       "    }\n",
       "\n",
       "    .dataframe tbody tr th {\n",
       "        vertical-align: top;\n",
       "    }\n",
       "\n",
       "    .dataframe thead th {\n",
       "        text-align: right;\n",
       "    }\n",
       "</style>\n",
       "<table border=\"1\" class=\"dataframe\">\n",
       "  <thead>\n",
       "    <tr style=\"text-align: right;\">\n",
       "      <th></th>\n",
       "      <th>age_at_recruitment_f21022_0_0</th>\n",
       "      <th>sex_f31_0_0</th>\n",
       "      <th>ethnic_background_f21000_0_0</th>\n",
       "    </tr>\n",
       "  </thead>\n",
       "  <tbody>\n",
       "    <tr>\n",
       "      <th>count</th>\n",
       "      <td>502460.000000</td>\n",
       "      <td>502460</td>\n",
       "      <td>495126</td>\n",
       "    </tr>\n",
       "    <tr>\n",
       "      <th>unique</th>\n",
       "      <td>NaN</td>\n",
       "      <td>2</td>\n",
       "      <td>19</td>\n",
       "    </tr>\n",
       "    <tr>\n",
       "      <th>top</th>\n",
       "      <td>NaN</td>\n",
       "      <td>Female</td>\n",
       "      <td>British</td>\n",
       "    </tr>\n",
       "    <tr>\n",
       "      <th>freq</th>\n",
       "      <td>NaN</td>\n",
       "      <td>273353</td>\n",
       "      <td>442551</td>\n",
       "    </tr>\n",
       "    <tr>\n",
       "      <th>mean</th>\n",
       "      <td>56.528924</td>\n",
       "      <td>NaN</td>\n",
       "      <td>NaN</td>\n",
       "    </tr>\n",
       "    <tr>\n",
       "      <th>std</th>\n",
       "      <td>8.095128</td>\n",
       "      <td>NaN</td>\n",
       "      <td>NaN</td>\n",
       "    </tr>\n",
       "    <tr>\n",
       "      <th>min</th>\n",
       "      <td>37.000000</td>\n",
       "      <td>NaN</td>\n",
       "      <td>NaN</td>\n",
       "    </tr>\n",
       "    <tr>\n",
       "      <th>25%</th>\n",
       "      <td>50.000000</td>\n",
       "      <td>NaN</td>\n",
       "      <td>NaN</td>\n",
       "    </tr>\n",
       "    <tr>\n",
       "      <th>50%</th>\n",
       "      <td>58.000000</td>\n",
       "      <td>NaN</td>\n",
       "      <td>NaN</td>\n",
       "    </tr>\n",
       "    <tr>\n",
       "      <th>75%</th>\n",
       "      <td>63.000000</td>\n",
       "      <td>NaN</td>\n",
       "      <td>NaN</td>\n",
       "    </tr>\n",
       "    <tr>\n",
       "      <th>max</th>\n",
       "      <td>73.000000</td>\n",
       "      <td>NaN</td>\n",
       "      <td>NaN</td>\n",
       "    </tr>\n",
       "  </tbody>\n",
       "</table>\n",
       "</div>"
      ],
      "text/plain": [
       "        age_at_recruitment_f21022_0_0 sex_f31_0_0 ethnic_background_f21000_0_0\n",
       "count                   502460.000000      502460                       495126\n",
       "unique                            NaN           2                           19\n",
       "top                               NaN      Female                      British\n",
       "freq                              NaN      273353                       442551\n",
       "mean                        56.528924         NaN                          NaN\n",
       "std                          8.095128         NaN                          NaN\n",
       "min                         37.000000         NaN                          NaN\n",
       "25%                         50.000000         NaN                          NaN\n",
       "50%                         58.000000         NaN                          NaN\n",
       "75%                         63.000000         NaN                          NaN\n",
       "max                         73.000000         NaN                          NaN"
      ]
     },
     "execution_count": 8,
     "metadata": {},
     "output_type": "execute_result"
    }
   ],
   "source": [
    "data_covariates.describe(include=\"all\")"
   ]
  },
  {
   "cell_type": "code",
   "execution_count": null,
   "metadata": {},
   "outputs": [],
   "source": []
  },
  {
   "cell_type": "code",
   "execution_count": null,
   "metadata": {},
   "outputs": [],
   "source": []
  }
 ],
 "metadata": {
  "kernelspec": {
   "display_name": "retrisk",
   "language": "python",
   "name": "retrisk"
  },
  "language_info": {
   "codemirror_mode": {
    "name": "ipython",
    "version": 3
   },
   "file_extension": ".py",
   "mimetype": "text/x-python",
   "name": "python",
   "nbconvert_exporter": "python",
   "pygments_lexer": "ipython3",
   "version": "3.9.7"
  },
  "toc-autonumbering": false
 },
 "nbformat": 4,
 "nbformat_minor": 4
}
