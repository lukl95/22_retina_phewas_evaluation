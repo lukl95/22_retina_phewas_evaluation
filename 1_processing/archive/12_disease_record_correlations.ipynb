{
 "cells": [
  {
   "cell_type": "markdown",
   "metadata": {},
   "source": [
    "# Benchmarks"
   ]
  },
  {
   "cell_type": "markdown",
   "metadata": {},
   "source": [
    "## Initialize"
   ]
  },
  {
   "cell_type": "code",
   "execution_count": 1,
   "metadata": {
    "ExecuteTime": {
     "end_time": "2021-01-05T11:03:10.491477Z",
     "start_time": "2021-01-05T11:03:10.445Z"
    },
    "execution": {
     "iopub.execute_input": "2022-04-28T13:21:40.246843Z",
     "iopub.status.busy": "2022-04-28T13:21:40.246683Z",
     "iopub.status.idle": "2022-04-28T13:21:42.774300Z",
     "shell.execute_reply": "2022-04-28T13:21:42.773933Z",
     "shell.execute_reply.started": "2022-04-28T13:21:40.246804Z"
    },
    "tags": []
   },
   "outputs": [],
   "source": [
    "import os\n",
    "import math\n",
    "import pathlib\n",
    "import numpy as np\n",
    "import pandas as pd\n",
    "from tqdm.auto import tqdm\n",
    "from IPython.display import clear_output\n",
    "\n",
    "import warnings\n",
    "from lifelines.utils import CensoringType\n",
    "from lifelines.utils import concordance_index"
   ]
  },
  {
   "cell_type": "code",
   "execution_count": 2,
   "metadata": {
    "execution": {
     "iopub.execute_input": "2022-04-28T13:21:43.354549Z",
     "iopub.status.busy": "2022-04-28T13:21:43.354390Z",
     "iopub.status.idle": "2022-04-28T13:21:43.370188Z",
     "shell.execute_reply": "2022-04-28T13:21:43.369789Z",
     "shell.execute_reply.started": "2022-04-28T13:21:43.354536Z"
    },
    "tags": []
   },
   "outputs": [
    {
     "name": "stdout",
     "output_type": "stream",
     "text": [
      "/sc-projects/sc-proj-ukb-cvd\n"
     ]
    }
   ],
   "source": [
    "node = !hostname\n",
    "if \"sc\" in node[0]:\n",
    "    base_path = \"/sc-projects/sc-proj-ukb-cvd\"\n",
    "else: \n",
    "    base_path = \"/data/analysis/ag-reils/ag-reils-shared/cardioRS\"\n",
    "print(base_path)\n",
    "\n",
    "project_label = \"22_medical_records\"\n",
    "project_path = f\"{base_path}/results/projects/{project_label}\"\n",
    "figure_path = f\"{project_path}/figures\"\n",
    "output_path = f\"{project_path}/data\"\n",
    "\n",
    "experiment = 220413\n",
    "experiment_path = f\"{output_path}/{experiment}\"\n",
    "pathlib.Path(experiment_path).mkdir(parents=True, exist_ok=True)"
   ]
  },
  {
   "cell_type": "code",
   "execution_count": 3,
   "metadata": {
    "execution": {
     "iopub.execute_input": "2022-04-28T13:21:43.547772Z",
     "iopub.status.busy": "2022-04-28T13:21:43.547555Z",
     "iopub.status.idle": "2022-04-28T13:21:43.577176Z",
     "shell.execute_reply": "2022-04-28T13:21:43.576754Z",
     "shell.execute_reply.started": "2022-04-28T13:21:43.547744Z"
    },
    "tags": []
   },
   "outputs": [],
   "source": [
    "endpoint_defs = pd.read_feather(f\"{output_path}/phecode_defs_220306.feather\").sort_values(\"endpoint\")"
   ]
  },
  {
   "cell_type": "code",
   "execution_count": 4,
   "metadata": {
    "execution": {
     "iopub.execute_input": "2022-04-28T13:21:43.730254Z",
     "iopub.status.busy": "2022-04-28T13:21:43.730014Z",
     "iopub.status.idle": "2022-04-28T13:21:43.732768Z",
     "shell.execute_reply": "2022-04-28T13:21:43.732468Z",
     "shell.execute_reply.started": "2022-04-28T13:21:43.730226Z"
    },
    "tags": []
   },
   "outputs": [],
   "source": [
    "#endpoints = [e[:-6] for e in data_outcomes.columns if \"_event\" in e]\n",
    "endpoints = [\n",
    "    \"phecode_008\",\n",
    "    \"phecode_092-2\",\n",
    "    \"phecode_105\",\n",
    "    \"phecode_107-2\",\n",
    "    \"phecode_164\",\n",
    "    \"phecode_202-2\",\n",
    "    \"phecode_284\",\n",
    "    \"phecode_292\",\n",
    "    \"phecode_324-11\",\n",
    "    \"phecode_328\",\n",
    "    \"phecode_371\",\n",
    "    \"phecode_401\",\n",
    "    \"phecode_404\",\n",
    "    \"phecode_424\",\n",
    "    \"phecode_440-11\",\n",
    "    \"phecode_468\",\n",
    "    \"phecode_474\",\n",
    "    \"phecode_522-1\",\n",
    "    \"phecode_542-1\",\n",
    "    \"phecode_581-1\",\n",
    "    \"phecode_583\",\n",
    "    \"phecode_665\",\n",
    "    \"phecode_705-1\",\n",
    "    \"OMOP_4306655\"  \n",
    "]"
   ]
  },
  {
   "cell_type": "code",
   "execution_count": 5,
   "metadata": {
    "execution": {
     "iopub.execute_input": "2022-04-28T13:21:43.943416Z",
     "iopub.status.busy": "2022-04-28T13:21:43.943300Z",
     "iopub.status.idle": "2022-04-28T13:21:46.079708Z",
     "shell.execute_reply": "2022-04-28T13:21:46.079132Z",
     "shell.execute_reply.started": "2022-04-28T13:21:43.943402Z"
    },
    "tags": []
   },
   "outputs": [],
   "source": [
    "data_outcomes = pd.read_feather(f\"{output_path}/baseline_outcomes_220412.feather\").set_index(\"eid\")\n",
    "data_outcomes = data_outcomes[[c for c in data_outcomes.columns if \"_event\" in c and c[:-6] in endpoints]]"
   ]
  },
  {
   "cell_type": "code",
   "execution_count": 6,
   "metadata": {
    "execution": {
     "iopub.execute_input": "2022-04-28T13:21:46.080814Z",
     "iopub.status.busy": "2022-04-28T13:21:46.080707Z",
     "iopub.status.idle": "2022-04-28T13:21:46.194212Z",
     "shell.execute_reply": "2022-04-28T13:21:46.193796Z",
     "shell.execute_reply.started": "2022-04-28T13:21:46.080801Z"
    },
    "tags": []
   },
   "outputs": [],
   "source": [
    "data_shap = pd.read_feather(f\"{experiment_path}/shap_local.feather\")\n",
    "records = [r for r in data_shap.record if \n",
    "           \"age_at_recruitment_f21022_0_0\" not in r and\n",
    "           \"sex_f31_0_0_Female\" not in r and\n",
    "           \"sex_f31_0_0_Male\" not in r and\n",
    "           \"phecode_\" not in r]"
   ]
  },
  {
   "cell_type": "code",
   "execution_count": 7,
   "metadata": {
    "execution": {
     "iopub.execute_input": "2022-04-28T13:21:46.194863Z",
     "iopub.status.busy": "2022-04-28T13:21:46.194767Z",
     "iopub.status.idle": "2022-04-28T13:21:50.515761Z",
     "shell.execute_reply": "2022-04-28T13:21:50.515302Z",
     "shell.execute_reply.started": "2022-04-28T13:21:46.194850Z"
    },
    "tags": []
   },
   "outputs": [],
   "source": [
    "data_records = pd.read_feather(f\"{output_path}/baseline_records_220412.feather\", columns=[\"eid\"] + records).set_index(\"eid\")"
   ]
  },
  {
   "cell_type": "code",
   "execution_count": 8,
   "metadata": {
    "execution": {
     "iopub.execute_input": "2022-04-28T13:21:50.516914Z",
     "iopub.status.busy": "2022-04-28T13:21:50.516819Z",
     "iopub.status.idle": "2022-04-28T13:21:51.578776Z",
     "shell.execute_reply": "2022-04-28T13:21:51.578325Z",
     "shell.execute_reply.started": "2022-04-28T13:21:50.516902Z"
    },
    "tags": []
   },
   "outputs": [],
   "source": [
    "data_all = data_records.merge(data_outcomes, left_index=True, right_index=True, how=\"left\")"
   ]
  },
  {
   "cell_type": "code",
   "execution_count": 9,
   "metadata": {
    "execution": {
     "iopub.execute_input": "2022-04-28T13:21:51.579434Z",
     "iopub.status.busy": "2022-04-28T13:21:51.579342Z",
     "iopub.status.idle": "2022-04-28T13:21:51.614403Z",
     "shell.execute_reply": "2022-04-28T13:21:51.614032Z",
     "shell.execute_reply.started": "2022-04-28T13:21:51.579422Z"
    },
    "tags": []
   },
   "outputs": [
    {
     "data": {
      "text/html": [
       "<div>\n",
       "<style scoped>\n",
       "    .dataframe tbody tr th:only-of-type {\n",
       "        vertical-align: middle;\n",
       "    }\n",
       "\n",
       "    .dataframe tbody tr th {\n",
       "        vertical-align: top;\n",
       "    }\n",
       "\n",
       "    .dataframe thead th {\n",
       "        text-align: right;\n",
       "    }\n",
       "</style>\n",
       "<table border=\"1\" class=\"dataframe\">\n",
       "  <thead>\n",
       "    <tr style=\"text-align: right;\">\n",
       "      <th></th>\n",
       "      <th>OMOP_1000560</th>\n",
       "      <th>OMOP_1000632</th>\n",
       "      <th>OMOP_1000772</th>\n",
       "      <th>OMOP_1000995</th>\n",
       "      <th>OMOP_1036157</th>\n",
       "      <th>OMOP_1036228</th>\n",
       "      <th>OMOP_1036252</th>\n",
       "      <th>OMOP_1036487</th>\n",
       "      <th>OMOP_1036525</th>\n",
       "      <th>OMOP_1036690</th>\n",
       "      <th>...</th>\n",
       "      <th>phecode_424_event</th>\n",
       "      <th>phecode_328_event</th>\n",
       "      <th>phecode_468_event</th>\n",
       "      <th>phecode_440-11_event</th>\n",
       "      <th>phecode_284_event</th>\n",
       "      <th>phecode_008_event</th>\n",
       "      <th>phecode_092-2_event</th>\n",
       "      <th>phecode_581-1_event</th>\n",
       "      <th>phecode_292_event</th>\n",
       "      <th>phecode_542-1_event</th>\n",
       "    </tr>\n",
       "    <tr>\n",
       "      <th>eid</th>\n",
       "      <th></th>\n",
       "      <th></th>\n",
       "      <th></th>\n",
       "      <th></th>\n",
       "      <th></th>\n",
       "      <th></th>\n",
       "      <th></th>\n",
       "      <th></th>\n",
       "      <th></th>\n",
       "      <th></th>\n",
       "      <th></th>\n",
       "      <th></th>\n",
       "      <th></th>\n",
       "      <th></th>\n",
       "      <th></th>\n",
       "      <th></th>\n",
       "      <th></th>\n",
       "      <th></th>\n",
       "      <th></th>\n",
       "      <th></th>\n",
       "      <th></th>\n",
       "    </tr>\n",
       "  </thead>\n",
       "  <tbody>\n",
       "    <tr>\n",
       "      <th>1000018</th>\n",
       "      <td>False</td>\n",
       "      <td>False</td>\n",
       "      <td>False</td>\n",
       "      <td>False</td>\n",
       "      <td>False</td>\n",
       "      <td>False</td>\n",
       "      <td>False</td>\n",
       "      <td>False</td>\n",
       "      <td>False</td>\n",
       "      <td>False</td>\n",
       "      <td>...</td>\n",
       "      <td>False</td>\n",
       "      <td>False</td>\n",
       "      <td>False</td>\n",
       "      <td>False</td>\n",
       "      <td>False</td>\n",
       "      <td>False</td>\n",
       "      <td>False</td>\n",
       "      <td>False</td>\n",
       "      <td>False</td>\n",
       "      <td>False</td>\n",
       "    </tr>\n",
       "    <tr>\n",
       "      <th>1000020</th>\n",
       "      <td>False</td>\n",
       "      <td>False</td>\n",
       "      <td>False</td>\n",
       "      <td>False</td>\n",
       "      <td>False</td>\n",
       "      <td>False</td>\n",
       "      <td>False</td>\n",
       "      <td>False</td>\n",
       "      <td>False</td>\n",
       "      <td>False</td>\n",
       "      <td>...</td>\n",
       "      <td>False</td>\n",
       "      <td>False</td>\n",
       "      <td>False</td>\n",
       "      <td>False</td>\n",
       "      <td>False</td>\n",
       "      <td>False</td>\n",
       "      <td>False</td>\n",
       "      <td>False</td>\n",
       "      <td>False</td>\n",
       "      <td>False</td>\n",
       "    </tr>\n",
       "    <tr>\n",
       "      <th>1000037</th>\n",
       "      <td>False</td>\n",
       "      <td>False</td>\n",
       "      <td>False</td>\n",
       "      <td>False</td>\n",
       "      <td>False</td>\n",
       "      <td>False</td>\n",
       "      <td>False</td>\n",
       "      <td>False</td>\n",
       "      <td>False</td>\n",
       "      <td>False</td>\n",
       "      <td>...</td>\n",
       "      <td>False</td>\n",
       "      <td>False</td>\n",
       "      <td>False</td>\n",
       "      <td>False</td>\n",
       "      <td>False</td>\n",
       "      <td>False</td>\n",
       "      <td>False</td>\n",
       "      <td>False</td>\n",
       "      <td>False</td>\n",
       "      <td>False</td>\n",
       "    </tr>\n",
       "    <tr>\n",
       "      <th>1000043</th>\n",
       "      <td>False</td>\n",
       "      <td>True</td>\n",
       "      <td>False</td>\n",
       "      <td>False</td>\n",
       "      <td>False</td>\n",
       "      <td>False</td>\n",
       "      <td>False</td>\n",
       "      <td>False</td>\n",
       "      <td>False</td>\n",
       "      <td>False</td>\n",
       "      <td>...</td>\n",
       "      <td>False</td>\n",
       "      <td>False</td>\n",
       "      <td>True</td>\n",
       "      <td>False</td>\n",
       "      <td>False</td>\n",
       "      <td>False</td>\n",
       "      <td>False</td>\n",
       "      <td>False</td>\n",
       "      <td>False</td>\n",
       "      <td>False</td>\n",
       "    </tr>\n",
       "    <tr>\n",
       "      <th>1000051</th>\n",
       "      <td>False</td>\n",
       "      <td>False</td>\n",
       "      <td>False</td>\n",
       "      <td>False</td>\n",
       "      <td>False</td>\n",
       "      <td>False</td>\n",
       "      <td>False</td>\n",
       "      <td>False</td>\n",
       "      <td>False</td>\n",
       "      <td>False</td>\n",
       "      <td>...</td>\n",
       "      <td>False</td>\n",
       "      <td>False</td>\n",
       "      <td>False</td>\n",
       "      <td>False</td>\n",
       "      <td>False</td>\n",
       "      <td>False</td>\n",
       "      <td>False</td>\n",
       "      <td>False</td>\n",
       "      <td>False</td>\n",
       "      <td>False</td>\n",
       "    </tr>\n",
       "    <tr>\n",
       "      <th>...</th>\n",
       "      <td>...</td>\n",
       "      <td>...</td>\n",
       "      <td>...</td>\n",
       "      <td>...</td>\n",
       "      <td>...</td>\n",
       "      <td>...</td>\n",
       "      <td>...</td>\n",
       "      <td>...</td>\n",
       "      <td>...</td>\n",
       "      <td>...</td>\n",
       "      <td>...</td>\n",
       "      <td>...</td>\n",
       "      <td>...</td>\n",
       "      <td>...</td>\n",
       "      <td>...</td>\n",
       "      <td>...</td>\n",
       "      <td>...</td>\n",
       "      <td>...</td>\n",
       "      <td>...</td>\n",
       "      <td>...</td>\n",
       "      <td>...</td>\n",
       "    </tr>\n",
       "    <tr>\n",
       "      <th>6025150</th>\n",
       "      <td>False</td>\n",
       "      <td>False</td>\n",
       "      <td>False</td>\n",
       "      <td>False</td>\n",
       "      <td>False</td>\n",
       "      <td>False</td>\n",
       "      <td>False</td>\n",
       "      <td>False</td>\n",
       "      <td>False</td>\n",
       "      <td>False</td>\n",
       "      <td>...</td>\n",
       "      <td>False</td>\n",
       "      <td>False</td>\n",
       "      <td>False</td>\n",
       "      <td>False</td>\n",
       "      <td>False</td>\n",
       "      <td>False</td>\n",
       "      <td>False</td>\n",
       "      <td>False</td>\n",
       "      <td>False</td>\n",
       "      <td>False</td>\n",
       "    </tr>\n",
       "    <tr>\n",
       "      <th>6025165</th>\n",
       "      <td>False</td>\n",
       "      <td>True</td>\n",
       "      <td>False</td>\n",
       "      <td>False</td>\n",
       "      <td>False</td>\n",
       "      <td>False</td>\n",
       "      <td>False</td>\n",
       "      <td>False</td>\n",
       "      <td>False</td>\n",
       "      <td>False</td>\n",
       "      <td>...</td>\n",
       "      <td>False</td>\n",
       "      <td>False</td>\n",
       "      <td>False</td>\n",
       "      <td>False</td>\n",
       "      <td>False</td>\n",
       "      <td>False</td>\n",
       "      <td>False</td>\n",
       "      <td>False</td>\n",
       "      <td>False</td>\n",
       "      <td>False</td>\n",
       "    </tr>\n",
       "    <tr>\n",
       "      <th>6025173</th>\n",
       "      <td>False</td>\n",
       "      <td>False</td>\n",
       "      <td>False</td>\n",
       "      <td>False</td>\n",
       "      <td>False</td>\n",
       "      <td>False</td>\n",
       "      <td>False</td>\n",
       "      <td>False</td>\n",
       "      <td>False</td>\n",
       "      <td>False</td>\n",
       "      <td>...</td>\n",
       "      <td>False</td>\n",
       "      <td>False</td>\n",
       "      <td>False</td>\n",
       "      <td>False</td>\n",
       "      <td>False</td>\n",
       "      <td>False</td>\n",
       "      <td>False</td>\n",
       "      <td>False</td>\n",
       "      <td>False</td>\n",
       "      <td>False</td>\n",
       "    </tr>\n",
       "    <tr>\n",
       "      <th>6025182</th>\n",
       "      <td>False</td>\n",
       "      <td>False</td>\n",
       "      <td>False</td>\n",
       "      <td>False</td>\n",
       "      <td>False</td>\n",
       "      <td>False</td>\n",
       "      <td>False</td>\n",
       "      <td>False</td>\n",
       "      <td>False</td>\n",
       "      <td>False</td>\n",
       "      <td>...</td>\n",
       "      <td>False</td>\n",
       "      <td>False</td>\n",
       "      <td>False</td>\n",
       "      <td>False</td>\n",
       "      <td>False</td>\n",
       "      <td>False</td>\n",
       "      <td>False</td>\n",
       "      <td>False</td>\n",
       "      <td>False</td>\n",
       "      <td>False</td>\n",
       "    </tr>\n",
       "    <tr>\n",
       "      <th>6025198</th>\n",
       "      <td>False</td>\n",
       "      <td>False</td>\n",
       "      <td>False</td>\n",
       "      <td>False</td>\n",
       "      <td>False</td>\n",
       "      <td>False</td>\n",
       "      <td>False</td>\n",
       "      <td>False</td>\n",
       "      <td>False</td>\n",
       "      <td>False</td>\n",
       "      <td>...</td>\n",
       "      <td>False</td>\n",
       "      <td>False</td>\n",
       "      <td>False</td>\n",
       "      <td>False</td>\n",
       "      <td>False</td>\n",
       "      <td>False</td>\n",
       "      <td>False</td>\n",
       "      <td>False</td>\n",
       "      <td>False</td>\n",
       "      <td>False</td>\n",
       "    </tr>\n",
       "  </tbody>\n",
       "</table>\n",
       "<p>502460 rows × 19390 columns</p>\n",
       "</div>"
      ],
      "text/plain": [
       "         OMOP_1000560  OMOP_1000632  OMOP_1000772  OMOP_1000995  OMOP_1036157  \\\n",
       "eid                                                                             \n",
       "1000018         False         False         False         False         False   \n",
       "1000020         False         False         False         False         False   \n",
       "1000037         False         False         False         False         False   \n",
       "1000043         False          True         False         False         False   \n",
       "1000051         False         False         False         False         False   \n",
       "...               ...           ...           ...           ...           ...   \n",
       "6025150         False         False         False         False         False   \n",
       "6025165         False          True         False         False         False   \n",
       "6025173         False         False         False         False         False   \n",
       "6025182         False         False         False         False         False   \n",
       "6025198         False         False         False         False         False   \n",
       "\n",
       "         OMOP_1036228  OMOP_1036252  OMOP_1036487  OMOP_1036525  OMOP_1036690  \\\n",
       "eid                                                                             \n",
       "1000018         False         False         False         False         False   \n",
       "1000020         False         False         False         False         False   \n",
       "1000037         False         False         False         False         False   \n",
       "1000043         False         False         False         False         False   \n",
       "1000051         False         False         False         False         False   \n",
       "...               ...           ...           ...           ...           ...   \n",
       "6025150         False         False         False         False         False   \n",
       "6025165         False         False         False         False         False   \n",
       "6025173         False         False         False         False         False   \n",
       "6025182         False         False         False         False         False   \n",
       "6025198         False         False         False         False         False   \n",
       "\n",
       "         ...  phecode_424_event  phecode_328_event  phecode_468_event  \\\n",
       "eid      ...                                                            \n",
       "1000018  ...              False              False              False   \n",
       "1000020  ...              False              False              False   \n",
       "1000037  ...              False              False              False   \n",
       "1000043  ...              False              False               True   \n",
       "1000051  ...              False              False              False   \n",
       "...      ...                ...                ...                ...   \n",
       "6025150  ...              False              False              False   \n",
       "6025165  ...              False              False              False   \n",
       "6025173  ...              False              False              False   \n",
       "6025182  ...              False              False              False   \n",
       "6025198  ...              False              False              False   \n",
       "\n",
       "         phecode_440-11_event  phecode_284_event  phecode_008_event  \\\n",
       "eid                                                                   \n",
       "1000018                 False              False              False   \n",
       "1000020                 False              False              False   \n",
       "1000037                 False              False              False   \n",
       "1000043                 False              False              False   \n",
       "1000051                 False              False              False   \n",
       "...                       ...                ...                ...   \n",
       "6025150                 False              False              False   \n",
       "6025165                 False              False              False   \n",
       "6025173                 False              False              False   \n",
       "6025182                 False              False              False   \n",
       "6025198                 False              False              False   \n",
       "\n",
       "         phecode_092-2_event  phecode_581-1_event  phecode_292_event  \\\n",
       "eid                                                                    \n",
       "1000018                False                False              False   \n",
       "1000020                False                False              False   \n",
       "1000037                False                False              False   \n",
       "1000043                False                False              False   \n",
       "1000051                False                False              False   \n",
       "...                      ...                  ...                ...   \n",
       "6025150                False                False              False   \n",
       "6025165                False                False              False   \n",
       "6025173                False                False              False   \n",
       "6025182                False                False              False   \n",
       "6025198                False                False              False   \n",
       "\n",
       "         phecode_542-1_event  \n",
       "eid                           \n",
       "1000018                False  \n",
       "1000020                False  \n",
       "1000037                False  \n",
       "1000043                False  \n",
       "1000051                False  \n",
       "...                      ...  \n",
       "6025150                False  \n",
       "6025165                False  \n",
       "6025173                False  \n",
       "6025182                False  \n",
       "6025198                False  \n",
       "\n",
       "[502460 rows x 19390 columns]"
      ]
     },
     "execution_count": 9,
     "metadata": {},
     "output_type": "execute_result"
    }
   ],
   "source": [
    "data_all"
   ]
  },
  {
   "cell_type": "code",
   "execution_count": 10,
   "metadata": {
    "execution": {
     "iopub.execute_input": "2022-04-28T13:21:51.615023Z",
     "iopub.status.busy": "2022-04-28T13:21:51.614934Z",
     "iopub.status.idle": "2022-04-28T13:21:59.210916Z",
     "shell.execute_reply": "2022-04-28T13:21:59.210386Z",
     "shell.execute_reply.started": "2022-04-28T13:21:51.615011Z"
    },
    "tags": []
   },
   "outputs": [],
   "source": [
    "eligable_eids = pd.read_feather(f\"{output_path}/eligable_eids_220414.feather\")\n",
    "eids_dict = eligable_eids.set_index(\"endpoint\")[\"eid_list\"].to_dict()"
   ]
  },
  {
   "cell_type": "code",
   "execution_count": 11,
   "metadata": {
    "execution": {
     "iopub.execute_input": "2022-04-28T13:21:59.211735Z",
     "iopub.status.busy": "2022-04-28T13:21:59.211636Z",
     "iopub.status.idle": "2022-04-28T13:22:03.116231Z",
     "shell.execute_reply": "2022-04-28T13:22:03.115812Z",
     "shell.execute_reply.started": "2022-04-28T13:21:59.211723Z"
    },
    "tags": []
   },
   "outputs": [
    {
     "data": {
      "text/plain": [
       "OMOP_4081598     0.615561\n",
       "OMOP_4052351     0.540684\n",
       "OMOP_4061103     0.527156\n",
       "OMOP_4144272     0.493337\n",
       "OMOP_4057411     0.443337\n",
       "                   ...   \n",
       "OMOP_40482194    0.000050\n",
       "OMOP_4113107     0.000050\n",
       "OMOP_4122590     0.000050\n",
       "OMOP_434951      0.000050\n",
       "OMOP_4306655     0.000014\n",
       "Length: 19366, dtype: float64"
      ]
     },
     "execution_count": 11,
     "metadata": {},
     "output_type": "execute_result"
    }
   ],
   "source": [
    "record_freqs = data_records.mean().sort_values(ascending=False)\n",
    "record_freqs"
   ]
  },
  {
   "cell_type": "code",
   "execution_count": 12,
   "metadata": {
    "execution": {
     "iopub.execute_input": "2022-04-28T13:22:03.116914Z",
     "iopub.status.busy": "2022-04-28T13:22:03.116823Z",
     "iopub.status.idle": "2022-04-28T22:55:23.260786Z",
     "shell.execute_reply": "2022-04-28T22:55:23.259847Z",
     "shell.execute_reply.started": "2022-04-28T13:22:03.116902Z"
    }
   },
   "outputs": [],
   "source": [
    "from nancorrmp.nancorrmp import NaNCorrMp\n",
    "corr_df = NaNCorrMp.calculate(data_all, n_jobs=32, chunks=1000)"
   ]
  },
  {
   "cell_type": "code",
   "execution_count": 16,
   "metadata": {
    "execution": {
     "iopub.execute_input": "2022-04-29T07:47:03.483344Z",
     "iopub.status.busy": "2022-04-29T07:47:03.483042Z",
     "iopub.status.idle": "2022-04-29T07:47:28.152588Z",
     "shell.execute_reply": "2022-04-29T07:47:28.151619Z",
     "shell.execute_reply.started": "2022-04-29T07:47:03.483324Z"
    },
    "tags": []
   },
   "outputs": [],
   "source": [
    "corr_df.reset_index().to_feather(f\"{experiment_path}/corr.feather\")"
   ]
  },
  {
   "cell_type": "code",
   "execution_count": 17,
   "metadata": {
    "execution": {
     "iopub.execute_input": "2022-04-29T07:47:41.117366Z",
     "iopub.status.busy": "2022-04-29T07:47:41.116854Z",
     "iopub.status.idle": "2022-04-29T07:47:41.121951Z",
     "shell.execute_reply": "2022-04-29T07:47:41.121347Z",
     "shell.execute_reply.started": "2022-04-29T07:47:41.117344Z"
    }
   },
   "outputs": [
    {
     "data": {
      "text/plain": [
       "'/sc-projects/sc-proj-ukb-cvd/results/projects/22_medical_records/data/220413/corr.feather'"
      ]
     },
     "execution_count": 17,
     "metadata": {},
     "output_type": "execute_result"
    }
   ],
   "source": [
    "f\"{experiment_path}/corr.feather\""
   ]
  },
  {
   "cell_type": "code",
   "execution_count": 15,
   "metadata": {
    "execution": {
     "iopub.execute_input": "2022-04-29T07:46:39.581358Z",
     "iopub.status.busy": "2022-04-29T07:46:39.581034Z",
     "iopub.status.idle": "2022-04-29T07:46:41.807980Z",
     "shell.execute_reply": "2022-04-29T07:46:41.807281Z",
     "shell.execute_reply.started": "2022-04-29T07:46:39.581336Z"
    }
   },
   "outputs": [
    {
     "data": {
      "text/html": [
       "<div>\n",
       "<style scoped>\n",
       "    .dataframe tbody tr th:only-of-type {\n",
       "        vertical-align: middle;\n",
       "    }\n",
       "\n",
       "    .dataframe tbody tr th {\n",
       "        vertical-align: top;\n",
       "    }\n",
       "\n",
       "    .dataframe thead th {\n",
       "        text-align: right;\n",
       "    }\n",
       "</style>\n",
       "<table border=\"1\" class=\"dataframe\">\n",
       "  <thead>\n",
       "    <tr style=\"text-align: right;\">\n",
       "      <th></th>\n",
       "      <th>index</th>\n",
       "      <th>OMOP_1000560</th>\n",
       "      <th>OMOP_1000632</th>\n",
       "      <th>OMOP_1000772</th>\n",
       "      <th>OMOP_1000995</th>\n",
       "      <th>OMOP_1036157</th>\n",
       "      <th>OMOP_1036228</th>\n",
       "      <th>OMOP_1036252</th>\n",
       "      <th>OMOP_1036487</th>\n",
       "      <th>OMOP_1036525</th>\n",
       "      <th>...</th>\n",
       "      <th>phecode_424_event</th>\n",
       "      <th>phecode_328_event</th>\n",
       "      <th>phecode_468_event</th>\n",
       "      <th>phecode_440-11_event</th>\n",
       "      <th>phecode_284_event</th>\n",
       "      <th>phecode_008_event</th>\n",
       "      <th>phecode_092-2_event</th>\n",
       "      <th>phecode_581-1_event</th>\n",
       "      <th>phecode_292_event</th>\n",
       "      <th>phecode_542-1_event</th>\n",
       "    </tr>\n",
       "  </thead>\n",
       "  <tbody>\n",
       "    <tr>\n",
       "      <th>0</th>\n",
       "      <td>OMOP_1000560</td>\n",
       "      <td>1.000000</td>\n",
       "      <td>0.012527</td>\n",
       "      <td>0.041327</td>\n",
       "      <td>0.002898</td>\n",
       "      <td>-0.000337</td>\n",
       "      <td>0.009051</td>\n",
       "      <td>0.003080</td>\n",
       "      <td>0.003080</td>\n",
       "      <td>0.001118</td>\n",
       "      <td>...</td>\n",
       "      <td>0.008210</td>\n",
       "      <td>-0.000946</td>\n",
       "      <td>0.007735</td>\n",
       "      <td>0.008020</td>\n",
       "      <td>0.003997</td>\n",
       "      <td>0.000312</td>\n",
       "      <td>0.005506</td>\n",
       "      <td>0.001004</td>\n",
       "      <td>0.008724</td>\n",
       "      <td>0.004405</td>\n",
       "    </tr>\n",
       "    <tr>\n",
       "      <th>1</th>\n",
       "      <td>OMOP_1000632</td>\n",
       "      <td>0.012527</td>\n",
       "      <td>1.000000</td>\n",
       "      <td>0.006785</td>\n",
       "      <td>0.082518</td>\n",
       "      <td>0.006415</td>\n",
       "      <td>0.020247</td>\n",
       "      <td>0.047821</td>\n",
       "      <td>0.047821</td>\n",
       "      <td>0.040106</td>\n",
       "      <td>...</td>\n",
       "      <td>0.015130</td>\n",
       "      <td>0.007260</td>\n",
       "      <td>0.025319</td>\n",
       "      <td>0.012269</td>\n",
       "      <td>0.023195</td>\n",
       "      <td>0.020236</td>\n",
       "      <td>0.017388</td>\n",
       "      <td>0.023034</td>\n",
       "      <td>0.011331</td>\n",
       "      <td>0.008986</td>\n",
       "    </tr>\n",
       "    <tr>\n",
       "      <th>2</th>\n",
       "      <td>OMOP_1000772</td>\n",
       "      <td>0.041327</td>\n",
       "      <td>0.006785</td>\n",
       "      <td>1.000000</td>\n",
       "      <td>0.002274</td>\n",
       "      <td>-0.000129</td>\n",
       "      <td>0.016549</td>\n",
       "      <td>0.004912</td>\n",
       "      <td>0.004912</td>\n",
       "      <td>0.002850</td>\n",
       "      <td>...</td>\n",
       "      <td>0.005051</td>\n",
       "      <td>0.000623</td>\n",
       "      <td>0.004809</td>\n",
       "      <td>0.001149</td>\n",
       "      <td>0.001460</td>\n",
       "      <td>-0.000711</td>\n",
       "      <td>0.001669</td>\n",
       "      <td>-0.000599</td>\n",
       "      <td>-0.000320</td>\n",
       "      <td>-0.000418</td>\n",
       "    </tr>\n",
       "    <tr>\n",
       "      <th>3</th>\n",
       "      <td>OMOP_1000995</td>\n",
       "      <td>0.002898</td>\n",
       "      <td>0.082518</td>\n",
       "      <td>0.002274</td>\n",
       "      <td>1.000000</td>\n",
       "      <td>0.030364</td>\n",
       "      <td>0.006922</td>\n",
       "      <td>0.004444</td>\n",
       "      <td>0.004444</td>\n",
       "      <td>0.473181</td>\n",
       "      <td>...</td>\n",
       "      <td>0.012438</td>\n",
       "      <td>0.009589</td>\n",
       "      <td>0.014531</td>\n",
       "      <td>0.009313</td>\n",
       "      <td>0.010525</td>\n",
       "      <td>0.008431</td>\n",
       "      <td>0.011747</td>\n",
       "      <td>0.003861</td>\n",
       "      <td>0.004813</td>\n",
       "      <td>0.011583</td>\n",
       "    </tr>\n",
       "    <tr>\n",
       "      <th>4</th>\n",
       "      <td>OMOP_1036157</td>\n",
       "      <td>-0.000337</td>\n",
       "      <td>0.006415</td>\n",
       "      <td>-0.000129</td>\n",
       "      <td>0.030364</td>\n",
       "      <td>1.000000</td>\n",
       "      <td>-0.000417</td>\n",
       "      <td>-0.000662</td>\n",
       "      <td>-0.000662</td>\n",
       "      <td>0.014621</td>\n",
       "      <td>...</td>\n",
       "      <td>0.004062</td>\n",
       "      <td>0.003028</td>\n",
       "      <td>0.003788</td>\n",
       "      <td>0.001920</td>\n",
       "      <td>0.001131</td>\n",
       "      <td>-0.001248</td>\n",
       "      <td>0.002815</td>\n",
       "      <td>0.000851</td>\n",
       "      <td>-0.000562</td>\n",
       "      <td>-0.000734</td>\n",
       "    </tr>\n",
       "    <tr>\n",
       "      <th>...</th>\n",
       "      <td>...</td>\n",
       "      <td>...</td>\n",
       "      <td>...</td>\n",
       "      <td>...</td>\n",
       "      <td>...</td>\n",
       "      <td>...</td>\n",
       "      <td>...</td>\n",
       "      <td>...</td>\n",
       "      <td>...</td>\n",
       "      <td>...</td>\n",
       "      <td>...</td>\n",
       "      <td>...</td>\n",
       "      <td>...</td>\n",
       "      <td>...</td>\n",
       "      <td>...</td>\n",
       "      <td>...</td>\n",
       "      <td>...</td>\n",
       "      <td>...</td>\n",
       "      <td>...</td>\n",
       "      <td>...</td>\n",
       "      <td>...</td>\n",
       "    </tr>\n",
       "    <tr>\n",
       "      <th>19385</th>\n",
       "      <td>phecode_008_event</td>\n",
       "      <td>0.000312</td>\n",
       "      <td>0.020236</td>\n",
       "      <td>-0.000711</td>\n",
       "      <td>0.008431</td>\n",
       "      <td>-0.001248</td>\n",
       "      <td>0.001209</td>\n",
       "      <td>0.002978</td>\n",
       "      <td>0.002978</td>\n",
       "      <td>0.004396</td>\n",
       "      <td>...</td>\n",
       "      <td>0.005268</td>\n",
       "      <td>0.000928</td>\n",
       "      <td>0.006215</td>\n",
       "      <td>0.002399</td>\n",
       "      <td>0.007894</td>\n",
       "      <td>1.000000</td>\n",
       "      <td>0.006139</td>\n",
       "      <td>0.003966</td>\n",
       "      <td>0.007289</td>\n",
       "      <td>0.003919</td>\n",
       "    </tr>\n",
       "    <tr>\n",
       "      <th>19386</th>\n",
       "      <td>phecode_092-2_event</td>\n",
       "      <td>0.005506</td>\n",
       "      <td>0.017388</td>\n",
       "      <td>0.001669</td>\n",
       "      <td>0.011747</td>\n",
       "      <td>0.002815</td>\n",
       "      <td>0.005088</td>\n",
       "      <td>-0.000266</td>\n",
       "      <td>-0.000266</td>\n",
       "      <td>0.003981</td>\n",
       "      <td>...</td>\n",
       "      <td>0.049065</td>\n",
       "      <td>0.048720</td>\n",
       "      <td>0.116693</td>\n",
       "      <td>0.039307</td>\n",
       "      <td>0.015652</td>\n",
       "      <td>0.006139</td>\n",
       "      <td>1.000000</td>\n",
       "      <td>0.046090</td>\n",
       "      <td>0.002185</td>\n",
       "      <td>0.022959</td>\n",
       "    </tr>\n",
       "    <tr>\n",
       "      <th>19387</th>\n",
       "      <td>phecode_581-1_event</td>\n",
       "      <td>0.001004</td>\n",
       "      <td>0.023034</td>\n",
       "      <td>-0.000599</td>\n",
       "      <td>0.003861</td>\n",
       "      <td>0.000851</td>\n",
       "      <td>0.001180</td>\n",
       "      <td>0.008042</td>\n",
       "      <td>0.008042</td>\n",
       "      <td>0.001198</td>\n",
       "      <td>...</td>\n",
       "      <td>0.008335</td>\n",
       "      <td>0.002701</td>\n",
       "      <td>0.018008</td>\n",
       "      <td>0.005484</td>\n",
       "      <td>0.006753</td>\n",
       "      <td>0.003966</td>\n",
       "      <td>0.046090</td>\n",
       "      <td>1.000000</td>\n",
       "      <td>-0.001068</td>\n",
       "      <td>0.008971</td>\n",
       "    </tr>\n",
       "    <tr>\n",
       "      <th>19388</th>\n",
       "      <td>phecode_292_event</td>\n",
       "      <td>0.008724</td>\n",
       "      <td>0.011331</td>\n",
       "      <td>-0.000320</td>\n",
       "      <td>0.004813</td>\n",
       "      <td>-0.000562</td>\n",
       "      <td>0.002832</td>\n",
       "      <td>0.002013</td>\n",
       "      <td>0.002013</td>\n",
       "      <td>0.000627</td>\n",
       "      <td>...</td>\n",
       "      <td>0.003164</td>\n",
       "      <td>0.003569</td>\n",
       "      <td>0.007293</td>\n",
       "      <td>0.001656</td>\n",
       "      <td>0.023002</td>\n",
       "      <td>0.007289</td>\n",
       "      <td>0.002185</td>\n",
       "      <td>-0.001068</td>\n",
       "      <td>1.000000</td>\n",
       "      <td>0.008063</td>\n",
       "    </tr>\n",
       "    <tr>\n",
       "      <th>19389</th>\n",
       "      <td>phecode_542-1_event</td>\n",
       "      <td>0.004405</td>\n",
       "      <td>0.008986</td>\n",
       "      <td>-0.000418</td>\n",
       "      <td>0.011583</td>\n",
       "      <td>-0.000734</td>\n",
       "      <td>0.006057</td>\n",
       "      <td>0.002525</td>\n",
       "      <td>0.002525</td>\n",
       "      <td>0.008198</td>\n",
       "      <td>...</td>\n",
       "      <td>0.025124</td>\n",
       "      <td>0.005041</td>\n",
       "      <td>0.024945</td>\n",
       "      <td>0.007942</td>\n",
       "      <td>0.014781</td>\n",
       "      <td>0.003919</td>\n",
       "      <td>0.022959</td>\n",
       "      <td>0.008971</td>\n",
       "      <td>0.008063</td>\n",
       "      <td>1.000000</td>\n",
       "    </tr>\n",
       "  </tbody>\n",
       "</table>\n",
       "<p>19390 rows × 19391 columns</p>\n",
       "</div>"
      ],
      "text/plain": [
       "                     index  OMOP_1000560  OMOP_1000632  OMOP_1000772  \\\n",
       "0             OMOP_1000560      1.000000      0.012527      0.041327   \n",
       "1             OMOP_1000632      0.012527      1.000000      0.006785   \n",
       "2             OMOP_1000772      0.041327      0.006785      1.000000   \n",
       "3             OMOP_1000995      0.002898      0.082518      0.002274   \n",
       "4             OMOP_1036157     -0.000337      0.006415     -0.000129   \n",
       "...                    ...           ...           ...           ...   \n",
       "19385    phecode_008_event      0.000312      0.020236     -0.000711   \n",
       "19386  phecode_092-2_event      0.005506      0.017388      0.001669   \n",
       "19387  phecode_581-1_event      0.001004      0.023034     -0.000599   \n",
       "19388    phecode_292_event      0.008724      0.011331     -0.000320   \n",
       "19389  phecode_542-1_event      0.004405      0.008986     -0.000418   \n",
       "\n",
       "       OMOP_1000995  OMOP_1036157  OMOP_1036228  OMOP_1036252  OMOP_1036487  \\\n",
       "0          0.002898     -0.000337      0.009051      0.003080      0.003080   \n",
       "1          0.082518      0.006415      0.020247      0.047821      0.047821   \n",
       "2          0.002274     -0.000129      0.016549      0.004912      0.004912   \n",
       "3          1.000000      0.030364      0.006922      0.004444      0.004444   \n",
       "4          0.030364      1.000000     -0.000417     -0.000662     -0.000662   \n",
       "...             ...           ...           ...           ...           ...   \n",
       "19385      0.008431     -0.001248      0.001209      0.002978      0.002978   \n",
       "19386      0.011747      0.002815      0.005088     -0.000266     -0.000266   \n",
       "19387      0.003861      0.000851      0.001180      0.008042      0.008042   \n",
       "19388      0.004813     -0.000562      0.002832      0.002013      0.002013   \n",
       "19389      0.011583     -0.000734      0.006057      0.002525      0.002525   \n",
       "\n",
       "       OMOP_1036525  ...  phecode_424_event  phecode_328_event  \\\n",
       "0          0.001118  ...           0.008210          -0.000946   \n",
       "1          0.040106  ...           0.015130           0.007260   \n",
       "2          0.002850  ...           0.005051           0.000623   \n",
       "3          0.473181  ...           0.012438           0.009589   \n",
       "4          0.014621  ...           0.004062           0.003028   \n",
       "...             ...  ...                ...                ...   \n",
       "19385      0.004396  ...           0.005268           0.000928   \n",
       "19386      0.003981  ...           0.049065           0.048720   \n",
       "19387      0.001198  ...           0.008335           0.002701   \n",
       "19388      0.000627  ...           0.003164           0.003569   \n",
       "19389      0.008198  ...           0.025124           0.005041   \n",
       "\n",
       "       phecode_468_event  phecode_440-11_event  phecode_284_event  \\\n",
       "0               0.007735              0.008020           0.003997   \n",
       "1               0.025319              0.012269           0.023195   \n",
       "2               0.004809              0.001149           0.001460   \n",
       "3               0.014531              0.009313           0.010525   \n",
       "4               0.003788              0.001920           0.001131   \n",
       "...                  ...                   ...                ...   \n",
       "19385           0.006215              0.002399           0.007894   \n",
       "19386           0.116693              0.039307           0.015652   \n",
       "19387           0.018008              0.005484           0.006753   \n",
       "19388           0.007293              0.001656           0.023002   \n",
       "19389           0.024945              0.007942           0.014781   \n",
       "\n",
       "       phecode_008_event  phecode_092-2_event  phecode_581-1_event  \\\n",
       "0               0.000312             0.005506             0.001004   \n",
       "1               0.020236             0.017388             0.023034   \n",
       "2              -0.000711             0.001669            -0.000599   \n",
       "3               0.008431             0.011747             0.003861   \n",
       "4              -0.001248             0.002815             0.000851   \n",
       "...                  ...                  ...                  ...   \n",
       "19385           1.000000             0.006139             0.003966   \n",
       "19386           0.006139             1.000000             0.046090   \n",
       "19387           0.003966             0.046090             1.000000   \n",
       "19388           0.007289             0.002185            -0.001068   \n",
       "19389           0.003919             0.022959             0.008971   \n",
       "\n",
       "       phecode_292_event  phecode_542-1_event  \n",
       "0               0.008724             0.004405  \n",
       "1               0.011331             0.008986  \n",
       "2              -0.000320            -0.000418  \n",
       "3               0.004813             0.011583  \n",
       "4              -0.000562            -0.000734  \n",
       "...                  ...                  ...  \n",
       "19385           0.007289             0.003919  \n",
       "19386           0.002185             0.022959  \n",
       "19387          -0.001068             0.008971  \n",
       "19388           1.000000             0.008063  \n",
       "19389           0.008063             1.000000  \n",
       "\n",
       "[19390 rows x 19391 columns]"
      ]
     },
     "execution_count": 15,
     "metadata": {},
     "output_type": "execute_result"
    }
   ],
   "source": [
    "corr_df.reset_index()"
   ]
  },
  {
   "cell_type": "code",
   "execution_count": null,
   "metadata": {},
   "outputs": [],
   "source": []
  },
  {
   "cell_type": "code",
   "execution_count": null,
   "metadata": {},
   "outputs": [],
   "source": []
  },
  {
   "cell_type": "markdown",
   "metadata": {},
   "source": [
    "## PCA"
   ]
  },
  {
   "cell_type": "code",
   "execution_count": null,
   "metadata": {},
   "outputs": [],
   "source": [
    "import numpy as np\n",
    "from sklearn.decomposition import PCA"
   ]
  },
  {
   "cell_type": "code",
   "execution_count": null,
   "metadata": {},
   "outputs": [],
   "source": [
    "pca_data = data_all[c for c in data_all.columns if \"_event\" not in c]"
   ]
  },
  {
   "cell_type": "code",
   "execution_count": null,
   "metadata": {},
   "outputs": [],
   "source": [
    "pca = PCA(n_components=1.)\n",
    "pca.fit(pca_data)"
   ]
  },
  {
   "cell_type": "code",
   "execution_count": null,
   "metadata": {},
   "outputs": [],
   "source": []
  },
  {
   "cell_type": "code",
   "execution_count": null,
   "metadata": {},
   "outputs": [],
   "source": []
  },
  {
   "cell_type": "code",
   "execution_count": null,
   "metadata": {},
   "outputs": [],
   "source": []
  },
  {
   "cell_type": "code",
   "execution_count": 12,
   "metadata": {
    "execution": {
     "iopub.execute_input": "2022-04-28T13:13:45.702680Z",
     "iopub.status.busy": "2022-04-28T13:13:45.702590Z",
     "iopub.status.idle": "2022-04-28T13:14:18.136875Z",
     "shell.execute_reply": "2022-04-28T13:14:18.136429Z",
     "shell.execute_reply.started": "2022-04-28T13:13:45.702668Z"
    },
    "tags": []
   },
   "outputs": [
    {
     "data": {
      "text/plain": [
       "{'node_ip_address': '10.32.105.13',\n",
       " 'raylet_ip_address': '10.32.105.13',\n",
       " 'redis_address': None,\n",
       " 'object_store_address': '/tmp/ray/session_2022-04-28_15-13-46_926610_2579164/sockets/plasma_store',\n",
       " 'raylet_socket_name': '/tmp/ray/session_2022-04-28_15-13-46_926610_2579164/sockets/raylet',\n",
       " 'webui_url': None,\n",
       " 'session_dir': '/tmp/ray/session_2022-04-28_15-13-46_926610_2579164',\n",
       " 'metrics_export_port': 64722,\n",
       " 'gcs_address': '10.32.105.13:51011',\n",
       " 'address': '10.32.105.13:51011',\n",
       " 'node_id': '3efb0ed08865c18e166779f909341456e589ddd14cf7771c6aa881c5'}"
      ]
     },
     "execution_count": 12,
     "metadata": {},
     "output_type": "execute_result"
    }
   ],
   "source": [
    "import ray\n",
    "\n",
    "ray.init(num_cpus=24, include_dashboard=False)#dashboard_port=24763, dashboard_host=\"0.0.0.0\", include_dashboard=True)#, webui_url=\"0.0.0.0\"))"
   ]
  },
  {
   "cell_type": "code",
   "execution_count": null,
   "metadata": {
    "tags": []
   },
   "outputs": [],
   "source": [
    "corr_df = data_all.corr(method=\"spearman\")"
   ]
  },
  {
   "cell_type": "code",
   "execution_count": null,
   "metadata": {},
   "outputs": [],
   "source": []
  },
  {
   "cell_type": "code",
   "execution_count": null,
   "metadata": {},
   "outputs": [],
   "source": []
  },
  {
   "cell_type": "code",
   "execution_count": 13,
   "metadata": {
    "execution": {
     "iopub.execute_input": "2022-04-26T15:24:02.332283Z",
     "iopub.status.busy": "2022-04-26T15:24:02.332112Z",
     "iopub.status.idle": "2022-04-26T15:24:02.337221Z",
     "shell.execute_reply": "2022-04-26T15:24:02.336918Z",
     "shell.execute_reply.started": "2022-04-26T15:24:02.332268Z"
    },
    "tags": []
   },
   "outputs": [],
   "source": [
    "@ray.remote\n",
    "def calc_cor(data_all, eids_dict, record, eids_record, eids_nonrecord, endpoints):\n",
    "    r_ds = []\n",
    "    \n",
    "    for endpoint in endpoints:\n",
    "        eids_endpoint = eids_dict[endpoint]\n",
    "        \n",
    "        # record set\n",
    "        eid_idxs_dict = {}\n",
    "        eid_idxs_dict[\"record\"] = np.where(np.in1d(eids_endpoint, eids_record, assume_unique=True))[0]\n",
    "        eid_idxs_dict[\"nonrecord\"] = np.where(np.in1d(eids_endpoint, eids_nonrecord, assume_unique=True))[0]\n",
    "\n",
    "        for key, eid_idxs in eid_idxs_dict.items():\n",
    "            eids_temp = eids_endpoint[eid_idxs]\n",
    "            s = data_all[f\"{endpoint}_event\"].loc[eids_temp]\n",
    "            n=s.sum()\n",
    "            freq = n/len(s)\n",
    "            \n",
    "            if key==\"record\":\n",
    "                s_record\n",
    "                n_record = n\n",
    "                freq_record = freq\n",
    "                \n",
    "            if key==\"nonrecord\":\n",
    "                s_nonrecord = s\n",
    "                n_nonrecord = n\n",
    "                freq_nonrecord = freq\n",
    "        \n",
    "        jaccard = n_record / (n_nonrecord + len(eid_idxs_dict[\"record\"])) \n",
    "        \n",
    "        r_ds.append({\"endpoint\": endpoint, \"n_eligable\": len(eids_dict[endpoint]), \n",
    "                  \"record\": record, \"n_records\": len(eids_record), \n",
    "                  \"n_events_record\": n_record, \"freq_events_record\": freq_record,\n",
    "                    \"n_events_nonrecord\": n_nonrecord, \"freq_events_nonrecord\": freq_nonrecord,\n",
    "                    \"jaccard\": jaccard})\n",
    "    return r_ds"
   ]
  },
  {
   "cell_type": "code",
   "execution_count": 14,
   "metadata": {
    "execution": {
     "iopub.execute_input": "2022-04-26T15:24:05.597895Z",
     "iopub.status.busy": "2022-04-26T15:24:05.597693Z",
     "iopub.status.idle": "2022-04-26T15:37:30.518819Z",
     "shell.execute_reply": "2022-04-26T15:37:30.518337Z",
     "shell.execute_reply.started": "2022-04-26T15:24:05.597881Z"
    },
    "tags": []
   },
   "outputs": [
    {
     "data": {
      "application/vnd.jupyter.widget-view+json": {
       "model_id": "e97ee2dd4cca4abd83ae729a924602fb",
       "version_major": 2,
       "version_minor": 0
      },
      "text/plain": [
       "  0%|          | 0/19366 [00:00<?, ?it/s]"
      ]
     },
     "metadata": {},
     "output_type": "display_data"
    },
    {
     "name": "stderr",
     "output_type": "stream",
     "text": [
      "\u001b[2m\u001b[36m(calc_ratio pid=1636273)\u001b[0m /tmp/ipykernel_1636001/3547803062.py:17: RuntimeWarning: invalid value encountered in long_scalars\n",
      "\u001b[2m\u001b[36m(calc_ratio pid=1636279)\u001b[0m /tmp/ipykernel_1636001/3547803062.py:17: RuntimeWarning: invalid value encountered in long_scalars\n",
      "\u001b[2m\u001b[36m(calc_ratio pid=1636271)\u001b[0m /tmp/ipykernel_1636001/3547803062.py:17: RuntimeWarning: invalid value encountered in long_scalars\n",
      "\u001b[2m\u001b[36m(calc_ratio pid=1636285)\u001b[0m /tmp/ipykernel_1636001/3547803062.py:17: RuntimeWarning: invalid value encountered in long_scalars\n",
      "\u001b[2m\u001b[36m(calc_ratio pid=1636284)\u001b[0m /tmp/ipykernel_1636001/3547803062.py:17: RuntimeWarning: invalid value encountered in long_scalars\n",
      "\u001b[2m\u001b[36m(calc_ratio pid=1636293)\u001b[0m /tmp/ipykernel_1636001/3547803062.py:17: RuntimeWarning: invalid value encountered in long_scalars\n",
      "\u001b[2m\u001b[36m(calc_ratio pid=1636283)\u001b[0m /tmp/ipykernel_1636001/3547803062.py:17: RuntimeWarning: invalid value encountered in long_scalars\n",
      "\u001b[2m\u001b[36m(calc_ratio pid=1636277)\u001b[0m /tmp/ipykernel_1636001/3547803062.py:17: RuntimeWarning: invalid value encountered in long_scalars\n",
      "\u001b[2m\u001b[36m(calc_ratio pid=1636282)\u001b[0m /tmp/ipykernel_1636001/3547803062.py:17: RuntimeWarning: invalid value encountered in long_scalars\n",
      "\u001b[2m\u001b[36m(calc_ratio pid=1636289)\u001b[0m /tmp/ipykernel_1636001/3547803062.py:17: RuntimeWarning: invalid value encountered in long_scalars\n",
      "\u001b[2m\u001b[36m(calc_ratio pid=1636281)\u001b[0m /tmp/ipykernel_1636001/3547803062.py:17: RuntimeWarning: invalid value encountered in long_scalars\n",
      "\u001b[2m\u001b[36m(calc_ratio pid=1636287)\u001b[0m /tmp/ipykernel_1636001/3547803062.py:17: RuntimeWarning: invalid value encountered in long_scalars\n",
      "\u001b[2m\u001b[36m(calc_ratio pid=1636288)\u001b[0m /tmp/ipykernel_1636001/3547803062.py:17: RuntimeWarning: invalid value encountered in long_scalars\n",
      "\u001b[2m\u001b[36m(calc_ratio pid=1636292)\u001b[0m /tmp/ipykernel_1636001/3547803062.py:17: RuntimeWarning: invalid value encountered in long_scalars\n",
      "\u001b[2m\u001b[36m(calc_ratio pid=1636291)\u001b[0m /tmp/ipykernel_1636001/3547803062.py:17: RuntimeWarning: invalid value encountered in long_scalars\n",
      "\u001b[2m\u001b[36m(calc_ratio pid=1636272)\u001b[0m /tmp/ipykernel_1636001/3547803062.py:17: RuntimeWarning: invalid value encountered in long_scalars\n",
      "\u001b[2m\u001b[36m(calc_ratio pid=1636275)\u001b[0m /tmp/ipykernel_1636001/3547803062.py:17: RuntimeWarning: invalid value encountered in long_scalars\n",
      "\u001b[2m\u001b[36m(calc_ratio pid=1636274)\u001b[0m /tmp/ipykernel_1636001/3547803062.py:17: RuntimeWarning: invalid value encountered in long_scalars\n",
      "\u001b[2m\u001b[36m(calc_ratio pid=1636286)\u001b[0m /tmp/ipykernel_1636001/3547803062.py:17: RuntimeWarning: invalid value encountered in long_scalars\n",
      "\u001b[2m\u001b[36m(calc_ratio pid=1636276)\u001b[0m /tmp/ipykernel_1636001/3547803062.py:17: RuntimeWarning: invalid value encountered in long_scalars\n",
      "\u001b[2m\u001b[36m(calc_ratio pid=1636280)\u001b[0m /tmp/ipykernel_1636001/3547803062.py:17: RuntimeWarning: invalid value encountered in long_scalars\n",
      "\u001b[2m\u001b[36m(calc_ratio pid=1636278)\u001b[0m /tmp/ipykernel_1636001/3547803062.py:17: RuntimeWarning: invalid value encountered in long_scalars\n",
      "\u001b[2m\u001b[36m(calc_ratio pid=1636294)\u001b[0m /tmp/ipykernel_1636001/3547803062.py:17: RuntimeWarning: invalid value encountered in long_scalars\n"
     ]
    },
    {
     "data": {
      "application/vnd.jupyter.widget-view+json": {
       "model_id": "5dbc47c3df2f4126a6df39a6c78ae65c",
       "version_major": 2,
       "version_minor": 0
      },
      "text/plain": [
       "  0%|          | 0/19366 [00:00<?, ?it/s]"
      ]
     },
     "metadata": {},
     "output_type": "display_data"
    },
    {
     "name": "stderr",
     "output_type": "stream",
     "text": [
      "\u001b[2m\u001b[36m(calc_ratio pid=1636290)\u001b[0m /tmp/ipykernel_1636001/3547803062.py:17: RuntimeWarning: invalid value encountered in long_scalars\n"
     ]
    }
   ],
   "source": [
    "d_nested = []\n",
    "ref_data_all = ray.put(data_all)\n",
    "ref_eids_dict = ray.put(eids_dict)\n",
    "for record in tqdm(record_freqs.index):\n",
    "    s_record = data_all[record]\n",
    "    s_record = data_all[record]\n",
    "    eids_record = s_record[s_record==True].index.values\n",
    "    eids_nonrecord = s_record[s_record==False].index.values\n",
    "    ref_results = calc_ratio.remote(ref_data_all, ref_eids_dict, record, eids_record, eids_nonrecord, endpoints)\n",
    "    d_nested.append(ref_results)\n",
    "d_nested = [ray.get(e) for e in tqdm(d_nested)]\n",
    "del ref_data_all\n",
    "del ref_eids_dict"
   ]
  },
  {
   "cell_type": "code",
   "execution_count": 15,
   "metadata": {
    "execution": {
     "iopub.execute_input": "2022-04-26T15:37:36.462127Z",
     "iopub.status.busy": "2022-04-26T15:37:36.461928Z",
     "iopub.status.idle": "2022-04-26T15:37:36.494355Z",
     "shell.execute_reply": "2022-04-26T15:37:36.493772Z",
     "shell.execute_reply.started": "2022-04-26T15:37:36.462105Z"
    },
    "tags": []
   },
   "outputs": [],
   "source": [
    "from itertools import chain\n",
    "\n",
    "d = list(chain(*d_nested))"
   ]
  },
  {
   "cell_type": "code",
   "execution_count": 16,
   "metadata": {
    "execution": {
     "iopub.execute_input": "2022-04-26T15:37:37.260940Z",
     "iopub.status.busy": "2022-04-26T15:37:37.260808Z",
     "iopub.status.idle": "2022-04-26T15:37:37.983852Z",
     "shell.execute_reply": "2022-04-26T15:37:37.983281Z",
     "shell.execute_reply.started": "2022-04-26T15:37:37.260925Z"
    },
    "tags": []
   },
   "outputs": [],
   "source": [
    "endpoints_freqs = pd.DataFrame().from_dict(d)"
   ]
  },
  {
   "cell_type": "code",
   "execution_count": 17,
   "metadata": {
    "execution": {
     "iopub.execute_input": "2022-04-26T15:37:44.605751Z",
     "iopub.status.busy": "2022-04-26T15:37:44.605582Z",
     "iopub.status.idle": "2022-04-26T15:37:44.780625Z",
     "shell.execute_reply": "2022-04-26T15:37:44.780157Z",
     "shell.execute_reply.started": "2022-04-26T15:37:44.605736Z"
    },
    "tags": []
   },
   "outputs": [],
   "source": [
    "endpoints_freqs.to_feather(f\"{experiment_path}/record_inc_disease_freq_rnr.feather\")"
   ]
  },
  {
   "cell_type": "code",
   "execution_count": 35,
   "metadata": {
    "execution": {
     "iopub.execute_input": "2022-04-20T11:12:50.833332Z",
     "iopub.status.busy": "2022-04-20T11:12:50.833046Z",
     "iopub.status.idle": "2022-04-20T11:12:50.840405Z",
     "shell.execute_reply": "2022-04-20T11:12:50.839930Z",
     "shell.execute_reply.started": "2022-04-20T11:12:50.833313Z"
    },
    "tags": []
   },
   "outputs": [],
   "source": [
    "endpoints_ds = endpoints_freqs.query(\"n>100\").sort_values(\"endpoint\").reset_index(drop=True)"
   ]
  },
  {
   "cell_type": "code",
   "execution_count": 36,
   "metadata": {
    "execution": {
     "iopub.execute_input": "2022-04-20T11:13:28.003961Z",
     "iopub.status.busy": "2022-04-20T11:13:28.003677Z",
     "iopub.status.idle": "2022-04-20T11:13:28.036453Z",
     "shell.execute_reply": "2022-04-20T11:13:28.035800Z",
     "shell.execute_reply.started": "2022-04-20T11:13:28.003943Z"
    }
   },
   "outputs": [],
   "source": [
    "endpoints_ds.to_csv(f\"{experiment_path}/endpoints.csv\")"
   ]
  },
  {
   "cell_type": "code",
   "execution_count": 37,
   "metadata": {
    "execution": {
     "iopub.execute_input": "2022-04-20T11:30:31.576893Z",
     "iopub.status.busy": "2022-04-20T11:30:31.576464Z",
     "iopub.status.idle": "2022-04-20T11:30:31.581214Z",
     "shell.execute_reply": "2022-04-20T11:30:31.580733Z",
     "shell.execute_reply.started": "2022-04-20T11:30:31.576866Z"
    },
    "tags": []
   },
   "outputs": [
    {
     "data": {
      "text/plain": [
       "'/sc-projects/sc-proj-ukb-cvd/results/projects/22_medical_records/data/220413/endpoints.csv'"
      ]
     },
     "execution_count": 37,
     "metadata": {},
     "output_type": "execute_result"
    }
   ],
   "source": [
    "f\"{experiment_path}/endpoints.csv\""
   ]
  }
 ],
 "metadata": {
  "hide_input": false,
  "kernelspec": {
   "display_name": "Python [conda env:ehrgraphs]",
   "language": "python",
   "name": "conda-env-ehrgraphs-py"
  },
  "language_info": {
   "codemirror_mode": {
    "name": "ipython",
    "version": 3
   },
   "file_extension": ".py",
   "mimetype": "text/x-python",
   "name": "python",
   "nbconvert_exporter": "python",
   "pygments_lexer": "ipython3",
   "version": "3.9.7"
  },
  "toc-autonumbering": false
 },
 "nbformat": 4,
 "nbformat_minor": 4
}
