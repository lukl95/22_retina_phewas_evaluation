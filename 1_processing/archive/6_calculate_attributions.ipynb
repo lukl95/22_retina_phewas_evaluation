{
 "cells": [
  {
   "cell_type": "code",
   "execution_count": 1,
   "id": "8a4989dd-0fdf-45b4-9feb-d761b95cdd16",
   "metadata": {
    "tags": []
   },
   "outputs": [],
   "source": [
    "%load_ext autoreload\n",
    "%autoreload 2"
   ]
  },
  {
   "cell_type": "code",
   "execution_count": 2,
   "id": "8f7cfb24-cbeb-4329-9fdf-a121b143abe0",
   "metadata": {
    "tags": []
   },
   "outputs": [],
   "source": [
    "import hydra\n",
    "import numpy as np\n",
    "import torch\n",
    "from hydra import compose, initialize\n",
    "from omegaconf import OmegaConf\n",
    "import pandas as pd\n",
    "\n",
    "from tqdm.auto import tqdm"
   ]
  },
  {
   "cell_type": "code",
   "execution_count": 3,
   "id": "f3990ab6-1c4f-4f35-8e1d-add3a1c52e43",
   "metadata": {
    "tags": []
   },
   "outputs": [
    {
     "name": "stderr",
     "output_type": "stream",
     "text": [
      "Using backend: pytorch\n"
     ]
    }
   ],
   "source": [
    "from ehrgraphs.models.supervised import RecordsGraphTraining\n",
    "from ehrgraphs.training import setup_training"
   ]
  },
  {
   "cell_type": "code",
   "execution_count": 4,
   "id": "4c5f978d-6f25-4a5a-bd7c-7ca75f5c608d",
   "metadata": {},
   "outputs": [],
   "source": [
    "import pathlib"
   ]
  },
  {
   "cell_type": "code",
   "execution_count": 5,
   "id": "b9b91455-3052-4355-9020-f8c5a4f7a525",
   "metadata": {},
   "outputs": [
    {
     "name": "stdout",
     "output_type": "stream",
     "text": [
      "/sc-projects/sc-proj-ukb-cvd\n"
     ]
    }
   ],
   "source": [
    "node = !hostname\n",
    "if \"sc\" in node[0]:\n",
    "    base_path = \"/sc-projects/sc-proj-ukb-cvd\"\n",
    "else: \n",
    "    base_path = \"/data/analysis/ag-reils/ag-reils-shared/cardioRS\"\n",
    "print(base_path)\n",
    "\n",
    "project_label = \"22_medical_records\"\n",
    "project_path = f\"{base_path}/results/projects/{project_label}\"\n",
    "figure_path = f\"{project_path}/figures\"\n",
    "output_path = f\"{project_path}/data\"\n",
    "\n",
    "pathlib.Path(figure_path).mkdir(parents=True, exist_ok=True)\n",
    "pathlib.Path(output_path).mkdir(parents=True, exist_ok=True)"
   ]
  },
  {
   "cell_type": "code",
   "execution_count": 6,
   "id": "c86ac661-5144-41a7-9465-e723c6bb9aed",
   "metadata": {
    "tags": []
   },
   "outputs": [],
   "source": [
    "#from ehrgraphs.utils.attribution import ShapWrapper"
   ]
  },
  {
   "cell_type": "code",
   "execution_count": 7,
   "id": "8aa8d63a-d3d6-4ad2-9041-315f5daa447e",
   "metadata": {
    "tags": []
   },
   "outputs": [],
   "source": [
    "import shap as shap"
   ]
  },
  {
   "cell_type": "code",
   "execution_count": 8,
   "id": "e4dbf487-b24b-4de3-96d6-4f0defafedb1",
   "metadata": {
    "tags": []
   },
   "outputs": [
    {
     "data": {
      "text/plain": [
       "hydra.initialize()"
      ]
     },
     "execution_count": 8,
     "metadata": {},
     "output_type": "execute_result"
    }
   ],
   "source": [
    "hydra.initialize(config_path=\"../../ehrgraphs/config\")"
   ]
  },
  {
   "cell_type": "code",
   "execution_count": 9,
   "id": "c420bc89-71fa-4bd6-b3a7-03bffbe31f00",
   "metadata": {
    "tags": []
   },
   "outputs": [],
   "source": [
    "# basic:\n",
    "cfg = hydra.compose(config_name=\"config\")\n",
    "checkpoint_path = \"/sc-projects/sc-proj-ukb-cvd/results/recordgraphs/outputs/2022-02-21/14-08-30/RecordGraphs/189e3kgt/checkpoints/epoch=88-step=4182.ckpt\""
   ]
  },
  {
   "cell_type": "code",
   "execution_count": 10,
   "id": "66dff18a-047b-450c-8fb8-e8f80dfa91e5",
   "metadata": {},
   "outputs": [],
   "source": [
    "device = torch.device(\"cpu\")#;#(\"cuda:0\")"
   ]
  },
  {
   "cell_type": "code",
   "execution_count": 11,
   "id": "e470c48c-bc83-4e41-84cd-c40a584d0c6a",
   "metadata": {},
   "outputs": [],
   "source": [
    "concepts = pd.read_feather(\"/sc-projects/sc-proj-ukb-cvd/data/mapping/athena/CONCEPT.feather\")\n",
    "concepts = concepts.assign(record = lambda x: \"OMOP_\" + x.concept_id.astype(str)).set_index(\"record\")"
   ]
  },
  {
   "cell_type": "code",
   "execution_count": 12,
   "id": "96c1dc74-ff92-4902-9e29-3fbb3a8df7f3",
   "metadata": {},
   "outputs": [],
   "source": [
    "def prepare_model(model, device):\n",
    "    ckpt_model = RecordsGraphTraining.load_from_checkpoint(\n",
    "        checkpoint_path, graph_encoder=model.graph_encoder, head=model.head, projector=model.projector\n",
    "    )\n",
    "\n",
    "    ckpt_model.eval()\n",
    "    ckpt_model.freeze()\n",
    "\n",
    "    ckpt_model = ckpt_model.to(device)\n",
    "    return ckpt_model"
   ]
  },
  {
   "cell_type": "code",
   "execution_count": 13,
   "id": "d0af11dc-9dfc-4807-951b-0e511e57101b",
   "metadata": {},
   "outputs": [],
   "source": [
    "def prepare_test_dataloader(datamodule):\n",
    "    _ = datamodule.train_dataloader()\n",
    "    test_dataloader = datamodule.test_dataloader()\n",
    "        \n",
    "    return test_dataloader"
   ]
  },
  {
   "cell_type": "code",
   "execution_count": 14,
   "id": "0ec02806-189d-44b2-bc47-69fb51b3a252",
   "metadata": {},
   "outputs": [],
   "source": [
    "def prepare_node_embeddings(test_dataloader, ckpt_model):\n",
    "    \n",
    "    batch = next(iter(test_dataloader))\n",
    "\n",
    "    batch.graph = batch.graph.to(device)\n",
    "    batch.records = batch.records.to(device)\n",
    "    batch.covariates = batch.covariates.to(device)\n",
    "\n",
    "    predictions = ckpt_model(batch)\n",
    "    del batch\n",
    "\n",
    "    if \"record_node_embeddings\" in predictions:\n",
    "        record_node_embeddings = predictions[\"record_node_embeddings\"].detach()#.cpu()#.numpy()\n",
    "        record_node_embeddings.requires_grad = False\n",
    "    else:\n",
    "        record_node_embeddings = None\n",
    "        \n",
    "    return record_node_embeddings"
   ]
  },
  {
   "cell_type": "code",
   "execution_count": 15,
   "id": "32ebbe4d-ba7b-4bf7-8a03-4a3cf5b5d722",
   "metadata": {},
   "outputs": [],
   "source": [
    "def prepare_data(datamodule, n_rows=None):\n",
    "    # and returns an Nx10 tensor of class probabilities.\n",
    "    # collect inputs\n",
    "    test_data = torch.cat((torch.Tensor(datamodule.test_dataset.records.todense()),\n",
    "                           torch.Tensor(datamodule.test_dataset.covariates)), axis=1)\n",
    "    \n",
    "    if n_rows is not None:\n",
    "        test_data = test_data[:n_rows, :].to(device) # TODO remov\n",
    "    else:\n",
    "        test_data = test_data[:, :].to(device)\n",
    "\n",
    "    baseline_data = torch.zeros(2, test_data.shape[1]).to(device)\n",
    "    baseline_data.requires_grad = True\n",
    "    \n",
    "    return test_data, baseline_data"
   ]
  },
  {
   "cell_type": "code",
   "execution_count": 16,
   "id": "c597de82-eb85-4f8e-99e2-6ae729c37271",
   "metadata": {},
   "outputs": [
    {
     "name": "stdout",
     "output_type": "stream",
     "text": [
      "/sc-projects/sc-proj-ukb-cvd/data/2_datasets_pre/211110_anewbeginning/artifacts/WandBGraphDataNoShortcuts256_220203.p\n",
      "Generating train dataset...\n",
      "Generating valid dataset...\n",
      "Using edge types: ['Is a' 'ATC - RxNorm sec up' 'Tradename of' 'Has tradename' 'Constitutes'\n",
      " 'RxNorm inverse is a' 'RxNorm ing of' 'Dose form group of' 'Has method'\n",
      " 'Has asso morph' 'Has interprets' 'Interprets of' 'Is descendant of'\n",
      " 'Is associated with' 'Is ancestor of' 'Asso morph of' 'Method of'\n",
      " 'Interacts with' 'Is part of' 'Composed of']\n"
     ]
    }
   ],
   "source": [
    "datamodule, model, _ = setup_training(cfg)"
   ]
  },
  {
   "cell_type": "code",
   "execution_count": 17,
   "id": "46ffba0d-942b-40a9-8741-11d9689e9b4d",
   "metadata": {},
   "outputs": [],
   "source": [
    "ckpt_model = prepare_model(model, device)"
   ]
  },
  {
   "cell_type": "code",
   "execution_count": 18,
   "id": "7c30c9b7-b335-4433-98d3-d89e50874561",
   "metadata": {},
   "outputs": [
    {
     "name": "stdout",
     "output_type": "stream",
     "text": [
      "Generating test dataset...\n"
     ]
    }
   ],
   "source": [
    "test_dataloader = prepare_test_dataloader(datamodule)"
   ]
  },
  {
   "cell_type": "code",
   "execution_count": 19,
   "id": "dc6651ff-8b97-4556-acea-579bc6186c3f",
   "metadata": {
    "tags": []
   },
   "outputs": [
    {
     "name": "stderr",
     "output_type": "stream",
     "text": [
      "Process Process-2:\n",
      "Process Process-1:\n",
      "Process Process-3:\n",
      "Process Process-4:\n",
      "Traceback (most recent call last):\n",
      "Traceback (most recent call last):\n",
      "Traceback (most recent call last):\n",
      "  File \"/home/steinfej/miniconda3/envs/ehrgraphs/lib/python3.9/multiprocessing/process.py\", line 318, in _bootstrap\n",
      "    util._exit_function()\n",
      "  File \"/home/steinfej/miniconda3/envs/ehrgraphs/lib/python3.9/multiprocessing/process.py\", line 318, in _bootstrap\n",
      "    util._exit_function()\n",
      "  File \"/home/steinfej/miniconda3/envs/ehrgraphs/lib/python3.9/multiprocessing/process.py\", line 318, in _bootstrap\n",
      "    util._exit_function()\n",
      "  File \"/home/steinfej/miniconda3/envs/ehrgraphs/lib/python3.9/multiprocessing/util.py\", line 360, in _exit_function\n",
      "    _run_finalizers()\n",
      "  File \"/home/steinfej/miniconda3/envs/ehrgraphs/lib/python3.9/multiprocessing/util.py\", line 360, in _exit_function\n",
      "    _run_finalizers()\n",
      "  File \"/home/steinfej/miniconda3/envs/ehrgraphs/lib/python3.9/multiprocessing/util.py\", line 300, in _run_finalizers\n",
      "    finalizer()\n",
      "  File \"/home/steinfej/miniconda3/envs/ehrgraphs/lib/python3.9/multiprocessing/util.py\", line 300, in _run_finalizers\n",
      "    finalizer()\n",
      "  File \"/home/steinfej/miniconda3/envs/ehrgraphs/lib/python3.9/multiprocessing/util.py\", line 360, in _exit_function\n",
      "    _run_finalizers()\n",
      "  File \"/home/steinfej/miniconda3/envs/ehrgraphs/lib/python3.9/multiprocessing/util.py\", line 224, in __call__\n",
      "    res = self._callback(*self._args, **self._kwargs)\n",
      "  File \"/home/steinfej/miniconda3/envs/ehrgraphs/lib/python3.9/multiprocessing/util.py\", line 224, in __call__\n",
      "    res = self._callback(*self._args, **self._kwargs)\n",
      "  File \"/home/steinfej/miniconda3/envs/ehrgraphs/lib/python3.9/multiprocessing/util.py\", line 300, in _run_finalizers\n",
      "    finalizer()\n",
      "  File \"/home/steinfej/miniconda3/envs/ehrgraphs/lib/python3.9/multiprocessing/queues.py\", line 201, in _finalize_join\n",
      "    thread.join()\n",
      "Traceback (most recent call last):\n",
      "  File \"/home/steinfej/miniconda3/envs/ehrgraphs/lib/python3.9/multiprocessing/queues.py\", line 201, in _finalize_join\n",
      "    thread.join()\n",
      "  File \"/home/steinfej/miniconda3/envs/ehrgraphs/lib/python3.9/multiprocessing/util.py\", line 224, in __call__\n",
      "    res = self._callback(*self._args, **self._kwargs)\n",
      "  File \"/home/steinfej/miniconda3/envs/ehrgraphs/lib/python3.9/threading.py\", line 1053, in join\n",
      "    self._wait_for_tstate_lock()\n",
      "  File \"/home/steinfej/miniconda3/envs/ehrgraphs/lib/python3.9/threading.py\", line 1053, in join\n",
      "    self._wait_for_tstate_lock()\n",
      "  File \"/home/steinfej/miniconda3/envs/ehrgraphs/lib/python3.9/multiprocessing/process.py\", line 318, in _bootstrap\n",
      "    util._exit_function()\n",
      "  File \"/home/steinfej/miniconda3/envs/ehrgraphs/lib/python3.9/multiprocessing/queues.py\", line 201, in _finalize_join\n",
      "    thread.join()\n",
      "  File \"/home/steinfej/miniconda3/envs/ehrgraphs/lib/python3.9/threading.py\", line 1069, in _wait_for_tstate_lock\n",
      "    elif lock.acquire(block, timeout):\n",
      "  File \"/home/steinfej/miniconda3/envs/ehrgraphs/lib/python3.9/threading.py\", line 1069, in _wait_for_tstate_lock\n",
      "    elif lock.acquire(block, timeout):\n",
      "  File \"/home/steinfej/miniconda3/envs/ehrgraphs/lib/python3.9/multiprocessing/util.py\", line 360, in _exit_function\n",
      "    _run_finalizers()\n",
      "  File \"/home/steinfej/miniconda3/envs/ehrgraphs/lib/python3.9/threading.py\", line 1053, in join\n",
      "    self._wait_for_tstate_lock()\n",
      "KeyboardInterrupt\n",
      "KeyboardInterrupt\n",
      "  File \"/home/steinfej/miniconda3/envs/ehrgraphs/lib/python3.9/multiprocessing/util.py\", line 300, in _run_finalizers\n",
      "    finalizer()\n",
      "  File \"/home/steinfej/miniconda3/envs/ehrgraphs/lib/python3.9/threading.py\", line 1069, in _wait_for_tstate_lock\n",
      "    elif lock.acquire(block, timeout):\n",
      "  File \"/home/steinfej/miniconda3/envs/ehrgraphs/lib/python3.9/multiprocessing/util.py\", line 224, in __call__\n",
      "    res = self._callback(*self._args, **self._kwargs)\n",
      "KeyboardInterrupt\n",
      "  File \"/home/steinfej/miniconda3/envs/ehrgraphs/lib/python3.9/multiprocessing/queues.py\", line 201, in _finalize_join\n",
      "    thread.join()\n",
      "  File \"/home/steinfej/miniconda3/envs/ehrgraphs/lib/python3.9/threading.py\", line 1053, in join\n",
      "    self._wait_for_tstate_lock()\n",
      "  File \"/home/steinfej/miniconda3/envs/ehrgraphs/lib/python3.9/threading.py\", line 1069, in _wait_for_tstate_lock\n",
      "    elif lock.acquire(block, timeout):\n",
      "KeyboardInterrupt\n"
     ]
    }
   ],
   "source": [
    "record_node_embeddings = prepare_node_embeddings(test_dataloader, ckpt_model)"
   ]
  },
  {
   "cell_type": "code",
   "execution_count": 20,
   "id": "c19932d1-0528-4cd8-9794-c6537d6f1afe",
   "metadata": {},
   "outputs": [],
   "source": [
    "test_data, baseline_data = prepare_data(datamodule)"
   ]
  },
  {
   "cell_type": "code",
   "execution_count": 21,
   "id": "154fd0a9-ed3d-4967-b4e2-ec4491761cdc",
   "metadata": {},
   "outputs": [],
   "source": [
    "head_model = ckpt_model.head"
   ]
  },
  {
   "cell_type": "code",
   "execution_count": 44,
   "id": "0c0cde54-b561-4cce-8264-53e9aacdd028",
   "metadata": {},
   "outputs": [],
   "source": [
    "eids = datamodule.eids[\"test\"]"
   ]
  },
  {
   "cell_type": "code",
   "execution_count": 50,
   "id": "0ccb816d-053a-4f65-b516-8faa0a3929a2",
   "metadata": {},
   "outputs": [],
   "source": [
    "with open('eids.txt', 'w') as filehandle:\n",
    "    for e in eids: filehandle.write(f\"{e}\\n\")"
   ]
  },
  {
   "cell_type": "code",
   "execution_count": 48,
   "id": "c9249ca8-ec2e-42c3-9870-41355df9eef7",
   "metadata": {},
   "outputs": [
    {
     "ename": "TypeError",
     "evalue": "write() argument must be str, not list",
     "output_type": "error",
     "traceback": [
      "\u001b[0;31m---------------------------------------------------------------------------\u001b[0m",
      "\u001b[0;31mTypeError\u001b[0m                                 Traceback (most recent call last)",
      "\u001b[0;32m/tmp/ipykernel_1951908/547241513.py\u001b[0m in \u001b[0;36m<module>\u001b[0;34m\u001b[0m\n\u001b[1;32m      1\u001b[0m \u001b[0;32mwith\u001b[0m \u001b[0mopen\u001b[0m\u001b[0;34m(\u001b[0m\u001b[0;34m\"eids.txt\"\u001b[0m\u001b[0;34m,\u001b[0m \u001b[0;34m\"w\"\u001b[0m\u001b[0;34m)\u001b[0m \u001b[0;32mas\u001b[0m \u001b[0moutput\u001b[0m\u001b[0;34m:\u001b[0m\u001b[0;34m\u001b[0m\u001b[0;34m\u001b[0m\u001b[0m\n\u001b[0;32m----> 2\u001b[0;31m     \u001b[0moutput\u001b[0m\u001b[0;34m.\u001b[0m\u001b[0mwrite\u001b[0m\u001b[0;34m(\u001b[0m\u001b[0;34m[\u001b[0m\u001b[0mstr\u001b[0m\u001b[0;34m(\u001b[0m\u001b[0me\u001b[0m\u001b[0;34m)\u001b[0m \u001b[0;32mfor\u001b[0m \u001b[0me\u001b[0m \u001b[0;32min\u001b[0m \u001b[0meids\u001b[0m\u001b[0;34m]\u001b[0m\u001b[0;34m)\u001b[0m\u001b[0;34m\u001b[0m\u001b[0;34m\u001b[0m\u001b[0m\n\u001b[0m",
      "\u001b[0;31mTypeError\u001b[0m: write() argument must be str, not list"
     ]
    }
   ],
   "source": [
    "with open(\"eids.txt\", \"w\") as output:\n",
    "    output.write([str(e) for e in eids])"
   ]
  },
  {
   "cell_type": "code",
   "execution_count": 22,
   "id": "5db573ed-aa70-4dc7-803a-9e29ece455cf",
   "metadata": {},
   "outputs": [],
   "source": [
    "import torch\n",
    "import torch.nn as nn\n",
    "\n",
    "\n",
    "class ShapWrapper(nn.Module):\n",
    "    def __init__(self,\n",
    "                 head_model, \n",
    "                 record_node_embeddings,\n",
    "                 device, \n",
    "                 n_records=16201\n",
    "                ):\n",
    "        \"\"\"\n",
    "        Wrapps a Module of instance RecordsTraining and fixes the embedding to be able to attribute to the records.\n",
    "        \"\"\"\n",
    "        super().__init__()\n",
    "        self.head_model = head_model\n",
    "        self.head_model.gradient_checkpointing = False\n",
    "        self.record_node_embeddings = nn.Parameter(record_node_embeddings)\n",
    "        self.record_node_embeddings.requires_grad = False\n",
    "        self.n_records = n_records\n",
    "        self.data = None\n",
    "\n",
    "    def forward(self, batch_data):\n",
    "        records = batch_data\n",
    "        if batch_data.shape[1] > self.n_records:\n",
    "            # then we have covariates:\n",
    "            covariates = batch_data[:, self.n_records:]\n",
    "            records = batch_data[:, :self.n_records]\n",
    "            \n",
    "        features = records @ self.record_node_embeddings\n",
    "        features = torch.sign(features) * torch.log1p(torch.abs(features))\n",
    "\n",
    "        if features is None:\n",
    "            assert covariates is not None\n",
    "            inputs = covariates.to(device)\n",
    "        else:\n",
    "            inputs = torch.cat((features, covariates), axis=1).to(device)\n",
    "\n",
    "        head_outputs = self.head_model(inputs)\n",
    "        logits = head_outputs['logits']\n",
    "        \n",
    "        return logits"
   ]
  },
  {
   "cell_type": "code",
   "execution_count": 23,
   "id": "800fe8d6-9293-4d9c-9f3f-364ef85c797e",
   "metadata": {},
   "outputs": [
    {
     "name": "stderr",
     "output_type": "stream",
     "text": [
      "2022-02-28 11:52:40,519\tINFO services.py:1374 -- View the Ray dashboard at \u001b[1m\u001b[32mhttp://10.32.105.108:24762\u001b[39m\u001b[22m\n"
     ]
    },
    {
     "data": {
      "text/plain": [
       "{'node_ip_address': '10.32.105.108',\n",
       " 'raylet_ip_address': '10.32.105.108',\n",
       " 'redis_address': '10.32.105.108:6379',\n",
       " 'object_store_address': '/tmp/ray/session_2022-02-28_11-52-34_008994_1951908/sockets/plasma_store',\n",
       " 'raylet_socket_name': '/tmp/ray/session_2022-02-28_11-52-34_008994_1951908/sockets/raylet',\n",
       " 'webui_url': '10.32.105.108:24762',\n",
       " 'session_dir': '/tmp/ray/session_2022-02-28_11-52-34_008994_1951908',\n",
       " 'metrics_export_port': 42583,\n",
       " 'gcs_address': '10.32.105.108:34781',\n",
       " 'node_id': 'a8e04af0a96c3c80cc6c12e0aff89b044252c666f78202546f9e0ded'}"
      ]
     },
     "execution_count": 23,
     "metadata": {},
     "output_type": "execute_result"
    }
   ],
   "source": [
    "import ray\n",
    "ray.init(num_cpus=10, dashboard_port=24762, dashboard_host=\"0.0.0.0\", include_dashboard=True)#, webui_url=\"0.0.0.0\"))"
   ]
  },
  {
   "cell_type": "code",
   "execution_count": 34,
   "id": "cdc267be-69e0-490d-a852-cb7545216e97",
   "metadata": {},
   "outputs": [],
   "source": [
    "endpoints = sorted(list(datamodule.label_mapping.values()))"
   ]
  },
  {
   "cell_type": "code",
   "execution_count": 35,
   "id": "7f7b7ca1-89b7-440c-9c59-d694d38230be",
   "metadata": {},
   "outputs": [],
   "source": [
    "n_records = len(datamodule.record_cols)"
   ]
  },
  {
   "cell_type": "code",
   "execution_count": 36,
   "id": "c4b38a2e-f461-43a1-b309-bb01afc0879b",
   "metadata": {},
   "outputs": [],
   "source": [
    "attrib_path = f\"{output_path}/shap_220228\"\n",
    "pathlib.Path(attrib_path).mkdir(parents=True, exist_ok=True)"
   ]
  },
  {
   "cell_type": "code",
   "execution_count": 37,
   "id": "49168964-69db-488f-8b8d-c939ee857cb9",
   "metadata": {},
   "outputs": [],
   "source": [
    "@ray.remote\n",
    "def save_tensor(fp, tensor):\n",
    "    array = tensor.numpy()\n",
    "    with open(fp, \"wb\") as fh:\n",
    "        cctx = zstandard.ZstdCompressor()\n",
    "        with cctx.stream_writer(fh) as compressor:\n",
    "            compressor.write(pickle.dumps(array, protocol=pickle.HIGHEST_PROTOCOL))"
   ]
  },
  {
   "cell_type": "code",
   "execution_count": 38,
   "id": "6e4a6225-1c6d-49dc-9a48-bf0572b8e93c",
   "metadata": {},
   "outputs": [],
   "source": [
    "device = torch.device(\"cuda\")"
   ]
  },
  {
   "cell_type": "code",
   "execution_count": 39,
   "id": "66da5f53-0398-494c-841f-bab607137aca",
   "metadata": {},
   "outputs": [],
   "source": [
    "batch_size=25000"
   ]
  },
  {
   "cell_type": "code",
   "execution_count": 40,
   "id": "83cae203-f059-44d6-b5d9-dab59f6e0917",
   "metadata": {},
   "outputs": [],
   "source": [
    "test_data = test_data.to(device)\n",
    "baseline_data = baseline_data.to(device)"
   ]
  },
  {
   "cell_type": "code",
   "execution_count": 41,
   "id": "634ffc2f-ad48-4c3f-8b65-de71d40ad96e",
   "metadata": {},
   "outputs": [],
   "source": [
    "test_splits = torch.split(test_data, batch_size)"
   ]
  },
  {
   "cell_type": "code",
   "execution_count": 42,
   "id": "a37310ba-2661-4e73-854f-5432a968b1b5",
   "metadata": {},
   "outputs": [
    {
     "data": {
      "application/vnd.jupyter.widget-view+json": {
       "model_id": "b56e68e7628b4e74854b57849a56c5a7",
       "version_major": 2,
       "version_minor": 0
      },
      "text/plain": [
       "  0%|          | 0/1001 [00:00<?, ?it/s]"
      ]
     },
     "metadata": {},
     "output_type": "display_data"
    },
    {
     "data": {
      "application/vnd.jupyter.widget-view+json": {
       "model_id": "574baebd1f4c4ffa8de62e00dfa11d9a",
       "version_major": 2,
       "version_minor": 0
      },
      "text/plain": [
       "  0%|          | 0/2 [00:00<?, ?it/s]"
      ]
     },
     "metadata": {},
     "output_type": "display_data"
    },
    {
     "name": "stderr",
     "output_type": "stream",
     "text": [
      "Setting forward, backward hooks and attributes on non-linear\n",
      "               activations. The hooks and attributes will be removed\n",
      "            after the attribution is finished\n"
     ]
    },
    {
     "data": {
      "application/vnd.jupyter.widget-view+json": {
       "model_id": "80335f6e26a64fc1bf3f4e9abf1cbd5d",
       "version_major": 2,
       "version_minor": 0
      },
      "text/plain": [
       "  0%|          | 0/2 [00:00<?, ?it/s]"
      ]
     },
     "metadata": {},
     "output_type": "display_data"
    },
    {
     "data": {
      "application/vnd.jupyter.widget-view+json": {
       "model_id": "2b282475af72481a8bf25433ecc90b9e",
       "version_major": 2,
       "version_minor": 0
      },
      "text/plain": [
       "  0%|          | 0/2 [00:00<?, ?it/s]"
      ]
     },
     "metadata": {},
     "output_type": "display_data"
    },
    {
     "data": {
      "application/vnd.jupyter.widget-view+json": {
       "model_id": "846118c260dc406baa7d02211f583d88",
       "version_major": 2,
       "version_minor": 0
      },
      "text/plain": [
       "  0%|          | 0/2 [00:00<?, ?it/s]"
      ]
     },
     "metadata": {},
     "output_type": "display_data"
    },
    {
     "data": {
      "application/vnd.jupyter.widget-view+json": {
       "model_id": "0003ac8fea4248558c3ccc5a8c341db3",
       "version_major": 2,
       "version_minor": 0
      },
      "text/plain": [
       "  0%|          | 0/2 [00:00<?, ?it/s]"
      ]
     },
     "metadata": {},
     "output_type": "display_data"
    },
    {
     "data": {
      "application/vnd.jupyter.widget-view+json": {
       "model_id": "3b6a56f48f1a4365bd65f834b115f85f",
       "version_major": 2,
       "version_minor": 0
      },
      "text/plain": [
       "  0%|          | 0/2 [00:00<?, ?it/s]"
      ]
     },
     "metadata": {},
     "output_type": "display_data"
    },
    {
     "data": {
      "application/vnd.jupyter.widget-view+json": {
       "model_id": "c312c7db7e1841d0a5eec62399a4e68f",
       "version_major": 2,
       "version_minor": 0
      },
      "text/plain": [
       "  0%|          | 0/2 [00:00<?, ?it/s]"
      ]
     },
     "metadata": {},
     "output_type": "display_data"
    },
    {
     "data": {
      "application/vnd.jupyter.widget-view+json": {
       "model_id": "7c616694c7ae4dc8a3beb14766bd1f70",
       "version_major": 2,
       "version_minor": 0
      },
      "text/plain": [
       "  0%|          | 0/2 [00:00<?, ?it/s]"
      ]
     },
     "metadata": {},
     "output_type": "display_data"
    },
    {
     "data": {
      "application/vnd.jupyter.widget-view+json": {
       "model_id": "884c1b2b42f9457e9a4ae841082fe797",
       "version_major": 2,
       "version_minor": 0
      },
      "text/plain": [
       "  0%|          | 0/2 [00:00<?, ?it/s]"
      ]
     },
     "metadata": {},
     "output_type": "display_data"
    },
    {
     "data": {
      "application/vnd.jupyter.widget-view+json": {
       "model_id": "ed1561aa5f834e2d91c331ab19c346d1",
       "version_major": 2,
       "version_minor": 0
      },
      "text/plain": [
       "  0%|          | 0/2 [00:00<?, ?it/s]"
      ]
     },
     "metadata": {},
     "output_type": "display_data"
    },
    {
     "data": {
      "application/vnd.jupyter.widget-view+json": {
       "model_id": "a732c3a6847b4e0cab498b3edaa58cc1",
       "version_major": 2,
       "version_minor": 0
      },
      "text/plain": [
       "  0%|          | 0/2 [00:00<?, ?it/s]"
      ]
     },
     "metadata": {},
     "output_type": "display_data"
    },
    {
     "data": {
      "application/vnd.jupyter.widget-view+json": {
       "model_id": "77e255852fb14607b97aafec9a242b3f",
       "version_major": 2,
       "version_minor": 0
      },
      "text/plain": [
       "  0%|          | 0/2 [00:00<?, ?it/s]"
      ]
     },
     "metadata": {},
     "output_type": "display_data"
    },
    {
     "data": {
      "application/vnd.jupyter.widget-view+json": {
       "model_id": "bfde7399795c47d18c382507d4244c44",
       "version_major": 2,
       "version_minor": 0
      },
      "text/plain": [
       "  0%|          | 0/2 [00:00<?, ?it/s]"
      ]
     },
     "metadata": {},
     "output_type": "display_data"
    },
    {
     "data": {
      "application/vnd.jupyter.widget-view+json": {
       "model_id": "a1b8e96c431d415a934f38d0d173a2af",
       "version_major": 2,
       "version_minor": 0
      },
      "text/plain": [
       "  0%|          | 0/2 [00:00<?, ?it/s]"
      ]
     },
     "metadata": {},
     "output_type": "display_data"
    },
    {
     "data": {
      "application/vnd.jupyter.widget-view+json": {
       "model_id": "b3ab63434ba54da8845164dc0c183bb5",
       "version_major": 2,
       "version_minor": 0
      },
      "text/plain": [
       "  0%|          | 0/2 [00:00<?, ?it/s]"
      ]
     },
     "metadata": {},
     "output_type": "display_data"
    },
    {
     "data": {
      "application/vnd.jupyter.widget-view+json": {
       "model_id": "0fe6b158ae184597afc0178fb113290f",
       "version_major": 2,
       "version_minor": 0
      },
      "text/plain": [
       "  0%|          | 0/2 [00:00<?, ?it/s]"
      ]
     },
     "metadata": {},
     "output_type": "display_data"
    },
    {
     "data": {
      "application/vnd.jupyter.widget-view+json": {
       "model_id": "63f685dcc1a64414a07171022543167d",
       "version_major": 2,
       "version_minor": 0
      },
      "text/plain": [
       "  0%|          | 0/2 [00:00<?, ?it/s]"
      ]
     },
     "metadata": {},
     "output_type": "display_data"
    },
    {
     "data": {
      "application/vnd.jupyter.widget-view+json": {
       "model_id": "2c47ad9831e94d3784d5a4b6753e094f",
       "version_major": 2,
       "version_minor": 0
      },
      "text/plain": [
       "  0%|          | 0/2 [00:00<?, ?it/s]"
      ]
     },
     "metadata": {},
     "output_type": "display_data"
    },
    {
     "data": {
      "application/vnd.jupyter.widget-view+json": {
       "model_id": "1ec041dbcc054fbc90c182bab2664070",
       "version_major": 2,
       "version_minor": 0
      },
      "text/plain": [
       "  0%|          | 0/2 [00:00<?, ?it/s]"
      ]
     },
     "metadata": {},
     "output_type": "display_data"
    },
    {
     "data": {
      "application/vnd.jupyter.widget-view+json": {
       "model_id": "1db9ac93c3d341ffbc8094fae55d6748",
       "version_major": 2,
       "version_minor": 0
      },
      "text/plain": [
       "  0%|          | 0/2 [00:00<?, ?it/s]"
      ]
     },
     "metadata": {},
     "output_type": "display_data"
    },
    {
     "data": {
      "application/vnd.jupyter.widget-view+json": {
       "model_id": "40c61ca68ee14d0694a16a18171689ff",
       "version_major": 2,
       "version_minor": 0
      },
      "text/plain": [
       "  0%|          | 0/2 [00:00<?, ?it/s]"
      ]
     },
     "metadata": {},
     "output_type": "display_data"
    },
    {
     "data": {
      "application/vnd.jupyter.widget-view+json": {
       "model_id": "f146bd227e5a4e229ba816c59d701ac1",
       "version_major": 2,
       "version_minor": 0
      },
      "text/plain": [
       "  0%|          | 0/2 [00:00<?, ?it/s]"
      ]
     },
     "metadata": {},
     "output_type": "display_data"
    },
    {
     "data": {
      "application/vnd.jupyter.widget-view+json": {
       "model_id": "99cbe978c3334ba4a3c64853fa35f6fc",
       "version_major": 2,
       "version_minor": 0
      },
      "text/plain": [
       "  0%|          | 0/2 [00:00<?, ?it/s]"
      ]
     },
     "metadata": {},
     "output_type": "display_data"
    },
    {
     "data": {
      "application/vnd.jupyter.widget-view+json": {
       "model_id": "56201571a2134ecaa53c0d0be91af7ef",
       "version_major": 2,
       "version_minor": 0
      },
      "text/plain": [
       "  0%|          | 0/2 [00:00<?, ?it/s]"
      ]
     },
     "metadata": {},
     "output_type": "display_data"
    },
    {
     "data": {
      "application/vnd.jupyter.widget-view+json": {
       "model_id": "78a2f8a423b840139f8328b24a875e2e",
       "version_major": 2,
       "version_minor": 0
      },
      "text/plain": [
       "  0%|          | 0/2 [00:00<?, ?it/s]"
      ]
     },
     "metadata": {},
     "output_type": "display_data"
    },
    {
     "data": {
      "application/vnd.jupyter.widget-view+json": {
       "model_id": "9ef50f3a40c74b628eb10faecef80b30",
       "version_major": 2,
       "version_minor": 0
      },
      "text/plain": [
       "  0%|          | 0/2 [00:00<?, ?it/s]"
      ]
     },
     "metadata": {},
     "output_type": "display_data"
    },
    {
     "data": {
      "application/vnd.jupyter.widget-view+json": {
       "model_id": "db4d77a598054b9ea8c35888a20258d1",
       "version_major": 2,
       "version_minor": 0
      },
      "text/plain": [
       "  0%|          | 0/2 [00:00<?, ?it/s]"
      ]
     },
     "metadata": {},
     "output_type": "display_data"
    },
    {
     "data": {
      "application/vnd.jupyter.widget-view+json": {
       "model_id": "9e0238986fda4454b68b6d66b475643c",
       "version_major": 2,
       "version_minor": 0
      },
      "text/plain": [
       "  0%|          | 0/2 [00:00<?, ?it/s]"
      ]
     },
     "metadata": {},
     "output_type": "display_data"
    },
    {
     "data": {
      "application/vnd.jupyter.widget-view+json": {
       "model_id": "d73439e5a2a94c26a9b625fda1a0a20d",
       "version_major": 2,
       "version_minor": 0
      },
      "text/plain": [
       "  0%|          | 0/2 [00:00<?, ?it/s]"
      ]
     },
     "metadata": {},
     "output_type": "display_data"
    },
    {
     "data": {
      "application/vnd.jupyter.widget-view+json": {
       "model_id": "d78ae128749b4750864bd6adaf6f5200",
       "version_major": 2,
       "version_minor": 0
      },
      "text/plain": [
       "  0%|          | 0/2 [00:00<?, ?it/s]"
      ]
     },
     "metadata": {},
     "output_type": "display_data"
    },
    {
     "data": {
      "application/vnd.jupyter.widget-view+json": {
       "model_id": "110b2547cbbf46b7a0d5bfb5b3c7d195",
       "version_major": 2,
       "version_minor": 0
      },
      "text/plain": [
       "  0%|          | 0/2 [00:00<?, ?it/s]"
      ]
     },
     "metadata": {},
     "output_type": "display_data"
    },
    {
     "data": {
      "application/vnd.jupyter.widget-view+json": {
       "model_id": "140cd9b9714546949bc772c96e29413d",
       "version_major": 2,
       "version_minor": 0
      },
      "text/plain": [
       "  0%|          | 0/2 [00:00<?, ?it/s]"
      ]
     },
     "metadata": {},
     "output_type": "display_data"
    },
    {
     "data": {
      "application/vnd.jupyter.widget-view+json": {
       "model_id": "651860d114ec44b1940a720179ad1aa9",
       "version_major": 2,
       "version_minor": 0
      },
      "text/plain": [
       "  0%|          | 0/2 [00:00<?, ?it/s]"
      ]
     },
     "metadata": {},
     "output_type": "display_data"
    },
    {
     "data": {
      "application/vnd.jupyter.widget-view+json": {
       "model_id": "6d226350cd4746189b3f6b448bddf746",
       "version_major": 2,
       "version_minor": 0
      },
      "text/plain": [
       "  0%|          | 0/2 [00:00<?, ?it/s]"
      ]
     },
     "metadata": {},
     "output_type": "display_data"
    },
    {
     "data": {
      "application/vnd.jupyter.widget-view+json": {
       "model_id": "e0ad2b25be1f4b7695660b36c2a33eb5",
       "version_major": 2,
       "version_minor": 0
      },
      "text/plain": [
       "  0%|          | 0/2 [00:00<?, ?it/s]"
      ]
     },
     "metadata": {},
     "output_type": "display_data"
    },
    {
     "data": {
      "application/vnd.jupyter.widget-view+json": {
       "model_id": "f8899ddc1d4f4b30af76bf7ccdbc32a5",
       "version_major": 2,
       "version_minor": 0
      },
      "text/plain": [
       "  0%|          | 0/2 [00:00<?, ?it/s]"
      ]
     },
     "metadata": {},
     "output_type": "display_data"
    },
    {
     "data": {
      "application/vnd.jupyter.widget-view+json": {
       "model_id": "4181679e481d4eb6a13d58dd9defb367",
       "version_major": 2,
       "version_minor": 0
      },
      "text/plain": [
       "  0%|          | 0/2 [00:00<?, ?it/s]"
      ]
     },
     "metadata": {},
     "output_type": "display_data"
    },
    {
     "data": {
      "application/vnd.jupyter.widget-view+json": {
       "model_id": "8064efff70814eb2b6ac70d11187fa0c",
       "version_major": 2,
       "version_minor": 0
      },
      "text/plain": [
       "  0%|          | 0/2 [00:00<?, ?it/s]"
      ]
     },
     "metadata": {},
     "output_type": "display_data"
    },
    {
     "data": {
      "application/vnd.jupyter.widget-view+json": {
       "model_id": "63cfbb534d9442ef9dbc2b76e831227c",
       "version_major": 2,
       "version_minor": 0
      },
      "text/plain": [
       "  0%|          | 0/2 [00:00<?, ?it/s]"
      ]
     },
     "metadata": {},
     "output_type": "display_data"
    },
    {
     "data": {
      "application/vnd.jupyter.widget-view+json": {
       "model_id": "1e777aae792049f9876a6cc9e2efbca0",
       "version_major": 2,
       "version_minor": 0
      },
      "text/plain": [
       "  0%|          | 0/2 [00:00<?, ?it/s]"
      ]
     },
     "metadata": {},
     "output_type": "display_data"
    },
    {
     "data": {
      "application/vnd.jupyter.widget-view+json": {
       "model_id": "91dac475cd714eb3b64a7bd0526646f6",
       "version_major": 2,
       "version_minor": 0
      },
      "text/plain": [
       "  0%|          | 0/2 [00:00<?, ?it/s]"
      ]
     },
     "metadata": {},
     "output_type": "display_data"
    },
    {
     "data": {
      "application/vnd.jupyter.widget-view+json": {
       "model_id": "7d72f8f148564f4db266ba4e33e050e9",
       "version_major": 2,
       "version_minor": 0
      },
      "text/plain": [
       "  0%|          | 0/2 [00:00<?, ?it/s]"
      ]
     },
     "metadata": {},
     "output_type": "display_data"
    },
    {
     "data": {
      "application/vnd.jupyter.widget-view+json": {
       "model_id": "b612d96874c1477f8be7300355886fa6",
       "version_major": 2,
       "version_minor": 0
      },
      "text/plain": [
       "  0%|          | 0/2 [00:00<?, ?it/s]"
      ]
     },
     "metadata": {},
     "output_type": "display_data"
    },
    {
     "data": {
      "application/vnd.jupyter.widget-view+json": {
       "model_id": "953a76dc65f047ac933361fbc3d97de8",
       "version_major": 2,
       "version_minor": 0
      },
      "text/plain": [
       "  0%|          | 0/2 [00:00<?, ?it/s]"
      ]
     },
     "metadata": {},
     "output_type": "display_data"
    },
    {
     "data": {
      "application/vnd.jupyter.widget-view+json": {
       "model_id": "bffe1f616a98444383dc73a3eaf9a73a",
       "version_major": 2,
       "version_minor": 0
      },
      "text/plain": [
       "  0%|          | 0/2 [00:00<?, ?it/s]"
      ]
     },
     "metadata": {},
     "output_type": "display_data"
    },
    {
     "data": {
      "application/vnd.jupyter.widget-view+json": {
       "model_id": "86f3863922014f678037ffdc46049f26",
       "version_major": 2,
       "version_minor": 0
      },
      "text/plain": [
       "  0%|          | 0/2 [00:00<?, ?it/s]"
      ]
     },
     "metadata": {},
     "output_type": "display_data"
    },
    {
     "data": {
      "application/vnd.jupyter.widget-view+json": {
       "model_id": "a29703d8277b4e6fba73a396cdb6a3e1",
       "version_major": 2,
       "version_minor": 0
      },
      "text/plain": [
       "  0%|          | 0/2 [00:00<?, ?it/s]"
      ]
     },
     "metadata": {},
     "output_type": "display_data"
    },
    {
     "data": {
      "application/vnd.jupyter.widget-view+json": {
       "model_id": "5929a84479444ef78f134eca9dcc9f91",
       "version_major": 2,
       "version_minor": 0
      },
      "text/plain": [
       "  0%|          | 0/2 [00:00<?, ?it/s]"
      ]
     },
     "metadata": {},
     "output_type": "display_data"
    },
    {
     "data": {
      "application/vnd.jupyter.widget-view+json": {
       "model_id": "9a94ea3159954b3a8a6bdcb64e40338f",
       "version_major": 2,
       "version_minor": 0
      },
      "text/plain": [
       "  0%|          | 0/2 [00:00<?, ?it/s]"
      ]
     },
     "metadata": {},
     "output_type": "display_data"
    },
    {
     "data": {
      "application/vnd.jupyter.widget-view+json": {
       "model_id": "80406450cb39464ab098098829b2ab22",
       "version_major": 2,
       "version_minor": 0
      },
      "text/plain": [
       "  0%|          | 0/2 [00:00<?, ?it/s]"
      ]
     },
     "metadata": {},
     "output_type": "display_data"
    },
    {
     "data": {
      "application/vnd.jupyter.widget-view+json": {
       "model_id": "488e73c44a8549a08cbe26a66b342c12",
       "version_major": 2,
       "version_minor": 0
      },
      "text/plain": [
       "  0%|          | 0/2 [00:00<?, ?it/s]"
      ]
     },
     "metadata": {},
     "output_type": "display_data"
    },
    {
     "data": {
      "application/vnd.jupyter.widget-view+json": {
       "model_id": "1f39052c0f5343be926f7a85aa3b40b5",
       "version_major": 2,
       "version_minor": 0
      },
      "text/plain": [
       "  0%|          | 0/2 [00:00<?, ?it/s]"
      ]
     },
     "metadata": {},
     "output_type": "display_data"
    },
    {
     "data": {
      "application/vnd.jupyter.widget-view+json": {
       "model_id": "fdba360ca19a4d24a2b0cfad9aa910e0",
       "version_major": 2,
       "version_minor": 0
      },
      "text/plain": [
       "  0%|          | 0/2 [00:00<?, ?it/s]"
      ]
     },
     "metadata": {},
     "output_type": "display_data"
    },
    {
     "data": {
      "application/vnd.jupyter.widget-view+json": {
       "model_id": "eea86e64df74492893d7e9f2385eb312",
       "version_major": 2,
       "version_minor": 0
      },
      "text/plain": [
       "  0%|          | 0/2 [00:00<?, ?it/s]"
      ]
     },
     "metadata": {},
     "output_type": "display_data"
    },
    {
     "data": {
      "application/vnd.jupyter.widget-view+json": {
       "model_id": "31b79da72238400d8564dec8dc088efa",
       "version_major": 2,
       "version_minor": 0
      },
      "text/plain": [
       "  0%|          | 0/2 [00:00<?, ?it/s]"
      ]
     },
     "metadata": {},
     "output_type": "display_data"
    },
    {
     "data": {
      "application/vnd.jupyter.widget-view+json": {
       "model_id": "8b56d4f81650416ca1d5f6c4f6ee9c87",
       "version_major": 2,
       "version_minor": 0
      },
      "text/plain": [
       "  0%|          | 0/2 [00:00<?, ?it/s]"
      ]
     },
     "metadata": {},
     "output_type": "display_data"
    },
    {
     "data": {
      "application/vnd.jupyter.widget-view+json": {
       "model_id": "e7716a8b51f046a18149ff3139ae0aa9",
       "version_major": 2,
       "version_minor": 0
      },
      "text/plain": [
       "  0%|          | 0/2 [00:00<?, ?it/s]"
      ]
     },
     "metadata": {},
     "output_type": "display_data"
    },
    {
     "data": {
      "application/vnd.jupyter.widget-view+json": {
       "model_id": "bb94c9923b5a4d79a550e6d658e2c7ca",
       "version_major": 2,
       "version_minor": 0
      },
      "text/plain": [
       "  0%|          | 0/2 [00:00<?, ?it/s]"
      ]
     },
     "metadata": {},
     "output_type": "display_data"
    },
    {
     "data": {
      "application/vnd.jupyter.widget-view+json": {
       "model_id": "c8b4a74db1254bc18dfbcaeb44dcfd8f",
       "version_major": 2,
       "version_minor": 0
      },
      "text/plain": [
       "  0%|          | 0/2 [00:00<?, ?it/s]"
      ]
     },
     "metadata": {},
     "output_type": "display_data"
    },
    {
     "data": {
      "application/vnd.jupyter.widget-view+json": {
       "model_id": "8efc67d6026f447ca168c3f79704a346",
       "version_major": 2,
       "version_minor": 0
      },
      "text/plain": [
       "  0%|          | 0/2 [00:00<?, ?it/s]"
      ]
     },
     "metadata": {},
     "output_type": "display_data"
    },
    {
     "data": {
      "application/vnd.jupyter.widget-view+json": {
       "model_id": "828175987cb8476590795bd0f6b6cb04",
       "version_major": 2,
       "version_minor": 0
      },
      "text/plain": [
       "  0%|          | 0/2 [00:00<?, ?it/s]"
      ]
     },
     "metadata": {},
     "output_type": "display_data"
    },
    {
     "data": {
      "application/vnd.jupyter.widget-view+json": {
       "model_id": "89329881d9ca4ac18cc66ba61b5df778",
       "version_major": 2,
       "version_minor": 0
      },
      "text/plain": [
       "  0%|          | 0/2 [00:00<?, ?it/s]"
      ]
     },
     "metadata": {},
     "output_type": "display_data"
    },
    {
     "data": {
      "application/vnd.jupyter.widget-view+json": {
       "model_id": "2a3edfb032d5495db692c16ca16de1b5",
       "version_major": 2,
       "version_minor": 0
      },
      "text/plain": [
       "  0%|          | 0/2 [00:00<?, ?it/s]"
      ]
     },
     "metadata": {},
     "output_type": "display_data"
    },
    {
     "data": {
      "application/vnd.jupyter.widget-view+json": {
       "model_id": "cea8150ac26749e0b561a950467ec484",
       "version_major": 2,
       "version_minor": 0
      },
      "text/plain": [
       "  0%|          | 0/2 [00:00<?, ?it/s]"
      ]
     },
     "metadata": {},
     "output_type": "display_data"
    },
    {
     "data": {
      "application/vnd.jupyter.widget-view+json": {
       "model_id": "5f27116db1a44d8c8615d4cb55ed8c90",
       "version_major": 2,
       "version_minor": 0
      },
      "text/plain": [
       "  0%|          | 0/2 [00:00<?, ?it/s]"
      ]
     },
     "metadata": {},
     "output_type": "display_data"
    },
    {
     "data": {
      "application/vnd.jupyter.widget-view+json": {
       "model_id": "32682354b4124c97a1e91fd28e0d1bb0",
       "version_major": 2,
       "version_minor": 0
      },
      "text/plain": [
       "  0%|          | 0/2 [00:00<?, ?it/s]"
      ]
     },
     "metadata": {},
     "output_type": "display_data"
    },
    {
     "data": {
      "application/vnd.jupyter.widget-view+json": {
       "model_id": "790413f01ac8419689e8b36272c2d15e",
       "version_major": 2,
       "version_minor": 0
      },
      "text/plain": [
       "  0%|          | 0/2 [00:00<?, ?it/s]"
      ]
     },
     "metadata": {},
     "output_type": "display_data"
    },
    {
     "data": {
      "application/vnd.jupyter.widget-view+json": {
       "model_id": "34bb30c338e5440a8bda9c6ce093ae24",
       "version_major": 2,
       "version_minor": 0
      },
      "text/plain": [
       "  0%|          | 0/2 [00:00<?, ?it/s]"
      ]
     },
     "metadata": {},
     "output_type": "display_data"
    },
    {
     "data": {
      "application/vnd.jupyter.widget-view+json": {
       "model_id": "67b4ba11ef274715b8b4807d5a9f5902",
       "version_major": 2,
       "version_minor": 0
      },
      "text/plain": [
       "  0%|          | 0/2 [00:00<?, ?it/s]"
      ]
     },
     "metadata": {},
     "output_type": "display_data"
    },
    {
     "data": {
      "application/vnd.jupyter.widget-view+json": {
       "model_id": "476cb8e113e54ba29984789a6830ddff",
       "version_major": 2,
       "version_minor": 0
      },
      "text/plain": [
       "  0%|          | 0/2 [00:00<?, ?it/s]"
      ]
     },
     "metadata": {},
     "output_type": "display_data"
    },
    {
     "data": {
      "application/vnd.jupyter.widget-view+json": {
       "model_id": "bf33dde6ca444606abb567e15f4d0694",
       "version_major": 2,
       "version_minor": 0
      },
      "text/plain": [
       "  0%|          | 0/2 [00:00<?, ?it/s]"
      ]
     },
     "metadata": {},
     "output_type": "display_data"
    },
    {
     "data": {
      "application/vnd.jupyter.widget-view+json": {
       "model_id": "90b3d16ed27f442daacf2487301aee1f",
       "version_major": 2,
       "version_minor": 0
      },
      "text/plain": [
       "  0%|          | 0/2 [00:00<?, ?it/s]"
      ]
     },
     "metadata": {},
     "output_type": "display_data"
    },
    {
     "data": {
      "application/vnd.jupyter.widget-view+json": {
       "model_id": "23ae8fca79524c01b269e52974215558",
       "version_major": 2,
       "version_minor": 0
      },
      "text/plain": [
       "  0%|          | 0/2 [00:00<?, ?it/s]"
      ]
     },
     "metadata": {},
     "output_type": "display_data"
    },
    {
     "data": {
      "application/vnd.jupyter.widget-view+json": {
       "model_id": "fc29f2d2c20e4d22bc8ff57ec38529d4",
       "version_major": 2,
       "version_minor": 0
      },
      "text/plain": [
       "  0%|          | 0/2 [00:00<?, ?it/s]"
      ]
     },
     "metadata": {},
     "output_type": "display_data"
    },
    {
     "data": {
      "application/vnd.jupyter.widget-view+json": {
       "model_id": "362710ad05494283abac868fd516083e",
       "version_major": 2,
       "version_minor": 0
      },
      "text/plain": [
       "  0%|          | 0/2 [00:00<?, ?it/s]"
      ]
     },
     "metadata": {},
     "output_type": "display_data"
    },
    {
     "data": {
      "application/vnd.jupyter.widget-view+json": {
       "model_id": "638e874dac624205bdef24e0005dc40b",
       "version_major": 2,
       "version_minor": 0
      },
      "text/plain": [
       "  0%|          | 0/2 [00:00<?, ?it/s]"
      ]
     },
     "metadata": {},
     "output_type": "display_data"
    },
    {
     "data": {
      "application/vnd.jupyter.widget-view+json": {
       "model_id": "02e5e36ead384fc98d4549e92cd2e397",
       "version_major": 2,
       "version_minor": 0
      },
      "text/plain": [
       "  0%|          | 0/2 [00:00<?, ?it/s]"
      ]
     },
     "metadata": {},
     "output_type": "display_data"
    },
    {
     "data": {
      "application/vnd.jupyter.widget-view+json": {
       "model_id": "4109250642664a86978a6e33a7ca5a2c",
       "version_major": 2,
       "version_minor": 0
      },
      "text/plain": [
       "  0%|          | 0/2 [00:00<?, ?it/s]"
      ]
     },
     "metadata": {},
     "output_type": "display_data"
    },
    {
     "data": {
      "application/vnd.jupyter.widget-view+json": {
       "model_id": "fd0a1f5efcdc423e9f52f3d8cd5552a7",
       "version_major": 2,
       "version_minor": 0
      },
      "text/plain": [
       "  0%|          | 0/2 [00:00<?, ?it/s]"
      ]
     },
     "metadata": {},
     "output_type": "display_data"
    },
    {
     "data": {
      "application/vnd.jupyter.widget-view+json": {
       "model_id": "68ab83e0fd8f477b9b46018a1973524a",
       "version_major": 2,
       "version_minor": 0
      },
      "text/plain": [
       "  0%|          | 0/2 [00:00<?, ?it/s]"
      ]
     },
     "metadata": {},
     "output_type": "display_data"
    },
    {
     "data": {
      "application/vnd.jupyter.widget-view+json": {
       "model_id": "57322ec290544a26ada44e251e7066ac",
       "version_major": 2,
       "version_minor": 0
      },
      "text/plain": [
       "  0%|          | 0/2 [00:00<?, ?it/s]"
      ]
     },
     "metadata": {},
     "output_type": "display_data"
    },
    {
     "data": {
      "application/vnd.jupyter.widget-view+json": {
       "model_id": "7bb51b8a1c0e4e5a8a21dd3b1af1bbd3",
       "version_major": 2,
       "version_minor": 0
      },
      "text/plain": [
       "  0%|          | 0/2 [00:00<?, ?it/s]"
      ]
     },
     "metadata": {},
     "output_type": "display_data"
    },
    {
     "data": {
      "application/vnd.jupyter.widget-view+json": {
       "model_id": "211cbd6f47aa476ba8b301302b3ddab4",
       "version_major": 2,
       "version_minor": 0
      },
      "text/plain": [
       "  0%|          | 0/2 [00:00<?, ?it/s]"
      ]
     },
     "metadata": {},
     "output_type": "display_data"
    },
    {
     "data": {
      "application/vnd.jupyter.widget-view+json": {
       "model_id": "80bcbfa620d84326962722e024a23ad4",
       "version_major": 2,
       "version_minor": 0
      },
      "text/plain": [
       "  0%|          | 0/2 [00:00<?, ?it/s]"
      ]
     },
     "metadata": {},
     "output_type": "display_data"
    },
    {
     "data": {
      "application/vnd.jupyter.widget-view+json": {
       "model_id": "052c6fde23a343f9b7e22fdc87e01da6",
       "version_major": 2,
       "version_minor": 0
      },
      "text/plain": [
       "  0%|          | 0/2 [00:00<?, ?it/s]"
      ]
     },
     "metadata": {},
     "output_type": "display_data"
    },
    {
     "data": {
      "application/vnd.jupyter.widget-view+json": {
       "model_id": "741b2e73fbfe493498d0323f2c6a800c",
       "version_major": 2,
       "version_minor": 0
      },
      "text/plain": [
       "  0%|          | 0/2 [00:00<?, ?it/s]"
      ]
     },
     "metadata": {},
     "output_type": "display_data"
    },
    {
     "data": {
      "application/vnd.jupyter.widget-view+json": {
       "model_id": "2c96e87bfc134da9b75b4fd47ffcb2ce",
       "version_major": 2,
       "version_minor": 0
      },
      "text/plain": [
       "  0%|          | 0/2 [00:00<?, ?it/s]"
      ]
     },
     "metadata": {},
     "output_type": "display_data"
    },
    {
     "data": {
      "application/vnd.jupyter.widget-view+json": {
       "model_id": "8b2a1b3fda784331b376bcfd12e2166e",
       "version_major": 2,
       "version_minor": 0
      },
      "text/plain": [
       "  0%|          | 0/2 [00:00<?, ?it/s]"
      ]
     },
     "metadata": {},
     "output_type": "display_data"
    },
    {
     "data": {
      "application/vnd.jupyter.widget-view+json": {
       "model_id": "9469c6638f70406a88dcfe7db633efc7",
       "version_major": 2,
       "version_minor": 0
      },
      "text/plain": [
       "  0%|          | 0/2 [00:00<?, ?it/s]"
      ]
     },
     "metadata": {},
     "output_type": "display_data"
    },
    {
     "data": {
      "application/vnd.jupyter.widget-view+json": {
       "model_id": "2afdb3e27b914dc38a73a88fb0f8f6e2",
       "version_major": 2,
       "version_minor": 0
      },
      "text/plain": [
       "  0%|          | 0/2 [00:00<?, ?it/s]"
      ]
     },
     "metadata": {},
     "output_type": "display_data"
    },
    {
     "data": {
      "application/vnd.jupyter.widget-view+json": {
       "model_id": "bb9c81b63db944db9771b6265b2ee1b2",
       "version_major": 2,
       "version_minor": 0
      },
      "text/plain": [
       "  0%|          | 0/2 [00:00<?, ?it/s]"
      ]
     },
     "metadata": {},
     "output_type": "display_data"
    },
    {
     "data": {
      "application/vnd.jupyter.widget-view+json": {
       "model_id": "ccd7025eff754ed18052a85eceff10dc",
       "version_major": 2,
       "version_minor": 0
      },
      "text/plain": [
       "  0%|          | 0/2 [00:00<?, ?it/s]"
      ]
     },
     "metadata": {},
     "output_type": "display_data"
    },
    {
     "data": {
      "application/vnd.jupyter.widget-view+json": {
       "model_id": "02da5de9bb0a4a5fab4b13bfbb6be9ed",
       "version_major": 2,
       "version_minor": 0
      },
      "text/plain": [
       "  0%|          | 0/2 [00:00<?, ?it/s]"
      ]
     },
     "metadata": {},
     "output_type": "display_data"
    },
    {
     "data": {
      "application/vnd.jupyter.widget-view+json": {
       "model_id": "697991b0af5247c4bfaadf9309231564",
       "version_major": 2,
       "version_minor": 0
      },
      "text/plain": [
       "  0%|          | 0/2 [00:00<?, ?it/s]"
      ]
     },
     "metadata": {},
     "output_type": "display_data"
    },
    {
     "data": {
      "application/vnd.jupyter.widget-view+json": {
       "model_id": "5780d920961b4e399c0886a064d0c3ed",
       "version_major": 2,
       "version_minor": 0
      },
      "text/plain": [
       "  0%|          | 0/2 [00:00<?, ?it/s]"
      ]
     },
     "metadata": {},
     "output_type": "display_data"
    },
    {
     "data": {
      "application/vnd.jupyter.widget-view+json": {
       "model_id": "33802335216f43efa984930e1ac88d8c",
       "version_major": 2,
       "version_minor": 0
      },
      "text/plain": [
       "  0%|          | 0/2 [00:00<?, ?it/s]"
      ]
     },
     "metadata": {},
     "output_type": "display_data"
    },
    {
     "data": {
      "application/vnd.jupyter.widget-view+json": {
       "model_id": "a2b44d11dd8840de9c85033c4dc9216e",
       "version_major": 2,
       "version_minor": 0
      },
      "text/plain": [
       "  0%|          | 0/2 [00:00<?, ?it/s]"
      ]
     },
     "metadata": {},
     "output_type": "display_data"
    },
    {
     "data": {
      "application/vnd.jupyter.widget-view+json": {
       "model_id": "07e161a5ba8c414d85c5e45cb462488c",
       "version_major": 2,
       "version_minor": 0
      },
      "text/plain": [
       "  0%|          | 0/2 [00:00<?, ?it/s]"
      ]
     },
     "metadata": {},
     "output_type": "display_data"
    },
    {
     "data": {
      "application/vnd.jupyter.widget-view+json": {
       "model_id": "e0d479aae7fc4157a12bf911de96f524",
       "version_major": 2,
       "version_minor": 0
      },
      "text/plain": [
       "  0%|          | 0/2 [00:00<?, ?it/s]"
      ]
     },
     "metadata": {},
     "output_type": "display_data"
    },
    {
     "data": {
      "application/vnd.jupyter.widget-view+json": {
       "model_id": "3700213d712a437bb8d761ad889791e7",
       "version_major": 2,
       "version_minor": 0
      },
      "text/plain": [
       "  0%|          | 0/2 [00:00<?, ?it/s]"
      ]
     },
     "metadata": {},
     "output_type": "display_data"
    },
    {
     "data": {
      "application/vnd.jupyter.widget-view+json": {
       "model_id": "6431f123f53e4d9ca37b2ef4bd94e2ee",
       "version_major": 2,
       "version_minor": 0
      },
      "text/plain": [
       "  0%|          | 0/2 [00:00<?, ?it/s]"
      ]
     },
     "metadata": {},
     "output_type": "display_data"
    },
    {
     "data": {
      "application/vnd.jupyter.widget-view+json": {
       "model_id": "a5c06119b8af4246bebe01d0d2bd699f",
       "version_major": 2,
       "version_minor": 0
      },
      "text/plain": [
       "  0%|          | 0/2 [00:00<?, ?it/s]"
      ]
     },
     "metadata": {},
     "output_type": "display_data"
    },
    {
     "data": {
      "application/vnd.jupyter.widget-view+json": {
       "model_id": "25c4176229f44ee1954894be76783483",
       "version_major": 2,
       "version_minor": 0
      },
      "text/plain": [
       "  0%|          | 0/2 [00:00<?, ?it/s]"
      ]
     },
     "metadata": {},
     "output_type": "display_data"
    },
    {
     "data": {
      "application/vnd.jupyter.widget-view+json": {
       "model_id": "76b13682d9944dbdac93b6213245a8c8",
       "version_major": 2,
       "version_minor": 0
      },
      "text/plain": [
       "  0%|          | 0/2 [00:00<?, ?it/s]"
      ]
     },
     "metadata": {},
     "output_type": "display_data"
    },
    {
     "data": {
      "application/vnd.jupyter.widget-view+json": {
       "model_id": "4f3a62f2464645d6aabec93156c403b7",
       "version_major": 2,
       "version_minor": 0
      },
      "text/plain": [
       "  0%|          | 0/2 [00:00<?, ?it/s]"
      ]
     },
     "metadata": {},
     "output_type": "display_data"
    },
    {
     "data": {
      "application/vnd.jupyter.widget-view+json": {
       "model_id": "e43290908094475f980580084ff71e19",
       "version_major": 2,
       "version_minor": 0
      },
      "text/plain": [
       "  0%|          | 0/2 [00:00<?, ?it/s]"
      ]
     },
     "metadata": {},
     "output_type": "display_data"
    },
    {
     "data": {
      "application/vnd.jupyter.widget-view+json": {
       "model_id": "c8409c3f30fb436d81f08b44c02f2271",
       "version_major": 2,
       "version_minor": 0
      },
      "text/plain": [
       "  0%|          | 0/2 [00:00<?, ?it/s]"
      ]
     },
     "metadata": {},
     "output_type": "display_data"
    },
    {
     "data": {
      "application/vnd.jupyter.widget-view+json": {
       "model_id": "65f48640d4944083b83d5b75613b4d58",
       "version_major": 2,
       "version_minor": 0
      },
      "text/plain": [
       "  0%|          | 0/2 [00:00<?, ?it/s]"
      ]
     },
     "metadata": {},
     "output_type": "display_data"
    },
    {
     "data": {
      "application/vnd.jupyter.widget-view+json": {
       "model_id": "8363e39ac12649978265004961e4f394",
       "version_major": 2,
       "version_minor": 0
      },
      "text/plain": [
       "  0%|          | 0/2 [00:00<?, ?it/s]"
      ]
     },
     "metadata": {},
     "output_type": "display_data"
    },
    {
     "data": {
      "application/vnd.jupyter.widget-view+json": {
       "model_id": "cabb81f1923a4f46a08ccee085367a9e",
       "version_major": 2,
       "version_minor": 0
      },
      "text/plain": [
       "  0%|          | 0/2 [00:00<?, ?it/s]"
      ]
     },
     "metadata": {},
     "output_type": "display_data"
    },
    {
     "data": {
      "application/vnd.jupyter.widget-view+json": {
       "model_id": "f2081c420f7845fea53d65edefa922da",
       "version_major": 2,
       "version_minor": 0
      },
      "text/plain": [
       "  0%|          | 0/2 [00:00<?, ?it/s]"
      ]
     },
     "metadata": {},
     "output_type": "display_data"
    },
    {
     "data": {
      "application/vnd.jupyter.widget-view+json": {
       "model_id": "110a353cf56d4c80845f4d248e2e242b",
       "version_major": 2,
       "version_minor": 0
      },
      "text/plain": [
       "  0%|          | 0/2 [00:00<?, ?it/s]"
      ]
     },
     "metadata": {},
     "output_type": "display_data"
    },
    {
     "data": {
      "application/vnd.jupyter.widget-view+json": {
       "model_id": "a6e91a3c3378463e933acc57ebb0ca22",
       "version_major": 2,
       "version_minor": 0
      },
      "text/plain": [
       "  0%|          | 0/2 [00:00<?, ?it/s]"
      ]
     },
     "metadata": {},
     "output_type": "display_data"
    },
    {
     "data": {
      "application/vnd.jupyter.widget-view+json": {
       "model_id": "46784dc541a6476e90b565e338f41aed",
       "version_major": 2,
       "version_minor": 0
      },
      "text/plain": [
       "  0%|          | 0/2 [00:00<?, ?it/s]"
      ]
     },
     "metadata": {},
     "output_type": "display_data"
    },
    {
     "data": {
      "application/vnd.jupyter.widget-view+json": {
       "model_id": "24df6e3644164799ae7a4bb696b2949e",
       "version_major": 2,
       "version_minor": 0
      },
      "text/plain": [
       "  0%|          | 0/2 [00:00<?, ?it/s]"
      ]
     },
     "metadata": {},
     "output_type": "display_data"
    },
    {
     "data": {
      "application/vnd.jupyter.widget-view+json": {
       "model_id": "08392137bb1241afa39434bde6e479df",
       "version_major": 2,
       "version_minor": 0
      },
      "text/plain": [
       "  0%|          | 0/2 [00:00<?, ?it/s]"
      ]
     },
     "metadata": {},
     "output_type": "display_data"
    },
    {
     "data": {
      "application/vnd.jupyter.widget-view+json": {
       "model_id": "b4c3a914da95481f97d68d62033e4946",
       "version_major": 2,
       "version_minor": 0
      },
      "text/plain": [
       "  0%|          | 0/2 [00:00<?, ?it/s]"
      ]
     },
     "metadata": {},
     "output_type": "display_data"
    },
    {
     "data": {
      "application/vnd.jupyter.widget-view+json": {
       "model_id": "41b5ab725f9a4101a106356ec9445850",
       "version_major": 2,
       "version_minor": 0
      },
      "text/plain": [
       "  0%|          | 0/2 [00:00<?, ?it/s]"
      ]
     },
     "metadata": {},
     "output_type": "display_data"
    },
    {
     "data": {
      "application/vnd.jupyter.widget-view+json": {
       "model_id": "30326ca7a9d24b159bd8e3da6ded0c34",
       "version_major": 2,
       "version_minor": 0
      },
      "text/plain": [
       "  0%|          | 0/2 [00:00<?, ?it/s]"
      ]
     },
     "metadata": {},
     "output_type": "display_data"
    },
    {
     "data": {
      "application/vnd.jupyter.widget-view+json": {
       "model_id": "c770faeb51484583a74180a32e72bfec",
       "version_major": 2,
       "version_minor": 0
      },
      "text/plain": [
       "  0%|          | 0/2 [00:00<?, ?it/s]"
      ]
     },
     "metadata": {},
     "output_type": "display_data"
    },
    {
     "data": {
      "application/vnd.jupyter.widget-view+json": {
       "model_id": "55d49cea078f4856ae5376c9e1b9bed7",
       "version_major": 2,
       "version_minor": 0
      },
      "text/plain": [
       "  0%|          | 0/2 [00:00<?, ?it/s]"
      ]
     },
     "metadata": {},
     "output_type": "display_data"
    },
    {
     "data": {
      "application/vnd.jupyter.widget-view+json": {
       "model_id": "e9fe18f8e85f4ac1a363a46efbe5f34c",
       "version_major": 2,
       "version_minor": 0
      },
      "text/plain": [
       "  0%|          | 0/2 [00:00<?, ?it/s]"
      ]
     },
     "metadata": {},
     "output_type": "display_data"
    },
    {
     "data": {
      "application/vnd.jupyter.widget-view+json": {
       "model_id": "93e9ae9f689944e4a95819ad70a1b775",
       "version_major": 2,
       "version_minor": 0
      },
      "text/plain": [
       "  0%|          | 0/2 [00:00<?, ?it/s]"
      ]
     },
     "metadata": {},
     "output_type": "display_data"
    },
    {
     "data": {
      "application/vnd.jupyter.widget-view+json": {
       "model_id": "8c12a484674a44ebbb8492666b2828db",
       "version_major": 2,
       "version_minor": 0
      },
      "text/plain": [
       "  0%|          | 0/2 [00:00<?, ?it/s]"
      ]
     },
     "metadata": {},
     "output_type": "display_data"
    },
    {
     "data": {
      "application/vnd.jupyter.widget-view+json": {
       "model_id": "c7327d66ff2c40b794cf9d6f7d7d8d25",
       "version_major": 2,
       "version_minor": 0
      },
      "text/plain": [
       "  0%|          | 0/2 [00:00<?, ?it/s]"
      ]
     },
     "metadata": {},
     "output_type": "display_data"
    },
    {
     "data": {
      "application/vnd.jupyter.widget-view+json": {
       "model_id": "6b4eccf360ce46f1945c9c14e5b0f945",
       "version_major": 2,
       "version_minor": 0
      },
      "text/plain": [
       "  0%|          | 0/2 [00:00<?, ?it/s]"
      ]
     },
     "metadata": {},
     "output_type": "display_data"
    },
    {
     "data": {
      "application/vnd.jupyter.widget-view+json": {
       "model_id": "060add98d50e4303a8c6912890ecf31e",
       "version_major": 2,
       "version_minor": 0
      },
      "text/plain": [
       "  0%|          | 0/2 [00:00<?, ?it/s]"
      ]
     },
     "metadata": {},
     "output_type": "display_data"
    },
    {
     "data": {
      "application/vnd.jupyter.widget-view+json": {
       "model_id": "2efabdd8df9746549f36b198f6d0425f",
       "version_major": 2,
       "version_minor": 0
      },
      "text/plain": [
       "  0%|          | 0/2 [00:00<?, ?it/s]"
      ]
     },
     "metadata": {},
     "output_type": "display_data"
    },
    {
     "data": {
      "application/vnd.jupyter.widget-view+json": {
       "model_id": "d8647d08227b4149bd34bd59ce28c3bc",
       "version_major": 2,
       "version_minor": 0
      },
      "text/plain": [
       "  0%|          | 0/2 [00:00<?, ?it/s]"
      ]
     },
     "metadata": {},
     "output_type": "display_data"
    },
    {
     "data": {
      "application/vnd.jupyter.widget-view+json": {
       "model_id": "c58b6e6cc89f4b158640983396424772",
       "version_major": 2,
       "version_minor": 0
      },
      "text/plain": [
       "  0%|          | 0/2 [00:00<?, ?it/s]"
      ]
     },
     "metadata": {},
     "output_type": "display_data"
    },
    {
     "data": {
      "application/vnd.jupyter.widget-view+json": {
       "model_id": "1f3e56ccac064e8ead5d2c66a12f39ff",
       "version_major": 2,
       "version_minor": 0
      },
      "text/plain": [
       "  0%|          | 0/2 [00:00<?, ?it/s]"
      ]
     },
     "metadata": {},
     "output_type": "display_data"
    },
    {
     "data": {
      "application/vnd.jupyter.widget-view+json": {
       "model_id": "cbe63fd07ca6406ea20f1fb01e7ddd50",
       "version_major": 2,
       "version_minor": 0
      },
      "text/plain": [
       "  0%|          | 0/2 [00:00<?, ?it/s]"
      ]
     },
     "metadata": {},
     "output_type": "display_data"
    },
    {
     "data": {
      "application/vnd.jupyter.widget-view+json": {
       "model_id": "f53923108f6249fbb857df3b9023251c",
       "version_major": 2,
       "version_minor": 0
      },
      "text/plain": [
       "  0%|          | 0/2 [00:00<?, ?it/s]"
      ]
     },
     "metadata": {},
     "output_type": "display_data"
    },
    {
     "data": {
      "application/vnd.jupyter.widget-view+json": {
       "model_id": "ae12883fdc7a46f19d13a16be2024091",
       "version_major": 2,
       "version_minor": 0
      },
      "text/plain": [
       "  0%|          | 0/2 [00:00<?, ?it/s]"
      ]
     },
     "metadata": {},
     "output_type": "display_data"
    },
    {
     "data": {
      "application/vnd.jupyter.widget-view+json": {
       "model_id": "6ce246f71262493aa26e3f07f20d3cd4",
       "version_major": 2,
       "version_minor": 0
      },
      "text/plain": [
       "  0%|          | 0/2 [00:00<?, ?it/s]"
      ]
     },
     "metadata": {},
     "output_type": "display_data"
    },
    {
     "data": {
      "application/vnd.jupyter.widget-view+json": {
       "model_id": "a7d9feb387b043178902b9f58284e384",
       "version_major": 2,
       "version_minor": 0
      },
      "text/plain": [
       "  0%|          | 0/2 [00:00<?, ?it/s]"
      ]
     },
     "metadata": {},
     "output_type": "display_data"
    },
    {
     "data": {
      "application/vnd.jupyter.widget-view+json": {
       "model_id": "4d2da386767b493881405a2c5b0c878b",
       "version_major": 2,
       "version_minor": 0
      },
      "text/plain": [
       "  0%|          | 0/2 [00:00<?, ?it/s]"
      ]
     },
     "metadata": {},
     "output_type": "display_data"
    },
    {
     "data": {
      "application/vnd.jupyter.widget-view+json": {
       "model_id": "cced927699b64ebcba3e8003a8c38c6c",
       "version_major": 2,
       "version_minor": 0
      },
      "text/plain": [
       "  0%|          | 0/2 [00:00<?, ?it/s]"
      ]
     },
     "metadata": {},
     "output_type": "display_data"
    },
    {
     "data": {
      "application/vnd.jupyter.widget-view+json": {
       "model_id": "273be51bd7d5453fb14a2eaf201dc230",
       "version_major": 2,
       "version_minor": 0
      },
      "text/plain": [
       "  0%|          | 0/2 [00:00<?, ?it/s]"
      ]
     },
     "metadata": {},
     "output_type": "display_data"
    },
    {
     "data": {
      "application/vnd.jupyter.widget-view+json": {
       "model_id": "aae9a77621a642768215b722432f4da5",
       "version_major": 2,
       "version_minor": 0
      },
      "text/plain": [
       "  0%|          | 0/2 [00:00<?, ?it/s]"
      ]
     },
     "metadata": {},
     "output_type": "display_data"
    },
    {
     "data": {
      "application/vnd.jupyter.widget-view+json": {
       "model_id": "e6c8ec238dc3437b8f6ef08a4becca07",
       "version_major": 2,
       "version_minor": 0
      },
      "text/plain": [
       "  0%|          | 0/2 [00:00<?, ?it/s]"
      ]
     },
     "metadata": {},
     "output_type": "display_data"
    },
    {
     "data": {
      "application/vnd.jupyter.widget-view+json": {
       "model_id": "ecfe3e7e9db841958cadd48c94873e8e",
       "version_major": 2,
       "version_minor": 0
      },
      "text/plain": [
       "  0%|          | 0/2 [00:00<?, ?it/s]"
      ]
     },
     "metadata": {},
     "output_type": "display_data"
    },
    {
     "data": {
      "application/vnd.jupyter.widget-view+json": {
       "model_id": "ad00d6087b7d49de8e6c2391a275875f",
       "version_major": 2,
       "version_minor": 0
      },
      "text/plain": [
       "  0%|          | 0/2 [00:00<?, ?it/s]"
      ]
     },
     "metadata": {},
     "output_type": "display_data"
    },
    {
     "data": {
      "application/vnd.jupyter.widget-view+json": {
       "model_id": "768fcf6ef944404b80e258699de96dc2",
       "version_major": 2,
       "version_minor": 0
      },
      "text/plain": [
       "  0%|          | 0/2 [00:00<?, ?it/s]"
      ]
     },
     "metadata": {},
     "output_type": "display_data"
    },
    {
     "data": {
      "application/vnd.jupyter.widget-view+json": {
       "model_id": "64f276a9501145a5a6f3285528b901f3",
       "version_major": 2,
       "version_minor": 0
      },
      "text/plain": [
       "  0%|          | 0/2 [00:00<?, ?it/s]"
      ]
     },
     "metadata": {},
     "output_type": "display_data"
    },
    {
     "data": {
      "application/vnd.jupyter.widget-view+json": {
       "model_id": "a977308395564ca2b5ba847c416cc8ff",
       "version_major": 2,
       "version_minor": 0
      },
      "text/plain": [
       "  0%|          | 0/2 [00:00<?, ?it/s]"
      ]
     },
     "metadata": {},
     "output_type": "display_data"
    },
    {
     "data": {
      "application/vnd.jupyter.widget-view+json": {
       "model_id": "c6c09712f2d243f981db46e296fbeec7",
       "version_major": 2,
       "version_minor": 0
      },
      "text/plain": [
       "  0%|          | 0/2 [00:00<?, ?it/s]"
      ]
     },
     "metadata": {},
     "output_type": "display_data"
    },
    {
     "data": {
      "application/vnd.jupyter.widget-view+json": {
       "model_id": "f2b72501f43a409aaf5d59476f331e47",
       "version_major": 2,
       "version_minor": 0
      },
      "text/plain": [
       "  0%|          | 0/2 [00:00<?, ?it/s]"
      ]
     },
     "metadata": {},
     "output_type": "display_data"
    },
    {
     "data": {
      "application/vnd.jupyter.widget-view+json": {
       "model_id": "f6dd8a81a932463683a853c63f5ce84d",
       "version_major": 2,
       "version_minor": 0
      },
      "text/plain": [
       "  0%|          | 0/2 [00:00<?, ?it/s]"
      ]
     },
     "metadata": {},
     "output_type": "display_data"
    },
    {
     "data": {
      "application/vnd.jupyter.widget-view+json": {
       "model_id": "8d03e5ac53084480a0f99dd9abc87538",
       "version_major": 2,
       "version_minor": 0
      },
      "text/plain": [
       "  0%|          | 0/2 [00:00<?, ?it/s]"
      ]
     },
     "metadata": {},
     "output_type": "display_data"
    },
    {
     "data": {
      "application/vnd.jupyter.widget-view+json": {
       "model_id": "f2c93df7ea154edba671c75a7ec780aa",
       "version_major": 2,
       "version_minor": 0
      },
      "text/plain": [
       "  0%|          | 0/2 [00:00<?, ?it/s]"
      ]
     },
     "metadata": {},
     "output_type": "display_data"
    },
    {
     "data": {
      "application/vnd.jupyter.widget-view+json": {
       "model_id": "62a84a2d4b87451983cf9571ed141fc5",
       "version_major": 2,
       "version_minor": 0
      },
      "text/plain": [
       "  0%|          | 0/2 [00:00<?, ?it/s]"
      ]
     },
     "metadata": {},
     "output_type": "display_data"
    },
    {
     "data": {
      "application/vnd.jupyter.widget-view+json": {
       "model_id": "8b6ff4f56166426b9363a09e0ac735bf",
       "version_major": 2,
       "version_minor": 0
      },
      "text/plain": [
       "  0%|          | 0/2 [00:00<?, ?it/s]"
      ]
     },
     "metadata": {},
     "output_type": "display_data"
    },
    {
     "data": {
      "application/vnd.jupyter.widget-view+json": {
       "model_id": "f15fa42bbbc04b64b2e096e964e864ca",
       "version_major": 2,
       "version_minor": 0
      },
      "text/plain": [
       "  0%|          | 0/2 [00:00<?, ?it/s]"
      ]
     },
     "metadata": {},
     "output_type": "display_data"
    },
    {
     "data": {
      "application/vnd.jupyter.widget-view+json": {
       "model_id": "937b2491dd1c453991cbcaec9774a275",
       "version_major": 2,
       "version_minor": 0
      },
      "text/plain": [
       "  0%|          | 0/2 [00:00<?, ?it/s]"
      ]
     },
     "metadata": {},
     "output_type": "display_data"
    },
    {
     "data": {
      "application/vnd.jupyter.widget-view+json": {
       "model_id": "7c7bfdc0d6b9422ba4b8d029c9a93646",
       "version_major": 2,
       "version_minor": 0
      },
      "text/plain": [
       "  0%|          | 0/2 [00:00<?, ?it/s]"
      ]
     },
     "metadata": {},
     "output_type": "display_data"
    },
    {
     "data": {
      "application/vnd.jupyter.widget-view+json": {
       "model_id": "bec3341e0a8d482a8540b7333ed27232",
       "version_major": 2,
       "version_minor": 0
      },
      "text/plain": [
       "  0%|          | 0/2 [00:00<?, ?it/s]"
      ]
     },
     "metadata": {},
     "output_type": "display_data"
    },
    {
     "data": {
      "application/vnd.jupyter.widget-view+json": {
       "model_id": "0bdbd7114915410c82387da6cd6d5713",
       "version_major": 2,
       "version_minor": 0
      },
      "text/plain": [
       "  0%|          | 0/2 [00:00<?, ?it/s]"
      ]
     },
     "metadata": {},
     "output_type": "display_data"
    },
    {
     "data": {
      "application/vnd.jupyter.widget-view+json": {
       "model_id": "32954e89b5314c4f9bca79253d151458",
       "version_major": 2,
       "version_minor": 0
      },
      "text/plain": [
       "  0%|          | 0/2 [00:00<?, ?it/s]"
      ]
     },
     "metadata": {},
     "output_type": "display_data"
    },
    {
     "data": {
      "application/vnd.jupyter.widget-view+json": {
       "model_id": "60e69ac309c2464eb6a6c878fce3a41c",
       "version_major": 2,
       "version_minor": 0
      },
      "text/plain": [
       "  0%|          | 0/2 [00:00<?, ?it/s]"
      ]
     },
     "metadata": {},
     "output_type": "display_data"
    },
    {
     "data": {
      "application/vnd.jupyter.widget-view+json": {
       "model_id": "7af0c90f56a74eeda574461146ec4bf2",
       "version_major": 2,
       "version_minor": 0
      },
      "text/plain": [
       "  0%|          | 0/2 [00:00<?, ?it/s]"
      ]
     },
     "metadata": {},
     "output_type": "display_data"
    },
    {
     "data": {
      "application/vnd.jupyter.widget-view+json": {
       "model_id": "5d7f8db54852444393446f0adc9e778c",
       "version_major": 2,
       "version_minor": 0
      },
      "text/plain": [
       "  0%|          | 0/2 [00:00<?, ?it/s]"
      ]
     },
     "metadata": {},
     "output_type": "display_data"
    },
    {
     "data": {
      "application/vnd.jupyter.widget-view+json": {
       "model_id": "cb95d28140af4e749be8fa940b4c0977",
       "version_major": 2,
       "version_minor": 0
      },
      "text/plain": [
       "  0%|          | 0/2 [00:00<?, ?it/s]"
      ]
     },
     "metadata": {},
     "output_type": "display_data"
    },
    {
     "data": {
      "application/vnd.jupyter.widget-view+json": {
       "model_id": "804c09c029864f589f5cea52089f1529",
       "version_major": 2,
       "version_minor": 0
      },
      "text/plain": [
       "  0%|          | 0/2 [00:00<?, ?it/s]"
      ]
     },
     "metadata": {},
     "output_type": "display_data"
    },
    {
     "data": {
      "application/vnd.jupyter.widget-view+json": {
       "model_id": "a4a23eec435f4294a647745cdff20d92",
       "version_major": 2,
       "version_minor": 0
      },
      "text/plain": [
       "  0%|          | 0/2 [00:00<?, ?it/s]"
      ]
     },
     "metadata": {},
     "output_type": "display_data"
    },
    {
     "data": {
      "application/vnd.jupyter.widget-view+json": {
       "model_id": "15105839a70b48f3bd21296c7aa5e2dd",
       "version_major": 2,
       "version_minor": 0
      },
      "text/plain": [
       "  0%|          | 0/2 [00:00<?, ?it/s]"
      ]
     },
     "metadata": {},
     "output_type": "display_data"
    },
    {
     "data": {
      "application/vnd.jupyter.widget-view+json": {
       "model_id": "5a1baf39f1684040bba0fd535175ef36",
       "version_major": 2,
       "version_minor": 0
      },
      "text/plain": [
       "  0%|          | 0/2 [00:00<?, ?it/s]"
      ]
     },
     "metadata": {},
     "output_type": "display_data"
    },
    {
     "data": {
      "application/vnd.jupyter.widget-view+json": {
       "model_id": "b3cbd66d002e4b9abbf92a12eabd7ff7",
       "version_major": 2,
       "version_minor": 0
      },
      "text/plain": [
       "  0%|          | 0/2 [00:00<?, ?it/s]"
      ]
     },
     "metadata": {},
     "output_type": "display_data"
    },
    {
     "data": {
      "application/vnd.jupyter.widget-view+json": {
       "model_id": "ccf633e7f80a4a6bb84e6090524f12c6",
       "version_major": 2,
       "version_minor": 0
      },
      "text/plain": [
       "  0%|          | 0/2 [00:00<?, ?it/s]"
      ]
     },
     "metadata": {},
     "output_type": "display_data"
    },
    {
     "data": {
      "application/vnd.jupyter.widget-view+json": {
       "model_id": "a08f4bd2ef9447738243387e09a5b6d7",
       "version_major": 2,
       "version_minor": 0
      },
      "text/plain": [
       "  0%|          | 0/2 [00:00<?, ?it/s]"
      ]
     },
     "metadata": {},
     "output_type": "display_data"
    },
    {
     "data": {
      "application/vnd.jupyter.widget-view+json": {
       "model_id": "a71502636b7649aba649d85ae6ee6fd0",
       "version_major": 2,
       "version_minor": 0
      },
      "text/plain": [
       "  0%|          | 0/2 [00:00<?, ?it/s]"
      ]
     },
     "metadata": {},
     "output_type": "display_data"
    },
    {
     "data": {
      "application/vnd.jupyter.widget-view+json": {
       "model_id": "9397c95ad2c841e1b6ea327c49639f93",
       "version_major": 2,
       "version_minor": 0
      },
      "text/plain": [
       "  0%|          | 0/2 [00:00<?, ?it/s]"
      ]
     },
     "metadata": {},
     "output_type": "display_data"
    },
    {
     "data": {
      "application/vnd.jupyter.widget-view+json": {
       "model_id": "d92993206aca4f93a6b2853e412c2767",
       "version_major": 2,
       "version_minor": 0
      },
      "text/plain": [
       "  0%|          | 0/2 [00:00<?, ?it/s]"
      ]
     },
     "metadata": {},
     "output_type": "display_data"
    },
    {
     "data": {
      "application/vnd.jupyter.widget-view+json": {
       "model_id": "23405ecefd794c83a27fc6f016877eb7",
       "version_major": 2,
       "version_minor": 0
      },
      "text/plain": [
       "  0%|          | 0/2 [00:00<?, ?it/s]"
      ]
     },
     "metadata": {},
     "output_type": "display_data"
    },
    {
     "data": {
      "application/vnd.jupyter.widget-view+json": {
       "model_id": "27b1f588199240f28fb098ff0692f33b",
       "version_major": 2,
       "version_minor": 0
      },
      "text/plain": [
       "  0%|          | 0/2 [00:00<?, ?it/s]"
      ]
     },
     "metadata": {},
     "output_type": "display_data"
    },
    {
     "data": {
      "application/vnd.jupyter.widget-view+json": {
       "model_id": "e422eb9c8264458997eb4db7758ef9f9",
       "version_major": 2,
       "version_minor": 0
      },
      "text/plain": [
       "  0%|          | 0/2 [00:00<?, ?it/s]"
      ]
     },
     "metadata": {},
     "output_type": "display_data"
    },
    {
     "data": {
      "application/vnd.jupyter.widget-view+json": {
       "model_id": "9518ea875da94b158c33e0cf443a458b",
       "version_major": 2,
       "version_minor": 0
      },
      "text/plain": [
       "  0%|          | 0/2 [00:00<?, ?it/s]"
      ]
     },
     "metadata": {},
     "output_type": "display_data"
    },
    {
     "data": {
      "application/vnd.jupyter.widget-view+json": {
       "model_id": "e226bb8845fb486598c3175a71bcce7b",
       "version_major": 2,
       "version_minor": 0
      },
      "text/plain": [
       "  0%|          | 0/2 [00:00<?, ?it/s]"
      ]
     },
     "metadata": {},
     "output_type": "display_data"
    },
    {
     "data": {
      "application/vnd.jupyter.widget-view+json": {
       "model_id": "7227a39c037e43d1a99c2b76d60e04ed",
       "version_major": 2,
       "version_minor": 0
      },
      "text/plain": [
       "  0%|          | 0/2 [00:00<?, ?it/s]"
      ]
     },
     "metadata": {},
     "output_type": "display_data"
    },
    {
     "data": {
      "application/vnd.jupyter.widget-view+json": {
       "model_id": "230e238239db4592a6365453f0960a2f",
       "version_major": 2,
       "version_minor": 0
      },
      "text/plain": [
       "  0%|          | 0/2 [00:00<?, ?it/s]"
      ]
     },
     "metadata": {},
     "output_type": "display_data"
    },
    {
     "data": {
      "application/vnd.jupyter.widget-view+json": {
       "model_id": "44c293a07806447b89308f1a5a0bd2c4",
       "version_major": 2,
       "version_minor": 0
      },
      "text/plain": [
       "  0%|          | 0/2 [00:00<?, ?it/s]"
      ]
     },
     "metadata": {},
     "output_type": "display_data"
    },
    {
     "data": {
      "application/vnd.jupyter.widget-view+json": {
       "model_id": "f1766a2254e548daa773b5cceebe24b8",
       "version_major": 2,
       "version_minor": 0
      },
      "text/plain": [
       "  0%|          | 0/2 [00:00<?, ?it/s]"
      ]
     },
     "metadata": {},
     "output_type": "display_data"
    },
    {
     "data": {
      "application/vnd.jupyter.widget-view+json": {
       "model_id": "f344dd68151343b39cc324a4f21b94f9",
       "version_major": 2,
       "version_minor": 0
      },
      "text/plain": [
       "  0%|          | 0/2 [00:00<?, ?it/s]"
      ]
     },
     "metadata": {},
     "output_type": "display_data"
    },
    {
     "data": {
      "application/vnd.jupyter.widget-view+json": {
       "model_id": "702866131d2345b89bfa675547e92c53",
       "version_major": 2,
       "version_minor": 0
      },
      "text/plain": [
       "  0%|          | 0/2 [00:00<?, ?it/s]"
      ]
     },
     "metadata": {},
     "output_type": "display_data"
    },
    {
     "data": {
      "application/vnd.jupyter.widget-view+json": {
       "model_id": "5edbea7cd66e4e2b9f8abc6986ce77ec",
       "version_major": 2,
       "version_minor": 0
      },
      "text/plain": [
       "  0%|          | 0/2 [00:00<?, ?it/s]"
      ]
     },
     "metadata": {},
     "output_type": "display_data"
    },
    {
     "data": {
      "application/vnd.jupyter.widget-view+json": {
       "model_id": "19313aa57163483a8796e84e18951482",
       "version_major": 2,
       "version_minor": 0
      },
      "text/plain": [
       "  0%|          | 0/2 [00:00<?, ?it/s]"
      ]
     },
     "metadata": {},
     "output_type": "display_data"
    },
    {
     "data": {
      "application/vnd.jupyter.widget-view+json": {
       "model_id": "fc94cb117bea4cd1b2fd9f080bdc8148",
       "version_major": 2,
       "version_minor": 0
      },
      "text/plain": [
       "  0%|          | 0/2 [00:00<?, ?it/s]"
      ]
     },
     "metadata": {},
     "output_type": "display_data"
    },
    {
     "data": {
      "application/vnd.jupyter.widget-view+json": {
       "model_id": "1254b526894d4f289bb566f6923f229a",
       "version_major": 2,
       "version_minor": 0
      },
      "text/plain": [
       "  0%|          | 0/2 [00:00<?, ?it/s]"
      ]
     },
     "metadata": {},
     "output_type": "display_data"
    },
    {
     "data": {
      "application/vnd.jupyter.widget-view+json": {
       "model_id": "35a5629c844a43398b8db72a1f94e117",
       "version_major": 2,
       "version_minor": 0
      },
      "text/plain": [
       "  0%|          | 0/2 [00:00<?, ?it/s]"
      ]
     },
     "metadata": {},
     "output_type": "display_data"
    },
    {
     "data": {
      "application/vnd.jupyter.widget-view+json": {
       "model_id": "cc0bc95f001d42139f1d211469c55371",
       "version_major": 2,
       "version_minor": 0
      },
      "text/plain": [
       "  0%|          | 0/2 [00:00<?, ?it/s]"
      ]
     },
     "metadata": {},
     "output_type": "display_data"
    },
    {
     "data": {
      "application/vnd.jupyter.widget-view+json": {
       "model_id": "fb238209bb8c489f9032b9187a465a25",
       "version_major": 2,
       "version_minor": 0
      },
      "text/plain": [
       "  0%|          | 0/2 [00:00<?, ?it/s]"
      ]
     },
     "metadata": {},
     "output_type": "display_data"
    },
    {
     "data": {
      "application/vnd.jupyter.widget-view+json": {
       "model_id": "ffa3dad74f784f5fb139e97da9219813",
       "version_major": 2,
       "version_minor": 0
      },
      "text/plain": [
       "  0%|          | 0/2 [00:00<?, ?it/s]"
      ]
     },
     "metadata": {},
     "output_type": "display_data"
    },
    {
     "data": {
      "application/vnd.jupyter.widget-view+json": {
       "model_id": "47c852361ce04d2999e6bb592e77d640",
       "version_major": 2,
       "version_minor": 0
      },
      "text/plain": [
       "  0%|          | 0/2 [00:00<?, ?it/s]"
      ]
     },
     "metadata": {},
     "output_type": "display_data"
    },
    {
     "data": {
      "application/vnd.jupyter.widget-view+json": {
       "model_id": "96a65d8b9c3c453ba6a7271e408a019e",
       "version_major": 2,
       "version_minor": 0
      },
      "text/plain": [
       "  0%|          | 0/2 [00:00<?, ?it/s]"
      ]
     },
     "metadata": {},
     "output_type": "display_data"
    },
    {
     "data": {
      "application/vnd.jupyter.widget-view+json": {
       "model_id": "dfbf0c3caf484f31b3401327338c27d0",
       "version_major": 2,
       "version_minor": 0
      },
      "text/plain": [
       "  0%|          | 0/2 [00:00<?, ?it/s]"
      ]
     },
     "metadata": {},
     "output_type": "display_data"
    },
    {
     "data": {
      "application/vnd.jupyter.widget-view+json": {
       "model_id": "269679823bd9432591eed9bfa1941d02",
       "version_major": 2,
       "version_minor": 0
      },
      "text/plain": [
       "  0%|          | 0/2 [00:00<?, ?it/s]"
      ]
     },
     "metadata": {},
     "output_type": "display_data"
    },
    {
     "data": {
      "application/vnd.jupyter.widget-view+json": {
       "model_id": "49f451c715ee458e8fd0e57907b0a148",
       "version_major": 2,
       "version_minor": 0
      },
      "text/plain": [
       "  0%|          | 0/2 [00:00<?, ?it/s]"
      ]
     },
     "metadata": {},
     "output_type": "display_data"
    },
    {
     "data": {
      "application/vnd.jupyter.widget-view+json": {
       "model_id": "a290e07d6f424da698c53e09c7c36bdd",
       "version_major": 2,
       "version_minor": 0
      },
      "text/plain": [
       "  0%|          | 0/2 [00:00<?, ?it/s]"
      ]
     },
     "metadata": {},
     "output_type": "display_data"
    },
    {
     "data": {
      "application/vnd.jupyter.widget-view+json": {
       "model_id": "f372d9732b0641c7abf4f91f6c0227ac",
       "version_major": 2,
       "version_minor": 0
      },
      "text/plain": [
       "  0%|          | 0/2 [00:00<?, ?it/s]"
      ]
     },
     "metadata": {},
     "output_type": "display_data"
    },
    {
     "data": {
      "application/vnd.jupyter.widget-view+json": {
       "model_id": "2d2a38a9e7654ab6aa0f57d1f2b2a354",
       "version_major": 2,
       "version_minor": 0
      },
      "text/plain": [
       "  0%|          | 0/2 [00:00<?, ?it/s]"
      ]
     },
     "metadata": {},
     "output_type": "display_data"
    },
    {
     "data": {
      "application/vnd.jupyter.widget-view+json": {
       "model_id": "eaad11ef3d3947db9cc8f0823f4005e2",
       "version_major": 2,
       "version_minor": 0
      },
      "text/plain": [
       "  0%|          | 0/2 [00:00<?, ?it/s]"
      ]
     },
     "metadata": {},
     "output_type": "display_data"
    },
    {
     "data": {
      "application/vnd.jupyter.widget-view+json": {
       "model_id": "68e981963da64c57a186956871e0f84c",
       "version_major": 2,
       "version_minor": 0
      },
      "text/plain": [
       "  0%|          | 0/2 [00:00<?, ?it/s]"
      ]
     },
     "metadata": {},
     "output_type": "display_data"
    },
    {
     "data": {
      "application/vnd.jupyter.widget-view+json": {
       "model_id": "61ea604463694820ad2909734fd83af2",
       "version_major": 2,
       "version_minor": 0
      },
      "text/plain": [
       "  0%|          | 0/2 [00:00<?, ?it/s]"
      ]
     },
     "metadata": {},
     "output_type": "display_data"
    },
    {
     "data": {
      "application/vnd.jupyter.widget-view+json": {
       "model_id": "3732453f36c44d39bee73e4c88122ac7",
       "version_major": 2,
       "version_minor": 0
      },
      "text/plain": [
       "  0%|          | 0/2 [00:00<?, ?it/s]"
      ]
     },
     "metadata": {},
     "output_type": "display_data"
    },
    {
     "data": {
      "application/vnd.jupyter.widget-view+json": {
       "model_id": "0a7fdbe4bcb74d3388ac13e41f9a50f8",
       "version_major": 2,
       "version_minor": 0
      },
      "text/plain": [
       "  0%|          | 0/2 [00:00<?, ?it/s]"
      ]
     },
     "metadata": {},
     "output_type": "display_data"
    },
    {
     "data": {
      "application/vnd.jupyter.widget-view+json": {
       "model_id": "bce9f58c19104b3b9747575297691e9a",
       "version_major": 2,
       "version_minor": 0
      },
      "text/plain": [
       "  0%|          | 0/2 [00:00<?, ?it/s]"
      ]
     },
     "metadata": {},
     "output_type": "display_data"
    },
    {
     "data": {
      "application/vnd.jupyter.widget-view+json": {
       "model_id": "b8d644e377c3464e95b8c0ae63f15a73",
       "version_major": 2,
       "version_minor": 0
      },
      "text/plain": [
       "  0%|          | 0/2 [00:00<?, ?it/s]"
      ]
     },
     "metadata": {},
     "output_type": "display_data"
    },
    {
     "data": {
      "application/vnd.jupyter.widget-view+json": {
       "model_id": "defdaafe180d4070a29ca8c83ee2697b",
       "version_major": 2,
       "version_minor": 0
      },
      "text/plain": [
       "  0%|          | 0/2 [00:00<?, ?it/s]"
      ]
     },
     "metadata": {},
     "output_type": "display_data"
    },
    {
     "data": {
      "application/vnd.jupyter.widget-view+json": {
       "model_id": "cce4a6a8f3ea4ce0be14185322166cd9",
       "version_major": 2,
       "version_minor": 0
      },
      "text/plain": [
       "  0%|          | 0/2 [00:00<?, ?it/s]"
      ]
     },
     "metadata": {},
     "output_type": "display_data"
    },
    {
     "data": {
      "application/vnd.jupyter.widget-view+json": {
       "model_id": "ff857a6d56eb41d3958fcbd1daf19a0a",
       "version_major": 2,
       "version_minor": 0
      },
      "text/plain": [
       "  0%|          | 0/2 [00:00<?, ?it/s]"
      ]
     },
     "metadata": {},
     "output_type": "display_data"
    },
    {
     "data": {
      "application/vnd.jupyter.widget-view+json": {
       "model_id": "ee588b6403284107a8371902fb625363",
       "version_major": 2,
       "version_minor": 0
      },
      "text/plain": [
       "  0%|          | 0/2 [00:00<?, ?it/s]"
      ]
     },
     "metadata": {},
     "output_type": "display_data"
    },
    {
     "data": {
      "application/vnd.jupyter.widget-view+json": {
       "model_id": "8f317552d0ee43d7a99881a842cacedb",
       "version_major": 2,
       "version_minor": 0
      },
      "text/plain": [
       "  0%|          | 0/2 [00:00<?, ?it/s]"
      ]
     },
     "metadata": {},
     "output_type": "display_data"
    },
    {
     "data": {
      "application/vnd.jupyter.widget-view+json": {
       "model_id": "031fce56cadb41bfa62b4ec76b679d4d",
       "version_major": 2,
       "version_minor": 0
      },
      "text/plain": [
       "  0%|          | 0/2 [00:00<?, ?it/s]"
      ]
     },
     "metadata": {},
     "output_type": "display_data"
    },
    {
     "data": {
      "application/vnd.jupyter.widget-view+json": {
       "model_id": "1fea4b30028a4900992a12c9dbd20745",
       "version_major": 2,
       "version_minor": 0
      },
      "text/plain": [
       "  0%|          | 0/2 [00:00<?, ?it/s]"
      ]
     },
     "metadata": {},
     "output_type": "display_data"
    },
    {
     "data": {
      "application/vnd.jupyter.widget-view+json": {
       "model_id": "5616ac64cdfd44d88bf96b4392a514a7",
       "version_major": 2,
       "version_minor": 0
      },
      "text/plain": [
       "  0%|          | 0/2 [00:00<?, ?it/s]"
      ]
     },
     "metadata": {},
     "output_type": "display_data"
    },
    {
     "data": {
      "application/vnd.jupyter.widget-view+json": {
       "model_id": "992154ed90734249b5d71b8d5dea6666",
       "version_major": 2,
       "version_minor": 0
      },
      "text/plain": [
       "  0%|          | 0/2 [00:00<?, ?it/s]"
      ]
     },
     "metadata": {},
     "output_type": "display_data"
    },
    {
     "data": {
      "application/vnd.jupyter.widget-view+json": {
       "model_id": "e8ad06738e8149dfb60bbce141d4f868",
       "version_major": 2,
       "version_minor": 0
      },
      "text/plain": [
       "  0%|          | 0/2 [00:00<?, ?it/s]"
      ]
     },
     "metadata": {},
     "output_type": "display_data"
    },
    {
     "data": {
      "application/vnd.jupyter.widget-view+json": {
       "model_id": "6c7f8e46314a412f9713f0dcc525b581",
       "version_major": 2,
       "version_minor": 0
      },
      "text/plain": [
       "  0%|          | 0/2 [00:00<?, ?it/s]"
      ]
     },
     "metadata": {},
     "output_type": "display_data"
    },
    {
     "data": {
      "application/vnd.jupyter.widget-view+json": {
       "model_id": "54bfc18de3324000bba3af54efb06459",
       "version_major": 2,
       "version_minor": 0
      },
      "text/plain": [
       "  0%|          | 0/2 [00:00<?, ?it/s]"
      ]
     },
     "metadata": {},
     "output_type": "display_data"
    },
    {
     "data": {
      "application/vnd.jupyter.widget-view+json": {
       "model_id": "f489dfefc22343738167a730f9c6cee0",
       "version_major": 2,
       "version_minor": 0
      },
      "text/plain": [
       "  0%|          | 0/2 [00:00<?, ?it/s]"
      ]
     },
     "metadata": {},
     "output_type": "display_data"
    },
    {
     "data": {
      "application/vnd.jupyter.widget-view+json": {
       "model_id": "b4deb2fe1fb24f15baa71e17c72fb985",
       "version_major": 2,
       "version_minor": 0
      },
      "text/plain": [
       "  0%|          | 0/2 [00:00<?, ?it/s]"
      ]
     },
     "metadata": {},
     "output_type": "display_data"
    },
    {
     "data": {
      "application/vnd.jupyter.widget-view+json": {
       "model_id": "6a4993afb7954313a9866d107f46591c",
       "version_major": 2,
       "version_minor": 0
      },
      "text/plain": [
       "  0%|          | 0/2 [00:00<?, ?it/s]"
      ]
     },
     "metadata": {},
     "output_type": "display_data"
    },
    {
     "data": {
      "application/vnd.jupyter.widget-view+json": {
       "model_id": "99dc3d0b712d47768ebbc9f3f19e3433",
       "version_major": 2,
       "version_minor": 0
      },
      "text/plain": [
       "  0%|          | 0/2 [00:00<?, ?it/s]"
      ]
     },
     "metadata": {},
     "output_type": "display_data"
    },
    {
     "data": {
      "application/vnd.jupyter.widget-view+json": {
       "model_id": "e56c04a800c04860bc0e110b4356c862",
       "version_major": 2,
       "version_minor": 0
      },
      "text/plain": [
       "  0%|          | 0/2 [00:00<?, ?it/s]"
      ]
     },
     "metadata": {},
     "output_type": "display_data"
    },
    {
     "data": {
      "application/vnd.jupyter.widget-view+json": {
       "model_id": "09ab156c4f1b43ec896b5e1bd6cc9334",
       "version_major": 2,
       "version_minor": 0
      },
      "text/plain": [
       "  0%|          | 0/2 [00:00<?, ?it/s]"
      ]
     },
     "metadata": {},
     "output_type": "display_data"
    },
    {
     "data": {
      "application/vnd.jupyter.widget-view+json": {
       "model_id": "058b8073a4f0451cb669c489334d6c07",
       "version_major": 2,
       "version_minor": 0
      },
      "text/plain": [
       "  0%|          | 0/2 [00:00<?, ?it/s]"
      ]
     },
     "metadata": {},
     "output_type": "display_data"
    },
    {
     "data": {
      "application/vnd.jupyter.widget-view+json": {
       "model_id": "1ca5df907092495f9319a4e67ae1f2e0",
       "version_major": 2,
       "version_minor": 0
      },
      "text/plain": [
       "  0%|          | 0/2 [00:00<?, ?it/s]"
      ]
     },
     "metadata": {},
     "output_type": "display_data"
    },
    {
     "data": {
      "application/vnd.jupyter.widget-view+json": {
       "model_id": "3aad0da32f5e423b9bcc6aa593888ae3",
       "version_major": 2,
       "version_minor": 0
      },
      "text/plain": [
       "  0%|          | 0/2 [00:00<?, ?it/s]"
      ]
     },
     "metadata": {},
     "output_type": "display_data"
    },
    {
     "data": {
      "application/vnd.jupyter.widget-view+json": {
       "model_id": "d28d2be428954a9999e5a1ad42b78df9",
       "version_major": 2,
       "version_minor": 0
      },
      "text/plain": [
       "  0%|          | 0/2 [00:00<?, ?it/s]"
      ]
     },
     "metadata": {},
     "output_type": "display_data"
    },
    {
     "data": {
      "application/vnd.jupyter.widget-view+json": {
       "model_id": "3c33b851ec44462ea66f384aaf93d0b6",
       "version_major": 2,
       "version_minor": 0
      },
      "text/plain": [
       "  0%|          | 0/2 [00:00<?, ?it/s]"
      ]
     },
     "metadata": {},
     "output_type": "display_data"
    },
    {
     "data": {
      "application/vnd.jupyter.widget-view+json": {
       "model_id": "9227ff3baada4cada69fcf5f2e330b9e",
       "version_major": 2,
       "version_minor": 0
      },
      "text/plain": [
       "  0%|          | 0/2 [00:00<?, ?it/s]"
      ]
     },
     "metadata": {},
     "output_type": "display_data"
    },
    {
     "data": {
      "application/vnd.jupyter.widget-view+json": {
       "model_id": "f9943095debc4127b874ceb35b15af2d",
       "version_major": 2,
       "version_minor": 0
      },
      "text/plain": [
       "  0%|          | 0/2 [00:00<?, ?it/s]"
      ]
     },
     "metadata": {},
     "output_type": "display_data"
    },
    {
     "data": {
      "application/vnd.jupyter.widget-view+json": {
       "model_id": "6c88b71bc59740a6b840d3741c3a8bca",
       "version_major": 2,
       "version_minor": 0
      },
      "text/plain": [
       "  0%|          | 0/2 [00:00<?, ?it/s]"
      ]
     },
     "metadata": {},
     "output_type": "display_data"
    },
    {
     "data": {
      "application/vnd.jupyter.widget-view+json": {
       "model_id": "fdc784498bd84bf590a38c0ed1891b06",
       "version_major": 2,
       "version_minor": 0
      },
      "text/plain": [
       "  0%|          | 0/2 [00:00<?, ?it/s]"
      ]
     },
     "metadata": {},
     "output_type": "display_data"
    },
    {
     "data": {
      "application/vnd.jupyter.widget-view+json": {
       "model_id": "2d792012567e45d997f09d5247b39385",
       "version_major": 2,
       "version_minor": 0
      },
      "text/plain": [
       "  0%|          | 0/2 [00:00<?, ?it/s]"
      ]
     },
     "metadata": {},
     "output_type": "display_data"
    },
    {
     "data": {
      "application/vnd.jupyter.widget-view+json": {
       "model_id": "dd3c9c5ff49e45a2adbf371c256357d7",
       "version_major": 2,
       "version_minor": 0
      },
      "text/plain": [
       "  0%|          | 0/2 [00:00<?, ?it/s]"
      ]
     },
     "metadata": {},
     "output_type": "display_data"
    },
    {
     "data": {
      "application/vnd.jupyter.widget-view+json": {
       "model_id": "118e066fead7401f86e3cfe8a3eff8cb",
       "version_major": 2,
       "version_minor": 0
      },
      "text/plain": [
       "  0%|          | 0/2 [00:00<?, ?it/s]"
      ]
     },
     "metadata": {},
     "output_type": "display_data"
    },
    {
     "data": {
      "application/vnd.jupyter.widget-view+json": {
       "model_id": "8d210a0a70554a2bb366e7ee8e2e0f96",
       "version_major": 2,
       "version_minor": 0
      },
      "text/plain": [
       "  0%|          | 0/2 [00:00<?, ?it/s]"
      ]
     },
     "metadata": {},
     "output_type": "display_data"
    },
    {
     "data": {
      "application/vnd.jupyter.widget-view+json": {
       "model_id": "07a4d39ea35c4f19bf95acb8d737fc9a",
       "version_major": 2,
       "version_minor": 0
      },
      "text/plain": [
       "  0%|          | 0/2 [00:00<?, ?it/s]"
      ]
     },
     "metadata": {},
     "output_type": "display_data"
    },
    {
     "data": {
      "application/vnd.jupyter.widget-view+json": {
       "model_id": "eaf2d3156b8f4a0b934b8726332e47f0",
       "version_major": 2,
       "version_minor": 0
      },
      "text/plain": [
       "  0%|          | 0/2 [00:00<?, ?it/s]"
      ]
     },
     "metadata": {},
     "output_type": "display_data"
    },
    {
     "data": {
      "application/vnd.jupyter.widget-view+json": {
       "model_id": "a1691aebb1de41c1be4afbb97b667cda",
       "version_major": 2,
       "version_minor": 0
      },
      "text/plain": [
       "  0%|          | 0/2 [00:00<?, ?it/s]"
      ]
     },
     "metadata": {},
     "output_type": "display_data"
    },
    {
     "data": {
      "application/vnd.jupyter.widget-view+json": {
       "model_id": "8a0a08cc931c4c609c84a1b5f209b28c",
       "version_major": 2,
       "version_minor": 0
      },
      "text/plain": [
       "  0%|          | 0/2 [00:00<?, ?it/s]"
      ]
     },
     "metadata": {},
     "output_type": "display_data"
    },
    {
     "data": {
      "application/vnd.jupyter.widget-view+json": {
       "model_id": "4cb862bd50094936b17b9c62aaa845be",
       "version_major": 2,
       "version_minor": 0
      },
      "text/plain": [
       "  0%|          | 0/2 [00:00<?, ?it/s]"
      ]
     },
     "metadata": {},
     "output_type": "display_data"
    },
    {
     "data": {
      "application/vnd.jupyter.widget-view+json": {
       "model_id": "cfa230f7a6224ff08e918b9965844895",
       "version_major": 2,
       "version_minor": 0
      },
      "text/plain": [
       "  0%|          | 0/2 [00:00<?, ?it/s]"
      ]
     },
     "metadata": {},
     "output_type": "display_data"
    },
    {
     "data": {
      "application/vnd.jupyter.widget-view+json": {
       "model_id": "0c6abbbb52134043931d6a451130bea5",
       "version_major": 2,
       "version_minor": 0
      },
      "text/plain": [
       "  0%|          | 0/2 [00:00<?, ?it/s]"
      ]
     },
     "metadata": {},
     "output_type": "display_data"
    },
    {
     "data": {
      "application/vnd.jupyter.widget-view+json": {
       "model_id": "5d5db75627884175bb724ac644f01855",
       "version_major": 2,
       "version_minor": 0
      },
      "text/plain": [
       "  0%|          | 0/2 [00:00<?, ?it/s]"
      ]
     },
     "metadata": {},
     "output_type": "display_data"
    },
    {
     "data": {
      "application/vnd.jupyter.widget-view+json": {
       "model_id": "7996b8a5aa7f4e22ba28f09f5c908647",
       "version_major": 2,
       "version_minor": 0
      },
      "text/plain": [
       "  0%|          | 0/2 [00:00<?, ?it/s]"
      ]
     },
     "metadata": {},
     "output_type": "display_data"
    },
    {
     "data": {
      "application/vnd.jupyter.widget-view+json": {
       "model_id": "f22d85d73b0f4523bb43bcbe86c49a0c",
       "version_major": 2,
       "version_minor": 0
      },
      "text/plain": [
       "  0%|          | 0/2 [00:00<?, ?it/s]"
      ]
     },
     "metadata": {},
     "output_type": "display_data"
    },
    {
     "data": {
      "application/vnd.jupyter.widget-view+json": {
       "model_id": "40a2a94aa718498ba7de3b8e191396d7",
       "version_major": 2,
       "version_minor": 0
      },
      "text/plain": [
       "  0%|          | 0/2 [00:00<?, ?it/s]"
      ]
     },
     "metadata": {},
     "output_type": "display_data"
    },
    {
     "data": {
      "application/vnd.jupyter.widget-view+json": {
       "model_id": "f02a7af66e9c41298cdcb70cf3855e1a",
       "version_major": 2,
       "version_minor": 0
      },
      "text/plain": [
       "  0%|          | 0/2 [00:00<?, ?it/s]"
      ]
     },
     "metadata": {},
     "output_type": "display_data"
    },
    {
     "data": {
      "application/vnd.jupyter.widget-view+json": {
       "model_id": "e0a68bfdeb6e4308a5d9a183d1b2eb3a",
       "version_major": 2,
       "version_minor": 0
      },
      "text/plain": [
       "  0%|          | 0/2 [00:00<?, ?it/s]"
      ]
     },
     "metadata": {},
     "output_type": "display_data"
    },
    {
     "data": {
      "application/vnd.jupyter.widget-view+json": {
       "model_id": "f89a61b6903f4235877aa25d2c794ef6",
       "version_major": 2,
       "version_minor": 0
      },
      "text/plain": [
       "  0%|          | 0/2 [00:00<?, ?it/s]"
      ]
     },
     "metadata": {},
     "output_type": "display_data"
    },
    {
     "data": {
      "application/vnd.jupyter.widget-view+json": {
       "model_id": "64d85ecbd77f44318a0c8304dc66b9fe",
       "version_major": 2,
       "version_minor": 0
      },
      "text/plain": [
       "  0%|          | 0/2 [00:00<?, ?it/s]"
      ]
     },
     "metadata": {},
     "output_type": "display_data"
    },
    {
     "data": {
      "application/vnd.jupyter.widget-view+json": {
       "model_id": "bdc13485c415467c9eaa6773e218bb9d",
       "version_major": 2,
       "version_minor": 0
      },
      "text/plain": [
       "  0%|          | 0/2 [00:00<?, ?it/s]"
      ]
     },
     "metadata": {},
     "output_type": "display_data"
    },
    {
     "data": {
      "application/vnd.jupyter.widget-view+json": {
       "model_id": "6fc30cdfea964f98b5ac5cfa38b009e6",
       "version_major": 2,
       "version_minor": 0
      },
      "text/plain": [
       "  0%|          | 0/2 [00:00<?, ?it/s]"
      ]
     },
     "metadata": {},
     "output_type": "display_data"
    },
    {
     "data": {
      "application/vnd.jupyter.widget-view+json": {
       "model_id": "0d93c7fd969e4ea49652a4fe1f80b38d",
       "version_major": 2,
       "version_minor": 0
      },
      "text/plain": [
       "  0%|          | 0/2 [00:00<?, ?it/s]"
      ]
     },
     "metadata": {},
     "output_type": "display_data"
    },
    {
     "data": {
      "application/vnd.jupyter.widget-view+json": {
       "model_id": "55eae5b9fb344d5e9843d896162328d0",
       "version_major": 2,
       "version_minor": 0
      },
      "text/plain": [
       "  0%|          | 0/2 [00:00<?, ?it/s]"
      ]
     },
     "metadata": {},
     "output_type": "display_data"
    },
    {
     "data": {
      "application/vnd.jupyter.widget-view+json": {
       "model_id": "9efbc7b3626f448aaaffbabbf65212be",
       "version_major": 2,
       "version_minor": 0
      },
      "text/plain": [
       "  0%|          | 0/2 [00:00<?, ?it/s]"
      ]
     },
     "metadata": {},
     "output_type": "display_data"
    },
    {
     "data": {
      "application/vnd.jupyter.widget-view+json": {
       "model_id": "da71fea9b67d4369a231b16ed33ec5aa",
       "version_major": 2,
       "version_minor": 0
      },
      "text/plain": [
       "  0%|          | 0/2 [00:00<?, ?it/s]"
      ]
     },
     "metadata": {},
     "output_type": "display_data"
    },
    {
     "data": {
      "application/vnd.jupyter.widget-view+json": {
       "model_id": "c281ce4bc43a427591427c6beaa182bf",
       "version_major": 2,
       "version_minor": 0
      },
      "text/plain": [
       "  0%|          | 0/2 [00:00<?, ?it/s]"
      ]
     },
     "metadata": {},
     "output_type": "display_data"
    },
    {
     "data": {
      "application/vnd.jupyter.widget-view+json": {
       "model_id": "390c2e1b914e4d2faee3be63bd36c22d",
       "version_major": 2,
       "version_minor": 0
      },
      "text/plain": [
       "  0%|          | 0/2 [00:00<?, ?it/s]"
      ]
     },
     "metadata": {},
     "output_type": "display_data"
    },
    {
     "data": {
      "application/vnd.jupyter.widget-view+json": {
       "model_id": "498ebf9d30f0465c89a4e0199a8eb73a",
       "version_major": 2,
       "version_minor": 0
      },
      "text/plain": [
       "  0%|          | 0/2 [00:00<?, ?it/s]"
      ]
     },
     "metadata": {},
     "output_type": "display_data"
    },
    {
     "data": {
      "application/vnd.jupyter.widget-view+json": {
       "model_id": "fcf632708d4944979a1faf74eff95fd6",
       "version_major": 2,
       "version_minor": 0
      },
      "text/plain": [
       "  0%|          | 0/2 [00:00<?, ?it/s]"
      ]
     },
     "metadata": {},
     "output_type": "display_data"
    },
    {
     "data": {
      "application/vnd.jupyter.widget-view+json": {
       "model_id": "bd1d3324c79046a588882d47f0afbbd2",
       "version_major": 2,
       "version_minor": 0
      },
      "text/plain": [
       "  0%|          | 0/2 [00:00<?, ?it/s]"
      ]
     },
     "metadata": {},
     "output_type": "display_data"
    },
    {
     "data": {
      "application/vnd.jupyter.widget-view+json": {
       "model_id": "8fd2e14e5af747c1add1d0cf1efc8e85",
       "version_major": 2,
       "version_minor": 0
      },
      "text/plain": [
       "  0%|          | 0/2 [00:00<?, ?it/s]"
      ]
     },
     "metadata": {},
     "output_type": "display_data"
    },
    {
     "data": {
      "application/vnd.jupyter.widget-view+json": {
       "model_id": "d31216536abe445fa0070a12b534c99a",
       "version_major": 2,
       "version_minor": 0
      },
      "text/plain": [
       "  0%|          | 0/2 [00:00<?, ?it/s]"
      ]
     },
     "metadata": {},
     "output_type": "display_data"
    },
    {
     "data": {
      "application/vnd.jupyter.widget-view+json": {
       "model_id": "8e7a038e6ed04d11bd28d4e6f2c65224",
       "version_major": 2,
       "version_minor": 0
      },
      "text/plain": [
       "  0%|          | 0/2 [00:00<?, ?it/s]"
      ]
     },
     "metadata": {},
     "output_type": "display_data"
    },
    {
     "data": {
      "application/vnd.jupyter.widget-view+json": {
       "model_id": "aed44cf1490743d5aee457cb0dbbd466",
       "version_major": 2,
       "version_minor": 0
      },
      "text/plain": [
       "  0%|          | 0/2 [00:00<?, ?it/s]"
      ]
     },
     "metadata": {},
     "output_type": "display_data"
    },
    {
     "data": {
      "application/vnd.jupyter.widget-view+json": {
       "model_id": "180e51bcd6f24d239a648978f01a1ed7",
       "version_major": 2,
       "version_minor": 0
      },
      "text/plain": [
       "  0%|          | 0/2 [00:00<?, ?it/s]"
      ]
     },
     "metadata": {},
     "output_type": "display_data"
    },
    {
     "data": {
      "application/vnd.jupyter.widget-view+json": {
       "model_id": "23c20fa980a44c89b2531a97f524be1e",
       "version_major": 2,
       "version_minor": 0
      },
      "text/plain": [
       "  0%|          | 0/2 [00:00<?, ?it/s]"
      ]
     },
     "metadata": {},
     "output_type": "display_data"
    },
    {
     "data": {
      "application/vnd.jupyter.widget-view+json": {
       "model_id": "d855d97cf5eb43088a5abdafcb7d803f",
       "version_major": 2,
       "version_minor": 0
      },
      "text/plain": [
       "  0%|          | 0/2 [00:00<?, ?it/s]"
      ]
     },
     "metadata": {},
     "output_type": "display_data"
    },
    {
     "data": {
      "application/vnd.jupyter.widget-view+json": {
       "model_id": "38b338f1298f464ab464bbe645f25f2f",
       "version_major": 2,
       "version_minor": 0
      },
      "text/plain": [
       "  0%|          | 0/2 [00:00<?, ?it/s]"
      ]
     },
     "metadata": {},
     "output_type": "display_data"
    },
    {
     "data": {
      "application/vnd.jupyter.widget-view+json": {
       "model_id": "a4b3e2c4518e41d49068de7e0cfa4008",
       "version_major": 2,
       "version_minor": 0
      },
      "text/plain": [
       "  0%|          | 0/2 [00:00<?, ?it/s]"
      ]
     },
     "metadata": {},
     "output_type": "display_data"
    },
    {
     "data": {
      "application/vnd.jupyter.widget-view+json": {
       "model_id": "64371fbfa5b64b10bfb0e5d5206067f8",
       "version_major": 2,
       "version_minor": 0
      },
      "text/plain": [
       "  0%|          | 0/2 [00:00<?, ?it/s]"
      ]
     },
     "metadata": {},
     "output_type": "display_data"
    },
    {
     "data": {
      "application/vnd.jupyter.widget-view+json": {
       "model_id": "0298624400dd40eda28bf75ce9907e8a",
       "version_major": 2,
       "version_minor": 0
      },
      "text/plain": [
       "  0%|          | 0/2 [00:00<?, ?it/s]"
      ]
     },
     "metadata": {},
     "output_type": "display_data"
    },
    {
     "data": {
      "application/vnd.jupyter.widget-view+json": {
       "model_id": "78ba2f03763944c18cde79e2322cc8ee",
       "version_major": 2,
       "version_minor": 0
      },
      "text/plain": [
       "  0%|          | 0/2 [00:00<?, ?it/s]"
      ]
     },
     "metadata": {},
     "output_type": "display_data"
    },
    {
     "data": {
      "application/vnd.jupyter.widget-view+json": {
       "model_id": "d06c34afd56e4c49913d146186773a94",
       "version_major": 2,
       "version_minor": 0
      },
      "text/plain": [
       "  0%|          | 0/2 [00:00<?, ?it/s]"
      ]
     },
     "metadata": {},
     "output_type": "display_data"
    },
    {
     "data": {
      "application/vnd.jupyter.widget-view+json": {
       "model_id": "b8acb6afe54b4081a365a87b39645875",
       "version_major": 2,
       "version_minor": 0
      },
      "text/plain": [
       "  0%|          | 0/2 [00:00<?, ?it/s]"
      ]
     },
     "metadata": {},
     "output_type": "display_data"
    },
    {
     "data": {
      "application/vnd.jupyter.widget-view+json": {
       "model_id": "e45a975141b042f3a8facd159ba2d194",
       "version_major": 2,
       "version_minor": 0
      },
      "text/plain": [
       "  0%|          | 0/2 [00:00<?, ?it/s]"
      ]
     },
     "metadata": {},
     "output_type": "display_data"
    },
    {
     "data": {
      "application/vnd.jupyter.widget-view+json": {
       "model_id": "69231d3e16ff4939826c6b89a2293cc3",
       "version_major": 2,
       "version_minor": 0
      },
      "text/plain": [
       "  0%|          | 0/2 [00:00<?, ?it/s]"
      ]
     },
     "metadata": {},
     "output_type": "display_data"
    },
    {
     "data": {
      "application/vnd.jupyter.widget-view+json": {
       "model_id": "d12ab0f59af745ab9b44f7382f18e523",
       "version_major": 2,
       "version_minor": 0
      },
      "text/plain": [
       "  0%|          | 0/2 [00:00<?, ?it/s]"
      ]
     },
     "metadata": {},
     "output_type": "display_data"
    },
    {
     "data": {
      "application/vnd.jupyter.widget-view+json": {
       "model_id": "cb61faf50b274334a48680946811be3a",
       "version_major": 2,
       "version_minor": 0
      },
      "text/plain": [
       "  0%|          | 0/2 [00:00<?, ?it/s]"
      ]
     },
     "metadata": {},
     "output_type": "display_data"
    },
    {
     "data": {
      "application/vnd.jupyter.widget-view+json": {
       "model_id": "7e8d1a7a11e843f7b48cb6a4a85757a3",
       "version_major": 2,
       "version_minor": 0
      },
      "text/plain": [
       "  0%|          | 0/2 [00:00<?, ?it/s]"
      ]
     },
     "metadata": {},
     "output_type": "display_data"
    },
    {
     "data": {
      "application/vnd.jupyter.widget-view+json": {
       "model_id": "fc96094e479746ceacdd782a6e003675",
       "version_major": 2,
       "version_minor": 0
      },
      "text/plain": [
       "  0%|          | 0/2 [00:00<?, ?it/s]"
      ]
     },
     "metadata": {},
     "output_type": "display_data"
    },
    {
     "data": {
      "application/vnd.jupyter.widget-view+json": {
       "model_id": "2ea7c0e6126a4defa72c9068d1464f97",
       "version_major": 2,
       "version_minor": 0
      },
      "text/plain": [
       "  0%|          | 0/2 [00:00<?, ?it/s]"
      ]
     },
     "metadata": {},
     "output_type": "display_data"
    },
    {
     "data": {
      "application/vnd.jupyter.widget-view+json": {
       "model_id": "31505854c8264068b152dc6b43f38417",
       "version_major": 2,
       "version_minor": 0
      },
      "text/plain": [
       "  0%|          | 0/2 [00:00<?, ?it/s]"
      ]
     },
     "metadata": {},
     "output_type": "display_data"
    },
    {
     "data": {
      "application/vnd.jupyter.widget-view+json": {
       "model_id": "71b6afb73eb84652a2dbfc9f64fad9e0",
       "version_major": 2,
       "version_minor": 0
      },
      "text/plain": [
       "  0%|          | 0/2 [00:00<?, ?it/s]"
      ]
     },
     "metadata": {},
     "output_type": "display_data"
    },
    {
     "data": {
      "application/vnd.jupyter.widget-view+json": {
       "model_id": "8ed3f4c8cab54d62bbc933bd4cd90187",
       "version_major": 2,
       "version_minor": 0
      },
      "text/plain": [
       "  0%|          | 0/2 [00:00<?, ?it/s]"
      ]
     },
     "metadata": {},
     "output_type": "display_data"
    },
    {
     "data": {
      "application/vnd.jupyter.widget-view+json": {
       "model_id": "9d359013ef6b43b5b20c7ca43dcc5aa6",
       "version_major": 2,
       "version_minor": 0
      },
      "text/plain": [
       "  0%|          | 0/2 [00:00<?, ?it/s]"
      ]
     },
     "metadata": {},
     "output_type": "display_data"
    },
    {
     "data": {
      "application/vnd.jupyter.widget-view+json": {
       "model_id": "2d8c7ad892a2433a95222c7939c62339",
       "version_major": 2,
       "version_minor": 0
      },
      "text/plain": [
       "  0%|          | 0/2 [00:00<?, ?it/s]"
      ]
     },
     "metadata": {},
     "output_type": "display_data"
    },
    {
     "data": {
      "application/vnd.jupyter.widget-view+json": {
       "model_id": "2d7d4771bfc24f5eb252f2884b65735d",
       "version_major": 2,
       "version_minor": 0
      },
      "text/plain": [
       "  0%|          | 0/2 [00:00<?, ?it/s]"
      ]
     },
     "metadata": {},
     "output_type": "display_data"
    },
    {
     "data": {
      "application/vnd.jupyter.widget-view+json": {
       "model_id": "b9f59fb8488f41f0b9f28f3e53f5f49e",
       "version_major": 2,
       "version_minor": 0
      },
      "text/plain": [
       "  0%|          | 0/2 [00:00<?, ?it/s]"
      ]
     },
     "metadata": {},
     "output_type": "display_data"
    },
    {
     "data": {
      "application/vnd.jupyter.widget-view+json": {
       "model_id": "63c4075fbe534645aaf834d72c97bf14",
       "version_major": 2,
       "version_minor": 0
      },
      "text/plain": [
       "  0%|          | 0/2 [00:00<?, ?it/s]"
      ]
     },
     "metadata": {},
     "output_type": "display_data"
    },
    {
     "data": {
      "application/vnd.jupyter.widget-view+json": {
       "model_id": "44e5d05f9be441a4b2916da5eaa1d8ce",
       "version_major": 2,
       "version_minor": 0
      },
      "text/plain": [
       "  0%|          | 0/2 [00:00<?, ?it/s]"
      ]
     },
     "metadata": {},
     "output_type": "display_data"
    },
    {
     "data": {
      "application/vnd.jupyter.widget-view+json": {
       "model_id": "931cc0505a404d23aa449caa80e92bab",
       "version_major": 2,
       "version_minor": 0
      },
      "text/plain": [
       "  0%|          | 0/2 [00:00<?, ?it/s]"
      ]
     },
     "metadata": {},
     "output_type": "display_data"
    },
    {
     "data": {
      "application/vnd.jupyter.widget-view+json": {
       "model_id": "57afdf80a50e4b7f86e3396c363385a4",
       "version_major": 2,
       "version_minor": 0
      },
      "text/plain": [
       "  0%|          | 0/2 [00:00<?, ?it/s]"
      ]
     },
     "metadata": {},
     "output_type": "display_data"
    },
    {
     "data": {
      "application/vnd.jupyter.widget-view+json": {
       "model_id": "f426379f4d484ead8a2c3684a4f5771b",
       "version_major": 2,
       "version_minor": 0
      },
      "text/plain": [
       "  0%|          | 0/2 [00:00<?, ?it/s]"
      ]
     },
     "metadata": {},
     "output_type": "display_data"
    },
    {
     "data": {
      "application/vnd.jupyter.widget-view+json": {
       "model_id": "e9e7ae4259ad4ad5ae871a77ba63a1f7",
       "version_major": 2,
       "version_minor": 0
      },
      "text/plain": [
       "  0%|          | 0/2 [00:00<?, ?it/s]"
      ]
     },
     "metadata": {},
     "output_type": "display_data"
    },
    {
     "data": {
      "application/vnd.jupyter.widget-view+json": {
       "model_id": "22fee209208f4b5b90b9d96f9f68d78e",
       "version_major": 2,
       "version_minor": 0
      },
      "text/plain": [
       "  0%|          | 0/2 [00:00<?, ?it/s]"
      ]
     },
     "metadata": {},
     "output_type": "display_data"
    },
    {
     "data": {
      "application/vnd.jupyter.widget-view+json": {
       "model_id": "29ac6c8b713343a29f6efb1bb3aefbc8",
       "version_major": 2,
       "version_minor": 0
      },
      "text/plain": [
       "  0%|          | 0/2 [00:00<?, ?it/s]"
      ]
     },
     "metadata": {},
     "output_type": "display_data"
    },
    {
     "data": {
      "application/vnd.jupyter.widget-view+json": {
       "model_id": "f26eb0e06dd7469b9df506c7ad4f21b7",
       "version_major": 2,
       "version_minor": 0
      },
      "text/plain": [
       "  0%|          | 0/2 [00:00<?, ?it/s]"
      ]
     },
     "metadata": {},
     "output_type": "display_data"
    },
    {
     "data": {
      "application/vnd.jupyter.widget-view+json": {
       "model_id": "4176201294864e5c985ce5e8a7328ee1",
       "version_major": 2,
       "version_minor": 0
      },
      "text/plain": [
       "  0%|          | 0/2 [00:00<?, ?it/s]"
      ]
     },
     "metadata": {},
     "output_type": "display_data"
    },
    {
     "data": {
      "application/vnd.jupyter.widget-view+json": {
       "model_id": "32afc3997d1c4fbeac5262181d300985",
       "version_major": 2,
       "version_minor": 0
      },
      "text/plain": [
       "  0%|          | 0/2 [00:00<?, ?it/s]"
      ]
     },
     "metadata": {},
     "output_type": "display_data"
    },
    {
     "data": {
      "application/vnd.jupyter.widget-view+json": {
       "model_id": "95565c56c69844cca5da49e8fc1848d2",
       "version_major": 2,
       "version_minor": 0
      },
      "text/plain": [
       "  0%|          | 0/2 [00:00<?, ?it/s]"
      ]
     },
     "metadata": {},
     "output_type": "display_data"
    },
    {
     "data": {
      "application/vnd.jupyter.widget-view+json": {
       "model_id": "805166f3d53f4460bc5bd5680f5fbb42",
       "version_major": 2,
       "version_minor": 0
      },
      "text/plain": [
       "  0%|          | 0/2 [00:00<?, ?it/s]"
      ]
     },
     "metadata": {},
     "output_type": "display_data"
    },
    {
     "data": {
      "application/vnd.jupyter.widget-view+json": {
       "model_id": "30623f6d5a81451ca8cfec3130fe16d8",
       "version_major": 2,
       "version_minor": 0
      },
      "text/plain": [
       "  0%|          | 0/2 [00:00<?, ?it/s]"
      ]
     },
     "metadata": {},
     "output_type": "display_data"
    },
    {
     "data": {
      "application/vnd.jupyter.widget-view+json": {
       "model_id": "6d65cd8afd2d4401abae966ea594116b",
       "version_major": 2,
       "version_minor": 0
      },
      "text/plain": [
       "  0%|          | 0/2 [00:00<?, ?it/s]"
      ]
     },
     "metadata": {},
     "output_type": "display_data"
    },
    {
     "data": {
      "application/vnd.jupyter.widget-view+json": {
       "model_id": "cc5a290ba5a84ab69df5f78819911fac",
       "version_major": 2,
       "version_minor": 0
      },
      "text/plain": [
       "  0%|          | 0/2 [00:00<?, ?it/s]"
      ]
     },
     "metadata": {},
     "output_type": "display_data"
    },
    {
     "data": {
      "application/vnd.jupyter.widget-view+json": {
       "model_id": "6a3b18ee9b73455394dda33763b293d2",
       "version_major": 2,
       "version_minor": 0
      },
      "text/plain": [
       "  0%|          | 0/2 [00:00<?, ?it/s]"
      ]
     },
     "metadata": {},
     "output_type": "display_data"
    },
    {
     "data": {
      "application/vnd.jupyter.widget-view+json": {
       "model_id": "54657e68b53f4d1b958cb029f12fc7ad",
       "version_major": 2,
       "version_minor": 0
      },
      "text/plain": [
       "  0%|          | 0/2 [00:00<?, ?it/s]"
      ]
     },
     "metadata": {},
     "output_type": "display_data"
    },
    {
     "data": {
      "application/vnd.jupyter.widget-view+json": {
       "model_id": "a50b6fb3204f40ea85300fa938b89a7f",
       "version_major": 2,
       "version_minor": 0
      },
      "text/plain": [
       "  0%|          | 0/2 [00:00<?, ?it/s]"
      ]
     },
     "metadata": {},
     "output_type": "display_data"
    },
    {
     "data": {
      "application/vnd.jupyter.widget-view+json": {
       "model_id": "90fd2291858b4f8f88add3221055b281",
       "version_major": 2,
       "version_minor": 0
      },
      "text/plain": [
       "  0%|          | 0/2 [00:00<?, ?it/s]"
      ]
     },
     "metadata": {},
     "output_type": "display_data"
    },
    {
     "data": {
      "application/vnd.jupyter.widget-view+json": {
       "model_id": "cb76f4d3fe6647c2ac09b8b31ff43f5a",
       "version_major": 2,
       "version_minor": 0
      },
      "text/plain": [
       "  0%|          | 0/2 [00:00<?, ?it/s]"
      ]
     },
     "metadata": {},
     "output_type": "display_data"
    },
    {
     "data": {
      "application/vnd.jupyter.widget-view+json": {
       "model_id": "f9e941bcdbdb4d17afaf7e353065c355",
       "version_major": 2,
       "version_minor": 0
      },
      "text/plain": [
       "  0%|          | 0/2 [00:00<?, ?it/s]"
      ]
     },
     "metadata": {},
     "output_type": "display_data"
    },
    {
     "data": {
      "application/vnd.jupyter.widget-view+json": {
       "model_id": "5271633ca83349b5a18895e4a5a7c26f",
       "version_major": 2,
       "version_minor": 0
      },
      "text/plain": [
       "  0%|          | 0/2 [00:00<?, ?it/s]"
      ]
     },
     "metadata": {},
     "output_type": "display_data"
    },
    {
     "data": {
      "application/vnd.jupyter.widget-view+json": {
       "model_id": "2d23fe2e7b69473080179c1945cdfc08",
       "version_major": 2,
       "version_minor": 0
      },
      "text/plain": [
       "  0%|          | 0/2 [00:00<?, ?it/s]"
      ]
     },
     "metadata": {},
     "output_type": "display_data"
    },
    {
     "data": {
      "application/vnd.jupyter.widget-view+json": {
       "model_id": "4e5a276d2667438f987392b29ce3675d",
       "version_major": 2,
       "version_minor": 0
      },
      "text/plain": [
       "  0%|          | 0/2 [00:00<?, ?it/s]"
      ]
     },
     "metadata": {},
     "output_type": "display_data"
    },
    {
     "data": {
      "application/vnd.jupyter.widget-view+json": {
       "model_id": "85e55f568da44835a5547ffb5094f4e2",
       "version_major": 2,
       "version_minor": 0
      },
      "text/plain": [
       "  0%|          | 0/2 [00:00<?, ?it/s]"
      ]
     },
     "metadata": {},
     "output_type": "display_data"
    },
    {
     "data": {
      "application/vnd.jupyter.widget-view+json": {
       "model_id": "758ebf5479534a64aa6e2e19d8d6613c",
       "version_major": 2,
       "version_minor": 0
      },
      "text/plain": [
       "  0%|          | 0/2 [00:00<?, ?it/s]"
      ]
     },
     "metadata": {},
     "output_type": "display_data"
    },
    {
     "data": {
      "application/vnd.jupyter.widget-view+json": {
       "model_id": "fa587b7ee7c84131aae76feecbd16754",
       "version_major": 2,
       "version_minor": 0
      },
      "text/plain": [
       "  0%|          | 0/2 [00:00<?, ?it/s]"
      ]
     },
     "metadata": {},
     "output_type": "display_data"
    },
    {
     "data": {
      "application/vnd.jupyter.widget-view+json": {
       "model_id": "3beca768fb8e4532a4fd3a82017b963e",
       "version_major": 2,
       "version_minor": 0
      },
      "text/plain": [
       "  0%|          | 0/2 [00:00<?, ?it/s]"
      ]
     },
     "metadata": {},
     "output_type": "display_data"
    },
    {
     "data": {
      "application/vnd.jupyter.widget-view+json": {
       "model_id": "37919cc26f2f4ba1a64e756ba940b2b4",
       "version_major": 2,
       "version_minor": 0
      },
      "text/plain": [
       "  0%|          | 0/2 [00:00<?, ?it/s]"
      ]
     },
     "metadata": {},
     "output_type": "display_data"
    },
    {
     "data": {
      "application/vnd.jupyter.widget-view+json": {
       "model_id": "c057dbf30e23432688e779f41b97feca",
       "version_major": 2,
       "version_minor": 0
      },
      "text/plain": [
       "  0%|          | 0/2 [00:00<?, ?it/s]"
      ]
     },
     "metadata": {},
     "output_type": "display_data"
    },
    {
     "data": {
      "application/vnd.jupyter.widget-view+json": {
       "model_id": "7e1491d1dd244d89aeedfed7fdf0b0b2",
       "version_major": 2,
       "version_minor": 0
      },
      "text/plain": [
       "  0%|          | 0/2 [00:00<?, ?it/s]"
      ]
     },
     "metadata": {},
     "output_type": "display_data"
    },
    {
     "data": {
      "application/vnd.jupyter.widget-view+json": {
       "model_id": "4392e4d5c1b24a838d9158d2709b8956",
       "version_major": 2,
       "version_minor": 0
      },
      "text/plain": [
       "  0%|          | 0/2 [00:00<?, ?it/s]"
      ]
     },
     "metadata": {},
     "output_type": "display_data"
    },
    {
     "data": {
      "application/vnd.jupyter.widget-view+json": {
       "model_id": "cbb206c0fce64a70bf09fc7d8cdaa3cd",
       "version_major": 2,
       "version_minor": 0
      },
      "text/plain": [
       "  0%|          | 0/2 [00:00<?, ?it/s]"
      ]
     },
     "metadata": {},
     "output_type": "display_data"
    },
    {
     "data": {
      "application/vnd.jupyter.widget-view+json": {
       "model_id": "327c20bf850d4886af575c4606545aed",
       "version_major": 2,
       "version_minor": 0
      },
      "text/plain": [
       "  0%|          | 0/2 [00:00<?, ?it/s]"
      ]
     },
     "metadata": {},
     "output_type": "display_data"
    },
    {
     "data": {
      "application/vnd.jupyter.widget-view+json": {
       "model_id": "24d1b6776d6d40e9b66cc3d9915b7984",
       "version_major": 2,
       "version_minor": 0
      },
      "text/plain": [
       "  0%|          | 0/2 [00:00<?, ?it/s]"
      ]
     },
     "metadata": {},
     "output_type": "display_data"
    },
    {
     "data": {
      "application/vnd.jupyter.widget-view+json": {
       "model_id": "2001bf56fbad43aab908d86606d46d6c",
       "version_major": 2,
       "version_minor": 0
      },
      "text/plain": [
       "  0%|          | 0/2 [00:00<?, ?it/s]"
      ]
     },
     "metadata": {},
     "output_type": "display_data"
    },
    {
     "data": {
      "application/vnd.jupyter.widget-view+json": {
       "model_id": "2e2e305594ff4ba282d69c1237676846",
       "version_major": 2,
       "version_minor": 0
      },
      "text/plain": [
       "  0%|          | 0/2 [00:00<?, ?it/s]"
      ]
     },
     "metadata": {},
     "output_type": "display_data"
    },
    {
     "data": {
      "application/vnd.jupyter.widget-view+json": {
       "model_id": "162953568fcf4d76930d76dcfd4b87d5",
       "version_major": 2,
       "version_minor": 0
      },
      "text/plain": [
       "  0%|          | 0/2 [00:00<?, ?it/s]"
      ]
     },
     "metadata": {},
     "output_type": "display_data"
    },
    {
     "data": {
      "application/vnd.jupyter.widget-view+json": {
       "model_id": "44b6c8984ac94a6da8d21d8ad249a648",
       "version_major": 2,
       "version_minor": 0
      },
      "text/plain": [
       "  0%|          | 0/2 [00:00<?, ?it/s]"
      ]
     },
     "metadata": {},
     "output_type": "display_data"
    },
    {
     "data": {
      "application/vnd.jupyter.widget-view+json": {
       "model_id": "8f85d3cf3b6c43adaa080afea9f4b888",
       "version_major": 2,
       "version_minor": 0
      },
      "text/plain": [
       "  0%|          | 0/2 [00:00<?, ?it/s]"
      ]
     },
     "metadata": {},
     "output_type": "display_data"
    },
    {
     "data": {
      "application/vnd.jupyter.widget-view+json": {
       "model_id": "990af700725246658aaac56d3117c277",
       "version_major": 2,
       "version_minor": 0
      },
      "text/plain": [
       "  0%|          | 0/2 [00:00<?, ?it/s]"
      ]
     },
     "metadata": {},
     "output_type": "display_data"
    },
    {
     "data": {
      "application/vnd.jupyter.widget-view+json": {
       "model_id": "e942e4f9041948b79af20960d47edc87",
       "version_major": 2,
       "version_minor": 0
      },
      "text/plain": [
       "  0%|          | 0/2 [00:00<?, ?it/s]"
      ]
     },
     "metadata": {},
     "output_type": "display_data"
    },
    {
     "data": {
      "application/vnd.jupyter.widget-view+json": {
       "model_id": "1450ca4abe9e47d4a2eff0a69f66a3dc",
       "version_major": 2,
       "version_minor": 0
      },
      "text/plain": [
       "  0%|          | 0/2 [00:00<?, ?it/s]"
      ]
     },
     "metadata": {},
     "output_type": "display_data"
    },
    {
     "data": {
      "application/vnd.jupyter.widget-view+json": {
       "model_id": "33226464edaf46d68408bfaaebad2b30",
       "version_major": 2,
       "version_minor": 0
      },
      "text/plain": [
       "  0%|          | 0/2 [00:00<?, ?it/s]"
      ]
     },
     "metadata": {},
     "output_type": "display_data"
    },
    {
     "data": {
      "application/vnd.jupyter.widget-view+json": {
       "model_id": "8b93814921c4410e8f92107970b6a6f4",
       "version_major": 2,
       "version_minor": 0
      },
      "text/plain": [
       "  0%|          | 0/2 [00:00<?, ?it/s]"
      ]
     },
     "metadata": {},
     "output_type": "display_data"
    },
    {
     "data": {
      "application/vnd.jupyter.widget-view+json": {
       "model_id": "701027bade2f479696fce0acb600ba05",
       "version_major": 2,
       "version_minor": 0
      },
      "text/plain": [
       "  0%|          | 0/2 [00:00<?, ?it/s]"
      ]
     },
     "metadata": {},
     "output_type": "display_data"
    },
    {
     "data": {
      "application/vnd.jupyter.widget-view+json": {
       "model_id": "9720fc6e96c54a738c808c0c9c7d8e1e",
       "version_major": 2,
       "version_minor": 0
      },
      "text/plain": [
       "  0%|          | 0/2 [00:00<?, ?it/s]"
      ]
     },
     "metadata": {},
     "output_type": "display_data"
    },
    {
     "data": {
      "application/vnd.jupyter.widget-view+json": {
       "model_id": "c0e27be0a2fd4b5f940eaa188ce8b8b3",
       "version_major": 2,
       "version_minor": 0
      },
      "text/plain": [
       "  0%|          | 0/2 [00:00<?, ?it/s]"
      ]
     },
     "metadata": {},
     "output_type": "display_data"
    },
    {
     "data": {
      "application/vnd.jupyter.widget-view+json": {
       "model_id": "9c1bb0d1609d4ad0a7b0737259ad9295",
       "version_major": 2,
       "version_minor": 0
      },
      "text/plain": [
       "  0%|          | 0/2 [00:00<?, ?it/s]"
      ]
     },
     "metadata": {},
     "output_type": "display_data"
    },
    {
     "data": {
      "application/vnd.jupyter.widget-view+json": {
       "model_id": "f362a51385944128896ba62452f85eb8",
       "version_major": 2,
       "version_minor": 0
      },
      "text/plain": [
       "  0%|          | 0/2 [00:00<?, ?it/s]"
      ]
     },
     "metadata": {},
     "output_type": "display_data"
    },
    {
     "data": {
      "application/vnd.jupyter.widget-view+json": {
       "model_id": "94dbeb1b9188489f81a12169966e2428",
       "version_major": 2,
       "version_minor": 0
      },
      "text/plain": [
       "  0%|          | 0/2 [00:00<?, ?it/s]"
      ]
     },
     "metadata": {},
     "output_type": "display_data"
    },
    {
     "data": {
      "application/vnd.jupyter.widget-view+json": {
       "model_id": "333a97fbd3694b5e9d58ba92a4250273",
       "version_major": 2,
       "version_minor": 0
      },
      "text/plain": [
       "  0%|          | 0/2 [00:00<?, ?it/s]"
      ]
     },
     "metadata": {},
     "output_type": "display_data"
    },
    {
     "data": {
      "application/vnd.jupyter.widget-view+json": {
       "model_id": "d65945f004bb45819da2715024fd5bc6",
       "version_major": 2,
       "version_minor": 0
      },
      "text/plain": [
       "  0%|          | 0/2 [00:00<?, ?it/s]"
      ]
     },
     "metadata": {},
     "output_type": "display_data"
    },
    {
     "data": {
      "application/vnd.jupyter.widget-view+json": {
       "model_id": "6231e79e4f0941fd81dc7c89c6b09b19",
       "version_major": 2,
       "version_minor": 0
      },
      "text/plain": [
       "  0%|          | 0/2 [00:00<?, ?it/s]"
      ]
     },
     "metadata": {},
     "output_type": "display_data"
    },
    {
     "data": {
      "application/vnd.jupyter.widget-view+json": {
       "model_id": "21f64e523b954853900e2461de744799",
       "version_major": 2,
       "version_minor": 0
      },
      "text/plain": [
       "  0%|          | 0/2 [00:00<?, ?it/s]"
      ]
     },
     "metadata": {},
     "output_type": "display_data"
    },
    {
     "data": {
      "application/vnd.jupyter.widget-view+json": {
       "model_id": "2fc96b254f2946db91e33db849fcdf12",
       "version_major": 2,
       "version_minor": 0
      },
      "text/plain": [
       "  0%|          | 0/2 [00:00<?, ?it/s]"
      ]
     },
     "metadata": {},
     "output_type": "display_data"
    },
    {
     "data": {
      "application/vnd.jupyter.widget-view+json": {
       "model_id": "bcb174803fb24436a9d68337b45e9c5b",
       "version_major": 2,
       "version_minor": 0
      },
      "text/plain": [
       "  0%|          | 0/2 [00:00<?, ?it/s]"
      ]
     },
     "metadata": {},
     "output_type": "display_data"
    },
    {
     "data": {
      "application/vnd.jupyter.widget-view+json": {
       "model_id": "2f04018686ae4ea798a5f1d3d87de9d4",
       "version_major": 2,
       "version_minor": 0
      },
      "text/plain": [
       "  0%|          | 0/2 [00:00<?, ?it/s]"
      ]
     },
     "metadata": {},
     "output_type": "display_data"
    },
    {
     "data": {
      "application/vnd.jupyter.widget-view+json": {
       "model_id": "5fd95d7b79d84840834d6fb73e7c3488",
       "version_major": 2,
       "version_minor": 0
      },
      "text/plain": [
       "  0%|          | 0/2 [00:00<?, ?it/s]"
      ]
     },
     "metadata": {},
     "output_type": "display_data"
    },
    {
     "data": {
      "application/vnd.jupyter.widget-view+json": {
       "model_id": "843e452200aa494ab934db5d1799242c",
       "version_major": 2,
       "version_minor": 0
      },
      "text/plain": [
       "  0%|          | 0/2 [00:00<?, ?it/s]"
      ]
     },
     "metadata": {},
     "output_type": "display_data"
    },
    {
     "data": {
      "application/vnd.jupyter.widget-view+json": {
       "model_id": "feedb826f10e4f05ad466dda7e03b7ed",
       "version_major": 2,
       "version_minor": 0
      },
      "text/plain": [
       "  0%|          | 0/2 [00:00<?, ?it/s]"
      ]
     },
     "metadata": {},
     "output_type": "display_data"
    },
    {
     "data": {
      "application/vnd.jupyter.widget-view+json": {
       "model_id": "291d0abb00b347e5a8092e0830c40e68",
       "version_major": 2,
       "version_minor": 0
      },
      "text/plain": [
       "  0%|          | 0/2 [00:00<?, ?it/s]"
      ]
     },
     "metadata": {},
     "output_type": "display_data"
    },
    {
     "data": {
      "application/vnd.jupyter.widget-view+json": {
       "model_id": "0f7f7cadf01e4f398a92143e7e3d0f13",
       "version_major": 2,
       "version_minor": 0
      },
      "text/plain": [
       "  0%|          | 0/2 [00:00<?, ?it/s]"
      ]
     },
     "metadata": {},
     "output_type": "display_data"
    },
    {
     "data": {
      "application/vnd.jupyter.widget-view+json": {
       "model_id": "630607860a744e95b0876aa24a4a0322",
       "version_major": 2,
       "version_minor": 0
      },
      "text/plain": [
       "  0%|          | 0/2 [00:00<?, ?it/s]"
      ]
     },
     "metadata": {},
     "output_type": "display_data"
    },
    {
     "data": {
      "application/vnd.jupyter.widget-view+json": {
       "model_id": "56c8cb75da9343329c49d64f57ebf679",
       "version_major": 2,
       "version_minor": 0
      },
      "text/plain": [
       "  0%|          | 0/2 [00:00<?, ?it/s]"
      ]
     },
     "metadata": {},
     "output_type": "display_data"
    },
    {
     "data": {
      "application/vnd.jupyter.widget-view+json": {
       "model_id": "050cd5ad8eae42009224655db20cffdf",
       "version_major": 2,
       "version_minor": 0
      },
      "text/plain": [
       "  0%|          | 0/2 [00:00<?, ?it/s]"
      ]
     },
     "metadata": {},
     "output_type": "display_data"
    },
    {
     "data": {
      "application/vnd.jupyter.widget-view+json": {
       "model_id": "8d2afc4f98974362aa32b08b980be805",
       "version_major": 2,
       "version_minor": 0
      },
      "text/plain": [
       "  0%|          | 0/2 [00:00<?, ?it/s]"
      ]
     },
     "metadata": {},
     "output_type": "display_data"
    },
    {
     "data": {
      "application/vnd.jupyter.widget-view+json": {
       "model_id": "90f30c120ed542b8a97937df9aed9f4e",
       "version_major": 2,
       "version_minor": 0
      },
      "text/plain": [
       "  0%|          | 0/2 [00:00<?, ?it/s]"
      ]
     },
     "metadata": {},
     "output_type": "display_data"
    },
    {
     "data": {
      "application/vnd.jupyter.widget-view+json": {
       "model_id": "12ff5bd9abc64c4f9053c5e3febcf326",
       "version_major": 2,
       "version_minor": 0
      },
      "text/plain": [
       "  0%|          | 0/2 [00:00<?, ?it/s]"
      ]
     },
     "metadata": {},
     "output_type": "display_data"
    },
    {
     "data": {
      "application/vnd.jupyter.widget-view+json": {
       "model_id": "ebbf1cbf82884e5fa37884a20b3aaa4e",
       "version_major": 2,
       "version_minor": 0
      },
      "text/plain": [
       "  0%|          | 0/2 [00:00<?, ?it/s]"
      ]
     },
     "metadata": {},
     "output_type": "display_data"
    },
    {
     "data": {
      "application/vnd.jupyter.widget-view+json": {
       "model_id": "24a4e669d10c4878874d416db78ad45f",
       "version_major": 2,
       "version_minor": 0
      },
      "text/plain": [
       "  0%|          | 0/2 [00:00<?, ?it/s]"
      ]
     },
     "metadata": {},
     "output_type": "display_data"
    },
    {
     "data": {
      "application/vnd.jupyter.widget-view+json": {
       "model_id": "390878f0dcff4ce6a222d8fdedd416b2",
       "version_major": 2,
       "version_minor": 0
      },
      "text/plain": [
       "  0%|          | 0/2 [00:00<?, ?it/s]"
      ]
     },
     "metadata": {},
     "output_type": "display_data"
    },
    {
     "data": {
      "application/vnd.jupyter.widget-view+json": {
       "model_id": "5da6b5c94359419facc5d3d3f95c09d6",
       "version_major": 2,
       "version_minor": 0
      },
      "text/plain": [
       "  0%|          | 0/2 [00:00<?, ?it/s]"
      ]
     },
     "metadata": {},
     "output_type": "display_data"
    },
    {
     "data": {
      "application/vnd.jupyter.widget-view+json": {
       "model_id": "8b86514da32d4626a75485f6243b8fa7",
       "version_major": 2,
       "version_minor": 0
      },
      "text/plain": [
       "  0%|          | 0/2 [00:00<?, ?it/s]"
      ]
     },
     "metadata": {},
     "output_type": "display_data"
    },
    {
     "data": {
      "application/vnd.jupyter.widget-view+json": {
       "model_id": "09735ced9d4d48b18a073abeeef3b2d0",
       "version_major": 2,
       "version_minor": 0
      },
      "text/plain": [
       "  0%|          | 0/2 [00:00<?, ?it/s]"
      ]
     },
     "metadata": {},
     "output_type": "display_data"
    },
    {
     "data": {
      "application/vnd.jupyter.widget-view+json": {
       "model_id": "8a6b0a01abde437789ecd157bf13a989",
       "version_major": 2,
       "version_minor": 0
      },
      "text/plain": [
       "  0%|          | 0/2 [00:00<?, ?it/s]"
      ]
     },
     "metadata": {},
     "output_type": "display_data"
    },
    {
     "data": {
      "application/vnd.jupyter.widget-view+json": {
       "model_id": "1ab9b5edcbfa4b539cac12b28c4a9377",
       "version_major": 2,
       "version_minor": 0
      },
      "text/plain": [
       "  0%|          | 0/2 [00:00<?, ?it/s]"
      ]
     },
     "metadata": {},
     "output_type": "display_data"
    },
    {
     "data": {
      "application/vnd.jupyter.widget-view+json": {
       "model_id": "81e4936ed8b94ce784bd8f57a1ce5ff7",
       "version_major": 2,
       "version_minor": 0
      },
      "text/plain": [
       "  0%|          | 0/2 [00:00<?, ?it/s]"
      ]
     },
     "metadata": {},
     "output_type": "display_data"
    },
    {
     "data": {
      "application/vnd.jupyter.widget-view+json": {
       "model_id": "7e9b0546161b4ab09b279a1c753211c1",
       "version_major": 2,
       "version_minor": 0
      },
      "text/plain": [
       "  0%|          | 0/2 [00:00<?, ?it/s]"
      ]
     },
     "metadata": {},
     "output_type": "display_data"
    },
    {
     "data": {
      "application/vnd.jupyter.widget-view+json": {
       "model_id": "8cb76c68d8754e11be7c8ca60b4b6322",
       "version_major": 2,
       "version_minor": 0
      },
      "text/plain": [
       "  0%|          | 0/2 [00:00<?, ?it/s]"
      ]
     },
     "metadata": {},
     "output_type": "display_data"
    },
    {
     "data": {
      "application/vnd.jupyter.widget-view+json": {
       "model_id": "792b264a77354c5fb7880c692b92d724",
       "version_major": 2,
       "version_minor": 0
      },
      "text/plain": [
       "  0%|          | 0/2 [00:00<?, ?it/s]"
      ]
     },
     "metadata": {},
     "output_type": "display_data"
    },
    {
     "data": {
      "application/vnd.jupyter.widget-view+json": {
       "model_id": "68e40db31ba4465caf3be7737f597652",
       "version_major": 2,
       "version_minor": 0
      },
      "text/plain": [
       "  0%|          | 0/2 [00:00<?, ?it/s]"
      ]
     },
     "metadata": {},
     "output_type": "display_data"
    },
    {
     "data": {
      "application/vnd.jupyter.widget-view+json": {
       "model_id": "21de1ddcc64f49fca5eda81bc0ff0f44",
       "version_major": 2,
       "version_minor": 0
      },
      "text/plain": [
       "  0%|          | 0/2 [00:00<?, ?it/s]"
      ]
     },
     "metadata": {},
     "output_type": "display_data"
    },
    {
     "data": {
      "application/vnd.jupyter.widget-view+json": {
       "model_id": "5ca7dce4f91d4028886a9715586d989c",
       "version_major": 2,
       "version_minor": 0
      },
      "text/plain": [
       "  0%|          | 0/2 [00:00<?, ?it/s]"
      ]
     },
     "metadata": {},
     "output_type": "display_data"
    },
    {
     "data": {
      "application/vnd.jupyter.widget-view+json": {
       "model_id": "d175775b316d4deaa979307c7ff38ba3",
       "version_major": 2,
       "version_minor": 0
      },
      "text/plain": [
       "  0%|          | 0/2 [00:00<?, ?it/s]"
      ]
     },
     "metadata": {},
     "output_type": "display_data"
    },
    {
     "data": {
      "application/vnd.jupyter.widget-view+json": {
       "model_id": "cda72ce71a82470fa8cda2bc14e00465",
       "version_major": 2,
       "version_minor": 0
      },
      "text/plain": [
       "  0%|          | 0/2 [00:00<?, ?it/s]"
      ]
     },
     "metadata": {},
     "output_type": "display_data"
    },
    {
     "data": {
      "application/vnd.jupyter.widget-view+json": {
       "model_id": "ceb451b5032d4deaac0afd347e68c07c",
       "version_major": 2,
       "version_minor": 0
      },
      "text/plain": [
       "  0%|          | 0/2 [00:00<?, ?it/s]"
      ]
     },
     "metadata": {},
     "output_type": "display_data"
    },
    {
     "data": {
      "application/vnd.jupyter.widget-view+json": {
       "model_id": "a7b00c92a27b47a7b2880d7202b68778",
       "version_major": 2,
       "version_minor": 0
      },
      "text/plain": [
       "  0%|          | 0/2 [00:00<?, ?it/s]"
      ]
     },
     "metadata": {},
     "output_type": "display_data"
    },
    {
     "data": {
      "application/vnd.jupyter.widget-view+json": {
       "model_id": "89f3194ba37d456db85ed7b8591cbc1b",
       "version_major": 2,
       "version_minor": 0
      },
      "text/plain": [
       "  0%|          | 0/2 [00:00<?, ?it/s]"
      ]
     },
     "metadata": {},
     "output_type": "display_data"
    },
    {
     "data": {
      "application/vnd.jupyter.widget-view+json": {
       "model_id": "d3d5025fc186498c901d26009abfb1b5",
       "version_major": 2,
       "version_minor": 0
      },
      "text/plain": [
       "  0%|          | 0/2 [00:00<?, ?it/s]"
      ]
     },
     "metadata": {},
     "output_type": "display_data"
    },
    {
     "data": {
      "application/vnd.jupyter.widget-view+json": {
       "model_id": "07bf1816f1fb4da7853be63cb26ca4a0",
       "version_major": 2,
       "version_minor": 0
      },
      "text/plain": [
       "  0%|          | 0/2 [00:00<?, ?it/s]"
      ]
     },
     "metadata": {},
     "output_type": "display_data"
    },
    {
     "data": {
      "application/vnd.jupyter.widget-view+json": {
       "model_id": "766fcb0ca7034614b592b82164a12bac",
       "version_major": 2,
       "version_minor": 0
      },
      "text/plain": [
       "  0%|          | 0/2 [00:00<?, ?it/s]"
      ]
     },
     "metadata": {},
     "output_type": "display_data"
    },
    {
     "data": {
      "application/vnd.jupyter.widget-view+json": {
       "model_id": "c42d3ff6bca44dd6a3380f5078f7848d",
       "version_major": 2,
       "version_minor": 0
      },
      "text/plain": [
       "  0%|          | 0/2 [00:00<?, ?it/s]"
      ]
     },
     "metadata": {},
     "output_type": "display_data"
    },
    {
     "data": {
      "application/vnd.jupyter.widget-view+json": {
       "model_id": "c96660113c8341cfb993f86963767752",
       "version_major": 2,
       "version_minor": 0
      },
      "text/plain": [
       "  0%|          | 0/2 [00:00<?, ?it/s]"
      ]
     },
     "metadata": {},
     "output_type": "display_data"
    },
    {
     "data": {
      "application/vnd.jupyter.widget-view+json": {
       "model_id": "736a4e1ea6594c92820ff2cad4bfec4b",
       "version_major": 2,
       "version_minor": 0
      },
      "text/plain": [
       "  0%|          | 0/2 [00:00<?, ?it/s]"
      ]
     },
     "metadata": {},
     "output_type": "display_data"
    },
    {
     "data": {
      "application/vnd.jupyter.widget-view+json": {
       "model_id": "1221d4bc111a460289534b376510ad6f",
       "version_major": 2,
       "version_minor": 0
      },
      "text/plain": [
       "  0%|          | 0/2 [00:00<?, ?it/s]"
      ]
     },
     "metadata": {},
     "output_type": "display_data"
    },
    {
     "data": {
      "application/vnd.jupyter.widget-view+json": {
       "model_id": "f653eb71e09f410090bbbba903b51221",
       "version_major": 2,
       "version_minor": 0
      },
      "text/plain": [
       "  0%|          | 0/2 [00:00<?, ?it/s]"
      ]
     },
     "metadata": {},
     "output_type": "display_data"
    },
    {
     "data": {
      "application/vnd.jupyter.widget-view+json": {
       "model_id": "1c383a63b0af4656bd9379b7b920e262",
       "version_major": 2,
       "version_minor": 0
      },
      "text/plain": [
       "  0%|          | 0/2 [00:00<?, ?it/s]"
      ]
     },
     "metadata": {},
     "output_type": "display_data"
    },
    {
     "data": {
      "application/vnd.jupyter.widget-view+json": {
       "model_id": "1e4ad5b418e749ce9108312867c13ec1",
       "version_major": 2,
       "version_minor": 0
      },
      "text/plain": [
       "  0%|          | 0/2 [00:00<?, ?it/s]"
      ]
     },
     "metadata": {},
     "output_type": "display_data"
    },
    {
     "data": {
      "application/vnd.jupyter.widget-view+json": {
       "model_id": "15d1c9dd762e42a8a5c694b065b75e8f",
       "version_major": 2,
       "version_minor": 0
      },
      "text/plain": [
       "  0%|          | 0/2 [00:00<?, ?it/s]"
      ]
     },
     "metadata": {},
     "output_type": "display_data"
    },
    {
     "data": {
      "application/vnd.jupyter.widget-view+json": {
       "model_id": "b7b76603f62c4da38a5a464f5192e3d0",
       "version_major": 2,
       "version_minor": 0
      },
      "text/plain": [
       "  0%|          | 0/2 [00:00<?, ?it/s]"
      ]
     },
     "metadata": {},
     "output_type": "display_data"
    },
    {
     "data": {
      "application/vnd.jupyter.widget-view+json": {
       "model_id": "6829b33ae8b446d1842332940fc1c273",
       "version_major": 2,
       "version_minor": 0
      },
      "text/plain": [
       "  0%|          | 0/2 [00:00<?, ?it/s]"
      ]
     },
     "metadata": {},
     "output_type": "display_data"
    },
    {
     "data": {
      "application/vnd.jupyter.widget-view+json": {
       "model_id": "2692ae22dd4d4312b80533fed7d8852f",
       "version_major": 2,
       "version_minor": 0
      },
      "text/plain": [
       "  0%|          | 0/2 [00:00<?, ?it/s]"
      ]
     },
     "metadata": {},
     "output_type": "display_data"
    },
    {
     "data": {
      "application/vnd.jupyter.widget-view+json": {
       "model_id": "d1a8fe12f9694a6cb586895bcf132a32",
       "version_major": 2,
       "version_minor": 0
      },
      "text/plain": [
       "  0%|          | 0/2 [00:00<?, ?it/s]"
      ]
     },
     "metadata": {},
     "output_type": "display_data"
    },
    {
     "data": {
      "application/vnd.jupyter.widget-view+json": {
       "model_id": "0f3bf318214b4bda9e364451d968e58c",
       "version_major": 2,
       "version_minor": 0
      },
      "text/plain": [
       "  0%|          | 0/2 [00:00<?, ?it/s]"
      ]
     },
     "metadata": {},
     "output_type": "display_data"
    },
    {
     "data": {
      "application/vnd.jupyter.widget-view+json": {
       "model_id": "b05536cb0aa64f2588e1ed26b4569832",
       "version_major": 2,
       "version_minor": 0
      },
      "text/plain": [
       "  0%|          | 0/2 [00:00<?, ?it/s]"
      ]
     },
     "metadata": {},
     "output_type": "display_data"
    },
    {
     "data": {
      "application/vnd.jupyter.widget-view+json": {
       "model_id": "46e63a1f72e340d19b1c90c219e4c6f7",
       "version_major": 2,
       "version_minor": 0
      },
      "text/plain": [
       "  0%|          | 0/2 [00:00<?, ?it/s]"
      ]
     },
     "metadata": {},
     "output_type": "display_data"
    },
    {
     "data": {
      "application/vnd.jupyter.widget-view+json": {
       "model_id": "10eceae18b3646cc8d4d967b005dd89d",
       "version_major": 2,
       "version_minor": 0
      },
      "text/plain": [
       "  0%|          | 0/2 [00:00<?, ?it/s]"
      ]
     },
     "metadata": {},
     "output_type": "display_data"
    },
    {
     "data": {
      "application/vnd.jupyter.widget-view+json": {
       "model_id": "f9b3e0dcb1054c68adc370b7a8cc1c0a",
       "version_major": 2,
       "version_minor": 0
      },
      "text/plain": [
       "  0%|          | 0/2 [00:00<?, ?it/s]"
      ]
     },
     "metadata": {},
     "output_type": "display_data"
    },
    {
     "data": {
      "application/vnd.jupyter.widget-view+json": {
       "model_id": "ebf5fe85596b4628906c14f3948b0fa6",
       "version_major": 2,
       "version_minor": 0
      },
      "text/plain": [
       "  0%|          | 0/2 [00:00<?, ?it/s]"
      ]
     },
     "metadata": {},
     "output_type": "display_data"
    },
    {
     "data": {
      "application/vnd.jupyter.widget-view+json": {
       "model_id": "d471b6fd6b5b4df8a373f8788eebac67",
       "version_major": 2,
       "version_minor": 0
      },
      "text/plain": [
       "  0%|          | 0/2 [00:00<?, ?it/s]"
      ]
     },
     "metadata": {},
     "output_type": "display_data"
    },
    {
     "data": {
      "application/vnd.jupyter.widget-view+json": {
       "model_id": "095bb0282b9944b08c35124456276a22",
       "version_major": 2,
       "version_minor": 0
      },
      "text/plain": [
       "  0%|          | 0/2 [00:00<?, ?it/s]"
      ]
     },
     "metadata": {},
     "output_type": "display_data"
    },
    {
     "data": {
      "application/vnd.jupyter.widget-view+json": {
       "model_id": "2ff5a223106f4b4bbbba7b4a6dc72ee1",
       "version_major": 2,
       "version_minor": 0
      },
      "text/plain": [
       "  0%|          | 0/2 [00:00<?, ?it/s]"
      ]
     },
     "metadata": {},
     "output_type": "display_data"
    },
    {
     "data": {
      "application/vnd.jupyter.widget-view+json": {
       "model_id": "779f21a6e1834a6fa3318e81382ef19e",
       "version_major": 2,
       "version_minor": 0
      },
      "text/plain": [
       "  0%|          | 0/2 [00:00<?, ?it/s]"
      ]
     },
     "metadata": {},
     "output_type": "display_data"
    },
    {
     "data": {
      "application/vnd.jupyter.widget-view+json": {
       "model_id": "8cf00e2e8c3d4b4aa01cc4952ce59b52",
       "version_major": 2,
       "version_minor": 0
      },
      "text/plain": [
       "  0%|          | 0/2 [00:00<?, ?it/s]"
      ]
     },
     "metadata": {},
     "output_type": "display_data"
    },
    {
     "data": {
      "application/vnd.jupyter.widget-view+json": {
       "model_id": "f9ba6b3e010044599e570f566dda794a",
       "version_major": 2,
       "version_minor": 0
      },
      "text/plain": [
       "  0%|          | 0/2 [00:00<?, ?it/s]"
      ]
     },
     "metadata": {},
     "output_type": "display_data"
    },
    {
     "data": {
      "application/vnd.jupyter.widget-view+json": {
       "model_id": "d0f7fb3bc4704bd69017547557192749",
       "version_major": 2,
       "version_minor": 0
      },
      "text/plain": [
       "  0%|          | 0/2 [00:00<?, ?it/s]"
      ]
     },
     "metadata": {},
     "output_type": "display_data"
    },
    {
     "data": {
      "application/vnd.jupyter.widget-view+json": {
       "model_id": "9d92a6a0a920420581340bcf03da3ff9",
       "version_major": 2,
       "version_minor": 0
      },
      "text/plain": [
       "  0%|          | 0/2 [00:00<?, ?it/s]"
      ]
     },
     "metadata": {},
     "output_type": "display_data"
    },
    {
     "data": {
      "application/vnd.jupyter.widget-view+json": {
       "model_id": "ce1748154f0e4506996ff5e25e5f0ab7",
       "version_major": 2,
       "version_minor": 0
      },
      "text/plain": [
       "  0%|          | 0/2 [00:00<?, ?it/s]"
      ]
     },
     "metadata": {},
     "output_type": "display_data"
    },
    {
     "data": {
      "application/vnd.jupyter.widget-view+json": {
       "model_id": "2eeceb44c462427b9c6d1cb117037a6a",
       "version_major": 2,
       "version_minor": 0
      },
      "text/plain": [
       "  0%|          | 0/2 [00:00<?, ?it/s]"
      ]
     },
     "metadata": {},
     "output_type": "display_data"
    },
    {
     "data": {
      "application/vnd.jupyter.widget-view+json": {
       "model_id": "eb684a84a7084848a2aa9900ba8c69ff",
       "version_major": 2,
       "version_minor": 0
      },
      "text/plain": [
       "  0%|          | 0/2 [00:00<?, ?it/s]"
      ]
     },
     "metadata": {},
     "output_type": "display_data"
    },
    {
     "data": {
      "application/vnd.jupyter.widget-view+json": {
       "model_id": "a9ba4580d28d487a98b21000bff6259f",
       "version_major": 2,
       "version_minor": 0
      },
      "text/plain": [
       "  0%|          | 0/2 [00:00<?, ?it/s]"
      ]
     },
     "metadata": {},
     "output_type": "display_data"
    },
    {
     "data": {
      "application/vnd.jupyter.widget-view+json": {
       "model_id": "0d6724460c5a410f938f5c23449da0cf",
       "version_major": 2,
       "version_minor": 0
      },
      "text/plain": [
       "  0%|          | 0/2 [00:00<?, ?it/s]"
      ]
     },
     "metadata": {},
     "output_type": "display_data"
    },
    {
     "data": {
      "application/vnd.jupyter.widget-view+json": {
       "model_id": "0ca290c770a1466f9eadbf7b966900c1",
       "version_major": 2,
       "version_minor": 0
      },
      "text/plain": [
       "  0%|          | 0/2 [00:00<?, ?it/s]"
      ]
     },
     "metadata": {},
     "output_type": "display_data"
    },
    {
     "data": {
      "application/vnd.jupyter.widget-view+json": {
       "model_id": "5fb3e59d25f440928202090b0daa826c",
       "version_major": 2,
       "version_minor": 0
      },
      "text/plain": [
       "  0%|          | 0/2 [00:00<?, ?it/s]"
      ]
     },
     "metadata": {},
     "output_type": "display_data"
    },
    {
     "data": {
      "application/vnd.jupyter.widget-view+json": {
       "model_id": "4bf72646cb98423aae4c67005a96adf9",
       "version_major": 2,
       "version_minor": 0
      },
      "text/plain": [
       "  0%|          | 0/2 [00:00<?, ?it/s]"
      ]
     },
     "metadata": {},
     "output_type": "display_data"
    },
    {
     "data": {
      "application/vnd.jupyter.widget-view+json": {
       "model_id": "e1757b4161df4d5d87cbc45d73e85332",
       "version_major": 2,
       "version_minor": 0
      },
      "text/plain": [
       "  0%|          | 0/2 [00:00<?, ?it/s]"
      ]
     },
     "metadata": {},
     "output_type": "display_data"
    },
    {
     "data": {
      "application/vnd.jupyter.widget-view+json": {
       "model_id": "8a7d3270107245529992d536d073e1e6",
       "version_major": 2,
       "version_minor": 0
      },
      "text/plain": [
       "  0%|          | 0/2 [00:00<?, ?it/s]"
      ]
     },
     "metadata": {},
     "output_type": "display_data"
    },
    {
     "data": {
      "application/vnd.jupyter.widget-view+json": {
       "model_id": "6e76d8f6e39142f3b5088b03fc87fc4d",
       "version_major": 2,
       "version_minor": 0
      },
      "text/plain": [
       "  0%|          | 0/2 [00:00<?, ?it/s]"
      ]
     },
     "metadata": {},
     "output_type": "display_data"
    },
    {
     "data": {
      "application/vnd.jupyter.widget-view+json": {
       "model_id": "e27285f366504fe19837d9263b45bd72",
       "version_major": 2,
       "version_minor": 0
      },
      "text/plain": [
       "  0%|          | 0/2 [00:00<?, ?it/s]"
      ]
     },
     "metadata": {},
     "output_type": "display_data"
    },
    {
     "data": {
      "application/vnd.jupyter.widget-view+json": {
       "model_id": "d5f0f00aa51a4060a2325706a25a3b55",
       "version_major": 2,
       "version_minor": 0
      },
      "text/plain": [
       "  0%|          | 0/2 [00:00<?, ?it/s]"
      ]
     },
     "metadata": {},
     "output_type": "display_data"
    },
    {
     "data": {
      "application/vnd.jupyter.widget-view+json": {
       "model_id": "9f52ca7fef384269a80fda03c4e29573",
       "version_major": 2,
       "version_minor": 0
      },
      "text/plain": [
       "  0%|          | 0/2 [00:00<?, ?it/s]"
      ]
     },
     "metadata": {},
     "output_type": "display_data"
    },
    {
     "data": {
      "application/vnd.jupyter.widget-view+json": {
       "model_id": "dc60e2da794645d89742032bdbbc3bdd",
       "version_major": 2,
       "version_minor": 0
      },
      "text/plain": [
       "  0%|          | 0/2 [00:00<?, ?it/s]"
      ]
     },
     "metadata": {},
     "output_type": "display_data"
    },
    {
     "data": {
      "application/vnd.jupyter.widget-view+json": {
       "model_id": "39eacdaad25e4be1bc1d0eb23d6cd8b3",
       "version_major": 2,
       "version_minor": 0
      },
      "text/plain": [
       "  0%|          | 0/2 [00:00<?, ?it/s]"
      ]
     },
     "metadata": {},
     "output_type": "display_data"
    },
    {
     "data": {
      "application/vnd.jupyter.widget-view+json": {
       "model_id": "14ae70baf0a846e5918794e120943924",
       "version_major": 2,
       "version_minor": 0
      },
      "text/plain": [
       "  0%|          | 0/2 [00:00<?, ?it/s]"
      ]
     },
     "metadata": {},
     "output_type": "display_data"
    },
    {
     "data": {
      "application/vnd.jupyter.widget-view+json": {
       "model_id": "3290f32214f54bbca633d8fc69e89778",
       "version_major": 2,
       "version_minor": 0
      },
      "text/plain": [
       "  0%|          | 0/2 [00:00<?, ?it/s]"
      ]
     },
     "metadata": {},
     "output_type": "display_data"
    },
    {
     "data": {
      "application/vnd.jupyter.widget-view+json": {
       "model_id": "7be18fd2015b42da8892b3f261a696e2",
       "version_major": 2,
       "version_minor": 0
      },
      "text/plain": [
       "  0%|          | 0/2 [00:00<?, ?it/s]"
      ]
     },
     "metadata": {},
     "output_type": "display_data"
    },
    {
     "data": {
      "application/vnd.jupyter.widget-view+json": {
       "model_id": "c55e435653474afdb73b21b6fd711bac",
       "version_major": 2,
       "version_minor": 0
      },
      "text/plain": [
       "  0%|          | 0/2 [00:00<?, ?it/s]"
      ]
     },
     "metadata": {},
     "output_type": "display_data"
    },
    {
     "data": {
      "application/vnd.jupyter.widget-view+json": {
       "model_id": "7231cfaa1b3e4f9e9efb2b6cc497611b",
       "version_major": 2,
       "version_minor": 0
      },
      "text/plain": [
       "  0%|          | 0/2 [00:00<?, ?it/s]"
      ]
     },
     "metadata": {},
     "output_type": "display_data"
    },
    {
     "data": {
      "application/vnd.jupyter.widget-view+json": {
       "model_id": "15a18512a4f74a3bb4f4d0e16908d304",
       "version_major": 2,
       "version_minor": 0
      },
      "text/plain": [
       "  0%|          | 0/2 [00:00<?, ?it/s]"
      ]
     },
     "metadata": {},
     "output_type": "display_data"
    },
    {
     "data": {
      "application/vnd.jupyter.widget-view+json": {
       "model_id": "9bf256dd378d434e8216700e84b7932e",
       "version_major": 2,
       "version_minor": 0
      },
      "text/plain": [
       "  0%|          | 0/2 [00:00<?, ?it/s]"
      ]
     },
     "metadata": {},
     "output_type": "display_data"
    },
    {
     "data": {
      "application/vnd.jupyter.widget-view+json": {
       "model_id": "db9995da70f3496f97174513bc196def",
       "version_major": 2,
       "version_minor": 0
      },
      "text/plain": [
       "  0%|          | 0/2 [00:00<?, ?it/s]"
      ]
     },
     "metadata": {},
     "output_type": "display_data"
    },
    {
     "data": {
      "application/vnd.jupyter.widget-view+json": {
       "model_id": "58648b150fc6441a8133b3b83ab03761",
       "version_major": 2,
       "version_minor": 0
      },
      "text/plain": [
       "  0%|          | 0/2 [00:00<?, ?it/s]"
      ]
     },
     "metadata": {},
     "output_type": "display_data"
    },
    {
     "data": {
      "application/vnd.jupyter.widget-view+json": {
       "model_id": "cf68e3ace95a46468a6c2b32d00b1e37",
       "version_major": 2,
       "version_minor": 0
      },
      "text/plain": [
       "  0%|          | 0/2 [00:00<?, ?it/s]"
      ]
     },
     "metadata": {},
     "output_type": "display_data"
    },
    {
     "data": {
      "application/vnd.jupyter.widget-view+json": {
       "model_id": "bb1de10b7511415bbb7450b4fb3abfc6",
       "version_major": 2,
       "version_minor": 0
      },
      "text/plain": [
       "  0%|          | 0/2 [00:00<?, ?it/s]"
      ]
     },
     "metadata": {},
     "output_type": "display_data"
    },
    {
     "data": {
      "application/vnd.jupyter.widget-view+json": {
       "model_id": "614b58de698f4c49899f471d2cec8217",
       "version_major": 2,
       "version_minor": 0
      },
      "text/plain": [
       "  0%|          | 0/2 [00:00<?, ?it/s]"
      ]
     },
     "metadata": {},
     "output_type": "display_data"
    },
    {
     "data": {
      "application/vnd.jupyter.widget-view+json": {
       "model_id": "859fbf9c35a94081bde899192bc66ca5",
       "version_major": 2,
       "version_minor": 0
      },
      "text/plain": [
       "  0%|          | 0/2 [00:00<?, ?it/s]"
      ]
     },
     "metadata": {},
     "output_type": "display_data"
    },
    {
     "data": {
      "application/vnd.jupyter.widget-view+json": {
       "model_id": "474b25beea5f45ea882e38584b84d1eb",
       "version_major": 2,
       "version_minor": 0
      },
      "text/plain": [
       "  0%|          | 0/2 [00:00<?, ?it/s]"
      ]
     },
     "metadata": {},
     "output_type": "display_data"
    },
    {
     "data": {
      "application/vnd.jupyter.widget-view+json": {
       "model_id": "dd976482b8a746fcaec770c4759309b7",
       "version_major": 2,
       "version_minor": 0
      },
      "text/plain": [
       "  0%|          | 0/2 [00:00<?, ?it/s]"
      ]
     },
     "metadata": {},
     "output_type": "display_data"
    },
    {
     "data": {
      "application/vnd.jupyter.widget-view+json": {
       "model_id": "b2d9000b111c4946a99fd52a0fa17baf",
       "version_major": 2,
       "version_minor": 0
      },
      "text/plain": [
       "  0%|          | 0/2 [00:00<?, ?it/s]"
      ]
     },
     "metadata": {},
     "output_type": "display_data"
    },
    {
     "data": {
      "application/vnd.jupyter.widget-view+json": {
       "model_id": "ee245282997b4a9283a7d69bad3d9777",
       "version_major": 2,
       "version_minor": 0
      },
      "text/plain": [
       "  0%|          | 0/2 [00:00<?, ?it/s]"
      ]
     },
     "metadata": {},
     "output_type": "display_data"
    },
    {
     "data": {
      "application/vnd.jupyter.widget-view+json": {
       "model_id": "f7ef853a7c0e4616aaaaa229aef810bd",
       "version_major": 2,
       "version_minor": 0
      },
      "text/plain": [
       "  0%|          | 0/2 [00:00<?, ?it/s]"
      ]
     },
     "metadata": {},
     "output_type": "display_data"
    },
    {
     "data": {
      "application/vnd.jupyter.widget-view+json": {
       "model_id": "c488d5a526f54f59831f7298fad153ae",
       "version_major": 2,
       "version_minor": 0
      },
      "text/plain": [
       "  0%|          | 0/2 [00:00<?, ?it/s]"
      ]
     },
     "metadata": {},
     "output_type": "display_data"
    },
    {
     "data": {
      "application/vnd.jupyter.widget-view+json": {
       "model_id": "e96cdcac50f84b33bee93f852722470c",
       "version_major": 2,
       "version_minor": 0
      },
      "text/plain": [
       "  0%|          | 0/2 [00:00<?, ?it/s]"
      ]
     },
     "metadata": {},
     "output_type": "display_data"
    },
    {
     "data": {
      "application/vnd.jupyter.widget-view+json": {
       "model_id": "8d67b661aad24118b18ee7dc8e947000",
       "version_major": 2,
       "version_minor": 0
      },
      "text/plain": [
       "  0%|          | 0/2 [00:00<?, ?it/s]"
      ]
     },
     "metadata": {},
     "output_type": "display_data"
    },
    {
     "data": {
      "application/vnd.jupyter.widget-view+json": {
       "model_id": "d78f2683b61b47b0a1f1e2ba43ee6a23",
       "version_major": 2,
       "version_minor": 0
      },
      "text/plain": [
       "  0%|          | 0/2 [00:00<?, ?it/s]"
      ]
     },
     "metadata": {},
     "output_type": "display_data"
    },
    {
     "data": {
      "application/vnd.jupyter.widget-view+json": {
       "model_id": "78d6037f24054baba765b4e6acd56d30",
       "version_major": 2,
       "version_minor": 0
      },
      "text/plain": [
       "  0%|          | 0/2 [00:00<?, ?it/s]"
      ]
     },
     "metadata": {},
     "output_type": "display_data"
    },
    {
     "data": {
      "application/vnd.jupyter.widget-view+json": {
       "model_id": "ae7cf82684cf48b0a2e41578e0208e42",
       "version_major": 2,
       "version_minor": 0
      },
      "text/plain": [
       "  0%|          | 0/2 [00:00<?, ?it/s]"
      ]
     },
     "metadata": {},
     "output_type": "display_data"
    },
    {
     "data": {
      "application/vnd.jupyter.widget-view+json": {
       "model_id": "0bd34b0df1a54db483568df89b9a20ac",
       "version_major": 2,
       "version_minor": 0
      },
      "text/plain": [
       "  0%|          | 0/2 [00:00<?, ?it/s]"
      ]
     },
     "metadata": {},
     "output_type": "display_data"
    },
    {
     "data": {
      "application/vnd.jupyter.widget-view+json": {
       "model_id": "2d364ffc7fbe4da38891534d1476dabb",
       "version_major": 2,
       "version_minor": 0
      },
      "text/plain": [
       "  0%|          | 0/2 [00:00<?, ?it/s]"
      ]
     },
     "metadata": {},
     "output_type": "display_data"
    },
    {
     "data": {
      "application/vnd.jupyter.widget-view+json": {
       "model_id": "4095ed81d8a142298acbb7ea6db4250d",
       "version_major": 2,
       "version_minor": 0
      },
      "text/plain": [
       "  0%|          | 0/2 [00:00<?, ?it/s]"
      ]
     },
     "metadata": {},
     "output_type": "display_data"
    },
    {
     "data": {
      "application/vnd.jupyter.widget-view+json": {
       "model_id": "21250a41a1ce46588a39fe2fd8cb9044",
       "version_major": 2,
       "version_minor": 0
      },
      "text/plain": [
       "  0%|          | 0/2 [00:00<?, ?it/s]"
      ]
     },
     "metadata": {},
     "output_type": "display_data"
    },
    {
     "data": {
      "application/vnd.jupyter.widget-view+json": {
       "model_id": "ced2669c954b4abdb80c17d503e0e0e1",
       "version_major": 2,
       "version_minor": 0
      },
      "text/plain": [
       "  0%|          | 0/2 [00:00<?, ?it/s]"
      ]
     },
     "metadata": {},
     "output_type": "display_data"
    },
    {
     "data": {
      "application/vnd.jupyter.widget-view+json": {
       "model_id": "f859188026524ebeb114250ff6dce9f2",
       "version_major": 2,
       "version_minor": 0
      },
      "text/plain": [
       "  0%|          | 0/2 [00:00<?, ?it/s]"
      ]
     },
     "metadata": {},
     "output_type": "display_data"
    },
    {
     "data": {
      "application/vnd.jupyter.widget-view+json": {
       "model_id": "1a24f5bbfe0649a79c61adff01eeb565",
       "version_major": 2,
       "version_minor": 0
      },
      "text/plain": [
       "  0%|          | 0/2 [00:00<?, ?it/s]"
      ]
     },
     "metadata": {},
     "output_type": "display_data"
    },
    {
     "data": {
      "application/vnd.jupyter.widget-view+json": {
       "model_id": "453a306c34ae443ab393feb576179b11",
       "version_major": 2,
       "version_minor": 0
      },
      "text/plain": [
       "  0%|          | 0/2 [00:00<?, ?it/s]"
      ]
     },
     "metadata": {},
     "output_type": "display_data"
    },
    {
     "data": {
      "application/vnd.jupyter.widget-view+json": {
       "model_id": "26038298482e4624b43c4935056e1fda",
       "version_major": 2,
       "version_minor": 0
      },
      "text/plain": [
       "  0%|          | 0/2 [00:00<?, ?it/s]"
      ]
     },
     "metadata": {},
     "output_type": "display_data"
    },
    {
     "data": {
      "application/vnd.jupyter.widget-view+json": {
       "model_id": "5ea9b7dd9d8d485ba1365575ca173f8a",
       "version_major": 2,
       "version_minor": 0
      },
      "text/plain": [
       "  0%|          | 0/2 [00:00<?, ?it/s]"
      ]
     },
     "metadata": {},
     "output_type": "display_data"
    },
    {
     "data": {
      "application/vnd.jupyter.widget-view+json": {
       "model_id": "a1ffd129edeb4da7af0f5877ebb9fd37",
       "version_major": 2,
       "version_minor": 0
      },
      "text/plain": [
       "  0%|          | 0/2 [00:00<?, ?it/s]"
      ]
     },
     "metadata": {},
     "output_type": "display_data"
    },
    {
     "data": {
      "application/vnd.jupyter.widget-view+json": {
       "model_id": "78d52f64bc244572a73bfb8a8d1837bb",
       "version_major": 2,
       "version_minor": 0
      },
      "text/plain": [
       "  0%|          | 0/2 [00:00<?, ?it/s]"
      ]
     },
     "metadata": {},
     "output_type": "display_data"
    },
    {
     "data": {
      "application/vnd.jupyter.widget-view+json": {
       "model_id": "162e45d231864ed6aa814ea4add04c9a",
       "version_major": 2,
       "version_minor": 0
      },
      "text/plain": [
       "  0%|          | 0/2 [00:00<?, ?it/s]"
      ]
     },
     "metadata": {},
     "output_type": "display_data"
    },
    {
     "data": {
      "application/vnd.jupyter.widget-view+json": {
       "model_id": "96a8045ff65a48bab5f7bafd2da563ae",
       "version_major": 2,
       "version_minor": 0
      },
      "text/plain": [
       "  0%|          | 0/2 [00:00<?, ?it/s]"
      ]
     },
     "metadata": {},
     "output_type": "display_data"
    },
    {
     "data": {
      "application/vnd.jupyter.widget-view+json": {
       "model_id": "edd1ad26ce224462b5de848001efde64",
       "version_major": 2,
       "version_minor": 0
      },
      "text/plain": [
       "  0%|          | 0/2 [00:00<?, ?it/s]"
      ]
     },
     "metadata": {},
     "output_type": "display_data"
    },
    {
     "data": {
      "application/vnd.jupyter.widget-view+json": {
       "model_id": "e83dacea5c9144bc8e69944edfcd29cd",
       "version_major": 2,
       "version_minor": 0
      },
      "text/plain": [
       "  0%|          | 0/2 [00:00<?, ?it/s]"
      ]
     },
     "metadata": {},
     "output_type": "display_data"
    },
    {
     "data": {
      "application/vnd.jupyter.widget-view+json": {
       "model_id": "0cb9ab453a2141c0ab0141dd5424f9c7",
       "version_major": 2,
       "version_minor": 0
      },
      "text/plain": [
       "  0%|          | 0/2 [00:00<?, ?it/s]"
      ]
     },
     "metadata": {},
     "output_type": "display_data"
    },
    {
     "data": {
      "application/vnd.jupyter.widget-view+json": {
       "model_id": "50ea49fd9059496798c86641ae4066f3",
       "version_major": 2,
       "version_minor": 0
      },
      "text/plain": [
       "  0%|          | 0/2 [00:00<?, ?it/s]"
      ]
     },
     "metadata": {},
     "output_type": "display_data"
    },
    {
     "data": {
      "application/vnd.jupyter.widget-view+json": {
       "model_id": "12a7e25721d94eada89003c10f2e9933",
       "version_major": 2,
       "version_minor": 0
      },
      "text/plain": [
       "  0%|          | 0/2 [00:00<?, ?it/s]"
      ]
     },
     "metadata": {},
     "output_type": "display_data"
    },
    {
     "data": {
      "application/vnd.jupyter.widget-view+json": {
       "model_id": "6ae527d1444746448ed4e43f0d982891",
       "version_major": 2,
       "version_minor": 0
      },
      "text/plain": [
       "  0%|          | 0/2 [00:00<?, ?it/s]"
      ]
     },
     "metadata": {},
     "output_type": "display_data"
    },
    {
     "data": {
      "application/vnd.jupyter.widget-view+json": {
       "model_id": "3556fed252784f99b967907b9cc4dc03",
       "version_major": 2,
       "version_minor": 0
      },
      "text/plain": [
       "  0%|          | 0/2 [00:00<?, ?it/s]"
      ]
     },
     "metadata": {},
     "output_type": "display_data"
    },
    {
     "data": {
      "application/vnd.jupyter.widget-view+json": {
       "model_id": "370b13cfd0db4092af2801fc7372b509",
       "version_major": 2,
       "version_minor": 0
      },
      "text/plain": [
       "  0%|          | 0/2 [00:00<?, ?it/s]"
      ]
     },
     "metadata": {},
     "output_type": "display_data"
    },
    {
     "data": {
      "application/vnd.jupyter.widget-view+json": {
       "model_id": "1b11ccdab5bc4c5d973060f4f59fab9a",
       "version_major": 2,
       "version_minor": 0
      },
      "text/plain": [
       "  0%|          | 0/2 [00:00<?, ?it/s]"
      ]
     },
     "metadata": {},
     "output_type": "display_data"
    },
    {
     "data": {
      "application/vnd.jupyter.widget-view+json": {
       "model_id": "4430e505a0c54729b8a44b6c01b56d5f",
       "version_major": 2,
       "version_minor": 0
      },
      "text/plain": [
       "  0%|          | 0/2 [00:00<?, ?it/s]"
      ]
     },
     "metadata": {},
     "output_type": "display_data"
    },
    {
     "data": {
      "application/vnd.jupyter.widget-view+json": {
       "model_id": "ac984e9153484b2da8ed6b7bc69fed65",
       "version_major": 2,
       "version_minor": 0
      },
      "text/plain": [
       "  0%|          | 0/2 [00:00<?, ?it/s]"
      ]
     },
     "metadata": {},
     "output_type": "display_data"
    },
    {
     "data": {
      "application/vnd.jupyter.widget-view+json": {
       "model_id": "6d86089382754ac2bf7a163d5a64c8ff",
       "version_major": 2,
       "version_minor": 0
      },
      "text/plain": [
       "  0%|          | 0/2 [00:00<?, ?it/s]"
      ]
     },
     "metadata": {},
     "output_type": "display_data"
    },
    {
     "data": {
      "application/vnd.jupyter.widget-view+json": {
       "model_id": "1c7c508fcf9c458c90fbca563d633dbf",
       "version_major": 2,
       "version_minor": 0
      },
      "text/plain": [
       "  0%|          | 0/2 [00:00<?, ?it/s]"
      ]
     },
     "metadata": {},
     "output_type": "display_data"
    },
    {
     "data": {
      "application/vnd.jupyter.widget-view+json": {
       "model_id": "c47869a8a17e4ae3aa6a1864a7bdc080",
       "version_major": 2,
       "version_minor": 0
      },
      "text/plain": [
       "  0%|          | 0/2 [00:00<?, ?it/s]"
      ]
     },
     "metadata": {},
     "output_type": "display_data"
    },
    {
     "data": {
      "application/vnd.jupyter.widget-view+json": {
       "model_id": "cd53a717c565453a8b2b2e1b5b58c108",
       "version_major": 2,
       "version_minor": 0
      },
      "text/plain": [
       "  0%|          | 0/2 [00:00<?, ?it/s]"
      ]
     },
     "metadata": {},
     "output_type": "display_data"
    },
    {
     "data": {
      "application/vnd.jupyter.widget-view+json": {
       "model_id": "5a4846e9e62d40cab2827b17fcaa61f0",
       "version_major": 2,
       "version_minor": 0
      },
      "text/plain": [
       "  0%|          | 0/2 [00:00<?, ?it/s]"
      ]
     },
     "metadata": {},
     "output_type": "display_data"
    },
    {
     "data": {
      "application/vnd.jupyter.widget-view+json": {
       "model_id": "c064e152eecb47e09e668491d3674351",
       "version_major": 2,
       "version_minor": 0
      },
      "text/plain": [
       "  0%|          | 0/2 [00:00<?, ?it/s]"
      ]
     },
     "metadata": {},
     "output_type": "display_data"
    },
    {
     "data": {
      "application/vnd.jupyter.widget-view+json": {
       "model_id": "b921ddd3a17545bb9000fefe2d30c011",
       "version_major": 2,
       "version_minor": 0
      },
      "text/plain": [
       "  0%|          | 0/2 [00:00<?, ?it/s]"
      ]
     },
     "metadata": {},
     "output_type": "display_data"
    },
    {
     "data": {
      "application/vnd.jupyter.widget-view+json": {
       "model_id": "95f4622202d046529986966cee35ed6f",
       "version_major": 2,
       "version_minor": 0
      },
      "text/plain": [
       "  0%|          | 0/2 [00:00<?, ?it/s]"
      ]
     },
     "metadata": {},
     "output_type": "display_data"
    },
    {
     "data": {
      "application/vnd.jupyter.widget-view+json": {
       "model_id": "825a1528cc6c48669e0f102438f77013",
       "version_major": 2,
       "version_minor": 0
      },
      "text/plain": [
       "  0%|          | 0/2 [00:00<?, ?it/s]"
      ]
     },
     "metadata": {},
     "output_type": "display_data"
    },
    {
     "data": {
      "application/vnd.jupyter.widget-view+json": {
       "model_id": "287732b396084d9a8b8b280da14be0a4",
       "version_major": 2,
       "version_minor": 0
      },
      "text/plain": [
       "  0%|          | 0/2 [00:00<?, ?it/s]"
      ]
     },
     "metadata": {},
     "output_type": "display_data"
    },
    {
     "data": {
      "application/vnd.jupyter.widget-view+json": {
       "model_id": "0590fc5df297412d9c80da57a89c5160",
       "version_major": 2,
       "version_minor": 0
      },
      "text/plain": [
       "  0%|          | 0/2 [00:00<?, ?it/s]"
      ]
     },
     "metadata": {},
     "output_type": "display_data"
    },
    {
     "data": {
      "application/vnd.jupyter.widget-view+json": {
       "model_id": "cc79456d06f045c1b972c5fb7b9f0351",
       "version_major": 2,
       "version_minor": 0
      },
      "text/plain": [
       "  0%|          | 0/2 [00:00<?, ?it/s]"
      ]
     },
     "metadata": {},
     "output_type": "display_data"
    },
    {
     "data": {
      "application/vnd.jupyter.widget-view+json": {
       "model_id": "89a34e22c44e4e3e9023d4242ca7cbbe",
       "version_major": 2,
       "version_minor": 0
      },
      "text/plain": [
       "  0%|          | 0/2 [00:00<?, ?it/s]"
      ]
     },
     "metadata": {},
     "output_type": "display_data"
    },
    {
     "data": {
      "application/vnd.jupyter.widget-view+json": {
       "model_id": "0b35e44413c84650a8532646aebbc32e",
       "version_major": 2,
       "version_minor": 0
      },
      "text/plain": [
       "  0%|          | 0/2 [00:00<?, ?it/s]"
      ]
     },
     "metadata": {},
     "output_type": "display_data"
    },
    {
     "data": {
      "application/vnd.jupyter.widget-view+json": {
       "model_id": "36747776859b4536b23a2c76ebd5d432",
       "version_major": 2,
       "version_minor": 0
      },
      "text/plain": [
       "  0%|          | 0/2 [00:00<?, ?it/s]"
      ]
     },
     "metadata": {},
     "output_type": "display_data"
    },
    {
     "data": {
      "application/vnd.jupyter.widget-view+json": {
       "model_id": "e904fe84bfad4da08203e258eddce1c8",
       "version_major": 2,
       "version_minor": 0
      },
      "text/plain": [
       "  0%|          | 0/2 [00:00<?, ?it/s]"
      ]
     },
     "metadata": {},
     "output_type": "display_data"
    },
    {
     "data": {
      "application/vnd.jupyter.widget-view+json": {
       "model_id": "0ea7250045b949df9fe6a5a1d558c34f",
       "version_major": 2,
       "version_minor": 0
      },
      "text/plain": [
       "  0%|          | 0/2 [00:00<?, ?it/s]"
      ]
     },
     "metadata": {},
     "output_type": "display_data"
    },
    {
     "data": {
      "application/vnd.jupyter.widget-view+json": {
       "model_id": "52d67c7b058e4f52becfb5db559ae987",
       "version_major": 2,
       "version_minor": 0
      },
      "text/plain": [
       "  0%|          | 0/2 [00:00<?, ?it/s]"
      ]
     },
     "metadata": {},
     "output_type": "display_data"
    },
    {
     "data": {
      "application/vnd.jupyter.widget-view+json": {
       "model_id": "30cc8497be2141d2a407ee7f283ab387",
       "version_major": 2,
       "version_minor": 0
      },
      "text/plain": [
       "  0%|          | 0/2 [00:00<?, ?it/s]"
      ]
     },
     "metadata": {},
     "output_type": "display_data"
    },
    {
     "data": {
      "application/vnd.jupyter.widget-view+json": {
       "model_id": "a95ccdbab49d4ed8bc8dcc4c7d99a8e1",
       "version_major": 2,
       "version_minor": 0
      },
      "text/plain": [
       "  0%|          | 0/2 [00:00<?, ?it/s]"
      ]
     },
     "metadata": {},
     "output_type": "display_data"
    },
    {
     "data": {
      "application/vnd.jupyter.widget-view+json": {
       "model_id": "74d01d0cb2344e5e8583fce6602f4508",
       "version_major": 2,
       "version_minor": 0
      },
      "text/plain": [
       "  0%|          | 0/2 [00:00<?, ?it/s]"
      ]
     },
     "metadata": {},
     "output_type": "display_data"
    },
    {
     "data": {
      "application/vnd.jupyter.widget-view+json": {
       "model_id": "926d3a9208c64a9a8fb60edef1a031c0",
       "version_major": 2,
       "version_minor": 0
      },
      "text/plain": [
       "  0%|          | 0/2 [00:00<?, ?it/s]"
      ]
     },
     "metadata": {},
     "output_type": "display_data"
    },
    {
     "data": {
      "application/vnd.jupyter.widget-view+json": {
       "model_id": "2f8ba7e0b2d84581a94c4d45a42048ff",
       "version_major": 2,
       "version_minor": 0
      },
      "text/plain": [
       "  0%|          | 0/2 [00:00<?, ?it/s]"
      ]
     },
     "metadata": {},
     "output_type": "display_data"
    },
    {
     "data": {
      "application/vnd.jupyter.widget-view+json": {
       "model_id": "987955b94fd946bf8c935fefe6f111cf",
       "version_major": 2,
       "version_minor": 0
      },
      "text/plain": [
       "  0%|          | 0/2 [00:00<?, ?it/s]"
      ]
     },
     "metadata": {},
     "output_type": "display_data"
    },
    {
     "data": {
      "application/vnd.jupyter.widget-view+json": {
       "model_id": "0a1ac80d6573436fb3ee69e72e16b0be",
       "version_major": 2,
       "version_minor": 0
      },
      "text/plain": [
       "  0%|          | 0/2 [00:00<?, ?it/s]"
      ]
     },
     "metadata": {},
     "output_type": "display_data"
    },
    {
     "data": {
      "application/vnd.jupyter.widget-view+json": {
       "model_id": "30b8a615e0604976bb7cbb479c4af22a",
       "version_major": 2,
       "version_minor": 0
      },
      "text/plain": [
       "  0%|          | 0/2 [00:00<?, ?it/s]"
      ]
     },
     "metadata": {},
     "output_type": "display_data"
    },
    {
     "data": {
      "application/vnd.jupyter.widget-view+json": {
       "model_id": "cdc1f23149d14df98894309e8ebe9141",
       "version_major": 2,
       "version_minor": 0
      },
      "text/plain": [
       "  0%|          | 0/2 [00:00<?, ?it/s]"
      ]
     },
     "metadata": {},
     "output_type": "display_data"
    },
    {
     "data": {
      "application/vnd.jupyter.widget-view+json": {
       "model_id": "75bc6bd31dc64bfabf8f85ab48f12146",
       "version_major": 2,
       "version_minor": 0
      },
      "text/plain": [
       "  0%|          | 0/2 [00:00<?, ?it/s]"
      ]
     },
     "metadata": {},
     "output_type": "display_data"
    },
    {
     "data": {
      "application/vnd.jupyter.widget-view+json": {
       "model_id": "71dac9dec39442fa8073c5508a5b7c80",
       "version_major": 2,
       "version_minor": 0
      },
      "text/plain": [
       "  0%|          | 0/2 [00:00<?, ?it/s]"
      ]
     },
     "metadata": {},
     "output_type": "display_data"
    },
    {
     "data": {
      "application/vnd.jupyter.widget-view+json": {
       "model_id": "99fc7f5b7e2c4b808239c3d6e2f6e718",
       "version_major": 2,
       "version_minor": 0
      },
      "text/plain": [
       "  0%|          | 0/2 [00:00<?, ?it/s]"
      ]
     },
     "metadata": {},
     "output_type": "display_data"
    },
    {
     "data": {
      "application/vnd.jupyter.widget-view+json": {
       "model_id": "6a232d3c70794b8d844db04ed5b34ad8",
       "version_major": 2,
       "version_minor": 0
      },
      "text/plain": [
       "  0%|          | 0/2 [00:00<?, ?it/s]"
      ]
     },
     "metadata": {},
     "output_type": "display_data"
    },
    {
     "data": {
      "application/vnd.jupyter.widget-view+json": {
       "model_id": "371d0649b052405388daeaec18b91883",
       "version_major": 2,
       "version_minor": 0
      },
      "text/plain": [
       "  0%|          | 0/2 [00:00<?, ?it/s]"
      ]
     },
     "metadata": {},
     "output_type": "display_data"
    },
    {
     "data": {
      "application/vnd.jupyter.widget-view+json": {
       "model_id": "207f011b9f1d49f0b8c6867ee72d2eb1",
       "version_major": 2,
       "version_minor": 0
      },
      "text/plain": [
       "  0%|          | 0/2 [00:00<?, ?it/s]"
      ]
     },
     "metadata": {},
     "output_type": "display_data"
    },
    {
     "data": {
      "application/vnd.jupyter.widget-view+json": {
       "model_id": "2b75d94cbf994414b998d1b7305c5488",
       "version_major": 2,
       "version_minor": 0
      },
      "text/plain": [
       "  0%|          | 0/2 [00:00<?, ?it/s]"
      ]
     },
     "metadata": {},
     "output_type": "display_data"
    },
    {
     "data": {
      "application/vnd.jupyter.widget-view+json": {
       "model_id": "0916639f21ff410f99eaa25b40ce54c3",
       "version_major": 2,
       "version_minor": 0
      },
      "text/plain": [
       "  0%|          | 0/2 [00:00<?, ?it/s]"
      ]
     },
     "metadata": {},
     "output_type": "display_data"
    },
    {
     "data": {
      "application/vnd.jupyter.widget-view+json": {
       "model_id": "851a019367734b5ca1031930ac036697",
       "version_major": 2,
       "version_minor": 0
      },
      "text/plain": [
       "  0%|          | 0/2 [00:00<?, ?it/s]"
      ]
     },
     "metadata": {},
     "output_type": "display_data"
    },
    {
     "data": {
      "application/vnd.jupyter.widget-view+json": {
       "model_id": "1e10cc4ecb734b9f8bad2dae3bb2cae8",
       "version_major": 2,
       "version_minor": 0
      },
      "text/plain": [
       "  0%|          | 0/2 [00:00<?, ?it/s]"
      ]
     },
     "metadata": {},
     "output_type": "display_data"
    },
    {
     "data": {
      "application/vnd.jupyter.widget-view+json": {
       "model_id": "8e783064407c4e8fb9a1589e1e51f477",
       "version_major": 2,
       "version_minor": 0
      },
      "text/plain": [
       "  0%|          | 0/2 [00:00<?, ?it/s]"
      ]
     },
     "metadata": {},
     "output_type": "display_data"
    },
    {
     "data": {
      "application/vnd.jupyter.widget-view+json": {
       "model_id": "cb4f42390f58441da3de00d93d6140a3",
       "version_major": 2,
       "version_minor": 0
      },
      "text/plain": [
       "  0%|          | 0/2 [00:00<?, ?it/s]"
      ]
     },
     "metadata": {},
     "output_type": "display_data"
    },
    {
     "data": {
      "application/vnd.jupyter.widget-view+json": {
       "model_id": "3b0e51cde58f4e8b96a740a78e532b70",
       "version_major": 2,
       "version_minor": 0
      },
      "text/plain": [
       "  0%|          | 0/2 [00:00<?, ?it/s]"
      ]
     },
     "metadata": {},
     "output_type": "display_data"
    },
    {
     "data": {
      "application/vnd.jupyter.widget-view+json": {
       "model_id": "331259afc9374f6d93dc0f5e540f7cb4",
       "version_major": 2,
       "version_minor": 0
      },
      "text/plain": [
       "  0%|          | 0/2 [00:00<?, ?it/s]"
      ]
     },
     "metadata": {},
     "output_type": "display_data"
    },
    {
     "data": {
      "application/vnd.jupyter.widget-view+json": {
       "model_id": "f7095519feba4626b804eedef623bcda",
       "version_major": 2,
       "version_minor": 0
      },
      "text/plain": [
       "  0%|          | 0/2 [00:00<?, ?it/s]"
      ]
     },
     "metadata": {},
     "output_type": "display_data"
    },
    {
     "data": {
      "application/vnd.jupyter.widget-view+json": {
       "model_id": "872037d287ff4d939923f9ea50ac51d4",
       "version_major": 2,
       "version_minor": 0
      },
      "text/plain": [
       "  0%|          | 0/2 [00:00<?, ?it/s]"
      ]
     },
     "metadata": {},
     "output_type": "display_data"
    },
    {
     "data": {
      "application/vnd.jupyter.widget-view+json": {
       "model_id": "d335d1791a2f49e39d024f575c065454",
       "version_major": 2,
       "version_minor": 0
      },
      "text/plain": [
       "  0%|          | 0/2 [00:00<?, ?it/s]"
      ]
     },
     "metadata": {},
     "output_type": "display_data"
    },
    {
     "data": {
      "application/vnd.jupyter.widget-view+json": {
       "model_id": "b96ea69702414c6c94b20fc88eefb647",
       "version_major": 2,
       "version_minor": 0
      },
      "text/plain": [
       "  0%|          | 0/2 [00:00<?, ?it/s]"
      ]
     },
     "metadata": {},
     "output_type": "display_data"
    },
    {
     "data": {
      "application/vnd.jupyter.widget-view+json": {
       "model_id": "692a843c05b1438c9547be3025ba10c9",
       "version_major": 2,
       "version_minor": 0
      },
      "text/plain": [
       "  0%|          | 0/2 [00:00<?, ?it/s]"
      ]
     },
     "metadata": {},
     "output_type": "display_data"
    },
    {
     "data": {
      "application/vnd.jupyter.widget-view+json": {
       "model_id": "e406882c62e74d5e89653e924bc552ef",
       "version_major": 2,
       "version_minor": 0
      },
      "text/plain": [
       "  0%|          | 0/2 [00:00<?, ?it/s]"
      ]
     },
     "metadata": {},
     "output_type": "display_data"
    },
    {
     "data": {
      "application/vnd.jupyter.widget-view+json": {
       "model_id": "33d9b0466081451385826ba35134d9ed",
       "version_major": 2,
       "version_minor": 0
      },
      "text/plain": [
       "  0%|          | 0/2 [00:00<?, ?it/s]"
      ]
     },
     "metadata": {},
     "output_type": "display_data"
    },
    {
     "data": {
      "application/vnd.jupyter.widget-view+json": {
       "model_id": "2ccc400a41c64e01a0df3f0d50dfd839",
       "version_major": 2,
       "version_minor": 0
      },
      "text/plain": [
       "  0%|          | 0/2 [00:00<?, ?it/s]"
      ]
     },
     "metadata": {},
     "output_type": "display_data"
    },
    {
     "data": {
      "application/vnd.jupyter.widget-view+json": {
       "model_id": "731c81c88f3c449091f36366616f0a2a",
       "version_major": 2,
       "version_minor": 0
      },
      "text/plain": [
       "  0%|          | 0/2 [00:00<?, ?it/s]"
      ]
     },
     "metadata": {},
     "output_type": "display_data"
    },
    {
     "data": {
      "application/vnd.jupyter.widget-view+json": {
       "model_id": "0c2d30706f194010acd5fcbcedaeb6bc",
       "version_major": 2,
       "version_minor": 0
      },
      "text/plain": [
       "  0%|          | 0/2 [00:00<?, ?it/s]"
      ]
     },
     "metadata": {},
     "output_type": "display_data"
    },
    {
     "data": {
      "application/vnd.jupyter.widget-view+json": {
       "model_id": "65ec6449fc80402c99b1c068c24c7ca7",
       "version_major": 2,
       "version_minor": 0
      },
      "text/plain": [
       "  0%|          | 0/2 [00:00<?, ?it/s]"
      ]
     },
     "metadata": {},
     "output_type": "display_data"
    },
    {
     "data": {
      "application/vnd.jupyter.widget-view+json": {
       "model_id": "ad890c37e3634e4bbc4f30ce6bc13b53",
       "version_major": 2,
       "version_minor": 0
      },
      "text/plain": [
       "  0%|          | 0/2 [00:00<?, ?it/s]"
      ]
     },
     "metadata": {},
     "output_type": "display_data"
    },
    {
     "data": {
      "application/vnd.jupyter.widget-view+json": {
       "model_id": "d15c65d285524ffbbefc36087abbc562",
       "version_major": 2,
       "version_minor": 0
      },
      "text/plain": [
       "  0%|          | 0/2 [00:00<?, ?it/s]"
      ]
     },
     "metadata": {},
     "output_type": "display_data"
    },
    {
     "data": {
      "application/vnd.jupyter.widget-view+json": {
       "model_id": "83b99cdb2a094c8b8b730aff40224de3",
       "version_major": 2,
       "version_minor": 0
      },
      "text/plain": [
       "  0%|          | 0/2 [00:00<?, ?it/s]"
      ]
     },
     "metadata": {},
     "output_type": "display_data"
    },
    {
     "data": {
      "application/vnd.jupyter.widget-view+json": {
       "model_id": "69842c2b18a446d08756ea96a2317bd4",
       "version_major": 2,
       "version_minor": 0
      },
      "text/plain": [
       "  0%|          | 0/2 [00:00<?, ?it/s]"
      ]
     },
     "metadata": {},
     "output_type": "display_data"
    },
    {
     "data": {
      "application/vnd.jupyter.widget-view+json": {
       "model_id": "928643c1def84c82a881be9da0be85d9",
       "version_major": 2,
       "version_minor": 0
      },
      "text/plain": [
       "  0%|          | 0/2 [00:00<?, ?it/s]"
      ]
     },
     "metadata": {},
     "output_type": "display_data"
    },
    {
     "data": {
      "application/vnd.jupyter.widget-view+json": {
       "model_id": "08a3e744344846d5866b92ee1c2551ec",
       "version_major": 2,
       "version_minor": 0
      },
      "text/plain": [
       "  0%|          | 0/2 [00:00<?, ?it/s]"
      ]
     },
     "metadata": {},
     "output_type": "display_data"
    },
    {
     "data": {
      "application/vnd.jupyter.widget-view+json": {
       "model_id": "a244f740c7cb458cb3ee0601ad51680c",
       "version_major": 2,
       "version_minor": 0
      },
      "text/plain": [
       "  0%|          | 0/2 [00:00<?, ?it/s]"
      ]
     },
     "metadata": {},
     "output_type": "display_data"
    },
    {
     "data": {
      "application/vnd.jupyter.widget-view+json": {
       "model_id": "e35cbf5e58b442d5859a0f2759287e62",
       "version_major": 2,
       "version_minor": 0
      },
      "text/plain": [
       "  0%|          | 0/2 [00:00<?, ?it/s]"
      ]
     },
     "metadata": {},
     "output_type": "display_data"
    },
    {
     "data": {
      "application/vnd.jupyter.widget-view+json": {
       "model_id": "b685f01c304a462bb3a8311f3fb879c4",
       "version_major": 2,
       "version_minor": 0
      },
      "text/plain": [
       "  0%|          | 0/2 [00:00<?, ?it/s]"
      ]
     },
     "metadata": {},
     "output_type": "display_data"
    },
    {
     "data": {
      "application/vnd.jupyter.widget-view+json": {
       "model_id": "47b6e39acbee49e8a5b2890375637ab6",
       "version_major": 2,
       "version_minor": 0
      },
      "text/plain": [
       "  0%|          | 0/2 [00:00<?, ?it/s]"
      ]
     },
     "metadata": {},
     "output_type": "display_data"
    },
    {
     "data": {
      "application/vnd.jupyter.widget-view+json": {
       "model_id": "2e793906d81c4adab1c479f0fa640dd1",
       "version_major": 2,
       "version_minor": 0
      },
      "text/plain": [
       "  0%|          | 0/2 [00:00<?, ?it/s]"
      ]
     },
     "metadata": {},
     "output_type": "display_data"
    },
    {
     "data": {
      "application/vnd.jupyter.widget-view+json": {
       "model_id": "f60804c4e1ea466f9d204ba688d54424",
       "version_major": 2,
       "version_minor": 0
      },
      "text/plain": [
       "  0%|          | 0/2 [00:00<?, ?it/s]"
      ]
     },
     "metadata": {},
     "output_type": "display_data"
    },
    {
     "data": {
      "application/vnd.jupyter.widget-view+json": {
       "model_id": "113550a5dcf94aa590094189055e3ffd",
       "version_major": 2,
       "version_minor": 0
      },
      "text/plain": [
       "  0%|          | 0/2 [00:00<?, ?it/s]"
      ]
     },
     "metadata": {},
     "output_type": "display_data"
    },
    {
     "data": {
      "application/vnd.jupyter.widget-view+json": {
       "model_id": "a6e520f43c3e47cb9a42ea2c4df2be63",
       "version_major": 2,
       "version_minor": 0
      },
      "text/plain": [
       "  0%|          | 0/2 [00:00<?, ?it/s]"
      ]
     },
     "metadata": {},
     "output_type": "display_data"
    },
    {
     "data": {
      "application/vnd.jupyter.widget-view+json": {
       "model_id": "e045c7c8c8814239be49ed3b15cf955d",
       "version_major": 2,
       "version_minor": 0
      },
      "text/plain": [
       "  0%|          | 0/2 [00:00<?, ?it/s]"
      ]
     },
     "metadata": {},
     "output_type": "display_data"
    },
    {
     "data": {
      "application/vnd.jupyter.widget-view+json": {
       "model_id": "cbfe602e755749ad8e1b8b5b7b5f7fce",
       "version_major": 2,
       "version_minor": 0
      },
      "text/plain": [
       "  0%|          | 0/2 [00:00<?, ?it/s]"
      ]
     },
     "metadata": {},
     "output_type": "display_data"
    },
    {
     "data": {
      "application/vnd.jupyter.widget-view+json": {
       "model_id": "290a1bd975314322b91f18f8534d2d2d",
       "version_major": 2,
       "version_minor": 0
      },
      "text/plain": [
       "  0%|          | 0/2 [00:00<?, ?it/s]"
      ]
     },
     "metadata": {},
     "output_type": "display_data"
    },
    {
     "data": {
      "application/vnd.jupyter.widget-view+json": {
       "model_id": "c18a8952f6e147e986f604ef8ee8d2c0",
       "version_major": 2,
       "version_minor": 0
      },
      "text/plain": [
       "  0%|          | 0/2 [00:00<?, ?it/s]"
      ]
     },
     "metadata": {},
     "output_type": "display_data"
    },
    {
     "data": {
      "application/vnd.jupyter.widget-view+json": {
       "model_id": "1ef1bfca2fb44f7a9934eb6a458cbf97",
       "version_major": 2,
       "version_minor": 0
      },
      "text/plain": [
       "  0%|          | 0/2 [00:00<?, ?it/s]"
      ]
     },
     "metadata": {},
     "output_type": "display_data"
    },
    {
     "data": {
      "application/vnd.jupyter.widget-view+json": {
       "model_id": "bab51f054ee848108bac111968392037",
       "version_major": 2,
       "version_minor": 0
      },
      "text/plain": [
       "  0%|          | 0/2 [00:00<?, ?it/s]"
      ]
     },
     "metadata": {},
     "output_type": "display_data"
    },
    {
     "data": {
      "application/vnd.jupyter.widget-view+json": {
       "model_id": "cdd7e534f0a74a42919510729d722781",
       "version_major": 2,
       "version_minor": 0
      },
      "text/plain": [
       "  0%|          | 0/2 [00:00<?, ?it/s]"
      ]
     },
     "metadata": {},
     "output_type": "display_data"
    },
    {
     "data": {
      "application/vnd.jupyter.widget-view+json": {
       "model_id": "e90f03907bbe45898bba1d1e8fa06f2a",
       "version_major": 2,
       "version_minor": 0
      },
      "text/plain": [
       "  0%|          | 0/2 [00:00<?, ?it/s]"
      ]
     },
     "metadata": {},
     "output_type": "display_data"
    },
    {
     "data": {
      "application/vnd.jupyter.widget-view+json": {
       "model_id": "1a9592b691d644e29f474616fb82e1d0",
       "version_major": 2,
       "version_minor": 0
      },
      "text/plain": [
       "  0%|          | 0/2 [00:00<?, ?it/s]"
      ]
     },
     "metadata": {},
     "output_type": "display_data"
    },
    {
     "data": {
      "application/vnd.jupyter.widget-view+json": {
       "model_id": "522a2796ea084cfdb804ee8c0570509c",
       "version_major": 2,
       "version_minor": 0
      },
      "text/plain": [
       "  0%|          | 0/2 [00:00<?, ?it/s]"
      ]
     },
     "metadata": {},
     "output_type": "display_data"
    },
    {
     "data": {
      "application/vnd.jupyter.widget-view+json": {
       "model_id": "2af3885c05484bd480ed4cb792dc6a99",
       "version_major": 2,
       "version_minor": 0
      },
      "text/plain": [
       "  0%|          | 0/2 [00:00<?, ?it/s]"
      ]
     },
     "metadata": {},
     "output_type": "display_data"
    },
    {
     "data": {
      "application/vnd.jupyter.widget-view+json": {
       "model_id": "b96320815e164dae95be7799a0988c24",
       "version_major": 2,
       "version_minor": 0
      },
      "text/plain": [
       "  0%|          | 0/2 [00:00<?, ?it/s]"
      ]
     },
     "metadata": {},
     "output_type": "display_data"
    },
    {
     "data": {
      "application/vnd.jupyter.widget-view+json": {
       "model_id": "11060c56e9d941968bf63308e2f86bda",
       "version_major": 2,
       "version_minor": 0
      },
      "text/plain": [
       "  0%|          | 0/2 [00:00<?, ?it/s]"
      ]
     },
     "metadata": {},
     "output_type": "display_data"
    },
    {
     "data": {
      "application/vnd.jupyter.widget-view+json": {
       "model_id": "af1c4a0c7d3644dc90408a22a0c45405",
       "version_major": 2,
       "version_minor": 0
      },
      "text/plain": [
       "  0%|          | 0/2 [00:00<?, ?it/s]"
      ]
     },
     "metadata": {},
     "output_type": "display_data"
    },
    {
     "data": {
      "application/vnd.jupyter.widget-view+json": {
       "model_id": "87310571592341798c58b05d94ec912e",
       "version_major": 2,
       "version_minor": 0
      },
      "text/plain": [
       "  0%|          | 0/2 [00:00<?, ?it/s]"
      ]
     },
     "metadata": {},
     "output_type": "display_data"
    },
    {
     "data": {
      "application/vnd.jupyter.widget-view+json": {
       "model_id": "f4efe3ba61244fdb924603ad89b21546",
       "version_major": 2,
       "version_minor": 0
      },
      "text/plain": [
       "  0%|          | 0/2 [00:00<?, ?it/s]"
      ]
     },
     "metadata": {},
     "output_type": "display_data"
    },
    {
     "data": {
      "application/vnd.jupyter.widget-view+json": {
       "model_id": "90ed52f66751466ca95a443a748b6fc7",
       "version_major": 2,
       "version_minor": 0
      },
      "text/plain": [
       "  0%|          | 0/2 [00:00<?, ?it/s]"
      ]
     },
     "metadata": {},
     "output_type": "display_data"
    },
    {
     "data": {
      "application/vnd.jupyter.widget-view+json": {
       "model_id": "18da995fa4f041178f1ff3f57a87fba5",
       "version_major": 2,
       "version_minor": 0
      },
      "text/plain": [
       "  0%|          | 0/2 [00:00<?, ?it/s]"
      ]
     },
     "metadata": {},
     "output_type": "display_data"
    },
    {
     "data": {
      "application/vnd.jupyter.widget-view+json": {
       "model_id": "8402e8839240442ca63e6bdd3526e985",
       "version_major": 2,
       "version_minor": 0
      },
      "text/plain": [
       "  0%|          | 0/2 [00:00<?, ?it/s]"
      ]
     },
     "metadata": {},
     "output_type": "display_data"
    },
    {
     "data": {
      "application/vnd.jupyter.widget-view+json": {
       "model_id": "ba9174497dd44687a7d36f7e7ea242d7",
       "version_major": 2,
       "version_minor": 0
      },
      "text/plain": [
       "  0%|          | 0/2 [00:00<?, ?it/s]"
      ]
     },
     "metadata": {},
     "output_type": "display_data"
    },
    {
     "data": {
      "application/vnd.jupyter.widget-view+json": {
       "model_id": "f24712234fe44b1384ca6d433bd61a98",
       "version_major": 2,
       "version_minor": 0
      },
      "text/plain": [
       "  0%|          | 0/2 [00:00<?, ?it/s]"
      ]
     },
     "metadata": {},
     "output_type": "display_data"
    },
    {
     "data": {
      "application/vnd.jupyter.widget-view+json": {
       "model_id": "c2f499d020744b00bb67dc414ce42dcc",
       "version_major": 2,
       "version_minor": 0
      },
      "text/plain": [
       "  0%|          | 0/2 [00:00<?, ?it/s]"
      ]
     },
     "metadata": {},
     "output_type": "display_data"
    },
    {
     "data": {
      "application/vnd.jupyter.widget-view+json": {
       "model_id": "a3646dc8c8d14ff5a2a8bf1f4b1c7aad",
       "version_major": 2,
       "version_minor": 0
      },
      "text/plain": [
       "  0%|          | 0/2 [00:00<?, ?it/s]"
      ]
     },
     "metadata": {},
     "output_type": "display_data"
    },
    {
     "data": {
      "application/vnd.jupyter.widget-view+json": {
       "model_id": "d28302dd128e418ebd63433c5280067f",
       "version_major": 2,
       "version_minor": 0
      },
      "text/plain": [
       "  0%|          | 0/2 [00:00<?, ?it/s]"
      ]
     },
     "metadata": {},
     "output_type": "display_data"
    },
    {
     "data": {
      "application/vnd.jupyter.widget-view+json": {
       "model_id": "e55a4cd6cef64112a4ceac5fcc43074f",
       "version_major": 2,
       "version_minor": 0
      },
      "text/plain": [
       "  0%|          | 0/2 [00:00<?, ?it/s]"
      ]
     },
     "metadata": {},
     "output_type": "display_data"
    },
    {
     "data": {
      "application/vnd.jupyter.widget-view+json": {
       "model_id": "4adbf0ff7cf5429db6c5cacf475393f6",
       "version_major": 2,
       "version_minor": 0
      },
      "text/plain": [
       "  0%|          | 0/2 [00:00<?, ?it/s]"
      ]
     },
     "metadata": {},
     "output_type": "display_data"
    },
    {
     "data": {
      "application/vnd.jupyter.widget-view+json": {
       "model_id": "804f0c185474458ebc6b7f874a9e69bf",
       "version_major": 2,
       "version_minor": 0
      },
      "text/plain": [
       "  0%|          | 0/2 [00:00<?, ?it/s]"
      ]
     },
     "metadata": {},
     "output_type": "display_data"
    },
    {
     "data": {
      "application/vnd.jupyter.widget-view+json": {
       "model_id": "c288dac45e61488190b7e7809c74184c",
       "version_major": 2,
       "version_minor": 0
      },
      "text/plain": [
       "  0%|          | 0/2 [00:00<?, ?it/s]"
      ]
     },
     "metadata": {},
     "output_type": "display_data"
    },
    {
     "data": {
      "application/vnd.jupyter.widget-view+json": {
       "model_id": "d051aaf988e243ddaa1f83dc9c7bf4c8",
       "version_major": 2,
       "version_minor": 0
      },
      "text/plain": [
       "  0%|          | 0/2 [00:00<?, ?it/s]"
      ]
     },
     "metadata": {},
     "output_type": "display_data"
    },
    {
     "data": {
      "application/vnd.jupyter.widget-view+json": {
       "model_id": "f930596ba3b3485ab59e13fb21a66186",
       "version_major": 2,
       "version_minor": 0
      },
      "text/plain": [
       "  0%|          | 0/2 [00:00<?, ?it/s]"
      ]
     },
     "metadata": {},
     "output_type": "display_data"
    },
    {
     "data": {
      "application/vnd.jupyter.widget-view+json": {
       "model_id": "a4292408aa5a4a0691614b2cc0cd6884",
       "version_major": 2,
       "version_minor": 0
      },
      "text/plain": [
       "  0%|          | 0/2 [00:00<?, ?it/s]"
      ]
     },
     "metadata": {},
     "output_type": "display_data"
    },
    {
     "data": {
      "application/vnd.jupyter.widget-view+json": {
       "model_id": "1119f36c1381438aaee41958a8868d13",
       "version_major": 2,
       "version_minor": 0
      },
      "text/plain": [
       "  0%|          | 0/2 [00:00<?, ?it/s]"
      ]
     },
     "metadata": {},
     "output_type": "display_data"
    },
    {
     "data": {
      "application/vnd.jupyter.widget-view+json": {
       "model_id": "c3ae8350e4c047fa8b97ae38e0799568",
       "version_major": 2,
       "version_minor": 0
      },
      "text/plain": [
       "  0%|          | 0/2 [00:00<?, ?it/s]"
      ]
     },
     "metadata": {},
     "output_type": "display_data"
    },
    {
     "data": {
      "application/vnd.jupyter.widget-view+json": {
       "model_id": "8b3544d8612b4e2c93a9e4c4904c203a",
       "version_major": 2,
       "version_minor": 0
      },
      "text/plain": [
       "  0%|          | 0/2 [00:00<?, ?it/s]"
      ]
     },
     "metadata": {},
     "output_type": "display_data"
    },
    {
     "data": {
      "application/vnd.jupyter.widget-view+json": {
       "model_id": "b048942c9e4a4a2c894e03ac578cf94e",
       "version_major": 2,
       "version_minor": 0
      },
      "text/plain": [
       "  0%|          | 0/2 [00:00<?, ?it/s]"
      ]
     },
     "metadata": {},
     "output_type": "display_data"
    },
    {
     "data": {
      "application/vnd.jupyter.widget-view+json": {
       "model_id": "3e77f82689654f49a7a1476d265abd7a",
       "version_major": 2,
       "version_minor": 0
      },
      "text/plain": [
       "  0%|          | 0/2 [00:00<?, ?it/s]"
      ]
     },
     "metadata": {},
     "output_type": "display_data"
    },
    {
     "data": {
      "application/vnd.jupyter.widget-view+json": {
       "model_id": "c944abcb455646c2bfe9ab979dfabd14",
       "version_major": 2,
       "version_minor": 0
      },
      "text/plain": [
       "  0%|          | 0/2 [00:00<?, ?it/s]"
      ]
     },
     "metadata": {},
     "output_type": "display_data"
    },
    {
     "data": {
      "application/vnd.jupyter.widget-view+json": {
       "model_id": "0defb33a484b42c09b9b2a024dbd09f6",
       "version_major": 2,
       "version_minor": 0
      },
      "text/plain": [
       "  0%|          | 0/2 [00:00<?, ?it/s]"
      ]
     },
     "metadata": {},
     "output_type": "display_data"
    },
    {
     "data": {
      "application/vnd.jupyter.widget-view+json": {
       "model_id": "be3187a02eda467696959345710bbd1d",
       "version_major": 2,
       "version_minor": 0
      },
      "text/plain": [
       "  0%|          | 0/2 [00:00<?, ?it/s]"
      ]
     },
     "metadata": {},
     "output_type": "display_data"
    },
    {
     "data": {
      "application/vnd.jupyter.widget-view+json": {
       "model_id": "d3da2c1969ab4d25921e5a0cf8b9747a",
       "version_major": 2,
       "version_minor": 0
      },
      "text/plain": [
       "  0%|          | 0/2 [00:00<?, ?it/s]"
      ]
     },
     "metadata": {},
     "output_type": "display_data"
    },
    {
     "data": {
      "application/vnd.jupyter.widget-view+json": {
       "model_id": "ffadfe1fe64e4709b54af6ece8101310",
       "version_major": 2,
       "version_minor": 0
      },
      "text/plain": [
       "  0%|          | 0/2 [00:00<?, ?it/s]"
      ]
     },
     "metadata": {},
     "output_type": "display_data"
    },
    {
     "data": {
      "application/vnd.jupyter.widget-view+json": {
       "model_id": "6e713456da324d41981366e69ee6fc04",
       "version_major": 2,
       "version_minor": 0
      },
      "text/plain": [
       "  0%|          | 0/2 [00:00<?, ?it/s]"
      ]
     },
     "metadata": {},
     "output_type": "display_data"
    },
    {
     "data": {
      "application/vnd.jupyter.widget-view+json": {
       "model_id": "8ffebb8067264895b1dc6d98343c43b7",
       "version_major": 2,
       "version_minor": 0
      },
      "text/plain": [
       "  0%|          | 0/2 [00:00<?, ?it/s]"
      ]
     },
     "metadata": {},
     "output_type": "display_data"
    },
    {
     "data": {
      "application/vnd.jupyter.widget-view+json": {
       "model_id": "b3f40e100e4247218385a002ee010801",
       "version_major": 2,
       "version_minor": 0
      },
      "text/plain": [
       "  0%|          | 0/2 [00:00<?, ?it/s]"
      ]
     },
     "metadata": {},
     "output_type": "display_data"
    },
    {
     "data": {
      "application/vnd.jupyter.widget-view+json": {
       "model_id": "c9c3380da520442fba09a878459e324f",
       "version_major": 2,
       "version_minor": 0
      },
      "text/plain": [
       "  0%|          | 0/2 [00:00<?, ?it/s]"
      ]
     },
     "metadata": {},
     "output_type": "display_data"
    },
    {
     "data": {
      "application/vnd.jupyter.widget-view+json": {
       "model_id": "cf4bac3792cd4c268431a3c34f696a5c",
       "version_major": 2,
       "version_minor": 0
      },
      "text/plain": [
       "  0%|          | 0/2 [00:00<?, ?it/s]"
      ]
     },
     "metadata": {},
     "output_type": "display_data"
    },
    {
     "data": {
      "application/vnd.jupyter.widget-view+json": {
       "model_id": "605d3f9547c144a5a10fdc896164dcbb",
       "version_major": 2,
       "version_minor": 0
      },
      "text/plain": [
       "  0%|          | 0/2 [00:00<?, ?it/s]"
      ]
     },
     "metadata": {},
     "output_type": "display_data"
    },
    {
     "data": {
      "application/vnd.jupyter.widget-view+json": {
       "model_id": "6037cff3c34b48509f3ee437af4fcd59",
       "version_major": 2,
       "version_minor": 0
      },
      "text/plain": [
       "  0%|          | 0/2 [00:00<?, ?it/s]"
      ]
     },
     "metadata": {},
     "output_type": "display_data"
    },
    {
     "data": {
      "application/vnd.jupyter.widget-view+json": {
       "model_id": "4f3514bdbb534d7ebc4bfee4f43ae54f",
       "version_major": 2,
       "version_minor": 0
      },
      "text/plain": [
       "  0%|          | 0/2 [00:00<?, ?it/s]"
      ]
     },
     "metadata": {},
     "output_type": "display_data"
    },
    {
     "data": {
      "application/vnd.jupyter.widget-view+json": {
       "model_id": "5d68909828ec4c0893d3c899dca04d7f",
       "version_major": 2,
       "version_minor": 0
      },
      "text/plain": [
       "  0%|          | 0/2 [00:00<?, ?it/s]"
      ]
     },
     "metadata": {},
     "output_type": "display_data"
    },
    {
     "data": {
      "application/vnd.jupyter.widget-view+json": {
       "model_id": "d021761504114f07b9a50f47fc139ca4",
       "version_major": 2,
       "version_minor": 0
      },
      "text/plain": [
       "  0%|          | 0/2 [00:00<?, ?it/s]"
      ]
     },
     "metadata": {},
     "output_type": "display_data"
    },
    {
     "data": {
      "application/vnd.jupyter.widget-view+json": {
       "model_id": "9f1c3708c6c84c1dbba8bef7ab7fd45c",
       "version_major": 2,
       "version_minor": 0
      },
      "text/plain": [
       "  0%|          | 0/2 [00:00<?, ?it/s]"
      ]
     },
     "metadata": {},
     "output_type": "display_data"
    },
    {
     "data": {
      "application/vnd.jupyter.widget-view+json": {
       "model_id": "6906e2c45e1d4d06a3c4a27d14575ba2",
       "version_major": 2,
       "version_minor": 0
      },
      "text/plain": [
       "  0%|          | 0/2 [00:00<?, ?it/s]"
      ]
     },
     "metadata": {},
     "output_type": "display_data"
    },
    {
     "data": {
      "application/vnd.jupyter.widget-view+json": {
       "model_id": "a14600f99acf463082659ffa0e90b6fc",
       "version_major": 2,
       "version_minor": 0
      },
      "text/plain": [
       "  0%|          | 0/2 [00:00<?, ?it/s]"
      ]
     },
     "metadata": {},
     "output_type": "display_data"
    },
    {
     "data": {
      "application/vnd.jupyter.widget-view+json": {
       "model_id": "d97d635d35a944c6a67c38d651711aa8",
       "version_major": 2,
       "version_minor": 0
      },
      "text/plain": [
       "  0%|          | 0/2 [00:00<?, ?it/s]"
      ]
     },
     "metadata": {},
     "output_type": "display_data"
    },
    {
     "data": {
      "application/vnd.jupyter.widget-view+json": {
       "model_id": "de9d0a80d5f84cb9b815f23a19e98530",
       "version_major": 2,
       "version_minor": 0
      },
      "text/plain": [
       "  0%|          | 0/2 [00:00<?, ?it/s]"
      ]
     },
     "metadata": {},
     "output_type": "display_data"
    },
    {
     "data": {
      "application/vnd.jupyter.widget-view+json": {
       "model_id": "451d96ff4b3d4df78d41963666570a3a",
       "version_major": 2,
       "version_minor": 0
      },
      "text/plain": [
       "  0%|          | 0/2 [00:00<?, ?it/s]"
      ]
     },
     "metadata": {},
     "output_type": "display_data"
    },
    {
     "data": {
      "application/vnd.jupyter.widget-view+json": {
       "model_id": "d6aa69490eec4d8faf4f593a62d08326",
       "version_major": 2,
       "version_minor": 0
      },
      "text/plain": [
       "  0%|          | 0/2 [00:00<?, ?it/s]"
      ]
     },
     "metadata": {},
     "output_type": "display_data"
    },
    {
     "data": {
      "application/vnd.jupyter.widget-view+json": {
       "model_id": "d7aeda5e40814fdb8991619b58ce244f",
       "version_major": 2,
       "version_minor": 0
      },
      "text/plain": [
       "  0%|          | 0/2 [00:00<?, ?it/s]"
      ]
     },
     "metadata": {},
     "output_type": "display_data"
    },
    {
     "data": {
      "application/vnd.jupyter.widget-view+json": {
       "model_id": "7b699304f2eb4504ad5373b285af2f30",
       "version_major": 2,
       "version_minor": 0
      },
      "text/plain": [
       "  0%|          | 0/2 [00:00<?, ?it/s]"
      ]
     },
     "metadata": {},
     "output_type": "display_data"
    },
    {
     "data": {
      "application/vnd.jupyter.widget-view+json": {
       "model_id": "3137ae1a408f43599c2f138211f922c8",
       "version_major": 2,
       "version_minor": 0
      },
      "text/plain": [
       "  0%|          | 0/2 [00:00<?, ?it/s]"
      ]
     },
     "metadata": {},
     "output_type": "display_data"
    },
    {
     "data": {
      "application/vnd.jupyter.widget-view+json": {
       "model_id": "eec9aa5356bf4a3c826e740955c9ec1e",
       "version_major": 2,
       "version_minor": 0
      },
      "text/plain": [
       "  0%|          | 0/2 [00:00<?, ?it/s]"
      ]
     },
     "metadata": {},
     "output_type": "display_data"
    },
    {
     "data": {
      "application/vnd.jupyter.widget-view+json": {
       "model_id": "31fdfa613c964ea3bc446c58776a6be4",
       "version_major": 2,
       "version_minor": 0
      },
      "text/plain": [
       "  0%|          | 0/2 [00:00<?, ?it/s]"
      ]
     },
     "metadata": {},
     "output_type": "display_data"
    },
    {
     "data": {
      "application/vnd.jupyter.widget-view+json": {
       "model_id": "cf9ce3f292eb48a1b7157a088ae5e328",
       "version_major": 2,
       "version_minor": 0
      },
      "text/plain": [
       "  0%|          | 0/2 [00:00<?, ?it/s]"
      ]
     },
     "metadata": {},
     "output_type": "display_data"
    },
    {
     "data": {
      "application/vnd.jupyter.widget-view+json": {
       "model_id": "5de5af53b3724d7494d7f446d5c64aed",
       "version_major": 2,
       "version_minor": 0
      },
      "text/plain": [
       "  0%|          | 0/2 [00:00<?, ?it/s]"
      ]
     },
     "metadata": {},
     "output_type": "display_data"
    },
    {
     "data": {
      "application/vnd.jupyter.widget-view+json": {
       "model_id": "e6f61283b18e4dc2bf53e2be7ff75a7f",
       "version_major": 2,
       "version_minor": 0
      },
      "text/plain": [
       "  0%|          | 0/2 [00:00<?, ?it/s]"
      ]
     },
     "metadata": {},
     "output_type": "display_data"
    },
    {
     "data": {
      "application/vnd.jupyter.widget-view+json": {
       "model_id": "4183d97749a7440e9b5fb80482b46cca",
       "version_major": 2,
       "version_minor": 0
      },
      "text/plain": [
       "  0%|          | 0/2 [00:00<?, ?it/s]"
      ]
     },
     "metadata": {},
     "output_type": "display_data"
    },
    {
     "data": {
      "application/vnd.jupyter.widget-view+json": {
       "model_id": "0b3a51193adb4faeb5fb546c3115fd7f",
       "version_major": 2,
       "version_minor": 0
      },
      "text/plain": [
       "  0%|          | 0/2 [00:00<?, ?it/s]"
      ]
     },
     "metadata": {},
     "output_type": "display_data"
    },
    {
     "data": {
      "application/vnd.jupyter.widget-view+json": {
       "model_id": "9ff1621834b641a69dc8ffb7a92636bf",
       "version_major": 2,
       "version_minor": 0
      },
      "text/plain": [
       "  0%|          | 0/2 [00:00<?, ?it/s]"
      ]
     },
     "metadata": {},
     "output_type": "display_data"
    },
    {
     "data": {
      "application/vnd.jupyter.widget-view+json": {
       "model_id": "8c3ae1e140da4f6985d61b273f5117dd",
       "version_major": 2,
       "version_minor": 0
      },
      "text/plain": [
       "  0%|          | 0/2 [00:00<?, ?it/s]"
      ]
     },
     "metadata": {},
     "output_type": "display_data"
    },
    {
     "data": {
      "application/vnd.jupyter.widget-view+json": {
       "model_id": "62e3d6a922644c4d9b439ddc08f284fd",
       "version_major": 2,
       "version_minor": 0
      },
      "text/plain": [
       "  0%|          | 0/2 [00:00<?, ?it/s]"
      ]
     },
     "metadata": {},
     "output_type": "display_data"
    },
    {
     "data": {
      "application/vnd.jupyter.widget-view+json": {
       "model_id": "de95925f690d4a6db570169989b10a97",
       "version_major": 2,
       "version_minor": 0
      },
      "text/plain": [
       "  0%|          | 0/2 [00:00<?, ?it/s]"
      ]
     },
     "metadata": {},
     "output_type": "display_data"
    },
    {
     "data": {
      "application/vnd.jupyter.widget-view+json": {
       "model_id": "e8cfc129ea9b425a99c913cfb670c118",
       "version_major": 2,
       "version_minor": 0
      },
      "text/plain": [
       "  0%|          | 0/2 [00:00<?, ?it/s]"
      ]
     },
     "metadata": {},
     "output_type": "display_data"
    },
    {
     "data": {
      "application/vnd.jupyter.widget-view+json": {
       "model_id": "60a36949e5554553a446ff024f624121",
       "version_major": 2,
       "version_minor": 0
      },
      "text/plain": [
       "  0%|          | 0/2 [00:00<?, ?it/s]"
      ]
     },
     "metadata": {},
     "output_type": "display_data"
    },
    {
     "data": {
      "application/vnd.jupyter.widget-view+json": {
       "model_id": "edb2acd7d29240ba9d4da5964b4c698f",
       "version_major": 2,
       "version_minor": 0
      },
      "text/plain": [
       "  0%|          | 0/2 [00:00<?, ?it/s]"
      ]
     },
     "metadata": {},
     "output_type": "display_data"
    },
    {
     "data": {
      "application/vnd.jupyter.widget-view+json": {
       "model_id": "fefaebde63f846a1b8d988c2bed87741",
       "version_major": 2,
       "version_minor": 0
      },
      "text/plain": [
       "  0%|          | 0/2 [00:00<?, ?it/s]"
      ]
     },
     "metadata": {},
     "output_type": "display_data"
    },
    {
     "data": {
      "application/vnd.jupyter.widget-view+json": {
       "model_id": "00ee534877ae4e08ae1922261fce26ec",
       "version_major": 2,
       "version_minor": 0
      },
      "text/plain": [
       "  0%|          | 0/2 [00:00<?, ?it/s]"
      ]
     },
     "metadata": {},
     "output_type": "display_data"
    },
    {
     "data": {
      "application/vnd.jupyter.widget-view+json": {
       "model_id": "6b98d893bece49a1a98ea19783d425c7",
       "version_major": 2,
       "version_minor": 0
      },
      "text/plain": [
       "  0%|          | 0/2 [00:00<?, ?it/s]"
      ]
     },
     "metadata": {},
     "output_type": "display_data"
    },
    {
     "data": {
      "application/vnd.jupyter.widget-view+json": {
       "model_id": "fa3da3e98a9b4b8f8b5af23a12754d45",
       "version_major": 2,
       "version_minor": 0
      },
      "text/plain": [
       "  0%|          | 0/2 [00:00<?, ?it/s]"
      ]
     },
     "metadata": {},
     "output_type": "display_data"
    },
    {
     "data": {
      "application/vnd.jupyter.widget-view+json": {
       "model_id": "226d8500b5fa4576aee6bdc26a8c4c6f",
       "version_major": 2,
       "version_minor": 0
      },
      "text/plain": [
       "  0%|          | 0/2 [00:00<?, ?it/s]"
      ]
     },
     "metadata": {},
     "output_type": "display_data"
    },
    {
     "data": {
      "application/vnd.jupyter.widget-view+json": {
       "model_id": "eb9476c7cd65403e9aea84430931a05b",
       "version_major": 2,
       "version_minor": 0
      },
      "text/plain": [
       "  0%|          | 0/2 [00:00<?, ?it/s]"
      ]
     },
     "metadata": {},
     "output_type": "display_data"
    },
    {
     "data": {
      "application/vnd.jupyter.widget-view+json": {
       "model_id": "e44381d7d499474199b78593b4dee364",
       "version_major": 2,
       "version_minor": 0
      },
      "text/plain": [
       "  0%|          | 0/2 [00:00<?, ?it/s]"
      ]
     },
     "metadata": {},
     "output_type": "display_data"
    },
    {
     "data": {
      "application/vnd.jupyter.widget-view+json": {
       "model_id": "ee72a94f0cfd4108907906d0207147d4",
       "version_major": 2,
       "version_minor": 0
      },
      "text/plain": [
       "  0%|          | 0/2 [00:00<?, ?it/s]"
      ]
     },
     "metadata": {},
     "output_type": "display_data"
    },
    {
     "data": {
      "application/vnd.jupyter.widget-view+json": {
       "model_id": "e8e153782c5f4ebb9acaac68643a3770",
       "version_major": 2,
       "version_minor": 0
      },
      "text/plain": [
       "  0%|          | 0/2 [00:00<?, ?it/s]"
      ]
     },
     "metadata": {},
     "output_type": "display_data"
    },
    {
     "data": {
      "application/vnd.jupyter.widget-view+json": {
       "model_id": "aae303404af843dbb9925338dfd18b1f",
       "version_major": 2,
       "version_minor": 0
      },
      "text/plain": [
       "  0%|          | 0/2 [00:00<?, ?it/s]"
      ]
     },
     "metadata": {},
     "output_type": "display_data"
    },
    {
     "data": {
      "application/vnd.jupyter.widget-view+json": {
       "model_id": "16375c023fe2422cad6630b0888bd404",
       "version_major": 2,
       "version_minor": 0
      },
      "text/plain": [
       "  0%|          | 0/2 [00:00<?, ?it/s]"
      ]
     },
     "metadata": {},
     "output_type": "display_data"
    },
    {
     "data": {
      "application/vnd.jupyter.widget-view+json": {
       "model_id": "e579be8a7a2a429098a7128f1f40d13c",
       "version_major": 2,
       "version_minor": 0
      },
      "text/plain": [
       "  0%|          | 0/2 [00:00<?, ?it/s]"
      ]
     },
     "metadata": {},
     "output_type": "display_data"
    },
    {
     "data": {
      "application/vnd.jupyter.widget-view+json": {
       "model_id": "fcf2634225774053a5466fb6cbabc70f",
       "version_major": 2,
       "version_minor": 0
      },
      "text/plain": [
       "  0%|          | 0/2 [00:00<?, ?it/s]"
      ]
     },
     "metadata": {},
     "output_type": "display_data"
    },
    {
     "data": {
      "application/vnd.jupyter.widget-view+json": {
       "model_id": "86c36c77f4254afa9b0abc6b1478911f",
       "version_major": 2,
       "version_minor": 0
      },
      "text/plain": [
       "  0%|          | 0/2 [00:00<?, ?it/s]"
      ]
     },
     "metadata": {},
     "output_type": "display_data"
    },
    {
     "data": {
      "application/vnd.jupyter.widget-view+json": {
       "model_id": "f1e10f7478a64857a3a2ae4dd0b3f165",
       "version_major": 2,
       "version_minor": 0
      },
      "text/plain": [
       "  0%|          | 0/2 [00:00<?, ?it/s]"
      ]
     },
     "metadata": {},
     "output_type": "display_data"
    },
    {
     "data": {
      "application/vnd.jupyter.widget-view+json": {
       "model_id": "8228ec09a14d419cb02efa73c0d02286",
       "version_major": 2,
       "version_minor": 0
      },
      "text/plain": [
       "  0%|          | 0/2 [00:00<?, ?it/s]"
      ]
     },
     "metadata": {},
     "output_type": "display_data"
    },
    {
     "data": {
      "application/vnd.jupyter.widget-view+json": {
       "model_id": "f53b2bc06e0249e0a07df3530363dc42",
       "version_major": 2,
       "version_minor": 0
      },
      "text/plain": [
       "  0%|          | 0/2 [00:00<?, ?it/s]"
      ]
     },
     "metadata": {},
     "output_type": "display_data"
    },
    {
     "data": {
      "application/vnd.jupyter.widget-view+json": {
       "model_id": "460926c6fa4642e18b3601df15a80656",
       "version_major": 2,
       "version_minor": 0
      },
      "text/plain": [
       "  0%|          | 0/2 [00:00<?, ?it/s]"
      ]
     },
     "metadata": {},
     "output_type": "display_data"
    },
    {
     "data": {
      "application/vnd.jupyter.widget-view+json": {
       "model_id": "9d8f9814440c44459129b36dd745896b",
       "version_major": 2,
       "version_minor": 0
      },
      "text/plain": [
       "  0%|          | 0/2 [00:00<?, ?it/s]"
      ]
     },
     "metadata": {},
     "output_type": "display_data"
    },
    {
     "data": {
      "application/vnd.jupyter.widget-view+json": {
       "model_id": "f9d0ea48193043f58f082d979bb62f21",
       "version_major": 2,
       "version_minor": 0
      },
      "text/plain": [
       "  0%|          | 0/2 [00:00<?, ?it/s]"
      ]
     },
     "metadata": {},
     "output_type": "display_data"
    },
    {
     "data": {
      "application/vnd.jupyter.widget-view+json": {
       "model_id": "b60238ba1c244b348d657f618ef29638",
       "version_major": 2,
       "version_minor": 0
      },
      "text/plain": [
       "  0%|          | 0/2 [00:00<?, ?it/s]"
      ]
     },
     "metadata": {},
     "output_type": "display_data"
    },
    {
     "data": {
      "application/vnd.jupyter.widget-view+json": {
       "model_id": "d0abc1350baa49daaa0bdfd90fda1e47",
       "version_major": 2,
       "version_minor": 0
      },
      "text/plain": [
       "  0%|          | 0/2 [00:00<?, ?it/s]"
      ]
     },
     "metadata": {},
     "output_type": "display_data"
    },
    {
     "data": {
      "application/vnd.jupyter.widget-view+json": {
       "model_id": "aec0897425634f8bbd620003ae3c6d58",
       "version_major": 2,
       "version_minor": 0
      },
      "text/plain": [
       "  0%|          | 0/2 [00:00<?, ?it/s]"
      ]
     },
     "metadata": {},
     "output_type": "display_data"
    },
    {
     "data": {
      "application/vnd.jupyter.widget-view+json": {
       "model_id": "9926b38c0d8c437487c76ec0c2323126",
       "version_major": 2,
       "version_minor": 0
      },
      "text/plain": [
       "  0%|          | 0/2 [00:00<?, ?it/s]"
      ]
     },
     "metadata": {},
     "output_type": "display_data"
    },
    {
     "data": {
      "application/vnd.jupyter.widget-view+json": {
       "model_id": "0fc502aaf9e5429fa094a01c8a5b2ef1",
       "version_major": 2,
       "version_minor": 0
      },
      "text/plain": [
       "  0%|          | 0/2 [00:00<?, ?it/s]"
      ]
     },
     "metadata": {},
     "output_type": "display_data"
    },
    {
     "data": {
      "application/vnd.jupyter.widget-view+json": {
       "model_id": "d859d0f28e2844a3985e5e7dce6c92cb",
       "version_major": 2,
       "version_minor": 0
      },
      "text/plain": [
       "  0%|          | 0/2 [00:00<?, ?it/s]"
      ]
     },
     "metadata": {},
     "output_type": "display_data"
    },
    {
     "data": {
      "application/vnd.jupyter.widget-view+json": {
       "model_id": "acf5344544f04d44ad87b105ecd5929b",
       "version_major": 2,
       "version_minor": 0
      },
      "text/plain": [
       "  0%|          | 0/2 [00:00<?, ?it/s]"
      ]
     },
     "metadata": {},
     "output_type": "display_data"
    },
    {
     "data": {
      "application/vnd.jupyter.widget-view+json": {
       "model_id": "2a28267f3d5141c08b92938d4c67d3a0",
       "version_major": 2,
       "version_minor": 0
      },
      "text/plain": [
       "  0%|          | 0/2 [00:00<?, ?it/s]"
      ]
     },
     "metadata": {},
     "output_type": "display_data"
    },
    {
     "data": {
      "application/vnd.jupyter.widget-view+json": {
       "model_id": "49ef4426a0d04cb3a940b0f71af18738",
       "version_major": 2,
       "version_minor": 0
      },
      "text/plain": [
       "  0%|          | 0/2 [00:00<?, ?it/s]"
      ]
     },
     "metadata": {},
     "output_type": "display_data"
    },
    {
     "data": {
      "application/vnd.jupyter.widget-view+json": {
       "model_id": "bdb827ff95f54c3fbedc3489bc99c3cc",
       "version_major": 2,
       "version_minor": 0
      },
      "text/plain": [
       "  0%|          | 0/2 [00:00<?, ?it/s]"
      ]
     },
     "metadata": {},
     "output_type": "display_data"
    },
    {
     "data": {
      "application/vnd.jupyter.widget-view+json": {
       "model_id": "34b6130d8ec040e8b73fa0933dc7d941",
       "version_major": 2,
       "version_minor": 0
      },
      "text/plain": [
       "  0%|          | 0/2 [00:00<?, ?it/s]"
      ]
     },
     "metadata": {},
     "output_type": "display_data"
    },
    {
     "data": {
      "application/vnd.jupyter.widget-view+json": {
       "model_id": "a6384d4cf9874bfb902523bff58388da",
       "version_major": 2,
       "version_minor": 0
      },
      "text/plain": [
       "  0%|          | 0/2 [00:00<?, ?it/s]"
      ]
     },
     "metadata": {},
     "output_type": "display_data"
    },
    {
     "data": {
      "application/vnd.jupyter.widget-view+json": {
       "model_id": "f328a43e450d4e73ba853555b1da24d2",
       "version_major": 2,
       "version_minor": 0
      },
      "text/plain": [
       "  0%|          | 0/2 [00:00<?, ?it/s]"
      ]
     },
     "metadata": {},
     "output_type": "display_data"
    },
    {
     "data": {
      "application/vnd.jupyter.widget-view+json": {
       "model_id": "e16021ebd7bf46c6981cd2132a699379",
       "version_major": 2,
       "version_minor": 0
      },
      "text/plain": [
       "  0%|          | 0/2 [00:00<?, ?it/s]"
      ]
     },
     "metadata": {},
     "output_type": "display_data"
    },
    {
     "data": {
      "application/vnd.jupyter.widget-view+json": {
       "model_id": "e32d61b2451c41a7b3e6bdba903c0608",
       "version_major": 2,
       "version_minor": 0
      },
      "text/plain": [
       "  0%|          | 0/2 [00:00<?, ?it/s]"
      ]
     },
     "metadata": {},
     "output_type": "display_data"
    },
    {
     "data": {
      "application/vnd.jupyter.widget-view+json": {
       "model_id": "8b107fba148747fd8c2cc8e78375d889",
       "version_major": 2,
       "version_minor": 0
      },
      "text/plain": [
       "  0%|          | 0/2 [00:00<?, ?it/s]"
      ]
     },
     "metadata": {},
     "output_type": "display_data"
    },
    {
     "data": {
      "application/vnd.jupyter.widget-view+json": {
       "model_id": "5668e22ddcb340ad808fb69c712592e6",
       "version_major": 2,
       "version_minor": 0
      },
      "text/plain": [
       "  0%|          | 0/2 [00:00<?, ?it/s]"
      ]
     },
     "metadata": {},
     "output_type": "display_data"
    },
    {
     "data": {
      "application/vnd.jupyter.widget-view+json": {
       "model_id": "9cfb18186ee845368a1cb3b8a9250f2c",
       "version_major": 2,
       "version_minor": 0
      },
      "text/plain": [
       "  0%|          | 0/2 [00:00<?, ?it/s]"
      ]
     },
     "metadata": {},
     "output_type": "display_data"
    },
    {
     "data": {
      "application/vnd.jupyter.widget-view+json": {
       "model_id": "4b87b202df1f4736afaaea800c8e4e93",
       "version_major": 2,
       "version_minor": 0
      },
      "text/plain": [
       "  0%|          | 0/2 [00:00<?, ?it/s]"
      ]
     },
     "metadata": {},
     "output_type": "display_data"
    },
    {
     "data": {
      "application/vnd.jupyter.widget-view+json": {
       "model_id": "dfefc787d1b54bd4837820bcc18e8dfa",
       "version_major": 2,
       "version_minor": 0
      },
      "text/plain": [
       "  0%|          | 0/2 [00:00<?, ?it/s]"
      ]
     },
     "metadata": {},
     "output_type": "display_data"
    },
    {
     "data": {
      "application/vnd.jupyter.widget-view+json": {
       "model_id": "c04293013baf47d5a127da3e6d23e2cc",
       "version_major": 2,
       "version_minor": 0
      },
      "text/plain": [
       "  0%|          | 0/2 [00:00<?, ?it/s]"
      ]
     },
     "metadata": {},
     "output_type": "display_data"
    },
    {
     "data": {
      "application/vnd.jupyter.widget-view+json": {
       "model_id": "58b062ff0ecd4253ab291d6976bc6d5c",
       "version_major": 2,
       "version_minor": 0
      },
      "text/plain": [
       "  0%|          | 0/2 [00:00<?, ?it/s]"
      ]
     },
     "metadata": {},
     "output_type": "display_data"
    },
    {
     "data": {
      "application/vnd.jupyter.widget-view+json": {
       "model_id": "ff49c9de3d2246bcb98accc4f4e8d8f8",
       "version_major": 2,
       "version_minor": 0
      },
      "text/plain": [
       "  0%|          | 0/2 [00:00<?, ?it/s]"
      ]
     },
     "metadata": {},
     "output_type": "display_data"
    },
    {
     "data": {
      "application/vnd.jupyter.widget-view+json": {
       "model_id": "38009c6aece14e0991c8549b5f5909c7",
       "version_major": 2,
       "version_minor": 0
      },
      "text/plain": [
       "  0%|          | 0/2 [00:00<?, ?it/s]"
      ]
     },
     "metadata": {},
     "output_type": "display_data"
    },
    {
     "data": {
      "application/vnd.jupyter.widget-view+json": {
       "model_id": "66a12a9b42284ab7ac7813b3984c5ba5",
       "version_major": 2,
       "version_minor": 0
      },
      "text/plain": [
       "  0%|          | 0/2 [00:00<?, ?it/s]"
      ]
     },
     "metadata": {},
     "output_type": "display_data"
    },
    {
     "data": {
      "application/vnd.jupyter.widget-view+json": {
       "model_id": "c21c770a6c1f4fed942a9d22a6a853da",
       "version_major": 2,
       "version_minor": 0
      },
      "text/plain": [
       "  0%|          | 0/2 [00:00<?, ?it/s]"
      ]
     },
     "metadata": {},
     "output_type": "display_data"
    },
    {
     "data": {
      "application/vnd.jupyter.widget-view+json": {
       "model_id": "398c27595eb84064809fc5c0e0410c2a",
       "version_major": 2,
       "version_minor": 0
      },
      "text/plain": [
       "  0%|          | 0/2 [00:00<?, ?it/s]"
      ]
     },
     "metadata": {},
     "output_type": "display_data"
    },
    {
     "data": {
      "application/vnd.jupyter.widget-view+json": {
       "model_id": "26bdd1e61dca47c2bd3be643edf0e97c",
       "version_major": 2,
       "version_minor": 0
      },
      "text/plain": [
       "  0%|          | 0/2 [00:00<?, ?it/s]"
      ]
     },
     "metadata": {},
     "output_type": "display_data"
    },
    {
     "data": {
      "application/vnd.jupyter.widget-view+json": {
       "model_id": "ff6235b583ad499287c3b5d5455e3142",
       "version_major": 2,
       "version_minor": 0
      },
      "text/plain": [
       "  0%|          | 0/2 [00:00<?, ?it/s]"
      ]
     },
     "metadata": {},
     "output_type": "display_data"
    },
    {
     "data": {
      "application/vnd.jupyter.widget-view+json": {
       "model_id": "e85b83b585be45e6b44c893232a2ca47",
       "version_major": 2,
       "version_minor": 0
      },
      "text/plain": [
       "  0%|          | 0/2 [00:00<?, ?it/s]"
      ]
     },
     "metadata": {},
     "output_type": "display_data"
    },
    {
     "data": {
      "application/vnd.jupyter.widget-view+json": {
       "model_id": "eaee8c58876a4e6e9f058a16a3ae8a94",
       "version_major": 2,
       "version_minor": 0
      },
      "text/plain": [
       "  0%|          | 0/2 [00:00<?, ?it/s]"
      ]
     },
     "metadata": {},
     "output_type": "display_data"
    },
    {
     "data": {
      "application/vnd.jupyter.widget-view+json": {
       "model_id": "13c70191b05f4b62936ee71b762b0327",
       "version_major": 2,
       "version_minor": 0
      },
      "text/plain": [
       "  0%|          | 0/2 [00:00<?, ?it/s]"
      ]
     },
     "metadata": {},
     "output_type": "display_data"
    },
    {
     "data": {
      "application/vnd.jupyter.widget-view+json": {
       "model_id": "84d24f3d91484890b9b9328c8e99e280",
       "version_major": 2,
       "version_minor": 0
      },
      "text/plain": [
       "  0%|          | 0/2 [00:00<?, ?it/s]"
      ]
     },
     "metadata": {},
     "output_type": "display_data"
    },
    {
     "data": {
      "application/vnd.jupyter.widget-view+json": {
       "model_id": "2e5a7a2c742c405c9fce18ace64f412b",
       "version_major": 2,
       "version_minor": 0
      },
      "text/plain": [
       "  0%|          | 0/2 [00:00<?, ?it/s]"
      ]
     },
     "metadata": {},
     "output_type": "display_data"
    },
    {
     "data": {
      "application/vnd.jupyter.widget-view+json": {
       "model_id": "62e8ea5ddb1d4593823050fc1d46e100",
       "version_major": 2,
       "version_minor": 0
      },
      "text/plain": [
       "  0%|          | 0/2 [00:00<?, ?it/s]"
      ]
     },
     "metadata": {},
     "output_type": "display_data"
    },
    {
     "data": {
      "application/vnd.jupyter.widget-view+json": {
       "model_id": "890902025d024cb7ba3eae585e656013",
       "version_major": 2,
       "version_minor": 0
      },
      "text/plain": [
       "  0%|          | 0/2 [00:00<?, ?it/s]"
      ]
     },
     "metadata": {},
     "output_type": "display_data"
    },
    {
     "data": {
      "application/vnd.jupyter.widget-view+json": {
       "model_id": "a79967b1fa514a828644dac5264f64cd",
       "version_major": 2,
       "version_minor": 0
      },
      "text/plain": [
       "  0%|          | 0/2 [00:00<?, ?it/s]"
      ]
     },
     "metadata": {},
     "output_type": "display_data"
    },
    {
     "data": {
      "application/vnd.jupyter.widget-view+json": {
       "model_id": "ee4a275843d842debc6416e01bebc9c2",
       "version_major": 2,
       "version_minor": 0
      },
      "text/plain": [
       "  0%|          | 0/2 [00:00<?, ?it/s]"
      ]
     },
     "metadata": {},
     "output_type": "display_data"
    },
    {
     "data": {
      "application/vnd.jupyter.widget-view+json": {
       "model_id": "888587de5dfa4999860d362399e82170",
       "version_major": 2,
       "version_minor": 0
      },
      "text/plain": [
       "  0%|          | 0/2 [00:00<?, ?it/s]"
      ]
     },
     "metadata": {},
     "output_type": "display_data"
    },
    {
     "data": {
      "application/vnd.jupyter.widget-view+json": {
       "model_id": "3b69134a4f2242d1a059fd1e05ad6151",
       "version_major": 2,
       "version_minor": 0
      },
      "text/plain": [
       "  0%|          | 0/2 [00:00<?, ?it/s]"
      ]
     },
     "metadata": {},
     "output_type": "display_data"
    },
    {
     "data": {
      "application/vnd.jupyter.widget-view+json": {
       "model_id": "e782c3e49db6405f9dbf805282136401",
       "version_major": 2,
       "version_minor": 0
      },
      "text/plain": [
       "  0%|          | 0/2 [00:00<?, ?it/s]"
      ]
     },
     "metadata": {},
     "output_type": "display_data"
    },
    {
     "data": {
      "application/vnd.jupyter.widget-view+json": {
       "model_id": "89b513acabb94d55be5c01c8a9a4152f",
       "version_major": 2,
       "version_minor": 0
      },
      "text/plain": [
       "  0%|          | 0/2 [00:00<?, ?it/s]"
      ]
     },
     "metadata": {},
     "output_type": "display_data"
    },
    {
     "data": {
      "application/vnd.jupyter.widget-view+json": {
       "model_id": "561398b5961c4c619380278e52c2bd4e",
       "version_major": 2,
       "version_minor": 0
      },
      "text/plain": [
       "  0%|          | 0/2 [00:00<?, ?it/s]"
      ]
     },
     "metadata": {},
     "output_type": "display_data"
    },
    {
     "data": {
      "application/vnd.jupyter.widget-view+json": {
       "model_id": "028ac3593423497db2fe87533e14a061",
       "version_major": 2,
       "version_minor": 0
      },
      "text/plain": [
       "  0%|          | 0/2 [00:00<?, ?it/s]"
      ]
     },
     "metadata": {},
     "output_type": "display_data"
    },
    {
     "data": {
      "application/vnd.jupyter.widget-view+json": {
       "model_id": "5d4bb2a3fe3f42f48c0b4e33442bd973",
       "version_major": 2,
       "version_minor": 0
      },
      "text/plain": [
       "  0%|          | 0/2 [00:00<?, ?it/s]"
      ]
     },
     "metadata": {},
     "output_type": "display_data"
    },
    {
     "data": {
      "application/vnd.jupyter.widget-view+json": {
       "model_id": "cea7ae6cc9b74e57ad12a6c3ced38769",
       "version_major": 2,
       "version_minor": 0
      },
      "text/plain": [
       "  0%|          | 0/2 [00:00<?, ?it/s]"
      ]
     },
     "metadata": {},
     "output_type": "display_data"
    },
    {
     "data": {
      "application/vnd.jupyter.widget-view+json": {
       "model_id": "d62a6b3284a84694847155f9b29c4276",
       "version_major": 2,
       "version_minor": 0
      },
      "text/plain": [
       "  0%|          | 0/2 [00:00<?, ?it/s]"
      ]
     },
     "metadata": {},
     "output_type": "display_data"
    },
    {
     "data": {
      "application/vnd.jupyter.widget-view+json": {
       "model_id": "74701e6857324ee690470e0ac7076326",
       "version_major": 2,
       "version_minor": 0
      },
      "text/plain": [
       "  0%|          | 0/2 [00:00<?, ?it/s]"
      ]
     },
     "metadata": {},
     "output_type": "display_data"
    },
    {
     "data": {
      "application/vnd.jupyter.widget-view+json": {
       "model_id": "193a842d941c483f9487da592e57ee04",
       "version_major": 2,
       "version_minor": 0
      },
      "text/plain": [
       "  0%|          | 0/2 [00:00<?, ?it/s]"
      ]
     },
     "metadata": {},
     "output_type": "display_data"
    },
    {
     "data": {
      "application/vnd.jupyter.widget-view+json": {
       "model_id": "9cd08c9b97ad41b39ff0d4e377c6d020",
       "version_major": 2,
       "version_minor": 0
      },
      "text/plain": [
       "  0%|          | 0/2 [00:00<?, ?it/s]"
      ]
     },
     "metadata": {},
     "output_type": "display_data"
    },
    {
     "data": {
      "application/vnd.jupyter.widget-view+json": {
       "model_id": "962f354fa5a44d0e8973fea96c150e4c",
       "version_major": 2,
       "version_minor": 0
      },
      "text/plain": [
       "  0%|          | 0/2 [00:00<?, ?it/s]"
      ]
     },
     "metadata": {},
     "output_type": "display_data"
    },
    {
     "data": {
      "application/vnd.jupyter.widget-view+json": {
       "model_id": "d93ceb98ae1647f2aaf836eccb16c46b",
       "version_major": 2,
       "version_minor": 0
      },
      "text/plain": [
       "  0%|          | 0/2 [00:00<?, ?it/s]"
      ]
     },
     "metadata": {},
     "output_type": "display_data"
    },
    {
     "data": {
      "application/vnd.jupyter.widget-view+json": {
       "model_id": "2b9f405b2aa645f4b5b0ce15742cd9a0",
       "version_major": 2,
       "version_minor": 0
      },
      "text/plain": [
       "  0%|          | 0/2 [00:00<?, ?it/s]"
      ]
     },
     "metadata": {},
     "output_type": "display_data"
    },
    {
     "data": {
      "application/vnd.jupyter.widget-view+json": {
       "model_id": "e6f40d60ed14449cb48a240a38322eb5",
       "version_major": 2,
       "version_minor": 0
      },
      "text/plain": [
       "  0%|          | 0/2 [00:00<?, ?it/s]"
      ]
     },
     "metadata": {},
     "output_type": "display_data"
    },
    {
     "data": {
      "application/vnd.jupyter.widget-view+json": {
       "model_id": "daf2383142e4472a86f32c23892ec043",
       "version_major": 2,
       "version_minor": 0
      },
      "text/plain": [
       "  0%|          | 0/2 [00:00<?, ?it/s]"
      ]
     },
     "metadata": {},
     "output_type": "display_data"
    },
    {
     "data": {
      "application/vnd.jupyter.widget-view+json": {
       "model_id": "97a0d3c177ed4e5f9273c320b914ba80",
       "version_major": 2,
       "version_minor": 0
      },
      "text/plain": [
       "  0%|          | 0/2 [00:00<?, ?it/s]"
      ]
     },
     "metadata": {},
     "output_type": "display_data"
    },
    {
     "data": {
      "application/vnd.jupyter.widget-view+json": {
       "model_id": "6af6265fbae44839b36e930b08e4b27b",
       "version_major": 2,
       "version_minor": 0
      },
      "text/plain": [
       "  0%|          | 0/2 [00:00<?, ?it/s]"
      ]
     },
     "metadata": {},
     "output_type": "display_data"
    },
    {
     "data": {
      "application/vnd.jupyter.widget-view+json": {
       "model_id": "856a21dfee94431ea4ed234c2c523207",
       "version_major": 2,
       "version_minor": 0
      },
      "text/plain": [
       "  0%|          | 0/2 [00:00<?, ?it/s]"
      ]
     },
     "metadata": {},
     "output_type": "display_data"
    },
    {
     "data": {
      "application/vnd.jupyter.widget-view+json": {
       "model_id": "67ff1b1d8cba4a3a936932061a33b649",
       "version_major": 2,
       "version_minor": 0
      },
      "text/plain": [
       "  0%|          | 0/2 [00:00<?, ?it/s]"
      ]
     },
     "metadata": {},
     "output_type": "display_data"
    },
    {
     "data": {
      "application/vnd.jupyter.widget-view+json": {
       "model_id": "7520f244256b4265b35d3e38aa9f1cc2",
       "version_major": 2,
       "version_minor": 0
      },
      "text/plain": [
       "  0%|          | 0/2 [00:00<?, ?it/s]"
      ]
     },
     "metadata": {},
     "output_type": "display_data"
    },
    {
     "data": {
      "application/vnd.jupyter.widget-view+json": {
       "model_id": "f2cee369b7ec4bc4abf742f018f089ff",
       "version_major": 2,
       "version_minor": 0
      },
      "text/plain": [
       "  0%|          | 0/2 [00:00<?, ?it/s]"
      ]
     },
     "metadata": {},
     "output_type": "display_data"
    },
    {
     "data": {
      "application/vnd.jupyter.widget-view+json": {
       "model_id": "701a626865c3473ebbbdae431a1b4050",
       "version_major": 2,
       "version_minor": 0
      },
      "text/plain": [
       "  0%|          | 0/2 [00:00<?, ?it/s]"
      ]
     },
     "metadata": {},
     "output_type": "display_data"
    },
    {
     "data": {
      "application/vnd.jupyter.widget-view+json": {
       "model_id": "5408bc59c64246b1a8a5a46cfb3dfbc5",
       "version_major": 2,
       "version_minor": 0
      },
      "text/plain": [
       "  0%|          | 0/2 [00:00<?, ?it/s]"
      ]
     },
     "metadata": {},
     "output_type": "display_data"
    },
    {
     "data": {
      "application/vnd.jupyter.widget-view+json": {
       "model_id": "a4465bad00f844639ba2b510dfd85c1e",
       "version_major": 2,
       "version_minor": 0
      },
      "text/plain": [
       "  0%|          | 0/2 [00:00<?, ?it/s]"
      ]
     },
     "metadata": {},
     "output_type": "display_data"
    },
    {
     "data": {
      "application/vnd.jupyter.widget-view+json": {
       "model_id": "c49644154e174448bc0b324a8258838e",
       "version_major": 2,
       "version_minor": 0
      },
      "text/plain": [
       "  0%|          | 0/2 [00:00<?, ?it/s]"
      ]
     },
     "metadata": {},
     "output_type": "display_data"
    },
    {
     "data": {
      "application/vnd.jupyter.widget-view+json": {
       "model_id": "cad4152c9f274c74b043d32c899d4117",
       "version_major": 2,
       "version_minor": 0
      },
      "text/plain": [
       "  0%|          | 0/2 [00:00<?, ?it/s]"
      ]
     },
     "metadata": {},
     "output_type": "display_data"
    },
    {
     "data": {
      "application/vnd.jupyter.widget-view+json": {
       "model_id": "8d5f1a02b91645e899b3164d5b761c6e",
       "version_major": 2,
       "version_minor": 0
      },
      "text/plain": [
       "  0%|          | 0/2 [00:00<?, ?it/s]"
      ]
     },
     "metadata": {},
     "output_type": "display_data"
    },
    {
     "data": {
      "application/vnd.jupyter.widget-view+json": {
       "model_id": "e25b22600062489ca504691139b2b41b",
       "version_major": 2,
       "version_minor": 0
      },
      "text/plain": [
       "  0%|          | 0/2 [00:00<?, ?it/s]"
      ]
     },
     "metadata": {},
     "output_type": "display_data"
    },
    {
     "data": {
      "application/vnd.jupyter.widget-view+json": {
       "model_id": "39a6ef78eaa54082823b3162405f06cf",
       "version_major": 2,
       "version_minor": 0
      },
      "text/plain": [
       "  0%|          | 0/2 [00:00<?, ?it/s]"
      ]
     },
     "metadata": {},
     "output_type": "display_data"
    },
    {
     "data": {
      "application/vnd.jupyter.widget-view+json": {
       "model_id": "389916e966f949aeb3567daa81e4f462",
       "version_major": 2,
       "version_minor": 0
      },
      "text/plain": [
       "  0%|          | 0/2 [00:00<?, ?it/s]"
      ]
     },
     "metadata": {},
     "output_type": "display_data"
    },
    {
     "data": {
      "application/vnd.jupyter.widget-view+json": {
       "model_id": "40930c2d292046f096aee985f55b9078",
       "version_major": 2,
       "version_minor": 0
      },
      "text/plain": [
       "  0%|          | 0/2 [00:00<?, ?it/s]"
      ]
     },
     "metadata": {},
     "output_type": "display_data"
    },
    {
     "data": {
      "application/vnd.jupyter.widget-view+json": {
       "model_id": "9e490c0d932c4761b763ddc94cea63b5",
       "version_major": 2,
       "version_minor": 0
      },
      "text/plain": [
       "  0%|          | 0/2 [00:00<?, ?it/s]"
      ]
     },
     "metadata": {},
     "output_type": "display_data"
    },
    {
     "data": {
      "application/vnd.jupyter.widget-view+json": {
       "model_id": "f8b87db21b204dc18bf763893d6fc747",
       "version_major": 2,
       "version_minor": 0
      },
      "text/plain": [
       "  0%|          | 0/2 [00:00<?, ?it/s]"
      ]
     },
     "metadata": {},
     "output_type": "display_data"
    },
    {
     "data": {
      "application/vnd.jupyter.widget-view+json": {
       "model_id": "dcb5b90e9f3e4e55b298018f7c5c7bd8",
       "version_major": 2,
       "version_minor": 0
      },
      "text/plain": [
       "  0%|          | 0/2 [00:00<?, ?it/s]"
      ]
     },
     "metadata": {},
     "output_type": "display_data"
    },
    {
     "data": {
      "application/vnd.jupyter.widget-view+json": {
       "model_id": "81b31baf080c42a99f16b27a58f619db",
       "version_major": 2,
       "version_minor": 0
      },
      "text/plain": [
       "  0%|          | 0/2 [00:00<?, ?it/s]"
      ]
     },
     "metadata": {},
     "output_type": "display_data"
    },
    {
     "data": {
      "application/vnd.jupyter.widget-view+json": {
       "model_id": "41a6315f71d141fb8150ca6e965dfbea",
       "version_major": 2,
       "version_minor": 0
      },
      "text/plain": [
       "  0%|          | 0/2 [00:00<?, ?it/s]"
      ]
     },
     "metadata": {},
     "output_type": "display_data"
    },
    {
     "data": {
      "application/vnd.jupyter.widget-view+json": {
       "model_id": "c0cd372b68d6449f9defb791bc1fd658",
       "version_major": 2,
       "version_minor": 0
      },
      "text/plain": [
       "  0%|          | 0/2 [00:00<?, ?it/s]"
      ]
     },
     "metadata": {},
     "output_type": "display_data"
    },
    {
     "data": {
      "application/vnd.jupyter.widget-view+json": {
       "model_id": "8812e16348a84f818575cde85e7d33e8",
       "version_major": 2,
       "version_minor": 0
      },
      "text/plain": [
       "  0%|          | 0/2 [00:00<?, ?it/s]"
      ]
     },
     "metadata": {},
     "output_type": "display_data"
    },
    {
     "data": {
      "application/vnd.jupyter.widget-view+json": {
       "model_id": "253291cb4b2b479a97458fdca1efbe30",
       "version_major": 2,
       "version_minor": 0
      },
      "text/plain": [
       "  0%|          | 0/2 [00:00<?, ?it/s]"
      ]
     },
     "metadata": {},
     "output_type": "display_data"
    },
    {
     "data": {
      "application/vnd.jupyter.widget-view+json": {
       "model_id": "baa7d8b599774755b17b295aaec26f0e",
       "version_major": 2,
       "version_minor": 0
      },
      "text/plain": [
       "  0%|          | 0/2 [00:00<?, ?it/s]"
      ]
     },
     "metadata": {},
     "output_type": "display_data"
    },
    {
     "data": {
      "application/vnd.jupyter.widget-view+json": {
       "model_id": "221ee8d219374ee09df31c82a260f477",
       "version_major": 2,
       "version_minor": 0
      },
      "text/plain": [
       "  0%|          | 0/2 [00:00<?, ?it/s]"
      ]
     },
     "metadata": {},
     "output_type": "display_data"
    },
    {
     "data": {
      "application/vnd.jupyter.widget-view+json": {
       "model_id": "0a140b6104af401594d9e6c629cd3d9a",
       "version_major": 2,
       "version_minor": 0
      },
      "text/plain": [
       "  0%|          | 0/2 [00:00<?, ?it/s]"
      ]
     },
     "metadata": {},
     "output_type": "display_data"
    },
    {
     "data": {
      "application/vnd.jupyter.widget-view+json": {
       "model_id": "7dce0c8ba4474779a0012990ef5ab0d1",
       "version_major": 2,
       "version_minor": 0
      },
      "text/plain": [
       "  0%|          | 0/2 [00:00<?, ?it/s]"
      ]
     },
     "metadata": {},
     "output_type": "display_data"
    },
    {
     "data": {
      "application/vnd.jupyter.widget-view+json": {
       "model_id": "d2cf41df21924a87932180dde889525a",
       "version_major": 2,
       "version_minor": 0
      },
      "text/plain": [
       "  0%|          | 0/2 [00:00<?, ?it/s]"
      ]
     },
     "metadata": {},
     "output_type": "display_data"
    },
    {
     "data": {
      "application/vnd.jupyter.widget-view+json": {
       "model_id": "44e05603eb2044edb6dc30f55e578a39",
       "version_major": 2,
       "version_minor": 0
      },
      "text/plain": [
       "  0%|          | 0/2 [00:00<?, ?it/s]"
      ]
     },
     "metadata": {},
     "output_type": "display_data"
    },
    {
     "data": {
      "application/vnd.jupyter.widget-view+json": {
       "model_id": "70c5e1691bfc4c4688bd6ea4c7c3079c",
       "version_major": 2,
       "version_minor": 0
      },
      "text/plain": [
       "  0%|          | 0/2 [00:00<?, ?it/s]"
      ]
     },
     "metadata": {},
     "output_type": "display_data"
    },
    {
     "data": {
      "application/vnd.jupyter.widget-view+json": {
       "model_id": "e395fe652055494d8dc42b53025ce18f",
       "version_major": 2,
       "version_minor": 0
      },
      "text/plain": [
       "  0%|          | 0/2 [00:00<?, ?it/s]"
      ]
     },
     "metadata": {},
     "output_type": "display_data"
    },
    {
     "data": {
      "application/vnd.jupyter.widget-view+json": {
       "model_id": "638b30bfd62f47f18b47d8c6d9cb40a3",
       "version_major": 2,
       "version_minor": 0
      },
      "text/plain": [
       "  0%|          | 0/2 [00:00<?, ?it/s]"
      ]
     },
     "metadata": {},
     "output_type": "display_data"
    },
    {
     "data": {
      "application/vnd.jupyter.widget-view+json": {
       "model_id": "e756bf68c00b490e98451a244b0457e8",
       "version_major": 2,
       "version_minor": 0
      },
      "text/plain": [
       "  0%|          | 0/2 [00:00<?, ?it/s]"
      ]
     },
     "metadata": {},
     "output_type": "display_data"
    },
    {
     "data": {
      "application/vnd.jupyter.widget-view+json": {
       "model_id": "a84181c73dda47c6a68e4417f68451d2",
       "version_major": 2,
       "version_minor": 0
      },
      "text/plain": [
       "  0%|          | 0/2 [00:00<?, ?it/s]"
      ]
     },
     "metadata": {},
     "output_type": "display_data"
    },
    {
     "data": {
      "application/vnd.jupyter.widget-view+json": {
       "model_id": "8abb3e7bd6a841a685e09ad2b45dfa50",
       "version_major": 2,
       "version_minor": 0
      },
      "text/plain": [
       "  0%|          | 0/2 [00:00<?, ?it/s]"
      ]
     },
     "metadata": {},
     "output_type": "display_data"
    },
    {
     "data": {
      "application/vnd.jupyter.widget-view+json": {
       "model_id": "b6e224a869c14734be991a8b45ae1a59",
       "version_major": 2,
       "version_minor": 0
      },
      "text/plain": [
       "  0%|          | 0/2 [00:00<?, ?it/s]"
      ]
     },
     "metadata": {},
     "output_type": "display_data"
    },
    {
     "data": {
      "application/vnd.jupyter.widget-view+json": {
       "model_id": "9d083d6cb6554cf1824dac1507cb9878",
       "version_major": 2,
       "version_minor": 0
      },
      "text/plain": [
       "  0%|          | 0/2 [00:00<?, ?it/s]"
      ]
     },
     "metadata": {},
     "output_type": "display_data"
    },
    {
     "data": {
      "application/vnd.jupyter.widget-view+json": {
       "model_id": "1aa735172d7d4e77b236f9501cb7dd26",
       "version_major": 2,
       "version_minor": 0
      },
      "text/plain": [
       "  0%|          | 0/2 [00:00<?, ?it/s]"
      ]
     },
     "metadata": {},
     "output_type": "display_data"
    },
    {
     "data": {
      "application/vnd.jupyter.widget-view+json": {
       "model_id": "d1b729bee68a446681c5feed66745390",
       "version_major": 2,
       "version_minor": 0
      },
      "text/plain": [
       "  0%|          | 0/2 [00:00<?, ?it/s]"
      ]
     },
     "metadata": {},
     "output_type": "display_data"
    },
    {
     "data": {
      "application/vnd.jupyter.widget-view+json": {
       "model_id": "9dcf4fb66d154d48aac6f147d900ed4c",
       "version_major": 2,
       "version_minor": 0
      },
      "text/plain": [
       "  0%|          | 0/2 [00:00<?, ?it/s]"
      ]
     },
     "metadata": {},
     "output_type": "display_data"
    },
    {
     "data": {
      "application/vnd.jupyter.widget-view+json": {
       "model_id": "ca153c2428df4d898ef2c375d30e67c9",
       "version_major": 2,
       "version_minor": 0
      },
      "text/plain": [
       "  0%|          | 0/2 [00:00<?, ?it/s]"
      ]
     },
     "metadata": {},
     "output_type": "display_data"
    },
    {
     "data": {
      "application/vnd.jupyter.widget-view+json": {
       "model_id": "84cee5f113d54c55b24ce283ac2b233e",
       "version_major": 2,
       "version_minor": 0
      },
      "text/plain": [
       "  0%|          | 0/2 [00:00<?, ?it/s]"
      ]
     },
     "metadata": {},
     "output_type": "display_data"
    },
    {
     "data": {
      "application/vnd.jupyter.widget-view+json": {
       "model_id": "a830fca2c6b1473eabba240d88a88d7b",
       "version_major": 2,
       "version_minor": 0
      },
      "text/plain": [
       "  0%|          | 0/2 [00:00<?, ?it/s]"
      ]
     },
     "metadata": {},
     "output_type": "display_data"
    },
    {
     "data": {
      "application/vnd.jupyter.widget-view+json": {
       "model_id": "453d733be96348f4851373b6fcad88d0",
       "version_major": 2,
       "version_minor": 0
      },
      "text/plain": [
       "  0%|          | 0/2 [00:00<?, ?it/s]"
      ]
     },
     "metadata": {},
     "output_type": "display_data"
    },
    {
     "data": {
      "application/vnd.jupyter.widget-view+json": {
       "model_id": "b1acabc28e384f8aa15ebba731ef9bef",
       "version_major": 2,
       "version_minor": 0
      },
      "text/plain": [
       "  0%|          | 0/2 [00:00<?, ?it/s]"
      ]
     },
     "metadata": {},
     "output_type": "display_data"
    },
    {
     "data": {
      "application/vnd.jupyter.widget-view+json": {
       "model_id": "c99ffc789c1e4b29ab5b3b4d17f196f4",
       "version_major": 2,
       "version_minor": 0
      },
      "text/plain": [
       "  0%|          | 0/2 [00:00<?, ?it/s]"
      ]
     },
     "metadata": {},
     "output_type": "display_data"
    },
    {
     "data": {
      "application/vnd.jupyter.widget-view+json": {
       "model_id": "cf804fd4cdbb4845b4c314356c1f38d1",
       "version_major": 2,
       "version_minor": 0
      },
      "text/plain": [
       "  0%|          | 0/2 [00:00<?, ?it/s]"
      ]
     },
     "metadata": {},
     "output_type": "display_data"
    },
    {
     "data": {
      "application/vnd.jupyter.widget-view+json": {
       "model_id": "bb8145220458477dbbfec001b6702ff3",
       "version_major": 2,
       "version_minor": 0
      },
      "text/plain": [
       "  0%|          | 0/2 [00:00<?, ?it/s]"
      ]
     },
     "metadata": {},
     "output_type": "display_data"
    },
    {
     "data": {
      "application/vnd.jupyter.widget-view+json": {
       "model_id": "0de74b78fbf94b8bab2d2a9266897634",
       "version_major": 2,
       "version_minor": 0
      },
      "text/plain": [
       "  0%|          | 0/2 [00:00<?, ?it/s]"
      ]
     },
     "metadata": {},
     "output_type": "display_data"
    },
    {
     "data": {
      "application/vnd.jupyter.widget-view+json": {
       "model_id": "64f8e586be80466bbaf5b5a4d418a2ce",
       "version_major": 2,
       "version_minor": 0
      },
      "text/plain": [
       "  0%|          | 0/2 [00:00<?, ?it/s]"
      ]
     },
     "metadata": {},
     "output_type": "display_data"
    },
    {
     "data": {
      "application/vnd.jupyter.widget-view+json": {
       "model_id": "89f60b56c4324f0f9f9da4f9be9775ae",
       "version_major": 2,
       "version_minor": 0
      },
      "text/plain": [
       "  0%|          | 0/2 [00:00<?, ?it/s]"
      ]
     },
     "metadata": {},
     "output_type": "display_data"
    },
    {
     "data": {
      "application/vnd.jupyter.widget-view+json": {
       "model_id": "e3b07855ca8843e9ae0112479d507dff",
       "version_major": 2,
       "version_minor": 0
      },
      "text/plain": [
       "  0%|          | 0/2 [00:00<?, ?it/s]"
      ]
     },
     "metadata": {},
     "output_type": "display_data"
    },
    {
     "data": {
      "application/vnd.jupyter.widget-view+json": {
       "model_id": "51e964ba3db14958b1213dfef2aecb3c",
       "version_major": 2,
       "version_minor": 0
      },
      "text/plain": [
       "  0%|          | 0/2 [00:00<?, ?it/s]"
      ]
     },
     "metadata": {},
     "output_type": "display_data"
    },
    {
     "data": {
      "application/vnd.jupyter.widget-view+json": {
       "model_id": "c727064ed3d7412db2e383c7dc7d5d92",
       "version_major": 2,
       "version_minor": 0
      },
      "text/plain": [
       "  0%|          | 0/2 [00:00<?, ?it/s]"
      ]
     },
     "metadata": {},
     "output_type": "display_data"
    },
    {
     "data": {
      "application/vnd.jupyter.widget-view+json": {
       "model_id": "bed97d22b0bf47688bf420b1bd705919",
       "version_major": 2,
       "version_minor": 0
      },
      "text/plain": [
       "  0%|          | 0/2 [00:00<?, ?it/s]"
      ]
     },
     "metadata": {},
     "output_type": "display_data"
    },
    {
     "data": {
      "application/vnd.jupyter.widget-view+json": {
       "model_id": "ace18307d7154cbda67f5579f460eb23",
       "version_major": 2,
       "version_minor": 0
      },
      "text/plain": [
       "  0%|          | 0/2 [00:00<?, ?it/s]"
      ]
     },
     "metadata": {},
     "output_type": "display_data"
    },
    {
     "data": {
      "application/vnd.jupyter.widget-view+json": {
       "model_id": "94c8e84483bc4c4899e350ba5e4725cb",
       "version_major": 2,
       "version_minor": 0
      },
      "text/plain": [
       "  0%|          | 0/2 [00:00<?, ?it/s]"
      ]
     },
     "metadata": {},
     "output_type": "display_data"
    },
    {
     "data": {
      "application/vnd.jupyter.widget-view+json": {
       "model_id": "c168dffa0e4e4e259763634a14b63c9c",
       "version_major": 2,
       "version_minor": 0
      },
      "text/plain": [
       "  0%|          | 0/2 [00:00<?, ?it/s]"
      ]
     },
     "metadata": {},
     "output_type": "display_data"
    },
    {
     "data": {
      "application/vnd.jupyter.widget-view+json": {
       "model_id": "15b8ed03859a40b5b2466d291632945d",
       "version_major": 2,
       "version_minor": 0
      },
      "text/plain": [
       "  0%|          | 0/2 [00:00<?, ?it/s]"
      ]
     },
     "metadata": {},
     "output_type": "display_data"
    },
    {
     "data": {
      "application/vnd.jupyter.widget-view+json": {
       "model_id": "dc96dca484874b769b37e5feb096b96f",
       "version_major": 2,
       "version_minor": 0
      },
      "text/plain": [
       "  0%|          | 0/2 [00:00<?, ?it/s]"
      ]
     },
     "metadata": {},
     "output_type": "display_data"
    },
    {
     "data": {
      "application/vnd.jupyter.widget-view+json": {
       "model_id": "dc750b1b28e74127896b20e079aa5fc8",
       "version_major": 2,
       "version_minor": 0
      },
      "text/plain": [
       "  0%|          | 0/2 [00:00<?, ?it/s]"
      ]
     },
     "metadata": {},
     "output_type": "display_data"
    },
    {
     "data": {
      "application/vnd.jupyter.widget-view+json": {
       "model_id": "4f1f5c55c5f14c4e91a4dbbd6c41b05e",
       "version_major": 2,
       "version_minor": 0
      },
      "text/plain": [
       "  0%|          | 0/2 [00:00<?, ?it/s]"
      ]
     },
     "metadata": {},
     "output_type": "display_data"
    },
    {
     "data": {
      "application/vnd.jupyter.widget-view+json": {
       "model_id": "c598c02a0cb14754909141c4f9e00133",
       "version_major": 2,
       "version_minor": 0
      },
      "text/plain": [
       "  0%|          | 0/2 [00:00<?, ?it/s]"
      ]
     },
     "metadata": {},
     "output_type": "display_data"
    },
    {
     "data": {
      "application/vnd.jupyter.widget-view+json": {
       "model_id": "87b1c519c52b4337872b96b527770112",
       "version_major": 2,
       "version_minor": 0
      },
      "text/plain": [
       "  0%|          | 0/2 [00:00<?, ?it/s]"
      ]
     },
     "metadata": {},
     "output_type": "display_data"
    },
    {
     "data": {
      "application/vnd.jupyter.widget-view+json": {
       "model_id": "8cd3cbd401df4618b9091566b5eb9cfa",
       "version_major": 2,
       "version_minor": 0
      },
      "text/plain": [
       "  0%|          | 0/2 [00:00<?, ?it/s]"
      ]
     },
     "metadata": {},
     "output_type": "display_data"
    },
    {
     "data": {
      "application/vnd.jupyter.widget-view+json": {
       "model_id": "4519eb9f56e645b58d792ce221225e58",
       "version_major": 2,
       "version_minor": 0
      },
      "text/plain": [
       "  0%|          | 0/2 [00:00<?, ?it/s]"
      ]
     },
     "metadata": {},
     "output_type": "display_data"
    },
    {
     "data": {
      "application/vnd.jupyter.widget-view+json": {
       "model_id": "0e6798ab33ce43f3b7dcbb65a4e32a1a",
       "version_major": 2,
       "version_minor": 0
      },
      "text/plain": [
       "  0%|          | 0/2 [00:00<?, ?it/s]"
      ]
     },
     "metadata": {},
     "output_type": "display_data"
    },
    {
     "data": {
      "application/vnd.jupyter.widget-view+json": {
       "model_id": "0ee007d1f18641c98f06b13a1cd75bbe",
       "version_major": 2,
       "version_minor": 0
      },
      "text/plain": [
       "  0%|          | 0/2 [00:00<?, ?it/s]"
      ]
     },
     "metadata": {},
     "output_type": "display_data"
    },
    {
     "data": {
      "application/vnd.jupyter.widget-view+json": {
       "model_id": "deafb8dc2b024e91bafad5a5e448c5f7",
       "version_major": 2,
       "version_minor": 0
      },
      "text/plain": [
       "  0%|          | 0/2 [00:00<?, ?it/s]"
      ]
     },
     "metadata": {},
     "output_type": "display_data"
    },
    {
     "data": {
      "application/vnd.jupyter.widget-view+json": {
       "model_id": "ae097688e3bc4177826dfba24e786e9f",
       "version_major": 2,
       "version_minor": 0
      },
      "text/plain": [
       "  0%|          | 0/2 [00:00<?, ?it/s]"
      ]
     },
     "metadata": {},
     "output_type": "display_data"
    },
    {
     "data": {
      "application/vnd.jupyter.widget-view+json": {
       "model_id": "ab1ba5dd36a44d28b88cc11b1fe1c7d7",
       "version_major": 2,
       "version_minor": 0
      },
      "text/plain": [
       "  0%|          | 0/2 [00:00<?, ?it/s]"
      ]
     },
     "metadata": {},
     "output_type": "display_data"
    },
    {
     "data": {
      "application/vnd.jupyter.widget-view+json": {
       "model_id": "0ea2aeb6d32340ebb86678946a81b726",
       "version_major": 2,
       "version_minor": 0
      },
      "text/plain": [
       "  0%|          | 0/2 [00:00<?, ?it/s]"
      ]
     },
     "metadata": {},
     "output_type": "display_data"
    },
    {
     "data": {
      "application/vnd.jupyter.widget-view+json": {
       "model_id": "ed2b4b9d3f9b4767b901b9da212d7d97",
       "version_major": 2,
       "version_minor": 0
      },
      "text/plain": [
       "  0%|          | 0/2 [00:00<?, ?it/s]"
      ]
     },
     "metadata": {},
     "output_type": "display_data"
    },
    {
     "data": {
      "application/vnd.jupyter.widget-view+json": {
       "model_id": "c9f5b4c7cff64b61b389b51072f41818",
       "version_major": 2,
       "version_minor": 0
      },
      "text/plain": [
       "  0%|          | 0/2 [00:00<?, ?it/s]"
      ]
     },
     "metadata": {},
     "output_type": "display_data"
    },
    {
     "data": {
      "application/vnd.jupyter.widget-view+json": {
       "model_id": "262c2e4db2f34c48b448f5f8a35dc6cf",
       "version_major": 2,
       "version_minor": 0
      },
      "text/plain": [
       "  0%|          | 0/2 [00:00<?, ?it/s]"
      ]
     },
     "metadata": {},
     "output_type": "display_data"
    },
    {
     "data": {
      "application/vnd.jupyter.widget-view+json": {
       "model_id": "999c79fb330a4e71a46ced09b73bbe83",
       "version_major": 2,
       "version_minor": 0
      },
      "text/plain": [
       "  0%|          | 0/2 [00:00<?, ?it/s]"
      ]
     },
     "metadata": {},
     "output_type": "display_data"
    },
    {
     "data": {
      "application/vnd.jupyter.widget-view+json": {
       "model_id": "bfd8e43095af4fb38b03397ce1ac9f7b",
       "version_major": 2,
       "version_minor": 0
      },
      "text/plain": [
       "  0%|          | 0/2 [00:00<?, ?it/s]"
      ]
     },
     "metadata": {},
     "output_type": "display_data"
    },
    {
     "data": {
      "application/vnd.jupyter.widget-view+json": {
       "model_id": "5b1be9162c6b4d24b1748ca1b5256434",
       "version_major": 2,
       "version_minor": 0
      },
      "text/plain": [
       "  0%|          | 0/2 [00:00<?, ?it/s]"
      ]
     },
     "metadata": {},
     "output_type": "display_data"
    },
    {
     "data": {
      "application/vnd.jupyter.widget-view+json": {
       "model_id": "c0c90d2f4b904ed6921a3fb216a05830",
       "version_major": 2,
       "version_minor": 0
      },
      "text/plain": [
       "  0%|          | 0/2 [00:00<?, ?it/s]"
      ]
     },
     "metadata": {},
     "output_type": "display_data"
    },
    {
     "data": {
      "application/vnd.jupyter.widget-view+json": {
       "model_id": "ed3aec618b3e4b0f98edb99dbbc1c7f5",
       "version_major": 2,
       "version_minor": 0
      },
      "text/plain": [
       "  0%|          | 0/2 [00:00<?, ?it/s]"
      ]
     },
     "metadata": {},
     "output_type": "display_data"
    },
    {
     "data": {
      "application/vnd.jupyter.widget-view+json": {
       "model_id": "132f174699994be58035be8f5268d4a9",
       "version_major": 2,
       "version_minor": 0
      },
      "text/plain": [
       "  0%|          | 0/2 [00:00<?, ?it/s]"
      ]
     },
     "metadata": {},
     "output_type": "display_data"
    },
    {
     "data": {
      "application/vnd.jupyter.widget-view+json": {
       "model_id": "803bde84a43c4c7cb3c94edd80bd72e6",
       "version_major": 2,
       "version_minor": 0
      },
      "text/plain": [
       "  0%|          | 0/2 [00:00<?, ?it/s]"
      ]
     },
     "metadata": {},
     "output_type": "display_data"
    },
    {
     "data": {
      "application/vnd.jupyter.widget-view+json": {
       "model_id": "38a797b9e1f44c468b98875afe4f73e4",
       "version_major": 2,
       "version_minor": 0
      },
      "text/plain": [
       "  0%|          | 0/2 [00:00<?, ?it/s]"
      ]
     },
     "metadata": {},
     "output_type": "display_data"
    },
    {
     "data": {
      "application/vnd.jupyter.widget-view+json": {
       "model_id": "147fd6ecfd8b4c5a9b335131a0506357",
       "version_major": 2,
       "version_minor": 0
      },
      "text/plain": [
       "  0%|          | 0/2 [00:00<?, ?it/s]"
      ]
     },
     "metadata": {},
     "output_type": "display_data"
    },
    {
     "data": {
      "application/vnd.jupyter.widget-view+json": {
       "model_id": "a6bc573f56d94fde819bb6b453908b1d",
       "version_major": 2,
       "version_minor": 0
      },
      "text/plain": [
       "  0%|          | 0/2 [00:00<?, ?it/s]"
      ]
     },
     "metadata": {},
     "output_type": "display_data"
    },
    {
     "data": {
      "application/vnd.jupyter.widget-view+json": {
       "model_id": "105f805693284befac2c0e1a1b05b51d",
       "version_major": 2,
       "version_minor": 0
      },
      "text/plain": [
       "  0%|          | 0/2 [00:00<?, ?it/s]"
      ]
     },
     "metadata": {},
     "output_type": "display_data"
    },
    {
     "data": {
      "application/vnd.jupyter.widget-view+json": {
       "model_id": "89e490fbdbb04a3194c3d6d3633c0d20",
       "version_major": 2,
       "version_minor": 0
      },
      "text/plain": [
       "  0%|          | 0/2 [00:00<?, ?it/s]"
      ]
     },
     "metadata": {},
     "output_type": "display_data"
    },
    {
     "data": {
      "application/vnd.jupyter.widget-view+json": {
       "model_id": "fd3e1b5796cc4f5fa6160754515630b5",
       "version_major": 2,
       "version_minor": 0
      },
      "text/plain": [
       "  0%|          | 0/2 [00:00<?, ?it/s]"
      ]
     },
     "metadata": {},
     "output_type": "display_data"
    },
    {
     "data": {
      "application/vnd.jupyter.widget-view+json": {
       "model_id": "040975467b0b4aeda6252dd1bb0507ea",
       "version_major": 2,
       "version_minor": 0
      },
      "text/plain": [
       "  0%|          | 0/2 [00:00<?, ?it/s]"
      ]
     },
     "metadata": {},
     "output_type": "display_data"
    },
    {
     "data": {
      "application/vnd.jupyter.widget-view+json": {
       "model_id": "9d9abd5f1d624258a94b249a1cfd539f",
       "version_major": 2,
       "version_minor": 0
      },
      "text/plain": [
       "  0%|          | 0/2 [00:00<?, ?it/s]"
      ]
     },
     "metadata": {},
     "output_type": "display_data"
    },
    {
     "data": {
      "application/vnd.jupyter.widget-view+json": {
       "model_id": "ab82ff4cd06a42b2ae983a6d5a28d26d",
       "version_major": 2,
       "version_minor": 0
      },
      "text/plain": [
       "  0%|          | 0/2 [00:00<?, ?it/s]"
      ]
     },
     "metadata": {},
     "output_type": "display_data"
    },
    {
     "data": {
      "application/vnd.jupyter.widget-view+json": {
       "model_id": "d3d389003acd40bea0b2565dc1d40d99",
       "version_major": 2,
       "version_minor": 0
      },
      "text/plain": [
       "  0%|          | 0/2 [00:00<?, ?it/s]"
      ]
     },
     "metadata": {},
     "output_type": "display_data"
    },
    {
     "data": {
      "application/vnd.jupyter.widget-view+json": {
       "model_id": "1d15dd81a29f4f769f930d4ebf41c15c",
       "version_major": 2,
       "version_minor": 0
      },
      "text/plain": [
       "  0%|          | 0/2 [00:00<?, ?it/s]"
      ]
     },
     "metadata": {},
     "output_type": "display_data"
    },
    {
     "data": {
      "application/vnd.jupyter.widget-view+json": {
       "model_id": "7678b61541fb473887f0ac4093ae2454",
       "version_major": 2,
       "version_minor": 0
      },
      "text/plain": [
       "  0%|          | 0/2 [00:00<?, ?it/s]"
      ]
     },
     "metadata": {},
     "output_type": "display_data"
    },
    {
     "data": {
      "application/vnd.jupyter.widget-view+json": {
       "model_id": "24189e08128b4f36b18b979f51f37b2c",
       "version_major": 2,
       "version_minor": 0
      },
      "text/plain": [
       "  0%|          | 0/2 [00:00<?, ?it/s]"
      ]
     },
     "metadata": {},
     "output_type": "display_data"
    },
    {
     "data": {
      "application/vnd.jupyter.widget-view+json": {
       "model_id": "6f06a139fdc8448a8494ab0438d1a83f",
       "version_major": 2,
       "version_minor": 0
      },
      "text/plain": [
       "  0%|          | 0/2 [00:00<?, ?it/s]"
      ]
     },
     "metadata": {},
     "output_type": "display_data"
    },
    {
     "data": {
      "application/vnd.jupyter.widget-view+json": {
       "model_id": "d615d08480af485384cf63df0fe4d9f8",
       "version_major": 2,
       "version_minor": 0
      },
      "text/plain": [
       "  0%|          | 0/2 [00:00<?, ?it/s]"
      ]
     },
     "metadata": {},
     "output_type": "display_data"
    },
    {
     "data": {
      "application/vnd.jupyter.widget-view+json": {
       "model_id": "8215d333cc134a958c9a64b26923b6eb",
       "version_major": 2,
       "version_minor": 0
      },
      "text/plain": [
       "  0%|          | 0/2 [00:00<?, ?it/s]"
      ]
     },
     "metadata": {},
     "output_type": "display_data"
    },
    {
     "data": {
      "application/vnd.jupyter.widget-view+json": {
       "model_id": "e6828b46bca04638937d543b94c0856b",
       "version_major": 2,
       "version_minor": 0
      },
      "text/plain": [
       "  0%|          | 0/2 [00:00<?, ?it/s]"
      ]
     },
     "metadata": {},
     "output_type": "display_data"
    },
    {
     "data": {
      "application/vnd.jupyter.widget-view+json": {
       "model_id": "442ca34da5764b6eaf1c7c86c0024f2f",
       "version_major": 2,
       "version_minor": 0
      },
      "text/plain": [
       "  0%|          | 0/2 [00:00<?, ?it/s]"
      ]
     },
     "metadata": {},
     "output_type": "display_data"
    },
    {
     "data": {
      "application/vnd.jupyter.widget-view+json": {
       "model_id": "e221099ea3074e93b0cc63e769d57c68",
       "version_major": 2,
       "version_minor": 0
      },
      "text/plain": [
       "  0%|          | 0/2 [00:00<?, ?it/s]"
      ]
     },
     "metadata": {},
     "output_type": "display_data"
    },
    {
     "data": {
      "application/vnd.jupyter.widget-view+json": {
       "model_id": "fc42c4aa466d4999af499170a450343e",
       "version_major": 2,
       "version_minor": 0
      },
      "text/plain": [
       "  0%|          | 0/2 [00:00<?, ?it/s]"
      ]
     },
     "metadata": {},
     "output_type": "display_data"
    },
    {
     "data": {
      "application/vnd.jupyter.widget-view+json": {
       "model_id": "853c4fc612044802ad0aa3398073a9a4",
       "version_major": 2,
       "version_minor": 0
      },
      "text/plain": [
       "  0%|          | 0/2 [00:00<?, ?it/s]"
      ]
     },
     "metadata": {},
     "output_type": "display_data"
    },
    {
     "data": {
      "application/vnd.jupyter.widget-view+json": {
       "model_id": "3530af8d68ff4dac9905cb984d331181",
       "version_major": 2,
       "version_minor": 0
      },
      "text/plain": [
       "  0%|          | 0/2 [00:00<?, ?it/s]"
      ]
     },
     "metadata": {},
     "output_type": "display_data"
    },
    {
     "data": {
      "application/vnd.jupyter.widget-view+json": {
       "model_id": "740e3a003f794595bbd64989ffe5d7f5",
       "version_major": 2,
       "version_minor": 0
      },
      "text/plain": [
       "  0%|          | 0/2 [00:00<?, ?it/s]"
      ]
     },
     "metadata": {},
     "output_type": "display_data"
    },
    {
     "data": {
      "application/vnd.jupyter.widget-view+json": {
       "model_id": "9448d12f3a2d4a60af2babec51513898",
       "version_major": 2,
       "version_minor": 0
      },
      "text/plain": [
       "  0%|          | 0/2 [00:00<?, ?it/s]"
      ]
     },
     "metadata": {},
     "output_type": "display_data"
    },
    {
     "data": {
      "application/vnd.jupyter.widget-view+json": {
       "model_id": "3591908c702b44dc8040e1064296e8c3",
       "version_major": 2,
       "version_minor": 0
      },
      "text/plain": [
       "  0%|          | 0/2 [00:00<?, ?it/s]"
      ]
     },
     "metadata": {},
     "output_type": "display_data"
    },
    {
     "data": {
      "application/vnd.jupyter.widget-view+json": {
       "model_id": "49bbd0ff002e42119eb9403b65857d04",
       "version_major": 2,
       "version_minor": 0
      },
      "text/plain": [
       "  0%|          | 0/2 [00:00<?, ?it/s]"
      ]
     },
     "metadata": {},
     "output_type": "display_data"
    },
    {
     "data": {
      "application/vnd.jupyter.widget-view+json": {
       "model_id": "9361ead249044bbfa524b59a0dac80bc",
       "version_major": 2,
       "version_minor": 0
      },
      "text/plain": [
       "  0%|          | 0/2 [00:00<?, ?it/s]"
      ]
     },
     "metadata": {},
     "output_type": "display_data"
    },
    {
     "data": {
      "application/vnd.jupyter.widget-view+json": {
       "model_id": "ccc1b2bcd93245e691693ef7d13b29bb",
       "version_major": 2,
       "version_minor": 0
      },
      "text/plain": [
       "  0%|          | 0/2 [00:00<?, ?it/s]"
      ]
     },
     "metadata": {},
     "output_type": "display_data"
    },
    {
     "data": {
      "application/vnd.jupyter.widget-view+json": {
       "model_id": "73ca7e64da8a40ada5eb612c4922aba6",
       "version_major": 2,
       "version_minor": 0
      },
      "text/plain": [
       "  0%|          | 0/2 [00:00<?, ?it/s]"
      ]
     },
     "metadata": {},
     "output_type": "display_data"
    },
    {
     "data": {
      "application/vnd.jupyter.widget-view+json": {
       "model_id": "18334d70285c4e29be9155cd6ce75c40",
       "version_major": 2,
       "version_minor": 0
      },
      "text/plain": [
       "  0%|          | 0/2 [00:00<?, ?it/s]"
      ]
     },
     "metadata": {},
     "output_type": "display_data"
    },
    {
     "data": {
      "application/vnd.jupyter.widget-view+json": {
       "model_id": "3801f587174a43fdb2408e9cd2bb58e2",
       "version_major": 2,
       "version_minor": 0
      },
      "text/plain": [
       "  0%|          | 0/2 [00:00<?, ?it/s]"
      ]
     },
     "metadata": {},
     "output_type": "display_data"
    },
    {
     "data": {
      "application/vnd.jupyter.widget-view+json": {
       "model_id": "530d4f9b0a114037b592e8b1c2cb5a30",
       "version_major": 2,
       "version_minor": 0
      },
      "text/plain": [
       "  0%|          | 0/2 [00:00<?, ?it/s]"
      ]
     },
     "metadata": {},
     "output_type": "display_data"
    },
    {
     "data": {
      "application/vnd.jupyter.widget-view+json": {
       "model_id": "c244eeffa6e94a10b083393e5630ee32",
       "version_major": 2,
       "version_minor": 0
      },
      "text/plain": [
       "  0%|          | 0/2 [00:00<?, ?it/s]"
      ]
     },
     "metadata": {},
     "output_type": "display_data"
    },
    {
     "data": {
      "application/vnd.jupyter.widget-view+json": {
       "model_id": "9ef3b62708904fc6b14ec4541f4a878f",
       "version_major": 2,
       "version_minor": 0
      },
      "text/plain": [
       "  0%|          | 0/2 [00:00<?, ?it/s]"
      ]
     },
     "metadata": {},
     "output_type": "display_data"
    },
    {
     "data": {
      "application/vnd.jupyter.widget-view+json": {
       "model_id": "150d4b9267194c909c30d6f40cc8d393",
       "version_major": 2,
       "version_minor": 0
      },
      "text/plain": [
       "  0%|          | 0/2 [00:00<?, ?it/s]"
      ]
     },
     "metadata": {},
     "output_type": "display_data"
    },
    {
     "data": {
      "application/vnd.jupyter.widget-view+json": {
       "model_id": "0b4714ae52004b10a59faf4d2979eeed",
       "version_major": 2,
       "version_minor": 0
      },
      "text/plain": [
       "  0%|          | 0/2 [00:00<?, ?it/s]"
      ]
     },
     "metadata": {},
     "output_type": "display_data"
    },
    {
     "data": {
      "application/vnd.jupyter.widget-view+json": {
       "model_id": "00715f9b22ec4ba0b54257d7ca4219fb",
       "version_major": 2,
       "version_minor": 0
      },
      "text/plain": [
       "  0%|          | 0/2 [00:00<?, ?it/s]"
      ]
     },
     "metadata": {},
     "output_type": "display_data"
    },
    {
     "data": {
      "application/vnd.jupyter.widget-view+json": {
       "model_id": "8062768d058743029b6ab256360ac6e8",
       "version_major": 2,
       "version_minor": 0
      },
      "text/plain": [
       "  0%|          | 0/2 [00:00<?, ?it/s]"
      ]
     },
     "metadata": {},
     "output_type": "display_data"
    },
    {
     "data": {
      "application/vnd.jupyter.widget-view+json": {
       "model_id": "4e9a49c61b1b422f90cac56b5ac8794e",
       "version_major": 2,
       "version_minor": 0
      },
      "text/plain": [
       "  0%|          | 0/2 [00:00<?, ?it/s]"
      ]
     },
     "metadata": {},
     "output_type": "display_data"
    },
    {
     "data": {
      "application/vnd.jupyter.widget-view+json": {
       "model_id": "aedb51e22f0f4879b99be94ed921a3ff",
       "version_major": 2,
       "version_minor": 0
      },
      "text/plain": [
       "  0%|          | 0/2 [00:00<?, ?it/s]"
      ]
     },
     "metadata": {},
     "output_type": "display_data"
    },
    {
     "data": {
      "application/vnd.jupyter.widget-view+json": {
       "model_id": "88db58b1da054c96a8f3ec09caf9075d",
       "version_major": 2,
       "version_minor": 0
      },
      "text/plain": [
       "  0%|          | 0/2 [00:00<?, ?it/s]"
      ]
     },
     "metadata": {},
     "output_type": "display_data"
    },
    {
     "data": {
      "application/vnd.jupyter.widget-view+json": {
       "model_id": "cb09c24507ca43aea230474ab6c45695",
       "version_major": 2,
       "version_minor": 0
      },
      "text/plain": [
       "  0%|          | 0/2 [00:00<?, ?it/s]"
      ]
     },
     "metadata": {},
     "output_type": "display_data"
    },
    {
     "data": {
      "application/vnd.jupyter.widget-view+json": {
       "model_id": "4f04aaab0a4f4fa29482ab730644aef8",
       "version_major": 2,
       "version_minor": 0
      },
      "text/plain": [
       "  0%|          | 0/2 [00:00<?, ?it/s]"
      ]
     },
     "metadata": {},
     "output_type": "display_data"
    },
    {
     "data": {
      "application/vnd.jupyter.widget-view+json": {
       "model_id": "7234c96ca2f849e48473d8042e6775ee",
       "version_major": 2,
       "version_minor": 0
      },
      "text/plain": [
       "  0%|          | 0/2 [00:00<?, ?it/s]"
      ]
     },
     "metadata": {},
     "output_type": "display_data"
    },
    {
     "data": {
      "application/vnd.jupyter.widget-view+json": {
       "model_id": "474fa90e8b654aa09ad781eea5b4b79a",
       "version_major": 2,
       "version_minor": 0
      },
      "text/plain": [
       "  0%|          | 0/2 [00:00<?, ?it/s]"
      ]
     },
     "metadata": {},
     "output_type": "display_data"
    },
    {
     "data": {
      "application/vnd.jupyter.widget-view+json": {
       "model_id": "2ed7ecc942124fcc9bde7108f48a33cf",
       "version_major": 2,
       "version_minor": 0
      },
      "text/plain": [
       "  0%|          | 0/2 [00:00<?, ?it/s]"
      ]
     },
     "metadata": {},
     "output_type": "display_data"
    },
    {
     "data": {
      "application/vnd.jupyter.widget-view+json": {
       "model_id": "00aec7d2df514389809ea22269b47202",
       "version_major": 2,
       "version_minor": 0
      },
      "text/plain": [
       "  0%|          | 0/2 [00:00<?, ?it/s]"
      ]
     },
     "metadata": {},
     "output_type": "display_data"
    },
    {
     "data": {
      "application/vnd.jupyter.widget-view+json": {
       "model_id": "2f1d0b031a3746059faf8c0c2351f672",
       "version_major": 2,
       "version_minor": 0
      },
      "text/plain": [
       "  0%|          | 0/2 [00:00<?, ?it/s]"
      ]
     },
     "metadata": {},
     "output_type": "display_data"
    },
    {
     "data": {
      "application/vnd.jupyter.widget-view+json": {
       "model_id": "a6a8f8cd00f44a62833ae964ac09ed61",
       "version_major": 2,
       "version_minor": 0
      },
      "text/plain": [
       "  0%|          | 0/2 [00:00<?, ?it/s]"
      ]
     },
     "metadata": {},
     "output_type": "display_data"
    },
    {
     "data": {
      "application/vnd.jupyter.widget-view+json": {
       "model_id": "ead3bff144b2446da8ded55d874e28d6",
       "version_major": 2,
       "version_minor": 0
      },
      "text/plain": [
       "  0%|          | 0/2 [00:00<?, ?it/s]"
      ]
     },
     "metadata": {},
     "output_type": "display_data"
    },
    {
     "data": {
      "application/vnd.jupyter.widget-view+json": {
       "model_id": "b5145c6cfc0b4263b11e1588fd877764",
       "version_major": 2,
       "version_minor": 0
      },
      "text/plain": [
       "  0%|          | 0/2 [00:00<?, ?it/s]"
      ]
     },
     "metadata": {},
     "output_type": "display_data"
    },
    {
     "data": {
      "application/vnd.jupyter.widget-view+json": {
       "model_id": "2a9f2273ba184c9cb8a38a68a8405960",
       "version_major": 2,
       "version_minor": 0
      },
      "text/plain": [
       "  0%|          | 0/2 [00:00<?, ?it/s]"
      ]
     },
     "metadata": {},
     "output_type": "display_data"
    },
    {
     "data": {
      "application/vnd.jupyter.widget-view+json": {
       "model_id": "b03563ccb88743169b46b349e0af4dd3",
       "version_major": 2,
       "version_minor": 0
      },
      "text/plain": [
       "  0%|          | 0/2 [00:00<?, ?it/s]"
      ]
     },
     "metadata": {},
     "output_type": "display_data"
    },
    {
     "data": {
      "application/vnd.jupyter.widget-view+json": {
       "model_id": "84873cf0855b4b9ea1cd8d7b4c6b82eb",
       "version_major": 2,
       "version_minor": 0
      },
      "text/plain": [
       "  0%|          | 0/2 [00:00<?, ?it/s]"
      ]
     },
     "metadata": {},
     "output_type": "display_data"
    },
    {
     "data": {
      "application/vnd.jupyter.widget-view+json": {
       "model_id": "6b1bed21a610490a988e0a7ecf3eab06",
       "version_major": 2,
       "version_minor": 0
      },
      "text/plain": [
       "  0%|          | 0/2 [00:00<?, ?it/s]"
      ]
     },
     "metadata": {},
     "output_type": "display_data"
    },
    {
     "data": {
      "application/vnd.jupyter.widget-view+json": {
       "model_id": "556ef5263a4044a9aca6ae4c141d8761",
       "version_major": 2,
       "version_minor": 0
      },
      "text/plain": [
       "  0%|          | 0/2 [00:00<?, ?it/s]"
      ]
     },
     "metadata": {},
     "output_type": "display_data"
    },
    {
     "data": {
      "application/vnd.jupyter.widget-view+json": {
       "model_id": "b8f82430607941d0bd9e484d9134dc2a",
       "version_major": 2,
       "version_minor": 0
      },
      "text/plain": [
       "  0%|          | 0/2 [00:00<?, ?it/s]"
      ]
     },
     "metadata": {},
     "output_type": "display_data"
    },
    {
     "data": {
      "application/vnd.jupyter.widget-view+json": {
       "model_id": "51cdbefcaafc4587bea39c27943f1b3f",
       "version_major": 2,
       "version_minor": 0
      },
      "text/plain": [
       "  0%|          | 0/2 [00:00<?, ?it/s]"
      ]
     },
     "metadata": {},
     "output_type": "display_data"
    },
    {
     "data": {
      "application/vnd.jupyter.widget-view+json": {
       "model_id": "36ec594319ce46f8be31274d8c0ad81f",
       "version_major": 2,
       "version_minor": 0
      },
      "text/plain": [
       "  0%|          | 0/2 [00:00<?, ?it/s]"
      ]
     },
     "metadata": {},
     "output_type": "display_data"
    },
    {
     "data": {
      "application/vnd.jupyter.widget-view+json": {
       "model_id": "d03af5f4f2ca43cc9cb7cd876e355f98",
       "version_major": 2,
       "version_minor": 0
      },
      "text/plain": [
       "  0%|          | 0/2 [00:00<?, ?it/s]"
      ]
     },
     "metadata": {},
     "output_type": "display_data"
    },
    {
     "data": {
      "application/vnd.jupyter.widget-view+json": {
       "model_id": "01399e74cb6c4d2a8dd7ded480cf74ad",
       "version_major": 2,
       "version_minor": 0
      },
      "text/plain": [
       "  0%|          | 0/2 [00:00<?, ?it/s]"
      ]
     },
     "metadata": {},
     "output_type": "display_data"
    },
    {
     "data": {
      "application/vnd.jupyter.widget-view+json": {
       "model_id": "092bbe510ead47e8815dcde100b83b99",
       "version_major": 2,
       "version_minor": 0
      },
      "text/plain": [
       "  0%|          | 0/2 [00:00<?, ?it/s]"
      ]
     },
     "metadata": {},
     "output_type": "display_data"
    },
    {
     "data": {
      "application/vnd.jupyter.widget-view+json": {
       "model_id": "e2b5d2555444482a9b1bd4163c0869f3",
       "version_major": 2,
       "version_minor": 0
      },
      "text/plain": [
       "  0%|          | 0/2 [00:00<?, ?it/s]"
      ]
     },
     "metadata": {},
     "output_type": "display_data"
    },
    {
     "data": {
      "application/vnd.jupyter.widget-view+json": {
       "model_id": "c7d6e7f0b5234f18a875bb4f8a301152",
       "version_major": 2,
       "version_minor": 0
      },
      "text/plain": [
       "  0%|          | 0/2 [00:00<?, ?it/s]"
      ]
     },
     "metadata": {},
     "output_type": "display_data"
    },
    {
     "data": {
      "application/vnd.jupyter.widget-view+json": {
       "model_id": "4e7c5634fa724185b0bddaebef3a34aa",
       "version_major": 2,
       "version_minor": 0
      },
      "text/plain": [
       "  0%|          | 0/2 [00:00<?, ?it/s]"
      ]
     },
     "metadata": {},
     "output_type": "display_data"
    },
    {
     "data": {
      "application/vnd.jupyter.widget-view+json": {
       "model_id": "7f42d224e1044ed7b7930fcc13405010",
       "version_major": 2,
       "version_minor": 0
      },
      "text/plain": [
       "  0%|          | 0/2 [00:00<?, ?it/s]"
      ]
     },
     "metadata": {},
     "output_type": "display_data"
    },
    {
     "data": {
      "application/vnd.jupyter.widget-view+json": {
       "model_id": "1543686a331b4dd692ef67efa9ea087c",
       "version_major": 2,
       "version_minor": 0
      },
      "text/plain": [
       "  0%|          | 0/2 [00:00<?, ?it/s]"
      ]
     },
     "metadata": {},
     "output_type": "display_data"
    },
    {
     "data": {
      "application/vnd.jupyter.widget-view+json": {
       "model_id": "f971b973b2954ec5ac2f7f3a41b0b0ac",
       "version_major": 2,
       "version_minor": 0
      },
      "text/plain": [
       "  0%|          | 0/2 [00:00<?, ?it/s]"
      ]
     },
     "metadata": {},
     "output_type": "display_data"
    },
    {
     "data": {
      "application/vnd.jupyter.widget-view+json": {
       "model_id": "7162e979b71441ae8a0f59e6d614d474",
       "version_major": 2,
       "version_minor": 0
      },
      "text/plain": [
       "  0%|          | 0/2 [00:00<?, ?it/s]"
      ]
     },
     "metadata": {},
     "output_type": "display_data"
    },
    {
     "data": {
      "application/vnd.jupyter.widget-view+json": {
       "model_id": "e223bdd812c24d9d8a02247c875bfd00",
       "version_major": 2,
       "version_minor": 0
      },
      "text/plain": [
       "  0%|          | 0/2 [00:00<?, ?it/s]"
      ]
     },
     "metadata": {},
     "output_type": "display_data"
    },
    {
     "data": {
      "application/vnd.jupyter.widget-view+json": {
       "model_id": "20110d2eb4ce409ab60b2829a17f6020",
       "version_major": 2,
       "version_minor": 0
      },
      "text/plain": [
       "  0%|          | 0/2 [00:00<?, ?it/s]"
      ]
     },
     "metadata": {},
     "output_type": "display_data"
    },
    {
     "data": {
      "application/vnd.jupyter.widget-view+json": {
       "model_id": "f91e022979e6424bbe2232984742290b",
       "version_major": 2,
       "version_minor": 0
      },
      "text/plain": [
       "  0%|          | 0/2 [00:00<?, ?it/s]"
      ]
     },
     "metadata": {},
     "output_type": "display_data"
    },
    {
     "data": {
      "application/vnd.jupyter.widget-view+json": {
       "model_id": "739143e5f7ed45a7a83faed4fc45716a",
       "version_major": 2,
       "version_minor": 0
      },
      "text/plain": [
       "  0%|          | 0/2 [00:00<?, ?it/s]"
      ]
     },
     "metadata": {},
     "output_type": "display_data"
    },
    {
     "data": {
      "application/vnd.jupyter.widget-view+json": {
       "model_id": "6df96f16f3434575af12153d1b97128f",
       "version_major": 2,
       "version_minor": 0
      },
      "text/plain": [
       "  0%|          | 0/2 [00:00<?, ?it/s]"
      ]
     },
     "metadata": {},
     "output_type": "display_data"
    },
    {
     "data": {
      "application/vnd.jupyter.widget-view+json": {
       "model_id": "d452e8db726247c994518629ecdb35b5",
       "version_major": 2,
       "version_minor": 0
      },
      "text/plain": [
       "  0%|          | 0/2 [00:00<?, ?it/s]"
      ]
     },
     "metadata": {},
     "output_type": "display_data"
    },
    {
     "data": {
      "application/vnd.jupyter.widget-view+json": {
       "model_id": "a0d809bab4dd4ca6b733ab37009a1c72",
       "version_major": 2,
       "version_minor": 0
      },
      "text/plain": [
       "  0%|          | 0/2 [00:00<?, ?it/s]"
      ]
     },
     "metadata": {},
     "output_type": "display_data"
    },
    {
     "data": {
      "application/vnd.jupyter.widget-view+json": {
       "model_id": "529dd268b6224a8bbc1f0a4e5d8f38a1",
       "version_major": 2,
       "version_minor": 0
      },
      "text/plain": [
       "  0%|          | 0/2 [00:00<?, ?it/s]"
      ]
     },
     "metadata": {},
     "output_type": "display_data"
    },
    {
     "data": {
      "application/vnd.jupyter.widget-view+json": {
       "model_id": "8c642604912d49d3b7bdae572e8daa28",
       "version_major": 2,
       "version_minor": 0
      },
      "text/plain": [
       "  0%|          | 0/2 [00:00<?, ?it/s]"
      ]
     },
     "metadata": {},
     "output_type": "display_data"
    },
    {
     "data": {
      "application/vnd.jupyter.widget-view+json": {
       "model_id": "bd4953f59fe34a2a87a0ad0a6530e579",
       "version_major": 2,
       "version_minor": 0
      },
      "text/plain": [
       "  0%|          | 0/2 [00:00<?, ?it/s]"
      ]
     },
     "metadata": {},
     "output_type": "display_data"
    },
    {
     "data": {
      "application/vnd.jupyter.widget-view+json": {
       "model_id": "86dfd5b8d1d3450eb50e538b05c4fa2d",
       "version_major": 2,
       "version_minor": 0
      },
      "text/plain": [
       "  0%|          | 0/2 [00:00<?, ?it/s]"
      ]
     },
     "metadata": {},
     "output_type": "display_data"
    },
    {
     "data": {
      "application/vnd.jupyter.widget-view+json": {
       "model_id": "e7035efcf0f8498781ebbe7d8df58d0a",
       "version_major": 2,
       "version_minor": 0
      },
      "text/plain": [
       "  0%|          | 0/2 [00:00<?, ?it/s]"
      ]
     },
     "metadata": {},
     "output_type": "display_data"
    },
    {
     "data": {
      "application/vnd.jupyter.widget-view+json": {
       "model_id": "36db4a716a8d4dd89d5245a84d622a04",
       "version_major": 2,
       "version_minor": 0
      },
      "text/plain": [
       "  0%|          | 0/2 [00:00<?, ?it/s]"
      ]
     },
     "metadata": {},
     "output_type": "display_data"
    },
    {
     "data": {
      "application/vnd.jupyter.widget-view+json": {
       "model_id": "4ae887dacb9b45d192092dd2fe926cfe",
       "version_major": 2,
       "version_minor": 0
      },
      "text/plain": [
       "  0%|          | 0/2 [00:00<?, ?it/s]"
      ]
     },
     "metadata": {},
     "output_type": "display_data"
    },
    {
     "data": {
      "application/vnd.jupyter.widget-view+json": {
       "model_id": "8c2b82d7609749a583b8c3ae2ca6492c",
       "version_major": 2,
       "version_minor": 0
      },
      "text/plain": [
       "  0%|          | 0/2 [00:00<?, ?it/s]"
      ]
     },
     "metadata": {},
     "output_type": "display_data"
    },
    {
     "data": {
      "application/vnd.jupyter.widget-view+json": {
       "model_id": "3523273940084829b75dd685d6d82c1d",
       "version_major": 2,
       "version_minor": 0
      },
      "text/plain": [
       "  0%|          | 0/2 [00:00<?, ?it/s]"
      ]
     },
     "metadata": {},
     "output_type": "display_data"
    },
    {
     "data": {
      "application/vnd.jupyter.widget-view+json": {
       "model_id": "84239b3d5b4841fabaa43f85ab534e00",
       "version_major": 2,
       "version_minor": 0
      },
      "text/plain": [
       "  0%|          | 0/2 [00:00<?, ?it/s]"
      ]
     },
     "metadata": {},
     "output_type": "display_data"
    },
    {
     "data": {
      "application/vnd.jupyter.widget-view+json": {
       "model_id": "d438519f2df5481d8d00c7815e83f8fb",
       "version_major": 2,
       "version_minor": 0
      },
      "text/plain": [
       "  0%|          | 0/2 [00:00<?, ?it/s]"
      ]
     },
     "metadata": {},
     "output_type": "display_data"
    },
    {
     "data": {
      "application/vnd.jupyter.widget-view+json": {
       "model_id": "5ef0e79f475044cd9aa78b638d8047bb",
       "version_major": 2,
       "version_minor": 0
      },
      "text/plain": [
       "  0%|          | 0/2 [00:00<?, ?it/s]"
      ]
     },
     "metadata": {},
     "output_type": "display_data"
    },
    {
     "data": {
      "application/vnd.jupyter.widget-view+json": {
       "model_id": "eaedbbbb5daa4a9ab9281254d51769fa",
       "version_major": 2,
       "version_minor": 0
      },
      "text/plain": [
       "  0%|          | 0/2 [00:00<?, ?it/s]"
      ]
     },
     "metadata": {},
     "output_type": "display_data"
    },
    {
     "data": {
      "application/vnd.jupyter.widget-view+json": {
       "model_id": "3ad6be97d5ae4941b33a3fd50d6a8ca0",
       "version_major": 2,
       "version_minor": 0
      },
      "text/plain": [
       "  0%|          | 0/2 [00:00<?, ?it/s]"
      ]
     },
     "metadata": {},
     "output_type": "display_data"
    },
    {
     "data": {
      "application/vnd.jupyter.widget-view+json": {
       "model_id": "4e17134d012345c6a2d53d824ce99fff",
       "version_major": 2,
       "version_minor": 0
      },
      "text/plain": [
       "  0%|          | 0/2 [00:00<?, ?it/s]"
      ]
     },
     "metadata": {},
     "output_type": "display_data"
    },
    {
     "data": {
      "application/vnd.jupyter.widget-view+json": {
       "model_id": "35a5f67c3a484e678fc310072664f164",
       "version_major": 2,
       "version_minor": 0
      },
      "text/plain": [
       "  0%|          | 0/2 [00:00<?, ?it/s]"
      ]
     },
     "metadata": {},
     "output_type": "display_data"
    },
    {
     "data": {
      "application/vnd.jupyter.widget-view+json": {
       "model_id": "71088e14f0b849d6b7772ea58ac11128",
       "version_major": 2,
       "version_minor": 0
      },
      "text/plain": [
       "  0%|          | 0/2 [00:00<?, ?it/s]"
      ]
     },
     "metadata": {},
     "output_type": "display_data"
    },
    {
     "data": {
      "application/vnd.jupyter.widget-view+json": {
       "model_id": "690e4f07fc304738a28a892536a52b31",
       "version_major": 2,
       "version_minor": 0
      },
      "text/plain": [
       "  0%|          | 0/2 [00:00<?, ?it/s]"
      ]
     },
     "metadata": {},
     "output_type": "display_data"
    },
    {
     "data": {
      "application/vnd.jupyter.widget-view+json": {
       "model_id": "8a30d852033a41f6911cb42cffca04c4",
       "version_major": 2,
       "version_minor": 0
      },
      "text/plain": [
       "  0%|          | 0/2 [00:00<?, ?it/s]"
      ]
     },
     "metadata": {},
     "output_type": "display_data"
    },
    {
     "data": {
      "application/vnd.jupyter.widget-view+json": {
       "model_id": "d7c1df0fe4ad4fc8b79752b1912390d2",
       "version_major": 2,
       "version_minor": 0
      },
      "text/plain": [
       "  0%|          | 0/2 [00:00<?, ?it/s]"
      ]
     },
     "metadata": {},
     "output_type": "display_data"
    },
    {
     "data": {
      "application/vnd.jupyter.widget-view+json": {
       "model_id": "79bdcfc070774f9c85709aaf5d639094",
       "version_major": 2,
       "version_minor": 0
      },
      "text/plain": [
       "  0%|          | 0/2 [00:00<?, ?it/s]"
      ]
     },
     "metadata": {},
     "output_type": "display_data"
    },
    {
     "data": {
      "application/vnd.jupyter.widget-view+json": {
       "model_id": "347fad29d982443db8ab5319560b2326",
       "version_major": 2,
       "version_minor": 0
      },
      "text/plain": [
       "  0%|          | 0/2 [00:00<?, ?it/s]"
      ]
     },
     "metadata": {},
     "output_type": "display_data"
    },
    {
     "data": {
      "application/vnd.jupyter.widget-view+json": {
       "model_id": "64748f32875c4be0b2f912695c4d3602",
       "version_major": 2,
       "version_minor": 0
      },
      "text/plain": [
       "  0%|          | 0/2 [00:00<?, ?it/s]"
      ]
     },
     "metadata": {},
     "output_type": "display_data"
    },
    {
     "data": {
      "application/vnd.jupyter.widget-view+json": {
       "model_id": "b6f37466e6d54c60be6c738d805eb6b9",
       "version_major": 2,
       "version_minor": 0
      },
      "text/plain": [
       "  0%|          | 0/2 [00:00<?, ?it/s]"
      ]
     },
     "metadata": {},
     "output_type": "display_data"
    },
    {
     "data": {
      "application/vnd.jupyter.widget-view+json": {
       "model_id": "47bcc1824ffa466b85751370aaf8370f",
       "version_major": 2,
       "version_minor": 0
      },
      "text/plain": [
       "  0%|          | 0/2 [00:00<?, ?it/s]"
      ]
     },
     "metadata": {},
     "output_type": "display_data"
    },
    {
     "data": {
      "application/vnd.jupyter.widget-view+json": {
       "model_id": "c55f167fd0fc4e51a7d0014f5778b017",
       "version_major": 2,
       "version_minor": 0
      },
      "text/plain": [
       "  0%|          | 0/2 [00:00<?, ?it/s]"
      ]
     },
     "metadata": {},
     "output_type": "display_data"
    },
    {
     "data": {
      "application/vnd.jupyter.widget-view+json": {
       "model_id": "6c68c0407a59424588d1d4d64bf6e127",
       "version_major": 2,
       "version_minor": 0
      },
      "text/plain": [
       "  0%|          | 0/2 [00:00<?, ?it/s]"
      ]
     },
     "metadata": {},
     "output_type": "display_data"
    },
    {
     "data": {
      "application/vnd.jupyter.widget-view+json": {
       "model_id": "2d78b9de44964e2db4d7a712cfa988b2",
       "version_major": 2,
       "version_minor": 0
      },
      "text/plain": [
       "  0%|          | 0/2 [00:00<?, ?it/s]"
      ]
     },
     "metadata": {},
     "output_type": "display_data"
    },
    {
     "data": {
      "application/vnd.jupyter.widget-view+json": {
       "model_id": "58fe346c5338440fab96de9fdd9dc592",
       "version_major": 2,
       "version_minor": 0
      },
      "text/plain": [
       "  0%|          | 0/2 [00:00<?, ?it/s]"
      ]
     },
     "metadata": {},
     "output_type": "display_data"
    },
    {
     "data": {
      "application/vnd.jupyter.widget-view+json": {
       "model_id": "671f0a6dfb1c461a8651f77f874bbfbc",
       "version_major": 2,
       "version_minor": 0
      },
      "text/plain": [
       "  0%|          | 0/2 [00:00<?, ?it/s]"
      ]
     },
     "metadata": {},
     "output_type": "display_data"
    },
    {
     "data": {
      "application/vnd.jupyter.widget-view+json": {
       "model_id": "325cd1ce63b846a796f95e31fb281eca",
       "version_major": 2,
       "version_minor": 0
      },
      "text/plain": [
       "  0%|          | 0/2 [00:00<?, ?it/s]"
      ]
     },
     "metadata": {},
     "output_type": "display_data"
    },
    {
     "data": {
      "application/vnd.jupyter.widget-view+json": {
       "model_id": "a5ba813f5ca64b62a5ec7101b53bf82d",
       "version_major": 2,
       "version_minor": 0
      },
      "text/plain": [
       "  0%|          | 0/2 [00:00<?, ?it/s]"
      ]
     },
     "metadata": {},
     "output_type": "display_data"
    },
    {
     "data": {
      "application/vnd.jupyter.widget-view+json": {
       "model_id": "1cceecaf5f73493fa7e613c3ea5b3b7a",
       "version_major": 2,
       "version_minor": 0
      },
      "text/plain": [
       "  0%|          | 0/2 [00:00<?, ?it/s]"
      ]
     },
     "metadata": {},
     "output_type": "display_data"
    },
    {
     "data": {
      "application/vnd.jupyter.widget-view+json": {
       "model_id": "90cfa32941484bc2abcbecdf8728bcd7",
       "version_major": 2,
       "version_minor": 0
      },
      "text/plain": [
       "  0%|          | 0/2 [00:00<?, ?it/s]"
      ]
     },
     "metadata": {},
     "output_type": "display_data"
    },
    {
     "data": {
      "application/vnd.jupyter.widget-view+json": {
       "model_id": "756fef47c17043eb9866768f7b83b39f",
       "version_major": 2,
       "version_minor": 0
      },
      "text/plain": [
       "  0%|          | 0/2 [00:00<?, ?it/s]"
      ]
     },
     "metadata": {},
     "output_type": "display_data"
    },
    {
     "data": {
      "application/vnd.jupyter.widget-view+json": {
       "model_id": "b452e468f36e4411a9bf5a7598e964ff",
       "version_major": 2,
       "version_minor": 0
      },
      "text/plain": [
       "  0%|          | 0/2 [00:00<?, ?it/s]"
      ]
     },
     "metadata": {},
     "output_type": "display_data"
    },
    {
     "data": {
      "application/vnd.jupyter.widget-view+json": {
       "model_id": "a58b2dd42a1e46bdaddcff497cca2146",
       "version_major": 2,
       "version_minor": 0
      },
      "text/plain": [
       "  0%|          | 0/2 [00:00<?, ?it/s]"
      ]
     },
     "metadata": {},
     "output_type": "display_data"
    },
    {
     "data": {
      "application/vnd.jupyter.widget-view+json": {
       "model_id": "2a1d59a50c414239b1dca2188a038faa",
       "version_major": 2,
       "version_minor": 0
      },
      "text/plain": [
       "  0%|          | 0/2 [00:00<?, ?it/s]"
      ]
     },
     "metadata": {},
     "output_type": "display_data"
    },
    {
     "data": {
      "application/vnd.jupyter.widget-view+json": {
       "model_id": "57f8289cd8654316b66a218d200007c4",
       "version_major": 2,
       "version_minor": 0
      },
      "text/plain": [
       "  0%|          | 0/2 [00:00<?, ?it/s]"
      ]
     },
     "metadata": {},
     "output_type": "display_data"
    },
    {
     "data": {
      "application/vnd.jupyter.widget-view+json": {
       "model_id": "1ca7ed358965439d9c99608404bc184c",
       "version_major": 2,
       "version_minor": 0
      },
      "text/plain": [
       "  0%|          | 0/2 [00:00<?, ?it/s]"
      ]
     },
     "metadata": {},
     "output_type": "display_data"
    },
    {
     "data": {
      "application/vnd.jupyter.widget-view+json": {
       "model_id": "b5a1a1c2c13747b683fda1c2cb066e95",
       "version_major": 2,
       "version_minor": 0
      },
      "text/plain": [
       "  0%|          | 0/2 [00:00<?, ?it/s]"
      ]
     },
     "metadata": {},
     "output_type": "display_data"
    },
    {
     "data": {
      "application/vnd.jupyter.widget-view+json": {
       "model_id": "0f53866783a94b589f46c7aa8e4695da",
       "version_major": 2,
       "version_minor": 0
      },
      "text/plain": [
       "  0%|          | 0/2 [00:00<?, ?it/s]"
      ]
     },
     "metadata": {},
     "output_type": "display_data"
    },
    {
     "data": {
      "application/vnd.jupyter.widget-view+json": {
       "model_id": "2fbefc071fe542848b995ec97655b1de",
       "version_major": 2,
       "version_minor": 0
      },
      "text/plain": [
       "  0%|          | 0/2 [00:00<?, ?it/s]"
      ]
     },
     "metadata": {},
     "output_type": "display_data"
    },
    {
     "data": {
      "application/vnd.jupyter.widget-view+json": {
       "model_id": "96aab455222b4476808b82230b5868ce",
       "version_major": 2,
       "version_minor": 0
      },
      "text/plain": [
       "  0%|          | 0/2 [00:00<?, ?it/s]"
      ]
     },
     "metadata": {},
     "output_type": "display_data"
    },
    {
     "data": {
      "application/vnd.jupyter.widget-view+json": {
       "model_id": "b8750592ae1e4c2f86420ddd2d7f34b8",
       "version_major": 2,
       "version_minor": 0
      },
      "text/plain": [
       "  0%|          | 0/2 [00:00<?, ?it/s]"
      ]
     },
     "metadata": {},
     "output_type": "display_data"
    },
    {
     "data": {
      "application/vnd.jupyter.widget-view+json": {
       "model_id": "9295c3ed349f4a34b5657140f787088e",
       "version_major": 2,
       "version_minor": 0
      },
      "text/plain": [
       "  0%|          | 0/2 [00:00<?, ?it/s]"
      ]
     },
     "metadata": {},
     "output_type": "display_data"
    },
    {
     "data": {
      "application/vnd.jupyter.widget-view+json": {
       "model_id": "f251731399bd48408445d6aa38e452f0",
       "version_major": 2,
       "version_minor": 0
      },
      "text/plain": [
       "  0%|          | 0/2 [00:00<?, ?it/s]"
      ]
     },
     "metadata": {},
     "output_type": "display_data"
    },
    {
     "data": {
      "application/vnd.jupyter.widget-view+json": {
       "model_id": "76cf8c5c21454d24b2b90be23a57ed96",
       "version_major": 2,
       "version_minor": 0
      },
      "text/plain": [
       "  0%|          | 0/2 [00:00<?, ?it/s]"
      ]
     },
     "metadata": {},
     "output_type": "display_data"
    },
    {
     "data": {
      "application/vnd.jupyter.widget-view+json": {
       "model_id": "1a556cbaee7747ec979e63775b9ceb5e",
       "version_major": 2,
       "version_minor": 0
      },
      "text/plain": [
       "  0%|          | 0/2 [00:00<?, ?it/s]"
      ]
     },
     "metadata": {},
     "output_type": "display_data"
    },
    {
     "data": {
      "application/vnd.jupyter.widget-view+json": {
       "model_id": "6a1230a8625d485482e266ef71c554c8",
       "version_major": 2,
       "version_minor": 0
      },
      "text/plain": [
       "  0%|          | 0/2 [00:00<?, ?it/s]"
      ]
     },
     "metadata": {},
     "output_type": "display_data"
    },
    {
     "data": {
      "application/vnd.jupyter.widget-view+json": {
       "model_id": "4fadc6db638f45c18d78b9937bdd3648",
       "version_major": 2,
       "version_minor": 0
      },
      "text/plain": [
       "  0%|          | 0/2 [00:00<?, ?it/s]"
      ]
     },
     "metadata": {},
     "output_type": "display_data"
    },
    {
     "data": {
      "application/vnd.jupyter.widget-view+json": {
       "model_id": "1938c5929a064fcabc9e75c68921eecb",
       "version_major": 2,
       "version_minor": 0
      },
      "text/plain": [
       "  0%|          | 0/2 [00:00<?, ?it/s]"
      ]
     },
     "metadata": {},
     "output_type": "display_data"
    },
    {
     "data": {
      "application/vnd.jupyter.widget-view+json": {
       "model_id": "eecfdfe94d75464daba979d53eba5212",
       "version_major": 2,
       "version_minor": 0
      },
      "text/plain": [
       "  0%|          | 0/2 [00:00<?, ?it/s]"
      ]
     },
     "metadata": {},
     "output_type": "display_data"
    },
    {
     "data": {
      "application/vnd.jupyter.widget-view+json": {
       "model_id": "ffb22463d2274234b74d8e886b870907",
       "version_major": 2,
       "version_minor": 0
      },
      "text/plain": [
       "  0%|          | 0/2 [00:00<?, ?it/s]"
      ]
     },
     "metadata": {},
     "output_type": "display_data"
    },
    {
     "data": {
      "application/vnd.jupyter.widget-view+json": {
       "model_id": "c6015b098a4e406c827d840e9224f0ca",
       "version_major": 2,
       "version_minor": 0
      },
      "text/plain": [
       "  0%|          | 0/2 [00:00<?, ?it/s]"
      ]
     },
     "metadata": {},
     "output_type": "display_data"
    },
    {
     "data": {
      "application/vnd.jupyter.widget-view+json": {
       "model_id": "9e7c27cf0361481c92b1cb64b1db87c8",
       "version_major": 2,
       "version_minor": 0
      },
      "text/plain": [
       "  0%|          | 0/2 [00:00<?, ?it/s]"
      ]
     },
     "metadata": {},
     "output_type": "display_data"
    },
    {
     "data": {
      "application/vnd.jupyter.widget-view+json": {
       "model_id": "7a3250aa50ed4ae5bcf6941fbdfe052b",
       "version_major": 2,
       "version_minor": 0
      },
      "text/plain": [
       "  0%|          | 0/2 [00:00<?, ?it/s]"
      ]
     },
     "metadata": {},
     "output_type": "display_data"
    },
    {
     "data": {
      "application/vnd.jupyter.widget-view+json": {
       "model_id": "2fd964f489c4491e941b0ebf8d2975e1",
       "version_major": 2,
       "version_minor": 0
      },
      "text/plain": [
       "  0%|          | 0/2 [00:00<?, ?it/s]"
      ]
     },
     "metadata": {},
     "output_type": "display_data"
    },
    {
     "data": {
      "application/vnd.jupyter.widget-view+json": {
       "model_id": "eb9a23b859854f84bff7663f728f98e4",
       "version_major": 2,
       "version_minor": 0
      },
      "text/plain": [
       "  0%|          | 0/2 [00:00<?, ?it/s]"
      ]
     },
     "metadata": {},
     "output_type": "display_data"
    },
    {
     "data": {
      "application/vnd.jupyter.widget-view+json": {
       "model_id": "a3fd57fd75a8494c9cbba537330cc8a6",
       "version_major": 2,
       "version_minor": 0
      },
      "text/plain": [
       "  0%|          | 0/2 [00:00<?, ?it/s]"
      ]
     },
     "metadata": {},
     "output_type": "display_data"
    },
    {
     "data": {
      "application/vnd.jupyter.widget-view+json": {
       "model_id": "ff9244ee2bf04dbb9980ec89bddf3aff",
       "version_major": 2,
       "version_minor": 0
      },
      "text/plain": [
       "  0%|          | 0/2 [00:00<?, ?it/s]"
      ]
     },
     "metadata": {},
     "output_type": "display_data"
    },
    {
     "data": {
      "application/vnd.jupyter.widget-view+json": {
       "model_id": "ef56e07edfc24e87999f2c8f135da829",
       "version_major": 2,
       "version_minor": 0
      },
      "text/plain": [
       "  0%|          | 0/2 [00:00<?, ?it/s]"
      ]
     },
     "metadata": {},
     "output_type": "display_data"
    },
    {
     "data": {
      "application/vnd.jupyter.widget-view+json": {
       "model_id": "89af99972a984a719517ea30f02bb5ff",
       "version_major": 2,
       "version_minor": 0
      },
      "text/plain": [
       "  0%|          | 0/2 [00:00<?, ?it/s]"
      ]
     },
     "metadata": {},
     "output_type": "display_data"
    },
    {
     "data": {
      "application/vnd.jupyter.widget-view+json": {
       "model_id": "b21b924c60f749c5a9d4af0bbafab426",
       "version_major": 2,
       "version_minor": 0
      },
      "text/plain": [
       "  0%|          | 0/2 [00:00<?, ?it/s]"
      ]
     },
     "metadata": {},
     "output_type": "display_data"
    },
    {
     "data": {
      "application/vnd.jupyter.widget-view+json": {
       "model_id": "29ddf43fc7fb4b9685f705e5feef546d",
       "version_major": 2,
       "version_minor": 0
      },
      "text/plain": [
       "  0%|          | 0/2 [00:00<?, ?it/s]"
      ]
     },
     "metadata": {},
     "output_type": "display_data"
    },
    {
     "data": {
      "application/vnd.jupyter.widget-view+json": {
       "model_id": "aab4e6512ebb4f198803a6b4fe0cc00b",
       "version_major": 2,
       "version_minor": 0
      },
      "text/plain": [
       "  0%|          | 0/2 [00:00<?, ?it/s]"
      ]
     },
     "metadata": {},
     "output_type": "display_data"
    },
    {
     "data": {
      "application/vnd.jupyter.widget-view+json": {
       "model_id": "d0a80158311046ac8fe11f2b2f971d8f",
       "version_major": 2,
       "version_minor": 0
      },
      "text/plain": [
       "  0%|          | 0/2 [00:00<?, ?it/s]"
      ]
     },
     "metadata": {},
     "output_type": "display_data"
    },
    {
     "data": {
      "application/vnd.jupyter.widget-view+json": {
       "model_id": "cc16c00f534f48fcb90c920897510d79",
       "version_major": 2,
       "version_minor": 0
      },
      "text/plain": [
       "  0%|          | 0/2 [00:00<?, ?it/s]"
      ]
     },
     "metadata": {},
     "output_type": "display_data"
    },
    {
     "data": {
      "application/vnd.jupyter.widget-view+json": {
       "model_id": "10058afaa5ab4c59a47e274a900d776f",
       "version_major": 2,
       "version_minor": 0
      },
      "text/plain": [
       "  0%|          | 0/2 [00:00<?, ?it/s]"
      ]
     },
     "metadata": {},
     "output_type": "display_data"
    },
    {
     "data": {
      "application/vnd.jupyter.widget-view+json": {
       "model_id": "f7f12c3960c04c5c97a406c61b4e76bb",
       "version_major": 2,
       "version_minor": 0
      },
      "text/plain": [
       "  0%|          | 0/2 [00:00<?, ?it/s]"
      ]
     },
     "metadata": {},
     "output_type": "display_data"
    },
    {
     "data": {
      "application/vnd.jupyter.widget-view+json": {
       "model_id": "8feb6e935ae64ffdaaf0d004f6c58fd8",
       "version_major": 2,
       "version_minor": 0
      },
      "text/plain": [
       "  0%|          | 0/2 [00:00<?, ?it/s]"
      ]
     },
     "metadata": {},
     "output_type": "display_data"
    },
    {
     "data": {
      "application/vnd.jupyter.widget-view+json": {
       "model_id": "ec71f52c45db4374997ebc5afe1ba108",
       "version_major": 2,
       "version_minor": 0
      },
      "text/plain": [
       "  0%|          | 0/2 [00:00<?, ?it/s]"
      ]
     },
     "metadata": {},
     "output_type": "display_data"
    },
    {
     "data": {
      "application/vnd.jupyter.widget-view+json": {
       "model_id": "62ccf5e95bb4435db497df85a402e7a0",
       "version_major": 2,
       "version_minor": 0
      },
      "text/plain": [
       "  0%|          | 0/2 [00:00<?, ?it/s]"
      ]
     },
     "metadata": {},
     "output_type": "display_data"
    },
    {
     "data": {
      "application/vnd.jupyter.widget-view+json": {
       "model_id": "2459b0bdd1a74ad4b02dc31bf07a1eeb",
       "version_major": 2,
       "version_minor": 0
      },
      "text/plain": [
       "  0%|          | 0/2 [00:00<?, ?it/s]"
      ]
     },
     "metadata": {},
     "output_type": "display_data"
    },
    {
     "data": {
      "application/vnd.jupyter.widget-view+json": {
       "model_id": "7188460ed7f4439d86e98cab62016372",
       "version_major": 2,
       "version_minor": 0
      },
      "text/plain": [
       "  0%|          | 0/2 [00:00<?, ?it/s]"
      ]
     },
     "metadata": {},
     "output_type": "display_data"
    },
    {
     "data": {
      "application/vnd.jupyter.widget-view+json": {
       "model_id": "93eaf108462542dcabe136412d81542e",
       "version_major": 2,
       "version_minor": 0
      },
      "text/plain": [
       "  0%|          | 0/2 [00:00<?, ?it/s]"
      ]
     },
     "metadata": {},
     "output_type": "display_data"
    },
    {
     "data": {
      "application/vnd.jupyter.widget-view+json": {
       "model_id": "cad4730489534a609d04a967e97f35d3",
       "version_major": 2,
       "version_minor": 0
      },
      "text/plain": [
       "  0%|          | 0/2 [00:00<?, ?it/s]"
      ]
     },
     "metadata": {},
     "output_type": "display_data"
    },
    {
     "data": {
      "application/vnd.jupyter.widget-view+json": {
       "model_id": "18310915256e4e62ac955134ac0c5969",
       "version_major": 2,
       "version_minor": 0
      },
      "text/plain": [
       "  0%|          | 0/2 [00:00<?, ?it/s]"
      ]
     },
     "metadata": {},
     "output_type": "display_data"
    },
    {
     "data": {
      "application/vnd.jupyter.widget-view+json": {
       "model_id": "4d7dccd17e644b2fb1bcce551c46640b",
       "version_major": 2,
       "version_minor": 0
      },
      "text/plain": [
       "  0%|          | 0/2 [00:00<?, ?it/s]"
      ]
     },
     "metadata": {},
     "output_type": "display_data"
    },
    {
     "data": {
      "application/vnd.jupyter.widget-view+json": {
       "model_id": "b249c84c3b0648209062a0c34201ace3",
       "version_major": 2,
       "version_minor": 0
      },
      "text/plain": [
       "  0%|          | 0/2 [00:00<?, ?it/s]"
      ]
     },
     "metadata": {},
     "output_type": "display_data"
    },
    {
     "data": {
      "application/vnd.jupyter.widget-view+json": {
       "model_id": "e7abc63d87a34db3a5ed1e51a77ba10b",
       "version_major": 2,
       "version_minor": 0
      },
      "text/plain": [
       "  0%|          | 0/2 [00:00<?, ?it/s]"
      ]
     },
     "metadata": {},
     "output_type": "display_data"
    },
    {
     "data": {
      "application/vnd.jupyter.widget-view+json": {
       "model_id": "a8b11e31dae14d0f944f45905d3a91b2",
       "version_major": 2,
       "version_minor": 0
      },
      "text/plain": [
       "  0%|          | 0/2 [00:00<?, ?it/s]"
      ]
     },
     "metadata": {},
     "output_type": "display_data"
    },
    {
     "data": {
      "application/vnd.jupyter.widget-view+json": {
       "model_id": "49568744dbc04537a5a1e1d39f597db2",
       "version_major": 2,
       "version_minor": 0
      },
      "text/plain": [
       "  0%|          | 0/2 [00:00<?, ?it/s]"
      ]
     },
     "metadata": {},
     "output_type": "display_data"
    },
    {
     "data": {
      "application/vnd.jupyter.widget-view+json": {
       "model_id": "dde32928bd9647d7930e753cd4c5dae1",
       "version_major": 2,
       "version_minor": 0
      },
      "text/plain": [
       "  0%|          | 0/2 [00:00<?, ?it/s]"
      ]
     },
     "metadata": {},
     "output_type": "display_data"
    },
    {
     "data": {
      "application/vnd.jupyter.widget-view+json": {
       "model_id": "48b2e0b06fe54ebe9f65b79592845904",
       "version_major": 2,
       "version_minor": 0
      },
      "text/plain": [
       "  0%|          | 0/2 [00:00<?, ?it/s]"
      ]
     },
     "metadata": {},
     "output_type": "display_data"
    },
    {
     "data": {
      "application/vnd.jupyter.widget-view+json": {
       "model_id": "e85c969e32054fea86d2f78eb0487da1",
       "version_major": 2,
       "version_minor": 0
      },
      "text/plain": [
       "  0%|          | 0/2 [00:00<?, ?it/s]"
      ]
     },
     "metadata": {},
     "output_type": "display_data"
    },
    {
     "data": {
      "application/vnd.jupyter.widget-view+json": {
       "model_id": "9e508c9958514c518ebb7ba4c76f180b",
       "version_major": 2,
       "version_minor": 0
      },
      "text/plain": [
       "  0%|          | 0/2 [00:00<?, ?it/s]"
      ]
     },
     "metadata": {},
     "output_type": "display_data"
    },
    {
     "data": {
      "application/vnd.jupyter.widget-view+json": {
       "model_id": "b92ddefa120941a7a823d1ff9d385585",
       "version_major": 2,
       "version_minor": 0
      },
      "text/plain": [
       "  0%|          | 0/2 [00:00<?, ?it/s]"
      ]
     },
     "metadata": {},
     "output_type": "display_data"
    },
    {
     "data": {
      "application/vnd.jupyter.widget-view+json": {
       "model_id": "75ee611250b04e3d9c27fbbfa35e3ed0",
       "version_major": 2,
       "version_minor": 0
      },
      "text/plain": [
       "  0%|          | 0/2 [00:00<?, ?it/s]"
      ]
     },
     "metadata": {},
     "output_type": "display_data"
    },
    {
     "data": {
      "application/vnd.jupyter.widget-view+json": {
       "model_id": "2aa6dee33d9a4eaab9a9fe81393e95e3",
       "version_major": 2,
       "version_minor": 0
      },
      "text/plain": [
       "  0%|          | 0/2 [00:00<?, ?it/s]"
      ]
     },
     "metadata": {},
     "output_type": "display_data"
    },
    {
     "data": {
      "application/vnd.jupyter.widget-view+json": {
       "model_id": "7f7f17e2afaa4e9bb802543f013be32f",
       "version_major": 2,
       "version_minor": 0
      },
      "text/plain": [
       "  0%|          | 0/2 [00:00<?, ?it/s]"
      ]
     },
     "metadata": {},
     "output_type": "display_data"
    },
    {
     "data": {
      "application/vnd.jupyter.widget-view+json": {
       "model_id": "49af8a75c6704a91b62dbc7357c98ae6",
       "version_major": 2,
       "version_minor": 0
      },
      "text/plain": [
       "  0%|          | 0/2 [00:00<?, ?it/s]"
      ]
     },
     "metadata": {},
     "output_type": "display_data"
    },
    {
     "data": {
      "application/vnd.jupyter.widget-view+json": {
       "model_id": "5067e9db1a924bd2919692429b3e222f",
       "version_major": 2,
       "version_minor": 0
      },
      "text/plain": [
       "  0%|          | 0/2 [00:00<?, ?it/s]"
      ]
     },
     "metadata": {},
     "output_type": "display_data"
    },
    {
     "data": {
      "application/vnd.jupyter.widget-view+json": {
       "model_id": "925487bf28434d4babdf4441044b3949",
       "version_major": 2,
       "version_minor": 0
      },
      "text/plain": [
       "  0%|          | 0/2 [00:00<?, ?it/s]"
      ]
     },
     "metadata": {},
     "output_type": "display_data"
    },
    {
     "data": {
      "application/vnd.jupyter.widget-view+json": {
       "model_id": "5a2d5d8ba3074dca9bbdda9d0318a178",
       "version_major": 2,
       "version_minor": 0
      },
      "text/plain": [
       "  0%|          | 0/2 [00:00<?, ?it/s]"
      ]
     },
     "metadata": {},
     "output_type": "display_data"
    },
    {
     "data": {
      "application/vnd.jupyter.widget-view+json": {
       "model_id": "93efa6b14d6a4fdfb5f70c926998cc72",
       "version_major": 2,
       "version_minor": 0
      },
      "text/plain": [
       "  0%|          | 0/2 [00:00<?, ?it/s]"
      ]
     },
     "metadata": {},
     "output_type": "display_data"
    },
    {
     "data": {
      "application/vnd.jupyter.widget-view+json": {
       "model_id": "5dbfcb9a1b1246d99c02481bacc334a9",
       "version_major": 2,
       "version_minor": 0
      },
      "text/plain": [
       "  0%|          | 0/2 [00:00<?, ?it/s]"
      ]
     },
     "metadata": {},
     "output_type": "display_data"
    },
    {
     "data": {
      "application/vnd.jupyter.widget-view+json": {
       "model_id": "c290663f193744cb8de77a78e81256fd",
       "version_major": 2,
       "version_minor": 0
      },
      "text/plain": [
       "  0%|          | 0/2 [00:00<?, ?it/s]"
      ]
     },
     "metadata": {},
     "output_type": "display_data"
    },
    {
     "data": {
      "application/vnd.jupyter.widget-view+json": {
       "model_id": "535a4ccb748c4ecbacc7517958a89981",
       "version_major": 2,
       "version_minor": 0
      },
      "text/plain": [
       "  0%|          | 0/2 [00:00<?, ?it/s]"
      ]
     },
     "metadata": {},
     "output_type": "display_data"
    },
    {
     "data": {
      "application/vnd.jupyter.widget-view+json": {
       "model_id": "cb816fba7cda4139baef53144c8f644f",
       "version_major": 2,
       "version_minor": 0
      },
      "text/plain": [
       "  0%|          | 0/2 [00:00<?, ?it/s]"
      ]
     },
     "metadata": {},
     "output_type": "display_data"
    },
    {
     "data": {
      "application/vnd.jupyter.widget-view+json": {
       "model_id": "884eeaa4a6c84599a728f3c013d70066",
       "version_major": 2,
       "version_minor": 0
      },
      "text/plain": [
       "  0%|          | 0/2 [00:00<?, ?it/s]"
      ]
     },
     "metadata": {},
     "output_type": "display_data"
    },
    {
     "data": {
      "application/vnd.jupyter.widget-view+json": {
       "model_id": "51e12f74e0594d5291fe9dc0b0e2d567",
       "version_major": 2,
       "version_minor": 0
      },
      "text/plain": [
       "  0%|          | 0/2 [00:00<?, ?it/s]"
      ]
     },
     "metadata": {},
     "output_type": "display_data"
    },
    {
     "data": {
      "application/vnd.jupyter.widget-view+json": {
       "model_id": "007a0729d52441bb9a4e66b7e5ce6c21",
       "version_major": 2,
       "version_minor": 0
      },
      "text/plain": [
       "  0%|          | 0/2 [00:00<?, ?it/s]"
      ]
     },
     "metadata": {},
     "output_type": "display_data"
    },
    {
     "data": {
      "application/vnd.jupyter.widget-view+json": {
       "model_id": "06d19c4a44f64ca182c19fbdfc925bf6",
       "version_major": 2,
       "version_minor": 0
      },
      "text/plain": [
       "  0%|          | 0/2 [00:00<?, ?it/s]"
      ]
     },
     "metadata": {},
     "output_type": "display_data"
    },
    {
     "data": {
      "application/vnd.jupyter.widget-view+json": {
       "model_id": "d632676246c84619afe04688102cbd99",
       "version_major": 2,
       "version_minor": 0
      },
      "text/plain": [
       "  0%|          | 0/2 [00:00<?, ?it/s]"
      ]
     },
     "metadata": {},
     "output_type": "display_data"
    },
    {
     "data": {
      "application/vnd.jupyter.widget-view+json": {
       "model_id": "6aa370e050aa4529a90068ac03f9487e",
       "version_major": 2,
       "version_minor": 0
      },
      "text/plain": [
       "  0%|          | 0/2 [00:00<?, ?it/s]"
      ]
     },
     "metadata": {},
     "output_type": "display_data"
    },
    {
     "data": {
      "application/vnd.jupyter.widget-view+json": {
       "model_id": "d9106a4dc87f488c966d30915ab69ecb",
       "version_major": 2,
       "version_minor": 0
      },
      "text/plain": [
       "  0%|          | 0/2 [00:00<?, ?it/s]"
      ]
     },
     "metadata": {},
     "output_type": "display_data"
    },
    {
     "data": {
      "application/vnd.jupyter.widget-view+json": {
       "model_id": "5f4c2433ab4f4019893f996c1ba463d4",
       "version_major": 2,
       "version_minor": 0
      },
      "text/plain": [
       "  0%|          | 0/2 [00:00<?, ?it/s]"
      ]
     },
     "metadata": {},
     "output_type": "display_data"
    },
    {
     "data": {
      "application/vnd.jupyter.widget-view+json": {
       "model_id": "6e04068a8e0341d38c1cec4e52788b8c",
       "version_major": 2,
       "version_minor": 0
      },
      "text/plain": [
       "  0%|          | 0/2 [00:00<?, ?it/s]"
      ]
     },
     "metadata": {},
     "output_type": "display_data"
    },
    {
     "data": {
      "application/vnd.jupyter.widget-view+json": {
       "model_id": "cf59bc774fec4967a090e868ff960062",
       "version_major": 2,
       "version_minor": 0
      },
      "text/plain": [
       "  0%|          | 0/2 [00:00<?, ?it/s]"
      ]
     },
     "metadata": {},
     "output_type": "display_data"
    },
    {
     "data": {
      "application/vnd.jupyter.widget-view+json": {
       "model_id": "0a718dfa2eb54ca595906c0468da14b8",
       "version_major": 2,
       "version_minor": 0
      },
      "text/plain": [
       "  0%|          | 0/2 [00:00<?, ?it/s]"
      ]
     },
     "metadata": {},
     "output_type": "display_data"
    },
    {
     "data": {
      "application/vnd.jupyter.widget-view+json": {
       "model_id": "af7831014e8b4bc7bad4f3884960c522",
       "version_major": 2,
       "version_minor": 0
      },
      "text/plain": [
       "  0%|          | 0/2 [00:00<?, ?it/s]"
      ]
     },
     "metadata": {},
     "output_type": "display_data"
    },
    {
     "data": {
      "application/vnd.jupyter.widget-view+json": {
       "model_id": "53d6259e31684aa99354a14cb989c1b2",
       "version_major": 2,
       "version_minor": 0
      },
      "text/plain": [
       "  0%|          | 0/2 [00:00<?, ?it/s]"
      ]
     },
     "metadata": {},
     "output_type": "display_data"
    },
    {
     "data": {
      "application/vnd.jupyter.widget-view+json": {
       "model_id": "d48ac188b2db4183a0fcd01ab7b078d7",
       "version_major": 2,
       "version_minor": 0
      },
      "text/plain": [
       "  0%|          | 0/2 [00:00<?, ?it/s]"
      ]
     },
     "metadata": {},
     "output_type": "display_data"
    },
    {
     "data": {
      "application/vnd.jupyter.widget-view+json": {
       "model_id": "c27e3c2977ab414b82847d5465ca9c7b",
       "version_major": 2,
       "version_minor": 0
      },
      "text/plain": [
       "  0%|          | 0/2 [00:00<?, ?it/s]"
      ]
     },
     "metadata": {},
     "output_type": "display_data"
    },
    {
     "data": {
      "application/vnd.jupyter.widget-view+json": {
       "model_id": "3b2f8d2f125b45c4872beebd57a92872",
       "version_major": 2,
       "version_minor": 0
      },
      "text/plain": [
       "  0%|          | 0/2 [00:00<?, ?it/s]"
      ]
     },
     "metadata": {},
     "output_type": "display_data"
    },
    {
     "data": {
      "application/vnd.jupyter.widget-view+json": {
       "model_id": "b899b835c9c6495e9ab6f1bbef176c80",
       "version_major": 2,
       "version_minor": 0
      },
      "text/plain": [
       "  0%|          | 0/2 [00:00<?, ?it/s]"
      ]
     },
     "metadata": {},
     "output_type": "display_data"
    },
    {
     "data": {
      "application/vnd.jupyter.widget-view+json": {
       "model_id": "34c20469c81940d4bf9ef3deffb6fe74",
       "version_major": 2,
       "version_minor": 0
      },
      "text/plain": [
       "  0%|          | 0/2 [00:00<?, ?it/s]"
      ]
     },
     "metadata": {},
     "output_type": "display_data"
    },
    {
     "data": {
      "application/vnd.jupyter.widget-view+json": {
       "model_id": "f27e0c0687254b8f8da306fcd847b162",
       "version_major": 2,
       "version_minor": 0
      },
      "text/plain": [
       "  0%|          | 0/2 [00:00<?, ?it/s]"
      ]
     },
     "metadata": {},
     "output_type": "display_data"
    },
    {
     "data": {
      "application/vnd.jupyter.widget-view+json": {
       "model_id": "432543a487b94cdd8a233a853342b781",
       "version_major": 2,
       "version_minor": 0
      },
      "text/plain": [
       "  0%|          | 0/2 [00:00<?, ?it/s]"
      ]
     },
     "metadata": {},
     "output_type": "display_data"
    },
    {
     "data": {
      "application/vnd.jupyter.widget-view+json": {
       "model_id": "bfa44b47fa784ca4bf1a7890fa868e70",
       "version_major": 2,
       "version_minor": 0
      },
      "text/plain": [
       "  0%|          | 0/2 [00:00<?, ?it/s]"
      ]
     },
     "metadata": {},
     "output_type": "display_data"
    },
    {
     "data": {
      "application/vnd.jupyter.widget-view+json": {
       "model_id": "523076d840b74eebaff4ade7100c8eaa",
       "version_major": 2,
       "version_minor": 0
      },
      "text/plain": [
       "  0%|          | 0/2 [00:00<?, ?it/s]"
      ]
     },
     "metadata": {},
     "output_type": "display_data"
    },
    {
     "data": {
      "application/vnd.jupyter.widget-view+json": {
       "model_id": "ad400909152b47a1998bd560bde09018",
       "version_major": 2,
       "version_minor": 0
      },
      "text/plain": [
       "  0%|          | 0/2 [00:00<?, ?it/s]"
      ]
     },
     "metadata": {},
     "output_type": "display_data"
    },
    {
     "data": {
      "application/vnd.jupyter.widget-view+json": {
       "model_id": "73dc092271e54899a9bb721db9b12f3c",
       "version_major": 2,
       "version_minor": 0
      },
      "text/plain": [
       "  0%|          | 0/2 [00:00<?, ?it/s]"
      ]
     },
     "metadata": {},
     "output_type": "display_data"
    },
    {
     "data": {
      "application/vnd.jupyter.widget-view+json": {
       "model_id": "d8d9493885534f82b08ec7b98fd735e5",
       "version_major": 2,
       "version_minor": 0
      },
      "text/plain": [
       "  0%|          | 0/2 [00:00<?, ?it/s]"
      ]
     },
     "metadata": {},
     "output_type": "display_data"
    },
    {
     "data": {
      "application/vnd.jupyter.widget-view+json": {
       "model_id": "195e8b0e081e40918ac2bbc5200d99a4",
       "version_major": 2,
       "version_minor": 0
      },
      "text/plain": [
       "  0%|          | 0/2 [00:00<?, ?it/s]"
      ]
     },
     "metadata": {},
     "output_type": "display_data"
    },
    {
     "data": {
      "application/vnd.jupyter.widget-view+json": {
       "model_id": "e7320ae2303544e8ab364ff4c2281a34",
       "version_major": 2,
       "version_minor": 0
      },
      "text/plain": [
       "  0%|          | 0/2 [00:00<?, ?it/s]"
      ]
     },
     "metadata": {},
     "output_type": "display_data"
    },
    {
     "data": {
      "application/vnd.jupyter.widget-view+json": {
       "model_id": "ca23218907ba434f92bc798d6d286ac2",
       "version_major": 2,
       "version_minor": 0
      },
      "text/plain": [
       "  0%|          | 0/2 [00:00<?, ?it/s]"
      ]
     },
     "metadata": {},
     "output_type": "display_data"
    },
    {
     "data": {
      "application/vnd.jupyter.widget-view+json": {
       "model_id": "552cb12e0fa04307a044ba640ccf93d0",
       "version_major": 2,
       "version_minor": 0
      },
      "text/plain": [
       "  0%|          | 0/2 [00:00<?, ?it/s]"
      ]
     },
     "metadata": {},
     "output_type": "display_data"
    },
    {
     "data": {
      "application/vnd.jupyter.widget-view+json": {
       "model_id": "2f16bb52b19045b497bd895375cd1adb",
       "version_major": 2,
       "version_minor": 0
      },
      "text/plain": [
       "  0%|          | 0/2 [00:00<?, ?it/s]"
      ]
     },
     "metadata": {},
     "output_type": "display_data"
    },
    {
     "data": {
      "application/vnd.jupyter.widget-view+json": {
       "model_id": "14976e54a73d4cc0ac332549061865c0",
       "version_major": 2,
       "version_minor": 0
      },
      "text/plain": [
       "  0%|          | 0/2 [00:00<?, ?it/s]"
      ]
     },
     "metadata": {},
     "output_type": "display_data"
    },
    {
     "data": {
      "application/vnd.jupyter.widget-view+json": {
       "model_id": "84513e4763dd42f29d4508be8dd34cc7",
       "version_major": 2,
       "version_minor": 0
      },
      "text/plain": [
       "  0%|          | 0/2 [00:00<?, ?it/s]"
      ]
     },
     "metadata": {},
     "output_type": "display_data"
    },
    {
     "data": {
      "application/vnd.jupyter.widget-view+json": {
       "model_id": "1909aa4021cd419186abad5a2addb13c",
       "version_major": 2,
       "version_minor": 0
      },
      "text/plain": [
       "  0%|          | 0/2 [00:00<?, ?it/s]"
      ]
     },
     "metadata": {},
     "output_type": "display_data"
    },
    {
     "data": {
      "application/vnd.jupyter.widget-view+json": {
       "model_id": "3443c49606d64fdda28605d28b6bfb1f",
       "version_major": 2,
       "version_minor": 0
      },
      "text/plain": [
       "  0%|          | 0/2 [00:00<?, ?it/s]"
      ]
     },
     "metadata": {},
     "output_type": "display_data"
    },
    {
     "data": {
      "application/vnd.jupyter.widget-view+json": {
       "model_id": "243804583fd44673a20bf5402c15c450",
       "version_major": 2,
       "version_minor": 0
      },
      "text/plain": [
       "  0%|          | 0/2 [00:00<?, ?it/s]"
      ]
     },
     "metadata": {},
     "output_type": "display_data"
    },
    {
     "data": {
      "application/vnd.jupyter.widget-view+json": {
       "model_id": "1d26b824277944b0ab6609e2c900a156",
       "version_major": 2,
       "version_minor": 0
      },
      "text/plain": [
       "  0%|          | 0/2 [00:00<?, ?it/s]"
      ]
     },
     "metadata": {},
     "output_type": "display_data"
    },
    {
     "data": {
      "application/vnd.jupyter.widget-view+json": {
       "model_id": "9fc0c572ae824a0ab8411b966261964f",
       "version_major": 2,
       "version_minor": 0
      },
      "text/plain": [
       "  0%|          | 0/2 [00:00<?, ?it/s]"
      ]
     },
     "metadata": {},
     "output_type": "display_data"
    },
    {
     "data": {
      "application/vnd.jupyter.widget-view+json": {
       "model_id": "711d1027f4874bada862cd82dcf26b4b",
       "version_major": 2,
       "version_minor": 0
      },
      "text/plain": [
       "  0%|          | 0/2 [00:00<?, ?it/s]"
      ]
     },
     "metadata": {},
     "output_type": "display_data"
    },
    {
     "data": {
      "application/vnd.jupyter.widget-view+json": {
       "model_id": "3f09e16f19d144c991ff6f3a1b0a30e6",
       "version_major": 2,
       "version_minor": 0
      },
      "text/plain": [
       "  0%|          | 0/2 [00:00<?, ?it/s]"
      ]
     },
     "metadata": {},
     "output_type": "display_data"
    },
    {
     "data": {
      "application/vnd.jupyter.widget-view+json": {
       "model_id": "e1a11012845542a09312f6c38ec7942e",
       "version_major": 2,
       "version_minor": 0
      },
      "text/plain": [
       "  0%|          | 0/2 [00:00<?, ?it/s]"
      ]
     },
     "metadata": {},
     "output_type": "display_data"
    },
    {
     "data": {
      "application/vnd.jupyter.widget-view+json": {
       "model_id": "cffdfc2883da428ba72e12883973edeb",
       "version_major": 2,
       "version_minor": 0
      },
      "text/plain": [
       "  0%|          | 0/2 [00:00<?, ?it/s]"
      ]
     },
     "metadata": {},
     "output_type": "display_data"
    },
    {
     "data": {
      "application/vnd.jupyter.widget-view+json": {
       "model_id": "41fb1f8ff97e4f5187436f81551c76ed",
       "version_major": 2,
       "version_minor": 0
      },
      "text/plain": [
       "  0%|          | 0/2 [00:00<?, ?it/s]"
      ]
     },
     "metadata": {},
     "output_type": "display_data"
    },
    {
     "data": {
      "application/vnd.jupyter.widget-view+json": {
       "model_id": "e46c5c5dc779481ba3b0a3d83f1309f8",
       "version_major": 2,
       "version_minor": 0
      },
      "text/plain": [
       "  0%|          | 0/2 [00:00<?, ?it/s]"
      ]
     },
     "metadata": {},
     "output_type": "display_data"
    },
    {
     "data": {
      "application/vnd.jupyter.widget-view+json": {
       "model_id": "dad870795f514825930ecffe69b2a9fc",
       "version_major": 2,
       "version_minor": 0
      },
      "text/plain": [
       "  0%|          | 0/2 [00:00<?, ?it/s]"
      ]
     },
     "metadata": {},
     "output_type": "display_data"
    },
    {
     "data": {
      "application/vnd.jupyter.widget-view+json": {
       "model_id": "d3d03a28325d42d585a1418c45262a44",
       "version_major": 2,
       "version_minor": 0
      },
      "text/plain": [
       "  0%|          | 0/2 [00:00<?, ?it/s]"
      ]
     },
     "metadata": {},
     "output_type": "display_data"
    },
    {
     "data": {
      "application/vnd.jupyter.widget-view+json": {
       "model_id": "8a56daee71ab4976a507167970b031e3",
       "version_major": 2,
       "version_minor": 0
      },
      "text/plain": [
       "  0%|          | 0/2 [00:00<?, ?it/s]"
      ]
     },
     "metadata": {},
     "output_type": "display_data"
    },
    {
     "data": {
      "application/vnd.jupyter.widget-view+json": {
       "model_id": "018218955c2b40f7bc8e12df1bd46071",
       "version_major": 2,
       "version_minor": 0
      },
      "text/plain": [
       "  0%|          | 0/2 [00:00<?, ?it/s]"
      ]
     },
     "metadata": {},
     "output_type": "display_data"
    },
    {
     "data": {
      "application/vnd.jupyter.widget-view+json": {
       "model_id": "0c336d70e1bf4bdab97c32ff0b28b9e5",
       "version_major": 2,
       "version_minor": 0
      },
      "text/plain": [
       "  0%|          | 0/2 [00:00<?, ?it/s]"
      ]
     },
     "metadata": {},
     "output_type": "display_data"
    },
    {
     "data": {
      "application/vnd.jupyter.widget-view+json": {
       "model_id": "1496106dae0d409a85d37e8c6d4fa6e7",
       "version_major": 2,
       "version_minor": 0
      },
      "text/plain": [
       "  0%|          | 0/2 [00:00<?, ?it/s]"
      ]
     },
     "metadata": {},
     "output_type": "display_data"
    },
    {
     "data": {
      "application/vnd.jupyter.widget-view+json": {
       "model_id": "bac0ac3dc7604b09a216d4bc8d34a135",
       "version_major": 2,
       "version_minor": 0
      },
      "text/plain": [
       "  0%|          | 0/2 [00:00<?, ?it/s]"
      ]
     },
     "metadata": {},
     "output_type": "display_data"
    }
   ],
   "source": [
    "# gpu\n",
    "from captum.attr import DeepLiftShap\n",
    "import zstandard\n",
    "import pickle\n",
    "\n",
    "task = ShapWrapper(head_model,\n",
    "           record_node_embeddings,\n",
    "           device,\n",
    "           n_records,\n",
    "              )\n",
    "\n",
    "task = task.to(device)\n",
    "explainer = DeepLiftShap(task)\n",
    "\n",
    "for endpoint_idx in tqdm(range(len(endpoints))):  \n",
    "    \n",
    "    endpoint_label = endpoints[endpoint_idx]\n",
    "    \n",
    "    temp_shap = torch.cat([\n",
    "        explainer.attribute(\n",
    "            test_batch, \n",
    "            baseline_data, \n",
    "            target=endpoint_idx).detach().cpu() \n",
    "        for test_batch in test_splits\n",
    "    ])\n",
    "        \n",
    "    fp = f\"{attrib_path}/shapmatrix_{endpoint_label}.p\"\n",
    "    save_tensor.remote(fp, temp_shap)"
   ]
  },
  {
   "cell_type": "code",
   "execution_count": null,
   "id": "63e10f1b-cb28-4fdf-bccd-e401c61d5367",
   "metadata": {},
   "outputs": [],
   "source": []
  },
  {
   "cell_type": "code",
   "execution_count": null,
   "id": "85b1c529-5240-4667-90cd-925a3a5c1dcb",
   "metadata": {},
   "outputs": [],
   "source": []
  },
  {
   "cell_type": "code",
   "execution_count": null,
   "id": "35b72685-aa0f-41ca-ae56-723630c8e765",
   "metadata": {},
   "outputs": [],
   "source": []
  },
  {
   "cell_type": "raw",
   "id": "bc6ee024-9666-4201-9c28-4ab4a050fb5f",
   "metadata": {},
   "source": [
    "# gpu\n",
    "from captum.attr import DeepLiftShap\n",
    "import zstandard\n",
    "import pickle\n",
    "\n",
    "endpoints = list(datamodule.label_mapping.values())\n",
    "\n",
    "task = ShapWrapper(ckpt_model,\n",
    "           record_node_embeddings,\n",
    "           device,\n",
    "           n_records,\n",
    "              )\n",
    "\n",
    "task = task.to(device)\n",
    "\n",
    "explainer = DeepLiftShap(task)\n",
    "\n",
    "for endpoint_idx in tqdm(range(len(endpoints))):  \n",
    "    \n",
    "    endpoint_label = endpoints[endpoint_idx]\n",
    "    temp_shap = explainer.attribute(test_data, baseline_data, target=endpoint_idx).detach().cpu()\n",
    "        \n",
    "    fp = f\"{attrib_path}/shapmatrix_{endpoint_label}.p\"\n",
    "    save_tensor.remote(fp, temp_shap)"
   ]
  },
  {
   "cell_type": "code",
   "execution_count": null,
   "id": "60d1d9be-0f87-4cbf-b5ca-ae2352b11247",
   "metadata": {},
   "outputs": [],
   "source": []
  },
  {
   "cell_type": "code",
   "execution_count": null,
   "id": "006f4094-e7ae-4fac-a2d2-705ed937fe45",
   "metadata": {},
   "outputs": [],
   "source": []
  },
  {
   "cell_type": "code",
   "execution_count": null,
   "id": "5ce51ef6-93a5-455f-9512-6f0b83e00dd2",
   "metadata": {},
   "outputs": [],
   "source": []
  },
  {
   "cell_type": "code",
   "execution_count": null,
   "id": "1169379c-3468-41a0-924e-2a6db2bde819",
   "metadata": {},
   "outputs": [],
   "source": []
  },
  {
   "cell_type": "code",
   "execution_count": null,
   "id": "a8e4ba32-da84-4894-aa53-1e20aef4ad93",
   "metadata": {},
   "outputs": [],
   "source": []
  },
  {
   "cell_type": "code",
   "execution_count": null,
   "id": "b941f7e9-c122-4a4c-9da3-f215ccbfb8cf",
   "metadata": {},
   "outputs": [],
   "source": []
  },
  {
   "cell_type": "code",
   "execution_count": null,
   "id": "36b7329c-cefb-44d8-9fa7-5d8ad7125e5d",
   "metadata": {},
   "outputs": [],
   "source": []
  },
  {
   "cell_type": "code",
   "execution_count": null,
   "id": "33340896-10ec-4282-aef7-234fd99c460f",
   "metadata": {},
   "outputs": [],
   "source": [
    "# cpu\n",
    "from captum.attr import DeepLiftShap\n",
    "import zstandard\n",
    "import pickle\n",
    "\n",
    "endpoints = list(datamodule.label_mapping.values())\n",
    "\n",
    "task = ShapWrapper(ckpt_model,\n",
    "           record_node_embeddings,\n",
    "           device,\n",
    "           n_records,\n",
    "              )\n",
    "\n",
    "task = task.to(device)\n",
    "\n",
    "batch_size=2000\n",
    "\n",
    "for endpoint_idx in tqdm(range(len(endpoints))):  \n",
    "    \n",
    "    endpoint_label = endpoints[endpoint_idx]\n",
    "    explainer = DeepLiftShap(task)\n",
    "    \n",
    "    test_splits = torch.split(test_data, batch_size)\n",
    "    \n",
    "    temp_shap = torch.cat([\n",
    "        explainer.attribute(\n",
    "            test_batch, \n",
    "            baseline_data, \n",
    "            target=endpoint_idx).detach() \n",
    "        for test_batch in tqdm(test_splits)\n",
    "    ])\n",
    "        \n",
    "    fp = f\"{attrib_path}/shapmatrix_{endpoint_label}.p\"\n",
    "    save_tensor.remote(fp, temp_shap)"
   ]
  },
  {
   "cell_type": "code",
   "execution_count": 54,
   "id": "39348018-d812-4351-af58-69e735992eb5",
   "metadata": {},
   "outputs": [
    {
     "data": {
      "text/plain": [
       "torch.Size([44193, 16204])"
      ]
     },
     "execution_count": 54,
     "metadata": {},
     "output_type": "execute_result"
    }
   ],
   "source": [
    "torch.cat(x).shape"
   ]
  },
  {
   "cell_type": "code",
   "execution_count": null,
   "id": "9871e3aa-d07a-495c-9f37-b02e07331191",
   "metadata": {},
   "outputs": [],
   "source": [
    "#shap_global[endpoint_label] = temp_shap.mean(dim=0).numpy()\n",
    "    #shap_local[endpoint_label] = (temp_shap.sum(dim=0) / (test_data > 0).sum(dim=0)).numpy()"
   ]
  },
  {
   "cell_type": "code",
   "execution_count": 80,
   "id": "5828916e-d9be-41a2-aabc-a21e6952dbdd",
   "metadata": {},
   "outputs": [],
   "source": []
  },
  {
   "cell_type": "code",
   "execution_count": 81,
   "id": "fe68af9f-f8bf-4729-8b2d-5c60ef347e0c",
   "metadata": {},
   "outputs": [],
   "source": []
  },
  {
   "cell_type": "code",
   "execution_count": 82,
   "id": "5c5d0aa8-1d79-4f55-89e0-05e32acbfb5c",
   "metadata": {},
   "outputs": [
    {
     "data": {
      "text/plain": [
       "tensor([[ 0.0000,  0.0000,  0.0000,  ...,  0.0670, -0.0037,  0.0000],\n",
       "        [ 0.0000,  0.0000,  0.0000,  ...,  0.0707,  0.0000,  0.0028],\n",
       "        [ 0.0000,  0.0000,  0.0000,  ..., -0.1326,  0.0042,  0.0000],\n",
       "        ...,\n",
       "        [ 0.0000,  0.0000,  0.0000,  ...,  0.0119,  0.0000, -0.0125],\n",
       "        [ 0.0000,  0.0000,  0.0000,  ...,  0.0772,  0.0000, -0.0020],\n",
       "        [ 0.0000,  0.0000,  0.0000,  ...,  0.0257, -0.0125,  0.0000]])"
      ]
     },
     "execution_count": 82,
     "metadata": {},
     "output_type": "execute_result"
    }
   ],
   "source": [
    "temp_shap"
   ]
  },
  {
   "cell_type": "code",
   "execution_count": 72,
   "id": "6cca285c-d288-444f-9e99-5e149ed570e1",
   "metadata": {},
   "outputs": [
    {
     "data": {
      "text/plain": [
       "<10000x16204 sparse matrix of type '<class 'numpy.float32'>'\n",
       "\twith 289993 stored elements in Compressed Sparse Row format>"
      ]
     },
     "execution_count": 72,
     "metadata": {},
     "output_type": "execute_result"
    }
   ],
   "source": [
    "import scipy\n",
    "\n",
    "scipy.sparse.csr_matrix(temp_shap.numpy())"
   ]
  },
  {
   "cell_type": "code",
   "execution_count": 75,
   "id": "3dc48907-c8db-4c65-9e32-533fbd12f4b0",
   "metadata": {},
   "outputs": [
    {
     "ename": "KeyboardInterrupt",
     "evalue": "",
     "output_type": "error",
     "traceback": [
      "\u001b[0;31m---------------------------------------------------------------------------\u001b[0m",
      "\u001b[0;31mKeyboardInterrupt\u001b[0m                         Traceback (most recent call last)",
      "    \u001b[0;31m[... skipping hidden 1 frame]\u001b[0m\n",
      "\u001b[0;32m/tmp/ipykernel_3152417/3159768055.py\u001b[0m in \u001b[0;36m<module>\u001b[0;34m\u001b[0m\n\u001b[0;32m----> 1\u001b[0;31m \u001b[0mpd\u001b[0m\u001b[0;34m.\u001b[0m\u001b[0mDataFrame\u001b[0m\u001b[0;34m(\u001b[0m\u001b[0mdata\u001b[0m\u001b[0;34m=\u001b[0m\u001b[0mtemp_shap\u001b[0m\u001b[0;34m,\u001b[0m \u001b[0mcolumns\u001b[0m\u001b[0;34m=\u001b[0m\u001b[0mdatamodule\u001b[0m\u001b[0;34m.\u001b[0m\u001b[0mrecord_cols\u001b[0m \u001b[0;34m+\u001b[0m \u001b[0;34m[\u001b[0m\u001b[0;34m'age_at_recruitment_f21022_0_0'\u001b[0m\u001b[0;34m,\u001b[0m \u001b[0;34m'sex_f31_0_0_1'\u001b[0m\u001b[0;34m,\u001b[0m \u001b[0;34m'sex_f31_0_0_0'\u001b[0m\u001b[0;34m]\u001b[0m\u001b[0;34m)\u001b[0m\u001b[0;34m\u001b[0m\u001b[0;34m\u001b[0m\u001b[0m\n\u001b[0m",
      "\u001b[0;32m~/miniconda3/envs/ehrgraphs/lib/python3.9/site-packages/pandas/core/frame.py\u001b[0m in \u001b[0;36m__init__\u001b[0;34m(self, data, index, columns, dtype, copy)\u001b[0m\n\u001b[1;32m    693\u001b[0m                         \u001b[0mcolumns\u001b[0m \u001b[0;34m=\u001b[0m \u001b[0mensure_index\u001b[0m\u001b[0;34m(\u001b[0m\u001b[0mcolumns\u001b[0m\u001b[0;34m)\u001b[0m  \u001b[0;31m# type: ignore[arg-type]\u001b[0m\u001b[0;34m\u001b[0m\u001b[0;34m\u001b[0m\u001b[0m\n\u001b[0;32m--> 694\u001b[0;31m                     arrays, columns, index = nested_data_to_arrays(\n\u001b[0m\u001b[1;32m    695\u001b[0m                         \u001b[0;31m# error: Argument 3 to \"nested_data_to_arrays\" has incompatible\u001b[0m\u001b[0;34m\u001b[0m\u001b[0;34m\u001b[0m\u001b[0m\n",
      "\u001b[0;32m~/miniconda3/envs/ehrgraphs/lib/python3.9/site-packages/pandas/core/internals/construction.py\u001b[0m in \u001b[0;36mnested_data_to_arrays\u001b[0;34m(data, columns, index, dtype)\u001b[0m\n\u001b[1;32m    482\u001b[0m \u001b[0;34m\u001b[0m\u001b[0m\n\u001b[0;32m--> 483\u001b[0;31m     \u001b[0marrays\u001b[0m\u001b[0;34m,\u001b[0m \u001b[0mcolumns\u001b[0m \u001b[0;34m=\u001b[0m \u001b[0mto_arrays\u001b[0m\u001b[0;34m(\u001b[0m\u001b[0mdata\u001b[0m\u001b[0;34m,\u001b[0m \u001b[0mcolumns\u001b[0m\u001b[0;34m,\u001b[0m \u001b[0mdtype\u001b[0m\u001b[0;34m=\u001b[0m\u001b[0mdtype\u001b[0m\u001b[0;34m)\u001b[0m\u001b[0;34m\u001b[0m\u001b[0;34m\u001b[0m\u001b[0m\n\u001b[0m\u001b[1;32m    484\u001b[0m     \u001b[0mcolumns\u001b[0m \u001b[0;34m=\u001b[0m \u001b[0mensure_index\u001b[0m\u001b[0;34m(\u001b[0m\u001b[0mcolumns\u001b[0m\u001b[0;34m)\u001b[0m\u001b[0;34m\u001b[0m\u001b[0;34m\u001b[0m\u001b[0m\n",
      "\u001b[0;32m~/miniconda3/envs/ehrgraphs/lib/python3.9/site-packages/pandas/core/internals/construction.py\u001b[0m in \u001b[0;36mto_arrays\u001b[0;34m(data, columns, dtype)\u001b[0m\n\u001b[1;32m    803\u001b[0m         \u001b[0;31m# last ditch effort\u001b[0m\u001b[0;34m\u001b[0m\u001b[0;34m\u001b[0m\u001b[0m\n\u001b[0;32m--> 804\u001b[0;31m         \u001b[0mdata\u001b[0m \u001b[0;34m=\u001b[0m \u001b[0;34m[\u001b[0m\u001b[0mtuple\u001b[0m\u001b[0;34m(\u001b[0m\u001b[0mx\u001b[0m\u001b[0;34m)\u001b[0m \u001b[0;32mfor\u001b[0m \u001b[0mx\u001b[0m \u001b[0;32min\u001b[0m \u001b[0mdata\u001b[0m\u001b[0;34m]\u001b[0m\u001b[0;34m\u001b[0m\u001b[0;34m\u001b[0m\u001b[0m\n\u001b[0m\u001b[1;32m    805\u001b[0m         \u001b[0marr\u001b[0m \u001b[0;34m=\u001b[0m \u001b[0m_list_to_arrays\u001b[0m\u001b[0;34m(\u001b[0m\u001b[0mdata\u001b[0m\u001b[0;34m)\u001b[0m\u001b[0;34m\u001b[0m\u001b[0;34m\u001b[0m\u001b[0m\n",
      "\u001b[0;32m~/miniconda3/envs/ehrgraphs/lib/python3.9/site-packages/pandas/core/internals/construction.py\u001b[0m in \u001b[0;36m<listcomp>\u001b[0;34m(.0)\u001b[0m\n\u001b[1;32m    803\u001b[0m         \u001b[0;31m# last ditch effort\u001b[0m\u001b[0;34m\u001b[0m\u001b[0;34m\u001b[0m\u001b[0m\n\u001b[0;32m--> 804\u001b[0;31m         \u001b[0mdata\u001b[0m \u001b[0;34m=\u001b[0m \u001b[0;34m[\u001b[0m\u001b[0mtuple\u001b[0m\u001b[0;34m(\u001b[0m\u001b[0mx\u001b[0m\u001b[0;34m)\u001b[0m \u001b[0;32mfor\u001b[0m \u001b[0mx\u001b[0m \u001b[0;32min\u001b[0m \u001b[0mdata\u001b[0m\u001b[0;34m]\u001b[0m\u001b[0;34m\u001b[0m\u001b[0;34m\u001b[0m\u001b[0m\n\u001b[0m\u001b[1;32m    805\u001b[0m         \u001b[0marr\u001b[0m \u001b[0;34m=\u001b[0m \u001b[0m_list_to_arrays\u001b[0m\u001b[0;34m(\u001b[0m\u001b[0mdata\u001b[0m\u001b[0;34m)\u001b[0m\u001b[0;34m\u001b[0m\u001b[0;34m\u001b[0m\u001b[0m\n",
      "\u001b[0;32m~/miniconda3/envs/ehrgraphs/lib/python3.9/site-packages/torch/_tensor.py\u001b[0m in \u001b[0;36m__iter__\u001b[0;34m(self)\u001b[0m\n\u001b[1;32m    647\u001b[0m                           'incorrect results).', category=torch.jit.TracerWarning, stacklevel=2)\n\u001b[0;32m--> 648\u001b[0;31m         \u001b[0;32mreturn\u001b[0m \u001b[0miter\u001b[0m\u001b[0;34m(\u001b[0m\u001b[0mself\u001b[0m\u001b[0;34m.\u001b[0m\u001b[0munbind\u001b[0m\u001b[0;34m(\u001b[0m\u001b[0;36m0\u001b[0m\u001b[0;34m)\u001b[0m\u001b[0;34m)\u001b[0m\u001b[0;34m\u001b[0m\u001b[0;34m\u001b[0m\u001b[0m\n\u001b[0m\u001b[1;32m    649\u001b[0m \u001b[0;34m\u001b[0m\u001b[0m\n",
      "\u001b[0;31mKeyboardInterrupt\u001b[0m: ",
      "\nDuring handling of the above exception, another exception occurred:\n",
      "\u001b[0;31mKeyboardInterrupt\u001b[0m                         Traceback (most recent call last)",
      "\u001b[0;31mKeyboardInterrupt\u001b[0m: "
     ]
    }
   ],
   "source": [
    "pd.DataFrame(data=temp_shap, columns=datamodule.record_cols + ['age_at_recruitment_f21022_0_0', 'sex_f31_0_0_1', 'sex_f31_0_0_0'])"
   ]
  },
  {
   "cell_type": "code",
   "execution_count": 45,
   "id": "89c62ea5-c791-4e3f-b8f8-ebd3be9f9a7b",
   "metadata": {
    "tags": []
   },
   "outputs": [],
   "source": [
    "# fix for covariates\n",
    "shap_local_df = pd.DataFrame(data=shap_local, \n",
    "                 index=datamodule.record_cols + ['age_at_recruitment_f21022_0_0', 'sex_f31_0_0_1', 'sex_f31_0_0_0'],\n",
    "                 columns=endpoints).rename_axis(\"record\")\n",
    "\n",
    "shap_local_df[\"partition\"] = 0\n",
    "shap_local_df[\"record_n\"] = (test_data > 0).sum(dim=0).numpy()\n",
    "shap_local_df[\"record_freq\"] = (test_data > 0).sum(dim=0).numpy()/len(test_data)\n",
    "\n",
    "shap_local_mapped_df = shap_local_mapped_df.merge(concepts[[\"concept_name\"]], how=\"left\", left_index=True, right_index=True).reset_index().set_index([\"partition\", \"record\", \"concept_name\", \"record_n\", \"record_freq\"])\n",
    "\n",
    "shap_local_mapped_df.reset_index().to_csv(f\"{output_path}/shap_local_p0.csv\")"
   ]
  },
  {
   "cell_type": "code",
   "execution_count": null,
   "id": "9aae7f8e-68fc-4f46-9e46-fa1755d9fe2b",
   "metadata": {},
   "outputs": [],
   "source": [
    "# fix for covariates\n",
    "shap_global_df = pd.DataFrame(data=shap_global, \n",
    "                 index=datamodule.record_cols + ['age_at_recruitment_f21022_0_0', 'sex_f31_0_0_1', 'sex_f31_0_0_0'],\n",
    "                 columns=endpoints).rename_axis(\"record\")\n",
    "\n",
    "shap_global_df[\"partition\"] = 0\n",
    "shap_global_df[\"record_n\"] = (test_data > 0).sum(dim=0).numpy()\n",
    "shap_global_df[\"record_freq\"] = (test_data > 0).sum(dim=0).numpy()/len(test_data)\n",
    "\n",
    "shap_global_mapped_df = shap_global_mapped_df.merge(concepts[[\"concept_name\"]], how=\"left\", left_index=True, right_index=True).reset_index().set_index([\"partition\", \"record\", \"concept_name\", \"record_n\", \"record_freq\"])\n",
    "\n",
    "shap_global_mapped_df.reset_index().to_csv(f\"{output_path}/shap_global_p0.csv\")"
   ]
  },
  {
   "cell_type": "code",
   "execution_count": null,
   "id": "a8d0c25c-81f6-49bd-9fe7-0bbe1c2cdf5f",
   "metadata": {},
   "outputs": [],
   "source": [
    "# fix for covariates\n",
    "x = pd.DataFrame(data=shap_local, \n",
    "                 index=datamodule.record_cols + ['age_at_recruitment_f21022_0_0', 'sex_f31_0_0_1', 'sex_f31_0_0_0'],\n",
    "                 columns=endpoints).rename_axis(\"record\")\n",
    "\n",
    "x[\"partition\"] = 0\n",
    "x[\"record_n\"] = (test_data > 0).sum(dim=0).numpy()\n",
    "x[\"record_freq\"] = (test_data > 0).sum(dim=0).numpy()/len(test_data)\n",
    "\n",
    "x_mapped = x.merge(concepts[[\"concept_name\"]], how=\"left\", left_index=True, right_index=True).reset_index().set_index([\"partition\", \"record\", \"concept_name\", \"record_n\", \"record_freq\"])\n",
    "\n",
    "x_mapped.reset_index().to_csv(f\"{output_path}/shapglobal_p0_test.csv\")"
   ]
  },
  {
   "cell_type": "code",
   "execution_count": 57,
   "id": "e07d75b9-6157-4650-9894-c9aa87c20021",
   "metadata": {},
   "outputs": [],
   "source": []
  },
  {
   "cell_type": "code",
   "execution_count": 58,
   "id": "8794f971-192f-4ee4-8124-fcf2f407b6c2",
   "metadata": {},
   "outputs": [],
   "source": []
  },
  {
   "cell_type": "code",
   "execution_count": 65,
   "id": "728c7c7c-58a5-4d52-8595-ffadccc102a7",
   "metadata": {},
   "outputs": [],
   "source": []
  },
  {
   "cell_type": "code",
   "execution_count": null,
   "id": "b19a6a46-8962-4a9b-adfe-3bc44be5b397",
   "metadata": {},
   "outputs": [],
   "source": []
  },
  {
   "cell_type": "code",
   "execution_count": null,
   "id": "9c9795d5-dd8a-48ba-97f5-9075c3db1898",
   "metadata": {},
   "outputs": [],
   "source": []
  },
  {
   "cell_type": "code",
   "execution_count": null,
   "id": "758da866-3561-4e3d-be65-16120f2d68fa",
   "metadata": {},
   "outputs": [],
   "source": []
  },
  {
   "cell_type": "code",
   "execution_count": null,
   "id": "428d6cdd-c40f-46ac-bfba-1617c428cbe3",
   "metadata": {},
   "outputs": [],
   "source": []
  },
  {
   "cell_type": "code",
   "execution_count": null,
   "id": "c9793899-b998-4651-801c-8f1b0229c20c",
   "metadata": {},
   "outputs": [],
   "source": []
  },
  {
   "cell_type": "code",
   "execution_count": null,
   "id": "fbb55cdc-61c9-40dc-8d7c-80fab682f872",
   "metadata": {},
   "outputs": [],
   "source": []
  },
  {
   "cell_type": "code",
   "execution_count": null,
   "id": "c894f72e-ae62-4eb4-b6f8-684cee4c4a18",
   "metadata": {},
   "outputs": [],
   "source": []
  },
  {
   "cell_type": "code",
   "execution_count": null,
   "id": "c0b085b7-8a02-4c1e-86cb-79ed9da5d30f",
   "metadata": {},
   "outputs": [],
   "source": []
  },
  {
   "cell_type": "code",
   "execution_count": 48,
   "id": "b496d5d8-9a8c-4c1d-aa1f-11c9fbb70b78",
   "metadata": {},
   "outputs": [
    {
     "data": {
      "text/plain": [
       "record         concept_name                                      \n",
       "OMOP_4195603   Operation on vagina                                  -0.275197\n",
       "OMOP_4263879   Marie's cerebellar ataxia                            -0.260202\n",
       "OMOP_434316    von Willebrand disorder                              -0.241875\n",
       "OMOP_439404    Primary malignant neoplasm of oral cavity            -0.235471\n",
       "OMOP_435094    Open fracture of femur, distal end                   -0.187018\n",
       "OMOP_4030065   Hyposplenism                                         -0.186954\n",
       "OMOP_4018853   Decompression of cardiac tamponade                   -0.176256\n",
       "OMOP_133713    Malignant melanoma of skin of face                   -0.176001\n",
       "OMOP_4070718   Biopsy of lesion of palate                           -0.174164\n",
       "OMOP_4168815   Contact with plant spines, thorns, or sharp leaves   -0.170073\n",
       "OMOP_4289309   Atrial septal defect                                 -0.165623\n",
       "OMOP_4052685   Metatarsus adductus                                  -0.157437\n",
       "OMOP_443444    Foodborne botulism                                   -0.142724\n",
       "OMOP_4102035   Retinal defects without detachment                   -0.132625\n",
       "OMOP_4029573   Congenital adrenal hyperplasia                       -0.127037\n",
       "OMOP_35625873  Lyell syndrome                                       -0.125468\n",
       "OMOP_30968     Diabetes insipidus                                   -0.125339\n",
       "OMOP_4018300   Total splenectomy                                    -0.122250\n",
       "OMOP_260336    Primary malignant neoplasm of glottis                -0.120703\n",
       "OMOP_438086    Primary malignant neoplasm of parietal lobe          -0.118695\n",
       "OMOP_4137462   Adrenalectomy                                        -0.116769\n",
       "OMOP_252758    Late effect of fracture of skull AND/OR face bones   -0.103331\n",
       "OMOP_201909    Female infertility                                   -0.102232\n",
       "OMOP_441806    Primary malignant neoplasm of brain stem             -0.099111\n",
       "OMOP_4073396   Open biopsy of pleural lesion                        -0.098869\n",
       "Name: phecode_121 - Leukemia, dtype: float32"
      ]
     },
     "metadata": {},
     "output_type": "display_data"
    },
    {
     "data": {
      "text/plain": [
       "record                         concept_name                                                       \n",
       "OMOP_4058706                   History of leukemia                                                    0.286241\n",
       "OMOP_4013643                   Pulmonary arterial hypertension                                        0.289997\n",
       "OMOP_195861                    Small kidney                                                           0.293899\n",
       "OMOP_4304002                   Eosinophil count raised                                                0.301299\n",
       "OMOP_4060043                   Excision of lesion of atrium                                           0.304675\n",
       "OMOP_4017875                   Homograft tricuspid valve replacement                                  0.307416\n",
       "OMOP_4198132                   Hematology screening test                                              0.308533\n",
       "OMOP_4114976                   Balanced rearrangement and structural marker                           0.308767\n",
       "OMOP_4027567                   Congenital anomaly of palate                                           0.310840\n",
       "OMOP_4019787                   Percutaneous needle biopsy of renal lesion                             0.333959\n",
       "OMOP_4275889                   Visual hallucinations                                                  0.342597\n",
       "OMOP_4003185                   Refractory anemia (clinical)                                           0.367695\n",
       "OMOP_4066824                   Discoid lupus erythematosus                                            0.384489\n",
       "OMOP_135338                    Pemphigus                                                              0.384609\n",
       "OMOP_4290976                   Temporal arteritis                                                     0.414017\n",
       "OMOP_4146996                   Mesangial proliferative glomerulonephritis                             0.421748\n",
       "OMOP_258540                    Marfan's syndrome                                                      0.458068\n",
       "OMOP_4078925                   Pulmonary edema                                                        0.513423\n",
       "OMOP_46271739                  Contracted kidney                                                      0.533799\n",
       "OMOP_4047878                   Fetal or neonatal effect of maternal problem unrelated to pregnancy    0.550059\n",
       "OMOP_4033557                   Tilt table test                                                        0.557120\n",
       "OMOP_4246451                   Secondary malignant neoplasm of brain                                  0.579518\n",
       "age_at_recruitment_f21022_0_0  NaN                                                                    0.585444\n",
       "OMOP_4162859                   Primary malignant neoplasm of adrenal medulla                          0.608495\n",
       "OMOP_432612                    Mild intellectual disability                                           0.933402\n",
       "Name: phecode_121 - Leukemia, dtype: float32"
      ]
     },
     "metadata": {},
     "output_type": "display_data"
    }
   ],
   "source": [
    "pd.set_option('display.max_rows', 25)\n",
    "code = \"phecode_121 - Leukemia\"\n",
    "display(x_mapped[code].dropna().sort_values().head(25))\n",
    "display(x_mapped[code].dropna().sort_values().tail(25))"
   ]
  },
  {
   "cell_type": "code",
   "execution_count": null,
   "id": "2e4820d5-81af-49ca-910d-8625e40319c7",
   "metadata": {},
   "outputs": [],
   "source": [
    "x_mapped[\"phecode_089 - Infections\"].sort_values()"
   ]
  },
  {
   "cell_type": "code",
   "execution_count": 75,
   "id": "71dbe629-3b86-4b05-a79e-4faf48df45d3",
   "metadata": {},
   "outputs": [
    {
     "data": {
      "text/plain": [
       "{'OMOP_4306655': 'OMOP_4306655',\n",
       " 'phecode_401': 'phecode_401 - Hypertension',\n",
       " 'phecode_401-1': 'phecode_401-1 - Essential hypertension',\n",
       " 'phecode_130': 'phecode_130 - Cancer (solid tumor, excluding BCC)',\n",
       " 'phecode_089': 'phecode_089 - Infections',\n",
       " 'phecode_460': 'phecode_460 - Acute respiratory infection',\n",
       " 'phecode_202': 'phecode_202 - Diabetes mellitus',\n",
       " 'phecode_202-2': 'phecode_202-2 - Type 2 diabetes',\n",
       " 'phecode_404': 'phecode_404 - Ischemic heart disease',\n",
       " 'phecode_583': 'phecode_583 - Chronic kidney disease',\n",
       " 'phecode_089-2': 'phecode_089-2 - Viral infections',\n",
       " 'phecode_718': 'phecode_718 - Back pain',\n",
       " 'phecode_708': 'phecode_708 - Osteoarthritis',\n",
       " 'phecode_475': 'phecode_475 - Asthma',\n",
       " 'phecode_089-1': 'phecode_089-1 - Bacterial infections',\n",
       " 'phecode_809': 'phecode_809 - Pain',\n",
       " 'phecode_713': 'phecode_713 - Symptoms related to joints',\n",
       " 'phecode_416': 'phecode_416 - Cardiac arrhythmia and conduction disorders',\n",
       " 'phecode_239': 'phecode_239 - Hyperlipidemia',\n",
       " 'phecode_713-3': 'phecode_713-3 - Pain in joint',\n",
       " 'phecode_460-1': 'phecode_460-1 - Acute upper respiratory infection',\n",
       " 'phecode_522': 'phecode_522 - Gastrointestinal inflammation',\n",
       " 'phecode_474': 'phecode_474 - Chronic obstructive pulmonary disease [COPD]',\n",
       " 'phecode_460-2': 'phecode_460-2 - Acute lower respiratory infection',\n",
       " 'phecode_660': 'phecode_660 - Infection of the skin',\n",
       " 'phecode_239-1': 'phecode_239-1 - Hypercholesterolemia',\n",
       " 'phecode_105': 'phecode_105 - Malignant neoplasm of the breast',\n",
       " 'phecode_120': 'phecode_120 - Hemo onc - by cell of origin',\n",
       " 'phecode_239-11': 'phecode_239-11 - Pure hypercholesterolemia',\n",
       " 'phecode_116': 'phecode_116 - Secondary malignant neoplasm',\n",
       " 'phecode_416-2': 'phecode_416-2 - Atrial fibrillation and flutter',\n",
       " 'phecode_520': 'phecode_520 - Hernia',\n",
       " 'phecode_200': 'phecode_200 - Disorders of thyroid gland',\n",
       " 'phecode_286': 'phecode_286 - Mood [affective] disorders',\n",
       " 'phecode_841': 'phecode_841 - Drug and medical agent allergy',\n",
       " 'phecode_101': 'phecode_101 - Malignant neoplasm of the digestive organs',\n",
       " 'phecode_527': 'phecode_527 - Abdominal pain',\n",
       " 'phecode_908': 'phecode_908 - Edema, proteinuria and hypertensive disorders in pregnancy, childbirth and the puerperium',\n",
       " 'phecode_403': 'phecode_403 - Angina pectoris',\n",
       " 'phecode_200-1': 'phecode_200-1 - Hypothyroidism',\n",
       " 'phecode_404-2': 'phecode_404-2 - Coronary atherosclerosis [Atherosclerotic heart disease]',\n",
       " 'phecode_988': 'phecode_988 - Family history of cardiovascular disease',\n",
       " 'phecode_529': 'phecode_529 - Symptoms involving digestive system',\n",
       " 'phecode_281': 'phecode_281 - Substance abuse, dependence, and withdrawl',\n",
       " 'phecode_716': 'phecode_716 - Intervertebral disc disorder',\n",
       " 'phecode_200-14': 'phecode_200-14 - Hypothyroidism, not specified as secondary',\n",
       " 'phecode_181': 'phecode_181 - Autoimmune disease',\n",
       " 'phecode_282': 'phecode_282 - Nicotine dependence (current and history of)',\n",
       " 'phecode_282-1': 'phecode_282-1 - Current tobacco use and nicotine dependence',\n",
       " 'phecode_292': 'phecode_292 - Somatoform disorders',\n",
       " 'phecode_286-2': 'phecode_286-2 - Major depressive disorder',\n",
       " 'phecode_164': 'phecode_164 - Anemia',\n",
       " 'phecode_401-3': 'phecode_401-3 - Hypertensive chronic kidney disease',\n",
       " 'phecode_523': 'phecode_523 - Diverticular disease [Bowel diverticulosis]',\n",
       " 'phecode_281-2': 'phecode_281-2 - Substance dependence',\n",
       " 'phecode_089-3': 'phecode_089-3 - Fungal infections',\n",
       " 'phecode_511': 'phecode_511 - Gastro-esophageal reflux disease',\n",
       " 'phecode_809-3': 'phecode_809-3 - Pain in limb',\n",
       " 'phecode_401-2': 'phecode_401-2 - Hypertensive heart disease',\n",
       " 'phecode_390': 'phecode_390 - Disorders of external ear',\n",
       " 'phecode_908-1': 'phecode_908-1 - Preeclampsia and eclampsia',\n",
       " 'phecode_841-1': 'phecode_841-1 - Allergy to other anti-infective agents',\n",
       " 'phecode_908-2': 'phecode_908-2 - Pre-existing hypertension complicating pregnancy, childbirth and the puerperium',\n",
       " 'phecode_801': 'phecode_801 - Cough',\n",
       " 'phecode_005': 'phecode_005 - Mycobacteria',\n",
       " 'phecode_005-1': 'phecode_005-1 - Mycobacterium tuberculosis',\n",
       " 'phecode_627': 'phecode_627 - Menopausal and postmenopausal disorders',\n",
       " 'phecode_520-2': 'phecode_520-2 - Diaphragmatic hernia [Hiatal hernia]',\n",
       " 'phecode_404-1': 'phecode_404-1 - Myocardial infarction [Heart attack]',\n",
       " 'phecode_371': 'phecode_371 - Cataract',\n",
       " 'phecode_510': 'phecode_510 - Diseases of esophagus',\n",
       " 'phecode_052': 'phecode_052 - Herpesvirus',\n",
       " 'phecode_061': 'phecode_061 - Influenza virus',\n",
       " 'phecode_292-3': 'phecode_292-3 - Pain disorders related to psychological factors',\n",
       " 'phecode_112': 'phecode_112 - Malignant neoplasm of other and ill-defined sites',\n",
       " 'phecode_668': 'phecode_668 - Dermatitis [eczema]',\n",
       " 'phecode_718-4': 'phecode_718-4 - Low back pain',\n",
       " 'phecode_591': 'phecode_591 - Urinary tract infection',\n",
       " 'phecode_841-11': 'phecode_841-11 - Penicillin allergy',\n",
       " 'phecode_331': 'phecode_331 - Headache',\n",
       " 'phecode_120-1': 'phecode_120-1 - Myeloid',\n",
       " 'phecode_236': 'phecode_236 - Overweight and obesity',\n",
       " 'phecode_236-1': 'phecode_236-1 - Obesity',\n",
       " 'phecode_136': 'phecode_136 - Benign neoplasm of the digestive organs',\n",
       " 'phecode_723': 'phecode_723 - Enthesopathy-Enthesitis-Tendinopathy',\n",
       " 'phecode_247': 'phecode_247 - Disorders of mineral metabolism and mineral deficiencies',\n",
       " 'phecode_469': 'phecode_469 - Bronchitis',\n",
       " 'phecode_424': 'phecode_424 - Heart failure',\n",
       " 'phecode_594': 'phecode_594 - Abnormality of urination',\n",
       " 'phecode_436': 'phecode_436 - Atherosclerosis [ASCVD]',\n",
       " 'phecode_840': 'phecode_840 - Allergy',\n",
       " 'phecode_660-6': 'phecode_660-6 - Cellulitis and abscess',\n",
       " 'phecode_523-2': 'phecode_523-2 - Diverticula of colon',\n",
       " 'phecode_679': 'phecode_679 - Skin symptoms',\n",
       " 'phecode_247-7': 'phecode_247-7 - Disorders of iron metabolism',\n",
       " 'phecode_136-4': 'phecode_136-4 - Benign neoplasm of colon, rectum, anus and anal canal',\n",
       " 'phecode_715': 'phecode_715 - Non-inflammatory spondylopathy',\n",
       " 'phecode_462': 'phecode_462 - Sinusitis',\n",
       " 'phecode_477': 'phecode_477 - Inhalation lung injury',\n",
       " 'phecode_909': 'phecode_909 - Diabetes mellitus or abnormal glucose in pregnancy, childbirth, and the puerperium',\n",
       " 'phecode_468': 'phecode_468 - Pneumonia',\n",
       " 'phecode_116-1': 'phecode_116-1 - Secondary malignancy of lymph nodes',\n",
       " 'phecode_101-4': 'phecode_101-4 - Malignant neoplasm of the colon and rectum',\n",
       " 'phecode_660-1': 'phecode_660-1 - Fungal infection of the skin',\n",
       " 'phecode_335': 'phecode_335 - Nerve root and plexus disorders',\n",
       " 'phecode_510-2': 'phecode_510-2 - Esophagitis',\n",
       " 'phecode_596': 'phecode_596 - Other disorders of bladder',\n",
       " 'phecode_424-1': 'phecode_424-1 - Left heart failure',\n",
       " 'phecode_721': 'phecode_721 - Synoviopathy and bursopathy',\n",
       " 'phecode_413': 'phecode_413 - Heart valve disorders',\n",
       " 'phecode_678': 'phecode_678 - Other skin and connective tissue disorders',\n",
       " 'phecode_522-9': 'phecode_522-9 - Gastritis',\n",
       " 'phecode_095': 'phecode_095 - Sequela of infection',\n",
       " 'phecode_557': 'phecode_557 - Gastrointestinal hemorrhage',\n",
       " 'phecode_052-1': 'phecode_052-1 - Herpes simplex',\n",
       " 'phecode_520-1': 'phecode_520-1 - Hernia of the abdominal wall',\n",
       " 'phecode_336': 'phecode_336 - Mononeuropathies',\n",
       " 'phecode_160': 'phecode_160 - Nutritional anemias',\n",
       " 'phecode_465': 'phecode_465 - Pharyngitis',\n",
       " 'phecode_108': 'phecode_108 - Malignant neoplasm of the urinary tract',\n",
       " 'phecode_705': 'phecode_705 - Rheumatoid arthritis and other inflammatory polyarthropathies',\n",
       " 'phecode_487': 'phecode_487 - Hemorrhage from respiratory passages',\n",
       " 'phecode_367': 'phecode_367 - Inflammation of the eye',\n",
       " 'phecode_488': 'phecode_488 - Abnormalities of breathing',\n",
       " 'phecode_583-1': 'phecode_583-1 - End stage renal disease [CDK, stage 5]',\n",
       " 'phecode_465-1': 'phecode_465-1 - Acute Pharyngitis',\n",
       " 'phecode_481': 'phecode_481 - Interstitial pulmonary diseases',\n",
       " 'phecode_529-5': 'phecode_529-5 - Constipation',\n",
       " 'phecode_390-1': 'phecode_390-1 - Otitis externa',\n",
       " 'phecode_462-1': 'phecode_462-1 - Acute sinusitis',\n",
       " 'phecode_103': 'phecode_103 - Malignant neoplasm of the skin',\n",
       " 'phecode_088': 'phecode_088 - Sexually transmitted disease',\n",
       " 'phecode_469-2': 'phecode_469-2 - Chronic bronchitis',\n",
       " 'phecode_107': 'phecode_107 - Malignant neoplasm of male genitalia',\n",
       " 'phecode_070': 'phecode_070 - Candidiasis',\n",
       " 'phecode_136-41': 'phecode_136-41 - Benign neoplasm of the colon',\n",
       " 'phecode_600': 'phecode_600 - Benign prostatic hyperplasia',\n",
       " 'phecode_120-2': 'phecode_120-2 - Lymphoid',\n",
       " 'phecode_107-2': 'phecode_107-2 - Malignant neoplasm of the prostate',\n",
       " 'phecode_331-6': 'phecode_331-6 - Migraine',\n",
       " 'phecode_440': 'phecode_440 - Embolism and thrombosis',\n",
       " 'phecode_477-2': 'phecode_477-2 - Hypersensitivity pneumonitis',\n",
       " 'phecode_256': 'phecode_256 - Disorders of fluid, electrolyte and acid-base balance',\n",
       " 'phecode_439': 'phecode_439 - Hemorrhoids',\n",
       " 'phecode_550': 'phecode_550 - Disorders of the gallbladder',\n",
       " 'phecode_374': 'phecode_374 - Disorders of the retina',\n",
       " 'phecode_123': 'phecode_123 - Multiple myeloma and malignant plasma cell neoplasms',\n",
       " 'phecode_472': 'phecode_472 - Diseases of vocal cords and larynx, not elsewhere classified',\n",
       " 'phecode_417': 'phecode_417 - Abnormalities of heart beat',\n",
       " 'phecode_981': 'phecode_981 - Family history of malignant neoplasm',\n",
       " 'phecode_526': 'phecode_526 - Intestinal infection',\n",
       " 'phecode_288': 'phecode_288 - Anxiety disorders',\n",
       " 'phecode_466': 'phecode_466 - Tonsillitis and adenoiditis',\n",
       " 'phecode_608': 'phecode_608 - Other disorders of male genital organs',\n",
       " 'phecode_160-1': 'phecode_160-1 - Iron deficiency anemia',\n",
       " 'phecode_247-72': 'phecode_247-72 - Iron deficiency',\n",
       " 'phecode_819': 'phecode_819 - General symptoms and other findings',\n",
       " 'phecode_724': 'phecode_724 - Other symptoms and disorders of the soft tissue',\n",
       " 'phecode_202-1': 'phecode_202-1 - Type 1 diabetes',\n",
       " 'phecode_840-8': 'phecode_840-8 - Allergies related to other diseases-symptoms',\n",
       " 'phecode_122': 'phecode_122 - Lymphoma',\n",
       " 'phecode_708-7': 'phecode_708-7 - Generalized osteoarthritis',\n",
       " 'phecode_333': 'phecode_333 - Sleep disorders',\n",
       " 'phecode_715-1': 'phecode_715-1 - Spondylosis',\n",
       " 'phecode_164-1': 'phecode_164-1 - Microcytic anemia',\n",
       " 'phecode_120-21': 'phecode_120-21 - Mature B-cell',\n",
       " 'phecode_052-3': 'phecode_052-3 - Varicella zoster virus',\n",
       " 'phecode_084': 'phecode_084 - Parasites',\n",
       " 'phecode_487-3': 'phecode_487-3 - Hemoptysis',\n",
       " 'phecode_391': 'phecode_391 - Disorders of the middle ear',\n",
       " 'phecode_909-2': 'phecode_909-2 - Pre-existing diabetes mellitus in pregnancy*',\n",
       " 'phecode_116-4': 'phecode_116-4 - Secondary malignant neoplasm of liver',\n",
       " 'phecode_396': 'phecode_396 - Hearing impairment',\n",
       " 'phecode_522-1': 'phecode_522-1 - Inflammatory bowel disease',\n",
       " 'phecode_682': 'phecode_682 - Other follicular disorders',\n",
       " 'phecode_466-1': 'phecode_466-1 - Acute tonsillitis and adenoiditis',\n",
       " 'phecode_477-1': 'phecode_477-1 - Pneumoconiosis',\n",
       " 'phecode_660-12': 'phecode_660-12 - Dermatophytosis',\n",
       " 'phecode_708-1': 'phecode_708-1 - Primary osteoarthritis',\n",
       " 'phecode_331-8': 'phecode_331-8 - Headache NOS',\n",
       " 'phecode_444': 'phecode_444 - Venous insufficiency',\n",
       " 'phecode_144': 'phecode_144 - Gynecological benign neoplasms',\n",
       " 'phecode_354': 'phecode_354 - Dizziness and giddiness',\n",
       " 'phecode_367-1': 'phecode_367-1 - Conjunctivitis',\n",
       " 'phecode_524': 'phecode_524 - Functional intestinal disorder',\n",
       " 'phecode_481-1': 'phecode_481-1 - Pulmonary eosinophilia',\n",
       " 'phecode_550-1': 'phecode_550-1 - Gallstones [Cholelithiasis]',\n",
       " 'phecode_052-32': 'phecode_052-32 - Herpes zoster',\n",
       " 'phecode_472-4': 'phecode_472-4 - Laryngeal spasm',\n",
       " 'phecode_444-1': 'phecode_444-1 - Varicose veins',\n",
       " 'phecode_390-4': 'phecode_390-4 - Impacted cerumen',\n",
       " 'phecode_586': 'phecode_586 - Other disorders of the kidney and ureters',\n",
       " 'phecode_807': 'phecode_807 - Malaise and fatigue',\n",
       " 'phecode_324': 'phecode_324 - Extrapyramidal and movement disorders',\n",
       " 'phecode_463': 'phecode_463 - Rhinitis and nasal congestion',\n",
       " 'phecode_524-1': 'phecode_524-1 - Irritable bowel syndrome',\n",
       " 'phecode_101-41': 'phecode_101-41 - Malignant neoplasm of the colon',\n",
       " 'phecode_627-4': 'phecode_627-4 - Menorrhagia-Excessive and frequent menstruation',\n",
       " 'phecode_138': 'phecode_138 - Benign neoplasm of the skin',\n",
       " 'phecode_123-1': 'phecode_123-1 - Multiple myeloma',\n",
       " 'phecode_375': 'phecode_375 - Abnormal intraocular pressure',\n",
       " 'phecode_116-6': 'phecode_116-6 - Secondary malignancy of bone',\n",
       " 'phecode_444-11': 'phecode_444-11 - Varicose veins of lower extremities',\n",
       " 'phecode_122-2': 'phecode_122-2 - Non-Hodgkin lymphoma',\n",
       " 'phecode_718-2': 'phecode_718-2 - Cervicalgia',\n",
       " 'phecode_102': 'phecode_102 - Malignant neoplasm of the thoracic and respiratory organs',\n",
       " 'phecode_582': 'phecode_582 - Acute kidney failure',\n",
       " 'phecode_703': 'phecode_703 - Chrystal arthropathies',\n",
       " 'phecode_705-1': 'phecode_705-1 - Rheumatoid arthritis',\n",
       " 'phecode_448': 'phecode_448 - Peripheral vascular disease',\n",
       " 'phecode_291': 'phecode_291 - Dissociative, conversion and factitious disorders',\n",
       " 'phecode_593': 'phecode_593 - Hematuria',\n",
       " 'phecode_330': 'phecode_330 - Epilepsy, recurrent seizures, convulsions',\n",
       " 'phecode_619': 'phecode_619 - Noninflammatory female genital disorders',\n",
       " 'phecode_679-1': 'phecode_679-1 - Rash and other nonspecific skin eruption',\n",
       " 'phecode_703-1': 'phecode_703-1 - Hyperuricemia',\n",
       " 'phecode_718-5': 'phecode_718-5 - Sciatica',\n",
       " 'phecode_800': 'phecode_800 - Chest pain',\n",
       " 'phecode_626': 'phecode_626 - Disorders of menstruation and other abnormal bleeding from female genital tract',\n",
       " 'phecode_280': 'phecode_280 - Substance related disorders',\n",
       " 'phecode_703-11': 'phecode_703-11 - Gout',\n",
       " 'phecode_330-1': 'phecode_330-1 - Epilepsy',\n",
       " 'phecode_700': 'phecode_700 - Diffuse diseases of connective tissue',\n",
       " 'phecode_520-11': 'phecode_520-11 - Inguinal hernia',\n",
       " 'phecode_010': 'phecode_010 - Corynebacterium',\n",
       " 'phecode_402': 'phecode_402 - Elevated blood pressure reading without diagnosis of hypertension',\n",
       " 'phecode_528-2': 'phecode_528-2 - Vomiting',\n",
       " 'phecode_528-1': 'phecode_528-1 - Nausea',\n",
       " 'phecode_528': 'phecode_528 - Nausea and vomiting',\n",
       " 'phecode_121': 'phecode_121 - Leukemia',\n",
       " 'phecode_670': 'phecode_670 - Seborrheic keratosis',\n",
       " 'phecode_116-2': 'phecode_116-2 - Secondary malignancy of respiratory organs',\n",
       " 'phecode_280-1': 'phecode_280-1 - Alcohol use disorders',\n",
       " 'phecode_665': 'phecode_665 - Psoriasis',\n",
       " 'phecode_627-1': 'phecode_627-1 - Postmenopausal bleeding',\n",
       " 'phecode_557-8': 'phecode_557-8 - Hemorrhage of rectum and anus',\n",
       " 'phecode_513': 'phecode_513 - Peptic ulcer',\n",
       " 'phecode_431': 'phecode_431 - Stroke and transient cerebral ischemic attacks',\n",
       " 'phecode_722': 'phecode_722 - Fasciopathy',\n",
       " 'phecode_350': 'phecode_350 - Other symptoms involving nervous system',\n",
       " 'phecode_144-2': 'phecode_144-2 - Benign neoplasms of the uterus',\n",
       " 'phecode_529-1': 'phecode_529-1 - Diarrhea',\n",
       " 'phecode_488-1': 'phecode_488-1 - Dyspnea [Shortness of breath]',\n",
       " 'phecode_004': 'phecode_004 - Streptococcus',\n",
       " 'phecode_308': 'phecode_308 - Signs and symptoms involving emotional state',\n",
       " 'phecode_594-3': 'phecode_594-3 - Urinary incontinence',\n",
       " 'phecode_232': 'phecode_232 - Vitamin deficiencies',\n",
       " 'phecode_800-2': 'phecode_800-2 - Precordial pain',\n",
       " 'phecode_102-1': 'phecode_102-1 - Malignant neoplasm of the of bronchus and lung',\n",
       " 'phecode_983': 'phecode_983 - Family history of other endocrine and metabolic diseases',\n",
       " 'phecode_106': 'phecode_106 - Gynecological malignant neoplasms',\n",
       " 'phecode_585': 'phecode_585 - Kidney stone disease',\n",
       " 'phecode_375-1': 'phecode_375-1 - Glaucoma',\n",
       " 'phecode_360': 'phecode_360 - Inflammation of eyelids',\n",
       " 'phecode_404-11': 'phecode_404-11 - Acute myocardial infarction',\n",
       " 'phecode_709': 'phecode_709 - Acquired deformities of fingers and toes',\n",
       " 'phecode_336-1': 'phecode_336-1 - Carpal tunnel syndrome',\n",
       " 'phecode_440-1': 'phecode_440-1 - Venous thromboembolism',\n",
       " 'phecode_286-21': 'phecode_286-21 - Major depressive disorder, recurrent',\n",
       " 'phecode_808': 'phecode_808 - Syncope and collapse',\n",
       " 'phecode_618': 'phecode_618 - Genital prolapse',\n",
       " 'phecode_592': 'phecode_592 - Cystitis and urethritis',\n",
       " 'phecode_416-4': 'phecode_416-4 - Heart block',\n",
       " 'phecode_333-1': 'phecode_333-1 - Sleep apnea',\n",
       " 'phecode_542': 'phecode_542 - Chronic liver disease and sequelae',\n",
       " 'phecode_950': 'phecode_950 - Puerperal infection or fever',\n",
       " 'phecode_413-2': 'phecode_413-2 - Aortic valve disorders',\n",
       " 'phecode_916': 'phecode_916 - Infections and carrier state in pregnancy',\n",
       " 'phecode_486': 'phecode_486 - Other respiratory disorders',\n",
       " 'phecode_916-1': 'phecode_916-1 - Infections of genitourinary tract in pregnancy',\n",
       " 'phecode_462-2': 'phecode_462-2 - Chronic sinusitis',\n",
       " 'phecode_702': 'phecode_702 - Infective and reactive arthropathies',\n",
       " 'phecode_592-1': 'phecode_592-1 - Cystitis',\n",
       " 'phecode_483': 'phecode_483 - Pleural effusion',\n",
       " 'phecode_530': 'phecode_530 - Disease of anus and rectum',\n",
       " 'phecode_419': 'phecode_419 - Presence of cardiac device',\n",
       " 'phecode_413-1': 'phecode_413-1 - Mitral valve disorders',\n",
       " 'phecode_465-2': 'phecode_465-2 - Chronic Pharyngitis',\n",
       " 'phecode_709-2': 'phecode_709-2 - Acquired deformities of toe',\n",
       " 'phecode_471': 'phecode_471 - Other disorders of nose and nasal sinuses',\n",
       " 'phecode_050': 'phecode_050 - Enterovirus',\n",
       " 'phecode_626-1': 'phecode_626-1 - Irregular menstrual cycle-bleeding',\n",
       " 'phecode_682-1': 'phecode_682-1 - Cutaneous cyst',\n",
       " 'phecode_673': 'phecode_673 - Skin changes due to chronic exposure to nonionizing radiation',\n",
       " 'phecode_448-9': 'phecode_448-9 - Peripheral vascular disease NOS [includes PAD]',\n",
       " 'phecode_468-9': 'phecode_468-9 - Lobar pneumonia*',\n",
       " 'phecode_416-21': 'phecode_416-21 - Atrial fibrillation',\n",
       " 'phecode_092': 'phecode_092 - Bacteremia, Sepsis, and SIRS',\n",
       " 'phecode_202-4': 'phecode_202-4 - Other specified diabetes*',\n",
       " 'phecode_290': 'phecode_290 - Reaction to severe stress, and adjustment disorders',\n",
       " 'phecode_476': 'phecode_476 - Bronchiectasis',\n",
       " 'phecode_050-5': 'phecode_050-5 - Enteroviral vesicular pharyngitis',\n",
       " 'phecode_092-2': 'phecode_092-2 - Sepsis',\n",
       " 'phecode_673-1': 'phecode_673-1 - Actinic keratosis',\n",
       " 'phecode_711': 'phecode_711 - Disorder of patella',\n",
       " 'phecode_660-2': 'phecode_660-2 - Bacterial infection of the skin',\n",
       " 'phecode_006': 'phecode_006 - Neisseria',\n",
       " 'phecode_627-2': 'phecode_627-2 - Symptomatic menopause',\n",
       " 'phecode_662': 'phecode_662 - Rosacea',\n",
       " 'phecode_139': 'phecode_139 - Benign sarcoma-related cancers',\n",
       " 'phecode_446': 'phecode_446 - Hypotension',\n",
       " 'phecode_006-2': 'phecode_006-2 - Neisseria gonorrhea',\n",
       " 'phecode_391-1': 'phecode_391-1 - Otitis media',\n",
       " 'phecode_610': 'phecode_610 - Benign mammary dysplasias',\n",
       " 'phecode_328': 'phecode_328 - Dementias and cerebral degeneration',\n",
       " 'phecode_522-12': 'phecode_522-12 - Ulcerative colitis',\n",
       " 'phecode_294': 'phecode_294 - Sexual dysfunction and disorders',\n",
       " 'phecode_350-5': 'phecode_350-5 - Repeated falls*',\n",
       " 'phecode_469-1': 'phecode_469-1 - Acute bronchitis',\n",
       " 'phecode_525': 'phecode_525 - Intestinal malabsorption',\n",
       " 'phecode_479': 'phecode_479 - Pulmonary insufficiency and acute respiratory distress syndrome',\n",
       " 'phecode_416-211': 'phecode_416-211 - Paroxysmal atrial fibrillation*',\n",
       " 'phecode_727': 'phecode_727 - Other disorders of bone',\n",
       " 'phecode_351': 'phecode_351 - Disturbances of skin sensation',\n",
       " 'phecode_625': 'phecode_625 - Pain and other symptoms associated with female genital organs',\n",
       " 'phecode_716-3': 'phecode_716-3 - Spinal disc displacement (herniation)',\n",
       " 'phecode_723-4': 'phecode_723-4 - Lateral epicondylitis (Tennis elbow)',\n",
       " 'phecode_116-3': 'phecode_116-3 - Secondary malignant neoplasm of digestive systems',\n",
       " 'phecode_431-1': 'phecode_431-1 - Stroke',\n",
       " 'phecode_594-1': 'phecode_594-1 - Retention of urine',\n",
       " 'phecode_336-5': 'phecode_336-5 - Mononeuritis of lower limb',\n",
       " 'phecode_056': 'phecode_056 - Human papillomavirus',\n",
       " 'phecode_108-5': 'phecode_108-5 - Malignant neoplasm of the bladder',\n",
       " 'phecode_132': 'phecode_132 - Sequelae of cancer',\n",
       " 'phecode_200-13': 'phecode_200-13 - Postprocedural hypothyroidism',\n",
       " 'phecode_829': 'phecode_829 - Nonspecific findings on examination of blood',\n",
       " 'phecode_812': 'phecode_812 - Edema',\n",
       " 'phecode_463-2': 'phecode_463-2 - Allergic rhinitis',\n",
       " 'phecode_463-21': 'phecode_463-21 - Seasonal allergic rhinitis',\n",
       " 'phecode_395': 'phecode_395 - Other diseases of inner ear',\n",
       " 'phecode_800-1': 'phecode_800-1 - Chest pain on breathing',\n",
       " 'phecode_417-1': 'phecode_417-1 - Palpitations',\n",
       " 'phecode_979': 'phecode_979 - Transplated organ',\n",
       " 'phecode_721-1': 'phecode_721-1 - Synovitis and tenosynovitis',\n",
       " 'phecode_679-4': 'phecode_679-4 - Pruritus',\n",
       " 'phecode_136-42': 'phecode_136-42 - Benign neoplasm of rectum and anus',\n",
       " 'phecode_614': 'phecode_614 - Inflammatory diseases of female pelvic organs',\n",
       " 'phecode_682-12': 'phecode_682-12 - Pilar and trichodermal cyst',\n",
       " 'phecode_230': 'phecode_230 - Malnutrition and underweight',\n",
       " 'phecode_926': 'phecode_926 - Mental disorders complicating pregnancy, childbirth and the puerperium',\n",
       " 'phecode_124': 'phecode_124 - Myeloproliferative disorder',\n",
       " 'phecode_613': 'phecode_613 - Other nonmalignant breast conditions',\n",
       " 'phecode_286-3': 'phecode_286-3 - Premenstrual dysphoric disorder',\n",
       " 'phecode_144-21': 'phecode_144-21 - Leiomyoma of uterus',\n",
       " 'phecode_507': 'phecode_507 - Lesions of mouth',\n",
       " 'phecode_581': 'phecode_581 - Renal tubulo-interstitial diseases',\n",
       " 'phecode_926-1': 'phecode_926-1 - Postpartum mood disturbance*',\n",
       " 'phecode_926-11': 'phecode_926-11 - Postpartum depression*',\n",
       " 'phecode_286-4': 'phecode_286-4 - Dysthymic disorder',\n",
       " 'phecode_711-1': 'phecode_711-1 - Derangement of meniscus',\n",
       " 'phecode_362': 'phecode_362 - Other disorders of the eyelids',\n",
       " 'phecode_324-1': 'phecode_324-1 - Parkinsonism',\n",
       " 'phecode_726': 'phecode_726 - Osteoporosis and low bone density',\n",
       " 'phecode_400': 'phecode_400 - Rheumatic fever and chronic rheumatic heart diseases',\n",
       " 'phecode_721-5': 'phecode_721-5 - Bursitis',\n",
       " 'phecode_686': 'phecode_686 - Chronic ulcer of skin',\n",
       " 'phecode_440-13': 'phecode_440-13 - Phlebitis and thrombophlebitis',\n",
       " 'phecode_433': 'phecode_433 - Other cerebrovascular disease',\n",
       " 'phecode_363': 'phecode_363 - Disorders of lacrimal system',\n",
       " 'phecode_707': 'phecode_707 - Other arthropathies',\n",
       " 'phecode_724-1': 'phecode_724-1 - Myalgia',\n",
       " 'phecode_324-11': \"phecode_324-11 - Parkinson's disease (Primary)\",\n",
       " 'phecode_597': 'phecode_597 - Other disorders of urethra and urinary tract',\n",
       " 'phecode_717': 'phecode_717 - Other and unspecified dorsopathies',\n",
       " 'phecode_337': 'phecode_337 - Polyneuropathies',\n",
       " 'phecode_371-31': 'phecode_371-31 - Age-related nuclear cataract',\n",
       " 'phecode_371-3': 'phecode_371-3 - Nuclear cataract',\n",
       " 'phecode_676': 'phecode_676 - Hypertrophic conditions of skin',\n",
       " 'phecode_512': 'phecode_512 - Dysphagia',\n",
       " 'phecode_516': 'phecode_516 - Other diseases of stomach and duodenum',\n",
       " 'phecode_400-2': 'phecode_400-2 - Chronic rheumatic heart diseases',\n",
       " 'phecode_170-1': 'phecode_170-1 - Neutropenia',\n",
       " 'phecode_170': 'phecode_170 - Decreased white blood cell count',\n",
       " 'phecode_522-11': \"phecode_522-11 - Crohn's disease\",\n",
       " 'phecode_709-21': 'phecode_709-21 - Hallux valgus (Bunion)',\n",
       " 'phecode_841-4': 'phecode_841-4 - Allergy to analgesic agent',\n",
       " 'phecode_177': 'phecode_177 - Abnormality of the lymph nodes',\n",
       " 'phecode_700-9': 'phecode_700-9 - Other diffuse diseases of connective tissue',\n",
       " 'phecode_584': 'phecode_584 - Renal failure',\n",
       " 'phecode_326': 'phecode_326 - Demyelinating diseases of the central nervous system',\n",
       " 'phecode_599': 'phecode_599 - Other symptoms-disorders or the urinary system',\n",
       " 'phecode_329': 'phecode_329 - Symptoms and signs involving cognitive functions and awareness',\n",
       " 'phecode_426': 'phecode_426 - Other heart disorders in diseases NEC',\n",
       " 'phecode_142-1': 'phecode_142-1 - Lump or mass in breast',\n",
       " 'phecode_142': 'phecode_142 - Lump or mass in breast or nonspecific abnormal breast exam',\n",
       " 'phecode_200-7': 'phecode_200-7 - Iodine-deficiency related thyroid disorders*',\n",
       " 'phecode_618-1': 'phecode_618-1 - Prolapse of vaginal walls',\n",
       " 'phecode_499': 'phecode_499 - Other symptoms and disorders of the respiratory system',\n",
       " 'phecode_510-8': \"phecode_510-8 - Barrett's esophagus\",\n",
       " 'phecode_504': 'phecode_504 - Periodontal diseases',\n",
       " 'phecode_138-2': 'phecode_138-2 - Melanocytic nevi*',\n",
       " 'phecode_841-12': 'phecode_841-12 - Allergy to antibiotic agent (excluding penicillin)',\n",
       " 'phecode_016': 'phecode_016 - Chlamydia',\n",
       " 'phecode_414': 'phecode_414 - Cardiomyopathy',\n",
       " 'phecode_325': 'phecode_325 - Symptoms and signs related to movement disorders',\n",
       " 'phecode_706': 'phecode_706 - Other inflammatory spondylopathies',\n",
       " 'phecode_230-2': 'phecode_230-2 - Abnormal loss of weight and underweight',\n",
       " 'phecode_232-2': 'phecode_232-2 - Vitamin B group deficiency',\n",
       " 'phecode_326-1': 'phecode_326-1 - Multiple sclerosis',\n",
       " 'phecode_230-21': 'phecode_230-21 - Abnormal weight loss',\n",
       " 'phecode_239-2': 'phecode_239-2 - Hyperglyceridemia',\n",
       " 'phecode_622': 'phecode_622 - Polyp of female genital organs',\n",
       " 'phecode_594-32': 'phecode_594-32 - Stress incontinence',\n",
       " 'phecode_239-3': 'phecode_239-3 - Mixed hyperlipidemia',\n",
       " 'phecode_139-5': 'phecode_139-5 - Lipoma',\n",
       " 'phecode_473': 'phecode_473 - Other diseases of upper respiratory tract',\n",
       " 'phecode_106-3': 'phecode_106-3 - Malignant neoplasm of the ovary',\n",
       " 'phecode_467': 'phecode_467 - Laryngitis and tracheitis',\n",
       " 'phecode_545': 'phecode_545 - Nonspecific abnormal results of function study of liver',\n",
       " 'phecode_431-11': 'phecode_431-11 - Cerebral infarction [Ischemic stroke]',\n",
       " 'phecode_668-1': 'phecode_668-1 - Atopic dermatitis',\n",
       " 'phecode_526-2': 'phecode_526-2 - Viral enteritis',\n",
       " 'phecode_715-4': 'phecode_715-4 - Spinal stenosis',\n",
       " 'phecode_336-51': 'phecode_336-51 - Lesion of sciatic nerve',\n",
       " 'phecode_374-5': 'phecode_374-5 - Macular degeneration',\n",
       " 'phecode_394': 'phecode_394 - Disorders of vestibular function',\n",
       " 'phecode_121-1': 'phecode_121-1 - Acute leukemia',\n",
       " 'phecode_101-42': 'phecode_101-42 - Malignant neoplasm of the rectum',\n",
       " 'phecode_722-1': 'phecode_722-1 - Plantar fascial fibromatosis [Plantar fasciitis]',\n",
       " 'phecode_240': 'phecode_240 - Disorders of amino-acid transport and metabolism',\n",
       " 'phecode_719': 'phecode_719 - Disorders of muscle',\n",
       " 'phecode_121-2': 'phecode_121-2 - Chronic leukemia',\n",
       " 'phecode_240-1': 'phecode_240-1 - Disorders of aromatic amino-acid metabolism',\n",
       " 'phecode_514': 'phecode_514 - Gastrointestinal obstruction',\n",
       " 'phecode_604': 'phecode_604 - Disorders of penis',\n",
       " 'phecode_386': 'phecode_386 - Visual disturbances',\n",
       " 'phecode_440-3': 'phecode_440-3 - Pulmonary embolism',\n",
       " 'phecode_325-2': 'phecode_325-2 - Abnormality of gait and mobility',\n",
       " 'phecode_467-1': 'phecode_467-1 - Acute laryngitis and tracheitis',\n",
       " 'phecode_392': 'phecode_392 - Otalgia and effusion of ear',\n",
       " 'phecode_614-5': 'phecode_614-5 - Inflammatory disease of cervix, vagina, and vulva',\n",
       " 'phecode_976': 'phecode_976 - Adverse effect of anesthesia',\n",
       " 'phecode_683': 'phecode_683 - Nail disorders',\n",
       " 'phecode_705-3': 'phecode_705-3 - Polymyalgia rheumatica',\n",
       " 'phecode_526-1': 'phecode_526-1 - Bacterial enteritis',\n",
       " 'phecode_052-4': 'phecode_052-4 - Infectious mononucleosis',\n",
       " 'phecode_413-21': 'phecode_413-21 - Aortic stenosis',\n",
       " 'phecode_341': 'phecode_341 - Cerebral palsy and other paralytic syndromes',\n",
       " 'phecode_410': 'phecode_410 - Inflammation of the heart [Carditis]',\n",
       " 'phecode_463-1': 'phecode_463-1 - Chronic rhinitis',\n",
       " 'phecode_717-2': 'phecode_717-2 - Sacrococcygeal disorders',\n",
       " 'phecode_204': 'phecode_204 - Elevated blood glucose level',\n",
       " 'phecode_619-4': 'phecode_619-4 - Noninflammatory disorders of vagina',\n",
       " 'phecode_328-9': 'phecode_328-9 - Dementia NOS',\n",
       " 'phecode_256-2': 'phecode_256-2 - Hyposmolality and-or hyponatremia',\n",
       " 'phecode_425': 'phecode_425 - Cardiomegaly',\n",
       " 'phecode_504-1': 'phecode_504-1 - Gingivitis',\n",
       " 'phecode_256-7': 'phecode_256-7 - Volume depletion',\n",
       " 'phecode_479-3': 'phecode_479-3 - Respiratory failure',\n",
       " 'phecode_581-3': 'phecode_581-3 - Obstructive and reflux uropathy',\n",
       " 'phecode_704': 'phecode_704 - Systemic vasculitis',\n",
       " 'phecode_723-2': 'phecode_723-2 - Rotator cuff tear or rupture',\n",
       " 'phecode_464': 'phecode_464 - Nasopharyngitis',\n",
       " 'phecode_121-12': 'phecode_121-12 - Acute myeloid leukemia',\n",
       " 'phecode_464-1': 'phecode_464-1 - Acute nasopharyngitis',\n",
       " 'phecode_438': 'phecode_438 - Aneurysm or ectasia',\n",
       " 'phecode_200-3': 'phecode_200-3 - Thyrotoxicosis [hyperthyroidism]',\n",
       " 'phecode_283': 'phecode_283 - Other behavioral problems',\n",
       " 'phecode_016-1': 'phecode_016-1 - Chlamydia trachomatis',\n",
       " 'phecode_367-12': 'phecode_367-12 - Allergic [atopic] conjunctivitis',\n",
       " 'phecode_416-1': 'phecode_416-1 - Paroxysmal tachycardia',\n",
       " 'phecode_681': 'phecode_681 - Localized swelling, mass and lump of skin and subcutaneous tissue',\n",
       " 'phecode_391-2': 'phecode_391-2 - Eustachian tube disorders',\n",
       " 'phecode_136-2': 'phecode_136-2 - Benign neoplasm of stomach',\n",
       " 'phecode_542-2': 'phecode_542-2 - Fatty liver disease (FLD)',\n",
       " 'phecode_522-8': 'phecode_522-8 - Duodenitis',\n",
       " 'phecode_912': 'phecode_912 - Venous complications in pregnancy',\n",
       " 'phecode_413-6': 'phecode_413-6 - Heart valve replaced',\n",
       " 'phecode_554': 'phecode_554 - Diseases of the pancreas',\n",
       " 'phecode_684': 'phecode_684 - Diseases of hair and hair follicles',\n",
       " 'phecode_532': 'phecode_532 - Other disorders of the intestines',\n",
       " 'phecode_101-8': 'phecode_101-8 - Malignant neoplasm of the pancreas',\n",
       " 'phecode_546': 'phecode_546 - Other disorders of liver',\n",
       " 'phecode_397': 'phecode_397 - Other hearing abnormality',\n",
       " 'phecode_723-1': 'phecode_723-1 - Adhesive capsulitis of shoulder',\n",
       " 'phecode_413-3': 'phecode_413-3 - Tricuspid valve disorders',\n",
       " 'phecode_413-11': 'phecode_413-11 - Mitral valve insufficiency',\n",
       " 'phecode_666': 'phecode_666 - Urticaria',\n",
       " 'phecode_594-4': 'phecode_594-4 - Frequency of urination and polyuria',\n",
       " 'phecode_395-1': 'phecode_395-1 - Labyrinthitis',\n",
       " 'phecode_410-2': 'phecode_410-2 - Endocarditis',\n",
       " 'phecode_613-5': 'phecode_613-5 - Mastodynia',\n",
       " 'phecode_209': 'phecode_209 - Disorders of the pituitary gland and its hypothalamic control',\n",
       " 'phecode_513-1': 'phecode_513-1 - Esophageal ulcer',\n",
       " 'phecode_387': 'phecode_387 - Disorders of refraction and accommodation',\n",
       " 'phecode_374-4': 'phecode_374-4 - Retinal disorders in diseases classified elsewhere',\n",
       " 'phecode_002': 'phecode_002 - Staphylococcus',\n",
       " 'phecode_121-21': 'phecode_121-21 - Chronic lymphoid leukemia',\n",
       " 'phecode_281-1': 'phecode_281-1 - Substance abuse',\n",
       " 'phecode_397-1': 'phecode_397-1 - Tinnitus',\n",
       " 'phecode_334': 'phecode_334 - Disorders of other cranial nerves',\n",
       " 'phecode_287': 'phecode_287 - Psychotic disorder',\n",
       " 'phecode_684-1': 'phecode_684-1 - Alopecia',\n",
       " 'phecode_232-4': 'phecode_232-4 - Vitamin D deficiency',\n",
       " 'phecode_706-2': 'phecode_706-2 - Ankylosing spondylitis',\n",
       " 'phecode_367-2': 'phecode_367-2 - Keratitis',\n",
       " 'phecode_161': 'phecode_161 - Hemolytic anemias',\n",
       " 'phecode_726-2': 'phecode_726-2 - Pathologic fracture',\n",
       " 'phecode_074': 'phecode_074 - Aspergillosis',\n",
       " 'phecode_989': 'phecode_989 - Family history of respiratory disease',\n",
       " 'phecode_474-1': 'phecode_474-1 - Emphysema',\n",
       " 'phecode_389': 'phecode_389 - Other disorders of eye',\n",
       " 'phecode_618-2': 'phecode_618-2 - Uterine-Uterovaginal prolapse',\n",
       " 'phecode_722-4': 'phecode_722-4 - Palmar fascial fibromatosis [Dupuytren]',\n",
       " 'phecode_280-11': 'phecode_280-11 - Alcohol abuse',\n",
       " 'phecode_394-2': 'phecode_394-2 - Vertigo',\n",
       " 'phecode_686-2': 'phecode_686-2 - Non-pressure chronic ulcer',\n",
       " 'phecode_618-11': 'phecode_618-11 - Cystocele',\n",
       " 'phecode_622-1': 'phecode_622-1 - Polyp of corpus uteri',\n",
       " 'phecode_360-4': 'phecode_360-4 - Blepharitis',\n",
       " 'phecode_019': 'phecode_019 - Treponema',\n",
       " 'phecode_721-2': 'phecode_721-2 - Ganglion cyst',\n",
       " 'phecode_122-22': 'phecode_122-22 - Diffuse large B-cell lymphoma*',\n",
       " 'phecode_581-31': 'phecode_581-31 - Hydronephrosis',\n",
       " 'phecode_593-3': 'phecode_593-3 - Recurrent and persistent hematuria*',\n",
       " 'phecode_487-1': 'phecode_487-1 - Epistaxis',\n",
       " 'phecode_161-2': 'phecode_161-2 - Extrinsic (acquired) hemolytic anemias',\n",
       " 'phecode_234': 'phecode_234 - Other nutritional deficiencies',\n",
       " 'phecode_626-14': 'phecode_626-14 - Irregular menstrual bleeding',\n",
       " 'phecode_723-6': 'phecode_723-6 - Impingement syndrome of shoulder*',\n",
       " 'phecode_169': 'phecode_169 - Platelet defects',\n",
       " 'phecode_525-1': 'phecode_525-1 - Celiac disease',\n",
       " 'phecode_900': 'phecode_900 - Spontaneous abortion or history of recurrent pregnancy loss',\n",
       " 'phecode_169-1': 'phecode_169-1 - Thrombocytopenia',\n",
       " 'phecode_513-2': 'phecode_513-2 - Gastric ulcer',\n",
       " 'phecode_900-1': 'phecode_900-1 - Spontaneous abortion',\n",
       " 'phecode_465-11': 'phecode_465-11 - Streptococcal tonsillitis-pharyngitis',\n",
       " 'phecode_805': 'phecode_805 - Fever of unknown origin',\n",
       " 'phecode_333-2': 'phecode_333-2 - Insomnia',\n",
       " 'phecode_660-23': 'phecode_660-23 - Cutaneous erysipeloid',\n",
       " 'phecode_448-1': \"phecode_448-1 - Raynaud's syndrome\",\n",
       " 'phecode_280-12': 'phecode_280-12 - Alcohol dependence',\n",
       " 'phecode_135': 'phecode_135 - Benign neoplasm of the head and neck',\n",
       " 'phecode_542-1': 'phecode_542-1 - Fibrosis and cirrhosis of liver',\n",
       " 'phecode_668-2': 'phecode_668-2 - Seborrheic dermatitis',\n",
       " 'phecode_003': 'phecode_003 - Escherichia coli',\n",
       " 'phecode_376': 'phecode_376 - Disorders of vitreous body',\n",
       " 'phecode_726-1': 'phecode_726-1 - Osteoporosis',\n",
       " 'phecode_398': 'phecode_398 - Other disorders of ear',\n",
       " 'phecode_719-1': 'phecode_719-1 - Cramp and spasm',\n",
       " 'phecode_164-2': 'phecode_164-2 - Macrocytic anemia',\n",
       " 'phecode_416-42': 'phecode_416-42 - Left bundle branch block',\n",
       " 'phecode_556': 'phecode_556 - Other symptoms involving the digestive system and abdomen',\n",
       " 'phecode_349': 'phecode_349 - Disorder of nervous system',\n",
       " 'phecode_513-3': 'phecode_513-3 - Duodenal ulcer',\n",
       " 'phecode_713-2': 'phecode_713-2 - Effusion of joint',\n",
       " 'phecode_628': 'phecode_628 - Ovarian cyst',\n",
       " 'phecode_160-2': 'phecode_160-2 - Megaloblastic anemia',\n",
       " 'phecode_535': 'phecode_535 - Intestinal or peritoneal adhesions',\n",
       " 'phecode_101-1': 'phecode_101-1 - Malignant neoplasm of the esophagus',\n",
       " 'phecode_446-2': 'phecode_446-2 - Orthostatic hypotension',\n",
       " 'phecode_668-3': 'phecode_668-3 - Contact dermatitis',\n",
       " 'phecode_416-212': 'phecode_416-212 - Persistent atrial fibrillation*',\n",
       " 'phecode_351-3': 'phecode_351-3 - Paresthesia of skin*',\n",
       " 'phecode_479-6': 'phecode_479-6 - Pulmonary collapse [Atelectasis]',\n",
       " 'phecode_379': 'phecode_379 - Infection of the eye',\n",
       " 'phecode_103-1': 'phecode_103-1 - Melanomas of skin',\n",
       " 'phecode_594-2': 'phecode_594-2 - Dysuria',\n",
       " 'phecode_830': 'phecode_830 - Proteinuria',\n",
       " 'phecode_200-2': 'phecode_200-2 - Goiter',\n",
       " 'phecode_554-1': 'phecode_554-1 - Pancreatitis',\n",
       " 'phecode_286-1': 'phecode_286-1 - Bipolar disorder',\n",
       " 'phecode_084-2': 'phecode_084-2 - Malaria [Plasmodium]',\n",
       " 'phecode_584-1': 'phecode_584-1 - Renal dialysis',\n",
       " 'phecode_686-1': 'phecode_686-1 - Pressure ulcer',\n",
       " 'phecode_417-3': 'phecode_417-3 - Bradycardia*',\n",
       " 'phecode_416-41': 'phecode_416-41 - Atrioventricular block',\n",
       " 'phecode_660-21': 'phecode_660-21 - Impetigo',\n",
       " 'phecode_520-13': 'phecode_520-13 - Umbilical hernia',\n",
       " 'phecode_100': 'phecode_100 - Malignant neoplasm of the head and neck',\n",
       " 'phecode_495': 'phecode_495 - Abnormal findings on diagnostic imaging of lung',\n",
       " 'phecode_840-2': 'phecode_840-2 - Allergy to insects',\n",
       " 'phecode_376-2': 'phecode_376-2 - Vitreous opacities',\n",
       " 'phecode_256-5': 'phecode_256-5 - Hypokalemia [Hypopotassemia]',\n",
       " 'phecode_626-13': 'phecode_626-13 - Irregular menstrual cycle',\n",
       " 'phecode_394-21': 'phecode_394-21 - Paroxysmal vertigo',\n",
       " 'phecode_214': 'phecode_214 - Ovarian dysfunction',\n",
       " 'phecode_361': 'phecode_361 - Disorders of eyelid function',\n",
       " 'phecode_175': 'phecode_175 - Polycythemias',\n",
       " 'phecode_395-3': 'phecode_395-3 - Noise effects on inner ear',\n",
       " 'phecode_416-213': 'phecode_416-213 - Chronic atrial fibrillation*',\n",
       " 'phecode_938': 'phecode_938 - Other conditions or status of the mother complicating pregnancy, childbirth, or the puerperium',\n",
       " 'phecode_168': 'phecode_168 - Coagulation defects, purpura and other hemorrhagic conditions',\n",
       " 'phecode_161-24': 'phecode_161-24 - Paroxysmal nocturnal hemoglobinuria [Marchiafava-Micheli]*',\n",
       " 'phecode_341-2': 'phecode_341-2 - Hemiplegia and hemiparesis',\n",
       " 'phecode_718-1': 'phecode_718-1 - Radiculopathy',\n",
       " 'phecode_912-1': 'phecode_912-1 - Varicose veins in pregnancy',\n",
       " 'phecode_488-6': 'phecode_488-6 - Wheezing',\n",
       " 'phecode_438-1': 'phecode_438-1 - Aortic aneurysm and ectasia',\n",
       " 'phecode_726-5': 'phecode_726-5 - Osteomalacia',\n",
       " 'phecode_122-21': 'phecode_122-21 - Follicular lymphoma',\n",
       " 'phecode_416-11': 'phecode_416-11 - Supraventricular tachycardia',\n",
       " 'phecode_530-1': 'phecode_530-1 - Anal fissure',\n",
       " 'phecode_721-11': 'phecode_721-11 - Trigger finger',\n",
       " 'phecode_280-13': 'phecode_280-13 - Alcoholic liver disease',\n",
       " 'phecode_552': 'phecode_552 - Other diseases of biliary tract',\n",
       " 'phecode_144-1': 'phecode_144-1 - Benign neoplasms of external female genital organs and cervix',\n",
       " 'phecode_177-2': 'phecode_177-2 - Enlargement of lymph nodes [Lymphadenopathy]',\n",
       " 'phecode_124-6': 'phecode_124-6 - Myelodysplastic syndrome',\n",
       " 'phecode_360-11': 'phecode_360-11 - Hordeolum externum',\n",
       " 'phecode_360-1': 'phecode_360-1 - Hordeolum',\n",
       " 'phecode_708-12': 'phecode_708-12 - Primary osteoarthritis of knee, lower leg',\n",
       " 'phecode_374-3': 'phecode_374-3 - Retinal vascular changes and occlusions',\n",
       " 'phecode_232-27': 'phecode_232-27 - Vitamin B12 deficiency',\n",
       " 'phecode_618-12': 'phecode_618-12 - Rectocele',\n",
       " 'phecode_627-3': 'phecode_627-3 - Postmenopausal atrophic vaginitis',\n",
       " 'phecode_379-2': 'phecode_379-2 - Eye infection, viral',\n",
       " 'phecode_430': 'phecode_430 - Nontraumatic Intracranial hemorrhage',\n",
       " 'phecode_620': 'phecode_620 - Dysplasia of female genital organs',\n",
       " 'phecode_418': 'phecode_418 - Abnormal results of cardiovascular function studies',\n",
       " 'phecode_135-5': 'phecode_135-5 - Benign neoplasm of the paranasal sinus and nasal cavity',\n",
       " 'phecode_712': 'phecode_712 - Other specific joint derangements',\n",
       " 'phecode_710': 'phecode_710 - Acquired deformities of limbs',\n",
       " 'phecode_628-2': 'phecode_628-2 - Corpus luteum cyst or hematoma',\n",
       " 'phecode_688': 'phecode_688 - Granulomatous disorder of the skin',\n",
       " 'phecode_997': 'phecode_997 - Family history of other condition',\n",
       " 'phecode_471-5': 'phecode_471-5 - Nasal polyps',\n",
       " 'phecode_529-2': 'phecode_529-2 - Abdominal distension and flatulence',\n",
       " 'phecode_555': 'phecode_555 - Ascites',\n",
       " 'phecode_683-1': 'phecode_683-1 - Ingrowing nail',\n",
       " 'phecode_680': 'phecode_680 - Epidermal thickening',\n",
       " 'phecode_580': 'phecode_580 - Glomerular diseases',\n",
       " 'phecode_597-1': 'phecode_597-1 - Urethral stricture',\n",
       " 'phecode_324-3': 'phecode_324-3 - Dystonia',\n",
       " 'phecode_416-43': 'phecode_416-43 - Right bundle branch block',\n",
       " 'phecode_328-1': \"phecode_328-1 - Alzheimer's disease\",\n",
       " 'phecode_705-2': 'phecode_705-2 - Juvenile rheumatoid arthritis [JRA-JIA]',\n",
       " 'phecode_515': 'phecode_515 - Heartburn and epigastric pain',\n",
       " 'phecode_229': 'phecode_229 - Other endocrine disorders',\n",
       " 'phecode_514-2': 'phecode_514-2 - Intestinal obstruction',\n",
       " 'phecode_619-5': 'phecode_619-5 - Noninflammatory disorders of vulva and perineum',\n",
       " 'phecode_930': 'phecode_930 - Maternal care for abnormality of pelvic organs',\n",
       " 'phecode_507-2': 'phecode_507-2 - Cellulitis and abscess of mouth',\n",
       " 'phecode_807-1': 'phecode_807-1 - Chronic fatigue syndrome',\n",
       " 'phecode_807-11': 'phecode_807-11 - Postviral fatigue syndrome*',\n",
       " 'phecode_728': 'phecode_728 - Chondropathies',\n",
       " 'phecode_682-4': 'phecode_682-4 - Acne',\n",
       " 'phecode_491': 'phecode_491 - Pleurisy',\n",
       " 'phecode_106-2': 'phecode_106-2 - Malignant neoplasm of the uterus',\n",
       " 'phecode_179': 'phecode_179 - Immunodeficiencies',\n",
       " 'phecode_200-12': 'phecode_200-12 - Hypothyroidism due to drugs or iatrogenic causes',\n",
       " 'phecode_417-2': 'phecode_417-2 - Tachycardia',\n",
       " 'phecode_396-2': 'phecode_396-2 - Sensorineural hearing loss',\n",
       " 'phecode_146': 'phecode_146 - Benign neoplasm of the genitourinary system',\n",
       " 'phecode_431-2': 'phecode_431-2 - Transient cerebral ischemic attacks',\n",
       " 'phecode_360-2': 'phecode_360-2 - Chalazion',\n",
       " 'phecode_486-5': 'phecode_486-5 - Abnormal sputum',\n",
       " 'phecode_116-5': 'phecode_116-5 - Secondary malignancy of brain-spine',\n",
       " 'phecode_377': 'phecode_377 - Hemorrhage of the eye',\n",
       " 'phecode_520-14': 'phecode_520-14 - Ventral hernia',\n",
       " 'phecode_367-13': 'phecode_367-13 - Blepharoconjunctivitis',\n",
       " 'phecode_348': 'phecode_348 - Other diseases of spinal cord',\n",
       " 'phecode_615': 'phecode_615 - Endometriosis',\n",
       " 'phecode_540': 'phecode_540 - Hepatitis',\n",
       " 'phecode_320': 'phecode_320 - Meningitis',\n",
       " 'phecode_084-1': 'phecode_084-1 - Amebiasis [Entamoeba histolytica]',\n",
       " 'phecode_200-6': 'phecode_200-6 - Atrophy of thyroid*',\n",
       " 'phecode_200-15': 'phecode_200-15 - Postinfectious hypothyroidism*',\n",
       " 'phecode_714': 'phecode_714 - Deforming dorsopathies',\n",
       " 'phecode_841-3': 'phecode_841-3 - Allergy to narcotic agent',\n",
       " 'phecode_033': 'phecode_033 - Francisella',\n",
       " 'phecode_406': 'phecode_406 - Chronic pulmonary heart disease',\n",
       " 'phecode_610-1': 'phecode_610-1 - Cystic mastopathy',\n",
       " 'phecode_684-13': 'phecode_684-13 - Scarring hair loss*',\n",
       " 'phecode_529-3': 'phecode_529-3 - Fecal incontinence',\n",
       " 'phecode_374-1': 'phecode_374-1 - Retinal detachments and breaks',\n",
       " 'phecode_139-53': 'phecode_139-53 - Lipoma of other skin subcutaneous tissue',\n",
       " 'phecode_832': 'phecode_832 - Other abnormal findings in urine',\n",
       " 'phecode_247-5': 'phecode_247-5 - Disorders of calcium metabolism',\n",
       " 'phecode_320-1': 'phecode_320-1 - Infective meningitis',\n",
       " 'phecode_108-4': 'phecode_108-4 - Malignant neoplasm of the kidney',\n",
       " 'phecode_002-1': 'phecode_002-1 - Staphylococcus aureus',\n",
       " 'phecode_180': 'phecode_180 - Other disorders involving the immune mechanism',\n",
       " 'phecode_101-2': 'phecode_101-2 - Malignant neoplasm of stomach',\n",
       " 'phecode_723-5': 'phecode_723-5 - Tendinitis',\n",
       " 'phecode_431-12': 'phecode_431-12 - Hemorrhagic stroke',\n",
       " 'phecode_831': 'phecode_831 - Glycosuria',\n",
       " 'phecode_106-21': 'phecode_106-21 - Malignant neoplasm of endometrium',\n",
       " 'phecode_550-2': 'phecode_550-2 - Cholecystitis',\n",
       " 'phecode_700-1': 'phecode_700-1 - Lupus',\n",
       " 'phecode_626-11': 'phecode_626-11 - Absent or infrequent menstruation',\n",
       " 'phecode_200-16': 'phecode_200-16 - Myxedema*',\n",
       " 'phecode_557-2': 'phecode_557-2 - Blood in stool',\n",
       " 'phecode_413-22': 'phecode_413-22 - Aortic insufficiency',\n",
       " 'phecode_601': 'phecode_601 - Inflammatory diseases of prostate',\n",
       " 'phecode_554-11': 'phecode_554-11 - Acute pancreatitis',\n",
       " 'phecode_468-1': 'phecode_468-1 - Viral pneumonia',\n",
       " 'phecode_596-5': 'phecode_596-5 - Neuromuscular dysfunction of bladder',\n",
       " 'phecode_674': 'phecode_674 - Disorders of pigmentation',\n",
       " 'phecode_700-2': 'phecode_700-2 - Sicca syndrome [Sjogren syndrome]',\n",
       " 'phecode_601-1': 'phecode_601-1 - Prostatitis',\n",
       " 'phecode_109': 'phecode_109 - Malignant neoplasm of the eye, brain and other parts of central nervous system',\n",
       " 'phecode_979-2': 'phecode_979-2 - Kidney transplant',\n",
       " 'phecode_375-11': 'phecode_375-11 - Open angle glaucoma',\n",
       " 'phecode_835': 'phecode_835 - Cytology and pathology findings',\n",
       " 'phecode_901': 'phecode_901 - Abnormal products of conception',\n",
       " 'phecode_664': 'phecode_664 - Papulosquamous disorders',\n",
       " 'phecode_162': 'phecode_162 - Aplastic anemia',\n",
       " 'phecode_369': 'phecode_369 - Noninflammatory disorders of the cornea',\n",
       " 'phecode_406-1': 'phecode_406-1 - Pulmonary hypertension',\n",
       " 'phecode_144-13': 'phecode_144-13 - Benign neoplasms of the cervix',\n",
       " 'phecode_208': 'phecode_208 - Disorders of parathyroid gland',\n",
       " 'phecode_586-2': 'phecode_586-2 - Cyst of kidney',\n",
       " 'phecode_438-11': 'phecode_438-11 - Abdominal aortic aneurysm',\n",
       " 'phecode_494': 'phecode_494 - Voice disturbance',\n",
       " 'phecode_001': 'phecode_001 - Salmonella',\n",
       " 'phecode_059': 'phecode_059 - Coronavirus',\n",
       " 'phecode_108-41': 'phecode_108-41 - Malignant neoplasm of kidney, except pelvis',\n",
       " 'phecode_724-5': 'phecode_724-5 - Exostosis',\n",
       " 'phecode_164-6': 'phecode_164-6 - Anemia secondary to chronic diseases and conditions',\n",
       " 'phecode_723-51': 'phecode_723-51 - Achilles tendinitis',\n",
       " 'phecode_704-5': 'phecode_704-5 - Giant cell arteritis',\n",
       " 'phecode_059-1': 'phecode_059-1 - COVID-19*',\n",
       " 'phecode_356': 'phecode_356 - Speech disturbance',\n",
       " 'phecode_556-8': 'phecode_556-8 - Nonspecific abnormal findings in stool contents',\n",
       " 'phecode_701': 'phecode_701 - Osteomyelitis, periostitis, and other infections involving bone',\n",
       " 'phecode_440-2': 'phecode_440-2 - Arterial embolism and thrombosis',\n",
       " 'phecode_507-1': 'phecode_507-1 - Stomatitis',\n",
       " 'phecode_347': 'phecode_347 - Other disorders of the brain and CNS',\n",
       " 'phecode_708-11': 'phecode_708-11 - Primary osteoarthritis of hip, pelvic region and thigh',\n",
       " 'phecode_488-8': 'phecode_488-8 - Mouth breathing*',\n",
       " 'phecode_585-1': 'phecode_585-1 - Renal colic',\n",
       " 'phecode_700-11': 'phecode_700-11 - Systemic lupus erythematosus [SLE]',\n",
       " 'phecode_622-2': 'phecode_622-2 - Mucous polyp of cervix',\n",
       " 'phecode_471-2': 'phecode_471-2 - Deviated nasal septum',\n",
       " 'phecode_120-13': 'phecode_120-13 - Erythroid',\n",
       " 'phecode_324-4': 'phecode_324-4 - Tremor',\n",
       " 'phecode_337-2': 'phecode_337-2 - Inflammatory polyneuropathy',\n",
       " 'phecode_626-2': 'phecode_626-2 - Dysmenorrhea',\n",
       " 'phecode_514-1': 'phecode_514-1 - Esophageal obstruction (Stricture and stenosis of esophagus)',\n",
       " 'phecode_367-5': 'phecode_367-5 - Uveitis',\n",
       " 'phecode_381': 'phecode_381 - Strabismus',\n",
       " 'phecode_682-11': 'phecode_682-11 - Sebaceous cyst [Epidermal cyst]',\n",
       " 'phecode_367-52': 'phecode_367-52 - Iridocyclitis',\n",
       " 'phecode_714-3': 'phecode_714-3 - Scoliosis',\n",
       " 'phecode_208-2': 'phecode_208-2 - Hyperparathyroidism',\n",
       " 'phecode_503': 'phecode_503 - Diseases of pulp and periapical tissues',\n",
       " 'phecode_109-3': 'phecode_109-3 - Malignant neoplasm of brain',\n",
       " 'phecode_214-1': 'phecode_214-1 - Primary ovarian failure',\n",
       " 'phecode_526-3': 'phecode_526-3 - Intestinal infection due to protozoa',\n",
       " 'phecode_256-3': 'phecode_256-3 - Mixed disorder of acid-base balance',\n",
       " 'phecode_334-1': 'phecode_334-1 - Trigeminal nerve disorders [CN5]',\n",
       " 'phecode_387-2': 'phecode_387-2 - Myopia',\n",
       " 'phecode_522-91': 'phecode_522-91 - Atrophic gastritis',\n",
       " 'phecode_104': 'phecode_104 - Malignant sarcoma-related cancers',\n",
       " 'phecode_205': 'phecode_205 - Hypoglycemia',\n",
       " 'phecode_391-12': 'phecode_391-12 - Chronic otitis media',\n",
       " 'phecode_501': 'phecode_501 - Dental caries',\n",
       " 'phecode_124-3': 'phecode_124-3 - Polycythemia vera',\n",
       " 'phecode_581-1': 'phecode_581-1 - Pyelonephritis',\n",
       " 'phecode_288-4': 'phecode_288-4 - Phobic disorders',\n",
       " 'phecode_443': 'phecode_443 - Other specified disorders of arteries and arterioles',\n",
       " 'phecode_377-2': 'phecode_377-2 - Conjunctival hemorrhage',\n",
       " 'phecode_388': 'phecode_388 - Blindness and low vision',\n",
       " 'phecode_288-2': 'phecode_288-2 - Panic disorder [episodic paroxysmal anxiety]',\n",
       " 'phecode_685': 'phecode_685 - Disorders of sweat glands',\n",
       " 'phecode_724-52': 'phecode_724-52 - Osteophyte*',\n",
       " 'phecode_503-5': 'phecode_503-5 - Periapical abscess',\n",
       " 'phecode_614-52': 'phecode_614-52 - Vaginitis and vulvovaginitis',\n",
       " 'phecode_468-2': 'phecode_468-2 - Bacterial pneumonia',\n",
       " 'phecode_557-1': 'phecode_557-1 - Hematemesis',\n",
       " 'phecode_688-1': 'phecode_688-1 - Sarcoidosis',\n",
       " 'phecode_348-2': 'phecode_348-2 - Myelopathies',\n",
       " 'phecode_506': 'phecode_506 - Diseases of salivary glands',\n",
       " 'phecode_526-13': 'phecode_526-13 - Shigellosis',\n",
       " 'phecode_027': 'phecode_027 - Shigella',\n",
       " 'phecode_284-2': 'phecode_284-2 - Suicide and self-inflicted harm',\n",
       " 'phecode_284': 'phecode_284 - Suicide ideation and attempt or self harm',\n",
       " 'phecode_256-4': 'phecode_256-4 - Hyperkalemia [Hyperpotassemia]',\n",
       " 'phecode_174': 'phecode_174 - Diseases of spleen',\n",
       " 'phecode_715-3': 'phecode_715-3 - Spondylolisthesis',\n",
       " 'phecode_619-3': 'phecode_619-3 - Noninflammatory disorders of cervix',\n",
       " 'phecode_540-1': 'phecode_540-1 - Chronic hepatitis',\n",
       " 'phecode_530-2': 'phecode_530-2 - Anorectal abscess',\n",
       " 'phecode_619-1': 'phecode_619-1 - Noninflammatory disorders of ovary, fallopian tube, and broad ligament',\n",
       " 'phecode_287-5': 'phecode_287-5 - Drug-induced psychotic disorder',\n",
       " 'phecode_023': 'phecode_023 - Vibrio',\n",
       " 'phecode_558': 'phecode_558 - Abnormal findings on diagnostic imaging of the digestive tract',\n",
       " 'phecode_146-2': 'phecode_146-2 - Benign neoplasm of the prostate',\n",
       " 'phecode_804': 'phecode_804 - Other symptoms and signs involving the circulatory and respiratory system',\n",
       " 'phecode_508': 'phecode_508 - Diseases of lips',\n",
       " 'phecode_391-11': 'phecode_391-11 - Acute otitis media',\n",
       " 'phecode_256-31': 'phecode_256-31 - Acidosis',\n",
       " 'phecode_287-1': 'phecode_287-1 - Schizophrenia',\n",
       " 'phecode_700-3': 'phecode_700-3 - Systemic sclerosis',\n",
       " 'phecode_140': 'phecode_140 - Benign neoplasm of the breast',\n",
       " 'phecode_139-6': 'phecode_139-6 - Hemangioma and lymphangioma',\n",
       " 'phecode_580-3': 'phecode_580-3 - Nephrotic syndrome',\n",
       " 'phecode_478': 'phecode_478 - Aspiration pneumonia',\n",
       " 'phecode_343': 'phecode_343 - Disorders of autonomic nervous system',\n",
       " 'phecode_341-1': 'phecode_341-1 - Cerebral palsy',\n",
       " 'phecode_180-3': 'phecode_180-3 - Paraproteinemias',\n",
       " 'phecode_329-1': 'phecode_329-1 - Memory loss',\n",
       " 'phecode_540-3': 'phecode_540-3 - Viral hepatitits',\n",
       " 'phecode_054': 'phecode_054 - Hepatovirus',\n",
       " 'phecode_665-2': 'phecode_665-2 - Psoriatic arthropathy',\n",
       " 'phecode_330-11': 'phecode_330-11 - Generalized epilepsy',\n",
       " 'phecode_394-1': 'phecode_394-1 - Meniere disease',\n",
       " 'phecode_284-29': 'phecode_284-29 - Intentional self-harm*',\n",
       " 'phecode_664-1': 'phecode_664-1 - Lichen planus, nitidus, or striatus',\n",
       " 'phecode_168-1': 'phecode_168-1 - Hypo-coagulability',\n",
       " 'phecode_139-61': 'phecode_139-61 - Hemangioma',\n",
       " 'phecode_467-11': 'phecode_467-11 - Acute obstructive laryngitis [croup]',\n",
       " 'phecode_334-11': 'phecode_334-11 - Trigeminal neuralgia',\n",
       " 'phecode_351-2': 'phecode_351-2 - Hypoesthesia of skin*',\n",
       " 'phecode_247-4': 'phecode_247-4 - Disorders of magnesium metabolism',\n",
       " 'phecode_537': 'phecode_537 - Abnormality of the peritoneum',\n",
       " 'phecode_423': 'phecode_423 - Abnormal cardiac sounds',\n",
       " 'phecode_211': 'phecode_211 - Disorders of adrenal glands',\n",
       " 'phecode_423-1': 'phecode_423-1 - Cardiac murmurs',\n",
       " 'phecode_098': 'phecode_098 - Carrier or suspected carrier of infectious diseases',\n",
       " 'phecode_675': 'phecode_675 - Atrophic conditions of skin',\n",
       " 'phecode_334-2': 'phecode_334-2 - Facial nerve disorders and weakness',\n",
       " 'phecode_106-1': 'phecode_106-1 - Malignant neoplasm of external female genital organs and cervix',\n",
       " 'phecode_177-4': 'phecode_177-4 - Lymphedema',\n",
       " 'phecode_256-6': 'phecode_256-6 - Fluid overload',\n",
       " 'phecode_244': 'phecode_244 - Disorders of lipoprotein metabolism and other lipidemias',\n",
       " 'phecode_327': 'phecode_327 - Other degenerative diseases of nervous system',\n",
       " 'phecode_701-1': 'phecode_701-1 - Osteomyelitis',\n",
       " 'phecode_675-1': 'phecode_675-1 - Circumscribed scleroderma',\n",
       " 'phecode_624': 'phecode_624 - Symptoms involving female genital tract',\n",
       " 'phecode_729': 'phecode_729 - Other acquired musculoskeletal deformity',\n",
       " 'phecode_148': 'phecode_148 - Benign neoplasm of the eye, brain and other parts of central nervous system',\n",
       " 'phecode_596-3': 'phecode_596-3 - Diverticulum of bladder',\n",
       " 'phecode_101-6': 'phecode_101-6 - Malignant neoplasm of the liver and intrahepatic bile ducts',\n",
       " 'phecode_331-1': 'phecode_331-1 - Tension headache',\n",
       " 'phecode_723-3': \"phecode_723-3 - Medial epicondylitis (Golfer's elbow)\",\n",
       " 'phecode_613-1': 'phecode_613-1 - Inflammatory disease of breast',\n",
       " 'phecode_619-2': 'phecode_619-2 - Disorders of uterus, NEC',\n",
       " 'phecode_387-3': 'phecode_387-3 - Astigmatism',\n",
       " 'phecode_848': 'phecode_848 - Nonspecific abnormal findings of other body structures',\n",
       " 'phecode_603': 'phecode_603 - Disorders and symptoms of testis',\n",
       " 'phecode_532-1': 'phecode_532-1 - Intestinal fistula',\n",
       " 'phecode_416-5': 'phecode_416-5 - Premature depolarization [Premature beats]',\n",
       " 'phecode_344': 'phecode_344 - Disorders of the circulation of the cerebrospinal fluid',\n",
       " 'phecode_721-6': \"phecode_721-6 - Baker's cyst [popliteal cyst]\",\n",
       " 'phecode_336-55': 'phecode_336-55 - Lesion of plantar nerve',\n",
       " 'phecode_324-34': 'phecode_324-34 - Torticollis',\n",
       " 'phecode_449': 'phecode_449 - Other disorders of the circulatory system',\n",
       " 'phecode_509': 'phecode_509 - Diseases of tongue',\n",
       " 'phecode_667': 'phecode_667 - Erythematous conditions',\n",
       " 'phecode_169-11': 'phecode_169-11 - Immune thrombocytopenic purpura [ITP]',\n",
       " 'phecode_200-4': 'phecode_200-4 - Thyroiditis',\n",
       " 'phecode_411': 'phecode_411 - Other diseases of pericardium',\n",
       " 'phecode_430-2': 'phecode_430-2 - Nontraumatic intracerebral hemorrhage',\n",
       " 'phecode_556-3': 'phecode_556-3 - Abdominal or pelvic swelling, mass, or lump',\n",
       " 'phecode_912-2': 'phecode_912-2 - Thrombotic conditions of pregnancy',\n",
       " 'phecode_700-4': 'phecode_700-4 - Inflammatory myopathy',\n",
       " 'phecode_542-4': 'phecode_542-4 - Portal hypertension',\n",
       " 'phecode_299': 'phecode_299 - Mental disorder, not otherwise specified',\n",
       " 'phecode_537-1': 'phecode_537-1 - Peritonitis',\n",
       " 'phecode_414-2': 'phecode_414-2 - Dilated cardiomyopathy*',\n",
       " 'phecode_440-11': 'phecode_440-11 - Deep vein thrombosis [DVT]',\n",
       " 'phecode_165': 'phecode_165 - Hemoglobinopathies',\n",
       " 'phecode_086': 'phecode_086 - Pediculosis, acariasis and other infestations',\n",
       " 'phecode_091': 'phecode_091 - Gangrene',\n",
       " 'phecode_596-1': 'phecode_596-1 - Bladder neck obstruction',\n",
       " 'phecode_614-54': 'phecode_614-54 - Abscess or ulceration of vulva',\n",
       " 'phecode_661': 'phecode_661 - Viral exanthemata NOS',\n",
       " 'phecode_702-3': 'phecode_702-3 - Enteropathic arthropathies',\n",
       " 'phecode_676-2': 'phecode_676-2 - Scar conditions and fibrosis of skin',\n",
       " 'phecode_674-2': 'phecode_674-2 - Hypepigmentation',\n",
       " 'phecode_720': 'phecode_720 - Spontaneous rupture of synovium and tendon',\n",
       " 'phecode_122-1': 'phecode_122-1 - Hodgkin lymphoma',\n",
       " 'phecode_009': 'phecode_009 - Pseudomonas',\n",
       " 'phecode_430-1': 'phecode_430-1 - Nontraumatic subarachnoid hemorrhage',\n",
       " 'phecode_554-12': 'phecode_554-12 - Chronic pancreatitis',\n",
       " 'phecode_433-2': 'phecode_433-2 - Occlusion and stenosis of precerebral arteries',\n",
       " 'phecode_709-24': 'phecode_709-24 - Hammer toe',\n",
       " 'phecode_380': 'phecode_380 - Disorders of optic nerve and visual pathways',\n",
       " 'phecode_603-1': 'phecode_603-1 - Hydrocele',\n",
       " 'phecode_361-3': 'phecode_361-3 - Ptosis of eyelid',\n",
       " 'phecode_730': 'phecode_730 - Other disorders and symptoms of the musculoskeletal system',\n",
       " 'phecode_200-21': 'phecode_200-21 - Diffuse goiter',\n",
       " 'phecode_323': 'phecode_323 - Systemic atrophies primarily affecting the central nervous system',\n",
       " 'phecode_391-7': 'phecode_391-7 - Perforation of tympanic membrane',\n",
       " 'phecode_954': 'phecode_954 - Other disorders of the breast associated with childbirth and disorders of lactation',\n",
       " 'phecode_416-12': 'phecode_416-12 - Ventricular tachycardia',\n",
       " 'phecode_680-1': 'phecode_680-1 - Corns and callosities',\n",
       " 'phecode_334-21': \"phecode_334-21 - Bell's palsy\",\n",
       " 'phecode_625-2': 'phecode_625-2 - Postcoital bleeding',\n",
       " 'phecode_112-1': 'phecode_112-1 - Mesothelioma*',\n",
       " 'phecode_366': 'phecode_366 - Noninflammatory disorders of conjunctiva',\n",
       " 'phecode_433-1': 'phecode_433-1 - Occlusion and stenosis of cerebral arteries',\n",
       " 'phecode_324-41': 'phecode_324-41 - Essential tremor*',\n",
       " 'phecode_484': 'phecode_484 - Pneumothorax and air leak',\n",
       " 'phecode_911': 'phecode_911 - Excessive vomiting in pregnancy',\n",
       " 'phecode_396-21': 'phecode_396-21 - Sensorineural hearing loss, bilateral',\n",
       " 'phecode_400-1': 'phecode_400-1 - Acute rheumatic fever',\n",
       " 'phecode_433-21': 'phecode_433-21 - Carotid artery stenosis',\n",
       " 'phecode_414-5': 'phecode_414-5 - Ischemic cardiomyopathy*',\n",
       " 'phecode_848-2': 'phecode_848-2 - Nonspecific abnormal findings on radiological and other examination of other intrathoracic organs (echo)',\n",
       " 'phecode_363-5': 'phecode_363-5 - Epiphora',\n",
       " 'phecode_614-1': 'phecode_614-1 - Pelvic peritoneal adhesions, female (postoperative) (postinfection)',\n",
       " 'phecode_175-2': 'phecode_175-2 - Secondary polycythemia',\n",
       " 'phecode_486-2': 'phecode_486-2 - Other diseases of bronchus',\n",
       " 'phecode_624-1': 'phecode_624-1 - Dystrophy of female genital tract',\n",
       " 'phecode_464-2': 'phecode_464-2 - Chronic nasopharyngitis',\n",
       " 'phecode_230-3': 'phecode_230-3 - Anorexia',\n",
       " 'phecode_709-22': 'phecode_709-22 - Hallux rigidus',\n",
       " 'phecode_660-7': 'phecode_660-7 - Pilonidal cyst',\n",
       " 'phecode_629': 'phecode_629 - Female infertility',\n",
       " 'phecode_211-2': 'phecode_211-2 - Adrenocortical insufficiency',\n",
       " 'phecode_007': 'phecode_007 - Hemophilus infection',\n",
       " 'phecode_679-2': 'phecode_679-2 - Pallor and flushing',\n",
       " 'phecode_341-12': 'phecode_341-12 - Athetoid cerebral palsy',\n",
       " 'phecode_552-1': 'phecode_552-1 - Cholangitis',\n",
       " 'phecode_718-3': 'phecode_718-3 - Mid back pain',\n",
       " 'phecode_179-1': 'phecode_179-1 - Hypogammaglobulinemia NOS',\n",
       " 'phecode_106-13': 'phecode_106-13 - Malignant neoplasm of the cervix',\n",
       " 'phecode_518': 'phecode_518 - Appendicitis',\n",
       " 'phecode_336-2': 'phecode_336-2 - Lesion of median, ulnar, radial nerve',\n",
       " 'phecode_592-11': 'phecode_592-11 - Acute cystitis',\n",
       " 'phecode_144-3': 'phecode_144-3 - Benign neoplasms of the ovary',\n",
       " 'phecode_149': 'phecode_149 - Benign neoplasm of the endocrine glands',\n",
       " 'phecode_945': 'phecode_945 - Rupture of uterus',\n",
       " 'phecode_100-1': 'phecode_100-1 - Malignant neoplasm of the oral cavity',\n",
       " 'phecode_945-3': 'phecode_945-3 - Postpartum hemorrhage',\n",
       " 'phecode_552-2': 'phecode_552-2 - Obstruction of bile duct',\n",
       " 'phecode_004-1': 'phecode_004-1 - Streptococcus pneumoniae',\n",
       " 'phecode_138-1': 'phecode_138-1 - Nevus, non-neoplastic',\n",
       " 'phecode_447': 'phecode_447 - Nonspecific low blood-pressure reading',\n",
       " 'phecode_209-2': 'phecode_209-2 - Hypopituitarism',\n",
       " 'phecode_308-4': 'phecode_308-4 - Demoralization and apathy',\n",
       " 'phecode_728-3': \"phecode_728-3 - Costochondritis (Tietze's disease)\",\n",
       " 'phecode_466-2': 'phecode_466-2 - Chronic tonsillitis and adenoiditis',\n",
       " 'phecode_679-22': 'phecode_679-22 - Flushing',\n",
       " 'phecode_177-1': 'phecode_177-1 - Lymphadenitis',\n",
       " 'phecode_353': 'phecode_353 - Symptoms and signs involving general sensations and perceptions',\n",
       " 'phecode_414-1': 'phecode_414-1 - Hypertrophic cardiomyopathy',\n",
       " 'phecode_283-4': \"phecode_283-4 - Patient's noncompliance with medical treatment and regimen\",\n",
       " 'phecode_101-21': 'phecode_101-21 - Malignant neoplasm of cardia',\n",
       " 'phecode_949': 'phecode_949 - Complications of labor and delivery NEC',\n",
       " 'phecode_904': 'phecode_904 - Bleeding in pregnancy',\n",
       " 'phecode_542-3': 'phecode_542-3 - Hepatic failure',\n",
       " 'phecode_817': 'phecode_817 - Motion sickness',\n",
       " 'phecode_105-1': 'phecode_105-1 - Malignant neoplasm of the breast, female',\n",
       " 'phecode_668-5': 'phecode_668-5 - Lichen simplex chronicus',\n",
       " 'phecode_200-23': 'phecode_200-23 - Multinodular goiter',\n",
       " 'phecode_614-51': 'phecode_614-51 - Cervicitis and endocervicitis',\n",
       " 'phecode_901-3': 'phecode_901-3 - Missed abortion',\n",
       " 'phecode_342': 'phecode_342 - Plegia and unspecified paralysis',\n",
       " 'phecode_356-2': 'phecode_356-2 - Aphasia and dysphasia',\n",
       " 'phecode_370': 'phecode_370 - Disorders of iris and ciliary body',\n",
       " 'phecode_468-21': 'phecode_468-21 - Pneumococcal pneumonia',\n",
       " 'phecode_700-41': 'phecode_700-41 - Myositis',\n",
       " 'phecode_249': 'phecode_249 - Amyloidosis',\n",
       " 'phecode_363-6': 'phecode_363-6 - Inflammation of lacrimal passages',\n",
       " 'phecode_482': 'phecode_482 - Suppurative and necrotic conditions of the lower respiratory tract',\n",
       " 'phecode_030': 'phecode_030 - Campylobacter',\n",
       " 'phecode_052-31': 'phecode_052-31 - Varicella [chickenpox]',\n",
       " 'phecode_381-1': 'phecode_381-1 - Paralytic strabismus [Neurogenic strabismus]',\n",
       " 'phecode_625-1': 'phecode_625-1 - Dyspareunia',\n",
       " 'phecode_411-2': 'phecode_411-2 - Pericardial effusion (noninflammatory)*',\n",
       " 'phecode_374-11': 'phecode_374-11 - Serous retinal detachment',\n",
       " 'phecode_510-6': 'phecode_510-6 - Diverticulum of esophagus',\n",
       " 'phecode_180-31': 'phecode_180-31 - Monoclonal gammopathy',\n",
       " 'phecode_604-5': 'phecode_604-5 - Balanoposthitis',\n",
       " 'phecode_015': 'phecode_015 - Clostridium',\n",
       " 'phecode_712-6': 'phecode_712-6 - Instability of joint',\n",
       " 'phecode_614-3': 'phecode_614-3 - Pelvic inflammatory disease (PID)',\n",
       " 'phecode_174-1': 'phecode_174-1 - Hyposplenism*',\n",
       " 'phecode_200-31': \"phecode_200-31 - Graves' disease [Toxic diffuse goiter]\",\n",
       " 'phecode_376-21': 'phecode_376-21 - Crystalline deposits in vitreous body',\n",
       " 'phecode_660-11': 'phecode_660-11 - Candidiasis of skin and nails',\n",
       " 'phecode_386-2': 'phecode_386-2 - Diplopia',\n",
       " 'phecode_502': 'phecode_502 - Other diseases of teeth and supporting structures',\n",
       " 'phecode_200-44': 'phecode_200-44 - Chronic thyroiditis',\n",
       " 'phecode_500': 'phecode_500 - Disorders of tooth develoment',\n",
       " 'phecode_251': 'phecode_251 - Disorders of bilirubin excretion',\n",
       " 'phecode_702-1': 'phecode_702-1 - Pyogenic arthritis [Septic arthritis]',\n",
       " 'phecode_725': 'phecode_725 - Developmental disorders of bone',\n",
       " 'phecode_507-11': 'phecode_507-11 - Recurrent oral aphthae [Recurrent aphthous stomatitis]',\n",
       " 'phecode_592-13': 'phecode_592-13 - Chronic interstitial cystitis',\n",
       " 'phecode_007-1': 'phecode_007-1 - Hemophilus influenzae',\n",
       " 'phecode_618-5': 'phecode_618-5 - Prolapse of vaginal vault after hysterectomy',\n",
       " 'phecode_504-3': 'phecode_504-3 - Periodontitis',\n",
       " 'phecode_338': 'phecode_338 - Myasthenia gravis and other myoneural disorders',\n",
       " 'phecode_413-32': 'phecode_413-32 - Tricuspid value insufficiency*',\n",
       " 'phecode_725-2': 'phecode_725-2 - Juvenile osteochondrosis',\n",
       " 'phecode_343-1': 'phecode_343-1 - Autonomic neuropathy',\n",
       " 'phecode_704-1': 'phecode_704-1 - Polyarteritis nodosa and related conditions',\n",
       " 'phecode_530-3': 'phecode_530-3 - Rectal prolapse',\n",
       " 'phecode_355': 'phecode_355 - Coma and other alteration of consciousness',\n",
       " 'phecode_177-13': 'phecode_177-13 - Acute lymphadenitis',\n",
       " 'phecode_814': 'phecode_814 - Jaundice (not of newborn)',\n",
       " 'phecode_209-1': 'phecode_209-1 - Pituitary hyperfunction',\n",
       " 'phecode_707-8': 'phecode_707-8 - Polyarthritis',\n",
       " 'phecode_841-13': 'phecode_841-13 - Allergy to sulfonamides',\n",
       " 'phecode_251-1': 'phecode_251-1 - Gilbert syndrome*',\n",
       " 'phecode_619-32': 'phecode_619-32 - Erosion and ectropion of cervix',\n",
       " 'phecode_523-3': 'phecode_523-3 - Gastric diverticulum',\n",
       " 'phecode_350-1': 'phecode_350-1 - Tetany',\n",
       " 'phecode_437': 'phecode_437 - Vascular insufficiency of intestine',\n",
       " 'phecode_208-21': 'phecode_208-21 - Primary hyperparathyroidism',\n",
       " 'phecode_679-3': 'phecode_679-3 - Changes in skin texture',\n",
       " 'phecode_283-8': 'phecode_283-8 - Other problems related to lifestyle',\n",
       " 'phecode_482-2': 'phecode_482-2 - Pyothorax (empyema)',\n",
       " 'phecode_120-22': 'phecode_120-22 - Mature T-Cell',\n",
       " 'phecode_614-53': \"phecode_614-53 - Cyst or abscess of Bartholin's gland\",\n",
       " ...}"
      ]
     },
     "execution_count": 75,
     "metadata": {},
     "output_type": "execute_result"
    }
   ],
   "source": [
    "datamodule.label_mapping"
   ]
  },
  {
   "cell_type": "code",
   "execution_count": null,
   "id": "1969800a-a22a-42bc-bcea-65fabd1d1790",
   "metadata": {
    "tags": []
   },
   "outputs": [],
   "source": [
    "shap_values = shap_values if not isinstance(shap_values, list) else shap_values[0]\n",
    "\n",
    "print('Done')\n",
    "\n",
    "    "
   ]
  },
  {
   "cell_type": "code",
   "execution_count": null,
   "id": "e1fe88de-d799-4006-8aec-4b5006b3e046",
   "metadata": {},
   "outputs": [],
   "source": []
  },
  {
   "cell_type": "code",
   "execution_count": null,
   "id": "10b6d66b-c4e7-4553-994c-37e4e31cae9f",
   "metadata": {},
   "outputs": [],
   "source": []
  }
 ],
 "metadata": {
  "kernelspec": {
   "display_name": "Python [conda env:ehrgraphs]",
   "language": "python",
   "name": "conda-env-ehrgraphs-py"
  },
  "language_info": {
   "codemirror_mode": {
    "name": "ipython",
    "version": 3
   },
   "file_extension": ".py",
   "mimetype": "text/x-python",
   "name": "python",
   "nbconvert_exporter": "python",
   "pygments_lexer": "ipython3",
   "version": "3.9.7"
  }
 },
 "nbformat": 4,
 "nbformat_minor": 5
}
