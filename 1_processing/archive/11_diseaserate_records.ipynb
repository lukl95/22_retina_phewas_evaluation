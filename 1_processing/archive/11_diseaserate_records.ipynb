{
 "cells": [
  {
   "cell_type": "markdown",
   "metadata": {},
   "source": [
    "# Benchmarks"
   ]
  },
  {
   "cell_type": "markdown",
   "metadata": {},
   "source": [
    "## Initialize"
   ]
  },
  {
   "cell_type": "code",
   "execution_count": 1,
   "metadata": {
    "ExecuteTime": {
     "end_time": "2021-01-05T11:03:10.491477Z",
     "start_time": "2021-01-05T11:03:10.445Z"
    },
    "execution": {
     "iopub.execute_input": "2022-04-28T14:10:02.130699Z",
     "iopub.status.busy": "2022-04-28T14:10:02.130111Z",
     "iopub.status.idle": "2022-04-28T14:10:05.661088Z",
     "shell.execute_reply": "2022-04-28T14:10:05.660560Z",
     "shell.execute_reply.started": "2022-04-28T14:10:02.130607Z"
    },
    "tags": []
   },
   "outputs": [],
   "source": [
    "import os\n",
    "import math\n",
    "import pathlib\n",
    "import numpy as np\n",
    "import pandas as pd\n",
    "from tqdm.auto import tqdm\n",
    "from IPython.display import clear_output\n",
    "\n",
    "import warnings\n",
    "from lifelines.utils import CensoringType\n",
    "from lifelines.utils import concordance_index"
   ]
  },
  {
   "cell_type": "code",
   "execution_count": 2,
   "metadata": {
    "execution": {
     "iopub.execute_input": "2022-04-28T14:10:05.663008Z",
     "iopub.status.busy": "2022-04-28T14:10:05.662255Z",
     "iopub.status.idle": "2022-04-28T14:10:10.356617Z",
     "shell.execute_reply": "2022-04-28T14:10:10.356001Z",
     "shell.execute_reply.started": "2022-04-28T14:10:05.662977Z"
    },
    "tags": []
   },
   "outputs": [
    {
     "name": "stdout",
     "output_type": "stream",
     "text": [
      "Requirement already satisfied: nancorrmp in /home/steinfej/miniconda3/envs/ehrgraphs/lib/python3.9/site-packages (0.21)\n",
      "Requirement already satisfied: pandas in /home/steinfej/miniconda3/envs/ehrgraphs/lib/python3.9/site-packages (from nancorrmp) (1.3.4)\n",
      "Requirement already satisfied: numpy in /home/steinfej/miniconda3/envs/ehrgraphs/lib/python3.9/site-packages (from nancorrmp) (1.20.3)\n",
      "Requirement already satisfied: python-dateutil>=2.7.3 in /home/steinfej/miniconda3/envs/ehrgraphs/lib/python3.9/site-packages (from pandas->nancorrmp) (2.8.2)\n",
      "Requirement already satisfied: pytz>=2017.3 in /home/steinfej/miniconda3/envs/ehrgraphs/lib/python3.9/site-packages (from pandas->nancorrmp) (2021.3)\n",
      "Requirement already satisfied: six>=1.5 in /home/steinfej/miniconda3/envs/ehrgraphs/lib/python3.9/site-packages (from python-dateutil>=2.7.3->pandas->nancorrmp) (1.16.0)\n"
     ]
    }
   ],
   "source": [
    "!pip install nancorrmp"
   ]
  },
  {
   "cell_type": "code",
   "execution_count": 3,
   "metadata": {
    "execution": {
     "iopub.execute_input": "2022-04-28T14:10:10.358117Z",
     "iopub.status.busy": "2022-04-28T14:10:10.357753Z",
     "iopub.status.idle": "2022-04-28T14:10:10.386540Z",
     "shell.execute_reply": "2022-04-28T14:10:10.385776Z",
     "shell.execute_reply.started": "2022-04-28T14:10:10.358088Z"
    },
    "tags": []
   },
   "outputs": [
    {
     "name": "stdout",
     "output_type": "stream",
     "text": [
      "/sc-projects/sc-proj-ukb-cvd\n"
     ]
    }
   ],
   "source": [
    "node = !hostname\n",
    "if \"sc\" in node[0]:\n",
    "    base_path = \"/sc-projects/sc-proj-ukb-cvd\"\n",
    "else: \n",
    "    base_path = \"/data/analysis/ag-reils/ag-reils-shared/cardioRS\"\n",
    "print(base_path)\n",
    "\n",
    "project_label = \"22_medical_records\"\n",
    "project_path = f\"{base_path}/results/projects/{project_label}\"\n",
    "figure_path = f\"{project_path}/figures\"\n",
    "output_path = f\"{project_path}/data\"\n",
    "\n",
    "experiment = 220413\n",
    "experiment_path = f\"{output_path}/{experiment}\"\n",
    "pathlib.Path(experiment_path).mkdir(parents=True, exist_ok=True)"
   ]
  },
  {
   "cell_type": "code",
   "execution_count": 4,
   "metadata": {
    "execution": {
     "iopub.execute_input": "2022-04-28T14:10:10.388281Z",
     "iopub.status.busy": "2022-04-28T14:10:10.387973Z",
     "iopub.status.idle": "2022-04-28T14:10:10.426189Z",
     "shell.execute_reply": "2022-04-28T14:10:10.425630Z",
     "shell.execute_reply.started": "2022-04-28T14:10:10.388248Z"
    },
    "tags": []
   },
   "outputs": [],
   "source": [
    "endpoint_defs = pd.read_feather(f\"{output_path}/phecode_defs_220306.feather\").sort_values(\"endpoint\")"
   ]
  },
  {
   "cell_type": "code",
   "execution_count": 4,
   "metadata": {
    "execution": {
     "iopub.execute_input": "2022-04-26T15:11:19.133442Z",
     "iopub.status.busy": "2022-04-26T15:11:19.133354Z",
     "iopub.status.idle": "2022-04-26T15:11:19.135753Z",
     "shell.execute_reply": "2022-04-26T15:11:19.135514Z",
     "shell.execute_reply.started": "2022-04-26T15:11:19.133430Z"
    },
    "tags": []
   },
   "outputs": [],
   "source": [
    "#endpoints = [e[:-6] for e in data_outcomes.columns if \"_event\" in e]\n",
    "endpoints = [\n",
    "    \"phecode_008\",\n",
    "    \"phecode_092-2\",\n",
    "    \"phecode_105\",\n",
    "    \"phecode_107-2\",\n",
    "    \"phecode_164\",\n",
    "    \"phecode_202-2\",\n",
    "    \"phecode_284\",\n",
    "    \"phecode_292\",\n",
    "    \"phecode_324-11\",\n",
    "    \"phecode_328\",\n",
    "    \"phecode_371\",\n",
    "    \"phecode_401\",\n",
    "    \"phecode_404\",\n",
    "    \"phecode_424\",\n",
    "    \"phecode_440-11\",\n",
    "    \"phecode_468\",\n",
    "    \"phecode_474\",\n",
    "    \"phecode_522-1\",\n",
    "    \"phecode_542-1\",\n",
    "    \"phecode_581-1\",\n",
    "    \"phecode_583\",\n",
    "    \"phecode_665\",\n",
    "    \"phecode_705-1\",\n",
    "    \"OMOP_4306655\"  \n",
    "]"
   ]
  },
  {
   "cell_type": "code",
   "execution_count": 5,
   "metadata": {
    "execution": {
     "iopub.execute_input": "2022-04-26T15:11:19.136177Z",
     "iopub.status.busy": "2022-04-26T15:11:19.136091Z",
     "iopub.status.idle": "2022-04-26T15:11:21.293953Z",
     "shell.execute_reply": "2022-04-26T15:11:21.293241Z",
     "shell.execute_reply.started": "2022-04-26T15:11:19.136166Z"
    },
    "tags": []
   },
   "outputs": [],
   "source": [
    "data_outcomes = pd.read_feather(f\"{output_path}/baseline_outcomes_220412.feather\").set_index(\"eid\")\n",
    "data_outcomes = data_outcomes[[c for c in data_outcomes.columns if \"_event\" in c and c[:-6] in endpoints]]"
   ]
  },
  {
   "cell_type": "code",
   "execution_count": 5,
   "metadata": {
    "execution": {
     "iopub.execute_input": "2022-04-28T14:10:20.279767Z",
     "iopub.status.busy": "2022-04-28T14:10:20.279342Z",
     "iopub.status.idle": "2022-04-28T14:10:20.538982Z",
     "shell.execute_reply": "2022-04-28T14:10:20.538184Z",
     "shell.execute_reply.started": "2022-04-28T14:10:20.279740Z"
    },
    "tags": []
   },
   "outputs": [],
   "source": [
    "data_shap = pd.read_feather(f\"{experiment_path}/shap_local.feather\")\n",
    "records = [r for r in data_shap.record if \n",
    "           \"age_at_recruitment_f21022_0_0\" not in r and\n",
    "           \"sex_f31_0_0_Female\" not in r and\n",
    "           \"sex_f31_0_0_Male\" not in r and\n",
    "           \"phecode_\" not in r]"
   ]
  },
  {
   "cell_type": "code",
   "execution_count": 6,
   "metadata": {
    "execution": {
     "iopub.execute_input": "2022-04-28T14:10:22.326085Z",
     "iopub.status.busy": "2022-04-28T14:10:22.325861Z",
     "iopub.status.idle": "2022-04-28T14:10:22.334192Z",
     "shell.execute_reply": "2022-04-28T14:10:22.333609Z",
     "shell.execute_reply.started": "2022-04-28T14:10:22.326067Z"
    }
   },
   "outputs": [
    {
     "data": {
      "text/plain": [
       "19366"
      ]
     },
     "execution_count": 6,
     "metadata": {},
     "output_type": "execute_result"
    }
   ],
   "source": [
    "len(records)"
   ]
  },
  {
   "cell_type": "code",
   "execution_count": 7,
   "metadata": {
    "execution": {
     "iopub.execute_input": "2022-04-26T15:11:21.399477Z",
     "iopub.status.busy": "2022-04-26T15:11:21.399127Z",
     "iopub.status.idle": "2022-04-26T15:11:25.783882Z",
     "shell.execute_reply": "2022-04-26T15:11:25.783332Z",
     "shell.execute_reply.started": "2022-04-26T15:11:21.399462Z"
    },
    "tags": []
   },
   "outputs": [],
   "source": [
    "data_records = pd.read_feather(f\"{output_path}/baseline_records_220412.feather\", columns=[\"eid\"] + records).set_index(\"eid\")"
   ]
  },
  {
   "cell_type": "code",
   "execution_count": 8,
   "metadata": {
    "execution": {
     "iopub.execute_input": "2022-04-26T15:11:25.784756Z",
     "iopub.status.busy": "2022-04-26T15:11:25.784650Z",
     "iopub.status.idle": "2022-04-26T15:11:26.864569Z",
     "shell.execute_reply": "2022-04-26T15:11:26.864053Z",
     "shell.execute_reply.started": "2022-04-26T15:11:25.784742Z"
    },
    "tags": []
   },
   "outputs": [],
   "source": [
    "data_all = data_records.merge(data_outcomes, left_index=True, right_index=True, how=\"left\")"
   ]
  },
  {
   "cell_type": "code",
   "execution_count": 9,
   "metadata": {
    "execution": {
     "iopub.execute_input": "2022-04-26T15:11:26.865268Z",
     "iopub.status.busy": "2022-04-26T15:11:26.865166Z",
     "iopub.status.idle": "2022-04-26T15:11:26.903254Z",
     "shell.execute_reply": "2022-04-26T15:11:26.902884Z",
     "shell.execute_reply.started": "2022-04-26T15:11:26.865255Z"
    },
    "tags": []
   },
   "outputs": [
    {
     "data": {
      "text/html": [
       "<div>\n",
       "<style scoped>\n",
       "    .dataframe tbody tr th:only-of-type {\n",
       "        vertical-align: middle;\n",
       "    }\n",
       "\n",
       "    .dataframe tbody tr th {\n",
       "        vertical-align: top;\n",
       "    }\n",
       "\n",
       "    .dataframe thead th {\n",
       "        text-align: right;\n",
       "    }\n",
       "</style>\n",
       "<table border=\"1\" class=\"dataframe\">\n",
       "  <thead>\n",
       "    <tr style=\"text-align: right;\">\n",
       "      <th></th>\n",
       "      <th>OMOP_1000560</th>\n",
       "      <th>OMOP_1000632</th>\n",
       "      <th>OMOP_1000772</th>\n",
       "      <th>OMOP_1000995</th>\n",
       "      <th>OMOP_1036157</th>\n",
       "      <th>OMOP_1036228</th>\n",
       "      <th>OMOP_1036252</th>\n",
       "      <th>OMOP_1036487</th>\n",
       "      <th>OMOP_1036525</th>\n",
       "      <th>OMOP_1036690</th>\n",
       "      <th>...</th>\n",
       "      <th>phecode_424_event</th>\n",
       "      <th>phecode_328_event</th>\n",
       "      <th>phecode_468_event</th>\n",
       "      <th>phecode_440-11_event</th>\n",
       "      <th>phecode_284_event</th>\n",
       "      <th>phecode_008_event</th>\n",
       "      <th>phecode_092-2_event</th>\n",
       "      <th>phecode_581-1_event</th>\n",
       "      <th>phecode_292_event</th>\n",
       "      <th>phecode_542-1_event</th>\n",
       "    </tr>\n",
       "    <tr>\n",
       "      <th>eid</th>\n",
       "      <th></th>\n",
       "      <th></th>\n",
       "      <th></th>\n",
       "      <th></th>\n",
       "      <th></th>\n",
       "      <th></th>\n",
       "      <th></th>\n",
       "      <th></th>\n",
       "      <th></th>\n",
       "      <th></th>\n",
       "      <th></th>\n",
       "      <th></th>\n",
       "      <th></th>\n",
       "      <th></th>\n",
       "      <th></th>\n",
       "      <th></th>\n",
       "      <th></th>\n",
       "      <th></th>\n",
       "      <th></th>\n",
       "      <th></th>\n",
       "      <th></th>\n",
       "    </tr>\n",
       "  </thead>\n",
       "  <tbody>\n",
       "    <tr>\n",
       "      <th>1000018</th>\n",
       "      <td>False</td>\n",
       "      <td>False</td>\n",
       "      <td>False</td>\n",
       "      <td>False</td>\n",
       "      <td>False</td>\n",
       "      <td>False</td>\n",
       "      <td>False</td>\n",
       "      <td>False</td>\n",
       "      <td>False</td>\n",
       "      <td>False</td>\n",
       "      <td>...</td>\n",
       "      <td>False</td>\n",
       "      <td>False</td>\n",
       "      <td>False</td>\n",
       "      <td>False</td>\n",
       "      <td>False</td>\n",
       "      <td>False</td>\n",
       "      <td>False</td>\n",
       "      <td>False</td>\n",
       "      <td>False</td>\n",
       "      <td>False</td>\n",
       "    </tr>\n",
       "    <tr>\n",
       "      <th>1000020</th>\n",
       "      <td>False</td>\n",
       "      <td>False</td>\n",
       "      <td>False</td>\n",
       "      <td>False</td>\n",
       "      <td>False</td>\n",
       "      <td>False</td>\n",
       "      <td>False</td>\n",
       "      <td>False</td>\n",
       "      <td>False</td>\n",
       "      <td>False</td>\n",
       "      <td>...</td>\n",
       "      <td>False</td>\n",
       "      <td>False</td>\n",
       "      <td>False</td>\n",
       "      <td>False</td>\n",
       "      <td>False</td>\n",
       "      <td>False</td>\n",
       "      <td>False</td>\n",
       "      <td>False</td>\n",
       "      <td>False</td>\n",
       "      <td>False</td>\n",
       "    </tr>\n",
       "    <tr>\n",
       "      <th>1000037</th>\n",
       "      <td>False</td>\n",
       "      <td>False</td>\n",
       "      <td>False</td>\n",
       "      <td>False</td>\n",
       "      <td>False</td>\n",
       "      <td>False</td>\n",
       "      <td>False</td>\n",
       "      <td>False</td>\n",
       "      <td>False</td>\n",
       "      <td>False</td>\n",
       "      <td>...</td>\n",
       "      <td>False</td>\n",
       "      <td>False</td>\n",
       "      <td>False</td>\n",
       "      <td>False</td>\n",
       "      <td>False</td>\n",
       "      <td>False</td>\n",
       "      <td>False</td>\n",
       "      <td>False</td>\n",
       "      <td>False</td>\n",
       "      <td>False</td>\n",
       "    </tr>\n",
       "    <tr>\n",
       "      <th>1000043</th>\n",
       "      <td>False</td>\n",
       "      <td>True</td>\n",
       "      <td>False</td>\n",
       "      <td>False</td>\n",
       "      <td>False</td>\n",
       "      <td>False</td>\n",
       "      <td>False</td>\n",
       "      <td>False</td>\n",
       "      <td>False</td>\n",
       "      <td>False</td>\n",
       "      <td>...</td>\n",
       "      <td>False</td>\n",
       "      <td>False</td>\n",
       "      <td>True</td>\n",
       "      <td>False</td>\n",
       "      <td>False</td>\n",
       "      <td>False</td>\n",
       "      <td>False</td>\n",
       "      <td>False</td>\n",
       "      <td>False</td>\n",
       "      <td>False</td>\n",
       "    </tr>\n",
       "    <tr>\n",
       "      <th>1000051</th>\n",
       "      <td>False</td>\n",
       "      <td>False</td>\n",
       "      <td>False</td>\n",
       "      <td>False</td>\n",
       "      <td>False</td>\n",
       "      <td>False</td>\n",
       "      <td>False</td>\n",
       "      <td>False</td>\n",
       "      <td>False</td>\n",
       "      <td>False</td>\n",
       "      <td>...</td>\n",
       "      <td>False</td>\n",
       "      <td>False</td>\n",
       "      <td>False</td>\n",
       "      <td>False</td>\n",
       "      <td>False</td>\n",
       "      <td>False</td>\n",
       "      <td>False</td>\n",
       "      <td>False</td>\n",
       "      <td>False</td>\n",
       "      <td>False</td>\n",
       "    </tr>\n",
       "    <tr>\n",
       "      <th>...</th>\n",
       "      <td>...</td>\n",
       "      <td>...</td>\n",
       "      <td>...</td>\n",
       "      <td>...</td>\n",
       "      <td>...</td>\n",
       "      <td>...</td>\n",
       "      <td>...</td>\n",
       "      <td>...</td>\n",
       "      <td>...</td>\n",
       "      <td>...</td>\n",
       "      <td>...</td>\n",
       "      <td>...</td>\n",
       "      <td>...</td>\n",
       "      <td>...</td>\n",
       "      <td>...</td>\n",
       "      <td>...</td>\n",
       "      <td>...</td>\n",
       "      <td>...</td>\n",
       "      <td>...</td>\n",
       "      <td>...</td>\n",
       "      <td>...</td>\n",
       "    </tr>\n",
       "    <tr>\n",
       "      <th>6025150</th>\n",
       "      <td>False</td>\n",
       "      <td>False</td>\n",
       "      <td>False</td>\n",
       "      <td>False</td>\n",
       "      <td>False</td>\n",
       "      <td>False</td>\n",
       "      <td>False</td>\n",
       "      <td>False</td>\n",
       "      <td>False</td>\n",
       "      <td>False</td>\n",
       "      <td>...</td>\n",
       "      <td>False</td>\n",
       "      <td>False</td>\n",
       "      <td>False</td>\n",
       "      <td>False</td>\n",
       "      <td>False</td>\n",
       "      <td>False</td>\n",
       "      <td>False</td>\n",
       "      <td>False</td>\n",
       "      <td>False</td>\n",
       "      <td>False</td>\n",
       "    </tr>\n",
       "    <tr>\n",
       "      <th>6025165</th>\n",
       "      <td>False</td>\n",
       "      <td>True</td>\n",
       "      <td>False</td>\n",
       "      <td>False</td>\n",
       "      <td>False</td>\n",
       "      <td>False</td>\n",
       "      <td>False</td>\n",
       "      <td>False</td>\n",
       "      <td>False</td>\n",
       "      <td>False</td>\n",
       "      <td>...</td>\n",
       "      <td>False</td>\n",
       "      <td>False</td>\n",
       "      <td>False</td>\n",
       "      <td>False</td>\n",
       "      <td>False</td>\n",
       "      <td>False</td>\n",
       "      <td>False</td>\n",
       "      <td>False</td>\n",
       "      <td>False</td>\n",
       "      <td>False</td>\n",
       "    </tr>\n",
       "    <tr>\n",
       "      <th>6025173</th>\n",
       "      <td>False</td>\n",
       "      <td>False</td>\n",
       "      <td>False</td>\n",
       "      <td>False</td>\n",
       "      <td>False</td>\n",
       "      <td>False</td>\n",
       "      <td>False</td>\n",
       "      <td>False</td>\n",
       "      <td>False</td>\n",
       "      <td>False</td>\n",
       "      <td>...</td>\n",
       "      <td>False</td>\n",
       "      <td>False</td>\n",
       "      <td>False</td>\n",
       "      <td>False</td>\n",
       "      <td>False</td>\n",
       "      <td>False</td>\n",
       "      <td>False</td>\n",
       "      <td>False</td>\n",
       "      <td>False</td>\n",
       "      <td>False</td>\n",
       "    </tr>\n",
       "    <tr>\n",
       "      <th>6025182</th>\n",
       "      <td>False</td>\n",
       "      <td>False</td>\n",
       "      <td>False</td>\n",
       "      <td>False</td>\n",
       "      <td>False</td>\n",
       "      <td>False</td>\n",
       "      <td>False</td>\n",
       "      <td>False</td>\n",
       "      <td>False</td>\n",
       "      <td>False</td>\n",
       "      <td>...</td>\n",
       "      <td>False</td>\n",
       "      <td>False</td>\n",
       "      <td>False</td>\n",
       "      <td>False</td>\n",
       "      <td>False</td>\n",
       "      <td>False</td>\n",
       "      <td>False</td>\n",
       "      <td>False</td>\n",
       "      <td>False</td>\n",
       "      <td>False</td>\n",
       "    </tr>\n",
       "    <tr>\n",
       "      <th>6025198</th>\n",
       "      <td>False</td>\n",
       "      <td>False</td>\n",
       "      <td>False</td>\n",
       "      <td>False</td>\n",
       "      <td>False</td>\n",
       "      <td>False</td>\n",
       "      <td>False</td>\n",
       "      <td>False</td>\n",
       "      <td>False</td>\n",
       "      <td>False</td>\n",
       "      <td>...</td>\n",
       "      <td>False</td>\n",
       "      <td>False</td>\n",
       "      <td>False</td>\n",
       "      <td>False</td>\n",
       "      <td>False</td>\n",
       "      <td>False</td>\n",
       "      <td>False</td>\n",
       "      <td>False</td>\n",
       "      <td>False</td>\n",
       "      <td>False</td>\n",
       "    </tr>\n",
       "  </tbody>\n",
       "</table>\n",
       "<p>502460 rows × 19390 columns</p>\n",
       "</div>"
      ],
      "text/plain": [
       "         OMOP_1000560  OMOP_1000632  OMOP_1000772  OMOP_1000995  OMOP_1036157  \\\n",
       "eid                                                                             \n",
       "1000018         False         False         False         False         False   \n",
       "1000020         False         False         False         False         False   \n",
       "1000037         False         False         False         False         False   \n",
       "1000043         False          True         False         False         False   \n",
       "1000051         False         False         False         False         False   \n",
       "...               ...           ...           ...           ...           ...   \n",
       "6025150         False         False         False         False         False   \n",
       "6025165         False          True         False         False         False   \n",
       "6025173         False         False         False         False         False   \n",
       "6025182         False         False         False         False         False   \n",
       "6025198         False         False         False         False         False   \n",
       "\n",
       "         OMOP_1036228  OMOP_1036252  OMOP_1036487  OMOP_1036525  OMOP_1036690  \\\n",
       "eid                                                                             \n",
       "1000018         False         False         False         False         False   \n",
       "1000020         False         False         False         False         False   \n",
       "1000037         False         False         False         False         False   \n",
       "1000043         False         False         False         False         False   \n",
       "1000051         False         False         False         False         False   \n",
       "...               ...           ...           ...           ...           ...   \n",
       "6025150         False         False         False         False         False   \n",
       "6025165         False         False         False         False         False   \n",
       "6025173         False         False         False         False         False   \n",
       "6025182         False         False         False         False         False   \n",
       "6025198         False         False         False         False         False   \n",
       "\n",
       "         ...  phecode_424_event  phecode_328_event  phecode_468_event  \\\n",
       "eid      ...                                                            \n",
       "1000018  ...              False              False              False   \n",
       "1000020  ...              False              False              False   \n",
       "1000037  ...              False              False              False   \n",
       "1000043  ...              False              False               True   \n",
       "1000051  ...              False              False              False   \n",
       "...      ...                ...                ...                ...   \n",
       "6025150  ...              False              False              False   \n",
       "6025165  ...              False              False              False   \n",
       "6025173  ...              False              False              False   \n",
       "6025182  ...              False              False              False   \n",
       "6025198  ...              False              False              False   \n",
       "\n",
       "         phecode_440-11_event  phecode_284_event  phecode_008_event  \\\n",
       "eid                                                                   \n",
       "1000018                 False              False              False   \n",
       "1000020                 False              False              False   \n",
       "1000037                 False              False              False   \n",
       "1000043                 False              False              False   \n",
       "1000051                 False              False              False   \n",
       "...                       ...                ...                ...   \n",
       "6025150                 False              False              False   \n",
       "6025165                 False              False              False   \n",
       "6025173                 False              False              False   \n",
       "6025182                 False              False              False   \n",
       "6025198                 False              False              False   \n",
       "\n",
       "         phecode_092-2_event  phecode_581-1_event  phecode_292_event  \\\n",
       "eid                                                                    \n",
       "1000018                False                False              False   \n",
       "1000020                False                False              False   \n",
       "1000037                False                False              False   \n",
       "1000043                False                False              False   \n",
       "1000051                False                False              False   \n",
       "...                      ...                  ...                ...   \n",
       "6025150                False                False              False   \n",
       "6025165                False                False              False   \n",
       "6025173                False                False              False   \n",
       "6025182                False                False              False   \n",
       "6025198                False                False              False   \n",
       "\n",
       "         phecode_542-1_event  \n",
       "eid                           \n",
       "1000018                False  \n",
       "1000020                False  \n",
       "1000037                False  \n",
       "1000043                False  \n",
       "1000051                False  \n",
       "...                      ...  \n",
       "6025150                False  \n",
       "6025165                False  \n",
       "6025173                False  \n",
       "6025182                False  \n",
       "6025198                False  \n",
       "\n",
       "[502460 rows x 19390 columns]"
      ]
     },
     "execution_count": 9,
     "metadata": {},
     "output_type": "execute_result"
    }
   ],
   "source": [
    "data_all"
   ]
  },
  {
   "cell_type": "code",
   "execution_count": 10,
   "metadata": {
    "execution": {
     "iopub.execute_input": "2022-04-26T15:11:26.904821Z",
     "iopub.status.busy": "2022-04-26T15:11:26.904738Z",
     "iopub.status.idle": "2022-04-26T15:11:34.489338Z",
     "shell.execute_reply": "2022-04-26T15:11:34.488800Z",
     "shell.execute_reply.started": "2022-04-26T15:11:26.904810Z"
    },
    "tags": []
   },
   "outputs": [],
   "source": [
    "eligable_eids = pd.read_feather(f\"{output_path}/eligable_eids_220414.feather\")\n",
    "eids_dict = eligable_eids.set_index(\"endpoint\")[\"eid_list\"].to_dict()"
   ]
  },
  {
   "cell_type": "code",
   "execution_count": 11,
   "metadata": {
    "execution": {
     "iopub.execute_input": "2022-04-26T15:11:34.490693Z",
     "iopub.status.busy": "2022-04-26T15:11:34.490594Z",
     "iopub.status.idle": "2022-04-26T15:11:38.390832Z",
     "shell.execute_reply": "2022-04-26T15:11:38.390425Z",
     "shell.execute_reply.started": "2022-04-26T15:11:34.490680Z"
    },
    "tags": []
   },
   "outputs": [
    {
     "data": {
      "text/plain": [
       "OMOP_4081598     0.615561\n",
       "OMOP_4052351     0.540684\n",
       "OMOP_4061103     0.527156\n",
       "OMOP_4144272     0.493337\n",
       "OMOP_4057411     0.443337\n",
       "                   ...   \n",
       "OMOP_40482194    0.000050\n",
       "OMOP_4113107     0.000050\n",
       "OMOP_4122590     0.000050\n",
       "OMOP_434951      0.000050\n",
       "OMOP_4306655     0.000014\n",
       "Length: 19366, dtype: float64"
      ]
     },
     "execution_count": 11,
     "metadata": {},
     "output_type": "execute_result"
    }
   ],
   "source": [
    "record_freqs = data_records.mean().sort_values(ascending=False)\n",
    "record_freqs"
   ]
  },
  {
   "cell_type": "code",
   "execution_count": 12,
   "metadata": {
    "execution": {
     "iopub.execute_input": "2022-04-26T15:11:38.391451Z",
     "iopub.status.busy": "2022-04-26T15:11:38.391359Z",
     "iopub.status.idle": "2022-04-26T15:12:10.521441Z",
     "shell.execute_reply": "2022-04-26T15:12:10.520951Z",
     "shell.execute_reply.started": "2022-04-26T15:11:38.391439Z"
    },
    "tags": []
   },
   "outputs": [
    {
     "data": {
      "text/plain": [
       "{'node_ip_address': '10.32.105.13',\n",
       " 'raylet_ip_address': '10.32.105.13',\n",
       " 'redis_address': None,\n",
       " 'object_store_address': '/tmp/ray/session_2022-04-26_17-11-39_384698_1636001/sockets/plasma_store',\n",
       " 'raylet_socket_name': '/tmp/ray/session_2022-04-26_17-11-39_384698_1636001/sockets/raylet',\n",
       " 'webui_url': None,\n",
       " 'session_dir': '/tmp/ray/session_2022-04-26_17-11-39_384698_1636001',\n",
       " 'metrics_export_port': 59038,\n",
       " 'gcs_address': '10.32.105.13:61182',\n",
       " 'address': '10.32.105.13:61182',\n",
       " 'node_id': '56df8b272e48470479d666ac672ee9f0a855673256d180916d5246f0'}"
      ]
     },
     "execution_count": 12,
     "metadata": {},
     "output_type": "execute_result"
    }
   ],
   "source": [
    "import ray\n",
    "\n",
    "ray.init(num_cpus=24, include_dashboard=False)#dashboard_port=24763, dashboard_host=\"0.0.0.0\", include_dashboard=True)#, webui_url=\"0.0.0.0\"))"
   ]
  },
  {
   "cell_type": "code",
   "execution_count": 13,
   "metadata": {
    "execution": {
     "iopub.execute_input": "2022-04-26T15:24:02.332283Z",
     "iopub.status.busy": "2022-04-26T15:24:02.332112Z",
     "iopub.status.idle": "2022-04-26T15:24:02.337221Z",
     "shell.execute_reply": "2022-04-26T15:24:02.336918Z",
     "shell.execute_reply.started": "2022-04-26T15:24:02.332268Z"
    },
    "tags": []
   },
   "outputs": [],
   "source": [
    "@ray.remote\n",
    "def calc_ratio(data_all, eids_dict, record, eids_record, eids_nonrecord, endpoints):\n",
    "    r_ds = []\n",
    "    \n",
    "    for endpoint in endpoints:\n",
    "        eids_endpoint = eids_dict[endpoint]\n",
    "        \n",
    "        # record set\n",
    "        eid_idxs_dict = {}\n",
    "        eid_idxs_dict[\"record\"] = np.where(np.in1d(eids_endpoint, eids_record, assume_unique=True))[0]\n",
    "        eid_idxs_dict[\"nonrecord\"] = np.where(np.in1d(eids_endpoint, eids_nonrecord, assume_unique=True))[0]\n",
    "\n",
    "        for key, eid_idxs in eid_idxs_dict.items():\n",
    "            eids_temp = eids_endpoint[eid_idxs]\n",
    "            s = data_all[f\"{endpoint}_event\"].loc[eids_temp]\n",
    "            n=s.sum()\n",
    "            freq = n/len(s)\n",
    "            \n",
    "            if key==\"record\":\n",
    "                s_record\n",
    "                n_record = n\n",
    "                freq_record = freq\n",
    "                \n",
    "            if key==\"nonrecord\":\n",
    "                s_nonrecord = s\n",
    "                n_nonrecord = n\n",
    "                freq_nonrecord = freq\n",
    "        \n",
    "        jaccard = n_record / (n_nonrecord + len(eid_idxs_dict[\"record\"])) \n",
    "        \n",
    "        r_ds.append({\"endpoint\": endpoint, \"n_eligable\": len(eids_dict[endpoint]), \n",
    "                  \"record\": record, \"n_records\": len(eids_record), \n",
    "                  \"n_events_record\": n_record, \"freq_events_record\": freq_record,\n",
    "                    \"n_events_nonrecord\": n_nonrecord, \"freq_events_nonrecord\": freq_nonrecord,\n",
    "                    \"jaccard\": jaccard})\n",
    "    return r_ds"
   ]
  },
  {
   "cell_type": "code",
   "execution_count": 14,
   "metadata": {
    "execution": {
     "iopub.execute_input": "2022-04-26T15:24:05.597895Z",
     "iopub.status.busy": "2022-04-26T15:24:05.597693Z",
     "iopub.status.idle": "2022-04-26T15:37:30.518819Z",
     "shell.execute_reply": "2022-04-26T15:37:30.518337Z",
     "shell.execute_reply.started": "2022-04-26T15:24:05.597881Z"
    },
    "tags": []
   },
   "outputs": [
    {
     "data": {
      "application/vnd.jupyter.widget-view+json": {
       "model_id": "e97ee2dd4cca4abd83ae729a924602fb",
       "version_major": 2,
       "version_minor": 0
      },
      "text/plain": [
       "  0%|          | 0/19366 [00:00<?, ?it/s]"
      ]
     },
     "metadata": {},
     "output_type": "display_data"
    },
    {
     "name": "stderr",
     "output_type": "stream",
     "text": [
      "\u001b[2m\u001b[36m(calc_ratio pid=1636273)\u001b[0m /tmp/ipykernel_1636001/3547803062.py:17: RuntimeWarning: invalid value encountered in long_scalars\n",
      "\u001b[2m\u001b[36m(calc_ratio pid=1636279)\u001b[0m /tmp/ipykernel_1636001/3547803062.py:17: RuntimeWarning: invalid value encountered in long_scalars\n",
      "\u001b[2m\u001b[36m(calc_ratio pid=1636271)\u001b[0m /tmp/ipykernel_1636001/3547803062.py:17: RuntimeWarning: invalid value encountered in long_scalars\n",
      "\u001b[2m\u001b[36m(calc_ratio pid=1636285)\u001b[0m /tmp/ipykernel_1636001/3547803062.py:17: RuntimeWarning: invalid value encountered in long_scalars\n",
      "\u001b[2m\u001b[36m(calc_ratio pid=1636284)\u001b[0m /tmp/ipykernel_1636001/3547803062.py:17: RuntimeWarning: invalid value encountered in long_scalars\n",
      "\u001b[2m\u001b[36m(calc_ratio pid=1636293)\u001b[0m /tmp/ipykernel_1636001/3547803062.py:17: RuntimeWarning: invalid value encountered in long_scalars\n",
      "\u001b[2m\u001b[36m(calc_ratio pid=1636283)\u001b[0m /tmp/ipykernel_1636001/3547803062.py:17: RuntimeWarning: invalid value encountered in long_scalars\n",
      "\u001b[2m\u001b[36m(calc_ratio pid=1636277)\u001b[0m /tmp/ipykernel_1636001/3547803062.py:17: RuntimeWarning: invalid value encountered in long_scalars\n",
      "\u001b[2m\u001b[36m(calc_ratio pid=1636282)\u001b[0m /tmp/ipykernel_1636001/3547803062.py:17: RuntimeWarning: invalid value encountered in long_scalars\n",
      "\u001b[2m\u001b[36m(calc_ratio pid=1636289)\u001b[0m /tmp/ipykernel_1636001/3547803062.py:17: RuntimeWarning: invalid value encountered in long_scalars\n",
      "\u001b[2m\u001b[36m(calc_ratio pid=1636281)\u001b[0m /tmp/ipykernel_1636001/3547803062.py:17: RuntimeWarning: invalid value encountered in long_scalars\n",
      "\u001b[2m\u001b[36m(calc_ratio pid=1636287)\u001b[0m /tmp/ipykernel_1636001/3547803062.py:17: RuntimeWarning: invalid value encountered in long_scalars\n",
      "\u001b[2m\u001b[36m(calc_ratio pid=1636288)\u001b[0m /tmp/ipykernel_1636001/3547803062.py:17: RuntimeWarning: invalid value encountered in long_scalars\n",
      "\u001b[2m\u001b[36m(calc_ratio pid=1636292)\u001b[0m /tmp/ipykernel_1636001/3547803062.py:17: RuntimeWarning: invalid value encountered in long_scalars\n",
      "\u001b[2m\u001b[36m(calc_ratio pid=1636291)\u001b[0m /tmp/ipykernel_1636001/3547803062.py:17: RuntimeWarning: invalid value encountered in long_scalars\n",
      "\u001b[2m\u001b[36m(calc_ratio pid=1636272)\u001b[0m /tmp/ipykernel_1636001/3547803062.py:17: RuntimeWarning: invalid value encountered in long_scalars\n",
      "\u001b[2m\u001b[36m(calc_ratio pid=1636275)\u001b[0m /tmp/ipykernel_1636001/3547803062.py:17: RuntimeWarning: invalid value encountered in long_scalars\n",
      "\u001b[2m\u001b[36m(calc_ratio pid=1636274)\u001b[0m /tmp/ipykernel_1636001/3547803062.py:17: RuntimeWarning: invalid value encountered in long_scalars\n",
      "\u001b[2m\u001b[36m(calc_ratio pid=1636286)\u001b[0m /tmp/ipykernel_1636001/3547803062.py:17: RuntimeWarning: invalid value encountered in long_scalars\n",
      "\u001b[2m\u001b[36m(calc_ratio pid=1636276)\u001b[0m /tmp/ipykernel_1636001/3547803062.py:17: RuntimeWarning: invalid value encountered in long_scalars\n",
      "\u001b[2m\u001b[36m(calc_ratio pid=1636280)\u001b[0m /tmp/ipykernel_1636001/3547803062.py:17: RuntimeWarning: invalid value encountered in long_scalars\n",
      "\u001b[2m\u001b[36m(calc_ratio pid=1636278)\u001b[0m /tmp/ipykernel_1636001/3547803062.py:17: RuntimeWarning: invalid value encountered in long_scalars\n",
      "\u001b[2m\u001b[36m(calc_ratio pid=1636294)\u001b[0m /tmp/ipykernel_1636001/3547803062.py:17: RuntimeWarning: invalid value encountered in long_scalars\n"
     ]
    },
    {
     "data": {
      "application/vnd.jupyter.widget-view+json": {
       "model_id": "5dbc47c3df2f4126a6df39a6c78ae65c",
       "version_major": 2,
       "version_minor": 0
      },
      "text/plain": [
       "  0%|          | 0/19366 [00:00<?, ?it/s]"
      ]
     },
     "metadata": {},
     "output_type": "display_data"
    },
    {
     "name": "stderr",
     "output_type": "stream",
     "text": [
      "\u001b[2m\u001b[36m(calc_ratio pid=1636290)\u001b[0m /tmp/ipykernel_1636001/3547803062.py:17: RuntimeWarning: invalid value encountered in long_scalars\n"
     ]
    }
   ],
   "source": [
    "d_nested = []\n",
    "ref_data_all = ray.put(data_all)\n",
    "ref_eids_dict = ray.put(eids_dict)\n",
    "for record in tqdm(record_freqs.index):\n",
    "    s_record = data_all[record]\n",
    "    eids_record = s_record[s_record==True].index.values\n",
    "    eids_nonrecord = s_record[s_record==False].index.values\n",
    "    ref_results = calc_ratio.remote(ref_data_all, ref_eids_dict, record, eids_record, eids_nonrecord, endpoints)\n",
    "    d_nested.append(ref_results)\n",
    "d_nested = [ray.get(e) for e in tqdm(d_nested)]\n",
    "del ref_data_all\n",
    "del ref_eids_dict"
   ]
  },
  {
   "cell_type": "code",
   "execution_count": 15,
   "metadata": {
    "execution": {
     "iopub.execute_input": "2022-04-26T15:37:36.462127Z",
     "iopub.status.busy": "2022-04-26T15:37:36.461928Z",
     "iopub.status.idle": "2022-04-26T15:37:36.494355Z",
     "shell.execute_reply": "2022-04-26T15:37:36.493772Z",
     "shell.execute_reply.started": "2022-04-26T15:37:36.462105Z"
    },
    "tags": []
   },
   "outputs": [],
   "source": [
    "from itertools import chain\n",
    "\n",
    "d = list(chain(*d_nested))"
   ]
  },
  {
   "cell_type": "code",
   "execution_count": 16,
   "metadata": {
    "execution": {
     "iopub.execute_input": "2022-04-26T15:37:37.260940Z",
     "iopub.status.busy": "2022-04-26T15:37:37.260808Z",
     "iopub.status.idle": "2022-04-26T15:37:37.983852Z",
     "shell.execute_reply": "2022-04-26T15:37:37.983281Z",
     "shell.execute_reply.started": "2022-04-26T15:37:37.260925Z"
    },
    "tags": []
   },
   "outputs": [],
   "source": [
    "endpoints_freqs = pd.DataFrame().from_dict(d)"
   ]
  },
  {
   "cell_type": "code",
   "execution_count": 17,
   "metadata": {
    "execution": {
     "iopub.execute_input": "2022-04-26T15:37:44.605751Z",
     "iopub.status.busy": "2022-04-26T15:37:44.605582Z",
     "iopub.status.idle": "2022-04-26T15:37:44.780625Z",
     "shell.execute_reply": "2022-04-26T15:37:44.780157Z",
     "shell.execute_reply.started": "2022-04-26T15:37:44.605736Z"
    },
    "tags": []
   },
   "outputs": [],
   "source": [
    "endpoints_freqs.to_feather(f\"{experiment_path}/record_inc_disease_freq_rnr.feather\")"
   ]
  },
  {
   "cell_type": "code",
   "execution_count": 35,
   "metadata": {
    "execution": {
     "iopub.execute_input": "2022-04-20T11:12:50.833332Z",
     "iopub.status.busy": "2022-04-20T11:12:50.833046Z",
     "iopub.status.idle": "2022-04-20T11:12:50.840405Z",
     "shell.execute_reply": "2022-04-20T11:12:50.839930Z",
     "shell.execute_reply.started": "2022-04-20T11:12:50.833313Z"
    },
    "tags": []
   },
   "outputs": [],
   "source": [
    "endpoints_ds = endpoints_freqs.query(\"n>100\").sort_values(\"endpoint\").reset_index(drop=True)"
   ]
  },
  {
   "cell_type": "code",
   "execution_count": 36,
   "metadata": {
    "execution": {
     "iopub.execute_input": "2022-04-20T11:13:28.003961Z",
     "iopub.status.busy": "2022-04-20T11:13:28.003677Z",
     "iopub.status.idle": "2022-04-20T11:13:28.036453Z",
     "shell.execute_reply": "2022-04-20T11:13:28.035800Z",
     "shell.execute_reply.started": "2022-04-20T11:13:28.003943Z"
    }
   },
   "outputs": [],
   "source": [
    "endpoints_ds.to_csv(f\"{experiment_path}/endpoints.csv\")"
   ]
  },
  {
   "cell_type": "code",
   "execution_count": 37,
   "metadata": {
    "execution": {
     "iopub.execute_input": "2022-04-20T11:30:31.576893Z",
     "iopub.status.busy": "2022-04-20T11:30:31.576464Z",
     "iopub.status.idle": "2022-04-20T11:30:31.581214Z",
     "shell.execute_reply": "2022-04-20T11:30:31.580733Z",
     "shell.execute_reply.started": "2022-04-20T11:30:31.576866Z"
    },
    "tags": []
   },
   "outputs": [
    {
     "data": {
      "text/plain": [
       "'/sc-projects/sc-proj-ukb-cvd/results/projects/22_medical_records/data/220413/endpoints.csv'"
      ]
     },
     "execution_count": 37,
     "metadata": {},
     "output_type": "execute_result"
    }
   ],
   "source": [
    "f\"{experiment_path}/endpoints.csv\""
   ]
  }
 ],
 "metadata": {
  "hide_input": false,
  "kernelspec": {
   "display_name": "Python [conda env:ehrgraphs]",
   "language": "python",
   "name": "conda-env-ehrgraphs-py"
  },
  "language_info": {
   "codemirror_mode": {
    "name": "ipython",
    "version": 3
   },
   "file_extension": ".py",
   "mimetype": "text/x-python",
   "name": "python",
   "nbconvert_exporter": "python",
   "pygments_lexer": "ipython3",
   "version": "3.9.7"
  },
  "toc-autonumbering": false
 },
 "nbformat": 4,
 "nbformat_minor": 4
}
