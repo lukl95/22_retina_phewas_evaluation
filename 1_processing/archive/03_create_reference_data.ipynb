{
 "cells": [
  {
   "cell_type": "code",
   "execution_count": 1,
   "metadata": {
    "execution": {
     "iopub.execute_input": "2022-04-21T13:09:56.904055Z",
     "iopub.status.busy": "2022-04-21T13:09:56.903833Z",
     "iopub.status.idle": "2022-04-21T13:10:04.582415Z",
     "shell.execute_reply": "2022-04-21T13:10:04.582089Z",
     "shell.execute_reply.started": "2022-04-21T13:09:56.903997Z"
    },
    "tags": []
   },
   "outputs": [],
   "source": [
    "import pandas as pd\n",
    "import numpy as np\n",
    "import pathlib\n",
    "from tqdm.auto import tqdm\n",
    "\n",
    "import hydra\n",
    "from omegaconf import DictConfig, OmegaConf\n",
    "\n",
    "import torch\n",
    "from torch_geometric import seed_everything\n",
    "\n",
    "import ray"
   ]
  },
  {
   "cell_type": "code",
   "execution_count": 7,
   "metadata": {
    "execution": {
     "iopub.execute_input": "2022-04-21T14:04:46.656658Z",
     "iopub.status.busy": "2022-04-21T14:04:46.656381Z",
     "iopub.status.idle": "2022-04-21T14:04:46.827703Z",
     "shell.execute_reply": "2022-04-21T14:04:46.827171Z",
     "shell.execute_reply.started": "2022-04-21T14:04:46.656622Z"
    },
    "tags": []
   },
   "outputs": [],
   "source": [
    "fps = !ls \"/sc-projects/sc-proj-ukb-cvd/results/models/NeptuneLogger\""
   ]
  },
  {
   "cell_type": "code",
   "execution_count": 13,
   "metadata": {
    "execution": {
     "iopub.execute_input": "2022-04-21T14:08:57.332100Z",
     "iopub.status.busy": "2022-04-21T14:08:57.331953Z",
     "iopub.status.idle": "2022-04-21T14:08:57.335078Z",
     "shell.execute_reply": "2022-04-21T14:08:57.334776Z",
     "shell.execute_reply.started": "2022-04-21T14:08:57.332082Z"
    }
   },
   "outputs": [],
   "source": [
    "fp_df = pd.DataFrame(fps)"
   ]
  },
  {
   "cell_type": "code",
   "execution_count": 28,
   "metadata": {
    "execution": {
     "iopub.execute_input": "2022-04-21T14:13:23.913641Z",
     "iopub.status.busy": "2022-04-21T14:13:23.913487Z",
     "iopub.status.idle": "2022-04-21T14:13:23.982190Z",
     "shell.execute_reply": "2022-04-21T14:13:23.981895Z",
     "shell.execute_reply.started": "2022-04-21T14:13:23.913627Z"
    },
    "tags": []
   },
   "outputs": [],
   "source": [
    "fp_df[\"type\"] = fp_df[0].str.split(\"-\").str[0]\n",
    "fp_df[\"id\"] = fp_df[0].str.split(\"-\").str[1]"
   ]
  },
  {
   "cell_type": "code",
   "execution_count": 31,
   "metadata": {
    "execution": {
     "iopub.execute_input": "2022-04-21T14:14:23.384939Z",
     "iopub.status.busy": "2022-04-21T14:14:23.384661Z",
     "iopub.status.idle": "2022-04-21T14:14:23.390651Z",
     "shell.execute_reply": "2022-04-21T14:14:23.390424Z",
     "shell.execute_reply.started": "2022-04-21T14:14:23.384924Z"
    },
    "tags": []
   },
   "outputs": [],
   "source": [
    "df_clean = fp_df.query(\"type=='MET'\").query(\"id==id\").assign(id = lambda x: x.id.astype(int)).query(\"id<=3600\")"
   ]
  },
  {
   "cell_type": "code",
   "execution_count": 34,
   "metadata": {
    "execution": {
     "iopub.execute_input": "2022-04-21T14:15:26.920472Z",
     "iopub.status.busy": "2022-04-21T14:15:26.920225Z",
     "iopub.status.idle": "2022-04-21T14:15:26.923244Z",
     "shell.execute_reply": "2022-04-21T14:15:26.923006Z",
     "shell.execute_reply.started": "2022-04-21T14:15:26.920458Z"
    },
    "tags": []
   },
   "outputs": [],
   "source": [
    "df_clean[\"fp_full\"] = \"/sc-projects/sc-proj-ukb-cvd/results/models/NeptuneLogger/\" + df_clean[0]"
   ]
  },
  {
   "cell_type": "code",
   "execution_count": 37,
   "metadata": {
    "execution": {
     "iopub.execute_input": "2022-04-21T14:16:31.597716Z",
     "iopub.status.busy": "2022-04-21T14:16:31.597568Z",
     "iopub.status.idle": "2022-04-21T14:16:49.248558Z",
     "shell.execute_reply": "2022-04-21T14:16:49.248264Z",
     "shell.execute_reply.started": "2022-04-21T14:16:31.597702Z"
    },
    "tags": []
   },
   "outputs": [
    {
     "data": {
      "application/vnd.jupyter.widget-view+json": {
       "model_id": "310a46ccb4054a3fbeb718b170f8df90",
       "version_major": 2,
       "version_minor": 0
      },
      "text/plain": [
       "  0%|          | 0/733 [00:00<?, ?it/s]"
      ]
     },
     "metadata": {},
     "output_type": "display_data"
    }
   ],
   "source": [
    "import shutil\n",
    "for p in tqdm(df_clean[\"fp_full\"].to_list()):\n",
    "    shutil.rmtree(p)"
   ]
  },
  {
   "cell_type": "code",
   "execution_count": 2,
   "metadata": {
    "execution": {
     "iopub.execute_input": "2022-04-21T13:10:04.583492Z",
     "iopub.status.busy": "2022-04-21T13:10:04.583307Z",
     "iopub.status.idle": "2022-04-21T13:10:04.603993Z",
     "shell.execute_reply": "2022-04-21T13:10:04.603464Z",
     "shell.execute_reply.started": "2022-04-21T13:10:04.583470Z"
    },
    "tags": []
   },
   "outputs": [
    {
     "name": "stdout",
     "output_type": "stream",
     "text": [
      "/sc-projects/sc-proj-ukb-cvd\n"
     ]
    }
   ],
   "source": [
    "node = !hostname\n",
    "if \"sc\" in node[0]:\n",
    "    base_path = \"/sc-projects/sc-proj-ukb-cvd\"\n",
    "else: \n",
    "    base_path = \"/data/analysis/ag-reils/ag-reils-shared/cardioRS\"\n",
    "print(base_path)\n",
    "\n",
    "project_label = \"22_medical_records\"\n",
    "project_path = f\"{base_path}/results/projects/{project_label}\"\n",
    "figure_path = f\"{project_path}/figures\"\n",
    "output_path = f\"{project_path}/data\"\n",
    "\n",
    "pathlib.Path(figure_path).mkdir(parents=True, exist_ok=True)\n",
    "pathlib.Path(output_path).mkdir(parents=True, exist_ok=True)"
   ]
  },
  {
   "cell_type": "code",
   "execution_count": 3,
   "metadata": {
    "execution": {
     "iopub.execute_input": "2022-04-21T13:10:04.604791Z",
     "iopub.status.busy": "2022-04-21T13:10:04.604693Z",
     "iopub.status.idle": "2022-04-21T13:10:04.611358Z",
     "shell.execute_reply": "2022-04-21T13:10:04.611033Z",
     "shell.execute_reply.started": "2022-04-21T13:10:04.604778Z"
    }
   },
   "outputs": [
    {
     "data": {
      "text/plain": [
       "'/sc-projects/sc-proj-ukb-cvd/results/projects/22_medical_records/data'"
      ]
     },
     "execution_count": 3,
     "metadata": {},
     "output_type": "execute_result"
    }
   ],
   "source": [
    "output_path"
   ]
  },
  {
   "cell_type": "markdown",
   "metadata": {},
   "source": [
    "## Get Data"
   ]
  },
  {
   "cell_type": "code",
   "execution_count": 3,
   "metadata": {
    "execution": {
     "iopub.execute_input": "2022-04-12T08:29:37.508513Z",
     "iopub.status.busy": "2022-04-12T08:29:37.508226Z",
     "iopub.status.idle": "2022-04-12T08:29:38.862513Z",
     "shell.execute_reply": "2022-04-12T08:29:38.862189Z",
     "shell.execute_reply.started": "2022-04-12T08:29:37.508494Z"
    }
   },
   "outputs": [
    {
     "name": "stdout",
     "output_type": "stream",
     "text": [
      "setup:\n",
      "  entity: cardiors\n",
      "  project: RecordGraphs\n",
      "  group: null\n",
      "  name: null\n",
      "  data_root:\n",
      "    charite-hpc: /sc-projects/sc-proj-ukb-cvd/data/2_datasets_pre/211110_anewbeginning/artifacts\n",
      "    eils-hpc: /data/analysis/ag-reils/ag-reils-shared/cardioRS/data/2_datasets_pre/211110_anewbeginning/artifacts\n",
      "  use_data_artifact_if_available: true\n",
      "  data:\n",
      "    drop_shortcut_edges: true\n",
      "    drop_individuals_without_gp: false\n",
      "    min_record_counts: 0\n",
      "  data_identifier: WandBGraphDataNoShortcuts256:latest\n",
      "  tags:\n",
      "  - full_data\n",
      "head:\n",
      "  model_type: MLP\n",
      "  dropout: 0.2\n",
      "  kwargs:\n",
      "    num_hidden: 256\n",
      "    num_layers: 1\n",
      "    detach_clf: false\n",
      "    initial_dropout: 0.0\n",
      "datamodule:\n",
      "  covariates: []\n",
      "  sampler:\n",
      "    sampler_type: DummySampler\n",
      "  batch_size: 1024\n",
      "  partition: 0\n",
      "  num_workers: 4\n",
      "  label_definition:\n",
      "    all_cause_death: true\n",
      "    phecodes: true\n",
      "    custom: []\n",
      "  t0_mode: recruitment\n",
      "  use_top_n_phecodes: 1683\n",
      "  edge_weight_threshold: 0.1\n",
      "  min_edge_type_fraction: 0.001\n",
      "  buffer_years: 0.0\n",
      "  filter_input_origins: []\n",
      "  load_embeddings_path: null\n",
      "  use_loss_weights: false\n",
      "  task: tte\n",
      "  task_kwargs: {}\n",
      "model:\n",
      "  model_type: Identity\n",
      "training:\n",
      "  exclusions_on_losses: false\n",
      "  exclusions_on_metrics: true\n",
      "  gradient_checkpointing: true\n",
      "  contrastive_loss_factor: 0\n",
      "  endpoint_loss_factor: 1\n",
      "  vicreg_loss_factor: 0\n",
      "  node_dropout: null\n",
      "  binarize_records: true\n",
      "  write_predictions: false\n",
      "  write_embeddings: false\n",
      "  write_attributions: false\n",
      "  attribution_baseline_mode: zeros\n",
      "  patience: 10\n",
      "  optimizer_kwargs:\n",
      "    weight_decay: 0.0005\n",
      "    lr: 0.001\n",
      "trainer:\n",
      "  gpus:\n",
      "  - 0\n",
      "  precision: 16\n",
      "  max_epochs: 10000\n",
      "  num_sanity_val_steps: -1\n",
      "  detect_anomaly: false\n",
      "  amp_backend: native\n",
      "  accumulate_grad_batches: 1\n",
      "\n"
     ]
    }
   ],
   "source": [
    "from hydra import compose, initialize\n",
    "from omegaconf import OmegaConf\n",
    "hydra.core.global_hydra.GlobalHydra().clear()\n",
    "\n",
    "initialize(config_path=\"../../ehrgraphs/config\")\n",
    "args = compose(config_name=\"config\", overrides=[\"datamodule.partition=0\", \n",
    "                                               \"head.kwargs.num_layers=1\",\n",
    "                                                \"datamodule.batch_size=1024\",\n",
    "                                               #\"setup.data.min_record_counts=100\",\n",
    "                                                \"setup.use_data_artifact_if_available=False\",\n",
    "                                                \"datamodule/covariates='no_covariates'\",\n",
    "                                                \"model=identity\",\n",
    "                                                \"datamodule.use_top_n_phecodes=1683\",\n",
    "                                                \"datamodule.t0_mode=recruitment\"\n",
    "                                               ])\n",
    "print(OmegaConf.to_yaml(args))"
   ]
  },
  {
   "cell_type": "code",
   "execution_count": 4,
   "metadata": {
    "execution": {
     "iopub.execute_input": "2022-04-12T08:29:39.457410Z",
     "iopub.status.busy": "2022-04-12T08:29:39.457044Z",
     "iopub.status.idle": "2022-04-12T08:29:39.463844Z",
     "shell.execute_reply": "2022-04-12T08:29:39.463581Z",
     "shell.execute_reply.started": "2022-04-12T08:29:39.457393Z"
    }
   },
   "outputs": [],
   "source": [
    "def extract_records_events_times(args):\n",
    "    \n",
    "    records_list = []\n",
    "    outcomes_list = []\n",
    "    \n",
    "    # prepare extraction\n",
    "    datamodule, _, _ = setup_training(args)\n",
    "    \n",
    "    record_cols = datamodule.record_cols\n",
    "    label_cols = list(datamodule.label_mapping.keys())\n",
    "    \n",
    "    for s in tqdm([\"train\", \"valid\", \"test\"]):\n",
    "        eids = datamodule.eids[s]\n",
    "        \n",
    "        if s==\"train\":  dataset = datamodule.train_dataloader(shuffle=False, drop_last=False).dataset\n",
    "        if s==\"valid\":  dataset = datamodule.val_dataloader().dataset\n",
    "        if s==\"test\":  dataset = datamodule.test_dataloader().dataset\n",
    "\n",
    "        # extract records\n",
    "        records_temp = pd.DataFrame.sparse.from_spmatrix(dataset.records, index=eids, columns=[f\"{c}\" for c in record_cols]).rename_axis(\"eid\")\n",
    "        records_list.append(records_temp)\n",
    "\n",
    "        # extract exclusion & events\n",
    "        exclusions_df = pd.DataFrame.sparse.from_spmatrix(dataset.exclusions, index=eids, columns=[f\"{c}_prev\" for c in label_cols]).rename_axis(\"eid\")\n",
    "        events_df = pd.DataFrame.sparse.from_spmatrix(dataset.labels_events, index=eids, columns=[f\"{c}_event\" for c in label_cols]).rename_axis(\"eid\")\n",
    "\n",
    "        times = dataset.labels_times.todense()\n",
    "        censorings = dataset.censorings\n",
    "\n",
    "        no_event_idxs = times == 0\n",
    "        times[no_event_idxs] = censorings[:, None].repeat(repeats=times.shape[1], axis=1)[no_event_idxs]\n",
    "\n",
    "        times_df = pd.DataFrame(data=times, index=eids, columns=[f\"{c}_time\" for c in label_cols]).rename_axis(\"eid\")\n",
    "\n",
    "        outcomes_temp = pd.concat([exclusions_df, events_df, times_df], axis=1)\n",
    "        outcomes_list.append(outcomes_temp)\n",
    "        \n",
    "    records_df = pd.concat(records_list, axis=0)\n",
    "    outcomes_df = pd.concat(outcomes_list, axis=0)\n",
    "        \n",
    "    return records_df, outcomes_df"
   ]
  },
  {
   "cell_type": "code",
   "execution_count": 5,
   "metadata": {
    "execution": {
     "iopub.execute_input": "2022-04-12T08:29:41.285896Z",
     "iopub.status.busy": "2022-04-12T08:29:41.285596Z",
     "iopub.status.idle": "2022-04-12T08:37:21.731364Z",
     "shell.execute_reply": "2022-04-12T08:37:21.730831Z",
     "shell.execute_reply.started": "2022-04-12T08:29:41.285860Z"
    },
    "tags": []
   },
   "outputs": [
    {
     "name": "stderr",
     "output_type": "stream",
     "text": [
      "Using backend: pytorch\n"
     ]
    },
    {
     "name": "stdout",
     "output_type": "stream",
     "text": [
      "/sc-projects/sc-proj-ukb-cvd/data/2_datasets_pre/211110_anewbeginning/artifacts/WandBGraphDataNoShortcuts256_220411.p\n",
      "Generating train dataset...\n",
      "Generating valid dataset...\n",
      "Using edge types: ['Is a' 'ATC - RxNorm sec up' 'Tradename of' 'Has tradename' 'Constitutes'\n",
      " 'RxNorm inverse is a' 'RxNorm ing of' 'Dose form group of' 'Has method'\n",
      " 'Has asso morph' 'Has interprets' 'Interprets of' 'Is descendant of'\n",
      " 'Is associated with' 'Is ancestor of' 'Asso morph of' 'Method of'\n",
      " 'Interacts with' 'Is part of' 'Composed of']\n"
     ]
    },
    {
     "data": {
      "application/vnd.jupyter.widget-view+json": {
       "model_id": "cc4a33f1ede74e7fbc3eee7ac3503c54",
       "version_major": 2,
       "version_minor": 0
      },
      "text/plain": [
       "  0%|          | 0/3 [00:00<?, ?it/s]"
      ]
     },
     "metadata": {},
     "output_type": "display_data"
    },
    {
     "name": "stdout",
     "output_type": "stream",
     "text": [
      "Generating test dataset...\n"
     ]
    }
   ],
   "source": [
    "from ehrgraphs.training import setup_training\n",
    "seed_everything(0)\n",
    "\n",
    "#args = compose(config_name=\"config\", overrides=[f\"datamodule.partition={partition}\"])\n",
    "records_df, outcomes_df = extract_records_events_times(args)"
   ]
  },
  {
   "cell_type": "markdown",
   "metadata": {},
   "source": [
    "## Write Records"
   ]
  },
  {
   "cell_type": "code",
   "execution_count": 6,
   "metadata": {
    "execution": {
     "iopub.execute_input": "2022-04-12T08:37:21.735366Z",
     "iopub.status.busy": "2022-04-12T08:37:21.734812Z",
     "iopub.status.idle": "2022-04-12T08:37:24.717926Z",
     "shell.execute_reply": "2022-04-12T08:37:24.717390Z",
     "shell.execute_reply.started": "2022-04-12T08:37:21.735346Z"
    }
   },
   "outputs": [
    {
     "name": "stdout",
     "output_type": "stream",
     "text": [
      "<class 'pandas.core.frame.DataFrame'>\n",
      "Int64Index: 502460 entries, 1000018 to 1917839\n",
      "Columns: 68527 entries, OMOP_1000560 to OMOP_998415\n",
      "dtypes: Sparse[float64, 0](68527)\n",
      "memory usage: 372.7 MB\n"
     ]
    }
   ],
   "source": [
    "records_df.info()"
   ]
  },
  {
   "cell_type": "code",
   "execution_count": 7,
   "metadata": {
    "execution": {
     "iopub.execute_input": "2022-04-12T08:37:24.718891Z",
     "iopub.status.busy": "2022-04-12T08:37:24.718774Z",
     "iopub.status.idle": "2022-04-12T08:50:36.374145Z",
     "shell.execute_reply": "2022-04-12T08:50:36.373661Z",
     "shell.execute_reply.started": "2022-04-12T08:37:24.718875Z"
    },
    "tags": []
   },
   "outputs": [
    {
     "data": {
      "application/vnd.jupyter.widget-view+json": {
       "model_id": "8a8288af326f4d4bacc5a9497da8578c",
       "version_major": 2,
       "version_minor": 0
      },
      "text/plain": [
       "  0%|          | 0/68527 [00:00<?, ?it/s]"
      ]
     },
     "metadata": {},
     "output_type": "display_data"
    }
   ],
   "source": [
    "for c in tqdm(records_df.columns):\n",
    "    records_df[c] = records_df[c].astype(bool).sparse.to_dense()"
   ]
  },
  {
   "cell_type": "code",
   "execution_count": 45,
   "metadata": {
    "execution": {
     "iopub.execute_input": "2022-04-12T09:26:35.199298Z",
     "iopub.status.busy": "2022-04-12T09:26:35.199101Z",
     "iopub.status.idle": "2022-04-12T09:28:32.755947Z",
     "shell.execute_reply": "2022-04-12T09:28:32.755391Z",
     "shell.execute_reply.started": "2022-04-12T09:26:35.199282Z"
    }
   },
   "outputs": [],
   "source": [
    "records_df = records_df.sort_index()"
   ]
  },
  {
   "cell_type": "code",
   "execution_count": 46,
   "metadata": {
    "execution": {
     "iopub.execute_input": "2022-04-12T09:28:32.757135Z",
     "iopub.status.busy": "2022-04-12T09:28:32.756984Z",
     "iopub.status.idle": "2022-04-12T09:28:36.101774Z",
     "shell.execute_reply": "2022-04-12T09:28:36.101439Z",
     "shell.execute_reply.started": "2022-04-12T09:28:32.757119Z"
    },
    "tags": []
   },
   "outputs": [
    {
     "name": "stdout",
     "output_type": "stream",
     "text": [
      "<class 'pandas.core.frame.DataFrame'>\n",
      "Int64Index: 502460 entries, 1000018 to 6025198\n",
      "Columns: 68527 entries, OMOP_1000560 to OMOP_998415\n",
      "dtypes: bool(68527)\n",
      "memory usage: 32.1 GB\n"
     ]
    }
   ],
   "source": [
    "records_df.info()"
   ]
  },
  {
   "cell_type": "code",
   "execution_count": 47,
   "metadata": {
    "execution": {
     "iopub.execute_input": "2022-04-12T09:28:36.102532Z",
     "iopub.status.busy": "2022-04-12T09:28:36.102326Z",
     "iopub.status.idle": "2022-04-12T09:29:38.664023Z",
     "shell.execute_reply": "2022-04-12T09:29:38.663395Z",
     "shell.execute_reply.started": "2022-04-12T09:28:36.102518Z"
    },
    "tags": []
   },
   "outputs": [],
   "source": [
    "records_df.reset_index().to_feather(f\"{output_path}/baseline_records_220412.feather\")"
   ]
  },
  {
   "cell_type": "markdown",
   "metadata": {},
   "source": [
    "## Write Outcomes"
   ]
  },
  {
   "cell_type": "code",
   "execution_count": 10,
   "metadata": {
    "execution": {
     "iopub.execute_input": "2022-04-12T08:51:52.608719Z",
     "iopub.status.busy": "2022-04-12T08:51:52.608357Z",
     "iopub.status.idle": "2022-04-12T09:05:12.689727Z",
     "shell.execute_reply": "2022-04-12T09:05:12.689252Z",
     "shell.execute_reply.started": "2022-04-12T08:51:52.608670Z"
    }
   },
   "outputs": [
    {
     "data": {
      "application/vnd.jupyter.widget-view+json": {
       "model_id": "81f1cf6734c2406fb89886cc3ed78851",
       "version_major": 2,
       "version_minor": 0
      },
      "text/plain": [
       "  0%|          | 0/5052 [00:00<?, ?it/s]"
      ]
     },
     "metadata": {},
     "output_type": "display_data"
    }
   ],
   "source": [
    "for c in tqdm(outcomes_df.columns):\n",
    "    if c.endswith(\"_prev\") or c.endswith(\"_event\"):\n",
    "        outcomes_df[c] = outcomes_df[c].astype(bool).sparse.to_dense()\n",
    "    if c.endswith(\"_time\"):\n",
    "        outcomes_df[c] = outcomes_df[c].astype(np.float32)"
   ]
  },
  {
   "cell_type": "code",
   "execution_count": 48,
   "metadata": {
    "execution": {
     "iopub.execute_input": "2022-04-12T09:30:24.731078Z",
     "iopub.status.busy": "2022-04-12T09:30:24.730751Z",
     "iopub.status.idle": "2022-04-12T09:30:27.374250Z",
     "shell.execute_reply": "2022-04-12T09:30:27.373773Z",
     "shell.execute_reply.started": "2022-04-12T09:30:24.731060Z"
    }
   },
   "outputs": [],
   "source": [
    "outcomes_df = outcomes_df.sort_index()"
   ]
  },
  {
   "cell_type": "code",
   "execution_count": 49,
   "metadata": {
    "execution": {
     "iopub.execute_input": "2022-04-12T09:30:28.363738Z",
     "iopub.status.busy": "2022-04-12T09:30:28.363360Z",
     "iopub.status.idle": "2022-04-12T09:30:28.505538Z",
     "shell.execute_reply": "2022-04-12T09:30:28.505034Z",
     "shell.execute_reply.started": "2022-04-12T09:30:28.363720Z"
    },
    "tags": []
   },
   "outputs": [
    {
     "name": "stdout",
     "output_type": "stream",
     "text": [
      "<class 'pandas.core.frame.DataFrame'>\n",
      "Int64Index: 502460 entries, 1000018 to 6025198\n",
      "Columns: 5052 entries, OMOP_4306655_prev to phecode_240_time\n",
      "dtypes: bool(3368), float32(1684)\n",
      "memory usage: 4.7 GB\n"
     ]
    }
   ],
   "source": [
    "outcomes_df.info()"
   ]
  },
  {
   "cell_type": "code",
   "execution_count": 50,
   "metadata": {
    "execution": {
     "iopub.execute_input": "2022-04-12T09:30:31.917907Z",
     "iopub.status.busy": "2022-04-12T09:30:31.917606Z",
     "iopub.status.idle": "2022-04-12T09:30:59.585001Z",
     "shell.execute_reply": "2022-04-12T09:30:59.584473Z",
     "shell.execute_reply.started": "2022-04-12T09:30:31.917888Z"
    },
    "tags": []
   },
   "outputs": [],
   "source": [
    "outcomes_df.reset_index().to_feather(f\"{output_path}/baseline_outcomes_220412.feather\")"
   ]
  },
  {
   "cell_type": "markdown",
   "metadata": {},
   "source": [
    "### Outcomes long"
   ]
  },
  {
   "cell_type": "code",
   "execution_count": 51,
   "metadata": {
    "execution": {
     "iopub.execute_input": "2022-04-12T09:31:08.985485Z",
     "iopub.status.busy": "2022-04-12T09:31:08.985265Z",
     "iopub.status.idle": "2022-04-12T09:31:08.993272Z",
     "shell.execute_reply": "2022-04-12T09:31:08.992971Z",
     "shell.execute_reply.started": "2022-04-12T09:31:08.985467Z"
    },
    "tags": []
   },
   "outputs": [],
   "source": [
    "endpoints = sorted(outcomes_df.columns.str.replace(\"_prev|_event|_time\", \"\", regex=True).unique().tolist())"
   ]
  },
  {
   "cell_type": "code",
   "execution_count": 52,
   "metadata": {
    "execution": {
     "iopub.execute_input": "2022-04-12T09:31:09.700108Z",
     "iopub.status.busy": "2022-04-12T09:31:09.699977Z",
     "iopub.status.idle": "2022-04-12T09:31:09.702202Z",
     "shell.execute_reply": "2022-04-12T09:31:09.701932Z",
     "shell.execute_reply.started": "2022-04-12T09:31:09.700094Z"
    },
    "tags": []
   },
   "outputs": [],
   "source": [
    "outcomes_long = pd.DataFrame()"
   ]
  },
  {
   "cell_type": "code",
   "execution_count": 53,
   "metadata": {
    "execution": {
     "iopub.execute_input": "2022-04-12T09:31:10.848383Z",
     "iopub.status.busy": "2022-04-12T09:31:10.848251Z",
     "iopub.status.idle": "2022-04-12T09:31:17.383288Z",
     "shell.execute_reply": "2022-04-12T09:31:17.382880Z",
     "shell.execute_reply.started": "2022-04-12T09:31:10.848369Z"
    },
    "tags": []
   },
   "outputs": [
    {
     "data": {
      "application/vnd.jupyter.widget-view+json": {
       "model_id": "258e2bfdf4474effa5021f4dacc4c651",
       "version_major": 2,
       "version_minor": 0
      },
      "text/plain": [
       "  0%|          | 0/1684 [00:00<?, ?it/s]"
      ]
     },
     "metadata": {},
     "output_type": "display_data"
    }
   ],
   "source": [
    "outcomes_df_list = []\n",
    "cols = [\"prev\", \"event\", \"time\"]\n",
    "for e in tqdm(endpoints):\n",
    "    temp = outcomes_df[[f\"{e}_{c}\" for c in cols]].assign(endpoint = e)\n",
    "    temp.columns = cols + [\"endpoint\"]\n",
    "    outcomes_df_list.append(temp)"
   ]
  },
  {
   "cell_type": "code",
   "execution_count": 54,
   "metadata": {
    "execution": {
     "iopub.execute_input": "2022-04-12T09:32:36.326869Z",
     "iopub.status.busy": "2022-04-12T09:32:36.326294Z",
     "iopub.status.idle": "2022-04-12T09:33:40.499303Z",
     "shell.execute_reply": "2022-04-12T09:33:40.498623Z",
     "shell.execute_reply.started": "2022-04-12T09:32:36.326852Z"
    },
    "tags": []
   },
   "outputs": [],
   "source": [
    "outcomes_long = pd.concat(outcomes_df_list, axis=0)[[\"endpoint\"] + cols].assign(endpoint = lambda x: x.endpoint.astype(\"category\")).reset_index()"
   ]
  },
  {
   "cell_type": "code",
   "execution_count": 55,
   "metadata": {
    "execution": {
     "iopub.execute_input": "2022-04-12T09:33:42.313666Z",
     "iopub.status.busy": "2022-04-12T09:33:42.313246Z",
     "iopub.status.idle": "2022-04-12T09:33:42.321920Z",
     "shell.execute_reply": "2022-04-12T09:33:42.321597Z",
     "shell.execute_reply.started": "2022-04-12T09:33:42.313646Z"
    },
    "tags": []
   },
   "outputs": [
    {
     "name": "stdout",
     "output_type": "stream",
     "text": [
      "<class 'pandas.core.frame.DataFrame'>\n",
      "RangeIndex: 846142640 entries, 0 to 846142639\n",
      "Data columns (total 5 columns):\n",
      " #   Column    Dtype   \n",
      "---  ------    -----   \n",
      " 0   eid       int64   \n",
      " 1   endpoint  category\n",
      " 2   prev      bool    \n",
      " 3   event     bool    \n",
      " 4   time      float32 \n",
      "dtypes: bool(2), category(1), float32(1), int64(1)\n",
      "memory usage: 12.6 GB\n"
     ]
    }
   ],
   "source": [
    "outcomes_long.info()"
   ]
  },
  {
   "cell_type": "code",
   "execution_count": 56,
   "metadata": {
    "execution": {
     "iopub.execute_input": "2022-04-12T09:33:46.443195Z",
     "iopub.status.busy": "2022-04-12T09:33:46.443040Z",
     "iopub.status.idle": "2022-04-12T09:34:41.665669Z",
     "shell.execute_reply": "2022-04-12T09:34:41.664953Z",
     "shell.execute_reply.started": "2022-04-12T09:33:46.443179Z"
    },
    "tags": []
   },
   "outputs": [],
   "source": [
    "outcomes_long.to_feather(f\"{output_path}/baseline_outcomes_long_220412.feather\")"
   ]
  }
 ],
 "metadata": {
  "interpreter": {
   "hash": "7fb005937abf8310e947cacdef9aa24b4c9570846765db425bfb20f46bc066c7"
  },
  "kernelspec": {
   "display_name": "Python [conda env:ehrgraphs]",
   "language": "python",
   "name": "conda-env-ehrgraphs-py"
  },
  "language_info": {
   "codemirror_mode": {
    "name": "ipython",
    "version": 3
   },
   "file_extension": ".py",
   "mimetype": "text/x-python",
   "name": "python",
   "nbconvert_exporter": "python",
   "pygments_lexer": "ipython3",
   "version": "3.9.7"
  }
 },
 "nbformat": 4,
 "nbformat_minor": 4
}
