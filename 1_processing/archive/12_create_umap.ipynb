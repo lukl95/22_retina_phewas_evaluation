{
 "cells": [
  {
   "cell_type": "code",
   "execution_count": 25,
   "metadata": {
    "execution": {
     "iopub.execute_input": "2022-04-15T11:39:12.017228Z",
     "iopub.status.busy": "2022-04-15T11:39:12.017040Z",
     "iopub.status.idle": "2022-04-15T11:39:12.020220Z",
     "shell.execute_reply": "2022-04-15T11:39:12.019881Z",
     "shell.execute_reply.started": "2022-04-15T11:39:12.017207Z"
    },
    "tags": []
   },
   "outputs": [],
   "source": [
    "import numpy as np\n",
    "import pandas as pd\n",
    "import pathlib\n",
    "from tqdm.auto import tqdm\n",
    "\n",
    "import hydra\n",
    "from omegaconf import DictConfig, OmegaConf\n",
    "\n",
    "import torch\n",
    "from torch_geometric import seed_everything\n",
    "\n",
    "import ray"
   ]
  },
  {
   "cell_type": "code",
   "execution_count": 26,
   "metadata": {
    "execution": {
     "iopub.execute_input": "2022-04-15T11:39:12.272206Z",
     "iopub.status.busy": "2022-04-15T11:39:12.271852Z",
     "iopub.status.idle": "2022-04-15T11:39:12.617029Z",
     "shell.execute_reply": "2022-04-15T11:39:12.616323Z",
     "shell.execute_reply.started": "2022-04-15T11:39:12.272179Z"
    },
    "tags": []
   },
   "outputs": [
    {
     "name": "stdout",
     "output_type": "stream",
     "text": [
      "/sc-projects/sc-proj-ukb-cvd\n"
     ]
    }
   ],
   "source": [
    "node = !hostname\n",
    "if \"sc\" in node[0]:\n",
    "    base_path = \"/sc-projects/sc-proj-ukb-cvd\"\n",
    "else: \n",
    "    base_path = \"/data/analysis/ag-reils/ag-reils-shared/cardioRS\"\n",
    "print(base_path)\n",
    "\n",
    "project_label = \"22_medical_records\"\n",
    "project_path = f\"{base_path}/results/projects/{project_label}\"\n",
    "figure_path = f\"{project_path}/figures\"\n",
    "output_path = f\"{project_path}/data\"\n",
    "\n",
    "pathlib.Path(figure_path).mkdir(parents=True, exist_ok=True)\n",
    "pathlib.Path(output_path).mkdir(parents=True, exist_ok=True)\n",
    "\n",
    "experiment = 220413\n",
    "experiment_path = f\"{output_path}/{experiment}\"\n",
    "pathlib.Path(experiment_path).mkdir(parents=True, exist_ok=True)"
   ]
  },
  {
   "cell_type": "code",
   "execution_count": 27,
   "metadata": {
    "execution": {
     "iopub.execute_input": "2022-04-15T11:39:12.618772Z",
     "iopub.status.busy": "2022-04-15T11:39:12.618329Z",
     "iopub.status.idle": "2022-04-15T11:39:12.811934Z",
     "shell.execute_reply": "2022-04-15T11:39:12.811410Z",
     "shell.execute_reply.started": "2022-04-15T11:39:12.618745Z"
    },
    "tags": []
   },
   "outputs": [],
   "source": [
    "import wandb\n",
    "api = wandb.Api()\n",
    "entity, project = \"cardiors\", \"recordgraphs\"  # set to your entity and project \n",
    "runs = api.runs(entity + \"/\" + project)"
   ]
  },
  {
   "cell_type": "code",
   "execution_count": 28,
   "metadata": {
    "execution": {
     "iopub.execute_input": "2022-04-15T11:39:12.813065Z",
     "iopub.status.busy": "2022-04-15T11:39:12.812945Z",
     "iopub.status.idle": "2022-04-15T11:43:18.310559Z",
     "shell.execute_reply": "2022-04-15T11:43:18.310065Z",
     "shell.execute_reply.started": "2022-04-15T11:39:12.813050Z"
    },
    "tags": []
   },
   "outputs": [
    {
     "data": {
      "application/vnd.jupyter.widget-view+json": {
       "model_id": "77926145ccaf42b3a1cfe2457df0d1bf",
       "version_major": 2,
       "version_minor": 0
      },
      "text/plain": [
       "  0%|          | 0/2287 [00:00<?, ?it/s]"
      ]
     },
     "metadata": {},
     "output_type": "display_data"
    },
    {
     "name": "stderr",
     "output_type": "stream",
     "text": [
      "\u001b[34m\u001b[1mwandb\u001b[0m: \u001b[33mWARNING\u001b[0m A graphql request initiated by the public wandb API timed out (timeout=9 sec). Create a new API with an integer timeout larger than 9, e.g., `api = wandb.Api(timeout=19)` to increase the graphql timeout.\n"
     ]
    }
   ],
   "source": [
    "run_list = []\n",
    "for run in tqdm(runs): \n",
    "    run_list.append(\n",
    "        {\n",
    "            \"id\": run.path[-1], \n",
    "            \"name\": run.name,\n",
    "            \"tags\": run.tags,\n",
    "            \"config\": {k: v for k,v in run.config.items()},\n",
    "            \"summary\": run.summary._json_dict,\n",
    "            \"path\": None if \"best_checkpoint\" not in run.config.keys() else str(pathlib.Path(run.config[\"best_checkpoint\"]).parent.parent)\n",
    "        }\n",
    "    )"
   ]
  },
  {
   "cell_type": "code",
   "execution_count": 32,
   "metadata": {
    "execution": {
     "iopub.execute_input": "2022-04-15T11:43:18.605974Z",
     "iopub.status.busy": "2022-04-15T11:43:18.605718Z",
     "iopub.status.idle": "2022-04-15T11:43:18.612863Z",
     "shell.execute_reply": "2022-04-15T11:43:18.612514Z",
     "shell.execute_reply.started": "2022-04-15T11:43:18.605956Z"
    },
    "tags": []
   },
   "outputs": [],
   "source": [
    "runs_df = pd.DataFrame(run_list)"
   ]
  },
  {
   "cell_type": "code",
   "execution_count": 33,
   "metadata": {
    "execution": {
     "iopub.execute_input": "2022-04-15T11:43:18.613669Z",
     "iopub.status.busy": "2022-04-15T11:43:18.613383Z",
     "iopub.status.idle": "2022-04-15T11:43:18.636832Z",
     "shell.execute_reply": "2022-04-15T11:43:18.636419Z",
     "shell.execute_reply.started": "2022-04-15T11:43:18.613652Z"
    },
    "tags": []
   },
   "outputs": [],
   "source": [
    "tag = \"220413\"\n",
    "model = \"identityagesex\"\n",
    "runs_df = runs_df[runs_df.tags.astype(str).str.contains(tag)].query(\"path==path\")"
   ]
  },
  {
   "cell_type": "code",
   "execution_count": 34,
   "metadata": {
    "execution": {
     "iopub.execute_input": "2022-04-15T11:43:18.637505Z",
     "iopub.status.busy": "2022-04-15T11:43:18.637405Z",
     "iopub.status.idle": "2022-04-15T11:43:18.878493Z",
     "shell.execute_reply": "2022-04-15T11:43:18.878028Z",
     "shell.execute_reply.started": "2022-04-15T11:43:18.637490Z"
    },
    "tags": []
   },
   "outputs": [
    {
     "data": {
      "text/html": [
       "<div>\n",
       "<style scoped>\n",
       "    .dataframe tbody tr th:only-of-type {\n",
       "        vertical-align: middle;\n",
       "    }\n",
       "\n",
       "    .dataframe tbody tr th {\n",
       "        vertical-align: top;\n",
       "    }\n",
       "\n",
       "    .dataframe thead th {\n",
       "        text-align: right;\n",
       "    }\n",
       "</style>\n",
       "<table border=\"1\" class=\"dataframe\">\n",
       "  <thead>\n",
       "    <tr style=\"text-align: right;\">\n",
       "      <th></th>\n",
       "      <th>id</th>\n",
       "      <th>name</th>\n",
       "      <th>tags</th>\n",
       "      <th>config</th>\n",
       "      <th>summary</th>\n",
       "      <th>path</th>\n",
       "      <th>partition</th>\n",
       "    </tr>\n",
       "  </thead>\n",
       "  <tbody>\n",
       "    <tr>\n",
       "      <th>0</th>\n",
       "      <td>2x979oyf</td>\n",
       "      <td>220413identityagesex0</td>\n",
       "      <td>[220413, full_data, identity]</td>\n",
       "      <td>{'losses': ['&lt;ehrgraphs.models.loss_wrapper.En...</td>\n",
       "      <td>{'gradients/head.layers.5.weight': {'bins': [-...</td>\n",
       "      <td>/sc-projects/sc-proj-ukb-cvd/results/models/Re...</td>\n",
       "      <td>0</td>\n",
       "    </tr>\n",
       "    <tr>\n",
       "      <th>1</th>\n",
       "      <td>iv9mgbwk</td>\n",
       "      <td>220413identityagesex1</td>\n",
       "      <td>[220413, full_data, identity]</td>\n",
       "      <td>{'losses': ['&lt;ehrgraphs.models.loss_wrapper.En...</td>\n",
       "      <td>{'valid/phecode_734-9 - Jaw pain_CIndex': 0.74...</td>\n",
       "      <td>/sc-projects/sc-proj-ukb-cvd/results/models/Re...</td>\n",
       "      <td>1</td>\n",
       "    </tr>\n",
       "    <tr>\n",
       "      <th>2</th>\n",
       "      <td>1rubejdr</td>\n",
       "      <td>220413identityagesex2</td>\n",
       "      <td>[220413, full_data, identity]</td>\n",
       "      <td>{'losses': ['&lt;ehrgraphs.models.loss_wrapper.En...</td>\n",
       "      <td>{'valid/phecode_280 - Substance related disord...</td>\n",
       "      <td>/sc-projects/sc-proj-ukb-cvd/results/models/Re...</td>\n",
       "      <td>2</td>\n",
       "    </tr>\n",
       "    <tr>\n",
       "      <th>3</th>\n",
       "      <td>2trepsux</td>\n",
       "      <td>220413identityagesex3</td>\n",
       "      <td>[220413, full_data, identity]</td>\n",
       "      <td>{'losses': ['&lt;ehrgraphs.models.loss_wrapper.En...</td>\n",
       "      <td>{'valid/phecode_525-1 - Celiac disease_CIndex'...</td>\n",
       "      <td>/sc-projects/sc-proj-ukb-cvd/results/models/Re...</td>\n",
       "      <td>3</td>\n",
       "    </tr>\n",
       "    <tr>\n",
       "      <th>4</th>\n",
       "      <td>37x6n9iw</td>\n",
       "      <td>220413identityagesex4</td>\n",
       "      <td>[220413, full_data, identity]</td>\n",
       "      <td>{'losses': ['&lt;ehrgraphs.models.loss_wrapper.En...</td>\n",
       "      <td>{'valid/phecode_592-2 - Urethritis and urethra...</td>\n",
       "      <td>/sc-projects/sc-proj-ukb-cvd/results/models/Re...</td>\n",
       "      <td>4</td>\n",
       "    </tr>\n",
       "    <tr>\n",
       "      <th>5</th>\n",
       "      <td>rn6z39ky</td>\n",
       "      <td>220413identityagesex5</td>\n",
       "      <td>[220413, full_data, identity]</td>\n",
       "      <td>{'losses': ['&lt;ehrgraphs.models.loss_wrapper.En...</td>\n",
       "      <td>{'valid/phecode_618-5 - Prolapse of vaginal va...</td>\n",
       "      <td>/sc-projects/sc-proj-ukb-cvd/results/models/Re...</td>\n",
       "      <td>5</td>\n",
       "    </tr>\n",
       "    <tr>\n",
       "      <th>6</th>\n",
       "      <td>26hfbnfl</td>\n",
       "      <td>220413identityagesex6</td>\n",
       "      <td>[220413, full_data, identity]</td>\n",
       "      <td>{'losses': ['&lt;ehrgraphs.models.loss_wrapper.En...</td>\n",
       "      <td>{'valid/phecode_666-2 - Idiopathic urticaria_C...</td>\n",
       "      <td>/sc-projects/sc-proj-ukb-cvd/results/models/Re...</td>\n",
       "      <td>6</td>\n",
       "    </tr>\n",
       "    <tr>\n",
       "      <th>7</th>\n",
       "      <td>b24pbiyt</td>\n",
       "      <td>220413identityagesex7</td>\n",
       "      <td>[220413, full_data, identity]</td>\n",
       "      <td>{'losses': ['&lt;ehrgraphs.models.loss_wrapper.En...</td>\n",
       "      <td>{'valid/phecode_337-2 - Inflammatory polyneuro...</td>\n",
       "      <td>/sc-projects/sc-proj-ukb-cvd/results/models/Re...</td>\n",
       "      <td>7</td>\n",
       "    </tr>\n",
       "    <tr>\n",
       "      <th>8</th>\n",
       "      <td>17ajmonc</td>\n",
       "      <td>220413identityagesex8</td>\n",
       "      <td>[220413, full_data, identity]</td>\n",
       "      <td>{'losses': ['&lt;ehrgraphs.models.loss_wrapper.En...</td>\n",
       "      <td>{'valid/phecode_391-6 - Cholesteatoma of middl...</td>\n",
       "      <td>/sc-projects/sc-proj-ukb-cvd/results/models/Re...</td>\n",
       "      <td>8</td>\n",
       "    </tr>\n",
       "    <tr>\n",
       "      <th>9</th>\n",
       "      <td>1c0o97vl</td>\n",
       "      <td>220413identityagesex9</td>\n",
       "      <td>[220413, full_data, identity]</td>\n",
       "      <td>{'losses': ['&lt;ehrgraphs.models.loss_wrapper.En...</td>\n",
       "      <td>{'valid/phecode_723-5 - Tendinitis_CIndex': 0....</td>\n",
       "      <td>/sc-projects/sc-proj-ukb-cvd/results/models/Re...</td>\n",
       "      <td>9</td>\n",
       "    </tr>\n",
       "    <tr>\n",
       "      <th>10</th>\n",
       "      <td>2vq9jg2k</td>\n",
       "      <td>220413identityagesex10</td>\n",
       "      <td>[220413, full_data, identity]</td>\n",
       "      <td>{'losses': ['&lt;ehrgraphs.models.loss_wrapper.En...</td>\n",
       "      <td>{'valid/phecode_600 - Benign prostatic hyperpl...</td>\n",
       "      <td>/sc-projects/sc-proj-ukb-cvd/results/models/Re...</td>\n",
       "      <td>10</td>\n",
       "    </tr>\n",
       "    <tr>\n",
       "      <th>11</th>\n",
       "      <td>3fmqdhsj</td>\n",
       "      <td>220413identityagesex11</td>\n",
       "      <td>[220413, full_data, identity]</td>\n",
       "      <td>{'losses': ['&lt;ehrgraphs.models.loss_wrapper.En...</td>\n",
       "      <td>{'valid/phecode_387-3 - Astigmatism_CIndex': 0...</td>\n",
       "      <td>/sc-projects/sc-proj-ukb-cvd/results/models/Re...</td>\n",
       "      <td>11</td>\n",
       "    </tr>\n",
       "    <tr>\n",
       "      <th>12</th>\n",
       "      <td>1ura3oka</td>\n",
       "      <td>220413identityagesex12</td>\n",
       "      <td>[220413, full_data, identity]</td>\n",
       "      <td>{'losses': ['&lt;ehrgraphs.models.loss_wrapper.En...</td>\n",
       "      <td>{'valid/phecode_520 - Hernia_CIndex': 0.717844...</td>\n",
       "      <td>/sc-projects/sc-proj-ukb-cvd/results/models/Re...</td>\n",
       "      <td>12</td>\n",
       "    </tr>\n",
       "    <tr>\n",
       "      <th>13</th>\n",
       "      <td>1tjkha2h</td>\n",
       "      <td>220413identityagesex13</td>\n",
       "      <td>[220413, full_data, identity]</td>\n",
       "      <td>{'losses': ['&lt;ehrgraphs.models.loss_wrapper.En...</td>\n",
       "      <td>{'valid/phecode_325-23 - Unsteadiness on feet*...</td>\n",
       "      <td>/sc-projects/sc-proj-ukb-cvd/results/models/Re...</td>\n",
       "      <td>13</td>\n",
       "    </tr>\n",
       "    <tr>\n",
       "      <th>14</th>\n",
       "      <td>q7debim1</td>\n",
       "      <td>220413identityagesex14</td>\n",
       "      <td>[220413, full_data, identity]</td>\n",
       "      <td>{'losses': ['&lt;ehrgraphs.models.loss_wrapper.En...</td>\n",
       "      <td>{'valid/phecode_161 - Hemolytic anemias_CIndex...</td>\n",
       "      <td>/sc-projects/sc-proj-ukb-cvd/results/models/Re...</td>\n",
       "      <td>14</td>\n",
       "    </tr>\n",
       "    <tr>\n",
       "      <th>15</th>\n",
       "      <td>zqh3ponn</td>\n",
       "      <td>220413identityagesex15</td>\n",
       "      <td>[220413, full_data, identity]</td>\n",
       "      <td>{'losses': ['&lt;ehrgraphs.models.loss_wrapper.En...</td>\n",
       "      <td>{'valid/phecode_138 - Benign neoplasm of the s...</td>\n",
       "      <td>/sc-projects/sc-proj-ukb-cvd/results/models/Re...</td>\n",
       "      <td>15</td>\n",
       "    </tr>\n",
       "    <tr>\n",
       "      <th>16</th>\n",
       "      <td>1s0sioqc</td>\n",
       "      <td>220413identityagesex16</td>\n",
       "      <td>[220413, full_data, identity]</td>\n",
       "      <td>{'losses': ['&lt;ehrgraphs.models.loss_wrapper.En...</td>\n",
       "      <td>{'valid/phecode_506-3 - Sialoadenitis_CIndex':...</td>\n",
       "      <td>/sc-projects/sc-proj-ukb-cvd/results/models/Re...</td>\n",
       "      <td>16</td>\n",
       "    </tr>\n",
       "    <tr>\n",
       "      <th>17</th>\n",
       "      <td>jee0j676</td>\n",
       "      <td>220413identityagesex17</td>\n",
       "      <td>[220413, full_data, identity]</td>\n",
       "      <td>{'losses': ['&lt;ehrgraphs.models.loss_wrapper.En...</td>\n",
       "      <td>{'valid/phecode_001 - Salmonella_CIndex': 0.71...</td>\n",
       "      <td>/sc-projects/sc-proj-ukb-cvd/results/models/Re...</td>\n",
       "      <td>17</td>\n",
       "    </tr>\n",
       "    <tr>\n",
       "      <th>18</th>\n",
       "      <td>20itoi1j</td>\n",
       "      <td>220413identityagesex18</td>\n",
       "      <td>[220413, full_data, identity]</td>\n",
       "      <td>{'losses': ['&lt;ehrgraphs.models.loss_wrapper.En...</td>\n",
       "      <td>{'valid/phecode_168-19 - Spontaneous ecchymose...</td>\n",
       "      <td>/sc-projects/sc-proj-ukb-cvd/results/models/Re...</td>\n",
       "      <td>18</td>\n",
       "    </tr>\n",
       "    <tr>\n",
       "      <th>19</th>\n",
       "      <td>1c2jraqx</td>\n",
       "      <td>220413identityagesex19</td>\n",
       "      <td>[220413, full_data, identity]</td>\n",
       "      <td>{'losses': ['&lt;ehrgraphs.models.loss_wrapper.En...</td>\n",
       "      <td>{'valid/phecode_400-2 - Chronic rheumatic hear...</td>\n",
       "      <td>/sc-projects/sc-proj-ukb-cvd/results/models/Re...</td>\n",
       "      <td>19</td>\n",
       "    </tr>\n",
       "    <tr>\n",
       "      <th>20</th>\n",
       "      <td>a7yseytf</td>\n",
       "      <td>220413identityagesex20</td>\n",
       "      <td>[220413, full_data, identity]</td>\n",
       "      <td>{'losses': ['&lt;ehrgraphs.models.loss_wrapper.En...</td>\n",
       "      <td>{'valid/phecode_349-2 - Abnormal results of fu...</td>\n",
       "      <td>/sc-projects/sc-proj-ukb-cvd/results/models/Re...</td>\n",
       "      <td>20</td>\n",
       "    </tr>\n",
       "    <tr>\n",
       "      <th>21</th>\n",
       "      <td>pfcle95e</td>\n",
       "      <td>220413identityagesex21</td>\n",
       "      <td>[220413, full_data, identity]</td>\n",
       "      <td>{'losses': ['&lt;ehrgraphs.models.loss_wrapper.En...</td>\n",
       "      <td>{'valid/phecode_208-1 - Hypoparathyroidism_CIn...</td>\n",
       "      <td>/sc-projects/sc-proj-ukb-cvd/results/models/Re...</td>\n",
       "      <td>21</td>\n",
       "    </tr>\n",
       "  </tbody>\n",
       "</table>\n",
       "</div>"
      ],
      "text/plain": [
       "          id                    name                           tags  \\\n",
       "0   2x979oyf   220413identityagesex0  [220413, full_data, identity]   \n",
       "1   iv9mgbwk   220413identityagesex1  [220413, full_data, identity]   \n",
       "2   1rubejdr   220413identityagesex2  [220413, full_data, identity]   \n",
       "3   2trepsux   220413identityagesex3  [220413, full_data, identity]   \n",
       "4   37x6n9iw   220413identityagesex4  [220413, full_data, identity]   \n",
       "5   rn6z39ky   220413identityagesex5  [220413, full_data, identity]   \n",
       "6   26hfbnfl   220413identityagesex6  [220413, full_data, identity]   \n",
       "7   b24pbiyt   220413identityagesex7  [220413, full_data, identity]   \n",
       "8   17ajmonc   220413identityagesex8  [220413, full_data, identity]   \n",
       "9   1c0o97vl   220413identityagesex9  [220413, full_data, identity]   \n",
       "10  2vq9jg2k  220413identityagesex10  [220413, full_data, identity]   \n",
       "11  3fmqdhsj  220413identityagesex11  [220413, full_data, identity]   \n",
       "12  1ura3oka  220413identityagesex12  [220413, full_data, identity]   \n",
       "13  1tjkha2h  220413identityagesex13  [220413, full_data, identity]   \n",
       "14  q7debim1  220413identityagesex14  [220413, full_data, identity]   \n",
       "15  zqh3ponn  220413identityagesex15  [220413, full_data, identity]   \n",
       "16  1s0sioqc  220413identityagesex16  [220413, full_data, identity]   \n",
       "17  jee0j676  220413identityagesex17  [220413, full_data, identity]   \n",
       "18  20itoi1j  220413identityagesex18  [220413, full_data, identity]   \n",
       "19  1c2jraqx  220413identityagesex19  [220413, full_data, identity]   \n",
       "20  a7yseytf  220413identityagesex20  [220413, full_data, identity]   \n",
       "21  pfcle95e  220413identityagesex21  [220413, full_data, identity]   \n",
       "\n",
       "                                               config  \\\n",
       "0   {'losses': ['<ehrgraphs.models.loss_wrapper.En...   \n",
       "1   {'losses': ['<ehrgraphs.models.loss_wrapper.En...   \n",
       "2   {'losses': ['<ehrgraphs.models.loss_wrapper.En...   \n",
       "3   {'losses': ['<ehrgraphs.models.loss_wrapper.En...   \n",
       "4   {'losses': ['<ehrgraphs.models.loss_wrapper.En...   \n",
       "5   {'losses': ['<ehrgraphs.models.loss_wrapper.En...   \n",
       "6   {'losses': ['<ehrgraphs.models.loss_wrapper.En...   \n",
       "7   {'losses': ['<ehrgraphs.models.loss_wrapper.En...   \n",
       "8   {'losses': ['<ehrgraphs.models.loss_wrapper.En...   \n",
       "9   {'losses': ['<ehrgraphs.models.loss_wrapper.En...   \n",
       "10  {'losses': ['<ehrgraphs.models.loss_wrapper.En...   \n",
       "11  {'losses': ['<ehrgraphs.models.loss_wrapper.En...   \n",
       "12  {'losses': ['<ehrgraphs.models.loss_wrapper.En...   \n",
       "13  {'losses': ['<ehrgraphs.models.loss_wrapper.En...   \n",
       "14  {'losses': ['<ehrgraphs.models.loss_wrapper.En...   \n",
       "15  {'losses': ['<ehrgraphs.models.loss_wrapper.En...   \n",
       "16  {'losses': ['<ehrgraphs.models.loss_wrapper.En...   \n",
       "17  {'losses': ['<ehrgraphs.models.loss_wrapper.En...   \n",
       "18  {'losses': ['<ehrgraphs.models.loss_wrapper.En...   \n",
       "19  {'losses': ['<ehrgraphs.models.loss_wrapper.En...   \n",
       "20  {'losses': ['<ehrgraphs.models.loss_wrapper.En...   \n",
       "21  {'losses': ['<ehrgraphs.models.loss_wrapper.En...   \n",
       "\n",
       "                                              summary  \\\n",
       "0   {'gradients/head.layers.5.weight': {'bins': [-...   \n",
       "1   {'valid/phecode_734-9 - Jaw pain_CIndex': 0.74...   \n",
       "2   {'valid/phecode_280 - Substance related disord...   \n",
       "3   {'valid/phecode_525-1 - Celiac disease_CIndex'...   \n",
       "4   {'valid/phecode_592-2 - Urethritis and urethra...   \n",
       "5   {'valid/phecode_618-5 - Prolapse of vaginal va...   \n",
       "6   {'valid/phecode_666-2 - Idiopathic urticaria_C...   \n",
       "7   {'valid/phecode_337-2 - Inflammatory polyneuro...   \n",
       "8   {'valid/phecode_391-6 - Cholesteatoma of middl...   \n",
       "9   {'valid/phecode_723-5 - Tendinitis_CIndex': 0....   \n",
       "10  {'valid/phecode_600 - Benign prostatic hyperpl...   \n",
       "11  {'valid/phecode_387-3 - Astigmatism_CIndex': 0...   \n",
       "12  {'valid/phecode_520 - Hernia_CIndex': 0.717844...   \n",
       "13  {'valid/phecode_325-23 - Unsteadiness on feet*...   \n",
       "14  {'valid/phecode_161 - Hemolytic anemias_CIndex...   \n",
       "15  {'valid/phecode_138 - Benign neoplasm of the s...   \n",
       "16  {'valid/phecode_506-3 - Sialoadenitis_CIndex':...   \n",
       "17  {'valid/phecode_001 - Salmonella_CIndex': 0.71...   \n",
       "18  {'valid/phecode_168-19 - Spontaneous ecchymose...   \n",
       "19  {'valid/phecode_400-2 - Chronic rheumatic hear...   \n",
       "20  {'valid/phecode_349-2 - Abnormal results of fu...   \n",
       "21  {'valid/phecode_208-1 - Hypoparathyroidism_CIn...   \n",
       "\n",
       "                                                 path  partition  \n",
       "0   /sc-projects/sc-proj-ukb-cvd/results/models/Re...          0  \n",
       "1   /sc-projects/sc-proj-ukb-cvd/results/models/Re...          1  \n",
       "2   /sc-projects/sc-proj-ukb-cvd/results/models/Re...          2  \n",
       "3   /sc-projects/sc-proj-ukb-cvd/results/models/Re...          3  \n",
       "4   /sc-projects/sc-proj-ukb-cvd/results/models/Re...          4  \n",
       "5   /sc-projects/sc-proj-ukb-cvd/results/models/Re...          5  \n",
       "6   /sc-projects/sc-proj-ukb-cvd/results/models/Re...          6  \n",
       "7   /sc-projects/sc-proj-ukb-cvd/results/models/Re...          7  \n",
       "8   /sc-projects/sc-proj-ukb-cvd/results/models/Re...          8  \n",
       "9   /sc-projects/sc-proj-ukb-cvd/results/models/Re...          9  \n",
       "10  /sc-projects/sc-proj-ukb-cvd/results/models/Re...         10  \n",
       "11  /sc-projects/sc-proj-ukb-cvd/results/models/Re...         11  \n",
       "12  /sc-projects/sc-proj-ukb-cvd/results/models/Re...         12  \n",
       "13  /sc-projects/sc-proj-ukb-cvd/results/models/Re...         13  \n",
       "14  /sc-projects/sc-proj-ukb-cvd/results/models/Re...         14  \n",
       "15  /sc-projects/sc-proj-ukb-cvd/results/models/Re...         15  \n",
       "16  /sc-projects/sc-proj-ukb-cvd/results/models/Re...         16  \n",
       "17  /sc-projects/sc-proj-ukb-cvd/results/models/Re...         17  \n",
       "18  /sc-projects/sc-proj-ukb-cvd/results/models/Re...         18  \n",
       "19  /sc-projects/sc-proj-ukb-cvd/results/models/Re...         19  \n",
       "20  /sc-projects/sc-proj-ukb-cvd/results/models/Re...         20  \n",
       "21  /sc-projects/sc-proj-ukb-cvd/results/models/Re...         21  "
      ]
     },
     "execution_count": 34,
     "metadata": {},
     "output_type": "execute_result"
    }
   ],
   "source": [
    "attribution_metadata = runs_df[runs_df.name.astype(str).str.contains(model)].query(\"path==path\")\n",
    "attribution_metadata[\"partition\"] = [eval(d[\"_content\"][\"datamodule\"])[\"partition\"] for d in attribution_metadata.config.to_list()]\n",
    "attribution_metadata = attribution_metadata.sort_values(\"partition\").reset_index(drop=True)\n",
    "attribution_metadata"
   ]
  },
  {
   "cell_type": "code",
   "execution_count": 35,
   "metadata": {
    "execution": {
     "iopub.execute_input": "2022-04-15T11:43:18.879517Z",
     "iopub.status.busy": "2022-04-15T11:43:18.879263Z",
     "iopub.status.idle": "2022-04-15T11:43:18.881824Z",
     "shell.execute_reply": "2022-04-15T11:43:18.881466Z",
     "shell.execute_reply.started": "2022-04-15T11:43:18.879499Z"
    },
    "tags": []
   },
   "outputs": [],
   "source": [
    "in_path = pathlib.Path(f\"{experiment_path}/loghs\")"
   ]
  },
  {
   "cell_type": "code",
   "execution_count": 36,
   "metadata": {
    "execution": {
     "iopub.execute_input": "2022-04-15T11:43:18.882392Z",
     "iopub.status.busy": "2022-04-15T11:43:18.882290Z",
     "iopub.status.idle": "2022-04-15T11:43:18.893945Z",
     "shell.execute_reply": "2022-04-15T11:43:18.893597Z",
     "shell.execute_reply.started": "2022-04-15T11:43:18.882380Z"
    },
    "tags": []
   },
   "outputs": [],
   "source": [
    "model = 'Identity(AgeSex+Records)+MLP'"
   ]
  },
  {
   "cell_type": "code",
   "execution_count": 37,
   "metadata": {
    "execution": {
     "iopub.execute_input": "2022-04-15T11:43:18.895450Z",
     "iopub.status.busy": "2022-04-15T11:43:18.895172Z",
     "iopub.status.idle": "2022-04-15T11:43:18.905666Z",
     "shell.execute_reply": "2022-04-15T11:43:18.905322Z",
     "shell.execute_reply.started": "2022-04-15T11:43:18.895434Z"
    },
    "tags": []
   },
   "outputs": [],
   "source": [
    "partitions = [p for p in range(22)]"
   ]
  },
  {
   "cell_type": "code",
   "execution_count": 38,
   "metadata": {
    "execution": {
     "iopub.execute_input": "2022-04-15T11:43:18.906227Z",
     "iopub.status.busy": "2022-04-15T11:43:18.906134Z",
     "iopub.status.idle": "2022-04-15T11:43:18.917232Z",
     "shell.execute_reply": "2022-04-15T11:43:18.916883Z",
     "shell.execute_reply.started": "2022-04-15T11:43:18.906215Z"
    },
    "tags": []
   },
   "outputs": [],
   "source": [
    "import pathlib"
   ]
  },
  {
   "cell_type": "code",
   "execution_count": 39,
   "metadata": {
    "execution": {
     "iopub.execute_input": "2022-04-15T11:43:18.917987Z",
     "iopub.status.busy": "2022-04-15T11:43:18.917760Z",
     "iopub.status.idle": "2022-04-15T11:43:27.985043Z",
     "shell.execute_reply": "2022-04-15T11:43:27.984415Z",
     "shell.execute_reply.started": "2022-04-15T11:43:18.917972Z"
    },
    "tags": []
   },
   "outputs": [
    {
     "data": {
      "application/vnd.jupyter.widget-view+json": {
       "model_id": "259129190094442a92864ffad2c42828",
       "version_major": 2,
       "version_minor": 0
      },
      "text/plain": [
       "  0%|          | 0/22 [00:00<?, ?it/s]"
      ]
     },
     "metadata": {},
     "output_type": "display_data"
    }
   ],
   "source": [
    "dfs = []\n",
    "for partition in tqdm(partitions):\n",
    "    fp_in = f\"{in_path}/{model}/{partition}\"\n",
    "    fp_test = f\"{fp_in}/test.feather\"\n",
    "    if pathlib.Path(fp_test).is_file():\n",
    "        dfs.append(pd.read_feather(fp_test).set_index(\"eid\"))"
   ]
  },
  {
   "cell_type": "code",
   "execution_count": 40,
   "metadata": {
    "execution": {
     "iopub.execute_input": "2022-04-15T11:43:27.986252Z",
     "iopub.status.busy": "2022-04-15T11:43:27.986068Z",
     "iopub.status.idle": "2022-04-15T11:43:31.059516Z",
     "shell.execute_reply": "2022-04-15T11:43:31.057926Z",
     "shell.execute_reply.started": "2022-04-15T11:43:27.986232Z"
    },
    "tags": []
   },
   "outputs": [],
   "source": [
    "predictions_wide = pd.concat(dfs).sort_index()"
   ]
  },
  {
   "cell_type": "code",
   "execution_count": 41,
   "metadata": {
    "execution": {
     "iopub.execute_input": "2022-04-15T11:43:31.068879Z",
     "iopub.status.busy": "2022-04-15T11:43:31.068637Z",
     "iopub.status.idle": "2022-04-15T11:43:31.074099Z",
     "shell.execute_reply": "2022-04-15T11:43:31.073732Z",
     "shell.execute_reply.started": "2022-04-15T11:43:31.068863Z"
    },
    "tags": []
   },
   "outputs": [],
   "source": [
    "endpoint_cols = [c for c in predictions_wide.columns if \"OMOP\" in c or \"phecode\" in c]"
   ]
  },
  {
   "cell_type": "code",
   "execution_count": 42,
   "metadata": {
    "execution": {
     "iopub.execute_input": "2022-04-15T11:43:31.074920Z",
     "iopub.status.busy": "2022-04-15T11:43:31.074697Z",
     "iopub.status.idle": "2022-04-15T11:43:39.882380Z",
     "shell.execute_reply": "2022-04-15T11:43:39.881727Z",
     "shell.execute_reply.started": "2022-04-15T11:43:31.074905Z"
    },
    "tags": []
   },
   "outputs": [],
   "source": [
    "from sklearn.preprocessing import StandardScaler\n",
    "predictions_scaled = StandardScaler().fit_transform(predictions_wide[endpoint_cols])"
   ]
  },
  {
   "cell_type": "code",
   "execution_count": 43,
   "metadata": {
    "execution": {
     "iopub.execute_input": "2022-04-15T11:43:39.883722Z",
     "iopub.status.busy": "2022-04-15T11:43:39.883374Z",
     "iopub.status.idle": "2022-04-15T11:43:39.886716Z",
     "shell.execute_reply": "2022-04-15T11:43:39.886263Z",
     "shell.execute_reply.started": "2022-04-15T11:43:39.883701Z"
    },
    "tags": []
   },
   "outputs": [],
   "source": [
    "import umap\n",
    "reducer = umap.UMAP(verbose=True)"
   ]
  },
  {
   "cell_type": "code",
   "execution_count": 44,
   "metadata": {
    "execution": {
     "iopub.execute_input": "2022-04-15T11:43:39.887643Z",
     "iopub.status.busy": "2022-04-15T11:43:39.887303Z",
     "iopub.status.idle": "2022-04-15T12:05:26.669980Z",
     "shell.execute_reply": "2022-04-15T12:05:26.669341Z",
     "shell.execute_reply.started": "2022-04-15T11:43:39.887618Z"
    },
    "tags": []
   },
   "outputs": [
    {
     "name": "stdout",
     "output_type": "stream",
     "text": [
      "UMAP( verbose=True)\n",
      "Fri Apr 15 13:43:42 2022 Construct fuzzy simplicial set\n",
      "Fri Apr 15 13:43:43 2022 Finding Nearest Neighbors\n",
      "Fri Apr 15 13:43:43 2022 Building RP forest with 40 trees\n",
      "Fri Apr 15 13:44:08 2022 NN descent for 19 iterations\n",
      "\t 1  /  19\n",
      "\t 2  /  19\n",
      "\t 3  /  19\n",
      "\t 4  /  19\n",
      "\t 5  /  19\n",
      "\tStopping threshold met -- exiting after 5 iterations\n",
      "Fri Apr 15 13:44:48 2022 Finished Nearest Neighbor Search\n",
      "Fri Apr 15 13:44:51 2022 Construct embedding\n"
     ]
    },
    {
     "name": "stderr",
     "output_type": "stream",
     "text": [
      "/home/steinfej/miniconda3/envs/ehrgraphs/lib/python3.9/site-packages/sklearn/manifold/_spectral_embedding.py:260: UserWarning: Graph is not fully connected, spectral embedding may not work as expected.\n",
      "  warnings.warn(\n"
     ]
    },
    {
     "data": {
      "application/vnd.jupyter.widget-view+json": {
       "model_id": "f19493e889164ef496d09d98bf26e912",
       "version_major": 2,
       "version_minor": 0
      },
      "text/plain": [
       "Epochs completed:   0%|            0/200 [00:00]"
      ]
     },
     "metadata": {},
     "output_type": "display_data"
    },
    {
     "name": "stdout",
     "output_type": "stream",
     "text": [
      "Fri Apr 15 14:05:21 2022 Finished embedding\n"
     ]
    },
    {
     "data": {
      "text/plain": [
       "UMAP( verbose=True)"
      ]
     },
     "execution_count": 44,
     "metadata": {},
     "output_type": "execute_result"
    }
   ],
   "source": [
    "reducer.fit(predictions_scaled)"
   ]
  },
  {
   "cell_type": "code",
   "execution_count": 45,
   "metadata": {
    "execution": {
     "iopub.execute_input": "2022-04-15T12:05:26.671652Z",
     "iopub.status.busy": "2022-04-15T12:05:26.671291Z",
     "iopub.status.idle": "2022-04-15T12:05:33.601343Z",
     "shell.execute_reply": "2022-04-15T12:05:33.600880Z",
     "shell.execute_reply.started": "2022-04-15T12:05:26.671612Z"
    },
    "tags": []
   },
   "outputs": [],
   "source": [
    "embeddings = reducer.transform(predictions_scaled)"
   ]
  },
  {
   "cell_type": "code",
   "execution_count": 46,
   "metadata": {
    "execution": {
     "iopub.execute_input": "2022-04-15T12:05:33.602505Z",
     "iopub.status.busy": "2022-04-15T12:05:33.602054Z",
     "iopub.status.idle": "2022-04-15T12:05:33.617265Z",
     "shell.execute_reply": "2022-04-15T12:05:33.616915Z",
     "shell.execute_reply.started": "2022-04-15T12:05:33.602488Z"
    },
    "tags": []
   },
   "outputs": [
    {
     "data": {
      "text/html": [
       "<div>\n",
       "<style scoped>\n",
       "    .dataframe tbody tr th:only-of-type {\n",
       "        vertical-align: middle;\n",
       "    }\n",
       "\n",
       "    .dataframe tbody tr th {\n",
       "        vertical-align: top;\n",
       "    }\n",
       "\n",
       "    .dataframe thead th {\n",
       "        text-align: right;\n",
       "    }\n",
       "</style>\n",
       "<table border=\"1\" class=\"dataframe\">\n",
       "  <thead>\n",
       "    <tr style=\"text-align: right;\">\n",
       "      <th></th>\n",
       "      <th>0</th>\n",
       "      <th>1</th>\n",
       "    </tr>\n",
       "  </thead>\n",
       "  <tbody>\n",
       "    <tr>\n",
       "      <th>1000018</th>\n",
       "      <td>2.662032</td>\n",
       "      <td>-6.283121</td>\n",
       "    </tr>\n",
       "    <tr>\n",
       "      <th>1000020</th>\n",
       "      <td>-11.396855</td>\n",
       "      <td>5.266734</td>\n",
       "    </tr>\n",
       "    <tr>\n",
       "      <th>1000037</th>\n",
       "      <td>3.566753</td>\n",
       "      <td>-5.027369</td>\n",
       "    </tr>\n",
       "    <tr>\n",
       "      <th>1000043</th>\n",
       "      <td>6.165914</td>\n",
       "      <td>5.368650</td>\n",
       "    </tr>\n",
       "    <tr>\n",
       "      <th>1000051</th>\n",
       "      <td>4.097596</td>\n",
       "      <td>-1.529928</td>\n",
       "    </tr>\n",
       "    <tr>\n",
       "      <th>...</th>\n",
       "      <td>...</td>\n",
       "      <td>...</td>\n",
       "    </tr>\n",
       "    <tr>\n",
       "      <th>6025150</th>\n",
       "      <td>7.383742</td>\n",
       "      <td>-12.067386</td>\n",
       "    </tr>\n",
       "    <tr>\n",
       "      <th>6025165</th>\n",
       "      <td>0.110340</td>\n",
       "      <td>-4.913511</td>\n",
       "    </tr>\n",
       "    <tr>\n",
       "      <th>6025173</th>\n",
       "      <td>11.252336</td>\n",
       "      <td>4.008609</td>\n",
       "    </tr>\n",
       "    <tr>\n",
       "      <th>6025182</th>\n",
       "      <td>9.481647</td>\n",
       "      <td>6.293105</td>\n",
       "    </tr>\n",
       "    <tr>\n",
       "      <th>6025198</th>\n",
       "      <td>9.240771</td>\n",
       "      <td>1.776641</td>\n",
       "    </tr>\n",
       "  </tbody>\n",
       "</table>\n",
       "<p>502460 rows × 2 columns</p>\n",
       "</div>"
      ],
      "text/plain": [
       "                 0          1\n",
       "1000018   2.662032  -6.283121\n",
       "1000020 -11.396855   5.266734\n",
       "1000037   3.566753  -5.027369\n",
       "1000043   6.165914   5.368650\n",
       "1000051   4.097596  -1.529928\n",
       "...            ...        ...\n",
       "6025150   7.383742 -12.067386\n",
       "6025165   0.110340  -4.913511\n",
       "6025173  11.252336   4.008609\n",
       "6025182   9.481647   6.293105\n",
       "6025198   9.240771   1.776641\n",
       "\n",
       "[502460 rows x 2 columns]"
      ]
     },
     "execution_count": 46,
     "metadata": {},
     "output_type": "execute_result"
    }
   ],
   "source": [
    "embeddings_df = pd.DataFrame(data=embeddings, index=predictions_wide.index.values).sort_index()\n",
    "embeddings_df"
   ]
  },
  {
   "cell_type": "code",
   "execution_count": 47,
   "metadata": {
    "execution": {
     "iopub.execute_input": "2022-04-15T12:05:33.618017Z",
     "iopub.status.busy": "2022-04-15T12:05:33.617911Z",
     "iopub.status.idle": "2022-04-15T12:05:33.620511Z",
     "shell.execute_reply": "2022-04-15T12:05:33.620245Z",
     "shell.execute_reply.started": "2022-04-15T12:05:33.618003Z"
    },
    "tags": []
   },
   "outputs": [],
   "source": [
    "embeddings_df.columns = [\"umap_0\", \"umap_1\"]"
   ]
  },
  {
   "cell_type": "code",
   "execution_count": 48,
   "metadata": {
    "execution": {
     "iopub.execute_input": "2022-04-15T12:05:33.622371Z",
     "iopub.status.busy": "2022-04-15T12:05:33.622094Z",
     "iopub.status.idle": "2022-04-15T12:05:33.718213Z",
     "shell.execute_reply": "2022-04-15T12:05:33.717796Z",
     "shell.execute_reply.started": "2022-04-15T12:05:33.622355Z"
    },
    "tags": []
   },
   "outputs": [],
   "source": [
    "embeddings_df.sort_index().rename_axis(\"eid\").reset_index().to_feather(f\"{experiment_path}/logh_umap_agesex.feather\")"
   ]
  },
  {
   "cell_type": "code",
   "execution_count": null,
   "metadata": {},
   "outputs": [],
   "source": []
  }
 ],
 "metadata": {
  "interpreter": {
   "hash": "7fb005937abf8310e947cacdef9aa24b4c9570846765db425bfb20f46bc066c7"
  },
  "kernelspec": {
   "display_name": "Python [conda env:ehrgraphs]",
   "language": "python",
   "name": "conda-env-ehrgraphs-py"
  },
  "language_info": {
   "codemirror_mode": {
    "name": "ipython",
    "version": 3
   },
   "file_extension": ".py",
   "mimetype": "text/x-python",
   "name": "python",
   "nbconvert_exporter": "python",
   "pygments_lexer": "ipython3",
   "version": "3.9.7"
  }
 },
 "nbformat": 4,
 "nbformat_minor": 4
}
