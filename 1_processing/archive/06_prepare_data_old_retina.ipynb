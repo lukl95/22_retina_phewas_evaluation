{
 "cells": [
  {
   "cell_type": "markdown",
   "metadata": {
    "tags": []
   },
   "source": [
    "# Benchmarks"
   ]
  },
  {
   "cell_type": "markdown",
   "metadata": {},
   "source": [
    "## Initialize"
   ]
  },
  {
   "cell_type": "code",
   "execution_count": 2,
   "metadata": {
    "tags": []
   },
   "outputs": [],
   "source": [
    "import os\n",
    "import math\n",
    "import pathlib\n",
    "import numpy as np\n",
    "import pandas as pd\n",
    "import pyarrow as pa\n",
    "import pyarrow.feather as feather\n",
    "from tqdm.auto import tqdm\n",
    "from IPython.display import clear_output\n",
    "\n",
    "import warnings\n",
    "from lifelines.utils import CensoringType\n",
    "from lifelines.utils import concordance_index"
   ]
  },
  {
   "cell_type": "code",
   "execution_count": 4,
   "metadata": {
    "tags": []
   },
   "outputs": [
    {
     "name": "stdout",
     "output_type": "stream",
     "text": [
      "/sc-projects/sc-proj-ukb-cvd\n"
     ]
    },
    {
     "data": {
      "text/plain": [
       "[0, 1, 2, 3, 4, 5, 6, 7, 8, 9, 10, 11, 12, 13, 14, 15, 16, 17, 18, 19, 20, 21]"
      ]
     },
     "execution_count": 4,
     "metadata": {},
     "output_type": "execute_result"
    }
   ],
   "source": [
    "node = !hostname\n",
    "if \"sc\" in node[0]:\n",
    "    base_path = \"/sc-projects/sc-proj-ukb-cvd\"\n",
    "else: \n",
    "    base_path = \"/data/analysis/ag-reils/ag-reils-shared/cardioRS\"\n",
    "print(base_path)\n",
    "\n",
    "project_label = \"22_retina_phewas_220603_fullrun\"\n",
    "project_path = f\"{base_path}/results/projects/{project_label}\"\n",
    "figure_path = f\"{project_path}/figures\"\n",
    "output_path = f\"{project_path}/data\"\n",
    "\n",
    "pathlib.Path(figure_path).mkdir(parents=True, exist_ok=True)\n",
    "pathlib.Path(output_path).mkdir(parents=True, exist_ok=True)\n",
    "\n",
    "##### BEGIN ADAPT #####\n",
    "# second best model\n",
    "# wandb_name = 'aug++_convnext_s_mlp'\n",
    "# wandb_id = '8ngm6apd'\n",
    "# best model\n",
    "# wandb_name = 'aug++_convnext_s_mlp+'\n",
    "# wandb_id = '3p3smraz'\n",
    "# transformer model\n",
    "#wandb_name = '...'\n",
    "#wandb_id = '2af9tvdp'\n",
    "##### END   ADAPT #####\n",
    "\n",
    "experiment = '220603_fullrun'\n",
    "experiment_path = f\"{output_path}/{experiment}\"\n",
    "pathlib.Path(experiment_path).mkdir(parents=True, exist_ok=True)\n",
    "\n",
    "name_dict = {\n",
    "    \"predictions_cropratio0.3\": \"ConvNextSmall(Retina)+MLP_cropratio0.3\",\n",
    "    \"predictions_cropratio0.5\": \"ConvNextSmall(Retina)+MLP_cropratio0.5\",\n",
    "    \"predictions_cropratio0.8\": \"ConvNextSmall(Retina)+MLP_cropratio0.8\",\n",
    "}\n",
    "\n",
    "partitions = [i for i in range(22)]\n",
    "partitions"
   ]
  },
  {
   "cell_type": "code",
   "execution_count": 6,
   "metadata": {
    "tags": []
   },
   "outputs": [
    {
     "data": {
      "text/plain": [
       "RayContext(dashboard_url='', python_version='3.9.7', ray_version='1.12.1', ray_commit='4863e33856b54ccf8add5cbe75e41558850a1b75', address_info={'node_ip_address': '10.32.105.2', 'raylet_ip_address': '10.32.105.2', 'redis_address': None, 'object_store_address': '/tmp/ray/session_2022-06-23_11-20-47_129565_808944/sockets/plasma_store', 'raylet_socket_name': '/tmp/ray/session_2022-06-23_11-20-47_129565_808944/sockets/raylet', 'webui_url': '', 'session_dir': '/tmp/ray/session_2022-06-23_11-20-47_129565_808944', 'metrics_export_port': 48875, 'gcs_address': '10.32.105.2:6379', 'address': '10.32.105.2:6379', 'node_id': 'ce155bbd3fd7e6cf07052b035fb022bb2128648e78bb68e1b26166f2'})"
      ]
     },
     "execution_count": 6,
     "metadata": {},
     "output_type": "execute_result"
    }
   ],
   "source": [
    "import ray\n",
    "#ray.shutdown()\n",
    "#ray.init(num_cpus=24)\n",
    "ray.init(address='auto')"
   ]
  },
  {
   "cell_type": "code",
   "execution_count": 7,
   "metadata": {
    "tags": []
   },
   "outputs": [],
   "source": [
    "import pandas as pd\n",
    "endpoints = sorted([l.replace('_prevalent', '') for l in list(pd.read_csv('/sc-projects/sc-proj-ukb-cvd/results/projects/22_retinal_risk/data/220602/endpoints.csv').endpoint.values)])"
   ]
  },
  {
   "cell_type": "code",
   "execution_count": 8,
   "metadata": {
    "tags": []
   },
   "outputs": [],
   "source": [
    "covariates = [\"age_at_recruitment_f21022_0_0\", \"sex_f31_0_0\",  \"ethnic_background_f21000_0_0\"]"
   ]
  },
  {
   "cell_type": "code",
   "execution_count": 9,
   "metadata": {
    "tags": []
   },
   "outputs": [],
   "source": [
    "data_covariates = pd.read_feather(f\"{experiment_path}/data_covariates.feather\").set_index(\"eid\")[covariates]\\\n",
    "    .assign(age_at_recruitment_f21022_0_0 = lambda x: x.age_at_recruitment_f21022_0_0.astype(np.int32))"
   ]
  },
  {
   "cell_type": "code",
   "execution_count": 10,
   "metadata": {
    "tags": []
   },
   "outputs": [],
   "source": [
    "data_covariates_ray = ray.put(data_covariates)"
   ]
  },
  {
   "cell_type": "code",
   "execution_count": 11,
   "metadata": {
    "tags": []
   },
   "outputs": [
    {
     "data": {
      "text/plain": [
       "1172"
      ]
     },
     "execution_count": 11,
     "metadata": {},
     "output_type": "execute_result"
    }
   ],
   "source": [
    "variables_to_norm = [\"age_at_recruitment_f21022_0_0\"] + endpoints\n",
    "len(variables_to_norm)"
   ]
  },
  {
   "cell_type": "code",
   "execution_count": 12,
   "metadata": {
    "tags": []
   },
   "outputs": [],
   "source": [
    "in_path = pathlib.Path(f\"{experiment_path}/loghs\")\n",
    "in_path.mkdir(parents=True, exist_ok=True)\n",
    "\n",
    "out_path = f\"{experiment_path}/coxph/input\"\n",
    "pathlib.Path(out_path).mkdir(parents=True, exist_ok=True)"
   ]
  },
  {
   "cell_type": "code",
   "execution_count": 13,
   "metadata": {
    "tags": []
   },
   "outputs": [
    {
     "name": "stdout",
     "output_type": "stream",
     "text": [
      "['ImageTraining_[]_ConvNeXt_MLPHead_predictions_cropratio0.3', 'ImageTraining_[]_ConvNeXt_MLPHead_predictions_cropratio0.8', 'ImageTraining_[]_ConvNeXt_MLPHead_predictions_cropratio0.5']\n"
     ]
    }
   ],
   "source": [
    "models = [f.name for f in in_path.iterdir() if f.is_dir() and \"ipynb_checkpoints\" not in str(f)]\n",
    "print(models)"
   ]
  },
  {
   "cell_type": "code",
   "execution_count": 14,
   "metadata": {
    "tags": []
   },
   "outputs": [],
   "source": [
    "from sklearn.preprocessing import StandardScaler\n",
    "import pickle\n",
    "import zstandard\n",
    "import glob, os\n",
    "    \n",
    "def find_retina_eid_intersection():\n",
    "    img_root = '/sc-projects/sc-proj-ukb-cvd/data/retina/preprocessed/preprocessed'\n",
    "    img_visit = 0\n",
    "    img_file_extension = '.png'\n",
    "    eids_with_retinapic = [int(fp.split('/')[-1].split('_')[0]) for fp in sorted( glob.glob(os.path.join(img_root, f'*{img_file_extension}' \n",
    "                           if img_file_extension is not None else '*'))) \n",
    "                           if f'_{img_visit}_' in fp]\n",
    "    len(eids_with_retinapic)\n",
    "    \n",
    "    d = []\n",
    "    for endpoint in tqdm(endpoints):\n",
    "        s = data_outcomes[f\"{endpoint}_event\"].loc[np.intersect1d(eids_dict[endpoint], eids_with_retinapic)]   # .loc[eids_dict[endpoint]]\n",
    "        n = s.sum()\n",
    "        freq = s.mean()\n",
    "        d.append({\"endpoint\": endpoint, \"eligable\":len(np.intersect1d(eids_dict[endpoint], eids_with_retinapic)), \"n\": n, \"freq\": freq})\n",
    "        \n",
    "    endpoints_freqs = pd.DataFrame().from_dict(d)\n",
    "    endpoints_ds = endpoints_freqs.query(\"n>100\").sort_values(\"endpoint\").reset_index(drop=True)\n",
    "\n",
    "    return endpoints_ds # TODO\n",
    "    \n",
    "\n",
    "def read_merge_data(fp_in, split, data_covariates):\n",
    "    temp = pd.read_feather(f\"{fp_in}/{split}.feather\").set_index(\"eid\")\n",
    "    temp = temp.merge(data_covariates, left_index=True, right_index=True, how=\"left\")\n",
    "    return temp   \n",
    "    \n",
    "def save_pickle(data, data_path):\n",
    "    with open(data_path, \"wb\") as fh:\n",
    "        cctx = zstandard.ZstdCompressor()\n",
    "        with cctx.stream_writer(fh) as compressor:\n",
    "            compressor.write(pickle.dumps(data, protocol=pickle.HIGHEST_PROTOCOL))\n",
    "    \n",
    "@ray.remote\n",
    "def norm_variables(data_covariates, model, partition, variables):\n",
    "\n",
    "    fp_in = f\"{in_path}/{model}/{partition}\"\n",
    "    fp_out = f\"{out_path}/{model}/{partition}\"\n",
    "    \n",
    "    if pathlib.Path(fp_in).is_dir():\n",
    "        if not pathlib.Path(fp_out).is_dir():\n",
    "            pathlib.Path(fp_out).mkdir(parents=True, exist_ok=True)\n",
    "            for split in [\"train\", \"valid\", 'test']: # \"test_left\", 'test_right'\n",
    "                temp = read_merge_data(fp_in, split, data_covariates)\n",
    "                if split==\"train\": \n",
    "                    scaler = StandardScaler(with_mean=True, with_std=True, copy=True).fit(temp[variables].values)\n",
    "                    save_pickle(scaler, f\"{fp_out}/scaler.p\")\n",
    "                temp[variables] = scaler.transform(temp[variables].values)\n",
    "                temp.reset_index(drop=False).to_feather(f\"{fp_out}/{split}.feather\")\n",
    "    return True"
   ]
  },
  {
   "cell_type": "raw",
   "metadata": {
    "tags": []
   },
   "source": [
    "norm_variables(data_covariates, models[0], 0, variables_to_norm)"
   ]
  },
  {
   "cell_type": "code",
   "execution_count": 15,
   "metadata": {
    "tags": []
   },
   "outputs": [],
   "source": [
    "def norm_logh_and_extra(data_covariates_ray, variables):\n",
    "    progress = []\n",
    "    for model in tqdm(models):\n",
    "        for partition in [p for p in partitions]: \n",
    "            progress.append(norm_variables.remote(data_covariates, model, partition, variables))\n",
    "    [ray.get(s) for s in tqdm(progress)]"
   ]
  },
  {
   "cell_type": "code",
   "execution_count": 16,
   "metadata": {
    "tags": []
   },
   "outputs": [
    {
     "data": {
      "application/vnd.jupyter.widget-view+json": {
       "model_id": "a01f484d861a4cb4b1f772aba2190da0",
       "version_major": 2,
       "version_minor": 0
      },
      "text/plain": [
       "  0%|          | 0/3 [00:00<?, ?it/s]"
      ]
     },
     "metadata": {},
     "output_type": "display_data"
    },
    {
     "data": {
      "application/vnd.jupyter.widget-view+json": {
       "model_id": "d7e89585f2f1438ba8ed887fbf6d7b2c",
       "version_major": 2,
       "version_minor": 0
      },
      "text/plain": [
       "  0%|          | 0/66 [00:00<?, ?it/s]"
      ]
     },
     "metadata": {},
     "output_type": "display_data"
    },
    {
     "name": "stdout",
     "output_type": "stream",
     "text": [
      "\u001b[2m\u001b[1m\u001b[36m(scheduler +1m0s)\u001b[0m Tip: use `ray status` to view detailed cluster status. To disable these messages, set RAY_SCHEDULER_EVENTS=0.\n",
      "\u001b[2m\u001b[1m\u001b[33m(scheduler +1m0s)\u001b[0m Warning: The following resource request cannot be scheduled right now: {'CPU': 1.0}. This is likely due to all cluster resources being claimed by actors. Consider creating fewer actors or adding more nodes to this Ray cluster.\n"
     ]
    }
   ],
   "source": [
    "norm_logh_and_extra(data_covariates_ray, variables_to_norm)"
   ]
  },
  {
   "cell_type": "code",
   "execution_count": 17,
   "metadata": {},
   "outputs": [
    {
     "data": {
      "text/plain": [
       "2"
      ]
     },
     "execution_count": 17,
     "metadata": {},
     "output_type": "execute_result"
    }
   ],
   "source": [
    "1+1"
   ]
  },
  {
   "cell_type": "code",
   "execution_count": null,
   "metadata": {},
   "outputs": [],
   "source": []
  }
 ],
 "metadata": {
  "kernelspec": {
   "display_name": "Python 3 (ipykernel)",
   "language": "python",
   "name": "python3"
  },
  "language_info": {
   "codemirror_mode": {
    "name": "ipython",
    "version": 3
   },
   "file_extension": ".py",
   "mimetype": "text/x-python",
   "name": "python",
   "nbconvert_exporter": "python",
   "pygments_lexer": "ipython3",
   "version": "3.9.7"
  },
  "toc-autonumbering": false
 },
 "nbformat": 4,
 "nbformat_minor": 4
}
