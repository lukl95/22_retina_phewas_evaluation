{
 "cells": [
  {
   "cell_type": "code",
   "execution_count": 1,
   "metadata": {
    "execution": {
     "iopub.execute_input": "2022-04-12T13:08:08.524676Z",
     "iopub.status.busy": "2022-04-12T13:08:08.524423Z",
     "iopub.status.idle": "2022-04-12T13:08:14.521485Z",
     "shell.execute_reply": "2022-04-12T13:08:14.520874Z",
     "shell.execute_reply.started": "2022-04-12T13:08:08.524621Z"
    },
    "tags": []
   },
   "outputs": [],
   "source": [
    "import pandas as pd\n",
    "import numpy as np\n",
    "import pathlib\n",
    "from tqdm.auto import tqdm\n",
    "\n",
    "import hydra\n",
    "from omegaconf import DictConfig, OmegaConf\n",
    "\n",
    "import torch\n",
    "from torch_geometric import seed_everything\n",
    "\n",
    "import ray"
   ]
  },
  {
   "cell_type": "code",
   "execution_count": 2,
   "metadata": {
    "execution": {
     "iopub.execute_input": "2022-04-12T13:08:15.173056Z",
     "iopub.status.busy": "2022-04-12T13:08:15.172547Z",
     "iopub.status.idle": "2022-04-12T13:08:15.228109Z",
     "shell.execute_reply": "2022-04-12T13:08:15.227670Z",
     "shell.execute_reply.started": "2022-04-12T13:08:15.173032Z"
    },
    "tags": []
   },
   "outputs": [
    {
     "name": "stdout",
     "output_type": "stream",
     "text": [
      "/sc-projects/sc-proj-ukb-cvd\n"
     ]
    }
   ],
   "source": [
    "node = !hostname\n",
    "if \"sc\" in node[0]:\n",
    "    base_path = \"/sc-projects/sc-proj-ukb-cvd\"\n",
    "else: \n",
    "    base_path = \"/data/analysis/ag-reils/ag-reils-shared/cardioRS\"\n",
    "print(base_path)\n",
    "\n",
    "project_label = \"22_medical_records\"\n",
    "project_path = f\"{base_path}/results/projects/{project_label}\"\n",
    "figure_path = f\"{project_path}/figures\"\n",
    "output_path = f\"{project_path}/data\"\n",
    "\n",
    "pathlib.Path(figure_path).mkdir(parents=True, exist_ok=True)\n",
    "pathlib.Path(output_path).mkdir(parents=True, exist_ok=True)"
   ]
  },
  {
   "cell_type": "code",
   "execution_count": 3,
   "metadata": {
    "execution": {
     "iopub.execute_input": "2022-04-12T13:08:15.438510Z",
     "iopub.status.busy": "2022-04-12T13:08:15.438250Z",
     "iopub.status.idle": "2022-04-12T13:09:14.176843Z",
     "shell.execute_reply": "2022-04-12T13:09:14.176145Z",
     "shell.execute_reply.started": "2022-04-12T13:08:15.438487Z"
    },
    "tags": []
   },
   "outputs": [],
   "source": [
    "records = pd.read_feather(f\"{output_path}/baseline_records_220412.feather\").set_index(\"eid\")"
   ]
  },
  {
   "cell_type": "code",
   "execution_count": 4,
   "metadata": {
    "execution": {
     "iopub.execute_input": "2022-04-12T13:09:14.178580Z",
     "iopub.status.busy": "2022-04-12T13:09:14.178151Z",
     "iopub.status.idle": "2022-04-12T13:09:16.832922Z",
     "shell.execute_reply": "2022-04-12T13:09:16.832196Z",
     "shell.execute_reply.started": "2022-04-12T13:09:14.178558Z"
    },
    "tags": []
   },
   "outputs": [
    {
     "name": "stdout",
     "output_type": "stream",
     "text": [
      "<class 'pandas.core.frame.DataFrame'>\n",
      "Int64Index: 502460 entries, 1000018 to 6025198\n",
      "Columns: 68527 entries, OMOP_1000560 to OMOP_998415\n",
      "dtypes: bool(68527)\n",
      "memory usage: 32.1 GB\n"
     ]
    }
   ],
   "source": [
    "records.info()"
   ]
  },
  {
   "cell_type": "code",
   "execution_count": 5,
   "metadata": {
    "execution": {
     "iopub.execute_input": "2022-04-12T13:09:16.834067Z",
     "iopub.status.busy": "2022-04-12T13:09:16.833933Z",
     "iopub.status.idle": "2022-04-12T13:09:38.854891Z",
     "shell.execute_reply": "2022-04-12T13:09:38.854377Z",
     "shell.execute_reply.started": "2022-04-12T13:09:16.834050Z"
    },
    "tags": []
   },
   "outputs": [
    {
     "data": {
      "text/html": [
       "<div>\n",
       "<style scoped>\n",
       "    .dataframe tbody tr th:only-of-type {\n",
       "        vertical-align: middle;\n",
       "    }\n",
       "\n",
       "    .dataframe tbody tr th {\n",
       "        vertical-align: top;\n",
       "    }\n",
       "\n",
       "    .dataframe thead th {\n",
       "        text-align: right;\n",
       "    }\n",
       "</style>\n",
       "<table border=\"1\" class=\"dataframe\">\n",
       "  <thead>\n",
       "    <tr style=\"text-align: right;\">\n",
       "      <th></th>\n",
       "      <th>n</th>\n",
       "    </tr>\n",
       "    <tr>\n",
       "      <th>record</th>\n",
       "      <th></th>\n",
       "    </tr>\n",
       "  </thead>\n",
       "  <tbody>\n",
       "    <tr>\n",
       "      <th>OMOP_4081598</th>\n",
       "      <td>309295</td>\n",
       "    </tr>\n",
       "    <tr>\n",
       "      <th>OMOP_4052351</th>\n",
       "      <td>271672</td>\n",
       "    </tr>\n",
       "    <tr>\n",
       "      <th>OMOP_4061103</th>\n",
       "      <td>264875</td>\n",
       "    </tr>\n",
       "    <tr>\n",
       "      <th>OMOP_4144272</th>\n",
       "      <td>247882</td>\n",
       "    </tr>\n",
       "    <tr>\n",
       "      <th>OMOP_4057411</th>\n",
       "      <td>222759</td>\n",
       "    </tr>\n",
       "    <tr>\n",
       "      <th>...</th>\n",
       "      <td>...</td>\n",
       "    </tr>\n",
       "    <tr>\n",
       "      <th>OMOP_4125272</th>\n",
       "      <td>0</td>\n",
       "    </tr>\n",
       "    <tr>\n",
       "      <th>OMOP_4236239</th>\n",
       "      <td>0</td>\n",
       "    </tr>\n",
       "    <tr>\n",
       "      <th>OMOP_4236199</th>\n",
       "      <td>0</td>\n",
       "    </tr>\n",
       "    <tr>\n",
       "      <th>OMOP_4236188</th>\n",
       "      <td>0</td>\n",
       "    </tr>\n",
       "    <tr>\n",
       "      <th>OMOP_4107275</th>\n",
       "      <td>0</td>\n",
       "    </tr>\n",
       "  </tbody>\n",
       "</table>\n",
       "<p>68527 rows × 1 columns</p>\n",
       "</div>"
      ],
      "text/plain": [
       "                   n\n",
       "record              \n",
       "OMOP_4081598  309295\n",
       "OMOP_4052351  271672\n",
       "OMOP_4061103  264875\n",
       "OMOP_4144272  247882\n",
       "OMOP_4057411  222759\n",
       "...              ...\n",
       "OMOP_4125272       0\n",
       "OMOP_4236239       0\n",
       "OMOP_4236199       0\n",
       "OMOP_4236188       0\n",
       "OMOP_4107275       0\n",
       "\n",
       "[68527 rows x 1 columns]"
      ]
     },
     "execution_count": 5,
     "metadata": {},
     "output_type": "execute_result"
    }
   ],
   "source": [
    "records_freq = records.sum(axis=0).sort_values(ascending=False).to_frame().reset_index()\n",
    "records_freq.columns = [\"record\", \"n\"]\n",
    "records_freq = records_freq.set_index(\"record\")\n",
    "records_freq"
   ]
  },
  {
   "cell_type": "code",
   "execution_count": 6,
   "metadata": {
    "execution": {
     "iopub.execute_input": "2022-04-12T13:09:38.856572Z",
     "iopub.status.busy": "2022-04-12T13:09:38.856080Z",
     "iopub.status.idle": "2022-04-12T13:09:52.716082Z",
     "shell.execute_reply": "2022-04-12T13:09:52.715526Z",
     "shell.execute_reply.started": "2022-04-12T13:09:38.856548Z"
    },
    "tags": []
   },
   "outputs": [
    {
     "name": "stderr",
     "output_type": "stream",
     "text": [
      "/home/steinfej/miniconda3/envs/ehrgraphs/lib/python3.9/site-packages/IPython/core/interactiveshell.py:3457: DtypeWarning: Columns (5,6,9) have mixed types.Specify dtype option on import or set low_memory=False.\n",
      "  exec(code_obj, self.user_global_ns, self.user_ns)\n"
     ]
    }
   ],
   "source": [
    "concepts_raw = pd.read_csv(\"/sc-projects/sc-proj-ukb-cvd/data/mapping/athena/CONCEPT.csv\", sep=\"\\t\", engine=\"c\", dtype={\"concept_id\": str})\n",
    "concepts_raw[\"record\"] = \"OMOP_\" + concepts_raw[\"concept_id\"]\n",
    "concept_raw = concepts_raw.set_index(\"record\")"
   ]
  },
  {
   "cell_type": "code",
   "execution_count": 7,
   "metadata": {
    "execution": {
     "iopub.execute_input": "2022-04-12T13:09:52.717472Z",
     "iopub.status.busy": "2022-04-12T13:09:52.717112Z",
     "iopub.status.idle": "2022-04-12T13:09:57.644544Z",
     "shell.execute_reply": "2022-04-12T13:09:57.644078Z",
     "shell.execute_reply.started": "2022-04-12T13:09:52.717447Z"
    },
    "tags": []
   },
   "outputs": [],
   "source": [
    "records_freq_md = records_freq.merge(concept_raw, left_index=True, right_index=True, how=\"left\")"
   ]
  },
  {
   "cell_type": "code",
   "execution_count": 17,
   "metadata": {
    "execution": {
     "iopub.execute_input": "2022-04-12T13:11:35.242616Z",
     "iopub.status.busy": "2022-04-12T13:11:35.242451Z",
     "iopub.status.idle": "2022-04-12T13:11:35.251364Z",
     "shell.execute_reply": "2022-04-12T13:11:35.251110Z",
     "shell.execute_reply.started": "2022-04-12T13:11:35.242600Z"
    },
    "tags": []
   },
   "outputs": [
    {
     "data": {
      "text/plain": [
       "(3711, 11)"
      ]
     },
     "execution_count": 17,
     "metadata": {},
     "output_type": "execute_result"
    }
   ],
   "source": [
    "records_freq_md.query(\"n>1000\").shape"
   ]
  },
  {
   "cell_type": "code",
   "execution_count": 16,
   "metadata": {
    "execution": {
     "iopub.execute_input": "2022-04-12T13:11:30.931421Z",
     "iopub.status.busy": "2022-04-12T13:11:30.931219Z",
     "iopub.status.idle": "2022-04-12T13:11:30.940545Z",
     "shell.execute_reply": "2022-04-12T13:11:30.940187Z",
     "shell.execute_reply.started": "2022-04-12T13:11:30.931401Z"
    },
    "tags": []
   },
   "outputs": [
    {
     "data": {
      "text/plain": [
       "(11762, 11)"
      ]
     },
     "execution_count": 16,
     "metadata": {},
     "output_type": "execute_result"
    }
   ],
   "source": [
    "records_freq_md.query(\"n>100\").shape"
   ]
  },
  {
   "cell_type": "code",
   "execution_count": 15,
   "metadata": {
    "execution": {
     "iopub.execute_input": "2022-04-12T13:11:27.538043Z",
     "iopub.status.busy": "2022-04-12T13:11:27.537877Z",
     "iopub.status.idle": "2022-04-12T13:11:27.547280Z",
     "shell.execute_reply": "2022-04-12T13:11:27.546979Z",
     "shell.execute_reply.started": "2022-04-12T13:11:27.538026Z"
    },
    "tags": []
   },
   "outputs": [
    {
     "data": {
      "text/plain": [
       "(15190, 11)"
      ]
     },
     "execution_count": 15,
     "metadata": {},
     "output_type": "execute_result"
    }
   ],
   "source": [
    "records_freq_md.query(\"n>50\").shape"
   ]
  },
  {
   "cell_type": "code",
   "execution_count": 14,
   "metadata": {
    "execution": {
     "iopub.execute_input": "2022-04-12T13:11:24.026865Z",
     "iopub.status.busy": "2022-04-12T13:11:24.026678Z",
     "iopub.status.idle": "2022-04-12T13:11:24.037160Z",
     "shell.execute_reply": "2022-04-12T13:11:24.036850Z",
     "shell.execute_reply.started": "2022-04-12T13:11:24.026847Z"
    },
    "tags": []
   },
   "outputs": [
    {
     "data": {
      "text/plain": [
       "(19122, 11)"
      ]
     },
     "execution_count": 14,
     "metadata": {},
     "output_type": "execute_result"
    }
   ],
   "source": [
    "records_freq_md.query(\"n>25\").shape"
   ]
  },
  {
   "cell_type": "code",
   "execution_count": 18,
   "metadata": {
    "execution": {
     "iopub.execute_input": "2022-04-12T13:11:42.386041Z",
     "iopub.status.busy": "2022-04-12T13:11:42.385784Z",
     "iopub.status.idle": "2022-04-12T13:11:42.397200Z",
     "shell.execute_reply": "2022-04-12T13:11:42.396892Z",
     "shell.execute_reply.started": "2022-04-12T13:11:42.386022Z"
    },
    "tags": []
   },
   "outputs": [
    {
     "data": {
      "text/plain": [
       "(25132, 11)"
      ]
     },
     "execution_count": 18,
     "metadata": {},
     "output_type": "execute_result"
    }
   ],
   "source": [
    "records_freq_md.query(\"n>10\").shape"
   ]
  },
  {
   "cell_type": "code",
   "execution_count": 19,
   "metadata": {
    "execution": {
     "iopub.execute_input": "2022-04-12T13:13:08.293645Z",
     "iopub.status.busy": "2022-04-12T13:13:08.293386Z",
     "iopub.status.idle": "2022-04-12T13:13:08.305015Z",
     "shell.execute_reply": "2022-04-12T13:13:08.304711Z",
     "shell.execute_reply.started": "2022-04-12T13:13:08.293627Z"
    },
    "tags": []
   },
   "outputs": [
    {
     "data": {
      "text/plain": [
       "(30023, 11)"
      ]
     },
     "execution_count": 19,
     "metadata": {},
     "output_type": "execute_result"
    }
   ],
   "source": [
    "records_freq_md.query(\"n>5\").shape"
   ]
  },
  {
   "cell_type": "code",
   "execution_count": null,
   "metadata": {},
   "outputs": [],
   "source": [
    "records_freq_md"
   ]
  },
  {
   "cell_type": "code",
   "execution_count": 22,
   "metadata": {
    "execution": {
     "iopub.execute_input": "2022-04-12T13:15:28.743184Z",
     "iopub.status.busy": "2022-04-12T13:15:28.742907Z",
     "iopub.status.idle": "2022-04-12T13:15:28.755738Z",
     "shell.execute_reply": "2022-04-12T13:15:28.755469Z",
     "shell.execute_reply.started": "2022-04-12T13:15:28.743161Z"
    },
    "tags": []
   },
   "outputs": [
    {
     "data": {
      "text/html": [
       "<div>\n",
       "<style scoped>\n",
       "    .dataframe tbody tr th:only-of-type {\n",
       "        vertical-align: middle;\n",
       "    }\n",
       "\n",
       "    .dataframe tbody tr th {\n",
       "        vertical-align: top;\n",
       "    }\n",
       "\n",
       "    .dataframe thead th {\n",
       "        text-align: right;\n",
       "    }\n",
       "</style>\n",
       "<table border=\"1\" class=\"dataframe\">\n",
       "  <thead>\n",
       "    <tr style=\"text-align: right;\">\n",
       "      <th></th>\n",
       "      <th>n</th>\n",
       "      <th>concept_id</th>\n",
       "      <th>concept_name</th>\n",
       "      <th>domain_id</th>\n",
       "      <th>vocabulary_id</th>\n",
       "      <th>concept_class_id</th>\n",
       "      <th>standard_concept</th>\n",
       "      <th>concept_code</th>\n",
       "      <th>valid_start_date</th>\n",
       "      <th>valid_end_date</th>\n",
       "      <th>invalid_reason</th>\n",
       "    </tr>\n",
       "    <tr>\n",
       "      <th>record</th>\n",
       "      <th></th>\n",
       "      <th></th>\n",
       "      <th></th>\n",
       "      <th></th>\n",
       "      <th></th>\n",
       "      <th></th>\n",
       "      <th></th>\n",
       "      <th></th>\n",
       "      <th></th>\n",
       "      <th></th>\n",
       "      <th></th>\n",
       "    </tr>\n",
       "  </thead>\n",
       "  <tbody>\n",
       "    <tr>\n",
       "      <th>OMOP_4081598</th>\n",
       "      <td>309295</td>\n",
       "      <td>4081598</td>\n",
       "      <td>Notes summary on computer</td>\n",
       "      <td>Observation</td>\n",
       "      <td>SNOMED</td>\n",
       "      <td>Clinical Finding</td>\n",
       "      <td>S</td>\n",
       "      <td>184229000</td>\n",
       "      <td>20020131</td>\n",
       "      <td>20991231</td>\n",
       "      <td>NaN</td>\n",
       "    </tr>\n",
       "    <tr>\n",
       "      <th>OMOP_4052351</th>\n",
       "      <td>271672</td>\n",
       "      <td>4052351</td>\n",
       "      <td>Alcohol intake</td>\n",
       "      <td>Observation</td>\n",
       "      <td>SNOMED</td>\n",
       "      <td>Observable Entity</td>\n",
       "      <td>S</td>\n",
       "      <td>160573003</td>\n",
       "      <td>20020131</td>\n",
       "      <td>20991231</td>\n",
       "      <td>NaN</td>\n",
       "    </tr>\n",
       "    <tr>\n",
       "      <th>OMOP_4061103</th>\n",
       "      <td>264875</td>\n",
       "      <td>4061103</td>\n",
       "      <td>O/E - blood pressure reading</td>\n",
       "      <td>Condition</td>\n",
       "      <td>SNOMED</td>\n",
       "      <td>Clinical Finding</td>\n",
       "      <td>S</td>\n",
       "      <td>163020007</td>\n",
       "      <td>20020131</td>\n",
       "      <td>20991231</td>\n",
       "      <td>NaN</td>\n",
       "    </tr>\n",
       "    <tr>\n",
       "      <th>OMOP_4144272</th>\n",
       "      <td>247882</td>\n",
       "      <td>4144272</td>\n",
       "      <td>Never smoked tobacco</td>\n",
       "      <td>Observation</td>\n",
       "      <td>SNOMED</td>\n",
       "      <td>Clinical Finding</td>\n",
       "      <td>S</td>\n",
       "      <td>266919005</td>\n",
       "      <td>20020131</td>\n",
       "      <td>20991231</td>\n",
       "      <td>NaN</td>\n",
       "    </tr>\n",
       "    <tr>\n",
       "      <th>OMOP_4057411</th>\n",
       "      <td>222759</td>\n",
       "      <td>4057411</td>\n",
       "      <td>Review of medication</td>\n",
       "      <td>Procedure</td>\n",
       "      <td>SNOMED</td>\n",
       "      <td>Procedure</td>\n",
       "      <td>S</td>\n",
       "      <td>182836005</td>\n",
       "      <td>20020131</td>\n",
       "      <td>20991231</td>\n",
       "      <td>NaN</td>\n",
       "    </tr>\n",
       "    <tr>\n",
       "      <th>...</th>\n",
       "      <td>...</td>\n",
       "      <td>...</td>\n",
       "      <td>...</td>\n",
       "      <td>...</td>\n",
       "      <td>...</td>\n",
       "      <td>...</td>\n",
       "      <td>...</td>\n",
       "      <td>...</td>\n",
       "      <td>...</td>\n",
       "      <td>...</td>\n",
       "      <td>...</td>\n",
       "    </tr>\n",
       "    <tr>\n",
       "      <th>OMOP_4125272</th>\n",
       "      <td>0</td>\n",
       "      <td>4125272</td>\n",
       "      <td>Able to swallow</td>\n",
       "      <td>Observation</td>\n",
       "      <td>SNOMED</td>\n",
       "      <td>Clinical Finding</td>\n",
       "      <td>S</td>\n",
       "      <td>288936000</td>\n",
       "      <td>20020131</td>\n",
       "      <td>20991231</td>\n",
       "      <td>NaN</td>\n",
       "    </tr>\n",
       "    <tr>\n",
       "      <th>OMOP_4236239</th>\n",
       "      <td>0</td>\n",
       "      <td>4236239</td>\n",
       "      <td>Functional defects of methionine synthase</td>\n",
       "      <td>Condition</td>\n",
       "      <td>SNOMED</td>\n",
       "      <td>Clinical Finding</td>\n",
       "      <td>S</td>\n",
       "      <td>360376008</td>\n",
       "      <td>20020131</td>\n",
       "      <td>20991231</td>\n",
       "      <td>NaN</td>\n",
       "    </tr>\n",
       "    <tr>\n",
       "      <th>OMOP_4236199</th>\n",
       "      <td>0</td>\n",
       "      <td>4236199</td>\n",
       "      <td>Tends not to be sociable</td>\n",
       "      <td>Condition</td>\n",
       "      <td>SNOMED</td>\n",
       "      <td>Clinical Finding</td>\n",
       "      <td>S</td>\n",
       "      <td>90716005</td>\n",
       "      <td>20020131</td>\n",
       "      <td>20991231</td>\n",
       "      <td>NaN</td>\n",
       "    </tr>\n",
       "    <tr>\n",
       "      <th>OMOP_4236188</th>\n",
       "      <td>0</td>\n",
       "      <td>4236188</td>\n",
       "      <td>Coronavirus vaccination</td>\n",
       "      <td>Procedure</td>\n",
       "      <td>SNOMED</td>\n",
       "      <td>Procedure</td>\n",
       "      <td>S</td>\n",
       "      <td>90640007</td>\n",
       "      <td>20020131</td>\n",
       "      <td>20991231</td>\n",
       "      <td>NaN</td>\n",
       "    </tr>\n",
       "    <tr>\n",
       "      <th>OMOP_4107275</th>\n",
       "      <td>0</td>\n",
       "      <td>4107275</td>\n",
       "      <td>Revision arthroscopic ligament repair</td>\n",
       "      <td>Procedure</td>\n",
       "      <td>SNOMED</td>\n",
       "      <td>Procedure</td>\n",
       "      <td>S</td>\n",
       "      <td>179880002</td>\n",
       "      <td>20020131</td>\n",
       "      <td>20991231</td>\n",
       "      <td>NaN</td>\n",
       "    </tr>\n",
       "  </tbody>\n",
       "</table>\n",
       "<p>68527 rows × 11 columns</p>\n",
       "</div>"
      ],
      "text/plain": [
       "                   n concept_id                               concept_name  \\\n",
       "record                                                                       \n",
       "OMOP_4081598  309295    4081598                  Notes summary on computer   \n",
       "OMOP_4052351  271672    4052351                             Alcohol intake   \n",
       "OMOP_4061103  264875    4061103               O/E - blood pressure reading   \n",
       "OMOP_4144272  247882    4144272                       Never smoked tobacco   \n",
       "OMOP_4057411  222759    4057411                       Review of medication   \n",
       "...              ...        ...                                        ...   \n",
       "OMOP_4125272       0    4125272                            Able to swallow   \n",
       "OMOP_4236239       0    4236239  Functional defects of methionine synthase   \n",
       "OMOP_4236199       0    4236199                   Tends not to be sociable   \n",
       "OMOP_4236188       0    4236188                    Coronavirus vaccination   \n",
       "OMOP_4107275       0    4107275      Revision arthroscopic ligament repair   \n",
       "\n",
       "                domain_id vocabulary_id   concept_class_id standard_concept  \\\n",
       "record                                                                        \n",
       "OMOP_4081598  Observation        SNOMED   Clinical Finding                S   \n",
       "OMOP_4052351  Observation        SNOMED  Observable Entity                S   \n",
       "OMOP_4061103    Condition        SNOMED   Clinical Finding                S   \n",
       "OMOP_4144272  Observation        SNOMED   Clinical Finding                S   \n",
       "OMOP_4057411    Procedure        SNOMED          Procedure                S   \n",
       "...                   ...           ...                ...              ...   \n",
       "OMOP_4125272  Observation        SNOMED   Clinical Finding                S   \n",
       "OMOP_4236239    Condition        SNOMED   Clinical Finding                S   \n",
       "OMOP_4236199    Condition        SNOMED   Clinical Finding                S   \n",
       "OMOP_4236188    Procedure        SNOMED          Procedure                S   \n",
       "OMOP_4107275    Procedure        SNOMED          Procedure                S   \n",
       "\n",
       "             concept_code  valid_start_date  valid_end_date invalid_reason  \n",
       "record                                                                      \n",
       "OMOP_4081598    184229000          20020131        20991231            NaN  \n",
       "OMOP_4052351    160573003          20020131        20991231            NaN  \n",
       "OMOP_4061103    163020007          20020131        20991231            NaN  \n",
       "OMOP_4144272    266919005          20020131        20991231            NaN  \n",
       "OMOP_4057411    182836005          20020131        20991231            NaN  \n",
       "...                   ...               ...             ...            ...  \n",
       "OMOP_4125272    288936000          20020131        20991231            NaN  \n",
       "OMOP_4236239    360376008          20020131        20991231            NaN  \n",
       "OMOP_4236199     90716005          20020131        20991231            NaN  \n",
       "OMOP_4236188     90640007          20020131        20991231            NaN  \n",
       "OMOP_4107275    179880002          20020131        20991231            NaN  \n",
       "\n",
       "[68527 rows x 11 columns]"
      ]
     },
     "execution_count": 22,
     "metadata": {},
     "output_type": "execute_result"
    }
   ],
   "source": [
    "records_freq_md"
   ]
  },
  {
   "cell_type": "code",
   "execution_count": 27,
   "metadata": {
    "execution": {
     "iopub.execute_input": "2022-04-12T13:19:42.795851Z",
     "iopub.status.busy": "2022-04-12T13:19:42.795655Z",
     "iopub.status.idle": "2022-04-12T13:19:42.798424Z",
     "shell.execute_reply": "2022-04-12T13:19:42.798134Z",
     "shell.execute_reply.started": "2022-04-12T13:19:42.795830Z"
    },
    "tags": []
   },
   "outputs": [],
   "source": [
    "artifact_path = \"/sc-projects/sc-proj-ukb-cvd/data/2_datasets_pre/211110_anewbeginning/artifacts/record_frequencies_220412.feather\""
   ]
  },
  {
   "cell_type": "code",
   "execution_count": 28,
   "metadata": {
    "execution": {
     "iopub.execute_input": "2022-04-12T13:19:43.011255Z",
     "iopub.status.busy": "2022-04-12T13:19:43.011044Z",
     "iopub.status.idle": "2022-04-12T13:19:43.152538Z",
     "shell.execute_reply": "2022-04-12T13:19:43.152085Z",
     "shell.execute_reply.started": "2022-04-12T13:19:43.011242Z"
    },
    "tags": []
   },
   "outputs": [],
   "source": [
    "records_freq_md.reset_index()[[\"record\", \"n\", \"concept_id\", \"concept_name\", \"domain_id\", \"vocabulary_id\", \"concept_class_id\", \"standard_concept\"]].to_feather(artifact_path)"
   ]
  },
  {
   "cell_type": "code",
   "execution_count": 29,
   "metadata": {
    "execution": {
     "iopub.execute_input": "2022-04-12T13:19:44.451094Z",
     "iopub.status.busy": "2022-04-12T13:19:44.450931Z",
     "iopub.status.idle": "2022-04-12T13:20:03.261442Z",
     "shell.execute_reply": "2022-04-12T13:20:03.261118Z",
     "shell.execute_reply.started": "2022-04-12T13:19:44.451078Z"
    },
    "tags": []
   },
   "outputs": [
    {
     "name": "stderr",
     "output_type": "stream",
     "text": [
      "\u001b[34m\u001b[1mwandb\u001b[0m: wandb version 0.12.14 is available!  To upgrade, please run:\n",
      "\u001b[34m\u001b[1mwandb\u001b[0m:  $ pip install wandb --upgrade\n"
     ]
    },
    {
     "data": {
      "text/html": [
       "\n",
       "                    Syncing run <strong><a href=\"https://wandb.ai/cardiors/RecordGraphs/runs/1g55pg3f\" target=\"_blank\">fiery-water-725</a></strong> to <a href=\"https://wandb.ai/cardiors/RecordGraphs\" target=\"_blank\">Weights & Biases</a> (<a href=\"https://docs.wandb.com/integrations/jupyter.html\" target=\"_blank\">docs</a>).<br/>\n",
       "\n",
       "                "
      ],
      "text/plain": [
       "<IPython.core.display.HTML object>"
      ]
     },
     "metadata": {},
     "output_type": "display_data"
    },
    {
     "data": {
      "text/html": [
       "<br/>Waiting for W&B process to finish, PID 668434... <strong style=\"color:green\">(success).</strong>"
      ],
      "text/plain": [
       "<IPython.core.display.HTML object>"
      ]
     },
     "metadata": {},
     "output_type": "display_data"
    },
    {
     "data": {
      "application/vnd.jupyter.widget-view+json": {
       "model_id": "",
       "version_major": 2,
       "version_minor": 0
      },
      "text/plain": [
       "VBox(children=(Label(value=' 0.00MB of 0.00MB uploaded (0.00MB deduped)\\r'), FloatProgress(value=1.0, max=1.0)…"
      ]
     },
     "metadata": {},
     "output_type": "display_data"
    },
    {
     "data": {
      "text/html": [
       "<style>\n",
       "    table.wandb td:nth-child(1) { padding: 0 10px; text-align: right }\n",
       "    .wandb-row { display: flex; flex-direction: row; flex-wrap: wrap; width: 100% }\n",
       "    .wandb-col { display: flex; flex-direction: column; flex-basis: 100%; flex: 1; padding: 10px; }\n",
       "    </style>\n",
       "<div class=\"wandb-row\"><div class=\"wandb-col\">\n",
       "</div><div class=\"wandb-col\">\n",
       "</div></div>\n",
       "Synced 6 W&B file(s), 0 media file(s), 0 artifact file(s) and 1 other file(s)\n",
       "<br/>Synced <strong style=\"color:#cdcd00\">fiery-water-725</strong>: <a href=\"https://wandb.ai/cardiors/RecordGraphs/runs/1g55pg3f\" target=\"_blank\">https://wandb.ai/cardiors/RecordGraphs/runs/1g55pg3f</a><br/>\n",
       "Find logs at: <code>./wandb/run-20220412_151944-1g55pg3f/logs</code><br/>\n"
      ],
      "text/plain": [
       "<IPython.core.display.HTML object>"
      ]
     },
     "metadata": {},
     "output_type": "display_data"
    }
   ],
   "source": [
    "import wandb\n",
    "\n",
    "run = wandb.init(project=\"RecordGraphs\", entity=\"cardiors\", tags=[\"artifacts\"])\n",
    "\n",
    "artifact = wandb.Artifact(\"RecordFrequencies\", type=\"prepare_records\")\n",
    "artifact.add_reference(f\"file://{artifact_path}\", \"RecordsMetadata\", checksum=True)\n",
    "run.log_artifact(artifact)\n",
    "\n",
    "run.finish()"
   ]
  },
  {
   "cell_type": "code",
   "execution_count": 30,
   "metadata": {
    "execution": {
     "iopub.execute_input": "2022-04-12T13:20:03.262536Z",
     "iopub.status.busy": "2022-04-12T13:20:03.262378Z",
     "iopub.status.idle": "2022-04-12T13:20:03.300338Z",
     "shell.execute_reply": "2022-04-12T13:20:03.300033Z",
     "shell.execute_reply.started": "2022-04-12T13:20:03.262520Z"
    }
   },
   "outputs": [
    {
     "data": {
      "text/html": [
       "<div>\n",
       "<style scoped>\n",
       "    .dataframe tbody tr th:only-of-type {\n",
       "        vertical-align: middle;\n",
       "    }\n",
       "\n",
       "    .dataframe tbody tr th {\n",
       "        vertical-align: top;\n",
       "    }\n",
       "\n",
       "    .dataframe thead th {\n",
       "        text-align: right;\n",
       "    }\n",
       "</style>\n",
       "<table border=\"1\" class=\"dataframe\">\n",
       "  <thead>\n",
       "    <tr style=\"text-align: right;\">\n",
       "      <th></th>\n",
       "      <th>record</th>\n",
       "      <th>n</th>\n",
       "      <th>concept_id</th>\n",
       "      <th>concept_name</th>\n",
       "      <th>domain_id</th>\n",
       "      <th>vocabulary_id</th>\n",
       "      <th>concept_class_id</th>\n",
       "      <th>standard_concept</th>\n",
       "      <th>concept_code</th>\n",
       "      <th>valid_start_date</th>\n",
       "      <th>valid_end_date</th>\n",
       "      <th>invalid_reason</th>\n",
       "    </tr>\n",
       "  </thead>\n",
       "  <tbody>\n",
       "    <tr>\n",
       "      <th>0</th>\n",
       "      <td>OMOP_4081598</td>\n",
       "      <td>309295</td>\n",
       "      <td>4081598</td>\n",
       "      <td>Notes summary on computer</td>\n",
       "      <td>Observation</td>\n",
       "      <td>SNOMED</td>\n",
       "      <td>Clinical Finding</td>\n",
       "      <td>S</td>\n",
       "      <td>184229000</td>\n",
       "      <td>20020131</td>\n",
       "      <td>20991231</td>\n",
       "      <td>NaN</td>\n",
       "    </tr>\n",
       "    <tr>\n",
       "      <th>1</th>\n",
       "      <td>OMOP_4052351</td>\n",
       "      <td>271672</td>\n",
       "      <td>4052351</td>\n",
       "      <td>Alcohol intake</td>\n",
       "      <td>Observation</td>\n",
       "      <td>SNOMED</td>\n",
       "      <td>Observable Entity</td>\n",
       "      <td>S</td>\n",
       "      <td>160573003</td>\n",
       "      <td>20020131</td>\n",
       "      <td>20991231</td>\n",
       "      <td>NaN</td>\n",
       "    </tr>\n",
       "    <tr>\n",
       "      <th>2</th>\n",
       "      <td>OMOP_4061103</td>\n",
       "      <td>264875</td>\n",
       "      <td>4061103</td>\n",
       "      <td>O/E - blood pressure reading</td>\n",
       "      <td>Condition</td>\n",
       "      <td>SNOMED</td>\n",
       "      <td>Clinical Finding</td>\n",
       "      <td>S</td>\n",
       "      <td>163020007</td>\n",
       "      <td>20020131</td>\n",
       "      <td>20991231</td>\n",
       "      <td>NaN</td>\n",
       "    </tr>\n",
       "    <tr>\n",
       "      <th>3</th>\n",
       "      <td>OMOP_4144272</td>\n",
       "      <td>247882</td>\n",
       "      <td>4144272</td>\n",
       "      <td>Never smoked tobacco</td>\n",
       "      <td>Observation</td>\n",
       "      <td>SNOMED</td>\n",
       "      <td>Clinical Finding</td>\n",
       "      <td>S</td>\n",
       "      <td>266919005</td>\n",
       "      <td>20020131</td>\n",
       "      <td>20991231</td>\n",
       "      <td>NaN</td>\n",
       "    </tr>\n",
       "    <tr>\n",
       "      <th>4</th>\n",
       "      <td>OMOP_4057411</td>\n",
       "      <td>222759</td>\n",
       "      <td>4057411</td>\n",
       "      <td>Review of medication</td>\n",
       "      <td>Procedure</td>\n",
       "      <td>SNOMED</td>\n",
       "      <td>Procedure</td>\n",
       "      <td>S</td>\n",
       "      <td>182836005</td>\n",
       "      <td>20020131</td>\n",
       "      <td>20991231</td>\n",
       "      <td>NaN</td>\n",
       "    </tr>\n",
       "    <tr>\n",
       "      <th>...</th>\n",
       "      <td>...</td>\n",
       "      <td>...</td>\n",
       "      <td>...</td>\n",
       "      <td>...</td>\n",
       "      <td>...</td>\n",
       "      <td>...</td>\n",
       "      <td>...</td>\n",
       "      <td>...</td>\n",
       "      <td>...</td>\n",
       "      <td>...</td>\n",
       "      <td>...</td>\n",
       "      <td>...</td>\n",
       "    </tr>\n",
       "    <tr>\n",
       "      <th>68522</th>\n",
       "      <td>OMOP_4125272</td>\n",
       "      <td>0</td>\n",
       "      <td>4125272</td>\n",
       "      <td>Able to swallow</td>\n",
       "      <td>Observation</td>\n",
       "      <td>SNOMED</td>\n",
       "      <td>Clinical Finding</td>\n",
       "      <td>S</td>\n",
       "      <td>288936000</td>\n",
       "      <td>20020131</td>\n",
       "      <td>20991231</td>\n",
       "      <td>NaN</td>\n",
       "    </tr>\n",
       "    <tr>\n",
       "      <th>68523</th>\n",
       "      <td>OMOP_4236239</td>\n",
       "      <td>0</td>\n",
       "      <td>4236239</td>\n",
       "      <td>Functional defects of methionine synthase</td>\n",
       "      <td>Condition</td>\n",
       "      <td>SNOMED</td>\n",
       "      <td>Clinical Finding</td>\n",
       "      <td>S</td>\n",
       "      <td>360376008</td>\n",
       "      <td>20020131</td>\n",
       "      <td>20991231</td>\n",
       "      <td>NaN</td>\n",
       "    </tr>\n",
       "    <tr>\n",
       "      <th>68524</th>\n",
       "      <td>OMOP_4236199</td>\n",
       "      <td>0</td>\n",
       "      <td>4236199</td>\n",
       "      <td>Tends not to be sociable</td>\n",
       "      <td>Condition</td>\n",
       "      <td>SNOMED</td>\n",
       "      <td>Clinical Finding</td>\n",
       "      <td>S</td>\n",
       "      <td>90716005</td>\n",
       "      <td>20020131</td>\n",
       "      <td>20991231</td>\n",
       "      <td>NaN</td>\n",
       "    </tr>\n",
       "    <tr>\n",
       "      <th>68525</th>\n",
       "      <td>OMOP_4236188</td>\n",
       "      <td>0</td>\n",
       "      <td>4236188</td>\n",
       "      <td>Coronavirus vaccination</td>\n",
       "      <td>Procedure</td>\n",
       "      <td>SNOMED</td>\n",
       "      <td>Procedure</td>\n",
       "      <td>S</td>\n",
       "      <td>90640007</td>\n",
       "      <td>20020131</td>\n",
       "      <td>20991231</td>\n",
       "      <td>NaN</td>\n",
       "    </tr>\n",
       "    <tr>\n",
       "      <th>68526</th>\n",
       "      <td>OMOP_4107275</td>\n",
       "      <td>0</td>\n",
       "      <td>4107275</td>\n",
       "      <td>Revision arthroscopic ligament repair</td>\n",
       "      <td>Procedure</td>\n",
       "      <td>SNOMED</td>\n",
       "      <td>Procedure</td>\n",
       "      <td>S</td>\n",
       "      <td>179880002</td>\n",
       "      <td>20020131</td>\n",
       "      <td>20991231</td>\n",
       "      <td>NaN</td>\n",
       "    </tr>\n",
       "  </tbody>\n",
       "</table>\n",
       "<p>68527 rows × 12 columns</p>\n",
       "</div>"
      ],
      "text/plain": [
       "             record       n concept_id  \\\n",
       "0      OMOP_4081598  309295    4081598   \n",
       "1      OMOP_4052351  271672    4052351   \n",
       "2      OMOP_4061103  264875    4061103   \n",
       "3      OMOP_4144272  247882    4144272   \n",
       "4      OMOP_4057411  222759    4057411   \n",
       "...             ...     ...        ...   \n",
       "68522  OMOP_4125272       0    4125272   \n",
       "68523  OMOP_4236239       0    4236239   \n",
       "68524  OMOP_4236199       0    4236199   \n",
       "68525  OMOP_4236188       0    4236188   \n",
       "68526  OMOP_4107275       0    4107275   \n",
       "\n",
       "                                    concept_name    domain_id vocabulary_id  \\\n",
       "0                      Notes summary on computer  Observation        SNOMED   \n",
       "1                                 Alcohol intake  Observation        SNOMED   \n",
       "2                   O/E - blood pressure reading    Condition        SNOMED   \n",
       "3                           Never smoked tobacco  Observation        SNOMED   \n",
       "4                           Review of medication    Procedure        SNOMED   \n",
       "...                                          ...          ...           ...   \n",
       "68522                            Able to swallow  Observation        SNOMED   \n",
       "68523  Functional defects of methionine synthase    Condition        SNOMED   \n",
       "68524                   Tends not to be sociable    Condition        SNOMED   \n",
       "68525                    Coronavirus vaccination    Procedure        SNOMED   \n",
       "68526      Revision arthroscopic ligament repair    Procedure        SNOMED   \n",
       "\n",
       "        concept_class_id standard_concept concept_code  valid_start_date  \\\n",
       "0       Clinical Finding                S    184229000          20020131   \n",
       "1      Observable Entity                S    160573003          20020131   \n",
       "2       Clinical Finding                S    163020007          20020131   \n",
       "3       Clinical Finding                S    266919005          20020131   \n",
       "4              Procedure                S    182836005          20020131   \n",
       "...                  ...              ...          ...               ...   \n",
       "68522   Clinical Finding                S    288936000          20020131   \n",
       "68523   Clinical Finding                S    360376008          20020131   \n",
       "68524   Clinical Finding                S     90716005          20020131   \n",
       "68525          Procedure                S     90640007          20020131   \n",
       "68526          Procedure                S    179880002          20020131   \n",
       "\n",
       "       valid_end_date invalid_reason  \n",
       "0            20991231            NaN  \n",
       "1            20991231            NaN  \n",
       "2            20991231            NaN  \n",
       "3            20991231            NaN  \n",
       "4            20991231            NaN  \n",
       "...               ...            ...  \n",
       "68522        20991231            NaN  \n",
       "68523        20991231            NaN  \n",
       "68524        20991231            NaN  \n",
       "68525        20991231            NaN  \n",
       "68526        20991231            NaN  \n",
       "\n",
       "[68527 rows x 12 columns]"
      ]
     },
     "execution_count": 30,
     "metadata": {},
     "output_type": "execute_result"
    }
   ],
   "source": [
    "records_freq_md.reset_index()"
   ]
  },
  {
   "cell_type": "code",
   "execution_count": null,
   "metadata": {},
   "outputs": [],
   "source": []
  }
 ],
 "metadata": {
  "interpreter": {
   "hash": "7fb005937abf8310e947cacdef9aa24b4c9570846765db425bfb20f46bc066c7"
  },
  "kernelspec": {
   "display_name": "Python [conda env:ehrgraphs]",
   "language": "python",
   "name": "conda-env-ehrgraphs-py"
  },
  "language_info": {
   "codemirror_mode": {
    "name": "ipython",
    "version": 3
   },
   "file_extension": ".py",
   "mimetype": "text/x-python",
   "name": "python",
   "nbconvert_exporter": "python",
   "pygments_lexer": "ipython3",
   "version": "3.9.7"
  }
 },
 "nbformat": 4,
 "nbformat_minor": 4
}
