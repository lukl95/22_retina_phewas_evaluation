{
 "cells": [
  {
   "cell_type": "code",
   "execution_count": 1,
   "id": "97cf6ee1-548d-414e-85fd-04b966166b76",
   "metadata": {
    "tags": []
   },
   "outputs": [],
   "source": [
    "%load_ext autoreload\n",
    "%autoreload 2\n",
    "\n",
    "import os\n",
    "from tqdm.auto import tqdm\n",
    "import pathlib\n",
    "import datetime\n",
    "import subprocess\n",
    "import numpy as np\n",
    "import pandas as pd\n",
    "import lifelines"
   ]
  },
  {
   "cell_type": "code",
   "execution_count": 2,
   "id": "c10857fd-0dcf-47cc-98fd-8ec83253b496",
   "metadata": {
    "tags": []
   },
   "outputs": [
    {
     "name": "stdout",
     "output_type": "stream",
     "text": [
      "/sc-projects/sc-proj-ukb-cvd\n",
      "experiment path: /sc-projects/sc-proj-ukb-cvd/results/projects/22_retina_phewas/data/230426\n"
     ]
    }
   ],
   "source": [
    "node = !hostname\n",
    "if \"sc\" in node[0]:\n",
    "    base_path = \"/sc-projects/sc-proj-ukb-cvd\"\n",
    "else: \n",
    "    base_path = \"/data/analysis/ag-reils/ag-reils-shared/cardioRS\"\n",
    "print(base_path)\n",
    "\n",
    "project_label = \"22_retina_phewas\"\n",
    "project_path = f\"{base_path}/results/projects/{project_label}\"\n",
    "figure_path = f\"{project_path}/figures\"\n",
    "output_path = f\"{project_path}/data\"\n",
    "\n",
    "pathlib.Path(figure_path).mkdir(parents=True, exist_ok=True)\n",
    "pathlib.Path(output_path).mkdir(parents=True, exist_ok=True)\n",
    "\n",
    "experiment = '230426'\n",
    "experiment_path = f\"{output_path}/{experiment}\"\n",
    "print('experiment path:', experiment_path)\n",
    "pathlib.Path(experiment_path).mkdir(parents=True, exist_ok=True)\n",
    "\n",
    "name_dict = {\n",
    "#     \"predictions_cropratio0.3\": \"ConvNextSmall(Retina)+MLP_cropratio0.3\",\n",
    "#     \"predictions_cropratio0.5\": \"ConvNextSmall(Retina)+MLP_cropratio0.5\",\n",
    "#    \"predictions_cropratio0.66\": \"ConvNextSmall(Retina)+MLP_cropratio0.66\",\n",
    "    \"predictions\": \"ConvNextSmall(Retina)+MLP_cropratio0.66\",\n",
    "}\n",
    "\n",
    "#partitions = [i for i in range(22)]\n",
    "partitions = [4, 5, 7, 9, 10, 20] # Partitions with eye test centers"
   ]
  },
  {
   "cell_type": "code",
   "execution_count": 3,
   "id": "ec1b744b-8851-4933-bd0e-128c77b861e9",
   "metadata": {
    "tags": []
   },
   "outputs": [],
   "source": [
    "today = '230426'"
   ]
  },
  {
   "cell_type": "markdown",
   "id": "3feab5bf-290a-4030-b139-6e5514bd39c6",
   "metadata": {},
   "source": [
    "# Read all predictions"
   ]
  },
  {
   "cell_type": "code",
   "execution_count": 4,
   "id": "f7dee7e3-c9c4-4804-bb74-d11b518ae5ba",
   "metadata": {
    "tags": []
   },
   "outputs": [],
   "source": [
    "data_outcomes = pd.read_feather(f\"{output_path}/baseline_outcomes_220627.feather\").set_index(\"eid\")\n",
    "\n",
    "#endpoints_md = pd.read_csv(f\"{experiment_path}/endpoints.csv\")\n",
    "#endpoints = sorted(endpoints_md.endpoint.to_list())\n",
    "all_endpoints = sorted([l.replace('_prevalent', '') for l in list(pd.read_csv(f'/sc-projects/sc-proj-ukb-cvd/results/projects/{project_label}/data/{today}/endpoints.csv').endpoint.values)])\n",
    "endpoints_not_overlapping_with_preds = []\n",
    "endpoints = []\n",
    "for c in all_endpoints:\n",
    "    if c not in endpoints_not_overlapping_with_preds: \n",
    "        endpoints.append(c)\n",
    "\n",
    "endpoint_defs = pd.read_feather(f\"{output_path}/phecode_defs_220306.feather\").query(\"endpoint==@endpoints\").sort_values(\"endpoint\").set_index(\"endpoint\")\n"
   ]
  },
  {
   "cell_type": "code",
   "execution_count": 5,
   "id": "60633383-8e88-4d52-9743-b3c3446a2aed",
   "metadata": {
    "tags": []
   },
   "outputs": [
    {
     "data": {
      "text/plain": [
       "(1170, 7)"
      ]
     },
     "execution_count": 5,
     "metadata": {},
     "output_type": "execute_result"
    }
   ],
   "source": [
    "endpoint_defs.shape"
   ]
  },
  {
   "cell_type": "code",
   "execution_count": 6,
   "id": "7b58e8f6-bfd1-4cc2-8ef8-16b4fec16cf3",
   "metadata": {
    "tags": []
   },
   "outputs": [],
   "source": [
    "# phecodes = ['phecode_979', 'phecode_202']\n",
    "phecodes = endpoint_defs.index.values.tolist()\n",
    "models = ['Age+Sex', 'Age+Sex+Retina']"
   ]
  },
  {
   "cell_type": "code",
   "execution_count": 7,
   "id": "20db581f-fa58-4a35-b68f-301abc6b6788",
   "metadata": {
    "tags": []
   },
   "outputs": [
    {
     "data": {
      "application/vnd.jupyter.widget-view+json": {
       "model_id": "2bd6e16b5b5f4243b48a605c3877bcd7",
       "version_major": 2,
       "version_minor": 0
      },
      "text/plain": [
       "  0%|          | 0/1170 [00:00<?, ?it/s]"
      ]
     },
     "metadata": {},
     "output_type": "display_data"
    }
   ],
   "source": [
    "all_preds = []\n",
    "for phecode in tqdm(phecodes):\n",
    "    model_preds = []\n",
    "    for model in models:\n",
    "        model_preds_endpoint = []\n",
    "        for partition in partitions:\n",
    "            preds = pd.read_feather(f'{experiment_path}/coxph/predictions'\\\n",
    "                                    f'/{phecode}_{model}_ImageTraining_[]_ConvNeXt_MLPHead_predictions_{partition}.feather')\n",
    "            preds = preds[['eid', 'endpoint', 'Ft_10']].rename({'Ft_10': model}, axis=1)\n",
    "            model_preds_endpoint.append(preds)\n",
    "        model_preds_endpoint = pd.concat(model_preds_endpoint, axis=0)\n",
    "        model_preds.append(model_preds_endpoint)\n",
    "        \n",
    "    preds = model_preds[0].set_index(['eid', 'endpoint'])  \n",
    "    for i in range(1, len(model_preds)):\n",
    "        preds = preds.merge(model_preds[i].set_index(['eid', 'endpoint']), left_index=True, right_index=True)\n",
    "    all_preds.append(preds)"
   ]
  },
  {
   "cell_type": "code",
   "execution_count": 8,
   "id": "582eb2c3-1102-4329-89b2-ddbbf6d059b5",
   "metadata": {
    "tags": []
   },
   "outputs": [],
   "source": [
    "all_preds = pd.concat(all_preds, axis=0)"
   ]
  },
  {
   "cell_type": "code",
   "execution_count": 9,
   "id": "f5c47fcb-2d21-4a4e-9c70-d64100138e55",
   "metadata": {
    "tags": []
   },
   "outputs": [
    {
     "data": {
      "text/html": [
       "<div>\n",
       "<style scoped>\n",
       "    .dataframe tbody tr th:only-of-type {\n",
       "        vertical-align: middle;\n",
       "    }\n",
       "\n",
       "    .dataframe tbody tr th {\n",
       "        vertical-align: top;\n",
       "    }\n",
       "\n",
       "    .dataframe thead th {\n",
       "        text-align: right;\n",
       "    }\n",
       "</style>\n",
       "<table border=\"1\" class=\"dataframe\">\n",
       "  <thead>\n",
       "    <tr style=\"text-align: right;\">\n",
       "      <th></th>\n",
       "      <th></th>\n",
       "      <th>Age+Sex</th>\n",
       "      <th>Age+Sex+Retina</th>\n",
       "    </tr>\n",
       "    <tr>\n",
       "      <th>eid</th>\n",
       "      <th>endpoint</th>\n",
       "      <th></th>\n",
       "      <th></th>\n",
       "    </tr>\n",
       "  </thead>\n",
       "  <tbody>\n",
       "    <tr>\n",
       "      <th>1005228</th>\n",
       "      <th>OMOP_4306655</th>\n",
       "      <td>0.011756</td>\n",
       "      <td>0.004170</td>\n",
       "    </tr>\n",
       "    <tr>\n",
       "      <th>1006968</th>\n",
       "      <th>OMOP_4306655</th>\n",
       "      <td>0.154481</td>\n",
       "      <td>0.063953</td>\n",
       "    </tr>\n",
       "    <tr>\n",
       "      <th>1008081</th>\n",
       "      <th>OMOP_4306655</th>\n",
       "      <td>0.023864</td>\n",
       "      <td>0.015357</td>\n",
       "    </tr>\n",
       "    <tr>\n",
       "      <th>1009271</th>\n",
       "      <th>OMOP_4306655</th>\n",
       "      <td>0.014768</td>\n",
       "      <td>0.007460</td>\n",
       "    </tr>\n",
       "    <tr>\n",
       "      <th>1009328</th>\n",
       "      <th>OMOP_4306655</th>\n",
       "      <td>0.008035</td>\n",
       "      <td>0.003523</td>\n",
       "    </tr>\n",
       "  </tbody>\n",
       "</table>\n",
       "</div>"
      ],
      "text/plain": [
       "                       Age+Sex  Age+Sex+Retina\n",
       "eid     endpoint                              \n",
       "1005228 OMOP_4306655  0.011756        0.004170\n",
       "1006968 OMOP_4306655  0.154481        0.063953\n",
       "1008081 OMOP_4306655  0.023864        0.015357\n",
       "1009271 OMOP_4306655  0.014768        0.007460\n",
       "1009328 OMOP_4306655  0.008035        0.003523"
      ]
     },
     "execution_count": 9,
     "metadata": {},
     "output_type": "execute_result"
    }
   ],
   "source": [
    "all_preds.head()"
   ]
  },
  {
   "cell_type": "code",
   "execution_count": 10,
   "id": "e747ef25-70ec-4964-bf94-bc70457a0261",
   "metadata": {
    "tags": []
   },
   "outputs": [],
   "source": [
    "## calculate relative risk\n",
    "epsilon = 0.000001\n",
    "all_preds['relative_risks'] = all_preds['Age+Sex+Retina'] / (all_preds['Age+Sex']+epsilon)"
   ]
  },
  {
   "cell_type": "code",
   "execution_count": 11,
   "id": "8b7f4ba4-33f5-4e36-9691-3133b03d1ff8",
   "metadata": {
    "tags": []
   },
   "outputs": [],
   "source": [
    "relative_risks = pd.pivot(all_preds.reset_index(), index='eid', columns='endpoint', values='relative_risks')"
   ]
  },
  {
   "cell_type": "code",
   "execution_count": 12,
   "id": "267e4ab5-37a9-4319-b0b7-eb8778d6851a",
   "metadata": {
    "tags": []
   },
   "outputs": [
    {
     "data": {
      "text/plain": [
       "(61256, 1170)"
      ]
     },
     "execution_count": 12,
     "metadata": {},
     "output_type": "execute_result"
    }
   ],
   "source": [
    "relative_risks.shape"
   ]
  },
  {
   "cell_type": "code",
   "execution_count": 13,
   "id": "abcb58c6-879c-4969-804f-0b68c7363b7a",
   "metadata": {},
   "outputs": [
    {
     "data": {
      "text/html": [
       "<div>\n",
       "<style scoped>\n",
       "    .dataframe tbody tr th:only-of-type {\n",
       "        vertical-align: middle;\n",
       "    }\n",
       "\n",
       "    .dataframe tbody tr th {\n",
       "        vertical-align: top;\n",
       "    }\n",
       "\n",
       "    .dataframe thead th {\n",
       "        text-align: right;\n",
       "    }\n",
       "</style>\n",
       "<table border=\"1\" class=\"dataframe\">\n",
       "  <thead>\n",
       "    <tr style=\"text-align: right;\">\n",
       "      <th>endpoint</th>\n",
       "      <th>OMOP_4306655</th>\n",
       "      <th>phecode_002</th>\n",
       "      <th>phecode_002-1</th>\n",
       "      <th>phecode_003</th>\n",
       "      <th>phecode_004</th>\n",
       "      <th>phecode_005</th>\n",
       "      <th>phecode_007</th>\n",
       "      <th>phecode_007-1</th>\n",
       "      <th>phecode_008</th>\n",
       "      <th>phecode_009</th>\n",
       "      <th>...</th>\n",
       "      <th>phecode_977</th>\n",
       "      <th>phecode_977-4</th>\n",
       "      <th>phecode_977-41</th>\n",
       "      <th>phecode_977-5</th>\n",
       "      <th>phecode_977-51</th>\n",
       "      <th>phecode_977-52</th>\n",
       "      <th>phecode_977-7</th>\n",
       "      <th>phecode_977-71</th>\n",
       "      <th>phecode_977-72</th>\n",
       "      <th>phecode_979</th>\n",
       "    </tr>\n",
       "    <tr>\n",
       "      <th>eid</th>\n",
       "      <th></th>\n",
       "      <th></th>\n",
       "      <th></th>\n",
       "      <th></th>\n",
       "      <th></th>\n",
       "      <th></th>\n",
       "      <th></th>\n",
       "      <th></th>\n",
       "      <th></th>\n",
       "      <th></th>\n",
       "      <th></th>\n",
       "      <th></th>\n",
       "      <th></th>\n",
       "      <th></th>\n",
       "      <th></th>\n",
       "      <th></th>\n",
       "      <th></th>\n",
       "      <th></th>\n",
       "      <th></th>\n",
       "      <th></th>\n",
       "      <th></th>\n",
       "    </tr>\n",
       "  </thead>\n",
       "  <tbody>\n",
       "    <tr>\n",
       "      <th>1000128</th>\n",
       "      <td>0.174749</td>\n",
       "      <td>0.446356</td>\n",
       "      <td>0.446607</td>\n",
       "      <td>0.376964</td>\n",
       "      <td>0.456245</td>\n",
       "      <td>0.249470</td>\n",
       "      <td>0.284769</td>\n",
       "      <td>0.289053</td>\n",
       "      <td>0.667286</td>\n",
       "      <td>0.155796</td>\n",
       "      <td>...</td>\n",
       "      <td>0.963882</td>\n",
       "      <td>0.522644</td>\n",
       "      <td>0.544311</td>\n",
       "      <td>1.360218</td>\n",
       "      <td>1.178297</td>\n",
       "      <td>1.487170</td>\n",
       "      <td>0.272905</td>\n",
       "      <td>0.203238</td>\n",
       "      <td>0.271235</td>\n",
       "      <td>0.514556</td>\n",
       "    </tr>\n",
       "    <tr>\n",
       "      <th>1000206</th>\n",
       "      <td>0.520770</td>\n",
       "      <td>0.685671</td>\n",
       "      <td>0.732043</td>\n",
       "      <td>0.713312</td>\n",
       "      <td>0.866218</td>\n",
       "      <td>0.277188</td>\n",
       "      <td>0.527613</td>\n",
       "      <td>0.480149</td>\n",
       "      <td>0.913658</td>\n",
       "      <td>0.630599</td>\n",
       "      <td>...</td>\n",
       "      <td>0.741853</td>\n",
       "      <td>0.815088</td>\n",
       "      <td>0.836276</td>\n",
       "      <td>0.868703</td>\n",
       "      <td>NaN</td>\n",
       "      <td>NaN</td>\n",
       "      <td>0.939908</td>\n",
       "      <td>0.819729</td>\n",
       "      <td>0.910948</td>\n",
       "      <td>0.867035</td>\n",
       "    </tr>\n",
       "    <tr>\n",
       "      <th>1000212</th>\n",
       "      <td>1.572994</td>\n",
       "      <td>1.392671</td>\n",
       "      <td>1.374585</td>\n",
       "      <td>1.286691</td>\n",
       "      <td>1.262157</td>\n",
       "      <td>0.877082</td>\n",
       "      <td>1.121366</td>\n",
       "      <td>1.150010</td>\n",
       "      <td>0.857802</td>\n",
       "      <td>1.379848</td>\n",
       "      <td>...</td>\n",
       "      <td>1.054230</td>\n",
       "      <td>1.110949</td>\n",
       "      <td>1.115279</td>\n",
       "      <td>0.822944</td>\n",
       "      <td>0.816347</td>\n",
       "      <td>0.733019</td>\n",
       "      <td>1.173676</td>\n",
       "      <td>1.099809</td>\n",
       "      <td>1.185231</td>\n",
       "      <td>1.398514</td>\n",
       "    </tr>\n",
       "    <tr>\n",
       "      <th>1000270</th>\n",
       "      <td>1.017653</td>\n",
       "      <td>1.051704</td>\n",
       "      <td>1.050304</td>\n",
       "      <td>1.164627</td>\n",
       "      <td>1.041907</td>\n",
       "      <td>1.214847</td>\n",
       "      <td>0.762140</td>\n",
       "      <td>0.896931</td>\n",
       "      <td>1.176081</td>\n",
       "      <td>1.198521</td>\n",
       "      <td>...</td>\n",
       "      <td>1.090794</td>\n",
       "      <td>0.924574</td>\n",
       "      <td>0.877674</td>\n",
       "      <td>1.046469</td>\n",
       "      <td>0.857232</td>\n",
       "      <td>1.079807</td>\n",
       "      <td>1.119889</td>\n",
       "      <td>1.076590</td>\n",
       "      <td>1.113154</td>\n",
       "      <td>0.868071</td>\n",
       "    </tr>\n",
       "    <tr>\n",
       "      <th>1000355</th>\n",
       "      <td>0.779178</td>\n",
       "      <td>1.417964</td>\n",
       "      <td>1.411960</td>\n",
       "      <td>0.930719</td>\n",
       "      <td>1.082596</td>\n",
       "      <td>0.552446</td>\n",
       "      <td>1.416427</td>\n",
       "      <td>1.636062</td>\n",
       "      <td>0.708659</td>\n",
       "      <td>0.777062</td>\n",
       "      <td>...</td>\n",
       "      <td>NaN</td>\n",
       "      <td>1.123843</td>\n",
       "      <td>1.136316</td>\n",
       "      <td>0.987245</td>\n",
       "      <td>NaN</td>\n",
       "      <td>NaN</td>\n",
       "      <td>0.986045</td>\n",
       "      <td>0.863845</td>\n",
       "      <td>0.944397</td>\n",
       "      <td>1.332354</td>\n",
       "    </tr>\n",
       "  </tbody>\n",
       "</table>\n",
       "<p>5 rows × 1170 columns</p>\n",
       "</div>"
      ],
      "text/plain": [
       "endpoint  OMOP_4306655  phecode_002  phecode_002-1  phecode_003  phecode_004  \\\n",
       "eid                                                                            \n",
       "1000128       0.174749     0.446356       0.446607     0.376964     0.456245   \n",
       "1000206       0.520770     0.685671       0.732043     0.713312     0.866218   \n",
       "1000212       1.572994     1.392671       1.374585     1.286691     1.262157   \n",
       "1000270       1.017653     1.051704       1.050304     1.164627     1.041907   \n",
       "1000355       0.779178     1.417964       1.411960     0.930719     1.082596   \n",
       "\n",
       "endpoint  phecode_005  phecode_007  phecode_007-1  phecode_008  phecode_009  \\\n",
       "eid                                                                           \n",
       "1000128      0.249470     0.284769       0.289053     0.667286     0.155796   \n",
       "1000206      0.277188     0.527613       0.480149     0.913658     0.630599   \n",
       "1000212      0.877082     1.121366       1.150010     0.857802     1.379848   \n",
       "1000270      1.214847     0.762140       0.896931     1.176081     1.198521   \n",
       "1000355      0.552446     1.416427       1.636062     0.708659     0.777062   \n",
       "\n",
       "endpoint  ...  phecode_977  phecode_977-4  phecode_977-41  phecode_977-5  \\\n",
       "eid       ...                                                              \n",
       "1000128   ...     0.963882       0.522644        0.544311       1.360218   \n",
       "1000206   ...     0.741853       0.815088        0.836276       0.868703   \n",
       "1000212   ...     1.054230       1.110949        1.115279       0.822944   \n",
       "1000270   ...     1.090794       0.924574        0.877674       1.046469   \n",
       "1000355   ...          NaN       1.123843        1.136316       0.987245   \n",
       "\n",
       "endpoint  phecode_977-51  phecode_977-52  phecode_977-7  phecode_977-71  \\\n",
       "eid                                                                       \n",
       "1000128         1.178297        1.487170       0.272905        0.203238   \n",
       "1000206              NaN             NaN       0.939908        0.819729   \n",
       "1000212         0.816347        0.733019       1.173676        1.099809   \n",
       "1000270         0.857232        1.079807       1.119889        1.076590   \n",
       "1000355              NaN             NaN       0.986045        0.863845   \n",
       "\n",
       "endpoint  phecode_977-72  phecode_979  \n",
       "eid                                    \n",
       "1000128         0.271235     0.514556  \n",
       "1000206         0.910948     0.867035  \n",
       "1000212         1.185231     1.398514  \n",
       "1000270         1.113154     0.868071  \n",
       "1000355         0.944397     1.332354  \n",
       "\n",
       "[5 rows x 1170 columns]"
      ]
     },
     "execution_count": 13,
     "metadata": {},
     "output_type": "execute_result"
    }
   ],
   "source": [
    "relative_risks.head()"
   ]
  },
  {
   "cell_type": "code",
   "execution_count": 14,
   "id": "89c5da43-0aa3-49d5-9b56-e3e5e92a313d",
   "metadata": {
    "tags": []
   },
   "outputs": [],
   "source": [
    "relative_risks.reset_index().to_feather(f'{experiment_path}/relative_risks_{today}.feather')"
   ]
  },
  {
   "cell_type": "code",
   "execution_count": 15,
   "id": "e26be821-1c41-4dad-84e3-b4dec724e839",
   "metadata": {
    "tags": []
   },
   "outputs": [
    {
     "data": {
      "text/plain": [
       "'/sc-projects/sc-proj-ukb-cvd/results/projects/22_retina_phewas/data/230426/relative_risks_230426.feather'"
      ]
     },
     "execution_count": 15,
     "metadata": {},
     "output_type": "execute_result"
    }
   ],
   "source": [
    "f'{experiment_path}/relative_risks_{today}.feather'"
   ]
  },
  {
   "cell_type": "code",
   "execution_count": null,
   "id": "1b022a85-1c34-4ca9-85df-a01eef4df6df",
   "metadata": {},
   "outputs": [],
   "source": []
  }
 ],
 "metadata": {
  "kernelspec": {
   "display_name": "Python 3 (ipykernel)",
   "language": "python",
   "name": "python3"
  },
  "language_info": {
   "codemirror_mode": {
    "name": "ipython",
    "version": 3
   },
   "file_extension": ".py",
   "mimetype": "text/x-python",
   "name": "python",
   "nbconvert_exporter": "python",
   "pygments_lexer": "ipython3",
   "version": "3.9.7"
  }
 },
 "nbformat": 4,
 "nbformat_minor": 5
}
