{
 "cells": [
  {
   "cell_type": "code",
   "execution_count": 19,
   "id": "97cf6ee1-548d-414e-85fd-04b966166b76",
   "metadata": {
    "execution": {
     "iopub.execute_input": "2022-11-09T10:29:01.148068Z",
     "iopub.status.busy": "2022-11-09T10:29:01.147687Z",
     "iopub.status.idle": "2022-11-09T10:29:02.099079Z",
     "shell.execute_reply": "2022-11-09T10:29:02.098557Z",
     "shell.execute_reply.started": "2022-11-09T10:29:01.148051Z"
    },
    "tags": []
   },
   "outputs": [
    {
     "name": "stdout",
     "output_type": "stream",
     "text": [
      "The autoreload extension is already loaded. To reload it, use:\n",
      "  %reload_ext autoreload\n"
     ]
    }
   ],
   "source": [
    "%load_ext autoreload\n",
    "%autoreload 2\n",
    "\n",
    "import os\n",
    "from tqdm.auto import tqdm\n",
    "import pathlib\n",
    "import datetime\n",
    "import subprocess\n",
    "import numpy as np\n",
    "import pandas as pd\n",
    "import lifelines"
   ]
  },
  {
   "cell_type": "code",
   "execution_count": 20,
   "id": "c10857fd-0dcf-47cc-98fd-8ec83253b496",
   "metadata": {
    "execution": {
     "iopub.execute_input": "2022-11-09T10:29:02.100458Z",
     "iopub.status.busy": "2022-11-09T10:29:02.100058Z",
     "iopub.status.idle": "2022-11-09T10:29:02.140945Z",
     "shell.execute_reply": "2022-11-09T10:29:02.140382Z",
     "shell.execute_reply.started": "2022-11-09T10:29:02.100439Z"
    },
    "tags": []
   },
   "outputs": [
    {
     "name": "stdout",
     "output_type": "stream",
     "text": [
      "/sc-projects/sc-proj-ukb-cvd\n"
     ]
    },
    {
     "data": {
      "text/plain": [
       "[0, 1, 2, 3, 4, 5, 6, 7, 8, 9, 10, 11, 12, 13, 14, 15, 16, 17, 18, 19, 20, 21]"
      ]
     },
     "execution_count": 20,
     "metadata": {},
     "output_type": "execute_result"
    }
   ],
   "source": [
    "node = !hostname\n",
    "if \"sc\" in node[0]:\n",
    "    base_path = \"/sc-projects/sc-proj-ukb-cvd\"\n",
    "else: \n",
    "    base_path = \"/data/analysis/ag-reils/ag-reils-shared/cardioRS\"\n",
    "print(base_path)\n",
    "\n",
    "project_label = \"22_retina_phewas\"\n",
    "project_path = f\"{base_path}/results/projects/{project_label}\"\n",
    "figure_path = f\"{project_path}/figures\"\n",
    "output_path = f\"{project_path}/data\"\n",
    "\n",
    "pathlib.Path(figure_path).mkdir(parents=True, exist_ok=True)\n",
    "pathlib.Path(output_path).mkdir(parents=True, exist_ok=True)\n",
    "\n",
    "experiment = '221108'\n",
    "experiment_path = f\"{output_path}/{experiment}\"\n",
    "pathlib.Path(experiment_path).mkdir(parents=True, exist_ok=True)\n",
    "\n",
    "name_dict = {\n",
    "    \"predictions_cropratio0.66\": \"ConvNextSmall(Retina)+MLP_cropratio0.66\",\n",
    "}\n",
    "\n",
    "partitions = [i for i in range(22)]\n",
    "partitions"
   ]
  },
  {
   "cell_type": "code",
   "execution_count": 21,
   "id": "ec1b744b-8851-4933-bd0e-128c77b861e9",
   "metadata": {
    "execution": {
     "iopub.execute_input": "2022-11-09T10:29:02.142271Z",
     "iopub.status.busy": "2022-11-09T10:29:02.141874Z",
     "iopub.status.idle": "2022-11-09T10:29:02.158462Z",
     "shell.execute_reply": "2022-11-09T10:29:02.158015Z",
     "shell.execute_reply.started": "2022-11-09T10:29:02.142248Z"
    },
    "tags": []
   },
   "outputs": [],
   "source": [
    "today = '221109'"
   ]
  },
  {
   "cell_type": "markdown",
   "id": "3feab5bf-290a-4030-b139-6e5514bd39c6",
   "metadata": {},
   "source": [
    "# Read all predictions"
   ]
  },
  {
   "cell_type": "code",
   "execution_count": 41,
   "id": "f7dee7e3-c9c4-4804-bb74-d11b518ae5ba",
   "metadata": {
    "execution": {
     "iopub.execute_input": "2022-11-09T10:46:38.653273Z",
     "iopub.status.busy": "2022-11-09T10:46:38.652911Z",
     "iopub.status.idle": "2022-11-09T10:46:43.701027Z",
     "shell.execute_reply": "2022-11-09T10:46:43.700451Z",
     "shell.execute_reply.started": "2022-11-09T10:46:38.653251Z"
    },
    "tags": []
   },
   "outputs": [],
   "source": [
    "\n",
    "data_outcomes = pd.read_feather(f\"{output_path}/baseline_outcomes_220627.feather\").set_index(\"eid\")\n",
    "\n",
    "#endpoints_md = pd.read_csv(f\"{experiment_path}/endpoints.csv\")\n",
    "#endpoints = sorted(endpoints_md.endpoint.to_list())\n",
    "all_endpoints = sorted([l.replace('_prevalent', '') for l in list(pd.read_csv('/sc-projects/sc-proj-ukb-cvd/results/projects/22_retinal_risk/data/220602/endpoints.csv').endpoint.values)])\n",
    "endpoints_not_overlapping_with_preds = []\n",
    "endpoints = []\n",
    "for c in all_endpoints:\n",
    "    if c not in endpoints_not_overlapping_with_preds: \n",
    "        endpoints.append(c)\n",
    "\n",
    "endpoint_defs = pd.read_feather(f\"{output_path}/phecode_defs_220306.feather\").query(\"endpoint==@endpoints\").sort_values(\"endpoint\").set_index(\"endpoint\")\n"
   ]
  },
  {
   "cell_type": "code",
   "execution_count": 43,
   "id": "60633383-8e88-4d52-9743-b3c3446a2aed",
   "metadata": {
    "execution": {
     "iopub.execute_input": "2022-11-09T10:47:45.297954Z",
     "iopub.status.busy": "2022-11-09T10:47:45.297251Z",
     "iopub.status.idle": "2022-11-09T10:47:46.213987Z",
     "shell.execute_reply": "2022-11-09T10:47:46.213507Z",
     "shell.execute_reply.started": "2022-11-09T10:47:45.297931Z"
    },
    "tags": []
   },
   "outputs": [
    {
     "data": {
      "text/plain": [
       "(1171, 7)"
      ]
     },
     "execution_count": 43,
     "metadata": {},
     "output_type": "execute_result"
    }
   ],
   "source": [
    "endpoint_defs.shape"
   ]
  },
  {
   "cell_type": "code",
   "execution_count": 44,
   "id": "7b58e8f6-bfd1-4cc2-8ef8-16b4fec16cf3",
   "metadata": {
    "execution": {
     "iopub.execute_input": "2022-11-09T10:47:53.289725Z",
     "iopub.status.busy": "2022-11-09T10:47:53.289589Z",
     "iopub.status.idle": "2022-11-09T10:47:53.303107Z",
     "shell.execute_reply": "2022-11-09T10:47:53.302670Z",
     "shell.execute_reply.started": "2022-11-09T10:47:53.289712Z"
    },
    "tags": []
   },
   "outputs": [],
   "source": [
    "# phecodes = ['phecode_979', 'phecode_202']\n",
    "phecodes = endpoint_defs.index.values.tolist()\n",
    "models = ['Age+Sex', 'Age+Sex+Retina']"
   ]
  },
  {
   "cell_type": "code",
   "execution_count": 45,
   "id": "20db581f-fa58-4a35-b68f-301abc6b6788",
   "metadata": {
    "execution": {
     "iopub.execute_input": "2022-11-09T10:47:53.958808Z",
     "iopub.status.busy": "2022-11-09T10:47:53.958489Z",
     "iopub.status.idle": "2022-11-09T10:56:50.105748Z",
     "shell.execute_reply": "2022-11-09T10:56:50.105214Z",
     "shell.execute_reply.started": "2022-11-09T10:47:53.958790Z"
    },
    "tags": []
   },
   "outputs": [
    {
     "data": {
      "application/vnd.jupyter.widget-view+json": {
       "model_id": "51f690db72dc4fea9dd898a7ce1b2333",
       "version_major": 2,
       "version_minor": 0
      },
      "text/plain": [
       "  0%|          | 0/1171 [00:00<?, ?it/s]"
      ]
     },
     "metadata": {},
     "output_type": "display_data"
    }
   ],
   "source": [
    "all_preds = []\n",
    "for phecode in tqdm(phecodes):\n",
    "    model_preds = []\n",
    "    for model in models:\n",
    "        model_preds_endpoint = []\n",
    "        for partition in range(0, 22):\n",
    "            preds = pd.read_feather(f'{experiment_path}/coxph/predictions'\\\n",
    "                                    f'/{phecode}_{model}_ImageTraining_[]_ConvNeXt_MLPHead_predictions_cropratio0.66_{partition}.feather')\n",
    "            preds = preds[['eid', 'endpoint', 'Ft_10']].rename({'Ft_10': model}, axis=1)\n",
    "            model_preds_endpoint.append(preds)\n",
    "        model_preds_endpoint = pd.concat(model_preds_endpoint, axis=0)\n",
    "        model_preds.append(model_preds_endpoint)\n",
    "        \n",
    "    preds = model_preds[0].set_index(['eid', 'endpoint'])  \n",
    "    for i in range(1, len(model_preds)):\n",
    "        preds = preds.merge(model_preds[i].set_index(['eid', 'endpoint']), left_index=True, right_index=True)\n",
    "    all_preds.append(preds)"
   ]
  },
  {
   "cell_type": "code",
   "execution_count": 46,
   "id": "582eb2c3-1102-4329-89b2-ddbbf6d059b5",
   "metadata": {
    "execution": {
     "iopub.execute_input": "2022-11-09T10:56:50.119966Z",
     "iopub.status.busy": "2022-11-09T10:56:50.119873Z",
     "iopub.status.idle": "2022-11-09T10:56:59.957310Z",
     "shell.execute_reply": "2022-11-09T10:56:59.956729Z",
     "shell.execute_reply.started": "2022-11-09T10:56:50.119952Z"
    },
    "tags": []
   },
   "outputs": [],
   "source": [
    "all_preds = pd.concat(all_preds, axis=0)"
   ]
  },
  {
   "cell_type": "code",
   "execution_count": 47,
   "id": "f5c47fcb-2d21-4a4e-9c70-d64100138e55",
   "metadata": {
    "execution": {
     "iopub.execute_input": "2022-11-09T10:56:59.959002Z",
     "iopub.status.busy": "2022-11-09T10:56:59.958482Z",
     "iopub.status.idle": "2022-11-09T10:56:59.976955Z",
     "shell.execute_reply": "2022-11-09T10:56:59.976572Z",
     "shell.execute_reply.started": "2022-11-09T10:56:59.958983Z"
    },
    "tags": []
   },
   "outputs": [
    {
     "data": {
      "text/html": [
       "<div>\n",
       "<style scoped>\n",
       "    .dataframe tbody tr th:only-of-type {\n",
       "        vertical-align: middle;\n",
       "    }\n",
       "\n",
       "    .dataframe tbody tr th {\n",
       "        vertical-align: top;\n",
       "    }\n",
       "\n",
       "    .dataframe thead th {\n",
       "        text-align: right;\n",
       "    }\n",
       "</style>\n",
       "<table border=\"1\" class=\"dataframe\">\n",
       "  <thead>\n",
       "    <tr style=\"text-align: right;\">\n",
       "      <th></th>\n",
       "      <th></th>\n",
       "      <th>Age+Sex</th>\n",
       "      <th>Age+Sex+Retina</th>\n",
       "    </tr>\n",
       "    <tr>\n",
       "      <th>eid</th>\n",
       "      <th>endpoint</th>\n",
       "      <th></th>\n",
       "      <th></th>\n",
       "    </tr>\n",
       "  </thead>\n",
       "  <tbody>\n",
       "    <tr>\n",
       "      <th>1475840</th>\n",
       "      <th>OMOP_4306655</th>\n",
       "      <td>0.115656</td>\n",
       "      <td>0.049050</td>\n",
       "    </tr>\n",
       "    <tr>\n",
       "      <th>1475895</th>\n",
       "      <th>OMOP_4306655</th>\n",
       "      <td>0.017572</td>\n",
       "      <td>0.010447</td>\n",
       "    </tr>\n",
       "    <tr>\n",
       "      <th>1475910</th>\n",
       "      <th>OMOP_4306655</th>\n",
       "      <td>0.015858</td>\n",
       "      <td>0.009131</td>\n",
       "    </tr>\n",
       "    <tr>\n",
       "      <th>1475935</th>\n",
       "      <th>OMOP_4306655</th>\n",
       "      <td>0.029305</td>\n",
       "      <td>0.013193</td>\n",
       "    </tr>\n",
       "    <tr>\n",
       "      <th>1476077</th>\n",
       "      <th>OMOP_4306655</th>\n",
       "      <td>0.078034</td>\n",
       "      <td>0.037716</td>\n",
       "    </tr>\n",
       "  </tbody>\n",
       "</table>\n",
       "</div>"
      ],
      "text/plain": [
       "                       Age+Sex  Age+Sex+Retina\n",
       "eid     endpoint                              \n",
       "1475840 OMOP_4306655  0.115656        0.049050\n",
       "1475895 OMOP_4306655  0.017572        0.010447\n",
       "1475910 OMOP_4306655  0.015858        0.009131\n",
       "1475935 OMOP_4306655  0.029305        0.013193\n",
       "1476077 OMOP_4306655  0.078034        0.037716"
      ]
     },
     "execution_count": 47,
     "metadata": {},
     "output_type": "execute_result"
    }
   ],
   "source": [
    "all_preds.head()"
   ]
  },
  {
   "cell_type": "code",
   "execution_count": 48,
   "id": "e747ef25-70ec-4964-bf94-bc70457a0261",
   "metadata": {
    "execution": {
     "iopub.execute_input": "2022-11-09T10:56:59.977668Z",
     "iopub.status.busy": "2022-11-09T10:56:59.977560Z",
     "iopub.status.idle": "2022-11-09T10:57:00.234204Z",
     "shell.execute_reply": "2022-11-09T10:57:00.233656Z",
     "shell.execute_reply.started": "2022-11-09T10:56:59.977656Z"
    },
    "tags": []
   },
   "outputs": [],
   "source": [
    "## calculate relative risk\n",
    "epsilon = 0.000001\n",
    "all_preds['relative_risks'] = all_preds['Age+Sex+Retina'] / (all_preds['Age+Sex']+epsilon)"
   ]
  },
  {
   "cell_type": "code",
   "execution_count": 49,
   "id": "8b7f4ba4-33f5-4e36-9691-3133b03d1ff8",
   "metadata": {
    "execution": {
     "iopub.execute_input": "2022-11-09T10:57:00.235555Z",
     "iopub.status.busy": "2022-11-09T10:57:00.235242Z",
     "iopub.status.idle": "2022-11-09T10:57:25.258840Z",
     "shell.execute_reply": "2022-11-09T10:57:25.258090Z",
     "shell.execute_reply.started": "2022-11-09T10:57:00.235536Z"
    },
    "tags": []
   },
   "outputs": [],
   "source": [
    "relative_risks = pd.pivot(all_preds.reset_index(), index='eid', columns='endpoint', values='relative_risks')"
   ]
  },
  {
   "cell_type": "code",
   "execution_count": 54,
   "id": "267e4ab5-37a9-4319-b0b7-eb8778d6851a",
   "metadata": {
    "execution": {
     "iopub.execute_input": "2022-11-09T11:03:39.679014Z",
     "iopub.status.busy": "2022-11-09T11:03:39.678240Z",
     "iopub.status.idle": "2022-11-09T11:03:39.694191Z",
     "shell.execute_reply": "2022-11-09T11:03:39.693775Z",
     "shell.execute_reply.started": "2022-11-09T11:03:39.678993Z"
    },
    "tags": []
   },
   "outputs": [
    {
     "data": {
      "text/plain": [
       "(61256, 1171)"
      ]
     },
     "execution_count": 54,
     "metadata": {},
     "output_type": "execute_result"
    }
   ],
   "source": [
    "relative_risks.shape"
   ]
  },
  {
   "cell_type": "code",
   "execution_count": 52,
   "id": "89c5da43-0aa3-49d5-9b56-e3e5e92a313d",
   "metadata": {
    "execution": {
     "iopub.execute_input": "2022-11-09T11:03:10.334573Z",
     "iopub.status.busy": "2022-11-09T11:03:10.334145Z",
     "iopub.status.idle": "2022-11-09T11:03:14.169136Z",
     "shell.execute_reply": "2022-11-09T11:03:14.168549Z",
     "shell.execute_reply.started": "2022-11-09T11:03:10.334555Z"
    },
    "tags": []
   },
   "outputs": [],
   "source": [
    "relative_risks.reset_index().to_feather(f'{experiment_path}/relative_risks_{today}.feather')"
   ]
  },
  {
   "cell_type": "code",
   "execution_count": 53,
   "id": "e26be821-1c41-4dad-84e3-b4dec724e839",
   "metadata": {
    "execution": {
     "iopub.execute_input": "2022-11-09T11:03:15.205025Z",
     "iopub.status.busy": "2022-11-09T11:03:15.204694Z",
     "iopub.status.idle": "2022-11-09T11:03:15.221358Z",
     "shell.execute_reply": "2022-11-09T11:03:15.220992Z",
     "shell.execute_reply.started": "2022-11-09T11:03:15.205009Z"
    },
    "tags": []
   },
   "outputs": [
    {
     "data": {
      "text/plain": [
       "'/sc-projects/sc-proj-ukb-cvd/results/projects/22_retina_phewas/data/221108/relative_risks_221109.feather'"
      ]
     },
     "execution_count": 53,
     "metadata": {},
     "output_type": "execute_result"
    }
   ],
   "source": [
    "f'{experiment_path}/relative_risks_{today}.feather'"
   ]
  },
  {
   "cell_type": "code",
   "execution_count": null,
   "id": "1b022a85-1c34-4ca9-85df-a01eef4df6df",
   "metadata": {},
   "outputs": [],
   "source": []
  },
  {
   "cell_type": "code",
   "execution_count": null,
   "id": "73a8d9eb-dec3-45ad-a00d-d7299f10954b",
   "metadata": {},
   "outputs": [],
   "source": []
  },
  {
   "cell_type": "code",
   "execution_count": null,
   "id": "f74e643a-e7fe-44e4-9b69-11939219b8ad",
   "metadata": {},
   "outputs": [],
   "source": []
  },
  {
   "cell_type": "code",
   "execution_count": null,
   "id": "0d567418-3568-4602-8f02-2d7d32778a25",
   "metadata": {},
   "outputs": [],
   "source": []
  },
  {
   "cell_type": "code",
   "execution_count": 10,
   "id": "53d91354-d1b2-4045-9493-458505deb813",
   "metadata": {
    "execution": {
     "iopub.execute_input": "2022-11-09T10:19:39.355623Z",
     "iopub.status.busy": "2022-11-09T10:19:39.355290Z",
     "iopub.status.idle": "2022-11-09T10:19:39.380659Z",
     "shell.execute_reply": "2022-11-09T10:19:39.380192Z",
     "shell.execute_reply.started": "2022-11-09T10:19:39.355598Z"
    },
    "tags": []
   },
   "outputs": [],
   "source": [
    "preds = pd.read_feather(f'{experiment_path}/coxph/predictions'\\\n",
    "                                    f'/phecode_979_Age+Sex_ImageTraining_[]_ConvNeXt_MLPHead_predictions_cropratio0.66_0.feather')\n"
   ]
  },
  {
   "cell_type": "code",
   "execution_count": 13,
   "id": "eaa1b868-3daa-4393-a2d8-cd96406161c3",
   "metadata": {
    "execution": {
     "iopub.execute_input": "2022-11-09T10:23:43.880113Z",
     "iopub.status.busy": "2022-11-09T10:23:43.879726Z",
     "iopub.status.idle": "2022-11-09T10:23:44.777501Z",
     "shell.execute_reply": "2022-11-09T10:23:44.777033Z",
     "shell.execute_reply.started": "2022-11-09T10:23:43.880095Z"
    },
    "tags": []
   },
   "outputs": [
    {
     "data": {
      "text/html": [
       "<div>\n",
       "<style scoped>\n",
       "    .dataframe tbody tr th:only-of-type {\n",
       "        vertical-align: middle;\n",
       "    }\n",
       "\n",
       "    .dataframe tbody tr th {\n",
       "        vertical-align: top;\n",
       "    }\n",
       "\n",
       "    .dataframe thead th {\n",
       "        text-align: right;\n",
       "    }\n",
       "</style>\n",
       "<table border=\"1\" class=\"dataframe\">\n",
       "  <thead>\n",
       "    <tr style=\"text-align: right;\">\n",
       "      <th></th>\n",
       "      <th>eid</th>\n",
       "      <th>endpoint</th>\n",
       "      <th>Age+Sex</th>\n",
       "    </tr>\n",
       "  </thead>\n",
       "  <tbody>\n",
       "    <tr>\n",
       "      <th>0</th>\n",
       "      <td>1475840</td>\n",
       "      <td>phecode_979</td>\n",
       "      <td>0.003617</td>\n",
       "    </tr>\n",
       "    <tr>\n",
       "      <th>1</th>\n",
       "      <td>1475895</td>\n",
       "      <td>phecode_979</td>\n",
       "      <td>0.001436</td>\n",
       "    </tr>\n",
       "    <tr>\n",
       "      <th>2</th>\n",
       "      <td>1475910</td>\n",
       "      <td>phecode_979</td>\n",
       "      <td>0.001417</td>\n",
       "    </tr>\n",
       "    <tr>\n",
       "      <th>3</th>\n",
       "      <td>1475935</td>\n",
       "      <td>phecode_979</td>\n",
       "      <td>0.001530</td>\n",
       "    </tr>\n",
       "    <tr>\n",
       "      <th>4</th>\n",
       "      <td>1476077</td>\n",
       "      <td>phecode_979</td>\n",
       "      <td>0.003437</td>\n",
       "    </tr>\n",
       "  </tbody>\n",
       "</table>\n",
       "</div>"
      ],
      "text/plain": [
       "       eid     endpoint   Age+Sex\n",
       "0  1475840  phecode_979  0.003617\n",
       "1  1475895  phecode_979  0.001436\n",
       "2  1475910  phecode_979  0.001417\n",
       "3  1475935  phecode_979  0.001530\n",
       "4  1476077  phecode_979  0.003437"
      ]
     },
     "execution_count": 13,
     "metadata": {},
     "output_type": "execute_result"
    }
   ],
   "source": [
    "preds.head()"
   ]
  },
  {
   "cell_type": "code",
   "execution_count": 14,
   "id": "cc81cb69-104c-4a0a-995d-a65a7259bf12",
   "metadata": {
    "execution": {
     "iopub.execute_input": "2022-11-09T10:25:07.176657Z",
     "iopub.status.busy": "2022-11-09T10:25:07.176296Z",
     "iopub.status.idle": "2022-11-09T10:25:08.083284Z",
     "shell.execute_reply": "2022-11-09T10:25:08.082805Z",
     "shell.execute_reply.started": "2022-11-09T10:25:07.176640Z"
    }
   },
   "outputs": [],
   "source": [
    "x = preds.copy()\n",
    "x['TEST'] = 0\n",
    "x.drop('Age+Sex', axis=1, inplace=True)"
   ]
  },
  {
   "cell_type": "code",
   "execution_count": 18,
   "id": "058eb8b3-2d82-497b-a83d-a008e56eab85",
   "metadata": {
    "execution": {
     "iopub.execute_input": "2022-11-09T10:26:32.943596Z",
     "iopub.status.busy": "2022-11-09T10:26:32.943011Z",
     "iopub.status.idle": "2022-11-09T10:26:32.969235Z",
     "shell.execute_reply": "2022-11-09T10:26:32.968772Z",
     "shell.execute_reply.started": "2022-11-09T10:26:32.943574Z"
    },
    "tags": []
   },
   "outputs": [
    {
     "data": {
      "text/html": [
       "<div>\n",
       "<style scoped>\n",
       "    .dataframe tbody tr th:only-of-type {\n",
       "        vertical-align: middle;\n",
       "    }\n",
       "\n",
       "    .dataframe tbody tr th {\n",
       "        vertical-align: top;\n",
       "    }\n",
       "\n",
       "    .dataframe thead th {\n",
       "        text-align: right;\n",
       "    }\n",
       "</style>\n",
       "<table border=\"1\" class=\"dataframe\">\n",
       "  <thead>\n",
       "    <tr style=\"text-align: right;\">\n",
       "      <th></th>\n",
       "      <th></th>\n",
       "      <th>Age+Sex</th>\n",
       "      <th>TEST</th>\n",
       "    </tr>\n",
       "    <tr>\n",
       "      <th>eid</th>\n",
       "      <th>endpoint</th>\n",
       "      <th></th>\n",
       "      <th></th>\n",
       "    </tr>\n",
       "  </thead>\n",
       "  <tbody>\n",
       "    <tr>\n",
       "      <th>1475840</th>\n",
       "      <th>phecode_979</th>\n",
       "      <td>0.003617</td>\n",
       "      <td>0</td>\n",
       "    </tr>\n",
       "    <tr>\n",
       "      <th>1475895</th>\n",
       "      <th>phecode_979</th>\n",
       "      <td>0.001436</td>\n",
       "      <td>0</td>\n",
       "    </tr>\n",
       "    <tr>\n",
       "      <th>1475910</th>\n",
       "      <th>phecode_979</th>\n",
       "      <td>0.001417</td>\n",
       "      <td>0</td>\n",
       "    </tr>\n",
       "    <tr>\n",
       "      <th>1475935</th>\n",
       "      <th>phecode_979</th>\n",
       "      <td>0.001530</td>\n",
       "      <td>0</td>\n",
       "    </tr>\n",
       "    <tr>\n",
       "      <th>1476077</th>\n",
       "      <th>phecode_979</th>\n",
       "      <td>0.003437</td>\n",
       "      <td>0</td>\n",
       "    </tr>\n",
       "    <tr>\n",
       "      <th>...</th>\n",
       "      <th>...</th>\n",
       "      <td>...</td>\n",
       "      <td>...</td>\n",
       "    </tr>\n",
       "    <tr>\n",
       "      <th>1917524</th>\n",
       "      <th>phecode_979</th>\n",
       "      <td>0.001611</td>\n",
       "      <td>0</td>\n",
       "    </tr>\n",
       "    <tr>\n",
       "      <th>1917552</th>\n",
       "      <th>phecode_979</th>\n",
       "      <td>0.001550</td>\n",
       "      <td>0</td>\n",
       "    </tr>\n",
       "    <tr>\n",
       "      <th>1917606</th>\n",
       "      <th>phecode_979</th>\n",
       "      <td>0.001347</td>\n",
       "      <td>0</td>\n",
       "    </tr>\n",
       "    <tr>\n",
       "      <th>1917621</th>\n",
       "      <th>phecode_979</th>\n",
       "      <td>0.003025</td>\n",
       "      <td>0</td>\n",
       "    </tr>\n",
       "    <tr>\n",
       "      <th>1917759</th>\n",
       "      <th>phecode_979</th>\n",
       "      <td>0.003526</td>\n",
       "      <td>0</td>\n",
       "    </tr>\n",
       "  </tbody>\n",
       "</table>\n",
       "<p>5556 rows × 2 columns</p>\n",
       "</div>"
      ],
      "text/plain": [
       "                      Age+Sex  TEST\n",
       "eid     endpoint                   \n",
       "1475840 phecode_979  0.003617     0\n",
       "1475895 phecode_979  0.001436     0\n",
       "1475910 phecode_979  0.001417     0\n",
       "1475935 phecode_979  0.001530     0\n",
       "1476077 phecode_979  0.003437     0\n",
       "...                       ...   ...\n",
       "1917524 phecode_979  0.001611     0\n",
       "1917552 phecode_979  0.001550     0\n",
       "1917606 phecode_979  0.001347     0\n",
       "1917621 phecode_979  0.003025     0\n",
       "1917759 phecode_979  0.003526     0\n",
       "\n",
       "[5556 rows x 2 columns]"
      ]
     },
     "execution_count": 18,
     "metadata": {},
     "output_type": "execute_result"
    }
   ],
   "source": [
    "preds.set_index(['eid', 'endpoint'])."
   ]
  },
  {
   "cell_type": "code",
   "execution_count": null,
   "id": "4ab3ff82-34d5-4028-9e2f-dc8577e8a416",
   "metadata": {},
   "outputs": [],
   "source": []
  },
  {
   "cell_type": "code",
   "execution_count": 5,
   "id": "4bb4511e-6d77-423b-bea8-2a377c95e7c2",
   "metadata": {
    "tags": []
   },
   "outputs": [],
   "source": [
    "data_outcomes = pd.read_feather(f\"{output_path}/baseline_outcomes_220627.feather\").set_index(\"eid\")\n",
    "data_outcomes = data_outcomes[[c for c in data_outcomes.columns if \"_event\" in c and c[:-6] in endpoints]]"
   ]
  },
  {
   "cell_type": "code",
   "execution_count": 6,
   "id": "c4fc109a-5cf2-416b-a91e-7c3f6d290c7f",
   "metadata": {
    "tags": []
   },
   "outputs": [],
   "source": [
    "data_records = pd.read_feather(f\"{output_path}/baseline_records_220627.feather\").set_index(\"eid\")"
   ]
  },
  {
   "cell_type": "code",
   "execution_count": 7,
   "id": "4a0cea3f-4bf6-4a51-83a7-4ef64e66eaf7",
   "metadata": {
    "tags": []
   },
   "outputs": [
    {
     "data": {
      "application/vnd.jupyter.widget-view+json": {
       "model_id": "238ac93e0ad4464f9fd3f691c37f927c",
       "version_major": 2,
       "version_minor": 0
      },
      "text/plain": [
       "  0%|          | 0/73871 [00:00<?, ?it/s]"
      ]
     },
     "metadata": {},
     "output_type": "display_data"
    }
   ],
   "source": [
    "data_records = data_records[[c for c in tqdm(data_records.columns.to_list()) if \"OMOP_\" in c]]"
   ]
  },
  {
   "cell_type": "code",
   "execution_count": 8,
   "id": "4b4e1504-6b48-4a0f-880c-ffc7d1408529",
   "metadata": {
    "tags": []
   },
   "outputs": [],
   "source": [
    "records = data_records.columns.to_list()"
   ]
  },
  {
   "cell_type": "code",
   "execution_count": 9,
   "id": "20169c12-8013-4453-b804-1b8a737286eb",
   "metadata": {
    "tags": []
   },
   "outputs": [],
   "source": [
    "data_all = data_records.merge(data_outcomes, left_index=True, right_index=True, how=\"left\")"
   ]
  },
  {
   "cell_type": "code",
   "execution_count": 10,
   "id": "55c056f6-af92-4094-a0b4-00ad49f6050a",
   "metadata": {
    "tags": []
   },
   "outputs": [],
   "source": [
    "eligable_eids = pd.read_feather(f\"{output_path}/eligable_eids_2022-07-01.feather\")\n",
    "eids_dict = eligable_eids.set_index(\"endpoint\")[\"eid_list\"].to_dict()"
   ]
  },
  {
   "cell_type": "code",
   "execution_count": 11,
   "id": "16901ef9-c9f3-4023-bd84-e41bed551859",
   "metadata": {
    "tags": []
   },
   "outputs": [
    {
     "data": {
      "text/plain": [
       "OMOP_4081598    307739\n",
       "OMOP_4052351    270116\n",
       "OMOP_4061103    263319\n",
       "OMOP_4144272    247882\n",
       "OMOP_4057411    221203\n",
       "                 ...  \n",
       "OMOP_4039277        50\n",
       "OMOP_4116240        50\n",
       "OMOP_4050692        50\n",
       "OMOP_4209141        50\n",
       "OMOP_4171619        50\n",
       "Length: 15595, dtype: int64"
      ]
     },
     "execution_count": 11,
     "metadata": {},
     "output_type": "execute_result"
    }
   ],
   "source": [
    "record_freqs = data_records.sum().sort_values(ascending=False).pipe(lambda x: x[x>=50])\n",
    "record_freqs"
   ]
  },
  {
   "cell_type": "code",
   "execution_count": null,
   "id": "8d3628d5-b5e4-4437-9f88-bf0e65ee8660",
   "metadata": {},
   "outputs": [],
   "source": []
  },
  {
   "cell_type": "code",
   "execution_count": null,
   "id": "8c1904af-d730-4ba1-a7a6-bc6710a7f45e",
   "metadata": {},
   "outputs": [],
   "source": []
  },
  {
   "cell_type": "code",
   "execution_count": null,
   "id": "33902c93-c27e-4ffa-8a39-9844566a30a3",
   "metadata": {},
   "outputs": [],
   "source": []
  },
  {
   "cell_type": "code",
   "execution_count": 4,
   "id": "65a88853-25c3-4a6d-9a2e-d96f69982394",
   "metadata": {
    "execution": {
     "iopub.execute_input": "2022-11-05T14:20:54.814443Z",
     "iopub.status.busy": "2022-11-05T14:20:54.812894Z",
     "iopub.status.idle": "2022-11-05T14:20:54.835939Z",
     "shell.execute_reply": "2022-11-05T14:20:54.834128Z"
    },
    "tags": []
   },
   "outputs": [],
   "source": [
    "endpoints_md = fread(glue(\"{experiment_path}/endpoints.csv\"), colClasses=c(\"phecode\"=\"character\"))\n",
    "endpoints = sort(endpoints_md$endpoint)"
   ]
  },
  {
   "cell_type": "code",
   "execution_count": 5,
   "id": "9b090adf-e5b4-4b6e-b254-8a152e2f3e88",
   "metadata": {
    "execution": {
     "iopub.execute_input": "2022-11-05T14:20:54.840065Z",
     "iopub.status.busy": "2022-11-05T14:20:54.838421Z",
     "iopub.status.idle": "2022-11-05T14:20:56.971751Z",
     "shell.execute_reply": "2022-11-05T14:20:56.969086Z"
    },
    "tags": []
   },
   "outputs": [],
   "source": [
    "endpoint_defs = arrow::read_feather(glue(\"{output_path}/phecode_defs_220306.feather\")) %>% arrange(endpoint)"
   ]
  },
  {
   "cell_type": "code",
   "execution_count": 6,
   "id": "875241e5-126a-41ed-8b6f-dab4a2b3c47a",
   "metadata": {
    "execution": {
     "iopub.execute_input": "2022-11-05T14:20:56.976139Z",
     "iopub.status.busy": "2022-11-05T14:20:56.974597Z",
     "iopub.status.idle": "2022-11-05T14:20:56.995365Z",
     "shell.execute_reply": "2022-11-05T14:20:56.993485Z"
    },
    "tags": []
   },
   "outputs": [],
   "source": [
    "endpoint_selection = c(\n",
    "    # generally very important\n",
    "    \"phecode_202\", # Diabetes mellitus\n",
    "    \"phecode_404\", # Ischemic heart disease\n",
    "    \"phecode_404-1\", # Myocardial infarction [Heart attack]\n",
    "    \"phecode_431-11\", # Cerebral infarction [Ischemic stroke]\n",
    "    \"phecode_424\", # Heart failure\n",
    "    \"OMOP_4306655\", # All-Cause Death\n",
    "    # also generally important and relevant\n",
    "    #\"phecode_440-3\", # Pulmonary embolism\n",
    "    #\"phecode_468-1\",\t#Viral pneumonia\n",
    "    \"phecode_401\",\t#Hypertension\"\n",
    "    \"phecode_460-2\",\t#Acute lower respiratory infection\n",
    "    \"phecode_468\", # Pneumonia\n",
    "    \"phecode_474\", # Chronic obstructive pulmonary disease [COPD]\n",
    "    \"phecode_542\", # Chronic liver disease and sequelae\n",
    "    \"phecode_583\", # Chronic kidney disease\n",
    "    \"phecode_328\", # Dementias and cerebral degeneration\n",
    "    \n",
    "    \n",
    "    # generally important and fun to check\n",
    "    \"phecode_164\", # Anemia\n",
    "   # \"phecode_726-1\", # Osteoporosis\n",
    "    \"phecode_286-2\", #\tMajor depressive disorder\n",
    "    \"phecode_103\", # Malignant neoplasm of the skin\n",
    "    \"phecode_101\", # Malignant neoplasm of the digestive organs\n",
    "    #\"phecode_665\", # Psoriasis\n",
    "    \"phecode_121\", # Leukemia\n",
    "    \"phecode_705-1\", # Rheumatoid arthritis\n",
    "    \n",
    "    \n",
    "    # important for eye\n",
    "    \"phecode_371\", # Cataract\n",
    "   # \"phecode_374-3\", # Retinal vascular changes and occlusions\n",
    "    \"phecode_374-42\", # Diabetic retinopathy\n",
    "    \"phecode_374-5\", # Macular degeneration\n",
    "    \"phecode_375-1\" # Glaucoma\n",
    "    #\"phecode_388\" # Blindness and low vision\n",
    ")\n",
    "\n",
    "endpoints_common = c(\n",
    "   'phecode_164', #Anemia\n",
    " 'phecode_705-1', #Rheumatoid arthritis\n",
    " 'phecode_328', #Dementias and cerebral degeneration\n",
    " 'phecode_328-1', #Alzheimer's disease\n",
    " 'phecode_401', #Hypertension\n",
    " 'phecode_202', #Diabetes mellitus\n",
    " 'phecode_416-21', #Atrial fibrillation\n",
    " 'phecode_404-1', #Myocardial infarction [Heart attack]\n",
    " 'phecode_424', #Heart failure\n",
    " 'phecode_468', #Pneumonia\n",
    " 'phecode_474', #Chronic obstructive pulmonary disease [COPD]\n",
    " 'phecode_583', #Chronic kidney disease\n",
    " 'OMOP_4306655' #All-Cause Death\n",
    "    )\n",
    "    \n",
    "endpoints_cardio = c(\n",
    "    'phecode_438-11',   #  \"Abdominal aortic aneurysm\",\n",
    "    'phecode_440-3',#  \"Pulmonary embolism\", # intervention\n",
    "    'phecode_413-21',#  \"Aortic stenosis\", # intervention\n",
    "    'phecode_400'#  \"Rheumatic fever and chronic rheumatic heart diseases\",\t\n",
    ")\n",
    "\n",
    "endpoints_eye= c(\n",
    "    'phecode_374-5', #Macular degeneration\n",
    " 'phecode_374-51', #Age-related macular degeneration\n",
    " 'phecode_374-42', #Diabetic retinopathy\n",
    " 'phecode_371', #Cataract\n",
    " 'phecode_388', #Blindness and low vision\n",
    " 'phecode_367-5', #Uveitis\n",
    " 'phecode_389-1' #Ocular pain\n",
    ")"
   ]
  },
  {
   "cell_type": "code",
   "execution_count": 7,
   "id": "af8480ff-6ab8-4a14-ab0a-cffbebbb685e",
   "metadata": {
    "execution": {
     "iopub.execute_input": "2022-11-05T14:20:56.999475Z",
     "iopub.status.busy": "2022-11-05T14:20:56.997959Z",
     "iopub.status.idle": "2022-11-05T14:20:57.040244Z",
     "shell.execute_reply": "2022-11-05T14:20:57.037971Z"
    },
    "tags": []
   },
   "outputs": [],
   "source": [
    "endpoint_defs = endpoint_defs %>% \n",
    "    mutate(name = phecode_string) %>%\n",
    "    mutate(name = \n",
    "           case_when( \n",
    "               phecode_string == \"Myocardial infarction [Heart attack]\"~\"Myocardial infarction\",\n",
    "               phecode_string == \"Cerebral infarction [Ischemic stroke]\"~\"Ischemic stroke\",\n",
    "               phecode_string == \"Chronic obstructive pulmonary disease [COPD]\"~\"Chronic obstructive pulmonary disease\",\n",
    "               phecode_string == \"Mitral valve insufficiency\"~\"Mitral insufficiency\",\n",
    "               phecode_string == \"Parkinson's disease (Primary)\"~\"Parkinson's disease\",\n",
    "               phecode_string == \"Suicide ideation and attempt or self harm\"~\"Suicide attempt\",\n",
    "               phecode_string == \"Ischemic heart disease\"~\"Coronary heart disease\",\n",
    "               phecode_string == \"Chronic kidney disease\"~\"Chronic kidney disease\",\n",
    "               phecode_string == \"Rheumatic fever and chronic rheumatic heart diseases\"~\"Rheumatic heart disease\",\n",
    "               phecode_string == \"Abdominal aortic aneurysm\"~\"Abdominal aortic aneurysm\",\n",
    "                  TRUE ~ name)\n",
    "           )\n",
    "            \n",
    "endpoint_map = endpoint_defs$name\n",
    "names(endpoint_map) =  endpoint_defs$endpoint\n",
    "#endpoint_order = (endpoint_defs %>% arrange(as.numeric(phecode)))$endpoint\n",
    "endpoint_order = endpoint_selection"
   ]
  },
  {
   "cell_type": "code",
   "execution_count": 8,
   "id": "6f2a70d5-5697-4876-9731-eeb4a80a4d14",
   "metadata": {
    "execution": {
     "iopub.execute_input": "2022-11-05T14:20:57.044840Z",
     "iopub.status.busy": "2022-11-05T14:20:57.043136Z",
     "iopub.status.idle": "2022-11-05T14:20:57.081980Z",
     "shell.execute_reply": "2022-11-05T14:20:57.080026Z"
    },
    "tags": []
   },
   "outputs": [
    {
     "data": {
      "text/html": [
       "<style>\n",
       ".list-inline {list-style: none; margin:0; padding: 0}\n",
       ".list-inline>li {display: inline-block}\n",
       ".list-inline>li:not(:last-child)::after {content: \"\\00b7\"; padding: 0 .5ex}\n",
       "</style>\n",
       "<ol class=list-inline><li>'phecode_202'</li><li>'phecode_404'</li><li>'phecode_404.1'</li><li>'phecode_431.11'</li><li>'phecode_424'</li><li>'OMOP_4306655'</li><li>'phecode_401'</li><li>'phecode_460.2'</li><li>'phecode_468'</li><li>'phecode_474'</li><li>'phecode_542'</li><li>'phecode_583'</li><li>'phecode_328'</li><li>'phecode_164'</li><li>'phecode_286.2'</li><li>'phecode_103'</li><li>'phecode_101'</li><li>'phecode_121'</li><li>'phecode_705.1'</li><li>'phecode_371'</li><li>'phecode_374.42'</li><li>'phecode_374.5'</li><li>'phecode_375.1'</li></ol>\n"
      ],
      "text/latex": [
       "\\begin{enumerate*}\n",
       "\\item 'phecode\\_202'\n",
       "\\item 'phecode\\_404'\n",
       "\\item 'phecode\\_404.1'\n",
       "\\item 'phecode\\_431.11'\n",
       "\\item 'phecode\\_424'\n",
       "\\item 'OMOP\\_4306655'\n",
       "\\item 'phecode\\_401'\n",
       "\\item 'phecode\\_460.2'\n",
       "\\item 'phecode\\_468'\n",
       "\\item 'phecode\\_474'\n",
       "\\item 'phecode\\_542'\n",
       "\\item 'phecode\\_583'\n",
       "\\item 'phecode\\_328'\n",
       "\\item 'phecode\\_164'\n",
       "\\item 'phecode\\_286.2'\n",
       "\\item 'phecode\\_103'\n",
       "\\item 'phecode\\_101'\n",
       "\\item 'phecode\\_121'\n",
       "\\item 'phecode\\_705.1'\n",
       "\\item 'phecode\\_371'\n",
       "\\item 'phecode\\_374.42'\n",
       "\\item 'phecode\\_374.5'\n",
       "\\item 'phecode\\_375.1'\n",
       "\\end{enumerate*}\n"
      ],
      "text/markdown": [
       "1. 'phecode_202'\n",
       "2. 'phecode_404'\n",
       "3. 'phecode_404.1'\n",
       "4. 'phecode_431.11'\n",
       "5. 'phecode_424'\n",
       "6. 'OMOP_4306655'\n",
       "7. 'phecode_401'\n",
       "8. 'phecode_460.2'\n",
       "9. 'phecode_468'\n",
       "10. 'phecode_474'\n",
       "11. 'phecode_542'\n",
       "12. 'phecode_583'\n",
       "13. 'phecode_328'\n",
       "14. 'phecode_164'\n",
       "15. 'phecode_286.2'\n",
       "16. 'phecode_103'\n",
       "17. 'phecode_101'\n",
       "18. 'phecode_121'\n",
       "19. 'phecode_705.1'\n",
       "20. 'phecode_371'\n",
       "21. 'phecode_374.42'\n",
       "22. 'phecode_374.5'\n",
       "23. 'phecode_375.1'\n",
       "\n",
       "\n"
      ],
      "text/plain": [
       " [1] \"phecode_202\"    \"phecode_404\"    \"phecode_404.1\"  \"phecode_431.11\"\n",
       " [5] \"phecode_424\"    \"OMOP_4306655\"   \"phecode_401\"    \"phecode_460.2\" \n",
       " [9] \"phecode_468\"    \"phecode_474\"    \"phecode_542\"    \"phecode_583\"   \n",
       "[13] \"phecode_328\"    \"phecode_164\"    \"phecode_286.2\"  \"phecode_103\"   \n",
       "[17] \"phecode_101\"    \"phecode_121\"    \"phecode_705.1\"  \"phecode_371\"   \n",
       "[21] \"phecode_374.42\" \"phecode_374.5\"  \"phecode_375.1\" "
      ]
     },
     "metadata": {},
     "output_type": "display_data"
    }
   ],
   "source": [
    "str_replace_all(endpoint_selection, \"\\\\-\", \"\\\\.\")"
   ]
  },
  {
   "cell_type": "code",
   "execution_count": 9,
   "id": "52a72198-30b8-4e43-891c-1ad1079ab054",
   "metadata": {
    "execution": {
     "iopub.execute_input": "2022-11-05T14:20:57.086361Z",
     "iopub.status.busy": "2022-11-05T14:20:57.084649Z",
     "iopub.status.idle": "2022-11-05T14:20:57.321967Z",
     "shell.execute_reply": "2022-11-05T14:20:57.320051Z"
    },
    "tags": []
   },
   "outputs": [
    {
     "data": {
      "text/html": [
       "<table class=\"dataframe\">\n",
       "<caption>A tibble: 23 × 13</caption>\n",
       "<thead>\n",
       "\t<tr><th scope=col>V1</th><th scope=col>endpoint</th><th scope=col>eligable</th><th scope=col>n</th><th scope=col>freq</th><th scope=col>phecode</th><th scope=col>phecode_string</th><th scope=col>phecode_category</th><th scope=col>sex</th><th scope=col>ICD10_only</th><th scope=col>phecode_top</th><th scope=col>leaf</th><th scope=col>perc</th></tr>\n",
       "\t<tr><th scope=col>&lt;int&gt;</th><th scope=col>&lt;chr&gt;</th><th scope=col>&lt;int&gt;</th><th scope=col>&lt;int&gt;</th><th scope=col>&lt;dbl&gt;</th><th scope=col>&lt;chr&gt;</th><th scope=col>&lt;chr&gt;</th><th scope=col>&lt;chr&gt;</th><th scope=col>&lt;chr&gt;</th><th scope=col>&lt;dbl&gt;</th><th scope=col>&lt;int&gt;</th><th scope=col>&lt;dbl&gt;</th><th scope=col>&lt;dbl&gt;</th></tr>\n",
       "</thead>\n",
       "<tbody>\n",
       "\t<tr><td> 86</td><td>Leukemia                                  </td><td>61142</td><td>  263</td><td>0.004301462</td><td>121    </td><td>Leukemia                                    </td><td>Neoplasms    </td><td>Both</td><td> 0</td><td>121</td><td> 0</td><td> 0.4301462</td></tr>\n",
       "\t<tr><td>998</td><td>Rheumatoid arthritis                      </td><td>60634</td><td>  820</td><td>0.013523766</td><td>705.1  </td><td>Rheumatoid arthritis                        </td><td>Musc/Skel    </td><td>Both</td><td> 0</td><td>705</td><td> 0</td><td> 1.3523766</td></tr>\n",
       "\t<tr><td>297</td><td>Dementias and cerebral degeneration       </td><td>61233</td><td>  968</td><td>0.015808469</td><td>328    </td><td>Dementias and cerebral degeneration         </td><td>Neuro        </td><td>Both</td><td> 0</td><td>328</td><td> 0</td><td> 1.5808469</td></tr>\n",
       "\t<tr><td>568</td><td>Ischemic stroke                           </td><td>60849</td><td> 1157</td><td>0.019014281</td><td>431.11 </td><td>Cerebral infarction [Ischemic stroke]       </td><td>Cardio       </td><td>Both</td><td> 0</td><td>431</td><td> 1</td><td> 1.9014281</td></tr>\n",
       "\t<tr><td> 41</td><td>Malignant neoplasm of the digestive organs</td><td>60713</td><td> 1652</td><td>0.027209988</td><td>101    </td><td>Malignant neoplasm of the digestive organs  </td><td>Neoplasms    </td><td>Both</td><td> 0</td><td>101</td><td> 0</td><td> 2.7209988</td></tr>\n",
       "\t<tr><td>430</td><td>Glaucoma                                  </td><td>60486</td><td> 1664</td><td>0.027510498</td><td>375.1  </td><td>Glaucoma                                    </td><td>Eye          </td><td>Both</td><td> 0</td><td>375</td><td> 0</td><td> 2.7510498</td></tr>\n",
       "\t<tr><td>421</td><td>Diabetic retinopathy                      </td><td>60400</td><td> 1760</td><td>0.029139073</td><td>374.42 </td><td>Diabetic retinopathy                        </td><td>Eye          </td><td>Both</td><td> 0</td><td>374</td><td> 1</td><td> 2.9139073</td></tr>\n",
       "\t<tr><td>505</td><td>Myocardial infarction                     </td><td>60213</td><td> 1800</td><td>0.029893877</td><td>404.1  </td><td>Myocardial infarction [Heart attack]        </td><td>Cardio       </td><td>Both</td><td> 0</td><td>404</td><td> 0</td><td> 2.9893877</td></tr>\n",
       "\t<tr><td>422</td><td>Macular degeneration                      </td><td>60918</td><td> 1816</td><td>0.029810565</td><td>374.5  </td><td>Macular degeneration                        </td><td>Eye          </td><td>Both</td><td> 0</td><td>374</td><td> 0</td><td> 2.9810565</td></tr>\n",
       "\t<tr><td>556</td><td>Heart failure                             </td><td>60846</td><td> 1996</td><td>0.032804128</td><td>424    </td><td>Heart failure                               </td><td>Cardio       </td><td>Both</td><td> 0</td><td>424</td><td> 0</td><td> 3.2804128</td></tr>\n",
       "\t<tr><td>765</td><td>Chronic liver disease and sequelae        </td><td>60689</td><td> 2124</td><td>0.034998105</td><td>542    </td><td>Chronic liver disease and sequelae          </td><td>GI           </td><td>Both</td><td> 0</td><td>542</td><td> 0</td><td> 3.4998105</td></tr>\n",
       "\t<tr><td>639</td><td>Chronic obstructive pulmonary disease     </td><td>60402</td><td> 2406</td><td>0.039833118</td><td>474    </td><td>Chronic obstructive pulmonary disease [COPD]</td><td>Resp         </td><td>Both</td><td> 0</td><td>474</td><td> 0</td><td> 3.9833118</td></tr>\n",
       "\t<tr><td>625</td><td>Pneumonia                                 </td><td>59697</td><td> 3199</td><td>0.053587282</td><td>468    </td><td>Pneumonia                                   </td><td>Resp         </td><td>Both</td><td> 0</td><td>468</td><td> 0</td><td> 5.3587282</td></tr>\n",
       "\t<tr><td>803</td><td>Chronic kidney disease                    </td><td>59363</td><td> 3206</td><td>0.054006705</td><td>583    </td><td>Chronic kidney disease                      </td><td>Genitourinary</td><td>Both</td><td> 0</td><td>583</td><td> 0</td><td> 5.4006705</td></tr>\n",
       "\t<tr><td>  0</td><td>All-Cause Death                           </td><td>61256</td><td> 3490</td><td>0.056974011</td><td>4306655</td><td>All-Cause Death                             </td><td>Death        </td><td>Both</td><td>NA</td><td> NA</td><td>NA</td><td> 5.6974011</td></tr>\n",
       "\t<tr><td> 51</td><td>Malignant neoplasm of the skin            </td><td>59332</td><td> 3620</td><td>0.061012607</td><td>103    </td><td>Malignant neoplasm of the skin              </td><td>Neoplasms    </td><td>Both</td><td> 0</td><td>103</td><td> 0</td><td> 6.1012607</td></tr>\n",
       "\t<tr><td>504</td><td>Coronary heart disease                    </td><td>58791</td><td> 4055</td><td>0.068973142</td><td>404    </td><td>Ischemic heart disease                      </td><td>Cardio       </td><td>Both</td><td> 0</td><td>404</td><td> 0</td><td> 6.8973142</td></tr>\n",
       "\t<tr><td>184</td><td>Diabetes mellitus                         </td><td>57936</td><td> 4259</td><td>0.073512151</td><td>202    </td><td>Diabetes mellitus                           </td><td>Endo         </td><td>Both</td><td> 0</td><td>202</td><td> 0</td><td> 7.3512151</td></tr>\n",
       "\t<tr><td>263</td><td>Major depressive disorder                 </td><td>52388</td><td> 4781</td><td>0.091261358</td><td>286.2  </td><td>Major depressive disorder                   </td><td>Mental       </td><td>Both</td><td> 0</td><td>286</td><td> 0</td><td> 9.1261358</td></tr>\n",
       "\t<tr><td>138</td><td>Anemia                                    </td><td>57646</td><td> 4887</td><td>0.084776047</td><td>164    </td><td>Anemia                                      </td><td>Blood        </td><td>Both</td><td> 0</td><td>164</td><td> 0</td><td> 8.4776047</td></tr>\n",
       "\t<tr><td>410</td><td>Cataract                                  </td><td>59805</td><td> 6798</td><td>0.113669426</td><td>371    </td><td>Cataract                                    </td><td>Eye          </td><td>Both</td><td> 0</td><td>371</td><td> 0</td><td>11.3669426</td></tr>\n",
       "\t<tr><td>605</td><td>Acute lower respiratory infection         </td><td>52240</td><td> 9705</td><td>0.185777182</td><td>460.2  </td><td>Acute lower respiratory infection           </td><td>Resp         </td><td>Both</td><td> 0</td><td>460</td><td> 1</td><td>18.5777182</td></tr>\n",
       "\t<tr><td>498</td><td>Hypertension                              </td><td>48591</td><td>11114</td><td>0.228725484</td><td>401    </td><td>Hypertension                                </td><td>Cardio       </td><td>Both</td><td> 0</td><td>401</td><td> 0</td><td>22.8725484</td></tr>\n",
       "</tbody>\n",
       "</table>\n"
      ],
      "text/latex": [
       "A tibble: 23 × 13\n",
       "\\begin{tabular}{lllllllllllll}\n",
       " V1 & endpoint & eligable & n & freq & phecode & phecode\\_string & phecode\\_category & sex & ICD10\\_only & phecode\\_top & leaf & perc\\\\\n",
       " <int> & <chr> & <int> & <int> & <dbl> & <chr> & <chr> & <chr> & <chr> & <dbl> & <int> & <dbl> & <dbl>\\\\\n",
       "\\hline\n",
       "\t  86 & Leukemia                                   & 61142 &   263 & 0.004301462 & 121     & Leukemia                                     & Neoplasms     & Both &  0 & 121 &  0 &  0.4301462\\\\\n",
       "\t 998 & Rheumatoid arthritis                       & 60634 &   820 & 0.013523766 & 705.1   & Rheumatoid arthritis                         & Musc/Skel     & Both &  0 & 705 &  0 &  1.3523766\\\\\n",
       "\t 297 & Dementias and cerebral degeneration        & 61233 &   968 & 0.015808469 & 328     & Dementias and cerebral degeneration          & Neuro         & Both &  0 & 328 &  0 &  1.5808469\\\\\n",
       "\t 568 & Ischemic stroke                            & 60849 &  1157 & 0.019014281 & 431.11  & Cerebral infarction {[}Ischemic stroke{]}        & Cardio        & Both &  0 & 431 &  1 &  1.9014281\\\\\n",
       "\t  41 & Malignant neoplasm of the digestive organs & 60713 &  1652 & 0.027209988 & 101     & Malignant neoplasm of the digestive organs   & Neoplasms     & Both &  0 & 101 &  0 &  2.7209988\\\\\n",
       "\t 430 & Glaucoma                                   & 60486 &  1664 & 0.027510498 & 375.1   & Glaucoma                                     & Eye           & Both &  0 & 375 &  0 &  2.7510498\\\\\n",
       "\t 421 & Diabetic retinopathy                       & 60400 &  1760 & 0.029139073 & 374.42  & Diabetic retinopathy                         & Eye           & Both &  0 & 374 &  1 &  2.9139073\\\\\n",
       "\t 505 & Myocardial infarction                      & 60213 &  1800 & 0.029893877 & 404.1   & Myocardial infarction {[}Heart attack{]}         & Cardio        & Both &  0 & 404 &  0 &  2.9893877\\\\\n",
       "\t 422 & Macular degeneration                       & 60918 &  1816 & 0.029810565 & 374.5   & Macular degeneration                         & Eye           & Both &  0 & 374 &  0 &  2.9810565\\\\\n",
       "\t 556 & Heart failure                              & 60846 &  1996 & 0.032804128 & 424     & Heart failure                                & Cardio        & Both &  0 & 424 &  0 &  3.2804128\\\\\n",
       "\t 765 & Chronic liver disease and sequelae         & 60689 &  2124 & 0.034998105 & 542     & Chronic liver disease and sequelae           & GI            & Both &  0 & 542 &  0 &  3.4998105\\\\\n",
       "\t 639 & Chronic obstructive pulmonary disease      & 60402 &  2406 & 0.039833118 & 474     & Chronic obstructive pulmonary disease {[}COPD{]} & Resp          & Both &  0 & 474 &  0 &  3.9833118\\\\\n",
       "\t 625 & Pneumonia                                  & 59697 &  3199 & 0.053587282 & 468     & Pneumonia                                    & Resp          & Both &  0 & 468 &  0 &  5.3587282\\\\\n",
       "\t 803 & Chronic kidney disease                     & 59363 &  3206 & 0.054006705 & 583     & Chronic kidney disease                       & Genitourinary & Both &  0 & 583 &  0 &  5.4006705\\\\\n",
       "\t   0 & All-Cause Death                            & 61256 &  3490 & 0.056974011 & 4306655 & All-Cause Death                              & Death         & Both & NA &  NA & NA &  5.6974011\\\\\n",
       "\t  51 & Malignant neoplasm of the skin             & 59332 &  3620 & 0.061012607 & 103     & Malignant neoplasm of the skin               & Neoplasms     & Both &  0 & 103 &  0 &  6.1012607\\\\\n",
       "\t 504 & Coronary heart disease                     & 58791 &  4055 & 0.068973142 & 404     & Ischemic heart disease                       & Cardio        & Both &  0 & 404 &  0 &  6.8973142\\\\\n",
       "\t 184 & Diabetes mellitus                          & 57936 &  4259 & 0.073512151 & 202     & Diabetes mellitus                            & Endo          & Both &  0 & 202 &  0 &  7.3512151\\\\\n",
       "\t 263 & Major depressive disorder                  & 52388 &  4781 & 0.091261358 & 286.2   & Major depressive disorder                    & Mental        & Both &  0 & 286 &  0 &  9.1261358\\\\\n",
       "\t 138 & Anemia                                     & 57646 &  4887 & 0.084776047 & 164     & Anemia                                       & Blood         & Both &  0 & 164 &  0 &  8.4776047\\\\\n",
       "\t 410 & Cataract                                   & 59805 &  6798 & 0.113669426 & 371     & Cataract                                     & Eye           & Both &  0 & 371 &  0 & 11.3669426\\\\\n",
       "\t 605 & Acute lower respiratory infection          & 52240 &  9705 & 0.185777182 & 460.2   & Acute lower respiratory infection            & Resp          & Both &  0 & 460 &  1 & 18.5777182\\\\\n",
       "\t 498 & Hypertension                               & 48591 & 11114 & 0.228725484 & 401     & Hypertension                                 & Cardio        & Both &  0 & 401 &  0 & 22.8725484\\\\\n",
       "\\end{tabular}\n"
      ],
      "text/markdown": [
       "\n",
       "A tibble: 23 × 13\n",
       "\n",
       "| V1 &lt;int&gt; | endpoint &lt;chr&gt; | eligable &lt;int&gt; | n &lt;int&gt; | freq &lt;dbl&gt; | phecode &lt;chr&gt; | phecode_string &lt;chr&gt; | phecode_category &lt;chr&gt; | sex &lt;chr&gt; | ICD10_only &lt;dbl&gt; | phecode_top &lt;int&gt; | leaf &lt;dbl&gt; | perc &lt;dbl&gt; |\n",
       "|---|---|---|---|---|---|---|---|---|---|---|---|---|\n",
       "|  86 | Leukemia                                   | 61142 |   263 | 0.004301462 | 121     | Leukemia                                     | Neoplasms     | Both |  0 | 121 |  0 |  0.4301462 |\n",
       "| 998 | Rheumatoid arthritis                       | 60634 |   820 | 0.013523766 | 705.1   | Rheumatoid arthritis                         | Musc/Skel     | Both |  0 | 705 |  0 |  1.3523766 |\n",
       "| 297 | Dementias and cerebral degeneration        | 61233 |   968 | 0.015808469 | 328     | Dementias and cerebral degeneration          | Neuro         | Both |  0 | 328 |  0 |  1.5808469 |\n",
       "| 568 | Ischemic stroke                            | 60849 |  1157 | 0.019014281 | 431.11  | Cerebral infarction [Ischemic stroke]        | Cardio        | Both |  0 | 431 |  1 |  1.9014281 |\n",
       "|  41 | Malignant neoplasm of the digestive organs | 60713 |  1652 | 0.027209988 | 101     | Malignant neoplasm of the digestive organs   | Neoplasms     | Both |  0 | 101 |  0 |  2.7209988 |\n",
       "| 430 | Glaucoma                                   | 60486 |  1664 | 0.027510498 | 375.1   | Glaucoma                                     | Eye           | Both |  0 | 375 |  0 |  2.7510498 |\n",
       "| 421 | Diabetic retinopathy                       | 60400 |  1760 | 0.029139073 | 374.42  | Diabetic retinopathy                         | Eye           | Both |  0 | 374 |  1 |  2.9139073 |\n",
       "| 505 | Myocardial infarction                      | 60213 |  1800 | 0.029893877 | 404.1   | Myocardial infarction [Heart attack]         | Cardio        | Both |  0 | 404 |  0 |  2.9893877 |\n",
       "| 422 | Macular degeneration                       | 60918 |  1816 | 0.029810565 | 374.5   | Macular degeneration                         | Eye           | Both |  0 | 374 |  0 |  2.9810565 |\n",
       "| 556 | Heart failure                              | 60846 |  1996 | 0.032804128 | 424     | Heart failure                                | Cardio        | Both |  0 | 424 |  0 |  3.2804128 |\n",
       "| 765 | Chronic liver disease and sequelae         | 60689 |  2124 | 0.034998105 | 542     | Chronic liver disease and sequelae           | GI            | Both |  0 | 542 |  0 |  3.4998105 |\n",
       "| 639 | Chronic obstructive pulmonary disease      | 60402 |  2406 | 0.039833118 | 474     | Chronic obstructive pulmonary disease [COPD] | Resp          | Both |  0 | 474 |  0 |  3.9833118 |\n",
       "| 625 | Pneumonia                                  | 59697 |  3199 | 0.053587282 | 468     | Pneumonia                                    | Resp          | Both |  0 | 468 |  0 |  5.3587282 |\n",
       "| 803 | Chronic kidney disease                     | 59363 |  3206 | 0.054006705 | 583     | Chronic kidney disease                       | Genitourinary | Both |  0 | 583 |  0 |  5.4006705 |\n",
       "|   0 | All-Cause Death                            | 61256 |  3490 | 0.056974011 | 4306655 | All-Cause Death                              | Death         | Both | NA |  NA | NA |  5.6974011 |\n",
       "|  51 | Malignant neoplasm of the skin             | 59332 |  3620 | 0.061012607 | 103     | Malignant neoplasm of the skin               | Neoplasms     | Both |  0 | 103 |  0 |  6.1012607 |\n",
       "| 504 | Coronary heart disease                     | 58791 |  4055 | 0.068973142 | 404     | Ischemic heart disease                       | Cardio        | Both |  0 | 404 |  0 |  6.8973142 |\n",
       "| 184 | Diabetes mellitus                          | 57936 |  4259 | 0.073512151 | 202     | Diabetes mellitus                            | Endo          | Both |  0 | 202 |  0 |  7.3512151 |\n",
       "| 263 | Major depressive disorder                  | 52388 |  4781 | 0.091261358 | 286.2   | Major depressive disorder                    | Mental        | Both |  0 | 286 |  0 |  9.1261358 |\n",
       "| 138 | Anemia                                     | 57646 |  4887 | 0.084776047 | 164     | Anemia                                       | Blood         | Both |  0 | 164 |  0 |  8.4776047 |\n",
       "| 410 | Cataract                                   | 59805 |  6798 | 0.113669426 | 371     | Cataract                                     | Eye           | Both |  0 | 371 |  0 | 11.3669426 |\n",
       "| 605 | Acute lower respiratory infection          | 52240 |  9705 | 0.185777182 | 460.2   | Acute lower respiratory infection            | Resp          | Both |  0 | 460 |  1 | 18.5777182 |\n",
       "| 498 | Hypertension                               | 48591 | 11114 | 0.228725484 | 401     | Hypertension                                 | Cardio        | Both |  0 | 401 |  0 | 22.8725484 |\n",
       "\n"
      ],
      "text/plain": [
       "   V1  endpoint                                   eligable n     freq       \n",
       "1   86 Leukemia                                   61142      263 0.004301462\n",
       "2  998 Rheumatoid arthritis                       60634      820 0.013523766\n",
       "3  297 Dementias and cerebral degeneration        61233      968 0.015808469\n",
       "4  568 Ischemic stroke                            60849     1157 0.019014281\n",
       "5   41 Malignant neoplasm of the digestive organs 60713     1652 0.027209988\n",
       "6  430 Glaucoma                                   60486     1664 0.027510498\n",
       "7  421 Diabetic retinopathy                       60400     1760 0.029139073\n",
       "8  505 Myocardial infarction                      60213     1800 0.029893877\n",
       "9  422 Macular degeneration                       60918     1816 0.029810565\n",
       "10 556 Heart failure                              60846     1996 0.032804128\n",
       "11 765 Chronic liver disease and sequelae         60689     2124 0.034998105\n",
       "12 639 Chronic obstructive pulmonary disease      60402     2406 0.039833118\n",
       "13 625 Pneumonia                                  59697     3199 0.053587282\n",
       "14 803 Chronic kidney disease                     59363     3206 0.054006705\n",
       "15   0 All-Cause Death                            61256     3490 0.056974011\n",
       "16  51 Malignant neoplasm of the skin             59332     3620 0.061012607\n",
       "17 504 Coronary heart disease                     58791     4055 0.068973142\n",
       "18 184 Diabetes mellitus                          57936     4259 0.073512151\n",
       "19 263 Major depressive disorder                  52388     4781 0.091261358\n",
       "20 138 Anemia                                     57646     4887 0.084776047\n",
       "21 410 Cataract                                   59805     6798 0.113669426\n",
       "22 605 Acute lower respiratory infection          52240     9705 0.185777182\n",
       "23 498 Hypertension                               48591    11114 0.228725484\n",
       "   phecode phecode_string                               phecode_category sex \n",
       "1  121     Leukemia                                     Neoplasms        Both\n",
       "2  705.1   Rheumatoid arthritis                         Musc/Skel        Both\n",
       "3  328     Dementias and cerebral degeneration          Neuro            Both\n",
       "4  431.11  Cerebral infarction [Ischemic stroke]        Cardio           Both\n",
       "5  101     Malignant neoplasm of the digestive organs   Neoplasms        Both\n",
       "6  375.1   Glaucoma                                     Eye              Both\n",
       "7  374.42  Diabetic retinopathy                         Eye              Both\n",
       "8  404.1   Myocardial infarction [Heart attack]         Cardio           Both\n",
       "9  374.5   Macular degeneration                         Eye              Both\n",
       "10 424     Heart failure                                Cardio           Both\n",
       "11 542     Chronic liver disease and sequelae           GI               Both\n",
       "12 474     Chronic obstructive pulmonary disease [COPD] Resp             Both\n",
       "13 468     Pneumonia                                    Resp             Both\n",
       "14 583     Chronic kidney disease                       Genitourinary    Both\n",
       "15 4306655 All-Cause Death                              Death            Both\n",
       "16 103     Malignant neoplasm of the skin               Neoplasms        Both\n",
       "17 404     Ischemic heart disease                       Cardio           Both\n",
       "18 202     Diabetes mellitus                            Endo             Both\n",
       "19 286.2   Major depressive disorder                    Mental           Both\n",
       "20 164     Anemia                                       Blood            Both\n",
       "21 371     Cataract                                     Eye              Both\n",
       "22 460.2   Acute lower respiratory infection            Resp             Both\n",
       "23 401     Hypertension                                 Cardio           Both\n",
       "   ICD10_only phecode_top leaf perc      \n",
       "1   0         121          0    0.4301462\n",
       "2   0         705          0    1.3523766\n",
       "3   0         328          0    1.5808469\n",
       "4   0         431          1    1.9014281\n",
       "5   0         101          0    2.7209988\n",
       "6   0         375          0    2.7510498\n",
       "7   0         374          1    2.9139073\n",
       "8   0         404          0    2.9893877\n",
       "9   0         374          0    2.9810565\n",
       "10  0         424          0    3.2804128\n",
       "11  0         542          0    3.4998105\n",
       "12  0         474          0    3.9833118\n",
       "13  0         468          0    5.3587282\n",
       "14  0         583          0    5.4006705\n",
       "15 NA          NA         NA    5.6974011\n",
       "16  0         103          0    6.1012607\n",
       "17  0         404          0    6.8973142\n",
       "18  0         202          0    7.3512151\n",
       "19  0         286          0    9.1261358\n",
       "20  0         164          0    8.4776047\n",
       "21  0         371          0   11.3669426\n",
       "22  0         460          1   18.5777182\n",
       "23  0         401          0   22.8725484"
      ]
     },
     "metadata": {},
     "output_type": "display_data"
    }
   ],
   "source": [
    "endpoints_md %>% filter(endpoint %in% endpoint_selection) %>% as_tibble() %>% arrange(n)  %>%\n",
    "    mutate(endpoint = recode(endpoint, !!!endpoint_map)) %>% mutate(perc = freq*100)"
   ]
  },
  {
   "cell_type": "code",
   "execution_count": 10,
   "id": "93ec6dc4-e11f-4126-b251-6081448577ed",
   "metadata": {
    "execution": {
     "iopub.execute_input": "2022-11-05T14:20:57.326050Z",
     "iopub.status.busy": "2022-11-05T14:20:57.324500Z",
     "iopub.status.idle": "2022-11-05T14:20:57.338186Z",
     "shell.execute_reply": "2022-11-05T14:20:57.336386Z"
    },
    "tags": []
   },
   "outputs": [],
   "source": [
    "#today = substr(Sys.time(), 0, 10) # YYYY-MM-DD\n",
    "today = '220824'"
   ]
  },
  {
   "cell_type": "code",
   "execution_count": 11,
   "id": "ed3c6000-d698-4aff-9f76-41990b0fa2c3",
   "metadata": {
    "execution": {
     "iopub.execute_input": "2022-11-05T14:20:57.342208Z",
     "iopub.status.busy": "2022-11-05T14:20:57.340667Z",
     "iopub.status.idle": "2022-11-05T14:21:17.073144Z",
     "shell.execute_reply": "2022-11-05T14:21:17.071905Z"
    },
    "tags": []
   },
   "outputs": [
    {
     "name": "stderr",
     "output_type": "stream",
     "text": [
      "Warning message:\n",
      "“Coercing dictionary values to R character factor levels”\n"
     ]
    }
   ],
   "source": [
    "eligable_eids = arrow::read_feather(glue(\"{output_path}/eligable_eids_long_{today}.feather\")) %>% \n",
    "    filter(endpoint %in% endpoint_selection) %>% \n",
    "    mutate(endpoint = as.character(endpoint)) %>%\n",
    "    mutate(eid = as.numeric(as.character(eid))) %>%\n",
    "    mutate(included = 1)"
   ]
  },
  {
   "cell_type": "code",
   "execution_count": 12,
   "id": "16724395-0018-4571-960b-e414a596bde9",
   "metadata": {
    "execution": {
     "iopub.execute_input": "2022-11-05T14:21:17.075462Z",
     "iopub.status.busy": "2022-11-05T14:21:17.074617Z",
     "iopub.status.idle": "2022-11-05T14:23:13.889576Z",
     "shell.execute_reply": "2022-11-05T14:23:13.884221Z"
    },
    "tags": []
   },
   "outputs": [],
   "source": [
    "data_outcomes = arrow::read_feather(glue(\"{output_path}/baseline_outcomes_long_220627.feather\", as_data_frame=FALSE)) %>% \n",
    "    filter(endpoint %in% endpoint_selection) %>% left_join(eligable_eids, by=c(\"eid\", \"endpoint\"))"
   ]
  }
 ],
 "metadata": {
  "kernelspec": {
   "display_name": "retrisk",
   "language": "python",
   "name": "retrisk"
  },
  "language_info": {
   "codemirror_mode": {
    "name": "ipython",
    "version": 3
   },
   "file_extension": ".py",
   "mimetype": "text/x-python",
   "name": "python",
   "nbconvert_exporter": "python",
   "pygments_lexer": "ipython3",
   "version": "3.9.7"
  }
 },
 "nbformat": 4,
 "nbformat_minor": 5
}
