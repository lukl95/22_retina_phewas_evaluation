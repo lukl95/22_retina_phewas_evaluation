{
 "cells": [
  {
   "cell_type": "code",
   "execution_count": 1,
   "id": "97cf6ee1-548d-414e-85fd-04b966166b76",
   "metadata": {
    "execution": {
     "iopub.execute_input": "2022-11-28T09:23:46.724097Z",
     "iopub.status.busy": "2022-11-28T09:23:46.723832Z",
     "iopub.status.idle": "2022-11-28T09:23:50.086981Z",
     "shell.execute_reply": "2022-11-28T09:23:50.086491Z",
     "shell.execute_reply.started": "2022-11-28T09:23:46.724053Z"
    },
    "tags": []
   },
   "outputs": [],
   "source": [
    "%load_ext autoreload\n",
    "%autoreload 2\n",
    "\n",
    "import os\n",
    "from tqdm.auto import tqdm\n",
    "import pathlib\n",
    "import datetime\n",
    "import subprocess\n",
    "import numpy as np\n",
    "import pandas as pd\n",
    "import lifelines"
   ]
  },
  {
   "cell_type": "code",
   "execution_count": 2,
   "id": "c10857fd-0dcf-47cc-98fd-8ec83253b496",
   "metadata": {
    "execution": {
     "iopub.execute_input": "2022-11-28T09:23:51.048605Z",
     "iopub.status.busy": "2022-11-28T09:23:51.048477Z",
     "iopub.status.idle": "2022-11-28T09:23:51.164508Z",
     "shell.execute_reply": "2022-11-28T09:23:51.164091Z",
     "shell.execute_reply.started": "2022-11-28T09:23:51.048589Z"
    },
    "tags": []
   },
   "outputs": [
    {
     "name": "stdout",
     "output_type": "stream",
     "text": [
      "/sc-projects/sc-proj-ukb-cvd\n"
     ]
    },
    {
     "data": {
      "text/plain": [
       "[0, 1, 2, 3, 4, 5, 6, 7, 8, 9, 10, 11, 12, 13, 14, 15, 16, 17, 18, 19, 20, 21]"
      ]
     },
     "execution_count": 2,
     "metadata": {},
     "output_type": "execute_result"
    }
   ],
   "source": [
    "node = !hostname\n",
    "if \"sc\" in node[0]:\n",
    "    base_path = \"/sc-projects/sc-proj-ukb-cvd\"\n",
    "else: \n",
    "    base_path = \"/data/analysis/ag-reils/ag-reils-shared/cardioRS\"\n",
    "print(base_path)\n",
    "\n",
    "project_label = \"22_retina_phewas\"\n",
    "project_path = f\"{base_path}/results/projects/{project_label}\"\n",
    "figure_path = f\"{project_path}/figures\"\n",
    "output_path = f\"{project_path}/data\"\n",
    "\n",
    "pathlib.Path(figure_path).mkdir(parents=True, exist_ok=True)\n",
    "pathlib.Path(output_path).mkdir(parents=True, exist_ok=True)\n",
    "\n",
    "experiment = '221108'\n",
    "experiment_path = f\"{output_path}/{experiment}\"\n",
    "pathlib.Path(experiment_path).mkdir(parents=True, exist_ok=True)\n",
    "\n",
    "name_dict = {\n",
    "    \"predictions_cropratio0.66\": \"ConvNextSmall(Retina)+MLP_cropratio0.66\",\n",
    "}\n",
    "\n",
    "partitions = [i for i in range(22)]\n",
    "partitions"
   ]
  },
  {
   "cell_type": "code",
   "execution_count": 3,
   "id": "ec1b744b-8851-4933-bd0e-128c77b861e9",
   "metadata": {
    "execution": {
     "iopub.execute_input": "2022-11-28T09:23:51.885866Z",
     "iopub.status.busy": "2022-11-28T09:23:51.885672Z",
     "iopub.status.idle": "2022-11-28T09:23:51.899915Z",
     "shell.execute_reply": "2022-11-28T09:23:51.899601Z",
     "shell.execute_reply.started": "2022-11-28T09:23:51.885850Z"
    },
    "tags": []
   },
   "outputs": [],
   "source": [
    "today = '221109'"
   ]
  },
  {
   "cell_type": "markdown",
   "id": "3feab5bf-290a-4030-b139-6e5514bd39c6",
   "metadata": {},
   "source": [
    "# Read all predictions"
   ]
  },
  {
   "cell_type": "code",
   "execution_count": 4,
   "id": "f7dee7e3-c9c4-4804-bb74-d11b518ae5ba",
   "metadata": {
    "execution": {
     "iopub.execute_input": "2022-11-25T12:41:31.157872Z",
     "iopub.status.busy": "2022-11-25T12:41:31.157605Z",
     "iopub.status.idle": "2022-11-25T12:41:40.762551Z",
     "shell.execute_reply": "2022-11-25T12:41:40.759818Z",
     "shell.execute_reply.started": "2022-11-25T12:41:31.157858Z"
    },
    "tags": []
   },
   "outputs": [],
   "source": [
    "\n",
    "data_outcomes = pd.read_feather(f\"{output_path}/baseline_outcomes_220627.feather\").set_index(\"eid\")\n",
    "\n",
    "#endpoints_md = pd.read_csv(f\"{experiment_path}/endpoints.csv\")\n",
    "#endpoints = sorted(endpoints_md.endpoint.to_list())\n",
    "all_endpoints = sorted([l.replace('_prevalent', '') for l in list(pd.read_csv('/sc-projects/sc-proj-ukb-cvd/results/projects/22_retinal_risk/data/220602/endpoints.csv').endpoint.values)])\n",
    "endpoints_not_overlapping_with_preds = []\n",
    "endpoints = []\n",
    "for c in all_endpoints:\n",
    "    if c not in endpoints_not_overlapping_with_preds: \n",
    "        endpoints.append(c)\n",
    "\n",
    "endpoint_defs = pd.read_feather(f\"{output_path}/phecode_defs_220306.feather\").query(\"endpoint==@endpoints\").sort_values(\"endpoint\").set_index(\"endpoint\")\n"
   ]
  },
  {
   "cell_type": "code",
   "execution_count": 5,
   "id": "60633383-8e88-4d52-9743-b3c3446a2aed",
   "metadata": {
    "execution": {
     "iopub.execute_input": "2022-11-25T12:41:40.766993Z",
     "iopub.status.busy": "2022-11-25T12:41:40.766248Z",
     "iopub.status.idle": "2022-11-25T12:41:40.799305Z",
     "shell.execute_reply": "2022-11-25T12:41:40.798756Z",
     "shell.execute_reply.started": "2022-11-25T12:41:40.766955Z"
    },
    "tags": []
   },
   "outputs": [
    {
     "data": {
      "text/plain": [
       "(1171, 7)"
      ]
     },
     "execution_count": 5,
     "metadata": {},
     "output_type": "execute_result"
    }
   ],
   "source": [
    "endpoint_defs.shape"
   ]
  },
  {
   "cell_type": "code",
   "execution_count": 6,
   "id": "7b58e8f6-bfd1-4cc2-8ef8-16b4fec16cf3",
   "metadata": {
    "execution": {
     "iopub.execute_input": "2022-11-25T12:41:40.800178Z",
     "iopub.status.busy": "2022-11-25T12:41:40.800070Z",
     "iopub.status.idle": "2022-11-25T12:41:40.815063Z",
     "shell.execute_reply": "2022-11-25T12:41:40.814559Z",
     "shell.execute_reply.started": "2022-11-25T12:41:40.800166Z"
    },
    "tags": []
   },
   "outputs": [],
   "source": [
    "# phecodes = ['phecode_979', 'phecode_202']\n",
    "phecodes = endpoint_defs.index.values.tolist()\n",
    "models = ['Age+Sex', 'Age+Sex+Retina']"
   ]
  },
  {
   "cell_type": "code",
   "execution_count": 7,
   "id": "20db581f-fa58-4a35-b68f-301abc6b6788",
   "metadata": {
    "execution": {
     "iopub.execute_input": "2022-11-25T12:41:40.816180Z",
     "iopub.status.busy": "2022-11-25T12:41:40.815881Z",
     "iopub.status.idle": "2022-11-25T12:49:19.120013Z",
     "shell.execute_reply": "2022-11-25T12:49:19.119536Z",
     "shell.execute_reply.started": "2022-11-25T12:41:40.816162Z"
    },
    "tags": []
   },
   "outputs": [
    {
     "data": {
      "application/vnd.jupyter.widget-view+json": {
       "model_id": "2a9c126924624f1c879474feb9c19432",
       "version_major": 2,
       "version_minor": 0
      },
      "text/plain": [
       "  0%|          | 0/1171 [00:00<?, ?it/s]"
      ]
     },
     "metadata": {},
     "output_type": "display_data"
    }
   ],
   "source": [
    "all_preds = []\n",
    "for phecode in tqdm(phecodes):\n",
    "    model_preds = []\n",
    "    for model in models:\n",
    "        model_preds_endpoint = []\n",
    "        for partition in range(0, 22):\n",
    "            preds = pd.read_feather(f'{experiment_path}/coxph/predictions'\\\n",
    "                                    f'/{phecode}_{model}_ImageTraining_[]_ConvNeXt_MLPHead_predictions_cropratio0.66_{partition}.feather')\n",
    "            preds = preds[['eid', 'endpoint', 'Ft_10']].rename({'Ft_10': model}, axis=1)\n",
    "            model_preds_endpoint.append(preds)\n",
    "        model_preds_endpoint = pd.concat(model_preds_endpoint, axis=0)\n",
    "        model_preds.append(model_preds_endpoint)\n",
    "        \n",
    "    preds = model_preds[0].set_index(['eid', 'endpoint'])  \n",
    "    for i in range(1, len(model_preds)):\n",
    "        preds = preds.merge(model_preds[i].set_index(['eid', 'endpoint']), left_index=True, right_index=True)\n",
    "    all_preds.append(preds)"
   ]
  },
  {
   "cell_type": "code",
   "execution_count": 8,
   "id": "582eb2c3-1102-4329-89b2-ddbbf6d059b5",
   "metadata": {
    "execution": {
     "iopub.execute_input": "2022-11-25T12:49:19.120735Z",
     "iopub.status.busy": "2022-11-25T12:49:19.120636Z",
     "iopub.status.idle": "2022-11-25T12:49:26.779562Z",
     "shell.execute_reply": "2022-11-25T12:49:26.778986Z",
     "shell.execute_reply.started": "2022-11-25T12:49:19.120723Z"
    },
    "tags": []
   },
   "outputs": [],
   "source": [
    "all_preds = pd.concat(all_preds, axis=0)"
   ]
  },
  {
   "cell_type": "code",
   "execution_count": 9,
   "id": "f5c47fcb-2d21-4a4e-9c70-d64100138e55",
   "metadata": {
    "execution": {
     "iopub.execute_input": "2022-11-25T12:49:26.780559Z",
     "iopub.status.busy": "2022-11-25T12:49:26.780408Z",
     "iopub.status.idle": "2022-11-25T12:49:26.808670Z",
     "shell.execute_reply": "2022-11-25T12:49:26.808294Z",
     "shell.execute_reply.started": "2022-11-25T12:49:26.780545Z"
    },
    "tags": []
   },
   "outputs": [
    {
     "data": {
      "text/html": [
       "<div>\n",
       "<style scoped>\n",
       "    .dataframe tbody tr th:only-of-type {\n",
       "        vertical-align: middle;\n",
       "    }\n",
       "\n",
       "    .dataframe tbody tr th {\n",
       "        vertical-align: top;\n",
       "    }\n",
       "\n",
       "    .dataframe thead th {\n",
       "        text-align: right;\n",
       "    }\n",
       "</style>\n",
       "<table border=\"1\" class=\"dataframe\">\n",
       "  <thead>\n",
       "    <tr style=\"text-align: right;\">\n",
       "      <th></th>\n",
       "      <th></th>\n",
       "      <th>Age+Sex</th>\n",
       "      <th>Age+Sex+Retina</th>\n",
       "    </tr>\n",
       "    <tr>\n",
       "      <th>eid</th>\n",
       "      <th>endpoint</th>\n",
       "      <th></th>\n",
       "      <th></th>\n",
       "    </tr>\n",
       "  </thead>\n",
       "  <tbody>\n",
       "    <tr>\n",
       "      <th>1475840</th>\n",
       "      <th>OMOP_4306655</th>\n",
       "      <td>0.115656</td>\n",
       "      <td>0.049050</td>\n",
       "    </tr>\n",
       "    <tr>\n",
       "      <th>1475895</th>\n",
       "      <th>OMOP_4306655</th>\n",
       "      <td>0.017572</td>\n",
       "      <td>0.010447</td>\n",
       "    </tr>\n",
       "    <tr>\n",
       "      <th>1475910</th>\n",
       "      <th>OMOP_4306655</th>\n",
       "      <td>0.015858</td>\n",
       "      <td>0.009131</td>\n",
       "    </tr>\n",
       "    <tr>\n",
       "      <th>1475935</th>\n",
       "      <th>OMOP_4306655</th>\n",
       "      <td>0.029305</td>\n",
       "      <td>0.013193</td>\n",
       "    </tr>\n",
       "    <tr>\n",
       "      <th>1476077</th>\n",
       "      <th>OMOP_4306655</th>\n",
       "      <td>0.078034</td>\n",
       "      <td>0.037716</td>\n",
       "    </tr>\n",
       "  </tbody>\n",
       "</table>\n",
       "</div>"
      ],
      "text/plain": [
       "                       Age+Sex  Age+Sex+Retina\n",
       "eid     endpoint                              \n",
       "1475840 OMOP_4306655  0.115656        0.049050\n",
       "1475895 OMOP_4306655  0.017572        0.010447\n",
       "1475910 OMOP_4306655  0.015858        0.009131\n",
       "1475935 OMOP_4306655  0.029305        0.013193\n",
       "1476077 OMOP_4306655  0.078034        0.037716"
      ]
     },
     "execution_count": 9,
     "metadata": {},
     "output_type": "execute_result"
    }
   ],
   "source": [
    "all_preds.head()"
   ]
  },
  {
   "cell_type": "code",
   "execution_count": 10,
   "id": "43436a8c-623c-4bbe-9566-0555da3c7fe7",
   "metadata": {
    "execution": {
     "iopub.execute_input": "2022-11-25T12:49:26.809331Z",
     "iopub.status.busy": "2022-11-25T12:49:26.809237Z",
     "iopub.status.idle": "2022-11-25T12:49:26.995708Z",
     "shell.execute_reply": "2022-11-25T12:49:26.994084Z",
     "shell.execute_reply.started": "2022-11-25T12:49:26.809320Z"
    }
   },
   "outputs": [
    {
     "ename": "AttributeError",
     "evalue": "'DataFrame' object has no attribute 'eid'",
     "output_type": "error",
     "traceback": [
      "\u001b[0;31m---------------------------------------------------------------------------\u001b[0m",
      "\u001b[0;31mAttributeError\u001b[0m                            Traceback (most recent call last)",
      "\u001b[0;32m/tmp/ipykernel_3783475/516213503.py\u001b[0m in \u001b[0;36m<module>\u001b[0;34m\u001b[0m\n\u001b[0;32m----> 1\u001b[0;31m \u001b[0mall_preds\u001b[0m\u001b[0;34m.\u001b[0m\u001b[0meid\u001b[0m\u001b[0;34m.\u001b[0m\u001b[0mnunique\u001b[0m\u001b[0;34m(\u001b[0m\u001b[0;34m)\u001b[0m\u001b[0;34m\u001b[0m\u001b[0;34m\u001b[0m\u001b[0m\n\u001b[0m",
      "\u001b[0;32m~/miniconda3/envs/retrisk/lib/python3.9/site-packages/pandas/core/generic.py\u001b[0m in \u001b[0;36m__getattr__\u001b[0;34m(self, name)\u001b[0m\n\u001b[1;32m   5485\u001b[0m         ):\n\u001b[1;32m   5486\u001b[0m             \u001b[0;32mreturn\u001b[0m \u001b[0mself\u001b[0m\u001b[0;34m[\u001b[0m\u001b[0mname\u001b[0m\u001b[0;34m]\u001b[0m\u001b[0;34m\u001b[0m\u001b[0;34m\u001b[0m\u001b[0m\n\u001b[0;32m-> 5487\u001b[0;31m         \u001b[0;32mreturn\u001b[0m \u001b[0mobject\u001b[0m\u001b[0;34m.\u001b[0m\u001b[0m__getattribute__\u001b[0m\u001b[0;34m(\u001b[0m\u001b[0mself\u001b[0m\u001b[0;34m,\u001b[0m \u001b[0mname\u001b[0m\u001b[0;34m)\u001b[0m\u001b[0;34m\u001b[0m\u001b[0;34m\u001b[0m\u001b[0m\n\u001b[0m\u001b[1;32m   5488\u001b[0m \u001b[0;34m\u001b[0m\u001b[0m\n\u001b[1;32m   5489\u001b[0m     \u001b[0;32mdef\u001b[0m \u001b[0m__setattr__\u001b[0m\u001b[0;34m(\u001b[0m\u001b[0mself\u001b[0m\u001b[0;34m,\u001b[0m \u001b[0mname\u001b[0m\u001b[0;34m:\u001b[0m \u001b[0mstr\u001b[0m\u001b[0;34m,\u001b[0m \u001b[0mvalue\u001b[0m\u001b[0;34m)\u001b[0m \u001b[0;34m->\u001b[0m \u001b[0;32mNone\u001b[0m\u001b[0;34m:\u001b[0m\u001b[0;34m\u001b[0m\u001b[0;34m\u001b[0m\u001b[0m\n",
      "\u001b[0;31mAttributeError\u001b[0m: 'DataFrame' object has no attribute 'eid'"
     ]
    }
   ],
   "source": [
    "all_preds.eid.nunique()"
   ]
  },
  {
   "cell_type": "code",
   "execution_count": null,
   "id": "e747ef25-70ec-4964-bf94-bc70457a0261",
   "metadata": {
    "execution": {
     "iopub.status.busy": "2022-11-25T12:49:26.996142Z",
     "iopub.status.idle": "2022-11-25T12:49:26.996284Z",
     "shell.execute_reply": "2022-11-25T12:49:26.996214Z",
     "shell.execute_reply.started": "2022-11-25T12:49:26.996206Z"
    },
    "tags": []
   },
   "outputs": [],
   "source": [
    "## calculate relative risk\n",
    "epsilon = 0.000001\n",
    "all_preds['relative_risks'] = all_preds['Age+Sex+Retina'] / (all_preds['Age+Sex']+epsilon)"
   ]
  },
  {
   "cell_type": "code",
   "execution_count": null,
   "id": "8b7f4ba4-33f5-4e36-9691-3133b03d1ff8",
   "metadata": {
    "execution": {
     "iopub.status.busy": "2022-11-25T12:49:26.996787Z",
     "iopub.status.idle": "2022-11-25T12:49:26.996919Z",
     "shell.execute_reply": "2022-11-25T12:49:26.996854Z",
     "shell.execute_reply.started": "2022-11-25T12:49:26.996847Z"
    },
    "tags": []
   },
   "outputs": [],
   "source": [
    "relative_risks = pd.pivot(all_preds.reset_index(), index='eid', columns='endpoint', values='relative_risks')"
   ]
  },
  {
   "cell_type": "code",
   "execution_count": null,
   "id": "267e4ab5-37a9-4319-b0b7-eb8778d6851a",
   "metadata": {
    "execution": {
     "iopub.status.busy": "2022-11-25T12:49:26.997796Z",
     "iopub.status.idle": "2022-11-25T12:49:26.997941Z",
     "shell.execute_reply": "2022-11-25T12:49:26.997867Z",
     "shell.execute_reply.started": "2022-11-25T12:49:26.997860Z"
    },
    "tags": []
   },
   "outputs": [],
   "source": [
    "relative_risks.shape"
   ]
  },
  {
   "cell_type": "code",
   "execution_count": null,
   "id": "89c5da43-0aa3-49d5-9b56-e3e5e92a313d",
   "metadata": {
    "execution": {
     "iopub.status.busy": "2022-11-25T12:49:26.998549Z",
     "iopub.status.idle": "2022-11-25T12:49:26.998693Z",
     "shell.execute_reply": "2022-11-25T12:49:26.998620Z",
     "shell.execute_reply.started": "2022-11-25T12:49:26.998613Z"
    },
    "tags": []
   },
   "outputs": [],
   "source": [
    "relative_risks.reset_index().to_feather(f'{experiment_path}/relative_risks_{today}.feather')"
   ]
  },
  {
   "cell_type": "code",
   "execution_count": null,
   "id": "e26be821-1c41-4dad-84e3-b4dec724e839",
   "metadata": {
    "execution": {
     "iopub.status.busy": "2022-11-25T12:49:26.999152Z",
     "iopub.status.idle": "2022-11-25T12:49:26.999293Z",
     "shell.execute_reply": "2022-11-25T12:49:26.999223Z",
     "shell.execute_reply.started": "2022-11-25T12:49:26.999216Z"
    },
    "tags": []
   },
   "outputs": [],
   "source": [
    "f'{experiment_path}/relative_risks_{today}.feather'"
   ]
  },
  {
   "cell_type": "code",
   "execution_count": null,
   "id": "1b022a85-1c34-4ca9-85df-a01eef4df6df",
   "metadata": {},
   "outputs": [],
   "source": []
  },
  {
   "cell_type": "markdown",
   "id": "329dc23b-4b11-4fcd-ad3a-f100ab92d23c",
   "metadata": {
    "execution": {
     "iopub.execute_input": "2022-11-11T11:04:23.769374Z",
     "iopub.status.busy": "2022-11-11T11:04:23.769038Z",
     "iopub.status.idle": "2022-11-11T11:04:23.771774Z",
     "shell.execute_reply": "2022-11-11T11:04:23.771437Z",
     "shell.execute_reply.started": "2022-11-11T11:04:23.769324Z"
    }
   },
   "source": [
    "# MAKE SELECTION ON SIGNIFICANT ENDPOINTS"
   ]
  },
  {
   "cell_type": "code",
   "execution_count": null,
   "id": "1556f9d1-2a19-41f4-b062-8a5fb2691936",
   "metadata": {
    "execution": {
     "iopub.status.busy": "2022-11-25T12:49:26.999728Z",
     "iopub.status.idle": "2022-11-25T12:49:26.999852Z",
     "shell.execute_reply": "2022-11-25T12:49:26.999793Z",
     "shell.execute_reply.started": "2022-11-25T12:49:26.999786Z"
    },
    "tags": []
   },
   "outputs": [],
   "source": [
    "relative_risks = pd.read_feather('/sc-projects/sc-proj-ukb-cvd/results/projects/22_retina_phewas/data/221108/relative_risks_221109.feather'\n",
    ").set_index('eid')"
   ]
  },
  {
   "cell_type": "code",
   "execution_count": null,
   "id": "8cc9ec8a-aaaa-4c93-a72f-1f2462d5f096",
   "metadata": {
    "execution": {
     "iopub.status.busy": "2022-11-25T12:49:27.000568Z",
     "iopub.status.idle": "2022-11-25T12:49:27.000709Z",
     "shell.execute_reply": "2022-11-25T12:49:27.000637Z",
     "shell.execute_reply.started": "2022-11-25T12:49:27.000630Z"
    },
    "tags": []
   },
   "outputs": [],
   "source": [
    "relative_risks.head()"
   ]
  },
  {
   "cell_type": "code",
   "execution_count": null,
   "id": "b263ba54-8c53-4107-b588-da749a5de52a",
   "metadata": {
    "execution": {
     "iopub.status.busy": "2022-11-25T12:49:27.001190Z",
     "iopub.status.idle": "2022-11-25T12:49:27.001324Z",
     "shell.execute_reply": "2022-11-25T12:49:27.001255Z",
     "shell.execute_reply.started": "2022-11-25T12:49:27.001247Z"
    }
   },
   "outputs": [],
   "source": [
    "significant_df = pd.read_csv('/sc-projects/sc-proj-ukb-cvd/results/projects/22_retina_phewas/data/221108/SupplTable2_SignificantEndpoints_CropRatio-0.66.csv')"
   ]
  },
  {
   "cell_type": "code",
   "execution_count": null,
   "id": "5482b98b-4f22-4636-a361-9051f9621060",
   "metadata": {
    "execution": {
     "iopub.status.busy": "2022-11-25T12:49:27.001757Z",
     "iopub.status.idle": "2022-11-25T12:49:27.001885Z",
     "shell.execute_reply": "2022-11-25T12:49:27.001823Z",
     "shell.execute_reply.started": "2022-11-25T12:49:27.001816Z"
    },
    "tags": []
   },
   "outputs": [],
   "source": [
    "significant_endpoints = significant_df.endpoint.values.tolist()"
   ]
  },
  {
   "cell_type": "code",
   "execution_count": null,
   "id": "e3dd7825-f167-4ffc-bbe1-95de4b1f8481",
   "metadata": {
    "execution": {
     "iopub.status.busy": "2022-11-25T12:49:27.002494Z",
     "iopub.status.idle": "2022-11-25T12:49:27.002630Z",
     "shell.execute_reply": "2022-11-25T12:49:27.002559Z",
     "shell.execute_reply.started": "2022-11-25T12:49:27.002553Z"
    },
    "tags": []
   },
   "outputs": [],
   "source": [
    "significant_endpoints"
   ]
  },
  {
   "cell_type": "code",
   "execution_count": null,
   "id": "750f0a16-2cfd-4086-bf43-f08f6dc1910a",
   "metadata": {
    "execution": {
     "iopub.status.busy": "2022-11-25T12:49:27.002959Z",
     "iopub.status.idle": "2022-11-25T12:49:27.003083Z",
     "shell.execute_reply": "2022-11-25T12:49:27.003022Z",
     "shell.execute_reply.started": "2022-11-25T12:49:27.003016Z"
    }
   },
   "outputs": [],
   "source": [
    "rr_significant = relative_risks[significant_endpoints]"
   ]
  },
  {
   "cell_type": "code",
   "execution_count": null,
   "id": "97455a33-6619-4e26-8d81-77bda4020192",
   "metadata": {
    "execution": {
     "iopub.status.busy": "2022-11-25T12:49:27.003630Z",
     "iopub.status.idle": "2022-11-25T12:49:27.003757Z",
     "shell.execute_reply": "2022-11-25T12:49:27.003694Z",
     "shell.execute_reply.started": "2022-11-25T12:49:27.003688Z"
    },
    "tags": []
   },
   "outputs": [],
   "source": [
    "rr_significant.head()"
   ]
  },
  {
   "cell_type": "code",
   "execution_count": null,
   "id": "4e919651-2e62-40a6-9cb3-8357b49b8688",
   "metadata": {
    "execution": {
     "iopub.status.busy": "2022-11-25T12:49:27.004194Z",
     "iopub.status.idle": "2022-11-25T12:49:27.004321Z",
     "shell.execute_reply": "2022-11-25T12:49:27.004258Z",
     "shell.execute_reply.started": "2022-11-25T12:49:27.004252Z"
    },
    "tags": []
   },
   "outputs": [],
   "source": [
    "rr_significant.reset_index().to_feather('/sc-projects/sc-proj-ukb-cvd/results/projects/22_retina_phewas/data/221108/relative_risks_significant_endpoints_221109.feather')"
   ]
  },
  {
   "cell_type": "code",
   "execution_count": null,
   "id": "ec1776c9-1530-45d0-98c1-9b3e1cae3239",
   "metadata": {
    "execution": {
     "iopub.status.busy": "2022-11-25T12:49:27.004762Z",
     "iopub.status.idle": "2022-11-25T12:49:27.004887Z",
     "shell.execute_reply": "2022-11-25T12:49:27.004825Z",
     "shell.execute_reply.started": "2022-11-25T12:49:27.004819Z"
    }
   },
   "outputs": [],
   "source": [
    "retina_eids = rr_significant.index.values.tolist()"
   ]
  },
  {
   "cell_type": "markdown",
   "id": "5ad53416-36c5-4f02-96d1-9ad6f0f5845b",
   "metadata": {},
   "source": [
    "### Verify the file contents"
   ]
  },
  {
   "cell_type": "code",
   "execution_count": null,
   "id": "91e1dd17-4e44-49f4-ad2a-4d8d4a80df30",
   "metadata": {
    "execution": {
     "iopub.status.busy": "2022-11-25T12:49:27.005472Z",
     "iopub.status.idle": "2022-11-25T12:49:27.005609Z",
     "shell.execute_reply": "2022-11-25T12:49:27.005538Z",
     "shell.execute_reply.started": "2022-11-25T12:49:27.005532Z"
    }
   },
   "outputs": [],
   "source": [
    "rr_significant = pd.read_feather('/sc-projects/sc-proj-ukb-cvd/results/projects/22_retina_phewas/data/221108/relative_risks_significant_endpoints_221109.feather')"
   ]
  },
  {
   "cell_type": "code",
   "execution_count": null,
   "id": "4feb6072-8f2d-41ac-8977-349d8186c910",
   "metadata": {},
   "outputs": [],
   "source": []
  },
  {
   "cell_type": "code",
   "execution_count": null,
   "id": "42967d3d-41b6-44d1-8213-616217684ce6",
   "metadata": {
    "execution": {
     "iopub.status.busy": "2022-11-25T12:49:27.006008Z",
     "iopub.status.idle": "2022-11-25T12:49:27.006140Z",
     "shell.execute_reply": "2022-11-25T12:49:27.006072Z",
     "shell.execute_reply.started": "2022-11-25T12:49:27.006066Z"
    },
    "tags": []
   },
   "outputs": [],
   "source": [
    "rr_significant.isna().sum()"
   ]
  },
  {
   "cell_type": "code",
   "execution_count": null,
   "id": "bdc46da2-64b8-47a3-930f-a1d01ff19774",
   "metadata": {
    "execution": {
     "iopub.status.busy": "2022-11-25T12:49:27.006537Z",
     "iopub.status.idle": "2022-11-25T12:49:27.006661Z",
     "shell.execute_reply": "2022-11-25T12:49:27.006600Z",
     "shell.execute_reply.started": "2022-11-25T12:49:27.006593Z"
    }
   },
   "outputs": [],
   "source": [
    "baseline_outcomes = pd.read_feather('/sc-projects/sc-proj-ukb-cvd/results/projects/22_retina_phewas/data/221108/baseline_outcomes_retina_221109.feather')"
   ]
  },
  {
   "cell_type": "code",
   "execution_count": null,
   "id": "3d85f935-a554-48fe-b41d-9a13cfc0147e",
   "metadata": {
    "execution": {
     "iopub.status.busy": "2022-11-25T12:49:27.007216Z",
     "iopub.status.idle": "2022-11-25T12:49:27.007356Z",
     "shell.execute_reply": "2022-11-25T12:49:27.007281Z",
     "shell.execute_reply.started": "2022-11-25T12:49:27.007275Z"
    },
    "tags": []
   },
   "outputs": [],
   "source": [
    "baseline_outcomes['phecode_325-1_prev'].sum()"
   ]
  },
  {
   "cell_type": "markdown",
   "id": "1409d51f-ec2c-418f-8996-569cce92549e",
   "metadata": {},
   "source": [
    "## get the excusions for the same endpoints"
   ]
  },
  {
   "cell_type": "code",
   "execution_count": null,
   "id": "3b8ecb29-d17e-4bdb-b2f1-4e38c67c1e68",
   "metadata": {
    "execution": {
     "iopub.status.busy": "2022-11-25T12:49:27.007881Z",
     "iopub.status.idle": "2022-11-25T12:49:27.008016Z",
     "shell.execute_reply": "2022-11-25T12:49:27.007947Z",
     "shell.execute_reply.started": "2022-11-25T12:49:27.007940Z"
    },
    "tags": []
   },
   "outputs": [],
   "source": [
    "endpoints_df = pd.read_csv('/sc-projects/sc-proj-ukb-cvd/results/projects/22_retinal_risk/data/220602/endpoints.csv', index_col=0)"
   ]
  },
  {
   "cell_type": "code",
   "execution_count": null,
   "id": "0e876e74-dae9-42db-b599-a680225621b5",
   "metadata": {
    "execution": {
     "iopub.status.busy": "2022-11-25T12:49:27.008351Z",
     "iopub.status.idle": "2022-11-25T12:49:27.008474Z",
     "shell.execute_reply": "2022-11-25T12:49:27.008413Z",
     "shell.execute_reply.started": "2022-11-25T12:49:27.008407Z"
    },
    "tags": []
   },
   "outputs": [],
   "source": [
    "endpoints_df.head()"
   ]
  },
  {
   "cell_type": "code",
   "execution_count": null,
   "id": "fa3d05b6-92c0-467a-ab0f-2690b2e48010",
   "metadata": {
    "execution": {
     "iopub.status.busy": "2022-11-25T12:49:27.008962Z",
     "iopub.status.idle": "2022-11-25T12:49:27.009090Z",
     "shell.execute_reply": "2022-11-25T12:49:27.009028Z",
     "shell.execute_reply.started": "2022-11-25T12:49:27.009022Z"
    },
    "tags": []
   },
   "outputs": [],
   "source": [
    "baseline_outcomes = pd.read_feather(f\"/sc-projects/sc-proj-ukb-cvd/results/projects/22_retina_phewas/data/baseline_outcomes_220627.feather\")"
   ]
  },
  {
   "cell_type": "code",
   "execution_count": null,
   "id": "5a224b7a-1c38-4490-8fbb-960ea8b1e5da",
   "metadata": {
    "execution": {
     "iopub.status.busy": "2022-11-25T12:49:27.009602Z",
     "iopub.status.idle": "2022-11-25T12:49:27.009723Z",
     "shell.execute_reply": "2022-11-25T12:49:27.009664Z",
     "shell.execute_reply.started": "2022-11-25T12:49:27.009657Z"
    }
   },
   "outputs": [],
   "source": [
    "baseline_outcomes = baseline_outcomes.query(\"eid==@retina_eids\").set_index('eid')\n",
    "baseline_outcomes.shape"
   ]
  },
  {
   "cell_type": "code",
   "execution_count": null,
   "id": "9b426421-1ae9-4762-af5c-5ef26a0d6a6a",
   "metadata": {
    "execution": {
     "iopub.status.busy": "2022-11-25T12:49:27.010236Z",
     "iopub.status.idle": "2022-11-25T12:49:27.010367Z",
     "shell.execute_reply": "2022-11-25T12:49:27.010300Z",
     "shell.execute_reply.started": "2022-11-25T12:49:27.010294Z"
    },
    "tags": []
   },
   "outputs": [],
   "source": [
    "baseline_outcomes.isna().sum().sum()"
   ]
  },
  {
   "cell_type": "code",
   "execution_count": null,
   "id": "3709f05e-d867-4006-8816-8a0684f1abea",
   "metadata": {
    "execution": {
     "iopub.status.busy": "2022-11-25T12:49:27.010786Z",
     "iopub.status.idle": "2022-11-25T12:49:27.010914Z",
     "shell.execute_reply": "2022-11-25T12:49:27.010848Z",
     "shell.execute_reply.started": "2022-11-25T12:49:27.010841Z"
    },
    "tags": []
   },
   "outputs": [],
   "source": [
    "drop = [c for c in baseline_outcomes if '_time' in c]\n",
    "baseline_outcomes = baseline_outcomes.drop(drop, axis=1)"
   ]
  },
  {
   "cell_type": "code",
   "execution_count": null,
   "id": "db851ddf-188d-4be5-b44a-180f7a873bad",
   "metadata": {
    "execution": {
     "iopub.status.busy": "2022-11-25T12:49:27.011485Z",
     "iopub.status.idle": "2022-11-25T12:49:27.011619Z",
     "shell.execute_reply": "2022-11-25T12:49:27.011551Z",
     "shell.execute_reply.started": "2022-11-25T12:49:27.011544Z"
    },
    "tags": []
   },
   "outputs": [],
   "source": [
    "baseline_outcomes.shape"
   ]
  },
  {
   "cell_type": "code",
   "execution_count": null,
   "id": "25536655-4dfa-486a-8baa-0df99a3b0740",
   "metadata": {
    "execution": {
     "iopub.status.busy": "2022-11-25T12:49:27.011919Z",
     "iopub.status.idle": "2022-11-25T12:49:27.012038Z",
     "shell.execute_reply": "2022-11-25T12:49:27.011979Z",
     "shell.execute_reply.started": "2022-11-25T12:49:27.011972Z"
    },
    "tags": []
   },
   "outputs": [],
   "source": [
    "outcomes_overall = pd.DataFrame([], index=baseline_outcomes.index.values)\n",
    "\n",
    "for endpoint in rr_significant.columns:\n",
    "    outcomes_overall[endpoint] = ((baseline_outcomes[f'{endpoint}_prev'] + baseline_outcomes[f'{endpoint}_event']) > 0)\n",
    "    "
   ]
  },
  {
   "cell_type": "code",
   "execution_count": null,
   "id": "6e8760c3-e5e3-4b36-9a4c-f5b657e48329",
   "metadata": {
    "execution": {
     "iopub.status.busy": "2022-11-25T12:49:27.012490Z",
     "iopub.status.idle": "2022-11-25T12:49:27.012616Z",
     "shell.execute_reply": "2022-11-25T12:49:27.012553Z",
     "shell.execute_reply.started": "2022-11-25T12:49:27.012546Z"
    },
    "tags": []
   },
   "outputs": [],
   "source": [
    "outcomes_overall.head()"
   ]
  },
  {
   "cell_type": "code",
   "execution_count": null,
   "id": "382b1d78-8d29-4c22-8265-51428305b0b4",
   "metadata": {
    "execution": {
     "iopub.status.busy": "2022-11-25T12:49:27.013081Z",
     "iopub.status.idle": "2022-11-25T12:49:27.013209Z",
     "shell.execute_reply": "2022-11-25T12:49:27.013146Z",
     "shell.execute_reply.started": "2022-11-25T12:49:27.013139Z"
    },
    "tags": []
   },
   "outputs": [],
   "source": [
    "outcomes_overall.reset_index().rename({'index': 'eid'}, axis=1).to_feather('/sc-projects/sc-proj-ukb-cvd/results/projects/22_retina_phewas/data/221108/outcomes_overall_221109.feather')"
   ]
  },
  {
   "cell_type": "code",
   "execution_count": null,
   "id": "63c229f7-092e-445d-90a1-cd15f2b7d18a",
   "metadata": {
    "execution": {
     "iopub.status.busy": "2022-11-25T12:49:27.013735Z",
     "iopub.status.idle": "2022-11-25T12:49:27.013861Z",
     "shell.execute_reply": "2022-11-25T12:49:27.013799Z",
     "shell.execute_reply.started": "2022-11-25T12:49:27.013792Z"
    },
    "tags": []
   },
   "outputs": [],
   "source": [
    "baseline_outcomes.reset_index().to_feather('/sc-projects/sc-proj-ukb-cvd/results/projects/22_retina_phewas/data/221108/baseline_outcomes_retina_221109.feather')"
   ]
  },
  {
   "cell_type": "markdown",
   "id": "cc6d7c78-2c17-403d-a478-18dfd732605c",
   "metadata": {},
   "source": [
    "# write aggregated predictions:"
   ]
  },
  {
   "cell_type": "code",
   "execution_count": null,
   "id": "3919d9fb-99d0-4bfd-82cf-65a085b5369c",
   "metadata": {
    "execution": {
     "iopub.status.busy": "2022-11-25T12:49:27.014358Z",
     "iopub.status.idle": "2022-11-25T12:49:27.014486Z",
     "shell.execute_reply": "2022-11-25T12:49:27.014423Z",
     "shell.execute_reply.started": "2022-11-25T12:49:27.014416Z"
    },
    "tags": []
   },
   "outputs": [],
   "source": [
    "preds = []\n",
    "for partition in range(0,22):\n",
    "    p = pd.read_feather(f'/sc-projects/sc-proj-ukb-cvd/results/projects/22_retina_phewas/data/221108/loghs/ImageTraining_[]_ConvNeXt_MLPHead_predictions_cropratio0.66/{partition}/test.feather')\n",
    "    preds.append(p)"
   ]
  },
  {
   "cell_type": "code",
   "execution_count": null,
   "id": "f28e9a4a-c54f-4d5c-9600-260d6f1e258d",
   "metadata": {
    "execution": {
     "iopub.status.busy": "2022-11-25T12:49:27.014940Z",
     "iopub.status.idle": "2022-11-25T12:49:27.015066Z",
     "shell.execute_reply": "2022-11-25T12:49:27.015004Z",
     "shell.execute_reply.started": "2022-11-25T12:49:27.014997Z"
    },
    "tags": []
   },
   "outputs": [],
   "source": [
    "len(preds)"
   ]
  },
  {
   "cell_type": "code",
   "execution_count": null,
   "id": "aac5bdb1-d7a2-4ea4-946d-e6fafc46b6c7",
   "metadata": {
    "execution": {
     "iopub.status.busy": "2022-11-25T12:49:27.015544Z",
     "iopub.status.idle": "2022-11-25T12:49:27.015667Z",
     "shell.execute_reply": "2022-11-25T12:49:27.015607Z",
     "shell.execute_reply.started": "2022-11-25T12:49:27.015601Z"
    },
    "tags": []
   },
   "outputs": [],
   "source": [
    "preds = pd.concat(preds, axis=0)"
   ]
  },
  {
   "cell_type": "code",
   "execution_count": null,
   "id": "fafcb89a-1996-40c2-b1d5-0a7d5fb01183",
   "metadata": {
    "execution": {
     "iopub.status.busy": "2022-11-25T12:49:27.016106Z",
     "iopub.status.idle": "2022-11-25T12:49:27.016227Z",
     "shell.execute_reply": "2022-11-25T12:49:27.016167Z",
     "shell.execute_reply.started": "2022-11-25T12:49:27.016161Z"
    },
    "tags": []
   },
   "outputs": [],
   "source": [
    "preds.shape"
   ]
  },
  {
   "cell_type": "code",
   "execution_count": null,
   "id": "a881710c-8fd6-432c-920c-4df27efe64f1",
   "metadata": {
    "execution": {
     "iopub.status.busy": "2022-11-25T12:49:27.016691Z",
     "iopub.status.idle": "2022-11-25T12:49:27.016817Z",
     "shell.execute_reply": "2022-11-25T12:49:27.016754Z",
     "shell.execute_reply.started": "2022-11-25T12:49:27.016748Z"
    }
   },
   "outputs": [],
   "source": [
    "preds.reset_index().to_feather('/sc-projects/sc-proj-ukb-cvd/results/projects/22_retina_phewas/data/221108/loghs_retina_221109.feather')"
   ]
  },
  {
   "cell_type": "code",
   "execution_count": null,
   "id": "2e3c2e5e-1ded-433f-81e3-def300410612",
   "metadata": {},
   "outputs": [],
   "source": []
  },
  {
   "cell_type": "code",
   "execution_count": null,
   "id": "b231958a-052e-4a32-ab3f-3f5edb2273b6",
   "metadata": {},
   "outputs": [],
   "source": []
  },
  {
   "cell_type": "code",
   "execution_count": null,
   "id": "4473d88a-05dd-4409-93a8-db1348887167",
   "metadata": {},
   "outputs": [],
   "source": []
  },
  {
   "cell_type": "markdown",
   "id": "132120db-4238-4822-9043-9c29c393526c",
   "metadata": {},
   "source": [
    "# Export to .tsv"
   ]
  },
  {
   "cell_type": "code",
   "execution_count": null,
   "id": "e26f9ea8-808b-496f-bfa4-5dc5e9578de4",
   "metadata": {
    "execution": {
     "iopub.status.busy": "2022-11-25T12:49:27.017435Z",
     "iopub.status.idle": "2022-11-25T12:49:27.017570Z",
     "shell.execute_reply": "2022-11-25T12:49:27.017501Z",
     "shell.execute_reply.started": "2022-11-25T12:49:27.017494Z"
    },
    "tags": []
   },
   "outputs": [],
   "source": [
    "files = [\n",
    "    'baseline_outcomes_retina_221109.feather', #=> outcomes before baseline ('_prev' suffix) and outcomes after baseline ('_event' suffix)\n",
    "    'loghs_retina_221109.feather', #=> retinal states\n",
    "    'outcomes_overall_221109.feather', #=> outcomes overall: any('prev', 'event')\n",
    "    'relative_risks_significant_endpoints_221109.feather' #=> risk_CPH(Age+Sex+Retina) / risk_CPH(Age+Sex)\n",
    "]"
   ]
  },
  {
   "cell_type": "code",
   "execution_count": null,
   "id": "9b9c5a9d-c57a-4d42-8577-90040b972dfe",
   "metadata": {
    "execution": {
     "iopub.status.busy": "2022-11-25T12:49:27.017973Z",
     "iopub.status.idle": "2022-11-25T12:49:27.018096Z",
     "shell.execute_reply": "2022-11-25T12:49:27.018035Z",
     "shell.execute_reply.started": "2022-11-25T12:49:27.018028Z"
    },
    "tags": []
   },
   "outputs": [],
   "source": [
    "for f in files:\n",
    "    path = f'/sc-projects/sc-proj-ukb-cvd/results/projects/22_retina_phewas/data/221108/{f}'\n",
    "    df = pd.read_feather(path).set_index('eid')\n",
    "    out_path = f'/sc-projects/sc-proj-ukb-cvd/results/projects/22_retina_phewas/data/221108/{os.path.splitext(f)[0]}.tsv'\n",
    "    df.to_csv(out_path, sep='\\t')"
   ]
  },
  {
   "cell_type": "code",
   "execution_count": null,
   "id": "2efcea00-d32e-4b9b-9093-bad034aa448a",
   "metadata": {
    "execution": {
     "iopub.status.busy": "2022-11-25T12:49:27.018575Z",
     "iopub.status.idle": "2022-11-25T12:49:27.018703Z",
     "shell.execute_reply": "2022-11-25T12:49:27.018640Z",
     "shell.execute_reply.started": "2022-11-25T12:49:27.018633Z"
    }
   },
   "outputs": [],
   "source": [
    "/tmp/retinalrisk//tmp/retinalrisk/baseline_outcomes_retina_221109.feather "
   ]
  },
  {
   "cell_type": "code",
   "execution_count": null,
   "id": "7b03f9c3-425d-40e7-85d8-01d91ef4831a",
   "metadata": {},
   "outputs": [],
   "source": []
  },
  {
   "cell_type": "code",
   "execution_count": null,
   "id": "f69d3183-3f87-42fc-917f-f82c475b579c",
   "metadata": {},
   "outputs": [],
   "source": []
  },
  {
   "cell_type": "markdown",
   "id": "3cda2f45-e2f6-42a1-909a-396e2eb2215f",
   "metadata": {},
   "source": [
    "# DO WE HAVE MISSING PHECODES??"
   ]
  },
  {
   "cell_type": "code",
   "execution_count": 4,
   "id": "b5e50718-af20-4349-8835-1e36158defb2",
   "metadata": {
    "execution": {
     "iopub.execute_input": "2022-11-28T09:23:57.960420Z",
     "iopub.status.busy": "2022-11-28T09:23:57.960252Z",
     "iopub.status.idle": "2022-11-28T09:23:58.442423Z",
     "shell.execute_reply": "2022-11-28T09:23:58.441918Z",
     "shell.execute_reply.started": "2022-11-28T09:23:57.960407Z"
    },
    "tags": []
   },
   "outputs": [],
   "source": [
    "asr_risk = pd.read_feather('')"
   ]
  },
  {
   "cell_type": "code",
   "execution_count": 6,
   "id": "8ad23f6e-fb10-4625-8f4e-c9643894d0b6",
   "metadata": {
    "execution": {
     "iopub.execute_input": "2022-11-28T09:38:54.667685Z",
     "iopub.status.busy": "2022-11-28T09:38:54.667509Z",
     "iopub.status.idle": "2022-11-28T09:38:55.534051Z",
     "shell.execute_reply": "2022-11-28T09:38:55.533626Z",
     "shell.execute_reply.started": "2022-11-28T09:38:54.667671Z"
    }
   },
   "outputs": [],
   "source": [
    "# check if all selected are in the relative risk table:\n",
    "selection = [\n",
    "\"phecode_164\",\n",
    "\"phecode_417-2\",\n",
    "\"phecode_665\",\n",
    "\"phecode_205\",\n",
    "\"phecode_387-2\",\n",
    "\"phecode_374-51\",\n",
    "\"phecode_367-5\",\n",
    "\"phecode_374-42\",\n",
    "\"phecode_582\",\n",
    "\"phecode_542-1\",\n",
    "\"phecode_396-1\",\n",
    "\"phecode_005\",\n",
    "\"phecode_059-1\",\n",
    "\"phecode_287\",\n",
    "\"phecode_236\",\n",
    "\"phecode_733-6\",\n",
    "\"phecode_114\",\n",
    "\"phecode_337-8\",\n",
    "\"phecode_498\",\n",
    "\"phecode_812\",\n",
    "]"
   ]
  },
  {
   "cell_type": "code",
   "execution_count": 7,
   "id": "df7766b8-eb08-4c6d-846f-1b97c82d7cd1",
   "metadata": {
    "execution": {
     "iopub.execute_input": "2022-11-28T09:39:18.663853Z",
     "iopub.status.busy": "2022-11-28T09:39:18.663679Z",
     "iopub.status.idle": "2022-11-28T09:39:18.676811Z",
     "shell.execute_reply": "2022-11-28T09:39:18.676451Z",
     "shell.execute_reply.started": "2022-11-28T09:39:18.663836Z"
    }
   },
   "outputs": [],
   "source": [
    "for p in selection:\n",
    "    if not p  in x.columns:\n",
    "        print(p)"
   ]
  },
  {
   "cell_type": "code",
   "execution_count": null,
   "id": "38a8d1ef-fd3d-4d40-ac1f-d3907003246e",
   "metadata": {},
   "outputs": [],
   "source": []
  }
 ],
 "metadata": {
  "kernelspec": {
   "display_name": "retrisk",
   "language": "python",
   "name": "retrisk"
  },
  "language_info": {
   "codemirror_mode": {
    "name": "ipython",
    "version": 3
   },
   "file_extension": ".py",
   "mimetype": "text/x-python",
   "name": "python",
   "nbconvert_exporter": "python",
   "pygments_lexer": "ipython3",
   "version": "3.9.7"
  }
 },
 "nbformat": 4,
 "nbformat_minor": 5
}
