{
 "cells": [
  {
   "cell_type": "markdown",
   "metadata": {},
   "source": [
    "# Benchmark Models"
   ]
  },
  {
   "cell_type": "markdown",
   "metadata": {},
   "source": [
    "## Initialize"
   ]
  },
  {
   "cell_type": "code",
   "execution_count": 13,
   "metadata": {
    "tags": []
   },
   "outputs": [
    {
     "name": "stdout",
     "output_type": "stream",
     "text": [
      "The autoreload extension is already loaded. To reload it, use:\n",
      "  %reload_ext autoreload\n"
     ]
    }
   ],
   "source": [
    "%load_ext autoreload\n",
    "%autoreload 2\n",
    "\n",
    "import os\n",
    "from tqdm.auto import tqdm\n",
    "import pathlib\n",
    "import datetime\n",
    "import subprocess\n",
    "import numpy as np\n",
    "import pandas as pd\n",
    "import lifelines"
   ]
  },
  {
   "cell_type": "code",
   "execution_count": 2,
   "metadata": {
    "tags": []
   },
   "outputs": [
    {
     "name": "stdout",
     "output_type": "stream",
     "text": [
      "/sc-projects/sc-proj-ukb-cvd\n"
     ]
    },
    {
     "data": {
      "text/plain": [
       "[0, 1, 2, 3, 4, 5, 6, 7, 8, 9, 10, 11, 12, 13, 14, 15, 16, 17, 18, 19, 20, 21]"
      ]
     },
     "execution_count": 2,
     "metadata": {},
     "output_type": "execute_result"
    }
   ],
   "source": [
    "node = !hostname\n",
    "if \"sc\" in node[0]:\n",
    "    base_path = \"/sc-projects/sc-proj-ukb-cvd\"\n",
    "else: \n",
    "    base_path = \"/data/analysis/ag-reils/ag-reils-shared/cardioRS\"\n",
    "print(base_path)\n",
    "\n",
    "project_label = \"22_retina_phewas_220603_fullrun\"\n",
    "project_path = f\"{base_path}/results/projects/{project_label}\"\n",
    "figure_path = f\"{project_path}/figures\"\n",
    "output_path = f\"{project_path}/data\"\n",
    "\n",
    "pathlib.Path(figure_path).mkdir(parents=True, exist_ok=True)\n",
    "pathlib.Path(output_path).mkdir(parents=True, exist_ok=True)\n",
    "\n",
    "USER = 'loockl'\n",
    "BASE = pathlib.Path(f\"/home/{USER}/\")\n",
    "EXPERIMENT_NAME = '220603_fullrun'\n",
    "#TEMPLATE_CONFIG = f\"{BASE}/config/\"  # template yaml to use\n",
    "TRAIN_SCRIPT = f\"{BASE}/riskiano/riskiano/experiments/lukas/phewas/22_retina_phewas_notebooks/1_processing/10_benchmarks_iteration.py\"\n",
    "ACTIVATE_ENV_CMD = \"\"\"conda activate retina_risk\"\"\"\n",
    "\n",
    "TAG = '220603_fullrun'\n",
    "JOBNAME = 'benchmark'\n",
    "\n",
    "name_dict = {\n",
    "    \"predictions_cropratio0.3\": \"ConvNextSmall(Retina)+MLP_cropratio0.3\",\n",
    "    \"predictions_cropratio0.5\": \"ConvNextSmall(Retina)+MLP_cropratio0.5\",\n",
    "    \"predictions_cropratio0.8\": \"ConvNextSmall(Retina)+MLP_cropratio0.8\",\n",
    "}\n",
    "\n",
    "partitions = [i for i in range(22)]\n",
    "partitions"
   ]
  },
  {
   "cell_type": "markdown",
   "metadata": {},
   "source": [
    "## Submit Benchmark jobs"
   ]
  },
  {
   "cell_type": "code",
   "execution_count": 3,
   "metadata": {
    "tags": []
   },
   "outputs": [],
   "source": [
    "os.makedirs(f\"/home/{USER}/tmp/{EXPERIMENT_NAME}/job_submissions\", exist_ok=True)\n",
    "os.makedirs(f\"/home/{USER}/tmp/{EXPERIMENT_NAME}/job_configs\", exist_ok=True)\n",
    "os.makedirs(f\"/home/{USER}/tmp/{EXPERIMENT_NAME}/job_outputs\", exist_ok=True)"
   ]
  },
  {
   "cell_type": "code",
   "execution_count": 4,
   "metadata": {
    "tags": []
   },
   "outputs": [],
   "source": [
    "def make_job_script(user, job_name, iteration):\n",
    "\n",
    "    job_script_str = (\n",
    "        f\"\"\"#!/bin/bash\n",
    "\n",
    "#SBATCH --job-name={job_name}  # Specify job name\n",
    "#SBATCH --nodes=1              # Specify number of nodes\n",
    "#SBATCH --mem=500G              # Specify number of nodes\n",
    "#SBATCH --time=3:30:00        # Set a limit on the total run time\n",
    "#SBATCH --tasks-per-node=1\n",
    "#SBATCH --exclusive\n",
    "\n",
    "{ACTIVATE_ENV_CMD}\n",
    "\n",
    "ray start --head --port=6378 --num-cpus 16\n",
    "python {TRAIN_SCRIPT} --iteration {iteration}\"\"\"\n",
    "            )\n",
    "\n",
    "    return job_script_str\n"
   ]
  },
  {
   "cell_type": "code",
   "execution_count": 5,
   "metadata": {
    "tags": []
   },
   "outputs": [],
   "source": [
    "def submit(path, job_name, job_script, time_stamp=None):\n",
    "    if not time_stamp:\n",
    "        time_stamp = datetime.datetime.now().strftime(\"%Y-%m-%d_%H:%M:%S\")\n",
    "\n",
    "    script_path_long = f\"{path}/{job_name}_{time_stamp}.sh\"\n",
    "\n",
    "    with open(script_path_long, \"w\") as outfile:\n",
    "        outfile.write(job_script)\n",
    "    script_path = f\"{path}/{job_name}.sh\"\n",
    "    try:\n",
    "        os.unlink(script_path)\n",
    "    except FileNotFoundError:  # because we cannot overwrite symlinks directly\n",
    "        pass\n",
    "    os.symlink(os.path.realpath(script_path_long), script_path)\n",
    "\n",
    "    output_path = f\"/home/{USER}/tmp/{EXPERIMENT_NAME}/job_outputs/{job_name}\"\n",
    "\n",
    "    print(job_script)\n",
    "    print(\"\\n\\nSubmission:\\n===========\\n\")\n",
    "    sub_cmd = (\n",
    "        f\"sbatch --error={output_path}_%j_stderr.out --output={output_path}_%j_stdout.out <\"\n",
    "        f\" {script_path}\"\n",
    "    )\n",
    "    print(sub_cmd)\n",
    "\n",
    "    ret = subprocess.run(sub_cmd, shell=True, cwd=os.getcwd(), capture_output=True)\n",
    "    print(ret.stdout.decode())"
   ]
  },
  {
   "cell_type": "code",
   "execution_count": 6,
   "metadata": {
    "tags": []
   },
   "outputs": [],
   "source": [
    "iterations = [i for i in range(38,50)] #10,100, # 100,1000"
   ]
  },
  {
   "cell_type": "code",
   "execution_count": 7,
   "metadata": {
    "scrolled": true,
    "tags": []
   },
   "outputs": [
    {
     "name": "stdout",
     "output_type": "stream",
     "text": [
      "#!/bin/bash\n",
      "\n",
      "#SBATCH --job-name=38_benchmark  # Specify job name\n",
      "#SBATCH --nodes=1              # Specify number of nodes\n",
      "#SBATCH --mem=500G              # Specify number of nodes\n",
      "#SBATCH --time=3:30:00        # Set a limit on the total run time\n",
      "#SBATCH --tasks-per-node=1\n",
      "#SBATCH --exclusive\n",
      "\n",
      "conda activate retina_risk\n",
      "\n",
      "ray start --head --port=6378 --num-cpus 16\n",
      "python /home/loockl/riskiano/riskiano/experiments/lukas/phewas/22_retina_phewas_notebooks/1_processing/10_benchmarks_iteration.py --iteration 38\n",
      "\n",
      "\n",
      "Submission:\n",
      "===========\n",
      "\n",
      "sbatch --error=/home/loockl/tmp/220603_fullrun/job_outputs/38_benchmark_%j_stderr.out --output=/home/loockl/tmp/220603_fullrun/job_outputs/38_benchmark_%j_stdout.out < /home/loockl/tmp/220603_fullrun/job_submissions/38_benchmark.sh\n",
      "Submitted batch job 212033\n",
      "\n",
      "#!/bin/bash\n",
      "\n",
      "#SBATCH --job-name=39_benchmark  # Specify job name\n",
      "#SBATCH --nodes=1              # Specify number of nodes\n",
      "#SBATCH --mem=500G              # Specify number of nodes\n",
      "#SBATCH --time=3:30:00        # Set a limit on the total run time\n",
      "#SBATCH --tasks-per-node=1\n",
      "#SBATCH --exclusive\n",
      "\n",
      "conda activate retina_risk\n",
      "\n",
      "ray start --head --port=6378 --num-cpus 16\n",
      "python /home/loockl/riskiano/riskiano/experiments/lukas/phewas/22_retina_phewas_notebooks/1_processing/10_benchmarks_iteration.py --iteration 39\n",
      "\n",
      "\n",
      "Submission:\n",
      "===========\n",
      "\n",
      "sbatch --error=/home/loockl/tmp/220603_fullrun/job_outputs/39_benchmark_%j_stderr.out --output=/home/loockl/tmp/220603_fullrun/job_outputs/39_benchmark_%j_stdout.out < /home/loockl/tmp/220603_fullrun/job_submissions/39_benchmark.sh\n",
      "Submitted batch job 212034\n",
      "\n",
      "#!/bin/bash\n",
      "\n",
      "#SBATCH --job-name=40_benchmark  # Specify job name\n",
      "#SBATCH --nodes=1              # Specify number of nodes\n",
      "#SBATCH --mem=500G              # Specify number of nodes\n",
      "#SBATCH --time=3:30:00        # Set a limit on the total run time\n",
      "#SBATCH --tasks-per-node=1\n",
      "#SBATCH --exclusive\n",
      "\n",
      "conda activate retina_risk\n",
      "\n",
      "ray start --head --port=6378 --num-cpus 16\n",
      "python /home/loockl/riskiano/riskiano/experiments/lukas/phewas/22_retina_phewas_notebooks/1_processing/10_benchmarks_iteration.py --iteration 40\n",
      "\n",
      "\n",
      "Submission:\n",
      "===========\n",
      "\n",
      "sbatch --error=/home/loockl/tmp/220603_fullrun/job_outputs/40_benchmark_%j_stderr.out --output=/home/loockl/tmp/220603_fullrun/job_outputs/40_benchmark_%j_stdout.out < /home/loockl/tmp/220603_fullrun/job_submissions/40_benchmark.sh\n",
      "Submitted batch job 212035\n",
      "\n",
      "#!/bin/bash\n",
      "\n",
      "#SBATCH --job-name=41_benchmark  # Specify job name\n",
      "#SBATCH --nodes=1              # Specify number of nodes\n",
      "#SBATCH --mem=500G              # Specify number of nodes\n",
      "#SBATCH --time=3:30:00        # Set a limit on the total run time\n",
      "#SBATCH --tasks-per-node=1\n",
      "#SBATCH --exclusive\n",
      "\n",
      "conda activate retina_risk\n",
      "\n",
      "ray start --head --port=6378 --num-cpus 16\n",
      "python /home/loockl/riskiano/riskiano/experiments/lukas/phewas/22_retina_phewas_notebooks/1_processing/10_benchmarks_iteration.py --iteration 41\n",
      "\n",
      "\n",
      "Submission:\n",
      "===========\n",
      "\n",
      "sbatch --error=/home/loockl/tmp/220603_fullrun/job_outputs/41_benchmark_%j_stderr.out --output=/home/loockl/tmp/220603_fullrun/job_outputs/41_benchmark_%j_stdout.out < /home/loockl/tmp/220603_fullrun/job_submissions/41_benchmark.sh\n",
      "Submitted batch job 212036\n",
      "\n",
      "#!/bin/bash\n",
      "\n",
      "#SBATCH --job-name=42_benchmark  # Specify job name\n",
      "#SBATCH --nodes=1              # Specify number of nodes\n",
      "#SBATCH --mem=500G              # Specify number of nodes\n",
      "#SBATCH --time=3:30:00        # Set a limit on the total run time\n",
      "#SBATCH --tasks-per-node=1\n",
      "#SBATCH --exclusive\n",
      "\n",
      "conda activate retina_risk\n",
      "\n",
      "ray start --head --port=6378 --num-cpus 16\n",
      "python /home/loockl/riskiano/riskiano/experiments/lukas/phewas/22_retina_phewas_notebooks/1_processing/10_benchmarks_iteration.py --iteration 42\n",
      "\n",
      "\n",
      "Submission:\n",
      "===========\n",
      "\n",
      "sbatch --error=/home/loockl/tmp/220603_fullrun/job_outputs/42_benchmark_%j_stderr.out --output=/home/loockl/tmp/220603_fullrun/job_outputs/42_benchmark_%j_stdout.out < /home/loockl/tmp/220603_fullrun/job_submissions/42_benchmark.sh\n",
      "Submitted batch job 212037\n",
      "\n",
      "#!/bin/bash\n",
      "\n",
      "#SBATCH --job-name=43_benchmark  # Specify job name\n",
      "#SBATCH --nodes=1              # Specify number of nodes\n",
      "#SBATCH --mem=500G              # Specify number of nodes\n",
      "#SBATCH --time=3:30:00        # Set a limit on the total run time\n",
      "#SBATCH --tasks-per-node=1\n",
      "#SBATCH --exclusive\n",
      "\n",
      "conda activate retina_risk\n",
      "\n",
      "ray start --head --port=6378 --num-cpus 16\n",
      "python /home/loockl/riskiano/riskiano/experiments/lukas/phewas/22_retina_phewas_notebooks/1_processing/10_benchmarks_iteration.py --iteration 43\n",
      "\n",
      "\n",
      "Submission:\n",
      "===========\n",
      "\n",
      "sbatch --error=/home/loockl/tmp/220603_fullrun/job_outputs/43_benchmark_%j_stderr.out --output=/home/loockl/tmp/220603_fullrun/job_outputs/43_benchmark_%j_stdout.out < /home/loockl/tmp/220603_fullrun/job_submissions/43_benchmark.sh\n",
      "Submitted batch job 212038\n",
      "\n",
      "#!/bin/bash\n",
      "\n",
      "#SBATCH --job-name=44_benchmark  # Specify job name\n",
      "#SBATCH --nodes=1              # Specify number of nodes\n",
      "#SBATCH --mem=500G              # Specify number of nodes\n",
      "#SBATCH --time=3:30:00        # Set a limit on the total run time\n",
      "#SBATCH --tasks-per-node=1\n",
      "#SBATCH --exclusive\n",
      "\n",
      "conda activate retina_risk\n",
      "\n",
      "ray start --head --port=6378 --num-cpus 16\n",
      "python /home/loockl/riskiano/riskiano/experiments/lukas/phewas/22_retina_phewas_notebooks/1_processing/10_benchmarks_iteration.py --iteration 44\n",
      "\n",
      "\n",
      "Submission:\n",
      "===========\n",
      "\n",
      "sbatch --error=/home/loockl/tmp/220603_fullrun/job_outputs/44_benchmark_%j_stderr.out --output=/home/loockl/tmp/220603_fullrun/job_outputs/44_benchmark_%j_stdout.out < /home/loockl/tmp/220603_fullrun/job_submissions/44_benchmark.sh\n",
      "Submitted batch job 212039\n",
      "\n",
      "#!/bin/bash\n",
      "\n",
      "#SBATCH --job-name=45_benchmark  # Specify job name\n",
      "#SBATCH --nodes=1              # Specify number of nodes\n",
      "#SBATCH --mem=500G              # Specify number of nodes\n",
      "#SBATCH --time=3:30:00        # Set a limit on the total run time\n",
      "#SBATCH --tasks-per-node=1\n",
      "#SBATCH --exclusive\n",
      "\n",
      "conda activate retina_risk\n",
      "\n",
      "ray start --head --port=6378 --num-cpus 16\n",
      "python /home/loockl/riskiano/riskiano/experiments/lukas/phewas/22_retina_phewas_notebooks/1_processing/10_benchmarks_iteration.py --iteration 45\n",
      "\n",
      "\n",
      "Submission:\n",
      "===========\n",
      "\n",
      "sbatch --error=/home/loockl/tmp/220603_fullrun/job_outputs/45_benchmark_%j_stderr.out --output=/home/loockl/tmp/220603_fullrun/job_outputs/45_benchmark_%j_stdout.out < /home/loockl/tmp/220603_fullrun/job_submissions/45_benchmark.sh\n",
      "Submitted batch job 212040\n",
      "\n",
      "#!/bin/bash\n",
      "\n",
      "#SBATCH --job-name=46_benchmark  # Specify job name\n",
      "#SBATCH --nodes=1              # Specify number of nodes\n",
      "#SBATCH --mem=500G              # Specify number of nodes\n",
      "#SBATCH --time=3:30:00        # Set a limit on the total run time\n",
      "#SBATCH --tasks-per-node=1\n",
      "#SBATCH --exclusive\n",
      "\n",
      "conda activate retina_risk\n",
      "\n",
      "ray start --head --port=6378 --num-cpus 16\n",
      "python /home/loockl/riskiano/riskiano/experiments/lukas/phewas/22_retina_phewas_notebooks/1_processing/10_benchmarks_iteration.py --iteration 46\n",
      "\n",
      "\n",
      "Submission:\n",
      "===========\n",
      "\n",
      "sbatch --error=/home/loockl/tmp/220603_fullrun/job_outputs/46_benchmark_%j_stderr.out --output=/home/loockl/tmp/220603_fullrun/job_outputs/46_benchmark_%j_stdout.out < /home/loockl/tmp/220603_fullrun/job_submissions/46_benchmark.sh\n",
      "Submitted batch job 212041\n",
      "\n",
      "#!/bin/bash\n",
      "\n",
      "#SBATCH --job-name=47_benchmark  # Specify job name\n",
      "#SBATCH --nodes=1              # Specify number of nodes\n",
      "#SBATCH --mem=500G              # Specify number of nodes\n",
      "#SBATCH --time=3:30:00        # Set a limit on the total run time\n",
      "#SBATCH --tasks-per-node=1\n",
      "#SBATCH --exclusive\n",
      "\n",
      "conda activate retina_risk\n",
      "\n",
      "ray start --head --port=6378 --num-cpus 16\n",
      "python /home/loockl/riskiano/riskiano/experiments/lukas/phewas/22_retina_phewas_notebooks/1_processing/10_benchmarks_iteration.py --iteration 47\n",
      "\n",
      "\n",
      "Submission:\n",
      "===========\n",
      "\n",
      "sbatch --error=/home/loockl/tmp/220603_fullrun/job_outputs/47_benchmark_%j_stderr.out --output=/home/loockl/tmp/220603_fullrun/job_outputs/47_benchmark_%j_stdout.out < /home/loockl/tmp/220603_fullrun/job_submissions/47_benchmark.sh\n",
      "Submitted batch job 212042\n",
      "\n",
      "#!/bin/bash\n",
      "\n",
      "#SBATCH --job-name=48_benchmark  # Specify job name\n",
      "#SBATCH --nodes=1              # Specify number of nodes\n",
      "#SBATCH --mem=500G              # Specify number of nodes\n",
      "#SBATCH --time=3:30:00        # Set a limit on the total run time\n",
      "#SBATCH --tasks-per-node=1\n",
      "#SBATCH --exclusive\n",
      "\n",
      "conda activate retina_risk\n",
      "\n",
      "ray start --head --port=6378 --num-cpus 16\n",
      "python /home/loockl/riskiano/riskiano/experiments/lukas/phewas/22_retina_phewas_notebooks/1_processing/10_benchmarks_iteration.py --iteration 48\n",
      "\n",
      "\n",
      "Submission:\n",
      "===========\n",
      "\n",
      "sbatch --error=/home/loockl/tmp/220603_fullrun/job_outputs/48_benchmark_%j_stderr.out --output=/home/loockl/tmp/220603_fullrun/job_outputs/48_benchmark_%j_stdout.out < /home/loockl/tmp/220603_fullrun/job_submissions/48_benchmark.sh\n",
      "Submitted batch job 212043\n",
      "\n",
      "#!/bin/bash\n",
      "\n",
      "#SBATCH --job-name=49_benchmark  # Specify job name\n",
      "#SBATCH --nodes=1              # Specify number of nodes\n",
      "#SBATCH --mem=500G              # Specify number of nodes\n",
      "#SBATCH --time=3:30:00        # Set a limit on the total run time\n",
      "#SBATCH --tasks-per-node=1\n",
      "#SBATCH --exclusive\n",
      "\n",
      "conda activate retina_risk\n",
      "\n",
      "ray start --head --port=6378 --num-cpus 16\n",
      "python /home/loockl/riskiano/riskiano/experiments/lukas/phewas/22_retina_phewas_notebooks/1_processing/10_benchmarks_iteration.py --iteration 49\n",
      "\n",
      "\n",
      "Submission:\n",
      "===========\n",
      "\n",
      "sbatch --error=/home/loockl/tmp/220603_fullrun/job_outputs/49_benchmark_%j_stderr.out --output=/home/loockl/tmp/220603_fullrun/job_outputs/49_benchmark_%j_stdout.out < /home/loockl/tmp/220603_fullrun/job_submissions/49_benchmark.sh\n",
      "Submitted batch job 212044\n",
      "\n",
      "[None, None, None, None, None, None, None, None, None, None, None, None]\n"
     ]
    }
   ],
   "source": [
    "import time\n",
    "\n",
    "jobids = []\n",
    "for iteration in iterations:\n",
    "    \n",
    "    job_name = f\"{iteration}_{JOBNAME}\"\n",
    "\n",
    "    job_script = make_job_script(user=USER, job_name=job_name, iteration=iteration)\n",
    "\n",
    "    jobid = submit(\n",
    "        path=f\"/home/{USER}/tmp/{EXPERIMENT_NAME}/job_submissions\",\n",
    "        job_name=job_name,\n",
    "        job_script=job_script,\n",
    "    )\n",
    "\n",
    "    jobids.append(jobid)\n",
    "\n",
    "print(jobids)"
   ]
  },
  {
   "cell_type": "markdown",
   "metadata": {},
   "source": [
    "## Check progress"
   ]
  },
  {
   "cell_type": "code",
   "execution_count": 8,
   "metadata": {},
   "outputs": [
    {
     "name": "stdout",
     "output_type": "stream",
     "text": [
      "/sc-projects/sc-proj-ukb-cvd\n"
     ]
    },
    {
     "data": {
      "text/plain": [
       "'/sc-projects/sc-proj-ukb-cvd/results/projects/22_retina_phewas_220603_fullrun/data/220603_fullrun'"
      ]
     },
     "execution_count": 8,
     "metadata": {},
     "output_type": "execute_result"
    }
   ],
   "source": [
    "base_path = \"/sc-projects/sc-proj-ukb-cvd\"\n",
    "print(base_path)\n",
    "\n",
    "project_label = \"22_retina_phewas_220603_fullrun\"\n",
    "project_path = f\"{base_path}/results/projects/{project_label}\"\n",
    "figure_path = f\"{project_path}/figures\"\n",
    "output_path = f\"{project_path}/data\"\n",
    "\n",
    "experiment = '220603_fullrun'\n",
    "experiment_path = f\"{output_path}/{experiment}\"\n",
    "experiment_path"
   ]
  },
  {
   "cell_type": "code",
   "execution_count": 14,
   "metadata": {},
   "outputs": [],
   "source": [
    "from datetime import date\n",
    "today = str(date.today())\n",
    "#today = '2022-07-01'"
   ]
  },
  {
   "cell_type": "code",
   "execution_count": 15,
   "metadata": {
    "tags": []
   },
   "outputs": [
    {
     "data": {
      "text/html": [
       "<div>\n",
       "<style scoped>\n",
       "    .dataframe tbody tr th:only-of-type {\n",
       "        vertical-align: middle;\n",
       "    }\n",
       "\n",
       "    .dataframe tbody tr th {\n",
       "        vertical-align: top;\n",
       "    }\n",
       "\n",
       "    .dataframe thead th {\n",
       "        text-align: right;\n",
       "    }\n",
       "</style>\n",
       "<table border=\"1\" class=\"dataframe\">\n",
       "  <thead>\n",
       "    <tr style=\"text-align: right;\">\n",
       "      <th></th>\n",
       "      <th>0</th>\n",
       "    </tr>\n",
       "    <tr>\n",
       "      <th>iteration</th>\n",
       "      <th></th>\n",
       "    </tr>\n",
       "  </thead>\n",
       "  <tbody>\n",
       "    <tr>\n",
       "      <th>0</th>\n",
       "      <td>10539</td>\n",
       "    </tr>\n",
       "    <tr>\n",
       "      <th>1</th>\n",
       "      <td>10539</td>\n",
       "    </tr>\n",
       "    <tr>\n",
       "      <th>2</th>\n",
       "      <td>10539</td>\n",
       "    </tr>\n",
       "    <tr>\n",
       "      <th>3</th>\n",
       "      <td>10539</td>\n",
       "    </tr>\n",
       "    <tr>\n",
       "      <th>5</th>\n",
       "      <td>10539</td>\n",
       "    </tr>\n",
       "    <tr>\n",
       "      <th>6</th>\n",
       "      <td>10539</td>\n",
       "    </tr>\n",
       "    <tr>\n",
       "      <th>7</th>\n",
       "      <td>10539</td>\n",
       "    </tr>\n",
       "    <tr>\n",
       "      <th>8</th>\n",
       "      <td>10539</td>\n",
       "    </tr>\n",
       "    <tr>\n",
       "      <th>9</th>\n",
       "      <td>10539</td>\n",
       "    </tr>\n",
       "    <tr>\n",
       "      <th>10</th>\n",
       "      <td>10539</td>\n",
       "    </tr>\n",
       "    <tr>\n",
       "      <th>11</th>\n",
       "      <td>10539</td>\n",
       "    </tr>\n",
       "    <tr>\n",
       "      <th>12</th>\n",
       "      <td>10539</td>\n",
       "    </tr>\n",
       "    <tr>\n",
       "      <th>13</th>\n",
       "      <td>10539</td>\n",
       "    </tr>\n",
       "    <tr>\n",
       "      <th>14</th>\n",
       "      <td>10539</td>\n",
       "    </tr>\n",
       "    <tr>\n",
       "      <th>15</th>\n",
       "      <td>10539</td>\n",
       "    </tr>\n",
       "    <tr>\n",
       "      <th>16</th>\n",
       "      <td>10539</td>\n",
       "    </tr>\n",
       "    <tr>\n",
       "      <th>17</th>\n",
       "      <td>10539</td>\n",
       "    </tr>\n",
       "    <tr>\n",
       "      <th>18</th>\n",
       "      <td>10539</td>\n",
       "    </tr>\n",
       "    <tr>\n",
       "      <th>19</th>\n",
       "      <td>10539</td>\n",
       "    </tr>\n",
       "    <tr>\n",
       "      <th>20</th>\n",
       "      <td>10539</td>\n",
       "    </tr>\n",
       "    <tr>\n",
       "      <th>21</th>\n",
       "      <td>10539</td>\n",
       "    </tr>\n",
       "    <tr>\n",
       "      <th>22</th>\n",
       "      <td>10539</td>\n",
       "    </tr>\n",
       "    <tr>\n",
       "      <th>23</th>\n",
       "      <td>10539</td>\n",
       "    </tr>\n",
       "    <tr>\n",
       "      <th>24</th>\n",
       "      <td>10539</td>\n",
       "    </tr>\n",
       "    <tr>\n",
       "      <th>25</th>\n",
       "      <td>10539</td>\n",
       "    </tr>\n",
       "    <tr>\n",
       "      <th>26</th>\n",
       "      <td>10539</td>\n",
       "    </tr>\n",
       "    <tr>\n",
       "      <th>27</th>\n",
       "      <td>10539</td>\n",
       "    </tr>\n",
       "    <tr>\n",
       "      <th>28</th>\n",
       "      <td>10539</td>\n",
       "    </tr>\n",
       "    <tr>\n",
       "      <th>29</th>\n",
       "      <td>10539</td>\n",
       "    </tr>\n",
       "    <tr>\n",
       "      <th>30</th>\n",
       "      <td>10539</td>\n",
       "    </tr>\n",
       "    <tr>\n",
       "      <th>31</th>\n",
       "      <td>10539</td>\n",
       "    </tr>\n",
       "    <tr>\n",
       "      <th>32</th>\n",
       "      <td>10539</td>\n",
       "    </tr>\n",
       "    <tr>\n",
       "      <th>33</th>\n",
       "      <td>10539</td>\n",
       "    </tr>\n",
       "    <tr>\n",
       "      <th>34</th>\n",
       "      <td>10539</td>\n",
       "    </tr>\n",
       "    <tr>\n",
       "      <th>35</th>\n",
       "      <td>10539</td>\n",
       "    </tr>\n",
       "    <tr>\n",
       "      <th>36</th>\n",
       "      <td>10539</td>\n",
       "    </tr>\n",
       "    <tr>\n",
       "      <th>37</th>\n",
       "      <td>10539</td>\n",
       "    </tr>\n",
       "    <tr>\n",
       "      <th>38</th>\n",
       "      <td>10539</td>\n",
       "    </tr>\n",
       "    <tr>\n",
       "      <th>39</th>\n",
       "      <td>10539</td>\n",
       "    </tr>\n",
       "    <tr>\n",
       "      <th>40</th>\n",
       "      <td>10539</td>\n",
       "    </tr>\n",
       "    <tr>\n",
       "      <th>41</th>\n",
       "      <td>10539</td>\n",
       "    </tr>\n",
       "    <tr>\n",
       "      <th>42</th>\n",
       "      <td>10539</td>\n",
       "    </tr>\n",
       "    <tr>\n",
       "      <th>43</th>\n",
       "      <td>10539</td>\n",
       "    </tr>\n",
       "    <tr>\n",
       "      <th>44</th>\n",
       "      <td>10539</td>\n",
       "    </tr>\n",
       "    <tr>\n",
       "      <th>45</th>\n",
       "      <td>10539</td>\n",
       "    </tr>\n",
       "    <tr>\n",
       "      <th>46</th>\n",
       "      <td>10539</td>\n",
       "    </tr>\n",
       "    <tr>\n",
       "      <th>47</th>\n",
       "      <td>10539</td>\n",
       "    </tr>\n",
       "    <tr>\n",
       "      <th>48</th>\n",
       "      <td>10539</td>\n",
       "    </tr>\n",
       "    <tr>\n",
       "      <th>49</th>\n",
       "      <td>10539</td>\n",
       "    </tr>\n",
       "  </tbody>\n",
       "</table>\n",
       "</div>"
      ],
      "text/plain": [
       "               0\n",
       "iteration       \n",
       "0          10539\n",
       "1          10539\n",
       "2          10539\n",
       "3          10539\n",
       "5          10539\n",
       "6          10539\n",
       "7          10539\n",
       "8          10539\n",
       "9          10539\n",
       "10         10539\n",
       "11         10539\n",
       "12         10539\n",
       "13         10539\n",
       "14         10539\n",
       "15         10539\n",
       "16         10539\n",
       "17         10539\n",
       "18         10539\n",
       "19         10539\n",
       "20         10539\n",
       "21         10539\n",
       "22         10539\n",
       "23         10539\n",
       "24         10539\n",
       "25         10539\n",
       "26         10539\n",
       "27         10539\n",
       "28         10539\n",
       "29         10539\n",
       "30         10539\n",
       "31         10539\n",
       "32         10539\n",
       "33         10539\n",
       "34         10539\n",
       "35         10539\n",
       "36         10539\n",
       "37         10539\n",
       "38         10539\n",
       "39         10539\n",
       "40         10539\n",
       "41         10539\n",
       "42         10539\n",
       "43         10539\n",
       "44         10539\n",
       "45         10539\n",
       "46         10539\n",
       "47         10539\n",
       "48         10539\n",
       "49         10539"
      ]
     },
     "execution_count": 15,
     "metadata": {},
     "output_type": "execute_result"
    }
   ],
   "source": [
    "from pathlib import Path\n",
    "benchmark_paths = aths = list(Path(f\"{experiment_path}/benchmarks/\").rglob('*.feather'))\n",
    "\n",
    "benchmarks_df = pd.concat([pd.read_feather(p) for p in benchmark_paths], axis=0)\n",
    "\n",
    "benchmarks_df.value_counts([\"iteration\"]).to_frame().sort_values(\"iteration\")"
   ]
  },
  {
   "cell_type": "code",
   "execution_count": 16,
   "metadata": {
    "tags": []
   },
   "outputs": [],
   "source": [
    "benchmarks_df.reset_index(drop=True).to_feather(f\"{experiment_path}/benchmarks_cindex_{today}.feather\")"
   ]
  },
  {
   "cell_type": "code",
   "execution_count": 17,
   "metadata": {
    "tags": []
   },
   "outputs": [
    {
     "data": {
      "text/html": [
       "<div>\n",
       "<style scoped>\n",
       "    .dataframe tbody tr th:only-of-type {\n",
       "        vertical-align: middle;\n",
       "    }\n",
       "\n",
       "    .dataframe tbody tr th {\n",
       "        vertical-align: top;\n",
       "    }\n",
       "\n",
       "    .dataframe thead th {\n",
       "        text-align: right;\n",
       "    }\n",
       "</style>\n",
       "<table border=\"1\" class=\"dataframe\">\n",
       "  <thead>\n",
       "    <tr style=\"text-align: right;\">\n",
       "      <th></th>\n",
       "      <th>iteration</th>\n",
       "      <th>time</th>\n",
       "      <th>cindex</th>\n",
       "    </tr>\n",
       "    <tr>\n",
       "      <th>score</th>\n",
       "      <th></th>\n",
       "      <th></th>\n",
       "      <th></th>\n",
       "    </tr>\n",
       "  </thead>\n",
       "  <tbody>\n",
       "    <tr>\n",
       "      <th>Age+Sex</th>\n",
       "      <td>24.918367</td>\n",
       "      <td>10.0</td>\n",
       "      <td>0.595193</td>\n",
       "    </tr>\n",
       "    <tr>\n",
       "      <th>Age+Sex+Retina</th>\n",
       "      <td>24.918367</td>\n",
       "      <td>10.0</td>\n",
       "      <td>0.597533</td>\n",
       "    </tr>\n",
       "    <tr>\n",
       "      <th>Retina</th>\n",
       "      <td>24.918367</td>\n",
       "      <td>10.0</td>\n",
       "      <td>0.602553</td>\n",
       "    </tr>\n",
       "    <tr>\n",
       "      <th>SCORE2</th>\n",
       "      <td>24.918367</td>\n",
       "      <td>10.0</td>\n",
       "      <td>0.608161</td>\n",
       "    </tr>\n",
       "    <tr>\n",
       "      <th>SCORE2+Retina</th>\n",
       "      <td>24.918367</td>\n",
       "      <td>10.0</td>\n",
       "      <td>0.609067</td>\n",
       "    </tr>\n",
       "    <tr>\n",
       "      <th>ASCVD</th>\n",
       "      <td>24.918367</td>\n",
       "      <td>10.0</td>\n",
       "      <td>0.612461</td>\n",
       "    </tr>\n",
       "    <tr>\n",
       "      <th>ASCVD+Retina</th>\n",
       "      <td>24.918367</td>\n",
       "      <td>10.0</td>\n",
       "      <td>0.612613</td>\n",
       "    </tr>\n",
       "    <tr>\n",
       "      <th>QRISK3</th>\n",
       "      <td>24.918367</td>\n",
       "      <td>10.0</td>\n",
       "      <td>0.622411</td>\n",
       "    </tr>\n",
       "    <tr>\n",
       "      <th>QRISK3+Retina</th>\n",
       "      <td>24.918367</td>\n",
       "      <td>10.0</td>\n",
       "      <td>0.622454</td>\n",
       "    </tr>\n",
       "  </tbody>\n",
       "</table>\n",
       "</div>"
      ],
      "text/plain": [
       "                iteration  time    cindex\n",
       "score                                    \n",
       "Age+Sex         24.918367  10.0  0.595193\n",
       "Age+Sex+Retina  24.918367  10.0  0.597533\n",
       "Retina          24.918367  10.0  0.602553\n",
       "SCORE2          24.918367  10.0  0.608161\n",
       "SCORE2+Retina   24.918367  10.0  0.609067\n",
       "ASCVD           24.918367  10.0  0.612461\n",
       "ASCVD+Retina    24.918367  10.0  0.612613\n",
       "QRISK3          24.918367  10.0  0.622411\n",
       "QRISK3+Retina   24.918367  10.0  0.622454"
      ]
     },
     "execution_count": 17,
     "metadata": {},
     "output_type": "execute_result"
    }
   ],
   "source": [
    "benchmarks_df.groupby([\"score\"]).mean(\"cindex\").sort_values(\"cindex\")"
   ]
  },
  {
   "cell_type": "code",
   "execution_count": null,
   "metadata": {},
   "outputs": [],
   "source": []
  },
  {
   "cell_type": "code",
   "execution_count": null,
   "metadata": {},
   "outputs": [],
   "source": []
  },
  {
   "cell_type": "code",
   "execution_count": null,
   "metadata": {},
   "outputs": [],
   "source": []
  },
  {
   "cell_type": "code",
   "execution_count": null,
   "metadata": {},
   "outputs": [],
   "source": []
  },
  {
   "cell_type": "code",
   "execution_count": null,
   "metadata": {},
   "outputs": [],
   "source": []
  },
  {
   "cell_type": "code",
   "execution_count": null,
   "metadata": {},
   "outputs": [],
   "source": []
  },
  {
   "cell_type": "code",
   "execution_count": null,
   "metadata": {},
   "outputs": [],
   "source": []
  },
  {
   "cell_type": "code",
   "execution_count": null,
   "metadata": {},
   "outputs": [],
   "source": []
  },
  {
   "cell_type": "code",
   "execution_count": null,
   "metadata": {},
   "outputs": [],
   "source": []
  },
  {
   "cell_type": "code",
   "execution_count": null,
   "metadata": {},
   "outputs": [],
   "source": []
  },
  {
   "cell_type": "code",
   "execution_count": null,
   "metadata": {},
   "outputs": [],
   "source": []
  },
  {
   "cell_type": "code",
   "execution_count": null,
   "metadata": {},
   "outputs": [],
   "source": []
  },
  {
   "cell_type": "code",
   "execution_count": null,
   "metadata": {},
   "outputs": [],
   "source": []
  },
  {
   "cell_type": "code",
   "execution_count": null,
   "metadata": {},
   "outputs": [],
   "source": []
  },
  {
   "cell_type": "code",
   "execution_count": null,
   "metadata": {},
   "outputs": [],
   "source": []
  },
  {
   "cell_type": "code",
   "execution_count": null,
   "metadata": {},
   "outputs": [],
   "source": []
  },
  {
   "cell_type": "markdown",
   "metadata": {},
   "source": [
    "# old stuff"
   ]
  },
  {
   "cell_type": "code",
   "execution_count": null,
   "metadata": {},
   "outputs": [
    {
     "name": "stdout",
     "output_type": "stream",
     "text": [
      "env: MKL_NUM_THREADS=1\n",
      "env: NUMEXPR_NUM_THREADS=1\n",
      "env: OMP_NUM_THREADS=1\n"
     ]
    }
   ],
   "source": [
    "%env MKL_NUM_THREADS=1\n",
    "%env NUMEXPR_NUM_THREADS=1\n",
    "%env OMP_NUM_THREADS=1"
   ]
  },
  {
   "cell_type": "code",
   "execution_count": null,
   "metadata": {},
   "outputs": [
    {
     "ename": "NameError",
     "evalue": "name 'ray' is not defined",
     "output_type": "error",
     "traceback": [
      "\u001b[0;31m---------------------------------------------------------------------------\u001b[0m",
      "\u001b[0;31mNameError\u001b[0m                                 Traceback (most recent call last)",
      "\u001b[0;32m/tmp/ipykernel_1027861/977760057.py\u001b[0m in \u001b[0;36m<module>\u001b[0;34m\u001b[0m\n\u001b[0;32m----> 1\u001b[0;31m \u001b[0mray\u001b[0m\u001b[0;34m.\u001b[0m\u001b[0mshutdown\u001b[0m\u001b[0;34m(\u001b[0m\u001b[0;34m)\u001b[0m\u001b[0;34m\u001b[0m\u001b[0;34m\u001b[0m\u001b[0m\n\u001b[0m",
      "\u001b[0;31mNameError\u001b[0m: name 'ray' is not defined"
     ]
    }
   ],
   "source": [
    "ray.shutdown()"
   ]
  },
  {
   "cell_type": "code",
   "execution_count": null,
   "metadata": {},
   "outputs": [
    {
     "data": {
      "text/plain": [
       "RayContext(dashboard_url='', python_version='3.9.7', ray_version='1.12.1', ray_commit='4863e33856b54ccf8add5cbe75e41558850a1b75', address_info={'node_ip_address': '10.32.105.2', 'raylet_ip_address': '10.32.105.2', 'redis_address': None, 'object_store_address': '/tmp/ray/session_2022-06-08_18-22-29_185810_1027861/sockets/plasma_store', 'raylet_socket_name': '/tmp/ray/session_2022-06-08_18-22-29_185810_1027861/sockets/raylet', 'webui_url': '', 'session_dir': '/tmp/ray/session_2022-06-08_18-22-29_185810_1027861', 'metrics_export_port': 49949, 'gcs_address': '10.32.105.2:58760', 'address': '10.32.105.2:58760', 'node_id': '7f1a8bf36f18cb087d1a94c5fc24115fb56181bff5980da09aa04cc0'})"
      ]
     },
     "execution_count": 4,
     "metadata": {},
     "output_type": "execute_result"
    }
   ],
   "source": [
    "import ray\n",
    "ray.init(num_cpus=24)#, webui_url=\"0.0.0.0\")"
   ]
  },
  {
   "cell_type": "code",
   "execution_count": 6,
   "metadata": {
    "tags": []
   },
   "outputs": [],
   "source": [
    "in_path = f\"{experiment_path}/coxph/predictions\""
   ]
  },
  {
   "cell_type": "code",
   "execution_count": 7,
   "metadata": {
    "tags": []
   },
   "outputs": [
    {
     "data": {
      "text/html": [
       "<div>\n",
       "<style scoped>\n",
       "    .dataframe tbody tr th:only-of-type {\n",
       "        vertical-align: middle;\n",
       "    }\n",
       "\n",
       "    .dataframe tbody tr th {\n",
       "        vertical-align: top;\n",
       "    }\n",
       "\n",
       "    .dataframe thead th {\n",
       "        text-align: right;\n",
       "    }\n",
       "</style>\n",
       "<table border=\"1\" class=\"dataframe\">\n",
       "  <thead>\n",
       "    <tr style=\"text-align: right;\">\n",
       "      <th></th>\n",
       "      <th>endpoint</th>\n",
       "      <th>score</th>\n",
       "      <th>partition</th>\n",
       "      <th>path</th>\n",
       "    </tr>\n",
       "  </thead>\n",
       "  <tbody>\n",
       "    <tr>\n",
       "      <th>0</th>\n",
       "      <td>OMOP_4306655</td>\n",
       "      <td>Age+Sex</td>\n",
       "      <td>0</td>\n",
       "      <td>OMOP_4306655_Age+Sex_0.feather</td>\n",
       "    </tr>\n",
       "    <tr>\n",
       "      <th>1</th>\n",
       "      <td>OMOP_4306655</td>\n",
       "      <td>Age+Sex+Retina</td>\n",
       "      <td>0</td>\n",
       "      <td>OMOP_4306655_Age+Sex+Retina_0.feather</td>\n",
       "    </tr>\n",
       "    <tr>\n",
       "      <th>2</th>\n",
       "      <td>OMOP_4306655</td>\n",
       "      <td>Retina</td>\n",
       "      <td>0</td>\n",
       "      <td>OMOP_4306655_Retina_0.feather</td>\n",
       "    </tr>\n",
       "    <tr>\n",
       "      <th>3</th>\n",
       "      <td>phecode_002</td>\n",
       "      <td>Age+Sex</td>\n",
       "      <td>0</td>\n",
       "      <td>phecode_002_Age+Sex_0.feather</td>\n",
       "    </tr>\n",
       "    <tr>\n",
       "      <th>4</th>\n",
       "      <td>phecode_002</td>\n",
       "      <td>Age+Sex+Retina</td>\n",
       "      <td>0</td>\n",
       "      <td>phecode_002_Age+Sex+Retina_0.feather</td>\n",
       "    </tr>\n",
       "    <tr>\n",
       "      <th>...</th>\n",
       "      <td>...</td>\n",
       "      <td>...</td>\n",
       "      <td>...</td>\n",
       "      <td>...</td>\n",
       "    </tr>\n",
       "    <tr>\n",
       "      <th>3508</th>\n",
       "      <td>phecode_977-72</td>\n",
       "      <td>Age+Sex+Retina</td>\n",
       "      <td>0</td>\n",
       "      <td>phecode_977-72_Age+Sex+Retina_0.feather</td>\n",
       "    </tr>\n",
       "    <tr>\n",
       "      <th>3509</th>\n",
       "      <td>phecode_977-72</td>\n",
       "      <td>Retina</td>\n",
       "      <td>0</td>\n",
       "      <td>phecode_977-72_Retina_0.feather</td>\n",
       "    </tr>\n",
       "    <tr>\n",
       "      <th>3510</th>\n",
       "      <td>phecode_979</td>\n",
       "      <td>Age+Sex</td>\n",
       "      <td>0</td>\n",
       "      <td>phecode_979_Age+Sex_0.feather</td>\n",
       "    </tr>\n",
       "    <tr>\n",
       "      <th>3511</th>\n",
       "      <td>phecode_979</td>\n",
       "      <td>Age+Sex+Retina</td>\n",
       "      <td>0</td>\n",
       "      <td>phecode_979_Age+Sex+Retina_0.feather</td>\n",
       "    </tr>\n",
       "    <tr>\n",
       "      <th>3512</th>\n",
       "      <td>phecode_979</td>\n",
       "      <td>Retina</td>\n",
       "      <td>0</td>\n",
       "      <td>phecode_979_Retina_0.feather</td>\n",
       "    </tr>\n",
       "  </tbody>\n",
       "</table>\n",
       "<p>3513 rows × 4 columns</p>\n",
       "</div>"
      ],
      "text/plain": [
       "            endpoint           score  partition  \\\n",
       "0       OMOP_4306655         Age+Sex          0   \n",
       "1       OMOP_4306655  Age+Sex+Retina          0   \n",
       "2       OMOP_4306655          Retina          0   \n",
       "3        phecode_002         Age+Sex          0   \n",
       "4        phecode_002  Age+Sex+Retina          0   \n",
       "...              ...             ...        ...   \n",
       "3508  phecode_977-72  Age+Sex+Retina          0   \n",
       "3509  phecode_977-72          Retina          0   \n",
       "3510     phecode_979         Age+Sex          0   \n",
       "3511     phecode_979  Age+Sex+Retina          0   \n",
       "3512     phecode_979          Retina          0   \n",
       "\n",
       "                                         path  \n",
       "0              OMOP_4306655_Age+Sex_0.feather  \n",
       "1       OMOP_4306655_Age+Sex+Retina_0.feather  \n",
       "2               OMOP_4306655_Retina_0.feather  \n",
       "3               phecode_002_Age+Sex_0.feather  \n",
       "4        phecode_002_Age+Sex+Retina_0.feather  \n",
       "...                                       ...  \n",
       "3508  phecode_977-72_Age+Sex+Retina_0.feather  \n",
       "3509          phecode_977-72_Retina_0.feather  \n",
       "3510            phecode_979_Age+Sex_0.feather  \n",
       "3511     phecode_979_Age+Sex+Retina_0.feather  \n",
       "3512             phecode_979_Retina_0.feather  \n",
       "\n",
       "[3513 rows x 4 columns]"
      ]
     },
     "execution_count": 7,
     "metadata": {},
     "output_type": "execute_result"
    }
   ],
   "source": [
    "prediction_paths = !ls $in_path\n",
    "predictions = pd.Series(prediction_paths).str.split(\"_\", expand=True)\\\n",
    "    .assign(path = prediction_paths)\\\n",
    "    .assign(endpoint = lambda x: x[0]+\"_\"+x[1])\\\n",
    "    .assign(score = lambda x: x[2])\\\n",
    "    .assign(partition = lambda x: x[3].str.replace(\".feather\", \"\", regex=True).astype(int))\\\n",
    "    [[\"endpoint\", \"score\", \"partition\", \"path\"]].sort_values([\"endpoint\", \"score\", \"partition\"]).reset_index(drop=True)\n",
    "predictions"
   ]
  },
  {
   "cell_type": "code",
   "execution_count": 8,
   "metadata": {
    "tags": []
   },
   "outputs": [
    {
     "name": "stdout",
     "output_type": "stream",
     "text": [
      "1171\n",
      "1171\n"
     ]
    }
   ],
   "source": [
    "import pandas as pd\n",
    "all_endpoints = sorted([l.replace('_prevalent', '') for l in list(pd.read_csv('/sc-projects/sc-proj-ukb-cvd/results/projects/22_retinal_risk/data/220602/endpoints.csv').endpoint.values)])\n",
    "\n",
    "#all_endpoints = sorted(endpoints_all_md.endpoint.to_list())\n",
    "print(len(all_endpoints))\n",
    "\n",
    "endpoints_not_overlapping_with_preds = []\n",
    "#endpoints_not_overlapping_with_preds_md = pd.read_csv(f\"{experiment_path}/endpoints_not_overlapping.csv\", header=None)\n",
    "#print(len(endpoints_not_overlapping_with_preds_md))\n",
    "#endpoints_not_overlapping_with_preds = list(endpoints_not_overlapping_with_preds_md[0].values)\n",
    "\n",
    "endpoints = []\n",
    "for c in all_endpoints:\n",
    "    if c not in endpoints_not_overlapping_with_preds: # this is what i want\n",
    "        #print('OK    - ',c)\n",
    "        endpoints.append(c)\n",
    "    #if c in endpoints_not_overlapping_with_preds: # this is what causes errors!\n",
    "    #    print('ERROR - ',c)\n",
    "print(len(endpoints))"
   ]
  },
  {
   "cell_type": "code",
   "execution_count": 9,
   "metadata": {},
   "outputs": [],
   "source": [
    "scores = ['Age+Sex', 'Retina', 'Age+Sex+Retina']\n",
    "partitions = sorted(predictions.partition.unique().tolist())"
   ]
  },
  {
   "cell_type": "code",
   "execution_count": 10,
   "metadata": {},
   "outputs": [],
   "source": [
    "from datetime import date\n",
    "today = str(date.today())"
   ]
  },
  {
   "cell_type": "code",
   "execution_count": 11,
   "metadata": {
    "tags": []
   },
   "outputs": [],
   "source": [
    "eligable_eids = pd.read_feather(f\"{output_path}/eligable_eids_{today}.feather\")\n",
    "eids_dict = eligable_eids.set_index(\"endpoint\")[\"eid_list\"].to_dict()"
   ]
  },
  {
   "cell_type": "code",
   "execution_count": 12,
   "metadata": {
    "tags": []
   },
   "outputs": [],
   "source": [
    "data_outcomes = pd.read_feather(\n",
    "    f\"{output_path}/baseline_outcomes_220531.feather\", \n",
    "    columns= [\"eid\"] + [f\"{e}_event\" for e in endpoints] + [f\"{e}_time\" for e in endpoints])\\\n",
    "    .set_index(\"eid\")"
   ]
  },
  {
   "cell_type": "code",
   "execution_count": 13,
   "metadata": {
    "tags": []
   },
   "outputs": [],
   "source": [
    "eids = data_outcomes.index.values"
   ]
  },
  {
   "cell_type": "code",
   "execution_count": 14,
   "metadata": {
    "tags": []
   },
   "outputs": [],
   "source": [
    "def read_partitions(endpoint, score, time):\n",
    "    paths = predictions.query(\"endpoint==@endpoint\").query(\"score==@score\").path.to_list()\n",
    "    data_preds = pd.concat([pd.read_feather(f\"{in_path}/{path}\", columns=[\"eid\", f\"Ft_{time}\"]) \n",
    "                      for path in paths], axis=0).set_index(\"eid\").sort_index()\n",
    "    data_preds.columns = [\"Ft\"]\n",
    "    return data_preds"
   ]
  },
  {
   "cell_type": "code",
   "execution_count": 15,
   "metadata": {
    "tags": []
   },
   "outputs": [],
   "source": [
    "def prepare_data(data_outcomes, endpoint, score, t_eval):\n",
    "    temp_preds = read_partitions(endpoint, score, t_eval)\n",
    "    temp_tte = data_outcomes[[f\"{endpoint}_event\", f\"{endpoint}_time\"]]\n",
    "    temp_tte.columns = [\"event\", \"time\"]\n",
    "    temp_data = temp_preds.merge(temp_tte, left_index=True, right_index=True, how=\"left\")\n",
    "    \n",
    "    condition = (temp_data['event'] == 0) | (temp_data['time'] > t_eval)\n",
    "    \n",
    "    temp_data[\"event\"] = (np.where(condition, 0, 1))\n",
    "    \n",
    "    temp_data[\"time\"] = (np.where(condition, t_eval, temp_data['time']))\n",
    "    return temp_data"
   ]
  },
  {
   "cell_type": "code",
   "execution_count": 16,
   "metadata": {
    "tags": []
   },
   "outputs": [],
   "source": [
    "from lifelines.utils import concordance_index\n",
    "\n",
    "def calculate_cindex(data_outcomes, endpoint, score, time, iteration, eids_i):  \n",
    "    temp_data = prepare_data(data_outcomes, endpoint, score, time)\n",
    "    temp_data = temp_data[temp_data.index.isin(eids_i)]\n",
    "    \n",
    "    try:\n",
    "        cindex = 1-concordance_index(temp_data[\"time\"], temp_data[\"Ft\"], temp_data[\"event\"])\n",
    "    except ZeroDivisionError: \n",
    "        cindex=np.nan\n",
    "    return {\"endpoint\":endpoint, \"score\": score, \"iteration\": iteration, \"time\":time, \"cindex\":cindex}\n",
    "\n",
    "@ray.remote\n",
    "def calculate_iteration(data_outcomes, endpoint, score, time, iteration, eids_i):  \n",
    "    dicts = []\n",
    "    for score in scores:\n",
    "        dicts.append(calculate_cindex(data_outcomes, endpoint, score, 10, iteration, eids_i))\n",
    "    return dicts"
   ]
  },
  {
   "cell_type": "code",
   "execution_count": 17,
   "metadata": {
    "tags": []
   },
   "outputs": [],
   "source": [
    "iterations=[i for i in range(1000)] # 100"
   ]
  },
  {
   "cell_type": "code",
   "execution_count": 18,
   "metadata": {
    "tags": []
   },
   "outputs": [],
   "source": [
    "out_path = f\"{experiment_path}/benchmarks\"\n",
    "pathlib.Path(out_path).mkdir(parents=True, exist_ok=True)"
   ]
  },
  {
   "cell_type": "raw",
   "metadata": {},
   "source": [
    "#### TEST ####\n",
    "rows_ray = []\n",
    "for endpoint in tqdm(endpoints):\n",
    "    eids_e = eids_dict[endpoint]\n",
    "    for iteration in iterations:\n",
    "        eids_i = np.random.choice(eids_e, size=len(eids_e))\n",
    "        ds = calculate_iteration(data_outcomes, endpoint, scores, 10, iteration, eids_i)\n",
    "        rows_ray.append(ds)"
   ]
  },
  {
   "cell_type": "code",
   "execution_count": 19,
   "metadata": {
    "tags": []
   },
   "outputs": [
    {
     "data": {
      "application/vnd.jupyter.widget-view+json": {
       "model_id": "87584935223d451796a7c45714580906",
       "version_major": 2,
       "version_minor": 0
      },
      "text/plain": [
       "  0%|          | 0/1171 [00:00<?, ?it/s]"
      ]
     },
     "metadata": {},
     "output_type": "display_data"
    }
   ],
   "source": [
    "ray_outcomes = ray.put(data_outcomes)\n",
    "\n",
    "rows_ray = []\n",
    "for endpoint in tqdm(endpoints):\n",
    "    eids_e = eids_dict[endpoint]\n",
    "    for iteration in iterations:\n",
    "        eids_i = np.random.choice(eids_e, size=len(eids_e))\n",
    "        ds = calculate_iteration.remote(ray_outcomes, endpoint, scores, 10, iteration, eids_i)\n",
    "        rows_ray.append(ds)"
   ]
  },
  {
   "cell_type": "code",
   "execution_count": 20,
   "metadata": {
    "tags": []
   },
   "outputs": [
    {
     "data": {
      "application/vnd.jupyter.widget-view+json": {
       "model_id": "1f3d47a54c7d4a4386d55ecbec1fb2bb",
       "version_major": 2,
       "version_minor": 0
      },
      "text/plain": [
       "  0%|          | 0/1171000 [00:00<?, ?it/s]"
      ]
     },
     "metadata": {},
     "output_type": "display_data"
    }
   ],
   "source": [
    "rows = [ray.get(r) for r in tqdm(rows_ray)]"
   ]
  },
  {
   "cell_type": "code",
   "execution_count": 28,
   "metadata": {
    "tags": []
   },
   "outputs": [],
   "source": [
    "rows_finished = [item for sublist in rows for item in sublist]"
   ]
  },
  {
   "cell_type": "code",
   "execution_count": 29,
   "metadata": {
    "tags": []
   },
   "outputs": [],
   "source": [
    "benchmark_endpoints = pd.DataFrame({}).append(rows_finished, ignore_index=True)"
   ]
  },
  {
   "cell_type": "code",
   "execution_count": 30,
   "metadata": {
    "tags": []
   },
   "outputs": [],
   "source": [
    "name = f\"benchmark_cindex_agesexcoxph_{today}\"\n",
    "benchmark_endpoints.to_feather(f\"{experiment_path}/{name}.feather\")"
   ]
  },
  {
   "cell_type": "code",
   "execution_count": 31,
   "metadata": {},
   "outputs": [
    {
     "name": "stdout",
     "output_type": "stream",
     "text": [
      "/sc-projects/sc-proj-ukb-cvd/results/projects/22_retina_phewas_220608/data/2af9tvdp/benchmark_cindex_agesexcoxph_2022-06-08\n"
     ]
    }
   ],
   "source": [
    "print(f\"{experiment_path}/{name}\")"
   ]
  },
  {
   "cell_type": "code",
   "execution_count": 32,
   "metadata": {},
   "outputs": [
    {
     "data": {
      "text/plain": [
       "(3513000, 1171000)"
      ]
     },
     "execution_count": 32,
     "metadata": {},
     "output_type": "execute_result"
    }
   ],
   "source": [
    "len(rows_finished), len(rows)"
   ]
  },
  {
   "cell_type": "code",
   "execution_count": 33,
   "metadata": {},
   "outputs": [],
   "source": [
    "pd.DataFrame({}).append(rows_finished, ignore_index=True).to_feather(f\"{out_path}/{endpoint}.feather\")"
   ]
  },
  {
   "cell_type": "code",
   "execution_count": 27,
   "metadata": {},
   "outputs": [
    {
     "ename": "NameError",
     "evalue": "name 'score' is not defined",
     "output_type": "error",
     "traceback": [
      "\u001b[0;31m---------------------------------------------------------------------------\u001b[0m",
      "\u001b[0;31mNameError\u001b[0m                                 Traceback (most recent call last)",
      "\u001b[0;32m<timed exec>\u001b[0m in \u001b[0;36m<module>\u001b[0;34m\u001b[0m\n",
      "\u001b[0;31mNameError\u001b[0m: name 'score' is not defined"
     ]
    }
   ],
   "source": [
    "%%time\n",
    "temp_data = prepare_data(data_outcomes, endpoint, score, 10)"
   ]
  },
  {
   "cell_type": "code",
   "execution_count": 26,
   "metadata": {},
   "outputs": [],
   "source": []
  },
  {
   "cell_type": "code",
   "execution_count": null,
   "metadata": {},
   "outputs": [],
   "source": []
  }
 ],
 "metadata": {
  "kernelspec": {
   "display_name": "Python 3 (ipykernel)",
   "language": "python",
   "name": "python3"
  },
  "language_info": {
   "codemirror_mode": {
    "name": "ipython",
    "version": 3
   },
   "file_extension": ".py",
   "mimetype": "text/x-python",
   "name": "python",
   "nbconvert_exporter": "python",
   "pygments_lexer": "ipython3",
   "version": "3.9.7"
  },
  "toc-autonumbering": false
 },
 "nbformat": 4,
 "nbformat_minor": 4
}
