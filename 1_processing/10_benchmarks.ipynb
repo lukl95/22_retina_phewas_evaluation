{
 "cells": [
  {
   "cell_type": "markdown",
   "metadata": {},
   "source": [
    "# Benchmark Models"
   ]
  },
  {
   "cell_type": "markdown",
   "metadata": {},
   "source": [
    "## Initialize"
   ]
  },
  {
   "cell_type": "code",
   "execution_count": 1,
   "metadata": {
    "execution": {
     "iopub.execute_input": "2022-11-18T08:34:31.576452Z",
     "iopub.status.busy": "2022-11-18T08:34:31.576066Z",
     "iopub.status.idle": "2022-11-18T08:34:34.969802Z",
     "shell.execute_reply": "2022-11-18T08:34:34.969392Z",
     "shell.execute_reply.started": "2022-11-18T08:34:31.576396Z"
    },
    "tags": []
   },
   "outputs": [],
   "source": [
    "%load_ext autoreload\n",
    "%autoreload 2\n",
    "\n",
    "import os\n",
    "from tqdm.auto import tqdm\n",
    "import pathlib\n",
    "import datetime\n",
    "import subprocess\n",
    "import numpy as np\n",
    "import pandas as pd\n",
    "import lifelines"
   ]
  },
  {
   "cell_type": "code",
   "execution_count": 2,
   "metadata": {
    "execution": {
     "iopub.execute_input": "2022-11-18T08:34:34.970876Z",
     "iopub.status.busy": "2022-11-18T08:34:34.970642Z",
     "iopub.status.idle": "2022-11-18T08:34:35.046613Z",
     "shell.execute_reply": "2022-11-18T08:34:35.046051Z",
     "shell.execute_reply.started": "2022-11-18T08:34:34.970861Z"
    },
    "tags": []
   },
   "outputs": [
    {
     "name": "stdout",
     "output_type": "stream",
     "text": [
      "/sc-projects/sc-proj-ukb-cvd\n"
     ]
    },
    {
     "data": {
      "text/plain": [
       "[0, 1, 2, 3, 4, 5, 6, 7, 8, 9, 10, 11, 12, 13, 14, 15, 16, 17, 18, 19, 20, 21]"
      ]
     },
     "execution_count": 2,
     "metadata": {},
     "output_type": "execute_result"
    }
   ],
   "source": [
    "node = !hostname\n",
    "if \"sc\" in node[0]:\n",
    "    base_path = \"/sc-projects/sc-proj-ukb-cvd\"\n",
    "else: \n",
    "    base_path = \"/data/analysis/ag-reils/ag-reils-shared/cardioRS\"\n",
    "print(base_path)\n",
    "\n",
    "project_label = \"22_retina_phewas\"\n",
    "project_path = f\"{base_path}/results/projects/{project_label}\"\n",
    "figure_path = f\"{project_path}/figures\"\n",
    "output_path = f\"{project_path}/data\"\n",
    "\n",
    "pathlib.Path(figure_path).mkdir(parents=True, exist_ok=True)\n",
    "pathlib.Path(output_path).mkdir(parents=True, exist_ok=True)\n",
    "\n",
    "experiment = '221108'\n",
    "experiment_path = f\"{output_path}/{experiment}\"\n",
    "pathlib.Path(experiment_path).mkdir(parents=True, exist_ok=True)\n",
    "\n",
    "\n",
    "USER = 'buergelt'\n",
    "BASE = pathlib.Path(f\"/home/{USER}/\")\n",
    "EXPERIMENT_NAME = '221109'\n",
    "#TEMPLATE_CONFIG = f\"{BASE}/config/\"  # template yaml to use\n",
    "TRAIN_SCRIPT = f\"{BASE}/projects/cardiors/code/22_retina_phewas_evaluation/1_processing/10_benchmarks_iteration.py\"\n",
    "#TRAIN_SCRIPT = f\"{BASE}/riskiano/riskiano/experiments/lukas/phewas/22_retina_phewas_notebooks/1_processing/08_coxph_fit_partition.py\"\n",
    "ACTIVATE_ENV_CMD = \"\"\"conda activate retrisk\"\"\"\n",
    "\n",
    "TAG = '221109'\n",
    "JOBNAME = 'benchmark'\n",
    "\n",
    "\n",
    "name_dict = {\n",
    "    \"predictions_cropratio0.66\": \"ConvNextSmall(Retina)+MLP_cropratio0.66\",\n",
    "}\n",
    "\n",
    "partitions = [i for i in range(22)]\n",
    "partitions"
   ]
  },
  {
   "cell_type": "code",
   "execution_count": 3,
   "metadata": {
    "execution": {
     "iopub.execute_input": "2022-11-18T08:34:35.048045Z",
     "iopub.status.busy": "2022-11-18T08:34:35.047603Z",
     "iopub.status.idle": "2022-11-18T08:34:35.067223Z",
     "shell.execute_reply": "2022-11-18T08:34:35.066789Z",
     "shell.execute_reply.started": "2022-11-18T08:34:35.048013Z"
    },
    "tags": []
   },
   "outputs": [],
   "source": [
    "today = '221109'"
   ]
  },
  {
   "cell_type": "raw",
   "metadata": {
    "tags": []
   },
   "source": [
    "node = !hostname\n",
    "if \"sc\" in node[0]:\n",
    "    base_path = \"/sc-projects/sc-proj-ukb-cvd\"\n",
    "else: \n",
    "    base_path = \"/data/analysis/ag-reils/ag-reils-shared/cardioRS\"\n",
    "print(base_path)\n",
    "\n",
    "project_label = \"22_retina_phewas_220603_fullrun\"\n",
    "project_path = f\"{base_path}/results/projects/{project_label}\"\n",
    "figure_path = f\"{project_path}/figures\"\n",
    "output_path = f\"{project_path}/data\"\n",
    "\n",
    "pathlib.Path(figure_path).mkdir(parents=True, exist_ok=True)\n",
    "pathlib.Path(output_path).mkdir(parents=True, exist_ok=True)\n",
    "\n",
    "USER = 'loockl'\n",
    "BASE = pathlib.Path(f\"/home/{USER}/\")\n",
    "EXPERIMENT_NAME = '220603_fullrun'\n",
    "#TEMPLATE_CONFIG = f\"{BASE}/config/\"  # template yaml to use\n",
    "TRAIN_SCRIPT = f\"{BASE}/riskiano/riskiano/experiments/lukas/phewas/22_retina_phewas_notebooks/1_processing/10_benchmarks_iteration.py\"\n",
    "ACTIVATE_ENV_CMD = \"\"\"conda activate retina_risk\"\"\"\n",
    "\n",
    "TAG = '220603_fullrun'\n",
    "JOBNAME = 'benchmark'\n",
    "\n",
    "name_dict = {\n",
    "    \"predictions_cropratio0.3\": \"ConvNextSmall(Retina)+MLP_cropratio0.3\",\n",
    "    \"predictions_cropratio0.5\": \"ConvNextSmall(Retina)+MLP_cropratio0.5\",\n",
    "    \"predictions_cropratio0.8\": \"ConvNextSmall(Retina)+MLP_cropratio0.8\",\n",
    "}\n",
    "\n",
    "partitions = [i for i in range(22)]\n",
    "partitions"
   ]
  },
  {
   "cell_type": "markdown",
   "metadata": {},
   "source": [
    "## Submit Benchmark jobs"
   ]
  },
  {
   "cell_type": "code",
   "execution_count": null,
   "metadata": {
    "tags": []
   },
   "outputs": [],
   "source": [
    "os.makedirs(f\"/home/{USER}/tmp/{EXPERIMENT_NAME}/job_submissions\", exist_ok=True)\n",
    "os.makedirs(f\"/home/{USER}/tmp/{EXPERIMENT_NAME}/job_configs\", exist_ok=True)\n",
    "os.makedirs(f\"/home/{USER}/tmp/{EXPERIMENT_NAME}/job_outputs\", exist_ok=True)"
   ]
  },
  {
   "cell_type": "code",
   "execution_count": null,
   "metadata": {},
   "outputs": [],
   "source": []
  },
  {
   "cell_type": "code",
   "execution_count": null,
   "metadata": {
    "tags": []
   },
   "outputs": [],
   "source": [
    "def make_job_script(user, job_name, iteration, model, partition):\n",
    "\n",
    "    job_script_str = (\n",
    "        f\"\"\"#!/bin/bash\n",
    "\n",
    "#SBATCH --job-name={job_name}  # Specify job name\n",
    "#SBATCH --ntasks 1 \n",
    "#SBATCH --cpus-per-task 16\n",
    "#SBATCH --mem=75G              # Specify number of nodes\n",
    "#SBATCH --time=5:00:00        # Set a limit on the total run time\n",
    "\n",
    "source ~/miniconda3/etc/profile.d/conda.sh\n",
    "{ACTIVATE_ENV_CMD}\n",
    "\n",
    "#ray start --head --port=6378 --num-cpus 16\n",
    "python {TRAIN_SCRIPT} --iteration {iteration} --model {model} --partition {partition}\"\"\"\n",
    "            )\n",
    "\n",
    "    return job_script_str\n"
   ]
  },
  {
   "cell_type": "code",
   "execution_count": null,
   "metadata": {
    "tags": []
   },
   "outputs": [],
   "source": [
    "def submit(path, job_name, job_script, time_stamp=None):\n",
    "    if not time_stamp:\n",
    "        time_stamp = datetime.datetime.now().strftime(\"%Y-%m-%d_%H:%M:%S\")\n",
    "\n",
    "    script_path_long = f\"{path}/{job_name}_{time_stamp}.sh\"\n",
    "\n",
    "    with open(script_path_long, \"w\") as outfile:\n",
    "        outfile.write(job_script)\n",
    "    script_path = f\"{path}/{job_name}.sh\"\n",
    "    try:\n",
    "        os.unlink(script_path)\n",
    "    except FileNotFoundError:  # because we cannot overwrite symlinks directly\n",
    "        pass\n",
    "    os.symlink(os.path.realpath(script_path_long), script_path)\n",
    "\n",
    "    output_path = f\"/home/{USER}/tmp/{EXPERIMENT_NAME}/job_outputs/{job_name}\"\n",
    "\n",
    "    print(job_script)\n",
    "    print(\"\\n\\nSubmission:\\n===========\\n\")\n",
    "    sub_cmd = (\n",
    "        f\"sbatch --error={output_path}_%j_stderr.out --output={output_path}_%j_stdout.out <\"\n",
    "        f\" {script_path}\"\n",
    "    )\n",
    "    print(sub_cmd)\n",
    "\n",
    "    ret = subprocess.run(sub_cmd, shell=True, cwd=os.getcwd(), capture_output=True)\n",
    "    print(ret.stdout.decode())"
   ]
  },
  {
   "cell_type": "code",
   "execution_count": null,
   "metadata": {
    "tags": []
   },
   "outputs": [],
   "source": [
    "# HIER AENDERN:\n",
    "# Thore: range(0,10) + range(10,25)\n",
    "# Lukas: range(25,50)\n",
    "# Ben: range(50, 75)\n",
    "# Jakob: range(75, 100)\n",
    "\n",
    "iterations = [i for i in range(100,1000)] #10,100, # 100,1000\n",
    "# iterations = [82, 84, 86, 88, 92]\n",
    "partitions = [i for i in range(22)]\n",
    "models = ['ImageTraining_[]_ConvNeXt_MLPHead_predictions_cropratio0.66', \n",
    "#               'ImageTraining_[]_ConvNeXt_MLPHead_predictions_cropratio0.5', \n",
    "#               'ImageTraining_[]_ConvNeXt_MLPHead_predictions_cropratio0.8'\n",
    "             ]"
   ]
  },
  {
   "cell_type": "code",
   "execution_count": null,
   "metadata": {
    "scrolled": true,
    "tags": []
   },
   "outputs": [],
   "source": [
    "import time\n",
    "\n",
    "jobids = []\n",
    "for iteration in iterations:\n",
    "    for model in models:\n",
    "        for partition in partitions:\n",
    "            job_name = f\"{iteration}_{model}_{partition}_{JOBNAME}\"\n",
    "\n",
    "            job_script = make_job_script(user=USER, job_name=job_name, iteration=iteration, model=model, partition=partition) # partition currently not used in script\n",
    "\n",
    "            jobid = submit(\n",
    "                path=f\"/home/{USER}/tmp/{EXPERIMENT_NAME}/job_submissions\",\n",
    "                job_name=job_name,\n",
    "                job_script=job_script,\n",
    "            )\n",
    "\n",
    "            jobids.append(jobid)\n",
    "\n",
    "print(jobids)"
   ]
  },
  {
   "cell_type": "markdown",
   "metadata": {},
   "source": [
    "## Check progress"
   ]
  },
  {
   "cell_type": "code",
   "execution_count": 4,
   "metadata": {
    "execution": {
     "iopub.execute_input": "2022-11-18T08:34:43.503642Z",
     "iopub.status.busy": "2022-11-18T08:34:43.503202Z",
     "iopub.status.idle": "2022-11-18T08:34:43.543268Z",
     "shell.execute_reply": "2022-11-18T08:34:43.542800Z",
     "shell.execute_reply.started": "2022-11-18T08:34:43.503619Z"
    },
    "tags": []
   },
   "outputs": [
    {
     "name": "stdout",
     "output_type": "stream",
     "text": [
      "/sc-projects/sc-proj-ukb-cvd\n"
     ]
    },
    {
     "data": {
      "text/plain": [
       "'/sc-projects/sc-proj-ukb-cvd/results/projects/22_retina_phewas/data/221108'"
      ]
     },
     "execution_count": 4,
     "metadata": {},
     "output_type": "execute_result"
    }
   ],
   "source": [
    "base_path = \"/sc-projects/sc-proj-ukb-cvd\"\n",
    "print(base_path)\n",
    "\n",
    "project_label = \"22_retina_phewas\"\n",
    "project_path = f\"{base_path}/results/projects/{project_label}\"\n",
    "figure_path = f\"{project_path}/figures\"\n",
    "output_path = f\"{project_path}/data\"\n",
    "\n",
    "experiment = '221108'\n",
    "experiment_path = f\"{output_path}/{experiment}\"\n",
    "experiment_path"
   ]
  },
  {
   "cell_type": "code",
   "execution_count": 5,
   "metadata": {
    "execution": {
     "iopub.execute_input": "2022-11-18T08:34:43.701181Z",
     "iopub.status.busy": "2022-11-18T08:34:43.700713Z",
     "iopub.status.idle": "2022-11-18T08:34:43.806308Z",
     "shell.execute_reply": "2022-11-18T08:34:43.805896Z",
     "shell.execute_reply.started": "2022-11-18T08:34:43.701161Z"
    },
    "tags": []
   },
   "outputs": [],
   "source": [
    "today = '221109'"
   ]
  },
  {
   "cell_type": "code",
   "execution_count": 6,
   "metadata": {
    "execution": {
     "iopub.execute_input": "2022-11-18T08:34:44.187062Z",
     "iopub.status.busy": "2022-11-18T08:34:44.186548Z",
     "iopub.status.idle": "2022-11-18T08:34:44.199749Z",
     "shell.execute_reply": "2022-11-18T08:34:44.199335Z",
     "shell.execute_reply.started": "2022-11-18T08:34:44.187041Z"
    },
    "tags": []
   },
   "outputs": [],
   "source": [
    "from datetime import date\n",
    "today = str(date.today()) if today is None else today"
   ]
  },
  {
   "cell_type": "code",
   "execution_count": 7,
   "metadata": {
    "execution": {
     "iopub.execute_input": "2022-11-18T08:34:45.202162Z",
     "iopub.status.busy": "2022-11-18T08:34:45.201796Z",
     "iopub.status.idle": "2022-11-18T08:34:45.878982Z",
     "shell.execute_reply": "2022-11-18T08:34:45.878445Z",
     "shell.execute_reply.started": "2022-11-18T08:34:45.202143Z"
    },
    "tags": []
   },
   "outputs": [],
   "source": [
    "from pathlib import Path\n",
    "benchmark_paths = list(Path(f\"{experiment_path}/benchmarks/{today}\").rglob('*.feather'))\n",
    "\n",
    "benchmarks_df = pd.concat([pd.read_feather(p) for p in benchmark_paths], axis=0)"
   ]
  },
  {
   "cell_type": "code",
   "execution_count": 13,
   "metadata": {
    "execution": {
     "iopub.execute_input": "2022-11-18T08:37:31.790003Z",
     "iopub.status.busy": "2022-11-18T08:37:31.789586Z",
     "iopub.status.idle": "2022-11-18T08:37:31.819928Z",
     "shell.execute_reply": "2022-11-18T08:37:31.819286Z",
     "shell.execute_reply.started": "2022-11-18T08:37:31.789983Z"
    },
    "tags": []
   },
   "outputs": [
    {
     "data": {
      "text/html": [
       "<div>\n",
       "<style scoped>\n",
       "    .dataframe tbody tr th:only-of-type {\n",
       "        vertical-align: middle;\n",
       "    }\n",
       "\n",
       "    .dataframe tbody tr th {\n",
       "        vertical-align: top;\n",
       "    }\n",
       "\n",
       "    .dataframe thead th {\n",
       "        text-align: right;\n",
       "    }\n",
       "</style>\n",
       "<table border=\"1\" class=\"dataframe\">\n",
       "  <thead>\n",
       "    <tr style=\"text-align: right;\">\n",
       "      <th></th>\n",
       "      <th>0</th>\n",
       "    </tr>\n",
       "    <tr>\n",
       "      <th>iteration</th>\n",
       "      <th></th>\n",
       "    </tr>\n",
       "  </thead>\n",
       "  <tbody>\n",
       "    <tr>\n",
       "      <th>0</th>\n",
       "      <td>3513</td>\n",
       "    </tr>\n",
       "    <tr>\n",
       "      <th>1</th>\n",
       "      <td>3513</td>\n",
       "    </tr>\n",
       "    <tr>\n",
       "      <th>2</th>\n",
       "      <td>3513</td>\n",
       "    </tr>\n",
       "    <tr>\n",
       "      <th>3</th>\n",
       "      <td>3513</td>\n",
       "    </tr>\n",
       "    <tr>\n",
       "      <th>4</th>\n",
       "      <td>3513</td>\n",
       "    </tr>\n",
       "    <tr>\n",
       "      <th>...</th>\n",
       "      <td>...</td>\n",
       "    </tr>\n",
       "    <tr>\n",
       "      <th>124</th>\n",
       "      <td>3513</td>\n",
       "    </tr>\n",
       "    <tr>\n",
       "      <th>125</th>\n",
       "      <td>3513</td>\n",
       "    </tr>\n",
       "    <tr>\n",
       "      <th>126</th>\n",
       "      <td>3513</td>\n",
       "    </tr>\n",
       "    <tr>\n",
       "      <th>127</th>\n",
       "      <td>3513</td>\n",
       "    </tr>\n",
       "    <tr>\n",
       "      <th>128</th>\n",
       "      <td>3513</td>\n",
       "    </tr>\n",
       "  </tbody>\n",
       "</table>\n",
       "<p>129 rows × 1 columns</p>\n",
       "</div>"
      ],
      "text/plain": [
       "              0\n",
       "iteration      \n",
       "0          3513\n",
       "1          3513\n",
       "2          3513\n",
       "3          3513\n",
       "4          3513\n",
       "...         ...\n",
       "124        3513\n",
       "125        3513\n",
       "126        3513\n",
       "127        3513\n",
       "128        3513\n",
       "\n",
       "[129 rows x 1 columns]"
      ]
     },
     "execution_count": 13,
     "metadata": {},
     "output_type": "execute_result"
    }
   ],
   "source": [
    "benchmarks_df.value_counts([\"iteration\"]).to_frame().sort_values(\"iteration\")"
   ]
  },
  {
   "cell_type": "code",
   "execution_count": 14,
   "metadata": {
    "execution": {
     "iopub.execute_input": "2022-11-18T08:37:32.491199Z",
     "iopub.status.busy": "2022-11-18T08:37:32.490797Z",
     "iopub.status.idle": "2022-11-18T08:37:32.520675Z",
     "shell.execute_reply": "2022-11-18T08:37:32.520035Z",
     "shell.execute_reply.started": "2022-11-18T08:37:32.491176Z"
    },
    "tags": []
   },
   "outputs": [],
   "source": [
    "# cap the iterations to 100\n",
    "its = [i for i in range(0,100)]\n",
    "\n",
    "benchmarks_df = benchmarks_df.query('iteration==@its')"
   ]
  },
  {
   "cell_type": "code",
   "execution_count": 15,
   "metadata": {
    "execution": {
     "iopub.execute_input": "2022-11-18T08:37:34.193554Z",
     "iopub.status.busy": "2022-11-18T08:37:34.193107Z",
     "iopub.status.idle": "2022-11-18T08:37:34.353528Z",
     "shell.execute_reply": "2022-11-18T08:37:34.353069Z",
     "shell.execute_reply.started": "2022-11-18T08:37:34.193531Z"
    },
    "tags": []
   },
   "outputs": [
    {
     "data": {
      "text/plain": [
       "[]"
      ]
     },
     "execution_count": 15,
     "metadata": {},
     "output_type": "execute_result"
    }
   ],
   "source": [
    "missing = [i for i in range(0, 100) if i not in benchmarks_df[\"iteration\"].unique()]\n",
    "missing"
   ]
  },
  {
   "cell_type": "code",
   "execution_count": 16,
   "metadata": {
    "execution": {
     "iopub.execute_input": "2022-11-18T08:37:35.824783Z",
     "iopub.status.busy": "2022-11-18T08:37:35.824171Z",
     "iopub.status.idle": "2022-11-18T08:37:35.842380Z",
     "shell.execute_reply": "2022-11-18T08:37:35.841937Z",
     "shell.execute_reply.started": "2022-11-18T08:37:35.824757Z"
    },
    "tags": []
   },
   "outputs": [
    {
     "data": {
      "text/plain": [
       "PosixPath('/sc-projects/sc-proj-ukb-cvd/results/projects/22_retina_phewas/data/221108/benchmarks/221109')"
      ]
     },
     "execution_count": 16,
     "metadata": {},
     "output_type": "execute_result"
    }
   ],
   "source": [
    "Path(f\"{experiment_path}/benchmarks/{today}\")"
   ]
  },
  {
   "cell_type": "code",
   "execution_count": 17,
   "metadata": {
    "execution": {
     "iopub.execute_input": "2022-11-18T08:37:36.288495Z",
     "iopub.status.busy": "2022-11-18T08:37:36.288004Z",
     "iopub.status.idle": "2022-11-18T08:37:36.418300Z",
     "shell.execute_reply": "2022-11-18T08:37:36.417657Z",
     "shell.execute_reply.started": "2022-11-18T08:37:36.288473Z"
    },
    "tags": []
   },
   "outputs": [],
   "source": [
    "benchmarks_df.reset_index(drop=True).to_feather(f\"{experiment_path}/benchmarks_cindex_{today}.feather\")"
   ]
  },
  {
   "cell_type": "code",
   "execution_count": 18,
   "metadata": {
    "execution": {
     "iopub.execute_input": "2022-11-18T08:37:36.888714Z",
     "iopub.status.busy": "2022-11-18T08:37:36.888465Z",
     "iopub.status.idle": "2022-11-18T08:37:36.944304Z",
     "shell.execute_reply": "2022-11-18T08:37:36.943793Z",
     "shell.execute_reply.started": "2022-11-18T08:37:36.888696Z"
    },
    "tags": []
   },
   "outputs": [
    {
     "data": {
      "text/html": [
       "<div>\n",
       "<style scoped>\n",
       "    .dataframe tbody tr th:only-of-type {\n",
       "        vertical-align: middle;\n",
       "    }\n",
       "\n",
       "    .dataframe tbody tr th {\n",
       "        vertical-align: top;\n",
       "    }\n",
       "\n",
       "    .dataframe thead th {\n",
       "        text-align: right;\n",
       "    }\n",
       "</style>\n",
       "<table border=\"1\" class=\"dataframe\">\n",
       "  <thead>\n",
       "    <tr style=\"text-align: right;\">\n",
       "      <th></th>\n",
       "      <th>iteration</th>\n",
       "      <th>time</th>\n",
       "      <th>cindex</th>\n",
       "    </tr>\n",
       "    <tr>\n",
       "      <th>score</th>\n",
       "      <th></th>\n",
       "      <th></th>\n",
       "      <th></th>\n",
       "    </tr>\n",
       "  </thead>\n",
       "  <tbody>\n",
       "    <tr>\n",
       "      <th>Age+Sex</th>\n",
       "      <td>49.5</td>\n",
       "      <td>10.0</td>\n",
       "      <td>0.604202</td>\n",
       "    </tr>\n",
       "    <tr>\n",
       "      <th>Retina</th>\n",
       "      <td>49.5</td>\n",
       "      <td>10.0</td>\n",
       "      <td>0.605547</td>\n",
       "    </tr>\n",
       "    <tr>\n",
       "      <th>Age+Sex+Retina</th>\n",
       "      <td>49.5</td>\n",
       "      <td>10.0</td>\n",
       "      <td>0.617725</td>\n",
       "    </tr>\n",
       "  </tbody>\n",
       "</table>\n",
       "</div>"
      ],
      "text/plain": [
       "                iteration  time    cindex\n",
       "score                                    \n",
       "Age+Sex              49.5  10.0  0.604202\n",
       "Retina               49.5  10.0  0.605547\n",
       "Age+Sex+Retina       49.5  10.0  0.617725"
      ]
     },
     "execution_count": 18,
     "metadata": {},
     "output_type": "execute_result"
    }
   ],
   "source": [
    "benchmarks_df.groupby([\"score\"]).mean(\"cindex\").sort_values(\"cindex\")"
   ]
  },
  {
   "cell_type": "code",
   "execution_count": null,
   "metadata": {},
   "outputs": [],
   "source": []
  },
  {
   "cell_type": "code",
   "execution_count": null,
   "metadata": {},
   "outputs": [],
   "source": []
  },
  {
   "cell_type": "code",
   "execution_count": null,
   "metadata": {},
   "outputs": [],
   "source": []
  },
  {
   "cell_type": "code",
   "execution_count": null,
   "metadata": {},
   "outputs": [],
   "source": []
  },
  {
   "cell_type": "code",
   "execution_count": null,
   "metadata": {},
   "outputs": [],
   "source": []
  },
  {
   "cell_type": "code",
   "execution_count": null,
   "metadata": {},
   "outputs": [],
   "source": []
  },
  {
   "cell_type": "code",
   "execution_count": null,
   "metadata": {},
   "outputs": [],
   "source": []
  },
  {
   "cell_type": "code",
   "execution_count": null,
   "metadata": {},
   "outputs": [],
   "source": []
  },
  {
   "cell_type": "code",
   "execution_count": null,
   "metadata": {},
   "outputs": [],
   "source": []
  },
  {
   "cell_type": "code",
   "execution_count": null,
   "metadata": {},
   "outputs": [],
   "source": []
  },
  {
   "cell_type": "code",
   "execution_count": null,
   "metadata": {},
   "outputs": [],
   "source": []
  },
  {
   "cell_type": "code",
   "execution_count": null,
   "metadata": {},
   "outputs": [],
   "source": []
  },
  {
   "cell_type": "code",
   "execution_count": null,
   "metadata": {},
   "outputs": [],
   "source": []
  },
  {
   "cell_type": "code",
   "execution_count": null,
   "metadata": {},
   "outputs": [],
   "source": []
  },
  {
   "cell_type": "code",
   "execution_count": null,
   "metadata": {},
   "outputs": [],
   "source": []
  },
  {
   "cell_type": "code",
   "execution_count": null,
   "metadata": {},
   "outputs": [],
   "source": []
  },
  {
   "cell_type": "markdown",
   "metadata": {},
   "source": [
    "# old stuff"
   ]
  },
  {
   "cell_type": "code",
   "execution_count": null,
   "metadata": {},
   "outputs": [],
   "source": [
    "%env MKL_NUM_THREADS=1\n",
    "%env NUMEXPR_NUM_THREADS=1\n",
    "%env OMP_NUM_THREADS=1"
   ]
  },
  {
   "cell_type": "code",
   "execution_count": null,
   "metadata": {},
   "outputs": [],
   "source": [
    "ray.shutdown()"
   ]
  },
  {
   "cell_type": "code",
   "execution_count": null,
   "metadata": {
    "tags": []
   },
   "outputs": [],
   "source": [
    "import ray\n",
    "ray.init(num_cpus=24)#, webui_url=\"0.0.0.0\")"
   ]
  },
  {
   "cell_type": "code",
   "execution_count": null,
   "metadata": {
    "tags": []
   },
   "outputs": [],
   "source": [
    "in_path = f\"{experiment_path}/coxph/predictions\""
   ]
  },
  {
   "cell_type": "code",
   "execution_count": null,
   "metadata": {
    "tags": []
   },
   "outputs": [],
   "source": [
    "prediction_paths = !ls $in_path\n",
    "predictions = pd.Series(prediction_paths).str.split(\"_\", expand=True)\\\n",
    "    .assign(path = prediction_paths)\\\n",
    "    .assign(endpoint = lambda x: x[0]+\"_\"+x[1])\\\n",
    "    .assign(score = lambda x: x[2])\\\n",
    "    .assign(partition = lambda x: x[3].str.replace(\".feather\", \"\", regex=True).astype(int))\\\n",
    "    [[\"endpoint\", \"score\", \"partition\", \"path\"]].sort_values([\"endpoint\", \"score\", \"partition\"]).reset_index(drop=True)\n",
    "predictions"
   ]
  },
  {
   "cell_type": "code",
   "execution_count": null,
   "metadata": {
    "tags": []
   },
   "outputs": [],
   "source": [
    "import pandas as pd\n",
    "all_endpoints = sorted([l.replace('_prevalent', '') for l in list(pd.read_csv('/sc-projects/sc-proj-ukb-cvd/results/projects/22_retinal_risk/data/220602/endpoints.csv').endpoint.values)])\n",
    "\n",
    "#all_endpoints = sorted(endpoints_all_md.endpoint.to_list())\n",
    "print(len(all_endpoints))\n",
    "\n",
    "endpoints_not_overlapping_with_preds = []\n",
    "#endpoints_not_overlapping_with_preds_md = pd.read_csv(f\"{experiment_path}/endpoints_not_overlapping.csv\", header=None)\n",
    "#print(len(endpoints_not_overlapping_with_preds_md))\n",
    "#endpoints_not_overlapping_with_preds = list(endpoints_not_overlapping_with_preds_md[0].values)\n",
    "\n",
    "endpoints = []\n",
    "for c in all_endpoints:\n",
    "    if c not in endpoints_not_overlapping_with_preds: # this is what i want\n",
    "        #print('OK    - ',c)\n",
    "        endpoints.append(c)\n",
    "    #if c in endpoints_not_overlapping_with_preds: # this is what causes errors!\n",
    "    #    print('ERROR - ',c)\n",
    "print(len(endpoints))"
   ]
  },
  {
   "cell_type": "code",
   "execution_count": null,
   "metadata": {},
   "outputs": [],
   "source": [
    "scores = ['Age+Sex', 'Retina', 'Age+Sex+Retina']\n",
    "partitions = sorted(predictions.partition.unique().tolist())"
   ]
  },
  {
   "cell_type": "code",
   "execution_count": null,
   "metadata": {},
   "outputs": [],
   "source": [
    "from datetime import date\n",
    "today = str(date.today())"
   ]
  },
  {
   "cell_type": "code",
   "execution_count": null,
   "metadata": {
    "tags": []
   },
   "outputs": [],
   "source": [
    "eligable_eids = pd.read_feather(f\"{output_path}/eligable_eids_{today}.feather\")\n",
    "eids_dict = eligable_eids.set_index(\"endpoint\")[\"eid_list\"].to_dict()"
   ]
  },
  {
   "cell_type": "code",
   "execution_count": null,
   "metadata": {
    "tags": []
   },
   "outputs": [],
   "source": [
    "data_outcomes = pd.read_feather(\n",
    "    f\"{output_path}/baseline_outcomes_220531.feather\", \n",
    "    columns= [\"eid\"] + [f\"{e}_event\" for e in endpoints] + [f\"{e}_time\" for e in endpoints])\\\n",
    "    .set_index(\"eid\")"
   ]
  },
  {
   "cell_type": "code",
   "execution_count": null,
   "metadata": {
    "tags": []
   },
   "outputs": [],
   "source": [
    "eids = data_outcomes.index.values"
   ]
  },
  {
   "cell_type": "code",
   "execution_count": null,
   "metadata": {
    "tags": []
   },
   "outputs": [],
   "source": [
    "def read_partitions(endpoint, score, time):\n",
    "    paths = predictions.query(\"endpoint==@endpoint\").query(\"score==@score\").path.to_list()\n",
    "    data_preds = pd.concat([pd.read_feather(f\"{in_path}/{path}\", columns=[\"eid\", f\"Ft_{time}\"]) \n",
    "                      for path in paths], axis=0).set_index(\"eid\").sort_index()\n",
    "    data_preds.columns = [\"Ft\"]\n",
    "    return data_preds"
   ]
  },
  {
   "cell_type": "code",
   "execution_count": null,
   "metadata": {
    "tags": []
   },
   "outputs": [],
   "source": [
    "def prepare_data(data_outcomes, endpoint, score, t_eval):\n",
    "    temp_preds = read_partitions(endpoint, score, t_eval)\n",
    "    temp_tte = data_outcomes[[f\"{endpoint}_event\", f\"{endpoint}_time\"]]\n",
    "    temp_tte.columns = [\"event\", \"time\"]\n",
    "    temp_data = temp_preds.merge(temp_tte, left_index=True, right_index=True, how=\"left\")\n",
    "    \n",
    "    condition = (temp_data['event'] == 0) | (temp_data['time'] > t_eval)\n",
    "    \n",
    "    temp_data[\"event\"] = (np.where(condition, 0, 1))\n",
    "    \n",
    "    temp_data[\"time\"] = (np.where(condition, t_eval, temp_data['time']))\n",
    "    return temp_data"
   ]
  },
  {
   "cell_type": "code",
   "execution_count": null,
   "metadata": {
    "tags": []
   },
   "outputs": [],
   "source": [
    "from lifelines.utils import concordance_index\n",
    "\n",
    "def calculate_cindex(data_outcomes, endpoint, score, time, iteration, eids_i):  \n",
    "    temp_data = prepare_data(data_outcomes, endpoint, score, time)\n",
    "    temp_data = temp_data[temp_data.index.isin(eids_i)]\n",
    "    \n",
    "    try:\n",
    "        cindex = 1-concordance_index(temp_data[\"time\"], temp_data[\"Ft\"], temp_data[\"event\"])\n",
    "    except ZeroDivisionError: \n",
    "        cindex=np.nan\n",
    "    return {\"endpoint\":endpoint, \"score\": score, \"iteration\": iteration, \"time\":time, \"cindex\":cindex}\n",
    "\n",
    "@ray.remote\n",
    "def calculate_iteration(data_outcomes, endpoint, score, time, iteration, eids_i):  \n",
    "    dicts = []\n",
    "    for score in scores:\n",
    "        dicts.append(calculate_cindex(data_outcomes, endpoint, score, 10, iteration, eids_i))\n",
    "    return dicts"
   ]
  },
  {
   "cell_type": "code",
   "execution_count": null,
   "metadata": {
    "tags": []
   },
   "outputs": [],
   "source": [
    "iterations=[i for i in range(1000)] # 100"
   ]
  },
  {
   "cell_type": "code",
   "execution_count": null,
   "metadata": {
    "tags": []
   },
   "outputs": [],
   "source": [
    "out_path = f\"{experiment_path}/benchmarks\"\n",
    "pathlib.Path(out_path).mkdir(parents=True, exist_ok=True)"
   ]
  },
  {
   "cell_type": "raw",
   "metadata": {},
   "source": [
    "#### TEST ####\n",
    "rows_ray = []\n",
    "for endpoint in tqdm(endpoints):\n",
    "    eids_e = eids_dict[endpoint]\n",
    "    for iteration in iterations:\n",
    "        eids_i = np.random.choice(eids_e, size=len(eids_e))\n",
    "        ds = calculate_iteration(data_outcomes, endpoint, scores, 10, iteration, eids_i)\n",
    "        rows_ray.append(ds)"
   ]
  },
  {
   "cell_type": "code",
   "execution_count": null,
   "metadata": {
    "tags": []
   },
   "outputs": [],
   "source": [
    "ray_outcomes = ray.put(data_outcomes)\n",
    "\n",
    "rows_ray = []\n",
    "for endpoint in tqdm(endpoints):\n",
    "    eids_e = eids_dict[endpoint]\n",
    "    for iteration in iterations:\n",
    "        eids_i = np.random.choice(eids_e, size=len(eids_e))\n",
    "        ds = calculate_iteration.remote(ray_outcomes, endpoint, scores, 10, iteration, eids_i)\n",
    "        rows_ray.append(ds)"
   ]
  },
  {
   "cell_type": "code",
   "execution_count": null,
   "metadata": {
    "tags": []
   },
   "outputs": [],
   "source": [
    "rows = [ray.get(r) for r in tqdm(rows_ray)]"
   ]
  },
  {
   "cell_type": "code",
   "execution_count": null,
   "metadata": {
    "tags": []
   },
   "outputs": [],
   "source": [
    "rows_finished = [item for sublist in rows for item in sublist]"
   ]
  },
  {
   "cell_type": "code",
   "execution_count": null,
   "metadata": {
    "tags": []
   },
   "outputs": [],
   "source": [
    "benchmark_endpoints = pd.DataFrame({}).append(rows_finished, ignore_index=True)"
   ]
  },
  {
   "cell_type": "code",
   "execution_count": null,
   "metadata": {
    "tags": []
   },
   "outputs": [],
   "source": [
    "name = f\"benchmark_cindex_agesexcoxph_{today}\"\n",
    "benchmark_endpoints.to_feather(f\"{experiment_path}/{name}.feather\")"
   ]
  },
  {
   "cell_type": "code",
   "execution_count": null,
   "metadata": {},
   "outputs": [],
   "source": [
    "print(f\"{experiment_path}/{name}\")"
   ]
  },
  {
   "cell_type": "code",
   "execution_count": null,
   "metadata": {},
   "outputs": [],
   "source": [
    "len(rows_finished), len(rows)"
   ]
  },
  {
   "cell_type": "code",
   "execution_count": null,
   "metadata": {},
   "outputs": [],
   "source": [
    "pd.DataFrame({}).append(rows_finished, ignore_index=True).to_feather(f\"{out_path}/{endpoint}.feather\")"
   ]
  },
  {
   "cell_type": "code",
   "execution_count": null,
   "metadata": {},
   "outputs": [],
   "source": [
    "%%time\n",
    "temp_data = prepare_data(data_outcomes, endpoint, score, 10)"
   ]
  },
  {
   "cell_type": "code",
   "execution_count": null,
   "metadata": {},
   "outputs": [],
   "source": []
  },
  {
   "cell_type": "code",
   "execution_count": null,
   "metadata": {
    "tags": []
   },
   "outputs": [],
   "source": [
    "# cancel jobs\n",
    "\n",
    "\n",
    "for i in range(528114, 528500):\n",
    "    sub_cmd =  f\"scancel {i}\"\n",
    "    subprocess.run(sub_cmd, shell=True, cwd=os.getcwd(), capture_output=False)\n",
    "    \n",
    "    "
   ]
  },
  {
   "cell_type": "code",
   "execution_count": null,
   "metadata": {},
   "outputs": [],
   "source": []
  }
 ],
 "metadata": {
  "kernelspec": {
   "display_name": "retrisk",
   "language": "python",
   "name": "retrisk"
  },
  "language_info": {
   "codemirror_mode": {
    "name": "ipython",
    "version": 3
   },
   "file_extension": ".py",
   "mimetype": "text/x-python",
   "name": "python",
   "nbconvert_exporter": "python",
   "pygments_lexer": "ipython3",
   "version": "3.9.7"
  },
  "toc-autonumbering": false
 },
 "nbformat": 4,
 "nbformat_minor": 4
}
