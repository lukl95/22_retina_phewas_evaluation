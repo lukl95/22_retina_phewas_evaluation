{
 "cells": [
  {
   "cell_type": "markdown",
   "metadata": {},
   "source": [
    "# Benchmarks"
   ]
  },
  {
   "cell_type": "markdown",
   "metadata": {},
   "source": [
    "## Initialize"
   ]
  },
  {
   "cell_type": "code",
   "execution_count": 1,
   "metadata": {
    "tags": []
   },
   "outputs": [],
   "source": [
    "%load_ext autoreload\n",
    "%autoreload 2\n",
    "\n",
    "import os\n",
    "from tqdm.auto import tqdm\n",
    "import pathlib\n",
    "\n",
    "import numpy as np\n",
    "import pandas as pd\n",
    "import lifelines"
   ]
  },
  {
   "cell_type": "code",
   "execution_count": 2,
   "metadata": {
    "tags": []
   },
   "outputs": [
    {
     "name": "stdout",
     "output_type": "stream",
     "text": [
      "env: MKL_NUM_THREADS=1\n",
      "env: NUMEXPR_NUM_THREADS=1\n",
      "env: OMP_NUM_THREADS=1\n"
     ]
    }
   ],
   "source": [
    "%env MKL_NUM_THREADS=1\n",
    "%env NUMEXPR_NUM_THREADS=1\n",
    "%env OMP_NUM_THREADS=1"
   ]
  },
  {
   "cell_type": "code",
   "execution_count": 3,
   "metadata": {
    "tags": []
   },
   "outputs": [
    {
     "ename": "NameError",
     "evalue": "name 'ray' is not defined",
     "output_type": "error",
     "traceback": [
      "\u001b[0;31m---------------------------------------------------------------------------\u001b[0m",
      "\u001b[0;31mNameError\u001b[0m                                 Traceback (most recent call last)",
      "\u001b[0;32m/tmp/ipykernel_3787670/977760057.py\u001b[0m in \u001b[0;36m<module>\u001b[0;34m\u001b[0m\n\u001b[0;32m----> 1\u001b[0;31m \u001b[0mray\u001b[0m\u001b[0;34m.\u001b[0m\u001b[0mshutdown\u001b[0m\u001b[0;34m(\u001b[0m\u001b[0;34m)\u001b[0m\u001b[0;34m\u001b[0m\u001b[0;34m\u001b[0m\u001b[0m\n\u001b[0m",
      "\u001b[0;31mNameError\u001b[0m: name 'ray' is not defined"
     ]
    }
   ],
   "source": [
    "ray.shutdown()"
   ]
  },
  {
   "cell_type": "code",
   "execution_count": 4,
   "metadata": {
    "tags": []
   },
   "outputs": [
    {
     "data": {
      "text/plain": [
       "{'node_ip_address': '10.32.105.6',\n",
       " 'raylet_ip_address': '10.32.105.6',\n",
       " 'redis_address': '10.32.105.6:65170',\n",
       " 'object_store_address': '/tmp/ray/session_2022-05-25_11-43-02_882196_3787670/sockets/plasma_store',\n",
       " 'raylet_socket_name': '/tmp/ray/session_2022-05-25_11-43-02_882196_3787670/sockets/raylet',\n",
       " 'webui_url': None,\n",
       " 'session_dir': '/tmp/ray/session_2022-05-25_11-43-02_882196_3787670',\n",
       " 'metrics_export_port': 57067,\n",
       " 'node_id': 'c2440f6ee9c44c208b27600c5d0b610cc1638d4777424ddf9defa032'}"
      ]
     },
     "execution_count": 4,
     "metadata": {},
     "output_type": "execute_result"
    }
   ],
   "source": [
    "import ray\n",
    "ray.init(num_cpus=24)#, webui_url=\"0.0.0.0\")"
   ]
  },
  {
   "cell_type": "code",
   "execution_count": 5,
   "metadata": {
    "tags": []
   },
   "outputs": [
    {
     "name": "stdout",
     "output_type": "stream",
     "text": [
      "/sc-projects/sc-proj-ukb-cvd\n"
     ]
    }
   ],
   "source": [
    "node = !hostname\n",
    "if \"sc\" in node[0]:\n",
    "    base_path = \"/sc-projects/sc-proj-ukb-cvd\"\n",
    "else: \n",
    "    base_path = \"/data/analysis/ag-reils/ag-reils-shared/cardioRS\"\n",
    "print(base_path)\n",
    "\n",
    "project_label = \"22_retina_phewas\"\n",
    "project_path = f\"{base_path}/results/projects/{project_label}\"\n",
    "figure_path = f\"{project_path}/figures\"\n",
    "output_path = f\"{project_path}/data\"\n",
    "\n",
    "##### BEGIN ADAPT #####\n",
    "# second best model\n",
    "# wandb_name = 'aug++_convnext_s_mlp'\n",
    "# wandb_id = '8ngm6apd'\n",
    "# best model\n",
    "wandb_name = 'aug++_convnext_s_mlp+'\n",
    "wandb_id = '3p3smraz'\n",
    "partitions = [0] # [i for i in range(22)]\n",
    "##### END   ADAPT #####\n",
    "\n",
    "experiment = wandb_id\n",
    "experiment_path = f\"{output_path}/{experiment}\"\n",
    "pathlib.Path(experiment_path).mkdir(parents=True, exist_ok=True)"
   ]
  },
  {
   "cell_type": "code",
   "execution_count": 6,
   "metadata": {
    "tags": []
   },
   "outputs": [],
   "source": [
    "in_path = f\"{experiment_path}/coxph/predictions\""
   ]
  },
  {
   "cell_type": "code",
   "execution_count": 7,
   "metadata": {
    "tags": []
   },
   "outputs": [
    {
     "data": {
      "text/html": [
       "<div>\n",
       "<style scoped>\n",
       "    .dataframe tbody tr th:only-of-type {\n",
       "        vertical-align: middle;\n",
       "    }\n",
       "\n",
       "    .dataframe tbody tr th {\n",
       "        vertical-align: top;\n",
       "    }\n",
       "\n",
       "    .dataframe thead th {\n",
       "        text-align: right;\n",
       "    }\n",
       "</style>\n",
       "<table border=\"1\" class=\"dataframe\">\n",
       "  <thead>\n",
       "    <tr style=\"text-align: right;\">\n",
       "      <th></th>\n",
       "      <th>endpoint</th>\n",
       "      <th>score</th>\n",
       "      <th>partition</th>\n",
       "      <th>path</th>\n",
       "    </tr>\n",
       "  </thead>\n",
       "  <tbody>\n",
       "    <tr>\n",
       "      <th>0</th>\n",
       "      <td>OMOP_4306655</td>\n",
       "      <td>Age+Sex</td>\n",
       "      <td>0</td>\n",
       "      <td>OMOP_4306655_Age+Sex_0.feather</td>\n",
       "    </tr>\n",
       "    <tr>\n",
       "      <th>1</th>\n",
       "      <td>OMOP_4306655</td>\n",
       "      <td>Age+Sex+Retina</td>\n",
       "      <td>0</td>\n",
       "      <td>OMOP_4306655_Age+Sex+Retina_0.feather</td>\n",
       "    </tr>\n",
       "    <tr>\n",
       "      <th>2</th>\n",
       "      <td>OMOP_4306655</td>\n",
       "      <td>Retina</td>\n",
       "      <td>0</td>\n",
       "      <td>OMOP_4306655_Retina_0.feather</td>\n",
       "    </tr>\n",
       "    <tr>\n",
       "      <th>3</th>\n",
       "      <td>phecode_052</td>\n",
       "      <td>Age+Sex</td>\n",
       "      <td>0</td>\n",
       "      <td>phecode_052_Age+Sex_0.feather</td>\n",
       "    </tr>\n",
       "    <tr>\n",
       "      <th>4</th>\n",
       "      <td>phecode_052</td>\n",
       "      <td>Age+Sex+Retina</td>\n",
       "      <td>0</td>\n",
       "      <td>phecode_052_Age+Sex+Retina_0.feather</td>\n",
       "    </tr>\n",
       "    <tr>\n",
       "      <th>...</th>\n",
       "      <td>...</td>\n",
       "      <td>...</td>\n",
       "      <td>...</td>\n",
       "      <td>...</td>\n",
       "    </tr>\n",
       "    <tr>\n",
       "      <th>1489</th>\n",
       "      <td>phecode_977-7</td>\n",
       "      <td>Age+Sex+Retina</td>\n",
       "      <td>0</td>\n",
       "      <td>phecode_977-7_Age+Sex+Retina_0.feather</td>\n",
       "    </tr>\n",
       "    <tr>\n",
       "      <th>1490</th>\n",
       "      <td>phecode_977-7</td>\n",
       "      <td>Retina</td>\n",
       "      <td>0</td>\n",
       "      <td>phecode_977-7_Retina_0.feather</td>\n",
       "    </tr>\n",
       "    <tr>\n",
       "      <th>1491</th>\n",
       "      <td>phecode_977-72</td>\n",
       "      <td>Age+Sex</td>\n",
       "      <td>0</td>\n",
       "      <td>phecode_977-72_Age+Sex_0.feather</td>\n",
       "    </tr>\n",
       "    <tr>\n",
       "      <th>1492</th>\n",
       "      <td>phecode_977-72</td>\n",
       "      <td>Age+Sex+Retina</td>\n",
       "      <td>0</td>\n",
       "      <td>phecode_977-72_Age+Sex+Retina_0.feather</td>\n",
       "    </tr>\n",
       "    <tr>\n",
       "      <th>1493</th>\n",
       "      <td>phecode_977-72</td>\n",
       "      <td>Retina</td>\n",
       "      <td>0</td>\n",
       "      <td>phecode_977-72_Retina_0.feather</td>\n",
       "    </tr>\n",
       "  </tbody>\n",
       "</table>\n",
       "<p>1494 rows × 4 columns</p>\n",
       "</div>"
      ],
      "text/plain": [
       "            endpoint           score  partition  \\\n",
       "0       OMOP_4306655         Age+Sex          0   \n",
       "1       OMOP_4306655  Age+Sex+Retina          0   \n",
       "2       OMOP_4306655          Retina          0   \n",
       "3        phecode_052         Age+Sex          0   \n",
       "4        phecode_052  Age+Sex+Retina          0   \n",
       "...              ...             ...        ...   \n",
       "1489   phecode_977-7  Age+Sex+Retina          0   \n",
       "1490   phecode_977-7          Retina          0   \n",
       "1491  phecode_977-72         Age+Sex          0   \n",
       "1492  phecode_977-72  Age+Sex+Retina          0   \n",
       "1493  phecode_977-72          Retina          0   \n",
       "\n",
       "                                         path  \n",
       "0              OMOP_4306655_Age+Sex_0.feather  \n",
       "1       OMOP_4306655_Age+Sex+Retina_0.feather  \n",
       "2               OMOP_4306655_Retina_0.feather  \n",
       "3               phecode_052_Age+Sex_0.feather  \n",
       "4        phecode_052_Age+Sex+Retina_0.feather  \n",
       "...                                       ...  \n",
       "1489   phecode_977-7_Age+Sex+Retina_0.feather  \n",
       "1490           phecode_977-7_Retina_0.feather  \n",
       "1491         phecode_977-72_Age+Sex_0.feather  \n",
       "1492  phecode_977-72_Age+Sex+Retina_0.feather  \n",
       "1493          phecode_977-72_Retina_0.feather  \n",
       "\n",
       "[1494 rows x 4 columns]"
      ]
     },
     "execution_count": 7,
     "metadata": {},
     "output_type": "execute_result"
    }
   ],
   "source": [
    "prediction_paths = !ls $in_path\n",
    "predictions = pd.Series(prediction_paths).str.split(\"_\", expand=True)\\\n",
    "    .assign(path = prediction_paths)\\\n",
    "    .assign(endpoint = lambda x: x[0]+\"_\"+x[1])\\\n",
    "    .assign(score = lambda x: x[2])\\\n",
    "    .assign(partition = lambda x: x[3].str.replace(\".feather\", \"\", regex=True).astype(int))\\\n",
    "    [[\"endpoint\", \"score\", \"partition\", \"path\"]].sort_values([\"endpoint\", \"score\", \"partition\"]).reset_index(drop=True)\n",
    "predictions"
   ]
  },
  {
   "cell_type": "code",
   "execution_count": 8,
   "metadata": {
    "tags": []
   },
   "outputs": [
    {
     "name": "stdout",
     "output_type": "stream",
     "text": [
      "498\n",
      "498\n"
     ]
    }
   ],
   "source": [
    "import pandas as pd\n",
    "all_endpoints = sorted([l.replace('_prevalent', '') for l in list(pd.read_csv('/sc-projects/sc-proj-ukb-cvd/results/projects/22_medical_records/data/220413/frequent_endpoints.csv').endpoint.values)])\n",
    "\n",
    "#all_endpoints = sorted(endpoints_all_md.endpoint.to_list())\n",
    "print(len(all_endpoints))\n",
    "\n",
    "endpoints_not_overlapping_with_preds = []\n",
    "#endpoints_not_overlapping_with_preds_md = pd.read_csv(f\"{experiment_path}/endpoints_not_overlapping.csv\", header=None)\n",
    "#print(len(endpoints_not_overlapping_with_preds_md))\n",
    "#endpoints_not_overlapping_with_preds = list(endpoints_not_overlapping_with_preds_md[0].values)\n",
    "\n",
    "endpoints = []\n",
    "for c in all_endpoints:\n",
    "    if c not in endpoints_not_overlapping_with_preds: # this is what i want\n",
    "        #print('OK    - ',c)\n",
    "        endpoints.append(c)\n",
    "    #if c in endpoints_not_overlapping_with_preds: # this is what causes errors!\n",
    "    #    print('ERROR - ',c)\n",
    "print(len(endpoints))"
   ]
  },
  {
   "cell_type": "code",
   "execution_count": 9,
   "metadata": {},
   "outputs": [],
   "source": [
    "scores = ['Age+Sex', 'Retina', 'Age+Sex+Retina']\n",
    "partitions = sorted(predictions.partition.unique().tolist())"
   ]
  },
  {
   "cell_type": "code",
   "execution_count": 10,
   "metadata": {},
   "outputs": [],
   "source": [
    "from datetime import date\n",
    "today = str(date.today())"
   ]
  },
  {
   "cell_type": "code",
   "execution_count": 11,
   "metadata": {
    "tags": []
   },
   "outputs": [],
   "source": [
    "eligable_eids = pd.read_feather(f\"{output_path}/eligable_eids_{today}.feather\")\n",
    "eids_dict = eligable_eids.set_index(\"endpoint\")[\"eid_list\"].to_dict()"
   ]
  },
  {
   "cell_type": "code",
   "execution_count": 12,
   "metadata": {
    "tags": []
   },
   "outputs": [],
   "source": [
    "data_outcomes = pd.read_feather(\n",
    "    f\"{output_path}/baseline_outcomes_220412.feather\", \n",
    "    columns= [\"eid\"] + [f\"{e}_event\" for e in endpoints] + [f\"{e}_time\" for e in endpoints])\\\n",
    "    .set_index(\"eid\")"
   ]
  },
  {
   "cell_type": "code",
   "execution_count": 13,
   "metadata": {
    "tags": []
   },
   "outputs": [],
   "source": [
    "eids = data_outcomes.index.values"
   ]
  },
  {
   "cell_type": "code",
   "execution_count": 14,
   "metadata": {
    "tags": []
   },
   "outputs": [],
   "source": [
    "def read_partitions(endpoint, score, time):\n",
    "    paths = predictions.query(\"endpoint==@endpoint\").query(\"score==@score\").path.to_list()\n",
    "    data_preds = pd.concat([pd.read_feather(f\"{in_path}/{path}\", columns=[\"eid\", f\"Ft_{time}\"]) \n",
    "                      for path in paths], axis=0).set_index(\"eid\").sort_index()\n",
    "    data_preds.columns = [\"Ft\"]\n",
    "    return data_preds"
   ]
  },
  {
   "cell_type": "code",
   "execution_count": 15,
   "metadata": {
    "tags": []
   },
   "outputs": [],
   "source": [
    "def prepare_data(data_outcomes, endpoint, score, t_eval):\n",
    "    temp_preds = read_partitions(endpoint, score, t_eval)\n",
    "    temp_tte = data_outcomes[[f\"{endpoint}_event\", f\"{endpoint}_time\"]]\n",
    "    temp_tte.columns = [\"event\", \"time\"]\n",
    "    temp_data = temp_preds.merge(temp_tte, left_index=True, right_index=True, how=\"left\")\n",
    "    \n",
    "    condition = (temp_data['event'] == 0) | (temp_data['time'] > t_eval)\n",
    "    \n",
    "    temp_data[\"event\"] = (np.where(condition, 0, 1))\n",
    "    \n",
    "    temp_data[\"time\"] = (np.where(condition, t_eval, temp_data['time']))\n",
    "    return temp_data"
   ]
  },
  {
   "cell_type": "code",
   "execution_count": 16,
   "metadata": {
    "tags": []
   },
   "outputs": [],
   "source": [
    "from lifelines.utils import concordance_index\n",
    "\n",
    "def calculate_cindex(data_outcomes, endpoint, score, time, iteration, eids_i):  \n",
    "    temp_data = prepare_data(data_outcomes, endpoint, score, time)\n",
    "    temp_data = temp_data[temp_data.index.isin(eids_i)]\n",
    "    \n",
    "    try:\n",
    "        cindex = 1-concordance_index(temp_data[\"time\"], temp_data[\"Ft\"], temp_data[\"event\"])\n",
    "    except ZeroDivisionError: \n",
    "        cindex=np.nan\n",
    "    return {\"endpoint\":endpoint, \"score\": score, \"iteration\": iteration, \"time\":time, \"cindex\":cindex}\n",
    "\n",
    "@ray.remote\n",
    "def calculate_iteration(data_outcomes, endpoint, score, time, iteration, eids_i):  \n",
    "    dicts = []\n",
    "    for score in scores:\n",
    "        dicts.append(calculate_cindex(data_outcomes, endpoint, score, 10, iteration, eids_i))\n",
    "    return dicts"
   ]
  },
  {
   "cell_type": "code",
   "execution_count": 17,
   "metadata": {
    "tags": []
   },
   "outputs": [],
   "source": [
    "iterations=[i for i in range(1000)] # 100"
   ]
  },
  {
   "cell_type": "code",
   "execution_count": 18,
   "metadata": {
    "tags": []
   },
   "outputs": [],
   "source": [
    "out_path = f\"{experiment_path}/benchmarks\"\n",
    "pathlib.Path(out_path).mkdir(parents=True, exist_ok=True)"
   ]
  },
  {
   "cell_type": "raw",
   "metadata": {},
   "source": [
    "#### TEST ####\n",
    "rows_ray = []\n",
    "for endpoint in tqdm(endpoints):\n",
    "    eids_e = eids_dict[endpoint]\n",
    "    for iteration in iterations:\n",
    "        eids_i = np.random.choice(eids_e, size=len(eids_e))\n",
    "        ds = calculate_iteration(data_outcomes, endpoint, scores, 10, iteration, eids_i)\n",
    "        rows_ray.append(ds)"
   ]
  },
  {
   "cell_type": "code",
   "execution_count": 19,
   "metadata": {
    "tags": []
   },
   "outputs": [
    {
     "data": {
      "application/vnd.jupyter.widget-view+json": {
       "model_id": "ee92e3d34f6b469a96bf25e4bdd5c854",
       "version_major": 2,
       "version_minor": 0
      },
      "text/plain": [
       "  0%|          | 0/498 [00:00<?, ?it/s]"
      ]
     },
     "metadata": {},
     "output_type": "display_data"
    },
    {
     "name": "stdout",
     "output_type": "stream",
     "text": [
      "\u001b[2m\u001b[36m(calculate_iteration pid=3787841)\u001b[0m \n",
      "\u001b[2m\u001b[36m(calculate_iteration pid=3787842)\u001b[0m \n",
      "\u001b[2m\u001b[36m(calculate_iteration pid=3787836)\u001b[0m \n",
      "\u001b[2m\u001b[36m(calculate_iteration pid=3787846)\u001b[0m \n",
      "\u001b[2m\u001b[36m(calculate_iteration pid=3787854)\u001b[0m \n",
      "\u001b[2m\u001b[36m(calculate_iteration pid=3787847)\u001b[0m \n",
      "\u001b[2m\u001b[36m(calculate_iteration pid=3787845)\u001b[0m \n",
      "\u001b[2m\u001b[36m(calculate_iteration pid=3787837)\u001b[0m \n",
      "\u001b[2m\u001b[36m(calculate_iteration pid=3787849)\u001b[0m \n",
      "\u001b[2m\u001b[36m(calculate_iteration pid=3787855)\u001b[0m \n",
      "\u001b[2m\u001b[36m(calculate_iteration pid=3787854)\u001b[0m \n",
      "\u001b[2m\u001b[36m(calculate_iteration pid=3787843)\u001b[0m \n",
      "\u001b[2m\u001b[36m(calculate_iteration pid=3787844)\u001b[0m \n",
      "\u001b[2m\u001b[36m(calculate_iteration pid=3787848)\u001b[0m \n",
      "\u001b[2m\u001b[36m(calculate_iteration pid=3787858)\u001b[0m \n",
      "\u001b[2m\u001b[36m(calculate_iteration pid=3787856)\u001b[0m \n",
      "\u001b[2m\u001b[36m(calculate_iteration pid=3787843)\u001b[0m \n",
      "\u001b[2m\u001b[36m(calculate_iteration pid=3787856)\u001b[0m \n",
      "\u001b[2m\u001b[36m(calculate_iteration pid=3787849)\u001b[0m \n",
      "\u001b[2m\u001b[36m(calculate_iteration pid=3787842)\u001b[0m \n",
      "\u001b[2m\u001b[36m(calculate_iteration pid=3787852)\u001b[0m \n",
      "\u001b[2m\u001b[36m(calculate_iteration pid=3787850)\u001b[0m \n",
      "\u001b[2m\u001b[36m(calculate_iteration pid=3787855)\u001b[0m \n",
      "\u001b[2m\u001b[36m(calculate_iteration pid=3787846)\u001b[0m \n",
      "\u001b[2m\u001b[36m(calculate_iteration pid=3787856)\u001b[0m \n",
      "\u001b[2m\u001b[36m(calculate_iteration pid=3787858)\u001b[0m \n",
      "\u001b[2m\u001b[36m(calculate_iteration pid=3787845)\u001b[0m \n",
      "\u001b[2m\u001b[36m(calculate_iteration pid=3787850)\u001b[0m \n",
      "\u001b[2m\u001b[36m(calculate_iteration pid=3787849)\u001b[0m \n",
      "\u001b[2m\u001b[36m(calculate_iteration pid=3787846)\u001b[0m \n",
      "\u001b[2m\u001b[36m(calculate_iteration pid=3787848)\u001b[0m \n",
      "\u001b[2m\u001b[36m(calculate_iteration pid=3787837)\u001b[0m \n",
      "\u001b[2m\u001b[36m(calculate_iteration pid=3787849)\u001b[0m \n",
      "\u001b[2m\u001b[36m(calculate_iteration pid=3787837)\u001b[0m \n",
      "\u001b[2m\u001b[36m(calculate_iteration pid=3787845)\u001b[0m \n",
      "\u001b[2m\u001b[36m(calculate_iteration pid=3787844)\u001b[0m \n",
      "\u001b[2m\u001b[36m(calculate_iteration pid=3787837)\u001b[0m \n",
      "\u001b[2m\u001b[36m(calculate_iteration pid=3787854)\u001b[0m \n",
      "\u001b[2m\u001b[36m(calculate_iteration pid=3787836)\u001b[0m \n",
      "\u001b[2m\u001b[36m(calculate_iteration pid=3787835)\u001b[0m \n",
      "\u001b[2m\u001b[36m(calculate_iteration pid=3787852)\u001b[0m \n",
      "\u001b[2m\u001b[36m(calculate_iteration pid=3787853)\u001b[0m \n",
      "\u001b[2m\u001b[36m(calculate_iteration pid=3787839)\u001b[0m \n",
      "\u001b[2m\u001b[36m(calculate_iteration pid=3787849)\u001b[0m \n",
      "\u001b[2m\u001b[36m(calculate_iteration pid=3787855)\u001b[0m \n",
      "\u001b[2m\u001b[36m(calculate_iteration pid=3787848)\u001b[0m \n",
      "\u001b[2m\u001b[36m(calculate_iteration pid=3787854)\u001b[0m \n",
      "\u001b[2m\u001b[36m(calculate_iteration pid=3787840)\u001b[0m \n",
      "\u001b[2m\u001b[36m(calculate_iteration pid=3787836)\u001b[0m \n",
      "\u001b[2m\u001b[36m(calculate_iteration pid=3787856)\u001b[0m \n",
      "\u001b[2m\u001b[36m(calculate_iteration pid=3787841)\u001b[0m \n",
      "\u001b[2m\u001b[36m(calculate_iteration pid=3787836)\u001b[0m \n",
      "\u001b[2m\u001b[36m(calculate_iteration pid=3787848)\u001b[0m \n",
      "\u001b[2m\u001b[36m(calculate_iteration pid=3787843)\u001b[0m \n",
      "\u001b[2m\u001b[36m(calculate_iteration pid=3787844)\u001b[0m \n",
      "\u001b[2m\u001b[36m(calculate_iteration pid=3787841)\u001b[0m \n",
      "\u001b[2m\u001b[36m(calculate_iteration pid=3787839)\u001b[0m \n",
      "\u001b[2m\u001b[36m(calculate_iteration pid=3787849)\u001b[0m \n",
      "\u001b[2m\u001b[36m(calculate_iteration pid=3787842)\u001b[0m \n",
      "\u001b[2m\u001b[36m(calculate_iteration pid=3787855)\u001b[0m \n",
      "\u001b[2m\u001b[36m(calculate_iteration pid=3787838)\u001b[0m \n",
      "\u001b[2m\u001b[36m(calculate_iteration pid=3787842)\u001b[0m \n",
      "\u001b[2m\u001b[36m(calculate_iteration pid=3787839)\u001b[0m \n",
      "\u001b[2m\u001b[36m(calculate_iteration pid=3787849)\u001b[0m \n",
      "\u001b[2m\u001b[36m(calculate_iteration pid=3787856)\u001b[0m \n",
      "\u001b[2m\u001b[36m(calculate_iteration pid=3787851)\u001b[0m \n",
      "\u001b[2m\u001b[36m(calculate_iteration pid=3787856)\u001b[0m \n",
      "\u001b[2m\u001b[36m(calculate_iteration pid=3787852)\u001b[0m \n",
      "\u001b[2m\u001b[36m(calculate_iteration pid=3787846)\u001b[0m \n",
      "\u001b[2m\u001b[36m(calculate_iteration pid=3787843)\u001b[0m \n",
      "\u001b[2m\u001b[36m(calculate_iteration pid=3787853)\u001b[0m \n"
     ]
    }
   ],
   "source": [
    "ray_outcomes = ray.put(data_outcomes)\n",
    "\n",
    "rows_ray = []\n",
    "for endpoint in tqdm(endpoints):\n",
    "    eids_e = eids_dict[endpoint]\n",
    "    for iteration in iterations:\n",
    "        eids_i = np.random.choice(eids_e, size=len(eids_e))\n",
    "        ds = calculate_iteration.remote(ray_outcomes, endpoint, scores, 10, iteration, eids_i)\n",
    "        rows_ray.append(ds)"
   ]
  },
  {
   "cell_type": "code",
   "execution_count": 20,
   "metadata": {
    "tags": []
   },
   "outputs": [
    {
     "data": {
      "application/vnd.jupyter.widget-view+json": {
       "model_id": "aabd6e091f7a40969d975f5aa449a2ba",
       "version_major": 2,
       "version_minor": 0
      },
      "text/plain": [
       "  0%|          | 0/498000 [00:00<?, ?it/s]"
      ]
     },
     "metadata": {},
     "output_type": "display_data"
    }
   ],
   "source": [
    "rows = [ray.get(r) for r in tqdm(rows_ray)]"
   ]
  },
  {
   "cell_type": "code",
   "execution_count": 21,
   "metadata": {
    "tags": []
   },
   "outputs": [],
   "source": [
    "rows_finished = [item for sublist in rows for item in sublist]"
   ]
  },
  {
   "cell_type": "code",
   "execution_count": 22,
   "metadata": {
    "tags": []
   },
   "outputs": [],
   "source": [
    "benchmark_endpoints = pd.DataFrame({}).append(rows_finished, ignore_index=True)"
   ]
  },
  {
   "cell_type": "code",
   "execution_count": 23,
   "metadata": {
    "tags": []
   },
   "outputs": [],
   "source": [
    "name = f\"benchmark_cindex_agesexcoxph_{today}\"\n",
    "benchmark_endpoints.to_feather(f\"{experiment_path}/{name}.feather\")"
   ]
  },
  {
   "cell_type": "code",
   "execution_count": 24,
   "metadata": {},
   "outputs": [
    {
     "name": "stdout",
     "output_type": "stream",
     "text": [
      "/sc-projects/sc-proj-ukb-cvd/results/projects/22_retina_phewas/data/3p3smraz/benchmark_cindex_agesexcoxph_2022-05-25\n"
     ]
    }
   ],
   "source": [
    "print(f\"{experiment_path}/{name}\")"
   ]
  },
  {
   "cell_type": "code",
   "execution_count": 25,
   "metadata": {},
   "outputs": [
    {
     "data": {
      "text/plain": [
       "(1494000, 498000)"
      ]
     },
     "execution_count": 25,
     "metadata": {},
     "output_type": "execute_result"
    }
   ],
   "source": [
    "len(rows_finished), len(rows)"
   ]
  },
  {
   "cell_type": "code",
   "execution_count": 26,
   "metadata": {},
   "outputs": [],
   "source": [
    "pd.DataFrame({}).append(rows_finished, ignore_index=True).to_feather(f\"{out_path}/{endpoint}.feather\")"
   ]
  },
  {
   "cell_type": "code",
   "execution_count": null,
   "metadata": {},
   "outputs": [],
   "source": [
    "%%time\n",
    "temp_data = prepare_data(data_outcomes, endpoint, score, 10)"
   ]
  },
  {
   "cell_type": "code",
   "execution_count": 26,
   "metadata": {},
   "outputs": [],
   "source": []
  },
  {
   "cell_type": "code",
   "execution_count": null,
   "metadata": {},
   "outputs": [],
   "source": []
  }
 ],
 "metadata": {
  "kernelspec": {
   "display_name": "Python 3 (ipykernel)",
   "language": "python",
   "name": "python3"
  },
  "language_info": {
   "codemirror_mode": {
    "name": "ipython",
    "version": 3
   },
   "file_extension": ".py",
   "mimetype": "text/x-python",
   "name": "python",
   "nbconvert_exporter": "python",
   "pygments_lexer": "ipython3",
   "version": "3.9.7"
  },
  "toc-autonumbering": false
 },
 "nbformat": 4,
 "nbformat_minor": 4
}
