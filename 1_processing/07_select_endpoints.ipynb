{
 "cells": [
  {
   "cell_type": "markdown",
   "metadata": {},
   "source": [
    "# Benchmarks"
   ]
  },
  {
   "cell_type": "markdown",
   "metadata": {},
   "source": [
    "## Initialize"
   ]
  },
  {
   "cell_type": "code",
   "execution_count": 1,
   "metadata": {
    "ExecuteTime": {
     "end_time": "2021-01-05T11:03:10.491477Z",
     "start_time": "2021-01-05T11:03:10.445Z"
    },
    "execution": {
     "iopub.execute_input": "2022-11-08T23:10:52.538476Z",
     "iopub.status.busy": "2022-11-08T23:10:52.538154Z",
     "iopub.status.idle": "2022-11-08T23:10:55.539545Z",
     "shell.execute_reply": "2022-11-08T23:10:55.539033Z",
     "shell.execute_reply.started": "2022-11-08T23:10:52.538403Z"
    },
    "tags": []
   },
   "outputs": [],
   "source": [
    "import os\n",
    "import math\n",
    "import pathlib\n",
    "import numpy as np\n",
    "import pandas as pd\n",
    "from tqdm.auto import tqdm\n",
    "from IPython.display import clear_output\n",
    "\n",
    "import warnings\n",
    "from lifelines.utils import CensoringType\n",
    "from lifelines.utils import concordance_index"
   ]
  },
  {
   "cell_type": "code",
   "execution_count": 2,
   "metadata": {
    "execution": {
     "iopub.execute_input": "2022-11-08T23:10:55.540892Z",
     "iopub.status.busy": "2022-11-08T23:10:55.540527Z",
     "iopub.status.idle": "2022-11-08T23:10:55.580347Z",
     "shell.execute_reply": "2022-11-08T23:10:55.579890Z",
     "shell.execute_reply.started": "2022-11-08T23:10:55.540873Z"
    },
    "tags": []
   },
   "outputs": [
    {
     "name": "stdout",
     "output_type": "stream",
     "text": [
      "/sc-projects/sc-proj-ukb-cvd\n"
     ]
    },
    {
     "data": {
      "text/plain": [
       "[0, 1, 2, 3, 4, 5, 6, 7, 8, 9, 10, 11, 12, 13, 14, 15, 16, 17, 18, 19, 20, 21]"
      ]
     },
     "execution_count": 2,
     "metadata": {},
     "output_type": "execute_result"
    }
   ],
   "source": [
    "node = !hostname\n",
    "if \"sc\" in node[0]:\n",
    "    base_path = \"/sc-projects/sc-proj-ukb-cvd\"\n",
    "else: \n",
    "    base_path = \"/data/analysis/ag-reils/ag-reils-shared/cardioRS\"\n",
    "print(base_path)\n",
    "\n",
    "project_label = \"22_retina_phewas\"\n",
    "project_path = f\"{base_path}/results/projects/{project_label}\"\n",
    "figure_path = f\"{project_path}/figures\"\n",
    "output_path = f\"{project_path}/data\"\n",
    "\n",
    "pathlib.Path(figure_path).mkdir(parents=True, exist_ok=True)\n",
    "pathlib.Path(output_path).mkdir(parents=True, exist_ok=True)\n",
    "\n",
    "experiment = '221108'\n",
    "experiment_path = f\"{output_path}/{experiment}\"\n",
    "pathlib.Path(experiment_path).mkdir(parents=True, exist_ok=True)\n",
    "\n",
    "\n",
    "name_dict = {\n",
    "    \"predictions_cropratio0.66\": \"ConvNextSmall(Retina)+MLP_cropratio0.66\",\n",
    "}\n",
    "\n",
    "partitions = [i for i in range(22)]\n",
    "# partitions = [ 4, 15,  3,  2, 21, 14, 13, 20,  1,  0, 12, 11, 19, 18, 10, 17, 16]\n",
    "partitions"
   ]
  },
  {
   "cell_type": "code",
   "execution_count": 3,
   "metadata": {
    "execution": {
     "iopub.execute_input": "2022-11-08T23:10:55.581253Z",
     "iopub.status.busy": "2022-11-08T23:10:55.581140Z",
     "iopub.status.idle": "2022-11-08T23:10:55.583599Z",
     "shell.execute_reply": "2022-11-08T23:10:55.583229Z",
     "shell.execute_reply.started": "2022-11-08T23:10:55.581237Z"
    },
    "tags": []
   },
   "outputs": [],
   "source": [
    "today = '221109'"
   ]
  },
  {
   "cell_type": "code",
   "execution_count": 4,
   "metadata": {
    "execution": {
     "iopub.execute_input": "2022-11-08T23:10:55.584769Z",
     "iopub.status.busy": "2022-11-08T23:10:55.584515Z",
     "iopub.status.idle": "2022-11-08T23:10:55.724965Z",
     "shell.execute_reply": "2022-11-08T23:10:55.724425Z",
     "shell.execute_reply.started": "2022-11-08T23:10:55.584753Z"
    }
   },
   "outputs": [
    {
     "name": "stdout",
     "output_type": "stream",
     "text": [
      "total 29940872\n",
      "drwxrwx--- 4 buergelt posix-nogroup         538 Nov  9 00:02 .\n",
      "drwxrwx--- 4 buergelt posix-nogroup          47 Aug 24 09:40 ..\n",
      "drwxrwx--- 5 buergelt posix-nogroup         382 Nov  3 15:51 220812_test\n",
      "drwxrwx--- 4 buergelt posix-nogroup          87 Nov  8 17:13 221108\n",
      "-rwxrwx--- 1 buergelt posix-nogroup  4936136130 Aug 24 10:31 baseline_outcomes_220627.feather\n",
      "-rwxrwx--- 1 buergelt posix-nogroup 10680216930 Aug 24 10:30 baseline_outcomes_long_220531.feather\n",
      "-rwxrwx--- 1 buergelt posix-nogroup 10702426538 Aug 24 10:35 baseline_outcomes_long_220627.feather\n",
      "-rwxrwx--- 1 buergelt posix-nogroup    10721490 Aug 25 12:27 data_covariates_full.feather\n",
      "-rwxrwx--- 1 buergelt posix-nogroup  2247373170 Aug 25 13:01 eligable_eids_220824.feather\n",
      "-rwxrwx--- 1 buergelt posix-nogroup  2247373170 Nov  8 23:59 eligable_eids_221109.feather\n",
      "-rwxrwx--- 1 buergelt posix-nogroup  2233434634 Aug 25 13:04 eligable_eids_long_220824.feather\n",
      "-rwxrwx--- 1 buergelt posix-nogroup  2233434634 Nov  9 00:02 eligable_eids_long_221109.feather\n",
      "-rwxrwx--- 1 buergelt posix-nogroup      195482 Aug 24 10:28 phecode_defs_220306.feather\n",
      "-rwxrwxr-- 1 buergelt posix-nogroup         983 Aug 25 13:47 score_definitions.yaml\n"
     ]
    }
   ],
   "source": [
    "!ls -al {output_path}"
   ]
  },
  {
   "cell_type": "code",
   "execution_count": 5,
   "metadata": {
    "execution": {
     "iopub.execute_input": "2022-11-08T23:10:55.725928Z",
     "iopub.status.busy": "2022-11-08T23:10:55.725806Z",
     "iopub.status.idle": "2022-11-08T23:10:55.759960Z",
     "shell.execute_reply": "2022-11-08T23:10:55.759474Z",
     "shell.execute_reply.started": "2022-11-08T23:10:55.725912Z"
    },
    "tags": []
   },
   "outputs": [],
   "source": [
    "endpoint_defs = pd.read_feather(f\"{output_path}/phecode_defs_220306.feather\").sort_values(\"endpoint\")"
   ]
  },
  {
   "cell_type": "code",
   "execution_count": 6,
   "metadata": {
    "execution": {
     "iopub.execute_input": "2022-11-08T23:10:55.761110Z",
     "iopub.status.busy": "2022-11-08T23:10:55.760839Z",
     "iopub.status.idle": "2022-11-08T23:10:59.995342Z",
     "shell.execute_reply": "2022-11-08T23:10:59.994874Z",
     "shell.execute_reply.started": "2022-11-08T23:10:55.761084Z"
    },
    "tags": []
   },
   "outputs": [],
   "source": [
    "data_outcomes = pd.read_feather(f\"{output_path}/baseline_outcomes_220627.feather\").set_index(\"eid\")"
   ]
  },
  {
   "cell_type": "code",
   "execution_count": 7,
   "metadata": {
    "execution": {
     "iopub.execute_input": "2022-11-08T23:10:59.996271Z",
     "iopub.status.busy": "2022-11-08T23:10:59.996021Z",
     "iopub.status.idle": "2022-11-08T23:10:59.998822Z",
     "shell.execute_reply": "2022-11-08T23:10:59.998526Z",
     "shell.execute_reply.started": "2022-11-08T23:10:59.996254Z"
    },
    "tags": []
   },
   "outputs": [],
   "source": [
    "from datetime import date\n",
    "today = str(date.today()) if today is None else today "
   ]
  },
  {
   "cell_type": "code",
   "execution_count": 8,
   "metadata": {
    "execution": {
     "iopub.execute_input": "2022-11-08T23:10:59.999516Z",
     "iopub.status.busy": "2022-11-08T23:10:59.999324Z",
     "iopub.status.idle": "2022-11-08T23:11:05.548550Z",
     "shell.execute_reply": "2022-11-08T23:11:05.548121Z",
     "shell.execute_reply.started": "2022-11-08T23:10:59.999502Z"
    },
    "tags": []
   },
   "outputs": [],
   "source": [
    "eligable_eids = pd.read_feather(f\"{output_path}/eligable_eids_{today}.feather\")\n",
    "eids_dict = eligable_eids.set_index(\"endpoint\")[\"eid_list\"].to_dict()"
   ]
  },
  {
   "cell_type": "code",
   "execution_count": 9,
   "metadata": {
    "execution": {
     "iopub.execute_input": "2022-11-08T23:11:05.549437Z",
     "iopub.status.busy": "2022-11-08T23:11:05.549188Z",
     "iopub.status.idle": "2022-11-08T23:11:05.563020Z",
     "shell.execute_reply": "2022-11-08T23:11:05.562733Z",
     "shell.execute_reply.started": "2022-11-08T23:11:05.549421Z"
    },
    "tags": []
   },
   "outputs": [],
   "source": [
    "import pandas as pd\n",
    "endpoints = sorted([l.replace('_prevalent', '') for l in list(pd.read_csv('/sc-projects/sc-proj-ukb-cvd/results/projects/22_retinal_risk/data/220602/endpoints.csv').endpoint.values)])"
   ]
  },
  {
   "cell_type": "code",
   "execution_count": 10,
   "metadata": {
    "execution": {
     "iopub.execute_input": "2022-11-08T23:11:05.564271Z",
     "iopub.status.busy": "2022-11-08T23:11:05.564030Z",
     "iopub.status.idle": "2022-11-08T23:11:06.013624Z",
     "shell.execute_reply": "2022-11-08T23:11:06.013264Z",
     "shell.execute_reply.started": "2022-11-08T23:11:05.564256Z"
    }
   },
   "outputs": [
    {
     "data": {
      "text/plain": [
       "113122"
      ]
     },
     "execution_count": 10,
     "metadata": {},
     "output_type": "execute_result"
    }
   ],
   "source": [
    "import glob, os\n",
    "img_root = '/sc-projects/sc-proj-ukb-cvd/data/retina/preprocessed/preprocessed'\n",
    "img_visit = 0\n",
    "img_file_extension = '.png'\n",
    "eids_with_retinapic = [int(fp.split('/')[-1].split('_')[0]) for fp in sorted( glob.glob(os.path.join(img_root, f'*{img_file_extension}' \n",
    "                       if img_file_extension is not None else '*'))) \n",
    "                       if f'_{img_visit}_' in fp]\n",
    "len(eids_with_retinapic)"
   ]
  },
  {
   "cell_type": "code",
   "execution_count": 11,
   "metadata": {
    "execution": {
     "iopub.execute_input": "2022-11-08T23:11:06.014533Z",
     "iopub.status.busy": "2022-11-08T23:11:06.014254Z",
     "iopub.status.idle": "2022-11-08T23:12:16.103195Z",
     "shell.execute_reply": "2022-11-08T23:12:16.102626Z",
     "shell.execute_reply.started": "2022-11-08T23:11:06.014516Z"
    },
    "tags": []
   },
   "outputs": [
    {
     "data": {
      "application/vnd.jupyter.widget-view+json": {
       "model_id": "613beceb80e74a57b911b789f72cb2dd",
       "version_major": 2,
       "version_minor": 0
      },
      "text/plain": [
       "  0%|          | 0/1171 [00:00<?, ?it/s]"
      ]
     },
     "metadata": {},
     "output_type": "display_data"
    }
   ],
   "source": [
    "d = []\n",
    "for endpoint in tqdm(endpoints):\n",
    "    s = data_outcomes[f\"{endpoint}_event\"].loc[np.intersect1d(eids_dict[endpoint], eids_with_retinapic)]   # .loc[eids_dict[endpoint]]\n",
    "    n = s.sum()\n",
    "    freq = s.mean()\n",
    "    d.append({\"endpoint\": endpoint, \"eligable\":len(np.intersect1d(eids_dict[endpoint], eids_with_retinapic)), \"n\": n, \"freq\": freq})"
   ]
  },
  {
   "cell_type": "code",
   "execution_count": 12,
   "metadata": {
    "execution": {
     "iopub.execute_input": "2022-11-08T23:12:16.104403Z",
     "iopub.status.busy": "2022-11-08T23:12:16.104175Z",
     "iopub.status.idle": "2022-11-08T23:12:16.110396Z",
     "shell.execute_reply": "2022-11-08T23:12:16.110038Z",
     "shell.execute_reply.started": "2022-11-08T23:12:16.104387Z"
    },
    "tags": []
   },
   "outputs": [],
   "source": [
    "endpoints_freqs = pd.DataFrame().from_dict(d)"
   ]
  },
  {
   "cell_type": "code",
   "execution_count": 13,
   "metadata": {
    "execution": {
     "iopub.execute_input": "2022-11-08T23:12:16.111166Z",
     "iopub.status.busy": "2022-11-08T23:12:16.110929Z",
     "iopub.status.idle": "2022-11-08T23:12:16.154988Z",
     "shell.execute_reply": "2022-11-08T23:12:16.154620Z",
     "shell.execute_reply.started": "2022-11-08T23:12:16.111152Z"
    },
    "tags": []
   },
   "outputs": [
    {
     "data": {
      "text/html": [
       "<div>\n",
       "<style scoped>\n",
       "    .dataframe tbody tr th:only-of-type {\n",
       "        vertical-align: middle;\n",
       "    }\n",
       "\n",
       "    .dataframe tbody tr th {\n",
       "        vertical-align: top;\n",
       "    }\n",
       "\n",
       "    .dataframe thead th {\n",
       "        text-align: right;\n",
       "    }\n",
       "</style>\n",
       "<table border=\"1\" class=\"dataframe\">\n",
       "  <thead>\n",
       "    <tr style=\"text-align: right;\">\n",
       "      <th></th>\n",
       "      <th>endpoint</th>\n",
       "      <th>eligable</th>\n",
       "      <th>n</th>\n",
       "      <th>freq</th>\n",
       "      <th>phecode</th>\n",
       "      <th>phecode_string</th>\n",
       "      <th>phecode_category</th>\n",
       "      <th>sex</th>\n",
       "      <th>ICD10_only</th>\n",
       "      <th>phecode_top</th>\n",
       "      <th>leaf</th>\n",
       "    </tr>\n",
       "  </thead>\n",
       "  <tbody>\n",
       "    <tr>\n",
       "      <th>0</th>\n",
       "      <td>OMOP_4306655</td>\n",
       "      <td>61256</td>\n",
       "      <td>3490</td>\n",
       "      <td>0.056974</td>\n",
       "      <td>4306655</td>\n",
       "      <td>All-Cause Death</td>\n",
       "      <td>Death</td>\n",
       "      <td>Both</td>\n",
       "      <td>NaN</td>\n",
       "      <td>None</td>\n",
       "      <td>NaN</td>\n",
       "    </tr>\n",
       "    <tr>\n",
       "      <th>1</th>\n",
       "      <td>phecode_002</td>\n",
       "      <td>60945</td>\n",
       "      <td>658</td>\n",
       "      <td>0.010797</td>\n",
       "      <td>002</td>\n",
       "      <td>Staphylococcus</td>\n",
       "      <td>ID</td>\n",
       "      <td>Both</td>\n",
       "      <td>0.0</td>\n",
       "      <td>002</td>\n",
       "      <td>0.0</td>\n",
       "    </tr>\n",
       "    <tr>\n",
       "      <th>2</th>\n",
       "      <td>phecode_002-1</td>\n",
       "      <td>61010</td>\n",
       "      <td>486</td>\n",
       "      <td>0.007966</td>\n",
       "      <td>002.1</td>\n",
       "      <td>Staphylococcus aureus</td>\n",
       "      <td>ID</td>\n",
       "      <td>Both</td>\n",
       "      <td>0.0</td>\n",
       "      <td>002</td>\n",
       "      <td>1.0</td>\n",
       "    </tr>\n",
       "    <tr>\n",
       "      <th>3</th>\n",
       "      <td>phecode_003</td>\n",
       "      <td>60757</td>\n",
       "      <td>959</td>\n",
       "      <td>0.015784</td>\n",
       "      <td>003</td>\n",
       "      <td>Escherichia coli</td>\n",
       "      <td>ID</td>\n",
       "      <td>Both</td>\n",
       "      <td>0.0</td>\n",
       "      <td>003</td>\n",
       "      <td>1.0</td>\n",
       "    </tr>\n",
       "    <tr>\n",
       "      <th>4</th>\n",
       "      <td>phecode_004</td>\n",
       "      <td>60584</td>\n",
       "      <td>494</td>\n",
       "      <td>0.008154</td>\n",
       "      <td>004</td>\n",
       "      <td>Streptococcus</td>\n",
       "      <td>ID</td>\n",
       "      <td>Both</td>\n",
       "      <td>0.0</td>\n",
       "      <td>004</td>\n",
       "      <td>0.0</td>\n",
       "    </tr>\n",
       "    <tr>\n",
       "      <th>...</th>\n",
       "      <td>...</td>\n",
       "      <td>...</td>\n",
       "      <td>...</td>\n",
       "      <td>...</td>\n",
       "      <td>...</td>\n",
       "      <td>...</td>\n",
       "      <td>...</td>\n",
       "      <td>...</td>\n",
       "      <td>...</td>\n",
       "      <td>...</td>\n",
       "      <td>...</td>\n",
       "    </tr>\n",
       "    <tr>\n",
       "      <th>1165</th>\n",
       "      <td>phecode_977-52</td>\n",
       "      <td>31669</td>\n",
       "      <td>520</td>\n",
       "      <td>0.016420</td>\n",
       "      <td>977.52</td>\n",
       "      <td>Hormone replacement therapy (postmenopausal)</td>\n",
       "      <td>Rx</td>\n",
       "      <td>Female</td>\n",
       "      <td>0.0</td>\n",
       "      <td>977</td>\n",
       "      <td>1.0</td>\n",
       "    </tr>\n",
       "    <tr>\n",
       "      <th>1166</th>\n",
       "      <td>phecode_977-7</td>\n",
       "      <td>60032</td>\n",
       "      <td>2231</td>\n",
       "      <td>0.037164</td>\n",
       "      <td>977.7</td>\n",
       "      <td>Long term (current) use of insulin or oral hyp...</td>\n",
       "      <td>Rx</td>\n",
       "      <td>Both</td>\n",
       "      <td>0.0</td>\n",
       "      <td>977</td>\n",
       "      <td>0.0</td>\n",
       "    </tr>\n",
       "    <tr>\n",
       "      <th>1167</th>\n",
       "      <td>phecode_977-71</td>\n",
       "      <td>60936</td>\n",
       "      <td>472</td>\n",
       "      <td>0.007746</td>\n",
       "      <td>977.71</td>\n",
       "      <td>Long term (current) use of insulin</td>\n",
       "      <td>Rx</td>\n",
       "      <td>Both</td>\n",
       "      <td>0.0</td>\n",
       "      <td>977</td>\n",
       "      <td>1.0</td>\n",
       "    </tr>\n",
       "    <tr>\n",
       "      <th>1168</th>\n",
       "      <td>phecode_977-72</td>\n",
       "      <td>60207</td>\n",
       "      <td>2148</td>\n",
       "      <td>0.035677</td>\n",
       "      <td>977.72</td>\n",
       "      <td>Long term (current) use of oral hypoglycemic d...</td>\n",
       "      <td>Rx</td>\n",
       "      <td>Both</td>\n",
       "      <td>0.0</td>\n",
       "      <td>977</td>\n",
       "      <td>1.0</td>\n",
       "    </tr>\n",
       "    <tr>\n",
       "      <th>1169</th>\n",
       "      <td>phecode_979</td>\n",
       "      <td>61159</td>\n",
       "      <td>158</td>\n",
       "      <td>0.002583</td>\n",
       "      <td>979</td>\n",
       "      <td>Transplated organ</td>\n",
       "      <td>Stat</td>\n",
       "      <td>Both</td>\n",
       "      <td>0.0</td>\n",
       "      <td>979</td>\n",
       "      <td>0.0</td>\n",
       "    </tr>\n",
       "  </tbody>\n",
       "</table>\n",
       "<p>1170 rows × 11 columns</p>\n",
       "</div>"
      ],
      "text/plain": [
       "            endpoint  eligable     n      freq  phecode  \\\n",
       "0       OMOP_4306655     61256  3490  0.056974  4306655   \n",
       "1        phecode_002     60945   658  0.010797      002   \n",
       "2      phecode_002-1     61010   486  0.007966    002.1   \n",
       "3        phecode_003     60757   959  0.015784      003   \n",
       "4        phecode_004     60584   494  0.008154      004   \n",
       "...              ...       ...   ...       ...      ...   \n",
       "1165  phecode_977-52     31669   520  0.016420   977.52   \n",
       "1166   phecode_977-7     60032  2231  0.037164    977.7   \n",
       "1167  phecode_977-71     60936   472  0.007746   977.71   \n",
       "1168  phecode_977-72     60207  2148  0.035677   977.72   \n",
       "1169     phecode_979     61159   158  0.002583      979   \n",
       "\n",
       "                                         phecode_string phecode_category  \\\n",
       "0                                       All-Cause Death            Death   \n",
       "1                                        Staphylococcus               ID   \n",
       "2                                 Staphylococcus aureus               ID   \n",
       "3                                      Escherichia coli               ID   \n",
       "4                                         Streptococcus               ID   \n",
       "...                                                 ...              ...   \n",
       "1165       Hormone replacement therapy (postmenopausal)               Rx   \n",
       "1166  Long term (current) use of insulin or oral hyp...               Rx   \n",
       "1167                 Long term (current) use of insulin               Rx   \n",
       "1168  Long term (current) use of oral hypoglycemic d...               Rx   \n",
       "1169                                  Transplated organ             Stat   \n",
       "\n",
       "         sex  ICD10_only phecode_top  leaf  \n",
       "0       Both         NaN        None   NaN  \n",
       "1       Both         0.0         002   0.0  \n",
       "2       Both         0.0         002   1.0  \n",
       "3       Both         0.0         003   1.0  \n",
       "4       Both         0.0         004   0.0  \n",
       "...      ...         ...         ...   ...  \n",
       "1165  Female         0.0         977   1.0  \n",
       "1166    Both         0.0         977   0.0  \n",
       "1167    Both         0.0         977   1.0  \n",
       "1168    Both         0.0         977   1.0  \n",
       "1169    Both         0.0         979   0.0  \n",
       "\n",
       "[1170 rows x 11 columns]"
      ]
     },
     "execution_count": 13,
     "metadata": {},
     "output_type": "execute_result"
    }
   ],
   "source": [
    "endpoints_ds = endpoints_freqs.query(\"n>100\").sort_values(\"endpoint\").reset_index(drop=True).merge(endpoint_defs)\n",
    "endpoints_ds"
   ]
  },
  {
   "cell_type": "code",
   "execution_count": 14,
   "metadata": {
    "execution": {
     "iopub.execute_input": "2022-11-08T23:12:16.155782Z",
     "iopub.status.busy": "2022-11-08T23:12:16.155518Z",
     "iopub.status.idle": "2022-11-08T23:12:16.181313Z",
     "shell.execute_reply": "2022-11-08T23:12:16.180965Z",
     "shell.execute_reply.started": "2022-11-08T23:12:16.155767Z"
    },
    "tags": []
   },
   "outputs": [],
   "source": [
    "endpoints_ds.to_csv(f\"{experiment_path}/endpoints.csv\")"
   ]
  },
  {
   "cell_type": "code",
   "execution_count": 15,
   "metadata": {
    "execution": {
     "iopub.execute_input": "2022-11-08T23:12:16.182071Z",
     "iopub.status.busy": "2022-11-08T23:12:16.181843Z",
     "iopub.status.idle": "2022-11-08T23:12:16.184527Z",
     "shell.execute_reply": "2022-11-08T23:12:16.184179Z",
     "shell.execute_reply.started": "2022-11-08T23:12:16.182057Z"
    },
    "tags": []
   },
   "outputs": [
    {
     "data": {
      "text/plain": [
       "'/sc-projects/sc-proj-ukb-cvd/results/projects/22_retina_phewas/data/221108/endpoints.csv'"
      ]
     },
     "execution_count": 15,
     "metadata": {},
     "output_type": "execute_result"
    }
   ],
   "source": [
    "f\"{experiment_path}/endpoints.csv\""
   ]
  },
  {
   "cell_type": "code",
   "execution_count": null,
   "metadata": {},
   "outputs": [],
   "source": []
  }
 ],
 "metadata": {
  "hide_input": false,
  "kernelspec": {
   "display_name": "retrisk",
   "language": "python",
   "name": "retrisk"
  },
  "language_info": {
   "codemirror_mode": {
    "name": "ipython",
    "version": 3
   },
   "file_extension": ".py",
   "mimetype": "text/x-python",
   "name": "python",
   "nbconvert_exporter": "python",
   "pygments_lexer": "ipython3",
   "version": "3.9.7"
  },
  "toc-autonumbering": false
 },
 "nbformat": 4,
 "nbformat_minor": 4
}
