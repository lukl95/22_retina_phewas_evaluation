{
 "cells": [
  {
   "cell_type": "markdown",
   "metadata": {},
   "source": [
    "# Benchmarks"
   ]
  },
  {
   "cell_type": "markdown",
   "metadata": {},
   "source": [
    "## Initialize"
   ]
  },
  {
   "cell_type": "code",
   "execution_count": 1,
   "metadata": {
    "ExecuteTime": {
     "end_time": "2021-01-05T11:03:10.491477Z",
     "start_time": "2021-01-05T11:03:10.445Z"
    },
    "execution": {
     "iopub.execute_input": "2022-08-24T14:03:51.040227Z",
     "iopub.status.busy": "2022-08-24T14:03:51.039940Z",
     "iopub.status.idle": "2022-08-24T14:03:53.823078Z",
     "shell.execute_reply": "2022-08-24T14:03:53.822461Z",
     "shell.execute_reply.started": "2022-08-24T14:03:51.040182Z"
    },
    "tags": []
   },
   "outputs": [],
   "source": [
    "import os\n",
    "import math\n",
    "import pathlib\n",
    "import numpy as np\n",
    "import pandas as pd\n",
    "from tqdm.auto import tqdm\n",
    "from IPython.display import clear_output\n",
    "\n",
    "import warnings\n",
    "from lifelines.utils import CensoringType\n",
    "from lifelines.utils import concordance_index"
   ]
  },
  {
   "cell_type": "code",
   "execution_count": 2,
   "metadata": {
    "execution": {
     "iopub.execute_input": "2022-08-24T14:03:53.823852Z",
     "iopub.status.busy": "2022-08-24T14:03:53.823705Z",
     "iopub.status.idle": "2022-08-24T14:03:53.848768Z",
     "shell.execute_reply": "2022-08-24T14:03:53.848215Z",
     "shell.execute_reply.started": "2022-08-24T14:03:53.823838Z"
    },
    "tags": []
   },
   "outputs": [
    {
     "name": "stdout",
     "output_type": "stream",
     "text": [
      "/sc-projects/sc-proj-ukb-cvd\n"
     ]
    },
    {
     "data": {
      "text/plain": [
       "[4, 15, 3, 2, 21, 14, 13, 20, 1, 0, 12, 11, 19, 18, 10, 17, 16]"
      ]
     },
     "execution_count": 2,
     "metadata": {},
     "output_type": "execute_result"
    }
   ],
   "source": [
    "node = !hostname\n",
    "if \"sc\" in node[0]:\n",
    "    base_path = \"/sc-projects/sc-proj-ukb-cvd\"\n",
    "else: \n",
    "    base_path = \"/data/analysis/ag-reils/ag-reils-shared/cardioRS\"\n",
    "print(base_path)\n",
    "\n",
    "project_label = \"22_retina_phewas\"\n",
    "project_path = f\"{base_path}/results/projects/{project_label}\"\n",
    "figure_path = f\"{project_path}/figures\"\n",
    "output_path = f\"{project_path}/data\"\n",
    "\n",
    "pathlib.Path(figure_path).mkdir(parents=True, exist_ok=True)\n",
    "pathlib.Path(output_path).mkdir(parents=True, exist_ok=True)\n",
    "\n",
    "experiment = '220812_test'\n",
    "experiment_path = f\"{output_path}/{experiment}\"\n",
    "pathlib.Path(experiment_path).mkdir(parents=True, exist_ok=True)\n",
    "\n",
    "\n",
    "name_dict = {\n",
    "    \"predictions_cropratio0.66\": \"ConvNextSmall(Retina)+MLP_cropratio0.66\",\n",
    "}\n",
    "\n",
    "partitions = [i for i in range(22)]\n",
    "# partitions = [ 4, 15,  3,  2, 21, 14, 13, 20,  1,  0, 12, 11, 19, 18, 10, 17, 16]\n",
    "partitions"
   ]
  },
  {
   "cell_type": "code",
   "execution_count": 3,
   "metadata": {
    "execution": {
     "iopub.execute_input": "2022-08-24T14:03:53.849521Z",
     "iopub.status.busy": "2022-08-24T14:03:53.849423Z",
     "iopub.status.idle": "2022-08-24T14:03:53.892001Z",
     "shell.execute_reply": "2022-08-24T14:03:53.891652Z",
     "shell.execute_reply.started": "2022-08-24T14:03:53.849507Z"
    },
    "tags": []
   },
   "outputs": [],
   "source": [
    "today = '220824'"
   ]
  },
  {
   "cell_type": "code",
   "execution_count": 4,
   "metadata": {
    "execution": {
     "iopub.execute_input": "2022-08-24T14:03:53.892959Z",
     "iopub.status.busy": "2022-08-24T14:03:53.892872Z",
     "iopub.status.idle": "2022-08-24T14:03:54.122457Z",
     "shell.execute_reply": "2022-08-24T14:03:54.121577Z",
     "shell.execute_reply.started": "2022-08-24T14:03:53.892949Z"
    }
   },
   "outputs": [
    {
     "name": "stdout",
     "output_type": "stream",
     "text": [
      "total 26371704\n",
      "drwxrwx--- 3 buergelt posix-nogroup         331 Aug 24 11:18 .\n",
      "drwxrwx--- 4 buergelt posix-nogroup          47 Aug 24 09:40 ..\n",
      "drwxrwx--- 4 buergelt posix-nogroup         118 Aug 24 11:41 220812_test\n",
      "-rwxrwx--- 1 buergelt posix-nogroup  4936136130 Aug 24 10:31 baseline_outcomes_220627.feather\n",
      "-rwxrwx--- 1 buergelt posix-nogroup 10680216930 Aug 24 10:30 baseline_outcomes_long_220531.feather\n",
      "-rwxrwx--- 1 buergelt posix-nogroup 10702426538 Aug 24 10:35 baseline_outcomes_long_220627.feather\n",
      "-rwxrwx--- 1 buergelt posix-nogroup  2247373170 Aug 24 11:15 eligable_eids_220824.feather\n",
      "-rwxrwx--- 1 buergelt posix-nogroup  2233434634 Aug 24 11:18 eligable_eids_long_220824.feather\n",
      "-rwxrwx--- 1 buergelt posix-nogroup      195482 Aug 24 10:28 phecode_defs_220306.feather\n"
     ]
    }
   ],
   "source": [
    "!ls -al {output_path}"
   ]
  },
  {
   "cell_type": "code",
   "execution_count": 5,
   "metadata": {
    "execution": {
     "iopub.execute_input": "2022-08-24T14:03:54.123804Z",
     "iopub.status.busy": "2022-08-24T14:03:54.123657Z",
     "iopub.status.idle": "2022-08-24T14:03:54.193737Z",
     "shell.execute_reply": "2022-08-24T14:03:54.193027Z",
     "shell.execute_reply.started": "2022-08-24T14:03:54.123784Z"
    },
    "tags": []
   },
   "outputs": [],
   "source": [
    "endpoint_defs = pd.read_feather(f\"{output_path}/phecode_defs_220306.feather\").sort_values(\"endpoint\")"
   ]
  },
  {
   "cell_type": "code",
   "execution_count": 6,
   "metadata": {
    "execution": {
     "iopub.execute_input": "2022-08-24T14:03:54.194646Z",
     "iopub.status.busy": "2022-08-24T14:03:54.194530Z",
     "iopub.status.idle": "2022-08-24T14:04:09.003278Z",
     "shell.execute_reply": "2022-08-24T14:04:09.002743Z",
     "shell.execute_reply.started": "2022-08-24T14:03:54.194631Z"
    },
    "tags": []
   },
   "outputs": [],
   "source": [
    "data_outcomes = pd.read_feather(f\"{output_path}/baseline_outcomes_220627.feather\").set_index(\"eid\")"
   ]
  },
  {
   "cell_type": "code",
   "execution_count": 7,
   "metadata": {
    "execution": {
     "iopub.execute_input": "2022-08-24T14:04:09.004085Z",
     "iopub.status.busy": "2022-08-24T14:04:09.003968Z",
     "iopub.status.idle": "2022-08-24T14:04:09.006688Z",
     "shell.execute_reply": "2022-08-24T14:04:09.006371Z",
     "shell.execute_reply.started": "2022-08-24T14:04:09.004072Z"
    },
    "tags": []
   },
   "outputs": [],
   "source": [
    "from datetime import date\n",
    "today = str(date.today()) if today is None else today "
   ]
  },
  {
   "cell_type": "code",
   "execution_count": 8,
   "metadata": {
    "execution": {
     "iopub.execute_input": "2022-08-24T14:04:09.007236Z",
     "iopub.status.busy": "2022-08-24T14:04:09.007151Z",
     "iopub.status.idle": "2022-08-24T14:04:19.398772Z",
     "shell.execute_reply": "2022-08-24T14:04:19.398266Z",
     "shell.execute_reply.started": "2022-08-24T14:04:09.007226Z"
    },
    "tags": []
   },
   "outputs": [],
   "source": [
    "eligable_eids = pd.read_feather(f\"{output_path}/eligable_eids_{today}.feather\")\n",
    "eids_dict = eligable_eids.set_index(\"endpoint\")[\"eid_list\"].to_dict()"
   ]
  },
  {
   "cell_type": "code",
   "execution_count": 9,
   "metadata": {
    "execution": {
     "iopub.execute_input": "2022-08-24T14:04:19.399586Z",
     "iopub.status.busy": "2022-08-24T14:04:19.399488Z",
     "iopub.status.idle": "2022-08-24T14:04:19.409854Z",
     "shell.execute_reply": "2022-08-24T14:04:19.409509Z",
     "shell.execute_reply.started": "2022-08-24T14:04:19.399573Z"
    },
    "tags": []
   },
   "outputs": [],
   "source": [
    "import pandas as pd\n",
    "endpoints = sorted([l.replace('_prevalent', '') for l in list(pd.read_csv('/sc-projects/sc-proj-ukb-cvd/results/projects/22_retinal_risk/data/220602/endpoints.csv').endpoint.values)])"
   ]
  },
  {
   "cell_type": "code",
   "execution_count": 10,
   "metadata": {
    "execution": {
     "iopub.execute_input": "2022-08-24T14:04:19.410394Z",
     "iopub.status.busy": "2022-08-24T14:04:19.410310Z",
     "iopub.status.idle": "2022-08-24T14:04:19.679309Z",
     "shell.execute_reply": "2022-08-24T14:04:19.678888Z",
     "shell.execute_reply.started": "2022-08-24T14:04:19.410384Z"
    }
   },
   "outputs": [
    {
     "data": {
      "text/plain": [
       "113122"
      ]
     },
     "execution_count": 10,
     "metadata": {},
     "output_type": "execute_result"
    }
   ],
   "source": [
    "import glob, os\n",
    "img_root = '/sc-projects/sc-proj-ukb-cvd/data/retina/preprocessed/preprocessed'\n",
    "img_visit = 0\n",
    "img_file_extension = '.png'\n",
    "eids_with_retinapic = [int(fp.split('/')[-1].split('_')[0]) for fp in sorted( glob.glob(os.path.join(img_root, f'*{img_file_extension}' \n",
    "                       if img_file_extension is not None else '*'))) \n",
    "                       if f'_{img_visit}_' in fp]\n",
    "len(eids_with_retinapic)"
   ]
  },
  {
   "cell_type": "code",
   "execution_count": 11,
   "metadata": {
    "execution": {
     "iopub.execute_input": "2022-08-24T14:04:19.679974Z",
     "iopub.status.busy": "2022-08-24T14:04:19.679883Z",
     "iopub.status.idle": "2022-08-24T14:05:08.613181Z",
     "shell.execute_reply": "2022-08-24T14:05:08.612653Z",
     "shell.execute_reply.started": "2022-08-24T14:04:19.679962Z"
    },
    "tags": []
   },
   "outputs": [
    {
     "data": {
      "application/vnd.jupyter.widget-view+json": {
       "model_id": "867d5784bcfb44979c0c7da9791790ad",
       "version_major": 2,
       "version_minor": 0
      },
      "text/plain": [
       "  0%|          | 0/1171 [00:00<?, ?it/s]"
      ]
     },
     "metadata": {},
     "output_type": "display_data"
    }
   ],
   "source": [
    "d = []\n",
    "for endpoint in tqdm(endpoints):\n",
    "    s = data_outcomes[f\"{endpoint}_event\"].loc[np.intersect1d(eids_dict[endpoint], eids_with_retinapic)]   # .loc[eids_dict[endpoint]]\n",
    "    n = s.sum()\n",
    "    freq = s.mean()\n",
    "    d.append({\"endpoint\": endpoint, \"eligable\":len(np.intersect1d(eids_dict[endpoint], eids_with_retinapic)), \"n\": n, \"freq\": freq})"
   ]
  },
  {
   "cell_type": "code",
   "execution_count": 12,
   "metadata": {
    "execution": {
     "iopub.execute_input": "2022-08-24T14:05:08.614165Z",
     "iopub.status.busy": "2022-08-24T14:05:08.614055Z",
     "iopub.status.idle": "2022-08-24T14:05:08.618968Z",
     "shell.execute_reply": "2022-08-24T14:05:08.618661Z",
     "shell.execute_reply.started": "2022-08-24T14:05:08.614150Z"
    },
    "tags": []
   },
   "outputs": [],
   "source": [
    "endpoints_freqs = pd.DataFrame().from_dict(d)"
   ]
  },
  {
   "cell_type": "code",
   "execution_count": 13,
   "metadata": {
    "execution": {
     "iopub.execute_input": "2022-08-24T14:05:08.620324Z",
     "iopub.status.busy": "2022-08-24T14:05:08.620235Z",
     "iopub.status.idle": "2022-08-24T14:05:08.720756Z",
     "shell.execute_reply": "2022-08-24T14:05:08.720414Z",
     "shell.execute_reply.started": "2022-08-24T14:05:08.620313Z"
    },
    "tags": []
   },
   "outputs": [
    {
     "data": {
      "text/html": [
       "<div>\n",
       "<style scoped>\n",
       "    .dataframe tbody tr th:only-of-type {\n",
       "        vertical-align: middle;\n",
       "    }\n",
       "\n",
       "    .dataframe tbody tr th {\n",
       "        vertical-align: top;\n",
       "    }\n",
       "\n",
       "    .dataframe thead th {\n",
       "        text-align: right;\n",
       "    }\n",
       "</style>\n",
       "<table border=\"1\" class=\"dataframe\">\n",
       "  <thead>\n",
       "    <tr style=\"text-align: right;\">\n",
       "      <th></th>\n",
       "      <th>endpoint</th>\n",
       "      <th>eligable</th>\n",
       "      <th>n</th>\n",
       "      <th>freq</th>\n",
       "      <th>phecode</th>\n",
       "      <th>phecode_string</th>\n",
       "      <th>phecode_category</th>\n",
       "      <th>sex</th>\n",
       "      <th>ICD10_only</th>\n",
       "      <th>phecode_top</th>\n",
       "      <th>leaf</th>\n",
       "    </tr>\n",
       "  </thead>\n",
       "  <tbody>\n",
       "    <tr>\n",
       "      <th>0</th>\n",
       "      <td>OMOP_4306655</td>\n",
       "      <td>61256</td>\n",
       "      <td>3490</td>\n",
       "      <td>0.056974</td>\n",
       "      <td>4306655</td>\n",
       "      <td>All-Cause Death</td>\n",
       "      <td>Death</td>\n",
       "      <td>Both</td>\n",
       "      <td>NaN</td>\n",
       "      <td>None</td>\n",
       "      <td>NaN</td>\n",
       "    </tr>\n",
       "    <tr>\n",
       "      <th>1</th>\n",
       "      <td>phecode_002</td>\n",
       "      <td>60945</td>\n",
       "      <td>658</td>\n",
       "      <td>0.010797</td>\n",
       "      <td>002</td>\n",
       "      <td>Staphylococcus</td>\n",
       "      <td>ID</td>\n",
       "      <td>Both</td>\n",
       "      <td>0.0</td>\n",
       "      <td>002</td>\n",
       "      <td>0.0</td>\n",
       "    </tr>\n",
       "    <tr>\n",
       "      <th>2</th>\n",
       "      <td>phecode_002-1</td>\n",
       "      <td>61010</td>\n",
       "      <td>486</td>\n",
       "      <td>0.007966</td>\n",
       "      <td>002.1</td>\n",
       "      <td>Staphylococcus aureus</td>\n",
       "      <td>ID</td>\n",
       "      <td>Both</td>\n",
       "      <td>0.0</td>\n",
       "      <td>002</td>\n",
       "      <td>1.0</td>\n",
       "    </tr>\n",
       "    <tr>\n",
       "      <th>3</th>\n",
       "      <td>phecode_003</td>\n",
       "      <td>60757</td>\n",
       "      <td>959</td>\n",
       "      <td>0.015784</td>\n",
       "      <td>003</td>\n",
       "      <td>Escherichia coli</td>\n",
       "      <td>ID</td>\n",
       "      <td>Both</td>\n",
       "      <td>0.0</td>\n",
       "      <td>003</td>\n",
       "      <td>1.0</td>\n",
       "    </tr>\n",
       "    <tr>\n",
       "      <th>4</th>\n",
       "      <td>phecode_004</td>\n",
       "      <td>60584</td>\n",
       "      <td>494</td>\n",
       "      <td>0.008154</td>\n",
       "      <td>004</td>\n",
       "      <td>Streptococcus</td>\n",
       "      <td>ID</td>\n",
       "      <td>Both</td>\n",
       "      <td>0.0</td>\n",
       "      <td>004</td>\n",
       "      <td>0.0</td>\n",
       "    </tr>\n",
       "    <tr>\n",
       "      <th>...</th>\n",
       "      <td>...</td>\n",
       "      <td>...</td>\n",
       "      <td>...</td>\n",
       "      <td>...</td>\n",
       "      <td>...</td>\n",
       "      <td>...</td>\n",
       "      <td>...</td>\n",
       "      <td>...</td>\n",
       "      <td>...</td>\n",
       "      <td>...</td>\n",
       "      <td>...</td>\n",
       "    </tr>\n",
       "    <tr>\n",
       "      <th>1165</th>\n",
       "      <td>phecode_977-52</td>\n",
       "      <td>31669</td>\n",
       "      <td>520</td>\n",
       "      <td>0.016420</td>\n",
       "      <td>977.52</td>\n",
       "      <td>Hormone replacement therapy (postmenopausal)</td>\n",
       "      <td>Rx</td>\n",
       "      <td>Female</td>\n",
       "      <td>0.0</td>\n",
       "      <td>977</td>\n",
       "      <td>1.0</td>\n",
       "    </tr>\n",
       "    <tr>\n",
       "      <th>1166</th>\n",
       "      <td>phecode_977-7</td>\n",
       "      <td>60032</td>\n",
       "      <td>2231</td>\n",
       "      <td>0.037164</td>\n",
       "      <td>977.7</td>\n",
       "      <td>Long term (current) use of insulin or oral hyp...</td>\n",
       "      <td>Rx</td>\n",
       "      <td>Both</td>\n",
       "      <td>0.0</td>\n",
       "      <td>977</td>\n",
       "      <td>0.0</td>\n",
       "    </tr>\n",
       "    <tr>\n",
       "      <th>1167</th>\n",
       "      <td>phecode_977-71</td>\n",
       "      <td>60936</td>\n",
       "      <td>472</td>\n",
       "      <td>0.007746</td>\n",
       "      <td>977.71</td>\n",
       "      <td>Long term (current) use of insulin</td>\n",
       "      <td>Rx</td>\n",
       "      <td>Both</td>\n",
       "      <td>0.0</td>\n",
       "      <td>977</td>\n",
       "      <td>1.0</td>\n",
       "    </tr>\n",
       "    <tr>\n",
       "      <th>1168</th>\n",
       "      <td>phecode_977-72</td>\n",
       "      <td>60207</td>\n",
       "      <td>2148</td>\n",
       "      <td>0.035677</td>\n",
       "      <td>977.72</td>\n",
       "      <td>Long term (current) use of oral hypoglycemic d...</td>\n",
       "      <td>Rx</td>\n",
       "      <td>Both</td>\n",
       "      <td>0.0</td>\n",
       "      <td>977</td>\n",
       "      <td>1.0</td>\n",
       "    </tr>\n",
       "    <tr>\n",
       "      <th>1169</th>\n",
       "      <td>phecode_979</td>\n",
       "      <td>61159</td>\n",
       "      <td>158</td>\n",
       "      <td>0.002583</td>\n",
       "      <td>979</td>\n",
       "      <td>Transplated organ</td>\n",
       "      <td>Stat</td>\n",
       "      <td>Both</td>\n",
       "      <td>0.0</td>\n",
       "      <td>979</td>\n",
       "      <td>0.0</td>\n",
       "    </tr>\n",
       "  </tbody>\n",
       "</table>\n",
       "<p>1170 rows × 11 columns</p>\n",
       "</div>"
      ],
      "text/plain": [
       "            endpoint  eligable     n      freq  phecode  \\\n",
       "0       OMOP_4306655     61256  3490  0.056974  4306655   \n",
       "1        phecode_002     60945   658  0.010797      002   \n",
       "2      phecode_002-1     61010   486  0.007966    002.1   \n",
       "3        phecode_003     60757   959  0.015784      003   \n",
       "4        phecode_004     60584   494  0.008154      004   \n",
       "...              ...       ...   ...       ...      ...   \n",
       "1165  phecode_977-52     31669   520  0.016420   977.52   \n",
       "1166   phecode_977-7     60032  2231  0.037164    977.7   \n",
       "1167  phecode_977-71     60936   472  0.007746   977.71   \n",
       "1168  phecode_977-72     60207  2148  0.035677   977.72   \n",
       "1169     phecode_979     61159   158  0.002583      979   \n",
       "\n",
       "                                         phecode_string phecode_category  \\\n",
       "0                                       All-Cause Death            Death   \n",
       "1                                        Staphylococcus               ID   \n",
       "2                                 Staphylococcus aureus               ID   \n",
       "3                                      Escherichia coli               ID   \n",
       "4                                         Streptococcus               ID   \n",
       "...                                                 ...              ...   \n",
       "1165       Hormone replacement therapy (postmenopausal)               Rx   \n",
       "1166  Long term (current) use of insulin or oral hyp...               Rx   \n",
       "1167                 Long term (current) use of insulin               Rx   \n",
       "1168  Long term (current) use of oral hypoglycemic d...               Rx   \n",
       "1169                                  Transplated organ             Stat   \n",
       "\n",
       "         sex  ICD10_only phecode_top  leaf  \n",
       "0       Both         NaN        None   NaN  \n",
       "1       Both         0.0         002   0.0  \n",
       "2       Both         0.0         002   1.0  \n",
       "3       Both         0.0         003   1.0  \n",
       "4       Both         0.0         004   0.0  \n",
       "...      ...         ...         ...   ...  \n",
       "1165  Female         0.0         977   1.0  \n",
       "1166    Both         0.0         977   0.0  \n",
       "1167    Both         0.0         977   1.0  \n",
       "1168    Both         0.0         977   1.0  \n",
       "1169    Both         0.0         979   0.0  \n",
       "\n",
       "[1170 rows x 11 columns]"
      ]
     },
     "execution_count": 13,
     "metadata": {},
     "output_type": "execute_result"
    }
   ],
   "source": [
    "endpoints_ds = endpoints_freqs.query(\"n>100\").sort_values(\"endpoint\").reset_index(drop=True).merge(endpoint_defs)\n",
    "endpoints_ds"
   ]
  },
  {
   "cell_type": "code",
   "execution_count": 14,
   "metadata": {
    "execution": {
     "iopub.execute_input": "2022-08-24T14:05:08.721334Z",
     "iopub.status.busy": "2022-08-24T14:05:08.721245Z",
     "iopub.status.idle": "2022-08-24T14:05:08.740383Z",
     "shell.execute_reply": "2022-08-24T14:05:08.740031Z",
     "shell.execute_reply.started": "2022-08-24T14:05:08.721323Z"
    },
    "tags": []
   },
   "outputs": [],
   "source": [
    "endpoints_ds.to_csv(f\"{experiment_path}/endpoints.csv\")"
   ]
  },
  {
   "cell_type": "code",
   "execution_count": 15,
   "metadata": {
    "execution": {
     "iopub.execute_input": "2022-08-24T14:05:08.740912Z",
     "iopub.status.busy": "2022-08-24T14:05:08.740825Z",
     "iopub.status.idle": "2022-08-24T14:05:08.743260Z",
     "shell.execute_reply": "2022-08-24T14:05:08.742965Z",
     "shell.execute_reply.started": "2022-08-24T14:05:08.740901Z"
    },
    "tags": []
   },
   "outputs": [
    {
     "data": {
      "text/plain": [
       "'/sc-projects/sc-proj-ukb-cvd/results/projects/22_retina_phewas/data/220812_test/endpoints.csv'"
      ]
     },
     "execution_count": 15,
     "metadata": {},
     "output_type": "execute_result"
    }
   ],
   "source": [
    "f\"{experiment_path}/endpoints.csv\""
   ]
  },
  {
   "cell_type": "code",
   "execution_count": null,
   "metadata": {},
   "outputs": [],
   "source": []
  }
 ],
 "metadata": {
  "hide_input": false,
  "kernelspec": {
   "display_name": "retrisk",
   "language": "python",
   "name": "retrisk"
  },
  "language_info": {
   "codemirror_mode": {
    "name": "ipython",
    "version": 3
   },
   "file_extension": ".py",
   "mimetype": "text/x-python",
   "name": "python",
   "nbconvert_exporter": "python",
   "pygments_lexer": "ipython3",
   "version": "3.9.7"
  },
  "toc-autonumbering": false
 },
 "nbformat": 4,
 "nbformat_minor": 4
}
