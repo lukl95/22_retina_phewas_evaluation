{
 "cells": [
  {
   "cell_type": "markdown",
   "metadata": {},
   "source": [
    "# Benchmarks"
   ]
  },
  {
   "cell_type": "markdown",
   "metadata": {},
   "source": [
    "## Initialize"
   ]
  },
  {
   "cell_type": "code",
   "execution_count": 1,
   "metadata": {
    "execution": {
     "iopub.execute_input": "2022-11-08T23:48:01.398433Z",
     "iopub.status.busy": "2022-11-08T23:48:01.398283Z",
     "iopub.status.idle": "2022-11-08T23:48:04.259725Z",
     "shell.execute_reply": "2022-11-08T23:48:04.259057Z",
     "shell.execute_reply.started": "2022-11-08T23:48:01.398393Z"
    },
    "tags": []
   },
   "outputs": [],
   "source": [
    "import os\n",
    "import math\n",
    "import pathlib\n",
    "import numpy as np\n",
    "import pandas as pd\n",
    "from tqdm.auto import tqdm\n",
    "from IPython.display import clear_output\n",
    "\n",
    "import warnings\n",
    "from lifelines.utils import CensoringType\n",
    "from lifelines.utils import concordance_index"
   ]
  },
  {
   "cell_type": "code",
   "execution_count": 2,
   "metadata": {
    "execution": {
     "iopub.execute_input": "2022-11-08T23:48:04.260814Z",
     "iopub.status.busy": "2022-11-08T23:48:04.260697Z",
     "iopub.status.idle": "2022-11-08T23:48:04.303122Z",
     "shell.execute_reply": "2022-11-08T23:48:04.302632Z",
     "shell.execute_reply.started": "2022-11-08T23:48:04.260800Z"
    },
    "tags": []
   },
   "outputs": [
    {
     "name": "stdout",
     "output_type": "stream",
     "text": [
      "/sc-projects/sc-proj-ukb-cvd\n"
     ]
    },
    {
     "data": {
      "text/plain": [
       "[0, 1, 2, 3, 4, 5, 6, 7, 8, 9, 10, 11, 12, 13, 14, 15, 16, 17, 18, 19, 20, 21]"
      ]
     },
     "execution_count": 2,
     "metadata": {},
     "output_type": "execute_result"
    }
   ],
   "source": [
    "node = !hostname\n",
    "if \"sc\" in node[0]:\n",
    "    base_path = \"/sc-projects/sc-proj-ukb-cvd\"\n",
    "else: \n",
    "    base_path = \"/data/analysis/ag-reils/ag-reils-shared/cardioRS\"\n",
    "print(base_path)\n",
    "\n",
    "project_label = \"22_retina_phewas\"\n",
    "project_path = f\"{base_path}/results/projects/{project_label}\"\n",
    "figure_path = f\"{project_path}/figures\"\n",
    "output_path = f\"{project_path}/data\"\n",
    "\n",
    "pathlib.Path(figure_path).mkdir(parents=True, exist_ok=True)\n",
    "pathlib.Path(output_path).mkdir(parents=True, exist_ok=True)\n",
    "\n",
    "experiment = '221108'\n",
    "experiment_path = f\"{output_path}/{experiment}\"\n",
    "pathlib.Path(experiment_path).mkdir(parents=True, exist_ok=True)\n",
    "\n",
    "\n",
    "name_dict = {\n",
    "    \"predictions_cropratio0.66\": \"ConvNextSmall(Retina)+MLP_cropratio0.66\",\n",
    "}\n",
    "\n",
    "partitions = [i for i in range(22)]\n",
    "# partitions = [ 4, 15,  3,  2, 21, 14, 13, 20,  1,  0, 12, 11, 19, 18, 10, 17, 16]\n",
    "partitions"
   ]
  },
  {
   "cell_type": "code",
   "execution_count": 3,
   "metadata": {
    "execution": {
     "iopub.execute_input": "2022-11-08T23:48:04.304507Z",
     "iopub.status.busy": "2022-11-08T23:48:04.303971Z",
     "iopub.status.idle": "2022-11-08T23:48:04.306711Z",
     "shell.execute_reply": "2022-11-08T23:48:04.306267Z",
     "shell.execute_reply.started": "2022-11-08T23:48:04.304486Z"
    },
    "tags": []
   },
   "outputs": [],
   "source": [
    "today = '221109'"
   ]
  },
  {
   "cell_type": "code",
   "execution_count": 4,
   "metadata": {
    "execution": {
     "iopub.execute_input": "2022-11-08T23:48:04.308406Z",
     "iopub.status.busy": "2022-11-08T23:48:04.308010Z",
     "iopub.status.idle": "2022-11-08T23:48:06.328758Z",
     "shell.execute_reply": "2022-11-08T23:48:06.328021Z",
     "shell.execute_reply.started": "2022-11-08T23:48:04.308387Z"
    },
    "tags": []
   },
   "outputs": [],
   "source": [
    "model_path = f\"{experiment_path}/coxph/models\"\n",
    "model_list =  !ls $model_path"
   ]
  },
  {
   "cell_type": "code",
   "execution_count": 5,
   "metadata": {
    "execution": {
     "iopub.execute_input": "2022-11-08T23:48:06.329984Z",
     "iopub.status.busy": "2022-11-08T23:48:06.329831Z",
     "iopub.status.idle": "2022-11-08T23:48:06.347009Z",
     "shell.execute_reply": "2022-11-08T23:48:06.346549Z",
     "shell.execute_reply.started": "2022-11-08T23:48:06.329966Z"
    },
    "tags": []
   },
   "outputs": [],
   "source": [
    "import pandas as pd\n",
    "endpoints = sorted([l.replace('_prevalent', '') for l in list(pd.read_csv('/sc-projects/sc-proj-ukb-cvd/results/projects/22_retinal_risk/data/220602/endpoints.csv').endpoint.values)])"
   ]
  },
  {
   "cell_type": "code",
   "execution_count": 6,
   "metadata": {
    "execution": {
     "iopub.execute_input": "2022-11-08T23:48:06.347970Z",
     "iopub.status.busy": "2022-11-08T23:48:06.347723Z",
     "iopub.status.idle": "2022-11-08T23:48:06.350267Z",
     "shell.execute_reply": "2022-11-08T23:48:06.349832Z",
     "shell.execute_reply.started": "2022-11-08T23:48:06.347954Z"
    },
    "tags": []
   },
   "outputs": [],
   "source": [
    "splits = [\"train\", \"valid\", 'test'] # \"test_left\", 'test_right']"
   ]
  },
  {
   "cell_type": "code",
   "execution_count": 7,
   "metadata": {
    "execution": {
     "iopub.execute_input": "2022-11-08T23:48:06.351229Z",
     "iopub.status.busy": "2022-11-08T23:48:06.350900Z",
     "iopub.status.idle": "2022-11-08T23:48:06.403039Z",
     "shell.execute_reply": "2022-11-08T23:48:06.402421Z",
     "shell.execute_reply.started": "2022-11-08T23:48:06.351212Z"
    },
    "tags": []
   },
   "outputs": [],
   "source": [
    "endpoint_defs = pd.read_feather(f\"{output_path}/phecode_defs_220306.feather\").query(\"endpoint==@endpoints\").sort_values(\"endpoint\").set_index(\"endpoint\")"
   ]
  },
  {
   "cell_type": "code",
   "execution_count": 8,
   "metadata": {
    "execution": {
     "iopub.execute_input": "2022-11-08T23:48:06.404262Z",
     "iopub.status.busy": "2022-11-08T23:48:06.403913Z",
     "iopub.status.idle": "2022-11-08T23:48:06.406639Z",
     "shell.execute_reply": "2022-11-08T23:48:06.406209Z",
     "shell.execute_reply.started": "2022-11-08T23:48:06.404241Z"
    },
    "tags": []
   },
   "outputs": [],
   "source": [
    "from datetime import date\n",
    "today = str(date.today()) if today is None else today\n"
   ]
  },
  {
   "cell_type": "code",
   "execution_count": 9,
   "metadata": {
    "execution": {
     "iopub.execute_input": "2022-11-08T23:48:06.407675Z",
     "iopub.status.busy": "2022-11-08T23:48:06.407249Z",
     "iopub.status.idle": "2022-11-08T23:48:11.923309Z",
     "shell.execute_reply": "2022-11-08T23:48:11.922658Z",
     "shell.execute_reply.started": "2022-11-08T23:48:06.407658Z"
    },
    "tags": []
   },
   "outputs": [],
   "source": [
    "eligable_eids = pd.read_feather(f\"{output_path}/eligable_eids_{today}.feather\")\n",
    "eids_dict = eligable_eids.set_index(\"endpoint\")[\"eid_list\"].to_dict()"
   ]
  },
  {
   "cell_type": "code",
   "execution_count": 10,
   "metadata": {
    "execution": {
     "iopub.execute_input": "2022-11-08T23:48:11.924514Z",
     "iopub.status.busy": "2022-11-08T23:48:11.924273Z",
     "iopub.status.idle": "2022-11-08T23:48:11.929106Z",
     "shell.execute_reply": "2022-11-08T23:48:11.928599Z",
     "shell.execute_reply.started": "2022-11-08T23:48:11.924496Z"
    },
    "tags": []
   },
   "outputs": [
    {
     "name": "stdout",
     "output_type": "stream",
     "text": [
      "env: MKL_NUM_THREADS=4\n",
      "env: NUMEXPR_NUM_THREADS=4\n",
      "env: OMP_NUM_THREADS=4\n"
     ]
    }
   ],
   "source": [
    "%env MKL_NUM_THREADS=4\n",
    "%env NUMEXPR_NUM_THREADS=4\n",
    "%env OMP_NUM_THREADS=4"
   ]
  },
  {
   "cell_type": "code",
   "execution_count": 11,
   "metadata": {
    "execution": {
     "iopub.execute_input": "2022-11-08T23:48:11.930213Z",
     "iopub.status.busy": "2022-11-08T23:48:11.929800Z",
     "iopub.status.idle": "2022-11-08T23:48:13.499568Z",
     "shell.execute_reply": "2022-11-08T23:48:13.499039Z",
     "shell.execute_reply.started": "2022-11-08T23:48:11.930194Z"
    },
    "tags": []
   },
   "outputs": [
    {
     "data": {
      "text/plain": [
       "RayContext(dashboard_url='', python_version='3.9.7', ray_version='1.13.0', ray_commit='e4ce38d001dbbe09cd21c497fedd03d692b2be3e', address_info={'node_ip_address': '10.32.105.4', 'raylet_ip_address': '10.32.105.4', 'redis_address': None, 'object_store_address': '/tmp/ray/session_2022-11-09_00-47-11_884248_1810431/sockets/plasma_store', 'raylet_socket_name': '/tmp/ray/session_2022-11-09_00-47-11_884248_1810431/sockets/raylet', 'webui_url': '', 'session_dir': '/tmp/ray/session_2022-11-09_00-47-11_884248_1810431', 'metrics_export_port': 62434, 'gcs_address': '10.32.105.4:6321', 'address': '10.32.105.4:6321', 'node_id': 'ac31dcab439be3cd133e03d321b37ad63bd336fc955ff53097d3e85d'})"
      ]
     },
     "execution_count": 11,
     "metadata": {},
     "output_type": "execute_result"
    }
   ],
   "source": [
    "import ray\n",
    "ray.shutdown()\n",
    "#ray start --head --port=6379 --num-cpus 64\n",
    "ray.init(address='auto')\n",
    "#ray.init(num_cpus=24)#, dashboard_port=24762, dashboard_host=\"0.0.0.0\", include_dashboard=True)#, webui_url=\"0.0.0.0\"))"
   ]
  },
  {
   "cell_type": "markdown",
   "metadata": {},
   "source": [
    "# Predict COX"
   ]
  },
  {
   "cell_type": "code",
   "execution_count": 12,
   "metadata": {
    "execution": {
     "iopub.execute_input": "2022-11-08T23:48:13.500766Z",
     "iopub.status.busy": "2022-11-08T23:48:13.500571Z",
     "iopub.status.idle": "2022-11-08T23:48:13.505812Z",
     "shell.execute_reply": "2022-11-08T23:48:13.505398Z",
     "shell.execute_reply.started": "2022-11-08T23:48:13.500748Z"
    },
    "tags": []
   },
   "outputs": [],
   "source": [
    "in_path = pathlib.Path(f\"{experiment_path}/coxph/input\")\n",
    "model_path = f\"{experiment_path}/coxph/models\"\n",
    "\n",
    "out_path = f\"{experiment_path}/coxph/predictions\"\n",
    "pathlib.Path(out_path).mkdir(parents=True, exist_ok=True)"
   ]
  },
  {
   "cell_type": "code",
   "execution_count": 13,
   "metadata": {
    "execution": {
     "iopub.execute_input": "2022-11-08T23:48:13.508353Z",
     "iopub.status.busy": "2022-11-08T23:48:13.507913Z",
     "iopub.status.idle": "2022-11-08T23:48:13.519385Z",
     "shell.execute_reply": "2022-11-08T23:48:13.518920Z",
     "shell.execute_reply.started": "2022-11-08T23:48:13.508327Z"
    }
   },
   "outputs": [
    {
     "data": {
      "text/plain": [
       "PosixPath('/sc-projects/sc-proj-ukb-cvd/results/projects/22_retina_phewas/data/221108/coxph/input')"
      ]
     },
     "execution_count": 13,
     "metadata": {},
     "output_type": "execute_result"
    }
   ],
   "source": [
    "in_path"
   ]
  },
  {
   "cell_type": "code",
   "execution_count": 14,
   "metadata": {
    "execution": {
     "iopub.execute_input": "2022-11-08T23:48:13.520321Z",
     "iopub.status.busy": "2022-11-08T23:48:13.520004Z",
     "iopub.status.idle": "2022-11-08T23:48:13.536530Z",
     "shell.execute_reply": "2022-11-08T23:48:13.536106Z",
     "shell.execute_reply.started": "2022-11-08T23:48:13.520302Z"
    },
    "tags": []
   },
   "outputs": [
    {
     "data": {
      "text/plain": [
       "['ImageTraining_[]_ConvNeXt_MLPHead_predictions_cropratio0.66']"
      ]
     },
     "execution_count": 14,
     "metadata": {},
     "output_type": "execute_result"
    }
   ],
   "source": [
    "models = [f.name for f in in_path.iterdir() if f.is_dir() and \"ipynb_checkpoints\" not in str(f)]\n",
    "models"
   ]
  },
  {
   "cell_type": "code",
   "execution_count": 15,
   "metadata": {
    "execution": {
     "iopub.execute_input": "2022-11-08T23:48:13.537534Z",
     "iopub.status.busy": "2022-11-08T23:48:13.537211Z",
     "iopub.status.idle": "2022-11-08T23:48:13.545990Z",
     "shell.execute_reply": "2022-11-08T23:48:13.545547Z",
     "shell.execute_reply.started": "2022-11-08T23:48:13.537515Z"
    },
    "tags": []
   },
   "outputs": [],
   "source": [
    "#AgeSex = [\"age_at_recruitment_f21022_0_0\", \"sex_f31_0_0\"]"
   ]
  },
  {
   "cell_type": "code",
   "execution_count": 16,
   "metadata": {
    "execution": {
     "iopub.execute_input": "2022-11-08T23:48:13.546986Z",
     "iopub.status.busy": "2022-11-08T23:48:13.546790Z",
     "iopub.status.idle": "2022-11-08T23:48:13.576560Z",
     "shell.execute_reply": "2022-11-08T23:48:13.576121Z",
     "shell.execute_reply.started": "2022-11-08T23:48:13.546971Z"
    },
    "tags": []
   },
   "outputs": [],
   "source": [
    "from lifelines import CoxPHFitter\n",
    "from lifelines.exceptions import ConvergenceError\n",
    "import zstandard\n",
    "import pickle\n",
    "import os\n",
    "\n",
    "def get_score_defs():\n",
    "\n",
    "    with open(r'/sc-projects/sc-proj-ukb-cvd/results/projects/22_retina_phewas/data/score_definitions.yaml') as file:\n",
    "        score_defs = yaml.full_load(file)\n",
    "    \n",
    "    return score_defs\n",
    "\n",
    "def get_features(endpoint, score_defs):\n",
    "    features = {\n",
    "        model: {\n",
    "            \"Age+Sex\": score_defs[\"AgeSex\"],\n",
    "            \"Retina\": [endpoint],\n",
    "#             \"SCORE2\": score_defs[\"SCORE2\"],\n",
    "#             \"ASCVD\": score_defs[\"ASCVD\"],\n",
    "#             \"QRISK3\": score_defs[\"QRISK3\"],\n",
    "            \"Age+Sex+Retina\": score_defs[\"AgeSex\"] + [endpoint],\n",
    "#             \"SCORE2+Retina\": score_defs[\"SCORE2\"] + [endpoint],\n",
    "#             \"ASCVD+Retina\": score_defs[\"ASCVD\"] + [endpoint],\n",
    "#             \"QRISK3+Retina\": score_defs[\"QRISK3\"] + [endpoint],\n",
    "            }\n",
    "        for model in models}\n",
    "    return features\n",
    "\n",
    "#def get_test_data(in_path, partition, models, mapping):\n",
    "def get_test_data(in_path, partition, models):\n",
    "    data = {model: pd.read_feather(f\"{in_path}/{model}/{partition}/test.feather\").set_index(\"eid\")#.replace(mapping)\n",
    "            for model in models}\n",
    "    return data\n",
    "    #left_data = {model: pd.read_feather(f\"{in_path}/{model}/{partition}/test_left.feather\").set_index(\"eid\").replace(mapping)for model in models}\n",
    "    #right_data = {model: pd.read_feather(f\"{in_path}/{model}/{partition}/test_right.feather\").set_index(\"eid\").replace(mapping)for model in models}\n",
    "    #return (left_data, right_data)\n",
    "            \n",
    "def load_pickle(fp):\n",
    "    with open(fp, \"rb\") as fh:\n",
    "        dctx = zstandard.ZstdDecompressor()\n",
    "        with dctx.stream_reader(fh) as decompressor:\n",
    "            data = pickle.loads(decompressor.read())\n",
    "    return data\n",
    "\n",
    "def predict_cox(cph, data_endpoint, endpoint, feature_set, partition, pred_path, model):\n",
    "    times = [1, 2, 3, 4, 5, 6, 7, 8, 9, 10, 11, 12, 13, 14, 15]\n",
    "    time_cols = {t: f\"Ft_{t}\" for t in times}\n",
    "    \n",
    "    if feature_set==\"Age+Sex+MedicalHistory+I(Age*MH)\":\n",
    "        data_endpoint.columns = [c.replace(\"-\", \"\") for c in data_endpoint.columns]\n",
    "    \n",
    "    surv_test = 1-cph.predict_survival_function(data_endpoint, times=times)\n",
    "    temp_pred = data_endpoint.reset_index()[[\"eid\"]].assign(endpoint=endpoint, features=feature_set, partition=partition)\n",
    "    for t, col in time_cols.items(): \n",
    "        temp_pred[col] = surv_test.T[t].to_list()\n",
    "    \n",
    "    temp_pred.to_feather(f\"{out_path}/{endpoint}_{feature_set}_{model}_{partition}.feather\") \n",
    "\n",
    "# for both eyes\n",
    "def predict_cox_both_eyes(cph, data_endpoint_left, data_endpoint_right, endpoint, feature_set, partition, pred_path):\n",
    "    times = [1, 2, 3, 4, 5, 6, 7, 8, 9, 10, 11, 12, 13, 14, 15]\n",
    "    time_cols = {t: f\"Ft_{t}\" for t in times}\n",
    "    \n",
    "    if feature_set==\"Age+Sex+MedicalHistory+I(Age*MH)\":\n",
    "        data_endpoint_left.columns = [c.replace(\"-\", \"\") for c in data_endpoint_left.columns]\n",
    "        data_endpoint_right.columns = [c.replace(\"-\", \"\") for c in data_endpoint_right.columns]\n",
    "\n",
    "    # left eye\n",
    "    surv_test_left = 1-cph.predict_survival_function(data_endpoint_left, times=times)\n",
    "    temp_pred_left = data_endpoint_left.reset_index()[[\"eid\"]].assign(endpoint=endpoint, features=feature_set, partition=partition)\n",
    "    for t, col in time_cols.items(): \n",
    "        temp_pred_left[col] = surv_test_left.T[t].to_list()\n",
    "    \n",
    "    temp_pred_left.to_feather(f\"{out_path}/{endpoint}_{feature_set}_{partition}_left.feather\")\n",
    "    \n",
    "    # right eye\n",
    "    surv_test_right = 1-cph.predict_survival_function(data_endpoint_right, times=times)\n",
    "    temp_pred_right = data_endpoint_right.reset_index()[[\"eid\"]].assign(endpoint=endpoint, features=feature_set, partition=partition)\n",
    "    for t, col in time_cols.items(): \n",
    "        temp_pred_right[col] = surv_test_right.T[t].to_list()\n",
    "    \n",
    "    temp_pred_right.to_feather(f\"{out_path}/{endpoint}_{feature_set}_{partition}_right.feather\")\n",
    "    \n",
    "    # mean both eyes\n",
    "    eids = list(surv_test_left.columns.values)\n",
    "    surv_test_mean = pd.concat((surv_test_left, surv_test_right), axis=1)\n",
    "    surv_test_mean.columns = [f'{col}_left' for col in list(surv_test_left.columns.values)] + [f'{col}_right' for col in list(surv_test_right.columns.values)]\n",
    "    for eid in eids:\n",
    "        eid_columns = [col for col in list(surv_test_mean.columns.values) if str(eid) in col]\n",
    "        surv_test_mean[f'{eid}_mean'] = surv_test_mean[eid_columns].mean(axis=1)\n",
    "    surv_test_mean = surv_test_mean[[col for col in list(surv_test_mean.columns.values) if 'mean' in col]].rename(columns={col: col.replace('_mean', '') for col in list(surv_test_mean.columns.values)})\n",
    "    \n",
    "    temp_pred_mean = data_endpoint_left.reset_index()[[\"eid\"]].assign(endpoint=endpoint, features=feature_set, partition=partition)\n",
    "    for t, col in time_cols.items(): \n",
    "        temp_pred_mean[col] = surv_test_mean.T[t].to_list()\n",
    "     \n",
    "    temp_pred_mean.to_feather(f\"{out_path}/{endpoint}_{feature_set}_{partition}_mean.feather\")\n",
    "\n",
    "@ray.remote\n",
    "def predict_endpoint(data_partition, eids_dict, endpoint, partition, models, features, model_path, out_path):\n",
    "    #data_partition_left, data_partition_right = data_partition\n",
    "    eids_incl = eids_dict[endpoint].tolist()\n",
    "    results = []\n",
    "    for model in models:\n",
    "        data_model = data_partition[model]\n",
    "        #data_model_left = data_partition_left[model]\n",
    "        #data_model_right = data_partition_right[model]\n",
    "        for feature_set, covariates in features[model].items():\n",
    "            identifier = f\"{endpoint}_{feature_set}_{model}_{partition}\"\n",
    "            pred_path = f\"{out_path}/{identifier}.feather\"\n",
    "            if not os.path.isfile(pred_path):\n",
    "                try:\n",
    "                    cph = load_pickle(f\"{model_path}/{identifier}.p\")\n",
    "                    data_endpoint = data_model[data_model.index.isin(eids_incl)]\n",
    "                    #data_endpoint_left = data_model_left[data_model_left.index.isin(eids_incl)]\n",
    "                    #data_endpoint_right = data_model_right[data_model_right.index.isin(eids_incl)]\n",
    "                    predict_cox(cph, data_endpoint, endpoint, feature_set, partition, pred_path, model)\n",
    "                    #predict_cox_both_eyes(cph, data_endpoint_left, data_endpoint_right, endpoint, feature_set, partition, pred_path)\n",
    "                except FileNotFoundErrorundError:\n",
    "                    print(f\"{identifier} not available\")\n",
    "    return True"
   ]
  },
  {
   "cell_type": "raw",
   "metadata": {
    "tags": []
   },
   "source": [
    "#### TEST ####\n",
    "\n",
    "mapping = {\"sex_f31_0_0\": {\"Female\":0, \"Male\":1}}\n",
    "\n",
    "for partition in tqdm([0]): # in tqdm(partitions) # TODO: CHANGE!\n",
    "    try:\n",
    "        data_partition_left, data_partition_right = get_test_data(in_path, partition, models, mapping)\n",
    "        for endpoint in tqdm(endpoints):\n",
    "            print('NEXT ENDPOINT:',endpoint)\n",
    "            features = get_features(endpoint)\n",
    "            if endpoint not in endpoints_not_overlapping_with_preds: # double check if this works as expected\n",
    "                predict_endpoint((data_partition_left, data_partition_right), eids_dict, endpoint, partition, models, features, model_path, out_path)\n",
    "            else:\n",
    "                print('überspringe', endpoint)\n",
    "    except FileNotFoundError:\n",
    "        print('file not found')\n",
    "        pass"
   ]
  },
  {
   "cell_type": "code",
   "execution_count": 17,
   "metadata": {
    "execution": {
     "iopub.execute_input": "2022-11-08T23:48:13.577537Z",
     "iopub.status.busy": "2022-11-08T23:48:13.577197Z",
     "iopub.status.idle": "2022-11-08T23:59:30.396349Z",
     "shell.execute_reply": "2022-11-08T23:59:30.395769Z",
     "shell.execute_reply.started": "2022-11-08T23:48:13.577515Z"
    }
   },
   "outputs": [
    {
     "data": {
      "application/vnd.jupyter.widget-view+json": {
       "model_id": "9a8349641e4d4588b58af406dd86f952",
       "version_major": 2,
       "version_minor": 0
      },
      "text/plain": [
       "  0%|          | 0/22 [00:00<?, ?it/s]"
      ]
     },
     "metadata": {},
     "output_type": "display_data"
    },
    {
     "name": "stdout",
     "output_type": "stream",
     "text": [
      "Ray object not yet initialised\n"
     ]
    },
    {
     "data": {
      "application/vnd.jupyter.widget-view+json": {
       "model_id": "9eceeaebe1414c7087d400aad8aaae4d",
       "version_major": 2,
       "version_minor": 0
      },
      "text/plain": [
       "  0%|          | 0/1171 [00:00<?, ?it/s]"
      ]
     },
     "metadata": {},
     "output_type": "display_data"
    },
    {
     "name": "stderr",
     "output_type": "stream",
     "text": [
      "\u001b[2m\u001b[33m(raylet)\u001b[0m [2022-11-09 00:49:28,007 E 1810492 1810492] (raylet) worker_pool.cc:502: Some workers of the worker process(1818111) have not registered within the timeout. The process is still alive, probably it's hanging during start.\n",
      "\u001b[2m\u001b[33m(raylet)\u001b[0m [2022-11-09 00:49:28,010 E 1810492 1810492] (raylet) worker_pool.cc:502: Some workers of the worker process(1818114) have not registered within the timeout. The process is still alive, probably it's hanging during start.\n",
      "\u001b[2m\u001b[33m(raylet)\u001b[0m [2022-11-09 00:49:28,014 E 1810492 1810492] (raylet) worker_pool.cc:502: Some workers of the worker process(1818124) have not registered within the timeout. The process is still alive, probably it's hanging during start.\n",
      "\u001b[2m\u001b[33m(raylet)\u001b[0m [2022-11-09 00:49:28,018 E 1810492 1810492] (raylet) worker_pool.cc:502: Some workers of the worker process(1818129) have not registered within the timeout. The process is still alive, probably it's hanging during start.\n",
      "\u001b[2m\u001b[33m(raylet)\u001b[0m [2022-11-09 00:49:28,020 E 1810492 1810492] (raylet) worker_pool.cc:502: Some workers of the worker process(1818130) have not registered within the timeout. The process is still alive, probably it's hanging during start.\n",
      "\u001b[2m\u001b[33m(raylet)\u001b[0m [2022-11-09 00:49:28,023 E 1810492 1810492] (raylet) worker_pool.cc:502: Some workers of the worker process(1818131) have not registered within the timeout. The process is still alive, probably it's hanging during start.\n",
      "\u001b[2m\u001b[33m(raylet)\u001b[0m [2022-11-09 00:49:28,026 E 1810492 1810492] (raylet) worker_pool.cc:502: Some workers of the worker process(1818133) have not registered within the timeout. The process is still alive, probably it's hanging during start.\n",
      "\u001b[2m\u001b[33m(raylet)\u001b[0m [2022-11-09 00:49:28,028 E 1810492 1810492] (raylet) worker_pool.cc:502: Some workers of the worker process(1818136) have not registered within the timeout. The process is still alive, probably it's hanging during start.\n",
      "\u001b[2m\u001b[33m(raylet)\u001b[0m [2022-11-09 00:49:28,031 E 1810492 1810492] (raylet) worker_pool.cc:502: Some workers of the worker process(1818137) have not registered within the timeout. The process is still alive, probably it's hanging during start.\n",
      "\u001b[2m\u001b[33m(raylet)\u001b[0m [2022-11-09 00:49:28,033 E 1810492 1810492] (raylet) worker_pool.cc:502: Some workers of the worker process(1818138) have not registered within the timeout. The process is still alive, probably it's hanging during start.\n",
      "\u001b[2m\u001b[33m(raylet)\u001b[0m [2022-11-09 00:49:28,035 E 1810492 1810492] (raylet) worker_pool.cc:502: Some workers of the worker process(1818139) have not registered within the timeout. The process is still alive, probably it's hanging during start.\n",
      "\u001b[2m\u001b[33m(raylet)\u001b[0m [2022-11-09 00:49:28,038 E 1810492 1810492] (raylet) worker_pool.cc:502: Some workers of the worker process(1818142) have not registered within the timeout. The process is still alive, probably it's hanging during start.\n",
      "\u001b[2m\u001b[33m(raylet)\u001b[0m [2022-11-09 00:49:28,041 E 1810492 1810492] (raylet) worker_pool.cc:502: Some workers of the worker process(1818151) have not registered within the timeout. The process is still alive, probably it's hanging during start.\n",
      "\u001b[2m\u001b[33m(raylet)\u001b[0m [2022-11-09 00:49:28,043 E 1810492 1810492] (raylet) worker_pool.cc:502: Some workers of the worker process(1818152) have not registered within the timeout. The process is still alive, probably it's hanging during start.\n",
      "\u001b[2m\u001b[33m(raylet)\u001b[0m [2022-11-09 00:49:28,046 E 1810492 1810492] (raylet) worker_pool.cc:502: Some workers of the worker process(1818180) have not registered within the timeout. The process is still alive, probably it's hanging during start.\n",
      "\u001b[2m\u001b[33m(raylet)\u001b[0m [2022-11-09 00:49:28,049 E 1810492 1810492] (raylet) worker_pool.cc:502: Some workers of the worker process(1818189) have not registered within the timeout. The process is still alive, probably it's hanging during start.\n",
      "\u001b[2m\u001b[33m(raylet)\u001b[0m [2022-11-09 00:49:28,051 E 1810492 1810492] (raylet) worker_pool.cc:502: Some workers of the worker process(1818190) have not registered within the timeout. The process is still alive, probably it's hanging during start.\n",
      "\u001b[2m\u001b[33m(raylet)\u001b[0m [2022-11-09 00:49:28,054 E 1810492 1810492] (raylet) worker_pool.cc:502: Some workers of the worker process(1818191) have not registered within the timeout. The process is still alive, probably it's hanging during start.\n",
      "\u001b[2m\u001b[33m(raylet)\u001b[0m [2022-11-09 00:49:28,056 E 1810492 1810492] (raylet) worker_pool.cc:502: Some workers of the worker process(1818192) have not registered within the timeout. The process is still alive, probably it's hanging during start.\n",
      "\u001b[2m\u001b[33m(raylet)\u001b[0m [2022-11-09 00:49:28,059 E 1810492 1810492] (raylet) worker_pool.cc:502: Some workers of the worker process(1818194) have not registered within the timeout. The process is still alive, probably it's hanging during start.\n",
      "\u001b[2m\u001b[33m(raylet)\u001b[0m [2022-11-09 00:49:28,061 E 1810492 1810492] (raylet) worker_pool.cc:502: Some workers of the worker process(1818195) have not registered within the timeout. The process is still alive, probably it's hanging during start.\n",
      "\u001b[2m\u001b[33m(raylet)\u001b[0m [2022-11-09 00:49:28,064 E 1810492 1810492] (raylet) worker_pool.cc:502: Some workers of the worker process(1818196) have not registered within the timeout. The process is still alive, probably it's hanging during start.\n",
      "\u001b[2m\u001b[33m(raylet)\u001b[0m [2022-11-09 00:49:28,067 E 1810492 1810492] (raylet) worker_pool.cc:502: Some workers of the worker process(1818197) have not registered within the timeout. The process is still alive, probably it's hanging during start.\n",
      "\u001b[2m\u001b[33m(raylet)\u001b[0m [2022-11-09 00:49:28,070 E 1810492 1810492] (raylet) worker_pool.cc:502: Some workers of the worker process(1818198) have not registered within the timeout. The process is still alive, probably it's hanging during start.\n",
      "\u001b[2m\u001b[33m(raylet)\u001b[0m [2022-11-09 00:49:28,072 E 1810492 1810492] (raylet) worker_pool.cc:502: Some workers of the worker process(1818199) have not registered within the timeout. The process is still alive, probably it's hanging during start.\n",
      "\u001b[2m\u001b[33m(raylet)\u001b[0m [2022-11-09 00:49:28,075 E 1810492 1810492] (raylet) worker_pool.cc:502: Some workers of the worker process(1818202) have not registered within the timeout. The process is still alive, probably it's hanging during start.\n",
      "\u001b[2m\u001b[33m(raylet)\u001b[0m [2022-11-09 00:49:28,078 E 1810492 1810492] (raylet) worker_pool.cc:502: Some workers of the worker process(1818209) have not registered within the timeout. The process is still alive, probably it's hanging during start.\n",
      "\u001b[2m\u001b[33m(raylet)\u001b[0m [2022-11-09 00:49:28,080 E 1810492 1810492] (raylet) worker_pool.cc:502: Some workers of the worker process(1818211) have not registered within the timeout. The process is still alive, probably it's hanging during start.\n",
      "\u001b[2m\u001b[33m(raylet)\u001b[0m [2022-11-09 00:49:28,083 E 1810492 1810492] (raylet) worker_pool.cc:502: Some workers of the worker process(1818212) have not registered within the timeout. The process is still alive, probably it's hanging during start.\n",
      "\u001b[2m\u001b[33m(raylet)\u001b[0m [2022-11-09 00:49:28,085 E 1810492 1810492] (raylet) worker_pool.cc:502: Some workers of the worker process(1818213) have not registered within the timeout. The process is still alive, probably it's hanging during start.\n",
      "\u001b[2m\u001b[33m(raylet)\u001b[0m [2022-11-09 00:49:28,088 E 1810492 1810492] (raylet) worker_pool.cc:502: Some workers of the worker process(1818214) have not registered within the timeout. The process is still alive, probably it's hanging during start.\n",
      "\u001b[2m\u001b[33m(raylet)\u001b[0m [2022-11-09 00:49:28,090 E 1810492 1810492] (raylet) worker_pool.cc:502: Some workers of the worker process(1818215) have not registered within the timeout. The process is still alive, probably it's hanging during start.\n",
      "\u001b[2m\u001b[33m(raylet)\u001b[0m [2022-11-09 00:49:28,092 E 1810492 1810492] (raylet) worker_pool.cc:502: Some workers of the worker process(1818216) have not registered within the timeout. The process is still alive, probably it's hanging during start.\n",
      "\u001b[2m\u001b[33m(raylet)\u001b[0m [2022-11-09 00:49:28,094 E 1810492 1810492] (raylet) worker_pool.cc:502: Some workers of the worker process(1818217) have not registered within the timeout. The process is still alive, probably it's hanging during start.\n",
      "\u001b[2m\u001b[33m(raylet)\u001b[0m [2022-11-09 00:49:28,096 E 1810492 1810492] (raylet) worker_pool.cc:502: Some workers of the worker process(1818218) have not registered within the timeout. The process is still alive, probably it's hanging during start.\n",
      "\u001b[2m\u001b[33m(raylet)\u001b[0m [2022-11-09 00:49:28,099 E 1810492 1810492] (raylet) worker_pool.cc:502: Some workers of the worker process(1818219) have not registered within the timeout. The process is still alive, probably it's hanging during start.\n",
      "\u001b[2m\u001b[33m(raylet)\u001b[0m [2022-11-09 00:49:28,101 E 1810492 1810492] (raylet) worker_pool.cc:502: Some workers of the worker process(1818220) have not registered within the timeout. The process is still alive, probably it's hanging during start.\n",
      "\u001b[2m\u001b[33m(raylet)\u001b[0m [2022-11-09 00:49:28,104 E 1810492 1810492] (raylet) worker_pool.cc:502: Some workers of the worker process(1818221) have not registered within the timeout. The process is still alive, probably it's hanging during start.\n",
      "\u001b[2m\u001b[33m(raylet)\u001b[0m [2022-11-09 00:49:28,106 E 1810492 1810492] (raylet) worker_pool.cc:502: Some workers of the worker process(1818222) have not registered within the timeout. The process is still alive, probably it's hanging during start.\n",
      "\u001b[2m\u001b[33m(raylet)\u001b[0m [2022-11-09 00:49:28,109 E 1810492 1810492] (raylet) worker_pool.cc:502: Some workers of the worker process(1818223) have not registered within the timeout. The process is still alive, probably it's hanging during start.\n",
      "\u001b[2m\u001b[33m(raylet)\u001b[0m [2022-11-09 00:49:28,111 E 1810492 1810492] (raylet) worker_pool.cc:502: Some workers of the worker process(1818224) have not registered within the timeout. The process is still alive, probably it's hanging during start.\n",
      "\u001b[2m\u001b[33m(raylet)\u001b[0m [2022-11-09 00:49:28,114 E 1810492 1810492] (raylet) worker_pool.cc:502: Some workers of the worker process(1818225) have not registered within the timeout. The process is still alive, probably it's hanging during start.\n",
      "\u001b[2m\u001b[33m(raylet)\u001b[0m [2022-11-09 00:49:28,116 E 1810492 1810492] (raylet) worker_pool.cc:502: Some workers of the worker process(1818226) have not registered within the timeout. The process is still alive, probably it's hanging during start.\n",
      "\u001b[2m\u001b[33m(raylet)\u001b[0m [2022-11-09 00:49:28,133 E 1810492 1810492] (raylet) worker_pool.cc:502: Some workers of the worker process(1818227) have not registered within the timeout. The process is still alive, probably it's hanging during start.\n",
      "\u001b[2m\u001b[33m(raylet)\u001b[0m [2022-11-09 00:49:28,135 E 1810492 1810492] (raylet) worker_pool.cc:502: Some workers of the worker process(1818228) have not registered within the timeout. The process is still alive, probably it's hanging during start.\n",
      "\u001b[2m\u001b[33m(raylet)\u001b[0m [2022-11-09 00:49:28,138 E 1810492 1810492] (raylet) worker_pool.cc:502: Some workers of the worker process(1818229) have not registered within the timeout. The process is still alive, probably it's hanging during start.\n",
      "\u001b[2m\u001b[33m(raylet)\u001b[0m [2022-11-09 00:49:28,145 E 1810492 1810492] (raylet) worker_pool.cc:502: Some workers of the worker process(1818230) have not registered within the timeout. The process is still alive, probably it's hanging during start.\n",
      "\u001b[2m\u001b[33m(raylet)\u001b[0m [2022-11-09 00:49:28,149 E 1810492 1810492] (raylet) worker_pool.cc:502: Some workers of the worker process(1818231) have not registered within the timeout. The process is still alive, probably it's hanging during start.\n",
      "\u001b[2m\u001b[33m(raylet)\u001b[0m [2022-11-09 00:49:28,156 E 1810492 1810492] (raylet) worker_pool.cc:502: Some workers of the worker process(1818232) have not registered within the timeout. The process is still alive, probably it's hanging during start.\n",
      "\u001b[2m\u001b[33m(raylet)\u001b[0m [2022-11-09 00:49:28,159 E 1810492 1810492] (raylet) worker_pool.cc:502: Some workers of the worker process(1818233) have not registered within the timeout. The process is still alive, probably it's hanging during start.\n",
      "\u001b[2m\u001b[33m(raylet)\u001b[0m [2022-11-09 00:49:28,163 E 1810492 1810492] (raylet) worker_pool.cc:502: Some workers of the worker process(1818234) have not registered within the timeout. The process is still alive, probably it's hanging during start.\n",
      "\u001b[2m\u001b[33m(raylet)\u001b[0m [2022-11-09 00:49:28,166 E 1810492 1810492] (raylet) worker_pool.cc:502: Some workers of the worker process(1818235) have not registered within the timeout. The process is still alive, probably it's hanging during start.\n",
      "\u001b[2m\u001b[33m(raylet)\u001b[0m [2022-11-09 00:49:28,170 E 1810492 1810492] (raylet) worker_pool.cc:502: Some workers of the worker process(1818236) have not registered within the timeout. The process is still alive, probably it's hanging during start.\n",
      "\u001b[2m\u001b[33m(raylet)\u001b[0m [2022-11-09 00:49:28,174 E 1810492 1810492] (raylet) worker_pool.cc:502: Some workers of the worker process(1818237) have not registered within the timeout. The process is still alive, probably it's hanging during start.\n",
      "\u001b[2m\u001b[33m(raylet)\u001b[0m [2022-11-09 00:49:28,178 E 1810492 1810492] (raylet) worker_pool.cc:502: Some workers of the worker process(1818238) have not registered within the timeout. The process is still alive, probably it's hanging during start.\n",
      "\u001b[2m\u001b[33m(raylet)\u001b[0m [2022-11-09 00:49:28,181 E 1810492 1810492] (raylet) worker_pool.cc:502: Some workers of the worker process(1818239) have not registered within the timeout. The process is still alive, probably it's hanging during start.\n",
      "\u001b[2m\u001b[33m(raylet)\u001b[0m [2022-11-09 00:49:28,185 E 1810492 1810492] (raylet) worker_pool.cc:502: Some workers of the worker process(1818240) have not registered within the timeout. The process is still alive, probably it's hanging during start.\n",
      "\u001b[2m\u001b[33m(raylet)\u001b[0m [2022-11-09 00:50:41,387 E 1810492 1810492] (raylet) worker_pool.cc:502: Some workers of the worker process(1818526) have not registered within the timeout. The process is still alive, probably it's hanging during start.\n",
      "\u001b[2m\u001b[33m(raylet)\u001b[0m [2022-11-09 00:50:41,390 E 1810492 1810492] (raylet) worker_pool.cc:502: Some workers of the worker process(1818535) have not registered within the timeout. The process is still alive, probably it's hanging during start.\n",
      "\u001b[2m\u001b[33m(raylet)\u001b[0m [2022-11-09 00:50:41,393 E 1810492 1810492] (raylet) worker_pool.cc:502: Some workers of the worker process(1818553) have not registered within the timeout. The process is still alive, probably it's hanging during start.\n",
      "\u001b[2m\u001b[33m(raylet)\u001b[0m [2022-11-09 00:50:41,396 E 1810492 1810492] (raylet) worker_pool.cc:502: Some workers of the worker process(1818565) have not registered within the timeout. The process is still alive, probably it's hanging during start.\n",
      "\u001b[2m\u001b[33m(raylet)\u001b[0m [2022-11-09 00:50:41,399 E 1810492 1810492] (raylet) worker_pool.cc:502: Some workers of the worker process(1818566) have not registered within the timeout. The process is still alive, probably it's hanging during start.\n",
      "\u001b[2m\u001b[33m(raylet)\u001b[0m [2022-11-09 00:50:41,401 E 1810492 1810492] (raylet) worker_pool.cc:502: Some workers of the worker process(1818567) have not registered within the timeout. The process is still alive, probably it's hanging during start.\n",
      "\u001b[2m\u001b[33m(raylet)\u001b[0m [2022-11-09 00:50:41,404 E 1810492 1810492] (raylet) worker_pool.cc:502: Some workers of the worker process(1818570) have not registered within the timeout. The process is still alive, probably it's hanging during start.\n",
      "\u001b[2m\u001b[33m(raylet)\u001b[0m [2022-11-09 00:50:41,407 E 1810492 1810492] (raylet) worker_pool.cc:502: Some workers of the worker process(1818577) have not registered within the timeout. The process is still alive, probably it's hanging during start.\n",
      "\u001b[2m\u001b[33m(raylet)\u001b[0m [2022-11-09 00:50:41,410 E 1810492 1810492] (raylet) worker_pool.cc:502: Some workers of the worker process(1818579) have not registered within the timeout. The process is still alive, probably it's hanging during start.\n",
      "\u001b[2m\u001b[33m(raylet)\u001b[0m [2022-11-09 00:50:41,412 E 1810492 1810492] (raylet) worker_pool.cc:502: Some workers of the worker process(1818580) have not registered within the timeout. The process is still alive, probably it's hanging during start.\n",
      "\u001b[2m\u001b[33m(raylet)\u001b[0m [2022-11-09 00:50:41,415 E 1810492 1810492] (raylet) worker_pool.cc:502: Some workers of the worker process(1818581) have not registered within the timeout. The process is still alive, probably it's hanging during start.\n",
      "\u001b[2m\u001b[33m(raylet)\u001b[0m [2022-11-09 00:50:41,417 E 1810492 1810492] (raylet) worker_pool.cc:502: Some workers of the worker process(1818582) have not registered within the timeout. The process is still alive, probably it's hanging during start.\n",
      "\u001b[2m\u001b[33m(raylet)\u001b[0m [2022-11-09 00:50:41,420 E 1810492 1810492] (raylet) worker_pool.cc:502: Some workers of the worker process(1818583) have not registered within the timeout. The process is still alive, probably it's hanging during start.\n",
      "\u001b[2m\u001b[33m(raylet)\u001b[0m [2022-11-09 00:50:41,423 E 1810492 1810492] (raylet) worker_pool.cc:502: Some workers of the worker process(1818584) have not registered within the timeout. The process is still alive, probably it's hanging during start.\n",
      "\u001b[2m\u001b[33m(raylet)\u001b[0m [2022-11-09 00:50:41,426 E 1810492 1810492] (raylet) worker_pool.cc:502: Some workers of the worker process(1818585) have not registered within the timeout. The process is still alive, probably it's hanging during start.\n",
      "\u001b[2m\u001b[33m(raylet)\u001b[0m [2022-11-09 00:50:41,428 E 1810492 1810492] (raylet) worker_pool.cc:502: Some workers of the worker process(1818586) have not registered within the timeout. The process is still alive, probably it's hanging during start.\n",
      "\u001b[2m\u001b[33m(raylet)\u001b[0m [2022-11-09 00:50:41,431 E 1810492 1810492] (raylet) worker_pool.cc:502: Some workers of the worker process(1818587) have not registered within the timeout. The process is still alive, probably it's hanging during start.\n",
      "\u001b[2m\u001b[33m(raylet)\u001b[0m [2022-11-09 00:50:41,433 E 1810492 1810492] (raylet) worker_pool.cc:502: Some workers of the worker process(1818590) have not registered within the timeout. The process is still alive, probably it's hanging during start.\n",
      "\u001b[2m\u001b[33m(raylet)\u001b[0m [2022-11-09 00:50:41,436 E 1810492 1810492] (raylet) worker_pool.cc:502: Some workers of the worker process(1818597) have not registered within the timeout. The process is still alive, probably it's hanging during start.\n",
      "\u001b[2m\u001b[33m(raylet)\u001b[0m [2022-11-09 00:50:41,439 E 1810492 1810492] (raylet) worker_pool.cc:502: Some workers of the worker process(1818599) have not registered within the timeout. The process is still alive, probably it's hanging during start.\n",
      "\u001b[2m\u001b[33m(raylet)\u001b[0m [2022-11-09 00:50:41,441 E 1810492 1810492] (raylet) worker_pool.cc:502: Some workers of the worker process(1818604) have not registered within the timeout. The process is still alive, probably it's hanging during start.\n",
      "\u001b[2m\u001b[33m(raylet)\u001b[0m [2022-11-09 00:50:41,444 E 1810492 1810492] (raylet) worker_pool.cc:502: Some workers of the worker process(1818617) have not registered within the timeout. The process is still alive, probably it's hanging during start.\n",
      "\u001b[2m\u001b[33m(raylet)\u001b[0m [2022-11-09 00:50:41,447 E 1810492 1810492] (raylet) worker_pool.cc:502: Some workers of the worker process(1818620) have not registered within the timeout. The process is still alive, probably it's hanging during start.\n",
      "\u001b[2m\u001b[33m(raylet)\u001b[0m [2022-11-09 00:50:41,449 E 1810492 1810492] (raylet) worker_pool.cc:502: Some workers of the worker process(1818621) have not registered within the timeout. The process is still alive, probably it's hanging during start.\n",
      "\u001b[2m\u001b[33m(raylet)\u001b[0m [2022-11-09 00:50:41,451 E 1810492 1810492] (raylet) worker_pool.cc:502: Some workers of the worker process(1818622) have not registered within the timeout. The process is still alive, probably it's hanging during start.\n",
      "\u001b[2m\u001b[33m(raylet)\u001b[0m [2022-11-09 00:50:41,454 E 1810492 1810492] (raylet) worker_pool.cc:502: Some workers of the worker process(1818625) have not registered within the timeout. The process is still alive, probably it's hanging during start.\n",
      "\u001b[2m\u001b[33m(raylet)\u001b[0m [2022-11-09 00:50:41,457 E 1810492 1810492] (raylet) worker_pool.cc:502: Some workers of the worker process(1818632) have not registered within the timeout. The process is still alive, probably it's hanging during start.\n",
      "\u001b[2m\u001b[33m(raylet)\u001b[0m [2022-11-09 00:50:41,460 E 1810492 1810492] (raylet) worker_pool.cc:502: Some workers of the worker process(1818634) have not registered within the timeout. The process is still alive, probably it's hanging during start.\n",
      "\u001b[2m\u001b[33m(raylet)\u001b[0m [2022-11-09 00:50:41,462 E 1810492 1810492] (raylet) worker_pool.cc:502: Some workers of the worker process(1818635) have not registered within the timeout. The process is still alive, probably it's hanging during start.\n",
      "\u001b[2m\u001b[33m(raylet)\u001b[0m [2022-11-09 00:50:41,465 E 1810492 1810492] (raylet) worker_pool.cc:502: Some workers of the worker process(1818636) have not registered within the timeout. The process is still alive, probably it's hanging during start.\n",
      "\u001b[2m\u001b[33m(raylet)\u001b[0m [2022-11-09 00:50:41,467 E 1810492 1810492] (raylet) worker_pool.cc:502: Some workers of the worker process(1818637) have not registered within the timeout. The process is still alive, probably it's hanging during start.\n",
      "\u001b[2m\u001b[33m(raylet)\u001b[0m [2022-11-09 00:50:41,470 E 1810492 1810492] (raylet) worker_pool.cc:502: Some workers of the worker process(1818638) have not registered within the timeout. The process is still alive, probably it's hanging during start.\n",
      "\u001b[2m\u001b[33m(raylet)\u001b[0m [2022-11-09 00:50:41,473 E 1810492 1810492] (raylet) worker_pool.cc:502: Some workers of the worker process(1818639) have not registered within the timeout. The process is still alive, probably it's hanging during start.\n",
      "\u001b[2m\u001b[33m(raylet)\u001b[0m [2022-11-09 00:50:41,475 E 1810492 1810492] (raylet) worker_pool.cc:502: Some workers of the worker process(1818640) have not registered within the timeout. The process is still alive, probably it's hanging during start.\n",
      "\u001b[2m\u001b[33m(raylet)\u001b[0m [2022-11-09 00:50:41,484 E 1810492 1810492] (raylet) worker_pool.cc:502: Some workers of the worker process(1818641) have not registered within the timeout. The process is still alive, probably it's hanging during start.\n",
      "\u001b[2m\u001b[33m(raylet)\u001b[0m [2022-11-09 00:50:41,487 E 1810492 1810492] (raylet) worker_pool.cc:502: Some workers of the worker process(1818642) have not registered within the timeout. The process is still alive, probably it's hanging during start.\n",
      "\u001b[2m\u001b[33m(raylet)\u001b[0m [2022-11-09 00:50:41,489 E 1810492 1810492] (raylet) worker_pool.cc:502: Some workers of the worker process(1818643) have not registered within the timeout. The process is still alive, probably it's hanging during start.\n",
      "\u001b[2m\u001b[33m(raylet)\u001b[0m [2022-11-09 00:50:41,492 E 1810492 1810492] (raylet) worker_pool.cc:502: Some workers of the worker process(1818644) have not registered within the timeout. The process is still alive, probably it's hanging during start.\n",
      "\u001b[2m\u001b[33m(raylet)\u001b[0m [2022-11-09 00:50:41,495 E 1810492 1810492] (raylet) worker_pool.cc:502: Some workers of the worker process(1818645) have not registered within the timeout. The process is still alive, probably it's hanging during start.\n",
      "\u001b[2m\u001b[33m(raylet)\u001b[0m [2022-11-09 00:50:41,497 E 1810492 1810492] (raylet) worker_pool.cc:502: Some workers of the worker process(1818646) have not registered within the timeout. The process is still alive, probably it's hanging during start.\n",
      "\u001b[2m\u001b[33m(raylet)\u001b[0m [2022-11-09 00:50:41,500 E 1810492 1810492] (raylet) worker_pool.cc:502: Some workers of the worker process(1818647) have not registered within the timeout. The process is still alive, probably it's hanging during start.\n",
      "\u001b[2m\u001b[33m(raylet)\u001b[0m [2022-11-09 00:50:41,502 E 1810492 1810492] (raylet) worker_pool.cc:502: Some workers of the worker process(1818648) have not registered within the timeout. The process is still alive, probably it's hanging during start.\n",
      "\u001b[2m\u001b[33m(raylet)\u001b[0m [2022-11-09 00:50:41,505 E 1810492 1810492] (raylet) worker_pool.cc:502: Some workers of the worker process(1818649) have not registered within the timeout. The process is still alive, probably it's hanging during start.\n",
      "\u001b[2m\u001b[33m(raylet)\u001b[0m [2022-11-09 00:50:41,510 E 1810492 1810492] (raylet) worker_pool.cc:502: Some workers of the worker process(1818650) have not registered within the timeout. The process is still alive, probably it's hanging during start.\n",
      "\u001b[2m\u001b[33m(raylet)\u001b[0m [2022-11-09 00:50:41,601 E 1810492 1810492] (raylet) worker_pool.cc:502: Some workers of the worker process(1818651) have not registered within the timeout. The process is still alive, probably it's hanging during start.\n",
      "\u001b[2m\u001b[33m(raylet)\u001b[0m [2022-11-09 00:50:41,602 E 1810492 1810492] (raylet) worker_pool.cc:502: Some workers of the worker process(1818652) have not registered within the timeout. The process is still alive, probably it's hanging during start.\n",
      "\u001b[2m\u001b[33m(raylet)\u001b[0m [2022-11-09 00:50:41,602 E 1810492 1810492] (raylet) worker_pool.cc:502: Some workers of the worker process(1818653) have not registered within the timeout. The process is still alive, probably it's hanging during start.\n",
      "\u001b[2m\u001b[33m(raylet)\u001b[0m [2022-11-09 00:50:41,602 E 1810492 1810492] (raylet) worker_pool.cc:502: Some workers of the worker process(1818654) have not registered within the timeout. The process is still alive, probably it's hanging during start.\n",
      "\u001b[2m\u001b[33m(raylet)\u001b[0m [2022-11-09 00:50:41,602 E 1810492 1810492] (raylet) worker_pool.cc:502: Some workers of the worker process(1818655) have not registered within the timeout. The process is still alive, probably it's hanging during start.\n",
      "\u001b[2m\u001b[33m(raylet)\u001b[0m [2022-11-09 00:50:41,602 E 1810492 1810492] (raylet) worker_pool.cc:502: Some workers of the worker process(1818656) have not registered within the timeout. The process is still alive, probably it's hanging during start.\n",
      "\u001b[2m\u001b[33m(raylet)\u001b[0m [2022-11-09 00:50:41,602 E 1810492 1810492] (raylet) worker_pool.cc:502: Some workers of the worker process(1818657) have not registered within the timeout. The process is still alive, probably it's hanging during start.\n",
      "\u001b[2m\u001b[33m(raylet)\u001b[0m [2022-11-09 00:50:41,602 E 1810492 1810492] (raylet) worker_pool.cc:502: Some workers of the worker process(1818658) have not registered within the timeout. The process is still alive, probably it's hanging during start.\n",
      "\u001b[2m\u001b[33m(raylet)\u001b[0m [2022-11-09 00:50:41,602 E 1810492 1810492] (raylet) worker_pool.cc:502: Some workers of the worker process(1818659) have not registered within the timeout. The process is still alive, probably it's hanging during start.\n"
     ]
    },
    {
     "data": {
      "application/vnd.jupyter.widget-view+json": {
       "model_id": "042ec7cec67e475ca95cddb295c638ed",
       "version_major": 2,
       "version_minor": 0
      },
      "text/plain": [
       "  0%|          | 0/1171 [00:00<?, ?it/s]"
      ]
     },
     "metadata": {},
     "output_type": "display_data"
    },
    {
     "data": {
      "application/vnd.jupyter.widget-view+json": {
       "model_id": "471a3efc29cd425f9ce64023aaef8dd1",
       "version_major": 2,
       "version_minor": 0
      },
      "text/plain": [
       "  0%|          | 0/1171 [00:00<?, ?it/s]"
      ]
     },
     "metadata": {},
     "output_type": "display_data"
    },
    {
     "data": {
      "application/vnd.jupyter.widget-view+json": {
       "model_id": "1378c0e91c7643f6a58f5a0f09caf8d1",
       "version_major": 2,
       "version_minor": 0
      },
      "text/plain": [
       "  0%|          | 0/1171 [00:00<?, ?it/s]"
      ]
     },
     "metadata": {},
     "output_type": "display_data"
    },
    {
     "data": {
      "application/vnd.jupyter.widget-view+json": {
       "model_id": "d37c9ea860d94394a816c8901cd373c7",
       "version_major": 2,
       "version_minor": 0
      },
      "text/plain": [
       "  0%|          | 0/1171 [00:00<?, ?it/s]"
      ]
     },
     "metadata": {},
     "output_type": "display_data"
    },
    {
     "data": {
      "application/vnd.jupyter.widget-view+json": {
       "model_id": "e593187ae26f4205bcf7d330c2c4830e",
       "version_major": 2,
       "version_minor": 0
      },
      "text/plain": [
       "  0%|          | 0/1171 [00:00<?, ?it/s]"
      ]
     },
     "metadata": {},
     "output_type": "display_data"
    },
    {
     "data": {
      "application/vnd.jupyter.widget-view+json": {
       "model_id": "f9baa5b29ebc422fa6e1d60d0b89758e",
       "version_major": 2,
       "version_minor": 0
      },
      "text/plain": [
       "  0%|          | 0/1171 [00:00<?, ?it/s]"
      ]
     },
     "metadata": {},
     "output_type": "display_data"
    },
    {
     "data": {
      "application/vnd.jupyter.widget-view+json": {
       "model_id": "fa4dcf006c8c473d81b432cdbc9565d3",
       "version_major": 2,
       "version_minor": 0
      },
      "text/plain": [
       "  0%|          | 0/1171 [00:00<?, ?it/s]"
      ]
     },
     "metadata": {},
     "output_type": "display_data"
    },
    {
     "data": {
      "application/vnd.jupyter.widget-view+json": {
       "model_id": "7496f396f0064d2daf342e85363b688e",
       "version_major": 2,
       "version_minor": 0
      },
      "text/plain": [
       "  0%|          | 0/1171 [00:00<?, ?it/s]"
      ]
     },
     "metadata": {},
     "output_type": "display_data"
    },
    {
     "data": {
      "application/vnd.jupyter.widget-view+json": {
       "model_id": "1b05e1e176bb452ca00822fc1afc93d1",
       "version_major": 2,
       "version_minor": 0
      },
      "text/plain": [
       "  0%|          | 0/1171 [00:00<?, ?it/s]"
      ]
     },
     "metadata": {},
     "output_type": "display_data"
    },
    {
     "data": {
      "application/vnd.jupyter.widget-view+json": {
       "model_id": "6fee9962b2964929ace95895d37537af",
       "version_major": 2,
       "version_minor": 0
      },
      "text/plain": [
       "  0%|          | 0/1171 [00:00<?, ?it/s]"
      ]
     },
     "metadata": {},
     "output_type": "display_data"
    },
    {
     "data": {
      "application/vnd.jupyter.widget-view+json": {
       "model_id": "7cbfac4cac0d4b3ea04d9974cf69ae9e",
       "version_major": 2,
       "version_minor": 0
      },
      "text/plain": [
       "  0%|          | 0/1171 [00:00<?, ?it/s]"
      ]
     },
     "metadata": {},
     "output_type": "display_data"
    },
    {
     "data": {
      "application/vnd.jupyter.widget-view+json": {
       "model_id": "763f4eca27e44f12bb1241a3a7cce4fd",
       "version_major": 2,
       "version_minor": 0
      },
      "text/plain": [
       "  0%|          | 0/1171 [00:00<?, ?it/s]"
      ]
     },
     "metadata": {},
     "output_type": "display_data"
    },
    {
     "data": {
      "application/vnd.jupyter.widget-view+json": {
       "model_id": "6d862a27c96e462fb32b8f29268c82cf",
       "version_major": 2,
       "version_minor": 0
      },
      "text/plain": [
       "  0%|          | 0/1171 [00:00<?, ?it/s]"
      ]
     },
     "metadata": {},
     "output_type": "display_data"
    },
    {
     "data": {
      "application/vnd.jupyter.widget-view+json": {
       "model_id": "0bfb24616c3d472a850b2a634149ac9c",
       "version_major": 2,
       "version_minor": 0
      },
      "text/plain": [
       "  0%|          | 0/1171 [00:00<?, ?it/s]"
      ]
     },
     "metadata": {},
     "output_type": "display_data"
    },
    {
     "data": {
      "application/vnd.jupyter.widget-view+json": {
       "model_id": "b457fd48b5c6491a9eb1bbb10d90c65c",
       "version_major": 2,
       "version_minor": 0
      },
      "text/plain": [
       "  0%|          | 0/1171 [00:00<?, ?it/s]"
      ]
     },
     "metadata": {},
     "output_type": "display_data"
    },
    {
     "data": {
      "application/vnd.jupyter.widget-view+json": {
       "model_id": "3ca5af401f2e44568d8af3e01eaa0661",
       "version_major": 2,
       "version_minor": 0
      },
      "text/plain": [
       "  0%|          | 0/1171 [00:00<?, ?it/s]"
      ]
     },
     "metadata": {},
     "output_type": "display_data"
    },
    {
     "data": {
      "application/vnd.jupyter.widget-view+json": {
       "model_id": "89f1049961834297aec07b48b9365c3c",
       "version_major": 2,
       "version_minor": 0
      },
      "text/plain": [
       "  0%|          | 0/1171 [00:00<?, ?it/s]"
      ]
     },
     "metadata": {},
     "output_type": "display_data"
    },
    {
     "data": {
      "application/vnd.jupyter.widget-view+json": {
       "model_id": "8a19bea0b2ef4badb2e069e8e8fb707b",
       "version_major": 2,
       "version_minor": 0
      },
      "text/plain": [
       "  0%|          | 0/1171 [00:00<?, ?it/s]"
      ]
     },
     "metadata": {},
     "output_type": "display_data"
    },
    {
     "data": {
      "application/vnd.jupyter.widget-view+json": {
       "model_id": "76899f7809394ad4871b439db3172292",
       "version_major": 2,
       "version_minor": 0
      },
      "text/plain": [
       "  0%|          | 0/1171 [00:00<?, ?it/s]"
      ]
     },
     "metadata": {},
     "output_type": "display_data"
    },
    {
     "data": {
      "application/vnd.jupyter.widget-view+json": {
       "model_id": "835d8bfcd08747bd9c6b54c9152538f1",
       "version_major": 2,
       "version_minor": 0
      },
      "text/plain": [
       "  0%|          | 0/1171 [00:00<?, ?it/s]"
      ]
     },
     "metadata": {},
     "output_type": "display_data"
    },
    {
     "data": {
      "application/vnd.jupyter.widget-view+json": {
       "model_id": "f21538e7ed6e40e6a36bcbca1644510f",
       "version_major": 2,
       "version_minor": 0
      },
      "text/plain": [
       "  0%|          | 0/1171 [00:00<?, ?it/s]"
      ]
     },
     "metadata": {},
     "output_type": "display_data"
    }
   ],
   "source": [
    "import yaml\n",
    "\n",
    "#mapping = {\"sex_f31_0_0\": {\"Female\":0, \"Male\":1}}\n",
    "score_defs = get_score_defs()\n",
    "\n",
    "ray_eids = ray.put(eids_dict)\n",
    "for partition in tqdm(partitions):\n",
    "    try:\n",
    "        del ray_partition\n",
    "    except:\n",
    "        print(\"Ray object not yet initialised\")\n",
    "    #ray_partition = ray.put(get_test_data(in_path, partition, models, mapping))\n",
    "    ray_partition = ray.put(get_test_data(in_path, partition, models))\n",
    "    progress = []\n",
    "    for endpoint in endpoints:\n",
    "        features = get_features(endpoint, score_defs)\n",
    "        progress.append(predict_endpoint.remote(ray_partition, ray_eids, endpoint, partition, models, features, model_path, out_path))\n",
    "    [ray.get(s) for s in tqdm(progress)]"
   ]
  },
  {
   "cell_type": "code",
   "execution_count": null,
   "metadata": {},
   "outputs": [],
   "source": []
  }
 ],
 "metadata": {
  "kernelspec": {
   "display_name": "retrisk",
   "language": "python",
   "name": "retrisk"
  },
  "language_info": {
   "codemirror_mode": {
    "name": "ipython",
    "version": 3
   },
   "file_extension": ".py",
   "mimetype": "text/x-python",
   "name": "python",
   "nbconvert_exporter": "python",
   "pygments_lexer": "ipython3",
   "version": "3.9.7"
  },
  "toc-autonumbering": false
 },
 "nbformat": 4,
 "nbformat_minor": 4
}
