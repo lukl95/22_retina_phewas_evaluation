{
 "cells": [
  {
   "cell_type": "markdown",
   "metadata": {},
   "source": [
    "# Benchmarks"
   ]
  },
  {
   "cell_type": "markdown",
   "metadata": {},
   "source": [
    "## Initialize"
   ]
  },
  {
   "cell_type": "code",
   "execution_count": 1,
   "metadata": {
    "execution": {
     "iopub.execute_input": "2022-09-14T11:39:25.329008Z",
     "iopub.status.busy": "2022-09-14T11:39:25.328534Z",
     "iopub.status.idle": "2022-09-14T11:39:28.005633Z",
     "shell.execute_reply": "2022-09-14T11:39:28.005056Z",
     "shell.execute_reply.started": "2022-09-14T11:39:25.328943Z"
    },
    "tags": []
   },
   "outputs": [],
   "source": [
    "import os\n",
    "import math\n",
    "import pathlib\n",
    "import numpy as np\n",
    "import pandas as pd\n",
    "from tqdm.auto import tqdm\n",
    "from IPython.display import clear_output\n",
    "\n",
    "import warnings\n",
    "from lifelines.utils import CensoringType\n",
    "from lifelines.utils import concordance_index"
   ]
  },
  {
   "cell_type": "code",
   "execution_count": 2,
   "metadata": {
    "execution": {
     "iopub.execute_input": "2022-09-14T11:39:28.006906Z",
     "iopub.status.busy": "2022-09-14T11:39:28.006684Z",
     "iopub.status.idle": "2022-09-14T11:39:28.035484Z",
     "shell.execute_reply": "2022-09-14T11:39:28.035027Z",
     "shell.execute_reply.started": "2022-09-14T11:39:28.006888Z"
    },
    "tags": []
   },
   "outputs": [
    {
     "name": "stdout",
     "output_type": "stream",
     "text": [
      "/sc-projects/sc-proj-ukb-cvd\n"
     ]
    },
    {
     "data": {
      "text/plain": [
       "[0, 1, 2, 3, 4, 5, 6, 7, 8, 9, 10, 11, 12, 13, 14, 15, 16, 17, 18, 19, 20, 21]"
      ]
     },
     "execution_count": 2,
     "metadata": {},
     "output_type": "execute_result"
    }
   ],
   "source": [
    "node = !hostname\n",
    "if \"sc\" in node[0]:\n",
    "    base_path = \"/sc-projects/sc-proj-ukb-cvd\"\n",
    "else: \n",
    "    base_path = \"/data/analysis/ag-reils/ag-reils-shared/cardioRS\"\n",
    "print(base_path)\n",
    "\n",
    "project_label = \"22_retina_phewas\"\n",
    "project_path = f\"{base_path}/results/projects/{project_label}\"\n",
    "figure_path = f\"{project_path}/figures\"\n",
    "output_path = f\"{project_path}/data\"\n",
    "\n",
    "pathlib.Path(figure_path).mkdir(parents=True, exist_ok=True)\n",
    "pathlib.Path(output_path).mkdir(parents=True, exist_ok=True)\n",
    "\n",
    "experiment = '220812_test'\n",
    "experiment_path = f\"{output_path}/{experiment}\"\n",
    "pathlib.Path(experiment_path).mkdir(parents=True, exist_ok=True)\n",
    "\n",
    "\n",
    "name_dict = {\n",
    "    \"predictions_cropratio0.66\": \"ConvNextSmall(Retina)+MLP_cropratio0.66\",\n",
    "}\n",
    "\n",
    "partitions = [i for i in range(22)]\n",
    "# partitions = [ 4, 15,  3,  2, 21, 14, 13, 20,  1,  0, 12, 11, 19, 18, 10, 17, 16]\n",
    "partitions"
   ]
  },
  {
   "cell_type": "code",
   "execution_count": 3,
   "metadata": {
    "execution": {
     "iopub.execute_input": "2022-09-14T11:39:28.036385Z",
     "iopub.status.busy": "2022-09-14T11:39:28.036272Z",
     "iopub.status.idle": "2022-09-14T11:39:28.038778Z",
     "shell.execute_reply": "2022-09-14T11:39:28.038404Z",
     "shell.execute_reply.started": "2022-09-14T11:39:28.036370Z"
    },
    "tags": []
   },
   "outputs": [],
   "source": [
    "today = '220824'"
   ]
  },
  {
   "cell_type": "code",
   "execution_count": 4,
   "metadata": {
    "execution": {
     "iopub.execute_input": "2022-09-14T11:39:28.039810Z",
     "iopub.status.busy": "2022-09-14T11:39:28.039702Z",
     "iopub.status.idle": "2022-09-14T11:39:30.053784Z",
     "shell.execute_reply": "2022-09-14T11:39:30.053132Z",
     "shell.execute_reply.started": "2022-09-14T11:39:28.039797Z"
    },
    "tags": []
   },
   "outputs": [],
   "source": [
    "model_path = f\"{experiment_path}/coxph/models\"\n",
    "model_list =  !ls $model_path"
   ]
  },
  {
   "cell_type": "code",
   "execution_count": 5,
   "metadata": {
    "execution": {
     "iopub.execute_input": "2022-09-14T11:39:30.054869Z",
     "iopub.status.busy": "2022-09-14T11:39:30.054746Z",
     "iopub.status.idle": "2022-09-14T11:39:30.066671Z",
     "shell.execute_reply": "2022-09-14T11:39:30.066270Z",
     "shell.execute_reply.started": "2022-09-14T11:39:30.054854Z"
    },
    "tags": []
   },
   "outputs": [],
   "source": [
    "import pandas as pd\n",
    "endpoints = sorted([l.replace('_prevalent', '') for l in list(pd.read_csv('/sc-projects/sc-proj-ukb-cvd/results/projects/22_retinal_risk/data/220602/endpoints.csv').endpoint.values)])"
   ]
  },
  {
   "cell_type": "code",
   "execution_count": 6,
   "metadata": {
    "execution": {
     "iopub.execute_input": "2022-09-14T11:39:30.067324Z",
     "iopub.status.busy": "2022-09-14T11:39:30.067222Z",
     "iopub.status.idle": "2022-09-14T11:39:30.072165Z",
     "shell.execute_reply": "2022-09-14T11:39:30.071808Z",
     "shell.execute_reply.started": "2022-09-14T11:39:30.067311Z"
    },
    "tags": []
   },
   "outputs": [],
   "source": [
    "splits = [\"train\", \"valid\", 'test'] # \"test_left\", 'test_right']"
   ]
  },
  {
   "cell_type": "code",
   "execution_count": 7,
   "metadata": {
    "execution": {
     "iopub.execute_input": "2022-09-14T11:39:30.072795Z",
     "iopub.status.busy": "2022-09-14T11:39:30.072695Z",
     "iopub.status.idle": "2022-09-14T11:39:30.146486Z",
     "shell.execute_reply": "2022-09-14T11:39:30.145980Z",
     "shell.execute_reply.started": "2022-09-14T11:39:30.072783Z"
    },
    "tags": []
   },
   "outputs": [],
   "source": [
    "endpoint_defs = pd.read_feather(f\"{output_path}/phecode_defs_220306.feather\").query(\"endpoint==@endpoints\").sort_values(\"endpoint\").set_index(\"endpoint\")"
   ]
  },
  {
   "cell_type": "code",
   "execution_count": 8,
   "metadata": {
    "execution": {
     "iopub.execute_input": "2022-09-14T11:39:30.147427Z",
     "iopub.status.busy": "2022-09-14T11:39:30.147247Z",
     "iopub.status.idle": "2022-09-14T11:39:30.149875Z",
     "shell.execute_reply": "2022-09-14T11:39:30.149527Z",
     "shell.execute_reply.started": "2022-09-14T11:39:30.147411Z"
    },
    "tags": []
   },
   "outputs": [],
   "source": [
    "from datetime import date\n",
    "today = str(date.today()) if today is None else today\n"
   ]
  },
  {
   "cell_type": "code",
   "execution_count": 9,
   "metadata": {
    "execution": {
     "iopub.execute_input": "2022-09-14T11:39:30.150607Z",
     "iopub.status.busy": "2022-09-14T11:39:30.150391Z",
     "iopub.status.idle": "2022-09-14T11:39:36.929092Z",
     "shell.execute_reply": "2022-09-14T11:39:36.928535Z",
     "shell.execute_reply.started": "2022-09-14T11:39:30.150592Z"
    },
    "tags": []
   },
   "outputs": [],
   "source": [
    "eligable_eids = pd.read_feather(f\"{output_path}/eligable_eids_{today}.feather\")\n",
    "eids_dict = eligable_eids.set_index(\"endpoint\")[\"eid_list\"].to_dict()"
   ]
  },
  {
   "cell_type": "code",
   "execution_count": 10,
   "metadata": {
    "execution": {
     "iopub.execute_input": "2022-09-14T11:39:36.930738Z",
     "iopub.status.busy": "2022-09-14T11:39:36.930522Z",
     "iopub.status.idle": "2022-09-14T11:39:36.934982Z",
     "shell.execute_reply": "2022-09-14T11:39:36.934588Z",
     "shell.execute_reply.started": "2022-09-14T11:39:36.930721Z"
    },
    "tags": []
   },
   "outputs": [
    {
     "name": "stdout",
     "output_type": "stream",
     "text": [
      "env: MKL_NUM_THREADS=4\n",
      "env: NUMEXPR_NUM_THREADS=4\n",
      "env: OMP_NUM_THREADS=4\n"
     ]
    }
   ],
   "source": [
    "%env MKL_NUM_THREADS=4\n",
    "%env NUMEXPR_NUM_THREADS=4\n",
    "%env OMP_NUM_THREADS=4"
   ]
  },
  {
   "cell_type": "code",
   "execution_count": 11,
   "metadata": {
    "execution": {
     "iopub.execute_input": "2022-09-14T11:39:36.935677Z",
     "iopub.status.busy": "2022-09-14T11:39:36.935502Z",
     "iopub.status.idle": "2022-09-14T11:39:38.473095Z",
     "shell.execute_reply": "2022-09-14T11:39:38.472791Z",
     "shell.execute_reply.started": "2022-09-14T11:39:36.935663Z"
    },
    "tags": []
   },
   "outputs": [
    {
     "data": {
      "text/plain": [
       "RayContext(dashboard_url='', python_version='3.9.7', ray_version='1.13.0', ray_commit='e4ce38d001dbbe09cd21c497fedd03d692b2be3e', address_info={'node_ip_address': '10.32.105.1', 'raylet_ip_address': '10.32.105.1', 'redis_address': None, 'object_store_address': '/tmp/ray/session_2022-09-14_13-38-58_920092_2985688/sockets/plasma_store', 'raylet_socket_name': '/tmp/ray/session_2022-09-14_13-38-58_920092_2985688/sockets/raylet', 'webui_url': '', 'session_dir': '/tmp/ray/session_2022-09-14_13-38-58_920092_2985688', 'metrics_export_port': 60280, 'gcs_address': '10.32.105.1:6321', 'address': '10.32.105.1:6321', 'node_id': '64476815b029341945f728072c59cbee344838e66904a349afe0b335'})"
      ]
     },
     "execution_count": 11,
     "metadata": {},
     "output_type": "execute_result"
    }
   ],
   "source": [
    "import ray\n",
    "ray.shutdown()\n",
    "#ray start --head --port=6379 --num-cpus 64\n",
    "ray.init(address='auto')\n",
    "#ray.init(num_cpus=24)#, dashboard_port=24762, dashboard_host=\"0.0.0.0\", include_dashboard=True)#, webui_url=\"0.0.0.0\"))"
   ]
  },
  {
   "cell_type": "markdown",
   "metadata": {},
   "source": [
    "# Predict COX"
   ]
  },
  {
   "cell_type": "code",
   "execution_count": 12,
   "metadata": {
    "execution": {
     "iopub.execute_input": "2022-09-14T11:39:38.473835Z",
     "iopub.status.busy": "2022-09-14T11:39:38.473729Z",
     "iopub.status.idle": "2022-09-14T11:39:38.477303Z",
     "shell.execute_reply": "2022-09-14T11:39:38.477008Z",
     "shell.execute_reply.started": "2022-09-14T11:39:38.473821Z"
    },
    "tags": []
   },
   "outputs": [],
   "source": [
    "in_path = pathlib.Path(f\"{experiment_path}/coxph/input\")\n",
    "model_path = f\"{experiment_path}/coxph/models\"\n",
    "\n",
    "out_path = f\"{experiment_path}/coxph/predictions\"\n",
    "pathlib.Path(out_path).mkdir(parents=True, exist_ok=True)"
   ]
  },
  {
   "cell_type": "code",
   "execution_count": 13,
   "metadata": {
    "execution": {
     "iopub.execute_input": "2022-09-14T11:39:38.477842Z",
     "iopub.status.busy": "2022-09-14T11:39:38.477741Z",
     "iopub.status.idle": "2022-09-14T11:39:38.490780Z",
     "shell.execute_reply": "2022-09-14T11:39:38.490488Z",
     "shell.execute_reply.started": "2022-09-14T11:39:38.477830Z"
    }
   },
   "outputs": [
    {
     "data": {
      "text/plain": [
       "PosixPath('/sc-projects/sc-proj-ukb-cvd/results/projects/22_retina_phewas/data/220812_test/coxph/input')"
      ]
     },
     "execution_count": 13,
     "metadata": {},
     "output_type": "execute_result"
    }
   ],
   "source": [
    "in_path"
   ]
  },
  {
   "cell_type": "code",
   "execution_count": 14,
   "metadata": {
    "execution": {
     "iopub.execute_input": "2022-09-14T11:39:38.491524Z",
     "iopub.status.busy": "2022-09-14T11:39:38.491218Z",
     "iopub.status.idle": "2022-09-14T11:39:38.515905Z",
     "shell.execute_reply": "2022-09-14T11:39:38.515613Z",
     "shell.execute_reply.started": "2022-09-14T11:39:38.491510Z"
    },
    "tags": []
   },
   "outputs": [
    {
     "data": {
      "text/plain": [
       "['ImageTraining_[]_ConvNeXt_MLPHead_predictions_cropratio0.66']"
      ]
     },
     "execution_count": 14,
     "metadata": {},
     "output_type": "execute_result"
    }
   ],
   "source": [
    "models = [f.name for f in in_path.iterdir() if f.is_dir() and \"ipynb_checkpoints\" not in str(f)]\n",
    "models"
   ]
  },
  {
   "cell_type": "code",
   "execution_count": 15,
   "metadata": {
    "execution": {
     "iopub.execute_input": "2022-09-14T11:39:38.516540Z",
     "iopub.status.busy": "2022-09-14T11:39:38.516321Z",
     "iopub.status.idle": "2022-09-14T11:39:38.532206Z",
     "shell.execute_reply": "2022-09-14T11:39:38.531958Z",
     "shell.execute_reply.started": "2022-09-14T11:39:38.516527Z"
    },
    "tags": []
   },
   "outputs": [],
   "source": [
    "#AgeSex = [\"age_at_recruitment_f21022_0_0\", \"sex_f31_0_0\"]"
   ]
  },
  {
   "cell_type": "code",
   "execution_count": 16,
   "metadata": {
    "execution": {
     "iopub.execute_input": "2022-09-14T11:39:38.532849Z",
     "iopub.status.busy": "2022-09-14T11:39:38.532751Z",
     "iopub.status.idle": "2022-09-14T11:39:38.587190Z",
     "shell.execute_reply": "2022-09-14T11:39:38.586856Z",
     "shell.execute_reply.started": "2022-09-14T11:39:38.532837Z"
    },
    "tags": []
   },
   "outputs": [],
   "source": [
    "from lifelines import CoxPHFitter\n",
    "from lifelines.exceptions import ConvergenceError\n",
    "import zstandard\n",
    "import pickle\n",
    "import os\n",
    "\n",
    "def get_score_defs():\n",
    "\n",
    "    with open(r'/sc-projects/sc-proj-ukb-cvd/results/projects/22_retina_phewas/data/score_definitions.yaml') as file:\n",
    "        score_defs = yaml.full_load(file)\n",
    "    \n",
    "    return score_defs\n",
    "\n",
    "def get_features(endpoint, score_defs):\n",
    "    features = {\n",
    "        model: {\n",
    "            \"Age+Sex\": score_defs[\"AgeSex\"],\n",
    "            \"Retina\": [endpoint],\n",
    "            \"SCORE2\": score_defs[\"SCORE2\"],\n",
    "            \"ASCVD\": score_defs[\"ASCVD\"],\n",
    "            \"QRISK3\": score_defs[\"QRISK3\"],\n",
    "            \"Age+Sex+Retina\": score_defs[\"AgeSex\"] + [endpoint],\n",
    "            \"SCORE2+Retina\": score_defs[\"SCORE2\"] + [endpoint],\n",
    "            \"ASCVD+Retina\": score_defs[\"ASCVD\"] + [endpoint],\n",
    "            \"QRISK3+Retina\": score_defs[\"QRISK3\"] + [endpoint],\n",
    "            }\n",
    "        for model in models}\n",
    "    return features\n",
    "\n",
    "#def get_test_data(in_path, partition, models, mapping):\n",
    "def get_test_data(in_path, partition, models):\n",
    "    data = {model: pd.read_feather(f\"{in_path}/{model}/{partition}/test.feather\").set_index(\"eid\")#.replace(mapping)\n",
    "            for model in models}\n",
    "    return data\n",
    "    #left_data = {model: pd.read_feather(f\"{in_path}/{model}/{partition}/test_left.feather\").set_index(\"eid\").replace(mapping)for model in models}\n",
    "    #right_data = {model: pd.read_feather(f\"{in_path}/{model}/{partition}/test_right.feather\").set_index(\"eid\").replace(mapping)for model in models}\n",
    "    #return (left_data, right_data)\n",
    "            \n",
    "def load_pickle(fp):\n",
    "    with open(fp, \"rb\") as fh:\n",
    "        dctx = zstandard.ZstdDecompressor()\n",
    "        with dctx.stream_reader(fh) as decompressor:\n",
    "            data = pickle.loads(decompressor.read())\n",
    "    return data\n",
    "\n",
    "def predict_cox(cph, data_endpoint, endpoint, feature_set, partition, pred_path, model):\n",
    "    times = [1, 2, 3, 4, 5, 6, 7, 8, 9, 10, 11, 12, 13, 14, 15]\n",
    "    time_cols = {t: f\"Ft_{t}\" for t in times}\n",
    "    \n",
    "    if feature_set==\"Age+Sex+MedicalHistory+I(Age*MH)\":\n",
    "        data_endpoint.columns = [c.replace(\"-\", \"\") for c in data_endpoint.columns]\n",
    "    \n",
    "    surv_test = 1-cph.predict_survival_function(data_endpoint, times=times)\n",
    "    temp_pred = data_endpoint.reset_index()[[\"eid\"]].assign(endpoint=endpoint, features=feature_set, partition=partition)\n",
    "    for t, col in time_cols.items(): \n",
    "        temp_pred[col] = surv_test.T[t].to_list()\n",
    "    \n",
    "    temp_pred.to_feather(f\"{out_path}/{endpoint}_{feature_set}_{model}_{partition}.feather\") \n",
    "\n",
    "# for both eyes\n",
    "def predict_cox_both_eyes(cph, data_endpoint_left, data_endpoint_right, endpoint, feature_set, partition, pred_path):\n",
    "    times = [1, 2, 3, 4, 5, 6, 7, 8, 9, 10, 11, 12, 13, 14, 15]\n",
    "    time_cols = {t: f\"Ft_{t}\" for t in times}\n",
    "    \n",
    "    if feature_set==\"Age+Sex+MedicalHistory+I(Age*MH)\":\n",
    "        data_endpoint_left.columns = [c.replace(\"-\", \"\") for c in data_endpoint_left.columns]\n",
    "        data_endpoint_right.columns = [c.replace(\"-\", \"\") for c in data_endpoint_right.columns]\n",
    "\n",
    "    # left eye\n",
    "    surv_test_left = 1-cph.predict_survival_function(data_endpoint_left, times=times)\n",
    "    temp_pred_left = data_endpoint_left.reset_index()[[\"eid\"]].assign(endpoint=endpoint, features=feature_set, partition=partition)\n",
    "    for t, col in time_cols.items(): \n",
    "        temp_pred_left[col] = surv_test_left.T[t].to_list()\n",
    "    \n",
    "    temp_pred_left.to_feather(f\"{out_path}/{endpoint}_{feature_set}_{partition}_left.feather\")\n",
    "    \n",
    "    # right eye\n",
    "    surv_test_right = 1-cph.predict_survival_function(data_endpoint_right, times=times)\n",
    "    temp_pred_right = data_endpoint_right.reset_index()[[\"eid\"]].assign(endpoint=endpoint, features=feature_set, partition=partition)\n",
    "    for t, col in time_cols.items(): \n",
    "        temp_pred_right[col] = surv_test_right.T[t].to_list()\n",
    "    \n",
    "    temp_pred_right.to_feather(f\"{out_path}/{endpoint}_{feature_set}_{partition}_right.feather\")\n",
    "    \n",
    "    # mean both eyes\n",
    "    eids = list(surv_test_left.columns.values)\n",
    "    surv_test_mean = pd.concat((surv_test_left, surv_test_right), axis=1)\n",
    "    surv_test_mean.columns = [f'{col}_left' for col in list(surv_test_left.columns.values)] + [f'{col}_right' for col in list(surv_test_right.columns.values)]\n",
    "    for eid in eids:\n",
    "        eid_columns = [col for col in list(surv_test_mean.columns.values) if str(eid) in col]\n",
    "        surv_test_mean[f'{eid}_mean'] = surv_test_mean[eid_columns].mean(axis=1)\n",
    "    surv_test_mean = surv_test_mean[[col for col in list(surv_test_mean.columns.values) if 'mean' in col]].rename(columns={col: col.replace('_mean', '') for col in list(surv_test_mean.columns.values)})\n",
    "    \n",
    "    temp_pred_mean = data_endpoint_left.reset_index()[[\"eid\"]].assign(endpoint=endpoint, features=feature_set, partition=partition)\n",
    "    for t, col in time_cols.items(): \n",
    "        temp_pred_mean[col] = surv_test_mean.T[t].to_list()\n",
    "     \n",
    "    temp_pred_mean.to_feather(f\"{out_path}/{endpoint}_{feature_set}_{partition}_mean.feather\")\n",
    "\n",
    "@ray.remote\n",
    "def predict_endpoint(data_partition, eids_dict, endpoint, partition, models, features, model_path, out_path):\n",
    "    #data_partition_left, data_partition_right = data_partition\n",
    "    eids_incl = eids_dict[endpoint].tolist()\n",
    "    results = []\n",
    "    for model in models:\n",
    "        data_model = data_partition[model]\n",
    "        #data_model_left = data_partition_left[model]\n",
    "        #data_model_right = data_partition_right[model]\n",
    "        for feature_set, covariates in features[model].items():\n",
    "            identifier = f\"{endpoint}_{feature_set}_{model}_{partition}\"\n",
    "            pred_path = f\"{out_path}/{identifier}.feather\"\n",
    "            if not os.path.isfile(pred_path):\n",
    "                try:\n",
    "                    cph = load_pickle(f\"{model_path}/{identifier}.p\")\n",
    "                    data_endpoint = data_model[data_model.index.isin(eids_incl)]\n",
    "                    #data_endpoint_left = data_model_left[data_model_left.index.isin(eids_incl)]\n",
    "                    #data_endpoint_right = data_model_right[data_model_right.index.isin(eids_incl)]\n",
    "                    predict_cox(cph, data_endpoint, endpoint, feature_set, partition, pred_path, model)\n",
    "                    #predict_cox_both_eyes(cph, data_endpoint_left, data_endpoint_right, endpoint, feature_set, partition, pred_path)\n",
    "                except FileNotFoundErrorundError:\n",
    "                    print(f\"{identifier} not available\")\n",
    "    return True"
   ]
  },
  {
   "cell_type": "raw",
   "metadata": {
    "tags": []
   },
   "source": [
    "#### TEST ####\n",
    "\n",
    "mapping = {\"sex_f31_0_0\": {\"Female\":0, \"Male\":1}}\n",
    "\n",
    "for partition in tqdm([0]): # in tqdm(partitions) # TODO: CHANGE!\n",
    "    try:\n",
    "        data_partition_left, data_partition_right = get_test_data(in_path, partition, models, mapping)\n",
    "        for endpoint in tqdm(endpoints):\n",
    "            print('NEXT ENDPOINT:',endpoint)\n",
    "            features = get_features(endpoint)\n",
    "            if endpoint not in endpoints_not_overlapping_with_preds: # double check if this works as expected\n",
    "                predict_endpoint((data_partition_left, data_partition_right), eids_dict, endpoint, partition, models, features, model_path, out_path)\n",
    "            else:\n",
    "                print('überspringe', endpoint)\n",
    "    except FileNotFoundError:\n",
    "        print('file not found')\n",
    "        pass"
   ]
  },
  {
   "cell_type": "code",
   "execution_count": 17,
   "metadata": {
    "execution": {
     "iopub.execute_input": "2022-09-14T11:39:38.587785Z",
     "iopub.status.busy": "2022-09-14T11:39:38.587688Z",
     "iopub.status.idle": "2022-09-14T11:58:50.150642Z",
     "shell.execute_reply": "2022-09-14T11:58:50.150041Z",
     "shell.execute_reply.started": "2022-09-14T11:39:38.587773Z"
    }
   },
   "outputs": [
    {
     "data": {
      "application/vnd.jupyter.widget-view+json": {
       "model_id": "2f13d65f15b549789632f9729df9f360",
       "version_major": 2,
       "version_minor": 0
      },
      "text/plain": [
       "  0%|          | 0/22 [00:00<?, ?it/s]"
      ]
     },
     "metadata": {},
     "output_type": "display_data"
    },
    {
     "name": "stdout",
     "output_type": "stream",
     "text": [
      "Ray object not yet initialised\n"
     ]
    },
    {
     "data": {
      "application/vnd.jupyter.widget-view+json": {
       "model_id": "8bec8cf0d0014bb2b90fbdf67184bf7f",
       "version_major": 2,
       "version_minor": 0
      },
      "text/plain": [
       "  0%|          | 0/1171 [00:00<?, ?it/s]"
      ]
     },
     "metadata": {},
     "output_type": "display_data"
    },
    {
     "name": "stderr",
     "output_type": "stream",
     "text": [
      "\u001b[2m\u001b[33m(raylet)\u001b[0m [2022-09-14 13:40:53,230 E 2985751 2985751] (raylet) worker_pool.cc:502: Some workers of the worker process(2993584) have not registered within the timeout. The process is still alive, probably it's hanging during start.\n",
      "\u001b[2m\u001b[33m(raylet)\u001b[0m [2022-09-14 13:40:53,232 E 2985751 2985751] (raylet) worker_pool.cc:502: Some workers of the worker process(2993591) have not registered within the timeout. The process is still alive, probably it's hanging during start.\n",
      "\u001b[2m\u001b[33m(raylet)\u001b[0m [2022-09-14 13:40:53,235 E 2985751 2985751] (raylet) worker_pool.cc:502: Some workers of the worker process(2993596) have not registered within the timeout. The process is still alive, probably it's hanging during start.\n",
      "\u001b[2m\u001b[33m(raylet)\u001b[0m [2022-09-14 13:40:53,237 E 2985751 2985751] (raylet) worker_pool.cc:502: Some workers of the worker process(2993598) have not registered within the timeout. The process is still alive, probably it's hanging during start.\n",
      "\u001b[2m\u001b[33m(raylet)\u001b[0m [2022-09-14 13:40:53,239 E 2985751 2985751] (raylet) worker_pool.cc:502: Some workers of the worker process(2993599) have not registered within the timeout. The process is still alive, probably it's hanging during start.\n",
      "\u001b[2m\u001b[33m(raylet)\u001b[0m [2022-09-14 13:40:53,242 E 2985751 2985751] (raylet) worker_pool.cc:502: Some workers of the worker process(2993602) have not registered within the timeout. The process is still alive, probably it's hanging during start.\n",
      "\u001b[2m\u001b[33m(raylet)\u001b[0m [2022-09-14 13:40:53,244 E 2985751 2985751] (raylet) worker_pool.cc:502: Some workers of the worker process(2993604) have not registered within the timeout. The process is still alive, probably it's hanging during start.\n",
      "\u001b[2m\u001b[33m(raylet)\u001b[0m [2022-09-14 13:40:53,246 E 2985751 2985751] (raylet) worker_pool.cc:502: Some workers of the worker process(2993622) have not registered within the timeout. The process is still alive, probably it's hanging during start.\n",
      "\u001b[2m\u001b[33m(raylet)\u001b[0m [2022-09-14 13:40:53,249 E 2985751 2985751] (raylet) worker_pool.cc:502: Some workers of the worker process(2993628) have not registered within the timeout. The process is still alive, probably it's hanging during start.\n",
      "\u001b[2m\u001b[33m(raylet)\u001b[0m [2022-09-14 13:40:53,253 E 2985751 2985751] (raylet) worker_pool.cc:502: Some workers of the worker process(2993632) have not registered within the timeout. The process is still alive, probably it's hanging during start.\n",
      "\u001b[2m\u001b[33m(raylet)\u001b[0m [2022-09-14 13:40:53,257 E 2985751 2985751] (raylet) worker_pool.cc:502: Some workers of the worker process(2993633) have not registered within the timeout. The process is still alive, probably it's hanging during start.\n",
      "\u001b[2m\u001b[33m(raylet)\u001b[0m [2022-09-14 13:40:53,261 E 2985751 2985751] (raylet) worker_pool.cc:502: Some workers of the worker process(2993637) have not registered within the timeout. The process is still alive, probably it's hanging during start.\n",
      "\u001b[2m\u001b[33m(raylet)\u001b[0m [2022-09-14 13:40:53,265 E 2985751 2985751] (raylet) worker_pool.cc:502: Some workers of the worker process(2993642) have not registered within the timeout. The process is still alive, probably it's hanging during start.\n",
      "\u001b[2m\u001b[33m(raylet)\u001b[0m [2022-09-14 13:40:53,268 E 2985751 2985751] (raylet) worker_pool.cc:502: Some workers of the worker process(2993663) have not registered within the timeout. The process is still alive, probably it's hanging during start.\n",
      "\u001b[2m\u001b[33m(raylet)\u001b[0m [2022-09-14 13:40:53,272 E 2985751 2985751] (raylet) worker_pool.cc:502: Some workers of the worker process(2993685) have not registered within the timeout. The process is still alive, probably it's hanging during start.\n",
      "\u001b[2m\u001b[33m(raylet)\u001b[0m [2022-09-14 13:40:53,275 E 2985751 2985751] (raylet) worker_pool.cc:502: Some workers of the worker process(2993686) have not registered within the timeout. The process is still alive, probably it's hanging during start.\n",
      "\u001b[2m\u001b[33m(raylet)\u001b[0m [2022-09-14 13:40:53,279 E 2985751 2985751] (raylet) worker_pool.cc:502: Some workers of the worker process(2993687) have not registered within the timeout. The process is still alive, probably it's hanging during start.\n",
      "\u001b[2m\u001b[33m(raylet)\u001b[0m [2022-09-14 13:40:53,282 E 2985751 2985751] (raylet) worker_pool.cc:502: Some workers of the worker process(2993688) have not registered within the timeout. The process is still alive, probably it's hanging during start.\n",
      "\u001b[2m\u001b[33m(raylet)\u001b[0m [2022-09-14 13:40:53,286 E 2985751 2985751] (raylet) worker_pool.cc:502: Some workers of the worker process(2993689) have not registered within the timeout. The process is still alive, probably it's hanging during start.\n",
      "\u001b[2m\u001b[33m(raylet)\u001b[0m [2022-09-14 13:40:53,289 E 2985751 2985751] (raylet) worker_pool.cc:502: Some workers of the worker process(2993690) have not registered within the timeout. The process is still alive, probably it's hanging during start.\n",
      "\u001b[2m\u001b[33m(raylet)\u001b[0m [2022-09-14 13:40:53,293 E 2985751 2985751] (raylet) worker_pool.cc:502: Some workers of the worker process(2993691) have not registered within the timeout. The process is still alive, probably it's hanging during start.\n",
      "\u001b[2m\u001b[33m(raylet)\u001b[0m [2022-09-14 13:40:53,296 E 2985751 2985751] (raylet) worker_pool.cc:502: Some workers of the worker process(2993692) have not registered within the timeout. The process is still alive, probably it's hanging during start.\n",
      "\u001b[2m\u001b[33m(raylet)\u001b[0m [2022-09-14 13:40:53,300 E 2985751 2985751] (raylet) worker_pool.cc:502: Some workers of the worker process(2993693) have not registered within the timeout. The process is still alive, probably it's hanging during start.\n",
      "\u001b[2m\u001b[33m(raylet)\u001b[0m [2022-09-14 13:40:53,303 E 2985751 2985751] (raylet) worker_pool.cc:502: Some workers of the worker process(2993694) have not registered within the timeout. The process is still alive, probably it's hanging during start.\n",
      "\u001b[2m\u001b[33m(raylet)\u001b[0m [2022-09-14 13:40:53,307 E 2985751 2985751] (raylet) worker_pool.cc:502: Some workers of the worker process(2993695) have not registered within the timeout. The process is still alive, probably it's hanging during start.\n",
      "\u001b[2m\u001b[33m(raylet)\u001b[0m [2022-09-14 13:40:53,310 E 2985751 2985751] (raylet) worker_pool.cc:502: Some workers of the worker process(2993696) have not registered within the timeout. The process is still alive, probably it's hanging during start.\n",
      "\u001b[2m\u001b[33m(raylet)\u001b[0m [2022-09-14 13:40:53,314 E 2985751 2985751] (raylet) worker_pool.cc:502: Some workers of the worker process(2993697) have not registered within the timeout. The process is still alive, probably it's hanging during start.\n",
      "\u001b[2m\u001b[33m(raylet)\u001b[0m [2022-09-14 13:40:53,317 E 2985751 2985751] (raylet) worker_pool.cc:502: Some workers of the worker process(2993698) have not registered within the timeout. The process is still alive, probably it's hanging during start.\n",
      "\u001b[2m\u001b[33m(raylet)\u001b[0m [2022-09-14 13:40:53,321 E 2985751 2985751] (raylet) worker_pool.cc:502: Some workers of the worker process(2993699) have not registered within the timeout. The process is still alive, probably it's hanging during start.\n",
      "\u001b[2m\u001b[33m(raylet)\u001b[0m [2022-09-14 13:40:53,324 E 2985751 2985751] (raylet) worker_pool.cc:502: Some workers of the worker process(2993700) have not registered within the timeout. The process is still alive, probably it's hanging during start.\n",
      "\u001b[2m\u001b[33m(raylet)\u001b[0m [2022-09-14 13:40:53,328 E 2985751 2985751] (raylet) worker_pool.cc:502: Some workers of the worker process(2993701) have not registered within the timeout. The process is still alive, probably it's hanging during start.\n",
      "\u001b[2m\u001b[33m(raylet)\u001b[0m [2022-09-14 13:40:53,331 E 2985751 2985751] (raylet) worker_pool.cc:502: Some workers of the worker process(2993702) have not registered within the timeout. The process is still alive, probably it's hanging during start.\n",
      "\u001b[2m\u001b[33m(raylet)\u001b[0m [2022-09-14 13:40:53,335 E 2985751 2985751] (raylet) worker_pool.cc:502: Some workers of the worker process(2993703) have not registered within the timeout. The process is still alive, probably it's hanging during start.\n",
      "\u001b[2m\u001b[33m(raylet)\u001b[0m [2022-09-14 13:40:53,338 E 2985751 2985751] (raylet) worker_pool.cc:502: Some workers of the worker process(2993704) have not registered within the timeout. The process is still alive, probably it's hanging during start.\n",
      "\u001b[2m\u001b[33m(raylet)\u001b[0m [2022-09-14 13:40:53,341 E 2985751 2985751] (raylet) worker_pool.cc:502: Some workers of the worker process(2993705) have not registered within the timeout. The process is still alive, probably it's hanging during start.\n",
      "\u001b[2m\u001b[33m(raylet)\u001b[0m [2022-09-14 13:40:53,345 E 2985751 2985751] (raylet) worker_pool.cc:502: Some workers of the worker process(2993706) have not registered within the timeout. The process is still alive, probably it's hanging during start.\n",
      "\u001b[2m\u001b[33m(raylet)\u001b[0m [2022-09-14 13:40:53,348 E 2985751 2985751] (raylet) worker_pool.cc:502: Some workers of the worker process(2993707) have not registered within the timeout. The process is still alive, probably it's hanging during start.\n",
      "\u001b[2m\u001b[33m(raylet)\u001b[0m [2022-09-14 13:40:53,351 E 2985751 2985751] (raylet) worker_pool.cc:502: Some workers of the worker process(2993708) have not registered within the timeout. The process is still alive, probably it's hanging during start.\n",
      "\u001b[2m\u001b[33m(raylet)\u001b[0m [2022-09-14 13:40:53,355 E 2985751 2985751] (raylet) worker_pool.cc:502: Some workers of the worker process(2993709) have not registered within the timeout. The process is still alive, probably it's hanging during start.\n",
      "\u001b[2m\u001b[33m(raylet)\u001b[0m [2022-09-14 13:40:53,358 E 2985751 2985751] (raylet) worker_pool.cc:502: Some workers of the worker process(2993710) have not registered within the timeout. The process is still alive, probably it's hanging during start.\n",
      "\u001b[2m\u001b[33m(raylet)\u001b[0m [2022-09-14 13:40:53,362 E 2985751 2985751] (raylet) worker_pool.cc:502: Some workers of the worker process(2993711) have not registered within the timeout. The process is still alive, probably it's hanging during start.\n",
      "\u001b[2m\u001b[33m(raylet)\u001b[0m [2022-09-14 13:40:53,365 E 2985751 2985751] (raylet) worker_pool.cc:502: Some workers of the worker process(2993712) have not registered within the timeout. The process is still alive, probably it's hanging during start.\n",
      "\u001b[2m\u001b[33m(raylet)\u001b[0m [2022-09-14 13:40:53,368 E 2985751 2985751] (raylet) worker_pool.cc:502: Some workers of the worker process(2993713) have not registered within the timeout. The process is still alive, probably it's hanging during start.\n",
      "\u001b[2m\u001b[33m(raylet)\u001b[0m [2022-09-14 13:40:53,392 E 2985751 2985751] (raylet) worker_pool.cc:502: Some workers of the worker process(2993714) have not registered within the timeout. The process is still alive, probably it's hanging during start.\n",
      "\u001b[2m\u001b[33m(raylet)\u001b[0m [2022-09-14 13:40:53,395 E 2985751 2985751] (raylet) worker_pool.cc:502: Some workers of the worker process(2993715) have not registered within the timeout. The process is still alive, probably it's hanging during start.\n",
      "\u001b[2m\u001b[33m(raylet)\u001b[0m [2022-09-14 13:40:53,403 E 2985751 2985751] (raylet) worker_pool.cc:502: Some workers of the worker process(2993716) have not registered within the timeout. The process is still alive, probably it's hanging during start.\n",
      "\u001b[2m\u001b[33m(raylet)\u001b[0m [2022-09-14 13:40:53,409 E 2985751 2985751] (raylet) worker_pool.cc:502: Some workers of the worker process(2993717) have not registered within the timeout. The process is still alive, probably it's hanging during start.\n",
      "\u001b[2m\u001b[33m(raylet)\u001b[0m [2022-09-14 13:40:53,412 E 2985751 2985751] (raylet) worker_pool.cc:502: Some workers of the worker process(2993718) have not registered within the timeout. The process is still alive, probably it's hanging during start.\n",
      "\u001b[2m\u001b[33m(raylet)\u001b[0m [2022-09-14 13:40:53,415 E 2985751 2985751] (raylet) worker_pool.cc:502: Some workers of the worker process(2993719) have not registered within the timeout. The process is still alive, probably it's hanging during start.\n",
      "\u001b[2m\u001b[33m(raylet)\u001b[0m [2022-09-14 13:40:53,418 E 2985751 2985751] (raylet) worker_pool.cc:502: Some workers of the worker process(2993720) have not registered within the timeout. The process is still alive, probably it's hanging during start.\n",
      "\u001b[2m\u001b[33m(raylet)\u001b[0m [2022-09-14 13:40:53,420 E 2985751 2985751] (raylet) worker_pool.cc:502: Some workers of the worker process(2993721) have not registered within the timeout. The process is still alive, probably it's hanging during start.\n",
      "\u001b[2m\u001b[33m(raylet)\u001b[0m [2022-09-14 13:40:53,423 E 2985751 2985751] (raylet) worker_pool.cc:502: Some workers of the worker process(2993722) have not registered within the timeout. The process is still alive, probably it's hanging during start.\n",
      "\u001b[2m\u001b[33m(raylet)\u001b[0m [2022-09-14 13:40:53,427 E 2985751 2985751] (raylet) worker_pool.cc:502: Some workers of the worker process(2993723) have not registered within the timeout. The process is still alive, probably it's hanging during start.\n",
      "\u001b[2m\u001b[33m(raylet)\u001b[0m [2022-09-14 13:40:53,430 E 2985751 2985751] (raylet) worker_pool.cc:502: Some workers of the worker process(2993724) have not registered within the timeout. The process is still alive, probably it's hanging during start.\n",
      "\u001b[2m\u001b[33m(raylet)\u001b[0m [2022-09-14 13:40:53,433 E 2985751 2985751] (raylet) worker_pool.cc:502: Some workers of the worker process(2993725) have not registered within the timeout. The process is still alive, probably it's hanging during start.\n",
      "\u001b[2m\u001b[33m(raylet)\u001b[0m [2022-09-14 13:40:53,436 E 2985751 2985751] (raylet) worker_pool.cc:502: Some workers of the worker process(2993726) have not registered within the timeout. The process is still alive, probably it's hanging during start.\n",
      "\u001b[2m\u001b[33m(raylet)\u001b[0m [2022-09-14 13:40:53,439 E 2985751 2985751] (raylet) worker_pool.cc:502: Some workers of the worker process(2993727) have not registered within the timeout. The process is still alive, probably it's hanging during start.\n",
      "\u001b[2m\u001b[33m(raylet)\u001b[0m [2022-09-14 13:40:53,442 E 2985751 2985751] (raylet) worker_pool.cc:502: Some workers of the worker process(2993728) have not registered within the timeout. The process is still alive, probably it's hanging during start.\n",
      "\u001b[2m\u001b[33m(raylet)\u001b[0m [2022-09-14 13:40:53,446 E 2985751 2985751] (raylet) worker_pool.cc:502: Some workers of the worker process(2993729) have not registered within the timeout. The process is still alive, probably it's hanging during start.\n",
      "\u001b[2m\u001b[33m(raylet)\u001b[0m [2022-09-14 13:42:07,681 E 2985751 2985751] (raylet) worker_pool.cc:502: Some workers of the worker process(2994287) have not registered within the timeout. The process is still alive, probably it's hanging during start.\n",
      "\u001b[2m\u001b[33m(raylet)\u001b[0m [2022-09-14 13:42:07,687 E 2985751 2985751] (raylet) worker_pool.cc:502: Some workers of the worker process(2994297) have not registered within the timeout. The process is still alive, probably it's hanging during start.\n",
      "\u001b[2m\u001b[33m(raylet)\u001b[0m [2022-09-14 13:42:07,688 E 2985751 2985751] (raylet) worker_pool.cc:502: Some workers of the worker process(2994314) have not registered within the timeout. The process is still alive, probably it's hanging during start.\n",
      "\u001b[2m\u001b[33m(raylet)\u001b[0m [2022-09-14 13:42:07,691 E 2985751 2985751] (raylet) worker_pool.cc:502: Some workers of the worker process(2994326) have not registered within the timeout. The process is still alive, probably it's hanging during start.\n",
      "\u001b[2m\u001b[33m(raylet)\u001b[0m [2022-09-14 13:42:07,693 E 2985751 2985751] (raylet) worker_pool.cc:502: Some workers of the worker process(2994334) have not registered within the timeout. The process is still alive, probably it's hanging during start.\n",
      "\u001b[2m\u001b[33m(raylet)\u001b[0m [2022-09-14 13:42:07,696 E 2985751 2985751] (raylet) worker_pool.cc:502: Some workers of the worker process(2994337) have not registered within the timeout. The process is still alive, probably it's hanging during start.\n",
      "\u001b[2m\u001b[33m(raylet)\u001b[0m [2022-09-14 13:42:07,699 E 2985751 2985751] (raylet) worker_pool.cc:502: Some workers of the worker process(2994340) have not registered within the timeout. The process is still alive, probably it's hanging during start.\n",
      "\u001b[2m\u001b[33m(raylet)\u001b[0m [2022-09-14 13:42:07,701 E 2985751 2985751] (raylet) worker_pool.cc:502: Some workers of the worker process(2994341) have not registered within the timeout. The process is still alive, probably it's hanging during start.\n",
      "\u001b[2m\u001b[33m(raylet)\u001b[0m [2022-09-14 13:42:07,704 E 2985751 2985751] (raylet) worker_pool.cc:502: Some workers of the worker process(2994342) have not registered within the timeout. The process is still alive, probably it's hanging during start.\n",
      "\u001b[2m\u001b[33m(raylet)\u001b[0m [2022-09-14 13:42:07,706 E 2985751 2985751] (raylet) worker_pool.cc:502: Some workers of the worker process(2994345) have not registered within the timeout. The process is still alive, probably it's hanging during start.\n",
      "\u001b[2m\u001b[33m(raylet)\u001b[0m [2022-09-14 13:42:07,709 E 2985751 2985751] (raylet) worker_pool.cc:502: Some workers of the worker process(2994352) have not registered within the timeout. The process is still alive, probably it's hanging during start.\n",
      "\u001b[2m\u001b[33m(raylet)\u001b[0m [2022-09-14 13:42:07,711 E 2985751 2985751] (raylet) worker_pool.cc:502: Some workers of the worker process(2994354) have not registered within the timeout. The process is still alive, probably it's hanging during start.\n",
      "\u001b[2m\u001b[33m(raylet)\u001b[0m [2022-09-14 13:42:07,713 E 2985751 2985751] (raylet) worker_pool.cc:502: Some workers of the worker process(2994355) have not registered within the timeout. The process is still alive, probably it's hanging during start.\n",
      "\u001b[2m\u001b[33m(raylet)\u001b[0m [2022-09-14 13:42:07,716 E 2985751 2985751] (raylet) worker_pool.cc:502: Some workers of the worker process(2994356) have not registered within the timeout. The process is still alive, probably it's hanging during start.\n",
      "\u001b[2m\u001b[33m(raylet)\u001b[0m [2022-09-14 13:42:07,718 E 2985751 2985751] (raylet) worker_pool.cc:502: Some workers of the worker process(2994357) have not registered within the timeout. The process is still alive, probably it's hanging during start.\n",
      "\u001b[2m\u001b[33m(raylet)\u001b[0m [2022-09-14 13:42:07,721 E 2985751 2985751] (raylet) worker_pool.cc:502: Some workers of the worker process(2994358) have not registered within the timeout. The process is still alive, probably it's hanging during start.\n",
      "\u001b[2m\u001b[33m(raylet)\u001b[0m [2022-09-14 13:42:07,723 E 2985751 2985751] (raylet) worker_pool.cc:502: Some workers of the worker process(2994359) have not registered within the timeout. The process is still alive, probably it's hanging during start.\n",
      "\u001b[2m\u001b[33m(raylet)\u001b[0m [2022-09-14 13:42:07,725 E 2985751 2985751] (raylet) worker_pool.cc:502: Some workers of the worker process(2994360) have not registered within the timeout. The process is still alive, probably it's hanging during start.\n",
      "\u001b[2m\u001b[33m(raylet)\u001b[0m [2022-09-14 13:42:07,728 E 2985751 2985751] (raylet) worker_pool.cc:502: Some workers of the worker process(2994361) have not registered within the timeout. The process is still alive, probably it's hanging during start.\n",
      "\u001b[2m\u001b[33m(raylet)\u001b[0m [2022-09-14 13:42:07,730 E 2985751 2985751] (raylet) worker_pool.cc:502: Some workers of the worker process(2994362) have not registered within the timeout. The process is still alive, probably it's hanging during start.\n",
      "\u001b[2m\u001b[33m(raylet)\u001b[0m [2022-09-14 13:42:07,733 E 2985751 2985751] (raylet) worker_pool.cc:502: Some workers of the worker process(2994364) have not registered within the timeout. The process is still alive, probably it's hanging during start.\n",
      "\u001b[2m\u001b[33m(raylet)\u001b[0m [2022-09-14 13:42:07,736 E 2985751 2985751] (raylet) worker_pool.cc:502: Some workers of the worker process(2994368) have not registered within the timeout. The process is still alive, probably it's hanging during start.\n",
      "\u001b[2m\u001b[33m(raylet)\u001b[0m [2022-09-14 13:42:07,740 E 2985751 2985751] (raylet) worker_pool.cc:502: Some workers of the worker process(2994383) have not registered within the timeout. The process is still alive, probably it's hanging during start.\n",
      "\u001b[2m\u001b[33m(raylet)\u001b[0m [2022-09-14 13:42:07,744 E 2985751 2985751] (raylet) worker_pool.cc:502: Some workers of the worker process(2994384) have not registered within the timeout. The process is still alive, probably it's hanging during start.\n",
      "\u001b[2m\u001b[33m(raylet)\u001b[0m [2022-09-14 13:42:07,748 E 2985751 2985751] (raylet) worker_pool.cc:502: Some workers of the worker process(2994385) have not registered within the timeout. The process is still alive, probably it's hanging during start.\n",
      "\u001b[2m\u001b[33m(raylet)\u001b[0m [2022-09-14 13:42:07,752 E 2985751 2985751] (raylet) worker_pool.cc:502: Some workers of the worker process(2994386) have not registered within the timeout. The process is still alive, probably it's hanging during start.\n",
      "\u001b[2m\u001b[33m(raylet)\u001b[0m [2022-09-14 13:42:07,756 E 2985751 2985751] (raylet) worker_pool.cc:502: Some workers of the worker process(2994387) have not registered within the timeout. The process is still alive, probably it's hanging during start.\n",
      "\u001b[2m\u001b[33m(raylet)\u001b[0m [2022-09-14 13:42:07,760 E 2985751 2985751] (raylet) worker_pool.cc:502: Some workers of the worker process(2994390) have not registered within the timeout. The process is still alive, probably it's hanging during start.\n",
      "\u001b[2m\u001b[33m(raylet)\u001b[0m [2022-09-14 13:42:07,763 E 2985751 2985751] (raylet) worker_pool.cc:502: Some workers of the worker process(2994398) have not registered within the timeout. The process is still alive, probably it's hanging during start.\n",
      "\u001b[2m\u001b[33m(raylet)\u001b[0m [2022-09-14 13:42:07,767 E 2985751 2985751] (raylet) worker_pool.cc:502: Some workers of the worker process(2994399) have not registered within the timeout. The process is still alive, probably it's hanging during start.\n",
      "\u001b[2m\u001b[33m(raylet)\u001b[0m [2022-09-14 13:42:07,770 E 2985751 2985751] (raylet) worker_pool.cc:502: Some workers of the worker process(2994400) have not registered within the timeout. The process is still alive, probably it's hanging during start.\n",
      "\u001b[2m\u001b[33m(raylet)\u001b[0m [2022-09-14 13:42:07,774 E 2985751 2985751] (raylet) worker_pool.cc:502: Some workers of the worker process(2994401) have not registered within the timeout. The process is still alive, probably it's hanging during start.\n",
      "\u001b[2m\u001b[33m(raylet)\u001b[0m [2022-09-14 13:42:07,778 E 2985751 2985751] (raylet) worker_pool.cc:502: Some workers of the worker process(2994402) have not registered within the timeout. The process is still alive, probably it's hanging during start.\n",
      "\u001b[2m\u001b[33m(raylet)\u001b[0m [2022-09-14 13:42:07,781 E 2985751 2985751] (raylet) worker_pool.cc:502: Some workers of the worker process(2994403) have not registered within the timeout. The process is still alive, probably it's hanging during start.\n",
      "\u001b[2m\u001b[33m(raylet)\u001b[0m [2022-09-14 13:42:07,789 E 2985751 2985751] (raylet) worker_pool.cc:502: Some workers of the worker process(2994404) have not registered within the timeout. The process is still alive, probably it's hanging during start.\n",
      "\u001b[2m\u001b[33m(raylet)\u001b[0m [2022-09-14 13:42:07,794 E 2985751 2985751] (raylet) worker_pool.cc:502: Some workers of the worker process(2994405) have not registered within the timeout. The process is still alive, probably it's hanging during start.\n",
      "\u001b[2m\u001b[33m(raylet)\u001b[0m [2022-09-14 13:42:07,798 E 2985751 2985751] (raylet) worker_pool.cc:502: Some workers of the worker process(2994406) have not registered within the timeout. The process is still alive, probably it's hanging during start.\n",
      "\u001b[2m\u001b[33m(raylet)\u001b[0m [2022-09-14 13:42:07,802 E 2985751 2985751] (raylet) worker_pool.cc:502: Some workers of the worker process(2994407) have not registered within the timeout. The process is still alive, probably it's hanging during start.\n",
      "\u001b[2m\u001b[33m(raylet)\u001b[0m [2022-09-14 13:42:07,805 E 2985751 2985751] (raylet) worker_pool.cc:502: Some workers of the worker process(2994408) have not registered within the timeout. The process is still alive, probably it's hanging during start.\n",
      "\u001b[2m\u001b[33m(raylet)\u001b[0m [2022-09-14 13:42:07,809 E 2985751 2985751] (raylet) worker_pool.cc:502: Some workers of the worker process(2994409) have not registered within the timeout. The process is still alive, probably it's hanging during start.\n",
      "\u001b[2m\u001b[33m(raylet)\u001b[0m [2022-09-14 13:42:07,812 E 2985751 2985751] (raylet) worker_pool.cc:502: Some workers of the worker process(2994410) have not registered within the timeout. The process is still alive, probably it's hanging during start.\n",
      "\u001b[2m\u001b[33m(raylet)\u001b[0m [2022-09-14 13:42:07,816 E 2985751 2985751] (raylet) worker_pool.cc:502: Some workers of the worker process(2994411) have not registered within the timeout. The process is still alive, probably it's hanging during start.\n",
      "\u001b[2m\u001b[33m(raylet)\u001b[0m [2022-09-14 13:42:07,820 E 2985751 2985751] (raylet) worker_pool.cc:502: Some workers of the worker process(2994412) have not registered within the timeout. The process is still alive, probably it's hanging during start.\n",
      "\u001b[2m\u001b[33m(raylet)\u001b[0m [2022-09-14 13:42:07,826 E 2985751 2985751] (raylet) worker_pool.cc:502: Some workers of the worker process(2994413) have not registered within the timeout. The process is still alive, probably it's hanging during start.\n",
      "\u001b[2m\u001b[33m(raylet)\u001b[0m [2022-09-14 13:42:07,899 E 2985751 2985751] (raylet) worker_pool.cc:502: Some workers of the worker process(2994414) have not registered within the timeout. The process is still alive, probably it's hanging during start.\n",
      "\u001b[2m\u001b[33m(raylet)\u001b[0m [2022-09-14 13:42:07,900 E 2985751 2985751] (raylet) worker_pool.cc:502: Some workers of the worker process(2994415) have not registered within the timeout. The process is still alive, probably it's hanging during start.\n",
      "\u001b[2m\u001b[33m(raylet)\u001b[0m [2022-09-14 13:42:07,900 E 2985751 2985751] (raylet) worker_pool.cc:502: Some workers of the worker process(2994416) have not registered within the timeout. The process is still alive, probably it's hanging during start.\n",
      "\u001b[2m\u001b[33m(raylet)\u001b[0m [2022-09-14 13:42:07,900 E 2985751 2985751] (raylet) worker_pool.cc:502: Some workers of the worker process(2994417) have not registered within the timeout. The process is still alive, probably it's hanging during start.\n",
      "\u001b[2m\u001b[33m(raylet)\u001b[0m [2022-09-14 13:42:07,900 E 2985751 2985751] (raylet) worker_pool.cc:502: Some workers of the worker process(2994418) have not registered within the timeout. The process is still alive, probably it's hanging during start.\n",
      "\u001b[2m\u001b[33m(raylet)\u001b[0m [2022-09-14 13:42:07,901 E 2985751 2985751] (raylet) worker_pool.cc:502: Some workers of the worker process(2994419) have not registered within the timeout. The process is still alive, probably it's hanging during start.\n",
      "\u001b[2m\u001b[33m(raylet)\u001b[0m [2022-09-14 13:42:07,901 E 2985751 2985751] (raylet) worker_pool.cc:502: Some workers of the worker process(2994420) have not registered within the timeout. The process is still alive, probably it's hanging during start.\n",
      "\u001b[2m\u001b[33m(raylet)\u001b[0m [2022-09-14 13:42:07,901 E 2985751 2985751] (raylet) worker_pool.cc:502: Some workers of the worker process(2994421) have not registered within the timeout. The process is still alive, probably it's hanging during start.\n",
      "\u001b[2m\u001b[33m(raylet)\u001b[0m [2022-09-14 13:42:07,901 E 2985751 2985751] (raylet) worker_pool.cc:502: Some workers of the worker process(2994422) have not registered within the timeout. The process is still alive, probably it's hanging during start.\n",
      "\u001b[2m\u001b[33m(raylet)\u001b[0m [2022-09-14 13:43:07,830 E 2985751 2985751] (raylet) worker_pool.cc:502: Some workers of the worker process(2994754) have not registered within the timeout. The process is still alive, probably it's hanging during start.\n",
      "\u001b[2m\u001b[33m(raylet)\u001b[0m [2022-09-14 13:43:07,833 E 2985751 2985751] (raylet) worker_pool.cc:502: Some workers of the worker process(2994755) have not registered within the timeout. The process is still alive, probably it's hanging during start.\n",
      "\u001b[2m\u001b[33m(raylet)\u001b[0m [2022-09-14 13:43:07,835 E 2985751 2985751] (raylet) worker_pool.cc:502: Some workers of the worker process(2994756) have not registered within the timeout. The process is still alive, probably it's hanging during start.\n",
      "\u001b[2m\u001b[33m(raylet)\u001b[0m [2022-09-14 13:43:07,838 E 2985751 2985751] (raylet) worker_pool.cc:502: Some workers of the worker process(2994757) have not registered within the timeout. The process is still alive, probably it's hanging during start.\n",
      "\u001b[2m\u001b[33m(raylet)\u001b[0m [2022-09-14 13:43:07,841 E 2985751 2985751] (raylet) worker_pool.cc:502: Some workers of the worker process(2994758) have not registered within the timeout. The process is still alive, probably it's hanging during start.\n",
      "\u001b[2m\u001b[33m(raylet)\u001b[0m [2022-09-14 13:43:07,844 E 2985751 2985751] (raylet) worker_pool.cc:502: Some workers of the worker process(2994759) have not registered within the timeout. The process is still alive, probably it's hanging during start.\n",
      "\u001b[2m\u001b[33m(raylet)\u001b[0m [2022-09-14 13:43:07,847 E 2985751 2985751] (raylet) worker_pool.cc:502: Some workers of the worker process(2994760) have not registered within the timeout. The process is still alive, probably it's hanging during start.\n",
      "\u001b[2m\u001b[33m(raylet)\u001b[0m [2022-09-14 13:43:07,850 E 2985751 2985751] (raylet) worker_pool.cc:502: Some workers of the worker process(2994761) have not registered within the timeout. The process is still alive, probably it's hanging during start.\n",
      "\u001b[2m\u001b[33m(raylet)\u001b[0m [2022-09-14 13:43:07,853 E 2985751 2985751] (raylet) worker_pool.cc:502: Some workers of the worker process(2994762) have not registered within the timeout. The process is still alive, probably it's hanging during start.\n",
      "\u001b[2m\u001b[33m(raylet)\u001b[0m [2022-09-14 13:43:07,856 E 2985751 2985751] (raylet) worker_pool.cc:502: Some workers of the worker process(2994763) have not registered within the timeout. The process is still alive, probably it's hanging during start.\n",
      "\u001b[2m\u001b[33m(raylet)\u001b[0m [2022-09-14 13:43:07,859 E 2985751 2985751] (raylet) worker_pool.cc:502: Some workers of the worker process(2994764) have not registered within the timeout. The process is still alive, probably it's hanging during start.\n",
      "\u001b[2m\u001b[33m(raylet)\u001b[0m [2022-09-14 13:43:07,862 E 2985751 2985751] (raylet) worker_pool.cc:502: Some workers of the worker process(2994765) have not registered within the timeout. The process is still alive, probably it's hanging during start.\n",
      "\u001b[2m\u001b[33m(raylet)\u001b[0m [2022-09-14 13:43:07,865 E 2985751 2985751] (raylet) worker_pool.cc:502: Some workers of the worker process(2994766) have not registered within the timeout. The process is still alive, probably it's hanging during start.\n",
      "\u001b[2m\u001b[33m(raylet)\u001b[0m [2022-09-14 13:43:07,868 E 2985751 2985751] (raylet) worker_pool.cc:502: Some workers of the worker process(2994767) have not registered within the timeout. The process is still alive, probably it's hanging during start.\n",
      "\u001b[2m\u001b[33m(raylet)\u001b[0m [2022-09-14 13:43:07,871 E 2985751 2985751] (raylet) worker_pool.cc:502: Some workers of the worker process(2994768) have not registered within the timeout. The process is still alive, probably it's hanging during start.\n",
      "\u001b[2m\u001b[33m(raylet)\u001b[0m [2022-09-14 13:43:07,874 E 2985751 2985751] (raylet) worker_pool.cc:502: Some workers of the worker process(2994769) have not registered within the timeout. The process is still alive, probably it's hanging during start.\n",
      "\u001b[2m\u001b[33m(raylet)\u001b[0m [2022-09-14 13:43:07,876 E 2985751 2985751] (raylet) worker_pool.cc:502: Some workers of the worker process(2994770) have not registered within the timeout. The process is still alive, probably it's hanging during start.\n",
      "\u001b[2m\u001b[33m(raylet)\u001b[0m [2022-09-14 13:43:07,879 E 2985751 2985751] (raylet) worker_pool.cc:502: Some workers of the worker process(2994772) have not registered within the timeout. The process is still alive, probably it's hanging during start.\n",
      "\u001b[2m\u001b[33m(raylet)\u001b[0m [2022-09-14 13:43:07,882 E 2985751 2985751] (raylet) worker_pool.cc:502: Some workers of the worker process(2994773) have not registered within the timeout. The process is still alive, probably it's hanging during start.\n",
      "\u001b[2m\u001b[33m(raylet)\u001b[0m [2022-09-14 13:43:07,885 E 2985751 2985751] (raylet) worker_pool.cc:502: Some workers of the worker process(2994774) have not registered within the timeout. The process is still alive, probably it's hanging during start.\n",
      "\u001b[2m\u001b[33m(raylet)\u001b[0m [2022-09-14 13:43:07,887 E 2985751 2985751] (raylet) worker_pool.cc:502: Some workers of the worker process(2994775) have not registered within the timeout. The process is still alive, probably it's hanging during start.\n",
      "\u001b[2m\u001b[33m(raylet)\u001b[0m [2022-09-14 13:43:07,890 E 2985751 2985751] (raylet) worker_pool.cc:502: Some workers of the worker process(2994776) have not registered within the timeout. The process is still alive, probably it's hanging during start.\n",
      "\u001b[2m\u001b[33m(raylet)\u001b[0m [2022-09-14 13:43:07,893 E 2985751 2985751] (raylet) worker_pool.cc:502: Some workers of the worker process(2994777) have not registered within the timeout. The process is still alive, probably it's hanging during start.\n",
      "\u001b[2m\u001b[33m(raylet)\u001b[0m [2022-09-14 13:43:07,895 E 2985751 2985751] (raylet) worker_pool.cc:502: Some workers of the worker process(2994778) have not registered within the timeout. The process is still alive, probably it's hanging during start.\n",
      "\u001b[2m\u001b[33m(raylet)\u001b[0m [2022-09-14 13:43:07,898 E 2985751 2985751] (raylet) worker_pool.cc:502: Some workers of the worker process(2994779) have not registered within the timeout. The process is still alive, probably it's hanging during start.\n",
      "\u001b[2m\u001b[33m(raylet)\u001b[0m [2022-09-14 13:43:07,907 E 2985751 2985751] (raylet) worker_pool.cc:502: Some workers of the worker process(2994780) have not registered within the timeout. The process is still alive, probably it's hanging during start.\n",
      "\u001b[2m\u001b[33m(raylet)\u001b[0m [2022-09-14 13:43:07,911 E 2985751 2985751] (raylet) worker_pool.cc:502: Some workers of the worker process(2994781) have not registered within the timeout. The process is still alive, probably it's hanging during start.\n",
      "\u001b[2m\u001b[33m(raylet)\u001b[0m [2022-09-14 13:43:07,915 E 2985751 2985751] (raylet) worker_pool.cc:502: Some workers of the worker process(2994782) have not registered within the timeout. The process is still alive, probably it's hanging during start.\n",
      "\u001b[2m\u001b[33m(raylet)\u001b[0m [2022-09-14 13:43:07,920 E 2985751 2985751] (raylet) worker_pool.cc:502: Some workers of the worker process(2994783) have not registered within the timeout. The process is still alive, probably it's hanging during start.\n",
      "\u001b[2m\u001b[33m(raylet)\u001b[0m [2022-09-14 13:43:07,924 E 2985751 2985751] (raylet) worker_pool.cc:502: Some workers of the worker process(2994784) have not registered within the timeout. The process is still alive, probably it's hanging during start.\n",
      "\u001b[2m\u001b[33m(raylet)\u001b[0m [2022-09-14 13:43:07,927 E 2985751 2985751] (raylet) worker_pool.cc:502: Some workers of the worker process(2994785) have not registered within the timeout. The process is still alive, probably it's hanging during start.\n",
      "\u001b[2m\u001b[33m(raylet)\u001b[0m [2022-09-14 13:43:07,931 E 2985751 2985751] (raylet) worker_pool.cc:502: Some workers of the worker process(2994786) have not registered within the timeout. The process is still alive, probably it's hanging during start.\n",
      "\u001b[2m\u001b[33m(raylet)\u001b[0m [2022-09-14 13:43:07,935 E 2985751 2985751] (raylet) worker_pool.cc:502: Some workers of the worker process(2994787) have not registered within the timeout. The process is still alive, probably it's hanging during start.\n",
      "\u001b[2m\u001b[33m(raylet)\u001b[0m [2022-09-14 13:43:07,939 E 2985751 2985751] (raylet) worker_pool.cc:502: Some workers of the worker process(2994788) have not registered within the timeout. The process is still alive, probably it's hanging during start.\n",
      "\u001b[2m\u001b[33m(raylet)\u001b[0m [2022-09-14 13:43:07,942 E 2985751 2985751] (raylet) worker_pool.cc:502: Some workers of the worker process(2994789) have not registered within the timeout. The process is still alive, probably it's hanging during start.\n",
      "\u001b[2m\u001b[33m(raylet)\u001b[0m [2022-09-14 13:43:07,945 E 2985751 2985751] (raylet) worker_pool.cc:502: Some workers of the worker process(2994790) have not registered within the timeout. The process is still alive, probably it's hanging during start.\n",
      "\u001b[2m\u001b[33m(raylet)\u001b[0m [2022-09-14 13:43:07,949 E 2985751 2985751] (raylet) worker_pool.cc:502: Some workers of the worker process(2994791) have not registered within the timeout. The process is still alive, probably it's hanging during start.\n",
      "\u001b[2m\u001b[33m(raylet)\u001b[0m [2022-09-14 13:43:07,953 E 2985751 2985751] (raylet) worker_pool.cc:502: Some workers of the worker process(2994792) have not registered within the timeout. The process is still alive, probably it's hanging during start.\n",
      "\u001b[2m\u001b[33m(raylet)\u001b[0m [2022-09-14 13:43:07,956 E 2985751 2985751] (raylet) worker_pool.cc:502: Some workers of the worker process(2994793) have not registered within the timeout. The process is still alive, probably it's hanging during start.\n",
      "\u001b[2m\u001b[33m(raylet)\u001b[0m [2022-09-14 13:43:07,960 E 2985751 2985751] (raylet) worker_pool.cc:502: Some workers of the worker process(2994794) have not registered within the timeout. The process is still alive, probably it's hanging during start.\n",
      "\u001b[2m\u001b[33m(raylet)\u001b[0m [2022-09-14 13:43:07,964 E 2985751 2985751] (raylet) worker_pool.cc:502: Some workers of the worker process(2994795) have not registered within the timeout. The process is still alive, probably it's hanging during start.\n",
      "\u001b[2m\u001b[33m(raylet)\u001b[0m [2022-09-14 13:43:07,967 E 2985751 2985751] (raylet) worker_pool.cc:502: Some workers of the worker process(2994796) have not registered within the timeout. The process is still alive, probably it's hanging during start.\n",
      "\u001b[2m\u001b[33m(raylet)\u001b[0m [2022-09-14 13:43:07,971 E 2985751 2985751] (raylet) worker_pool.cc:502: Some workers of the worker process(2994797) have not registered within the timeout. The process is still alive, probably it's hanging during start.\n",
      "\u001b[2m\u001b[33m(raylet)\u001b[0m [2022-09-14 13:43:07,975 E 2985751 2985751] (raylet) worker_pool.cc:502: Some workers of the worker process(2994798) have not registered within the timeout. The process is still alive, probably it's hanging during start.\n",
      "\u001b[2m\u001b[33m(raylet)\u001b[0m [2022-09-14 13:43:08,056 E 2985751 2985751] (raylet) worker_pool.cc:502: Some workers of the worker process(2994800) have not registered within the timeout. The process is still alive, probably it's hanging during start.\n",
      "\u001b[2m\u001b[33m(raylet)\u001b[0m [2022-09-14 13:43:08,056 E 2985751 2985751] (raylet) worker_pool.cc:502: Some workers of the worker process(2994801) have not registered within the timeout. The process is still alive, probably it's hanging during start.\n",
      "\u001b[2m\u001b[33m(raylet)\u001b[0m [2022-09-14 13:43:08,056 E 2985751 2985751] (raylet) worker_pool.cc:502: Some workers of the worker process(2994802) have not registered within the timeout. The process is still alive, probably it's hanging during start.\n",
      "\u001b[2m\u001b[33m(raylet)\u001b[0m [2022-09-14 13:43:08,056 E 2985751 2985751] (raylet) worker_pool.cc:502: Some workers of the worker process(2994803) have not registered within the timeout. The process is still alive, probably it's hanging during start.\n",
      "\u001b[2m\u001b[33m(raylet)\u001b[0m [2022-09-14 13:43:08,056 E 2985751 2985751] (raylet) worker_pool.cc:502: Some workers of the worker process(2994804) have not registered within the timeout. The process is still alive, probably it's hanging during start.\n",
      "\u001b[2m\u001b[33m(raylet)\u001b[0m [2022-09-14 13:43:08,056 E 2985751 2985751] (raylet) worker_pool.cc:502: Some workers of the worker process(2994805) have not registered within the timeout. The process is still alive, probably it's hanging during start.\n",
      "\u001b[2m\u001b[33m(raylet)\u001b[0m [2022-09-14 13:43:08,056 E 2985751 2985751] (raylet) worker_pool.cc:502: Some workers of the worker process(2994806) have not registered within the timeout. The process is still alive, probably it's hanging during start.\n",
      "\u001b[2m\u001b[33m(raylet)\u001b[0m [2022-09-14 13:43:08,056 E 2985751 2985751] (raylet) worker_pool.cc:502: Some workers of the worker process(2994807) have not registered within the timeout. The process is still alive, probably it's hanging during start.\n",
      "\u001b[2m\u001b[33m(raylet)\u001b[0m [2022-09-14 13:43:08,056 E 2985751 2985751] (raylet) worker_pool.cc:502: Some workers of the worker process(2994808) have not registered within the timeout. The process is still alive, probably it's hanging during start.\n",
      "\u001b[2m\u001b[33m(raylet)\u001b[0m [2022-09-14 13:44:07,984 E 2985751 2985751] (raylet) worker_pool.cc:502: Some workers of the worker process(2995241) have not registered within the timeout. The process is still alive, probably it's hanging during start.\n",
      "\u001b[2m\u001b[33m(raylet)\u001b[0m [2022-09-14 13:44:07,987 E 2985751 2985751] (raylet) worker_pool.cc:502: Some workers of the worker process(2995242) have not registered within the timeout. The process is still alive, probably it's hanging during start.\n",
      "\u001b[2m\u001b[33m(raylet)\u001b[0m [2022-09-14 13:44:08,016 E 2985751 2985751] (raylet) worker_pool.cc:502: Some workers of the worker process(2995251) have not registered within the timeout. The process is still alive, probably it's hanging during start.\n",
      "\u001b[2m\u001b[33m(raylet)\u001b[0m [2022-09-14 13:44:08,018 E 2985751 2985751] (raylet) worker_pool.cc:502: Some workers of the worker process(2995252) have not registered within the timeout. The process is still alive, probably it's hanging during start.\n",
      "\u001b[2m\u001b[33m(raylet)\u001b[0m [2022-09-14 13:44:08,085 E 2985751 2985751] (raylet) worker_pool.cc:502: Some workers of the worker process(2995272) have not registered within the timeout. The process is still alive, probably it's hanging during start.\n",
      "\u001b[2m\u001b[33m(raylet)\u001b[0m [2022-09-14 13:44:08,121 E 2985751 2985751] (raylet) worker_pool.cc:502: Some workers of the worker process(2995282) have not registered within the timeout. The process is still alive, probably it's hanging during start.\n"
     ]
    },
    {
     "data": {
      "application/vnd.jupyter.widget-view+json": {
       "model_id": "9d4aab707bbc4fe990dc4d94a622f2ab",
       "version_major": 2,
       "version_minor": 0
      },
      "text/plain": [
       "  0%|          | 0/1171 [00:00<?, ?it/s]"
      ]
     },
     "metadata": {},
     "output_type": "display_data"
    },
    {
     "data": {
      "application/vnd.jupyter.widget-view+json": {
       "model_id": "8dab698bc7124f1280c9a067ef7f543e",
       "version_major": 2,
       "version_minor": 0
      },
      "text/plain": [
       "  0%|          | 0/1171 [00:00<?, ?it/s]"
      ]
     },
     "metadata": {},
     "output_type": "display_data"
    },
    {
     "data": {
      "application/vnd.jupyter.widget-view+json": {
       "model_id": "bc55634030ec4451b2e426346e4c2410",
       "version_major": 2,
       "version_minor": 0
      },
      "text/plain": [
       "  0%|          | 0/1171 [00:00<?, ?it/s]"
      ]
     },
     "metadata": {},
     "output_type": "display_data"
    },
    {
     "data": {
      "application/vnd.jupyter.widget-view+json": {
       "model_id": "cba73476a38b4b64add72759ec725d25",
       "version_major": 2,
       "version_minor": 0
      },
      "text/plain": [
       "  0%|          | 0/1171 [00:00<?, ?it/s]"
      ]
     },
     "metadata": {},
     "output_type": "display_data"
    },
    {
     "data": {
      "application/vnd.jupyter.widget-view+json": {
       "model_id": "b45050fef1c946f3b9ffcfa5178ebcfd",
       "version_major": 2,
       "version_minor": 0
      },
      "text/plain": [
       "  0%|          | 0/1171 [00:00<?, ?it/s]"
      ]
     },
     "metadata": {},
     "output_type": "display_data"
    },
    {
     "data": {
      "application/vnd.jupyter.widget-view+json": {
       "model_id": "c1b2fb9d0e3144f89fb771b53ee631b2",
       "version_major": 2,
       "version_minor": 0
      },
      "text/plain": [
       "  0%|          | 0/1171 [00:00<?, ?it/s]"
      ]
     },
     "metadata": {},
     "output_type": "display_data"
    },
    {
     "data": {
      "application/vnd.jupyter.widget-view+json": {
       "model_id": "5fe0b0a40e394d63a8b15c6c495fd7d2",
       "version_major": 2,
       "version_minor": 0
      },
      "text/plain": [
       "  0%|          | 0/1171 [00:00<?, ?it/s]"
      ]
     },
     "metadata": {},
     "output_type": "display_data"
    },
    {
     "data": {
      "application/vnd.jupyter.widget-view+json": {
       "model_id": "01f35b80d7fa467cadbc88f6b9491221",
       "version_major": 2,
       "version_minor": 0
      },
      "text/plain": [
       "  0%|          | 0/1171 [00:00<?, ?it/s]"
      ]
     },
     "metadata": {},
     "output_type": "display_data"
    },
    {
     "data": {
      "application/vnd.jupyter.widget-view+json": {
       "model_id": "d6f7984d80484943ac94107f3a3d2c6d",
       "version_major": 2,
       "version_minor": 0
      },
      "text/plain": [
       "  0%|          | 0/1171 [00:00<?, ?it/s]"
      ]
     },
     "metadata": {},
     "output_type": "display_data"
    },
    {
     "data": {
      "application/vnd.jupyter.widget-view+json": {
       "model_id": "49d169238db042c39b9518ff82f68806",
       "version_major": 2,
       "version_minor": 0
      },
      "text/plain": [
       "  0%|          | 0/1171 [00:00<?, ?it/s]"
      ]
     },
     "metadata": {},
     "output_type": "display_data"
    },
    {
     "data": {
      "application/vnd.jupyter.widget-view+json": {
       "model_id": "8523ea87e1bd467f9a254c2ef3782222",
       "version_major": 2,
       "version_minor": 0
      },
      "text/plain": [
       "  0%|          | 0/1171 [00:00<?, ?it/s]"
      ]
     },
     "metadata": {},
     "output_type": "display_data"
    },
    {
     "data": {
      "application/vnd.jupyter.widget-view+json": {
       "model_id": "42e203f67bf64c9da6ce1d2ad06df103",
       "version_major": 2,
       "version_minor": 0
      },
      "text/plain": [
       "  0%|          | 0/1171 [00:00<?, ?it/s]"
      ]
     },
     "metadata": {},
     "output_type": "display_data"
    },
    {
     "data": {
      "application/vnd.jupyter.widget-view+json": {
       "model_id": "baf24be5870d4b83844e9a7521701fd2",
       "version_major": 2,
       "version_minor": 0
      },
      "text/plain": [
       "  0%|          | 0/1171 [00:00<?, ?it/s]"
      ]
     },
     "metadata": {},
     "output_type": "display_data"
    },
    {
     "data": {
      "application/vnd.jupyter.widget-view+json": {
       "model_id": "b9a80e8364de46bc8ccf8df9e144c2f5",
       "version_major": 2,
       "version_minor": 0
      },
      "text/plain": [
       "  0%|          | 0/1171 [00:00<?, ?it/s]"
      ]
     },
     "metadata": {},
     "output_type": "display_data"
    },
    {
     "data": {
      "application/vnd.jupyter.widget-view+json": {
       "model_id": "5acc65fc2f404a0380c8a1ee8c840944",
       "version_major": 2,
       "version_minor": 0
      },
      "text/plain": [
       "  0%|          | 0/1171 [00:00<?, ?it/s]"
      ]
     },
     "metadata": {},
     "output_type": "display_data"
    },
    {
     "data": {
      "application/vnd.jupyter.widget-view+json": {
       "model_id": "7a2a5641495e49d4ac5ab60f332da5aa",
       "version_major": 2,
       "version_minor": 0
      },
      "text/plain": [
       "  0%|          | 0/1171 [00:00<?, ?it/s]"
      ]
     },
     "metadata": {},
     "output_type": "display_data"
    },
    {
     "data": {
      "application/vnd.jupyter.widget-view+json": {
       "model_id": "703dd93b5eb54a4885bfeb584f9dc9c1",
       "version_major": 2,
       "version_minor": 0
      },
      "text/plain": [
       "  0%|          | 0/1171 [00:00<?, ?it/s]"
      ]
     },
     "metadata": {},
     "output_type": "display_data"
    },
    {
     "data": {
      "application/vnd.jupyter.widget-view+json": {
       "model_id": "8439a36ed196458cb96c9311fc092275",
       "version_major": 2,
       "version_minor": 0
      },
      "text/plain": [
       "  0%|          | 0/1171 [00:00<?, ?it/s]"
      ]
     },
     "metadata": {},
     "output_type": "display_data"
    },
    {
     "data": {
      "application/vnd.jupyter.widget-view+json": {
       "model_id": "bbf2506a858f4fb8b241a434a1e0244e",
       "version_major": 2,
       "version_minor": 0
      },
      "text/plain": [
       "  0%|          | 0/1171 [00:00<?, ?it/s]"
      ]
     },
     "metadata": {},
     "output_type": "display_data"
    },
    {
     "data": {
      "application/vnd.jupyter.widget-view+json": {
       "model_id": "7c472b10050b4aebba92dd4bbde4927e",
       "version_major": 2,
       "version_minor": 0
      },
      "text/plain": [
       "  0%|          | 0/1171 [00:00<?, ?it/s]"
      ]
     },
     "metadata": {},
     "output_type": "display_data"
    },
    {
     "data": {
      "application/vnd.jupyter.widget-view+json": {
       "model_id": "db6e47e81cf5401cb8550759ca592deb",
       "version_major": 2,
       "version_minor": 0
      },
      "text/plain": [
       "  0%|          | 0/1171 [00:00<?, ?it/s]"
      ]
     },
     "metadata": {},
     "output_type": "display_data"
    }
   ],
   "source": [
    "import yaml\n",
    "\n",
    "#mapping = {\"sex_f31_0_0\": {\"Female\":0, \"Male\":1}}\n",
    "score_defs = get_score_defs()\n",
    "\n",
    "ray_eids = ray.put(eids_dict)\n",
    "for partition in tqdm(partitions):\n",
    "    try:\n",
    "        del ray_partition\n",
    "    except:\n",
    "        print(\"Ray object not yet initialised\")\n",
    "    #ray_partition = ray.put(get_test_data(in_path, partition, models, mapping))\n",
    "    ray_partition = ray.put(get_test_data(in_path, partition, models))\n",
    "    progress = []\n",
    "    for endpoint in endpoints:\n",
    "        features = get_features(endpoint, score_defs)\n",
    "        progress.append(predict_endpoint.remote(ray_partition, ray_eids, endpoint, partition, models, features, model_path, out_path))\n",
    "    [ray.get(s) for s in tqdm(progress)]"
   ]
  },
  {
   "cell_type": "code",
   "execution_count": null,
   "metadata": {},
   "outputs": [],
   "source": []
  }
 ],
 "metadata": {
  "kernelspec": {
   "display_name": "retrisk",
   "language": "python",
   "name": "retrisk"
  },
  "language_info": {
   "codemirror_mode": {
    "name": "ipython",
    "version": 3
   },
   "file_extension": ".py",
   "mimetype": "text/x-python",
   "name": "python",
   "nbconvert_exporter": "python",
   "pygments_lexer": "ipython3",
   "version": "3.9.7"
  },
  "toc-autonumbering": false
 },
 "nbformat": 4,
 "nbformat_minor": 4
}
