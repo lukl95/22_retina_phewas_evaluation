{
 "cells": [
  {
   "cell_type": "markdown",
   "metadata": {},
   "source": [
    "# Benchmarks"
   ]
  },
  {
   "cell_type": "markdown",
   "metadata": {},
   "source": [
    "## Initialize"
   ]
  },
  {
   "cell_type": "code",
   "execution_count": 1,
   "metadata": {
    "execution": {
     "iopub.execute_input": "2022-08-25T19:33:43.465343Z",
     "iopub.status.busy": "2022-08-25T19:33:43.464820Z",
     "iopub.status.idle": "2022-08-25T19:33:47.188730Z",
     "shell.execute_reply": "2022-08-25T19:33:47.188054Z",
     "shell.execute_reply.started": "2022-08-25T19:33:43.465267Z"
    },
    "tags": []
   },
   "outputs": [],
   "source": [
    "import os\n",
    "import math\n",
    "import pathlib\n",
    "import numpy as np\n",
    "import pandas as pd\n",
    "import pyarrow as pa\n",
    "import pyarrow.feather as feather\n",
    "from tqdm.auto import tqdm\n",
    "from IPython.display import clear_output\n",
    "\n",
    "import warnings\n",
    "from lifelines.utils import CensoringType\n",
    "from lifelines.utils import concordance_index"
   ]
  },
  {
   "cell_type": "code",
   "execution_count": 2,
   "metadata": {
    "execution": {
     "iopub.execute_input": "2022-08-25T19:33:47.191769Z",
     "iopub.status.busy": "2022-08-25T19:33:47.191654Z",
     "iopub.status.idle": "2022-08-25T19:33:47.228448Z",
     "shell.execute_reply": "2022-08-25T19:33:47.228025Z",
     "shell.execute_reply.started": "2022-08-25T19:33:47.191755Z"
    },
    "tags": []
   },
   "outputs": [
    {
     "name": "stdout",
     "output_type": "stream",
     "text": [
      "/sc-projects/sc-proj-ukb-cvd\n"
     ]
    },
    {
     "data": {
      "text/plain": [
       "[0, 1, 2, 3, 4, 5, 6, 7, 8, 9, 10, 11, 12, 13, 14, 15, 16, 17, 18, 19, 20, 21]"
      ]
     },
     "execution_count": 2,
     "metadata": {},
     "output_type": "execute_result"
    }
   ],
   "source": [
    "node = !hostname\n",
    "if \"sc\" in node[0]:\n",
    "    base_path = \"/sc-projects/sc-proj-ukb-cvd\"\n",
    "else: \n",
    "    base_path = \"/data/analysis/ag-reils/ag-reils-shared/cardioRS\"\n",
    "print(base_path)\n",
    "\n",
    "project_label = \"22_retina_phewas\"\n",
    "project_path = f\"{base_path}/results/projects/{project_label}\"\n",
    "figure_path = f\"{project_path}/figures\"\n",
    "output_path = f\"{project_path}/data\"\n",
    "\n",
    "pathlib.Path(figure_path).mkdir(parents=True, exist_ok=True)\n",
    "pathlib.Path(output_path).mkdir(parents=True, exist_ok=True)\n",
    "\n",
    "experiment = '220812_test'\n",
    "experiment_path = f\"{output_path}/{experiment}\"\n",
    "pathlib.Path(experiment_path).mkdir(parents=True, exist_ok=True)\n",
    "\n",
    "\n",
    "name_dict = {\n",
    "    \"predictions_cropratio0.66\": \"ConvNextSmall(Retina)+MLP_cropratio0.66\",\n",
    "}\n",
    "\n",
    "partitions = [i for i in range(22)]\n",
    "partitions"
   ]
  },
  {
   "cell_type": "code",
   "execution_count": 3,
   "metadata": {
    "execution": {
     "iopub.execute_input": "2022-08-25T19:33:47.229819Z",
     "iopub.status.busy": "2022-08-25T19:33:47.229704Z",
     "iopub.status.idle": "2022-08-25T19:33:47.247697Z",
     "shell.execute_reply": "2022-08-25T19:33:47.247271Z",
     "shell.execute_reply.started": "2022-08-25T19:33:47.229802Z"
    },
    "tags": []
   },
   "outputs": [],
   "source": [
    "import pandas as pd\n",
    "endpoints = sorted([l.replace('_prevalent', '') for l in list(pd.read_csv('/sc-projects/sc-proj-ukb-cvd/results/projects/22_retinal_risk/data/220602/endpoints.csv').endpoint.values)])"
   ]
  },
  {
   "cell_type": "code",
   "execution_count": 4,
   "metadata": {
    "execution": {
     "iopub.execute_input": "2022-08-25T19:33:47.248476Z",
     "iopub.status.busy": "2022-08-25T19:33:47.248375Z",
     "iopub.status.idle": "2022-08-25T19:33:47.264688Z",
     "shell.execute_reply": "2022-08-25T19:33:47.264351Z",
     "shell.execute_reply.started": "2022-08-25T19:33:47.248463Z"
    },
    "tags": []
   },
   "outputs": [],
   "source": [
    "out_path = f\"{experiment_path}/coxph/predictions\"\n",
    "pathlib.Path(out_path).mkdir(parents=True, exist_ok=True)"
   ]
  },
  {
   "cell_type": "code",
   "execution_count": 5,
   "metadata": {
    "execution": {
     "iopub.execute_input": "2022-08-25T19:33:54.328238Z",
     "iopub.status.busy": "2022-08-25T19:33:54.328080Z",
     "iopub.status.idle": "2022-08-25T19:33:54.751573Z",
     "shell.execute_reply": "2022-08-25T19:33:54.751230Z",
     "shell.execute_reply.started": "2022-08-25T19:33:54.328224Z"
    },
    "tags": []
   },
   "outputs": [],
   "source": [
    "from sklearn.preprocessing import StandardScaler\n",
    "import pickle\n",
    "import zstandard\n",
    "\n",
    "def read_data(fp_in):\n",
    "    temp = pd.read_feather(f\"{fp_in}\").set_index(\"eid\")\n",
    "    return temp   \n",
    "    \n",
    "def save_pickle(data, data_path):\n",
    "    with open(data_path, \"wb\") as fh:\n",
    "        cctx = zstandard.ZstdCompressor()\n",
    "        with cctx.stream_writer(fh) as compressor:\n",
    "            compressor.write(pickle.dumps(data, protocol=pickle.HIGHEST_PROTOCOL))\n",
    "    \n",
    "def read_predictions(endpoint, feature_set, partition, model):\n",
    "    \n",
    "    #identifier = f\"{endpoint}_{feature_set}_{model}_{partition}_mean\" # for meaned preds\n",
    "    identifier = f\"{endpoint}_{feature_set}_{model}_{partition}\"\n",
    "    fp_in = f\"{out_path}/{identifier}.feather\"\n",
    "    \n",
    "    temp = read_data(fp_in)\n",
    "    return temp"
   ]
  },
  {
   "cell_type": "code",
   "execution_count": 6,
   "metadata": {
    "execution": {
     "iopub.execute_input": "2022-08-25T19:33:56.032334Z",
     "iopub.status.busy": "2022-08-25T19:33:56.032152Z",
     "iopub.status.idle": "2022-08-25T19:33:56.037999Z",
     "shell.execute_reply": "2022-08-25T19:33:56.037717Z",
     "shell.execute_reply.started": "2022-08-25T19:33:56.032319Z"
    }
   },
   "outputs": [
    {
     "data": {
      "text/plain": [
       "['ImageTraining_[]_ConvNeXt_MLPHead_predictions_cropratio0.66']"
      ]
     },
     "execution_count": 6,
     "metadata": {},
     "output_type": "execute_result"
    }
   ],
   "source": [
    "model_path = pathlib.Path(f\"{experiment_path}/coxph/input\")\n",
    "models = [f.name for f in model_path.iterdir() if f.is_dir() and \"ipynb_checkpoints\" not in str(f)]\n",
    "models"
   ]
  },
  {
   "cell_type": "code",
   "execution_count": null,
   "metadata": {
    "execution": {
     "iopub.execute_input": "2022-08-25T19:34:10.851749Z",
     "iopub.status.busy": "2022-08-25T19:34:10.851586Z"
    },
    "tags": []
   },
   "outputs": [
    {
     "data": {
      "application/vnd.jupyter.widget-view+json": {
       "model_id": "a46a84faf5eb4cbbbadcfdbbade1e5f6",
       "version_major": 2,
       "version_minor": 0
      },
      "text/plain": [
       "  0%|          | 0/1171 [00:00<?, ?it/s]"
      ]
     },
     "metadata": {},
     "output_type": "display_data"
    }
   ],
   "source": [
    "d = []\n",
    "\n",
    "for endpoint in tqdm(endpoints):\n",
    "    for feature_set in [\n",
    "        \"Age+Sex\",\n",
    "        \"Retina\",\n",
    "        \"Age+Sex+Retina\",\n",
    "#         \"SCORE2\", \"SCORE2+Retina\",\n",
    "#         \"ASCVD\", \"ASCVD+Retina\",\n",
    "#         \"QRISK3\", \"QRISK3+Retina\"\n",
    "                    ]:\n",
    "        for partition in partitions:\n",
    "            for model in models:\n",
    "                try: \n",
    "                    temp = read_predictions(endpoint, feature_set, partition, model)\n",
    "                    d.append({\"endpoint\": endpoint, \"features\":feature_set, \"model\":model, \"partition\":partition, \"available\": True})\n",
    "                except:\n",
    "                    d.append({\"endpoint\": endpoint, \"features\":feature_set, \"partition\":partition, \"available\": False})"
   ]
  },
  {
   "cell_type": "code",
   "execution_count": 18,
   "metadata": {
    "execution": {
     "iopub.execute_input": "2022-08-25T19:44:36.143210Z",
     "iopub.status.busy": "2022-08-25T19:44:36.143003Z",
     "iopub.status.idle": "2022-08-25T19:44:36.190356Z",
     "shell.execute_reply": "2022-08-25T19:44:36.190080Z",
     "shell.execute_reply.started": "2022-08-25T19:44:36.143194Z"
    },
    "tags": []
   },
   "outputs": [
    {
     "data": {
      "text/plain": [
       "array([ True])"
      ]
     },
     "execution_count": 18,
     "metadata": {},
     "output_type": "execute_result"
    }
   ],
   "source": [
    "pd.DataFrame.from_dict(d)['available'].unique()"
   ]
  },
  {
   "cell_type": "code",
   "execution_count": 14,
   "metadata": {
    "execution": {
     "iopub.execute_input": "2022-08-25T19:42:56.110980Z",
     "iopub.status.busy": "2022-08-25T19:42:56.110818Z",
     "iopub.status.idle": "2022-08-25T19:42:56.159921Z",
     "shell.execute_reply": "2022-08-25T19:42:56.159562Z",
     "shell.execute_reply.started": "2022-08-25T19:42:56.110967Z"
    },
    "tags": []
   },
   "outputs": [
    {
     "data": {
      "text/html": [
       "<div>\n",
       "<style scoped>\n",
       "    .dataframe tbody tr th:only-of-type {\n",
       "        vertical-align: middle;\n",
       "    }\n",
       "\n",
       "    .dataframe tbody tr th {\n",
       "        vertical-align: top;\n",
       "    }\n",
       "\n",
       "    .dataframe thead th {\n",
       "        text-align: right;\n",
       "    }\n",
       "</style>\n",
       "<table border=\"1\" class=\"dataframe\">\n",
       "  <thead>\n",
       "    <tr style=\"text-align: right;\">\n",
       "      <th></th>\n",
       "      <th>available</th>\n",
       "    </tr>\n",
       "    <tr>\n",
       "      <th>features</th>\n",
       "      <th></th>\n",
       "    </tr>\n",
       "  </thead>\n",
       "  <tbody>\n",
       "    <tr>\n",
       "      <th>Age+Sex</th>\n",
       "      <td>25762</td>\n",
       "    </tr>\n",
       "    <tr>\n",
       "      <th>Age+Sex+Retina</th>\n",
       "      <td>25762</td>\n",
       "    </tr>\n",
       "    <tr>\n",
       "      <th>Retina</th>\n",
       "      <td>25762</td>\n",
       "    </tr>\n",
       "  </tbody>\n",
       "</table>\n",
       "</div>"
      ],
      "text/plain": [
       "                available\n",
       "features                 \n",
       "Age+Sex             25762\n",
       "Age+Sex+Retina      25762\n",
       "Retina              25762"
      ]
     },
     "execution_count": 14,
     "metadata": {},
     "output_type": "execute_result"
    }
   ],
   "source": [
    "pd.DataFrame.from_dict(d).groupby([\"features\"])[\"available\"].sum().to_frame()"
   ]
  },
  {
   "cell_type": "code",
   "execution_count": 13,
   "metadata": {
    "execution": {
     "iopub.execute_input": "2022-08-25T19:42:43.974108Z",
     "iopub.status.busy": "2022-08-25T19:42:43.973975Z",
     "iopub.status.idle": "2022-08-25T19:42:44.026807Z",
     "shell.execute_reply": "2022-08-25T19:42:44.026468Z",
     "shell.execute_reply.started": "2022-08-25T19:42:43.974095Z"
    }
   },
   "outputs": [
    {
     "data": {
      "text/html": [
       "<div>\n",
       "<style scoped>\n",
       "    .dataframe tbody tr th:only-of-type {\n",
       "        vertical-align: middle;\n",
       "    }\n",
       "\n",
       "    .dataframe tbody tr th {\n",
       "        vertical-align: top;\n",
       "    }\n",
       "\n",
       "    .dataframe thead th {\n",
       "        text-align: right;\n",
       "    }\n",
       "</style>\n",
       "<table border=\"1\" class=\"dataframe\">\n",
       "  <thead>\n",
       "    <tr style=\"text-align: right;\">\n",
       "      <th></th>\n",
       "      <th></th>\n",
       "      <th>available</th>\n",
       "    </tr>\n",
       "    <tr>\n",
       "      <th>model</th>\n",
       "      <th>features</th>\n",
       "      <th></th>\n",
       "    </tr>\n",
       "  </thead>\n",
       "  <tbody>\n",
       "    <tr>\n",
       "      <th rowspan=\"3\" valign=\"top\">ImageTraining_[]_ConvNeXt_MLPHead_predictions_cropratio0.66</th>\n",
       "      <th>Age+Sex</th>\n",
       "      <td>25762</td>\n",
       "    </tr>\n",
       "    <tr>\n",
       "      <th>Age+Sex+Retina</th>\n",
       "      <td>25762</td>\n",
       "    </tr>\n",
       "    <tr>\n",
       "      <th>Retina</th>\n",
       "      <td>25762</td>\n",
       "    </tr>\n",
       "  </tbody>\n",
       "</table>\n",
       "</div>"
      ],
      "text/plain": [
       "                                                                   available\n",
       "model                                              features                 \n",
       "ImageTraining_[]_ConvNeXt_MLPHead_predictions_c... Age+Sex             25762\n",
       "                                                   Age+Sex+Retina      25762\n",
       "                                                   Retina              25762"
      ]
     },
     "execution_count": 13,
     "metadata": {},
     "output_type": "execute_result"
    }
   ],
   "source": [
    "pd.DataFrame.from_dict(d).groupby([\"model\", \"features\"])[\"available\"].sum().to_frame()"
   ]
  },
  {
   "cell_type": "code",
   "execution_count": 19,
   "metadata": {
    "execution": {
     "iopub.execute_input": "2022-08-25T19:44:45.183095Z",
     "iopub.status.busy": "2022-08-25T19:44:45.182925Z",
     "iopub.status.idle": "2022-08-25T19:44:46.102284Z",
     "shell.execute_reply": "2022-08-25T19:44:46.101886Z",
     "shell.execute_reply.started": "2022-08-25T19:44:45.183080Z"
    },
    "tags": []
   },
   "outputs": [
    {
     "name": "stdout",
     "output_type": "stream",
     "text": [
      "OMOP_4306655_Age+Sex_ImageTraining_[]_ConvNeXt_MLPHead_predictions_cropratio0.66_0.feather\n"
     ]
    },
    {
     "data": {
      "text/html": [
       "<div>\n",
       "<style scoped>\n",
       "    .dataframe tbody tr th:only-of-type {\n",
       "        vertical-align: middle;\n",
       "    }\n",
       "\n",
       "    .dataframe tbody tr th {\n",
       "        vertical-align: top;\n",
       "    }\n",
       "\n",
       "    .dataframe thead th {\n",
       "        text-align: right;\n",
       "    }\n",
       "</style>\n",
       "<table border=\"1\" class=\"dataframe\">\n",
       "  <thead>\n",
       "    <tr style=\"text-align: right;\">\n",
       "      <th></th>\n",
       "      <th>model</th>\n",
       "      <th>endpoint</th>\n",
       "      <th>score</th>\n",
       "      <th>partition</th>\n",
       "      <th>path</th>\n",
       "    </tr>\n",
       "  </thead>\n",
       "  <tbody>\n",
       "    <tr>\n",
       "      <th>0</th>\n",
       "      <td>ImageTraining_[]_ConvNeXt_MLPHead_predictions_...</td>\n",
       "      <td>OMOP_4306655</td>\n",
       "      <td>Age+Sex</td>\n",
       "      <td>0</td>\n",
       "      <td>OMOP_4306655_Age+Sex_ImageTraining_[]_ConvNeXt...</td>\n",
       "    </tr>\n",
       "    <tr>\n",
       "      <th>1</th>\n",
       "      <td>ImageTraining_[]_ConvNeXt_MLPHead_predictions_...</td>\n",
       "      <td>OMOP_4306655</td>\n",
       "      <td>Age+Sex</td>\n",
       "      <td>1</td>\n",
       "      <td>OMOP_4306655_Age+Sex_ImageTraining_[]_ConvNeXt...</td>\n",
       "    </tr>\n",
       "    <tr>\n",
       "      <th>2</th>\n",
       "      <td>ImageTraining_[]_ConvNeXt_MLPHead_predictions_...</td>\n",
       "      <td>OMOP_4306655</td>\n",
       "      <td>Age+Sex</td>\n",
       "      <td>2</td>\n",
       "      <td>OMOP_4306655_Age+Sex_ImageTraining_[]_ConvNeXt...</td>\n",
       "    </tr>\n",
       "    <tr>\n",
       "      <th>3</th>\n",
       "      <td>ImageTraining_[]_ConvNeXt_MLPHead_predictions_...</td>\n",
       "      <td>OMOP_4306655</td>\n",
       "      <td>Age+Sex</td>\n",
       "      <td>3</td>\n",
       "      <td>OMOP_4306655_Age+Sex_ImageTraining_[]_ConvNeXt...</td>\n",
       "    </tr>\n",
       "    <tr>\n",
       "      <th>4</th>\n",
       "      <td>ImageTraining_[]_ConvNeXt_MLPHead_predictions_...</td>\n",
       "      <td>OMOP_4306655</td>\n",
       "      <td>Age+Sex</td>\n",
       "      <td>4</td>\n",
       "      <td>OMOP_4306655_Age+Sex_ImageTraining_[]_ConvNeXt...</td>\n",
       "    </tr>\n",
       "    <tr>\n",
       "      <th>...</th>\n",
       "      <td>...</td>\n",
       "      <td>...</td>\n",
       "      <td>...</td>\n",
       "      <td>...</td>\n",
       "      <td>...</td>\n",
       "    </tr>\n",
       "    <tr>\n",
       "      <th>77281</th>\n",
       "      <td>ImageTraining_[]_ConvNeXt_MLPHead_predictions_...</td>\n",
       "      <td>phecode_979</td>\n",
       "      <td>Retina</td>\n",
       "      <td>17</td>\n",
       "      <td>phecode_979_Retina_ImageTraining_[]_ConvNeXt_M...</td>\n",
       "    </tr>\n",
       "    <tr>\n",
       "      <th>77282</th>\n",
       "      <td>ImageTraining_[]_ConvNeXt_MLPHead_predictions_...</td>\n",
       "      <td>phecode_979</td>\n",
       "      <td>Retina</td>\n",
       "      <td>18</td>\n",
       "      <td>phecode_979_Retina_ImageTraining_[]_ConvNeXt_M...</td>\n",
       "    </tr>\n",
       "    <tr>\n",
       "      <th>77283</th>\n",
       "      <td>ImageTraining_[]_ConvNeXt_MLPHead_predictions_...</td>\n",
       "      <td>phecode_979</td>\n",
       "      <td>Retina</td>\n",
       "      <td>19</td>\n",
       "      <td>phecode_979_Retina_ImageTraining_[]_ConvNeXt_M...</td>\n",
       "    </tr>\n",
       "    <tr>\n",
       "      <th>77284</th>\n",
       "      <td>ImageTraining_[]_ConvNeXt_MLPHead_predictions_...</td>\n",
       "      <td>phecode_979</td>\n",
       "      <td>Retina</td>\n",
       "      <td>20</td>\n",
       "      <td>phecode_979_Retina_ImageTraining_[]_ConvNeXt_M...</td>\n",
       "    </tr>\n",
       "    <tr>\n",
       "      <th>77285</th>\n",
       "      <td>ImageTraining_[]_ConvNeXt_MLPHead_predictions_...</td>\n",
       "      <td>phecode_979</td>\n",
       "      <td>Retina</td>\n",
       "      <td>21</td>\n",
       "      <td>phecode_979_Retina_ImageTraining_[]_ConvNeXt_M...</td>\n",
       "    </tr>\n",
       "  </tbody>\n",
       "</table>\n",
       "<p>77286 rows × 5 columns</p>\n",
       "</div>"
      ],
      "text/plain": [
       "                                                   model      endpoint  \\\n",
       "0      ImageTraining_[]_ConvNeXt_MLPHead_predictions_...  OMOP_4306655   \n",
       "1      ImageTraining_[]_ConvNeXt_MLPHead_predictions_...  OMOP_4306655   \n",
       "2      ImageTraining_[]_ConvNeXt_MLPHead_predictions_...  OMOP_4306655   \n",
       "3      ImageTraining_[]_ConvNeXt_MLPHead_predictions_...  OMOP_4306655   \n",
       "4      ImageTraining_[]_ConvNeXt_MLPHead_predictions_...  OMOP_4306655   \n",
       "...                                                  ...           ...   \n",
       "77281  ImageTraining_[]_ConvNeXt_MLPHead_predictions_...   phecode_979   \n",
       "77282  ImageTraining_[]_ConvNeXt_MLPHead_predictions_...   phecode_979   \n",
       "77283  ImageTraining_[]_ConvNeXt_MLPHead_predictions_...   phecode_979   \n",
       "77284  ImageTraining_[]_ConvNeXt_MLPHead_predictions_...   phecode_979   \n",
       "77285  ImageTraining_[]_ConvNeXt_MLPHead_predictions_...   phecode_979   \n",
       "\n",
       "         score  partition                                               path  \n",
       "0      Age+Sex          0  OMOP_4306655_Age+Sex_ImageTraining_[]_ConvNeXt...  \n",
       "1      Age+Sex          1  OMOP_4306655_Age+Sex_ImageTraining_[]_ConvNeXt...  \n",
       "2      Age+Sex          2  OMOP_4306655_Age+Sex_ImageTraining_[]_ConvNeXt...  \n",
       "3      Age+Sex          3  OMOP_4306655_Age+Sex_ImageTraining_[]_ConvNeXt...  \n",
       "4      Age+Sex          4  OMOP_4306655_Age+Sex_ImageTraining_[]_ConvNeXt...  \n",
       "...        ...        ...                                                ...  \n",
       "77281   Retina         17  phecode_979_Retina_ImageTraining_[]_ConvNeXt_M...  \n",
       "77282   Retina         18  phecode_979_Retina_ImageTraining_[]_ConvNeXt_M...  \n",
       "77283   Retina         19  phecode_979_Retina_ImageTraining_[]_ConvNeXt_M...  \n",
       "77284   Retina         20  phecode_979_Retina_ImageTraining_[]_ConvNeXt_M...  \n",
       "77285   Retina         21  phecode_979_Retina_ImageTraining_[]_ConvNeXt_M...  \n",
       "\n",
       "[77286 rows x 5 columns]"
      ]
     },
     "execution_count": 19,
     "metadata": {},
     "output_type": "execute_result"
    }
   ],
   "source": [
    "in_path = f\"{experiment_path}/coxph/predictions\"\n",
    "prediction_paths = !ls $in_path\n",
    "print(prediction_paths[0])\n",
    "predictions = pd.Series(prediction_paths).str.split(\"_\", expand=True)\\\n",
    "    .assign(path = prediction_paths)\\\n",
    "    .assign(endpoint = lambda x: x[0]+\"_\"+x[1])\\\n",
    "    .assign(score = lambda x: x[2])\\\n",
    "    .assign(model = lambda x: x[3]+\"_\"+x[4]+\"_\"+x[5]+\"_\"+x[6]+\"_\"+x[7]+\"_\"+x[8])\\\n",
    "    .assign(partition = lambda x: x[9].str.replace(\".feather\", \"\", regex=True).astype(int))\\\n",
    "    [[\"model\", \"endpoint\", \"score\", \"partition\", \"path\"]].sort_values([\"model\", \"endpoint\", \"score\", \"partition\"]).reset_index(drop=True)\n",
    "predictions"
   ]
  },
  {
   "cell_type": "code",
   "execution_count": 20,
   "metadata": {
    "execution": {
     "iopub.execute_input": "2022-08-25T19:44:49.437985Z",
     "iopub.status.busy": "2022-08-25T19:44:49.437842Z",
     "iopub.status.idle": "2022-08-25T19:44:49.487382Z",
     "shell.execute_reply": "2022-08-25T19:44:49.487020Z",
     "shell.execute_reply.started": "2022-08-25T19:44:49.437971Z"
    }
   },
   "outputs": [],
   "source": [
    "predictions.to_feather(f\"{experiment_path}/prediction_paths.feather\")"
   ]
  },
  {
   "cell_type": "code",
   "execution_count": null,
   "metadata": {},
   "outputs": [],
   "source": []
  }
 ],
 "metadata": {
  "kernelspec": {
   "display_name": "retrisk",
   "language": "python",
   "name": "retrisk"
  },
  "language_info": {
   "codemirror_mode": {
    "name": "ipython",
    "version": 3
   },
   "file_extension": ".py",
   "mimetype": "text/x-python",
   "name": "python",
   "nbconvert_exporter": "python",
   "pygments_lexer": "ipython3",
   "version": "3.9.7"
  },
  "toc-autonumbering": false
 },
 "nbformat": 4,
 "nbformat_minor": 4
}
