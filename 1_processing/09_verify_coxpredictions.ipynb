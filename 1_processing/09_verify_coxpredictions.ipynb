{
 "cells": [
  {
   "cell_type": "markdown",
   "metadata": {},
   "source": [
    "# Benchmarks"
   ]
  },
  {
   "cell_type": "markdown",
   "metadata": {},
   "source": [
    "## Initialize"
   ]
  },
  {
   "cell_type": "code",
   "execution_count": 1,
   "metadata": {
    "tags": []
   },
   "outputs": [],
   "source": [
    "import os\n",
    "import math\n",
    "import pathlib\n",
    "import numpy as np\n",
    "import pandas as pd\n",
    "import pyarrow as pa\n",
    "import pyarrow.feather as feather\n",
    "from tqdm.auto import tqdm\n",
    "from IPython.display import clear_output\n",
    "\n",
    "import warnings\n",
    "from lifelines.utils import CensoringType\n",
    "from lifelines.utils import concordance_index"
   ]
  },
  {
   "cell_type": "code",
   "execution_count": 2,
   "metadata": {
    "tags": []
   },
   "outputs": [
    {
     "name": "stdout",
     "output_type": "stream",
     "text": [
      "/sc-projects/sc-proj-ukb-cvd\n",
      "experiment path: /sc-projects/sc-proj-ukb-cvd/results/projects/22_retina_phewas/data/230905\n"
     ]
    }
   ],
   "source": [
    "node = !hostname\n",
    "if \"sc\" in node[0]:\n",
    "    base_path = \"/sc-projects/sc-proj-ukb-cvd\"\n",
    "else: \n",
    "    base_path = \"/data/analysis/ag-reils/ag-reils-shared/cardioRS\"\n",
    "print(base_path)\n",
    "\n",
    "project_label = \"22_retina_phewas\"\n",
    "project_path = f\"{base_path}/results/projects/{project_label}\"\n",
    "figure_path = f\"{project_path}/figures\"\n",
    "output_path = f\"{project_path}/data\"\n",
    "\n",
    "pathlib.Path(figure_path).mkdir(parents=True, exist_ok=True)\n",
    "pathlib.Path(output_path).mkdir(parents=True, exist_ok=True)\n",
    "\n",
    "experiment = '230905'\n",
    "experiment_path = f\"{output_path}/{experiment}\"\n",
    "print('experiment path:', experiment_path)\n",
    "pathlib.Path(experiment_path).mkdir(parents=True, exist_ok=True)\n",
    "\n",
    "name_dict = {\n",
    "#     \"predictions_cropratio0.3\": \"ConvNextSmall(Retina)+MLP_cropratio0.3\",\n",
    "#     \"predictions_cropratio0.5\": \"ConvNextSmall(Retina)+MLP_cropratio0.5\",\n",
    "#    \"predictions_cropratio0.66\": \"ConvNextSmall(Retina)+MLP_cropratio0.66\",\n",
    "    \"predictions\": \"ConvNextSmall(Retina)+MLP_cropratio0.66\",\n",
    "}\n",
    "\n",
    "#partitions = [i for i in range(22)]\n",
    "partitions = [4, 5, 7, 9, 10, 20] # Partitions with eye test centers"
   ]
  },
  {
   "cell_type": "code",
   "execution_count": 3,
   "metadata": {},
   "outputs": [],
   "source": [
    "today = '230905'"
   ]
  },
  {
   "cell_type": "code",
   "execution_count": 4,
   "metadata": {
    "tags": []
   },
   "outputs": [],
   "source": [
    "import pandas as pd\n",
    "endpoints = sorted([l.replace('_prevalent', '') for l in list(pd.read_csv(f'/sc-projects/sc-proj-ukb-cvd/results/projects/{project_label}/data/{today}/endpoints.csv').endpoint.values)])"
   ]
  },
  {
   "cell_type": "code",
   "execution_count": 5,
   "metadata": {
    "tags": []
   },
   "outputs": [],
   "source": [
    "out_path = f\"{experiment_path}/coxph/predictions\"\n",
    "pathlib.Path(out_path).mkdir(parents=True, exist_ok=True)"
   ]
  },
  {
   "cell_type": "code",
   "execution_count": 6,
   "metadata": {
    "tags": []
   },
   "outputs": [],
   "source": [
    "from sklearn.preprocessing import StandardScaler\n",
    "import pickle\n",
    "import zstandard\n",
    "\n",
    "def read_data(fp_in):\n",
    "    temp = pd.read_feather(f\"{fp_in}\").set_index(\"eid\")\n",
    "    return temp   \n",
    "    \n",
    "def save_pickle(data, data_path):\n",
    "    with open(data_path, \"wb\") as fh:\n",
    "        cctx = zstandard.ZstdCompressor()\n",
    "        with cctx.stream_writer(fh) as compressor:\n",
    "            compressor.write(pickle.dumps(data, protocol=pickle.HIGHEST_PROTOCOL))\n",
    "    \n",
    "def read_predictions(endpoint, feature_set, partition, model):\n",
    "    \n",
    "    #identifier = f\"{endpoint}_{feature_set}_{model}_{partition}_mean\" # for meaned preds\n",
    "    identifier = f\"{endpoint}_{feature_set}_{model}_{partition}\"\n",
    "    fp_in = f\"{out_path}/{identifier}.feather\"\n",
    "    \n",
    "    temp = read_data(fp_in)\n",
    "    return temp"
   ]
  },
  {
   "cell_type": "code",
   "execution_count": 7,
   "metadata": {
    "tags": []
   },
   "outputs": [
    {
     "data": {
      "text/plain": [
       "['ImageTraining_[]_ConvNeXt_MLPHead_predictions']"
      ]
     },
     "execution_count": 7,
     "metadata": {},
     "output_type": "execute_result"
    }
   ],
   "source": [
    "model_path = pathlib.Path(f\"{experiment_path}/coxph/input\")\n",
    "models = [f.name for f in model_path.iterdir() if f.is_dir() and \"ipynb_checkpoints\" not in str(f)]\n",
    "models"
   ]
  },
  {
   "cell_type": "code",
   "execution_count": 8,
   "metadata": {
    "tags": []
   },
   "outputs": [
    {
     "data": {
      "application/vnd.jupyter.widget-view+json": {
       "model_id": "d49c91b7446749d3939b466df5d2f967",
       "version_major": 2,
       "version_minor": 0
      },
      "text/plain": [
       "  0%|          | 0/752 [00:00<?, ?it/s]"
      ]
     },
     "metadata": {},
     "output_type": "display_data"
    }
   ],
   "source": [
    "d = []\n",
    "\n",
    "for endpoint in tqdm(endpoints):\n",
    "    #print(i)\n",
    "    for feature_set in [\n",
    "        \"Age+Sex\",\n",
    "        \"Retina\",\n",
    "        \"Age+Sex+Retina\",\n",
    "         \"SCORE2\",\n",
    "         \"SCORE2+Retina\",\n",
    "         \"ASCVD\",\n",
    "         \"ASCVD+Retina\",\n",
    "         \"QRISK3\",\n",
    "         \"QRISK3+Retina\"\n",
    "                    ]:\n",
    "        for partition in partitions:\n",
    "            for model in models:\n",
    "                try: \n",
    "                    temp = read_predictions(endpoint, feature_set, partition, model)\n",
    "                    d.append({\"endpoint\": endpoint, \"features\":feature_set, \"model\":model, \"partition\":partition, \"available\": True})\n",
    "                except:\n",
    "                    d.append({\"endpoint\": endpoint, \"features\":feature_set, \"partition\":partition, \"available\": False})"
   ]
  },
  {
   "cell_type": "code",
   "execution_count": 9,
   "metadata": {
    "tags": []
   },
   "outputs": [
    {
     "data": {
      "text/plain": [
       "array([ True])"
      ]
     },
     "execution_count": 9,
     "metadata": {},
     "output_type": "execute_result"
    }
   ],
   "source": [
    "pd.DataFrame.from_dict(d)['available'].unique()"
   ]
  },
  {
   "cell_type": "code",
   "execution_count": 10,
   "metadata": {
    "tags": []
   },
   "outputs": [
    {
     "data": {
      "text/html": [
       "<div>\n",
       "<style scoped>\n",
       "    .dataframe tbody tr th:only-of-type {\n",
       "        vertical-align: middle;\n",
       "    }\n",
       "\n",
       "    .dataframe tbody tr th {\n",
       "        vertical-align: top;\n",
       "    }\n",
       "\n",
       "    .dataframe thead th {\n",
       "        text-align: right;\n",
       "    }\n",
       "</style>\n",
       "<table border=\"1\" class=\"dataframe\">\n",
       "  <thead>\n",
       "    <tr style=\"text-align: right;\">\n",
       "      <th></th>\n",
       "      <th>available</th>\n",
       "    </tr>\n",
       "    <tr>\n",
       "      <th>features</th>\n",
       "      <th></th>\n",
       "    </tr>\n",
       "  </thead>\n",
       "  <tbody>\n",
       "    <tr>\n",
       "      <th>ASCVD</th>\n",
       "      <td>4512</td>\n",
       "    </tr>\n",
       "    <tr>\n",
       "      <th>ASCVD+Retina</th>\n",
       "      <td>4512</td>\n",
       "    </tr>\n",
       "    <tr>\n",
       "      <th>Age+Sex</th>\n",
       "      <td>4512</td>\n",
       "    </tr>\n",
       "    <tr>\n",
       "      <th>Age+Sex+Retina</th>\n",
       "      <td>4512</td>\n",
       "    </tr>\n",
       "    <tr>\n",
       "      <th>QRISK3</th>\n",
       "      <td>4512</td>\n",
       "    </tr>\n",
       "    <tr>\n",
       "      <th>QRISK3+Retina</th>\n",
       "      <td>4512</td>\n",
       "    </tr>\n",
       "    <tr>\n",
       "      <th>Retina</th>\n",
       "      <td>4512</td>\n",
       "    </tr>\n",
       "    <tr>\n",
       "      <th>SCORE2</th>\n",
       "      <td>4512</td>\n",
       "    </tr>\n",
       "    <tr>\n",
       "      <th>SCORE2+Retina</th>\n",
       "      <td>4512</td>\n",
       "    </tr>\n",
       "  </tbody>\n",
       "</table>\n",
       "</div>"
      ],
      "text/plain": [
       "                available\n",
       "features                 \n",
       "ASCVD                4512\n",
       "ASCVD+Retina         4512\n",
       "Age+Sex              4512\n",
       "Age+Sex+Retina       4512\n",
       "QRISK3               4512\n",
       "QRISK3+Retina        4512\n",
       "Retina               4512\n",
       "SCORE2               4512\n",
       "SCORE2+Retina        4512"
      ]
     },
     "execution_count": 10,
     "metadata": {},
     "output_type": "execute_result"
    }
   ],
   "source": [
    "pd.DataFrame.from_dict(d).groupby([\"features\"])[\"available\"].sum().to_frame()"
   ]
  },
  {
   "cell_type": "code",
   "execution_count": 11,
   "metadata": {
    "tags": []
   },
   "outputs": [
    {
     "data": {
      "text/html": [
       "<div>\n",
       "<style scoped>\n",
       "    .dataframe tbody tr th:only-of-type {\n",
       "        vertical-align: middle;\n",
       "    }\n",
       "\n",
       "    .dataframe tbody tr th {\n",
       "        vertical-align: top;\n",
       "    }\n",
       "\n",
       "    .dataframe thead th {\n",
       "        text-align: right;\n",
       "    }\n",
       "</style>\n",
       "<table border=\"1\" class=\"dataframe\">\n",
       "  <thead>\n",
       "    <tr style=\"text-align: right;\">\n",
       "      <th></th>\n",
       "      <th></th>\n",
       "      <th>available</th>\n",
       "    </tr>\n",
       "    <tr>\n",
       "      <th>model</th>\n",
       "      <th>features</th>\n",
       "      <th></th>\n",
       "    </tr>\n",
       "  </thead>\n",
       "  <tbody>\n",
       "    <tr>\n",
       "      <th rowspan=\"9\" valign=\"top\">ImageTraining_[]_ConvNeXt_MLPHead_predictions</th>\n",
       "      <th>ASCVD</th>\n",
       "      <td>4512</td>\n",
       "    </tr>\n",
       "    <tr>\n",
       "      <th>ASCVD+Retina</th>\n",
       "      <td>4512</td>\n",
       "    </tr>\n",
       "    <tr>\n",
       "      <th>Age+Sex</th>\n",
       "      <td>4512</td>\n",
       "    </tr>\n",
       "    <tr>\n",
       "      <th>Age+Sex+Retina</th>\n",
       "      <td>4512</td>\n",
       "    </tr>\n",
       "    <tr>\n",
       "      <th>QRISK3</th>\n",
       "      <td>4512</td>\n",
       "    </tr>\n",
       "    <tr>\n",
       "      <th>QRISK3+Retina</th>\n",
       "      <td>4512</td>\n",
       "    </tr>\n",
       "    <tr>\n",
       "      <th>Retina</th>\n",
       "      <td>4512</td>\n",
       "    </tr>\n",
       "    <tr>\n",
       "      <th>SCORE2</th>\n",
       "      <td>4512</td>\n",
       "    </tr>\n",
       "    <tr>\n",
       "      <th>SCORE2+Retina</th>\n",
       "      <td>4512</td>\n",
       "    </tr>\n",
       "  </tbody>\n",
       "</table>\n",
       "</div>"
      ],
      "text/plain": [
       "                                                              available\n",
       "model                                         features                 \n",
       "ImageTraining_[]_ConvNeXt_MLPHead_predictions ASCVD                4512\n",
       "                                              ASCVD+Retina         4512\n",
       "                                              Age+Sex              4512\n",
       "                                              Age+Sex+Retina       4512\n",
       "                                              QRISK3               4512\n",
       "                                              QRISK3+Retina        4512\n",
       "                                              Retina               4512\n",
       "                                              SCORE2               4512\n",
       "                                              SCORE2+Retina        4512"
      ]
     },
     "execution_count": 11,
     "metadata": {},
     "output_type": "execute_result"
    }
   ],
   "source": [
    "pd.DataFrame.from_dict(d).groupby([\"model\", \"features\"])[\"available\"].sum().to_frame()"
   ]
  },
  {
   "cell_type": "code",
   "execution_count": 12,
   "metadata": {
    "tags": []
   },
   "outputs": [
    {
     "name": "stdout",
     "output_type": "stream",
     "text": [
      "OMOP_4306655_Age+Sex_ImageTraining_[]_ConvNeXt_MLPHead_predictions_10.feather\n"
     ]
    },
    {
     "data": {
      "text/html": [
       "<div>\n",
       "<style scoped>\n",
       "    .dataframe tbody tr th:only-of-type {\n",
       "        vertical-align: middle;\n",
       "    }\n",
       "\n",
       "    .dataframe tbody tr th {\n",
       "        vertical-align: top;\n",
       "    }\n",
       "\n",
       "    .dataframe thead th {\n",
       "        text-align: right;\n",
       "    }\n",
       "</style>\n",
       "<table border=\"1\" class=\"dataframe\">\n",
       "  <thead>\n",
       "    <tr style=\"text-align: right;\">\n",
       "      <th></th>\n",
       "      <th>model</th>\n",
       "      <th>endpoint</th>\n",
       "      <th>score</th>\n",
       "      <th>partition</th>\n",
       "      <th>path</th>\n",
       "    </tr>\n",
       "  </thead>\n",
       "  <tbody>\n",
       "    <tr>\n",
       "      <th>0</th>\n",
       "      <td>ImageTraining_[]_ConvNeXt_MLPHead_predictions</td>\n",
       "      <td>OMOP_4306655</td>\n",
       "      <td>ASCVD</td>\n",
       "      <td>4</td>\n",
       "      <td>OMOP_4306655_ASCVD_ImageTraining_[]_ConvNeXt_M...</td>\n",
       "    </tr>\n",
       "    <tr>\n",
       "      <th>1</th>\n",
       "      <td>ImageTraining_[]_ConvNeXt_MLPHead_predictions</td>\n",
       "      <td>OMOP_4306655</td>\n",
       "      <td>ASCVD</td>\n",
       "      <td>5</td>\n",
       "      <td>OMOP_4306655_ASCVD_ImageTraining_[]_ConvNeXt_M...</td>\n",
       "    </tr>\n",
       "    <tr>\n",
       "      <th>2</th>\n",
       "      <td>ImageTraining_[]_ConvNeXt_MLPHead_predictions</td>\n",
       "      <td>OMOP_4306655</td>\n",
       "      <td>ASCVD</td>\n",
       "      <td>7</td>\n",
       "      <td>OMOP_4306655_ASCVD_ImageTraining_[]_ConvNeXt_M...</td>\n",
       "    </tr>\n",
       "    <tr>\n",
       "      <th>3</th>\n",
       "      <td>ImageTraining_[]_ConvNeXt_MLPHead_predictions</td>\n",
       "      <td>OMOP_4306655</td>\n",
       "      <td>ASCVD</td>\n",
       "      <td>9</td>\n",
       "      <td>OMOP_4306655_ASCVD_ImageTraining_[]_ConvNeXt_M...</td>\n",
       "    </tr>\n",
       "    <tr>\n",
       "      <th>4</th>\n",
       "      <td>ImageTraining_[]_ConvNeXt_MLPHead_predictions</td>\n",
       "      <td>OMOP_4306655</td>\n",
       "      <td>ASCVD</td>\n",
       "      <td>10</td>\n",
       "      <td>OMOP_4306655_ASCVD_ImageTraining_[]_ConvNeXt_M...</td>\n",
       "    </tr>\n",
       "    <tr>\n",
       "      <th>...</th>\n",
       "      <td>...</td>\n",
       "      <td>...</td>\n",
       "      <td>...</td>\n",
       "      <td>...</td>\n",
       "      <td>...</td>\n",
       "    </tr>\n",
       "    <tr>\n",
       "      <th>40603</th>\n",
       "      <td>ImageTraining_[]_ConvNeXt_MLPHead_predictions</td>\n",
       "      <td>phecode_997</td>\n",
       "      <td>SCORE2+Retina</td>\n",
       "      <td>5</td>\n",
       "      <td>phecode_997_SCORE2+Retina_ImageTraining_[]_Con...</td>\n",
       "    </tr>\n",
       "    <tr>\n",
       "      <th>40604</th>\n",
       "      <td>ImageTraining_[]_ConvNeXt_MLPHead_predictions</td>\n",
       "      <td>phecode_997</td>\n",
       "      <td>SCORE2+Retina</td>\n",
       "      <td>7</td>\n",
       "      <td>phecode_997_SCORE2+Retina_ImageTraining_[]_Con...</td>\n",
       "    </tr>\n",
       "    <tr>\n",
       "      <th>40605</th>\n",
       "      <td>ImageTraining_[]_ConvNeXt_MLPHead_predictions</td>\n",
       "      <td>phecode_997</td>\n",
       "      <td>SCORE2+Retina</td>\n",
       "      <td>9</td>\n",
       "      <td>phecode_997_SCORE2+Retina_ImageTraining_[]_Con...</td>\n",
       "    </tr>\n",
       "    <tr>\n",
       "      <th>40606</th>\n",
       "      <td>ImageTraining_[]_ConvNeXt_MLPHead_predictions</td>\n",
       "      <td>phecode_997</td>\n",
       "      <td>SCORE2+Retina</td>\n",
       "      <td>10</td>\n",
       "      <td>phecode_997_SCORE2+Retina_ImageTraining_[]_Con...</td>\n",
       "    </tr>\n",
       "    <tr>\n",
       "      <th>40607</th>\n",
       "      <td>ImageTraining_[]_ConvNeXt_MLPHead_predictions</td>\n",
       "      <td>phecode_997</td>\n",
       "      <td>SCORE2+Retina</td>\n",
       "      <td>20</td>\n",
       "      <td>phecode_997_SCORE2+Retina_ImageTraining_[]_Con...</td>\n",
       "    </tr>\n",
       "  </tbody>\n",
       "</table>\n",
       "<p>40608 rows × 5 columns</p>\n",
       "</div>"
      ],
      "text/plain": [
       "                                               model      endpoint  \\\n",
       "0      ImageTraining_[]_ConvNeXt_MLPHead_predictions  OMOP_4306655   \n",
       "1      ImageTraining_[]_ConvNeXt_MLPHead_predictions  OMOP_4306655   \n",
       "2      ImageTraining_[]_ConvNeXt_MLPHead_predictions  OMOP_4306655   \n",
       "3      ImageTraining_[]_ConvNeXt_MLPHead_predictions  OMOP_4306655   \n",
       "4      ImageTraining_[]_ConvNeXt_MLPHead_predictions  OMOP_4306655   \n",
       "...                                              ...           ...   \n",
       "40603  ImageTraining_[]_ConvNeXt_MLPHead_predictions   phecode_997   \n",
       "40604  ImageTraining_[]_ConvNeXt_MLPHead_predictions   phecode_997   \n",
       "40605  ImageTraining_[]_ConvNeXt_MLPHead_predictions   phecode_997   \n",
       "40606  ImageTraining_[]_ConvNeXt_MLPHead_predictions   phecode_997   \n",
       "40607  ImageTraining_[]_ConvNeXt_MLPHead_predictions   phecode_997   \n",
       "\n",
       "               score  partition  \\\n",
       "0              ASCVD          4   \n",
       "1              ASCVD          5   \n",
       "2              ASCVD          7   \n",
       "3              ASCVD          9   \n",
       "4              ASCVD         10   \n",
       "...              ...        ...   \n",
       "40603  SCORE2+Retina          5   \n",
       "40604  SCORE2+Retina          7   \n",
       "40605  SCORE2+Retina          9   \n",
       "40606  SCORE2+Retina         10   \n",
       "40607  SCORE2+Retina         20   \n",
       "\n",
       "                                                    path  \n",
       "0      OMOP_4306655_ASCVD_ImageTraining_[]_ConvNeXt_M...  \n",
       "1      OMOP_4306655_ASCVD_ImageTraining_[]_ConvNeXt_M...  \n",
       "2      OMOP_4306655_ASCVD_ImageTraining_[]_ConvNeXt_M...  \n",
       "3      OMOP_4306655_ASCVD_ImageTraining_[]_ConvNeXt_M...  \n",
       "4      OMOP_4306655_ASCVD_ImageTraining_[]_ConvNeXt_M...  \n",
       "...                                                  ...  \n",
       "40603  phecode_997_SCORE2+Retina_ImageTraining_[]_Con...  \n",
       "40604  phecode_997_SCORE2+Retina_ImageTraining_[]_Con...  \n",
       "40605  phecode_997_SCORE2+Retina_ImageTraining_[]_Con...  \n",
       "40606  phecode_997_SCORE2+Retina_ImageTraining_[]_Con...  \n",
       "40607  phecode_997_SCORE2+Retina_ImageTraining_[]_Con...  \n",
       "\n",
       "[40608 rows x 5 columns]"
      ]
     },
     "execution_count": 12,
     "metadata": {},
     "output_type": "execute_result"
    }
   ],
   "source": [
    "in_path = f\"{experiment_path}/coxph/predictions\"\n",
    "prediction_paths = !ls $in_path\n",
    "print(prediction_paths[0])\n",
    "predictions = pd.Series(prediction_paths).str.split(\"_\", expand=True)\\\n",
    "    .assign(path = prediction_paths)\\\n",
    "    .assign(endpoint = lambda x: x[0]+\"_\"+x[1])\\\n",
    "    .assign(score = lambda x: x[2])\\\n",
    "    .assign(model = lambda x: x[3]+\"_\"+x[4]+\"_\"+x[5]+\"_\"+x[6]+\"_\"+x[7])\\\n",
    "    .assign(partition = lambda x: x[8].str.replace(\".feather\", \"\", regex=True).astype(int))\\\n",
    "    [[\"model\", \"endpoint\", \"score\", \"partition\", \"path\"]].sort_values([\"model\", \"endpoint\", \"score\", \"partition\"]).reset_index(drop=True)\n",
    "predictions"
   ]
  },
  {
   "cell_type": "code",
   "execution_count": 13,
   "metadata": {
    "tags": []
   },
   "outputs": [],
   "source": [
    "predictions.to_feather(f\"{experiment_path}/prediction_paths.feather\")"
   ]
  },
  {
   "cell_type": "code",
   "execution_count": 14,
   "metadata": {},
   "outputs": [
    {
     "data": {
      "text/plain": [
       "'/sc-projects/sc-proj-ukb-cvd/results/projects/22_retina_phewas/data/230426'"
      ]
     },
     "execution_count": 14,
     "metadata": {},
     "output_type": "execute_result"
    }
   ],
   "source": [
    "experiment_path"
   ]
  },
  {
   "cell_type": "code",
   "execution_count": null,
   "metadata": {},
   "outputs": [],
   "source": []
  }
 ],
 "metadata": {
  "kernelspec": {
   "display_name": "Python 3 (ipykernel)",
   "language": "python",
   "name": "python3"
  },
  "language_info": {
   "codemirror_mode": {
    "name": "ipython",
    "version": 3
   },
   "file_extension": ".py",
   "mimetype": "text/x-python",
   "name": "python",
   "nbconvert_exporter": "python",
   "pygments_lexer": "ipython3",
   "version": "3.9.7"
  },
  "toc-autonumbering": false
 },
 "nbformat": 4,
 "nbformat_minor": 4
}
