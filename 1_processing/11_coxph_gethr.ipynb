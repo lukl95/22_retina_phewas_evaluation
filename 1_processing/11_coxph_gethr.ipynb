{
 "cells": [
  {
   "cell_type": "markdown",
   "metadata": {},
   "source": [
    "# Benchmarks"
   ]
  },
  {
   "cell_type": "markdown",
   "metadata": {},
   "source": [
    "## Initialize"
   ]
  },
  {
   "cell_type": "code",
   "execution_count": 1,
   "metadata": {
    "tags": []
   },
   "outputs": [],
   "source": [
    "import os\n",
    "import math\n",
    "import pathlib\n",
    "import numpy as np\n",
    "import pandas as pd\n",
    "from tqdm.auto import tqdm\n",
    "from IPython.display import clear_output\n",
    "\n",
    "import warnings\n",
    "from lifelines.utils import CensoringType\n",
    "from lifelines.utils import concordance_index"
   ]
  },
  {
   "cell_type": "code",
   "execution_count": 2,
   "metadata": {
    "tags": []
   },
   "outputs": [
    {
     "name": "stdout",
     "output_type": "stream",
     "text": [
      "/sc-projects/sc-proj-ukb-cvd\n"
     ]
    },
    {
     "data": {
      "text/plain": [
       "[0, 1, 2, 3, 4, 5, 6, 7, 8, 9, 10, 11, 12, 13, 14, 15, 16, 17, 18, 19, 20, 21]"
      ]
     },
     "execution_count": 2,
     "metadata": {},
     "output_type": "execute_result"
    }
   ],
   "source": [
    "node = !hostname\n",
    "if \"sc\" in node[0]:\n",
    "    base_path = \"/sc-projects/sc-proj-ukb-cvd\"\n",
    "else: \n",
    "    base_path = \"/data/analysis/ag-reils/ag-reils-shared/cardioRS\"\n",
    "print(base_path)\n",
    "\n",
    "project_label = \"22_retina_phewas_220603_fullrun\"\n",
    "project_path = f\"{base_path}/results/projects/{project_label}\"\n",
    "figure_path = f\"{project_path}/figures\"\n",
    "output_path = f\"{project_path}/data\"\n",
    "\n",
    "pathlib.Path(figure_path).mkdir(parents=True, exist_ok=True)\n",
    "pathlib.Path(output_path).mkdir(parents=True, exist_ok=True)\n",
    "\n",
    "experiment = '220603_fullrun'\n",
    "experiment_path = f\"{output_path}/{experiment}\"\n",
    "pathlib.Path(experiment_path).mkdir(parents=True, exist_ok=True)\n",
    "\n",
    "name_dict = {\n",
    "    \"predictions_cropratio0.3\": \"ConvNextSmall(Retina)+MLP_cropratio0.3\",\n",
    "    \"predictions_cropratio0.5\": \"ConvNextSmall(Retina)+MLP_cropratio0.5\",\n",
    "    \"predictions_cropratio0.8\": \"ConvNextSmall(Retina)+MLP_cropratio0.8\",\n",
    "}\n",
    "\n",
    "partitions = [i for i in range(22)]\n",
    "partitions"
   ]
  },
  {
   "cell_type": "code",
   "execution_count": 3,
   "metadata": {
    "tags": []
   },
   "outputs": [],
   "source": [
    "splits = [\"train\", \"valid\", 'test'] # \"test_left\", 'test_right']"
   ]
  },
  {
   "cell_type": "code",
   "execution_count": 4,
   "metadata": {},
   "outputs": [],
   "source": [
    "import pandas as pd\n",
    "endpoints = sorted([l.replace('_prevalent', '') for l in list(pd.read_csv('/sc-projects/sc-proj-ukb-cvd/results/projects/22_retinal_risk/data/220602/endpoints.csv').endpoint.values)])"
   ]
  },
  {
   "cell_type": "code",
   "execution_count": 5,
   "metadata": {
    "tags": []
   },
   "outputs": [],
   "source": [
    "endpoint_defs = pd.read_feather(f\"{output_path}/phecode_defs_220306.feather\").query(\"endpoint==@endpoints\").sort_values(\"endpoint\").set_index(\"endpoint\")"
   ]
  },
  {
   "cell_type": "code",
   "execution_count": 6,
   "metadata": {},
   "outputs": [],
   "source": [
    "from datetime import date\n",
    "today = str(date.today())\n",
    "#today = '2022-07-01'"
   ]
  },
  {
   "cell_type": "code",
   "execution_count": 7,
   "metadata": {},
   "outputs": [],
   "source": [
    "eligable_eids = pd.read_feather(f\"{output_path}/eligable_eids_{today}.feather\")\n",
    "eids_dict = eligable_eids.set_index(\"endpoint\")[\"eid_list\"].to_dict()"
   ]
  },
  {
   "cell_type": "code",
   "execution_count": 8,
   "metadata": {
    "tags": []
   },
   "outputs": [
    {
     "name": "stdout",
     "output_type": "stream",
     "text": [
      "env: MKL_NUM_THREADS=4\n",
      "env: NUMEXPR_NUM_THREADS=4\n",
      "env: OMP_NUM_THREADS=4\n"
     ]
    }
   ],
   "source": [
    "%env MKL_NUM_THREADS=4\n",
    "%env NUMEXPR_NUM_THREADS=4\n",
    "%env OMP_NUM_THREADS=4"
   ]
  },
  {
   "cell_type": "code",
   "execution_count": 9,
   "metadata": {},
   "outputs": [
    {
     "ename": "NameError",
     "evalue": "name 'ray' is not defined",
     "output_type": "error",
     "traceback": [
      "\u001b[0;31m---------------------------------------------------------------------------\u001b[0m",
      "\u001b[0;31mNameError\u001b[0m                                 Traceback (most recent call last)",
      "\u001b[0;32m/tmp/ipykernel_353690/977760057.py\u001b[0m in \u001b[0;36m<module>\u001b[0;34m\u001b[0m\n\u001b[0;32m----> 1\u001b[0;31m \u001b[0mray\u001b[0m\u001b[0;34m.\u001b[0m\u001b[0mshutdown\u001b[0m\u001b[0;34m(\u001b[0m\u001b[0;34m)\u001b[0m\u001b[0;34m\u001b[0m\u001b[0;34m\u001b[0m\u001b[0m\n\u001b[0m",
      "\u001b[0;31mNameError\u001b[0m: name 'ray' is not defined"
     ]
    }
   ],
   "source": [
    "ray.shutdown()"
   ]
  },
  {
   "cell_type": "code",
   "execution_count": 9,
   "metadata": {
    "tags": []
   },
   "outputs": [
    {
     "data": {
      "text/plain": [
       "RayContext(dashboard_url='', python_version='3.9.7', ray_version='1.12.1', ray_commit='4863e33856b54ccf8add5cbe75e41558850a1b75', address_info={'node_ip_address': '10.32.105.13', 'raylet_ip_address': '10.32.105.13', 'redis_address': None, 'object_store_address': '/tmp/ray/session_2022-07-13_17-05-45_491760_236754/sockets/plasma_store', 'raylet_socket_name': '/tmp/ray/session_2022-07-13_17-05-45_491760_236754/sockets/raylet', 'webui_url': '', 'session_dir': '/tmp/ray/session_2022-07-13_17-05-45_491760_236754', 'metrics_export_port': 47551, 'gcs_address': '10.32.105.13:6378', 'address': '10.32.105.13:6378', 'node_id': '3eeabeb6a5246609ce6ec9fcd899d2336a91d1d0765b3b8c35df353a'})"
      ]
     },
     "execution_count": 9,
     "metadata": {},
     "output_type": "execute_result"
    }
   ],
   "source": [
    "import ray\n",
    "\n",
    "ray.init(address=\"auto\")#, dashboard_port=24762, dashboard_host=\"0.0.0.0\", include_dashboard=True)#, webui_url=\"0.0.0.0\"))"
   ]
  },
  {
   "cell_type": "markdown",
   "metadata": {},
   "source": [
    "# Train COX"
   ]
  },
  {
   "cell_type": "code",
   "execution_count": 10,
   "metadata": {
    "tags": []
   },
   "outputs": [],
   "source": [
    "in_path = pathlib.Path(f\"{experiment_path}/coxph/input\")\n",
    "model_path = f\"{experiment_path}/coxph/models\"\n",
    "\n",
    "out_path = f\"{experiment_path}/coxph/predictions\"\n",
    "pathlib.Path(out_path).mkdir(parents=True, exist_ok=True)"
   ]
  },
  {
   "cell_type": "code",
   "execution_count": 11,
   "metadata": {
    "tags": []
   },
   "outputs": [],
   "source": [
    "import pickle\n",
    "import zstandard\n",
    "\n",
    "def load_pickle(fp):\n",
    "    with open(fp, \"rb\") as fh:\n",
    "        dctx = zstandard.ZstdDecompressor()\n",
    "        with dctx.stream_reader(fh) as decompressor:\n",
    "            data = pickle.loads(decompressor.read())\n",
    "    return data"
   ]
  },
  {
   "cell_type": "code",
   "execution_count": 12,
   "metadata": {
    "tags": []
   },
   "outputs": [
    {
     "data": {
      "text/html": [
       "<div>\n",
       "<style scoped>\n",
       "    .dataframe tbody tr th:only-of-type {\n",
       "        vertical-align: middle;\n",
       "    }\n",
       "\n",
       "    .dataframe tbody tr th {\n",
       "        vertical-align: top;\n",
       "    }\n",
       "\n",
       "    .dataframe thead th {\n",
       "        text-align: right;\n",
       "    }\n",
       "</style>\n",
       "<table border=\"1\" class=\"dataframe\">\n",
       "  <thead>\n",
       "    <tr style=\"text-align: right;\">\n",
       "      <th></th>\n",
       "      <th>endpoint</th>\n",
       "      <th>score</th>\n",
       "      <th>model</th>\n",
       "      <th>partition</th>\n",
       "      <th>path</th>\n",
       "    </tr>\n",
       "  </thead>\n",
       "  <tbody>\n",
       "    <tr>\n",
       "      <th>0</th>\n",
       "      <td>OMOP_4306655</td>\n",
       "      <td>ASCVD+Retina</td>\n",
       "      <td>ImageTraining_[]_ConvNeXt_MLPHead_cropratio0.3</td>\n",
       "      <td>0</td>\n",
       "      <td>OMOP_4306655_ASCVD+Retina_ImageTraining_[]_Con...</td>\n",
       "    </tr>\n",
       "    <tr>\n",
       "      <th>1</th>\n",
       "      <td>OMOP_4306655</td>\n",
       "      <td>ASCVD+Retina</td>\n",
       "      <td>ImageTraining_[]_ConvNeXt_MLPHead_cropratio0.5</td>\n",
       "      <td>0</td>\n",
       "      <td>OMOP_4306655_ASCVD+Retina_ImageTraining_[]_Con...</td>\n",
       "    </tr>\n",
       "    <tr>\n",
       "      <th>2</th>\n",
       "      <td>OMOP_4306655</td>\n",
       "      <td>ASCVD+Retina</td>\n",
       "      <td>ImageTraining_[]_ConvNeXt_MLPHead_cropratio0.8</td>\n",
       "      <td>0</td>\n",
       "      <td>OMOP_4306655_ASCVD+Retina_ImageTraining_[]_Con...</td>\n",
       "    </tr>\n",
       "    <tr>\n",
       "      <th>3</th>\n",
       "      <td>OMOP_4306655</td>\n",
       "      <td>ASCVD+Retina</td>\n",
       "      <td>ImageTraining_[]_ConvNeXt_MLPHead_cropratio0.3</td>\n",
       "      <td>1</td>\n",
       "      <td>OMOP_4306655_ASCVD+Retina_ImageTraining_[]_Con...</td>\n",
       "    </tr>\n",
       "    <tr>\n",
       "      <th>4</th>\n",
       "      <td>OMOP_4306655</td>\n",
       "      <td>ASCVD+Retina</td>\n",
       "      <td>ImageTraining_[]_ConvNeXt_MLPHead_cropratio0.5</td>\n",
       "      <td>1</td>\n",
       "      <td>OMOP_4306655_ASCVD+Retina_ImageTraining_[]_Con...</td>\n",
       "    </tr>\n",
       "    <tr>\n",
       "      <th>...</th>\n",
       "      <td>...</td>\n",
       "      <td>...</td>\n",
       "      <td>...</td>\n",
       "      <td>...</td>\n",
       "      <td>...</td>\n",
       "    </tr>\n",
       "    <tr>\n",
       "      <th>386425</th>\n",
       "      <td>phecode_979</td>\n",
       "      <td>SCORE2+Retina</td>\n",
       "      <td>ImageTraining_[]_ConvNeXt_MLPHead_cropratio0.5</td>\n",
       "      <td>20</td>\n",
       "      <td>phecode_979_SCORE2+Retina_ImageTraining_[]_Con...</td>\n",
       "    </tr>\n",
       "    <tr>\n",
       "      <th>386426</th>\n",
       "      <td>phecode_979</td>\n",
       "      <td>SCORE2+Retina</td>\n",
       "      <td>ImageTraining_[]_ConvNeXt_MLPHead_cropratio0.8</td>\n",
       "      <td>20</td>\n",
       "      <td>phecode_979_SCORE2+Retina_ImageTraining_[]_Con...</td>\n",
       "    </tr>\n",
       "    <tr>\n",
       "      <th>386427</th>\n",
       "      <td>phecode_979</td>\n",
       "      <td>SCORE2+Retina</td>\n",
       "      <td>ImageTraining_[]_ConvNeXt_MLPHead_cropratio0.3</td>\n",
       "      <td>21</td>\n",
       "      <td>phecode_979_SCORE2+Retina_ImageTraining_[]_Con...</td>\n",
       "    </tr>\n",
       "    <tr>\n",
       "      <th>386428</th>\n",
       "      <td>phecode_979</td>\n",
       "      <td>SCORE2+Retina</td>\n",
       "      <td>ImageTraining_[]_ConvNeXt_MLPHead_cropratio0.5</td>\n",
       "      <td>21</td>\n",
       "      <td>phecode_979_SCORE2+Retina_ImageTraining_[]_Con...</td>\n",
       "    </tr>\n",
       "    <tr>\n",
       "      <th>386429</th>\n",
       "      <td>phecode_979</td>\n",
       "      <td>SCORE2+Retina</td>\n",
       "      <td>ImageTraining_[]_ConvNeXt_MLPHead_cropratio0.8</td>\n",
       "      <td>21</td>\n",
       "      <td>phecode_979_SCORE2+Retina_ImageTraining_[]_Con...</td>\n",
       "    </tr>\n",
       "  </tbody>\n",
       "</table>\n",
       "<p>386430 rows × 5 columns</p>\n",
       "</div>"
      ],
      "text/plain": [
       "            endpoint          score  \\\n",
       "0       OMOP_4306655   ASCVD+Retina   \n",
       "1       OMOP_4306655   ASCVD+Retina   \n",
       "2       OMOP_4306655   ASCVD+Retina   \n",
       "3       OMOP_4306655   ASCVD+Retina   \n",
       "4       OMOP_4306655   ASCVD+Retina   \n",
       "...              ...            ...   \n",
       "386425   phecode_979  SCORE2+Retina   \n",
       "386426   phecode_979  SCORE2+Retina   \n",
       "386427   phecode_979  SCORE2+Retina   \n",
       "386428   phecode_979  SCORE2+Retina   \n",
       "386429   phecode_979  SCORE2+Retina   \n",
       "\n",
       "                                                 model  partition  \\\n",
       "0       ImageTraining_[]_ConvNeXt_MLPHead_cropratio0.3          0   \n",
       "1       ImageTraining_[]_ConvNeXt_MLPHead_cropratio0.5          0   \n",
       "2       ImageTraining_[]_ConvNeXt_MLPHead_cropratio0.8          0   \n",
       "3       ImageTraining_[]_ConvNeXt_MLPHead_cropratio0.3          1   \n",
       "4       ImageTraining_[]_ConvNeXt_MLPHead_cropratio0.5          1   \n",
       "...                                                ...        ...   \n",
       "386425  ImageTraining_[]_ConvNeXt_MLPHead_cropratio0.5         20   \n",
       "386426  ImageTraining_[]_ConvNeXt_MLPHead_cropratio0.8         20   \n",
       "386427  ImageTraining_[]_ConvNeXt_MLPHead_cropratio0.3         21   \n",
       "386428  ImageTraining_[]_ConvNeXt_MLPHead_cropratio0.5         21   \n",
       "386429  ImageTraining_[]_ConvNeXt_MLPHead_cropratio0.8         21   \n",
       "\n",
       "                                                     path  \n",
       "0       OMOP_4306655_ASCVD+Retina_ImageTraining_[]_Con...  \n",
       "1       OMOP_4306655_ASCVD+Retina_ImageTraining_[]_Con...  \n",
       "2       OMOP_4306655_ASCVD+Retina_ImageTraining_[]_Con...  \n",
       "3       OMOP_4306655_ASCVD+Retina_ImageTraining_[]_Con...  \n",
       "4       OMOP_4306655_ASCVD+Retina_ImageTraining_[]_Con...  \n",
       "...                                                   ...  \n",
       "386425  phecode_979_SCORE2+Retina_ImageTraining_[]_Con...  \n",
       "386426  phecode_979_SCORE2+Retina_ImageTraining_[]_Con...  \n",
       "386427  phecode_979_SCORE2+Retina_ImageTraining_[]_Con...  \n",
       "386428  phecode_979_SCORE2+Retina_ImageTraining_[]_Con...  \n",
       "386429  phecode_979_SCORE2+Retina_ImageTraining_[]_Con...  \n",
       "\n",
       "[386430 rows x 5 columns]"
      ]
     },
     "execution_count": 12,
     "metadata": {},
     "output_type": "execute_result"
    }
   ],
   "source": [
    "cox_paths = !ls $model_path\n",
    "cox_paths = [p for p in cox_paths if \"_Retina\" in p or \"+Retina\" in p or \"I(\" in p]\n",
    "cox = pd.Series(cox_paths).str.split(\"_\", expand=True)\\\n",
    "    .assign(path = cox_paths)\\\n",
    "    .assign(endpoint = lambda x: x[0]+\"_\"+x[1])\\\n",
    "    .assign(score = lambda x: x[2])\\\n",
    "    .assign(model = lambda x: x[3]+\"_\"+x[4]+\"_\"+x[5]+\"_\"+x[6]+\"_\"+x[8])\\\n",
    "    .assign(partition = lambda x: x[9].str.replace(\".p\", \"\", regex=True).astype(int))\\\n",
    "    [[\"endpoint\", \"score\", \"model\", \"partition\", \"path\"]].sort_values([\"endpoint\", \"score\", \"partition\"])\\\n",
    "    .query(\"endpoint ==@ endpoints\")\\\n",
    "    .reset_index(drop=True)\n",
    "cox"
   ]
  },
  {
   "cell_type": "raw",
   "metadata": {
    "execution": {
     "iopub.execute_input": "2022-04-21T12:03:31.795593Z",
     "iopub.status.busy": "2022-04-21T12:03:31.795400Z",
     "iopub.status.idle": "2022-04-21T12:03:31.801297Z",
     "shell.execute_reply": "2022-04-21T12:03:31.800939Z",
     "shell.execute_reply.started": "2022-04-21T12:03:31.795581Z"
    },
    "tags": []
   },
   "source": [
    "cox = cox.query(\"endpoint == 'phecode_101-8'\")#&score=='Age+Sex+MedicalHistory+I(Age*MH)'\")"
   ]
  },
  {
   "cell_type": "code",
   "execution_count": 13,
   "metadata": {
    "tags": []
   },
   "outputs": [],
   "source": [
    "#endpoints = sorted(cox.endpoint.unique().tolist())\n",
    "scores = sorted(cox.score.unique().tolist())\n",
    "partitions = sorted(cox.partition.unique().tolist())"
   ]
  },
  {
   "cell_type": "code",
   "execution_count": 14,
   "metadata": {
    "tags": []
   },
   "outputs": [],
   "source": [
    "#import ray\n",
    "\n",
    "@ray.remote\n",
    "def get_cox_info(p):\n",
    "    cph = load_pickle(f\"{model_path}/{p}\")\n",
    "    p_split = p.split(\"_\")\n",
    "    endpoint = f\"{p_split[0]}_{p_split[1]}\"\n",
    "    score = p_split[2]\n",
    "    model = p_split[3]+\"_\"+p_split[4]+\"_\"+p_split[5]+\"_\"+p_split[6]+\"_\"+p_split[8]\n",
    "    partition = p_split[9].replace(\".p\", \"\")\n",
    "    hrs = cph.hazard_ratios_.to_dict()\n",
    "    \n",
    "    if score==\"Age+Sex+MedicalHistory+I(Age*MH)\":\n",
    "        hr_ret = hrs[endpoint.replace(\"-\", \"\")]\n",
    "        \n",
    "        key_int_age = [k for k in hrs if \"age_at_recruitment_f21022_0_0\" in k and endpoint.replace(\"-\", \"\") in k][0]\n",
    "        hr_ret_age = hrs[key_int_age]\n",
    "        \n",
    "        try:\n",
    "            key_int_sex = [k for k in hrs if \"sex_f31_0_0\" in k and endpoint.replace(\"-\", \"\") in k][0]\n",
    "            hr_ret_sex = hrs[key_int_sex]\n",
    "        except:\n",
    "            hr_ret_sex = np.nan\n",
    "    else:\n",
    "        hr_ret = hrs[endpoint] \n",
    "        hr_ret_age = np.nan\n",
    "        hr_ret_sex = np.nan\n",
    "        \n",
    "    return {\"endpoint\": endpoint, \n",
    "            \"score\": score, \n",
    "            \"model\": model,\n",
    "            \"partition\": partition, \n",
    "            \"hrs\": hrs, \n",
    "            \"hrs_ret\": hr_ret, \n",
    "            \"hrs_ret_age\": hr_ret_age, \n",
    "            \"hrs_ret_sex\": hr_ret_sex\n",
    "           }"
   ]
  },
  {
   "cell_type": "code",
   "execution_count": 15,
   "metadata": {
    "tags": []
   },
   "outputs": [
    {
     "data": {
      "application/vnd.jupyter.widget-view+json": {
       "model_id": "04ed7443926f4743a39ff091d7034281",
       "version_major": 2,
       "version_minor": 0
      },
      "text/plain": [
       "  0%|          | 0/386430 [00:00<?, ?it/s]"
      ]
     },
     "metadata": {},
     "output_type": "display_data"
    }
   ],
   "source": [
    "rows = []\n",
    "\n",
    "for p in tqdm(cox.path.tolist()):\n",
    "    rows.append(get_cox_info.remote(p))"
   ]
  },
  {
   "cell_type": "code",
   "execution_count": 16,
   "metadata": {
    "tags": []
   },
   "outputs": [
    {
     "data": {
      "application/vnd.jupyter.widget-view+json": {
       "model_id": "1e640ae92a67463386222d90f197f11f",
       "version_major": 2,
       "version_minor": 0
      },
      "text/plain": [
       "  0%|          | 0/386430 [00:00<?, ?it/s]"
      ]
     },
     "metadata": {},
     "output_type": "display_data"
    }
   ],
   "source": [
    "rows = [ray.get(r) for r in tqdm(rows)]"
   ]
  },
  {
   "cell_type": "code",
   "execution_count": 17,
   "metadata": {
    "tags": []
   },
   "outputs": [
    {
     "data": {
      "text/plain": [
       "{'endpoint': 'OMOP_4306655',\n",
       " 'score': 'ASCVD+Retina',\n",
       " 'model': 'ImageTraining_[]_ConvNeXt_MLPHead_cropratio0.5',\n",
       " 'partition': '3',\n",
       " 'hrs': {'age': 1.1658720262780802,\n",
       "  'sex_Male': 1.17834813590126,\n",
       "  'ethnic_background_Asian': 0.899660103297356,\n",
       "  'ethnic_background_Chinese': 0.7784202298775144,\n",
       "  'ethnic_background_Black': 1.1342145252230424,\n",
       "  'ethnic_background_Mixed': 0.7588221611844511,\n",
       "  'smoking_status_Previous': 1.2023608899989966,\n",
       "  'smoking_status_Current': 2.0405203361888113,\n",
       "  'diabetes': 0.8678770361173397,\n",
       "  'antihypertensives': 1.110139487563005,\n",
       "  'systolic_blood_pressure': 1.0457669360442585,\n",
       "  'cholesterol': 0.922918208411687,\n",
       "  'hdl_cholesterol': 0.9405610924613153,\n",
       "  'OMOP_4306655': 3.7906500603892397},\n",
       " 'hrs_ret': 3.7906500603892397,\n",
       " 'hrs_ret_age': nan,\n",
       " 'hrs_ret_sex': nan}"
      ]
     },
     "execution_count": 17,
     "metadata": {},
     "output_type": "execute_result"
    }
   ],
   "source": [
    "rows[10]"
   ]
  },
  {
   "cell_type": "code",
   "execution_count": 18,
   "metadata": {
    "tags": []
   },
   "outputs": [],
   "source": [
    "hrs_endpoints = pd.DataFrame({}).append(rows, ignore_index=True)"
   ]
  },
  {
   "cell_type": "code",
   "execution_count": 19,
   "metadata": {
    "tags": []
   },
   "outputs": [
    {
     "data": {
      "text/html": [
       "<div>\n",
       "<style scoped>\n",
       "    .dataframe tbody tr th:only-of-type {\n",
       "        vertical-align: middle;\n",
       "    }\n",
       "\n",
       "    .dataframe tbody tr th {\n",
       "        vertical-align: top;\n",
       "    }\n",
       "\n",
       "    .dataframe thead th {\n",
       "        text-align: right;\n",
       "    }\n",
       "</style>\n",
       "<table border=\"1\" class=\"dataframe\">\n",
       "  <thead>\n",
       "    <tr style=\"text-align: right;\">\n",
       "      <th></th>\n",
       "      <th>endpoint</th>\n",
       "      <th>score</th>\n",
       "      <th>model</th>\n",
       "      <th>partition</th>\n",
       "      <th>hrs</th>\n",
       "      <th>hrs_ret</th>\n",
       "      <th>hrs_ret_age</th>\n",
       "      <th>hrs_ret_sex</th>\n",
       "    </tr>\n",
       "  </thead>\n",
       "  <tbody>\n",
       "    <tr>\n",
       "      <th>0</th>\n",
       "      <td>OMOP_4306655</td>\n",
       "      <td>ASCVD+Retina</td>\n",
       "      <td>ImageTraining_[]_ConvNeXt_MLPHead_cropratio0.3</td>\n",
       "      <td>0</td>\n",
       "      <td>{'age': 1.6785519293942757, 'sex_Male': 1.2723...</td>\n",
       "      <td>1.841906</td>\n",
       "      <td>NaN</td>\n",
       "      <td>NaN</td>\n",
       "    </tr>\n",
       "    <tr>\n",
       "      <th>1</th>\n",
       "      <td>OMOP_4306655</td>\n",
       "      <td>ASCVD+Retina</td>\n",
       "      <td>ImageTraining_[]_ConvNeXt_MLPHead_cropratio0.5</td>\n",
       "      <td>0</td>\n",
       "      <td>{'age': 1.4742082051582992, 'sex_Male': 1.2456...</td>\n",
       "      <td>2.305291</td>\n",
       "      <td>NaN</td>\n",
       "      <td>NaN</td>\n",
       "    </tr>\n",
       "    <tr>\n",
       "      <th>2</th>\n",
       "      <td>OMOP_4306655</td>\n",
       "      <td>ASCVD+Retina</td>\n",
       "      <td>ImageTraining_[]_ConvNeXt_MLPHead_cropratio0.8</td>\n",
       "      <td>0</td>\n",
       "      <td>{'age': 1.3630921970920196, 'sex_Male': 1.1772...</td>\n",
       "      <td>2.619298</td>\n",
       "      <td>NaN</td>\n",
       "      <td>NaN</td>\n",
       "    </tr>\n",
       "    <tr>\n",
       "      <th>3</th>\n",
       "      <td>OMOP_4306655</td>\n",
       "      <td>ASCVD+Retina</td>\n",
       "      <td>ImageTraining_[]_ConvNeXt_MLPHead_cropratio0.3</td>\n",
       "      <td>1</td>\n",
       "      <td>{'age': 1.500555052160527, 'sex_Male': 1.26175...</td>\n",
       "      <td>2.247894</td>\n",
       "      <td>NaN</td>\n",
       "      <td>NaN</td>\n",
       "    </tr>\n",
       "    <tr>\n",
       "      <th>4</th>\n",
       "      <td>OMOP_4306655</td>\n",
       "      <td>ASCVD+Retina</td>\n",
       "      <td>ImageTraining_[]_ConvNeXt_MLPHead_cropratio0.5</td>\n",
       "      <td>1</td>\n",
       "      <td>{'age': 1.2022493243146264, 'sex_Male': 1.1839...</td>\n",
       "      <td>3.231338</td>\n",
       "      <td>NaN</td>\n",
       "      <td>NaN</td>\n",
       "    </tr>\n",
       "    <tr>\n",
       "      <th>...</th>\n",
       "      <td>...</td>\n",
       "      <td>...</td>\n",
       "      <td>...</td>\n",
       "      <td>...</td>\n",
       "      <td>...</td>\n",
       "      <td>...</td>\n",
       "      <td>...</td>\n",
       "      <td>...</td>\n",
       "    </tr>\n",
       "    <tr>\n",
       "      <th>386425</th>\n",
       "      <td>phecode_979</td>\n",
       "      <td>SCORE2+Retina</td>\n",
       "      <td>ImageTraining_[]_ConvNeXt_MLPHead_cropratio0.5</td>\n",
       "      <td>20</td>\n",
       "      <td>{'age': 0.9232972866678388, 'sex_Male': 1.9362...</td>\n",
       "      <td>2.254796</td>\n",
       "      <td>NaN</td>\n",
       "      <td>NaN</td>\n",
       "    </tr>\n",
       "    <tr>\n",
       "      <th>386426</th>\n",
       "      <td>phecode_979</td>\n",
       "      <td>SCORE2+Retina</td>\n",
       "      <td>ImageTraining_[]_ConvNeXt_MLPHead_cropratio0.8</td>\n",
       "      <td>20</td>\n",
       "      <td>{'age': 0.9228791348222163, 'sex_Male': 1.9614...</td>\n",
       "      <td>2.079002</td>\n",
       "      <td>NaN</td>\n",
       "      <td>NaN</td>\n",
       "    </tr>\n",
       "    <tr>\n",
       "      <th>386427</th>\n",
       "      <td>phecode_979</td>\n",
       "      <td>SCORE2+Retina</td>\n",
       "      <td>ImageTraining_[]_ConvNeXt_MLPHead_cropratio0.3</td>\n",
       "      <td>21</td>\n",
       "      <td>{'age': 0.920288993569344, 'sex_Male': 1.74713...</td>\n",
       "      <td>3.047668</td>\n",
       "      <td>NaN</td>\n",
       "      <td>NaN</td>\n",
       "    </tr>\n",
       "    <tr>\n",
       "      <th>386428</th>\n",
       "      <td>phecode_979</td>\n",
       "      <td>SCORE2+Retina</td>\n",
       "      <td>ImageTraining_[]_ConvNeXt_MLPHead_cropratio0.5</td>\n",
       "      <td>21</td>\n",
       "      <td>{'age': 0.8972068192409791, 'sex_Male': 1.8803...</td>\n",
       "      <td>3.146781</td>\n",
       "      <td>NaN</td>\n",
       "      <td>NaN</td>\n",
       "    </tr>\n",
       "    <tr>\n",
       "      <th>386429</th>\n",
       "      <td>phecode_979</td>\n",
       "      <td>SCORE2+Retina</td>\n",
       "      <td>ImageTraining_[]_ConvNeXt_MLPHead_cropratio0.8</td>\n",
       "      <td>21</td>\n",
       "      <td>{'age': 0.8812290025231122, 'sex_Male': 2.0035...</td>\n",
       "      <td>3.159744</td>\n",
       "      <td>NaN</td>\n",
       "      <td>NaN</td>\n",
       "    </tr>\n",
       "  </tbody>\n",
       "</table>\n",
       "<p>386430 rows × 8 columns</p>\n",
       "</div>"
      ],
      "text/plain": [
       "            endpoint          score  \\\n",
       "0       OMOP_4306655   ASCVD+Retina   \n",
       "1       OMOP_4306655   ASCVD+Retina   \n",
       "2       OMOP_4306655   ASCVD+Retina   \n",
       "3       OMOP_4306655   ASCVD+Retina   \n",
       "4       OMOP_4306655   ASCVD+Retina   \n",
       "...              ...            ...   \n",
       "386425   phecode_979  SCORE2+Retina   \n",
       "386426   phecode_979  SCORE2+Retina   \n",
       "386427   phecode_979  SCORE2+Retina   \n",
       "386428   phecode_979  SCORE2+Retina   \n",
       "386429   phecode_979  SCORE2+Retina   \n",
       "\n",
       "                                                 model partition  \\\n",
       "0       ImageTraining_[]_ConvNeXt_MLPHead_cropratio0.3         0   \n",
       "1       ImageTraining_[]_ConvNeXt_MLPHead_cropratio0.5         0   \n",
       "2       ImageTraining_[]_ConvNeXt_MLPHead_cropratio0.8         0   \n",
       "3       ImageTraining_[]_ConvNeXt_MLPHead_cropratio0.3         1   \n",
       "4       ImageTraining_[]_ConvNeXt_MLPHead_cropratio0.5         1   \n",
       "...                                                ...       ...   \n",
       "386425  ImageTraining_[]_ConvNeXt_MLPHead_cropratio0.5        20   \n",
       "386426  ImageTraining_[]_ConvNeXt_MLPHead_cropratio0.8        20   \n",
       "386427  ImageTraining_[]_ConvNeXt_MLPHead_cropratio0.3        21   \n",
       "386428  ImageTraining_[]_ConvNeXt_MLPHead_cropratio0.5        21   \n",
       "386429  ImageTraining_[]_ConvNeXt_MLPHead_cropratio0.8        21   \n",
       "\n",
       "                                                      hrs   hrs_ret  \\\n",
       "0       {'age': 1.6785519293942757, 'sex_Male': 1.2723...  1.841906   \n",
       "1       {'age': 1.4742082051582992, 'sex_Male': 1.2456...  2.305291   \n",
       "2       {'age': 1.3630921970920196, 'sex_Male': 1.1772...  2.619298   \n",
       "3       {'age': 1.500555052160527, 'sex_Male': 1.26175...  2.247894   \n",
       "4       {'age': 1.2022493243146264, 'sex_Male': 1.1839...  3.231338   \n",
       "...                                                   ...       ...   \n",
       "386425  {'age': 0.9232972866678388, 'sex_Male': 1.9362...  2.254796   \n",
       "386426  {'age': 0.9228791348222163, 'sex_Male': 1.9614...  2.079002   \n",
       "386427  {'age': 0.920288993569344, 'sex_Male': 1.74713...  3.047668   \n",
       "386428  {'age': 0.8972068192409791, 'sex_Male': 1.8803...  3.146781   \n",
       "386429  {'age': 0.8812290025231122, 'sex_Male': 2.0035...  3.159744   \n",
       "\n",
       "        hrs_ret_age  hrs_ret_sex  \n",
       "0               NaN          NaN  \n",
       "1               NaN          NaN  \n",
       "2               NaN          NaN  \n",
       "3               NaN          NaN  \n",
       "4               NaN          NaN  \n",
       "...             ...          ...  \n",
       "386425          NaN          NaN  \n",
       "386426          NaN          NaN  \n",
       "386427          NaN          NaN  \n",
       "386428          NaN          NaN  \n",
       "386429          NaN          NaN  \n",
       "\n",
       "[386430 rows x 8 columns]"
      ]
     },
     "execution_count": 19,
     "metadata": {},
     "output_type": "execute_result"
    }
   ],
   "source": [
    "hrs_endpoints "
   ]
  },
  {
   "cell_type": "code",
   "execution_count": 20,
   "metadata": {
    "tags": []
   },
   "outputs": [],
   "source": [
    "name = f\"hrs_endpoints\"\n",
    "hrs_endpoints.to_feather(f\"{experiment_path}/{name}.feather\")"
   ]
  },
  {
   "cell_type": "code",
   "execution_count": 24,
   "metadata": {},
   "outputs": [
    {
     "data": {
      "text/html": [
       "<div>\n",
       "<style scoped>\n",
       "    .dataframe tbody tr th:only-of-type {\n",
       "        vertical-align: middle;\n",
       "    }\n",
       "\n",
       "    .dataframe tbody tr th {\n",
       "        vertical-align: top;\n",
       "    }\n",
       "\n",
       "    .dataframe thead th {\n",
       "        text-align: right;\n",
       "    }\n",
       "</style>\n",
       "<table border=\"1\" class=\"dataframe\">\n",
       "  <thead>\n",
       "    <tr style=\"text-align: right;\">\n",
       "      <th></th>\n",
       "      <th>endpoint</th>\n",
       "      <th>score</th>\n",
       "      <th>partition</th>\n",
       "      <th>hrs</th>\n",
       "      <th>hrs_ret</th>\n",
       "      <th>hrs_ret_age</th>\n",
       "      <th>hrs_ret_sex</th>\n",
       "    </tr>\n",
       "  </thead>\n",
       "  <tbody>\n",
       "    <tr>\n",
       "      <th>0</th>\n",
       "      <td>OMOP_4306655</td>\n",
       "      <td>Age+Sex+Retina</td>\n",
       "      <td>0</td>\n",
       "      <td>{'age_at_recruitment_f21022_0_0': 1.8536014768...</td>\n",
       "      <td>1.358667</td>\n",
       "      <td>NaN</td>\n",
       "      <td>NaN</td>\n",
       "    </tr>\n",
       "    <tr>\n",
       "      <th>1</th>\n",
       "      <td>OMOP_4306655</td>\n",
       "      <td>Retina</td>\n",
       "      <td>0</td>\n",
       "      <td>{'OMOP_4306655': 1.9896215221014746}</td>\n",
       "      <td>1.989622</td>\n",
       "      <td>NaN</td>\n",
       "      <td>NaN</td>\n",
       "    </tr>\n",
       "    <tr>\n",
       "      <th>2</th>\n",
       "      <td>phecode_002</td>\n",
       "      <td>Age+Sex+Retina</td>\n",
       "      <td>0</td>\n",
       "      <td>{'age_at_recruitment_f21022_0_0': 1.1513855518...</td>\n",
       "      <td>1.369798</td>\n",
       "      <td>NaN</td>\n",
       "      <td>NaN</td>\n",
       "    </tr>\n",
       "    <tr>\n",
       "      <th>3</th>\n",
       "      <td>phecode_002</td>\n",
       "      <td>Retina</td>\n",
       "      <td>0</td>\n",
       "      <td>{'phecode_002': 1.5118973422633717}</td>\n",
       "      <td>1.511897</td>\n",
       "      <td>NaN</td>\n",
       "      <td>NaN</td>\n",
       "    </tr>\n",
       "    <tr>\n",
       "      <th>4</th>\n",
       "      <td>phecode_002-1</td>\n",
       "      <td>Age+Sex+Retina</td>\n",
       "      <td>0</td>\n",
       "      <td>{'age_at_recruitment_f21022_0_0': 1.0310421848...</td>\n",
       "      <td>1.366880</td>\n",
       "      <td>NaN</td>\n",
       "      <td>NaN</td>\n",
       "    </tr>\n",
       "    <tr>\n",
       "      <th>...</th>\n",
       "      <td>...</td>\n",
       "      <td>...</td>\n",
       "      <td>...</td>\n",
       "      <td>...</td>\n",
       "      <td>...</td>\n",
       "      <td>...</td>\n",
       "      <td>...</td>\n",
       "    </tr>\n",
       "    <tr>\n",
       "      <th>2337</th>\n",
       "      <td>phecode_977-71</td>\n",
       "      <td>Retina</td>\n",
       "      <td>0</td>\n",
       "      <td>{'phecode_977-71': 1.3476976946053403}</td>\n",
       "      <td>1.347698</td>\n",
       "      <td>NaN</td>\n",
       "      <td>NaN</td>\n",
       "    </tr>\n",
       "    <tr>\n",
       "      <th>2338</th>\n",
       "      <td>phecode_977-72</td>\n",
       "      <td>Age+Sex+Retina</td>\n",
       "      <td>0</td>\n",
       "      <td>{'age_at_recruitment_f21022_0_0': 0.8926973277...</td>\n",
       "      <td>1.741369</td>\n",
       "      <td>NaN</td>\n",
       "      <td>NaN</td>\n",
       "    </tr>\n",
       "    <tr>\n",
       "      <th>2339</th>\n",
       "      <td>phecode_977-72</td>\n",
       "      <td>Retina</td>\n",
       "      <td>0</td>\n",
       "      <td>{'phecode_977-72': 1.6181321563468856}</td>\n",
       "      <td>1.618132</td>\n",
       "      <td>NaN</td>\n",
       "      <td>NaN</td>\n",
       "    </tr>\n",
       "    <tr>\n",
       "      <th>2340</th>\n",
       "      <td>phecode_979</td>\n",
       "      <td>Age+Sex+Retina</td>\n",
       "      <td>0</td>\n",
       "      <td>{'age_at_recruitment_f21022_0_0': 0.9573377834...</td>\n",
       "      <td>1.230307</td>\n",
       "      <td>NaN</td>\n",
       "      <td>NaN</td>\n",
       "    </tr>\n",
       "    <tr>\n",
       "      <th>2341</th>\n",
       "      <td>phecode_979</td>\n",
       "      <td>Retina</td>\n",
       "      <td>0</td>\n",
       "      <td>{'phecode_979': 1.1818470737854485}</td>\n",
       "      <td>1.181847</td>\n",
       "      <td>NaN</td>\n",
       "      <td>NaN</td>\n",
       "    </tr>\n",
       "  </tbody>\n",
       "</table>\n",
       "<p>2342 rows × 7 columns</p>\n",
       "</div>"
      ],
      "text/plain": [
       "            endpoint           score partition  \\\n",
       "0       OMOP_4306655  Age+Sex+Retina         0   \n",
       "1       OMOP_4306655          Retina         0   \n",
       "2        phecode_002  Age+Sex+Retina         0   \n",
       "3        phecode_002          Retina         0   \n",
       "4      phecode_002-1  Age+Sex+Retina         0   \n",
       "...              ...             ...       ...   \n",
       "2337  phecode_977-71          Retina         0   \n",
       "2338  phecode_977-72  Age+Sex+Retina         0   \n",
       "2339  phecode_977-72          Retina         0   \n",
       "2340     phecode_979  Age+Sex+Retina         0   \n",
       "2341     phecode_979          Retina         0   \n",
       "\n",
       "                                                    hrs   hrs_ret  \\\n",
       "0     {'age_at_recruitment_f21022_0_0': 1.8536014768...  1.358667   \n",
       "1                  {'OMOP_4306655': 1.9896215221014746}  1.989622   \n",
       "2     {'age_at_recruitment_f21022_0_0': 1.1513855518...  1.369798   \n",
       "3                   {'phecode_002': 1.5118973422633717}  1.511897   \n",
       "4     {'age_at_recruitment_f21022_0_0': 1.0310421848...  1.366880   \n",
       "...                                                 ...       ...   \n",
       "2337             {'phecode_977-71': 1.3476976946053403}  1.347698   \n",
       "2338  {'age_at_recruitment_f21022_0_0': 0.8926973277...  1.741369   \n",
       "2339             {'phecode_977-72': 1.6181321563468856}  1.618132   \n",
       "2340  {'age_at_recruitment_f21022_0_0': 0.9573377834...  1.230307   \n",
       "2341                {'phecode_979': 1.1818470737854485}  1.181847   \n",
       "\n",
       "      hrs_ret_age  hrs_ret_sex  \n",
       "0             NaN          NaN  \n",
       "1             NaN          NaN  \n",
       "2             NaN          NaN  \n",
       "3             NaN          NaN  \n",
       "4             NaN          NaN  \n",
       "...           ...          ...  \n",
       "2337          NaN          NaN  \n",
       "2338          NaN          NaN  \n",
       "2339          NaN          NaN  \n",
       "2340          NaN          NaN  \n",
       "2341          NaN          NaN  \n",
       "\n",
       "[2342 rows x 7 columns]"
      ]
     },
     "execution_count": 24,
     "metadata": {},
     "output_type": "execute_result"
    }
   ],
   "source": [
    "hrs_endpoints"
   ]
  },
  {
   "cell_type": "code",
   "execution_count": 47,
   "metadata": {},
   "outputs": [
    {
     "ename": "NameError",
     "evalue": "name 'cph' is not defined",
     "output_type": "error",
     "traceback": [
      "\u001b[0;31m---------------------------------------------------------------------------\u001b[0m",
      "\u001b[0;31mNameError\u001b[0m                                 Traceback (most recent call last)",
      "\u001b[0;32m/tmp/ipykernel_2615733/1653210156.py\u001b[0m in \u001b[0;36m<module>\u001b[0;34m\u001b[0m\n\u001b[0;32m----> 1\u001b[0;31m \u001b[0mcph\u001b[0m\u001b[0;34m.\u001b[0m\u001b[0mplot\u001b[0m\u001b[0;34m(\u001b[0m\u001b[0;34m)\u001b[0m\u001b[0;34m\u001b[0m\u001b[0;34m\u001b[0m\u001b[0m\n\u001b[0m",
      "\u001b[0;31mNameError\u001b[0m: name 'cph' is not defined"
     ]
    }
   ],
   "source": [
    "cph.plot()"
   ]
  },
  {
   "cell_type": "code",
   "execution_count": null,
   "metadata": {},
   "outputs": [],
   "source": [
    "#[[]]"
   ]
  },
  {
   "cell_type": "code",
   "execution_count": null,
   "metadata": {},
   "outputs": [],
   "source": [
    "cph.print_summary()"
   ]
  },
  {
   "cell_type": "code",
   "execution_count": null,
   "metadata": {},
   "outputs": [],
   "source": []
  }
 ],
 "metadata": {
  "kernelspec": {
   "display_name": "Python 3 (ipykernel)",
   "language": "python",
   "name": "python3"
  },
  "language_info": {
   "codemirror_mode": {
    "name": "ipython",
    "version": 3
   },
   "file_extension": ".py",
   "mimetype": "text/x-python",
   "name": "python",
   "nbconvert_exporter": "python",
   "pygments_lexer": "ipython3",
   "version": "3.9.7"
  },
  "toc-autonumbering": false
 },
 "nbformat": 4,
 "nbformat_minor": 4
}
