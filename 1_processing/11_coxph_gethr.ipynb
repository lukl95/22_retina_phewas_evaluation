{
 "cells": [
  {
   "cell_type": "markdown",
   "metadata": {},
   "source": [
    "# Benchmarks"
   ]
  },
  {
   "cell_type": "markdown",
   "metadata": {},
   "source": [
    "## Initialize"
   ]
  },
  {
   "cell_type": "code",
   "execution_count": 1,
   "metadata": {
    "tags": []
   },
   "outputs": [],
   "source": [
    "import os\n",
    "import math\n",
    "import pathlib\n",
    "import numpy as np\n",
    "import pandas as pd\n",
    "from tqdm.auto import tqdm\n",
    "from IPython.display import clear_output\n",
    "\n",
    "import warnings\n",
    "from lifelines.utils import CensoringType\n",
    "from lifelines.utils import concordance_index"
   ]
  },
  {
   "cell_type": "code",
   "execution_count": 2,
   "metadata": {
    "tags": []
   },
   "outputs": [
    {
     "name": "stdout",
     "output_type": "stream",
     "text": [
      "/sc-projects/sc-proj-ukb-cvd\n",
      "experiment path: /sc-projects/sc-proj-ukb-cvd/results/projects/22_retina_phewas/data/230426\n"
     ]
    }
   ],
   "source": [
    "node = !hostname\n",
    "if \"sc\" in node[0]:\n",
    "    base_path = \"/sc-projects/sc-proj-ukb-cvd\"\n",
    "else: \n",
    "    base_path = \"/data/analysis/ag-reils/ag-reils-shared/cardioRS\"\n",
    "print(base_path)\n",
    "\n",
    "project_label = \"22_retina_phewas\"\n",
    "project_path = f\"{base_path}/results/projects/{project_label}\"\n",
    "figure_path = f\"{project_path}/figures\"\n",
    "output_path = f\"{project_path}/data\"\n",
    "\n",
    "pathlib.Path(figure_path).mkdir(parents=True, exist_ok=True)\n",
    "pathlib.Path(output_path).mkdir(parents=True, exist_ok=True)\n",
    "\n",
    "experiment = '230426'\n",
    "experiment_path = f\"{output_path}/{experiment}\"\n",
    "print('experiment path:', experiment_path)\n",
    "pathlib.Path(experiment_path).mkdir(parents=True, exist_ok=True)\n",
    "\n",
    "name_dict = {\n",
    "#     \"predictions_cropratio0.3\": \"ConvNextSmall(Retina)+MLP_cropratio0.3\",\n",
    "#     \"predictions_cropratio0.5\": \"ConvNextSmall(Retina)+MLP_cropratio0.5\",\n",
    "#    \"predictions_cropratio0.66\": \"ConvNextSmall(Retina)+MLP_cropratio0.66\",\n",
    "    \"predictions\": \"ConvNextSmall(Retina)+MLP_cropratio0.66\",\n",
    "}\n",
    "\n",
    "#partitions = [i for i in range(22)]\n",
    "partitions = [4, 5, 7, 9, 10, 20] # Partitions with eye test centers"
   ]
  },
  {
   "cell_type": "code",
   "execution_count": 3,
   "metadata": {
    "tags": []
   },
   "outputs": [],
   "source": [
    "today = '230426'"
   ]
  },
  {
   "cell_type": "code",
   "execution_count": 4,
   "metadata": {
    "tags": []
   },
   "outputs": [],
   "source": [
    "splits = [\"train\", \"valid\", 'test'] # \"test_left\", 'test_right']"
   ]
  },
  {
   "cell_type": "code",
   "execution_count": 5,
   "metadata": {
    "tags": []
   },
   "outputs": [],
   "source": [
    "import pandas as pd\n",
    "endpoints = sorted([l.replace('_prevalent', '') for l in list(pd.read_csv(f'/sc-projects/sc-proj-ukb-cvd/results/projects/{project_label}/data/{today}/endpoints.csv').endpoint.values)])"
   ]
  },
  {
   "cell_type": "code",
   "execution_count": 6,
   "metadata": {
    "tags": []
   },
   "outputs": [],
   "source": [
    "endpoint_defs = pd.read_feather(f\"{output_path}/phecode_defs_220306.feather\").query(\"endpoint==@endpoints\").sort_values(\"endpoint\").set_index(\"endpoint\")"
   ]
  },
  {
   "cell_type": "code",
   "execution_count": 7,
   "metadata": {
    "tags": []
   },
   "outputs": [],
   "source": [
    "from datetime import date\n",
    "today = str(date.today()) if today is None else today\n"
   ]
  },
  {
   "cell_type": "code",
   "execution_count": 8,
   "metadata": {
    "tags": []
   },
   "outputs": [],
   "source": [
    "eligable_eids = pd.read_feather(f\"{output_path}/eligable_eids_{today}.feather\")\n",
    "eids_dict = eligable_eids.set_index(\"endpoint\")[\"eid_list\"].to_dict()"
   ]
  },
  {
   "cell_type": "code",
   "execution_count": 9,
   "metadata": {
    "tags": []
   },
   "outputs": [
    {
     "name": "stdout",
     "output_type": "stream",
     "text": [
      "env: MKL_NUM_THREADS=4\n",
      "env: NUMEXPR_NUM_THREADS=4\n",
      "env: OMP_NUM_THREADS=4\n"
     ]
    }
   ],
   "source": [
    "%env MKL_NUM_THREADS=4\n",
    "%env NUMEXPR_NUM_THREADS=4\n",
    "%env OMP_NUM_THREADS=4"
   ]
  },
  {
   "cell_type": "code",
   "execution_count": 10,
   "metadata": {
    "tags": []
   },
   "outputs": [],
   "source": [
    "#ray.shutdown()"
   ]
  },
  {
   "cell_type": "code",
   "execution_count": 11,
   "metadata": {
    "tags": []
   },
   "outputs": [
    {
     "data": {
      "text/plain": [
       "RayContext(dashboard_url='', python_version='3.9.7', ray_version='1.12.1', ray_commit='4863e33856b54ccf8add5cbe75e41558850a1b75', address_info={'node_ip_address': '10.32.105.1', 'raylet_ip_address': '10.32.105.1', 'redis_address': None, 'object_store_address': '/tmp/ray/session_2023-07-07_16-25-45_259843_3161834/sockets/plasma_store', 'raylet_socket_name': '/tmp/ray/session_2023-07-07_16-25-45_259843_3161834/sockets/raylet', 'webui_url': '', 'session_dir': '/tmp/ray/session_2023-07-07_16-25-45_259843_3161834', 'metrics_export_port': 46173, 'gcs_address': '10.32.105.1:64098', 'address': '10.32.105.1:64098', 'node_id': '7ff5fb2c2be26d2a5ebfb7950bbd67d7941fbb5356d30533b02287da'})"
      ]
     },
     "execution_count": 11,
     "metadata": {},
     "output_type": "execute_result"
    }
   ],
   "source": [
    "import ray\n",
    "#ray.init(address='auto') #, dashboard_port=24762, dashboard_host=\"0.0.0.0\", include_dashboard=True)#, webui_url=\"0.0.0.0\"))\n",
    "ray.init(num_cpus=16)"
   ]
  },
  {
   "cell_type": "markdown",
   "metadata": {},
   "source": [
    "# Load COX predictions"
   ]
  },
  {
   "cell_type": "code",
   "execution_count": 12,
   "metadata": {
    "tags": []
   },
   "outputs": [],
   "source": [
    "in_path = pathlib.Path(f\"{experiment_path}/coxph/input\")\n",
    "model_path = f\"{experiment_path}/coxph/models\"\n",
    "\n",
    "out_path = f\"{experiment_path}/coxph/predictions\"\n",
    "pathlib.Path(out_path).mkdir(parents=True, exist_ok=True)"
   ]
  },
  {
   "cell_type": "code",
   "execution_count": 13,
   "metadata": {
    "tags": []
   },
   "outputs": [],
   "source": [
    "import pickle\n",
    "import zstandard\n",
    "\n",
    "def load_pickle(fp):\n",
    "    with open(fp, \"rb\") as fh:\n",
    "        dctx = zstandard.ZstdDecompressor()\n",
    "        with dctx.stream_reader(fh) as decompressor:\n",
    "            data = pickle.loads(decompressor.read())\n",
    "    return data"
   ]
  },
  {
   "cell_type": "code",
   "execution_count": 14,
   "metadata": {
    "tags": []
   },
   "outputs": [
    {
     "data": {
      "text/html": [
       "<div>\n",
       "<style scoped>\n",
       "    .dataframe tbody tr th:only-of-type {\n",
       "        vertical-align: middle;\n",
       "    }\n",
       "\n",
       "    .dataframe tbody tr th {\n",
       "        vertical-align: top;\n",
       "    }\n",
       "\n",
       "    .dataframe thead th {\n",
       "        text-align: right;\n",
       "    }\n",
       "</style>\n",
       "<table border=\"1\" class=\"dataframe\">\n",
       "  <thead>\n",
       "    <tr style=\"text-align: right;\">\n",
       "      <th></th>\n",
       "      <th>endpoint</th>\n",
       "      <th>score</th>\n",
       "      <th>model</th>\n",
       "      <th>partition</th>\n",
       "      <th>path</th>\n",
       "    </tr>\n",
       "  </thead>\n",
       "  <tbody>\n",
       "    <tr>\n",
       "      <th>0</th>\n",
       "      <td>OMOP_4306655</td>\n",
       "      <td>ASCVD+Retina</td>\n",
       "      <td>ImageTraining_[]_ConvNeXt_MLPHead_predictions</td>\n",
       "      <td>4</td>\n",
       "      <td>OMOP_4306655_ASCVD+Retina_ImageTraining_[]_Con...</td>\n",
       "    </tr>\n",
       "    <tr>\n",
       "      <th>1</th>\n",
       "      <td>OMOP_4306655</td>\n",
       "      <td>ASCVD+Retina</td>\n",
       "      <td>ImageTraining_[]_ConvNeXt_MLPHead_predictions</td>\n",
       "      <td>5</td>\n",
       "      <td>OMOP_4306655_ASCVD+Retina_ImageTraining_[]_Con...</td>\n",
       "    </tr>\n",
       "    <tr>\n",
       "      <th>2</th>\n",
       "      <td>OMOP_4306655</td>\n",
       "      <td>ASCVD+Retina</td>\n",
       "      <td>ImageTraining_[]_ConvNeXt_MLPHead_predictions</td>\n",
       "      <td>7</td>\n",
       "      <td>OMOP_4306655_ASCVD+Retina_ImageTraining_[]_Con...</td>\n",
       "    </tr>\n",
       "    <tr>\n",
       "      <th>3</th>\n",
       "      <td>OMOP_4306655</td>\n",
       "      <td>ASCVD+Retina</td>\n",
       "      <td>ImageTraining_[]_ConvNeXt_MLPHead_predictions</td>\n",
       "      <td>9</td>\n",
       "      <td>OMOP_4306655_ASCVD+Retina_ImageTraining_[]_Con...</td>\n",
       "    </tr>\n",
       "    <tr>\n",
       "      <th>4</th>\n",
       "      <td>OMOP_4306655</td>\n",
       "      <td>ASCVD+Retina</td>\n",
       "      <td>ImageTraining_[]_ConvNeXt_MLPHead_predictions</td>\n",
       "      <td>10</td>\n",
       "      <td>OMOP_4306655_ASCVD+Retina_ImageTraining_[]_Con...</td>\n",
       "    </tr>\n",
       "    <tr>\n",
       "      <th>...</th>\n",
       "      <td>...</td>\n",
       "      <td>...</td>\n",
       "      <td>...</td>\n",
       "      <td>...</td>\n",
       "      <td>...</td>\n",
       "    </tr>\n",
       "    <tr>\n",
       "      <th>35095</th>\n",
       "      <td>phecode_979</td>\n",
       "      <td>SCORE2+Retina</td>\n",
       "      <td>ImageTraining_[]_ConvNeXt_MLPHead_predictions</td>\n",
       "      <td>5</td>\n",
       "      <td>phecode_979_SCORE2+Retina_ImageTraining_[]_Con...</td>\n",
       "    </tr>\n",
       "    <tr>\n",
       "      <th>35096</th>\n",
       "      <td>phecode_979</td>\n",
       "      <td>SCORE2+Retina</td>\n",
       "      <td>ImageTraining_[]_ConvNeXt_MLPHead_predictions</td>\n",
       "      <td>7</td>\n",
       "      <td>phecode_979_SCORE2+Retina_ImageTraining_[]_Con...</td>\n",
       "    </tr>\n",
       "    <tr>\n",
       "      <th>35097</th>\n",
       "      <td>phecode_979</td>\n",
       "      <td>SCORE2+Retina</td>\n",
       "      <td>ImageTraining_[]_ConvNeXt_MLPHead_predictions</td>\n",
       "      <td>9</td>\n",
       "      <td>phecode_979_SCORE2+Retina_ImageTraining_[]_Con...</td>\n",
       "    </tr>\n",
       "    <tr>\n",
       "      <th>35098</th>\n",
       "      <td>phecode_979</td>\n",
       "      <td>SCORE2+Retina</td>\n",
       "      <td>ImageTraining_[]_ConvNeXt_MLPHead_predictions</td>\n",
       "      <td>10</td>\n",
       "      <td>phecode_979_SCORE2+Retina_ImageTraining_[]_Con...</td>\n",
       "    </tr>\n",
       "    <tr>\n",
       "      <th>35099</th>\n",
       "      <td>phecode_979</td>\n",
       "      <td>SCORE2+Retina</td>\n",
       "      <td>ImageTraining_[]_ConvNeXt_MLPHead_predictions</td>\n",
       "      <td>20</td>\n",
       "      <td>phecode_979_SCORE2+Retina_ImageTraining_[]_Con...</td>\n",
       "    </tr>\n",
       "  </tbody>\n",
       "</table>\n",
       "<p>35100 rows × 5 columns</p>\n",
       "</div>"
      ],
      "text/plain": [
       "           endpoint          score  \\\n",
       "0      OMOP_4306655   ASCVD+Retina   \n",
       "1      OMOP_4306655   ASCVD+Retina   \n",
       "2      OMOP_4306655   ASCVD+Retina   \n",
       "3      OMOP_4306655   ASCVD+Retina   \n",
       "4      OMOP_4306655   ASCVD+Retina   \n",
       "...             ...            ...   \n",
       "35095   phecode_979  SCORE2+Retina   \n",
       "35096   phecode_979  SCORE2+Retina   \n",
       "35097   phecode_979  SCORE2+Retina   \n",
       "35098   phecode_979  SCORE2+Retina   \n",
       "35099   phecode_979  SCORE2+Retina   \n",
       "\n",
       "                                               model  partition  \\\n",
       "0      ImageTraining_[]_ConvNeXt_MLPHead_predictions          4   \n",
       "1      ImageTraining_[]_ConvNeXt_MLPHead_predictions          5   \n",
       "2      ImageTraining_[]_ConvNeXt_MLPHead_predictions          7   \n",
       "3      ImageTraining_[]_ConvNeXt_MLPHead_predictions          9   \n",
       "4      ImageTraining_[]_ConvNeXt_MLPHead_predictions         10   \n",
       "...                                              ...        ...   \n",
       "35095  ImageTraining_[]_ConvNeXt_MLPHead_predictions          5   \n",
       "35096  ImageTraining_[]_ConvNeXt_MLPHead_predictions          7   \n",
       "35097  ImageTraining_[]_ConvNeXt_MLPHead_predictions          9   \n",
       "35098  ImageTraining_[]_ConvNeXt_MLPHead_predictions         10   \n",
       "35099  ImageTraining_[]_ConvNeXt_MLPHead_predictions         20   \n",
       "\n",
       "                                                    path  \n",
       "0      OMOP_4306655_ASCVD+Retina_ImageTraining_[]_Con...  \n",
       "1      OMOP_4306655_ASCVD+Retina_ImageTraining_[]_Con...  \n",
       "2      OMOP_4306655_ASCVD+Retina_ImageTraining_[]_Con...  \n",
       "3      OMOP_4306655_ASCVD+Retina_ImageTraining_[]_Con...  \n",
       "4      OMOP_4306655_ASCVD+Retina_ImageTraining_[]_Con...  \n",
       "...                                                  ...  \n",
       "35095  phecode_979_SCORE2+Retina_ImageTraining_[]_Con...  \n",
       "35096  phecode_979_SCORE2+Retina_ImageTraining_[]_Con...  \n",
       "35097  phecode_979_SCORE2+Retina_ImageTraining_[]_Con...  \n",
       "35098  phecode_979_SCORE2+Retina_ImageTraining_[]_Con...  \n",
       "35099  phecode_979_SCORE2+Retina_ImageTraining_[]_Con...  \n",
       "\n",
       "[35100 rows x 5 columns]"
      ]
     },
     "execution_count": 14,
     "metadata": {},
     "output_type": "execute_result"
    }
   ],
   "source": [
    "cox_paths = !ls $model_path\n",
    "cox_paths = [p for p in cox_paths if \"_Retina\" in p or \"+Retina\" in p or \"I(\" in p]\n",
    "cox = pd.Series(cox_paths).str.split(\"_\", expand=True)\\\n",
    "    .assign(path = cox_paths)\\\n",
    "    .assign(endpoint = lambda x: x[0]+\"_\"+x[1])\\\n",
    "    .assign(score = lambda x: x[2])\\\n",
    "    .assign(model = lambda x: x[3]+\"_\"+x[4]+\"_\"+x[5]+\"_\"+x[6]+\"_\"+x[7])\\\n",
    "    .assign(partition = lambda x: x[8].str.replace(\".p\", \"\", regex=True).astype(int))\\\n",
    "    [[\"endpoint\", \"score\", \"model\", \"partition\", \"path\"]].sort_values([\"endpoint\", \"score\", \"partition\"])\\\n",
    "    .query(\"endpoint ==@ endpoints\")\\\n",
    "    .reset_index(drop=True)\n",
    "cox"
   ]
  },
  {
   "cell_type": "raw",
   "metadata": {
    "execution": {
     "iopub.execute_input": "2022-04-21T12:03:31.795593Z",
     "iopub.status.busy": "2022-04-21T12:03:31.795400Z",
     "iopub.status.idle": "2022-04-21T12:03:31.801297Z",
     "shell.execute_reply": "2022-04-21T12:03:31.800939Z",
     "shell.execute_reply.started": "2022-04-21T12:03:31.795581Z"
    },
    "tags": []
   },
   "source": [
    "cox = cox.query(\"endpoint == 'phecode_101-8'\")#&score=='Age+Sex+MedicalHistory+I(Age*MH)'\")"
   ]
  },
  {
   "cell_type": "code",
   "execution_count": 15,
   "metadata": {
    "tags": []
   },
   "outputs": [],
   "source": [
    "#endpoints = sorted(cox.endpoint.unique().tolist())\n",
    "scores = sorted(cox.score.unique().tolist())\n",
    "partitions = sorted(cox.partition.unique().tolist())"
   ]
  },
  {
   "cell_type": "code",
   "execution_count": 16,
   "metadata": {
    "tags": []
   },
   "outputs": [],
   "source": [
    "#import ray\n",
    "\n",
    "@ray.remote\n",
    "def get_cox_info(p):\n",
    "    cph = load_pickle(f\"{model_path}/{p}\")\n",
    "    p_split = p.split(\"_\")\n",
    "    endpoint = f\"{p_split[0]}_{p_split[1]}\"\n",
    "    score = p_split[2]\n",
    "    model = p_split[3]+\"_\"+p_split[4]+\"_\"+p_split[5]+\"_\"+p_split[6]+\"_\"+p_split[7]\n",
    "    partition = p_split[8].replace(\".p\", \"\")\n",
    "    hrs = cph.hazard_ratios_.to_dict()\n",
    "    \n",
    "    if score==\"Age+Sex+MedicalHistory+I(Age*MH)\":\n",
    "        hr_ret = hrs[endpoint.replace(\"-\", \"\")]\n",
    "        \n",
    "        key_int_age = [k for k in hrs if \"age_at_recruitment_f21022_0_0\" in k and endpoint.replace(\"-\", \"\") in k][0]\n",
    "        hr_ret_age = hrs[key_int_age]\n",
    "        \n",
    "        try:\n",
    "            key_int_sex = [k for k in hrs if \"sex_f31_0_0\" in k and endpoint.replace(\"-\", \"\") in k][0]\n",
    "            hr_ret_sex = hrs[key_int_sex]\n",
    "        except:\n",
    "            hr_ret_sex = np.nan\n",
    "    else:\n",
    "        hr_ret = hrs[endpoint] \n",
    "        hr_ret_age = np.nan\n",
    "        hr_ret_sex = np.nan\n",
    "        \n",
    "    return {\"endpoint\": endpoint, \n",
    "            \"score\": score, \n",
    "            \"model\": model,\n",
    "            \"partition\": partition, \n",
    "            \"hrs\": hrs, \n",
    "            \"hrs_ret\": hr_ret, \n",
    "            \"hrs_ret_age\": hr_ret_age, \n",
    "            \"hrs_ret_sex\": hr_ret_sex\n",
    "           }"
   ]
  },
  {
   "cell_type": "code",
   "execution_count": 17,
   "metadata": {
    "tags": []
   },
   "outputs": [
    {
     "data": {
      "application/vnd.jupyter.widget-view+json": {
       "model_id": "4164b12ca59f4c529da53d13ba3095b5",
       "version_major": 2,
       "version_minor": 0
      },
      "text/plain": [
       "  0%|          | 0/35100 [00:00<?, ?it/s]"
      ]
     },
     "metadata": {},
     "output_type": "display_data"
    }
   ],
   "source": [
    "rows = []\n",
    "\n",
    "for p in tqdm(cox.path.tolist()):\n",
    "    rows.append(get_cox_info.remote(p))"
   ]
  },
  {
   "cell_type": "code",
   "execution_count": 18,
   "metadata": {
    "tags": []
   },
   "outputs": [
    {
     "data": {
      "application/vnd.jupyter.widget-view+json": {
       "model_id": "954e72ccb8ce4c8c88d0af6666098b2e",
       "version_major": 2,
       "version_minor": 0
      },
      "text/plain": [
       "  0%|          | 0/35100 [00:00<?, ?it/s]"
      ]
     },
     "metadata": {},
     "output_type": "display_data"
    }
   ],
   "source": [
    "rows = [ray.get(r) for r in tqdm(rows)]"
   ]
  },
  {
   "cell_type": "code",
   "execution_count": 19,
   "metadata": {
    "tags": []
   },
   "outputs": [
    {
     "data": {
      "text/plain": [
       "{'endpoint': 'OMOP_4306655',\n",
       " 'score': 'Age+Sex+Retina',\n",
       " 'model': 'ImageTraining_[]_ConvNeXt_MLPHead_predictions',\n",
       " 'partition': '10',\n",
       " 'hrs': {'age': 1.1410971100181573,\n",
       "  'sex_Male': 1.3423641173186713,\n",
       "  'OMOP_4306655': 4.041909064551186},\n",
       " 'hrs_ret': 4.041909064551186,\n",
       " 'hrs_ret_age': nan,\n",
       " 'hrs_ret_sex': nan}"
      ]
     },
     "execution_count": 19,
     "metadata": {},
     "output_type": "execute_result"
    }
   ],
   "source": [
    "rows[10]"
   ]
  },
  {
   "cell_type": "code",
   "execution_count": 20,
   "metadata": {
    "tags": []
   },
   "outputs": [],
   "source": [
    "hrs_endpoints = pd.DataFrame({}).append(rows, ignore_index=True)"
   ]
  },
  {
   "cell_type": "code",
   "execution_count": 21,
   "metadata": {
    "tags": []
   },
   "outputs": [
    {
     "data": {
      "text/html": [
       "<div>\n",
       "<style scoped>\n",
       "    .dataframe tbody tr th:only-of-type {\n",
       "        vertical-align: middle;\n",
       "    }\n",
       "\n",
       "    .dataframe tbody tr th {\n",
       "        vertical-align: top;\n",
       "    }\n",
       "\n",
       "    .dataframe thead th {\n",
       "        text-align: right;\n",
       "    }\n",
       "</style>\n",
       "<table border=\"1\" class=\"dataframe\">\n",
       "  <thead>\n",
       "    <tr style=\"text-align: right;\">\n",
       "      <th></th>\n",
       "      <th>endpoint</th>\n",
       "      <th>score</th>\n",
       "      <th>model</th>\n",
       "      <th>partition</th>\n",
       "      <th>hrs</th>\n",
       "      <th>hrs_ret</th>\n",
       "      <th>hrs_ret_age</th>\n",
       "      <th>hrs_ret_sex</th>\n",
       "    </tr>\n",
       "  </thead>\n",
       "  <tbody>\n",
       "    <tr>\n",
       "      <th>0</th>\n",
       "      <td>OMOP_4306655</td>\n",
       "      <td>ASCVD+Retina</td>\n",
       "      <td>ImageTraining_[]_ConvNeXt_MLPHead_predictions</td>\n",
       "      <td>4</td>\n",
       "      <td>{'age': 1.2928218223174854, 'sex_Male': 1.1216...</td>\n",
       "      <td>3.443877</td>\n",
       "      <td>NaN</td>\n",
       "      <td>NaN</td>\n",
       "    </tr>\n",
       "    <tr>\n",
       "      <th>1</th>\n",
       "      <td>OMOP_4306655</td>\n",
       "      <td>ASCVD+Retina</td>\n",
       "      <td>ImageTraining_[]_ConvNeXt_MLPHead_predictions</td>\n",
       "      <td>5</td>\n",
       "      <td>{'age': 1.231744840678988, 'sex_Male': 1.18437...</td>\n",
       "      <td>3.543192</td>\n",
       "      <td>NaN</td>\n",
       "      <td>NaN</td>\n",
       "    </tr>\n",
       "    <tr>\n",
       "      <th>2</th>\n",
       "      <td>OMOP_4306655</td>\n",
       "      <td>ASCVD+Retina</td>\n",
       "      <td>ImageTraining_[]_ConvNeXt_MLPHead_predictions</td>\n",
       "      <td>7</td>\n",
       "      <td>{'age': 1.168626633335488, 'sex_Male': 1.11830...</td>\n",
       "      <td>3.843403</td>\n",
       "      <td>NaN</td>\n",
       "      <td>NaN</td>\n",
       "    </tr>\n",
       "    <tr>\n",
       "      <th>3</th>\n",
       "      <td>OMOP_4306655</td>\n",
       "      <td>ASCVD+Retina</td>\n",
       "      <td>ImageTraining_[]_ConvNeXt_MLPHead_predictions</td>\n",
       "      <td>9</td>\n",
       "      <td>{'age': 1.2577436878635417, 'sex_Male': 1.1431...</td>\n",
       "      <td>3.403358</td>\n",
       "      <td>NaN</td>\n",
       "      <td>NaN</td>\n",
       "    </tr>\n",
       "    <tr>\n",
       "      <th>4</th>\n",
       "      <td>OMOP_4306655</td>\n",
       "      <td>ASCVD+Retina</td>\n",
       "      <td>ImageTraining_[]_ConvNeXt_MLPHead_predictions</td>\n",
       "      <td>10</td>\n",
       "      <td>{'age': 1.1836294922454218, 'sex_Male': 1.1803...</td>\n",
       "      <td>3.693827</td>\n",
       "      <td>NaN</td>\n",
       "      <td>NaN</td>\n",
       "    </tr>\n",
       "    <tr>\n",
       "      <th>...</th>\n",
       "      <td>...</td>\n",
       "      <td>...</td>\n",
       "      <td>...</td>\n",
       "      <td>...</td>\n",
       "      <td>...</td>\n",
       "      <td>...</td>\n",
       "      <td>...</td>\n",
       "      <td>...</td>\n",
       "    </tr>\n",
       "    <tr>\n",
       "      <th>35095</th>\n",
       "      <td>phecode_979</td>\n",
       "      <td>SCORE2+Retina</td>\n",
       "      <td>ImageTraining_[]_ConvNeXt_MLPHead_predictions</td>\n",
       "      <td>5</td>\n",
       "      <td>{'age': 0.6630585909791791, 'sex_Male': 1.1919...</td>\n",
       "      <td>4.560656</td>\n",
       "      <td>NaN</td>\n",
       "      <td>NaN</td>\n",
       "    </tr>\n",
       "    <tr>\n",
       "      <th>35096</th>\n",
       "      <td>phecode_979</td>\n",
       "      <td>SCORE2+Retina</td>\n",
       "      <td>ImageTraining_[]_ConvNeXt_MLPHead_predictions</td>\n",
       "      <td>7</td>\n",
       "      <td>{'age': 0.6088043366205079, 'sex_Male': 1.5962...</td>\n",
       "      <td>5.439796</td>\n",
       "      <td>NaN</td>\n",
       "      <td>NaN</td>\n",
       "    </tr>\n",
       "    <tr>\n",
       "      <th>35097</th>\n",
       "      <td>phecode_979</td>\n",
       "      <td>SCORE2+Retina</td>\n",
       "      <td>ImageTraining_[]_ConvNeXt_MLPHead_predictions</td>\n",
       "      <td>9</td>\n",
       "      <td>{'age': 0.5697877955900438, 'sex_Male': 1.3178...</td>\n",
       "      <td>5.104535</td>\n",
       "      <td>NaN</td>\n",
       "      <td>NaN</td>\n",
       "    </tr>\n",
       "    <tr>\n",
       "      <th>35098</th>\n",
       "      <td>phecode_979</td>\n",
       "      <td>SCORE2+Retina</td>\n",
       "      <td>ImageTraining_[]_ConvNeXt_MLPHead_predictions</td>\n",
       "      <td>10</td>\n",
       "      <td>{'age': 0.6632703295517892, 'sex_Male': 1.4544...</td>\n",
       "      <td>4.876641</td>\n",
       "      <td>NaN</td>\n",
       "      <td>NaN</td>\n",
       "    </tr>\n",
       "    <tr>\n",
       "      <th>35099</th>\n",
       "      <td>phecode_979</td>\n",
       "      <td>SCORE2+Retina</td>\n",
       "      <td>ImageTraining_[]_ConvNeXt_MLPHead_predictions</td>\n",
       "      <td>20</td>\n",
       "      <td>{'age': 0.6392558896672366, 'sex_Male': 1.3554...</td>\n",
       "      <td>4.952136</td>\n",
       "      <td>NaN</td>\n",
       "      <td>NaN</td>\n",
       "    </tr>\n",
       "  </tbody>\n",
       "</table>\n",
       "<p>35100 rows × 8 columns</p>\n",
       "</div>"
      ],
      "text/plain": [
       "           endpoint          score  \\\n",
       "0      OMOP_4306655   ASCVD+Retina   \n",
       "1      OMOP_4306655   ASCVD+Retina   \n",
       "2      OMOP_4306655   ASCVD+Retina   \n",
       "3      OMOP_4306655   ASCVD+Retina   \n",
       "4      OMOP_4306655   ASCVD+Retina   \n",
       "...             ...            ...   \n",
       "35095   phecode_979  SCORE2+Retina   \n",
       "35096   phecode_979  SCORE2+Retina   \n",
       "35097   phecode_979  SCORE2+Retina   \n",
       "35098   phecode_979  SCORE2+Retina   \n",
       "35099   phecode_979  SCORE2+Retina   \n",
       "\n",
       "                                               model partition  \\\n",
       "0      ImageTraining_[]_ConvNeXt_MLPHead_predictions         4   \n",
       "1      ImageTraining_[]_ConvNeXt_MLPHead_predictions         5   \n",
       "2      ImageTraining_[]_ConvNeXt_MLPHead_predictions         7   \n",
       "3      ImageTraining_[]_ConvNeXt_MLPHead_predictions         9   \n",
       "4      ImageTraining_[]_ConvNeXt_MLPHead_predictions        10   \n",
       "...                                              ...       ...   \n",
       "35095  ImageTraining_[]_ConvNeXt_MLPHead_predictions         5   \n",
       "35096  ImageTraining_[]_ConvNeXt_MLPHead_predictions         7   \n",
       "35097  ImageTraining_[]_ConvNeXt_MLPHead_predictions         9   \n",
       "35098  ImageTraining_[]_ConvNeXt_MLPHead_predictions        10   \n",
       "35099  ImageTraining_[]_ConvNeXt_MLPHead_predictions        20   \n",
       "\n",
       "                                                     hrs   hrs_ret  \\\n",
       "0      {'age': 1.2928218223174854, 'sex_Male': 1.1216...  3.443877   \n",
       "1      {'age': 1.231744840678988, 'sex_Male': 1.18437...  3.543192   \n",
       "2      {'age': 1.168626633335488, 'sex_Male': 1.11830...  3.843403   \n",
       "3      {'age': 1.2577436878635417, 'sex_Male': 1.1431...  3.403358   \n",
       "4      {'age': 1.1836294922454218, 'sex_Male': 1.1803...  3.693827   \n",
       "...                                                  ...       ...   \n",
       "35095  {'age': 0.6630585909791791, 'sex_Male': 1.1919...  4.560656   \n",
       "35096  {'age': 0.6088043366205079, 'sex_Male': 1.5962...  5.439796   \n",
       "35097  {'age': 0.5697877955900438, 'sex_Male': 1.3178...  5.104535   \n",
       "35098  {'age': 0.6632703295517892, 'sex_Male': 1.4544...  4.876641   \n",
       "35099  {'age': 0.6392558896672366, 'sex_Male': 1.3554...  4.952136   \n",
       "\n",
       "       hrs_ret_age  hrs_ret_sex  \n",
       "0              NaN          NaN  \n",
       "1              NaN          NaN  \n",
       "2              NaN          NaN  \n",
       "3              NaN          NaN  \n",
       "4              NaN          NaN  \n",
       "...            ...          ...  \n",
       "35095          NaN          NaN  \n",
       "35096          NaN          NaN  \n",
       "35097          NaN          NaN  \n",
       "35098          NaN          NaN  \n",
       "35099          NaN          NaN  \n",
       "\n",
       "[35100 rows x 8 columns]"
      ]
     },
     "execution_count": 21,
     "metadata": {},
     "output_type": "execute_result"
    }
   ],
   "source": [
    "hrs_endpoints "
   ]
  },
  {
   "cell_type": "code",
   "execution_count": 22,
   "metadata": {
    "tags": []
   },
   "outputs": [],
   "source": [
    "name = f\"hrs_endpoints\"\n",
    "hrs_endpoints.to_feather(f\"{experiment_path}/{name}.feather\")"
   ]
  },
  {
   "cell_type": "code",
   "execution_count": 22,
   "metadata": {
    "tags": []
   },
   "outputs": [
    {
     "ename": "NameError",
     "evalue": "name 'cph' is not defined",
     "output_type": "error",
     "traceback": [
      "\u001b[0;31m---------------------------------------------------------------------------\u001b[0m",
      "\u001b[0;31mNameError\u001b[0m                                 Traceback (most recent call last)",
      "\u001b[0;32m/tmp/ipykernel_428289/1653210156.py\u001b[0m in \u001b[0;36m<module>\u001b[0;34m\u001b[0m\n\u001b[0;32m----> 1\u001b[0;31m \u001b[0mcph\u001b[0m\u001b[0;34m.\u001b[0m\u001b[0mplot\u001b[0m\u001b[0;34m(\u001b[0m\u001b[0;34m)\u001b[0m\u001b[0;34m\u001b[0m\u001b[0;34m\u001b[0m\u001b[0m\n\u001b[0m",
      "\u001b[0;31mNameError\u001b[0m: name 'cph' is not defined"
     ]
    }
   ],
   "source": [
    "cph.plot()"
   ]
  },
  {
   "cell_type": "code",
   "execution_count": 23,
   "metadata": {
    "tags": []
   },
   "outputs": [],
   "source": [
    "#[[]]"
   ]
  },
  {
   "cell_type": "code",
   "execution_count": 24,
   "metadata": {
    "tags": []
   },
   "outputs": [
    {
     "ename": "NameError",
     "evalue": "name 'cph' is not defined",
     "output_type": "error",
     "traceback": [
      "\u001b[0;31m---------------------------------------------------------------------------\u001b[0m",
      "\u001b[0;31mNameError\u001b[0m                                 Traceback (most recent call last)",
      "\u001b[0;32m/tmp/ipykernel_428289/3526296742.py\u001b[0m in \u001b[0;36m<module>\u001b[0;34m\u001b[0m\n\u001b[0;32m----> 1\u001b[0;31m \u001b[0mcph\u001b[0m\u001b[0;34m.\u001b[0m\u001b[0mprint_summary\u001b[0m\u001b[0;34m(\u001b[0m\u001b[0;34m)\u001b[0m\u001b[0;34m\u001b[0m\u001b[0;34m\u001b[0m\u001b[0m\n\u001b[0m",
      "\u001b[0;31mNameError\u001b[0m: name 'cph' is not defined"
     ]
    }
   ],
   "source": [
    "cph.print_summary()"
   ]
  },
  {
   "cell_type": "code",
   "execution_count": null,
   "metadata": {},
   "outputs": [],
   "source": []
  }
 ],
 "metadata": {
  "kernelspec": {
   "display_name": "Python 3 (ipykernel)",
   "language": "python",
   "name": "python3"
  },
  "language_info": {
   "codemirror_mode": {
    "name": "ipython",
    "version": 3
   },
   "file_extension": ".py",
   "mimetype": "text/x-python",
   "name": "python",
   "nbconvert_exporter": "python",
   "pygments_lexer": "ipython3",
   "version": "3.9.7"
  },
  "toc-autonumbering": false
 },
 "nbformat": 4,
 "nbformat_minor": 4
}
