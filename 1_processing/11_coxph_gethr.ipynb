{
 "cells": [
  {
   "cell_type": "markdown",
   "metadata": {},
   "source": [
    "# Benchmarks"
   ]
  },
  {
   "cell_type": "markdown",
   "metadata": {},
   "source": [
    "## Initialize"
   ]
  },
  {
   "cell_type": "code",
   "execution_count": 1,
   "metadata": {
    "execution": {
     "iopub.execute_input": "2022-09-20T08:25:01.622799Z",
     "iopub.status.busy": "2022-09-20T08:25:01.622655Z",
     "iopub.status.idle": "2022-09-20T08:25:04.088497Z",
     "shell.execute_reply": "2022-09-20T08:25:04.087957Z",
     "shell.execute_reply.started": "2022-09-20T08:25:01.622760Z"
    },
    "tags": []
   },
   "outputs": [],
   "source": [
    "import os\n",
    "import math\n",
    "import pathlib\n",
    "import numpy as np\n",
    "import pandas as pd\n",
    "from tqdm.auto import tqdm\n",
    "from IPython.display import clear_output\n",
    "\n",
    "import warnings\n",
    "from lifelines.utils import CensoringType\n",
    "from lifelines.utils import concordance_index"
   ]
  },
  {
   "cell_type": "code",
   "execution_count": 2,
   "metadata": {
    "execution": {
     "iopub.execute_input": "2022-09-20T08:25:04.089392Z",
     "iopub.status.busy": "2022-09-20T08:25:04.089273Z",
     "iopub.status.idle": "2022-09-20T08:25:04.122746Z",
     "shell.execute_reply": "2022-09-20T08:25:04.122330Z",
     "shell.execute_reply.started": "2022-09-20T08:25:04.089376Z"
    },
    "tags": []
   },
   "outputs": [
    {
     "name": "stdout",
     "output_type": "stream",
     "text": [
      "/sc-projects/sc-proj-ukb-cvd\n"
     ]
    },
    {
     "data": {
      "text/plain": [
       "[0, 1, 2, 3, 4, 5, 6, 7, 8, 9, 10, 11, 12, 13, 14, 15, 16, 17, 18, 19, 20, 21]"
      ]
     },
     "execution_count": 2,
     "metadata": {},
     "output_type": "execute_result"
    }
   ],
   "source": [
    "node = !hostname\n",
    "if \"sc\" in node[0]:\n",
    "    base_path = \"/sc-projects/sc-proj-ukb-cvd\"\n",
    "else: \n",
    "    base_path = \"/data/analysis/ag-reils/ag-reils-shared/cardioRS\"\n",
    "print(base_path)\n",
    "\n",
    "project_label = \"22_retina_phewas\"\n",
    "project_path = f\"{base_path}/results/projects/{project_label}\"\n",
    "figure_path = f\"{project_path}/figures\"\n",
    "output_path = f\"{project_path}/data\"\n",
    "\n",
    "pathlib.Path(figure_path).mkdir(parents=True, exist_ok=True)\n",
    "pathlib.Path(output_path).mkdir(parents=True, exist_ok=True)\n",
    "\n",
    "experiment = '220812_test'\n",
    "experiment_path = f\"{output_path}/{experiment}\"\n",
    "pathlib.Path(experiment_path).mkdir(parents=True, exist_ok=True)\n",
    "\n",
    "name_dict = {\n",
    "    \"predictions_cropratio0.66\": \"ConvNextSmall(Retina)+MLP_cropratio0.66\",\n",
    "}\n",
    "\n",
    "partitions = [i for i in range(22)]\n",
    "partitions"
   ]
  },
  {
   "cell_type": "code",
   "execution_count": 3,
   "metadata": {
    "execution": {
     "iopub.execute_input": "2022-09-20T08:25:04.123618Z",
     "iopub.status.busy": "2022-09-20T08:25:04.123467Z",
     "iopub.status.idle": "2022-09-20T08:25:05.359837Z",
     "shell.execute_reply": "2022-09-20T08:25:05.359430Z",
     "shell.execute_reply.started": "2022-09-20T08:25:04.123603Z"
    }
   },
   "outputs": [],
   "source": [
    "today = '220824'"
   ]
  },
  {
   "cell_type": "code",
   "execution_count": 4,
   "metadata": {
    "execution": {
     "iopub.execute_input": "2022-09-20T08:25:05.361064Z",
     "iopub.status.busy": "2022-09-20T08:25:05.360957Z",
     "iopub.status.idle": "2022-09-20T08:25:05.371928Z",
     "shell.execute_reply": "2022-09-20T08:25:05.371531Z",
     "shell.execute_reply.started": "2022-09-20T08:25:05.361052Z"
    },
    "tags": []
   },
   "outputs": [],
   "source": [
    "splits = [\"train\", \"valid\", 'test'] # \"test_left\", 'test_right']"
   ]
  },
  {
   "cell_type": "code",
   "execution_count": 5,
   "metadata": {
    "execution": {
     "iopub.execute_input": "2022-09-20T08:25:05.372576Z",
     "iopub.status.busy": "2022-09-20T08:25:05.372466Z",
     "iopub.status.idle": "2022-09-20T08:25:05.395759Z",
     "shell.execute_reply": "2022-09-20T08:25:05.395389Z",
     "shell.execute_reply.started": "2022-09-20T08:25:05.372564Z"
    }
   },
   "outputs": [],
   "source": [
    "import pandas as pd\n",
    "endpoints = sorted([l.replace('_prevalent', '') for l in list(pd.read_csv('/sc-projects/sc-proj-ukb-cvd/results/projects/22_retinal_risk/data/220602/endpoints.csv').endpoint.values)])"
   ]
  },
  {
   "cell_type": "code",
   "execution_count": 6,
   "metadata": {
    "execution": {
     "iopub.execute_input": "2022-09-20T08:25:05.396450Z",
     "iopub.status.busy": "2022-09-20T08:25:05.396312Z",
     "iopub.status.idle": "2022-09-20T08:25:05.432638Z",
     "shell.execute_reply": "2022-09-20T08:25:05.432101Z",
     "shell.execute_reply.started": "2022-09-20T08:25:05.396437Z"
    },
    "tags": []
   },
   "outputs": [],
   "source": [
    "endpoint_defs = pd.read_feather(f\"{output_path}/phecode_defs_220306.feather\").query(\"endpoint==@endpoints\").sort_values(\"endpoint\").set_index(\"endpoint\")"
   ]
  },
  {
   "cell_type": "code",
   "execution_count": 7,
   "metadata": {
    "execution": {
     "iopub.execute_input": "2022-09-20T08:25:05.433492Z",
     "iopub.status.busy": "2022-09-20T08:25:05.433377Z",
     "iopub.status.idle": "2022-09-20T08:25:08.428626Z",
     "shell.execute_reply": "2022-09-20T08:25:08.428224Z",
     "shell.execute_reply.started": "2022-09-20T08:25:05.433477Z"
    }
   },
   "outputs": [],
   "source": [
    "from datetime import date\n",
    "today = str(date.today()) if today is None else today\n"
   ]
  },
  {
   "cell_type": "code",
   "execution_count": 8,
   "metadata": {
    "execution": {
     "iopub.execute_input": "2022-09-20T08:25:08.429314Z",
     "iopub.status.busy": "2022-09-20T08:25:08.429188Z",
     "iopub.status.idle": "2022-09-20T08:25:13.830587Z",
     "shell.execute_reply": "2022-09-20T08:25:13.830036Z",
     "shell.execute_reply.started": "2022-09-20T08:25:08.429301Z"
    }
   },
   "outputs": [],
   "source": [
    "eligable_eids = pd.read_feather(f\"{output_path}/eligable_eids_{today}.feather\")\n",
    "eids_dict = eligable_eids.set_index(\"endpoint\")[\"eid_list\"].to_dict()"
   ]
  },
  {
   "cell_type": "code",
   "execution_count": 9,
   "metadata": {
    "execution": {
     "iopub.execute_input": "2022-09-20T08:25:13.831536Z",
     "iopub.status.busy": "2022-09-20T08:25:13.831368Z",
     "iopub.status.idle": "2022-09-20T08:25:13.835641Z",
     "shell.execute_reply": "2022-09-20T08:25:13.835266Z",
     "shell.execute_reply.started": "2022-09-20T08:25:13.831521Z"
    },
    "tags": []
   },
   "outputs": [
    {
     "name": "stdout",
     "output_type": "stream",
     "text": [
      "env: MKL_NUM_THREADS=4\n",
      "env: NUMEXPR_NUM_THREADS=4\n",
      "env: OMP_NUM_THREADS=4\n"
     ]
    }
   ],
   "source": [
    "%env MKL_NUM_THREADS=4\n",
    "%env NUMEXPR_NUM_THREADS=4\n",
    "%env OMP_NUM_THREADS=4"
   ]
  },
  {
   "cell_type": "code",
   "execution_count": 10,
   "metadata": {
    "execution": {
     "iopub.execute_input": "2022-09-20T08:25:13.836358Z",
     "iopub.status.busy": "2022-09-20T08:25:13.836180Z",
     "iopub.status.idle": "2022-09-20T08:25:13.849306Z",
     "shell.execute_reply": "2022-09-20T08:25:13.848913Z",
     "shell.execute_reply.started": "2022-09-20T08:25:13.836345Z"
    }
   },
   "outputs": [],
   "source": [
    "#ray.shutdown()"
   ]
  },
  {
   "cell_type": "code",
   "execution_count": 11,
   "metadata": {
    "execution": {
     "iopub.execute_input": "2022-09-20T08:25:13.850031Z",
     "iopub.status.busy": "2022-09-20T08:25:13.849835Z",
     "iopub.status.idle": "2022-09-20T08:25:15.113782Z",
     "shell.execute_reply": "2022-09-20T08:25:15.113223Z",
     "shell.execute_reply.started": "2022-09-20T08:25:13.850018Z"
    },
    "tags": []
   },
   "outputs": [
    {
     "data": {
      "text/plain": [
       "RayContext(dashboard_url='', python_version='3.9.7', ray_version='1.13.0', ray_commit='e4ce38d001dbbe09cd21c497fedd03d692b2be3e', address_info={'node_ip_address': '10.32.105.1', 'raylet_ip_address': '10.32.105.1', 'redis_address': None, 'object_store_address': '/tmp/ray/session_2022-09-20_10-24-44_275985_2461381/sockets/plasma_store', 'raylet_socket_name': '/tmp/ray/session_2022-09-20_10-24-44_275985_2461381/sockets/raylet', 'webui_url': '', 'session_dir': '/tmp/ray/session_2022-09-20_10-24-44_275985_2461381', 'metrics_export_port': 49547, 'gcs_address': '10.32.105.1:6321', 'address': '10.32.105.1:6321', 'node_id': '7367de6e34a8d76cf7d2286667218e92bcb3c98107ce385a1de9a7c5'})"
      ]
     },
     "execution_count": 11,
     "metadata": {},
     "output_type": "execute_result"
    }
   ],
   "source": [
    "import ray\n",
    "\n",
    "ray.init(address=\"auto\")#, dashboard_port=24762, dashboard_host=\"0.0.0.0\", include_dashboard=True)#, webui_url=\"0.0.0.0\"))"
   ]
  },
  {
   "cell_type": "markdown",
   "metadata": {},
   "source": [
    "# Train COX"
   ]
  },
  {
   "cell_type": "code",
   "execution_count": 12,
   "metadata": {
    "execution": {
     "iopub.execute_input": "2022-09-20T08:25:15.114878Z",
     "iopub.status.busy": "2022-09-20T08:25:15.114757Z",
     "iopub.status.idle": "2022-09-20T08:25:15.119694Z",
     "shell.execute_reply": "2022-09-20T08:25:15.119282Z",
     "shell.execute_reply.started": "2022-09-20T08:25:15.114862Z"
    },
    "tags": []
   },
   "outputs": [],
   "source": [
    "in_path = pathlib.Path(f\"{experiment_path}/coxph/input\")\n",
    "model_path = f\"{experiment_path}/coxph/models\"\n",
    "\n",
    "out_path = f\"{experiment_path}/coxph/predictions\"\n",
    "pathlib.Path(out_path).mkdir(parents=True, exist_ok=True)"
   ]
  },
  {
   "cell_type": "code",
   "execution_count": 13,
   "metadata": {
    "execution": {
     "iopub.execute_input": "2022-09-20T08:25:15.121786Z",
     "iopub.status.busy": "2022-09-20T08:25:15.121337Z",
     "iopub.status.idle": "2022-09-20T08:25:15.142493Z",
     "shell.execute_reply": "2022-09-20T08:25:15.142035Z",
     "shell.execute_reply.started": "2022-09-20T08:25:15.121768Z"
    },
    "tags": []
   },
   "outputs": [],
   "source": [
    "import pickle\n",
    "import zstandard\n",
    "\n",
    "def load_pickle(fp):\n",
    "    with open(fp, \"rb\") as fh:\n",
    "        dctx = zstandard.ZstdDecompressor()\n",
    "        with dctx.stream_reader(fh) as decompressor:\n",
    "            data = pickle.loads(decompressor.read())\n",
    "    return data"
   ]
  },
  {
   "cell_type": "code",
   "execution_count": 14,
   "metadata": {
    "execution": {
     "iopub.execute_input": "2022-09-20T08:25:15.143178Z",
     "iopub.status.busy": "2022-09-20T08:25:15.143078Z",
     "iopub.status.idle": "2022-09-20T08:25:22.054605Z",
     "shell.execute_reply": "2022-09-20T08:25:22.053956Z",
     "shell.execute_reply.started": "2022-09-20T08:25:15.143166Z"
    },
    "tags": []
   },
   "outputs": [
    {
     "data": {
      "text/html": [
       "<div>\n",
       "<style scoped>\n",
       "    .dataframe tbody tr th:only-of-type {\n",
       "        vertical-align: middle;\n",
       "    }\n",
       "\n",
       "    .dataframe tbody tr th {\n",
       "        vertical-align: top;\n",
       "    }\n",
       "\n",
       "    .dataframe thead th {\n",
       "        text-align: right;\n",
       "    }\n",
       "</style>\n",
       "<table border=\"1\" class=\"dataframe\">\n",
       "  <thead>\n",
       "    <tr style=\"text-align: right;\">\n",
       "      <th></th>\n",
       "      <th>endpoint</th>\n",
       "      <th>score</th>\n",
       "      <th>model</th>\n",
       "      <th>partition</th>\n",
       "      <th>path</th>\n",
       "    </tr>\n",
       "  </thead>\n",
       "  <tbody>\n",
       "    <tr>\n",
       "      <th>0</th>\n",
       "      <td>OMOP_4306655</td>\n",
       "      <td>ASCVD+Retina</td>\n",
       "      <td>ImageTraining_[]_ConvNeXt_MLPHead_cropratio0.66</td>\n",
       "      <td>0</td>\n",
       "      <td>OMOP_4306655_ASCVD+Retina_ImageTraining_[]_Con...</td>\n",
       "    </tr>\n",
       "    <tr>\n",
       "      <th>1</th>\n",
       "      <td>OMOP_4306655</td>\n",
       "      <td>ASCVD+Retina</td>\n",
       "      <td>ImageTraining_[]_ConvNeXt_MLPHead_cropratio0.66</td>\n",
       "      <td>1</td>\n",
       "      <td>OMOP_4306655_ASCVD+Retina_ImageTraining_[]_Con...</td>\n",
       "    </tr>\n",
       "    <tr>\n",
       "      <th>2</th>\n",
       "      <td>OMOP_4306655</td>\n",
       "      <td>ASCVD+Retina</td>\n",
       "      <td>ImageTraining_[]_ConvNeXt_MLPHead_cropratio0.66</td>\n",
       "      <td>2</td>\n",
       "      <td>OMOP_4306655_ASCVD+Retina_ImageTraining_[]_Con...</td>\n",
       "    </tr>\n",
       "    <tr>\n",
       "      <th>3</th>\n",
       "      <td>OMOP_4306655</td>\n",
       "      <td>ASCVD+Retina</td>\n",
       "      <td>ImageTraining_[]_ConvNeXt_MLPHead_cropratio0.66</td>\n",
       "      <td>3</td>\n",
       "      <td>OMOP_4306655_ASCVD+Retina_ImageTraining_[]_Con...</td>\n",
       "    </tr>\n",
       "    <tr>\n",
       "      <th>4</th>\n",
       "      <td>OMOP_4306655</td>\n",
       "      <td>ASCVD+Retina</td>\n",
       "      <td>ImageTraining_[]_ConvNeXt_MLPHead_cropratio0.66</td>\n",
       "      <td>4</td>\n",
       "      <td>OMOP_4306655_ASCVD+Retina_ImageTraining_[]_Con...</td>\n",
       "    </tr>\n",
       "    <tr>\n",
       "      <th>...</th>\n",
       "      <td>...</td>\n",
       "      <td>...</td>\n",
       "      <td>...</td>\n",
       "      <td>...</td>\n",
       "      <td>...</td>\n",
       "    </tr>\n",
       "    <tr>\n",
       "      <th>128805</th>\n",
       "      <td>phecode_979</td>\n",
       "      <td>SCORE2+Retina</td>\n",
       "      <td>ImageTraining_[]_ConvNeXt_MLPHead_cropratio0.66</td>\n",
       "      <td>17</td>\n",
       "      <td>phecode_979_SCORE2+Retina_ImageTraining_[]_Con...</td>\n",
       "    </tr>\n",
       "    <tr>\n",
       "      <th>128806</th>\n",
       "      <td>phecode_979</td>\n",
       "      <td>SCORE2+Retina</td>\n",
       "      <td>ImageTraining_[]_ConvNeXt_MLPHead_cropratio0.66</td>\n",
       "      <td>18</td>\n",
       "      <td>phecode_979_SCORE2+Retina_ImageTraining_[]_Con...</td>\n",
       "    </tr>\n",
       "    <tr>\n",
       "      <th>128807</th>\n",
       "      <td>phecode_979</td>\n",
       "      <td>SCORE2+Retina</td>\n",
       "      <td>ImageTraining_[]_ConvNeXt_MLPHead_cropratio0.66</td>\n",
       "      <td>19</td>\n",
       "      <td>phecode_979_SCORE2+Retina_ImageTraining_[]_Con...</td>\n",
       "    </tr>\n",
       "    <tr>\n",
       "      <th>128808</th>\n",
       "      <td>phecode_979</td>\n",
       "      <td>SCORE2+Retina</td>\n",
       "      <td>ImageTraining_[]_ConvNeXt_MLPHead_cropratio0.66</td>\n",
       "      <td>20</td>\n",
       "      <td>phecode_979_SCORE2+Retina_ImageTraining_[]_Con...</td>\n",
       "    </tr>\n",
       "    <tr>\n",
       "      <th>128809</th>\n",
       "      <td>phecode_979</td>\n",
       "      <td>SCORE2+Retina</td>\n",
       "      <td>ImageTraining_[]_ConvNeXt_MLPHead_cropratio0.66</td>\n",
       "      <td>21</td>\n",
       "      <td>phecode_979_SCORE2+Retina_ImageTraining_[]_Con...</td>\n",
       "    </tr>\n",
       "  </tbody>\n",
       "</table>\n",
       "<p>128810 rows × 5 columns</p>\n",
       "</div>"
      ],
      "text/plain": [
       "            endpoint          score  \\\n",
       "0       OMOP_4306655   ASCVD+Retina   \n",
       "1       OMOP_4306655   ASCVD+Retina   \n",
       "2       OMOP_4306655   ASCVD+Retina   \n",
       "3       OMOP_4306655   ASCVD+Retina   \n",
       "4       OMOP_4306655   ASCVD+Retina   \n",
       "...              ...            ...   \n",
       "128805   phecode_979  SCORE2+Retina   \n",
       "128806   phecode_979  SCORE2+Retina   \n",
       "128807   phecode_979  SCORE2+Retina   \n",
       "128808   phecode_979  SCORE2+Retina   \n",
       "128809   phecode_979  SCORE2+Retina   \n",
       "\n",
       "                                                  model  partition  \\\n",
       "0       ImageTraining_[]_ConvNeXt_MLPHead_cropratio0.66          0   \n",
       "1       ImageTraining_[]_ConvNeXt_MLPHead_cropratio0.66          1   \n",
       "2       ImageTraining_[]_ConvNeXt_MLPHead_cropratio0.66          2   \n",
       "3       ImageTraining_[]_ConvNeXt_MLPHead_cropratio0.66          3   \n",
       "4       ImageTraining_[]_ConvNeXt_MLPHead_cropratio0.66          4   \n",
       "...                                                 ...        ...   \n",
       "128805  ImageTraining_[]_ConvNeXt_MLPHead_cropratio0.66         17   \n",
       "128806  ImageTraining_[]_ConvNeXt_MLPHead_cropratio0.66         18   \n",
       "128807  ImageTraining_[]_ConvNeXt_MLPHead_cropratio0.66         19   \n",
       "128808  ImageTraining_[]_ConvNeXt_MLPHead_cropratio0.66         20   \n",
       "128809  ImageTraining_[]_ConvNeXt_MLPHead_cropratio0.66         21   \n",
       "\n",
       "                                                     path  \n",
       "0       OMOP_4306655_ASCVD+Retina_ImageTraining_[]_Con...  \n",
       "1       OMOP_4306655_ASCVD+Retina_ImageTraining_[]_Con...  \n",
       "2       OMOP_4306655_ASCVD+Retina_ImageTraining_[]_Con...  \n",
       "3       OMOP_4306655_ASCVD+Retina_ImageTraining_[]_Con...  \n",
       "4       OMOP_4306655_ASCVD+Retina_ImageTraining_[]_Con...  \n",
       "...                                                   ...  \n",
       "128805  phecode_979_SCORE2+Retina_ImageTraining_[]_Con...  \n",
       "128806  phecode_979_SCORE2+Retina_ImageTraining_[]_Con...  \n",
       "128807  phecode_979_SCORE2+Retina_ImageTraining_[]_Con...  \n",
       "128808  phecode_979_SCORE2+Retina_ImageTraining_[]_Con...  \n",
       "128809  phecode_979_SCORE2+Retina_ImageTraining_[]_Con...  \n",
       "\n",
       "[128810 rows x 5 columns]"
      ]
     },
     "execution_count": 14,
     "metadata": {},
     "output_type": "execute_result"
    }
   ],
   "source": [
    "cox_paths = !ls $model_path\n",
    "cox_paths = [p for p in cox_paths if \"_Retina\" in p or \"+Retina\" in p or \"I(\" in p]\n",
    "cox = pd.Series(cox_paths).str.split(\"_\", expand=True)\\\n",
    "    .assign(path = cox_paths)\\\n",
    "    .assign(endpoint = lambda x: x[0]+\"_\"+x[1])\\\n",
    "    .assign(score = lambda x: x[2])\\\n",
    "    .assign(model = lambda x: x[3]+\"_\"+x[4]+\"_\"+x[5]+\"_\"+x[6]+\"_\"+x[8])\\\n",
    "    .assign(partition = lambda x: x[9].str.replace(\".p\", \"\", regex=True).astype(int))\\\n",
    "    [[\"endpoint\", \"score\", \"model\", \"partition\", \"path\"]].sort_values([\"endpoint\", \"score\", \"partition\"])\\\n",
    "    .query(\"endpoint ==@ endpoints\")\\\n",
    "    .reset_index(drop=True)\n",
    "cox"
   ]
  },
  {
   "cell_type": "raw",
   "metadata": {
    "execution": {
     "iopub.execute_input": "2022-04-21T12:03:31.795593Z",
     "iopub.status.busy": "2022-04-21T12:03:31.795400Z",
     "iopub.status.idle": "2022-04-21T12:03:31.801297Z",
     "shell.execute_reply": "2022-04-21T12:03:31.800939Z",
     "shell.execute_reply.started": "2022-04-21T12:03:31.795581Z"
    },
    "tags": []
   },
   "source": [
    "cox = cox.query(\"endpoint == 'phecode_101-8'\")#&score=='Age+Sex+MedicalHistory+I(Age*MH)'\")"
   ]
  },
  {
   "cell_type": "code",
   "execution_count": 15,
   "metadata": {
    "execution": {
     "iopub.execute_input": "2022-09-20T08:25:22.055817Z",
     "iopub.status.busy": "2022-09-20T08:25:22.055668Z",
     "iopub.status.idle": "2022-09-20T08:25:22.085514Z",
     "shell.execute_reply": "2022-09-20T08:25:22.084806Z",
     "shell.execute_reply.started": "2022-09-20T08:25:22.055783Z"
    },
    "tags": []
   },
   "outputs": [],
   "source": [
    "#endpoints = sorted(cox.endpoint.unique().tolist())\n",
    "scores = sorted(cox.score.unique().tolist())\n",
    "partitions = sorted(cox.partition.unique().tolist())"
   ]
  },
  {
   "cell_type": "code",
   "execution_count": 16,
   "metadata": {
    "execution": {
     "iopub.execute_input": "2022-09-20T08:25:22.086699Z",
     "iopub.status.busy": "2022-09-20T08:25:22.086564Z",
     "iopub.status.idle": "2022-09-20T08:25:22.094033Z",
     "shell.execute_reply": "2022-09-20T08:25:22.093578Z",
     "shell.execute_reply.started": "2022-09-20T08:25:22.086682Z"
    },
    "tags": []
   },
   "outputs": [],
   "source": [
    "#import ray\n",
    "\n",
    "@ray.remote\n",
    "def get_cox_info(p):\n",
    "    cph = load_pickle(f\"{model_path}/{p}\")\n",
    "    p_split = p.split(\"_\")\n",
    "    endpoint = f\"{p_split[0]}_{p_split[1]}\"\n",
    "    score = p_split[2]\n",
    "    model = p_split[3]+\"_\"+p_split[4]+\"_\"+p_split[5]+\"_\"+p_split[6]+\"_\"+p_split[8]\n",
    "    partition = p_split[9].replace(\".p\", \"\")\n",
    "    hrs = cph.hazard_ratios_.to_dict()\n",
    "    \n",
    "    if score==\"Age+Sex+MedicalHistory+I(Age*MH)\":\n",
    "        hr_ret = hrs[endpoint.replace(\"-\", \"\")]\n",
    "        \n",
    "        key_int_age = [k for k in hrs if \"age_at_recruitment_f21022_0_0\" in k and endpoint.replace(\"-\", \"\") in k][0]\n",
    "        hr_ret_age = hrs[key_int_age]\n",
    "        \n",
    "        try:\n",
    "            key_int_sex = [k for k in hrs if \"sex_f31_0_0\" in k and endpoint.replace(\"-\", \"\") in k][0]\n",
    "            hr_ret_sex = hrs[key_int_sex]\n",
    "        except:\n",
    "            hr_ret_sex = np.nan\n",
    "    else:\n",
    "        hr_ret = hrs[endpoint] \n",
    "        hr_ret_age = np.nan\n",
    "        hr_ret_sex = np.nan\n",
    "        \n",
    "    return {\"endpoint\": endpoint, \n",
    "            \"score\": score, \n",
    "            \"model\": model,\n",
    "            \"partition\": partition, \n",
    "            \"hrs\": hrs, \n",
    "            \"hrs_ret\": hr_ret, \n",
    "            \"hrs_ret_age\": hr_ret_age, \n",
    "            \"hrs_ret_sex\": hr_ret_sex\n",
    "           }"
   ]
  },
  {
   "cell_type": "code",
   "execution_count": 17,
   "metadata": {
    "execution": {
     "iopub.execute_input": "2022-09-20T08:25:22.094799Z",
     "iopub.status.busy": "2022-09-20T08:25:22.094686Z",
     "iopub.status.idle": "2022-09-20T08:25:32.728037Z",
     "shell.execute_reply": "2022-09-20T08:25:32.727165Z",
     "shell.execute_reply.started": "2022-09-20T08:25:22.094786Z"
    },
    "tags": []
   },
   "outputs": [
    {
     "data": {
      "application/vnd.jupyter.widget-view+json": {
       "model_id": "f113dacf495c48e4ae4b3c1b59a472d7",
       "version_major": 2,
       "version_minor": 0
      },
      "text/plain": [
       "  0%|          | 0/128810 [00:00<?, ?it/s]"
      ]
     },
     "metadata": {},
     "output_type": "display_data"
    }
   ],
   "source": [
    "rows = []\n",
    "\n",
    "for p in tqdm(cox.path.tolist()):\n",
    "    rows.append(get_cox_info.remote(p))"
   ]
  },
  {
   "cell_type": "code",
   "execution_count": 18,
   "metadata": {
    "execution": {
     "iopub.execute_input": "2022-09-20T08:25:32.730103Z",
     "iopub.status.busy": "2022-09-20T08:25:32.729946Z",
     "iopub.status.idle": "2022-09-20T08:33:55.557229Z",
     "shell.execute_reply": "2022-09-20T08:33:55.556615Z",
     "shell.execute_reply.started": "2022-09-20T08:25:32.730086Z"
    },
    "tags": []
   },
   "outputs": [
    {
     "data": {
      "application/vnd.jupyter.widget-view+json": {
       "model_id": "167eca6447644d9fbaa5b011c6d2feb6",
       "version_major": 2,
       "version_minor": 0
      },
      "text/plain": [
       "  0%|          | 0/128810 [00:00<?, ?it/s]"
      ]
     },
     "metadata": {},
     "output_type": "display_data"
    },
    {
     "name": "stderr",
     "output_type": "stream",
     "text": [
      "\u001b[2m\u001b[33m(raylet)\u001b[0m [2022-09-20 10:26:34,994 E 2461447 2461447] (raylet) worker_pool.cc:502: Some workers of the worker process(2462164) have not registered within the timeout. The process is still alive, probably it's hanging during start.\n",
      "\u001b[2m\u001b[33m(raylet)\u001b[0m [2022-09-20 10:26:34,996 E 2461447 2461447] (raylet) worker_pool.cc:502: Some workers of the worker process(2462165) have not registered within the timeout. The process is still alive, probably it's hanging during start.\n",
      "\u001b[2m\u001b[33m(raylet)\u001b[0m [2022-09-20 10:26:34,999 E 2461447 2461447] (raylet) worker_pool.cc:502: Some workers of the worker process(2462166) have not registered within the timeout. The process is still alive, probably it's hanging during start.\n",
      "\u001b[2m\u001b[33m(raylet)\u001b[0m [2022-09-20 10:26:35,001 E 2461447 2461447] (raylet) worker_pool.cc:502: Some workers of the worker process(2462169) have not registered within the timeout. The process is still alive, probably it's hanging during start.\n",
      "\u001b[2m\u001b[33m(raylet)\u001b[0m [2022-09-20 10:26:35,004 E 2461447 2461447] (raylet) worker_pool.cc:502: Some workers of the worker process(2462177) have not registered within the timeout. The process is still alive, probably it's hanging during start.\n",
      "\u001b[2m\u001b[33m(raylet)\u001b[0m [2022-09-20 10:26:35,007 E 2461447 2461447] (raylet) worker_pool.cc:502: Some workers of the worker process(2462179) have not registered within the timeout. The process is still alive, probably it's hanging during start.\n",
      "\u001b[2m\u001b[33m(raylet)\u001b[0m [2022-09-20 10:26:35,009 E 2461447 2461447] (raylet) worker_pool.cc:502: Some workers of the worker process(2462183) have not registered within the timeout. The process is still alive, probably it's hanging during start.\n",
      "\u001b[2m\u001b[33m(raylet)\u001b[0m [2022-09-20 10:26:35,011 E 2461447 2461447] (raylet) worker_pool.cc:502: Some workers of the worker process(2462188) have not registered within the timeout. The process is still alive, probably it's hanging during start.\n",
      "\u001b[2m\u001b[33m(raylet)\u001b[0m [2022-09-20 10:26:35,014 E 2461447 2461447] (raylet) worker_pool.cc:502: Some workers of the worker process(2462198) have not registered within the timeout. The process is still alive, probably it's hanging during start.\n",
      "\u001b[2m\u001b[33m(raylet)\u001b[0m [2022-09-20 10:26:35,017 E 2461447 2461447] (raylet) worker_pool.cc:502: Some workers of the worker process(2462203) have not registered within the timeout. The process is still alive, probably it's hanging during start.\n",
      "\u001b[2m\u001b[33m(raylet)\u001b[0m [2022-09-20 10:26:35,019 E 2461447 2461447] (raylet) worker_pool.cc:502: Some workers of the worker process(2462209) have not registered within the timeout. The process is still alive, probably it's hanging during start.\n",
      "\u001b[2m\u001b[33m(raylet)\u001b[0m [2022-09-20 10:26:35,022 E 2461447 2461447] (raylet) worker_pool.cc:502: Some workers of the worker process(2462214) have not registered within the timeout. The process is still alive, probably it's hanging during start.\n",
      "\u001b[2m\u001b[33m(raylet)\u001b[0m [2022-09-20 10:26:35,024 E 2461447 2461447] (raylet) worker_pool.cc:502: Some workers of the worker process(2462216) have not registered within the timeout. The process is still alive, probably it's hanging during start.\n",
      "\u001b[2m\u001b[33m(raylet)\u001b[0m [2022-09-20 10:26:35,026 E 2461447 2461447] (raylet) worker_pool.cc:502: Some workers of the worker process(2462217) have not registered within the timeout. The process is still alive, probably it's hanging during start.\n",
      "\u001b[2m\u001b[33m(raylet)\u001b[0m [2022-09-20 10:26:35,029 E 2461447 2461447] (raylet) worker_pool.cc:502: Some workers of the worker process(2462218) have not registered within the timeout. The process is still alive, probably it's hanging during start.\n",
      "\u001b[2m\u001b[33m(raylet)\u001b[0m [2022-09-20 10:26:35,031 E 2461447 2461447] (raylet) worker_pool.cc:502: Some workers of the worker process(2462219) have not registered within the timeout. The process is still alive, probably it's hanging during start.\n",
      "\u001b[2m\u001b[33m(raylet)\u001b[0m [2022-09-20 10:26:35,034 E 2461447 2461447] (raylet) worker_pool.cc:502: Some workers of the worker process(2462220) have not registered within the timeout. The process is still alive, probably it's hanging during start.\n",
      "\u001b[2m\u001b[33m(raylet)\u001b[0m [2022-09-20 10:26:35,036 E 2461447 2461447] (raylet) worker_pool.cc:502: Some workers of the worker process(2462221) have not registered within the timeout. The process is still alive, probably it's hanging during start.\n",
      "\u001b[2m\u001b[33m(raylet)\u001b[0m [2022-09-20 10:26:35,039 E 2461447 2461447] (raylet) worker_pool.cc:502: Some workers of the worker process(2462222) have not registered within the timeout. The process is still alive, probably it's hanging during start.\n",
      "\u001b[2m\u001b[33m(raylet)\u001b[0m [2022-09-20 10:26:35,041 E 2461447 2461447] (raylet) worker_pool.cc:502: Some workers of the worker process(2462223) have not registered within the timeout. The process is still alive, probably it's hanging during start.\n",
      "\u001b[2m\u001b[33m(raylet)\u001b[0m [2022-09-20 10:26:35,043 E 2461447 2461447] (raylet) worker_pool.cc:502: Some workers of the worker process(2462224) have not registered within the timeout. The process is still alive, probably it's hanging during start.\n",
      "\u001b[2m\u001b[33m(raylet)\u001b[0m [2022-09-20 10:26:35,046 E 2461447 2461447] (raylet) worker_pool.cc:502: Some workers of the worker process(2462225) have not registered within the timeout. The process is still alive, probably it's hanging during start.\n",
      "\u001b[2m\u001b[33m(raylet)\u001b[0m [2022-09-20 10:26:35,048 E 2461447 2461447] (raylet) worker_pool.cc:502: Some workers of the worker process(2462226) have not registered within the timeout. The process is still alive, probably it's hanging during start.\n",
      "\u001b[2m\u001b[33m(raylet)\u001b[0m [2022-09-20 10:26:35,054 E 2461447 2461447] (raylet) worker_pool.cc:502: Some workers of the worker process(2462231) have not registered within the timeout. The process is still alive, probably it's hanging during start.\n",
      "\u001b[2m\u001b[33m(raylet)\u001b[0m [2022-09-20 10:26:35,057 E 2461447 2461447] (raylet) worker_pool.cc:502: Some workers of the worker process(2462246) have not registered within the timeout. The process is still alive, probably it's hanging during start.\n",
      "\u001b[2m\u001b[33m(raylet)\u001b[0m [2022-09-20 10:26:35,059 E 2461447 2461447] (raylet) worker_pool.cc:502: Some workers of the worker process(2462262) have not registered within the timeout. The process is still alive, probably it's hanging during start.\n",
      "\u001b[2m\u001b[33m(raylet)\u001b[0m [2022-09-20 10:26:35,061 E 2461447 2461447] (raylet) worker_pool.cc:502: Some workers of the worker process(2462266) have not registered within the timeout. The process is still alive, probably it's hanging during start.\n",
      "\u001b[2m\u001b[33m(raylet)\u001b[0m [2022-09-20 10:26:35,064 E 2461447 2461447] (raylet) worker_pool.cc:502: Some workers of the worker process(2462267) have not registered within the timeout. The process is still alive, probably it's hanging during start.\n",
      "\u001b[2m\u001b[33m(raylet)\u001b[0m [2022-09-20 10:26:35,067 E 2461447 2461447] (raylet) worker_pool.cc:502: Some workers of the worker process(2462270) have not registered within the timeout. The process is still alive, probably it's hanging during start.\n",
      "\u001b[2m\u001b[33m(raylet)\u001b[0m [2022-09-20 10:26:35,069 E 2461447 2461447] (raylet) worker_pool.cc:502: Some workers of the worker process(2462277) have not registered within the timeout. The process is still alive, probably it's hanging during start.\n",
      "\u001b[2m\u001b[33m(raylet)\u001b[0m [2022-09-20 10:26:35,072 E 2461447 2461447] (raylet) worker_pool.cc:502: Some workers of the worker process(2462279) have not registered within the timeout. The process is still alive, probably it's hanging during start.\n",
      "\u001b[2m\u001b[33m(raylet)\u001b[0m [2022-09-20 10:26:35,074 E 2461447 2461447] (raylet) worker_pool.cc:502: Some workers of the worker process(2462280) have not registered within the timeout. The process is still alive, probably it's hanging during start.\n",
      "\u001b[2m\u001b[33m(raylet)\u001b[0m [2022-09-20 10:26:35,077 E 2461447 2461447] (raylet) worker_pool.cc:502: Some workers of the worker process(2462281) have not registered within the timeout. The process is still alive, probably it's hanging during start.\n",
      "\u001b[2m\u001b[33m(raylet)\u001b[0m [2022-09-20 10:26:35,079 E 2461447 2461447] (raylet) worker_pool.cc:502: Some workers of the worker process(2462282) have not registered within the timeout. The process is still alive, probably it's hanging during start.\n",
      "\u001b[2m\u001b[33m(raylet)\u001b[0m [2022-09-20 10:26:35,082 E 2461447 2461447] (raylet) worker_pool.cc:502: Some workers of the worker process(2462283) have not registered within the timeout. The process is still alive, probably it's hanging during start.\n",
      "\u001b[2m\u001b[33m(raylet)\u001b[0m [2022-09-20 10:26:35,084 E 2461447 2461447] (raylet) worker_pool.cc:502: Some workers of the worker process(2462284) have not registered within the timeout. The process is still alive, probably it's hanging during start.\n",
      "\u001b[2m\u001b[33m(raylet)\u001b[0m [2022-09-20 10:26:35,086 E 2461447 2461447] (raylet) worker_pool.cc:502: Some workers of the worker process(2462285) have not registered within the timeout. The process is still alive, probably it's hanging during start.\n",
      "\u001b[2m\u001b[33m(raylet)\u001b[0m [2022-09-20 10:26:35,089 E 2461447 2461447] (raylet) worker_pool.cc:502: Some workers of the worker process(2462286) have not registered within the timeout. The process is still alive, probably it's hanging during start.\n",
      "\u001b[2m\u001b[33m(raylet)\u001b[0m [2022-09-20 10:26:35,091 E 2461447 2461447] (raylet) worker_pool.cc:502: Some workers of the worker process(2462287) have not registered within the timeout. The process is still alive, probably it's hanging during start.\n",
      "\u001b[2m\u001b[33m(raylet)\u001b[0m [2022-09-20 10:26:35,094 E 2461447 2461447] (raylet) worker_pool.cc:502: Some workers of the worker process(2462288) have not registered within the timeout. The process is still alive, probably it's hanging during start.\n",
      "\u001b[2m\u001b[33m(raylet)\u001b[0m [2022-09-20 10:26:35,096 E 2461447 2461447] (raylet) worker_pool.cc:502: Some workers of the worker process(2462289) have not registered within the timeout. The process is still alive, probably it's hanging during start.\n",
      "\u001b[2m\u001b[33m(raylet)\u001b[0m [2022-09-20 10:26:35,098 E 2461447 2461447] (raylet) worker_pool.cc:502: Some workers of the worker process(2462290) have not registered within the timeout. The process is still alive, probably it's hanging during start.\n",
      "\u001b[2m\u001b[33m(raylet)\u001b[0m [2022-09-20 10:26:35,101 E 2461447 2461447] (raylet) worker_pool.cc:502: Some workers of the worker process(2462291) have not registered within the timeout. The process is still alive, probably it's hanging during start.\n",
      "\u001b[2m\u001b[33m(raylet)\u001b[0m [2022-09-20 10:26:35,104 E 2461447 2461447] (raylet) worker_pool.cc:502: Some workers of the worker process(2462292) have not registered within the timeout. The process is still alive, probably it's hanging during start.\n",
      "\u001b[2m\u001b[33m(raylet)\u001b[0m [2022-09-20 10:26:35,109 E 2461447 2461447] (raylet) worker_pool.cc:502: Some workers of the worker process(2462297) have not registered within the timeout. The process is still alive, probably it's hanging during start.\n",
      "\u001b[2m\u001b[33m(raylet)\u001b[0m [2022-09-20 10:26:35,111 E 2461447 2461447] (raylet) worker_pool.cc:502: Some workers of the worker process(2462298) have not registered within the timeout. The process is still alive, probably it's hanging during start.\n",
      "\u001b[2m\u001b[33m(raylet)\u001b[0m [2022-09-20 10:26:35,114 E 2461447 2461447] (raylet) worker_pool.cc:502: Some workers of the worker process(2462299) have not registered within the timeout. The process is still alive, probably it's hanging during start.\n",
      "\u001b[2m\u001b[33m(raylet)\u001b[0m [2022-09-20 10:26:35,128 E 2461447 2461447] (raylet) worker_pool.cc:502: Some workers of the worker process(2462300) have not registered within the timeout. The process is still alive, probably it's hanging during start.\n",
      "\u001b[2m\u001b[33m(raylet)\u001b[0m [2022-09-20 10:26:35,131 E 2461447 2461447] (raylet) worker_pool.cc:502: Some workers of the worker process(2462301) have not registered within the timeout. The process is still alive, probably it's hanging during start.\n",
      "\u001b[2m\u001b[33m(raylet)\u001b[0m [2022-09-20 10:26:35,134 E 2461447 2461447] (raylet) worker_pool.cc:502: Some workers of the worker process(2462302) have not registered within the timeout. The process is still alive, probably it's hanging during start.\n",
      "\u001b[2m\u001b[33m(raylet)\u001b[0m [2022-09-20 10:26:35,136 E 2461447 2461447] (raylet) worker_pool.cc:502: Some workers of the worker process(2462303) have not registered within the timeout. The process is still alive, probably it's hanging during start.\n",
      "\u001b[2m\u001b[33m(raylet)\u001b[0m [2022-09-20 10:26:35,138 E 2461447 2461447] (raylet) worker_pool.cc:502: Some workers of the worker process(2462304) have not registered within the timeout. The process is still alive, probably it's hanging during start.\n",
      "\u001b[2m\u001b[33m(raylet)\u001b[0m [2022-09-20 10:26:35,141 E 2461447 2461447] (raylet) worker_pool.cc:502: Some workers of the worker process(2462305) have not registered within the timeout. The process is still alive, probably it's hanging during start.\n",
      "\u001b[2m\u001b[33m(raylet)\u001b[0m [2022-09-20 10:26:35,145 E 2461447 2461447] (raylet) worker_pool.cc:502: Some workers of the worker process(2462306) have not registered within the timeout. The process is still alive, probably it's hanging during start.\n",
      "\u001b[2m\u001b[33m(raylet)\u001b[0m [2022-09-20 10:26:35,149 E 2461447 2461447] (raylet) worker_pool.cc:502: Some workers of the worker process(2462307) have not registered within the timeout. The process is still alive, probably it's hanging during start.\n",
      "\u001b[2m\u001b[33m(raylet)\u001b[0m [2022-09-20 10:26:35,153 E 2461447 2461447] (raylet) worker_pool.cc:502: Some workers of the worker process(2462308) have not registered within the timeout. The process is still alive, probably it's hanging during start.\n",
      "\u001b[2m\u001b[33m(raylet)\u001b[0m [2022-09-20 10:26:35,157 E 2461447 2461447] (raylet) worker_pool.cc:502: Some workers of the worker process(2462309) have not registered within the timeout. The process is still alive, probably it's hanging during start.\n",
      "\u001b[2m\u001b[33m(raylet)\u001b[0m [2022-09-20 10:26:35,161 E 2461447 2461447] (raylet) worker_pool.cc:502: Some workers of the worker process(2462310) have not registered within the timeout. The process is still alive, probably it's hanging during start.\n",
      "\u001b[2m\u001b[33m(raylet)\u001b[0m [2022-09-20 10:26:35,165 E 2461447 2461447] (raylet) worker_pool.cc:502: Some workers of the worker process(2462311) have not registered within the timeout. The process is still alive, probably it's hanging during start.\n",
      "\u001b[2m\u001b[33m(raylet)\u001b[0m [2022-09-20 10:26:35,169 E 2461447 2461447] (raylet) worker_pool.cc:502: Some workers of the worker process(2462312) have not registered within the timeout. The process is still alive, probably it's hanging during start.\n",
      "\u001b[2m\u001b[33m(raylet)\u001b[0m [2022-09-20 10:26:35,173 E 2461447 2461447] (raylet) worker_pool.cc:502: Some workers of the worker process(2462313) have not registered within the timeout. The process is still alive, probably it's hanging during start.\n",
      "\u001b[2m\u001b[33m(raylet)\u001b[0m [2022-09-20 10:26:35,273 E 2461447 2461447] (raylet) worker_pool.cc:502: Some workers of the worker process(2462324) have not registered within the timeout. The process is still alive, probably it's hanging during start.\n",
      "\u001b[2m\u001b[33m(raylet)\u001b[0m [2022-09-20 10:27:48,667 E 2461447 2461447] (raylet) worker_pool.cc:502: Some workers of the worker process(2462854) have not registered within the timeout. The process is still alive, probably it's hanging during start.\n",
      "\u001b[2m\u001b[33m(raylet)\u001b[0m [2022-09-20 10:27:48,670 E 2461447 2461447] (raylet) worker_pool.cc:502: Some workers of the worker process(2462868) have not registered within the timeout. The process is still alive, probably it's hanging during start.\n",
      "\u001b[2m\u001b[33m(raylet)\u001b[0m [2022-09-20 10:27:48,674 E 2461447 2461447] (raylet) worker_pool.cc:502: Some workers of the worker process(2462875) have not registered within the timeout. The process is still alive, probably it's hanging during start.\n",
      "\u001b[2m\u001b[33m(raylet)\u001b[0m [2022-09-20 10:27:48,678 E 2461447 2461447] (raylet) worker_pool.cc:502: Some workers of the worker process(2462883) have not registered within the timeout. The process is still alive, probably it's hanging during start.\n",
      "\u001b[2m\u001b[33m(raylet)\u001b[0m [2022-09-20 10:27:48,682 E 2461447 2461447] (raylet) worker_pool.cc:502: Some workers of the worker process(2462886) have not registered within the timeout. The process is still alive, probably it's hanging during start.\n",
      "\u001b[2m\u001b[33m(raylet)\u001b[0m [2022-09-20 10:27:48,686 E 2461447 2461447] (raylet) worker_pool.cc:502: Some workers of the worker process(2462893) have not registered within the timeout. The process is still alive, probably it's hanging during start.\n",
      "\u001b[2m\u001b[33m(raylet)\u001b[0m [2022-09-20 10:27:48,690 E 2461447 2461447] (raylet) worker_pool.cc:502: Some workers of the worker process(2462895) have not registered within the timeout. The process is still alive, probably it's hanging during start.\n",
      "\u001b[2m\u001b[33m(raylet)\u001b[0m [2022-09-20 10:27:48,694 E 2461447 2461447] (raylet) worker_pool.cc:502: Some workers of the worker process(2462896) have not registered within the timeout. The process is still alive, probably it's hanging during start.\n",
      "\u001b[2m\u001b[33m(raylet)\u001b[0m [2022-09-20 10:27:48,697 E 2461447 2461447] (raylet) worker_pool.cc:502: Some workers of the worker process(2462897) have not registered within the timeout. The process is still alive, probably it's hanging during start.\n",
      "\u001b[2m\u001b[33m(raylet)\u001b[0m [2022-09-20 10:27:48,701 E 2461447 2461447] (raylet) worker_pool.cc:502: Some workers of the worker process(2462898) have not registered within the timeout. The process is still alive, probably it's hanging during start.\n",
      "\u001b[2m\u001b[33m(raylet)\u001b[0m [2022-09-20 10:27:48,705 E 2461447 2461447] (raylet) worker_pool.cc:502: Some workers of the worker process(2462899) have not registered within the timeout. The process is still alive, probably it's hanging during start.\n",
      "\u001b[2m\u001b[33m(raylet)\u001b[0m [2022-09-20 10:27:48,709 E 2461447 2461447] (raylet) worker_pool.cc:502: Some workers of the worker process(2462900) have not registered within the timeout. The process is still alive, probably it's hanging during start.\n",
      "\u001b[2m\u001b[33m(raylet)\u001b[0m [2022-09-20 10:27:48,712 E 2461447 2461447] (raylet) worker_pool.cc:502: Some workers of the worker process(2462903) have not registered within the timeout. The process is still alive, probably it's hanging during start.\n",
      "\u001b[2m\u001b[33m(raylet)\u001b[0m [2022-09-20 10:27:48,716 E 2461447 2461447] (raylet) worker_pool.cc:502: Some workers of the worker process(2462911) have not registered within the timeout. The process is still alive, probably it's hanging during start.\n",
      "\u001b[2m\u001b[33m(raylet)\u001b[0m [2022-09-20 10:27:48,720 E 2461447 2461447] (raylet) worker_pool.cc:502: Some workers of the worker process(2462912) have not registered within the timeout. The process is still alive, probably it's hanging during start.\n",
      "\u001b[2m\u001b[33m(raylet)\u001b[0m [2022-09-20 10:27:48,724 E 2461447 2461447] (raylet) worker_pool.cc:502: Some workers of the worker process(2462915) have not registered within the timeout. The process is still alive, probably it's hanging during start.\n",
      "\u001b[2m\u001b[33m(raylet)\u001b[0m [2022-09-20 10:27:48,728 E 2461447 2461447] (raylet) worker_pool.cc:502: Some workers of the worker process(2462923) have not registered within the timeout. The process is still alive, probably it's hanging during start.\n",
      "\u001b[2m\u001b[33m(raylet)\u001b[0m [2022-09-20 10:27:48,732 E 2461447 2461447] (raylet) worker_pool.cc:502: Some workers of the worker process(2462926) have not registered within the timeout. The process is still alive, probably it's hanging during start.\n",
      "\u001b[2m\u001b[33m(raylet)\u001b[0m [2022-09-20 10:27:48,736 E 2461447 2461447] (raylet) worker_pool.cc:502: Some workers of the worker process(2462934) have not registered within the timeout. The process is still alive, probably it's hanging during start.\n",
      "\u001b[2m\u001b[33m(raylet)\u001b[0m [2022-09-20 10:27:48,739 E 2461447 2461447] (raylet) worker_pool.cc:502: Some workers of the worker process(2462935) have not registered within the timeout. The process is still alive, probably it's hanging during start.\n",
      "\u001b[2m\u001b[33m(raylet)\u001b[0m [2022-09-20 10:27:48,743 E 2461447 2461447] (raylet) worker_pool.cc:502: Some workers of the worker process(2462936) have not registered within the timeout. The process is still alive, probably it's hanging during start.\n",
      "\u001b[2m\u001b[33m(raylet)\u001b[0m [2022-09-20 10:27:48,747 E 2461447 2461447] (raylet) worker_pool.cc:502: Some workers of the worker process(2462937) have not registered within the timeout. The process is still alive, probably it's hanging during start.\n",
      "\u001b[2m\u001b[33m(raylet)\u001b[0m [2022-09-20 10:27:48,751 E 2461447 2461447] (raylet) worker_pool.cc:502: Some workers of the worker process(2462938) have not registered within the timeout. The process is still alive, probably it's hanging during start.\n",
      "\u001b[2m\u001b[33m(raylet)\u001b[0m [2022-09-20 10:27:48,754 E 2461447 2461447] (raylet) worker_pool.cc:502: Some workers of the worker process(2462939) have not registered within the timeout. The process is still alive, probably it's hanging during start.\n",
      "\u001b[2m\u001b[33m(raylet)\u001b[0m [2022-09-20 10:27:48,758 E 2461447 2461447] (raylet) worker_pool.cc:502: Some workers of the worker process(2462940) have not registered within the timeout. The process is still alive, probably it's hanging during start.\n",
      "\u001b[2m\u001b[33m(raylet)\u001b[0m [2022-09-20 10:27:48,762 E 2461447 2461447] (raylet) worker_pool.cc:502: Some workers of the worker process(2462943) have not registered within the timeout. The process is still alive, probably it's hanging during start.\n",
      "\u001b[2m\u001b[33m(raylet)\u001b[0m [2022-09-20 10:27:48,765 E 2461447 2461447] (raylet) worker_pool.cc:502: Some workers of the worker process(2462951) have not registered within the timeout. The process is still alive, probably it's hanging during start.\n",
      "\u001b[2m\u001b[33m(raylet)\u001b[0m [2022-09-20 10:27:48,769 E 2461447 2461447] (raylet) worker_pool.cc:502: Some workers of the worker process(2462952) have not registered within the timeout. The process is still alive, probably it's hanging during start.\n",
      "\u001b[2m\u001b[33m(raylet)\u001b[0m [2022-09-20 10:27:48,773 E 2461447 2461447] (raylet) worker_pool.cc:502: Some workers of the worker process(2462953) have not registered within the timeout. The process is still alive, probably it's hanging during start.\n",
      "\u001b[2m\u001b[33m(raylet)\u001b[0m [2022-09-20 10:27:48,777 E 2461447 2461447] (raylet) worker_pool.cc:502: Some workers of the worker process(2462954) have not registered within the timeout. The process is still alive, probably it's hanging during start.\n",
      "\u001b[2m\u001b[33m(raylet)\u001b[0m [2022-09-20 10:27:48,780 E 2461447 2461447] (raylet) worker_pool.cc:502: Some workers of the worker process(2462955) have not registered within the timeout. The process is still alive, probably it's hanging during start.\n",
      "\u001b[2m\u001b[33m(raylet)\u001b[0m [2022-09-20 10:27:48,784 E 2461447 2461447] (raylet) worker_pool.cc:502: Some workers of the worker process(2462956) have not registered within the timeout. The process is still alive, probably it's hanging during start.\n",
      "\u001b[2m\u001b[33m(raylet)\u001b[0m [2022-09-20 10:27:48,788 E 2461447 2461447] (raylet) worker_pool.cc:502: Some workers of the worker process(2462957) have not registered within the timeout. The process is still alive, probably it's hanging during start.\n",
      "\u001b[2m\u001b[33m(raylet)\u001b[0m [2022-09-20 10:27:48,791 E 2461447 2461447] (raylet) worker_pool.cc:502: Some workers of the worker process(2462958) have not registered within the timeout. The process is still alive, probably it's hanging during start.\n",
      "\u001b[2m\u001b[33m(raylet)\u001b[0m [2022-09-20 10:27:48,800 E 2461447 2461447] (raylet) worker_pool.cc:502: Some workers of the worker process(2462965) have not registered within the timeout. The process is still alive, probably it's hanging during start.\n",
      "\u001b[2m\u001b[33m(raylet)\u001b[0m [2022-09-20 10:27:48,804 E 2461447 2461447] (raylet) worker_pool.cc:502: Some workers of the worker process(2462967) have not registered within the timeout. The process is still alive, probably it's hanging during start.\n",
      "\u001b[2m\u001b[33m(raylet)\u001b[0m [2022-09-20 10:27:48,808 E 2461447 2461447] (raylet) worker_pool.cc:502: Some workers of the worker process(2462968) have not registered within the timeout. The process is still alive, probably it's hanging during start.\n",
      "\u001b[2m\u001b[33m(raylet)\u001b[0m [2022-09-20 10:27:48,811 E 2461447 2461447] (raylet) worker_pool.cc:502: Some workers of the worker process(2462969) have not registered within the timeout. The process is still alive, probably it's hanging during start.\n",
      "\u001b[2m\u001b[33m(raylet)\u001b[0m [2022-09-20 10:27:48,815 E 2461447 2461447] (raylet) worker_pool.cc:502: Some workers of the worker process(2462970) have not registered within the timeout. The process is still alive, probably it's hanging during start.\n",
      "\u001b[2m\u001b[33m(raylet)\u001b[0m [2022-09-20 10:27:48,818 E 2461447 2461447] (raylet) worker_pool.cc:502: Some workers of the worker process(2462971) have not registered within the timeout. The process is still alive, probably it's hanging during start.\n",
      "\u001b[2m\u001b[33m(raylet)\u001b[0m [2022-09-20 10:27:48,822 E 2461447 2461447] (raylet) worker_pool.cc:502: Some workers of the worker process(2462972) have not registered within the timeout. The process is still alive, probably it's hanging during start.\n",
      "\u001b[2m\u001b[33m(raylet)\u001b[0m [2022-09-20 10:27:48,825 E 2461447 2461447] (raylet) worker_pool.cc:502: Some workers of the worker process(2462973) have not registered within the timeout. The process is still alive, probably it's hanging during start.\n",
      "\u001b[2m\u001b[33m(raylet)\u001b[0m [2022-09-20 10:27:48,833 E 2461447 2461447] (raylet) worker_pool.cc:502: Some workers of the worker process(2462974) have not registered within the timeout. The process is still alive, probably it's hanging during start.\n",
      "\u001b[2m\u001b[33m(raylet)\u001b[0m [2022-09-20 10:27:48,904 E 2461447 2461447] (raylet) worker_pool.cc:502: Some workers of the worker process(2462975) have not registered within the timeout. The process is still alive, probably it's hanging during start.\n",
      "\u001b[2m\u001b[33m(raylet)\u001b[0m [2022-09-20 10:27:48,905 E 2461447 2461447] (raylet) worker_pool.cc:502: Some workers of the worker process(2462976) have not registered within the timeout. The process is still alive, probably it's hanging during start.\n",
      "\u001b[2m\u001b[33m(raylet)\u001b[0m [2022-09-20 10:27:48,905 E 2461447 2461447] (raylet) worker_pool.cc:502: Some workers of the worker process(2462977) have not registered within the timeout. The process is still alive, probably it's hanging during start.\n",
      "\u001b[2m\u001b[33m(raylet)\u001b[0m [2022-09-20 10:27:48,905 E 2461447 2461447] (raylet) worker_pool.cc:502: Some workers of the worker process(2462978) have not registered within the timeout. The process is still alive, probably it's hanging during start.\n",
      "\u001b[2m\u001b[33m(raylet)\u001b[0m [2022-09-20 10:27:48,905 E 2461447 2461447] (raylet) worker_pool.cc:502: Some workers of the worker process(2462979) have not registered within the timeout. The process is still alive, probably it's hanging during start.\n",
      "\u001b[2m\u001b[33m(raylet)\u001b[0m [2022-09-20 10:27:48,905 E 2461447 2461447] (raylet) worker_pool.cc:502: Some workers of the worker process(2462980) have not registered within the timeout. The process is still alive, probably it's hanging during start.\n",
      "\u001b[2m\u001b[33m(raylet)\u001b[0m [2022-09-20 10:27:48,905 E 2461447 2461447] (raylet) worker_pool.cc:502: Some workers of the worker process(2462981) have not registered within the timeout. The process is still alive, probably it's hanging during start.\n",
      "\u001b[2m\u001b[33m(raylet)\u001b[0m [2022-09-20 10:27:48,905 E 2461447 2461447] (raylet) worker_pool.cc:502: Some workers of the worker process(2462982) have not registered within the timeout. The process is still alive, probably it's hanging during start.\n",
      "\u001b[2m\u001b[33m(raylet)\u001b[0m [2022-09-20 10:27:48,981 E 2461447 2461447] (raylet) worker_pool.cc:502: Some workers of the worker process(2462991) have not registered within the timeout. The process is still alive, probably it's hanging during start.\n"
     ]
    }
   ],
   "source": [
    "rows = [ray.get(r) for r in tqdm(rows)]"
   ]
  },
  {
   "cell_type": "code",
   "execution_count": 19,
   "metadata": {
    "execution": {
     "iopub.execute_input": "2022-09-20T08:33:55.558520Z",
     "iopub.status.busy": "2022-09-20T08:33:55.558228Z",
     "iopub.status.idle": "2022-09-20T08:33:55.563070Z",
     "shell.execute_reply": "2022-09-20T08:33:55.562643Z",
     "shell.execute_reply.started": "2022-09-20T08:33:55.558498Z"
    },
    "tags": []
   },
   "outputs": [
    {
     "data": {
      "text/plain": [
       "{'endpoint': 'OMOP_4306655',\n",
       " 'score': 'ASCVD+Retina',\n",
       " 'model': 'ImageTraining_[]_ConvNeXt_MLPHead_cropratio0.66',\n",
       " 'partition': '10',\n",
       " 'hrs': {'age': 1.1502596901660636,\n",
       "  'sex_Male': 1.104178199658831,\n",
       "  'ethnic_background_Asian': 0.829136397112348,\n",
       "  'ethnic_background_Chinese': 0.7750242851799667,\n",
       "  'ethnic_background_Black': 0.9574486801157565,\n",
       "  'ethnic_background_Mixed': 0.8462106052829345,\n",
       "  'smoking_status_Previous': 1.1798495241491116,\n",
       "  'smoking_status_Current': 1.8732631188970352,\n",
       "  'diabetes': 0.7448466395959744,\n",
       "  'antihypertensives': 1.0301843888885007,\n",
       "  'systolic_blood_pressure': 1.0297199771770786,\n",
       "  'cholesterol': 0.9092578622827848,\n",
       "  'hdl_cholesterol': 0.9682630302304317,\n",
       "  'OMOP_4306655': 3.554118116223837},\n",
       " 'hrs_ret': 3.554118116223837,\n",
       " 'hrs_ret_age': nan,\n",
       " 'hrs_ret_sex': nan}"
      ]
     },
     "execution_count": 19,
     "metadata": {},
     "output_type": "execute_result"
    }
   ],
   "source": [
    "rows[10]"
   ]
  },
  {
   "cell_type": "code",
   "execution_count": 20,
   "metadata": {
    "execution": {
     "iopub.execute_input": "2022-09-20T08:33:55.564009Z",
     "iopub.status.busy": "2022-09-20T08:33:55.563906Z",
     "iopub.status.idle": "2022-09-20T08:33:55.804126Z",
     "shell.execute_reply": "2022-09-20T08:33:55.803460Z",
     "shell.execute_reply.started": "2022-09-20T08:33:55.563997Z"
    },
    "tags": []
   },
   "outputs": [],
   "source": [
    "hrs_endpoints = pd.DataFrame({}).append(rows, ignore_index=True)"
   ]
  },
  {
   "cell_type": "code",
   "execution_count": 21,
   "metadata": {
    "execution": {
     "iopub.execute_input": "2022-09-20T08:33:55.805130Z",
     "iopub.status.busy": "2022-09-20T08:33:55.805009Z",
     "iopub.status.idle": "2022-09-20T08:33:55.819100Z",
     "shell.execute_reply": "2022-09-20T08:33:55.818685Z",
     "shell.execute_reply.started": "2022-09-20T08:33:55.805115Z"
    },
    "tags": []
   },
   "outputs": [
    {
     "data": {
      "text/html": [
       "<div>\n",
       "<style scoped>\n",
       "    .dataframe tbody tr th:only-of-type {\n",
       "        vertical-align: middle;\n",
       "    }\n",
       "\n",
       "    .dataframe tbody tr th {\n",
       "        vertical-align: top;\n",
       "    }\n",
       "\n",
       "    .dataframe thead th {\n",
       "        text-align: right;\n",
       "    }\n",
       "</style>\n",
       "<table border=\"1\" class=\"dataframe\">\n",
       "  <thead>\n",
       "    <tr style=\"text-align: right;\">\n",
       "      <th></th>\n",
       "      <th>endpoint</th>\n",
       "      <th>score</th>\n",
       "      <th>model</th>\n",
       "      <th>partition</th>\n",
       "      <th>hrs</th>\n",
       "      <th>hrs_ret</th>\n",
       "      <th>hrs_ret_age</th>\n",
       "      <th>hrs_ret_sex</th>\n",
       "    </tr>\n",
       "  </thead>\n",
       "  <tbody>\n",
       "    <tr>\n",
       "      <th>0</th>\n",
       "      <td>OMOP_4306655</td>\n",
       "      <td>ASCVD+Retina</td>\n",
       "      <td>ImageTraining_[]_ConvNeXt_MLPHead_cropratio0.66</td>\n",
       "      <td>0</td>\n",
       "      <td>{'age': 1.1527501934027027, 'sex_Male': 1.1052...</td>\n",
       "      <td>3.018703</td>\n",
       "      <td>NaN</td>\n",
       "      <td>NaN</td>\n",
       "    </tr>\n",
       "    <tr>\n",
       "      <th>1</th>\n",
       "      <td>OMOP_4306655</td>\n",
       "      <td>ASCVD+Retina</td>\n",
       "      <td>ImageTraining_[]_ConvNeXt_MLPHead_cropratio0.66</td>\n",
       "      <td>1</td>\n",
       "      <td>{'age': 1.2049262438451085, 'sex_Male': 1.0758...</td>\n",
       "      <td>3.200564</td>\n",
       "      <td>NaN</td>\n",
       "      <td>NaN</td>\n",
       "    </tr>\n",
       "    <tr>\n",
       "      <th>2</th>\n",
       "      <td>OMOP_4306655</td>\n",
       "      <td>ASCVD+Retina</td>\n",
       "      <td>ImageTraining_[]_ConvNeXt_MLPHead_cropratio0.66</td>\n",
       "      <td>2</td>\n",
       "      <td>{'age': 1.1716578072816477, 'sex_Male': 1.1377...</td>\n",
       "      <td>2.949344</td>\n",
       "      <td>NaN</td>\n",
       "      <td>NaN</td>\n",
       "    </tr>\n",
       "    <tr>\n",
       "      <th>3</th>\n",
       "      <td>OMOP_4306655</td>\n",
       "      <td>ASCVD+Retina</td>\n",
       "      <td>ImageTraining_[]_ConvNeXt_MLPHead_cropratio0.66</td>\n",
       "      <td>3</td>\n",
       "      <td>{'age': 1.1387289772428877, 'sex_Male': 1.0844...</td>\n",
       "      <td>3.553097</td>\n",
       "      <td>NaN</td>\n",
       "      <td>NaN</td>\n",
       "    </tr>\n",
       "    <tr>\n",
       "      <th>4</th>\n",
       "      <td>OMOP_4306655</td>\n",
       "      <td>ASCVD+Retina</td>\n",
       "      <td>ImageTraining_[]_ConvNeXt_MLPHead_cropratio0.66</td>\n",
       "      <td>4</td>\n",
       "      <td>{'age': 1.2175686789659195, 'sex_Male': 1.1328...</td>\n",
       "      <td>3.180296</td>\n",
       "      <td>NaN</td>\n",
       "      <td>NaN</td>\n",
       "    </tr>\n",
       "    <tr>\n",
       "      <th>...</th>\n",
       "      <td>...</td>\n",
       "      <td>...</td>\n",
       "      <td>...</td>\n",
       "      <td>...</td>\n",
       "      <td>...</td>\n",
       "      <td>...</td>\n",
       "      <td>...</td>\n",
       "      <td>...</td>\n",
       "    </tr>\n",
       "    <tr>\n",
       "      <th>128805</th>\n",
       "      <td>phecode_979</td>\n",
       "      <td>SCORE2+Retina</td>\n",
       "      <td>ImageTraining_[]_ConvNeXt_MLPHead_cropratio0.66</td>\n",
       "      <td>17</td>\n",
       "      <td>{'age': 1.1752389202653595, 'sex_Male': 0.0517...</td>\n",
       "      <td>0.008859</td>\n",
       "      <td>NaN</td>\n",
       "      <td>NaN</td>\n",
       "    </tr>\n",
       "    <tr>\n",
       "      <th>128806</th>\n",
       "      <td>phecode_979</td>\n",
       "      <td>SCORE2+Retina</td>\n",
       "      <td>ImageTraining_[]_ConvNeXt_MLPHead_cropratio0.66</td>\n",
       "      <td>18</td>\n",
       "      <td>{'age': 0.6773848730115812, 'sex_Male': 1.3933...</td>\n",
       "      <td>3.111668</td>\n",
       "      <td>NaN</td>\n",
       "      <td>NaN</td>\n",
       "    </tr>\n",
       "    <tr>\n",
       "      <th>128807</th>\n",
       "      <td>phecode_979</td>\n",
       "      <td>SCORE2+Retina</td>\n",
       "      <td>ImageTraining_[]_ConvNeXt_MLPHead_cropratio0.66</td>\n",
       "      <td>19</td>\n",
       "      <td>{'age': 4.2836864937835575, 'sex_Male': 1.3976...</td>\n",
       "      <td>0.000026</td>\n",
       "      <td>NaN</td>\n",
       "      <td>NaN</td>\n",
       "    </tr>\n",
       "    <tr>\n",
       "      <th>128808</th>\n",
       "      <td>phecode_979</td>\n",
       "      <td>SCORE2+Retina</td>\n",
       "      <td>ImageTraining_[]_ConvNeXt_MLPHead_cropratio0.66</td>\n",
       "      <td>20</td>\n",
       "      <td>{'age': 0.6542848174750082, 'sex_Male': 1.5836...</td>\n",
       "      <td>3.337431</td>\n",
       "      <td>NaN</td>\n",
       "      <td>NaN</td>\n",
       "    </tr>\n",
       "    <tr>\n",
       "      <th>128809</th>\n",
       "      <td>phecode_979</td>\n",
       "      <td>SCORE2+Retina</td>\n",
       "      <td>ImageTraining_[]_ConvNeXt_MLPHead_cropratio0.66</td>\n",
       "      <td>21</td>\n",
       "      <td>{'age': 0.6876870143454991, 'sex_Male': 0.1251...</td>\n",
       "      <td>0.000007</td>\n",
       "      <td>NaN</td>\n",
       "      <td>NaN</td>\n",
       "    </tr>\n",
       "  </tbody>\n",
       "</table>\n",
       "<p>128810 rows × 8 columns</p>\n",
       "</div>"
      ],
      "text/plain": [
       "            endpoint          score  \\\n",
       "0       OMOP_4306655   ASCVD+Retina   \n",
       "1       OMOP_4306655   ASCVD+Retina   \n",
       "2       OMOP_4306655   ASCVD+Retina   \n",
       "3       OMOP_4306655   ASCVD+Retina   \n",
       "4       OMOP_4306655   ASCVD+Retina   \n",
       "...              ...            ...   \n",
       "128805   phecode_979  SCORE2+Retina   \n",
       "128806   phecode_979  SCORE2+Retina   \n",
       "128807   phecode_979  SCORE2+Retina   \n",
       "128808   phecode_979  SCORE2+Retina   \n",
       "128809   phecode_979  SCORE2+Retina   \n",
       "\n",
       "                                                  model partition  \\\n",
       "0       ImageTraining_[]_ConvNeXt_MLPHead_cropratio0.66         0   \n",
       "1       ImageTraining_[]_ConvNeXt_MLPHead_cropratio0.66         1   \n",
       "2       ImageTraining_[]_ConvNeXt_MLPHead_cropratio0.66         2   \n",
       "3       ImageTraining_[]_ConvNeXt_MLPHead_cropratio0.66         3   \n",
       "4       ImageTraining_[]_ConvNeXt_MLPHead_cropratio0.66         4   \n",
       "...                                                 ...       ...   \n",
       "128805  ImageTraining_[]_ConvNeXt_MLPHead_cropratio0.66        17   \n",
       "128806  ImageTraining_[]_ConvNeXt_MLPHead_cropratio0.66        18   \n",
       "128807  ImageTraining_[]_ConvNeXt_MLPHead_cropratio0.66        19   \n",
       "128808  ImageTraining_[]_ConvNeXt_MLPHead_cropratio0.66        20   \n",
       "128809  ImageTraining_[]_ConvNeXt_MLPHead_cropratio0.66        21   \n",
       "\n",
       "                                                      hrs   hrs_ret  \\\n",
       "0       {'age': 1.1527501934027027, 'sex_Male': 1.1052...  3.018703   \n",
       "1       {'age': 1.2049262438451085, 'sex_Male': 1.0758...  3.200564   \n",
       "2       {'age': 1.1716578072816477, 'sex_Male': 1.1377...  2.949344   \n",
       "3       {'age': 1.1387289772428877, 'sex_Male': 1.0844...  3.553097   \n",
       "4       {'age': 1.2175686789659195, 'sex_Male': 1.1328...  3.180296   \n",
       "...                                                   ...       ...   \n",
       "128805  {'age': 1.1752389202653595, 'sex_Male': 0.0517...  0.008859   \n",
       "128806  {'age': 0.6773848730115812, 'sex_Male': 1.3933...  3.111668   \n",
       "128807  {'age': 4.2836864937835575, 'sex_Male': 1.3976...  0.000026   \n",
       "128808  {'age': 0.6542848174750082, 'sex_Male': 1.5836...  3.337431   \n",
       "128809  {'age': 0.6876870143454991, 'sex_Male': 0.1251...  0.000007   \n",
       "\n",
       "        hrs_ret_age  hrs_ret_sex  \n",
       "0               NaN          NaN  \n",
       "1               NaN          NaN  \n",
       "2               NaN          NaN  \n",
       "3               NaN          NaN  \n",
       "4               NaN          NaN  \n",
       "...             ...          ...  \n",
       "128805          NaN          NaN  \n",
       "128806          NaN          NaN  \n",
       "128807          NaN          NaN  \n",
       "128808          NaN          NaN  \n",
       "128809          NaN          NaN  \n",
       "\n",
       "[128810 rows x 8 columns]"
      ]
     },
     "execution_count": 21,
     "metadata": {},
     "output_type": "execute_result"
    }
   ],
   "source": [
    "hrs_endpoints "
   ]
  },
  {
   "cell_type": "code",
   "execution_count": 22,
   "metadata": {
    "execution": {
     "iopub.execute_input": "2022-09-20T08:33:55.819817Z",
     "iopub.status.busy": "2022-09-20T08:33:55.819711Z",
     "iopub.status.idle": "2022-09-20T08:34:03.448767Z",
     "shell.execute_reply": "2022-09-20T08:34:03.448026Z",
     "shell.execute_reply.started": "2022-09-20T08:33:55.819804Z"
    },
    "tags": []
   },
   "outputs": [],
   "source": [
    "name = f\"hrs_endpoints\"\n",
    "hrs_endpoints.to_feather(f\"{experiment_path}/{name}.feather\")"
   ]
  },
  {
   "cell_type": "code",
   "execution_count": 23,
   "metadata": {
    "execution": {
     "iopub.execute_input": "2022-09-20T08:34:03.449872Z",
     "iopub.status.busy": "2022-09-20T08:34:03.449741Z",
     "iopub.status.idle": "2022-09-20T08:34:03.463562Z",
     "shell.execute_reply": "2022-09-20T08:34:03.463161Z",
     "shell.execute_reply.started": "2022-09-20T08:34:03.449856Z"
    }
   },
   "outputs": [
    {
     "data": {
      "text/html": [
       "<div>\n",
       "<style scoped>\n",
       "    .dataframe tbody tr th:only-of-type {\n",
       "        vertical-align: middle;\n",
       "    }\n",
       "\n",
       "    .dataframe tbody tr th {\n",
       "        vertical-align: top;\n",
       "    }\n",
       "\n",
       "    .dataframe thead th {\n",
       "        text-align: right;\n",
       "    }\n",
       "</style>\n",
       "<table border=\"1\" class=\"dataframe\">\n",
       "  <thead>\n",
       "    <tr style=\"text-align: right;\">\n",
       "      <th></th>\n",
       "      <th>endpoint</th>\n",
       "      <th>score</th>\n",
       "      <th>model</th>\n",
       "      <th>partition</th>\n",
       "      <th>hrs</th>\n",
       "      <th>hrs_ret</th>\n",
       "      <th>hrs_ret_age</th>\n",
       "      <th>hrs_ret_sex</th>\n",
       "    </tr>\n",
       "  </thead>\n",
       "  <tbody>\n",
       "    <tr>\n",
       "      <th>0</th>\n",
       "      <td>OMOP_4306655</td>\n",
       "      <td>ASCVD+Retina</td>\n",
       "      <td>ImageTraining_[]_ConvNeXt_MLPHead_cropratio0.66</td>\n",
       "      <td>0</td>\n",
       "      <td>{'age': 1.1527501934027027, 'sex_Male': 1.1052...</td>\n",
       "      <td>3.018703</td>\n",
       "      <td>NaN</td>\n",
       "      <td>NaN</td>\n",
       "    </tr>\n",
       "    <tr>\n",
       "      <th>1</th>\n",
       "      <td>OMOP_4306655</td>\n",
       "      <td>ASCVD+Retina</td>\n",
       "      <td>ImageTraining_[]_ConvNeXt_MLPHead_cropratio0.66</td>\n",
       "      <td>1</td>\n",
       "      <td>{'age': 1.2049262438451085, 'sex_Male': 1.0758...</td>\n",
       "      <td>3.200564</td>\n",
       "      <td>NaN</td>\n",
       "      <td>NaN</td>\n",
       "    </tr>\n",
       "    <tr>\n",
       "      <th>2</th>\n",
       "      <td>OMOP_4306655</td>\n",
       "      <td>ASCVD+Retina</td>\n",
       "      <td>ImageTraining_[]_ConvNeXt_MLPHead_cropratio0.66</td>\n",
       "      <td>2</td>\n",
       "      <td>{'age': 1.1716578072816477, 'sex_Male': 1.1377...</td>\n",
       "      <td>2.949344</td>\n",
       "      <td>NaN</td>\n",
       "      <td>NaN</td>\n",
       "    </tr>\n",
       "    <tr>\n",
       "      <th>3</th>\n",
       "      <td>OMOP_4306655</td>\n",
       "      <td>ASCVD+Retina</td>\n",
       "      <td>ImageTraining_[]_ConvNeXt_MLPHead_cropratio0.66</td>\n",
       "      <td>3</td>\n",
       "      <td>{'age': 1.1387289772428877, 'sex_Male': 1.0844...</td>\n",
       "      <td>3.553097</td>\n",
       "      <td>NaN</td>\n",
       "      <td>NaN</td>\n",
       "    </tr>\n",
       "    <tr>\n",
       "      <th>4</th>\n",
       "      <td>OMOP_4306655</td>\n",
       "      <td>ASCVD+Retina</td>\n",
       "      <td>ImageTraining_[]_ConvNeXt_MLPHead_cropratio0.66</td>\n",
       "      <td>4</td>\n",
       "      <td>{'age': 1.2175686789659195, 'sex_Male': 1.1328...</td>\n",
       "      <td>3.180296</td>\n",
       "      <td>NaN</td>\n",
       "      <td>NaN</td>\n",
       "    </tr>\n",
       "    <tr>\n",
       "      <th>...</th>\n",
       "      <td>...</td>\n",
       "      <td>...</td>\n",
       "      <td>...</td>\n",
       "      <td>...</td>\n",
       "      <td>...</td>\n",
       "      <td>...</td>\n",
       "      <td>...</td>\n",
       "      <td>...</td>\n",
       "    </tr>\n",
       "    <tr>\n",
       "      <th>128805</th>\n",
       "      <td>phecode_979</td>\n",
       "      <td>SCORE2+Retina</td>\n",
       "      <td>ImageTraining_[]_ConvNeXt_MLPHead_cropratio0.66</td>\n",
       "      <td>17</td>\n",
       "      <td>{'age': 1.1752389202653595, 'sex_Male': 0.0517...</td>\n",
       "      <td>0.008859</td>\n",
       "      <td>NaN</td>\n",
       "      <td>NaN</td>\n",
       "    </tr>\n",
       "    <tr>\n",
       "      <th>128806</th>\n",
       "      <td>phecode_979</td>\n",
       "      <td>SCORE2+Retina</td>\n",
       "      <td>ImageTraining_[]_ConvNeXt_MLPHead_cropratio0.66</td>\n",
       "      <td>18</td>\n",
       "      <td>{'age': 0.6773848730115812, 'sex_Male': 1.3933...</td>\n",
       "      <td>3.111668</td>\n",
       "      <td>NaN</td>\n",
       "      <td>NaN</td>\n",
       "    </tr>\n",
       "    <tr>\n",
       "      <th>128807</th>\n",
       "      <td>phecode_979</td>\n",
       "      <td>SCORE2+Retina</td>\n",
       "      <td>ImageTraining_[]_ConvNeXt_MLPHead_cropratio0.66</td>\n",
       "      <td>19</td>\n",
       "      <td>{'age': 4.2836864937835575, 'sex_Male': 1.3976...</td>\n",
       "      <td>0.000026</td>\n",
       "      <td>NaN</td>\n",
       "      <td>NaN</td>\n",
       "    </tr>\n",
       "    <tr>\n",
       "      <th>128808</th>\n",
       "      <td>phecode_979</td>\n",
       "      <td>SCORE2+Retina</td>\n",
       "      <td>ImageTraining_[]_ConvNeXt_MLPHead_cropratio0.66</td>\n",
       "      <td>20</td>\n",
       "      <td>{'age': 0.6542848174750082, 'sex_Male': 1.5836...</td>\n",
       "      <td>3.337431</td>\n",
       "      <td>NaN</td>\n",
       "      <td>NaN</td>\n",
       "    </tr>\n",
       "    <tr>\n",
       "      <th>128809</th>\n",
       "      <td>phecode_979</td>\n",
       "      <td>SCORE2+Retina</td>\n",
       "      <td>ImageTraining_[]_ConvNeXt_MLPHead_cropratio0.66</td>\n",
       "      <td>21</td>\n",
       "      <td>{'age': 0.6876870143454991, 'sex_Male': 0.1251...</td>\n",
       "      <td>0.000007</td>\n",
       "      <td>NaN</td>\n",
       "      <td>NaN</td>\n",
       "    </tr>\n",
       "  </tbody>\n",
       "</table>\n",
       "<p>128810 rows × 8 columns</p>\n",
       "</div>"
      ],
      "text/plain": [
       "            endpoint          score  \\\n",
       "0       OMOP_4306655   ASCVD+Retina   \n",
       "1       OMOP_4306655   ASCVD+Retina   \n",
       "2       OMOP_4306655   ASCVD+Retina   \n",
       "3       OMOP_4306655   ASCVD+Retina   \n",
       "4       OMOP_4306655   ASCVD+Retina   \n",
       "...              ...            ...   \n",
       "128805   phecode_979  SCORE2+Retina   \n",
       "128806   phecode_979  SCORE2+Retina   \n",
       "128807   phecode_979  SCORE2+Retina   \n",
       "128808   phecode_979  SCORE2+Retina   \n",
       "128809   phecode_979  SCORE2+Retina   \n",
       "\n",
       "                                                  model partition  \\\n",
       "0       ImageTraining_[]_ConvNeXt_MLPHead_cropratio0.66         0   \n",
       "1       ImageTraining_[]_ConvNeXt_MLPHead_cropratio0.66         1   \n",
       "2       ImageTraining_[]_ConvNeXt_MLPHead_cropratio0.66         2   \n",
       "3       ImageTraining_[]_ConvNeXt_MLPHead_cropratio0.66         3   \n",
       "4       ImageTraining_[]_ConvNeXt_MLPHead_cropratio0.66         4   \n",
       "...                                                 ...       ...   \n",
       "128805  ImageTraining_[]_ConvNeXt_MLPHead_cropratio0.66        17   \n",
       "128806  ImageTraining_[]_ConvNeXt_MLPHead_cropratio0.66        18   \n",
       "128807  ImageTraining_[]_ConvNeXt_MLPHead_cropratio0.66        19   \n",
       "128808  ImageTraining_[]_ConvNeXt_MLPHead_cropratio0.66        20   \n",
       "128809  ImageTraining_[]_ConvNeXt_MLPHead_cropratio0.66        21   \n",
       "\n",
       "                                                      hrs   hrs_ret  \\\n",
       "0       {'age': 1.1527501934027027, 'sex_Male': 1.1052...  3.018703   \n",
       "1       {'age': 1.2049262438451085, 'sex_Male': 1.0758...  3.200564   \n",
       "2       {'age': 1.1716578072816477, 'sex_Male': 1.1377...  2.949344   \n",
       "3       {'age': 1.1387289772428877, 'sex_Male': 1.0844...  3.553097   \n",
       "4       {'age': 1.2175686789659195, 'sex_Male': 1.1328...  3.180296   \n",
       "...                                                   ...       ...   \n",
       "128805  {'age': 1.1752389202653595, 'sex_Male': 0.0517...  0.008859   \n",
       "128806  {'age': 0.6773848730115812, 'sex_Male': 1.3933...  3.111668   \n",
       "128807  {'age': 4.2836864937835575, 'sex_Male': 1.3976...  0.000026   \n",
       "128808  {'age': 0.6542848174750082, 'sex_Male': 1.5836...  3.337431   \n",
       "128809  {'age': 0.6876870143454991, 'sex_Male': 0.1251...  0.000007   \n",
       "\n",
       "        hrs_ret_age  hrs_ret_sex  \n",
       "0               NaN          NaN  \n",
       "1               NaN          NaN  \n",
       "2               NaN          NaN  \n",
       "3               NaN          NaN  \n",
       "4               NaN          NaN  \n",
       "...             ...          ...  \n",
       "128805          NaN          NaN  \n",
       "128806          NaN          NaN  \n",
       "128807          NaN          NaN  \n",
       "128808          NaN          NaN  \n",
       "128809          NaN          NaN  \n",
       "\n",
       "[128810 rows x 8 columns]"
      ]
     },
     "execution_count": 23,
     "metadata": {},
     "output_type": "execute_result"
    }
   ],
   "source": [
    "hrs_endpoints"
   ]
  },
  {
   "cell_type": "code",
   "execution_count": 24,
   "metadata": {
    "execution": {
     "iopub.execute_input": "2022-09-20T08:34:03.464527Z",
     "iopub.status.busy": "2022-09-20T08:34:03.464163Z",
     "iopub.status.idle": "2022-09-20T08:34:04.573558Z",
     "shell.execute_reply": "2022-09-20T08:34:04.571983Z",
     "shell.execute_reply.started": "2022-09-20T08:34:03.464507Z"
    }
   },
   "outputs": [
    {
     "ename": "NameError",
     "evalue": "name 'cph' is not defined",
     "output_type": "error",
     "traceback": [
      "\u001b[0;31m---------------------------------------------------------------------------\u001b[0m",
      "\u001b[0;31mNameError\u001b[0m                                 Traceback (most recent call last)",
      "\u001b[0;32m/tmp/ipykernel_2461882/1653210156.py\u001b[0m in \u001b[0;36m<module>\u001b[0;34m\u001b[0m\n\u001b[0;32m----> 1\u001b[0;31m \u001b[0mcph\u001b[0m\u001b[0;34m.\u001b[0m\u001b[0mplot\u001b[0m\u001b[0;34m(\u001b[0m\u001b[0;34m)\u001b[0m\u001b[0;34m\u001b[0m\u001b[0;34m\u001b[0m\u001b[0m\n\u001b[0m",
      "\u001b[0;31mNameError\u001b[0m: name 'cph' is not defined"
     ]
    }
   ],
   "source": [
    "cph.plot()"
   ]
  },
  {
   "cell_type": "code",
   "execution_count": null,
   "metadata": {
    "execution": {
     "iopub.status.busy": "2022-09-20T08:34:04.574144Z",
     "iopub.status.idle": "2022-09-20T08:34:04.574314Z",
     "shell.execute_reply": "2022-09-20T08:34:04.574229Z",
     "shell.execute_reply.started": "2022-09-20T08:34:04.574220Z"
    }
   },
   "outputs": [],
   "source": [
    "#[[]]"
   ]
  },
  {
   "cell_type": "code",
   "execution_count": null,
   "metadata": {
    "execution": {
     "iopub.status.busy": "2022-09-20T08:34:04.575305Z",
     "iopub.status.idle": "2022-09-20T08:34:04.575480Z",
     "shell.execute_reply": "2022-09-20T08:34:04.575390Z",
     "shell.execute_reply.started": "2022-09-20T08:34:04.575382Z"
    }
   },
   "outputs": [],
   "source": [
    "cph.print_summary()"
   ]
  },
  {
   "cell_type": "code",
   "execution_count": null,
   "metadata": {},
   "outputs": [],
   "source": []
  }
 ],
 "metadata": {
  "kernelspec": {
   "display_name": "retrisk",
   "language": "python",
   "name": "retrisk"
  },
  "language_info": {
   "codemirror_mode": {
    "name": "ipython",
    "version": 3
   },
   "file_extension": ".py",
   "mimetype": "text/x-python",
   "name": "python",
   "nbconvert_exporter": "python",
   "pygments_lexer": "ipython3",
   "version": "3.9.7"
  },
  "toc-autonumbering": false
 },
 "nbformat": 4,
 "nbformat_minor": 4
}
