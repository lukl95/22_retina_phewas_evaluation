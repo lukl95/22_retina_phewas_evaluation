{
 "cells": [
  {
   "cell_type": "markdown",
   "metadata": {},
   "source": [
    "# Benchmarks"
   ]
  },
  {
   "cell_type": "markdown",
   "metadata": {},
   "source": [
    "## Initialize"
   ]
  },
  {
   "cell_type": "code",
   "execution_count": 1,
   "metadata": {
    "execution": {
     "iopub.execute_input": "2022-11-18T20:42:51.363596Z",
     "iopub.status.busy": "2022-11-18T20:42:51.363311Z",
     "iopub.status.idle": "2022-11-18T20:42:55.299716Z",
     "shell.execute_reply": "2022-11-18T20:42:55.298909Z",
     "shell.execute_reply.started": "2022-11-18T20:42:51.363551Z"
    },
    "tags": []
   },
   "outputs": [],
   "source": [
    "import os\n",
    "import math\n",
    "import pathlib\n",
    "import numpy as np\n",
    "import pandas as pd\n",
    "from tqdm.auto import tqdm\n",
    "from IPython.display import clear_output\n",
    "\n",
    "import warnings\n",
    "from lifelines.utils import CensoringType\n",
    "from lifelines.utils import concordance_index"
   ]
  },
  {
   "cell_type": "code",
   "execution_count": 2,
   "metadata": {
    "execution": {
     "iopub.execute_input": "2022-11-18T20:42:55.301664Z",
     "iopub.status.busy": "2022-11-18T20:42:55.301365Z",
     "iopub.status.idle": "2022-11-18T20:42:55.342399Z",
     "shell.execute_reply": "2022-11-18T20:42:55.341911Z",
     "shell.execute_reply.started": "2022-11-18T20:42:55.301589Z"
    },
    "tags": []
   },
   "outputs": [
    {
     "name": "stdout",
     "output_type": "stream",
     "text": [
      "/sc-projects/sc-proj-ukb-cvd\n"
     ]
    },
    {
     "data": {
      "text/plain": [
       "[0, 1, 2, 3, 4, 5, 6, 7, 8, 9, 10, 11, 12, 13, 14, 15, 16, 17, 18, 19, 20, 21]"
      ]
     },
     "execution_count": 2,
     "metadata": {},
     "output_type": "execute_result"
    }
   ],
   "source": [
    "node = !hostname\n",
    "if \"sc\" in node[0]:\n",
    "    base_path = \"/sc-projects/sc-proj-ukb-cvd\"\n",
    "else: \n",
    "    base_path = \"/data/analysis/ag-reils/ag-reils-shared/cardioRS\"\n",
    "print(base_path)\n",
    "\n",
    "project_label = \"22_retina_phewas\"\n",
    "project_path = f\"{base_path}/results/projects/{project_label}\"\n",
    "figure_path = f\"{project_path}/figures\"\n",
    "output_path = f\"{project_path}/data\"\n",
    "\n",
    "pathlib.Path(figure_path).mkdir(parents=True, exist_ok=True)\n",
    "pathlib.Path(output_path).mkdir(parents=True, exist_ok=True)\n",
    "\n",
    "experiment = '221108'\n",
    "experiment_path = f\"{output_path}/{experiment}\"\n",
    "pathlib.Path(experiment_path).mkdir(parents=True, exist_ok=True)\n",
    "\n",
    "name_dict = {\n",
    "    \"predictions_cropratio0.66\": \"ConvNextSmall(Retina)+MLP_cropratio0.66\",\n",
    "}\n",
    "\n",
    "partitions = [i for i in range(22)]\n",
    "partitions"
   ]
  },
  {
   "cell_type": "code",
   "execution_count": 3,
   "metadata": {
    "execution": {
     "iopub.execute_input": "2022-11-18T20:42:55.343449Z",
     "iopub.status.busy": "2022-11-18T20:42:55.343331Z",
     "iopub.status.idle": "2022-11-18T20:42:55.346468Z",
     "shell.execute_reply": "2022-11-18T20:42:55.345959Z",
     "shell.execute_reply.started": "2022-11-18T20:42:55.343433Z"
    }
   },
   "outputs": [],
   "source": [
    "today = '221109'"
   ]
  },
  {
   "cell_type": "code",
   "execution_count": 4,
   "metadata": {
    "execution": {
     "iopub.execute_input": "2022-11-18T20:42:55.347556Z",
     "iopub.status.busy": "2022-11-18T20:42:55.347460Z",
     "iopub.status.idle": "2022-11-18T20:42:55.358745Z",
     "shell.execute_reply": "2022-11-18T20:42:55.358359Z",
     "shell.execute_reply.started": "2022-11-18T20:42:55.347545Z"
    },
    "tags": []
   },
   "outputs": [],
   "source": [
    "splits = [\"train\", \"valid\", 'test'] # \"test_left\", 'test_right']"
   ]
  },
  {
   "cell_type": "code",
   "execution_count": 5,
   "metadata": {
    "execution": {
     "iopub.execute_input": "2022-11-18T20:42:55.359349Z",
     "iopub.status.busy": "2022-11-18T20:42:55.359261Z",
     "iopub.status.idle": "2022-11-18T20:42:55.400917Z",
     "shell.execute_reply": "2022-11-18T20:42:55.400438Z",
     "shell.execute_reply.started": "2022-11-18T20:42:55.359334Z"
    }
   },
   "outputs": [],
   "source": [
    "import pandas as pd\n",
    "endpoints = sorted([l.replace('_prevalent', '') for l in list(pd.read_csv('/sc-projects/sc-proj-ukb-cvd/results/projects/22_retinal_risk/data/220602/endpoints.csv').endpoint.values)])"
   ]
  },
  {
   "cell_type": "code",
   "execution_count": 6,
   "metadata": {
    "execution": {
     "iopub.execute_input": "2022-11-18T20:42:55.401573Z",
     "iopub.status.busy": "2022-11-18T20:42:55.401485Z",
     "iopub.status.idle": "2022-11-18T20:42:55.481709Z",
     "shell.execute_reply": "2022-11-18T20:42:55.481066Z",
     "shell.execute_reply.started": "2022-11-18T20:42:55.401563Z"
    },
    "tags": []
   },
   "outputs": [],
   "source": [
    "endpoint_defs = pd.read_feather(f\"{output_path}/phecode_defs_220306.feather\").query(\"endpoint==@endpoints\").sort_values(\"endpoint\").set_index(\"endpoint\")"
   ]
  },
  {
   "cell_type": "code",
   "execution_count": 7,
   "metadata": {
    "execution": {
     "iopub.execute_input": "2022-11-18T20:42:55.483185Z",
     "iopub.status.busy": "2022-11-18T20:42:55.482677Z",
     "iopub.status.idle": "2022-11-18T20:42:55.485846Z",
     "shell.execute_reply": "2022-11-18T20:42:55.485419Z",
     "shell.execute_reply.started": "2022-11-18T20:42:55.483163Z"
    }
   },
   "outputs": [],
   "source": [
    "from datetime import date\n",
    "today = str(date.today()) if today is None else today\n"
   ]
  },
  {
   "cell_type": "code",
   "execution_count": 8,
   "metadata": {
    "execution": {
     "iopub.execute_input": "2022-11-18T20:42:55.486651Z",
     "iopub.status.busy": "2022-11-18T20:42:55.486546Z",
     "iopub.status.idle": "2022-11-18T20:43:07.386665Z",
     "shell.execute_reply": "2022-11-18T20:43:07.386105Z",
     "shell.execute_reply.started": "2022-11-18T20:42:55.486639Z"
    }
   },
   "outputs": [],
   "source": [
    "eligable_eids = pd.read_feather(f\"{output_path}/eligable_eids_{today}.feather\")\n",
    "eids_dict = eligable_eids.set_index(\"endpoint\")[\"eid_list\"].to_dict()"
   ]
  },
  {
   "cell_type": "code",
   "execution_count": 9,
   "metadata": {
    "execution": {
     "iopub.execute_input": "2022-11-18T20:43:07.387771Z",
     "iopub.status.busy": "2022-11-18T20:43:07.387655Z",
     "iopub.status.idle": "2022-11-18T20:43:07.391945Z",
     "shell.execute_reply": "2022-11-18T20:43:07.391710Z",
     "shell.execute_reply.started": "2022-11-18T20:43:07.387755Z"
    },
    "tags": []
   },
   "outputs": [
    {
     "name": "stdout",
     "output_type": "stream",
     "text": [
      "env: MKL_NUM_THREADS=4\n",
      "env: NUMEXPR_NUM_THREADS=4\n",
      "env: OMP_NUM_THREADS=4\n"
     ]
    }
   ],
   "source": [
    "%env MKL_NUM_THREADS=4\n",
    "%env NUMEXPR_NUM_THREADS=4\n",
    "%env OMP_NUM_THREADS=4"
   ]
  },
  {
   "cell_type": "code",
   "execution_count": 10,
   "metadata": {
    "execution": {
     "iopub.execute_input": "2022-11-18T20:43:07.393449Z",
     "iopub.status.busy": "2022-11-18T20:43:07.393120Z",
     "iopub.status.idle": "2022-11-18T20:43:07.407701Z",
     "shell.execute_reply": "2022-11-18T20:43:07.407483Z",
     "shell.execute_reply.started": "2022-11-18T20:43:07.393435Z"
    }
   },
   "outputs": [],
   "source": [
    "#ray.shutdown()"
   ]
  },
  {
   "cell_type": "code",
   "execution_count": 12,
   "metadata": {
    "execution": {
     "iopub.execute_input": "2022-11-18T20:48:42.860894Z",
     "iopub.status.busy": "2022-11-18T20:48:42.860660Z",
     "iopub.status.idle": "2022-11-18T20:48:43.244845Z",
     "shell.execute_reply": "2022-11-18T20:48:43.244537Z",
     "shell.execute_reply.started": "2022-11-18T20:48:42.860876Z"
    },
    "tags": []
   },
   "outputs": [
    {
     "data": {
      "text/plain": [
       "RayContext(dashboard_url='', python_version='3.9.7', ray_version='1.13.0', ray_commit='e4ce38d001dbbe09cd21c497fedd03d692b2be3e', address_info={'node_ip_address': '10.32.105.13', 'raylet_ip_address': '10.32.105.13', 'redis_address': None, 'object_store_address': '/tmp/ray/session_2022-11-18_21-48-23_999151_2509896/sockets/plasma_store', 'raylet_socket_name': '/tmp/ray/session_2022-11-18_21-48-23_999151_2509896/sockets/raylet', 'webui_url': '', 'session_dir': '/tmp/ray/session_2022-11-18_21-48-23_999151_2509896', 'metrics_export_port': 44551, 'gcs_address': '10.32.105.13:6321', 'address': '10.32.105.13:6321', 'node_id': 'd351af6132de951635bcaf21cc3b94e74d7e56c7400c4d620212c41c'})"
      ]
     },
     "execution_count": 12,
     "metadata": {},
     "output_type": "execute_result"
    }
   ],
   "source": [
    "import ray\n",
    "\n",
    "ray.init(address=\"auto\")#, dashboard_port=24762, dashboard_host=\"0.0.0.0\", include_dashboard=True)#, webui_url=\"0.0.0.0\"))"
   ]
  },
  {
   "cell_type": "markdown",
   "metadata": {},
   "source": [
    "# Train COX"
   ]
  },
  {
   "cell_type": "code",
   "execution_count": 13,
   "metadata": {
    "execution": {
     "iopub.execute_input": "2022-11-18T20:48:43.912539Z",
     "iopub.status.busy": "2022-11-18T20:48:43.912328Z",
     "iopub.status.idle": "2022-11-18T20:48:44.079672Z",
     "shell.execute_reply": "2022-11-18T20:48:44.079354Z",
     "shell.execute_reply.started": "2022-11-18T20:48:43.912525Z"
    },
    "tags": []
   },
   "outputs": [],
   "source": [
    "in_path = pathlib.Path(f\"{experiment_path}/coxph/input\")\n",
    "model_path = f\"{experiment_path}/coxph/models\"\n",
    "\n",
    "out_path = f\"{experiment_path}/coxph/predictions\"\n",
    "pathlib.Path(out_path).mkdir(parents=True, exist_ok=True)"
   ]
  },
  {
   "cell_type": "code",
   "execution_count": 14,
   "metadata": {
    "execution": {
     "iopub.execute_input": "2022-11-18T20:48:44.129876Z",
     "iopub.status.busy": "2022-11-18T20:48:44.129767Z",
     "iopub.status.idle": "2022-11-18T20:48:44.150168Z",
     "shell.execute_reply": "2022-11-18T20:48:44.149919Z",
     "shell.execute_reply.started": "2022-11-18T20:48:44.129862Z"
    },
    "tags": []
   },
   "outputs": [],
   "source": [
    "import pickle\n",
    "import zstandard\n",
    "\n",
    "def load_pickle(fp):\n",
    "    with open(fp, \"rb\") as fh:\n",
    "        dctx = zstandard.ZstdDecompressor()\n",
    "        with dctx.stream_reader(fh) as decompressor:\n",
    "            data = pickle.loads(decompressor.read())\n",
    "    return data"
   ]
  },
  {
   "cell_type": "code",
   "execution_count": 15,
   "metadata": {
    "execution": {
     "iopub.execute_input": "2022-11-18T20:48:44.567401Z",
     "iopub.status.busy": "2022-11-18T20:48:44.567180Z",
     "iopub.status.idle": "2022-11-18T20:48:47.095896Z",
     "shell.execute_reply": "2022-11-18T20:48:47.095333Z",
     "shell.execute_reply.started": "2022-11-18T20:48:44.567375Z"
    },
    "tags": []
   },
   "outputs": [
    {
     "data": {
      "text/html": [
       "<div>\n",
       "<style scoped>\n",
       "    .dataframe tbody tr th:only-of-type {\n",
       "        vertical-align: middle;\n",
       "    }\n",
       "\n",
       "    .dataframe tbody tr th {\n",
       "        vertical-align: top;\n",
       "    }\n",
       "\n",
       "    .dataframe thead th {\n",
       "        text-align: right;\n",
       "    }\n",
       "</style>\n",
       "<table border=\"1\" class=\"dataframe\">\n",
       "  <thead>\n",
       "    <tr style=\"text-align: right;\">\n",
       "      <th></th>\n",
       "      <th>endpoint</th>\n",
       "      <th>score</th>\n",
       "      <th>model</th>\n",
       "      <th>partition</th>\n",
       "      <th>path</th>\n",
       "    </tr>\n",
       "  </thead>\n",
       "  <tbody>\n",
       "    <tr>\n",
       "      <th>0</th>\n",
       "      <td>OMOP_4306655</td>\n",
       "      <td>Age+Sex+Retina</td>\n",
       "      <td>ImageTraining_[]_ConvNeXt_MLPHead_cropratio0.66</td>\n",
       "      <td>0</td>\n",
       "      <td>OMOP_4306655_Age+Sex+Retina_ImageTraining_[]_C...</td>\n",
       "    </tr>\n",
       "    <tr>\n",
       "      <th>1</th>\n",
       "      <td>OMOP_4306655</td>\n",
       "      <td>Age+Sex+Retina</td>\n",
       "      <td>ImageTraining_[]_ConvNeXt_MLPHead_cropratio0.66</td>\n",
       "      <td>1</td>\n",
       "      <td>OMOP_4306655_Age+Sex+Retina_ImageTraining_[]_C...</td>\n",
       "    </tr>\n",
       "    <tr>\n",
       "      <th>2</th>\n",
       "      <td>OMOP_4306655</td>\n",
       "      <td>Age+Sex+Retina</td>\n",
       "      <td>ImageTraining_[]_ConvNeXt_MLPHead_cropratio0.66</td>\n",
       "      <td>2</td>\n",
       "      <td>OMOP_4306655_Age+Sex+Retina_ImageTraining_[]_C...</td>\n",
       "    </tr>\n",
       "    <tr>\n",
       "      <th>3</th>\n",
       "      <td>OMOP_4306655</td>\n",
       "      <td>Age+Sex+Retina</td>\n",
       "      <td>ImageTraining_[]_ConvNeXt_MLPHead_cropratio0.66</td>\n",
       "      <td>3</td>\n",
       "      <td>OMOP_4306655_Age+Sex+Retina_ImageTraining_[]_C...</td>\n",
       "    </tr>\n",
       "    <tr>\n",
       "      <th>4</th>\n",
       "      <td>OMOP_4306655</td>\n",
       "      <td>Age+Sex+Retina</td>\n",
       "      <td>ImageTraining_[]_ConvNeXt_MLPHead_cropratio0.66</td>\n",
       "      <td>4</td>\n",
       "      <td>OMOP_4306655_Age+Sex+Retina_ImageTraining_[]_C...</td>\n",
       "    </tr>\n",
       "    <tr>\n",
       "      <th>...</th>\n",
       "      <td>...</td>\n",
       "      <td>...</td>\n",
       "      <td>...</td>\n",
       "      <td>...</td>\n",
       "      <td>...</td>\n",
       "    </tr>\n",
       "    <tr>\n",
       "      <th>51519</th>\n",
       "      <td>phecode_979</td>\n",
       "      <td>Retina</td>\n",
       "      <td>ImageTraining_[]_ConvNeXt_MLPHead_cropratio0.66</td>\n",
       "      <td>17</td>\n",
       "      <td>phecode_979_Retina_ImageTraining_[]_ConvNeXt_M...</td>\n",
       "    </tr>\n",
       "    <tr>\n",
       "      <th>51520</th>\n",
       "      <td>phecode_979</td>\n",
       "      <td>Retina</td>\n",
       "      <td>ImageTraining_[]_ConvNeXt_MLPHead_cropratio0.66</td>\n",
       "      <td>18</td>\n",
       "      <td>phecode_979_Retina_ImageTraining_[]_ConvNeXt_M...</td>\n",
       "    </tr>\n",
       "    <tr>\n",
       "      <th>51521</th>\n",
       "      <td>phecode_979</td>\n",
       "      <td>Retina</td>\n",
       "      <td>ImageTraining_[]_ConvNeXt_MLPHead_cropratio0.66</td>\n",
       "      <td>19</td>\n",
       "      <td>phecode_979_Retina_ImageTraining_[]_ConvNeXt_M...</td>\n",
       "    </tr>\n",
       "    <tr>\n",
       "      <th>51522</th>\n",
       "      <td>phecode_979</td>\n",
       "      <td>Retina</td>\n",
       "      <td>ImageTraining_[]_ConvNeXt_MLPHead_cropratio0.66</td>\n",
       "      <td>20</td>\n",
       "      <td>phecode_979_Retina_ImageTraining_[]_ConvNeXt_M...</td>\n",
       "    </tr>\n",
       "    <tr>\n",
       "      <th>51523</th>\n",
       "      <td>phecode_979</td>\n",
       "      <td>Retina</td>\n",
       "      <td>ImageTraining_[]_ConvNeXt_MLPHead_cropratio0.66</td>\n",
       "      <td>21</td>\n",
       "      <td>phecode_979_Retina_ImageTraining_[]_ConvNeXt_M...</td>\n",
       "    </tr>\n",
       "  </tbody>\n",
       "</table>\n",
       "<p>51524 rows × 5 columns</p>\n",
       "</div>"
      ],
      "text/plain": [
       "           endpoint           score  \\\n",
       "0      OMOP_4306655  Age+Sex+Retina   \n",
       "1      OMOP_4306655  Age+Sex+Retina   \n",
       "2      OMOP_4306655  Age+Sex+Retina   \n",
       "3      OMOP_4306655  Age+Sex+Retina   \n",
       "4      OMOP_4306655  Age+Sex+Retina   \n",
       "...             ...             ...   \n",
       "51519   phecode_979          Retina   \n",
       "51520   phecode_979          Retina   \n",
       "51521   phecode_979          Retina   \n",
       "51522   phecode_979          Retina   \n",
       "51523   phecode_979          Retina   \n",
       "\n",
       "                                                 model  partition  \\\n",
       "0      ImageTraining_[]_ConvNeXt_MLPHead_cropratio0.66          0   \n",
       "1      ImageTraining_[]_ConvNeXt_MLPHead_cropratio0.66          1   \n",
       "2      ImageTraining_[]_ConvNeXt_MLPHead_cropratio0.66          2   \n",
       "3      ImageTraining_[]_ConvNeXt_MLPHead_cropratio0.66          3   \n",
       "4      ImageTraining_[]_ConvNeXt_MLPHead_cropratio0.66          4   \n",
       "...                                                ...        ...   \n",
       "51519  ImageTraining_[]_ConvNeXt_MLPHead_cropratio0.66         17   \n",
       "51520  ImageTraining_[]_ConvNeXt_MLPHead_cropratio0.66         18   \n",
       "51521  ImageTraining_[]_ConvNeXt_MLPHead_cropratio0.66         19   \n",
       "51522  ImageTraining_[]_ConvNeXt_MLPHead_cropratio0.66         20   \n",
       "51523  ImageTraining_[]_ConvNeXt_MLPHead_cropratio0.66         21   \n",
       "\n",
       "                                                    path  \n",
       "0      OMOP_4306655_Age+Sex+Retina_ImageTraining_[]_C...  \n",
       "1      OMOP_4306655_Age+Sex+Retina_ImageTraining_[]_C...  \n",
       "2      OMOP_4306655_Age+Sex+Retina_ImageTraining_[]_C...  \n",
       "3      OMOP_4306655_Age+Sex+Retina_ImageTraining_[]_C...  \n",
       "4      OMOP_4306655_Age+Sex+Retina_ImageTraining_[]_C...  \n",
       "...                                                  ...  \n",
       "51519  phecode_979_Retina_ImageTraining_[]_ConvNeXt_M...  \n",
       "51520  phecode_979_Retina_ImageTraining_[]_ConvNeXt_M...  \n",
       "51521  phecode_979_Retina_ImageTraining_[]_ConvNeXt_M...  \n",
       "51522  phecode_979_Retina_ImageTraining_[]_ConvNeXt_M...  \n",
       "51523  phecode_979_Retina_ImageTraining_[]_ConvNeXt_M...  \n",
       "\n",
       "[51524 rows x 5 columns]"
      ]
     },
     "execution_count": 15,
     "metadata": {},
     "output_type": "execute_result"
    }
   ],
   "source": [
    "cox_paths = !ls $model_path\n",
    "cox_paths = [p for p in cox_paths if \"_Retina\" in p or \"+Retina\" in p or \"I(\" in p]\n",
    "cox = pd.Series(cox_paths).str.split(\"_\", expand=True)\\\n",
    "    .assign(path = cox_paths)\\\n",
    "    .assign(endpoint = lambda x: x[0]+\"_\"+x[1])\\\n",
    "    .assign(score = lambda x: x[2])\\\n",
    "    .assign(model = lambda x: x[3]+\"_\"+x[4]+\"_\"+x[5]+\"_\"+x[6]+\"_\"+x[8])\\\n",
    "    .assign(partition = lambda x: x[9].str.replace(\".p\", \"\", regex=True).astype(int))\\\n",
    "    [[\"endpoint\", \"score\", \"model\", \"partition\", \"path\"]].sort_values([\"endpoint\", \"score\", \"partition\"])\\\n",
    "    .query(\"endpoint ==@ endpoints\")\\\n",
    "    .reset_index(drop=True)\n",
    "cox"
   ]
  },
  {
   "cell_type": "raw",
   "metadata": {
    "execution": {
     "iopub.execute_input": "2022-04-21T12:03:31.795593Z",
     "iopub.status.busy": "2022-04-21T12:03:31.795400Z",
     "iopub.status.idle": "2022-04-21T12:03:31.801297Z",
     "shell.execute_reply": "2022-04-21T12:03:31.800939Z",
     "shell.execute_reply.started": "2022-04-21T12:03:31.795581Z"
    },
    "tags": []
   },
   "source": [
    "cox = cox.query(\"endpoint == 'phecode_101-8'\")#&score=='Age+Sex+MedicalHistory+I(Age*MH)'\")"
   ]
  },
  {
   "cell_type": "code",
   "execution_count": 16,
   "metadata": {
    "execution": {
     "iopub.execute_input": "2022-11-18T20:48:47.097203Z",
     "iopub.status.busy": "2022-11-18T20:48:47.097073Z",
     "iopub.status.idle": "2022-11-18T20:48:47.107325Z",
     "shell.execute_reply": "2022-11-18T20:48:47.106920Z",
     "shell.execute_reply.started": "2022-11-18T20:48:47.097187Z"
    },
    "tags": []
   },
   "outputs": [],
   "source": [
    "#endpoints = sorted(cox.endpoint.unique().tolist())\n",
    "scores = sorted(cox.score.unique().tolist())\n",
    "partitions = sorted(cox.partition.unique().tolist())"
   ]
  },
  {
   "cell_type": "code",
   "execution_count": 17,
   "metadata": {
    "execution": {
     "iopub.execute_input": "2022-11-18T20:48:47.108110Z",
     "iopub.status.busy": "2022-11-18T20:48:47.108002Z",
     "iopub.status.idle": "2022-11-18T20:48:47.119764Z",
     "shell.execute_reply": "2022-11-18T20:48:47.119421Z",
     "shell.execute_reply.started": "2022-11-18T20:48:47.108094Z"
    },
    "tags": []
   },
   "outputs": [],
   "source": [
    "#import ray\n",
    "\n",
    "@ray.remote\n",
    "def get_cox_info(p):\n",
    "    cph = load_pickle(f\"{model_path}/{p}\")\n",
    "    p_split = p.split(\"_\")\n",
    "    endpoint = f\"{p_split[0]}_{p_split[1]}\"\n",
    "    score = p_split[2]\n",
    "    model = p_split[3]+\"_\"+p_split[4]+\"_\"+p_split[5]+\"_\"+p_split[6]+\"_\"+p_split[8]\n",
    "    partition = p_split[9].replace(\".p\", \"\")\n",
    "    hrs = cph.hazard_ratios_.to_dict()\n",
    "    \n",
    "    if score==\"Age+Sex+MedicalHistory+I(Age*MH)\":\n",
    "        hr_ret = hrs[endpoint.replace(\"-\", \"\")]\n",
    "        \n",
    "        key_int_age = [k for k in hrs if \"age_at_recruitment_f21022_0_0\" in k and endpoint.replace(\"-\", \"\") in k][0]\n",
    "        hr_ret_age = hrs[key_int_age]\n",
    "        \n",
    "        try:\n",
    "            key_int_sex = [k for k in hrs if \"sex_f31_0_0\" in k and endpoint.replace(\"-\", \"\") in k][0]\n",
    "            hr_ret_sex = hrs[key_int_sex]\n",
    "        except:\n",
    "            hr_ret_sex = np.nan\n",
    "    else:\n",
    "        hr_ret = hrs[endpoint] \n",
    "        hr_ret_age = np.nan\n",
    "        hr_ret_sex = np.nan\n",
    "        \n",
    "    return {\"endpoint\": endpoint, \n",
    "            \"score\": score, \n",
    "            \"model\": model,\n",
    "            \"partition\": partition, \n",
    "            \"hrs\": hrs, \n",
    "            \"hrs_ret\": hr_ret, \n",
    "            \"hrs_ret_age\": hr_ret_age, \n",
    "            \"hrs_ret_sex\": hr_ret_sex\n",
    "           }"
   ]
  },
  {
   "cell_type": "code",
   "execution_count": 18,
   "metadata": {
    "execution": {
     "iopub.execute_input": "2022-11-18T20:48:47.120714Z",
     "iopub.status.busy": "2022-11-18T20:48:47.120605Z",
     "iopub.status.idle": "2022-11-18T20:48:50.874744Z",
     "shell.execute_reply": "2022-11-18T20:48:50.874159Z",
     "shell.execute_reply.started": "2022-11-18T20:48:47.120700Z"
    },
    "tags": []
   },
   "outputs": [
    {
     "data": {
      "application/vnd.jupyter.widget-view+json": {
       "model_id": "a65efcd891ec4d1288dac48ca2ec60eb",
       "version_major": 2,
       "version_minor": 0
      },
      "text/plain": [
       "  0%|          | 0/51524 [00:00<?, ?it/s]"
      ]
     },
     "metadata": {},
     "output_type": "display_data"
    }
   ],
   "source": [
    "rows = []\n",
    "\n",
    "for p in tqdm(cox.path.tolist()):\n",
    "    rows.append(get_cox_info.remote(p))"
   ]
  },
  {
   "cell_type": "code",
   "execution_count": 19,
   "metadata": {
    "execution": {
     "iopub.execute_input": "2022-11-18T20:48:50.875821Z",
     "iopub.status.busy": "2022-11-18T20:48:50.875692Z",
     "iopub.status.idle": "2022-11-18T20:54:14.268945Z",
     "shell.execute_reply": "2022-11-18T20:54:14.268502Z",
     "shell.execute_reply.started": "2022-11-18T20:48:50.875804Z"
    },
    "tags": []
   },
   "outputs": [
    {
     "data": {
      "application/vnd.jupyter.widget-view+json": {
       "model_id": "99bdc69607194251a2cc201f116c0ef9",
       "version_major": 2,
       "version_minor": 0
      },
      "text/plain": [
       "  0%|          | 0/51524 [00:00<?, ?it/s]"
      ]
     },
     "metadata": {},
     "output_type": "display_data"
    },
    {
     "name": "stderr",
     "output_type": "stream",
     "text": [
      "\u001b[2m\u001b[33m(raylet)\u001b[0m [2022-11-18 21:50:00,583 E 2509968 2509968] (raylet) worker_pool.cc:502: Some workers of the worker process(2510339) have not registered within the timeout. The process is still alive, probably it's hanging during start.\n",
      "\u001b[2m\u001b[33m(raylet)\u001b[0m [2022-11-18 21:50:00,586 E 2509968 2509968] (raylet) worker_pool.cc:502: Some workers of the worker process(2510341) have not registered within the timeout. The process is still alive, probably it's hanging during start.\n",
      "\u001b[2m\u001b[33m(raylet)\u001b[0m [2022-11-18 21:50:00,588 E 2509968 2509968] (raylet) worker_pool.cc:502: Some workers of the worker process(2510342) have not registered within the timeout. The process is still alive, probably it's hanging during start.\n",
      "\u001b[2m\u001b[33m(raylet)\u001b[0m [2022-11-18 21:50:00,591 E 2509968 2509968] (raylet) worker_pool.cc:502: Some workers of the worker process(2510345) have not registered within the timeout. The process is still alive, probably it's hanging during start.\n",
      "\u001b[2m\u001b[33m(raylet)\u001b[0m [2022-11-18 21:50:00,594 E 2509968 2509968] (raylet) worker_pool.cc:502: Some workers of the worker process(2510363) have not registered within the timeout. The process is still alive, probably it's hanging during start.\n",
      "\u001b[2m\u001b[33m(raylet)\u001b[0m [2022-11-18 21:50:00,597 E 2509968 2509968] (raylet) worker_pool.cc:502: Some workers of the worker process(2510372) have not registered within the timeout. The process is still alive, probably it's hanging during start.\n",
      "\u001b[2m\u001b[33m(raylet)\u001b[0m [2022-11-18 21:50:00,599 E 2509968 2509968] (raylet) worker_pool.cc:502: Some workers of the worker process(2510374) have not registered within the timeout. The process is still alive, probably it's hanging during start.\n",
      "\u001b[2m\u001b[33m(raylet)\u001b[0m [2022-11-18 21:50:00,602 E 2509968 2509968] (raylet) worker_pool.cc:502: Some workers of the worker process(2510375) have not registered within the timeout. The process is still alive, probably it's hanging during start.\n",
      "\u001b[2m\u001b[33m(raylet)\u001b[0m [2022-11-18 21:50:00,605 E 2509968 2509968] (raylet) worker_pool.cc:502: Some workers of the worker process(2510376) have not registered within the timeout. The process is still alive, probably it's hanging during start.\n",
      "\u001b[2m\u001b[33m(raylet)\u001b[0m [2022-11-18 21:50:00,608 E 2509968 2509968] (raylet) worker_pool.cc:502: Some workers of the worker process(2510378) have not registered within the timeout. The process is still alive, probably it's hanging during start.\n",
      "\u001b[2m\u001b[33m(raylet)\u001b[0m [2022-11-18 21:50:00,611 E 2509968 2509968] (raylet) worker_pool.cc:502: Some workers of the worker process(2510384) have not registered within the timeout. The process is still alive, probably it's hanging during start.\n",
      "\u001b[2m\u001b[33m(raylet)\u001b[0m [2022-11-18 21:50:00,615 E 2509968 2509968] (raylet) worker_pool.cc:502: Some workers of the worker process(2510388) have not registered within the timeout. The process is still alive, probably it's hanging during start.\n",
      "\u001b[2m\u001b[33m(raylet)\u001b[0m [2022-11-18 21:50:00,619 E 2509968 2509968] (raylet) worker_pool.cc:502: Some workers of the worker process(2510397) have not registered within the timeout. The process is still alive, probably it's hanging during start.\n",
      "\u001b[2m\u001b[33m(raylet)\u001b[0m [2022-11-18 21:50:00,623 E 2509968 2509968] (raylet) worker_pool.cc:502: Some workers of the worker process(2510404) have not registered within the timeout. The process is still alive, probably it's hanging during start.\n",
      "\u001b[2m\u001b[33m(raylet)\u001b[0m [2022-11-18 21:50:00,626 E 2509968 2509968] (raylet) worker_pool.cc:502: Some workers of the worker process(2510406) have not registered within the timeout. The process is still alive, probably it's hanging during start.\n",
      "\u001b[2m\u001b[33m(raylet)\u001b[0m [2022-11-18 21:50:00,629 E 2509968 2509968] (raylet) worker_pool.cc:502: Some workers of the worker process(2510407) have not registered within the timeout. The process is still alive, probably it's hanging during start.\n",
      "\u001b[2m\u001b[33m(raylet)\u001b[0m [2022-11-18 21:50:00,633 E 2509968 2509968] (raylet) worker_pool.cc:502: Some workers of the worker process(2510408) have not registered within the timeout. The process is still alive, probably it's hanging during start.\n",
      "\u001b[2m\u001b[33m(raylet)\u001b[0m [2022-11-18 21:50:00,636 E 2509968 2509968] (raylet) worker_pool.cc:502: Some workers of the worker process(2510409) have not registered within the timeout. The process is still alive, probably it's hanging during start.\n",
      "\u001b[2m\u001b[33m(raylet)\u001b[0m [2022-11-18 21:50:00,639 E 2509968 2509968] (raylet) worker_pool.cc:502: Some workers of the worker process(2510410) have not registered within the timeout. The process is still alive, probably it's hanging during start.\n",
      "\u001b[2m\u001b[33m(raylet)\u001b[0m [2022-11-18 21:50:00,643 E 2509968 2509968] (raylet) worker_pool.cc:502: Some workers of the worker process(2510412) have not registered within the timeout. The process is still alive, probably it's hanging during start.\n",
      "\u001b[2m\u001b[33m(raylet)\u001b[0m [2022-11-18 21:50:00,647 E 2509968 2509968] (raylet) worker_pool.cc:502: Some workers of the worker process(2510413) have not registered within the timeout. The process is still alive, probably it's hanging during start.\n",
      "\u001b[2m\u001b[33m(raylet)\u001b[0m [2022-11-18 21:50:00,652 E 2509968 2509968] (raylet) worker_pool.cc:502: Some workers of the worker process(2510416) have not registered within the timeout. The process is still alive, probably it's hanging during start.\n",
      "\u001b[2m\u001b[33m(raylet)\u001b[0m [2022-11-18 21:50:00,656 E 2509968 2509968] (raylet) worker_pool.cc:502: Some workers of the worker process(2510426) have not registered within the timeout. The process is still alive, probably it's hanging during start.\n",
      "\u001b[2m\u001b[33m(raylet)\u001b[0m [2022-11-18 21:50:00,661 E 2509968 2509968] (raylet) worker_pool.cc:502: Some workers of the worker process(2510427) have not registered within the timeout. The process is still alive, probably it's hanging during start.\n",
      "\u001b[2m\u001b[33m(raylet)\u001b[0m [2022-11-18 21:50:00,664 E 2509968 2509968] (raylet) worker_pool.cc:502: Some workers of the worker process(2510430) have not registered within the timeout. The process is still alive, probably it's hanging during start.\n",
      "\u001b[2m\u001b[33m(raylet)\u001b[0m [2022-11-18 21:50:00,669 E 2509968 2509968] (raylet) worker_pool.cc:502: Some workers of the worker process(2510438) have not registered within the timeout. The process is still alive, probably it's hanging during start.\n",
      "\u001b[2m\u001b[33m(raylet)\u001b[0m [2022-11-18 21:50:00,673 E 2509968 2509968] (raylet) worker_pool.cc:502: Some workers of the worker process(2510439) have not registered within the timeout. The process is still alive, probably it's hanging during start.\n",
      "\u001b[2m\u001b[33m(raylet)\u001b[0m [2022-11-18 21:50:00,677 E 2509968 2509968] (raylet) worker_pool.cc:502: Some workers of the worker process(2510440) have not registered within the timeout. The process is still alive, probably it's hanging during start.\n",
      "\u001b[2m\u001b[33m(raylet)\u001b[0m [2022-11-18 21:50:00,681 E 2509968 2509968] (raylet) worker_pool.cc:502: Some workers of the worker process(2510442) have not registered within the timeout. The process is still alive, probably it's hanging during start.\n",
      "\u001b[2m\u001b[33m(raylet)\u001b[0m [2022-11-18 21:50:00,685 E 2509968 2509968] (raylet) worker_pool.cc:502: Some workers of the worker process(2510443) have not registered within the timeout. The process is still alive, probably it's hanging during start.\n",
      "\u001b[2m\u001b[33m(raylet)\u001b[0m [2022-11-18 21:50:00,689 E 2509968 2509968] (raylet) worker_pool.cc:502: Some workers of the worker process(2510444) have not registered within the timeout. The process is still alive, probably it's hanging during start.\n",
      "\u001b[2m\u001b[33m(raylet)\u001b[0m [2022-11-18 21:50:00,695 E 2509968 2509968] (raylet) worker_pool.cc:502: Some workers of the worker process(2510445) have not registered within the timeout. The process is still alive, probably it's hanging during start.\n",
      "\u001b[2m\u001b[33m(raylet)\u001b[0m [2022-11-18 21:50:00,700 E 2509968 2509968] (raylet) worker_pool.cc:502: Some workers of the worker process(2510446) have not registered within the timeout. The process is still alive, probably it's hanging during start.\n",
      "\u001b[2m\u001b[33m(raylet)\u001b[0m [2022-11-18 21:50:00,705 E 2509968 2509968] (raylet) worker_pool.cc:502: Some workers of the worker process(2510447) have not registered within the timeout. The process is still alive, probably it's hanging during start.\n",
      "\u001b[2m\u001b[33m(raylet)\u001b[0m [2022-11-18 21:50:00,709 E 2509968 2509968] (raylet) worker_pool.cc:502: Some workers of the worker process(2510448) have not registered within the timeout. The process is still alive, probably it's hanging during start.\n",
      "\u001b[2m\u001b[33m(raylet)\u001b[0m [2022-11-18 21:50:00,713 E 2509968 2509968] (raylet) worker_pool.cc:502: Some workers of the worker process(2510449) have not registered within the timeout. The process is still alive, probably it's hanging during start.\n",
      "\u001b[2m\u001b[33m(raylet)\u001b[0m [2022-11-18 21:50:00,718 E 2509968 2509968] (raylet) worker_pool.cc:502: Some workers of the worker process(2510450) have not registered within the timeout. The process is still alive, probably it's hanging during start.\n",
      "\u001b[2m\u001b[33m(raylet)\u001b[0m [2022-11-18 21:50:00,722 E 2509968 2509968] (raylet) worker_pool.cc:502: Some workers of the worker process(2510451) have not registered within the timeout. The process is still alive, probably it's hanging during start.\n",
      "\u001b[2m\u001b[33m(raylet)\u001b[0m [2022-11-18 21:50:00,727 E 2509968 2509968] (raylet) worker_pool.cc:502: Some workers of the worker process(2510452) have not registered within the timeout. The process is still alive, probably it's hanging during start.\n",
      "\u001b[2m\u001b[33m(raylet)\u001b[0m [2022-11-18 21:50:00,730 E 2509968 2509968] (raylet) worker_pool.cc:502: Some workers of the worker process(2510453) have not registered within the timeout. The process is still alive, probably it's hanging during start.\n",
      "\u001b[2m\u001b[33m(raylet)\u001b[0m [2022-11-18 21:50:00,734 E 2509968 2509968] (raylet) worker_pool.cc:502: Some workers of the worker process(2510454) have not registered within the timeout. The process is still alive, probably it's hanging during start.\n",
      "\u001b[2m\u001b[33m(raylet)\u001b[0m [2022-11-18 21:50:00,739 E 2509968 2509968] (raylet) worker_pool.cc:502: Some workers of the worker process(2510455) have not registered within the timeout. The process is still alive, probably it's hanging during start.\n",
      "\u001b[2m\u001b[33m(raylet)\u001b[0m [2022-11-18 21:50:00,743 E 2509968 2509968] (raylet) worker_pool.cc:502: Some workers of the worker process(2510456) have not registered within the timeout. The process is still alive, probably it's hanging during start.\n",
      "\u001b[2m\u001b[33m(raylet)\u001b[0m [2022-11-18 21:50:00,747 E 2509968 2509968] (raylet) worker_pool.cc:502: Some workers of the worker process(2510457) have not registered within the timeout. The process is still alive, probably it's hanging during start.\n",
      "\u001b[2m\u001b[33m(raylet)\u001b[0m [2022-11-18 21:50:00,751 E 2509968 2509968] (raylet) worker_pool.cc:502: Some workers of the worker process(2510458) have not registered within the timeout. The process is still alive, probably it's hanging during start.\n",
      "\u001b[2m\u001b[33m(raylet)\u001b[0m [2022-11-18 21:50:00,843 E 2509968 2509968] (raylet) worker_pool.cc:502: Some workers of the worker process(2510467) have not registered within the timeout. The process is still alive, probably it's hanging during start.\n",
      "\u001b[2m\u001b[33m(raylet)\u001b[0m [2022-11-18 21:50:00,843 E 2509968 2509968] (raylet) worker_pool.cc:502: Some workers of the worker process(2510471) have not registered within the timeout. The process is still alive, probably it's hanging during start.\n",
      "\u001b[2m\u001b[33m(raylet)\u001b[0m [2022-11-18 21:50:00,843 E 2509968 2509968] (raylet) worker_pool.cc:502: Some workers of the worker process(2510472) have not registered within the timeout. The process is still alive, probably it's hanging during start.\n",
      "\u001b[2m\u001b[33m(raylet)\u001b[0m [2022-11-18 21:50:00,843 E 2509968 2509968] (raylet) worker_pool.cc:502: Some workers of the worker process(2510473) have not registered within the timeout. The process is still alive, probably it's hanging during start.\n",
      "\u001b[2m\u001b[33m(raylet)\u001b[0m [2022-11-18 21:50:00,843 E 2509968 2509968] (raylet) worker_pool.cc:502: Some workers of the worker process(2510474) have not registered within the timeout. The process is still alive, probably it's hanging during start.\n",
      "\u001b[2m\u001b[33m(raylet)\u001b[0m [2022-11-18 21:50:00,843 E 2509968 2509968] (raylet) worker_pool.cc:502: Some workers of the worker process(2510475) have not registered within the timeout. The process is still alive, probably it's hanging during start.\n",
      "\u001b[2m\u001b[33m(raylet)\u001b[0m [2022-11-18 21:50:00,843 E 2509968 2509968] (raylet) worker_pool.cc:502: Some workers of the worker process(2510476) have not registered within the timeout. The process is still alive, probably it's hanging during start.\n",
      "\u001b[2m\u001b[33m(raylet)\u001b[0m [2022-11-18 21:50:00,846 E 2509968 2509968] (raylet) worker_pool.cc:502: Some workers of the worker process(2510477) have not registered within the timeout. The process is still alive, probably it's hanging during start.\n",
      "\u001b[2m\u001b[33m(raylet)\u001b[0m [2022-11-18 21:50:00,849 E 2509968 2509968] (raylet) worker_pool.cc:502: Some workers of the worker process(2510478) have not registered within the timeout. The process is still alive, probably it's hanging during start.\n",
      "\u001b[2m\u001b[33m(raylet)\u001b[0m [2022-11-18 21:50:00,852 E 2509968 2509968] (raylet) worker_pool.cc:502: Some workers of the worker process(2510482) have not registered within the timeout. The process is still alive, probably it's hanging during start.\n",
      "\u001b[2m\u001b[33m(raylet)\u001b[0m [2022-11-18 21:50:00,855 E 2509968 2509968] (raylet) worker_pool.cc:502: Some workers of the worker process(2510483) have not registered within the timeout. The process is still alive, probably it's hanging during start.\n",
      "\u001b[2m\u001b[33m(raylet)\u001b[0m [2022-11-18 21:50:00,857 E 2509968 2509968] (raylet) worker_pool.cc:502: Some workers of the worker process(2510484) have not registered within the timeout. The process is still alive, probably it's hanging during start.\n",
      "\u001b[2m\u001b[33m(raylet)\u001b[0m [2022-11-18 21:50:00,861 E 2509968 2509968] (raylet) worker_pool.cc:502: Some workers of the worker process(2510485) have not registered within the timeout. The process is still alive, probably it's hanging during start.\n",
      "\u001b[2m\u001b[33m(raylet)\u001b[0m [2022-11-18 21:50:00,865 E 2509968 2509968] (raylet) worker_pool.cc:502: Some workers of the worker process(2510486) have not registered within the timeout. The process is still alive, probably it's hanging during start.\n",
      "\u001b[2m\u001b[33m(raylet)\u001b[0m [2022-11-18 21:50:00,869 E 2509968 2509968] (raylet) worker_pool.cc:502: Some workers of the worker process(2510495) have not registered within the timeout. The process is still alive, probably it's hanging during start.\n",
      "\u001b[2m\u001b[33m(raylet)\u001b[0m [2022-11-18 21:51:47,148 E 2509968 2509968] (raylet) worker_pool.cc:502: Some workers of the worker process(2511437) have not registered within the timeout. The process is still alive, probably it's hanging during start.\n",
      "\u001b[2m\u001b[33m(raylet)\u001b[0m [2022-11-18 21:51:47,151 E 2509968 2509968] (raylet) worker_pool.cc:502: Some workers of the worker process(2511451) have not registered within the timeout. The process is still alive, probably it's hanging during start.\n",
      "\u001b[2m\u001b[33m(raylet)\u001b[0m [2022-11-18 21:51:47,153 E 2509968 2509968] (raylet) worker_pool.cc:502: Some workers of the worker process(2511456) have not registered within the timeout. The process is still alive, probably it's hanging during start.\n",
      "\u001b[2m\u001b[33m(raylet)\u001b[0m [2022-11-18 21:51:47,155 E 2509968 2509968] (raylet) worker_pool.cc:502: Some workers of the worker process(2511457) have not registered within the timeout. The process is still alive, probably it's hanging during start.\n",
      "\u001b[2m\u001b[33m(raylet)\u001b[0m [2022-11-18 21:51:47,158 E 2509968 2509968] (raylet) worker_pool.cc:502: Some workers of the worker process(2511458) have not registered within the timeout. The process is still alive, probably it's hanging during start.\n",
      "\u001b[2m\u001b[33m(raylet)\u001b[0m [2022-11-18 21:51:47,160 E 2509968 2509968] (raylet) worker_pool.cc:502: Some workers of the worker process(2511459) have not registered within the timeout. The process is still alive, probably it's hanging during start.\n",
      "\u001b[2m\u001b[33m(raylet)\u001b[0m [2022-11-18 21:51:47,165 E 2509968 2509968] (raylet) worker_pool.cc:502: Some workers of the worker process(2511460) have not registered within the timeout. The process is still alive, probably it's hanging during start.\n",
      "\u001b[2m\u001b[33m(raylet)\u001b[0m [2022-11-18 21:51:47,167 E 2509968 2509968] (raylet) worker_pool.cc:502: Some workers of the worker process(2511463) have not registered within the timeout. The process is still alive, probably it's hanging during start.\n",
      "\u001b[2m\u001b[33m(raylet)\u001b[0m [2022-11-18 21:51:47,177 E 2509968 2509968] (raylet) worker_pool.cc:502: Some workers of the worker process(2511471) have not registered within the timeout. The process is still alive, probably it's hanging during start.\n",
      "\u001b[2m\u001b[33m(raylet)\u001b[0m [2022-11-18 21:51:47,180 E 2509968 2509968] (raylet) worker_pool.cc:502: Some workers of the worker process(2511472) have not registered within the timeout. The process is still alive, probably it's hanging during start.\n",
      "\u001b[2m\u001b[33m(raylet)\u001b[0m [2022-11-18 21:51:47,182 E 2509968 2509968] (raylet) worker_pool.cc:502: Some workers of the worker process(2511473) have not registered within the timeout. The process is still alive, probably it's hanging during start.\n",
      "\u001b[2m\u001b[33m(raylet)\u001b[0m [2022-11-18 21:51:47,185 E 2509968 2509968] (raylet) worker_pool.cc:502: Some workers of the worker process(2511474) have not registered within the timeout. The process is still alive, probably it's hanging during start.\n",
      "\u001b[2m\u001b[33m(raylet)\u001b[0m [2022-11-18 21:51:47,211 E 2509968 2509968] (raylet) worker_pool.cc:502: Some workers of the worker process(2511595) have not registered within the timeout. The process is still alive, probably it's hanging during start.\n",
      "\u001b[2m\u001b[33m(raylet)\u001b[0m [2022-11-18 21:51:47,256 E 2509968 2509968] (raylet) worker_pool.cc:502: Some workers of the worker process(2511660) have not registered within the timeout. The process is still alive, probably it's hanging during start.\n",
      "\u001b[2m\u001b[33m(raylet)\u001b[0m [2022-11-18 21:51:47,262 E 2509968 2509968] (raylet) worker_pool.cc:502: Some workers of the worker process(2511663) have not registered within the timeout. The process is still alive, probably it's hanging during start.\n",
      "\u001b[2m\u001b[33m(raylet)\u001b[0m [2022-11-18 21:51:47,266 E 2509968 2509968] (raylet) worker_pool.cc:502: Some workers of the worker process(2511664) have not registered within the timeout. The process is still alive, probably it's hanging during start.\n",
      "\u001b[2m\u001b[33m(raylet)\u001b[0m [2022-11-18 21:51:47,300 E 2509968 2509968] (raylet) worker_pool.cc:502: Some workers of the worker process(2511713) have not registered within the timeout. The process is still alive, probably it's hanging during start.\n",
      "\u001b[2m\u001b[33m(raylet)\u001b[0m [2022-11-18 21:51:47,414 E 2509968 2509968] (raylet) worker_pool.cc:502: Some workers of the worker process(2511732) have not registered within the timeout. The process is still alive, probably it's hanging during start.\n"
     ]
    }
   ],
   "source": [
    "rows = [ray.get(r) for r in tqdm(rows)]"
   ]
  },
  {
   "cell_type": "code",
   "execution_count": 20,
   "metadata": {
    "execution": {
     "iopub.execute_input": "2022-11-18T20:54:14.270492Z",
     "iopub.status.busy": "2022-11-18T20:54:14.269963Z",
     "iopub.status.idle": "2022-11-18T20:54:14.275328Z",
     "shell.execute_reply": "2022-11-18T20:54:14.274986Z",
     "shell.execute_reply.started": "2022-11-18T20:54:14.270471Z"
    },
    "tags": []
   },
   "outputs": [
    {
     "data": {
      "text/plain": [
       "{'endpoint': 'OMOP_4306655',\n",
       " 'score': 'Age+Sex+Retina',\n",
       " 'model': 'ImageTraining_[]_ConvNeXt_MLPHead_cropratio0.66',\n",
       " 'partition': '10',\n",
       " 'hrs': {'age': 1.1832623910227895,\n",
       "  'sex_Male': 1.2578132317215376,\n",
       "  'OMOP_4306655': 3.525375107297933},\n",
       " 'hrs_ret': 3.525375107297933,\n",
       " 'hrs_ret_age': nan,\n",
       " 'hrs_ret_sex': nan}"
      ]
     },
     "execution_count": 20,
     "metadata": {},
     "output_type": "execute_result"
    }
   ],
   "source": [
    "rows[10]"
   ]
  },
  {
   "cell_type": "code",
   "execution_count": 21,
   "metadata": {
    "execution": {
     "iopub.execute_input": "2022-11-18T20:54:14.281854Z",
     "iopub.status.busy": "2022-11-18T20:54:14.281755Z",
     "iopub.status.idle": "2022-11-18T20:54:14.407187Z",
     "shell.execute_reply": "2022-11-18T20:54:14.406599Z",
     "shell.execute_reply.started": "2022-11-18T20:54:14.281834Z"
    },
    "tags": []
   },
   "outputs": [],
   "source": [
    "hrs_endpoints = pd.DataFrame({}).append(rows, ignore_index=True)"
   ]
  },
  {
   "cell_type": "code",
   "execution_count": 22,
   "metadata": {
    "execution": {
     "iopub.execute_input": "2022-11-18T20:54:14.416657Z",
     "iopub.status.busy": "2022-11-18T20:54:14.416553Z",
     "iopub.status.idle": "2022-11-18T20:54:14.430401Z",
     "shell.execute_reply": "2022-11-18T20:54:14.429981Z",
     "shell.execute_reply.started": "2022-11-18T20:54:14.416637Z"
    },
    "tags": []
   },
   "outputs": [
    {
     "data": {
      "text/html": [
       "<div>\n",
       "<style scoped>\n",
       "    .dataframe tbody tr th:only-of-type {\n",
       "        vertical-align: middle;\n",
       "    }\n",
       "\n",
       "    .dataframe tbody tr th {\n",
       "        vertical-align: top;\n",
       "    }\n",
       "\n",
       "    .dataframe thead th {\n",
       "        text-align: right;\n",
       "    }\n",
       "</style>\n",
       "<table border=\"1\" class=\"dataframe\">\n",
       "  <thead>\n",
       "    <tr style=\"text-align: right;\">\n",
       "      <th></th>\n",
       "      <th>endpoint</th>\n",
       "      <th>score</th>\n",
       "      <th>model</th>\n",
       "      <th>partition</th>\n",
       "      <th>hrs</th>\n",
       "      <th>hrs_ret</th>\n",
       "      <th>hrs_ret_age</th>\n",
       "      <th>hrs_ret_sex</th>\n",
       "    </tr>\n",
       "  </thead>\n",
       "  <tbody>\n",
       "    <tr>\n",
       "      <th>0</th>\n",
       "      <td>OMOP_4306655</td>\n",
       "      <td>Age+Sex+Retina</td>\n",
       "      <td>ImageTraining_[]_ConvNeXt_MLPHead_cropratio0.66</td>\n",
       "      <td>0</td>\n",
       "      <td>{'age': 1.1569650058150076, 'sex_Male': 1.2521...</td>\n",
       "      <td>3.067072</td>\n",
       "      <td>NaN</td>\n",
       "      <td>NaN</td>\n",
       "    </tr>\n",
       "    <tr>\n",
       "      <th>1</th>\n",
       "      <td>OMOP_4306655</td>\n",
       "      <td>Age+Sex+Retina</td>\n",
       "      <td>ImageTraining_[]_ConvNeXt_MLPHead_cropratio0.66</td>\n",
       "      <td>1</td>\n",
       "      <td>{'age': 1.1930293430626582, 'sex_Male': 1.2329...</td>\n",
       "      <td>3.343209</td>\n",
       "      <td>NaN</td>\n",
       "      <td>NaN</td>\n",
       "    </tr>\n",
       "    <tr>\n",
       "      <th>2</th>\n",
       "      <td>OMOP_4306655</td>\n",
       "      <td>Age+Sex+Retina</td>\n",
       "      <td>ImageTraining_[]_ConvNeXt_MLPHead_cropratio0.66</td>\n",
       "      <td>2</td>\n",
       "      <td>{'age': 1.1675932654272487, 'sex_Male': 1.2889...</td>\n",
       "      <td>3.046918</td>\n",
       "      <td>NaN</td>\n",
       "      <td>NaN</td>\n",
       "    </tr>\n",
       "    <tr>\n",
       "      <th>3</th>\n",
       "      <td>OMOP_4306655</td>\n",
       "      <td>Age+Sex+Retina</td>\n",
       "      <td>ImageTraining_[]_ConvNeXt_MLPHead_cropratio0.66</td>\n",
       "      <td>3</td>\n",
       "      <td>{'age': 1.1449403577207453, 'sex_Male': 1.2303...</td>\n",
       "      <td>3.465731</td>\n",
       "      <td>NaN</td>\n",
       "      <td>NaN</td>\n",
       "    </tr>\n",
       "    <tr>\n",
       "      <th>4</th>\n",
       "      <td>OMOP_4306655</td>\n",
       "      <td>Age+Sex+Retina</td>\n",
       "      <td>ImageTraining_[]_ConvNeXt_MLPHead_cropratio0.66</td>\n",
       "      <td>4</td>\n",
       "      <td>{'age': 1.2232534874397427, 'sex_Male': 1.2894...</td>\n",
       "      <td>3.204823</td>\n",
       "      <td>NaN</td>\n",
       "      <td>NaN</td>\n",
       "    </tr>\n",
       "    <tr>\n",
       "      <th>...</th>\n",
       "      <td>...</td>\n",
       "      <td>...</td>\n",
       "      <td>...</td>\n",
       "      <td>...</td>\n",
       "      <td>...</td>\n",
       "      <td>...</td>\n",
       "      <td>...</td>\n",
       "      <td>...</td>\n",
       "    </tr>\n",
       "    <tr>\n",
       "      <th>51519</th>\n",
       "      <td>phecode_979</td>\n",
       "      <td>Retina</td>\n",
       "      <td>ImageTraining_[]_ConvNeXt_MLPHead_cropratio0.66</td>\n",
       "      <td>17</td>\n",
       "      <td>{'phecode_979': 2.9028276127399497}</td>\n",
       "      <td>2.902828</td>\n",
       "      <td>NaN</td>\n",
       "      <td>NaN</td>\n",
       "    </tr>\n",
       "    <tr>\n",
       "      <th>51520</th>\n",
       "      <td>phecode_979</td>\n",
       "      <td>Retina</td>\n",
       "      <td>ImageTraining_[]_ConvNeXt_MLPHead_cropratio0.66</td>\n",
       "      <td>18</td>\n",
       "      <td>{'phecode_979': 2.8184150503434156}</td>\n",
       "      <td>2.818415</td>\n",
       "      <td>NaN</td>\n",
       "      <td>NaN</td>\n",
       "    </tr>\n",
       "    <tr>\n",
       "      <th>51521</th>\n",
       "      <td>phecode_979</td>\n",
       "      <td>Retina</td>\n",
       "      <td>ImageTraining_[]_ConvNeXt_MLPHead_cropratio0.66</td>\n",
       "      <td>19</td>\n",
       "      <td>{'phecode_979': 2.8725367312067025}</td>\n",
       "      <td>2.872537</td>\n",
       "      <td>NaN</td>\n",
       "      <td>NaN</td>\n",
       "    </tr>\n",
       "    <tr>\n",
       "      <th>51522</th>\n",
       "      <td>phecode_979</td>\n",
       "      <td>Retina</td>\n",
       "      <td>ImageTraining_[]_ConvNeXt_MLPHead_cropratio0.66</td>\n",
       "      <td>20</td>\n",
       "      <td>{'phecode_979': 3.0356558826419855}</td>\n",
       "      <td>3.035656</td>\n",
       "      <td>NaN</td>\n",
       "      <td>NaN</td>\n",
       "    </tr>\n",
       "    <tr>\n",
       "      <th>51523</th>\n",
       "      <td>phecode_979</td>\n",
       "      <td>Retina</td>\n",
       "      <td>ImageTraining_[]_ConvNeXt_MLPHead_cropratio0.66</td>\n",
       "      <td>21</td>\n",
       "      <td>{'phecode_979': 2.9113816441687623}</td>\n",
       "      <td>2.911382</td>\n",
       "      <td>NaN</td>\n",
       "      <td>NaN</td>\n",
       "    </tr>\n",
       "  </tbody>\n",
       "</table>\n",
       "<p>51524 rows × 8 columns</p>\n",
       "</div>"
      ],
      "text/plain": [
       "           endpoint           score  \\\n",
       "0      OMOP_4306655  Age+Sex+Retina   \n",
       "1      OMOP_4306655  Age+Sex+Retina   \n",
       "2      OMOP_4306655  Age+Sex+Retina   \n",
       "3      OMOP_4306655  Age+Sex+Retina   \n",
       "4      OMOP_4306655  Age+Sex+Retina   \n",
       "...             ...             ...   \n",
       "51519   phecode_979          Retina   \n",
       "51520   phecode_979          Retina   \n",
       "51521   phecode_979          Retina   \n",
       "51522   phecode_979          Retina   \n",
       "51523   phecode_979          Retina   \n",
       "\n",
       "                                                 model partition  \\\n",
       "0      ImageTraining_[]_ConvNeXt_MLPHead_cropratio0.66         0   \n",
       "1      ImageTraining_[]_ConvNeXt_MLPHead_cropratio0.66         1   \n",
       "2      ImageTraining_[]_ConvNeXt_MLPHead_cropratio0.66         2   \n",
       "3      ImageTraining_[]_ConvNeXt_MLPHead_cropratio0.66         3   \n",
       "4      ImageTraining_[]_ConvNeXt_MLPHead_cropratio0.66         4   \n",
       "...                                                ...       ...   \n",
       "51519  ImageTraining_[]_ConvNeXt_MLPHead_cropratio0.66        17   \n",
       "51520  ImageTraining_[]_ConvNeXt_MLPHead_cropratio0.66        18   \n",
       "51521  ImageTraining_[]_ConvNeXt_MLPHead_cropratio0.66        19   \n",
       "51522  ImageTraining_[]_ConvNeXt_MLPHead_cropratio0.66        20   \n",
       "51523  ImageTraining_[]_ConvNeXt_MLPHead_cropratio0.66        21   \n",
       "\n",
       "                                                     hrs   hrs_ret  \\\n",
       "0      {'age': 1.1569650058150076, 'sex_Male': 1.2521...  3.067072   \n",
       "1      {'age': 1.1930293430626582, 'sex_Male': 1.2329...  3.343209   \n",
       "2      {'age': 1.1675932654272487, 'sex_Male': 1.2889...  3.046918   \n",
       "3      {'age': 1.1449403577207453, 'sex_Male': 1.2303...  3.465731   \n",
       "4      {'age': 1.2232534874397427, 'sex_Male': 1.2894...  3.204823   \n",
       "...                                                  ...       ...   \n",
       "51519                {'phecode_979': 2.9028276127399497}  2.902828   \n",
       "51520                {'phecode_979': 2.8184150503434156}  2.818415   \n",
       "51521                {'phecode_979': 2.8725367312067025}  2.872537   \n",
       "51522                {'phecode_979': 3.0356558826419855}  3.035656   \n",
       "51523                {'phecode_979': 2.9113816441687623}  2.911382   \n",
       "\n",
       "       hrs_ret_age  hrs_ret_sex  \n",
       "0              NaN          NaN  \n",
       "1              NaN          NaN  \n",
       "2              NaN          NaN  \n",
       "3              NaN          NaN  \n",
       "4              NaN          NaN  \n",
       "...            ...          ...  \n",
       "51519          NaN          NaN  \n",
       "51520          NaN          NaN  \n",
       "51521          NaN          NaN  \n",
       "51522          NaN          NaN  \n",
       "51523          NaN          NaN  \n",
       "\n",
       "[51524 rows x 8 columns]"
      ]
     },
     "execution_count": 22,
     "metadata": {},
     "output_type": "execute_result"
    }
   ],
   "source": [
    "hrs_endpoints "
   ]
  },
  {
   "cell_type": "code",
   "execution_count": 23,
   "metadata": {
    "execution": {
     "iopub.execute_input": "2022-11-18T20:54:14.431747Z",
     "iopub.status.busy": "2022-11-18T20:54:14.431196Z",
     "iopub.status.idle": "2022-11-18T20:54:16.518594Z",
     "shell.execute_reply": "2022-11-18T20:54:16.517945Z",
     "shell.execute_reply.started": "2022-11-18T20:54:14.431724Z"
    },
    "tags": []
   },
   "outputs": [],
   "source": [
    "name = f\"hrs_endpoints\"\n",
    "hrs_endpoints.to_feather(f\"{experiment_path}/{name}.feather\")"
   ]
  },
  {
   "cell_type": "code",
   "execution_count": 24,
   "metadata": {
    "execution": {
     "iopub.execute_input": "2022-11-18T20:54:16.520077Z",
     "iopub.status.busy": "2022-11-18T20:54:16.519728Z",
     "iopub.status.idle": "2022-11-18T20:54:16.533323Z",
     "shell.execute_reply": "2022-11-18T20:54:16.532861Z",
     "shell.execute_reply.started": "2022-11-18T20:54:16.520056Z"
    },
    "tags": []
   },
   "outputs": [
    {
     "data": {
      "text/html": [
       "<div>\n",
       "<style scoped>\n",
       "    .dataframe tbody tr th:only-of-type {\n",
       "        vertical-align: middle;\n",
       "    }\n",
       "\n",
       "    .dataframe tbody tr th {\n",
       "        vertical-align: top;\n",
       "    }\n",
       "\n",
       "    .dataframe thead th {\n",
       "        text-align: right;\n",
       "    }\n",
       "</style>\n",
       "<table border=\"1\" class=\"dataframe\">\n",
       "  <thead>\n",
       "    <tr style=\"text-align: right;\">\n",
       "      <th></th>\n",
       "      <th>endpoint</th>\n",
       "      <th>score</th>\n",
       "      <th>model</th>\n",
       "      <th>partition</th>\n",
       "      <th>hrs</th>\n",
       "      <th>hrs_ret</th>\n",
       "      <th>hrs_ret_age</th>\n",
       "      <th>hrs_ret_sex</th>\n",
       "    </tr>\n",
       "  </thead>\n",
       "  <tbody>\n",
       "    <tr>\n",
       "      <th>0</th>\n",
       "      <td>OMOP_4306655</td>\n",
       "      <td>Age+Sex+Retina</td>\n",
       "      <td>ImageTraining_[]_ConvNeXt_MLPHead_cropratio0.66</td>\n",
       "      <td>0</td>\n",
       "      <td>{'age': 1.1569650058150076, 'sex_Male': 1.2521...</td>\n",
       "      <td>3.067072</td>\n",
       "      <td>NaN</td>\n",
       "      <td>NaN</td>\n",
       "    </tr>\n",
       "    <tr>\n",
       "      <th>1</th>\n",
       "      <td>OMOP_4306655</td>\n",
       "      <td>Age+Sex+Retina</td>\n",
       "      <td>ImageTraining_[]_ConvNeXt_MLPHead_cropratio0.66</td>\n",
       "      <td>1</td>\n",
       "      <td>{'age': 1.1930293430626582, 'sex_Male': 1.2329...</td>\n",
       "      <td>3.343209</td>\n",
       "      <td>NaN</td>\n",
       "      <td>NaN</td>\n",
       "    </tr>\n",
       "    <tr>\n",
       "      <th>2</th>\n",
       "      <td>OMOP_4306655</td>\n",
       "      <td>Age+Sex+Retina</td>\n",
       "      <td>ImageTraining_[]_ConvNeXt_MLPHead_cropratio0.66</td>\n",
       "      <td>2</td>\n",
       "      <td>{'age': 1.1675932654272487, 'sex_Male': 1.2889...</td>\n",
       "      <td>3.046918</td>\n",
       "      <td>NaN</td>\n",
       "      <td>NaN</td>\n",
       "    </tr>\n",
       "    <tr>\n",
       "      <th>3</th>\n",
       "      <td>OMOP_4306655</td>\n",
       "      <td>Age+Sex+Retina</td>\n",
       "      <td>ImageTraining_[]_ConvNeXt_MLPHead_cropratio0.66</td>\n",
       "      <td>3</td>\n",
       "      <td>{'age': 1.1449403577207453, 'sex_Male': 1.2303...</td>\n",
       "      <td>3.465731</td>\n",
       "      <td>NaN</td>\n",
       "      <td>NaN</td>\n",
       "    </tr>\n",
       "    <tr>\n",
       "      <th>4</th>\n",
       "      <td>OMOP_4306655</td>\n",
       "      <td>Age+Sex+Retina</td>\n",
       "      <td>ImageTraining_[]_ConvNeXt_MLPHead_cropratio0.66</td>\n",
       "      <td>4</td>\n",
       "      <td>{'age': 1.2232534874397427, 'sex_Male': 1.2894...</td>\n",
       "      <td>3.204823</td>\n",
       "      <td>NaN</td>\n",
       "      <td>NaN</td>\n",
       "    </tr>\n",
       "    <tr>\n",
       "      <th>...</th>\n",
       "      <td>...</td>\n",
       "      <td>...</td>\n",
       "      <td>...</td>\n",
       "      <td>...</td>\n",
       "      <td>...</td>\n",
       "      <td>...</td>\n",
       "      <td>...</td>\n",
       "      <td>...</td>\n",
       "    </tr>\n",
       "    <tr>\n",
       "      <th>51519</th>\n",
       "      <td>phecode_979</td>\n",
       "      <td>Retina</td>\n",
       "      <td>ImageTraining_[]_ConvNeXt_MLPHead_cropratio0.66</td>\n",
       "      <td>17</td>\n",
       "      <td>{'phecode_979': 2.9028276127399497}</td>\n",
       "      <td>2.902828</td>\n",
       "      <td>NaN</td>\n",
       "      <td>NaN</td>\n",
       "    </tr>\n",
       "    <tr>\n",
       "      <th>51520</th>\n",
       "      <td>phecode_979</td>\n",
       "      <td>Retina</td>\n",
       "      <td>ImageTraining_[]_ConvNeXt_MLPHead_cropratio0.66</td>\n",
       "      <td>18</td>\n",
       "      <td>{'phecode_979': 2.8184150503434156}</td>\n",
       "      <td>2.818415</td>\n",
       "      <td>NaN</td>\n",
       "      <td>NaN</td>\n",
       "    </tr>\n",
       "    <tr>\n",
       "      <th>51521</th>\n",
       "      <td>phecode_979</td>\n",
       "      <td>Retina</td>\n",
       "      <td>ImageTraining_[]_ConvNeXt_MLPHead_cropratio0.66</td>\n",
       "      <td>19</td>\n",
       "      <td>{'phecode_979': 2.8725367312067025}</td>\n",
       "      <td>2.872537</td>\n",
       "      <td>NaN</td>\n",
       "      <td>NaN</td>\n",
       "    </tr>\n",
       "    <tr>\n",
       "      <th>51522</th>\n",
       "      <td>phecode_979</td>\n",
       "      <td>Retina</td>\n",
       "      <td>ImageTraining_[]_ConvNeXt_MLPHead_cropratio0.66</td>\n",
       "      <td>20</td>\n",
       "      <td>{'phecode_979': 3.0356558826419855}</td>\n",
       "      <td>3.035656</td>\n",
       "      <td>NaN</td>\n",
       "      <td>NaN</td>\n",
       "    </tr>\n",
       "    <tr>\n",
       "      <th>51523</th>\n",
       "      <td>phecode_979</td>\n",
       "      <td>Retina</td>\n",
       "      <td>ImageTraining_[]_ConvNeXt_MLPHead_cropratio0.66</td>\n",
       "      <td>21</td>\n",
       "      <td>{'phecode_979': 2.9113816441687623}</td>\n",
       "      <td>2.911382</td>\n",
       "      <td>NaN</td>\n",
       "      <td>NaN</td>\n",
       "    </tr>\n",
       "  </tbody>\n",
       "</table>\n",
       "<p>51524 rows × 8 columns</p>\n",
       "</div>"
      ],
      "text/plain": [
       "           endpoint           score  \\\n",
       "0      OMOP_4306655  Age+Sex+Retina   \n",
       "1      OMOP_4306655  Age+Sex+Retina   \n",
       "2      OMOP_4306655  Age+Sex+Retina   \n",
       "3      OMOP_4306655  Age+Sex+Retina   \n",
       "4      OMOP_4306655  Age+Sex+Retina   \n",
       "...             ...             ...   \n",
       "51519   phecode_979          Retina   \n",
       "51520   phecode_979          Retina   \n",
       "51521   phecode_979          Retina   \n",
       "51522   phecode_979          Retina   \n",
       "51523   phecode_979          Retina   \n",
       "\n",
       "                                                 model partition  \\\n",
       "0      ImageTraining_[]_ConvNeXt_MLPHead_cropratio0.66         0   \n",
       "1      ImageTraining_[]_ConvNeXt_MLPHead_cropratio0.66         1   \n",
       "2      ImageTraining_[]_ConvNeXt_MLPHead_cropratio0.66         2   \n",
       "3      ImageTraining_[]_ConvNeXt_MLPHead_cropratio0.66         3   \n",
       "4      ImageTraining_[]_ConvNeXt_MLPHead_cropratio0.66         4   \n",
       "...                                                ...       ...   \n",
       "51519  ImageTraining_[]_ConvNeXt_MLPHead_cropratio0.66        17   \n",
       "51520  ImageTraining_[]_ConvNeXt_MLPHead_cropratio0.66        18   \n",
       "51521  ImageTraining_[]_ConvNeXt_MLPHead_cropratio0.66        19   \n",
       "51522  ImageTraining_[]_ConvNeXt_MLPHead_cropratio0.66        20   \n",
       "51523  ImageTraining_[]_ConvNeXt_MLPHead_cropratio0.66        21   \n",
       "\n",
       "                                                     hrs   hrs_ret  \\\n",
       "0      {'age': 1.1569650058150076, 'sex_Male': 1.2521...  3.067072   \n",
       "1      {'age': 1.1930293430626582, 'sex_Male': 1.2329...  3.343209   \n",
       "2      {'age': 1.1675932654272487, 'sex_Male': 1.2889...  3.046918   \n",
       "3      {'age': 1.1449403577207453, 'sex_Male': 1.2303...  3.465731   \n",
       "4      {'age': 1.2232534874397427, 'sex_Male': 1.2894...  3.204823   \n",
       "...                                                  ...       ...   \n",
       "51519                {'phecode_979': 2.9028276127399497}  2.902828   \n",
       "51520                {'phecode_979': 2.8184150503434156}  2.818415   \n",
       "51521                {'phecode_979': 2.8725367312067025}  2.872537   \n",
       "51522                {'phecode_979': 3.0356558826419855}  3.035656   \n",
       "51523                {'phecode_979': 2.9113816441687623}  2.911382   \n",
       "\n",
       "       hrs_ret_age  hrs_ret_sex  \n",
       "0              NaN          NaN  \n",
       "1              NaN          NaN  \n",
       "2              NaN          NaN  \n",
       "3              NaN          NaN  \n",
       "4              NaN          NaN  \n",
       "...            ...          ...  \n",
       "51519          NaN          NaN  \n",
       "51520          NaN          NaN  \n",
       "51521          NaN          NaN  \n",
       "51522          NaN          NaN  \n",
       "51523          NaN          NaN  \n",
       "\n",
       "[51524 rows x 8 columns]"
      ]
     },
     "execution_count": 24,
     "metadata": {},
     "output_type": "execute_result"
    }
   ],
   "source": [
    "hrs_endpoints"
   ]
  },
  {
   "cell_type": "code",
   "execution_count": 25,
   "metadata": {
    "execution": {
     "iopub.execute_input": "2022-11-18T20:54:16.534671Z",
     "iopub.status.busy": "2022-11-18T20:54:16.534234Z",
     "iopub.status.idle": "2022-11-18T20:54:16.576672Z",
     "shell.execute_reply": "2022-11-18T20:54:16.575468Z",
     "shell.execute_reply.started": "2022-11-18T20:54:16.534648Z"
    },
    "tags": []
   },
   "outputs": [
    {
     "ename": "NameError",
     "evalue": "name 'cph' is not defined",
     "output_type": "error",
     "traceback": [
      "\u001b[0;31m---------------------------------------------------------------------------\u001b[0m",
      "\u001b[0;31mNameError\u001b[0m                                 Traceback (most recent call last)",
      "\u001b[0;32m/tmp/ipykernel_2509530/1653210156.py\u001b[0m in \u001b[0;36m<module>\u001b[0;34m\u001b[0m\n\u001b[0;32m----> 1\u001b[0;31m \u001b[0mcph\u001b[0m\u001b[0;34m.\u001b[0m\u001b[0mplot\u001b[0m\u001b[0;34m(\u001b[0m\u001b[0;34m)\u001b[0m\u001b[0;34m\u001b[0m\u001b[0;34m\u001b[0m\u001b[0m\n\u001b[0m",
      "\u001b[0;31mNameError\u001b[0m: name 'cph' is not defined"
     ]
    }
   ],
   "source": [
    "cph.plot()"
   ]
  },
  {
   "cell_type": "code",
   "execution_count": null,
   "metadata": {
    "execution": {
     "iopub.status.busy": "2022-11-18T20:54:16.577583Z",
     "iopub.status.idle": "2022-11-18T20:54:16.577867Z",
     "shell.execute_reply": "2022-11-18T20:54:16.577754Z",
     "shell.execute_reply.started": "2022-11-18T20:54:16.577737Z"
    },
    "tags": []
   },
   "outputs": [],
   "source": [
    "#[[]]"
   ]
  },
  {
   "cell_type": "code",
   "execution_count": null,
   "metadata": {
    "execution": {
     "iopub.status.busy": "2022-11-18T20:54:16.579126Z",
     "iopub.status.idle": "2022-11-18T20:54:16.579337Z",
     "shell.execute_reply": "2022-11-18T20:54:16.579233Z",
     "shell.execute_reply.started": "2022-11-18T20:54:16.579223Z"
    },
    "tags": []
   },
   "outputs": [],
   "source": [
    "cph.print_summary()"
   ]
  },
  {
   "cell_type": "code",
   "execution_count": null,
   "metadata": {},
   "outputs": [],
   "source": []
  }
 ],
 "metadata": {
  "kernelspec": {
   "display_name": "retrisk",
   "language": "python",
   "name": "retrisk"
  },
  "language_info": {
   "codemirror_mode": {
    "name": "ipython",
    "version": 3
   },
   "file_extension": ".py",
   "mimetype": "text/x-python",
   "name": "python",
   "nbconvert_exporter": "python",
   "pygments_lexer": "ipython3",
   "version": "3.9.7"
  },
  "toc-autonumbering": false
 },
 "nbformat": 4,
 "nbformat_minor": 4
}
