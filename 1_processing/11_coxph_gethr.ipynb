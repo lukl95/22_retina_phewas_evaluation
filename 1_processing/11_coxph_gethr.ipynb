{
 "cells": [
  {
   "cell_type": "markdown",
   "metadata": {},
   "source": [
    "# Benchmarks"
   ]
  },
  {
   "cell_type": "markdown",
   "metadata": {},
   "source": [
    "## Initialize"
   ]
  },
  {
   "cell_type": "code",
   "execution_count": 1,
   "metadata": {
    "execution": {
     "iopub.execute_input": "2022-08-26T08:04:09.078364Z",
     "iopub.status.busy": "2022-08-26T08:04:09.078118Z",
     "iopub.status.idle": "2022-08-26T08:04:11.318565Z",
     "shell.execute_reply": "2022-08-26T08:04:11.318026Z",
     "shell.execute_reply.started": "2022-08-26T08:04:09.078315Z"
    },
    "tags": []
   },
   "outputs": [],
   "source": [
    "import os\n",
    "import math\n",
    "import pathlib\n",
    "import numpy as np\n",
    "import pandas as pd\n",
    "from tqdm.auto import tqdm\n",
    "from IPython.display import clear_output\n",
    "\n",
    "import warnings\n",
    "from lifelines.utils import CensoringType\n",
    "from lifelines.utils import concordance_index"
   ]
  },
  {
   "cell_type": "code",
   "execution_count": 2,
   "metadata": {
    "execution": {
     "iopub.execute_input": "2022-08-26T08:04:11.319353Z",
     "iopub.status.busy": "2022-08-26T08:04:11.319251Z",
     "iopub.status.idle": "2022-08-26T08:04:11.346034Z",
     "shell.execute_reply": "2022-08-26T08:04:11.345550Z",
     "shell.execute_reply.started": "2022-08-26T08:04:11.319339Z"
    },
    "tags": []
   },
   "outputs": [
    {
     "name": "stdout",
     "output_type": "stream",
     "text": [
      "/sc-projects/sc-proj-ukb-cvd\n"
     ]
    },
    {
     "data": {
      "text/plain": [
       "[0, 1, 2, 3, 4, 5, 6, 7, 8, 9, 10, 11, 12, 13, 14, 15, 16, 17, 18, 19, 20, 21]"
      ]
     },
     "execution_count": 2,
     "metadata": {},
     "output_type": "execute_result"
    }
   ],
   "source": [
    "node = !hostname\n",
    "if \"sc\" in node[0]:\n",
    "    base_path = \"/sc-projects/sc-proj-ukb-cvd\"\n",
    "else: \n",
    "    base_path = \"/data/analysis/ag-reils/ag-reils-shared/cardioRS\"\n",
    "print(base_path)\n",
    "\n",
    "project_label = \"22_retina_phewas\"\n",
    "project_path = f\"{base_path}/results/projects/{project_label}\"\n",
    "figure_path = f\"{project_path}/figures\"\n",
    "output_path = f\"{project_path}/data\"\n",
    "\n",
    "pathlib.Path(figure_path).mkdir(parents=True, exist_ok=True)\n",
    "pathlib.Path(output_path).mkdir(parents=True, exist_ok=True)\n",
    "\n",
    "experiment = '220812_test'\n",
    "experiment_path = f\"{output_path}/{experiment}\"\n",
    "pathlib.Path(experiment_path).mkdir(parents=True, exist_ok=True)\n",
    "\n",
    "name_dict = {\n",
    "    \"predictions_cropratio0.66\": \"ConvNextSmall(Retina)+MLP_cropratio0.66\",\n",
    "}\n",
    "\n",
    "partitions = [i for i in range(22)]\n",
    "partitions"
   ]
  },
  {
   "cell_type": "code",
   "execution_count": 3,
   "metadata": {
    "execution": {
     "iopub.execute_input": "2022-08-26T08:04:11.346897Z",
     "iopub.status.busy": "2022-08-26T08:04:11.346755Z",
     "iopub.status.idle": "2022-08-26T08:04:11.349052Z",
     "shell.execute_reply": "2022-08-26T08:04:11.348706Z",
     "shell.execute_reply.started": "2022-08-26T08:04:11.346883Z"
    }
   },
   "outputs": [],
   "source": [
    "today = '220824'"
   ]
  },
  {
   "cell_type": "code",
   "execution_count": 4,
   "metadata": {
    "execution": {
     "iopub.execute_input": "2022-08-26T08:04:11.350141Z",
     "iopub.status.busy": "2022-08-26T08:04:11.349970Z",
     "iopub.status.idle": "2022-08-26T08:04:11.382029Z",
     "shell.execute_reply": "2022-08-26T08:04:11.381556Z",
     "shell.execute_reply.started": "2022-08-26T08:04:11.350129Z"
    },
    "tags": []
   },
   "outputs": [],
   "source": [
    "splits = [\"train\", \"valid\", 'test'] # \"test_left\", 'test_right']"
   ]
  },
  {
   "cell_type": "code",
   "execution_count": 5,
   "metadata": {
    "execution": {
     "iopub.execute_input": "2022-08-26T08:04:11.382670Z",
     "iopub.status.busy": "2022-08-26T08:04:11.382584Z",
     "iopub.status.idle": "2022-08-26T08:04:11.446242Z",
     "shell.execute_reply": "2022-08-26T08:04:11.445777Z",
     "shell.execute_reply.started": "2022-08-26T08:04:11.382659Z"
    }
   },
   "outputs": [],
   "source": [
    "import pandas as pd\n",
    "endpoints = sorted([l.replace('_prevalent', '') for l in list(pd.read_csv('/sc-projects/sc-proj-ukb-cvd/results/projects/22_retinal_risk/data/220602/endpoints.csv').endpoint.values)])"
   ]
  },
  {
   "cell_type": "code",
   "execution_count": 6,
   "metadata": {
    "execution": {
     "iopub.execute_input": "2022-08-26T08:04:11.446854Z",
     "iopub.status.busy": "2022-08-26T08:04:11.446766Z",
     "iopub.status.idle": "2022-08-26T08:04:11.546931Z",
     "shell.execute_reply": "2022-08-26T08:04:11.546520Z",
     "shell.execute_reply.started": "2022-08-26T08:04:11.446842Z"
    },
    "tags": []
   },
   "outputs": [],
   "source": [
    "endpoint_defs = pd.read_feather(f\"{output_path}/phecode_defs_220306.feather\").query(\"endpoint==@endpoints\").sort_values(\"endpoint\").set_index(\"endpoint\")"
   ]
  },
  {
   "cell_type": "code",
   "execution_count": 7,
   "metadata": {
    "execution": {
     "iopub.execute_input": "2022-08-26T08:04:11.547672Z",
     "iopub.status.busy": "2022-08-26T08:04:11.547532Z",
     "iopub.status.idle": "2022-08-26T08:04:11.549884Z",
     "shell.execute_reply": "2022-08-26T08:04:11.549487Z",
     "shell.execute_reply.started": "2022-08-26T08:04:11.547660Z"
    }
   },
   "outputs": [],
   "source": [
    "from datetime import date\n",
    "today = str(date.today()) if today is None else today\n"
   ]
  },
  {
   "cell_type": "code",
   "execution_count": 8,
   "metadata": {
    "execution": {
     "iopub.execute_input": "2022-08-26T08:04:11.550556Z",
     "iopub.status.busy": "2022-08-26T08:04:11.550400Z",
     "iopub.status.idle": "2022-08-26T08:04:18.004612Z",
     "shell.execute_reply": "2022-08-26T08:04:18.003713Z",
     "shell.execute_reply.started": "2022-08-26T08:04:11.550545Z"
    }
   },
   "outputs": [],
   "source": [
    "eligable_eids = pd.read_feather(f\"{output_path}/eligable_eids_{today}.feather\")\n",
    "eids_dict = eligable_eids.set_index(\"endpoint\")[\"eid_list\"].to_dict()"
   ]
  },
  {
   "cell_type": "code",
   "execution_count": 9,
   "metadata": {
    "execution": {
     "iopub.execute_input": "2022-08-26T08:04:18.006072Z",
     "iopub.status.busy": "2022-08-26T08:04:18.005910Z",
     "iopub.status.idle": "2022-08-26T08:04:18.011700Z",
     "shell.execute_reply": "2022-08-26T08:04:18.011183Z",
     "shell.execute_reply.started": "2022-08-26T08:04:18.006052Z"
    },
    "tags": []
   },
   "outputs": [
    {
     "name": "stdout",
     "output_type": "stream",
     "text": [
      "env: MKL_NUM_THREADS=4\n",
      "env: NUMEXPR_NUM_THREADS=4\n",
      "env: OMP_NUM_THREADS=4\n"
     ]
    }
   ],
   "source": [
    "%env MKL_NUM_THREADS=4\n",
    "%env NUMEXPR_NUM_THREADS=4\n",
    "%env OMP_NUM_THREADS=4"
   ]
  },
  {
   "cell_type": "code",
   "execution_count": 10,
   "metadata": {
    "execution": {
     "iopub.execute_input": "2022-08-26T08:04:18.012615Z",
     "iopub.status.busy": "2022-08-26T08:04:18.012499Z",
     "iopub.status.idle": "2022-08-26T08:04:18.027565Z",
     "shell.execute_reply": "2022-08-26T08:04:18.027116Z",
     "shell.execute_reply.started": "2022-08-26T08:04:18.012600Z"
    }
   },
   "outputs": [],
   "source": [
    "#ray.shutdown()"
   ]
  },
  {
   "cell_type": "code",
   "execution_count": 11,
   "metadata": {
    "execution": {
     "iopub.execute_input": "2022-08-26T08:04:18.028334Z",
     "iopub.status.busy": "2022-08-26T08:04:18.028235Z",
     "iopub.status.idle": "2022-08-26T08:04:19.917146Z",
     "shell.execute_reply": "2022-08-26T08:04:19.916701Z",
     "shell.execute_reply.started": "2022-08-26T08:04:18.028321Z"
    },
    "tags": []
   },
   "outputs": [
    {
     "data": {
      "text/plain": [
       "RayContext(dashboard_url='', python_version='3.9.7', ray_version='1.13.0', ray_commit='e4ce38d001dbbe09cd21c497fedd03d692b2be3e', address_info={'node_ip_address': '10.32.105.14', 'raylet_ip_address': '10.32.105.14', 'redis_address': None, 'object_store_address': '/tmp/ray/session_2022-08-25_09-57-05_054645_3933326/sockets/plasma_store', 'raylet_socket_name': '/tmp/ray/session_2022-08-25_09-57-05_054645_3933326/sockets/raylet', 'webui_url': '', 'session_dir': '/tmp/ray/session_2022-08-25_09-57-05_054645_3933326', 'metrics_export_port': 60554, 'gcs_address': '10.32.105.14:6321', 'address': '10.32.105.14:6321', 'node_id': 'aa0f99a02d648e105988a8de7155afbfc253c61e7021ae9fe8b851e0'})"
      ]
     },
     "execution_count": 11,
     "metadata": {},
     "output_type": "execute_result"
    }
   ],
   "source": [
    "import ray\n",
    "\n",
    "ray.init(address=\"auto\")#, dashboard_port=24762, dashboard_host=\"0.0.0.0\", include_dashboard=True)#, webui_url=\"0.0.0.0\"))"
   ]
  },
  {
   "cell_type": "markdown",
   "metadata": {},
   "source": [
    "# Train COX"
   ]
  },
  {
   "cell_type": "code",
   "execution_count": 12,
   "metadata": {
    "execution": {
     "iopub.execute_input": "2022-08-26T08:04:19.917971Z",
     "iopub.status.busy": "2022-08-26T08:04:19.917865Z",
     "iopub.status.idle": "2022-08-26T08:04:19.922445Z",
     "shell.execute_reply": "2022-08-26T08:04:19.922083Z",
     "shell.execute_reply.started": "2022-08-26T08:04:19.917958Z"
    },
    "tags": []
   },
   "outputs": [],
   "source": [
    "in_path = pathlib.Path(f\"{experiment_path}/coxph/input\")\n",
    "model_path = f\"{experiment_path}/coxph/models\"\n",
    "\n",
    "out_path = f\"{experiment_path}/coxph/predictions\"\n",
    "pathlib.Path(out_path).mkdir(parents=True, exist_ok=True)"
   ]
  },
  {
   "cell_type": "code",
   "execution_count": 13,
   "metadata": {
    "execution": {
     "iopub.execute_input": "2022-08-26T08:04:19.923831Z",
     "iopub.status.busy": "2022-08-26T08:04:19.923738Z",
     "iopub.status.idle": "2022-08-26T08:04:19.973747Z",
     "shell.execute_reply": "2022-08-26T08:04:19.973246Z",
     "shell.execute_reply.started": "2022-08-26T08:04:19.923820Z"
    },
    "tags": []
   },
   "outputs": [],
   "source": [
    "import pickle\n",
    "import zstandard\n",
    "\n",
    "def load_pickle(fp):\n",
    "    with open(fp, \"rb\") as fh:\n",
    "        dctx = zstandard.ZstdDecompressor()\n",
    "        with dctx.stream_reader(fh) as decompressor:\n",
    "            data = pickle.loads(decompressor.read())\n",
    "    return data"
   ]
  },
  {
   "cell_type": "code",
   "execution_count": 14,
   "metadata": {
    "execution": {
     "iopub.execute_input": "2022-08-26T08:04:19.974281Z",
     "iopub.status.busy": "2022-08-26T08:04:19.974198Z",
     "iopub.status.idle": "2022-08-26T08:04:20.794739Z",
     "shell.execute_reply": "2022-08-26T08:04:20.794046Z",
     "shell.execute_reply.started": "2022-08-26T08:04:19.974270Z"
    },
    "tags": []
   },
   "outputs": [
    {
     "data": {
      "text/html": [
       "<div>\n",
       "<style scoped>\n",
       "    .dataframe tbody tr th:only-of-type {\n",
       "        vertical-align: middle;\n",
       "    }\n",
       "\n",
       "    .dataframe tbody tr th {\n",
       "        vertical-align: top;\n",
       "    }\n",
       "\n",
       "    .dataframe thead th {\n",
       "        text-align: right;\n",
       "    }\n",
       "</style>\n",
       "<table border=\"1\" class=\"dataframe\">\n",
       "  <thead>\n",
       "    <tr style=\"text-align: right;\">\n",
       "      <th></th>\n",
       "      <th>endpoint</th>\n",
       "      <th>score</th>\n",
       "      <th>model</th>\n",
       "      <th>partition</th>\n",
       "      <th>path</th>\n",
       "    </tr>\n",
       "  </thead>\n",
       "  <tbody>\n",
       "    <tr>\n",
       "      <th>0</th>\n",
       "      <td>OMOP_4306655</td>\n",
       "      <td>Age+Sex+Retina</td>\n",
       "      <td>ImageTraining_[]_ConvNeXt_MLPHead_cropratio0.66</td>\n",
       "      <td>0</td>\n",
       "      <td>OMOP_4306655_Age+Sex+Retina_ImageTraining_[]_C...</td>\n",
       "    </tr>\n",
       "    <tr>\n",
       "      <th>1</th>\n",
       "      <td>OMOP_4306655</td>\n",
       "      <td>Age+Sex+Retina</td>\n",
       "      <td>ImageTraining_[]_ConvNeXt_MLPHead_cropratio0.66</td>\n",
       "      <td>1</td>\n",
       "      <td>OMOP_4306655_Age+Sex+Retina_ImageTraining_[]_C...</td>\n",
       "    </tr>\n",
       "    <tr>\n",
       "      <th>2</th>\n",
       "      <td>OMOP_4306655</td>\n",
       "      <td>Age+Sex+Retina</td>\n",
       "      <td>ImageTraining_[]_ConvNeXt_MLPHead_cropratio0.66</td>\n",
       "      <td>2</td>\n",
       "      <td>OMOP_4306655_Age+Sex+Retina_ImageTraining_[]_C...</td>\n",
       "    </tr>\n",
       "    <tr>\n",
       "      <th>3</th>\n",
       "      <td>OMOP_4306655</td>\n",
       "      <td>Age+Sex+Retina</td>\n",
       "      <td>ImageTraining_[]_ConvNeXt_MLPHead_cropratio0.66</td>\n",
       "      <td>3</td>\n",
       "      <td>OMOP_4306655_Age+Sex+Retina_ImageTraining_[]_C...</td>\n",
       "    </tr>\n",
       "    <tr>\n",
       "      <th>4</th>\n",
       "      <td>OMOP_4306655</td>\n",
       "      <td>Age+Sex+Retina</td>\n",
       "      <td>ImageTraining_[]_ConvNeXt_MLPHead_cropratio0.66</td>\n",
       "      <td>4</td>\n",
       "      <td>OMOP_4306655_Age+Sex+Retina_ImageTraining_[]_C...</td>\n",
       "    </tr>\n",
       "    <tr>\n",
       "      <th>...</th>\n",
       "      <td>...</td>\n",
       "      <td>...</td>\n",
       "      <td>...</td>\n",
       "      <td>...</td>\n",
       "      <td>...</td>\n",
       "    </tr>\n",
       "    <tr>\n",
       "      <th>51519</th>\n",
       "      <td>phecode_979</td>\n",
       "      <td>Retina</td>\n",
       "      <td>ImageTraining_[]_ConvNeXt_MLPHead_cropratio0.66</td>\n",
       "      <td>17</td>\n",
       "      <td>phecode_979_Retina_ImageTraining_[]_ConvNeXt_M...</td>\n",
       "    </tr>\n",
       "    <tr>\n",
       "      <th>51520</th>\n",
       "      <td>phecode_979</td>\n",
       "      <td>Retina</td>\n",
       "      <td>ImageTraining_[]_ConvNeXt_MLPHead_cropratio0.66</td>\n",
       "      <td>18</td>\n",
       "      <td>phecode_979_Retina_ImageTraining_[]_ConvNeXt_M...</td>\n",
       "    </tr>\n",
       "    <tr>\n",
       "      <th>51521</th>\n",
       "      <td>phecode_979</td>\n",
       "      <td>Retina</td>\n",
       "      <td>ImageTraining_[]_ConvNeXt_MLPHead_cropratio0.66</td>\n",
       "      <td>19</td>\n",
       "      <td>phecode_979_Retina_ImageTraining_[]_ConvNeXt_M...</td>\n",
       "    </tr>\n",
       "    <tr>\n",
       "      <th>51522</th>\n",
       "      <td>phecode_979</td>\n",
       "      <td>Retina</td>\n",
       "      <td>ImageTraining_[]_ConvNeXt_MLPHead_cropratio0.66</td>\n",
       "      <td>20</td>\n",
       "      <td>phecode_979_Retina_ImageTraining_[]_ConvNeXt_M...</td>\n",
       "    </tr>\n",
       "    <tr>\n",
       "      <th>51523</th>\n",
       "      <td>phecode_979</td>\n",
       "      <td>Retina</td>\n",
       "      <td>ImageTraining_[]_ConvNeXt_MLPHead_cropratio0.66</td>\n",
       "      <td>21</td>\n",
       "      <td>phecode_979_Retina_ImageTraining_[]_ConvNeXt_M...</td>\n",
       "    </tr>\n",
       "  </tbody>\n",
       "</table>\n",
       "<p>51524 rows × 5 columns</p>\n",
       "</div>"
      ],
      "text/plain": [
       "           endpoint           score  \\\n",
       "0      OMOP_4306655  Age+Sex+Retina   \n",
       "1      OMOP_4306655  Age+Sex+Retina   \n",
       "2      OMOP_4306655  Age+Sex+Retina   \n",
       "3      OMOP_4306655  Age+Sex+Retina   \n",
       "4      OMOP_4306655  Age+Sex+Retina   \n",
       "...             ...             ...   \n",
       "51519   phecode_979          Retina   \n",
       "51520   phecode_979          Retina   \n",
       "51521   phecode_979          Retina   \n",
       "51522   phecode_979          Retina   \n",
       "51523   phecode_979          Retina   \n",
       "\n",
       "                                                 model  partition  \\\n",
       "0      ImageTraining_[]_ConvNeXt_MLPHead_cropratio0.66          0   \n",
       "1      ImageTraining_[]_ConvNeXt_MLPHead_cropratio0.66          1   \n",
       "2      ImageTraining_[]_ConvNeXt_MLPHead_cropratio0.66          2   \n",
       "3      ImageTraining_[]_ConvNeXt_MLPHead_cropratio0.66          3   \n",
       "4      ImageTraining_[]_ConvNeXt_MLPHead_cropratio0.66          4   \n",
       "...                                                ...        ...   \n",
       "51519  ImageTraining_[]_ConvNeXt_MLPHead_cropratio0.66         17   \n",
       "51520  ImageTraining_[]_ConvNeXt_MLPHead_cropratio0.66         18   \n",
       "51521  ImageTraining_[]_ConvNeXt_MLPHead_cropratio0.66         19   \n",
       "51522  ImageTraining_[]_ConvNeXt_MLPHead_cropratio0.66         20   \n",
       "51523  ImageTraining_[]_ConvNeXt_MLPHead_cropratio0.66         21   \n",
       "\n",
       "                                                    path  \n",
       "0      OMOP_4306655_Age+Sex+Retina_ImageTraining_[]_C...  \n",
       "1      OMOP_4306655_Age+Sex+Retina_ImageTraining_[]_C...  \n",
       "2      OMOP_4306655_Age+Sex+Retina_ImageTraining_[]_C...  \n",
       "3      OMOP_4306655_Age+Sex+Retina_ImageTraining_[]_C...  \n",
       "4      OMOP_4306655_Age+Sex+Retina_ImageTraining_[]_C...  \n",
       "...                                                  ...  \n",
       "51519  phecode_979_Retina_ImageTraining_[]_ConvNeXt_M...  \n",
       "51520  phecode_979_Retina_ImageTraining_[]_ConvNeXt_M...  \n",
       "51521  phecode_979_Retina_ImageTraining_[]_ConvNeXt_M...  \n",
       "51522  phecode_979_Retina_ImageTraining_[]_ConvNeXt_M...  \n",
       "51523  phecode_979_Retina_ImageTraining_[]_ConvNeXt_M...  \n",
       "\n",
       "[51524 rows x 5 columns]"
      ]
     },
     "execution_count": 14,
     "metadata": {},
     "output_type": "execute_result"
    }
   ],
   "source": [
    "cox_paths = !ls $model_path\n",
    "cox_paths = [p for p in cox_paths if \"_Retina\" in p or \"+Retina\" in p or \"I(\" in p]\n",
    "cox = pd.Series(cox_paths).str.split(\"_\", expand=True)\\\n",
    "    .assign(path = cox_paths)\\\n",
    "    .assign(endpoint = lambda x: x[0]+\"_\"+x[1])\\\n",
    "    .assign(score = lambda x: x[2])\\\n",
    "    .assign(model = lambda x: x[3]+\"_\"+x[4]+\"_\"+x[5]+\"_\"+x[6]+\"_\"+x[8])\\\n",
    "    .assign(partition = lambda x: x[9].str.replace(\".p\", \"\", regex=True).astype(int))\\\n",
    "    [[\"endpoint\", \"score\", \"model\", \"partition\", \"path\"]].sort_values([\"endpoint\", \"score\", \"partition\"])\\\n",
    "    .query(\"endpoint ==@ endpoints\")\\\n",
    "    .reset_index(drop=True)\n",
    "cox"
   ]
  },
  {
   "cell_type": "raw",
   "metadata": {
    "execution": {
     "iopub.execute_input": "2022-04-21T12:03:31.795593Z",
     "iopub.status.busy": "2022-04-21T12:03:31.795400Z",
     "iopub.status.idle": "2022-04-21T12:03:31.801297Z",
     "shell.execute_reply": "2022-04-21T12:03:31.800939Z",
     "shell.execute_reply.started": "2022-04-21T12:03:31.795581Z"
    },
    "tags": []
   },
   "source": [
    "cox = cox.query(\"endpoint == 'phecode_101-8'\")#&score=='Age+Sex+MedicalHistory+I(Age*MH)'\")"
   ]
  },
  {
   "cell_type": "code",
   "execution_count": 15,
   "metadata": {
    "execution": {
     "iopub.execute_input": "2022-08-26T08:04:20.795911Z",
     "iopub.status.busy": "2022-08-26T08:04:20.795775Z",
     "iopub.status.idle": "2022-08-26T08:04:20.804028Z",
     "shell.execute_reply": "2022-08-26T08:04:20.803521Z",
     "shell.execute_reply.started": "2022-08-26T08:04:20.795895Z"
    },
    "tags": []
   },
   "outputs": [],
   "source": [
    "#endpoints = sorted(cox.endpoint.unique().tolist())\n",
    "scores = sorted(cox.score.unique().tolist())\n",
    "partitions = sorted(cox.partition.unique().tolist())"
   ]
  },
  {
   "cell_type": "code",
   "execution_count": 16,
   "metadata": {
    "execution": {
     "iopub.execute_input": "2022-08-26T08:04:20.804877Z",
     "iopub.status.busy": "2022-08-26T08:04:20.804772Z",
     "iopub.status.idle": "2022-08-26T08:04:20.818148Z",
     "shell.execute_reply": "2022-08-26T08:04:20.817701Z",
     "shell.execute_reply.started": "2022-08-26T08:04:20.804862Z"
    },
    "tags": []
   },
   "outputs": [],
   "source": [
    "#import ray\n",
    "\n",
    "@ray.remote\n",
    "def get_cox_info(p):\n",
    "    cph = load_pickle(f\"{model_path}/{p}\")\n",
    "    p_split = p.split(\"_\")\n",
    "    endpoint = f\"{p_split[0]}_{p_split[1]}\"\n",
    "    score = p_split[2]\n",
    "    model = p_split[3]+\"_\"+p_split[4]+\"_\"+p_split[5]+\"_\"+p_split[6]+\"_\"+p_split[8]\n",
    "    partition = p_split[9].replace(\".p\", \"\")\n",
    "    hrs = cph.hazard_ratios_.to_dict()\n",
    "    \n",
    "    if score==\"Age+Sex+MedicalHistory+I(Age*MH)\":\n",
    "        hr_ret = hrs[endpoint.replace(\"-\", \"\")]\n",
    "        \n",
    "        key_int_age = [k for k in hrs if \"age_at_recruitment_f21022_0_0\" in k and endpoint.replace(\"-\", \"\") in k][0]\n",
    "        hr_ret_age = hrs[key_int_age]\n",
    "        \n",
    "        try:\n",
    "            key_int_sex = [k for k in hrs if \"sex_f31_0_0\" in k and endpoint.replace(\"-\", \"\") in k][0]\n",
    "            hr_ret_sex = hrs[key_int_sex]\n",
    "        except:\n",
    "            hr_ret_sex = np.nan\n",
    "    else:\n",
    "        hr_ret = hrs[endpoint] \n",
    "        hr_ret_age = np.nan\n",
    "        hr_ret_sex = np.nan\n",
    "        \n",
    "    return {\"endpoint\": endpoint, \n",
    "            \"score\": score, \n",
    "            \"model\": model,\n",
    "            \"partition\": partition, \n",
    "            \"hrs\": hrs, \n",
    "            \"hrs_ret\": hr_ret, \n",
    "            \"hrs_ret_age\": hr_ret_age, \n",
    "            \"hrs_ret_sex\": hr_ret_sex\n",
    "           }"
   ]
  },
  {
   "cell_type": "code",
   "execution_count": 17,
   "metadata": {
    "execution": {
     "iopub.execute_input": "2022-08-26T08:04:20.819123Z",
     "iopub.status.busy": "2022-08-26T08:04:20.818758Z",
     "iopub.status.idle": "2022-08-26T08:04:24.469852Z",
     "shell.execute_reply": "2022-08-26T08:04:24.469150Z",
     "shell.execute_reply.started": "2022-08-26T08:04:20.819097Z"
    },
    "tags": []
   },
   "outputs": [
    {
     "data": {
      "application/vnd.jupyter.widget-view+json": {
       "model_id": "0fda253aa64046eba14c7e79143c8614",
       "version_major": 2,
       "version_minor": 0
      },
      "text/plain": [
       "  0%|          | 0/51524 [00:00<?, ?it/s]"
      ]
     },
     "metadata": {},
     "output_type": "display_data"
    }
   ],
   "source": [
    "rows = []\n",
    "\n",
    "for p in tqdm(cox.path.tolist()):\n",
    "    rows.append(get_cox_info.remote(p))"
   ]
  },
  {
   "cell_type": "code",
   "execution_count": 18,
   "metadata": {
    "execution": {
     "iopub.execute_input": "2022-08-26T08:04:24.471000Z",
     "iopub.status.busy": "2022-08-26T08:04:24.470867Z",
     "iopub.status.idle": "2022-08-26T08:08:30.204837Z",
     "shell.execute_reply": "2022-08-26T08:08:30.204345Z",
     "shell.execute_reply.started": "2022-08-26T08:04:24.470983Z"
    },
    "tags": []
   },
   "outputs": [
    {
     "data": {
      "application/vnd.jupyter.widget-view+json": {
       "model_id": "cec28f6db3e84a8db75279dbddcbec94",
       "version_major": 2,
       "version_minor": 0
      },
      "text/plain": [
       "  0%|          | 0/51524 [00:00<?, ?it/s]"
      ]
     },
     "metadata": {},
     "output_type": "display_data"
    }
   ],
   "source": [
    "rows = [ray.get(r) for r in tqdm(rows)]"
   ]
  },
  {
   "cell_type": "code",
   "execution_count": 19,
   "metadata": {
    "execution": {
     "iopub.execute_input": "2022-08-26T08:08:30.205807Z",
     "iopub.status.busy": "2022-08-26T08:08:30.205631Z",
     "iopub.status.idle": "2022-08-26T08:08:30.209482Z",
     "shell.execute_reply": "2022-08-26T08:08:30.209117Z",
     "shell.execute_reply.started": "2022-08-26T08:08:30.205791Z"
    },
    "tags": []
   },
   "outputs": [
    {
     "data": {
      "text/plain": [
       "{'endpoint': 'OMOP_4306655',\n",
       " 'score': 'Age+Sex+Retina',\n",
       " 'model': 'ImageTraining_[]_ConvNeXt_MLPHead_cropratio0.66',\n",
       " 'partition': '10',\n",
       " 'hrs': {'age': 1.1364258396463327,\n",
       "  'sex_Male': 1.234114904534952,\n",
       "  'OMOP_4306655': 3.6657228748597865},\n",
       " 'hrs_ret': 3.6657228748597865,\n",
       " 'hrs_ret_age': nan,\n",
       " 'hrs_ret_sex': nan}"
      ]
     },
     "execution_count": 19,
     "metadata": {},
     "output_type": "execute_result"
    }
   ],
   "source": [
    "rows[10]"
   ]
  },
  {
   "cell_type": "code",
   "execution_count": 20,
   "metadata": {
    "execution": {
     "iopub.execute_input": "2022-08-26T08:08:30.210144Z",
     "iopub.status.busy": "2022-08-26T08:08:30.210005Z",
     "iopub.status.idle": "2022-08-26T08:08:30.280424Z",
     "shell.execute_reply": "2022-08-26T08:08:30.279697Z",
     "shell.execute_reply.started": "2022-08-26T08:08:30.210131Z"
    },
    "tags": []
   },
   "outputs": [],
   "source": [
    "hrs_endpoints = pd.DataFrame({}).append(rows, ignore_index=True)"
   ]
  },
  {
   "cell_type": "code",
   "execution_count": 21,
   "metadata": {
    "execution": {
     "iopub.execute_input": "2022-08-26T08:08:30.281529Z",
     "iopub.status.busy": "2022-08-26T08:08:30.281336Z",
     "iopub.status.idle": "2022-08-26T08:08:30.292757Z",
     "shell.execute_reply": "2022-08-26T08:08:30.292304Z",
     "shell.execute_reply.started": "2022-08-26T08:08:30.281514Z"
    },
    "tags": []
   },
   "outputs": [
    {
     "data": {
      "text/html": [
       "<div>\n",
       "<style scoped>\n",
       "    .dataframe tbody tr th:only-of-type {\n",
       "        vertical-align: middle;\n",
       "    }\n",
       "\n",
       "    .dataframe tbody tr th {\n",
       "        vertical-align: top;\n",
       "    }\n",
       "\n",
       "    .dataframe thead th {\n",
       "        text-align: right;\n",
       "    }\n",
       "</style>\n",
       "<table border=\"1\" class=\"dataframe\">\n",
       "  <thead>\n",
       "    <tr style=\"text-align: right;\">\n",
       "      <th></th>\n",
       "      <th>endpoint</th>\n",
       "      <th>score</th>\n",
       "      <th>model</th>\n",
       "      <th>partition</th>\n",
       "      <th>hrs</th>\n",
       "      <th>hrs_ret</th>\n",
       "      <th>hrs_ret_age</th>\n",
       "      <th>hrs_ret_sex</th>\n",
       "    </tr>\n",
       "  </thead>\n",
       "  <tbody>\n",
       "    <tr>\n",
       "      <th>0</th>\n",
       "      <td>OMOP_4306655</td>\n",
       "      <td>Age+Sex+Retina</td>\n",
       "      <td>ImageTraining_[]_ConvNeXt_MLPHead_cropratio0.66</td>\n",
       "      <td>0</td>\n",
       "      <td>{'age': 1.137782875957632, 'sex_Male': 1.24623...</td>\n",
       "      <td>3.100709</td>\n",
       "      <td>NaN</td>\n",
       "      <td>NaN</td>\n",
       "    </tr>\n",
       "    <tr>\n",
       "      <th>1</th>\n",
       "      <td>OMOP_4306655</td>\n",
       "      <td>Age+Sex+Retina</td>\n",
       "      <td>ImageTraining_[]_ConvNeXt_MLPHead_cropratio0.66</td>\n",
       "      <td>1</td>\n",
       "      <td>{'age': 1.1780239695670347, 'sex_Male': 1.2153...</td>\n",
       "      <td>3.383124</td>\n",
       "      <td>NaN</td>\n",
       "      <td>NaN</td>\n",
       "    </tr>\n",
       "    <tr>\n",
       "      <th>2</th>\n",
       "      <td>OMOP_4306655</td>\n",
       "      <td>Age+Sex+Retina</td>\n",
       "      <td>ImageTraining_[]_ConvNeXt_MLPHead_cropratio0.66</td>\n",
       "      <td>2</td>\n",
       "      <td>{'age': 1.1374446248509327, 'sex_Male': 1.2811...</td>\n",
       "      <td>3.113029</td>\n",
       "      <td>NaN</td>\n",
       "      <td>NaN</td>\n",
       "    </tr>\n",
       "    <tr>\n",
       "      <th>3</th>\n",
       "      <td>OMOP_4306655</td>\n",
       "      <td>Age+Sex+Retina</td>\n",
       "      <td>ImageTraining_[]_ConvNeXt_MLPHead_cropratio0.66</td>\n",
       "      <td>3</td>\n",
       "      <td>{'age': 1.1229070711043536, 'sex_Male': 1.2095...</td>\n",
       "      <td>3.620588</td>\n",
       "      <td>NaN</td>\n",
       "      <td>NaN</td>\n",
       "    </tr>\n",
       "    <tr>\n",
       "      <th>4</th>\n",
       "      <td>OMOP_4306655</td>\n",
       "      <td>Age+Sex+Retina</td>\n",
       "      <td>ImageTraining_[]_ConvNeXt_MLPHead_cropratio0.66</td>\n",
       "      <td>4</td>\n",
       "      <td>{'age': 1.1950792070869727, 'sex_Male': 1.2735...</td>\n",
       "      <td>3.306554</td>\n",
       "      <td>NaN</td>\n",
       "      <td>NaN</td>\n",
       "    </tr>\n",
       "    <tr>\n",
       "      <th>...</th>\n",
       "      <td>...</td>\n",
       "      <td>...</td>\n",
       "      <td>...</td>\n",
       "      <td>...</td>\n",
       "      <td>...</td>\n",
       "      <td>...</td>\n",
       "      <td>...</td>\n",
       "      <td>...</td>\n",
       "    </tr>\n",
       "    <tr>\n",
       "      <th>51519</th>\n",
       "      <td>phecode_979</td>\n",
       "      <td>Retina</td>\n",
       "      <td>ImageTraining_[]_ConvNeXt_MLPHead_cropratio0.66</td>\n",
       "      <td>17</td>\n",
       "      <td>{'phecode_979': 2.943532412836608}</td>\n",
       "      <td>2.943532</td>\n",
       "      <td>NaN</td>\n",
       "      <td>NaN</td>\n",
       "    </tr>\n",
       "    <tr>\n",
       "      <th>51520</th>\n",
       "      <td>phecode_979</td>\n",
       "      <td>Retina</td>\n",
       "      <td>ImageTraining_[]_ConvNeXt_MLPHead_cropratio0.66</td>\n",
       "      <td>18</td>\n",
       "      <td>{'phecode_979': 0.0021000336856705666}</td>\n",
       "      <td>0.002100</td>\n",
       "      <td>NaN</td>\n",
       "      <td>NaN</td>\n",
       "    </tr>\n",
       "    <tr>\n",
       "      <th>51521</th>\n",
       "      <td>phecode_979</td>\n",
       "      <td>Retina</td>\n",
       "      <td>ImageTraining_[]_ConvNeXt_MLPHead_cropratio0.66</td>\n",
       "      <td>19</td>\n",
       "      <td>{'phecode_979': 2.889896522155389}</td>\n",
       "      <td>2.889897</td>\n",
       "      <td>NaN</td>\n",
       "      <td>NaN</td>\n",
       "    </tr>\n",
       "    <tr>\n",
       "      <th>51522</th>\n",
       "      <td>phecode_979</td>\n",
       "      <td>Retina</td>\n",
       "      <td>ImageTraining_[]_ConvNeXt_MLPHead_cropratio0.66</td>\n",
       "      <td>20</td>\n",
       "      <td>{'phecode_979': 3.087283843906024}</td>\n",
       "      <td>3.087284</td>\n",
       "      <td>NaN</td>\n",
       "      <td>NaN</td>\n",
       "    </tr>\n",
       "    <tr>\n",
       "      <th>51523</th>\n",
       "      <td>phecode_979</td>\n",
       "      <td>Retina</td>\n",
       "      <td>ImageTraining_[]_ConvNeXt_MLPHead_cropratio0.66</td>\n",
       "      <td>21</td>\n",
       "      <td>{'phecode_979': 2.9534110643041327}</td>\n",
       "      <td>2.953411</td>\n",
       "      <td>NaN</td>\n",
       "      <td>NaN</td>\n",
       "    </tr>\n",
       "  </tbody>\n",
       "</table>\n",
       "<p>51524 rows × 8 columns</p>\n",
       "</div>"
      ],
      "text/plain": [
       "           endpoint           score  \\\n",
       "0      OMOP_4306655  Age+Sex+Retina   \n",
       "1      OMOP_4306655  Age+Sex+Retina   \n",
       "2      OMOP_4306655  Age+Sex+Retina   \n",
       "3      OMOP_4306655  Age+Sex+Retina   \n",
       "4      OMOP_4306655  Age+Sex+Retina   \n",
       "...             ...             ...   \n",
       "51519   phecode_979          Retina   \n",
       "51520   phecode_979          Retina   \n",
       "51521   phecode_979          Retina   \n",
       "51522   phecode_979          Retina   \n",
       "51523   phecode_979          Retina   \n",
       "\n",
       "                                                 model partition  \\\n",
       "0      ImageTraining_[]_ConvNeXt_MLPHead_cropratio0.66         0   \n",
       "1      ImageTraining_[]_ConvNeXt_MLPHead_cropratio0.66         1   \n",
       "2      ImageTraining_[]_ConvNeXt_MLPHead_cropratio0.66         2   \n",
       "3      ImageTraining_[]_ConvNeXt_MLPHead_cropratio0.66         3   \n",
       "4      ImageTraining_[]_ConvNeXt_MLPHead_cropratio0.66         4   \n",
       "...                                                ...       ...   \n",
       "51519  ImageTraining_[]_ConvNeXt_MLPHead_cropratio0.66        17   \n",
       "51520  ImageTraining_[]_ConvNeXt_MLPHead_cropratio0.66        18   \n",
       "51521  ImageTraining_[]_ConvNeXt_MLPHead_cropratio0.66        19   \n",
       "51522  ImageTraining_[]_ConvNeXt_MLPHead_cropratio0.66        20   \n",
       "51523  ImageTraining_[]_ConvNeXt_MLPHead_cropratio0.66        21   \n",
       "\n",
       "                                                     hrs   hrs_ret  \\\n",
       "0      {'age': 1.137782875957632, 'sex_Male': 1.24623...  3.100709   \n",
       "1      {'age': 1.1780239695670347, 'sex_Male': 1.2153...  3.383124   \n",
       "2      {'age': 1.1374446248509327, 'sex_Male': 1.2811...  3.113029   \n",
       "3      {'age': 1.1229070711043536, 'sex_Male': 1.2095...  3.620588   \n",
       "4      {'age': 1.1950792070869727, 'sex_Male': 1.2735...  3.306554   \n",
       "...                                                  ...       ...   \n",
       "51519                 {'phecode_979': 2.943532412836608}  2.943532   \n",
       "51520             {'phecode_979': 0.0021000336856705666}  0.002100   \n",
       "51521                 {'phecode_979': 2.889896522155389}  2.889897   \n",
       "51522                 {'phecode_979': 3.087283843906024}  3.087284   \n",
       "51523                {'phecode_979': 2.9534110643041327}  2.953411   \n",
       "\n",
       "       hrs_ret_age  hrs_ret_sex  \n",
       "0              NaN          NaN  \n",
       "1              NaN          NaN  \n",
       "2              NaN          NaN  \n",
       "3              NaN          NaN  \n",
       "4              NaN          NaN  \n",
       "...            ...          ...  \n",
       "51519          NaN          NaN  \n",
       "51520          NaN          NaN  \n",
       "51521          NaN          NaN  \n",
       "51522          NaN          NaN  \n",
       "51523          NaN          NaN  \n",
       "\n",
       "[51524 rows x 8 columns]"
      ]
     },
     "execution_count": 21,
     "metadata": {},
     "output_type": "execute_result"
    }
   ],
   "source": [
    "hrs_endpoints "
   ]
  },
  {
   "cell_type": "code",
   "execution_count": 22,
   "metadata": {
    "execution": {
     "iopub.execute_input": "2022-08-26T08:08:30.293584Z",
     "iopub.status.busy": "2022-08-26T08:08:30.293393Z",
     "iopub.status.idle": "2022-08-26T08:08:31.829157Z",
     "shell.execute_reply": "2022-08-26T08:08:31.828589Z",
     "shell.execute_reply.started": "2022-08-26T08:08:30.293572Z"
    },
    "tags": []
   },
   "outputs": [],
   "source": [
    "name = f\"hrs_endpoints\"\n",
    "hrs_endpoints.to_feather(f\"{experiment_path}/{name}.feather\")"
   ]
  },
  {
   "cell_type": "code",
   "execution_count": 23,
   "metadata": {
    "execution": {
     "iopub.execute_input": "2022-08-26T08:08:31.829964Z",
     "iopub.status.busy": "2022-08-26T08:08:31.829865Z",
     "iopub.status.idle": "2022-08-26T08:08:31.839460Z",
     "shell.execute_reply": "2022-08-26T08:08:31.839112Z",
     "shell.execute_reply.started": "2022-08-26T08:08:31.829951Z"
    }
   },
   "outputs": [
    {
     "data": {
      "text/html": [
       "<div>\n",
       "<style scoped>\n",
       "    .dataframe tbody tr th:only-of-type {\n",
       "        vertical-align: middle;\n",
       "    }\n",
       "\n",
       "    .dataframe tbody tr th {\n",
       "        vertical-align: top;\n",
       "    }\n",
       "\n",
       "    .dataframe thead th {\n",
       "        text-align: right;\n",
       "    }\n",
       "</style>\n",
       "<table border=\"1\" class=\"dataframe\">\n",
       "  <thead>\n",
       "    <tr style=\"text-align: right;\">\n",
       "      <th></th>\n",
       "      <th>endpoint</th>\n",
       "      <th>score</th>\n",
       "      <th>model</th>\n",
       "      <th>partition</th>\n",
       "      <th>hrs</th>\n",
       "      <th>hrs_ret</th>\n",
       "      <th>hrs_ret_age</th>\n",
       "      <th>hrs_ret_sex</th>\n",
       "    </tr>\n",
       "  </thead>\n",
       "  <tbody>\n",
       "    <tr>\n",
       "      <th>0</th>\n",
       "      <td>OMOP_4306655</td>\n",
       "      <td>Age+Sex+Retina</td>\n",
       "      <td>ImageTraining_[]_ConvNeXt_MLPHead_cropratio0.66</td>\n",
       "      <td>0</td>\n",
       "      <td>{'age': 1.137782875957632, 'sex_Male': 1.24623...</td>\n",
       "      <td>3.100709</td>\n",
       "      <td>NaN</td>\n",
       "      <td>NaN</td>\n",
       "    </tr>\n",
       "    <tr>\n",
       "      <th>1</th>\n",
       "      <td>OMOP_4306655</td>\n",
       "      <td>Age+Sex+Retina</td>\n",
       "      <td>ImageTraining_[]_ConvNeXt_MLPHead_cropratio0.66</td>\n",
       "      <td>1</td>\n",
       "      <td>{'age': 1.1780239695670347, 'sex_Male': 1.2153...</td>\n",
       "      <td>3.383124</td>\n",
       "      <td>NaN</td>\n",
       "      <td>NaN</td>\n",
       "    </tr>\n",
       "    <tr>\n",
       "      <th>2</th>\n",
       "      <td>OMOP_4306655</td>\n",
       "      <td>Age+Sex+Retina</td>\n",
       "      <td>ImageTraining_[]_ConvNeXt_MLPHead_cropratio0.66</td>\n",
       "      <td>2</td>\n",
       "      <td>{'age': 1.1374446248509327, 'sex_Male': 1.2811...</td>\n",
       "      <td>3.113029</td>\n",
       "      <td>NaN</td>\n",
       "      <td>NaN</td>\n",
       "    </tr>\n",
       "    <tr>\n",
       "      <th>3</th>\n",
       "      <td>OMOP_4306655</td>\n",
       "      <td>Age+Sex+Retina</td>\n",
       "      <td>ImageTraining_[]_ConvNeXt_MLPHead_cropratio0.66</td>\n",
       "      <td>3</td>\n",
       "      <td>{'age': 1.1229070711043536, 'sex_Male': 1.2095...</td>\n",
       "      <td>3.620588</td>\n",
       "      <td>NaN</td>\n",
       "      <td>NaN</td>\n",
       "    </tr>\n",
       "    <tr>\n",
       "      <th>4</th>\n",
       "      <td>OMOP_4306655</td>\n",
       "      <td>Age+Sex+Retina</td>\n",
       "      <td>ImageTraining_[]_ConvNeXt_MLPHead_cropratio0.66</td>\n",
       "      <td>4</td>\n",
       "      <td>{'age': 1.1950792070869727, 'sex_Male': 1.2735...</td>\n",
       "      <td>3.306554</td>\n",
       "      <td>NaN</td>\n",
       "      <td>NaN</td>\n",
       "    </tr>\n",
       "    <tr>\n",
       "      <th>...</th>\n",
       "      <td>...</td>\n",
       "      <td>...</td>\n",
       "      <td>...</td>\n",
       "      <td>...</td>\n",
       "      <td>...</td>\n",
       "      <td>...</td>\n",
       "      <td>...</td>\n",
       "      <td>...</td>\n",
       "    </tr>\n",
       "    <tr>\n",
       "      <th>51519</th>\n",
       "      <td>phecode_979</td>\n",
       "      <td>Retina</td>\n",
       "      <td>ImageTraining_[]_ConvNeXt_MLPHead_cropratio0.66</td>\n",
       "      <td>17</td>\n",
       "      <td>{'phecode_979': 2.943532412836608}</td>\n",
       "      <td>2.943532</td>\n",
       "      <td>NaN</td>\n",
       "      <td>NaN</td>\n",
       "    </tr>\n",
       "    <tr>\n",
       "      <th>51520</th>\n",
       "      <td>phecode_979</td>\n",
       "      <td>Retina</td>\n",
       "      <td>ImageTraining_[]_ConvNeXt_MLPHead_cropratio0.66</td>\n",
       "      <td>18</td>\n",
       "      <td>{'phecode_979': 0.0021000336856705666}</td>\n",
       "      <td>0.002100</td>\n",
       "      <td>NaN</td>\n",
       "      <td>NaN</td>\n",
       "    </tr>\n",
       "    <tr>\n",
       "      <th>51521</th>\n",
       "      <td>phecode_979</td>\n",
       "      <td>Retina</td>\n",
       "      <td>ImageTraining_[]_ConvNeXt_MLPHead_cropratio0.66</td>\n",
       "      <td>19</td>\n",
       "      <td>{'phecode_979': 2.889896522155389}</td>\n",
       "      <td>2.889897</td>\n",
       "      <td>NaN</td>\n",
       "      <td>NaN</td>\n",
       "    </tr>\n",
       "    <tr>\n",
       "      <th>51522</th>\n",
       "      <td>phecode_979</td>\n",
       "      <td>Retina</td>\n",
       "      <td>ImageTraining_[]_ConvNeXt_MLPHead_cropratio0.66</td>\n",
       "      <td>20</td>\n",
       "      <td>{'phecode_979': 3.087283843906024}</td>\n",
       "      <td>3.087284</td>\n",
       "      <td>NaN</td>\n",
       "      <td>NaN</td>\n",
       "    </tr>\n",
       "    <tr>\n",
       "      <th>51523</th>\n",
       "      <td>phecode_979</td>\n",
       "      <td>Retina</td>\n",
       "      <td>ImageTraining_[]_ConvNeXt_MLPHead_cropratio0.66</td>\n",
       "      <td>21</td>\n",
       "      <td>{'phecode_979': 2.9534110643041327}</td>\n",
       "      <td>2.953411</td>\n",
       "      <td>NaN</td>\n",
       "      <td>NaN</td>\n",
       "    </tr>\n",
       "  </tbody>\n",
       "</table>\n",
       "<p>51524 rows × 8 columns</p>\n",
       "</div>"
      ],
      "text/plain": [
       "           endpoint           score  \\\n",
       "0      OMOP_4306655  Age+Sex+Retina   \n",
       "1      OMOP_4306655  Age+Sex+Retina   \n",
       "2      OMOP_4306655  Age+Sex+Retina   \n",
       "3      OMOP_4306655  Age+Sex+Retina   \n",
       "4      OMOP_4306655  Age+Sex+Retina   \n",
       "...             ...             ...   \n",
       "51519   phecode_979          Retina   \n",
       "51520   phecode_979          Retina   \n",
       "51521   phecode_979          Retina   \n",
       "51522   phecode_979          Retina   \n",
       "51523   phecode_979          Retina   \n",
       "\n",
       "                                                 model partition  \\\n",
       "0      ImageTraining_[]_ConvNeXt_MLPHead_cropratio0.66         0   \n",
       "1      ImageTraining_[]_ConvNeXt_MLPHead_cropratio0.66         1   \n",
       "2      ImageTraining_[]_ConvNeXt_MLPHead_cropratio0.66         2   \n",
       "3      ImageTraining_[]_ConvNeXt_MLPHead_cropratio0.66         3   \n",
       "4      ImageTraining_[]_ConvNeXt_MLPHead_cropratio0.66         4   \n",
       "...                                                ...       ...   \n",
       "51519  ImageTraining_[]_ConvNeXt_MLPHead_cropratio0.66        17   \n",
       "51520  ImageTraining_[]_ConvNeXt_MLPHead_cropratio0.66        18   \n",
       "51521  ImageTraining_[]_ConvNeXt_MLPHead_cropratio0.66        19   \n",
       "51522  ImageTraining_[]_ConvNeXt_MLPHead_cropratio0.66        20   \n",
       "51523  ImageTraining_[]_ConvNeXt_MLPHead_cropratio0.66        21   \n",
       "\n",
       "                                                     hrs   hrs_ret  \\\n",
       "0      {'age': 1.137782875957632, 'sex_Male': 1.24623...  3.100709   \n",
       "1      {'age': 1.1780239695670347, 'sex_Male': 1.2153...  3.383124   \n",
       "2      {'age': 1.1374446248509327, 'sex_Male': 1.2811...  3.113029   \n",
       "3      {'age': 1.1229070711043536, 'sex_Male': 1.2095...  3.620588   \n",
       "4      {'age': 1.1950792070869727, 'sex_Male': 1.2735...  3.306554   \n",
       "...                                                  ...       ...   \n",
       "51519                 {'phecode_979': 2.943532412836608}  2.943532   \n",
       "51520             {'phecode_979': 0.0021000336856705666}  0.002100   \n",
       "51521                 {'phecode_979': 2.889896522155389}  2.889897   \n",
       "51522                 {'phecode_979': 3.087283843906024}  3.087284   \n",
       "51523                {'phecode_979': 2.9534110643041327}  2.953411   \n",
       "\n",
       "       hrs_ret_age  hrs_ret_sex  \n",
       "0              NaN          NaN  \n",
       "1              NaN          NaN  \n",
       "2              NaN          NaN  \n",
       "3              NaN          NaN  \n",
       "4              NaN          NaN  \n",
       "...            ...          ...  \n",
       "51519          NaN          NaN  \n",
       "51520          NaN          NaN  \n",
       "51521          NaN          NaN  \n",
       "51522          NaN          NaN  \n",
       "51523          NaN          NaN  \n",
       "\n",
       "[51524 rows x 8 columns]"
      ]
     },
     "execution_count": 23,
     "metadata": {},
     "output_type": "execute_result"
    }
   ],
   "source": [
    "hrs_endpoints"
   ]
  },
  {
   "cell_type": "code",
   "execution_count": 24,
   "metadata": {
    "execution": {
     "iopub.execute_input": "2022-08-26T08:08:31.840022Z",
     "iopub.status.busy": "2022-08-26T08:08:31.839930Z",
     "iopub.status.idle": "2022-08-26T08:08:33.429626Z",
     "shell.execute_reply": "2022-08-26T08:08:33.427035Z",
     "shell.execute_reply.started": "2022-08-26T08:08:31.840006Z"
    }
   },
   "outputs": [
    {
     "ename": "NameError",
     "evalue": "name 'cph' is not defined",
     "output_type": "error",
     "traceback": [
      "\u001b[0;31m---------------------------------------------------------------------------\u001b[0m",
      "\u001b[0;31mNameError\u001b[0m                                 Traceback (most recent call last)",
      "\u001b[0;32m/tmp/ipykernel_3587286/1653210156.py\u001b[0m in \u001b[0;36m<module>\u001b[0;34m\u001b[0m\n\u001b[0;32m----> 1\u001b[0;31m \u001b[0mcph\u001b[0m\u001b[0;34m.\u001b[0m\u001b[0mplot\u001b[0m\u001b[0;34m(\u001b[0m\u001b[0;34m)\u001b[0m\u001b[0;34m\u001b[0m\u001b[0;34m\u001b[0m\u001b[0m\n\u001b[0m",
      "\u001b[0;31mNameError\u001b[0m: name 'cph' is not defined"
     ]
    }
   ],
   "source": [
    "cph.plot()"
   ]
  },
  {
   "cell_type": "code",
   "execution_count": null,
   "metadata": {
    "execution": {
     "iopub.status.busy": "2022-08-26T08:08:33.430192Z",
     "iopub.status.idle": "2022-08-26T08:08:33.430353Z",
     "shell.execute_reply": "2022-08-26T08:08:33.430271Z",
     "shell.execute_reply.started": "2022-08-26T08:08:33.430263Z"
    }
   },
   "outputs": [],
   "source": [
    "#[[]]"
   ]
  },
  {
   "cell_type": "code",
   "execution_count": null,
   "metadata": {
    "execution": {
     "iopub.status.busy": "2022-08-26T08:08:33.430930Z",
     "iopub.status.idle": "2022-08-26T08:08:33.431071Z",
     "shell.execute_reply": "2022-08-26T08:08:33.430993Z",
     "shell.execute_reply.started": "2022-08-26T08:08:33.430986Z"
    }
   },
   "outputs": [],
   "source": [
    "cph.print_summary()"
   ]
  },
  {
   "cell_type": "code",
   "execution_count": null,
   "metadata": {},
   "outputs": [],
   "source": []
  }
 ],
 "metadata": {
  "kernelspec": {
   "display_name": "retrisk",
   "language": "python",
   "name": "retrisk"
  },
  "language_info": {
   "codemirror_mode": {
    "name": "ipython",
    "version": 3
   },
   "file_extension": ".py",
   "mimetype": "text/x-python",
   "name": "python",
   "nbconvert_exporter": "python",
   "pygments_lexer": "ipython3",
   "version": "3.9.7"
  },
  "toc-autonumbering": false
 },
 "nbformat": 4,
 "nbformat_minor": 4
}
