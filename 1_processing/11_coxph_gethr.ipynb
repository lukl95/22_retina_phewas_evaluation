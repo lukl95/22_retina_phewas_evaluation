{
 "cells": [
  {
   "cell_type": "markdown",
   "metadata": {},
   "source": [
    "# Benchmarks"
   ]
  },
  {
   "cell_type": "markdown",
   "metadata": {},
   "source": [
    "## Initialize"
   ]
  },
  {
   "cell_type": "code",
   "execution_count": 1,
   "metadata": {
    "tags": []
   },
   "outputs": [],
   "source": [
    "import os\n",
    "import math\n",
    "import pathlib\n",
    "import numpy as np\n",
    "import pandas as pd\n",
    "from tqdm.auto import tqdm\n",
    "from IPython.display import clear_output\n",
    "\n",
    "import warnings\n",
    "from lifelines.utils import CensoringType\n",
    "from lifelines.utils import concordance_index"
   ]
  },
  {
   "cell_type": "code",
   "execution_count": 2,
   "metadata": {
    "tags": []
   },
   "outputs": [
    {
     "name": "stdout",
     "output_type": "stream",
     "text": [
      "/sc-projects/sc-proj-ukb-cvd\n",
      "experiment path: /sc-projects/sc-proj-ukb-cvd/results/projects/22_retina_phewas/data/230905\n"
     ]
    }
   ],
   "source": [
    "node = !hostname\n",
    "if \"sc\" in node[0]:\n",
    "    base_path = \"/sc-projects/sc-proj-ukb-cvd\"\n",
    "else: \n",
    "    base_path = \"/data/analysis/ag-reils/ag-reils-shared/cardioRS\"\n",
    "print(base_path)\n",
    "\n",
    "project_label = \"22_retina_phewas\"\n",
    "project_path = f\"{base_path}/results/projects/{project_label}\"\n",
    "figure_path = f\"{project_path}/figures\"\n",
    "output_path = f\"{project_path}/data\"\n",
    "\n",
    "pathlib.Path(figure_path).mkdir(parents=True, exist_ok=True)\n",
    "pathlib.Path(output_path).mkdir(parents=True, exist_ok=True)\n",
    "\n",
    "experiment = '230905'\n",
    "experiment_path = f\"{output_path}/{experiment}\"\n",
    "print('experiment path:', experiment_path)\n",
    "pathlib.Path(experiment_path).mkdir(parents=True, exist_ok=True)\n",
    "\n",
    "name_dict = {\n",
    "#     \"predictions_cropratio0.3\": \"ConvNextSmall(Retina)+MLP_cropratio0.3\",\n",
    "#     \"predictions_cropratio0.5\": \"ConvNextSmall(Retina)+MLP_cropratio0.5\",\n",
    "#    \"predictions_cropratio0.66\": \"ConvNextSmall(Retina)+MLP_cropratio0.66\",\n",
    "    \"predictions\": \"ConvNextSmall(Retina)+MLP_cropratio0.66\",\n",
    "}\n",
    "\n",
    "#partitions = [i for i in range(22)]\n",
    "partitions = [4, 5, 7, 9, 10, 20] # Partitions with eye test centers"
   ]
  },
  {
   "cell_type": "code",
   "execution_count": 3,
   "metadata": {
    "tags": []
   },
   "outputs": [],
   "source": [
    "today = '230905'"
   ]
  },
  {
   "cell_type": "code",
   "execution_count": 4,
   "metadata": {
    "tags": []
   },
   "outputs": [],
   "source": [
    "splits = [\"train\", \"valid\", 'test'] # \"test_left\", 'test_right']"
   ]
  },
  {
   "cell_type": "code",
   "execution_count": 5,
   "metadata": {
    "tags": []
   },
   "outputs": [],
   "source": [
    "import pandas as pd\n",
    "endpoints = sorted([l.replace('_prevalent', '') for l in list(pd.read_csv(f'/sc-projects/sc-proj-ukb-cvd/results/projects/{project_label}/data/{today}/endpoints.csv').endpoint.values)])"
   ]
  },
  {
   "cell_type": "code",
   "execution_count": 6,
   "metadata": {
    "tags": []
   },
   "outputs": [],
   "source": [
    "endpoint_defs = pd.read_feather(f\"{output_path}/phecode_defs_220306.feather\").query(\"endpoint==@endpoints\").sort_values(\"endpoint\").set_index(\"endpoint\")"
   ]
  },
  {
   "cell_type": "code",
   "execution_count": 7,
   "metadata": {
    "tags": []
   },
   "outputs": [],
   "source": [
    "from datetime import date\n",
    "today = str(date.today()) if today is None else today\n"
   ]
  },
  {
   "cell_type": "code",
   "execution_count": 8,
   "metadata": {
    "tags": []
   },
   "outputs": [],
   "source": [
    "eligable_eids = pd.read_feather(f\"{output_path}/eligable_eids_{today}.feather\")\n",
    "eids_dict = eligable_eids.set_index(\"endpoint\")[\"eid_list\"].to_dict()"
   ]
  },
  {
   "cell_type": "code",
   "execution_count": 9,
   "metadata": {
    "tags": []
   },
   "outputs": [
    {
     "name": "stdout",
     "output_type": "stream",
     "text": [
      "env: MKL_NUM_THREADS=4\n",
      "env: NUMEXPR_NUM_THREADS=4\n",
      "env: OMP_NUM_THREADS=4\n"
     ]
    }
   ],
   "source": [
    "%env MKL_NUM_THREADS=4\n",
    "%env NUMEXPR_NUM_THREADS=4\n",
    "%env OMP_NUM_THREADS=4"
   ]
  },
  {
   "cell_type": "code",
   "execution_count": 10,
   "metadata": {
    "tags": []
   },
   "outputs": [],
   "source": [
    "#ray.shutdown()"
   ]
  },
  {
   "cell_type": "code",
   "execution_count": 11,
   "metadata": {
    "tags": []
   },
   "outputs": [
    {
     "data": {
      "text/plain": [
       "RayContext(dashboard_url='', python_version='3.9.7', ray_version='1.12.1', ray_commit='4863e33856b54ccf8add5cbe75e41558850a1b75', address_info={'node_ip_address': '10.32.105.11', 'raylet_ip_address': '10.32.105.11', 'redis_address': None, 'object_store_address': '/tmp/ray/session_2023-09-18_10-36-25_224260_1575641/sockets/plasma_store', 'raylet_socket_name': '/tmp/ray/session_2023-09-18_10-36-25_224260_1575641/sockets/raylet', 'webui_url': '', 'session_dir': '/tmp/ray/session_2023-09-18_10-36-25_224260_1575641', 'metrics_export_port': 61019, 'gcs_address': '10.32.105.11:54073', 'address': '10.32.105.11:54073', 'node_id': '3c1dad185cfac0983bbff68de812423019b09f8e1be4016054d03f07'})"
      ]
     },
     "execution_count": 11,
     "metadata": {},
     "output_type": "execute_result"
    }
   ],
   "source": [
    "import ray\n",
    "#ray.init(address='auto') #, dashboard_port=24762, dashboard_host=\"0.0.0.0\", include_dashboard=True)#, webui_url=\"0.0.0.0\"))\n",
    "ray.init(num_cpus=16)"
   ]
  },
  {
   "cell_type": "markdown",
   "metadata": {},
   "source": [
    "# Load COX predictions"
   ]
  },
  {
   "cell_type": "code",
   "execution_count": 12,
   "metadata": {
    "tags": []
   },
   "outputs": [],
   "source": [
    "in_path = pathlib.Path(f\"{experiment_path}/coxph/input\")\n",
    "model_path = f\"{experiment_path}/coxph/models\"\n",
    "\n",
    "out_path = f\"{experiment_path}/coxph/predictions\"\n",
    "pathlib.Path(out_path).mkdir(parents=True, exist_ok=True)"
   ]
  },
  {
   "cell_type": "code",
   "execution_count": 13,
   "metadata": {
    "tags": []
   },
   "outputs": [],
   "source": [
    "import pickle\n",
    "import zstandard\n",
    "\n",
    "def load_pickle(fp):\n",
    "    with open(fp, \"rb\") as fh:\n",
    "        dctx = zstandard.ZstdDecompressor()\n",
    "        with dctx.stream_reader(fh) as decompressor:\n",
    "            data = pickle.loads(decompressor.read())\n",
    "    return data"
   ]
  },
  {
   "cell_type": "code",
   "execution_count": 14,
   "metadata": {
    "tags": []
   },
   "outputs": [
    {
     "data": {
      "text/html": [
       "<div>\n",
       "<style scoped>\n",
       "    .dataframe tbody tr th:only-of-type {\n",
       "        vertical-align: middle;\n",
       "    }\n",
       "\n",
       "    .dataframe tbody tr th {\n",
       "        vertical-align: top;\n",
       "    }\n",
       "\n",
       "    .dataframe thead th {\n",
       "        text-align: right;\n",
       "    }\n",
       "</style>\n",
       "<table border=\"1\" class=\"dataframe\">\n",
       "  <thead>\n",
       "    <tr style=\"text-align: right;\">\n",
       "      <th></th>\n",
       "      <th>endpoint</th>\n",
       "      <th>score</th>\n",
       "      <th>model</th>\n",
       "      <th>partition</th>\n",
       "      <th>path</th>\n",
       "    </tr>\n",
       "  </thead>\n",
       "  <tbody>\n",
       "    <tr>\n",
       "      <th>0</th>\n",
       "      <td>OMOP_4306655</td>\n",
       "      <td>ASCVD+Retina</td>\n",
       "      <td>ImageTraining_[]_ConvNeXt_MLPHead_predictions</td>\n",
       "      <td>4</td>\n",
       "      <td>OMOP_4306655_ASCVD+Retina_ImageTraining_[]_Con...</td>\n",
       "    </tr>\n",
       "    <tr>\n",
       "      <th>1</th>\n",
       "      <td>OMOP_4306655</td>\n",
       "      <td>ASCVD+Retina</td>\n",
       "      <td>ImageTraining_[]_ConvNeXt_MLPHead_predictions</td>\n",
       "      <td>5</td>\n",
       "      <td>OMOP_4306655_ASCVD+Retina_ImageTraining_[]_Con...</td>\n",
       "    </tr>\n",
       "    <tr>\n",
       "      <th>2</th>\n",
       "      <td>OMOP_4306655</td>\n",
       "      <td>ASCVD+Retina</td>\n",
       "      <td>ImageTraining_[]_ConvNeXt_MLPHead_predictions</td>\n",
       "      <td>7</td>\n",
       "      <td>OMOP_4306655_ASCVD+Retina_ImageTraining_[]_Con...</td>\n",
       "    </tr>\n",
       "    <tr>\n",
       "      <th>3</th>\n",
       "      <td>OMOP_4306655</td>\n",
       "      <td>ASCVD+Retina</td>\n",
       "      <td>ImageTraining_[]_ConvNeXt_MLPHead_predictions</td>\n",
       "      <td>9</td>\n",
       "      <td>OMOP_4306655_ASCVD+Retina_ImageTraining_[]_Con...</td>\n",
       "    </tr>\n",
       "    <tr>\n",
       "      <th>4</th>\n",
       "      <td>OMOP_4306655</td>\n",
       "      <td>ASCVD+Retina</td>\n",
       "      <td>ImageTraining_[]_ConvNeXt_MLPHead_predictions</td>\n",
       "      <td>10</td>\n",
       "      <td>OMOP_4306655_ASCVD+Retina_ImageTraining_[]_Con...</td>\n",
       "    </tr>\n",
       "    <tr>\n",
       "      <th>...</th>\n",
       "      <td>...</td>\n",
       "      <td>...</td>\n",
       "      <td>...</td>\n",
       "      <td>...</td>\n",
       "      <td>...</td>\n",
       "    </tr>\n",
       "    <tr>\n",
       "      <th>22555</th>\n",
       "      <td>phecode_997</td>\n",
       "      <td>SCORE2+Retina</td>\n",
       "      <td>ImageTraining_[]_ConvNeXt_MLPHead_predictions</td>\n",
       "      <td>5</td>\n",
       "      <td>phecode_997_SCORE2+Retina_ImageTraining_[]_Con...</td>\n",
       "    </tr>\n",
       "    <tr>\n",
       "      <th>22556</th>\n",
       "      <td>phecode_997</td>\n",
       "      <td>SCORE2+Retina</td>\n",
       "      <td>ImageTraining_[]_ConvNeXt_MLPHead_predictions</td>\n",
       "      <td>7</td>\n",
       "      <td>phecode_997_SCORE2+Retina_ImageTraining_[]_Con...</td>\n",
       "    </tr>\n",
       "    <tr>\n",
       "      <th>22557</th>\n",
       "      <td>phecode_997</td>\n",
       "      <td>SCORE2+Retina</td>\n",
       "      <td>ImageTraining_[]_ConvNeXt_MLPHead_predictions</td>\n",
       "      <td>9</td>\n",
       "      <td>phecode_997_SCORE2+Retina_ImageTraining_[]_Con...</td>\n",
       "    </tr>\n",
       "    <tr>\n",
       "      <th>22558</th>\n",
       "      <td>phecode_997</td>\n",
       "      <td>SCORE2+Retina</td>\n",
       "      <td>ImageTraining_[]_ConvNeXt_MLPHead_predictions</td>\n",
       "      <td>10</td>\n",
       "      <td>phecode_997_SCORE2+Retina_ImageTraining_[]_Con...</td>\n",
       "    </tr>\n",
       "    <tr>\n",
       "      <th>22559</th>\n",
       "      <td>phecode_997</td>\n",
       "      <td>SCORE2+Retina</td>\n",
       "      <td>ImageTraining_[]_ConvNeXt_MLPHead_predictions</td>\n",
       "      <td>20</td>\n",
       "      <td>phecode_997_SCORE2+Retina_ImageTraining_[]_Con...</td>\n",
       "    </tr>\n",
       "  </tbody>\n",
       "</table>\n",
       "<p>22560 rows × 5 columns</p>\n",
       "</div>"
      ],
      "text/plain": [
       "           endpoint          score  \\\n",
       "0      OMOP_4306655   ASCVD+Retina   \n",
       "1      OMOP_4306655   ASCVD+Retina   \n",
       "2      OMOP_4306655   ASCVD+Retina   \n",
       "3      OMOP_4306655   ASCVD+Retina   \n",
       "4      OMOP_4306655   ASCVD+Retina   \n",
       "...             ...            ...   \n",
       "22555   phecode_997  SCORE2+Retina   \n",
       "22556   phecode_997  SCORE2+Retina   \n",
       "22557   phecode_997  SCORE2+Retina   \n",
       "22558   phecode_997  SCORE2+Retina   \n",
       "22559   phecode_997  SCORE2+Retina   \n",
       "\n",
       "                                               model  partition  \\\n",
       "0      ImageTraining_[]_ConvNeXt_MLPHead_predictions          4   \n",
       "1      ImageTraining_[]_ConvNeXt_MLPHead_predictions          5   \n",
       "2      ImageTraining_[]_ConvNeXt_MLPHead_predictions          7   \n",
       "3      ImageTraining_[]_ConvNeXt_MLPHead_predictions          9   \n",
       "4      ImageTraining_[]_ConvNeXt_MLPHead_predictions         10   \n",
       "...                                              ...        ...   \n",
       "22555  ImageTraining_[]_ConvNeXt_MLPHead_predictions          5   \n",
       "22556  ImageTraining_[]_ConvNeXt_MLPHead_predictions          7   \n",
       "22557  ImageTraining_[]_ConvNeXt_MLPHead_predictions          9   \n",
       "22558  ImageTraining_[]_ConvNeXt_MLPHead_predictions         10   \n",
       "22559  ImageTraining_[]_ConvNeXt_MLPHead_predictions         20   \n",
       "\n",
       "                                                    path  \n",
       "0      OMOP_4306655_ASCVD+Retina_ImageTraining_[]_Con...  \n",
       "1      OMOP_4306655_ASCVD+Retina_ImageTraining_[]_Con...  \n",
       "2      OMOP_4306655_ASCVD+Retina_ImageTraining_[]_Con...  \n",
       "3      OMOP_4306655_ASCVD+Retina_ImageTraining_[]_Con...  \n",
       "4      OMOP_4306655_ASCVD+Retina_ImageTraining_[]_Con...  \n",
       "...                                                  ...  \n",
       "22555  phecode_997_SCORE2+Retina_ImageTraining_[]_Con...  \n",
       "22556  phecode_997_SCORE2+Retina_ImageTraining_[]_Con...  \n",
       "22557  phecode_997_SCORE2+Retina_ImageTraining_[]_Con...  \n",
       "22558  phecode_997_SCORE2+Retina_ImageTraining_[]_Con...  \n",
       "22559  phecode_997_SCORE2+Retina_ImageTraining_[]_Con...  \n",
       "\n",
       "[22560 rows x 5 columns]"
      ]
     },
     "execution_count": 14,
     "metadata": {},
     "output_type": "execute_result"
    }
   ],
   "source": [
    "cox_paths = !ls $model_path\n",
    "cox_paths = [p for p in cox_paths if \"_Retina\" in p or \"+Retina\" in p or \"I(\" in p]\n",
    "cox = pd.Series(cox_paths).str.split(\"_\", expand=True)\\\n",
    "    .assign(path = cox_paths)\\\n",
    "    .assign(endpoint = lambda x: x[0]+\"_\"+x[1])\\\n",
    "    .assign(score = lambda x: x[2])\\\n",
    "    .assign(model = lambda x: x[3]+\"_\"+x[4]+\"_\"+x[5]+\"_\"+x[6]+\"_\"+x[7])\\\n",
    "    .assign(partition = lambda x: x[8].str.replace(\".p\", \"\", regex=True).astype(int))\\\n",
    "    [[\"endpoint\", \"score\", \"model\", \"partition\", \"path\"]].sort_values([\"endpoint\", \"score\", \"partition\"])\\\n",
    "    .query(\"endpoint ==@ endpoints\")\\\n",
    "    .reset_index(drop=True)\n",
    "cox"
   ]
  },
  {
   "cell_type": "raw",
   "metadata": {
    "execution": {
     "iopub.execute_input": "2022-04-21T12:03:31.795593Z",
     "iopub.status.busy": "2022-04-21T12:03:31.795400Z",
     "iopub.status.idle": "2022-04-21T12:03:31.801297Z",
     "shell.execute_reply": "2022-04-21T12:03:31.800939Z",
     "shell.execute_reply.started": "2022-04-21T12:03:31.795581Z"
    },
    "tags": []
   },
   "source": [
    "cox = cox.query(\"endpoint == 'phecode_101-8'\")#&score=='Age+Sex+MedicalHistory+I(Age*MH)'\")"
   ]
  },
  {
   "cell_type": "code",
   "execution_count": 15,
   "metadata": {
    "tags": []
   },
   "outputs": [],
   "source": [
    "#endpoints = sorted(cox.endpoint.unique().tolist())\n",
    "scores = sorted(cox.score.unique().tolist())\n",
    "partitions = sorted(cox.partition.unique().tolist())"
   ]
  },
  {
   "cell_type": "code",
   "execution_count": 16,
   "metadata": {
    "tags": []
   },
   "outputs": [],
   "source": [
    "#import ray\n",
    "\n",
    "@ray.remote\n",
    "def get_cox_info(p):\n",
    "    cph = load_pickle(f\"{model_path}/{p}\")\n",
    "    p_split = p.split(\"_\")\n",
    "    endpoint = f\"{p_split[0]}_{p_split[1]}\"\n",
    "    score = p_split[2]\n",
    "    model = p_split[3]+\"_\"+p_split[4]+\"_\"+p_split[5]+\"_\"+p_split[6]+\"_\"+p_split[7]\n",
    "    partition = p_split[8].replace(\".p\", \"\")\n",
    "    hrs = cph.hazard_ratios_.to_dict()\n",
    "    \n",
    "    if score==\"Age+Sex+MedicalHistory+I(Age*MH)\":\n",
    "        hr_ret = hrs[endpoint.replace(\"-\", \"\")]\n",
    "        \n",
    "        key_int_age = [k for k in hrs if \"age_at_recruitment_f21022_0_0\" in k and endpoint.replace(\"-\", \"\") in k][0]\n",
    "        hr_ret_age = hrs[key_int_age]\n",
    "        \n",
    "        try:\n",
    "            key_int_sex = [k for k in hrs if \"sex_f31_0_0\" in k and endpoint.replace(\"-\", \"\") in k][0]\n",
    "            hr_ret_sex = hrs[key_int_sex]\n",
    "        except:\n",
    "            hr_ret_sex = np.nan\n",
    "    else:\n",
    "        hr_ret = hrs[endpoint] \n",
    "        hr_ret_age = np.nan\n",
    "        hr_ret_sex = np.nan\n",
    "        \n",
    "    return {\"endpoint\": endpoint, \n",
    "            \"score\": score, \n",
    "            \"model\": model,\n",
    "            \"partition\": partition, \n",
    "            \"hrs\": hrs, \n",
    "            \"hrs_ret\": hr_ret, \n",
    "            \"hrs_ret_age\": hr_ret_age, \n",
    "            \"hrs_ret_sex\": hr_ret_sex\n",
    "           }"
   ]
  },
  {
   "cell_type": "code",
   "execution_count": 17,
   "metadata": {
    "tags": []
   },
   "outputs": [
    {
     "data": {
      "application/vnd.jupyter.widget-view+json": {
       "model_id": "486a1b51fddb45ddaa009d92bac01ac9",
       "version_major": 2,
       "version_minor": 0
      },
      "text/plain": [
       "  0%|          | 0/22560 [00:00<?, ?it/s]"
      ]
     },
     "metadata": {},
     "output_type": "display_data"
    }
   ],
   "source": [
    "rows = []\n",
    "\n",
    "for p in tqdm(cox.path.tolist()):\n",
    "    rows.append(get_cox_info.remote(p))"
   ]
  },
  {
   "cell_type": "code",
   "execution_count": 18,
   "metadata": {
    "tags": []
   },
   "outputs": [
    {
     "data": {
      "application/vnd.jupyter.widget-view+json": {
       "model_id": "d6b3ece15afa4df481e54b17ee176fe8",
       "version_major": 2,
       "version_minor": 0
      },
      "text/plain": [
       "  0%|          | 0/22560 [00:00<?, ?it/s]"
      ]
     },
     "metadata": {},
     "output_type": "display_data"
    }
   ],
   "source": [
    "rows = [ray.get(r) for r in tqdm(rows)]"
   ]
  },
  {
   "cell_type": "code",
   "execution_count": 19,
   "metadata": {
    "tags": []
   },
   "outputs": [
    {
     "data": {
      "text/plain": [
       "{'endpoint': 'OMOP_4306655',\n",
       " 'score': 'Age+Sex+Retina',\n",
       " 'model': 'ImageTraining_[]_ConvNeXt_MLPHead_predictions',\n",
       " 'partition': '10',\n",
       " 'hrs': {'age': 1.2767926173525,\n",
       "  'sex_Male': 1.490091219292325,\n",
       "  'OMOP_4306655': 3.328164413075899},\n",
       " 'hrs_ret': 3.328164413075899,\n",
       " 'hrs_ret_age': nan,\n",
       " 'hrs_ret_sex': nan}"
      ]
     },
     "execution_count": 19,
     "metadata": {},
     "output_type": "execute_result"
    }
   ],
   "source": [
    "rows[10]"
   ]
  },
  {
   "cell_type": "code",
   "execution_count": 20,
   "metadata": {
    "tags": []
   },
   "outputs": [],
   "source": [
    "hrs_endpoints = pd.DataFrame({}).append(rows, ignore_index=True)"
   ]
  },
  {
   "cell_type": "code",
   "execution_count": 21,
   "metadata": {
    "tags": []
   },
   "outputs": [
    {
     "data": {
      "text/html": [
       "<div>\n",
       "<style scoped>\n",
       "    .dataframe tbody tr th:only-of-type {\n",
       "        vertical-align: middle;\n",
       "    }\n",
       "\n",
       "    .dataframe tbody tr th {\n",
       "        vertical-align: top;\n",
       "    }\n",
       "\n",
       "    .dataframe thead th {\n",
       "        text-align: right;\n",
       "    }\n",
       "</style>\n",
       "<table border=\"1\" class=\"dataframe\">\n",
       "  <thead>\n",
       "    <tr style=\"text-align: right;\">\n",
       "      <th></th>\n",
       "      <th>endpoint</th>\n",
       "      <th>score</th>\n",
       "      <th>model</th>\n",
       "      <th>partition</th>\n",
       "      <th>hrs</th>\n",
       "      <th>hrs_ret</th>\n",
       "      <th>hrs_ret_age</th>\n",
       "      <th>hrs_ret_sex</th>\n",
       "    </tr>\n",
       "  </thead>\n",
       "  <tbody>\n",
       "    <tr>\n",
       "      <th>0</th>\n",
       "      <td>OMOP_4306655</td>\n",
       "      <td>ASCVD+Retina</td>\n",
       "      <td>ImageTraining_[]_ConvNeXt_MLPHead_predictions</td>\n",
       "      <td>4</td>\n",
       "      <td>{'age': 1.3743899847208205, 'sex_Male': 1.2559...</td>\n",
       "      <td>2.689602</td>\n",
       "      <td>NaN</td>\n",
       "      <td>NaN</td>\n",
       "    </tr>\n",
       "    <tr>\n",
       "      <th>1</th>\n",
       "      <td>OMOP_4306655</td>\n",
       "      <td>ASCVD+Retina</td>\n",
       "      <td>ImageTraining_[]_ConvNeXt_MLPHead_predictions</td>\n",
       "      <td>5</td>\n",
       "      <td>{'age': 1.4148546850313075, 'sex_Male': 1.2714...</td>\n",
       "      <td>2.704538</td>\n",
       "      <td>NaN</td>\n",
       "      <td>NaN</td>\n",
       "    </tr>\n",
       "    <tr>\n",
       "      <th>2</th>\n",
       "      <td>OMOP_4306655</td>\n",
       "      <td>ASCVD+Retina</td>\n",
       "      <td>ImageTraining_[]_ConvNeXt_MLPHead_predictions</td>\n",
       "      <td>7</td>\n",
       "      <td>{'age': 1.5515199437202438, 'sex_Male': 1.2752...</td>\n",
       "      <td>2.141984</td>\n",
       "      <td>NaN</td>\n",
       "      <td>NaN</td>\n",
       "    </tr>\n",
       "    <tr>\n",
       "      <th>3</th>\n",
       "      <td>OMOP_4306655</td>\n",
       "      <td>ASCVD+Retina</td>\n",
       "      <td>ImageTraining_[]_ConvNeXt_MLPHead_predictions</td>\n",
       "      <td>9</td>\n",
       "      <td>{'age': 1.408388416455127, 'sex_Male': 1.23747...</td>\n",
       "      <td>2.777396</td>\n",
       "      <td>NaN</td>\n",
       "      <td>NaN</td>\n",
       "    </tr>\n",
       "    <tr>\n",
       "      <th>4</th>\n",
       "      <td>OMOP_4306655</td>\n",
       "      <td>ASCVD+Retina</td>\n",
       "      <td>ImageTraining_[]_ConvNeXt_MLPHead_predictions</td>\n",
       "      <td>10</td>\n",
       "      <td>{'age': 1.3331989378780975, 'sex_Male': 1.2634...</td>\n",
       "      <td>2.966433</td>\n",
       "      <td>NaN</td>\n",
       "      <td>NaN</td>\n",
       "    </tr>\n",
       "    <tr>\n",
       "      <th>...</th>\n",
       "      <td>...</td>\n",
       "      <td>...</td>\n",
       "      <td>...</td>\n",
       "      <td>...</td>\n",
       "      <td>...</td>\n",
       "      <td>...</td>\n",
       "      <td>...</td>\n",
       "      <td>...</td>\n",
       "    </tr>\n",
       "    <tr>\n",
       "      <th>22555</th>\n",
       "      <td>phecode_997</td>\n",
       "      <td>SCORE2+Retina</td>\n",
       "      <td>ImageTraining_[]_ConvNeXt_MLPHead_predictions</td>\n",
       "      <td>5</td>\n",
       "      <td>{'age': 1.1887971840256635, 'sex_Male': 0.6322...</td>\n",
       "      <td>3.853138</td>\n",
       "      <td>NaN</td>\n",
       "      <td>NaN</td>\n",
       "    </tr>\n",
       "    <tr>\n",
       "      <th>22556</th>\n",
       "      <td>phecode_997</td>\n",
       "      <td>SCORE2+Retina</td>\n",
       "      <td>ImageTraining_[]_ConvNeXt_MLPHead_predictions</td>\n",
       "      <td>7</td>\n",
       "      <td>{'age': 1.3487486636709136, 'sex_Male': 0.6066...</td>\n",
       "      <td>3.471968</td>\n",
       "      <td>NaN</td>\n",
       "      <td>NaN</td>\n",
       "    </tr>\n",
       "    <tr>\n",
       "      <th>22557</th>\n",
       "      <td>phecode_997</td>\n",
       "      <td>SCORE2+Retina</td>\n",
       "      <td>ImageTraining_[]_ConvNeXt_MLPHead_predictions</td>\n",
       "      <td>9</td>\n",
       "      <td>{'age': 1.2147138678134335, 'sex_Male': 0.6011...</td>\n",
       "      <td>3.948018</td>\n",
       "      <td>NaN</td>\n",
       "      <td>NaN</td>\n",
       "    </tr>\n",
       "    <tr>\n",
       "      <th>22558</th>\n",
       "      <td>phecode_997</td>\n",
       "      <td>SCORE2+Retina</td>\n",
       "      <td>ImageTraining_[]_ConvNeXt_MLPHead_predictions</td>\n",
       "      <td>10</td>\n",
       "      <td>{'age': 1.1388850124469634, 'sex_Male': 0.6427...</td>\n",
       "      <td>4.313317</td>\n",
       "      <td>NaN</td>\n",
       "      <td>NaN</td>\n",
       "    </tr>\n",
       "    <tr>\n",
       "      <th>22559</th>\n",
       "      <td>phecode_997</td>\n",
       "      <td>SCORE2+Retina</td>\n",
       "      <td>ImageTraining_[]_ConvNeXt_MLPHead_predictions</td>\n",
       "      <td>20</td>\n",
       "      <td>{'age': 1.239494079470857, 'sex_Male': 0.60841...</td>\n",
       "      <td>3.609578</td>\n",
       "      <td>NaN</td>\n",
       "      <td>NaN</td>\n",
       "    </tr>\n",
       "  </tbody>\n",
       "</table>\n",
       "<p>22560 rows × 8 columns</p>\n",
       "</div>"
      ],
      "text/plain": [
       "           endpoint          score  \\\n",
       "0      OMOP_4306655   ASCVD+Retina   \n",
       "1      OMOP_4306655   ASCVD+Retina   \n",
       "2      OMOP_4306655   ASCVD+Retina   \n",
       "3      OMOP_4306655   ASCVD+Retina   \n",
       "4      OMOP_4306655   ASCVD+Retina   \n",
       "...             ...            ...   \n",
       "22555   phecode_997  SCORE2+Retina   \n",
       "22556   phecode_997  SCORE2+Retina   \n",
       "22557   phecode_997  SCORE2+Retina   \n",
       "22558   phecode_997  SCORE2+Retina   \n",
       "22559   phecode_997  SCORE2+Retina   \n",
       "\n",
       "                                               model partition  \\\n",
       "0      ImageTraining_[]_ConvNeXt_MLPHead_predictions         4   \n",
       "1      ImageTraining_[]_ConvNeXt_MLPHead_predictions         5   \n",
       "2      ImageTraining_[]_ConvNeXt_MLPHead_predictions         7   \n",
       "3      ImageTraining_[]_ConvNeXt_MLPHead_predictions         9   \n",
       "4      ImageTraining_[]_ConvNeXt_MLPHead_predictions        10   \n",
       "...                                              ...       ...   \n",
       "22555  ImageTraining_[]_ConvNeXt_MLPHead_predictions         5   \n",
       "22556  ImageTraining_[]_ConvNeXt_MLPHead_predictions         7   \n",
       "22557  ImageTraining_[]_ConvNeXt_MLPHead_predictions         9   \n",
       "22558  ImageTraining_[]_ConvNeXt_MLPHead_predictions        10   \n",
       "22559  ImageTraining_[]_ConvNeXt_MLPHead_predictions        20   \n",
       "\n",
       "                                                     hrs   hrs_ret  \\\n",
       "0      {'age': 1.3743899847208205, 'sex_Male': 1.2559...  2.689602   \n",
       "1      {'age': 1.4148546850313075, 'sex_Male': 1.2714...  2.704538   \n",
       "2      {'age': 1.5515199437202438, 'sex_Male': 1.2752...  2.141984   \n",
       "3      {'age': 1.408388416455127, 'sex_Male': 1.23747...  2.777396   \n",
       "4      {'age': 1.3331989378780975, 'sex_Male': 1.2634...  2.966433   \n",
       "...                                                  ...       ...   \n",
       "22555  {'age': 1.1887971840256635, 'sex_Male': 0.6322...  3.853138   \n",
       "22556  {'age': 1.3487486636709136, 'sex_Male': 0.6066...  3.471968   \n",
       "22557  {'age': 1.2147138678134335, 'sex_Male': 0.6011...  3.948018   \n",
       "22558  {'age': 1.1388850124469634, 'sex_Male': 0.6427...  4.313317   \n",
       "22559  {'age': 1.239494079470857, 'sex_Male': 0.60841...  3.609578   \n",
       "\n",
       "       hrs_ret_age  hrs_ret_sex  \n",
       "0              NaN          NaN  \n",
       "1              NaN          NaN  \n",
       "2              NaN          NaN  \n",
       "3              NaN          NaN  \n",
       "4              NaN          NaN  \n",
       "...            ...          ...  \n",
       "22555          NaN          NaN  \n",
       "22556          NaN          NaN  \n",
       "22557          NaN          NaN  \n",
       "22558          NaN          NaN  \n",
       "22559          NaN          NaN  \n",
       "\n",
       "[22560 rows x 8 columns]"
      ]
     },
     "execution_count": 21,
     "metadata": {},
     "output_type": "execute_result"
    }
   ],
   "source": [
    "hrs_endpoints "
   ]
  },
  {
   "cell_type": "code",
   "execution_count": 22,
   "metadata": {
    "tags": []
   },
   "outputs": [],
   "source": [
    "name = f\"hrs_endpoints\"\n",
    "hrs_endpoints.to_feather(f\"{experiment_path}/{name}.feather\")"
   ]
  },
  {
   "cell_type": "code",
   "execution_count": 22,
   "metadata": {
    "tags": []
   },
   "outputs": [
    {
     "ename": "NameError",
     "evalue": "name 'cph' is not defined",
     "output_type": "error",
     "traceback": [
      "\u001b[0;31m---------------------------------------------------------------------------\u001b[0m",
      "\u001b[0;31mNameError\u001b[0m                                 Traceback (most recent call last)",
      "\u001b[0;32m/tmp/ipykernel_428289/1653210156.py\u001b[0m in \u001b[0;36m<module>\u001b[0;34m\u001b[0m\n\u001b[0;32m----> 1\u001b[0;31m \u001b[0mcph\u001b[0m\u001b[0;34m.\u001b[0m\u001b[0mplot\u001b[0m\u001b[0;34m(\u001b[0m\u001b[0;34m)\u001b[0m\u001b[0;34m\u001b[0m\u001b[0;34m\u001b[0m\u001b[0m\n\u001b[0m",
      "\u001b[0;31mNameError\u001b[0m: name 'cph' is not defined"
     ]
    }
   ],
   "source": [
    "cph.plot()"
   ]
  },
  {
   "cell_type": "code",
   "execution_count": 23,
   "metadata": {
    "tags": []
   },
   "outputs": [],
   "source": [
    "#[[]]"
   ]
  },
  {
   "cell_type": "code",
   "execution_count": 24,
   "metadata": {
    "tags": []
   },
   "outputs": [
    {
     "ename": "NameError",
     "evalue": "name 'cph' is not defined",
     "output_type": "error",
     "traceback": [
      "\u001b[0;31m---------------------------------------------------------------------------\u001b[0m",
      "\u001b[0;31mNameError\u001b[0m                                 Traceback (most recent call last)",
      "\u001b[0;32m/tmp/ipykernel_428289/3526296742.py\u001b[0m in \u001b[0;36m<module>\u001b[0;34m\u001b[0m\n\u001b[0;32m----> 1\u001b[0;31m \u001b[0mcph\u001b[0m\u001b[0;34m.\u001b[0m\u001b[0mprint_summary\u001b[0m\u001b[0;34m(\u001b[0m\u001b[0;34m)\u001b[0m\u001b[0;34m\u001b[0m\u001b[0;34m\u001b[0m\u001b[0m\n\u001b[0m",
      "\u001b[0;31mNameError\u001b[0m: name 'cph' is not defined"
     ]
    }
   ],
   "source": [
    "cph.print_summary()"
   ]
  },
  {
   "cell_type": "code",
   "execution_count": null,
   "metadata": {},
   "outputs": [],
   "source": []
  }
 ],
 "metadata": {
  "kernelspec": {
   "display_name": "Python 3 (ipykernel)",
   "language": "python",
   "name": "python3"
  },
  "language_info": {
   "codemirror_mode": {
    "name": "ipython",
    "version": 3
   },
   "file_extension": ".py",
   "mimetype": "text/x-python",
   "name": "python",
   "nbconvert_exporter": "python",
   "pygments_lexer": "ipython3",
   "version": "3.9.7"
  },
  "toc-autonumbering": false
 },
 "nbformat": 4,
 "nbformat_minor": 4
}
