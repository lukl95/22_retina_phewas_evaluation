{
 "cells": [
  {
   "cell_type": "markdown",
   "metadata": {},
   "source": [
    "# Fit Cox Models"
   ]
  },
  {
   "cell_type": "markdown",
   "metadata": {},
   "source": [
    "## Initialize"
   ]
  },
  {
   "cell_type": "code",
   "execution_count": 1,
   "metadata": {
    "execution": {
     "iopub.execute_input": "2023-02-07T18:47:22.309665Z",
     "iopub.status.busy": "2023-02-07T18:47:22.309317Z",
     "iopub.status.idle": "2023-02-07T18:47:25.651398Z",
     "shell.execute_reply": "2023-02-07T18:47:25.650910Z",
     "shell.execute_reply.started": "2023-02-07T18:47:22.309611Z"
    },
    "tags": []
   },
   "outputs": [
    {
     "name": "stderr",
     "output_type": "stream",
     "text": [
      "/home/buergelt/miniconda3/envs/retrisk/lib/python3.9/site-packages/scipy/__init__.py:146: UserWarning: A NumPy version >=1.16.5 and <1.23.0 is required for this version of SciPy (detected version 1.23.5\n",
      "  warnings.warn(f\"A NumPy version >={np_minversion} and <{np_maxversion}\"\n"
     ]
    }
   ],
   "source": [
    "import os\n",
    "import math\n",
    "import pathlib\n",
    "import numpy as np\n",
    "import pandas as pd\n",
    "from tqdm.auto import tqdm\n",
    "from IPython.display import clear_output\n",
    "import ray\n",
    "import datetime\n",
    "import subprocess\n",
    "import warnings\n",
    "import lifelines\n",
    "from lifelines.utils import CensoringType\n",
    "from lifelines.utils import concordance_index"
   ]
  },
  {
   "cell_type": "code",
   "execution_count": 2,
   "metadata": {
    "execution": {
     "iopub.execute_input": "2023-02-07T18:47:25.652566Z",
     "iopub.status.busy": "2023-02-07T18:47:25.652444Z",
     "iopub.status.idle": "2023-02-07T18:47:25.659432Z",
     "shell.execute_reply": "2023-02-07T18:47:25.659093Z",
     "shell.execute_reply.started": "2023-02-07T18:47:25.652550Z"
    },
    "tags": []
   },
   "outputs": [
    {
     "data": {
      "text/plain": [
       "'0.26.4'"
      ]
     },
     "execution_count": 2,
     "metadata": {},
     "output_type": "execute_result"
    }
   ],
   "source": [
    "lifelines.__version__"
   ]
  },
  {
   "cell_type": "code",
   "execution_count": 3,
   "metadata": {
    "execution": {
     "iopub.execute_input": "2023-02-07T18:47:25.660028Z",
     "iopub.status.busy": "2023-02-07T18:47:25.659926Z",
     "iopub.status.idle": "2023-02-07T18:47:25.690710Z",
     "shell.execute_reply": "2023-02-07T18:47:25.690280Z",
     "shell.execute_reply.started": "2023-02-07T18:47:25.660015Z"
    },
    "tags": []
   },
   "outputs": [
    {
     "name": "stdout",
     "output_type": "stream",
     "text": [
      "/sc-projects/sc-proj-ukb-cvd\n"
     ]
    },
    {
     "data": {
      "text/plain": [
       "[0, 1, 2, 3, 4, 5, 6, 7, 8, 9, 10, 11, 12, 13, 14, 15, 16, 17, 18, 19, 20, 21]"
      ]
     },
     "execution_count": 3,
     "metadata": {},
     "output_type": "execute_result"
    }
   ],
   "source": [
    "node = !hostname\n",
    "if \"sc\" in node[0]:\n",
    "    base_path = \"/sc-projects/sc-proj-ukb-cvd\"\n",
    "else: \n",
    "    base_path = \"/data/analysis/ag-reils/ag-reils-shared/cardioRS\"\n",
    "print(base_path)\n",
    "\n",
    "project_label = \"22_retina_phewas\"\n",
    "project_path = f\"{base_path}/results/projects/{project_label}\"\n",
    "figure_path = f\"{project_path}/figures\"\n",
    "output_path = f\"{project_path}/data\"\n",
    "\n",
    "pathlib.Path(figure_path).mkdir(parents=True, exist_ok=True)\n",
    "pathlib.Path(output_path).mkdir(parents=True, exist_ok=True)\n",
    "\n",
    "experiment = '221108'\n",
    "experiment_path = f\"{output_path}/{experiment}\"\n",
    "pathlib.Path(experiment_path).mkdir(parents=True, exist_ok=True)\n",
    "\n",
    "\n",
    "USER = 'buergelt'\n",
    "BASE = pathlib.Path(f\"/home/{USER}/\")\n",
    "EXPERIMENT_NAME = '221108'\n",
    "#TEMPLATE_CONFIG = f\"{BASE}/config/\"  # template yaml to use\n",
    "TRAIN_SCRIPT = f\"{BASE}/projects/cardiors/code/22_retina_phewas_evaluation/1_processing/08_coxph_fit_partition_CVD.py\"\n",
    "#TRAIN_SCRIPT = f\"{BASE}/riskiano/riskiano/experiments/lukas/phewas/22_retina_phewas_notebooks/1_processing/08_coxph_fit_partition.py\"\n",
    "ACTIVATE_ENV_CMD = \"\"\"conda activate retrisk\"\"\"\n",
    "\n",
    "TAG = '230207'\n",
    "JOBNAME = 'fit_coxph_CVD'\n",
    "\n",
    "\n",
    "name_dict = {\n",
    "    \"predictions_cropratio0.66\": \"ConvNextSmall(Retina)+MLP_cropratio0.66\",\n",
    "}\n",
    "\n",
    "partitions = [i for i in range(22)]\n",
    "# partitions = [0]\n",
    "partitions"
   ]
  },
  {
   "cell_type": "code",
   "execution_count": 4,
   "metadata": {
    "execution": {
     "iopub.execute_input": "2023-02-07T18:47:25.691833Z",
     "iopub.status.busy": "2023-02-07T18:47:25.691506Z",
     "iopub.status.idle": "2023-02-07T18:47:25.693871Z",
     "shell.execute_reply": "2023-02-07T18:47:25.693515Z",
     "shell.execute_reply.started": "2023-02-07T18:47:25.691814Z"
    },
    "tags": []
   },
   "outputs": [],
   "source": [
    "today = '221108'"
   ]
  },
  {
   "cell_type": "code",
   "execution_count": null,
   "metadata": {},
   "outputs": [],
   "source": []
  },
  {
   "cell_type": "markdown",
   "metadata": {},
   "source": [
    "## Submit CoxPH Jobs"
   ]
  },
  {
   "cell_type": "code",
   "execution_count": 5,
   "metadata": {
    "execution": {
     "iopub.execute_input": "2023-02-07T18:47:25.695221Z",
     "iopub.status.busy": "2023-02-07T18:47:25.694960Z",
     "iopub.status.idle": "2023-02-07T18:47:25.709376Z",
     "shell.execute_reply": "2023-02-07T18:47:25.709014Z",
     "shell.execute_reply.started": "2023-02-07T18:47:25.695205Z"
    },
    "tags": []
   },
   "outputs": [],
   "source": [
    "os.makedirs(f\"/home/{USER}/tmp/{EXPERIMENT_NAME}/job_submissions\", exist_ok=True)\n",
    "os.makedirs(f\"/home/{USER}/tmp/{EXPERIMENT_NAME}/job_configs\", exist_ok=True)\n",
    "os.makedirs(f\"/home/{USER}/tmp/{EXPERIMENT_NAME}/job_outputs\", exist_ok=True)"
   ]
  },
  {
   "cell_type": "code",
   "execution_count": 6,
   "metadata": {
    "execution": {
     "iopub.execute_input": "2023-02-07T18:47:25.709997Z",
     "iopub.status.busy": "2023-02-07T18:47:25.709898Z",
     "iopub.status.idle": "2023-02-07T18:47:25.719210Z",
     "shell.execute_reply": "2023-02-07T18:47:25.718855Z",
     "shell.execute_reply.started": "2023-02-07T18:47:25.709984Z"
    },
    "tags": []
   },
   "outputs": [],
   "source": [
    "def make_job_script(user, job_name, partition):\n",
    "\n",
    "    job_script_str = (\n",
    "        f\"\"\"#!/bin/bash\n",
    "\n",
    "#SBATCH --job-name={job_name}  # Specify job name\n",
    "#SBATCH --nodes=1              # Specify number of nodes\n",
    "#SBATCH --mem=300G              # Specify number of nodes\n",
    "#SBATCH --time=2:00:00        # Set a limit on the total run time\n",
    "#SBATCH --tasks-per-node=1\n",
    "#SBATCH --exclusive\n",
    "\n",
    "source ~/miniconda3/etc/profile.d/conda.sh\n",
    "{ACTIVATE_ENV_CMD}\n",
    "\n",
    "ray start --head --port=6378 --num-cpus 16\n",
    "python {TRAIN_SCRIPT} {partition}\"\"\"\n",
    "            )\n",
    "\n",
    "    return job_script_str\n"
   ]
  },
  {
   "cell_type": "code",
   "execution_count": 7,
   "metadata": {
    "execution": {
     "iopub.execute_input": "2023-02-07T18:47:25.720004Z",
     "iopub.status.busy": "2023-02-07T18:47:25.719753Z",
     "iopub.status.idle": "2023-02-07T18:47:25.732232Z",
     "shell.execute_reply": "2023-02-07T18:47:25.731882Z",
     "shell.execute_reply.started": "2023-02-07T18:47:25.719988Z"
    },
    "tags": []
   },
   "outputs": [],
   "source": [
    "def submit(path, job_name, job_script, time_stamp=None):\n",
    "    if not time_stamp:\n",
    "        time_stamp = datetime.datetime.now().strftime(\"%Y-%m-%d_%H:%M:%S\")\n",
    "\n",
    "    script_path_long = f\"{path}/{job_name}_{time_stamp}.sh\"\n",
    "\n",
    "    with open(script_path_long, \"w\") as outfile:\n",
    "        outfile.write(job_script)\n",
    "    script_path = f\"{path}/{job_name}.sh\"\n",
    "    try:\n",
    "        os.unlink(script_path)\n",
    "    except FileNotFoundError:  # because we cannot overwrite symlinks directly\n",
    "        pass\n",
    "    os.symlink(os.path.realpath(script_path_long), script_path)\n",
    "\n",
    "    output_path = f\"/home/{USER}/tmp/{EXPERIMENT_NAME}/job_outputs/{job_name}\"\n",
    "\n",
    "    print(job_script)\n",
    "    print(\"\\n\\nSubmission:\\n===========\\n\")\n",
    "    sub_cmd = (\n",
    "        f\"sbatch --error={output_path}_%j_stderr.out --output={output_path}_%j_stdout.out <\"\n",
    "        f\" {script_path}\"\n",
    "    )\n",
    "    print(sub_cmd)\n",
    "\n",
    "    ret = subprocess.run(sub_cmd, shell=True, cwd=os.getcwd(), capture_output=True)\n",
    "    print(ret.stdout.decode())"
   ]
  },
  {
   "cell_type": "code",
   "execution_count": 8,
   "metadata": {
    "execution": {
     "iopub.execute_input": "2023-02-07T18:47:25.732996Z",
     "iopub.status.busy": "2023-02-07T18:47:25.732761Z",
     "iopub.status.idle": "2023-02-07T18:47:25.743591Z",
     "shell.execute_reply": "2023-02-07T18:47:25.743252Z",
     "shell.execute_reply.started": "2023-02-07T18:47:25.732981Z"
    },
    "tags": []
   },
   "outputs": [],
   "source": [
    "#partitions = [i for i in range(22)]"
   ]
  },
  {
   "cell_type": "code",
   "execution_count": 9,
   "metadata": {
    "execution": {
     "iopub.execute_input": "2023-02-07T18:47:25.744198Z",
     "iopub.status.busy": "2023-02-07T18:47:25.744100Z",
     "iopub.status.idle": "2023-02-07T18:47:27.135409Z",
     "shell.execute_reply": "2023-02-07T18:47:27.134838Z",
     "shell.execute_reply.started": "2023-02-07T18:47:25.744186Z"
    },
    "tags": []
   },
   "outputs": [
    {
     "name": "stdout",
     "output_type": "stream",
     "text": [
      "#!/bin/bash\n",
      "\n",
      "#SBATCH --job-name=fit_coxph_CVD  # Specify job name\n",
      "#SBATCH --nodes=1              # Specify number of nodes\n",
      "#SBATCH --mem=300G              # Specify number of nodes\n",
      "#SBATCH --time=2:00:00        # Set a limit on the total run time\n",
      "#SBATCH --tasks-per-node=1\n",
      "#SBATCH --exclusive\n",
      "\n",
      "source ~/miniconda3/etc/profile.d/conda.sh\n",
      "conda activate retrisk\n",
      "\n",
      "ray start --head --port=6378 --num-cpus 16\n",
      "python /home/buergelt/projects/cardiors/code/22_retina_phewas_evaluation/1_processing/08_coxph_fit_partition_CVD.py 0\n",
      "\n",
      "\n",
      "Submission:\n",
      "===========\n",
      "\n",
      "sbatch --error=/home/buergelt/tmp/221108/job_outputs/fit_coxph_CVD_0_%j_stderr.out --output=/home/buergelt/tmp/221108/job_outputs/fit_coxph_CVD_0_%j_stdout.out < /home/buergelt/tmp/221108/job_submissions/fit_coxph_CVD_0.sh\n",
      "Submitted batch job 769262\n",
      "\n",
      "#!/bin/bash\n",
      "\n",
      "#SBATCH --job-name=fit_coxph_CVD  # Specify job name\n",
      "#SBATCH --nodes=1              # Specify number of nodes\n",
      "#SBATCH --mem=300G              # Specify number of nodes\n",
      "#SBATCH --time=2:00:00        # Set a limit on the total run time\n",
      "#SBATCH --tasks-per-node=1\n",
      "#SBATCH --exclusive\n",
      "\n",
      "source ~/miniconda3/etc/profile.d/conda.sh\n",
      "conda activate retrisk\n",
      "\n",
      "ray start --head --port=6378 --num-cpus 16\n",
      "python /home/buergelt/projects/cardiors/code/22_retina_phewas_evaluation/1_processing/08_coxph_fit_partition_CVD.py 1\n",
      "\n",
      "\n",
      "Submission:\n",
      "===========\n",
      "\n",
      "sbatch --error=/home/buergelt/tmp/221108/job_outputs/fit_coxph_CVD_1_%j_stderr.out --output=/home/buergelt/tmp/221108/job_outputs/fit_coxph_CVD_1_%j_stdout.out < /home/buergelt/tmp/221108/job_submissions/fit_coxph_CVD_1.sh\n",
      "Submitted batch job 769263\n",
      "\n",
      "#!/bin/bash\n",
      "\n",
      "#SBATCH --job-name=fit_coxph_CVD  # Specify job name\n",
      "#SBATCH --nodes=1              # Specify number of nodes\n",
      "#SBATCH --mem=300G              # Specify number of nodes\n",
      "#SBATCH --time=2:00:00        # Set a limit on the total run time\n",
      "#SBATCH --tasks-per-node=1\n",
      "#SBATCH --exclusive\n",
      "\n",
      "source ~/miniconda3/etc/profile.d/conda.sh\n",
      "conda activate retrisk\n",
      "\n",
      "ray start --head --port=6378 --num-cpus 16\n",
      "python /home/buergelt/projects/cardiors/code/22_retina_phewas_evaluation/1_processing/08_coxph_fit_partition_CVD.py 2\n",
      "\n",
      "\n",
      "Submission:\n",
      "===========\n",
      "\n",
      "sbatch --error=/home/buergelt/tmp/221108/job_outputs/fit_coxph_CVD_2_%j_stderr.out --output=/home/buergelt/tmp/221108/job_outputs/fit_coxph_CVD_2_%j_stdout.out < /home/buergelt/tmp/221108/job_submissions/fit_coxph_CVD_2.sh\n",
      "Submitted batch job 769264\n",
      "\n",
      "#!/bin/bash\n",
      "\n",
      "#SBATCH --job-name=fit_coxph_CVD  # Specify job name\n",
      "#SBATCH --nodes=1              # Specify number of nodes\n",
      "#SBATCH --mem=300G              # Specify number of nodes\n",
      "#SBATCH --time=2:00:00        # Set a limit on the total run time\n",
      "#SBATCH --tasks-per-node=1\n",
      "#SBATCH --exclusive\n",
      "\n",
      "source ~/miniconda3/etc/profile.d/conda.sh\n",
      "conda activate retrisk\n",
      "\n",
      "ray start --head --port=6378 --num-cpus 16\n",
      "python /home/buergelt/projects/cardiors/code/22_retina_phewas_evaluation/1_processing/08_coxph_fit_partition_CVD.py 3\n",
      "\n",
      "\n",
      "Submission:\n",
      "===========\n",
      "\n",
      "sbatch --error=/home/buergelt/tmp/221108/job_outputs/fit_coxph_CVD_3_%j_stderr.out --output=/home/buergelt/tmp/221108/job_outputs/fit_coxph_CVD_3_%j_stdout.out < /home/buergelt/tmp/221108/job_submissions/fit_coxph_CVD_3.sh\n",
      "Submitted batch job 769265\n",
      "\n",
      "#!/bin/bash\n",
      "\n",
      "#SBATCH --job-name=fit_coxph_CVD  # Specify job name\n",
      "#SBATCH --nodes=1              # Specify number of nodes\n",
      "#SBATCH --mem=300G              # Specify number of nodes\n",
      "#SBATCH --time=2:00:00        # Set a limit on the total run time\n",
      "#SBATCH --tasks-per-node=1\n",
      "#SBATCH --exclusive\n",
      "\n",
      "source ~/miniconda3/etc/profile.d/conda.sh\n",
      "conda activate retrisk\n",
      "\n",
      "ray start --head --port=6378 --num-cpus 16\n",
      "python /home/buergelt/projects/cardiors/code/22_retina_phewas_evaluation/1_processing/08_coxph_fit_partition_CVD.py 4\n",
      "\n",
      "\n",
      "Submission:\n",
      "===========\n",
      "\n",
      "sbatch --error=/home/buergelt/tmp/221108/job_outputs/fit_coxph_CVD_4_%j_stderr.out --output=/home/buergelt/tmp/221108/job_outputs/fit_coxph_CVD_4_%j_stdout.out < /home/buergelt/tmp/221108/job_submissions/fit_coxph_CVD_4.sh\n",
      "Submitted batch job 769266\n",
      "\n",
      "#!/bin/bash\n",
      "\n",
      "#SBATCH --job-name=fit_coxph_CVD  # Specify job name\n",
      "#SBATCH --nodes=1              # Specify number of nodes\n",
      "#SBATCH --mem=300G              # Specify number of nodes\n",
      "#SBATCH --time=2:00:00        # Set a limit on the total run time\n",
      "#SBATCH --tasks-per-node=1\n",
      "#SBATCH --exclusive\n",
      "\n",
      "source ~/miniconda3/etc/profile.d/conda.sh\n",
      "conda activate retrisk\n",
      "\n",
      "ray start --head --port=6378 --num-cpus 16\n",
      "python /home/buergelt/projects/cardiors/code/22_retina_phewas_evaluation/1_processing/08_coxph_fit_partition_CVD.py 5\n",
      "\n",
      "\n",
      "Submission:\n",
      "===========\n",
      "\n",
      "sbatch --error=/home/buergelt/tmp/221108/job_outputs/fit_coxph_CVD_5_%j_stderr.out --output=/home/buergelt/tmp/221108/job_outputs/fit_coxph_CVD_5_%j_stdout.out < /home/buergelt/tmp/221108/job_submissions/fit_coxph_CVD_5.sh\n",
      "Submitted batch job 769267\n",
      "\n",
      "#!/bin/bash\n",
      "\n",
      "#SBATCH --job-name=fit_coxph_CVD  # Specify job name\n",
      "#SBATCH --nodes=1              # Specify number of nodes\n",
      "#SBATCH --mem=300G              # Specify number of nodes\n",
      "#SBATCH --time=2:00:00        # Set a limit on the total run time\n",
      "#SBATCH --tasks-per-node=1\n",
      "#SBATCH --exclusive\n",
      "\n",
      "source ~/miniconda3/etc/profile.d/conda.sh\n",
      "conda activate retrisk\n",
      "\n",
      "ray start --head --port=6378 --num-cpus 16\n",
      "python /home/buergelt/projects/cardiors/code/22_retina_phewas_evaluation/1_processing/08_coxph_fit_partition_CVD.py 6\n",
      "\n",
      "\n",
      "Submission:\n",
      "===========\n",
      "\n",
      "sbatch --error=/home/buergelt/tmp/221108/job_outputs/fit_coxph_CVD_6_%j_stderr.out --output=/home/buergelt/tmp/221108/job_outputs/fit_coxph_CVD_6_%j_stdout.out < /home/buergelt/tmp/221108/job_submissions/fit_coxph_CVD_6.sh\n",
      "Submitted batch job 769268\n",
      "\n",
      "#!/bin/bash\n",
      "\n",
      "#SBATCH --job-name=fit_coxph_CVD  # Specify job name\n",
      "#SBATCH --nodes=1              # Specify number of nodes\n",
      "#SBATCH --mem=300G              # Specify number of nodes\n",
      "#SBATCH --time=2:00:00        # Set a limit on the total run time\n",
      "#SBATCH --tasks-per-node=1\n",
      "#SBATCH --exclusive\n",
      "\n",
      "source ~/miniconda3/etc/profile.d/conda.sh\n",
      "conda activate retrisk\n",
      "\n",
      "ray start --head --port=6378 --num-cpus 16\n",
      "python /home/buergelt/projects/cardiors/code/22_retina_phewas_evaluation/1_processing/08_coxph_fit_partition_CVD.py 7\n",
      "\n",
      "\n",
      "Submission:\n",
      "===========\n",
      "\n",
      "sbatch --error=/home/buergelt/tmp/221108/job_outputs/fit_coxph_CVD_7_%j_stderr.out --output=/home/buergelt/tmp/221108/job_outputs/fit_coxph_CVD_7_%j_stdout.out < /home/buergelt/tmp/221108/job_submissions/fit_coxph_CVD_7.sh\n",
      "Submitted batch job 769269\n",
      "\n",
      "#!/bin/bash\n",
      "\n",
      "#SBATCH --job-name=fit_coxph_CVD  # Specify job name\n",
      "#SBATCH --nodes=1              # Specify number of nodes\n",
      "#SBATCH --mem=300G              # Specify number of nodes\n",
      "#SBATCH --time=2:00:00        # Set a limit on the total run time\n",
      "#SBATCH --tasks-per-node=1\n",
      "#SBATCH --exclusive\n",
      "\n",
      "source ~/miniconda3/etc/profile.d/conda.sh\n",
      "conda activate retrisk\n",
      "\n",
      "ray start --head --port=6378 --num-cpus 16\n",
      "python /home/buergelt/projects/cardiors/code/22_retina_phewas_evaluation/1_processing/08_coxph_fit_partition_CVD.py 8\n",
      "\n",
      "\n",
      "Submission:\n",
      "===========\n",
      "\n",
      "sbatch --error=/home/buergelt/tmp/221108/job_outputs/fit_coxph_CVD_8_%j_stderr.out --output=/home/buergelt/tmp/221108/job_outputs/fit_coxph_CVD_8_%j_stdout.out < /home/buergelt/tmp/221108/job_submissions/fit_coxph_CVD_8.sh\n",
      "Submitted batch job 769270\n",
      "\n",
      "#!/bin/bash\n",
      "\n",
      "#SBATCH --job-name=fit_coxph_CVD  # Specify job name\n",
      "#SBATCH --nodes=1              # Specify number of nodes\n",
      "#SBATCH --mem=300G              # Specify number of nodes\n",
      "#SBATCH --time=2:00:00        # Set a limit on the total run time\n",
      "#SBATCH --tasks-per-node=1\n",
      "#SBATCH --exclusive\n",
      "\n",
      "source ~/miniconda3/etc/profile.d/conda.sh\n",
      "conda activate retrisk\n",
      "\n",
      "ray start --head --port=6378 --num-cpus 16\n",
      "python /home/buergelt/projects/cardiors/code/22_retina_phewas_evaluation/1_processing/08_coxph_fit_partition_CVD.py 9\n",
      "\n",
      "\n",
      "Submission:\n",
      "===========\n",
      "\n",
      "sbatch --error=/home/buergelt/tmp/221108/job_outputs/fit_coxph_CVD_9_%j_stderr.out --output=/home/buergelt/tmp/221108/job_outputs/fit_coxph_CVD_9_%j_stdout.out < /home/buergelt/tmp/221108/job_submissions/fit_coxph_CVD_9.sh\n",
      "Submitted batch job 769271\n",
      "\n",
      "#!/bin/bash\n",
      "\n",
      "#SBATCH --job-name=fit_coxph_CVD  # Specify job name\n",
      "#SBATCH --nodes=1              # Specify number of nodes\n",
      "#SBATCH --mem=300G              # Specify number of nodes\n",
      "#SBATCH --time=2:00:00        # Set a limit on the total run time\n",
      "#SBATCH --tasks-per-node=1\n",
      "#SBATCH --exclusive\n",
      "\n",
      "source ~/miniconda3/etc/profile.d/conda.sh\n",
      "conda activate retrisk\n",
      "\n",
      "ray start --head --port=6378 --num-cpus 16\n",
      "python /home/buergelt/projects/cardiors/code/22_retina_phewas_evaluation/1_processing/08_coxph_fit_partition_CVD.py 10\n",
      "\n",
      "\n",
      "Submission:\n",
      "===========\n",
      "\n",
      "sbatch --error=/home/buergelt/tmp/221108/job_outputs/fit_coxph_CVD_10_%j_stderr.out --output=/home/buergelt/tmp/221108/job_outputs/fit_coxph_CVD_10_%j_stdout.out < /home/buergelt/tmp/221108/job_submissions/fit_coxph_CVD_10.sh\n",
      "Submitted batch job 769272\n",
      "\n",
      "#!/bin/bash\n",
      "\n",
      "#SBATCH --job-name=fit_coxph_CVD  # Specify job name\n",
      "#SBATCH --nodes=1              # Specify number of nodes\n",
      "#SBATCH --mem=300G              # Specify number of nodes\n",
      "#SBATCH --time=2:00:00        # Set a limit on the total run time\n",
      "#SBATCH --tasks-per-node=1\n",
      "#SBATCH --exclusive\n",
      "\n",
      "source ~/miniconda3/etc/profile.d/conda.sh\n",
      "conda activate retrisk\n",
      "\n",
      "ray start --head --port=6378 --num-cpus 16\n",
      "python /home/buergelt/projects/cardiors/code/22_retina_phewas_evaluation/1_processing/08_coxph_fit_partition_CVD.py 11\n",
      "\n",
      "\n",
      "Submission:\n",
      "===========\n",
      "\n",
      "sbatch --error=/home/buergelt/tmp/221108/job_outputs/fit_coxph_CVD_11_%j_stderr.out --output=/home/buergelt/tmp/221108/job_outputs/fit_coxph_CVD_11_%j_stdout.out < /home/buergelt/tmp/221108/job_submissions/fit_coxph_CVD_11.sh\n",
      "Submitted batch job 769273\n",
      "\n",
      "#!/bin/bash\n",
      "\n",
      "#SBATCH --job-name=fit_coxph_CVD  # Specify job name\n",
      "#SBATCH --nodes=1              # Specify number of nodes\n",
      "#SBATCH --mem=300G              # Specify number of nodes\n",
      "#SBATCH --time=2:00:00        # Set a limit on the total run time\n",
      "#SBATCH --tasks-per-node=1\n",
      "#SBATCH --exclusive\n",
      "\n",
      "source ~/miniconda3/etc/profile.d/conda.sh\n",
      "conda activate retrisk\n",
      "\n",
      "ray start --head --port=6378 --num-cpus 16\n",
      "python /home/buergelt/projects/cardiors/code/22_retina_phewas_evaluation/1_processing/08_coxph_fit_partition_CVD.py 12\n",
      "\n",
      "\n",
      "Submission:\n",
      "===========\n",
      "\n",
      "sbatch --error=/home/buergelt/tmp/221108/job_outputs/fit_coxph_CVD_12_%j_stderr.out --output=/home/buergelt/tmp/221108/job_outputs/fit_coxph_CVD_12_%j_stdout.out < /home/buergelt/tmp/221108/job_submissions/fit_coxph_CVD_12.sh\n",
      "Submitted batch job 769274\n",
      "\n",
      "#!/bin/bash\n",
      "\n",
      "#SBATCH --job-name=fit_coxph_CVD  # Specify job name\n",
      "#SBATCH --nodes=1              # Specify number of nodes\n",
      "#SBATCH --mem=300G              # Specify number of nodes\n",
      "#SBATCH --time=2:00:00        # Set a limit on the total run time\n",
      "#SBATCH --tasks-per-node=1\n",
      "#SBATCH --exclusive\n",
      "\n",
      "source ~/miniconda3/etc/profile.d/conda.sh\n",
      "conda activate retrisk\n",
      "\n",
      "ray start --head --port=6378 --num-cpus 16\n",
      "python /home/buergelt/projects/cardiors/code/22_retina_phewas_evaluation/1_processing/08_coxph_fit_partition_CVD.py 13\n",
      "\n",
      "\n",
      "Submission:\n",
      "===========\n",
      "\n",
      "sbatch --error=/home/buergelt/tmp/221108/job_outputs/fit_coxph_CVD_13_%j_stderr.out --output=/home/buergelt/tmp/221108/job_outputs/fit_coxph_CVD_13_%j_stdout.out < /home/buergelt/tmp/221108/job_submissions/fit_coxph_CVD_13.sh\n",
      "Submitted batch job 769275\n",
      "\n",
      "#!/bin/bash\n",
      "\n",
      "#SBATCH --job-name=fit_coxph_CVD  # Specify job name\n",
      "#SBATCH --nodes=1              # Specify number of nodes\n",
      "#SBATCH --mem=300G              # Specify number of nodes\n",
      "#SBATCH --time=2:00:00        # Set a limit on the total run time\n",
      "#SBATCH --tasks-per-node=1\n",
      "#SBATCH --exclusive\n",
      "\n",
      "source ~/miniconda3/etc/profile.d/conda.sh\n",
      "conda activate retrisk\n",
      "\n",
      "ray start --head --port=6378 --num-cpus 16\n",
      "python /home/buergelt/projects/cardiors/code/22_retina_phewas_evaluation/1_processing/08_coxph_fit_partition_CVD.py 14\n",
      "\n",
      "\n",
      "Submission:\n",
      "===========\n",
      "\n",
      "sbatch --error=/home/buergelt/tmp/221108/job_outputs/fit_coxph_CVD_14_%j_stderr.out --output=/home/buergelt/tmp/221108/job_outputs/fit_coxph_CVD_14_%j_stdout.out < /home/buergelt/tmp/221108/job_submissions/fit_coxph_CVD_14.sh\n",
      "Submitted batch job 769276\n",
      "\n",
      "#!/bin/bash\n",
      "\n",
      "#SBATCH --job-name=fit_coxph_CVD  # Specify job name\n",
      "#SBATCH --nodes=1              # Specify number of nodes\n",
      "#SBATCH --mem=300G              # Specify number of nodes\n",
      "#SBATCH --time=2:00:00        # Set a limit on the total run time\n",
      "#SBATCH --tasks-per-node=1\n",
      "#SBATCH --exclusive\n",
      "\n",
      "source ~/miniconda3/etc/profile.d/conda.sh\n",
      "conda activate retrisk\n",
      "\n",
      "ray start --head --port=6378 --num-cpus 16\n",
      "python /home/buergelt/projects/cardiors/code/22_retina_phewas_evaluation/1_processing/08_coxph_fit_partition_CVD.py 15\n",
      "\n",
      "\n",
      "Submission:\n",
      "===========\n",
      "\n",
      "sbatch --error=/home/buergelt/tmp/221108/job_outputs/fit_coxph_CVD_15_%j_stderr.out --output=/home/buergelt/tmp/221108/job_outputs/fit_coxph_CVD_15_%j_stdout.out < /home/buergelt/tmp/221108/job_submissions/fit_coxph_CVD_15.sh\n",
      "Submitted batch job 769277\n",
      "\n",
      "#!/bin/bash\n",
      "\n",
      "#SBATCH --job-name=fit_coxph_CVD  # Specify job name\n",
      "#SBATCH --nodes=1              # Specify number of nodes\n",
      "#SBATCH --mem=300G              # Specify number of nodes\n",
      "#SBATCH --time=2:00:00        # Set a limit on the total run time\n",
      "#SBATCH --tasks-per-node=1\n",
      "#SBATCH --exclusive\n",
      "\n",
      "source ~/miniconda3/etc/profile.d/conda.sh\n",
      "conda activate retrisk\n",
      "\n",
      "ray start --head --port=6378 --num-cpus 16\n",
      "python /home/buergelt/projects/cardiors/code/22_retina_phewas_evaluation/1_processing/08_coxph_fit_partition_CVD.py 16\n",
      "\n",
      "\n",
      "Submission:\n",
      "===========\n",
      "\n",
      "sbatch --error=/home/buergelt/tmp/221108/job_outputs/fit_coxph_CVD_16_%j_stderr.out --output=/home/buergelt/tmp/221108/job_outputs/fit_coxph_CVD_16_%j_stdout.out < /home/buergelt/tmp/221108/job_submissions/fit_coxph_CVD_16.sh\n",
      "Submitted batch job 769278\n",
      "\n",
      "#!/bin/bash\n",
      "\n",
      "#SBATCH --job-name=fit_coxph_CVD  # Specify job name\n",
      "#SBATCH --nodes=1              # Specify number of nodes\n",
      "#SBATCH --mem=300G              # Specify number of nodes\n",
      "#SBATCH --time=2:00:00        # Set a limit on the total run time\n",
      "#SBATCH --tasks-per-node=1\n",
      "#SBATCH --exclusive\n",
      "\n",
      "source ~/miniconda3/etc/profile.d/conda.sh\n",
      "conda activate retrisk\n",
      "\n",
      "ray start --head --port=6378 --num-cpus 16\n",
      "python /home/buergelt/projects/cardiors/code/22_retina_phewas_evaluation/1_processing/08_coxph_fit_partition_CVD.py 17\n",
      "\n",
      "\n",
      "Submission:\n",
      "===========\n",
      "\n",
      "sbatch --error=/home/buergelt/tmp/221108/job_outputs/fit_coxph_CVD_17_%j_stderr.out --output=/home/buergelt/tmp/221108/job_outputs/fit_coxph_CVD_17_%j_stdout.out < /home/buergelt/tmp/221108/job_submissions/fit_coxph_CVD_17.sh\n",
      "Submitted batch job 769279\n",
      "\n",
      "#!/bin/bash\n",
      "\n",
      "#SBATCH --job-name=fit_coxph_CVD  # Specify job name\n",
      "#SBATCH --nodes=1              # Specify number of nodes\n",
      "#SBATCH --mem=300G              # Specify number of nodes\n",
      "#SBATCH --time=2:00:00        # Set a limit on the total run time\n",
      "#SBATCH --tasks-per-node=1\n",
      "#SBATCH --exclusive\n",
      "\n",
      "source ~/miniconda3/etc/profile.d/conda.sh\n",
      "conda activate retrisk\n",
      "\n",
      "ray start --head --port=6378 --num-cpus 16\n",
      "python /home/buergelt/projects/cardiors/code/22_retina_phewas_evaluation/1_processing/08_coxph_fit_partition_CVD.py 18\n",
      "\n",
      "\n",
      "Submission:\n",
      "===========\n",
      "\n",
      "sbatch --error=/home/buergelt/tmp/221108/job_outputs/fit_coxph_CVD_18_%j_stderr.out --output=/home/buergelt/tmp/221108/job_outputs/fit_coxph_CVD_18_%j_stdout.out < /home/buergelt/tmp/221108/job_submissions/fit_coxph_CVD_18.sh\n",
      "Submitted batch job 769280\n",
      "\n",
      "#!/bin/bash\n",
      "\n",
      "#SBATCH --job-name=fit_coxph_CVD  # Specify job name\n",
      "#SBATCH --nodes=1              # Specify number of nodes\n",
      "#SBATCH --mem=300G              # Specify number of nodes\n",
      "#SBATCH --time=2:00:00        # Set a limit on the total run time\n",
      "#SBATCH --tasks-per-node=1\n",
      "#SBATCH --exclusive\n",
      "\n",
      "source ~/miniconda3/etc/profile.d/conda.sh\n",
      "conda activate retrisk\n",
      "\n",
      "ray start --head --port=6378 --num-cpus 16\n",
      "python /home/buergelt/projects/cardiors/code/22_retina_phewas_evaluation/1_processing/08_coxph_fit_partition_CVD.py 19\n",
      "\n",
      "\n",
      "Submission:\n",
      "===========\n",
      "\n",
      "sbatch --error=/home/buergelt/tmp/221108/job_outputs/fit_coxph_CVD_19_%j_stderr.out --output=/home/buergelt/tmp/221108/job_outputs/fit_coxph_CVD_19_%j_stdout.out < /home/buergelt/tmp/221108/job_submissions/fit_coxph_CVD_19.sh\n",
      "Submitted batch job 769281\n",
      "\n",
      "#!/bin/bash\n",
      "\n",
      "#SBATCH --job-name=fit_coxph_CVD  # Specify job name\n",
      "#SBATCH --nodes=1              # Specify number of nodes\n",
      "#SBATCH --mem=300G              # Specify number of nodes\n",
      "#SBATCH --time=2:00:00        # Set a limit on the total run time\n",
      "#SBATCH --tasks-per-node=1\n",
      "#SBATCH --exclusive\n",
      "\n",
      "source ~/miniconda3/etc/profile.d/conda.sh\n",
      "conda activate retrisk\n",
      "\n",
      "ray start --head --port=6378 --num-cpus 16\n",
      "python /home/buergelt/projects/cardiors/code/22_retina_phewas_evaluation/1_processing/08_coxph_fit_partition_CVD.py 20\n",
      "\n",
      "\n",
      "Submission:\n",
      "===========\n",
      "\n",
      "sbatch --error=/home/buergelt/tmp/221108/job_outputs/fit_coxph_CVD_20_%j_stderr.out --output=/home/buergelt/tmp/221108/job_outputs/fit_coxph_CVD_20_%j_stdout.out < /home/buergelt/tmp/221108/job_submissions/fit_coxph_CVD_20.sh\n",
      "Submitted batch job 769282\n",
      "\n",
      "#!/bin/bash\n",
      "\n",
      "#SBATCH --job-name=fit_coxph_CVD  # Specify job name\n",
      "#SBATCH --nodes=1              # Specify number of nodes\n",
      "#SBATCH --mem=300G              # Specify number of nodes\n",
      "#SBATCH --time=2:00:00        # Set a limit on the total run time\n",
      "#SBATCH --tasks-per-node=1\n",
      "#SBATCH --exclusive\n",
      "\n",
      "source ~/miniconda3/etc/profile.d/conda.sh\n",
      "conda activate retrisk\n",
      "\n",
      "ray start --head --port=6378 --num-cpus 16\n",
      "python /home/buergelt/projects/cardiors/code/22_retina_phewas_evaluation/1_processing/08_coxph_fit_partition_CVD.py 21\n",
      "\n",
      "\n",
      "Submission:\n",
      "===========\n",
      "\n",
      "sbatch --error=/home/buergelt/tmp/221108/job_outputs/fit_coxph_CVD_21_%j_stderr.out --output=/home/buergelt/tmp/221108/job_outputs/fit_coxph_CVD_21_%j_stdout.out < /home/buergelt/tmp/221108/job_submissions/fit_coxph_CVD_21.sh\n",
      "Submitted batch job 769283\n",
      "\n",
      "[None, None, None, None, None, None, None, None, None, None, None, None, None, None, None, None, None, None, None, None, None, None]\n"
     ]
    }
   ],
   "source": [
    "import time\n",
    "\n",
    "jobids = []\n",
    "for partition in partitions:\n",
    "\n",
    "    job_script = make_job_script(user=USER, job_name=JOBNAME, partition=partition)\n",
    "\n",
    "    jobid = submit(\n",
    "        path=f\"/home/{USER}/tmp/{EXPERIMENT_NAME}/job_submissions\",\n",
    "        job_name=JOBNAME + f\"_{partition}\",\n",
    "        job_script=job_script,\n",
    "    )\n",
    "\n",
    "    jobids.append(jobid)\n",
    "    #time.sleep(2)\n",
    "\n",
    "print(jobids)"
   ]
  },
  {
   "cell_type": "markdown",
   "metadata": {},
   "source": [
    "## Check progress"
   ]
  },
  {
   "cell_type": "code",
   "execution_count": 10,
   "metadata": {
    "execution": {
     "iopub.execute_input": "2023-02-07T18:47:27.136510Z",
     "iopub.status.busy": "2023-02-07T18:47:27.136327Z",
     "iopub.status.idle": "2023-02-07T18:47:27.175166Z",
     "shell.execute_reply": "2023-02-07T18:47:27.174734Z",
     "shell.execute_reply.started": "2023-02-07T18:47:27.136493Z"
    },
    "tags": []
   },
   "outputs": [
    {
     "data": {
      "text/plain": [
       "(77286,\n",
       " 'phecode_419_Retina_ImageTraining_[]_ConvNeXt_MLPHead_predictions_cropratio0.66_4.p')"
      ]
     },
     "execution_count": 10,
     "metadata": {},
     "output_type": "execute_result"
    }
   ],
   "source": [
    "cox_paths = os.listdir(f\"{output_path}/{experiment}/coxph/models/\")\n",
    "len(cox_paths), cox_paths[0]\n",
    "#path_df = pd.DataFrame(data = [p[:-2] for p in cox_paths]).rename(columns={0:\"path\"})\n",
    "#path_df[[\"endpoint_1\", \"endpoint_2\", \"score\", \"partition\"]] = path_df.path.str.split(\"_\", expand=True,) \n",
    "#path_df[\"endpoint\"] = path_df[\"endpoint_1\"] + \"_\" + path_df[\"endpoint_2\"] \n",
    "\n",
    "#path_df.value_counts([\"partition\"]).to_frame()"
   ]
  },
  {
   "cell_type": "code",
   "execution_count": null,
   "metadata": {},
   "outputs": [],
   "source": []
  },
  {
   "cell_type": "code",
   "execution_count": null,
   "metadata": {},
   "outputs": [],
   "source": []
  },
  {
   "cell_type": "code",
   "execution_count": null,
   "metadata": {},
   "outputs": [],
   "source": []
  },
  {
   "cell_type": "code",
   "execution_count": null,
   "metadata": {},
   "outputs": [],
   "source": []
  },
  {
   "cell_type": "code",
   "execution_count": null,
   "metadata": {},
   "outputs": [],
   "source": []
  },
  {
   "cell_type": "markdown",
   "metadata": {},
   "source": [
    "## Fig Crashing CoxPH models"
   ]
  },
  {
   "cell_type": "raw",
   "metadata": {
    "tags": []
   },
   "source": [
    "node = !hostname\n",
    "if \"sc\" in node[0]:\n",
    "    base_path = \"/sc-projects/sc-proj-ukb-cvd\"\n",
    "else: \n",
    "    base_path = \"/data/analysis/ag-reils/ag-reils-shared/cardioRS\"\n",
    "print(base_path)\n",
    "\n",
    "project_label = \"22_retina_phewas_220603_fullrun\"\n",
    "project_path = f\"{base_path}/results/projects/{project_label}\"\n",
    "figure_path = f\"{project_path}/figures\"\n",
    "output_path = f\"{project_path}/data\"\n",
    "\n",
    "pathlib.Path(figure_path).mkdir(parents=True, exist_ok=True)\n",
    "pathlib.Path(output_path).mkdir(parents=True, exist_ok=True)\n",
    "\n",
    "experiment = '220603_fullrun'\n",
    "experiment_path = f\"{output_path}/{experiment}\"\n",
    "pathlib.Path(experiment_path).mkdir(parents=True, exist_ok=True)\n",
    "\n",
    "name_dict = {\n",
    "    \"predictions_cropratio0.3\": \"ConvNextSmall(Retina)+MLP_cropratio0.3\",\n",
    "    \"predictions_cropratio0.5\": \"ConvNextSmall(Retina)+MLP_cropratio0.5\",\n",
    "    \"predictions_cropratio0.8\": \"ConvNextSmall(Retina)+MLP_cropratio0.8\",\n",
    "}\n",
    "\n",
    "partitions = [i for i in range(22)]\n",
    "partitions"
   ]
  },
  {
   "cell_type": "code",
   "execution_count": 11,
   "metadata": {
    "execution": {
     "iopub.execute_input": "2023-02-07T18:47:27.176072Z",
     "iopub.status.busy": "2023-02-07T18:47:27.175911Z",
     "iopub.status.idle": "2023-02-07T18:47:27.180321Z",
     "shell.execute_reply": "2023-02-07T18:47:27.179979Z",
     "shell.execute_reply.started": "2023-02-07T18:47:27.176056Z"
    },
    "tags": []
   },
   "outputs": [
    {
     "data": {
      "text/plain": [
       "['ImageTraining_[]_ConvNeXt_MLPHead_predictions_cropratio0.66']"
      ]
     },
     "execution_count": 11,
     "metadata": {},
     "output_type": "execute_result"
    }
   ],
   "source": [
    "in_path = pathlib.Path(f\"{experiment_path}/coxph/input\")\n",
    "models = [f.name for f in in_path.iterdir() if f.is_dir() and \"ipynb_checkpoints\" not in str(f)]\n",
    "models"
   ]
  },
  {
   "cell_type": "code",
   "execution_count": 12,
   "metadata": {
    "execution": {
     "iopub.execute_input": "2023-02-07T18:47:27.180897Z",
     "iopub.status.busy": "2023-02-07T18:47:27.180801Z",
     "iopub.status.idle": "2023-02-07T18:47:27.223475Z",
     "shell.execute_reply": "2023-02-07T18:47:27.222814Z",
     "shell.execute_reply.started": "2023-02-07T18:47:27.180885Z"
    },
    "tags": []
   },
   "outputs": [
    {
     "data": {
      "text/html": [
       "<div>\n",
       "<style scoped>\n",
       "    .dataframe tbody tr th:only-of-type {\n",
       "        vertical-align: middle;\n",
       "    }\n",
       "\n",
       "    .dataframe tbody tr th {\n",
       "        vertical-align: top;\n",
       "    }\n",
       "\n",
       "    .dataframe thead th {\n",
       "        text-align: right;\n",
       "    }\n",
       "</style>\n",
       "<table border=\"1\" class=\"dataframe\">\n",
       "  <thead>\n",
       "    <tr style=\"text-align: right;\">\n",
       "      <th></th>\n",
       "      <th>Unnamed: 0</th>\n",
       "      <th>endpoint</th>\n",
       "      <th>eligable</th>\n",
       "      <th>n</th>\n",
       "      <th>freq</th>\n",
       "      <th>phecode</th>\n",
       "      <th>phecode_string</th>\n",
       "      <th>phecode_category</th>\n",
       "      <th>sex</th>\n",
       "      <th>ICD10_only</th>\n",
       "      <th>phecode_top</th>\n",
       "      <th>leaf</th>\n",
       "    </tr>\n",
       "  </thead>\n",
       "  <tbody>\n",
       "    <tr>\n",
       "      <th>0</th>\n",
       "      <td>0</td>\n",
       "      <td>OMOP_4306655</td>\n",
       "      <td>61256</td>\n",
       "      <td>3548</td>\n",
       "      <td>0.057921</td>\n",
       "      <td>4306655.00</td>\n",
       "      <td>All-Cause Death</td>\n",
       "      <td>Death</td>\n",
       "      <td>Both</td>\n",
       "      <td>NaN</td>\n",
       "      <td>NaN</td>\n",
       "      <td>NaN</td>\n",
       "    </tr>\n",
       "    <tr>\n",
       "      <th>1</th>\n",
       "      <td>1</td>\n",
       "      <td>phecode_002</td>\n",
       "      <td>60945</td>\n",
       "      <td>658</td>\n",
       "      <td>0.010797</td>\n",
       "      <td>2.00</td>\n",
       "      <td>Staphylococcus</td>\n",
       "      <td>ID</td>\n",
       "      <td>Both</td>\n",
       "      <td>0.0</td>\n",
       "      <td>2.0</td>\n",
       "      <td>0.0</td>\n",
       "    </tr>\n",
       "    <tr>\n",
       "      <th>2</th>\n",
       "      <td>2</td>\n",
       "      <td>phecode_002-1</td>\n",
       "      <td>61010</td>\n",
       "      <td>486</td>\n",
       "      <td>0.007966</td>\n",
       "      <td>2.10</td>\n",
       "      <td>Staphylococcus aureus</td>\n",
       "      <td>ID</td>\n",
       "      <td>Both</td>\n",
       "      <td>0.0</td>\n",
       "      <td>2.0</td>\n",
       "      <td>1.0</td>\n",
       "    </tr>\n",
       "    <tr>\n",
       "      <th>3</th>\n",
       "      <td>3</td>\n",
       "      <td>phecode_003</td>\n",
       "      <td>60757</td>\n",
       "      <td>1017</td>\n",
       "      <td>0.016739</td>\n",
       "      <td>3.00</td>\n",
       "      <td>Escherichia coli</td>\n",
       "      <td>ID</td>\n",
       "      <td>Both</td>\n",
       "      <td>0.0</td>\n",
       "      <td>3.0</td>\n",
       "      <td>1.0</td>\n",
       "    </tr>\n",
       "    <tr>\n",
       "      <th>4</th>\n",
       "      <td>4</td>\n",
       "      <td>phecode_004</td>\n",
       "      <td>60584</td>\n",
       "      <td>494</td>\n",
       "      <td>0.008154</td>\n",
       "      <td>4.00</td>\n",
       "      <td>Streptococcus</td>\n",
       "      <td>ID</td>\n",
       "      <td>Both</td>\n",
       "      <td>0.0</td>\n",
       "      <td>4.0</td>\n",
       "      <td>0.0</td>\n",
       "    </tr>\n",
       "    <tr>\n",
       "      <th>...</th>\n",
       "      <td>...</td>\n",
       "      <td>...</td>\n",
       "      <td>...</td>\n",
       "      <td>...</td>\n",
       "      <td>...</td>\n",
       "      <td>...</td>\n",
       "      <td>...</td>\n",
       "      <td>...</td>\n",
       "      <td>...</td>\n",
       "      <td>...</td>\n",
       "      <td>...</td>\n",
       "      <td>...</td>\n",
       "    </tr>\n",
       "    <tr>\n",
       "      <th>1166</th>\n",
       "      <td>1166</td>\n",
       "      <td>phecode_977-52</td>\n",
       "      <td>31669</td>\n",
       "      <td>520</td>\n",
       "      <td>0.016420</td>\n",
       "      <td>977.52</td>\n",
       "      <td>Hormone replacement therapy (postmenopausal)</td>\n",
       "      <td>Rx</td>\n",
       "      <td>Female</td>\n",
       "      <td>0.0</td>\n",
       "      <td>977.0</td>\n",
       "      <td>1.0</td>\n",
       "    </tr>\n",
       "    <tr>\n",
       "      <th>1167</th>\n",
       "      <td>1167</td>\n",
       "      <td>phecode_977-7</td>\n",
       "      <td>60032</td>\n",
       "      <td>2231</td>\n",
       "      <td>0.037164</td>\n",
       "      <td>977.70</td>\n",
       "      <td>Long term (current) use of insulin or oral hyp...</td>\n",
       "      <td>Rx</td>\n",
       "      <td>Both</td>\n",
       "      <td>0.0</td>\n",
       "      <td>977.0</td>\n",
       "      <td>0.0</td>\n",
       "    </tr>\n",
       "    <tr>\n",
       "      <th>1168</th>\n",
       "      <td>1168</td>\n",
       "      <td>phecode_977-71</td>\n",
       "      <td>60936</td>\n",
       "      <td>472</td>\n",
       "      <td>0.007746</td>\n",
       "      <td>977.71</td>\n",
       "      <td>Long term (current) use of insulin</td>\n",
       "      <td>Rx</td>\n",
       "      <td>Both</td>\n",
       "      <td>0.0</td>\n",
       "      <td>977.0</td>\n",
       "      <td>1.0</td>\n",
       "    </tr>\n",
       "    <tr>\n",
       "      <th>1169</th>\n",
       "      <td>1169</td>\n",
       "      <td>phecode_977-72</td>\n",
       "      <td>60207</td>\n",
       "      <td>2148</td>\n",
       "      <td>0.035677</td>\n",
       "      <td>977.72</td>\n",
       "      <td>Long term (current) use of oral hypoglycemic d...</td>\n",
       "      <td>Rx</td>\n",
       "      <td>Both</td>\n",
       "      <td>0.0</td>\n",
       "      <td>977.0</td>\n",
       "      <td>1.0</td>\n",
       "    </tr>\n",
       "    <tr>\n",
       "      <th>1170</th>\n",
       "      <td>1170</td>\n",
       "      <td>phecode_979</td>\n",
       "      <td>61159</td>\n",
       "      <td>158</td>\n",
       "      <td>0.002583</td>\n",
       "      <td>979.00</td>\n",
       "      <td>Transplated organ</td>\n",
       "      <td>Stat</td>\n",
       "      <td>Both</td>\n",
       "      <td>0.0</td>\n",
       "      <td>979.0</td>\n",
       "      <td>0.0</td>\n",
       "    </tr>\n",
       "  </tbody>\n",
       "</table>\n",
       "<p>1171 rows × 12 columns</p>\n",
       "</div>"
      ],
      "text/plain": [
       "      Unnamed: 0        endpoint  eligable     n      freq     phecode  \\\n",
       "0              0    OMOP_4306655     61256  3548  0.057921  4306655.00   \n",
       "1              1     phecode_002     60945   658  0.010797        2.00   \n",
       "2              2   phecode_002-1     61010   486  0.007966        2.10   \n",
       "3              3     phecode_003     60757  1017  0.016739        3.00   \n",
       "4              4     phecode_004     60584   494  0.008154        4.00   \n",
       "...          ...             ...       ...   ...       ...         ...   \n",
       "1166        1166  phecode_977-52     31669   520  0.016420      977.52   \n",
       "1167        1167   phecode_977-7     60032  2231  0.037164      977.70   \n",
       "1168        1168  phecode_977-71     60936   472  0.007746      977.71   \n",
       "1169        1169  phecode_977-72     60207  2148  0.035677      977.72   \n",
       "1170        1170     phecode_979     61159   158  0.002583      979.00   \n",
       "\n",
       "                                         phecode_string phecode_category  \\\n",
       "0                                       All-Cause Death            Death   \n",
       "1                                        Staphylococcus               ID   \n",
       "2                                 Staphylococcus aureus               ID   \n",
       "3                                      Escherichia coli               ID   \n",
       "4                                         Streptococcus               ID   \n",
       "...                                                 ...              ...   \n",
       "1166       Hormone replacement therapy (postmenopausal)               Rx   \n",
       "1167  Long term (current) use of insulin or oral hyp...               Rx   \n",
       "1168                 Long term (current) use of insulin               Rx   \n",
       "1169  Long term (current) use of oral hypoglycemic d...               Rx   \n",
       "1170                                  Transplated organ             Stat   \n",
       "\n",
       "         sex  ICD10_only  phecode_top  leaf  \n",
       "0       Both         NaN          NaN   NaN  \n",
       "1       Both         0.0          2.0   0.0  \n",
       "2       Both         0.0          2.0   1.0  \n",
       "3       Both         0.0          3.0   1.0  \n",
       "4       Both         0.0          4.0   0.0  \n",
       "...      ...         ...          ...   ...  \n",
       "1166  Female         0.0        977.0   1.0  \n",
       "1167    Both         0.0        977.0   0.0  \n",
       "1168    Both         0.0        977.0   1.0  \n",
       "1169    Both         0.0        977.0   1.0  \n",
       "1170    Both         0.0        979.0   0.0  \n",
       "\n",
       "[1171 rows x 12 columns]"
      ]
     },
     "execution_count": 12,
     "metadata": {},
     "output_type": "execute_result"
    }
   ],
   "source": [
    "import pandas as pd\n",
    "endpoints_md = pd.read_csv('/sc-projects/sc-proj-ukb-cvd/results/projects/22_retinal_risk/data/220602/endpoints.csv')\n",
    "endpoints = sorted([l.replace('_prevalent', '') for l in list(pd.read_csv('/sc-projects/sc-proj-ukb-cvd/results/projects/22_retinal_risk/data/220602/endpoints.csv').endpoint.values)])\n",
    "endpoints_md"
   ]
  },
  {
   "cell_type": "code",
   "execution_count": 13,
   "metadata": {
    "execution": {
     "iopub.execute_input": "2023-02-07T18:47:27.224344Z",
     "iopub.status.busy": "2023-02-07T18:47:27.224185Z",
     "iopub.status.idle": "2023-02-07T18:47:27.243900Z",
     "shell.execute_reply": "2023-02-07T18:47:27.243564Z",
     "shell.execute_reply.started": "2023-02-07T18:47:27.224329Z"
    },
    "tags": []
   },
   "outputs": [],
   "source": [
    "import yaml\n",
    "import pickle\n",
    "import zstandard\n",
    "\n",
    "def get_score_defs():\n",
    "\n",
    "    with open(r'/sc-projects/sc-proj-ukb-cvd/results/projects/22_retina_phewas_220603_fullrun/data/score_definitions.yaml') as file:\n",
    "        score_defs = yaml.full_load(file)\n",
    "    \n",
    "    return score_defs\n",
    "\n",
    "def get_features(endpoint, score_defs):\n",
    "    features = {\n",
    "        model: {\n",
    "            \"Age+Sex\": score_defs[\"AgeSex\"],\n",
    "            \"Retina\": [endpoint],\n",
    "            \"SCORE2\": score_defs[\"SCORE2\"],\n",
    "            \"ASCVD\": score_defs[\"ASCVD\"],\n",
    "            \"QRISK3\": score_defs[\"QRISK3\"],\n",
    "            \"Age+Sex+Retina\": score_defs[\"AgeSex\"] + [endpoint],\n",
    "            \"SCORE2+Retina\": score_defs[\"SCORE2\"] + [endpoint],\n",
    "            \"ASCVD+Retina\": score_defs[\"ASCVD\"] + [endpoint],\n",
    "            \"QRISK3+Retina\": score_defs[\"QRISK3\"] + [endpoint],\n",
    "            }\n",
    "        for model in models}\n",
    "    return features\n",
    "\n",
    "def load_pickle(fp):\n",
    "    with open(fp, \"rb\") as fh:\n",
    "        dctx = zstandard.ZstdDecompressor()\n",
    "        with dctx.stream_reader(fh) as decompressor:\n",
    "            data = pickle.loads(decompressor.read())\n",
    "    return data\n",
    "\n",
    "def fit_cox(data_fit, feature_set, covariates, endpoint, penalizer, step_size=1):\n",
    "    cph = CoxPHFitter(penalizer=penalizer)\n",
    "    cph.fit(data_fit, f\"{endpoint}_time\", f\"{endpoint}_event\", step_size=step_size)\n",
    "    return cph\n",
    "\n",
    "score_defs = get_score_defs()"
   ]
  },
  {
   "cell_type": "code",
   "execution_count": 14,
   "metadata": {
    "execution": {
     "iopub.execute_input": "2023-02-07T18:47:27.245780Z",
     "iopub.status.busy": "2023-02-07T18:47:27.245635Z",
     "iopub.status.idle": "2023-02-07T18:47:27.254735Z",
     "shell.execute_reply": "2023-02-07T18:47:27.254388Z",
     "shell.execute_reply.started": "2023-02-07T18:47:27.245766Z"
    },
    "tags": []
   },
   "outputs": [],
   "source": [
    "def clean_covariates(endpoint, covariates):\n",
    "    if endpoint==\"phecode_181\": # Autoimmune disease\n",
    "        covariates = [c for c in covariates if c!=\"systemic_lupus_erythematosus\"]\n",
    "    if endpoint==\"phecode_202\": # Diabetes\n",
    "        covariates = [c for c in covariates if c not in ['diabetes1', 'diabetes2', 'diabetes']]\n",
    "    if endpoint==\"phecode_202-1\": # Diabetes 1\n",
    "        covariates = [c for c in covariates if c!=\"diabetes1\"]\n",
    "    if endpoint==\"phecode_202-2\": # Diabetes 1\n",
    "        covariates = [c for c in covariates if c!=\"diabetes2\"]\n",
    "    if endpoint==\"phecode_286\": # Mood [affective] disorders\n",
    "        covariates = [c for c in covariates if c not in ['bipolar_disorder', 'major_depressive_disorder']]\n",
    "    if endpoint==\"phecode_286-1\": # Bipolar disorder\n",
    "        covariates = [c for c in covariates if c not in ['bipolar_disorder']]\n",
    "    if endpoint==\"phecode_286-2\": # Major depressive disorder\n",
    "        covariates = [c for c in covariates if c not in ['major_depressive_disorder']]\n",
    "    if endpoint==\"phecode_287\": # psychotic disorders\n",
    "        covariates = [c for c in covariates if c not in ['schizophrenia']]\n",
    "    if endpoint==\"phecode_287-1\": # schizophrenia\n",
    "        covariates = [c for c in covariates if c not in ['schizophrenia']]\n",
    "    if endpoint==\"phecode_331\": # headache\n",
    "        covariates = [c for c in covariates if c!=\"migraine\"]\n",
    "    if endpoint==\"phecode_331-6\": # headache\n",
    "        covariates = [c for c in covariates if c!=\"migraine\"]\n",
    "    if endpoint==\"phecode_416\": # atrial fibrillation\n",
    "        covariates = [c for c in covariates if c not in ['atrial_fibrillation']]\n",
    "    if endpoint==\"phecode_416-2\": # atrial fibrillation and flutter\n",
    "        covariates = [c for c in covariates if c not in ['atrial_fibrillation']]\n",
    "    if endpoint==\"phecode_416-21\": # atrial fibrillation\n",
    "        covariates = [c for c in covariates if c not in ['atrial_fibrillation']]\n",
    "    if endpoint==\"phecode_584\": # Renal failure\n",
    "        covariates = [c for c in covariates if c not in ['renal_failure']]\n",
    "    if endpoint==\"phecode_605\": # Male sexual dysfuction\n",
    "        covariates = [c for c in covariates if c not in ['sex_Male', 'male_erectile_dysfunction']]\n",
    "    if endpoint==\"phecode_605-1\": # Male sexual dysfuction\n",
    "        covariates = [c for c in covariates if c not in ['sex_Male', 'male_erectile_dysfunction']]\n",
    "    if endpoint==\"phecode_700\": # Diffuse diseases of connective tissue\n",
    "        covariates = [c for c in covariates if c not in ['systemic_lupus_erythematosus']]\n",
    "    if endpoint==\"phecode_700-1\": # Lupus\n",
    "        covariates = [c for c in covariates if c not in ['systemic_lupus_erythematosus']]\n",
    "    if endpoint==\"phecode_700-11\": # Systemic lupus erythematosus [SLE]\t\n",
    "        covariates = [c for c in covariates if c not in ['systemic_lupus_erythematosus']]\n",
    "    if endpoint==\"phecode_705\": # Rheumatoid arthritis and other inflammatory\n",
    "        covariates = [c for c in covariates if c not in ['rheumatoid_arthritis']]\n",
    "    if endpoint==\"phecode_705-1\": # Rheumatoid arthritis and other inflammatory\n",
    "        covariates = [c for c in covariates if c not in ['rheumatoid_arthritis']]\n",
    "    # added by lukas\n",
    "    if endpoint=='phecode_620':\n",
    "        covariates = [c for c in covariates if c not in ['sex_Male', 'male_erectile_dysfunction']]\n",
    "    if endpoint=='phecode_627':\n",
    "        covariates = [c for c in covariates if c not in ['sex_Male', 'male_erectile_dysfunction']]\n",
    "    if endpoint=='phecode_627-4':\n",
    "        covariates = [c for c in covariates if c not in ['sex_Male', 'male_erectile_dysfunction']]\n",
    "    return covariates"
   ]
  },
  {
   "cell_type": "code",
   "execution_count": 15,
   "metadata": {
    "execution": {
     "iopub.execute_input": "2023-02-07T18:47:27.255490Z",
     "iopub.status.busy": "2023-02-07T18:47:27.255324Z",
     "iopub.status.idle": "2023-02-07T18:47:27.275145Z",
     "shell.execute_reply": "2023-02-07T18:47:27.274807Z",
     "shell.execute_reply.started": "2023-02-07T18:47:27.255476Z"
    },
    "tags": []
   },
   "outputs": [
    {
     "data": {
      "text/html": [
       "<div>\n",
       "<style scoped>\n",
       "    .dataframe tbody tr th:only-of-type {\n",
       "        vertical-align: middle;\n",
       "    }\n",
       "\n",
       "    .dataframe tbody tr th {\n",
       "        vertical-align: top;\n",
       "    }\n",
       "\n",
       "    .dataframe thead th {\n",
       "        text-align: right;\n",
       "    }\n",
       "</style>\n",
       "<table border=\"1\" class=\"dataframe\">\n",
       "  <thead>\n",
       "    <tr style=\"text-align: right;\">\n",
       "      <th></th>\n",
       "      <th>Unnamed: 0</th>\n",
       "      <th>endpoint</th>\n",
       "      <th>eligable</th>\n",
       "      <th>n</th>\n",
       "      <th>freq</th>\n",
       "      <th>phecode</th>\n",
       "      <th>phecode_string</th>\n",
       "      <th>phecode_category</th>\n",
       "      <th>sex</th>\n",
       "      <th>ICD10_only</th>\n",
       "      <th>phecode_top</th>\n",
       "      <th>leaf</th>\n",
       "    </tr>\n",
       "  </thead>\n",
       "  <tbody>\n",
       "    <tr>\n",
       "      <th>885</th>\n",
       "      <td>885</td>\n",
       "      <td>phecode_620</td>\n",
       "      <td>31756</td>\n",
       "      <td>160</td>\n",
       "      <td>0.005038</td>\n",
       "      <td>620.0</td>\n",
       "      <td>Dysplasia of female genital organs</td>\n",
       "      <td>Genitourinary</td>\n",
       "      <td>Female</td>\n",
       "      <td>0.0</td>\n",
       "      <td>620.0</td>\n",
       "      <td>0.0</td>\n",
       "    </tr>\n",
       "    <tr>\n",
       "      <th>903</th>\n",
       "      <td>903</td>\n",
       "      <td>phecode_627</td>\n",
       "      <td>23317</td>\n",
       "      <td>4428</td>\n",
       "      <td>0.189904</td>\n",
       "      <td>627.0</td>\n",
       "      <td>Menopausal and postmenopausal disorders</td>\n",
       "      <td>Genitourinary</td>\n",
       "      <td>Female</td>\n",
       "      <td>0.0</td>\n",
       "      <td>627.0</td>\n",
       "      <td>0.0</td>\n",
       "    </tr>\n",
       "    <tr>\n",
       "      <th>907</th>\n",
       "      <td>907</td>\n",
       "      <td>phecode_627-4</td>\n",
       "      <td>28188</td>\n",
       "      <td>1028</td>\n",
       "      <td>0.036469</td>\n",
       "      <td>627.4</td>\n",
       "      <td>Menorrhagia/Excessive and frequent menstruation</td>\n",
       "      <td>Genitourinary</td>\n",
       "      <td>Female</td>\n",
       "      <td>0.0</td>\n",
       "      <td>627.0</td>\n",
       "      <td>1.0</td>\n",
       "    </tr>\n",
       "  </tbody>\n",
       "</table>\n",
       "</div>"
      ],
      "text/plain": [
       "     Unnamed: 0       endpoint  eligable     n      freq  phecode  \\\n",
       "885         885    phecode_620     31756   160  0.005038    620.0   \n",
       "903         903    phecode_627     23317  4428  0.189904    627.0   \n",
       "907         907  phecode_627-4     28188  1028  0.036469    627.4   \n",
       "\n",
       "                                      phecode_string phecode_category     sex  \\\n",
       "885               Dysplasia of female genital organs    Genitourinary  Female   \n",
       "903          Menopausal and postmenopausal disorders    Genitourinary  Female   \n",
       "907  Menorrhagia/Excessive and frequent menstruation    Genitourinary  Female   \n",
       "\n",
       "     ICD10_only  phecode_top  leaf  \n",
       "885         0.0        620.0   0.0  \n",
       "903         0.0        627.0   0.0  \n",
       "907         0.0        627.0   1.0  "
      ]
     },
     "execution_count": 15,
     "metadata": {},
     "output_type": "execute_result"
    }
   ],
   "source": [
    "# problematic endpoints\n",
    "problem_endpoints = [\n",
    "    'phecode_620',\n",
    "    'phecode_627',\n",
    "    'phecode_627-4',\n",
    "    #\"phecode_181\",\n",
    "    #\"phecode_202\",\n",
    "    #\"phecode_202-1\",\n",
    "    #\"phecode_286\",\n",
    "    #\"phecode_287-1\",\n",
    "    #\"phecode_331\",\n",
    "    #\"phecode_416\",\n",
    "    #\"phecode_416-2\",\n",
    "    #\"phecode_416-21\",\n",
    "    #\"phecode_584\", # \n",
    "    #\"phecode_605\",\n",
    "    #\"phecode_700\",\n",
    "    #\"phecode_700-1\",\n",
    "    #\"phecode_700-11\",\n",
    "    #\"phecode_705\",\n",
    "    #\"phecode_705-1\"\n",
    "]\n",
    "\n",
    "endpoints_md.query(\"endpoint==@problem_endpoints\")"
   ]
  },
  {
   "cell_type": "code",
   "execution_count": 16,
   "metadata": {
    "execution": {
     "iopub.execute_input": "2023-02-07T18:47:27.275866Z",
     "iopub.status.busy": "2023-02-07T18:47:27.275665Z",
     "iopub.status.idle": "2023-02-07T18:47:28.108725Z",
     "shell.execute_reply": "2023-02-07T18:47:28.107837Z",
     "shell.execute_reply.started": "2023-02-07T18:47:27.275852Z"
    },
    "tags": []
   },
   "outputs": [
    {
     "data": {
      "text/html": [
       "<div>\n",
       "<style scoped>\n",
       "    .dataframe tbody tr th:only-of-type {\n",
       "        vertical-align: middle;\n",
       "    }\n",
       "\n",
       "    .dataframe tbody tr th {\n",
       "        vertical-align: top;\n",
       "    }\n",
       "\n",
       "    .dataframe thead th {\n",
       "        text-align: right;\n",
       "    }\n",
       "</style>\n",
       "<table border=\"1\" class=\"dataframe\">\n",
       "  <thead>\n",
       "    <tr style=\"text-align: right;\">\n",
       "      <th></th>\n",
       "      <th>Unnamed: 0</th>\n",
       "      <th>endpoint</th>\n",
       "      <th>eligable</th>\n",
       "      <th>n</th>\n",
       "      <th>freq</th>\n",
       "      <th>phecode</th>\n",
       "      <th>phecode_string</th>\n",
       "      <th>phecode_category</th>\n",
       "      <th>sex</th>\n",
       "      <th>ICD10_only</th>\n",
       "      <th>phecode_top</th>\n",
       "      <th>leaf</th>\n",
       "    </tr>\n",
       "  </thead>\n",
       "  <tbody>\n",
       "    <tr>\n",
       "      <th>885</th>\n",
       "      <td>885</td>\n",
       "      <td>phecode_620</td>\n",
       "      <td>31756</td>\n",
       "      <td>160</td>\n",
       "      <td>0.005038</td>\n",
       "      <td>620.0</td>\n",
       "      <td>Dysplasia of female genital organs</td>\n",
       "      <td>Genitourinary</td>\n",
       "      <td>Female</td>\n",
       "      <td>0.0</td>\n",
       "      <td>620.0</td>\n",
       "      <td>0.0</td>\n",
       "    </tr>\n",
       "  </tbody>\n",
       "</table>\n",
       "</div>"
      ],
      "text/plain": [
       "     Unnamed: 0     endpoint  eligable    n      freq  phecode  \\\n",
       "885         885  phecode_620     31756  160  0.005038    620.0   \n",
       "\n",
       "                         phecode_string phecode_category     sex  ICD10_only  \\\n",
       "885  Dysplasia of female genital organs    Genitourinary  Female         0.0   \n",
       "\n",
       "     phecode_top  leaf  \n",
       "885        620.0   0.0  "
      ]
     },
     "metadata": {},
     "output_type": "display_data"
    },
    {
     "ename": "FileNotFoundError",
     "evalue": "[Errno 2] No such file or directory: '/sc-projects/sc-proj-ukb-cvd/results/projects/22_retina_phewas/data/221108/coxph/errordata_phecode_620_QRISK3_20.p'",
     "output_type": "error",
     "traceback": [
      "\u001b[0;31m---------------------------------------------------------------------------\u001b[0m",
      "\u001b[0;31mFileNotFoundError\u001b[0m                         Traceback (most recent call last)",
      "\u001b[0;32m/tmp/ipykernel_1423146/2706338292.py\u001b[0m in \u001b[0;36m<module>\u001b[0;34m\u001b[0m\n\u001b[1;32m      5\u001b[0m \u001b[0mdisplay\u001b[0m\u001b[0;34m(\u001b[0m\u001b[0mendpoints_md\u001b[0m\u001b[0;34m.\u001b[0m\u001b[0mquery\u001b[0m\u001b[0;34m(\u001b[0m\u001b[0;34m\"endpoint==@endpoint\"\u001b[0m\u001b[0;34m)\u001b[0m\u001b[0;34m)\u001b[0m\u001b[0;34m\u001b[0m\u001b[0;34m\u001b[0m\u001b[0m\n\u001b[1;32m      6\u001b[0m \u001b[0;34m\u001b[0m\u001b[0m\n\u001b[0;32m----> 7\u001b[0;31m \u001b[0mtest_data\u001b[0m \u001b[0;34m=\u001b[0m \u001b[0mload_pickle\u001b[0m\u001b[0;34m(\u001b[0m\u001b[0;34mf\"{experiment_path}/coxph/errordata_{endpoint}_{feature_set}_{partition}.p\"\u001b[0m\u001b[0;34m)\u001b[0m\u001b[0;34m\u001b[0m\u001b[0;34m\u001b[0m\u001b[0m\n\u001b[0m\u001b[1;32m      8\u001b[0m \u001b[0mdisplay\u001b[0m\u001b[0;34m(\u001b[0m\u001b[0mtest_data\u001b[0m\u001b[0;34m.\u001b[0m\u001b[0mT\u001b[0m\u001b[0;34m)\u001b[0m\u001b[0;34m\u001b[0m\u001b[0;34m\u001b[0m\u001b[0m\n\u001b[1;32m      9\u001b[0m \u001b[0;34m\u001b[0m\u001b[0m\n",
      "\u001b[0;32m/tmp/ipykernel_1423146/1984490211.py\u001b[0m in \u001b[0;36mload_pickle\u001b[0;34m(fp)\u001b[0m\n\u001b[1;32m     27\u001b[0m \u001b[0;34m\u001b[0m\u001b[0m\n\u001b[1;32m     28\u001b[0m \u001b[0;32mdef\u001b[0m \u001b[0mload_pickle\u001b[0m\u001b[0;34m(\u001b[0m\u001b[0mfp\u001b[0m\u001b[0;34m)\u001b[0m\u001b[0;34m:\u001b[0m\u001b[0;34m\u001b[0m\u001b[0;34m\u001b[0m\u001b[0m\n\u001b[0;32m---> 29\u001b[0;31m     \u001b[0;32mwith\u001b[0m \u001b[0mopen\u001b[0m\u001b[0;34m(\u001b[0m\u001b[0mfp\u001b[0m\u001b[0;34m,\u001b[0m \u001b[0;34m\"rb\"\u001b[0m\u001b[0;34m)\u001b[0m \u001b[0;32mas\u001b[0m \u001b[0mfh\u001b[0m\u001b[0;34m:\u001b[0m\u001b[0;34m\u001b[0m\u001b[0;34m\u001b[0m\u001b[0m\n\u001b[0m\u001b[1;32m     30\u001b[0m         \u001b[0mdctx\u001b[0m \u001b[0;34m=\u001b[0m \u001b[0mzstandard\u001b[0m\u001b[0;34m.\u001b[0m\u001b[0mZstdDecompressor\u001b[0m\u001b[0;34m(\u001b[0m\u001b[0;34m)\u001b[0m\u001b[0;34m\u001b[0m\u001b[0;34m\u001b[0m\u001b[0m\n\u001b[1;32m     31\u001b[0m         \u001b[0;32mwith\u001b[0m \u001b[0mdctx\u001b[0m\u001b[0;34m.\u001b[0m\u001b[0mstream_reader\u001b[0m\u001b[0;34m(\u001b[0m\u001b[0mfh\u001b[0m\u001b[0;34m)\u001b[0m \u001b[0;32mas\u001b[0m \u001b[0mdecompressor\u001b[0m\u001b[0;34m:\u001b[0m\u001b[0;34m\u001b[0m\u001b[0;34m\u001b[0m\u001b[0m\n",
      "\u001b[0;31mFileNotFoundError\u001b[0m: [Errno 2] No such file or directory: '/sc-projects/sc-proj-ukb-cvd/results/projects/22_retina_phewas/data/221108/coxph/errordata_phecode_620_QRISK3_20.p'"
     ]
    }
   ],
   "source": [
    "from lifelines import CoxPHFitter\n",
    "endpoint = problem_endpoints[0]\n",
    "partition = 20\n",
    "feature_set = \"QRISK3\" # QRISK3+Retina\n",
    "display(endpoints_md.query(\"endpoint==@endpoint\"))\n",
    "\n",
    "test_data = load_pickle(f\"{experiment_path}/coxph/errordata_{endpoint}_{feature_set}_{partition}.p\")\n",
    "display(test_data.T)\n",
    "\n",
    "features = get_features(endpoint, score_defs)\n",
    "print(features)\n",
    "covariates = features[\"ImageTraining_[]_ConvNeXt_MLPHead_predictions_cropratio0.3\"][feature_set]\n",
    "\n",
    "# # clean covariates for the coxphs to fit\n",
    "covariates = clean_covariates(endpoint, covariates)\n",
    "print(covariates)\n",
    "\n",
    "data_endpoint = test_data[covariates + [f\"{endpoint}_event\", f\"{endpoint}_time\"]].astype(np.float32)\n",
    "\n",
    "cph = fit_cox(data_endpoint,#.drop(columns=[\"systemic_lupus_erythematosus\"]), \n",
    "              feature_set, covariates, endpoint, penalizer=0, step_size=0.1)\n",
    "cph.print_summary()"
   ]
  },
  {
   "cell_type": "code",
   "execution_count": null,
   "metadata": {
    "tags": []
   },
   "outputs": [],
   "source": []
  },
  {
   "cell_type": "code",
   "execution_count": null,
   "metadata": {},
   "outputs": [],
   "source": []
  },
  {
   "cell_type": "code",
   "execution_count": null,
   "metadata": {},
   "outputs": [],
   "source": []
  },
  {
   "cell_type": "code",
   "execution_count": null,
   "metadata": {},
   "outputs": [],
   "source": []
  },
  {
   "cell_type": "code",
   "execution_count": null,
   "metadata": {
    "execution": {
     "iopub.status.busy": "2023-02-07T18:47:28.109278Z",
     "iopub.status.idle": "2023-02-07T18:47:28.109456Z",
     "shell.execute_reply": "2023-02-07T18:47:28.109372Z",
     "shell.execute_reply.started": "2023-02-07T18:47:28.109363Z"
    }
   },
   "outputs": [],
   "source": [
    "jobids"
   ]
  },
  {
   "cell_type": "code",
   "execution_count": null,
   "metadata": {
    "tags": []
   },
   "outputs": [],
   "source": []
  },
  {
   "cell_type": "code",
   "execution_count": null,
   "metadata": {
    "execution": {
     "iopub.status.busy": "2023-02-07T18:47:28.110068Z",
     "iopub.status.idle": "2023-02-07T18:47:28.110233Z",
     "shell.execute_reply": "2023-02-07T18:47:28.110156Z",
     "shell.execute_reply.started": "2023-02-07T18:47:28.110148Z"
    },
    "tags": []
   },
   "outputs": [],
   "source": [
    "#fit_partition(in_path, model_path, score_defs, 0)"
   ]
  },
  {
   "cell_type": "code",
   "execution_count": null,
   "metadata": {
    "execution": {
     "iopub.status.busy": "2023-02-07T18:47:28.110800Z",
     "iopub.status.idle": "2023-02-07T18:47:28.110965Z",
     "shell.execute_reply": "2023-02-07T18:47:28.110879Z",
     "shell.execute_reply.started": "2023-02-07T18:47:28.110871Z"
    },
    "tags": []
   },
   "outputs": [],
   "source": [
    "import submitit\n",
    "\n",
    "partitions = [i for i in range(22)]\n",
    "\n",
    "executor = submitit.AutoExecutor(folder=\"log_test/%j\")\n",
    "# set timeout in min, and partition for running the job\n",
    "executor.update_parameters(slurm_array_parallelism=6,\n",
    "                           nodes=1,\n",
    "                           #slurm_mem=\"500G\",\n",
    "                           timeout_min=600,\n",
    "                          #slurm_setup=[\n",
    "                          #  \"\"\"export MKL_NUM_THREADS=1\"\"\",\n",
    "                          #  \"\"\"export NUMEXPR_NUM_THREADS=1\"\"\",\n",
    "                           # \"\"\"export OMP_NUM_THREADS=1\"\"\"]\n",
    "                          )\n",
    "\n",
    "job = executor.map_array(fit_partition, partitions)  \n",
    "\n",
    "\n",
    "# jobs = []\n",
    "# for partition in tqdm(partitions):\n",
    "#     job = executor.submit(fit_partition, in_path, model_path, score_defs, partition)\n",
    "#     jobs.append(job)"
   ]
  },
  {
   "cell_type": "code",
   "execution_count": null,
   "metadata": {},
   "outputs": [],
   "source": []
  },
  {
   "cell_type": "code",
   "execution_count": null,
   "metadata": {},
   "outputs": [],
   "source": []
  },
  {
   "cell_type": "code",
   "execution_count": null,
   "metadata": {},
   "outputs": [],
   "source": []
  },
  {
   "cell_type": "code",
   "execution_count": null,
   "metadata": {},
   "outputs": [],
   "source": []
  },
  {
   "cell_type": "code",
   "execution_count": null,
   "metadata": {},
   "outputs": [],
   "source": []
  },
  {
   "cell_type": "code",
   "execution_count": null,
   "metadata": {},
   "outputs": [],
   "source": []
  },
  {
   "cell_type": "code",
   "execution_count": null,
   "metadata": {},
   "outputs": [],
   "source": []
  },
  {
   "cell_type": "code",
   "execution_count": null,
   "metadata": {},
   "outputs": [],
   "source": []
  },
  {
   "cell_type": "code",
   "execution_count": null,
   "metadata": {
    "execution": {
     "iopub.status.busy": "2023-02-07T18:47:28.111454Z",
     "iopub.status.idle": "2023-02-07T18:47:28.111613Z",
     "shell.execute_reply": "2023-02-07T18:47:28.111536Z",
     "shell.execute_reply.started": "2023-02-07T18:47:28.111528Z"
    },
    "tags": []
   },
   "outputs": [],
   "source": [
    "%env MKL_NUM_THREADS=1\n",
    "%env NUMEXPR_NUM_THREADS=1\n",
    "%env OMP_NUM_THREADS=1\n",
    "\n",
    "import ray\n",
    "#ray start --head --port=6379 --num-cpus 64 # in terminal\n",
    "#ray.init(address='auto')#, dashboard_port=24762, dashboard_host=\"0.0.0.0\", include_dashboard=True)#, webui_url=\"0.0.0.0\"))\n",
    "#ray.init(num_cpus=32)#, dashboard_port=24762, dashboard_host=\"0.0.0.0\", include_dashboard=True)#, webui_url=\"0.0.0.0\"))"
   ]
  },
  {
   "cell_type": "code",
   "execution_count": null,
   "metadata": {
    "execution": {
     "iopub.status.busy": "2023-02-07T18:47:28.112132Z",
     "iopub.status.idle": "2023-02-07T18:47:28.112325Z",
     "shell.execute_reply": "2023-02-07T18:47:28.112235Z",
     "shell.execute_reply.started": "2023-02-07T18:47:28.112226Z"
    },
    "tags": []
   },
   "outputs": [],
   "source": [
    "ray.available_resources()"
   ]
  },
  {
   "cell_type": "code",
   "execution_count": null,
   "metadata": {
    "tags": []
   },
   "outputs": [],
   "source": []
  },
  {
   "cell_type": "code",
   "execution_count": null,
   "metadata": {},
   "outputs": [],
   "source": []
  },
  {
   "cell_type": "code",
   "execution_count": null,
   "metadata": {
    "execution": {
     "iopub.status.busy": "2023-02-07T18:47:28.112835Z",
     "iopub.status.idle": "2023-02-07T18:47:28.112990Z",
     "shell.execute_reply": "2023-02-07T18:47:28.112915Z",
     "shell.execute_reply.started": "2023-02-07T18:47:28.112907Z"
    },
    "tags": []
   },
   "outputs": [],
   "source": [
    "for partition in tqdm(partitions):\n",
    "    fit_partition()"
   ]
  },
  {
   "cell_type": "code",
   "execution_count": null,
   "metadata": {},
   "outputs": [],
   "source": []
  },
  {
   "cell_type": "code",
   "execution_count": null,
   "metadata": {},
   "outputs": [],
   "source": []
  },
  {
   "cell_type": "code",
   "execution_count": null,
   "metadata": {},
   "outputs": [],
   "source": []
  },
  {
   "cell_type": "code",
   "execution_count": null,
   "metadata": {
    "execution": {
     "iopub.status.busy": "2023-02-07T18:47:28.113495Z",
     "iopub.status.idle": "2023-02-07T18:47:28.113645Z",
     "shell.execute_reply": "2023-02-07T18:47:28.113571Z",
     "shell.execute_reply.started": "2023-02-07T18:47:28.113563Z"
    }
   },
   "outputs": [],
   "source": [
    "## Debugging"
   ]
  },
  {
   "cell_type": "code",
   "execution_count": null,
   "metadata": {
    "execution": {
     "iopub.status.busy": "2023-02-07T18:47:28.114214Z",
     "iopub.status.idle": "2023-02-07T18:47:28.114367Z",
     "shell.execute_reply": "2023-02-07T18:47:28.114292Z",
     "shell.execute_reply.started": "2023-02-07T18:47:28.114284Z"
    },
    "tags": []
   },
   "outputs": [],
   "source": [
    "# fit_endpoint(data_partition, eids_dict, endpoint_defs, endpoints[0], partition, models, model_path)"
   ]
  },
  {
   "cell_type": "code",
   "execution_count": null,
   "metadata": {
    "execution": {
     "iopub.status.busy": "2023-02-07T18:47:28.114928Z",
     "iopub.status.idle": "2023-02-07T18:47:28.115087Z",
     "shell.execute_reply": "2023-02-07T18:47:28.115004Z",
     "shell.execute_reply.started": "2023-02-07T18:47:28.114996Z"
    }
   },
   "outputs": [],
   "source": [
    "cph_1 = load_pickle(\"/sc-projects/sc-proj-ukb-cvd/results/projects/22_medical_records/data/220613/coxph/models/OMOP_4306655_QRISK3_0.p\")\n",
    "cph_2 = load_pickle(\"/sc-projects/sc-proj-ukb-cvd/results/projects/22_medical_records/data/220613/coxph/models/OMOP_4306655_Age+Sex+MedicalHistory_0.p\")"
   ]
  },
  {
   "cell_type": "code",
   "execution_count": null,
   "metadata": {
    "execution": {
     "iopub.status.busy": "2023-02-07T18:47:28.115450Z",
     "iopub.status.idle": "2023-02-07T18:47:28.115600Z",
     "shell.execute_reply": "2023-02-07T18:47:28.115526Z",
     "shell.execute_reply.started": "2023-02-07T18:47:28.115519Z"
    }
   },
   "outputs": [],
   "source": [
    "cph_1.print_summary()"
   ]
  },
  {
   "cell_type": "code",
   "execution_count": null,
   "metadata": {
    "execution": {
     "iopub.status.busy": "2023-02-07T18:47:28.116151Z",
     "iopub.status.idle": "2023-02-07T18:47:28.116312Z",
     "shell.execute_reply": "2023-02-07T18:47:28.116228Z",
     "shell.execute_reply.started": "2023-02-07T18:47:28.116220Z"
    }
   },
   "outputs": [],
   "source": [
    "cph_2.print_summary()"
   ]
  },
  {
   "cell_type": "code",
   "execution_count": null,
   "metadata": {
    "execution": {
     "iopub.status.busy": "2023-02-07T18:47:28.116778Z",
     "iopub.status.idle": "2023-02-07T18:47:28.116945Z",
     "shell.execute_reply": "2023-02-07T18:47:28.116870Z",
     "shell.execute_reply.started": "2023-02-07T18:47:28.116861Z"
    }
   },
   "outputs": [],
   "source": [
    "encode_cols = \n",
    "pd.get_dummies(data_partition['Identity(Records)+MLP'], columns=[\"ethnic_background\", \"sex\", \"smoking_status\"], prefix=)"
   ]
  },
  {
   "cell_type": "code",
   "execution_count": null,
   "metadata": {
    "execution": {
     "iopub.status.busy": "2023-02-07T18:47:28.117565Z",
     "iopub.status.idle": "2023-02-07T18:47:28.117730Z",
     "shell.execute_reply": "2023-02-07T18:47:28.117641Z",
     "shell.execute_reply.started": "2023-02-07T18:47:28.117633Z"
    },
    "tags": []
   },
   "outputs": [],
   "source": [
    "data_partition['Identity(Records)+MLP'].select_dtypes(\"category\")"
   ]
  },
  {
   "cell_type": "code",
   "execution_count": null,
   "metadata": {
    "execution": {
     "iopub.status.busy": "2023-02-07T18:47:28.118220Z",
     "iopub.status.idle": "2023-02-07T18:47:28.118377Z",
     "shell.execute_reply": "2023-02-07T18:47:28.118298Z",
     "shell.execute_reply.started": "2023-02-07T18:47:28.118290Z"
    }
   },
   "outputs": [],
   "source": [
    "load_pickle(\"/sc-projects/sc-proj-ukb-cvd/results/projects/22_medical_records/data/220413/coxph/errordata_phecode_002-1_Age+Sex+MedicalHistory+I(Age*MH)_0.p\")"
   ]
  },
  {
   "cell_type": "code",
   "execution_count": null,
   "metadata": {
    "execution": {
     "iopub.status.busy": "2023-02-07T18:47:28.118950Z",
     "iopub.status.idle": "2023-02-07T18:47:28.119108Z",
     "shell.execute_reply": "2023-02-07T18:47:28.119025Z",
     "shell.execute_reply.started": "2023-02-07T18:47:28.119017Z"
    },
    "tags": []
   },
   "outputs": [],
   "source": [
    "data_partition['Identity(Records)+MLP']['phecode_977']"
   ]
  },
  {
   "cell_type": "code",
   "execution_count": null,
   "metadata": {},
   "outputs": [],
   "source": []
  },
  {
   "cell_type": "code",
   "execution_count": null,
   "metadata": {},
   "outputs": [],
   "source": []
  },
  {
   "cell_type": "code",
   "execution_count": null,
   "metadata": {},
   "outputs": [],
   "source": []
  },
  {
   "cell_type": "code",
   "execution_count": null,
   "metadata": {},
   "outputs": [],
   "source": []
  },
  {
   "cell_type": "code",
   "execution_count": null,
   "metadata": {},
   "outputs": [],
   "source": []
  },
  {
   "cell_type": "code",
   "execution_count": null,
   "metadata": {},
   "outputs": [],
   "source": []
  },
  {
   "cell_type": "code",
   "execution_count": null,
   "metadata": {},
   "outputs": [],
   "source": []
  },
  {
   "cell_type": "code",
   "execution_count": null,
   "metadata": {},
   "outputs": [],
   "source": []
  },
  {
   "cell_type": "code",
   "execution_count": null,
   "metadata": {},
   "outputs": [],
   "source": []
  },
  {
   "cell_type": "code",
   "execution_count": null,
   "metadata": {},
   "outputs": [],
   "source": []
  },
  {
   "cell_type": "code",
   "execution_count": null,
   "metadata": {},
   "outputs": [],
   "source": []
  },
  {
   "cell_type": "code",
   "execution_count": null,
   "metadata": {},
   "outputs": [],
   "source": []
  },
  {
   "cell_type": "code",
   "execution_count": null,
   "metadata": {},
   "outputs": [],
   "source": []
  },
  {
   "cell_type": "code",
   "execution_count": null,
   "metadata": {},
   "outputs": [],
   "source": []
  },
  {
   "cell_type": "code",
   "execution_count": null,
   "metadata": {},
   "outputs": [],
   "source": []
  },
  {
   "cell_type": "markdown",
   "metadata": {},
   "source": [
    "# old stuff"
   ]
  },
  {
   "cell_type": "code",
   "execution_count": null,
   "metadata": {
    "execution": {
     "iopub.status.busy": "2023-02-07T18:47:28.119561Z",
     "iopub.status.idle": "2023-02-07T18:47:28.119712Z",
     "shell.execute_reply": "2023-02-07T18:47:28.119638Z",
     "shell.execute_reply.started": "2023-02-07T18:47:28.119630Z"
    }
   },
   "outputs": [],
   "source": [
    "!ls -al {output_path}"
   ]
  },
  {
   "cell_type": "code",
   "execution_count": null,
   "metadata": {
    "execution": {
     "iopub.status.busy": "2023-02-07T18:47:28.120143Z",
     "iopub.status.idle": "2023-02-07T18:47:28.120289Z",
     "shell.execute_reply": "2023-02-07T18:47:28.120216Z",
     "shell.execute_reply.started": "2023-02-07T18:47:28.120208Z"
    },
    "tags": []
   },
   "outputs": [],
   "source": [
    "print(output_path)\n",
    "data_outcomes = pd.read_feather(f\"{output_path}/baseline_outcomes_220531.feather\").set_index(\"eid\")\n",
    "data_outcomes"
   ]
  },
  {
   "cell_type": "code",
   "execution_count": null,
   "metadata": {
    "execution": {
     "iopub.status.busy": "2023-02-07T18:47:28.120821Z",
     "iopub.status.idle": "2023-02-07T18:47:28.121017Z",
     "shell.execute_reply": "2023-02-07T18:47:28.120941Z",
     "shell.execute_reply.started": "2023-02-07T18:47:28.120932Z"
    },
    "tags": []
   },
   "outputs": [],
   "source": [
    "import pandas as pd\n",
    "all_endpoints = sorted([l.replace('_prevalent', '') for l in list(pd.read_csv('/sc-projects/sc-proj-ukb-cvd/results/projects/22_retinal_risk/data/220602/endpoints.csv').endpoint.values)])\n",
    "\n",
    "#all_endpoints = sorted(endpoints_all_md.endpoint.to_list())\n",
    "print(len(all_endpoints))\n",
    "\n",
    "endpoints_not_overlapping_with_preds = []\n",
    "#endpoints_not_overlapping_with_preds_md = pd.read_csv(f\"{experiment_path}/endpoints_not_overlapping.csv\", header=None)\n",
    "#print(len(endpoints_not_overlapping_with_preds_md))\n",
    "#endpoints_not_overlapping_with_preds = list(endpoints_not_overlapping_with_preds_md[0].values)\n",
    "\n",
    "endpoints = []\n",
    "for c in all_endpoints:\n",
    "    if c not in endpoints_not_overlapping_with_preds: # this is what i want\n",
    "        #print('OK    - ',c)\n",
    "        endpoints.append(c)\n",
    "    #if c in endpoints_not_overlapping_with_preds: # this is what causes errors!\n",
    "    #    print('ERROR - ',c)\n",
    "print(len(endpoints))"
   ]
  },
  {
   "cell_type": "code",
   "execution_count": null,
   "metadata": {
    "execution": {
     "iopub.status.busy": "2023-02-07T18:47:28.121411Z",
     "iopub.status.idle": "2023-02-07T18:47:28.121557Z",
     "shell.execute_reply": "2023-02-07T18:47:28.121485Z",
     "shell.execute_reply.started": "2023-02-07T18:47:28.121477Z"
    },
    "tags": []
   },
   "outputs": [],
   "source": [
    "splits = [\"train\", \"valid\", 'test'] # \"test_left\", 'test_right'"
   ]
  },
  {
   "cell_type": "code",
   "execution_count": null,
   "metadata": {
    "execution": {
     "iopub.status.busy": "2023-02-07T18:47:28.122029Z",
     "iopub.status.idle": "2023-02-07T18:47:28.122188Z",
     "shell.execute_reply": "2023-02-07T18:47:28.122113Z",
     "shell.execute_reply.started": "2023-02-07T18:47:28.122105Z"
    },
    "tags": []
   },
   "outputs": [],
   "source": [
    "endpoint_defs = pd.read_feather(f\"{output_path}/phecode_defs_220306.feather\").query(\"endpoint==@endpoints\").sort_values(\"endpoint\").set_index(\"endpoint\")"
   ]
  },
  {
   "cell_type": "code",
   "execution_count": null,
   "metadata": {
    "execution": {
     "iopub.status.busy": "2023-02-07T18:47:28.122607Z",
     "iopub.status.idle": "2023-02-07T18:47:28.122754Z",
     "shell.execute_reply": "2023-02-07T18:47:28.122681Z",
     "shell.execute_reply.started": "2023-02-07T18:47:28.122673Z"
    }
   },
   "outputs": [],
   "source": [
    "from datetime import date\n",
    "today = str(date.today())"
   ]
  },
  {
   "cell_type": "code",
   "execution_count": null,
   "metadata": {
    "execution": {
     "iopub.status.busy": "2023-02-07T18:47:28.123283Z",
     "iopub.status.idle": "2023-02-07T18:47:28.123433Z",
     "shell.execute_reply": "2023-02-07T18:47:28.123359Z",
     "shell.execute_reply.started": "2023-02-07T18:47:28.123351Z"
    },
    "tags": []
   },
   "outputs": [],
   "source": [
    "eligable_eids = pd.read_feather(f\"{output_path}/eligable_eids_{today}.feather\") # TODO CHANGE!\n",
    "eids_dict = eligable_eids.set_index(\"endpoint\")[\"eid_list\"].to_dict()"
   ]
  },
  {
   "cell_type": "code",
   "execution_count": null,
   "metadata": {
    "execution": {
     "iopub.status.busy": "2023-02-07T18:47:28.123929Z",
     "iopub.status.idle": "2023-02-07T18:47:28.124088Z",
     "shell.execute_reply": "2023-02-07T18:47:28.124003Z",
     "shell.execute_reply.started": "2023-02-07T18:47:28.123995Z"
    },
    "tags": []
   },
   "outputs": [],
   "source": [
    "%env MKL_NUM_THREADS=4\n",
    "%env NUMEXPR_NUM_THREADS=4\n",
    "%env OMP_NUM_THREADS=4"
   ]
  },
  {
   "cell_type": "code",
   "execution_count": null,
   "metadata": {
    "execution": {
     "iopub.status.busy": "2023-02-07T18:47:28.124554Z",
     "iopub.status.idle": "2023-02-07T18:47:28.124700Z",
     "shell.execute_reply": "2023-02-07T18:47:28.124628Z",
     "shell.execute_reply.started": "2023-02-07T18:47:28.124620Z"
    },
    "tags": []
   },
   "outputs": [],
   "source": [
    "ray.shutdown()"
   ]
  },
  {
   "cell_type": "code",
   "execution_count": null,
   "metadata": {
    "execution": {
     "iopub.status.busy": "2023-02-07T18:47:28.125126Z",
     "iopub.status.idle": "2023-02-07T18:47:28.125273Z",
     "shell.execute_reply": "2023-02-07T18:47:28.125201Z",
     "shell.execute_reply.started": "2023-02-07T18:47:28.125193Z"
    },
    "tags": []
   },
   "outputs": [],
   "source": [
    "import ray\n",
    "\n",
    "ray.init(num_cpus=24)#, dashboard_port=24762, dashboard_host=\"0.0.0.0\", include_dashboard=True)#, webui_url=\"0.0.0.0\"))"
   ]
  },
  {
   "cell_type": "code",
   "execution_count": null,
   "metadata": {
    "execution": {
     "iopub.status.busy": "2023-02-07T18:47:28.125731Z",
     "iopub.status.idle": "2023-02-07T18:47:28.125880Z",
     "shell.execute_reply": "2023-02-07T18:47:28.125807Z",
     "shell.execute_reply.started": "2023-02-07T18:47:28.125799Z"
    },
    "tags": []
   },
   "outputs": [],
   "source": [
    "AgeSex = [\"age_at_recruitment_f21022_0_0\", \"sex_f31_0_0\"]"
   ]
  },
  {
   "cell_type": "markdown",
   "metadata": {},
   "source": [
    "# Train COX"
   ]
  },
  {
   "cell_type": "code",
   "execution_count": null,
   "metadata": {
    "execution": {
     "iopub.status.busy": "2023-02-07T18:47:28.126403Z",
     "iopub.status.idle": "2023-02-07T18:47:28.126558Z",
     "shell.execute_reply": "2023-02-07T18:47:28.126478Z",
     "shell.execute_reply.started": "2023-02-07T18:47:28.126471Z"
    },
    "tags": []
   },
   "outputs": [],
   "source": [
    "in_path = pathlib.Path(f\"{experiment_path}/coxph/input\")\n",
    "in_path.mkdir(parents=True, exist_ok=True)\n",
    "\n",
    "model_path = f\"{experiment_path}/coxph/models\"\n",
    "pathlib.Path(model_path).mkdir(parents=True, exist_ok=True)"
   ]
  },
  {
   "cell_type": "code",
   "execution_count": null,
   "metadata": {
    "execution": {
     "iopub.status.busy": "2023-02-07T18:47:28.126945Z",
     "iopub.status.idle": "2023-02-07T18:47:28.127098Z",
     "shell.execute_reply": "2023-02-07T18:47:28.127018Z",
     "shell.execute_reply.started": "2023-02-07T18:47:28.127011Z"
    },
    "tags": []
   },
   "outputs": [],
   "source": [
    "models = [f.name for f in in_path.iterdir() if f.is_dir() and \"ipynb_checkpoints\" not in str(f)]\n",
    "models"
   ]
  },
  {
   "cell_type": "code",
   "execution_count": null,
   "metadata": {
    "execution": {
     "iopub.status.busy": "2023-02-07T18:47:28.127538Z",
     "iopub.status.idle": "2023-02-07T18:47:28.127683Z",
     "shell.execute_reply": "2023-02-07T18:47:28.127611Z",
     "shell.execute_reply.started": "2023-02-07T18:47:28.127603Z"
    },
    "tags": []
   },
   "outputs": [],
   "source": [
    "from formulaic.errors import FactorEvaluationError"
   ]
  },
  {
   "cell_type": "code",
   "execution_count": null,
   "metadata": {
    "execution": {
     "iopub.status.busy": "2023-02-07T18:47:28.128116Z",
     "iopub.status.idle": "2023-02-07T18:47:28.128265Z",
     "shell.execute_reply": "2023-02-07T18:47:28.128192Z",
     "shell.execute_reply.started": "2023-02-07T18:47:28.128184Z"
    }
   },
   "outputs": [],
   "source": [
    "in_path"
   ]
  },
  {
   "cell_type": "code",
   "execution_count": null,
   "metadata": {
    "execution": {
     "iopub.status.busy": "2023-02-07T18:47:28.128859Z",
     "iopub.status.idle": "2023-02-07T18:47:28.129008Z",
     "shell.execute_reply": "2023-02-07T18:47:28.128936Z",
     "shell.execute_reply.started": "2023-02-07T18:47:28.128928Z"
    },
    "tags": []
   },
   "outputs": [],
   "source": [
    "from lifelines import CoxPHFitter\n",
    "from lifelines.exceptions import ConvergenceError\n",
    "import zstandard\n",
    "import pickle\n",
    "\n",
    "def get_features(endpoint):\n",
    "    features = {\n",
    "        models[0]: { # TODO CHANGE!\n",
    "            \"Age+Sex\": AgeSex,\n",
    "            \"Retina\": [endpoint],\n",
    "            \"Age+Sex+Retina\": AgeSex + [endpoint],\n",
    "            #\"Age+Sex+MedicalHistory+I(Age*MH)\": AgeSex + [endpoint]\n",
    "            }\n",
    "    }\n",
    "    return features\n",
    "\n",
    "def get_train_data(in_path, partition, models, mapping):\n",
    "    train_data = {\n",
    "        model: pd.read_feather(f\"{in_path}/{model}/{partition}/train.feather\").set_index(\"eid\").merge(data_outcomes, left_index=True, right_index=True, how=\"left\").replace(mapping)\n",
    "    for model in models}\n",
    "    \n",
    "    return train_data\n",
    "\n",
    "def fit_cox(data_fit, feature_set, covariates, endpoint, penalizer, step_size=1):\n",
    "    if feature_set==\"Age+Sex+MedicalHistory+I(Age*MH)\":\n",
    "        endpoint_label = endpoint.replace(\"-\", \"\")\n",
    "        data_fit.columns = [c.replace(\"-\", \"\") for c in data_fit.columns]\n",
    "        covariates = [c.replace(\"-\", \"\") for c in covariates]\n",
    "        #print(endpoint_label)\n",
    "        #print(data_fit)\n",
    "        #print(covariates)\n",
    "        if \"sex_f31_0_0\" in covariates:\n",
    "            formula=f\"age_at_recruitment_f21022_0_0*{endpoint_label}+sex_f31_0_0*{endpoint_label}\"\n",
    "        else:\n",
    "            formula=f\"age_at_recruitment_f21022_0_0*{endpoint_label}\"\n",
    "        cph = CoxPHFitter(penalizer=penalizer)\n",
    "        cph.fit(data_fit, f\"{endpoint_label}_time\", f\"{endpoint_label}_event\", formula=formula, step_size=step_size)\n",
    "    else:\n",
    "        cph = CoxPHFitter(penalizer=penalizer)\n",
    "        cph.fit(data_fit, f\"{endpoint}_time\", f\"{endpoint}_event\", step_size=step_size)\n",
    "\n",
    "    return cph\n",
    "\n",
    "def save_pickle(data, data_path):\n",
    "    with open(data_path, \"wb\") as fh:\n",
    "        cctx = zstandard.ZstdCompressor()\n",
    "        with cctx.stream_writer(fh) as compressor:\n",
    "            compressor.write(pickle.dumps(data, protocol=pickle.HIGHEST_PROTOCOL))\n",
    "            \n",
    "def load_pickle(fp):\n",
    "    with open(fp, \"rb\") as fh:\n",
    "        dctx = zstandard.ZstdDecompressor()\n",
    "        with dctx.stream_reader(fh) as decompressor:\n",
    "            data = pickle.loads(decompressor.read())\n",
    "    return data\n",
    "\n",
    "@ray.remote\n",
    "def fit_endpoint(data_partition, eids_dict, endpoint_defs, endpoint, partition, models, model_path):\n",
    "    eids_incl = eids_dict[endpoint].tolist()\n",
    "    features = get_features(endpoint)\n",
    "    eligibility = endpoint_defs.loc[endpoint][\"sex\"]\n",
    "    for model in models:\n",
    "        data_model = data_partition[model]\n",
    "        for feature_set, covariates in features[model].items():\n",
    "            cph_path = f\"{model_path}/{endpoint}_{feature_set}_{partition}.p\"\n",
    "            if os.path.isfile(cph_path):\n",
    "                try:\n",
    "                    cph = load_pickle(cph_path)\n",
    "                    success = True\n",
    "                except:\n",
    "                    success = False\n",
    "                    pass\n",
    "            if not os.path.isfile(cph_path) or success==False:\n",
    "                if (eligibility != \"Both\") and (\"sex_f31_0_0\" in covariates): \n",
    "                    covariates = [c for c in covariates if c!=\"sex_f31_0_0\"]\n",
    "                #print('covariates:', covariates)\n",
    "                data_endpoint = data_model[covariates + [f\"{endpoint}_event\", f\"{endpoint}_time\"]].astype(np.float32)\n",
    "                data_endpoint = data_endpoint[data_endpoint.index.isin(eids_incl)]\n",
    "                try:\n",
    "                    cph = fit_cox(data_endpoint, feature_set, covariates, endpoint, penalizer=0.0)\n",
    "                    save_pickle(cph, cph_path)\n",
    "                except (ValueError, ConvergenceError, KeyError,FactorEvaluationError) as e:\n",
    "                    print(\"ConvergenceError\", model, endpoint, feature_set, partition, \"problem: reduce step size\")\n",
    "                    try:\n",
    "                        cph = fit_cox(data_endpoint, feature_set, covariates, endpoint, penalizer=0.0, step_size=0.5)\n",
    "                        save_pickle(cph, cph_path)\n",
    "                        print(\"ConvergenceError\", model, endpoint, feature_set, partition, \"trying with reduced step size ... 0.5 successfull\")\n",
    "                    except (ValueError, ConvergenceError, KeyError,FactorEvaluationError) as e:\n",
    "                        print(\"ConvergenceError\", model, endpoint, feature_set, partition, \"trying with reduced step size ... 0.5 failed\")\n",
    "                        try:\n",
    "                            cph = fit_cox(data_endpoint, feature_set, covariates, endpoint, penalizer=0.0, step_size=0.1)\n",
    "                            save_pickle(cph, cph_path)\n",
    "                            print(\"ConvergenceError\", model, endpoint, feature_set, partition, \"trying with reduced step size ... 0.1 successfull\")\n",
    "                        except (ValueError, ConvergenceError, KeyError, FactorEvaluationError) as e:\n",
    "                            print(\"ConvergenceError\", model, endpoint, feature_set, partition, \"trying with reduced step size ... 0.1 failed\")\n",
    "                            save_pickle(data_endpoint, f\"{experiment_path}/coxph/errordata_{endpoint}_{feature_set}_{partition}.p\")\n",
    "                            pass\n",
    "    return True"
   ]
  },
  {
   "cell_type": "code",
   "execution_count": null,
   "metadata": {
    "execution": {
     "iopub.status.busy": "2023-02-07T18:47:28.129472Z",
     "iopub.status.idle": "2023-02-07T18:47:28.129624Z",
     "shell.execute_reply": "2023-02-07T18:47:28.129550Z",
     "shell.execute_reply.started": "2023-02-07T18:47:28.129542Z"
    }
   },
   "outputs": [],
   "source": [
    "f\"{experiment_path}/coxph\""
   ]
  },
  {
   "cell_type": "raw",
   "metadata": {
    "execution": {
     "iopub.execute_input": "2022-04-14T14:30:58.815755Z",
     "iopub.status.busy": "2022-04-14T14:30:58.815646Z",
     "iopub.status.idle": "2022-04-14T14:30:59.641195Z",
     "shell.execute_reply": "2022-04-14T14:30:59.640433Z",
     "shell.execute_reply.started": "2022-04-14T14:30:58.815742Z"
    },
    "tags": []
   },
   "source": [
    "features = get_features(endpoint)\n",
    "covariates = features['Identity(Records)+MLP']['Age+Sex+MedicalHistory+I(Age*MH)']"
   ]
  },
  {
   "cell_type": "raw",
   "metadata": {
    "execution": {
     "iopub.status.busy": "2022-04-14T14:30:59.642136Z",
     "iopub.status.idle": "2022-04-14T14:30:59.642450Z",
     "shell.execute_reply": "2022-04-14T14:30:59.642343Z",
     "shell.execute_reply.started": "2022-04-14T14:30:59.642329Z"
    },
    "tags": []
   },
   "source": [
    "formula=f\"{' + '.join(covariates)}+age_at_recruitment_f21022_0_0*{endpoint}\"\n",
    "formula"
   ]
  },
  {
   "cell_type": "code",
   "execution_count": null,
   "metadata": {
    "execution": {
     "iopub.status.busy": "2023-02-07T18:47:28.130083Z",
     "iopub.status.idle": "2023-02-07T18:47:28.130231Z",
     "shell.execute_reply": "2023-02-07T18:47:28.130158Z",
     "shell.execute_reply.started": "2023-02-07T18:47:28.130150Z"
    },
    "tags": []
   },
   "outputs": [],
   "source": [
    "model_list =  !ls $model_path\n",
    "#model_list = [m for m in model_list if \"I(\" in m]\n",
    "model_list = [m for m in model_list]"
   ]
  },
  {
   "cell_type": "code",
   "execution_count": null,
   "metadata": {
    "execution": {
     "iopub.status.busy": "2023-02-07T18:47:28.130657Z",
     "iopub.status.idle": "2023-02-07T18:47:28.130802Z",
     "shell.execute_reply": "2023-02-07T18:47:28.130730Z",
     "shell.execute_reply.started": "2023-02-07T18:47:28.130722Z"
    },
    "tags": []
   },
   "outputs": [],
   "source": [
    "model_list"
   ]
  },
  {
   "cell_type": "code",
   "execution_count": null,
   "metadata": {
    "execution": {
     "iopub.status.busy": "2023-02-07T18:47:28.131241Z",
     "iopub.status.idle": "2023-02-07T18:47:28.131385Z",
     "shell.execute_reply": "2023-02-07T18:47:28.131313Z",
     "shell.execute_reply.started": "2023-02-07T18:47:28.131306Z"
    }
   },
   "outputs": [],
   "source": [
    "1+1"
   ]
  },
  {
   "cell_type": "raw",
   "metadata": {
    "jupyter": {
     "outputs_hidden": true
    },
    "tags": []
   },
   "source": [
    "#### TEST ####\n",
    "\n",
    "mapping = {\"sex_f31_0_0\": {\"Female\":0, \"Male\":1}}\n",
    "\n",
    "for partition in tqdm([0]): # in tqdm(partitions) # TODO: CHANGE!\n",
    "    try:\n",
    "        data_partition = get_train_data(in_path, partition, models, mapping)\n",
    "        for endpoint in tqdm(endpoints):\n",
    "            print('NEXT ENDPOINT:',endpoint)\n",
    "            if endpoint not in endpoints_not_overlapping_with_preds: # double check if this works as expected\n",
    "                fit_endpoint(data_partition, eids_dict, endpoint_defs, endpoint, partition, models, model_path)\n",
    "            else:\n",
    "                print('überspringe', endpoint)\n",
    "    except FileNotFoundError:\n",
    "        print('file not found')\n",
    "        pass"
   ]
  },
  {
   "cell_type": "code",
   "execution_count": null,
   "metadata": {
    "execution": {
     "iopub.status.busy": "2023-02-07T18:47:28.131899Z",
     "iopub.status.idle": "2023-02-07T18:47:28.132045Z",
     "shell.execute_reply": "2023-02-07T18:47:28.131973Z",
     "shell.execute_reply.started": "2023-02-07T18:47:28.131965Z"
    },
    "tags": []
   },
   "outputs": [],
   "source": [
    "mapping = {\"sex_f31_0_0\": {\"Female\":0, \"Male\":1}}\n",
    "\n",
    "ray_eids = ray.put(eids_dict)\n",
    "ray_endpoint_defs = ray.put(endpoint_defs)\n",
    "for partition in tqdm([0]): # in tqdm(partitions) # TODO: CHANGE!\n",
    "    try:\n",
    "        del ray_partition\n",
    "    except:\n",
    "        print(\"Ray object not yet initialised\")\n",
    "    try:\n",
    "        data_partition = get_train_data(in_path, partition, models, mapping)\n",
    "        ray_partition = ray.put(data_partition)\n",
    "        progress = []\n",
    "        for endpoint in endpoints:\n",
    "            progress.append(fit_endpoint.remote(ray_partition, ray_eids, ray_endpoint_defs, endpoint, partition, models, model_path))\n",
    "        [ray.get(s) for s in tqdm(progress)]\n",
    "    except FileNotFoundError:\n",
    "        print('file not found')\n",
    "        pass"
   ]
  },
  {
   "cell_type": "code",
   "execution_count": null,
   "metadata": {
    "execution": {
     "iopub.status.busy": "2023-02-07T18:47:28.132500Z",
     "iopub.status.idle": "2023-02-07T18:47:28.132646Z",
     "shell.execute_reply": "2023-02-07T18:47:28.132574Z",
     "shell.execute_reply.started": "2023-02-07T18:47:28.132566Z"
    },
    "tags": []
   },
   "outputs": [],
   "source": [
    "load_pickle(\"/sc-projects/sc-proj-ukb-cvd/results/projects/22_retina_phewas/data/test_experiment/coxph/models/phecode_841_Retina_0.p\")"
   ]
  },
  {
   "cell_type": "code",
   "execution_count": null,
   "metadata": {
    "execution": {
     "iopub.status.busy": "2023-02-07T18:47:28.133171Z",
     "iopub.status.idle": "2023-02-07T18:47:28.133316Z",
     "shell.execute_reply": "2023-02-07T18:47:28.133244Z",
     "shell.execute_reply.started": "2023-02-07T18:47:28.133236Z"
    },
    "tags": []
   },
   "outputs": [],
   "source": [
    "data_partition['Identity(Records)+MLP']['phecode_977']"
   ]
  },
  {
   "cell_type": "code",
   "execution_count": null,
   "metadata": {},
   "outputs": [],
   "source": []
  }
 ],
 "metadata": {
  "kernelspec": {
   "display_name": "retrisk",
   "language": "python",
   "name": "retrisk"
  },
  "language_info": {
   "codemirror_mode": {
    "name": "ipython",
    "version": 3
   },
   "file_extension": ".py",
   "mimetype": "text/x-python",
   "name": "python",
   "nbconvert_exporter": "python",
   "pygments_lexer": "ipython3",
   "version": "3.9.7"
  },
  "toc-autonumbering": false
 },
 "nbformat": 4,
 "nbformat_minor": 4
}
