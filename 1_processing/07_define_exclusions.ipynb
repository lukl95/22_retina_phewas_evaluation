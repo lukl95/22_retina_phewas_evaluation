{
 "cells": [
  {
   "cell_type": "markdown",
   "metadata": {},
   "source": [
    "# Benchmarks"
   ]
  },
  {
   "cell_type": "markdown",
   "metadata": {},
   "source": [
    "## Initialize"
   ]
  },
  {
   "cell_type": "code",
   "execution_count": 1,
   "metadata": {
    "execution": {
     "iopub.execute_input": "2022-11-08T22:50:18.490664Z",
     "iopub.status.busy": "2022-11-08T22:50:18.490537Z",
     "iopub.status.idle": "2022-11-08T22:50:22.800221Z",
     "shell.execute_reply": "2022-11-08T22:50:22.799722Z",
     "shell.execute_reply.started": "2022-11-08T22:50:18.490630Z"
    },
    "tags": []
   },
   "outputs": [],
   "source": [
    "%load_ext autoreload\n",
    "%autoreload 2\n",
    "\n",
    "import os\n",
    "import math\n",
    "import pathlib\n",
    "import numpy as np\n",
    "import pandas as pd\n",
    "from tqdm.auto import tqdm\n",
    "from IPython.display import clear_output\n",
    "\n",
    "import warnings\n",
    "from lifelines.utils import CensoringType\n",
    "from lifelines.utils import concordance_index"
   ]
  },
  {
   "cell_type": "code",
   "execution_count": 2,
   "metadata": {
    "execution": {
     "iopub.execute_input": "2022-11-08T22:50:22.801126Z",
     "iopub.status.busy": "2022-11-08T22:50:22.801013Z",
     "iopub.status.idle": "2022-11-08T22:50:22.839986Z",
     "shell.execute_reply": "2022-11-08T22:50:22.839563Z",
     "shell.execute_reply.started": "2022-11-08T22:50:22.801111Z"
    },
    "tags": []
   },
   "outputs": [
    {
     "name": "stdout",
     "output_type": "stream",
     "text": [
      "/sc-projects/sc-proj-ukb-cvd\n"
     ]
    },
    {
     "data": {
      "text/plain": [
       "[0, 1, 2, 3, 4, 5, 6, 7, 8, 9, 10, 11, 12, 13, 14, 15, 16, 17, 18, 19, 20, 21]"
      ]
     },
     "execution_count": 2,
     "metadata": {},
     "output_type": "execute_result"
    }
   ],
   "source": [
    "node = !hostname\n",
    "if \"sc\" in node[0]:\n",
    "    base_path = \"/sc-projects/sc-proj-ukb-cvd\"\n",
    "else: \n",
    "    base_path = \"/data/analysis/ag-reils/ag-reils-shared/cardioRS\"\n",
    "print(base_path)\n",
    "\n",
    "project_label = \"22_retina_phewas\"\n",
    "project_path = f\"{base_path}/results/projects/{project_label}\"\n",
    "figure_path = f\"{project_path}/figures\"\n",
    "output_path = f\"{project_path}/data\"\n",
    "\n",
    "pathlib.Path(figure_path).mkdir(parents=True, exist_ok=True)\n",
    "pathlib.Path(output_path).mkdir(parents=True, exist_ok=True)\n",
    "\n",
    "#experiment = '220812_test'\n",
    "experiment = '221108'\n",
    "experiment_path = f\"{output_path}/{experiment}\"\n",
    "pathlib.Path(experiment_path).mkdir(parents=True, exist_ok=True)\n",
    "\n",
    "\n",
    "name_dict = {\n",
    "    \"predictions_cropratio0.66\": \"ConvNextSmall(Retina)+MLP_cropratio0.66\",\n",
    "}\n",
    "\n",
    "partitions = [i for i in range(22)]\n",
    "partitions"
   ]
  },
  {
   "cell_type": "code",
   "execution_count": 3,
   "metadata": {
    "execution": {
     "iopub.execute_input": "2022-11-08T22:50:22.840877Z",
     "iopub.status.busy": "2022-11-08T22:50:22.840759Z",
     "iopub.status.idle": "2022-11-08T22:50:22.857354Z",
     "shell.execute_reply": "2022-11-08T22:50:22.857013Z",
     "shell.execute_reply.started": "2022-11-08T22:50:22.840862Z"
    },
    "tags": []
   },
   "outputs": [],
   "source": [
    "today = '221109'"
   ]
  },
  {
   "cell_type": "code",
   "execution_count": 4,
   "metadata": {
    "execution": {
     "iopub.execute_input": "2022-11-08T22:50:22.858164Z",
     "iopub.status.busy": "2022-11-08T22:50:22.857892Z",
     "iopub.status.idle": "2022-11-08T22:50:22.887631Z",
     "shell.execute_reply": "2022-11-08T22:50:22.887265Z",
     "shell.execute_reply.started": "2022-11-08T22:50:22.858149Z"
    },
    "tags": []
   },
   "outputs": [],
   "source": [
    "import pandas as pd\n",
    "endpoints = sorted([l.replace('_prevalent', '') for l in list(pd.read_csv('/sc-projects/sc-proj-ukb-cvd/results/projects/22_retinal_risk/data/220602/endpoints.csv').endpoint.values)])"
   ]
  },
  {
   "cell_type": "code",
   "execution_count": 5,
   "metadata": {
    "execution": {
     "iopub.execute_input": "2022-11-08T22:50:22.888559Z",
     "iopub.status.busy": "2022-11-08T22:50:22.888260Z",
     "iopub.status.idle": "2022-11-08T22:50:22.901793Z",
     "shell.execute_reply": "2022-11-08T22:50:22.901458Z",
     "shell.execute_reply.started": "2022-11-08T22:50:22.888543Z"
    },
    "tags": []
   },
   "outputs": [
    {
     "data": {
      "text/plain": [
       "'/sc-projects/sc-proj-ukb-cvd/results/projects/22_retina_phewas/data'"
      ]
     },
     "execution_count": 5,
     "metadata": {},
     "output_type": "execute_result"
    }
   ],
   "source": [
    "output_path"
   ]
  },
  {
   "cell_type": "code",
   "execution_count": 6,
   "metadata": {
    "execution": {
     "iopub.execute_input": "2022-11-08T22:50:22.902400Z",
     "iopub.status.busy": "2022-11-08T22:50:22.902302Z",
     "iopub.status.idle": "2022-11-08T22:50:22.981500Z",
     "shell.execute_reply": "2022-11-08T22:50:22.981108Z",
     "shell.execute_reply.started": "2022-11-08T22:50:22.902387Z"
    },
    "tags": []
   },
   "outputs": [
    {
     "data": {
      "text/html": [
       "<div>\n",
       "<style scoped>\n",
       "    .dataframe tbody tr th:only-of-type {\n",
       "        vertical-align: middle;\n",
       "    }\n",
       "\n",
       "    .dataframe tbody tr th {\n",
       "        vertical-align: top;\n",
       "    }\n",
       "\n",
       "    .dataframe thead th {\n",
       "        text-align: right;\n",
       "    }\n",
       "</style>\n",
       "<table border=\"1\" class=\"dataframe\">\n",
       "  <thead>\n",
       "    <tr style=\"text-align: right;\">\n",
       "      <th></th>\n",
       "      <th>phecode</th>\n",
       "      <th>phecode_string</th>\n",
       "      <th>phecode_category</th>\n",
       "      <th>sex</th>\n",
       "      <th>ICD10_only</th>\n",
       "      <th>phecode_top</th>\n",
       "      <th>leaf</th>\n",
       "    </tr>\n",
       "    <tr>\n",
       "      <th>endpoint</th>\n",
       "      <th></th>\n",
       "      <th></th>\n",
       "      <th></th>\n",
       "      <th></th>\n",
       "      <th></th>\n",
       "      <th></th>\n",
       "      <th></th>\n",
       "    </tr>\n",
       "  </thead>\n",
       "  <tbody>\n",
       "    <tr>\n",
       "      <th>OMOP_4306655</th>\n",
       "      <td>4306655</td>\n",
       "      <td>All-Cause Death</td>\n",
       "      <td>Death</td>\n",
       "      <td>Both</td>\n",
       "      <td>NaN</td>\n",
       "      <td>None</td>\n",
       "      <td>NaN</td>\n",
       "    </tr>\n",
       "    <tr>\n",
       "      <th>phecode_002</th>\n",
       "      <td>002</td>\n",
       "      <td>Staphylococcus</td>\n",
       "      <td>ID</td>\n",
       "      <td>Both</td>\n",
       "      <td>0.0</td>\n",
       "      <td>002</td>\n",
       "      <td>0.0</td>\n",
       "    </tr>\n",
       "    <tr>\n",
       "      <th>phecode_002-1</th>\n",
       "      <td>002.1</td>\n",
       "      <td>Staphylococcus aureus</td>\n",
       "      <td>ID</td>\n",
       "      <td>Both</td>\n",
       "      <td>0.0</td>\n",
       "      <td>002</td>\n",
       "      <td>1.0</td>\n",
       "    </tr>\n",
       "    <tr>\n",
       "      <th>phecode_003</th>\n",
       "      <td>003</td>\n",
       "      <td>Escherichia coli</td>\n",
       "      <td>ID</td>\n",
       "      <td>Both</td>\n",
       "      <td>0.0</td>\n",
       "      <td>003</td>\n",
       "      <td>1.0</td>\n",
       "    </tr>\n",
       "    <tr>\n",
       "      <th>phecode_004</th>\n",
       "      <td>004</td>\n",
       "      <td>Streptococcus</td>\n",
       "      <td>ID</td>\n",
       "      <td>Both</td>\n",
       "      <td>0.0</td>\n",
       "      <td>004</td>\n",
       "      <td>0.0</td>\n",
       "    </tr>\n",
       "  </tbody>\n",
       "</table>\n",
       "</div>"
      ],
      "text/plain": [
       "               phecode         phecode_string phecode_category   sex  \\\n",
       "endpoint                                                               \n",
       "OMOP_4306655   4306655        All-Cause Death            Death  Both   \n",
       "phecode_002        002         Staphylococcus               ID  Both   \n",
       "phecode_002-1    002.1  Staphylococcus aureus               ID  Both   \n",
       "phecode_003        003       Escherichia coli               ID  Both   \n",
       "phecode_004        004          Streptococcus               ID  Both   \n",
       "\n",
       "               ICD10_only phecode_top  leaf  \n",
       "endpoint                                     \n",
       "OMOP_4306655          NaN        None   NaN  \n",
       "phecode_002           0.0         002   0.0  \n",
       "phecode_002-1         0.0         002   1.0  \n",
       "phecode_003           0.0         003   1.0  \n",
       "phecode_004           0.0         004   0.0  "
      ]
     },
     "execution_count": 6,
     "metadata": {},
     "output_type": "execute_result"
    }
   ],
   "source": [
    "endpoint_defs = pd.read_feather(f\"{output_path}/phecode_defs_220306.feather\").query(\"endpoint==@endpoints\").sort_values(\"endpoint\").set_index(\"endpoint\")\n",
    "endpoint_defs.head()"
   ]
  },
  {
   "cell_type": "code",
   "execution_count": 7,
   "metadata": {
    "execution": {
     "iopub.execute_input": "2022-11-08T22:50:22.982511Z",
     "iopub.status.busy": "2022-11-08T22:50:22.982191Z",
     "iopub.status.idle": "2022-11-08T22:50:23.032767Z",
     "shell.execute_reply": "2022-11-08T22:50:23.032359Z",
     "shell.execute_reply.started": "2022-11-08T22:50:22.982493Z"
    },
    "tags": []
   },
   "outputs": [],
   "source": [
    "# data_covariates = pd.read_feather(\"/sc-projects/sc-proj-ukb-cvd/data/2_datasets_pre/211110_anewbeginning/baseline_covariates_220503.feather\")[[\"eid\", \"sex_f31_0_0\"]].set_index(\"eid\")\n",
    "# data_covariates.head()\n",
    "data_covariates = pd.read_feather(f\"{output_path}/data_covariates_full.feather\")[[\"eid\", \"sex\"]].set_index(\"eid\")"
   ]
  },
  {
   "cell_type": "code",
   "execution_count": 8,
   "metadata": {
    "execution": {
     "iopub.execute_input": "2022-11-08T22:50:23.033686Z",
     "iopub.status.busy": "2022-11-08T22:50:23.033427Z",
     "iopub.status.idle": "2022-11-08T22:51:12.315981Z",
     "shell.execute_reply": "2022-11-08T22:51:12.315437Z",
     "shell.execute_reply.started": "2022-11-08T22:50:23.033670Z"
    },
    "tags": []
   },
   "outputs": [
    {
     "data": {
      "text/html": [
       "<div>\n",
       "<style scoped>\n",
       "    .dataframe tbody tr th:only-of-type {\n",
       "        vertical-align: middle;\n",
       "    }\n",
       "\n",
       "    .dataframe tbody tr th {\n",
       "        vertical-align: top;\n",
       "    }\n",
       "\n",
       "    .dataframe thead th {\n",
       "        text-align: right;\n",
       "    }\n",
       "</style>\n",
       "<table border=\"1\" class=\"dataframe\">\n",
       "  <thead>\n",
       "    <tr style=\"text-align: right;\">\n",
       "      <th></th>\n",
       "      <th>endpoint</th>\n",
       "      <th>prev</th>\n",
       "      <th>event</th>\n",
       "      <th>time</th>\n",
       "    </tr>\n",
       "    <tr>\n",
       "      <th>eid</th>\n",
       "      <th></th>\n",
       "      <th></th>\n",
       "      <th></th>\n",
       "      <th></th>\n",
       "    </tr>\n",
       "  </thead>\n",
       "  <tbody>\n",
       "    <tr>\n",
       "      <th>1000018</th>\n",
       "      <td>OMOP_4306655</td>\n",
       "      <td>False</td>\n",
       "      <td>False</td>\n",
       "      <td>11.866089</td>\n",
       "    </tr>\n",
       "    <tr>\n",
       "      <th>1000020</th>\n",
       "      <td>OMOP_4306655</td>\n",
       "      <td>False</td>\n",
       "      <td>False</td>\n",
       "      <td>13.596446</td>\n",
       "    </tr>\n",
       "    <tr>\n",
       "      <th>1000037</th>\n",
       "      <td>OMOP_4306655</td>\n",
       "      <td>False</td>\n",
       "      <td>False</td>\n",
       "      <td>12.868163</td>\n",
       "    </tr>\n",
       "    <tr>\n",
       "      <th>1000043</th>\n",
       "      <td>OMOP_4306655</td>\n",
       "      <td>False</td>\n",
       "      <td>False</td>\n",
       "      <td>12.309629</td>\n",
       "    </tr>\n",
       "    <tr>\n",
       "      <th>1000051</th>\n",
       "      <td>OMOP_4306655</td>\n",
       "      <td>False</td>\n",
       "      <td>False</td>\n",
       "      <td>15.291210</td>\n",
       "    </tr>\n",
       "  </tbody>\n",
       "</table>\n",
       "</div>"
      ],
      "text/plain": [
       "             endpoint   prev  event       time\n",
       "eid                                           \n",
       "1000018  OMOP_4306655  False  False  11.866089\n",
       "1000020  OMOP_4306655  False  False  13.596446\n",
       "1000037  OMOP_4306655  False  False  12.868163\n",
       "1000043  OMOP_4306655  False  False  12.309629\n",
       "1000051  OMOP_4306655  False  False  15.291210"
      ]
     },
     "execution_count": 8,
     "metadata": {},
     "output_type": "execute_result"
    }
   ],
   "source": [
    "data_outcomes = pd.read_feather(f\"{output_path}/baseline_outcomes_long_220627.feather\").set_index(\"eid\")\n",
    "data_outcomes.head()"
   ]
  },
  {
   "cell_type": "code",
   "execution_count": 9,
   "metadata": {
    "execution": {
     "iopub.execute_input": "2022-11-08T22:51:12.317139Z",
     "iopub.status.busy": "2022-11-08T22:51:12.316706Z",
     "iopub.status.idle": "2022-11-08T22:55:00.164719Z",
     "shell.execute_reply": "2022-11-08T22:55:00.163887Z",
     "shell.execute_reply.started": "2022-11-08T22:51:12.317120Z"
    },
    "tags": []
   },
   "outputs": [],
   "source": [
    "data_all = data_outcomes.merge(data_covariates, left_index=True, right_index=True, how=\"left\").reset_index(drop=False).set_index(\"endpoint\")"
   ]
  },
  {
   "cell_type": "code",
   "execution_count": 10,
   "metadata": {
    "execution": {
     "iopub.execute_input": "2022-11-08T22:55:00.166063Z",
     "iopub.status.busy": "2022-11-08T22:55:00.165930Z",
     "iopub.status.idle": "2022-11-08T22:55:01.178544Z",
     "shell.execute_reply": "2022-11-08T22:55:01.178091Z",
     "shell.execute_reply.started": "2022-11-08T22:55:00.166046Z"
    },
    "tags": []
   },
   "outputs": [
    {
     "data": {
      "text/html": [
       "<div>\n",
       "<style scoped>\n",
       "    .dataframe tbody tr th:only-of-type {\n",
       "        vertical-align: middle;\n",
       "    }\n",
       "\n",
       "    .dataframe tbody tr th {\n",
       "        vertical-align: top;\n",
       "    }\n",
       "\n",
       "    .dataframe thead th {\n",
       "        text-align: right;\n",
       "    }\n",
       "</style>\n",
       "<table border=\"1\" class=\"dataframe\">\n",
       "  <thead>\n",
       "    <tr style=\"text-align: right;\">\n",
       "      <th></th>\n",
       "      <th>eid</th>\n",
       "      <th>prev</th>\n",
       "      <th>event</th>\n",
       "      <th>time</th>\n",
       "      <th>sex</th>\n",
       "    </tr>\n",
       "    <tr>\n",
       "      <th>endpoint</th>\n",
       "      <th></th>\n",
       "      <th></th>\n",
       "      <th></th>\n",
       "      <th></th>\n",
       "      <th></th>\n",
       "    </tr>\n",
       "  </thead>\n",
       "  <tbody>\n",
       "    <tr>\n",
       "      <th>OMOP_4306655</th>\n",
       "      <td>1000018</td>\n",
       "      <td>False</td>\n",
       "      <td>False</td>\n",
       "      <td>11.866089</td>\n",
       "      <td>Female</td>\n",
       "    </tr>\n",
       "    <tr>\n",
       "      <th>phecode_001</th>\n",
       "      <td>1000018</td>\n",
       "      <td>False</td>\n",
       "      <td>False</td>\n",
       "      <td>11.866089</td>\n",
       "      <td>Female</td>\n",
       "    </tr>\n",
       "    <tr>\n",
       "      <th>phecode_002</th>\n",
       "      <td>1000018</td>\n",
       "      <td>False</td>\n",
       "      <td>False</td>\n",
       "      <td>11.866089</td>\n",
       "      <td>Female</td>\n",
       "    </tr>\n",
       "    <tr>\n",
       "      <th>phecode_002-1</th>\n",
       "      <td>1000018</td>\n",
       "      <td>False</td>\n",
       "      <td>False</td>\n",
       "      <td>11.866089</td>\n",
       "      <td>Female</td>\n",
       "    </tr>\n",
       "    <tr>\n",
       "      <th>phecode_003</th>\n",
       "      <td>1000018</td>\n",
       "      <td>False</td>\n",
       "      <td>False</td>\n",
       "      <td>11.866089</td>\n",
       "      <td>Female</td>\n",
       "    </tr>\n",
       "  </tbody>\n",
       "</table>\n",
       "</div>"
      ],
      "text/plain": [
       "                   eid   prev  event       time     sex\n",
       "endpoint                                               \n",
       "OMOP_4306655   1000018  False  False  11.866089  Female\n",
       "phecode_001    1000018  False  False  11.866089  Female\n",
       "phecode_002    1000018  False  False  11.866089  Female\n",
       "phecode_002-1  1000018  False  False  11.866089  Female\n",
       "phecode_003    1000018  False  False  11.866089  Female"
      ]
     },
     "execution_count": 10,
     "metadata": {},
     "output_type": "execute_result"
    }
   ],
   "source": [
    "data_all.head()"
   ]
  },
  {
   "cell_type": "code",
   "execution_count": 11,
   "metadata": {
    "execution": {
     "iopub.execute_input": "2022-11-08T22:55:01.179405Z",
     "iopub.status.busy": "2022-11-08T22:55:01.179295Z",
     "iopub.status.idle": "2022-11-08T22:58:32.243392Z",
     "shell.execute_reply": "2022-11-08T22:58:32.242746Z",
     "shell.execute_reply.started": "2022-11-08T22:55:01.179391Z"
    },
    "tags": []
   },
   "outputs": [],
   "source": [
    "data_dict = {e: df.reset_index(drop=True).set_index(\"eid\") for e, df in data_all.groupby('endpoint')}\n",
    "#data_dict.keys()"
   ]
  },
  {
   "cell_type": "code",
   "execution_count": 12,
   "metadata": {
    "execution": {
     "iopub.execute_input": "2022-11-08T22:58:32.245567Z",
     "iopub.status.busy": "2022-11-08T22:58:32.245343Z",
     "iopub.status.idle": "2022-11-08T22:58:33.109363Z",
     "shell.execute_reply": "2022-11-08T22:58:33.108937Z",
     "shell.execute_reply.started": "2022-11-08T22:58:32.245550Z"
    },
    "tags": []
   },
   "outputs": [],
   "source": [
    "#endpoints"
   ]
  },
  {
   "cell_type": "code",
   "execution_count": 13,
   "metadata": {
    "execution": {
     "iopub.execute_input": "2022-11-08T22:58:33.110261Z",
     "iopub.status.busy": "2022-11-08T22:58:33.110001Z",
     "iopub.status.idle": "2022-11-08T22:58:33.126795Z",
     "shell.execute_reply": "2022-11-08T22:58:33.126373Z",
     "shell.execute_reply.started": "2022-11-08T22:58:33.110245Z"
    },
    "tags": []
   },
   "outputs": [
    {
     "data": {
      "text/plain": [
       "array(['Both', 'Female', 'Male'], dtype=object)"
      ]
     },
     "execution_count": 13,
     "metadata": {},
     "output_type": "execute_result"
    }
   ],
   "source": [
    "endpoint_defs.sex.unique()"
   ]
  },
  {
   "cell_type": "code",
   "execution_count": 14,
   "metadata": {
    "execution": {
     "iopub.execute_input": "2022-11-08T22:58:33.127684Z",
     "iopub.status.busy": "2022-11-08T22:58:33.127412Z",
     "iopub.status.idle": "2022-11-08T22:58:33.143179Z",
     "shell.execute_reply": "2022-11-08T22:58:33.142741Z",
     "shell.execute_reply.started": "2022-11-08T22:58:33.127669Z"
    },
    "tags": []
   },
   "outputs": [],
   "source": [
    "def get_eligable_eids(data_dict, endpoint):\n",
    "\n",
    "    data_temp = data_dict[endpoint]\n",
    "    eligibility = endpoint_defs.loc[endpoint][\"sex\"]\n",
    "    \n",
    "    if eligibility == \"Both\": \n",
    "        eids_incl = data_temp.copy().query(f\"prev==0\").index.to_list()\n",
    "    else:\n",
    "        eids_incl = data_temp.copy().query(f\"prev==0&sex==@eligibility\").index.to_list()\n",
    "        \n",
    "    return {\"endpoint\": endpoint, \n",
    "            \"n_eids\": len(eids_incl), \n",
    "            \"eid_list\": eids_incl}"
   ]
  },
  {
   "cell_type": "code",
   "execution_count": 15,
   "metadata": {
    "execution": {
     "iopub.execute_input": "2022-11-08T22:58:33.144031Z",
     "iopub.status.busy": "2022-11-08T22:58:33.143929Z",
     "iopub.status.idle": "2022-11-08T22:59:01.162655Z",
     "shell.execute_reply": "2022-11-08T22:59:01.162019Z",
     "shell.execute_reply.started": "2022-11-08T22:58:33.144018Z"
    },
    "tags": []
   },
   "outputs": [
    {
     "data": {
      "application/vnd.jupyter.widget-view+json": {
       "model_id": "39fdd51fbbf14fc0a039c4743a240143",
       "version_major": 2,
       "version_minor": 0
      },
      "text/plain": [
       "  0%|          | 0/1171 [00:00<?, ?it/s]"
      ]
     },
     "metadata": {},
     "output_type": "display_data"
    }
   ],
   "source": [
    "#long_endpoints_unique = data_outcomes['endpoint'].unique()\n",
    "#endpoints_in_long = [e for e in endpoints if e in long_endpoints_unique]\n",
    "\n",
    "d_list = [get_eligable_eids(data_dict, endpoint) for endpoint in tqdm(endpoints)] \n",
    "eid_df = pd.DataFrame.from_dict(d_list)"
   ]
  },
  {
   "cell_type": "code",
   "execution_count": 16,
   "metadata": {
    "execution": {
     "iopub.execute_input": "2022-11-08T22:59:01.163961Z",
     "iopub.status.busy": "2022-11-08T22:59:01.163708Z",
     "iopub.status.idle": "2022-11-08T22:59:01.181586Z",
     "shell.execute_reply": "2022-11-08T22:59:01.181157Z",
     "shell.execute_reply.started": "2022-11-08T22:59:01.163942Z"
    }
   },
   "outputs": [],
   "source": [
    "#eid_df.set_index(\"endpoint\")[\"eid_list\"].to_dict()"
   ]
  },
  {
   "cell_type": "code",
   "execution_count": 17,
   "metadata": {
    "execution": {
     "iopub.execute_input": "2022-11-08T22:59:01.182474Z",
     "iopub.status.busy": "2022-11-08T22:59:01.182215Z",
     "iopub.status.idle": "2022-11-08T22:59:01.197368Z",
     "shell.execute_reply": "2022-11-08T22:59:01.196952Z",
     "shell.execute_reply.started": "2022-11-08T22:59:01.182458Z"
    },
    "tags": []
   },
   "outputs": [],
   "source": [
    "from datetime import date\n",
    "today = str(date.today()) if today is None else today"
   ]
  },
  {
   "cell_type": "code",
   "execution_count": 18,
   "metadata": {
    "execution": {
     "iopub.execute_input": "2022-11-08T22:59:01.198011Z",
     "iopub.status.busy": "2022-11-08T22:59:01.197913Z",
     "iopub.status.idle": "2022-11-08T22:59:01.211646Z",
     "shell.execute_reply": "2022-11-08T22:59:01.211240Z",
     "shell.execute_reply.started": "2022-11-08T22:59:01.197998Z"
    }
   },
   "outputs": [
    {
     "data": {
      "text/plain": [
       "'/sc-projects/sc-proj-ukb-cvd/results/projects/22_retina_phewas/data/eligable_eids_221109.feather'"
      ]
     },
     "execution_count": 18,
     "metadata": {},
     "output_type": "execute_result"
    }
   ],
   "source": [
    "f\"{output_path}/eligable_eids_{today}.feather\""
   ]
  },
  {
   "cell_type": "code",
   "execution_count": 19,
   "metadata": {
    "execution": {
     "iopub.execute_input": "2022-11-08T22:59:01.212504Z",
     "iopub.status.busy": "2022-11-08T22:59:01.212260Z",
     "iopub.status.idle": "2022-11-08T22:59:35.874811Z",
     "shell.execute_reply": "2022-11-08T22:59:35.874286Z",
     "shell.execute_reply.started": "2022-11-08T22:59:01.212490Z"
    },
    "tags": []
   },
   "outputs": [
    {
     "data": {
      "text/plain": [
       "'/sc-projects/sc-proj-ukb-cvd/results/projects/22_retina_phewas/data/eligable_eids_221109.feather'"
      ]
     },
     "execution_count": 19,
     "metadata": {},
     "output_type": "execute_result"
    }
   ],
   "source": [
    "eid_df.to_feather(f\"{output_path}/eligable_eids_{today}.feather\") \n",
    "f\"{output_path}/eligable_eids_{today}.feather\""
   ]
  },
  {
   "cell_type": "code",
   "execution_count": 20,
   "metadata": {
    "execution": {
     "iopub.execute_input": "2022-11-08T22:59:35.875857Z",
     "iopub.status.busy": "2022-11-08T22:59:35.875677Z",
     "iopub.status.idle": "2022-11-08T23:02:20.222904Z",
     "shell.execute_reply": "2022-11-08T23:02:20.221967Z",
     "shell.execute_reply.started": "2022-11-08T22:59:35.875840Z"
    },
    "tags": []
   },
   "outputs": [],
   "source": [
    "eid_df_long = eid_df[[\"endpoint\", \"eid_list\"]].explode(\"eid_list\").reset_index(drop=True)\n",
    "eid_df_long.columns = [\"endpoint\", \"eid\"]\n",
    "eid_df_long[\"endpoint\"] = eid_df_long[\"endpoint\"].astype(\"category\")\n",
    "eid_df_long[\"eid\"] = eid_df_long[\"eid\"].astype(\"category\")"
   ]
  },
  {
   "cell_type": "code",
   "execution_count": 21,
   "metadata": {
    "execution": {
     "iopub.execute_input": "2022-11-08T23:02:20.224580Z",
     "iopub.status.busy": "2022-11-08T23:02:20.224220Z",
     "iopub.status.idle": "2022-11-08T23:02:35.357648Z",
     "shell.execute_reply": "2022-11-08T23:02:35.356960Z",
     "shell.execute_reply.started": "2022-11-08T23:02:20.224559Z"
    },
    "tags": []
   },
   "outputs": [],
   "source": [
    "eid_df_long.to_feather(f\"{output_path}/eligable_eids_long_{today}.feather\")"
   ]
  },
  {
   "cell_type": "code",
   "execution_count": null,
   "metadata": {},
   "outputs": [],
   "source": []
  }
 ],
 "metadata": {
  "kernelspec": {
   "display_name": "retrisk",
   "language": "python",
   "name": "retrisk"
  },
  "language_info": {
   "codemirror_mode": {
    "name": "ipython",
    "version": 3
   },
   "file_extension": ".py",
   "mimetype": "text/x-python",
   "name": "python",
   "nbconvert_exporter": "python",
   "pygments_lexer": "ipython3",
   "version": "3.9.7"
  },
  "toc-autonumbering": false
 },
 "nbformat": 4,
 "nbformat_minor": 4
}
