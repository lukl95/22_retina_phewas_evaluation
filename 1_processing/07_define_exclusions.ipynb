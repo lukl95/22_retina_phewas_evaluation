{
 "cells": [
  {
   "cell_type": "markdown",
   "metadata": {},
   "source": [
    "# Benchmarks"
   ]
  },
  {
   "cell_type": "markdown",
   "metadata": {},
   "source": [
    "## Initialize"
   ]
  },
  {
   "cell_type": "code",
   "execution_count": 1,
   "metadata": {
    "tags": []
   },
   "outputs": [],
   "source": [
    "%load_ext autoreload\n",
    "%autoreload 2\n",
    "\n",
    "import os\n",
    "import math\n",
    "import pathlib\n",
    "import numpy as np\n",
    "import pandas as pd\n",
    "from tqdm.auto import tqdm\n",
    "from IPython.display import clear_output\n",
    "\n",
    "import warnings\n",
    "from lifelines.utils import CensoringType\n",
    "from lifelines.utils import concordance_index"
   ]
  },
  {
   "cell_type": "code",
   "execution_count": 2,
   "metadata": {
    "tags": []
   },
   "outputs": [
    {
     "name": "stdout",
     "output_type": "stream",
     "text": [
      "/sc-projects/sc-proj-ukb-cvd\n",
      "experiment path: /sc-projects/sc-proj-ukb-cvd/results/projects/22_retina_phewas/data/230905\n"
     ]
    }
   ],
   "source": [
    "node = !hostname\n",
    "if \"sc\" in node[0]:\n",
    "    base_path = \"/sc-projects/sc-proj-ukb-cvd\"\n",
    "else: \n",
    "    base_path = \"/data/analysis/ag-reils/ag-reils-shared/cardioRS\"\n",
    "print(base_path)\n",
    "\n",
    "project_label = \"22_retina_phewas\"\n",
    "project_path = f\"{base_path}/results/projects/{project_label}\"\n",
    "figure_path = f\"{project_path}/figures\"\n",
    "output_path = f\"{project_path}/data\"\n",
    "\n",
    "pathlib.Path(figure_path).mkdir(parents=True, exist_ok=True)\n",
    "pathlib.Path(output_path).mkdir(parents=True, exist_ok=True)\n",
    "\n",
    "experiment = '230905'\n",
    "experiment_path = f\"{output_path}/{experiment}\"\n",
    "print('experiment path:', experiment_path)\n",
    "pathlib.Path(experiment_path).mkdir(parents=True, exist_ok=True)\n",
    "\n",
    "name_dict = {\n",
    "#     \"predictions_cropratio0.3\": \"ConvNextSmall(Retina)+MLP_cropratio0.3\",\n",
    "#     \"predictions_cropratio0.5\": \"ConvNextSmall(Retina)+MLP_cropratio0.5\",\n",
    "#    \"predictions_cropratio0.66\": \"ConvNextSmall(Retina)+MLP_cropratio0.66\",\n",
    "    \"predictions\": \"ConvNextSmall(Retina)+MLP_cropratio0.66\",\n",
    "}\n",
    "\n",
    "#partitions = [i for i in range(22)]\n",
    "partitions = [4, 5, 7, 9, 10, 20] # Partitions with eye test centers"
   ]
  },
  {
   "cell_type": "code",
   "execution_count": 3,
   "metadata": {
    "tags": []
   },
   "outputs": [],
   "source": [
    "today = '230905'"
   ]
  },
  {
   "cell_type": "code",
   "execution_count": 4,
   "metadata": {
    "tags": []
   },
   "outputs": [],
   "source": [
    "import pandas as pd\n",
    "endpoints = sorted([l.replace('_prevalent', '') for l in list(pd.read_csv('/sc-projects/sc-proj-ukb-cvd/results/projects/22_retinal_risk/data/230905/min100_endpoints.csv').endpoint.values)])"
   ]
  },
  {
   "cell_type": "code",
   "execution_count": 5,
   "metadata": {
    "tags": []
   },
   "outputs": [
    {
     "data": {
      "text/plain": [
       "'/sc-projects/sc-proj-ukb-cvd/results/projects/22_retina_phewas/data'"
      ]
     },
     "execution_count": 5,
     "metadata": {},
     "output_type": "execute_result"
    }
   ],
   "source": [
    "output_path"
   ]
  },
  {
   "cell_type": "code",
   "execution_count": 10,
   "metadata": {
    "tags": []
   },
   "outputs": [
    {
     "data": {
      "text/html": [
       "<div>\n",
       "<style scoped>\n",
       "    .dataframe tbody tr th:only-of-type {\n",
       "        vertical-align: middle;\n",
       "    }\n",
       "\n",
       "    .dataframe tbody tr th {\n",
       "        vertical-align: top;\n",
       "    }\n",
       "\n",
       "    .dataframe thead th {\n",
       "        text-align: right;\n",
       "    }\n",
       "</style>\n",
       "<table border=\"1\" class=\"dataframe\">\n",
       "  <thead>\n",
       "    <tr style=\"text-align: right;\">\n",
       "      <th></th>\n",
       "      <th>phecode</th>\n",
       "      <th>phecode_string</th>\n",
       "      <th>phecode_category</th>\n",
       "      <th>sex</th>\n",
       "      <th>ICD10_only</th>\n",
       "      <th>phecode_top</th>\n",
       "      <th>leaf</th>\n",
       "    </tr>\n",
       "    <tr>\n",
       "      <th>endpoint</th>\n",
       "      <th></th>\n",
       "      <th></th>\n",
       "      <th></th>\n",
       "      <th></th>\n",
       "      <th></th>\n",
       "      <th></th>\n",
       "      <th></th>\n",
       "    </tr>\n",
       "  </thead>\n",
       "  <tbody>\n",
       "    <tr>\n",
       "      <th>OMOP_4306655</th>\n",
       "      <td>4306655</td>\n",
       "      <td>All-Cause Death</td>\n",
       "      <td>Death</td>\n",
       "      <td>Both</td>\n",
       "      <td>NaN</td>\n",
       "      <td>None</td>\n",
       "      <td>NaN</td>\n",
       "    </tr>\n",
       "    <tr>\n",
       "      <th>phecode_002</th>\n",
       "      <td>002</td>\n",
       "      <td>Staphylococcus</td>\n",
       "      <td>ID</td>\n",
       "      <td>Both</td>\n",
       "      <td>0.0</td>\n",
       "      <td>002</td>\n",
       "      <td>0.0</td>\n",
       "    </tr>\n",
       "    <tr>\n",
       "      <th>phecode_002-1</th>\n",
       "      <td>002.1</td>\n",
       "      <td>Staphylococcus aureus</td>\n",
       "      <td>ID</td>\n",
       "      <td>Both</td>\n",
       "      <td>0.0</td>\n",
       "      <td>002</td>\n",
       "      <td>1.0</td>\n",
       "    </tr>\n",
       "    <tr>\n",
       "      <th>phecode_003</th>\n",
       "      <td>003</td>\n",
       "      <td>Escherichia coli</td>\n",
       "      <td>ID</td>\n",
       "      <td>Both</td>\n",
       "      <td>0.0</td>\n",
       "      <td>003</td>\n",
       "      <td>1.0</td>\n",
       "    </tr>\n",
       "    <tr>\n",
       "      <th>phecode_004</th>\n",
       "      <td>004</td>\n",
       "      <td>Streptococcus</td>\n",
       "      <td>ID</td>\n",
       "      <td>Both</td>\n",
       "      <td>0.0</td>\n",
       "      <td>004</td>\n",
       "      <td>0.0</td>\n",
       "    </tr>\n",
       "  </tbody>\n",
       "</table>\n",
       "</div>"
      ],
      "text/plain": [
       "               phecode         phecode_string phecode_category   sex  \\\n",
       "endpoint                                                               \n",
       "OMOP_4306655   4306655        All-Cause Death            Death  Both   \n",
       "phecode_002        002         Staphylococcus               ID  Both   \n",
       "phecode_002-1    002.1  Staphylococcus aureus               ID  Both   \n",
       "phecode_003        003       Escherichia coli               ID  Both   \n",
       "phecode_004        004          Streptococcus               ID  Both   \n",
       "\n",
       "               ICD10_only phecode_top  leaf  \n",
       "endpoint                                     \n",
       "OMOP_4306655          NaN        None   NaN  \n",
       "phecode_002           0.0         002   0.0  \n",
       "phecode_002-1         0.0         002   1.0  \n",
       "phecode_003           0.0         003   1.0  \n",
       "phecode_004           0.0         004   0.0  "
      ]
     },
     "execution_count": 10,
     "metadata": {},
     "output_type": "execute_result"
    }
   ],
   "source": [
    "endpoint_defs = pd.read_feather(f\"{output_path}/phecode_defs_220306.feather\").query(\"endpoint==@endpoints\").sort_values(\"endpoint\").set_index(\"endpoint\")\n",
    "endpoint_defs.head()"
   ]
  },
  {
   "cell_type": "code",
   "execution_count": 11,
   "metadata": {
    "tags": []
   },
   "outputs": [],
   "source": [
    "# data_covariates = pd.read_feather(\"/sc-projects/sc-proj-ukb-cvd/data/2_datasets_pre/211110_anewbeginning/baseline_covariates_220503.feather\")[[\"eid\", \"sex_f31_0_0\"]].set_index(\"eid\")\n",
    "# data_covariates.head()\n",
    "data_covariates = pd.read_feather(f\"{output_path}/data_covariates_full.feather\")[[\"eid\", \"sex\"]].set_index(\"eid\")"
   ]
  },
  {
   "cell_type": "code",
   "execution_count": 13,
   "metadata": {
    "tags": []
   },
   "outputs": [
    {
     "data": {
      "text/html": [
       "<div>\n",
       "<style scoped>\n",
       "    .dataframe tbody tr th:only-of-type {\n",
       "        vertical-align: middle;\n",
       "    }\n",
       "\n",
       "    .dataframe tbody tr th {\n",
       "        vertical-align: top;\n",
       "    }\n",
       "\n",
       "    .dataframe thead th {\n",
       "        text-align: right;\n",
       "    }\n",
       "</style>\n",
       "<table border=\"1\" class=\"dataframe\">\n",
       "  <thead>\n",
       "    <tr style=\"text-align: right;\">\n",
       "      <th></th>\n",
       "      <th>endpoint</th>\n",
       "      <th>prev</th>\n",
       "      <th>event</th>\n",
       "      <th>time</th>\n",
       "    </tr>\n",
       "    <tr>\n",
       "      <th>eid</th>\n",
       "      <th></th>\n",
       "      <th></th>\n",
       "      <th></th>\n",
       "      <th></th>\n",
       "    </tr>\n",
       "  </thead>\n",
       "  <tbody>\n",
       "    <tr>\n",
       "      <th>1000018</th>\n",
       "      <td>OMOP_4306655</td>\n",
       "      <td>False</td>\n",
       "      <td>False</td>\n",
       "      <td>12.000000</td>\n",
       "    </tr>\n",
       "    <tr>\n",
       "      <th>1000020</th>\n",
       "      <td>OMOP_4306655</td>\n",
       "      <td>False</td>\n",
       "      <td>False</td>\n",
       "      <td>13.730322</td>\n",
       "    </tr>\n",
       "    <tr>\n",
       "      <th>1000037</th>\n",
       "      <td>OMOP_4306655</td>\n",
       "      <td>False</td>\n",
       "      <td>False</td>\n",
       "      <td>13.002053</td>\n",
       "    </tr>\n",
       "    <tr>\n",
       "      <th>1000043</th>\n",
       "      <td>OMOP_4306655</td>\n",
       "      <td>False</td>\n",
       "      <td>False</td>\n",
       "      <td>12.443532</td>\n",
       "    </tr>\n",
       "    <tr>\n",
       "      <th>1000051</th>\n",
       "      <td>OMOP_4306655</td>\n",
       "      <td>False</td>\n",
       "      <td>False</td>\n",
       "      <td>15.425052</td>\n",
       "    </tr>\n",
       "  </tbody>\n",
       "</table>\n",
       "</div>"
      ],
      "text/plain": [
       "             endpoint   prev  event       time\n",
       "eid                                           \n",
       "1000018  OMOP_4306655  False  False  12.000000\n",
       "1000020  OMOP_4306655  False  False  13.730322\n",
       "1000037  OMOP_4306655  False  False  13.002053\n",
       "1000043  OMOP_4306655  False  False  12.443532\n",
       "1000051  OMOP_4306655  False  False  15.425052"
      ]
     },
     "execution_count": 13,
     "metadata": {},
     "output_type": "execute_result"
    }
   ],
   "source": [
    "data_outcomes = pd.read_feather(f\"{output_path}/baseline_outcomes_long_230905.feather\").set_index(\"eid\")\n",
    "data_outcomes.head()"
   ]
  },
  {
   "cell_type": "code",
   "execution_count": 14,
   "metadata": {
    "tags": []
   },
   "outputs": [],
   "source": [
    "data_all = data_outcomes.merge(data_covariates, left_index=True, right_index=True, how=\"left\").reset_index(drop=False).set_index(\"endpoint\")"
   ]
  },
  {
   "cell_type": "code",
   "execution_count": 15,
   "metadata": {
    "tags": []
   },
   "outputs": [
    {
     "data": {
      "text/html": [
       "<div>\n",
       "<style scoped>\n",
       "    .dataframe tbody tr th:only-of-type {\n",
       "        vertical-align: middle;\n",
       "    }\n",
       "\n",
       "    .dataframe tbody tr th {\n",
       "        vertical-align: top;\n",
       "    }\n",
       "\n",
       "    .dataframe thead th {\n",
       "        text-align: right;\n",
       "    }\n",
       "</style>\n",
       "<table border=\"1\" class=\"dataframe\">\n",
       "  <thead>\n",
       "    <tr style=\"text-align: right;\">\n",
       "      <th></th>\n",
       "      <th>eid</th>\n",
       "      <th>prev</th>\n",
       "      <th>event</th>\n",
       "      <th>time</th>\n",
       "      <th>sex</th>\n",
       "    </tr>\n",
       "    <tr>\n",
       "      <th>endpoint</th>\n",
       "      <th></th>\n",
       "      <th></th>\n",
       "      <th></th>\n",
       "      <th></th>\n",
       "      <th></th>\n",
       "    </tr>\n",
       "  </thead>\n",
       "  <tbody>\n",
       "    <tr>\n",
       "      <th>OMOP_4306655</th>\n",
       "      <td>1000018</td>\n",
       "      <td>False</td>\n",
       "      <td>False</td>\n",
       "      <td>12.0</td>\n",
       "      <td>Female</td>\n",
       "    </tr>\n",
       "    <tr>\n",
       "      <th>phecode_001</th>\n",
       "      <td>1000018</td>\n",
       "      <td>False</td>\n",
       "      <td>False</td>\n",
       "      <td>12.0</td>\n",
       "      <td>Female</td>\n",
       "    </tr>\n",
       "    <tr>\n",
       "      <th>phecode_002</th>\n",
       "      <td>1000018</td>\n",
       "      <td>False</td>\n",
       "      <td>False</td>\n",
       "      <td>12.0</td>\n",
       "      <td>Female</td>\n",
       "    </tr>\n",
       "    <tr>\n",
       "      <th>phecode_002-1</th>\n",
       "      <td>1000018</td>\n",
       "      <td>False</td>\n",
       "      <td>False</td>\n",
       "      <td>12.0</td>\n",
       "      <td>Female</td>\n",
       "    </tr>\n",
       "    <tr>\n",
       "      <th>phecode_003</th>\n",
       "      <td>1000018</td>\n",
       "      <td>False</td>\n",
       "      <td>False</td>\n",
       "      <td>12.0</td>\n",
       "      <td>Female</td>\n",
       "    </tr>\n",
       "  </tbody>\n",
       "</table>\n",
       "</div>"
      ],
      "text/plain": [
       "                   eid   prev  event  time     sex\n",
       "endpoint                                          \n",
       "OMOP_4306655   1000018  False  False  12.0  Female\n",
       "phecode_001    1000018  False  False  12.0  Female\n",
       "phecode_002    1000018  False  False  12.0  Female\n",
       "phecode_002-1  1000018  False  False  12.0  Female\n",
       "phecode_003    1000018  False  False  12.0  Female"
      ]
     },
     "execution_count": 15,
     "metadata": {},
     "output_type": "execute_result"
    }
   ],
   "source": [
    "data_all.head()"
   ]
  },
  {
   "cell_type": "code",
   "execution_count": 16,
   "metadata": {
    "tags": []
   },
   "outputs": [],
   "source": [
    "data_dict = {e: df.reset_index(drop=True).set_index(\"eid\") for e, df in data_all.groupby('endpoint')}"
   ]
  },
  {
   "cell_type": "code",
   "execution_count": 17,
   "metadata": {},
   "outputs": [
    {
     "data": {
      "text/plain": [
       "dict_keys(['OMOP_4306655', 'phecode_001', 'phecode_002', 'phecode_002-1', 'phecode_003', 'phecode_004', 'phecode_004-1', 'phecode_004-2', 'phecode_004-3', 'phecode_004-4', 'phecode_005', 'phecode_005-1', 'phecode_005-2', 'phecode_006', 'phecode_006-1', 'phecode_006-2', 'phecode_007', 'phecode_007-1', 'phecode_009', 'phecode_010', 'phecode_011', 'phecode_012', 'phecode_013', 'phecode_014', 'phecode_015', 'phecode_015-1', 'phecode_015-2', 'phecode_016', 'phecode_016-1', 'phecode_017', 'phecode_019', 'phecode_020', 'phecode_020-1', 'phecode_021', 'phecode_021-2', 'phecode_023', 'phecode_024', 'phecode_025', 'phecode_027', 'phecode_028', 'phecode_029', 'phecode_030', 'phecode_031', 'phecode_032', 'phecode_034', 'phecode_035', 'phecode_038', 'phecode_039', 'phecode_040', 'phecode_041', 'phecode_050', 'phecode_050-1', 'phecode_050-4', 'phecode_050-5', 'phecode_050-6', 'phecode_052', 'phecode_052-1', 'phecode_052-3', 'phecode_052-31', 'phecode_052-32', 'phecode_052-4', 'phecode_052-5', 'phecode_053', 'phecode_054', 'phecode_054-1', 'phecode_054-2', 'phecode_054-21', 'phecode_054-3', 'phecode_054-31', 'phecode_054-32', 'phecode_054-5', 'phecode_055', 'phecode_055-1', 'phecode_056', 'phecode_057', 'phecode_057-1', 'phecode_058', 'phecode_058-1', 'phecode_058-2', 'phecode_059', 'phecode_059-1', 'phecode_060', 'phecode_061', 'phecode_062', 'phecode_063', 'phecode_065', 'phecode_066', 'phecode_067', 'phecode_068', 'phecode_069', 'phecode_070', 'phecode_070-4', 'phecode_071', 'phecode_072', 'phecode_073', 'phecode_074', 'phecode_075', 'phecode_076', 'phecode_078', 'phecode_079', 'phecode_084', 'phecode_084-1', 'phecode_084-2', 'phecode_084-3', 'phecode_084-31', 'phecode_084-4', 'phecode_084-5', 'phecode_084-6', 'phecode_084-7', 'phecode_084-8', 'phecode_086', 'phecode_087', 'phecode_088', 'phecode_089', 'phecode_089-1', 'phecode_089-2', 'phecode_089-3', 'phecode_091', 'phecode_092', 'phecode_092-1', 'phecode_092-2', 'phecode_092-3', 'phecode_092-5', 'phecode_095', 'phecode_096', 'phecode_098', 'phecode_099', 'phecode_100', 'phecode_100-1', 'phecode_100-12', 'phecode_100-13', 'phecode_100-14', 'phecode_100-15', 'phecode_100-2', 'phecode_100-3', 'phecode_100-4', 'phecode_100-5', 'phecode_100-6', 'phecode_100-7', 'phecode_100-8', 'phecode_100-9', 'phecode_101', 'phecode_101-1', 'phecode_101-2', 'phecode_101-21', 'phecode_101-3', 'phecode_101-4', 'phecode_101-41', 'phecode_101-42', 'phecode_101-5', 'phecode_101-6', 'phecode_101-61', 'phecode_101-62', 'phecode_101-7', 'phecode_101-71', 'phecode_101-8', 'phecode_102', 'phecode_102-1', 'phecode_102-3', 'phecode_102-5', 'phecode_102-51', 'phecode_102-52', 'phecode_102-53', 'phecode_102-54', 'phecode_103', 'phecode_103-1', 'phecode_103-3', 'phecode_104', 'phecode_104-1', 'phecode_104-2', 'phecode_104-3', 'phecode_104-4', 'phecode_104-6', 'phecode_105', 'phecode_105-1', 'phecode_106', 'phecode_106-1', 'phecode_106-11', 'phecode_106-12', 'phecode_106-13', 'phecode_106-2', 'phecode_106-21', 'phecode_106-3', 'phecode_106-4', 'phecode_106-6', 'phecode_107', 'phecode_107-1', 'phecode_107-2', 'phecode_107-3', 'phecode_107-31', 'phecode_107-32', 'phecode_108', 'phecode_108-4', 'phecode_108-41', 'phecode_108-42', 'phecode_108-5', 'phecode_108-6', 'phecode_108-7', 'phecode_109', 'phecode_109-1', 'phecode_109-11', 'phecode_109-12', 'phecode_109-13', 'phecode_109-14', 'phecode_109-15', 'phecode_109-16', 'phecode_109-2', 'phecode_109-3', 'phecode_109-4', 'phecode_109-5', 'phecode_110', 'phecode_110-1', 'phecode_110-3', 'phecode_110-4', 'phecode_110-5', 'phecode_112', 'phecode_112-1', 'phecode_114', 'phecode_114-1', 'phecode_114-11', 'phecode_114-2', 'phecode_114-4', 'phecode_114-5', 'phecode_114-6', 'phecode_116', 'phecode_116-1', 'phecode_116-2', 'phecode_116-3', 'phecode_116-4', 'phecode_116-5', 'phecode_116-6', 'phecode_116-7', 'phecode_120', 'phecode_120-1', 'phecode_120-11', 'phecode_120-12', 'phecode_120-13', 'phecode_120-14', 'phecode_120-15', 'phecode_120-2', 'phecode_120-21', 'phecode_120-22', 'phecode_120-3', 'phecode_121', 'phecode_121-1', 'phecode_121-11', 'phecode_121-12', 'phecode_121-2', 'phecode_121-21', 'phecode_121-22', 'phecode_121-23', 'phecode_122', 'phecode_122-1', 'phecode_122-11', 'phecode_122-2', 'phecode_122-21', 'phecode_122-22', 'phecode_122-23', 'phecode_122-24', 'phecode_122-25', 'phecode_122-26', 'phecode_123', 'phecode_123-1', 'phecode_124', 'phecode_124-3', 'phecode_124-5', 'phecode_124-6', 'phecode_124-7', 'phecode_125', 'phecode_125-5', 'phecode_130', 'phecode_132', 'phecode_135', 'phecode_135-1', 'phecode_135-11', 'phecode_135-12', 'phecode_135-14', 'phecode_135-16', 'phecode_135-2', 'phecode_135-3', 'phecode_135-5', 'phecode_135-6', 'phecode_136', 'phecode_136-1', 'phecode_136-2', 'phecode_136-3', 'phecode_136-4', 'phecode_136-41', 'phecode_136-42', 'phecode_136-6', 'phecode_136-61', 'phecode_136-8', 'phecode_137', 'phecode_137-1', 'phecode_137-3', 'phecode_137-5', 'phecode_137-51', 'phecode_137-52', 'phecode_137-53', 'phecode_137-54', 'phecode_138', 'phecode_138-1', 'phecode_138-2', 'phecode_139', 'phecode_139-1', 'phecode_139-2', 'phecode_139-3', 'phecode_139-4', 'phecode_139-5', 'phecode_139-51', 'phecode_139-52', 'phecode_139-53', 'phecode_139-54', 'phecode_139-6', 'phecode_139-61', 'phecode_139-62', 'phecode_140', 'phecode_142', 'phecode_142-1', 'phecode_144', 'phecode_144-1', 'phecode_144-11', 'phecode_144-12', 'phecode_144-13', 'phecode_144-2', 'phecode_144-21', 'phecode_144-3', 'phecode_144-4', 'phecode_146', 'phecode_146-1', 'phecode_146-2', 'phecode_146-3', 'phecode_146-31', 'phecode_146-32', 'phecode_146-4', 'phecode_146-5', 'phecode_146-51', 'phecode_146-52', 'phecode_148', 'phecode_148-1', 'phecode_148-11', 'phecode_148-12', 'phecode_148-13', 'phecode_148-14', 'phecode_148-15', 'phecode_148-16', 'phecode_148-2', 'phecode_148-3', 'phecode_148-4', 'phecode_148-5', 'phecode_149', 'phecode_149-1', 'phecode_149-3', 'phecode_149-4', 'phecode_149-5', 'phecode_153', 'phecode_156', 'phecode_158', 'phecode_160', 'phecode_160-1', 'phecode_160-2', 'phecode_160-3', 'phecode_160-4', 'phecode_161', 'phecode_161-1', 'phecode_161-11', 'phecode_161-12', 'phecode_161-13', 'phecode_161-131', 'phecode_161-16', 'phecode_161-2', 'phecode_161-21', 'phecode_161-22', 'phecode_161-23', 'phecode_161-24', 'phecode_162', 'phecode_162-1', 'phecode_162-2', 'phecode_162-3', 'phecode_162-4', 'phecode_162-6', 'phecode_162-61', 'phecode_162-62', 'phecode_162-7', 'phecode_164', 'phecode_164-1', 'phecode_164-2', 'phecode_164-3', 'phecode_164-6', 'phecode_164-62', 'phecode_165', 'phecode_165-1', 'phecode_165-11', 'phecode_165-12', 'phecode_165-2', 'phecode_165-21', 'phecode_165-22', 'phecode_165-23', 'phecode_165-25', 'phecode_165-3', 'phecode_165-4', 'phecode_165-5', 'phecode_168', 'phecode_168-1', 'phecode_168-11', 'phecode_168-111', 'phecode_168-112', 'phecode_168-113', 'phecode_168-114', 'phecode_168-12', 'phecode_168-15', 'phecode_168-18', 'phecode_168-19', 'phecode_168-2', 'phecode_168-21', 'phecode_168-22', 'phecode_168-3', 'phecode_169', 'phecode_169-1', 'phecode_169-11', 'phecode_169-14', 'phecode_169-2', 'phecode_170', 'phecode_170-1', 'phecode_171', 'phecode_171-7', 'phecode_172', 'phecode_172-1', 'phecode_172-2', 'phecode_172-3', 'phecode_174', 'phecode_174-1', 'phecode_174-2', 'phecode_174-21', 'phecode_174-22', 'phecode_174-5', 'phecode_174-6', 'phecode_174-7', 'phecode_175', 'phecode_175-2', 'phecode_175-3', 'phecode_176', 'phecode_177', 'phecode_177-1', 'phecode_177-11', 'phecode_177-12', 'phecode_177-13', 'phecode_177-2', 'phecode_177-3', 'phecode_177-4', 'phecode_177-41', 'phecode_179', 'phecode_179-1', 'phecode_179-2', 'phecode_179-3', 'phecode_179-4', 'phecode_179-5', 'phecode_179-6', 'phecode_179-7', 'phecode_179-8', 'phecode_179-9', 'phecode_180', 'phecode_180-2', 'phecode_180-3', 'phecode_180-31', 'phecode_180-33', 'phecode_180-34', 'phecode_180-4', 'phecode_181', 'phecode_200', 'phecode_200-1', 'phecode_200-11', 'phecode_200-12', 'phecode_200-13', 'phecode_200-14', 'phecode_200-15', 'phecode_200-16', 'phecode_200-2', 'phecode_200-21', 'phecode_200-22', 'phecode_200-23', 'phecode_200-24', 'phecode_200-25', 'phecode_200-3', 'phecode_200-31', 'phecode_200-4', 'phecode_200-41', 'phecode_200-42', 'phecode_200-43', 'phecode_200-44', 'phecode_200-45', 'phecode_200-5', 'phecode_200-6', 'phecode_200-7', 'phecode_200-9', 'phecode_202', 'phecode_202-1', 'phecode_202-2', 'phecode_202-4', 'phecode_204', 'phecode_205', 'phecode_205-1', 'phecode_205-3', 'phecode_206', 'phecode_206-1', 'phecode_206-2', 'phecode_208', 'phecode_208-1', 'phecode_208-2', 'phecode_208-21', 'phecode_208-22', 'phecode_209', 'phecode_209-1', 'phecode_209-11', 'phecode_209-12', 'phecode_209-13', 'phecode_209-14', 'phecode_209-2', 'phecode_209-21', 'phecode_209-22', 'phecode_209-23', 'phecode_209-3', 'phecode_210', 'phecode_210-1', 'phecode_210-2', 'phecode_210-3', 'phecode_210-4', 'phecode_211', 'phecode_211-1', 'phecode_211-11', 'phecode_211-12', 'phecode_211-2', 'phecode_211-21', 'phecode_211-22', 'phecode_211-23', 'phecode_211-3', 'phecode_211-31', 'phecode_211-4', 'phecode_211-5', 'phecode_214', 'phecode_214-1', 'phecode_214-2', 'phecode_214-22', 'phecode_214-4', 'phecode_215', 'phecode_215-1', 'phecode_215-2', 'phecode_215-5', 'phecode_217', 'phecode_217-1', 'phecode_217-3', 'phecode_217-4', 'phecode_218', 'phecode_218-2', 'phecode_218-21', 'phecode_220', 'phecode_220-1', 'phecode_229', 'phecode_230', 'phecode_230-1', 'phecode_230-11', 'phecode_230-2', 'phecode_230-21', 'phecode_230-22', 'phecode_230-3', 'phecode_230-4', 'phecode_232', 'phecode_232-1', 'phecode_232-2', 'phecode_232-21', 'phecode_232-22', 'phecode_232-23', 'phecode_232-26', 'phecode_232-27', 'phecode_232-29', 'phecode_232-3', 'phecode_232-4', 'phecode_232-5', 'phecode_232-6', 'phecode_234', 'phecode_236', 'phecode_236-1', 'phecode_236-11', 'phecode_236-2', 'phecode_237', 'phecode_238', 'phecode_238-1', 'phecode_238-2', 'phecode_238-4', 'phecode_239', 'phecode_239-1', 'phecode_239-11', 'phecode_239-2', 'phecode_239-21', 'phecode_239-3', 'phecode_239-4', 'phecode_240', 'phecode_240-1', 'phecode_240-11', 'phecode_240-111', 'phecode_240-12', 'phecode_240-13', 'phecode_240-2', 'phecode_240-3', 'phecode_240-4', 'phecode_240-5', 'phecode_240-54', 'phecode_240-7', 'phecode_240-9', 'phecode_241', 'phecode_241-1', 'phecode_241-2', 'phecode_241-3', 'phecode_241-5', 'phecode_242', 'phecode_242-1', 'phecode_242-14', 'phecode_242-2', 'phecode_243', 'phecode_243-4', 'phecode_244', 'phecode_244-1', 'phecode_244-4', 'phecode_245', 'phecode_245-1', 'phecode_245-2', 'phecode_247', 'phecode_247-1', 'phecode_247-12', 'phecode_247-2', 'phecode_247-3', 'phecode_247-4', 'phecode_247-42', 'phecode_247-5', 'phecode_247-51', 'phecode_247-7', 'phecode_247-72', 'phecode_247-8', 'phecode_247-81', 'phecode_247-82', 'phecode_247-85', 'phecode_248', 'phecode_249', 'phecode_249-1', 'phecode_249-4', 'phecode_250', 'phecode_250-5', 'phecode_251', 'phecode_251-1', 'phecode_252', 'phecode_256', 'phecode_256-1', 'phecode_256-2', 'phecode_256-3', 'phecode_256-31', 'phecode_256-32', 'phecode_256-4', 'phecode_256-5', 'phecode_256-6', 'phecode_256-7', 'phecode_257', 'phecode_280', 'phecode_280-1', 'phecode_280-11', 'phecode_280-12', 'phecode_280-13', 'phecode_280-14', 'phecode_280-2', 'phecode_280-21', 'phecode_280-22', 'phecode_280-3', 'phecode_280-31', 'phecode_280-32', 'phecode_280-4', 'phecode_280-41', 'phecode_280-42', 'phecode_280-5', 'phecode_280-51', 'phecode_280-52', 'phecode_280-6', 'phecode_280-61', 'phecode_280-62', 'phecode_280-7', 'phecode_280-71', 'phecode_280-72', 'phecode_280-8', 'phecode_280-81', 'phecode_280-82', 'phecode_281', 'phecode_281-1', 'phecode_281-2', 'phecode_282', 'phecode_282-1', 'phecode_283', 'phecode_283-3', 'phecode_283-4', 'phecode_283-8', 'phecode_284', 'phecode_284-2', 'phecode_284-21', 'phecode_284-24', 'phecode_284-25', 'phecode_284-26', 'phecode_284-27', 'phecode_284-28', 'phecode_284-29', 'phecode_286', 'phecode_286-1', 'phecode_286-2', 'phecode_286-21', 'phecode_286-3', 'phecode_286-4', 'phecode_287', 'phecode_287-1', 'phecode_287-2', 'phecode_287-3', 'phecode_287-4', 'phecode_287-41', 'phecode_287-5', 'phecode_288', 'phecode_288-2', 'phecode_288-3', 'phecode_288-4', 'phecode_288-41', 'phecode_288-42', 'phecode_289', 'phecode_290', 'phecode_290-1', 'phecode_291', 'phecode_292', 'phecode_292-1', 'phecode_292-2', 'phecode_292-3', 'phecode_293', 'phecode_293-1', 'phecode_293-2', 'phecode_293-4', 'phecode_294', 'phecode_296', 'phecode_296-1', 'phecode_296-2', 'phecode_296-3', 'phecode_296-4', 'phecode_296-5', 'phecode_296-6', 'phecode_296-7', 'phecode_297', 'phecode_298', 'phecode_298-2', 'phecode_298-3', 'phecode_299', 'phecode_308', 'phecode_308-1', 'phecode_308-4', 'phecode_308-5', 'phecode_308-7', 'phecode_320', 'phecode_320-1', 'phecode_320-11', 'phecode_320-111', 'phecode_320-12', 'phecode_320-13', 'phecode_320-2', 'phecode_320-21', 'phecode_320-22', 'phecode_320-3', 'phecode_321', 'phecode_321-1', 'phecode_321-12', 'phecode_321-13', 'phecode_321-14', 'phecode_321-2', 'phecode_321-21', 'phecode_322', 'phecode_322-1', 'phecode_322-2', 'phecode_322-4', 'phecode_323', 'phecode_323-1', 'phecode_323-11', 'phecode_323-2', 'phecode_323-3', 'phecode_323-4', 'phecode_324', 'phecode_324-1', 'phecode_324-11', 'phecode_324-12', 'phecode_324-2', 'phecode_324-21', 'phecode_324-3', 'phecode_324-31', 'phecode_324-32', 'phecode_324-33', 'phecode_324-34', 'phecode_324-35', 'phecode_324-36', 'phecode_324-4', 'phecode_324-41', 'phecode_324-42', 'phecode_324-5', 'phecode_324-9', 'phecode_325', 'phecode_325-1', 'phecode_325-11', 'phecode_325-12', 'phecode_325-2', 'phecode_325-21', 'phecode_325-22', 'phecode_325-3', 'phecode_326', 'phecode_326-1', 'phecode_326-2', 'phecode_326-3', 'phecode_327', 'phecode_328', 'phecode_328-1', 'phecode_328-2', 'phecode_328-3', 'phecode_328-5', 'phecode_328-7', 'phecode_328-8', 'phecode_328-9', 'phecode_329', 'phecode_329-1', 'phecode_329-6', 'phecode_329-9', 'phecode_330', 'phecode_330-1', 'phecode_330-11', 'phecode_330-12', 'phecode_330-3', 'phecode_330-31', 'phecode_331', 'phecode_331-1', 'phecode_331-2', 'phecode_331-3', 'phecode_331-6', 'phecode_331-61', 'phecode_331-7', 'phecode_331-8', 'phecode_333', 'phecode_333-1', 'phecode_333-2', 'phecode_333-3', 'phecode_333-4', 'phecode_333-5', 'phecode_333-54', 'phecode_333-55', 'phecode_333-7', 'phecode_334', 'phecode_334-1', 'phecode_334-11', 'phecode_334-12', 'phecode_334-2', 'phecode_334-21', 'phecode_334-22', 'phecode_334-24', 'phecode_334-25', 'phecode_334-3', 'phecode_334-4', 'phecode_334-41', 'phecode_334-42', 'phecode_334-44', 'phecode_334-5', 'phecode_334-6', 'phecode_334-8', 'phecode_334-9', 'phecode_335', 'phecode_335-1', 'phecode_335-11', 'phecode_335-12', 'phecode_335-2', 'phecode_335-3', 'phecode_335-4', 'phecode_336', 'phecode_336-1', 'phecode_336-2', 'phecode_336-4', 'phecode_336-5', 'phecode_336-51', 'phecode_336-52', 'phecode_336-53', 'phecode_336-54', 'phecode_336-55', 'phecode_337', 'phecode_337-1', 'phecode_337-11', 'phecode_337-12', 'phecode_337-2', 'phecode_337-21', 'phecode_337-3', 'phecode_337-31', 'phecode_337-32', 'phecode_337-8', 'phecode_338', 'phecode_338-1', 'phecode_338-3', 'phecode_339', 'phecode_339-1', 'phecode_339-2', 'phecode_339-4', 'phecode_340', 'phecode_340-2', 'phecode_340-3', 'phecode_341', 'phecode_341-1', 'phecode_341-11', 'phecode_341-12', 'phecode_341-13', 'phecode_341-14', 'phecode_341-2', 'phecode_341-21', 'phecode_341-22', 'phecode_341-6', 'phecode_341-7', 'phecode_342', 'phecode_342-1', 'phecode_342-2', 'phecode_342-3', 'phecode_342-4', 'phecode_342-5', 'phecode_343', 'phecode_343-1', 'phecode_343-2', 'phecode_343-3', 'phecode_343-4', 'phecode_343-5', 'phecode_343-6', 'phecode_344', 'phecode_344-1', 'phecode_344-11', 'phecode_344-12', 'phecode_344-13', 'phecode_344-14', 'phecode_344-2', 'phecode_344-3', 'phecode_345', 'phecode_345-1', 'phecode_345-3', 'phecode_346', 'phecode_346-3', 'phecode_346-5', 'phecode_346-6', 'phecode_347', 'phecode_347-1', 'phecode_347-2', 'phecode_348', 'phecode_348-1', 'phecode_348-2', 'phecode_348-21', 'phecode_348-4', 'phecode_349', 'phecode_349-1', 'phecode_349-13', 'phecode_349-15', 'phecode_349-2', 'phecode_350', 'phecode_350-1', 'phecode_350-2', 'phecode_350-3', 'phecode_350-4', 'phecode_350-5', 'phecode_351', 'phecode_351-1', 'phecode_351-2', 'phecode_351-3', 'phecode_351-4', 'phecode_352', 'phecode_352-1', 'phecode_352-2', 'phecode_352-3', 'phecode_353', 'phecode_353-1', 'phecode_353-11', 'phecode_353-12', 'phecode_354', 'phecode_355', 'phecode_355-1', 'phecode_355-2', 'phecode_356', 'phecode_356-1', 'phecode_356-2', 'phecode_360', 'phecode_360-1', 'phecode_360-11', 'phecode_360-2', 'phecode_360-4', 'phecode_360-5', 'phecode_361', 'phecode_361-1', 'phecode_361-2', 'phecode_361-3', 'phecode_361-4', 'phecode_361-9', 'phecode_362', 'phecode_362-1', 'phecode_363', 'phecode_363-1', 'phecode_363-5', 'phecode_363-6', 'phecode_363-7', 'phecode_365', 'phecode_365-1', 'phecode_365-3', 'phecode_365-6', 'phecode_366', 'phecode_366-1', 'phecode_366-3', 'phecode_366-4', 'phecode_367', 'phecode_367-1', 'phecode_367-12', 'phecode_367-13', 'phecode_367-2', 'phecode_367-21', 'phecode_367-3', 'phecode_367-4', 'phecode_367-5', 'phecode_367-52', 'phecode_367-6', 'phecode_367-7', 'phecode_367-9', 'phecode_368', 'phecode_369', 'phecode_369-1', 'phecode_369-12', 'phecode_369-2', 'phecode_369-3', 'phecode_369-4', 'phecode_369-5', 'phecode_369-6', 'phecode_369-62', 'phecode_370', 'phecode_370-1', 'phecode_370-2', 'phecode_370-3', 'phecode_370-4', 'phecode_371', 'phecode_371-3', 'phecode_371-31', 'phecode_372', 'phecode_372-1', 'phecode_372-2', 'phecode_373', 'phecode_373-1', 'phecode_373-2', 'phecode_373-3', 'phecode_373-5', 'phecode_374', 'phecode_374-1', 'phecode_374-11', 'phecode_374-12', 'phecode_374-2', 'phecode_374-3', 'phecode_374-37', 'phecode_374-39', 'phecode_374-4', 'phecode_374-5', 'phecode_374-6', 'phecode_374-7', 'phecode_375', 'phecode_375-1', 'phecode_375-11', 'phecode_375-12', 'phecode_375-7', 'phecode_375-8', 'phecode_376', 'phecode_376-2', 'phecode_376-21', 'phecode_376-3', 'phecode_377', 'phecode_377-2', 'phecode_377-3', 'phecode_377-4', 'phecode_377-5', 'phecode_377-8', 'phecode_379', 'phecode_379-2', 'phecode_379-21', 'phecode_380', 'phecode_380-1', 'phecode_380-11', 'phecode_380-2', 'phecode_380-21', 'phecode_380-3', 'phecode_380-5', 'phecode_381', 'phecode_381-1', 'phecode_381-11', 'phecode_381-3', 'phecode_381-4', 'phecode_381-6', 'phecode_381-8', 'phecode_382', 'phecode_382-1', 'phecode_382-2', 'phecode_383', 'phecode_384', 'phecode_386', 'phecode_386-1', 'phecode_386-2', 'phecode_386-4', 'phecode_386-5', 'phecode_386-6', 'phecode_387', 'phecode_387-1', 'phecode_387-2', 'phecode_387-21', 'phecode_387-3', 'phecode_387-4', 'phecode_387-8', 'phecode_388', 'phecode_388-1', 'phecode_389', 'phecode_389-1', 'phecode_390', 'phecode_390-1', 'phecode_390-4', 'phecode_390-5', 'phecode_390-6', 'phecode_391', 'phecode_391-1', 'phecode_391-11', 'phecode_391-12', 'phecode_391-13', 'phecode_391-2', 'phecode_391-21', 'phecode_391-22', 'phecode_391-23', 'phecode_391-3', 'phecode_391-4', 'phecode_391-5', 'phecode_391-6', 'phecode_391-7', 'phecode_391-8', 'phecode_391-9', 'phecode_392', 'phecode_393', 'phecode_394', 'phecode_394-1', 'phecode_394-2', 'phecode_394-21', 'phecode_394-22', 'phecode_394-23', 'phecode_395', 'phecode_395-1', 'phecode_395-2', 'phecode_395-3', 'phecode_396', 'phecode_396-1', 'phecode_396-11', 'phecode_396-2', 'phecode_396-21', 'phecode_396-22', 'phecode_396-3', 'phecode_396-4', 'phecode_396-5', 'phecode_396-8', 'phecode_397', 'phecode_397-1', 'phecode_398', 'phecode_400', 'phecode_400-1', 'phecode_400-2', 'phecode_401', 'phecode_401-1', 'phecode_401-2', 'phecode_401-3', 'phecode_401-4', 'phecode_401-6', 'phecode_401-61', 'phecode_402', 'phecode_403', 'phecode_403-1', 'phecode_404', 'phecode_404-1', 'phecode_404-11', 'phecode_404-2', 'phecode_406', 'phecode_406-1', 'phecode_406-11', 'phecode_406-12', 'phecode_408', 'phecode_410', 'phecode_410-1', 'phecode_410-2', 'phecode_410-3', 'phecode_411', 'phecode_411-1', 'phecode_411-2', 'phecode_413', 'phecode_413-1', 'phecode_413-11', 'phecode_413-12', 'phecode_413-13', 'phecode_413-2', 'phecode_413-21', 'phecode_413-22', 'phecode_413-3', 'phecode_413-31', 'phecode_413-32', 'phecode_413-4', 'phecode_413-41', 'phecode_413-42', 'phecode_413-6', 'phecode_414', 'phecode_414-1', 'phecode_414-11', 'phecode_414-2', 'phecode_414-3', 'phecode_414-5', 'phecode_414-6', 'phecode_414-7', 'phecode_414-8', 'phecode_416', 'phecode_416-1', 'phecode_416-11', 'phecode_416-12', 'phecode_416-13', 'phecode_416-2', 'phecode_416-21', 'phecode_416-211', 'phecode_416-212', 'phecode_416-213', 'phecode_416-22', 'phecode_416-221', 'phecode_416-222', 'phecode_416-3', 'phecode_416-4', 'phecode_416-41', 'phecode_416-42', 'phecode_416-43', 'phecode_416-5', 'phecode_416-51', 'phecode_416-52', 'phecode_416-7', 'phecode_416-71', 'phecode_416-8', 'phecode_417', 'phecode_417-1', 'phecode_417-2', 'phecode_417-3', 'phecode_418', 'phecode_419', 'phecode_420', 'phecode_423', 'phecode_423-1', 'phecode_424', 'phecode_424-1', 'phecode_424-6', 'phecode_425', 'phecode_426', 'phecode_426-1', 'phecode_430', 'phecode_430-1', 'phecode_430-2', 'phecode_430-3', 'phecode_430-4', 'phecode_431', 'phecode_431-1', 'phecode_431-11', 'phecode_431-12', 'phecode_431-13', 'phecode_431-14', 'phecode_431-15', 'phecode_431-2', 'phecode_433', 'phecode_433-1', 'phecode_433-2', 'phecode_433-21', 'phecode_433-3', 'phecode_433-32', 'phecode_433-34', 'phecode_433-4', 'phecode_436', 'phecode_436-1', 'phecode_436-2', 'phecode_436-3', 'phecode_436-5', 'phecode_437', 'phecode_438', 'phecode_438-1', 'phecode_438-11', 'phecode_438-12', 'phecode_438-13', 'phecode_438-14', 'phecode_438-2', 'phecode_438-3', 'phecode_438-4', 'phecode_438-41', 'phecode_438-43', 'phecode_438-6', 'phecode_438-7', 'phecode_438-9', 'phecode_439', 'phecode_440', 'phecode_440-1', 'phecode_440-11', 'phecode_440-12', 'phecode_440-13', 'phecode_440-14', 'phecode_440-15', 'phecode_440-2', 'phecode_440-21', 'phecode_440-22', 'phecode_440-3', 'phecode_441', 'phecode_441-1', 'phecode_442', 'phecode_442-1', 'phecode_443', 'phecode_443-1', 'phecode_443-2', 'phecode_443-3', 'phecode_444', 'phecode_444-1', 'phecode_444-11', 'phecode_444-12', 'phecode_444-13', 'phecode_444-14', 'phecode_444-15', 'phecode_444-5', 'phecode_446', 'phecode_446-2', 'phecode_447', 'phecode_448', 'phecode_448-1', 'phecode_448-9', 'phecode_449', 'phecode_452', 'phecode_460', 'phecode_460-1', 'phecode_460-2', 'phecode_462', 'phecode_462-1', 'phecode_462-2', 'phecode_463', 'phecode_463-1', 'phecode_463-2', 'phecode_463-21', 'phecode_463-3', 'phecode_464', 'phecode_464-1', 'phecode_464-2', 'phecode_465', 'phecode_465-1', 'phecode_465-11', 'phecode_465-2', 'phecode_465-3', 'phecode_466', 'phecode_466-1', 'phecode_466-2', 'phecode_466-3', 'phecode_466-4', 'phecode_467', 'phecode_467-1', 'phecode_467-11', 'phecode_467-2', 'phecode_467-4', 'phecode_468', 'phecode_468-1', 'phecode_468-11', 'phecode_468-12', 'phecode_468-13', 'phecode_468-14', 'phecode_468-16', 'phecode_468-2', 'phecode_468-21', 'phecode_468-22', 'phecode_468-23', 'phecode_468-24', 'phecode_468-25', 'phecode_468-26', 'phecode_468-27', 'phecode_468-28', 'phecode_468-29', 'phecode_468-5', 'phecode_468-51', 'phecode_468-6', 'phecode_468-8', 'phecode_468-9', 'phecode_469', 'phecode_469-1', 'phecode_469-2', 'phecode_470', 'phecode_471', 'phecode_471-1', 'phecode_471-2', 'phecode_471-3', 'phecode_471-5', 'phecode_472', 'phecode_472-1', 'phecode_472-2', 'phecode_472-3', 'phecode_472-4', 'phecode_472-5', 'phecode_472-6', 'phecode_473', 'phecode_473-1', 'phecode_474', 'phecode_474-1', 'phecode_474-11', 'phecode_474-12', 'phecode_474-13', 'phecode_475', 'phecode_476', 'phecode_477', 'phecode_477-1', 'phecode_477-2', 'phecode_478', 'phecode_479', 'phecode_479-1', 'phecode_479-3', 'phecode_479-31', 'phecode_479-6', 'phecode_480', 'phecode_481', 'phecode_481-1', 'phecode_482', 'phecode_482-1', 'phecode_482-11', 'phecode_482-12', 'phecode_482-2', 'phecode_483', 'phecode_484', 'phecode_484-1', 'phecode_484-4', 'phecode_485', 'phecode_486', 'phecode_486-2', 'phecode_486-3', 'phecode_486-4', 'phecode_486-41', 'phecode_486-5', 'phecode_486-7', 'phecode_487', 'phecode_487-1', 'phecode_487-2', 'phecode_487-3', 'phecode_488', 'phecode_488-1', 'phecode_488-2', 'phecode_488-3', 'phecode_488-5', 'phecode_488-6', 'phecode_488-8', 'phecode_488-9', 'phecode_491', 'phecode_492', 'phecode_494', 'phecode_495', 'phecode_496', 'phecode_497', 'phecode_498', 'phecode_498-2', 'phecode_499', 'phecode_500', 'phecode_500-1', 'phecode_500-2', 'phecode_500-3', 'phecode_500-4', 'phecode_500-41', 'phecode_500-6', 'phecode_501', 'phecode_502', 'phecode_502-1', 'phecode_502-3', 'phecode_502-4', 'phecode_502-5', 'phecode_502-6', 'phecode_502-7', 'phecode_503', 'phecode_503-1', 'phecode_503-5', 'phecode_504', 'phecode_504-1', 'phecode_504-2', 'phecode_504-3', 'phecode_504-31', 'phecode_504-32', 'phecode_504-4', 'phecode_505', 'phecode_506', 'phecode_506-1', 'phecode_506-2', 'phecode_506-3', 'phecode_506-4', 'phecode_506-5', 'phecode_506-51', 'phecode_506-6', 'phecode_507', 'phecode_507-1', 'phecode_507-11', 'phecode_507-2', 'phecode_507-3', 'phecode_507-31', 'phecode_507-5', 'phecode_508', 'phecode_509', 'phecode_509-1', 'phecode_509-11', 'phecode_509-2', 'phecode_509-3', 'phecode_509-4', 'phecode_509-5', 'phecode_510', 'phecode_510-1', 'phecode_510-2', 'phecode_510-4', 'phecode_510-5', 'phecode_510-6', 'phecode_510-7', 'phecode_510-8', 'phecode_511', 'phecode_512', 'phecode_513', 'phecode_513-1', 'phecode_513-2', 'phecode_513-3', 'phecode_513-4', 'phecode_514', 'phecode_514-1', 'phecode_514-2', 'phecode_514-21', 'phecode_514-3', 'phecode_514-31', 'phecode_515', 'phecode_516', 'phecode_516-1', 'phecode_516-3', 'phecode_516-5', 'phecode_517', 'phecode_518', 'phecode_520', 'phecode_520-1', 'phecode_520-11', 'phecode_520-12', 'phecode_520-13', 'phecode_520-14', 'phecode_520-15', 'phecode_520-2', 'phecode_522', 'phecode_522-1', 'phecode_522-11', 'phecode_522-12', 'phecode_522-13', 'phecode_522-4', 'phecode_522-5', 'phecode_522-7', 'phecode_522-8', 'phecode_522-9', 'phecode_522-91', 'phecode_523', 'phecode_523-1', 'phecode_523-2', 'phecode_523-3', 'phecode_523-4', 'phecode_524', 'phecode_524-1', 'phecode_524-2', 'phecode_524-3', 'phecode_525', 'phecode_525-1', 'phecode_525-2', 'phecode_525-3', 'phecode_526', 'phecode_526-1', 'phecode_526-11', 'phecode_526-12', 'phecode_526-13', 'phecode_526-2', 'phecode_526-21', 'phecode_526-3', 'phecode_527', 'phecode_528', 'phecode_528-1', 'phecode_528-2', 'phecode_529', 'phecode_529-1', 'phecode_529-2', 'phecode_529-3', 'phecode_529-4', 'phecode_529-5', 'phecode_529-6', 'phecode_530', 'phecode_530-1', 'phecode_530-2', 'phecode_530-3', 'phecode_530-4', 'phecode_532', 'phecode_532-1', 'phecode_532-2', 'phecode_532-3', 'phecode_532-4', 'phecode_535', 'phecode_537', 'phecode_537-1', 'phecode_537-2', 'phecode_540', 'phecode_540-1', 'phecode_540-11', 'phecode_540-2', 'phecode_540-3', 'phecode_540-4', 'phecode_542', 'phecode_542-1', 'phecode_542-2', 'phecode_542-3', 'phecode_542-4', 'phecode_542-5', 'phecode_544', 'phecode_544-1', 'phecode_545', 'phecode_546', 'phecode_546-1', 'phecode_546-2', 'phecode_546-3', 'phecode_546-31', 'phecode_546-4', 'phecode_550', 'phecode_550-1', 'phecode_550-2', 'phecode_550-3', 'phecode_550-4', 'phecode_552', 'phecode_552-1', 'phecode_552-2', 'phecode_554', 'phecode_554-1', 'phecode_554-11', 'phecode_554-12', 'phecode_554-2', 'phecode_555', 'phecode_556', 'phecode_556-3', 'phecode_556-4', 'phecode_556-8', 'phecode_557', 'phecode_557-1', 'phecode_557-2', 'phecode_557-8', 'phecode_558', 'phecode_559', 'phecode_580', 'phecode_580-1', 'phecode_580-2', 'phecode_580-3', 'phecode_580-4', 'phecode_581', 'phecode_581-1', 'phecode_581-11', 'phecode_581-12', 'phecode_581-13', 'phecode_581-3', 'phecode_581-31', 'phecode_581-32', 'phecode_581-33', 'phecode_581-34', 'phecode_582', 'phecode_583', 'phecode_583-1', 'phecode_584', 'phecode_584-1', 'phecode_585', 'phecode_585-1', 'phecode_586', 'phecode_586-1', 'phecode_586-2', 'phecode_586-3', 'phecode_586-5', 'phecode_588', 'phecode_588-1', 'phecode_588-11', 'phecode_588-12', 'phecode_588-2', 'phecode_589', 'phecode_589-1', 'phecode_591', 'phecode_592', 'phecode_592-1', 'phecode_592-11', 'phecode_592-12', 'phecode_592-13', 'phecode_592-2', 'phecode_592-21', 'phecode_592-3', 'phecode_593', 'phecode_593-3', 'phecode_594', 'phecode_594-1', 'phecode_594-2', 'phecode_594-3', 'phecode_594-32', 'phecode_594-4', 'phecode_594-5', 'phecode_596', 'phecode_596-1', 'phecode_596-3', 'phecode_596-4', 'phecode_596-5', 'phecode_597', 'phecode_597-1', 'phecode_597-3', 'phecode_597-4', 'phecode_597-5', 'phecode_598', 'phecode_599', 'phecode_599-7', 'phecode_600', 'phecode_601', 'phecode_601-1', 'phecode_601-11', 'phecode_601-12', 'phecode_602', 'phecode_602-3', 'phecode_603', 'phecode_603-1', 'phecode_603-2', 'phecode_603-4', 'phecode_603-5', 'phecode_604', 'phecode_604-3', 'phecode_604-4', 'phecode_604-5', 'phecode_608', 'phecode_608-1', 'phecode_609', 'phecode_610', 'phecode_610-1', 'phecode_610-2', 'phecode_610-3', 'phecode_610-5', 'phecode_612', 'phecode_612-1', 'phecode_612-2', 'phecode_613', 'phecode_613-1', 'phecode_613-5', 'phecode_613-7', 'phecode_613-8', 'phecode_614', 'phecode_614-1', 'phecode_614-3', 'phecode_614-31', 'phecode_614-32', 'phecode_614-33', 'phecode_614-4', 'phecode_614-5', 'phecode_614-51', 'phecode_614-52', 'phecode_614-53', 'phecode_614-54', 'phecode_614-55', 'phecode_615', 'phecode_617', 'phecode_618', 'phecode_618-1', 'phecode_618-11', 'phecode_618-12', 'phecode_618-2', 'phecode_618-5', 'phecode_618-6', 'phecode_619', 'phecode_619-1', 'phecode_619-2', 'phecode_619-3', 'phecode_619-31', 'phecode_619-32', 'phecode_619-4', 'phecode_619-5', 'phecode_620', 'phecode_621', 'phecode_622', 'phecode_622-1', 'phecode_622-2', 'phecode_623', 'phecode_624', 'phecode_624-1', 'phecode_624-2', 'phecode_625', 'phecode_625-1', 'phecode_625-2', 'phecode_626', 'phecode_626-1', 'phecode_626-11', 'phecode_626-13', 'phecode_626-14', 'phecode_626-2', 'phecode_626-21', 'phecode_627', 'phecode_627-1', 'phecode_627-2', 'phecode_627-3', 'phecode_627-4', 'phecode_628', 'phecode_628-1', 'phecode_628-2', 'phecode_628-3', 'phecode_629', 'phecode_660', 'phecode_660-1', 'phecode_660-11', 'phecode_660-12', 'phecode_660-13', 'phecode_660-2', 'phecode_660-21', 'phecode_660-22', 'phecode_660-23', 'phecode_660-6', 'phecode_660-7', 'phecode_661', 'phecode_662', 'phecode_663', 'phecode_663-1', 'phecode_663-11', 'phecode_663-12', 'phecode_663-2', 'phecode_663-3', 'phecode_663-4', 'phecode_663-6', 'phecode_664', 'phecode_664-1', 'phecode_664-2', 'phecode_664-21', 'phecode_664-22', 'phecode_664-3', 'phecode_665', 'phecode_665-1', 'phecode_665-2', 'phecode_665-3', 'phecode_666', 'phecode_666-1', 'phecode_666-2', 'phecode_666-3', 'phecode_666-4', 'phecode_666-6', 'phecode_667', 'phecode_667-1', 'phecode_667-2', 'phecode_667-3', 'phecode_667-4', 'phecode_668', 'phecode_668-1', 'phecode_668-2', 'phecode_668-3', 'phecode_668-4', 'phecode_668-5', 'phecode_668-6', 'phecode_669', 'phecode_670', 'phecode_671', 'phecode_672', 'phecode_672-1', 'phecode_673', 'phecode_673-1', 'phecode_674', 'phecode_674-1', 'phecode_674-11', 'phecode_674-2', 'phecode_674-21', 'phecode_674-22', 'phecode_674-23', 'phecode_675', 'phecode_675-1', 'phecode_675-2', 'phecode_676', 'phecode_676-1', 'phecode_676-2', 'phecode_677', 'phecode_678', 'phecode_679', 'phecode_679-1', 'phecode_679-2', 'phecode_679-21', 'phecode_679-22', 'phecode_679-3', 'phecode_679-4', 'phecode_679-5', 'phecode_679-7', 'phecode_679-8', 'phecode_680', 'phecode_680-1', 'phecode_680-2', 'phecode_680-3', 'phecode_681', 'phecode_682', 'phecode_682-1', 'phecode_682-11', 'phecode_682-12', 'phecode_682-3', 'phecode_682-4', 'phecode_683', 'phecode_683-1', 'phecode_683-2', 'phecode_683-4', 'phecode_684', 'phecode_684-1', 'phecode_684-11', 'phecode_684-12', 'phecode_684-13', 'phecode_684-14', 'phecode_684-2', 'phecode_684-8', 'phecode_685', 'phecode_685-1', 'phecode_685-4', 'phecode_685-5', 'phecode_685-8', 'phecode_685-82', 'phecode_686', 'phecode_686-1', 'phecode_686-2', 'phecode_687', 'phecode_688', 'phecode_688-1', 'phecode_688-2', 'phecode_688-3', 'phecode_688-4', 'phecode_688-6', 'phecode_700', 'phecode_700-1', 'phecode_700-11', 'phecode_700-12', 'phecode_700-13', 'phecode_700-2', 'phecode_700-3', 'phecode_700-4', 'phecode_700-41', 'phecode_700-42', 'phecode_700-43', 'phecode_700-8', 'phecode_700-9', 'phecode_701', 'phecode_701-1', 'phecode_701-11', 'phecode_701-12', 'phecode_702', 'phecode_702-1', 'phecode_702-2', 'phecode_702-3', 'phecode_703', 'phecode_703-1', 'phecode_703-11', 'phecode_703-2', 'phecode_703-3', 'phecode_704', 'phecode_704-1', 'phecode_704-11', 'phecode_704-12', 'phecode_704-2', 'phecode_704-3', 'phecode_704-4', 'phecode_704-5', 'phecode_704-6', 'phecode_704-7', 'phecode_704-8', 'phecode_704-9', 'phecode_705', 'phecode_705-1', 'phecode_705-11', 'phecode_705-12', 'phecode_705-2', 'phecode_705-3', 'phecode_705-4', 'phecode_705-5', 'phecode_705-6', 'phecode_706', 'phecode_706-1', 'phecode_706-2', 'phecode_706-3', 'phecode_706-6', 'phecode_707', 'phecode_707-1', 'phecode_707-2', 'phecode_707-4', 'phecode_707-6', 'phecode_707-7', 'phecode_707-8', 'phecode_707-9', 'phecode_708', 'phecode_708-1', 'phecode_708-11', 'phecode_708-12', 'phecode_708-13', 'phecode_708-14', 'phecode_708-15', 'phecode_708-16', 'phecode_708-7', 'phecode_708-8', 'phecode_708-9', 'phecode_709', 'phecode_709-1', 'phecode_709-2', 'phecode_709-21', 'phecode_709-22', 'phecode_709-23', 'phecode_709-24', 'phecode_710', 'phecode_710-1', 'phecode_710-2', 'phecode_710-21', 'phecode_710-22', 'phecode_710-23', 'phecode_710-3', 'phecode_710-31', 'phecode_710-32', 'phecode_710-4', 'phecode_710-41', 'phecode_710-42', 'phecode_710-43', 'phecode_710-6', 'phecode_711', 'phecode_711-1', 'phecode_712', 'phecode_712-1', 'phecode_712-3', 'phecode_712-4', 'phecode_712-5', 'phecode_712-51', 'phecode_712-6', 'phecode_712-61', 'phecode_712-62', 'phecode_712-63', 'phecode_713', 'phecode_713-1', 'phecode_713-2', 'phecode_713-3', 'phecode_713-4', 'phecode_713-5', 'phecode_714', 'phecode_714-1', 'phecode_714-2', 'phecode_714-3', 'phecode_714-31', 'phecode_714-32', 'phecode_714-33', 'phecode_714-4', 'phecode_714-7', 'phecode_715', 'phecode_715-1', 'phecode_715-2', 'phecode_715-3', 'phecode_715-4', 'phecode_715-5', 'phecode_715-6', 'phecode_716', 'phecode_716-1', 'phecode_716-2', 'phecode_716-3', 'phecode_717', 'phecode_717-1', 'phecode_717-2', 'phecode_717-3', 'phecode_718', 'phecode_718-1', 'phecode_718-2', 'phecode_718-3', 'phecode_718-4', 'phecode_718-5', 'phecode_719', 'phecode_719-1', 'phecode_719-11', 'phecode_719-2', 'phecode_719-21', 'phecode_719-22', 'phecode_719-3', 'phecode_719-4', 'phecode_719-5', 'phecode_719-6', 'phecode_719-61', 'phecode_719-7', 'phecode_719-8', 'phecode_719-9', 'phecode_719-91', 'phecode_719-92', 'phecode_719-93', 'phecode_720', 'phecode_721', 'phecode_721-1', 'phecode_721-11', 'phecode_721-12', 'phecode_721-15', 'phecode_721-16', 'phecode_721-2', 'phecode_721-4', 'phecode_721-5', 'phecode_721-6', 'phecode_721-7', 'phecode_722', 'phecode_722-1', 'phecode_722-2', 'phecode_722-3', 'phecode_722-4', 'phecode_723', 'phecode_723-1', 'phecode_723-2', 'phecode_723-3', 'phecode_723-4', 'phecode_723-5', 'phecode_723-51', 'phecode_723-6', 'phecode_723-7', 'phecode_724', 'phecode_724-1', 'phecode_724-2', 'phecode_724-3', 'phecode_724-4', 'phecode_724-5', 'phecode_724-51', 'phecode_724-52', 'phecode_725', 'phecode_725-1', 'phecode_725-2', 'phecode_726', 'phecode_726-1', 'phecode_726-2', 'phecode_726-4', 'phecode_726-5', 'phecode_726-6', 'phecode_726-8', 'phecode_727', 'phecode_727-1', 'phecode_727-2', 'phecode_727-3', 'phecode_727-4', 'phecode_727-5', 'phecode_727-6', 'phecode_727-7', 'phecode_727-8', 'phecode_728', 'phecode_728-1', 'phecode_728-2', 'phecode_728-3', 'phecode_728-6', 'phecode_728-7', 'phecode_728-8', 'phecode_729', 'phecode_729-1', 'phecode_729-2', 'phecode_729-3', 'phecode_729-5', 'phecode_729-7', 'phecode_729-8', 'phecode_730', 'phecode_730-1', 'phecode_730-2', 'phecode_730-3', 'phecode_730-4', 'phecode_732', 'phecode_750', 'phecode_750-1', 'phecode_750-11', 'phecode_750-13', 'phecode_750-14', 'phecode_750-2', 'phecode_750-4', 'phecode_750-6', 'phecode_750-61', 'phecode_750-62', 'phecode_751', 'phecode_751-1', 'phecode_751-11', 'phecode_751-3', 'phecode_751-4', 'phecode_751-5', 'phecode_751-6', 'phecode_752', 'phecode_752-1', 'phecode_753', 'phecode_753-1', 'phecode_753-12', 'phecode_753-2', 'phecode_753-21', 'phecode_753-22', 'phecode_753-23', 'phecode_753-24', 'phecode_753-4', 'phecode_753-5', 'phecode_753-51', 'phecode_753-6', 'phecode_753-8', 'phecode_753-81', 'phecode_753-82', 'phecode_753-83', 'phecode_753-84', 'phecode_753-9', 'phecode_754', 'phecode_754-1', 'phecode_754-11', 'phecode_754-2', 'phecode_755', 'phecode_755-1', 'phecode_755-11', 'phecode_755-3', 'phecode_755-5', 'phecode_755-6', 'phecode_755-7', 'phecode_755-8', 'phecode_756', 'phecode_756-1', 'phecode_756-2', 'phecode_756-4', 'phecode_756-41', 'phecode_756-42', 'phecode_756-6', 'phecode_757', 'phecode_757-1', 'phecode_757-11', 'phecode_757-2', 'phecode_758', 'phecode_758-1', 'phecode_758-2', 'phecode_758-23', 'phecode_758-3', 'phecode_758-31', 'phecode_758-6', 'phecode_758-61', 'phecode_758-62', 'phecode_759', 'phecode_759-1', 'phecode_759-2', 'phecode_760', 'phecode_762', 'phecode_762-1', 'phecode_762-11', 'phecode_762-3', 'phecode_763', 'phecode_763-1', 'phecode_763-2', 'phecode_764', 'phecode_764-1', 'phecode_765', 'phecode_765-1', 'phecode_765-2', 'phecode_765-3', 'phecode_765-4', 'phecode_765-5', 'phecode_765-6', 'phecode_765-7', 'phecode_765-8', 'phecode_766', 'phecode_766-1', 'phecode_766-2', 'phecode_767', 'phecode_767-1', 'phecode_768', 'phecode_770', 'phecode_770-1', 'phecode_770-11', 'phecode_770-2', 'phecode_770-3', 'phecode_770-31', 'phecode_770-32', 'phecode_770-33', 'phecode_770-34', 'phecode_770-4', 'phecode_770-5', 'phecode_770-51', 'phecode_770-6', 'phecode_770-61', 'phecode_771', 'phecode_771-1', 'phecode_771-11', 'phecode_771-2', 'phecode_771-21', 'phecode_771-22', 'phecode_771-23', 'phecode_771-27', 'phecode_771-3', 'phecode_772', 'phecode_772-1', 'phecode_773', 'phecode_773-1', 'phecode_773-11', 'phecode_773-12', 'phecode_773-2', 'phecode_773-3', 'phecode_773-31', 'phecode_773-32', 'phecode_773-6', 'phecode_773-7', 'phecode_773-8', 'phecode_773-9', 'phecode_774', 'phecode_774-1', 'phecode_774-3', 'phecode_774-4', 'phecode_774-5', 'phecode_774-6', 'phecode_775', 'phecode_775-1', 'phecode_775-2', 'phecode_775-3', 'phecode_775-4', 'phecode_777', 'phecode_777-1', 'phecode_777-11', 'phecode_777-12', 'phecode_777-13', 'phecode_777-14', 'phecode_777-15', 'phecode_777-2', 'phecode_777-3', 'phecode_777-31', 'phecode_777-32', 'phecode_777-33', 'phecode_777-34', 'phecode_777-35', 'phecode_778', 'phecode_778-1', 'phecode_778-2', 'phecode_778-3', 'phecode_778-4', 'phecode_778-41', 'phecode_778-43', 'phecode_778-5', 'phecode_778-52', 'phecode_778-6', 'phecode_778-7', 'phecode_779', 'phecode_779-1', 'phecode_779-12', 'phecode_779-13', 'phecode_779-2', 'phecode_779-21', 'phecode_779-22', 'phecode_779-3', 'phecode_779-31', 'phecode_779-32', 'phecode_779-33', 'phecode_779-34', 'phecode_780', 'phecode_780-1', 'phecode_780-2', 'phecode_780-3', 'phecode_780-4', 'phecode_780-41', 'phecode_780-42', 'phecode_780-43', 'phecode_780-44', 'phecode_780-45', 'phecode_780-5', 'phecode_780-52', 'phecode_780-6', 'phecode_780-7', 'phecode_780-8', 'phecode_781', 'phecode_781-1', 'phecode_781-11', 'phecode_781-3', 'phecode_781-4', 'phecode_781-41', 'phecode_781-42', 'phecode_783', 'phecode_783-1', 'phecode_783-11', 'phecode_784', 'phecode_784-1', 'phecode_784-11', 'phecode_784-2', 'phecode_784-3', 'phecode_784-4', 'phecode_785', 'phecode_785-1', 'phecode_785-11', 'phecode_785-12', 'phecode_785-2', 'phecode_785-3', 'phecode_785-6', 'phecode_786', 'phecode_786-1', 'phecode_786-2', 'phecode_787', 'phecode_787-1', 'phecode_787-2', 'phecode_787-5', 'phecode_787-51', 'phecode_787-7', 'phecode_788', 'phecode_788-1', 'phecode_788-13', 'phecode_788-14', 'phecode_788-15', 'phecode_788-16', 'phecode_788-3', 'phecode_788-4', 'phecode_788-5', 'phecode_788-7', 'phecode_789', 'phecode_789-1', 'phecode_789-11', 'phecode_789-2', 'phecode_789-21', 'phecode_789-3', 'phecode_789-4', 'phecode_790', 'phecode_790-1', 'phecode_790-12', 'phecode_790-14', 'phecode_790-15', 'phecode_790-2', 'phecode_790-3', 'phecode_790-4', 'phecode_790-41', 'phecode_791', 'phecode_792', 'phecode_793', 'phecode_794', 'phecode_795', 'phecode_796', 'phecode_796-1', 'phecode_796-11', 'phecode_796-12', 'phecode_796-3', 'phecode_797', 'phecode_797-1', 'phecode_797-2', 'phecode_797-3', 'phecode_797-4', 'phecode_797-7', 'phecode_797-8', 'phecode_797-9', 'phecode_798', 'phecode_798-1', 'phecode_800', 'phecode_800-1', 'phecode_800-2', 'phecode_801', 'phecode_802', 'phecode_804', 'phecode_805', 'phecode_807', 'phecode_807-1', 'phecode_807-11', 'phecode_808', 'phecode_809', 'phecode_809-3', 'phecode_810', 'phecode_810-1', 'phecode_811', 'phecode_812', 'phecode_812-1', 'phecode_812-2', 'phecode_813', 'phecode_814', 'phecode_815', 'phecode_817', 'phecode_819', 'phecode_820', 'phecode_823', 'phecode_823-1', 'phecode_826', 'phecode_826-1', 'phecode_826-2', 'phecode_827', 'phecode_827-1', 'phecode_829', 'phecode_829-2', 'phecode_830', 'phecode_831', 'phecode_832', 'phecode_832-1', 'phecode_832-2', 'phecode_832-3', 'phecode_832-4', 'phecode_832-5', 'phecode_835', 'phecode_840', 'phecode_840-1', 'phecode_840-2', 'phecode_840-8', 'phecode_840-9', 'phecode_841', 'phecode_841-1', 'phecode_841-11', 'phecode_841-12', 'phecode_841-13', 'phecode_841-2', 'phecode_841-3', 'phecode_841-4', 'phecode_841-5', 'phecode_848', 'phecode_848-2', 'phecode_850', 'phecode_850-1', 'phecode_850-3', 'phecode_854', 'phecode_854-2', 'phecode_854-9', 'phecode_854-91', 'phecode_856', 'phecode_856-1', 'phecode_856-8', 'phecode_860', 'phecode_860-4', 'phecode_868', 'phecode_868-6', 'phecode_870', 'phecode_873', 'phecode_876', 'phecode_877', 'phecode_878', 'phecode_879', 'phecode_880', 'phecode_889', 'phecode_890', 'phecode_890-1', 'phecode_890-3', 'phecode_891', 'phecode_891-1', 'phecode_891-11', 'phecode_891-12', 'phecode_891-2', 'phecode_891-3', 'phecode_892', 'phecode_892-4', 'phecode_892-41', 'phecode_892-6', 'phecode_892-61', 'phecode_892-62', 'phecode_892-63', 'phecode_893', 'phecode_893-1', 'phecode_893-2', 'phecode_893-3', 'phecode_893-31', 'phecode_893-4', 'phecode_893-41', 'phecode_893-5', 'phecode_893-51', 'phecode_893-52', 'phecode_893-53', 'phecode_893-7', 'phecode_894', 'phecode_894-1', 'phecode_900', 'phecode_900-1', 'phecode_900-2', 'phecode_901', 'phecode_901-1', 'phecode_901-11', 'phecode_901-12', 'phecode_901-13', 'phecode_901-2', 'phecode_901-3', 'phecode_901-4', 'phecode_902', 'phecode_903', 'phecode_903-1', 'phecode_904', 'phecode_904-1', 'phecode_904-11', 'phecode_904-3', 'phecode_905', 'phecode_907', 'phecode_907-1', 'phecode_907-3', 'phecode_907-6', 'phecode_907-8', 'phecode_908', 'phecode_908-1', 'phecode_908-11', 'phecode_908-12', 'phecode_908-2', 'phecode_908-3', 'phecode_908-4', 'phecode_909', 'phecode_909-1', 'phecode_909-2', 'phecode_910', 'phecode_910-1', 'phecode_911', 'phecode_911-1', 'phecode_912', 'phecode_912-1', 'phecode_912-2', 'phecode_912-3', 'phecode_913', 'phecode_914', 'phecode_916', 'phecode_916-1', 'phecode_916-2', 'phecode_916-5', 'phecode_917', 'phecode_920', 'phecode_920-1', 'phecode_920-2', 'phecode_922', 'phecode_922-1', 'phecode_923', 'phecode_924', 'phecode_926', 'phecode_926-1', 'phecode_926-11', 'phecode_927', 'phecode_928', 'phecode_929', 'phecode_930', 'phecode_930-1', 'phecode_930-2', 'phecode_930-3', 'phecode_932', 'phecode_932-2', 'phecode_932-3', 'phecode_935', 'phecode_937', 'phecode_938', 'phecode_940', 'phecode_940-1', 'phecode_941', 'phecode_941-1', 'phecode_941-2', 'phecode_941-3', 'phecode_941-4', 'phecode_942', 'phecode_944', 'phecode_945', 'phecode_945-2', 'phecode_945-3', 'phecode_947', 'phecode_947-1', 'phecode_947-2', 'phecode_947-3', 'phecode_947-4', 'phecode_947-5', 'phecode_949', 'phecode_949-1', 'phecode_949-2', 'phecode_949-3', 'phecode_949-4', 'phecode_949-5', 'phecode_950', 'phecode_952', 'phecode_952-5', 'phecode_954', 'phecode_954-2', 'phecode_965', 'phecode_965-5', 'phecode_965-6', 'phecode_969', 'phecode_973', 'phecode_974', 'phecode_975', 'phecode_975-2', 'phecode_975-23', 'phecode_976', 'phecode_976-1', 'phecode_976-3', 'phecode_978', 'phecode_978-1', 'phecode_978-2', 'phecode_978-3', 'phecode_979', 'phecode_979-1', 'phecode_979-2', 'phecode_979-3', 'phecode_979-4', 'phecode_979-7', 'phecode_980', 'phecode_981', 'phecode_982', 'phecode_983', 'phecode_984', 'phecode_985', 'phecode_986', 'phecode_987', 'phecode_988', 'phecode_989', 'phecode_990', 'phecode_991', 'phecode_992', 'phecode_993', 'phecode_994', 'phecode_997'])"
      ]
     },
     "execution_count": 17,
     "metadata": {},
     "output_type": "execute_result"
    }
   ],
   "source": [
    "data_dict.keys()"
   ]
  },
  {
   "cell_type": "code",
   "execution_count": 18,
   "metadata": {
    "tags": []
   },
   "outputs": [],
   "source": [
    "#endpoints"
   ]
  },
  {
   "cell_type": "code",
   "execution_count": 22,
   "metadata": {
    "tags": []
   },
   "outputs": [
    {
     "data": {
      "text/plain": [
       "array(['Both', 'Female', 'Male'], dtype=object)"
      ]
     },
     "execution_count": 22,
     "metadata": {},
     "output_type": "execute_result"
    }
   ],
   "source": [
    "endpoint_defs.sex.unique()"
   ]
  },
  {
   "cell_type": "code",
   "execution_count": 23,
   "metadata": {
    "tags": []
   },
   "outputs": [],
   "source": [
    "def get_eligable_eids(data_dict, endpoint):\n",
    "    data_temp = data_dict[endpoint]\n",
    "    eligibility = endpoint_defs.loc[endpoint][\"sex\"]\n",
    "\n",
    "    if eligibility == \"Both\": \n",
    "        eids_incl = data_temp.copy().query(f\"prev==0\").index.to_list()\n",
    "    else:\n",
    "        eids_incl = data_temp.copy().query(f\"prev==0&sex==@eligibility\").index.to_list()\n",
    "\n",
    "    return {\"endpoint\": endpoint, \n",
    "            \"n_eids\": len(eids_incl), \n",
    "            \"eid_list\": eids_incl}"
   ]
  },
  {
   "cell_type": "code",
   "execution_count": 24,
   "metadata": {
    "tags": []
   },
   "outputs": [
    {
     "data": {
      "application/vnd.jupyter.widget-view+json": {
       "model_id": "693f719bda9d48468965a66af43b3668",
       "version_major": 2,
       "version_minor": 0
      },
      "text/plain": [
       "  0%|          | 0/773 [00:00<?, ?it/s]"
      ]
     },
     "metadata": {},
     "output_type": "display_data"
    }
   ],
   "source": [
    "#long_endpoints_unique = data_outcomes['endpoint'].unique()\n",
    "#endpoints_in_long = [e for e in endpoints if e in long_endpoints_unique]\n",
    "\n",
    "d_list = [get_eligable_eids(data_dict, endpoint) for endpoint in tqdm(endpoints)] \n",
    "eid_df = pd.DataFrame.from_dict(d_list)"
   ]
  },
  {
   "cell_type": "code",
   "execution_count": 25,
   "metadata": {
    "tags": []
   },
   "outputs": [],
   "source": [
    "#eid_df.set_index(\"endpoint\")[\"eid_list\"].to_dict()"
   ]
  },
  {
   "cell_type": "code",
   "execution_count": 26,
   "metadata": {
    "tags": []
   },
   "outputs": [],
   "source": [
    "from datetime import date\n",
    "today = str(date.today()) if today is None else today"
   ]
  },
  {
   "cell_type": "code",
   "execution_count": 27,
   "metadata": {
    "tags": []
   },
   "outputs": [
    {
     "data": {
      "text/plain": [
       "'/sc-projects/sc-proj-ukb-cvd/results/projects/22_retina_phewas/data/eligable_eids_230905.feather'"
      ]
     },
     "execution_count": 27,
     "metadata": {},
     "output_type": "execute_result"
    }
   ],
   "source": [
    "f\"{output_path}/eligable_eids_{today}.feather\""
   ]
  },
  {
   "cell_type": "code",
   "execution_count": 28,
   "metadata": {
    "tags": []
   },
   "outputs": [
    {
     "data": {
      "text/plain": [
       "'/sc-projects/sc-proj-ukb-cvd/results/projects/22_retina_phewas/data/eligable_eids_230905.feather'"
      ]
     },
     "execution_count": 28,
     "metadata": {},
     "output_type": "execute_result"
    }
   ],
   "source": [
    "eid_df.to_feather(f\"{output_path}/eligable_eids_{today}.feather\") \n",
    "f\"{output_path}/eligable_eids_{today}.feather\""
   ]
  },
  {
   "cell_type": "code",
   "execution_count": 29,
   "metadata": {
    "tags": []
   },
   "outputs": [],
   "source": [
    "eid_df_long = eid_df[[\"endpoint\", \"eid_list\"]].explode(\"eid_list\").reset_index(drop=True)\n",
    "eid_df_long.columns = [\"endpoint\", \"eid\"]\n",
    "eid_df_long[\"endpoint\"] = eid_df_long[\"endpoint\"].astype(\"category\")\n",
    "eid_df_long[\"eid\"] = eid_df_long[\"eid\"].astype(\"category\")"
   ]
  },
  {
   "cell_type": "code",
   "execution_count": 30,
   "metadata": {
    "tags": []
   },
   "outputs": [],
   "source": [
    "eid_df_long.to_feather(f\"{output_path}/eligable_eids_long_{today}.feather\")"
   ]
  },
  {
   "cell_type": "code",
   "execution_count": null,
   "metadata": {},
   "outputs": [],
   "source": []
  }
 ],
 "metadata": {
  "kernelspec": {
   "display_name": "Python 3 (ipykernel)",
   "language": "python",
   "name": "python3"
  },
  "language_info": {
   "codemirror_mode": {
    "name": "ipython",
    "version": 3
   },
   "file_extension": ".py",
   "mimetype": "text/x-python",
   "name": "python",
   "nbconvert_exporter": "python",
   "pygments_lexer": "ipython3",
   "version": "3.9.7"
  },
  "toc-autonumbering": false
 },
 "nbformat": 4,
 "nbformat_minor": 4
}
