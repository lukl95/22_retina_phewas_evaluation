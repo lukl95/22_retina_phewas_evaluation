{
 "cells": [
  {
   "cell_type": "markdown",
   "metadata": {},
   "source": [
    "# Benchmarks"
   ]
  },
  {
   "cell_type": "markdown",
   "metadata": {},
   "source": [
    "## Initialize"
   ]
  },
  {
   "cell_type": "code",
   "execution_count": 1,
   "metadata": {
    "execution": {
     "iopub.execute_input": "2022-08-25T10:54:39.622405Z",
     "iopub.status.busy": "2022-08-25T10:54:39.622309Z",
     "iopub.status.idle": "2022-08-25T10:54:42.656794Z",
     "shell.execute_reply": "2022-08-25T10:54:42.656317Z",
     "shell.execute_reply.started": "2022-08-25T10:54:39.622376Z"
    },
    "tags": []
   },
   "outputs": [],
   "source": [
    "%load_ext autoreload\n",
    "%autoreload 2\n",
    "\n",
    "import os\n",
    "import math\n",
    "import pathlib\n",
    "import numpy as np\n",
    "import pandas as pd\n",
    "from tqdm.auto import tqdm\n",
    "from IPython.display import clear_output\n",
    "\n",
    "import warnings\n",
    "from lifelines.utils import CensoringType\n",
    "from lifelines.utils import concordance_index"
   ]
  },
  {
   "cell_type": "code",
   "execution_count": 2,
   "metadata": {
    "execution": {
     "iopub.execute_input": "2022-08-25T10:54:42.657639Z",
     "iopub.status.busy": "2022-08-25T10:54:42.657531Z",
     "iopub.status.idle": "2022-08-25T10:54:42.707994Z",
     "shell.execute_reply": "2022-08-25T10:54:42.707654Z",
     "shell.execute_reply.started": "2022-08-25T10:54:42.657625Z"
    },
    "tags": []
   },
   "outputs": [
    {
     "name": "stdout",
     "output_type": "stream",
     "text": [
      "/sc-projects/sc-proj-ukb-cvd\n"
     ]
    },
    {
     "data": {
      "text/plain": [
       "[0, 1, 2, 3, 4, 5, 6, 7, 8, 9, 10, 11, 12, 13, 14, 15, 16, 17, 18, 19, 20, 21]"
      ]
     },
     "execution_count": 2,
     "metadata": {},
     "output_type": "execute_result"
    }
   ],
   "source": [
    "node = !hostname\n",
    "if \"sc\" in node[0]:\n",
    "    base_path = \"/sc-projects/sc-proj-ukb-cvd\"\n",
    "else: \n",
    "    base_path = \"/data/analysis/ag-reils/ag-reils-shared/cardioRS\"\n",
    "print(base_path)\n",
    "\n",
    "project_label = \"22_retina_phewas\"\n",
    "project_path = f\"{base_path}/results/projects/{project_label}\"\n",
    "figure_path = f\"{project_path}/figures\"\n",
    "output_path = f\"{project_path}/data\"\n",
    "\n",
    "pathlib.Path(figure_path).mkdir(parents=True, exist_ok=True)\n",
    "pathlib.Path(output_path).mkdir(parents=True, exist_ok=True)\n",
    "\n",
    "experiment = '220812_test'\n",
    "experiment_path = f\"{output_path}/{experiment}\"\n",
    "pathlib.Path(experiment_path).mkdir(parents=True, exist_ok=True)\n",
    "\n",
    "\n",
    "name_dict = {\n",
    "    \"predictions_cropratio0.66\": \"ConvNextSmall(Retina)+MLP_cropratio0.66\",\n",
    "}\n",
    "\n",
    "partitions = [i for i in range(22)]\n",
    "partitions"
   ]
  },
  {
   "cell_type": "code",
   "execution_count": 3,
   "metadata": {
    "execution": {
     "iopub.execute_input": "2022-08-25T10:54:42.708822Z",
     "iopub.status.busy": "2022-08-25T10:54:42.708687Z",
     "iopub.status.idle": "2022-08-25T10:54:42.723542Z",
     "shell.execute_reply": "2022-08-25T10:54:42.723239Z",
     "shell.execute_reply.started": "2022-08-25T10:54:42.708796Z"
    },
    "tags": []
   },
   "outputs": [],
   "source": [
    "today = '220824'"
   ]
  },
  {
   "cell_type": "code",
   "execution_count": 4,
   "metadata": {
    "execution": {
     "iopub.execute_input": "2022-08-25T10:54:42.724389Z",
     "iopub.status.busy": "2022-08-25T10:54:42.724272Z",
     "iopub.status.idle": "2022-08-25T10:54:42.764339Z",
     "shell.execute_reply": "2022-08-25T10:54:42.763983Z",
     "shell.execute_reply.started": "2022-08-25T10:54:42.724374Z"
    },
    "tags": []
   },
   "outputs": [],
   "source": [
    "import pandas as pd\n",
    "endpoints = sorted([l.replace('_prevalent', '') for l in list(pd.read_csv('/sc-projects/sc-proj-ukb-cvd/results/projects/22_retinal_risk/data/220602/endpoints.csv').endpoint.values)])"
   ]
  },
  {
   "cell_type": "code",
   "execution_count": 5,
   "metadata": {
    "execution": {
     "iopub.execute_input": "2022-08-25T10:54:42.764981Z",
     "iopub.status.busy": "2022-08-25T10:54:42.764878Z",
     "iopub.status.idle": "2022-08-25T10:54:42.796165Z",
     "shell.execute_reply": "2022-08-25T10:54:42.795865Z",
     "shell.execute_reply.started": "2022-08-25T10:54:42.764967Z"
    },
    "tags": []
   },
   "outputs": [
    {
     "data": {
      "text/plain": [
       "'/sc-projects/sc-proj-ukb-cvd/results/projects/22_retina_phewas/data'"
      ]
     },
     "execution_count": 5,
     "metadata": {},
     "output_type": "execute_result"
    }
   ],
   "source": [
    "output_path"
   ]
  },
  {
   "cell_type": "code",
   "execution_count": 6,
   "metadata": {
    "execution": {
     "iopub.execute_input": "2022-08-25T10:54:42.796744Z",
     "iopub.status.busy": "2022-08-25T10:54:42.796639Z",
     "iopub.status.idle": "2022-08-25T10:54:42.957333Z",
     "shell.execute_reply": "2022-08-25T10:54:42.957027Z",
     "shell.execute_reply.started": "2022-08-25T10:54:42.796731Z"
    },
    "tags": []
   },
   "outputs": [
    {
     "data": {
      "text/html": [
       "<div>\n",
       "<style scoped>\n",
       "    .dataframe tbody tr th:only-of-type {\n",
       "        vertical-align: middle;\n",
       "    }\n",
       "\n",
       "    .dataframe tbody tr th {\n",
       "        vertical-align: top;\n",
       "    }\n",
       "\n",
       "    .dataframe thead th {\n",
       "        text-align: right;\n",
       "    }\n",
       "</style>\n",
       "<table border=\"1\" class=\"dataframe\">\n",
       "  <thead>\n",
       "    <tr style=\"text-align: right;\">\n",
       "      <th></th>\n",
       "      <th>phecode</th>\n",
       "      <th>phecode_string</th>\n",
       "      <th>phecode_category</th>\n",
       "      <th>sex</th>\n",
       "      <th>ICD10_only</th>\n",
       "      <th>phecode_top</th>\n",
       "      <th>leaf</th>\n",
       "    </tr>\n",
       "    <tr>\n",
       "      <th>endpoint</th>\n",
       "      <th></th>\n",
       "      <th></th>\n",
       "      <th></th>\n",
       "      <th></th>\n",
       "      <th></th>\n",
       "      <th></th>\n",
       "      <th></th>\n",
       "    </tr>\n",
       "  </thead>\n",
       "  <tbody>\n",
       "    <tr>\n",
       "      <th>OMOP_4306655</th>\n",
       "      <td>4306655</td>\n",
       "      <td>All-Cause Death</td>\n",
       "      <td>Death</td>\n",
       "      <td>Both</td>\n",
       "      <td>NaN</td>\n",
       "      <td>None</td>\n",
       "      <td>NaN</td>\n",
       "    </tr>\n",
       "    <tr>\n",
       "      <th>phecode_002</th>\n",
       "      <td>002</td>\n",
       "      <td>Staphylococcus</td>\n",
       "      <td>ID</td>\n",
       "      <td>Both</td>\n",
       "      <td>0.0</td>\n",
       "      <td>002</td>\n",
       "      <td>0.0</td>\n",
       "    </tr>\n",
       "    <tr>\n",
       "      <th>phecode_002-1</th>\n",
       "      <td>002.1</td>\n",
       "      <td>Staphylococcus aureus</td>\n",
       "      <td>ID</td>\n",
       "      <td>Both</td>\n",
       "      <td>0.0</td>\n",
       "      <td>002</td>\n",
       "      <td>1.0</td>\n",
       "    </tr>\n",
       "    <tr>\n",
       "      <th>phecode_003</th>\n",
       "      <td>003</td>\n",
       "      <td>Escherichia coli</td>\n",
       "      <td>ID</td>\n",
       "      <td>Both</td>\n",
       "      <td>0.0</td>\n",
       "      <td>003</td>\n",
       "      <td>1.0</td>\n",
       "    </tr>\n",
       "    <tr>\n",
       "      <th>phecode_004</th>\n",
       "      <td>004</td>\n",
       "      <td>Streptococcus</td>\n",
       "      <td>ID</td>\n",
       "      <td>Both</td>\n",
       "      <td>0.0</td>\n",
       "      <td>004</td>\n",
       "      <td>0.0</td>\n",
       "    </tr>\n",
       "  </tbody>\n",
       "</table>\n",
       "</div>"
      ],
      "text/plain": [
       "               phecode         phecode_string phecode_category   sex  \\\n",
       "endpoint                                                               \n",
       "OMOP_4306655   4306655        All-Cause Death            Death  Both   \n",
       "phecode_002        002         Staphylococcus               ID  Both   \n",
       "phecode_002-1    002.1  Staphylococcus aureus               ID  Both   \n",
       "phecode_003        003       Escherichia coli               ID  Both   \n",
       "phecode_004        004          Streptococcus               ID  Both   \n",
       "\n",
       "               ICD10_only phecode_top  leaf  \n",
       "endpoint                                     \n",
       "OMOP_4306655          NaN        None   NaN  \n",
       "phecode_002           0.0         002   0.0  \n",
       "phecode_002-1         0.0         002   1.0  \n",
       "phecode_003           0.0         003   1.0  \n",
       "phecode_004           0.0         004   0.0  "
      ]
     },
     "execution_count": 6,
     "metadata": {},
     "output_type": "execute_result"
    }
   ],
   "source": [
    "endpoint_defs = pd.read_feather(f\"{output_path}/phecode_defs_220306.feather\").query(\"endpoint==@endpoints\").sort_values(\"endpoint\").set_index(\"endpoint\")\n",
    "endpoint_defs.head()"
   ]
  },
  {
   "cell_type": "code",
   "execution_count": 7,
   "metadata": {
    "execution": {
     "iopub.execute_input": "2022-08-25T10:54:42.957990Z",
     "iopub.status.busy": "2022-08-25T10:54:42.957887Z",
     "iopub.status.idle": "2022-08-25T10:54:43.054422Z",
     "shell.execute_reply": "2022-08-25T10:54:43.053984Z",
     "shell.execute_reply.started": "2022-08-25T10:54:42.957977Z"
    },
    "tags": []
   },
   "outputs": [],
   "source": [
    "# data_covariates = pd.read_feather(\"/sc-projects/sc-proj-ukb-cvd/data/2_datasets_pre/211110_anewbeginning/baseline_covariates_220503.feather\")[[\"eid\", \"sex_f31_0_0\"]].set_index(\"eid\")\n",
    "# data_covariates.head()\n",
    "data_covariates = pd.read_feather(f\"{output_path}/data_covariates_full.feather\")[[\"eid\", \"sex\"]].set_index(\"eid\")"
   ]
  },
  {
   "cell_type": "code",
   "execution_count": 8,
   "metadata": {
    "execution": {
     "iopub.execute_input": "2022-08-25T10:54:43.055204Z",
     "iopub.status.busy": "2022-08-25T10:54:43.055080Z",
     "iopub.status.idle": "2022-08-25T10:55:12.927434Z",
     "shell.execute_reply": "2022-08-25T10:55:12.926780Z",
     "shell.execute_reply.started": "2022-08-25T10:54:43.055189Z"
    },
    "tags": []
   },
   "outputs": [
    {
     "data": {
      "text/html": [
       "<div>\n",
       "<style scoped>\n",
       "    .dataframe tbody tr th:only-of-type {\n",
       "        vertical-align: middle;\n",
       "    }\n",
       "\n",
       "    .dataframe tbody tr th {\n",
       "        vertical-align: top;\n",
       "    }\n",
       "\n",
       "    .dataframe thead th {\n",
       "        text-align: right;\n",
       "    }\n",
       "</style>\n",
       "<table border=\"1\" class=\"dataframe\">\n",
       "  <thead>\n",
       "    <tr style=\"text-align: right;\">\n",
       "      <th></th>\n",
       "      <th>endpoint</th>\n",
       "      <th>prev</th>\n",
       "      <th>event</th>\n",
       "      <th>time</th>\n",
       "    </tr>\n",
       "    <tr>\n",
       "      <th>eid</th>\n",
       "      <th></th>\n",
       "      <th></th>\n",
       "      <th></th>\n",
       "      <th></th>\n",
       "    </tr>\n",
       "  </thead>\n",
       "  <tbody>\n",
       "    <tr>\n",
       "      <th>1000018</th>\n",
       "      <td>OMOP_4306655</td>\n",
       "      <td>False</td>\n",
       "      <td>False</td>\n",
       "      <td>11.866089</td>\n",
       "    </tr>\n",
       "    <tr>\n",
       "      <th>1000020</th>\n",
       "      <td>OMOP_4306655</td>\n",
       "      <td>False</td>\n",
       "      <td>False</td>\n",
       "      <td>13.596446</td>\n",
       "    </tr>\n",
       "    <tr>\n",
       "      <th>1000037</th>\n",
       "      <td>OMOP_4306655</td>\n",
       "      <td>False</td>\n",
       "      <td>False</td>\n",
       "      <td>12.868163</td>\n",
       "    </tr>\n",
       "    <tr>\n",
       "      <th>1000043</th>\n",
       "      <td>OMOP_4306655</td>\n",
       "      <td>False</td>\n",
       "      <td>False</td>\n",
       "      <td>12.309629</td>\n",
       "    </tr>\n",
       "    <tr>\n",
       "      <th>1000051</th>\n",
       "      <td>OMOP_4306655</td>\n",
       "      <td>False</td>\n",
       "      <td>False</td>\n",
       "      <td>15.291210</td>\n",
       "    </tr>\n",
       "  </tbody>\n",
       "</table>\n",
       "</div>"
      ],
      "text/plain": [
       "             endpoint   prev  event       time\n",
       "eid                                           \n",
       "1000018  OMOP_4306655  False  False  11.866089\n",
       "1000020  OMOP_4306655  False  False  13.596446\n",
       "1000037  OMOP_4306655  False  False  12.868163\n",
       "1000043  OMOP_4306655  False  False  12.309629\n",
       "1000051  OMOP_4306655  False  False  15.291210"
      ]
     },
     "execution_count": 8,
     "metadata": {},
     "output_type": "execute_result"
    }
   ],
   "source": [
    "data_outcomes = pd.read_feather(f\"{output_path}/baseline_outcomes_long_220627.feather\").set_index(\"eid\")\n",
    "data_outcomes.head()"
   ]
  },
  {
   "cell_type": "code",
   "execution_count": 9,
   "metadata": {
    "execution": {
     "iopub.execute_input": "2022-08-25T10:55:12.928675Z",
     "iopub.status.busy": "2022-08-25T10:55:12.928550Z",
     "iopub.status.idle": "2022-08-25T10:57:51.332341Z",
     "shell.execute_reply": "2022-08-25T10:57:51.331585Z",
     "shell.execute_reply.started": "2022-08-25T10:55:12.928656Z"
    },
    "tags": []
   },
   "outputs": [],
   "source": [
    "data_all = data_outcomes.merge(data_covariates, left_index=True, right_index=True, how=\"left\").reset_index(drop=False).set_index(\"endpoint\")"
   ]
  },
  {
   "cell_type": "code",
   "execution_count": 10,
   "metadata": {
    "execution": {
     "iopub.execute_input": "2022-08-25T10:57:51.333543Z",
     "iopub.status.busy": "2022-08-25T10:57:51.333420Z",
     "iopub.status.idle": "2022-08-25T10:57:52.188795Z",
     "shell.execute_reply": "2022-08-25T10:57:52.188230Z",
     "shell.execute_reply.started": "2022-08-25T10:57:51.333528Z"
    },
    "tags": []
   },
   "outputs": [
    {
     "data": {
      "text/html": [
       "<div>\n",
       "<style scoped>\n",
       "    .dataframe tbody tr th:only-of-type {\n",
       "        vertical-align: middle;\n",
       "    }\n",
       "\n",
       "    .dataframe tbody tr th {\n",
       "        vertical-align: top;\n",
       "    }\n",
       "\n",
       "    .dataframe thead th {\n",
       "        text-align: right;\n",
       "    }\n",
       "</style>\n",
       "<table border=\"1\" class=\"dataframe\">\n",
       "  <thead>\n",
       "    <tr style=\"text-align: right;\">\n",
       "      <th></th>\n",
       "      <th>eid</th>\n",
       "      <th>prev</th>\n",
       "      <th>event</th>\n",
       "      <th>time</th>\n",
       "      <th>sex</th>\n",
       "    </tr>\n",
       "    <tr>\n",
       "      <th>endpoint</th>\n",
       "      <th></th>\n",
       "      <th></th>\n",
       "      <th></th>\n",
       "      <th></th>\n",
       "      <th></th>\n",
       "    </tr>\n",
       "  </thead>\n",
       "  <tbody>\n",
       "    <tr>\n",
       "      <th>OMOP_4306655</th>\n",
       "      <td>1000018</td>\n",
       "      <td>False</td>\n",
       "      <td>False</td>\n",
       "      <td>11.866089</td>\n",
       "      <td>Female</td>\n",
       "    </tr>\n",
       "    <tr>\n",
       "      <th>phecode_001</th>\n",
       "      <td>1000018</td>\n",
       "      <td>False</td>\n",
       "      <td>False</td>\n",
       "      <td>11.866089</td>\n",
       "      <td>Female</td>\n",
       "    </tr>\n",
       "    <tr>\n",
       "      <th>phecode_002</th>\n",
       "      <td>1000018</td>\n",
       "      <td>False</td>\n",
       "      <td>False</td>\n",
       "      <td>11.866089</td>\n",
       "      <td>Female</td>\n",
       "    </tr>\n",
       "    <tr>\n",
       "      <th>phecode_002-1</th>\n",
       "      <td>1000018</td>\n",
       "      <td>False</td>\n",
       "      <td>False</td>\n",
       "      <td>11.866089</td>\n",
       "      <td>Female</td>\n",
       "    </tr>\n",
       "    <tr>\n",
       "      <th>phecode_003</th>\n",
       "      <td>1000018</td>\n",
       "      <td>False</td>\n",
       "      <td>False</td>\n",
       "      <td>11.866089</td>\n",
       "      <td>Female</td>\n",
       "    </tr>\n",
       "  </tbody>\n",
       "</table>\n",
       "</div>"
      ],
      "text/plain": [
       "                   eid   prev  event       time     sex\n",
       "endpoint                                               \n",
       "OMOP_4306655   1000018  False  False  11.866089  Female\n",
       "phecode_001    1000018  False  False  11.866089  Female\n",
       "phecode_002    1000018  False  False  11.866089  Female\n",
       "phecode_002-1  1000018  False  False  11.866089  Female\n",
       "phecode_003    1000018  False  False  11.866089  Female"
      ]
     },
     "execution_count": 10,
     "metadata": {},
     "output_type": "execute_result"
    }
   ],
   "source": [
    "data_all.head()"
   ]
  },
  {
   "cell_type": "code",
   "execution_count": 11,
   "metadata": {
    "execution": {
     "iopub.execute_input": "2022-08-25T10:57:52.190743Z",
     "iopub.status.busy": "2022-08-25T10:57:52.190636Z",
     "iopub.status.idle": "2022-08-25T11:00:05.557688Z",
     "shell.execute_reply": "2022-08-25T11:00:05.556802Z",
     "shell.execute_reply.started": "2022-08-25T10:57:52.190730Z"
    },
    "tags": []
   },
   "outputs": [],
   "source": [
    "data_dict = {e: df.reset_index(drop=True).set_index(\"eid\") for e, df in data_all.groupby('endpoint')}\n",
    "#data_dict.keys()"
   ]
  },
  {
   "cell_type": "code",
   "execution_count": 12,
   "metadata": {
    "execution": {
     "iopub.execute_input": "2022-08-25T11:00:05.558821Z",
     "iopub.status.busy": "2022-08-25T11:00:05.558641Z",
     "iopub.status.idle": "2022-08-25T11:00:06.427495Z",
     "shell.execute_reply": "2022-08-25T11:00:06.426781Z",
     "shell.execute_reply.started": "2022-08-25T11:00:05.558806Z"
    },
    "tags": []
   },
   "outputs": [],
   "source": [
    "#endpoints"
   ]
  },
  {
   "cell_type": "code",
   "execution_count": 13,
   "metadata": {
    "execution": {
     "iopub.execute_input": "2022-08-25T11:00:06.428660Z",
     "iopub.status.busy": "2022-08-25T11:00:06.428520Z",
     "iopub.status.idle": "2022-08-25T11:00:06.457283Z",
     "shell.execute_reply": "2022-08-25T11:00:06.456756Z",
     "shell.execute_reply.started": "2022-08-25T11:00:06.428642Z"
    },
    "tags": []
   },
   "outputs": [
    {
     "data": {
      "text/plain": [
       "array(['Both', 'Female', 'Male'], dtype=object)"
      ]
     },
     "execution_count": 13,
     "metadata": {},
     "output_type": "execute_result"
    }
   ],
   "source": [
    "endpoint_defs.sex.unique()"
   ]
  },
  {
   "cell_type": "code",
   "execution_count": 14,
   "metadata": {
    "execution": {
     "iopub.execute_input": "2022-08-25T11:00:06.457967Z",
     "iopub.status.busy": "2022-08-25T11:00:06.457852Z",
     "iopub.status.idle": "2022-08-25T11:00:06.496626Z",
     "shell.execute_reply": "2022-08-25T11:00:06.496199Z",
     "shell.execute_reply.started": "2022-08-25T11:00:06.457952Z"
    },
    "tags": []
   },
   "outputs": [],
   "source": [
    "def get_eligable_eids(data_dict, endpoint):\n",
    "\n",
    "    data_temp = data_dict[endpoint]\n",
    "    eligibility = endpoint_defs.loc[endpoint][\"sex\"]\n",
    "    \n",
    "    if eligibility == \"Both\": \n",
    "        eids_incl = data_temp.copy().query(f\"prev==0\").index.to_list()\n",
    "    else:\n",
    "        eids_incl = data_temp.copy().query(f\"prev==0&sex==@eligibility\").index.to_list()\n",
    "        \n",
    "    return {\"endpoint\": endpoint, \n",
    "            \"n_eids\": len(eids_incl), \n",
    "            \"eid_list\": eids_incl}"
   ]
  },
  {
   "cell_type": "code",
   "execution_count": 15,
   "metadata": {
    "execution": {
     "iopub.execute_input": "2022-08-25T11:00:06.497256Z",
     "iopub.status.busy": "2022-08-25T11:00:06.497157Z",
     "iopub.status.idle": "2022-08-25T11:00:40.485275Z",
     "shell.execute_reply": "2022-08-25T11:00:40.484604Z",
     "shell.execute_reply.started": "2022-08-25T11:00:06.497243Z"
    },
    "tags": []
   },
   "outputs": [
    {
     "data": {
      "application/vnd.jupyter.widget-view+json": {
       "model_id": "01a79cc85fd44481882af54267b2901b",
       "version_major": 2,
       "version_minor": 0
      },
      "text/plain": [
       "  0%|          | 0/1171 [00:00<?, ?it/s]"
      ]
     },
     "metadata": {},
     "output_type": "display_data"
    }
   ],
   "source": [
    "#long_endpoints_unique = data_outcomes['endpoint'].unique()\n",
    "#endpoints_in_long = [e for e in endpoints if e in long_endpoints_unique]\n",
    "\n",
    "d_list = [get_eligable_eids(data_dict, endpoint) for endpoint in tqdm(endpoints)] \n",
    "eid_df = pd.DataFrame.from_dict(d_list)"
   ]
  },
  {
   "cell_type": "code",
   "execution_count": 16,
   "metadata": {
    "execution": {
     "iopub.execute_input": "2022-08-25T11:00:40.486786Z",
     "iopub.status.busy": "2022-08-25T11:00:40.486626Z",
     "iopub.status.idle": "2022-08-25T11:00:40.509570Z",
     "shell.execute_reply": "2022-08-25T11:00:40.508899Z",
     "shell.execute_reply.started": "2022-08-25T11:00:40.486761Z"
    }
   },
   "outputs": [],
   "source": [
    "#eid_df.set_index(\"endpoint\")[\"eid_list\"].to_dict()"
   ]
  },
  {
   "cell_type": "code",
   "execution_count": 17,
   "metadata": {
    "execution": {
     "iopub.execute_input": "2022-08-25T11:00:40.510706Z",
     "iopub.status.busy": "2022-08-25T11:00:40.510565Z",
     "iopub.status.idle": "2022-08-25T11:00:40.527879Z",
     "shell.execute_reply": "2022-08-25T11:00:40.527408Z",
     "shell.execute_reply.started": "2022-08-25T11:00:40.510688Z"
    },
    "tags": []
   },
   "outputs": [],
   "source": [
    "from datetime import date\n",
    "today = str(date.today()) if today is None else today"
   ]
  },
  {
   "cell_type": "code",
   "execution_count": 18,
   "metadata": {
    "execution": {
     "iopub.execute_input": "2022-08-25T11:00:40.529029Z",
     "iopub.status.busy": "2022-08-25T11:00:40.528786Z",
     "iopub.status.idle": "2022-08-25T11:00:40.572005Z",
     "shell.execute_reply": "2022-08-25T11:00:40.571498Z",
     "shell.execute_reply.started": "2022-08-25T11:00:40.529000Z"
    }
   },
   "outputs": [
    {
     "data": {
      "text/plain": [
       "'/sc-projects/sc-proj-ukb-cvd/results/projects/22_retina_phewas/data/eligable_eids_220824.feather'"
      ]
     },
     "execution_count": 18,
     "metadata": {},
     "output_type": "execute_result"
    }
   ],
   "source": [
    "f\"{output_path}/eligable_eids_{today}.feather\""
   ]
  },
  {
   "cell_type": "code",
   "execution_count": 19,
   "metadata": {
    "execution": {
     "iopub.execute_input": "2022-08-25T11:00:40.573142Z",
     "iopub.status.busy": "2022-08-25T11:00:40.572839Z",
     "iopub.status.idle": "2022-08-25T11:01:23.559979Z",
     "shell.execute_reply": "2022-08-25T11:01:23.559435Z",
     "shell.execute_reply.started": "2022-08-25T11:00:40.573119Z"
    },
    "tags": []
   },
   "outputs": [
    {
     "data": {
      "text/plain": [
       "'/sc-projects/sc-proj-ukb-cvd/results/projects/22_retina_phewas/data/eligable_eids_220824.feather'"
      ]
     },
     "execution_count": 19,
     "metadata": {},
     "output_type": "execute_result"
    }
   ],
   "source": [
    "eid_df.to_feather(f\"{output_path}/eligable_eids_{today}.feather\") \n",
    "f\"{output_path}/eligable_eids_{today}.feather\""
   ]
  },
  {
   "cell_type": "code",
   "execution_count": 20,
   "metadata": {
    "execution": {
     "iopub.execute_input": "2022-08-25T11:01:23.561292Z",
     "iopub.status.busy": "2022-08-25T11:01:23.561153Z",
     "iopub.status.idle": "2022-08-25T11:04:00.257108Z",
     "shell.execute_reply": "2022-08-25T11:04:00.256378Z",
     "shell.execute_reply.started": "2022-08-25T11:01:23.561267Z"
    },
    "tags": []
   },
   "outputs": [],
   "source": [
    "eid_df_long = eid_df[[\"endpoint\", \"eid_list\"]].explode(\"eid_list\").reset_index(drop=True)\n",
    "eid_df_long.columns = [\"endpoint\", \"eid\"]\n",
    "eid_df_long[\"endpoint\"] = eid_df_long[\"endpoint\"].astype(\"category\")\n",
    "eid_df_long[\"eid\"] = eid_df_long[\"eid\"].astype(\"category\")"
   ]
  },
  {
   "cell_type": "code",
   "execution_count": 21,
   "metadata": {
    "execution": {
     "iopub.execute_input": "2022-08-25T11:04:00.258282Z",
     "iopub.status.busy": "2022-08-25T11:04:00.258075Z",
     "iopub.status.idle": "2022-08-25T11:04:16.017414Z",
     "shell.execute_reply": "2022-08-25T11:04:16.016706Z",
     "shell.execute_reply.started": "2022-08-25T11:04:00.258264Z"
    },
    "tags": []
   },
   "outputs": [],
   "source": [
    "eid_df_long.to_feather(f\"{output_path}/eligable_eids_long_{today}.feather\")"
   ]
  },
  {
   "cell_type": "code",
   "execution_count": null,
   "metadata": {},
   "outputs": [],
   "source": []
  }
 ],
 "metadata": {
  "kernelspec": {
   "display_name": "retrisk",
   "language": "python",
   "name": "retrisk"
  },
  "language_info": {
   "codemirror_mode": {
    "name": "ipython",
    "version": 3
   },
   "file_extension": ".py",
   "mimetype": "text/x-python",
   "name": "python",
   "nbconvert_exporter": "python",
   "pygments_lexer": "ipython3",
   "version": "3.9.7"
  },
  "toc-autonumbering": false
 },
 "nbformat": 4,
 "nbformat_minor": 4
}
