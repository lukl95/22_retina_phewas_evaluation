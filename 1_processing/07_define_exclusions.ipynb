{
 "cells": [
  {
   "cell_type": "markdown",
   "metadata": {},
   "source": [
    "# Benchmarks"
   ]
  },
  {
   "cell_type": "markdown",
   "metadata": {},
   "source": [
    "## Initialize"
   ]
  },
  {
   "cell_type": "code",
   "execution_count": 1,
   "metadata": {
    "tags": []
   },
   "outputs": [],
   "source": [
    "%load_ext autoreload\n",
    "%autoreload 2\n",
    "\n",
    "import os\n",
    "import math\n",
    "import pathlib\n",
    "import numpy as np\n",
    "import pandas as pd\n",
    "from tqdm.auto import tqdm\n",
    "from IPython.display import clear_output\n",
    "\n",
    "import warnings\n",
    "from lifelines.utils import CensoringType\n",
    "from lifelines.utils import concordance_index"
   ]
  },
  {
   "cell_type": "code",
   "execution_count": 2,
   "metadata": {
    "tags": []
   },
   "outputs": [
    {
     "name": "stdout",
     "output_type": "stream",
     "text": [
      "/sc-projects/sc-proj-ukb-cvd\n"
     ]
    }
   ],
   "source": [
    "node = !hostname\n",
    "if \"sc\" in node[0]:\n",
    "    base_path = \"/sc-projects/sc-proj-ukb-cvd\"\n",
    "else: \n",
    "    base_path = \"/data/analysis/ag-reils/ag-reils-shared/cardioRS\"\n",
    "print(base_path)\n",
    "\n",
    "project_label = \"22_retina_phewas\"\n",
    "project_path = f\"{base_path}/results/projects/{project_label}\"\n",
    "figure_path = f\"{project_path}/figures\"\n",
    "output_path = f\"{project_path}/data\"\n",
    "\n",
    "pathlib.Path(figure_path).mkdir(parents=True, exist_ok=True)\n",
    "pathlib.Path(output_path).mkdir(parents=True, exist_ok=True)\n",
    "\n",
    "##### BEGIN ADAPT #####\n",
    "# second best model\n",
    "# wandb_name = 'aug++_convnext_s_mlp'\n",
    "# wandb_id = '8ngm6apd'\n",
    "# best model\n",
    "wandb_name = 'aug++_convnext_s_mlp+'\n",
    "wandb_id = '3p3smraz'\n",
    "partitions = [0] # [i for i in range(22)]\n",
    "##### END   ADAPT #####\n",
    "\n",
    "experiment = wandb_id\n",
    "experiment_path = f\"{output_path}/{experiment}\"\n",
    "pathlib.Path(experiment_path).mkdir(parents=True, exist_ok=True)"
   ]
  },
  {
   "cell_type": "code",
   "execution_count": 3,
   "metadata": {
    "tags": []
   },
   "outputs": [],
   "source": [
    "import pandas as pd\n",
    "endpoints = sorted([l.replace('_prevalent', '') for l in list(pd.read_csv('/sc-projects/sc-proj-ukb-cvd/results/projects/22_medical_records/data/220413/frequent_endpoints.csv').endpoint.values)])"
   ]
  },
  {
   "cell_type": "code",
   "execution_count": 4,
   "metadata": {
    "tags": []
   },
   "outputs": [
    {
     "data": {
      "text/html": [
       "<div>\n",
       "<style scoped>\n",
       "    .dataframe tbody tr th:only-of-type {\n",
       "        vertical-align: middle;\n",
       "    }\n",
       "\n",
       "    .dataframe tbody tr th {\n",
       "        vertical-align: top;\n",
       "    }\n",
       "\n",
       "    .dataframe thead th {\n",
       "        text-align: right;\n",
       "    }\n",
       "</style>\n",
       "<table border=\"1\" class=\"dataframe\">\n",
       "  <thead>\n",
       "    <tr style=\"text-align: right;\">\n",
       "      <th></th>\n",
       "      <th>phecode</th>\n",
       "      <th>phecode_string</th>\n",
       "      <th>phecode_category</th>\n",
       "      <th>sex</th>\n",
       "      <th>ICD10_only</th>\n",
       "      <th>phecode_top</th>\n",
       "      <th>leaf</th>\n",
       "    </tr>\n",
       "    <tr>\n",
       "      <th>endpoint</th>\n",
       "      <th></th>\n",
       "      <th></th>\n",
       "      <th></th>\n",
       "      <th></th>\n",
       "      <th></th>\n",
       "      <th></th>\n",
       "      <th></th>\n",
       "    </tr>\n",
       "  </thead>\n",
       "  <tbody>\n",
       "    <tr>\n",
       "      <th>OMOP_4306655</th>\n",
       "      <td>4306655</td>\n",
       "      <td>All-Cause Death</td>\n",
       "      <td>Death</td>\n",
       "      <td>Both</td>\n",
       "      <td>NaN</td>\n",
       "      <td>None</td>\n",
       "      <td>NaN</td>\n",
       "    </tr>\n",
       "    <tr>\n",
       "      <th>phecode_052</th>\n",
       "      <td>052</td>\n",
       "      <td>Herpesvirus</td>\n",
       "      <td>ID</td>\n",
       "      <td>Both</td>\n",
       "      <td>0.0</td>\n",
       "      <td>052</td>\n",
       "      <td>0.0</td>\n",
       "    </tr>\n",
       "    <tr>\n",
       "      <th>phecode_052-1</th>\n",
       "      <td>052.1</td>\n",
       "      <td>Herpes simplex</td>\n",
       "      <td>ID</td>\n",
       "      <td>Both</td>\n",
       "      <td>0.0</td>\n",
       "      <td>052</td>\n",
       "      <td>1.0</td>\n",
       "    </tr>\n",
       "    <tr>\n",
       "      <th>phecode_052-3</th>\n",
       "      <td>052.3</td>\n",
       "      <td>Varicella zoster virus</td>\n",
       "      <td>ID</td>\n",
       "      <td>Both</td>\n",
       "      <td>0.0</td>\n",
       "      <td>052</td>\n",
       "      <td>0.0</td>\n",
       "    </tr>\n",
       "    <tr>\n",
       "      <th>phecode_052-32</th>\n",
       "      <td>052.32</td>\n",
       "      <td>Herpes zoster</td>\n",
       "      <td>ID</td>\n",
       "      <td>Both</td>\n",
       "      <td>0.0</td>\n",
       "      <td>052</td>\n",
       "      <td>1.0</td>\n",
       "    </tr>\n",
       "  </tbody>\n",
       "</table>\n",
       "</div>"
      ],
      "text/plain": [
       "                phecode          phecode_string phecode_category   sex  \\\n",
       "endpoint                                                                 \n",
       "OMOP_4306655    4306655         All-Cause Death            Death  Both   \n",
       "phecode_052         052             Herpesvirus               ID  Both   \n",
       "phecode_052-1     052.1          Herpes simplex               ID  Both   \n",
       "phecode_052-3     052.3  Varicella zoster virus               ID  Both   \n",
       "phecode_052-32   052.32           Herpes zoster               ID  Both   \n",
       "\n",
       "                ICD10_only phecode_top  leaf  \n",
       "endpoint                                      \n",
       "OMOP_4306655           NaN        None   NaN  \n",
       "phecode_052            0.0         052   0.0  \n",
       "phecode_052-1          0.0         052   1.0  \n",
       "phecode_052-3          0.0         052   0.0  \n",
       "phecode_052-32         0.0         052   1.0  "
      ]
     },
     "execution_count": 4,
     "metadata": {},
     "output_type": "execute_result"
    }
   ],
   "source": [
    "endpoint_defs = pd.read_feather(f\"{output_path}/phecode_defs_220306.feather\").query(\"endpoint==@endpoints\").sort_values(\"endpoint\").set_index(\"endpoint\")\n",
    "endpoint_defs.head()"
   ]
  },
  {
   "cell_type": "code",
   "execution_count": 5,
   "metadata": {
    "tags": []
   },
   "outputs": [
    {
     "data": {
      "text/html": [
       "<div>\n",
       "<style scoped>\n",
       "    .dataframe tbody tr th:only-of-type {\n",
       "        vertical-align: middle;\n",
       "    }\n",
       "\n",
       "    .dataframe tbody tr th {\n",
       "        vertical-align: top;\n",
       "    }\n",
       "\n",
       "    .dataframe thead th {\n",
       "        text-align: right;\n",
       "    }\n",
       "</style>\n",
       "<table border=\"1\" class=\"dataframe\">\n",
       "  <thead>\n",
       "    <tr style=\"text-align: right;\">\n",
       "      <th></th>\n",
       "      <th>sex_f31_0_0</th>\n",
       "    </tr>\n",
       "    <tr>\n",
       "      <th>eid</th>\n",
       "      <th></th>\n",
       "    </tr>\n",
       "  </thead>\n",
       "  <tbody>\n",
       "    <tr>\n",
       "      <th>1000018</th>\n",
       "      <td>Female</td>\n",
       "    </tr>\n",
       "    <tr>\n",
       "      <th>1000020</th>\n",
       "      <td>Male</td>\n",
       "    </tr>\n",
       "    <tr>\n",
       "      <th>1000037</th>\n",
       "      <td>Female</td>\n",
       "    </tr>\n",
       "    <tr>\n",
       "      <th>1000043</th>\n",
       "      <td>Male</td>\n",
       "    </tr>\n",
       "    <tr>\n",
       "      <th>1000051</th>\n",
       "      <td>Female</td>\n",
       "    </tr>\n",
       "  </tbody>\n",
       "</table>\n",
       "</div>"
      ],
      "text/plain": [
       "        sex_f31_0_0\n",
       "eid                \n",
       "1000018      Female\n",
       "1000020        Male\n",
       "1000037      Female\n",
       "1000043        Male\n",
       "1000051      Female"
      ]
     },
     "execution_count": 5,
     "metadata": {},
     "output_type": "execute_result"
    }
   ],
   "source": [
    "data_covariates = pd.read_feather(\"/sc-projects/sc-proj-ukb-cvd/data/2_datasets_pre/211110_anewbeginning/baseline_covariates_211209.feather\")[[\"eid\", \"sex_f31_0_0\"]].set_index(\"eid\")\n",
    "data_covariates.head()"
   ]
  },
  {
   "cell_type": "code",
   "execution_count": null,
   "metadata": {
    "tags": []
   },
   "outputs": [
    {
     "data": {
      "text/html": [
       "<div>\n",
       "<style scoped>\n",
       "    .dataframe tbody tr th:only-of-type {\n",
       "        vertical-align: middle;\n",
       "    }\n",
       "\n",
       "    .dataframe tbody tr th {\n",
       "        vertical-align: top;\n",
       "    }\n",
       "\n",
       "    .dataframe thead th {\n",
       "        text-align: right;\n",
       "    }\n",
       "</style>\n",
       "<table border=\"1\" class=\"dataframe\">\n",
       "  <thead>\n",
       "    <tr style=\"text-align: right;\">\n",
       "      <th></th>\n",
       "      <th>endpoint</th>\n",
       "      <th>prev</th>\n",
       "      <th>event</th>\n",
       "      <th>time</th>\n",
       "    </tr>\n",
       "    <tr>\n",
       "      <th>eid</th>\n",
       "      <th></th>\n",
       "      <th></th>\n",
       "      <th></th>\n",
       "      <th></th>\n",
       "    </tr>\n",
       "  </thead>\n",
       "  <tbody>\n",
       "    <tr>\n",
       "      <th>1000018</th>\n",
       "      <td>OMOP_4306655</td>\n",
       "      <td>False</td>\n",
       "      <td>False</td>\n",
       "      <td>11.866089</td>\n",
       "    </tr>\n",
       "    <tr>\n",
       "      <th>1000020</th>\n",
       "      <td>OMOP_4306655</td>\n",
       "      <td>False</td>\n",
       "      <td>False</td>\n",
       "      <td>13.596446</td>\n",
       "    </tr>\n",
       "    <tr>\n",
       "      <th>1000037</th>\n",
       "      <td>OMOP_4306655</td>\n",
       "      <td>False</td>\n",
       "      <td>False</td>\n",
       "      <td>12.868163</td>\n",
       "    </tr>\n",
       "    <tr>\n",
       "      <th>1000043</th>\n",
       "      <td>OMOP_4306655</td>\n",
       "      <td>False</td>\n",
       "      <td>False</td>\n",
       "      <td>12.309629</td>\n",
       "    </tr>\n",
       "    <tr>\n",
       "      <th>1000051</th>\n",
       "      <td>OMOP_4306655</td>\n",
       "      <td>False</td>\n",
       "      <td>False</td>\n",
       "      <td>15.291210</td>\n",
       "    </tr>\n",
       "  </tbody>\n",
       "</table>\n",
       "</div>"
      ],
      "text/plain": [
       "             endpoint   prev  event       time\n",
       "eid                                           \n",
       "1000018  OMOP_4306655  False  False  11.866089\n",
       "1000020  OMOP_4306655  False  False  13.596446\n",
       "1000037  OMOP_4306655  False  False  12.868163\n",
       "1000043  OMOP_4306655  False  False  12.309629\n",
       "1000051  OMOP_4306655  False  False  15.291210"
      ]
     },
     "execution_count": 6,
     "metadata": {},
     "output_type": "execute_result"
    }
   ],
   "source": [
    "# TODO: baseline_outcomes_long_220412 or baseline_outcomes_wide_220301 or baseline_outcomes_wide_220306.feather?\n",
    "data_outcomes = pd.read_feather(f\"{output_path}/baseline_outcomes_long_220412.feather\").set_index(\"eid\")\n",
    "data_outcomes.head()"
   ]
  },
  {
   "cell_type": "code",
   "execution_count": 7,
   "metadata": {
    "tags": []
   },
   "outputs": [],
   "source": [
    "data_all = data_outcomes.merge(data_covariates, left_index=True, right_index=True, how=\"left\").reset_index(drop=False).set_index(\"endpoint\")"
   ]
  },
  {
   "cell_type": "code",
   "execution_count": 8,
   "metadata": {
    "tags": []
   },
   "outputs": [
    {
     "data": {
      "text/html": [
       "<div>\n",
       "<style scoped>\n",
       "    .dataframe tbody tr th:only-of-type {\n",
       "        vertical-align: middle;\n",
       "    }\n",
       "\n",
       "    .dataframe tbody tr th {\n",
       "        vertical-align: top;\n",
       "    }\n",
       "\n",
       "    .dataframe thead th {\n",
       "        text-align: right;\n",
       "    }\n",
       "</style>\n",
       "<table border=\"1\" class=\"dataframe\">\n",
       "  <thead>\n",
       "    <tr style=\"text-align: right;\">\n",
       "      <th></th>\n",
       "      <th>eid</th>\n",
       "      <th>prev</th>\n",
       "      <th>event</th>\n",
       "      <th>time</th>\n",
       "      <th>sex_f31_0_0</th>\n",
       "    </tr>\n",
       "    <tr>\n",
       "      <th>endpoint</th>\n",
       "      <th></th>\n",
       "      <th></th>\n",
       "      <th></th>\n",
       "      <th></th>\n",
       "      <th></th>\n",
       "    </tr>\n",
       "  </thead>\n",
       "  <tbody>\n",
       "    <tr>\n",
       "      <th>OMOP_4306655</th>\n",
       "      <td>1000018</td>\n",
       "      <td>False</td>\n",
       "      <td>False</td>\n",
       "      <td>11.866089</td>\n",
       "      <td>Female</td>\n",
       "    </tr>\n",
       "    <tr>\n",
       "      <th>phecode_001</th>\n",
       "      <td>1000018</td>\n",
       "      <td>False</td>\n",
       "      <td>False</td>\n",
       "      <td>11.866089</td>\n",
       "      <td>Female</td>\n",
       "    </tr>\n",
       "    <tr>\n",
       "      <th>phecode_002</th>\n",
       "      <td>1000018</td>\n",
       "      <td>False</td>\n",
       "      <td>False</td>\n",
       "      <td>11.866089</td>\n",
       "      <td>Female</td>\n",
       "    </tr>\n",
       "    <tr>\n",
       "      <th>phecode_002-1</th>\n",
       "      <td>1000018</td>\n",
       "      <td>False</td>\n",
       "      <td>False</td>\n",
       "      <td>11.866089</td>\n",
       "      <td>Female</td>\n",
       "    </tr>\n",
       "    <tr>\n",
       "      <th>phecode_003</th>\n",
       "      <td>1000018</td>\n",
       "      <td>False</td>\n",
       "      <td>False</td>\n",
       "      <td>11.866089</td>\n",
       "      <td>Female</td>\n",
       "    </tr>\n",
       "  </tbody>\n",
       "</table>\n",
       "</div>"
      ],
      "text/plain": [
       "                   eid   prev  event       time sex_f31_0_0\n",
       "endpoint                                                   \n",
       "OMOP_4306655   1000018  False  False  11.866089      Female\n",
       "phecode_001    1000018  False  False  11.866089      Female\n",
       "phecode_002    1000018  False  False  11.866089      Female\n",
       "phecode_002-1  1000018  False  False  11.866089      Female\n",
       "phecode_003    1000018  False  False  11.866089      Female"
      ]
     },
     "execution_count": 8,
     "metadata": {},
     "output_type": "execute_result"
    }
   ],
   "source": [
    "data_all.head()"
   ]
  },
  {
   "cell_type": "code",
   "execution_count": 9,
   "metadata": {
    "tags": []
   },
   "outputs": [],
   "source": [
    "data_dict = {e: df.reset_index(drop=True).set_index(\"eid\") for e, df in data_all.groupby('endpoint')}\n",
    "#data_dict.keys()"
   ]
  },
  {
   "cell_type": "code",
   "execution_count": 10,
   "metadata": {
    "tags": []
   },
   "outputs": [],
   "source": [
    "#endpoints"
   ]
  },
  {
   "cell_type": "code",
   "execution_count": 11,
   "metadata": {
    "tags": []
   },
   "outputs": [
    {
     "data": {
      "text/plain": [
       "array(['Both', 'Female', 'Male'], dtype=object)"
      ]
     },
     "execution_count": 11,
     "metadata": {},
     "output_type": "execute_result"
    }
   ],
   "source": [
    "endpoint_defs.sex.unique()"
   ]
  },
  {
   "cell_type": "code",
   "execution_count": 12,
   "metadata": {
    "tags": []
   },
   "outputs": [],
   "source": [
    "def get_eligable_eids(data_dict, endpoint):\n",
    "\n",
    "    data_temp = data_dict[endpoint]\n",
    "    eligibility = endpoint_defs.loc[endpoint][\"sex\"]\n",
    "    \n",
    "    if eligibility == \"Both\": \n",
    "        eids_incl = data_temp.copy().query(f\"prev==0\").index.to_list()\n",
    "    else:\n",
    "        eids_incl = data_temp.copy().query(f\"prev==0&sex_f31_0_0==@eligibility\").index.to_list()\n",
    "        \n",
    "    return {\"endpoint\": endpoint, \n",
    "            \"n_eids\": len(eids_incl), \n",
    "            \"eid_list\": eids_incl}"
   ]
  },
  {
   "cell_type": "code",
   "execution_count": 13,
   "metadata": {
    "tags": []
   },
   "outputs": [
    {
     "data": {
      "application/vnd.jupyter.widget-view+json": {
       "model_id": "d0df626622844f41889afd1c1cb57600",
       "version_major": 2,
       "version_minor": 0
      },
      "text/plain": [
       "  0%|          | 0/498 [00:00<?, ?it/s]"
      ]
     },
     "metadata": {},
     "output_type": "display_data"
    }
   ],
   "source": [
    "#long_endpoints_unique = data_outcomes['endpoint'].unique()\n",
    "#endpoints_in_long = [e for e in endpoints if e in long_endpoints_unique]\n",
    "\n",
    "d_list = [get_eligable_eids(data_dict, endpoint) for endpoint in tqdm(endpoints)] \n",
    "eid_df = pd.DataFrame.from_dict(d_list)"
   ]
  },
  {
   "cell_type": "code",
   "execution_count": 14,
   "metadata": {},
   "outputs": [],
   "source": [
    "#eid_df.set_index(\"endpoint\")[\"eid_list\"].to_dict()"
   ]
  },
  {
   "cell_type": "code",
   "execution_count": 15,
   "metadata": {},
   "outputs": [],
   "source": [
    "from datetime import date\n",
    "today = str(date.today())"
   ]
  },
  {
   "cell_type": "code",
   "execution_count": 16,
   "metadata": {
    "tags": []
   },
   "outputs": [],
   "source": [
    "eid_df.to_feather(f\"{output_path}/eligable_eids_{today}.feather\") "
   ]
  },
  {
   "cell_type": "code",
   "execution_count": 17,
   "metadata": {
    "tags": []
   },
   "outputs": [],
   "source": [
    "eid_df_long = eid_df[[\"endpoint\", \"eid_list\"]].explode(\"eid_list\").reset_index(drop=True)\n",
    "eid_df_long.columns = [\"endpoint\", \"eid\"]\n",
    "eid_df_long[\"endpoint\"] = eid_df_long[\"endpoint\"].astype(\"category\")\n",
    "eid_df_long[\"eid\"] = eid_df_long[\"eid\"].astype(\"category\")"
   ]
  },
  {
   "cell_type": "code",
   "execution_count": 18,
   "metadata": {
    "tags": []
   },
   "outputs": [],
   "source": [
    "eid_df_long.to_feather(f\"{output_path}/eligable_eids_long_{today}.feather\")"
   ]
  },
  {
   "cell_type": "code",
   "execution_count": null,
   "metadata": {},
   "outputs": [],
   "source": []
  }
 ],
 "metadata": {
  "kernelspec": {
   "display_name": "Python 3 (ipykernel)",
   "language": "python",
   "name": "python3"
  },
  "language_info": {
   "codemirror_mode": {
    "name": "ipython",
    "version": 3
   },
   "file_extension": ".py",
   "mimetype": "text/x-python",
   "name": "python",
   "nbconvert_exporter": "python",
   "pygments_lexer": "ipython3",
   "version": "3.9.7"
  },
  "toc-autonumbering": false
 },
 "nbformat": 4,
 "nbformat_minor": 4
}
