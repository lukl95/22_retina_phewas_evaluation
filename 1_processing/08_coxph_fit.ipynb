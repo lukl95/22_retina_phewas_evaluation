{
 "cells": [
  {
   "cell_type": "markdown",
   "metadata": {},
   "source": [
    "# Benchmarks"
   ]
  },
  {
   "cell_type": "markdown",
   "metadata": {},
   "source": [
    "## Initialize"
   ]
  },
  {
   "cell_type": "code",
   "execution_count": 1,
   "metadata": {
    "tags": []
   },
   "outputs": [],
   "source": [
    "import os\n",
    "import math\n",
    "import pathlib\n",
    "import numpy as np\n",
    "import pandas as pd\n",
    "from tqdm.auto import tqdm\n",
    "from IPython.display import clear_output\n",
    "import ray\n",
    "\n",
    "import warnings\n",
    "import lifelines\n",
    "from lifelines.utils import CensoringType\n",
    "from lifelines.utils import concordance_index"
   ]
  },
  {
   "cell_type": "code",
   "execution_count": 2,
   "metadata": {
    "tags": []
   },
   "outputs": [
    {
     "data": {
      "text/plain": [
       "'0.26.0'"
      ]
     },
     "execution_count": 2,
     "metadata": {},
     "output_type": "execute_result"
    }
   ],
   "source": [
    "lifelines.__version__"
   ]
  },
  {
   "cell_type": "code",
   "execution_count": 3,
   "metadata": {
    "tags": []
   },
   "outputs": [
    {
     "name": "stdout",
     "output_type": "stream",
     "text": [
      "/sc-projects/sc-proj-ukb-cvd\n",
      "/sc-projects/sc-proj-ukb-cvd/results/projects/22_retina_phewas/data/3p3smraz\n"
     ]
    }
   ],
   "source": [
    "node = !hostname\n",
    "if \"sc\" in node[0]:\n",
    "    base_path = \"/sc-projects/sc-proj-ukb-cvd\"\n",
    "else: \n",
    "    base_path = \"/data/analysis/ag-reils/ag-reils-shared/cardioRS\"\n",
    "print(base_path)\n",
    "\n",
    "project_label = \"22_retina_phewas\"\n",
    "project_path = f\"{base_path}/results/projects/{project_label}\"\n",
    "figure_path = f\"{project_path}/figures\"\n",
    "output_path = f\"{project_path}/data\"\n",
    "\n",
    "##### BEGIN ADAPT #####\n",
    "# second best model\n",
    "# wandb_name = 'aug++_convnext_s_mlp'\n",
    "# wandb_id = '8ngm6apd'\n",
    "# best model\n",
    "wandb_name = 'aug++_convnext_s_mlp+'\n",
    "wandb_id = '3p3smraz'\n",
    "partitions = [0] # [i for i in range(22)]\n",
    "##### END   ADAPT #####\n",
    "\n",
    "experiment = wandb_id\n",
    "experiment_path = f\"{output_path}/{experiment}\"\n",
    "pathlib.Path(experiment_path).mkdir(parents=True, exist_ok=True)\n",
    "print(experiment_path)"
   ]
  },
  {
   "cell_type": "code",
   "execution_count": 4,
   "metadata": {},
   "outputs": [
    {
     "name": "stdout",
     "output_type": "stream",
     "text": [
      "3p3smraz\t\t\t       eligable_eids_2022-05-24.feather\n",
      "8ngm6apd\t\t\t       eligable_eids_2022-05-25.feather\n",
      "baseline_outcomes_220223.feather       eligable_eids_220511.feather\n",
      "baseline_outcomes_220412\t       eligable_eids_long_2022-05-24.feather\n",
      "baseline_outcomes_220412.feather       eligable_eids_long_2022-05-25.feather\n",
      "baseline_outcomes_long_220412.feather  eligable_eids_long_220511.feather\n",
      "baseline_outcomes_wide_220301\t       phecode_defs_220306.feather\n",
      "baseline_outcomes_wide_220301.feather  retina_endpoints_220301.feather\n",
      "baseline_outcomes_wide_220306.feather  test_experiment\n"
     ]
    }
   ],
   "source": [
    "!ls {output_path}"
   ]
  },
  {
   "cell_type": "code",
   "execution_count": 5,
   "metadata": {
    "tags": []
   },
   "outputs": [
    {
     "name": "stdout",
     "output_type": "stream",
     "text": [
      "/sc-projects/sc-proj-ukb-cvd/results/projects/22_retina_phewas/data\n"
     ]
    },
    {
     "data": {
      "text/html": [
       "<div>\n",
       "<style scoped>\n",
       "    .dataframe tbody tr th:only-of-type {\n",
       "        vertical-align: middle;\n",
       "    }\n",
       "\n",
       "    .dataframe tbody tr th {\n",
       "        vertical-align: top;\n",
       "    }\n",
       "\n",
       "    .dataframe thead th {\n",
       "        text-align: right;\n",
       "    }\n",
       "</style>\n",
       "<table border=\"1\" class=\"dataframe\">\n",
       "  <thead>\n",
       "    <tr style=\"text-align: right;\">\n",
       "      <th></th>\n",
       "      <th>OMOP_4306655_prev</th>\n",
       "      <th>phecode_401_prev</th>\n",
       "      <th>phecode_401-1_prev</th>\n",
       "      <th>phecode_202_prev</th>\n",
       "      <th>phecode_475_prev</th>\n",
       "      <th>phecode_202-2_prev</th>\n",
       "      <th>phecode_713_prev</th>\n",
       "      <th>phecode_718_prev</th>\n",
       "      <th>phecode_460_prev</th>\n",
       "      <th>phecode_713-3_prev</th>\n",
       "      <th>...</th>\n",
       "      <th>phecode_546-2_time</th>\n",
       "      <th>phecode_902_time</th>\n",
       "      <th>phecode_361-4_time</th>\n",
       "      <th>phecode_401-2_time</th>\n",
       "      <th>phecode_596-3_time</th>\n",
       "      <th>phecode_168-211_time</th>\n",
       "      <th>phecode_714-32_time</th>\n",
       "      <th>phecode_719-4_time</th>\n",
       "      <th>phecode_684-12_time</th>\n",
       "      <th>phecode_240_time</th>\n",
       "    </tr>\n",
       "    <tr>\n",
       "      <th>eid</th>\n",
       "      <th></th>\n",
       "      <th></th>\n",
       "      <th></th>\n",
       "      <th></th>\n",
       "      <th></th>\n",
       "      <th></th>\n",
       "      <th></th>\n",
       "      <th></th>\n",
       "      <th></th>\n",
       "      <th></th>\n",
       "      <th></th>\n",
       "      <th></th>\n",
       "      <th></th>\n",
       "      <th></th>\n",
       "      <th></th>\n",
       "      <th></th>\n",
       "      <th></th>\n",
       "      <th></th>\n",
       "      <th></th>\n",
       "      <th></th>\n",
       "      <th></th>\n",
       "    </tr>\n",
       "  </thead>\n",
       "  <tbody>\n",
       "    <tr>\n",
       "      <th>1000018</th>\n",
       "      <td>False</td>\n",
       "      <td>True</td>\n",
       "      <td>True</td>\n",
       "      <td>False</td>\n",
       "      <td>False</td>\n",
       "      <td>False</td>\n",
       "      <td>False</td>\n",
       "      <td>False</td>\n",
       "      <td>False</td>\n",
       "      <td>False</td>\n",
       "      <td>...</td>\n",
       "      <td>11.866089</td>\n",
       "      <td>11.866089</td>\n",
       "      <td>11.866089</td>\n",
       "      <td>11.866089</td>\n",
       "      <td>11.866089</td>\n",
       "      <td>11.866089</td>\n",
       "      <td>11.866089</td>\n",
       "      <td>11.866089</td>\n",
       "      <td>11.866089</td>\n",
       "      <td>11.866089</td>\n",
       "    </tr>\n",
       "    <tr>\n",
       "      <th>1000020</th>\n",
       "      <td>False</td>\n",
       "      <td>False</td>\n",
       "      <td>False</td>\n",
       "      <td>False</td>\n",
       "      <td>False</td>\n",
       "      <td>False</td>\n",
       "      <td>False</td>\n",
       "      <td>False</td>\n",
       "      <td>False</td>\n",
       "      <td>False</td>\n",
       "      <td>...</td>\n",
       "      <td>13.596446</td>\n",
       "      <td>13.596446</td>\n",
       "      <td>13.596446</td>\n",
       "      <td>13.596446</td>\n",
       "      <td>13.596446</td>\n",
       "      <td>13.596446</td>\n",
       "      <td>13.596446</td>\n",
       "      <td>13.596446</td>\n",
       "      <td>13.596446</td>\n",
       "      <td>13.596446</td>\n",
       "    </tr>\n",
       "    <tr>\n",
       "      <th>1000037</th>\n",
       "      <td>False</td>\n",
       "      <td>False</td>\n",
       "      <td>False</td>\n",
       "      <td>False</td>\n",
       "      <td>False</td>\n",
       "      <td>False</td>\n",
       "      <td>True</td>\n",
       "      <td>True</td>\n",
       "      <td>False</td>\n",
       "      <td>True</td>\n",
       "      <td>...</td>\n",
       "      <td>12.868163</td>\n",
       "      <td>12.868163</td>\n",
       "      <td>12.868163</td>\n",
       "      <td>12.868163</td>\n",
       "      <td>12.868163</td>\n",
       "      <td>12.868163</td>\n",
       "      <td>12.868163</td>\n",
       "      <td>12.868163</td>\n",
       "      <td>12.868163</td>\n",
       "      <td>12.868163</td>\n",
       "    </tr>\n",
       "    <tr>\n",
       "      <th>1000043</th>\n",
       "      <td>False</td>\n",
       "      <td>True</td>\n",
       "      <td>True</td>\n",
       "      <td>False</td>\n",
       "      <td>False</td>\n",
       "      <td>False</td>\n",
       "      <td>True</td>\n",
       "      <td>False</td>\n",
       "      <td>False</td>\n",
       "      <td>True</td>\n",
       "      <td>...</td>\n",
       "      <td>12.309629</td>\n",
       "      <td>12.309629</td>\n",
       "      <td>12.309629</td>\n",
       "      <td>12.309629</td>\n",
       "      <td>12.309629</td>\n",
       "      <td>12.309629</td>\n",
       "      <td>12.309629</td>\n",
       "      <td>12.309629</td>\n",
       "      <td>12.309629</td>\n",
       "      <td>12.309629</td>\n",
       "    </tr>\n",
       "    <tr>\n",
       "      <th>1000051</th>\n",
       "      <td>False</td>\n",
       "      <td>False</td>\n",
       "      <td>False</td>\n",
       "      <td>True</td>\n",
       "      <td>False</td>\n",
       "      <td>True</td>\n",
       "      <td>False</td>\n",
       "      <td>False</td>\n",
       "      <td>False</td>\n",
       "      <td>False</td>\n",
       "      <td>...</td>\n",
       "      <td>15.291210</td>\n",
       "      <td>15.291210</td>\n",
       "      <td>15.291210</td>\n",
       "      <td>15.291210</td>\n",
       "      <td>15.291210</td>\n",
       "      <td>15.291210</td>\n",
       "      <td>15.291210</td>\n",
       "      <td>15.291210</td>\n",
       "      <td>15.291210</td>\n",
       "      <td>15.291210</td>\n",
       "    </tr>\n",
       "    <tr>\n",
       "      <th>...</th>\n",
       "      <td>...</td>\n",
       "      <td>...</td>\n",
       "      <td>...</td>\n",
       "      <td>...</td>\n",
       "      <td>...</td>\n",
       "      <td>...</td>\n",
       "      <td>...</td>\n",
       "      <td>...</td>\n",
       "      <td>...</td>\n",
       "      <td>...</td>\n",
       "      <td>...</td>\n",
       "      <td>...</td>\n",
       "      <td>...</td>\n",
       "      <td>...</td>\n",
       "      <td>...</td>\n",
       "      <td>...</td>\n",
       "      <td>...</td>\n",
       "      <td>...</td>\n",
       "      <td>...</td>\n",
       "      <td>...</td>\n",
       "      <td>...</td>\n",
       "    </tr>\n",
       "    <tr>\n",
       "      <th>6025150</th>\n",
       "      <td>False</td>\n",
       "      <td>False</td>\n",
       "      <td>False</td>\n",
       "      <td>False</td>\n",
       "      <td>False</td>\n",
       "      <td>False</td>\n",
       "      <td>False</td>\n",
       "      <td>False</td>\n",
       "      <td>False</td>\n",
       "      <td>False</td>\n",
       "      <td>...</td>\n",
       "      <td>14.237117</td>\n",
       "      <td>14.237117</td>\n",
       "      <td>14.237117</td>\n",
       "      <td>14.237117</td>\n",
       "      <td>14.237117</td>\n",
       "      <td>14.237117</td>\n",
       "      <td>14.237117</td>\n",
       "      <td>14.237117</td>\n",
       "      <td>14.237117</td>\n",
       "      <td>14.237117</td>\n",
       "    </tr>\n",
       "    <tr>\n",
       "      <th>6025165</th>\n",
       "      <td>False</td>\n",
       "      <td>False</td>\n",
       "      <td>False</td>\n",
       "      <td>False</td>\n",
       "      <td>False</td>\n",
       "      <td>False</td>\n",
       "      <td>False</td>\n",
       "      <td>True</td>\n",
       "      <td>True</td>\n",
       "      <td>False</td>\n",
       "      <td>...</td>\n",
       "      <td>13.059816</td>\n",
       "      <td>13.059816</td>\n",
       "      <td>13.059816</td>\n",
       "      <td>13.059816</td>\n",
       "      <td>13.059816</td>\n",
       "      <td>13.059816</td>\n",
       "      <td>13.059816</td>\n",
       "      <td>13.059816</td>\n",
       "      <td>13.059816</td>\n",
       "      <td>13.059816</td>\n",
       "    </tr>\n",
       "    <tr>\n",
       "      <th>6025173</th>\n",
       "      <td>False</td>\n",
       "      <td>False</td>\n",
       "      <td>False</td>\n",
       "      <td>False</td>\n",
       "      <td>False</td>\n",
       "      <td>False</td>\n",
       "      <td>False</td>\n",
       "      <td>False</td>\n",
       "      <td>True</td>\n",
       "      <td>False</td>\n",
       "      <td>...</td>\n",
       "      <td>13.018748</td>\n",
       "      <td>13.018748</td>\n",
       "      <td>13.018748</td>\n",
       "      <td>13.018748</td>\n",
       "      <td>13.018748</td>\n",
       "      <td>13.018748</td>\n",
       "      <td>13.018748</td>\n",
       "      <td>13.018748</td>\n",
       "      <td>13.018748</td>\n",
       "      <td>13.018748</td>\n",
       "    </tr>\n",
       "    <tr>\n",
       "      <th>6025182</th>\n",
       "      <td>False</td>\n",
       "      <td>False</td>\n",
       "      <td>False</td>\n",
       "      <td>False</td>\n",
       "      <td>True</td>\n",
       "      <td>False</td>\n",
       "      <td>True</td>\n",
       "      <td>True</td>\n",
       "      <td>False</td>\n",
       "      <td>True</td>\n",
       "      <td>...</td>\n",
       "      <td>11.233632</td>\n",
       "      <td>11.233632</td>\n",
       "      <td>11.233632</td>\n",
       "      <td>11.233632</td>\n",
       "      <td>11.233632</td>\n",
       "      <td>11.233632</td>\n",
       "      <td>11.233632</td>\n",
       "      <td>11.233632</td>\n",
       "      <td>11.233632</td>\n",
       "      <td>11.233632</td>\n",
       "    </tr>\n",
       "    <tr>\n",
       "      <th>6025198</th>\n",
       "      <td>False</td>\n",
       "      <td>True</td>\n",
       "      <td>True</td>\n",
       "      <td>False</td>\n",
       "      <td>False</td>\n",
       "      <td>False</td>\n",
       "      <td>False</td>\n",
       "      <td>False</td>\n",
       "      <td>False</td>\n",
       "      <td>False</td>\n",
       "      <td>...</td>\n",
       "      <td>8.868081</td>\n",
       "      <td>8.868081</td>\n",
       "      <td>8.868081</td>\n",
       "      <td>8.868081</td>\n",
       "      <td>8.868081</td>\n",
       "      <td>8.868081</td>\n",
       "      <td>8.868081</td>\n",
       "      <td>8.868081</td>\n",
       "      <td>8.868081</td>\n",
       "      <td>8.868081</td>\n",
       "    </tr>\n",
       "  </tbody>\n",
       "</table>\n",
       "<p>502460 rows × 5052 columns</p>\n",
       "</div>"
      ],
      "text/plain": [
       "         OMOP_4306655_prev  phecode_401_prev  phecode_401-1_prev  \\\n",
       "eid                                                                \n",
       "1000018              False              True                True   \n",
       "1000020              False             False               False   \n",
       "1000037              False             False               False   \n",
       "1000043              False              True                True   \n",
       "1000051              False             False               False   \n",
       "...                    ...               ...                 ...   \n",
       "6025150              False             False               False   \n",
       "6025165              False             False               False   \n",
       "6025173              False             False               False   \n",
       "6025182              False             False               False   \n",
       "6025198              False              True                True   \n",
       "\n",
       "         phecode_202_prev  phecode_475_prev  phecode_202-2_prev  \\\n",
       "eid                                                               \n",
       "1000018             False             False               False   \n",
       "1000020             False             False               False   \n",
       "1000037             False             False               False   \n",
       "1000043             False             False               False   \n",
       "1000051              True             False                True   \n",
       "...                   ...               ...                 ...   \n",
       "6025150             False             False               False   \n",
       "6025165             False             False               False   \n",
       "6025173             False             False               False   \n",
       "6025182             False              True               False   \n",
       "6025198             False             False               False   \n",
       "\n",
       "         phecode_713_prev  phecode_718_prev  phecode_460_prev  \\\n",
       "eid                                                             \n",
       "1000018             False             False             False   \n",
       "1000020             False             False             False   \n",
       "1000037              True              True             False   \n",
       "1000043              True             False             False   \n",
       "1000051             False             False             False   \n",
       "...                   ...               ...               ...   \n",
       "6025150             False             False             False   \n",
       "6025165             False              True              True   \n",
       "6025173             False             False              True   \n",
       "6025182              True              True             False   \n",
       "6025198             False             False             False   \n",
       "\n",
       "         phecode_713-3_prev  ...  phecode_546-2_time  phecode_902_time  \\\n",
       "eid                          ...                                         \n",
       "1000018               False  ...           11.866089         11.866089   \n",
       "1000020               False  ...           13.596446         13.596446   \n",
       "1000037                True  ...           12.868163         12.868163   \n",
       "1000043                True  ...           12.309629         12.309629   \n",
       "1000051               False  ...           15.291210         15.291210   \n",
       "...                     ...  ...                 ...               ...   \n",
       "6025150               False  ...           14.237117         14.237117   \n",
       "6025165               False  ...           13.059816         13.059816   \n",
       "6025173               False  ...           13.018748         13.018748   \n",
       "6025182                True  ...           11.233632         11.233632   \n",
       "6025198               False  ...            8.868081          8.868081   \n",
       "\n",
       "         phecode_361-4_time  phecode_401-2_time  phecode_596-3_time  \\\n",
       "eid                                                                   \n",
       "1000018           11.866089           11.866089           11.866089   \n",
       "1000020           13.596446           13.596446           13.596446   \n",
       "1000037           12.868163           12.868163           12.868163   \n",
       "1000043           12.309629           12.309629           12.309629   \n",
       "1000051           15.291210           15.291210           15.291210   \n",
       "...                     ...                 ...                 ...   \n",
       "6025150           14.237117           14.237117           14.237117   \n",
       "6025165           13.059816           13.059816           13.059816   \n",
       "6025173           13.018748           13.018748           13.018748   \n",
       "6025182           11.233632           11.233632           11.233632   \n",
       "6025198            8.868081            8.868081            8.868081   \n",
       "\n",
       "         phecode_168-211_time  phecode_714-32_time  phecode_719-4_time  \\\n",
       "eid                                                                      \n",
       "1000018             11.866089            11.866089           11.866089   \n",
       "1000020             13.596446            13.596446           13.596446   \n",
       "1000037             12.868163            12.868163           12.868163   \n",
       "1000043             12.309629            12.309629           12.309629   \n",
       "1000051             15.291210            15.291210           15.291210   \n",
       "...                       ...                  ...                 ...   \n",
       "6025150             14.237117            14.237117           14.237117   \n",
       "6025165             13.059816            13.059816           13.059816   \n",
       "6025173             13.018748            13.018748           13.018748   \n",
       "6025182             11.233632            11.233632           11.233632   \n",
       "6025198              8.868081             8.868081            8.868081   \n",
       "\n",
       "         phecode_684-12_time  phecode_240_time  \n",
       "eid                                             \n",
       "1000018            11.866089         11.866089  \n",
       "1000020            13.596446         13.596446  \n",
       "1000037            12.868163         12.868163  \n",
       "1000043            12.309629         12.309629  \n",
       "1000051            15.291210         15.291210  \n",
       "...                      ...               ...  \n",
       "6025150            14.237117         14.237117  \n",
       "6025165            13.059816         13.059816  \n",
       "6025173            13.018748         13.018748  \n",
       "6025182            11.233632         11.233632  \n",
       "6025198             8.868081          8.868081  \n",
       "\n",
       "[502460 rows x 5052 columns]"
      ]
     },
     "execution_count": 5,
     "metadata": {},
     "output_type": "execute_result"
    }
   ],
   "source": [
    "print(output_path)\n",
    "data_outcomes = pd.read_feather(f\"{output_path}/baseline_outcomes_220412.feather\").set_index(\"eid\")\n",
    "data_outcomes"
   ]
  },
  {
   "cell_type": "code",
   "execution_count": 6,
   "metadata": {
    "tags": []
   },
   "outputs": [
    {
     "name": "stdout",
     "output_type": "stream",
     "text": [
      "498\n",
      "498\n"
     ]
    }
   ],
   "source": [
    "import pandas as pd\n",
    "all_endpoints = sorted([l.replace('_prevalent', '') for l in list(pd.read_csv('/sc-projects/sc-proj-ukb-cvd/results/projects/22_medical_records/data/220413/frequent_endpoints.csv').endpoint.values)])\n",
    "\n",
    "#all_endpoints = sorted(endpoints_all_md.endpoint.to_list())\n",
    "print(len(all_endpoints))\n",
    "\n",
    "endpoints_not_overlapping_with_preds = []\n",
    "#endpoints_not_overlapping_with_preds_md = pd.read_csv(f\"{experiment_path}/endpoints_not_overlapping.csv\", header=None)\n",
    "#print(len(endpoints_not_overlapping_with_preds_md))\n",
    "#endpoints_not_overlapping_with_preds = list(endpoints_not_overlapping_with_preds_md[0].values)\n",
    "\n",
    "endpoints = []\n",
    "for c in all_endpoints:\n",
    "    if c not in endpoints_not_overlapping_with_preds: # this is what i want\n",
    "        #print('OK    - ',c)\n",
    "        endpoints.append(c)\n",
    "    #if c in endpoints_not_overlapping_with_preds: # this is what causes errors!\n",
    "    #    print('ERROR - ',c)\n",
    "print(len(endpoints))"
   ]
  },
  {
   "cell_type": "code",
   "execution_count": 7,
   "metadata": {
    "tags": []
   },
   "outputs": [],
   "source": [
    "splits = [\"train\", \"valid\", 'test'] # \"test_left\", 'test_right'"
   ]
  },
  {
   "cell_type": "code",
   "execution_count": 8,
   "metadata": {
    "tags": []
   },
   "outputs": [],
   "source": [
    "endpoint_defs = pd.read_feather(f\"{output_path}/phecode_defs_220306.feather\").query(\"endpoint==@endpoints\").sort_values(\"endpoint\").set_index(\"endpoint\")"
   ]
  },
  {
   "cell_type": "code",
   "execution_count": 9,
   "metadata": {},
   "outputs": [],
   "source": [
    "from datetime import date\n",
    "today = str(date.today())"
   ]
  },
  {
   "cell_type": "code",
   "execution_count": 10,
   "metadata": {
    "tags": []
   },
   "outputs": [],
   "source": [
    "eligable_eids = pd.read_feather(f\"{output_path}/eligable_eids_{today}.feather\") # TODO CHANGE!\n",
    "eids_dict = eligable_eids.set_index(\"endpoint\")[\"eid_list\"].to_dict()"
   ]
  },
  {
   "cell_type": "code",
   "execution_count": 11,
   "metadata": {
    "tags": []
   },
   "outputs": [
    {
     "name": "stdout",
     "output_type": "stream",
     "text": [
      "env: MKL_NUM_THREADS=4\n",
      "env: NUMEXPR_NUM_THREADS=4\n",
      "env: OMP_NUM_THREADS=4\n"
     ]
    }
   ],
   "source": [
    "%env MKL_NUM_THREADS=4\n",
    "%env NUMEXPR_NUM_THREADS=4\n",
    "%env OMP_NUM_THREADS=4"
   ]
  },
  {
   "cell_type": "code",
   "execution_count": 12,
   "metadata": {
    "tags": []
   },
   "outputs": [],
   "source": [
    "ray.shutdown()"
   ]
  },
  {
   "cell_type": "code",
   "execution_count": 13,
   "metadata": {
    "tags": []
   },
   "outputs": [
    {
     "data": {
      "text/plain": [
       "{'node_ip_address': '10.32.105.6',\n",
       " 'raylet_ip_address': '10.32.105.6',\n",
       " 'redis_address': '10.32.105.6:46209',\n",
       " 'object_store_address': '/tmp/ray/session_2022-05-25_11-30-34_720418_3768856/sockets/plasma_store',\n",
       " 'raylet_socket_name': '/tmp/ray/session_2022-05-25_11-30-34_720418_3768856/sockets/raylet',\n",
       " 'webui_url': None,\n",
       " 'session_dir': '/tmp/ray/session_2022-05-25_11-30-34_720418_3768856',\n",
       " 'metrics_export_port': 56609,\n",
       " 'node_id': 'f143ee874e5f2564900490d610cb26a701c223f90ad6eca21980de80'}"
      ]
     },
     "execution_count": 13,
     "metadata": {},
     "output_type": "execute_result"
    }
   ],
   "source": [
    "import ray\n",
    "\n",
    "ray.init(num_cpus=24)#, dashboard_port=24762, dashboard_host=\"0.0.0.0\", include_dashboard=True)#, webui_url=\"0.0.0.0\"))"
   ]
  },
  {
   "cell_type": "code",
   "execution_count": 14,
   "metadata": {
    "tags": []
   },
   "outputs": [],
   "source": [
    "AgeSex = [\"age_at_recruitment_f21022_0_0\", \"sex_f31_0_0\"]"
   ]
  },
  {
   "cell_type": "markdown",
   "metadata": {},
   "source": [
    "# Train COX"
   ]
  },
  {
   "cell_type": "code",
   "execution_count": 15,
   "metadata": {
    "tags": []
   },
   "outputs": [],
   "source": [
    "in_path = pathlib.Path(f\"{experiment_path}/coxph/input\")\n",
    "in_path.mkdir(parents=True, exist_ok=True)\n",
    "\n",
    "model_path = f\"{experiment_path}/coxph/models\"\n",
    "pathlib.Path(model_path).mkdir(parents=True, exist_ok=True)"
   ]
  },
  {
   "cell_type": "code",
   "execution_count": 16,
   "metadata": {
    "tags": []
   },
   "outputs": [
    {
     "data": {
      "text/plain": [
       "['ImageTraining_[]_ConvNeXt_MLPHead']"
      ]
     },
     "execution_count": 16,
     "metadata": {},
     "output_type": "execute_result"
    }
   ],
   "source": [
    "models = [f.name for f in in_path.iterdir() if f.is_dir() and \"ipynb_checkpoints\" not in str(f)]\n",
    "models"
   ]
  },
  {
   "cell_type": "code",
   "execution_count": 17,
   "metadata": {
    "tags": []
   },
   "outputs": [],
   "source": [
    "from formulaic.errors import FactorEvaluationError"
   ]
  },
  {
   "cell_type": "code",
   "execution_count": 18,
   "metadata": {},
   "outputs": [
    {
     "data": {
      "text/plain": [
       "PosixPath('/sc-projects/sc-proj-ukb-cvd/results/projects/22_retina_phewas/data/3p3smraz/coxph/input')"
      ]
     },
     "execution_count": 18,
     "metadata": {},
     "output_type": "execute_result"
    }
   ],
   "source": [
    "in_path"
   ]
  },
  {
   "cell_type": "code",
   "execution_count": 19,
   "metadata": {
    "tags": []
   },
   "outputs": [],
   "source": [
    "from lifelines import CoxPHFitter\n",
    "from lifelines.exceptions import ConvergenceError\n",
    "import zstandard\n",
    "import pickle\n",
    "\n",
    "def get_features(endpoint):\n",
    "    features = {\n",
    "        models[0]: { # TODO CHANGE!\n",
    "            \"Age+Sex\": AgeSex,\n",
    "            \"Retina\": [endpoint],\n",
    "            \"Age+Sex+Retina\": AgeSex + [endpoint],\n",
    "            #\"Age+Sex+MedicalHistory+I(Age*MH)\": AgeSex + [endpoint]\n",
    "            }\n",
    "    }\n",
    "    return features\n",
    "\n",
    "def get_train_data(in_path, partition, models, mapping):\n",
    "    train_data = {\n",
    "        model: pd.read_feather(f\"{in_path}/{model}/{partition}/train.feather\").set_index(\"eid\").merge(data_outcomes, left_index=True, right_index=True, how=\"left\").replace(mapping)\n",
    "    for model in models}\n",
    "    \n",
    "    return train_data\n",
    "\n",
    "def fit_cox(data_fit, feature_set, covariates, endpoint, penalizer, step_size=1):\n",
    "    if feature_set==\"Age+Sex+MedicalHistory+I(Age*MH)\":\n",
    "        endpoint_label = endpoint.replace(\"-\", \"\")\n",
    "        data_fit.columns = [c.replace(\"-\", \"\") for c in data_fit.columns]\n",
    "        covariates = [c.replace(\"-\", \"\") for c in covariates]\n",
    "        #print(endpoint_label)\n",
    "        #print(data_fit)\n",
    "        #print(covariates)\n",
    "        if \"sex_f31_0_0\" in covariates:\n",
    "            formula=f\"age_at_recruitment_f21022_0_0*{endpoint_label}+sex_f31_0_0*{endpoint_label}\"\n",
    "        else:\n",
    "            formula=f\"age_at_recruitment_f21022_0_0*{endpoint_label}\"\n",
    "        cph = CoxPHFitter(penalizer=penalizer)\n",
    "        cph.fit(data_fit, f\"{endpoint_label}_time\", f\"{endpoint_label}_event\", formula=formula, step_size=step_size)\n",
    "    else:\n",
    "        cph = CoxPHFitter(penalizer=penalizer)\n",
    "        cph.fit(data_fit, f\"{endpoint}_time\", f\"{endpoint}_event\", step_size=step_size)\n",
    "\n",
    "    return cph\n",
    "\n",
    "def save_pickle(data, data_path):\n",
    "    with open(data_path, \"wb\") as fh:\n",
    "        cctx = zstandard.ZstdCompressor()\n",
    "        with cctx.stream_writer(fh) as compressor:\n",
    "            compressor.write(pickle.dumps(data, protocol=pickle.HIGHEST_PROTOCOL))\n",
    "            \n",
    "def load_pickle(fp):\n",
    "    with open(fp, \"rb\") as fh:\n",
    "        dctx = zstandard.ZstdDecompressor()\n",
    "        with dctx.stream_reader(fh) as decompressor:\n",
    "            data = pickle.loads(decompressor.read())\n",
    "    return data\n",
    "\n",
    "@ray.remote\n",
    "def fit_endpoint(data_partition, eids_dict, endpoint_defs, endpoint, partition, models, model_path):\n",
    "    eids_incl = eids_dict[endpoint].tolist()\n",
    "    features = get_features(endpoint)\n",
    "    eligibility = endpoint_defs.loc[endpoint][\"sex\"]\n",
    "    for model in models:\n",
    "        data_model = data_partition[model]\n",
    "        for feature_set, covariates in features[model].items():\n",
    "            cph_path = f\"{model_path}/{endpoint}_{feature_set}_{partition}.p\"\n",
    "            if os.path.isfile(cph_path):\n",
    "                try:\n",
    "                    cph = load_pickle(cph_path)\n",
    "                    success = True\n",
    "                except:\n",
    "                    success = False\n",
    "                    pass\n",
    "            if not os.path.isfile(cph_path) or success==False:\n",
    "                if (eligibility != \"Both\") and (\"sex_f31_0_0\" in covariates): \n",
    "                    covariates = [c for c in covariates if c!=\"sex_f31_0_0\"]\n",
    "                #print('covariates:', covariates)\n",
    "                data_endpoint = data_model[covariates + [f\"{endpoint}_event\", f\"{endpoint}_time\"]].astype(np.float32)\n",
    "                data_endpoint = data_endpoint[data_endpoint.index.isin(eids_incl)]\n",
    "                try:\n",
    "                    cph = fit_cox(data_endpoint, feature_set, covariates, endpoint, penalizer=0.0)\n",
    "                    save_pickle(cph, cph_path)\n",
    "                except (ValueError, ConvergenceError, KeyError,FactorEvaluationError) as e:\n",
    "                    print(\"ConvergenceError\", model, endpoint, feature_set, partition, \"problem: reduce step size\")\n",
    "                    try:\n",
    "                        cph = fit_cox(data_endpoint, feature_set, covariates, endpoint, penalizer=0.0, step_size=0.5)\n",
    "                        save_pickle(cph, cph_path)\n",
    "                        print(\"ConvergenceError\", model, endpoint, feature_set, partition, \"trying with reduced step size ... 0.5 successfull\")\n",
    "                    except (ValueError, ConvergenceError, KeyError,FactorEvaluationError) as e:\n",
    "                        print(\"ConvergenceError\", model, endpoint, feature_set, partition, \"trying with reduced step size ... 0.5 failed\")\n",
    "                        try:\n",
    "                            cph = fit_cox(data_endpoint, feature_set, covariates, endpoint, penalizer=0.0, step_size=0.1)\n",
    "                            save_pickle(cph, cph_path)\n",
    "                            print(\"ConvergenceError\", model, endpoint, feature_set, partition, \"trying with reduced step size ... 0.1 successfull\")\n",
    "                        except (ValueError, ConvergenceError, KeyError, FactorEvaluationError) as e:\n",
    "                            print(\"ConvergenceError\", model, endpoint, feature_set, partition, \"trying with reduced step size ... 0.1 failed\")\n",
    "                            save_pickle(data_endpoint, f\"{experiment_path}/coxph/errordata_{endpoint}_{feature_set}_{partition}.p\")\n",
    "                            pass\n",
    "    return True"
   ]
  },
  {
   "cell_type": "code",
   "execution_count": 20,
   "metadata": {},
   "outputs": [
    {
     "data": {
      "text/plain": [
       "'/sc-projects/sc-proj-ukb-cvd/results/projects/22_retina_phewas/data/3p3smraz/coxph'"
      ]
     },
     "execution_count": 20,
     "metadata": {},
     "output_type": "execute_result"
    }
   ],
   "source": [
    "f\"{experiment_path}/coxph\""
   ]
  },
  {
   "cell_type": "raw",
   "metadata": {
    "execution": {
     "iopub.execute_input": "2022-04-14T14:30:58.815755Z",
     "iopub.status.busy": "2022-04-14T14:30:58.815646Z",
     "iopub.status.idle": "2022-04-14T14:30:59.641195Z",
     "shell.execute_reply": "2022-04-14T14:30:59.640433Z",
     "shell.execute_reply.started": "2022-04-14T14:30:58.815742Z"
    },
    "tags": []
   },
   "source": [
    "features = get_features(endpoint)\n",
    "covariates = features['Identity(Records)+MLP']['Age+Sex+MedicalHistory+I(Age*MH)']"
   ]
  },
  {
   "cell_type": "raw",
   "metadata": {
    "execution": {
     "iopub.status.busy": "2022-04-14T14:30:59.642136Z",
     "iopub.status.idle": "2022-04-14T14:30:59.642450Z",
     "shell.execute_reply": "2022-04-14T14:30:59.642343Z",
     "shell.execute_reply.started": "2022-04-14T14:30:59.642329Z"
    },
    "tags": []
   },
   "source": [
    "formula=f\"{' + '.join(covariates)}+age_at_recruitment_f21022_0_0*{endpoint}\"\n",
    "formula"
   ]
  },
  {
   "cell_type": "code",
   "execution_count": 21,
   "metadata": {
    "tags": []
   },
   "outputs": [],
   "source": [
    "model_list =  !ls $model_path\n",
    "#model_list = [m for m in model_list if \"I(\" in m]\n",
    "model_list = [m for m in model_list]"
   ]
  },
  {
   "cell_type": "code",
   "execution_count": 22,
   "metadata": {
    "tags": []
   },
   "outputs": [
    {
     "data": {
      "text/plain": [
       "[]"
      ]
     },
     "execution_count": 22,
     "metadata": {},
     "output_type": "execute_result"
    }
   ],
   "source": [
    "model_list"
   ]
  },
  {
   "cell_type": "code",
   "execution_count": 23,
   "metadata": {},
   "outputs": [
    {
     "data": {
      "text/plain": [
       "2"
      ]
     },
     "execution_count": 23,
     "metadata": {},
     "output_type": "execute_result"
    }
   ],
   "source": [
    "1+1"
   ]
  },
  {
   "cell_type": "raw",
   "metadata": {
    "jupyter": {
     "outputs_hidden": true
    },
    "tags": []
   },
   "source": [
    "#### TEST ####\n",
    "\n",
    "mapping = {\"sex_f31_0_0\": {\"Female\":0, \"Male\":1}}\n",
    "\n",
    "for partition in tqdm([0]): # in tqdm(partitions) # TODO: CHANGE!\n",
    "    try:\n",
    "        data_partition = get_train_data(in_path, partition, models, mapping)\n",
    "        for endpoint in tqdm(endpoints):\n",
    "            print('NEXT ENDPOINT:',endpoint)\n",
    "            if endpoint not in endpoints_not_overlapping_with_preds: # double check if this works as expected\n",
    "                fit_endpoint(data_partition, eids_dict, endpoint_defs, endpoint, partition, models, model_path)\n",
    "            else:\n",
    "                print('überspringe', endpoint)\n",
    "    except FileNotFoundError:\n",
    "        print('file not found')\n",
    "        pass"
   ]
  },
  {
   "cell_type": "code",
   "execution_count": 24,
   "metadata": {
    "tags": []
   },
   "outputs": [
    {
     "data": {
      "application/vnd.jupyter.widget-view+json": {
       "model_id": "f8468586a7234366b13126e65a9ec7df",
       "version_major": 2,
       "version_minor": 0
      },
      "text/plain": [
       "  0%|          | 0/1 [00:00<?, ?it/s]"
      ]
     },
     "metadata": {},
     "output_type": "display_data"
    },
    {
     "name": "stdout",
     "output_type": "stream",
     "text": [
      "Ray object not yet initialised\n"
     ]
    },
    {
     "data": {
      "application/vnd.jupyter.widget-view+json": {
       "model_id": "f90b5500d9a14a56a608ef03025c31f1",
       "version_major": 2,
       "version_minor": 0
      },
      "text/plain": [
       "  0%|          | 0/498 [00:00<?, ?it/s]"
      ]
     },
     "metadata": {},
     "output_type": "display_data"
    },
    {
     "name": "stderr",
     "output_type": "stream",
     "text": [
      "\u001b[2m\u001b[36m(pid=3769047)\u001b[0m /home/loockl/miniconda3/envs/riskiano_3/lib/python3.9/site-packages/lifelines/utils/__init__.py:1110: ConvergenceWarning: Column sex_f31_0_0 have very low variance when conditioned on death event present or not. This may harm convergence. This could be a form of 'complete separation'. For example, try the following code:\n",
      "\u001b[2m\u001b[36m(pid=3769047)\u001b[0m \n",
      "\u001b[2m\u001b[36m(pid=3769047)\u001b[0m >>> events = df['phecode_608-1_event'].astype(bool)\n",
      "\u001b[2m\u001b[36m(pid=3769047)\u001b[0m >>> print(df.loc[events, 'sex_f31_0_0'].var())\n",
      "\u001b[2m\u001b[36m(pid=3769047)\u001b[0m >>> print(df.loc[~events, 'sex_f31_0_0'].var())\n",
      "\u001b[2m\u001b[36m(pid=3769047)\u001b[0m \n",
      "\u001b[2m\u001b[36m(pid=3769047)\u001b[0m A very low variance means that the column sex_f31_0_0 completely determines whether a subject dies or not. See https://stats.stackexchange.com/questions/11109/how-to-deal-with-perfect-separation-in-logistic-regression.\n",
      "\u001b[2m\u001b[36m(pid=3769047)\u001b[0m \n",
      "\u001b[2m\u001b[36m(pid=3769047)\u001b[0m   warnings.warn(dedent(warning_text), ConvergenceWarning)\n",
      "\u001b[2m\u001b[36m(pid=3769047)\u001b[0m /home/loockl/miniconda3/envs/riskiano_3/lib/python3.9/site-packages/lifelines/fitters/coxph_fitter.py:1595: ConvergenceWarning: Newton-Rhaphson convergence completed successfully but norm(delta) is still high, 0.498. This may imply non-unique solutions to the maximum likelihood. Perhaps there is collinearity or complete separation in the dataset?\n",
      "\u001b[2m\u001b[36m(pid=3769047)\u001b[0m \n",
      "\u001b[2m\u001b[36m(pid=3769047)\u001b[0m   warnings.warn(\n",
      "\u001b[2m\u001b[36m(pid=3769058)\u001b[0m /home/loockl/miniconda3/envs/riskiano_3/lib/python3.9/site-packages/lifelines/utils/__init__.py:1110: ConvergenceWarning: Column sex_f31_0_0 have very low variance when conditioned on death event present or not. This may harm convergence. This could be a form of 'complete separation'. For example, try the following code:\n",
      "\u001b[2m\u001b[36m(pid=3769058)\u001b[0m \n",
      "\u001b[2m\u001b[36m(pid=3769058)\u001b[0m >>> events = df['phecode_614-55_event'].astype(bool)\n",
      "\u001b[2m\u001b[36m(pid=3769058)\u001b[0m >>> print(df.loc[events, 'sex_f31_0_0'].var())\n",
      "\u001b[2m\u001b[36m(pid=3769058)\u001b[0m >>> print(df.loc[~events, 'sex_f31_0_0'].var())\n",
      "\u001b[2m\u001b[36m(pid=3769058)\u001b[0m \n",
      "\u001b[2m\u001b[36m(pid=3769058)\u001b[0m A very low variance means that the column sex_f31_0_0 completely determines whether a subject dies or not. See https://stats.stackexchange.com/questions/11109/how-to-deal-with-perfect-separation-in-logistic-regression.\n",
      "\u001b[2m\u001b[36m(pid=3769058)\u001b[0m \n",
      "\u001b[2m\u001b[36m(pid=3769058)\u001b[0m   warnings.warn(dedent(warning_text), ConvergenceWarning)\n",
      "\u001b[2m\u001b[36m(pid=3769058)\u001b[0m /home/loockl/miniconda3/envs/riskiano_3/lib/python3.9/site-packages/lifelines/fitters/coxph_fitter.py:1595: ConvergenceWarning: Newton-Rhaphson convergence completed successfully but norm(delta) is still high, 0.499. This may imply non-unique solutions to the maximum likelihood. Perhaps there is collinearity or complete separation in the dataset?\n",
      "\u001b[2m\u001b[36m(pid=3769058)\u001b[0m \n",
      "\u001b[2m\u001b[36m(pid=3769058)\u001b[0m   warnings.warn(\n",
      "\u001b[2m\u001b[36m(pid=3769058)\u001b[0m /home/loockl/miniconda3/envs/riskiano_3/lib/python3.9/site-packages/lifelines/utils/__init__.py:1110: ConvergenceWarning: Column sex_f31_0_0 have very low variance when conditioned on death event present or not. This may harm convergence. This could be a form of 'complete separation'. For example, try the following code:\n",
      "\u001b[2m\u001b[36m(pid=3769058)\u001b[0m \n",
      "\u001b[2m\u001b[36m(pid=3769058)\u001b[0m >>> events = df['phecode_614-55_event'].astype(bool)\n",
      "\u001b[2m\u001b[36m(pid=3769058)\u001b[0m >>> print(df.loc[events, 'sex_f31_0_0'].var())\n",
      "\u001b[2m\u001b[36m(pid=3769058)\u001b[0m >>> print(df.loc[~events, 'sex_f31_0_0'].var())\n",
      "\u001b[2m\u001b[36m(pid=3769058)\u001b[0m \n",
      "\u001b[2m\u001b[36m(pid=3769058)\u001b[0m A very low variance means that the column sex_f31_0_0 completely determines whether a subject dies or not. See https://stats.stackexchange.com/questions/11109/how-to-deal-with-perfect-separation-in-logistic-regression.\n",
      "\u001b[2m\u001b[36m(pid=3769058)\u001b[0m \n",
      "\u001b[2m\u001b[36m(pid=3769058)\u001b[0m   warnings.warn(dedent(warning_text), ConvergenceWarning)\n",
      "\u001b[2m\u001b[36m(pid=3769058)\u001b[0m /home/loockl/miniconda3/envs/riskiano_3/lib/python3.9/site-packages/lifelines/fitters/coxph_fitter.py:1595: ConvergenceWarning: Newton-Rhaphson convergence completed successfully but norm(delta) is still high, 0.499. This may imply non-unique solutions to the maximum likelihood. Perhaps there is collinearity or complete separation in the dataset?\n",
      "\u001b[2m\u001b[36m(pid=3769058)\u001b[0m \n",
      "\u001b[2m\u001b[36m(pid=3769058)\u001b[0m   warnings.warn(\n",
      "\u001b[2m\u001b[36m(pid=3769047)\u001b[0m /home/loockl/miniconda3/envs/riskiano_3/lib/python3.9/site-packages/lifelines/utils/__init__.py:1110: ConvergenceWarning: Column sex_f31_0_0 have very low variance when conditioned on death event present or not. This may harm convergence. This could be a form of 'complete separation'. For example, try the following code:\n",
      "\u001b[2m\u001b[36m(pid=3769047)\u001b[0m \n",
      "\u001b[2m\u001b[36m(pid=3769047)\u001b[0m >>> events = df['phecode_608-1_event'].astype(bool)\n",
      "\u001b[2m\u001b[36m(pid=3769047)\u001b[0m >>> print(df.loc[events, 'sex_f31_0_0'].var())\n",
      "\u001b[2m\u001b[36m(pid=3769047)\u001b[0m >>> print(df.loc[~events, 'sex_f31_0_0'].var())\n",
      "\u001b[2m\u001b[36m(pid=3769047)\u001b[0m \n",
      "\u001b[2m\u001b[36m(pid=3769047)\u001b[0m A very low variance means that the column sex_f31_0_0 completely determines whether a subject dies or not. See https://stats.stackexchange.com/questions/11109/how-to-deal-with-perfect-separation-in-logistic-regression.\n",
      "\u001b[2m\u001b[36m(pid=3769047)\u001b[0m \n",
      "\u001b[2m\u001b[36m(pid=3769047)\u001b[0m   warnings.warn(dedent(warning_text), ConvergenceWarning)\n",
      "\u001b[2m\u001b[36m(pid=3769047)\u001b[0m /home/loockl/miniconda3/envs/riskiano_3/lib/python3.9/site-packages/lifelines/fitters/coxph_fitter.py:1595: ConvergenceWarning: Newton-Rhaphson convergence completed successfully but norm(delta) is still high, 0.498. This may imply non-unique solutions to the maximum likelihood. Perhaps there is collinearity or complete separation in the dataset?\n",
      "\u001b[2m\u001b[36m(pid=3769047)\u001b[0m \n",
      "\u001b[2m\u001b[36m(pid=3769047)\u001b[0m   warnings.warn(\n"
     ]
    }
   ],
   "source": [
    "mapping = {\"sex_f31_0_0\": {\"Female\":0, \"Male\":1}}\n",
    "\n",
    "ray_eids = ray.put(eids_dict)\n",
    "ray_endpoint_defs = ray.put(endpoint_defs)\n",
    "for partition in tqdm([0]): # in tqdm(partitions) # TODO: CHANGE!\n",
    "    try:\n",
    "        del ray_partition\n",
    "    except:\n",
    "        print(\"Ray object not yet initialised\")\n",
    "    try:\n",
    "        data_partition = get_train_data(in_path, partition, models, mapping)\n",
    "        ray_partition = ray.put(data_partition)\n",
    "        progress = []\n",
    "        for endpoint in endpoints:\n",
    "            progress.append(fit_endpoint.remote(ray_partition, ray_eids, ray_endpoint_defs, endpoint, partition, models, model_path))\n",
    "        [ray.get(s) for s in tqdm(progress)]\n",
    "    except FileNotFoundError:\n",
    "        print('file not found')\n",
    "        pass"
   ]
  },
  {
   "cell_type": "code",
   "execution_count": 33,
   "metadata": {
    "tags": []
   },
   "outputs": [
    {
     "data": {
      "text/plain": [
       "<lifelines.CoxPHFitter: fitted with 47954 total observations, 46466 right-censored observations>"
      ]
     },
     "execution_count": 33,
     "metadata": {},
     "output_type": "execute_result"
    }
   ],
   "source": [
    "load_pickle(\"/sc-projects/sc-proj-ukb-cvd/results/projects/22_retina_phewas/data/test_experiment/coxph/models/phecode_841_Retina_0.p\")"
   ]
  },
  {
   "cell_type": "code",
   "execution_count": 22,
   "metadata": {
    "execution": {
     "iopub.execute_input": "2022-04-14T15:13:02.577602Z",
     "iopub.status.busy": "2022-04-14T15:13:02.577316Z",
     "iopub.status.idle": "2022-04-14T15:13:02.582379Z",
     "shell.execute_reply": "2022-04-14T15:13:02.582001Z",
     "shell.execute_reply.started": "2022-04-14T15:13:02.577583Z"
    },
    "tags": []
   },
   "outputs": [
    {
     "data": {
      "text/plain": [
       "eid\n",
       "1303905    0.507814\n",
       "1303918    0.033095\n",
       "1303920   -0.946619\n",
       "1303937    0.042184\n",
       "1303943   -0.270619\n",
       "             ...   \n",
       "5316968   -0.614777\n",
       "5316970    0.009382\n",
       "5316985   -0.361461\n",
       "5316994   -0.194883\n",
       "5317002   -0.581893\n",
       "Name: phecode_977, Length: 401263, dtype: float64"
      ]
     },
     "execution_count": 22,
     "metadata": {},
     "output_type": "execute_result"
    }
   ],
   "source": [
    "data_partition['Identity(Records)+MLP']['phecode_977']"
   ]
  },
  {
   "cell_type": "code",
   "execution_count": null,
   "metadata": {},
   "outputs": [],
   "source": []
  }
 ],
 "metadata": {
  "kernelspec": {
   "display_name": "Python 3 (ipykernel)",
   "language": "python",
   "name": "python3"
  },
  "language_info": {
   "codemirror_mode": {
    "name": "ipython",
    "version": 3
   },
   "file_extension": ".py",
   "mimetype": "text/x-python",
   "name": "python",
   "nbconvert_exporter": "python",
   "pygments_lexer": "ipython3",
   "version": "3.9.7"
  },
  "toc-autonumbering": false
 },
 "nbformat": 4,
 "nbformat_minor": 4
}
