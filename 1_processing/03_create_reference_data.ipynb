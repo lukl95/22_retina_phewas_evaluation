{
 "cells": [
  {
   "cell_type": "code",
   "execution_count": 1,
   "metadata": {
    "execution": {
     "iopub.execute_input": "2022-05-25T14:01:53.087585Z",
     "iopub.status.busy": "2022-05-25T14:01:53.086929Z",
     "iopub.status.idle": "2022-05-25T14:02:02.824123Z",
     "shell.execute_reply": "2022-05-25T14:02:02.823493Z",
     "shell.execute_reply.started": "2022-05-25T14:01:53.087507Z"
    },
    "tags": []
   },
   "outputs": [],
   "source": [
    "import pandas as pd\n",
    "import numpy as np\n",
    "import pathlib\n",
    "from tqdm.auto import tqdm\n",
    "\n",
    "import hydra\n",
    "from omegaconf import DictConfig, OmegaConf\n",
    "\n",
    "import torch\n",
    "from pytorch_lightning import seed_everything\n",
    "\n",
    "import ray"
   ]
  },
  {
   "cell_type": "code",
   "execution_count": 2,
   "metadata": {
    "execution": {
     "iopub.execute_input": "2022-05-25T08:06:55.467650Z",
     "iopub.status.busy": "2022-05-25T08:06:55.467288Z",
     "iopub.status.idle": "2022-05-25T08:06:55.500612Z",
     "shell.execute_reply": "2022-05-25T08:06:55.499921Z",
     "shell.execute_reply.started": "2022-05-25T08:06:55.467627Z"
    },
    "tags": []
   },
   "outputs": [
    {
     "name": "stdout",
     "output_type": "stream",
     "text": [
      "/sc-projects/sc-proj-ukb-cvd\n"
     ]
    }
   ],
   "source": [
    "node = !hostname\n",
    "if \"sc\" in node[0]:\n",
    "    base_path = \"/sc-projects/sc-proj-ukb-cvd\"\n",
    "else: \n",
    "    base_path = \"/data/analysis/ag-reils/ag-reils-shared/cardioRS\"\n",
    "print(base_path)\n",
    "\n",
    "project_label = \"22_retinal_risk\"\n",
    "project_path = f\"{base_path}/results/projects/{project_label}\"\n",
    "figure_path = f\"{project_path}/figures\"\n",
    "output_path = f\"{project_path}/data\"\n",
    "\n",
    "pathlib.Path(figure_path).mkdir(parents=True, exist_ok=True)\n",
    "pathlib.Path(output_path).mkdir(parents=True, exist_ok=True)"
   ]
  },
  {
   "cell_type": "code",
   "execution_count": 3,
   "metadata": {
    "execution": {
     "iopub.execute_input": "2022-05-25T08:06:56.987849Z",
     "iopub.status.busy": "2022-05-25T08:06:56.987289Z",
     "iopub.status.idle": "2022-05-25T08:06:56.996772Z",
     "shell.execute_reply": "2022-05-25T08:06:56.996367Z",
     "shell.execute_reply.started": "2022-05-25T08:06:56.987829Z"
    },
    "tags": []
   },
   "outputs": [
    {
     "data": {
      "text/plain": [
       "'/sc-projects/sc-proj-ukb-cvd/results/projects/22_retinal_risk/data'"
      ]
     },
     "execution_count": 3,
     "metadata": {},
     "output_type": "execute_result"
    }
   ],
   "source": [
    "output_path"
   ]
  },
  {
   "cell_type": "markdown",
   "metadata": {},
   "source": [
    "## Get Data"
   ]
  },
  {
   "cell_type": "code",
   "execution_count": null,
   "metadata": {},
   "outputs": [],
   "source": [
    "# get stuff from wandb and create symlinks to current folder!!"
   ]
  },
  {
   "cell_type": "code",
   "execution_count": 12,
   "metadata": {
    "execution": {
     "iopub.execute_input": "2022-05-25T08:08:47.841829Z",
     "iopub.status.busy": "2022-05-25T08:08:47.841354Z",
     "iopub.status.idle": "2022-05-25T08:08:48.002715Z",
     "shell.execute_reply": "2022-05-25T08:08:48.002161Z",
     "shell.execute_reply.started": "2022-05-25T08:08:47.841805Z"
    },
    "tags": []
   },
   "outputs": [
    {
     "name": "stdout",
     "output_type": "stream",
     "text": [
      "setup:\n",
      "  entity: cardiors\n",
      "  project: retina\n",
      "  group: null\n",
      "  name: null\n",
      "  root:\n",
      "    charite-hpc: /sc-projects/sc-proj-ukb-cvd\n",
      "    eils-hpc: /data/analysis/ag-reils/ag-reils-shared/cardioRS\n",
      "  data_path: data/2_datasets_pre/211110_anewbeginning/artifacts\n",
      "  output_path: results/models\n",
      "  use_data_artifact_if_available: false\n",
      "  data: null\n",
      "  restore_id: null\n",
      "  data_identifier: WandBBaselineData:latest\n",
      "  tags:\n",
      "  - baseline_data\n",
      "head:\n",
      "  model_type: MLP\n",
      "  dropout: 0.0\n",
      "  kwargs:\n",
      "    num_hidden: 256\n",
      "    num_layers: 1\n",
      "    detach_clf: false\n",
      "    initial_dropout: 0.0\n",
      "datamodule:\n",
      "  covariates: []\n",
      "  augmentation:\n",
      "    train: []\n",
      "    valid: []\n",
      "    test: []\n",
      "  batch_size: 1024\n",
      "  partition: 0\n",
      "  num_workers: 4\n",
      "  img_root: /sc-projects/sc-proj-ukb-cvd/data/retina/preprocessed/preprocessed\n",
      "  img_visit: 0\n",
      "  img_size_to_gpu: 420\n",
      "  img_crop_ratio:\n",
      "    train:\n",
      "    - 0.3\n",
      "    - 0.4\n",
      "    - 0.5\n",
      "    - 0.6\n",
      "    - 0.7\n",
      "    - 0.8\n",
      "    test: 0.5\n",
      "    valid: 0.5\n",
      "  img_n_testtime_views: 10\n",
      "  label_definition:\n",
      "    all_cause_death: true\n",
      "    phecodes: true\n",
      "    custom: /sc-projects/sc-proj-ukb-cvd/results/projects/22_medical_records/data/220413/frequent_endpoints.csv\n",
      "  use_top_n_phecodes: 1000\n",
      "  filter_input_origins: []\n",
      "  use_loss_weights: false\n",
      "  task: tte\n",
      "  task_kwargs: {}\n",
      "model:\n",
      "  model_type: image\n",
      "  encoder: resnet18\n",
      "  freeze_encoder: false\n",
      "  pretrained: false\n",
      "  restore_from_ckpt: false\n",
      "training:\n",
      "  exclusions_on_losses: false\n",
      "  exclusions_on_metrics: true\n",
      "  gradient_checkpointing: false\n",
      "  contrastive_loss_factor: 0\n",
      "  endpoint_loss_factor: 1\n",
      "  vicreg_loss_factor: 0\n",
      "  node_dropout: null\n",
      "  normalize_node_embeddings: true\n",
      "  binarize_records: true\n",
      "  gradient_checkpoining: true\n",
      "  write_predictions: true\n",
      "  write_embeddings: false\n",
      "  write_attributions: false\n",
      "  warmup_period: 0\n",
      "  attribution_baseline_mode: zeros\n",
      "  use_endpoint_embeddings: false\n",
      "  patience: 30\n",
      "  optimizer_kwargs:\n",
      "    weight_decay: 0.05\n",
      "    lr: 0.0001\n",
      "trainer:\n",
      "  gpus:\n",
      "  - 0\n",
      "  precision: 16\n",
      "  max_epochs: 10000\n",
      "  num_sanity_val_steps: -1\n",
      "  detect_anomaly: false\n",
      "  amp_backend: native\n",
      "  accumulate_grad_batches: 1\n",
      "\n"
     ]
    }
   ],
   "source": [
    "from hydra import compose, initialize\n",
    "from omegaconf import OmegaConf\n",
    "hydra.core.global_hydra.GlobalHydra().clear()\n",
    "\n",
    "initialize(config_path=\"../../ehrgraphs/config\")\n",
    "args = compose(config_name=\"config\", overrides=[\"datamodule.partition=0\", \n",
    "                                                \"datamodule.use_top_n_phecodes=10000\",\n",
    "                                                \"setup.use_data_artifact_if_available=False\",\n",
    "                                                \"datamodule/covariates='no_covariates'\",\n",
    "                                                \"datamodule.t0_mode=recruitment\",\n",
    "                                                \n",
    "                                               ])\n",
    "print(OmegaConf.to_yaml(args))"
   ]
  },
  {
   "cell_type": "code",
   "execution_count": 32,
   "metadata": {
    "execution": {
     "iopub.execute_input": "2022-05-25T08:28:40.044075Z",
     "iopub.status.busy": "2022-05-25T08:28:40.043605Z",
     "iopub.status.idle": "2022-05-25T08:28:40.050222Z",
     "shell.execute_reply": "2022-05-25T08:28:40.049921Z",
     "shell.execute_reply.started": "2022-05-25T08:28:40.044056Z"
    },
    "tags": []
   },
   "outputs": [],
   "source": [
    "def extract_records_events_times(args):\n",
    "    \n",
    "    records_list = []\n",
    "    outcomes_list = []\n",
    "    \n",
    "    # prepare extraction\n",
    "    datamodule, _, _ = setup_training(args)\n",
    "    \n",
    "#     record_cols = datamodule.record_cols\n",
    "    label_cols = list(datamodule.label_mapping.keys())\n",
    "    \n",
    "    for s in tqdm([\"train\", \"valid\", \"test\"]):\n",
    "        eids = datamodule.eids[s]\n",
    "        \n",
    "        if s==\"train\":  dataset = datamodule.train_dataloader(shuffle=False, drop_last=False).dataset\n",
    "        if s==\"valid\":  dataset = datamodule.val_dataloader().dataset\n",
    "        if s==\"test\":  dataset = datamodule.test_dataloader().dataset\n",
    "\n",
    "        # extract records\n",
    "#         records_temp = pd.DataFrame.sparse.from_spmatrix(dataset.records, index=eids, columns=[f\"{c}\" for c in record_cols]).rename_axis(\"eid\")\n",
    "#         records_list.append(records_temp)\n",
    "\n",
    "        # extract exclusion & events\n",
    "        exclusions_df = dataset.exclusions\n",
    "        events_df = dataset.labels_events\n",
    "\n",
    "        times = dataset.labels_times\n",
    "        censorings = dataset.censorings\n",
    "\n",
    "        no_event_idxs = times == 0\n",
    "        print(censorings.shape)\n",
    "        print(times.shape)\n",
    "        print(no_event_idxs.shape)\n",
    "        print(censorings.values.repeat((1, times.shape[1])))\n",
    "        \n",
    "        times[no_event_idxs] = censorings.values.repeat((1, times.shape[1]))[no_event_idxs]\n",
    "        \n",
    "        1/0\n",
    "\n",
    "        times_df = pd.DataFrame(data=times, index=eids, columns=[f\"{c}_time\" for c in label_cols]).rename_axis(\"eid\")\n",
    "\n",
    "        outcomes_temp = pd.concat([exclusions_df, events_df, times_df], axis=1)\n",
    "        outcomes_list.append(outcomes_temp)\n",
    "        \n",
    "#     records_df = pd.concat(records_list, axis=0)\n",
    "    outcomes_df = pd.concat(outcomes_list, axis=0)\n",
    "        \n",
    "    return outcomes_df"
   ]
  },
  {
   "cell_type": "code",
   "execution_count": 33,
   "metadata": {
    "execution": {
     "iopub.execute_input": "2022-05-25T08:28:40.965940Z",
     "iopub.status.busy": "2022-05-25T08:28:40.965261Z",
     "iopub.status.idle": "2022-05-25T08:29:01.796008Z",
     "shell.execute_reply": "2022-05-25T08:29:01.795447Z",
     "shell.execute_reply.started": "2022-05-25T08:28:40.965924Z"
    },
    "tags": []
   },
   "outputs": [
    {
     "name": "stderr",
     "output_type": "stream",
     "text": [
      "Global seed set to 0\n"
     ]
    },
    {
     "name": "stdout",
     "output_type": "stream",
     "text": [
      "/sc-projects/sc-proj-ukb-cvd/data/2_datasets_pre/211110_anewbeginning/artifacts/phecode_definitions_220328.feather\n",
      "/sc-projects/sc-proj-ukb-cvd/data/2_datasets_pre/211110_anewbeginning/artifacts/eids_211209.yaml\n",
      "/sc-projects/sc-proj-ukb-cvd/data/2_datasets_pre/211110_anewbeginning/artifacts/baseline_covariates_220503.feather\n",
      "/sc-projects/sc-proj-ukb-cvd/data/2_datasets_pre/211110_anewbeginning/artifacts/baseline_outcomes_220412.feather\n",
      "Labels are...\n",
      "['OMOP_4306655', 'phecode_052', 'phecode_052-1', 'phecode_052-3', 'phecode_052-32', 'phecode_056', 'phecode_056-1', 'phecode_070', 'phecode_089', 'phecode_089-1', 'phecode_089-2', 'phecode_089-3', 'phecode_099', 'phecode_101', 'phecode_101-4', 'phecode_103', 'phecode_103-2', 'phecode_103-21', 'phecode_105', 'phecode_105-1', 'phecode_106', 'phecode_107', 'phecode_107-2', 'phecode_112', 'phecode_130', 'phecode_136', 'phecode_136-4', 'phecode_136-41', 'phecode_136-42', 'phecode_138', 'phecode_138-2', 'phecode_139', 'phecode_139-5', 'phecode_142', 'phecode_142-1', 'phecode_144', 'phecode_144-2', 'phecode_144-21', 'phecode_146', 'phecode_146-2', 'phecode_160', 'phecode_160-1', 'phecode_164', 'phecode_164-1', 'phecode_168', 'phecode_170', 'phecode_170-1', 'phecode_177', 'phecode_177-2', 'phecode_181', 'phecode_200', 'phecode_200-1', 'phecode_200-14', 'phecode_202', 'phecode_202-2', 'phecode_202-4', 'phecode_204', 'phecode_204-1', 'phecode_204-2', 'phecode_230', 'phecode_230-2', 'phecode_230-21', 'phecode_232', 'phecode_232-2', 'phecode_232-4', 'phecode_236', 'phecode_236-1', 'phecode_239', 'phecode_239-1', 'phecode_239-11', 'phecode_247', 'phecode_247-7', 'phecode_247-72', 'phecode_256', 'phecode_256-2', 'phecode_256-7', 'phecode_280', 'phecode_280-1', 'phecode_280-11', 'phecode_281', 'phecode_281-1', 'phecode_281-2', 'phecode_282-1', 'phecode_283', 'phecode_283-4', 'phecode_283-8', 'phecode_286', 'phecode_286-2', 'phecode_288', 'phecode_288-3', 'phecode_290', 'phecode_294', 'phecode_308', 'phecode_324', 'phecode_324-3', 'phecode_324-4', 'phecode_325', 'phecode_325-2', 'phecode_328', 'phecode_328-9', 'phecode_329', 'phecode_329-1', 'phecode_331', 'phecode_331-1', 'phecode_331-6', 'phecode_331-8', 'phecode_333', 'phecode_333-1', 'phecode_333-11', 'phecode_333-2', 'phecode_334', 'phecode_336', 'phecode_336-1', 'phecode_336-5', 'phecode_337', 'phecode_350', 'phecode_350-5', 'phecode_351', 'phecode_351-1', 'phecode_351-3', 'phecode_353', 'phecode_354', 'phecode_360', 'phecode_360-1', 'phecode_360-11', 'phecode_360-2', 'phecode_360-4', 'phecode_362', 'phecode_363', 'phecode_363-2', 'phecode_367', 'phecode_367-1', 'phecode_371', 'phecode_374', 'phecode_374-3', 'phecode_374-4', 'phecode_374-42', 'phecode_374-5', 'phecode_374-51', 'phecode_375', 'phecode_375-1', 'phecode_375-6', 'phecode_376', 'phecode_376-1', 'phecode_376-2', 'phecode_376-21', 'phecode_377', 'phecode_377-2', 'phecode_386', 'phecode_389', 'phecode_390', 'phecode_390-1', 'phecode_390-4', 'phecode_391', 'phecode_391-1', 'phecode_391-2', 'phecode_392', 'phecode_394', 'phecode_394-2', 'phecode_394-21', 'phecode_395', 'phecode_395-1', 'phecode_396', 'phecode_396-2', 'phecode_397', 'phecode_397-1', 'phecode_398', 'phecode_401', 'phecode_401-1', 'phecode_402', 'phecode_403', 'phecode_404', 'phecode_404-1', 'phecode_404-11', 'phecode_404-2', 'phecode_413', 'phecode_413-1', 'phecode_413-2', 'phecode_416', 'phecode_416-2', 'phecode_416-21', 'phecode_416-211', 'phecode_416-4', 'phecode_416-5', 'phecode_417', 'phecode_417-1', 'phecode_417-3', 'phecode_418', 'phecode_418-1', 'phecode_424', 'phecode_431', 'phecode_431-1', 'phecode_431-11', 'phecode_431-2', 'phecode_436', 'phecode_439', 'phecode_440', 'phecode_440-1', 'phecode_440-11', 'phecode_440-13', 'phecode_440-3', 'phecode_443', 'phecode_444', 'phecode_444-1', 'phecode_444-11', 'phecode_444-5', 'phecode_446', 'phecode_446-2', 'phecode_448', 'phecode_460', 'phecode_460-1', 'phecode_460-2', 'phecode_462', 'phecode_462-1', 'phecode_462-2', 'phecode_463', 'phecode_463-1', 'phecode_463-2', 'phecode_463-21', 'phecode_463-4', 'phecode_463-5', 'phecode_464', 'phecode_464-1', 'phecode_465', 'phecode_465-1', 'phecode_465-2', 'phecode_466', 'phecode_466-1', 'phecode_467', 'phecode_467-1', 'phecode_468', 'phecode_469', 'phecode_471', 'phecode_473', 'phecode_474', 'phecode_475', 'phecode_476', 'phecode_483', 'phecode_486', 'phecode_486-5', 'phecode_487', 'phecode_487-1', 'phecode_488', 'phecode_488-1', 'phecode_488-6', 'phecode_488-8', 'phecode_494', 'phecode_495', 'phecode_496', 'phecode_502', 'phecode_503', 'phecode_503-5', 'phecode_506', 'phecode_507', 'phecode_507-1', 'phecode_509', 'phecode_510', 'phecode_510-2', 'phecode_511', 'phecode_512', 'phecode_515', 'phecode_520', 'phecode_520-1', 'phecode_520-11', 'phecode_520-2', 'phecode_522', 'phecode_522-9', 'phecode_523', 'phecode_523-4', 'phecode_526', 'phecode_526-1', 'phecode_527', 'phecode_528', 'phecode_528-1', 'phecode_528-2', 'phecode_529', 'phecode_529-1', 'phecode_529-2', 'phecode_529-3', 'phecode_529-5', 'phecode_530', 'phecode_530-1', 'phecode_542', 'phecode_542-2', 'phecode_545', 'phecode_550', 'phecode_550-1', 'phecode_556', 'phecode_556-3', 'phecode_556-8', 'phecode_557', 'phecode_557-8', 'phecode_558', 'phecode_581', 'phecode_583', 'phecode_585', 'phecode_586', 'phecode_591', 'phecode_592', 'phecode_592-1', 'phecode_593', 'phecode_593-2', 'phecode_594', 'phecode_594-1', 'phecode_594-2', 'phecode_594-3', 'phecode_594-31', 'phecode_594-32', 'phecode_594-4', 'phecode_594-41', 'phecode_594-6', 'phecode_596', 'phecode_596-2', 'phecode_599', 'phecode_600', 'phecode_601', 'phecode_601-1', 'phecode_602', 'phecode_602-4', 'phecode_603', 'phecode_603-2', 'phecode_603-5', 'phecode_604', 'phecode_604-5', 'phecode_605', 'phecode_605-1', 'phecode_608', 'phecode_608-1', 'phecode_610', 'phecode_613', 'phecode_613-5', 'phecode_613-7', 'phecode_614', 'phecode_614-5', 'phecode_614-52', 'phecode_614-55', 'phecode_618', 'phecode_618-1', 'phecode_618-11', 'phecode_618-12', 'phecode_618-2', 'phecode_619', 'phecode_619-4', 'phecode_619-5', 'phecode_623', 'phecode_625', 'phecode_625-1', 'phecode_626', 'phecode_626-1', 'phecode_626-13', 'phecode_627', 'phecode_627-1', 'phecode_627-2', 'phecode_627-3', 'phecode_627-4', 'phecode_628', 'phecode_628-2', 'phecode_660', 'phecode_660-1', 'phecode_660-12', 'phecode_660-4', 'phecode_660-6', 'phecode_662', 'phecode_664', 'phecode_665', 'phecode_666', 'phecode_668', 'phecode_668-1', 'phecode_668-2', 'phecode_668-3', 'phecode_670', 'phecode_673', 'phecode_673-1', 'phecode_674', 'phecode_675', 'phecode_675-1', 'phecode_676', 'phecode_678', 'phecode_679', 'phecode_679-1', 'phecode_679-3', 'phecode_679-4', 'phecode_680', 'phecode_680-1', 'phecode_680-3', 'phecode_681', 'phecode_682', 'phecode_682-1', 'phecode_682-11', 'phecode_682-12', 'phecode_683', 'phecode_683-1', 'phecode_684', 'phecode_684-1', 'phecode_685', 'phecode_685-8', 'phecode_685-82', 'phecode_686', 'phecode_686-2', 'phecode_703', 'phecode_703-1', 'phecode_703-11', 'phecode_705', 'phecode_705-3', 'phecode_707', 'phecode_708', 'phecode_708-1', 'phecode_708-13', 'phecode_708-16', 'phecode_708-7', 'phecode_709', 'phecode_709-2', 'phecode_709-21', 'phecode_710', 'phecode_713', 'phecode_713-2', 'phecode_713-3', 'phecode_715', 'phecode_715-1', 'phecode_715-4', 'phecode_716', 'phecode_716-3', 'phecode_717', 'phecode_718', 'phecode_718-1', 'phecode_718-2', 'phecode_718-3', 'phecode_718-4', 'phecode_718-5', 'phecode_719', 'phecode_719-1', 'phecode_721', 'phecode_721-1', 'phecode_721-11', 'phecode_721-2', 'phecode_721-5', 'phecode_721-6', 'phecode_722', 'phecode_722-1', 'phecode_722-4', 'phecode_723', 'phecode_723-1', 'phecode_723-2', 'phecode_723-3', 'phecode_723-4', 'phecode_723-5', 'phecode_723-51', 'phecode_723-6', 'phecode_724', 'phecode_724-1', 'phecode_726', 'phecode_726-1', 'phecode_727', 'phecode_728', 'phecode_728-3', 'phecode_731', 'phecode_732', 'phecode_733', 'phecode_733-6', 'phecode_800', 'phecode_800-1', 'phecode_800-11', 'phecode_801', 'phecode_802', 'phecode_804', 'phecode_805', 'phecode_807', 'phecode_807-1', 'phecode_808', 'phecode_809', 'phecode_809-3', 'phecode_812', 'phecode_819', 'phecode_823', 'phecode_823-2', 'phecode_829', 'phecode_829-2', 'phecode_830', 'phecode_831', 'phecode_832', 'phecode_832-5', 'phecode_832-6', 'phecode_835', 'phecode_840', 'phecode_840-2', 'phecode_840-8', 'phecode_841', 'phecode_841-1', 'phecode_848', 'phecode_848-2', 'phecode_969', 'phecode_977', 'phecode_977-4', 'phecode_977-41', 'phecode_977-5', 'phecode_977-52', 'phecode_977-7', 'phecode_977-72']\n",
      "Generating train dataset...\n",
      "         age_at_recruitment_f21022_0_0 sex_f31_0_0  \\\n",
      "eid                                                  \n",
      "1000128                           50.0      Female   \n",
      "1000206                           43.0        Male   \n",
      "1000212                           64.0      Female   \n",
      "1000270                           68.0      Female   \n",
      "1000355                           42.0        Male   \n",
      "\n",
      "        ethnic_background_f21000_0_0 uk_biobank_assessment_centre_f54_0_0  \n",
      "eid                                                                        \n",
      "1000128                      British                            Sheffield  \n",
      "1000206                      British                            Sheffield  \n",
      "1000212                      British                            Sheffield  \n",
      "1000270                      British                            Sheffield  \n",
      "1000355                      British                            Sheffield  \n",
      "Generating valid dataset...\n",
      "         age_at_recruitment_f21022_0_0 sex_f31_0_0  \\\n",
      "eid                                                  \n",
      "5337790                           64.0        Male   \n",
      "5337809                           63.0      Female   \n",
      "5337950                           45.0      Female   \n",
      "5338043                           61.0      Female   \n",
      "5338051                           55.0        Male   \n",
      "\n",
      "        ethnic_background_f21000_0_0 uk_biobank_assessment_centre_f54_0_0  \n",
      "eid                                                                        \n",
      "5337790                      British                              Reading  \n",
      "5337809                      British                              Reading  \n",
      "5337950                      British                              Reading  \n",
      "5338043                      British                              Reading  \n",
      "5338051                      British                              Reading  \n"
     ]
    },
    {
     "data": {
      "application/vnd.jupyter.widget-view+json": {
       "model_id": "51ad5c9b34d0430f89ed0392e0b48e8b",
       "version_major": 2,
       "version_minor": 0
      },
      "text/plain": [
       "  0%|          | 0/3 [00:00<?, ?it/s]"
      ]
     },
     "metadata": {},
     "output_type": "display_data"
    },
    {
     "name": "stdout",
     "output_type": "stream",
     "text": [
      "(47354, 1)\n",
      "(47354, 498)\n",
      "(47354, 498)\n"
     ]
    },
    {
     "ename": "ValueError",
     "evalue": "operands could not be broadcast together with shape (47354,) (2,)",
     "output_type": "error",
     "traceback": [
      "\u001b[0;31m---------------------------------------------------------------------------\u001b[0m",
      "\u001b[0;31mValueError\u001b[0m                                Traceback (most recent call last)",
      "\u001b[0;32m/tmp/ipykernel_828599/1721997991.py\u001b[0m in \u001b[0;36m<module>\u001b[0;34m\u001b[0m\n\u001b[1;32m      3\u001b[0m \u001b[0;34m\u001b[0m\u001b[0m\n\u001b[1;32m      4\u001b[0m \u001b[0;31m#args = compose(config_name=\"config\", overrides=[f\"datamodule.partition={partition}\"])\u001b[0m\u001b[0;34m\u001b[0m\u001b[0;34m\u001b[0m\u001b[0m\n\u001b[0;32m----> 5\u001b[0;31m \u001b[0mrecords_df\u001b[0m\u001b[0;34m,\u001b[0m \u001b[0moutcomes_df\u001b[0m \u001b[0;34m=\u001b[0m \u001b[0mextract_records_events_times\u001b[0m\u001b[0;34m(\u001b[0m\u001b[0margs\u001b[0m\u001b[0;34m)\u001b[0m\u001b[0;34m\u001b[0m\u001b[0;34m\u001b[0m\u001b[0m\n\u001b[0m",
      "\u001b[0;32m/tmp/ipykernel_828599/2794226407.py\u001b[0m in \u001b[0;36mextract_records_events_times\u001b[0;34m(args)\u001b[0m\n\u001b[1;32m     32\u001b[0m         \u001b[0mprint\u001b[0m\u001b[0;34m(\u001b[0m\u001b[0mtimes\u001b[0m\u001b[0;34m.\u001b[0m\u001b[0mshape\u001b[0m\u001b[0;34m)\u001b[0m\u001b[0;34m\u001b[0m\u001b[0;34m\u001b[0m\u001b[0m\n\u001b[1;32m     33\u001b[0m         \u001b[0mprint\u001b[0m\u001b[0;34m(\u001b[0m\u001b[0mno_event_idxs\u001b[0m\u001b[0;34m.\u001b[0m\u001b[0mshape\u001b[0m\u001b[0;34m)\u001b[0m\u001b[0;34m\u001b[0m\u001b[0;34m\u001b[0m\u001b[0m\n\u001b[0;32m---> 34\u001b[0;31m         \u001b[0mprint\u001b[0m\u001b[0;34m(\u001b[0m\u001b[0mcensorings\u001b[0m\u001b[0;34m.\u001b[0m\u001b[0mvalues\u001b[0m\u001b[0;34m.\u001b[0m\u001b[0mrepeat\u001b[0m\u001b[0;34m(\u001b[0m\u001b[0;34m(\u001b[0m\u001b[0;36m1\u001b[0m\u001b[0;34m,\u001b[0m \u001b[0mtimes\u001b[0m\u001b[0;34m.\u001b[0m\u001b[0mshape\u001b[0m\u001b[0;34m[\u001b[0m\u001b[0;36m1\u001b[0m\u001b[0;34m]\u001b[0m\u001b[0;34m)\u001b[0m\u001b[0;34m)\u001b[0m\u001b[0;34m)\u001b[0m\u001b[0;34m\u001b[0m\u001b[0;34m\u001b[0m\u001b[0m\n\u001b[0m\u001b[1;32m     35\u001b[0m \u001b[0;34m\u001b[0m\u001b[0m\n\u001b[1;32m     36\u001b[0m         \u001b[0mtimes\u001b[0m\u001b[0;34m[\u001b[0m\u001b[0mno_event_idxs\u001b[0m\u001b[0;34m]\u001b[0m \u001b[0;34m=\u001b[0m \u001b[0mcensorings\u001b[0m\u001b[0;34m.\u001b[0m\u001b[0mvalues\u001b[0m\u001b[0;34m.\u001b[0m\u001b[0mrepeat\u001b[0m\u001b[0;34m(\u001b[0m\u001b[0;34m(\u001b[0m\u001b[0;36m1\u001b[0m\u001b[0;34m,\u001b[0m \u001b[0mtimes\u001b[0m\u001b[0;34m.\u001b[0m\u001b[0mshape\u001b[0m\u001b[0;34m[\u001b[0m\u001b[0;36m1\u001b[0m\u001b[0;34m]\u001b[0m\u001b[0;34m)\u001b[0m\u001b[0;34m)\u001b[0m\u001b[0;34m[\u001b[0m\u001b[0mno_event_idxs\u001b[0m\u001b[0;34m]\u001b[0m\u001b[0;34m\u001b[0m\u001b[0;34m\u001b[0m\u001b[0m\n",
      "\u001b[0;31mValueError\u001b[0m: operands could not be broadcast together with shape (47354,) (2,)"
     ]
    }
   ],
   "source": [
    "from retinalrisk.training import setup_training\n",
    "seed_everything(0)\n",
    "\n",
    "#args = compose(config_name=\"config\", overrides=[f\"datamodule.partition={partition}\"])\n",
    "records_df, outcomes_df = extract_records_events_times(args)"
   ]
  },
  {
   "cell_type": "markdown",
   "metadata": {},
   "source": [
    "## Write Records"
   ]
  },
  {
   "cell_type": "code",
   "execution_count": null,
   "metadata": {
    "execution": {
     "iopub.status.busy": "2022-05-25T08:15:31.580021Z",
     "iopub.status.idle": "2022-05-25T08:15:31.580203Z",
     "shell.execute_reply": "2022-05-25T08:15:31.580111Z",
     "shell.execute_reply.started": "2022-05-25T08:15:31.580102Z"
    },
    "tags": []
   },
   "outputs": [],
   "source": [
    "records_df.info()"
   ]
  },
  {
   "cell_type": "code",
   "execution_count": 7,
   "metadata": {
    "execution": {
     "iopub.execute_input": "2022-04-12T08:37:24.718891Z",
     "iopub.status.busy": "2022-04-12T08:37:24.718774Z",
     "iopub.status.idle": "2022-04-12T08:50:36.374145Z",
     "shell.execute_reply": "2022-04-12T08:50:36.373661Z",
     "shell.execute_reply.started": "2022-04-12T08:37:24.718875Z"
    },
    "tags": []
   },
   "outputs": [
    {
     "data": {
      "application/vnd.jupyter.widget-view+json": {
       "model_id": "8a8288af326f4d4bacc5a9497da8578c",
       "version_major": 2,
       "version_minor": 0
      },
      "text/plain": [
       "  0%|          | 0/68527 [00:00<?, ?it/s]"
      ]
     },
     "metadata": {},
     "output_type": "display_data"
    }
   ],
   "source": [
    "for c in tqdm(records_df.columns):\n",
    "    records_df[c] = records_df[c].astype(bool).sparse.to_dense()"
   ]
  },
  {
   "cell_type": "code",
   "execution_count": 45,
   "metadata": {
    "execution": {
     "iopub.execute_input": "2022-04-12T09:26:35.199298Z",
     "iopub.status.busy": "2022-04-12T09:26:35.199101Z",
     "iopub.status.idle": "2022-04-12T09:28:32.755947Z",
     "shell.execute_reply": "2022-04-12T09:28:32.755391Z",
     "shell.execute_reply.started": "2022-04-12T09:26:35.199282Z"
    }
   },
   "outputs": [],
   "source": [
    "records_df = records_df.sort_index()"
   ]
  },
  {
   "cell_type": "code",
   "execution_count": 46,
   "metadata": {
    "execution": {
     "iopub.execute_input": "2022-04-12T09:28:32.757135Z",
     "iopub.status.busy": "2022-04-12T09:28:32.756984Z",
     "iopub.status.idle": "2022-04-12T09:28:36.101774Z",
     "shell.execute_reply": "2022-04-12T09:28:36.101439Z",
     "shell.execute_reply.started": "2022-04-12T09:28:32.757119Z"
    },
    "tags": []
   },
   "outputs": [
    {
     "name": "stdout",
     "output_type": "stream",
     "text": [
      "<class 'pandas.core.frame.DataFrame'>\n",
      "Int64Index: 502460 entries, 1000018 to 6025198\n",
      "Columns: 68527 entries, OMOP_1000560 to OMOP_998415\n",
      "dtypes: bool(68527)\n",
      "memory usage: 32.1 GB\n"
     ]
    }
   ],
   "source": [
    "records_df.info()"
   ]
  },
  {
   "cell_type": "code",
   "execution_count": 47,
   "metadata": {
    "execution": {
     "iopub.execute_input": "2022-04-12T09:28:36.102532Z",
     "iopub.status.busy": "2022-04-12T09:28:36.102326Z",
     "iopub.status.idle": "2022-04-12T09:29:38.664023Z",
     "shell.execute_reply": "2022-04-12T09:29:38.663395Z",
     "shell.execute_reply.started": "2022-04-12T09:28:36.102518Z"
    },
    "tags": []
   },
   "outputs": [],
   "source": [
    "records_df.reset_index().to_feather(f\"{output_path}/baseline_records_{artifact_date}.feather\")"
   ]
  },
  {
   "cell_type": "markdown",
   "metadata": {},
   "source": [
    "## Write Outcomes"
   ]
  },
  {
   "cell_type": "code",
   "execution_count": 10,
   "metadata": {
    "execution": {
     "iopub.execute_input": "2022-04-12T08:51:52.608719Z",
     "iopub.status.busy": "2022-04-12T08:51:52.608357Z",
     "iopub.status.idle": "2022-04-12T09:05:12.689727Z",
     "shell.execute_reply": "2022-04-12T09:05:12.689252Z",
     "shell.execute_reply.started": "2022-04-12T08:51:52.608670Z"
    }
   },
   "outputs": [
    {
     "data": {
      "application/vnd.jupyter.widget-view+json": {
       "model_id": "81f1cf6734c2406fb89886cc3ed78851",
       "version_major": 2,
       "version_minor": 0
      },
      "text/plain": [
       "  0%|          | 0/5052 [00:00<?, ?it/s]"
      ]
     },
     "metadata": {},
     "output_type": "display_data"
    }
   ],
   "source": [
    "for c in tqdm(outcomes_df.columns):\n",
    "    if c.endswith(\"_prev\") or c.endswith(\"_event\"):\n",
    "        outcomes_df[c] = outcomes_df[c].astype(bool).sparse.to_dense()\n",
    "    if c.endswith(\"_time\"):\n",
    "        outcomes_df[c] = outcomes_df[c].astype(np.float32)"
   ]
  },
  {
   "cell_type": "code",
   "execution_count": 48,
   "metadata": {
    "execution": {
     "iopub.execute_input": "2022-04-12T09:30:24.731078Z",
     "iopub.status.busy": "2022-04-12T09:30:24.730751Z",
     "iopub.status.idle": "2022-04-12T09:30:27.374250Z",
     "shell.execute_reply": "2022-04-12T09:30:27.373773Z",
     "shell.execute_reply.started": "2022-04-12T09:30:24.731060Z"
    }
   },
   "outputs": [],
   "source": [
    "outcomes_df = outcomes_df.sort_index()"
   ]
  },
  {
   "cell_type": "code",
   "execution_count": 49,
   "metadata": {
    "execution": {
     "iopub.execute_input": "2022-04-12T09:30:28.363738Z",
     "iopub.status.busy": "2022-04-12T09:30:28.363360Z",
     "iopub.status.idle": "2022-04-12T09:30:28.505538Z",
     "shell.execute_reply": "2022-04-12T09:30:28.505034Z",
     "shell.execute_reply.started": "2022-04-12T09:30:28.363720Z"
    },
    "tags": []
   },
   "outputs": [
    {
     "name": "stdout",
     "output_type": "stream",
     "text": [
      "<class 'pandas.core.frame.DataFrame'>\n",
      "Int64Index: 502460 entries, 1000018 to 6025198\n",
      "Columns: 5052 entries, OMOP_4306655_prev to phecode_240_time\n",
      "dtypes: bool(3368), float32(1684)\n",
      "memory usage: 4.7 GB\n"
     ]
    }
   ],
   "source": [
    "outcomes_df.info()"
   ]
  },
  {
   "cell_type": "code",
   "execution_count": 50,
   "metadata": {
    "execution": {
     "iopub.execute_input": "2022-04-12T09:30:31.917907Z",
     "iopub.status.busy": "2022-04-12T09:30:31.917606Z",
     "iopub.status.idle": "2022-04-12T09:30:59.585001Z",
     "shell.execute_reply": "2022-04-12T09:30:59.584473Z",
     "shell.execute_reply.started": "2022-04-12T09:30:31.917888Z"
    },
    "tags": []
   },
   "outputs": [],
   "source": [
    "outcomes_df.reset_index().to_feather(f\"{output_path}/baseline_outcomes_{artifact_date}.feather\")"
   ]
  },
  {
   "cell_type": "markdown",
   "metadata": {},
   "source": [
    "### Outcomes long"
   ]
  },
  {
   "cell_type": "code",
   "execution_count": 51,
   "metadata": {
    "execution": {
     "iopub.execute_input": "2022-04-12T09:31:08.985485Z",
     "iopub.status.busy": "2022-04-12T09:31:08.985265Z",
     "iopub.status.idle": "2022-04-12T09:31:08.993272Z",
     "shell.execute_reply": "2022-04-12T09:31:08.992971Z",
     "shell.execute_reply.started": "2022-04-12T09:31:08.985467Z"
    },
    "tags": []
   },
   "outputs": [],
   "source": [
    "endpoints = sorted(outcomes_df.columns.str.replace(\"_prev|_event|_time\", \"\", regex=True).unique().tolist())"
   ]
  },
  {
   "cell_type": "code",
   "execution_count": 52,
   "metadata": {
    "execution": {
     "iopub.execute_input": "2022-04-12T09:31:09.700108Z",
     "iopub.status.busy": "2022-04-12T09:31:09.699977Z",
     "iopub.status.idle": "2022-04-12T09:31:09.702202Z",
     "shell.execute_reply": "2022-04-12T09:31:09.701932Z",
     "shell.execute_reply.started": "2022-04-12T09:31:09.700094Z"
    },
    "tags": []
   },
   "outputs": [],
   "source": [
    "outcomes_long = pd.DataFrame()"
   ]
  },
  {
   "cell_type": "code",
   "execution_count": 53,
   "metadata": {
    "execution": {
     "iopub.execute_input": "2022-04-12T09:31:10.848383Z",
     "iopub.status.busy": "2022-04-12T09:31:10.848251Z",
     "iopub.status.idle": "2022-04-12T09:31:17.383288Z",
     "shell.execute_reply": "2022-04-12T09:31:17.382880Z",
     "shell.execute_reply.started": "2022-04-12T09:31:10.848369Z"
    },
    "tags": []
   },
   "outputs": [
    {
     "data": {
      "application/vnd.jupyter.widget-view+json": {
       "model_id": "258e2bfdf4474effa5021f4dacc4c651",
       "version_major": 2,
       "version_minor": 0
      },
      "text/plain": [
       "  0%|          | 0/1684 [00:00<?, ?it/s]"
      ]
     },
     "metadata": {},
     "output_type": "display_data"
    }
   ],
   "source": [
    "outcomes_df_list = []\n",
    "cols = [\"prev\", \"event\", \"time\"]\n",
    "for e in tqdm(endpoints):\n",
    "    temp = outcomes_df[[f\"{e}_{c}\" for c in cols]].assign(endpoint = e)\n",
    "    temp.columns = cols + [\"endpoint\"]\n",
    "    outcomes_df_list.append(temp)"
   ]
  },
  {
   "cell_type": "code",
   "execution_count": 54,
   "metadata": {
    "execution": {
     "iopub.execute_input": "2022-04-12T09:32:36.326869Z",
     "iopub.status.busy": "2022-04-12T09:32:36.326294Z",
     "iopub.status.idle": "2022-04-12T09:33:40.499303Z",
     "shell.execute_reply": "2022-04-12T09:33:40.498623Z",
     "shell.execute_reply.started": "2022-04-12T09:32:36.326852Z"
    },
    "tags": []
   },
   "outputs": [],
   "source": [
    "outcomes_long = pd.concat(outcomes_df_list,\n",
    "                          axis=0)[[\"endpoint\"] + cols].assign(endpoint = lambda x: x.endpoint.astype(\"category\")).reset_index()"
   ]
  },
  {
   "cell_type": "code",
   "execution_count": 55,
   "metadata": {
    "execution": {
     "iopub.execute_input": "2022-04-12T09:33:42.313666Z",
     "iopub.status.busy": "2022-04-12T09:33:42.313246Z",
     "iopub.status.idle": "2022-04-12T09:33:42.321920Z",
     "shell.execute_reply": "2022-04-12T09:33:42.321597Z",
     "shell.execute_reply.started": "2022-04-12T09:33:42.313646Z"
    },
    "tags": []
   },
   "outputs": [
    {
     "name": "stdout",
     "output_type": "stream",
     "text": [
      "<class 'pandas.core.frame.DataFrame'>\n",
      "RangeIndex: 846142640 entries, 0 to 846142639\n",
      "Data columns (total 5 columns):\n",
      " #   Column    Dtype   \n",
      "---  ------    -----   \n",
      " 0   eid       int64   \n",
      " 1   endpoint  category\n",
      " 2   prev      bool    \n",
      " 3   event     bool    \n",
      " 4   time      float32 \n",
      "dtypes: bool(2), category(1), float32(1), int64(1)\n",
      "memory usage: 12.6 GB\n"
     ]
    }
   ],
   "source": [
    "outcomes_long.info()"
   ]
  },
  {
   "cell_type": "code",
   "execution_count": 56,
   "metadata": {
    "execution": {
     "iopub.execute_input": "2022-04-12T09:33:46.443195Z",
     "iopub.status.busy": "2022-04-12T09:33:46.443040Z",
     "iopub.status.idle": "2022-04-12T09:34:41.665669Z",
     "shell.execute_reply": "2022-04-12T09:34:41.664953Z",
     "shell.execute_reply.started": "2022-04-12T09:33:46.443179Z"
    },
    "tags": []
   },
   "outputs": [],
   "source": [
    "outcomes_long.to_feather(f\"{output_path}/baseline_outcomes_long_{artifact_date}.feather\")"
   ]
  }
 ],
 "metadata": {
  "interpreter": {
   "hash": "7fb005937abf8310e947cacdef9aa24b4c9570846765db425bfb20f46bc066c7"
  },
  "kernelspec": {
   "display_name": "ehrgraphs",
   "language": "python",
   "name": "ehrgraphs"
  },
  "language_info": {
   "codemirror_mode": {
    "name": "ipython",
    "version": 3
   },
   "file_extension": ".py",
   "mimetype": "text/x-python",
   "name": "python",
   "nbconvert_exporter": "python",
   "pygments_lexer": "ipython3",
   "version": "3.9.7"
  }
 },
 "nbformat": 4,
 "nbformat_minor": 4
}
