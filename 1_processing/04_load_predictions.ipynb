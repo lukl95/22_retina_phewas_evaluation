{
 "cells": [
  {
   "cell_type": "code",
   "execution_count": 1,
   "metadata": {
    "tags": []
   },
   "outputs": [],
   "source": [
    "import numpy as np\n",
    "import pandas as pd\n",
    "import pathlib\n",
    "from tqdm.auto import tqdm\n",
    "\n",
    "import hydra\n",
    "from omegaconf import DictConfig, OmegaConf\n",
    "\n",
    "import torch\n",
    "#from torch_geometric import seed_everything\n",
    "\n",
    "import ray"
   ]
  },
  {
   "cell_type": "code",
   "execution_count": 2,
   "metadata": {
    "tags": []
   },
   "outputs": [
    {
     "name": "stdout",
     "output_type": "stream",
     "text": [
      "/sc-projects/sc-proj-ukb-cvd\n"
     ]
    }
   ],
   "source": [
    "node = !hostname\n",
    "if \"sc\" in node[0]:\n",
    "    base_path = \"/sc-projects/sc-proj-ukb-cvd\"\n",
    "else: \n",
    "    base_path = \"/data/analysis/ag-reils/ag-reils-shared/cardioRS\"\n",
    "print(base_path)\n",
    "\n",
    "project_label = \"22_retina_phewas_220603_fullrun\"\n",
    "project_path = f\"{base_path}/results/projects/{project_label}\"\n",
    "figure_path = f\"{project_path}/figures\"\n",
    "output_path = f\"{project_path}/data\"\n",
    "\n",
    "pathlib.Path(figure_path).mkdir(parents=True, exist_ok=True)\n",
    "pathlib.Path(output_path).mkdir(parents=True, exist_ok=True)\n",
    "\n",
    "experiment = '220603_fullrun'\n",
    "experiment_path = f\"{output_path}/{experiment}\"\n",
    "pathlib.Path(experiment_path).mkdir(parents=True, exist_ok=True)\n",
    "\n",
    "name_dict = {\n",
    "    \"predictions_cropratio0.3\": \"ConvNextSmall(Retina)+MLP_cropratio0.3\",\n",
    "    \"predictions_cropratio0.5\": \"ConvNextSmall(Retina)+MLP_cropratio0.5\",\n",
    "    \"predictions_cropratio0.8\": \"ConvNextSmall(Retina)+MLP_cropratio0.8\",\n",
    "}\n",
    "\n",
    "partitions = [i for i in range(22)]\n",
    "partitions"
   ]
  },
  {
   "cell_type": "code",
   "execution_count": 3,
   "metadata": {},
   "outputs": [],
   "source": [
    "endpoint_columns = sorted([l.replace('_prevalent', '') for l in list(pd.read_csv('/sc-projects/sc-proj-ukb-cvd/results/projects/22_retinal_risk/data/220602/endpoints.csv').endpoint.values)])"
   ]
  },
  {
   "cell_type": "code",
   "execution_count": 4,
   "metadata": {
    "tags": []
   },
   "outputs": [
    {
     "data": {
      "text/plain": [
       "RayContext(dashboard_url='', python_version='3.9.7', ray_version='1.12.1', ray_commit='4863e33856b54ccf8add5cbe75e41558850a1b75', address_info={'node_ip_address': '10.32.105.3', 'raylet_ip_address': '10.32.105.3', 'redis_address': None, 'object_store_address': '/tmp/ray/session_2022-06-22_23-07-33_053617_2867176/sockets/plasma_store', 'raylet_socket_name': '/tmp/ray/session_2022-06-22_23-07-33_053617_2867176/sockets/raylet', 'webui_url': '', 'session_dir': '/tmp/ray/session_2022-06-22_23-07-33_053617_2867176', 'metrics_export_port': 63529, 'gcs_address': '10.32.105.3:6379', 'address': '10.32.105.3:6379', 'node_id': '73cd632bd19b155e9337bb2335f96117c6cde321e3b587c86b37604b'})"
      ]
     },
     "execution_count": 4,
     "metadata": {},
     "output_type": "execute_result"
    }
   ],
   "source": [
    "#ray.shutdown()\n",
    "#ray.init(num_cpus=24)\n",
    "ray.init(address='auto')"
   ]
  },
  {
   "cell_type": "code",
   "execution_count": 5,
   "metadata": {
    "tags": []
   },
   "outputs": [],
   "source": [
    "import wandb\n",
    "api = wandb.Api()\n",
    "entity, project = \"cardiors\", \"retina\"  # 'll-cha'\n",
    "tag = '220603_fullrun'\n",
    "runs = api.runs(entity + \"/\" + project, filters={\"tags\": {\"$in\": [tag]}}) "
   ]
  },
  {
   "cell_type": "code",
   "execution_count": 6,
   "metadata": {
    "tags": []
   },
   "outputs": [
    {
     "data": {
      "application/vnd.jupyter.widget-view+json": {
       "model_id": "eb69a2a92264410ab3fcdec898bed67e",
       "version_major": 2,
       "version_minor": 0
      },
      "text/plain": [
       "  0%|          | 0/22 [00:00<?, ?it/s]"
      ]
     },
     "metadata": {},
     "output_type": "display_data"
    }
   ],
   "source": [
    "run_list = []\n",
    "for run in tqdm(runs): \n",
    "    run_list.append(\n",
    "        {\n",
    "            #\"id\": run.path[-1], \n",
    "            \"id\": run.id, \n",
    "            \"name\": run.name,\n",
    "            \"tags\": run.tags,\n",
    "            \"config\": {k: v for k,v in run.config.items() if not k.startswith('_')},\n",
    "            \"summary\": run.summary._json_dict,\n",
    "            #\"path\": None if \"predictions_path\" not in run.config.keys() else str(pathlib.Path(run.config[\"predictions_path\"]))\n",
    "            'path': f'/sc-projects/sc-proj-ukb-cvd/results/models/retina/{run.id}/checkpoints/predictions/'\n",
    "        }\n",
    "    )"
   ]
  },
  {
   "cell_type": "code",
   "execution_count": 7,
   "metadata": {
    "tags": []
   },
   "outputs": [
    {
     "name": "stdout",
     "output_type": "stream",
     "text": [
      "/sc-projects/sc-proj-ukb-cvd/results/models/retina/i4np1grc/checkpoints/predictions/\n"
     ]
    }
   ],
   "source": [
    "runs_df = pd.DataFrame(run_list)\n",
    "print(runs_df['path'].iloc[0])"
   ]
  },
  {
   "cell_type": "code",
   "execution_count": 8,
   "metadata": {
    "tags": []
   },
   "outputs": [],
   "source": [
    "#tag = experiment # or 'your_experiment_tag'\n",
    "# runs_df = runs_df[runs_df.tags.astype(str).str.contains(tag)].query(\"path==path\")\n",
    "#runs_df = runs_df[runs_df.id.astype(str).str.contains(tag)].query(\"path==path\")\n",
    "#runs_df"
   ]
  },
  {
   "cell_type": "markdown",
   "metadata": {},
   "source": [
    "## Process Predictions"
   ]
  },
  {
   "cell_type": "code",
   "execution_count": 11,
   "metadata": {
    "tags": []
   },
   "outputs": [],
   "source": [
    "id_vars = [\"eid\", \"model\", \"partition\", \"split\"]"
   ]
  },
  {
   "cell_type": "code",
   "execution_count": 12,
   "metadata": {
    "tags": []
   },
   "outputs": [],
   "source": [
    "out_path = f\"{experiment_path}/loghs\"\n",
    "pathlib.Path(out_path).mkdir(parents=True, exist_ok=True)"
   ]
  },
  {
   "cell_type": "code",
   "execution_count": 13,
   "metadata": {
    "tags": []
   },
   "outputs": [],
   "source": [
    "@ray.remote\n",
    "def prepare_predictions(in_path, out_path):\n",
    "    for cr in name_dict.keys():\n",
    "        in_path_cr = f'{in_path}{cr}.feather'\n",
    "        temp = pd.read_feather(in_path_cr).rename(columns={\"index\": \"eid\"}).set_index('eid')\n",
    "        # mean duplicated indices aka left and right eye value per eid\n",
    "        temp_with_meaned_test_preds = temp.groupby(level=0).mean()\n",
    "        for col in temp.columns.values:\n",
    "            if col not in endpoint_columns:\n",
    "                temp_with_meaned_test_preds[col] = temp[col].iloc[~temp.index.duplicated()].values\n",
    "        temp = temp_with_meaned_test_preds.reset_index(drop=False)\n",
    "\n",
    "        # rename 10_1_Ft__ and dropping ft and St cols if present\n",
    "        cols_to_drop = []\n",
    "        cols_to_rename = {}\n",
    "        for col in temp.columns.values:\n",
    "            if 'ft' in col:\n",
    "                cols_to_drop.append(col)\n",
    "            elif 'St' in col:\n",
    "                cols_to_drop.append(col)\n",
    "            elif 'Ft' in col:\n",
    "                cols_to_rename[col] = col.replace('1_10_Ft__', '')\n",
    "\n",
    "        temp['record_cols'] = None\n",
    "\n",
    "        temp[\"model\"] = (temp.module.astype(str) + \"_\" + temp.covariate_cols.astype(str) + \"_\" + temp.encoder.astype(str) + \"_\" + temp[\"head\"].astype(str)).astype(\"category\")\n",
    "        temp = temp.replace({\"model\":name_dict}).drop(columns=[\"module\", \"encoder\", \"head\", \"covariate_cols\", \"record_cols\"]).drop(columns=cols_to_drop).rename(columns=cols_to_rename)\n",
    "        for c in id_vars: temp[c] = temp[c].astype(\"category\")\n",
    "\n",
    "        model = temp.model.unique()[0]\n",
    "        model = f'{model}_{cr}'\n",
    "        partition = temp.partition.unique()[0]\n",
    "        for split in [\"train\", \"valid\", \"test\"]: #\"test_left\", 'test_right'\n",
    "            fp_out = f\"{out_path}/{model}/{partition}\"\n",
    "            pathlib.Path(fp_out).mkdir(parents=True, exist_ok=True)\n",
    "            t = temp.query(\"split==@split\")\n",
    "            t.reset_index(drop=True).to_feather(f\"{fp_out}/{split}.feather\")\n",
    "            print(f\"{fp_out}/{split}.feather\")"
   ]
  },
  {
   "cell_type": "code",
   "execution_count": null,
   "metadata": {},
   "outputs": [],
   "source": []
  },
  {
   "cell_type": "code",
   "execution_count": 14,
   "metadata": {
    "tags": []
   },
   "outputs": [
    {
     "data": {
      "application/vnd.jupyter.widget-view+json": {
       "model_id": "7a8ae4157e274717a1990920b86a92fd",
       "version_major": 2,
       "version_minor": 0
      },
      "text/plain": [
       "  0%|          | 0/22 [00:00<?, ?it/s]"
      ]
     },
     "metadata": {},
     "output_type": "display_data"
    },
    {
     "name": "stdout",
     "output_type": "stream",
     "text": [
      "\u001b[2m\u001b[1m\u001b[36m(scheduler +34s)\u001b[0m Tip: use `ray status` to view detailed cluster status. To disable these messages, set RAY_SCHEDULER_EVENTS=0.\n",
      "\u001b[2m\u001b[1m\u001b[33m(scheduler +34s)\u001b[0m Warning: The following resource request cannot be scheduled right now: {'CPU': 1.0}. This is likely due to all cluster resources being claimed by actors. Consider creating fewer actors or adding more nodes to this Ray cluster.\n",
      "\u001b[2m\u001b[36m(prepare_predictions pid=2940331)\u001b[0m /sc-projects/sc-proj-ukb-cvd/results/projects/22_retina_phewas_220603_fullrun/data/220603_fullrun/loghs/ImageTraining_[]_ConvNeXt_MLPHead_predictions_cropratio0.3/18/train.feather\n",
      "\u001b[2m\u001b[36m(prepare_predictions pid=2940330)\u001b[0m /sc-projects/sc-proj-ukb-cvd/results/projects/22_retina_phewas_220603_fullrun/data/220603_fullrun/loghs/ImageTraining_[]_ConvNeXt_MLPHead_predictions_cropratio0.3/19/train.feather\n",
      "\u001b[2m\u001b[36m(prepare_predictions pid=2940331)\u001b[0m /sc-projects/sc-proj-ukb-cvd/results/projects/22_retina_phewas_220603_fullrun/data/220603_fullrun/loghs/ImageTraining_[]_ConvNeXt_MLPHead_predictions_cropratio0.3/18/valid.feather\n",
      "\u001b[2m\u001b[36m(prepare_predictions pid=2940331)\u001b[0m /sc-projects/sc-proj-ukb-cvd/results/projects/22_retina_phewas_220603_fullrun/data/220603_fullrun/loghs/ImageTraining_[]_ConvNeXt_MLPHead_predictions_cropratio0.3/18/test.feather\n",
      "\u001b[2m\u001b[36m(prepare_predictions pid=2940330)\u001b[0m /sc-projects/sc-proj-ukb-cvd/results/projects/22_retina_phewas_220603_fullrun/data/220603_fullrun/loghs/ImageTraining_[]_ConvNeXt_MLPHead_predictions_cropratio0.3/19/valid.feather\n",
      "\u001b[2m\u001b[36m(prepare_predictions pid=2940329)\u001b[0m /sc-projects/sc-proj-ukb-cvd/results/projects/22_retina_phewas_220603_fullrun/data/220603_fullrun/loghs/ImageTraining_[]_ConvNeXt_MLPHead_predictions_cropratio0.3/21/train.feather\n",
      "\u001b[2m\u001b[36m(prepare_predictions pid=2940332)\u001b[0m /sc-projects/sc-proj-ukb-cvd/results/projects/22_retina_phewas_220603_fullrun/data/220603_fullrun/loghs/ImageTraining_[]_ConvNeXt_MLPHead_predictions_cropratio0.3/20/train.feather\n",
      "\u001b[2m\u001b[36m(prepare_predictions pid=2940330)\u001b[0m /sc-projects/sc-proj-ukb-cvd/results/projects/22_retina_phewas_220603_fullrun/data/220603_fullrun/loghs/ImageTraining_[]_ConvNeXt_MLPHead_predictions_cropratio0.3/19/test.feather\n",
      "\u001b[2m\u001b[36m(prepare_predictions pid=2940334)\u001b[0m /sc-projects/sc-proj-ukb-cvd/results/projects/22_retina_phewas_220603_fullrun/data/220603_fullrun/loghs/ImageTraining_[]_ConvNeXt_MLPHead_predictions_cropratio0.3/0/train.feather\n",
      "\u001b[2m\u001b[36m(prepare_predictions pid=2940329)\u001b[0m /sc-projects/sc-proj-ukb-cvd/results/projects/22_retina_phewas_220603_fullrun/data/220603_fullrun/loghs/ImageTraining_[]_ConvNeXt_MLPHead_predictions_cropratio0.3/21/valid.feather\n",
      "\u001b[2m\u001b[36m(prepare_predictions pid=2940334)\u001b[0m /sc-projects/sc-proj-ukb-cvd/results/projects/22_retina_phewas_220603_fullrun/data/220603_fullrun/loghs/ImageTraining_[]_ConvNeXt_MLPHead_predictions_cropratio0.3/0/valid.feather\n",
      "\u001b[2m\u001b[36m(prepare_predictions pid=2940332)\u001b[0m /sc-projects/sc-proj-ukb-cvd/results/projects/22_retina_phewas_220603_fullrun/data/220603_fullrun/loghs/ImageTraining_[]_ConvNeXt_MLPHead_predictions_cropratio0.3/20/valid.feather\n",
      "\u001b[2m\u001b[36m(prepare_predictions pid=2940329)\u001b[0m /sc-projects/sc-proj-ukb-cvd/results/projects/22_retina_phewas_220603_fullrun/data/220603_fullrun/loghs/ImageTraining_[]_ConvNeXt_MLPHead_predictions_cropratio0.3/21/test.feather\n",
      "\u001b[2m\u001b[36m(prepare_predictions pid=2940332)\u001b[0m /sc-projects/sc-proj-ukb-cvd/results/projects/22_retina_phewas_220603_fullrun/data/220603_fullrun/loghs/ImageTraining_[]_ConvNeXt_MLPHead_predictions_cropratio0.3/20/test.feather\n",
      "\u001b[2m\u001b[36m(prepare_predictions pid=2940336)\u001b[0m /sc-projects/sc-proj-ukb-cvd/results/projects/22_retina_phewas_220603_fullrun/data/220603_fullrun/loghs/ImageTraining_[]_ConvNeXt_MLPHead_predictions_cropratio0.3/11/train.feather\n",
      "\u001b[2m\u001b[36m(prepare_predictions pid=2940334)\u001b[0m /sc-projects/sc-proj-ukb-cvd/results/projects/22_retina_phewas_220603_fullrun/data/220603_fullrun/loghs/ImageTraining_[]_ConvNeXt_MLPHead_predictions_cropratio0.3/0/test.feather\n",
      "\u001b[2m\u001b[36m(prepare_predictions pid=2940336)\u001b[0m /sc-projects/sc-proj-ukb-cvd/results/projects/22_retina_phewas_220603_fullrun/data/220603_fullrun/loghs/ImageTraining_[]_ConvNeXt_MLPHead_predictions_cropratio0.3/11/valid.feather\n",
      "\u001b[2m\u001b[36m(prepare_predictions pid=2940336)\u001b[0m /sc-projects/sc-proj-ukb-cvd/results/projects/22_retina_phewas_220603_fullrun/data/220603_fullrun/loghs/ImageTraining_[]_ConvNeXt_MLPHead_predictions_cropratio0.3/11/test.feather\n",
      "\u001b[2m\u001b[36m(prepare_predictions pid=2940335)\u001b[0m /sc-projects/sc-proj-ukb-cvd/results/projects/22_retina_phewas_220603_fullrun/data/220603_fullrun/loghs/ImageTraining_[]_ConvNeXt_MLPHead_predictions_cropratio0.3/17/train.feather\n",
      "\u001b[2m\u001b[36m(prepare_predictions pid=2940335)\u001b[0m /sc-projects/sc-proj-ukb-cvd/results/projects/22_retina_phewas_220603_fullrun/data/220603_fullrun/loghs/ImageTraining_[]_ConvNeXt_MLPHead_predictions_cropratio0.3/17/valid.feather\n",
      "\u001b[2m\u001b[36m(prepare_predictions pid=2940335)\u001b[0m /sc-projects/sc-proj-ukb-cvd/results/projects/22_retina_phewas_220603_fullrun/data/220603_fullrun/loghs/ImageTraining_[]_ConvNeXt_MLPHead_predictions_cropratio0.3/17/test.feather\n",
      "\u001b[2m\u001b[36m(prepare_predictions pid=2940333)\u001b[0m /sc-projects/sc-proj-ukb-cvd/results/projects/22_retina_phewas_220603_fullrun/data/220603_fullrun/loghs/ImageTraining_[]_ConvNeXt_MLPHead_predictions_cropratio0.3/16/train.feather\n",
      "\u001b[2m\u001b[36m(prepare_predictions pid=2940333)\u001b[0m /sc-projects/sc-proj-ukb-cvd/results/projects/22_retina_phewas_220603_fullrun/data/220603_fullrun/loghs/ImageTraining_[]_ConvNeXt_MLPHead_predictions_cropratio0.3/16/valid.feather\n",
      "\u001b[2m\u001b[36m(prepare_predictions pid=2940333)\u001b[0m /sc-projects/sc-proj-ukb-cvd/results/projects/22_retina_phewas_220603_fullrun/data/220603_fullrun/loghs/ImageTraining_[]_ConvNeXt_MLPHead_predictions_cropratio0.3/16/test.feather\n",
      "\u001b[2m\u001b[36m(prepare_predictions pid=2940331)\u001b[0m /sc-projects/sc-proj-ukb-cvd/results/projects/22_retina_phewas_220603_fullrun/data/220603_fullrun/loghs/ImageTraining_[]_ConvNeXt_MLPHead_predictions_cropratio0.5/18/train.feather\n",
      "\u001b[2m\u001b[36m(prepare_predictions pid=2940331)\u001b[0m /sc-projects/sc-proj-ukb-cvd/results/projects/22_retina_phewas_220603_fullrun/data/220603_fullrun/loghs/ImageTraining_[]_ConvNeXt_MLPHead_predictions_cropratio0.5/18/valid.feather\n",
      "\u001b[2m\u001b[36m(prepare_predictions pid=2940331)\u001b[0m /sc-projects/sc-proj-ukb-cvd/results/projects/22_retina_phewas_220603_fullrun/data/220603_fullrun/loghs/ImageTraining_[]_ConvNeXt_MLPHead_predictions_cropratio0.5/18/test.feather\n",
      "\u001b[2m\u001b[36m(prepare_predictions pid=2940336)\u001b[0m /sc-projects/sc-proj-ukb-cvd/results/projects/22_retina_phewas_220603_fullrun/data/220603_fullrun/loghs/ImageTraining_[]_ConvNeXt_MLPHead_predictions_cropratio0.5/11/train.feather\n",
      "\u001b[2m\u001b[36m(prepare_predictions pid=2940330)\u001b[0m /sc-projects/sc-proj-ukb-cvd/results/projects/22_retina_phewas_220603_fullrun/data/220603_fullrun/loghs/ImageTraining_[]_ConvNeXt_MLPHead_predictions_cropratio0.5/19/train.feather\n",
      "\u001b[2m\u001b[36m(prepare_predictions pid=2940336)\u001b[0m /sc-projects/sc-proj-ukb-cvd/results/projects/22_retina_phewas_220603_fullrun/data/220603_fullrun/loghs/ImageTraining_[]_ConvNeXt_MLPHead_predictions_cropratio0.5/11/valid.feather\n",
      "\u001b[2m\u001b[36m(prepare_predictions pid=2940334)\u001b[0m /sc-projects/sc-proj-ukb-cvd/results/projects/22_retina_phewas_220603_fullrun/data/220603_fullrun/loghs/ImageTraining_[]_ConvNeXt_MLPHead_predictions_cropratio0.5/0/train.feather\n",
      "\u001b[2m\u001b[36m(prepare_predictions pid=2940336)\u001b[0m /sc-projects/sc-proj-ukb-cvd/results/projects/22_retina_phewas_220603_fullrun/data/220603_fullrun/loghs/ImageTraining_[]_ConvNeXt_MLPHead_predictions_cropratio0.5/11/test.feather\n",
      "\u001b[2m\u001b[36m(prepare_predictions pid=2940329)\u001b[0m /sc-projects/sc-proj-ukb-cvd/results/projects/22_retina_phewas_220603_fullrun/data/220603_fullrun/loghs/ImageTraining_[]_ConvNeXt_MLPHead_predictions_cropratio0.5/21/train.feather\n",
      "\u001b[2m\u001b[36m(prepare_predictions pid=2940330)\u001b[0m /sc-projects/sc-proj-ukb-cvd/results/projects/22_retina_phewas_220603_fullrun/data/220603_fullrun/loghs/ImageTraining_[]_ConvNeXt_MLPHead_predictions_cropratio0.5/19/valid.feather\n",
      "\u001b[2m\u001b[36m(prepare_predictions pid=2940330)\u001b[0m /sc-projects/sc-proj-ukb-cvd/results/projects/22_retina_phewas_220603_fullrun/data/220603_fullrun/loghs/ImageTraining_[]_ConvNeXt_MLPHead_predictions_cropratio0.5/19/test.feather\n",
      "\u001b[2m\u001b[36m(prepare_predictions pid=2940332)\u001b[0m /sc-projects/sc-proj-ukb-cvd/results/projects/22_retina_phewas_220603_fullrun/data/220603_fullrun/loghs/ImageTraining_[]_ConvNeXt_MLPHead_predictions_cropratio0.5/20/train.feather\n",
      "\u001b[2m\u001b[36m(prepare_predictions pid=2940334)\u001b[0m /sc-projects/sc-proj-ukb-cvd/results/projects/22_retina_phewas_220603_fullrun/data/220603_fullrun/loghs/ImageTraining_[]_ConvNeXt_MLPHead_predictions_cropratio0.5/0/valid.feather\n",
      "\u001b[2m\u001b[36m(prepare_predictions pid=2940329)\u001b[0m /sc-projects/sc-proj-ukb-cvd/results/projects/22_retina_phewas_220603_fullrun/data/220603_fullrun/loghs/ImageTraining_[]_ConvNeXt_MLPHead_predictions_cropratio0.5/21/valid.feather\n",
      "\u001b[2m\u001b[36m(prepare_predictions pid=2940329)\u001b[0m /sc-projects/sc-proj-ukb-cvd/results/projects/22_retina_phewas_220603_fullrun/data/220603_fullrun/loghs/ImageTraining_[]_ConvNeXt_MLPHead_predictions_cropratio0.5/21/test.feather\n",
      "\u001b[2m\u001b[36m(prepare_predictions pid=2940335)\u001b[0m /sc-projects/sc-proj-ukb-cvd/results/projects/22_retina_phewas_220603_fullrun/data/220603_fullrun/loghs/ImageTraining_[]_ConvNeXt_MLPHead_predictions_cropratio0.5/17/train.feather\n",
      "\u001b[2m\u001b[36m(prepare_predictions pid=2940334)\u001b[0m /sc-projects/sc-proj-ukb-cvd/results/projects/22_retina_phewas_220603_fullrun/data/220603_fullrun/loghs/ImageTraining_[]_ConvNeXt_MLPHead_predictions_cropratio0.5/0/test.feather\n",
      "\u001b[2m\u001b[36m(prepare_predictions pid=2940332)\u001b[0m /sc-projects/sc-proj-ukb-cvd/results/projects/22_retina_phewas_220603_fullrun/data/220603_fullrun/loghs/ImageTraining_[]_ConvNeXt_MLPHead_predictions_cropratio0.5/20/valid.feather\n",
      "\u001b[2m\u001b[36m(prepare_predictions pid=2940332)\u001b[0m /sc-projects/sc-proj-ukb-cvd/results/projects/22_retina_phewas_220603_fullrun/data/220603_fullrun/loghs/ImageTraining_[]_ConvNeXt_MLPHead_predictions_cropratio0.5/20/test.feather\n",
      "\u001b[2m\u001b[36m(prepare_predictions pid=2940335)\u001b[0m /sc-projects/sc-proj-ukb-cvd/results/projects/22_retina_phewas_220603_fullrun/data/220603_fullrun/loghs/ImageTraining_[]_ConvNeXt_MLPHead_predictions_cropratio0.5/17/valid.feather\n",
      "\u001b[2m\u001b[36m(prepare_predictions pid=2940335)\u001b[0m /sc-projects/sc-proj-ukb-cvd/results/projects/22_retina_phewas_220603_fullrun/data/220603_fullrun/loghs/ImageTraining_[]_ConvNeXt_MLPHead_predictions_cropratio0.5/17/test.feather\n",
      "\u001b[2m\u001b[36m(prepare_predictions pid=2940333)\u001b[0m /sc-projects/sc-proj-ukb-cvd/results/projects/22_retina_phewas_220603_fullrun/data/220603_fullrun/loghs/ImageTraining_[]_ConvNeXt_MLPHead_predictions_cropratio0.5/16/train.feather\n",
      "\u001b[2m\u001b[36m(prepare_predictions pid=2940333)\u001b[0m /sc-projects/sc-proj-ukb-cvd/results/projects/22_retina_phewas_220603_fullrun/data/220603_fullrun/loghs/ImageTraining_[]_ConvNeXt_MLPHead_predictions_cropratio0.5/16/valid.feather\n",
      "\u001b[2m\u001b[36m(prepare_predictions pid=2940333)\u001b[0m /sc-projects/sc-proj-ukb-cvd/results/projects/22_retina_phewas_220603_fullrun/data/220603_fullrun/loghs/ImageTraining_[]_ConvNeXt_MLPHead_predictions_cropratio0.5/16/test.feather\n",
      "\u001b[2m\u001b[36m(prepare_predictions pid=2940336)\u001b[0m /sc-projects/sc-proj-ukb-cvd/results/projects/22_retina_phewas_220603_fullrun/data/220603_fullrun/loghs/ImageTraining_[]_ConvNeXt_MLPHead_predictions_cropratio0.8/11/train.feather\n",
      "\u001b[2m\u001b[36m(prepare_predictions pid=2940336)\u001b[0m /sc-projects/sc-proj-ukb-cvd/results/projects/22_retina_phewas_220603_fullrun/data/220603_fullrun/loghs/ImageTraining_[]_ConvNeXt_MLPHead_predictions_cropratio0.8/11/valid.feather\n",
      "\u001b[2m\u001b[36m(prepare_predictions pid=2940336)\u001b[0m /sc-projects/sc-proj-ukb-cvd/results/projects/22_retina_phewas_220603_fullrun/data/220603_fullrun/loghs/ImageTraining_[]_ConvNeXt_MLPHead_predictions_cropratio0.8/11/test.feather\n",
      "\u001b[2m\u001b[36m(prepare_predictions pid=2940333)\u001b[0m /sc-projects/sc-proj-ukb-cvd/results/projects/22_retina_phewas_220603_fullrun/data/220603_fullrun/loghs/ImageTraining_[]_ConvNeXt_MLPHead_predictions_cropratio0.8/16/train.feather\n",
      "\u001b[2m\u001b[36m(prepare_predictions pid=2940333)\u001b[0m /sc-projects/sc-proj-ukb-cvd/results/projects/22_retina_phewas_220603_fullrun/data/220603_fullrun/loghs/ImageTraining_[]_ConvNeXt_MLPHead_predictions_cropratio0.8/16/valid.feather\n",
      "\u001b[2m\u001b[36m(prepare_predictions pid=2940333)\u001b[0m /sc-projects/sc-proj-ukb-cvd/results/projects/22_retina_phewas_220603_fullrun/data/220603_fullrun/loghs/ImageTraining_[]_ConvNeXt_MLPHead_predictions_cropratio0.8/16/test.feather\n",
      "\u001b[2m\u001b[36m(prepare_predictions pid=2940330)\u001b[0m /sc-projects/sc-proj-ukb-cvd/results/projects/22_retina_phewas_220603_fullrun/data/220603_fullrun/loghs/ImageTraining_[]_ConvNeXt_MLPHead_predictions_cropratio0.8/19/train.feather\n",
      "\u001b[2m\u001b[36m(prepare_predictions pid=2940330)\u001b[0m /sc-projects/sc-proj-ukb-cvd/results/projects/22_retina_phewas_220603_fullrun/data/220603_fullrun/loghs/ImageTraining_[]_ConvNeXt_MLPHead_predictions_cropratio0.8/19/valid.feather\n",
      "\u001b[2m\u001b[36m(prepare_predictions pid=2940330)\u001b[0m /sc-projects/sc-proj-ukb-cvd/results/projects/22_retina_phewas_220603_fullrun/data/220603_fullrun/loghs/ImageTraining_[]_ConvNeXt_MLPHead_predictions_cropratio0.8/19/test.feather\n",
      "\u001b[2m\u001b[36m(prepare_predictions pid=2940334)\u001b[0m /sc-projects/sc-proj-ukb-cvd/results/projects/22_retina_phewas_220603_fullrun/data/220603_fullrun/loghs/ImageTraining_[]_ConvNeXt_MLPHead_predictions_cropratio0.8/0/train.feather\n",
      "\u001b[2m\u001b[36m(prepare_predictions pid=2940334)\u001b[0m /sc-projects/sc-proj-ukb-cvd/results/projects/22_retina_phewas_220603_fullrun/data/220603_fullrun/loghs/ImageTraining_[]_ConvNeXt_MLPHead_predictions_cropratio0.8/0/valid.feather\n",
      "\u001b[2m\u001b[36m(prepare_predictions pid=2940334)\u001b[0m /sc-projects/sc-proj-ukb-cvd/results/projects/22_retina_phewas_220603_fullrun/data/220603_fullrun/loghs/ImageTraining_[]_ConvNeXt_MLPHead_predictions_cropratio0.8/0/test.feather\n",
      "\u001b[2m\u001b[36m(prepare_predictions pid=2940331)\u001b[0m /sc-projects/sc-proj-ukb-cvd/results/projects/22_retina_phewas_220603_fullrun/data/220603_fullrun/loghs/ImageTraining_[]_ConvNeXt_MLPHead_predictions_cropratio0.8/18/train.feather\n",
      "\u001b[2m\u001b[36m(prepare_predictions pid=2940331)\u001b[0m /sc-projects/sc-proj-ukb-cvd/results/projects/22_retina_phewas_220603_fullrun/data/220603_fullrun/loghs/ImageTraining_[]_ConvNeXt_MLPHead_predictions_cropratio0.8/18/valid.feather\n",
      "\u001b[2m\u001b[36m(prepare_predictions pid=2940335)\u001b[0m /sc-projects/sc-proj-ukb-cvd/results/projects/22_retina_phewas_220603_fullrun/data/220603_fullrun/loghs/ImageTraining_[]_ConvNeXt_MLPHead_predictions_cropratio0.8/17/train.feather\n",
      "\u001b[2m\u001b[36m(prepare_predictions pid=2940331)\u001b[0m /sc-projects/sc-proj-ukb-cvd/results/projects/22_retina_phewas_220603_fullrun/data/220603_fullrun/loghs/ImageTraining_[]_ConvNeXt_MLPHead_predictions_cropratio0.8/18/test.feather\n",
      "\u001b[2m\u001b[36m(prepare_predictions pid=2940335)\u001b[0m /sc-projects/sc-proj-ukb-cvd/results/projects/22_retina_phewas_220603_fullrun/data/220603_fullrun/loghs/ImageTraining_[]_ConvNeXt_MLPHead_predictions_cropratio0.8/17/valid.feather\n",
      "\u001b[2m\u001b[36m(prepare_predictions pid=2940335)\u001b[0m /sc-projects/sc-proj-ukb-cvd/results/projects/22_retina_phewas_220603_fullrun/data/220603_fullrun/loghs/ImageTraining_[]_ConvNeXt_MLPHead_predictions_cropratio0.8/17/test.feather\n",
      "\u001b[2m\u001b[36m(prepare_predictions pid=2940332)\u001b[0m /sc-projects/sc-proj-ukb-cvd/results/projects/22_retina_phewas_220603_fullrun/data/220603_fullrun/loghs/ImageTraining_[]_ConvNeXt_MLPHead_predictions_cropratio0.8/20/train.feather\n",
      "\u001b[2m\u001b[36m(prepare_predictions pid=2940336)\u001b[0m /sc-projects/sc-proj-ukb-cvd/results/projects/22_retina_phewas_220603_fullrun/data/220603_fullrun/loghs/ImageTraining_[]_ConvNeXt_MLPHead_predictions_cropratio0.3/10/train.feather\n",
      "\u001b[2m\u001b[36m(prepare_predictions pid=2940332)\u001b[0m /sc-projects/sc-proj-ukb-cvd/results/projects/22_retina_phewas_220603_fullrun/data/220603_fullrun/loghs/ImageTraining_[]_ConvNeXt_MLPHead_predictions_cropratio0.8/20/valid.feather\n",
      "\u001b[2m\u001b[36m(prepare_predictions pid=2940332)\u001b[0m /sc-projects/sc-proj-ukb-cvd/results/projects/22_retina_phewas_220603_fullrun/data/220603_fullrun/loghs/ImageTraining_[]_ConvNeXt_MLPHead_predictions_cropratio0.8/20/test.feather\n",
      "\u001b[2m\u001b[36m(prepare_predictions pid=2940336)\u001b[0m /sc-projects/sc-proj-ukb-cvd/results/projects/22_retina_phewas_220603_fullrun/data/220603_fullrun/loghs/ImageTraining_[]_ConvNeXt_MLPHead_predictions_cropratio0.3/10/valid.feather\n",
      "\u001b[2m\u001b[36m(prepare_predictions pid=2940336)\u001b[0m /sc-projects/sc-proj-ukb-cvd/results/projects/22_retina_phewas_220603_fullrun/data/220603_fullrun/loghs/ImageTraining_[]_ConvNeXt_MLPHead_predictions_cropratio0.3/10/test.feather\n",
      "\u001b[2m\u001b[36m(prepare_predictions pid=2940329)\u001b[0m /sc-projects/sc-proj-ukb-cvd/results/projects/22_retina_phewas_220603_fullrun/data/220603_fullrun/loghs/ImageTraining_[]_ConvNeXt_MLPHead_predictions_cropratio0.8/21/train.feather\n",
      "\u001b[2m\u001b[36m(prepare_predictions pid=2940329)\u001b[0m /sc-projects/sc-proj-ukb-cvd/results/projects/22_retina_phewas_220603_fullrun/data/220603_fullrun/loghs/ImageTraining_[]_ConvNeXt_MLPHead_predictions_cropratio0.8/21/valid.feather\n",
      "\u001b[2m\u001b[36m(prepare_predictions pid=2940329)\u001b[0m /sc-projects/sc-proj-ukb-cvd/results/projects/22_retina_phewas_220603_fullrun/data/220603_fullrun/loghs/ImageTraining_[]_ConvNeXt_MLPHead_predictions_cropratio0.8/21/test.feather\n",
      "\u001b[2m\u001b[36m(prepare_predictions pid=2940333)\u001b[0m /sc-projects/sc-proj-ukb-cvd/results/projects/22_retina_phewas_220603_fullrun/data/220603_fullrun/loghs/ImageTraining_[]_ConvNeXt_MLPHead_predictions_cropratio0.3/15/train.feather\n",
      "\u001b[2m\u001b[36m(prepare_predictions pid=2940333)\u001b[0m /sc-projects/sc-proj-ukb-cvd/results/projects/22_retina_phewas_220603_fullrun/data/220603_fullrun/loghs/ImageTraining_[]_ConvNeXt_MLPHead_predictions_cropratio0.3/15/valid.feather\n",
      "\u001b[2m\u001b[36m(prepare_predictions pid=2940333)\u001b[0m /sc-projects/sc-proj-ukb-cvd/results/projects/22_retina_phewas_220603_fullrun/data/220603_fullrun/loghs/ImageTraining_[]_ConvNeXt_MLPHead_predictions_cropratio0.3/15/test.feather\n",
      "\u001b[2m\u001b[36m(prepare_predictions pid=2940330)\u001b[0m /sc-projects/sc-proj-ukb-cvd/results/projects/22_retina_phewas_220603_fullrun/data/220603_fullrun/loghs/ImageTraining_[]_ConvNeXt_MLPHead_predictions_cropratio0.3/14/train.feather\n",
      "\u001b[2m\u001b[36m(prepare_predictions pid=2940330)\u001b[0m /sc-projects/sc-proj-ukb-cvd/results/projects/22_retina_phewas_220603_fullrun/data/220603_fullrun/loghs/ImageTraining_[]_ConvNeXt_MLPHead_predictions_cropratio0.3/14/valid.feather\n",
      "\u001b[2m\u001b[36m(prepare_predictions pid=2940330)\u001b[0m /sc-projects/sc-proj-ukb-cvd/results/projects/22_retina_phewas_220603_fullrun/data/220603_fullrun/loghs/ImageTraining_[]_ConvNeXt_MLPHead_predictions_cropratio0.3/14/test.feather\n",
      "\u001b[2m\u001b[36m(prepare_predictions pid=2940334)\u001b[0m /sc-projects/sc-proj-ukb-cvd/results/projects/22_retina_phewas_220603_fullrun/data/220603_fullrun/loghs/ImageTraining_[]_ConvNeXt_MLPHead_predictions_cropratio0.3/9/train.feather\n",
      "\u001b[2m\u001b[36m(prepare_predictions pid=2940334)\u001b[0m /sc-projects/sc-proj-ukb-cvd/results/projects/22_retina_phewas_220603_fullrun/data/220603_fullrun/loghs/ImageTraining_[]_ConvNeXt_MLPHead_predictions_cropratio0.3/9/valid.feather\n",
      "\u001b[2m\u001b[36m(prepare_predictions pid=2940334)\u001b[0m /sc-projects/sc-proj-ukb-cvd/results/projects/22_retina_phewas_220603_fullrun/data/220603_fullrun/loghs/ImageTraining_[]_ConvNeXt_MLPHead_predictions_cropratio0.3/9/test.feather\n",
      "\u001b[2m\u001b[36m(prepare_predictions pid=2940331)\u001b[0m /sc-projects/sc-proj-ukb-cvd/results/projects/22_retina_phewas_220603_fullrun/data/220603_fullrun/loghs/ImageTraining_[]_ConvNeXt_MLPHead_predictions_cropratio0.3/8/train.feather\n",
      "\u001b[2m\u001b[36m(prepare_predictions pid=2940331)\u001b[0m /sc-projects/sc-proj-ukb-cvd/results/projects/22_retina_phewas_220603_fullrun/data/220603_fullrun/loghs/ImageTraining_[]_ConvNeXt_MLPHead_predictions_cropratio0.3/8/valid.feather\n",
      "\u001b[2m\u001b[36m(prepare_predictions pid=2940331)\u001b[0m /sc-projects/sc-proj-ukb-cvd/results/projects/22_retina_phewas_220603_fullrun/data/220603_fullrun/loghs/ImageTraining_[]_ConvNeXt_MLPHead_predictions_cropratio0.3/8/test.feather\n",
      "\u001b[2m\u001b[36m(prepare_predictions pid=2940335)\u001b[0m /sc-projects/sc-proj-ukb-cvd/results/projects/22_retina_phewas_220603_fullrun/data/220603_fullrun/loghs/ImageTraining_[]_ConvNeXt_MLPHead_predictions_cropratio0.3/13/train.feather\n",
      "\u001b[2m\u001b[36m(prepare_predictions pid=2940335)\u001b[0m /sc-projects/sc-proj-ukb-cvd/results/projects/22_retina_phewas_220603_fullrun/data/220603_fullrun/loghs/ImageTraining_[]_ConvNeXt_MLPHead_predictions_cropratio0.3/13/valid.feather\n",
      "\u001b[2m\u001b[36m(prepare_predictions pid=2940335)\u001b[0m /sc-projects/sc-proj-ukb-cvd/results/projects/22_retina_phewas_220603_fullrun/data/220603_fullrun/loghs/ImageTraining_[]_ConvNeXt_MLPHead_predictions_cropratio0.3/13/test.feather\n",
      "\u001b[2m\u001b[36m(prepare_predictions pid=2940332)\u001b[0m /sc-projects/sc-proj-ukb-cvd/results/projects/22_retina_phewas_220603_fullrun/data/220603_fullrun/loghs/ImageTraining_[]_ConvNeXt_MLPHead_predictions_cropratio0.3/12/train.feather\n",
      "\u001b[2m\u001b[36m(prepare_predictions pid=2940332)\u001b[0m /sc-projects/sc-proj-ukb-cvd/results/projects/22_retina_phewas_220603_fullrun/data/220603_fullrun/loghs/ImageTraining_[]_ConvNeXt_MLPHead_predictions_cropratio0.3/12/valid.feather\n",
      "\u001b[2m\u001b[36m(prepare_predictions pid=2940332)\u001b[0m /sc-projects/sc-proj-ukb-cvd/results/projects/22_retina_phewas_220603_fullrun/data/220603_fullrun/loghs/ImageTraining_[]_ConvNeXt_MLPHead_predictions_cropratio0.3/12/test.feather\n",
      "\u001b[2m\u001b[36m(prepare_predictions pid=2940329)\u001b[0m /sc-projects/sc-proj-ukb-cvd/results/projects/22_retina_phewas_220603_fullrun/data/220603_fullrun/loghs/ImageTraining_[]_ConvNeXt_MLPHead_predictions_cropratio0.3/7/train.feather\n",
      "\u001b[2m\u001b[36m(prepare_predictions pid=2940329)\u001b[0m /sc-projects/sc-proj-ukb-cvd/results/projects/22_retina_phewas_220603_fullrun/data/220603_fullrun/loghs/ImageTraining_[]_ConvNeXt_MLPHead_predictions_cropratio0.3/7/valid.feather\n",
      "\u001b[2m\u001b[36m(prepare_predictions pid=2940329)\u001b[0m /sc-projects/sc-proj-ukb-cvd/results/projects/22_retina_phewas_220603_fullrun/data/220603_fullrun/loghs/ImageTraining_[]_ConvNeXt_MLPHead_predictions_cropratio0.3/7/test.feather\n",
      "\u001b[2m\u001b[36m(prepare_predictions pid=2940336)\u001b[0m /sc-projects/sc-proj-ukb-cvd/results/projects/22_retina_phewas_220603_fullrun/data/220603_fullrun/loghs/ImageTraining_[]_ConvNeXt_MLPHead_predictions_cropratio0.5/10/train.feather\n",
      "\u001b[2m\u001b[36m(prepare_predictions pid=2940336)\u001b[0m /sc-projects/sc-proj-ukb-cvd/results/projects/22_retina_phewas_220603_fullrun/data/220603_fullrun/loghs/ImageTraining_[]_ConvNeXt_MLPHead_predictions_cropratio0.5/10/valid.feather\n",
      "\u001b[2m\u001b[36m(prepare_predictions pid=2940336)\u001b[0m /sc-projects/sc-proj-ukb-cvd/results/projects/22_retina_phewas_220603_fullrun/data/220603_fullrun/loghs/ImageTraining_[]_ConvNeXt_MLPHead_predictions_cropratio0.5/10/test.feather\n",
      "\u001b[2m\u001b[36m(prepare_predictions pid=2940333)\u001b[0m /sc-projects/sc-proj-ukb-cvd/results/projects/22_retina_phewas_220603_fullrun/data/220603_fullrun/loghs/ImageTraining_[]_ConvNeXt_MLPHead_predictions_cropratio0.5/15/train.feather\n",
      "\u001b[2m\u001b[36m(prepare_predictions pid=2940333)\u001b[0m /sc-projects/sc-proj-ukb-cvd/results/projects/22_retina_phewas_220603_fullrun/data/220603_fullrun/loghs/ImageTraining_[]_ConvNeXt_MLPHead_predictions_cropratio0.5/15/valid.feather\n",
      "\u001b[2m\u001b[36m(prepare_predictions pid=2940333)\u001b[0m /sc-projects/sc-proj-ukb-cvd/results/projects/22_retina_phewas_220603_fullrun/data/220603_fullrun/loghs/ImageTraining_[]_ConvNeXt_MLPHead_predictions_cropratio0.5/15/test.feather\n",
      "\u001b[2m\u001b[36m(prepare_predictions pid=2940334)\u001b[0m /sc-projects/sc-proj-ukb-cvd/results/projects/22_retina_phewas_220603_fullrun/data/220603_fullrun/loghs/ImageTraining_[]_ConvNeXt_MLPHead_predictions_cropratio0.5/9/train.feather\n",
      "\u001b[2m\u001b[36m(prepare_predictions pid=2940334)\u001b[0m /sc-projects/sc-proj-ukb-cvd/results/projects/22_retina_phewas_220603_fullrun/data/220603_fullrun/loghs/ImageTraining_[]_ConvNeXt_MLPHead_predictions_cropratio0.5/9/valid.feather\n",
      "\u001b[2m\u001b[36m(prepare_predictions pid=2940334)\u001b[0m /sc-projects/sc-proj-ukb-cvd/results/projects/22_retina_phewas_220603_fullrun/data/220603_fullrun/loghs/ImageTraining_[]_ConvNeXt_MLPHead_predictions_cropratio0.5/9/test.feather\n",
      "\u001b[2m\u001b[36m(prepare_predictions pid=2940330)\u001b[0m /sc-projects/sc-proj-ukb-cvd/results/projects/22_retina_phewas_220603_fullrun/data/220603_fullrun/loghs/ImageTraining_[]_ConvNeXt_MLPHead_predictions_cropratio0.5/14/train.feather\n",
      "\u001b[2m\u001b[36m(prepare_predictions pid=2940330)\u001b[0m /sc-projects/sc-proj-ukb-cvd/results/projects/22_retina_phewas_220603_fullrun/data/220603_fullrun/loghs/ImageTraining_[]_ConvNeXt_MLPHead_predictions_cropratio0.5/14/valid.feather\n",
      "\u001b[2m\u001b[36m(prepare_predictions pid=2940330)\u001b[0m /sc-projects/sc-proj-ukb-cvd/results/projects/22_retina_phewas_220603_fullrun/data/220603_fullrun/loghs/ImageTraining_[]_ConvNeXt_MLPHead_predictions_cropratio0.5/14/test.feather\n",
      "\u001b[2m\u001b[36m(prepare_predictions pid=2940331)\u001b[0m /sc-projects/sc-proj-ukb-cvd/results/projects/22_retina_phewas_220603_fullrun/data/220603_fullrun/loghs/ImageTraining_[]_ConvNeXt_MLPHead_predictions_cropratio0.5/8/train.feather\n",
      "\u001b[2m\u001b[36m(prepare_predictions pid=2940329)\u001b[0m /sc-projects/sc-proj-ukb-cvd/results/projects/22_retina_phewas_220603_fullrun/data/220603_fullrun/loghs/ImageTraining_[]_ConvNeXt_MLPHead_predictions_cropratio0.5/7/train.feather\n",
      "\u001b[2m\u001b[36m(prepare_predictions pid=2940331)\u001b[0m /sc-projects/sc-proj-ukb-cvd/results/projects/22_retina_phewas_220603_fullrun/data/220603_fullrun/loghs/ImageTraining_[]_ConvNeXt_MLPHead_predictions_cropratio0.5/8/valid.feather\n",
      "\u001b[2m\u001b[36m(prepare_predictions pid=2940331)\u001b[0m /sc-projects/sc-proj-ukb-cvd/results/projects/22_retina_phewas_220603_fullrun/data/220603_fullrun/loghs/ImageTraining_[]_ConvNeXt_MLPHead_predictions_cropratio0.5/8/test.feather\n",
      "\u001b[2m\u001b[36m(prepare_predictions pid=2940329)\u001b[0m /sc-projects/sc-proj-ukb-cvd/results/projects/22_retina_phewas_220603_fullrun/data/220603_fullrun/loghs/ImageTraining_[]_ConvNeXt_MLPHead_predictions_cropratio0.5/7/valid.feather\n",
      "\u001b[2m\u001b[36m(prepare_predictions pid=2940329)\u001b[0m /sc-projects/sc-proj-ukb-cvd/results/projects/22_retina_phewas_220603_fullrun/data/220603_fullrun/loghs/ImageTraining_[]_ConvNeXt_MLPHead_predictions_cropratio0.5/7/test.feather\n",
      "\u001b[2m\u001b[36m(prepare_predictions pid=2940335)\u001b[0m /sc-projects/sc-proj-ukb-cvd/results/projects/22_retina_phewas_220603_fullrun/data/220603_fullrun/loghs/ImageTraining_[]_ConvNeXt_MLPHead_predictions_cropratio0.5/13/train.feather\n",
      "\u001b[2m\u001b[36m(prepare_predictions pid=2940335)\u001b[0m /sc-projects/sc-proj-ukb-cvd/results/projects/22_retina_phewas_220603_fullrun/data/220603_fullrun/loghs/ImageTraining_[]_ConvNeXt_MLPHead_predictions_cropratio0.5/13/valid.feather\n",
      "\u001b[2m\u001b[36m(prepare_predictions pid=2940335)\u001b[0m /sc-projects/sc-proj-ukb-cvd/results/projects/22_retina_phewas_220603_fullrun/data/220603_fullrun/loghs/ImageTraining_[]_ConvNeXt_MLPHead_predictions_cropratio0.5/13/test.feather\n",
      "\u001b[2m\u001b[36m(prepare_predictions pid=2940332)\u001b[0m /sc-projects/sc-proj-ukb-cvd/results/projects/22_retina_phewas_220603_fullrun/data/220603_fullrun/loghs/ImageTraining_[]_ConvNeXt_MLPHead_predictions_cropratio0.5/12/train.feather\n",
      "\u001b[2m\u001b[36m(prepare_predictions pid=2940332)\u001b[0m /sc-projects/sc-proj-ukb-cvd/results/projects/22_retina_phewas_220603_fullrun/data/220603_fullrun/loghs/ImageTraining_[]_ConvNeXt_MLPHead_predictions_cropratio0.5/12/valid.feather\n",
      "\u001b[2m\u001b[36m(prepare_predictions pid=2940332)\u001b[0m /sc-projects/sc-proj-ukb-cvd/results/projects/22_retina_phewas_220603_fullrun/data/220603_fullrun/loghs/ImageTraining_[]_ConvNeXt_MLPHead_predictions_cropratio0.5/12/test.feather\n",
      "\u001b[2m\u001b[36m(prepare_predictions pid=2940336)\u001b[0m /sc-projects/sc-proj-ukb-cvd/results/projects/22_retina_phewas_220603_fullrun/data/220603_fullrun/loghs/ImageTraining_[]_ConvNeXt_MLPHead_predictions_cropratio0.8/10/train.feather\n",
      "\u001b[2m\u001b[36m(prepare_predictions pid=2940336)\u001b[0m /sc-projects/sc-proj-ukb-cvd/results/projects/22_retina_phewas_220603_fullrun/data/220603_fullrun/loghs/ImageTraining_[]_ConvNeXt_MLPHead_predictions_cropratio0.8/10/valid.feather\n",
      "\u001b[2m\u001b[36m(prepare_predictions pid=2940336)\u001b[0m /sc-projects/sc-proj-ukb-cvd/results/projects/22_retina_phewas_220603_fullrun/data/220603_fullrun/loghs/ImageTraining_[]_ConvNeXt_MLPHead_predictions_cropratio0.8/10/test.feather\n",
      "\u001b[2m\u001b[36m(prepare_predictions pid=2940333)\u001b[0m /sc-projects/sc-proj-ukb-cvd/results/projects/22_retina_phewas_220603_fullrun/data/220603_fullrun/loghs/ImageTraining_[]_ConvNeXt_MLPHead_predictions_cropratio0.8/15/train.feather\n",
      "\u001b[2m\u001b[36m(prepare_predictions pid=2940333)\u001b[0m /sc-projects/sc-proj-ukb-cvd/results/projects/22_retina_phewas_220603_fullrun/data/220603_fullrun/loghs/ImageTraining_[]_ConvNeXt_MLPHead_predictions_cropratio0.8/15/valid.feather\n",
      "\u001b[2m\u001b[36m(prepare_predictions pid=2940333)\u001b[0m /sc-projects/sc-proj-ukb-cvd/results/projects/22_retina_phewas_220603_fullrun/data/220603_fullrun/loghs/ImageTraining_[]_ConvNeXt_MLPHead_predictions_cropratio0.8/15/test.feather\n",
      "\u001b[2m\u001b[36m(prepare_predictions pid=2940336)\u001b[0m /sc-projects/sc-proj-ukb-cvd/results/projects/22_retina_phewas_220603_fullrun/data/220603_fullrun/loghs/ImageTraining_[]_ConvNeXt_MLPHead_predictions_cropratio0.3/6/train.feather\n",
      "\u001b[2m\u001b[36m(prepare_predictions pid=2940336)\u001b[0m /sc-projects/sc-proj-ukb-cvd/results/projects/22_retina_phewas_220603_fullrun/data/220603_fullrun/loghs/ImageTraining_[]_ConvNeXt_MLPHead_predictions_cropratio0.3/6/valid.feather\n",
      "\u001b[2m\u001b[36m(prepare_predictions pid=2940336)\u001b[0m /sc-projects/sc-proj-ukb-cvd/results/projects/22_retina_phewas_220603_fullrun/data/220603_fullrun/loghs/ImageTraining_[]_ConvNeXt_MLPHead_predictions_cropratio0.3/6/test.feather\n",
      "\u001b[2m\u001b[36m(prepare_predictions pid=2940334)\u001b[0m /sc-projects/sc-proj-ukb-cvd/results/projects/22_retina_phewas_220603_fullrun/data/220603_fullrun/loghs/ImageTraining_[]_ConvNeXt_MLPHead_predictions_cropratio0.8/9/train.feather\n",
      "\u001b[2m\u001b[36m(prepare_predictions pid=2940334)\u001b[0m /sc-projects/sc-proj-ukb-cvd/results/projects/22_retina_phewas_220603_fullrun/data/220603_fullrun/loghs/ImageTraining_[]_ConvNeXt_MLPHead_predictions_cropratio0.8/9/valid.feather\n",
      "\u001b[2m\u001b[36m(prepare_predictions pid=2940334)\u001b[0m /sc-projects/sc-proj-ukb-cvd/results/projects/22_retina_phewas_220603_fullrun/data/220603_fullrun/loghs/ImageTraining_[]_ConvNeXt_MLPHead_predictions_cropratio0.8/9/test.feather\n",
      "\u001b[2m\u001b[36m(prepare_predictions pid=2940333)\u001b[0m /sc-projects/sc-proj-ukb-cvd/results/projects/22_retina_phewas_220603_fullrun/data/220603_fullrun/loghs/ImageTraining_[]_ConvNeXt_MLPHead_predictions_cropratio0.3/5/train.feather\n",
      "\u001b[2m\u001b[36m(prepare_predictions pid=2940333)\u001b[0m /sc-projects/sc-proj-ukb-cvd/results/projects/22_retina_phewas_220603_fullrun/data/220603_fullrun/loghs/ImageTraining_[]_ConvNeXt_MLPHead_predictions_cropratio0.3/5/valid.feather\n",
      "\u001b[2m\u001b[36m(prepare_predictions pid=2940333)\u001b[0m /sc-projects/sc-proj-ukb-cvd/results/projects/22_retina_phewas_220603_fullrun/data/220603_fullrun/loghs/ImageTraining_[]_ConvNeXt_MLPHead_predictions_cropratio0.3/5/test.feather\n",
      "\u001b[2m\u001b[36m(prepare_predictions pid=2940331)\u001b[0m /sc-projects/sc-proj-ukb-cvd/results/projects/22_retina_phewas_220603_fullrun/data/220603_fullrun/loghs/ImageTraining_[]_ConvNeXt_MLPHead_predictions_cropratio0.8/8/train.feather\n",
      "\u001b[2m\u001b[36m(prepare_predictions pid=2940331)\u001b[0m /sc-projects/sc-proj-ukb-cvd/results/projects/22_retina_phewas_220603_fullrun/data/220603_fullrun/loghs/ImageTraining_[]_ConvNeXt_MLPHead_predictions_cropratio0.8/8/valid.feather\n",
      "\u001b[2m\u001b[36m(prepare_predictions pid=2940329)\u001b[0m /sc-projects/sc-proj-ukb-cvd/results/projects/22_retina_phewas_220603_fullrun/data/220603_fullrun/loghs/ImageTraining_[]_ConvNeXt_MLPHead_predictions_cropratio0.8/7/train.feather\n",
      "\u001b[2m\u001b[36m(prepare_predictions pid=2940331)\u001b[0m /sc-projects/sc-proj-ukb-cvd/results/projects/22_retina_phewas_220603_fullrun/data/220603_fullrun/loghs/ImageTraining_[]_ConvNeXt_MLPHead_predictions_cropratio0.8/8/test.feather\n",
      "\u001b[2m\u001b[36m(prepare_predictions pid=2940329)\u001b[0m /sc-projects/sc-proj-ukb-cvd/results/projects/22_retina_phewas_220603_fullrun/data/220603_fullrun/loghs/ImageTraining_[]_ConvNeXt_MLPHead_predictions_cropratio0.8/7/valid.feather\n",
      "\u001b[2m\u001b[36m(prepare_predictions pid=2940329)\u001b[0m /sc-projects/sc-proj-ukb-cvd/results/projects/22_retina_phewas_220603_fullrun/data/220603_fullrun/loghs/ImageTraining_[]_ConvNeXt_MLPHead_predictions_cropratio0.8/7/test.feather\n",
      "\u001b[2m\u001b[36m(prepare_predictions pid=2940330)\u001b[0m /sc-projects/sc-proj-ukb-cvd/results/projects/22_retina_phewas_220603_fullrun/data/220603_fullrun/loghs/ImageTraining_[]_ConvNeXt_MLPHead_predictions_cropratio0.8/14/train.feather\n",
      "\u001b[2m\u001b[36m(prepare_predictions pid=2940330)\u001b[0m /sc-projects/sc-proj-ukb-cvd/results/projects/22_retina_phewas_220603_fullrun/data/220603_fullrun/loghs/ImageTraining_[]_ConvNeXt_MLPHead_predictions_cropratio0.8/14/valid.feather\n",
      "\u001b[2m\u001b[36m(prepare_predictions pid=2940330)\u001b[0m /sc-projects/sc-proj-ukb-cvd/results/projects/22_retina_phewas_220603_fullrun/data/220603_fullrun/loghs/ImageTraining_[]_ConvNeXt_MLPHead_predictions_cropratio0.8/14/test.feather\n",
      "\u001b[2m\u001b[36m(prepare_predictions pid=2940334)\u001b[0m /sc-projects/sc-proj-ukb-cvd/results/projects/22_retina_phewas_220603_fullrun/data/220603_fullrun/loghs/ImageTraining_[]_ConvNeXt_MLPHead_predictions_cropratio0.3/4/train.feather\n",
      "\u001b[2m\u001b[36m(prepare_predictions pid=2940334)\u001b[0m /sc-projects/sc-proj-ukb-cvd/results/projects/22_retina_phewas_220603_fullrun/data/220603_fullrun/loghs/ImageTraining_[]_ConvNeXt_MLPHead_predictions_cropratio0.3/4/valid.feather\n",
      "\u001b[2m\u001b[36m(prepare_predictions pid=2940334)\u001b[0m /sc-projects/sc-proj-ukb-cvd/results/projects/22_retina_phewas_220603_fullrun/data/220603_fullrun/loghs/ImageTraining_[]_ConvNeXt_MLPHead_predictions_cropratio0.3/4/test.feather\n",
      "\u001b[2m\u001b[36m(prepare_predictions pid=2940335)\u001b[0m /sc-projects/sc-proj-ukb-cvd/results/projects/22_retina_phewas_220603_fullrun/data/220603_fullrun/loghs/ImageTraining_[]_ConvNeXt_MLPHead_predictions_cropratio0.8/13/train.feather\n",
      "\u001b[2m\u001b[36m(prepare_predictions pid=2940335)\u001b[0m /sc-projects/sc-proj-ukb-cvd/results/projects/22_retina_phewas_220603_fullrun/data/220603_fullrun/loghs/ImageTraining_[]_ConvNeXt_MLPHead_predictions_cropratio0.8/13/valid.feather\n",
      "\u001b[2m\u001b[36m(prepare_predictions pid=2940332)\u001b[0m /sc-projects/sc-proj-ukb-cvd/results/projects/22_retina_phewas_220603_fullrun/data/220603_fullrun/loghs/ImageTraining_[]_ConvNeXt_MLPHead_predictions_cropratio0.8/12/train.feather\n",
      "\u001b[2m\u001b[36m(prepare_predictions pid=2940335)\u001b[0m /sc-projects/sc-proj-ukb-cvd/results/projects/22_retina_phewas_220603_fullrun/data/220603_fullrun/loghs/ImageTraining_[]_ConvNeXt_MLPHead_predictions_cropratio0.8/13/test.feather\n",
      "\u001b[2m\u001b[36m(prepare_predictions pid=2940332)\u001b[0m /sc-projects/sc-proj-ukb-cvd/results/projects/22_retina_phewas_220603_fullrun/data/220603_fullrun/loghs/ImageTraining_[]_ConvNeXt_MLPHead_predictions_cropratio0.8/12/valid.feather\n",
      "\u001b[2m\u001b[36m(prepare_predictions pid=2940332)\u001b[0m /sc-projects/sc-proj-ukb-cvd/results/projects/22_retina_phewas_220603_fullrun/data/220603_fullrun/loghs/ImageTraining_[]_ConvNeXt_MLPHead_predictions_cropratio0.8/12/test.feather\n",
      "\u001b[2m\u001b[36m(prepare_predictions pid=2940331)\u001b[0m /sc-projects/sc-proj-ukb-cvd/results/projects/22_retina_phewas_220603_fullrun/data/220603_fullrun/loghs/ImageTraining_[]_ConvNeXt_MLPHead_predictions_cropratio0.3/3/train.feather\n",
      "\u001b[2m\u001b[36m(prepare_predictions pid=2940336)\u001b[0m /sc-projects/sc-proj-ukb-cvd/results/projects/22_retina_phewas_220603_fullrun/data/220603_fullrun/loghs/ImageTraining_[]_ConvNeXt_MLPHead_predictions_cropratio0.5/6/train.feather\n",
      "\u001b[2m\u001b[36m(prepare_predictions pid=2940331)\u001b[0m /sc-projects/sc-proj-ukb-cvd/results/projects/22_retina_phewas_220603_fullrun/data/220603_fullrun/loghs/ImageTraining_[]_ConvNeXt_MLPHead_predictions_cropratio0.3/3/valid.feather\n",
      "\u001b[2m\u001b[36m(prepare_predictions pid=2940336)\u001b[0m /sc-projects/sc-proj-ukb-cvd/results/projects/22_retina_phewas_220603_fullrun/data/220603_fullrun/loghs/ImageTraining_[]_ConvNeXt_MLPHead_predictions_cropratio0.5/6/valid.feather\n",
      "\u001b[2m\u001b[36m(prepare_predictions pid=2940331)\u001b[0m /sc-projects/sc-proj-ukb-cvd/results/projects/22_retina_phewas_220603_fullrun/data/220603_fullrun/loghs/ImageTraining_[]_ConvNeXt_MLPHead_predictions_cropratio0.3/3/test.feather\n",
      "\u001b[2m\u001b[36m(prepare_predictions pid=2940336)\u001b[0m /sc-projects/sc-proj-ukb-cvd/results/projects/22_retina_phewas_220603_fullrun/data/220603_fullrun/loghs/ImageTraining_[]_ConvNeXt_MLPHead_predictions_cropratio0.5/6/test.feather\n",
      "\u001b[2m\u001b[36m(prepare_predictions pid=2940329)\u001b[0m /sc-projects/sc-proj-ukb-cvd/results/projects/22_retina_phewas_220603_fullrun/data/220603_fullrun/loghs/ImageTraining_[]_ConvNeXt_MLPHead_predictions_cropratio0.3/2/train.feather\n",
      "\u001b[2m\u001b[36m(prepare_predictions pid=2940329)\u001b[0m /sc-projects/sc-proj-ukb-cvd/results/projects/22_retina_phewas_220603_fullrun/data/220603_fullrun/loghs/ImageTraining_[]_ConvNeXt_MLPHead_predictions_cropratio0.3/2/valid.feather\n",
      "\u001b[2m\u001b[36m(prepare_predictions pid=2940329)\u001b[0m /sc-projects/sc-proj-ukb-cvd/results/projects/22_retina_phewas_220603_fullrun/data/220603_fullrun/loghs/ImageTraining_[]_ConvNeXt_MLPHead_predictions_cropratio0.3/2/test.feather\n",
      "\u001b[2m\u001b[36m(prepare_predictions pid=2940330)\u001b[0m /sc-projects/sc-proj-ukb-cvd/results/projects/22_retina_phewas_220603_fullrun/data/220603_fullrun/loghs/ImageTraining_[]_ConvNeXt_MLPHead_predictions_cropratio0.3/1/train.feather\n",
      "\u001b[2m\u001b[36m(prepare_predictions pid=2940330)\u001b[0m /sc-projects/sc-proj-ukb-cvd/results/projects/22_retina_phewas_220603_fullrun/data/220603_fullrun/loghs/ImageTraining_[]_ConvNeXt_MLPHead_predictions_cropratio0.3/1/valid.feather\n",
      "\u001b[2m\u001b[36m(prepare_predictions pid=2940330)\u001b[0m /sc-projects/sc-proj-ukb-cvd/results/projects/22_retina_phewas_220603_fullrun/data/220603_fullrun/loghs/ImageTraining_[]_ConvNeXt_MLPHead_predictions_cropratio0.3/1/test.feather\n",
      "\u001b[2m\u001b[36m(prepare_predictions pid=2940333)\u001b[0m /sc-projects/sc-proj-ukb-cvd/results/projects/22_retina_phewas_220603_fullrun/data/220603_fullrun/loghs/ImageTraining_[]_ConvNeXt_MLPHead_predictions_cropratio0.5/5/train.feather\n",
      "\u001b[2m\u001b[36m(prepare_predictions pid=2940333)\u001b[0m /sc-projects/sc-proj-ukb-cvd/results/projects/22_retina_phewas_220603_fullrun/data/220603_fullrun/loghs/ImageTraining_[]_ConvNeXt_MLPHead_predictions_cropratio0.5/5/valid.feather\n",
      "\u001b[2m\u001b[36m(prepare_predictions pid=2940333)\u001b[0m /sc-projects/sc-proj-ukb-cvd/results/projects/22_retina_phewas_220603_fullrun/data/220603_fullrun/loghs/ImageTraining_[]_ConvNeXt_MLPHead_predictions_cropratio0.5/5/test.feather\n",
      "\u001b[2m\u001b[36m(prepare_predictions pid=2940334)\u001b[0m /sc-projects/sc-proj-ukb-cvd/results/projects/22_retina_phewas_220603_fullrun/data/220603_fullrun/loghs/ImageTraining_[]_ConvNeXt_MLPHead_predictions_cropratio0.5/4/train.feather\n",
      "\u001b[2m\u001b[36m(prepare_predictions pid=2940334)\u001b[0m /sc-projects/sc-proj-ukb-cvd/results/projects/22_retina_phewas_220603_fullrun/data/220603_fullrun/loghs/ImageTraining_[]_ConvNeXt_MLPHead_predictions_cropratio0.5/4/valid.feather\n",
      "\u001b[2m\u001b[36m(prepare_predictions pid=2940334)\u001b[0m /sc-projects/sc-proj-ukb-cvd/results/projects/22_retina_phewas_220603_fullrun/data/220603_fullrun/loghs/ImageTraining_[]_ConvNeXt_MLPHead_predictions_cropratio0.5/4/test.feather\n",
      "\u001b[2m\u001b[36m(prepare_predictions pid=2940331)\u001b[0m /sc-projects/sc-proj-ukb-cvd/results/projects/22_retina_phewas_220603_fullrun/data/220603_fullrun/loghs/ImageTraining_[]_ConvNeXt_MLPHead_predictions_cropratio0.5/3/train.feather\n",
      "\u001b[2m\u001b[36m(prepare_predictions pid=2940331)\u001b[0m /sc-projects/sc-proj-ukb-cvd/results/projects/22_retina_phewas_220603_fullrun/data/220603_fullrun/loghs/ImageTraining_[]_ConvNeXt_MLPHead_predictions_cropratio0.5/3/valid.feather\n",
      "\u001b[2m\u001b[36m(prepare_predictions pid=2940331)\u001b[0m /sc-projects/sc-proj-ukb-cvd/results/projects/22_retina_phewas_220603_fullrun/data/220603_fullrun/loghs/ImageTraining_[]_ConvNeXt_MLPHead_predictions_cropratio0.5/3/test.feather\n",
      "\u001b[2m\u001b[36m(prepare_predictions pid=2940329)\u001b[0m /sc-projects/sc-proj-ukb-cvd/results/projects/22_retina_phewas_220603_fullrun/data/220603_fullrun/loghs/ImageTraining_[]_ConvNeXt_MLPHead_predictions_cropratio0.5/2/train.feather\n",
      "\u001b[2m\u001b[36m(prepare_predictions pid=2940329)\u001b[0m /sc-projects/sc-proj-ukb-cvd/results/projects/22_retina_phewas_220603_fullrun/data/220603_fullrun/loghs/ImageTraining_[]_ConvNeXt_MLPHead_predictions_cropratio0.5/2/valid.feather\n",
      "\u001b[2m\u001b[36m(prepare_predictions pid=2940329)\u001b[0m /sc-projects/sc-proj-ukb-cvd/results/projects/22_retina_phewas_220603_fullrun/data/220603_fullrun/loghs/ImageTraining_[]_ConvNeXt_MLPHead_predictions_cropratio0.5/2/test.feather\n",
      "\u001b[2m\u001b[36m(prepare_predictions pid=2940330)\u001b[0m /sc-projects/sc-proj-ukb-cvd/results/projects/22_retina_phewas_220603_fullrun/data/220603_fullrun/loghs/ImageTraining_[]_ConvNeXt_MLPHead_predictions_cropratio0.5/1/train.feather\n",
      "\u001b[2m\u001b[36m(prepare_predictions pid=2940330)\u001b[0m /sc-projects/sc-proj-ukb-cvd/results/projects/22_retina_phewas_220603_fullrun/data/220603_fullrun/loghs/ImageTraining_[]_ConvNeXt_MLPHead_predictions_cropratio0.5/1/valid.feather\n",
      "\u001b[2m\u001b[36m(prepare_predictions pid=2940330)\u001b[0m /sc-projects/sc-proj-ukb-cvd/results/projects/22_retina_phewas_220603_fullrun/data/220603_fullrun/loghs/ImageTraining_[]_ConvNeXt_MLPHead_predictions_cropratio0.5/1/test.feather\n",
      "\u001b[2m\u001b[36m(prepare_predictions pid=2940336)\u001b[0m /sc-projects/sc-proj-ukb-cvd/results/projects/22_retina_phewas_220603_fullrun/data/220603_fullrun/loghs/ImageTraining_[]_ConvNeXt_MLPHead_predictions_cropratio0.8/6/train.feather\n",
      "\u001b[2m\u001b[36m(prepare_predictions pid=2940336)\u001b[0m /sc-projects/sc-proj-ukb-cvd/results/projects/22_retina_phewas_220603_fullrun/data/220603_fullrun/loghs/ImageTraining_[]_ConvNeXt_MLPHead_predictions_cropratio0.8/6/valid.feather\n",
      "\u001b[2m\u001b[36m(prepare_predictions pid=2940336)\u001b[0m /sc-projects/sc-proj-ukb-cvd/results/projects/22_retina_phewas_220603_fullrun/data/220603_fullrun/loghs/ImageTraining_[]_ConvNeXt_MLPHead_predictions_cropratio0.8/6/test.feather\n",
      "\u001b[2m\u001b[36m(prepare_predictions pid=2940333)\u001b[0m /sc-projects/sc-proj-ukb-cvd/results/projects/22_retina_phewas_220603_fullrun/data/220603_fullrun/loghs/ImageTraining_[]_ConvNeXt_MLPHead_predictions_cropratio0.8/5/train.feather\n",
      "\u001b[2m\u001b[36m(prepare_predictions pid=2940333)\u001b[0m /sc-projects/sc-proj-ukb-cvd/results/projects/22_retina_phewas_220603_fullrun/data/220603_fullrun/loghs/ImageTraining_[]_ConvNeXt_MLPHead_predictions_cropratio0.8/5/valid.feather\n",
      "\u001b[2m\u001b[36m(prepare_predictions pid=2940333)\u001b[0m /sc-projects/sc-proj-ukb-cvd/results/projects/22_retina_phewas_220603_fullrun/data/220603_fullrun/loghs/ImageTraining_[]_ConvNeXt_MLPHead_predictions_cropratio0.8/5/test.feather\n",
      "\u001b[2m\u001b[36m(prepare_predictions pid=2940334)\u001b[0m /sc-projects/sc-proj-ukb-cvd/results/projects/22_retina_phewas_220603_fullrun/data/220603_fullrun/loghs/ImageTraining_[]_ConvNeXt_MLPHead_predictions_cropratio0.8/4/train.feather\n",
      "\u001b[2m\u001b[36m(prepare_predictions pid=2940334)\u001b[0m /sc-projects/sc-proj-ukb-cvd/results/projects/22_retina_phewas_220603_fullrun/data/220603_fullrun/loghs/ImageTraining_[]_ConvNeXt_MLPHead_predictions_cropratio0.8/4/valid.feather\n",
      "\u001b[2m\u001b[36m(prepare_predictions pid=2940334)\u001b[0m /sc-projects/sc-proj-ukb-cvd/results/projects/22_retina_phewas_220603_fullrun/data/220603_fullrun/loghs/ImageTraining_[]_ConvNeXt_MLPHead_predictions_cropratio0.8/4/test.feather\n",
      "\u001b[2m\u001b[36m(prepare_predictions pid=2940331)\u001b[0m /sc-projects/sc-proj-ukb-cvd/results/projects/22_retina_phewas_220603_fullrun/data/220603_fullrun/loghs/ImageTraining_[]_ConvNeXt_MLPHead_predictions_cropratio0.8/3/train.feather\n",
      "\u001b[2m\u001b[36m(prepare_predictions pid=2940331)\u001b[0m /sc-projects/sc-proj-ukb-cvd/results/projects/22_retina_phewas_220603_fullrun/data/220603_fullrun/loghs/ImageTraining_[]_ConvNeXt_MLPHead_predictions_cropratio0.8/3/valid.feather\n",
      "\u001b[2m\u001b[36m(prepare_predictions pid=2940331)\u001b[0m /sc-projects/sc-proj-ukb-cvd/results/projects/22_retina_phewas_220603_fullrun/data/220603_fullrun/loghs/ImageTraining_[]_ConvNeXt_MLPHead_predictions_cropratio0.8/3/test.feather\n",
      "\u001b[2m\u001b[36m(prepare_predictions pid=2940329)\u001b[0m /sc-projects/sc-proj-ukb-cvd/results/projects/22_retina_phewas_220603_fullrun/data/220603_fullrun/loghs/ImageTraining_[]_ConvNeXt_MLPHead_predictions_cropratio0.8/2/train.feather\n",
      "\u001b[2m\u001b[36m(prepare_predictions pid=2940329)\u001b[0m /sc-projects/sc-proj-ukb-cvd/results/projects/22_retina_phewas_220603_fullrun/data/220603_fullrun/loghs/ImageTraining_[]_ConvNeXt_MLPHead_predictions_cropratio0.8/2/valid.feather\n",
      "\u001b[2m\u001b[36m(prepare_predictions pid=2940329)\u001b[0m /sc-projects/sc-proj-ukb-cvd/results/projects/22_retina_phewas_220603_fullrun/data/220603_fullrun/loghs/ImageTraining_[]_ConvNeXt_MLPHead_predictions_cropratio0.8/2/test.feather\n",
      "\u001b[2m\u001b[36m(prepare_predictions pid=2940330)\u001b[0m /sc-projects/sc-proj-ukb-cvd/results/projects/22_retina_phewas_220603_fullrun/data/220603_fullrun/loghs/ImageTraining_[]_ConvNeXt_MLPHead_predictions_cropratio0.8/1/train.feather\n",
      "\u001b[2m\u001b[36m(prepare_predictions pid=2940330)\u001b[0m /sc-projects/sc-proj-ukb-cvd/results/projects/22_retina_phewas_220603_fullrun/data/220603_fullrun/loghs/ImageTraining_[]_ConvNeXt_MLPHead_predictions_cropratio0.8/1/valid.feather\n",
      "\u001b[2m\u001b[36m(prepare_predictions pid=2940330)\u001b[0m /sc-projects/sc-proj-ukb-cvd/results/projects/22_retina_phewas_220603_fullrun/data/220603_fullrun/loghs/ImageTraining_[]_ConvNeXt_MLPHead_predictions_cropratio0.8/1/test.feather\n"
     ]
    }
   ],
   "source": [
    "for row_idx in tqdm(range(len(runs_df))): \n",
    "    row = runs_df.iloc[row_idx]\n",
    "    p = row['path']\n",
    "    id = row['id']\n",
    "    prepare_predictions.remote(p, out_path)"
   ]
  },
  {
   "cell_type": "code",
   "execution_count": null,
   "metadata": {},
   "outputs": [],
   "source": [
    "out_path"
   ]
  },
  {
   "cell_type": "code",
   "execution_count": null,
   "metadata": {},
   "outputs": [],
   "source": [
    "!ls /sc-projects/sc-proj-ukb-cvd/results/projects/22_retina_phewas_220608/data/test_experiment/loghs/"
   ]
  },
  {
   "cell_type": "code",
   "execution_count": null,
   "metadata": {},
   "outputs": [],
   "source": []
  }
 ],
 "metadata": {
  "interpreter": {
   "hash": "7fb005937abf8310e947cacdef9aa24b4c9570846765db425bfb20f46bc066c7"
  },
  "kernelspec": {
   "display_name": "Python 3 (ipykernel)",
   "language": "python",
   "name": "python3"
  },
  "language_info": {
   "codemirror_mode": {
    "name": "ipython",
    "version": 3
   },
   "file_extension": ".py",
   "mimetype": "text/x-python",
   "name": "python",
   "nbconvert_exporter": "python",
   "pygments_lexer": "ipython3",
   "version": "3.9.7"
  }
 },
 "nbformat": 4,
 "nbformat_minor": 4
}
