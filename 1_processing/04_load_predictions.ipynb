{
 "cells": [
  {
   "cell_type": "code",
   "execution_count": 1,
   "metadata": {
    "tags": []
   },
   "outputs": [],
   "source": [
    "import numpy as np\n",
    "import pandas as pd\n",
    "import pathlib\n",
    "from tqdm.auto import tqdm\n",
    "\n",
    "import hydra\n",
    "from omegaconf import DictConfig, OmegaConf\n",
    "\n",
    "import torch\n",
    "#from torch_geometric import seed_everything\n",
    "\n",
    "import ray"
   ]
  },
  {
   "cell_type": "code",
   "execution_count": 2,
   "metadata": {
    "tags": []
   },
   "outputs": [
    {
     "name": "stdout",
     "output_type": "stream",
     "text": [
      "/sc-projects/sc-proj-ukb-cvd\n"
     ]
    }
   ],
   "source": [
    "node = !hostname\n",
    "if \"sc\" in node[0]:\n",
    "    base_path = \"/sc-projects/sc-proj-ukb-cvd\"\n",
    "else: \n",
    "    base_path = \"/data/analysis/ag-reils/ag-reils-shared/cardioRS\"\n",
    "print(base_path)\n",
    "\n",
    "project_label = \"22_retina_phewas\"\n",
    "project_path = f\"{base_path}/results/projects/{project_label}\"\n",
    "figure_path = f\"{project_path}/figures\"\n",
    "output_path = f\"{project_path}/data\"\n",
    "\n",
    "pathlib.Path(figure_path).mkdir(parents=True, exist_ok=True)\n",
    "pathlib.Path(output_path).mkdir(parents=True, exist_ok=True)\n",
    "\n",
    "##### BEGIN ADAPT #####\n",
    "# second best model\n",
    "# wandb_name = 'aug++_convnext_s_mlp'\n",
    "# wandb_id = '8ngm6apd'\n",
    "# best model\n",
    "wandb_name = 'aug++_convnext_s_mlp+'\n",
    "wandb_id = '3p3smraz'\n",
    "##### END   ADAPT #####\n",
    "\n",
    "feather_path = f'/sc-projects/sc-proj-ukb-cvd/results/models/retina/{wandb_id}/checkpoints/predictions/predictions.feather'\n",
    "experiment = wandb_id\n",
    "experiment_path = f\"{output_path}/{experiment}\"\n",
    "pathlib.Path(experiment_path).mkdir(parents=True, exist_ok=True)"
   ]
  },
  {
   "cell_type": "code",
   "execution_count": 3,
   "metadata": {},
   "outputs": [],
   "source": [
    "endpoint_columns = sorted([l.replace('_prevalent', '') for l in list(pd.read_csv('/sc-projects/sc-proj-ukb-cvd/results/projects/22_medical_records/data/220413/frequent_endpoints.csv').endpoint.values)])"
   ]
  },
  {
   "cell_type": "code",
   "execution_count": 4,
   "metadata": {
    "tags": []
   },
   "outputs": [
    {
     "data": {
      "text/plain": [
       "{'node_ip_address': '10.32.105.6',\n",
       " 'raylet_ip_address': '10.32.105.6',\n",
       " 'redis_address': '10.32.105.6:6379',\n",
       " 'object_store_address': '/tmp/ray/session_2022-05-25_11-16-49_389648_3762942/sockets/plasma_store',\n",
       " 'raylet_socket_name': '/tmp/ray/session_2022-05-25_11-16-49_389648_3762942/sockets/raylet',\n",
       " 'webui_url': None,\n",
       " 'session_dir': '/tmp/ray/session_2022-05-25_11-16-49_389648_3762942',\n",
       " 'metrics_export_port': 59233,\n",
       " 'node_id': 'c64a891f4c1c291fef8af6c916df728933d2af28848d42389793f580'}"
      ]
     },
     "execution_count": 4,
     "metadata": {},
     "output_type": "execute_result"
    }
   ],
   "source": [
    "ray.shutdown()\n",
    "ray.init(num_cpus=24)"
   ]
  },
  {
   "cell_type": "code",
   "execution_count": 5,
   "metadata": {
    "tags": []
   },
   "outputs": [],
   "source": [
    "import wandb\n",
    "api = wandb.Api()\n",
    "entity, project = \"cardiors\", \"retina\"  # 'll-cha'\n",
    "runs = api.runs(entity + \"/\" + project) "
   ]
  },
  {
   "cell_type": "code",
   "execution_count": 6,
   "metadata": {
    "tags": []
   },
   "outputs": [
    {
     "data": {
      "application/vnd.jupyter.widget-view+json": {
       "model_id": "e4b580efec0f46e69259a6d1743111f6",
       "version_major": 2,
       "version_minor": 0
      },
      "text/plain": [
       "  0%|          | 0/114 [00:00<?, ?it/s]"
      ]
     },
     "metadata": {},
     "output_type": "display_data"
    }
   ],
   "source": [
    "run_list = []\n",
    "for run in tqdm(runs): \n",
    "    run_list.append(\n",
    "        {\n",
    "            \"id\": run.id, #path[-1]\n",
    "            \"name\": run.name,\n",
    "            \"tags\": run.tags,\n",
    "            \"config\": {k: v for k,v in run.config.items() if not k.startswith('_')},\n",
    "            \"summary\": run.summary._json_dict,\n",
    "            #\"path\": None if \"predictions_path\" not in run.config.keys() else str(pathlib.Path(run.config[\"predictions_path\"]))\n",
    "            'path': f'/sc-projects/sc-proj-ukb-cvd/results/models/retina/{run.id}/checkpoints/predictions/predictions.feather'\n",
    "        }\n",
    "    )"
   ]
  },
  {
   "cell_type": "code",
   "execution_count": 7,
   "metadata": {
    "tags": []
   },
   "outputs": [
    {
     "name": "stdout",
     "output_type": "stream",
     "text": [
      "/sc-projects/sc-proj-ukb-cvd/results/models/retina/3h7yt93y/checkpoints/predictions/predictions.feather\n"
     ]
    }
   ],
   "source": [
    "runs_df = pd.DataFrame(run_list)\n",
    "print(runs_df['path'].iloc[0])"
   ]
  },
  {
   "cell_type": "code",
   "execution_count": 8,
   "metadata": {
    "tags": []
   },
   "outputs": [
    {
     "data": {
      "text/html": [
       "<div>\n",
       "<style scoped>\n",
       "    .dataframe tbody tr th:only-of-type {\n",
       "        vertical-align: middle;\n",
       "    }\n",
       "\n",
       "    .dataframe tbody tr th {\n",
       "        vertical-align: top;\n",
       "    }\n",
       "\n",
       "    .dataframe thead th {\n",
       "        text-align: right;\n",
       "    }\n",
       "</style>\n",
       "<table border=\"1\" class=\"dataframe\">\n",
       "  <thead>\n",
       "    <tr style=\"text-align: right;\">\n",
       "      <th></th>\n",
       "      <th>id</th>\n",
       "      <th>name</th>\n",
       "      <th>tags</th>\n",
       "      <th>config</th>\n",
       "      <th>summary</th>\n",
       "      <th>path</th>\n",
       "    </tr>\n",
       "  </thead>\n",
       "  <tbody>\n",
       "    <tr>\n",
       "      <th>22</th>\n",
       "      <td>3p3smraz</td>\n",
       "      <td>aug++_convnext_s_mlp+</td>\n",
       "      <td>[baseline_data, image]</td>\n",
       "      <td>{'losses': ['&lt;retinalrisk.models.loss_wrapper....</td>\n",
       "      <td>{'valid/phecode_144-2 - Benign neoplasms of th...</td>\n",
       "      <td>/sc-projects/sc-proj-ukb-cvd/results/models/re...</td>\n",
       "    </tr>\n",
       "  </tbody>\n",
       "</table>\n",
       "</div>"
      ],
      "text/plain": [
       "          id                   name                    tags  \\\n",
       "22  3p3smraz  aug++_convnext_s_mlp+  [baseline_data, image]   \n",
       "\n",
       "                                               config  \\\n",
       "22  {'losses': ['<retinalrisk.models.loss_wrapper....   \n",
       "\n",
       "                                              summary  \\\n",
       "22  {'valid/phecode_144-2 - Benign neoplasms of th...   \n",
       "\n",
       "                                                 path  \n",
       "22  /sc-projects/sc-proj-ukb-cvd/results/models/re...  "
      ]
     },
     "execution_count": 8,
     "metadata": {},
     "output_type": "execute_result"
    }
   ],
   "source": [
    "tag = experiment # or 'your_experiment_tag'\n",
    "# runs_df = runs_df[runs_df.tags.astype(str).str.contains(tag)].query(\"path==path\")\n",
    "runs_df = runs_df[runs_df.id.astype(str).str.contains(tag)].query(\"path==path\")\n",
    "runs_df"
   ]
  },
  {
   "cell_type": "markdown",
   "metadata": {},
   "source": [
    "## Process Predictions"
   ]
  },
  {
   "cell_type": "code",
   "execution_count": 9,
   "metadata": {
    "tags": []
   },
   "outputs": [],
   "source": [
    "name_dict = {\n",
    "    \"CovariatesOnlyTraining_['age_at_recruitment_f21022_0_0', 'sex_f31_0_0']_None_MLPHead\": \"Identity(AgeSex)+MLP\",\n",
    "    \"RetinaIdentityTraining_[]_None_MLPHead\": \"Identity(Retina)+MLP\",\n",
    "    #\"RecordsGraphTraining_[]_HeteroGNN_MLPHead\": \"GNN(Records)+MLP\",\n",
    "    #\"RecordsIdentityTraining_['age_at_recruitment_f21022_0_0', 'sex_f31_0_0']_None_MLPHead\": \"Identity(AgeSex+Records)+MLP\",\n",
    "    #\"RecordsGraphTraining_['age_at_recruitment_f21022_0_0', 'sex_f31_0_0']_HeteroGNN_MLPHead\": \"GNN(AgeSex+Records)+MLP\"\n",
    "}"
   ]
  },
  {
   "cell_type": "code",
   "execution_count": 10,
   "metadata": {
    "tags": []
   },
   "outputs": [],
   "source": [
    "id_vars = [\"eid\", \"model\", \"partition\", \"split\"]"
   ]
  },
  {
   "cell_type": "code",
   "execution_count": 11,
   "metadata": {
    "tags": []
   },
   "outputs": [],
   "source": [
    "out_path = f\"{experiment_path}/loghs\"\n",
    "pathlib.Path(out_path).mkdir(parents=True, exist_ok=True)"
   ]
  },
  {
   "cell_type": "code",
   "execution_count": 12,
   "metadata": {
    "tags": []
   },
   "outputs": [],
   "source": [
    "@ray.remote\n",
    "def prepare_predictions(in_path, out_path):\n",
    "    temp = pd.read_feather(in_path).rename(columns={\"index\": \"eid\"}).set_index('eid')\n",
    "    # mean duplicated indices aka left and right eye value per eid\n",
    "    temp_with_meaned_test_preds = temp.groupby(level=0).mean()\n",
    "    for col in temp.columns.values:\n",
    "        if col not in endpoint_columns:\n",
    "            temp_with_meaned_test_preds[col] = temp[col].iloc[~temp.index.duplicated()].values\n",
    "    temp = temp_with_meaned_test_preds.reset_index(drop=False)\n",
    "    \n",
    "    # rename 10_1_Ft__ and dropping ft and St cols if present\n",
    "    cols_to_drop = []\n",
    "    cols_to_rename = {}\n",
    "    for col in temp.columns.values:\n",
    "        if 'ft' in col:\n",
    "            cols_to_drop.append(col)\n",
    "        elif 'St' in col:\n",
    "            cols_to_drop.append(col)\n",
    "        elif 'Ft' in col:\n",
    "            cols_to_rename[col] = col.replace('1_10_Ft__', '')\n",
    "            \n",
    "    temp['record_cols'] = None\n",
    "\n",
    "    temp[\"model\"] = (temp.module.astype(str) + \"_\" + temp.covariate_cols.astype(str) + \"_\" + temp.encoder.astype(str) + \"_\" + temp[\"head\"].astype(str)).astype(\"category\")\n",
    "    temp = temp.replace({\"model\":name_dict}).drop(columns=[\"module\", \"encoder\", \"head\", \"covariate_cols\", \"record_cols\"]).drop(columns=cols_to_drop).rename(columns=cols_to_rename)\n",
    "    for c in id_vars: temp[c] = temp[c].astype(\"category\")\n",
    "    \n",
    "    model = temp.model.unique()[0]\n",
    "    partition = temp.partition.unique()[0]\n",
    "    for split in [\"train\", \"valid\", \"test\"]: #\"test_left\", 'test_right'\n",
    "        fp_out = f\"{out_path}/{model}/{partition}\"\n",
    "        pathlib.Path(fp_out).mkdir(parents=True, exist_ok=True)\n",
    "        t = temp.query(\"split==@split\")\n",
    "        t.reset_index(drop=True).to_feather(f\"{fp_out}/{split}.feather\")"
   ]
  },
  {
   "cell_type": "code",
   "execution_count": null,
   "metadata": {},
   "outputs": [],
   "source": []
  },
  {
   "cell_type": "code",
   "execution_count": 13,
   "metadata": {
    "tags": []
   },
   "outputs": [
    {
     "data": {
      "application/vnd.jupyter.widget-view+json": {
       "model_id": "7994b2952ea24448805098b7a47d311e",
       "version_major": 2,
       "version_minor": 0
      },
      "text/plain": [
       "  0%|          | 0/1 [00:00<?, ?it/s]"
      ]
     },
     "metadata": {},
     "output_type": "display_data"
    }
   ],
   "source": [
    "for row_idx in tqdm(range(len(runs_df))): \n",
    "    row = runs_df.iloc[row_idx]\n",
    "    p = row['path']\n",
    "    id = row['id']\n",
    "    prepare_predictions.remote(p, out_path)"
   ]
  },
  {
   "cell_type": "code",
   "execution_count": 14,
   "metadata": {},
   "outputs": [
    {
     "data": {
      "text/plain": [
       "'/sc-projects/sc-proj-ukb-cvd/results/projects/22_retina_phewas/data/3p3smraz/loghs'"
      ]
     },
     "execution_count": 14,
     "metadata": {},
     "output_type": "execute_result"
    }
   ],
   "source": [
    "out_path"
   ]
  },
  {
   "cell_type": "code",
   "execution_count": 15,
   "metadata": {},
   "outputs": [
    {
     "name": "stdout",
     "output_type": "stream",
     "text": [
      "MultiTaskSurvivalTraining_None_InceptionResnetV2+MLP_Identity\n"
     ]
    }
   ],
   "source": [
    "!ls /sc-projects/sc-proj-ukb-cvd/results/projects/22_retina_phewas/data/test_experiment/loghs/"
   ]
  },
  {
   "cell_type": "code",
   "execution_count": null,
   "metadata": {},
   "outputs": [],
   "source": []
  }
 ],
 "metadata": {
  "interpreter": {
   "hash": "7fb005937abf8310e947cacdef9aa24b4c9570846765db425bfb20f46bc066c7"
  },
  "kernelspec": {
   "display_name": "Python 3 (ipykernel)",
   "language": "python",
   "name": "python3"
  },
  "language_info": {
   "codemirror_mode": {
    "name": "ipython",
    "version": 3
   },
   "file_extension": ".py",
   "mimetype": "text/x-python",
   "name": "python",
   "nbconvert_exporter": "python",
   "pygments_lexer": "ipython3",
   "version": "3.9.7"
  }
 },
 "nbformat": 4,
 "nbformat_minor": 4
}
