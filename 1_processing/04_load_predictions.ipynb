{
 "cells": [
  {
   "cell_type": "code",
   "execution_count": 1,
   "metadata": {
    "execution": {
     "iopub.execute_input": "2022-11-08T16:06:32.594782Z",
     "iopub.status.busy": "2022-11-08T16:06:32.594646Z",
     "iopub.status.idle": "2022-11-08T16:06:36.911478Z",
     "shell.execute_reply": "2022-11-08T16:06:36.910841Z",
     "shell.execute_reply.started": "2022-11-08T16:06:32.594746Z"
    },
    "tags": []
   },
   "outputs": [],
   "source": [
    "import numpy as np\n",
    "import pandas as pd\n",
    "import pathlib\n",
    "import os\n",
    "from tqdm.auto import tqdm\n",
    "\n",
    "import hydra\n",
    "from omegaconf import DictConfig, OmegaConf\n",
    "\n",
    "import torch\n",
    "#from torch_geometric import seed_everything\n",
    "\n",
    "import ray"
   ]
  },
  {
   "cell_type": "code",
   "execution_count": 2,
   "metadata": {
    "execution": {
     "iopub.execute_input": "2022-11-08T16:06:36.912480Z",
     "iopub.status.busy": "2022-11-08T16:06:36.912362Z",
     "iopub.status.idle": "2022-11-08T16:06:36.946417Z",
     "shell.execute_reply": "2022-11-08T16:06:36.945665Z",
     "shell.execute_reply.started": "2022-11-08T16:06:36.912463Z"
    },
    "tags": []
   },
   "outputs": [
    {
     "name": "stdout",
     "output_type": "stream",
     "text": [
      "/sc-projects/sc-proj-ukb-cvd\n"
     ]
    }
   ],
   "source": [
    "node = !hostname\n",
    "if \"sc\" in node[0]:\n",
    "    base_path = \"/sc-projects/sc-proj-ukb-cvd\"\n",
    "else: \n",
    "    base_path = \"/data/analysis/ag-reils/ag-reils-shared/cardioRS\"\n",
    "print(base_path)\n",
    "\n",
    "project_label = \"22_retina_phewas\"\n",
    "project_path = f\"{base_path}/results/projects/{project_label}\"\n",
    "figure_path = f\"{project_path}/figures\"\n",
    "output_path = f\"{project_path}/data\"\n",
    "\n",
    "pathlib.Path(figure_path).mkdir(parents=True, exist_ok=True)\n",
    "pathlib.Path(output_path).mkdir(parents=True, exist_ok=True)\n",
    "\n",
    "# experiment = '220812_test'\n",
    "experiment = '221108'\n",
    "experiment_path = f\"{output_path}/{experiment}\"\n",
    "pathlib.Path(experiment_path).mkdir(parents=True, exist_ok=True)\n",
    "\n",
    "name_dict = {\n",
    "#     \"predictions_cropratio0.3\": \"ConvNextSmall(Retina)+MLP_cropratio0.3\",\n",
    "#     \"predictions_cropratio0.5\": \"ConvNextSmall(Retina)+MLP_cropratio0.5\",\n",
    "    \"predictions_cropratio0.66\": \"ConvNextSmall(Retina)+MLP_cropratio0.66\",\n",
    "}\n",
    "\n",
    "partitions = [i for i in range(22)]"
   ]
  },
  {
   "cell_type": "code",
   "execution_count": 3,
   "metadata": {
    "execution": {
     "iopub.execute_input": "2022-11-08T16:06:36.948130Z",
     "iopub.status.busy": "2022-11-08T16:06:36.947610Z",
     "iopub.status.idle": "2022-11-08T16:06:36.964670Z",
     "shell.execute_reply": "2022-11-08T16:06:36.963522Z",
     "shell.execute_reply.started": "2022-11-08T16:06:36.948104Z"
    },
    "tags": []
   },
   "outputs": [],
   "source": [
    "endpoint_columns = sorted([l.replace('_prevalent', '') for l in list(pd.read_csv('/sc-projects/sc-proj-ukb-cvd/results/projects/22_retinal_risk/data/220602/endpoints.csv').endpoint.values)])"
   ]
  },
  {
   "cell_type": "code",
   "execution_count": 4,
   "metadata": {
    "execution": {
     "iopub.execute_input": "2022-11-08T16:06:36.967421Z",
     "iopub.status.busy": "2022-11-08T16:06:36.966875Z",
     "iopub.status.idle": "2022-11-08T16:06:36.969993Z",
     "shell.execute_reply": "2022-11-08T16:06:36.969513Z",
     "shell.execute_reply.started": "2022-11-08T16:06:36.967392Z"
    },
    "tags": []
   },
   "outputs": [],
   "source": [
    "#ray.shutdown()\n",
    "#ray.init(num_cpus=24)\n",
    "# ray.init(address='auto')"
   ]
  },
  {
   "cell_type": "code",
   "execution_count": 5,
   "metadata": {
    "execution": {
     "iopub.execute_input": "2022-11-08T16:06:36.970962Z",
     "iopub.status.busy": "2022-11-08T16:06:36.970641Z",
     "iopub.status.idle": "2022-11-08T16:06:38.385943Z",
     "shell.execute_reply": "2022-11-08T16:06:38.385343Z",
     "shell.execute_reply.started": "2022-11-08T16:06:36.970944Z"
    },
    "tags": []
   },
   "outputs": [],
   "source": [
    "import wandb\n",
    "api = wandb.Api()\n",
    "entity, project = \"cardiors\", \"retina\"  # 'll-cha'\n",
    "tag = '220812'\n",
    "runs = api.runs(entity + \"/\" + project, filters={\"tags\": {\"$in\": [tag]}}) "
   ]
  },
  {
   "cell_type": "code",
   "execution_count": 6,
   "metadata": {
    "execution": {
     "iopub.execute_input": "2022-11-08T16:06:38.387407Z",
     "iopub.status.busy": "2022-11-08T16:06:38.386973Z",
     "iopub.status.idle": "2022-11-08T16:06:44.586879Z",
     "shell.execute_reply": "2022-11-08T16:06:44.586352Z",
     "shell.execute_reply.started": "2022-11-08T16:06:38.387384Z"
    },
    "tags": []
   },
   "outputs": [
    {
     "data": {
      "application/vnd.jupyter.widget-view+json": {
       "model_id": "6f781301b00a45fca9adaeca6e252e2f",
       "version_major": 2,
       "version_minor": 0
      },
      "text/plain": [
       "  0%|          | 0/22 [00:00<?, ?it/s]"
      ]
     },
     "metadata": {},
     "output_type": "display_data"
    }
   ],
   "source": [
    "run_list = []\n",
    "for run in tqdm(runs): \n",
    "    run_list.append(\n",
    "        {\n",
    "            #\"id\": run.path[-1], \n",
    "            \"id\": run.id, \n",
    "            \"name\": run.name,\n",
    "            \"tags\": run.tags,\n",
    "            \"partition\": eval(run.config['_content']['datamodule'])['partition'],\n",
    "            \"config\": {k: v for k,v in run.config.items() if not k.startswith('_')},\n",
    "            \"summary\": run.summary._json_dict,\n",
    "            \"path\": None if \"predictions_path\" not in run.config.keys() else str(pathlib.Path(run.config[\"predictions_path\"]))\n",
    "#             'path': f'/sc-projects/sc-proj-ukb-cvd/results/models/retina/{run.id}/checkpoints/predictions/'\n",
    "        }\n",
    "    )"
   ]
  },
  {
   "cell_type": "code",
   "execution_count": 7,
   "metadata": {
    "execution": {
     "iopub.execute_input": "2022-11-08T16:06:44.587931Z",
     "iopub.status.busy": "2022-11-08T16:06:44.587809Z",
     "iopub.status.idle": "2022-11-08T16:06:44.595146Z",
     "shell.execute_reply": "2022-11-08T16:06:44.594656Z",
     "shell.execute_reply.started": "2022-11-08T16:06:44.587916Z"
    },
    "tags": []
   },
   "outputs": [],
   "source": [
    "# select those w/ predictions path:\n",
    "runs_df = pd.DataFrame(run_list)\n",
    "runs_df = runs_df.query('partition in @partitions')#, parser='python')"
   ]
  },
  {
   "cell_type": "code",
   "execution_count": 8,
   "metadata": {
    "execution": {
     "iopub.execute_input": "2022-11-08T16:06:44.596229Z",
     "iopub.status.busy": "2022-11-08T16:06:44.595902Z",
     "iopub.status.idle": "2022-11-08T16:06:45.147840Z",
     "shell.execute_reply": "2022-11-08T16:06:45.147262Z",
     "shell.execute_reply.started": "2022-11-08T16:06:44.596210Z"
    },
    "tags": []
   },
   "outputs": [
    {
     "data": {
      "text/html": [
       "<div>\n",
       "<style scoped>\n",
       "    .dataframe tbody tr th:only-of-type {\n",
       "        vertical-align: middle;\n",
       "    }\n",
       "\n",
       "    .dataframe tbody tr th {\n",
       "        vertical-align: top;\n",
       "    }\n",
       "\n",
       "    .dataframe thead th {\n",
       "        text-align: right;\n",
       "    }\n",
       "</style>\n",
       "<table border=\"1\" class=\"dataframe\">\n",
       "  <thead>\n",
       "    <tr style=\"text-align: right;\">\n",
       "      <th></th>\n",
       "      <th>id</th>\n",
       "      <th>name</th>\n",
       "      <th>tags</th>\n",
       "      <th>partition</th>\n",
       "      <th>config</th>\n",
       "      <th>summary</th>\n",
       "      <th>path</th>\n",
       "    </tr>\n",
       "  </thead>\n",
       "  <tbody>\n",
       "    <tr>\n",
       "      <th>0</th>\n",
       "      <td>ljhjndx2</td>\n",
       "      <td>220812_fullrun</td>\n",
       "      <td>[220812, baseline_data, image]</td>\n",
       "      <td>4</td>\n",
       "      <td>{'losses': ['&lt;retinalrisk.models.loss_wrapper....</td>\n",
       "      <td>{'valid/phecode_688-3 - Pyogenic granuloma of ...</td>\n",
       "      <td>/sc-projects/sc-proj-ukb-cvd/results/models/re...</td>\n",
       "    </tr>\n",
       "    <tr>\n",
       "      <th>1</th>\n",
       "      <td>1ts15g03</td>\n",
       "      <td>220812_fullrun_9</td>\n",
       "      <td>[220812, baseline_data, image]</td>\n",
       "      <td>9</td>\n",
       "      <td>{'losses': ['&lt;retinalrisk.models.loss_wrapper....</td>\n",
       "      <td>{'gradients/encoder.features.5.9.block.2.bias'...</td>\n",
       "      <td>/sc-projects/sc-proj-ukb-cvd/results/models/re...</td>\n",
       "    </tr>\n",
       "    <tr>\n",
       "      <th>2</th>\n",
       "      <td>jtx4az09</td>\n",
       "      <td>220812_fullrun_15</td>\n",
       "      <td>[220812, baseline_data, image]</td>\n",
       "      <td>15</td>\n",
       "      <td>{'losses': ['&lt;retinalrisk.models.loss_wrapper....</td>\n",
       "      <td>{'gradients/encoder.features.6.1.bias': {'valu...</td>\n",
       "      <td>/sc-projects/sc-proj-ukb-cvd/results/models/re...</td>\n",
       "    </tr>\n",
       "    <tr>\n",
       "      <th>3</th>\n",
       "      <td>10r747tq</td>\n",
       "      <td>220812_fullrun_3</td>\n",
       "      <td>[220812, baseline_data, image]</td>\n",
       "      <td>3</td>\n",
       "      <td>{'losses': ['&lt;retinalrisk.models.loss_wrapper....</td>\n",
       "      <td>{'valid/phecode_257 - Polydipsia_CIndex': 0.43...</td>\n",
       "      <td>/sc-projects/sc-proj-ukb-cvd/results/models/re...</td>\n",
       "    </tr>\n",
       "    <tr>\n",
       "      <th>4</th>\n",
       "      <td>3kkkwx1h</td>\n",
       "      <td>220812_fullrun_8</td>\n",
       "      <td>[220812, baseline_data, image]</td>\n",
       "      <td>8</td>\n",
       "      <td>{'losses': ['&lt;retinalrisk.models.loss_wrapper....</td>\n",
       "      <td>{'valid/phecode_431-12 - Hemorrhagic stroke_CI...</td>\n",
       "      <td>/sc-projects/sc-proj-ukb-cvd/results/models/re...</td>\n",
       "    </tr>\n",
       "    <tr>\n",
       "      <th>5</th>\n",
       "      <td>kr1fcpov</td>\n",
       "      <td>220812_fullrun_7</td>\n",
       "      <td>[220812, baseline_data, image]</td>\n",
       "      <td>7</td>\n",
       "      <td>{'losses': ['&lt;retinalrisk.models.loss_wrapper....</td>\n",
       "      <td>{'train/CoxPH_scaled': 4.406993865966797, 'val...</td>\n",
       "      <td>/sc-projects/sc-proj-ukb-cvd/results/models/re...</td>\n",
       "    </tr>\n",
       "    <tr>\n",
       "      <th>6</th>\n",
       "      <td>2i64fvxa</td>\n",
       "      <td>220812_fullrun_2</td>\n",
       "      <td>[220812, baseline_data, image]</td>\n",
       "      <td>2</td>\n",
       "      <td>{'losses': ['&lt;retinalrisk.models.loss_wrapper....</td>\n",
       "      <td>{'gradients/head.layers.6.bias': {'values': [1...</td>\n",
       "      <td>/sc-projects/sc-proj-ukb-cvd/results/models/re...</td>\n",
       "    </tr>\n",
       "    <tr>\n",
       "      <th>7</th>\n",
       "      <td>2lsliaj8</td>\n",
       "      <td>220812_fullrun_21</td>\n",
       "      <td>[220812, baseline_data, image]</td>\n",
       "      <td>21</td>\n",
       "      <td>{'losses': ['&lt;retinalrisk.models.loss_wrapper....</td>\n",
       "      <td>{'valid/phecode_355-1 - Coma_CIndex': 0.519532...</td>\n",
       "      <td>/sc-projects/sc-proj-ukb-cvd/results/models/re...</td>\n",
       "    </tr>\n",
       "    <tr>\n",
       "      <th>8</th>\n",
       "      <td>9e6xmhpu</td>\n",
       "      <td>220812_fullrun_14</td>\n",
       "      <td>[220812, baseline_data, image]</td>\n",
       "      <td>14</td>\n",
       "      <td>{'losses': ['&lt;retinalrisk.models.loss_wrapper....</td>\n",
       "      <td>{'valid/phecode_601-12 - Chronic prostatitis_C...</td>\n",
       "      <td>/sc-projects/sc-proj-ukb-cvd/results/models/re...</td>\n",
       "    </tr>\n",
       "    <tr>\n",
       "      <th>9</th>\n",
       "      <td>227i0u0y</td>\n",
       "      <td>220812_fullrun_13</td>\n",
       "      <td>[220812, baseline_data, image]</td>\n",
       "      <td>13</td>\n",
       "      <td>{'losses': ['&lt;retinalrisk.models.loss_wrapper....</td>\n",
       "      <td>{'gradients/encoder.features.5.3.block.3.bias'...</td>\n",
       "      <td>/sc-projects/sc-proj-ukb-cvd/results/models/re...</td>\n",
       "    </tr>\n",
       "    <tr>\n",
       "      <th>10</th>\n",
       "      <td>3r2tl7yf</td>\n",
       "      <td>220812_fullrun_20</td>\n",
       "      <td>[220812, baseline_data, image]</td>\n",
       "      <td>20</td>\n",
       "      <td>{'losses': ['&lt;retinalrisk.models.loss_wrapper....</td>\n",
       "      <td>{'gradients/encoder.features.5.15.layer_scale'...</td>\n",
       "      <td>/sc-projects/sc-proj-ukb-cvd/results/models/re...</td>\n",
       "    </tr>\n",
       "    <tr>\n",
       "      <th>11</th>\n",
       "      <td>3qdf1w29</td>\n",
       "      <td>220812_fullrun_5</td>\n",
       "      <td>[220812, baseline_data, image]</td>\n",
       "      <td>5</td>\n",
       "      <td>{'losses': ['&lt;retinalrisk.models.loss_wrapper....</td>\n",
       "      <td>{'valid/phecode_236-1 - Obesity_CIndex': 0.580...</td>\n",
       "      <td>/sc-projects/sc-proj-ukb-cvd/results/models/re...</td>\n",
       "    </tr>\n",
       "    <tr>\n",
       "      <th>12</th>\n",
       "      <td>10lyj53i</td>\n",
       "      <td>220812_fullrun_6</td>\n",
       "      <td>[220812, baseline_data, image]</td>\n",
       "      <td>6</td>\n",
       "      <td>{'losses': ['&lt;retinalrisk.models.loss_wrapper....</td>\n",
       "      <td>{'gradients/encoder.features.5.15.block.3.bias...</td>\n",
       "      <td>/sc-projects/sc-proj-ukb-cvd/results/models/re...</td>\n",
       "    </tr>\n",
       "    <tr>\n",
       "      <th>13</th>\n",
       "      <td>252j2c11</td>\n",
       "      <td>220812_fullrun_1</td>\n",
       "      <td>[220812, baseline_data, image]</td>\n",
       "      <td>1</td>\n",
       "      <td>{'losses': ['&lt;retinalrisk.models.loss_wrapper....</td>\n",
       "      <td>{'gradients/head.out.weight': {'bins': [-56.37...</td>\n",
       "      <td>/sc-projects/sc-proj-ukb-cvd/results/models/re...</td>\n",
       "    </tr>\n",
       "    <tr>\n",
       "      <th>14</th>\n",
       "      <td>k721isqz</td>\n",
       "      <td>220812_fullrun_0</td>\n",
       "      <td>[220812, baseline_data, image]</td>\n",
       "      <td>0</td>\n",
       "      <td>{'losses': ['&lt;retinalrisk.models.loss_wrapper....</td>\n",
       "      <td>{'gradients/encoder.features.1.1.block.0.weigh...</td>\n",
       "      <td>/sc-projects/sc-proj-ukb-cvd/results/models/re...</td>\n",
       "    </tr>\n",
       "    <tr>\n",
       "      <th>15</th>\n",
       "      <td>14jivz7l</td>\n",
       "      <td>220812_fullrun_ 12</td>\n",
       "      <td>[220812, baseline_data, image]</td>\n",
       "      <td>12</td>\n",
       "      <td>{'losses': ['&lt;retinalrisk.models.loss_wrapper....</td>\n",
       "      <td>{'valid/phecode_537-1 - Peritonitis_CIndex': 0...</td>\n",
       "      <td>/sc-projects/sc-proj-ukb-cvd/results/models/re...</td>\n",
       "    </tr>\n",
       "    <tr>\n",
       "      <th>16</th>\n",
       "      <td>3fdm7z04</td>\n",
       "      <td>220812_fullrun_ 11</td>\n",
       "      <td>[220812, baseline_data, image]</td>\n",
       "      <td>11</td>\n",
       "      <td>{'losses': ['&lt;retinalrisk.models.loss_wrapper....</td>\n",
       "      <td>{'valid/phecode_660-6 - Cellulitis and abscess...</td>\n",
       "      <td>/sc-projects/sc-proj-ukb-cvd/results/models/re...</td>\n",
       "    </tr>\n",
       "    <tr>\n",
       "      <th>17</th>\n",
       "      <td>rids0apm</td>\n",
       "      <td>220812_fullrun_ 19</td>\n",
       "      <td>[220812, baseline_data, image]</td>\n",
       "      <td>19</td>\n",
       "      <td>{'losses': ['&lt;retinalrisk.models.loss_wrapper....</td>\n",
       "      <td>{'valid/phecode_104 - Malignant sarcoma-relate...</td>\n",
       "      <td>/sc-projects/sc-proj-ukb-cvd/results/models/re...</td>\n",
       "    </tr>\n",
       "    <tr>\n",
       "      <th>18</th>\n",
       "      <td>onv5mdtx</td>\n",
       "      <td>220812_fullrun_ 18</td>\n",
       "      <td>[220812, baseline_data, image]</td>\n",
       "      <td>18</td>\n",
       "      <td>{'losses': ['&lt;retinalrisk.models.loss_wrapper....</td>\n",
       "      <td>{'gradients/encoder.features.1.2.block.3.bias'...</td>\n",
       "      <td>/sc-projects/sc-proj-ukb-cvd/results/models/re...</td>\n",
       "    </tr>\n",
       "    <tr>\n",
       "      <th>19</th>\n",
       "      <td>1ab5sf8x</td>\n",
       "      <td>220812_fullrun_ 10</td>\n",
       "      <td>[220812, baseline_data, image]</td>\n",
       "      <td>10</td>\n",
       "      <td>{'losses': ['&lt;retinalrisk.models.loss_wrapper....</td>\n",
       "      <td>{'valid/phecode_509-11 - Glossodynia_CIndex': ...</td>\n",
       "      <td>/sc-projects/sc-proj-ukb-cvd/results/models/re...</td>\n",
       "    </tr>\n",
       "    <tr>\n",
       "      <th>20</th>\n",
       "      <td>1mrr7n3b</td>\n",
       "      <td>220812_fullrun_ 17</td>\n",
       "      <td>[220812, baseline_data, image]</td>\n",
       "      <td>17</td>\n",
       "      <td>{'losses': ['&lt;retinalrisk.models.loss_wrapper....</td>\n",
       "      <td>{'gradients/encoder.features.5.20.block.0.weig...</td>\n",
       "      <td>/sc-projects/sc-proj-ukb-cvd/results/models/re...</td>\n",
       "    </tr>\n",
       "    <tr>\n",
       "      <th>21</th>\n",
       "      <td>1hj3owhe</td>\n",
       "      <td>220812_fullrun_16</td>\n",
       "      <td>[220812, baseline_data, image]</td>\n",
       "      <td>16</td>\n",
       "      <td>{'losses': ['&lt;retinalrisk.models.loss_wrapper....</td>\n",
       "      <td>{'valid/phecode_522-9 - Gastritis_CIndex': 0.5...</td>\n",
       "      <td>/sc-projects/sc-proj-ukb-cvd/results/models/re...</td>\n",
       "    </tr>\n",
       "  </tbody>\n",
       "</table>\n",
       "</div>"
      ],
      "text/plain": [
       "          id                name                            tags  partition  \\\n",
       "0   ljhjndx2      220812_fullrun  [220812, baseline_data, image]          4   \n",
       "1   1ts15g03    220812_fullrun_9  [220812, baseline_data, image]          9   \n",
       "2   jtx4az09   220812_fullrun_15  [220812, baseline_data, image]         15   \n",
       "3   10r747tq    220812_fullrun_3  [220812, baseline_data, image]          3   \n",
       "4   3kkkwx1h    220812_fullrun_8  [220812, baseline_data, image]          8   \n",
       "5   kr1fcpov    220812_fullrun_7  [220812, baseline_data, image]          7   \n",
       "6   2i64fvxa    220812_fullrun_2  [220812, baseline_data, image]          2   \n",
       "7   2lsliaj8   220812_fullrun_21  [220812, baseline_data, image]         21   \n",
       "8   9e6xmhpu   220812_fullrun_14  [220812, baseline_data, image]         14   \n",
       "9   227i0u0y   220812_fullrun_13  [220812, baseline_data, image]         13   \n",
       "10  3r2tl7yf   220812_fullrun_20  [220812, baseline_data, image]         20   \n",
       "11  3qdf1w29    220812_fullrun_5  [220812, baseline_data, image]          5   \n",
       "12  10lyj53i    220812_fullrun_6  [220812, baseline_data, image]          6   \n",
       "13  252j2c11    220812_fullrun_1  [220812, baseline_data, image]          1   \n",
       "14  k721isqz    220812_fullrun_0  [220812, baseline_data, image]          0   \n",
       "15  14jivz7l  220812_fullrun_ 12  [220812, baseline_data, image]         12   \n",
       "16  3fdm7z04  220812_fullrun_ 11  [220812, baseline_data, image]         11   \n",
       "17  rids0apm  220812_fullrun_ 19  [220812, baseline_data, image]         19   \n",
       "18  onv5mdtx  220812_fullrun_ 18  [220812, baseline_data, image]         18   \n",
       "19  1ab5sf8x  220812_fullrun_ 10  [220812, baseline_data, image]         10   \n",
       "20  1mrr7n3b  220812_fullrun_ 17  [220812, baseline_data, image]         17   \n",
       "21  1hj3owhe   220812_fullrun_16  [220812, baseline_data, image]         16   \n",
       "\n",
       "                                               config  \\\n",
       "0   {'losses': ['<retinalrisk.models.loss_wrapper....   \n",
       "1   {'losses': ['<retinalrisk.models.loss_wrapper....   \n",
       "2   {'losses': ['<retinalrisk.models.loss_wrapper....   \n",
       "3   {'losses': ['<retinalrisk.models.loss_wrapper....   \n",
       "4   {'losses': ['<retinalrisk.models.loss_wrapper....   \n",
       "5   {'losses': ['<retinalrisk.models.loss_wrapper....   \n",
       "6   {'losses': ['<retinalrisk.models.loss_wrapper....   \n",
       "7   {'losses': ['<retinalrisk.models.loss_wrapper....   \n",
       "8   {'losses': ['<retinalrisk.models.loss_wrapper....   \n",
       "9   {'losses': ['<retinalrisk.models.loss_wrapper....   \n",
       "10  {'losses': ['<retinalrisk.models.loss_wrapper....   \n",
       "11  {'losses': ['<retinalrisk.models.loss_wrapper....   \n",
       "12  {'losses': ['<retinalrisk.models.loss_wrapper....   \n",
       "13  {'losses': ['<retinalrisk.models.loss_wrapper....   \n",
       "14  {'losses': ['<retinalrisk.models.loss_wrapper....   \n",
       "15  {'losses': ['<retinalrisk.models.loss_wrapper....   \n",
       "16  {'losses': ['<retinalrisk.models.loss_wrapper....   \n",
       "17  {'losses': ['<retinalrisk.models.loss_wrapper....   \n",
       "18  {'losses': ['<retinalrisk.models.loss_wrapper....   \n",
       "19  {'losses': ['<retinalrisk.models.loss_wrapper....   \n",
       "20  {'losses': ['<retinalrisk.models.loss_wrapper....   \n",
       "21  {'losses': ['<retinalrisk.models.loss_wrapper....   \n",
       "\n",
       "                                              summary  \\\n",
       "0   {'valid/phecode_688-3 - Pyogenic granuloma of ...   \n",
       "1   {'gradients/encoder.features.5.9.block.2.bias'...   \n",
       "2   {'gradients/encoder.features.6.1.bias': {'valu...   \n",
       "3   {'valid/phecode_257 - Polydipsia_CIndex': 0.43...   \n",
       "4   {'valid/phecode_431-12 - Hemorrhagic stroke_CI...   \n",
       "5   {'train/CoxPH_scaled': 4.406993865966797, 'val...   \n",
       "6   {'gradients/head.layers.6.bias': {'values': [1...   \n",
       "7   {'valid/phecode_355-1 - Coma_CIndex': 0.519532...   \n",
       "8   {'valid/phecode_601-12 - Chronic prostatitis_C...   \n",
       "9   {'gradients/encoder.features.5.3.block.3.bias'...   \n",
       "10  {'gradients/encoder.features.5.15.layer_scale'...   \n",
       "11  {'valid/phecode_236-1 - Obesity_CIndex': 0.580...   \n",
       "12  {'gradients/encoder.features.5.15.block.3.bias...   \n",
       "13  {'gradients/head.out.weight': {'bins': [-56.37...   \n",
       "14  {'gradients/encoder.features.1.1.block.0.weigh...   \n",
       "15  {'valid/phecode_537-1 - Peritonitis_CIndex': 0...   \n",
       "16  {'valid/phecode_660-6 - Cellulitis and abscess...   \n",
       "17  {'valid/phecode_104 - Malignant sarcoma-relate...   \n",
       "18  {'gradients/encoder.features.1.2.block.3.bias'...   \n",
       "19  {'valid/phecode_509-11 - Glossodynia_CIndex': ...   \n",
       "20  {'gradients/encoder.features.5.20.block.0.weig...   \n",
       "21  {'valid/phecode_522-9 - Gastritis_CIndex': 0.5...   \n",
       "\n",
       "                                                 path  \n",
       "0   /sc-projects/sc-proj-ukb-cvd/results/models/re...  \n",
       "1   /sc-projects/sc-proj-ukb-cvd/results/models/re...  \n",
       "2   /sc-projects/sc-proj-ukb-cvd/results/models/re...  \n",
       "3   /sc-projects/sc-proj-ukb-cvd/results/models/re...  \n",
       "4   /sc-projects/sc-proj-ukb-cvd/results/models/re...  \n",
       "5   /sc-projects/sc-proj-ukb-cvd/results/models/re...  \n",
       "6   /sc-projects/sc-proj-ukb-cvd/results/models/re...  \n",
       "7   /sc-projects/sc-proj-ukb-cvd/results/models/re...  \n",
       "8   /sc-projects/sc-proj-ukb-cvd/results/models/re...  \n",
       "9   /sc-projects/sc-proj-ukb-cvd/results/models/re...  \n",
       "10  /sc-projects/sc-proj-ukb-cvd/results/models/re...  \n",
       "11  /sc-projects/sc-proj-ukb-cvd/results/models/re...  \n",
       "12  /sc-projects/sc-proj-ukb-cvd/results/models/re...  \n",
       "13  /sc-projects/sc-proj-ukb-cvd/results/models/re...  \n",
       "14  /sc-projects/sc-proj-ukb-cvd/results/models/re...  \n",
       "15  /sc-projects/sc-proj-ukb-cvd/results/models/re...  \n",
       "16  /sc-projects/sc-proj-ukb-cvd/results/models/re...  \n",
       "17  /sc-projects/sc-proj-ukb-cvd/results/models/re...  \n",
       "18  /sc-projects/sc-proj-ukb-cvd/results/models/re...  \n",
       "19  /sc-projects/sc-proj-ukb-cvd/results/models/re...  \n",
       "20  /sc-projects/sc-proj-ukb-cvd/results/models/re...  \n",
       "21  /sc-projects/sc-proj-ukb-cvd/results/models/re...  "
      ]
     },
     "execution_count": 8,
     "metadata": {},
     "output_type": "execute_result"
    }
   ],
   "source": [
    "runs_df"
   ]
  },
  {
   "cell_type": "code",
   "execution_count": 9,
   "metadata": {
    "execution": {
     "iopub.execute_input": "2022-11-08T16:06:45.149349Z",
     "iopub.status.busy": "2022-11-08T16:06:45.148845Z",
     "iopub.status.idle": "2022-11-08T16:06:45.152562Z",
     "shell.execute_reply": "2022-11-08T16:06:45.152083Z",
     "shell.execute_reply.started": "2022-11-08T16:06:45.149326Z"
    },
    "tags": []
   },
   "outputs": [
    {
     "name": "stdout",
     "output_type": "stream",
     "text": [
      "/sc-projects/sc-proj-ukb-cvd/results/models/retina/ljhjndx2/predictions\n"
     ]
    }
   ],
   "source": [
    "print(runs_df['path'].iloc[0])"
   ]
  },
  {
   "cell_type": "markdown",
   "metadata": {},
   "source": [
    "## Process Predictions"
   ]
  },
  {
   "cell_type": "code",
   "execution_count": 10,
   "metadata": {
    "execution": {
     "iopub.execute_input": "2022-11-08T16:06:45.153524Z",
     "iopub.status.busy": "2022-11-08T16:06:45.153235Z",
     "iopub.status.idle": "2022-11-08T16:06:45.202696Z",
     "shell.execute_reply": "2022-11-08T16:06:45.202268Z",
     "shell.execute_reply.started": "2022-11-08T16:06:45.153507Z"
    },
    "tags": []
   },
   "outputs": [],
   "source": [
    "id_vars = [\"eid\", \"model\", \"partition\", \"split\"]"
   ]
  },
  {
   "cell_type": "code",
   "execution_count": 11,
   "metadata": {
    "execution": {
     "iopub.execute_input": "2022-11-08T16:06:45.203627Z",
     "iopub.status.busy": "2022-11-08T16:06:45.203340Z",
     "iopub.status.idle": "2022-11-08T16:06:45.218755Z",
     "shell.execute_reply": "2022-11-08T16:06:45.218327Z",
     "shell.execute_reply.started": "2022-11-08T16:06:45.203608Z"
    },
    "tags": []
   },
   "outputs": [],
   "source": [
    "out_path = f\"{experiment_path}/loghs\"\n",
    "pathlib.Path(out_path).mkdir(parents=True, exist_ok=True)"
   ]
  },
  {
   "cell_type": "code",
   "execution_count": 12,
   "metadata": {
    "execution": {
     "iopub.execute_input": "2022-11-08T16:06:45.220908Z",
     "iopub.status.busy": "2022-11-08T16:06:45.220523Z",
     "iopub.status.idle": "2022-11-08T16:06:45.228124Z",
     "shell.execute_reply": "2022-11-08T16:06:45.227714Z",
     "shell.execute_reply.started": "2022-11-08T16:06:45.220889Z"
    },
    "tags": []
   },
   "outputs": [
    {
     "data": {
      "text/plain": [
       "'/sc-projects/sc-proj-ukb-cvd/results/projects/22_retina_phewas/data/221108/loghs'"
      ]
     },
     "execution_count": 12,
     "metadata": {},
     "output_type": "execute_result"
    }
   ],
   "source": [
    "out_path"
   ]
  },
  {
   "cell_type": "code",
   "execution_count": 13,
   "metadata": {
    "execution": {
     "iopub.execute_input": "2022-11-08T16:06:45.228854Z",
     "iopub.status.busy": "2022-11-08T16:06:45.228750Z",
     "iopub.status.idle": "2022-11-08T16:06:45.243138Z",
     "shell.execute_reply": "2022-11-08T16:06:45.242703Z",
     "shell.execute_reply.started": "2022-11-08T16:06:45.228842Z"
    },
    "tags": []
   },
   "outputs": [],
   "source": [
    "# @ray.remote\n",
    "def prepare_predictions(in_path, out_path):\n",
    "    for cr in name_dict.keys():\n",
    "        in_path_cr = os.path.join(in_path, f'{cr}.feather')\n",
    "        temp = pd.read_feather(in_path_cr).rename(columns={\"index\": \"eid\"}).set_index('eid')\n",
    "        \n",
    "        # skip stuff if already written:\n",
    "        # mean duplicated indices aka left and right eye value per eid\n",
    "        temp_with_meaned_test_preds = temp.groupby(level=0).mean()\n",
    "        \n",
    "        # recover columns that are non-endpoints:\n",
    "        other_cols = [c for c in temp.columns.values if c not in endpoint_columns]\n",
    "        temp_with_meaned_test_preds = temp_with_meaned_test_preds.merge(temp[other_cols][~temp.index.duplicated()], left_index=True, right_index=True, how='left')\n",
    "   \n",
    "        temp = temp_with_meaned_test_preds.reset_index(drop=False)\n",
    "\n",
    "        # rename 10_1_Ft__ and dropping ft and St cols if present\n",
    "        cols_to_drop = []\n",
    "        cols_to_rename = {}\n",
    "        for col in temp.columns.values:\n",
    "            if 'ft' in col:\n",
    "                cols_to_drop.append(col)\n",
    "            elif 'St' in col:\n",
    "                cols_to_drop.append(col)\n",
    "            elif 'Ft' in col:\n",
    "                cols_to_rename[col] = col.replace('1_10_Ft__', '')\n",
    "                \n",
    "        temp['record_cols'] = None\n",
    "        temp[\"model\"] = (temp.module.astype(str) + \"_\" + temp.covariate_cols.astype(str) + \"_\" + temp.encoder.astype(str) + \"_\" + temp[\"head\"].astype(str)).astype(\"category\")\n",
    "        temp = temp.replace({\"model\":name_dict}).drop(columns=[\"module\", \"encoder\", \"head\", \"covariate_cols\", \"record_cols\"]).drop(columns=cols_to_drop).rename(columns=cols_to_rename)\n",
    "        for c in id_vars: \n",
    "            temp[c] = temp[c].astype(\"category\")\n",
    "            \n",
    "        model = temp.model.unique()[0]\n",
    "        model = f'{model}_{cr}'\n",
    "        partition = temp.partition.unique()[0]\n",
    "        \n",
    "#         if os.path.exists(f\"{out_path}/{model}/{partition}/train.feather\"):\n",
    "#             if os.path.exists(f\"{out_path}/{model}/{partition}/test.feather\") and os.path.exists(f\"{out_path}/{model}/{partition}/valid.feather\"):\n",
    "#                 print(f'skipping {partition} as already exists')\n",
    "#                 continue\n",
    "        \n",
    "   \n",
    "        for split in [\"train\", \"valid\", \"test\"]: #\"test_left\", 'test_right'\n",
    "            fp_out = f\"{out_path}/{model}/{partition}\"\n",
    "            pathlib.Path(fp_out).mkdir(parents=True, exist_ok=True)\n",
    "            t = temp.query(\"split==@split\")\n",
    "            t.reset_index(drop=True).to_feather(f\"{fp_out}/{split}.feather\")\n",
    "            print(f\"{fp_out}/{split}.feather\")"
   ]
  },
  {
   "cell_type": "code",
   "execution_count": null,
   "metadata": {
    "execution": {
     "iopub.execute_input": "2022-11-08T16:06:45.244052Z",
     "iopub.status.busy": "2022-11-08T16:06:45.243772Z"
    },
    "tags": []
   },
   "outputs": [
    {
     "data": {
      "application/vnd.jupyter.widget-view+json": {
       "model_id": "55e4c4f7ba69489681a6f145fd5c86aa",
       "version_major": 2,
       "version_minor": 0
      },
      "text/plain": [
       "  0%|          | 0/22 [00:00<?, ?it/s]"
      ]
     },
     "metadata": {},
     "output_type": "display_data"
    },
    {
     "name": "stdout",
     "output_type": "stream",
     "text": [
      "/sc-projects/sc-proj-ukb-cvd/results/projects/22_retina_phewas/data/221108/loghs/ImageTraining_[]_ConvNeXt_MLPHead_predictions_cropratio0.66/4/train.feather\n",
      "/sc-projects/sc-proj-ukb-cvd/results/projects/22_retina_phewas/data/221108/loghs/ImageTraining_[]_ConvNeXt_MLPHead_predictions_cropratio0.66/4/valid.feather\n",
      "/sc-projects/sc-proj-ukb-cvd/results/projects/22_retina_phewas/data/221108/loghs/ImageTraining_[]_ConvNeXt_MLPHead_predictions_cropratio0.66/4/test.feather\n",
      "/sc-projects/sc-proj-ukb-cvd/results/projects/22_retina_phewas/data/221108/loghs/ImageTraining_[]_ConvNeXt_MLPHead_predictions_cropratio0.66/9/train.feather\n",
      "/sc-projects/sc-proj-ukb-cvd/results/projects/22_retina_phewas/data/221108/loghs/ImageTraining_[]_ConvNeXt_MLPHead_predictions_cropratio0.66/9/valid.feather\n",
      "/sc-projects/sc-proj-ukb-cvd/results/projects/22_retina_phewas/data/221108/loghs/ImageTraining_[]_ConvNeXt_MLPHead_predictions_cropratio0.66/9/test.feather\n",
      "/sc-projects/sc-proj-ukb-cvd/results/projects/22_retina_phewas/data/221108/loghs/ImageTraining_[]_ConvNeXt_MLPHead_predictions_cropratio0.66/15/train.feather\n",
      "/sc-projects/sc-proj-ukb-cvd/results/projects/22_retina_phewas/data/221108/loghs/ImageTraining_[]_ConvNeXt_MLPHead_predictions_cropratio0.66/15/valid.feather\n",
      "/sc-projects/sc-proj-ukb-cvd/results/projects/22_retina_phewas/data/221108/loghs/ImageTraining_[]_ConvNeXt_MLPHead_predictions_cropratio0.66/15/test.feather\n",
      "/sc-projects/sc-proj-ukb-cvd/results/projects/22_retina_phewas/data/221108/loghs/ImageTraining_[]_ConvNeXt_MLPHead_predictions_cropratio0.66/3/train.feather\n",
      "/sc-projects/sc-proj-ukb-cvd/results/projects/22_retina_phewas/data/221108/loghs/ImageTraining_[]_ConvNeXt_MLPHead_predictions_cropratio0.66/3/valid.feather\n",
      "/sc-projects/sc-proj-ukb-cvd/results/projects/22_retina_phewas/data/221108/loghs/ImageTraining_[]_ConvNeXt_MLPHead_predictions_cropratio0.66/3/test.feather\n",
      "/sc-projects/sc-proj-ukb-cvd/results/projects/22_retina_phewas/data/221108/loghs/ImageTraining_[]_ConvNeXt_MLPHead_predictions_cropratio0.66/8/train.feather\n",
      "/sc-projects/sc-proj-ukb-cvd/results/projects/22_retina_phewas/data/221108/loghs/ImageTraining_[]_ConvNeXt_MLPHead_predictions_cropratio0.66/8/valid.feather\n",
      "/sc-projects/sc-proj-ukb-cvd/results/projects/22_retina_phewas/data/221108/loghs/ImageTraining_[]_ConvNeXt_MLPHead_predictions_cropratio0.66/8/test.feather\n",
      "/sc-projects/sc-proj-ukb-cvd/results/projects/22_retina_phewas/data/221108/loghs/ImageTraining_[]_ConvNeXt_MLPHead_predictions_cropratio0.66/7/train.feather\n",
      "/sc-projects/sc-proj-ukb-cvd/results/projects/22_retina_phewas/data/221108/loghs/ImageTraining_[]_ConvNeXt_MLPHead_predictions_cropratio0.66/7/valid.feather\n",
      "/sc-projects/sc-proj-ukb-cvd/results/projects/22_retina_phewas/data/221108/loghs/ImageTraining_[]_ConvNeXt_MLPHead_predictions_cropratio0.66/7/test.feather\n",
      "/sc-projects/sc-proj-ukb-cvd/results/projects/22_retina_phewas/data/221108/loghs/ImageTraining_[]_ConvNeXt_MLPHead_predictions_cropratio0.66/2/train.feather\n",
      "/sc-projects/sc-proj-ukb-cvd/results/projects/22_retina_phewas/data/221108/loghs/ImageTraining_[]_ConvNeXt_MLPHead_predictions_cropratio0.66/2/valid.feather\n",
      "/sc-projects/sc-proj-ukb-cvd/results/projects/22_retina_phewas/data/221108/loghs/ImageTraining_[]_ConvNeXt_MLPHead_predictions_cropratio0.66/2/test.feather\n",
      "/sc-projects/sc-proj-ukb-cvd/results/projects/22_retina_phewas/data/221108/loghs/ImageTraining_[]_ConvNeXt_MLPHead_predictions_cropratio0.66/21/train.feather\n",
      "/sc-projects/sc-proj-ukb-cvd/results/projects/22_retina_phewas/data/221108/loghs/ImageTraining_[]_ConvNeXt_MLPHead_predictions_cropratio0.66/21/valid.feather\n",
      "/sc-projects/sc-proj-ukb-cvd/results/projects/22_retina_phewas/data/221108/loghs/ImageTraining_[]_ConvNeXt_MLPHead_predictions_cropratio0.66/21/test.feather\n",
      "/sc-projects/sc-proj-ukb-cvd/results/projects/22_retina_phewas/data/221108/loghs/ImageTraining_[]_ConvNeXt_MLPHead_predictions_cropratio0.66/14/train.feather\n",
      "/sc-projects/sc-proj-ukb-cvd/results/projects/22_retina_phewas/data/221108/loghs/ImageTraining_[]_ConvNeXt_MLPHead_predictions_cropratio0.66/14/valid.feather\n",
      "/sc-projects/sc-proj-ukb-cvd/results/projects/22_retina_phewas/data/221108/loghs/ImageTraining_[]_ConvNeXt_MLPHead_predictions_cropratio0.66/14/test.feather\n",
      "/sc-projects/sc-proj-ukb-cvd/results/projects/22_retina_phewas/data/221108/loghs/ImageTraining_[]_ConvNeXt_MLPHead_predictions_cropratio0.66/13/train.feather\n",
      "/sc-projects/sc-proj-ukb-cvd/results/projects/22_retina_phewas/data/221108/loghs/ImageTraining_[]_ConvNeXt_MLPHead_predictions_cropratio0.66/13/valid.feather\n",
      "/sc-projects/sc-proj-ukb-cvd/results/projects/22_retina_phewas/data/221108/loghs/ImageTraining_[]_ConvNeXt_MLPHead_predictions_cropratio0.66/13/test.feather\n",
      "/sc-projects/sc-proj-ukb-cvd/results/projects/22_retina_phewas/data/221108/loghs/ImageTraining_[]_ConvNeXt_MLPHead_predictions_cropratio0.66/20/train.feather\n",
      "/sc-projects/sc-proj-ukb-cvd/results/projects/22_retina_phewas/data/221108/loghs/ImageTraining_[]_ConvNeXt_MLPHead_predictions_cropratio0.66/20/valid.feather\n",
      "/sc-projects/sc-proj-ukb-cvd/results/projects/22_retina_phewas/data/221108/loghs/ImageTraining_[]_ConvNeXt_MLPHead_predictions_cropratio0.66/20/test.feather\n",
      "/sc-projects/sc-proj-ukb-cvd/results/projects/22_retina_phewas/data/221108/loghs/ImageTraining_[]_ConvNeXt_MLPHead_predictions_cropratio0.66/5/train.feather\n",
      "/sc-projects/sc-proj-ukb-cvd/results/projects/22_retina_phewas/data/221108/loghs/ImageTraining_[]_ConvNeXt_MLPHead_predictions_cropratio0.66/5/valid.feather\n",
      "/sc-projects/sc-proj-ukb-cvd/results/projects/22_retina_phewas/data/221108/loghs/ImageTraining_[]_ConvNeXt_MLPHead_predictions_cropratio0.66/5/test.feather\n",
      "/sc-projects/sc-proj-ukb-cvd/results/projects/22_retina_phewas/data/221108/loghs/ImageTraining_[]_ConvNeXt_MLPHead_predictions_cropratio0.66/6/train.feather\n",
      "/sc-projects/sc-proj-ukb-cvd/results/projects/22_retina_phewas/data/221108/loghs/ImageTraining_[]_ConvNeXt_MLPHead_predictions_cropratio0.66/6/valid.feather\n",
      "/sc-projects/sc-proj-ukb-cvd/results/projects/22_retina_phewas/data/221108/loghs/ImageTraining_[]_ConvNeXt_MLPHead_predictions_cropratio0.66/6/test.feather\n",
      "/sc-projects/sc-proj-ukb-cvd/results/projects/22_retina_phewas/data/221108/loghs/ImageTraining_[]_ConvNeXt_MLPHead_predictions_cropratio0.66/1/train.feather\n",
      "/sc-projects/sc-proj-ukb-cvd/results/projects/22_retina_phewas/data/221108/loghs/ImageTraining_[]_ConvNeXt_MLPHead_predictions_cropratio0.66/1/valid.feather\n",
      "/sc-projects/sc-proj-ukb-cvd/results/projects/22_retina_phewas/data/221108/loghs/ImageTraining_[]_ConvNeXt_MLPHead_predictions_cropratio0.66/1/test.feather\n",
      "/sc-projects/sc-proj-ukb-cvd/results/projects/22_retina_phewas/data/221108/loghs/ImageTraining_[]_ConvNeXt_MLPHead_predictions_cropratio0.66/0/train.feather\n",
      "/sc-projects/sc-proj-ukb-cvd/results/projects/22_retina_phewas/data/221108/loghs/ImageTraining_[]_ConvNeXt_MLPHead_predictions_cropratio0.66/0/valid.feather\n",
      "/sc-projects/sc-proj-ukb-cvd/results/projects/22_retina_phewas/data/221108/loghs/ImageTraining_[]_ConvNeXt_MLPHead_predictions_cropratio0.66/0/test.feather\n",
      "/sc-projects/sc-proj-ukb-cvd/results/projects/22_retina_phewas/data/221108/loghs/ImageTraining_[]_ConvNeXt_MLPHead_predictions_cropratio0.66/12/train.feather\n",
      "/sc-projects/sc-proj-ukb-cvd/results/projects/22_retina_phewas/data/221108/loghs/ImageTraining_[]_ConvNeXt_MLPHead_predictions_cropratio0.66/12/valid.feather\n",
      "/sc-projects/sc-proj-ukb-cvd/results/projects/22_retina_phewas/data/221108/loghs/ImageTraining_[]_ConvNeXt_MLPHead_predictions_cropratio0.66/12/test.feather\n",
      "/sc-projects/sc-proj-ukb-cvd/results/projects/22_retina_phewas/data/221108/loghs/ImageTraining_[]_ConvNeXt_MLPHead_predictions_cropratio0.66/11/train.feather\n",
      "/sc-projects/sc-proj-ukb-cvd/results/projects/22_retina_phewas/data/221108/loghs/ImageTraining_[]_ConvNeXt_MLPHead_predictions_cropratio0.66/11/valid.feather\n",
      "/sc-projects/sc-proj-ukb-cvd/results/projects/22_retina_phewas/data/221108/loghs/ImageTraining_[]_ConvNeXt_MLPHead_predictions_cropratio0.66/11/test.feather\n",
      "/sc-projects/sc-proj-ukb-cvd/results/projects/22_retina_phewas/data/221108/loghs/ImageTraining_[]_ConvNeXt_MLPHead_predictions_cropratio0.66/19/train.feather\n",
      "/sc-projects/sc-proj-ukb-cvd/results/projects/22_retina_phewas/data/221108/loghs/ImageTraining_[]_ConvNeXt_MLPHead_predictions_cropratio0.66/19/valid.feather\n",
      "/sc-projects/sc-proj-ukb-cvd/results/projects/22_retina_phewas/data/221108/loghs/ImageTraining_[]_ConvNeXt_MLPHead_predictions_cropratio0.66/19/test.feather\n",
      "/sc-projects/sc-proj-ukb-cvd/results/projects/22_retina_phewas/data/221108/loghs/ImageTraining_[]_ConvNeXt_MLPHead_predictions_cropratio0.66/18/train.feather\n",
      "/sc-projects/sc-proj-ukb-cvd/results/projects/22_retina_phewas/data/221108/loghs/ImageTraining_[]_ConvNeXt_MLPHead_predictions_cropratio0.66/18/valid.feather\n",
      "/sc-projects/sc-proj-ukb-cvd/results/projects/22_retina_phewas/data/221108/loghs/ImageTraining_[]_ConvNeXt_MLPHead_predictions_cropratio0.66/18/test.feather\n",
      "/sc-projects/sc-proj-ukb-cvd/results/projects/22_retina_phewas/data/221108/loghs/ImageTraining_[]_ConvNeXt_MLPHead_predictions_cropratio0.66/10/train.feather\n",
      "/sc-projects/sc-proj-ukb-cvd/results/projects/22_retina_phewas/data/221108/loghs/ImageTraining_[]_ConvNeXt_MLPHead_predictions_cropratio0.66/10/valid.feather\n",
      "/sc-projects/sc-proj-ukb-cvd/results/projects/22_retina_phewas/data/221108/loghs/ImageTraining_[]_ConvNeXt_MLPHead_predictions_cropratio0.66/10/test.feather\n",
      "/sc-projects/sc-proj-ukb-cvd/results/projects/22_retina_phewas/data/221108/loghs/ImageTraining_[]_ConvNeXt_MLPHead_predictions_cropratio0.66/17/train.feather\n",
      "/sc-projects/sc-proj-ukb-cvd/results/projects/22_retina_phewas/data/221108/loghs/ImageTraining_[]_ConvNeXt_MLPHead_predictions_cropratio0.66/17/valid.feather\n",
      "/sc-projects/sc-proj-ukb-cvd/results/projects/22_retina_phewas/data/221108/loghs/ImageTraining_[]_ConvNeXt_MLPHead_predictions_cropratio0.66/17/test.feather\n"
     ]
    }
   ],
   "source": [
    "for row_idx in tqdm(range(len(runs_df))): \n",
    "    row = runs_df.iloc[row_idx]\n",
    "    p = row['path']\n",
    "    id = row['id']\n",
    "#     prepare_predictions.remote(p, out_path)\n",
    "    prepare_predictions(p, out_path)"
   ]
  },
  {
   "cell_type": "code",
   "execution_count": null,
   "metadata": {},
   "outputs": [],
   "source": [
    "out_path"
   ]
  },
  {
   "cell_type": "code",
   "execution_count": null,
   "metadata": {
    "tags": []
   },
   "outputs": [],
   "source": [
    "!ls -lah {out_path}/'ImageTraining_[]_ConvNeXt_MLPHead_predictions_cropratio0.66'"
   ]
  },
  {
   "cell_type": "code",
   "execution_count": null,
   "metadata": {
    "tags": []
   },
   "outputs": [],
   "source": [
    "out_path"
   ]
  },
  {
   "cell_type": "code",
   "execution_count": null,
   "metadata": {},
   "outputs": [],
   "source": []
  },
  {
   "cell_type": "code",
   "execution_count": null,
   "metadata": {},
   "outputs": [],
   "source": []
  },
  {
   "cell_type": "code",
   "execution_count": null,
   "metadata": {},
   "outputs": [],
   "source": []
  },
  {
   "cell_type": "code",
   "execution_count": null,
   "metadata": {},
   "outputs": [],
   "source": []
  },
  {
   "cell_type": "code",
   "execution_count": null,
   "metadata": {},
   "outputs": [],
   "source": []
  }
 ],
 "metadata": {
  "interpreter": {
   "hash": "7fb005937abf8310e947cacdef9aa24b4c9570846765db425bfb20f46bc066c7"
  },
  "kernelspec": {
   "display_name": "retrisk",
   "language": "python",
   "name": "retrisk"
  },
  "language_info": {
   "codemirror_mode": {
    "name": "ipython",
    "version": 3
   },
   "file_extension": ".py",
   "mimetype": "text/x-python",
   "name": "python",
   "nbconvert_exporter": "python",
   "pygments_lexer": "ipython3",
   "version": "3.9.7"
  }
 },
 "nbformat": 4,
 "nbformat_minor": 4
}
