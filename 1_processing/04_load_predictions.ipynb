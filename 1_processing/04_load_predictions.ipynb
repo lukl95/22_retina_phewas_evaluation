{
 "cells": [
  {
   "cell_type": "code",
   "execution_count": 1,
   "metadata": {
    "execution": {
     "iopub.execute_input": "2022-08-24T20:01:01.177225Z",
     "iopub.status.busy": "2022-08-24T20:01:01.177122Z",
     "iopub.status.idle": "2022-08-24T20:01:06.489981Z",
     "shell.execute_reply": "2022-08-24T20:01:06.489455Z",
     "shell.execute_reply.started": "2022-08-24T20:01:01.177194Z"
    },
    "tags": []
   },
   "outputs": [],
   "source": [
    "import numpy as np\n",
    "import pandas as pd\n",
    "import pathlib\n",
    "import os\n",
    "from tqdm.auto import tqdm\n",
    "\n",
    "import hydra\n",
    "from omegaconf import DictConfig, OmegaConf\n",
    "\n",
    "import torch\n",
    "#from torch_geometric import seed_everything\n",
    "\n",
    "import ray"
   ]
  },
  {
   "cell_type": "code",
   "execution_count": 2,
   "metadata": {
    "execution": {
     "iopub.execute_input": "2022-08-24T20:01:06.491115Z",
     "iopub.status.busy": "2022-08-24T20:01:06.490950Z",
     "iopub.status.idle": "2022-08-24T20:01:06.519293Z",
     "shell.execute_reply": "2022-08-24T20:01:06.518849Z",
     "shell.execute_reply.started": "2022-08-24T20:01:06.491100Z"
    },
    "tags": []
   },
   "outputs": [
    {
     "name": "stdout",
     "output_type": "stream",
     "text": [
      "/sc-projects/sc-proj-ukb-cvd\n"
     ]
    }
   ],
   "source": [
    "node = !hostname\n",
    "if \"sc\" in node[0]:\n",
    "    base_path = \"/sc-projects/sc-proj-ukb-cvd\"\n",
    "else: \n",
    "    base_path = \"/data/analysis/ag-reils/ag-reils-shared/cardioRS\"\n",
    "print(base_path)\n",
    "\n",
    "project_label = \"22_retina_phewas\"\n",
    "project_path = f\"{base_path}/results/projects/{project_label}\"\n",
    "figure_path = f\"{project_path}/figures\"\n",
    "output_path = f\"{project_path}/data\"\n",
    "\n",
    "pathlib.Path(figure_path).mkdir(parents=True, exist_ok=True)\n",
    "pathlib.Path(output_path).mkdir(parents=True, exist_ok=True)\n",
    "\n",
    "experiment = '220812_test'\n",
    "experiment_path = f\"{output_path}/{experiment}\"\n",
    "pathlib.Path(experiment_path).mkdir(parents=True, exist_ok=True)\n",
    "\n",
    "name_dict = {\n",
    "#     \"predictions_cropratio0.3\": \"ConvNextSmall(Retina)+MLP_cropratio0.3\",\n",
    "#     \"predictions_cropratio0.5\": \"ConvNextSmall(Retina)+MLP_cropratio0.5\",\n",
    "    \"predictions_cropratio0.66\": \"ConvNextSmall(Retina)+MLP_cropratio0.66\",\n",
    "}\n",
    "\n",
    "partitions = [i for i in range(22)]"
   ]
  },
  {
   "cell_type": "code",
   "execution_count": 3,
   "metadata": {
    "execution": {
     "iopub.execute_input": "2022-08-24T20:01:06.520095Z",
     "iopub.status.busy": "2022-08-24T20:01:06.519991Z",
     "iopub.status.idle": "2022-08-24T20:01:06.530830Z",
     "shell.execute_reply": "2022-08-24T20:01:06.530542Z",
     "shell.execute_reply.started": "2022-08-24T20:01:06.520082Z"
    },
    "tags": []
   },
   "outputs": [],
   "source": [
    "endpoint_columns = sorted([l.replace('_prevalent', '') for l in list(pd.read_csv('/sc-projects/sc-proj-ukb-cvd/results/projects/22_retinal_risk/data/220602/endpoints.csv').endpoint.values)])"
   ]
  },
  {
   "cell_type": "code",
   "execution_count": 4,
   "metadata": {
    "execution": {
     "iopub.execute_input": "2022-08-24T20:01:06.531331Z",
     "iopub.status.busy": "2022-08-24T20:01:06.531251Z",
     "iopub.status.idle": "2022-08-24T20:01:06.566421Z",
     "shell.execute_reply": "2022-08-24T20:01:06.566026Z",
     "shell.execute_reply.started": "2022-08-24T20:01:06.531321Z"
    },
    "tags": []
   },
   "outputs": [],
   "source": [
    "#ray.shutdown()\n",
    "#ray.init(num_cpus=24)\n",
    "# ray.init(address='auto')"
   ]
  },
  {
   "cell_type": "code",
   "execution_count": 5,
   "metadata": {
    "execution": {
     "iopub.execute_input": "2022-08-24T20:01:06.566922Z",
     "iopub.status.busy": "2022-08-24T20:01:06.566842Z",
     "iopub.status.idle": "2022-08-24T20:01:08.191996Z",
     "shell.execute_reply": "2022-08-24T20:01:08.191578Z",
     "shell.execute_reply.started": "2022-08-24T20:01:06.566912Z"
    },
    "tags": []
   },
   "outputs": [],
   "source": [
    "import wandb\n",
    "api = wandb.Api()\n",
    "entity, project = \"cardiors\", \"retina\"  # 'll-cha'\n",
    "tag = '220812'\n",
    "runs = api.runs(entity + \"/\" + project, filters={\"tags\": {\"$in\": [tag]}}) "
   ]
  },
  {
   "cell_type": "code",
   "execution_count": 6,
   "metadata": {
    "execution": {
     "iopub.execute_input": "2022-08-24T20:01:08.192794Z",
     "iopub.status.busy": "2022-08-24T20:01:08.192696Z",
     "iopub.status.idle": "2022-08-24T20:01:13.966661Z",
     "shell.execute_reply": "2022-08-24T20:01:13.966292Z",
     "shell.execute_reply.started": "2022-08-24T20:01:08.192780Z"
    },
    "tags": []
   },
   "outputs": [
    {
     "data": {
      "application/vnd.jupyter.widget-view+json": {
       "model_id": "147412a6e03c4709bf96eef18c63c26d",
       "version_major": 2,
       "version_minor": 0
      },
      "text/plain": [
       "  0%|          | 0/22 [00:00<?, ?it/s]"
      ]
     },
     "metadata": {},
     "output_type": "display_data"
    }
   ],
   "source": [
    "run_list = []\n",
    "for run in tqdm(runs): \n",
    "    run_list.append(\n",
    "        {\n",
    "            #\"id\": run.path[-1], \n",
    "            \"id\": run.id, \n",
    "            \"name\": run.name,\n",
    "            \"tags\": run.tags,\n",
    "            \"partition\": eval(run.config['_content']['datamodule'])['partition'],\n",
    "            \"config\": {k: v for k,v in run.config.items() if not k.startswith('_')},\n",
    "            \"summary\": run.summary._json_dict,\n",
    "            \"path\": None if \"predictions_path\" not in run.config.keys() else str(pathlib.Path(run.config[\"predictions_path\"]))\n",
    "#             'path': f'/sc-projects/sc-proj-ukb-cvd/results/models/retina/{run.id}/checkpoints/predictions/'\n",
    "        }\n",
    "    )"
   ]
  },
  {
   "cell_type": "code",
   "execution_count": 7,
   "metadata": {
    "execution": {
     "iopub.execute_input": "2022-08-24T20:01:13.967367Z",
     "iopub.status.busy": "2022-08-24T20:01:13.967275Z",
     "iopub.status.idle": "2022-08-24T20:01:13.972943Z",
     "shell.execute_reply": "2022-08-24T20:01:13.972635Z",
     "shell.execute_reply.started": "2022-08-24T20:01:13.967355Z"
    },
    "tags": []
   },
   "outputs": [],
   "source": [
    "# select those w/ predictions path:\n",
    "runs_df = pd.DataFrame(run_list)\n",
    "runs_df = runs_df.query('partition in @partitions')#, parser='python')"
   ]
  },
  {
   "cell_type": "code",
   "execution_count": 8,
   "metadata": {
    "execution": {
     "iopub.execute_input": "2022-08-24T20:01:13.973499Z",
     "iopub.status.busy": "2022-08-24T20:01:13.973412Z",
     "iopub.status.idle": "2022-08-24T20:01:14.416872Z",
     "shell.execute_reply": "2022-08-24T20:01:14.416413Z",
     "shell.execute_reply.started": "2022-08-24T20:01:13.973488Z"
    },
    "tags": []
   },
   "outputs": [
    {
     "data": {
      "text/html": [
       "<div>\n",
       "<style scoped>\n",
       "    .dataframe tbody tr th:only-of-type {\n",
       "        vertical-align: middle;\n",
       "    }\n",
       "\n",
       "    .dataframe tbody tr th {\n",
       "        vertical-align: top;\n",
       "    }\n",
       "\n",
       "    .dataframe thead th {\n",
       "        text-align: right;\n",
       "    }\n",
       "</style>\n",
       "<table border=\"1\" class=\"dataframe\">\n",
       "  <thead>\n",
       "    <tr style=\"text-align: right;\">\n",
       "      <th></th>\n",
       "      <th>id</th>\n",
       "      <th>name</th>\n",
       "      <th>tags</th>\n",
       "      <th>partition</th>\n",
       "      <th>config</th>\n",
       "      <th>summary</th>\n",
       "      <th>path</th>\n",
       "    </tr>\n",
       "  </thead>\n",
       "  <tbody>\n",
       "    <tr>\n",
       "      <th>0</th>\n",
       "      <td>ljhjndx2</td>\n",
       "      <td>220812_fullrun</td>\n",
       "      <td>[220812, baseline_data, image]</td>\n",
       "      <td>4</td>\n",
       "      <td>{'losses': ['&lt;retinalrisk.models.loss_wrapper....</td>\n",
       "      <td>{'valid/phecode_414 - Cardiomyopathy_CIndex': ...</td>\n",
       "      <td>/sc-projects/sc-proj-ukb-cvd/results/models/re...</td>\n",
       "    </tr>\n",
       "    <tr>\n",
       "      <th>1</th>\n",
       "      <td>1ts15g03</td>\n",
       "      <td>220812_fullrun_9</td>\n",
       "      <td>[220812, baseline_data, image]</td>\n",
       "      <td>9</td>\n",
       "      <td>{'losses': ['&lt;retinalrisk.models.loss_wrapper....</td>\n",
       "      <td>{'valid/phecode_679 - Skin symptoms_CIndex': 0...</td>\n",
       "      <td>/sc-projects/sc-proj-ukb-cvd/results/models/re...</td>\n",
       "    </tr>\n",
       "    <tr>\n",
       "      <th>2</th>\n",
       "      <td>jtx4az09</td>\n",
       "      <td>220812_fullrun_15</td>\n",
       "      <td>[220812, baseline_data, image]</td>\n",
       "      <td>15</td>\n",
       "      <td>{'losses': ['&lt;retinalrisk.models.loss_wrapper....</td>\n",
       "      <td>{'valid/phecode_625-1 - Dyspareunia_CIndex': 0...</td>\n",
       "      <td>/sc-projects/sc-proj-ukb-cvd/results/models/re...</td>\n",
       "    </tr>\n",
       "    <tr>\n",
       "      <th>3</th>\n",
       "      <td>10r747tq</td>\n",
       "      <td>220812_fullrun_3</td>\n",
       "      <td>[220812, baseline_data, image]</td>\n",
       "      <td>3</td>\n",
       "      <td>{'losses': ['&lt;retinalrisk.models.loss_wrapper....</td>\n",
       "      <td>{'valid/phecode_977-71 - Long term (current) u...</td>\n",
       "      <td>/sc-projects/sc-proj-ukb-cvd/results/models/re...</td>\n",
       "    </tr>\n",
       "    <tr>\n",
       "      <th>4</th>\n",
       "      <td>3kkkwx1h</td>\n",
       "      <td>220812_fullrun_8</td>\n",
       "      <td>[220812, baseline_data, image]</td>\n",
       "      <td>8</td>\n",
       "      <td>{'losses': ['&lt;retinalrisk.models.loss_wrapper....</td>\n",
       "      <td>{'valid/phecode_424-3 - Diastolic heart failur...</td>\n",
       "      <td>/sc-projects/sc-proj-ukb-cvd/results/models/re...</td>\n",
       "    </tr>\n",
       "    <tr>\n",
       "      <th>5</th>\n",
       "      <td>kr1fcpov</td>\n",
       "      <td>220812_fullrun_7</td>\n",
       "      <td>[220812, baseline_data, image]</td>\n",
       "      <td>7</td>\n",
       "      <td>{'losses': ['&lt;retinalrisk.models.loss_wrapper....</td>\n",
       "      <td>{'gradients/encoder.features.5.20.block.3.bias...</td>\n",
       "      <td>/sc-projects/sc-proj-ukb-cvd/results/models/re...</td>\n",
       "    </tr>\n",
       "    <tr>\n",
       "      <th>6</th>\n",
       "      <td>2i64fvxa</td>\n",
       "      <td>220812_fullrun_2</td>\n",
       "      <td>[220812, baseline_data, image]</td>\n",
       "      <td>2</td>\n",
       "      <td>{'losses': ['&lt;retinalrisk.models.loss_wrapper....</td>\n",
       "      <td>{'valid/phecode_175 - Polycythemias_CIndex': 0...</td>\n",
       "      <td>/sc-projects/sc-proj-ukb-cvd/results/models/re...</td>\n",
       "    </tr>\n",
       "    <tr>\n",
       "      <th>7</th>\n",
       "      <td>2lsliaj8</td>\n",
       "      <td>220812_fullrun_21</td>\n",
       "      <td>[220812, baseline_data, image]</td>\n",
       "      <td>21</td>\n",
       "      <td>{'losses': ['&lt;retinalrisk.models.loss_wrapper....</td>\n",
       "      <td>{'valid/phecode_707 - Other arthropathies_CInd...</td>\n",
       "      <td>/sc-projects/sc-proj-ukb-cvd/results/models/re...</td>\n",
       "    </tr>\n",
       "    <tr>\n",
       "      <th>8</th>\n",
       "      <td>9e6xmhpu</td>\n",
       "      <td>220812_fullrun_14</td>\n",
       "      <td>[220812, baseline_data, image]</td>\n",
       "      <td>14</td>\n",
       "      <td>{'losses': ['&lt;retinalrisk.models.loss_wrapper....</td>\n",
       "      <td>{'valid/phecode_546 - Other disorders of liver...</td>\n",
       "      <td>/sc-projects/sc-proj-ukb-cvd/results/models/re...</td>\n",
       "    </tr>\n",
       "    <tr>\n",
       "      <th>9</th>\n",
       "      <td>227i0u0y</td>\n",
       "      <td>220812_fullrun_13</td>\n",
       "      <td>[220812, baseline_data, image]</td>\n",
       "      <td>13</td>\n",
       "      <td>{'losses': ['&lt;retinalrisk.models.loss_wrapper....</td>\n",
       "      <td>{'valid/phecode_682-4 - Acne_CIndex': 0.566886...</td>\n",
       "      <td>/sc-projects/sc-proj-ukb-cvd/results/models/re...</td>\n",
       "    </tr>\n",
       "    <tr>\n",
       "      <th>10</th>\n",
       "      <td>3r2tl7yf</td>\n",
       "      <td>220812_fullrun_20</td>\n",
       "      <td>[220812, baseline_data, image]</td>\n",
       "      <td>20</td>\n",
       "      <td>{'losses': ['&lt;retinalrisk.models.loss_wrapper....</td>\n",
       "      <td>{'valid/phecode_396 - Hearing impairment_CInde...</td>\n",
       "      <td>/sc-projects/sc-proj-ukb-cvd/results/models/re...</td>\n",
       "    </tr>\n",
       "    <tr>\n",
       "      <th>11</th>\n",
       "      <td>3qdf1w29</td>\n",
       "      <td>220812_fullrun_5</td>\n",
       "      <td>[220812, baseline_data, image]</td>\n",
       "      <td>5</td>\n",
       "      <td>{'losses': ['&lt;retinalrisk.models.loss_wrapper....</td>\n",
       "      <td>{'gradients/encoder.features.5.3.block.0.weigh...</td>\n",
       "      <td>/sc-projects/sc-proj-ukb-cvd/results/models/re...</td>\n",
       "    </tr>\n",
       "    <tr>\n",
       "      <th>12</th>\n",
       "      <td>10lyj53i</td>\n",
       "      <td>220812_fullrun_6</td>\n",
       "      <td>[220812, baseline_data, image]</td>\n",
       "      <td>6</td>\n",
       "      <td>{'losses': ['&lt;retinalrisk.models.loss_wrapper....</td>\n",
       "      <td>{'valid/phecode_406 - Chronic pulmonary heart ...</td>\n",
       "      <td>/sc-projects/sc-proj-ukb-cvd/results/models/re...</td>\n",
       "    </tr>\n",
       "    <tr>\n",
       "      <th>13</th>\n",
       "      <td>252j2c11</td>\n",
       "      <td>220812_fullrun_1</td>\n",
       "      <td>[220812, baseline_data, image]</td>\n",
       "      <td>1</td>\n",
       "      <td>{'losses': ['&lt;retinalrisk.models.loss_wrapper....</td>\n",
       "      <td>{'valid/phecode_841 - Drug and medical agent a...</td>\n",
       "      <td>/sc-projects/sc-proj-ukb-cvd/results/models/re...</td>\n",
       "    </tr>\n",
       "    <tr>\n",
       "      <th>14</th>\n",
       "      <td>k721isqz</td>\n",
       "      <td>220812_fullrun_0</td>\n",
       "      <td>[220812, baseline_data, image]</td>\n",
       "      <td>0</td>\n",
       "      <td>{'losses': ['&lt;retinalrisk.models.loss_wrapper....</td>\n",
       "      <td>{'gradients/encoder.features.5.10.block.0.weig...</td>\n",
       "      <td>/sc-projects/sc-proj-ukb-cvd/results/models/re...</td>\n",
       "    </tr>\n",
       "    <tr>\n",
       "      <th>15</th>\n",
       "      <td>14jivz7l</td>\n",
       "      <td>220812_fullrun_ 12</td>\n",
       "      <td>[220812, baseline_data, image]</td>\n",
       "      <td>12</td>\n",
       "      <td>{'losses': ['&lt;retinalrisk.models.loss_wrapper....</td>\n",
       "      <td>{'valid/phecode_209-1 - Pituitary hyperfunctio...</td>\n",
       "      <td>/sc-projects/sc-proj-ukb-cvd/results/models/re...</td>\n",
       "    </tr>\n",
       "    <tr>\n",
       "      <th>16</th>\n",
       "      <td>3fdm7z04</td>\n",
       "      <td>220812_fullrun_ 11</td>\n",
       "      <td>[220812, baseline_data, image]</td>\n",
       "      <td>11</td>\n",
       "      <td>{'losses': ['&lt;retinalrisk.models.loss_wrapper....</td>\n",
       "      <td>{'valid/phecode_098 - Carrier or suspected car...</td>\n",
       "      <td>/sc-projects/sc-proj-ukb-cvd/results/models/re...</td>\n",
       "    </tr>\n",
       "    <tr>\n",
       "      <th>17</th>\n",
       "      <td>rids0apm</td>\n",
       "      <td>220812_fullrun_ 19</td>\n",
       "      <td>[220812, baseline_data, image]</td>\n",
       "      <td>19</td>\n",
       "      <td>{'losses': ['&lt;retinalrisk.models.loss_wrapper....</td>\n",
       "      <td>{'valid/phecode_582 - Acute kidney failure_CIn...</td>\n",
       "      <td>/sc-projects/sc-proj-ukb-cvd/results/models/re...</td>\n",
       "    </tr>\n",
       "    <tr>\n",
       "      <th>18</th>\n",
       "      <td>onv5mdtx</td>\n",
       "      <td>220812_fullrun_ 18</td>\n",
       "      <td>[220812, baseline_data, image]</td>\n",
       "      <td>18</td>\n",
       "      <td>{'losses': ['&lt;retinalrisk.models.loss_wrapper....</td>\n",
       "      <td>{'valid/phecode_841-1 - Allergy to other anti-...</td>\n",
       "      <td>/sc-projects/sc-proj-ukb-cvd/results/models/re...</td>\n",
       "    </tr>\n",
       "    <tr>\n",
       "      <th>19</th>\n",
       "      <td>1ab5sf8x</td>\n",
       "      <td>220812_fullrun_ 10</td>\n",
       "      <td>[220812, baseline_data, image]</td>\n",
       "      <td>10</td>\n",
       "      <td>{'losses': ['&lt;retinalrisk.models.loss_wrapper....</td>\n",
       "      <td>{'valid/phecode_502 - Other diseases of teeth ...</td>\n",
       "      <td>/sc-projects/sc-proj-ukb-cvd/results/models/re...</td>\n",
       "    </tr>\n",
       "    <tr>\n",
       "      <th>20</th>\n",
       "      <td>1mrr7n3b</td>\n",
       "      <td>220812_fullrun_ 17</td>\n",
       "      <td>[220812, baseline_data, image]</td>\n",
       "      <td>17</td>\n",
       "      <td>{'losses': ['&lt;retinalrisk.models.loss_wrapper....</td>\n",
       "      <td>{'gradients/encoder.features.7.2.block.5.weigh...</td>\n",
       "      <td>/sc-projects/sc-proj-ukb-cvd/results/models/re...</td>\n",
       "    </tr>\n",
       "    <tr>\n",
       "      <th>21</th>\n",
       "      <td>1hj3owhe</td>\n",
       "      <td>220812_fullrun_16</td>\n",
       "      <td>[220812, baseline_data, image]</td>\n",
       "      <td>16</td>\n",
       "      <td>{'losses': ['&lt;retinalrisk.models.loss_wrapper....</td>\n",
       "      <td>{'valid/phecode_603-5 - Orchitis and epididymi...</td>\n",
       "      <td>/sc-projects/sc-proj-ukb-cvd/results/models/re...</td>\n",
       "    </tr>\n",
       "  </tbody>\n",
       "</table>\n",
       "</div>"
      ],
      "text/plain": [
       "          id                name                            tags  partition  \\\n",
       "0   ljhjndx2      220812_fullrun  [220812, baseline_data, image]          4   \n",
       "1   1ts15g03    220812_fullrun_9  [220812, baseline_data, image]          9   \n",
       "2   jtx4az09   220812_fullrun_15  [220812, baseline_data, image]         15   \n",
       "3   10r747tq    220812_fullrun_3  [220812, baseline_data, image]          3   \n",
       "4   3kkkwx1h    220812_fullrun_8  [220812, baseline_data, image]          8   \n",
       "5   kr1fcpov    220812_fullrun_7  [220812, baseline_data, image]          7   \n",
       "6   2i64fvxa    220812_fullrun_2  [220812, baseline_data, image]          2   \n",
       "7   2lsliaj8   220812_fullrun_21  [220812, baseline_data, image]         21   \n",
       "8   9e6xmhpu   220812_fullrun_14  [220812, baseline_data, image]         14   \n",
       "9   227i0u0y   220812_fullrun_13  [220812, baseline_data, image]         13   \n",
       "10  3r2tl7yf   220812_fullrun_20  [220812, baseline_data, image]         20   \n",
       "11  3qdf1w29    220812_fullrun_5  [220812, baseline_data, image]          5   \n",
       "12  10lyj53i    220812_fullrun_6  [220812, baseline_data, image]          6   \n",
       "13  252j2c11    220812_fullrun_1  [220812, baseline_data, image]          1   \n",
       "14  k721isqz    220812_fullrun_0  [220812, baseline_data, image]          0   \n",
       "15  14jivz7l  220812_fullrun_ 12  [220812, baseline_data, image]         12   \n",
       "16  3fdm7z04  220812_fullrun_ 11  [220812, baseline_data, image]         11   \n",
       "17  rids0apm  220812_fullrun_ 19  [220812, baseline_data, image]         19   \n",
       "18  onv5mdtx  220812_fullrun_ 18  [220812, baseline_data, image]         18   \n",
       "19  1ab5sf8x  220812_fullrun_ 10  [220812, baseline_data, image]         10   \n",
       "20  1mrr7n3b  220812_fullrun_ 17  [220812, baseline_data, image]         17   \n",
       "21  1hj3owhe   220812_fullrun_16  [220812, baseline_data, image]         16   \n",
       "\n",
       "                                               config  \\\n",
       "0   {'losses': ['<retinalrisk.models.loss_wrapper....   \n",
       "1   {'losses': ['<retinalrisk.models.loss_wrapper....   \n",
       "2   {'losses': ['<retinalrisk.models.loss_wrapper....   \n",
       "3   {'losses': ['<retinalrisk.models.loss_wrapper....   \n",
       "4   {'losses': ['<retinalrisk.models.loss_wrapper....   \n",
       "5   {'losses': ['<retinalrisk.models.loss_wrapper....   \n",
       "6   {'losses': ['<retinalrisk.models.loss_wrapper....   \n",
       "7   {'losses': ['<retinalrisk.models.loss_wrapper....   \n",
       "8   {'losses': ['<retinalrisk.models.loss_wrapper....   \n",
       "9   {'losses': ['<retinalrisk.models.loss_wrapper....   \n",
       "10  {'losses': ['<retinalrisk.models.loss_wrapper....   \n",
       "11  {'losses': ['<retinalrisk.models.loss_wrapper....   \n",
       "12  {'losses': ['<retinalrisk.models.loss_wrapper....   \n",
       "13  {'losses': ['<retinalrisk.models.loss_wrapper....   \n",
       "14  {'losses': ['<retinalrisk.models.loss_wrapper....   \n",
       "15  {'losses': ['<retinalrisk.models.loss_wrapper....   \n",
       "16  {'losses': ['<retinalrisk.models.loss_wrapper....   \n",
       "17  {'losses': ['<retinalrisk.models.loss_wrapper....   \n",
       "18  {'losses': ['<retinalrisk.models.loss_wrapper....   \n",
       "19  {'losses': ['<retinalrisk.models.loss_wrapper....   \n",
       "20  {'losses': ['<retinalrisk.models.loss_wrapper....   \n",
       "21  {'losses': ['<retinalrisk.models.loss_wrapper....   \n",
       "\n",
       "                                              summary  \\\n",
       "0   {'valid/phecode_414 - Cardiomyopathy_CIndex': ...   \n",
       "1   {'valid/phecode_679 - Skin symptoms_CIndex': 0...   \n",
       "2   {'valid/phecode_625-1 - Dyspareunia_CIndex': 0...   \n",
       "3   {'valid/phecode_977-71 - Long term (current) u...   \n",
       "4   {'valid/phecode_424-3 - Diastolic heart failur...   \n",
       "5   {'gradients/encoder.features.5.20.block.3.bias...   \n",
       "6   {'valid/phecode_175 - Polycythemias_CIndex': 0...   \n",
       "7   {'valid/phecode_707 - Other arthropathies_CInd...   \n",
       "8   {'valid/phecode_546 - Other disorders of liver...   \n",
       "9   {'valid/phecode_682-4 - Acne_CIndex': 0.566886...   \n",
       "10  {'valid/phecode_396 - Hearing impairment_CInde...   \n",
       "11  {'gradients/encoder.features.5.3.block.0.weigh...   \n",
       "12  {'valid/phecode_406 - Chronic pulmonary heart ...   \n",
       "13  {'valid/phecode_841 - Drug and medical agent a...   \n",
       "14  {'gradients/encoder.features.5.10.block.0.weig...   \n",
       "15  {'valid/phecode_209-1 - Pituitary hyperfunctio...   \n",
       "16  {'valid/phecode_098 - Carrier or suspected car...   \n",
       "17  {'valid/phecode_582 - Acute kidney failure_CIn...   \n",
       "18  {'valid/phecode_841-1 - Allergy to other anti-...   \n",
       "19  {'valid/phecode_502 - Other diseases of teeth ...   \n",
       "20  {'gradients/encoder.features.7.2.block.5.weigh...   \n",
       "21  {'valid/phecode_603-5 - Orchitis and epididymi...   \n",
       "\n",
       "                                                 path  \n",
       "0   /sc-projects/sc-proj-ukb-cvd/results/models/re...  \n",
       "1   /sc-projects/sc-proj-ukb-cvd/results/models/re...  \n",
       "2   /sc-projects/sc-proj-ukb-cvd/results/models/re...  \n",
       "3   /sc-projects/sc-proj-ukb-cvd/results/models/re...  \n",
       "4   /sc-projects/sc-proj-ukb-cvd/results/models/re...  \n",
       "5   /sc-projects/sc-proj-ukb-cvd/results/models/re...  \n",
       "6   /sc-projects/sc-proj-ukb-cvd/results/models/re...  \n",
       "7   /sc-projects/sc-proj-ukb-cvd/results/models/re...  \n",
       "8   /sc-projects/sc-proj-ukb-cvd/results/models/re...  \n",
       "9   /sc-projects/sc-proj-ukb-cvd/results/models/re...  \n",
       "10  /sc-projects/sc-proj-ukb-cvd/results/models/re...  \n",
       "11  /sc-projects/sc-proj-ukb-cvd/results/models/re...  \n",
       "12  /sc-projects/sc-proj-ukb-cvd/results/models/re...  \n",
       "13  /sc-projects/sc-proj-ukb-cvd/results/models/re...  \n",
       "14  /sc-projects/sc-proj-ukb-cvd/results/models/re...  \n",
       "15  /sc-projects/sc-proj-ukb-cvd/results/models/re...  \n",
       "16  /sc-projects/sc-proj-ukb-cvd/results/models/re...  \n",
       "17  /sc-projects/sc-proj-ukb-cvd/results/models/re...  \n",
       "18  /sc-projects/sc-proj-ukb-cvd/results/models/re...  \n",
       "19  /sc-projects/sc-proj-ukb-cvd/results/models/re...  \n",
       "20  /sc-projects/sc-proj-ukb-cvd/results/models/re...  \n",
       "21  /sc-projects/sc-proj-ukb-cvd/results/models/re...  "
      ]
     },
     "execution_count": 8,
     "metadata": {},
     "output_type": "execute_result"
    }
   ],
   "source": [
    "runs_df"
   ]
  },
  {
   "cell_type": "code",
   "execution_count": 9,
   "metadata": {
    "execution": {
     "iopub.execute_input": "2022-08-24T20:01:14.417710Z",
     "iopub.status.busy": "2022-08-24T20:01:14.417610Z",
     "iopub.status.idle": "2022-08-24T20:01:14.420514Z",
     "shell.execute_reply": "2022-08-24T20:01:14.420191Z",
     "shell.execute_reply.started": "2022-08-24T20:01:14.417697Z"
    },
    "tags": []
   },
   "outputs": [
    {
     "name": "stdout",
     "output_type": "stream",
     "text": [
      "/sc-projects/sc-proj-ukb-cvd/results/models/retina/ljhjndx2/predictions\n"
     ]
    }
   ],
   "source": [
    "print(runs_df['path'].iloc[0])"
   ]
  },
  {
   "cell_type": "markdown",
   "metadata": {},
   "source": [
    "## Process Predictions"
   ]
  },
  {
   "cell_type": "code",
   "execution_count": 10,
   "metadata": {
    "execution": {
     "iopub.execute_input": "2022-08-24T20:01:14.421151Z",
     "iopub.status.busy": "2022-08-24T20:01:14.420956Z",
     "iopub.status.idle": "2022-08-24T20:01:14.436426Z",
     "shell.execute_reply": "2022-08-24T20:01:14.436139Z",
     "shell.execute_reply.started": "2022-08-24T20:01:14.421138Z"
    },
    "tags": []
   },
   "outputs": [],
   "source": [
    "id_vars = [\"eid\", \"model\", \"partition\", \"split\"]"
   ]
  },
  {
   "cell_type": "code",
   "execution_count": 11,
   "metadata": {
    "execution": {
     "iopub.execute_input": "2022-08-24T20:01:14.436908Z",
     "iopub.status.busy": "2022-08-24T20:01:14.436830Z",
     "iopub.status.idle": "2022-08-24T20:01:14.486313Z",
     "shell.execute_reply": "2022-08-24T20:01:14.485944Z",
     "shell.execute_reply.started": "2022-08-24T20:01:14.436898Z"
    },
    "tags": []
   },
   "outputs": [],
   "source": [
    "out_path = f\"{experiment_path}/loghs\"\n",
    "pathlib.Path(out_path).mkdir(parents=True, exist_ok=True)"
   ]
  },
  {
   "cell_type": "code",
   "execution_count": 12,
   "metadata": {
    "execution": {
     "iopub.execute_input": "2022-08-24T20:01:14.487768Z",
     "iopub.status.busy": "2022-08-24T20:01:14.487682Z",
     "iopub.status.idle": "2022-08-24T20:01:14.530162Z",
     "shell.execute_reply": "2022-08-24T20:01:14.529871Z",
     "shell.execute_reply.started": "2022-08-24T20:01:14.487758Z"
    },
    "tags": []
   },
   "outputs": [
    {
     "data": {
      "text/plain": [
       "'/sc-projects/sc-proj-ukb-cvd/results/projects/22_retina_phewas/data/220812_test/loghs'"
      ]
     },
     "execution_count": 12,
     "metadata": {},
     "output_type": "execute_result"
    }
   ],
   "source": [
    "out_path"
   ]
  },
  {
   "cell_type": "code",
   "execution_count": 13,
   "metadata": {
    "execution": {
     "iopub.execute_input": "2022-08-24T20:01:14.530637Z",
     "iopub.status.busy": "2022-08-24T20:01:14.530560Z",
     "iopub.status.idle": "2022-08-24T20:01:14.582247Z",
     "shell.execute_reply": "2022-08-24T20:01:14.581933Z",
     "shell.execute_reply.started": "2022-08-24T20:01:14.530627Z"
    },
    "tags": []
   },
   "outputs": [],
   "source": [
    "# @ray.remote\n",
    "def prepare_predictions(in_path, out_path):\n",
    "    for cr in name_dict.keys():\n",
    "        in_path_cr = os.path.join(in_path, f'{cr}.feather')\n",
    "        temp = pd.read_feather(in_path_cr).rename(columns={\"index\": \"eid\"}).set_index('eid')\n",
    "        \n",
    "        # skip stuff if already written:\n",
    "        # mean duplicated indices aka left and right eye value per eid\n",
    "        temp_with_meaned_test_preds = temp.groupby(level=0).mean()\n",
    "        \n",
    "        # recover columns that are non-endpoints:\n",
    "        other_cols = [c for c in temp.columns.values if c not in endpoint_columns]\n",
    "        d = temp.index.duplicated()\n",
    "        for c in other_cols:\n",
    "            temp_with_meaned_test_preds[c] = temp[c].iloc[~d].values\n",
    "        temp = temp_with_meaned_test_preds.reset_index(drop=False)\n",
    "\n",
    "        # rename 10_1_Ft__ and dropping ft and St cols if present\n",
    "        cols_to_drop = []\n",
    "        cols_to_rename = {}\n",
    "        for col in temp.columns.values:\n",
    "            if 'ft' in col:\n",
    "                cols_to_drop.append(col)\n",
    "            elif 'St' in col:\n",
    "                cols_to_drop.append(col)\n",
    "            elif 'Ft' in col:\n",
    "                cols_to_rename[col] = col.replace('1_10_Ft__', '')\n",
    "                \n",
    "        temp['record_cols'] = None\n",
    "        temp[\"model\"] = (temp.module.astype(str) + \"_\" + temp.covariate_cols.astype(str) + \"_\" + temp.encoder.astype(str) + \"_\" + temp[\"head\"].astype(str)).astype(\"category\")\n",
    "        temp = temp.replace({\"model\":name_dict}).drop(columns=[\"module\", \"encoder\", \"head\", \"covariate_cols\", \"record_cols\"]).drop(columns=cols_to_drop).rename(columns=cols_to_rename)\n",
    "        for c in id_vars: \n",
    "            temp[c] = temp[c].astype(\"category\")\n",
    "            \n",
    "        model = temp.model.unique()[0]\n",
    "        model = f'{model}_{cr}'\n",
    "        partition = temp.partition.unique()[0]\n",
    "        \n",
    "        if os.path.exists(f\"{out_path}/{model}/{partition}/train.feather\"):\n",
    "            if os.path.exists(f\"{out_path}/{model}/{partition}/test.feather\") and os.path.exists(f\"{out_path}/{model}/{partition}/valid.feather\"):\n",
    "                print(f'skipping {partition} as already exists')\n",
    "                continue\n",
    "        \n",
    "   \n",
    "        for split in [\"train\", \"valid\", \"test\"]: #\"test_left\", 'test_right'\n",
    "            fp_out = f\"{out_path}/{model}/{partition}\"\n",
    "            pathlib.Path(fp_out).mkdir(parents=True, exist_ok=True)\n",
    "            t = temp.query(\"split==@split\")\n",
    "            t.reset_index(drop=True).to_feather(f\"{fp_out}/{split}.feather\")\n",
    "            print(f\"{fp_out}/{split}.feather\")"
   ]
  },
  {
   "cell_type": "code",
   "execution_count": null,
   "metadata": {
    "execution": {
     "iopub.execute_input": "2022-08-24T20:01:14.582781Z",
     "iopub.status.busy": "2022-08-24T20:01:14.582696Z"
    },
    "tags": []
   },
   "outputs": [
    {
     "data": {
      "application/vnd.jupyter.widget-view+json": {
       "model_id": "c6580a3dbbd140be84a73e627de5b1b1",
       "version_major": 2,
       "version_minor": 0
      },
      "text/plain": [
       "  0%|          | 0/22 [00:00<?, ?it/s]"
      ]
     },
     "metadata": {},
     "output_type": "display_data"
    }
   ],
   "source": [
    "for row_idx in tqdm(range(len(runs_df))): \n",
    "    row = runs_df.iloc[row_idx]\n",
    "    p = row['path']\n",
    "    id = row['id']\n",
    "#     prepare_predictions.remote(p, out_path)\n",
    "    prepare_predictions(p, out_path)"
   ]
  },
  {
   "cell_type": "code",
   "execution_count": null,
   "metadata": {},
   "outputs": [],
   "source": [
    "out_path"
   ]
  },
  {
   "cell_type": "code",
   "execution_count": null,
   "metadata": {
    "tags": []
   },
   "outputs": [],
   "source": [
    "!ls -lah {out_path}/'ImageTraining_[]_ConvNeXt_MLPHead_predictions_cropratio0.66'"
   ]
  },
  {
   "cell_type": "code",
   "execution_count": null,
   "metadata": {
    "tags": []
   },
   "outputs": [],
   "source": [
    "out_path"
   ]
  },
  {
   "cell_type": "code",
   "execution_count": null,
   "metadata": {},
   "outputs": [],
   "source": []
  }
 ],
 "metadata": {
  "interpreter": {
   "hash": "7fb005937abf8310e947cacdef9aa24b4c9570846765db425bfb20f46bc066c7"
  },
  "kernelspec": {
   "display_name": "retrisk",
   "language": "python",
   "name": "retrisk"
  },
  "language_info": {
   "codemirror_mode": {
    "name": "ipython",
    "version": 3
   },
   "file_extension": ".py",
   "mimetype": "text/x-python",
   "name": "python",
   "nbconvert_exporter": "python",
   "pygments_lexer": "ipython3",
   "version": "3.9.7"
  }
 },
 "nbformat": 4,
 "nbformat_minor": 4
}
