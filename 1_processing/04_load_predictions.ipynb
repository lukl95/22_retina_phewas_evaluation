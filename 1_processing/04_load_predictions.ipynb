{
 "cells": [
  {
   "cell_type": "code",
   "execution_count": 9,
   "metadata": {
    "tags": []
   },
   "outputs": [],
   "source": [
    "import numpy as np\n",
    "import pandas as pd\n",
    "import pathlib\n",
    "import os\n",
    "from tqdm.auto import tqdm\n",
    "\n",
    "import hydra\n",
    "from omegaconf import DictConfig, OmegaConf\n",
    "\n",
    "import torch\n",
    "#from torch_geometric import seed_everything\n",
    "\n",
    "import ray"
   ]
  },
  {
   "cell_type": "code",
   "execution_count": 10,
   "metadata": {
    "tags": []
   },
   "outputs": [
    {
     "name": "stdout",
     "output_type": "stream",
     "text": [
      "/sc-projects/sc-proj-ukb-cvd\n",
      "experiment path: /sc-projects/sc-proj-ukb-cvd/results/projects/22_retina_phewas/data/230905\n"
     ]
    }
   ],
   "source": [
    "node = !hostname\n",
    "if \"sc\" in node[0]:\n",
    "    base_path = \"/sc-projects/sc-proj-ukb-cvd\"\n",
    "else: \n",
    "    base_path = \"/data/analysis/ag-reils/ag-reils-shared/cardioRS\"\n",
    "print(base_path)\n",
    "\n",
    "project_label = \"22_retina_phewas\"\n",
    "project_path = f\"{base_path}/results/projects/{project_label}\"\n",
    "figure_path = f\"{project_path}/figures\"\n",
    "output_path = f\"{project_path}/data\"\n",
    "\n",
    "pathlib.Path(figure_path).mkdir(parents=True, exist_ok=True)\n",
    "pathlib.Path(output_path).mkdir(parents=True, exist_ok=True)\n",
    "\n",
    "experiment = '230905'\n",
    "experiment_path = f\"{output_path}/{experiment}\"\n",
    "print('experiment path:', experiment_path)\n",
    "pathlib.Path(experiment_path).mkdir(parents=True, exist_ok=True)\n",
    "\n",
    "name_dict = {\n",
    "#     \"predictions_cropratio0.3\": \"ConvNextSmall(Retina)+MLP_cropratio0.3\",\n",
    "#     \"predictions_cropratio0.5\": \"ConvNextSmall(Retina)+MLP_cropratio0.5\",\n",
    "#    \"predictions_cropratio0.66\": \"ConvNextSmall(Retina)+MLP_cropratio0.66\",\n",
    "    \"predictions\": \"ConvNextSmall(Retina)+MLP_cropratio0.66\",\n",
    "}\n",
    "\n",
    "#partitions = [i for i in range(22)]\n",
    "partitions = [4, 5, 7, 9, 10, 20] # Partitions with eye test centers"
   ]
  },
  {
   "cell_type": "code",
   "execution_count": 11,
   "metadata": {
    "tags": []
   },
   "outputs": [
    {
     "data": {
      "text/plain": [
       "773"
      ]
     },
     "execution_count": 11,
     "metadata": {},
     "output_type": "execute_result"
    }
   ],
   "source": [
    "endpoint_columns = sorted([l.replace('_prevalent', '') for l in list(pd.read_csv('/sc-projects/sc-proj-ukb-cvd/results/projects/22_retinal_risk/data/230905/min100_endpoints.csv').endpoint.values)])\n",
    "len(endpoint_columns)"
   ]
  },
  {
   "cell_type": "code",
   "execution_count": 12,
   "metadata": {
    "tags": []
   },
   "outputs": [],
   "source": [
    "#ray.shutdown()\n",
    "#ray.init(num_cpus=24)\n",
    "# ray.init(address='auto')"
   ]
  },
  {
   "cell_type": "code",
   "execution_count": 13,
   "metadata": {
    "tags": []
   },
   "outputs": [],
   "source": [
    "import wandb\n",
    "api = wandb.Api()\n",
    "entity, project = \"cardiors\", \"retina\" \n",
    "tag = '230905'\n",
    "runs = api.runs(entity + \"/\" + project, filters={\"tags\": {\"$in\": [tag]}}) "
   ]
  },
  {
   "cell_type": "code",
   "execution_count": 14,
   "metadata": {
    "tags": []
   },
   "outputs": [
    {
     "data": {
      "application/vnd.jupyter.widget-view+json": {
       "model_id": "973189b7261748eaaf3ac768803d87de",
       "version_major": 2,
       "version_minor": 0
      },
      "text/plain": [
       "  0%|          | 0/6 [00:00<?, ?it/s]"
      ]
     },
     "metadata": {},
     "output_type": "display_data"
    }
   ],
   "source": [
    "run_list = []\n",
    "for run in tqdm(runs): \n",
    "    run_list.append(\n",
    "        {\n",
    "            #\"id\": run.path[-1], \n",
    "            \"id\": run.id, \n",
    "            \"name\": run.name,\n",
    "            \"tags\": run.tags,\n",
    "            \"partition\": eval(run.config['_content']['datamodule'])['partition'],\n",
    "            \"config\": {k: v for k,v in run.config.items() if not k.startswith('_')},\n",
    "            \"summary\": run.summary._json_dict,\n",
    "            \"path\": f'/sc-projects/sc-proj-ukb-cvd/results/models/retina/{run.id}/predictions/' if \"predictions_path\" not in run.config.keys() else str(pathlib.Path(run.config[\"predictions_path\"]))\n",
    "#             'path': f'/sc-projects/sc-proj-ukb-cvd/results/models/retina/{run.id}/checkpoints/predictions/'\n",
    "        }\n",
    "    )"
   ]
  },
  {
   "cell_type": "code",
   "execution_count": 15,
   "metadata": {
    "tags": []
   },
   "outputs": [],
   "source": [
    "# select those w/ predictions path:\n",
    "runs_df = pd.DataFrame(run_list)\n",
    "runs_df = runs_df[runs_df.partition.isin(partitions)]"
   ]
  },
  {
   "cell_type": "code",
   "execution_count": 16,
   "metadata": {
    "tags": []
   },
   "outputs": [
    {
     "data": {
      "text/html": [
       "<div>\n",
       "<style scoped>\n",
       "    .dataframe tbody tr th:only-of-type {\n",
       "        vertical-align: middle;\n",
       "    }\n",
       "\n",
       "    .dataframe tbody tr th {\n",
       "        vertical-align: top;\n",
       "    }\n",
       "\n",
       "    .dataframe thead th {\n",
       "        text-align: right;\n",
       "    }\n",
       "</style>\n",
       "<table border=\"1\" class=\"dataframe\">\n",
       "  <thead>\n",
       "    <tr style=\"text-align: right;\">\n",
       "      <th></th>\n",
       "      <th>id</th>\n",
       "      <th>name</th>\n",
       "      <th>tags</th>\n",
       "      <th>partition</th>\n",
       "      <th>config</th>\n",
       "      <th>summary</th>\n",
       "      <th>path</th>\n",
       "    </tr>\n",
       "  </thead>\n",
       "  <tbody>\n",
       "    <tr>\n",
       "      <th>0</th>\n",
       "      <td>20innqco</td>\n",
       "      <td>230905_fullrun_retina</td>\n",
       "      <td>[230905, baseline_data, image]</td>\n",
       "      <td>20</td>\n",
       "      <td>{'losses': ['&lt;retinalrisk.models.loss_wrapper....</td>\n",
       "      <td>{'valid/phecode_520-2 - Diaphragmatic hernia [...</td>\n",
       "      <td>/sc-projects/sc-proj-ukb-cvd/results/models/re...</td>\n",
       "    </tr>\n",
       "    <tr>\n",
       "      <th>1</th>\n",
       "      <td>3egdzwli</td>\n",
       "      <td>230905_fullrun_retina</td>\n",
       "      <td>[230905, baseline_data, image]</td>\n",
       "      <td>10</td>\n",
       "      <td>{'losses': ['&lt;retinalrisk.models.loss_wrapper....</td>\n",
       "      <td>{'valid/phecode_395 - Other diseases of inner ...</td>\n",
       "      <td>/sc-projects/sc-proj-ukb-cvd/results/models/re...</td>\n",
       "    </tr>\n",
       "    <tr>\n",
       "      <th>2</th>\n",
       "      <td>3u8acsmy</td>\n",
       "      <td>230905_fullrun_retina</td>\n",
       "      <td>[230905, baseline_data, image]</td>\n",
       "      <td>9</td>\n",
       "      <td>{'losses': ['&lt;retinalrisk.models.loss_wrapper....</td>\n",
       "      <td>{'valid/phecode_800 - Chest pain_CIndex': 0.56...</td>\n",
       "      <td>/sc-projects/sc-proj-ukb-cvd/results/models/re...</td>\n",
       "    </tr>\n",
       "    <tr>\n",
       "      <th>3</th>\n",
       "      <td>32rned74</td>\n",
       "      <td>230905_fullrun_retina</td>\n",
       "      <td>[230905, baseline_data, image]</td>\n",
       "      <td>7</td>\n",
       "      <td>{'losses': ['&lt;retinalrisk.models.loss_wrapper....</td>\n",
       "      <td>{'valid/phecode_430-2 - Nontraumatic intracere...</td>\n",
       "      <td>/sc-projects/sc-proj-ukb-cvd/results/models/re...</td>\n",
       "    </tr>\n",
       "    <tr>\n",
       "      <th>4</th>\n",
       "      <td>2owxdpk9</td>\n",
       "      <td>230905_fullrun_retina</td>\n",
       "      <td>[230905, baseline_data, image]</td>\n",
       "      <td>5</td>\n",
       "      <td>{'losses': ['&lt;retinalrisk.models.loss_wrapper....</td>\n",
       "      <td>{'valid/phecode_678 - Other skin and connectiv...</td>\n",
       "      <td>/sc-projects/sc-proj-ukb-cvd/results/models/re...</td>\n",
       "    </tr>\n",
       "    <tr>\n",
       "      <th>5</th>\n",
       "      <td>1dra1ycg</td>\n",
       "      <td>230905_fullrun_retina</td>\n",
       "      <td>[230905, baseline_data, image]</td>\n",
       "      <td>4</td>\n",
       "      <td>{'losses': ['&lt;retinalrisk.models.loss_wrapper....</td>\n",
       "      <td>{'gradients/encoder.features.5.8.block.2.weigh...</td>\n",
       "      <td>/sc-projects/sc-proj-ukb-cvd/results/models/re...</td>\n",
       "    </tr>\n",
       "  </tbody>\n",
       "</table>\n",
       "</div>"
      ],
      "text/plain": [
       "         id                   name                            tags  partition  \\\n",
       "0  20innqco  230905_fullrun_retina  [230905, baseline_data, image]         20   \n",
       "1  3egdzwli  230905_fullrun_retina  [230905, baseline_data, image]         10   \n",
       "2  3u8acsmy  230905_fullrun_retina  [230905, baseline_data, image]          9   \n",
       "3  32rned74  230905_fullrun_retina  [230905, baseline_data, image]          7   \n",
       "4  2owxdpk9  230905_fullrun_retina  [230905, baseline_data, image]          5   \n",
       "5  1dra1ycg  230905_fullrun_retina  [230905, baseline_data, image]          4   \n",
       "\n",
       "                                              config  \\\n",
       "0  {'losses': ['<retinalrisk.models.loss_wrapper....   \n",
       "1  {'losses': ['<retinalrisk.models.loss_wrapper....   \n",
       "2  {'losses': ['<retinalrisk.models.loss_wrapper....   \n",
       "3  {'losses': ['<retinalrisk.models.loss_wrapper....   \n",
       "4  {'losses': ['<retinalrisk.models.loss_wrapper....   \n",
       "5  {'losses': ['<retinalrisk.models.loss_wrapper....   \n",
       "\n",
       "                                             summary  \\\n",
       "0  {'valid/phecode_520-2 - Diaphragmatic hernia [...   \n",
       "1  {'valid/phecode_395 - Other diseases of inner ...   \n",
       "2  {'valid/phecode_800 - Chest pain_CIndex': 0.56...   \n",
       "3  {'valid/phecode_430-2 - Nontraumatic intracere...   \n",
       "4  {'valid/phecode_678 - Other skin and connectiv...   \n",
       "5  {'gradients/encoder.features.5.8.block.2.weigh...   \n",
       "\n",
       "                                                path  \n",
       "0  /sc-projects/sc-proj-ukb-cvd/results/models/re...  \n",
       "1  /sc-projects/sc-proj-ukb-cvd/results/models/re...  \n",
       "2  /sc-projects/sc-proj-ukb-cvd/results/models/re...  \n",
       "3  /sc-projects/sc-proj-ukb-cvd/results/models/re...  \n",
       "4  /sc-projects/sc-proj-ukb-cvd/results/models/re...  \n",
       "5  /sc-projects/sc-proj-ukb-cvd/results/models/re...  "
      ]
     },
     "execution_count": 16,
     "metadata": {},
     "output_type": "execute_result"
    }
   ],
   "source": [
    "runs_df"
   ]
  },
  {
   "cell_type": "code",
   "execution_count": 17,
   "metadata": {
    "tags": []
   },
   "outputs": [
    {
     "name": "stdout",
     "output_type": "stream",
     "text": [
      "/sc-projects/sc-proj-ukb-cvd/results/models/retina/20innqco/predictions/\n"
     ]
    }
   ],
   "source": [
    "print(runs_df['path'].iloc[0])"
   ]
  },
  {
   "cell_type": "markdown",
   "metadata": {},
   "source": [
    "## Process Predictions"
   ]
  },
  {
   "cell_type": "code",
   "execution_count": 18,
   "metadata": {
    "tags": []
   },
   "outputs": [],
   "source": [
    "id_vars = [\"eid\", \"model\", \"partition\", \"split\"]"
   ]
  },
  {
   "cell_type": "code",
   "execution_count": 19,
   "metadata": {
    "tags": []
   },
   "outputs": [],
   "source": [
    "out_path = f\"{experiment_path}/loghs\"\n",
    "pathlib.Path(out_path).mkdir(parents=True, exist_ok=True)"
   ]
  },
  {
   "cell_type": "code",
   "execution_count": 20,
   "metadata": {
    "tags": []
   },
   "outputs": [
    {
     "data": {
      "text/plain": [
       "'/sc-projects/sc-proj-ukb-cvd/results/projects/22_retina_phewas/data/230905/loghs'"
      ]
     },
     "execution_count": 20,
     "metadata": {},
     "output_type": "execute_result"
    }
   ],
   "source": [
    "out_path"
   ]
  },
  {
   "cell_type": "code",
   "execution_count": 21,
   "metadata": {
    "tags": []
   },
   "outputs": [],
   "source": [
    "# @ray.remote\n",
    "def prepare_predictions(in_path, out_path):\n",
    "    for cr in name_dict.keys():\n",
    "        in_path_cr = os.path.join(in_path, f'{cr}.feather')\n",
    "        temp = pd.read_feather(in_path_cr).rename(columns={\"index\": \"eid\"}).set_index('eid')\n",
    "        \n",
    "        # skip stuff if already written:\n",
    "        # mean duplicated indices aka left and right eye value per eid\n",
    "        temp_with_meaned_test_preds = temp.groupby(level=0).mean()\n",
    "        \n",
    "        # recover columns that are non-endpoints:\n",
    "        other_cols = [c for c in temp.columns.values if c not in endpoint_columns]\n",
    "        temp_with_meaned_test_preds = temp_with_meaned_test_preds.merge(temp[other_cols][~temp.index.duplicated()], left_index=True, right_index=True, how='left')\n",
    "   \n",
    "        temp = temp_with_meaned_test_preds.reset_index(drop=False)\n",
    "\n",
    "        # rename 10_1_Ft__ and dropping ft and St cols if present\n",
    "        cols_to_drop = []\n",
    "        cols_to_rename = {}\n",
    "        for col in temp.columns.values:\n",
    "            if 'ft' in col:\n",
    "                cols_to_drop.append(col)\n",
    "            elif 'St' in col:\n",
    "                cols_to_drop.append(col)\n",
    "            elif 'Ft' in col:\n",
    "                cols_to_rename[col] = col.replace('1_10_Ft__', '')\n",
    "                \n",
    "        temp['record_cols'] = None\n",
    "        temp[\"model\"] = (temp.module.astype(str) + \"_\" + temp.covariate_cols.astype(str) + \"_\" + temp.encoder.astype(str) + \"_\" + temp[\"head\"].astype(str)).astype(\"category\")\n",
    "        temp = temp.replace({\"model\":name_dict}).drop(columns=[\"module\", \"encoder\", \"head\", \"covariate_cols\", \"record_cols\"]).drop(columns=cols_to_drop).rename(columns=cols_to_rename)\n",
    "        for c in id_vars: \n",
    "            temp[c] = temp[c].astype(\"category\")\n",
    "            \n",
    "        model = temp.model.unique()[0]\n",
    "        model = f'{model}_{cr}'\n",
    "        partition = temp.partition.unique()[0]\n",
    "        \n",
    "#         if os.path.exists(f\"{out_path}/{model}/{partition}/train.feather\"):\n",
    "#             if os.path.exists(f\"{out_path}/{model}/{partition}/test.feather\") and os.path.exists(f\"{out_path}/{model}/{partition}/valid.feather\"):\n",
    "#                 print(f'skipping {partition} as already exists')\n",
    "#                 continue\n",
    "        \n",
    "   \n",
    "        for split in [\"train\", \"valid\", \"test\"]: #\"test_left\", 'test_right'\n",
    "            fp_out = f\"{out_path}/{model}/{partition}\"\n",
    "            pathlib.Path(fp_out).mkdir(parents=True, exist_ok=True)\n",
    "            t = temp.query(\"split==@split\")\n",
    "            t.reset_index(drop=True).to_feather(f\"{fp_out}/{split}.feather\")\n",
    "            print(f\"{fp_out}/{split}.feather\")"
   ]
  },
  {
   "cell_type": "code",
   "execution_count": 22,
   "metadata": {
    "tags": []
   },
   "outputs": [
    {
     "data": {
      "application/vnd.jupyter.widget-view+json": {
       "model_id": "dc64d3a5c00b49dbbfc91beca2b923bf",
       "version_major": 2,
       "version_minor": 0
      },
      "text/plain": [
       "  0%|          | 0/6 [00:00<?, ?it/s]"
      ]
     },
     "metadata": {},
     "output_type": "display_data"
    },
    {
     "name": "stdout",
     "output_type": "stream",
     "text": [
      "/sc-projects/sc-proj-ukb-cvd/results/projects/22_retina_phewas/data/230905/loghs/ImageTraining_[]_ConvNeXt_MLPHead_predictions/20/train.feather\n",
      "/sc-projects/sc-proj-ukb-cvd/results/projects/22_retina_phewas/data/230905/loghs/ImageTraining_[]_ConvNeXt_MLPHead_predictions/20/valid.feather\n",
      "/sc-projects/sc-proj-ukb-cvd/results/projects/22_retina_phewas/data/230905/loghs/ImageTraining_[]_ConvNeXt_MLPHead_predictions/20/test.feather\n",
      "/sc-projects/sc-proj-ukb-cvd/results/projects/22_retina_phewas/data/230905/loghs/ImageTraining_[]_ConvNeXt_MLPHead_predictions/10/train.feather\n",
      "/sc-projects/sc-proj-ukb-cvd/results/projects/22_retina_phewas/data/230905/loghs/ImageTraining_[]_ConvNeXt_MLPHead_predictions/10/valid.feather\n",
      "/sc-projects/sc-proj-ukb-cvd/results/projects/22_retina_phewas/data/230905/loghs/ImageTraining_[]_ConvNeXt_MLPHead_predictions/10/test.feather\n",
      "/sc-projects/sc-proj-ukb-cvd/results/projects/22_retina_phewas/data/230905/loghs/ImageTraining_[]_ConvNeXt_MLPHead_predictions/9/train.feather\n",
      "/sc-projects/sc-proj-ukb-cvd/results/projects/22_retina_phewas/data/230905/loghs/ImageTraining_[]_ConvNeXt_MLPHead_predictions/9/valid.feather\n",
      "/sc-projects/sc-proj-ukb-cvd/results/projects/22_retina_phewas/data/230905/loghs/ImageTraining_[]_ConvNeXt_MLPHead_predictions/9/test.feather\n",
      "/sc-projects/sc-proj-ukb-cvd/results/projects/22_retina_phewas/data/230905/loghs/ImageTraining_[]_ConvNeXt_MLPHead_predictions/7/train.feather\n",
      "/sc-projects/sc-proj-ukb-cvd/results/projects/22_retina_phewas/data/230905/loghs/ImageTraining_[]_ConvNeXt_MLPHead_predictions/7/valid.feather\n",
      "/sc-projects/sc-proj-ukb-cvd/results/projects/22_retina_phewas/data/230905/loghs/ImageTraining_[]_ConvNeXt_MLPHead_predictions/7/test.feather\n",
      "/sc-projects/sc-proj-ukb-cvd/results/projects/22_retina_phewas/data/230905/loghs/ImageTraining_[]_ConvNeXt_MLPHead_predictions/5/train.feather\n",
      "/sc-projects/sc-proj-ukb-cvd/results/projects/22_retina_phewas/data/230905/loghs/ImageTraining_[]_ConvNeXt_MLPHead_predictions/5/valid.feather\n",
      "/sc-projects/sc-proj-ukb-cvd/results/projects/22_retina_phewas/data/230905/loghs/ImageTraining_[]_ConvNeXt_MLPHead_predictions/5/test.feather\n",
      "/sc-projects/sc-proj-ukb-cvd/results/projects/22_retina_phewas/data/230905/loghs/ImageTraining_[]_ConvNeXt_MLPHead_predictions/4/train.feather\n",
      "/sc-projects/sc-proj-ukb-cvd/results/projects/22_retina_phewas/data/230905/loghs/ImageTraining_[]_ConvNeXt_MLPHead_predictions/4/valid.feather\n",
      "/sc-projects/sc-proj-ukb-cvd/results/projects/22_retina_phewas/data/230905/loghs/ImageTraining_[]_ConvNeXt_MLPHead_predictions/4/test.feather\n"
     ]
    }
   ],
   "source": [
    "for row_idx in tqdm(range(len(runs_df))): \n",
    "    row = runs_df.iloc[row_idx]\n",
    "    p = row['path']\n",
    "    id = row['id']\n",
    "#     prepare_predictions.remote(p, out_path)\n",
    "    prepare_predictions(p, out_path)"
   ]
  },
  {
   "cell_type": "code",
   "execution_count": 23,
   "metadata": {},
   "outputs": [
    {
     "data": {
      "text/plain": [
       "'/sc-projects/sc-proj-ukb-cvd/results/projects/22_retina_phewas/data/230905/loghs'"
      ]
     },
     "execution_count": 23,
     "metadata": {},
     "output_type": "execute_result"
    }
   ],
   "source": [
    "out_path"
   ]
  },
  {
   "cell_type": "code",
   "execution_count": 24,
   "metadata": {
    "tags": []
   },
   "outputs": [
    {
     "name": "stdout",
     "output_type": "stream",
     "text": [
      "total 256K\n",
      "drwxrwx--- 8 loockl posix-nogroup 116 Sep 13 15:56 .\n",
      "drwxrwx--- 3 loockl posix-nogroup  63 Sep 13 15:50 ..\n",
      "drwxrwx--- 2 loockl posix-nogroup  92 Sep 13 15:51 10\n",
      "drwxrwx--- 2 loockl posix-nogroup  92 Sep 13 15:50 20\n",
      "drwxrwx--- 2 loockl posix-nogroup  92 Sep 13 15:56 4\n",
      "drwxrwx--- 2 loockl posix-nogroup  92 Sep 13 15:54 5\n",
      "drwxrwx--- 2 loockl posix-nogroup  92 Sep 13 15:53 7\n",
      "drwxrwx--- 2 loockl posix-nogroup  92 Sep 13 15:52 9\n"
     ]
    }
   ],
   "source": [
    "!ls -lah {out_path}/'ImageTraining_[]_ConvNeXt_MLPHead_predictions'"
   ]
  },
  {
   "cell_type": "code",
   "execution_count": null,
   "metadata": {},
   "outputs": [],
   "source": []
  }
 ],
 "metadata": {
  "interpreter": {
   "hash": "7fb005937abf8310e947cacdef9aa24b4c9570846765db425bfb20f46bc066c7"
  },
  "kernelspec": {
   "display_name": "Python 3 (ipykernel)",
   "language": "python",
   "name": "python3"
  },
  "language_info": {
   "codemirror_mode": {
    "name": "ipython",
    "version": 3
   },
   "file_extension": ".py",
   "mimetype": "text/x-python",
   "name": "python",
   "nbconvert_exporter": "python",
   "pygments_lexer": "ipython3",
   "version": "3.9.7"
  }
 },
 "nbformat": 4,
 "nbformat_minor": 4
}
