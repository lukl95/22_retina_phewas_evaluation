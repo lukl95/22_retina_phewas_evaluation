{
 "cells": [
  {
   "cell_type": "markdown",
   "metadata": {},
   "source": [
    "# Preprocessing"
   ]
  },
  {
   "cell_type": "code",
   "execution_count": 1,
   "metadata": {
    "collapsed": false,
    "execution": {
     "iopub.execute_input": "2022-08-12T07:43:33.525770Z",
     "iopub.status.busy": "2022-08-12T07:43:33.525540Z",
     "iopub.status.idle": "2022-08-12T07:43:36.032891Z",
     "shell.execute_reply": "2022-08-12T07:43:36.032390Z",
     "shell.execute_reply.started": "2022-08-12T07:43:33.525725Z"
    },
    "jupyter": {
     "outputs_hidden": false
    },
    "pycharm": {
     "name": "#%%\n"
    },
    "tags": []
   },
   "outputs": [
    {
     "name": "stdout",
     "output_type": "stream",
     "text": [
      "/sc-projects/sc-proj-ukb-cvd\n"
     ]
    }
   ],
   "source": [
    "import pandas as pd\n",
    "import numpy as np\n",
    "import os\n",
    "import yaml\n",
    "from tqdm.notebook import trange, tqdm\n",
    "\n",
    "node = !hostname\n",
    "if \"sc\" in node[0]:\n",
    "    base_path = \"/sc-projects/sc-proj-ukb-cvd\"\n",
    "else: base_path = \"/data/analysis/ag-reils/ag-reils-shared/cardioRS\"\n",
    "print(base_path)\n",
    "\n",
    "dataset_name = \"211110_anewbeginning\"\n",
    "mapping_path = f\"{base_path}/data/mapping\"\n",
    "dataset_path = f\"{base_path}/data/2_datasets_pre/{dataset_name}\""
   ]
  },
  {
   "cell_type": "code",
   "execution_count": 2,
   "metadata": {
    "collapsed": false,
    "execution": {
     "iopub.execute_input": "2022-08-12T07:43:36.035359Z",
     "iopub.status.busy": "2022-08-12T07:43:36.035254Z",
     "iopub.status.idle": "2022-08-12T07:43:36.057574Z",
     "shell.execute_reply": "2022-08-12T07:43:36.057213Z",
     "shell.execute_reply.started": "2022-08-12T07:43:36.035344Z"
    },
    "jupyter": {
     "outputs_hidden": false
    },
    "pycharm": {
     "name": "#%%\n"
    },
    "tags": []
   },
   "outputs": [],
   "source": [
    "from pathlib import Path\n",
    "Path(dataset_path).mkdir(parents=True, exist_ok=True)"
   ]
  },
  {
   "cell_type": "code",
   "execution_count": 3,
   "metadata": {
    "execution": {
     "iopub.execute_input": "2022-05-04T08:14:36.167332Z",
     "iopub.status.busy": "2022-05-04T08:14:36.167236Z",
     "iopub.status.idle": "2022-05-04T08:14:46.607524Z",
     "shell.execute_reply": "2022-05-04T08:14:46.606824Z",
     "shell.execute_reply.started": "2022-05-04T08:14:36.167319Z"
    },
    "tags": []
   },
   "outputs": [
    {
     "name": "stderr",
     "output_type": "stream",
     "text": [
      "/home/buergelt/miniconda3/envs/ehrgraphs2/lib/python3.9/site-packages/IPython/core/interactiveshell.py:3457: DtypeWarning: Columns (5,6,9) have mixed types.Specify dtype option on import or set low_memory=False.\n",
      "  exec(code_obj, self.user_global_ns, self.user_ns)\n"
     ]
    }
   ],
   "source": [
    "vocab_dir = f\"{mapping_path}/athena\"\n",
    "concept = pd.read_csv(f\"{vocab_dir}/CONCEPT.csv\", sep='\\t')"
   ]
  },
  {
   "cell_type": "code",
   "execution_count": 4,
   "metadata": {
    "execution": {
     "iopub.execute_input": "2022-05-04T08:14:46.609951Z",
     "iopub.status.busy": "2022-05-04T08:14:46.609574Z",
     "iopub.status.idle": "2022-05-04T08:14:48.341167Z",
     "shell.execute_reply": "2022-05-04T08:14:48.340746Z",
     "shell.execute_reply.started": "2022-05-04T08:14:46.609928Z"
    },
    "tags": []
   },
   "outputs": [],
   "source": [
    "sct_icd = pd.read_csv(f\"{mapping_path}/umls/der2_iisssccRefset_ExtendedMapFull_US1000124_20220301.txt\", sep=\"\\t\")"
   ]
  },
  {
   "cell_type": "code",
   "execution_count": 5,
   "metadata": {
    "execution": {
     "iopub.execute_input": "2022-05-04T08:14:48.342202Z",
     "iopub.status.busy": "2022-05-04T08:14:48.341938Z",
     "iopub.status.idle": "2022-05-04T08:14:48.366918Z",
     "shell.execute_reply": "2022-05-04T08:14:48.366633Z",
     "shell.execute_reply.started": "2022-05-04T08:14:48.342183Z"
    },
    "tags": []
   },
   "outputs": [
    {
     "data": {
      "text/html": [
       "<div>\n",
       "<style scoped>\n",
       "    .dataframe tbody tr th:only-of-type {\n",
       "        vertical-align: middle;\n",
       "    }\n",
       "\n",
       "    .dataframe tbody tr th {\n",
       "        vertical-align: top;\n",
       "    }\n",
       "\n",
       "    .dataframe thead th {\n",
       "        text-align: right;\n",
       "    }\n",
       "</style>\n",
       "<table border=\"1\" class=\"dataframe\">\n",
       "  <thead>\n",
       "    <tr style=\"text-align: right;\">\n",
       "      <th></th>\n",
       "      <th>id</th>\n",
       "      <th>effectiveTime</th>\n",
       "      <th>active</th>\n",
       "      <th>moduleId</th>\n",
       "      <th>refsetId</th>\n",
       "      <th>referencedComponentId</th>\n",
       "      <th>mapGroup</th>\n",
       "      <th>mapPriority</th>\n",
       "      <th>mapRule</th>\n",
       "      <th>mapAdvice</th>\n",
       "      <th>mapTarget</th>\n",
       "      <th>correlationId</th>\n",
       "      <th>mapCategoryId</th>\n",
       "    </tr>\n",
       "  </thead>\n",
       "  <tbody>\n",
       "    <tr>\n",
       "      <th>0</th>\n",
       "      <td>80004cdf-a114-59c8-88a2-b6f0283acf4f</td>\n",
       "      <td>20180301</td>\n",
       "      <td>1</td>\n",
       "      <td>5991000124107</td>\n",
       "      <td>6011000124106</td>\n",
       "      <td>128041000119107</td>\n",
       "      <td>1</td>\n",
       "      <td>1</td>\n",
       "      <td>IFA 721617001 | Primary adenocarcinoma of lowe...</td>\n",
       "      <td>IF PRIMARY ADENOCARCINOMA OF LOWER THIRD OF ES...</td>\n",
       "      <td>K22.70</td>\n",
       "      <td>447561005</td>\n",
       "      <td>447639009</td>\n",
       "    </tr>\n",
       "    <tr>\n",
       "      <th>1</th>\n",
       "      <td>80005aeb-477c-53dc-9a5c-ce723ca264cb</td>\n",
       "      <td>20150731</td>\n",
       "      <td>1</td>\n",
       "      <td>449080006</td>\n",
       "      <td>447562003</td>\n",
       "      <td>254153009</td>\n",
       "      <td>1</td>\n",
       "      <td>1</td>\n",
       "      <td>TRUE</td>\n",
       "      <td>ALWAYS Q79.8</td>\n",
       "      <td>Q79.8</td>\n",
       "      <td>447561005</td>\n",
       "      <td>447637006</td>\n",
       "    </tr>\n",
       "    <tr>\n",
       "      <th>2</th>\n",
       "      <td>80007b64-5a60-5556-88ce-22ef540a3ea5</td>\n",
       "      <td>20180301</td>\n",
       "      <td>1</td>\n",
       "      <td>5991000124107</td>\n",
       "      <td>6011000124106</td>\n",
       "      <td>281801000009108</td>\n",
       "      <td>2</td>\n",
       "      <td>2</td>\n",
       "      <td>OTHERWISE TRUE</td>\n",
       "      <td>ALWAYS B96.89</td>\n",
       "      <td>B96.89</td>\n",
       "      <td>447561005</td>\n",
       "      <td>447637006</td>\n",
       "    </tr>\n",
       "    <tr>\n",
       "      <th>3</th>\n",
       "      <td>80007e6a-7408-5b87-a1ec-70b212811410</td>\n",
       "      <td>20190731</td>\n",
       "      <td>1</td>\n",
       "      <td>449080006</td>\n",
       "      <td>447562003</td>\n",
       "      <td>16623961000119100</td>\n",
       "      <td>1</td>\n",
       "      <td>1</td>\n",
       "      <td>TRUE</td>\n",
       "      <td>ALWAYS D61.1</td>\n",
       "      <td>D61.1</td>\n",
       "      <td>447561005</td>\n",
       "      <td>447637006</td>\n",
       "    </tr>\n",
       "    <tr>\n",
       "      <th>4</th>\n",
       "      <td>80009454-5531-5f78-b7c9-d288f2346d83</td>\n",
       "      <td>20150731</td>\n",
       "      <td>1</td>\n",
       "      <td>449080006</td>\n",
       "      <td>447562003</td>\n",
       "      <td>301327002</td>\n",
       "      <td>1</td>\n",
       "      <td>1</td>\n",
       "      <td>TRUE</td>\n",
       "      <td>MAP SOURCE CONCEPT CANNOT BE CLASSIFIED WITH A...</td>\n",
       "      <td>NaN</td>\n",
       "      <td>447561005</td>\n",
       "      <td>447638001</td>\n",
       "    </tr>\n",
       "    <tr>\n",
       "      <th>...</th>\n",
       "      <td>...</td>\n",
       "      <td>...</td>\n",
       "      <td>...</td>\n",
       "      <td>...</td>\n",
       "      <td>...</td>\n",
       "      <td>...</td>\n",
       "      <td>...</td>\n",
       "      <td>...</td>\n",
       "      <td>...</td>\n",
       "      <td>...</td>\n",
       "      <td>...</td>\n",
       "      <td>...</td>\n",
       "      <td>...</td>\n",
       "    </tr>\n",
       "    <tr>\n",
       "      <th>696187</th>\n",
       "      <td>7fff513a-5f56-5d95-94a4-ad3ca8799d7e</td>\n",
       "      <td>20170901</td>\n",
       "      <td>1</td>\n",
       "      <td>5991000124107</td>\n",
       "      <td>6011000124106</td>\n",
       "      <td>405779006</td>\n",
       "      <td>1</td>\n",
       "      <td>1</td>\n",
       "      <td>TRUE</td>\n",
       "      <td>ALWAYS Z76.89</td>\n",
       "      <td>Z76.89</td>\n",
       "      <td>447561005</td>\n",
       "      <td>447637006</td>\n",
       "    </tr>\n",
       "    <tr>\n",
       "      <th>696188</th>\n",
       "      <td>7fff619f-e8b2-55c3-b72b-0e8bc94e9b51</td>\n",
       "      <td>20180301</td>\n",
       "      <td>0</td>\n",
       "      <td>5991000124107</td>\n",
       "      <td>6011000124106</td>\n",
       "      <td>699317002</td>\n",
       "      <td>1</td>\n",
       "      <td>3</td>\n",
       "      <td>IFA 432131000124100 | Malignant mesothelioma o...</td>\n",
       "      <td>IF MALIGNANT MESOTHELIOMA OF THE TUNICA VAGINA...</td>\n",
       "      <td>C45.7</td>\n",
       "      <td>447561005</td>\n",
       "      <td>447639009</td>\n",
       "    </tr>\n",
       "    <tr>\n",
       "      <th>696189</th>\n",
       "      <td>7fff797f-2343-5e27-ad05-83c727866186</td>\n",
       "      <td>20130731</td>\n",
       "      <td>1</td>\n",
       "      <td>449080006</td>\n",
       "      <td>447562003</td>\n",
       "      <td>94152006</td>\n",
       "      <td>1</td>\n",
       "      <td>1</td>\n",
       "      <td>TRUE</td>\n",
       "      <td>ALWAYS C78.8 | POSSIBLE REQUIREMENT FOR MORPHO...</td>\n",
       "      <td>C78.8</td>\n",
       "      <td>447561005</td>\n",
       "      <td>447637006</td>\n",
       "    </tr>\n",
       "    <tr>\n",
       "      <th>696190</th>\n",
       "      <td>7fffb435-c140-5f1a-b314-7d228b634825</td>\n",
       "      <td>20130731</td>\n",
       "      <td>1</td>\n",
       "      <td>449080006</td>\n",
       "      <td>447562003</td>\n",
       "      <td>80736008</td>\n",
       "      <td>1</td>\n",
       "      <td>1</td>\n",
       "      <td>TRUE</td>\n",
       "      <td>ALWAYS K60.4 | DESCENDANTS NOT EXHAUSTIVELY MA...</td>\n",
       "      <td>K60.4</td>\n",
       "      <td>447561005</td>\n",
       "      <td>447637006</td>\n",
       "    </tr>\n",
       "    <tr>\n",
       "      <th>696191</th>\n",
       "      <td>7fffb435-c140-5f1a-b314-7d228b634825</td>\n",
       "      <td>20150131</td>\n",
       "      <td>1</td>\n",
       "      <td>449080006</td>\n",
       "      <td>447562003</td>\n",
       "      <td>80736008</td>\n",
       "      <td>1</td>\n",
       "      <td>1</td>\n",
       "      <td>TRUE</td>\n",
       "      <td>ALWAYS K60.4</td>\n",
       "      <td>K60.4</td>\n",
       "      <td>447561005</td>\n",
       "      <td>447637006</td>\n",
       "    </tr>\n",
       "  </tbody>\n",
       "</table>\n",
       "<p>696192 rows × 13 columns</p>\n",
       "</div>"
      ],
      "text/plain": [
       "                                          id  effectiveTime  active  \\\n",
       "0       80004cdf-a114-59c8-88a2-b6f0283acf4f       20180301       1   \n",
       "1       80005aeb-477c-53dc-9a5c-ce723ca264cb       20150731       1   \n",
       "2       80007b64-5a60-5556-88ce-22ef540a3ea5       20180301       1   \n",
       "3       80007e6a-7408-5b87-a1ec-70b212811410       20190731       1   \n",
       "4       80009454-5531-5f78-b7c9-d288f2346d83       20150731       1   \n",
       "...                                      ...            ...     ...   \n",
       "696187  7fff513a-5f56-5d95-94a4-ad3ca8799d7e       20170901       1   \n",
       "696188  7fff619f-e8b2-55c3-b72b-0e8bc94e9b51       20180301       0   \n",
       "696189  7fff797f-2343-5e27-ad05-83c727866186       20130731       1   \n",
       "696190  7fffb435-c140-5f1a-b314-7d228b634825       20130731       1   \n",
       "696191  7fffb435-c140-5f1a-b314-7d228b634825       20150131       1   \n",
       "\n",
       "             moduleId       refsetId  referencedComponentId  mapGroup  \\\n",
       "0       5991000124107  6011000124106        128041000119107         1   \n",
       "1           449080006      447562003              254153009         1   \n",
       "2       5991000124107  6011000124106        281801000009108         2   \n",
       "3           449080006      447562003      16623961000119100         1   \n",
       "4           449080006      447562003              301327002         1   \n",
       "...               ...            ...                    ...       ...   \n",
       "696187  5991000124107  6011000124106              405779006         1   \n",
       "696188  5991000124107  6011000124106              699317002         1   \n",
       "696189      449080006      447562003               94152006         1   \n",
       "696190      449080006      447562003               80736008         1   \n",
       "696191      449080006      447562003               80736008         1   \n",
       "\n",
       "        mapPriority                                            mapRule  \\\n",
       "0                 1  IFA 721617001 | Primary adenocarcinoma of lowe...   \n",
       "1                 1                                               TRUE   \n",
       "2                 2                                     OTHERWISE TRUE   \n",
       "3                 1                                               TRUE   \n",
       "4                 1                                               TRUE   \n",
       "...             ...                                                ...   \n",
       "696187            1                                               TRUE   \n",
       "696188            3  IFA 432131000124100 | Malignant mesothelioma o...   \n",
       "696189            1                                               TRUE   \n",
       "696190            1                                               TRUE   \n",
       "696191            1                                               TRUE   \n",
       "\n",
       "                                                mapAdvice mapTarget  \\\n",
       "0       IF PRIMARY ADENOCARCINOMA OF LOWER THIRD OF ES...    K22.70   \n",
       "1                                            ALWAYS Q79.8     Q79.8   \n",
       "2                                           ALWAYS B96.89    B96.89   \n",
       "3                                            ALWAYS D61.1     D61.1   \n",
       "4       MAP SOURCE CONCEPT CANNOT BE CLASSIFIED WITH A...       NaN   \n",
       "...                                                   ...       ...   \n",
       "696187                                      ALWAYS Z76.89    Z76.89   \n",
       "696188  IF MALIGNANT MESOTHELIOMA OF THE TUNICA VAGINA...     C45.7   \n",
       "696189  ALWAYS C78.8 | POSSIBLE REQUIREMENT FOR MORPHO...     C78.8   \n",
       "696190  ALWAYS K60.4 | DESCENDANTS NOT EXHAUSTIVELY MA...     K60.4   \n",
       "696191                                       ALWAYS K60.4     K60.4   \n",
       "\n",
       "        correlationId  mapCategoryId  \n",
       "0           447561005      447639009  \n",
       "1           447561005      447637006  \n",
       "2           447561005      447637006  \n",
       "3           447561005      447637006  \n",
       "4           447561005      447638001  \n",
       "...               ...            ...  \n",
       "696187      447561005      447637006  \n",
       "696188      447561005      447639009  \n",
       "696189      447561005      447637006  \n",
       "696190      447561005      447637006  \n",
       "696191      447561005      447637006  \n",
       "\n",
       "[696192 rows x 13 columns]"
      ]
     },
     "execution_count": 5,
     "metadata": {},
     "output_type": "execute_result"
    }
   ],
   "source": [
    "sct_icd"
   ]
  },
  {
   "cell_type": "code",
   "execution_count": 6,
   "metadata": {
    "execution": {
     "iopub.execute_input": "2022-05-04T08:14:48.367557Z",
     "iopub.status.busy": "2022-05-04T08:14:48.367454Z",
     "iopub.status.idle": "2022-05-04T08:14:48.374064Z",
     "shell.execute_reply": "2022-05-04T08:14:48.373723Z",
     "shell.execute_reply.started": "2022-05-04T08:14:48.367544Z"
    },
    "tags": []
   },
   "outputs": [],
   "source": [
    "relationship = pd.read_csv(f\"{vocab_dir}/RELATIONSHIP.csv\", sep='\\t')"
   ]
  },
  {
   "cell_type": "code",
   "execution_count": 7,
   "metadata": {
    "execution": {
     "iopub.execute_input": "2022-05-04T08:14:48.374670Z",
     "iopub.status.busy": "2022-05-04T08:14:48.374574Z",
     "iopub.status.idle": "2022-05-04T08:14:48.386445Z",
     "shell.execute_reply": "2022-05-04T08:14:48.386097Z",
     "shell.execute_reply.started": "2022-05-04T08:14:48.374657Z"
    },
    "tags": []
   },
   "outputs": [],
   "source": [
    "vocabulary = pd.read_csv(f\"{vocab_dir}/VOCABULARY.csv\", sep='\\t')"
   ]
  },
  {
   "cell_type": "code",
   "execution_count": 8,
   "metadata": {
    "execution": {
     "iopub.execute_input": "2022-05-04T08:14:48.387079Z",
     "iopub.status.busy": "2022-05-04T08:14:48.386979Z",
     "iopub.status.idle": "2022-05-04T08:15:04.605454Z",
     "shell.execute_reply": "2022-05-04T08:15:04.604900Z",
     "shell.execute_reply.started": "2022-05-04T08:14:48.387066Z"
    },
    "tags": []
   },
   "outputs": [],
   "source": [
    "# links omop concept_ids\n",
    "concept_relationship = pd.read_csv(f\"{vocab_dir}/CONCEPT_RELATIONSHIP.csv\", sep='\\t')"
   ]
  },
  {
   "cell_type": "markdown",
   "metadata": {},
   "source": [
    "## Prepare Records TTE"
   ]
  },
  {
   "cell_type": "code",
   "execution_count": 4,
   "metadata": {
    "collapsed": false,
    "execution": {
     "iopub.execute_input": "2022-08-12T07:43:46.903445Z",
     "iopub.status.busy": "2022-08-12T07:43:46.903225Z",
     "iopub.status.idle": "2022-08-12T07:43:46.905752Z",
     "shell.execute_reply": "2022-08-12T07:43:46.905413Z",
     "shell.execute_reply.started": "2022-08-12T07:43:46.903428Z"
    },
    "jupyter": {
     "outputs_hidden": false
    },
    "pycharm": {
     "name": "#%%\n"
    },
    "tags": []
   },
   "outputs": [],
   "source": [
    "import wandb\n",
    "import pathlib\n",
    "\n",
    "# project=\"recordgraphs\"\n",
    "project=\"retina\"\n",
    "entity=\"cardiors\"\n",
    "artifact_date = \"220812\""
   ]
  },
  {
   "cell_type": "code",
   "execution_count": 5,
   "metadata": {
    "collapsed": false,
    "execution": {
     "iopub.execute_input": "2022-08-12T07:43:51.935579Z",
     "iopub.status.busy": "2022-08-12T07:43:51.935234Z",
     "iopub.status.idle": "2022-08-12T07:43:51.938443Z",
     "shell.execute_reply": "2022-08-12T07:43:51.938101Z",
     "shell.execute_reply.started": "2022-08-12T07:43:51.935562Z"
    },
    "jupyter": {
     "outputs_hidden": false
    },
    "pycharm": {
     "name": "#%%\n"
    },
    "tags": []
   },
   "outputs": [],
   "source": [
    "def get_path_from_wandb(reference: str):\n",
    "    path = pathlib.Path(reference.split(\"file://\")[1])\n",
    "    assert path.exists()\n",
    "    return path\n",
    "\n",
    "def read_artifact(run, artifact_name, type_name):\n",
    "    \n",
    "    artifact = run.use_artifact(f'cardiors/recordgraphs/{artifact_name}:latest', type=type_name)\n",
    "    file_path = get_path_from_wandb(artifact.manifest.entries[artifact_name].ref)\n",
    "    print(file_path)\n",
    "\n",
    "    return file_path"
   ]
  },
  {
   "cell_type": "code",
   "execution_count": 6,
   "metadata": {
    "execution": {
     "iopub.execute_input": "2022-08-12T07:43:52.427023Z",
     "iopub.status.busy": "2022-08-12T07:43:52.426722Z",
     "iopub.status.idle": "2022-08-12T07:43:52.429926Z",
     "shell.execute_reply": "2022-08-12T07:43:52.429591Z",
     "shell.execute_reply.started": "2022-08-12T07:43:52.427008Z"
    },
    "tags": []
   },
   "outputs": [],
   "source": [
    "def add_artifact(run, artifact_name, type_name, description, artifact_path, df):\n",
    "   \n",
    "    artifact = wandb.Artifact(artifact_name, type=type_name, \n",
    "                              description=description,\n",
    "                             metadata = {\"1_shape\": f\"{len(df)}x{len(df.columns)}\",\n",
    "                                         \"2_cols\": str(df.columns.to_list())})\n",
    "    artifact.add_reference(f\"\"\"file://{artifact_path}\"\"\", artifact_name, checksum=True)\n",
    "    run.log_artifact(artifact)"
   ]
  },
  {
   "cell_type": "code",
   "execution_count": 7,
   "metadata": {
    "collapsed": false,
    "execution": {
     "iopub.execute_input": "2022-08-12T07:43:56.670458Z",
     "iopub.status.busy": "2022-08-12T07:43:56.670346Z",
     "iopub.status.idle": "2022-08-12T07:44:07.476453Z",
     "shell.execute_reply": "2022-08-12T07:44:07.476008Z",
     "shell.execute_reply.started": "2022-08-12T07:43:56.670444Z"
    },
    "jupyter": {
     "outputs_hidden": false
    },
    "pycharm": {
     "name": "#%%\n"
    },
    "tags": []
   },
   "outputs": [
    {
     "name": "stderr",
     "output_type": "stream",
     "text": [
      "Failed to detect the name of this notebook, you can set it manually with the WANDB_NOTEBOOK_NAME environment variable to enable code saving.\n",
      "\u001b[34m\u001b[1mwandb\u001b[0m: Currently logged in as: \u001b[33mcardiors\u001b[0m (use `wandb login --relogin` to force relogin)\n",
      "\u001b[34m\u001b[1mwandb\u001b[0m: wandb version 0.13.1 is available!  To upgrade, please run:\n",
      "\u001b[34m\u001b[1mwandb\u001b[0m:  $ pip install wandb --upgrade\n"
     ]
    },
    {
     "data": {
      "text/html": [
       "\n",
       "                    Syncing run <strong><a href=\"https://wandb.ai/cardiors/retina/runs/u4hjqq6z\" target=\"_blank\">stoic-eon-337</a></strong> to <a href=\"https://wandb.ai/cardiors/retina\" target=\"_blank\">Weights & Biases</a> (<a href=\"https://docs.wandb.com/integrations/jupyter.html\" target=\"_blank\">docs</a>).<br/>\n",
       "\n",
       "                "
      ],
      "text/plain": [
       "<IPython.core.display.HTML object>"
      ]
     },
     "metadata": {},
     "output_type": "display_data"
    }
   ],
   "source": [
    "run = wandb.init(project=project, job_type=\"log_artifact\", entity=entity, tags=[\"artifact\"])"
   ]
  },
  {
   "cell_type": "code",
   "execution_count": null,
   "metadata": {
    "tags": []
   },
   "outputs": [],
   "source": [
    "phecode_defs_path = \"/sc-projects/sc-proj-ukb-cvd/data/mapping/phecodes/phecode_strings_V2.csv\"\n",
    "\n",
    "artifact_name = \"phecode_definitions\"\n",
    "type_name = \"prepare_phecodes\"\n",
    "description = \"Definition of phecodes\"\n",
    "artifact_path = f\"{dataset_path}/artifacts/{artifact_name}_{artifact_date}.feather\"\n",
    "\n",
    "phecode_defs = pd.read_csv(phecode_defs_path, dtype={\"phecode\": str}).sort_values(\"phecode\").reset_index()\n",
    "phecode_defs.to_feather(artifact_path)\n",
    "\n",
    "add_artifact(run, artifact_name, type_name, description, artifact_path, phecode_defs)"
   ]
  },
  {
   "cell_type": "code",
   "execution_count": null,
   "metadata": {
    "collapsed": false,
    "jupyter": {
     "outputs_hidden": false
    },
    "pycharm": {
     "name": "#%%\n"
    },
    "tags": []
   },
   "outputs": [],
   "source": [
    "phecode_mapping_path = \"/sc-projects/sc-proj-ukb-cvd/data/mapping/phecodes/ICD10_to_phecode_V2.csv\"\n",
    "\n",
    "artifact_name = \"icd10_phecode_mapping\"\n",
    "type_name = \"prepare_phecodes\"\n",
    "description = \"Mapping of ICD10 to phecodes\"\n",
    "artifact_path = f\"{dataset_path}/artifacts/{artifact_name}_{artifact_date}.feather\"\n",
    "\n",
    "phecode_mapping = pd.read_csv(phecode_mapping_path, dtype={\"phecode\": str}).rename(columns={\"icd10\": \"ICD10\"})\\\n",
    "    .assign(ICD10 = lambda x: x.ICD10.str.replace(\".\", \"\", regex=False)).reset_index()\n",
    "phecode_mapping.to_feather(artifact_path)\n",
    "\n",
    "add_artifact(run, artifact_name, type_name, description, artifact_path, phecode_mapping)"
   ]
  },
  {
   "cell_type": "code",
   "execution_count": null,
   "metadata": {},
   "outputs": [],
   "source": [
    "records_raw = pd.read_feather(read_artifact(run, \"complete_records_extended\", \"prepare_records\"))\\\n",
    "    .query(\"concept_id==concept_id\")\\\n",
    "    .assign(concept_id = lambda x: x.concept_id.astype(int))\n",
    "records_raw.origin.unique()"
   ]
  },
  {
   "cell_type": "code",
   "execution_count": null,
   "metadata": {},
   "outputs": [],
   "source": [
    "1+1"
   ]
  },
  {
   "cell_type": "markdown",
   "metadata": {},
   "source": [
    "### Explicitly encode death record"
   ]
  },
  {
   "cell_type": "code",
   "execution_count": null,
   "metadata": {},
   "outputs": [],
   "source": [
    "records_death = records_raw.query('origin==\"death_records\"').copy()\n",
    "#records_death.loc[records_death.query('origin==\"death_records\"').index, 'code'] = 4306655\n",
    "records_death.loc[records_death.query('origin==\"death_records\"').index, 'concept_id'] = 4306655\n",
    "records_death = records_death.drop_duplicates(subset=['eid', 'concept_id'], keep='first')\n",
    "records_raw_w_death = pd.concat([records_raw, records_death], axis=0)"
   ]
  },
  {
   "cell_type": "code",
   "execution_count": null,
   "metadata": {},
   "outputs": [],
   "source": [
    "records_raw_w_death"
   ]
  },
  {
   "cell_type": "markdown",
   "metadata": {},
   "source": [
    "### Prepare OMOP"
   ]
  },
  {
   "cell_type": "code",
   "execution_count": null,
   "metadata": {},
   "outputs": [],
   "source": [
    "records_omop = records_raw_w_death.assign(concept_code=lambda x: x.concept_id, vocabulary=\"OMOP\")\n",
    "records_omop[\"vocabulary\"] = records_omop[\"vocabulary\"].astype(\"category\")"
   ]
  },
  {
   "cell_type": "code",
   "execution_count": null,
   "metadata": {
    "tags": []
   },
   "outputs": [],
   "source": [
    "records_omop.head()"
   ]
  },
  {
   "cell_type": "markdown",
   "metadata": {},
   "source": [
    "### Prepare OMOP -> ICD10"
   ]
  },
  {
   "cell_type": "code",
   "execution_count": null,
   "metadata": {},
   "outputs": [],
   "source": [
    "omop_counts = records_raw[[\"concept_id\"]].value_counts()"
   ]
  },
  {
   "cell_type": "code",
   "execution_count": null,
   "metadata": {},
   "outputs": [],
   "source": [
    "omop_concepts = omop_counts.to_frame().reset_index()[[\"concept_id\"]]\n",
    "omop_concepts_md = omop_concepts.merge(concept[[\"concept_id\", \"concept_code\", \"concept_name\", \"vocabulary_id\", \"domain_id\", \"concept_class_id\"]], on=\"concept_id\", how=\"left\").merge(omop_counts.to_frame().reset_index(), on=\"concept_id\", how=\"left\")"
   ]
  },
  {
   "cell_type": "code",
   "execution_count": null,
   "metadata": {},
   "outputs": [],
   "source": [
    "omop_concepts_md"
   ]
  },
  {
   "cell_type": "code",
   "execution_count": null,
   "metadata": {},
   "outputs": [],
   "source": [
    "omop_counts"
   ]
  },
  {
   "cell_type": "code",
   "execution_count": null,
   "metadata": {},
   "outputs": [],
   "source": [
    "sct_icd"
   ]
  },
  {
   "cell_type": "code",
   "execution_count": null,
   "metadata": {},
   "outputs": [],
   "source": [
    "def map_omop_icd10():\n",
    "    concepts_in = omop_concepts.concept_id.to_list()\n",
    "    concepts_out = concept.query(\"vocabulary_id=='ICD10'\").concept_id.to_list()\n",
    "    mapping = concept_relationship.query(\"concept_id_1==@concepts_in&concept_id_2==@concepts_out\")\\\n",
    "        .merge(concept, left_on=\"concept_id_2\", right_on=\"concept_id\")\n",
    "    mapping_clean = mapping[[\"concept_id_1\", \"concept_code\"]]\\\n",
    "        .rename(columns={\"concept_id_1\":\"concept_id\"}).assign(vocabulary=\"ICD10\")\\\n",
    "        .assign(concept_code = lambda x: x.concept_code.str.replace(\".\", \"\", regex=False))\n",
    "    return mapping_clean"
   ]
  },
  {
   "cell_type": "code",
   "execution_count": null,
   "metadata": {},
   "outputs": [],
   "source": [
    "mapping_omop_icd10 = map_omop_icd10()"
   ]
  },
  {
   "cell_type": "code",
   "execution_count": null,
   "metadata": {},
   "outputs": [],
   "source": [
    "mapping_omop_icd10#.query(\"relationship_id=='Value mapped from'\")"
   ]
  },
  {
   "cell_type": "markdown",
   "metadata": {},
   "source": [
    "### Prepare ICD10 -> Phecodes"
   ]
  },
  {
   "cell_type": "code",
   "execution_count": null,
   "metadata": {},
   "outputs": [],
   "source": [
    "icd10_phecode_mapping = phecode_mapping.rename(columns={\"phecode\": \"concept_code\"})[[\"ICD10\", \"concept_code\"]].assign(vocabulary=\"phecode\")"
   ]
  },
  {
   "cell_type": "code",
   "execution_count": null,
   "metadata": {},
   "outputs": [],
   "source": [
    "mapping_icd10_phecode = mapping_omop_icd10.rename(columns={\"concept_code\": \"ICD10\"})[[\"concept_id\", \"ICD10\"]]\\\n",
    "    .merge(icd10_phecode_mapping, on=\"ICD10\")[[\"concept_id\", \"concept_code\", \"vocabulary\"]]"
   ]
  },
  {
   "cell_type": "code",
   "execution_count": null,
   "metadata": {},
   "outputs": [],
   "source": [
    "mappings_omop_icd10_phecode = pd.concat([mapping_omop_icd10, mapping_icd10_phecode], axis=0).reset_index(drop=True)\n",
    "mappings_omop_icd10_phecode[\"concept_code\"] = mappings_omop_icd10_phecode[\"concept_code\"].astype(\"category\")\n",
    "mappings_omop_icd10_phecode[\"vocabulary\"] = mappings_omop_icd10_phecode[\"vocabulary\"].astype(\"category\")\n",
    "mappings_omop_icd10_phecode = mappings_omop_icd10_phecode.set_index(\"concept_id\")"
   ]
  },
  {
   "cell_type": "code",
   "execution_count": null,
   "metadata": {},
   "outputs": [],
   "source": [
    "mappings_omop_icd10_phecode"
   ]
  },
  {
   "cell_type": "code",
   "execution_count": null,
   "metadata": {},
   "outputs": [],
   "source": [
    "mappings_omop_icd10_phecode.dtypes"
   ]
  },
  {
   "cell_type": "markdown",
   "metadata": {},
   "source": [
    "### Join ICD10 and phecode mappings"
   ]
  },
  {
   "cell_type": "code",
   "execution_count": null,
   "metadata": {},
   "outputs": [],
   "source": [
    "records_icd10_phecode = records_raw_w_death.set_index(\"concept_id\")\\\n",
    "    .merge(mappings_omop_icd10_phecode, left_index=True, right_index=True)"
   ]
  },
  {
   "cell_type": "code",
   "execution_count": null,
   "metadata": {},
   "outputs": [],
   "source": [
    "records_icd10_phecode = records_icd10_phecode.reset_index()\\\n",
    "    .query(\"concept_code==concept_code\")\\\n",
    "    .drop_duplicates(subset=[\"eid\", \"date\", \"concept_code\", \"vocabulary\", \"origin\"], keep=\"first\")"
   ]
  },
  {
   "cell_type": "markdown",
   "metadata": {},
   "source": [
    "### Merge all mapped records"
   ]
  },
  {
   "cell_type": "code",
   "execution_count": null,
   "metadata": {
    "tags": []
   },
   "outputs": [],
   "source": [
    "records_all_vocabs = pd.concat([records_omop, records_icd10_phecode], axis=0).reset_index(drop=True)"
   ]
  },
  {
   "cell_type": "code",
   "execution_count": null,
   "metadata": {
    "tags": []
   },
   "outputs": [],
   "source": [
    "records_all_vocabs.info()"
   ]
  },
  {
   "cell_type": "code",
   "execution_count": null,
   "metadata": {
    "tags": []
   },
   "outputs": [],
   "source": [
    "records_mapped_unique = records_all_vocabs.assign(concept_id=lambda x: x.vocabulary +\"_\" +x.concept_code.astype(str)).reset_index(drop=True).drop(columns=[\"concept_code\"])"
   ]
  },
  {
   "cell_type": "code",
   "execution_count": null,
   "metadata": {
    "collapsed": false,
    "jupyter": {
     "outputs_hidden": false
    },
    "pycharm": {
     "name": "#%%\n"
    },
    "tags": []
   },
   "outputs": [],
   "source": [
    "# make everything faster\n",
    "for col in tqdm(records_mapped_unique.columns): \n",
    "    if \"date\" in col: records_mapped_unique[col] = records_mapped_unique[col].astype(\"datetime64[D]\")"
   ]
  },
  {
   "cell_type": "code",
   "execution_count": null,
   "metadata": {
    "tags": []
   },
   "outputs": [],
   "source": [
    "# make everything faster\n",
    "for col in tqdm([\"domain_id\", \"code\", \"concept_id\", \"origin\", \"vocabulary\"]): \n",
    "    records_mapped_unique[col] = records_mapped_unique[col].astype(\"category\")"
   ]
  },
  {
   "cell_type": "code",
   "execution_count": null,
   "metadata": {},
   "outputs": [],
   "source": [
    "records_mapped_unique = records_mapped_unique.drop_duplicates().reset_index(drop=True)"
   ]
  },
  {
   "cell_type": "code",
   "execution_count": null,
   "metadata": {
    "tags": []
   },
   "outputs": [],
   "source": [
    "records_mapped_unique.shape"
   ]
  },
  {
   "cell_type": "code",
   "execution_count": null,
   "metadata": {
    "tags": []
   },
   "outputs": [],
   "source": [
    "records_mapped_unique.info()"
   ]
  },
  {
   "cell_type": "code",
   "execution_count": null,
   "metadata": {
    "collapsed": false,
    "jupyter": {
     "outputs_hidden": false
    },
    "pycharm": {
     "name": "#%%\n"
    },
    "tags": []
   },
   "outputs": [],
   "source": [
    "def add_artifact(run, artifact_name, type_name, description, artifact_path, df):\n",
    "   \n",
    "    artifact = wandb.Artifact(artifact_name, type=type_name, \n",
    "                              description=description,\n",
    "                             metadata = {\"1_shape\": f\"{len(df)}x{len(df.columns)}\",\n",
    "                                         \"2_cols\": str(df.columns.to_list())})\n",
    "    artifact.add_reference(f\"\"\"file://{artifact_path}\"\"\", artifact_name, checksum=True)\n",
    "    run.log_artifact(artifact)"
   ]
  },
  {
   "cell_type": "code",
   "execution_count": null,
   "metadata": {
    "collapsed": false,
    "jupyter": {
     "outputs_hidden": false
    },
    "pycharm": {
     "name": "#%%\n"
    },
    "tags": []
   },
   "outputs": [],
   "source": [
    "# log in wandb\n",
    "artifact_name = \"final_records_omop\"\n",
    "type_name = \"prepare_records\"\n",
    "description = \"Cleaned first patient records from the data portal in long format\"\n",
    "artifact_path = f\"{dataset_path}/artifacts/{artifact_name}_{artifact_date}.feather\"\n",
    "records_mapped_unique.to_feather(artifact_path)\n",
    "add_artifact(run, artifact_name, type_name, description, artifact_path, records_mapped_unique)"
   ]
  },
  {
   "cell_type": "markdown",
   "metadata": {},
   "source": [
    "# Upload baseline file"
   ]
  },
  {
   "cell_type": "code",
   "execution_count": 10,
   "metadata": {
    "execution": {
     "iopub.execute_input": "2022-08-12T07:44:35.737166Z",
     "iopub.status.busy": "2022-08-12T07:44:35.737070Z",
     "iopub.status.idle": "2022-08-12T07:44:43.339235Z",
     "shell.execute_reply": "2022-08-12T07:44:43.338756Z",
     "shell.execute_reply.started": "2022-08-12T07:44:35.737153Z"
    },
    "tags": []
   },
   "outputs": [],
   "source": [
    "baseline_outcomes = '/sc-projects/sc-proj-ukb-cvd/results/projects/22_retina_phewas/data/baseline_outcomes_220627.feather'\n",
    "bo_df = pd.read_feather(baseline_outcomes)\n"
   ]
  },
  {
   "cell_type": "code",
   "execution_count": 12,
   "metadata": {
    "execution": {
     "iopub.execute_input": "2022-08-12T07:44:58.141535Z",
     "iopub.status.busy": "2022-08-12T07:44:58.141131Z",
     "iopub.status.idle": "2022-08-12T07:44:58.155324Z",
     "shell.execute_reply": "2022-08-12T07:44:58.154956Z",
     "shell.execute_reply.started": "2022-08-12T07:44:58.141517Z"
    },
    "tags": []
   },
   "outputs": [
    {
     "data": {
      "text/html": [
       "<div>\n",
       "<style scoped>\n",
       "    .dataframe tbody tr th:only-of-type {\n",
       "        vertical-align: middle;\n",
       "    }\n",
       "\n",
       "    .dataframe tbody tr th {\n",
       "        vertical-align: top;\n",
       "    }\n",
       "\n",
       "    .dataframe thead th {\n",
       "        text-align: right;\n",
       "    }\n",
       "</style>\n",
       "<table border=\"1\" class=\"dataframe\">\n",
       "  <thead>\n",
       "    <tr style=\"text-align: right;\">\n",
       "      <th></th>\n",
       "      <th>eid</th>\n",
       "      <th>OMOP_4306655_prev</th>\n",
       "      <th>phecode_202_prev</th>\n",
       "      <th>phecode_401_prev</th>\n",
       "      <th>phecode_401-1_prev</th>\n",
       "      <th>phecode_475_prev</th>\n",
       "      <th>phecode_202-2_prev</th>\n",
       "      <th>phecode_718_prev</th>\n",
       "      <th>phecode_089_prev</th>\n",
       "      <th>phecode_130_prev</th>\n",
       "      <th>...</th>\n",
       "      <th>phecode_247-85_time</th>\n",
       "      <th>phecode_361-24_time</th>\n",
       "      <th>phecode_424-7_time</th>\n",
       "      <th>phecode_244-3_time</th>\n",
       "      <th>phecode_824-1_time</th>\n",
       "      <th>phecode_206-1_time</th>\n",
       "      <th>phecode_018_time</th>\n",
       "      <th>phecode_363-8_time</th>\n",
       "      <th>phecode_396-6_time</th>\n",
       "      <th>phecode_361-93_time</th>\n",
       "    </tr>\n",
       "  </thead>\n",
       "  <tbody>\n",
       "    <tr>\n",
       "      <th>0</th>\n",
       "      <td>1000018</td>\n",
       "      <td>False</td>\n",
       "      <td>False</td>\n",
       "      <td>True</td>\n",
       "      <td>True</td>\n",
       "      <td>False</td>\n",
       "      <td>False</td>\n",
       "      <td>False</td>\n",
       "      <td>False</td>\n",
       "      <td>False</td>\n",
       "      <td>...</td>\n",
       "      <td>11.866089</td>\n",
       "      <td>11.866089</td>\n",
       "      <td>11.866089</td>\n",
       "      <td>11.866089</td>\n",
       "      <td>11.866089</td>\n",
       "      <td>11.866089</td>\n",
       "      <td>11.866089</td>\n",
       "      <td>11.866089</td>\n",
       "      <td>11.866089</td>\n",
       "      <td>11.866089</td>\n",
       "    </tr>\n",
       "    <tr>\n",
       "      <th>1</th>\n",
       "      <td>1000020</td>\n",
       "      <td>False</td>\n",
       "      <td>False</td>\n",
       "      <td>False</td>\n",
       "      <td>False</td>\n",
       "      <td>False</td>\n",
       "      <td>False</td>\n",
       "      <td>False</td>\n",
       "      <td>False</td>\n",
       "      <td>False</td>\n",
       "      <td>...</td>\n",
       "      <td>13.596446</td>\n",
       "      <td>13.596446</td>\n",
       "      <td>13.596446</td>\n",
       "      <td>13.596446</td>\n",
       "      <td>13.596446</td>\n",
       "      <td>13.596446</td>\n",
       "      <td>13.596446</td>\n",
       "      <td>13.596446</td>\n",
       "      <td>13.596446</td>\n",
       "      <td>13.596446</td>\n",
       "    </tr>\n",
       "    <tr>\n",
       "      <th>2</th>\n",
       "      <td>1000037</td>\n",
       "      <td>False</td>\n",
       "      <td>False</td>\n",
       "      <td>False</td>\n",
       "      <td>False</td>\n",
       "      <td>False</td>\n",
       "      <td>False</td>\n",
       "      <td>True</td>\n",
       "      <td>False</td>\n",
       "      <td>False</td>\n",
       "      <td>...</td>\n",
       "      <td>12.868163</td>\n",
       "      <td>12.868163</td>\n",
       "      <td>12.868163</td>\n",
       "      <td>12.868163</td>\n",
       "      <td>12.868163</td>\n",
       "      <td>12.868163</td>\n",
       "      <td>12.868163</td>\n",
       "      <td>12.868163</td>\n",
       "      <td>12.868163</td>\n",
       "      <td>12.868163</td>\n",
       "    </tr>\n",
       "    <tr>\n",
       "      <th>3</th>\n",
       "      <td>1000043</td>\n",
       "      <td>False</td>\n",
       "      <td>False</td>\n",
       "      <td>True</td>\n",
       "      <td>True</td>\n",
       "      <td>False</td>\n",
       "      <td>False</td>\n",
       "      <td>False</td>\n",
       "      <td>True</td>\n",
       "      <td>True</td>\n",
       "      <td>...</td>\n",
       "      <td>12.309629</td>\n",
       "      <td>12.309629</td>\n",
       "      <td>12.309629</td>\n",
       "      <td>12.309629</td>\n",
       "      <td>12.309629</td>\n",
       "      <td>12.309629</td>\n",
       "      <td>12.309629</td>\n",
       "      <td>12.309629</td>\n",
       "      <td>12.309629</td>\n",
       "      <td>12.309629</td>\n",
       "    </tr>\n",
       "    <tr>\n",
       "      <th>4</th>\n",
       "      <td>1000051</td>\n",
       "      <td>False</td>\n",
       "      <td>True</td>\n",
       "      <td>False</td>\n",
       "      <td>False</td>\n",
       "      <td>False</td>\n",
       "      <td>True</td>\n",
       "      <td>False</td>\n",
       "      <td>False</td>\n",
       "      <td>False</td>\n",
       "      <td>...</td>\n",
       "      <td>15.291210</td>\n",
       "      <td>15.291210</td>\n",
       "      <td>15.291210</td>\n",
       "      <td>15.291210</td>\n",
       "      <td>15.291210</td>\n",
       "      <td>15.291210</td>\n",
       "      <td>15.291210</td>\n",
       "      <td>15.291210</td>\n",
       "      <td>15.291210</td>\n",
       "      <td>15.291210</td>\n",
       "    </tr>\n",
       "  </tbody>\n",
       "</table>\n",
       "<p>5 rows × 8509 columns</p>\n",
       "</div>"
      ],
      "text/plain": [
       "       eid  OMOP_4306655_prev  phecode_202_prev  phecode_401_prev  \\\n",
       "0  1000018              False             False              True   \n",
       "1  1000020              False             False             False   \n",
       "2  1000037              False             False             False   \n",
       "3  1000043              False             False              True   \n",
       "4  1000051              False              True             False   \n",
       "\n",
       "   phecode_401-1_prev  phecode_475_prev  phecode_202-2_prev  phecode_718_prev  \\\n",
       "0                True             False               False             False   \n",
       "1               False             False               False             False   \n",
       "2               False             False               False              True   \n",
       "3                True             False               False             False   \n",
       "4               False             False                True             False   \n",
       "\n",
       "   phecode_089_prev  phecode_130_prev  ...  phecode_247-85_time  \\\n",
       "0             False             False  ...            11.866089   \n",
       "1             False             False  ...            13.596446   \n",
       "2             False             False  ...            12.868163   \n",
       "3              True              True  ...            12.309629   \n",
       "4             False             False  ...            15.291210   \n",
       "\n",
       "   phecode_361-24_time  phecode_424-7_time  phecode_244-3_time  \\\n",
       "0            11.866089           11.866089           11.866089   \n",
       "1            13.596446           13.596446           13.596446   \n",
       "2            12.868163           12.868163           12.868163   \n",
       "3            12.309629           12.309629           12.309629   \n",
       "4            15.291210           15.291210           15.291210   \n",
       "\n",
       "   phecode_824-1_time  phecode_206-1_time  phecode_018_time  \\\n",
       "0           11.866089           11.866089         11.866089   \n",
       "1           13.596446           13.596446         13.596446   \n",
       "2           12.868163           12.868163         12.868163   \n",
       "3           12.309629           12.309629         12.309629   \n",
       "4           15.291210           15.291210         15.291210   \n",
       "\n",
       "   phecode_363-8_time  phecode_396-6_time  phecode_361-93_time  \n",
       "0           11.866089           11.866089            11.866089  \n",
       "1           13.596446           13.596446            13.596446  \n",
       "2           12.868163           12.868163            12.868163  \n",
       "3           12.309629           12.309629            12.309629  \n",
       "4           15.291210           15.291210            15.291210  \n",
       "\n",
       "[5 rows x 8509 columns]"
      ]
     },
     "execution_count": 12,
     "metadata": {},
     "output_type": "execute_result"
    }
   ],
   "source": [
    "bo_df.head()"
   ]
  },
  {
   "cell_type": "code",
   "execution_count": 13,
   "metadata": {
    "execution": {
     "iopub.execute_input": "2022-08-12T07:45:42.711282Z",
     "iopub.status.busy": "2022-08-12T07:45:42.710795Z",
     "iopub.status.idle": "2022-08-12T07:46:17.933245Z",
     "shell.execute_reply": "2022-08-12T07:46:17.932775Z",
     "shell.execute_reply.started": "2022-08-12T07:45:42.711262Z"
    },
    "tags": []
   },
   "outputs": [
    {
     "name": "stderr",
     "output_type": "stream",
     "text": [
      "\u001b[34m\u001b[1mwandb\u001b[0m: \u001b[33mWARNING\u001b[0m Serializing object of type str that is 189087 bytes\n"
     ]
    }
   ],
   "source": [
    "artifact_name = \"baseline_outcomes\"\n",
    "type_name = \"baseline_file\"\n",
    "description = \"Clean outcomes from dataportal at time of recruitment\"\n",
    "artifact_path = f\"{dataset_path}/artifacts/{artifact_name}_220627.feather\"\n",
    "bo_df.to_feather(artifact_path)\n",
    "add_artifact(run, artifact_name, type_name, description, artifact_path, bo_df)"
   ]
  },
  {
   "cell_type": "code",
   "execution_count": null,
   "metadata": {
    "tags": []
   },
   "outputs": [],
   "source": [
    "artifact = run.use_artifact('cardiors/retina/eids:v0', type='prepare_splits')\n",
    "artifact_dir = artifact.download()\n",
    "artifact_dir"
   ]
  },
  {
   "cell_type": "code",
   "execution_count": 16,
   "metadata": {
    "execution": {
     "iopub.execute_input": "2022-05-03T15:33:40.284195Z",
     "iopub.status.busy": "2022-05-03T15:33:40.283830Z",
     "iopub.status.idle": "2022-05-03T15:33:40.287579Z",
     "shell.execute_reply": "2022-05-03T15:33:40.287294Z",
     "shell.execute_reply.started": "2022-05-03T15:33:40.284144Z"
    },
    "tags": []
   },
   "outputs": [],
   "source": [
    "def add_artifact(run, artifact_name, type_name, description, artifact_path, df):\n",
    "   \n",
    "    artifact = wandb.Artifact(artifact_name, type=type_name, \n",
    "                              description=description, metadata = {\"1_shape\": \"manual upload\"})\n",
    "    artifact.add_reference(f\"\"\"file://{artifact_path}\"\"\", artifact_name, checksum=True)\n",
    "    run.log_artifact(artifact)"
   ]
  },
  {
   "cell_type": "code",
   "execution_count": 13,
   "metadata": {
    "execution": {
     "iopub.execute_input": "2022-05-03T15:33:10.431211Z",
     "iopub.status.busy": "2022-05-03T15:33:10.431064Z",
     "iopub.status.idle": "2022-05-03T15:33:11.513544Z",
     "shell.execute_reply": "2022-05-03T15:33:11.513163Z",
     "shell.execute_reply.started": "2022-05-03T15:33:10.431195Z"
    },
    "tags": []
   },
   "outputs": [],
   "source": [
    "import yaml\n",
    "eids_path = '/sc-projects/sc-proj-ukb-cvd/data/2_datasets_pre/211110_anewbeginning/artifacts/eids_211209.yaml'\n",
    "eid_dict = yaml.load(open(eids_path), Loader=yaml.CLoader)"
   ]
  },
  {
   "cell_type": "code",
   "execution_count": 14,
   "metadata": {
    "execution": {
     "iopub.execute_input": "2022-05-03T15:33:11.514281Z",
     "iopub.status.busy": "2022-05-03T15:33:11.514153Z",
     "iopub.status.idle": "2022-05-03T15:33:24.066928Z",
     "shell.execute_reply": "2022-05-03T15:33:24.066593Z",
     "shell.execute_reply.started": "2022-05-03T15:33:11.514266Z"
    }
   },
   "outputs": [
    {
     "data": {
      "text/html": [
       "Finishing last run (ID:3s0gi71q) before initializing another..."
      ],
      "text/plain": [
       "<IPython.core.display.HTML object>"
      ]
     },
     "metadata": {},
     "output_type": "display_data"
    },
    {
     "data": {
      "text/html": [
       "<br/>Waiting for W&B process to finish, PID 603282... <strong style=\"color:green\">(success).</strong>"
      ],
      "text/plain": [
       "<IPython.core.display.HTML object>"
      ]
     },
     "metadata": {},
     "output_type": "display_data"
    },
    {
     "data": {
      "application/vnd.jupyter.widget-view+json": {
       "model_id": "b73d48a686df4eb19b65da2154958572",
       "version_major": 2,
       "version_minor": 0
      },
      "text/plain": [
       "VBox(children=(Label(value=' 0.12MB of 0.12MB uploaded (0.00MB deduped)\\r'), FloatProgress(value=1.0, max=1.0)…"
      ]
     },
     "metadata": {},
     "output_type": "display_data"
    },
    {
     "data": {
      "text/html": [
       "<style>\n",
       "    table.wandb td:nth-child(1) { padding: 0 10px; text-align: right }\n",
       "    .wandb-row { display: flex; flex-direction: row; flex-wrap: wrap; width: 100% }\n",
       "    .wandb-col { display: flex; flex-direction: column; flex-basis: 100%; flex: 1; padding: 10px; }\n",
       "    </style>\n",
       "<div class=\"wandb-row\"><div class=\"wandb-col\">\n",
       "</div><div class=\"wandb-col\">\n",
       "</div></div>\n",
       "Synced 6 W&B file(s), 0 media file(s), 0 artifact file(s) and 1 other file(s)\n",
       "<br/>Synced <strong style=\"color:#cdcd00\">toasty-vortex-7</strong>: <a href=\"https://wandb.ai/cardiors/retina/runs/3s0gi71q\" target=\"_blank\">https://wandb.ai/cardiors/retina/runs/3s0gi71q</a><br/>\n",
       "Find logs at: <code>./wandb/run-20220503_173301-3s0gi71q/logs</code><br/>\n"
      ],
      "text/plain": [
       "<IPython.core.display.HTML object>"
      ]
     },
     "metadata": {},
     "output_type": "display_data"
    },
    {
     "data": {
      "text/html": [
       "Successfully finished last run (ID:3s0gi71q). Initializing new run:<br/>"
      ],
      "text/plain": [
       "<IPython.core.display.HTML object>"
      ]
     },
     "metadata": {},
     "output_type": "display_data"
    },
    {
     "name": "stderr",
     "output_type": "stream",
     "text": [
      "\u001b[34m\u001b[1mwandb\u001b[0m: wandb version 0.12.15 is available!  To upgrade, please run:\n",
      "\u001b[34m\u001b[1mwandb\u001b[0m:  $ pip install wandb --upgrade\n"
     ]
    },
    {
     "data": {
      "text/html": [
       "\n",
       "                    Syncing run <strong><a href=\"https://wandb.ai/cardiors/retina/runs/2x9hhv9w\" target=\"_blank\">unique-morning-8</a></strong> to <a href=\"https://wandb.ai/cardiors/retina\" target=\"_blank\">Weights & Biases</a> (<a href=\"https://docs.wandb.com/integrations/jupyter.html\" target=\"_blank\">docs</a>).<br/>\n",
       "\n",
       "                "
      ],
      "text/plain": [
       "<IPython.core.display.HTML object>"
      ]
     },
     "metadata": {},
     "output_type": "display_data"
    }
   ],
   "source": [
    "run = wandb.init(project=project, job_type=\"log_artifact\", entity=entity, tags=[\"artifact\"])"
   ]
  },
  {
   "cell_type": "code",
   "execution_count": 17,
   "metadata": {
    "execution": {
     "iopub.execute_input": "2022-05-03T15:33:44.205807Z",
     "iopub.status.busy": "2022-05-03T15:33:44.205515Z",
     "iopub.status.idle": "2022-05-03T15:33:44.633685Z",
     "shell.execute_reply": "2022-05-03T15:33:44.633373Z",
     "shell.execute_reply.started": "2022-05-03T15:33:44.205787Z"
    },
    "tags": []
   },
   "outputs": [],
   "source": [
    "artifact_name = \"eids\"\n",
    "type_name = \"prepare_splits\"\n",
    "description = \"Dictionary containing the eids based on the assessment centres and train, valid and test splits\"\n",
    "# artifact_path = f\"{dataset_path}/artifacts/{artifact_name}_211209.feather\"\n",
    "add_artifact(run, artifact_name, type_name, description, eids_path, eid_dict)"
   ]
  },
  {
   "cell_type": "code",
   "execution_count": null,
   "metadata": {
    "execution": {
     "iopub.status.busy": "2022-05-03T15:33:24.479944Z",
     "iopub.status.idle": "2022-05-03T15:33:24.480143Z",
     "shell.execute_reply": "2022-05-03T15:33:24.480063Z",
     "shell.execute_reply.started": "2022-05-03T15:33:24.480053Z"
    }
   },
   "outputs": [],
   "source": [
    "eid_dict = '/sc-projects/sc-proj-ukb-cvd/data/2_datasets_pre/211110_anewbeginning/artifacts/eids:v0'\n"
   ]
  },
  {
   "cell_type": "code",
   "execution_count": 18,
   "metadata": {
    "execution": {
     "iopub.execute_input": "2022-05-04T08:13:16.303861Z",
     "iopub.status.busy": "2022-05-04T08:13:16.303592Z",
     "iopub.status.idle": "2022-05-04T08:13:16.306218Z",
     "shell.execute_reply": "2022-05-04T08:13:16.305851Z",
     "shell.execute_reply.started": "2022-05-04T08:13:16.303844Z"
    }
   },
   "outputs": [],
   "source": [
    "# add covariate file"
   ]
  },
  {
   "cell_type": "code",
   "execution_count": 13,
   "metadata": {
    "execution": {
     "iopub.execute_input": "2022-05-04T08:15:16.131522Z",
     "iopub.status.busy": "2022-05-04T08:15:16.130961Z",
     "iopub.status.idle": "2022-05-04T08:15:17.406452Z",
     "shell.execute_reply": "2022-05-04T08:15:17.406093Z",
     "shell.execute_reply.started": "2022-05-04T08:15:16.131502Z"
    },
    "tags": []
   },
   "outputs": [
    {
     "data": {
      "text/plain": [
       "'./artifacts/baseline_covariates:v2'"
      ]
     },
     "execution_count": 13,
     "metadata": {},
     "output_type": "execute_result"
    }
   ],
   "source": [
    "artifact = run.use_artifact('cardiors/RecordGraphs/baseline_covariates:latest', type='prepare_covariates')\n",
    "artifact_dir = artifact.download()\n",
    "artifact_dir"
   ]
  },
  {
   "cell_type": "code",
   "execution_count": 19,
   "metadata": {
    "execution": {
     "iopub.execute_input": "2022-05-04T08:19:14.347883Z",
     "iopub.status.busy": "2022-05-04T08:19:14.347565Z",
     "iopub.status.idle": "2022-05-04T08:19:14.387574Z",
     "shell.execute_reply": "2022-05-04T08:19:14.387011Z",
     "shell.execute_reply.started": "2022-05-04T08:19:14.347862Z"
    },
    "tags": []
   },
   "outputs": [
    {
     "name": "stderr",
     "output_type": "stream",
     "text": [
      "wandb: Network error (ReadTimeout), entering retry loop.\n"
     ]
    }
   ],
   "source": [
    "x = pd.read_feather('/sc-projects/sc-proj-ukb-cvd/data/2_datasets_pre/211110_anewbeginning/baseline_covariates_220503.feather')\n",
    "#                     /sc-projects/sc-proj-ukb-cvd/data/2_datasets_pre/211110_anewbeginning/baseline_covariates_220323.feather')"
   ]
  },
  {
   "cell_type": "code",
   "execution_count": 16,
   "metadata": {
    "collapsed": false,
    "execution": {
     "iopub.execute_input": "2022-05-04T08:17:56.576822Z",
     "iopub.status.busy": "2022-05-04T08:17:56.576131Z",
     "iopub.status.idle": "2022-05-04T08:17:56.582762Z",
     "shell.execute_reply": "2022-05-04T08:17:56.582224Z",
     "shell.execute_reply.started": "2022-05-04T08:17:56.576753Z"
    },
    "jupyter": {
     "outputs_hidden": false
    },
    "pycharm": {
     "name": "#%%\n"
    },
    "tags": []
   },
   "outputs": [],
   "source": [
    "def add_artifact(run, artifact_name, type_name, description, artifact_path, df):\n",
    "   \n",
    "    artifact = wandb.Artifact(artifact_name, type=type_name, \n",
    "                              description=description,\n",
    "                             metadata = {\"1_shape\": f\"{len(df)}x{len(df.columns)}\",\n",
    "                                         \"2_cols\": str(df.columns.to_list())})\n",
    "    artifact.add_reference(f\"\"\"file://{artifact_path}\"\"\", artifact_name, checksum=True)\n",
    "    run.log_artifact(artifact)"
   ]
  },
  {
   "cell_type": "code",
   "execution_count": 18,
   "metadata": {
    "collapsed": false,
    "execution": {
     "iopub.execute_input": "2022-05-04T08:18:49.698169Z",
     "iopub.status.busy": "2022-05-04T08:18:49.697770Z",
     "iopub.status.idle": "2022-05-04T08:18:50.081683Z",
     "shell.execute_reply": "2022-05-04T08:18:50.081023Z",
     "shell.execute_reply.started": "2022-05-04T08:18:49.698148Z"
    },
    "jupyter": {
     "outputs_hidden": false
    },
    "pycharm": {
     "name": "#%%\n"
    },
    "tags": []
   },
   "outputs": [],
   "source": [
    "# log in wandb\n",
    "artifact_name = \"baseline_covariates\"\n",
    "type_name = \"prepare_covariates\"\n",
    "description = \"Dataframe of covariates at recruitment\"\n",
    "artifact_path = f\"{dataset_path}/artifacts/{artifact_name}_220503.feather\"\n",
    "x.to_feather(artifact_path)\n",
    "add_artifact(run, artifact_name, type_name, description, artifact_path, x)"
   ]
  },
  {
   "cell_type": "code",
   "execution_count": null,
   "metadata": {},
   "outputs": [],
   "source": []
  }
 ],
 "metadata": {
  "kernelspec": {
   "display_name": "retrisk",
   "language": "python",
   "name": "retrisk"
  },
  "language_info": {
   "codemirror_mode": {
    "name": "ipython",
    "version": 3
   },
   "file_extension": ".py",
   "mimetype": "text/x-python",
   "name": "python",
   "nbconvert_exporter": "python",
   "pygments_lexer": "ipython3",
   "version": "3.9.7"
  },
  "toc-autonumbering": true,
  "toc-showcode": false,
  "toc-showmarkdowntxt": false
 },
 "nbformat": 4,
 "nbformat_minor": 4
}
