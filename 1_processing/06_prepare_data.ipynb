{
 "cells": [
  {
   "cell_type": "markdown",
   "metadata": {},
   "source": [
    "# Benchmarks"
   ]
  },
  {
   "cell_type": "markdown",
   "metadata": {},
   "source": [
    "## Initialize"
   ]
  },
  {
   "cell_type": "code",
   "execution_count": 1,
   "metadata": {
    "execution": {
     "iopub.execute_input": "2022-11-08T21:28:47.632058Z",
     "iopub.status.busy": "2022-11-08T21:28:47.631735Z",
     "iopub.status.idle": "2022-11-08T21:28:51.428305Z",
     "shell.execute_reply": "2022-11-08T21:28:51.427821Z",
     "shell.execute_reply.started": "2022-11-08T21:28:47.632010Z"
    },
    "tags": []
   },
   "outputs": [],
   "source": [
    "import os\n",
    "import math\n",
    "import pathlib\n",
    "import numpy as np\n",
    "import pandas as pd\n",
    "import pyarrow as pa\n",
    "import pyarrow.feather as feather\n",
    "from tqdm.auto import tqdm\n",
    "from IPython.display import clear_output\n",
    "\n",
    "import warnings\n",
    "from lifelines.utils import CensoringType\n",
    "from lifelines.utils import concordance_index"
   ]
  },
  {
   "cell_type": "code",
   "execution_count": 2,
   "metadata": {
    "execution": {
     "iopub.execute_input": "2022-11-08T21:28:51.429142Z",
     "iopub.status.busy": "2022-11-08T21:28:51.429022Z",
     "iopub.status.idle": "2022-11-08T21:28:51.431256Z",
     "shell.execute_reply": "2022-11-08T21:28:51.430953Z",
     "shell.execute_reply.started": "2022-11-08T21:28:51.429126Z"
    },
    "tags": []
   },
   "outputs": [],
   "source": [
    "# import ray\n",
    "# ray.shutdown()"
   ]
  },
  {
   "cell_type": "code",
   "execution_count": 3,
   "metadata": {
    "execution": {
     "iopub.execute_input": "2022-11-08T21:28:51.431973Z",
     "iopub.status.busy": "2022-11-08T21:28:51.431741Z",
     "iopub.status.idle": "2022-11-08T21:28:51.726842Z",
     "shell.execute_reply": "2022-11-08T21:28:51.726380Z",
     "shell.execute_reply.started": "2022-11-08T21:28:51.431957Z"
    },
    "tags": []
   },
   "outputs": [
    {
     "name": "stdout",
     "output_type": "stream",
     "text": [
      "/sc-projects/sc-proj-ukb-cvd\n"
     ]
    },
    {
     "data": {
      "text/plain": [
       "[0, 1, 2, 3, 4, 5, 6, 7, 8, 9, 10, 11, 12, 13, 14, 15, 16, 17, 18, 19, 20, 21]"
      ]
     },
     "execution_count": 3,
     "metadata": {},
     "output_type": "execute_result"
    }
   ],
   "source": [
    "node = !hostname\n",
    "if \"sc\" in node[0]:\n",
    "    base_path = \"/sc-projects/sc-proj-ukb-cvd\"\n",
    "else: \n",
    "    base_path = \"/data/analysis/ag-reils/ag-reils-shared/cardioRS\"\n",
    "print(base_path)\n",
    "\n",
    "project_label = \"22_retina_phewas\"\n",
    "project_path = f\"{base_path}/results/projects/{project_label}\"\n",
    "figure_path = f\"{project_path}/figures\"\n",
    "output_path = f\"{project_path}/data\"\n",
    "\n",
    "pathlib.Path(figure_path).mkdir(parents=True, exist_ok=True)\n",
    "pathlib.Path(output_path).mkdir(parents=True, exist_ok=True)\n",
    "\n",
    "# experiment = '220812_test'\n",
    "experiment = '221108'\n",
    "experiment_path = f\"{output_path}/{experiment}\"\n",
    "pathlib.Path(experiment_path).mkdir(parents=True, exist_ok=True)\n",
    "\n",
    "\n",
    "name_dict = {\n",
    "    \"predictions_cropratio0.66\": \"ConvNextSmall(Retina)+MLP_cropratio0.66\",\n",
    "}\n",
    "\n",
    "partitions = [i for i in range(22)]\n",
    "partitions"
   ]
  },
  {
   "cell_type": "code",
   "execution_count": 4,
   "metadata": {
    "execution": {
     "iopub.execute_input": "2022-11-08T21:28:51.728511Z",
     "iopub.status.busy": "2022-11-08T21:28:51.728203Z",
     "iopub.status.idle": "2022-11-08T21:28:53.693550Z",
     "shell.execute_reply": "2022-11-08T21:28:53.692982Z",
     "shell.execute_reply.started": "2022-11-08T21:28:51.728492Z"
    },
    "tags": []
   },
   "outputs": [
    {
     "data": {
      "text/plain": [
       "RayContext(dashboard_url='', python_version='3.9.7', ray_version='1.13.0', ray_commit='e4ce38d001dbbe09cd21c497fedd03d692b2be3e', address_info={'node_ip_address': '10.32.105.4', 'raylet_ip_address': '10.32.105.4', 'redis_address': None, 'object_store_address': '/tmp/ray/session_2022-11-08_17-07-53_453035_1615937/sockets/plasma_store', 'raylet_socket_name': '/tmp/ray/session_2022-11-08_17-07-53_453035_1615937/sockets/raylet', 'webui_url': '', 'session_dir': '/tmp/ray/session_2022-11-08_17-07-53_453035_1615937', 'metrics_export_port': 57541, 'gcs_address': '10.32.105.4:6321', 'address': '10.32.105.4:6321', 'node_id': 'f5d16a9a31291eb696ca9933cfaa654df23d9fc9ad4b71a28fb0ecb5'})"
      ]
     },
     "execution_count": 4,
     "metadata": {},
     "output_type": "execute_result"
    }
   ],
   "source": [
    "import ray\n",
    "# ray start --head --port=6379 --num-cpus 64\n",
    "#ray.init(num_cpus=24, include_dashboard=False)#, dashboard_port=24762, dashboard_host=\"0.0.0.0\", include_dashboard=True)#, webui_url=\"0.0.0.0\"))\n",
    "ray.init(address='auto')"
   ]
  },
  {
   "cell_type": "code",
   "execution_count": 5,
   "metadata": {
    "execution": {
     "iopub.execute_input": "2022-11-08T21:28:53.694980Z",
     "iopub.status.busy": "2022-11-08T21:28:53.694742Z",
     "iopub.status.idle": "2022-11-08T21:28:53.715286Z",
     "shell.execute_reply": "2022-11-08T21:28:53.714839Z",
     "shell.execute_reply.started": "2022-11-08T21:28:53.694959Z"
    },
    "tags": []
   },
   "outputs": [],
   "source": [
    "import pandas as pd\n",
    "endpoints = sorted([l.replace('_prevalent', '') for l in list(pd.read_csv('/sc-projects/sc-proj-ukb-cvd/results/projects/22_retinal_risk/data/220602/endpoints.csv').endpoint.values)])"
   ]
  },
  {
   "cell_type": "code",
   "execution_count": 6,
   "metadata": {
    "execution": {
     "iopub.execute_input": "2022-11-08T21:28:53.716354Z",
     "iopub.status.busy": "2022-11-08T21:28:53.715948Z",
     "iopub.status.idle": "2022-11-08T21:28:54.128927Z",
     "shell.execute_reply": "2022-11-08T21:28:54.128335Z",
     "shell.execute_reply.started": "2022-11-08T21:28:53.716335Z"
    },
    "tags": []
   },
   "outputs": [
    {
     "data": {
      "text/plain": [
       "113122"
      ]
     },
     "execution_count": 6,
     "metadata": {},
     "output_type": "execute_result"
    }
   ],
   "source": [
    "import glob, os\n",
    "img_root = '/sc-projects/sc-proj-ukb-cvd/data/retina/preprocessed/preprocessed'\n",
    "img_visit = 0\n",
    "img_file_extension = '.png'\n",
    "eids_with_retinapic = [int(fp.split('/')[-1].split('_')[0]) for fp in sorted( glob.glob(os.path.join(img_root, f'*{img_file_extension}' \n",
    "                       if img_file_extension is not None else '*'))) \n",
    "                       if f'_{img_visit}_' in fp]\n",
    "len(eids_with_retinapic)"
   ]
  },
  {
   "cell_type": "code",
   "execution_count": 7,
   "metadata": {
    "execution": {
     "iopub.execute_input": "2022-11-08T21:28:54.130298Z",
     "iopub.status.busy": "2022-11-08T21:28:54.130011Z",
     "iopub.status.idle": "2022-11-08T21:28:54.137828Z",
     "shell.execute_reply": "2022-11-08T21:28:54.137420Z",
     "shell.execute_reply.started": "2022-11-08T21:28:54.130278Z"
    },
    "tags": []
   },
   "outputs": [
    {
     "data": {
      "text/plain": [
       "61264"
      ]
     },
     "execution_count": 7,
     "metadata": {},
     "output_type": "execute_result"
    }
   ],
   "source": [
    "len(set(eids_with_retinapic))"
   ]
  },
  {
   "cell_type": "code",
   "execution_count": 8,
   "metadata": {
    "execution": {
     "iopub.execute_input": "2022-11-08T21:28:54.138626Z",
     "iopub.status.busy": "2022-11-08T21:28:54.138449Z",
     "iopub.status.idle": "2022-11-08T21:28:54.152351Z",
     "shell.execute_reply": "2022-11-08T21:28:54.152012Z",
     "shell.execute_reply.started": "2022-11-08T21:28:54.138610Z"
    }
   },
   "outputs": [
    {
     "data": {
      "text/plain": [
       "'/sc-projects/sc-proj-ukb-cvd/results/projects/22_retina_phewas/data/data_covariates_full.feather'"
      ]
     },
     "execution_count": 8,
     "metadata": {},
     "output_type": "execute_result"
    }
   ],
   "source": [
    "f\"{output_path}/data_covariates_full.feather\""
   ]
  },
  {
   "cell_type": "code",
   "execution_count": 9,
   "metadata": {
    "execution": {
     "iopub.execute_input": "2022-11-08T21:28:54.152995Z",
     "iopub.status.busy": "2022-11-08T21:28:54.152850Z",
     "iopub.status.idle": "2022-11-08T21:28:54.219550Z",
     "shell.execute_reply": "2022-11-08T21:28:54.218957Z",
     "shell.execute_reply.started": "2022-11-08T21:28:54.152982Z"
    },
    "tags": []
   },
   "outputs": [],
   "source": [
    "data_covariates = pd.read_feather(f\"{output_path}/data_covariates_full.feather\").set_index(\"eid\")"
   ]
  },
  {
   "cell_type": "code",
   "execution_count": 10,
   "metadata": {
    "execution": {
     "iopub.execute_input": "2022-11-08T21:28:54.220617Z",
     "iopub.status.busy": "2022-11-08T21:28:54.220447Z",
     "iopub.status.idle": "2022-11-08T21:28:54.222778Z",
     "shell.execute_reply": "2022-11-08T21:28:54.222422Z",
     "shell.execute_reply.started": "2022-11-08T21:28:54.220592Z"
    },
    "tags": []
   },
   "outputs": [],
   "source": [
    "# data_covariates = data_covariates[['age', 'sex', 'ethnic_background']]"
   ]
  },
  {
   "cell_type": "code",
   "execution_count": 11,
   "metadata": {
    "execution": {
     "iopub.execute_input": "2022-11-08T21:28:54.223363Z",
     "iopub.status.busy": "2022-11-08T21:28:54.223270Z",
     "iopub.status.idle": "2022-11-08T21:28:54.254437Z",
     "shell.execute_reply": "2022-11-08T21:28:54.253877Z",
     "shell.execute_reply.started": "2022-11-08T21:28:54.223351Z"
    },
    "tags": []
   },
   "outputs": [
    {
     "name": "stdout",
     "output_type": "stream",
     "text": [
      "Success, all required covariates are prepared!\n"
     ]
    }
   ],
   "source": [
    "AgeSex = [\"age\", \"sex\"]\n",
    "\n",
    "SCORE2 = [\n",
    "    \"age\", \n",
    "    \"sex\",\n",
    "    \"smoking_status\", # current smoker\n",
    "    \"systolic_blood_pressure\",\n",
    "    \"cholesterol\",\n",
    "    \"hdl_cholesterol\",\n",
    "\n",
    "] \n",
    "\n",
    "ASCVD = [\n",
    "    \"age\", \n",
    "    \"sex\",\n",
    "    \"ethnic_background\",\n",
    "    \"smoking_status\", # current smoker\n",
    "    \"diabetes\", # diabetes\n",
    "    \"antihypertensives\", \n",
    "    \"systolic_blood_pressure\",\n",
    "    \"cholesterol\",\n",
    "    \"hdl_cholesterol\",\n",
    "] \n",
    "\n",
    "QRISK3 = [\n",
    "    \"age\", \n",
    "    \"sex\",\n",
    "    \"ethnic_background\",\n",
    "    \"smoking_status\", # current smoker\n",
    "    \"bmi\",\n",
    "    \"diabetes1\", # type 1 diabetes\n",
    "    \"diabetes2\", # type 1 diabetes\n",
    "    \"fh_heart_disease\",\n",
    "    \"renal_failure\", \n",
    "    \"atrial_fibrillation\", \n",
    "    \"migraine\",\n",
    "    \"rheumatoid_arthritis\", \n",
    "    \"systemic_lupus_erythematosus\", \n",
    "    \"schizophrenia\", \n",
    "    \"bipolar_disorder\", \n",
    "    \"major_depressive_disorder\", \n",
    "    \"male_erectile_dysfunction\", \n",
    "    \"antihypertensives\", \n",
    "    \"corticosteroids\",\n",
    "    \"psycholeptics\",\n",
    "    \"systolic_blood_pressure\",\n",
    "    \"cholesterol\",\n",
    "    \"hdl_cholesterol\",\n",
    "\n",
    "]\n",
    "\n",
    "# assert, that all variables are available\n",
    "covariates_scores = sorted(list(set(AgeSex + SCORE2 + ASCVD + QRISK3)))\n",
    "if not set(covariates_scores).issubset(data_covariates.columns.to_list()):\n",
    "    print(\"Not all required covariates are prepared!\", list(set(covariates_scores).difference(data_covariates.columns.to_list())))\n",
    "else:\n",
    "    print(\"Success, all required covariates are prepared!\")\n",
    "    data_covariates = data_covariates[covariates_scores]"
   ]
  },
  {
   "cell_type": "code",
   "execution_count": 12,
   "metadata": {
    "execution": {
     "iopub.execute_input": "2022-11-08T21:28:54.255484Z",
     "iopub.status.busy": "2022-11-08T21:28:54.255321Z",
     "iopub.status.idle": "2022-11-08T21:28:54.275447Z",
     "shell.execute_reply": "2022-11-08T21:28:54.274899Z",
     "shell.execute_reply.started": "2022-11-08T21:28:54.255467Z"
    },
    "tags": []
   },
   "outputs": [
    {
     "name": "stdout",
     "output_type": "stream",
     "text": [
      "Cont:  ['age', 'bmi', 'cholesterol', 'hdl_cholesterol', 'systolic_blood_pressure']\n",
      "Cat:  ['ethnic_background', 'sex', 'smoking_status']\n",
      "Bool:  ['antihypertensives', 'atrial_fibrillation', 'bipolar_disorder', 'corticosteroids', 'diabetes', 'diabetes1', 'diabetes2', 'fh_heart_disease', 'major_depressive_disorder', 'male_erectile_dysfunction', 'migraine', 'psycholeptics', 'renal_failure', 'rheumatoid_arthritis', 'schizophrenia', 'systemic_lupus_erythematosus']\n"
     ]
    }
   ],
   "source": [
    "variables_cont = data_covariates.select_dtypes(include=[\"int32\", \"float32\", \"float64\"]).columns.to_list()#dtypes.to_frame().rename(columns={0:\"dtype\"}).query(\"dtype!='bool'\")\n",
    "variables_cat = data_covariates.select_dtypes(include=[\"category\"]).columns.to_list()\n",
    "variables_bool = data_covariates.select_dtypes(include=[\"bool\"]).columns.to_list()#dtypes.to_frame().rename(columns={0:\"dtype\"}).query(\"dtype!='bool'\")\n",
    "print(\"Cont: \", variables_cont)\n",
    "print(\"Cat: \", variables_cat)\n",
    "print(\"Bool: \", variables_bool)\n",
    "\n",
    "variables_to_norm = variables_cont + endpoints"
   ]
  },
  {
   "cell_type": "code",
   "execution_count": 13,
   "metadata": {
    "execution": {
     "iopub.execute_input": "2022-11-08T21:28:54.277400Z",
     "iopub.status.busy": "2022-11-08T21:28:54.277225Z",
     "iopub.status.idle": "2022-11-08T21:28:54.284897Z",
     "shell.execute_reply": "2022-11-08T21:28:54.284534Z",
     "shell.execute_reply.started": "2022-11-08T21:28:54.277383Z"
    },
    "tags": []
   },
   "outputs": [],
   "source": [
    "in_path = pathlib.Path(f\"{experiment_path}/loghs\")\n",
    "in_path.mkdir(parents=True, exist_ok=True)\n",
    "\n",
    "out_path = f\"{experiment_path}/coxph/input\"\n",
    "pathlib.Path(out_path).mkdir(parents=True, exist_ok=True)"
   ]
  },
  {
   "cell_type": "code",
   "execution_count": 14,
   "metadata": {
    "execution": {
     "iopub.execute_input": "2022-11-08T21:28:54.285540Z",
     "iopub.status.busy": "2022-11-08T21:28:54.285398Z",
     "iopub.status.idle": "2022-11-08T21:28:54.296442Z",
     "shell.execute_reply": "2022-11-08T21:28:54.296097Z",
     "shell.execute_reply.started": "2022-11-08T21:28:54.285527Z"
    },
    "tags": []
   },
   "outputs": [
    {
     "data": {
      "text/plain": [
       "PosixPath('/sc-projects/sc-proj-ukb-cvd/results/projects/22_retina_phewas/data/221108/loghs')"
      ]
     },
     "execution_count": 14,
     "metadata": {},
     "output_type": "execute_result"
    }
   ],
   "source": [
    "in_path"
   ]
  },
  {
   "cell_type": "code",
   "execution_count": 15,
   "metadata": {
    "execution": {
     "iopub.execute_input": "2022-11-08T21:28:54.297019Z",
     "iopub.status.busy": "2022-11-08T21:28:54.296924Z",
     "iopub.status.idle": "2022-11-08T21:28:54.309857Z",
     "shell.execute_reply": "2022-11-08T21:28:54.309497Z",
     "shell.execute_reply.started": "2022-11-08T21:28:54.297007Z"
    },
    "tags": []
   },
   "outputs": [
    {
     "data": {
      "text/plain": [
       "'/sc-projects/sc-proj-ukb-cvd/results/projects/22_retina_phewas/data/221108/coxph/input'"
      ]
     },
     "execution_count": 15,
     "metadata": {},
     "output_type": "execute_result"
    }
   ],
   "source": [
    "out_path"
   ]
  },
  {
   "cell_type": "code",
   "execution_count": 16,
   "metadata": {
    "execution": {
     "iopub.execute_input": "2022-11-08T21:28:54.310520Z",
     "iopub.status.busy": "2022-11-08T21:28:54.310371Z",
     "iopub.status.idle": "2022-11-08T21:28:54.339321Z",
     "shell.execute_reply": "2022-11-08T21:28:54.338975Z",
     "shell.execute_reply.started": "2022-11-08T21:28:54.310507Z"
    },
    "tags": []
   },
   "outputs": [
    {
     "data": {
      "text/plain": [
       "['ImageTraining_[]_ConvNeXt_MLPHead_predictions_cropratio0.66']"
      ]
     },
     "execution_count": 16,
     "metadata": {},
     "output_type": "execute_result"
    }
   ],
   "source": [
    "models = [f.name for f in in_path.iterdir() if f.is_dir() and \"ipynb_checkpoints\" not in str(f)]\n",
    "for model in models:\n",
    "    pathlib.Path(os.path.join(out_path, model)).mkdir(parents=True, exist_ok=True)\n",
    "    for p in partitions:\n",
    "        pathlib.Path(os.path.join(out_path, model, str(p))).mkdir(parents=True, exist_ok=True)\n",
    "models"
   ]
  },
  {
   "cell_type": "code",
   "execution_count": 23,
   "metadata": {
    "execution": {
     "iopub.execute_input": "2022-11-08T21:29:53.810043Z",
     "iopub.status.busy": "2022-11-08T21:29:53.809729Z",
     "iopub.status.idle": "2022-11-08T21:29:53.904226Z",
     "shell.execute_reply": "2022-11-08T21:29:53.903765Z",
     "shell.execute_reply.started": "2022-11-08T21:29:53.810024Z"
    },
    "tags": []
   },
   "outputs": [],
   "source": [
    "from sklearn.preprocessing import StandardScaler\n",
    "import miceforest\n",
    "import pickle\n",
    "import zstandard\n",
    "import glob\n",
    "import os\n",
    "\n",
    "# def find_retina_eid_intersection():\n",
    "#     img_root = '/sc-projects/sc-proj-ukb-cvd/data/retina/preprocessed/preprocessed'\n",
    "#     img_visit = 0\n",
    "#     img_file_extension = '.png'\n",
    "#     eids_with_retinapic = [int(fp.split('/')[-1].split('_')[0]) for fp in sorted( glob.glob(os.path.join(img_root, f'*{img_file_extension}' \n",
    "#                            if img_file_extension is not None else '*'))) \n",
    "#                            if f'_{img_visit}_' in fp]\n",
    "#     len(eids_with_retinapic)\n",
    "    \n",
    "#     d = []\n",
    "#     for endpoint in tqdm(endpoints):\n",
    "#         s = data_outcomes[f'{endpoint}_event'].loc[np.intersect1d(eids_dict[endpoint], eids_with_retinapic)]   # .loc[eids_dict[endpoint]]\n",
    "#         n = s.sum()\n",
    "#         freq = s.mean()\n",
    "#         d.append({\"endpoint\": endpoint, \"eligable\":len(np.intersect1d(eids_dict[endpoint], eids_with_retinapic)), \"n\": n, \"freq\": freq})\n",
    "        \n",
    "#     endpoints_freqs = pd.DataFrame().from_dict(d)\n",
    "#     endpoints_ds = endpoints_freqs.query(\"n>100\").sort_values(\"endpoint\")#.reset_index(drop=True)\n",
    "\n",
    "#     return endpoints_ds # TODO\n",
    "\n",
    "def read_merge_data(fp_in, split, data_covariates):\n",
    "    temp = pd.read_feather(f\"{fp_in}/{split}.feather\").set_index(\"eid\")\n",
    "    if 'split' in temp.columns:\n",
    "        temp.drop('split', axis=1, inplace=True)\n",
    "    temp = temp.merge(data_covariates, left_index=True, right_index=True, how=\"left\")\n",
    "    \n",
    "    return temp   \n",
    "\n",
    "def load_pickle(fp):\n",
    "    with open(fp, \"rb\") as fh:\n",
    "        dctx = zstandard.ZstdDecompressor()\n",
    "        with dctx.stream_reader(fh) as decompressor:\n",
    "            data = pickle.loads(decompressor.read())\n",
    "    return data\n",
    "    \n",
    "def save_pickle(data, data_path):\n",
    "    with open(data_path, \"wb\") as fh:\n",
    "        cctx = zstandard.ZstdCompressor()\n",
    "        with cctx.stream_writer(fh) as compressor:\n",
    "            compressor.write(pickle.dumps(data, protocol=pickle.HIGHEST_PROTOCOL))\n",
    "            \n",
    "def get_variable_schema(data):\n",
    "    \n",
    "    missing = data.columns[data.isna().any()].to_list()\n",
    "    \n",
    "    print('Missing columns:', missing)\n",
    "    \n",
    "    variable_schema = {}\n",
    "    for m in missing:\n",
    "        variable_schema[m] = [x for x in data.columns if x != m]\n",
    "    \n",
    "    return variable_schema\n",
    "\n",
    "def tune_imputer(data):\n",
    "    \n",
    "    variable_schema = get_variable_schema(data)\n",
    "        \n",
    "    kernel = miceforest.ImputationKernel(data,\n",
    "                                         datasets=1,\n",
    "                                         random_state=42)#, train_nonmissing=True)\n",
    "    \n",
    "    best_hps, losses = kernel.tune_parameters(dataset=0, n_jobs=96, optimization_steps=5, verbose=True) # add bootstrrapping! \n",
    "  \n",
    "    return best_hps\n",
    "\n",
    "def get_imputer_hps(data_covariates, model, partition, samples):\n",
    "\n",
    "    fp_in = f\"{in_path}/{model}/{partition}\"\n",
    "    fp_out = f\"{out_path}/{model}\" # fp_out = f\"{out_path}/{model}/\"\n",
    "    \n",
    "    temp = read_merge_data(fp_in, \"train\", data_covariates.sample(samples))\n",
    "    \n",
    "    print(\"tune hps\")\n",
    "    best_hps = tune_imputer(temp)\n",
    "    save_pickle(best_hps, f\"{fp_out}/imputer_best_hps.p\")\n",
    "    \n",
    "    return best_hps\n",
    "\n",
    "def fit_imputer(data, best_hps=None):\n",
    "    \n",
    "    variable_schema = get_variable_schema(data)\n",
    "        \n",
    "    kernel = miceforest.ImputationKernel(data,\n",
    "                                         datasets=1,\n",
    "                                         random_state=42)#, train_nonmissing=True)\n",
    "\n",
    "    # Run the MICE algorithm for 3 iterations\n",
    "    kernel.mice(5, n_jobs=16, \n",
    "                variable_parameters=best_hps,\n",
    "                verbose=True)\n",
    "    \n",
    "    return kernel\n",
    "    \n",
    "@ray.remote\n",
    "def scale_encode_save_feather(partition, split, temp_df, scaler, variables_cont, variables_cat, fp_out):\n",
    "    print(partition, split, f\"scale {split}\")\n",
    "    temp_df[variables_cont] = scaler.transform(temp_df[variables_cont].values)\n",
    "\n",
    "    print(partition, split, f\"onehotencode {split}\")\n",
    "    temp_df = pd.get_dummies(temp_df, columns=variables_cat, prefix=variables_cat)\n",
    "\n",
    "    # save imputed and standardized file\n",
    "    print(partition, split, f\"save {split}\")\n",
    "    temp_df.reset_index(drop=False).to_feather(f\"{fp_out}/{split}.feather\")\n",
    "    \n",
    "\n",
    "def impute_norm_variables(data_covariates, model, partition, variables_cont, variables_cat, samples):\n",
    "\n",
    "    fp_in = f\"{in_path}/{model}/{partition}\"\n",
    "    fp_out = f\"{out_path}/{model}/{partition}\"\n",
    "      \n",
    "    if pathlib.Path(fp_in).is_dir():\n",
    "        if not pathlib.Path(fp_out).is_dir():\n",
    "            pathlib.Path(fp_out).mkdir(parents=True, exist_ok=True)\n",
    "            \n",
    "    for split in tqdm([\"train\", \"valid\", \"test\"]):\n",
    "        \n",
    "        print(partition, split, \"read and merge data\")\n",
    "        temp = read_merge_data(fp_in, split, data_covariates)\n",
    "        \n",
    "        temp = temp.loc[np.intersect1d(temp.index.values, eids_with_retinapic)]\n",
    "\n",
    "        \n",
    "        if split==\"train\": \n",
    "            # fit and save imputer\n",
    "            print(partition, split, \"fit imputer\")\n",
    "            print(partition, split, \"fit imputer: load hps\")\n",
    "#             best_hps = load_pickle(f\"{out_path}/{model}/imputer_best_hps.p\")\n",
    "            print(partition, split, \"fit imputer: fit imputer\")\n",
    "            print(temp.isna().sum()\n",
    "                 )\n",
    "            imputer = fit_imputer(temp.sample(samples),\n",
    "#                                   best_hps\n",
    "                                 )\n",
    "            print(partition, split, \"fit imputer: save imputer\")\n",
    "            save_pickle(imputer, f\"{fp_out}/imputer.p\")\n",
    "            \n",
    "            # check imputer and log results\n",
    "#             print(partition, split, \"check imputer: plot distributions\")\n",
    "#             print(imputer.plot_imputed_distributions(wspace=0.3,hspace=0.3))\n",
    "            #plt.savefig(f\"{fp_out}/imputed_dists.png\")\n",
    "            \n",
    "        # apply imputer and scaler\n",
    "        print(partition, split, f\"impute {split}\")\n",
    "        \n",
    "        if temp.isna().sum().sum() > 0:\n",
    "            temp = imputer.impute_new_data(new_data=temp, verbose=True).complete_data(0)            \n",
    "            \n",
    "        \n",
    "        if split==\"train\": \n",
    "            \n",
    "            # fit and save standardscaler\n",
    "            print(partition, split, \"fit scaler\")\n",
    "            scaler = StandardScaler(with_mean=True, with_std=True, copy=True).fit(temp[variables_cont].values)\n",
    "            save_pickle(scaler, f\"{fp_out}/scaler.p\")\n",
    "            \n",
    "        scale_encode_save_feather.remote(partition, split, temp, scaler, variables_cont, variables_cat, fp_out)\n",
    "        \n",
    "    return True"
   ]
  },
  {
   "cell_type": "code",
   "execution_count": 24,
   "metadata": {
    "execution": {
     "iopub.execute_input": "2022-11-08T21:29:54.236634Z",
     "iopub.status.busy": "2022-11-08T21:29:54.236298Z",
     "iopub.status.idle": "2022-11-08T21:29:54.238224Z",
     "shell.execute_reply": "2022-11-08T21:29:54.237907Z",
     "shell.execute_reply.started": "2022-11-08T21:29:54.236616Z"
    },
    "tags": []
   },
   "outputs": [],
   "source": [
    "# only execute once to make sure we have a good set of lightgmb parameters\n",
    "#get_imputer_hps(data_covariates, models[0], partitions[0], variables_to_norm, samples=10000)"
   ]
  },
  {
   "cell_type": "code",
   "execution_count": 25,
   "metadata": {
    "execution": {
     "iopub.execute_input": "2022-11-08T21:29:54.918987Z",
     "iopub.status.busy": "2022-11-08T21:29:54.918746Z",
     "iopub.status.idle": "2022-11-08T21:29:54.920796Z",
     "shell.execute_reply": "2022-11-08T21:29:54.920464Z",
     "shell.execute_reply.started": "2022-11-08T21:29:54.918971Z"
    },
    "tags": []
   },
   "outputs": [],
   "source": [
    "#impute_norm_variables(data_covariates, models[0], partitions[0], variables_to_norm, 10000)"
   ]
  },
  {
   "cell_type": "code",
   "execution_count": 26,
   "metadata": {
    "execution": {
     "iopub.execute_input": "2022-11-08T21:29:55.358941Z",
     "iopub.status.busy": "2022-11-08T21:29:55.358675Z",
     "iopub.status.idle": "2022-11-08T21:29:55.362301Z",
     "shell.execute_reply": "2022-11-08T21:29:55.361937Z",
     "shell.execute_reply.started": "2022-11-08T21:29:55.358922Z"
    },
    "tags": []
   },
   "outputs": [],
   "source": [
    "def norm_logh_and_extra(data_covariates, variables_cont, variables_cat, samples):\n",
    "    \n",
    "    print(f\"Tune and fit imputation with {samples} samples\")\n",
    "    \n",
    "#     for model in models:\n",
    "        # instead of models[0]\n",
    "#         hps_path = f\"{out_path}/{model}/imputer_best_hps.p\"\n",
    "#         if not pathlib.Path(hps_path).is_file():\n",
    "#             print(f\"No HPs found, estimating new HPs...\")\n",
    "#             get_imputer_hps(data_covariates, model, partitions[0], samples)\n",
    "#         else:\n",
    "#             print(f\"Use {hps_path}\")\n",
    "\n",
    "    progress = []\n",
    "    for model in models:\n",
    "        for partition in tqdm(partitions):\n",
    "            progress.append(impute_norm_variables(data_covariates, \n",
    "                                                  model, partition,\n",
    "                                                  variables_cont, \n",
    "                                                  variables_cat,\n",
    "                                                  samples))\n",
    "    #[ray.get(s) for s in tqdm(progress)]"
   ]
  },
  {
   "cell_type": "code",
   "execution_count": 27,
   "metadata": {
    "execution": {
     "iopub.execute_input": "2022-11-08T21:29:56.512420Z",
     "iopub.status.busy": "2022-11-08T21:29:56.512237Z",
     "iopub.status.idle": "2022-11-08T21:29:56.514214Z",
     "shell.execute_reply": "2022-11-08T21:29:56.513847Z",
     "shell.execute_reply.started": "2022-11-08T21:29:56.512406Z"
    },
    "tags": []
   },
   "outputs": [],
   "source": [
    "# encode_categorical"
   ]
  },
  {
   "cell_type": "code",
   "execution_count": 28,
   "metadata": {
    "execution": {
     "iopub.execute_input": "2022-11-08T21:29:57.197237Z",
     "iopub.status.busy": "2022-11-08T21:29:57.197089Z",
     "iopub.status.idle": "2022-11-08T22:48:36.482900Z",
     "shell.execute_reply": "2022-11-08T22:48:36.482409Z",
     "shell.execute_reply.started": "2022-11-08T21:29:57.197224Z"
    },
    "tags": []
   },
   "outputs": [
    {
     "name": "stdout",
     "output_type": "stream",
     "text": [
      "Tune and fit imputation with 15000 samples\n"
     ]
    },
    {
     "data": {
      "application/vnd.jupyter.widget-view+json": {
       "model_id": "02cf06bc060f4a4b95836e738e55ae9a",
       "version_major": 2,
       "version_minor": 0
      },
      "text/plain": [
       "  0%|          | 0/22 [00:00<?, ?it/s]"
      ]
     },
     "metadata": {},
     "output_type": "display_data"
    },
    {
     "data": {
      "application/vnd.jupyter.widget-view+json": {
       "model_id": "e2b2bc25c4a84a60bcb987d21a52b650",
       "version_major": 2,
       "version_minor": 0
      },
      "text/plain": [
       "  0%|          | 0/3 [00:00<?, ?it/s]"
      ]
     },
     "metadata": {},
     "output_type": "display_data"
    },
    {
     "name": "stdout",
     "output_type": "stream",
     "text": [
      "0 train read and merge data\n",
      "0 train fit imputer\n",
      "0 train fit imputer: load hps\n",
      "0 train fit imputer: fit imputer\n",
      "OMOP_4306655                      0\n",
      "phecode_002                       0\n",
      "phecode_002-1                     0\n",
      "phecode_003                       0\n",
      "phecode_004                       0\n",
      "                               ... \n",
      "schizophrenia                     0\n",
      "sex                               0\n",
      "smoking_status                  272\n",
      "systemic_lupus_erythematosus      0\n",
      "systolic_blood_pressure         167\n",
      "Length: 1199, dtype: int64\n",
      "Missing columns: ['bmi', 'cholesterol', 'ethnic_background', 'hdl_cholesterol', 'smoking_status', 'systolic_blood_pressure']\n",
      "Dataset 0\n",
      "1  | systolic_blood_pressure | smoking_status | bmi | ethnic_background | cholesterol | hdl_cholesterol\n",
      "2  | systolic_blood_pressure | smoking_status | bmi | ethnic_background | cholesterol | hdl_cholesterol\n",
      "3  | systolic_blood_pressure | smoking_status | bmi | ethnic_background | cholesterol | hdl_cholesterol\n",
      "4  | systolic_blood_pressure | smoking_status | bmi | ethnic_background | cholesterol | hdl_cholesterol\n",
      "5  | systolic_blood_pressure | smoking_status | bmi | ethnic_background | cholesterol | hdl_cholesterol\n",
      "0 train fit imputer: save imputer\n",
      "0 train impute train\n",
      "Dataset 0\n",
      "1  | systolic_blood_pressure | smoking_status | bmi | ethnic_background | cholesterol | hdl_cholesterol\n",
      "2  | systolic_blood_pressure | smoking_status | bmi | ethnic_background | cholesterol | hdl_cholesterol\n",
      "3  | systolic_blood_pressure | smoking_status | bmi | ethnic_background | cholesterol | hdl_cholesterol\n",
      "4  | systolic_blood_pressure | smoking_status | bmi | ethnic_background | cholesterol | hdl_cholesterol\n",
      "5  | systolic_blood_pressure | smoking_status | bmi | ethnic_background | cholesterol | hdl_cholesterol\n",
      "0 train fit scaler\n",
      "0 valid read and merge data\n",
      "0 valid impute valid\n",
      "Dataset 0\n",
      "1  | systolic_blood_pressure | smoking_status | bmi | ethnic_background | cholesterol | hdl_cholesterol\n",
      "2  | systolic_blood_pressure\u001b[2m\u001b[36m(scale_encode_save_feather pid=1642233)\u001b[0m 0 train scale train\n",
      " | smoking_status | bmi\u001b[2m\u001b[36m(scale_encode_save_feather pid=1642233)\u001b[0m 0 train onehotencode train\n",
      "\u001b[2m\u001b[36m(scale_encode_save_feather pid=1642233)\u001b[0m 0 train save train\n",
      " | ethnic_background | cholesterol | hdl_cholesterol\n",
      "3  | systolic_blood_pressure | smoking_status | bmi | ethnic_background | cholesterol | hdl_cholesterol\n",
      "4  | systolic_blood_pressure | smoking_status | bmi | ethnic_background | cholesterol | hdl_cholesterol\n",
      "5  | systolic_blood_pressure | smoking_status | bmi | ethnic_background | cholesterol | hdl_cholesterol\n",
      "0 test read and merge data\n",
      "\u001b[2m\u001b[36m(scale_encode_save_feather pid=1642233)\u001b[0m 0 valid scale valid\n",
      "\u001b[2m\u001b[36m(scale_encode_save_feather pid=1642233)\u001b[0m 0 valid onehotencode valid\n",
      "\u001b[2m\u001b[36m(scale_encode_save_feather pid=1642233)\u001b[0m 0 valid save valid\n",
      "0 test impute test\n",
      "Dataset 0\n",
      "1  | systolic_blood_pressure | smoking_status | bmi | ethnic_background | cholesterol | hdl_cholesterol\n",
      "2  | systolic_blood_pressure | smoking_status | bmi | ethnic_background | cholesterol | hdl_cholesterol\n",
      "3  | systolic_blood_pressure | smoking_status | bmi | ethnic_background | cholesterol | hdl_cholesterol\n",
      "4  | systolic_blood_pressure | smoking_status | bmi | ethnic_background | cholesterol | hdl_cholesterol\n",
      "5  | systolic_blood_pressure | smoking_status | bmi | ethnic_background | cholesterol | hdl_cholesterol\n"
     ]
    },
    {
     "data": {
      "application/vnd.jupyter.widget-view+json": {
       "model_id": "0689fc0584134c5aa391143dcbdf6582",
       "version_major": 2,
       "version_minor": 0
      },
      "text/plain": [
       "  0%|          | 0/3 [00:00<?, ?it/s]"
      ]
     },
     "metadata": {},
     "output_type": "display_data"
    },
    {
     "name": "stdout",
     "output_type": "stream",
     "text": [
      "1 train read and merge data\n",
      "\u001b[2m\u001b[36m(scale_encode_save_feather pid=1642233)\u001b[0m 0 test scale test\n",
      "\u001b[2m\u001b[36m(scale_encode_save_feather pid=1642233)\u001b[0m 0 test onehotencode test\n",
      "\u001b[2m\u001b[36m(scale_encode_save_feather pid=1642233)\u001b[0m 0 test save test\n",
      "1 train fit imputer\n",
      "1 train fit imputer: load hps\n",
      "1 train fit imputer: fit imputer\n",
      "OMOP_4306655                      0\n",
      "phecode_002                       0\n",
      "phecode_002-1                     0\n",
      "phecode_003                       0\n",
      "phecode_004                       0\n",
      "                               ... \n",
      "schizophrenia                     0\n",
      "sex                               0\n",
      "smoking_status                  287\n",
      "systemic_lupus_erythematosus      0\n",
      "systolic_blood_pressure         169\n",
      "Length: 1199, dtype: int64\n",
      "Missing columns: ['bmi', 'cholesterol', 'ethnic_background', 'hdl_cholesterol', 'smoking_status', 'systolic_blood_pressure']\n",
      "Dataset 0\n",
      "1  | systolic_blood_pressure | bmi | smoking_status | ethnic_background | cholesterol | hdl_cholesterol\n",
      "2  | systolic_blood_pressure | bmi | smoking_status | ethnic_background | cholesterol | hdl_cholesterol\n",
      "3  | systolic_blood_pressure | bmi | smoking_status | ethnic_background | cholesterol | hdl_cholesterol\n",
      "4  | systolic_blood_pressure | bmi | smoking_status | ethnic_background | cholesterol | hdl_cholesterol\n",
      "5  | systolic_blood_pressure | bmi | smoking_status | ethnic_background | cholesterol | hdl_cholesterol\n",
      "1 train fit imputer: save imputer\n",
      "1 train impute train\n",
      "Dataset 0\n",
      "1  | systolic_blood_pressure | bmi | smoking_status | ethnic_background | cholesterol | hdl_cholesterol\n",
      "2  | systolic_blood_pressure | bmi | smoking_status | ethnic_background | cholesterol | hdl_cholesterol\n",
      "3  | systolic_blood_pressure | bmi | smoking_status | ethnic_background | cholesterol | hdl_cholesterol\n",
      "4  | systolic_blood_pressure | bmi | smoking_status | ethnic_background | cholesterol | hdl_cholesterol\n",
      "5  | systolic_blood_pressure | bmi | smoking_status | ethnic_background | cholesterol | hdl_cholesterol\n",
      "1 train fit scaler\n",
      "1 valid read and merge data\n",
      "\u001b[2m\u001b[36m(scale_encode_save_feather pid=1642233)\u001b[0m 1 train scale train\n",
      "\u001b[2m\u001b[36m(scale_encode_save_feather pid=1642233)\u001b[0m 1 train onehotencode train\n",
      "\u001b[2m\u001b[36m(scale_encode_save_feather pid=1642233)\u001b[0m 1 train save train\n",
      "1 valid impute valid\n",
      "Dataset 0\n",
      "1  | systolic_blood_pressure | bmi | smoking_status | ethnic_background | cholesterol | hdl_cholesterol\n",
      "2  | systolic_blood_pressure | bmi | smoking_status | ethnic_background | cholesterol | hdl_cholesterol\n",
      "3  | systolic_blood_pressure | bmi | smoking_status | ethnic_background | cholesterol | hdl_cholesterol\n",
      "4  | systolic_blood_pressure | bmi | smoking_status | ethnic_background | cholesterol | hdl_cholesterol\n",
      "5  | systolic_blood_pressure | bmi | smoking_status | ethnic_background | cholesterol | hdl_cholesterol\n",
      "1 test read and merge data\n",
      "\u001b[2m\u001b[36m(scale_encode_save_feather pid=1642233)\u001b[0m 1 valid scale valid\n",
      "\u001b[2m\u001b[36m(scale_encode_save_feather pid=1642233)\u001b[0m 1 valid onehotencode valid\n",
      "\u001b[2m\u001b[36m(scale_encode_save_feather pid=1642233)\u001b[0m 1 valid save valid\n",
      "1 test impute test\n",
      "Dataset 0\n",
      "1  | systolic_blood_pressure | bmi | smoking_status | ethnic_background | cholesterol | hdl_cholesterol\n",
      "2  | systolic_blood_pressure | bmi | smoking_status | ethnic_background | cholesterol | hdl_cholesterol\n",
      "3  | systolic_blood_pressure | bmi | smoking_status | ethnic_background | cholesterol | hdl_cholesterol\n",
      "4  | systolic_blood_pressure | bmi | smoking_status | ethnic_background | cholesterol | hdl_cholesterol\n",
      "5  | systolic_blood_pressure | bmi | smoking_status | ethnic_background | cholesterol | hdl_cholesterol\n",
      "\u001b[2m\u001b[36m(scale_encode_save_feather pid=1642233)\u001b[0m 1 test scale test\n",
      "\u001b[2m\u001b[36m(scale_encode_save_feather pid=1642233)\u001b[0m 1 test onehotencode test\n",
      "\u001b[2m\u001b[36m(scale_encode_save_feather pid=1642233)\u001b[0m 1 test save test\n"
     ]
    },
    {
     "data": {
      "application/vnd.jupyter.widget-view+json": {
       "model_id": "08fe44f91c284e82ab24504f886bfa27",
       "version_major": 2,
       "version_minor": 0
      },
      "text/plain": [
       "  0%|          | 0/3 [00:00<?, ?it/s]"
      ]
     },
     "metadata": {},
     "output_type": "display_data"
    },
    {
     "name": "stdout",
     "output_type": "stream",
     "text": [
      "2 train read and merge data\n",
      "2 train fit imputer\n",
      "2 train fit imputer: load hps\n",
      "2 train fit imputer: fit imputer\n",
      "OMOP_4306655                      0\n",
      "phecode_002                       0\n",
      "phecode_002-1                     0\n",
      "phecode_003                       0\n",
      "phecode_004                       0\n",
      "                               ... \n",
      "schizophrenia                     0\n",
      "sex                               0\n",
      "smoking_status                  295\n",
      "systemic_lupus_erythematosus      0\n",
      "systolic_blood_pressure         174\n",
      "Length: 1199, dtype: int64\n",
      "Missing columns: ['bmi', 'cholesterol', 'ethnic_background', 'hdl_cholesterol', 'smoking_status', 'systolic_blood_pressure']\n",
      "Dataset 0\n",
      "1  | systolic_blood_pressure | bmi | smoking_status | ethnic_background | cholesterol | hdl_cholesterol\n",
      "2  | systolic_blood_pressure | bmi | smoking_status | ethnic_background | cholesterol | hdl_cholesterol\n",
      "3  | systolic_blood_pressure | bmi | smoking_status | ethnic_background | cholesterol | hdl_cholesterol\n",
      "4  | systolic_blood_pressure | bmi | smoking_status | ethnic_background | cholesterol | hdl_cholesterol\n",
      "5  | systolic_blood_pressure | bmi | smoking_status | ethnic_background | cholesterol | hdl_cholesterol\n",
      "2 train fit imputer: save imputer\n",
      "2 train impute train\n",
      "Dataset 0\n",
      "1  | systolic_blood_pressure | bmi | smoking_status | ethnic_background | cholesterol | hdl_cholesterol\n",
      "2  | systolic_blood_pressure | bmi | smoking_status | ethnic_background | cholesterol | hdl_cholesterol\n",
      "3  | systolic_blood_pressure | bmi | smoking_status | ethnic_background | cholesterol | hdl_cholesterol\n",
      "4  | systolic_blood_pressure | bmi | smoking_status | ethnic_background | cholesterol | hdl_cholesterol\n",
      "5  | systolic_blood_pressure | bmi | smoking_status | ethnic_background | cholesterol | hdl_cholesterol\n",
      "2 train fit scaler\n",
      "2 valid read and merge data\n",
      "\u001b[2m\u001b[36m(scale_encode_save_feather pid=1642233)\u001b[0m 2 train scale train\n",
      "\u001b[2m\u001b[36m(scale_encode_save_feather pid=1642233)\u001b[0m 2 train onehotencode train\n",
      "\u001b[2m\u001b[36m(scale_encode_save_feather pid=1642233)\u001b[0m 2 train save train\n",
      "2 valid impute valid\n",
      "Dataset 0\n",
      "1  | systolic_blood_pressure | bmi | smoking_status | ethnic_background | cholesterol | hdl_cholesterol\n",
      "2  | systolic_blood_pressure | bmi | smoking_status | ethnic_background | cholesterol | hdl_cholesterol\n",
      "3  | systolic_blood_pressure | bmi | smoking_status | ethnic_background | cholesterol | hdl_cholesterol\n",
      "4  | systolic_blood_pressure | bmi | smoking_status | ethnic_background | cholesterol | hdl_cholesterol\n",
      "5  | systolic_blood_pressure | bmi | smoking_status | ethnic_background | cholesterol | hdl_cholesterol\n",
      "2 test read and merge data\n",
      "\u001b[2m\u001b[36m(scale_encode_save_feather pid=1642233)\u001b[0m 2 valid scale valid\n",
      "\u001b[2m\u001b[36m(scale_encode_save_feather pid=1642233)\u001b[0m 2 valid onehotencode valid\n",
      "\u001b[2m\u001b[36m(scale_encode_save_feather pid=1642233)\u001b[0m 2 valid save valid\n",
      "2 test impute test\n",
      "Dataset 0\n",
      "1  | systolic_blood_pressure | bmi | smoking_status | ethnic_background | cholesterol | hdl_cholesterol\n",
      "2  | systolic_blood_pressure | bmi | smoking_status | ethnic_background | cholesterol | hdl_cholesterol\n",
      "3  | systolic_blood_pressure | bmi | smoking_status | ethnic_background | cholesterol | hdl_cholesterol\n",
      "4  | systolic_blood_pressure | bmi | smoking_status | ethnic_background | cholesterol | hdl_cholesterol\n",
      "5  | systolic_blood_pressure | bmi | smoking_status | ethnic_background | cholesterol | hdl_cholesterol\n"
     ]
    },
    {
     "data": {
      "application/vnd.jupyter.widget-view+json": {
       "model_id": "c77b1a8c2f53427791d41256e2078adb",
       "version_major": 2,
       "version_minor": 0
      },
      "text/plain": [
       "  0%|          | 0/3 [00:00<?, ?it/s]"
      ]
     },
     "metadata": {},
     "output_type": "display_data"
    },
    {
     "name": "stdout",
     "output_type": "stream",
     "text": [
      "3 train read and merge data\n",
      "\u001b[2m\u001b[36m(scale_encode_save_feather pid=1642233)\u001b[0m 2 test scale test\n",
      "\u001b[2m\u001b[36m(scale_encode_save_feather pid=1642233)\u001b[0m 2 test onehotencode test\n",
      "\u001b[2m\u001b[36m(scale_encode_save_feather pid=1642233)\u001b[0m 2 test save test\n",
      "3 train fit imputer\n",
      "3 train fit imputer: load hps\n",
      "3 train fit imputer: fit imputer\n",
      "OMOP_4306655                      0\n",
      "phecode_002                       0\n",
      "phecode_002-1                     0\n",
      "phecode_003                       0\n",
      "phecode_004                       0\n",
      "                               ... \n",
      "schizophrenia                     0\n",
      "sex                               0\n",
      "smoking_status                  296\n",
      "systemic_lupus_erythematosus      0\n",
      "systolic_blood_pressure         186\n",
      "Length: 1199, dtype: int64\n",
      "Missing columns: ['bmi', 'cholesterol', 'ethnic_background', 'hdl_cholesterol', 'smoking_status', 'systolic_blood_pressure']\n",
      "Dataset 0\n",
      "1  | systolic_blood_pressure | bmi | smoking_status | ethnic_background | cholesterol | hdl_cholesterol\n",
      "2  | systolic_blood_pressure | bmi | smoking_status | ethnic_background | cholesterol | hdl_cholesterol\n",
      "3  | systolic_blood_pressure | bmi | smoking_status | ethnic_background | cholesterol | hdl_cholesterol\n",
      "4  | systolic_blood_pressure | bmi | smoking_status | ethnic_background | cholesterol | hdl_cholesterol\n",
      "5  | systolic_blood_pressure | bmi | smoking_status | ethnic_background | cholesterol | hdl_cholesterol\n",
      "3 train fit imputer: save imputer\n",
      "3 train impute train\n",
      "Dataset 0\n",
      "1  | systolic_blood_pressure | bmi | smoking_status | ethnic_background | cholesterol | hdl_cholesterol\n",
      "2  | systolic_blood_pressure | bmi | smoking_status | ethnic_background | cholesterol | hdl_cholesterol\n",
      "3  | systolic_blood_pressure | bmi | smoking_status | ethnic_background | cholesterol | hdl_cholesterol\n",
      "4  | systolic_blood_pressure | bmi | smoking_status | ethnic_background | cholesterol | hdl_cholesterol\n",
      "5  | systolic_blood_pressure | bmi | smoking_status | ethnic_background | cholesterol | hdl_cholesterol\n",
      "3 train fit scaler\n",
      "3 valid read and merge data\n",
      "\u001b[2m\u001b[36m(scale_encode_save_feather pid=1642233)\u001b[0m 3 train scale train\n",
      "\u001b[2m\u001b[36m(scale_encode_save_feather pid=1642233)\u001b[0m 3 train onehotencode train\n",
      "\u001b[2m\u001b[36m(scale_encode_save_feather pid=1642233)\u001b[0m 3 train save train\n",
      "3 valid impute valid\n",
      "Dataset 0\n",
      "1  | systolic_blood_pressure | bmi | smoking_status | ethnic_background | cholesterol | hdl_cholesterol\n",
      "2  | systolic_blood_pressure | bmi | smoking_status | ethnic_background | cholesterol | hdl_cholesterol\n",
      "3  | systolic_blood_pressure | bmi | smoking_status | ethnic_background | cholesterol | hdl_cholesterol\n",
      "4  | systolic_blood_pressure | bmi | smoking_status | ethnic_background | cholesterol | hdl_cholesterol\n",
      "5  | systolic_blood_pressure | bmi | smoking_status | ethnic_background | cholesterol | hdl_cholesterol\n",
      "3 test read and merge data\n",
      "\u001b[2m\u001b[36m(scale_encode_save_feather pid=1642233)\u001b[0m 3 valid scale valid\n",
      "\u001b[2m\u001b[36m(scale_encode_save_feather pid=1642233)\u001b[0m 3 valid onehotencode valid\n",
      "\u001b[2m\u001b[36m(scale_encode_save_feather pid=1642233)\u001b[0m 3 valid save valid\n",
      "3 test impute test\n",
      "Dataset 0\n",
      "1  | systolic_blood_pressure | bmi | smoking_status | ethnic_background | cholesterol | hdl_cholesterol\n",
      "2  | systolic_blood_pressure | bmi | smoking_status | ethnic_background | cholesterol | hdl_cholesterol\n",
      "3  | systolic_blood_pressure | bmi | smoking_status | ethnic_background | cholesterol | hdl_cholesterol\n",
      "4  | systolic_blood_pressure | bmi | smoking_status | ethnic_background | cholesterol | hdl_cholesterol\n",
      "5  | systolic_blood_pressure | bmi | smoking_status | ethnic_background | cholesterol | hdl_cholesterol\n",
      "\u001b[2m\u001b[36m(scale_encode_save_feather pid=1642233)\u001b[0m 3 test scale test\n",
      "\u001b[2m\u001b[36m(scale_encode_save_feather pid=1642233)\u001b[0m 3 test onehotencode test\n",
      "\u001b[2m\u001b[36m(scale_encode_save_feather pid=1642233)\u001b[0m 3 test save test\n"
     ]
    },
    {
     "data": {
      "application/vnd.jupyter.widget-view+json": {
       "model_id": "28adef4bb519434ab9fbb96c8c025788",
       "version_major": 2,
       "version_minor": 0
      },
      "text/plain": [
       "  0%|          | 0/3 [00:00<?, ?it/s]"
      ]
     },
     "metadata": {},
     "output_type": "display_data"
    },
    {
     "name": "stdout",
     "output_type": "stream",
     "text": [
      "4 train read and merge data\n",
      "4 train fit imputer\n",
      "4 train fit imputer: load hps\n",
      "4 train fit imputer: fit imputer\n",
      "OMOP_4306655                      0\n",
      "phecode_002                       0\n",
      "phecode_002-1                     0\n",
      "phecode_003                       0\n",
      "phecode_004                       0\n",
      "                               ... \n",
      "schizophrenia                     0\n",
      "sex                               0\n",
      "smoking_status                  294\n",
      "systemic_lupus_erythematosus      0\n",
      "systolic_blood_pressure         181\n",
      "Length: 1199, dtype: int64\n",
      "Missing columns: ['bmi', 'cholesterol', 'ethnic_background', 'hdl_cholesterol', 'smoking_status', 'systolic_blood_pressure']\n",
      "Dataset 0\n",
      "1  | systolic_blood_pressure | bmi | smoking_status | ethnic_background | cholesterol | hdl_cholesterol\n",
      "2  | systolic_blood_pressure | bmi | smoking_status | ethnic_background | cholesterol | hdl_cholesterol\n",
      "3  | systolic_blood_pressure | bmi | smoking_status | ethnic_background | cholesterol | hdl_cholesterol\n",
      "4  | systolic_blood_pressure | bmi | smoking_status | ethnic_background | cholesterol | hdl_cholesterol\n",
      "5  | systolic_blood_pressure | bmi | smoking_status | ethnic_background | cholesterol | hdl_cholesterol\n",
      "4 train fit imputer: save imputer\n",
      "4 train impute train\n",
      "Dataset 0\n",
      "1  | systolic_blood_pressure | bmi | smoking_status | ethnic_background | cholesterol | hdl_cholesterol\n",
      "2  | systolic_blood_pressure | bmi | smoking_status | ethnic_background | cholesterol | hdl_cholesterol\n",
      "3  | systolic_blood_pressure | bmi | smoking_status | ethnic_background | cholesterol | hdl_cholesterol\n",
      "4  | systolic_blood_pressure | bmi | smoking_status | ethnic_background | cholesterol | hdl_cholesterol\n",
      "5  | systolic_blood_pressure | bmi | smoking_status | ethnic_background | cholesterol | hdl_cholesterol\n",
      "4 train fit scaler\n",
      "4 valid read and merge data\n",
      "\u001b[2m\u001b[36m(scale_encode_save_feather pid=1642233)\u001b[0m 4 train scale train\n",
      "\u001b[2m\u001b[36m(scale_encode_save_feather pid=1642233)\u001b[0m 4 train onehotencode train\n",
      "\u001b[2m\u001b[36m(scale_encode_save_feather pid=1642233)\u001b[0m 4 train save train\n",
      "4 valid impute valid\n",
      "Dataset 0\n",
      "1  | systolic_blood_pressure | bmi | smoking_status | ethnic_background | cholesterol | hdl_cholesterol\n",
      "2  | systolic_blood_pressure | bmi | smoking_status | ethnic_background | cholesterol | hdl_cholesterol\n",
      "3  | systolic_blood_pressure | bmi | smoking_status | ethnic_background | cholesterol | hdl_cholesterol\n",
      "4  | systolic_blood_pressure | bmi | smoking_status | ethnic_background | cholesterol | hdl_cholesterol\n",
      "5  | systolic_blood_pressure | bmi | smoking_status | ethnic_background | cholesterol | hdl_cholesterol\n",
      "4 test read and merge data\n",
      "\u001b[2m\u001b[36m(scale_encode_save_feather pid=1642233)\u001b[0m 4 valid scale valid\n",
      "\u001b[2m\u001b[36m(scale_encode_save_feather pid=1642233)\u001b[0m 4 valid onehotencode valid\n",
      "\u001b[2m\u001b[36m(scale_encode_save_feather pid=1642233)\u001b[0m 4 valid save valid\n",
      "4 test impute test\n",
      "Dataset 0\n",
      "1  | systolic_blood_pressure | bmi | smoking_status | ethnic_background | cholesterol | hdl_cholesterol\n",
      "2  | systolic_blood_pressure | bmi | smoking_status | ethnic_background | cholesterol | hdl_cholesterol\n",
      "3  | systolic_blood_pressure | bmi | smoking_status | ethnic_background | cholesterol | hdl_cholesterol\n",
      "4  | systolic_blood_pressure | bmi | smoking_status | ethnic_background | cholesterol | hdl_cholesterol\n",
      "5  | systolic_blood_pressure | bmi | smoking_status | ethnic_background | cholesterol | hdl_cholesterol\n",
      "\u001b[2m\u001b[36m(scale_encode_save_feather pid=1642233)\u001b[0m 4 test scale test\n",
      "\u001b[2m\u001b[36m(scale_encode_save_feather pid=1642233)\u001b[0m 4 test onehotencode test\n",
      "\u001b[2m\u001b[36m(scale_encode_save_feather pid=1642233)\u001b[0m 4 test save test\n"
     ]
    },
    {
     "data": {
      "application/vnd.jupyter.widget-view+json": {
       "model_id": "605ef89e616949e4a016777267c73257",
       "version_major": 2,
       "version_minor": 0
      },
      "text/plain": [
       "  0%|          | 0/3 [00:00<?, ?it/s]"
      ]
     },
     "metadata": {},
     "output_type": "display_data"
    },
    {
     "name": "stdout",
     "output_type": "stream",
     "text": [
      "5 train read and merge data\n",
      "5 train fit imputer\n",
      "5 train fit imputer: load hps\n",
      "5 train fit imputer: fit imputer\n",
      "OMOP_4306655                      0\n",
      "phecode_002                       0\n",
      "phecode_002-1                     0\n",
      "phecode_003                       0\n",
      "phecode_004                       0\n",
      "                               ... \n",
      "schizophrenia                     0\n",
      "sex                               0\n",
      "smoking_status                  293\n",
      "systemic_lupus_erythematosus      0\n",
      "systolic_blood_pressure         183\n",
      "Length: 1197, dtype: int64\n",
      "Missing columns: ['bmi', 'cholesterol', 'ethnic_background', 'hdl_cholesterol', 'smoking_status', 'systolic_blood_pressure']\n",
      "Dataset 0\n",
      "1  | systolic_blood_pressure | smoking_status | bmi | ethnic_background | cholesterol | hdl_cholesterol\n",
      "2  | systolic_blood_pressure | smoking_status | bmi | ethnic_background | cholesterol | hdl_cholesterol\n",
      "3  | systolic_blood_pressure | smoking_status | bmi | ethnic_background | cholesterol | hdl_cholesterol\n",
      "4  | systolic_blood_pressure | smoking_status | bmi | ethnic_background | cholesterol | hdl_cholesterol\n",
      "5  | systolic_blood_pressure | smoking_status | bmi | ethnic_background | cholesterol | hdl_cholesterol\n",
      "5 train fit imputer: save imputer\n",
      "5 train impute train\n",
      "Dataset 0\n",
      "1  | systolic_blood_pressure | smoking_status | bmi | ethnic_background | cholesterol | hdl_cholesterol\n",
      "2  | systolic_blood_pressure | smoking_status | bmi | ethnic_background | cholesterol | hdl_cholesterol\n",
      "3  | systolic_blood_pressure | smoking_status | bmi | ethnic_background | cholesterol | hdl_cholesterol\n",
      "4  | systolic_blood_pressure | smoking_status | bmi | ethnic_background | cholesterol | hdl_cholesterol\n",
      "5  | systolic_blood_pressure | smoking_status | bmi | ethnic_background | cholesterol | hdl_cholesterol\n",
      "5 train fit scaler\n",
      "5 valid read and merge data\n",
      "\u001b[2m\u001b[36m(scale_encode_save_feather pid=1642233)\u001b[0m 5 train scale train\n",
      "\u001b[2m\u001b[36m(scale_encode_save_feather pid=1642233)\u001b[0m 5 train onehotencode train\n",
      "5\u001b[2m\u001b[36m(scale_encode_save_feather pid=1642233)\u001b[0m 5 train save train valid impute valid\n",
      "\n",
      "Dataset 0\n",
      "1  | systolic_blood_pressure | smoking_status | bmi | ethnic_background | cholesterol | hdl_cholesterol\n",
      "2  | systolic_blood_pressure | smoking_status | bmi | ethnic_background | cholesterol | hdl_cholesterol\n",
      "3  | systolic_blood_pressure | smoking_status | bmi | ethnic_background | cholesterol | hdl_cholesterol\n",
      "4  | systolic_blood_pressure | smoking_status | bmi | ethnic_background | cholesterol | hdl_cholesterol\n",
      "5  | systolic_blood_pressure | smoking_status | bmi | ethnic_background | cholesterol | hdl_cholesterol\n",
      "5 test read and merge data\n",
      "\u001b[2m\u001b[36m(scale_encode_save_feather pid=1642233)\u001b[0m 5 valid scale valid\n",
      "\u001b[2m\u001b[36m(scale_encode_save_feather pid=1642233)\u001b[0m 5 valid onehotencode valid\n",
      "\u001b[2m\u001b[36m(scale_encode_save_feather pid=1642233)\u001b[0m 5 valid save valid\n",
      "5 test impute test\n",
      "Dataset 0\n",
      "1  | systolic_blood_pressure | smoking_status | bmi | ethnic_background | cholesterol | hdl_cholesterol\n",
      "2  | systolic_blood_pressure | smoking_status | bmi | ethnic_background | cholesterol | hdl_cholesterol\n",
      "3  | systolic_blood_pressure | smoking_status | bmi | ethnic_background | cholesterol | hdl_cholesterol\n",
      "4  | systolic_blood_pressure | smoking_status | bmi | ethnic_background | cholesterol | hdl_cholesterol\n",
      "5  | systolic_blood_pressure | smoking_status | bmi | ethnic_background | cholesterol | hdl_cholesterol\n",
      "\u001b[2m\u001b[36m(scale_encode_save_feather pid=1642233)\u001b[0m 5 test scale test\n"
     ]
    },
    {
     "data": {
      "application/vnd.jupyter.widget-view+json": {
       "model_id": "1651aa4785684eacaa7cc71f24597a54",
       "version_major": 2,
       "version_minor": 0
      },
      "text/plain": [
       "  0%|          | 0/3 [00:00<?, ?it/s]"
      ]
     },
     "metadata": {},
     "output_type": "display_data"
    },
    {
     "name": "stdout",
     "output_type": "stream",
     "text": [
      "6 train read and merge data\n",
      "\u001b[2m\u001b[36m(scale_encode_save_feather pid=1642233)\u001b[0m 5 test onehotencode test\n",
      "\u001b[2m\u001b[36m(scale_encode_save_feather pid=1642233)\u001b[0m 5 test save test\n",
      "6 train fit imputer\n",
      "6 train fit imputer: load hps\n",
      "6 train fit imputer: fit imputer\n",
      "OMOP_4306655                      0\n",
      "phecode_002                       0\n",
      "phecode_002-1                     0\n",
      "phecode_003                       0\n",
      "phecode_004                       0\n",
      "                               ... \n",
      "schizophrenia                     0\n",
      "sex                               0\n",
      "smoking_status                  299\n",
      "systemic_lupus_erythematosus      0\n",
      "systolic_blood_pressure         188\n",
      "Length: 1197, dtype: int64\n",
      "Missing columns: ['bmi', 'cholesterol', 'ethnic_background', 'hdl_cholesterol', 'smoking_status', 'systolic_blood_pressure']\n",
      "Dataset 0\n",
      "1  | systolic_blood_pressure | bmi | smoking_status | ethnic_background | cholesterol | hdl_cholesterol\n",
      "2  | systolic_blood_pressure | bmi | smoking_status | ethnic_background | cholesterol | hdl_cholesterol\n",
      "3  | systolic_blood_pressure | bmi | smoking_status | ethnic_background | cholesterol | hdl_cholesterol\n",
      "4  | systolic_blood_pressure | bmi | smoking_status | ethnic_background | cholesterol | hdl_cholesterol\n",
      "5  | systolic_blood_pressure | bmi | smoking_status | ethnic_background | cholesterol | hdl_cholesterol\n",
      "6 train fit imputer: save imputer\n",
      "6 train impute train\n",
      "Dataset 0\n",
      "1  | systolic_blood_pressure | bmi | smoking_status | ethnic_background | cholesterol | hdl_cholesterol\n",
      "2  | systolic_blood_pressure | bmi | smoking_status | ethnic_background | cholesterol | hdl_cholesterol\n",
      "3  | systolic_blood_pressure | bmi | smoking_status | ethnic_background | cholesterol | hdl_cholesterol\n",
      "4  | systolic_blood_pressure | bmi | smoking_status | ethnic_background | cholesterol | hdl_cholesterol\n",
      "5  | systolic_blood_pressure | bmi | smoking_status | ethnic_background | cholesterol | hdl_cholesterol\n",
      "6 train fit scaler\n",
      "6 valid read and merge data\n",
      "\u001b[2m\u001b[36m(scale_encode_save_feather pid=1642233)\u001b[0m 6 train scale train\n",
      "\u001b[2m\u001b[36m(scale_encode_save_feather pid=1642233)\u001b[0m 6 train onehotencode train\n",
      "\u001b[2m\u001b[36m(scale_encode_save_feather pid=1642233)\u001b[0m 6 train save train\n",
      "6 valid impute valid\n",
      "Dataset 0\n",
      "1  | systolic_blood_pressure | bmi | smoking_status | ethnic_background | cholesterol | hdl_cholesterol\n",
      "2  | systolic_blood_pressure | bmi | smoking_status | ethnic_background | cholesterol | hdl_cholesterol\n",
      "3  | systolic_blood_pressure | bmi | smoking_status | ethnic_background | cholesterol | hdl_cholesterol\n",
      "4  | systolic_blood_pressure | bmi | smoking_status | ethnic_background | cholesterol | hdl_cholesterol\n",
      "5  | systolic_blood_pressure | bmi | smoking_status | ethnic_background | cholesterol | hdl_cholesterol\n",
      "6 test read and merge data\n",
      "\u001b[2m\u001b[36m(scale_encode_save_feather pid=1642233)\u001b[0m 6 valid scale valid\n",
      "\u001b[2m\u001b[36m(scale_encode_save_feather pid=1642233)\u001b[0m 6 valid onehotencode valid\n",
      "\u001b[2m\u001b[36m(scale_encode_save_feather pid=1642233)\u001b[0m 6 valid save valid\n",
      "6 test impute test\n",
      "Dataset 0\n",
      "1  | systolic_blood_pressure | bmi | smoking_status | ethnic_background | cholesterol | hdl_cholesterol\n",
      "2  | systolic_blood_pressure | bmi | smoking_status | ethnic_background | cholesterol | hdl_cholesterol\n",
      "3  | systolic_blood_pressure | bmi | smoking_status | ethnic_background | cholesterol | hdl_cholesterol\n",
      "4  | systolic_blood_pressure | bmi | smoking_status | ethnic_background | cholesterol | hdl_cholesterol\n",
      "5  | systolic_blood_pressure | bmi | smoking_status | ethnic_background | cholesterol | hdl_cholesterol\n"
     ]
    },
    {
     "data": {
      "application/vnd.jupyter.widget-view+json": {
       "model_id": "3f3b8607f74141b1bed1cd7e74276bdd",
       "version_major": 2,
       "version_minor": 0
      },
      "text/plain": [
       "  0%|          | 0/3 [00:00<?, ?it/s]"
      ]
     },
     "metadata": {},
     "output_type": "display_data"
    },
    {
     "name": "stdout",
     "output_type": "stream",
     "text": [
      "\u001b[2m\u001b[36m(scale_encode_save_feather pid=1642233)\u001b[0m 6 test scale test\n",
      "\u001b[2m\u001b[36m(scale_encode_save_feather pid=1642233)\u001b[0m 6 test onehotencode test\n",
      "\u001b[2m\u001b[36m(scale_encode_save_feather pid=1642233)\u001b[0m 6 test save test\n",
      "7 train read and merge data\n",
      "7 train fit imputer\n",
      "7 train fit imputer: load hps\n",
      "7 train fit imputer: fit imputer\n",
      "OMOP_4306655                      0\n",
      "phecode_002                       0\n",
      "phecode_002-1                     0\n",
      "phecode_003                       0\n",
      "phecode_004                       0\n",
      "                               ... \n",
      "schizophrenia                     0\n",
      "sex                               0\n",
      "smoking_status                  291\n",
      "systemic_lupus_erythematosus      0\n",
      "systolic_blood_pressure         181\n",
      "Length: 1199, dtype: int64\n",
      "Missing columns: ['bmi', 'cholesterol', 'ethnic_background', 'hdl_cholesterol', 'smoking_status', 'systolic_blood_pressure']\n",
      "Dataset 0\n",
      "1  | systolic_blood_pressure | smoking_status | bmi | ethnic_background | cholesterol | hdl_cholesterol\n",
      "2  | systolic_blood_pressure | smoking_status | bmi | ethnic_background | cholesterol | hdl_cholesterol\n",
      "3  | systolic_blood_pressure | smoking_status | bmi | ethnic_background | cholesterol | hdl_cholesterol\n",
      "4  | systolic_blood_pressure | smoking_status | bmi | ethnic_background | cholesterol | hdl_cholesterol\n",
      "5  | systolic_blood_pressure | smoking_status | bmi | ethnic_background | cholesterol | hdl_cholesterol\n",
      "7 train fit imputer: save imputer\n",
      "7 train impute train\n",
      "Dataset 0\n",
      "1  | systolic_blood_pressure | smoking_status | bmi | ethnic_background | cholesterol | hdl_cholesterol\n",
      "2  | systolic_blood_pressure | smoking_status | bmi | ethnic_background | cholesterol | hdl_cholesterol\n",
      "3  | systolic_blood_pressure | smoking_status | bmi | ethnic_background | cholesterol | hdl_cholesterol\n",
      "4  | systolic_blood_pressure | smoking_status | bmi | ethnic_background | cholesterol | hdl_cholesterol\n",
      "5  | systolic_blood_pressure | smoking_status | bmi | ethnic_background | cholesterol | hdl_cholesterol\n",
      "7 train fit scaler\n",
      "7 valid read and merge data\n",
      "\u001b[2m\u001b[36m(scale_encode_save_feather pid=1642233)\u001b[0m 7 train scale train\n",
      "\u001b[2m\u001b[36m(scale_encode_save_feather pid=1642233)\u001b[0m 7 train onehotencode train\n",
      "7 valid impute valid\n",
      "\u001b[2m\u001b[36m(scale_encode_save_feather pid=1642233)\u001b[0m 7 train save train\n",
      "Dataset 0\n",
      "1  | systolic_blood_pressure | smoking_status | bmi | ethnic_background | cholesterol | hdl_cholesterol\n",
      "2  | systolic_blood_pressure | smoking_status | bmi | ethnic_background | cholesterol | hdl_cholesterol\n",
      "3  | systolic_blood_pressure | smoking_status | bmi | ethnic_background | cholesterol | hdl_cholesterol\n",
      "4  | systolic_blood_pressure | smoking_status | bmi | ethnic_background | cholesterol | hdl_cholesterol\n",
      "5  | systolic_blood_pressure | smoking_status | bmi | ethnic_background | cholesterol | hdl_cholesterol\n",
      "7 test read and merge data\n",
      "\u001b[2m\u001b[36m(scale_encode_save_feather pid=1642233)\u001b[0m 7 valid scale valid\n",
      "\u001b[2m\u001b[36m(scale_encode_save_feather pid=1642233)\u001b[0m 7 valid onehotencode valid\n",
      "\u001b[2m\u001b[36m(scale_encode_save_feather pid=1642233)\u001b[0m 7 valid save valid\n",
      "7 test impute test\n",
      "Dataset 0\n",
      "1  | systolic_blood_pressure | smoking_status | bmi | ethnic_background | cholesterol | hdl_cholesterol\n",
      "2  | systolic_blood_pressure | smoking_status | bmi | ethnic_background | cholesterol | hdl_cholesterol\n",
      "3  | systolic_blood_pressure | smoking_status | bmi | ethnic_background | cholesterol | hdl_cholesterol\n",
      "4  | systolic_blood_pressure | smoking_status | bmi | ethnic_background | cholesterol | hdl_cholesterol\n",
      "5  | systolic_blood_pressure | smoking_status | bmi | ethnic_background | cholesterol | hdl_cholesterol\n",
      "\u001b[2m\u001b[36m(scale_encode_save_feather pid=1642233)\u001b[0m 7 test scale test\n",
      "\u001b[2m\u001b[36m(scale_encode_save_feather pid=1642233)\u001b[0m 7 test onehotencode test\n",
      "\u001b[2m\u001b[36m(scale_encode_save_feather pid=1642233)\u001b[0m 7 test save test\n"
     ]
    },
    {
     "data": {
      "application/vnd.jupyter.widget-view+json": {
       "model_id": "8fef12f89b8e4fd0a144e5db179672b7",
       "version_major": 2,
       "version_minor": 0
      },
      "text/plain": [
       "  0%|          | 0/3 [00:00<?, ?it/s]"
      ]
     },
     "metadata": {},
     "output_type": "display_data"
    },
    {
     "name": "stdout",
     "output_type": "stream",
     "text": [
      "8 train read and merge data\n",
      "8 train fit imputer\n",
      "8 train fit imputer: load hps\n",
      "8 train fit imputer: fit imputer\n",
      "OMOP_4306655                      0\n",
      "phecode_002                       0\n",
      "phecode_002-1                     0\n",
      "phecode_003                       0\n",
      "phecode_004                       0\n",
      "                               ... \n",
      "schizophrenia                     0\n",
      "sex                               0\n",
      "smoking_status                  298\n",
      "systemic_lupus_erythematosus      0\n",
      "systolic_blood_pressure         179\n",
      "Length: 1199, dtype: int64\n",
      "Missing columns: ['bmi', 'cholesterol', 'ethnic_background', 'hdl_cholesterol', 'smoking_status', 'systolic_blood_pressure']\n",
      "Dataset 0\n",
      "1  | systolic_blood_pressure | bmi | smoking_status | ethnic_background | cholesterol | hdl_cholesterol\n",
      "2  | systolic_blood_pressure | bmi | smoking_status | ethnic_background | cholesterol | hdl_cholesterol\n",
      "3  | systolic_blood_pressure | bmi | smoking_status | ethnic_background | cholesterol | hdl_cholesterol\n",
      "4  | systolic_blood_pressure | bmi | smoking_status | ethnic_background | cholesterol | hdl_cholesterol\n",
      "5  | systolic_blood_pressure | bmi | smoking_status | ethnic_background | cholesterol | hdl_cholesterol\n",
      "8 train fit imputer: save imputer\n",
      "8 train impute train\n",
      "Dataset 0\n",
      "1  | systolic_blood_pressure | bmi | smoking_status | ethnic_background | cholesterol | hdl_cholesterol\n",
      "2  | systolic_blood_pressure | bmi | smoking_status | ethnic_background | cholesterol | hdl_cholesterol\n",
      "3  | systolic_blood_pressure | bmi | smoking_status | ethnic_background | cholesterol | hdl_cholesterol\n",
      "4  | systolic_blood_pressure | bmi | smoking_status | ethnic_background | cholesterol | hdl_cholesterol\n",
      "5  | systolic_blood_pressure | bmi | smoking_status | ethnic_background | cholesterol | hdl_cholesterol\n",
      "8 train fit scaler\n",
      "8 valid read and merge data\n",
      "\u001b[2m\u001b[36m(scale_encode_save_feather pid=1642233)\u001b[0m 8 train scale train\n",
      "\u001b[2m\u001b[36m(scale_encode_save_feather pid=1642233)\u001b[0m 8 train onehotencode train\n",
      "8\u001b[2m\u001b[36m(scale_encode_save_feather pid=1642233)\u001b[0m 8 train save train valid \n",
      "impute valid\n",
      "Dataset 0\n",
      "1  | systolic_blood_pressure | bmi | smoking_status | ethnic_background | cholesterol | hdl_cholesterol\n",
      "2  | systolic_blood_pressure | bmi | smoking_status | ethnic_background | cholesterol | hdl_cholesterol\n",
      "3  | systolic_blood_pressure | bmi | smoking_status | ethnic_background | cholesterol | hdl_cholesterol\n",
      "4  | systolic_blood_pressure | bmi | smoking_status | ethnic_background | cholesterol | hdl_cholesterol\n",
      "5  | systolic_blood_pressure | bmi | smoking_status | ethnic_background | cholesterol | hdl_cholesterol\n",
      "8 test read and merge data\n",
      "\u001b[2m\u001b[36m(scale_encode_save_feather pid=1642233)\u001b[0m 8 valid scale valid\n",
      "\u001b[2m\u001b[36m(scale_encode_save_feather pid=1642233)\u001b[0m 8 valid onehotencode valid\n",
      "\u001b[2m\u001b[36m(scale_encode_save_feather pid=1642233)\u001b[0m 8 valid save valid\n",
      "8 test impute test\n",
      "Dataset 0\n",
      "1  | systolic_blood_pressure | bmi | smoking_status | ethnic_background | cholesterol | hdl_cholesterol\n",
      "2  | systolic_blood_pressure | bmi | smoking_status | ethnic_background | cholesterol | hdl_cholesterol\n",
      "3  | systolic_blood_pressure | bmi | smoking_status | ethnic_background | cholesterol | hdl_cholesterol\n",
      "4  | systolic_blood_pressure | bmi | smoking_status | ethnic_background | cholesterol | hdl_cholesterol\n",
      "5  | systolic_blood_pressure | bmi | smoking_status | ethnic_background | cholesterol | hdl_cholesterol\n"
     ]
    },
    {
     "data": {
      "application/vnd.jupyter.widget-view+json": {
       "model_id": "39b215a2a6854d1e87ede77e69b0f544",
       "version_major": 2,
       "version_minor": 0
      },
      "text/plain": [
       "  0%|          | 0/3 [00:00<?, ?it/s]"
      ]
     },
     "metadata": {},
     "output_type": "display_data"
    },
    {
     "name": "stdout",
     "output_type": "stream",
     "text": [
      "9 train read and merge data\n",
      "\u001b[2m\u001b[36m(scale_encode_save_feather pid=1642233)\u001b[0m 8 test scale test\n",
      "\u001b[2m\u001b[36m(scale_encode_save_feather pid=1642233)\u001b[0m 8 test onehotencode test\n",
      "\u001b[2m\u001b[36m(scale_encode_save_feather pid=1642233)\u001b[0m 8 test save test\n",
      "9 train fit imputer\n",
      "9 train fit imputer: load hps\n",
      "9 train fit imputer: fit imputer\n",
      "OMOP_4306655                      0\n",
      "phecode_002                       0\n",
      "phecode_002-1                     0\n",
      "phecode_003                       0\n",
      "phecode_004                       0\n",
      "                               ... \n",
      "schizophrenia                     0\n",
      "sex                               0\n",
      "smoking_status                  296\n",
      "systemic_lupus_erythematosus      0\n",
      "systolic_blood_pressure         180\n",
      "Length: 1199, dtype: int64\n",
      "Missing columns: ['bmi', 'cholesterol', 'ethnic_background', 'hdl_cholesterol', 'smoking_status', 'systolic_blood_pressure']\n",
      "Dataset 0\n",
      "1  | systolic_blood_pressure | smoking_status | bmi | ethnic_background | cholesterol | hdl_cholesterol\n",
      "2  | systolic_blood_pressure | smoking_status | bmi | ethnic_background | cholesterol | hdl_cholesterol\n",
      "3  | systolic_blood_pressure | smoking_status | bmi | ethnic_background | cholesterol | hdl_cholesterol\n",
      "4  | systolic_blood_pressure | smoking_status | bmi | ethnic_background | cholesterol | hdl_cholesterol\n",
      "5  | systolic_blood_pressure | smoking_status | bmi | ethnic_background | cholesterol | hdl_cholesterol\n",
      "9 train fit imputer: save imputer\n",
      "9 train impute train\n",
      "Dataset 0\n",
      "1  | systolic_blood_pressure | smoking_status | bmi | ethnic_background | cholesterol | hdl_cholesterol\n",
      "2  | systolic_blood_pressure | smoking_status | bmi | ethnic_background | cholesterol | hdl_cholesterol\n",
      "3  | systolic_blood_pressure | smoking_status | bmi | ethnic_background | cholesterol | hdl_cholesterol\n",
      "4  | systolic_blood_pressure | smoking_status | bmi | ethnic_background | cholesterol | hdl_cholesterol\n",
      "5  | systolic_blood_pressure | smoking_status | bmi | ethnic_background | cholesterol | hdl_cholesterol\n",
      "9 train fit scaler\n",
      "9 valid read and merge data\n",
      "\u001b[2m\u001b[36m(scale_encode_save_feather pid=1642233)\u001b[0m 9 train scale train\n",
      "\u001b[2m\u001b[36m(scale_encode_save_feather pid=1642233)\u001b[0m 9 train onehotencode train\n",
      "\u001b[2m\u001b[36m(scale_encode_save_feather pid=1642233)\u001b[0m 9 train save train\n",
      "9 valid impute valid\n",
      "Dataset 0\n",
      "1  | systolic_blood_pressure | smoking_status | bmi | ethnic_background | cholesterol | hdl_cholesterol\n",
      "2  | systolic_blood_pressure | smoking_status | bmi | ethnic_background | cholesterol | hdl_cholesterol\n",
      "3  | systolic_blood_pressure | smoking_status | bmi | ethnic_background | cholesterol | hdl_cholesterol\n",
      "4  | systolic_blood_pressure | smoking_status | bmi | ethnic_background | cholesterol | hdl_cholesterol\n",
      "5  | systolic_blood_pressure | smoking_status | bmi | ethnic_background | cholesterol | hdl_cholesterol\n",
      "9 test read and merge data\n",
      "\u001b[2m\u001b[36m(scale_encode_save_feather pid=1642233)\u001b[0m 9 valid scale valid\n",
      "\u001b[2m\u001b[36m(scale_encode_save_feather pid=1642233)\u001b[0m 9 valid onehotencode valid\n",
      "\u001b[2m\u001b[36m(scale_encode_save_feather pid=1642233)\u001b[0m 9 valid save valid\n",
      "9 test impute test\n",
      "Dataset 0\n",
      "1  | systolic_blood_pressure | smoking_status | bmi | ethnic_background | cholesterol | hdl_cholesterol\n",
      "2  | systolic_blood_pressure | smoking_status | bmi | ethnic_background | cholesterol | hdl_cholesterol\n",
      "3  | systolic_blood_pressure | smoking_status | bmi | ethnic_background | cholesterol | hdl_cholesterol\n",
      "4  | systolic_blood_pressure | smoking_status | bmi | ethnic_background | cholesterol | hdl_cholesterol\n",
      "5  | systolic_blood_pressure | smoking_status | bmi | ethnic_background | cholesterol | hdl_cholesterol\n",
      "\u001b[2m\u001b[36m(scale_encode_save_feather pid=1642233)\u001b[0m 9 test scale test\n",
      "\u001b[2m\u001b[36m(scale_encode_save_feather pid=1642233)\u001b[0m 9 test onehotencode test\n"
     ]
    },
    {
     "data": {
      "application/vnd.jupyter.widget-view+json": {
       "model_id": "f7790f905c8c44aaa3b5f0bc2da9d686",
       "version_major": 2,
       "version_minor": 0
      },
      "text/plain": [
       "  0%|          | 0/3 [00:00<?, ?it/s]"
      ]
     },
     "metadata": {},
     "output_type": "display_data"
    },
    {
     "name": "stdout",
     "output_type": "stream",
     "text": [
      "10 train read and merge data\n",
      "\u001b[2m\u001b[36m(scale_encode_save_feather pid=1642233)\u001b[0m 9 test save test\n",
      "10 train fit imputer\n",
      "10 train fit imputer: load hps\n",
      "10 train fit imputer: fit imputer\n",
      "OMOP_4306655                      0\n",
      "phecode_002                       0\n",
      "phecode_002-1                     0\n",
      "phecode_003                       0\n",
      "phecode_004                       0\n",
      "                               ... \n",
      "schizophrenia                     0\n",
      "sex                               0\n",
      "smoking_status                  301\n",
      "systemic_lupus_erythematosus      0\n",
      "systolic_blood_pressure         188\n",
      "Length: 1199, dtype: int64\n",
      "Missing columns: ['bmi', 'cholesterol', 'ethnic_background', 'hdl_cholesterol', 'smoking_status', 'systolic_blood_pressure']\n",
      "Dataset 0\n",
      "1  | systolic_blood_pressure | bmi | smoking_status | ethnic_background | cholesterol | hdl_cholesterol\n",
      "2  | systolic_blood_pressure | bmi | smoking_status | ethnic_background | cholesterol | hdl_cholesterol\n",
      "3  | systolic_blood_pressure | bmi | smoking_status | ethnic_background | cholesterol | hdl_cholesterol\n",
      "4  | systolic_blood_pressure | bmi | smoking_status | ethnic_background | cholesterol | hdl_cholesterol\n",
      "5  | systolic_blood_pressure | bmi | smoking_status | ethnic_background | cholesterol | hdl_cholesterol\n",
      "10 train fit imputer: save imputer\n",
      "10 train impute train\n",
      "Dataset 0\n",
      "1  | systolic_blood_pressure | bmi | smoking_status | ethnic_background | cholesterol | hdl_cholesterol\n",
      "2  | systolic_blood_pressure | bmi | smoking_status | ethnic_background | cholesterol | hdl_cholesterol\n",
      "3  | systolic_blood_pressure | bmi | smoking_status | ethnic_background | cholesterol | hdl_cholesterol\n",
      "4  | systolic_blood_pressure | bmi | smoking_status | ethnic_background | cholesterol | hdl_cholesterol\n",
      "5  | systolic_blood_pressure | bmi | smoking_status | ethnic_background | cholesterol | hdl_cholesterol\n",
      "10 train fit scaler\n",
      "10 valid read and merge data\n",
      "\u001b[2m\u001b[36m(scale_encode_save_feather pid=1642233)\u001b[0m 10 train scale train\n",
      "\u001b[2m\u001b[36m(scale_encode_save_feather pid=1642233)\u001b[0m 10 train onehotencode train\n",
      "10 valid impute valid\n",
      "\u001b[2m\u001b[36m(scale_encode_save_feather pid=1642233)\u001b[0m 10 train save train\n",
      "Dataset 0\n",
      "1  | systolic_blood_pressure | bmi | smoking_status | ethnic_background | cholesterol | hdl_cholesterol\n",
      "2  | systolic_blood_pressure | bmi | smoking_status | ethnic_background | cholesterol | hdl_cholesterol\n",
      "3  | systolic_blood_pressure | bmi | smoking_status | ethnic_background | cholesterol | hdl_cholesterol\n",
      "4  | systolic_blood_pressure | bmi | smoking_status | ethnic_background | cholesterol | hdl_cholesterol\n",
      "5  | systolic_blood_pressure | bmi | smoking_status | ethnic_background | cholesterol | hdl_cholesterol\n",
      "10 test read and merge data\n",
      "\u001b[2m\u001b[36m(scale_encode_save_feather pid=1642233)\u001b[0m 10 valid scale valid\n",
      "\u001b[2m\u001b[36m(scale_encode_save_feather pid=1642233)\u001b[0m 10 valid onehotencode valid\n",
      "\u001b[2m\u001b[36m(scale_encode_save_feather pid=1642233)\u001b[0m 10 valid save valid\n",
      "10 test impute test\n",
      "Dataset 0\n",
      "1  | systolic_blood_pressure | bmi | smoking_status | ethnic_background | cholesterol | hdl_cholesterol\n",
      "2  | systolic_blood_pressure | bmi | smoking_status | ethnic_background | cholesterol | hdl_cholesterol\n",
      "3  | systolic_blood_pressure | bmi | smoking_status | ethnic_background | cholesterol | hdl_cholesterol\n",
      "4  | systolic_blood_pressure | bmi | smoking_status | ethnic_background | cholesterol | hdl_cholesterol\n",
      "5  | systolic_blood_pressure | bmi | smoking_status | ethnic_background | cholesterol | hdl_cholesterol\n",
      "\u001b[2m\u001b[36m(scale_encode_save_feather pid=1642233)\u001b[0m 10 test scale test\n",
      "\u001b[2m\u001b[36m(scale_encode_save_feather pid=1642233)\u001b[0m 10 test onehotencode test\n",
      "\u001b[2m\u001b[36m(scale_encode_save_feather pid=1642233)\u001b[0m 10 test save test\n"
     ]
    },
    {
     "data": {
      "application/vnd.jupyter.widget-view+json": {
       "model_id": "71fb719c9ce94154a1fbbaa5f7eb9f42",
       "version_major": 2,
       "version_minor": 0
      },
      "text/plain": [
       "  0%|          | 0/3 [00:00<?, ?it/s]"
      ]
     },
     "metadata": {},
     "output_type": "display_data"
    },
    {
     "name": "stdout",
     "output_type": "stream",
     "text": [
      "11 train read and merge data\n",
      "11 train fit imputer\n",
      "11 train fit imputer: load hps\n",
      "11 train fit imputer: fit imputer\n",
      "OMOP_4306655                      0\n",
      "phecode_002                       0\n",
      "phecode_002-1                     0\n",
      "phecode_003                       0\n",
      "phecode_004                       0\n",
      "                               ... \n",
      "schizophrenia                     0\n",
      "sex                               0\n",
      "smoking_status                  304\n",
      "systemic_lupus_erythematosus      0\n",
      "systolic_blood_pressure         184\n",
      "Length: 1199, dtype: int64\n",
      "Missing columns: ['bmi', 'cholesterol', 'ethnic_background', 'hdl_cholesterol', 'smoking_status', 'systolic_blood_pressure']\n",
      "Dataset 0\n",
      "1  | systolic_blood_pressure | bmi | smoking_status | ethnic_background | cholesterol | hdl_cholesterol\n",
      "2  | systolic_blood_pressure | bmi | smoking_status | ethnic_background | cholesterol | hdl_cholesterol\n",
      "3  | systolic_blood_pressure | bmi | smoking_status | ethnic_background | cholesterol | hdl_cholesterol\n",
      "4  | systolic_blood_pressure | bmi | smoking_status | ethnic_background | cholesterol | hdl_cholesterol\n",
      "5  | systolic_blood_pressure | bmi | smoking_status | ethnic_background | cholesterol | hdl_cholesterol\n",
      "11 train fit imputer: save imputer\n",
      "11 train impute train\n",
      "Dataset 0\n",
      "1  | systolic_blood_pressure | bmi | smoking_status | ethnic_background | cholesterol | hdl_cholesterol\n",
      "2  | systolic_blood_pressure | bmi | smoking_status | ethnic_background | cholesterol | hdl_cholesterol\n",
      "3  | systolic_blood_pressure | bmi | smoking_status | ethnic_background | cholesterol | hdl_cholesterol\n",
      "4  | systolic_blood_pressure | bmi | smoking_status | ethnic_background | cholesterol | hdl_cholesterol\n",
      "5  | systolic_blood_pressure | bmi | smoking_status | ethnic_background | cholesterol | hdl_cholesterol\n",
      "11 train fit scaler\n",
      "11 valid read and merge data\n",
      "\u001b[2m\u001b[36m(scale_encode_save_feather pid=1642233)\u001b[0m 11 train scale train\n",
      "\u001b[2m\u001b[36m(scale_encode_save_feather pid=1642233)\u001b[0m 11 train onehotencode train\n",
      "11 valid impute valid\n",
      "\u001b[2m\u001b[36m(scale_encode_save_feather pid=1642233)\u001b[0m 11 train save train\n",
      "Dataset 0\n",
      "1  | systolic_blood_pressure | bmi | smoking_status | ethnic_background | cholesterol | hdl_cholesterol\n",
      "2  | systolic_blood_pressure | bmi | smoking_status | ethnic_background | cholesterol | hdl_cholesterol\n",
      "3  | systolic_blood_pressure | bmi | smoking_status | ethnic_background | cholesterol | hdl_cholesterol\n",
      "4  | systolic_blood_pressure | bmi | smoking_status | ethnic_background | cholesterol | hdl_cholesterol\n",
      "5  | systolic_blood_pressure | bmi | smoking_status | ethnic_background | cholesterol | hdl_cholesterol\n",
      "11 test read and merge data\n",
      "\u001b[2m\u001b[36m(scale_encode_save_feather pid=1642233)\u001b[0m 11 valid scale valid\n",
      "\u001b[2m\u001b[36m(scale_encode_save_feather pid=1642233)\u001b[0m 11 valid onehotencode valid\n",
      "\u001b[2m\u001b[36m(scale_encode_save_feather pid=1642233)\u001b[0m 11 valid save valid\n",
      "11 test impute test\n",
      "Dataset 0\n",
      "1  | systolic_blood_pressure | bmi | smoking_status | ethnic_background | cholesterol | hdl_cholesterol\n",
      "2  | systolic_blood_pressure | bmi | smoking_status | ethnic_background | cholesterol | hdl_cholesterol\n",
      "3  | systolic_blood_pressure | bmi | smoking_status | ethnic_background | cholesterol | hdl_cholesterol\n",
      "4  | systolic_blood_pressure | bmi | smoking_status | ethnic_background | cholesterol | hdl_cholesterol\n",
      "5  | systolic_blood_pressure | bmi | smoking_status | ethnic_background | cholesterol | hdl_cholesterol\n",
      "\u001b[2m\u001b[36m(scale_encode_save_feather pid=1642233)\u001b[0m 11 test scale test\n",
      "\u001b[2m\u001b[36m(scale_encode_save_feather pid=1642233)\u001b[0m 11 test onehotencode test\n",
      "\u001b[2m\u001b[36m(scale_encode_save_feather pid=1642233)\u001b[0m 11 test save test\n"
     ]
    },
    {
     "data": {
      "application/vnd.jupyter.widget-view+json": {
       "model_id": "57e74622edf84728ab6fb431aebda6a0",
       "version_major": 2,
       "version_minor": 0
      },
      "text/plain": [
       "  0%|          | 0/3 [00:00<?, ?it/s]"
      ]
     },
     "metadata": {},
     "output_type": "display_data"
    },
    {
     "name": "stdout",
     "output_type": "stream",
     "text": [
      "12 train read and merge data\n",
      "12 train fit imputer\n",
      "12 train fit imputer: load hps\n",
      "12 train fit imputer: fit imputer\n",
      "OMOP_4306655                      0\n",
      "phecode_002                       0\n",
      "phecode_002-1                     0\n",
      "phecode_003                       0\n",
      "phecode_004                       0\n",
      "                               ... \n",
      "schizophrenia                     0\n",
      "sex                               0\n",
      "smoking_status                  310\n",
      "systemic_lupus_erythematosus      0\n",
      "systolic_blood_pressure         181\n",
      "Length: 1199, dtype: int64\n",
      "Missing columns: ['bmi', 'cholesterol', 'ethnic_background', 'hdl_cholesterol', 'smoking_status', 'systolic_blood_pressure']\n",
      "Dataset 0\n",
      "1  | systolic_blood_pressure | bmi | smoking_status | ethnic_background | cholesterol | hdl_cholesterol\n",
      "2  | systolic_blood_pressure | bmi | smoking_status | ethnic_background | cholesterol | hdl_cholesterol\n",
      "3  | systolic_blood_pressure | bmi | smoking_status | ethnic_background | cholesterol | hdl_cholesterol\n",
      "4  | systolic_blood_pressure | bmi | smoking_status | ethnic_background | cholesterol | hdl_cholesterol\n",
      "5  | systolic_blood_pressure | bmi | smoking_status | ethnic_background | cholesterol | hdl_cholesterol\n",
      "12 train fit imputer: save imputer\n",
      "12 train impute train\n",
      "Dataset 0\n",
      "1  | systolic_blood_pressure | bmi | smoking_status | ethnic_background | cholesterol | hdl_cholesterol\n",
      "2  | systolic_blood_pressure | bmi | smoking_status | ethnic_background | cholesterol | hdl_cholesterol\n",
      "3  | systolic_blood_pressure | bmi | smoking_status | ethnic_background | cholesterol | hdl_cholesterol\n",
      "4  | systolic_blood_pressure | bmi | smoking_status | ethnic_background | cholesterol | hdl_cholesterol\n",
      "5  | systolic_blood_pressure | bmi | smoking_status | ethnic_background | cholesterol | hdl_cholesterol\n",
      "12 train fit scaler\n",
      "12 valid read and merge data\n",
      "\u001b[2m\u001b[36m(scale_encode_save_feather pid=1642233)\u001b[0m 12 train scale train\n",
      "\u001b[2m\u001b[36m(scale_encode_save_feather pid=1642233)\u001b[0m 12 train onehotencode train\n",
      "\u001b[2m\u001b[36m(scale_encode_save_feather pid=1642233)\u001b[0m 12 train save train\n",
      "12 valid impute valid\n",
      "Dataset 0\n",
      "1  | systolic_blood_pressure | bmi | smoking_status | ethnic_background | cholesterol | hdl_cholesterol\n",
      "2  | systolic_blood_pressure | bmi | smoking_status | ethnic_background | cholesterol | hdl_cholesterol\n",
      "3  | systolic_blood_pressure | bmi | smoking_status | ethnic_background | cholesterol | hdl_cholesterol\n",
      "4  | systolic_blood_pressure | bmi | smoking_status | ethnic_background | cholesterol | hdl_cholesterol\n",
      "5  | systolic_blood_pressure | bmi | smoking_status | ethnic_background | cholesterol | hdl_cholesterol\n",
      "12 test read and merge data\n",
      "\u001b[2m\u001b[36m(scale_encode_save_feather pid=1642233)\u001b[0m 12 valid scale valid\n",
      "\u001b[2m\u001b[36m(scale_encode_save_feather pid=1642233)\u001b[0m 12 valid onehotencode valid\n",
      "\u001b[2m\u001b[36m(scale_encode_save_feather pid=1642233)\u001b[0m 12 valid save valid\n",
      "12 test impute test\n",
      "Dataset 0\n",
      "1  | systolic_blood_pressure | bmi | smoking_status | ethnic_background | cholesterol | hdl_cholesterol\n",
      "2  | systolic_blood_pressure | bmi | smoking_status | ethnic_background | cholesterol | hdl_cholesterol\n",
      "3  | systolic_blood_pressure | bmi | smoking_status | ethnic_background | cholesterol | hdl_cholesterol\n",
      "4  | systolic_blood_pressure | bmi | smoking_status | ethnic_background | cholesterol | hdl_cholesterol\n",
      "5  | systolic_blood_pressure | bmi | smoking_status | ethnic_background | cholesterol | hdl_cholesterol\n"
     ]
    },
    {
     "data": {
      "application/vnd.jupyter.widget-view+json": {
       "model_id": "aa9a003ca22c47ddb7b49d2ce9d80a2a",
       "version_major": 2,
       "version_minor": 0
      },
      "text/plain": [
       "  0%|          | 0/3 [00:00<?, ?it/s]"
      ]
     },
     "metadata": {},
     "output_type": "display_data"
    },
    {
     "name": "stdout",
     "output_type": "stream",
     "text": [
      "13 train read and merge data\n",
      "\u001b[2m\u001b[36m(scale_encode_save_feather pid=1642233)\u001b[0m 12 test scale test\n",
      "\u001b[2m\u001b[36m(scale_encode_save_feather pid=1642233)\u001b[0m 12 test onehotencode test\n",
      "\u001b[2m\u001b[36m(scale_encode_save_feather pid=1642233)\u001b[0m 12 test save test\n",
      "13 train fit imputer\n",
      "13 train fit imputer: load hps\n",
      "13 train fit imputer: fit imputer\n",
      "OMOP_4306655                      0\n",
      "phecode_002                       0\n",
      "phecode_002-1                     0\n",
      "phecode_003                       0\n",
      "phecode_004                       0\n",
      "                               ... \n",
      "schizophrenia                     0\n",
      "sex                               0\n",
      "smoking_status                  306\n",
      "systemic_lupus_erythematosus      0\n",
      "systolic_blood_pressure         185\n",
      "Length: 1199, dtype: int64\n",
      "Missing columns: ['bmi', 'cholesterol', 'ethnic_background', 'hdl_cholesterol', 'smoking_status', 'systolic_blood_pressure']\n",
      "Dataset 0\n",
      "1  | systolic_blood_pressure | bmi | smoking_status | ethnic_background | cholesterol | hdl_cholesterol\n",
      "2  | systolic_blood_pressure | bmi | smoking_status | ethnic_background | cholesterol | hdl_cholesterol\n",
      "3  | systolic_blood_pressure | bmi | smoking_status | ethnic_background | cholesterol | hdl_cholesterol\n",
      "4  | systolic_blood_pressure | bmi | smoking_status | ethnic_background | cholesterol | hdl_cholesterol\n",
      "5  | systolic_blood_pressure | bmi | smoking_status | ethnic_background | cholesterol | hdl_cholesterol\n",
      "13 train fit imputer: save imputer\n",
      "13 train impute train\n",
      "Dataset 0\n",
      "1  | systolic_blood_pressure | bmi | smoking_status | ethnic_background | cholesterol | hdl_cholesterol\n",
      "2  | systolic_blood_pressure | bmi | smoking_status | ethnic_background | cholesterol | hdl_cholesterol\n",
      "3  | systolic_blood_pressure | bmi | smoking_status | ethnic_background | cholesterol | hdl_cholesterol\n",
      "4  | systolic_blood_pressure | bmi | smoking_status | ethnic_background | cholesterol | hdl_cholesterol\n",
      "5  | systolic_blood_pressure | bmi | smoking_status | ethnic_background | cholesterol | hdl_cholesterol\n",
      "13 train fit scaler\n",
      "13 valid read and merge data\n",
      "\u001b[2m\u001b[36m(scale_encode_save_feather pid=1642233)\u001b[0m 13 train scale train\n",
      "\u001b[2m\u001b[36m(scale_encode_save_feather pid=1642233)\u001b[0m 13 train onehotencode train\n",
      "\u001b[2m\u001b[36m(scale_encode_save_feather pid=1642233)\u001b[0m 13 train save train\n",
      "13 valid impute valid\n",
      "Dataset 0\n",
      "1  | systolic_blood_pressure | bmi | smoking_status | ethnic_background | cholesterol | hdl_cholesterol\n",
      "2  | systolic_blood_pressure | bmi | smoking_status | ethnic_background | cholesterol | hdl_cholesterol\n",
      "3  | systolic_blood_pressure | bmi | smoking_status | ethnic_background | cholesterol | hdl_cholesterol\n",
      "4  | systolic_blood_pressure | bmi | smoking_status | ethnic_background | cholesterol | hdl_cholesterol\n",
      "5  | systolic_blood_pressure | bmi | smoking_status | ethnic_background | cholesterol | hdl_cholesterol\n",
      "13 test read and merge data\n",
      "\u001b[2m\u001b[36m(scale_encode_save_feather pid=1642233)\u001b[0m 13 valid scale valid\n",
      "\u001b[2m\u001b[36m(scale_encode_save_feather pid=1642233)\u001b[0m 13 valid onehotencode valid\n",
      "\u001b[2m\u001b[36m(scale_encode_save_feather pid=1642233)\u001b[0m 13 valid save valid\n",
      "13 test impute test\n",
      "Dataset 0\n",
      "1  | systolic_blood_pressure | bmi | smoking_status | ethnic_background | cholesterol | hdl_cholesterol\n",
      "2  | systolic_blood_pressure | bmi | smoking_status | ethnic_background | cholesterol | hdl_cholesterol\n",
      "3  | systolic_blood_pressure | bmi | smoking_status | ethnic_background | cholesterol | hdl_cholesterol\n",
      "4  | systolic_blood_pressure | bmi | smoking_status | ethnic_background | cholesterol | hdl_cholesterol\n",
      "5  | systolic_blood_pressure | bmi | smoking_status | ethnic_background | cholesterol | hdl_cholesterol\n",
      "\u001b[2m\u001b[36m(scale_encode_save_feather pid=1642233)\u001b[0m 13 test scale test\n",
      "\u001b[2m\u001b[36m(scale_encode_save_feather pid=1642233)\u001b[0m 13 test onehotencode test\n",
      "\u001b[2m\u001b[36m(scale_encode_save_feather pid=1642233)\u001b[0m 13 test save test\n"
     ]
    },
    {
     "data": {
      "application/vnd.jupyter.widget-view+json": {
       "model_id": "58018fd6d33249859dc9d99ede3b1997",
       "version_major": 2,
       "version_minor": 0
      },
      "text/plain": [
       "  0%|          | 0/3 [00:00<?, ?it/s]"
      ]
     },
     "metadata": {},
     "output_type": "display_data"
    },
    {
     "name": "stdout",
     "output_type": "stream",
     "text": [
      "14 train read and merge data\n",
      "14 train fit imputer\n",
      "14 train fit imputer: load hps\n",
      "14 train fit imputer: fit imputer\n",
      "OMOP_4306655                      0\n",
      "phecode_002                       0\n",
      "phecode_002-1                     0\n",
      "phecode_003                       0\n",
      "phecode_004                       0\n",
      "                               ... \n",
      "schizophrenia                     0\n",
      "sex                               0\n",
      "smoking_status                  307\n",
      "systemic_lupus_erythematosus      0\n",
      "systolic_blood_pressure         186\n",
      "Length: 1199, dtype: int64\n",
      "Missing columns: ['bmi', 'cholesterol', 'ethnic_background', 'hdl_cholesterol', 'smoking_status', 'systolic_blood_pressure']\n",
      "Dataset 0\n",
      "1  | systolic_blood_pressure | bmi | smoking_status | ethnic_background | cholesterol | hdl_cholesterol\n",
      "2  | systolic_blood_pressure | bmi | smoking_status | ethnic_background | cholesterol | hdl_cholesterol\n",
      "3  | systolic_blood_pressure | bmi | smoking_status | ethnic_background | cholesterol | hdl_cholesterol\n",
      "4  | systolic_blood_pressure | bmi | smoking_status | ethnic_background | cholesterol | hdl_cholesterol\n",
      "5  | systolic_blood_pressure | bmi | smoking_status | ethnic_background | cholesterol | hdl_cholesterol\n",
      "14 train fit imputer: save imputer\n",
      "14 train impute train\n",
      "Dataset 0\n",
      "1  | systolic_blood_pressure | bmi | smoking_status | ethnic_background | cholesterol | hdl_cholesterol\n",
      "2  | systolic_blood_pressure | bmi | smoking_status | ethnic_background | cholesterol | hdl_cholesterol\n",
      "3  | systolic_blood_pressure | bmi | smoking_status | ethnic_background | cholesterol | hdl_cholesterol\n",
      "4  | systolic_blood_pressure | bmi | smoking_status | ethnic_background | cholesterol | hdl_cholesterol\n",
      "5  | systolic_blood_pressure | bmi | smoking_status | ethnic_background | cholesterol | hdl_cholesterol\n",
      "14 train fit scaler\n",
      "14 valid read and merge data\n",
      "\u001b[2m\u001b[36m(scale_encode_save_feather pid=1642233)\u001b[0m 14 train scale train\n",
      "\u001b[2m\u001b[36m(scale_encode_save_feather pid=1642233)\u001b[0m 14 train onehotencode train\n",
      "14 valid impute valid\n",
      "\u001b[2m\u001b[36m(scale_encode_save_feather pid=1642233)\u001b[0m 14 train save train\n",
      "Dataset 0\n",
      "1  | systolic_blood_pressure | bmi | smoking_status | ethnic_background | cholesterol | hdl_cholesterol\n",
      "2  | systolic_blood_pressure | bmi | smoking_status | ethnic_background | cholesterol | hdl_cholesterol\n",
      "3  | systolic_blood_pressure | bmi | smoking_status | ethnic_background | cholesterol | hdl_cholesterol\n",
      "4  | systolic_blood_pressure | bmi | smoking_status | ethnic_background | cholesterol | hdl_cholesterol\n",
      "5  | systolic_blood_pressure | bmi | smoking_status | ethnic_background | cholesterol | hdl_cholesterol\n",
      "14 test read and merge data\n",
      "\u001b[2m\u001b[36m(scale_encode_save_feather pid=1642233)\u001b[0m 14 valid scale valid\n",
      "\u001b[2m\u001b[36m(scale_encode_save_feather pid=1642233)\u001b[0m 14 valid onehotencode valid\n",
      "\u001b[2m\u001b[36m(scale_encode_save_feather pid=1642233)\u001b[0m 14 valid save valid\n",
      "14 test impute test\n",
      "Dataset 0\n",
      "1  | systolic_blood_pressure | bmi | smoking_status | ethnic_background | cholesterol | hdl_cholesterol\n",
      "2  | systolic_blood_pressure | bmi | smoking_status | ethnic_background | cholesterol | hdl_cholesterol\n",
      "3  | systolic_blood_pressure | bmi | smoking_status | ethnic_background | cholesterol | hdl_cholesterol\n",
      "4  | systolic_blood_pressure | bmi | smoking_status | ethnic_background | cholesterol | hdl_cholesterol\n",
      "5  | systolic_blood_pressure | bmi | smoking_status | ethnic_background | cholesterol | hdl_cholesterol\n",
      "\u001b[2m\u001b[36m(scale_encode_save_feather pid=1642233)\u001b[0m 14 test scale test\n",
      "\u001b[2m\u001b[36m(scale_encode_save_feather pid=1642233)\u001b[0m 14 test onehotencode test\n"
     ]
    },
    {
     "data": {
      "application/vnd.jupyter.widget-view+json": {
       "model_id": "5dc155ad8a634c2a8596abb2faf9c9b5",
       "version_major": 2,
       "version_minor": 0
      },
      "text/plain": [
       "  0%|          | 0/3 [00:00<?, ?it/s]"
      ]
     },
     "metadata": {},
     "output_type": "display_data"
    },
    {
     "name": "stdout",
     "output_type": "stream",
     "text": [
      "15 train read and merge data\n",
      "\u001b[2m\u001b[36m(scale_encode_save_feather pid=1642233)\u001b[0m 14 test save test\n",
      "15 train fit imputer\n",
      "15 train fit imputer: load hps\n",
      "15 train fit imputer: fit imputer\n",
      "OMOP_4306655                      0\n",
      "phecode_002                       0\n",
      "phecode_002-1                     0\n",
      "phecode_003                       0\n",
      "phecode_004                       0\n",
      "                               ... \n",
      "schizophrenia                     0\n",
      "sex                               0\n",
      "smoking_status                  311\n",
      "systemic_lupus_erythematosus      0\n",
      "systolic_blood_pressure         185\n",
      "Length: 1199, dtype: int64\n",
      "Missing columns: ['bmi', 'cholesterol', 'ethnic_background', 'hdl_cholesterol', 'smoking_status', 'systolic_blood_pressure']\n",
      "Dataset 0\n",
      "1  | systolic_blood_pressure | bmi | smoking_status | ethnic_background | cholesterol | hdl_cholesterol\n",
      "2  | systolic_blood_pressure | bmi | smoking_status | ethnic_background | cholesterol | hdl_cholesterol\n",
      "3  | systolic_blood_pressure | bmi | smoking_status | ethnic_background | cholesterol | hdl_cholesterol\n",
      "4  | systolic_blood_pressure | bmi | smoking_status | ethnic_background | cholesterol | hdl_cholesterol\n",
      "5  | systolic_blood_pressure | bmi | smoking_status | ethnic_background | cholesterol | hdl_cholesterol\n",
      "15 train fit imputer: save imputer\n",
      "15 train impute train\n",
      "Dataset 0\n",
      "1  | systolic_blood_pressure | bmi | smoking_status | ethnic_background | cholesterol | hdl_cholesterol\n",
      "2  | systolic_blood_pressure | bmi | smoking_status | ethnic_background | cholesterol | hdl_cholesterol\n",
      "3  | systolic_blood_pressure | bmi | smoking_status | ethnic_background | cholesterol | hdl_cholesterol\n",
      "4  | systolic_blood_pressure | bmi | smoking_status | ethnic_background | cholesterol | hdl_cholesterol\n",
      "5  | systolic_blood_pressure | bmi | smoking_status | ethnic_background | cholesterol | hdl_cholesterol\n",
      "15 train fit scaler\n",
      "15 valid read and merge data\n",
      "\u001b[2m\u001b[36m(scale_encode_save_feather pid=1642233)\u001b[0m 15 train scale train\n",
      "\u001b[2m\u001b[36m(scale_encode_save_feather pid=1642233)\u001b[0m 15 train onehotencode train\n",
      "15 valid impute valid\n",
      "\u001b[2m\u001b[36m(scale_encode_save_feather pid=1642233)\u001b[0m 15 train save train\n",
      "Dataset 0\n",
      "1  | systolic_blood_pressure | bmi | smoking_status | ethnic_background | cholesterol | hdl_cholesterol\n",
      "2  | systolic_blood_pressure | bmi | smoking_status | ethnic_background | cholesterol | hdl_cholesterol\n",
      "3  | systolic_blood_pressure | bmi | smoking_status | ethnic_background | cholesterol | hdl_cholesterol\n",
      "4  | systolic_blood_pressure | bmi | smoking_status | ethnic_background | cholesterol | hdl_cholesterol\n",
      "5  | systolic_blood_pressure | bmi | smoking_status | ethnic_background | cholesterol | hdl_cholesterol\n",
      "15 test read and merge data\n",
      "\u001b[2m\u001b[36m(scale_encode_save_feather pid=1642233)\u001b[0m 15 valid scale valid\n",
      "\u001b[2m\u001b[36m(scale_encode_save_feather pid=1642233)\u001b[0m 15 valid onehotencode valid\n",
      "\u001b[2m\u001b[36m(scale_encode_save_feather pid=1642233)\u001b[0m 15 valid save valid\n",
      "15 test impute test\n",
      "Dataset 0\n",
      "1  | systolic_blood_pressure | bmi | smoking_status | ethnic_background | cholesterol | hdl_cholesterol\n",
      "2  | systolic_blood_pressure | bmi | smoking_status | ethnic_background | cholesterol | hdl_cholesterol\n",
      "3  | systolic_blood_pressure | bmi | smoking_status | ethnic_background | cholesterol | hdl_cholesterol\n",
      "4  | systolic_blood_pressure | bmi | smoking_status | ethnic_background | cholesterol | hdl_cholesterol\n",
      "5  | systolic_blood_pressure | bmi | smoking_status | ethnic_background | cholesterol | hdl_cholesterol\n"
     ]
    },
    {
     "data": {
      "application/vnd.jupyter.widget-view+json": {
       "model_id": "81efe194bcf24a32a3e43e68e9b4eaf8",
       "version_major": 2,
       "version_minor": 0
      },
      "text/plain": [
       "  0%|          | 0/3 [00:00<?, ?it/s]"
      ]
     },
     "metadata": {},
     "output_type": "display_data"
    },
    {
     "name": "stdout",
     "output_type": "stream",
     "text": [
      "16 train read and merge data\n",
      "\u001b[2m\u001b[36m(scale_encode_save_feather pid=1642233)\u001b[0m 15 test scale test\n",
      "\u001b[2m\u001b[36m(scale_encode_save_feather pid=1642233)\u001b[0m 15 test onehotencode test\n",
      "\u001b[2m\u001b[36m(scale_encode_save_feather pid=1642233)\u001b[0m 15 test save test\n",
      "16 train fit imputer\n",
      "16 train fit imputer: load hps\n",
      "16 train fit imputer: fit imputer\n",
      "OMOP_4306655                      0\n",
      "phecode_002                       0\n",
      "phecode_002-1                     0\n",
      "phecode_003                       0\n",
      "phecode_004                       0\n",
      "                               ... \n",
      "schizophrenia                     0\n",
      "sex                               0\n",
      "smoking_status                  307\n",
      "systemic_lupus_erythematosus      0\n",
      "systolic_blood_pressure         189\n",
      "Length: 1197, dtype: int64\n",
      "Missing columns: ['bmi', 'cholesterol', 'ethnic_background', 'hdl_cholesterol', 'smoking_status', 'systolic_blood_pressure']\n",
      "Dataset 0\n",
      "1  | systolic_blood_pressure | bmi | smoking_status | ethnic_background | cholesterol | hdl_cholesterol\n",
      "2  | systolic_blood_pressure | bmi | smoking_status | ethnic_background | cholesterol | hdl_cholesterol\n",
      "3  | systolic_blood_pressure | bmi | smoking_status | ethnic_background | cholesterol | hdl_cholesterol\n",
      "4  | systolic_blood_pressure | bmi | smoking_status | ethnic_background | cholesterol | hdl_cholesterol\n",
      "5  | systolic_blood_pressure | bmi | smoking_status | ethnic_background | cholesterol | hdl_cholesterol\n",
      "16 train fit imputer: save imputer\n",
      "16 train impute train\n",
      "Dataset 0\n",
      "1  | systolic_blood_pressure | bmi | smoking_status | ethnic_background | cholesterol | hdl_cholesterol\n",
      "2  | systolic_blood_pressure | bmi | smoking_status | ethnic_background | cholesterol | hdl_cholesterol\n",
      "3  | systolic_blood_pressure | bmi | smoking_status | ethnic_background | cholesterol | hdl_cholesterol\n",
      "4  | systolic_blood_pressure | bmi | smoking_status | ethnic_background | cholesterol | hdl_cholesterol\n",
      "5  | systolic_blood_pressure | bmi | smoking_status | ethnic_background | cholesterol | hdl_cholesterol\n",
      "16 train fit scaler\n",
      "16 valid read and merge data\n",
      "\u001b[2m\u001b[36m(scale_encode_save_feather pid=1642233)\u001b[0m 16 train scale train\n",
      "\u001b[2m\u001b[36m(scale_encode_save_feather pid=1642233)\u001b[0m 16 train onehotencode train\n",
      "16 valid impute valid\n",
      "\u001b[2m\u001b[36m(scale_encode_save_feather pid=1642233)\u001b[0m 16 train save train\n",
      "Dataset 0\n",
      "1  | systolic_blood_pressure | bmi | smoking_status | ethnic_background | cholesterol | hdl_cholesterol\n",
      "2  | systolic_blood_pressure | bmi | smoking_status | ethnic_background | cholesterol | hdl_cholesterol\n",
      "3  | systolic_blood_pressure | bmi | smoking_status | ethnic_background | cholesterol | hdl_cholesterol\n",
      "4  | systolic_blood_pressure | bmi | smoking_status | ethnic_background | cholesterol | hdl_cholesterol\n",
      "5  | systolic_blood_pressure | bmi | smoking_status | ethnic_background | cholesterol | hdl_cholesterol\n",
      "16 test read and merge data\n",
      "\u001b[2m\u001b[36m(scale_encode_save_feather pid=1642233)\u001b[0m 16 valid scale valid\n",
      "\u001b[2m\u001b[36m(scale_encode_save_feather pid=1642233)\u001b[0m 16 valid onehotencode valid\n",
      "\u001b[2m\u001b[36m(scale_encode_save_feather pid=1642233)\u001b[0m 16 valid save valid\n",
      "16 test impute test\n",
      "Dataset 0\n",
      "1  | systolic_blood_pressure | bmi | smoking_status | ethnic_background | cholesterol | hdl_cholesterol\n",
      "2  | systolic_blood_pressure | bmi | smoking_status | ethnic_background | cholesterol | hdl_cholesterol\n",
      "3  | systolic_blood_pressure | bmi | smoking_status | ethnic_background | cholesterol | hdl_cholesterol\n",
      "4  | systolic_blood_pressure | bmi | smoking_status | ethnic_background | cholesterol | hdl_cholesterol\n",
      "5  | systolic_blood_pressure | bmi | smoking_status | ethnic_background | cholesterol | hdl_cholesterol\n",
      "\u001b[2m\u001b[36m(scale_encode_save_feather pid=1642233)\u001b[0m 16 test scale test\n"
     ]
    },
    {
     "data": {
      "application/vnd.jupyter.widget-view+json": {
       "model_id": "cb049ea8521e4fc39bfa0d1ef950ddab",
       "version_major": 2,
       "version_minor": 0
      },
      "text/plain": [
       "  0%|          | 0/3 [00:00<?, ?it/s]"
      ]
     },
     "metadata": {},
     "output_type": "display_data"
    },
    {
     "name": "stdout",
     "output_type": "stream",
     "text": [
      "17 train read and merge data\n",
      "\u001b[2m\u001b[36m(scale_encode_save_feather pid=1642233)\u001b[0m 16 test onehotencode test\n",
      "\u001b[2m\u001b[36m(scale_encode_save_feather pid=1642233)\u001b[0m 16 test save test\n",
      "17 train fit imputer\n",
      "17 train fit imputer: load hps\n",
      "17 train fit imputer: fit imputer\n",
      "OMOP_4306655                      0\n",
      "phecode_002                       0\n",
      "phecode_002-1                     0\n",
      "phecode_003                       0\n",
      "phecode_004                       0\n",
      "                               ... \n",
      "schizophrenia                     0\n",
      "sex                               0\n",
      "smoking_status                  304\n",
      "systemic_lupus_erythematosus      0\n",
      "systolic_blood_pressure         186\n",
      "Length: 1197, dtype: int64\n",
      "Missing columns: ['bmi', 'cholesterol', 'ethnic_background', 'hdl_cholesterol', 'smoking_status', 'systolic_blood_pressure']\n",
      "Dataset 0\n",
      "1  | systolic_blood_pressure | bmi | smoking_status | ethnic_background | cholesterol | hdl_cholesterol\n",
      "2  | systolic_blood_pressure | bmi | smoking_status | ethnic_background | cholesterol | hdl_cholesterol\n",
      "3  | systolic_blood_pressure | bmi | smoking_status | ethnic_background | cholesterol | hdl_cholesterol\n",
      "4  | systolic_blood_pressure | bmi | smoking_status | ethnic_background | cholesterol | hdl_cholesterol\n",
      "5  | systolic_blood_pressure | bmi | smoking_status | ethnic_background | cholesterol | hdl_cholesterol\n",
      "17 train fit imputer: save imputer\n",
      "17 train impute train\n",
      "Dataset 0\n",
      "1  | systolic_blood_pressure | bmi | smoking_status | ethnic_background | cholesterol | hdl_cholesterol\n",
      "2  | systolic_blood_pressure | bmi | smoking_status | ethnic_background | cholesterol | hdl_cholesterol\n",
      "3  | systolic_blood_pressure | bmi | smoking_status | ethnic_background | cholesterol | hdl_cholesterol\n",
      "4  | systolic_blood_pressure | bmi | smoking_status | ethnic_background | cholesterol | hdl_cholesterol\n",
      "5  | systolic_blood_pressure | bmi | smoking_status | ethnic_background | cholesterol | hdl_cholesterol\n",
      "17 train fit scaler\n",
      "17 valid read and merge data\n",
      "\u001b[2m\u001b[36m(scale_encode_save_feather pid=1642233)\u001b[0m 17 train scale train\n",
      "\u001b[2m\u001b[36m(scale_encode_save_feather pid=1642233)\u001b[0m 17 train onehotencode train\n",
      "\u001b[2m\u001b[36m(scale_encode_save_feather pid=1642233)\u001b[0m 17 train save train\n",
      "17 valid impute valid\n",
      "Dataset 0\n",
      "1  | systolic_blood_pressure | bmi | smoking_status | ethnic_background | cholesterol | hdl_cholesterol\n",
      "2  | systolic_blood_pressure | bmi | smoking_status | ethnic_background | cholesterol | hdl_cholesterol\n",
      "3  | systolic_blood_pressure | bmi | smoking_status | ethnic_background | cholesterol | hdl_cholesterol\n",
      "4  | systolic_blood_pressure | bmi | smoking_status | ethnic_background | cholesterol | hdl_cholesterol\n",
      "5  | systolic_blood_pressure | bmi | smoking_status | ethnic_background | cholesterol | hdl_cholesterol\n",
      "17 test read and merge data\n",
      "\u001b[2m\u001b[36m(scale_encode_save_feather pid=1642233)\u001b[0m 17 valid scale valid\n",
      "\u001b[2m\u001b[36m(scale_encode_save_feather pid=1642233)\u001b[0m 17 valid onehotencode valid\n",
      "\u001b[2m\u001b[36m(scale_encode_save_feather pid=1642233)\u001b[0m 17 valid save valid\n",
      "17 test impute test\n",
      "Dataset 0\n",
      "1  | systolic_blood_pressure | bmi | smoking_status | ethnic_background | cholesterol | hdl_cholesterol\n",
      "2  | systolic_blood_pressure | bmi | smoking_status | ethnic_background | cholesterol | hdl_cholesterol\n",
      "3  | systolic_blood_pressure | bmi | smoking_status | ethnic_background | cholesterol | hdl_cholesterol\n",
      "4  | systolic_blood_pressure | bmi | smoking_status | ethnic_background | cholesterol | hdl_cholesterol\n",
      "5  | systolic_blood_pressure | bmi | smoking_status | ethnic_background | cholesterol | hdl_cholesterol\n",
      "\u001b[2m\u001b[36m(scale_encode_save_feather pid=1642233)\u001b[0m 17 test scale test\n"
     ]
    },
    {
     "data": {
      "application/vnd.jupyter.widget-view+json": {
       "model_id": "a78a61847d4a497fb0bced3639438cfe",
       "version_major": 2,
       "version_minor": 0
      },
      "text/plain": [
       "  0%|          | 0/3 [00:00<?, ?it/s]"
      ]
     },
     "metadata": {},
     "output_type": "display_data"
    },
    {
     "name": "stdout",
     "output_type": "stream",
     "text": [
      "18 train read and merge data\n",
      "\u001b[2m\u001b[36m(scale_encode_save_feather pid=1642233)\u001b[0m 17 test onehotencode test\n",
      "\u001b[2m\u001b[36m(scale_encode_save_feather pid=1642233)\u001b[0m 17 test save test\n",
      "18 train fit imputer\n",
      "18 train fit imputer: load hps\n",
      "18 train fit imputer: fit imputer\n",
      "OMOP_4306655                      0\n",
      "phecode_002                       0\n",
      "phecode_002-1                     0\n",
      "phecode_003                       0\n",
      "phecode_004                       0\n",
      "                               ... \n",
      "schizophrenia                     0\n",
      "sex                               0\n",
      "smoking_status                  309\n",
      "systemic_lupus_erythematosus      0\n",
      "systolic_blood_pressure         189\n",
      "Length: 1197, dtype: int64\n",
      "Missing columns: ['bmi', 'cholesterol', 'ethnic_background', 'hdl_cholesterol', 'smoking_status', 'systolic_blood_pressure']\n",
      "Dataset 0\n",
      "1  | systolic_blood_pressure | bmi | smoking_status | ethnic_background | cholesterol | hdl_cholesterol\n",
      "2  | systolic_blood_pressure | bmi | smoking_status | ethnic_background | cholesterol | hdl_cholesterol\n",
      "3  | systolic_blood_pressure | bmi | smoking_status | ethnic_background | cholesterol | hdl_cholesterol\n",
      "4  | systolic_blood_pressure | bmi | smoking_status | ethnic_background | cholesterol | hdl_cholesterol\n",
      "5  | systolic_blood_pressure | bmi | smoking_status | ethnic_background | cholesterol | hdl_cholesterol\n",
      "18 train fit imputer: save imputer\n",
      "18 train impute train\n",
      "Dataset 0\n",
      "1  | systolic_blood_pressure | bmi | smoking_status | ethnic_background | cholesterol | hdl_cholesterol\n",
      "2  | systolic_blood_pressure | bmi | smoking_status | ethnic_background | cholesterol | hdl_cholesterol\n",
      "3  | systolic_blood_pressure | bmi | smoking_status | ethnic_background | cholesterol | hdl_cholesterol\n",
      "4  | systolic_blood_pressure | bmi | smoking_status | ethnic_background | cholesterol | hdl_cholesterol\n",
      "5  | systolic_blood_pressure | bmi | smoking_status | ethnic_background | cholesterol | hdl_cholesterol\n",
      "18 train fit scaler\n",
      "18 valid read and merge data\n",
      "\u001b[2m\u001b[36m(scale_encode_save_feather pid=1642233)\u001b[0m 18 train scale train\n",
      "\u001b[2m\u001b[36m(scale_encode_save_feather pid=1642233)\u001b[0m 18 train onehotencode train\n",
      "18 valid impute valid\n",
      "\u001b[2m\u001b[36m(scale_encode_save_feather pid=1642233)\u001b[0m 18 train save train\n",
      "Dataset 0\n",
      "1  | systolic_blood_pressure | bmi | smoking_status | ethnic_background | cholesterol | hdl_cholesterol\n",
      "2  | systolic_blood_pressure | bmi | smoking_status | ethnic_background | cholesterol | hdl_cholesterol\n",
      "3  | systolic_blood_pressure | bmi | smoking_status | ethnic_background | cholesterol | hdl_cholesterol\n",
      "4  | systolic_blood_pressure | bmi | smoking_status | ethnic_background | cholesterol | hdl_cholesterol\n",
      "5  | systolic_blood_pressure | bmi | smoking_status | ethnic_background | cholesterol | hdl_cholesterol\n",
      "18 test read and merge data\n",
      "\u001b[2m\u001b[36m(scale_encode_save_feather pid=1642233)\u001b[0m 18 valid scale valid\n",
      "\u001b[2m\u001b[36m(scale_encode_save_feather pid=1642233)\u001b[0m 18 valid onehotencode valid\n",
      "\u001b[2m\u001b[36m(scale_encode_save_feather pid=1642233)\u001b[0m 18 valid save valid\n",
      "18 test impute test\n",
      "Dataset 0\n",
      "1  | systolic_blood_pressure | bmi | smoking_status | ethnic_background | cholesterol | hdl_cholesterol\n",
      "2  | systolic_blood_pressure | bmi | smoking_status | ethnic_background | cholesterol | hdl_cholesterol\n",
      "3  | systolic_blood_pressure | bmi | smoking_status | ethnic_background | cholesterol | hdl_cholesterol\n",
      "4  | systolic_blood_pressure | bmi | smoking_status | ethnic_background | cholesterol | hdl_cholesterol\n",
      "5  | systolic_blood_pressure | bmi | smoking_status | ethnic_background | cholesterol | hdl_cholesterol\n"
     ]
    },
    {
     "data": {
      "application/vnd.jupyter.widget-view+json": {
       "model_id": "9a35d508d8074ca4a71d0a17ea5fa0a4",
       "version_major": 2,
       "version_minor": 0
      },
      "text/plain": [
       "  0%|          | 0/3 [00:00<?, ?it/s]"
      ]
     },
     "metadata": {},
     "output_type": "display_data"
    },
    {
     "name": "stdout",
     "output_type": "stream",
     "text": [
      "19 train read and merge data\n",
      "\u001b[2m\u001b[36m(scale_encode_save_feather pid=1642233)\u001b[0m 18 test scale test\n",
      "\u001b[2m\u001b[36m(scale_encode_save_feather pid=1642233)\u001b[0m 18 test onehotencode test\n",
      "\u001b[2m\u001b[36m(scale_encode_save_feather pid=1642233)\u001b[0m 18 test save test\n",
      "19 train fit imputer\n",
      "19 train fit imputer: load hps\n",
      "19 train fit imputer: fit imputer\n",
      "OMOP_4306655                      0\n",
      "phecode_002                       0\n",
      "phecode_002-1                     0\n",
      "phecode_003                       0\n",
      "phecode_004                       0\n",
      "                               ... \n",
      "schizophrenia                     0\n",
      "sex                               0\n",
      "smoking_status                  311\n",
      "systemic_lupus_erythematosus      0\n",
      "systolic_blood_pressure         192\n",
      "Length: 1197, dtype: int64\n",
      "Missing columns: ['bmi', 'cholesterol', 'ethnic_background', 'hdl_cholesterol', 'smoking_status', 'systolic_blood_pressure']\n",
      "Dataset 0\n",
      "1  | systolic_blood_pressure | bmi | smoking_status | ethnic_background | cholesterol | hdl_cholesterol\n",
      "2  | systolic_blood_pressure | bmi | smoking_status | ethnic_background | cholesterol | hdl_cholesterol\n",
      "3  | systolic_blood_pressure | bmi | smoking_status | ethnic_background | cholesterol | hdl_cholesterol\n",
      "4  | systolic_blood_pressure | bmi | smoking_status | ethnic_background | cholesterol | hdl_cholesterol\n",
      "5  | systolic_blood_pressure | bmi | smoking_status | ethnic_background | cholesterol | hdl_cholesterol\n",
      "19 train fit imputer: save imputer\n",
      "19 train impute train\n",
      "Dataset 0\n",
      "1  | systolic_blood_pressure | bmi | smoking_status | ethnic_background | cholesterol | hdl_cholesterol\n",
      "2  | systolic_blood_pressure | bmi | smoking_status | ethnic_background | cholesterol | hdl_cholesterol\n",
      "3  | systolic_blood_pressure | bmi | smoking_status | ethnic_background | cholesterol | hdl_cholesterol\n",
      "4  | systolic_blood_pressure | bmi | smoking_status | ethnic_background | cholesterol | hdl_cholesterol\n",
      "5  | systolic_blood_pressure | bmi | smoking_status | ethnic_background | cholesterol | hdl_cholesterol\n",
      "19 train fit scaler\n",
      "19 valid read and merge data\n",
      "\u001b[2m\u001b[36m(scale_encode_save_feather pid=1642233)\u001b[0m 19 train scale train\n",
      "\u001b[2m\u001b[36m(scale_encode_save_feather pid=1642233)\u001b[0m 19 train onehotencode train\n",
      "19 valid impute valid\n",
      "\u001b[2m\u001b[36m(scale_encode_save_feather pid=1642233)\u001b[0m 19 train save train\n",
      "Dataset 0\n",
      "1  | systolic_blood_pressure | bmi | smoking_status | ethnic_background | cholesterol | hdl_cholesterol\n",
      "2  | systolic_blood_pressure | bmi | smoking_status | ethnic_background | cholesterol | hdl_cholesterol\n",
      "3  | systolic_blood_pressure | bmi | smoking_status | ethnic_background | cholesterol | hdl_cholesterol\n",
      "4  | systolic_blood_pressure | bmi | smoking_status | ethnic_background | cholesterol | hdl_cholesterol\n",
      "5  | systolic_blood_pressure | bmi | smoking_status | ethnic_background | cholesterol | hdl_cholesterol\n",
      "19 test read and merge data\n",
      "\u001b[2m\u001b[36m(scale_encode_save_feather pid=1642233)\u001b[0m 19 valid scale valid\n",
      "\u001b[2m\u001b[36m(scale_encode_save_feather pid=1642233)\u001b[0m 19 valid onehotencode valid\n",
      "\u001b[2m\u001b[36m(scale_encode_save_feather pid=1642233)\u001b[0m 19 valid save valid\n",
      "19 test impute test\n",
      "Dataset 0\n",
      "1  | systolic_blood_pressure | bmi | smoking_status | ethnic_background | cholesterol | hdl_cholesterol\n",
      "2  | systolic_blood_pressure | bmi | smoking_status | ethnic_background | cholesterol | hdl_cholesterol\n",
      "3  | systolic_blood_pressure | bmi | smoking_status | ethnic_background | cholesterol | hdl_cholesterol\n",
      "4  | systolic_blood_pressure | bmi | smoking_status | ethnic_background | cholesterol | hdl_cholesterol\n",
      "5  | systolic_blood_pressure | bmi | smoking_status | ethnic_background | cholesterol | hdl_cholesterol\n"
     ]
    },
    {
     "data": {
      "application/vnd.jupyter.widget-view+json": {
       "model_id": "6ffb3630ce684e2d938b35ce829465dd",
       "version_major": 2,
       "version_minor": 0
      },
      "text/plain": [
       "  0%|          | 0/3 [00:00<?, ?it/s]"
      ]
     },
     "metadata": {},
     "output_type": "display_data"
    },
    {
     "name": "stdout",
     "output_type": "stream",
     "text": [
      "20 train read and merge data\n",
      "\u001b[2m\u001b[36m(scale_encode_save_feather pid=1642233)\u001b[0m 19 test scale test\n",
      "\u001b[2m\u001b[36m(scale_encode_save_feather pid=1642233)\u001b[0m 19 test onehotencode test\n",
      "\u001b[2m\u001b[36m(scale_encode_save_feather pid=1642233)\u001b[0m 19 test save test\n",
      "20 train fit imputer\n",
      "20 train fit imputer: load hps\n",
      "20 train fit imputer: fit imputer\n",
      "OMOP_4306655                      0\n",
      "phecode_002                       0\n",
      "phecode_002-1                     0\n",
      "phecode_003                       0\n",
      "phecode_004                       0\n",
      "                               ... \n",
      "schizophrenia                     0\n",
      "sex                               0\n",
      "smoking_status                  313\n",
      "systemic_lupus_erythematosus      0\n",
      "systolic_blood_pressure         191\n",
      "Length: 1197, dtype: int64\n",
      "Missing columns: ['bmi', 'cholesterol', 'ethnic_background', 'hdl_cholesterol', 'smoking_status', 'systolic_blood_pressure']\n",
      "Dataset 0\n",
      "1  | systolic_blood_pressure | bmi | smoking_status | ethnic_background | cholesterol | hdl_cholesterol\n",
      "2  | systolic_blood_pressure | bmi | smoking_status | ethnic_background | cholesterol | hdl_cholesterol\n",
      "3  | systolic_blood_pressure | bmi | smoking_status | ethnic_background | cholesterol | hdl_cholesterol\n",
      "4  | systolic_blood_pressure | bmi | smoking_status | ethnic_background | cholesterol | hdl_cholesterol\n",
      "5  | systolic_blood_pressure | bmi | smoking_status | ethnic_background | cholesterol | hdl_cholesterol\n",
      "20 train fit imputer: save imputer\n",
      "20 train impute train\n",
      "Dataset 0\n",
      "1  | systolic_blood_pressure | bmi | smoking_status | ethnic_background | cholesterol | hdl_cholesterol\n",
      "2  | systolic_blood_pressure | bmi | smoking_status | ethnic_background | cholesterol | hdl_cholesterol\n",
      "3  | systolic_blood_pressure | bmi | smoking_status | ethnic_background | cholesterol | hdl_cholesterol\n",
      "4  | systolic_blood_pressure | bmi | smoking_status | ethnic_background | cholesterol | hdl_cholesterol\n",
      "5  | systolic_blood_pressure | bmi | smoking_status | ethnic_background | cholesterol | hdl_cholesterol\n",
      "20 train fit scaler\n",
      "20 valid read and merge data\n",
      "\u001b[2m\u001b[36m(scale_encode_save_feather pid=1642233)\u001b[0m 20 train scale train\n",
      "\u001b[2m\u001b[36m(scale_encode_save_feather pid=1642233)\u001b[0m 20 train onehotencode train\n",
      "20 valid \u001b[2m\u001b[36m(scale_encode_save_feather pid=1642233)\u001b[0m 20 train save trainimpute valid\n",
      "\n",
      "Dataset 0\n",
      "1  | systolic_blood_pressure | bmi | smoking_status | ethnic_background | cholesterol | hdl_cholesterol\n",
      "2  | systolic_blood_pressure | bmi | smoking_status | ethnic_background | cholesterol | hdl_cholesterol\n",
      "3  | systolic_blood_pressure | bmi | smoking_status | ethnic_background | cholesterol | hdl_cholesterol\n",
      "4  | systolic_blood_pressure | bmi | smoking_status | ethnic_background | cholesterol | hdl_cholesterol\n",
      "5  | systolic_blood_pressure | bmi | smoking_status | ethnic_background | cholesterol | hdl_cholesterol\n",
      "20 test read and merge data\n",
      "\u001b[2m\u001b[36m(scale_encode_save_feather pid=1642233)\u001b[0m 20 valid scale valid\n",
      "\u001b[2m\u001b[36m(scale_encode_save_feather pid=1642233)\u001b[0m 20 valid onehotencode valid\n",
      "\u001b[2m\u001b[36m(scale_encode_save_feather pid=1642233)\u001b[0m 20 valid save valid\n",
      "20 test impute test\n",
      "Dataset 0\n",
      "1  | systolic_blood_pressure | smoking_status | ethnic_background | cholesterol | hdl_cholesterol\n",
      "2  | systolic_blood_pressure | smoking_status | ethnic_background | cholesterol | hdl_cholesterol\n",
      "3  | systolic_blood_pressure | smoking_status | ethnic_background | cholesterol | hdl_cholesterol\n",
      "4  | systolic_blood_pressure | smoking_status | ethnic_background | cholesterol | hdl_cholesterol\n",
      "5  | systolic_blood_pressure | smoking_status | ethnic_background | cholesterol | hdl_cholesterol\n"
     ]
    },
    {
     "data": {
      "application/vnd.jupyter.widget-view+json": {
       "model_id": "3e200659d6bc4b62a365b1fe76fbfbf4",
       "version_major": 2,
       "version_minor": 0
      },
      "text/plain": [
       "  0%|          | 0/3 [00:00<?, ?it/s]"
      ]
     },
     "metadata": {},
     "output_type": "display_data"
    },
    {
     "name": "stdout",
     "output_type": "stream",
     "text": [
      "21 train read and merge data\n",
      "\u001b[2m\u001b[36m(scale_encode_save_feather pid=1642233)\u001b[0m 20 test scale test\n",
      "\u001b[2m\u001b[36m(scale_encode_save_feather pid=1642233)\u001b[0m 20 test onehotencode test\n",
      "\u001b[2m\u001b[36m(scale_encode_save_feather pid=1642233)\u001b[0m 20 test save test\n",
      "21 train fit imputer\n",
      "21 train fit imputer: load hps\n",
      "21 train fit imputer: fit imputer\n",
      "OMOP_4306655                      0\n",
      "phecode_002                       0\n",
      "phecode_002-1                     0\n",
      "phecode_003                       0\n",
      "phecode_004                       0\n",
      "                               ... \n",
      "schizophrenia                     0\n",
      "sex                               0\n",
      "smoking_status                  315\n",
      "systemic_lupus_erythematosus      0\n",
      "systolic_blood_pressure         192\n",
      "Length: 1197, dtype: int64\n",
      "Missing columns: ['bmi', 'cholesterol', 'ethnic_background', 'hdl_cholesterol', 'smoking_status', 'systolic_blood_pressure']\n",
      "Dataset 0\n",
      "1  | systolic_blood_pressure | smoking_status | bmi | ethnic_background | cholesterol | hdl_cholesterol\n",
      "2  | systolic_blood_pressure | smoking_status | bmi | ethnic_background | cholesterol | hdl_cholesterol\n",
      "3  | systolic_blood_pressure | smoking_status | bmi | ethnic_background | cholesterol | hdl_cholesterol\n",
      "4  | systolic_blood_pressure | smoking_status | bmi | ethnic_background | cholesterol | hdl_cholesterol\n",
      "5  | systolic_blood_pressure | smoking_status | bmi | ethnic_background | cholesterol | hdl_cholesterol\n",
      "21 train fit imputer: save imputer\n",
      "21 train impute train\n",
      "Dataset 0\n",
      "1  | systolic_blood_pressure | smoking_status | bmi | ethnic_background | cholesterol | hdl_cholesterol\n",
      "2  | systolic_blood_pressure | smoking_status | bmi | ethnic_background | cholesterol | hdl_cholesterol\n",
      "3  | systolic_blood_pressure | smoking_status | bmi | ethnic_background | cholesterol | hdl_cholesterol\n",
      "4  | systolic_blood_pressure | smoking_status | bmi | ethnic_background | cholesterol | hdl_cholesterol\n",
      "5  | systolic_blood_pressure | smoking_status | bmi | ethnic_background | cholesterol | hdl_cholesterol\n",
      "21 train fit scaler\n",
      "21 valid read and merge data\n",
      "\u001b[2m\u001b[36m(scale_encode_save_feather pid=1642233)\u001b[0m 21 train scale train\n",
      "\u001b[2m\u001b[36m(scale_encode_save_feather pid=1642233)\u001b[0m 21 train onehotencode train\n",
      "\u001b[2m\u001b[36m(scale_encode_save_feather pid=1642233)\u001b[0m 21 train save train\n",
      "21 valid impute valid\n",
      "Dataset 0\n",
      "1  | systolic_blood_pressure | smoking_status | bmi | ethnic_background | cholesterol | hdl_cholesterol\n",
      "2  | systolic_blood_pressure | smoking_status | bmi | ethnic_background | cholesterol | hdl_cholesterol\n",
      "3  | systolic_blood_pressure | smoking_status | bmi | ethnic_background | cholesterol | hdl_cholesterol\n",
      "4  | systolic_blood_pressure | smoking_status | bmi | ethnic_background | cholesterol | hdl_cholesterol\n",
      "5  | systolic_blood_pressure | smoking_status | bmi | ethnic_background | cholesterol | hdl_cholesterol\n",
      "21 test read and merge data\n",
      "\u001b[2m\u001b[36m(scale_encode_save_feather pid=1642233)\u001b[0m 21 valid scale valid\n",
      "\u001b[2m\u001b[36m(scale_encode_save_feather pid=1642233)\u001b[0m 21 valid onehotencode valid\n",
      "\u001b[2m\u001b[36m(scale_encode_save_feather pid=1642233)\u001b[0m 21 valid save valid\n",
      "21 test impute test\n",
      "Dataset 0\n",
      "1  | cholesterol | hdl_cholesterol\n",
      "2  | cholesterol | hdl_cholesterol\n",
      "3  | cholesterol | hdl_cholesterol\n",
      "4  | cholesterol | hdl_cholesterol\n",
      "5  | cholesterol | hdl_cholesterol\n"
     ]
    }
   ],
   "source": [
    "norm_logh_and_extra(data_covariates, variables_cont, variables_cat, 15000)"
   ]
  },
  {
   "cell_type": "code",
   "execution_count": null,
   "metadata": {
    "execution": {
     "iopub.status.busy": "2022-11-08T21:28:58.241395Z",
     "iopub.status.idle": "2022-11-08T21:28:58.241566Z",
     "shell.execute_reply": "2022-11-08T21:28:58.241483Z",
     "shell.execute_reply.started": "2022-11-08T21:28:58.241473Z"
    },
    "tags": []
   },
   "outputs": [],
   "source": [
    "import sklearn\n",
    "sklearn.__version__"
   ]
  },
  {
   "cell_type": "code",
   "execution_count": null,
   "metadata": {
    "execution": {
     "iopub.status.busy": "2022-11-08T21:28:58.242412Z",
     "iopub.status.idle": "2022-11-08T21:28:58.242716Z",
     "shell.execute_reply": "2022-11-08T21:28:58.242618Z",
     "shell.execute_reply.started": "2022-11-08T21:28:58.242606Z"
    },
    "tags": []
   },
   "outputs": [],
   "source": [
    "1+1"
   ]
  },
  {
   "cell_type": "code",
   "execution_count": null,
   "metadata": {},
   "outputs": [],
   "source": []
  }
 ],
 "metadata": {
  "kernelspec": {
   "display_name": "retrisk",
   "language": "python",
   "name": "retrisk"
  },
  "language_info": {
   "codemirror_mode": {
    "name": "ipython",
    "version": 3
   },
   "file_extension": ".py",
   "mimetype": "text/x-python",
   "name": "python",
   "nbconvert_exporter": "python",
   "pygments_lexer": "ipython3",
   "version": "3.9.7"
  },
  "toc-autonumbering": false
 },
 "nbformat": 4,
 "nbformat_minor": 4
}
