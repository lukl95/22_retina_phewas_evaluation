{
 "cells": [
  {
   "cell_type": "markdown",
   "metadata": {},
   "source": [
    "# Benchmarks"
   ]
  },
  {
   "cell_type": "markdown",
   "metadata": {},
   "source": [
    "## Initialize"
   ]
  },
  {
   "cell_type": "code",
   "execution_count": 1,
   "metadata": {
    "execution": {
     "iopub.execute_input": "2022-08-25T11:55:02.652855Z",
     "iopub.status.busy": "2022-08-25T11:55:02.652508Z",
     "iopub.status.idle": "2022-08-25T11:55:05.467847Z",
     "shell.execute_reply": "2022-08-25T11:55:05.467355Z",
     "shell.execute_reply.started": "2022-08-25T11:55:02.652814Z"
    },
    "tags": []
   },
   "outputs": [],
   "source": [
    "import os\n",
    "import math\n",
    "import pathlib\n",
    "import numpy as np\n",
    "import pandas as pd\n",
    "import pyarrow as pa\n",
    "import pyarrow.feather as feather\n",
    "from tqdm.auto import tqdm\n",
    "from IPython.display import clear_output\n",
    "\n",
    "import warnings\n",
    "from lifelines.utils import CensoringType\n",
    "from lifelines.utils import concordance_index"
   ]
  },
  {
   "cell_type": "code",
   "execution_count": 2,
   "metadata": {
    "execution": {
     "iopub.execute_input": "2022-08-25T11:55:05.468523Z",
     "iopub.status.busy": "2022-08-25T11:55:05.468429Z",
     "iopub.status.idle": "2022-08-25T11:55:05.470677Z",
     "shell.execute_reply": "2022-08-25T11:55:05.470372Z",
     "shell.execute_reply.started": "2022-08-25T11:55:05.468511Z"
    },
    "tags": []
   },
   "outputs": [],
   "source": [
    "# import ray\n",
    "# ray.shutdown()"
   ]
  },
  {
   "cell_type": "code",
   "execution_count": 3,
   "metadata": {
    "execution": {
     "iopub.execute_input": "2022-08-25T11:55:05.471204Z",
     "iopub.status.busy": "2022-08-25T11:55:05.471119Z",
     "iopub.status.idle": "2022-08-25T11:55:05.506250Z",
     "shell.execute_reply": "2022-08-25T11:55:05.505897Z",
     "shell.execute_reply.started": "2022-08-25T11:55:05.471193Z"
    },
    "tags": []
   },
   "outputs": [
    {
     "name": "stdout",
     "output_type": "stream",
     "text": [
      "/sc-projects/sc-proj-ukb-cvd\n"
     ]
    },
    {
     "data": {
      "text/plain": [
       "[0, 1, 2, 3, 4, 5, 6, 7, 8, 9, 10, 11, 12, 13, 14, 15, 16, 17, 18, 19, 20, 21]"
      ]
     },
     "execution_count": 3,
     "metadata": {},
     "output_type": "execute_result"
    }
   ],
   "source": [
    "node = !hostname\n",
    "if \"sc\" in node[0]:\n",
    "    base_path = \"/sc-projects/sc-proj-ukb-cvd\"\n",
    "else: \n",
    "    base_path = \"/data/analysis/ag-reils/ag-reils-shared/cardioRS\"\n",
    "print(base_path)\n",
    "\n",
    "project_label = \"22_retina_phewas\"\n",
    "project_path = f\"{base_path}/results/projects/{project_label}\"\n",
    "figure_path = f\"{project_path}/figures\"\n",
    "output_path = f\"{project_path}/data\"\n",
    "\n",
    "pathlib.Path(figure_path).mkdir(parents=True, exist_ok=True)\n",
    "pathlib.Path(output_path).mkdir(parents=True, exist_ok=True)\n",
    "\n",
    "experiment = '220812_test'\n",
    "experiment_path = f\"{output_path}/{experiment}\"\n",
    "pathlib.Path(experiment_path).mkdir(parents=True, exist_ok=True)\n",
    "\n",
    "\n",
    "name_dict = {\n",
    "    \"predictions_cropratio0.66\": \"ConvNextSmall(Retina)+MLP_cropratio0.66\",\n",
    "}\n",
    "\n",
    "partitions = [i for i in range(22)]\n",
    "partitions"
   ]
  },
  {
   "cell_type": "code",
   "execution_count": 4,
   "metadata": {
    "execution": {
     "iopub.execute_input": "2022-08-25T11:55:05.507371Z",
     "iopub.status.busy": "2022-08-25T11:55:05.507276Z",
     "iopub.status.idle": "2022-08-25T11:55:07.090475Z",
     "shell.execute_reply": "2022-08-25T11:55:07.089661Z",
     "shell.execute_reply.started": "2022-08-25T11:55:05.507358Z"
    },
    "tags": []
   },
   "outputs": [
    {
     "data": {
      "text/plain": [
       "RayContext(dashboard_url='', python_version='3.9.7', ray_version='1.13.0', ray_commit='e4ce38d001dbbe09cd21c497fedd03d692b2be3e', address_info={'node_ip_address': '10.32.105.14', 'raylet_ip_address': '10.32.105.14', 'redis_address': None, 'object_store_address': '/tmp/ray/session_2022-08-25_09-57-05_054645_3933326/sockets/plasma_store', 'raylet_socket_name': '/tmp/ray/session_2022-08-25_09-57-05_054645_3933326/sockets/raylet', 'webui_url': '', 'session_dir': '/tmp/ray/session_2022-08-25_09-57-05_054645_3933326', 'metrics_export_port': 60554, 'gcs_address': '10.32.105.14:6321', 'address': '10.32.105.14:6321', 'node_id': 'aa0f99a02d648e105988a8de7155afbfc253c61e7021ae9fe8b851e0'})"
      ]
     },
     "execution_count": 4,
     "metadata": {},
     "output_type": "execute_result"
    }
   ],
   "source": [
    "import ray\n",
    "# ray start --head --port=6379 --num-cpus 64\n",
    "#ray.init(num_cpus=24, include_dashboard=False)#, dashboard_port=24762, dashboard_host=\"0.0.0.0\", include_dashboard=True)#, webui_url=\"0.0.0.0\"))\n",
    "ray.init(address='auto')"
   ]
  },
  {
   "cell_type": "code",
   "execution_count": 5,
   "metadata": {
    "execution": {
     "iopub.execute_input": "2022-08-25T11:55:07.092370Z",
     "iopub.status.busy": "2022-08-25T11:55:07.092222Z",
     "iopub.status.idle": "2022-08-25T11:55:07.112339Z",
     "shell.execute_reply": "2022-08-25T11:55:07.111840Z",
     "shell.execute_reply.started": "2022-08-25T11:55:07.092345Z"
    },
    "tags": []
   },
   "outputs": [],
   "source": [
    "import pandas as pd\n",
    "endpoints = sorted([l.replace('_prevalent', '') for l in list(pd.read_csv('/sc-projects/sc-proj-ukb-cvd/results/projects/22_retinal_risk/data/220602/endpoints.csv').endpoint.values)])"
   ]
  },
  {
   "cell_type": "code",
   "execution_count": 6,
   "metadata": {
    "execution": {
     "iopub.execute_input": "2022-08-25T11:55:07.113175Z",
     "iopub.status.busy": "2022-08-25T11:55:07.113069Z",
     "iopub.status.idle": "2022-08-25T11:55:07.413983Z",
     "shell.execute_reply": "2022-08-25T11:55:07.413523Z",
     "shell.execute_reply.started": "2022-08-25T11:55:07.113163Z"
    },
    "tags": []
   },
   "outputs": [
    {
     "data": {
      "text/plain": [
       "113122"
      ]
     },
     "execution_count": 6,
     "metadata": {},
     "output_type": "execute_result"
    }
   ],
   "source": [
    "import glob, os\n",
    "img_root = '/sc-projects/sc-proj-ukb-cvd/data/retina/preprocessed/preprocessed'\n",
    "img_visit = 0\n",
    "img_file_extension = '.png'\n",
    "eids_with_retinapic = [int(fp.split('/')[-1].split('_')[0]) for fp in sorted( glob.glob(os.path.join(img_root, f'*{img_file_extension}' \n",
    "                       if img_file_extension is not None else '*'))) \n",
    "                       if f'_{img_visit}_' in fp]\n",
    "len(eids_with_retinapic)"
   ]
  },
  {
   "cell_type": "code",
   "execution_count": 7,
   "metadata": {
    "execution": {
     "iopub.execute_input": "2022-08-25T11:55:07.414969Z",
     "iopub.status.busy": "2022-08-25T11:55:07.414851Z",
     "iopub.status.idle": "2022-08-25T11:55:07.467825Z",
     "shell.execute_reply": "2022-08-25T11:55:07.467223Z",
     "shell.execute_reply.started": "2022-08-25T11:55:07.414952Z"
    },
    "tags": []
   },
   "outputs": [],
   "source": [
    "data_covariates = pd.read_feather(f\"{output_path}/data_covariates_full.feather\").set_index(\"eid\")"
   ]
  },
  {
   "cell_type": "code",
   "execution_count": 8,
   "metadata": {
    "execution": {
     "iopub.execute_input": "2022-08-25T11:55:07.468837Z",
     "iopub.status.busy": "2022-08-25T11:55:07.468714Z",
     "iopub.status.idle": "2022-08-25T11:55:07.471224Z",
     "shell.execute_reply": "2022-08-25T11:55:07.470923Z",
     "shell.execute_reply.started": "2022-08-25T11:55:07.468820Z"
    }
   },
   "outputs": [],
   "source": [
    "# data_covariates = data_covariates[['age', 'sex', 'ethnic_background']]"
   ]
  },
  {
   "cell_type": "code",
   "execution_count": 9,
   "metadata": {
    "execution": {
     "iopub.execute_input": "2022-08-25T11:55:07.471777Z",
     "iopub.status.busy": "2022-08-25T11:55:07.471690Z",
     "iopub.status.idle": "2022-08-25T11:55:07.499781Z",
     "shell.execute_reply": "2022-08-25T11:55:07.499212Z",
     "shell.execute_reply.started": "2022-08-25T11:55:07.471766Z"
    },
    "tags": []
   },
   "outputs": [
    {
     "name": "stdout",
     "output_type": "stream",
     "text": [
      "Success, all required covariates are prepared!\n"
     ]
    }
   ],
   "source": [
    "AgeSex = [\"age\", \"sex\"]\n",
    "\n",
    "SCORE2 = [\n",
    "    \"age\", \n",
    "    \"sex\",\n",
    "    \"smoking_status\", # current smoker\n",
    "    \"systolic_blood_pressure\",\n",
    "    \"cholesterol\",\n",
    "    \"hdl_cholesterol\",\n",
    "\n",
    "] \n",
    "\n",
    "ASCVD = [\n",
    "    \"age\", \n",
    "    \"sex\",\n",
    "    \"ethnic_background\",\n",
    "    \"smoking_status\", # current smoker\n",
    "    \"diabetes\", # diabetes\n",
    "    \"antihypertensives\", \n",
    "    \"systolic_blood_pressure\",\n",
    "    \"cholesterol\",\n",
    "    \"hdl_cholesterol\",\n",
    "] \n",
    "\n",
    "QRISK3 = [\n",
    "    \"age\", \n",
    "    \"sex\",\n",
    "    \"ethnic_background\",\n",
    "    \"smoking_status\", # current smoker\n",
    "    \"bmi\",\n",
    "    \"diabetes1\", # type 1 diabetes\n",
    "    \"diabetes2\", # type 1 diabetes\n",
    "    \"fh_heart_disease\",\n",
    "    \"renal_failure\", \n",
    "    \"atrial_fibrillation\", \n",
    "    \"migraine\",\n",
    "    \"rheumatoid_arthritis\", \n",
    "    \"systemic_lupus_erythematosus\", \n",
    "    \"schizophrenia\", \n",
    "    \"bipolar_disorder\", \n",
    "    \"major_depressive_disorder\", \n",
    "    \"male_erectile_dysfunction\", \n",
    "    \"antihypertensives\", \n",
    "    \"corticosteroids\",\n",
    "    \"psycholeptics\",\n",
    "    \"systolic_blood_pressure\",\n",
    "    \"cholesterol\",\n",
    "    \"hdl_cholesterol\",\n",
    "\n",
    "]\n",
    "\n",
    "# assert, that all variables are available\n",
    "covariates_scores = sorted(list(set(AgeSex + SCORE2 + ASCVD + QRISK3)))\n",
    "if not set(covariates_scores).issubset(data_covariates.columns.to_list()):\n",
    "    print(\"Not all required covariates are prepared!\", list(set(covariates_scores).difference(data_covariates.columns.to_list())))\n",
    "else:\n",
    "    print(\"Success, all required covariates are prepared!\")\n",
    "    data_covariates = data_covariates[covariates_scores]"
   ]
  },
  {
   "cell_type": "code",
   "execution_count": 10,
   "metadata": {
    "execution": {
     "iopub.execute_input": "2022-08-25T11:55:07.500806Z",
     "iopub.status.busy": "2022-08-25T11:55:07.500675Z",
     "iopub.status.idle": "2022-08-25T11:55:07.534375Z",
     "shell.execute_reply": "2022-08-25T11:55:07.533988Z",
     "shell.execute_reply.started": "2022-08-25T11:55:07.500788Z"
    },
    "tags": []
   },
   "outputs": [
    {
     "name": "stdout",
     "output_type": "stream",
     "text": [
      "Cont:  ['age', 'bmi', 'cholesterol', 'hdl_cholesterol', 'systolic_blood_pressure']\n",
      "Cat:  ['ethnic_background', 'sex', 'smoking_status']\n",
      "Bool:  ['antihypertensives', 'atrial_fibrillation', 'bipolar_disorder', 'corticosteroids', 'diabetes', 'diabetes1', 'diabetes2', 'fh_heart_disease', 'major_depressive_disorder', 'male_erectile_dysfunction', 'migraine', 'psycholeptics', 'renal_failure', 'rheumatoid_arthritis', 'schizophrenia', 'systemic_lupus_erythematosus']\n"
     ]
    }
   ],
   "source": [
    "variables_cont = data_covariates.select_dtypes(include=[\"int32\", \"float32\", \"float64\"]).columns.to_list()#dtypes.to_frame().rename(columns={0:\"dtype\"}).query(\"dtype!='bool'\")\n",
    "variables_cat = data_covariates.select_dtypes(include=[\"category\"]).columns.to_list()\n",
    "variables_bool = data_covariates.select_dtypes(include=[\"bool\"]).columns.to_list()#dtypes.to_frame().rename(columns={0:\"dtype\"}).query(\"dtype!='bool'\")\n",
    "print(\"Cont: \", variables_cont)\n",
    "print(\"Cat: \", variables_cat)\n",
    "print(\"Bool: \", variables_bool)\n",
    "\n",
    "variables_to_norm = variables_cont + endpoints"
   ]
  },
  {
   "cell_type": "code",
   "execution_count": 11,
   "metadata": {
    "execution": {
     "iopub.execute_input": "2022-08-25T11:55:07.535158Z",
     "iopub.status.busy": "2022-08-25T11:55:07.535048Z",
     "iopub.status.idle": "2022-08-25T11:55:07.564359Z",
     "shell.execute_reply": "2022-08-25T11:55:07.563994Z",
     "shell.execute_reply.started": "2022-08-25T11:55:07.535144Z"
    },
    "tags": []
   },
   "outputs": [],
   "source": [
    "in_path = pathlib.Path(f\"{experiment_path}/loghs\")\n",
    "in_path.mkdir(parents=True, exist_ok=True)\n",
    "\n",
    "out_path = f\"{experiment_path}/coxph/input\"\n",
    "pathlib.Path(out_path).mkdir(parents=True, exist_ok=True)"
   ]
  },
  {
   "cell_type": "code",
   "execution_count": 12,
   "metadata": {
    "execution": {
     "iopub.execute_input": "2022-08-25T11:55:07.566025Z",
     "iopub.status.busy": "2022-08-25T11:55:07.565709Z",
     "iopub.status.idle": "2022-08-25T11:55:07.599785Z",
     "shell.execute_reply": "2022-08-25T11:55:07.599488Z",
     "shell.execute_reply.started": "2022-08-25T11:55:07.566004Z"
    },
    "tags": []
   },
   "outputs": [
    {
     "data": {
      "text/plain": [
       "PosixPath('/sc-projects/sc-proj-ukb-cvd/results/projects/22_retina_phewas/data/220812_test/loghs')"
      ]
     },
     "execution_count": 12,
     "metadata": {},
     "output_type": "execute_result"
    }
   ],
   "source": [
    "in_path"
   ]
  },
  {
   "cell_type": "code",
   "execution_count": 13,
   "metadata": {
    "execution": {
     "iopub.execute_input": "2022-08-25T11:55:07.600329Z",
     "iopub.status.busy": "2022-08-25T11:55:07.600242Z",
     "iopub.status.idle": "2022-08-25T11:55:07.645068Z",
     "shell.execute_reply": "2022-08-25T11:55:07.644717Z",
     "shell.execute_reply.started": "2022-08-25T11:55:07.600318Z"
    },
    "tags": []
   },
   "outputs": [
    {
     "data": {
      "text/plain": [
       "['ImageTraining_[]_ConvNeXt_MLPHead_predictions_cropratio0.66']"
      ]
     },
     "execution_count": 13,
     "metadata": {},
     "output_type": "execute_result"
    }
   ],
   "source": [
    "models = [f.name for f in in_path.iterdir() if f.is_dir() and \"ipynb_checkpoints\" not in str(f)]\n",
    "for model in models:\n",
    "    pathlib.Path(os.path.join(out_path, model)).mkdir(parents=True, exist_ok=True)\n",
    "    for p in partitions:\n",
    "        pathlib.Path(os.path.join(out_path, model, str(p))).mkdir(parents=True, exist_ok=True)\n",
    "models"
   ]
  },
  {
   "cell_type": "code",
   "execution_count": 14,
   "metadata": {
    "execution": {
     "iopub.execute_input": "2022-08-25T11:55:07.645673Z",
     "iopub.status.busy": "2022-08-25T11:55:07.645581Z",
     "iopub.status.idle": "2022-08-25T11:55:09.514240Z",
     "shell.execute_reply": "2022-08-25T11:55:09.513705Z",
     "shell.execute_reply.started": "2022-08-25T11:55:07.645661Z"
    },
    "tags": []
   },
   "outputs": [],
   "source": [
    "from sklearn.preprocessing import StandardScaler\n",
    "import miceforest\n",
    "import pickle\n",
    "import zstandard\n",
    "import glob\n",
    "import os\n",
    "\n",
    "# def find_retina_eid_intersection():\n",
    "#     img_root = '/sc-projects/sc-proj-ukb-cvd/data/retina/preprocessed/preprocessed'\n",
    "#     img_visit = 0\n",
    "#     img_file_extension = '.png'\n",
    "#     eids_with_retinapic = [int(fp.split('/')[-1].split('_')[0]) for fp in sorted( glob.glob(os.path.join(img_root, f'*{img_file_extension}' \n",
    "#                            if img_file_extension is not None else '*'))) \n",
    "#                            if f'_{img_visit}_' in fp]\n",
    "#     len(eids_with_retinapic)\n",
    "    \n",
    "#     d = []\n",
    "#     for endpoint in tqdm(endpoints):\n",
    "#         s = data_outcomes[f'{endpoint}_event'].loc[np.intersect1d(eids_dict[endpoint], eids_with_retinapic)]   # .loc[eids_dict[endpoint]]\n",
    "#         n = s.sum()\n",
    "#         freq = s.mean()\n",
    "#         d.append({\"endpoint\": endpoint, \"eligable\":len(np.intersect1d(eids_dict[endpoint], eids_with_retinapic)), \"n\": n, \"freq\": freq})\n",
    "        \n",
    "#     endpoints_freqs = pd.DataFrame().from_dict(d)\n",
    "#     endpoints_ds = endpoints_freqs.query(\"n>100\").sort_values(\"endpoint\")#.reset_index(drop=True)\n",
    "\n",
    "#     return endpoints_ds # TODO\n",
    "\n",
    "def read_merge_data(fp_in, split, data_covariates):\n",
    "    temp = pd.read_feather(f\"{fp_in}/{split}.feather\").set_index(\"eid\")\n",
    "    if 'split' in temp.columns:\n",
    "        temp.drop('split', axis=1, inplace=True)\n",
    "    temp = temp.merge(data_covariates, left_index=True, right_index=True, how=\"left\")\n",
    "    \n",
    "    return temp   \n",
    "\n",
    "def load_pickle(fp):\n",
    "    with open(fp, \"rb\") as fh:\n",
    "        dctx = zstandard.ZstdDecompressor()\n",
    "        with dctx.stream_reader(fh) as decompressor:\n",
    "            data = pickle.loads(decompressor.read())\n",
    "    return data\n",
    "    \n",
    "def save_pickle(data, data_path):\n",
    "    with open(data_path, \"wb\") as fh:\n",
    "        cctx = zstandard.ZstdCompressor()\n",
    "        with cctx.stream_writer(fh) as compressor:\n",
    "            compressor.write(pickle.dumps(data, protocol=pickle.HIGHEST_PROTOCOL))\n",
    "            \n",
    "def get_variable_schema(data):\n",
    "    \n",
    "    missing = data.columns[data.isna().any()].to_list()\n",
    "    \n",
    "    print('Missing columns:', missing)\n",
    "    \n",
    "    variable_schema = {}\n",
    "    for m in missing:\n",
    "        variable_schema[m] = [x for x in data.columns if x != m]\n",
    "    \n",
    "    return variable_schema\n",
    "\n",
    "def tune_imputer(data):\n",
    "    \n",
    "    variable_schema = get_variable_schema(data)\n",
    "        \n",
    "    kernel = miceforest.ImputationKernel(data,\n",
    "                                         datasets=1,\n",
    "                                         random_state=42)#, train_nonmissing=True)\n",
    "    \n",
    "    best_hps, losses = kernel.tune_parameters(dataset=0, n_jobs=96, optimization_steps=5, verbose=True) # add bootstrrapping! \n",
    "  \n",
    "    return best_hps\n",
    "\n",
    "def get_imputer_hps(data_covariates, model, partition, samples):\n",
    "\n",
    "    fp_in = f\"{in_path}/{model}/{partition}\"\n",
    "    fp_out = f\"{out_path}/{model}\" # fp_out = f\"{out_path}/{model}/\"\n",
    "    \n",
    "    temp = read_merge_data(fp_in, \"train\", data_covariates.sample(samples))\n",
    "    \n",
    "    print(\"tune hps\")\n",
    "    best_hps = tune_imputer(temp)\n",
    "    save_pickle(best_hps, f\"{fp_out}/imputer_best_hps.p\")\n",
    "    \n",
    "    return best_hps\n",
    "\n",
    "def fit_imputer(data, best_hps=None):\n",
    "    \n",
    "    variable_schema = get_variable_schema(data)\n",
    "        \n",
    "    kernel = miceforest.ImputationKernel(data,\n",
    "                                         datasets=1,\n",
    "                                         random_state=42)#, train_nonmissing=True)\n",
    "\n",
    "    # Run the MICE algorithm for 3 iterations\n",
    "    kernel.mice(5, n_jobs=16, \n",
    "                variable_parameters=best_hps,\n",
    "                verbose=True)\n",
    "    \n",
    "    return kernel\n",
    "    \n",
    "@ray.remote\n",
    "def scale_encode_save_feather(partition, split, temp_df, scaler, variables_cont, variables_cat, fp_out):\n",
    "    print(partition, split, f\"scale {split}\")\n",
    "    temp_df[variables_cont] = scaler.transform(temp_df[variables_cont].values)\n",
    "\n",
    "    print(partition, split, f\"onehotencode {split}\")\n",
    "    temp_df = pd.get_dummies(temp_df, columns=variables_cat, prefix=variables_cat)\n",
    "\n",
    "    # save imputed and standardized file\n",
    "    print(partition, split, f\"save {split}\")\n",
    "    temp_df.reset_index(drop=False).to_feather(f\"{fp_out}/{split}.feather\")\n",
    "    \n",
    "\n",
    "def impute_norm_variables(data_covariates, model, partition, variables_cont, variables_cat, samples):\n",
    "\n",
    "    fp_in = f\"{in_path}/{model}/{partition}\"\n",
    "    fp_out = f\"{out_path}/{model}/{partition}\"\n",
    "      \n",
    "    if pathlib.Path(fp_in).is_dir():\n",
    "        if not pathlib.Path(fp_out).is_dir():\n",
    "            pathlib.Path(fp_out).mkdir(parents=True, exist_ok=True)\n",
    "            \n",
    "    for split in tqdm([\"train\", \"valid\", \"test\"]):\n",
    "        \n",
    "        print(partition, split, \"read and merge data\")\n",
    "        temp = read_merge_data(fp_in, split, data_covariates)\n",
    "        \n",
    "        temp = temp.loc[np.intersect1d(temp.index.values, eids_with_retinapic)]\n",
    "\n",
    "        \n",
    "        if split==\"train\": \n",
    "            # fit and save imputer\n",
    "            print(partition, split, \"fit imputer\")\n",
    "            print(partition, split, \"fit imputer: load hps\")\n",
    "            best_hps = load_pickle(f\"{out_path}/{model}/imputer_best_hps.p\")\n",
    "            print(partition, split, \"fit imputer: fit imputer\")\n",
    "            print(temp.isna().sum()\n",
    "                 )\n",
    "            imputer = fit_imputer(temp.sample(samples),\n",
    "#                                   best_hps\n",
    "                                 )\n",
    "            print(partition, split, \"fit imputer: save imputer\")\n",
    "            save_pickle(imputer, f\"{fp_out}/imputer.p\")\n",
    "            \n",
    "            # check imputer and log results\n",
    "#             print(partition, split, \"check imputer: plot distributions\")\n",
    "#             print(imputer.plot_imputed_distributions(wspace=0.3,hspace=0.3))\n",
    "            #plt.savefig(f\"{fp_out}/imputed_dists.png\")\n",
    "            \n",
    "        # apply imputer and scaler\n",
    "        print(partition, split, f\"impute {split}\")\n",
    "        \n",
    "        if temp.isna().sum().sum() > 0:\n",
    "            temp = imputer.impute_new_data(new_data=temp, verbose=True).complete_data(0)            \n",
    "            \n",
    "        \n",
    "        if split==\"train\": \n",
    "            \n",
    "            # fit and save standardscaler\n",
    "            print(partition, split, \"fit scaler\")\n",
    "            scaler = StandardScaler(with_mean=True, with_std=True, copy=True).fit(temp[variables_cont].values)\n",
    "            save_pickle(scaler, f\"{fp_out}/scaler.p\")\n",
    "            \n",
    "        scale_encode_save_feather.remote(partition, split, temp, scaler, variables_cont, variables_cat, fp_out)\n",
    "        \n",
    "    return True"
   ]
  },
  {
   "cell_type": "code",
   "execution_count": 15,
   "metadata": {
    "execution": {
     "iopub.execute_input": "2022-08-25T11:55:09.515128Z",
     "iopub.status.busy": "2022-08-25T11:55:09.515008Z",
     "iopub.status.idle": "2022-08-25T11:55:09.517228Z",
     "shell.execute_reply": "2022-08-25T11:55:09.516914Z",
     "shell.execute_reply.started": "2022-08-25T11:55:09.515111Z"
    },
    "tags": []
   },
   "outputs": [],
   "source": [
    "# only execute once to make sure we have a good set of lightgmb parameters\n",
    "#get_imputer_hps(data_covariates, models[0], partitions[0], variables_to_norm, samples=10000)"
   ]
  },
  {
   "cell_type": "code",
   "execution_count": 16,
   "metadata": {
    "execution": {
     "iopub.execute_input": "2022-08-25T11:55:09.517753Z",
     "iopub.status.busy": "2022-08-25T11:55:09.517668Z",
     "iopub.status.idle": "2022-08-25T11:55:09.531584Z",
     "shell.execute_reply": "2022-08-25T11:55:09.531261Z",
     "shell.execute_reply.started": "2022-08-25T11:55:09.517742Z"
    },
    "tags": []
   },
   "outputs": [],
   "source": [
    "#impute_norm_variables(data_covariates, models[0], partitions[0], variables_to_norm, 10000)"
   ]
  },
  {
   "cell_type": "code",
   "execution_count": 17,
   "metadata": {
    "execution": {
     "iopub.execute_input": "2022-08-25T11:55:09.532118Z",
     "iopub.status.busy": "2022-08-25T11:55:09.532033Z",
     "iopub.status.idle": "2022-08-25T11:55:09.573075Z",
     "shell.execute_reply": "2022-08-25T11:55:09.572705Z",
     "shell.execute_reply.started": "2022-08-25T11:55:09.532108Z"
    },
    "tags": []
   },
   "outputs": [],
   "source": [
    "def norm_logh_and_extra(data_covariates, variables_cont, variables_cat, samples):\n",
    "    \n",
    "    print(f\"Tune and fit imputation with {samples} samples\")\n",
    "    \n",
    "#     for model in models:\n",
    "        # instead of models[0]\n",
    "#         hps_path = f\"{out_path}/{model}/imputer_best_hps.p\"\n",
    "#         if not pathlib.Path(hps_path).is_file():\n",
    "#             print(f\"No HPs found, estimating new HPs...\")\n",
    "#             get_imputer_hps(data_covariates, model, partitions[0], samples)\n",
    "#         else:\n",
    "#             print(f\"Use {hps_path}\")\n",
    "\n",
    "    progress = []\n",
    "    for model in models:\n",
    "        for partition in tqdm(partitions):\n",
    "            progress.append(impute_norm_variables(data_covariates, \n",
    "                                                  model, partition,\n",
    "                                                  variables_cont, \n",
    "                                                  variables_cat,\n",
    "                                                  samples))\n",
    "    #[ray.get(s) for s in tqdm(progress)]"
   ]
  },
  {
   "cell_type": "code",
   "execution_count": 18,
   "metadata": {
    "execution": {
     "iopub.execute_input": "2022-08-25T11:55:09.573624Z",
     "iopub.status.busy": "2022-08-25T11:55:09.573537Z",
     "iopub.status.idle": "2022-08-25T11:55:09.613481Z",
     "shell.execute_reply": "2022-08-25T11:55:09.613109Z",
     "shell.execute_reply.started": "2022-08-25T11:55:09.573613Z"
    },
    "tags": []
   },
   "outputs": [],
   "source": [
    "# encode_categorical"
   ]
  },
  {
   "cell_type": "code",
   "execution_count": 19,
   "metadata": {
    "execution": {
     "iopub.execute_input": "2022-08-25T11:55:09.613994Z",
     "iopub.status.busy": "2022-08-25T11:55:09.613912Z",
     "iopub.status.idle": "2022-08-25T13:05:26.642215Z",
     "shell.execute_reply": "2022-08-25T13:05:26.641889Z",
     "shell.execute_reply.started": "2022-08-25T11:55:09.613983Z"
    },
    "tags": []
   },
   "outputs": [
    {
     "name": "stdout",
     "output_type": "stream",
     "text": [
      "Tune and fit imputation with 15000 samples\n"
     ]
    },
    {
     "data": {
      "application/vnd.jupyter.widget-view+json": {
       "model_id": "c1b624d057704beeb57a143b3bca4438",
       "version_major": 2,
       "version_minor": 0
      },
      "text/plain": [
       "  0%|          | 0/22 [00:00<?, ?it/s]"
      ]
     },
     "metadata": {},
     "output_type": "display_data"
    },
    {
     "data": {
      "application/vnd.jupyter.widget-view+json": {
       "model_id": "876358b8d28543f19f83ed08e009e18d",
       "version_major": 2,
       "version_minor": 0
      },
      "text/plain": [
       "  0%|          | 0/3 [00:00<?, ?it/s]"
      ]
     },
     "metadata": {},
     "output_type": "display_data"
    },
    {
     "name": "stdout",
     "output_type": "stream",
     "text": [
      "0 train read and merge data\n",
      "0 train fit imputer\n",
      "0 train fit imputer: load hps\n",
      "0 train fit imputer: fit imputer\n",
      "OMOP_4306655                      0\n",
      "phecode_002                       0\n",
      "phecode_002-1                     0\n",
      "phecode_003                       0\n",
      "phecode_004                       0\n",
      "                               ... \n",
      "schizophrenia                     0\n",
      "sex                               0\n",
      "smoking_status                  289\n",
      "systemic_lupus_erythematosus      0\n",
      "systolic_blood_pressure         181\n",
      "Length: 1198, dtype: int64\n",
      "Missing columns: ['bmi', 'cholesterol', 'ethnic_background', 'hdl_cholesterol', 'smoking_status', 'systolic_blood_pressure']\n",
      "Dataset 0\n",
      "1  | systolic_blood_pressure | smoking_status | bmi | ethnic_background | cholesterol | hdl_cholesterol\n",
      "2  | systolic_blood_pressure | smoking_status | bmi | ethnic_background | cholesterol | hdl_cholesterol\n",
      "3  | systolic_blood_pressure | smoking_status | bmi | ethnic_background | cholesterol | hdl_cholesterol\n",
      "4  | systolic_blood_pressure | smoking_status | bmi | ethnic_background | cholesterol | hdl_cholesterol\n",
      "5  | systolic_blood_pressure | smoking_status | bmi | ethnic_background | cholesterol | hdl_cholesterol\n",
      "0 train fit imputer: save imputer\n",
      "0 train impute train\n",
      "Dataset 0\n",
      "1  | systolic_blood_pressure | smoking_status | bmi | ethnic_background | cholesterol | hdl_cholesterol\n",
      "2  | systolic_blood_pressure | smoking_status | bmi | ethnic_background | cholesterol | hdl_cholesterol\n",
      "3  | systolic_blood_pressure | smoking_status | bmi | ethnic_background | cholesterol | hdl_cholesterol\n",
      "4  | systolic_blood_pressure | smoking_status | bmi | ethnic_background | cholesterol | hdl_cholesterol\n",
      "5  | systolic_blood_pressure | smoking_status | bmi | ethnic_background | cholesterol | hdl_cholesterol\n",
      "0 train fit scaler\n",
      "0 valid read and merge data\n",
      "0 valid impute valid\n",
      "Dataset 0\n",
      "1  | systolic_blood_pressure | smoking_status | bmi | ethnic_background | cholesterol | hdl_cholesterol\n",
      "2  | systolic_blood_pressure\u001b[2m\u001b[36m(scale_encode_save_feather pid=375284)\u001b[0m 0 train scale train\n",
      "\u001b[2m\u001b[36m(scale_encode_save_feather pid=375284)\u001b[0m 0 train onehotencode train\n",
      "\u001b[2m\u001b[36m(scale_encode_save_feather pid=375284)\u001b[0m 0 train save train\n",
      " | smoking_status | bmi | ethnic_background | cholesterol | hdl_cholesterol\n",
      "3  | systolic_blood_pressure | smoking_status | bmi | ethnic_background | cholesterol | hdl_cholesterol\n",
      "4  | systolic_blood_pressure | smoking_status | bmi | ethnic_background | cholesterol | hdl_cholesterol\n",
      "5  | systolic_blood_pressure | smoking_status | bmi | ethnic_background | cholesterol | hdl_cholesterol\n",
      "0 test read and merge data\n",
      "\u001b[2m\u001b[36m(scale_encode_save_feather pid=375284)\u001b[0m 0 valid scale valid\n",
      "\u001b[2m\u001b[36m(scale_encode_save_feather pid=375284)\u001b[0m 0 valid onehotencode valid\n",
      "\u001b[2m\u001b[36m(scale_encode_save_feather pid=375284)\u001b[0m 0 valid save valid\n",
      "0 test impute test\n",
      "Dataset 0\n",
      "1  | systolic_blood_pressure | smoking_status | bmi | ethnic_background | cholesterol | hdl_cholesterol\n",
      "2  | systolic_blood_pressure | smoking_status | bmi | ethnic_background | cholesterol | hdl_cholesterol\n",
      "3  | systolic_blood_pressure | smoking_status | bmi | ethnic_background | cholesterol | hdl_cholesterol\n",
      "4  | systolic_blood_pressure | smoking_status | bmi | ethnic_background | cholesterol | hdl_cholesterol\n",
      "5  | systolic_blood_pressure | smoking_status | bmi | ethnic_background | cholesterol | hdl_cholesterol\n"
     ]
    },
    {
     "data": {
      "application/vnd.jupyter.widget-view+json": {
       "model_id": "88ed185de0d84150bda74f5fa0c2444d",
       "version_major": 2,
       "version_minor": 0
      },
      "text/plain": [
       "  0%|          | 0/3 [00:00<?, ?it/s]"
      ]
     },
     "metadata": {},
     "output_type": "display_data"
    },
    {
     "name": "stdout",
     "output_type": "stream",
     "text": [
      "1 train read and merge data\n",
      "\u001b[2m\u001b[36m(scale_encode_save_feather pid=375284)\u001b[0m 0 test scale test\n",
      "\u001b[2m\u001b[36m(scale_encode_save_feather pid=375284)\u001b[0m 0 test onehotencode test\n",
      "\u001b[2m\u001b[36m(scale_encode_save_feather pid=375284)\u001b[0m 0 test save test\n",
      "1 train fit imputer\n",
      "1 train fit imputer: load hps\n",
      "1 train fit imputer: fit imputer\n",
      "OMOP_4306655                      0\n",
      "phecode_002                       0\n",
      "phecode_002-1                     0\n",
      "phecode_003                       0\n",
      "phecode_004                       0\n",
      "                               ... \n",
      "schizophrenia                     0\n",
      "sex                               0\n",
      "smoking_status                  291\n",
      "systemic_lupus_erythematosus      0\n",
      "systolic_blood_pressure         181\n",
      "Length: 1198, dtype: int64\n",
      "Missing columns: ['bmi', 'cholesterol', 'ethnic_background', 'hdl_cholesterol', 'smoking_status', 'systolic_blood_pressure']\n",
      "Dataset 0\n",
      "1  | systolic_blood_pressure | bmi | smoking_status | ethnic_background | cholesterol | hdl_cholesterol\n",
      "2  | systolic_blood_pressure | bmi | smoking_status | ethnic_background | cholesterol | hdl_cholesterol\n",
      "3  | systolic_blood_pressure | bmi | smoking_status | ethnic_background | cholesterol | hdl_cholesterol\n",
      "4  | systolic_blood_pressure | bmi | smoking_status | ethnic_background | cholesterol | hdl_cholesterol\n",
      "5  | systolic_blood_pressure | bmi | smoking_status | ethnic_background | cholesterol | hdl_cholesterol\n",
      "1 train fit imputer: save imputer\n",
      "1 train impute train\n",
      "Dataset 0\n",
      "1  | systolic_blood_pressure | bmi | smoking_status | ethnic_background | cholesterol | hdl_cholesterol\n",
      "2  | systolic_blood_pressure | bmi | smoking_status | ethnic_background | cholesterol | hdl_cholesterol\n",
      "3  | systolic_blood_pressure | bmi | smoking_status | ethnic_background | cholesterol | hdl_cholesterol\n",
      "4  | systolic_blood_pressure | bmi | smoking_status | ethnic_background | cholesterol | hdl_cholesterol\n",
      "5  | systolic_blood_pressure | bmi | smoking_status | ethnic_background | cholesterol | hdl_cholesterol\n",
      "1 train fit scaler\n",
      "1 valid read and merge data\n",
      "\u001b[2m\u001b[36m(scale_encode_save_feather pid=375284)\u001b[0m 1 train scale train\n",
      "\u001b[2m\u001b[36m(scale_encode_save_feather pid=375284)\u001b[0m 1 train onehotencode train\n",
      "1 valid impute valid\n",
      "\u001b[2m\u001b[36m(scale_encode_save_feather pid=375284)\u001b[0m 1 train save train\n",
      "Dataset 0\n",
      "1  | systolic_blood_pressure | bmi | smoking_status | ethnic_background | cholesterol | hdl_cholesterol\n",
      "2  | systolic_blood_pressure | bmi | smoking_status | ethnic_background | cholesterol | hdl_cholesterol\n",
      "3  | systolic_blood_pressure | bmi | smoking_status | ethnic_background | cholesterol | hdl_cholesterol\n",
      "4  | systolic_blood_pressure | bmi | smoking_status | ethnic_background | cholesterol | hdl_cholesterol\n",
      "5  | systolic_blood_pressure | bmi | smoking_status | ethnic_background | cholesterol | hdl_cholesterol\n",
      "1 test read and merge data\n",
      "\u001b[2m\u001b[36m(scale_encode_save_feather pid=375284)\u001b[0m 1 valid scale valid\n",
      "\u001b[2m\u001b[36m(scale_encode_save_feather pid=375284)\u001b[0m 1 valid onehotencode valid\n",
      "\u001b[2m\u001b[36m(scale_encode_save_feather pid=375284)\u001b[0m 1 valid save valid\n",
      "1 test impute test\n",
      "Dataset 0\n",
      "1  | systolic_blood_pressure | bmi | smoking_status | ethnic_background | cholesterol | hdl_cholesterol\n",
      "2  | systolic_blood_pressure | bmi | smoking_status | ethnic_background | cholesterol | hdl_cholesterol\n",
      "3  | systolic_blood_pressure | bmi | smoking_status | ethnic_background | cholesterol | hdl_cholesterol\n",
      "4  | systolic_blood_pressure | bmi | smoking_status | ethnic_background | cholesterol | hdl_cholesterol\n",
      "5  | systolic_blood_pressure | bmi | smoking_status | ethnic_background | cholesterol | hdl_cholesterol\n",
      "\u001b[2m\u001b[36m(scale_encode_save_feather pid=375284)\u001b[0m 1 test scale test\n",
      "\u001b[2m\u001b[36m(scale_encode_save_feather pid=375284)\u001b[0m 1 test onehotencode test\n"
     ]
    },
    {
     "data": {
      "application/vnd.jupyter.widget-view+json": {
       "model_id": "7de179adf64e473d964c3e021cbbde9f",
       "version_major": 2,
       "version_minor": 0
      },
      "text/plain": [
       "  0%|          | 0/3 [00:00<?, ?it/s]"
      ]
     },
     "metadata": {},
     "output_type": "display_data"
    },
    {
     "name": "stdout",
     "output_type": "stream",
     "text": [
      "2 train read and merge data\n",
      "\u001b[2m\u001b[36m(scale_encode_save_feather pid=375284)\u001b[0m 1 test save test\n",
      "2 train fit imputer\n",
      "2 train fit imputer: load hps\n",
      "2 train fit imputer: fit imputer\n",
      "OMOP_4306655                      0\n",
      "phecode_002                       0\n",
      "phecode_002-1                     0\n",
      "phecode_003                       0\n",
      "phecode_004                       0\n",
      "                               ... \n",
      "schizophrenia                     0\n",
      "sex                               0\n",
      "smoking_status                  294\n",
      "systemic_lupus_erythematosus      0\n",
      "systolic_blood_pressure         186\n",
      "Length: 1198, dtype: int64\n",
      "Missing columns: ['bmi', 'cholesterol', 'ethnic_background', 'hdl_cholesterol', 'smoking_status', 'systolic_blood_pressure']\n",
      "Dataset 0\n",
      "1  | systolic_blood_pressure | bmi | smoking_status | ethnic_background | cholesterol | hdl_cholesterol\n",
      "2  | systolic_blood_pressure | bmi | smoking_status | ethnic_background | cholesterol | hdl_cholesterol\n",
      "3  | systolic_blood_pressure | bmi | smoking_status | ethnic_background | cholesterol | hdl_cholesterol\n",
      "4  | systolic_blood_pressure | bmi | smoking_status | ethnic_background | cholesterol | hdl_cholesterol\n",
      "5  | systolic_blood_pressure | bmi | smoking_status | ethnic_background | cholesterol | hdl_cholesterol\n",
      "2 train fit imputer: save imputer\n",
      "2 train impute train\n",
      "Dataset 0\n",
      "1  | systolic_blood_pressure | bmi | smoking_status | ethnic_background | cholesterol | hdl_cholesterol\n",
      "2  | systolic_blood_pressure | bmi | smoking_status | ethnic_background | cholesterol | hdl_cholesterol\n",
      "3  | systolic_blood_pressure | bmi | smoking_status | ethnic_background | cholesterol | hdl_cholesterol\n",
      "4  | systolic_blood_pressure | bmi | smoking_status | ethnic_background | cholesterol | hdl_cholesterol\n",
      "5  | systolic_blood_pressure | bmi | smoking_status | ethnic_background | cholesterol | hdl_cholesterol\n",
      "2 train fit scaler\n",
      "2 valid read and merge data\n",
      "\u001b[2m\u001b[36m(scale_encode_save_feather pid=375284)\u001b[0m 2 train scale train\n",
      "\u001b[2m\u001b[36m(scale_encode_save_feather pid=375284)\u001b[0m 2 train onehotencode train\n",
      "2 valid impute valid\n",
      "\u001b[2m\u001b[36m(scale_encode_save_feather pid=375284)\u001b[0m 2 train save train\n",
      "Dataset 0\n",
      "1  | systolic_blood_pressure | bmi | smoking_status | ethnic_background | cholesterol | hdl_cholesterol\n",
      "2  | systolic_blood_pressure | bmi | smoking_status | ethnic_background | cholesterol | hdl_cholesterol\n",
      "3  | systolic_blood_pressure | bmi | smoking_status | ethnic_background | cholesterol | hdl_cholesterol\n",
      "4  | systolic_blood_pressure | bmi | smoking_status | ethnic_background | cholesterol | hdl_cholesterol\n",
      "5  | systolic_blood_pressure | bmi | smoking_status | ethnic_background | cholesterol | hdl_cholesterol\n",
      "2 test read and merge data\n",
      "\u001b[2m\u001b[36m(scale_encode_save_feather pid=375284)\u001b[0m 2 valid scale valid\n",
      "\u001b[2m\u001b[36m(scale_encode_save_feather pid=375284)\u001b[0m 2 valid onehotencode valid\n",
      "\u001b[2m\u001b[36m(scale_encode_save_feather pid=375284)\u001b[0m 2 valid save valid\n",
      "2 test impute test\n",
      "Dataset 0\n",
      "1  | systolic_blood_pressure | bmi | smoking_status | ethnic_background | cholesterol | hdl_cholesterol\n",
      "2  | systolic_blood_pressure | bmi | smoking_status | ethnic_background | cholesterol | hdl_cholesterol\n",
      "3  | systolic_blood_pressure | bmi | smoking_status | ethnic_background | cholesterol | hdl_cholesterol\n",
      "4  | systolic_blood_pressure | bmi | smoking_status | ethnic_background | cholesterol | hdl_cholesterol\n",
      "5  | systolic_blood_pressure | bmi | smoking_status | ethnic_background | cholesterol | hdl_cholesterol\n"
     ]
    },
    {
     "data": {
      "application/vnd.jupyter.widget-view+json": {
       "model_id": "7c8ee9433b1c4536993a58ae3ad0a49f",
       "version_major": 2,
       "version_minor": 0
      },
      "text/plain": [
       "  0%|          | 0/3 [00:00<?, ?it/s]"
      ]
     },
     "metadata": {},
     "output_type": "display_data"
    },
    {
     "name": "stdout",
     "output_type": "stream",
     "text": [
      "3 train read and merge data\n",
      "\u001b[2m\u001b[36m(scale_encode_save_feather pid=375284)\u001b[0m 2 test scale test\n",
      "\u001b[2m\u001b[36m(scale_encode_save_feather pid=375284)\u001b[0m 2 test onehotencode test\n",
      "\u001b[2m\u001b[36m(scale_encode_save_feather pid=375284)\u001b[0m 2 test save test\n",
      "3 train fit imputer\n",
      "3 train fit imputer: load hps\n",
      "3 train fit imputer: fit imputer\n",
      "OMOP_4306655                      0\n",
      "phecode_002                       0\n",
      "phecode_002-1                     0\n",
      "phecode_003                       0\n",
      "phecode_004                       0\n",
      "                               ... \n",
      "schizophrenia                     0\n",
      "sex                               0\n",
      "smoking_status                  297\n",
      "systemic_lupus_erythematosus      0\n",
      "systolic_blood_pressure         187\n",
      "Length: 1198, dtype: int64\n",
      "Missing columns: ['bmi', 'cholesterol', 'ethnic_background', 'hdl_cholesterol', 'smoking_status', 'systolic_blood_pressure']\n",
      "Dataset 0\n",
      "1  | systolic_blood_pressure | smoking_status | bmi | ethnic_background | cholesterol | hdl_cholesterol\n",
      "2  | systolic_blood_pressure | smoking_status | bmi | ethnic_background | cholesterol | hdl_cholesterol\n",
      "3  | systolic_blood_pressure | smoking_status | bmi | ethnic_background | cholesterol | hdl_cholesterol\n",
      "4  | systolic_blood_pressure | smoking_status | bmi | ethnic_background | cholesterol | hdl_cholesterol\n",
      "5  | systolic_blood_pressure | smoking_status | bmi | ethnic_background | cholesterol | hdl_cholesterol\n",
      "3 train fit imputer: save imputer\n",
      "3 train impute train\n",
      "Dataset 0\n",
      "1  | systolic_blood_pressure | smoking_status | bmi | ethnic_background | cholesterol | hdl_cholesterol\n",
      "2  | systolic_blood_pressure | smoking_status | bmi | ethnic_background | cholesterol | hdl_cholesterol\n",
      "3  | systolic_blood_pressure | smoking_status | bmi | ethnic_background | cholesterol | hdl_cholesterol\n",
      "4  | systolic_blood_pressure | smoking_status | bmi | ethnic_background | cholesterol | hdl_cholesterol\n",
      "5  | systolic_blood_pressure | smoking_status | bmi | ethnic_background | cholesterol | hdl_cholesterol\n",
      "3 train fit scaler\n",
      "3 valid read and merge data\n",
      "\u001b[2m\u001b[36m(scale_encode_save_feather pid=375284)\u001b[0m 3 train scale train\n",
      "\u001b[2m\u001b[36m(scale_encode_save_feather pid=375284)\u001b[0m 3 train onehotencode train\n",
      "\u001b[2m\u001b[36m(scale_encode_save_feather pid=375284)\u001b[0m 3 train save train\n",
      "3 valid impute valid\n",
      "Dataset 0\n",
      "1  | systolic_blood_pressure | smoking_status | bmi | ethnic_background | cholesterol | hdl_cholesterol\n",
      "2  | systolic_blood_pressure | smoking_status | bmi | ethnic_background | cholesterol | hdl_cholesterol\n",
      "3  | systolic_blood_pressure | smoking_status | bmi | ethnic_background | cholesterol | hdl_cholesterol\n",
      "4  | systolic_blood_pressure | smoking_status | bmi | ethnic_background | cholesterol | hdl_cholesterol\n",
      "5  | systolic_blood_pressure | smoking_status | bmi | ethnic_background | cholesterol | hdl_cholesterol\n",
      "3 test read and merge data\n",
      "\u001b[2m\u001b[36m(scale_encode_save_feather pid=375284)\u001b[0m 3 valid scale valid\n",
      "\u001b[2m\u001b[36m(scale_encode_save_feather pid=375284)\u001b[0m 3 valid onehotencode valid\n",
      "\u001b[2m\u001b[36m(scale_encode_save_feather pid=375284)\u001b[0m 3 valid save valid\n",
      "3 test impute test\n",
      "Dataset 0\n",
      "1  | systolic_blood_pressure | smoking_status | bmi | ethnic_background | cholesterol | hdl_cholesterol\n",
      "2  | systolic_blood_pressure | smoking_status | bmi | ethnic_background | cholesterol | hdl_cholesterol\n",
      "3  | systolic_blood_pressure | smoking_status | bmi | ethnic_background | cholesterol | hdl_cholesterol\n",
      "4  | systolic_blood_pressure | smoking_status | bmi | ethnic_background | cholesterol | hdl_cholesterol\n",
      "5  | systolic_blood_pressure | smoking_status | bmi | ethnic_background | cholesterol | hdl_cholesterol\n",
      "\u001b[2m\u001b[36m(scale_encode_save_feather pid=375284)\u001b[0m 3 test scale test\n"
     ]
    },
    {
     "data": {
      "application/vnd.jupyter.widget-view+json": {
       "model_id": "281b13035bfc444dad8130c904c889d5",
       "version_major": 2,
       "version_minor": 0
      },
      "text/plain": [
       "  0%|          | 0/3 [00:00<?, ?it/s]"
      ]
     },
     "metadata": {},
     "output_type": "display_data"
    },
    {
     "name": "stdout",
     "output_type": "stream",
     "text": [
      "4 train read and merge data\n",
      "\u001b[2m\u001b[36m(scale_encode_save_feather pid=375284)\u001b[0m 3 test onehotencode test\n",
      "\u001b[2m\u001b[36m(scale_encode_save_feather pid=375284)\u001b[0m 3 test save test\n",
      "4 train fit imputer\n",
      "4 train fit imputer: load hps\n",
      "4 train fit imputer: fit imputer\n",
      "OMOP_4306655                      0\n",
      "phecode_002                       0\n",
      "phecode_002-1                     0\n",
      "phecode_003                       0\n",
      "phecode_004                       0\n",
      "                               ... \n",
      "schizophrenia                     0\n",
      "sex                               0\n",
      "smoking_status                  298\n",
      "systemic_lupus_erythematosus      0\n",
      "systolic_blood_pressure         187\n",
      "Length: 1198, dtype: int64\n",
      "Missing columns: ['bmi', 'cholesterol', 'ethnic_background', 'hdl_cholesterol', 'smoking_status', 'systolic_blood_pressure']\n",
      "Dataset 0\n",
      "1  | systolic_blood_pressure | bmi | smoking_status | ethnic_background | cholesterol | hdl_cholesterol\n",
      "2  | systolic_blood_pressure | bmi | smoking_status | ethnic_background | cholesterol | hdl_cholesterol\n",
      "3  | systolic_blood_pressure | bmi | smoking_status | ethnic_background | cholesterol | hdl_cholesterol\n",
      "4  | systolic_blood_pressure | bmi | smoking_status | ethnic_background | cholesterol | hdl_cholesterol\n",
      "5  | systolic_blood_pressure | bmi | smoking_status | ethnic_background | cholesterol | hdl_cholesterol\n",
      "4 train fit imputer: save imputer\n",
      "4 train impute train\n",
      "Dataset 0\n",
      "1  | systolic_blood_pressure | bmi | smoking_status | ethnic_background | cholesterol | hdl_cholesterol\n",
      "2  | systolic_blood_pressure | bmi | smoking_status | ethnic_background | cholesterol | hdl_cholesterol\n",
      "3  | systolic_blood_pressure | bmi | smoking_status | ethnic_background | cholesterol | hdl_cholesterol\n",
      "4  | systolic_blood_pressure | bmi | smoking_status | ethnic_background | cholesterol | hdl_cholesterol\n",
      "5  | systolic_blood_pressure | bmi | smoking_status | ethnic_background | cholesterol | hdl_cholesterol\n",
      "4 train fit scaler\n",
      "4 valid read and merge data\n",
      "\u001b[2m\u001b[36m(scale_encode_save_feather pid=375284)\u001b[0m 4 train scale train\n",
      "\u001b[2m\u001b[36m(scale_encode_save_feather pid=375284)\u001b[0m 4 train onehotencode train\n",
      "4 valid impute valid\n",
      "\u001b[2m\u001b[36m(scale_encode_save_feather pid=375284)\u001b[0m 4 train save train\n",
      "Dataset 0\n",
      "1  | systolic_blood_pressure | bmi | smoking_status | ethnic_background | cholesterol | hdl_cholesterol\n",
      "2  | systolic_blood_pressure | bmi | smoking_status | ethnic_background | cholesterol | hdl_cholesterol\n",
      "3  | systolic_blood_pressure | bmi | smoking_status | ethnic_background | cholesterol | hdl_cholesterol\n",
      "4  | systolic_blood_pressure | bmi | smoking_status | ethnic_background | cholesterol | hdl_cholesterol\n",
      "5  | systolic_blood_pressure | bmi | smoking_status | ethnic_background | cholesterol | hdl_cholesterol\n",
      "4 test read and merge data\n",
      "\u001b[2m\u001b[36m(scale_encode_save_feather pid=375284)\u001b[0m 4 valid scale valid\n",
      "\u001b[2m\u001b[36m(scale_encode_save_feather pid=375284)\u001b[0m 4 valid onehotencode valid\n",
      "\u001b[2m\u001b[36m(scale_encode_save_feather pid=375284)\u001b[0m 4 valid save valid\n",
      "4 test impute test\n",
      "Dataset 0\n",
      "1  | systolic_blood_pressure | bmi | smoking_status | ethnic_background | cholesterol | hdl_cholesterol\n",
      "2  | systolic_blood_pressure | bmi | smoking_status | ethnic_background | cholesterol | hdl_cholesterol\n",
      "3  | systolic_blood_pressure | bmi | smoking_status | ethnic_background | cholesterol | hdl_cholesterol\n",
      "4  | systolic_blood_pressure | bmi | smoking_status | ethnic_background | cholesterol | hdl_cholesterol\n",
      "5  | systolic_blood_pressure | bmi | smoking_status | ethnic_background | cholesterol | hdl_cholesterol\n",
      "\u001b[2m\u001b[36m(scale_encode_save_feather pid=375284)\u001b[0m 4 test scale test\n",
      "\u001b[2m\u001b[36m(scale_encode_save_feather pid=375284)\u001b[0m 4 test onehotencode test\n",
      "\u001b[2m\u001b[36m(scale_encode_save_feather pid=375284)\u001b[0m 4 test save test\n"
     ]
    },
    {
     "data": {
      "application/vnd.jupyter.widget-view+json": {
       "model_id": "d5fb55d4410a4b26986d701d50384e3c",
       "version_major": 2,
       "version_minor": 0
      },
      "text/plain": [
       "  0%|          | 0/3 [00:00<?, ?it/s]"
      ]
     },
     "metadata": {},
     "output_type": "display_data"
    },
    {
     "name": "stdout",
     "output_type": "stream",
     "text": [
      "5 train read and merge data\n",
      "5 train fit imputer\n",
      "5 train fit imputer: load hps\n",
      "5 train fit imputer: fit imputer\n",
      "OMOP_4306655                      0\n",
      "phecode_002                       0\n",
      "phecode_002-1                     0\n",
      "phecode_003                       0\n",
      "phecode_004                       0\n",
      "                               ... \n",
      "schizophrenia                     0\n",
      "sex                               0\n",
      "smoking_status                  299\n",
      "systemic_lupus_erythematosus      0\n",
      "systolic_blood_pressure         188\n",
      "Length: 1197, dtype: int64\n",
      "Missing columns: ['bmi', 'cholesterol', 'ethnic_background', 'hdl_cholesterol', 'smoking_status', 'systolic_blood_pressure']\n",
      "Dataset 0\n",
      "1  | systolic_blood_pressure | bmi | smoking_status | ethnic_background | cholesterol | hdl_cholesterol\n",
      "2  | systolic_blood_pressure | bmi | smoking_status | ethnic_background | cholesterol | hdl_cholesterol\n",
      "3  | systolic_blood_pressure | bmi | smoking_status | ethnic_background | cholesterol | hdl_cholesterol\n",
      "4  | systolic_blood_pressure | bmi | smoking_status | ethnic_background | cholesterol | hdl_cholesterol\n",
      "5  | systolic_blood_pressure | bmi | smoking_status | ethnic_background | cholesterol | hdl_cholesterol\n",
      "5 train fit imputer: save imputer\n",
      "5 train impute train\n",
      "Dataset 0\n",
      "1  | systolic_blood_pressure | bmi | smoking_status | ethnic_background | cholesterol | hdl_cholesterol\n",
      "2  | systolic_blood_pressure | bmi | smoking_status | ethnic_background | cholesterol | hdl_cholesterol\n",
      "3  | systolic_blood_pressure | bmi | smoking_status | ethnic_background | cholesterol | hdl_cholesterol\n",
      "4  | systolic_blood_pressure | bmi | smoking_status | ethnic_background | cholesterol | hdl_cholesterol\n",
      "5  | systolic_blood_pressure | bmi | smoking_status | ethnic_background | cholesterol | hdl_cholesterol\n",
      "5 train fit scaler\n",
      "5 valid read and merge data\n",
      "\u001b[2m\u001b[36m(scale_encode_save_feather pid=375284)\u001b[0m 5 train scale train\n",
      "5\u001b[2m\u001b[36m(scale_encode_save_feather pid=375284)\u001b[0m 5 train onehotencode train valid impute valid\n",
      "\n",
      "\u001b[2m\u001b[36m(scale_encode_save_feather pid=375284)\u001b[0m 5 train save train\n",
      "Dataset 0\n",
      "1  | systolic_blood_pressure | bmi | smoking_status | ethnic_background | cholesterol | hdl_cholesterol\n",
      "2  | systolic_blood_pressure | bmi | smoking_status | ethnic_background | cholesterol | hdl_cholesterol\n",
      "3  | systolic_blood_pressure | bmi | smoking_status | ethnic_background | cholesterol | hdl_cholesterol\n",
      "4  | systolic_blood_pressure | bmi | smoking_status | ethnic_background | cholesterol | hdl_cholesterol\n",
      "5  | systolic_blood_pressure | bmi | smoking_status | ethnic_background | cholesterol | hdl_cholesterol\n",
      "5 test read and merge data\n",
      "\u001b[2m\u001b[36m(scale_encode_save_feather pid=375284)\u001b[0m 5 valid scale valid\n",
      "\u001b[2m\u001b[36m(scale_encode_save_feather pid=375284)\u001b[0m 5 valid onehotencode valid\n",
      "\u001b[2m\u001b[36m(scale_encode_save_feather pid=375284)\u001b[0m 5 valid save valid\n",
      "5 test impute test\n",
      "Dataset 0\n",
      "1  | systolic_blood_pressure | bmi | smoking_status | ethnic_background | cholesterol | hdl_cholesterol\n",
      "2  | systolic_blood_pressure | bmi | smoking_status | ethnic_background | cholesterol | hdl_cholesterol\n",
      "3  | systolic_blood_pressure | bmi | smoking_status | ethnic_background | cholesterol | hdl_cholesterol\n",
      "4  | systolic_blood_pressure | bmi | smoking_status | ethnic_background | cholesterol | hdl_cholesterol\n",
      "5  | systolic_blood_pressure | bmi | smoking_status | ethnic_background | cholesterol | hdl_cholesterol\n"
     ]
    },
    {
     "data": {
      "application/vnd.jupyter.widget-view+json": {
       "model_id": "9ea0c2d802824589997acf235624bc3f",
       "version_major": 2,
       "version_minor": 0
      },
      "text/plain": [
       "  0%|          | 0/3 [00:00<?, ?it/s]"
      ]
     },
     "metadata": {},
     "output_type": "display_data"
    },
    {
     "name": "stdout",
     "output_type": "stream",
     "text": [
      "6 train read and merge data\n",
      "\u001b[2m\u001b[36m(scale_encode_save_feather pid=375284)\u001b[0m 5 test scale test\n",
      "\u001b[2m\u001b[36m(scale_encode_save_feather pid=375284)\u001b[0m 5 test onehotencode test\n",
      "\u001b[2m\u001b[36m(scale_encode_save_feather pid=375284)\u001b[0m 5 test save test\n",
      "6 train fit imputer\n",
      "6 train fit imputer: load hps\n",
      "6 train fit imputer: fit imputer\n",
      "OMOP_4306655                      0\n",
      "phecode_002                       0\n",
      "phecode_002-1                     0\n",
      "phecode_003                       0\n",
      "phecode_004                       0\n",
      "                               ... \n",
      "schizophrenia                     0\n",
      "sex                               0\n",
      "smoking_status                  299\n",
      "systemic_lupus_erythematosus      0\n",
      "systolic_blood_pressure         188\n",
      "Length: 1197, dtype: int64\n",
      "Missing columns: ['bmi', 'cholesterol', 'ethnic_background', 'hdl_cholesterol', 'smoking_status', 'systolic_blood_pressure']\n",
      "Dataset 0\n",
      "1  | systolic_blood_pressure | bmi | smoking_status | ethnic_background | cholesterol | hdl_cholesterol\n",
      "2  | systolic_blood_pressure | bmi | smoking_status | ethnic_background | cholesterol | hdl_cholesterol\n",
      "3  | systolic_blood_pressure | bmi | smoking_status | ethnic_background | cholesterol | hdl_cholesterol\n",
      "4  | systolic_blood_pressure | bmi | smoking_status | ethnic_background | cholesterol | hdl_cholesterol\n",
      "5  | systolic_blood_pressure | bmi | smoking_status | ethnic_background | cholesterol | hdl_cholesterol\n",
      "6 train fit imputer: save imputer\n",
      "6 train impute train\n",
      "Dataset 0\n",
      "1  | systolic_blood_pressure | bmi | smoking_status | ethnic_background | cholesterol | hdl_cholesterol\n",
      "2  | systolic_blood_pressure | bmi | smoking_status | ethnic_background | cholesterol | hdl_cholesterol\n",
      "3  | systolic_blood_pressure | bmi | smoking_status | ethnic_background | cholesterol | hdl_cholesterol\n",
      "4  | systolic_blood_pressure | bmi | smoking_status | ethnic_background | cholesterol | hdl_cholesterol\n",
      "5  | systolic_blood_pressure | bmi | smoking_status | ethnic_background | cholesterol | hdl_cholesterol\n",
      "6 train fit scaler\n",
      "6 valid read and merge data\n",
      "\u001b[2m\u001b[36m(scale_encode_save_feather pid=375284)\u001b[0m 6 train scale train\n",
      "\u001b[2m\u001b[36m(scale_encode_save_feather pid=375284)\u001b[0m 6 train onehotencode train\n",
      "6 valid impute valid\n",
      "\u001b[2m\u001b[36m(scale_encode_save_feather pid=375284)\u001b[0m 6 train save train\n",
      "Dataset 0\n",
      "1  | systolic_blood_pressure | bmi | smoking_status | ethnic_background | cholesterol | hdl_cholesterol\n",
      "2  | systolic_blood_pressure | bmi | smoking_status | ethnic_background | cholesterol | hdl_cholesterol\n",
      "3  | systolic_blood_pressure | bmi | smoking_status | ethnic_background | cholesterol | hdl_cholesterol\n",
      "4  | systolic_blood_pressure | bmi | smoking_status | ethnic_background | cholesterol | hdl_cholesterol\n",
      "5  | systolic_blood_pressure | bmi | smoking_status | ethnic_background | cholesterol | hdl_cholesterol\n",
      "6 test read and merge data\n",
      "\u001b[2m\u001b[36m(scale_encode_save_feather pid=375284)\u001b[0m 6 valid scale valid\n",
      "\u001b[2m\u001b[36m(scale_encode_save_feather pid=375284)\u001b[0m 6 valid onehotencode valid\n",
      "\u001b[2m\u001b[36m(scale_encode_save_feather pid=375284)\u001b[0m 6 valid save valid\n",
      "6 test impute test\n",
      "Dataset 0\n",
      "1  | systolic_blood_pressure | bmi | smoking_status | ethnic_background | cholesterol | hdl_cholesterol\n",
      "2  | systolic_blood_pressure | bmi | smoking_status | ethnic_background | cholesterol | hdl_cholesterol\n",
      "3  | systolic_blood_pressure | bmi | smoking_status | ethnic_background | cholesterol | hdl_cholesterol\n",
      "4  | systolic_blood_pressure | bmi | smoking_status | ethnic_background | cholesterol | hdl_cholesterol\n",
      "5  | systolic_blood_pressure | bmi | smoking_status | ethnic_background | cholesterol | hdl_cholesterol\n"
     ]
    },
    {
     "data": {
      "application/vnd.jupyter.widget-view+json": {
       "model_id": "50a6c65194994e3dafcbf2369f2208a6",
       "version_major": 2,
       "version_minor": 0
      },
      "text/plain": [
       "  0%|          | 0/3 [00:00<?, ?it/s]"
      ]
     },
     "metadata": {},
     "output_type": "display_data"
    },
    {
     "name": "stdout",
     "output_type": "stream",
     "text": [
      "7 train read and merge data\n",
      "\u001b[2m\u001b[36m(scale_encode_save_feather pid=375284)\u001b[0m 6 test scale test\n",
      "\u001b[2m\u001b[36m(scale_encode_save_feather pid=375284)\u001b[0m 6 test onehotencode test\n",
      "\u001b[2m\u001b[36m(scale_encode_save_feather pid=375284)\u001b[0m 6 test save test\n",
      "7 train fit imputer\n",
      "7 train fit imputer: load hps\n",
      "7 train fit imputer: fit imputer\n",
      "OMOP_4306655                      0\n",
      "phecode_002                       0\n",
      "phecode_002-1                     0\n",
      "phecode_003                       0\n",
      "phecode_004                       0\n",
      "                               ... \n",
      "schizophrenia                     0\n",
      "sex                               0\n",
      "smoking_status                  300\n",
      "systemic_lupus_erythematosus      0\n",
      "systolic_blood_pressure         188\n",
      "Length: 1198, dtype: int64\n",
      "Missing columns: ['bmi', 'cholesterol', 'ethnic_background', 'hdl_cholesterol', 'smoking_status', 'systolic_blood_pressure']\n",
      "Dataset 0\n",
      "1  | systolic_blood_pressure | smoking_status | bmi | ethnic_background | cholesterol | hdl_cholesterol\n",
      "2  | systolic_blood_pressure | smoking_status | bmi | ethnic_background | cholesterol | hdl_cholesterol\n",
      "3  | systolic_blood_pressure | smoking_status | bmi | ethnic_background | cholesterol | hdl_cholesterol\n",
      "4  | systolic_blood_pressure | smoking_status | bmi | ethnic_background | cholesterol | hdl_cholesterol\n",
      "5  | systolic_blood_pressure | smoking_status | bmi | ethnic_background | cholesterol | hdl_cholesterol\n",
      "7 train fit imputer: save imputer\n",
      "7 train impute train\n",
      "Dataset 0\n",
      "1  | systolic_blood_pressure | smoking_status | bmi | ethnic_background | cholesterol | hdl_cholesterol\n",
      "2  | systolic_blood_pressure | smoking_status | bmi | ethnic_background | cholesterol | hdl_cholesterol\n",
      "3  | systolic_blood_pressure | smoking_status | bmi | ethnic_background | cholesterol | hdl_cholesterol\n",
      "4  | systolic_blood_pressure | smoking_status | bmi | ethnic_background | cholesterol | hdl_cholesterol\n",
      "5  | systolic_blood_pressure | smoking_status | bmi | ethnic_background | cholesterol | hdl_cholesterol\n",
      "7 train fit scaler\n",
      "7 valid read and merge data\n",
      "\u001b[2m\u001b[36m(scale_encode_save_feather pid=375284)\u001b[0m 7 train scale train\n",
      "\u001b[2m\u001b[36m(scale_encode_save_feather pid=375284)\u001b[0m 7 train onehotencode train\n",
      "\u001b[2m\u001b[36m(scale_encode_save_feather pid=375284)\u001b[0m 7 train save train\n",
      "7 valid impute valid\n",
      "Dataset 0\n",
      "1  | systolic_blood_pressure | smoking_status | bmi | ethnic_background | cholesterol | hdl_cholesterol\n",
      "2  | systolic_blood_pressure | smoking_status | bmi | ethnic_background | cholesterol | hdl_cholesterol\n",
      "3  | systolic_blood_pressure | smoking_status | bmi | ethnic_background | cholesterol | hdl_cholesterol\n",
      "4  | systolic_blood_pressure | smoking_status | bmi | ethnic_background | cholesterol | hdl_cholesterol\n",
      "5  | systolic_blood_pressure | smoking_status | bmi | ethnic_background | cholesterol | hdl_cholesterol\n",
      "7 test read and merge data\n",
      "\u001b[2m\u001b[36m(scale_encode_save_feather pid=375284)\u001b[0m 7 valid scale valid\n",
      "\u001b[2m\u001b[36m(scale_encode_save_feather pid=375284)\u001b[0m 7 valid onehotencode valid\n",
      "\u001b[2m\u001b[36m(scale_encode_save_feather pid=375284)\u001b[0m 7 valid save valid\n",
      "7 test impute test\n",
      "Dataset 0\n",
      "1  | systolic_blood_pressure | smoking_status | bmi | ethnic_background | cholesterol | hdl_cholesterol\n",
      "2  | systolic_blood_pressure | smoking_status | bmi | ethnic_background | cholesterol | hdl_cholesterol\n",
      "3  | systolic_blood_pressure | smoking_status | bmi | ethnic_background | cholesterol | hdl_cholesterol\n",
      "4  | systolic_blood_pressure | smoking_status | bmi | ethnic_background | cholesterol | hdl_cholesterol\n",
      "5  | systolic_blood_pressure | smoking_status | bmi | ethnic_background | cholesterol | hdl_cholesterol\n"
     ]
    },
    {
     "data": {
      "application/vnd.jupyter.widget-view+json": {
       "model_id": "6b84533c446e4acbb8ad1f3956b1c5d0",
       "version_major": 2,
       "version_minor": 0
      },
      "text/plain": [
       "  0%|          | 0/3 [00:00<?, ?it/s]"
      ]
     },
     "metadata": {},
     "output_type": "display_data"
    },
    {
     "name": "stdout",
     "output_type": "stream",
     "text": [
      "8 train read and merge data\n",
      "\u001b[2m\u001b[36m(scale_encode_save_feather pid=375284)\u001b[0m 7 test scale test\n",
      "\u001b[2m\u001b[36m(scale_encode_save_feather pid=375284)\u001b[0m 7 test onehotencode test\n",
      "\u001b[2m\u001b[36m(scale_encode_save_feather pid=375284)\u001b[0m 7 test save test\n",
      "8 train fit imputer\n",
      "8 train fit imputer: load hps\n",
      "8 train fit imputer: fit imputer\n",
      "OMOP_4306655                      0\n",
      "phecode_002                       0\n",
      "phecode_002-1                     0\n",
      "phecode_003                       0\n",
      "phecode_004                       0\n",
      "                               ... \n",
      "schizophrenia                     0\n",
      "sex                               0\n",
      "smoking_status                  300\n",
      "systemic_lupus_erythematosus      0\n",
      "systolic_blood_pressure         188\n",
      "Length: 1198, dtype: int64\n",
      "Missing columns: ['bmi', 'cholesterol', 'ethnic_background', 'hdl_cholesterol', 'smoking_status', 'systolic_blood_pressure']\n",
      "Dataset 0\n",
      "1  | systolic_blood_pressure | smoking_status | bmi | ethnic_background | cholesterol | hdl_cholesterol\n",
      "2  | systolic_blood_pressure | smoking_status | bmi | ethnic_background | cholesterol | hdl_cholesterol\n",
      "3  | systolic_blood_pressure | smoking_status | bmi | ethnic_background | cholesterol | hdl_cholesterol\n",
      "4  | systolic_blood_pressure | smoking_status | bmi | ethnic_background | cholesterol | hdl_cholesterol\n",
      "5  | systolic_blood_pressure | smoking_status | bmi | ethnic_background | cholesterol | hdl_cholesterol\n",
      "8 train fit imputer: save imputer\n",
      "8 train impute train\n",
      "Dataset 0\n",
      "1  | systolic_blood_pressure | smoking_status | bmi | ethnic_background | cholesterol | hdl_cholesterol\n",
      "2  | systolic_blood_pressure | smoking_status | bmi | ethnic_background | cholesterol | hdl_cholesterol\n",
      "3  | systolic_blood_pressure | smoking_status | bmi | ethnic_background | cholesterol | hdl_cholesterol\n",
      "4  | systolic_blood_pressure | smoking_status | bmi | ethnic_background | cholesterol | hdl_cholesterol\n",
      "5  | systolic_blood_pressure | smoking_status | bmi | ethnic_background | cholesterol | hdl_cholesterol\n",
      "8 train fit scaler\n",
      "8 valid read and merge data\n",
      "\u001b[2m\u001b[36m(scale_encode_save_feather pid=375284)\u001b[0m 8 train scale train\n",
      "\u001b[2m\u001b[36m(scale_encode_save_feather pid=375284)\u001b[0m 8 train onehotencode train\n",
      "\u001b[2m\u001b[36m(scale_encode_save_feather pid=375284)\u001b[0m 8 train save train\n",
      "8 valid impute valid\n",
      "Dataset 0\n",
      "1  | systolic_blood_pressure | smoking_status | bmi | ethnic_background | cholesterol | hdl_cholesterol\n",
      "2  | systolic_blood_pressure | smoking_status | bmi | ethnic_background | cholesterol | hdl_cholesterol\n",
      "3  | systolic_blood_pressure | smoking_status | bmi | ethnic_background | cholesterol | hdl_cholesterol\n",
      "4  | systolic_blood_pressure | smoking_status | bmi | ethnic_background | cholesterol | hdl_cholesterol\n",
      "5  | systolic_blood_pressure | smoking_status | bmi | ethnic_background | cholesterol | hdl_cholesterol\n",
      "8 test read and merge data\n",
      "\u001b[2m\u001b[36m(scale_encode_save_feather pid=375284)\u001b[0m 8 valid scale valid\n",
      "\u001b[2m\u001b[36m(scale_encode_save_feather pid=375284)\u001b[0m 8 valid onehotencode valid\n",
      "\u001b[2m\u001b[36m(scale_encode_save_feather pid=375284)\u001b[0m 8 valid save valid\n",
      "8 test impute test\n",
      "Dataset 0\n",
      "1  | systolic_blood_pressure | smoking_status | bmi | ethnic_background | cholesterol | hdl_cholesterol\n",
      "2  | systolic_blood_pressure | smoking_status | bmi | ethnic_background | cholesterol | hdl_cholesterol\n",
      "3  | systolic_blood_pressure | smoking_status | bmi | ethnic_background | cholesterol | hdl_cholesterol\n",
      "4  | systolic_blood_pressure | smoking_status | bmi | ethnic_background | cholesterol | hdl_cholesterol\n",
      "5  | systolic_blood_pressure | smoking_status | bmi | ethnic_background | cholesterol | hdl_cholesterol\n",
      "\u001b[2m\u001b[36m(scale_encode_save_feather pid=375284)\u001b[0m 8 test scale test\n"
     ]
    },
    {
     "data": {
      "application/vnd.jupyter.widget-view+json": {
       "model_id": "a56576b7856a4a148677026dbee31d89",
       "version_major": 2,
       "version_minor": 0
      },
      "text/plain": [
       "  0%|          | 0/3 [00:00<?, ?it/s]"
      ]
     },
     "metadata": {},
     "output_type": "display_data"
    },
    {
     "name": "stdout",
     "output_type": "stream",
     "text": [
      "9 train read and merge data\n",
      "\u001b[2m\u001b[36m(scale_encode_save_feather pid=375284)\u001b[0m 8 test onehotencode test\n",
      "\u001b[2m\u001b[36m(scale_encode_save_feather pid=375284)\u001b[0m 8 test save test\n",
      "9 train fit imputer\n",
      "9 train fit imputer: load hps\n",
      "9 train fit imputer: fit imputer\n",
      "OMOP_4306655                      0\n",
      "phecode_002                       0\n",
      "phecode_002-1                     0\n",
      "phecode_003                       0\n",
      "phecode_004                       0\n",
      "                               ... \n",
      "schizophrenia                     0\n",
      "sex                               0\n",
      "smoking_status                  301\n",
      "systemic_lupus_erythematosus      0\n",
      "systolic_blood_pressure         188\n",
      "Length: 1198, dtype: int64\n",
      "Missing columns: ['bmi', 'cholesterol', 'ethnic_background', 'hdl_cholesterol', 'smoking_status', 'systolic_blood_pressure']\n",
      "Dataset 0\n",
      "1  | systolic_blood_pressure | bmi | smoking_status | ethnic_background | cholesterol | hdl_cholesterol\n",
      "2  | systolic_blood_pressure | bmi | smoking_status | ethnic_background | cholesterol | hdl_cholesterol\n",
      "3  | systolic_blood_pressure | bmi | smoking_status | ethnic_background | cholesterol | hdl_cholesterol\n",
      "4  | systolic_blood_pressure | bmi | smoking_status | ethnic_background | cholesterol | hdl_cholesterol\n",
      "5  | systolic_blood_pressure | bmi | smoking_status | ethnic_background | cholesterol | hdl_cholesterol\n",
      "9 train fit imputer: save imputer\n",
      "9 train impute train\n",
      "Dataset 0\n",
      "1  | systolic_blood_pressure | bmi | smoking_status | ethnic_background | cholesterol | hdl_cholesterol\n",
      "2  | systolic_blood_pressure | bmi | smoking_status | ethnic_background | cholesterol | hdl_cholesterol\n",
      "3  | systolic_blood_pressure | bmi | smoking_status | ethnic_background | cholesterol | hdl_cholesterol\n",
      "4  | systolic_blood_pressure | bmi | smoking_status | ethnic_background | cholesterol | hdl_cholesterol\n",
      "5  | systolic_blood_pressure | bmi | smoking_status | ethnic_background | cholesterol | hdl_cholesterol\n",
      "9 train fit scaler\n",
      "9 valid read and merge data\n",
      "\u001b[2m\u001b[36m(scale_encode_save_feather pid=375284)\u001b[0m 9 train scale train\n",
      "9 valid impute valid\n",
      "\u001b[2m\u001b[36m(scale_encode_save_feather pid=375284)\u001b[0m 9 train onehotencode train\n",
      "\u001b[2m\u001b[36m(scale_encode_save_feather pid=375284)\u001b[0m 9 train save train\n",
      "Dataset 0\n",
      "1  | systolic_blood_pressure | bmi | smoking_status | ethnic_background | cholesterol | hdl_cholesterol\n",
      "2  | systolic_blood_pressure | bmi | smoking_status | ethnic_background | cholesterol | hdl_cholesterol\n",
      "3  | systolic_blood_pressure | bmi | smoking_status | ethnic_background | cholesterol | hdl_cholesterol\n",
      "4  | systolic_blood_pressure | bmi | smoking_status | ethnic_background | cholesterol | hdl_cholesterol\n",
      "5  | systolic_blood_pressure | bmi | smoking_status | ethnic_background | cholesterol | hdl_cholesterol\n",
      "9 test read and merge data\n",
      "\u001b[2m\u001b[36m(scale_encode_save_feather pid=375284)\u001b[0m 9 valid scale valid\n",
      "\u001b[2m\u001b[36m(scale_encode_save_feather pid=375284)\u001b[0m 9 valid onehotencode valid\n",
      "\u001b[2m\u001b[36m(scale_encode_save_feather pid=375284)\u001b[0m 9 valid save valid\n",
      "9 test impute test\n",
      "Dataset 0\n",
      "1  | systolic_blood_pressure | bmi | smoking_status | ethnic_background | cholesterol | hdl_cholesterol\n",
      "2  | systolic_blood_pressure | bmi | smoking_status | ethnic_background | cholesterol | hdl_cholesterol\n",
      "3  | systolic_blood_pressure | bmi | smoking_status | ethnic_background | cholesterol | hdl_cholesterol\n",
      "4  | systolic_blood_pressure | bmi | smoking_status | ethnic_background | cholesterol | hdl_cholesterol\n",
      "5  | systolic_blood_pressure | bmi | smoking_status | ethnic_background | cholesterol | hdl_cholesterol\n"
     ]
    },
    {
     "data": {
      "application/vnd.jupyter.widget-view+json": {
       "model_id": "1989eaf98c374dd9abdd78a3d3265e9e",
       "version_major": 2,
       "version_minor": 0
      },
      "text/plain": [
       "  0%|          | 0/3 [00:00<?, ?it/s]"
      ]
     },
     "metadata": {},
     "output_type": "display_data"
    },
    {
     "name": "stdout",
     "output_type": "stream",
     "text": [
      "10 train read and merge data\n",
      "\u001b[2m\u001b[36m(scale_encode_save_feather pid=375284)\u001b[0m 9 test scale test\n",
      "\u001b[2m\u001b[36m(scale_encode_save_feather pid=375284)\u001b[0m 9 test onehotencode test\n",
      "\u001b[2m\u001b[36m(scale_encode_save_feather pid=375284)\u001b[0m 9 test save test\n",
      "10 train fit imputer\n",
      "10 train fit imputer: load hps\n",
      "10 train fit imputer: fit imputer\n",
      "OMOP_4306655                      0\n",
      "phecode_002                       0\n",
      "phecode_002-1                     0\n",
      "phecode_003                       0\n",
      "phecode_004                       0\n",
      "                               ... \n",
      "schizophrenia                     0\n",
      "sex                               0\n",
      "smoking_status                  301\n",
      "systemic_lupus_erythematosus      0\n",
      "systolic_blood_pressure         188\n",
      "Length: 1198, dtype: int64\n",
      "Missing columns: ['bmi', 'cholesterol', 'ethnic_background', 'hdl_cholesterol', 'smoking_status', 'systolic_blood_pressure']\n",
      "Dataset 0\n",
      "1  | systolic_blood_pressure | bmi | smoking_status | ethnic_background | cholesterol | hdl_cholesterol\n",
      "2  | systolic_blood_pressure | bmi | smoking_status | ethnic_background | cholesterol | hdl_cholesterol\n",
      "3  | systolic_blood_pressure | bmi | smoking_status | ethnic_background | cholesterol | hdl_cholesterol\n",
      "4  | systolic_blood_pressure | bmi | smoking_status | ethnic_background | cholesterol | hdl_cholesterol\n",
      "5  | systolic_blood_pressure | bmi | smoking_status | ethnic_background | cholesterol | hdl_cholesterol\n",
      "10 train fit imputer: save imputer\n",
      "10 train impute train\n",
      "Dataset 0\n",
      "1  | systolic_blood_pressure | bmi | smoking_status | ethnic_background | cholesterol | hdl_cholesterol\n",
      "2  | systolic_blood_pressure | bmi | smoking_status | ethnic_background | cholesterol | hdl_cholesterol\n",
      "3  | systolic_blood_pressure | bmi | smoking_status | ethnic_background | cholesterol | hdl_cholesterol\n",
      "4  | systolic_blood_pressure | bmi | smoking_status | ethnic_background | cholesterol | hdl_cholesterol\n",
      "5  | systolic_blood_pressure | bmi | smoking_status | ethnic_background | cholesterol | hdl_cholesterol\n",
      "10 train fit scaler\n",
      "10 valid read and merge data\n",
      "\u001b[2m\u001b[36m(scale_encode_save_feather pid=375284)\u001b[0m 10 train scale train\n",
      "\u001b[2m\u001b[36m(scale_encode_save_feather pid=375284)\u001b[0m 10 train onehotencode train\n",
      "10 valid impute valid\n",
      "\u001b[2m\u001b[36m(scale_encode_save_feather pid=375284)\u001b[0m 10 train save train\n",
      "Dataset 0\n",
      "1  | systolic_blood_pressure | bmi | smoking_status | ethnic_background | cholesterol | hdl_cholesterol\n",
      "2  | systolic_blood_pressure | bmi | smoking_status | ethnic_background | cholesterol | hdl_cholesterol\n",
      "3  | systolic_blood_pressure | bmi | smoking_status | ethnic_background | cholesterol | hdl_cholesterol\n",
      "4  | systolic_blood_pressure | bmi | smoking_status | ethnic_background | cholesterol | hdl_cholesterol\n",
      "5  | systolic_blood_pressure | bmi | smoking_status | ethnic_background | cholesterol | hdl_cholesterol\n",
      "10 test read and merge data\n",
      "\u001b[2m\u001b[36m(scale_encode_save_feather pid=375284)\u001b[0m 10 valid scale valid\n",
      "\u001b[2m\u001b[36m(scale_encode_save_feather pid=375284)\u001b[0m 10 valid onehotencode valid\n",
      "\u001b[2m\u001b[36m(scale_encode_save_feather pid=375284)\u001b[0m 10 valid save valid\n",
      "10 test impute test\n",
      "Dataset 0\n",
      "1  | systolic_blood_pressure | bmi | smoking_status | ethnic_background | cholesterol | hdl_cholesterol\n",
      "2  | systolic_blood_pressure | bmi | smoking_status | ethnic_background | cholesterol | hdl_cholesterol\n",
      "3  | systolic_blood_pressure | bmi | smoking_status | ethnic_background | cholesterol | hdl_cholesterol\n",
      "4  | systolic_blood_pressure | bmi | smoking_status | ethnic_background | cholesterol | hdl_cholesterol\n",
      "5  | systolic_blood_pressure | bmi | smoking_status | ethnic_background | cholesterol | hdl_cholesterol\n"
     ]
    },
    {
     "data": {
      "application/vnd.jupyter.widget-view+json": {
       "model_id": "98145d2caa9d42778fe1468eb123b008",
       "version_major": 2,
       "version_minor": 0
      },
      "text/plain": [
       "  0%|          | 0/3 [00:00<?, ?it/s]"
      ]
     },
     "metadata": {},
     "output_type": "display_data"
    },
    {
     "name": "stdout",
     "output_type": "stream",
     "text": [
      "11 train read and merge data\n",
      "\u001b[2m\u001b[36m(scale_encode_save_feather pid=375284)\u001b[0m 10 test scale test\n",
      "\u001b[2m\u001b[36m(scale_encode_save_feather pid=375284)\u001b[0m 10 test onehotencode test\n",
      "\u001b[2m\u001b[36m(scale_encode_save_feather pid=375284)\u001b[0m 10 test save test\n",
      "11 train fit imputer\n",
      "11 train fit imputer: load hps\n",
      "11 train fit imputer: fit imputer\n",
      "OMOP_4306655                      0\n",
      "phecode_002                       0\n",
      "phecode_002-1                     0\n",
      "phecode_003                       0\n",
      "phecode_004                       0\n",
      "                               ... \n",
      "schizophrenia                     0\n",
      "sex                               0\n",
      "smoking_status                  302\n",
      "systemic_lupus_erythematosus      0\n",
      "systolic_blood_pressure         189\n",
      "Length: 1198, dtype: int64\n",
      "Missing columns: ['bmi', 'cholesterol', 'ethnic_background', 'hdl_cholesterol', 'smoking_status', 'systolic_blood_pressure']\n",
      "Dataset 0\n",
      "1  | systolic_blood_pressure | bmi | smoking_status | ethnic_background | cholesterol | hdl_cholesterol\n",
      "2  | systolic_blood_pressure | bmi | smoking_status | ethnic_background | cholesterol | hdl_cholesterol\n",
      "3  | systolic_blood_pressure | bmi | smoking_status | ethnic_background | cholesterol | hdl_cholesterol\n",
      "4  | systolic_blood_pressure | bmi | smoking_status | ethnic_background | cholesterol | hdl_cholesterol\n",
      "5  | systolic_blood_pressure | bmi | smoking_status | ethnic_background | cholesterol | hdl_cholesterol\n",
      "11 train fit imputer: save imputer\n",
      "11 train impute train\n",
      "Dataset 0\n",
      "1  | systolic_blood_pressure | bmi | smoking_status | ethnic_background | cholesterol | hdl_cholesterol\n",
      "2  | systolic_blood_pressure | bmi | smoking_status | ethnic_background | cholesterol | hdl_cholesterol\n",
      "3  | systolic_blood_pressure | bmi | smoking_status | ethnic_background | cholesterol | hdl_cholesterol\n",
      "4  | systolic_blood_pressure | bmi | smoking_status | ethnic_background | cholesterol | hdl_cholesterol\n",
      "5  | systolic_blood_pressure | bmi | smoking_status | ethnic_background | cholesterol | hdl_cholesterol\n",
      "11 train fit scaler\n",
      "11 valid read and merge data\n",
      "\u001b[2m\u001b[36m(scale_encode_save_feather pid=375284)\u001b[0m 11 train scale train\n",
      "\u001b[2m\u001b[36m(scale_encode_save_feather pid=375284)\u001b[0m 11 train onehotencode train\n",
      "\u001b[2m\u001b[36m(scale_encode_save_feather pid=375284)\u001b[0m 11 train save train\n",
      "11 valid impute valid\n",
      "Dataset 0\n",
      "1  | systolic_blood_pressure | bmi | smoking_status | ethnic_background | cholesterol | hdl_cholesterol\n",
      "2  | systolic_blood_pressure | bmi | smoking_status | ethnic_background | cholesterol | hdl_cholesterol\n",
      "3  | systolic_blood_pressure | bmi | smoking_status | ethnic_background | cholesterol | hdl_cholesterol\n",
      "4  | systolic_blood_pressure | bmi | smoking_status | ethnic_background | cholesterol | hdl_cholesterol\n",
      "5  | systolic_blood_pressure | bmi | smoking_status | ethnic_background | cholesterol | hdl_cholesterol\n",
      "11 test read and merge data\n",
      "\u001b[2m\u001b[36m(scale_encode_save_feather pid=375284)\u001b[0m 11 valid scale valid\n",
      "\u001b[2m\u001b[36m(scale_encode_save_feather pid=375284)\u001b[0m 11 valid onehotencode valid\n",
      "\u001b[2m\u001b[36m(scale_encode_save_feather pid=375284)\u001b[0m 11 valid save valid\n",
      "11 test impute test\n",
      "Dataset 0\n",
      "1  | systolic_blood_pressure | bmi | smoking_status | ethnic_background | cholesterol | hdl_cholesterol\n",
      "2  | systolic_blood_pressure | bmi | smoking_status | ethnic_background | cholesterol | hdl_cholesterol\n",
      "3  | systolic_blood_pressure | bmi | smoking_status | ethnic_background | cholesterol | hdl_cholesterol\n",
      "4  | systolic_blood_pressure | bmi | smoking_status | ethnic_background | cholesterol | hdl_cholesterol\n",
      "5  | systolic_blood_pressure | bmi | smoking_status | ethnic_background | cholesterol | hdl_cholesterol\n"
     ]
    },
    {
     "data": {
      "application/vnd.jupyter.widget-view+json": {
       "model_id": "74fae14892e143bdb855d4ea937bce33",
       "version_major": 2,
       "version_minor": 0
      },
      "text/plain": [
       "  0%|          | 0/3 [00:00<?, ?it/s]"
      ]
     },
     "metadata": {},
     "output_type": "display_data"
    },
    {
     "name": "stdout",
     "output_type": "stream",
     "text": [
      "\u001b[2m\u001b[36m(scale_encode_save_feather pid=375284)\u001b[0m 11 test scale test\n",
      "\u001b[2m\u001b[36m(scale_encode_save_feather pid=375284)\u001b[0m 11 test onehotencode test\n",
      "\u001b[2m\u001b[36m(scale_encode_save_feather pid=375284)\u001b[0m 11 test save test\n",
      "12 train read and merge data\n",
      "12 train fit imputer\n",
      "12 train fit imputer: load hps\n",
      "12 train fit imputer: fit imputer\n",
      "OMOP_4306655                      0\n",
      "phecode_002                       0\n",
      "phecode_002-1                     0\n",
      "phecode_003                       0\n",
      "phecode_004                       0\n",
      "                               ... \n",
      "schizophrenia                     0\n",
      "sex                               0\n",
      "smoking_status                  302\n",
      "systemic_lupus_erythematosus      0\n",
      "systolic_blood_pressure         189\n",
      "Length: 1198, dtype: int64\n",
      "Missing columns: ['bmi', 'cholesterol', 'ethnic_background', 'hdl_cholesterol', 'smoking_status', 'systolic_blood_pressure']\n",
      "Dataset 0\n",
      "1  | systolic_blood_pressure | bmi | smoking_status | ethnic_background | cholesterol | hdl_cholesterol\n",
      "2  | systolic_blood_pressure | bmi | smoking_status | ethnic_background | cholesterol | hdl_cholesterol\n",
      "3  | systolic_blood_pressure | bmi | smoking_status | ethnic_background | cholesterol | hdl_cholesterol\n",
      "4  | systolic_blood_pressure | bmi | smoking_status | ethnic_background | cholesterol | hdl_cholesterol\n",
      "5  | systolic_blood_pressure | bmi | smoking_status | ethnic_background | cholesterol | hdl_cholesterol\n",
      "12 train fit imputer: save imputer\n",
      "12 train impute train\n",
      "Dataset 0\n",
      "1  | systolic_blood_pressure | bmi | smoking_status | ethnic_background | cholesterol | hdl_cholesterol\n",
      "2  | systolic_blood_pressure | bmi | smoking_status | ethnic_background | cholesterol | hdl_cholesterol\n",
      "3  | systolic_blood_pressure | bmi | smoking_status | ethnic_background | cholesterol | hdl_cholesterol\n",
      "4  | systolic_blood_pressure | bmi | smoking_status | ethnic_background | cholesterol | hdl_cholesterol\n",
      "5  | systolic_blood_pressure | bmi | smoking_status | ethnic_background | cholesterol | hdl_cholesterol\n",
      "12 train fit scaler\n",
      "12 valid read and merge data\n",
      "\u001b[2m\u001b[36m(scale_encode_save_feather pid=375284)\u001b[0m 12 train scale train\n",
      "\u001b[2m\u001b[36m(scale_encode_save_feather pid=375284)\u001b[0m 12 train onehotencode train\n",
      "12 valid impute valid\n",
      "\u001b[2m\u001b[36m(scale_encode_save_feather pid=375284)\u001b[0m 12 train save train\n",
      "Dataset 0\n",
      "1  | systolic_blood_pressure | bmi | smoking_status | ethnic_background | cholesterol | hdl_cholesterol\n",
      "2  | systolic_blood_pressure | bmi | smoking_status | ethnic_background | cholesterol | hdl_cholesterol\n",
      "3  | systolic_blood_pressure | bmi | smoking_status | ethnic_background | cholesterol | hdl_cholesterol\n",
      "4  | systolic_blood_pressure | bmi | smoking_status | ethnic_background | cholesterol | hdl_cholesterol\n",
      "5  | systolic_blood_pressure | bmi | smoking_status | ethnic_background | cholesterol | hdl_cholesterol\n",
      "12 test read and merge data\n",
      "\u001b[2m\u001b[36m(scale_encode_save_feather pid=375284)\u001b[0m 12 valid scale valid\n",
      "\u001b[2m\u001b[36m(scale_encode_save_feather pid=375284)\u001b[0m 12 valid onehotencode valid\n",
      "\u001b[2m\u001b[36m(scale_encode_save_feather pid=375284)\u001b[0m 12 valid save valid\n",
      "12 test impute test\n",
      "Dataset 0\n",
      "1  | systolic_blood_pressure | bmi | smoking_status | ethnic_background | cholesterol | hdl_cholesterol\n",
      "2  | systolic_blood_pressure | bmi | smoking_status | ethnic_background | cholesterol | hdl_cholesterol\n",
      "3  | systolic_blood_pressure | bmi | smoking_status | ethnic_background | cholesterol | hdl_cholesterol\n",
      "4  | systolic_blood_pressure | bmi | smoking_status | ethnic_background | cholesterol | hdl_cholesterol\n",
      "5  | systolic_blood_pressure | bmi | smoking_status | ethnic_background | cholesterol | hdl_cholesterol\n"
     ]
    },
    {
     "data": {
      "application/vnd.jupyter.widget-view+json": {
       "model_id": "651280b35838410393eeeb55a0e96a80",
       "version_major": 2,
       "version_minor": 0
      },
      "text/plain": [
       "  0%|          | 0/3 [00:00<?, ?it/s]"
      ]
     },
     "metadata": {},
     "output_type": "display_data"
    },
    {
     "name": "stdout",
     "output_type": "stream",
     "text": [
      "13 train read and merge data\n",
      "\u001b[2m\u001b[36m(scale_encode_save_feather pid=375284)\u001b[0m 12 test scale test\n",
      "\u001b[2m\u001b[36m(scale_encode_save_feather pid=375284)\u001b[0m 12 test onehotencode test\n",
      "\u001b[2m\u001b[36m(scale_encode_save_feather pid=375284)\u001b[0m 12 test save test\n",
      "13 train fit imputer\n",
      "13 train fit imputer: load hps\n",
      "13 train fit imputer: fit imputer\n",
      "OMOP_4306655                      0\n",
      "phecode_002                       0\n",
      "phecode_002-1                     0\n",
      "phecode_003                       0\n",
      "phecode_004                       0\n",
      "                               ... \n",
      "schizophrenia                     0\n",
      "sex                               0\n",
      "smoking_status                  303\n",
      "systemic_lupus_erythematosus      0\n",
      "systolic_blood_pressure         189\n",
      "Length: 1198, dtype: int64\n",
      "Missing columns: ['bmi', 'cholesterol', 'ethnic_background', 'hdl_cholesterol', 'smoking_status', 'systolic_blood_pressure']\n",
      "Dataset 0\n",
      "1  | systolic_blood_pressure | bmi | smoking_status | ethnic_background | cholesterol | hdl_cholesterol\n",
      "2  | systolic_blood_pressure | bmi | smoking_status | ethnic_background | cholesterol | hdl_cholesterol\n",
      "3  | systolic_blood_pressure | bmi | smoking_status | ethnic_background | cholesterol | hdl_cholesterol\n",
      "4  | systolic_blood_pressure | bmi | smoking_status | ethnic_background | cholesterol | hdl_cholesterol\n",
      "5  | systolic_blood_pressure | bmi | smoking_status | ethnic_background | cholesterol | hdl_cholesterol\n",
      "13 train fit imputer: save imputer\n",
      "13 train impute train\n",
      "Dataset 0\n",
      "1  | systolic_blood_pressure | bmi | smoking_status | ethnic_background | cholesterol | hdl_cholesterol\n",
      "2  | systolic_blood_pressure | bmi | smoking_status | ethnic_background | cholesterol | hdl_cholesterol\n",
      "3  | systolic_blood_pressure | bmi | smoking_status | ethnic_background | cholesterol | hdl_cholesterol\n",
      "4  | systolic_blood_pressure | bmi | smoking_status | ethnic_background | cholesterol | hdl_cholesterol\n",
      "5  | systolic_blood_pressure | bmi | smoking_status | ethnic_background | cholesterol | hdl_cholesterol\n",
      "13 train fit scaler\n",
      "13 valid read and merge data\n",
      "\u001b[2m\u001b[36m(scale_encode_save_feather pid=375284)\u001b[0m 13 train scale train\n",
      "\u001b[2m\u001b[36m(scale_encode_save_feather pid=375284)\u001b[0m 13 train onehotencode train\n",
      "13 valid impute valid\n",
      "\u001b[2m\u001b[36m(scale_encode_save_feather pid=375284)\u001b[0m 13 train save train\n",
      "Dataset 0\n",
      "1  | systolic_blood_pressure | bmi | smoking_status | ethnic_background | cholesterol | hdl_cholesterol\n",
      "2  | systolic_blood_pressure | bmi | smoking_status | ethnic_background | cholesterol | hdl_cholesterol\n",
      "3  | systolic_blood_pressure | bmi | smoking_status | ethnic_background | cholesterol | hdl_cholesterol\n",
      "4  | systolic_blood_pressure | bmi | smoking_status | ethnic_background | cholesterol | hdl_cholesterol\n",
      "5  | systolic_blood_pressure | bmi | smoking_status | ethnic_background | cholesterol | hdl_cholesterol\n",
      "13 test read and merge data\n",
      "\u001b[2m\u001b[36m(scale_encode_save_feather pid=375284)\u001b[0m 13 valid scale valid\n",
      "\u001b[2m\u001b[36m(scale_encode_save_feather pid=375284)\u001b[0m 13 valid onehotencode valid\n",
      "\u001b[2m\u001b[36m(scale_encode_save_feather pid=375284)\u001b[0m 13 valid save valid\n",
      "13 test impute test\n",
      "Dataset 0\n",
      "1  | systolic_blood_pressure | bmi | smoking_status | ethnic_background | cholesterol | hdl_cholesterol\n",
      "2  | systolic_blood_pressure | bmi | smoking_status | ethnic_background | cholesterol | hdl_cholesterol\n",
      "3  | systolic_blood_pressure | bmi | smoking_status | ethnic_background | cholesterol | hdl_cholesterol\n",
      "4  | systolic_blood_pressure | bmi | smoking_status | ethnic_background | cholesterol | hdl_cholesterol\n",
      "5  | systolic_blood_pressure | bmi | smoking_status | ethnic_background | cholesterol | hdl_cholesterol\n"
     ]
    },
    {
     "data": {
      "application/vnd.jupyter.widget-view+json": {
       "model_id": "3791a48f063743a68280c5e20d08873b",
       "version_major": 2,
       "version_minor": 0
      },
      "text/plain": [
       "  0%|          | 0/3 [00:00<?, ?it/s]"
      ]
     },
     "metadata": {},
     "output_type": "display_data"
    },
    {
     "name": "stdout",
     "output_type": "stream",
     "text": [
      "14 train read and merge data\n",
      "\u001b[2m\u001b[36m(scale_encode_save_feather pid=375284)\u001b[0m 13 test scale test\n",
      "\u001b[2m\u001b[36m(scale_encode_save_feather pid=375284)\u001b[0m 13 test onehotencode test\n",
      "\u001b[2m\u001b[36m(scale_encode_save_feather pid=375284)\u001b[0m 13 test save test\n",
      "14 train fit imputer\n",
      "14 train fit imputer: load hps\n",
      "14 train fit imputer: fit imputer\n",
      "OMOP_4306655                      0\n",
      "phecode_002                       0\n",
      "phecode_002-1                     0\n",
      "phecode_003                       0\n",
      "phecode_004                       0\n",
      "                               ... \n",
      "schizophrenia                     0\n",
      "sex                               0\n",
      "smoking_status                  305\n",
      "systemic_lupus_erythematosus      0\n",
      "systolic_blood_pressure         189\n",
      "Length: 1198, dtype: int64\n",
      "Missing columns: ['bmi', 'cholesterol', 'ethnic_background', 'hdl_cholesterol', 'smoking_status', 'systolic_blood_pressure']\n",
      "Dataset 0\n",
      "1  | systolic_blood_pressure | smoking_status | bmi | ethnic_background | cholesterol | hdl_cholesterol\n",
      "2  | systolic_blood_pressure | smoking_status | bmi | ethnic_background | cholesterol | hdl_cholesterol\n",
      "3  | systolic_blood_pressure | smoking_status | bmi | ethnic_background | cholesterol | hdl_cholesterol\n",
      "4  | systolic_blood_pressure | smoking_status | bmi | ethnic_background | cholesterol | hdl_cholesterol\n",
      "5  | systolic_blood_pressure | smoking_status | bmi | ethnic_background | cholesterol | hdl_cholesterol\n",
      "14 train fit imputer: save imputer\n",
      "14 train impute train\n",
      "Dataset 0\n",
      "1  | systolic_blood_pressure | smoking_status | bmi | ethnic_background | cholesterol | hdl_cholesterol\n",
      "2  | systolic_blood_pressure | smoking_status | bmi | ethnic_background | cholesterol | hdl_cholesterol\n",
      "3  | systolic_blood_pressure | smoking_status | bmi | ethnic_background | cholesterol | hdl_cholesterol\n",
      "4  | systolic_blood_pressure | smoking_status | bmi | ethnic_background | cholesterol | hdl_cholesterol\n",
      "5  | systolic_blood_pressure | smoking_status | bmi | ethnic_background | cholesterol | hdl_cholesterol\n",
      "14 train fit scaler\n",
      "14 valid read and merge data\n",
      "\u001b[2m\u001b[36m(scale_encode_save_feather pid=375284)\u001b[0m 14 train scale train\n",
      "\u001b[2m\u001b[36m(scale_encode_save_feather pid=375284)\u001b[0m 14 train onehotencode train\n",
      "\u001b[2m\u001b[36m(scale_encode_save_feather pid=375284)\u001b[0m 14 train save train\n",
      "14 valid impute valid\n",
      "Dataset 0\n",
      "1  | systolic_blood_pressure | smoking_status | bmi | ethnic_background | cholesterol | hdl_cholesterol\n",
      "2  | systolic_blood_pressure | smoking_status | bmi | ethnic_background | cholesterol | hdl_cholesterol\n",
      "3  | systolic_blood_pressure | smoking_status | bmi | ethnic_background | cholesterol | hdl_cholesterol\n",
      "4  | systolic_blood_pressure | smoking_status | bmi | ethnic_background | cholesterol | hdl_cholesterol\n",
      "5  | systolic_blood_pressure | smoking_status | bmi | ethnic_background | cholesterol | hdl_cholesterol\n",
      "14 test read and merge data\n",
      "\u001b[2m\u001b[36m(scale_encode_save_feather pid=375284)\u001b[0m 14 valid scale valid\n",
      "\u001b[2m\u001b[36m(scale_encode_save_feather pid=375284)\u001b[0m 14 valid onehotencode valid\n",
      "\u001b[2m\u001b[36m(scale_encode_save_feather pid=375284)\u001b[0m 14 valid save valid\n",
      "14 test impute test\n",
      "Dataset 0\n",
      "1  | systolic_blood_pressure | smoking_status | bmi | ethnic_background | cholesterol | hdl_cholesterol\n",
      "2  | systolic_blood_pressure | smoking_status | bmi | ethnic_background | cholesterol | hdl_cholesterol\n",
      "3  | systolic_blood_pressure | smoking_status | bmi | ethnic_background | cholesterol | hdl_cholesterol\n",
      "4  | systolic_blood_pressure | smoking_status | bmi | ethnic_background | cholesterol | hdl_cholesterol\n",
      "5  | systolic_blood_pressure | smoking_status | bmi | ethnic_background | cholesterol | hdl_cholesterol\n"
     ]
    },
    {
     "data": {
      "application/vnd.jupyter.widget-view+json": {
       "model_id": "d36df7632a6643d0989474b38322643e",
       "version_major": 2,
       "version_minor": 0
      },
      "text/plain": [
       "  0%|          | 0/3 [00:00<?, ?it/s]"
      ]
     },
     "metadata": {},
     "output_type": "display_data"
    },
    {
     "name": "stdout",
     "output_type": "stream",
     "text": [
      "\u001b[2m\u001b[36m(scale_encode_save_feather pid=375284)\u001b[0m 14 test scale test\n",
      "\u001b[2m\u001b[36m(scale_encode_save_feather pid=375284)\u001b[0m 14 test onehotencode test\n",
      "\u001b[2m\u001b[36m(scale_encode_save_feather pid=375284)\u001b[0m 14 test save test\n",
      "15 train read and merge data\n",
      "15 train fit imputer\n",
      "15 train fit imputer: load hps\n",
      "15 train fit imputer: fit imputer\n",
      "OMOP_4306655                      0\n",
      "phecode_002                       0\n",
      "phecode_002-1                     0\n",
      "phecode_003                       0\n",
      "phecode_004                       0\n",
      "                               ... \n",
      "schizophrenia                     0\n",
      "sex                               0\n",
      "smoking_status                  305\n",
      "systemic_lupus_erythematosus      0\n",
      "systolic_blood_pressure         189\n",
      "Length: 1198, dtype: int64\n",
      "Missing columns: ['bmi', 'cholesterol', 'ethnic_background', 'hdl_cholesterol', 'smoking_status', 'systolic_blood_pressure']\n",
      "Dataset 0\n",
      "1  | systolic_blood_pressure | smoking_status | bmi | ethnic_background | cholesterol | hdl_cholesterol\n",
      "2  | systolic_blood_pressure | smoking_status | bmi | ethnic_background | cholesterol | hdl_cholesterol\n",
      "3  | systolic_blood_pressure | smoking_status | bmi | ethnic_background | cholesterol | hdl_cholesterol\n",
      "4  | systolic_blood_pressure | smoking_status | bmi | ethnic_background | cholesterol | hdl_cholesterol\n",
      "5  | systolic_blood_pressure | smoking_status | bmi | ethnic_background | cholesterol | hdl_cholesterol\n",
      "15 train fit imputer: save imputer\n",
      "15 train impute train\n",
      "Dataset 0\n",
      "1  | systolic_blood_pressure | smoking_status | bmi | ethnic_background | cholesterol | hdl_cholesterol\n",
      "2  | systolic_blood_pressure | smoking_status | bmi | ethnic_background | cholesterol | hdl_cholesterol\n",
      "3  | systolic_blood_pressure | smoking_status | bmi | ethnic_background | cholesterol | hdl_cholesterol\n",
      "4  | systolic_blood_pressure | smoking_status | bmi | ethnic_background | cholesterol | hdl_cholesterol\n",
      "5  | systolic_blood_pressure | smoking_status | bmi | ethnic_background | cholesterol | hdl_cholesterol\n",
      "15 train fit scaler\n",
      "15 valid read and merge data\n",
      "\u001b[2m\u001b[36m(scale_encode_save_feather pid=375284)\u001b[0m 15 train scale train\n",
      "15 valid impute valid\n",
      "\u001b[2m\u001b[36m(scale_encode_save_feather pid=375284)\u001b[0m 15 train onehotencode train\n",
      "\u001b[2m\u001b[36m(scale_encode_save_feather pid=375284)\u001b[0m 15 train save train\n",
      "Dataset 0\n",
      "1  | systolic_blood_pressure | smoking_status | bmi | ethnic_background | cholesterol | hdl_cholesterol\n",
      "2  | systolic_blood_pressure | smoking_status | bmi | ethnic_background | cholesterol | hdl_cholesterol\n",
      "3  | systolic_blood_pressure | smoking_status | bmi | ethnic_background | cholesterol | hdl_cholesterol\n",
      "4  | systolic_blood_pressure | smoking_status | bmi | ethnic_background | cholesterol | hdl_cholesterol\n",
      "5  | systolic_blood_pressure | smoking_status | bmi | ethnic_background | cholesterol | hdl_cholesterol\n",
      "15 test read and merge data\n",
      "\u001b[2m\u001b[36m(scale_encode_save_feather pid=375284)\u001b[0m 15 valid scale valid\n",
      "\u001b[2m\u001b[36m(scale_encode_save_feather pid=375284)\u001b[0m 15 valid onehotencode valid\n",
      "\u001b[2m\u001b[36m(scale_encode_save_feather pid=375284)\u001b[0m 15 valid save valid\n",
      "15 test impute test\n",
      "Dataset 0\n",
      "1  | systolic_blood_pressure | smoking_status | bmi | ethnic_background | cholesterol | hdl_cholesterol\n",
      "2  | systolic_blood_pressure | smoking_status | bmi | ethnic_background | cholesterol | hdl_cholesterol\n",
      "3  | systolic_blood_pressure | smoking_status | bmi | ethnic_background | cholesterol | hdl_cholesterol\n",
      "4  | systolic_blood_pressure | smoking_status | bmi | ethnic_background | cholesterol | hdl_cholesterol\n",
      "5  | systolic_blood_pressure | smoking_status | bmi | ethnic_background | cholesterol | hdl_cholesterol\n"
     ]
    },
    {
     "data": {
      "application/vnd.jupyter.widget-view+json": {
       "model_id": "d826f545f39a4e26940047f88641e50c",
       "version_major": 2,
       "version_minor": 0
      },
      "text/plain": [
       "  0%|          | 0/3 [00:00<?, ?it/s]"
      ]
     },
     "metadata": {},
     "output_type": "display_data"
    },
    {
     "name": "stdout",
     "output_type": "stream",
     "text": [
      "16 train read and merge data\n",
      "\u001b[2m\u001b[36m(scale_encode_save_feather pid=375284)\u001b[0m 15 test scale test\n",
      "\u001b[2m\u001b[36m(scale_encode_save_feather pid=375284)\u001b[0m 15 test onehotencode test\n",
      "\u001b[2m\u001b[36m(scale_encode_save_feather pid=375284)\u001b[0m 15 test save test\n",
      "16 train fit imputer\n",
      "16 train fit imputer: load hps\n",
      "16 train fit imputer: fit imputer\n",
      "OMOP_4306655                      0\n",
      "phecode_002                       0\n",
      "phecode_002-1                     0\n",
      "phecode_003                       0\n",
      "phecode_004                       0\n",
      "                               ... \n",
      "schizophrenia                     0\n",
      "sex                               0\n",
      "smoking_status                  307\n",
      "systemic_lupus_erythematosus      0\n",
      "systolic_blood_pressure         189\n",
      "Length: 1197, dtype: int64\n",
      "Missing columns: ['bmi', 'cholesterol', 'ethnic_background', 'hdl_cholesterol', 'smoking_status', 'systolic_blood_pressure']\n",
      "Dataset 0\n",
      "1  | systolic_blood_pressure | bmi | smoking_status | ethnic_background | cholesterol | hdl_cholesterol\n",
      "2  | systolic_blood_pressure | bmi | smoking_status | ethnic_background | cholesterol | hdl_cholesterol\n",
      "3  | systolic_blood_pressure | bmi | smoking_status | ethnic_background | cholesterol | hdl_cholesterol\n",
      "4  | systolic_blood_pressure | bmi | smoking_status | ethnic_background | cholesterol | hdl_cholesterol\n",
      "5  | systolic_blood_pressure | bmi | smoking_status | ethnic_background | cholesterol | hdl_cholesterol\n",
      "16 train fit imputer: save imputer\n",
      "16 train impute train\n",
      "Dataset 0\n",
      "1  | systolic_blood_pressure | bmi | smoking_status | ethnic_background | cholesterol | hdl_cholesterol\n",
      "2  | systolic_blood_pressure | bmi | smoking_status | ethnic_background | cholesterol | hdl_cholesterol\n",
      "3  | systolic_blood_pressure | bmi | smoking_status | ethnic_background | cholesterol | hdl_cholesterol\n",
      "4  | systolic_blood_pressure | bmi | smoking_status | ethnic_background | cholesterol | hdl_cholesterol\n",
      "5  | systolic_blood_pressure | bmi | smoking_status | ethnic_background | cholesterol | hdl_cholesterol\n",
      "16 train fit scaler\n",
      "16 valid read and merge data\n",
      "\u001b[2m\u001b[36m(scale_encode_save_feather pid=375284)\u001b[0m 16 train scale train\n",
      "16 valid impute valid\n",
      "\u001b[2m\u001b[36m(scale_encode_save_feather pid=375284)\u001b[0m 16 train onehotencode train\n",
      "\u001b[2m\u001b[36m(scale_encode_save_feather pid=375284)\u001b[0m 16 train save train\n",
      "Dataset 0\n",
      "1  | systolic_blood_pressure | bmi | smoking_status | ethnic_background | cholesterol | hdl_cholesterol\n",
      "2  | systolic_blood_pressure | bmi | smoking_status | ethnic_background | cholesterol | hdl_cholesterol\n",
      "3  | systolic_blood_pressure | bmi | smoking_status | ethnic_background | cholesterol | hdl_cholesterol\n",
      "4  | systolic_blood_pressure | bmi | smoking_status | ethnic_background | cholesterol | hdl_cholesterol\n",
      "5  | systolic_blood_pressure | bmi | smoking_status | ethnic_background | cholesterol | hdl_cholesterol\n",
      "16 test read and merge data\n",
      "\u001b[2m\u001b[36m(scale_encode_save_feather pid=375284)\u001b[0m 16 valid scale valid\n",
      "\u001b[2m\u001b[36m(scale_encode_save_feather pid=375284)\u001b[0m 16 valid onehotencode valid\n",
      "\u001b[2m\u001b[36m(scale_encode_save_feather pid=375284)\u001b[0m 16 valid save valid\n",
      "16 test impute test\n",
      "Dataset 0\n",
      "1  | systolic_blood_pressure | bmi | smoking_status | ethnic_background | cholesterol | hdl_cholesterol\n",
      "2  | systolic_blood_pressure | bmi | smoking_status | ethnic_background | cholesterol | hdl_cholesterol\n",
      "3  | systolic_blood_pressure | bmi | smoking_status | ethnic_background | cholesterol | hdl_cholesterol\n",
      "4  | systolic_blood_pressure | bmi | smoking_status | ethnic_background | cholesterol | hdl_cholesterol\n",
      "5  | systolic_blood_pressure | bmi | smoking_status | ethnic_background | cholesterol | hdl_cholesterol\n",
      "\u001b[2m\u001b[36m(scale_encode_save_feather pid=375284)\u001b[0m 16 test scale test\n",
      "\u001b[2m\u001b[36m(scale_encode_save_feather pid=375284)\u001b[0m 16 test onehotencode test\n",
      "\u001b[2m\u001b[36m(scale_encode_save_feather pid=375284)\u001b[0m 16 test save test\n"
     ]
    },
    {
     "data": {
      "application/vnd.jupyter.widget-view+json": {
       "model_id": "08d205de40ea4653aacc42a52db04f1b",
       "version_major": 2,
       "version_minor": 0
      },
      "text/plain": [
       "  0%|          | 0/3 [00:00<?, ?it/s]"
      ]
     },
     "metadata": {},
     "output_type": "display_data"
    },
    {
     "name": "stdout",
     "output_type": "stream",
     "text": [
      "17 train read and merge data\n",
      "17 train fit imputer\n",
      "17 train fit imputer: load hps\n",
      "17 train fit imputer: fit imputer\n",
      "OMOP_4306655                      0\n",
      "phecode_002                       0\n",
      "phecode_002-1                     0\n",
      "phecode_003                       0\n",
      "phecode_004                       0\n",
      "                               ... \n",
      "schizophrenia                     0\n",
      "sex                               0\n",
      "smoking_status                  307\n",
      "systemic_lupus_erythematosus      0\n",
      "systolic_blood_pressure         189\n",
      "Length: 1197, dtype: int64\n",
      "Missing columns: ['bmi', 'cholesterol', 'ethnic_background', 'hdl_cholesterol', 'smoking_status', 'systolic_blood_pressure']\n",
      "Dataset 0\n",
      "1  | systolic_blood_pressure | smoking_status | bmi | ethnic_background | cholesterol | hdl_cholesterol\n",
      "2  | systolic_blood_pressure | smoking_status | bmi | ethnic_background | cholesterol | hdl_cholesterol\n",
      "3  | systolic_blood_pressure | smoking_status | bmi | ethnic_background | cholesterol | hdl_cholesterol\n",
      "4  | systolic_blood_pressure | smoking_status | bmi | ethnic_background | cholesterol | hdl_cholesterol\n",
      "5  | systolic_blood_pressure | smoking_status | bmi | ethnic_background | cholesterol | hdl_cholesterol\n",
      "17 train fit imputer: save imputer\n",
      "17 train impute train\n",
      "Dataset 0\n",
      "1  | systolic_blood_pressure | smoking_status | bmi | ethnic_background | cholesterol | hdl_cholesterol\n",
      "2  | systolic_blood_pressure | smoking_status | bmi | ethnic_background | cholesterol | hdl_cholesterol\n",
      "3  | systolic_blood_pressure | smoking_status | bmi | ethnic_background | cholesterol | hdl_cholesterol\n",
      "4  | systolic_blood_pressure | smoking_status | bmi | ethnic_background | cholesterol | hdl_cholesterol\n",
      "5  | systolic_blood_pressure | smoking_status | bmi | ethnic_background | cholesterol | hdl_cholesterol\n",
      "17 train fit scaler\n",
      "17 valid read and merge data\n",
      "\u001b[2m\u001b[36m(scale_encode_save_feather pid=375284)\u001b[0m 17 train scale train\n",
      "\u001b[2m\u001b[36m(scale_encode_save_feather pid=375284)\u001b[0m 17 train onehotencode train\n",
      "\u001b[2m\u001b[36m(scale_encode_save_feather pid=375284)\u001b[0m 17 train save train\n",
      "17 valid impute valid\n",
      "Dataset 0\n",
      "1  | systolic_blood_pressure | smoking_status | bmi | ethnic_background | cholesterol | hdl_cholesterol\n",
      "2  | systolic_blood_pressure | smoking_status | bmi | ethnic_background | cholesterol | hdl_cholesterol\n",
      "3  | systolic_blood_pressure | smoking_status | bmi | ethnic_background | cholesterol | hdl_cholesterol\n",
      "4  | systolic_blood_pressure | smoking_status | bmi | ethnic_background | cholesterol | hdl_cholesterol\n",
      "5  | systolic_blood_pressure | smoking_status | bmi | ethnic_background | cholesterol | hdl_cholesterol\n",
      "17 test read and merge data\n",
      "\u001b[2m\u001b[36m(scale_encode_save_feather pid=375284)\u001b[0m 17 valid scale valid\n",
      "\u001b[2m\u001b[36m(scale_encode_save_feather pid=375284)\u001b[0m 17 valid onehotencode valid\n",
      "\u001b[2m\u001b[36m(scale_encode_save_feather pid=375284)\u001b[0m 17 valid save valid\n",
      "17 test impute test\n",
      "Dataset 0\n",
      "1  | systolic_blood_pressure | smoking_status | bmi | ethnic_background | cholesterol | hdl_cholesterol\n",
      "2  | systolic_blood_pressure | smoking_status | bmi | ethnic_background | cholesterol | hdl_cholesterol\n",
      "3  | systolic_blood_pressure | smoking_status | bmi | ethnic_background | cholesterol | hdl_cholesterol\n",
      "4  | systolic_blood_pressure | smoking_status | bmi | ethnic_background | cholesterol | hdl_cholesterol\n",
      "5  | systolic_blood_pressure | smoking_status | bmi | ethnic_background | cholesterol | hdl_cholesterol\n",
      "\u001b[2m\u001b[36m(scale_encode_save_feather pid=375284)\u001b[0m 17 test scale test\n",
      "\u001b[2m\u001b[36m(scale_encode_save_feather pid=375284)\u001b[0m 17 test onehotencode test\n",
      "\u001b[2m\u001b[36m(scale_encode_save_feather pid=375284)\u001b[0m 17 test save test\n"
     ]
    },
    {
     "data": {
      "application/vnd.jupyter.widget-view+json": {
       "model_id": "5a7493ab1d274915a770661b1e7016ea",
       "version_major": 2,
       "version_minor": 0
      },
      "text/plain": [
       "  0%|          | 0/3 [00:00<?, ?it/s]"
      ]
     },
     "metadata": {},
     "output_type": "display_data"
    },
    {
     "name": "stdout",
     "output_type": "stream",
     "text": [
      "18 train read and merge data\n",
      "18 train fit imputer\n",
      "18 train fit imputer: load hps\n",
      "18 train fit imputer: fit imputer\n",
      "OMOP_4306655                      0\n",
      "phecode_002                       0\n",
      "phecode_002-1                     0\n",
      "phecode_003                       0\n",
      "phecode_004                       0\n",
      "                               ... \n",
      "schizophrenia                     0\n",
      "sex                               0\n",
      "smoking_status                  308\n",
      "systemic_lupus_erythematosus      0\n",
      "systolic_blood_pressure         189\n",
      "Length: 1197, dtype: int64\n",
      "Missing columns: ['bmi', 'cholesterol', 'ethnic_background', 'hdl_cholesterol', 'smoking_status', 'systolic_blood_pressure']\n",
      "Dataset 0\n",
      "1  | systolic_blood_pressure | bmi | smoking_status | ethnic_background | cholesterol | hdl_cholesterol\n",
      "2  | systolic_blood_pressure | bmi | smoking_status | ethnic_background | cholesterol | hdl_cholesterol\n",
      "3  | systolic_blood_pressure | bmi | smoking_status | ethnic_background | cholesterol | hdl_cholesterol\n",
      "4  | systolic_blood_pressure | bmi | smoking_status | ethnic_background | cholesterol | hdl_cholesterol\n",
      "5  | systolic_blood_pressure | bmi | smoking_status | ethnic_background | cholesterol | hdl_cholesterol\n",
      "18 train fit imputer: save imputer\n",
      "18 train impute train\n",
      "Dataset 0\n",
      "1  | systolic_blood_pressure | bmi | smoking_status | ethnic_background | cholesterol | hdl_cholesterol\n",
      "2  | systolic_blood_pressure | bmi | smoking_status | ethnic_background | cholesterol | hdl_cholesterol\n",
      "3  | systolic_blood_pressure | bmi | smoking_status | ethnic_background | cholesterol | hdl_cholesterol\n",
      "4  | systolic_blood_pressure | bmi | smoking_status | ethnic_background | cholesterol | hdl_cholesterol\n",
      "5  | systolic_blood_pressure | bmi | smoking_status | ethnic_background | cholesterol | hdl_cholesterol\n",
      "18 train fit scaler\n",
      "18 valid read and merge data\n",
      "\u001b[2m\u001b[36m(scale_encode_save_feather pid=375284)\u001b[0m 18 train scale train\n",
      "\u001b[2m\u001b[36m(scale_encode_save_feather pid=375284)\u001b[0m 18 train onehotencode train\n",
      "18 valid impute valid\n",
      "\u001b[2m\u001b[36m(scale_encode_save_feather pid=375284)\u001b[0m 18 train save train\n",
      "Dataset 0\n",
      "1  | systolic_blood_pressure | bmi | smoking_status | ethnic_background | cholesterol | hdl_cholesterol\n",
      "2  | systolic_blood_pressure | bmi | smoking_status | ethnic_background | cholesterol | hdl_cholesterol\n",
      "3  | systolic_blood_pressure | bmi | smoking_status | ethnic_background | cholesterol | hdl_cholesterol\n",
      "4  | systolic_blood_pressure | bmi | smoking_status | ethnic_background | cholesterol | hdl_cholesterol\n",
      "5  | systolic_blood_pressure | bmi | smoking_status | ethnic_background | cholesterol | hdl_cholesterol\n",
      "18 test read and merge data\n",
      "\u001b[2m\u001b[36m(scale_encode_save_feather pid=375284)\u001b[0m 18 valid scale valid\n",
      "\u001b[2m\u001b[36m(scale_encode_save_feather pid=375284)\u001b[0m 18 valid onehotencode valid\n",
      "\u001b[2m\u001b[36m(scale_encode_save_feather pid=375284)\u001b[0m 18 valid save valid\n",
      "18 test impute test\n",
      "Dataset 0\n",
      "1  | systolic_blood_pressure | bmi | smoking_status | ethnic_background | cholesterol | hdl_cholesterol\n",
      "2  | systolic_blood_pressure | bmi | smoking_status | ethnic_background | cholesterol | hdl_cholesterol\n",
      "3  | systolic_blood_pressure | bmi | smoking_status | ethnic_background | cholesterol | hdl_cholesterol\n",
      "4  | systolic_blood_pressure | bmi | smoking_status | ethnic_background | cholesterol | hdl_cholesterol\n",
      "5  | systolic_blood_pressure | bmi | smoking_status | ethnic_background | cholesterol | hdl_cholesterol\n"
     ]
    },
    {
     "data": {
      "application/vnd.jupyter.widget-view+json": {
       "model_id": "64a8af2be897470398f6ef2a810f0f9b",
       "version_major": 2,
       "version_minor": 0
      },
      "text/plain": [
       "  0%|          | 0/3 [00:00<?, ?it/s]"
      ]
     },
     "metadata": {},
     "output_type": "display_data"
    },
    {
     "name": "stdout",
     "output_type": "stream",
     "text": [
      "19 train read and merge data\n",
      "\u001b[2m\u001b[36m(scale_encode_save_feather pid=375284)\u001b[0m 18 test scale test\n",
      "\u001b[2m\u001b[36m(scale_encode_save_feather pid=375284)\u001b[0m 18 test onehotencode test\n",
      "\u001b[2m\u001b[36m(scale_encode_save_feather pid=375284)\u001b[0m 18 test save test\n",
      "19 train fit imputer\n",
      "19 train fit imputer: load hps\n",
      "19 train fit imputer: fit imputer\n",
      "OMOP_4306655                      0\n",
      "phecode_002                       0\n",
      "phecode_002-1                     0\n",
      "phecode_003                       0\n",
      "phecode_004                       0\n",
      "                               ... \n",
      "schizophrenia                     0\n",
      "sex                               0\n",
      "smoking_status                  313\n",
      "systemic_lupus_erythematosus      0\n",
      "systolic_blood_pressure         190\n",
      "Length: 1197, dtype: int64\n",
      "Missing columns: ['bmi', 'cholesterol', 'ethnic_background', 'hdl_cholesterol', 'smoking_status', 'systolic_blood_pressure']\n",
      "Dataset 0\n",
      "1  | systolic_blood_pressure | bmi | smoking_status | ethnic_background | cholesterol | hdl_cholesterol\n",
      "2  | systolic_blood_pressure | bmi | smoking_status | ethnic_background | cholesterol | hdl_cholesterol\n",
      "3  | systolic_blood_pressure | bmi | smoking_status | ethnic_background | cholesterol | hdl_cholesterol\n",
      "4  | systolic_blood_pressure | bmi | smoking_status | ethnic_background | cholesterol | hdl_cholesterol\n",
      "5  | systolic_blood_pressure | bmi | smoking_status | ethnic_background | cholesterol | hdl_cholesterol\n",
      "19 train fit imputer: save imputer\n",
      "19 train impute train\n",
      "Dataset 0\n",
      "1  | systolic_blood_pressure | bmi | smoking_status | ethnic_background | cholesterol | hdl_cholesterol\n",
      "2  | systolic_blood_pressure | bmi | smoking_status | ethnic_background | cholesterol | hdl_cholesterol\n",
      "3  | systolic_blood_pressure | bmi | smoking_status | ethnic_background | cholesterol | hdl_cholesterol\n",
      "4  | systolic_blood_pressure | bmi | smoking_status | ethnic_background | cholesterol | hdl_cholesterol\n",
      "5  | systolic_blood_pressure | bmi | smoking_status | ethnic_background | cholesterol | hdl_cholesterol\n",
      "19 train fit scaler\n",
      "19 valid read and merge data\n",
      "\u001b[2m\u001b[36m(scale_encode_save_feather pid=375284)\u001b[0m 19 train scale train\n",
      "\u001b[2m\u001b[36m(scale_encode_save_feather pid=375284)\u001b[0m 19 train onehotencode train\n",
      "19 valid impute valid\n",
      "\u001b[2m\u001b[36m(scale_encode_save_feather pid=375284)\u001b[0m 19 train save train\n",
      "Dataset 0\n",
      "1  | systolic_blood_pressure | bmi | smoking_status | ethnic_background | cholesterol | hdl_cholesterol\n",
      "2  | systolic_blood_pressure | bmi | smoking_status | ethnic_background | cholesterol | hdl_cholesterol\n",
      "3  | systolic_blood_pressure | bmi | smoking_status | ethnic_background | cholesterol | hdl_cholesterol\n",
      "4  | systolic_blood_pressure | bmi | smoking_status | ethnic_background | cholesterol | hdl_cholesterol\n",
      "5  | systolic_blood_pressure | bmi | smoking_status | ethnic_background | cholesterol | hdl_cholesterol\n",
      "19 test read and merge data\n",
      "\u001b[2m\u001b[36m(scale_encode_save_feather pid=375284)\u001b[0m 19 valid scale valid\n",
      "\u001b[2m\u001b[36m(scale_encode_save_feather pid=375284)\u001b[0m 19 valid onehotencode valid\n",
      "\u001b[2m\u001b[36m(scale_encode_save_feather pid=375284)\u001b[0m 19 valid save valid\n",
      "19 test impute test\n",
      "Dataset 0\n",
      "1  | systolic_blood_pressure | smoking_status | ethnic_background | cholesterol | hdl_cholesterol\n",
      "2  | systolic_blood_pressure | smoking_status | ethnic_background | cholesterol | hdl_cholesterol\n",
      "3  | systolic_blood_pressure | smoking_status | ethnic_background | cholesterol | hdl_cholesterol\n",
      "4  | systolic_blood_pressure | smoking_status | ethnic_background | cholesterol | hdl_cholesterol\n",
      "5  | systolic_blood_pressure | smoking_status | ethnic_background | cholesterol | hdl_cholesterol\n"
     ]
    },
    {
     "data": {
      "application/vnd.jupyter.widget-view+json": {
       "model_id": "6030591021234eaba9520619da0d9782",
       "version_major": 2,
       "version_minor": 0
      },
      "text/plain": [
       "  0%|          | 0/3 [00:00<?, ?it/s]"
      ]
     },
     "metadata": {},
     "output_type": "display_data"
    },
    {
     "name": "stdout",
     "output_type": "stream",
     "text": [
      "20 train read and merge data\n",
      "\u001b[2m\u001b[36m(scale_encode_save_feather pid=375284)\u001b[0m 19 test scale test\n",
      "\u001b[2m\u001b[36m(scale_encode_save_feather pid=375284)\u001b[0m 19 test onehotencode test\n",
      "\u001b[2m\u001b[36m(scale_encode_save_feather pid=375284)\u001b[0m 19 test save test\n",
      "20 train fit imputer\n",
      "20 train fit imputer: load hps\n",
      "20 train fit imputer: fit imputer\n",
      "OMOP_4306655                      0\n",
      "phecode_002                       0\n",
      "phecode_002-1                     0\n",
      "phecode_003                       0\n",
      "phecode_004                       0\n",
      "                               ... \n",
      "schizophrenia                     0\n",
      "sex                               0\n",
      "smoking_status                  313\n",
      "systemic_lupus_erythematosus      0\n",
      "systolic_blood_pressure         191\n",
      "Length: 1197, dtype: int64\n",
      "Missing columns: ['bmi', 'cholesterol', 'ethnic_background', 'hdl_cholesterol', 'smoking_status', 'systolic_blood_pressure']\n",
      "Dataset 0\n",
      "1  | systolic_blood_pressure | bmi | smoking_status | ethnic_background | cholesterol | hdl_cholesterol\n",
      "2  | systolic_blood_pressure | bmi | smoking_status | ethnic_background | cholesterol | hdl_cholesterol\n",
      "3  | systolic_blood_pressure | bmi | smoking_status | ethnic_background | cholesterol | hdl_cholesterol\n",
      "4  | systolic_blood_pressure | bmi | smoking_status | ethnic_background | cholesterol | hdl_cholesterol\n",
      "5  | systolic_blood_pressure | bmi | smoking_status | ethnic_background | cholesterol | hdl_cholesterol\n",
      "20 train fit imputer: save imputer\n",
      "20 train impute train\n",
      "Dataset 0\n",
      "1  | systolic_blood_pressure | bmi | smoking_status | ethnic_background | cholesterol | hdl_cholesterol\n",
      "2  | systolic_blood_pressure | bmi | smoking_status | ethnic_background | cholesterol | hdl_cholesterol\n",
      "3  | systolic_blood_pressure | bmi | smoking_status | ethnic_background | cholesterol | hdl_cholesterol\n",
      "4  | systolic_blood_pressure | bmi | smoking_status | ethnic_background | cholesterol | hdl_cholesterol\n",
      "5  | systolic_blood_pressure | bmi | smoking_status | ethnic_background | cholesterol | hdl_cholesterol\n",
      "20 train fit scaler\n",
      "20 valid read and merge data\n",
      "\u001b[2m\u001b[36m(scale_encode_save_feather pid=375284)\u001b[0m 20 train scale train\n",
      "\u001b[2m\u001b[36m(scale_encode_save_feather pid=375284)\u001b[0m 20 train onehotencode train\n",
      "20 valid impute valid\n",
      "\u001b[2m\u001b[36m(scale_encode_save_feather pid=375284)\u001b[0m 20 train save train\n",
      "Dataset 0\n",
      "1  | systolic_blood_pressure | bmi | smoking_status | ethnic_background | cholesterol | hdl_cholesterol\n",
      "2  | systolic_blood_pressure | bmi | smoking_status | ethnic_background | cholesterol | hdl_cholesterol\n",
      "3  | systolic_blood_pressure | bmi | smoking_status | ethnic_background | cholesterol | hdl_cholesterol\n",
      "4  | systolic_blood_pressure | bmi | smoking_status | ethnic_background | cholesterol | hdl_cholesterol\n",
      "5  | systolic_blood_pressure | bmi | smoking_status | ethnic_background | cholesterol | hdl_cholesterol\n",
      "20 test read and merge data\n",
      "\u001b[2m\u001b[36m(scale_encode_save_feather pid=375284)\u001b[0m 20 valid scale valid\n",
      "\u001b[2m\u001b[36m(scale_encode_save_feather pid=375284)\u001b[0m 20 valid onehotencode valid\n",
      "\u001b[2m\u001b[36m(scale_encode_save_feather pid=375284)\u001b[0m 20 valid save valid\n",
      "20 test impute test\n",
      "Dataset 0\n",
      "1  | ethnic_background | cholesterol | hdl_cholesterol\n",
      "2  | ethnic_background | cholesterol | hdl_cholesterol\n",
      "3  | ethnic_background | cholesterol | hdl_cholesterol\n",
      "4  | ethnic_background | cholesterol | hdl_cholesterol\n",
      "5  | ethnic_background | cholesterol | hdl_cholesterol\n"
     ]
    },
    {
     "data": {
      "application/vnd.jupyter.widget-view+json": {
       "model_id": "0e6c1fc852b04fff95aa22508f6ed631",
       "version_major": 2,
       "version_minor": 0
      },
      "text/plain": [
       "  0%|          | 0/3 [00:00<?, ?it/s]"
      ]
     },
     "metadata": {},
     "output_type": "display_data"
    },
    {
     "name": "stdout",
     "output_type": "stream",
     "text": [
      "21 train read and merge data\n",
      "\u001b[2m\u001b[36m(scale_encode_save_feather pid=375284)\u001b[0m 20 test scale test\n",
      "\u001b[2m\u001b[36m(scale_encode_save_feather pid=375284)\u001b[0m 20 test onehotencode test\n",
      "\u001b[2m\u001b[36m(scale_encode_save_feather pid=375284)\u001b[0m 20 test save test\n",
      "21 train fit imputer\n",
      "21 train fit imputer: load hps\n",
      "21 train fit imputer: fit imputer\n",
      "OMOP_4306655                      0\n",
      "phecode_002                       0\n",
      "phecode_002-1                     0\n",
      "phecode_003                       0\n",
      "phecode_004                       0\n",
      "                               ... \n",
      "schizophrenia                     0\n",
      "sex                               0\n",
      "smoking_status                  315\n",
      "systemic_lupus_erythematosus      0\n",
      "systolic_blood_pressure         192\n",
      "Length: 1197, dtype: int64\n",
      "Missing columns: ['bmi', 'cholesterol', 'ethnic_background', 'hdl_cholesterol', 'smoking_status', 'systolic_blood_pressure']\n",
      "Dataset 0\n",
      "1  | systolic_blood_pressure | bmi | smoking_status | ethnic_background | cholesterol | hdl_cholesterol\n",
      "2  | systolic_blood_pressure | bmi | smoking_status | ethnic_background | cholesterol | hdl_cholesterol\n",
      "3  | systolic_blood_pressure | bmi | smoking_status | ethnic_background | cholesterol | hdl_cholesterol\n",
      "4  | systolic_blood_pressure | bmi | smoking_status | ethnic_background | cholesterol | hdl_cholesterol\n",
      "5  | systolic_blood_pressure | bmi | smoking_status | ethnic_background | cholesterol | hdl_cholesterol\n",
      "21 train fit imputer: save imputer\n",
      "21 train impute train\n",
      "Dataset 0\n",
      "1  | systolic_blood_pressure | bmi | smoking_status | ethnic_background | cholesterol | hdl_cholesterol\n",
      "2  | systolic_blood_pressure | bmi | smoking_status | ethnic_background | cholesterol | hdl_cholesterol\n",
      "3  | systolic_blood_pressure | bmi | smoking_status | ethnic_background | cholesterol | hdl_cholesterol\n",
      "4  | systolic_blood_pressure | bmi | smoking_status | ethnic_background | cholesterol | hdl_cholesterol\n",
      "5  | systolic_blood_pressure | bmi | smoking_status | ethnic_background | cholesterol | hdl_cholesterol\n",
      "21 train fit scaler\n",
      "21 valid read and merge data\n",
      "\u001b[2m\u001b[36m(scale_encode_save_feather pid=375284)\u001b[0m 21 train scale train\n",
      "\u001b[2m\u001b[36m(scale_encode_save_feather pid=375284)\u001b[0m 21 train onehotencode train\n",
      "21 valid impute valid\n",
      "\u001b[2m\u001b[36m(scale_encode_save_feather pid=375284)\u001b[0m 21 train save train\n",
      "Dataset 0\n",
      "1  | systolic_blood_pressure | bmi | smoking_status | ethnic_background | cholesterol | hdl_cholesterol\n",
      "2  | systolic_blood_pressure | bmi | smoking_status | ethnic_background | cholesterol | hdl_cholesterol\n",
      "3  | systolic_blood_pressure | bmi | smoking_status | ethnic_background | cholesterol | hdl_cholesterol\n",
      "4  | systolic_blood_pressure | bmi | smoking_status | ethnic_background | cholesterol | hdl_cholesterol\n",
      "5  | systolic_blood_pressure | bmi | smoking_status | ethnic_background | cholesterol | hdl_cholesterol\n",
      "21 test read and merge data\n",
      "\u001b[2m\u001b[36m(scale_encode_save_feather pid=375284)\u001b[0m 21 valid scale valid\n",
      "\u001b[2m\u001b[36m(scale_encode_save_feather pid=375284)\u001b[0m 21 valid onehotencode valid\n",
      "\u001b[2m\u001b[36m(scale_encode_save_feather pid=375284)\u001b[0m 21 valid save valid\n",
      "21 test impute test\n",
      "Dataset 0\n",
      "1  | cholesterol | hdl_cholesterol\n",
      "2  | cholesterol | hdl_cholesterol\n",
      "3  | cholesterol | hdl_cholesterol\n",
      "4  | cholesterol | hdl_cholesterol\n",
      "5  | cholesterol | hdl_cholesterol\n"
     ]
    }
   ],
   "source": [
    "norm_logh_and_extra(data_covariates, variables_cont, variables_cat, 15000)"
   ]
  },
  {
   "cell_type": "code",
   "execution_count": 20,
   "metadata": {
    "execution": {
     "iopub.execute_input": "2022-08-25T13:05:26.642932Z",
     "iopub.status.busy": "2022-08-25T13:05:26.642833Z",
     "iopub.status.idle": "2022-08-25T13:05:26.645872Z",
     "shell.execute_reply": "2022-08-25T13:05:26.645647Z",
     "shell.execute_reply.started": "2022-08-25T13:05:26.642919Z"
    },
    "tags": []
   },
   "outputs": [
    {
     "data": {
      "text/plain": [
       "'1.0.1'"
      ]
     },
     "execution_count": 20,
     "metadata": {},
     "output_type": "execute_result"
    }
   ],
   "source": [
    "import sklearn\n",
    "sklearn.__version__"
   ]
  },
  {
   "cell_type": "code",
   "execution_count": 21,
   "metadata": {
    "execution": {
     "iopub.execute_input": "2022-08-25T13:05:26.646458Z",
     "iopub.status.busy": "2022-08-25T13:05:26.646263Z",
     "iopub.status.idle": "2022-08-25T13:05:26.662536Z",
     "shell.execute_reply": "2022-08-25T13:05:26.662314Z",
     "shell.execute_reply.started": "2022-08-25T13:05:26.646446Z"
    },
    "tags": []
   },
   "outputs": [
    {
     "data": {
      "text/plain": [
       "2"
      ]
     },
     "execution_count": 21,
     "metadata": {},
     "output_type": "execute_result"
    }
   ],
   "source": [
    "1+1"
   ]
  },
  {
   "cell_type": "code",
   "execution_count": null,
   "metadata": {},
   "outputs": [],
   "source": []
  }
 ],
 "metadata": {
  "kernelspec": {
   "display_name": "retrisk",
   "language": "python",
   "name": "retrisk"
  },
  "language_info": {
   "codemirror_mode": {
    "name": "ipython",
    "version": 3
   },
   "file_extension": ".py",
   "mimetype": "text/x-python",
   "name": "python",
   "nbconvert_exporter": "python",
   "pygments_lexer": "ipython3",
   "version": "3.9.7"
  },
  "toc-autonumbering": false
 },
 "nbformat": 4,
 "nbformat_minor": 4
}
