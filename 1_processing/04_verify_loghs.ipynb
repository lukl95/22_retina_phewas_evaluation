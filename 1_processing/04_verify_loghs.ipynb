{
 "cells": [
  {
   "cell_type": "markdown",
   "metadata": {},
   "source": [
    "# Benchmarks"
   ]
  },
  {
   "cell_type": "markdown",
   "metadata": {},
   "source": [
    "## Initialize"
   ]
  },
  {
   "cell_type": "code",
   "execution_count": 1,
   "metadata": {
    "execution": {
     "iopub.execute_input": "2022-10-02T10:40:00.244249Z",
     "iopub.status.busy": "2022-10-02T10:40:00.243988Z",
     "iopub.status.idle": "2022-10-02T10:40:12.685227Z",
     "shell.execute_reply": "2022-10-02T10:40:12.684694Z",
     "shell.execute_reply.started": "2022-10-02T10:40:00.244208Z"
    },
    "tags": []
   },
   "outputs": [],
   "source": [
    "import os\n",
    "import math\n",
    "import pathlib\n",
    "import numpy as np\n",
    "import pandas as pd\n",
    "import pyarrow as pa\n",
    "import pyarrow.feather as feather\n",
    "from tqdm.auto import tqdm\n",
    "from IPython.display import clear_output\n",
    "\n",
    "import warnings\n",
    "from lifelines.utils import CensoringType\n",
    "from lifelines.utils import concordance_index"
   ]
  },
  {
   "cell_type": "code",
   "execution_count": 2,
   "metadata": {
    "execution": {
     "iopub.execute_input": "2022-10-02T10:40:12.686041Z",
     "iopub.status.busy": "2022-10-02T10:40:12.685930Z",
     "iopub.status.idle": "2022-10-02T10:40:14.491502Z",
     "shell.execute_reply": "2022-10-02T10:40:14.491000Z",
     "shell.execute_reply.started": "2022-10-02T10:40:12.686027Z"
    },
    "tags": []
   },
   "outputs": [],
   "source": [
    "import ray\n",
    "ray.shutdown()"
   ]
  },
  {
   "cell_type": "code",
   "execution_count": 3,
   "metadata": {
    "execution": {
     "iopub.execute_input": "2022-10-02T10:40:14.492286Z",
     "iopub.status.busy": "2022-10-02T10:40:14.492166Z",
     "iopub.status.idle": "2022-10-02T10:40:14.534824Z",
     "shell.execute_reply": "2022-10-02T10:40:14.534382Z",
     "shell.execute_reply.started": "2022-10-02T10:40:14.492269Z"
    },
    "tags": []
   },
   "outputs": [
    {
     "name": "stdout",
     "output_type": "stream",
     "text": [
      "/sc-projects/sc-proj-ukb-cvd\n"
     ]
    },
    {
     "data": {
      "text/plain": [
       "[0]"
      ]
     },
     "execution_count": 3,
     "metadata": {},
     "output_type": "execute_result"
    }
   ],
   "source": [
    "node = !hostname\n",
    "if \"sc\" in node[0]:\n",
    "    base_path = \"/sc-projects/sc-proj-ukb-cvd\"\n",
    "else: \n",
    "    base_path = \"/data/analysis/ag-reils/ag-reils-shared/cardioRS\"\n",
    "print(base_path)\n",
    "\n",
    "project_label = \"22_retina_phewas_220608\"\n",
    "project_path = f\"{base_path}/results/projects/{project_label}\"\n",
    "figure_path = f\"{project_path}/figures\"\n",
    "output_path = f\"{project_path}/data\"\n",
    "\n",
    "pathlib.Path(figure_path).mkdir(parents=True, exist_ok=True)\n",
    "pathlib.Path(output_path).mkdir(parents=True, exist_ok=True)\n",
    "\n",
    "experiment = '220603_fullrun'\n",
    "experiment_path = f\"{output_path}/{experiment}\"\n",
    "pathlib.Path(experiment_path).mkdir(parents=True, exist_ok=True)\n",
    "\n",
    "partitions = [i for i in range(1)]\n",
    "partitions"
   ]
  },
  {
   "cell_type": "code",
   "execution_count": null,
   "metadata": {
    "execution": {
     "iopub.execute_input": "2022-10-02T10:40:14.536188Z",
     "iopub.status.busy": "2022-10-02T10:40:14.536070Z"
    },
    "tags": []
   },
   "outputs": [],
   "source": [
    "import ray\n",
    "ray.init(num_cpus=24, include_dashboard=False)#, dashboard_port=24762, dashboard_host=\"0.0.0.0\", include_dashboard=True)#, webui_url=\"0.0.0.0\"))"
   ]
  },
  {
   "cell_type": "code",
   "execution_count": null,
   "metadata": {
    "tags": []
   },
   "outputs": [],
   "source": [
    "import pandas as pd\n",
    "endpoints = sorted([l.replace('_prevalent', '') for l in list(pd.read_csv('/sc-projects/sc-proj-ukb-cvd/results/projects/22_retinal_risk/data/220602/endpoints.csv').endpoint.values)])"
   ]
  },
  {
   "cell_type": "code",
   "execution_count": null,
   "metadata": {
    "tags": []
   },
   "outputs": [],
   "source": [
    "in_path = pathlib.Path(f\"{experiment_path}/loghs\")\n",
    "in_path.mkdir(parents=True, exist_ok=True)\n",
    "\n",
    "out_path = f\"{experiment_path}/coxph/input\"\n",
    "pathlib.Path(out_path).mkdir(parents=True, exist_ok=True)"
   ]
  },
  {
   "cell_type": "code",
   "execution_count": null,
   "metadata": {
    "tags": []
   },
   "outputs": [],
   "source": [
    "models = [f.name for f in in_path.iterdir() if f.is_dir() and \"ipynb_checkpoints\" not in str(f)]"
   ]
  },
  {
   "cell_type": "code",
   "execution_count": null,
   "metadata": {
    "tags": []
   },
   "outputs": [],
   "source": [
    "from sklearn.preprocessing import StandardScaler\n",
    "import pickle\n",
    "import zstandard\n",
    "\n",
    "def read_data(fp_in, split):\n",
    "    temp = pd.read_feather(f\"{fp_in}/{split}.feather\").set_index(\"eid\")\n",
    "    return temp   \n",
    "    \n",
    "def save_pickle(data, data_path):\n",
    "    with open(data_path, \"wb\") as fh:\n",
    "        cctx = zstandard.ZstdCompressor()\n",
    "        with cctx.stream_writer(fh) as compressor:\n",
    "            compressor.write(pickle.dumps(data, protocol=pickle.HIGHEST_PROTOCOL))\n",
    "    \n",
    "def read_predictions(model, partition, split):\n",
    "\n",
    "    fp_in = f\"{in_path}/{model}/{partition}\"\n",
    "    \n",
    "    if pathlib.Path(fp_in).is_dir(): \n",
    "        temp = read_data(fp_in, split)\n",
    "        return temp\n",
    "    else:\n",
    "        print(fp_in)\n",
    "        raise NotImplementedError()"
   ]
  },
  {
   "cell_type": "code",
   "execution_count": null,
   "metadata": {
    "tags": []
   },
   "outputs": [],
   "source": [
    "models"
   ]
  },
  {
   "cell_type": "code",
   "execution_count": null,
   "metadata": {
    "tags": []
   },
   "outputs": [],
   "source": [
    "for partition in partitions: # test: in [0, 10, 21]\n",
    "    for split in [\"train\", \"valid\", \"test\"]: # \"test_left\", 'test_right'\n",
    "        temp = read_predictions(models[0], partition, split)\n",
    "        print(partition, split, (temp.isna().sum() > 0).sum())"
   ]
  },
  {
   "cell_type": "code",
   "execution_count": null,
   "metadata": {},
   "outputs": [],
   "source": []
  }
 ],
 "metadata": {
  "kernelspec": {
   "display_name": "retrisk",
   "language": "python",
   "name": "retrisk"
  },
  "language_info": {
   "codemirror_mode": {
    "name": "ipython",
    "version": 3
   },
   "file_extension": ".py",
   "mimetype": "text/x-python",
   "name": "python",
   "nbconvert_exporter": "python",
   "pygments_lexer": "ipython3",
   "version": "3.9.7"
  },
  "toc-autonumbering": false
 },
 "nbformat": 4,
 "nbformat_minor": 4
}
