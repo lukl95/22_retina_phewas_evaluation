{
 "cells": [
  {
   "cell_type": "markdown",
   "metadata": {},
   "source": [
    "# Benchmarks"
   ]
  },
  {
   "cell_type": "markdown",
   "metadata": {},
   "source": [
    "## Initialize"
   ]
  },
  {
   "cell_type": "code",
   "execution_count": 1,
   "metadata": {
    "tags": []
   },
   "outputs": [],
   "source": [
    "import os\n",
    "import math\n",
    "import pathlib\n",
    "import numpy as np\n",
    "import pandas as pd\n",
    "from tqdm.auto import tqdm\n",
    "from IPython.display import clear_output\n",
    "\n",
    "import warnings\n",
    "from lifelines.utils import CensoringType\n",
    "from lifelines.utils import concordance_index"
   ]
  },
  {
   "cell_type": "code",
   "execution_count": 48,
   "metadata": {
    "tags": []
   },
   "outputs": [
    {
     "name": "stdout",
     "output_type": "stream",
     "text": [
      "/sc-projects/sc-proj-ukb-cvd\n"
     ]
    }
   ],
   "source": [
    "node = !hostname\n",
    "if \"sc\" in node[0]:\n",
    "    base_path = \"/sc-projects/sc-proj-ukb-cvd\"\n",
    "else: \n",
    "    base_path = \"/data/analysis/ag-reils/ag-reils-shared/cardioRS\"\n",
    "print(base_path)\n",
    "\n",
    "project_label = \"22_retina_phewas\"\n",
    "project_path = f\"{base_path}/results/projects/{project_label}\"\n",
    "figure_path = f\"{project_path}/figures\"\n",
    "output_path = f\"{project_path}/data\"\n",
    "\n",
    "##### BEGIN ADAPT #####\n",
    "# second best model\n",
    "# wandb_name = 'aug++_convnext_s_mlp'\n",
    "# wandb_id = '8ngm6apd'\n",
    "# best model\n",
    "wandb_name = 'aug++_convnext_s_mlp+'\n",
    "wandb_id = '3p3smraz'\n",
    "partitions = [0] # [i for i in range(22)]\n",
    "##### END   ADAPT #####\n",
    "\n",
    "experiment = wandb_id\n",
    "experiment_path = f\"{output_path}/{experiment}\"\n",
    "pathlib.Path(experiment_path).mkdir(parents=True, exist_ok=True)"
   ]
  },
  {
   "cell_type": "code",
   "execution_count": 27,
   "metadata": {
    "tags": []
   },
   "outputs": [
    {
     "name": "stdout",
     "output_type": "stream",
     "text": [
      "498\n",
      "498\n"
     ]
    }
   ],
   "source": [
    "import pandas as pd\n",
    "all_endpoints = sorted([l.replace('_prevalent', '') for l in list(pd.read_csv('/sc-projects/sc-proj-ukb-cvd/results/projects/22_medical_records/data/220413/frequent_endpoints.csv').endpoint.values)])\n",
    "\n",
    "#all_endpoints = sorted(endpoints_all_md.endpoint.to_list())\n",
    "print(len(all_endpoints))\n",
    "\n",
    "endpoints_not_overlapping_with_preds = []\n",
    "#endpoints_not_overlapping_with_preds_md = pd.read_csv(f\"{experiment_path}/endpoints_not_overlapping.csv\", header=None)\n",
    "#print(len(endpoints_not_overlapping_with_preds_md))\n",
    "#endpoints_not_overlapping_with_preds = list(endpoints_not_overlapping_with_preds_md[0].values)\n",
    "\n",
    "endpoints = []\n",
    "for c in all_endpoints:\n",
    "    if c not in endpoints_not_overlapping_with_preds: # this is what i want\n",
    "        #print('OK    - ',c)\n",
    "        endpoints.append(c)\n",
    "    #if c in endpoints_not_overlapping_with_preds: # this is what causes errors!\n",
    "    #    print('ERROR - ',c)\n",
    "print(len(endpoints))"
   ]
  },
  {
   "cell_type": "code",
   "execution_count": 28,
   "metadata": {
    "tags": []
   },
   "outputs": [],
   "source": [
    "splits = [\"train\", \"valid\", 'test'] # \"test_left\", 'test_right']"
   ]
  },
  {
   "cell_type": "code",
   "execution_count": 29,
   "metadata": {
    "tags": []
   },
   "outputs": [],
   "source": [
    "endpoint_defs = pd.read_feather(f\"{output_path}/phecode_defs_220306.feather\").query(\"endpoint==@endpoints\").sort_values(\"endpoint\").set_index(\"endpoint\")"
   ]
  },
  {
   "cell_type": "code",
   "execution_count": 30,
   "metadata": {},
   "outputs": [],
   "source": [
    "from datetime import date\n",
    "today = str(date.today())"
   ]
  },
  {
   "cell_type": "code",
   "execution_count": 31,
   "metadata": {
    "tags": []
   },
   "outputs": [],
   "source": [
    "eligable_eids = pd.read_feather(f\"{output_path}/eligable_eids_{today}.feather\")\n",
    "eids_dict = eligable_eids.set_index(\"endpoint\")[\"eid_list\"].to_dict()"
   ]
  },
  {
   "cell_type": "code",
   "execution_count": 32,
   "metadata": {
    "tags": []
   },
   "outputs": [
    {
     "name": "stdout",
     "output_type": "stream",
     "text": [
      "env: MKL_NUM_THREADS=4\n",
      "env: NUMEXPR_NUM_THREADS=4\n",
      "env: OMP_NUM_THREADS=4\n"
     ]
    }
   ],
   "source": [
    "%env MKL_NUM_THREADS=4\n",
    "%env NUMEXPR_NUM_THREADS=4\n",
    "%env OMP_NUM_THREADS=4"
   ]
  },
  {
   "cell_type": "code",
   "execution_count": 33,
   "metadata": {},
   "outputs": [],
   "source": [
    "ray.shutdown()"
   ]
  },
  {
   "cell_type": "code",
   "execution_count": 34,
   "metadata": {
    "tags": []
   },
   "outputs": [
    {
     "data": {
      "text/plain": [
       "{'node_ip_address': '10.32.105.6',\n",
       " 'raylet_ip_address': '10.32.105.6',\n",
       " 'redis_address': '10.32.105.6:18860',\n",
       " 'object_store_address': '/tmp/ray/session_2022-05-25_13-50-42_158303_2615733/sockets/plasma_store',\n",
       " 'raylet_socket_name': '/tmp/ray/session_2022-05-25_13-50-42_158303_2615733/sockets/raylet',\n",
       " 'webui_url': None,\n",
       " 'session_dir': '/tmp/ray/session_2022-05-25_13-50-42_158303_2615733',\n",
       " 'metrics_export_port': 34163,\n",
       " 'node_id': '88c696479797462c0d87258b54e0aa2f975eda1899cef47197e51d2d'}"
      ]
     },
     "execution_count": 34,
     "metadata": {},
     "output_type": "execute_result"
    }
   ],
   "source": [
    "import ray\n",
    "\n",
    "ray.init(num_cpus=24)#, dashboard_port=24762, dashboard_host=\"0.0.0.0\", include_dashboard=True)#, webui_url=\"0.0.0.0\"))"
   ]
  },
  {
   "cell_type": "markdown",
   "metadata": {},
   "source": [
    "# Train COX"
   ]
  },
  {
   "cell_type": "code",
   "execution_count": 35,
   "metadata": {
    "tags": []
   },
   "outputs": [],
   "source": [
    "in_path = pathlib.Path(f\"{experiment_path}/coxph/input\")\n",
    "model_path = f\"{experiment_path}/coxph/models\"\n",
    "\n",
    "out_path = f\"{experiment_path}/coxph/predictions\"\n",
    "pathlib.Path(out_path).mkdir(parents=True, exist_ok=True)"
   ]
  },
  {
   "cell_type": "code",
   "execution_count": 36,
   "metadata": {
    "tags": []
   },
   "outputs": [],
   "source": [
    "import pickle\n",
    "import zstandard\n",
    "\n",
    "def load_pickle(fp):\n",
    "    with open(fp, \"rb\") as fh:\n",
    "        dctx = zstandard.ZstdDecompressor()\n",
    "        with dctx.stream_reader(fh) as decompressor:\n",
    "            data = pickle.loads(decompressor.read())\n",
    "    return data"
   ]
  },
  {
   "cell_type": "code",
   "execution_count": 37,
   "metadata": {
    "tags": []
   },
   "outputs": [
    {
     "data": {
      "text/html": [
       "<div>\n",
       "<style scoped>\n",
       "    .dataframe tbody tr th:only-of-type {\n",
       "        vertical-align: middle;\n",
       "    }\n",
       "\n",
       "    .dataframe tbody tr th {\n",
       "        vertical-align: top;\n",
       "    }\n",
       "\n",
       "    .dataframe thead th {\n",
       "        text-align: right;\n",
       "    }\n",
       "</style>\n",
       "<table border=\"1\" class=\"dataframe\">\n",
       "  <thead>\n",
       "    <tr style=\"text-align: right;\">\n",
       "      <th></th>\n",
       "      <th>endpoint</th>\n",
       "      <th>score</th>\n",
       "      <th>partition</th>\n",
       "      <th>path</th>\n",
       "    </tr>\n",
       "  </thead>\n",
       "  <tbody>\n",
       "    <tr>\n",
       "      <th>0</th>\n",
       "      <td>OMOP_4306655</td>\n",
       "      <td>Age+Sex+Retina</td>\n",
       "      <td>0</td>\n",
       "      <td>OMOP_4306655_Age+Sex+Retina_0.p</td>\n",
       "    </tr>\n",
       "    <tr>\n",
       "      <th>1</th>\n",
       "      <td>OMOP_4306655</td>\n",
       "      <td>Retina</td>\n",
       "      <td>0</td>\n",
       "      <td>OMOP_4306655_Retina_0.p</td>\n",
       "    </tr>\n",
       "    <tr>\n",
       "      <th>2</th>\n",
       "      <td>phecode_052</td>\n",
       "      <td>Age+Sex+Retina</td>\n",
       "      <td>0</td>\n",
       "      <td>phecode_052_Age+Sex+Retina_0.p</td>\n",
       "    </tr>\n",
       "    <tr>\n",
       "      <th>3</th>\n",
       "      <td>phecode_052</td>\n",
       "      <td>Retina</td>\n",
       "      <td>0</td>\n",
       "      <td>phecode_052_Retina_0.p</td>\n",
       "    </tr>\n",
       "    <tr>\n",
       "      <th>4</th>\n",
       "      <td>phecode_052-1</td>\n",
       "      <td>Age+Sex+Retina</td>\n",
       "      <td>0</td>\n",
       "      <td>phecode_052-1_Age+Sex+Retina_0.p</td>\n",
       "    </tr>\n",
       "    <tr>\n",
       "      <th>...</th>\n",
       "      <td>...</td>\n",
       "      <td>...</td>\n",
       "      <td>...</td>\n",
       "      <td>...</td>\n",
       "    </tr>\n",
       "    <tr>\n",
       "      <th>991</th>\n",
       "      <td>phecode_977-52</td>\n",
       "      <td>Retina</td>\n",
       "      <td>0</td>\n",
       "      <td>phecode_977-52_Retina_0.p</td>\n",
       "    </tr>\n",
       "    <tr>\n",
       "      <th>992</th>\n",
       "      <td>phecode_977-7</td>\n",
       "      <td>Age+Sex+Retina</td>\n",
       "      <td>0</td>\n",
       "      <td>phecode_977-7_Age+Sex+Retina_0.p</td>\n",
       "    </tr>\n",
       "    <tr>\n",
       "      <th>993</th>\n",
       "      <td>phecode_977-7</td>\n",
       "      <td>Retina</td>\n",
       "      <td>0</td>\n",
       "      <td>phecode_977-7_Retina_0.p</td>\n",
       "    </tr>\n",
       "    <tr>\n",
       "      <th>994</th>\n",
       "      <td>phecode_977-72</td>\n",
       "      <td>Age+Sex+Retina</td>\n",
       "      <td>0</td>\n",
       "      <td>phecode_977-72_Age+Sex+Retina_0.p</td>\n",
       "    </tr>\n",
       "    <tr>\n",
       "      <th>995</th>\n",
       "      <td>phecode_977-72</td>\n",
       "      <td>Retina</td>\n",
       "      <td>0</td>\n",
       "      <td>phecode_977-72_Retina_0.p</td>\n",
       "    </tr>\n",
       "  </tbody>\n",
       "</table>\n",
       "<p>996 rows × 4 columns</p>\n",
       "</div>"
      ],
      "text/plain": [
       "           endpoint           score  partition  \\\n",
       "0      OMOP_4306655  Age+Sex+Retina          0   \n",
       "1      OMOP_4306655          Retina          0   \n",
       "2       phecode_052  Age+Sex+Retina          0   \n",
       "3       phecode_052          Retina          0   \n",
       "4     phecode_052-1  Age+Sex+Retina          0   \n",
       "..              ...             ...        ...   \n",
       "991  phecode_977-52          Retina          0   \n",
       "992   phecode_977-7  Age+Sex+Retina          0   \n",
       "993   phecode_977-7          Retina          0   \n",
       "994  phecode_977-72  Age+Sex+Retina          0   \n",
       "995  phecode_977-72          Retina          0   \n",
       "\n",
       "                                  path  \n",
       "0      OMOP_4306655_Age+Sex+Retina_0.p  \n",
       "1              OMOP_4306655_Retina_0.p  \n",
       "2       phecode_052_Age+Sex+Retina_0.p  \n",
       "3               phecode_052_Retina_0.p  \n",
       "4     phecode_052-1_Age+Sex+Retina_0.p  \n",
       "..                                 ...  \n",
       "991          phecode_977-52_Retina_0.p  \n",
       "992   phecode_977-7_Age+Sex+Retina_0.p  \n",
       "993           phecode_977-7_Retina_0.p  \n",
       "994  phecode_977-72_Age+Sex+Retina_0.p  \n",
       "995          phecode_977-72_Retina_0.p  \n",
       "\n",
       "[996 rows x 4 columns]"
      ]
     },
     "execution_count": 37,
     "metadata": {},
     "output_type": "execute_result"
    }
   ],
   "source": [
    "cox_paths = !ls $model_path\n",
    "cox_paths = [p for p in cox_paths if \"_Retina\" in p or \"+Retina\" in p or \"I(\" in p]\n",
    "cox = pd.Series(cox_paths).str.split(\"_\", expand=True)\\\n",
    "    .assign(path = cox_paths)\\\n",
    "    .assign(endpoint = lambda x: x[0]+\"_\"+x[1])\\\n",
    "    .assign(score = lambda x: x[2])\\\n",
    "    .assign(partition = lambda x: x[3].str.replace(\".p\", \"\", regex=True).astype(int))\\\n",
    "    [[\"endpoint\", \"score\", \"partition\", \"path\"]].sort_values([\"endpoint\", \"score\", \"partition\"])\\\n",
    "    .query(\"endpoint ==@ endpoints\")\\\n",
    "    .reset_index(drop=True)\n",
    "cox"
   ]
  },
  {
   "cell_type": "raw",
   "metadata": {
    "execution": {
     "iopub.execute_input": "2022-04-21T12:03:31.795593Z",
     "iopub.status.busy": "2022-04-21T12:03:31.795400Z",
     "iopub.status.idle": "2022-04-21T12:03:31.801297Z",
     "shell.execute_reply": "2022-04-21T12:03:31.800939Z",
     "shell.execute_reply.started": "2022-04-21T12:03:31.795581Z"
    },
    "tags": []
   },
   "source": [
    "cox = cox.query(\"endpoint == 'phecode_101-8'\")#&score=='Age+Sex+MedicalHistory+I(Age*MH)'\")"
   ]
  },
  {
   "cell_type": "code",
   "execution_count": 38,
   "metadata": {
    "tags": []
   },
   "outputs": [],
   "source": [
    "#endpoints = sorted(cox.endpoint.unique().tolist())\n",
    "scores = sorted(cox.score.unique().tolist())\n",
    "partitions = sorted(cox.partition.unique().tolist())"
   ]
  },
  {
   "cell_type": "code",
   "execution_count": 39,
   "metadata": {
    "tags": []
   },
   "outputs": [],
   "source": [
    "#import ray\n",
    "\n",
    "@ray.remote\n",
    "def get_cox_info(p):\n",
    "    cph = load_pickle(f\"{model_path}/{p}\")\n",
    "    p_split = p.split(\"_\")\n",
    "    endpoint = f\"{p_split[0]}_{p_split[1]}\"\n",
    "    score = p_split[2]\n",
    "    partition = p_split[3][:-2]\n",
    "    hrs = cph.hazard_ratios_.to_dict()\n",
    "    \n",
    "    if score==\"Age+Sex+MedicalHistory+I(Age*MH)\":\n",
    "        hr_ret = hrs[endpoint.replace(\"-\", \"\")]\n",
    "        \n",
    "        key_int_age = [k for k in hrs if \"age_at_recruitment_f21022_0_0\" in k and endpoint.replace(\"-\", \"\") in k][0]\n",
    "        hr_ret_age = hrs[key_int_age]\n",
    "        \n",
    "        try:\n",
    "            key_int_sex = [k for k in hrs if \"sex_f31_0_0\" in k and endpoint.replace(\"-\", \"\") in k][0]\n",
    "            hr_ret_sex = hrs[key_int_sex]\n",
    "        except:\n",
    "            hr_ret_sex = np.nan\n",
    "    else:\n",
    "        hr_ret = hrs[endpoint] \n",
    "        hr_ret_age = np.nan\n",
    "        hr_ret_sex = np.nan\n",
    "        \n",
    "    return {\"endpoint\": endpoint, \"score\": score, \"partition\": partition, \"hrs\": hrs, \n",
    "            \"hrs_ret\": hr_ret, \n",
    "            \"hrs_ret_age\": hr_ret_age, \n",
    "            \"hrs_ret_sex\": hr_ret_sex\n",
    "           }"
   ]
  },
  {
   "cell_type": "code",
   "execution_count": 40,
   "metadata": {
    "tags": []
   },
   "outputs": [
    {
     "data": {
      "application/vnd.jupyter.widget-view+json": {
       "model_id": "db4d257d4f094fa6be9b6968bdca5f6d",
       "version_major": 2,
       "version_minor": 0
      },
      "text/plain": [
       "  0%|          | 0/996 [00:00<?, ?it/s]"
      ]
     },
     "metadata": {},
     "output_type": "display_data"
    }
   ],
   "source": [
    "rows = []\n",
    "\n",
    "for p in tqdm(cox.path.tolist()):\n",
    "    rows.append(get_cox_info.remote(p))"
   ]
  },
  {
   "cell_type": "code",
   "execution_count": 41,
   "metadata": {
    "tags": []
   },
   "outputs": [
    {
     "data": {
      "application/vnd.jupyter.widget-view+json": {
       "model_id": "c4da95d837f8440bb4c669451ce02890",
       "version_major": 2,
       "version_minor": 0
      },
      "text/plain": [
       "  0%|          | 0/996 [00:00<?, ?it/s]"
      ]
     },
     "metadata": {},
     "output_type": "display_data"
    }
   ],
   "source": [
    "rows = [ray.get(r) for r in tqdm(rows)]"
   ]
  },
  {
   "cell_type": "code",
   "execution_count": 42,
   "metadata": {
    "tags": []
   },
   "outputs": [
    {
     "data": {
      "text/plain": [
       "{'endpoint': 'phecode_056',\n",
       " 'score': 'Age+Sex+Retina',\n",
       " 'partition': '0',\n",
       " 'hrs': {'age_at_recruitment_f21022_0_0': 0.9808010715409536,\n",
       "  'sex_f31_0_0': 0.952271183601438,\n",
       "  'phecode_056': 1.0233563959046248},\n",
       " 'hrs_ret': 1.0233563959046248,\n",
       " 'hrs_ret_age': nan,\n",
       " 'hrs_ret_sex': nan}"
      ]
     },
     "execution_count": 42,
     "metadata": {},
     "output_type": "execute_result"
    }
   ],
   "source": [
    "rows[10]"
   ]
  },
  {
   "cell_type": "code",
   "execution_count": 43,
   "metadata": {
    "tags": []
   },
   "outputs": [],
   "source": [
    "hrs_endpoints = pd.DataFrame({}).append(rows, ignore_index=True)"
   ]
  },
  {
   "cell_type": "code",
   "execution_count": 44,
   "metadata": {
    "tags": []
   },
   "outputs": [
    {
     "data": {
      "text/html": [
       "<div>\n",
       "<style scoped>\n",
       "    .dataframe tbody tr th:only-of-type {\n",
       "        vertical-align: middle;\n",
       "    }\n",
       "\n",
       "    .dataframe tbody tr th {\n",
       "        vertical-align: top;\n",
       "    }\n",
       "\n",
       "    .dataframe thead th {\n",
       "        text-align: right;\n",
       "    }\n",
       "</style>\n",
       "<table border=\"1\" class=\"dataframe\">\n",
       "  <thead>\n",
       "    <tr style=\"text-align: right;\">\n",
       "      <th></th>\n",
       "      <th>endpoint</th>\n",
       "      <th>score</th>\n",
       "      <th>partition</th>\n",
       "      <th>hrs</th>\n",
       "      <th>hrs_ret</th>\n",
       "      <th>hrs_ret_age</th>\n",
       "      <th>hrs_ret_sex</th>\n",
       "    </tr>\n",
       "  </thead>\n",
       "  <tbody>\n",
       "    <tr>\n",
       "      <th>0</th>\n",
       "      <td>OMOP_4306655</td>\n",
       "      <td>Age+Sex+Retina</td>\n",
       "      <td>0</td>\n",
       "      <td>{'age_at_recruitment_f21022_0_0': 1.6914116214...</td>\n",
       "      <td>1.602345</td>\n",
       "      <td>NaN</td>\n",
       "      <td>NaN</td>\n",
       "    </tr>\n",
       "    <tr>\n",
       "      <th>1</th>\n",
       "      <td>OMOP_4306655</td>\n",
       "      <td>Retina</td>\n",
       "      <td>0</td>\n",
       "      <td>{'OMOP_4306655': 2.336103909521066}</td>\n",
       "      <td>2.336104</td>\n",
       "      <td>NaN</td>\n",
       "      <td>NaN</td>\n",
       "    </tr>\n",
       "    <tr>\n",
       "      <th>2</th>\n",
       "      <td>phecode_052</td>\n",
       "      <td>Age+Sex+Retina</td>\n",
       "      <td>0</td>\n",
       "      <td>{'age_at_recruitment_f21022_0_0': 1.0976916029...</td>\n",
       "      <td>1.091788</td>\n",
       "      <td>NaN</td>\n",
       "      <td>NaN</td>\n",
       "    </tr>\n",
       "    <tr>\n",
       "      <th>3</th>\n",
       "      <td>phecode_052</td>\n",
       "      <td>Retina</td>\n",
       "      <td>0</td>\n",
       "      <td>{'phecode_052': 1.1146724721387116}</td>\n",
       "      <td>1.114672</td>\n",
       "      <td>NaN</td>\n",
       "      <td>NaN</td>\n",
       "    </tr>\n",
       "    <tr>\n",
       "      <th>4</th>\n",
       "      <td>phecode_052-1</td>\n",
       "      <td>Age+Sex+Retina</td>\n",
       "      <td>0</td>\n",
       "      <td>{'age_at_recruitment_f21022_0_0': 0.8123810820...</td>\n",
       "      <td>1.056389</td>\n",
       "      <td>NaN</td>\n",
       "      <td>NaN</td>\n",
       "    </tr>\n",
       "    <tr>\n",
       "      <th>...</th>\n",
       "      <td>...</td>\n",
       "      <td>...</td>\n",
       "      <td>...</td>\n",
       "      <td>...</td>\n",
       "      <td>...</td>\n",
       "      <td>...</td>\n",
       "      <td>...</td>\n",
       "    </tr>\n",
       "    <tr>\n",
       "      <th>991</th>\n",
       "      <td>phecode_977-52</td>\n",
       "      <td>Retina</td>\n",
       "      <td>0</td>\n",
       "      <td>{'phecode_977-52': 0.5545877399512523}</td>\n",
       "      <td>0.554588</td>\n",
       "      <td>NaN</td>\n",
       "      <td>NaN</td>\n",
       "    </tr>\n",
       "    <tr>\n",
       "      <th>992</th>\n",
       "      <td>phecode_977-7</td>\n",
       "      <td>Age+Sex+Retina</td>\n",
       "      <td>0</td>\n",
       "      <td>{'age_at_recruitment_f21022_0_0': 0.8336892946...</td>\n",
       "      <td>2.149991</td>\n",
       "      <td>NaN</td>\n",
       "      <td>NaN</td>\n",
       "    </tr>\n",
       "    <tr>\n",
       "      <th>993</th>\n",
       "      <td>phecode_977-7</td>\n",
       "      <td>Retina</td>\n",
       "      <td>0</td>\n",
       "      <td>{'phecode_977-7': 2.0171895465419705}</td>\n",
       "      <td>2.017190</td>\n",
       "      <td>NaN</td>\n",
       "      <td>NaN</td>\n",
       "    </tr>\n",
       "    <tr>\n",
       "      <th>994</th>\n",
       "      <td>phecode_977-72</td>\n",
       "      <td>Age+Sex+Retina</td>\n",
       "      <td>0</td>\n",
       "      <td>{'age_at_recruitment_f21022_0_0': 1.3521349906...</td>\n",
       "      <td>0.879994</td>\n",
       "      <td>NaN</td>\n",
       "      <td>NaN</td>\n",
       "    </tr>\n",
       "    <tr>\n",
       "      <th>995</th>\n",
       "      <td>phecode_977-72</td>\n",
       "      <td>Retina</td>\n",
       "      <td>0</td>\n",
       "      <td>{'phecode_977-72': 1.0833329738655628}</td>\n",
       "      <td>1.083333</td>\n",
       "      <td>NaN</td>\n",
       "      <td>NaN</td>\n",
       "    </tr>\n",
       "  </tbody>\n",
       "</table>\n",
       "<p>996 rows × 7 columns</p>\n",
       "</div>"
      ],
      "text/plain": [
       "           endpoint           score partition  \\\n",
       "0      OMOP_4306655  Age+Sex+Retina         0   \n",
       "1      OMOP_4306655          Retina         0   \n",
       "2       phecode_052  Age+Sex+Retina         0   \n",
       "3       phecode_052          Retina         0   \n",
       "4     phecode_052-1  Age+Sex+Retina         0   \n",
       "..              ...             ...       ...   \n",
       "991  phecode_977-52          Retina         0   \n",
       "992   phecode_977-7  Age+Sex+Retina         0   \n",
       "993   phecode_977-7          Retina         0   \n",
       "994  phecode_977-72  Age+Sex+Retina         0   \n",
       "995  phecode_977-72          Retina         0   \n",
       "\n",
       "                                                   hrs   hrs_ret  hrs_ret_age  \\\n",
       "0    {'age_at_recruitment_f21022_0_0': 1.6914116214...  1.602345          NaN   \n",
       "1                  {'OMOP_4306655': 2.336103909521066}  2.336104          NaN   \n",
       "2    {'age_at_recruitment_f21022_0_0': 1.0976916029...  1.091788          NaN   \n",
       "3                  {'phecode_052': 1.1146724721387116}  1.114672          NaN   \n",
       "4    {'age_at_recruitment_f21022_0_0': 0.8123810820...  1.056389          NaN   \n",
       "..                                                 ...       ...          ...   \n",
       "991             {'phecode_977-52': 0.5545877399512523}  0.554588          NaN   \n",
       "992  {'age_at_recruitment_f21022_0_0': 0.8336892946...  2.149991          NaN   \n",
       "993              {'phecode_977-7': 2.0171895465419705}  2.017190          NaN   \n",
       "994  {'age_at_recruitment_f21022_0_0': 1.3521349906...  0.879994          NaN   \n",
       "995             {'phecode_977-72': 1.0833329738655628}  1.083333          NaN   \n",
       "\n",
       "     hrs_ret_sex  \n",
       "0            NaN  \n",
       "1            NaN  \n",
       "2            NaN  \n",
       "3            NaN  \n",
       "4            NaN  \n",
       "..           ...  \n",
       "991          NaN  \n",
       "992          NaN  \n",
       "993          NaN  \n",
       "994          NaN  \n",
       "995          NaN  \n",
       "\n",
       "[996 rows x 7 columns]"
      ]
     },
     "execution_count": 44,
     "metadata": {},
     "output_type": "execute_result"
    }
   ],
   "source": [
    "hrs_endpoints "
   ]
  },
  {
   "cell_type": "code",
   "execution_count": 45,
   "metadata": {
    "tags": []
   },
   "outputs": [],
   "source": [
    "name = f\"hrs_endpoints\"\n",
    "hrs_endpoints.to_feather(f\"{experiment_path}/{name}.feather\")"
   ]
  },
  {
   "cell_type": "code",
   "execution_count": 46,
   "metadata": {},
   "outputs": [
    {
     "data": {
      "text/html": [
       "<div>\n",
       "<style scoped>\n",
       "    .dataframe tbody tr th:only-of-type {\n",
       "        vertical-align: middle;\n",
       "    }\n",
       "\n",
       "    .dataframe tbody tr th {\n",
       "        vertical-align: top;\n",
       "    }\n",
       "\n",
       "    .dataframe thead th {\n",
       "        text-align: right;\n",
       "    }\n",
       "</style>\n",
       "<table border=\"1\" class=\"dataframe\">\n",
       "  <thead>\n",
       "    <tr style=\"text-align: right;\">\n",
       "      <th></th>\n",
       "      <th>endpoint</th>\n",
       "      <th>score</th>\n",
       "      <th>partition</th>\n",
       "      <th>hrs</th>\n",
       "      <th>hrs_ret</th>\n",
       "      <th>hrs_ret_age</th>\n",
       "      <th>hrs_ret_sex</th>\n",
       "    </tr>\n",
       "  </thead>\n",
       "  <tbody>\n",
       "    <tr>\n",
       "      <th>0</th>\n",
       "      <td>OMOP_4306655</td>\n",
       "      <td>Age+Sex+Retina</td>\n",
       "      <td>0</td>\n",
       "      <td>{'age_at_recruitment_f21022_0_0': 1.6914116214...</td>\n",
       "      <td>1.602345</td>\n",
       "      <td>NaN</td>\n",
       "      <td>NaN</td>\n",
       "    </tr>\n",
       "    <tr>\n",
       "      <th>1</th>\n",
       "      <td>OMOP_4306655</td>\n",
       "      <td>Retina</td>\n",
       "      <td>0</td>\n",
       "      <td>{'OMOP_4306655': 2.336103909521066}</td>\n",
       "      <td>2.336104</td>\n",
       "      <td>NaN</td>\n",
       "      <td>NaN</td>\n",
       "    </tr>\n",
       "    <tr>\n",
       "      <th>2</th>\n",
       "      <td>phecode_052</td>\n",
       "      <td>Age+Sex+Retina</td>\n",
       "      <td>0</td>\n",
       "      <td>{'age_at_recruitment_f21022_0_0': 1.0976916029...</td>\n",
       "      <td>1.091788</td>\n",
       "      <td>NaN</td>\n",
       "      <td>NaN</td>\n",
       "    </tr>\n",
       "    <tr>\n",
       "      <th>3</th>\n",
       "      <td>phecode_052</td>\n",
       "      <td>Retina</td>\n",
       "      <td>0</td>\n",
       "      <td>{'phecode_052': 1.1146724721387116}</td>\n",
       "      <td>1.114672</td>\n",
       "      <td>NaN</td>\n",
       "      <td>NaN</td>\n",
       "    </tr>\n",
       "    <tr>\n",
       "      <th>4</th>\n",
       "      <td>phecode_052-1</td>\n",
       "      <td>Age+Sex+Retina</td>\n",
       "      <td>0</td>\n",
       "      <td>{'age_at_recruitment_f21022_0_0': 0.8123810820...</td>\n",
       "      <td>1.056389</td>\n",
       "      <td>NaN</td>\n",
       "      <td>NaN</td>\n",
       "    </tr>\n",
       "    <tr>\n",
       "      <th>...</th>\n",
       "      <td>...</td>\n",
       "      <td>...</td>\n",
       "      <td>...</td>\n",
       "      <td>...</td>\n",
       "      <td>...</td>\n",
       "      <td>...</td>\n",
       "      <td>...</td>\n",
       "    </tr>\n",
       "    <tr>\n",
       "      <th>991</th>\n",
       "      <td>phecode_977-52</td>\n",
       "      <td>Retina</td>\n",
       "      <td>0</td>\n",
       "      <td>{'phecode_977-52': 0.5545877399512523}</td>\n",
       "      <td>0.554588</td>\n",
       "      <td>NaN</td>\n",
       "      <td>NaN</td>\n",
       "    </tr>\n",
       "    <tr>\n",
       "      <th>992</th>\n",
       "      <td>phecode_977-7</td>\n",
       "      <td>Age+Sex+Retina</td>\n",
       "      <td>0</td>\n",
       "      <td>{'age_at_recruitment_f21022_0_0': 0.8336892946...</td>\n",
       "      <td>2.149991</td>\n",
       "      <td>NaN</td>\n",
       "      <td>NaN</td>\n",
       "    </tr>\n",
       "    <tr>\n",
       "      <th>993</th>\n",
       "      <td>phecode_977-7</td>\n",
       "      <td>Retina</td>\n",
       "      <td>0</td>\n",
       "      <td>{'phecode_977-7': 2.0171895465419705}</td>\n",
       "      <td>2.017190</td>\n",
       "      <td>NaN</td>\n",
       "      <td>NaN</td>\n",
       "    </tr>\n",
       "    <tr>\n",
       "      <th>994</th>\n",
       "      <td>phecode_977-72</td>\n",
       "      <td>Age+Sex+Retina</td>\n",
       "      <td>0</td>\n",
       "      <td>{'age_at_recruitment_f21022_0_0': 1.3521349906...</td>\n",
       "      <td>0.879994</td>\n",
       "      <td>NaN</td>\n",
       "      <td>NaN</td>\n",
       "    </tr>\n",
       "    <tr>\n",
       "      <th>995</th>\n",
       "      <td>phecode_977-72</td>\n",
       "      <td>Retina</td>\n",
       "      <td>0</td>\n",
       "      <td>{'phecode_977-72': 1.0833329738655628}</td>\n",
       "      <td>1.083333</td>\n",
       "      <td>NaN</td>\n",
       "      <td>NaN</td>\n",
       "    </tr>\n",
       "  </tbody>\n",
       "</table>\n",
       "<p>996 rows × 7 columns</p>\n",
       "</div>"
      ],
      "text/plain": [
       "           endpoint           score partition  \\\n",
       "0      OMOP_4306655  Age+Sex+Retina         0   \n",
       "1      OMOP_4306655          Retina         0   \n",
       "2       phecode_052  Age+Sex+Retina         0   \n",
       "3       phecode_052          Retina         0   \n",
       "4     phecode_052-1  Age+Sex+Retina         0   \n",
       "..              ...             ...       ...   \n",
       "991  phecode_977-52          Retina         0   \n",
       "992   phecode_977-7  Age+Sex+Retina         0   \n",
       "993   phecode_977-7          Retina         0   \n",
       "994  phecode_977-72  Age+Sex+Retina         0   \n",
       "995  phecode_977-72          Retina         0   \n",
       "\n",
       "                                                   hrs   hrs_ret  hrs_ret_age  \\\n",
       "0    {'age_at_recruitment_f21022_0_0': 1.6914116214...  1.602345          NaN   \n",
       "1                  {'OMOP_4306655': 2.336103909521066}  2.336104          NaN   \n",
       "2    {'age_at_recruitment_f21022_0_0': 1.0976916029...  1.091788          NaN   \n",
       "3                  {'phecode_052': 1.1146724721387116}  1.114672          NaN   \n",
       "4    {'age_at_recruitment_f21022_0_0': 0.8123810820...  1.056389          NaN   \n",
       "..                                                 ...       ...          ...   \n",
       "991             {'phecode_977-52': 0.5545877399512523}  0.554588          NaN   \n",
       "992  {'age_at_recruitment_f21022_0_0': 0.8336892946...  2.149991          NaN   \n",
       "993              {'phecode_977-7': 2.0171895465419705}  2.017190          NaN   \n",
       "994  {'age_at_recruitment_f21022_0_0': 1.3521349906...  0.879994          NaN   \n",
       "995             {'phecode_977-72': 1.0833329738655628}  1.083333          NaN   \n",
       "\n",
       "     hrs_ret_sex  \n",
       "0            NaN  \n",
       "1            NaN  \n",
       "2            NaN  \n",
       "3            NaN  \n",
       "4            NaN  \n",
       "..           ...  \n",
       "991          NaN  \n",
       "992          NaN  \n",
       "993          NaN  \n",
       "994          NaN  \n",
       "995          NaN  \n",
       "\n",
       "[996 rows x 7 columns]"
      ]
     },
     "execution_count": 46,
     "metadata": {},
     "output_type": "execute_result"
    }
   ],
   "source": [
    "hrs_endpoints"
   ]
  },
  {
   "cell_type": "code",
   "execution_count": 47,
   "metadata": {},
   "outputs": [
    {
     "ename": "NameError",
     "evalue": "name 'cph' is not defined",
     "output_type": "error",
     "traceback": [
      "\u001b[0;31m---------------------------------------------------------------------------\u001b[0m",
      "\u001b[0;31mNameError\u001b[0m                                 Traceback (most recent call last)",
      "\u001b[0;32m/tmp/ipykernel_2615733/1653210156.py\u001b[0m in \u001b[0;36m<module>\u001b[0;34m\u001b[0m\n\u001b[0;32m----> 1\u001b[0;31m \u001b[0mcph\u001b[0m\u001b[0;34m.\u001b[0m\u001b[0mplot\u001b[0m\u001b[0;34m(\u001b[0m\u001b[0;34m)\u001b[0m\u001b[0;34m\u001b[0m\u001b[0;34m\u001b[0m\u001b[0m\n\u001b[0m",
      "\u001b[0;31mNameError\u001b[0m: name 'cph' is not defined"
     ]
    }
   ],
   "source": [
    "cph.plot()"
   ]
  },
  {
   "cell_type": "code",
   "execution_count": null,
   "metadata": {},
   "outputs": [],
   "source": [
    "#[[]]"
   ]
  },
  {
   "cell_type": "code",
   "execution_count": null,
   "metadata": {},
   "outputs": [],
   "source": [
    "cph.print_summary()"
   ]
  },
  {
   "cell_type": "code",
   "execution_count": null,
   "metadata": {},
   "outputs": [],
   "source": []
  }
 ],
 "metadata": {
  "kernelspec": {
   "display_name": "Python 3 (ipykernel)",
   "language": "python",
   "name": "python3"
  },
  "language_info": {
   "codemirror_mode": {
    "name": "ipython",
    "version": 3
   },
   "file_extension": ".py",
   "mimetype": "text/x-python",
   "name": "python",
   "nbconvert_exporter": "python",
   "pygments_lexer": "ipython3",
   "version": "3.9.7"
  },
  "toc-autonumbering": false
 },
 "nbformat": 4,
 "nbformat_minor": 4
}
