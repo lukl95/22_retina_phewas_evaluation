{
 "cells": [
  {
   "cell_type": "markdown",
   "metadata": {},
   "source": [
    "# Benchmarks"
   ]
  },
  {
   "cell_type": "markdown",
   "metadata": {},
   "source": [
    "## Initialize"
   ]
  },
  {
   "cell_type": "code",
   "execution_count": 1,
   "metadata": {
    "ExecuteTime": {
     "end_time": "2021-01-05T11:03:09.852316Z",
     "start_time": "2021-01-05T11:03:07.701Z"
    },
    "execution": {
     "iopub.execute_input": "2022-11-09T12:28:16.470884Z",
     "iopub.status.busy": "2022-11-09T12:28:16.468739Z",
     "iopub.status.idle": "2022-11-09T12:28:20.104613Z",
     "shell.execute_reply": "2022-11-09T12:28:20.103327Z"
    },
    "tags": []
   },
   "outputs": [
    {
     "name": "stderr",
     "output_type": "stream",
     "text": [
      "Warning message:\n",
      "“package ‘dtplyr’ was built under R version 4.0.3”\n",
      "Warning message:\n",
      "“package ‘tidyverse’ was built under R version 4.0.3”\n",
      "── \u001b[1mAttaching packages\u001b[22m ─────────────────────────────────────── tidyverse 1.3.1 ──\n",
      "\n",
      "\u001b[32m✔\u001b[39m \u001b[34mggplot2\u001b[39m 3.3.5     \u001b[32m✔\u001b[39m \u001b[34mpurrr  \u001b[39m 0.3.4\n",
      "\u001b[32m✔\u001b[39m \u001b[34mtibble \u001b[39m 3.1.7     \u001b[32m✔\u001b[39m \u001b[34mdplyr  \u001b[39m 1.0.9\n",
      "\u001b[32m✔\u001b[39m \u001b[34mtidyr  \u001b[39m 1.2.0     \u001b[32m✔\u001b[39m \u001b[34mstringr\u001b[39m 1.4.0\n",
      "\u001b[32m✔\u001b[39m \u001b[34mreadr  \u001b[39m 1.4.0     \u001b[32m✔\u001b[39m \u001b[34mforcats\u001b[39m 0.5.1\n",
      "\n",
      "Warning message:\n",
      "“package ‘ggplot2’ was built under R version 4.0.5”\n",
      "Warning message:\n",
      "“package ‘tibble’ was built under R version 4.0.5”\n",
      "Warning message:\n",
      "“package ‘tidyr’ was built under R version 4.0.5”\n",
      "Warning message:\n",
      "“package ‘readr’ was built under R version 4.0.5”\n",
      "Warning message:\n",
      "“package ‘purrr’ was built under R version 4.0.3”\n",
      "Warning message:\n",
      "“package ‘dplyr’ was built under R version 4.0.5”\n",
      "Warning message:\n",
      "“package ‘stringr’ was built under R version 4.0.5”\n",
      "Warning message:\n",
      "“package ‘forcats’ was built under R version 4.0.3”\n",
      "── \u001b[1mConflicts\u001b[22m ────────────────────────────────────────── tidyverse_conflicts() ──\n",
      "\u001b[31m✖\u001b[39m \u001b[34mdplyr\u001b[39m::\u001b[32mfilter()\u001b[39m masks \u001b[34mstats\u001b[39m::filter()\n",
      "\u001b[31m✖\u001b[39m \u001b[34mdplyr\u001b[39m::\u001b[32mlag()\u001b[39m    masks \u001b[34mstats\u001b[39m::lag()\n",
      "\n",
      "Warning message:\n",
      "“package ‘glue’ was built under R version 4.0.5”\n",
      "Warning message:\n",
      "“package ‘arrow’ was built under R version 4.0.5”\n",
      "\n",
      "Attaching package: ‘arrow’\n",
      "\n",
      "\n",
      "The following object is masked from ‘package:utils’:\n",
      "\n",
      "    timestamp\n",
      "\n",
      "\n",
      "Warning message:\n",
      "“package ‘patchwork’ was built under R version 4.0.3”\n",
      "Warning message:\n",
      "“package ‘data.table’ was built under R version 4.0.5”\n",
      "\n",
      "Attaching package: ‘data.table’\n",
      "\n",
      "\n",
      "The following objects are masked from ‘package:dplyr’:\n",
      "\n",
      "    between, first, last\n",
      "\n",
      "\n",
      "The following object is masked from ‘package:purrr’:\n",
      "\n",
      "    transpose\n",
      "\n",
      "\n",
      "Warning message:\n",
      "“package ‘jsonlite’ was built under R version 4.0.3”\n",
      "\n",
      "Attaching package: ‘jsonlite’\n",
      "\n",
      "\n",
      "The following object is masked from ‘package:purrr’:\n",
      "\n",
      "    flatten\n",
      "\n",
      "\n",
      "Warning message:\n",
      "“package ‘ggthemes’ was built under R version 4.0.3”\n"
     ]
    }
   ],
   "source": [
    "#library(Rmisc)\n",
    "library(dtplyr)\n",
    "library(tidyverse)\n",
    "library(glue)\n",
    "library(arrow)\n",
    "library(patchwork)\n",
    "library(data.table)\n",
    "library(\"jsonlite\")\n",
    "library(ggthemes)"
   ]
  },
  {
   "cell_type": "code",
   "execution_count": 2,
   "metadata": {
    "ExecuteTime": {
     "end_time": "2021-01-05T11:03:10.491477Z",
     "start_time": "2021-01-05T11:03:10.445Z"
    },
    "execution": {
     "iopub.execute_input": "2022-11-09T12:28:20.126632Z",
     "iopub.status.busy": "2022-11-09T12:28:20.106176Z",
     "iopub.status.idle": "2022-11-09T12:28:20.144230Z",
     "shell.execute_reply": "2022-11-09T12:28:20.143213Z"
    },
    "tags": []
   },
   "outputs": [
    {
     "name": "stdout",
     "output_type": "stream",
     "text": [
      "[1] \"/sc-projects/sc-proj-ukb-cvd\"\n"
     ]
    }
   ],
   "source": [
    "if (grepl(\"sc\", Sys.info()[[\"nodename\"]], fixed=TRUE)) {\n",
    "    base_path = \"/sc-projects/sc-proj-ukb-cvd\"\n",
    "} else {\n",
    "    base_path = \"/data/analysis/ag-reils/ag-reils-shared/cardioRS\"}\n",
    "print(base_path)\n",
    "\n",
    "project_label = \"22_retina_phewas\"\n",
    "project_path = glue(\"{base_path}/results/projects/{project_label}\")\n",
    "figure_path = glue(\"{project_path}/figures\")\n",
    "output_path = glue(\"{project_path}/data\")\n",
    "\n",
    "experiment = '221108'\n",
    "experiment_path = glue(\"{output_path}/{experiment}\")"
   ]
  },
  {
   "cell_type": "code",
   "execution_count": 3,
   "metadata": {
    "execution": {
     "iopub.execute_input": "2022-11-09T12:28:20.146657Z",
     "iopub.status.busy": "2022-11-09T12:28:20.145806Z",
     "iopub.status.idle": "2022-11-09T12:28:20.154224Z",
     "shell.execute_reply": "2022-11-09T12:28:20.153179Z"
    },
    "tags": []
   },
   "outputs": [],
   "source": [
    "library(data.table)\n",
    "library(arrow)"
   ]
  },
  {
   "cell_type": "code",
   "execution_count": 4,
   "metadata": {
    "execution": {
     "iopub.execute_input": "2022-11-09T12:28:20.156561Z",
     "iopub.status.busy": "2022-11-09T12:28:20.155725Z",
     "iopub.status.idle": "2022-11-09T12:28:20.186941Z",
     "shell.execute_reply": "2022-11-09T12:28:20.185888Z"
    },
    "tags": []
   },
   "outputs": [],
   "source": [
    "endpoints_md = fread(glue(\"{experiment_path}/endpoints.csv\"), colClasses=c(\"phecode\"=\"character\"))\n",
    "endpoints = sort(endpoints_md$endpoint)"
   ]
  },
  {
   "cell_type": "code",
   "execution_count": 5,
   "metadata": {
    "execution": {
     "iopub.execute_input": "2022-11-09T12:28:20.189212Z",
     "iopub.status.busy": "2022-11-09T12:28:20.188366Z",
     "iopub.status.idle": "2022-11-09T12:28:21.311520Z",
     "shell.execute_reply": "2022-11-09T12:28:21.310201Z"
    },
    "tags": []
   },
   "outputs": [],
   "source": [
    "endpoint_defs = arrow::read_feather(glue(\"{output_path}/phecode_defs_220306.feather\")) %>% arrange(endpoint)"
   ]
  },
  {
   "cell_type": "code",
   "execution_count": 6,
   "metadata": {
    "execution": {
     "iopub.execute_input": "2022-11-09T12:28:21.314058Z",
     "iopub.status.busy": "2022-11-09T12:28:21.313164Z",
     "iopub.status.idle": "2022-11-09T12:28:21.325120Z",
     "shell.execute_reply": "2022-11-09T12:28:21.324076Z"
    },
    "tags": []
   },
   "outputs": [],
   "source": [
    "endpoint_selection = c(\n",
    "    # generally very important\n",
    "    \"phecode_202\", # Diabetes mellitus\n",
    "    \"phecode_404\", # Ischemic heart disease\n",
    "    \"phecode_404-1\", # Myocardial infarction [Heart attack]\n",
    "    \"phecode_431-11\", # Cerebral infarction [Ischemic stroke]\n",
    "    \"phecode_424\", # Heart failure\n",
    "    \"OMOP_4306655\", # All-Cause Death\n",
    "    # also generally important and relevant\n",
    "    #\"phecode_440-3\", # Pulmonary embolism\n",
    "    #\"phecode_468-1\",\t#Viral pneumonia\n",
    "    \"phecode_401\",\t#Hypertension\"\n",
    "    \"phecode_460-2\",\t#Acute lower respiratory infection\n",
    "    \"phecode_468\", # Pneumonia\n",
    "    \"phecode_474\", # Chronic obstructive pulmonary disease [COPD]\n",
    "    \"phecode_542\", # Chronic liver disease and sequelae\n",
    "    \"phecode_583\", # Chronic kidney disease\n",
    "    \"phecode_328\", # Dementias and cerebral degeneration\n",
    "    \n",
    "    \n",
    "    # generally important and fun to check\n",
    "    \"phecode_164\", # Anemia\n",
    "   # \"phecode_726-1\", # Osteoporosis\n",
    "    \"phecode_286-2\", #\tMajor depressive disorder\n",
    "    \"phecode_103\", # Malignant neoplasm of the skin\n",
    "    \"phecode_101\", # Malignant neoplasm of the digestive organs\n",
    "    #\"phecode_665\", # Psoriasis\n",
    "    \"phecode_121\", # Leukemia\n",
    "    \"phecode_705-1\", # Rheumatoid arthritis\n",
    "    \n",
    "    \n",
    "    # important for eye\n",
    "    \"phecode_371\", # Cataract\n",
    "   # \"phecode_374-3\", # Retinal vascular changes and occlusions\n",
    "    \"phecode_374-42\", # Diabetic retinopathy\n",
    "    \"phecode_374-5\", # Macular degeneration\n",
    "    \"phecode_375-1\" # Glaucoma\n",
    "    #\"phecode_388\" # Blindness and low vision\n",
    ")\n",
    "\n",
    "endpoints_common = c(\n",
    "   'phecode_164', #Anemia\n",
    " 'phecode_705-1', #Rheumatoid arthritis\n",
    " 'phecode_328', #Dementias and cerebral degeneration\n",
    " 'phecode_328-1', #Alzheimer's disease\n",
    " 'phecode_401', #Hypertension\n",
    " 'phecode_202', #Diabetes mellitus\n",
    " 'phecode_416-21', #Atrial fibrillation\n",
    " 'phecode_404-1', #Myocardial infarction [Heart attack]\n",
    " 'phecode_424', #Heart failure\n",
    " 'phecode_468', #Pneumonia\n",
    " 'phecode_474', #Chronic obstructive pulmonary disease [COPD]\n",
    " 'phecode_583', #Chronic kidney disease\n",
    " 'OMOP_4306655' #All-Cause Death\n",
    "    )\n",
    "    \n",
    "endpoints_cardio = c(\n",
    "    'phecode_438-11',   #  \"Abdominal aortic aneurysm\",\n",
    "    'phecode_440-3',#  \"Pulmonary embolism\", # intervention\n",
    "    'phecode_413-21',#  \"Aortic stenosis\", # intervention\n",
    "    'phecode_400'#  \"Rheumatic fever and chronic rheumatic heart diseases\",\t\n",
    ")\n",
    "\n",
    "endpoints_eye= c(\n",
    "    'phecode_374-5', #Macular degeneration\n",
    " 'phecode_374-51', #Age-related macular degeneration\n",
    " 'phecode_374-42', #Diabetic retinopathy\n",
    " 'phecode_371', #Cataract\n",
    " 'phecode_388', #Blindness and low vision\n",
    " 'phecode_367-5', #Uveitis\n",
    " 'phecode_389-1' #Ocular pain\n",
    ")"
   ]
  },
  {
   "cell_type": "code",
   "execution_count": 7,
   "metadata": {
    "execution": {
     "iopub.execute_input": "2022-11-09T12:28:21.327488Z",
     "iopub.status.busy": "2022-11-09T12:28:21.326650Z",
     "iopub.status.idle": "2022-11-09T12:28:21.349383Z",
     "shell.execute_reply": "2022-11-09T12:28:21.348140Z"
    },
    "tags": []
   },
   "outputs": [],
   "source": [
    "endpoint_defs = endpoint_defs %>% \n",
    "    mutate(name = phecode_string) %>%\n",
    "    mutate(name = \n",
    "           case_when( \n",
    "               phecode_string == \"Myocardial infarction [Heart attack]\"~\"Myocardial infarction\",\n",
    "               phecode_string == \"Cerebral infarction [Ischemic stroke]\"~\"Ischemic stroke\",\n",
    "               phecode_string == \"Chronic obstructive pulmonary disease [COPD]\"~\"Chronic obstructive pulmonary disease\",\n",
    "               phecode_string == \"Mitral valve insufficiency\"~\"Mitral insufficiency\",\n",
    "               phecode_string == \"Parkinson's disease (Primary)\"~\"Parkinson's disease\",\n",
    "               phecode_string == \"Suicide ideation and attempt or self harm\"~\"Suicide attempt\",\n",
    "               phecode_string == \"Ischemic heart disease\"~\"Coronary heart disease\",\n",
    "               phecode_string == \"Chronic kidney disease\"~\"Chronic kidney disease\",\n",
    "               phecode_string == \"Rheumatic fever and chronic rheumatic heart diseases\"~\"Rheumatic heart disease\",\n",
    "               phecode_string == \"Abdominal aortic aneurysm\"~\"Abdominal aortic aneurysm\",\n",
    "                  TRUE ~ name)\n",
    "           )\n",
    "            \n",
    "endpoint_map = endpoint_defs$name\n",
    "names(endpoint_map) =  endpoint_defs$endpoint\n",
    "#endpoint_order = (endpoint_defs %>% arrange(as.numeric(phecode)))$endpoint\n",
    "endpoint_order = endpoint_selection"
   ]
  },
  {
   "cell_type": "code",
   "execution_count": 8,
   "metadata": {
    "execution": {
     "iopub.execute_input": "2022-11-09T12:28:21.351779Z",
     "iopub.status.busy": "2022-11-09T12:28:21.350928Z",
     "iopub.status.idle": "2022-11-09T12:28:21.530752Z",
     "shell.execute_reply": "2022-11-09T12:28:21.529658Z"
    },
    "tags": []
   },
   "outputs": [
    {
     "data": {
      "text/html": [
       "<table class=\"dataframe\">\n",
       "<caption>A tibble: 23 × 13</caption>\n",
       "<thead>\n",
       "\t<tr><th scope=col>V1</th><th scope=col>endpoint</th><th scope=col>eligable</th><th scope=col>n</th><th scope=col>freq</th><th scope=col>phecode</th><th scope=col>phecode_string</th><th scope=col>phecode_category</th><th scope=col>sex</th><th scope=col>ICD10_only</th><th scope=col>phecode_top</th><th scope=col>leaf</th><th scope=col>perc</th></tr>\n",
       "\t<tr><th scope=col>&lt;int&gt;</th><th scope=col>&lt;chr&gt;</th><th scope=col>&lt;int&gt;</th><th scope=col>&lt;int&gt;</th><th scope=col>&lt;dbl&gt;</th><th scope=col>&lt;chr&gt;</th><th scope=col>&lt;chr&gt;</th><th scope=col>&lt;chr&gt;</th><th scope=col>&lt;chr&gt;</th><th scope=col>&lt;dbl&gt;</th><th scope=col>&lt;int&gt;</th><th scope=col>&lt;dbl&gt;</th><th scope=col>&lt;dbl&gt;</th></tr>\n",
       "</thead>\n",
       "<tbody>\n",
       "\t<tr><td> 86</td><td>Leukemia                                  </td><td>61142</td><td>  263</td><td>0.004301462</td><td>121    </td><td>Leukemia                                    </td><td>Neoplasms    </td><td>Both</td><td> 0</td><td>121</td><td> 0</td><td> 0.4301462</td></tr>\n",
       "\t<tr><td>998</td><td>Rheumatoid arthritis                      </td><td>60634</td><td>  820</td><td>0.013523766</td><td>705.1  </td><td>Rheumatoid arthritis                        </td><td>Musc/Skel    </td><td>Both</td><td> 0</td><td>705</td><td> 0</td><td> 1.3523766</td></tr>\n",
       "\t<tr><td>297</td><td>Dementias and cerebral degeneration       </td><td>61233</td><td>  968</td><td>0.015808469</td><td>328    </td><td>Dementias and cerebral degeneration         </td><td>Neuro        </td><td>Both</td><td> 0</td><td>328</td><td> 0</td><td> 1.5808469</td></tr>\n",
       "\t<tr><td>568</td><td>Ischemic stroke                           </td><td>60849</td><td> 1157</td><td>0.019014281</td><td>431.11 </td><td>Cerebral infarction [Ischemic stroke]       </td><td>Cardio       </td><td>Both</td><td> 0</td><td>431</td><td> 1</td><td> 1.9014281</td></tr>\n",
       "\t<tr><td> 41</td><td>Malignant neoplasm of the digestive organs</td><td>60713</td><td> 1652</td><td>0.027209988</td><td>101    </td><td>Malignant neoplasm of the digestive organs  </td><td>Neoplasms    </td><td>Both</td><td> 0</td><td>101</td><td> 0</td><td> 2.7209988</td></tr>\n",
       "\t<tr><td>430</td><td>Glaucoma                                  </td><td>60486</td><td> 1664</td><td>0.027510498</td><td>375.1  </td><td>Glaucoma                                    </td><td>Eye          </td><td>Both</td><td> 0</td><td>375</td><td> 0</td><td> 2.7510498</td></tr>\n",
       "\t<tr><td>421</td><td>Diabetic retinopathy                      </td><td>60400</td><td> 1760</td><td>0.029139073</td><td>374.42 </td><td>Diabetic retinopathy                        </td><td>Eye          </td><td>Both</td><td> 0</td><td>374</td><td> 1</td><td> 2.9139073</td></tr>\n",
       "\t<tr><td>505</td><td>Myocardial infarction                     </td><td>60213</td><td> 1800</td><td>0.029893877</td><td>404.1  </td><td>Myocardial infarction [Heart attack]        </td><td>Cardio       </td><td>Both</td><td> 0</td><td>404</td><td> 0</td><td> 2.9893877</td></tr>\n",
       "\t<tr><td>422</td><td>Macular degeneration                      </td><td>60918</td><td> 1816</td><td>0.029810565</td><td>374.5  </td><td>Macular degeneration                        </td><td>Eye          </td><td>Both</td><td> 0</td><td>374</td><td> 0</td><td> 2.9810565</td></tr>\n",
       "\t<tr><td>556</td><td>Heart failure                             </td><td>60846</td><td> 1996</td><td>0.032804128</td><td>424    </td><td>Heart failure                               </td><td>Cardio       </td><td>Both</td><td> 0</td><td>424</td><td> 0</td><td> 3.2804128</td></tr>\n",
       "\t<tr><td>765</td><td>Chronic liver disease and sequelae        </td><td>60689</td><td> 2124</td><td>0.034998105</td><td>542    </td><td>Chronic liver disease and sequelae          </td><td>GI           </td><td>Both</td><td> 0</td><td>542</td><td> 0</td><td> 3.4998105</td></tr>\n",
       "\t<tr><td>639</td><td>Chronic obstructive pulmonary disease     </td><td>60402</td><td> 2406</td><td>0.039833118</td><td>474    </td><td>Chronic obstructive pulmonary disease [COPD]</td><td>Resp         </td><td>Both</td><td> 0</td><td>474</td><td> 0</td><td> 3.9833118</td></tr>\n",
       "\t<tr><td>625</td><td>Pneumonia                                 </td><td>59697</td><td> 3199</td><td>0.053587282</td><td>468    </td><td>Pneumonia                                   </td><td>Resp         </td><td>Both</td><td> 0</td><td>468</td><td> 0</td><td> 5.3587282</td></tr>\n",
       "\t<tr><td>803</td><td>Chronic kidney disease                    </td><td>59363</td><td> 3206</td><td>0.054006705</td><td>583    </td><td>Chronic kidney disease                      </td><td>Genitourinary</td><td>Both</td><td> 0</td><td>583</td><td> 0</td><td> 5.4006705</td></tr>\n",
       "\t<tr><td>  0</td><td>All-Cause Death                           </td><td>61256</td><td> 3490</td><td>0.056974011</td><td>4306655</td><td>All-Cause Death                             </td><td>Death        </td><td>Both</td><td>NA</td><td> NA</td><td>NA</td><td> 5.6974011</td></tr>\n",
       "\t<tr><td> 51</td><td>Malignant neoplasm of the skin            </td><td>59332</td><td> 3620</td><td>0.061012607</td><td>103    </td><td>Malignant neoplasm of the skin              </td><td>Neoplasms    </td><td>Both</td><td> 0</td><td>103</td><td> 0</td><td> 6.1012607</td></tr>\n",
       "\t<tr><td>504</td><td>Coronary heart disease                    </td><td>58791</td><td> 4055</td><td>0.068973142</td><td>404    </td><td>Ischemic heart disease                      </td><td>Cardio       </td><td>Both</td><td> 0</td><td>404</td><td> 0</td><td> 6.8973142</td></tr>\n",
       "\t<tr><td>184</td><td>Diabetes mellitus                         </td><td>57936</td><td> 4259</td><td>0.073512151</td><td>202    </td><td>Diabetes mellitus                           </td><td>Endo         </td><td>Both</td><td> 0</td><td>202</td><td> 0</td><td> 7.3512151</td></tr>\n",
       "\t<tr><td>263</td><td>Major depressive disorder                 </td><td>52388</td><td> 4781</td><td>0.091261358</td><td>286.2  </td><td>Major depressive disorder                   </td><td>Mental       </td><td>Both</td><td> 0</td><td>286</td><td> 0</td><td> 9.1261358</td></tr>\n",
       "\t<tr><td>138</td><td>Anemia                                    </td><td>57646</td><td> 4887</td><td>0.084776047</td><td>164    </td><td>Anemia                                      </td><td>Blood        </td><td>Both</td><td> 0</td><td>164</td><td> 0</td><td> 8.4776047</td></tr>\n",
       "\t<tr><td>410</td><td>Cataract                                  </td><td>59805</td><td> 6798</td><td>0.113669426</td><td>371    </td><td>Cataract                                    </td><td>Eye          </td><td>Both</td><td> 0</td><td>371</td><td> 0</td><td>11.3669426</td></tr>\n",
       "\t<tr><td>605</td><td>Acute lower respiratory infection         </td><td>52240</td><td> 9705</td><td>0.185777182</td><td>460.2  </td><td>Acute lower respiratory infection           </td><td>Resp         </td><td>Both</td><td> 0</td><td>460</td><td> 1</td><td>18.5777182</td></tr>\n",
       "\t<tr><td>498</td><td>Hypertension                              </td><td>48591</td><td>11114</td><td>0.228725484</td><td>401    </td><td>Hypertension                                </td><td>Cardio       </td><td>Both</td><td> 0</td><td>401</td><td> 0</td><td>22.8725484</td></tr>\n",
       "</tbody>\n",
       "</table>\n"
      ],
      "text/latex": [
       "A tibble: 23 × 13\n",
       "\\begin{tabular}{lllllllllllll}\n",
       " V1 & endpoint & eligable & n & freq & phecode & phecode\\_string & phecode\\_category & sex & ICD10\\_only & phecode\\_top & leaf & perc\\\\\n",
       " <int> & <chr> & <int> & <int> & <dbl> & <chr> & <chr> & <chr> & <chr> & <dbl> & <int> & <dbl> & <dbl>\\\\\n",
       "\\hline\n",
       "\t  86 & Leukemia                                   & 61142 &   263 & 0.004301462 & 121     & Leukemia                                     & Neoplasms     & Both &  0 & 121 &  0 &  0.4301462\\\\\n",
       "\t 998 & Rheumatoid arthritis                       & 60634 &   820 & 0.013523766 & 705.1   & Rheumatoid arthritis                         & Musc/Skel     & Both &  0 & 705 &  0 &  1.3523766\\\\\n",
       "\t 297 & Dementias and cerebral degeneration        & 61233 &   968 & 0.015808469 & 328     & Dementias and cerebral degeneration          & Neuro         & Both &  0 & 328 &  0 &  1.5808469\\\\\n",
       "\t 568 & Ischemic stroke                            & 60849 &  1157 & 0.019014281 & 431.11  & Cerebral infarction {[}Ischemic stroke{]}        & Cardio        & Both &  0 & 431 &  1 &  1.9014281\\\\\n",
       "\t  41 & Malignant neoplasm of the digestive organs & 60713 &  1652 & 0.027209988 & 101     & Malignant neoplasm of the digestive organs   & Neoplasms     & Both &  0 & 101 &  0 &  2.7209988\\\\\n",
       "\t 430 & Glaucoma                                   & 60486 &  1664 & 0.027510498 & 375.1   & Glaucoma                                     & Eye           & Both &  0 & 375 &  0 &  2.7510498\\\\\n",
       "\t 421 & Diabetic retinopathy                       & 60400 &  1760 & 0.029139073 & 374.42  & Diabetic retinopathy                         & Eye           & Both &  0 & 374 &  1 &  2.9139073\\\\\n",
       "\t 505 & Myocardial infarction                      & 60213 &  1800 & 0.029893877 & 404.1   & Myocardial infarction {[}Heart attack{]}         & Cardio        & Both &  0 & 404 &  0 &  2.9893877\\\\\n",
       "\t 422 & Macular degeneration                       & 60918 &  1816 & 0.029810565 & 374.5   & Macular degeneration                         & Eye           & Both &  0 & 374 &  0 &  2.9810565\\\\\n",
       "\t 556 & Heart failure                              & 60846 &  1996 & 0.032804128 & 424     & Heart failure                                & Cardio        & Both &  0 & 424 &  0 &  3.2804128\\\\\n",
       "\t 765 & Chronic liver disease and sequelae         & 60689 &  2124 & 0.034998105 & 542     & Chronic liver disease and sequelae           & GI            & Both &  0 & 542 &  0 &  3.4998105\\\\\n",
       "\t 639 & Chronic obstructive pulmonary disease      & 60402 &  2406 & 0.039833118 & 474     & Chronic obstructive pulmonary disease {[}COPD{]} & Resp          & Both &  0 & 474 &  0 &  3.9833118\\\\\n",
       "\t 625 & Pneumonia                                  & 59697 &  3199 & 0.053587282 & 468     & Pneumonia                                    & Resp          & Both &  0 & 468 &  0 &  5.3587282\\\\\n",
       "\t 803 & Chronic kidney disease                     & 59363 &  3206 & 0.054006705 & 583     & Chronic kidney disease                       & Genitourinary & Both &  0 & 583 &  0 &  5.4006705\\\\\n",
       "\t   0 & All-Cause Death                            & 61256 &  3490 & 0.056974011 & 4306655 & All-Cause Death                              & Death         & Both & NA &  NA & NA &  5.6974011\\\\\n",
       "\t  51 & Malignant neoplasm of the skin             & 59332 &  3620 & 0.061012607 & 103     & Malignant neoplasm of the skin               & Neoplasms     & Both &  0 & 103 &  0 &  6.1012607\\\\\n",
       "\t 504 & Coronary heart disease                     & 58791 &  4055 & 0.068973142 & 404     & Ischemic heart disease                       & Cardio        & Both &  0 & 404 &  0 &  6.8973142\\\\\n",
       "\t 184 & Diabetes mellitus                          & 57936 &  4259 & 0.073512151 & 202     & Diabetes mellitus                            & Endo          & Both &  0 & 202 &  0 &  7.3512151\\\\\n",
       "\t 263 & Major depressive disorder                  & 52388 &  4781 & 0.091261358 & 286.2   & Major depressive disorder                    & Mental        & Both &  0 & 286 &  0 &  9.1261358\\\\\n",
       "\t 138 & Anemia                                     & 57646 &  4887 & 0.084776047 & 164     & Anemia                                       & Blood         & Both &  0 & 164 &  0 &  8.4776047\\\\\n",
       "\t 410 & Cataract                                   & 59805 &  6798 & 0.113669426 & 371     & Cataract                                     & Eye           & Both &  0 & 371 &  0 & 11.3669426\\\\\n",
       "\t 605 & Acute lower respiratory infection          & 52240 &  9705 & 0.185777182 & 460.2   & Acute lower respiratory infection            & Resp          & Both &  0 & 460 &  1 & 18.5777182\\\\\n",
       "\t 498 & Hypertension                               & 48591 & 11114 & 0.228725484 & 401     & Hypertension                                 & Cardio        & Both &  0 & 401 &  0 & 22.8725484\\\\\n",
       "\\end{tabular}\n"
      ],
      "text/markdown": [
       "\n",
       "A tibble: 23 × 13\n",
       "\n",
       "| V1 &lt;int&gt; | endpoint &lt;chr&gt; | eligable &lt;int&gt; | n &lt;int&gt; | freq &lt;dbl&gt; | phecode &lt;chr&gt; | phecode_string &lt;chr&gt; | phecode_category &lt;chr&gt; | sex &lt;chr&gt; | ICD10_only &lt;dbl&gt; | phecode_top &lt;int&gt; | leaf &lt;dbl&gt; | perc &lt;dbl&gt; |\n",
       "|---|---|---|---|---|---|---|---|---|---|---|---|---|\n",
       "|  86 | Leukemia                                   | 61142 |   263 | 0.004301462 | 121     | Leukemia                                     | Neoplasms     | Both |  0 | 121 |  0 |  0.4301462 |\n",
       "| 998 | Rheumatoid arthritis                       | 60634 |   820 | 0.013523766 | 705.1   | Rheumatoid arthritis                         | Musc/Skel     | Both |  0 | 705 |  0 |  1.3523766 |\n",
       "| 297 | Dementias and cerebral degeneration        | 61233 |   968 | 0.015808469 | 328     | Dementias and cerebral degeneration          | Neuro         | Both |  0 | 328 |  0 |  1.5808469 |\n",
       "| 568 | Ischemic stroke                            | 60849 |  1157 | 0.019014281 | 431.11  | Cerebral infarction [Ischemic stroke]        | Cardio        | Both |  0 | 431 |  1 |  1.9014281 |\n",
       "|  41 | Malignant neoplasm of the digestive organs | 60713 |  1652 | 0.027209988 | 101     | Malignant neoplasm of the digestive organs   | Neoplasms     | Both |  0 | 101 |  0 |  2.7209988 |\n",
       "| 430 | Glaucoma                                   | 60486 |  1664 | 0.027510498 | 375.1   | Glaucoma                                     | Eye           | Both |  0 | 375 |  0 |  2.7510498 |\n",
       "| 421 | Diabetic retinopathy                       | 60400 |  1760 | 0.029139073 | 374.42  | Diabetic retinopathy                         | Eye           | Both |  0 | 374 |  1 |  2.9139073 |\n",
       "| 505 | Myocardial infarction                      | 60213 |  1800 | 0.029893877 | 404.1   | Myocardial infarction [Heart attack]         | Cardio        | Both |  0 | 404 |  0 |  2.9893877 |\n",
       "| 422 | Macular degeneration                       | 60918 |  1816 | 0.029810565 | 374.5   | Macular degeneration                         | Eye           | Both |  0 | 374 |  0 |  2.9810565 |\n",
       "| 556 | Heart failure                              | 60846 |  1996 | 0.032804128 | 424     | Heart failure                                | Cardio        | Both |  0 | 424 |  0 |  3.2804128 |\n",
       "| 765 | Chronic liver disease and sequelae         | 60689 |  2124 | 0.034998105 | 542     | Chronic liver disease and sequelae           | GI            | Both |  0 | 542 |  0 |  3.4998105 |\n",
       "| 639 | Chronic obstructive pulmonary disease      | 60402 |  2406 | 0.039833118 | 474     | Chronic obstructive pulmonary disease [COPD] | Resp          | Both |  0 | 474 |  0 |  3.9833118 |\n",
       "| 625 | Pneumonia                                  | 59697 |  3199 | 0.053587282 | 468     | Pneumonia                                    | Resp          | Both |  0 | 468 |  0 |  5.3587282 |\n",
       "| 803 | Chronic kidney disease                     | 59363 |  3206 | 0.054006705 | 583     | Chronic kidney disease                       | Genitourinary | Both |  0 | 583 |  0 |  5.4006705 |\n",
       "|   0 | All-Cause Death                            | 61256 |  3490 | 0.056974011 | 4306655 | All-Cause Death                              | Death         | Both | NA |  NA | NA |  5.6974011 |\n",
       "|  51 | Malignant neoplasm of the skin             | 59332 |  3620 | 0.061012607 | 103     | Malignant neoplasm of the skin               | Neoplasms     | Both |  0 | 103 |  0 |  6.1012607 |\n",
       "| 504 | Coronary heart disease                     | 58791 |  4055 | 0.068973142 | 404     | Ischemic heart disease                       | Cardio        | Both |  0 | 404 |  0 |  6.8973142 |\n",
       "| 184 | Diabetes mellitus                          | 57936 |  4259 | 0.073512151 | 202     | Diabetes mellitus                            | Endo          | Both |  0 | 202 |  0 |  7.3512151 |\n",
       "| 263 | Major depressive disorder                  | 52388 |  4781 | 0.091261358 | 286.2   | Major depressive disorder                    | Mental        | Both |  0 | 286 |  0 |  9.1261358 |\n",
       "| 138 | Anemia                                     | 57646 |  4887 | 0.084776047 | 164     | Anemia                                       | Blood         | Both |  0 | 164 |  0 |  8.4776047 |\n",
       "| 410 | Cataract                                   | 59805 |  6798 | 0.113669426 | 371     | Cataract                                     | Eye           | Both |  0 | 371 |  0 | 11.3669426 |\n",
       "| 605 | Acute lower respiratory infection          | 52240 |  9705 | 0.185777182 | 460.2   | Acute lower respiratory infection            | Resp          | Both |  0 | 460 |  1 | 18.5777182 |\n",
       "| 498 | Hypertension                               | 48591 | 11114 | 0.228725484 | 401     | Hypertension                                 | Cardio        | Both |  0 | 401 |  0 | 22.8725484 |\n",
       "\n"
      ],
      "text/plain": [
       "   V1  endpoint                                   eligable n     freq       \n",
       "1   86 Leukemia                                   61142      263 0.004301462\n",
       "2  998 Rheumatoid arthritis                       60634      820 0.013523766\n",
       "3  297 Dementias and cerebral degeneration        61233      968 0.015808469\n",
       "4  568 Ischemic stroke                            60849     1157 0.019014281\n",
       "5   41 Malignant neoplasm of the digestive organs 60713     1652 0.027209988\n",
       "6  430 Glaucoma                                   60486     1664 0.027510498\n",
       "7  421 Diabetic retinopathy                       60400     1760 0.029139073\n",
       "8  505 Myocardial infarction                      60213     1800 0.029893877\n",
       "9  422 Macular degeneration                       60918     1816 0.029810565\n",
       "10 556 Heart failure                              60846     1996 0.032804128\n",
       "11 765 Chronic liver disease and sequelae         60689     2124 0.034998105\n",
       "12 639 Chronic obstructive pulmonary disease      60402     2406 0.039833118\n",
       "13 625 Pneumonia                                  59697     3199 0.053587282\n",
       "14 803 Chronic kidney disease                     59363     3206 0.054006705\n",
       "15   0 All-Cause Death                            61256     3490 0.056974011\n",
       "16  51 Malignant neoplasm of the skin             59332     3620 0.061012607\n",
       "17 504 Coronary heart disease                     58791     4055 0.068973142\n",
       "18 184 Diabetes mellitus                          57936     4259 0.073512151\n",
       "19 263 Major depressive disorder                  52388     4781 0.091261358\n",
       "20 138 Anemia                                     57646     4887 0.084776047\n",
       "21 410 Cataract                                   59805     6798 0.113669426\n",
       "22 605 Acute lower respiratory infection          52240     9705 0.185777182\n",
       "23 498 Hypertension                               48591    11114 0.228725484\n",
       "   phecode phecode_string                               phecode_category sex \n",
       "1  121     Leukemia                                     Neoplasms        Both\n",
       "2  705.1   Rheumatoid arthritis                         Musc/Skel        Both\n",
       "3  328     Dementias and cerebral degeneration          Neuro            Both\n",
       "4  431.11  Cerebral infarction [Ischemic stroke]        Cardio           Both\n",
       "5  101     Malignant neoplasm of the digestive organs   Neoplasms        Both\n",
       "6  375.1   Glaucoma                                     Eye              Both\n",
       "7  374.42  Diabetic retinopathy                         Eye              Both\n",
       "8  404.1   Myocardial infarction [Heart attack]         Cardio           Both\n",
       "9  374.5   Macular degeneration                         Eye              Both\n",
       "10 424     Heart failure                                Cardio           Both\n",
       "11 542     Chronic liver disease and sequelae           GI               Both\n",
       "12 474     Chronic obstructive pulmonary disease [COPD] Resp             Both\n",
       "13 468     Pneumonia                                    Resp             Both\n",
       "14 583     Chronic kidney disease                       Genitourinary    Both\n",
       "15 4306655 All-Cause Death                              Death            Both\n",
       "16 103     Malignant neoplasm of the skin               Neoplasms        Both\n",
       "17 404     Ischemic heart disease                       Cardio           Both\n",
       "18 202     Diabetes mellitus                            Endo             Both\n",
       "19 286.2   Major depressive disorder                    Mental           Both\n",
       "20 164     Anemia                                       Blood            Both\n",
       "21 371     Cataract                                     Eye              Both\n",
       "22 460.2   Acute lower respiratory infection            Resp             Both\n",
       "23 401     Hypertension                                 Cardio           Both\n",
       "   ICD10_only phecode_top leaf perc      \n",
       "1   0         121          0    0.4301462\n",
       "2   0         705          0    1.3523766\n",
       "3   0         328          0    1.5808469\n",
       "4   0         431          1    1.9014281\n",
       "5   0         101          0    2.7209988\n",
       "6   0         375          0    2.7510498\n",
       "7   0         374          1    2.9139073\n",
       "8   0         404          0    2.9893877\n",
       "9   0         374          0    2.9810565\n",
       "10  0         424          0    3.2804128\n",
       "11  0         542          0    3.4998105\n",
       "12  0         474          0    3.9833118\n",
       "13  0         468          0    5.3587282\n",
       "14  0         583          0    5.4006705\n",
       "15 NA          NA         NA    5.6974011\n",
       "16  0         103          0    6.1012607\n",
       "17  0         404          0    6.8973142\n",
       "18  0         202          0    7.3512151\n",
       "19  0         286          0    9.1261358\n",
       "20  0         164          0    8.4776047\n",
       "21  0         371          0   11.3669426\n",
       "22  0         460          1   18.5777182\n",
       "23  0         401          0   22.8725484"
      ]
     },
     "metadata": {},
     "output_type": "display_data"
    }
   ],
   "source": [
    "endpoints_md %>% filter(endpoint %in% endpoint_selection) %>% as_tibble() %>% arrange(n)  %>%\n",
    "    mutate(endpoint = recode(endpoint, !!!endpoint_map)) %>% mutate(perc = freq*100)"
   ]
  },
  {
   "cell_type": "code",
   "execution_count": 9,
   "metadata": {
    "execution": {
     "iopub.execute_input": "2022-11-09T12:28:21.533129Z",
     "iopub.status.busy": "2022-11-09T12:28:21.532274Z",
     "iopub.status.idle": "2022-11-09T12:28:21.540167Z",
     "shell.execute_reply": "2022-11-09T12:28:21.539121Z"
    },
    "tags": []
   },
   "outputs": [],
   "source": [
    "#today = substr(Sys.time(), 0, 10) # YYYY-MM-DD\n",
    "today = '220824'"
   ]
  },
  {
   "cell_type": "code",
   "execution_count": 10,
   "metadata": {
    "execution": {
     "iopub.execute_input": "2022-11-09T12:28:21.542483Z",
     "iopub.status.busy": "2022-11-09T12:28:21.541621Z",
     "iopub.status.idle": "2022-11-09T12:28:32.424107Z",
     "shell.execute_reply": "2022-11-09T12:28:32.422572Z"
    },
    "tags": []
   },
   "outputs": [
    {
     "name": "stderr",
     "output_type": "stream",
     "text": [
      "Warning message:\n",
      "“Coercing dictionary values to R character factor levels”\n"
     ]
    }
   ],
   "source": [
    "eligable_eids = arrow::read_feather(glue(\"{output_path}/eligable_eids_long_{today}.feather\")) %>% \n",
    "    mutate(included = 1)\n",
    "eligable_eids$eid = as.numeric(levels(eligable_eids$eid))[eligable_eids$eid]"
   ]
  },
  {
   "cell_type": "code",
   "execution_count": 11,
   "metadata": {
    "execution": {
     "iopub.execute_input": "2022-11-09T12:28:32.426580Z",
     "iopub.status.busy": "2022-11-09T12:28:32.425733Z",
     "iopub.status.idle": "2022-11-09T12:28:55.668409Z",
     "shell.execute_reply": "2022-11-09T12:28:55.667141Z"
    },
    "tags": []
   },
   "outputs": [],
   "source": [
    "data_outcomes = arrow::read_feather(glue(\"{output_path}/baseline_outcomes_long_220627.feather\", as_data_frame=FALSE)) "
   ]
  },
  {
   "cell_type": "code",
   "execution_count": 12,
   "metadata": {
    "execution": {
     "iopub.execute_input": "2022-11-09T12:28:55.670781Z",
     "iopub.status.busy": "2022-11-09T12:28:55.669951Z",
     "iopub.status.idle": "2022-11-09T12:28:55.689990Z",
     "shell.execute_reply": "2022-11-09T12:28:55.688961Z"
    },
    "tags": []
   },
   "outputs": [
    {
     "data": {
      "text/html": [
       "<style>\n",
       ".list-inline {list-style: none; margin:0; padding: 0}\n",
       ".list-inline>li {display: inline-block}\n",
       ".list-inline>li:not(:last-child)::after {content: \"\\00b7\"; padding: 0 .5ex}\n",
       "</style>\n",
       "<ol class=list-inline><li>0</li><li>1</li><li>2</li><li>3</li><li>4</li><li>5</li><li>6</li><li>7</li><li>8</li><li>9</li><li>10</li><li>11</li><li>12</li><li>13</li><li>14</li><li>15</li><li>16</li><li>17</li><li>18</li><li>19</li><li>20</li><li>21</li></ol>\n"
      ],
      "text/latex": [
       "\\begin{enumerate*}\n",
       "\\item 0\n",
       "\\item 1\n",
       "\\item 2\n",
       "\\item 3\n",
       "\\item 4\n",
       "\\item 5\n",
       "\\item 6\n",
       "\\item 7\n",
       "\\item 8\n",
       "\\item 9\n",
       "\\item 10\n",
       "\\item 11\n",
       "\\item 12\n",
       "\\item 13\n",
       "\\item 14\n",
       "\\item 15\n",
       "\\item 16\n",
       "\\item 17\n",
       "\\item 18\n",
       "\\item 19\n",
       "\\item 20\n",
       "\\item 21\n",
       "\\end{enumerate*}\n"
      ],
      "text/markdown": [
       "1. 0\n",
       "2. 1\n",
       "3. 2\n",
       "4. 3\n",
       "5. 4\n",
       "6. 5\n",
       "7. 6\n",
       "8. 7\n",
       "9. 8\n",
       "10. 9\n",
       "11. 10\n",
       "12. 11\n",
       "13. 12\n",
       "14. 13\n",
       "15. 14\n",
       "16. 15\n",
       "17. 16\n",
       "18. 17\n",
       "19. 18\n",
       "20. 19\n",
       "21. 20\n",
       "22. 21\n",
       "\n",
       "\n"
      ],
      "text/plain": [
       " [1]  0  1  2  3  4  5  6  7  8  9 10 11 12 13 14 15 16 17 18 19 20 21"
      ]
     },
     "metadata": {},
     "output_type": "display_data"
    }
   ],
   "source": [
    "partitions = 0:21\n",
    "crop_ratio = \"0.66\" # 0.3, 0.5, 0.8\n",
    "partitions\n",
    "paths = c()\n",
    "for (p in partitions){\n",
    "    #temp_path = glue(\"{experiment_path}/loghs/Identity(Records)+MLP/{p}/test.feather\")\n",
    "    temp_path = glue(\"{experiment_path}/loghs/ImageTraining_[]_ConvNeXt_MLPHead_predictions_cropratio{crop_ratio}/{p}/test.feather\")\n",
    "    paths = c(paths, temp_path)\n",
    "    }"
   ]
  },
  {
   "cell_type": "code",
   "execution_count": 13,
   "metadata": {
    "execution": {
     "iopub.execute_input": "2022-11-09T12:28:55.692329Z",
     "iopub.status.busy": "2022-11-09T12:28:55.691485Z",
     "iopub.status.idle": "2022-11-09T12:28:55.701748Z",
     "shell.execute_reply": "2022-11-09T12:28:55.700766Z"
    },
    "tags": []
   },
   "outputs": [],
   "source": [
    "read_predictions = function(paths, endpoint_list){\n",
    "    predictions = paths %>% map_df(\n",
    "        ~suppressWarnings(read_feather(., col_select=c(\"eid\", all_of(endpoint_list)))) %>% \n",
    "        pivot_longer(all_of(endpoint_list), names_to=\"endpoint\", values_to=\"logh\") %>%\n",
    "        mutate(eid = as.integer(as.character(eid))) %>%\n",
    "        select(endpoint, eid, logh))# %>% arrange(endpoint, eid)\n",
    "    return(predictions)\n",
    "    }\n",
    "\n",
    "map <- c(`1` = 'top10',\n",
    "            `2` = 'rest',\n",
    "         `3` = 'rest',\n",
    "         `4` = 'rest',\n",
    "         `5` = 'rest',\n",
    "         `6` = 'rest',\n",
    "         `7` = 'rest',\n",
    "         `8` = 'rest',\n",
    "         `9` = 'rest',\n",
    "         `10` = 'rest')\n",
    "\n",
    "calc_ratios = function(pred_outcomes, endpoints_md){\n",
    "    \n",
    "    logh_inc = pred_outcomes %>% \n",
    "        filter(included==1) %>% \n",
    "        group_by(endpoint) %>% \n",
    "        mutate(logh_perc = ntile(logh, 10)) %>% \n",
    "#         mutate(logh_perc=case_when(logh_perc %in% 1:9 ~ 1, \n",
    "#                                     logh_perc %in% 10:11 ~ 10,\n",
    "#                                     TRUE ~ \"NA\")) %>%\n",
    "        ungroup()\n",
    "\n",
    "    logh_T_agg = logh_inc %>% group_by(endpoint, logh_perc) %>% summarise(n=sum(event, na.rm=TRUE), event_rate = mean(event)) #%>% as_tibble()\n",
    "    temp_ordered = logh_T_agg %>% mutate(endpoint = factor(endpoint, levels=endpoints_md$endpoint)) \n",
    "    temp_ratios = temp_ordered %>% #filter(logh_perc %in% c(1, 10)) %>% \n",
    "        pivot_wider(names_from=logh_perc, values_from=c(n, event_rate)) %>% \n",
    "        mutate(event_rate_ratio=event_rate_10/event_rate_1) %>%\n",
    "#             mutate(ratio=ratio_top10/ratio_rest) %>%\n",
    "\n",
    "        #mutate(endpoint_string = recode(endpoint, !!!endpoint_map)) %>%\n",
    "        #select(endpoint, n_1, n_10, event_rate_1, ratio_10, ratio) %>%\n",
    "#             select(endpoint, n_top10, n_rest, ratio_top10, ratio_rest, ratio) %>%\n",
    "\n",
    "        arrange(event_rate_ratio) #%>% as_tibble()\n",
    "    return(temp_ratios)\n",
    "    }"
   ]
  },
  {
   "cell_type": "code",
   "execution_count": 14,
   "metadata": {
    "execution": {
     "iopub.execute_input": "2022-11-09T12:28:55.704061Z",
     "iopub.status.busy": "2022-11-09T12:28:55.703223Z",
     "iopub.status.idle": "2022-11-09T12:28:55.710392Z",
     "shell.execute_reply": "2022-11-09T12:28:55.709426Z"
    },
    "tags": []
   },
   "outputs": [],
   "source": [
    "prepare_ratios = function(endpoint_list){\n",
    "    \n",
    "    temp_outcomes = data_outcomes %>% filter(endpoint %in% endpoint_list)\n",
    "    temp_eligability = eligable_eids %>% filter(endpoint %in% endpoint_list)\n",
    "    temp_outcomes_eligability = temp_outcomes %>% left_join(temp_eligability, by=c(\"eid\", \"endpoint\"))\n",
    "    pred_outcomes = read_predictions(paths, endpoint_list) %>% left_join(temp_outcomes_eligability, on=c(eid, endpoint)) %>% as_tibble()\n",
    "    temp_df = calc_ratios(pred_outcomes, endpoints_md)\n",
    "    \n",
    "    return(temp_df)\n",
    "    }"
   ]
  },
  {
   "cell_type": "code",
   "execution_count": 15,
   "metadata": {
    "execution": {
     "iopub.execute_input": "2022-11-09T12:28:55.712651Z",
     "iopub.status.busy": "2022-11-09T12:28:55.711812Z",
     "iopub.status.idle": "2022-11-09T12:28:55.719717Z",
     "shell.execute_reply": "2022-11-09T12:28:55.718749Z"
    },
    "tags": []
   },
   "outputs": [],
   "source": [
    "ep_chunks = split(endpoints_md$endpoint, ceiling(seq_along(endpoints_md$endpoint)/500))"
   ]
  },
  {
   "cell_type": "code",
   "execution_count": null,
   "metadata": {
    "execution": {
     "iopub.execute_input": "2022-11-09T12:28:55.721948Z",
     "iopub.status.busy": "2022-11-09T12:28:55.721134Z"
    },
    "tags": []
   },
   "outputs": [
    {
     "name": "stderr",
     "output_type": "stream",
     "text": [
      "\u001b[1m\u001b[22mJoining, by = c(\"endpoint\", \"eid\")\n"
     ]
    }
   ],
   "source": [
    "ratio_dfs = c()\n",
    "for (i in 1:length(ep_chunks)){\n",
    "    endpoint_list = ep_chunks[[i]]\n",
    "    ratio_dfs[[i]] = prepare_ratios(endpoint_list)\n",
    "    print(ratio_dfs[[i]])\n",
    "    flush.console()\n",
    "}"
   ]
  },
  {
   "cell_type": "code",
   "execution_count": null,
   "metadata": {
    "tags": []
   },
   "outputs": [],
   "source": [
    "ratio_df_complete = bind_rows(ratio_dfs) %>% ungroup() %>%\n",
    "    mutate(endpoint_string = recode(endpoint, !!!endpoint_map)) %>% \n",
    "    #select(endpoint, endpoint_string, n_1, n_10, ratio_1, ratio_10, ratio) %>%\n",
    "#     select(endpoint, endpoint_string, n_top10, n_rest, ratio_top10, ratio_rest, ratio) %>%\n",
    "\n",
    "    arrange(event_rate_ratio) %>% left_join(endpoints_md %>% select(endpoint, phecode_category) %>% as_tibble(), by=\"endpoint\")\n",
    "\n",
    "ratio_df_complete"
   ]
  },
  {
   "cell_type": "code",
   "execution_count": null,
   "metadata": {
    "tags": []
   },
   "outputs": [],
   "source": [
    "options(pillar.print_max = Inf)\n",
    "ratio_df_complete %>% \n",
    "    arrange(event_rate_ratio) %>% \n",
    "    write_csv(glue(\"outputs/SupplTable1_RateRatiosAll_10vsRest_CropRatio-0.66.csv\"))"
   ]
  },
  {
   "cell_type": "code",
   "execution_count": null,
   "metadata": {
    "tags": []
   },
   "outputs": [],
   "source": [
    "# 0.66:\n",
    "cat(\"nrows with rate ratio > 1 :\", nrow(ratio_df_complete %>% filter(ratio > 1)))\n",
    "cat(\"\\nnrows with rate ratio > 3 :\", nrow(ratio_df_complete %>% filter(ratio > 3)))\n",
    "cat(\"\\nnrows with rate ratio > 5 :\", nrow(ratio_df_complete %>% filter(ratio > 5)))\n",
    "cat(\"\\nnrows with rate ratio > 10 :\", nrow(ratio_df_complete %>% filter(ratio > 10)))\n",
    "cat(\"\\nnrows with rate ratio > 50 :\", nrow(ratio_df_complete %>% filter(ratio > 50)))"
   ]
  },
  {
   "cell_type": "code",
   "execution_count": null,
   "metadata": {
    "tags": []
   },
   "outputs": [],
   "source": [
    "ratio_df_complete %>% filter(ratio<10) %>% arrange(desc(ratio_1)) #%>% filter(!str_detect(endpoint, \"-\"))"
   ]
  },
  {
   "cell_type": "code",
   "execution_count": null,
   "metadata": {
    "tags": []
   },
   "outputs": [],
   "source": [
    "base_size = 8\n",
    "title_size = 10\n",
    "facet_size = 8.5\n",
    "geom_text_size=3\n",
    "theme_set(theme_classic(base_size = base_size) + \n",
    "          theme(strip.background = element_blank(), plot.title=element_text(size=title_size, hjust=0), \n",
    "                strip.text.x = element_text(size = facet_size),axis.title=element_text(size=10), axis.text=element_text(size=8, color=\"black\"),\n",
    "                legend.position=\"bottom\", axis.line = element_line(size = 0.2), axis.ticks=element_line(size=0.2)))"
   ]
  },
  {
   "cell_type": "markdown",
   "metadata": {},
   "source": [
    "## Nice overview over all categories"
   ]
  },
  {
   "cell_type": "markdown",
   "metadata": {
    "jp-MarkdownHeadingCollapsed": true,
    "tags": []
   },
   "source": [
    "### crop ratio 0.3"
   ]
  },
  {
   "cell_type": "code",
   "execution_count": null,
   "metadata": {
    "tags": []
   },
   "outputs": [],
   "source": [
    "plot_width = 10; plot_height=2.5; plot_res = 320\n",
    "options(repr.plot.width = plot_width, repr.plot.height = plot_height, repr.plot.res=plot_res)\n",
    "\n",
    "library(ggtext)\n",
    "categories_sorted = (endpoints_md %>% arrange(endpoint) %>% distinct(phecode_category) %>% as_tibble())$phecode_category\n",
    "\n",
    "temp = ratio_df_complete %>%\n",
    "    mutate(phecode_category = factor(phecode_category, levels=categories_sorted)) %>%\n",
    "    mutate(highlight = case_when(endpoint %in% endpoint_selection ~ \"YES\", TRUE ~ \"NO\")) \n",
    "#+    mutate(score = factor(score, levels=scores_plot)) %>%\n",
    "#+    mutate(endpoint = factor(endpoint, levels=endpoints_sorted)) %>%\n",
    "#+    ungroup() %>%\n",
    "#+    pivot_wider(names_from=score, values_from=cindex) %>% \n",
    "#+    mutate(id = row_number()) %>%\n",
    "#+    mutate(delta = `Age+Sex+Retina`-`Age+Sex`) %>%\n",
    "#+    group_by(endpoint, phecode_string, phecode_category) %>%\n",
    "#+    summarise(delta = median(delta)) %>%\n",
    "#+    mutate(pos = case_when(delta>=0 ~ \"pos\", delta < 0 ~\"neg\")) %>%\n",
    "#+    mutate(endpoint = fct_reorder(endpoint, delta)) %>%\n",
    "    # %>%# %>% filter(endpoint %in% endpoint_sample)\n",
    "#+    \n",
    "\n",
    "endpoint_order = (temp %>% arrange(ratio))$endpoint\n",
    "\n",
    "temp = temp %>% mutate(endpoint = factor(endpoint, levels=endpoint_order)) %>% ungroup() %>% arrange(endpoint) %>% group_by(phecode_category) %>% mutate(endpoint = row_number()) %>% mutate(log_ratio = log(ratio))\n",
    "\n",
    "overview = ggplot(temp) +\n",
    "    geom_ribbon(aes(x=endpoint, ymin=0, ymax=log_ratio), fill=\"black\", alpha=0.2)+\n",
    "    geom_point(aes(x=endpoint, y=log_ratio, color=highlight, size=highlight, alpha=highlight)) +\n",
    "    geom_text(data=temp %>% filter(highlight==\"YES\"), aes(x=endpoint, y=log_ratio+0.5, label=\"↓\", vjust=0), color=\"black\", size=5, alpha=0.7) +\n",
    "    #geom_segment(aes(x=endpoint, xend=endpoint, y=0, yend=delta, color=highlight, size=highlight), alpha=0.5)+#+\n",
    "    labs(x=\"Endpoints\", y=\"Rate Ratio\") +# (Top vs. Bottom 10%)\")+\n",
    "    scale_color_manual(values=c(\"NO\"=\"black\", \"YES\"=\"firebrick\"))+\n",
    "    scale_alpha_manual(values=c(\"NO\"=0.1, \"YES\"=1))+\n",
    "    scale_size_manual(values=c(\"NO\"=0.01, \"YES\"=1))+\n",
    "    #scale_colour_manual(values = c(\"pos\"=\"forestgreen\", \"neg\" = \"firebrick\")) + \n",
    "    #coord_polar() +\n",
    "    coord_cartesian(ylim=c(0, NA), clip = \"off\")+\n",
    "    scale_y_continuous(expand=c(0, 0), breaks=c(log(1), log(10), log(100), log(1000)), labels=c(1, 10, 100, 1000)) +\n",
    "    #scale_y_continuous(, trans='log10')+\n",
    "    scale_x_discrete(expand=expansion(add=20))+\n",
    "    facet_grid(~phecode_category, scales=\"free_x\", space=\"free_x\")+#, switch=TRUE)+\n",
    "    #facet_grid2(~phecode_category, scales = \"free\", independent = \"all\") + \n",
    "    theme(axis.title.x=element_blank(),\n",
    "        axis.text.x=element_blank(),\n",
    "        axis.ticks.x=element_blank(),\n",
    "        panel.grid.major.y=element_line(), \n",
    "         strip.text = element_text(angle=270)) + \n",
    "    theme(legend.position=\"none\") \n",
    "    \n",
    "    #geom_ribbon(aes(x=id, ymin=AgeSex, ymax=`Age+Sex+Retina`), fill=\"red\", alpha=0.2)\n",
    "#geom_violin(size=0.1)\n",
    "overview"
   ]
  },
  {
   "cell_type": "raw",
   "metadata": {
    "tags": []
   },
   "source": [
    "### crop ratio 0.5"
   ]
  },
  {
   "cell_type": "raw",
   "metadata": {
    "tags": []
   },
   "source": [
    "plot_width = 10; plot_height=2.5; plot_res = 320\n",
    "options(repr.plot.width = plot_width, repr.plot.height = plot_height, repr.plot.res=plot_res)\n",
    "\n",
    "library(ggtext)\n",
    "categories_sorted = (endpoints_md %>% arrange(endpoint) %>% distinct(phecode_category) %>% as_tibble())$phecode_category\n",
    "\n",
    "temp = ratio_df_complete %>%\n",
    "    mutate(phecode_category = factor(phecode_category, levels=categories_sorted)) %>%\n",
    "    mutate(highlight = case_when(endpoint %in% endpoint_selection ~ \"YES\", TRUE ~ \"NO\")) \n",
    "#+    mutate(score = factor(score, levels=scores_plot)) %>%\n",
    "#+    mutate(endpoint = factor(endpoint, levels=endpoints_sorted)) %>%\n",
    "#+    ungroup() %>%\n",
    "#+    pivot_wider(names_from=score, values_from=cindex) %>% \n",
    "#+    mutate(id = row_number()) %>%\n",
    "#+    mutate(delta = `Age+Sex+Retina`-`Age+Sex`) %>%\n",
    "#+    group_by(endpoint, phecode_string, phecode_category) %>%\n",
    "#+    summarise(delta = median(delta)) %>%\n",
    "#+    mutate(pos = case_when(delta>=0 ~ \"pos\", delta < 0 ~\"neg\")) %>%\n",
    "#+    mutate(endpoint = fct_reorder(endpoint, delta)) %>%\n",
    "    # %>%# %>% filter(endpoint %in% endpoint_sample)\n",
    "#+    \n",
    "\n",
    "endpoint_order = (temp %>% arrange(ratio))$endpoint\n",
    "\n",
    "temp = temp %>% mutate(endpoint = factor(endpoint, levels=endpoint_order)) %>% ungroup() %>% arrange(endpoint) %>% group_by(phecode_category) %>% mutate(endpoint = row_number()) %>% mutate(log_ratio = log(ratio))\n",
    "\n",
    "overview = ggplot(temp) +\n",
    "    geom_ribbon(aes(x=endpoint, ymin=0, ymax=log_ratio), fill=\"black\", alpha=0.2)+\n",
    "    geom_point(aes(x=endpoint, y=log_ratio, color=highlight, size=highlight, alpha=highlight)) +\n",
    "    geom_text(data=temp %>% filter(highlight==\"YES\"), aes(x=endpoint, y=log_ratio+0.5, label=\"↓\", vjust=0), color=\"black\", size=5, alpha=0.7) +\n",
    "    #geom_segment(aes(x=endpoint, xend=endpoint, y=0, yend=delta, color=highlight, size=highlight), alpha=0.5)+#+\n",
    "    labs(x=\"Endpoints\", y=\"Rate Ratio\") +# (Top vs. Bottom 10%)\")+\n",
    "    scale_color_manual(values=c(\"NO\"=\"black\", \"YES\"=\"firebrick\"))+\n",
    "    scale_alpha_manual(values=c(\"NO\"=0.1, \"YES\"=1))+\n",
    "    scale_size_manual(values=c(\"NO\"=0.01, \"YES\"=1))+\n",
    "    #scale_colour_manual(values = c(\"pos\"=\"forestgreen\", \"neg\" = \"firebrick\")) + \n",
    "    #coord_polar() +\n",
    "    coord_cartesian(ylim=c(0, NA), clip = \"off\")+\n",
    "    scale_y_continuous(expand=c(0, 0), breaks=c(log(1), log(10), log(100), log(1000)), labels=c(1, 10, 100, 1000)) +\n",
    "    #scale_y_continuous(, trans='log10')+\n",
    "    scale_x_discrete(expand=expansion(add=20))+\n",
    "    facet_grid(~phecode_category, scales=\"free_x\", space=\"free_x\")+#, switch=TRUE)+\n",
    "    #facet_grid2(~phecode_category, scales = \"free\", independent = \"all\") + \n",
    "    theme(axis.title.x=element_blank(),\n",
    "        axis.text.x=element_blank(),\n",
    "        axis.ticks.x=element_blank(),\n",
    "        panel.grid.major.y=element_line(), \n",
    "         strip.text = element_text(angle=270)) + \n",
    "    theme(legend.position=\"none\") \n",
    "    \n",
    "    #geom_ribbon(aes(x=id, ymin=AgeSex, ymax=`Age+Sex+Retina`), fill=\"red\", alpha=0.2)\n",
    "#geom_violin(size=0.1)\n",
    "overview"
   ]
  },
  {
   "cell_type": "markdown",
   "metadata": {
    "jp-MarkdownHeadingCollapsed": true,
    "tags": []
   },
   "source": [
    "### crop ratio 0.8"
   ]
  },
  {
   "cell_type": "raw",
   "metadata": {
    "tags": []
   },
   "source": [
    "plot_width = 10; plot_height=2.5; plot_res = 320\n",
    "options(repr.plot.width = plot_width, repr.plot.height = plot_height, repr.plot.res=plot_res)\n",
    "\n",
    "library(ggtext)\n",
    "categories_sorted = (endpoints_md %>% arrange(endpoint) %>% distinct(phecode_category) %>% as_tibble())$phecode_category\n",
    "\n",
    "temp = ratio_df_complete %>%\n",
    "    mutate(phecode_category = factor(phecode_category, levels=categories_sorted)) %>%\n",
    "    mutate(highlight = case_when(endpoint %in% endpoint_selection ~ \"YES\", TRUE ~ \"NO\")) \n",
    "#+    mutate(score = factor(score, levels=scores_plot)) %>%\n",
    "#+    mutate(endpoint = factor(endpoint, levels=endpoints_sorted)) %>%\n",
    "#+    ungroup() %>%\n",
    "#+    pivot_wider(names_from=score, values_from=cindex) %>% \n",
    "#+    mutate(id = row_number()) %>%\n",
    "#+    mutate(delta = `Age+Sex+Retina`-`Age+Sex`) %>%\n",
    "#+    group_by(endpoint, phecode_string, phecode_category) %>%\n",
    "#+    summarise(delta = median(delta)) %>%\n",
    "#+    mutate(pos = case_when(delta>=0 ~ \"pos\", delta < 0 ~\"neg\")) %>%\n",
    "#+    mutate(endpoint = fct_reorder(endpoint, delta)) %>%\n",
    "    # %>%# %>% filter(endpoint %in% endpoint_sample)\n",
    "#+    \n",
    "\n",
    "endpoint_order = (temp %>% arrange(ratio))$endpoint\n",
    "\n",
    "temp = temp %>% mutate(endpoint = factor(endpoint, levels=endpoint_order)) %>% ungroup() %>% arrange(endpoint) %>% group_by(phecode_category) %>% mutate(endpoint = row_number()) %>% mutate(log_ratio = log(ratio))\n",
    "\n",
    "overview = ggplot(temp) +\n",
    "    geom_ribbon(aes(x=endpoint, ymin=0, ymax=log_ratio), fill=\"black\", alpha=0.2)+\n",
    "    geom_point(aes(x=endpoint, y=log_ratio, color=highlight, size=highlight, alpha=highlight)) +\n",
    "    geom_text(data=temp %>% filter(highlight==\"YES\"), aes(x=endpoint, y=log_ratio+0.5, label=\"↓\", vjust=0), color=\"black\", size=5, alpha=0.7) +\n",
    "    #geom_segment(aes(x=endpoint, xend=endpoint, y=0, yend=delta, color=highlight, size=highlight), alpha=0.5)+#+\n",
    "    labs(x=\"Endpoints\", y=\"Rate Ratio\") +# (Top vs. Bottom 10%)\")+\n",
    "    scale_color_manual(values=c(\"NO\"=\"black\", \"YES\"=\"firebrick\"))+\n",
    "    scale_alpha_manual(values=c(\"NO\"=0.1, \"YES\"=1))+\n",
    "    scale_size_manual(values=c(\"NO\"=0.01, \"YES\"=1))+\n",
    "    #scale_colour_manual(values = c(\"pos\"=\"forestgreen\", \"neg\" = \"firebrick\")) + \n",
    "    #coord_polar() +\n",
    "    coord_cartesian(ylim=c(0, NA), clip = \"off\")+\n",
    "    scale_y_continuous(expand=c(0, 0), breaks=c(log(1), log(10), log(100), log(1000)), labels=c(1, 10, 100, 1000)) +\n",
    "    #scale_y_continuous(, trans='log10')+\n",
    "    scale_x_discrete(expand=expansion(add=20))+\n",
    "    facet_grid(~phecode_category, scales=\"free_x\", space=\"free_x\")+#, switch=TRUE)+\n",
    "    #facet_grid2(~phecode_category, scales = \"free\", independent = \"all\") + \n",
    "    theme(axis.title.x=element_blank(),\n",
    "        axis.text.x=element_blank(),\n",
    "        axis.ticks.x=element_blank(),\n",
    "        panel.grid.major.y=element_line(), \n",
    "         strip.text = element_text(angle=270)) + \n",
    "    theme(legend.position=\"none\") \n",
    "    \n",
    "    #geom_ribbon(aes(x=id, ymin=AgeSex, ymax=`Age+Sex+Retina`), fill=\"red\", alpha=0.2)\n",
    "#geom_violin(size=0.1)\n",
    "overview"
   ]
  },
  {
   "cell_type": "markdown",
   "metadata": {
    "tags": []
   },
   "source": [
    "### crop ratio 0.5 with only positive ratios (negative set to 0)"
   ]
  },
  {
   "cell_type": "code",
   "execution_count": null,
   "metadata": {
    "tags": []
   },
   "outputs": [],
   "source": [
    "plot_width = 10; plot_height=2.5; plot_res = 320\n",
    "options(repr.plot.width = plot_width, repr.plot.height = plot_height, repr.plot.res=plot_res)\n",
    "\n",
    "library(ggtext)\n",
    "categories_sorted = (endpoints_md %>% arrange(endpoint) %>% distinct(phecode_category) %>% as_tibble())$phecode_category\n",
    "\n",
    "temp_pos = ratio_df_complete %>%\n",
    "    mutate(phecode_category = factor(phecode_category, levels=categories_sorted)) %>%\n",
    "    mutate(highlight = case_when(endpoint %in% endpoint_selection ~ \"YES\", TRUE ~ \"NO\")) \n",
    "#+    mutate(score = factor(score, levels=scores_plot)) %>%\n",
    "#+    mutate(endpoint = factor(endpoint, levels=endpoints_sorted)) %>%\n",
    "#+    ungroup() %>%\n",
    "#+    pivot_wider(names_from=score, values_from=cindex) %>% \n",
    "#+    mutate(id = row_number()) %>%\n",
    "#+    mutate(delta = `Age+Sex+Retina`-`Age+Sex`) %>%\n",
    "#+    group_by(endpoint, phecode_string, phecode_category) %>%\n",
    "#+    summarise(delta = median(delta)) %>%\n",
    "#+    mutate(pos = case_when(delta>=0 ~ \"pos\", delta < 0 ~\"neg\")) %>%\n",
    "#+    mutate(endpoint = fct_reorder(endpoint, delta)) %>%\n",
    "    # %>%# %>% filter(endpoint %in% endpoint_sample)\n",
    "#+    \n",
    "\n",
    "endpoint_order = (temp_pos %>% arrange(ratio))$endpoint\n",
    "\n",
    "#index <- temp_pos$ratio < 0\n",
    "#temp_pos$ratio[index] <- 0.\n",
    "\n",
    "\n",
    "temp_pos = temp_pos %>% mutate(endpoint = factor(endpoint, levels=endpoint_order)) %>% ungroup() %>% arrange(endpoint) %>% group_by(phecode_category) %>% mutate(endpoint = row_number()) %>% mutate(log_ratio = log(ratio))\n",
    "\n",
    "index <- temp_pos$log_ratio < 0\n",
    "temp_pos$log_ratio[index] <- 0.\n",
    "\n",
    "overview = ggplot(temp_pos) +\n",
    "    geom_ribbon(aes(x=endpoint, ymin=0, ymax=log_ratio), fill=\"black\", alpha=0.2)+\n",
    "    geom_point(aes(x=endpoint, y=log_ratio, color=highlight, size=highlight, alpha=highlight)) +\n",
    "    geom_text(data=temp_pos %>% filter(highlight==\"YES\"), aes(x=endpoint, y=log_ratio+0.5, label=\"↓\", vjust=0), color=\"black\", size=5, alpha=0.7) +\n",
    "    #geom_segment(aes(x=endpoint, xend=endpoint, y=0, yend=delta, color=highlight, size=highlight), alpha=0.5)+#+\n",
    "    labs(x=\"Endpoints\", y=\"Rate Ratio\") +# (Top vs. Bottom 10%)\")+\n",
    "    scale_color_manual(values=c(\"NO\"=\"black\", \"YES\"=\"firebrick\"))+\n",
    "    scale_alpha_manual(values=c(\"NO\"=0.1, \"YES\"=1))+\n",
    "    scale_size_manual(values=c(\"NO\"=0.01, \"YES\"=1))+\n",
    "    #scale_colour_manual(values = c(\"pos\"=\"forestgreen\", \"neg\" = \"firebrick\")) + \n",
    "    #coord_polar() +\n",
    "    coord_cartesian(ylim=c(0, log(1000000)), clip = \"off\")+\n",
    "    scale_y_continuous(expand=c(0, 0), breaks=c(log(1), log(10), log(100), log(1000)), labels=c(1, 10, 100, 1000)) +\n",
    "    #scale_y_continuous(, trans='log10')+\n",
    "    scale_x_discrete(expand=expansion(add=20))+\n",
    "    facet_grid(~phecode_category, scales=\"free_x\", space=\"free_x\")+#, switch=TRUE)+\n",
    "    #facet_grid2(~phecode_category, scales = \"free\", independent = \"all\") + \n",
    "    theme(axis.title.x=element_blank(),\n",
    "        axis.text.x=element_blank(),\n",
    "        axis.ticks.x=element_blank(),\n",
    "        panel.grid.major.y=element_line(), \n",
    "         strip.text = element_text(angle=270)) + \n",
    "    theme(legend.position=\"none\") \n",
    "    \n",
    "    #geom_ribbon(aes(x=id, ymin=AgeSex, ymax=`Age+Sex+Retina`), fill=\"red\", alpha=0.2)\n",
    "#geom_violin(size=0.1)\n",
    "overview"
   ]
  },
  {
   "cell_type": "code",
   "execution_count": null,
   "metadata": {
    "tags": []
   },
   "outputs": [],
   "source": [
    "plot_name = \"RR_overview\"\n",
    "overview %>% ggsave(filename=glue(\"outputs/{plot_name}.pdf\"), device=\"pdf\", width=plot_width, height=plot_height, dpi=plot_res, limitsize=FALSE)"
   ]
  },
  {
   "cell_type": "code",
   "execution_count": null,
   "metadata": {},
   "outputs": [],
   "source": []
  },
  {
   "cell_type": "code",
   "execution_count": null,
   "metadata": {},
   "outputs": [],
   "source": []
  },
  {
   "cell_type": "code",
   "execution_count": null,
   "metadata": {},
   "outputs": [],
   "source": []
  },
  {
   "cell_type": "code",
   "execution_count": null,
   "metadata": {},
   "outputs": [],
   "source": []
  },
  {
   "cell_type": "code",
   "execution_count": null,
   "metadata": {},
   "outputs": [],
   "source": []
  },
  {
   "cell_type": "code",
   "execution_count": null,
   "metadata": {},
   "outputs": [],
   "source": []
  },
  {
   "cell_type": "code",
   "execution_count": null,
   "metadata": {},
   "outputs": [],
   "source": []
  },
  {
   "cell_type": "markdown",
   "metadata": {},
   "source": [
    "## Endpoint selection for health state and incident disease rates"
   ]
  },
  {
   "cell_type": "code",
   "execution_count": null,
   "metadata": {},
   "outputs": [],
   "source": [
    "predictions = paths %>% map_df(\n",
    "    ~suppressWarnings(read_feather(., col_select=c(\"eid\", all_of(endpoint_selection)))) %>% \n",
    "    pivot_longer(endpoint_selection, names_to=\"endpoint\", values_to=\"logh\") %>%\n",
    "    mutate(eid = as.integer(as.character(eid))) %>%\n",
    "    select(endpoint, eid, logh))# %>% arrange(endpoint, eid)\n",
    "predictions %>% head()"
   ]
  },
  {
   "cell_type": "markdown",
   "metadata": {
    "tags": []
   },
   "source": [
    "pred_outcomes = predictions %>% left_join(data_outcomes, on=c(eid, endpoint)) %>% as.data.table() #%>% as_tibble()"
   ]
  },
  {
   "cell_type": "code",
   "execution_count": null,
   "metadata": {
    "tags": []
   },
   "outputs": [],
   "source": [
    "logh_inc = pred_outcomes %>% filter(included==1) %>% group_by(endpoint) %>% mutate(logh_perc = ntile(logh, 100)) %>% ungroup() %>% as_tibble()"
   ]
  },
  {
   "cell_type": "code",
   "execution_count": null,
   "metadata": {
    "tags": []
   },
   "outputs": [],
   "source": [
    "logh_T_agg = logh_inc %>% group_by(endpoint, logh_perc) %>% summarise(n=sum(event), ratio = mean(event)) %>% as_tibble()"
   ]
  },
  {
   "cell_type": "code",
   "execution_count": null,
   "metadata": {
    "tags": []
   },
   "outputs": [],
   "source": [
    "#logh_T_endpoint = logh_inc %>% group_by(endpoint) %>% summarise(n_all=sum(event), ratio_all = mean(event)) %>% as_tibble()"
   ]
  },
  {
   "cell_type": "code",
   "execution_count": null,
   "metadata": {
    "tags": []
   },
   "outputs": [],
   "source": [
    "endpoint_order"
   ]
  },
  {
   "cell_type": "code",
   "execution_count": null,
   "metadata": {
    "tags": []
   },
   "outputs": [],
   "source": [
    "plot_width = 8.25; plot_height=6; plot_res = 320\n",
    "options(repr.plot.width = plot_width, repr.plot.height = plot_height, repr.plot.res=plot_res)\n",
    "#temp_rank = event_rest %>% filter(features==\"Metabolomics\") %>% arrange(desc(MET10PercvsREST))\n",
    "#endpoint_order = (endpoint_defs %>% mutate(phecode_rank = as.numeric(phecode)) %>% arrange(phecode_rank) %>% as_tibble())$endpoint\n",
    "temp = logh_T_agg %>% filter(endpoint %in% endpoint_selection) %>% mutate(endpoint = factor(endpoint, levels=endpoint_order)) %>% ungroup() %>% arrange(endpoint) #%>% sample_n(10000)\n",
    "\n",
    "fig2a = ggplot(temp, aes(x=logh_perc, y=ratio*100, color=logh_perc)) + \n",
    "    labs(title=NULL, x=\"Risk Percentile (%)\", y=\"Incident Events (%)\") +\n",
    "    geom_point(alpha=0.7, size=0.3) + \n",
    "    scale_colour_gradient(low = \"#7AC6FF\", high = \"#023768\", space = \"Lab\", na.value = \"grey50\", guide = \"colourbar\", aesthetics = \"colour\")+\n",
    "    scale_y_continuous(limits=c(0, NA), expand=expansion(mult=c(0, .05)))+#, limits=c(0, NA))+\n",
    "    scale_x_continuous(expand=expansion(add=c(0, 1)))+\n",
    "    facet_wrap(~endpoint, scale=\"free\", labeller = labeller(endpoint = as_labeller(endpoint_map, default=label_wrap_gen(22))), ncol=6) + theme(legend.position=\"none\")\n",
    "fig2a"
   ]
  },
  {
   "cell_type": "code",
   "execution_count": null,
   "metadata": {
    "tags": []
   },
   "outputs": [],
   "source": [
    "plot_width = 8.25; plot_height=3.5; plot_res = 320\n",
    "options(repr.plot.width = plot_width, repr.plot.height = plot_height, repr.plot.res=plot_res)\n",
    "#temp_rank = event_rest %>% filter(features==\"Metabolomics\") %>% arrange(desc(MET10PercvsREST))\n",
    "#endpoint_order = (endpoint_defs %>% mutate(phecode_rank = as.numeric(phecode)) %>% arrange(phecode_rank) %>% as_tibble())$endpoint\n",
    "temp = logh_T_agg %>% filter(endpoint %in% endpoint_selection) %>% mutate(endpoint = factor(endpoint, levels=endpoint_order)) %>% ungroup() %>% arrange(endpoint) #%>% sample_n(10000)\n",
    "\n",
    "fig2a_common = ggplot(temp %>% filter(endpoint %in% endpoints_common), aes(x=logh_perc, y=ratio*100, color=logh_perc)) + \n",
    "    labs(title=NULL, x=\"Risk Percentile (%)\", y=\"Incident Events (%)\") +\n",
    "    geom_point(alpha=0.7, size=0.3) + \n",
    "    scale_colour_gradient(low = \"#7AC6FF\", high = \"#023768\", space = \"Lab\", na.value = \"grey50\", guide = \"colourbar\", aesthetics = \"colour\")+\n",
    "    scale_y_continuous(limits=c(0, NA), expand=expansion(mult=c(0, .05)))+#, limits=c(0, NA))+\n",
    "    scale_x_continuous(expand=expansion(add=c(0, 1)))+\n",
    "    facet_wrap(~endpoint, scale=\"free\", labeller = labeller(endpoint = as_labeller(endpoint_map, default=label_wrap_gen(22))), ncol=6) + theme(legend.position=\"none\")\n",
    "fig2a_common"
   ]
  },
  {
   "cell_type": "code",
   "execution_count": null,
   "metadata": {
    "tags": []
   },
   "outputs": [],
   "source": [
    "plot_width = 8.25; plot_height=1.75; plot_res = 320\n",
    "options(repr.plot.width = plot_width, repr.plot.height = plot_height, repr.plot.res=plot_res)\n",
    "#temp_rank = event_rest %>% filter(features==\"Metabolomics\") %>% arrange(desc(MET10PercvsREST))\n",
    "#endpoint_order = (endpoint_defs %>% mutate(phecode_rank = as.numeric(phecode)) %>% arrange(phecode_rank) %>% as_tibble())$endpoint\n",
    "temp = logh_T_agg %>% filter(endpoint %in% endpoint_selection) %>% mutate(endpoint = factor(endpoint, levels=endpoint_order)) %>% ungroup() %>% arrange(endpoint) #%>% sample_n(10000)\n",
    "\n",
    "fig2a_cardio = ggplot(temp %>% filter(endpoint %in% endpoints_cardio), aes(x=logh_perc, y=ratio*100, color=logh_perc)) + \n",
    "    labs(title=NULL, x=\"Risk Percentile (%)\", y=\"Incident Events (%)\") +\n",
    "    geom_point(alpha=0.7, size=0.3) + \n",
    "    scale_colour_gradient(low = \"#7AC6FF\", high = \"#023768\", space = \"Lab\", na.value = \"grey50\", guide = \"colourbar\", aesthetics = \"colour\")+\n",
    "    scale_y_continuous(limits=c(0, NA), expand=expansion(mult=c(0, .05)))+#, limits=c(0, NA))+\n",
    "    scale_x_continuous(expand=expansion(add=c(0, 1)))+\n",
    "    facet_wrap(~endpoint, scale=\"free\", labeller = labeller(endpoint = as_labeller(endpoint_map, default=label_wrap_gen(22))), ncol=6) + theme(legend.position=\"none\")\n",
    "fig2a_cardio"
   ]
  },
  {
   "cell_type": "code",
   "execution_count": null,
   "metadata": {
    "tags": []
   },
   "outputs": [],
   "source": [
    "plot_width = 8.25; plot_height=1.75; plot_res = 320\n",
    "options(repr.plot.width = plot_width, repr.plot.height = plot_height, repr.plot.res=plot_res)\n",
    "#temp_rank = event_rest %>% filter(features==\"Metabolomics\") %>% arrange(desc(MET10PercvsREST))\n",
    "#endpoint_order = (endpoint_defs %>% mutate(phecode_rank = as.numeric(phecode)) %>% arrange(phecode_rank) %>% as_tibble())$endpoint\n",
    "temp = logh_T_agg %>% filter(endpoint %in% endpoint_selection) %>% mutate(endpoint = factor(endpoint, levels=endpoint_order)) %>% ungroup() %>% arrange(endpoint) #%>% sample_n(10000)\n",
    "\n",
    "fig2a_interesting = ggplot(temp %>% filter(endpoint %in% endpoints_interesting), aes(x=logh_perc, y=ratio*100, color=logh_perc)) + \n",
    "    labs(title=NULL, x=\"Risk Percentile (%)\", y=\"Incident Events (%)\") +\n",
    "    geom_point(alpha=0.7, size=0.3) + \n",
    "    scale_colour_gradient(low = \"#7AC6FF\", high = \"#023768\", space = \"Lab\", na.value = \"grey50\", guide = \"colourbar\", aesthetics = \"colour\")+\n",
    "    scale_y_continuous(limits=c(0, NA), expand=expansion(mult=c(0, .05)))+#, limits=c(0, NA))+\n",
    "    scale_x_continuous(expand=expansion(add=c(0, 1)))+\n",
    "    facet_wrap(~endpoint, scale=\"free\", labeller = labeller(endpoint = as_labeller(endpoint_map, default=label_wrap_gen(22))), ncol=6) + theme(legend.position=\"none\")\n",
    "fig2a_interesting"
   ]
  },
  {
   "cell_type": "markdown",
   "metadata": {},
   "source": [
    "# Kaplan Mayer"
   ]
  },
  {
   "cell_type": "code",
   "execution_count": null,
   "metadata": {
    "tags": []
   },
   "outputs": [],
   "source": [
    "logh_mh = logh_inc %>% select(endpoint, eid, logh_perc, event, time) %>% group_by(endpoint) %>% \n",
    "    mutate(MH=case_when(logh_perc %in% 100 ~ \"High\", \n",
    "                        logh_perc %in% 51 ~ \"Mid\", \n",
    "                        logh_perc %in% 1 ~ \"Low\",\n",
    "                        TRUE ~ \"NA\")\n",
    "          ) %>% mutate(MH=fct_rev(factor(MH, levels=c(\"Low\", \"Mid\", \"High\")))) %>% ungroup() %>% \n",
    "    filter(MH!=\"NA\") #%>% select(eid, endpoint, logh, logh_group)"
   ]
  },
  {
   "cell_type": "raw",
   "metadata": {},
   "source": [
    "logh_mh = logh_inc %>% select(endpoint, eid, logh_perc, event, time) %>% group_by(endpoint) %>% \n",
    "    mutate(MH=case_when(logh_perc %in% 91:100 ~ \"High\", \n",
    "                        logh_perc %in% 45:55 ~ \"Mid\", \n",
    "                        logh_perc %in% 1:10 ~ \"Low\",\n",
    "                        TRUE ~ \"NA\")\n",
    "          ) %>% mutate(MET = fct_rev(factor(MH, levels=c(\"Low\", \"Mid\", \"High\")))) %>% ungroup() %>% \n",
    "    filter(MH!=\"NA\") #%>% select(eid, endpoint, logh, logh_group)"
   ]
  },
  {
   "cell_type": "code",
   "execution_count": null,
   "metadata": {
    "tags": []
   },
   "outputs": [],
   "source": [
    "require(\"ggquickeda\")\n",
    "plot_width = 8.25; plot_height=6; plot_res = 320\n",
    "options(repr.plot.width = plot_width, repr.plot.height = plot_height, repr.plot.res=plot_res)\n",
    "met_map = c(\"High\"=\"#023768\", \"Mid\"=\"#4F8EC1\", \"Low\"=\"#7AC6FF\")\n",
    "\n",
    "temp = logh_mh %>% mutate(endpoint = factor(endpoint, levels=endpoint_order)) %>% filter(endpoint %in% endpoint_selection) %>% ungroup() \n",
    "\n",
    "fig2b = ggplot(temp, aes(time = time, status = event, fill=MH, color=MH, group=MH)) +\n",
    "    geom_km(trans = \"event\") + \n",
    "    geom_kmticks(trans = \"event\", size=0.2, alpha=0.01) + \n",
    "    geom_kmband(trans = \"event\") + \n",
    "    labs(x=\"Time (Years)\", y=\"Cumulative Events (%)\")+\n",
    "    scale_color_manual(values=met_map)+scale_fill_manual(values=met_map)+\n",
    "    scale_y_continuous(labels = function(x) round(x*100, 1), expand=c(0, 0))+\n",
    "    scale_x_continuous(expand=expansion(add=c(0, .1)), breaks=c(5, 10))+\n",
    "    facet_wrap(~endpoint, scale=\"free\", labeller = labeller(endpoint = as_labeller(endpoint_map, default=label_wrap_gen(22))), ncol=6) + theme(legend.position=\"none\")\n",
    "fig2b"
   ]
  },
  {
   "cell_type": "code",
   "execution_count": null,
   "metadata": {
    "tags": []
   },
   "outputs": [],
   "source": [
    "require(\"ggquickeda\")\n",
    "plot_width = 8.25; plot_height=3.5; plot_res = 320\n",
    "options(repr.plot.width = plot_width, repr.plot.height = plot_height, repr.plot.res=plot_res)\n",
    "met_map = c(\"High\"=\"#023768\", \"Mid\"=\"#4F8EC1\", \"Low\"=\"#7AC6FF\")\n",
    "\n",
    "temp = logh_mh %>% mutate(endpoint = factor(endpoint, levels=endpoint_order)) %>% filter(endpoint %in% endpoint_selection) %>% ungroup() \n",
    "\n",
    "fig2b_common = ggplot(temp %>% filter(endpoint %in% endpoints_common), aes(time = time, status = event, fill=MH, color=MH, group=MH)) +\n",
    "    geom_km(trans = \"event\") + \n",
    "    geom_kmticks(trans = \"event\", size=0.2, alpha=0.01) + \n",
    "    geom_kmband(trans = \"event\") + \n",
    "    labs(x=\"Time (Years)\", y=\"Cumulative Events (%)\")+\n",
    "    scale_color_manual(values=met_map)+scale_fill_manual(values=met_map)+\n",
    "    scale_y_continuous(labels = function(x) round(x*100, 1), expand=c(0, 0))+\n",
    "    scale_x_continuous(expand=expansion(add=c(0, .1)), breaks=c(5, 10))+\n",
    "    facet_wrap(~endpoint, scale=\"free\", labeller = labeller(endpoint = as_labeller(endpoint_map, default=label_wrap_gen(22))), ncol=6) + theme(legend.position=\"none\")\n",
    "fig2b_common"
   ]
  },
  {
   "cell_type": "code",
   "execution_count": null,
   "metadata": {
    "tags": []
   },
   "outputs": [],
   "source": [
    "require(\"ggquickeda\")\n",
    "plot_width = 8.25; plot_height=1.75; plot_res = 320\n",
    "options(repr.plot.width = plot_width, repr.plot.height = plot_height, repr.plot.res=plot_res)\n",
    "met_map = c(\"High\"=\"#023768\", \"Mid\"=\"#4F8EC1\", \"Low\"=\"#7AC6FF\")\n",
    "\n",
    "temp = logh_mh %>% mutate(endpoint = factor(endpoint, levels=endpoint_order)) %>% filter(endpoint %in% endpoint_selection) %>% ungroup() \n",
    "\n",
    "fig2b_cardio = ggplot(temp %>% filter(endpoint %in% endpoints_cardio), aes(time = time, status = event, fill=MH, color=MH, group=MH)) +\n",
    "    geom_km(trans = \"event\") + \n",
    "    geom_kmticks(trans = \"event\", size=0.2, alpha=0.01) + \n",
    "    geom_kmband(trans = \"event\") + \n",
    "    labs(x=\"Time (Years)\", y=\"Cumulative Events (%)\")+\n",
    "    scale_color_manual(values=met_map)+scale_fill_manual(values=met_map)+\n",
    "    scale_y_continuous(labels = function(x) round(x*100, 1), expand=c(0, 0))+\n",
    "    scale_x_continuous(expand=expansion(add=c(0, .1)), breaks=c(5, 10))+\n",
    "    facet_wrap(~endpoint, scale=\"free\", labeller = labeller(endpoint = as_labeller(endpoint_map, default=label_wrap_gen(22))), ncol=6) + theme(legend.position=\"none\")\n",
    "fig2b_cardio"
   ]
  },
  {
   "cell_type": "code",
   "execution_count": null,
   "metadata": {
    "tags": []
   },
   "outputs": [],
   "source": [
    "require(\"ggquickeda\")\n",
    "plot_width = 8.25; plot_height=1.75; plot_res = 320\n",
    "options(repr.plot.width = plot_width, repr.plot.height = plot_height, repr.plot.res=plot_res)\n",
    "met_map = c(\"High\"=\"#023768\", \"Mid\"=\"#4F8EC1\", \"Low\"=\"#7AC6FF\")\n",
    "\n",
    "temp = logh_mh %>% mutate(endpoint = factor(endpoint, levels=endpoint_order)) %>% filter(endpoint %in% endpoint_selection) %>% ungroup() \n",
    "\n",
    "fig2b_interesting = ggplot(temp %>% filter(endpoint %in% endpoints_interesting), aes(time = time, status = event, fill=MH, color=MH, group=MH)) +\n",
    "    geom_km(trans = \"event\") + \n",
    "    geom_kmticks(trans = \"event\", size=0.2, alpha=0.01) + \n",
    "    geom_kmband(trans = \"event\") + \n",
    "    labs(x=\"Time (Years)\", y=\"Cumulative Events (%)\")+\n",
    "    scale_color_manual(values=met_map)+scale_fill_manual(values=met_map)+\n",
    "    scale_y_continuous(labels = function(x) round(x*100, 1), expand=c(0, 0))+\n",
    "    scale_x_continuous(expand=expansion(add=c(0, .1)), breaks=c(5, 10))+\n",
    "    facet_wrap(~endpoint, scale=\"free\", labeller = labeller(endpoint = as_labeller(endpoint_map, default=label_wrap_gen(22))), ncol=6) + theme(legend.position=\"none\")\n",
    "fig2b_interesting"
   ]
  },
  {
   "cell_type": "code",
   "execution_count": null,
   "metadata": {
    "tags": []
   },
   "outputs": [],
   "source": [
    "plot_width = 8.25; plot_height=12; plot_res = 320\n",
    "options(repr.plot.width = plot_width, repr.plot.height = plot_height, repr.plot.res=plot_res)\n",
    "\n",
    "fig2 = (fig2a / fig2b)\n",
    "fig2"
   ]
  },
  {
   "cell_type": "code",
   "execution_count": null,
   "metadata": {
    "tags": []
   },
   "outputs": [],
   "source": [
    "plot_width = 8.25; plot_height=6; plot_res = 320\n",
    "options(repr.plot.width = plot_width, repr.plot.height = plot_height, repr.plot.res=plot_res)\n",
    "\n",
    "fig2_common = (fig2a_common / fig2b_common)\n",
    "fig2_common"
   ]
  },
  {
   "cell_type": "code",
   "execution_count": null,
   "metadata": {
    "tags": []
   },
   "outputs": [],
   "source": [
    "plot_width = 8.25; plot_height=3.5; plot_res = 320\n",
    "options(repr.plot.width = plot_width, repr.plot.height = plot_height, repr.plot.res=plot_res)\n",
    "\n",
    "fig2_cardio = (fig2a_cardio / fig2b_cardio)\n",
    "fig2_cardio"
   ]
  },
  {
   "cell_type": "code",
   "execution_count": null,
   "metadata": {},
   "outputs": [],
   "source": [
    "plot_name = \"Figure_2_EventRates\"\n",
    "fig2 %>% ggsave(filename=glue(\"outputs/{plot_name}.pdf\"), device=\"pdf\", width=plot_width, height=plot_height, dpi=plot_res, limitsize=FALSE)"
   ]
  },
  {
   "cell_type": "code",
   "execution_count": null,
   "metadata": {},
   "outputs": [],
   "source": []
  },
  {
   "cell_type": "code",
   "execution_count": null,
   "metadata": {},
   "outputs": [],
   "source": []
  },
  {
   "cell_type": "code",
   "execution_count": null,
   "metadata": {},
   "outputs": [],
   "source": []
  },
  {
   "cell_type": "code",
   "execution_count": null,
   "metadata": {},
   "outputs": [],
   "source": [
    "plot_width = 50; plot_height=75; plot_res = 320\n",
    "options(repr.plot.width = plot_width, repr.plot.height = plot_height, repr.plot.res=plot_res)\n",
    "#temp_rank = event_rest %>% filter(features==\"Metabolomics\") %>% arrange(desc(MET10PercvsREST))\n",
    "endpoint_order = (phecode_defs %>% mutate(phecode_rank = as.numeric(phecode)) %>% arrange(phecode_rank) %>% as_tibble())$endpoint\n",
    "endpoint_selection = endpoint_order# %>% head(500)\n",
    "temp = logh_T_agg %>% filter(model==\"GNN(Records)+MLP\") %>% mutate(endpoint = factor(endpoint, levels=endpoint_order)) %>% filter(endpoint %in% endpoint_selection) %>% ungroup() #%>% sample_n(10000)\n",
    "\n",
    "mh_events = ggplot(temp, aes(x=logh_perc, y=ratio*100, color=logh_perc)) + \n",
    "    labs(title=NULL, x=\"Retina Percentile [%]\", y=\"Observed Event Rate [%]\") +\n",
    "    geom_point(alpha=0.7, size=0.1) + \n",
    "    scale_colour_gradient(\n",
    "  low = \"#7AC6FF\",\n",
    "  high = \"#023768\",\n",
    "  space = \"Lab\",\n",
    "  na.value = \"grey50\",\n",
    "  guide = \"colourbar\",\n",
    "  aesthetics = \"colour\"\n",
    ")+\n",
    "    #scale_color_manual(values=c(\"Metabolomics\"=\"black\"))+\n",
    "    scale_y_continuous(limits=c(0, NA), expand=expansion(mult=c(0, .05)))+#, limits=c(0, NA))+\n",
    "    scale_x_continuous(expand=expansion(add=c(0, 1)))+\n",
    "    facet_wrap(~endpoint, scale=\"free\", labeller = labeller(endpoint = endpoint_map), ncol=25) + theme(legend.position=\"none\")"
   ]
  },
  {
   "cell_type": "code",
   "execution_count": null,
   "metadata": {},
   "outputs": [],
   "source": []
  },
  {
   "cell_type": "code",
   "execution_count": null,
   "metadata": {},
   "outputs": [],
   "source": [
    "plot_name = \"RetinaRisk\"\n",
    "mh_events %>% ggsave(filename=glue(\"outputs/{plot_name}.png\"), device=\"png\", width=plot_width, height=plot_height, dpi=plot_res, limitsize=FALSE)"
   ]
  },
  {
   "cell_type": "markdown",
   "metadata": {},
   "source": [
    "## Add buffer"
   ]
  },
  {
   "cell_type": "code",
   "execution_count": null,
   "metadata": {},
   "outputs": [],
   "source": [
    "pred_outcomes %>% head()"
   ]
  },
  {
   "cell_type": "code",
   "execution_count": null,
   "metadata": {},
   "outputs": [],
   "source": [
    "logh_T_agg_buffer = pred_outcomes %>% filter(prevalent==0) %>% mutate(event_buffer = case_when((event!=0&time<1) ~ 0, TRUE ~ event)) %>% group_by(endpoint, model) %>% mutate(logh_perc = ntile(logh, 100)) %>% group_by(endpoint, model, logh_perc) %>% summarise(ratio = mean(event_buffer)) %>% as_tibble()"
   ]
  },
  {
   "cell_type": "code",
   "execution_count": null,
   "metadata": {},
   "outputs": [],
   "source": [
    "logh_T_agg_buffer %>% write_feather(glue(\"{output_path}/logh_agg_1ybuffer_220224.feather\"))"
   ]
  },
  {
   "cell_type": "code",
   "execution_count": null,
   "metadata": {},
   "outputs": [],
   "source": [
    "plot_width = 50; plot_height=75; plot_res = 320\n",
    "options(repr.plot.width = plot_width, repr.plot.height = plot_height, repr.plot.res=plot_res)\n",
    "#temp_rank = event_rest %>% filter(features==\"Metabolomics\") %>% arrange(desc(MET10PercvsREST))\n",
    "endpoint_order = (phecode_defs %>% mutate(phecode_rank = as.numeric(phecode)) %>% arrange(phecode_rank) %>% as_tibble())$endpoint\n",
    "endpoint_selection = endpoint_order# %>% head(500)\n",
    "temp = logh_T_agg_buffer %>% filter(model==\"GNN(Records)+MLP\") %>% mutate(endpoint = factor(endpoint, levels=endpoint_order)) %>% filter(endpoint %in% endpoint_selection) %>% ungroup() #%>% sample_n(10000)\n",
    "\n",
    "mh_events = ggplot(temp, aes(x=logh_perc, y=ratio*100, color=logh_perc)) + \n",
    "    labs(title=NULL, x=\"Medical History Percentile [%]\", y=\"Observed Event Rate [%]\") +\n",
    "    geom_point(alpha=0.7, size=0.1) + \n",
    "    scale_colour_gradient(\n",
    "  low = \"#7AC6FF\",\n",
    "  high = \"#023768\",\n",
    "  space = \"Lab\",\n",
    "  na.value = \"grey50\",\n",
    "  guide = \"colourbar\",\n",
    "  aesthetics = \"colour\"\n",
    ")+\n",
    "    #scale_color_manual(values=c(\"Metabolomics\"=\"black\"))+\n",
    "    scale_y_continuous(limits=c(0, NA), expand=expansion(mult=c(0, .05)))+#, limits=c(0, NA))+\n",
    "    scale_x_continuous(expand=expansion(add=c(0, 1)))+\n",
    "    facet_wrap(~endpoint, scale=\"free\", labeller = labeller(endpoint = endpoint_map), ncol=25) + theme(legend.position=\"none\")"
   ]
  },
  {
   "cell_type": "code",
   "execution_count": null,
   "metadata": {},
   "outputs": [],
   "source": [
    "plot_name = \"RetinaRisk_1ybuffer\"\n",
    "mh_events %>% ggsave(filename=glue(\"outputs/{plot_name}.png\"), device=\"png\", width=plot_width, height=plot_height, dpi=plot_res, limitsize=FALSE)"
   ]
  },
  {
   "cell_type": "markdown",
   "metadata": {
    "tags": []
   },
   "source": [
    "## Metabolomic State and Event Trajectories"
   ]
  },
  {
   "cell_type": "code",
   "execution_count": null,
   "metadata": {},
   "outputs": [],
   "source": []
  },
  {
   "cell_type": "code",
   "execution_count": null,
   "metadata": {},
   "outputs": [],
   "source": [
    "logh_mh = logh_inc %>% select(endpoint, model, eid, logh_perc, event, time) %>% group_by(endpoint) %>% \n",
    "    mutate(MH=case_when(logh_perc %in% 91:100 ~ \"High\", \n",
    "                        logh_perc %in% 45:55 ~ \"Mid\", \n",
    "                        logh_perc %in% 1:10 ~ \"Low\",\n",
    "                        TRUE ~ \"NA\")\n",
    "          ) %>% mutate(MET = fct_rev(factor(MET, levels=c(\"Low\", \"Mid\", \"High\")))) %>% ungroup() %>% \n",
    "    filter(MH!=\"NA\") #%>% select(eid, endpoint, logh, logh_group)"
   ]
  },
  {
   "cell_type": "code",
   "execution_count": null,
   "metadata": {},
   "outputs": [],
   "source": [
    "require(\"ggquickeda\")\n",
    "plot_width = 50; plot_height=75; plot_res = 320\n",
    "options(repr.plot.width = plot_width, repr.plot.height = plot_height, repr.plot.res=plot_res)\n",
    "met_map = c(\"High\"=\"#023768\", \"Mid\"=\"#4F8EC1\", \"Low\"=\"#7AC6FF\")\n",
    "\n",
    "endpoint_order = (phecode_defs %>% mutate(phecode_rank = as.numeric(phecode)) %>% arrange(phecode_rank) %>% as_tibble())$endpoint\n",
    "endpoint_selection = endpoint_order# %>% head(500)\n",
    "temp = logh_mh %>% mutate(endpoint = factor(endpoint, levels=endpoint_order)) %>% filter(endpoint %in% endpoint_selection) %>% ungroup() \n",
    "\n",
    "km_plot = ggplot(temp, aes(time = time, status = event, fill=MET, color=MET,group=MET)) +\n",
    "    geom_km(trans = \"event\") + \n",
    "    geom_kmticks(trans = \"event\", size=0.3) + geom_kmband(trans = \"event\") + \n",
    "    labs(x=\"Time [Years]\", y=\"Cumulative Events [%]\")+\n",
    "    scale_color_manual(values=met_map)+scale_fill_manual(values=met_map)+\n",
    "    scale_y_continuous(labels = function(x) round(x*100, 1), expand=c(0, 0))+\n",
    "    scale_x_continuous(expand=expansion(add=c(0, .1)), breaks=c(5, 10))+\n",
    "    facet_wrap(~ endpoint, scale=\"free\", labeller = labeller(endpoint = endpoint_map), ncol=25) + theme(legend.position=\"none\")"
   ]
  },
  {
   "cell_type": "code",
   "execution_count": null,
   "metadata": {},
   "outputs": [],
   "source": [
    "plot_name = \"Retina_KMs\"\n",
    "km_plot %>% ggsave(filename=glue(\"outputs/{plot_name}.png\"), device=\"png\", width=plot_width, height=plot_height, dpi=plot_res, limitsize=FALSE)"
   ]
  },
  {
   "cell_type": "markdown",
   "metadata": {},
   "source": [
    "# Top 1%"
   ]
  },
  {
   "cell_type": "code",
   "execution_count": null,
   "metadata": {},
   "outputs": [],
   "source": [
    "logh_mh = logh_inc %>% select(endpoint, model, eid, logh_perc, event, time) %>% group_by(endpoint) %>% \n",
    "    mutate(MH=case_when(logh_perc == 100 ~ \"High\", \n",
    "                        logh_perc %in% 50:51 ~ \"Mid\", \n",
    "                        logh_perc == 1 ~ \"Low\",\n",
    "                        TRUE ~ \"NA\")\n",
    "          ) %>% mutate(MET = fct_rev(factor(MH, levels=c(\"Low\", \"Mid\", \"High\")))) %>% ungroup() %>% \n",
    "    filter(MH!=\"NA\") #%>% select(eid, endpoint, logh, logh_group)"
   ]
  },
  {
   "cell_type": "code",
   "execution_count": null,
   "metadata": {},
   "outputs": [],
   "source": [
    "require(\"ggquickeda\")\n",
    "plot_width = 50; plot_height=75; plot_res = 320\n",
    "options(repr.plot.width = plot_width, repr.plot.height = plot_height, repr.plot.res=plot_res)\n",
    "mh_map = c(\"High\"=\"#023768\", \"Mid\"=\"#4F8EC1\", \"Low\"=\"#7AC6FF\")\n",
    "\n",
    "endpoint_order = (phecode_defs %>% mutate(phecode_rank = as.numeric(phecode)) %>% arrange(phecode_rank) %>% as_tibble())$endpoint\n",
    "endpoint_selection = endpoint_order# %>% head(500)\n",
    "temp = logh_mh %>% mutate(endpoint = factor(endpoint, levels=endpoint_order)) %>% filter(endpoint %in% endpoint_selection) %>% ungroup() \n",
    "\n",
    "km_plot = ggplot(temp, aes(time = time, status = event, fill=MH, color=MH,group=MH)) +\n",
    "    geom_km(trans = \"event\") + \n",
    "    geom_kmticks(trans = \"event\", size=0.3) + geom_kmband(trans = \"event\") + \n",
    "    labs(x=\"Time [Years]\", y=\"Cumulative Events [%]\")+\n",
    "    scale_color_manual(values=met_map)+scale_fill_manual(values=mh_map)+\n",
    "    scale_y_continuous(labels = function(x) round(x*100, 1), expand=c(0, 0))+\n",
    "    scale_x_continuous(expand=expansion(add=c(0, .1)), breaks=c(5, 10))+\n",
    "    facet_wrap(~ endpoint, scale=\"free\", labeller = labeller(endpoint = endpoint_map), ncol=25) + theme(legend.position=\"none\")"
   ]
  },
  {
   "cell_type": "code",
   "execution_count": null,
   "metadata": {},
   "outputs": [],
   "source": [
    "plot_name = \"Retina_KMs_Top1\"\n",
    "km_plot %>% ggsave(filename=glue(\"outputs/{plot_name}.png\"), device=\"png\", width=plot_width, height=plot_height, dpi=plot_res, limitsize=FALSE)"
   ]
  },
  {
   "cell_type": "markdown",
   "metadata": {},
   "source": [
    "# Figure 2"
   ]
  },
  {
   "cell_type": "code",
   "execution_count": null,
   "metadata": {},
   "outputs": [],
   "source": [
    "plot_width=8.25; plot_height=10; plot_dpi=320\n",
    "options(repr.plot.width = plot_width, repr.plot.height = plot_height, repr.plot.res=plot_dpi)\n",
    "fig2 = met_events / km_plot# +plot_annotation(tag_levels = 'A')"
   ]
  },
  {
   "cell_type": "code",
   "execution_count": null,
   "metadata": {},
   "outputs": [],
   "source": [
    "fig2"
   ]
  },
  {
   "cell_type": "code",
   "execution_count": null,
   "metadata": {},
   "outputs": [],
   "source": [
    "library(gt)\n",
    "plot_name = \"Figures_2_AB\"\n",
    "fig2 %>% ggsave(filename=glue(\"outputs/{plot_name}.pdf\"), device=\"pdf\", width=plot_width, height=plot_height, dpi=320)"
   ]
  },
  {
   "cell_type": "code",
   "execution_count": null,
   "metadata": {},
   "outputs": [],
   "source": []
  }
 ],
 "metadata": {
  "hide_input": false,
  "kernelspec": {
   "display_name": "R",
   "language": "R",
   "name": "ir"
  },
  "language_info": {
   "codemirror_mode": "r",
   "file_extension": ".r",
   "mimetype": "text/x-r-source",
   "name": "R",
   "pygments_lexer": "r",
   "version": "4.0.2"
  },
  "toc-autonumbering": false
 },
 "nbformat": 4,
 "nbformat_minor": 4
}
