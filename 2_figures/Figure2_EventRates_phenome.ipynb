{
 "cells": [
  {
   "cell_type": "markdown",
   "metadata": {},
   "source": [
    "# Benchmarks"
   ]
  },
  {
   "cell_type": "markdown",
   "metadata": {},
   "source": [
    "## Initialize"
   ]
  },
  {
   "cell_type": "code",
   "execution_count": 1,
   "metadata": {
    "ExecuteTime": {
     "end_time": "2021-01-05T11:03:09.852316Z",
     "start_time": "2021-01-05T11:03:07.701Z"
    },
    "execution": {
     "iopub.execute_input": "2022-11-05T14:21:11.480196Z",
     "iopub.status.busy": "2022-11-05T14:21:11.478083Z",
     "iopub.status.idle": "2022-11-05T14:21:15.387418Z",
     "shell.execute_reply": "2022-11-05T14:21:15.386066Z"
    },
    "tags": []
   },
   "outputs": [
    {
     "name": "stderr",
     "output_type": "stream",
     "text": [
      "Warning message:\n",
      "“package ‘dtplyr’ was built under R version 4.0.3”\n",
      "Warning message:\n",
      "“package ‘tidyverse’ was built under R version 4.0.3”\n",
      "── \u001b[1mAttaching packages\u001b[22m ─────────────────────────────────────── tidyverse 1.3.1 ──\n",
      "\n",
      "\u001b[32m✔\u001b[39m \u001b[34mggplot2\u001b[39m 3.3.5     \u001b[32m✔\u001b[39m \u001b[34mpurrr  \u001b[39m 0.3.4\n",
      "\u001b[32m✔\u001b[39m \u001b[34mtibble \u001b[39m 3.1.7     \u001b[32m✔\u001b[39m \u001b[34mdplyr  \u001b[39m 1.0.9\n",
      "\u001b[32m✔\u001b[39m \u001b[34mtidyr  \u001b[39m 1.2.0     \u001b[32m✔\u001b[39m \u001b[34mstringr\u001b[39m 1.4.0\n",
      "\u001b[32m✔\u001b[39m \u001b[34mreadr  \u001b[39m 1.4.0     \u001b[32m✔\u001b[39m \u001b[34mforcats\u001b[39m 0.5.1\n",
      "\n",
      "Warning message:\n",
      "“package ‘ggplot2’ was built under R version 4.0.5”\n",
      "Warning message:\n",
      "“package ‘tibble’ was built under R version 4.0.5”\n",
      "Warning message:\n",
      "“package ‘tidyr’ was built under R version 4.0.5”\n",
      "Warning message:\n",
      "“package ‘readr’ was built under R version 4.0.5”\n",
      "Warning message:\n",
      "“package ‘purrr’ was built under R version 4.0.3”\n",
      "Warning message:\n",
      "“package ‘dplyr’ was built under R version 4.0.5”\n",
      "Warning message:\n",
      "“package ‘stringr’ was built under R version 4.0.5”\n",
      "Warning message:\n",
      "“package ‘forcats’ was built under R version 4.0.3”\n",
      "── \u001b[1mConflicts\u001b[22m ────────────────────────────────────────── tidyverse_conflicts() ──\n",
      "\u001b[31m✖\u001b[39m \u001b[34mdplyr\u001b[39m::\u001b[32mfilter()\u001b[39m masks \u001b[34mstats\u001b[39m::filter()\n",
      "\u001b[31m✖\u001b[39m \u001b[34mdplyr\u001b[39m::\u001b[32mlag()\u001b[39m    masks \u001b[34mstats\u001b[39m::lag()\n",
      "\n",
      "Warning message:\n",
      "“package ‘glue’ was built under R version 4.0.5”\n",
      "Warning message:\n",
      "“package ‘arrow’ was built under R version 4.0.5”\n",
      "\n",
      "Attaching package: ‘arrow’\n",
      "\n",
      "\n",
      "The following object is masked from ‘package:utils’:\n",
      "\n",
      "    timestamp\n",
      "\n",
      "\n",
      "Warning message:\n",
      "“package ‘patchwork’ was built under R version 4.0.3”\n",
      "Warning message:\n",
      "“package ‘data.table’ was built under R version 4.0.5”\n",
      "\n",
      "Attaching package: ‘data.table’\n",
      "\n",
      "\n",
      "The following objects are masked from ‘package:dplyr’:\n",
      "\n",
      "    between, first, last\n",
      "\n",
      "\n",
      "The following object is masked from ‘package:purrr’:\n",
      "\n",
      "    transpose\n",
      "\n",
      "\n",
      "Warning message:\n",
      "“package ‘jsonlite’ was built under R version 4.0.3”\n",
      "\n",
      "Attaching package: ‘jsonlite’\n",
      "\n",
      "\n",
      "The following object is masked from ‘package:purrr’:\n",
      "\n",
      "    flatten\n",
      "\n",
      "\n",
      "Warning message:\n",
      "“package ‘ggthemes’ was built under R version 4.0.3”\n"
     ]
    }
   ],
   "source": [
    "#library(Rmisc)\n",
    "library(dtplyr)\n",
    "library(tidyverse)\n",
    "library(glue)\n",
    "library(arrow)\n",
    "library(patchwork)\n",
    "library(data.table)\n",
    "library(\"jsonlite\")\n",
    "library(ggthemes)"
   ]
  },
  {
   "cell_type": "code",
   "execution_count": 2,
   "metadata": {
    "ExecuteTime": {
     "end_time": "2021-01-05T11:03:10.491477Z",
     "start_time": "2021-01-05T11:03:10.445Z"
    },
    "execution": {
     "iopub.execute_input": "2022-11-05T14:21:15.409091Z",
     "iopub.status.busy": "2022-11-05T14:21:15.389086Z",
     "iopub.status.idle": "2022-11-05T14:21:15.426739Z",
     "shell.execute_reply": "2022-11-05T14:21:15.425696Z"
    },
    "tags": []
   },
   "outputs": [
    {
     "name": "stdout",
     "output_type": "stream",
     "text": [
      "[1] \"/sc-projects/sc-proj-ukb-cvd\"\n"
     ]
    }
   ],
   "source": [
    "if (grepl(\"sc\", Sys.info()[[\"nodename\"]], fixed=TRUE)) {\n",
    "    base_path = \"/sc-projects/sc-proj-ukb-cvd\"\n",
    "} else {\n",
    "    base_path = \"/data/analysis/ag-reils/ag-reils-shared/cardioRS\"}\n",
    "print(base_path)\n",
    "\n",
    "project_label = \"22_retina_phewas\"\n",
    "project_path = glue(\"{base_path}/results/projects/{project_label}\")\n",
    "figure_path = glue(\"{project_path}/figures\")\n",
    "output_path = glue(\"{project_path}/data\")\n",
    "\n",
    "experiment = '220812_test'\n",
    "experiment_path = glue(\"{output_path}/{experiment}\")"
   ]
  },
  {
   "cell_type": "code",
   "execution_count": 3,
   "metadata": {
    "execution": {
     "iopub.execute_input": "2022-11-05T14:21:15.429118Z",
     "iopub.status.busy": "2022-11-05T14:21:15.428281Z",
     "iopub.status.idle": "2022-11-05T14:21:15.436815Z",
     "shell.execute_reply": "2022-11-05T14:21:15.435807Z"
    },
    "tags": []
   },
   "outputs": [],
   "source": [
    "library(data.table)\n",
    "library(arrow)"
   ]
  },
  {
   "cell_type": "code",
   "execution_count": 4,
   "metadata": {
    "execution": {
     "iopub.execute_input": "2022-11-05T14:21:15.439111Z",
     "iopub.status.busy": "2022-11-05T14:21:15.438293Z",
     "iopub.status.idle": "2022-11-05T14:21:15.469419Z",
     "shell.execute_reply": "2022-11-05T14:21:15.453352Z"
    },
    "tags": []
   },
   "outputs": [],
   "source": [
    "endpoints_md = fread(glue(\"{experiment_path}/endpoints.csv\"), colClasses=c(\"phecode\"=\"character\"))\n",
    "endpoints = sort(endpoints_md$endpoint)"
   ]
  },
  {
   "cell_type": "code",
   "execution_count": 5,
   "metadata": {
    "execution": {
     "iopub.execute_input": "2022-11-05T14:21:15.472066Z",
     "iopub.status.busy": "2022-11-05T14:21:15.471227Z",
     "iopub.status.idle": "2022-11-05T14:21:16.601321Z",
     "shell.execute_reply": "2022-11-05T14:21:16.599665Z"
    },
    "tags": []
   },
   "outputs": [],
   "source": [
    "endpoint_defs = arrow::read_feather(glue(\"{output_path}/phecode_defs_220306.feather\")) %>% arrange(endpoint)"
   ]
  },
  {
   "cell_type": "code",
   "execution_count": 6,
   "metadata": {
    "execution": {
     "iopub.execute_input": "2022-11-05T14:21:16.604021Z",
     "iopub.status.busy": "2022-11-05T14:21:16.603121Z",
     "iopub.status.idle": "2022-11-05T14:21:16.616023Z",
     "shell.execute_reply": "2022-11-05T14:21:16.614946Z"
    },
    "tags": []
   },
   "outputs": [],
   "source": [
    "endpoint_selection = c(\n",
    "    # generally very important\n",
    "    \"phecode_202\", # Diabetes mellitus\n",
    "    \"phecode_404\", # Ischemic heart disease\n",
    "    \"phecode_404-1\", # Myocardial infarction [Heart attack]\n",
    "    \"phecode_431-11\", # Cerebral infarction [Ischemic stroke]\n",
    "    \"phecode_424\", # Heart failure\n",
    "    \"OMOP_4306655\", # All-Cause Death\n",
    "    # also generally important and relevant\n",
    "    #\"phecode_440-3\", # Pulmonary embolism\n",
    "    #\"phecode_468-1\",\t#Viral pneumonia\n",
    "    \"phecode_401\",\t#Hypertension\"\n",
    "    \"phecode_460-2\",\t#Acute lower respiratory infection\n",
    "    \"phecode_468\", # Pneumonia\n",
    "    \"phecode_474\", # Chronic obstructive pulmonary disease [COPD]\n",
    "    \"phecode_542\", # Chronic liver disease and sequelae\n",
    "    \"phecode_583\", # Chronic kidney disease\n",
    "    \"phecode_328\", # Dementias and cerebral degeneration\n",
    "    \n",
    "    \n",
    "    # generally important and fun to check\n",
    "    \"phecode_164\", # Anemia\n",
    "   # \"phecode_726-1\", # Osteoporosis\n",
    "    \"phecode_286-2\", #\tMajor depressive disorder\n",
    "    \"phecode_103\", # Malignant neoplasm of the skin\n",
    "    \"phecode_101\", # Malignant neoplasm of the digestive organs\n",
    "    #\"phecode_665\", # Psoriasis\n",
    "    \"phecode_121\", # Leukemia\n",
    "    \"phecode_705-1\", # Rheumatoid arthritis\n",
    "    \n",
    "    \n",
    "    # important for eye\n",
    "    \"phecode_371\", # Cataract\n",
    "   # \"phecode_374-3\", # Retinal vascular changes and occlusions\n",
    "    \"phecode_374-42\", # Diabetic retinopathy\n",
    "    \"phecode_374-5\", # Macular degeneration\n",
    "    \"phecode_375-1\" # Glaucoma\n",
    "    #\"phecode_388\" # Blindness and low vision\n",
    ")\n",
    "\n",
    "endpoints_common = c(\n",
    "   'phecode_164', #Anemia\n",
    " 'phecode_705-1', #Rheumatoid arthritis\n",
    " 'phecode_328', #Dementias and cerebral degeneration\n",
    " 'phecode_328-1', #Alzheimer's disease\n",
    " 'phecode_401', #Hypertension\n",
    " 'phecode_202', #Diabetes mellitus\n",
    " 'phecode_416-21', #Atrial fibrillation\n",
    " 'phecode_404-1', #Myocardial infarction [Heart attack]\n",
    " 'phecode_424', #Heart failure\n",
    " 'phecode_468', #Pneumonia\n",
    " 'phecode_474', #Chronic obstructive pulmonary disease [COPD]\n",
    " 'phecode_583', #Chronic kidney disease\n",
    " 'OMOP_4306655' #All-Cause Death\n",
    "    )\n",
    "    \n",
    "endpoints_cardio = c(\n",
    "    'phecode_438-11',   #  \"Abdominal aortic aneurysm\",\n",
    "    'phecode_440-3',#  \"Pulmonary embolism\", # intervention\n",
    "    'phecode_413-21',#  \"Aortic stenosis\", # intervention\n",
    "    'phecode_400'#  \"Rheumatic fever and chronic rheumatic heart diseases\",\t\n",
    ")\n",
    "\n",
    "endpoints_eye= c(\n",
    "    'phecode_374-5', #Macular degeneration\n",
    " 'phecode_374-51', #Age-related macular degeneration\n",
    " 'phecode_374-42', #Diabetic retinopathy\n",
    " 'phecode_371', #Cataract\n",
    " 'phecode_388', #Blindness and low vision\n",
    " 'phecode_367-5', #Uveitis\n",
    " 'phecode_389-1' #Ocular pain\n",
    ")"
   ]
  },
  {
   "cell_type": "code",
   "execution_count": 7,
   "metadata": {
    "execution": {
     "iopub.execute_input": "2022-11-05T14:21:16.618444Z",
     "iopub.status.busy": "2022-11-05T14:21:16.617563Z",
     "iopub.status.idle": "2022-11-05T14:21:16.645653Z",
     "shell.execute_reply": "2022-11-05T14:21:16.644308Z"
    },
    "tags": []
   },
   "outputs": [],
   "source": [
    "endpoint_defs = endpoint_defs %>% \n",
    "    mutate(name = phecode_string) %>%\n",
    "    mutate(name = \n",
    "           case_when( \n",
    "               phecode_string == \"Myocardial infarction [Heart attack]\"~\"Myocardial infarction\",\n",
    "               phecode_string == \"Cerebral infarction [Ischemic stroke]\"~\"Ischemic stroke\",\n",
    "               phecode_string == \"Chronic obstructive pulmonary disease [COPD]\"~\"Chronic obstructive pulmonary disease\",\n",
    "               phecode_string == \"Mitral valve insufficiency\"~\"Mitral insufficiency\",\n",
    "               phecode_string == \"Parkinson's disease (Primary)\"~\"Parkinson's disease\",\n",
    "               phecode_string == \"Suicide ideation and attempt or self harm\"~\"Suicide attempt\",\n",
    "               phecode_string == \"Ischemic heart disease\"~\"Coronary heart disease\",\n",
    "               phecode_string == \"Chronic kidney disease\"~\"Chronic kidney disease\",\n",
    "               phecode_string == \"Rheumatic fever and chronic rheumatic heart diseases\"~\"Rheumatic heart disease\",\n",
    "               phecode_string == \"Abdominal aortic aneurysm\"~\"Abdominal aortic aneurysm\",\n",
    "                  TRUE ~ name)\n",
    "           )\n",
    "            \n",
    "endpoint_map = endpoint_defs$name\n",
    "names(endpoint_map) =  endpoint_defs$endpoint\n",
    "#endpoint_order = (endpoint_defs %>% arrange(as.numeric(phecode)))$endpoint\n",
    "endpoint_order = endpoint_selection"
   ]
  },
  {
   "cell_type": "code",
   "execution_count": 8,
   "metadata": {
    "execution": {
     "iopub.execute_input": "2022-11-05T14:21:16.648105Z",
     "iopub.status.busy": "2022-11-05T14:21:16.647215Z",
     "iopub.status.idle": "2022-11-05T14:21:16.828381Z",
     "shell.execute_reply": "2022-11-05T14:21:16.827300Z"
    },
    "tags": []
   },
   "outputs": [
    {
     "data": {
      "text/html": [
       "<table class=\"dataframe\">\n",
       "<caption>A tibble: 23 × 13</caption>\n",
       "<thead>\n",
       "\t<tr><th scope=col>V1</th><th scope=col>endpoint</th><th scope=col>eligable</th><th scope=col>n</th><th scope=col>freq</th><th scope=col>phecode</th><th scope=col>phecode_string</th><th scope=col>phecode_category</th><th scope=col>sex</th><th scope=col>ICD10_only</th><th scope=col>phecode_top</th><th scope=col>leaf</th><th scope=col>perc</th></tr>\n",
       "\t<tr><th scope=col>&lt;int&gt;</th><th scope=col>&lt;chr&gt;</th><th scope=col>&lt;int&gt;</th><th scope=col>&lt;int&gt;</th><th scope=col>&lt;dbl&gt;</th><th scope=col>&lt;chr&gt;</th><th scope=col>&lt;chr&gt;</th><th scope=col>&lt;chr&gt;</th><th scope=col>&lt;chr&gt;</th><th scope=col>&lt;dbl&gt;</th><th scope=col>&lt;int&gt;</th><th scope=col>&lt;dbl&gt;</th><th scope=col>&lt;dbl&gt;</th></tr>\n",
       "</thead>\n",
       "<tbody>\n",
       "\t<tr><td> 86</td><td>Leukemia                                  </td><td>61142</td><td>  263</td><td>0.004301462</td><td>121    </td><td>Leukemia                                    </td><td>Neoplasms    </td><td>Both</td><td> 0</td><td>121</td><td> 0</td><td> 0.4301462</td></tr>\n",
       "\t<tr><td>998</td><td>Rheumatoid arthritis                      </td><td>60634</td><td>  820</td><td>0.013523766</td><td>705.1  </td><td>Rheumatoid arthritis                        </td><td>Musc/Skel    </td><td>Both</td><td> 0</td><td>705</td><td> 0</td><td> 1.3523766</td></tr>\n",
       "\t<tr><td>297</td><td>Dementias and cerebral degeneration       </td><td>61233</td><td>  968</td><td>0.015808469</td><td>328    </td><td>Dementias and cerebral degeneration         </td><td>Neuro        </td><td>Both</td><td> 0</td><td>328</td><td> 0</td><td> 1.5808469</td></tr>\n",
       "\t<tr><td>568</td><td>Ischemic stroke                           </td><td>60849</td><td> 1157</td><td>0.019014281</td><td>431.11 </td><td>Cerebral infarction [Ischemic stroke]       </td><td>Cardio       </td><td>Both</td><td> 0</td><td>431</td><td> 1</td><td> 1.9014281</td></tr>\n",
       "\t<tr><td> 41</td><td>Malignant neoplasm of the digestive organs</td><td>60713</td><td> 1652</td><td>0.027209988</td><td>101    </td><td>Malignant neoplasm of the digestive organs  </td><td>Neoplasms    </td><td>Both</td><td> 0</td><td>101</td><td> 0</td><td> 2.7209988</td></tr>\n",
       "\t<tr><td>430</td><td>Glaucoma                                  </td><td>60486</td><td> 1664</td><td>0.027510498</td><td>375.1  </td><td>Glaucoma                                    </td><td>Eye          </td><td>Both</td><td> 0</td><td>375</td><td> 0</td><td> 2.7510498</td></tr>\n",
       "\t<tr><td>421</td><td>Diabetic retinopathy                      </td><td>60400</td><td> 1760</td><td>0.029139073</td><td>374.42 </td><td>Diabetic retinopathy                        </td><td>Eye          </td><td>Both</td><td> 0</td><td>374</td><td> 1</td><td> 2.9139073</td></tr>\n",
       "\t<tr><td>505</td><td>Myocardial infarction                     </td><td>60213</td><td> 1800</td><td>0.029893877</td><td>404.1  </td><td>Myocardial infarction [Heart attack]        </td><td>Cardio       </td><td>Both</td><td> 0</td><td>404</td><td> 0</td><td> 2.9893877</td></tr>\n",
       "\t<tr><td>422</td><td>Macular degeneration                      </td><td>60918</td><td> 1816</td><td>0.029810565</td><td>374.5  </td><td>Macular degeneration                        </td><td>Eye          </td><td>Both</td><td> 0</td><td>374</td><td> 0</td><td> 2.9810565</td></tr>\n",
       "\t<tr><td>556</td><td>Heart failure                             </td><td>60846</td><td> 1996</td><td>0.032804128</td><td>424    </td><td>Heart failure                               </td><td>Cardio       </td><td>Both</td><td> 0</td><td>424</td><td> 0</td><td> 3.2804128</td></tr>\n",
       "\t<tr><td>765</td><td>Chronic liver disease and sequelae        </td><td>60689</td><td> 2124</td><td>0.034998105</td><td>542    </td><td>Chronic liver disease and sequelae          </td><td>GI           </td><td>Both</td><td> 0</td><td>542</td><td> 0</td><td> 3.4998105</td></tr>\n",
       "\t<tr><td>639</td><td>Chronic obstructive pulmonary disease     </td><td>60402</td><td> 2406</td><td>0.039833118</td><td>474    </td><td>Chronic obstructive pulmonary disease [COPD]</td><td>Resp         </td><td>Both</td><td> 0</td><td>474</td><td> 0</td><td> 3.9833118</td></tr>\n",
       "\t<tr><td>625</td><td>Pneumonia                                 </td><td>59697</td><td> 3199</td><td>0.053587282</td><td>468    </td><td>Pneumonia                                   </td><td>Resp         </td><td>Both</td><td> 0</td><td>468</td><td> 0</td><td> 5.3587282</td></tr>\n",
       "\t<tr><td>803</td><td>Chronic kidney disease                    </td><td>59363</td><td> 3206</td><td>0.054006705</td><td>583    </td><td>Chronic kidney disease                      </td><td>Genitourinary</td><td>Both</td><td> 0</td><td>583</td><td> 0</td><td> 5.4006705</td></tr>\n",
       "\t<tr><td>  0</td><td>All-Cause Death                           </td><td>61256</td><td> 3490</td><td>0.056974011</td><td>4306655</td><td>All-Cause Death                             </td><td>Death        </td><td>Both</td><td>NA</td><td> NA</td><td>NA</td><td> 5.6974011</td></tr>\n",
       "\t<tr><td> 51</td><td>Malignant neoplasm of the skin            </td><td>59332</td><td> 3620</td><td>0.061012607</td><td>103    </td><td>Malignant neoplasm of the skin              </td><td>Neoplasms    </td><td>Both</td><td> 0</td><td>103</td><td> 0</td><td> 6.1012607</td></tr>\n",
       "\t<tr><td>504</td><td>Coronary heart disease                    </td><td>58791</td><td> 4055</td><td>0.068973142</td><td>404    </td><td>Ischemic heart disease                      </td><td>Cardio       </td><td>Both</td><td> 0</td><td>404</td><td> 0</td><td> 6.8973142</td></tr>\n",
       "\t<tr><td>184</td><td>Diabetes mellitus                         </td><td>57936</td><td> 4259</td><td>0.073512151</td><td>202    </td><td>Diabetes mellitus                           </td><td>Endo         </td><td>Both</td><td> 0</td><td>202</td><td> 0</td><td> 7.3512151</td></tr>\n",
       "\t<tr><td>263</td><td>Major depressive disorder                 </td><td>52388</td><td> 4781</td><td>0.091261358</td><td>286.2  </td><td>Major depressive disorder                   </td><td>Mental       </td><td>Both</td><td> 0</td><td>286</td><td> 0</td><td> 9.1261358</td></tr>\n",
       "\t<tr><td>138</td><td>Anemia                                    </td><td>57646</td><td> 4887</td><td>0.084776047</td><td>164    </td><td>Anemia                                      </td><td>Blood        </td><td>Both</td><td> 0</td><td>164</td><td> 0</td><td> 8.4776047</td></tr>\n",
       "\t<tr><td>410</td><td>Cataract                                  </td><td>59805</td><td> 6798</td><td>0.113669426</td><td>371    </td><td>Cataract                                    </td><td>Eye          </td><td>Both</td><td> 0</td><td>371</td><td> 0</td><td>11.3669426</td></tr>\n",
       "\t<tr><td>605</td><td>Acute lower respiratory infection         </td><td>52240</td><td> 9705</td><td>0.185777182</td><td>460.2  </td><td>Acute lower respiratory infection           </td><td>Resp         </td><td>Both</td><td> 0</td><td>460</td><td> 1</td><td>18.5777182</td></tr>\n",
       "\t<tr><td>498</td><td>Hypertension                              </td><td>48591</td><td>11114</td><td>0.228725484</td><td>401    </td><td>Hypertension                                </td><td>Cardio       </td><td>Both</td><td> 0</td><td>401</td><td> 0</td><td>22.8725484</td></tr>\n",
       "</tbody>\n",
       "</table>\n"
      ],
      "text/latex": [
       "A tibble: 23 × 13\n",
       "\\begin{tabular}{lllllllllllll}\n",
       " V1 & endpoint & eligable & n & freq & phecode & phecode\\_string & phecode\\_category & sex & ICD10\\_only & phecode\\_top & leaf & perc\\\\\n",
       " <int> & <chr> & <int> & <int> & <dbl> & <chr> & <chr> & <chr> & <chr> & <dbl> & <int> & <dbl> & <dbl>\\\\\n",
       "\\hline\n",
       "\t  86 & Leukemia                                   & 61142 &   263 & 0.004301462 & 121     & Leukemia                                     & Neoplasms     & Both &  0 & 121 &  0 &  0.4301462\\\\\n",
       "\t 998 & Rheumatoid arthritis                       & 60634 &   820 & 0.013523766 & 705.1   & Rheumatoid arthritis                         & Musc/Skel     & Both &  0 & 705 &  0 &  1.3523766\\\\\n",
       "\t 297 & Dementias and cerebral degeneration        & 61233 &   968 & 0.015808469 & 328     & Dementias and cerebral degeneration          & Neuro         & Both &  0 & 328 &  0 &  1.5808469\\\\\n",
       "\t 568 & Ischemic stroke                            & 60849 &  1157 & 0.019014281 & 431.11  & Cerebral infarction {[}Ischemic stroke{]}        & Cardio        & Both &  0 & 431 &  1 &  1.9014281\\\\\n",
       "\t  41 & Malignant neoplasm of the digestive organs & 60713 &  1652 & 0.027209988 & 101     & Malignant neoplasm of the digestive organs   & Neoplasms     & Both &  0 & 101 &  0 &  2.7209988\\\\\n",
       "\t 430 & Glaucoma                                   & 60486 &  1664 & 0.027510498 & 375.1   & Glaucoma                                     & Eye           & Both &  0 & 375 &  0 &  2.7510498\\\\\n",
       "\t 421 & Diabetic retinopathy                       & 60400 &  1760 & 0.029139073 & 374.42  & Diabetic retinopathy                         & Eye           & Both &  0 & 374 &  1 &  2.9139073\\\\\n",
       "\t 505 & Myocardial infarction                      & 60213 &  1800 & 0.029893877 & 404.1   & Myocardial infarction {[}Heart attack{]}         & Cardio        & Both &  0 & 404 &  0 &  2.9893877\\\\\n",
       "\t 422 & Macular degeneration                       & 60918 &  1816 & 0.029810565 & 374.5   & Macular degeneration                         & Eye           & Both &  0 & 374 &  0 &  2.9810565\\\\\n",
       "\t 556 & Heart failure                              & 60846 &  1996 & 0.032804128 & 424     & Heart failure                                & Cardio        & Both &  0 & 424 &  0 &  3.2804128\\\\\n",
       "\t 765 & Chronic liver disease and sequelae         & 60689 &  2124 & 0.034998105 & 542     & Chronic liver disease and sequelae           & GI            & Both &  0 & 542 &  0 &  3.4998105\\\\\n",
       "\t 639 & Chronic obstructive pulmonary disease      & 60402 &  2406 & 0.039833118 & 474     & Chronic obstructive pulmonary disease {[}COPD{]} & Resp          & Both &  0 & 474 &  0 &  3.9833118\\\\\n",
       "\t 625 & Pneumonia                                  & 59697 &  3199 & 0.053587282 & 468     & Pneumonia                                    & Resp          & Both &  0 & 468 &  0 &  5.3587282\\\\\n",
       "\t 803 & Chronic kidney disease                     & 59363 &  3206 & 0.054006705 & 583     & Chronic kidney disease                       & Genitourinary & Both &  0 & 583 &  0 &  5.4006705\\\\\n",
       "\t   0 & All-Cause Death                            & 61256 &  3490 & 0.056974011 & 4306655 & All-Cause Death                              & Death         & Both & NA &  NA & NA &  5.6974011\\\\\n",
       "\t  51 & Malignant neoplasm of the skin             & 59332 &  3620 & 0.061012607 & 103     & Malignant neoplasm of the skin               & Neoplasms     & Both &  0 & 103 &  0 &  6.1012607\\\\\n",
       "\t 504 & Coronary heart disease                     & 58791 &  4055 & 0.068973142 & 404     & Ischemic heart disease                       & Cardio        & Both &  0 & 404 &  0 &  6.8973142\\\\\n",
       "\t 184 & Diabetes mellitus                          & 57936 &  4259 & 0.073512151 & 202     & Diabetes mellitus                            & Endo          & Both &  0 & 202 &  0 &  7.3512151\\\\\n",
       "\t 263 & Major depressive disorder                  & 52388 &  4781 & 0.091261358 & 286.2   & Major depressive disorder                    & Mental        & Both &  0 & 286 &  0 &  9.1261358\\\\\n",
       "\t 138 & Anemia                                     & 57646 &  4887 & 0.084776047 & 164     & Anemia                                       & Blood         & Both &  0 & 164 &  0 &  8.4776047\\\\\n",
       "\t 410 & Cataract                                   & 59805 &  6798 & 0.113669426 & 371     & Cataract                                     & Eye           & Both &  0 & 371 &  0 & 11.3669426\\\\\n",
       "\t 605 & Acute lower respiratory infection          & 52240 &  9705 & 0.185777182 & 460.2   & Acute lower respiratory infection            & Resp          & Both &  0 & 460 &  1 & 18.5777182\\\\\n",
       "\t 498 & Hypertension                               & 48591 & 11114 & 0.228725484 & 401     & Hypertension                                 & Cardio        & Both &  0 & 401 &  0 & 22.8725484\\\\\n",
       "\\end{tabular}\n"
      ],
      "text/markdown": [
       "\n",
       "A tibble: 23 × 13\n",
       "\n",
       "| V1 &lt;int&gt; | endpoint &lt;chr&gt; | eligable &lt;int&gt; | n &lt;int&gt; | freq &lt;dbl&gt; | phecode &lt;chr&gt; | phecode_string &lt;chr&gt; | phecode_category &lt;chr&gt; | sex &lt;chr&gt; | ICD10_only &lt;dbl&gt; | phecode_top &lt;int&gt; | leaf &lt;dbl&gt; | perc &lt;dbl&gt; |\n",
       "|---|---|---|---|---|---|---|---|---|---|---|---|---|\n",
       "|  86 | Leukemia                                   | 61142 |   263 | 0.004301462 | 121     | Leukemia                                     | Neoplasms     | Both |  0 | 121 |  0 |  0.4301462 |\n",
       "| 998 | Rheumatoid arthritis                       | 60634 |   820 | 0.013523766 | 705.1   | Rheumatoid arthritis                         | Musc/Skel     | Both |  0 | 705 |  0 |  1.3523766 |\n",
       "| 297 | Dementias and cerebral degeneration        | 61233 |   968 | 0.015808469 | 328     | Dementias and cerebral degeneration          | Neuro         | Both |  0 | 328 |  0 |  1.5808469 |\n",
       "| 568 | Ischemic stroke                            | 60849 |  1157 | 0.019014281 | 431.11  | Cerebral infarction [Ischemic stroke]        | Cardio        | Both |  0 | 431 |  1 |  1.9014281 |\n",
       "|  41 | Malignant neoplasm of the digestive organs | 60713 |  1652 | 0.027209988 | 101     | Malignant neoplasm of the digestive organs   | Neoplasms     | Both |  0 | 101 |  0 |  2.7209988 |\n",
       "| 430 | Glaucoma                                   | 60486 |  1664 | 0.027510498 | 375.1   | Glaucoma                                     | Eye           | Both |  0 | 375 |  0 |  2.7510498 |\n",
       "| 421 | Diabetic retinopathy                       | 60400 |  1760 | 0.029139073 | 374.42  | Diabetic retinopathy                         | Eye           | Both |  0 | 374 |  1 |  2.9139073 |\n",
       "| 505 | Myocardial infarction                      | 60213 |  1800 | 0.029893877 | 404.1   | Myocardial infarction [Heart attack]         | Cardio        | Both |  0 | 404 |  0 |  2.9893877 |\n",
       "| 422 | Macular degeneration                       | 60918 |  1816 | 0.029810565 | 374.5   | Macular degeneration                         | Eye           | Both |  0 | 374 |  0 |  2.9810565 |\n",
       "| 556 | Heart failure                              | 60846 |  1996 | 0.032804128 | 424     | Heart failure                                | Cardio        | Both |  0 | 424 |  0 |  3.2804128 |\n",
       "| 765 | Chronic liver disease and sequelae         | 60689 |  2124 | 0.034998105 | 542     | Chronic liver disease and sequelae           | GI            | Both |  0 | 542 |  0 |  3.4998105 |\n",
       "| 639 | Chronic obstructive pulmonary disease      | 60402 |  2406 | 0.039833118 | 474     | Chronic obstructive pulmonary disease [COPD] | Resp          | Both |  0 | 474 |  0 |  3.9833118 |\n",
       "| 625 | Pneumonia                                  | 59697 |  3199 | 0.053587282 | 468     | Pneumonia                                    | Resp          | Both |  0 | 468 |  0 |  5.3587282 |\n",
       "| 803 | Chronic kidney disease                     | 59363 |  3206 | 0.054006705 | 583     | Chronic kidney disease                       | Genitourinary | Both |  0 | 583 |  0 |  5.4006705 |\n",
       "|   0 | All-Cause Death                            | 61256 |  3490 | 0.056974011 | 4306655 | All-Cause Death                              | Death         | Both | NA |  NA | NA |  5.6974011 |\n",
       "|  51 | Malignant neoplasm of the skin             | 59332 |  3620 | 0.061012607 | 103     | Malignant neoplasm of the skin               | Neoplasms     | Both |  0 | 103 |  0 |  6.1012607 |\n",
       "| 504 | Coronary heart disease                     | 58791 |  4055 | 0.068973142 | 404     | Ischemic heart disease                       | Cardio        | Both |  0 | 404 |  0 |  6.8973142 |\n",
       "| 184 | Diabetes mellitus                          | 57936 |  4259 | 0.073512151 | 202     | Diabetes mellitus                            | Endo          | Both |  0 | 202 |  0 |  7.3512151 |\n",
       "| 263 | Major depressive disorder                  | 52388 |  4781 | 0.091261358 | 286.2   | Major depressive disorder                    | Mental        | Both |  0 | 286 |  0 |  9.1261358 |\n",
       "| 138 | Anemia                                     | 57646 |  4887 | 0.084776047 | 164     | Anemia                                       | Blood         | Both |  0 | 164 |  0 |  8.4776047 |\n",
       "| 410 | Cataract                                   | 59805 |  6798 | 0.113669426 | 371     | Cataract                                     | Eye           | Both |  0 | 371 |  0 | 11.3669426 |\n",
       "| 605 | Acute lower respiratory infection          | 52240 |  9705 | 0.185777182 | 460.2   | Acute lower respiratory infection            | Resp          | Both |  0 | 460 |  1 | 18.5777182 |\n",
       "| 498 | Hypertension                               | 48591 | 11114 | 0.228725484 | 401     | Hypertension                                 | Cardio        | Both |  0 | 401 |  0 | 22.8725484 |\n",
       "\n"
      ],
      "text/plain": [
       "   V1  endpoint                                   eligable n     freq       \n",
       "1   86 Leukemia                                   61142      263 0.004301462\n",
       "2  998 Rheumatoid arthritis                       60634      820 0.013523766\n",
       "3  297 Dementias and cerebral degeneration        61233      968 0.015808469\n",
       "4  568 Ischemic stroke                            60849     1157 0.019014281\n",
       "5   41 Malignant neoplasm of the digestive organs 60713     1652 0.027209988\n",
       "6  430 Glaucoma                                   60486     1664 0.027510498\n",
       "7  421 Diabetic retinopathy                       60400     1760 0.029139073\n",
       "8  505 Myocardial infarction                      60213     1800 0.029893877\n",
       "9  422 Macular degeneration                       60918     1816 0.029810565\n",
       "10 556 Heart failure                              60846     1996 0.032804128\n",
       "11 765 Chronic liver disease and sequelae         60689     2124 0.034998105\n",
       "12 639 Chronic obstructive pulmonary disease      60402     2406 0.039833118\n",
       "13 625 Pneumonia                                  59697     3199 0.053587282\n",
       "14 803 Chronic kidney disease                     59363     3206 0.054006705\n",
       "15   0 All-Cause Death                            61256     3490 0.056974011\n",
       "16  51 Malignant neoplasm of the skin             59332     3620 0.061012607\n",
       "17 504 Coronary heart disease                     58791     4055 0.068973142\n",
       "18 184 Diabetes mellitus                          57936     4259 0.073512151\n",
       "19 263 Major depressive disorder                  52388     4781 0.091261358\n",
       "20 138 Anemia                                     57646     4887 0.084776047\n",
       "21 410 Cataract                                   59805     6798 0.113669426\n",
       "22 605 Acute lower respiratory infection          52240     9705 0.185777182\n",
       "23 498 Hypertension                               48591    11114 0.228725484\n",
       "   phecode phecode_string                               phecode_category sex \n",
       "1  121     Leukemia                                     Neoplasms        Both\n",
       "2  705.1   Rheumatoid arthritis                         Musc/Skel        Both\n",
       "3  328     Dementias and cerebral degeneration          Neuro            Both\n",
       "4  431.11  Cerebral infarction [Ischemic stroke]        Cardio           Both\n",
       "5  101     Malignant neoplasm of the digestive organs   Neoplasms        Both\n",
       "6  375.1   Glaucoma                                     Eye              Both\n",
       "7  374.42  Diabetic retinopathy                         Eye              Both\n",
       "8  404.1   Myocardial infarction [Heart attack]         Cardio           Both\n",
       "9  374.5   Macular degeneration                         Eye              Both\n",
       "10 424     Heart failure                                Cardio           Both\n",
       "11 542     Chronic liver disease and sequelae           GI               Both\n",
       "12 474     Chronic obstructive pulmonary disease [COPD] Resp             Both\n",
       "13 468     Pneumonia                                    Resp             Both\n",
       "14 583     Chronic kidney disease                       Genitourinary    Both\n",
       "15 4306655 All-Cause Death                              Death            Both\n",
       "16 103     Malignant neoplasm of the skin               Neoplasms        Both\n",
       "17 404     Ischemic heart disease                       Cardio           Both\n",
       "18 202     Diabetes mellitus                            Endo             Both\n",
       "19 286.2   Major depressive disorder                    Mental           Both\n",
       "20 164     Anemia                                       Blood            Both\n",
       "21 371     Cataract                                     Eye              Both\n",
       "22 460.2   Acute lower respiratory infection            Resp             Both\n",
       "23 401     Hypertension                                 Cardio           Both\n",
       "   ICD10_only phecode_top leaf perc      \n",
       "1   0         121          0    0.4301462\n",
       "2   0         705          0    1.3523766\n",
       "3   0         328          0    1.5808469\n",
       "4   0         431          1    1.9014281\n",
       "5   0         101          0    2.7209988\n",
       "6   0         375          0    2.7510498\n",
       "7   0         374          1    2.9139073\n",
       "8   0         404          0    2.9893877\n",
       "9   0         374          0    2.9810565\n",
       "10  0         424          0    3.2804128\n",
       "11  0         542          0    3.4998105\n",
       "12  0         474          0    3.9833118\n",
       "13  0         468          0    5.3587282\n",
       "14  0         583          0    5.4006705\n",
       "15 NA          NA         NA    5.6974011\n",
       "16  0         103          0    6.1012607\n",
       "17  0         404          0    6.8973142\n",
       "18  0         202          0    7.3512151\n",
       "19  0         286          0    9.1261358\n",
       "20  0         164          0    8.4776047\n",
       "21  0         371          0   11.3669426\n",
       "22  0         460          1   18.5777182\n",
       "23  0         401          0   22.8725484"
      ]
     },
     "metadata": {},
     "output_type": "display_data"
    }
   ],
   "source": [
    "endpoints_md %>% filter(endpoint %in% endpoint_selection) %>% as_tibble() %>% arrange(n)  %>%\n",
    "    mutate(endpoint = recode(endpoint, !!!endpoint_map)) %>% mutate(perc = freq*100)"
   ]
  },
  {
   "cell_type": "code",
   "execution_count": 9,
   "metadata": {
    "execution": {
     "iopub.execute_input": "2022-11-05T14:21:16.830744Z",
     "iopub.status.busy": "2022-11-05T14:21:16.829893Z",
     "iopub.status.idle": "2022-11-05T14:21:16.837944Z",
     "shell.execute_reply": "2022-11-05T14:21:16.836938Z"
    },
    "tags": []
   },
   "outputs": [],
   "source": [
    "#today = substr(Sys.time(), 0, 10) # YYYY-MM-DD\n",
    "today = '220824'"
   ]
  },
  {
   "cell_type": "code",
   "execution_count": 10,
   "metadata": {
    "execution": {
     "iopub.execute_input": "2022-11-05T14:21:16.840191Z",
     "iopub.status.busy": "2022-11-05T14:21:16.839350Z",
     "iopub.status.idle": "2022-11-05T14:21:28.957613Z",
     "shell.execute_reply": "2022-11-05T14:21:28.956183Z"
    },
    "tags": []
   },
   "outputs": [
    {
     "name": "stderr",
     "output_type": "stream",
     "text": [
      "Warning message:\n",
      "“Coercing dictionary values to R character factor levels”\n"
     ]
    }
   ],
   "source": [
    "eligable_eids = arrow::read_feather(glue(\"{output_path}/eligable_eids_long_{today}.feather\")) %>% \n",
    "    mutate(included = 1)\n",
    "eligable_eids$eid = as.numeric(levels(eligable_eids$eid))[eligable_eids$eid]"
   ]
  },
  {
   "cell_type": "code",
   "execution_count": 11,
   "metadata": {
    "execution": {
     "iopub.execute_input": "2022-11-05T14:21:28.960005Z",
     "iopub.status.busy": "2022-11-05T14:21:28.959159Z",
     "iopub.status.idle": "2022-11-05T14:22:33.233040Z",
     "shell.execute_reply": "2022-11-05T14:22:33.231529Z"
    },
    "tags": []
   },
   "outputs": [],
   "source": [
    "data_outcomes = arrow::read_feather(glue(\"{output_path}/baseline_outcomes_long_220627.feather\", as_data_frame=FALSE)) "
   ]
  },
  {
   "cell_type": "code",
   "execution_count": 12,
   "metadata": {
    "execution": {
     "iopub.execute_input": "2022-11-05T14:22:33.235496Z",
     "iopub.status.busy": "2022-11-05T14:22:33.234623Z",
     "iopub.status.idle": "2022-11-05T14:22:33.261829Z",
     "shell.execute_reply": "2022-11-05T14:22:33.260020Z"
    },
    "tags": []
   },
   "outputs": [
    {
     "data": {
      "text/html": [
       "<style>\n",
       ".list-inline {list-style: none; margin:0; padding: 0}\n",
       ".list-inline>li {display: inline-block}\n",
       ".list-inline>li:not(:last-child)::after {content: \"\\00b7\"; padding: 0 .5ex}\n",
       "</style>\n",
       "<ol class=list-inline><li>0</li><li>1</li><li>2</li><li>3</li><li>4</li><li>5</li><li>6</li><li>7</li><li>8</li><li>9</li><li>10</li><li>11</li><li>12</li><li>13</li><li>14</li><li>15</li><li>16</li><li>17</li><li>18</li><li>19</li><li>20</li><li>21</li></ol>\n"
      ],
      "text/latex": [
       "\\begin{enumerate*}\n",
       "\\item 0\n",
       "\\item 1\n",
       "\\item 2\n",
       "\\item 3\n",
       "\\item 4\n",
       "\\item 5\n",
       "\\item 6\n",
       "\\item 7\n",
       "\\item 8\n",
       "\\item 9\n",
       "\\item 10\n",
       "\\item 11\n",
       "\\item 12\n",
       "\\item 13\n",
       "\\item 14\n",
       "\\item 15\n",
       "\\item 16\n",
       "\\item 17\n",
       "\\item 18\n",
       "\\item 19\n",
       "\\item 20\n",
       "\\item 21\n",
       "\\end{enumerate*}\n"
      ],
      "text/markdown": [
       "1. 0\n",
       "2. 1\n",
       "3. 2\n",
       "4. 3\n",
       "5. 4\n",
       "6. 5\n",
       "7. 6\n",
       "8. 7\n",
       "9. 8\n",
       "10. 9\n",
       "11. 10\n",
       "12. 11\n",
       "13. 12\n",
       "14. 13\n",
       "15. 14\n",
       "16. 15\n",
       "17. 16\n",
       "18. 17\n",
       "19. 18\n",
       "20. 19\n",
       "21. 20\n",
       "22. 21\n",
       "\n",
       "\n"
      ],
      "text/plain": [
       " [1]  0  1  2  3  4  5  6  7  8  9 10 11 12 13 14 15 16 17 18 19 20 21"
      ]
     },
     "metadata": {},
     "output_type": "display_data"
    }
   ],
   "source": [
    "partitions = 0:21\n",
    "crop_ratio = \"0.66\" # 0.3, 0.5, 0.8\n",
    "partitions\n",
    "paths = c()\n",
    "for (p in partitions){\n",
    "    #temp_path = glue(\"{experiment_path}/loghs/Identity(Records)+MLP/{p}/test.feather\")\n",
    "    temp_path = glue(\"{experiment_path}/loghs/ImageTraining_[]_ConvNeXt_MLPHead_predictions_cropratio{crop_ratio}/{p}/test.feather\")\n",
    "    paths = c(paths, temp_path)\n",
    "    }"
   ]
  },
  {
   "cell_type": "code",
   "execution_count": 13,
   "metadata": {
    "execution": {
     "iopub.execute_input": "2022-11-05T14:22:33.265967Z",
     "iopub.status.busy": "2022-11-05T14:22:33.264463Z",
     "iopub.status.idle": "2022-11-05T14:22:33.278438Z",
     "shell.execute_reply": "2022-11-05T14:22:33.277376Z"
    },
    "tags": []
   },
   "outputs": [],
   "source": [
    "read_predictions = function(paths, endpoint_list){\n",
    "    predictions = paths %>% map_df(\n",
    "        ~suppressWarnings(read_feather(., col_select=c(\"eid\", all_of(endpoint_list)))) %>% \n",
    "        pivot_longer(all_of(endpoint_list), names_to=\"endpoint\", values_to=\"logh\") %>%\n",
    "        mutate(eid = as.integer(as.character(eid))) %>%\n",
    "        select(endpoint, eid, logh))# %>% arrange(endpoint, eid)\n",
    "    return(predictions)\n",
    "    }\n",
    "\n",
    "map <- c(`1` = 'top10',\n",
    "            `2` = 'rest',\n",
    "         `3` = 'rest',\n",
    "         `4` = 'rest',\n",
    "         `5` = 'rest',\n",
    "         `6` = 'rest',\n",
    "         `7` = 'rest',\n",
    "         `8` = 'rest',\n",
    "         `9` = 'rest',\n",
    "         `10` = 'rest')\n",
    "\n",
    "calc_ratios = function(pred_outcomes, endpoints_md){\n",
    "    \n",
    "    logh_inc = pred_outcomes %>% \n",
    "        filter(included==1) %>% \n",
    "        group_by(endpoint) %>% \n",
    "        mutate(logh_perc = ntile(logh, 10)) %>% \n",
    "#         mutate(logh_perc=case_when(logh_perc %in% 1:9 ~ 1, \n",
    "#                                     logh_perc %in% 10:11 ~ 10,\n",
    "#                                     TRUE ~ \"NA\")) %>%\n",
    "        ungroup()\n",
    "\n",
    "    logh_T_agg = logh_inc %>% group_by(endpoint, logh_perc) %>% summarise(n=sum(event, na.rm=TRUE), event_rate = mean(event)) #%>% as_tibble()\n",
    "    temp_ordered = logh_T_agg %>% mutate(endpoint = factor(endpoint, levels=endpoints_md$endpoint)) \n",
    "    temp_ratios = temp_ordered %>% #filter(logh_perc %in% c(1, 10)) %>% \n",
    "        pivot_wider(names_from=logh_perc, values_from=c(n, event_rate)) %>% \n",
    "        mutate(event_rate_ratio=event_rate_10/event_rate_1) %>%\n",
    "#             mutate(ratio=ratio_top10/ratio_rest) %>%\n",
    "\n",
    "        #mutate(endpoint_string = recode(endpoint, !!!endpoint_map)) %>%\n",
    "        #select(endpoint, n_1, n_10, event_rate_1, ratio_10, ratio) %>%\n",
    "#             select(endpoint, n_top10, n_rest, ratio_top10, ratio_rest, ratio) %>%\n",
    "\n",
    "        arrange(event_rate_ratio) #%>% as_tibble()\n",
    "    return(temp_ratios)\n",
    "    }"
   ]
  },
  {
   "cell_type": "code",
   "execution_count": 14,
   "metadata": {
    "execution": {
     "iopub.execute_input": "2022-11-05T14:22:33.280880Z",
     "iopub.status.busy": "2022-11-05T14:22:33.280004Z",
     "iopub.status.idle": "2022-11-05T14:22:33.290090Z",
     "shell.execute_reply": "2022-11-05T14:22:33.288237Z"
    },
    "tags": []
   },
   "outputs": [],
   "source": [
    "prepare_ratios = function(endpoint_list){\n",
    "    \n",
    "    temp_outcomes = data_outcomes %>% filter(endpoint %in% endpoint_list)\n",
    "    temp_eligability = eligable_eids %>% filter(endpoint %in% endpoint_list)\n",
    "    temp_outcomes_eligability = temp_outcomes %>% left_join(temp_eligability, by=c(\"eid\", \"endpoint\"))\n",
    "    pred_outcomes = read_predictions(paths, endpoint_list) %>% left_join(temp_outcomes_eligability, on=c(eid, endpoint)) %>% as_tibble()\n",
    "    temp_df = calc_ratios(pred_outcomes, endpoints_md)\n",
    "    \n",
    "    return(temp_df)\n",
    "    }"
   ]
  },
  {
   "cell_type": "code",
   "execution_count": 15,
   "metadata": {
    "execution": {
     "iopub.execute_input": "2022-11-05T14:22:33.294050Z",
     "iopub.status.busy": "2022-11-05T14:22:33.292464Z",
     "iopub.status.idle": "2022-11-05T14:22:33.302398Z",
     "shell.execute_reply": "2022-11-05T14:22:33.301299Z"
    },
    "tags": []
   },
   "outputs": [],
   "source": [
    "ep_chunks = split(endpoints_md$endpoint, ceiling(seq_along(endpoints_md$endpoint)/500))"
   ]
  },
  {
   "cell_type": "code",
   "execution_count": 16,
   "metadata": {
    "execution": {
     "iopub.execute_input": "2022-11-05T14:22:33.305930Z",
     "iopub.status.busy": "2022-11-05T14:22:33.304369Z",
     "iopub.status.idle": "2022-11-05T14:38:56.962323Z",
     "shell.execute_reply": "2022-11-05T14:38:56.960916Z"
    },
    "tags": []
   },
   "outputs": [
    {
     "name": "stderr",
     "output_type": "stream",
     "text": [
      "\u001b[1m\u001b[22mJoining, by = c(\"endpoint\", \"eid\")\n",
      "\u001b[1m\u001b[22m`summarise()` has grouped output by 'endpoint'. You can override using the\n",
      "`.groups` argument.\n"
     ]
    },
    {
     "name": "stdout",
     "output_type": "stream",
     "text": [
      "\u001b[90m# A tibble: 500 × 22\u001b[39m\n",
      "\u001b[90m# Groups:   endpoint [500]\u001b[39m\n",
      "   endpoint         n_1   n_2   n_3   n_4   n_5   n_6   n_7   n_8   n_9  n_10\n",
      "   \u001b[3m\u001b[90m<fct>\u001b[39m\u001b[23m          \u001b[3m\u001b[90m<int>\u001b[39m\u001b[23m \u001b[3m\u001b[90m<int>\u001b[39m\u001b[23m \u001b[3m\u001b[90m<int>\u001b[39m\u001b[23m \u001b[3m\u001b[90m<int>\u001b[39m\u001b[23m \u001b[3m\u001b[90m<int>\u001b[39m\u001b[23m \u001b[3m\u001b[90m<int>\u001b[39m\u001b[23m \u001b[3m\u001b[90m<int>\u001b[39m\u001b[23m \u001b[3m\u001b[90m<int>\u001b[39m\u001b[23m \u001b[3m\u001b[90m<int>\u001b[39m\u001b[23m \u001b[3m\u001b[90m<int>\u001b[39m\u001b[23m\n",
      "\u001b[90m 1\u001b[39m phecode_110        3    11    22    16    24    17    11    11     2     0\n",
      "\u001b[90m 2\u001b[39m phecode_367-21    36    16    14    16     3    12     8     9    11     4\n",
      "\u001b[90m 3\u001b[39m phecode_139-3     15    15    15    12     9     8     5     7     9     3\n",
      "\u001b[90m 4\u001b[39m phecode_290-1     21    27    25    10    17    12    20    33    20     5\n",
      "\u001b[90m 5\u001b[39m phecode_086       48    39    21    23    37    16    20    28    21    14\n",
      "\u001b[90m 6\u001b[39m phecode_367-12    59    25    23    42    39    38    49    44    38    22\n",
      "\u001b[90m 7\u001b[39m phecode_379-21    16     9    16    17    45    34    27    23    24     6\n",
      "\u001b[90m 8\u001b[39m phecode_239-12    34    22    21    17    13    17    22    36    17    13\n",
      "\u001b[90m 9\u001b[39m phecode_325-1     12    14    12    17    12    18    13    16     9     5\n",
      "\u001b[90m10\u001b[39m phecode_367-2     40    24    45    53    43    50    50    40    39    18\n",
      "\u001b[90m# … with 490 more rows, and 11 more variables: event_rate_1 <dbl>,\u001b[39m\n",
      "\u001b[90m#   event_rate_2 <dbl>, event_rate_3 <dbl>, event_rate_4 <dbl>,\u001b[39m\n",
      "\u001b[90m#   event_rate_5 <dbl>, event_rate_6 <dbl>, event_rate_7 <dbl>,\u001b[39m\n",
      "\u001b[90m#   event_rate_8 <dbl>, event_rate_9 <dbl>, event_rate_10 <dbl>,\u001b[39m\n",
      "\u001b[90m#   event_rate_ratio <dbl>\u001b[39m\n"
     ]
    },
    {
     "name": "stderr",
     "output_type": "stream",
     "text": [
      "\u001b[1m\u001b[22mJoining, by = c(\"endpoint\", \"eid\")\n",
      "\u001b[1m\u001b[22m`summarise()` has grouped output by 'endpoint'. You can override using the\n",
      "`.groups` argument.\n"
     ]
    },
    {
     "name": "stdout",
     "output_type": "stream",
     "text": [
      "\u001b[90m# A tibble: 500 × 22\u001b[39m\n",
      "\u001b[90m# Groups:   endpoint [500]\u001b[39m\n",
      "   endpoint         n_1   n_2   n_3   n_4   n_5   n_6   n_7   n_8   n_9  n_10\n",
      "   \u001b[3m\u001b[90m<fct>\u001b[39m\u001b[23m          \u001b[3m\u001b[90m<int>\u001b[39m\u001b[23m \u001b[3m\u001b[90m<int>\u001b[39m\u001b[23m \u001b[3m\u001b[90m<int>\u001b[39m\u001b[23m \u001b[3m\u001b[90m<int>\u001b[39m\u001b[23m \u001b[3m\u001b[90m<int>\u001b[39m\u001b[23m \u001b[3m\u001b[90m<int>\u001b[39m\u001b[23m \u001b[3m\u001b[90m<int>\u001b[39m\u001b[23m \u001b[3m\u001b[90m<int>\u001b[39m\u001b[23m \u001b[3m\u001b[90m<int>\u001b[39m\u001b[23m \u001b[3m\u001b[90m<int>\u001b[39m\u001b[23m\n",
      "\u001b[90m 1\u001b[39m phecode_466-4      2     6     6    13    14    21    15     9     2     0\n",
      "\u001b[90m 2\u001b[39m phecode_703-2     14     5     0     9    21    14    15    10     3     1\n",
      "\u001b[90m 3\u001b[39m phecode_525-3      8    14     3     2     0     1     3     6     6     1\n",
      "\u001b[90m 4\u001b[39m phecode_668-6     36    14     9     8    15    25    31    20     9     6\n",
      "\u001b[90m 5\u001b[39m phecode_532-1     10     9     9    20    24    17    20    25    21     3\n",
      "\u001b[90m 6\u001b[39m phecode_688-3     14    25    17    28    18    11    15    11    22     6\n",
      "\u001b[90m 7\u001b[39m phecode_660-21   106    69    76    51    56    54    55    42    47    47\n",
      "\u001b[90m 8\u001b[39m phecode_660-2    118    88    74    72    72    56    53    54    47    54\n",
      "\u001b[90m 9\u001b[39m phecode_679-2     19    17     8    15    22    12    17    22    26     9\n",
      "\u001b[90m10\u001b[39m phecode_679-22    21    17     8     3     7    14     6     7     5    10\n",
      "\u001b[90m# … with 490 more rows, and 11 more variables: event_rate_1 <dbl>,\u001b[39m\n",
      "\u001b[90m#   event_rate_2 <dbl>, event_rate_3 <dbl>, event_rate_4 <dbl>,\u001b[39m\n",
      "\u001b[90m#   event_rate_5 <dbl>, event_rate_6 <dbl>, event_rate_7 <dbl>,\u001b[39m\n",
      "\u001b[90m#   event_rate_8 <dbl>, event_rate_9 <dbl>, event_rate_10 <dbl>,\u001b[39m\n",
      "\u001b[90m#   event_rate_ratio <dbl>\u001b[39m\n"
     ]
    },
    {
     "name": "stderr",
     "output_type": "stream",
     "text": [
      "\u001b[1m\u001b[22mJoining, by = c(\"endpoint\", \"eid\")\n",
      "\u001b[1m\u001b[22m`summarise()` has grouped output by 'endpoint'. You can override using the\n",
      "`.groups` argument.\n"
     ]
    },
    {
     "name": "stdout",
     "output_type": "stream",
     "text": [
      "\u001b[90m# A tibble: 170 × 22\u001b[39m\n",
      "\u001b[90m# Groups:   endpoint [170]\u001b[39m\n",
      "   endpoint         n_1   n_2   n_3   n_4   n_5   n_6   n_7   n_8   n_9  n_10\n",
      "   \u001b[3m\u001b[90m<fct>\u001b[39m\u001b[23m          \u001b[3m\u001b[90m<int>\u001b[39m\u001b[23m \u001b[3m\u001b[90m<int>\u001b[39m\u001b[23m \u001b[3m\u001b[90m<int>\u001b[39m\u001b[23m \u001b[3m\u001b[90m<int>\u001b[39m\u001b[23m \u001b[3m\u001b[90m<int>\u001b[39m\u001b[23m \u001b[3m\u001b[90m<int>\u001b[39m\u001b[23m \u001b[3m\u001b[90m<int>\u001b[39m\u001b[23m \u001b[3m\u001b[90m<int>\u001b[39m\u001b[23m \u001b[3m\u001b[90m<int>\u001b[39m\u001b[23m \u001b[3m\u001b[90m<int>\u001b[39m\u001b[23m\n",
      "\u001b[90m 1\u001b[39m phecode_710-31     7    13     6     0     2     6     6     9    13     2\n",
      "\u001b[90m 2\u001b[39m phecode_721-4     30     7     9    10    12    16    12    16    22     9\n",
      "\u001b[90m 3\u001b[39m phecode_733-62    18    18     4     9    10     8    14    11     6     6\n",
      "\u001b[90m 4\u001b[39m phecode_824       91    69    52    59    53    63    48    58    52    46\n",
      "\u001b[90m 5\u001b[39m phecode_829-2     64    61    60    67    71    61    67    60    51    36\n",
      "\u001b[90m 6\u001b[39m phecode_723-6    216   176   190   172   156   179   170   145   148   125\n",
      "\u001b[90m 7\u001b[39m phecode_719-11    14    12     4     9    18     9    12    21    13     9\n",
      "\u001b[90m 8\u001b[39m phecode_809-1     21     3     3     5    12    11     7    22    22    14\n",
      "\u001b[90m 9\u001b[39m phecode_723-5    157   168   135   133   155   124   140   123   129   109\n",
      "\u001b[90m10\u001b[39m phecode_723-51   125   116   125   119   116   121   113   114   108   105\n",
      "\u001b[90m# … with 160 more rows, and 11 more variables: event_rate_1 <dbl>,\u001b[39m\n",
      "\u001b[90m#   event_rate_2 <dbl>, event_rate_3 <dbl>, event_rate_4 <dbl>,\u001b[39m\n",
      "\u001b[90m#   event_rate_5 <dbl>, event_rate_6 <dbl>, event_rate_7 <dbl>,\u001b[39m\n",
      "\u001b[90m#   event_rate_8 <dbl>, event_rate_9 <dbl>, event_rate_10 <dbl>,\u001b[39m\n",
      "\u001b[90m#   event_rate_ratio <dbl>\u001b[39m\n"
     ]
    }
   ],
   "source": [
    "ratio_dfs = c()\n",
    "for (i in 1:length(ep_chunks)){\n",
    "    endpoint_list = ep_chunks[[i]]\n",
    "    ratio_dfs[[i]] = prepare_ratios(endpoint_list)\n",
    "    print(ratio_dfs[[i]])\n",
    "    flush.console()\n",
    "}"
   ]
  },
  {
   "cell_type": "code",
   "execution_count": 17,
   "metadata": {
    "execution": {
     "iopub.execute_input": "2022-11-05T14:38:56.965386Z",
     "iopub.status.busy": "2022-11-05T14:38:56.964313Z",
     "iopub.status.idle": "2022-11-05T14:38:57.478901Z",
     "shell.execute_reply": "2022-11-05T14:38:57.477677Z"
    },
    "tags": []
   },
   "outputs": [
    {
     "data": {
      "text/html": [
       "<table class=\"dataframe\">\n",
       "<caption>A tibble: 1170 × 24</caption>\n",
       "<thead>\n",
       "\t<tr><th scope=col>endpoint</th><th scope=col>n_1</th><th scope=col>n_2</th><th scope=col>n_3</th><th scope=col>n_4</th><th scope=col>n_5</th><th scope=col>n_6</th><th scope=col>n_7</th><th scope=col>n_8</th><th scope=col>n_9</th><th scope=col>⋯</th><th scope=col>event_rate_4</th><th scope=col>event_rate_5</th><th scope=col>event_rate_6</th><th scope=col>event_rate_7</th><th scope=col>event_rate_8</th><th scope=col>event_rate_9</th><th scope=col>event_rate_10</th><th scope=col>event_rate_ratio</th><th scope=col>endpoint_string</th><th scope=col>phecode_category</th></tr>\n",
       "\t<tr><th scope=col>&lt;chr&gt;</th><th scope=col>&lt;int&gt;</th><th scope=col>&lt;int&gt;</th><th scope=col>&lt;int&gt;</th><th scope=col>&lt;int&gt;</th><th scope=col>&lt;int&gt;</th><th scope=col>&lt;int&gt;</th><th scope=col>&lt;int&gt;</th><th scope=col>&lt;int&gt;</th><th scope=col>&lt;int&gt;</th><th scope=col>⋯</th><th scope=col>&lt;dbl&gt;</th><th scope=col>&lt;dbl&gt;</th><th scope=col>&lt;dbl&gt;</th><th scope=col>&lt;dbl&gt;</th><th scope=col>&lt;dbl&gt;</th><th scope=col>&lt;dbl&gt;</th><th scope=col>&lt;dbl&gt;</th><th scope=col>&lt;dbl&gt;</th><th scope=col>&lt;fct&gt;</th><th scope=col>&lt;chr&gt;</th></tr>\n",
       "</thead>\n",
       "<tbody>\n",
       "\t<tr><td>phecode_110   </td><td>  3</td><td>11</td><td>22</td><td>16</td><td>24</td><td>17</td><td>11</td><td>11</td><td> 2</td><td>⋯</td><td>0.0026148063</td><td>0.0039222095</td><td>0.0027782317</td><td>0.0017976794</td><td>0.0017976794</td><td>0.0003268508</td><td>0.0000000000</td><td>0.00000000</td><td>Malignant neoplasm of the endocrine glands         </td><td>Neoplasms     </td></tr>\n",
       "\t<tr><td>phecode_466-4 </td><td>  2</td><td> 6</td><td> 6</td><td>13</td><td>14</td><td>21</td><td>15</td><td> 9</td><td> 2</td><td>⋯</td><td>0.0021241830</td><td>0.0022875817</td><td>0.0034313725</td><td>0.0024509804</td><td>0.0014708286</td><td>0.0003268508</td><td>0.0000000000</td><td>0.00000000</td><td>Hypertrophy of tonsils and adenoids                </td><td>Resp          </td></tr>\n",
       "\t<tr><td>phecode_703-2 </td><td> 14</td><td> 5</td><td> 0</td><td> 9</td><td>21</td><td>14</td><td>15</td><td>10</td><td> 3</td><td>⋯</td><td>0.0014703480</td><td>0.0034308120</td><td>0.0022872080</td><td>0.0024505800</td><td>0.0016337200</td><td>0.0004901160</td><td>0.0001633720</td><td>0.07142857</td><td>Chondrocalcinosis                                  </td><td>Musc/Skel     </td></tr>\n",
       "\t<tr><td>phecode_367-21</td><td> 36</td><td>16</td><td>14</td><td>16</td><td> 3</td><td>12</td><td> 8</td><td> 9</td><td>11</td><td>⋯</td><td>0.0026169447</td><td>0.0004906771</td><td>0.0019627085</td><td>0.0013086864</td><td>0.0014722722</td><td>0.0017994438</td><td>0.0006543432</td><td>0.11112929</td><td>Corneal ulcer                                      </td><td>Eye           </td></tr>\n",
       "\t<tr><td>phecode_525-3 </td><td>  8</td><td>14</td><td> 3</td><td> 2</td><td> 0</td><td> 1</td><td> 3</td><td> 6</td><td> 6</td><td>⋯</td><td>0.0003269577</td><td>0.0000000000</td><td>0.0001635056</td><td>0.0004905167</td><td>0.0009810334</td><td>0.0009810334</td><td>0.0001635056</td><td>0.12502044</td><td>Disorders of intestinal carbohydrate absorption    </td><td>GI            </td></tr>\n",
       "\t<tr><td>phecode_668-6 </td><td> 36</td><td>14</td><td> 9</td><td> 8</td><td>15</td><td>25</td><td>31</td><td>20</td><td> 9</td><td>⋯</td><td>0.0013065491</td><td>0.0024501797</td><td>0.0040836328</td><td>0.0050637047</td><td>0.0032669062</td><td>0.0014701078</td><td>0.0009800719</td><td>0.16669389</td><td>Prurigo                                            </td><td>Derm          </td></tr>\n",
       "\t<tr><td>phecode_139-3 </td><td> 15</td><td>15</td><td>15</td><td>12</td><td> 9</td><td> 8</td><td> 5</td><td> 7</td><td> 9</td><td>⋯</td><td>0.0019659240</td><td>0.0014744430</td><td>0.0013106160</td><td>0.0008192692</td><td>0.0011469769</td><td>0.0014746846</td><td>0.0004915615</td><td>0.20003277</td><td>Benign neoplasm of other connective and soft tissue</td><td>Neoplasms     </td></tr>\n",
       "\t<tr><td>phecode_290-1 </td><td> 21</td><td>27</td><td>25</td><td>10</td><td>17</td><td>12</td><td>20</td><td>33</td><td>20</td><td>⋯</td><td>0.0016369291</td><td>0.0027827795</td><td>0.0019643149</td><td>0.0032738582</td><td>0.0054018661</td><td>0.0032738582</td><td>0.0008185986</td><td>0.23813422</td><td>Posttraumatic stress disorder                      </td><td>Mental        </td></tr>\n",
       "\t<tr><td>phecode_710-31</td><td>  7</td><td>13</td><td> 6</td><td> 0</td><td> 2</td><td> 6</td><td> 6</td><td> 9</td><td>13</td><td>⋯</td><td>0.0000000000</td><td>0.0003273858</td><td>0.0009821575</td><td>0.0009821575</td><td>0.0014732362</td><td>0.0021280079</td><td>0.0003274394</td><td>0.28576106</td><td>Genu valgum (acquired)                             </td><td>Musc/Skel     </td></tr>\n",
       "\t<tr><td>phecode_086   </td><td> 48</td><td>39</td><td>21</td><td>23</td><td>37</td><td>16</td><td>20</td><td>28</td><td>21</td><td>⋯</td><td>0.0037891269</td><td>0.0060955519</td><td>0.0026359143</td><td>0.0032948929</td><td>0.0046128501</td><td>0.0034596376</td><td>0.0023064250</td><td>0.29166667</td><td>Pediculosis, acariasis and other infestations      </td><td>ID            </td></tr>\n",
       "\t<tr><td>phecode_721-4 </td><td> 30</td><td> 7</td><td> 9</td><td>10</td><td>12</td><td>16</td><td>12</td><td>16</td><td>22</td><td>⋯</td><td>0.0016342540</td><td>0.0019611048</td><td>0.0026148063</td><td>0.0019611048</td><td>0.0026152337</td><td>0.0035959464</td><td>0.0014710690</td><td>0.30004904</td><td>Calcium deposits in tendon and bursa               </td><td>Musc/Skel     </td></tr>\n",
       "\t<tr><td>phecode_532-1 </td><td> 10</td><td> 9</td><td> 9</td><td>20</td><td>24</td><td>17</td><td>20</td><td>25</td><td>21</td><td>⋯</td><td>0.0032760033</td><td>0.0039312039</td><td>0.0027846028</td><td>0.0032760033</td><td>0.0040956750</td><td>0.0034403670</td><td>0.0004914810</td><td>0.30004915</td><td>Intestinal fistula                                 </td><td>GI            </td></tr>\n",
       "\t<tr><td>phecode_733-62</td><td> 18</td><td>18</td><td> 4</td><td> 9</td><td>10</td><td> 8</td><td>14</td><td>11</td><td> 6</td><td>⋯</td><td>0.0014773473</td><td>0.0016414970</td><td>0.0013131976</td><td>0.0022984732</td><td>0.0018059432</td><td>0.0009850599</td><td>0.0009850599</td><td>0.33338806</td><td>Arthralgia of temporomandibular joint              </td><td>Musc/Skel     </td></tr>\n",
       "\t<tr><td>phecode_367-12</td><td> 59</td><td>25</td><td>23</td><td>42</td><td>39</td><td>38</td><td>49</td><td>44</td><td>38</td><td>⋯</td><td>0.0069467416</td><td>0.0064505458</td><td>0.0062861869</td><td>0.0081058726</td><td>0.0072787428</td><td>0.0062861869</td><td>0.0036393714</td><td>0.37294304</td><td>Allergic [atopic] conjunctivitis                   </td><td>Eye           </td></tr>\n",
       "\t<tr><td>phecode_379-21</td><td> 16</td><td> 9</td><td>16</td><td>17</td><td>45</td><td>34</td><td>27</td><td>23</td><td>24</td><td>⋯</td><td>0.0027805038</td><td>0.0073601570</td><td>0.0055610075</td><td>0.0044160942</td><td>0.0037624734</td><td>0.0039260592</td><td>0.0009815148</td><td>0.37506134</td><td>Infection of the eye, herpes                       </td><td>Eye           </td></tr>\n",
       "\t<tr><td>phecode_239-12</td><td> 34</td><td>22</td><td>21</td><td>17</td><td>13</td><td>17</td><td>22</td><td>36</td><td>17</td><td>⋯</td><td>0.0027818688</td><td>0.0021276596</td><td>0.0027823241</td><td>0.0036006547</td><td>0.0058919804</td><td>0.0027823241</td><td>0.0021276596</td><td>0.38241552</td><td>Familial hypercholesterolemia*                     </td><td>Metab         </td></tr>\n",
       "\t<tr><td>phecode_325-1 </td><td> 12</td><td>14</td><td>12</td><td>17</td><td>12</td><td>18</td><td>13</td><td>16</td><td> 9</td><td>⋯</td><td>0.0027791401</td><td>0.0019617460</td><td>0.0029426189</td><td>0.0021252248</td><td>0.0026156613</td><td>0.0014713095</td><td>0.0008173941</td><td>0.41673478</td><td>Abnormal involuntary movements                     </td><td>Neuro         </td></tr>\n",
       "\t<tr><td>phecode_688-3 </td><td> 14</td><td>25</td><td>17</td><td>28</td><td>18</td><td>11</td><td>15</td><td>11</td><td>22</td><td>⋯</td><td>0.0045871560</td><td>0.0029488860</td><td>0.0018020970</td><td>0.0024574050</td><td>0.0018020970</td><td>0.0036047845</td><td>0.0009831231</td><td>0.42864165</td><td>Pyogenic granuloma of skin and subcutaneous tissue </td><td>Derm          </td></tr>\n",
       "\t<tr><td>phecode_660-21</td><td>106</td><td>69</td><td>76</td><td>51</td><td>56</td><td>54</td><td>55</td><td>42</td><td>47</td><td>⋯</td><td>0.0084423109</td><td>0.0092699884</td><td>0.0089389174</td><td>0.0091044529</td><td>0.0069524913</td><td>0.0077801688</td><td>0.0077801688</td><td>0.44339623</td><td>Impetigo                                           </td><td>Derm          </td></tr>\n",
       "\t<tr><td>phecode_367-2 </td><td> 40</td><td>24</td><td>45</td><td>53</td><td>43</td><td>50</td><td>50</td><td>40</td><td>39</td><td>⋯</td><td>0.0087056505</td><td>0.0070642353</td><td>0.0082142270</td><td>0.0082142270</td><td>0.0065713816</td><td>0.0064070971</td><td>0.0029571217</td><td>0.45007393</td><td>Keratitis                                          </td><td>Eye           </td></tr>\n",
       "\t<tr><td>phecode_660-2 </td><td>118</td><td>88</td><td>74</td><td>72</td><td>72</td><td>56</td><td>53</td><td>54</td><td>47</td><td>⋯</td><td>0.0119402985</td><td>0.0119402985</td><td>0.0092868988</td><td>0.0087893864</td><td>0.0089552239</td><td>0.0077943615</td><td>0.0089552239</td><td>0.45770301</td><td>Bacterial infection of the skin                    </td><td>Derm          </td></tr>\n",
       "\t<tr><td>phecode_333-4 </td><td> 32</td><td>28</td><td>11</td><td> 4</td><td> 7</td><td>21</td><td>16</td><td> 9</td><td>14</td><td>⋯</td><td>0.0006546645</td><td>0.0011456628</td><td>0.0034369885</td><td>0.0026186579</td><td>0.0014729951</td><td>0.0022913257</td><td>0.0024553937</td><td>0.46882673</td><td>Circadian rhythm sleep disorder                    </td><td>Neuro         </td></tr>\n",
       "\t<tr><td>phecode_679-2 </td><td> 19</td><td>17</td><td> 8</td><td>15</td><td>22</td><td>12</td><td>17</td><td>22</td><td>26</td><td>⋯</td><td>0.0024695423</td><td>0.0036219954</td><td>0.0019756338</td><td>0.0027992755</td><td>0.0036225918</td><td>0.0042812449</td><td>0.0014819694</td><td>0.47376221</td><td>Pallor and flushing                                </td><td>Derm          </td></tr>\n",
       "\t<tr><td>phecode_679-22</td><td> 21</td><td>17</td><td> 8</td><td> 3</td><td> 7</td><td>14</td><td> 6</td><td> 7</td><td> 5</td><td>⋯</td><td>0.0004930156</td><td>0.0011503698</td><td>0.0023007395</td><td>0.0009861933</td><td>0.0011505588</td><td>0.0008218277</td><td>0.0016436555</td><td>0.47626875</td><td>Flushing                                           </td><td>Derm          </td></tr>\n",
       "\t<tr><td>phecode_614-53</td><td> 20</td><td> 5</td><td> 4</td><td> 1</td><td> 3</td><td> 3</td><td> 7</td><td> 8</td><td>12</td><td>⋯</td><td>0.0002997602</td><td>0.0008992806</td><td>0.0008992806</td><td>0.0020983213</td><td>0.0023980815</td><td>0.0035982009</td><td>0.0029985007</td><td>0.50014993</td><td>Cyst or abscess of Bartholin's gland               </td><td>Genitourinary </td></tr>\n",
       "\t<tr><td>phecode_824   </td><td> 91</td><td>69</td><td>52</td><td>59</td><td>53</td><td>63</td><td>48</td><td>58</td><td>52</td><td>⋯</td><td>0.0096578818</td><td>0.0086757243</td><td>0.0103126535</td><td>0.0078572598</td><td>0.0094941889</td><td>0.0085120314</td><td>0.0075311067</td><td>0.50557726</td><td>Other abnormalities of plasma proteins*            </td><td>Signs/Symptoms</td></tr>\n",
       "\t<tr><td>phecode_352-3 </td><td> 31</td><td>36</td><td>15</td><td>19</td><td>16</td><td>17</td><td>14</td><td>19</td><td>22</td><td>⋯</td><td>0.0031030541</td><td>0.0026130982</td><td>0.0027764168</td><td>0.0022864609</td><td>0.0031030541</td><td>0.0035930100</td><td>0.0026135250</td><td>0.51621334</td><td>Parageusia*                                        </td><td>Neuro         </td></tr>\n",
       "\t<tr><td>phecode_603-1 </td><td> 47</td><td>39</td><td>61</td><td>58</td><td>31</td><td>24</td><td>32</td><td>27</td><td>28</td><td>⋯</td><td>0.0212065814</td><td>0.0113345521</td><td>0.0087751371</td><td>0.0117001828</td><td>0.0098720293</td><td>0.0102376600</td><td>0.0091407678</td><td>0.53210938</td><td>Hydrocele                                          </td><td>Genitourinary </td></tr>\n",
       "\t<tr><td>phecode_471-2 </td><td> 57</td><td>60</td><td>66</td><td>48</td><td>48</td><td>63</td><td>51</td><td>63</td><td>51</td><td>⋯</td><td>0.0079220994</td><td>0.0079220994</td><td>0.0103977554</td><td>0.0084172306</td><td>0.0103977554</td><td>0.0084172306</td><td>0.0052813996</td><td>0.56140351</td><td>Deviated nasal septum                              </td><td>Resp          </td></tr>\n",
       "\t<tr><td>phecode_829-2 </td><td> 64</td><td>61</td><td>60</td><td>67</td><td>71</td><td>61</td><td>67</td><td>60</td><td>51</td><td>⋯</td><td>0.0109584560</td><td>0.0116126922</td><td>0.0099771017</td><td>0.0109584560</td><td>0.0098151480</td><td>0.0083428758</td><td>0.0058890888</td><td>0.56259202</td><td>Abnormal level of blood mineral*                   </td><td>Signs/Symptoms</td></tr>\n",
       "\t<tr><td>⋮</td><td>⋮</td><td>⋮</td><td>⋮</td><td>⋮</td><td>⋮</td><td>⋮</td><td>⋮</td><td>⋮</td><td>⋮</td><td>⋱</td><td>⋮</td><td>⋮</td><td>⋮</td><td>⋮</td><td>⋮</td><td>⋮</td><td>⋮</td><td>⋮</td><td>⋮</td><td>⋮</td></tr>\n",
       "\t<tr><td>phecode_552-1 </td><td>0</td><td> 0</td><td> 3</td><td>22</td><td> 13</td><td> 23</td><td> 14</td><td> 13</td><td> 38</td><td>⋯</td><td>0.0035930100</td><td>0.0021234891</td><td>0.0037569422</td><td>0.0022868344</td><td>0.0021234891</td><td>0.0062071219</td><td>0.0027768703</td><td>Inf</td><td>Cholangitis                                                                </td><td>GI            </td></tr>\n",
       "\t<tr><td>phecode_552-2 </td><td>0</td><td> 0</td><td>17</td><td>24</td><td> 17</td><td>  5</td><td>  5</td><td> 11</td><td> 43</td><td>⋯</td><td>0.0039202875</td><td>0.0027768703</td><td>0.0008167266</td><td>0.0008167266</td><td>0.0017967984</td><td>0.0070238484</td><td>0.0111074812</td><td>Inf</td><td>Obstruction of bile duct                                                   </td><td>GI            </td></tr>\n",
       "\t<tr><td>phecode_554-2 </td><td>0</td><td> 2</td><td> 5</td><td>12</td><td> 12</td><td>  9</td><td>  6</td><td> 15</td><td> 21</td><td>⋯</td><td>0.0019601437</td><td>0.0019601437</td><td>0.0014701078</td><td>0.0009800719</td><td>0.0024505800</td><td>0.0034308120</td><td>0.0065348799</td><td>Inf</td><td>Cyst and pseudocyst of pancreas                                            </td><td>GI            </td></tr>\n",
       "\t<tr><td>phecode_588-2 </td><td>0</td><td> 2</td><td> 0</td><td> 3</td><td> 16</td><td> 10</td><td>  8</td><td> 26</td><td> 28</td><td>⋯</td><td>0.0004913200</td><td>0.0026203734</td><td>0.0016380016</td><td>0.0013104013</td><td>0.0042588043</td><td>0.0045864046</td><td>0.0076986077</td><td>Inf</td><td>Abnormal results of function study of kidney                               </td><td>Genitourinary </td></tr>\n",
       "\t<tr><td>phecode_592-12</td><td>0</td><td>11</td><td>13</td><td>21</td><td> 21</td><td> 14</td><td> 11</td><td> 12</td><td> 39</td><td>⋯</td><td>0.0034341783</td><td>0.0034341783</td><td>0.0022894522</td><td>0.0017988553</td><td>0.0019623876</td><td>0.0063777596</td><td>0.0065412919</td><td>Inf</td><td>Chronic cystitis                                                           </td><td>Genitourinary </td></tr>\n",
       "\t<tr><td>phecode_596-1 </td><td>0</td><td> 1</td><td> 6</td><td>20</td><td> 19</td><td> 19</td><td> 31</td><td> 48</td><td> 50</td><td>⋯</td><td>0.0032835331</td><td>0.0031193564</td><td>0.0031193564</td><td>0.0050903120</td><td>0.0078817734</td><td>0.0082101806</td><td>0.0241379310</td><td>Inf</td><td>Bladder neck obstruction                                                   </td><td>Genitourinary </td></tr>\n",
       "\t<tr><td>phecode_608-1 </td><td>0</td><td> 8</td><td>41</td><td>86</td><td>118</td><td>171</td><td>232</td><td>322</td><td>360</td><td>⋯</td><td>0.0141867371</td><td>0.0194655229</td><td>0.0282085120</td><td>0.0382711976</td><td>0.0531177829</td><td>0.0593961393</td><td>0.0562613430</td><td>Inf</td><td>Abnormal findings in semen                                                 </td><td>Genitourinary </td></tr>\n",
       "\t<tr><td>phecode_620   </td><td>0</td><td> 9</td><td> 7</td><td> 5</td><td>  5</td><td> 11</td><td> 11</td><td> 28</td><td> 35</td><td>⋯</td><td>0.0015513497</td><td>0.0015513497</td><td>0.0034140286</td><td>0.0034140286</td><td>0.0086902545</td><td>0.0108628181</td><td>0.0105524519</td><td>Inf</td><td>Dysplasia of female genital organs                                         </td><td>Genitourinary </td></tr>\n",
       "\t<tr><td>phecode_626-14</td><td>0</td><td> 0</td><td> 0</td><td> 0</td><td>  3</td><td> 20</td><td> 72</td><td> 78</td><td> 90</td><td>⋯</td><td>0.0000000000</td><td>0.0009342884</td><td>0.0062285892</td><td>0.0224229212</td><td>0.0242990654</td><td>0.0280373832</td><td>0.0489096573</td><td>Inf</td><td>Irregular menstrual bleeding                                               </td><td>Genitourinary </td></tr>\n",
       "\t<tr><td>phecode_626-2 </td><td>0</td><td> 0</td><td> 0</td><td> 0</td><td>  0</td><td>  0</td><td>  0</td><td>  0</td><td>  1</td><td>⋯</td><td>0.0000000000</td><td>0.0000000000</td><td>0.0000000000</td><td>0.0000000000</td><td>0.0000000000</td><td>0.0003089280</td><td>0.0083436341</td><td>Inf</td><td>Dysmenorrhea                                                               </td><td>Genitourinary </td></tr>\n",
       "\t<tr><td>phecode_666-2 </td><td>0</td><td> 1</td><td> 6</td><td> 8</td><td>  8</td><td> 10</td><td> 11</td><td> 12</td><td> 11</td><td>⋯</td><td>0.0013069760</td><td>0.0013069760</td><td>0.0016339869</td><td>0.0017973856</td><td>0.0019607843</td><td>0.0017973856</td><td>0.0016339869</td><td>Inf</td><td>Idiopathic urticaria                                                       </td><td>Derm          </td></tr>\n",
       "\t<tr><td>phecode_679-21</td><td>0</td><td> 1</td><td> 3</td><td> 6</td><td>  6</td><td> 14</td><td>  7</td><td> 16</td><td> 12</td><td>⋯</td><td>0.0009811938</td><td>0.0009811938</td><td>0.0022894522</td><td>0.0011449133</td><td>0.0026169447</td><td>0.0019627085</td><td>0.0014720314</td><td>Inf</td><td>Pallor                                                                     </td><td>Derm          </td></tr>\n",
       "\t<tr><td>phecode_679-7 </td><td>0</td><td> 1</td><td> 2</td><td>14</td><td> 20</td><td> 28</td><td> 32</td><td> 35</td><td> 36</td><td>⋯</td><td>0.0022879555</td><td>0.0032690422</td><td>0.0045766590</td><td>0.0052304675</td><td>0.0057208238</td><td>0.0058842759</td><td>0.0068649886</td><td>Inf</td><td>Abnormal granulation tissue, NOS                                           </td><td>Derm          </td></tr>\n",
       "\t<tr><td>phecode_685-4 </td><td>0</td><td> 8</td><td>18</td><td>14</td><td> 11</td><td>  9</td><td>  7</td><td>  6</td><td>  7</td><td>⋯</td><td>0.0022943297</td><td>0.0018026876</td><td>0.0014749263</td><td>0.0011471649</td><td>0.0009832842</td><td>0.0011471649</td><td>0.0001638807</td><td>Inf</td><td>Prickly heat and miliaria                                                  </td><td>Derm          </td></tr>\n",
       "\t<tr><td>phecode_704-5 </td><td>0</td><td> 0</td><td> 0</td><td> 3</td><td> 12</td><td> 25</td><td>  8</td><td>  9</td><td> 38</td><td>⋯</td><td>0.0004899559</td><td>0.0019598236</td><td>0.0040829659</td><td>0.0013067625</td><td>0.0014701078</td><td>0.0062071219</td><td>0.0034302516</td><td>Inf</td><td>Giant cell arteritis                                                       </td><td>Musc/Skel     </td></tr>\n",
       "\t<tr><td>phecode_705-3 </td><td>0</td><td>14</td><td>44</td><td>47</td><td> 75</td><td> 71</td><td>103</td><td>159</td><td>177</td><td>⋯</td><td>0.0076948265</td><td>0.0122789784</td><td>0.0116240995</td><td>0.0168658916</td><td>0.0260356967</td><td>0.0289831341</td><td>0.0356967414</td><td>Inf</td><td>Polymyalgia rheumatica                                                     </td><td>Musc/Skel     </td></tr>\n",
       "\t<tr><td>phecode_706-1 </td><td>0</td><td> 0</td><td> 6</td><td> 4</td><td>  4</td><td> 16</td><td> 17</td><td> 28</td><td> 20</td><td>⋯</td><td>0.0006540222</td><td>0.0006540222</td><td>0.0026160889</td><td>0.0027795945</td><td>0.0045781557</td><td>0.0032701112</td><td>0.0021255723</td><td>Inf</td><td>Sacroiliitis NEC                                                           </td><td>Musc/Skel     </td></tr>\n",
       "\t<tr><td>phecode_708-15</td><td>0</td><td> 0</td><td>17</td><td>17</td><td> 13</td><td> 11</td><td> 24</td><td> 16</td><td> 31</td><td>⋯</td><td>0.0027791401</td><td>0.0021252248</td><td>0.0017982671</td><td>0.0039234919</td><td>0.0026156613</td><td>0.0050678437</td><td>0.0032701112</td><td>Inf</td><td>Primary osteoarthritis of the wrist, forearm                               </td><td>Musc/Skel     </td></tr>\n",
       "\t<tr><td>phecode_708-8 </td><td>0</td><td> 3</td><td>33</td><td>57</td><td> 35</td><td> 23</td><td> 44</td><td> 41</td><td> 69</td><td>⋯</td><td>0.0093366093</td><td>0.0057330057</td><td>0.0037680210</td><td>0.0072083879</td><td>0.0067169069</td><td>0.0113040629</td><td>0.0109764089</td><td>Inf</td><td>Secondary osteoarthritis                                                   </td><td>Musc/Skel     </td></tr>\n",
       "\t<tr><td>phecode_712-5 </td><td>0</td><td> 4</td><td> 4</td><td> 9</td><td> 14</td><td> 20</td><td> 16</td><td> 17</td><td> 26</td><td>⋯</td><td>0.0014717907</td><td>0.0022894522</td><td>0.0032706460</td><td>0.0026165168</td><td>0.0027805038</td><td>0.0042525352</td><td>0.0037618580</td><td>Inf</td><td>Disorder of ligament                                                       </td><td>Musc/Skel     </td></tr>\n",
       "\t<tr><td>phecode_726-2 </td><td>0</td><td> 0</td><td> 2</td><td>20</td><td> 14</td><td> 19</td><td> 36</td><td> 45</td><td> 64</td><td>⋯</td><td>0.0032733224</td><td>0.0022913257</td><td>0.0031096563</td><td>0.0058919804</td><td>0.0073649755</td><td>0.0104763464</td><td>0.0070387952</td><td>Inf</td><td>Pathologic fracture                                                        </td><td>Musc/Skel     </td></tr>\n",
       "\t<tr><td>phecode_727-1 </td><td>0</td><td>30</td><td>12</td><td> 4</td><td>  2</td><td>  5</td><td>  4</td><td>  3</td><td>  6</td><td>⋯</td><td>0.0006533812</td><td>0.0003266906</td><td>0.0008167266</td><td>0.0006533812</td><td>0.0004900359</td><td>0.0009800719</td><td>0.0017967984</td><td>Inf</td><td>Osteonecrosis                                                              </td><td>Musc/Skel     </td></tr>\n",
       "\t<tr><td>phecode_807-11</td><td>0</td><td> 3</td><td> 9</td><td>13</td><td> 19</td><td> 18</td><td> 11</td><td> 14</td><td> 24</td><td>⋯</td><td>0.0021371034</td><td>0.0031234588</td><td>0.0029590663</td><td>0.0018083183</td><td>0.0023014960</td><td>0.0039454217</td><td>0.0044385994</td><td>Inf</td><td>Postviral fatigue syndrome*                                                </td><td>Signs/Symptoms</td></tr>\n",
       "\t<tr><td>phecode_814   </td><td>0</td><td>21</td><td>26</td><td>16</td><td> 20</td><td> 11</td><td> 13</td><td> 18</td><td> 39</td><td>⋯</td><td>0.0026165168</td><td>0.0032706460</td><td>0.0017988553</td><td>0.0021259199</td><td>0.0029435814</td><td>0.0063777596</td><td>0.0096484056</td><td>Inf</td><td>Jaundice (not of newborn)                                                  </td><td>Signs/Symptoms</td></tr>\n",
       "\t<tr><td>phecode_817   </td><td>0</td><td> 4</td><td> 9</td><td> 3</td><td>  2</td><td>  8</td><td> 10</td><td> 16</td><td> 13</td><td>⋯</td><td>0.0004901160</td><td>0.0003267440</td><td>0.0013069760</td><td>0.0016337200</td><td>0.0026139520</td><td>0.0021238360</td><td>0.0008168600</td><td>Inf</td><td>Motion sickness                                                            </td><td>Signs/Symptoms</td></tr>\n",
       "\t<tr><td>phecode_820   </td><td>0</td><td> 1</td><td> 4</td><td>13</td><td> 12</td><td> 22</td><td> 22</td><td> 29</td><td> 28</td><td>⋯</td><td>0.0021314970</td><td>0.0019678583</td><td>0.0036077402</td><td>0.0036077402</td><td>0.0047556576</td><td>0.0045916694</td><td>0.0068875041</td><td>Inf</td><td>Elevated erythrocyte sedimentation rate and abnormality of plasma viscosity</td><td>Signs/Symptoms</td></tr>\n",
       "\t<tr><td>phecode_841-13</td><td>0</td><td> 4</td><td>15</td><td>12</td><td>  2</td><td>  3</td><td> 10</td><td> 36</td><td> 38</td><td>⋯</td><td>0.0019617460</td><td>0.0003269577</td><td>0.0004904365</td><td>0.0016347883</td><td>0.0058852379</td><td>0.0062121955</td><td>0.0071930685</td><td>Inf</td><td>Allergy to sulfonamides                                                    </td><td>Signs/Symptoms</td></tr>\n",
       "\t<tr><td>phecode_977-51</td><td>0</td><td> 3</td><td>11</td><td> 8</td><td>  1</td><td>  1</td><td> 12</td><td> 24</td><td> 29</td><td>⋯</td><td>0.0024798512</td><td>0.0003099814</td><td>0.0003099814</td><td>0.0037197768</td><td>0.0074395536</td><td>0.0089894606</td><td>0.0285182889</td><td>Inf</td><td>Long term (current) use of hormonal contraceptives                         </td><td>Rx            </td></tr>\n",
       "\t<tr><td>phecode_977-52</td><td>0</td><td>13</td><td>20</td><td>37</td><td> 42</td><td> 53</td><td> 60</td><td> 65</td><td> 76</td><td>⋯</td><td>0.0115951113</td><td>0.0131620182</td><td>0.0166092134</td><td>0.0188028831</td><td>0.0203697900</td><td>0.0238169853</td><td>0.0385459104</td><td>Inf</td><td>Hormone replacement therapy (postmenopausal)                               </td><td>Rx            </td></tr>\n",
       "\t<tr><td>phecode_665-2 </td><td>0</td><td> 1</td><td> 3</td><td> 4</td><td>  6</td><td>  4</td><td>  5</td><td>  5</td><td>  5</td><td>⋯</td><td>0.0006554154</td><td>0.0009831231</td><td>0.0006554154</td><td>0.0008192692</td><td>0.0008192692</td><td>0.0008192692</td><td>0.0000000000</td><td>NaN</td><td>Psoriatic arthropathy                                                      </td><td>Derm          </td></tr>\n",
       "</tbody>\n",
       "</table>\n"
      ],
      "text/latex": [
       "A tibble: 1170 × 24\n",
       "\\begin{tabular}{lllllllllllllllllllll}\n",
       " endpoint & n\\_1 & n\\_2 & n\\_3 & n\\_4 & n\\_5 & n\\_6 & n\\_7 & n\\_8 & n\\_9 & ⋯ & event\\_rate\\_4 & event\\_rate\\_5 & event\\_rate\\_6 & event\\_rate\\_7 & event\\_rate\\_8 & event\\_rate\\_9 & event\\_rate\\_10 & event\\_rate\\_ratio & endpoint\\_string & phecode\\_category\\\\\n",
       " <chr> & <int> & <int> & <int> & <int> & <int> & <int> & <int> & <int> & <int> & ⋯ & <dbl> & <dbl> & <dbl> & <dbl> & <dbl> & <dbl> & <dbl> & <dbl> & <fct> & <chr>\\\\\n",
       "\\hline\n",
       "\t phecode\\_110    &   3 & 11 & 22 & 16 & 24 & 17 & 11 & 11 &  2 & ⋯ & 0.0026148063 & 0.0039222095 & 0.0027782317 & 0.0017976794 & 0.0017976794 & 0.0003268508 & 0.0000000000 & 0.00000000 & Malignant neoplasm of the endocrine glands          & Neoplasms     \\\\\n",
       "\t phecode\\_466-4  &   2 &  6 &  6 & 13 & 14 & 21 & 15 &  9 &  2 & ⋯ & 0.0021241830 & 0.0022875817 & 0.0034313725 & 0.0024509804 & 0.0014708286 & 0.0003268508 & 0.0000000000 & 0.00000000 & Hypertrophy of tonsils and adenoids                 & Resp          \\\\\n",
       "\t phecode\\_703-2  &  14 &  5 &  0 &  9 & 21 & 14 & 15 & 10 &  3 & ⋯ & 0.0014703480 & 0.0034308120 & 0.0022872080 & 0.0024505800 & 0.0016337200 & 0.0004901160 & 0.0001633720 & 0.07142857 & Chondrocalcinosis                                   & Musc/Skel     \\\\\n",
       "\t phecode\\_367-21 &  36 & 16 & 14 & 16 &  3 & 12 &  8 &  9 & 11 & ⋯ & 0.0026169447 & 0.0004906771 & 0.0019627085 & 0.0013086864 & 0.0014722722 & 0.0017994438 & 0.0006543432 & 0.11112929 & Corneal ulcer                                       & Eye           \\\\\n",
       "\t phecode\\_525-3  &   8 & 14 &  3 &  2 &  0 &  1 &  3 &  6 &  6 & ⋯ & 0.0003269577 & 0.0000000000 & 0.0001635056 & 0.0004905167 & 0.0009810334 & 0.0009810334 & 0.0001635056 & 0.12502044 & Disorders of intestinal carbohydrate absorption     & GI            \\\\\n",
       "\t phecode\\_668-6  &  36 & 14 &  9 &  8 & 15 & 25 & 31 & 20 &  9 & ⋯ & 0.0013065491 & 0.0024501797 & 0.0040836328 & 0.0050637047 & 0.0032669062 & 0.0014701078 & 0.0009800719 & 0.16669389 & Prurigo                                             & Derm          \\\\\n",
       "\t phecode\\_139-3  &  15 & 15 & 15 & 12 &  9 &  8 &  5 &  7 &  9 & ⋯ & 0.0019659240 & 0.0014744430 & 0.0013106160 & 0.0008192692 & 0.0011469769 & 0.0014746846 & 0.0004915615 & 0.20003277 & Benign neoplasm of other connective and soft tissue & Neoplasms     \\\\\n",
       "\t phecode\\_290-1  &  21 & 27 & 25 & 10 & 17 & 12 & 20 & 33 & 20 & ⋯ & 0.0016369291 & 0.0027827795 & 0.0019643149 & 0.0032738582 & 0.0054018661 & 0.0032738582 & 0.0008185986 & 0.23813422 & Posttraumatic stress disorder                       & Mental        \\\\\n",
       "\t phecode\\_710-31 &   7 & 13 &  6 &  0 &  2 &  6 &  6 &  9 & 13 & ⋯ & 0.0000000000 & 0.0003273858 & 0.0009821575 & 0.0009821575 & 0.0014732362 & 0.0021280079 & 0.0003274394 & 0.28576106 & Genu valgum (acquired)                              & Musc/Skel     \\\\\n",
       "\t phecode\\_086    &  48 & 39 & 21 & 23 & 37 & 16 & 20 & 28 & 21 & ⋯ & 0.0037891269 & 0.0060955519 & 0.0026359143 & 0.0032948929 & 0.0046128501 & 0.0034596376 & 0.0023064250 & 0.29166667 & Pediculosis, acariasis and other infestations       & ID            \\\\\n",
       "\t phecode\\_721-4  &  30 &  7 &  9 & 10 & 12 & 16 & 12 & 16 & 22 & ⋯ & 0.0016342540 & 0.0019611048 & 0.0026148063 & 0.0019611048 & 0.0026152337 & 0.0035959464 & 0.0014710690 & 0.30004904 & Calcium deposits in tendon and bursa                & Musc/Skel     \\\\\n",
       "\t phecode\\_532-1  &  10 &  9 &  9 & 20 & 24 & 17 & 20 & 25 & 21 & ⋯ & 0.0032760033 & 0.0039312039 & 0.0027846028 & 0.0032760033 & 0.0040956750 & 0.0034403670 & 0.0004914810 & 0.30004915 & Intestinal fistula                                  & GI            \\\\\n",
       "\t phecode\\_733-62 &  18 & 18 &  4 &  9 & 10 &  8 & 14 & 11 &  6 & ⋯ & 0.0014773473 & 0.0016414970 & 0.0013131976 & 0.0022984732 & 0.0018059432 & 0.0009850599 & 0.0009850599 & 0.33338806 & Arthralgia of temporomandibular joint               & Musc/Skel     \\\\\n",
       "\t phecode\\_367-12 &  59 & 25 & 23 & 42 & 39 & 38 & 49 & 44 & 38 & ⋯ & 0.0069467416 & 0.0064505458 & 0.0062861869 & 0.0081058726 & 0.0072787428 & 0.0062861869 & 0.0036393714 & 0.37294304 & Allergic {[}atopic{]} conjunctivitis                    & Eye           \\\\\n",
       "\t phecode\\_379-21 &  16 &  9 & 16 & 17 & 45 & 34 & 27 & 23 & 24 & ⋯ & 0.0027805038 & 0.0073601570 & 0.0055610075 & 0.0044160942 & 0.0037624734 & 0.0039260592 & 0.0009815148 & 0.37506134 & Infection of the eye, herpes                        & Eye           \\\\\n",
       "\t phecode\\_239-12 &  34 & 22 & 21 & 17 & 13 & 17 & 22 & 36 & 17 & ⋯ & 0.0027818688 & 0.0021276596 & 0.0027823241 & 0.0036006547 & 0.0058919804 & 0.0027823241 & 0.0021276596 & 0.38241552 & Familial hypercholesterolemia*                      & Metab         \\\\\n",
       "\t phecode\\_325-1  &  12 & 14 & 12 & 17 & 12 & 18 & 13 & 16 &  9 & ⋯ & 0.0027791401 & 0.0019617460 & 0.0029426189 & 0.0021252248 & 0.0026156613 & 0.0014713095 & 0.0008173941 & 0.41673478 & Abnormal involuntary movements                      & Neuro         \\\\\n",
       "\t phecode\\_688-3  &  14 & 25 & 17 & 28 & 18 & 11 & 15 & 11 & 22 & ⋯ & 0.0045871560 & 0.0029488860 & 0.0018020970 & 0.0024574050 & 0.0018020970 & 0.0036047845 & 0.0009831231 & 0.42864165 & Pyogenic granuloma of skin and subcutaneous tissue  & Derm          \\\\\n",
       "\t phecode\\_660-21 & 106 & 69 & 76 & 51 & 56 & 54 & 55 & 42 & 47 & ⋯ & 0.0084423109 & 0.0092699884 & 0.0089389174 & 0.0091044529 & 0.0069524913 & 0.0077801688 & 0.0077801688 & 0.44339623 & Impetigo                                            & Derm          \\\\\n",
       "\t phecode\\_367-2  &  40 & 24 & 45 & 53 & 43 & 50 & 50 & 40 & 39 & ⋯ & 0.0087056505 & 0.0070642353 & 0.0082142270 & 0.0082142270 & 0.0065713816 & 0.0064070971 & 0.0029571217 & 0.45007393 & Keratitis                                           & Eye           \\\\\n",
       "\t phecode\\_660-2  & 118 & 88 & 74 & 72 & 72 & 56 & 53 & 54 & 47 & ⋯ & 0.0119402985 & 0.0119402985 & 0.0092868988 & 0.0087893864 & 0.0089552239 & 0.0077943615 & 0.0089552239 & 0.45770301 & Bacterial infection of the skin                     & Derm          \\\\\n",
       "\t phecode\\_333-4  &  32 & 28 & 11 &  4 &  7 & 21 & 16 &  9 & 14 & ⋯ & 0.0006546645 & 0.0011456628 & 0.0034369885 & 0.0026186579 & 0.0014729951 & 0.0022913257 & 0.0024553937 & 0.46882673 & Circadian rhythm sleep disorder                     & Neuro         \\\\\n",
       "\t phecode\\_679-2  &  19 & 17 &  8 & 15 & 22 & 12 & 17 & 22 & 26 & ⋯ & 0.0024695423 & 0.0036219954 & 0.0019756338 & 0.0027992755 & 0.0036225918 & 0.0042812449 & 0.0014819694 & 0.47376221 & Pallor and flushing                                 & Derm          \\\\\n",
       "\t phecode\\_679-22 &  21 & 17 &  8 &  3 &  7 & 14 &  6 &  7 &  5 & ⋯ & 0.0004930156 & 0.0011503698 & 0.0023007395 & 0.0009861933 & 0.0011505588 & 0.0008218277 & 0.0016436555 & 0.47626875 & Flushing                                            & Derm          \\\\\n",
       "\t phecode\\_614-53 &  20 &  5 &  4 &  1 &  3 &  3 &  7 &  8 & 12 & ⋯ & 0.0002997602 & 0.0008992806 & 0.0008992806 & 0.0020983213 & 0.0023980815 & 0.0035982009 & 0.0029985007 & 0.50014993 & Cyst or abscess of Bartholin's gland                & Genitourinary \\\\\n",
       "\t phecode\\_824    &  91 & 69 & 52 & 59 & 53 & 63 & 48 & 58 & 52 & ⋯ & 0.0096578818 & 0.0086757243 & 0.0103126535 & 0.0078572598 & 0.0094941889 & 0.0085120314 & 0.0075311067 & 0.50557726 & Other abnormalities of plasma proteins*             & Signs/Symptoms\\\\\n",
       "\t phecode\\_352-3  &  31 & 36 & 15 & 19 & 16 & 17 & 14 & 19 & 22 & ⋯ & 0.0031030541 & 0.0026130982 & 0.0027764168 & 0.0022864609 & 0.0031030541 & 0.0035930100 & 0.0026135250 & 0.51621334 & Parageusia*                                         & Neuro         \\\\\n",
       "\t phecode\\_603-1  &  47 & 39 & 61 & 58 & 31 & 24 & 32 & 27 & 28 & ⋯ & 0.0212065814 & 0.0113345521 & 0.0087751371 & 0.0117001828 & 0.0098720293 & 0.0102376600 & 0.0091407678 & 0.53210938 & Hydrocele                                           & Genitourinary \\\\\n",
       "\t phecode\\_471-2  &  57 & 60 & 66 & 48 & 48 & 63 & 51 & 63 & 51 & ⋯ & 0.0079220994 & 0.0079220994 & 0.0103977554 & 0.0084172306 & 0.0103977554 & 0.0084172306 & 0.0052813996 & 0.56140351 & Deviated nasal septum                               & Resp          \\\\\n",
       "\t phecode\\_829-2  &  64 & 61 & 60 & 67 & 71 & 61 & 67 & 60 & 51 & ⋯ & 0.0109584560 & 0.0116126922 & 0.0099771017 & 0.0109584560 & 0.0098151480 & 0.0083428758 & 0.0058890888 & 0.56259202 & Abnormal level of blood mineral*                    & Signs/Symptoms\\\\\n",
       "\t ⋮ & ⋮ & ⋮ & ⋮ & ⋮ & ⋮ & ⋮ & ⋮ & ⋮ & ⋮ & ⋱ & ⋮ & ⋮ & ⋮ & ⋮ & ⋮ & ⋮ & ⋮ & ⋮ & ⋮ & ⋮\\\\\n",
       "\t phecode\\_552-1  & 0 &  0 &  3 & 22 &  13 &  23 &  14 &  13 &  38 & ⋯ & 0.0035930100 & 0.0021234891 & 0.0037569422 & 0.0022868344 & 0.0021234891 & 0.0062071219 & 0.0027768703 & Inf & Cholangitis                                                                 & GI            \\\\\n",
       "\t phecode\\_552-2  & 0 &  0 & 17 & 24 &  17 &   5 &   5 &  11 &  43 & ⋯ & 0.0039202875 & 0.0027768703 & 0.0008167266 & 0.0008167266 & 0.0017967984 & 0.0070238484 & 0.0111074812 & Inf & Obstruction of bile duct                                                    & GI            \\\\\n",
       "\t phecode\\_554-2  & 0 &  2 &  5 & 12 &  12 &   9 &   6 &  15 &  21 & ⋯ & 0.0019601437 & 0.0019601437 & 0.0014701078 & 0.0009800719 & 0.0024505800 & 0.0034308120 & 0.0065348799 & Inf & Cyst and pseudocyst of pancreas                                             & GI            \\\\\n",
       "\t phecode\\_588-2  & 0 &  2 &  0 &  3 &  16 &  10 &   8 &  26 &  28 & ⋯ & 0.0004913200 & 0.0026203734 & 0.0016380016 & 0.0013104013 & 0.0042588043 & 0.0045864046 & 0.0076986077 & Inf & Abnormal results of function study of kidney                                & Genitourinary \\\\\n",
       "\t phecode\\_592-12 & 0 & 11 & 13 & 21 &  21 &  14 &  11 &  12 &  39 & ⋯ & 0.0034341783 & 0.0034341783 & 0.0022894522 & 0.0017988553 & 0.0019623876 & 0.0063777596 & 0.0065412919 & Inf & Chronic cystitis                                                            & Genitourinary \\\\\n",
       "\t phecode\\_596-1  & 0 &  1 &  6 & 20 &  19 &  19 &  31 &  48 &  50 & ⋯ & 0.0032835331 & 0.0031193564 & 0.0031193564 & 0.0050903120 & 0.0078817734 & 0.0082101806 & 0.0241379310 & Inf & Bladder neck obstruction                                                    & Genitourinary \\\\\n",
       "\t phecode\\_608-1  & 0 &  8 & 41 & 86 & 118 & 171 & 232 & 322 & 360 & ⋯ & 0.0141867371 & 0.0194655229 & 0.0282085120 & 0.0382711976 & 0.0531177829 & 0.0593961393 & 0.0562613430 & Inf & Abnormal findings in semen                                                  & Genitourinary \\\\\n",
       "\t phecode\\_620    & 0 &  9 &  7 &  5 &   5 &  11 &  11 &  28 &  35 & ⋯ & 0.0015513497 & 0.0015513497 & 0.0034140286 & 0.0034140286 & 0.0086902545 & 0.0108628181 & 0.0105524519 & Inf & Dysplasia of female genital organs                                          & Genitourinary \\\\\n",
       "\t phecode\\_626-14 & 0 &  0 &  0 &  0 &   3 &  20 &  72 &  78 &  90 & ⋯ & 0.0000000000 & 0.0009342884 & 0.0062285892 & 0.0224229212 & 0.0242990654 & 0.0280373832 & 0.0489096573 & Inf & Irregular menstrual bleeding                                                & Genitourinary \\\\\n",
       "\t phecode\\_626-2  & 0 &  0 &  0 &  0 &   0 &   0 &   0 &   0 &   1 & ⋯ & 0.0000000000 & 0.0000000000 & 0.0000000000 & 0.0000000000 & 0.0000000000 & 0.0003089280 & 0.0083436341 & Inf & Dysmenorrhea                                                                & Genitourinary \\\\\n",
       "\t phecode\\_666-2  & 0 &  1 &  6 &  8 &   8 &  10 &  11 &  12 &  11 & ⋯ & 0.0013069760 & 0.0013069760 & 0.0016339869 & 0.0017973856 & 0.0019607843 & 0.0017973856 & 0.0016339869 & Inf & Idiopathic urticaria                                                        & Derm          \\\\\n",
       "\t phecode\\_679-21 & 0 &  1 &  3 &  6 &   6 &  14 &   7 &  16 &  12 & ⋯ & 0.0009811938 & 0.0009811938 & 0.0022894522 & 0.0011449133 & 0.0026169447 & 0.0019627085 & 0.0014720314 & Inf & Pallor                                                                      & Derm          \\\\\n",
       "\t phecode\\_679-7  & 0 &  1 &  2 & 14 &  20 &  28 &  32 &  35 &  36 & ⋯ & 0.0022879555 & 0.0032690422 & 0.0045766590 & 0.0052304675 & 0.0057208238 & 0.0058842759 & 0.0068649886 & Inf & Abnormal granulation tissue, NOS                                            & Derm          \\\\\n",
       "\t phecode\\_685-4  & 0 &  8 & 18 & 14 &  11 &   9 &   7 &   6 &   7 & ⋯ & 0.0022943297 & 0.0018026876 & 0.0014749263 & 0.0011471649 & 0.0009832842 & 0.0011471649 & 0.0001638807 & Inf & Prickly heat and miliaria                                                   & Derm          \\\\\n",
       "\t phecode\\_704-5  & 0 &  0 &  0 &  3 &  12 &  25 &   8 &   9 &  38 & ⋯ & 0.0004899559 & 0.0019598236 & 0.0040829659 & 0.0013067625 & 0.0014701078 & 0.0062071219 & 0.0034302516 & Inf & Giant cell arteritis                                                        & Musc/Skel     \\\\\n",
       "\t phecode\\_705-3  & 0 & 14 & 44 & 47 &  75 &  71 & 103 & 159 & 177 & ⋯ & 0.0076948265 & 0.0122789784 & 0.0116240995 & 0.0168658916 & 0.0260356967 & 0.0289831341 & 0.0356967414 & Inf & Polymyalgia rheumatica                                                      & Musc/Skel     \\\\\n",
       "\t phecode\\_706-1  & 0 &  0 &  6 &  4 &   4 &  16 &  17 &  28 &  20 & ⋯ & 0.0006540222 & 0.0006540222 & 0.0026160889 & 0.0027795945 & 0.0045781557 & 0.0032701112 & 0.0021255723 & Inf & Sacroiliitis NEC                                                            & Musc/Skel     \\\\\n",
       "\t phecode\\_708-15 & 0 &  0 & 17 & 17 &  13 &  11 &  24 &  16 &  31 & ⋯ & 0.0027791401 & 0.0021252248 & 0.0017982671 & 0.0039234919 & 0.0026156613 & 0.0050678437 & 0.0032701112 & Inf & Primary osteoarthritis of the wrist, forearm                                & Musc/Skel     \\\\\n",
       "\t phecode\\_708-8  & 0 &  3 & 33 & 57 &  35 &  23 &  44 &  41 &  69 & ⋯ & 0.0093366093 & 0.0057330057 & 0.0037680210 & 0.0072083879 & 0.0067169069 & 0.0113040629 & 0.0109764089 & Inf & Secondary osteoarthritis                                                    & Musc/Skel     \\\\\n",
       "\t phecode\\_712-5  & 0 &  4 &  4 &  9 &  14 &  20 &  16 &  17 &  26 & ⋯ & 0.0014717907 & 0.0022894522 & 0.0032706460 & 0.0026165168 & 0.0027805038 & 0.0042525352 & 0.0037618580 & Inf & Disorder of ligament                                                        & Musc/Skel     \\\\\n",
       "\t phecode\\_726-2  & 0 &  0 &  2 & 20 &  14 &  19 &  36 &  45 &  64 & ⋯ & 0.0032733224 & 0.0022913257 & 0.0031096563 & 0.0058919804 & 0.0073649755 & 0.0104763464 & 0.0070387952 & Inf & Pathologic fracture                                                         & Musc/Skel     \\\\\n",
       "\t phecode\\_727-1  & 0 & 30 & 12 &  4 &   2 &   5 &   4 &   3 &   6 & ⋯ & 0.0006533812 & 0.0003266906 & 0.0008167266 & 0.0006533812 & 0.0004900359 & 0.0009800719 & 0.0017967984 & Inf & Osteonecrosis                                                               & Musc/Skel     \\\\\n",
       "\t phecode\\_807-11 & 0 &  3 &  9 & 13 &  19 &  18 &  11 &  14 &  24 & ⋯ & 0.0021371034 & 0.0031234588 & 0.0029590663 & 0.0018083183 & 0.0023014960 & 0.0039454217 & 0.0044385994 & Inf & Postviral fatigue syndrome*                                                 & Signs/Symptoms\\\\\n",
       "\t phecode\\_814    & 0 & 21 & 26 & 16 &  20 &  11 &  13 &  18 &  39 & ⋯ & 0.0026165168 & 0.0032706460 & 0.0017988553 & 0.0021259199 & 0.0029435814 & 0.0063777596 & 0.0096484056 & Inf & Jaundice (not of newborn)                                                   & Signs/Symptoms\\\\\n",
       "\t phecode\\_817    & 0 &  4 &  9 &  3 &   2 &   8 &  10 &  16 &  13 & ⋯ & 0.0004901160 & 0.0003267440 & 0.0013069760 & 0.0016337200 & 0.0026139520 & 0.0021238360 & 0.0008168600 & Inf & Motion sickness                                                             & Signs/Symptoms\\\\\n",
       "\t phecode\\_820    & 0 &  1 &  4 & 13 &  12 &  22 &  22 &  29 &  28 & ⋯ & 0.0021314970 & 0.0019678583 & 0.0036077402 & 0.0036077402 & 0.0047556576 & 0.0045916694 & 0.0068875041 & Inf & Elevated erythrocyte sedimentation rate and abnormality of plasma viscosity & Signs/Symptoms\\\\\n",
       "\t phecode\\_841-13 & 0 &  4 & 15 & 12 &   2 &   3 &  10 &  36 &  38 & ⋯ & 0.0019617460 & 0.0003269577 & 0.0004904365 & 0.0016347883 & 0.0058852379 & 0.0062121955 & 0.0071930685 & Inf & Allergy to sulfonamides                                                     & Signs/Symptoms\\\\\n",
       "\t phecode\\_977-51 & 0 &  3 & 11 &  8 &   1 &   1 &  12 &  24 &  29 & ⋯ & 0.0024798512 & 0.0003099814 & 0.0003099814 & 0.0037197768 & 0.0074395536 & 0.0089894606 & 0.0285182889 & Inf & Long term (current) use of hormonal contraceptives                          & Rx            \\\\\n",
       "\t phecode\\_977-52 & 0 & 13 & 20 & 37 &  42 &  53 &  60 &  65 &  76 & ⋯ & 0.0115951113 & 0.0131620182 & 0.0166092134 & 0.0188028831 & 0.0203697900 & 0.0238169853 & 0.0385459104 & Inf & Hormone replacement therapy (postmenopausal)                                & Rx            \\\\\n",
       "\t phecode\\_665-2  & 0 &  1 &  3 &  4 &   6 &   4 &   5 &   5 &   5 & ⋯ & 0.0006554154 & 0.0009831231 & 0.0006554154 & 0.0008192692 & 0.0008192692 & 0.0008192692 & 0.0000000000 & NaN & Psoriatic arthropathy                                                       & Derm          \\\\\n",
       "\\end{tabular}\n"
      ],
      "text/markdown": [
       "\n",
       "A tibble: 1170 × 24\n",
       "\n",
       "| endpoint &lt;chr&gt; | n_1 &lt;int&gt; | n_2 &lt;int&gt; | n_3 &lt;int&gt; | n_4 &lt;int&gt; | n_5 &lt;int&gt; | n_6 &lt;int&gt; | n_7 &lt;int&gt; | n_8 &lt;int&gt; | n_9 &lt;int&gt; | ⋯ ⋯ | event_rate_4 &lt;dbl&gt; | event_rate_5 &lt;dbl&gt; | event_rate_6 &lt;dbl&gt; | event_rate_7 &lt;dbl&gt; | event_rate_8 &lt;dbl&gt; | event_rate_9 &lt;dbl&gt; | event_rate_10 &lt;dbl&gt; | event_rate_ratio &lt;dbl&gt; | endpoint_string &lt;fct&gt; | phecode_category &lt;chr&gt; |\n",
       "|---|---|---|---|---|---|---|---|---|---|---|---|---|---|---|---|---|---|---|---|---|\n",
       "| phecode_110    |   3 | 11 | 22 | 16 | 24 | 17 | 11 | 11 |  2 | ⋯ | 0.0026148063 | 0.0039222095 | 0.0027782317 | 0.0017976794 | 0.0017976794 | 0.0003268508 | 0.0000000000 | 0.00000000 | Malignant neoplasm of the endocrine glands          | Neoplasms      |\n",
       "| phecode_466-4  |   2 |  6 |  6 | 13 | 14 | 21 | 15 |  9 |  2 | ⋯ | 0.0021241830 | 0.0022875817 | 0.0034313725 | 0.0024509804 | 0.0014708286 | 0.0003268508 | 0.0000000000 | 0.00000000 | Hypertrophy of tonsils and adenoids                 | Resp           |\n",
       "| phecode_703-2  |  14 |  5 |  0 |  9 | 21 | 14 | 15 | 10 |  3 | ⋯ | 0.0014703480 | 0.0034308120 | 0.0022872080 | 0.0024505800 | 0.0016337200 | 0.0004901160 | 0.0001633720 | 0.07142857 | Chondrocalcinosis                                   | Musc/Skel      |\n",
       "| phecode_367-21 |  36 | 16 | 14 | 16 |  3 | 12 |  8 |  9 | 11 | ⋯ | 0.0026169447 | 0.0004906771 | 0.0019627085 | 0.0013086864 | 0.0014722722 | 0.0017994438 | 0.0006543432 | 0.11112929 | Corneal ulcer                                       | Eye            |\n",
       "| phecode_525-3  |   8 | 14 |  3 |  2 |  0 |  1 |  3 |  6 |  6 | ⋯ | 0.0003269577 | 0.0000000000 | 0.0001635056 | 0.0004905167 | 0.0009810334 | 0.0009810334 | 0.0001635056 | 0.12502044 | Disorders of intestinal carbohydrate absorption     | GI             |\n",
       "| phecode_668-6  |  36 | 14 |  9 |  8 | 15 | 25 | 31 | 20 |  9 | ⋯ | 0.0013065491 | 0.0024501797 | 0.0040836328 | 0.0050637047 | 0.0032669062 | 0.0014701078 | 0.0009800719 | 0.16669389 | Prurigo                                             | Derm           |\n",
       "| phecode_139-3  |  15 | 15 | 15 | 12 |  9 |  8 |  5 |  7 |  9 | ⋯ | 0.0019659240 | 0.0014744430 | 0.0013106160 | 0.0008192692 | 0.0011469769 | 0.0014746846 | 0.0004915615 | 0.20003277 | Benign neoplasm of other connective and soft tissue | Neoplasms      |\n",
       "| phecode_290-1  |  21 | 27 | 25 | 10 | 17 | 12 | 20 | 33 | 20 | ⋯ | 0.0016369291 | 0.0027827795 | 0.0019643149 | 0.0032738582 | 0.0054018661 | 0.0032738582 | 0.0008185986 | 0.23813422 | Posttraumatic stress disorder                       | Mental         |\n",
       "| phecode_710-31 |   7 | 13 |  6 |  0 |  2 |  6 |  6 |  9 | 13 | ⋯ | 0.0000000000 | 0.0003273858 | 0.0009821575 | 0.0009821575 | 0.0014732362 | 0.0021280079 | 0.0003274394 | 0.28576106 | Genu valgum (acquired)                              | Musc/Skel      |\n",
       "| phecode_086    |  48 | 39 | 21 | 23 | 37 | 16 | 20 | 28 | 21 | ⋯ | 0.0037891269 | 0.0060955519 | 0.0026359143 | 0.0032948929 | 0.0046128501 | 0.0034596376 | 0.0023064250 | 0.29166667 | Pediculosis, acariasis and other infestations       | ID             |\n",
       "| phecode_721-4  |  30 |  7 |  9 | 10 | 12 | 16 | 12 | 16 | 22 | ⋯ | 0.0016342540 | 0.0019611048 | 0.0026148063 | 0.0019611048 | 0.0026152337 | 0.0035959464 | 0.0014710690 | 0.30004904 | Calcium deposits in tendon and bursa                | Musc/Skel      |\n",
       "| phecode_532-1  |  10 |  9 |  9 | 20 | 24 | 17 | 20 | 25 | 21 | ⋯ | 0.0032760033 | 0.0039312039 | 0.0027846028 | 0.0032760033 | 0.0040956750 | 0.0034403670 | 0.0004914810 | 0.30004915 | Intestinal fistula                                  | GI             |\n",
       "| phecode_733-62 |  18 | 18 |  4 |  9 | 10 |  8 | 14 | 11 |  6 | ⋯ | 0.0014773473 | 0.0016414970 | 0.0013131976 | 0.0022984732 | 0.0018059432 | 0.0009850599 | 0.0009850599 | 0.33338806 | Arthralgia of temporomandibular joint               | Musc/Skel      |\n",
       "| phecode_367-12 |  59 | 25 | 23 | 42 | 39 | 38 | 49 | 44 | 38 | ⋯ | 0.0069467416 | 0.0064505458 | 0.0062861869 | 0.0081058726 | 0.0072787428 | 0.0062861869 | 0.0036393714 | 0.37294304 | Allergic [atopic] conjunctivitis                    | Eye            |\n",
       "| phecode_379-21 |  16 |  9 | 16 | 17 | 45 | 34 | 27 | 23 | 24 | ⋯ | 0.0027805038 | 0.0073601570 | 0.0055610075 | 0.0044160942 | 0.0037624734 | 0.0039260592 | 0.0009815148 | 0.37506134 | Infection of the eye, herpes                        | Eye            |\n",
       "| phecode_239-12 |  34 | 22 | 21 | 17 | 13 | 17 | 22 | 36 | 17 | ⋯ | 0.0027818688 | 0.0021276596 | 0.0027823241 | 0.0036006547 | 0.0058919804 | 0.0027823241 | 0.0021276596 | 0.38241552 | Familial hypercholesterolemia*                      | Metab          |\n",
       "| phecode_325-1  |  12 | 14 | 12 | 17 | 12 | 18 | 13 | 16 |  9 | ⋯ | 0.0027791401 | 0.0019617460 | 0.0029426189 | 0.0021252248 | 0.0026156613 | 0.0014713095 | 0.0008173941 | 0.41673478 | Abnormal involuntary movements                      | Neuro          |\n",
       "| phecode_688-3  |  14 | 25 | 17 | 28 | 18 | 11 | 15 | 11 | 22 | ⋯ | 0.0045871560 | 0.0029488860 | 0.0018020970 | 0.0024574050 | 0.0018020970 | 0.0036047845 | 0.0009831231 | 0.42864165 | Pyogenic granuloma of skin and subcutaneous tissue  | Derm           |\n",
       "| phecode_660-21 | 106 | 69 | 76 | 51 | 56 | 54 | 55 | 42 | 47 | ⋯ | 0.0084423109 | 0.0092699884 | 0.0089389174 | 0.0091044529 | 0.0069524913 | 0.0077801688 | 0.0077801688 | 0.44339623 | Impetigo                                            | Derm           |\n",
       "| phecode_367-2  |  40 | 24 | 45 | 53 | 43 | 50 | 50 | 40 | 39 | ⋯ | 0.0087056505 | 0.0070642353 | 0.0082142270 | 0.0082142270 | 0.0065713816 | 0.0064070971 | 0.0029571217 | 0.45007393 | Keratitis                                           | Eye            |\n",
       "| phecode_660-2  | 118 | 88 | 74 | 72 | 72 | 56 | 53 | 54 | 47 | ⋯ | 0.0119402985 | 0.0119402985 | 0.0092868988 | 0.0087893864 | 0.0089552239 | 0.0077943615 | 0.0089552239 | 0.45770301 | Bacterial infection of the skin                     | Derm           |\n",
       "| phecode_333-4  |  32 | 28 | 11 |  4 |  7 | 21 | 16 |  9 | 14 | ⋯ | 0.0006546645 | 0.0011456628 | 0.0034369885 | 0.0026186579 | 0.0014729951 | 0.0022913257 | 0.0024553937 | 0.46882673 | Circadian rhythm sleep disorder                     | Neuro          |\n",
       "| phecode_679-2  |  19 | 17 |  8 | 15 | 22 | 12 | 17 | 22 | 26 | ⋯ | 0.0024695423 | 0.0036219954 | 0.0019756338 | 0.0027992755 | 0.0036225918 | 0.0042812449 | 0.0014819694 | 0.47376221 | Pallor and flushing                                 | Derm           |\n",
       "| phecode_679-22 |  21 | 17 |  8 |  3 |  7 | 14 |  6 |  7 |  5 | ⋯ | 0.0004930156 | 0.0011503698 | 0.0023007395 | 0.0009861933 | 0.0011505588 | 0.0008218277 | 0.0016436555 | 0.47626875 | Flushing                                            | Derm           |\n",
       "| phecode_614-53 |  20 |  5 |  4 |  1 |  3 |  3 |  7 |  8 | 12 | ⋯ | 0.0002997602 | 0.0008992806 | 0.0008992806 | 0.0020983213 | 0.0023980815 | 0.0035982009 | 0.0029985007 | 0.50014993 | Cyst or abscess of Bartholin's gland                | Genitourinary  |\n",
       "| phecode_824    |  91 | 69 | 52 | 59 | 53 | 63 | 48 | 58 | 52 | ⋯ | 0.0096578818 | 0.0086757243 | 0.0103126535 | 0.0078572598 | 0.0094941889 | 0.0085120314 | 0.0075311067 | 0.50557726 | Other abnormalities of plasma proteins*             | Signs/Symptoms |\n",
       "| phecode_352-3  |  31 | 36 | 15 | 19 | 16 | 17 | 14 | 19 | 22 | ⋯ | 0.0031030541 | 0.0026130982 | 0.0027764168 | 0.0022864609 | 0.0031030541 | 0.0035930100 | 0.0026135250 | 0.51621334 | Parageusia*                                         | Neuro          |\n",
       "| phecode_603-1  |  47 | 39 | 61 | 58 | 31 | 24 | 32 | 27 | 28 | ⋯ | 0.0212065814 | 0.0113345521 | 0.0087751371 | 0.0117001828 | 0.0098720293 | 0.0102376600 | 0.0091407678 | 0.53210938 | Hydrocele                                           | Genitourinary  |\n",
       "| phecode_471-2  |  57 | 60 | 66 | 48 | 48 | 63 | 51 | 63 | 51 | ⋯ | 0.0079220994 | 0.0079220994 | 0.0103977554 | 0.0084172306 | 0.0103977554 | 0.0084172306 | 0.0052813996 | 0.56140351 | Deviated nasal septum                               | Resp           |\n",
       "| phecode_829-2  |  64 | 61 | 60 | 67 | 71 | 61 | 67 | 60 | 51 | ⋯ | 0.0109584560 | 0.0116126922 | 0.0099771017 | 0.0109584560 | 0.0098151480 | 0.0083428758 | 0.0058890888 | 0.56259202 | Abnormal level of blood mineral*                    | Signs/Symptoms |\n",
       "| ⋮ | ⋮ | ⋮ | ⋮ | ⋮ | ⋮ | ⋮ | ⋮ | ⋮ | ⋮ | ⋱ | ⋮ | ⋮ | ⋮ | ⋮ | ⋮ | ⋮ | ⋮ | ⋮ | ⋮ | ⋮ |\n",
       "| phecode_552-1  | 0 |  0 |  3 | 22 |  13 |  23 |  14 |  13 |  38 | ⋯ | 0.0035930100 | 0.0021234891 | 0.0037569422 | 0.0022868344 | 0.0021234891 | 0.0062071219 | 0.0027768703 | Inf | Cholangitis                                                                 | GI             |\n",
       "| phecode_552-2  | 0 |  0 | 17 | 24 |  17 |   5 |   5 |  11 |  43 | ⋯ | 0.0039202875 | 0.0027768703 | 0.0008167266 | 0.0008167266 | 0.0017967984 | 0.0070238484 | 0.0111074812 | Inf | Obstruction of bile duct                                                    | GI             |\n",
       "| phecode_554-2  | 0 |  2 |  5 | 12 |  12 |   9 |   6 |  15 |  21 | ⋯ | 0.0019601437 | 0.0019601437 | 0.0014701078 | 0.0009800719 | 0.0024505800 | 0.0034308120 | 0.0065348799 | Inf | Cyst and pseudocyst of pancreas                                             | GI             |\n",
       "| phecode_588-2  | 0 |  2 |  0 |  3 |  16 |  10 |   8 |  26 |  28 | ⋯ | 0.0004913200 | 0.0026203734 | 0.0016380016 | 0.0013104013 | 0.0042588043 | 0.0045864046 | 0.0076986077 | Inf | Abnormal results of function study of kidney                                | Genitourinary  |\n",
       "| phecode_592-12 | 0 | 11 | 13 | 21 |  21 |  14 |  11 |  12 |  39 | ⋯ | 0.0034341783 | 0.0034341783 | 0.0022894522 | 0.0017988553 | 0.0019623876 | 0.0063777596 | 0.0065412919 | Inf | Chronic cystitis                                                            | Genitourinary  |\n",
       "| phecode_596-1  | 0 |  1 |  6 | 20 |  19 |  19 |  31 |  48 |  50 | ⋯ | 0.0032835331 | 0.0031193564 | 0.0031193564 | 0.0050903120 | 0.0078817734 | 0.0082101806 | 0.0241379310 | Inf | Bladder neck obstruction                                                    | Genitourinary  |\n",
       "| phecode_608-1  | 0 |  8 | 41 | 86 | 118 | 171 | 232 | 322 | 360 | ⋯ | 0.0141867371 | 0.0194655229 | 0.0282085120 | 0.0382711976 | 0.0531177829 | 0.0593961393 | 0.0562613430 | Inf | Abnormal findings in semen                                                  | Genitourinary  |\n",
       "| phecode_620    | 0 |  9 |  7 |  5 |   5 |  11 |  11 |  28 |  35 | ⋯ | 0.0015513497 | 0.0015513497 | 0.0034140286 | 0.0034140286 | 0.0086902545 | 0.0108628181 | 0.0105524519 | Inf | Dysplasia of female genital organs                                          | Genitourinary  |\n",
       "| phecode_626-14 | 0 |  0 |  0 |  0 |   3 |  20 |  72 |  78 |  90 | ⋯ | 0.0000000000 | 0.0009342884 | 0.0062285892 | 0.0224229212 | 0.0242990654 | 0.0280373832 | 0.0489096573 | Inf | Irregular menstrual bleeding                                                | Genitourinary  |\n",
       "| phecode_626-2  | 0 |  0 |  0 |  0 |   0 |   0 |   0 |   0 |   1 | ⋯ | 0.0000000000 | 0.0000000000 | 0.0000000000 | 0.0000000000 | 0.0000000000 | 0.0003089280 | 0.0083436341 | Inf | Dysmenorrhea                                                                | Genitourinary  |\n",
       "| phecode_666-2  | 0 |  1 |  6 |  8 |   8 |  10 |  11 |  12 |  11 | ⋯ | 0.0013069760 | 0.0013069760 | 0.0016339869 | 0.0017973856 | 0.0019607843 | 0.0017973856 | 0.0016339869 | Inf | Idiopathic urticaria                                                        | Derm           |\n",
       "| phecode_679-21 | 0 |  1 |  3 |  6 |   6 |  14 |   7 |  16 |  12 | ⋯ | 0.0009811938 | 0.0009811938 | 0.0022894522 | 0.0011449133 | 0.0026169447 | 0.0019627085 | 0.0014720314 | Inf | Pallor                                                                      | Derm           |\n",
       "| phecode_679-7  | 0 |  1 |  2 | 14 |  20 |  28 |  32 |  35 |  36 | ⋯ | 0.0022879555 | 0.0032690422 | 0.0045766590 | 0.0052304675 | 0.0057208238 | 0.0058842759 | 0.0068649886 | Inf | Abnormal granulation tissue, NOS                                            | Derm           |\n",
       "| phecode_685-4  | 0 |  8 | 18 | 14 |  11 |   9 |   7 |   6 |   7 | ⋯ | 0.0022943297 | 0.0018026876 | 0.0014749263 | 0.0011471649 | 0.0009832842 | 0.0011471649 | 0.0001638807 | Inf | Prickly heat and miliaria                                                   | Derm           |\n",
       "| phecode_704-5  | 0 |  0 |  0 |  3 |  12 |  25 |   8 |   9 |  38 | ⋯ | 0.0004899559 | 0.0019598236 | 0.0040829659 | 0.0013067625 | 0.0014701078 | 0.0062071219 | 0.0034302516 | Inf | Giant cell arteritis                                                        | Musc/Skel      |\n",
       "| phecode_705-3  | 0 | 14 | 44 | 47 |  75 |  71 | 103 | 159 | 177 | ⋯ | 0.0076948265 | 0.0122789784 | 0.0116240995 | 0.0168658916 | 0.0260356967 | 0.0289831341 | 0.0356967414 | Inf | Polymyalgia rheumatica                                                      | Musc/Skel      |\n",
       "| phecode_706-1  | 0 |  0 |  6 |  4 |   4 |  16 |  17 |  28 |  20 | ⋯ | 0.0006540222 | 0.0006540222 | 0.0026160889 | 0.0027795945 | 0.0045781557 | 0.0032701112 | 0.0021255723 | Inf | Sacroiliitis NEC                                                            | Musc/Skel      |\n",
       "| phecode_708-15 | 0 |  0 | 17 | 17 |  13 |  11 |  24 |  16 |  31 | ⋯ | 0.0027791401 | 0.0021252248 | 0.0017982671 | 0.0039234919 | 0.0026156613 | 0.0050678437 | 0.0032701112 | Inf | Primary osteoarthritis of the wrist, forearm                                | Musc/Skel      |\n",
       "| phecode_708-8  | 0 |  3 | 33 | 57 |  35 |  23 |  44 |  41 |  69 | ⋯ | 0.0093366093 | 0.0057330057 | 0.0037680210 | 0.0072083879 | 0.0067169069 | 0.0113040629 | 0.0109764089 | Inf | Secondary osteoarthritis                                                    | Musc/Skel      |\n",
       "| phecode_712-5  | 0 |  4 |  4 |  9 |  14 |  20 |  16 |  17 |  26 | ⋯ | 0.0014717907 | 0.0022894522 | 0.0032706460 | 0.0026165168 | 0.0027805038 | 0.0042525352 | 0.0037618580 | Inf | Disorder of ligament                                                        | Musc/Skel      |\n",
       "| phecode_726-2  | 0 |  0 |  2 | 20 |  14 |  19 |  36 |  45 |  64 | ⋯ | 0.0032733224 | 0.0022913257 | 0.0031096563 | 0.0058919804 | 0.0073649755 | 0.0104763464 | 0.0070387952 | Inf | Pathologic fracture                                                         | Musc/Skel      |\n",
       "| phecode_727-1  | 0 | 30 | 12 |  4 |   2 |   5 |   4 |   3 |   6 | ⋯ | 0.0006533812 | 0.0003266906 | 0.0008167266 | 0.0006533812 | 0.0004900359 | 0.0009800719 | 0.0017967984 | Inf | Osteonecrosis                                                               | Musc/Skel      |\n",
       "| phecode_807-11 | 0 |  3 |  9 | 13 |  19 |  18 |  11 |  14 |  24 | ⋯ | 0.0021371034 | 0.0031234588 | 0.0029590663 | 0.0018083183 | 0.0023014960 | 0.0039454217 | 0.0044385994 | Inf | Postviral fatigue syndrome*                                                 | Signs/Symptoms |\n",
       "| phecode_814    | 0 | 21 | 26 | 16 |  20 |  11 |  13 |  18 |  39 | ⋯ | 0.0026165168 | 0.0032706460 | 0.0017988553 | 0.0021259199 | 0.0029435814 | 0.0063777596 | 0.0096484056 | Inf | Jaundice (not of newborn)                                                   | Signs/Symptoms |\n",
       "| phecode_817    | 0 |  4 |  9 |  3 |   2 |   8 |  10 |  16 |  13 | ⋯ | 0.0004901160 | 0.0003267440 | 0.0013069760 | 0.0016337200 | 0.0026139520 | 0.0021238360 | 0.0008168600 | Inf | Motion sickness                                                             | Signs/Symptoms |\n",
       "| phecode_820    | 0 |  1 |  4 | 13 |  12 |  22 |  22 |  29 |  28 | ⋯ | 0.0021314970 | 0.0019678583 | 0.0036077402 | 0.0036077402 | 0.0047556576 | 0.0045916694 | 0.0068875041 | Inf | Elevated erythrocyte sedimentation rate and abnormality of plasma viscosity | Signs/Symptoms |\n",
       "| phecode_841-13 | 0 |  4 | 15 | 12 |   2 |   3 |  10 |  36 |  38 | ⋯ | 0.0019617460 | 0.0003269577 | 0.0004904365 | 0.0016347883 | 0.0058852379 | 0.0062121955 | 0.0071930685 | Inf | Allergy to sulfonamides                                                     | Signs/Symptoms |\n",
       "| phecode_977-51 | 0 |  3 | 11 |  8 |   1 |   1 |  12 |  24 |  29 | ⋯ | 0.0024798512 | 0.0003099814 | 0.0003099814 | 0.0037197768 | 0.0074395536 | 0.0089894606 | 0.0285182889 | Inf | Long term (current) use of hormonal contraceptives                          | Rx             |\n",
       "| phecode_977-52 | 0 | 13 | 20 | 37 |  42 |  53 |  60 |  65 |  76 | ⋯ | 0.0115951113 | 0.0131620182 | 0.0166092134 | 0.0188028831 | 0.0203697900 | 0.0238169853 | 0.0385459104 | Inf | Hormone replacement therapy (postmenopausal)                                | Rx             |\n",
       "| phecode_665-2  | 0 |  1 |  3 |  4 |   6 |   4 |   5 |   5 |   5 | ⋯ | 0.0006554154 | 0.0009831231 | 0.0006554154 | 0.0008192692 | 0.0008192692 | 0.0008192692 | 0.0000000000 | NaN | Psoriatic arthropathy                                                       | Derm           |\n",
       "\n"
      ],
      "text/plain": [
       "     endpoint       n_1 n_2 n_3 n_4 n_5 n_6 n_7 n_8 n_9 ⋯ event_rate_4\n",
       "1    phecode_110      3 11  22  16  24  17  11  11   2  ⋯ 0.0026148063\n",
       "2    phecode_466-4    2  6   6  13  14  21  15   9   2  ⋯ 0.0021241830\n",
       "3    phecode_703-2   14  5   0   9  21  14  15  10   3  ⋯ 0.0014703480\n",
       "4    phecode_367-21  36 16  14  16   3  12   8   9  11  ⋯ 0.0026169447\n",
       "5    phecode_525-3    8 14   3   2   0   1   3   6   6  ⋯ 0.0003269577\n",
       "6    phecode_668-6   36 14   9   8  15  25  31  20   9  ⋯ 0.0013065491\n",
       "7    phecode_139-3   15 15  15  12   9   8   5   7   9  ⋯ 0.0019659240\n",
       "8    phecode_290-1   21 27  25  10  17  12  20  33  20  ⋯ 0.0016369291\n",
       "9    phecode_710-31   7 13   6   0   2   6   6   9  13  ⋯ 0.0000000000\n",
       "10   phecode_086     48 39  21  23  37  16  20  28  21  ⋯ 0.0037891269\n",
       "11   phecode_721-4   30  7   9  10  12  16  12  16  22  ⋯ 0.0016342540\n",
       "12   phecode_532-1   10  9   9  20  24  17  20  25  21  ⋯ 0.0032760033\n",
       "13   phecode_733-62  18 18   4   9  10   8  14  11   6  ⋯ 0.0014773473\n",
       "14   phecode_367-12  59 25  23  42  39  38  49  44  38  ⋯ 0.0069467416\n",
       "15   phecode_379-21  16  9  16  17  45  34  27  23  24  ⋯ 0.0027805038\n",
       "16   phecode_239-12  34 22  21  17  13  17  22  36  17  ⋯ 0.0027818688\n",
       "17   phecode_325-1   12 14  12  17  12  18  13  16   9  ⋯ 0.0027791401\n",
       "18   phecode_688-3   14 25  17  28  18  11  15  11  22  ⋯ 0.0045871560\n",
       "19   phecode_660-21 106 69  76  51  56  54  55  42  47  ⋯ 0.0084423109\n",
       "20   phecode_367-2   40 24  45  53  43  50  50  40  39  ⋯ 0.0087056505\n",
       "21   phecode_660-2  118 88  74  72  72  56  53  54  47  ⋯ 0.0119402985\n",
       "22   phecode_333-4   32 28  11   4   7  21  16   9  14  ⋯ 0.0006546645\n",
       "23   phecode_679-2   19 17   8  15  22  12  17  22  26  ⋯ 0.0024695423\n",
       "24   phecode_679-22  21 17   8   3   7  14   6   7   5  ⋯ 0.0004930156\n",
       "25   phecode_614-53  20  5   4   1   3   3   7   8  12  ⋯ 0.0002997602\n",
       "26   phecode_824     91 69  52  59  53  63  48  58  52  ⋯ 0.0096578818\n",
       "27   phecode_352-3   31 36  15  19  16  17  14  19  22  ⋯ 0.0031030541\n",
       "28   phecode_603-1   47 39  61  58  31  24  32  27  28  ⋯ 0.0212065814\n",
       "29   phecode_471-2   57 60  66  48  48  63  51  63  51  ⋯ 0.0079220994\n",
       "30   phecode_829-2   64 61  60  67  71  61  67  60  51  ⋯ 0.0109584560\n",
       "⋮    ⋮              ⋮   ⋮   ⋮   ⋮   ⋮   ⋮   ⋮   ⋮   ⋮   ⋱ ⋮           \n",
       "1141 phecode_552-1  0    0   3  22   13  23  14  13  38 ⋯ 0.0035930100\n",
       "1142 phecode_552-2  0    0  17  24   17   5   5  11  43 ⋯ 0.0039202875\n",
       "1143 phecode_554-2  0    2   5  12   12   9   6  15  21 ⋯ 0.0019601437\n",
       "1144 phecode_588-2  0    2   0   3   16  10   8  26  28 ⋯ 0.0004913200\n",
       "1145 phecode_592-12 0   11  13  21   21  14  11  12  39 ⋯ 0.0034341783\n",
       "1146 phecode_596-1  0    1   6  20   19  19  31  48  50 ⋯ 0.0032835331\n",
       "1147 phecode_608-1  0    8  41  86  118 171 232 322 360 ⋯ 0.0141867371\n",
       "1148 phecode_620    0    9   7   5    5  11  11  28  35 ⋯ 0.0015513497\n",
       "1149 phecode_626-14 0    0   0   0    3  20  72  78  90 ⋯ 0.0000000000\n",
       "1150 phecode_626-2  0    0   0   0    0   0   0   0   1 ⋯ 0.0000000000\n",
       "1151 phecode_666-2  0    1   6   8    8  10  11  12  11 ⋯ 0.0013069760\n",
       "1152 phecode_679-21 0    1   3   6    6  14   7  16  12 ⋯ 0.0009811938\n",
       "1153 phecode_679-7  0    1   2  14   20  28  32  35  36 ⋯ 0.0022879555\n",
       "1154 phecode_685-4  0    8  18  14   11   9   7   6   7 ⋯ 0.0022943297\n",
       "1155 phecode_704-5  0    0   0   3   12  25   8   9  38 ⋯ 0.0004899559\n",
       "1156 phecode_705-3  0   14  44  47   75  71 103 159 177 ⋯ 0.0076948265\n",
       "1157 phecode_706-1  0    0   6   4    4  16  17  28  20 ⋯ 0.0006540222\n",
       "1158 phecode_708-15 0    0  17  17   13  11  24  16  31 ⋯ 0.0027791401\n",
       "1159 phecode_708-8  0    3  33  57   35  23  44  41  69 ⋯ 0.0093366093\n",
       "1160 phecode_712-5  0    4   4   9   14  20  16  17  26 ⋯ 0.0014717907\n",
       "1161 phecode_726-2  0    0   2  20   14  19  36  45  64 ⋯ 0.0032733224\n",
       "1162 phecode_727-1  0   30  12   4    2   5   4   3   6 ⋯ 0.0006533812\n",
       "1163 phecode_807-11 0    3   9  13   19  18  11  14  24 ⋯ 0.0021371034\n",
       "1164 phecode_814    0   21  26  16   20  11  13  18  39 ⋯ 0.0026165168\n",
       "1165 phecode_817    0    4   9   3    2   8  10  16  13 ⋯ 0.0004901160\n",
       "1166 phecode_820    0    1   4  13   12  22  22  29  28 ⋯ 0.0021314970\n",
       "1167 phecode_841-13 0    4  15  12    2   3  10  36  38 ⋯ 0.0019617460\n",
       "1168 phecode_977-51 0    3  11   8    1   1  12  24  29 ⋯ 0.0024798512\n",
       "1169 phecode_977-52 0   13  20  37   42  53  60  65  76 ⋯ 0.0115951113\n",
       "1170 phecode_665-2  0    1   3   4    6   4   5   5   5 ⋯ 0.0006554154\n",
       "     event_rate_5 event_rate_6 event_rate_7 event_rate_8 event_rate_9\n",
       "1    0.0039222095 0.0027782317 0.0017976794 0.0017976794 0.0003268508\n",
       "2    0.0022875817 0.0034313725 0.0024509804 0.0014708286 0.0003268508\n",
       "3    0.0034308120 0.0022872080 0.0024505800 0.0016337200 0.0004901160\n",
       "4    0.0004906771 0.0019627085 0.0013086864 0.0014722722 0.0017994438\n",
       "5    0.0000000000 0.0001635056 0.0004905167 0.0009810334 0.0009810334\n",
       "6    0.0024501797 0.0040836328 0.0050637047 0.0032669062 0.0014701078\n",
       "7    0.0014744430 0.0013106160 0.0008192692 0.0011469769 0.0014746846\n",
       "8    0.0027827795 0.0019643149 0.0032738582 0.0054018661 0.0032738582\n",
       "9    0.0003273858 0.0009821575 0.0009821575 0.0014732362 0.0021280079\n",
       "10   0.0060955519 0.0026359143 0.0032948929 0.0046128501 0.0034596376\n",
       "11   0.0019611048 0.0026148063 0.0019611048 0.0026152337 0.0035959464\n",
       "12   0.0039312039 0.0027846028 0.0032760033 0.0040956750 0.0034403670\n",
       "13   0.0016414970 0.0013131976 0.0022984732 0.0018059432 0.0009850599\n",
       "14   0.0064505458 0.0062861869 0.0081058726 0.0072787428 0.0062861869\n",
       "15   0.0073601570 0.0055610075 0.0044160942 0.0037624734 0.0039260592\n",
       "16   0.0021276596 0.0027823241 0.0036006547 0.0058919804 0.0027823241\n",
       "17   0.0019617460 0.0029426189 0.0021252248 0.0026156613 0.0014713095\n",
       "18   0.0029488860 0.0018020970 0.0024574050 0.0018020970 0.0036047845\n",
       "19   0.0092699884 0.0089389174 0.0091044529 0.0069524913 0.0077801688\n",
       "20   0.0070642353 0.0082142270 0.0082142270 0.0065713816 0.0064070971\n",
       "21   0.0119402985 0.0092868988 0.0087893864 0.0089552239 0.0077943615\n",
       "22   0.0011456628 0.0034369885 0.0026186579 0.0014729951 0.0022913257\n",
       "23   0.0036219954 0.0019756338 0.0027992755 0.0036225918 0.0042812449\n",
       "24   0.0011503698 0.0023007395 0.0009861933 0.0011505588 0.0008218277\n",
       "25   0.0008992806 0.0008992806 0.0020983213 0.0023980815 0.0035982009\n",
       "26   0.0086757243 0.0103126535 0.0078572598 0.0094941889 0.0085120314\n",
       "27   0.0026130982 0.0027764168 0.0022864609 0.0031030541 0.0035930100\n",
       "28   0.0113345521 0.0087751371 0.0117001828 0.0098720293 0.0102376600\n",
       "29   0.0079220994 0.0103977554 0.0084172306 0.0103977554 0.0084172306\n",
       "30   0.0116126922 0.0099771017 0.0109584560 0.0098151480 0.0083428758\n",
       "⋮    ⋮            ⋮            ⋮            ⋮            ⋮           \n",
       "1141 0.0021234891 0.0037569422 0.0022868344 0.0021234891 0.0062071219\n",
       "1142 0.0027768703 0.0008167266 0.0008167266 0.0017967984 0.0070238484\n",
       "1143 0.0019601437 0.0014701078 0.0009800719 0.0024505800 0.0034308120\n",
       "1144 0.0026203734 0.0016380016 0.0013104013 0.0042588043 0.0045864046\n",
       "1145 0.0034341783 0.0022894522 0.0017988553 0.0019623876 0.0063777596\n",
       "1146 0.0031193564 0.0031193564 0.0050903120 0.0078817734 0.0082101806\n",
       "1147 0.0194655229 0.0282085120 0.0382711976 0.0531177829 0.0593961393\n",
       "1148 0.0015513497 0.0034140286 0.0034140286 0.0086902545 0.0108628181\n",
       "1149 0.0009342884 0.0062285892 0.0224229212 0.0242990654 0.0280373832\n",
       "1150 0.0000000000 0.0000000000 0.0000000000 0.0000000000 0.0003089280\n",
       "1151 0.0013069760 0.0016339869 0.0017973856 0.0019607843 0.0017973856\n",
       "1152 0.0009811938 0.0022894522 0.0011449133 0.0026169447 0.0019627085\n",
       "1153 0.0032690422 0.0045766590 0.0052304675 0.0057208238 0.0058842759\n",
       "1154 0.0018026876 0.0014749263 0.0011471649 0.0009832842 0.0011471649\n",
       "1155 0.0019598236 0.0040829659 0.0013067625 0.0014701078 0.0062071219\n",
       "1156 0.0122789784 0.0116240995 0.0168658916 0.0260356967 0.0289831341\n",
       "1157 0.0006540222 0.0026160889 0.0027795945 0.0045781557 0.0032701112\n",
       "1158 0.0021252248 0.0017982671 0.0039234919 0.0026156613 0.0050678437\n",
       "1159 0.0057330057 0.0037680210 0.0072083879 0.0067169069 0.0113040629\n",
       "1160 0.0022894522 0.0032706460 0.0026165168 0.0027805038 0.0042525352\n",
       "1161 0.0022913257 0.0031096563 0.0058919804 0.0073649755 0.0104763464\n",
       "1162 0.0003266906 0.0008167266 0.0006533812 0.0004900359 0.0009800719\n",
       "1163 0.0031234588 0.0029590663 0.0018083183 0.0023014960 0.0039454217\n",
       "1164 0.0032706460 0.0017988553 0.0021259199 0.0029435814 0.0063777596\n",
       "1165 0.0003267440 0.0013069760 0.0016337200 0.0026139520 0.0021238360\n",
       "1166 0.0019678583 0.0036077402 0.0036077402 0.0047556576 0.0045916694\n",
       "1167 0.0003269577 0.0004904365 0.0016347883 0.0058852379 0.0062121955\n",
       "1168 0.0003099814 0.0003099814 0.0037197768 0.0074395536 0.0089894606\n",
       "1169 0.0131620182 0.0166092134 0.0188028831 0.0203697900 0.0238169853\n",
       "1170 0.0009831231 0.0006554154 0.0008192692 0.0008192692 0.0008192692\n",
       "     event_rate_10 event_rate_ratio\n",
       "1    0.0000000000  0.00000000      \n",
       "2    0.0000000000  0.00000000      \n",
       "3    0.0001633720  0.07142857      \n",
       "4    0.0006543432  0.11112929      \n",
       "5    0.0001635056  0.12502044      \n",
       "6    0.0009800719  0.16669389      \n",
       "7    0.0004915615  0.20003277      \n",
       "8    0.0008185986  0.23813422      \n",
       "9    0.0003274394  0.28576106      \n",
       "10   0.0023064250  0.29166667      \n",
       "11   0.0014710690  0.30004904      \n",
       "12   0.0004914810  0.30004915      \n",
       "13   0.0009850599  0.33338806      \n",
       "14   0.0036393714  0.37294304      \n",
       "15   0.0009815148  0.37506134      \n",
       "16   0.0021276596  0.38241552      \n",
       "17   0.0008173941  0.41673478      \n",
       "18   0.0009831231  0.42864165      \n",
       "19   0.0077801688  0.44339623      \n",
       "20   0.0029571217  0.45007393      \n",
       "21   0.0089552239  0.45770301      \n",
       "22   0.0024553937  0.46882673      \n",
       "23   0.0014819694  0.47376221      \n",
       "24   0.0016436555  0.47626875      \n",
       "25   0.0029985007  0.50014993      \n",
       "26   0.0075311067  0.50557726      \n",
       "27   0.0026135250  0.51621334      \n",
       "28   0.0091407678  0.53210938      \n",
       "29   0.0052813996  0.56140351      \n",
       "30   0.0058890888  0.56259202      \n",
       "⋮    ⋮             ⋮               \n",
       "1141 0.0027768703  Inf             \n",
       "1142 0.0111074812  Inf             \n",
       "1143 0.0065348799  Inf             \n",
       "1144 0.0076986077  Inf             \n",
       "1145 0.0065412919  Inf             \n",
       "1146 0.0241379310  Inf             \n",
       "1147 0.0562613430  Inf             \n",
       "1148 0.0105524519  Inf             \n",
       "1149 0.0489096573  Inf             \n",
       "1150 0.0083436341  Inf             \n",
       "1151 0.0016339869  Inf             \n",
       "1152 0.0014720314  Inf             \n",
       "1153 0.0068649886  Inf             \n",
       "1154 0.0001638807  Inf             \n",
       "1155 0.0034302516  Inf             \n",
       "1156 0.0356967414  Inf             \n",
       "1157 0.0021255723  Inf             \n",
       "1158 0.0032701112  Inf             \n",
       "1159 0.0109764089  Inf             \n",
       "1160 0.0037618580  Inf             \n",
       "1161 0.0070387952  Inf             \n",
       "1162 0.0017967984  Inf             \n",
       "1163 0.0044385994  Inf             \n",
       "1164 0.0096484056  Inf             \n",
       "1165 0.0008168600  Inf             \n",
       "1166 0.0068875041  Inf             \n",
       "1167 0.0071930685  Inf             \n",
       "1168 0.0285182889  Inf             \n",
       "1169 0.0385459104  Inf             \n",
       "1170 0.0000000000  NaN             \n",
       "     endpoint_string                                                            \n",
       "1    Malignant neoplasm of the endocrine glands                                 \n",
       "2    Hypertrophy of tonsils and adenoids                                        \n",
       "3    Chondrocalcinosis                                                          \n",
       "4    Corneal ulcer                                                              \n",
       "5    Disorders of intestinal carbohydrate absorption                            \n",
       "6    Prurigo                                                                    \n",
       "7    Benign neoplasm of other connective and soft tissue                        \n",
       "8    Posttraumatic stress disorder                                              \n",
       "9    Genu valgum (acquired)                                                     \n",
       "10   Pediculosis, acariasis and other infestations                              \n",
       "11   Calcium deposits in tendon and bursa                                       \n",
       "12   Intestinal fistula                                                         \n",
       "13   Arthralgia of temporomandibular joint                                      \n",
       "14   Allergic [atopic] conjunctivitis                                           \n",
       "15   Infection of the eye, herpes                                               \n",
       "16   Familial hypercholesterolemia*                                             \n",
       "17   Abnormal involuntary movements                                             \n",
       "18   Pyogenic granuloma of skin and subcutaneous tissue                         \n",
       "19   Impetigo                                                                   \n",
       "20   Keratitis                                                                  \n",
       "21   Bacterial infection of the skin                                            \n",
       "22   Circadian rhythm sleep disorder                                            \n",
       "23   Pallor and flushing                                                        \n",
       "24   Flushing                                                                   \n",
       "25   Cyst or abscess of Bartholin's gland                                       \n",
       "26   Other abnormalities of plasma proteins*                                    \n",
       "27   Parageusia*                                                                \n",
       "28   Hydrocele                                                                  \n",
       "29   Deviated nasal septum                                                      \n",
       "30   Abnormal level of blood mineral*                                           \n",
       "⋮    ⋮                                                                          \n",
       "1141 Cholangitis                                                                \n",
       "1142 Obstruction of bile duct                                                   \n",
       "1143 Cyst and pseudocyst of pancreas                                            \n",
       "1144 Abnormal results of function study of kidney                               \n",
       "1145 Chronic cystitis                                                           \n",
       "1146 Bladder neck obstruction                                                   \n",
       "1147 Abnormal findings in semen                                                 \n",
       "1148 Dysplasia of female genital organs                                         \n",
       "1149 Irregular menstrual bleeding                                               \n",
       "1150 Dysmenorrhea                                                               \n",
       "1151 Idiopathic urticaria                                                       \n",
       "1152 Pallor                                                                     \n",
       "1153 Abnormal granulation tissue, NOS                                           \n",
       "1154 Prickly heat and miliaria                                                  \n",
       "1155 Giant cell arteritis                                                       \n",
       "1156 Polymyalgia rheumatica                                                     \n",
       "1157 Sacroiliitis NEC                                                           \n",
       "1158 Primary osteoarthritis of the wrist, forearm                               \n",
       "1159 Secondary osteoarthritis                                                   \n",
       "1160 Disorder of ligament                                                       \n",
       "1161 Pathologic fracture                                                        \n",
       "1162 Osteonecrosis                                                              \n",
       "1163 Postviral fatigue syndrome*                                                \n",
       "1164 Jaundice (not of newborn)                                                  \n",
       "1165 Motion sickness                                                            \n",
       "1166 Elevated erythrocyte sedimentation rate and abnormality of plasma viscosity\n",
       "1167 Allergy to sulfonamides                                                    \n",
       "1168 Long term (current) use of hormonal contraceptives                         \n",
       "1169 Hormone replacement therapy (postmenopausal)                               \n",
       "1170 Psoriatic arthropathy                                                      \n",
       "     phecode_category\n",
       "1    Neoplasms       \n",
       "2    Resp            \n",
       "3    Musc/Skel       \n",
       "4    Eye             \n",
       "5    GI              \n",
       "6    Derm            \n",
       "7    Neoplasms       \n",
       "8    Mental          \n",
       "9    Musc/Skel       \n",
       "10   ID              \n",
       "11   Musc/Skel       \n",
       "12   GI              \n",
       "13   Musc/Skel       \n",
       "14   Eye             \n",
       "15   Eye             \n",
       "16   Metab           \n",
       "17   Neuro           \n",
       "18   Derm            \n",
       "19   Derm            \n",
       "20   Eye             \n",
       "21   Derm            \n",
       "22   Neuro           \n",
       "23   Derm            \n",
       "24   Derm            \n",
       "25   Genitourinary   \n",
       "26   Signs/Symptoms  \n",
       "27   Neuro           \n",
       "28   Genitourinary   \n",
       "29   Resp            \n",
       "30   Signs/Symptoms  \n",
       "⋮    ⋮               \n",
       "1141 GI              \n",
       "1142 GI              \n",
       "1143 GI              \n",
       "1144 Genitourinary   \n",
       "1145 Genitourinary   \n",
       "1146 Genitourinary   \n",
       "1147 Genitourinary   \n",
       "1148 Genitourinary   \n",
       "1149 Genitourinary   \n",
       "1150 Genitourinary   \n",
       "1151 Derm            \n",
       "1152 Derm            \n",
       "1153 Derm            \n",
       "1154 Derm            \n",
       "1155 Musc/Skel       \n",
       "1156 Musc/Skel       \n",
       "1157 Musc/Skel       \n",
       "1158 Musc/Skel       \n",
       "1159 Musc/Skel       \n",
       "1160 Musc/Skel       \n",
       "1161 Musc/Skel       \n",
       "1162 Musc/Skel       \n",
       "1163 Signs/Symptoms  \n",
       "1164 Signs/Symptoms  \n",
       "1165 Signs/Symptoms  \n",
       "1166 Signs/Symptoms  \n",
       "1167 Signs/Symptoms  \n",
       "1168 Rx              \n",
       "1169 Rx              \n",
       "1170 Derm            "
      ]
     },
     "metadata": {},
     "output_type": "display_data"
    }
   ],
   "source": [
    "ratio_df_complete = bind_rows(ratio_dfs) %>% ungroup() %>%\n",
    "    mutate(endpoint_string = recode(endpoint, !!!endpoint_map)) %>% \n",
    "    #select(endpoint, endpoint_string, n_1, n_10, ratio_1, ratio_10, ratio) %>%\n",
    "#     select(endpoint, endpoint_string, n_top10, n_rest, ratio_top10, ratio_rest, ratio) %>%\n",
    "\n",
    "    arrange(event_rate_ratio) %>% left_join(endpoints_md %>% select(endpoint, phecode_category) %>% as_tibble(), by=\"endpoint\")\n",
    "\n",
    "ratio_df_complete"
   ]
  },
  {
   "cell_type": "code",
   "execution_count": 18,
   "metadata": {
    "execution": {
     "iopub.execute_input": "2022-11-05T14:38:57.481625Z",
     "iopub.status.busy": "2022-11-05T14:38:57.480554Z",
     "iopub.status.idle": "2022-11-05T14:38:57.517591Z",
     "shell.execute_reply": "2022-11-05T14:38:57.516378Z"
    },
    "tags": []
   },
   "outputs": [],
   "source": [
    "options(pillar.print_max = Inf)\n",
    "ratio_df_complete %>% \n",
    "    arrange(event_rate_ratio) %>% \n",
    "    write_csv(glue(\"outputs/SupplTable1_RateRatiosAll_10vsRest_CropRatio-0.66.csv\"))"
   ]
  },
  {
   "cell_type": "code",
   "execution_count": 19,
   "metadata": {
    "execution": {
     "iopub.execute_input": "2022-11-05T14:38:57.520257Z",
     "iopub.status.busy": "2022-11-05T14:38:57.519251Z",
     "iopub.status.idle": "2022-11-05T14:38:57.661099Z",
     "shell.execute_reply": "2022-11-05T14:38:57.596926Z"
    },
    "tags": []
   },
   "outputs": [
    {
     "ename": "ERROR",
     "evalue": "\u001b[1m\u001b[33mError\u001b[39m in \u001b[1m\u001b[1m`filter()`:\u001b[22m\n\u001b[1m\u001b[22m\u001b[33m!\u001b[39m Problem while computing `..1 = ratio > 1`.\n\u001b[1mCaused by error:\u001b[22m\n\u001b[33m!\u001b[39m object 'ratio' not found\n",
     "output_type": "error",
     "traceback": [
      "\u001b[1m\u001b[33mError\u001b[39m in \u001b[1m\u001b[1m`filter()`:\u001b[22m\n\u001b[1m\u001b[22m\u001b[33m!\u001b[39m Problem while computing `..1 = ratio > 1`.\n\u001b[1mCaused by error:\u001b[22m\n\u001b[33m!\u001b[39m object 'ratio' not found\nTraceback:\n",
      "1. cat(\"nrows with rate ratio > 1 :\", nrow(ratio_df_complete %>% \n .     filter(ratio > 1)))",
      "2. nrow(ratio_df_complete %>% filter(ratio > 1))",
      "3. ratio_df_complete %>% filter(ratio > 1)",
      "4. filter(., ratio > 1)",
      "5. filter.data.frame(., ratio > 1)",
      "6. filter_rows(.data, ..., caller_env = caller_env())",
      "7. filter_eval(dots, mask = mask, error_call = error_call)",
      "8. withCallingHandlers({\n .     mask$eval_all_filter(dots, env_filter)\n . }, error = function(e) {\n .     local_error_context(dots = dots, .index = env_filter$current_expression, \n .         mask = mask)\n .     bullets <- c(cnd_bullet_header(\"computing\"), filter_bullets(e))\n .     abort(bullets, call = error_call, parent = skip_internal_condition(e))\n . })",
      "9. mask$eval_all_filter(dots, env_filter)",
      "10. .handleSimpleError(function (e) \n  . {\n  .     local_error_context(dots = dots, .index = env_filter$current_expression, \n  .         mask = mask)\n  .     bullets <- c(cnd_bullet_header(\"computing\"), filter_bullets(e))\n  .     abort(bullets, call = error_call, parent = skip_internal_condition(e))\n  . }, \"object 'ratio' not found\", base::quote(mask$eval_all_filter(dots, \n  .     env_filter)))",
      "11. h(simpleError(msg, call))",
      "12. abort(bullets, call = error_call, parent = skip_internal_condition(e))",
      "13. signal_abort(cnd, .file)"
     ]
    }
   ],
   "source": [
    "# 0.66:\n",
    "cat(\"nrows with rate ratio > 1 :\", nrow(ratio_df_complete %>% filter(ratio > 1)))\n",
    "cat(\"\\nnrows with rate ratio > 3 :\", nrow(ratio_df_complete %>% filter(ratio > 3)))\n",
    "cat(\"\\nnrows with rate ratio > 5 :\", nrow(ratio_df_complete %>% filter(ratio > 5)))\n",
    "cat(\"\\nnrows with rate ratio > 10 :\", nrow(ratio_df_complete %>% filter(ratio > 10)))\n",
    "cat(\"\\nnrows with rate ratio > 50 :\", nrow(ratio_df_complete %>% filter(ratio > 50)))"
   ]
  },
  {
   "cell_type": "code",
   "execution_count": null,
   "metadata": {
    "tags": []
   },
   "outputs": [],
   "source": [
    "ratio_df_complete %>% filter(ratio<10) %>% arrange(desc(ratio_1)) #%>% filter(!str_detect(endpoint, \"-\"))"
   ]
  },
  {
   "cell_type": "code",
   "execution_count": null,
   "metadata": {
    "tags": []
   },
   "outputs": [],
   "source": [
    "base_size = 8\n",
    "title_size = 10\n",
    "facet_size = 8.5\n",
    "geom_text_size=3\n",
    "theme_set(theme_classic(base_size = base_size) + \n",
    "          theme(strip.background = element_blank(), plot.title=element_text(size=title_size, hjust=0), \n",
    "                strip.text.x = element_text(size = facet_size),axis.title=element_text(size=10), axis.text=element_text(size=8, color=\"black\"),\n",
    "                legend.position=\"bottom\", axis.line = element_line(size = 0.2), axis.ticks=element_line(size=0.2)))"
   ]
  },
  {
   "cell_type": "markdown",
   "metadata": {},
   "source": [
    "## Nice overview over all categories"
   ]
  },
  {
   "cell_type": "markdown",
   "metadata": {
    "jp-MarkdownHeadingCollapsed": true,
    "tags": []
   },
   "source": [
    "### crop ratio 0.3"
   ]
  },
  {
   "cell_type": "code",
   "execution_count": null,
   "metadata": {
    "tags": []
   },
   "outputs": [],
   "source": [
    "plot_width = 10; plot_height=2.5; plot_res = 320\n",
    "options(repr.plot.width = plot_width, repr.plot.height = plot_height, repr.plot.res=plot_res)\n",
    "\n",
    "library(ggtext)\n",
    "categories_sorted = (endpoints_md %>% arrange(endpoint) %>% distinct(phecode_category) %>% as_tibble())$phecode_category\n",
    "\n",
    "temp = ratio_df_complete %>%\n",
    "    mutate(phecode_category = factor(phecode_category, levels=categories_sorted)) %>%\n",
    "    mutate(highlight = case_when(endpoint %in% endpoint_selection ~ \"YES\", TRUE ~ \"NO\")) \n",
    "#+    mutate(score = factor(score, levels=scores_plot)) %>%\n",
    "#+    mutate(endpoint = factor(endpoint, levels=endpoints_sorted)) %>%\n",
    "#+    ungroup() %>%\n",
    "#+    pivot_wider(names_from=score, values_from=cindex) %>% \n",
    "#+    mutate(id = row_number()) %>%\n",
    "#+    mutate(delta = `Age+Sex+Retina`-`Age+Sex`) %>%\n",
    "#+    group_by(endpoint, phecode_string, phecode_category) %>%\n",
    "#+    summarise(delta = median(delta)) %>%\n",
    "#+    mutate(pos = case_when(delta>=0 ~ \"pos\", delta < 0 ~\"neg\")) %>%\n",
    "#+    mutate(endpoint = fct_reorder(endpoint, delta)) %>%\n",
    "    # %>%# %>% filter(endpoint %in% endpoint_sample)\n",
    "#+    \n",
    "\n",
    "endpoint_order = (temp %>% arrange(ratio))$endpoint\n",
    "\n",
    "temp = temp %>% mutate(endpoint = factor(endpoint, levels=endpoint_order)) %>% ungroup() %>% arrange(endpoint) %>% group_by(phecode_category) %>% mutate(endpoint = row_number()) %>% mutate(log_ratio = log(ratio))\n",
    "\n",
    "overview = ggplot(temp) +\n",
    "    geom_ribbon(aes(x=endpoint, ymin=0, ymax=log_ratio), fill=\"black\", alpha=0.2)+\n",
    "    geom_point(aes(x=endpoint, y=log_ratio, color=highlight, size=highlight, alpha=highlight)) +\n",
    "    geom_text(data=temp %>% filter(highlight==\"YES\"), aes(x=endpoint, y=log_ratio+0.5, label=\"↓\", vjust=0), color=\"black\", size=5, alpha=0.7) +\n",
    "    #geom_segment(aes(x=endpoint, xend=endpoint, y=0, yend=delta, color=highlight, size=highlight), alpha=0.5)+#+\n",
    "    labs(x=\"Endpoints\", y=\"Rate Ratio\") +# (Top vs. Bottom 10%)\")+\n",
    "    scale_color_manual(values=c(\"NO\"=\"black\", \"YES\"=\"firebrick\"))+\n",
    "    scale_alpha_manual(values=c(\"NO\"=0.1, \"YES\"=1))+\n",
    "    scale_size_manual(values=c(\"NO\"=0.01, \"YES\"=1))+\n",
    "    #scale_colour_manual(values = c(\"pos\"=\"forestgreen\", \"neg\" = \"firebrick\")) + \n",
    "    #coord_polar() +\n",
    "    coord_cartesian(ylim=c(0, NA), clip = \"off\")+\n",
    "    scale_y_continuous(expand=c(0, 0), breaks=c(log(1), log(10), log(100), log(1000)), labels=c(1, 10, 100, 1000)) +\n",
    "    #scale_y_continuous(, trans='log10')+\n",
    "    scale_x_discrete(expand=expansion(add=20))+\n",
    "    facet_grid(~phecode_category, scales=\"free_x\", space=\"free_x\")+#, switch=TRUE)+\n",
    "    #facet_grid2(~phecode_category, scales = \"free\", independent = \"all\") + \n",
    "    theme(axis.title.x=element_blank(),\n",
    "        axis.text.x=element_blank(),\n",
    "        axis.ticks.x=element_blank(),\n",
    "        panel.grid.major.y=element_line(), \n",
    "         strip.text = element_text(angle=270)) + \n",
    "    theme(legend.position=\"none\") \n",
    "    \n",
    "    #geom_ribbon(aes(x=id, ymin=AgeSex, ymax=`Age+Sex+Retina`), fill=\"red\", alpha=0.2)\n",
    "#geom_violin(size=0.1)\n",
    "overview"
   ]
  },
  {
   "cell_type": "raw",
   "metadata": {
    "tags": []
   },
   "source": [
    "### crop ratio 0.5"
   ]
  },
  {
   "cell_type": "raw",
   "metadata": {
    "tags": []
   },
   "source": [
    "plot_width = 10; plot_height=2.5; plot_res = 320\n",
    "options(repr.plot.width = plot_width, repr.plot.height = plot_height, repr.plot.res=plot_res)\n",
    "\n",
    "library(ggtext)\n",
    "categories_sorted = (endpoints_md %>% arrange(endpoint) %>% distinct(phecode_category) %>% as_tibble())$phecode_category\n",
    "\n",
    "temp = ratio_df_complete %>%\n",
    "    mutate(phecode_category = factor(phecode_category, levels=categories_sorted)) %>%\n",
    "    mutate(highlight = case_when(endpoint %in% endpoint_selection ~ \"YES\", TRUE ~ \"NO\")) \n",
    "#+    mutate(score = factor(score, levels=scores_plot)) %>%\n",
    "#+    mutate(endpoint = factor(endpoint, levels=endpoints_sorted)) %>%\n",
    "#+    ungroup() %>%\n",
    "#+    pivot_wider(names_from=score, values_from=cindex) %>% \n",
    "#+    mutate(id = row_number()) %>%\n",
    "#+    mutate(delta = `Age+Sex+Retina`-`Age+Sex`) %>%\n",
    "#+    group_by(endpoint, phecode_string, phecode_category) %>%\n",
    "#+    summarise(delta = median(delta)) %>%\n",
    "#+    mutate(pos = case_when(delta>=0 ~ \"pos\", delta < 0 ~\"neg\")) %>%\n",
    "#+    mutate(endpoint = fct_reorder(endpoint, delta)) %>%\n",
    "    # %>%# %>% filter(endpoint %in% endpoint_sample)\n",
    "#+    \n",
    "\n",
    "endpoint_order = (temp %>% arrange(ratio))$endpoint\n",
    "\n",
    "temp = temp %>% mutate(endpoint = factor(endpoint, levels=endpoint_order)) %>% ungroup() %>% arrange(endpoint) %>% group_by(phecode_category) %>% mutate(endpoint = row_number()) %>% mutate(log_ratio = log(ratio))\n",
    "\n",
    "overview = ggplot(temp) +\n",
    "    geom_ribbon(aes(x=endpoint, ymin=0, ymax=log_ratio), fill=\"black\", alpha=0.2)+\n",
    "    geom_point(aes(x=endpoint, y=log_ratio, color=highlight, size=highlight, alpha=highlight)) +\n",
    "    geom_text(data=temp %>% filter(highlight==\"YES\"), aes(x=endpoint, y=log_ratio+0.5, label=\"↓\", vjust=0), color=\"black\", size=5, alpha=0.7) +\n",
    "    #geom_segment(aes(x=endpoint, xend=endpoint, y=0, yend=delta, color=highlight, size=highlight), alpha=0.5)+#+\n",
    "    labs(x=\"Endpoints\", y=\"Rate Ratio\") +# (Top vs. Bottom 10%)\")+\n",
    "    scale_color_manual(values=c(\"NO\"=\"black\", \"YES\"=\"firebrick\"))+\n",
    "    scale_alpha_manual(values=c(\"NO\"=0.1, \"YES\"=1))+\n",
    "    scale_size_manual(values=c(\"NO\"=0.01, \"YES\"=1))+\n",
    "    #scale_colour_manual(values = c(\"pos\"=\"forestgreen\", \"neg\" = \"firebrick\")) + \n",
    "    #coord_polar() +\n",
    "    coord_cartesian(ylim=c(0, NA), clip = \"off\")+\n",
    "    scale_y_continuous(expand=c(0, 0), breaks=c(log(1), log(10), log(100), log(1000)), labels=c(1, 10, 100, 1000)) +\n",
    "    #scale_y_continuous(, trans='log10')+\n",
    "    scale_x_discrete(expand=expansion(add=20))+\n",
    "    facet_grid(~phecode_category, scales=\"free_x\", space=\"free_x\")+#, switch=TRUE)+\n",
    "    #facet_grid2(~phecode_category, scales = \"free\", independent = \"all\") + \n",
    "    theme(axis.title.x=element_blank(),\n",
    "        axis.text.x=element_blank(),\n",
    "        axis.ticks.x=element_blank(),\n",
    "        panel.grid.major.y=element_line(), \n",
    "         strip.text = element_text(angle=270)) + \n",
    "    theme(legend.position=\"none\") \n",
    "    \n",
    "    #geom_ribbon(aes(x=id, ymin=AgeSex, ymax=`Age+Sex+Retina`), fill=\"red\", alpha=0.2)\n",
    "#geom_violin(size=0.1)\n",
    "overview"
   ]
  },
  {
   "cell_type": "markdown",
   "metadata": {
    "jp-MarkdownHeadingCollapsed": true,
    "tags": []
   },
   "source": [
    "### crop ratio 0.8"
   ]
  },
  {
   "cell_type": "raw",
   "metadata": {
    "tags": []
   },
   "source": [
    "plot_width = 10; plot_height=2.5; plot_res = 320\n",
    "options(repr.plot.width = plot_width, repr.plot.height = plot_height, repr.plot.res=plot_res)\n",
    "\n",
    "library(ggtext)\n",
    "categories_sorted = (endpoints_md %>% arrange(endpoint) %>% distinct(phecode_category) %>% as_tibble())$phecode_category\n",
    "\n",
    "temp = ratio_df_complete %>%\n",
    "    mutate(phecode_category = factor(phecode_category, levels=categories_sorted)) %>%\n",
    "    mutate(highlight = case_when(endpoint %in% endpoint_selection ~ \"YES\", TRUE ~ \"NO\")) \n",
    "#+    mutate(score = factor(score, levels=scores_plot)) %>%\n",
    "#+    mutate(endpoint = factor(endpoint, levels=endpoints_sorted)) %>%\n",
    "#+    ungroup() %>%\n",
    "#+    pivot_wider(names_from=score, values_from=cindex) %>% \n",
    "#+    mutate(id = row_number()) %>%\n",
    "#+    mutate(delta = `Age+Sex+Retina`-`Age+Sex`) %>%\n",
    "#+    group_by(endpoint, phecode_string, phecode_category) %>%\n",
    "#+    summarise(delta = median(delta)) %>%\n",
    "#+    mutate(pos = case_when(delta>=0 ~ \"pos\", delta < 0 ~\"neg\")) %>%\n",
    "#+    mutate(endpoint = fct_reorder(endpoint, delta)) %>%\n",
    "    # %>%# %>% filter(endpoint %in% endpoint_sample)\n",
    "#+    \n",
    "\n",
    "endpoint_order = (temp %>% arrange(ratio))$endpoint\n",
    "\n",
    "temp = temp %>% mutate(endpoint = factor(endpoint, levels=endpoint_order)) %>% ungroup() %>% arrange(endpoint) %>% group_by(phecode_category) %>% mutate(endpoint = row_number()) %>% mutate(log_ratio = log(ratio))\n",
    "\n",
    "overview = ggplot(temp) +\n",
    "    geom_ribbon(aes(x=endpoint, ymin=0, ymax=log_ratio), fill=\"black\", alpha=0.2)+\n",
    "    geom_point(aes(x=endpoint, y=log_ratio, color=highlight, size=highlight, alpha=highlight)) +\n",
    "    geom_text(data=temp %>% filter(highlight==\"YES\"), aes(x=endpoint, y=log_ratio+0.5, label=\"↓\", vjust=0), color=\"black\", size=5, alpha=0.7) +\n",
    "    #geom_segment(aes(x=endpoint, xend=endpoint, y=0, yend=delta, color=highlight, size=highlight), alpha=0.5)+#+\n",
    "    labs(x=\"Endpoints\", y=\"Rate Ratio\") +# (Top vs. Bottom 10%)\")+\n",
    "    scale_color_manual(values=c(\"NO\"=\"black\", \"YES\"=\"firebrick\"))+\n",
    "    scale_alpha_manual(values=c(\"NO\"=0.1, \"YES\"=1))+\n",
    "    scale_size_manual(values=c(\"NO\"=0.01, \"YES\"=1))+\n",
    "    #scale_colour_manual(values = c(\"pos\"=\"forestgreen\", \"neg\" = \"firebrick\")) + \n",
    "    #coord_polar() +\n",
    "    coord_cartesian(ylim=c(0, NA), clip = \"off\")+\n",
    "    scale_y_continuous(expand=c(0, 0), breaks=c(log(1), log(10), log(100), log(1000)), labels=c(1, 10, 100, 1000)) +\n",
    "    #scale_y_continuous(, trans='log10')+\n",
    "    scale_x_discrete(expand=expansion(add=20))+\n",
    "    facet_grid(~phecode_category, scales=\"free_x\", space=\"free_x\")+#, switch=TRUE)+\n",
    "    #facet_grid2(~phecode_category, scales = \"free\", independent = \"all\") + \n",
    "    theme(axis.title.x=element_blank(),\n",
    "        axis.text.x=element_blank(),\n",
    "        axis.ticks.x=element_blank(),\n",
    "        panel.grid.major.y=element_line(), \n",
    "         strip.text = element_text(angle=270)) + \n",
    "    theme(legend.position=\"none\") \n",
    "    \n",
    "    #geom_ribbon(aes(x=id, ymin=AgeSex, ymax=`Age+Sex+Retina`), fill=\"red\", alpha=0.2)\n",
    "#geom_violin(size=0.1)\n",
    "overview"
   ]
  },
  {
   "cell_type": "markdown",
   "metadata": {
    "tags": []
   },
   "source": [
    "### crop ratio 0.5 with only positive ratios (negative set to 0)"
   ]
  },
  {
   "cell_type": "code",
   "execution_count": null,
   "metadata": {
    "tags": []
   },
   "outputs": [],
   "source": [
    "plot_width = 10; plot_height=2.5; plot_res = 320\n",
    "options(repr.plot.width = plot_width, repr.plot.height = plot_height, repr.plot.res=plot_res)\n",
    "\n",
    "library(ggtext)\n",
    "categories_sorted = (endpoints_md %>% arrange(endpoint) %>% distinct(phecode_category) %>% as_tibble())$phecode_category\n",
    "\n",
    "temp_pos = ratio_df_complete %>%\n",
    "    mutate(phecode_category = factor(phecode_category, levels=categories_sorted)) %>%\n",
    "    mutate(highlight = case_when(endpoint %in% endpoint_selection ~ \"YES\", TRUE ~ \"NO\")) \n",
    "#+    mutate(score = factor(score, levels=scores_plot)) %>%\n",
    "#+    mutate(endpoint = factor(endpoint, levels=endpoints_sorted)) %>%\n",
    "#+    ungroup() %>%\n",
    "#+    pivot_wider(names_from=score, values_from=cindex) %>% \n",
    "#+    mutate(id = row_number()) %>%\n",
    "#+    mutate(delta = `Age+Sex+Retina`-`Age+Sex`) %>%\n",
    "#+    group_by(endpoint, phecode_string, phecode_category) %>%\n",
    "#+    summarise(delta = median(delta)) %>%\n",
    "#+    mutate(pos = case_when(delta>=0 ~ \"pos\", delta < 0 ~\"neg\")) %>%\n",
    "#+    mutate(endpoint = fct_reorder(endpoint, delta)) %>%\n",
    "    # %>%# %>% filter(endpoint %in% endpoint_sample)\n",
    "#+    \n",
    "\n",
    "endpoint_order = (temp_pos %>% arrange(ratio))$endpoint\n",
    "\n",
    "#index <- temp_pos$ratio < 0\n",
    "#temp_pos$ratio[index] <- 0.\n",
    "\n",
    "\n",
    "temp_pos = temp_pos %>% mutate(endpoint = factor(endpoint, levels=endpoint_order)) %>% ungroup() %>% arrange(endpoint) %>% group_by(phecode_category) %>% mutate(endpoint = row_number()) %>% mutate(log_ratio = log(ratio))\n",
    "\n",
    "index <- temp_pos$log_ratio < 0\n",
    "temp_pos$log_ratio[index] <- 0.\n",
    "\n",
    "overview = ggplot(temp_pos) +\n",
    "    geom_ribbon(aes(x=endpoint, ymin=0, ymax=log_ratio), fill=\"black\", alpha=0.2)+\n",
    "    geom_point(aes(x=endpoint, y=log_ratio, color=highlight, size=highlight, alpha=highlight)) +\n",
    "    geom_text(data=temp_pos %>% filter(highlight==\"YES\"), aes(x=endpoint, y=log_ratio+0.5, label=\"↓\", vjust=0), color=\"black\", size=5, alpha=0.7) +\n",
    "    #geom_segment(aes(x=endpoint, xend=endpoint, y=0, yend=delta, color=highlight, size=highlight), alpha=0.5)+#+\n",
    "    labs(x=\"Endpoints\", y=\"Rate Ratio\") +# (Top vs. Bottom 10%)\")+\n",
    "    scale_color_manual(values=c(\"NO\"=\"black\", \"YES\"=\"firebrick\"))+\n",
    "    scale_alpha_manual(values=c(\"NO\"=0.1, \"YES\"=1))+\n",
    "    scale_size_manual(values=c(\"NO\"=0.01, \"YES\"=1))+\n",
    "    #scale_colour_manual(values = c(\"pos\"=\"forestgreen\", \"neg\" = \"firebrick\")) + \n",
    "    #coord_polar() +\n",
    "    coord_cartesian(ylim=c(0, log(1000000)), clip = \"off\")+\n",
    "    scale_y_continuous(expand=c(0, 0), breaks=c(log(1), log(10), log(100), log(1000)), labels=c(1, 10, 100, 1000)) +\n",
    "    #scale_y_continuous(, trans='log10')+\n",
    "    scale_x_discrete(expand=expansion(add=20))+\n",
    "    facet_grid(~phecode_category, scales=\"free_x\", space=\"free_x\")+#, switch=TRUE)+\n",
    "    #facet_grid2(~phecode_category, scales = \"free\", independent = \"all\") + \n",
    "    theme(axis.title.x=element_blank(),\n",
    "        axis.text.x=element_blank(),\n",
    "        axis.ticks.x=element_blank(),\n",
    "        panel.grid.major.y=element_line(), \n",
    "         strip.text = element_text(angle=270)) + \n",
    "    theme(legend.position=\"none\") \n",
    "    \n",
    "    #geom_ribbon(aes(x=id, ymin=AgeSex, ymax=`Age+Sex+Retina`), fill=\"red\", alpha=0.2)\n",
    "#geom_violin(size=0.1)\n",
    "overview"
   ]
  },
  {
   "cell_type": "code",
   "execution_count": null,
   "metadata": {
    "tags": []
   },
   "outputs": [],
   "source": [
    "plot_name = \"RR_overview\"\n",
    "overview %>% ggsave(filename=glue(\"outputs/{plot_name}.pdf\"), device=\"pdf\", width=plot_width, height=plot_height, dpi=plot_res, limitsize=FALSE)"
   ]
  },
  {
   "cell_type": "code",
   "execution_count": null,
   "metadata": {},
   "outputs": [],
   "source": []
  },
  {
   "cell_type": "code",
   "execution_count": null,
   "metadata": {},
   "outputs": [],
   "source": []
  },
  {
   "cell_type": "code",
   "execution_count": null,
   "metadata": {},
   "outputs": [],
   "source": []
  },
  {
   "cell_type": "code",
   "execution_count": null,
   "metadata": {},
   "outputs": [],
   "source": []
  },
  {
   "cell_type": "code",
   "execution_count": null,
   "metadata": {},
   "outputs": [],
   "source": []
  },
  {
   "cell_type": "code",
   "execution_count": null,
   "metadata": {},
   "outputs": [],
   "source": []
  },
  {
   "cell_type": "code",
   "execution_count": null,
   "metadata": {},
   "outputs": [],
   "source": []
  },
  {
   "cell_type": "markdown",
   "metadata": {},
   "source": [
    "## Endpoint selection for health state and incident disease rates"
   ]
  },
  {
   "cell_type": "code",
   "execution_count": null,
   "metadata": {},
   "outputs": [],
   "source": [
    "predictions = paths %>% map_df(\n",
    "    ~suppressWarnings(read_feather(., col_select=c(\"eid\", all_of(endpoint_selection)))) %>% \n",
    "    pivot_longer(endpoint_selection, names_to=\"endpoint\", values_to=\"logh\") %>%\n",
    "    mutate(eid = as.integer(as.character(eid))) %>%\n",
    "    select(endpoint, eid, logh))# %>% arrange(endpoint, eid)\n",
    "predictions %>% head()"
   ]
  },
  {
   "cell_type": "markdown",
   "metadata": {
    "tags": []
   },
   "source": [
    "pred_outcomes = predictions %>% left_join(data_outcomes, on=c(eid, endpoint)) %>% as.data.table() #%>% as_tibble()"
   ]
  },
  {
   "cell_type": "code",
   "execution_count": null,
   "metadata": {
    "tags": []
   },
   "outputs": [],
   "source": [
    "logh_inc = pred_outcomes %>% filter(included==1) %>% group_by(endpoint) %>% mutate(logh_perc = ntile(logh, 100)) %>% ungroup() %>% as_tibble()"
   ]
  },
  {
   "cell_type": "code",
   "execution_count": null,
   "metadata": {
    "tags": []
   },
   "outputs": [],
   "source": [
    "logh_T_agg = logh_inc %>% group_by(endpoint, logh_perc) %>% summarise(n=sum(event), ratio = mean(event)) %>% as_tibble()"
   ]
  },
  {
   "cell_type": "code",
   "execution_count": null,
   "metadata": {
    "tags": []
   },
   "outputs": [],
   "source": [
    "#logh_T_endpoint = logh_inc %>% group_by(endpoint) %>% summarise(n_all=sum(event), ratio_all = mean(event)) %>% as_tibble()"
   ]
  },
  {
   "cell_type": "code",
   "execution_count": null,
   "metadata": {
    "tags": []
   },
   "outputs": [],
   "source": [
    "endpoint_order"
   ]
  },
  {
   "cell_type": "code",
   "execution_count": null,
   "metadata": {
    "tags": []
   },
   "outputs": [],
   "source": [
    "plot_width = 8.25; plot_height=6; plot_res = 320\n",
    "options(repr.plot.width = plot_width, repr.plot.height = plot_height, repr.plot.res=plot_res)\n",
    "#temp_rank = event_rest %>% filter(features==\"Metabolomics\") %>% arrange(desc(MET10PercvsREST))\n",
    "#endpoint_order = (endpoint_defs %>% mutate(phecode_rank = as.numeric(phecode)) %>% arrange(phecode_rank) %>% as_tibble())$endpoint\n",
    "temp = logh_T_agg %>% filter(endpoint %in% endpoint_selection) %>% mutate(endpoint = factor(endpoint, levels=endpoint_order)) %>% ungroup() %>% arrange(endpoint) #%>% sample_n(10000)\n",
    "\n",
    "fig2a = ggplot(temp, aes(x=logh_perc, y=ratio*100, color=logh_perc)) + \n",
    "    labs(title=NULL, x=\"Risk Percentile (%)\", y=\"Incident Events (%)\") +\n",
    "    geom_point(alpha=0.7, size=0.3) + \n",
    "    scale_colour_gradient(low = \"#7AC6FF\", high = \"#023768\", space = \"Lab\", na.value = \"grey50\", guide = \"colourbar\", aesthetics = \"colour\")+\n",
    "    scale_y_continuous(limits=c(0, NA), expand=expansion(mult=c(0, .05)))+#, limits=c(0, NA))+\n",
    "    scale_x_continuous(expand=expansion(add=c(0, 1)))+\n",
    "    facet_wrap(~endpoint, scale=\"free\", labeller = labeller(endpoint = as_labeller(endpoint_map, default=label_wrap_gen(22))), ncol=6) + theme(legend.position=\"none\")\n",
    "fig2a"
   ]
  },
  {
   "cell_type": "code",
   "execution_count": null,
   "metadata": {
    "tags": []
   },
   "outputs": [],
   "source": [
    "plot_width = 8.25; plot_height=3.5; plot_res = 320\n",
    "options(repr.plot.width = plot_width, repr.plot.height = plot_height, repr.plot.res=plot_res)\n",
    "#temp_rank = event_rest %>% filter(features==\"Metabolomics\") %>% arrange(desc(MET10PercvsREST))\n",
    "#endpoint_order = (endpoint_defs %>% mutate(phecode_rank = as.numeric(phecode)) %>% arrange(phecode_rank) %>% as_tibble())$endpoint\n",
    "temp = logh_T_agg %>% filter(endpoint %in% endpoint_selection) %>% mutate(endpoint = factor(endpoint, levels=endpoint_order)) %>% ungroup() %>% arrange(endpoint) #%>% sample_n(10000)\n",
    "\n",
    "fig2a_common = ggplot(temp %>% filter(endpoint %in% endpoints_common), aes(x=logh_perc, y=ratio*100, color=logh_perc)) + \n",
    "    labs(title=NULL, x=\"Risk Percentile (%)\", y=\"Incident Events (%)\") +\n",
    "    geom_point(alpha=0.7, size=0.3) + \n",
    "    scale_colour_gradient(low = \"#7AC6FF\", high = \"#023768\", space = \"Lab\", na.value = \"grey50\", guide = \"colourbar\", aesthetics = \"colour\")+\n",
    "    scale_y_continuous(limits=c(0, NA), expand=expansion(mult=c(0, .05)))+#, limits=c(0, NA))+\n",
    "    scale_x_continuous(expand=expansion(add=c(0, 1)))+\n",
    "    facet_wrap(~endpoint, scale=\"free\", labeller = labeller(endpoint = as_labeller(endpoint_map, default=label_wrap_gen(22))), ncol=6) + theme(legend.position=\"none\")\n",
    "fig2a_common"
   ]
  },
  {
   "cell_type": "code",
   "execution_count": null,
   "metadata": {
    "tags": []
   },
   "outputs": [],
   "source": [
    "plot_width = 8.25; plot_height=1.75; plot_res = 320\n",
    "options(repr.plot.width = plot_width, repr.plot.height = plot_height, repr.plot.res=plot_res)\n",
    "#temp_rank = event_rest %>% filter(features==\"Metabolomics\") %>% arrange(desc(MET10PercvsREST))\n",
    "#endpoint_order = (endpoint_defs %>% mutate(phecode_rank = as.numeric(phecode)) %>% arrange(phecode_rank) %>% as_tibble())$endpoint\n",
    "temp = logh_T_agg %>% filter(endpoint %in% endpoint_selection) %>% mutate(endpoint = factor(endpoint, levels=endpoint_order)) %>% ungroup() %>% arrange(endpoint) #%>% sample_n(10000)\n",
    "\n",
    "fig2a_cardio = ggplot(temp %>% filter(endpoint %in% endpoints_cardio), aes(x=logh_perc, y=ratio*100, color=logh_perc)) + \n",
    "    labs(title=NULL, x=\"Risk Percentile (%)\", y=\"Incident Events (%)\") +\n",
    "    geom_point(alpha=0.7, size=0.3) + \n",
    "    scale_colour_gradient(low = \"#7AC6FF\", high = \"#023768\", space = \"Lab\", na.value = \"grey50\", guide = \"colourbar\", aesthetics = \"colour\")+\n",
    "    scale_y_continuous(limits=c(0, NA), expand=expansion(mult=c(0, .05)))+#, limits=c(0, NA))+\n",
    "    scale_x_continuous(expand=expansion(add=c(0, 1)))+\n",
    "    facet_wrap(~endpoint, scale=\"free\", labeller = labeller(endpoint = as_labeller(endpoint_map, default=label_wrap_gen(22))), ncol=6) + theme(legend.position=\"none\")\n",
    "fig2a_cardio"
   ]
  },
  {
   "cell_type": "code",
   "execution_count": null,
   "metadata": {
    "tags": []
   },
   "outputs": [],
   "source": [
    "plot_width = 8.25; plot_height=1.75; plot_res = 320\n",
    "options(repr.plot.width = plot_width, repr.plot.height = plot_height, repr.plot.res=plot_res)\n",
    "#temp_rank = event_rest %>% filter(features==\"Metabolomics\") %>% arrange(desc(MET10PercvsREST))\n",
    "#endpoint_order = (endpoint_defs %>% mutate(phecode_rank = as.numeric(phecode)) %>% arrange(phecode_rank) %>% as_tibble())$endpoint\n",
    "temp = logh_T_agg %>% filter(endpoint %in% endpoint_selection) %>% mutate(endpoint = factor(endpoint, levels=endpoint_order)) %>% ungroup() %>% arrange(endpoint) #%>% sample_n(10000)\n",
    "\n",
    "fig2a_interesting = ggplot(temp %>% filter(endpoint %in% endpoints_interesting), aes(x=logh_perc, y=ratio*100, color=logh_perc)) + \n",
    "    labs(title=NULL, x=\"Risk Percentile (%)\", y=\"Incident Events (%)\") +\n",
    "    geom_point(alpha=0.7, size=0.3) + \n",
    "    scale_colour_gradient(low = \"#7AC6FF\", high = \"#023768\", space = \"Lab\", na.value = \"grey50\", guide = \"colourbar\", aesthetics = \"colour\")+\n",
    "    scale_y_continuous(limits=c(0, NA), expand=expansion(mult=c(0, .05)))+#, limits=c(0, NA))+\n",
    "    scale_x_continuous(expand=expansion(add=c(0, 1)))+\n",
    "    facet_wrap(~endpoint, scale=\"free\", labeller = labeller(endpoint = as_labeller(endpoint_map, default=label_wrap_gen(22))), ncol=6) + theme(legend.position=\"none\")\n",
    "fig2a_interesting"
   ]
  },
  {
   "cell_type": "markdown",
   "metadata": {},
   "source": [
    "# Kaplan Mayer"
   ]
  },
  {
   "cell_type": "code",
   "execution_count": null,
   "metadata": {
    "tags": []
   },
   "outputs": [],
   "source": [
    "logh_mh = logh_inc %>% select(endpoint, eid, logh_perc, event, time) %>% group_by(endpoint) %>% \n",
    "    mutate(MH=case_when(logh_perc %in% 100 ~ \"High\", \n",
    "                        logh_perc %in% 51 ~ \"Mid\", \n",
    "                        logh_perc %in% 1 ~ \"Low\",\n",
    "                        TRUE ~ \"NA\")\n",
    "          ) %>% mutate(MH=fct_rev(factor(MH, levels=c(\"Low\", \"Mid\", \"High\")))) %>% ungroup() %>% \n",
    "    filter(MH!=\"NA\") #%>% select(eid, endpoint, logh, logh_group)"
   ]
  },
  {
   "cell_type": "raw",
   "metadata": {},
   "source": [
    "logh_mh = logh_inc %>% select(endpoint, eid, logh_perc, event, time) %>% group_by(endpoint) %>% \n",
    "    mutate(MH=case_when(logh_perc %in% 91:100 ~ \"High\", \n",
    "                        logh_perc %in% 45:55 ~ \"Mid\", \n",
    "                        logh_perc %in% 1:10 ~ \"Low\",\n",
    "                        TRUE ~ \"NA\")\n",
    "          ) %>% mutate(MET = fct_rev(factor(MH, levels=c(\"Low\", \"Mid\", \"High\")))) %>% ungroup() %>% \n",
    "    filter(MH!=\"NA\") #%>% select(eid, endpoint, logh, logh_group)"
   ]
  },
  {
   "cell_type": "code",
   "execution_count": null,
   "metadata": {
    "tags": []
   },
   "outputs": [],
   "source": [
    "require(\"ggquickeda\")\n",
    "plot_width = 8.25; plot_height=6; plot_res = 320\n",
    "options(repr.plot.width = plot_width, repr.plot.height = plot_height, repr.plot.res=plot_res)\n",
    "met_map = c(\"High\"=\"#023768\", \"Mid\"=\"#4F8EC1\", \"Low\"=\"#7AC6FF\")\n",
    "\n",
    "temp = logh_mh %>% mutate(endpoint = factor(endpoint, levels=endpoint_order)) %>% filter(endpoint %in% endpoint_selection) %>% ungroup() \n",
    "\n",
    "fig2b = ggplot(temp, aes(time = time, status = event, fill=MH, color=MH, group=MH)) +\n",
    "    geom_km(trans = \"event\") + \n",
    "    geom_kmticks(trans = \"event\", size=0.2, alpha=0.01) + \n",
    "    geom_kmband(trans = \"event\") + \n",
    "    labs(x=\"Time (Years)\", y=\"Cumulative Events (%)\")+\n",
    "    scale_color_manual(values=met_map)+scale_fill_manual(values=met_map)+\n",
    "    scale_y_continuous(labels = function(x) round(x*100, 1), expand=c(0, 0))+\n",
    "    scale_x_continuous(expand=expansion(add=c(0, .1)), breaks=c(5, 10))+\n",
    "    facet_wrap(~endpoint, scale=\"free\", labeller = labeller(endpoint = as_labeller(endpoint_map, default=label_wrap_gen(22))), ncol=6) + theme(legend.position=\"none\")\n",
    "fig2b"
   ]
  },
  {
   "cell_type": "code",
   "execution_count": null,
   "metadata": {
    "tags": []
   },
   "outputs": [],
   "source": [
    "require(\"ggquickeda\")\n",
    "plot_width = 8.25; plot_height=3.5; plot_res = 320\n",
    "options(repr.plot.width = plot_width, repr.plot.height = plot_height, repr.plot.res=plot_res)\n",
    "met_map = c(\"High\"=\"#023768\", \"Mid\"=\"#4F8EC1\", \"Low\"=\"#7AC6FF\")\n",
    "\n",
    "temp = logh_mh %>% mutate(endpoint = factor(endpoint, levels=endpoint_order)) %>% filter(endpoint %in% endpoint_selection) %>% ungroup() \n",
    "\n",
    "fig2b_common = ggplot(temp %>% filter(endpoint %in% endpoints_common), aes(time = time, status = event, fill=MH, color=MH, group=MH)) +\n",
    "    geom_km(trans = \"event\") + \n",
    "    geom_kmticks(trans = \"event\", size=0.2, alpha=0.01) + \n",
    "    geom_kmband(trans = \"event\") + \n",
    "    labs(x=\"Time (Years)\", y=\"Cumulative Events (%)\")+\n",
    "    scale_color_manual(values=met_map)+scale_fill_manual(values=met_map)+\n",
    "    scale_y_continuous(labels = function(x) round(x*100, 1), expand=c(0, 0))+\n",
    "    scale_x_continuous(expand=expansion(add=c(0, .1)), breaks=c(5, 10))+\n",
    "    facet_wrap(~endpoint, scale=\"free\", labeller = labeller(endpoint = as_labeller(endpoint_map, default=label_wrap_gen(22))), ncol=6) + theme(legend.position=\"none\")\n",
    "fig2b_common"
   ]
  },
  {
   "cell_type": "code",
   "execution_count": null,
   "metadata": {
    "tags": []
   },
   "outputs": [],
   "source": [
    "require(\"ggquickeda\")\n",
    "plot_width = 8.25; plot_height=1.75; plot_res = 320\n",
    "options(repr.plot.width = plot_width, repr.plot.height = plot_height, repr.plot.res=plot_res)\n",
    "met_map = c(\"High\"=\"#023768\", \"Mid\"=\"#4F8EC1\", \"Low\"=\"#7AC6FF\")\n",
    "\n",
    "temp = logh_mh %>% mutate(endpoint = factor(endpoint, levels=endpoint_order)) %>% filter(endpoint %in% endpoint_selection) %>% ungroup() \n",
    "\n",
    "fig2b_cardio = ggplot(temp %>% filter(endpoint %in% endpoints_cardio), aes(time = time, status = event, fill=MH, color=MH, group=MH)) +\n",
    "    geom_km(trans = \"event\") + \n",
    "    geom_kmticks(trans = \"event\", size=0.2, alpha=0.01) + \n",
    "    geom_kmband(trans = \"event\") + \n",
    "    labs(x=\"Time (Years)\", y=\"Cumulative Events (%)\")+\n",
    "    scale_color_manual(values=met_map)+scale_fill_manual(values=met_map)+\n",
    "    scale_y_continuous(labels = function(x) round(x*100, 1), expand=c(0, 0))+\n",
    "    scale_x_continuous(expand=expansion(add=c(0, .1)), breaks=c(5, 10))+\n",
    "    facet_wrap(~endpoint, scale=\"free\", labeller = labeller(endpoint = as_labeller(endpoint_map, default=label_wrap_gen(22))), ncol=6) + theme(legend.position=\"none\")\n",
    "fig2b_cardio"
   ]
  },
  {
   "cell_type": "code",
   "execution_count": null,
   "metadata": {
    "tags": []
   },
   "outputs": [],
   "source": [
    "require(\"ggquickeda\")\n",
    "plot_width = 8.25; plot_height=1.75; plot_res = 320\n",
    "options(repr.plot.width = plot_width, repr.plot.height = plot_height, repr.plot.res=plot_res)\n",
    "met_map = c(\"High\"=\"#023768\", \"Mid\"=\"#4F8EC1\", \"Low\"=\"#7AC6FF\")\n",
    "\n",
    "temp = logh_mh %>% mutate(endpoint = factor(endpoint, levels=endpoint_order)) %>% filter(endpoint %in% endpoint_selection) %>% ungroup() \n",
    "\n",
    "fig2b_interesting = ggplot(temp %>% filter(endpoint %in% endpoints_interesting), aes(time = time, status = event, fill=MH, color=MH, group=MH)) +\n",
    "    geom_km(trans = \"event\") + \n",
    "    geom_kmticks(trans = \"event\", size=0.2, alpha=0.01) + \n",
    "    geom_kmband(trans = \"event\") + \n",
    "    labs(x=\"Time (Years)\", y=\"Cumulative Events (%)\")+\n",
    "    scale_color_manual(values=met_map)+scale_fill_manual(values=met_map)+\n",
    "    scale_y_continuous(labels = function(x) round(x*100, 1), expand=c(0, 0))+\n",
    "    scale_x_continuous(expand=expansion(add=c(0, .1)), breaks=c(5, 10))+\n",
    "    facet_wrap(~endpoint, scale=\"free\", labeller = labeller(endpoint = as_labeller(endpoint_map, default=label_wrap_gen(22))), ncol=6) + theme(legend.position=\"none\")\n",
    "fig2b_interesting"
   ]
  },
  {
   "cell_type": "code",
   "execution_count": null,
   "metadata": {
    "tags": []
   },
   "outputs": [],
   "source": [
    "plot_width = 8.25; plot_height=12; plot_res = 320\n",
    "options(repr.plot.width = plot_width, repr.plot.height = plot_height, repr.plot.res=plot_res)\n",
    "\n",
    "fig2 = (fig2a / fig2b)\n",
    "fig2"
   ]
  },
  {
   "cell_type": "code",
   "execution_count": null,
   "metadata": {
    "tags": []
   },
   "outputs": [],
   "source": [
    "plot_width = 8.25; plot_height=6; plot_res = 320\n",
    "options(repr.plot.width = plot_width, repr.plot.height = plot_height, repr.plot.res=plot_res)\n",
    "\n",
    "fig2_common = (fig2a_common / fig2b_common)\n",
    "fig2_common"
   ]
  },
  {
   "cell_type": "code",
   "execution_count": null,
   "metadata": {
    "tags": []
   },
   "outputs": [],
   "source": [
    "plot_width = 8.25; plot_height=3.5; plot_res = 320\n",
    "options(repr.plot.width = plot_width, repr.plot.height = plot_height, repr.plot.res=plot_res)\n",
    "\n",
    "fig2_cardio = (fig2a_cardio / fig2b_cardio)\n",
    "fig2_cardio"
   ]
  },
  {
   "cell_type": "code",
   "execution_count": null,
   "metadata": {},
   "outputs": [],
   "source": [
    "plot_name = \"Figure_2_EventRates\"\n",
    "fig2 %>% ggsave(filename=glue(\"outputs/{plot_name}.pdf\"), device=\"pdf\", width=plot_width, height=plot_height, dpi=plot_res, limitsize=FALSE)"
   ]
  },
  {
   "cell_type": "code",
   "execution_count": null,
   "metadata": {},
   "outputs": [],
   "source": []
  },
  {
   "cell_type": "code",
   "execution_count": null,
   "metadata": {},
   "outputs": [],
   "source": []
  },
  {
   "cell_type": "code",
   "execution_count": null,
   "metadata": {},
   "outputs": [],
   "source": []
  },
  {
   "cell_type": "code",
   "execution_count": null,
   "metadata": {},
   "outputs": [],
   "source": [
    "plot_width = 50; plot_height=75; plot_res = 320\n",
    "options(repr.plot.width = plot_width, repr.plot.height = plot_height, repr.plot.res=plot_res)\n",
    "#temp_rank = event_rest %>% filter(features==\"Metabolomics\") %>% arrange(desc(MET10PercvsREST))\n",
    "endpoint_order = (phecode_defs %>% mutate(phecode_rank = as.numeric(phecode)) %>% arrange(phecode_rank) %>% as_tibble())$endpoint\n",
    "endpoint_selection = endpoint_order# %>% head(500)\n",
    "temp = logh_T_agg %>% filter(model==\"GNN(Records)+MLP\") %>% mutate(endpoint = factor(endpoint, levels=endpoint_order)) %>% filter(endpoint %in% endpoint_selection) %>% ungroup() #%>% sample_n(10000)\n",
    "\n",
    "mh_events = ggplot(temp, aes(x=logh_perc, y=ratio*100, color=logh_perc)) + \n",
    "    labs(title=NULL, x=\"Retina Percentile [%]\", y=\"Observed Event Rate [%]\") +\n",
    "    geom_point(alpha=0.7, size=0.1) + \n",
    "    scale_colour_gradient(\n",
    "  low = \"#7AC6FF\",\n",
    "  high = \"#023768\",\n",
    "  space = \"Lab\",\n",
    "  na.value = \"grey50\",\n",
    "  guide = \"colourbar\",\n",
    "  aesthetics = \"colour\"\n",
    ")+\n",
    "    #scale_color_manual(values=c(\"Metabolomics\"=\"black\"))+\n",
    "    scale_y_continuous(limits=c(0, NA), expand=expansion(mult=c(0, .05)))+#, limits=c(0, NA))+\n",
    "    scale_x_continuous(expand=expansion(add=c(0, 1)))+\n",
    "    facet_wrap(~endpoint, scale=\"free\", labeller = labeller(endpoint = endpoint_map), ncol=25) + theme(legend.position=\"none\")"
   ]
  },
  {
   "cell_type": "code",
   "execution_count": null,
   "metadata": {},
   "outputs": [],
   "source": []
  },
  {
   "cell_type": "code",
   "execution_count": null,
   "metadata": {},
   "outputs": [],
   "source": [
    "plot_name = \"RetinaRisk\"\n",
    "mh_events %>% ggsave(filename=glue(\"outputs/{plot_name}.png\"), device=\"png\", width=plot_width, height=plot_height, dpi=plot_res, limitsize=FALSE)"
   ]
  },
  {
   "cell_type": "markdown",
   "metadata": {},
   "source": [
    "## Add buffer"
   ]
  },
  {
   "cell_type": "code",
   "execution_count": null,
   "metadata": {},
   "outputs": [],
   "source": [
    "pred_outcomes %>% head()"
   ]
  },
  {
   "cell_type": "code",
   "execution_count": null,
   "metadata": {},
   "outputs": [],
   "source": [
    "logh_T_agg_buffer = pred_outcomes %>% filter(prevalent==0) %>% mutate(event_buffer = case_when((event!=0&time<1) ~ 0, TRUE ~ event)) %>% group_by(endpoint, model) %>% mutate(logh_perc = ntile(logh, 100)) %>% group_by(endpoint, model, logh_perc) %>% summarise(ratio = mean(event_buffer)) %>% as_tibble()"
   ]
  },
  {
   "cell_type": "code",
   "execution_count": null,
   "metadata": {},
   "outputs": [],
   "source": [
    "logh_T_agg_buffer %>% write_feather(glue(\"{output_path}/logh_agg_1ybuffer_220224.feather\"))"
   ]
  },
  {
   "cell_type": "code",
   "execution_count": null,
   "metadata": {},
   "outputs": [],
   "source": [
    "plot_width = 50; plot_height=75; plot_res = 320\n",
    "options(repr.plot.width = plot_width, repr.plot.height = plot_height, repr.plot.res=plot_res)\n",
    "#temp_rank = event_rest %>% filter(features==\"Metabolomics\") %>% arrange(desc(MET10PercvsREST))\n",
    "endpoint_order = (phecode_defs %>% mutate(phecode_rank = as.numeric(phecode)) %>% arrange(phecode_rank) %>% as_tibble())$endpoint\n",
    "endpoint_selection = endpoint_order# %>% head(500)\n",
    "temp = logh_T_agg_buffer %>% filter(model==\"GNN(Records)+MLP\") %>% mutate(endpoint = factor(endpoint, levels=endpoint_order)) %>% filter(endpoint %in% endpoint_selection) %>% ungroup() #%>% sample_n(10000)\n",
    "\n",
    "mh_events = ggplot(temp, aes(x=logh_perc, y=ratio*100, color=logh_perc)) + \n",
    "    labs(title=NULL, x=\"Medical History Percentile [%]\", y=\"Observed Event Rate [%]\") +\n",
    "    geom_point(alpha=0.7, size=0.1) + \n",
    "    scale_colour_gradient(\n",
    "  low = \"#7AC6FF\",\n",
    "  high = \"#023768\",\n",
    "  space = \"Lab\",\n",
    "  na.value = \"grey50\",\n",
    "  guide = \"colourbar\",\n",
    "  aesthetics = \"colour\"\n",
    ")+\n",
    "    #scale_color_manual(values=c(\"Metabolomics\"=\"black\"))+\n",
    "    scale_y_continuous(limits=c(0, NA), expand=expansion(mult=c(0, .05)))+#, limits=c(0, NA))+\n",
    "    scale_x_continuous(expand=expansion(add=c(0, 1)))+\n",
    "    facet_wrap(~endpoint, scale=\"free\", labeller = labeller(endpoint = endpoint_map), ncol=25) + theme(legend.position=\"none\")"
   ]
  },
  {
   "cell_type": "code",
   "execution_count": null,
   "metadata": {},
   "outputs": [],
   "source": [
    "plot_name = \"RetinaRisk_1ybuffer\"\n",
    "mh_events %>% ggsave(filename=glue(\"outputs/{plot_name}.png\"), device=\"png\", width=plot_width, height=plot_height, dpi=plot_res, limitsize=FALSE)"
   ]
  },
  {
   "cell_type": "markdown",
   "metadata": {
    "tags": []
   },
   "source": [
    "## Metabolomic State and Event Trajectories"
   ]
  },
  {
   "cell_type": "code",
   "execution_count": null,
   "metadata": {},
   "outputs": [],
   "source": []
  },
  {
   "cell_type": "code",
   "execution_count": null,
   "metadata": {},
   "outputs": [],
   "source": [
    "logh_mh = logh_inc %>% select(endpoint, model, eid, logh_perc, event, time) %>% group_by(endpoint) %>% \n",
    "    mutate(MH=case_when(logh_perc %in% 91:100 ~ \"High\", \n",
    "                        logh_perc %in% 45:55 ~ \"Mid\", \n",
    "                        logh_perc %in% 1:10 ~ \"Low\",\n",
    "                        TRUE ~ \"NA\")\n",
    "          ) %>% mutate(MET = fct_rev(factor(MET, levels=c(\"Low\", \"Mid\", \"High\")))) %>% ungroup() %>% \n",
    "    filter(MH!=\"NA\") #%>% select(eid, endpoint, logh, logh_group)"
   ]
  },
  {
   "cell_type": "code",
   "execution_count": null,
   "metadata": {},
   "outputs": [],
   "source": [
    "require(\"ggquickeda\")\n",
    "plot_width = 50; plot_height=75; plot_res = 320\n",
    "options(repr.plot.width = plot_width, repr.plot.height = plot_height, repr.plot.res=plot_res)\n",
    "met_map = c(\"High\"=\"#023768\", \"Mid\"=\"#4F8EC1\", \"Low\"=\"#7AC6FF\")\n",
    "\n",
    "endpoint_order = (phecode_defs %>% mutate(phecode_rank = as.numeric(phecode)) %>% arrange(phecode_rank) %>% as_tibble())$endpoint\n",
    "endpoint_selection = endpoint_order# %>% head(500)\n",
    "temp = logh_mh %>% mutate(endpoint = factor(endpoint, levels=endpoint_order)) %>% filter(endpoint %in% endpoint_selection) %>% ungroup() \n",
    "\n",
    "km_plot = ggplot(temp, aes(time = time, status = event, fill=MET, color=MET,group=MET)) +\n",
    "    geom_km(trans = \"event\") + \n",
    "    geom_kmticks(trans = \"event\", size=0.3) + geom_kmband(trans = \"event\") + \n",
    "    labs(x=\"Time [Years]\", y=\"Cumulative Events [%]\")+\n",
    "    scale_color_manual(values=met_map)+scale_fill_manual(values=met_map)+\n",
    "    scale_y_continuous(labels = function(x) round(x*100, 1), expand=c(0, 0))+\n",
    "    scale_x_continuous(expand=expansion(add=c(0, .1)), breaks=c(5, 10))+\n",
    "    facet_wrap(~ endpoint, scale=\"free\", labeller = labeller(endpoint = endpoint_map), ncol=25) + theme(legend.position=\"none\")"
   ]
  },
  {
   "cell_type": "code",
   "execution_count": null,
   "metadata": {},
   "outputs": [],
   "source": [
    "plot_name = \"Retina_KMs\"\n",
    "km_plot %>% ggsave(filename=glue(\"outputs/{plot_name}.png\"), device=\"png\", width=plot_width, height=plot_height, dpi=plot_res, limitsize=FALSE)"
   ]
  },
  {
   "cell_type": "markdown",
   "metadata": {},
   "source": [
    "# Top 1%"
   ]
  },
  {
   "cell_type": "code",
   "execution_count": null,
   "metadata": {},
   "outputs": [],
   "source": [
    "logh_mh = logh_inc %>% select(endpoint, model, eid, logh_perc, event, time) %>% group_by(endpoint) %>% \n",
    "    mutate(MH=case_when(logh_perc == 100 ~ \"High\", \n",
    "                        logh_perc %in% 50:51 ~ \"Mid\", \n",
    "                        logh_perc == 1 ~ \"Low\",\n",
    "                        TRUE ~ \"NA\")\n",
    "          ) %>% mutate(MET = fct_rev(factor(MH, levels=c(\"Low\", \"Mid\", \"High\")))) %>% ungroup() %>% \n",
    "    filter(MH!=\"NA\") #%>% select(eid, endpoint, logh, logh_group)"
   ]
  },
  {
   "cell_type": "code",
   "execution_count": null,
   "metadata": {},
   "outputs": [],
   "source": [
    "require(\"ggquickeda\")\n",
    "plot_width = 50; plot_height=75; plot_res = 320\n",
    "options(repr.plot.width = plot_width, repr.plot.height = plot_height, repr.plot.res=plot_res)\n",
    "mh_map = c(\"High\"=\"#023768\", \"Mid\"=\"#4F8EC1\", \"Low\"=\"#7AC6FF\")\n",
    "\n",
    "endpoint_order = (phecode_defs %>% mutate(phecode_rank = as.numeric(phecode)) %>% arrange(phecode_rank) %>% as_tibble())$endpoint\n",
    "endpoint_selection = endpoint_order# %>% head(500)\n",
    "temp = logh_mh %>% mutate(endpoint = factor(endpoint, levels=endpoint_order)) %>% filter(endpoint %in% endpoint_selection) %>% ungroup() \n",
    "\n",
    "km_plot = ggplot(temp, aes(time = time, status = event, fill=MH, color=MH,group=MH)) +\n",
    "    geom_km(trans = \"event\") + \n",
    "    geom_kmticks(trans = \"event\", size=0.3) + geom_kmband(trans = \"event\") + \n",
    "    labs(x=\"Time [Years]\", y=\"Cumulative Events [%]\")+\n",
    "    scale_color_manual(values=met_map)+scale_fill_manual(values=mh_map)+\n",
    "    scale_y_continuous(labels = function(x) round(x*100, 1), expand=c(0, 0))+\n",
    "    scale_x_continuous(expand=expansion(add=c(0, .1)), breaks=c(5, 10))+\n",
    "    facet_wrap(~ endpoint, scale=\"free\", labeller = labeller(endpoint = endpoint_map), ncol=25) + theme(legend.position=\"none\")"
   ]
  },
  {
   "cell_type": "code",
   "execution_count": null,
   "metadata": {},
   "outputs": [],
   "source": [
    "plot_name = \"Retina_KMs_Top1\"\n",
    "km_plot %>% ggsave(filename=glue(\"outputs/{plot_name}.png\"), device=\"png\", width=plot_width, height=plot_height, dpi=plot_res, limitsize=FALSE)"
   ]
  },
  {
   "cell_type": "markdown",
   "metadata": {},
   "source": [
    "# Figure 2"
   ]
  },
  {
   "cell_type": "code",
   "execution_count": null,
   "metadata": {},
   "outputs": [],
   "source": [
    "plot_width=8.25; plot_height=10; plot_dpi=320\n",
    "options(repr.plot.width = plot_width, repr.plot.height = plot_height, repr.plot.res=plot_dpi)\n",
    "fig2 = met_events / km_plot# +plot_annotation(tag_levels = 'A')"
   ]
  },
  {
   "cell_type": "code",
   "execution_count": null,
   "metadata": {},
   "outputs": [],
   "source": [
    "fig2"
   ]
  },
  {
   "cell_type": "code",
   "execution_count": null,
   "metadata": {},
   "outputs": [],
   "source": [
    "library(gt)\n",
    "plot_name = \"Figures_2_AB\"\n",
    "fig2 %>% ggsave(filename=glue(\"outputs/{plot_name}.pdf\"), device=\"pdf\", width=plot_width, height=plot_height, dpi=320)"
   ]
  },
  {
   "cell_type": "code",
   "execution_count": null,
   "metadata": {},
   "outputs": [],
   "source": []
  }
 ],
 "metadata": {
  "hide_input": false,
  "kernelspec": {
   "display_name": "R",
   "language": "R",
   "name": "ir"
  },
  "language_info": {
   "codemirror_mode": "r",
   "file_extension": ".r",
   "mimetype": "text/x-r-source",
   "name": "R",
   "pygments_lexer": "r",
   "version": "4.0.2"
  },
  "toc-autonumbering": false
 },
 "nbformat": 4,
 "nbformat_minor": 4
}
