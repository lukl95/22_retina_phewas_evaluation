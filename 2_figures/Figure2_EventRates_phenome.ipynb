{
 "cells": [
  {
   "cell_type": "markdown",
   "metadata": {},
   "source": [
    "# Benchmarks"
   ]
  },
  {
   "cell_type": "markdown",
   "metadata": {},
   "source": [
    "## Initialize"
   ]
  },
  {
   "cell_type": "code",
   "execution_count": 1,
   "metadata": {
    "ExecuteTime": {
     "end_time": "2021-01-05T11:03:09.852316Z",
     "start_time": "2021-01-05T11:03:07.701Z"
    },
    "execution": {
     "iopub.execute_input": "2022-11-30T10:29:09.523222Z",
     "iopub.status.busy": "2022-11-30T10:29:09.521288Z",
     "iopub.status.idle": "2022-11-30T10:29:13.411219Z",
     "shell.execute_reply": "2022-11-30T10:29:13.410357Z"
    },
    "tags": []
   },
   "outputs": [
    {
     "name": "stderr",
     "output_type": "stream",
     "text": [
      "Warning message:\n",
      "“package ‘dtplyr’ was built under R version 4.0.3”\n",
      "Warning message:\n",
      "“package ‘tidyverse’ was built under R version 4.0.3”\n",
      "── \u001b[1mAttaching packages\u001b[22m ─────────────────────────────────────── tidyverse 1.3.1 ──\n",
      "\n",
      "\u001b[32m✔\u001b[39m \u001b[34mggplot2\u001b[39m 3.3.5     \u001b[32m✔\u001b[39m \u001b[34mpurrr  \u001b[39m 0.3.4\n",
      "\u001b[32m✔\u001b[39m \u001b[34mtibble \u001b[39m 3.1.7     \u001b[32m✔\u001b[39m \u001b[34mdplyr  \u001b[39m 1.0.9\n",
      "\u001b[32m✔\u001b[39m \u001b[34mtidyr  \u001b[39m 1.2.0     \u001b[32m✔\u001b[39m \u001b[34mstringr\u001b[39m 1.4.0\n",
      "\u001b[32m✔\u001b[39m \u001b[34mreadr  \u001b[39m 1.4.0     \u001b[32m✔\u001b[39m \u001b[34mforcats\u001b[39m 0.5.1\n",
      "\n",
      "Warning message:\n",
      "“package ‘ggplot2’ was built under R version 4.0.5”\n",
      "Warning message:\n",
      "“package ‘tibble’ was built under R version 4.0.5”\n",
      "Warning message:\n",
      "“package ‘tidyr’ was built under R version 4.0.5”\n",
      "Warning message:\n",
      "“package ‘readr’ was built under R version 4.0.5”\n",
      "Warning message:\n",
      "“package ‘purrr’ was built under R version 4.0.3”\n",
      "Warning message:\n",
      "“package ‘dplyr’ was built under R version 4.0.5”\n",
      "Warning message:\n",
      "“package ‘stringr’ was built under R version 4.0.5”\n",
      "Warning message:\n",
      "“package ‘forcats’ was built under R version 4.0.3”\n",
      "── \u001b[1mConflicts\u001b[22m ────────────────────────────────────────── tidyverse_conflicts() ──\n",
      "\u001b[31m✖\u001b[39m \u001b[34mdplyr\u001b[39m::\u001b[32mfilter()\u001b[39m masks \u001b[34mstats\u001b[39m::filter()\n",
      "\u001b[31m✖\u001b[39m \u001b[34mdplyr\u001b[39m::\u001b[32mlag()\u001b[39m    masks \u001b[34mstats\u001b[39m::lag()\n",
      "\n",
      "Warning message:\n",
      "“package ‘glue’ was built under R version 4.0.5”\n",
      "Warning message:\n",
      "“package ‘arrow’ was built under R version 4.0.5”\n",
      "\n",
      "Attaching package: ‘arrow’\n",
      "\n",
      "\n",
      "The following object is masked from ‘package:utils’:\n",
      "\n",
      "    timestamp\n",
      "\n",
      "\n",
      "Warning message:\n",
      "“package ‘patchwork’ was built under R version 4.0.3”\n",
      "Warning message:\n",
      "“package ‘data.table’ was built under R version 4.0.5”\n",
      "\n",
      "Attaching package: ‘data.table’\n",
      "\n",
      "\n",
      "The following objects are masked from ‘package:dplyr’:\n",
      "\n",
      "    between, first, last\n",
      "\n",
      "\n",
      "The following object is masked from ‘package:purrr’:\n",
      "\n",
      "    transpose\n",
      "\n",
      "\n",
      "Warning message:\n",
      "“package ‘jsonlite’ was built under R version 4.0.3”\n",
      "\n",
      "Attaching package: ‘jsonlite’\n",
      "\n",
      "\n",
      "The following object is masked from ‘package:purrr’:\n",
      "\n",
      "    flatten\n",
      "\n",
      "\n",
      "Warning message:\n",
      "“package ‘ggthemes’ was built under R version 4.0.3”\n"
     ]
    }
   ],
   "source": [
    "#library(Rmisc)\n",
    "library(dtplyr)\n",
    "library(tidyverse)\n",
    "library(glue)\n",
    "library(arrow)\n",
    "library(patchwork)\n",
    "library(data.table)\n",
    "library(\"jsonlite\")\n",
    "library(ggthemes)"
   ]
  },
  {
   "cell_type": "code",
   "execution_count": 2,
   "metadata": {
    "ExecuteTime": {
     "end_time": "2021-01-05T11:03:10.491477Z",
     "start_time": "2021-01-05T11:03:10.445Z"
    },
    "execution": {
     "iopub.execute_input": "2022-11-30T10:29:13.427418Z",
     "iopub.status.busy": "2022-11-30T10:29:13.412481Z",
     "iopub.status.idle": "2022-11-30T10:29:13.440602Z",
     "shell.execute_reply": "2022-11-30T10:29:13.439843Z"
    },
    "tags": []
   },
   "outputs": [
    {
     "name": "stdout",
     "output_type": "stream",
     "text": [
      "[1] \"/sc-projects/sc-proj-ukb-cvd\"\n"
     ]
    }
   ],
   "source": [
    "if (grepl(\"sc\", Sys.info()[[\"nodename\"]], fixed=TRUE)) {\n",
    "    base_path = \"/sc-projects/sc-proj-ukb-cvd\"\n",
    "} else {\n",
    "    base_path = \"/data/analysis/ag-reils/ag-reils-shared/cardioRS\"}\n",
    "print(base_path)\n",
    "\n",
    "project_label = \"22_retina_phewas\"\n",
    "project_path = glue(\"{base_path}/results/projects/{project_label}\")\n",
    "figure_path = glue(\"{project_path}/figures\")\n",
    "output_path = glue(\"{project_path}/data\")\n",
    "\n",
    "experiment = '221108'\n",
    "experiment_path = glue(\"{output_path}/{experiment}\")"
   ]
  },
  {
   "cell_type": "code",
   "execution_count": 3,
   "metadata": {
    "execution": {
     "iopub.execute_input": "2022-11-30T10:29:13.442357Z",
     "iopub.status.busy": "2022-11-30T10:29:13.441741Z",
     "iopub.status.idle": "2022-11-30T10:29:13.447980Z",
     "shell.execute_reply": "2022-11-30T10:29:13.447245Z"
    },
    "tags": []
   },
   "outputs": [],
   "source": [
    "library(data.table)\n",
    "library(arrow)"
   ]
  },
  {
   "cell_type": "code",
   "execution_count": 4,
   "metadata": {
    "execution": {
     "iopub.execute_input": "2022-11-30T10:29:13.449624Z",
     "iopub.status.busy": "2022-11-30T10:29:13.449009Z",
     "iopub.status.idle": "2022-11-30T10:29:13.480649Z",
     "shell.execute_reply": "2022-11-30T10:29:13.479817Z"
    },
    "tags": []
   },
   "outputs": [],
   "source": [
    "endpoints_md = fread(glue(\"{experiment_path}/endpoints.csv\"), colClasses=c(\"phecode\"=\"character\"))\n",
    "endpoints = sort(endpoints_md$endpoint)"
   ]
  },
  {
   "cell_type": "code",
   "execution_count": 5,
   "metadata": {
    "execution": {
     "iopub.execute_input": "2022-11-30T10:29:13.482380Z",
     "iopub.status.busy": "2022-11-30T10:29:13.481750Z",
     "iopub.status.idle": "2022-11-30T10:29:14.345841Z",
     "shell.execute_reply": "2022-11-30T10:29:14.344403Z"
    },
    "tags": []
   },
   "outputs": [],
   "source": [
    "endpoint_defs = arrow::read_feather(glue(\"{output_path}/phecode_defs_220306.feather\")) %>% arrange(endpoint)"
   ]
  },
  {
   "cell_type": "code",
   "execution_count": 6,
   "metadata": {
    "execution": {
     "iopub.execute_input": "2022-11-30T10:29:14.352138Z",
     "iopub.status.busy": "2022-11-30T10:29:14.351429Z",
     "iopub.status.idle": "2022-11-30T10:29:14.362483Z",
     "shell.execute_reply": "2022-11-30T10:29:14.361534Z"
    },
    "tags": []
   },
   "outputs": [],
   "source": [
    "endpoint_selection = c(\n",
    "    # generally very important\n",
    "    \"phecode_202\", # Diabetes mellitus\n",
    "    \"phecode_401\",\t#Hypertension\"  \n",
    "    \"phecode_404\", # Ischemic heart disease   \n",
    "    \"phecode_404-1\", # Myocardial infarction [Heart attack]\n",
    "    \"phecode_431-11\", # Cerebral infarction [Ischemic stroke]\n",
    "    \"phecode_424\", # Heart failure\n",
    "\n",
    "    \n",
    "    \"phecode_059-1\", # COVID 19\n",
    "    \"phecode_468\", # Pneumonia\n",
    "    \"phecode_474\", # Chronic obstructive pulmonary disease [COPD]\n",
    "      \n",
    "    \"phecode_286-2\", #\tMajor depressive disorder\n",
    "    \"phecode_324-11\", #Parkinson's Disease\n",
    "    \"phecode_328\", # Dementias and cerebral degeneration\n",
    "\n",
    "    \n",
    "    \"phecode_164\", # Anemia\n",
    "    \"phecode_726-1\", # Osteoporosis\n",
    "    \"phecode_371\", # Cataract\n",
    "    \"phecode_374-42\", # Diabetic retinopathy\n",
    "    \"phecode_374-5\", # Macular degeneration\n",
    "    \"phecode_375-1\", # Glaucoma\n",
    "    \n",
    "    \n",
    "    \"phecode_103\", # Malignant neoplasm of the skin\n",
    "    \"phecode_101\", # Malignant neoplasm of the digestive organs\n",
    "    \"phecode_102\", # LUNG CANCER\n",
    "    \n",
    "    \"phecode_583\", # Chronic kidney disease    \n",
    "    \"phecode_542\", # Chronic liver disease and sequelae    \n",
    "    \"OMOP_4306655\" # All-Cause Death\n",
    "    \n",
    "    # also generally important and relevant\n",
    "    #\"phecode_440-3\", # Pulmonary embolism\n",
    "    #\"phecode_468-1\",\t#Viral pneumonia\n",
    "#     \"phecode_460-2\",\t#Acute lower respiratory infection\n",
    "    #\"phecode_388\" # Blindness and low vision\n",
    "      # generally important and fun to check\n",
    "   # \"phecode_374-3\", # Retinal vascular changes and occlusions\n",
    "    #\"phecode_665\", # Psoriasis\n",
    "#     \"phecode_121\", # Leukemia\n",
    "    # important for eye\n",
    "#     \"phecode_705-1\", # Rheumatoid arthritis\n",
    ")\n",
    "\n",
    "endpoints_common = c(\n",
    "   'phecode_164', #Anemia\n",
    " 'phecode_705-1', #Rheumatoid arthritis\n",
    " 'phecode_328', #Dementias and cerebral degeneration\n",
    " 'phecode_328-1', #Alzheimer's disease\n",
    " 'phecode_401', #Hypertension\n",
    " 'phecode_202', #Diabetes mellitus\n",
    " 'phecode_416-21', #Atrial fibrillation\n",
    " 'phecode_404-1', #Myocardial infarction [Heart attack]\n",
    " 'phecode_424', #Heart failure\n",
    " 'phecode_468', #Pneumonia\n",
    " 'phecode_474', #Chronic obstructive pulmonary disease [COPD]\n",
    " 'phecode_583', #Chronic kidney disease\n",
    " 'OMOP_4306655' #All-Cause Death\n",
    "    )\n",
    "    \n",
    "endpoints_cardio = c(\n",
    "    'phecode_438-11',   #  \"Abdominal aortic aneurysm\",\n",
    "    'phecode_440-3',#  \"Pulmonary embolism\", # intervention\n",
    "    'phecode_413-21',#  \"Aortic stenosis\", # intervention\n",
    "    'phecode_400'#  \"Rheumatic fever and chronic rheumatic heart diseases\",\t\n",
    ")\n",
    "\n",
    "endpoints_eye= c(\n",
    "    'phecode_374-5', #Macular degeneration\n",
    " 'phecode_374-51', #Age-related macular degeneration\n",
    " 'phecode_374-42', #Diabetic retinopathy\n",
    " 'phecode_371', #Cataract\n",
    " 'phecode_388', #Blindness and low vision\n",
    " 'phecode_367-5', #Uveitis\n",
    " 'phecode_389-1' #Ocular pain\n",
    ")"
   ]
  },
  {
   "cell_type": "code",
   "execution_count": 7,
   "metadata": {
    "execution": {
     "iopub.execute_input": "2022-11-30T10:29:14.364567Z",
     "iopub.status.busy": "2022-11-30T10:29:14.363791Z",
     "iopub.status.idle": "2022-11-30T10:29:14.383938Z",
     "shell.execute_reply": "2022-11-30T10:29:14.383176Z"
    },
    "tags": []
   },
   "outputs": [],
   "source": [
    "endpoint_defs = endpoint_defs %>% \n",
    "    mutate(name = phecode_string) %>%\n",
    "    mutate(name = \n",
    "           case_when( \n",
    "               phecode_string == \"Myocardial infarction [Heart attack]\"~\"Myocardial infarction\",\n",
    "               phecode_string == \"Cerebral infarction [Ischemic stroke]\"~\"Ischemic stroke\",\n",
    "               phecode_string == \"Chronic obstructive pulmonary disease [COPD]\"~\"Chronic obstructive pulmonary disease\",\n",
    "               phecode_string == \"Mitral valve insufficiency\"~\"Mitral insufficiency\",\n",
    "               phecode_string == \"Parkinson's disease (Primary)\"~\"Parkinson's disease\",\n",
    "               phecode_string == \"Suicide ideation and attempt or self harm\"~\"Suicide attempt\",\n",
    "               phecode_string == \"Ischemic heart disease\"~\"Coronary heart disease\",\n",
    "               phecode_string == \"Chronic kidney disease\"~\"Chronic kidney disease\",\n",
    "               phecode_string == \"Rheumatic fever and chronic rheumatic heart diseases\"~\"Rheumatic heart disease\",\n",
    "               phecode_string == \"Abdominal aortic aneurysm\"~\"Abdominal aortic aneurysm\",\n",
    "                  TRUE ~ name)\n",
    "           )\n",
    "            \n",
    "endpoint_map = endpoint_defs$name\n",
    "names(endpoint_map) =  endpoint_defs$endpoint\n",
    "#endpoint_order = (endpoint_defs %>% arrange(as.numeric(phecode)))$endpoint\n",
    "endpoint_order = endpoint_selection"
   ]
  },
  {
   "cell_type": "code",
   "execution_count": 8,
   "metadata": {
    "execution": {
     "iopub.execute_input": "2022-11-30T10:29:14.385691Z",
     "iopub.status.busy": "2022-11-30T10:29:14.385057Z",
     "iopub.status.idle": "2022-11-30T10:29:14.524562Z",
     "shell.execute_reply": "2022-11-30T10:29:14.523564Z"
    },
    "tags": []
   },
   "outputs": [
    {
     "data": {
      "text/html": [
       "<table class=\"dataframe\">\n",
       "<caption>A tibble: 24 × 13</caption>\n",
       "<thead>\n",
       "\t<tr><th scope=col>V1</th><th scope=col>endpoint</th><th scope=col>eligable</th><th scope=col>n</th><th scope=col>freq</th><th scope=col>phecode</th><th scope=col>phecode_string</th><th scope=col>phecode_category</th><th scope=col>sex</th><th scope=col>ICD10_only</th><th scope=col>phecode_top</th><th scope=col>leaf</th><th scope=col>perc</th></tr>\n",
       "\t<tr><th scope=col>&lt;int&gt;</th><th scope=col>&lt;chr&gt;</th><th scope=col>&lt;int&gt;</th><th scope=col>&lt;int&gt;</th><th scope=col>&lt;dbl&gt;</th><th scope=col>&lt;chr&gt;</th><th scope=col>&lt;chr&gt;</th><th scope=col>&lt;chr&gt;</th><th scope=col>&lt;chr&gt;</th><th scope=col>&lt;dbl&gt;</th><th scope=col>&lt;int&gt;</th><th scope=col>&lt;dbl&gt;</th><th scope=col>&lt;dbl&gt;</th></tr>\n",
       "</thead>\n",
       "<tbody>\n",
       "\t<tr><td> 285</td><td>Parkinson's disease                                      </td><td>61159</td><td>  481</td><td>0.007864746</td><td>324.11 </td><td>Parkinson's disease (Primary)                            </td><td>Neuro        </td><td>Both</td><td> 0</td><td>324</td><td> 1</td><td> 0.7864746</td></tr>\n",
       "\t<tr><td>  49</td><td>Malignant neoplasm of the thoracic and respiratory organs</td><td>61165</td><td>  686</td><td>0.011215564</td><td>102    </td><td>Malignant neoplasm of the thoracic and respiratory organs</td><td>Neoplasms    </td><td>Both</td><td> 0</td><td>102</td><td> 0</td><td> 1.1215564</td></tr>\n",
       "\t<tr><td> 297</td><td>Dementias and cerebral degeneration                      </td><td>61233</td><td>  968</td><td>0.015808469</td><td>328    </td><td>Dementias and cerebral degeneration                      </td><td>Neuro        </td><td>Both</td><td> 0</td><td>328</td><td> 0</td><td> 1.5808469</td></tr>\n",
       "\t<tr><td>  22</td><td>COVID-19*                                                </td><td>61256</td><td> 1017</td><td>0.016602455</td><td>059.1  </td><td>COVID-19*                                                </td><td>ID           </td><td>Both</td><td> 1</td><td> 59</td><td> 1</td><td> 1.6602455</td></tr>\n",
       "\t<tr><td> 568</td><td>Ischemic stroke                                          </td><td>60849</td><td> 1157</td><td>0.019014281</td><td>431.11 </td><td>Cerebral infarction [Ischemic stroke]                    </td><td>Cardio       </td><td>Both</td><td> 0</td><td>431</td><td> 1</td><td> 1.9014281</td></tr>\n",
       "\t<tr><td>  41</td><td>Malignant neoplasm of the digestive organs               </td><td>60713</td><td> 1652</td><td>0.027209988</td><td>101    </td><td>Malignant neoplasm of the digestive organs               </td><td>Neoplasms    </td><td>Both</td><td> 0</td><td>101</td><td> 0</td><td> 2.7209988</td></tr>\n",
       "\t<tr><td> 430</td><td>Glaucoma                                                 </td><td>60486</td><td> 1664</td><td>0.027510498</td><td>375.1  </td><td>Glaucoma                                                 </td><td>Eye          </td><td>Both</td><td> 0</td><td>375</td><td> 0</td><td> 2.7510498</td></tr>\n",
       "\t<tr><td> 421</td><td>Diabetic retinopathy                                     </td><td>60400</td><td> 1760</td><td>0.029139073</td><td>374.42 </td><td>Diabetic retinopathy                                     </td><td>Eye          </td><td>Both</td><td> 0</td><td>374</td><td> 1</td><td> 2.9139073</td></tr>\n",
       "\t<tr><td> 505</td><td>Myocardial infarction                                    </td><td>60213</td><td> 1800</td><td>0.029893877</td><td>404.1  </td><td>Myocardial infarction [Heart attack]                     </td><td>Cardio       </td><td>Both</td><td> 0</td><td>404</td><td> 0</td><td> 2.9893877</td></tr>\n",
       "\t<tr><td> 422</td><td>Macular degeneration                                     </td><td>60918</td><td> 1816</td><td>0.029810565</td><td>374.5  </td><td>Macular degeneration                                     </td><td>Eye          </td><td>Both</td><td> 0</td><td>374</td><td> 0</td><td> 2.9810565</td></tr>\n",
       "\t<tr><td> 556</td><td>Heart failure                                            </td><td>60846</td><td> 1996</td><td>0.032804128</td><td>424    </td><td>Heart failure                                            </td><td>Cardio       </td><td>Both</td><td> 0</td><td>424</td><td> 0</td><td> 3.2804128</td></tr>\n",
       "\t<tr><td> 765</td><td>Chronic liver disease and sequelae                       </td><td>60689</td><td> 2124</td><td>0.034998105</td><td>542    </td><td>Chronic liver disease and sequelae                       </td><td>GI           </td><td>Both</td><td> 0</td><td>542</td><td> 0</td><td> 3.4998105</td></tr>\n",
       "\t<tr><td> 639</td><td>Chronic obstructive pulmonary disease                    </td><td>60402</td><td> 2406</td><td>0.039833118</td><td>474    </td><td>Chronic obstructive pulmonary disease [COPD]             </td><td>Resp         </td><td>Both</td><td> 0</td><td>474</td><td> 0</td><td> 3.9833118</td></tr>\n",
       "\t<tr><td>1088</td><td>Osteoporosis                                             </td><td>59954</td><td> 2759</td><td>0.046018614</td><td>726.1  </td><td>Osteoporosis                                             </td><td>Musc/Skel    </td><td>Both</td><td> 0</td><td>726</td><td> 1</td><td> 4.6018614</td></tr>\n",
       "\t<tr><td> 625</td><td>Pneumonia                                                </td><td>59697</td><td> 3199</td><td>0.053587282</td><td>468    </td><td>Pneumonia                                                </td><td>Resp         </td><td>Both</td><td> 0</td><td>468</td><td> 0</td><td> 5.3587282</td></tr>\n",
       "\t<tr><td> 803</td><td>Chronic kidney disease                                   </td><td>59363</td><td> 3206</td><td>0.054006705</td><td>583    </td><td>Chronic kidney disease                                   </td><td>Genitourinary</td><td>Both</td><td> 0</td><td>583</td><td> 0</td><td> 5.4006705</td></tr>\n",
       "\t<tr><td>   0</td><td>All-Cause Death                                          </td><td>61256</td><td> 3490</td><td>0.056974011</td><td>4306655</td><td>All-Cause Death                                          </td><td>Death        </td><td>Both</td><td>NA</td><td> NA</td><td>NA</td><td> 5.6974011</td></tr>\n",
       "\t<tr><td>  51</td><td>Malignant neoplasm of the skin                           </td><td>59332</td><td> 3620</td><td>0.061012607</td><td>103    </td><td>Malignant neoplasm of the skin                           </td><td>Neoplasms    </td><td>Both</td><td> 0</td><td>103</td><td> 0</td><td> 6.1012607</td></tr>\n",
       "\t<tr><td> 504</td><td>Coronary heart disease                                   </td><td>58791</td><td> 4055</td><td>0.068973142</td><td>404    </td><td>Ischemic heart disease                                   </td><td>Cardio       </td><td>Both</td><td> 0</td><td>404</td><td> 0</td><td> 6.8973142</td></tr>\n",
       "\t<tr><td> 184</td><td>Diabetes mellitus                                        </td><td>57936</td><td> 4259</td><td>0.073512151</td><td>202    </td><td>Diabetes mellitus                                        </td><td>Endo         </td><td>Both</td><td> 0</td><td>202</td><td> 0</td><td> 7.3512151</td></tr>\n",
       "\t<tr><td> 263</td><td>Major depressive disorder                                </td><td>52388</td><td> 4781</td><td>0.091261358</td><td>286.2  </td><td>Major depressive disorder                                </td><td>Mental       </td><td>Both</td><td> 0</td><td>286</td><td> 0</td><td> 9.1261358</td></tr>\n",
       "\t<tr><td> 138</td><td>Anemia                                                   </td><td>57646</td><td> 4887</td><td>0.084776047</td><td>164    </td><td>Anemia                                                   </td><td>Blood        </td><td>Both</td><td> 0</td><td>164</td><td> 0</td><td> 8.4776047</td></tr>\n",
       "\t<tr><td> 410</td><td>Cataract                                                 </td><td>59805</td><td> 6798</td><td>0.113669426</td><td>371    </td><td>Cataract                                                 </td><td>Eye          </td><td>Both</td><td> 0</td><td>371</td><td> 0</td><td>11.3669426</td></tr>\n",
       "\t<tr><td> 498</td><td>Hypertension                                             </td><td>48591</td><td>11114</td><td>0.228725484</td><td>401    </td><td>Hypertension                                             </td><td>Cardio       </td><td>Both</td><td> 0</td><td>401</td><td> 0</td><td>22.8725484</td></tr>\n",
       "</tbody>\n",
       "</table>\n"
      ],
      "text/latex": [
       "A tibble: 24 × 13\n",
       "\\begin{tabular}{lllllllllllll}\n",
       " V1 & endpoint & eligable & n & freq & phecode & phecode\\_string & phecode\\_category & sex & ICD10\\_only & phecode\\_top & leaf & perc\\\\\n",
       " <int> & <chr> & <int> & <int> & <dbl> & <chr> & <chr> & <chr> & <chr> & <dbl> & <int> & <dbl> & <dbl>\\\\\n",
       "\\hline\n",
       "\t  285 & Parkinson's disease                                       & 61159 &   481 & 0.007864746 & 324.11  & Parkinson's disease (Primary)                             & Neuro         & Both &  0 & 324 &  1 &  0.7864746\\\\\n",
       "\t   49 & Malignant neoplasm of the thoracic and respiratory organs & 61165 &   686 & 0.011215564 & 102     & Malignant neoplasm of the thoracic and respiratory organs & Neoplasms     & Both &  0 & 102 &  0 &  1.1215564\\\\\n",
       "\t  297 & Dementias and cerebral degeneration                       & 61233 &   968 & 0.015808469 & 328     & Dementias and cerebral degeneration                       & Neuro         & Both &  0 & 328 &  0 &  1.5808469\\\\\n",
       "\t   22 & COVID-19*                                                 & 61256 &  1017 & 0.016602455 & 059.1   & COVID-19*                                                 & ID            & Both &  1 &  59 &  1 &  1.6602455\\\\\n",
       "\t  568 & Ischemic stroke                                           & 60849 &  1157 & 0.019014281 & 431.11  & Cerebral infarction {[}Ischemic stroke{]}                     & Cardio        & Both &  0 & 431 &  1 &  1.9014281\\\\\n",
       "\t   41 & Malignant neoplasm of the digestive organs                & 60713 &  1652 & 0.027209988 & 101     & Malignant neoplasm of the digestive organs                & Neoplasms     & Both &  0 & 101 &  0 &  2.7209988\\\\\n",
       "\t  430 & Glaucoma                                                  & 60486 &  1664 & 0.027510498 & 375.1   & Glaucoma                                                  & Eye           & Both &  0 & 375 &  0 &  2.7510498\\\\\n",
       "\t  421 & Diabetic retinopathy                                      & 60400 &  1760 & 0.029139073 & 374.42  & Diabetic retinopathy                                      & Eye           & Both &  0 & 374 &  1 &  2.9139073\\\\\n",
       "\t  505 & Myocardial infarction                                     & 60213 &  1800 & 0.029893877 & 404.1   & Myocardial infarction {[}Heart attack{]}                      & Cardio        & Both &  0 & 404 &  0 &  2.9893877\\\\\n",
       "\t  422 & Macular degeneration                                      & 60918 &  1816 & 0.029810565 & 374.5   & Macular degeneration                                      & Eye           & Both &  0 & 374 &  0 &  2.9810565\\\\\n",
       "\t  556 & Heart failure                                             & 60846 &  1996 & 0.032804128 & 424     & Heart failure                                             & Cardio        & Both &  0 & 424 &  0 &  3.2804128\\\\\n",
       "\t  765 & Chronic liver disease and sequelae                        & 60689 &  2124 & 0.034998105 & 542     & Chronic liver disease and sequelae                        & GI            & Both &  0 & 542 &  0 &  3.4998105\\\\\n",
       "\t  639 & Chronic obstructive pulmonary disease                     & 60402 &  2406 & 0.039833118 & 474     & Chronic obstructive pulmonary disease {[}COPD{]}              & Resp          & Both &  0 & 474 &  0 &  3.9833118\\\\\n",
       "\t 1088 & Osteoporosis                                              & 59954 &  2759 & 0.046018614 & 726.1   & Osteoporosis                                              & Musc/Skel     & Both &  0 & 726 &  1 &  4.6018614\\\\\n",
       "\t  625 & Pneumonia                                                 & 59697 &  3199 & 0.053587282 & 468     & Pneumonia                                                 & Resp          & Both &  0 & 468 &  0 &  5.3587282\\\\\n",
       "\t  803 & Chronic kidney disease                                    & 59363 &  3206 & 0.054006705 & 583     & Chronic kidney disease                                    & Genitourinary & Both &  0 & 583 &  0 &  5.4006705\\\\\n",
       "\t    0 & All-Cause Death                                           & 61256 &  3490 & 0.056974011 & 4306655 & All-Cause Death                                           & Death         & Both & NA &  NA & NA &  5.6974011\\\\\n",
       "\t   51 & Malignant neoplasm of the skin                            & 59332 &  3620 & 0.061012607 & 103     & Malignant neoplasm of the skin                            & Neoplasms     & Both &  0 & 103 &  0 &  6.1012607\\\\\n",
       "\t  504 & Coronary heart disease                                    & 58791 &  4055 & 0.068973142 & 404     & Ischemic heart disease                                    & Cardio        & Both &  0 & 404 &  0 &  6.8973142\\\\\n",
       "\t  184 & Diabetes mellitus                                         & 57936 &  4259 & 0.073512151 & 202     & Diabetes mellitus                                         & Endo          & Both &  0 & 202 &  0 &  7.3512151\\\\\n",
       "\t  263 & Major depressive disorder                                 & 52388 &  4781 & 0.091261358 & 286.2   & Major depressive disorder                                 & Mental        & Both &  0 & 286 &  0 &  9.1261358\\\\\n",
       "\t  138 & Anemia                                                    & 57646 &  4887 & 0.084776047 & 164     & Anemia                                                    & Blood         & Both &  0 & 164 &  0 &  8.4776047\\\\\n",
       "\t  410 & Cataract                                                  & 59805 &  6798 & 0.113669426 & 371     & Cataract                                                  & Eye           & Both &  0 & 371 &  0 & 11.3669426\\\\\n",
       "\t  498 & Hypertension                                              & 48591 & 11114 & 0.228725484 & 401     & Hypertension                                              & Cardio        & Both &  0 & 401 &  0 & 22.8725484\\\\\n",
       "\\end{tabular}\n"
      ],
      "text/markdown": [
       "\n",
       "A tibble: 24 × 13\n",
       "\n",
       "| V1 &lt;int&gt; | endpoint &lt;chr&gt; | eligable &lt;int&gt; | n &lt;int&gt; | freq &lt;dbl&gt; | phecode &lt;chr&gt; | phecode_string &lt;chr&gt; | phecode_category &lt;chr&gt; | sex &lt;chr&gt; | ICD10_only &lt;dbl&gt; | phecode_top &lt;int&gt; | leaf &lt;dbl&gt; | perc &lt;dbl&gt; |\n",
       "|---|---|---|---|---|---|---|---|---|---|---|---|---|\n",
       "|  285 | Parkinson's disease                                       | 61159 |   481 | 0.007864746 | 324.11  | Parkinson's disease (Primary)                             | Neuro         | Both |  0 | 324 |  1 |  0.7864746 |\n",
       "|   49 | Malignant neoplasm of the thoracic and respiratory organs | 61165 |   686 | 0.011215564 | 102     | Malignant neoplasm of the thoracic and respiratory organs | Neoplasms     | Both |  0 | 102 |  0 |  1.1215564 |\n",
       "|  297 | Dementias and cerebral degeneration                       | 61233 |   968 | 0.015808469 | 328     | Dementias and cerebral degeneration                       | Neuro         | Both |  0 | 328 |  0 |  1.5808469 |\n",
       "|   22 | COVID-19*                                                 | 61256 |  1017 | 0.016602455 | 059.1   | COVID-19*                                                 | ID            | Both |  1 |  59 |  1 |  1.6602455 |\n",
       "|  568 | Ischemic stroke                                           | 60849 |  1157 | 0.019014281 | 431.11  | Cerebral infarction [Ischemic stroke]                     | Cardio        | Both |  0 | 431 |  1 |  1.9014281 |\n",
       "|   41 | Malignant neoplasm of the digestive organs                | 60713 |  1652 | 0.027209988 | 101     | Malignant neoplasm of the digestive organs                | Neoplasms     | Both |  0 | 101 |  0 |  2.7209988 |\n",
       "|  430 | Glaucoma                                                  | 60486 |  1664 | 0.027510498 | 375.1   | Glaucoma                                                  | Eye           | Both |  0 | 375 |  0 |  2.7510498 |\n",
       "|  421 | Diabetic retinopathy                                      | 60400 |  1760 | 0.029139073 | 374.42  | Diabetic retinopathy                                      | Eye           | Both |  0 | 374 |  1 |  2.9139073 |\n",
       "|  505 | Myocardial infarction                                     | 60213 |  1800 | 0.029893877 | 404.1   | Myocardial infarction [Heart attack]                      | Cardio        | Both |  0 | 404 |  0 |  2.9893877 |\n",
       "|  422 | Macular degeneration                                      | 60918 |  1816 | 0.029810565 | 374.5   | Macular degeneration                                      | Eye           | Both |  0 | 374 |  0 |  2.9810565 |\n",
       "|  556 | Heart failure                                             | 60846 |  1996 | 0.032804128 | 424     | Heart failure                                             | Cardio        | Both |  0 | 424 |  0 |  3.2804128 |\n",
       "|  765 | Chronic liver disease and sequelae                        | 60689 |  2124 | 0.034998105 | 542     | Chronic liver disease and sequelae                        | GI            | Both |  0 | 542 |  0 |  3.4998105 |\n",
       "|  639 | Chronic obstructive pulmonary disease                     | 60402 |  2406 | 0.039833118 | 474     | Chronic obstructive pulmonary disease [COPD]              | Resp          | Both |  0 | 474 |  0 |  3.9833118 |\n",
       "| 1088 | Osteoporosis                                              | 59954 |  2759 | 0.046018614 | 726.1   | Osteoporosis                                              | Musc/Skel     | Both |  0 | 726 |  1 |  4.6018614 |\n",
       "|  625 | Pneumonia                                                 | 59697 |  3199 | 0.053587282 | 468     | Pneumonia                                                 | Resp          | Both |  0 | 468 |  0 |  5.3587282 |\n",
       "|  803 | Chronic kidney disease                                    | 59363 |  3206 | 0.054006705 | 583     | Chronic kidney disease                                    | Genitourinary | Both |  0 | 583 |  0 |  5.4006705 |\n",
       "|    0 | All-Cause Death                                           | 61256 |  3490 | 0.056974011 | 4306655 | All-Cause Death                                           | Death         | Both | NA |  NA | NA |  5.6974011 |\n",
       "|   51 | Malignant neoplasm of the skin                            | 59332 |  3620 | 0.061012607 | 103     | Malignant neoplasm of the skin                            | Neoplasms     | Both |  0 | 103 |  0 |  6.1012607 |\n",
       "|  504 | Coronary heart disease                                    | 58791 |  4055 | 0.068973142 | 404     | Ischemic heart disease                                    | Cardio        | Both |  0 | 404 |  0 |  6.8973142 |\n",
       "|  184 | Diabetes mellitus                                         | 57936 |  4259 | 0.073512151 | 202     | Diabetes mellitus                                         | Endo          | Both |  0 | 202 |  0 |  7.3512151 |\n",
       "|  263 | Major depressive disorder                                 | 52388 |  4781 | 0.091261358 | 286.2   | Major depressive disorder                                 | Mental        | Both |  0 | 286 |  0 |  9.1261358 |\n",
       "|  138 | Anemia                                                    | 57646 |  4887 | 0.084776047 | 164     | Anemia                                                    | Blood         | Both |  0 | 164 |  0 |  8.4776047 |\n",
       "|  410 | Cataract                                                  | 59805 |  6798 | 0.113669426 | 371     | Cataract                                                  | Eye           | Both |  0 | 371 |  0 | 11.3669426 |\n",
       "|  498 | Hypertension                                              | 48591 | 11114 | 0.228725484 | 401     | Hypertension                                              | Cardio        | Both |  0 | 401 |  0 | 22.8725484 |\n",
       "\n"
      ],
      "text/plain": [
       "   V1   endpoint                                                  eligable\n",
       "1   285 Parkinson's disease                                       61159   \n",
       "2    49 Malignant neoplasm of the thoracic and respiratory organs 61165   \n",
       "3   297 Dementias and cerebral degeneration                       61233   \n",
       "4    22 COVID-19*                                                 61256   \n",
       "5   568 Ischemic stroke                                           60849   \n",
       "6    41 Malignant neoplasm of the digestive organs                60713   \n",
       "7   430 Glaucoma                                                  60486   \n",
       "8   421 Diabetic retinopathy                                      60400   \n",
       "9   505 Myocardial infarction                                     60213   \n",
       "10  422 Macular degeneration                                      60918   \n",
       "11  556 Heart failure                                             60846   \n",
       "12  765 Chronic liver disease and sequelae                        60689   \n",
       "13  639 Chronic obstructive pulmonary disease                     60402   \n",
       "14 1088 Osteoporosis                                              59954   \n",
       "15  625 Pneumonia                                                 59697   \n",
       "16  803 Chronic kidney disease                                    59363   \n",
       "17    0 All-Cause Death                                           61256   \n",
       "18   51 Malignant neoplasm of the skin                            59332   \n",
       "19  504 Coronary heart disease                                    58791   \n",
       "20  184 Diabetes mellitus                                         57936   \n",
       "21  263 Major depressive disorder                                 52388   \n",
       "22  138 Anemia                                                    57646   \n",
       "23  410 Cataract                                                  59805   \n",
       "24  498 Hypertension                                              48591   \n",
       "   n     freq        phecode\n",
       "1    481 0.007864746 324.11 \n",
       "2    686 0.011215564 102    \n",
       "3    968 0.015808469 328    \n",
       "4   1017 0.016602455 059.1  \n",
       "5   1157 0.019014281 431.11 \n",
       "6   1652 0.027209988 101    \n",
       "7   1664 0.027510498 375.1  \n",
       "8   1760 0.029139073 374.42 \n",
       "9   1800 0.029893877 404.1  \n",
       "10  1816 0.029810565 374.5  \n",
       "11  1996 0.032804128 424    \n",
       "12  2124 0.034998105 542    \n",
       "13  2406 0.039833118 474    \n",
       "14  2759 0.046018614 726.1  \n",
       "15  3199 0.053587282 468    \n",
       "16  3206 0.054006705 583    \n",
       "17  3490 0.056974011 4306655\n",
       "18  3620 0.061012607 103    \n",
       "19  4055 0.068973142 404    \n",
       "20  4259 0.073512151 202    \n",
       "21  4781 0.091261358 286.2  \n",
       "22  4887 0.084776047 164    \n",
       "23  6798 0.113669426 371    \n",
       "24 11114 0.228725484 401    \n",
       "   phecode_string                                            phecode_category\n",
       "1  Parkinson's disease (Primary)                             Neuro           \n",
       "2  Malignant neoplasm of the thoracic and respiratory organs Neoplasms       \n",
       "3  Dementias and cerebral degeneration                       Neuro           \n",
       "4  COVID-19*                                                 ID              \n",
       "5  Cerebral infarction [Ischemic stroke]                     Cardio          \n",
       "6  Malignant neoplasm of the digestive organs                Neoplasms       \n",
       "7  Glaucoma                                                  Eye             \n",
       "8  Diabetic retinopathy                                      Eye             \n",
       "9  Myocardial infarction [Heart attack]                      Cardio          \n",
       "10 Macular degeneration                                      Eye             \n",
       "11 Heart failure                                             Cardio          \n",
       "12 Chronic liver disease and sequelae                        GI              \n",
       "13 Chronic obstructive pulmonary disease [COPD]              Resp            \n",
       "14 Osteoporosis                                              Musc/Skel       \n",
       "15 Pneumonia                                                 Resp            \n",
       "16 Chronic kidney disease                                    Genitourinary   \n",
       "17 All-Cause Death                                           Death           \n",
       "18 Malignant neoplasm of the skin                            Neoplasms       \n",
       "19 Ischemic heart disease                                    Cardio          \n",
       "20 Diabetes mellitus                                         Endo            \n",
       "21 Major depressive disorder                                 Mental          \n",
       "22 Anemia                                                    Blood           \n",
       "23 Cataract                                                  Eye             \n",
       "24 Hypertension                                              Cardio          \n",
       "   sex  ICD10_only phecode_top leaf perc      \n",
       "1  Both  0         324          1    0.7864746\n",
       "2  Both  0         102          0    1.1215564\n",
       "3  Both  0         328          0    1.5808469\n",
       "4  Both  1          59          1    1.6602455\n",
       "5  Both  0         431          1    1.9014281\n",
       "6  Both  0         101          0    2.7209988\n",
       "7  Both  0         375          0    2.7510498\n",
       "8  Both  0         374          1    2.9139073\n",
       "9  Both  0         404          0    2.9893877\n",
       "10 Both  0         374          0    2.9810565\n",
       "11 Both  0         424          0    3.2804128\n",
       "12 Both  0         542          0    3.4998105\n",
       "13 Both  0         474          0    3.9833118\n",
       "14 Both  0         726          1    4.6018614\n",
       "15 Both  0         468          0    5.3587282\n",
       "16 Both  0         583          0    5.4006705\n",
       "17 Both NA          NA         NA    5.6974011\n",
       "18 Both  0         103          0    6.1012607\n",
       "19 Both  0         404          0    6.8973142\n",
       "20 Both  0         202          0    7.3512151\n",
       "21 Both  0         286          0    9.1261358\n",
       "22 Both  0         164          0    8.4776047\n",
       "23 Both  0         371          0   11.3669426\n",
       "24 Both  0         401          0   22.8725484"
      ]
     },
     "metadata": {},
     "output_type": "display_data"
    }
   ],
   "source": [
    "endpoints_md %>% filter(endpoint %in% endpoint_selection) %>% as_tibble() %>% arrange(n)  %>%\n",
    "    mutate(endpoint = recode(endpoint, !!!endpoint_map)) %>% mutate(perc = freq*100)"
   ]
  },
  {
   "cell_type": "code",
   "execution_count": 9,
   "metadata": {
    "execution": {
     "iopub.execute_input": "2022-11-30T10:29:14.526535Z",
     "iopub.status.busy": "2022-11-30T10:29:14.525859Z",
     "iopub.status.idle": "2022-11-30T10:29:14.532658Z",
     "shell.execute_reply": "2022-11-30T10:29:14.531846Z"
    },
    "tags": []
   },
   "outputs": [],
   "source": [
    "#today = substr(Sys.time(), 0, 10) # YYYY-MM-DD\n",
    "today = '221109'"
   ]
  },
  {
   "cell_type": "code",
   "execution_count": 10,
   "metadata": {
    "execution": {
     "iopub.execute_input": "2022-11-30T10:29:14.534499Z",
     "iopub.status.busy": "2022-11-30T10:29:14.533850Z",
     "iopub.status.idle": "2022-11-30T10:29:30.354421Z",
     "shell.execute_reply": "2022-11-30T10:29:30.353207Z"
    },
    "tags": []
   },
   "outputs": [
    {
     "name": "stderr",
     "output_type": "stream",
     "text": [
      "Warning message:\n",
      "“Coercing dictionary values to R character factor levels”\n"
     ]
    }
   ],
   "source": [
    "eligable_eids = arrow::read_feather(glue(\"{output_path}/eligable_eids_long_{today}.feather\")) %>% \n",
    "    mutate(included = 1)\n",
    "eligable_eids$eid = as.numeric(levels(eligable_eids$eid))[eligable_eids$eid]"
   ]
  },
  {
   "cell_type": "code",
   "execution_count": 11,
   "metadata": {
    "execution": {
     "iopub.execute_input": "2022-11-30T10:29:30.356497Z",
     "iopub.status.busy": "2022-11-30T10:29:30.355792Z",
     "iopub.status.idle": "2022-11-30T10:30:41.484589Z",
     "shell.execute_reply": "2022-11-30T10:30:41.483000Z"
    },
    "tags": []
   },
   "outputs": [],
   "source": [
    "data_outcomes = arrow::read_feather(glue(\"{output_path}/baseline_outcomes_long_220627.feather\", as_data_frame=FALSE)) "
   ]
  },
  {
   "cell_type": "code",
   "execution_count": 12,
   "metadata": {
    "execution": {
     "iopub.execute_input": "2022-11-30T10:30:41.487261Z",
     "iopub.status.busy": "2022-11-30T10:30:41.486315Z",
     "iopub.status.idle": "2022-11-30T10:30:41.512686Z",
     "shell.execute_reply": "2022-11-30T10:30:41.511592Z"
    },
    "tags": []
   },
   "outputs": [
    {
     "data": {
      "text/html": [
       "<style>\n",
       ".list-inline {list-style: none; margin:0; padding: 0}\n",
       ".list-inline>li {display: inline-block}\n",
       ".list-inline>li:not(:last-child)::after {content: \"\\00b7\"; padding: 0 .5ex}\n",
       "</style>\n",
       "<ol class=list-inline><li>0</li><li>1</li><li>2</li><li>3</li><li>4</li><li>5</li><li>6</li><li>7</li><li>8</li><li>9</li><li>10</li><li>11</li><li>12</li><li>13</li><li>14</li><li>15</li><li>16</li><li>17</li><li>18</li><li>19</li><li>20</li><li>21</li></ol>\n"
      ],
      "text/latex": [
       "\\begin{enumerate*}\n",
       "\\item 0\n",
       "\\item 1\n",
       "\\item 2\n",
       "\\item 3\n",
       "\\item 4\n",
       "\\item 5\n",
       "\\item 6\n",
       "\\item 7\n",
       "\\item 8\n",
       "\\item 9\n",
       "\\item 10\n",
       "\\item 11\n",
       "\\item 12\n",
       "\\item 13\n",
       "\\item 14\n",
       "\\item 15\n",
       "\\item 16\n",
       "\\item 17\n",
       "\\item 18\n",
       "\\item 19\n",
       "\\item 20\n",
       "\\item 21\n",
       "\\end{enumerate*}\n"
      ],
      "text/markdown": [
       "1. 0\n",
       "2. 1\n",
       "3. 2\n",
       "4. 3\n",
       "5. 4\n",
       "6. 5\n",
       "7. 6\n",
       "8. 7\n",
       "9. 8\n",
       "10. 9\n",
       "11. 10\n",
       "12. 11\n",
       "13. 12\n",
       "14. 13\n",
       "15. 14\n",
       "16. 15\n",
       "17. 16\n",
       "18. 17\n",
       "19. 18\n",
       "20. 19\n",
       "21. 20\n",
       "22. 21\n",
       "\n",
       "\n"
      ],
      "text/plain": [
       " [1]  0  1  2  3  4  5  6  7  8  9 10 11 12 13 14 15 16 17 18 19 20 21"
      ]
     },
     "metadata": {},
     "output_type": "display_data"
    }
   ],
   "source": [
    "partitions = 0:21\n",
    "crop_ratio = \"0.66\" # 0.3, 0.5, 0.8\n",
    "partitions\n",
    "paths = c()\n",
    "for (p in partitions){\n",
    "    #temp_path = glue(\"{experiment_path}/loghs/Identity(Records)+MLP/{p}/test.feather\")\n",
    "    temp_path = glue(\"{experiment_path}/loghs/ImageTraining_[]_ConvNeXt_MLPHead_predictions_cropratio{crop_ratio}/{p}/test.feather\")\n",
    "    paths = c(paths, temp_path)\n",
    "    }"
   ]
  },
  {
   "cell_type": "code",
   "execution_count": 13,
   "metadata": {
    "execution": {
     "iopub.execute_input": "2022-11-30T10:30:41.515433Z",
     "iopub.status.busy": "2022-11-30T10:30:41.514494Z",
     "iopub.status.idle": "2022-11-30T10:30:41.525194Z",
     "shell.execute_reply": "2022-11-30T10:30:41.524106Z"
    },
    "tags": []
   },
   "outputs": [],
   "source": [
    "read_predictions = function(paths, endpoint_list){\n",
    "    predictions = paths %>% map_df(\n",
    "        ~suppressWarnings(read_feather(., col_select=c(\"eid\", all_of(endpoint_list)))) %>% \n",
    "        pivot_longer(all_of(endpoint_list), names_to=\"endpoint\", values_to=\"logh\") %>%\n",
    "        mutate(eid = as.integer(as.character(eid))) %>%\n",
    "        select(endpoint, eid, logh))# %>% arrange(endpoint, eid)\n",
    "    return(predictions)\n",
    "    }\n",
    "\n",
    "map <- c(`1` = 'top10',\n",
    "            `2` = 'rest',\n",
    "         `3` = 'rest',\n",
    "         `4` = 'rest',\n",
    "         `5` = 'rest',\n",
    "         `6` = 'rest',\n",
    "         `7` = 'rest',\n",
    "         `8` = 'rest',\n",
    "         `9` = 'rest',\n",
    "         `10` = 'rest')\n",
    "\n",
    "calc_ratios = function(pred_outcomes, endpoints_md){\n",
    "    \n",
    "    logh_inc = pred_outcomes %>% \n",
    "        filter(included==1) %>% \n",
    "        group_by(endpoint) %>% \n",
    "        mutate(logh_perc = ntile(logh, 10)) %>% \n",
    "#         mutate(logh_perc=case_when(logh_perc %in% 1:9 ~ 1, \n",
    "#                                     logh_perc %in% 10:11 ~ 10,\n",
    "#                                     TRUE ~ \"NA\")) %>%\n",
    "        ungroup()\n",
    "\n",
    "    logh_T_agg = logh_inc %>% group_by(endpoint, logh_perc) %>% summarise(n=sum(event, na.rm=TRUE), event_rate = mean(event)) #%>% as_tibble()\n",
    "    temp_ordered = logh_T_agg %>% mutate(endpoint = factor(endpoint, levels=endpoints_md$endpoint)) \n",
    "    temp_ratios = temp_ordered %>% #filter(logh_perc %in% c(1, 10)) %>% \n",
    "        pivot_wider(names_from=logh_perc, values_from=c(n, event_rate)) %>% \n",
    "        mutate(event_rate_ratio=event_rate_10/event_rate_1) %>%\n",
    "#             mutate(ratio=ratio_top10/ratio_rest) %>%\n",
    "\n",
    "        #mutate(endpoint_string = recode(endpoint, !!!endpoint_map)) %>%\n",
    "        #select(endpoint, n_1, n_10, event_rate_1, ratio_10, ratio) %>%\n",
    "#             select(endpoint, n_top10, n_rest, ratio_top10, ratio_rest, ratio) %>%\n",
    "\n",
    "        arrange(event_rate_ratio) #%>% as_tibble()\n",
    "    return(temp_ratios)\n",
    "    }"
   ]
  },
  {
   "cell_type": "code",
   "execution_count": 14,
   "metadata": {
    "execution": {
     "iopub.execute_input": "2022-11-30T10:30:41.527759Z",
     "iopub.status.busy": "2022-11-30T10:30:41.526837Z",
     "iopub.status.idle": "2022-11-30T10:30:41.534663Z",
     "shell.execute_reply": "2022-11-30T10:30:41.533516Z"
    },
    "tags": []
   },
   "outputs": [],
   "source": [
    "prepare_ratios = function(endpoint_list){\n",
    "    \n",
    "    temp_outcomes = data_outcomes %>% filter(endpoint %in% endpoint_list)\n",
    "    temp_eligability = eligable_eids %>% filter(endpoint %in% endpoint_list)\n",
    "    temp_outcomes_eligability = temp_outcomes %>% left_join(temp_eligability, by=c(\"eid\", \"endpoint\"))\n",
    "    pred_outcomes = read_predictions(paths, endpoint_list) %>% left_join(temp_outcomes_eligability, on=c(eid, endpoint)) %>% as_tibble()\n",
    "    temp_df = calc_ratios(pred_outcomes, endpoints_md)\n",
    "    \n",
    "    return(temp_df)\n",
    "    }"
   ]
  },
  {
   "cell_type": "code",
   "execution_count": 15,
   "metadata": {
    "execution": {
     "iopub.execute_input": "2022-11-30T10:30:41.537168Z",
     "iopub.status.busy": "2022-11-30T10:30:41.536238Z",
     "iopub.status.idle": "2022-11-30T10:30:41.545077Z",
     "shell.execute_reply": "2022-11-30T10:30:41.543605Z"
    },
    "tags": []
   },
   "outputs": [],
   "source": [
    "ep_chunks = split(endpoints_md$endpoint, ceiling(seq_along(endpoints_md$endpoint)/500))"
   ]
  },
  {
   "cell_type": "code",
   "execution_count": 16,
   "metadata": {
    "execution": {
     "iopub.execute_input": "2022-11-30T10:30:41.547834Z",
     "iopub.status.busy": "2022-11-30T10:30:41.546839Z",
     "iopub.status.idle": "2022-11-30T10:31:17.499664Z",
     "shell.execute_reply": "2022-11-30T10:31:17.492373Z"
    },
    "tags": []
   },
   "outputs": [],
   "source": [
    "ratio_dfs = c()\n",
    "for (i in 1:length(ep_chunks)){\n",
    "    endpoint_list = ep_chunks[[i]]\n",
    "    ratio_dfs[[i]] = prepare_ratios(endpoint_list)\n",
    "    print(ratio_dfs[[i]])\n",
    "    flush.console()\n",
    "}"
   ]
  },
  {
   "cell_type": "code",
   "execution_count": null,
   "metadata": {
    "tags": []
   },
   "outputs": [],
   "source": [
    "ratio_df_complete = bind_rows(ratio_dfs) %>% ungroup() %>%\n",
    "    mutate(endpoint_string = recode(endpoint, !!!endpoint_map)) %>% \n",
    "    #select(endpoint, endpoint_string, n_1, n_10, ratio_1, ratio_10, ratio) %>%\n",
    "#     select(endpoint, endpoint_string, n_top10, n_rest, ratio_top10, ratio_rest, ratio) %>%\n",
    "\n",
    "    arrange(event_rate_ratio) %>% left_join(endpoints_md %>% select(endpoint, phecode_category) %>% as_tibble(), by=\"endpoint\")\n",
    "\n",
    "ratio_df_complete"
   ]
  },
  {
   "cell_type": "code",
   "execution_count": null,
   "metadata": {
    "tags": []
   },
   "outputs": [],
   "source": [
    "options(pillar.print_max = Inf)\n",
    "ratio_df_complete %>% \n",
    "    arrange(event_rate_ratio) %>%\n",
    "    mutate_if(is.numeric, round, 3) %>%\n",
    "    write_csv(glue(\"outputs/SupplTable1_RateRatiosAll_CropRatio-0.66.csv\"))"
   ]
  },
  {
   "cell_type": "code",
   "execution_count": null,
   "metadata": {
    "tags": []
   },
   "outputs": [],
   "source": [
    "# 0.66:\n",
    "cat(\"nrows with rate ratio > 1 :\", nrow(ratio_df_complete %>% filter(event_rate_ratio > 1)))\n",
    "cat(\"\\nnrows with rate ratio > 3 :\", nrow(ratio_df_complete %>% filter(event_rate_ratio > 3)))\n",
    "cat(\"\\nnrows with rate ratio > 5 :\", nrow(ratio_df_complete %>% filter(event_rate_ratio > 5)))\n",
    "cat(\"\\nnrows with rate ratio > 10 :\", nrow(ratio_df_complete %>% filter(event_rate_ratio > 10)))\n",
    "cat(\"\\nnrows with rate ratio > 50 :\", nrow(ratio_df_complete %>% filter(event_rate_ratio > 50)))"
   ]
  },
  {
   "cell_type": "code",
   "execution_count": null,
   "metadata": {
    "tags": []
   },
   "outputs": [],
   "source": [
    "1/0"
   ]
  },
  {
   "cell_type": "code",
   "execution_count": 18,
   "metadata": {
    "execution": {
     "iopub.execute_input": "2022-11-30T10:32:07.481828Z",
     "iopub.status.busy": "2022-11-30T10:32:07.481051Z",
     "iopub.status.idle": "2022-11-30T10:32:07.566313Z",
     "shell.execute_reply": "2022-11-30T10:32:07.565493Z"
    },
    "tags": []
   },
   "outputs": [
    {
     "name": "stderr",
     "output_type": "stream",
     "text": [
      "\n",
      "\u001b[36m──\u001b[39m \u001b[1mColumn specification\u001b[22m \u001b[36m────────────────────────────────────────────────────────\u001b[39m\n",
      "cols(\n",
      "  .default = col_double(),\n",
      "  endpoint = \u001b[31mcol_character()\u001b[39m,\n",
      "  endpoint_string = \u001b[31mcol_character()\u001b[39m,\n",
      "  phecode_category = \u001b[31mcol_character()\u001b[39m\n",
      ")\n",
      "\u001b[36mℹ\u001b[39m Use `spec()` for the full column specifications.\n",
      "\n"
     ]
    }
   ],
   "source": [
    "options(repr.matrix.max.rows=1e9, repr.matrix.max.cols=1e9)\n",
    "\n",
    "ratio_df_complete = read_csv(glue(\"outputs/SupplTable1_RateRatiosAll_CropRatio-0.66.csv\"))"
   ]
  },
  {
   "cell_type": "code",
   "execution_count": 19,
   "metadata": {
    "execution": {
     "iopub.execute_input": "2022-11-30T10:32:10.171755Z",
     "iopub.status.busy": "2022-11-30T10:32:10.170955Z",
     "iopub.status.idle": "2022-11-30T10:32:10.187065Z",
     "shell.execute_reply": "2022-11-30T10:32:10.186285Z"
    },
    "tags": []
   },
   "outputs": [
    {
     "data": {
      "text/html": [
       "<table class=\"dataframe\">\n",
       "<caption>A tibble: 6 × 24</caption>\n",
       "<thead>\n",
       "\t<tr><th scope=col>endpoint</th><th scope=col>n_1</th><th scope=col>n_2</th><th scope=col>n_3</th><th scope=col>n_4</th><th scope=col>n_5</th><th scope=col>n_6</th><th scope=col>n_7</th><th scope=col>n_8</th><th scope=col>n_9</th><th scope=col>n_10</th><th scope=col>event_rate_1</th><th scope=col>event_rate_2</th><th scope=col>event_rate_3</th><th scope=col>event_rate_4</th><th scope=col>event_rate_5</th><th scope=col>event_rate_6</th><th scope=col>event_rate_7</th><th scope=col>event_rate_8</th><th scope=col>event_rate_9</th><th scope=col>event_rate_10</th><th scope=col>event_rate_ratio</th><th scope=col>endpoint_string</th><th scope=col>phecode_category</th></tr>\n",
       "\t<tr><th scope=col>&lt;chr&gt;</th><th scope=col>&lt;dbl&gt;</th><th scope=col>&lt;dbl&gt;</th><th scope=col>&lt;dbl&gt;</th><th scope=col>&lt;dbl&gt;</th><th scope=col>&lt;dbl&gt;</th><th scope=col>&lt;dbl&gt;</th><th scope=col>&lt;dbl&gt;</th><th scope=col>&lt;dbl&gt;</th><th scope=col>&lt;dbl&gt;</th><th scope=col>&lt;dbl&gt;</th><th scope=col>&lt;dbl&gt;</th><th scope=col>&lt;dbl&gt;</th><th scope=col>&lt;dbl&gt;</th><th scope=col>&lt;dbl&gt;</th><th scope=col>&lt;dbl&gt;</th><th scope=col>&lt;dbl&gt;</th><th scope=col>&lt;dbl&gt;</th><th scope=col>&lt;dbl&gt;</th><th scope=col>&lt;dbl&gt;</th><th scope=col>&lt;dbl&gt;</th><th scope=col>&lt;dbl&gt;</th><th scope=col>&lt;chr&gt;</th><th scope=col>&lt;chr&gt;</th></tr>\n",
       "</thead>\n",
       "<tbody>\n",
       "\t<tr><td>phecode_719-11</td><td>17</td><td> 8</td><td>13</td><td>16</td><td>15</td><td>11</td><td>20</td><td>17</td><td>15</td><td>10</td><td>0.003</td><td>0.001</td><td>0.002</td><td>0.003</td><td>0.002</td><td>0.002</td><td>0.003</td><td>0.003</td><td>0.002</td><td>0.002</td><td>0.588</td><td>Spasm of muscle               </td><td>Musc/Skel    </td></tr>\n",
       "\t<tr><td>phecode_604-1 </td><td>27</td><td>14</td><td>15</td><td>17</td><td>16</td><td>19</td><td>20</td><td>25</td><td>13</td><td>17</td><td>0.010</td><td>0.005</td><td>0.005</td><td>0.006</td><td>0.006</td><td>0.007</td><td>0.007</td><td>0.009</td><td>0.005</td><td>0.006</td><td>0.630</td><td>Redundant prepuce and phimosis</td><td>Genitourinary</td></tr>\n",
       "\t<tr><td>phecode_391-21</td><td>16</td><td>19</td><td>19</td><td>19</td><td>25</td><td>23</td><td>17</td><td>22</td><td>13</td><td>11</td><td>0.003</td><td>0.003</td><td>0.003</td><td>0.003</td><td>0.004</td><td>0.004</td><td>0.003</td><td>0.004</td><td>0.002</td><td>0.002</td><td>0.688</td><td>Eustachian salpingitis        </td><td>Hearing      </td></tr>\n",
       "\t<tr><td>phecode_614-54</td><td>14</td><td> 8</td><td>15</td><td> 7</td><td>14</td><td> 9</td><td> 7</td><td>10</td><td>10</td><td>10</td><td>0.004</td><td>0.002</td><td>0.005</td><td>0.002</td><td>0.004</td><td>0.003</td><td>0.002</td><td>0.003</td><td>0.003</td><td>0.003</td><td>0.715</td><td>Abscess or ulceration of vulva</td><td>Genitourinary</td></tr>\n",
       "\t<tr><td>phecode_230-22</td><td>13</td><td> 6</td><td>14</td><td>21</td><td>11</td><td>16</td><td>16</td><td>28</td><td>19</td><td>10</td><td>0.002</td><td>0.001</td><td>0.002</td><td>0.003</td><td>0.002</td><td>0.003</td><td>0.003</td><td>0.005</td><td>0.003</td><td>0.002</td><td>0.769</td><td>Underweight                   </td><td>Metab        </td></tr>\n",
       "\t<tr><td>phecode_144-3 </td><td>13</td><td>19</td><td>16</td><td>10</td><td>11</td><td>18</td><td>22</td><td>23</td><td>16</td><td>10</td><td>0.004</td><td>0.006</td><td>0.005</td><td>0.003</td><td>0.003</td><td>0.005</td><td>0.007</td><td>0.007</td><td>0.005</td><td>0.003</td><td>0.769</td><td>Benign neoplasms of the ovary </td><td>Neoplasms    </td></tr>\n",
       "</tbody>\n",
       "</table>\n"
      ],
      "text/latex": [
       "A tibble: 6 × 24\n",
       "\\begin{tabular}{llllllllllllllllllllllll}\n",
       " endpoint & n\\_1 & n\\_2 & n\\_3 & n\\_4 & n\\_5 & n\\_6 & n\\_7 & n\\_8 & n\\_9 & n\\_10 & event\\_rate\\_1 & event\\_rate\\_2 & event\\_rate\\_3 & event\\_rate\\_4 & event\\_rate\\_5 & event\\_rate\\_6 & event\\_rate\\_7 & event\\_rate\\_8 & event\\_rate\\_9 & event\\_rate\\_10 & event\\_rate\\_ratio & endpoint\\_string & phecode\\_category\\\\\n",
       " <chr> & <dbl> & <dbl> & <dbl> & <dbl> & <dbl> & <dbl> & <dbl> & <dbl> & <dbl> & <dbl> & <dbl> & <dbl> & <dbl> & <dbl> & <dbl> & <dbl> & <dbl> & <dbl> & <dbl> & <dbl> & <dbl> & <chr> & <chr>\\\\\n",
       "\\hline\n",
       "\t phecode\\_719-11 & 17 &  8 & 13 & 16 & 15 & 11 & 20 & 17 & 15 & 10 & 0.003 & 0.001 & 0.002 & 0.003 & 0.002 & 0.002 & 0.003 & 0.003 & 0.002 & 0.002 & 0.588 & Spasm of muscle                & Musc/Skel    \\\\\n",
       "\t phecode\\_604-1  & 27 & 14 & 15 & 17 & 16 & 19 & 20 & 25 & 13 & 17 & 0.010 & 0.005 & 0.005 & 0.006 & 0.006 & 0.007 & 0.007 & 0.009 & 0.005 & 0.006 & 0.630 & Redundant prepuce and phimosis & Genitourinary\\\\\n",
       "\t phecode\\_391-21 & 16 & 19 & 19 & 19 & 25 & 23 & 17 & 22 & 13 & 11 & 0.003 & 0.003 & 0.003 & 0.003 & 0.004 & 0.004 & 0.003 & 0.004 & 0.002 & 0.002 & 0.688 & Eustachian salpingitis         & Hearing      \\\\\n",
       "\t phecode\\_614-54 & 14 &  8 & 15 &  7 & 14 &  9 &  7 & 10 & 10 & 10 & 0.004 & 0.002 & 0.005 & 0.002 & 0.004 & 0.003 & 0.002 & 0.003 & 0.003 & 0.003 & 0.715 & Abscess or ulceration of vulva & Genitourinary\\\\\n",
       "\t phecode\\_230-22 & 13 &  6 & 14 & 21 & 11 & 16 & 16 & 28 & 19 & 10 & 0.002 & 0.001 & 0.002 & 0.003 & 0.002 & 0.003 & 0.003 & 0.005 & 0.003 & 0.002 & 0.769 & Underweight                    & Metab        \\\\\n",
       "\t phecode\\_144-3  & 13 & 19 & 16 & 10 & 11 & 18 & 22 & 23 & 16 & 10 & 0.004 & 0.006 & 0.005 & 0.003 & 0.003 & 0.005 & 0.007 & 0.007 & 0.005 & 0.003 & 0.769 & Benign neoplasms of the ovary  & Neoplasms    \\\\\n",
       "\\end{tabular}\n"
      ],
      "text/markdown": [
       "\n",
       "A tibble: 6 × 24\n",
       "\n",
       "| endpoint &lt;chr&gt; | n_1 &lt;dbl&gt; | n_2 &lt;dbl&gt; | n_3 &lt;dbl&gt; | n_4 &lt;dbl&gt; | n_5 &lt;dbl&gt; | n_6 &lt;dbl&gt; | n_7 &lt;dbl&gt; | n_8 &lt;dbl&gt; | n_9 &lt;dbl&gt; | n_10 &lt;dbl&gt; | event_rate_1 &lt;dbl&gt; | event_rate_2 &lt;dbl&gt; | event_rate_3 &lt;dbl&gt; | event_rate_4 &lt;dbl&gt; | event_rate_5 &lt;dbl&gt; | event_rate_6 &lt;dbl&gt; | event_rate_7 &lt;dbl&gt; | event_rate_8 &lt;dbl&gt; | event_rate_9 &lt;dbl&gt; | event_rate_10 &lt;dbl&gt; | event_rate_ratio &lt;dbl&gt; | endpoint_string &lt;chr&gt; | phecode_category &lt;chr&gt; |\n",
       "|---|---|---|---|---|---|---|---|---|---|---|---|---|---|---|---|---|---|---|---|---|---|---|---|\n",
       "| phecode_719-11 | 17 |  8 | 13 | 16 | 15 | 11 | 20 | 17 | 15 | 10 | 0.003 | 0.001 | 0.002 | 0.003 | 0.002 | 0.002 | 0.003 | 0.003 | 0.002 | 0.002 | 0.588 | Spasm of muscle                | Musc/Skel     |\n",
       "| phecode_604-1  | 27 | 14 | 15 | 17 | 16 | 19 | 20 | 25 | 13 | 17 | 0.010 | 0.005 | 0.005 | 0.006 | 0.006 | 0.007 | 0.007 | 0.009 | 0.005 | 0.006 | 0.630 | Redundant prepuce and phimosis | Genitourinary |\n",
       "| phecode_391-21 | 16 | 19 | 19 | 19 | 25 | 23 | 17 | 22 | 13 | 11 | 0.003 | 0.003 | 0.003 | 0.003 | 0.004 | 0.004 | 0.003 | 0.004 | 0.002 | 0.002 | 0.688 | Eustachian salpingitis         | Hearing       |\n",
       "| phecode_614-54 | 14 |  8 | 15 |  7 | 14 |  9 |  7 | 10 | 10 | 10 | 0.004 | 0.002 | 0.005 | 0.002 | 0.004 | 0.003 | 0.002 | 0.003 | 0.003 | 0.003 | 0.715 | Abscess or ulceration of vulva | Genitourinary |\n",
       "| phecode_230-22 | 13 |  6 | 14 | 21 | 11 | 16 | 16 | 28 | 19 | 10 | 0.002 | 0.001 | 0.002 | 0.003 | 0.002 | 0.003 | 0.003 | 0.005 | 0.003 | 0.002 | 0.769 | Underweight                    | Metab         |\n",
       "| phecode_144-3  | 13 | 19 | 16 | 10 | 11 | 18 | 22 | 23 | 16 | 10 | 0.004 | 0.006 | 0.005 | 0.003 | 0.003 | 0.005 | 0.007 | 0.007 | 0.005 | 0.003 | 0.769 | Benign neoplasms of the ovary  | Neoplasms     |\n",
       "\n"
      ],
      "text/plain": [
       "  endpoint       n_1 n_2 n_3 n_4 n_5 n_6 n_7 n_8 n_9 n_10 event_rate_1\n",
       "1 phecode_719-11 17   8  13  16  15  11  20  17  15  10   0.003       \n",
       "2 phecode_604-1  27  14  15  17  16  19  20  25  13  17   0.010       \n",
       "3 phecode_391-21 16  19  19  19  25  23  17  22  13  11   0.003       \n",
       "4 phecode_614-54 14   8  15   7  14   9   7  10  10  10   0.004       \n",
       "5 phecode_230-22 13   6  14  21  11  16  16  28  19  10   0.002       \n",
       "6 phecode_144-3  13  19  16  10  11  18  22  23  16  10   0.004       \n",
       "  event_rate_2 event_rate_3 event_rate_4 event_rate_5 event_rate_6 event_rate_7\n",
       "1 0.001        0.002        0.003        0.002        0.002        0.003       \n",
       "2 0.005        0.005        0.006        0.006        0.007        0.007       \n",
       "3 0.003        0.003        0.003        0.004        0.004        0.003       \n",
       "4 0.002        0.005        0.002        0.004        0.003        0.002       \n",
       "5 0.001        0.002        0.003        0.002        0.003        0.003       \n",
       "6 0.006        0.005        0.003        0.003        0.005        0.007       \n",
       "  event_rate_8 event_rate_9 event_rate_10 event_rate_ratio\n",
       "1 0.003        0.002        0.002         0.588           \n",
       "2 0.009        0.005        0.006         0.630           \n",
       "3 0.004        0.002        0.002         0.688           \n",
       "4 0.003        0.003        0.003         0.715           \n",
       "5 0.005        0.003        0.002         0.769           \n",
       "6 0.007        0.005        0.003         0.769           \n",
       "  endpoint_string                phecode_category\n",
       "1 Spasm of muscle                Musc/Skel       \n",
       "2 Redundant prepuce and phimosis Genitourinary   \n",
       "3 Eustachian salpingitis         Hearing         \n",
       "4 Abscess or ulceration of vulva Genitourinary   \n",
       "5 Underweight                    Metab           \n",
       "6 Benign neoplasms of the ovary  Neoplasms       "
      ]
     },
     "metadata": {},
     "output_type": "display_data"
    }
   ],
   "source": [
    "ratio_df_complete %>% head()"
   ]
  },
  {
   "cell_type": "code",
   "execution_count": 20,
   "metadata": {
    "execution": {
     "iopub.execute_input": "2022-11-30T10:32:11.044228Z",
     "iopub.status.busy": "2022-11-30T10:32:11.043439Z",
     "iopub.status.idle": "2022-11-30T10:32:11.126069Z",
     "shell.execute_reply": "2022-11-30T10:32:11.125275Z"
    },
    "tags": []
   },
   "outputs": [
    {
     "data": {
      "text/html": [
       "<table class=\"dataframe\">\n",
       "<caption>A tibble: 91 × 4</caption>\n",
       "<thead>\n",
       "\t<tr><th scope=col>endpoint</th><th scope=col>endpoint_string</th><th scope=col>phecode_category</th><th scope=col>event_rate_ratio</th></tr>\n",
       "\t<tr><th scope=col>&lt;chr&gt;</th><th scope=col>&lt;chr&gt;</th><th scope=col>&lt;chr&gt;</th><th scope=col>&lt;dbl&gt;</th></tr>\n",
       "</thead>\n",
       "<tbody>\n",
       "\t<tr><td>phecode_325-1 </td><td>Abnormal involuntary movements                                   </td><td>Neuro</td><td>  0.850</td></tr>\n",
       "\t<tr><td>phecode_336-52</td><td>Meralgia paresthetica                                            </td><td>Neuro</td><td>  0.857</td></tr>\n",
       "\t<tr><td>phecode_331-3 </td><td>Headache syndromes, non migraine                                 </td><td>Neuro</td><td>  1.050</td></tr>\n",
       "\t<tr><td>phecode_329-42</td><td>Cognitive communication deficit                                  </td><td>Neuro</td><td>  1.111</td></tr>\n",
       "\t<tr><td>phecode_329-4 </td><td>Other specified cognitive deficit                                </td><td>Neuro</td><td>  1.348</td></tr>\n",
       "\t<tr><td>phecode_351-3 </td><td>Paresthesia of skin*                                             </td><td>Neuro</td><td>  1.368</td></tr>\n",
       "\t<tr><td>phecode_351-1 </td><td>Anesthesia of skin*                                              </td><td>Neuro</td><td>  1.376</td></tr>\n",
       "\t<tr><td>phecode_352   </td><td>Disturbances of sensation of smell and taste                     </td><td>Neuro</td><td>  1.400</td></tr>\n",
       "\t<tr><td>phecode_333   </td><td>Sleep disorders                                                  </td><td>Neuro</td><td>  1.543</td></tr>\n",
       "\t<tr><td>phecode_355-1 </td><td>Coma                                                             </td><td>Neuro</td><td>  1.650</td></tr>\n",
       "\t<tr><td>phecode_352-3 </td><td>Parageusia*                                                      </td><td>Neuro</td><td>  1.667</td></tr>\n",
       "\t<tr><td>phecode_334-21</td><td>Bell's palsy                                                     </td><td>Neuro</td><td>  1.667</td></tr>\n",
       "\t<tr><td>phecode_336-5 </td><td>Mononeuritis of lower limb                                       </td><td>Neuro</td><td>  1.667</td></tr>\n",
       "\t<tr><td>phecode_333-2 </td><td>Insomnia                                                         </td><td>Neuro</td><td>  1.697</td></tr>\n",
       "\t<tr><td>phecode_335   </td><td>Nerve root and plexus disorders                                  </td><td>Neuro</td><td>  1.710</td></tr>\n",
       "\t<tr><td>phecode_336   </td><td>Mononeuropathies                                                 </td><td>Neuro</td><td>  1.723</td></tr>\n",
       "\t<tr><td>phecode_334-1 </td><td>Trigeminal nerve disorders [CN5]                                 </td><td>Neuro</td><td>  1.818</td></tr>\n",
       "\t<tr><td>phecode_324-34</td><td>Torticollis                                                      </td><td>Neuro</td><td>  1.818</td></tr>\n",
       "\t<tr><td>phecode_349-2 </td><td>Abnormal results of function studies of peripheral nervous system</td><td>Neuro</td><td>  1.846</td></tr>\n",
       "\t<tr><td>phecode_334-2 </td><td>Facial nerve disorders and weakness                              </td><td>Neuro</td><td>  1.846</td></tr>\n",
       "\t<tr><td>phecode_331   </td><td>Headache                                                         </td><td>Neuro</td><td>  1.853</td></tr>\n",
       "\t<tr><td>phecode_342-4 </td><td>Monoplegia                                                       </td><td>Neuro</td><td>  1.917</td></tr>\n",
       "\t<tr><td>phecode_334   </td><td>Disorders of other cranial nerves                                </td><td>Neuro</td><td>  1.962</td></tr>\n",
       "\t<tr><td>phecode_330-3 </td><td>Convulsions                                                      </td><td>Neuro</td><td>  2.000</td></tr>\n",
       "\t<tr><td>phecode_351   </td><td>Disturbances of skin sensation                                   </td><td>Neuro</td><td>  2.074</td></tr>\n",
       "\t<tr><td>phecode_348-2 </td><td>Myelopathies                                                     </td><td>Neuro</td><td>  2.080</td></tr>\n",
       "\t<tr><td>phecode_336-2 </td><td>Lesion of median, ulnar, radial nerve                            </td><td>Neuro</td><td>  2.089</td></tr>\n",
       "\t<tr><td>phecode_324-3 </td><td>Dystonia                                                         </td><td>Neuro</td><td>  2.106</td></tr>\n",
       "\t<tr><td>phecode_333-4 </td><td>Circadian rhythm sleep disorder                                  </td><td>Neuro</td><td>  2.111</td></tr>\n",
       "\t<tr><td>phecode_336-1 </td><td>Carpal tunnel syndrome                                           </td><td>Neuro</td><td>  2.141</td></tr>\n",
       "\t<tr><td>phecode_331-8 </td><td>Headache NOS                                                     </td><td>Neuro</td><td>  2.168</td></tr>\n",
       "\t<tr><td>phecode_331-61</td><td>Migraine with aura                                               </td><td>Neuro</td><td>  2.228</td></tr>\n",
       "\t<tr><td>phecode_348   </td><td>Other diseases of spinal cord                                    </td><td>Neuro</td><td>  2.250</td></tr>\n",
       "\t<tr><td>phecode_325-3 </td><td>Lack of coordination                                             </td><td>Neuro</td><td>  2.380</td></tr>\n",
       "\t<tr><td>phecode_330   </td><td>Epilepsy, recurrent seizures, convulsions                        </td><td>Neuro</td><td>  2.396</td></tr>\n",
       "\t<tr><td>phecode_353   </td><td>Symptoms and signs involving general sensations and perceptions  </td><td>Neuro</td><td>  2.400</td></tr>\n",
       "\t<tr><td>phecode_354   </td><td>Dizziness and giddiness                                          </td><td>Neuro</td><td>  2.443</td></tr>\n",
       "\t<tr><td>phecode_343   </td><td>Disorders of autonomic nervous system                            </td><td>Neuro</td><td>  2.534</td></tr>\n",
       "\t<tr><td>phecode_352-1 </td><td>Anosmia*                                                         </td><td>Neuro</td><td>  2.534</td></tr>\n",
       "\t<tr><td>phecode_330-11</td><td>Generalized epilepsy                                             </td><td>Neuro</td><td>  2.556</td></tr>\n",
       "\t<tr><td>phecode_330-1 </td><td>Epilepsy                                                         </td><td>Neuro</td><td>  2.616</td></tr>\n",
       "\t<tr><td>phecode_331-1 </td><td>Tension headache                                                 </td><td>Neuro</td><td>  2.700</td></tr>\n",
       "\t<tr><td>phecode_324   </td><td>Extrapyramidal and movement disorders                            </td><td>Neuro</td><td>  2.884</td></tr>\n",
       "\t<tr><td>phecode_342   </td><td>Plegia and unspecified paralysis                                 </td><td>Neuro</td><td>  2.924</td></tr>\n",
       "\t<tr><td>phecode_347   </td><td>Other disorders of the brain and CNS                             </td><td>Neuro</td><td>  2.929</td></tr>\n",
       "\t<tr><td>phecode_323   </td><td>Systemic atrophies primarily affecting the central nervous system</td><td>Neuro</td><td>  3.000</td></tr>\n",
       "\t<tr><td>phecode_334-11</td><td>Trigeminal neuralgia                                             </td><td>Neuro</td><td>  3.000</td></tr>\n",
       "\t<tr><td>phecode_344   </td><td>Disorders of the circulation of the cerebrospinal fluid          </td><td>Neuro</td><td>  3.126</td></tr>\n",
       "\t<tr><td>phecode_324-8 </td><td>Restless legs syndrome                                           </td><td>Neuro</td><td>  3.167</td></tr>\n",
       "\t<tr><td>phecode_346   </td><td>Brain damage and brain death                                     </td><td>Neuro</td><td>  3.251</td></tr>\n",
       "\t<tr><td>phecode_349   </td><td>Disorder of nervous system                                       </td><td>Neuro</td><td>  3.380</td></tr>\n",
       "\t<tr><td>phecode_325-23</td><td>Unsteadiness on feet*                                            </td><td>Neuro</td><td>  3.385</td></tr>\n",
       "\t<tr><td>phecode_349-1 </td><td>Abnormal findings on diagnostic test of central nervous system   </td><td>Neuro</td><td>  3.389</td></tr>\n",
       "\t<tr><td>phecode_331-6 </td><td>Migraine                                                         </td><td>Neuro</td><td>  3.518</td></tr>\n",
       "\t<tr><td>phecode_350   </td><td>Other symptoms involving nervous system                          </td><td>Neuro</td><td>  3.797</td></tr>\n",
       "\t<tr><td>phecode_336-55</td><td>Lesion of plantar nerve                                          </td><td>Neuro</td><td>  3.819</td></tr>\n",
       "\t<tr><td>phecode_324-4 </td><td>Tremor                                                           </td><td>Neuro</td><td>  3.821</td></tr>\n",
       "\t<tr><td>phecode_333-1 </td><td>Sleep apnea                                                      </td><td>Neuro</td><td>  3.840</td></tr>\n",
       "\t<tr><td>phecode_329-6 </td><td>Transient global amnesia                                         </td><td>Neuro</td><td>  4.001</td></tr>\n",
       "\t<tr><td>phecode_333-11</td><td>Obstructive sleep apnea                                          </td><td>Neuro</td><td>  4.094</td></tr>\n",
       "\t<tr><td>phecode_330-12</td><td>Partial epilepsy                                                 </td><td>Neuro</td><td>  4.251</td></tr>\n",
       "\t<tr><td>phecode_329-41</td><td>Attention and concentration deficit                              </td><td>Neuro</td><td>  4.601</td></tr>\n",
       "\t<tr><td>phecode_353-1 </td><td>Hallucinations                                                   </td><td>Neuro</td><td>  4.626</td></tr>\n",
       "\t<tr><td>phecode_355   </td><td>Coma and other alteration of consciousness                       </td><td>Neuro</td><td>  4.786</td></tr>\n",
       "\t<tr><td>phecode_329-1 </td><td>Memory loss                                                      </td><td>Neuro</td><td>  4.888</td></tr>\n",
       "\t<tr><td>phecode_337   </td><td>Polyneuropathies                                                 </td><td>Neuro</td><td>  5.001</td></tr>\n",
       "\t<tr><td>phecode_325   </td><td>Symptoms and signs related to movement disorders                 </td><td>Neuro</td><td>  5.095</td></tr>\n",
       "\t<tr><td>phecode_329   </td><td>Symptoms and signs involving cognitive functions and awareness   </td><td>Neuro</td><td>  5.140</td></tr>\n",
       "\t<tr><td>phecode_349-13</td><td>Abnormal findings on diagnostic imaging of skull and head        </td><td>Neuro</td><td>  5.200</td></tr>\n",
       "\t<tr><td>phecode_355-2 </td><td>Alteration of consciousness                                      </td><td>Neuro</td><td>  5.317</td></tr>\n",
       "\t<tr><td>phecode_356   </td><td>Speech disturbance                                               </td><td>Neuro</td><td>  5.707</td></tr>\n",
       "\t<tr><td>phecode_325-2 </td><td>Abnormality of gait and mobility                                 </td><td>Neuro</td><td>  6.376</td></tr>\n",
       "\t<tr><td>phecode_341   </td><td>Cerebral palsy and other paralytic syndromes                     </td><td>Neuro</td><td>  6.589</td></tr>\n",
       "\t<tr><td>phecode_341-2 </td><td>Hemiplegia and hemiparesis                                       </td><td>Neuro</td><td>  7.287</td></tr>\n",
       "\t<tr><td>phecode_324-41</td><td>Essential tremor*                                                </td><td>Neuro</td><td>  7.858</td></tr>\n",
       "\t<tr><td>phecode_356-2 </td><td>Aphasia and dysphasia                                            </td><td>Neuro</td><td> 10.002</td></tr>\n",
       "\t<tr><td>phecode_356-1 </td><td>Dysarthria                                                       </td><td>Neuro</td><td> 13.002</td></tr>\n",
       "\t<tr><td>phecode_344-1 </td><td>Hydrocephalus                                                    </td><td>Neuro</td><td> 13.502</td></tr>\n",
       "\t<tr><td>phecode_350-5 </td><td>Repeated falls*                                                  </td><td>Neuro</td><td> 18.299</td></tr>\n",
       "\t<tr><td>phecode_328-7 </td><td>Vascular dementia                                                </td><td>Neuro</td><td> 19.003</td></tr>\n",
       "\t<tr><td>phecode_324-11</td><td>Parkinson's disease                                              </td><td>Neuro</td><td> 20.003</td></tr>\n",
       "\t<tr><td>phecode_324-1 </td><td>Parkinsonism                                                     </td><td>Neuro</td><td> 21.003</td></tr>\n",
       "\t<tr><td>phecode_328-9 </td><td>Dementia NOS                                                     </td><td>Neuro</td><td> 25.204</td></tr>\n",
       "\t<tr><td>phecode_327   </td><td>Other degenerative diseases of nervous system                    </td><td>Neuro</td><td> 26.671</td></tr>\n",
       "\t<tr><td>phecode_329-5 </td><td>Mild cognitive impairment, so stated                             </td><td>Neuro</td><td> 37.506</td></tr>\n",
       "\t<tr><td>phecode_328   </td><td>Dementias and cerebral degeneration                              </td><td>Neuro</td><td> 41.507</td></tr>\n",
       "\t<tr><td>phecode_337-8 </td><td>Polyneuropathy in diseases classified elsewhere                  </td><td>Neuro</td><td> 41.507</td></tr>\n",
       "\t<tr><td>phecode_329-9 </td><td>Delirium                                                         </td><td>Neuro</td><td> 43.507</td></tr>\n",
       "\t<tr><td>phecode_351-2 </td><td>Hypoesthesia of skin*                                            </td><td>Neuro</td><td> 70.011</td></tr>\n",
       "\t<tr><td>phecode_328-1 </td><td>Alzheimer's disease                                              </td><td>Neuro</td><td>133.022</td></tr>\n",
       "\t<tr><td>phecode_328-8 </td><td>Dementia in conditions classified elsewhere                      </td><td>Neuro</td><td>    Inf</td></tr>\n",
       "</tbody>\n",
       "</table>\n"
      ],
      "text/latex": [
       "A tibble: 91 × 4\n",
       "\\begin{tabular}{llll}\n",
       " endpoint & endpoint\\_string & phecode\\_category & event\\_rate\\_ratio\\\\\n",
       " <chr> & <chr> & <chr> & <dbl>\\\\\n",
       "\\hline\n",
       "\t phecode\\_325-1  & Abnormal involuntary movements                                    & Neuro &   0.850\\\\\n",
       "\t phecode\\_336-52 & Meralgia paresthetica                                             & Neuro &   0.857\\\\\n",
       "\t phecode\\_331-3  & Headache syndromes, non migraine                                  & Neuro &   1.050\\\\\n",
       "\t phecode\\_329-42 & Cognitive communication deficit                                   & Neuro &   1.111\\\\\n",
       "\t phecode\\_329-4  & Other specified cognitive deficit                                 & Neuro &   1.348\\\\\n",
       "\t phecode\\_351-3  & Paresthesia of skin*                                              & Neuro &   1.368\\\\\n",
       "\t phecode\\_351-1  & Anesthesia of skin*                                               & Neuro &   1.376\\\\\n",
       "\t phecode\\_352    & Disturbances of sensation of smell and taste                      & Neuro &   1.400\\\\\n",
       "\t phecode\\_333    & Sleep disorders                                                   & Neuro &   1.543\\\\\n",
       "\t phecode\\_355-1  & Coma                                                              & Neuro &   1.650\\\\\n",
       "\t phecode\\_352-3  & Parageusia*                                                       & Neuro &   1.667\\\\\n",
       "\t phecode\\_334-21 & Bell's palsy                                                      & Neuro &   1.667\\\\\n",
       "\t phecode\\_336-5  & Mononeuritis of lower limb                                        & Neuro &   1.667\\\\\n",
       "\t phecode\\_333-2  & Insomnia                                                          & Neuro &   1.697\\\\\n",
       "\t phecode\\_335    & Nerve root and plexus disorders                                   & Neuro &   1.710\\\\\n",
       "\t phecode\\_336    & Mononeuropathies                                                  & Neuro &   1.723\\\\\n",
       "\t phecode\\_334-1  & Trigeminal nerve disorders {[}CN5{]}                                  & Neuro &   1.818\\\\\n",
       "\t phecode\\_324-34 & Torticollis                                                       & Neuro &   1.818\\\\\n",
       "\t phecode\\_349-2  & Abnormal results of function studies of peripheral nervous system & Neuro &   1.846\\\\\n",
       "\t phecode\\_334-2  & Facial nerve disorders and weakness                               & Neuro &   1.846\\\\\n",
       "\t phecode\\_331    & Headache                                                          & Neuro &   1.853\\\\\n",
       "\t phecode\\_342-4  & Monoplegia                                                        & Neuro &   1.917\\\\\n",
       "\t phecode\\_334    & Disorders of other cranial nerves                                 & Neuro &   1.962\\\\\n",
       "\t phecode\\_330-3  & Convulsions                                                       & Neuro &   2.000\\\\\n",
       "\t phecode\\_351    & Disturbances of skin sensation                                    & Neuro &   2.074\\\\\n",
       "\t phecode\\_348-2  & Myelopathies                                                      & Neuro &   2.080\\\\\n",
       "\t phecode\\_336-2  & Lesion of median, ulnar, radial nerve                             & Neuro &   2.089\\\\\n",
       "\t phecode\\_324-3  & Dystonia                                                          & Neuro &   2.106\\\\\n",
       "\t phecode\\_333-4  & Circadian rhythm sleep disorder                                   & Neuro &   2.111\\\\\n",
       "\t phecode\\_336-1  & Carpal tunnel syndrome                                            & Neuro &   2.141\\\\\n",
       "\t phecode\\_331-8  & Headache NOS                                                      & Neuro &   2.168\\\\\n",
       "\t phecode\\_331-61 & Migraine with aura                                                & Neuro &   2.228\\\\\n",
       "\t phecode\\_348    & Other diseases of spinal cord                                     & Neuro &   2.250\\\\\n",
       "\t phecode\\_325-3  & Lack of coordination                                              & Neuro &   2.380\\\\\n",
       "\t phecode\\_330    & Epilepsy, recurrent seizures, convulsions                         & Neuro &   2.396\\\\\n",
       "\t phecode\\_353    & Symptoms and signs involving general sensations and perceptions   & Neuro &   2.400\\\\\n",
       "\t phecode\\_354    & Dizziness and giddiness                                           & Neuro &   2.443\\\\\n",
       "\t phecode\\_343    & Disorders of autonomic nervous system                             & Neuro &   2.534\\\\\n",
       "\t phecode\\_352-1  & Anosmia*                                                          & Neuro &   2.534\\\\\n",
       "\t phecode\\_330-11 & Generalized epilepsy                                              & Neuro &   2.556\\\\\n",
       "\t phecode\\_330-1  & Epilepsy                                                          & Neuro &   2.616\\\\\n",
       "\t phecode\\_331-1  & Tension headache                                                  & Neuro &   2.700\\\\\n",
       "\t phecode\\_324    & Extrapyramidal and movement disorders                             & Neuro &   2.884\\\\\n",
       "\t phecode\\_342    & Plegia and unspecified paralysis                                  & Neuro &   2.924\\\\\n",
       "\t phecode\\_347    & Other disorders of the brain and CNS                              & Neuro &   2.929\\\\\n",
       "\t phecode\\_323    & Systemic atrophies primarily affecting the central nervous system & Neuro &   3.000\\\\\n",
       "\t phecode\\_334-11 & Trigeminal neuralgia                                              & Neuro &   3.000\\\\\n",
       "\t phecode\\_344    & Disorders of the circulation of the cerebrospinal fluid           & Neuro &   3.126\\\\\n",
       "\t phecode\\_324-8  & Restless legs syndrome                                            & Neuro &   3.167\\\\\n",
       "\t phecode\\_346    & Brain damage and brain death                                      & Neuro &   3.251\\\\\n",
       "\t phecode\\_349    & Disorder of nervous system                                        & Neuro &   3.380\\\\\n",
       "\t phecode\\_325-23 & Unsteadiness on feet*                                             & Neuro &   3.385\\\\\n",
       "\t phecode\\_349-1  & Abnormal findings on diagnostic test of central nervous system    & Neuro &   3.389\\\\\n",
       "\t phecode\\_331-6  & Migraine                                                          & Neuro &   3.518\\\\\n",
       "\t phecode\\_350    & Other symptoms involving nervous system                           & Neuro &   3.797\\\\\n",
       "\t phecode\\_336-55 & Lesion of plantar nerve                                           & Neuro &   3.819\\\\\n",
       "\t phecode\\_324-4  & Tremor                                                            & Neuro &   3.821\\\\\n",
       "\t phecode\\_333-1  & Sleep apnea                                                       & Neuro &   3.840\\\\\n",
       "\t phecode\\_329-6  & Transient global amnesia                                          & Neuro &   4.001\\\\\n",
       "\t phecode\\_333-11 & Obstructive sleep apnea                                           & Neuro &   4.094\\\\\n",
       "\t phecode\\_330-12 & Partial epilepsy                                                  & Neuro &   4.251\\\\\n",
       "\t phecode\\_329-41 & Attention and concentration deficit                               & Neuro &   4.601\\\\\n",
       "\t phecode\\_353-1  & Hallucinations                                                    & Neuro &   4.626\\\\\n",
       "\t phecode\\_355    & Coma and other alteration of consciousness                        & Neuro &   4.786\\\\\n",
       "\t phecode\\_329-1  & Memory loss                                                       & Neuro &   4.888\\\\\n",
       "\t phecode\\_337    & Polyneuropathies                                                  & Neuro &   5.001\\\\\n",
       "\t phecode\\_325    & Symptoms and signs related to movement disorders                  & Neuro &   5.095\\\\\n",
       "\t phecode\\_329    & Symptoms and signs involving cognitive functions and awareness    & Neuro &   5.140\\\\\n",
       "\t phecode\\_349-13 & Abnormal findings on diagnostic imaging of skull and head         & Neuro &   5.200\\\\\n",
       "\t phecode\\_355-2  & Alteration of consciousness                                       & Neuro &   5.317\\\\\n",
       "\t phecode\\_356    & Speech disturbance                                                & Neuro &   5.707\\\\\n",
       "\t phecode\\_325-2  & Abnormality of gait and mobility                                  & Neuro &   6.376\\\\\n",
       "\t phecode\\_341    & Cerebral palsy and other paralytic syndromes                      & Neuro &   6.589\\\\\n",
       "\t phecode\\_341-2  & Hemiplegia and hemiparesis                                        & Neuro &   7.287\\\\\n",
       "\t phecode\\_324-41 & Essential tremor*                                                 & Neuro &   7.858\\\\\n",
       "\t phecode\\_356-2  & Aphasia and dysphasia                                             & Neuro &  10.002\\\\\n",
       "\t phecode\\_356-1  & Dysarthria                                                        & Neuro &  13.002\\\\\n",
       "\t phecode\\_344-1  & Hydrocephalus                                                     & Neuro &  13.502\\\\\n",
       "\t phecode\\_350-5  & Repeated falls*                                                   & Neuro &  18.299\\\\\n",
       "\t phecode\\_328-7  & Vascular dementia                                                 & Neuro &  19.003\\\\\n",
       "\t phecode\\_324-11 & Parkinson's disease                                               & Neuro &  20.003\\\\\n",
       "\t phecode\\_324-1  & Parkinsonism                                                      & Neuro &  21.003\\\\\n",
       "\t phecode\\_328-9  & Dementia NOS                                                      & Neuro &  25.204\\\\\n",
       "\t phecode\\_327    & Other degenerative diseases of nervous system                     & Neuro &  26.671\\\\\n",
       "\t phecode\\_329-5  & Mild cognitive impairment, so stated                              & Neuro &  37.506\\\\\n",
       "\t phecode\\_328    & Dementias and cerebral degeneration                               & Neuro &  41.507\\\\\n",
       "\t phecode\\_337-8  & Polyneuropathy in diseases classified elsewhere                   & Neuro &  41.507\\\\\n",
       "\t phecode\\_329-9  & Delirium                                                          & Neuro &  43.507\\\\\n",
       "\t phecode\\_351-2  & Hypoesthesia of skin*                                             & Neuro &  70.011\\\\\n",
       "\t phecode\\_328-1  & Alzheimer's disease                                               & Neuro & 133.022\\\\\n",
       "\t phecode\\_328-8  & Dementia in conditions classified elsewhere                       & Neuro &     Inf\\\\\n",
       "\\end{tabular}\n"
      ],
      "text/markdown": [
       "\n",
       "A tibble: 91 × 4\n",
       "\n",
       "| endpoint &lt;chr&gt; | endpoint_string &lt;chr&gt; | phecode_category &lt;chr&gt; | event_rate_ratio &lt;dbl&gt; |\n",
       "|---|---|---|---|\n",
       "| phecode_325-1  | Abnormal involuntary movements                                    | Neuro |   0.850 |\n",
       "| phecode_336-52 | Meralgia paresthetica                                             | Neuro |   0.857 |\n",
       "| phecode_331-3  | Headache syndromes, non migraine                                  | Neuro |   1.050 |\n",
       "| phecode_329-42 | Cognitive communication deficit                                   | Neuro |   1.111 |\n",
       "| phecode_329-4  | Other specified cognitive deficit                                 | Neuro |   1.348 |\n",
       "| phecode_351-3  | Paresthesia of skin*                                              | Neuro |   1.368 |\n",
       "| phecode_351-1  | Anesthesia of skin*                                               | Neuro |   1.376 |\n",
       "| phecode_352    | Disturbances of sensation of smell and taste                      | Neuro |   1.400 |\n",
       "| phecode_333    | Sleep disorders                                                   | Neuro |   1.543 |\n",
       "| phecode_355-1  | Coma                                                              | Neuro |   1.650 |\n",
       "| phecode_352-3  | Parageusia*                                                       | Neuro |   1.667 |\n",
       "| phecode_334-21 | Bell's palsy                                                      | Neuro |   1.667 |\n",
       "| phecode_336-5  | Mononeuritis of lower limb                                        | Neuro |   1.667 |\n",
       "| phecode_333-2  | Insomnia                                                          | Neuro |   1.697 |\n",
       "| phecode_335    | Nerve root and plexus disorders                                   | Neuro |   1.710 |\n",
       "| phecode_336    | Mononeuropathies                                                  | Neuro |   1.723 |\n",
       "| phecode_334-1  | Trigeminal nerve disorders [CN5]                                  | Neuro |   1.818 |\n",
       "| phecode_324-34 | Torticollis                                                       | Neuro |   1.818 |\n",
       "| phecode_349-2  | Abnormal results of function studies of peripheral nervous system | Neuro |   1.846 |\n",
       "| phecode_334-2  | Facial nerve disorders and weakness                               | Neuro |   1.846 |\n",
       "| phecode_331    | Headache                                                          | Neuro |   1.853 |\n",
       "| phecode_342-4  | Monoplegia                                                        | Neuro |   1.917 |\n",
       "| phecode_334    | Disorders of other cranial nerves                                 | Neuro |   1.962 |\n",
       "| phecode_330-3  | Convulsions                                                       | Neuro |   2.000 |\n",
       "| phecode_351    | Disturbances of skin sensation                                    | Neuro |   2.074 |\n",
       "| phecode_348-2  | Myelopathies                                                      | Neuro |   2.080 |\n",
       "| phecode_336-2  | Lesion of median, ulnar, radial nerve                             | Neuro |   2.089 |\n",
       "| phecode_324-3  | Dystonia                                                          | Neuro |   2.106 |\n",
       "| phecode_333-4  | Circadian rhythm sleep disorder                                   | Neuro |   2.111 |\n",
       "| phecode_336-1  | Carpal tunnel syndrome                                            | Neuro |   2.141 |\n",
       "| phecode_331-8  | Headache NOS                                                      | Neuro |   2.168 |\n",
       "| phecode_331-61 | Migraine with aura                                                | Neuro |   2.228 |\n",
       "| phecode_348    | Other diseases of spinal cord                                     | Neuro |   2.250 |\n",
       "| phecode_325-3  | Lack of coordination                                              | Neuro |   2.380 |\n",
       "| phecode_330    | Epilepsy, recurrent seizures, convulsions                         | Neuro |   2.396 |\n",
       "| phecode_353    | Symptoms and signs involving general sensations and perceptions   | Neuro |   2.400 |\n",
       "| phecode_354    | Dizziness and giddiness                                           | Neuro |   2.443 |\n",
       "| phecode_343    | Disorders of autonomic nervous system                             | Neuro |   2.534 |\n",
       "| phecode_352-1  | Anosmia*                                                          | Neuro |   2.534 |\n",
       "| phecode_330-11 | Generalized epilepsy                                              | Neuro |   2.556 |\n",
       "| phecode_330-1  | Epilepsy                                                          | Neuro |   2.616 |\n",
       "| phecode_331-1  | Tension headache                                                  | Neuro |   2.700 |\n",
       "| phecode_324    | Extrapyramidal and movement disorders                             | Neuro |   2.884 |\n",
       "| phecode_342    | Plegia and unspecified paralysis                                  | Neuro |   2.924 |\n",
       "| phecode_347    | Other disorders of the brain and CNS                              | Neuro |   2.929 |\n",
       "| phecode_323    | Systemic atrophies primarily affecting the central nervous system | Neuro |   3.000 |\n",
       "| phecode_334-11 | Trigeminal neuralgia                                              | Neuro |   3.000 |\n",
       "| phecode_344    | Disorders of the circulation of the cerebrospinal fluid           | Neuro |   3.126 |\n",
       "| phecode_324-8  | Restless legs syndrome                                            | Neuro |   3.167 |\n",
       "| phecode_346    | Brain damage and brain death                                      | Neuro |   3.251 |\n",
       "| phecode_349    | Disorder of nervous system                                        | Neuro |   3.380 |\n",
       "| phecode_325-23 | Unsteadiness on feet*                                             | Neuro |   3.385 |\n",
       "| phecode_349-1  | Abnormal findings on diagnostic test of central nervous system    | Neuro |   3.389 |\n",
       "| phecode_331-6  | Migraine                                                          | Neuro |   3.518 |\n",
       "| phecode_350    | Other symptoms involving nervous system                           | Neuro |   3.797 |\n",
       "| phecode_336-55 | Lesion of plantar nerve                                           | Neuro |   3.819 |\n",
       "| phecode_324-4  | Tremor                                                            | Neuro |   3.821 |\n",
       "| phecode_333-1  | Sleep apnea                                                       | Neuro |   3.840 |\n",
       "| phecode_329-6  | Transient global amnesia                                          | Neuro |   4.001 |\n",
       "| phecode_333-11 | Obstructive sleep apnea                                           | Neuro |   4.094 |\n",
       "| phecode_330-12 | Partial epilepsy                                                  | Neuro |   4.251 |\n",
       "| phecode_329-41 | Attention and concentration deficit                               | Neuro |   4.601 |\n",
       "| phecode_353-1  | Hallucinations                                                    | Neuro |   4.626 |\n",
       "| phecode_355    | Coma and other alteration of consciousness                        | Neuro |   4.786 |\n",
       "| phecode_329-1  | Memory loss                                                       | Neuro |   4.888 |\n",
       "| phecode_337    | Polyneuropathies                                                  | Neuro |   5.001 |\n",
       "| phecode_325    | Symptoms and signs related to movement disorders                  | Neuro |   5.095 |\n",
       "| phecode_329    | Symptoms and signs involving cognitive functions and awareness    | Neuro |   5.140 |\n",
       "| phecode_349-13 | Abnormal findings on diagnostic imaging of skull and head         | Neuro |   5.200 |\n",
       "| phecode_355-2  | Alteration of consciousness                                       | Neuro |   5.317 |\n",
       "| phecode_356    | Speech disturbance                                                | Neuro |   5.707 |\n",
       "| phecode_325-2  | Abnormality of gait and mobility                                  | Neuro |   6.376 |\n",
       "| phecode_341    | Cerebral palsy and other paralytic syndromes                      | Neuro |   6.589 |\n",
       "| phecode_341-2  | Hemiplegia and hemiparesis                                        | Neuro |   7.287 |\n",
       "| phecode_324-41 | Essential tremor*                                                 | Neuro |   7.858 |\n",
       "| phecode_356-2  | Aphasia and dysphasia                                             | Neuro |  10.002 |\n",
       "| phecode_356-1  | Dysarthria                                                        | Neuro |  13.002 |\n",
       "| phecode_344-1  | Hydrocephalus                                                     | Neuro |  13.502 |\n",
       "| phecode_350-5  | Repeated falls*                                                   | Neuro |  18.299 |\n",
       "| phecode_328-7  | Vascular dementia                                                 | Neuro |  19.003 |\n",
       "| phecode_324-11 | Parkinson's disease                                               | Neuro |  20.003 |\n",
       "| phecode_324-1  | Parkinsonism                                                      | Neuro |  21.003 |\n",
       "| phecode_328-9  | Dementia NOS                                                      | Neuro |  25.204 |\n",
       "| phecode_327    | Other degenerative diseases of nervous system                     | Neuro |  26.671 |\n",
       "| phecode_329-5  | Mild cognitive impairment, so stated                              | Neuro |  37.506 |\n",
       "| phecode_328    | Dementias and cerebral degeneration                               | Neuro |  41.507 |\n",
       "| phecode_337-8  | Polyneuropathy in diseases classified elsewhere                   | Neuro |  41.507 |\n",
       "| phecode_329-9  | Delirium                                                          | Neuro |  43.507 |\n",
       "| phecode_351-2  | Hypoesthesia of skin*                                             | Neuro |  70.011 |\n",
       "| phecode_328-1  | Alzheimer's disease                                               | Neuro | 133.022 |\n",
       "| phecode_328-8  | Dementia in conditions classified elsewhere                       | Neuro |     Inf |\n",
       "\n"
      ],
      "text/plain": [
       "   endpoint      \n",
       "1  phecode_325-1 \n",
       "2  phecode_336-52\n",
       "3  phecode_331-3 \n",
       "4  phecode_329-42\n",
       "5  phecode_329-4 \n",
       "6  phecode_351-3 \n",
       "7  phecode_351-1 \n",
       "8  phecode_352   \n",
       "9  phecode_333   \n",
       "10 phecode_355-1 \n",
       "11 phecode_352-3 \n",
       "12 phecode_334-21\n",
       "13 phecode_336-5 \n",
       "14 phecode_333-2 \n",
       "15 phecode_335   \n",
       "16 phecode_336   \n",
       "17 phecode_334-1 \n",
       "18 phecode_324-34\n",
       "19 phecode_349-2 \n",
       "20 phecode_334-2 \n",
       "21 phecode_331   \n",
       "22 phecode_342-4 \n",
       "23 phecode_334   \n",
       "24 phecode_330-3 \n",
       "25 phecode_351   \n",
       "26 phecode_348-2 \n",
       "27 phecode_336-2 \n",
       "28 phecode_324-3 \n",
       "29 phecode_333-4 \n",
       "30 phecode_336-1 \n",
       "31 phecode_331-8 \n",
       "32 phecode_331-61\n",
       "33 phecode_348   \n",
       "34 phecode_325-3 \n",
       "35 phecode_330   \n",
       "36 phecode_353   \n",
       "37 phecode_354   \n",
       "38 phecode_343   \n",
       "39 phecode_352-1 \n",
       "40 phecode_330-11\n",
       "41 phecode_330-1 \n",
       "42 phecode_331-1 \n",
       "43 phecode_324   \n",
       "44 phecode_342   \n",
       "45 phecode_347   \n",
       "46 phecode_323   \n",
       "47 phecode_334-11\n",
       "48 phecode_344   \n",
       "49 phecode_324-8 \n",
       "50 phecode_346   \n",
       "51 phecode_349   \n",
       "52 phecode_325-23\n",
       "53 phecode_349-1 \n",
       "54 phecode_331-6 \n",
       "55 phecode_350   \n",
       "56 phecode_336-55\n",
       "57 phecode_324-4 \n",
       "58 phecode_333-1 \n",
       "59 phecode_329-6 \n",
       "60 phecode_333-11\n",
       "61 phecode_330-12\n",
       "62 phecode_329-41\n",
       "63 phecode_353-1 \n",
       "64 phecode_355   \n",
       "65 phecode_329-1 \n",
       "66 phecode_337   \n",
       "67 phecode_325   \n",
       "68 phecode_329   \n",
       "69 phecode_349-13\n",
       "70 phecode_355-2 \n",
       "71 phecode_356   \n",
       "72 phecode_325-2 \n",
       "73 phecode_341   \n",
       "74 phecode_341-2 \n",
       "75 phecode_324-41\n",
       "76 phecode_356-2 \n",
       "77 phecode_356-1 \n",
       "78 phecode_344-1 \n",
       "79 phecode_350-5 \n",
       "80 phecode_328-7 \n",
       "81 phecode_324-11\n",
       "82 phecode_324-1 \n",
       "83 phecode_328-9 \n",
       "84 phecode_327   \n",
       "85 phecode_329-5 \n",
       "86 phecode_328   \n",
       "87 phecode_337-8 \n",
       "88 phecode_329-9 \n",
       "89 phecode_351-2 \n",
       "90 phecode_328-1 \n",
       "91 phecode_328-8 \n",
       "   endpoint_string                                                  \n",
       "1  Abnormal involuntary movements                                   \n",
       "2  Meralgia paresthetica                                            \n",
       "3  Headache syndromes, non migraine                                 \n",
       "4  Cognitive communication deficit                                  \n",
       "5  Other specified cognitive deficit                                \n",
       "6  Paresthesia of skin*                                             \n",
       "7  Anesthesia of skin*                                              \n",
       "8  Disturbances of sensation of smell and taste                     \n",
       "9  Sleep disorders                                                  \n",
       "10 Coma                                                             \n",
       "11 Parageusia*                                                      \n",
       "12 Bell's palsy                                                     \n",
       "13 Mononeuritis of lower limb                                       \n",
       "14 Insomnia                                                         \n",
       "15 Nerve root and plexus disorders                                  \n",
       "16 Mononeuropathies                                                 \n",
       "17 Trigeminal nerve disorders [CN5]                                 \n",
       "18 Torticollis                                                      \n",
       "19 Abnormal results of function studies of peripheral nervous system\n",
       "20 Facial nerve disorders and weakness                              \n",
       "21 Headache                                                         \n",
       "22 Monoplegia                                                       \n",
       "23 Disorders of other cranial nerves                                \n",
       "24 Convulsions                                                      \n",
       "25 Disturbances of skin sensation                                   \n",
       "26 Myelopathies                                                     \n",
       "27 Lesion of median, ulnar, radial nerve                            \n",
       "28 Dystonia                                                         \n",
       "29 Circadian rhythm sleep disorder                                  \n",
       "30 Carpal tunnel syndrome                                           \n",
       "31 Headache NOS                                                     \n",
       "32 Migraine with aura                                               \n",
       "33 Other diseases of spinal cord                                    \n",
       "34 Lack of coordination                                             \n",
       "35 Epilepsy, recurrent seizures, convulsions                        \n",
       "36 Symptoms and signs involving general sensations and perceptions  \n",
       "37 Dizziness and giddiness                                          \n",
       "38 Disorders of autonomic nervous system                            \n",
       "39 Anosmia*                                                         \n",
       "40 Generalized epilepsy                                             \n",
       "41 Epilepsy                                                         \n",
       "42 Tension headache                                                 \n",
       "43 Extrapyramidal and movement disorders                            \n",
       "44 Plegia and unspecified paralysis                                 \n",
       "45 Other disorders of the brain and CNS                             \n",
       "46 Systemic atrophies primarily affecting the central nervous system\n",
       "47 Trigeminal neuralgia                                             \n",
       "48 Disorders of the circulation of the cerebrospinal fluid          \n",
       "49 Restless legs syndrome                                           \n",
       "50 Brain damage and brain death                                     \n",
       "51 Disorder of nervous system                                       \n",
       "52 Unsteadiness on feet*                                            \n",
       "53 Abnormal findings on diagnostic test of central nervous system   \n",
       "54 Migraine                                                         \n",
       "55 Other symptoms involving nervous system                          \n",
       "56 Lesion of plantar nerve                                          \n",
       "57 Tremor                                                           \n",
       "58 Sleep apnea                                                      \n",
       "59 Transient global amnesia                                         \n",
       "60 Obstructive sleep apnea                                          \n",
       "61 Partial epilepsy                                                 \n",
       "62 Attention and concentration deficit                              \n",
       "63 Hallucinations                                                   \n",
       "64 Coma and other alteration of consciousness                       \n",
       "65 Memory loss                                                      \n",
       "66 Polyneuropathies                                                 \n",
       "67 Symptoms and signs related to movement disorders                 \n",
       "68 Symptoms and signs involving cognitive functions and awareness   \n",
       "69 Abnormal findings on diagnostic imaging of skull and head        \n",
       "70 Alteration of consciousness                                      \n",
       "71 Speech disturbance                                               \n",
       "72 Abnormality of gait and mobility                                 \n",
       "73 Cerebral palsy and other paralytic syndromes                     \n",
       "74 Hemiplegia and hemiparesis                                       \n",
       "75 Essential tremor*                                                \n",
       "76 Aphasia and dysphasia                                            \n",
       "77 Dysarthria                                                       \n",
       "78 Hydrocephalus                                                    \n",
       "79 Repeated falls*                                                  \n",
       "80 Vascular dementia                                                \n",
       "81 Parkinson's disease                                              \n",
       "82 Parkinsonism                                                     \n",
       "83 Dementia NOS                                                     \n",
       "84 Other degenerative diseases of nervous system                    \n",
       "85 Mild cognitive impairment, so stated                             \n",
       "86 Dementias and cerebral degeneration                              \n",
       "87 Polyneuropathy in diseases classified elsewhere                  \n",
       "88 Delirium                                                         \n",
       "89 Hypoesthesia of skin*                                            \n",
       "90 Alzheimer's disease                                              \n",
       "91 Dementia in conditions classified elsewhere                      \n",
       "   phecode_category event_rate_ratio\n",
       "1  Neuro              0.850         \n",
       "2  Neuro              0.857         \n",
       "3  Neuro              1.050         \n",
       "4  Neuro              1.111         \n",
       "5  Neuro              1.348         \n",
       "6  Neuro              1.368         \n",
       "7  Neuro              1.376         \n",
       "8  Neuro              1.400         \n",
       "9  Neuro              1.543         \n",
       "10 Neuro              1.650         \n",
       "11 Neuro              1.667         \n",
       "12 Neuro              1.667         \n",
       "13 Neuro              1.667         \n",
       "14 Neuro              1.697         \n",
       "15 Neuro              1.710         \n",
       "16 Neuro              1.723         \n",
       "17 Neuro              1.818         \n",
       "18 Neuro              1.818         \n",
       "19 Neuro              1.846         \n",
       "20 Neuro              1.846         \n",
       "21 Neuro              1.853         \n",
       "22 Neuro              1.917         \n",
       "23 Neuro              1.962         \n",
       "24 Neuro              2.000         \n",
       "25 Neuro              2.074         \n",
       "26 Neuro              2.080         \n",
       "27 Neuro              2.089         \n",
       "28 Neuro              2.106         \n",
       "29 Neuro              2.111         \n",
       "30 Neuro              2.141         \n",
       "31 Neuro              2.168         \n",
       "32 Neuro              2.228         \n",
       "33 Neuro              2.250         \n",
       "34 Neuro              2.380         \n",
       "35 Neuro              2.396         \n",
       "36 Neuro              2.400         \n",
       "37 Neuro              2.443         \n",
       "38 Neuro              2.534         \n",
       "39 Neuro              2.534         \n",
       "40 Neuro              2.556         \n",
       "41 Neuro              2.616         \n",
       "42 Neuro              2.700         \n",
       "43 Neuro              2.884         \n",
       "44 Neuro              2.924         \n",
       "45 Neuro              2.929         \n",
       "46 Neuro              3.000         \n",
       "47 Neuro              3.000         \n",
       "48 Neuro              3.126         \n",
       "49 Neuro              3.167         \n",
       "50 Neuro              3.251         \n",
       "51 Neuro              3.380         \n",
       "52 Neuro              3.385         \n",
       "53 Neuro              3.389         \n",
       "54 Neuro              3.518         \n",
       "55 Neuro              3.797         \n",
       "56 Neuro              3.819         \n",
       "57 Neuro              3.821         \n",
       "58 Neuro              3.840         \n",
       "59 Neuro              4.001         \n",
       "60 Neuro              4.094         \n",
       "61 Neuro              4.251         \n",
       "62 Neuro              4.601         \n",
       "63 Neuro              4.626         \n",
       "64 Neuro              4.786         \n",
       "65 Neuro              4.888         \n",
       "66 Neuro              5.001         \n",
       "67 Neuro              5.095         \n",
       "68 Neuro              5.140         \n",
       "69 Neuro              5.200         \n",
       "70 Neuro              5.317         \n",
       "71 Neuro              5.707         \n",
       "72 Neuro              6.376         \n",
       "73 Neuro              6.589         \n",
       "74 Neuro              7.287         \n",
       "75 Neuro              7.858         \n",
       "76 Neuro             10.002         \n",
       "77 Neuro             13.002         \n",
       "78 Neuro             13.502         \n",
       "79 Neuro             18.299         \n",
       "80 Neuro             19.003         \n",
       "81 Neuro             20.003         \n",
       "82 Neuro             21.003         \n",
       "83 Neuro             25.204         \n",
       "84 Neuro             26.671         \n",
       "85 Neuro             37.506         \n",
       "86 Neuro             41.507         \n",
       "87 Neuro             41.507         \n",
       "88 Neuro             43.507         \n",
       "89 Neuro             70.011         \n",
       "90 Neuro            133.022         \n",
       "91 Neuro                Inf         "
      ]
     },
     "metadata": {},
     "output_type": "display_data"
    }
   ],
   "source": [
    "ratio_df_complete %>% \n",
    "    select(endpoint, endpoint_string, phecode_category, event_rate_ratio) %>%\n",
    "    filter(phecode_category %in% c('Neuro'))\n",
    "#%>% filter(event_rate_ratio <= 1.5) "
   ]
  },
  {
   "cell_type": "code",
   "execution_count": null,
   "metadata": {},
   "outputs": [],
   "source": []
  },
  {
   "cell_type": "code",
   "execution_count": null,
   "metadata": {},
   "outputs": [],
   "source": []
  },
  {
   "cell_type": "code",
   "execution_count": null,
   "metadata": {},
   "outputs": [],
   "source": []
  },
  {
   "cell_type": "code",
   "execution_count": null,
   "metadata": {},
   "outputs": [],
   "source": []
  },
  {
   "cell_type": "code",
   "execution_count": null,
   "metadata": {},
   "outputs": [],
   "source": []
  },
  {
   "cell_type": "code",
   "execution_count": null,
   "metadata": {},
   "outputs": [],
   "source": []
  },
  {
   "cell_type": "code",
   "execution_count": 21,
   "metadata": {
    "execution": {
     "iopub.execute_input": "2022-11-30T10:32:13.380884Z",
     "iopub.status.busy": "2022-11-30T10:32:13.380145Z",
     "iopub.status.idle": "2022-11-30T10:32:13.385528Z",
     "shell.execute_reply": "2022-11-30T10:32:13.384807Z"
    },
    "tags": []
   },
   "outputs": [],
   "source": [
    "#ratio_df_complete %>% filter(event_rate_ratio<10) %>% arrange(desc(ratio_1)) #%>% filter(!str_detect(endpoint, \"-\"))"
   ]
  },
  {
   "cell_type": "code",
   "execution_count": 22,
   "metadata": {
    "execution": {
     "iopub.execute_input": "2022-11-30T10:32:13.635102Z",
     "iopub.status.busy": "2022-11-30T10:32:13.634408Z",
     "iopub.status.idle": "2022-11-30T10:32:13.650717Z",
     "shell.execute_reply": "2022-11-30T10:32:13.645510Z"
    },
    "tags": []
   },
   "outputs": [],
   "source": [
    "base_size = 8\n",
    "title_size = 10\n",
    "facet_size = 8.5\n",
    "geom_text_size=3\n",
    "theme_set(theme_classic(base_size = base_size) + \n",
    "          theme(strip.background = element_blank(), plot.title=element_text(size=title_size, hjust=0), \n",
    "                strip.text.x = element_text(size = facet_size),axis.title=element_text(size=10), axis.text=element_text(size=8, color=\"black\"),\n",
    "                legend.position=\"bottom\", axis.line = element_line(size = 0.2), axis.ticks=element_line(size=0.2)))"
   ]
  },
  {
   "cell_type": "markdown",
   "metadata": {},
   "source": [
    "## Nice overview over all categories"
   ]
  },
  {
   "cell_type": "markdown",
   "metadata": {
    "jp-MarkdownHeadingCollapsed": true,
    "tags": []
   },
   "source": [
    "### crop ratio 0.3"
   ]
  },
  {
   "cell_type": "code",
   "execution_count": 23,
   "metadata": {
    "execution": {
     "iopub.execute_input": "2022-11-30T10:32:14.630864Z",
     "iopub.status.busy": "2022-11-30T10:32:14.630044Z",
     "iopub.status.idle": "2022-11-30T10:32:15.602829Z",
     "shell.execute_reply": "2022-11-30T10:32:15.601863Z"
    },
    "tags": []
   },
   "outputs": [
    {
     "name": "stderr",
     "output_type": "stream",
     "text": [
      "Warning message:\n",
      "“package ‘ggtext’ was built under R version 4.0.3”\n"
     ]
    },
    {
     "data": {
      "image/png": "[encoded data removed]",
      "text/plain": [
       "plot without title"
      ]
     },
     "metadata": {
      "image/png": {
       "height": 400,
       "width": 1600
      }
     },
     "output_type": "display_data"
    }
   ],
   "source": [
    "plot_width = 10; plot_height=2.5; plot_res = 320\n",
    "options(repr.plot.width = plot_width, repr.plot.height = plot_height, repr.plot.res=plot_res)\n",
    "\n",
    "library(ggtext)\n",
    "categories_sorted = (endpoints_md %>% arrange(endpoint) %>% distinct(phecode_category) %>% as_tibble())$phecode_category\n",
    "\n",
    "temp = ratio_df_complete %>%\n",
    "    mutate(phecode_category = factor(phecode_category, levels=categories_sorted)) %>%\n",
    "    mutate(highlight = case_when(endpoint %in% endpoint_selection ~ \"YES\", TRUE ~ \"NO\")) \n",
    "#+    mutate(score = factor(score, levels=scores_plot)) %>%\n",
    "#+    mutate(endpoint = factor(endpoint, levels=endpoints_sorted)) %>%\n",
    "#+    ungroup() %>%\n",
    "#+    pivot_wider(names_from=score, values_from=cindex) %>% \n",
    "#+    mutate(id = row_number()) %>%\n",
    "#+    mutate(delta = `Age+Sex+Retina`-`Age+Sex`) %>%\n",
    "#+    group_by(endpoint, phecode_string, phecode_category) %>%\n",
    "#+    summarise(delta = median(delta)) %>%\n",
    "#+    mutate(pos = case_when(delta>=0 ~ \"pos\", delta < 0 ~\"neg\")) %>%\n",
    "#+    mutate(endpoint = fct_reorder(endpoint, delta)) %>%\n",
    "    # %>%# %>% filter(endpoint %in% endpoint_sample)\n",
    "#+    \n",
    "\n",
    "endpoint_order = (temp %>% arrange(event_rate_ratio))$endpoint\n",
    "\n",
    "temp = temp %>% mutate(endpoint = factor(endpoint, levels=endpoint_order)) %>% ungroup() %>% arrange(endpoint) %>% group_by(phecode_category) %>% mutate(endpoint = row_number()) %>% mutate(log_ratio = log(event_rate_ratio))\n",
    "\n",
    "overview = ggplot(temp) +\n",
    "    geom_ribbon(aes(x=endpoint, ymin=0, ymax=log_ratio), fill=\"black\", alpha=0.2)+\n",
    "    geom_point(aes(x=endpoint, y=log_ratio, color=highlight, size=highlight, alpha=highlight)) +\n",
    "    geom_text(data=temp %>% filter(highlight==\"YES\"), aes(x=endpoint, y=log_ratio+0.5, label=\"↓\", vjust=0), color=\"black\", size=5, alpha=0.7) +\n",
    "    #geom_segment(aes(x=endpoint, xend=endpoint, y=0, yend=delta, color=highlight, size=highlight), alpha=0.5)+#+\n",
    "    labs(x=\"Endpoints\", y=\"Rate Ratio\") +# (Top vs. Bottom 10%)\")+\n",
    "    scale_color_manual(values=c(\"NO\"=\"black\", \"YES\"=\"firebrick\"))+\n",
    "    scale_alpha_manual(values=c(\"NO\"=0.1, \"YES\"=1))+\n",
    "    scale_size_manual(values=c(\"NO\"=0.01, \"YES\"=1))+\n",
    "    #scale_colour_manual(values = c(\"pos\"=\"forestgreen\", \"neg\" = \"firebrick\")) + \n",
    "    #coord_polar() +\n",
    "    coord_cartesian(ylim=c(0, NA), clip = \"off\")+\n",
    "    scale_y_continuous(expand=c(0, 0), breaks=c(log(1), log(10), log(100), log(1000)), labels=c(1, 10, 100, 1000)) +\n",
    "    #scale_y_continuous(, trans='log10')+\n",
    "    scale_x_discrete(expand=expansion(add=20))+\n",
    "    facet_grid(~phecode_category, scales=\"free_x\", space=\"free_x\")+#, switch=TRUE)+\n",
    "    #facet_grid2(~phecode_category, scales = \"free\", independent = \"all\") + \n",
    "    theme(axis.title.x=element_blank(),\n",
    "        axis.text.x=element_blank(),\n",
    "        axis.ticks.x=element_blank(),\n",
    "        panel.grid.major.y=element_line(), \n",
    "         strip.text = element_text(angle=270)) + \n",
    "    theme(legend.position=\"none\") \n",
    "    \n",
    "    #geom_ribbon(aes(x=id, ymin=AgeSex, ymax=`Age+Sex+Retina`), fill=\"red\", alpha=0.2)\n",
    "#geom_violin(size=0.1)\n",
    "overview"
   ]
  },
  {
   "cell_type": "raw",
   "metadata": {
    "tags": []
   },
   "source": [
    "### crop ratio 0.5"
   ]
  },
  {
   "cell_type": "raw",
   "metadata": {
    "tags": []
   },
   "source": [
    "plot_width = 10; plot_height=2.5; plot_res = 320\n",
    "options(repr.plot.width = plot_width, repr.plot.height = plot_height, repr.plot.res=plot_res)\n",
    "\n",
    "library(ggtext)\n",
    "categories_sorted = (endpoints_md %>% arrange(endpoint) %>% distinct(phecode_category) %>% as_tibble())$phecode_category\n",
    "\n",
    "temp = ratio_df_complete %>%\n",
    "    mutate(phecode_category = factor(phecode_category, levels=categories_sorted)) %>%\n",
    "    mutate(highlight = case_when(endpoint %in% endpoint_selection ~ \"YES\", TRUE ~ \"NO\")) \n",
    "#+    mutate(score = factor(score, levels=scores_plot)) %>%\n",
    "#+    mutate(endpoint = factor(endpoint, levels=endpoints_sorted)) %>%\n",
    "#+    ungroup() %>%\n",
    "#+    pivot_wider(names_from=score, values_from=cindex) %>% \n",
    "#+    mutate(id = row_number()) %>%\n",
    "#+    mutate(delta = `Age+Sex+Retina`-`Age+Sex`) %>%\n",
    "#+    group_by(endpoint, phecode_string, phecode_category) %>%\n",
    "#+    summarise(delta = median(delta)) %>%\n",
    "#+    mutate(pos = case_when(delta>=0 ~ \"pos\", delta < 0 ~\"neg\")) %>%\n",
    "#+    mutate(endpoint = fct_reorder(endpoint, delta)) %>%\n",
    "    # %>%# %>% filter(endpoint %in% endpoint_sample)\n",
    "#+    \n",
    "\n",
    "endpoint_order = (temp %>% arrange(ratio))$endpoint\n",
    "\n",
    "temp = temp %>% mutate(endpoint = factor(endpoint, levels=endpoint_order)) %>% ungroup() %>% arrange(endpoint) %>% group_by(phecode_category) %>% mutate(endpoint = row_number()) %>% mutate(log_ratio = log(ratio))\n",
    "\n",
    "overview = ggplot(temp) +\n",
    "    geom_ribbon(aes(x=endpoint, ymin=0, ymax=log_ratio), fill=\"black\", alpha=0.2)+\n",
    "    geom_point(aes(x=endpoint, y=log_ratio, color=highlight, size=highlight, alpha=highlight)) +\n",
    "    geom_text(data=temp %>% filter(highlight==\"YES\"), aes(x=endpoint, y=log_ratio+0.5, label=\"↓\", vjust=0), color=\"black\", size=5, alpha=0.7) +\n",
    "    #geom_segment(aes(x=endpoint, xend=endpoint, y=0, yend=delta, color=highlight, size=highlight), alpha=0.5)+#+\n",
    "    labs(x=\"Endpoints\", y=\"Rate Ratio\") +# (Top vs. Bottom 10%)\")+\n",
    "    scale_color_manual(values=c(\"NO\"=\"black\", \"YES\"=\"firebrick\"))+\n",
    "    scale_alpha_manual(values=c(\"NO\"=0.1, \"YES\"=1))+\n",
    "    scale_size_manual(values=c(\"NO\"=0.01, \"YES\"=1))+\n",
    "    #scale_colour_manual(values = c(\"pos\"=\"forestgreen\", \"neg\" = \"firebrick\")) + \n",
    "    #coord_polar() +\n",
    "    coord_cartesian(ylim=c(0, NA), clip = \"off\")+\n",
    "    scale_y_continuous(expand=c(0, 0), breaks=c(log(1), log(10), log(100), log(1000)), labels=c(1, 10, 100, 1000)) +\n",
    "    #scale_y_continuous(, trans='log10')+\n",
    "    scale_x_discrete(expand=expansion(add=20))+\n",
    "    facet_grid(~phecode_category, scales=\"free_x\", space=\"free_x\")+#, switch=TRUE)+\n",
    "    #facet_grid2(~phecode_category, scales = \"free\", independent = \"all\") + \n",
    "    theme(axis.title.x=element_blank(),\n",
    "        axis.text.x=element_blank(),\n",
    "        axis.ticks.x=element_blank(),\n",
    "        panel.grid.major.y=element_line(), \n",
    "         strip.text = element_text(angle=270)) + \n",
    "    theme(legend.position=\"none\") \n",
    "    \n",
    "    #geom_ribbon(aes(x=id, ymin=AgeSex, ymax=`Age+Sex+Retina`), fill=\"red\", alpha=0.2)\n",
    "#geom_violin(size=0.1)\n",
    "overview"
   ]
  },
  {
   "cell_type": "markdown",
   "metadata": {
    "jp-MarkdownHeadingCollapsed": true,
    "tags": []
   },
   "source": [
    "### crop ratio 0.8"
   ]
  },
  {
   "cell_type": "raw",
   "metadata": {
    "tags": []
   },
   "source": [
    "plot_width = 10; plot_height=2.5; plot_res = 320\n",
    "options(repr.plot.width = plot_width, repr.plot.height = plot_height, repr.plot.res=plot_res)\n",
    "\n",
    "library(ggtext)\n",
    "categories_sorted = (endpoints_md %>% arrange(endpoint) %>% distinct(phecode_category) %>% as_tibble())$phecode_category\n",
    "\n",
    "temp = ratio_df_complete %>%\n",
    "    mutate(phecode_category = factor(phecode_category, levels=categories_sorted)) %>%\n",
    "    mutate(highlight = case_when(endpoint %in% endpoint_selection ~ \"YES\", TRUE ~ \"NO\")) \n",
    "#+    mutate(score = factor(score, levels=scores_plot)) %>%\n",
    "#+    mutate(endpoint = factor(endpoint, levels=endpoints_sorted)) %>%\n",
    "#+    ungroup() %>%\n",
    "#+    pivot_wider(names_from=score, values_from=cindex) %>% \n",
    "#+    mutate(id = row_number()) %>%\n",
    "#+    mutate(delta = `Age+Sex+Retina`-`Age+Sex`) %>%\n",
    "#+    group_by(endpoint, phecode_string, phecode_category) %>%\n",
    "#+    summarise(delta = median(delta)) %>%\n",
    "#+    mutate(pos = case_when(delta>=0 ~ \"pos\", delta < 0 ~\"neg\")) %>%\n",
    "#+    mutate(endpoint = fct_reorder(endpoint, delta)) %>%\n",
    "    # %>%# %>% filter(endpoint %in% endpoint_sample)\n",
    "#+    \n",
    "\n",
    "endpoint_order = (temp %>% arrange(ratio))$endpoint\n",
    "\n",
    "temp = temp %>% mutate(endpoint = factor(endpoint, levels=endpoint_order)) %>% ungroup() %>% arrange(endpoint) %>% group_by(phecode_category) %>% mutate(endpoint = row_number()) %>% mutate(log_ratio = log(ratio))\n",
    "\n",
    "overview = ggplot(temp) +\n",
    "    geom_ribbon(aes(x=endpoint, ymin=0, ymax=log_ratio), fill=\"black\", alpha=0.2)+\n",
    "    geom_point(aes(x=endpoint, y=log_ratio, color=highlight, size=highlight, alpha=highlight)) +\n",
    "    geom_text(data=temp %>% filter(highlight==\"YES\"), aes(x=endpoint, y=log_ratio+0.5, label=\"↓\", vjust=0), color=\"black\", size=5, alpha=0.7) +\n",
    "    #geom_segment(aes(x=endpoint, xend=endpoint, y=0, yend=delta, color=highlight, size=highlight), alpha=0.5)+#+\n",
    "    labs(x=\"Endpoints\", y=\"Rate Ratio\") +# (Top vs. Bottom 10%)\")+\n",
    "    scale_color_manual(values=c(\"NO\"=\"black\", \"YES\"=\"firebrick\"))+\n",
    "    scale_alpha_manual(values=c(\"NO\"=0.1, \"YES\"=1))+\n",
    "    scale_size_manual(values=c(\"NO\"=0.01, \"YES\"=1))+\n",
    "    #scale_colour_manual(values = c(\"pos\"=\"forestgreen\", \"neg\" = \"firebrick\")) + \n",
    "    #coord_polar() +\n",
    "    coord_cartesian(ylim=c(0, NA), clip = \"off\")+\n",
    "    scale_y_continuous(expand=c(0, 0), breaks=c(log(1), log(10), log(100), log(1000)), labels=c(1, 10, 100, 1000)) +\n",
    "    #scale_y_continuous(, trans='log10')+\n",
    "    scale_x_discrete(expand=expansion(add=20))+\n",
    "    facet_grid(~phecode_category, scales=\"free_x\", space=\"free_x\")+#, switch=TRUE)+\n",
    "    #facet_grid2(~phecode_category, scales = \"free\", independent = \"all\") + \n",
    "    theme(axis.title.x=element_blank(),\n",
    "        axis.text.x=element_blank(),\n",
    "        axis.ticks.x=element_blank(),\n",
    "        panel.grid.major.y=element_line(), \n",
    "         strip.text = element_text(angle=270)) + \n",
    "    theme(legend.position=\"none\") \n",
    "    \n",
    "    #geom_ribbon(aes(x=id, ymin=AgeSex, ymax=`Age+Sex+Retina`), fill=\"red\", alpha=0.2)\n",
    "#geom_violin(size=0.1)\n",
    "overview"
   ]
  },
  {
   "cell_type": "markdown",
   "metadata": {
    "tags": []
   },
   "source": [
    "### crop ratio 0.5 with only positive ratios (negative set to 0)"
   ]
  },
  {
   "cell_type": "code",
   "execution_count": 24,
   "metadata": {
    "execution": {
     "iopub.execute_input": "2022-11-30T10:32:19.037864Z",
     "iopub.status.busy": "2022-11-30T10:32:19.037079Z",
     "iopub.status.idle": "2022-11-30T10:32:19.609841Z",
     "shell.execute_reply": "2022-11-30T10:32:19.609018Z"
    },
    "tags": []
   },
   "outputs": [
    {
     "data": {
      "image/png": "[encoded data removed]",
      "text/plain": [
       "plot without title"
      ]
     },
     "metadata": {
      "image/png": {
       "height": 400,
       "width": 1600
      }
     },
     "output_type": "display_data"
    }
   ],
   "source": [
    "plot_width = 10; plot_height=2.5; plot_res = 320\n",
    "options(repr.plot.width = plot_width, repr.plot.height = plot_height, repr.plot.res=plot_res)\n",
    "\n",
    "library(ggtext)\n",
    "categories_sorted = (endpoints_md %>% arrange(endpoint) %>% distinct(phecode_category) %>% as_tibble())$phecode_category\n",
    "\n",
    "temp_pos = ratio_df_complete %>%\n",
    "    mutate(phecode_category = factor(phecode_category, levels=categories_sorted)) %>%\n",
    "    mutate(highlight = case_when(endpoint %in% endpoint_selection ~ \"YES\", TRUE ~ \"NO\")) \n",
    "#+    mutate(score = factor(score, levels=scores_plot)) %>%\n",
    "#+    mutate(endpoint = factor(endpoint, levels=endpoints_sorted)) %>%\n",
    "#+    ungroup() %>%\n",
    "#+    pivot_wider(names_from=score, values_from=cindex) %>% \n",
    "#+    mutate(id = row_number()) %>%\n",
    "#+    mutate(delta = `Age+Sex+Retina`-`Age+Sex`) %>%\n",
    "#+    group_by(endpoint, phecode_string, phecode_category) %>%\n",
    "#+    summarise(delta = median(delta)) %>%\n",
    "#+    mutate(pos = case_when(delta>=0 ~ \"pos\", delta < 0 ~\"neg\")) %>%\n",
    "#+    mutate(endpoint = fct_reorder(endpoint, delta)) %>%\n",
    "    # %>%# %>% filter(endpoint %in% endpoint_sample)\n",
    "#+    \n",
    "\n",
    "endpoint_order = (temp_pos %>% arrange(event_rate_ratio))$endpoint\n",
    "\n",
    "#index <- temp_pos$ratio < 0\n",
    "#temp_pos$ratio[index] <- 0.\n",
    "\n",
    "\n",
    "temp_pos = temp_pos %>% mutate(endpoint = factor(endpoint, levels=endpoint_order)) %>% ungroup() %>% arrange(endpoint) %>% group_by(phecode_category) %>% mutate(endpoint = row_number()) %>% mutate(log_ratio = log(event_rate_ratio))\n",
    "\n",
    "index <- temp_pos$log_ratio < 0\n",
    "temp_pos$log_ratio[index] <- 0.\n",
    "\n",
    "overview = ggplot(temp_pos) +\n",
    "    geom_ribbon(aes(x=endpoint, ymin=0, ymax=log_ratio), fill=\"black\", alpha=0.2)+\n",
    "    geom_point(aes(x=endpoint, y=log_ratio, color=highlight, size=highlight, alpha=highlight)) +\n",
    "    geom_text(data=temp_pos %>% filter(highlight==\"YES\"), aes(x=endpoint, y=log_ratio+0.5, label=\"↓\", vjust=0), color=\"black\", size=5, alpha=0.7) +\n",
    "    #geom_segment(aes(x=endpoint, xend=endpoint, y=0, yend=delta, color=highlight, size=highlight), alpha=0.5)+#+\n",
    "    labs(x=\"Endpoints\", y=\"Rate Ratio\") +# (Top vs. Bottom 10%)\")+\n",
    "    scale_color_manual(values=c(\"NO\"=\"black\", \"YES\"=\"firebrick\"))+\n",
    "    scale_alpha_manual(values=c(\"NO\"=0.1, \"YES\"=1))+\n",
    "    scale_size_manual(values=c(\"NO\"=0.01, \"YES\"=1))+\n",
    "    #scale_colour_manual(values = c(\"pos\"=\"forestgreen\", \"neg\" = \"firebrick\")) + \n",
    "    #coord_polar() +\n",
    "    coord_cartesian(ylim=c(0, log(1000000)), clip = \"off\")+\n",
    "    scale_y_continuous(expand=c(0, 0), breaks=c(log(1), log(10), log(100), log(1000)), labels=c(1, 10, 100, 1000)) +\n",
    "    #scale_y_continuous(, trans='log10')+\n",
    "    scale_x_discrete(expand=expansion(add=20))+\n",
    "    facet_grid(~phecode_category, scales=\"free_x\", space=\"free_x\")+#, switch=TRUE)+\n",
    "    #facet_grid2(~phecode_category, scales = \"free\", independent = \"all\") + \n",
    "    theme(axis.title.x=element_blank(),\n",
    "        axis.text.x=element_blank(),\n",
    "        axis.ticks.x=element_blank(),\n",
    "        panel.grid.major.y=element_line(), \n",
    "         strip.text = element_text(angle=270)) + \n",
    "    theme(legend.position=\"none\") \n",
    "    \n",
    "    #geom_ribbon(aes(x=id, ymin=AgeSex, ymax=`Age+Sex+Retina`), fill=\"red\", alpha=0.2)\n",
    "#geom_violin(size=0.1)\n",
    "overview"
   ]
  },
  {
   "cell_type": "code",
   "execution_count": 25,
   "metadata": {
    "execution": {
     "iopub.execute_input": "2022-11-30T10:32:38.510379Z",
     "iopub.status.busy": "2022-11-30T10:32:38.509577Z",
     "iopub.status.idle": "2022-11-30T10:32:39.031192Z",
     "shell.execute_reply": "2022-11-30T10:32:39.030390Z"
    },
    "tags": []
   },
   "outputs": [
    {
     "name": "stderr",
     "output_type": "stream",
     "text": [
      "Warning message in grid.Call.graphics(C_text, as.graphicsAnnot(x$label), x$x, x$y, :\n",
      "“conversion failure on '↓' in 'mbcsToSbcs': dot substituted for <e2>”\n",
      "Warning message in grid.Call.graphics(C_text, as.graphicsAnnot(x$label), x$x, x$y, :\n",
      "“conversion failure on '↓' in 'mbcsToSbcs': dot substituted for <86>”\n",
      "Warning message in grid.Call.graphics(C_text, as.graphicsAnnot(x$label), x$x, x$y, :\n",
      "“conversion failure on '↓' in 'mbcsToSbcs': dot substituted for <93>”\n",
      "Warning message in grid.Call.graphics(C_text, as.graphicsAnnot(x$label), x$x, x$y, :\n",
      "“conversion failure on '↓' in 'mbcsToSbcs': dot substituted for <e2>”\n",
      "Warning message in grid.Call.graphics(C_text, as.graphicsAnnot(x$label), x$x, x$y, :\n",
      "“conversion failure on '↓' in 'mbcsToSbcs': dot substituted for <86>”\n",
      "Warning message in grid.Call.graphics(C_text, as.graphicsAnnot(x$label), x$x, x$y, :\n",
      "“conversion failure on '↓' in 'mbcsToSbcs': dot substituted for <93>”\n",
      "Warning message in grid.Call.graphics(C_text, as.graphicsAnnot(x$label), x$x, x$y, :\n",
      "“conversion failure on '↓' in 'mbcsToSbcs': dot substituted for <e2>”\n",
      "Warning message in grid.Call.graphics(C_text, as.graphicsAnnot(x$label), x$x, x$y, :\n",
      "“conversion failure on '↓' in 'mbcsToSbcs': dot substituted for <86>”\n",
      "Warning message in grid.Call.graphics(C_text, as.graphicsAnnot(x$label), x$x, x$y, :\n",
      "“conversion failure on '↓' in 'mbcsToSbcs': dot substituted for <93>”\n",
      "Warning message in grid.Call.graphics(C_text, as.graphicsAnnot(x$label), x$x, x$y, :\n",
      "“conversion failure on '↓' in 'mbcsToSbcs': dot substituted for <e2>”\n",
      "Warning message in grid.Call.graphics(C_text, as.graphicsAnnot(x$label), x$x, x$y, :\n",
      "“conversion failure on '↓' in 'mbcsToSbcs': dot substituted for <86>”\n",
      "Warning message in grid.Call.graphics(C_text, as.graphicsAnnot(x$label), x$x, x$y, :\n",
      "“conversion failure on '↓' in 'mbcsToSbcs': dot substituted for <93>”\n",
      "Warning message in grid.Call.graphics(C_text, as.graphicsAnnot(x$label), x$x, x$y, :\n",
      "“conversion failure on '↓' in 'mbcsToSbcs': dot substituted for <e2>”\n",
      "Warning message in grid.Call.graphics(C_text, as.graphicsAnnot(x$label), x$x, x$y, :\n",
      "“conversion failure on '↓' in 'mbcsToSbcs': dot substituted for <86>”\n",
      "Warning message in grid.Call.graphics(C_text, as.graphicsAnnot(x$label), x$x, x$y, :\n",
      "“conversion failure on '↓' in 'mbcsToSbcs': dot substituted for <93>”\n",
      "Warning message in grid.Call.graphics(C_text, as.graphicsAnnot(x$label), x$x, x$y, :\n",
      "“conversion failure on '↓' in 'mbcsToSbcs': dot substituted for <e2>”\n",
      "Warning message in grid.Call.graphics(C_text, as.graphicsAnnot(x$label), x$x, x$y, :\n",
      "“conversion failure on '↓' in 'mbcsToSbcs': dot substituted for <86>”\n",
      "Warning message in grid.Call.graphics(C_text, as.graphicsAnnot(x$label), x$x, x$y, :\n",
      "“conversion failure on '↓' in 'mbcsToSbcs': dot substituted for <93>”\n",
      "Warning message in grid.Call.graphics(C_text, as.graphicsAnnot(x$label), x$x, x$y, :\n",
      "“conversion failure on '↓' in 'mbcsToSbcs': dot substituted for <e2>”\n",
      "Warning message in grid.Call.graphics(C_text, as.graphicsAnnot(x$label), x$x, x$y, :\n",
      "“conversion failure on '↓' in 'mbcsToSbcs': dot substituted for <86>”\n",
      "Warning message in grid.Call.graphics(C_text, as.graphicsAnnot(x$label), x$x, x$y, :\n",
      "“conversion failure on '↓' in 'mbcsToSbcs': dot substituted for <93>”\n",
      "Warning message in grid.Call.graphics(C_text, as.graphicsAnnot(x$label), x$x, x$y, :\n",
      "“conversion failure on '↓' in 'mbcsToSbcs': dot substituted for <e2>”\n",
      "Warning message in grid.Call.graphics(C_text, as.graphicsAnnot(x$label), x$x, x$y, :\n",
      "“conversion failure on '↓' in 'mbcsToSbcs': dot substituted for <86>”\n",
      "Warning message in grid.Call.graphics(C_text, as.graphicsAnnot(x$label), x$x, x$y, :\n",
      "“conversion failure on '↓' in 'mbcsToSbcs': dot substituted for <93>”\n",
      "Warning message in grid.Call.graphics(C_text, as.graphicsAnnot(x$label), x$x, x$y, :\n",
      "“conversion failure on '↓' in 'mbcsToSbcs': dot substituted for <e2>”\n",
      "Warning message in grid.Call.graphics(C_text, as.graphicsAnnot(x$label), x$x, x$y, :\n",
      "“conversion failure on '↓' in 'mbcsToSbcs': dot substituted for <86>”\n",
      "Warning message in grid.Call.graphics(C_text, as.graphicsAnnot(x$label), x$x, x$y, :\n",
      "“conversion failure on '↓' in 'mbcsToSbcs': dot substituted for <93>”\n",
      "Warning message in grid.Call.graphics(C_text, as.graphicsAnnot(x$label), x$x, x$y, :\n",
      "“conversion failure on '↓' in 'mbcsToSbcs': dot substituted for <e2>”\n",
      "Warning message in grid.Call.graphics(C_text, as.graphicsAnnot(x$label), x$x, x$y, :\n",
      "“conversion failure on '↓' in 'mbcsToSbcs': dot substituted for <86>”\n",
      "Warning message in grid.Call.graphics(C_text, as.graphicsAnnot(x$label), x$x, x$y, :\n",
      "“conversion failure on '↓' in 'mbcsToSbcs': dot substituted for <93>”\n",
      "Warning message in grid.Call.graphics(C_text, as.graphicsAnnot(x$label), x$x, x$y, :\n",
      "“conversion failure on '↓' in 'mbcsToSbcs': dot substituted for <e2>”\n",
      "Warning message in grid.Call.graphics(C_text, as.graphicsAnnot(x$label), x$x, x$y, :\n",
      "“conversion failure on '↓' in 'mbcsToSbcs': dot substituted for <86>”\n",
      "Warning message in grid.Call.graphics(C_text, as.graphicsAnnot(x$label), x$x, x$y, :\n",
      "“conversion failure on '↓' in 'mbcsToSbcs': dot substituted for <93>”\n",
      "Warning message in grid.Call.graphics(C_text, as.graphicsAnnot(x$label), x$x, x$y, :\n",
      "“conversion failure on '↓' in 'mbcsToSbcs': dot substituted for <e2>”\n",
      "Warning message in grid.Call.graphics(C_text, as.graphicsAnnot(x$label), x$x, x$y, :\n",
      "“conversion failure on '↓' in 'mbcsToSbcs': dot substituted for <86>”\n",
      "Warning message in grid.Call.graphics(C_text, as.graphicsAnnot(x$label), x$x, x$y, :\n",
      "“conversion failure on '↓' in 'mbcsToSbcs': dot substituted for <93>”\n",
      "Warning message in grid.Call.graphics(C_text, as.graphicsAnnot(x$label), x$x, x$y, :\n",
      "“conversion failure on '↓' in 'mbcsToSbcs': dot substituted for <e2>”\n",
      "Warning message in grid.Call.graphics(C_text, as.graphicsAnnot(x$label), x$x, x$y, :\n",
      "“conversion failure on '↓' in 'mbcsToSbcs': dot substituted for <86>”\n",
      "Warning message in grid.Call.graphics(C_text, as.graphicsAnnot(x$label), x$x, x$y, :\n",
      "“conversion failure on '↓' in 'mbcsToSbcs': dot substituted for <93>”\n",
      "Warning message in grid.Call.graphics(C_text, as.graphicsAnnot(x$label), x$x, x$y, :\n",
      "“conversion failure on '↓' in 'mbcsToSbcs': dot substituted for <e2>”\n",
      "Warning message in grid.Call.graphics(C_text, as.graphicsAnnot(x$label), x$x, x$y, :\n",
      "“conversion failure on '↓' in 'mbcsToSbcs': dot substituted for <86>”\n",
      "Warning message in grid.Call.graphics(C_text, as.graphicsAnnot(x$label), x$x, x$y, :\n",
      "“conversion failure on '↓' in 'mbcsToSbcs': dot substituted for <93>”\n",
      "Warning message in grid.Call.graphics(C_text, as.graphicsAnnot(x$label), x$x, x$y, :\n",
      "“conversion failure on '↓' in 'mbcsToSbcs': dot substituted for <e2>”\n",
      "Warning message in grid.Call.graphics(C_text, as.graphicsAnnot(x$label), x$x, x$y, :\n",
      "“conversion failure on '↓' in 'mbcsToSbcs': dot substituted for <86>”\n",
      "Warning message in grid.Call.graphics(C_text, as.graphicsAnnot(x$label), x$x, x$y, :\n",
      "“conversion failure on '↓' in 'mbcsToSbcs': dot substituted for <93>”\n",
      "Warning message in grid.Call.graphics(C_text, as.graphicsAnnot(x$label), x$x, x$y, :\n",
      "“conversion failure on '↓' in 'mbcsToSbcs': dot substituted for <e2>”\n",
      "Warning message in grid.Call.graphics(C_text, as.graphicsAnnot(x$label), x$x, x$y, :\n",
      "“conversion failure on '↓' in 'mbcsToSbcs': dot substituted for <86>”\n",
      "Warning message in grid.Call.graphics(C_text, as.graphicsAnnot(x$label), x$x, x$y, :\n",
      "“conversion failure on '↓' in 'mbcsToSbcs': dot substituted for <93>”\n",
      "Warning message in grid.Call.graphics(C_text, as.graphicsAnnot(x$label), x$x, x$y, :\n",
      "“conversion failure on '↓' in 'mbcsToSbcs': dot substituted for <e2>”\n",
      "Warning message in grid.Call.graphics(C_text, as.graphicsAnnot(x$label), x$x, x$y, :\n",
      "“conversion failure on '↓' in 'mbcsToSbcs': dot substituted for <86>”\n",
      "Warning message in grid.Call.graphics(C_text, as.graphicsAnnot(x$label), x$x, x$y, :\n",
      "“conversion failure on '↓' in 'mbcsToSbcs': dot substituted for <93>”\n",
      "Warning message in grid.Call.graphics(C_text, as.graphicsAnnot(x$label), x$x, x$y, :\n",
      "“conversion failure on '↓' in 'mbcsToSbcs': dot substituted for <e2>”\n",
      "Warning message in grid.Call.graphics(C_text, as.graphicsAnnot(x$label), x$x, x$y, :\n",
      "“conversion failure on '↓' in 'mbcsToSbcs': dot substituted for <86>”\n",
      "Warning message in grid.Call.graphics(C_text, as.graphicsAnnot(x$label), x$x, x$y, :\n",
      "“conversion failure on '↓' in 'mbcsToSbcs': dot substituted for <93>”\n",
      "Warning message in grid.Call.graphics(C_text, as.graphicsAnnot(x$label), x$x, x$y, :\n",
      "“conversion failure on '↓' in 'mbcsToSbcs': dot substituted for <e2>”\n",
      "Warning message in grid.Call.graphics(C_text, as.graphicsAnnot(x$label), x$x, x$y, :\n",
      "“conversion failure on '↓' in 'mbcsToSbcs': dot substituted for <86>”\n",
      "Warning message in grid.Call.graphics(C_text, as.graphicsAnnot(x$label), x$x, x$y, :\n",
      "“conversion failure on '↓' in 'mbcsToSbcs': dot substituted for <93>”\n",
      "Warning message in grid.Call.graphics(C_text, as.graphicsAnnot(x$label), x$x, x$y, :\n",
      "“conversion failure on '↓' in 'mbcsToSbcs': dot substituted for <e2>”\n",
      "Warning message in grid.Call.graphics(C_text, as.graphicsAnnot(x$label), x$x, x$y, :\n",
      "“conversion failure on '↓' in 'mbcsToSbcs': dot substituted for <86>”\n",
      "Warning message in grid.Call.graphics(C_text, as.graphicsAnnot(x$label), x$x, x$y, :\n",
      "“conversion failure on '↓' in 'mbcsToSbcs': dot substituted for <93>”\n",
      "Warning message in grid.Call.graphics(C_text, as.graphicsAnnot(x$label), x$x, x$y, :\n",
      "“conversion failure on '↓' in 'mbcsToSbcs': dot substituted for <e2>”\n",
      "Warning message in grid.Call.graphics(C_text, as.graphicsAnnot(x$label), x$x, x$y, :\n",
      "“conversion failure on '↓' in 'mbcsToSbcs': dot substituted for <86>”\n",
      "Warning message in grid.Call.graphics(C_text, as.graphicsAnnot(x$label), x$x, x$y, :\n",
      "“conversion failure on '↓' in 'mbcsToSbcs': dot substituted for <93>”\n",
      "Warning message in grid.Call.graphics(C_text, as.graphicsAnnot(x$label), x$x, x$y, :\n",
      "“conversion failure on '↓' in 'mbcsToSbcs': dot substituted for <e2>”\n",
      "Warning message in grid.Call.graphics(C_text, as.graphicsAnnot(x$label), x$x, x$y, :\n",
      "“conversion failure on '↓' in 'mbcsToSbcs': dot substituted for <86>”\n",
      "Warning message in grid.Call.graphics(C_text, as.graphicsAnnot(x$label), x$x, x$y, :\n",
      "“conversion failure on '↓' in 'mbcsToSbcs': dot substituted for <93>”\n",
      "Warning message in grid.Call.graphics(C_text, as.graphicsAnnot(x$label), x$x, x$y, :\n",
      "“conversion failure on '↓' in 'mbcsToSbcs': dot substituted for <e2>”\n",
      "Warning message in grid.Call.graphics(C_text, as.graphicsAnnot(x$label), x$x, x$y, :\n",
      "“conversion failure on '↓' in 'mbcsToSbcs': dot substituted for <86>”\n",
      "Warning message in grid.Call.graphics(C_text, as.graphicsAnnot(x$label), x$x, x$y, :\n",
      "“conversion failure on '↓' in 'mbcsToSbcs': dot substituted for <93>”\n",
      "Warning message in grid.Call.graphics(C_text, as.graphicsAnnot(x$label), x$x, x$y, :\n",
      "“conversion failure on '↓' in 'mbcsToSbcs': dot substituted for <e2>”\n",
      "Warning message in grid.Call.graphics(C_text, as.graphicsAnnot(x$label), x$x, x$y, :\n",
      "“conversion failure on '↓' in 'mbcsToSbcs': dot substituted for <86>”\n",
      "Warning message in grid.Call.graphics(C_text, as.graphicsAnnot(x$label), x$x, x$y, :\n",
      "“conversion failure on '↓' in 'mbcsToSbcs': dot substituted for <93>”\n",
      "Warning message in grid.Call.graphics(C_text, as.graphicsAnnot(x$label), x$x, x$y, :\n",
      "“conversion failure on '↓' in 'mbcsToSbcs': dot substituted for <e2>”\n",
      "Warning message in grid.Call.graphics(C_text, as.graphicsAnnot(x$label), x$x, x$y, :\n",
      "“conversion failure on '↓' in 'mbcsToSbcs': dot substituted for <86>”\n",
      "Warning message in grid.Call.graphics(C_text, as.graphicsAnnot(x$label), x$x, x$y, :\n",
      "“conversion failure on '↓' in 'mbcsToSbcs': dot substituted for <93>”\n",
      "Warning message in grid.Call.graphics(C_text, as.graphicsAnnot(x$label), x$x, x$y, :\n",
      "“conversion failure on '↓' in 'mbcsToSbcs': dot substituted for <e2>”\n",
      "Warning message in grid.Call.graphics(C_text, as.graphicsAnnot(x$label), x$x, x$y, :\n",
      "“conversion failure on '↓' in 'mbcsToSbcs': dot substituted for <86>”\n",
      "Warning message in grid.Call.graphics(C_text, as.graphicsAnnot(x$label), x$x, x$y, :\n",
      "“conversion failure on '↓' in 'mbcsToSbcs': dot substituted for <93>”\n",
      "Warning message in grid.Call.graphics(C_text, as.graphicsAnnot(x$label), x$x, x$y, :\n",
      "“conversion failure on '↓' in 'mbcsToSbcs': dot substituted for <e2>”\n",
      "Warning message in grid.Call.graphics(C_text, as.graphicsAnnot(x$label), x$x, x$y, :\n",
      "“conversion failure on '↓' in 'mbcsToSbcs': dot substituted for <86>”\n",
      "Warning message in grid.Call.graphics(C_text, as.graphicsAnnot(x$label), x$x, x$y, :\n",
      "“conversion failure on '↓' in 'mbcsToSbcs': dot substituted for <93>”\n",
      "Warning message in grid.Call.graphics(C_text, as.graphicsAnnot(x$label), x$x, x$y, :\n",
      "“conversion failure on '↓' in 'mbcsToSbcs': dot substituted for <e2>”\n",
      "Warning message in grid.Call.graphics(C_text, as.graphicsAnnot(x$label), x$x, x$y, :\n",
      "“conversion failure on '↓' in 'mbcsToSbcs': dot substituted for <86>”\n",
      "Warning message in grid.Call.graphics(C_text, as.graphicsAnnot(x$label), x$x, x$y, :\n",
      "“conversion failure on '↓' in 'mbcsToSbcs': dot substituted for <93>”\n",
      "Warning message in grid.Call.graphics(C_text, as.graphicsAnnot(x$label), x$x, x$y, :\n",
      "“conversion failure on '↓' in 'mbcsToSbcs': dot substituted for <e2>”\n",
      "Warning message in grid.Call.graphics(C_text, as.graphicsAnnot(x$label), x$x, x$y, :\n",
      "“conversion failure on '↓' in 'mbcsToSbcs': dot substituted for <86>”\n",
      "Warning message in grid.Call.graphics(C_text, as.graphicsAnnot(x$label), x$x, x$y, :\n",
      "“conversion failure on '↓' in 'mbcsToSbcs': dot substituted for <93>”\n",
      "Warning message in grid.Call.graphics(C_text, as.graphicsAnnot(x$label), x$x, x$y, :\n",
      "“conversion failure on '↓' in 'mbcsToSbcs': dot substituted for <e2>”\n",
      "Warning message in grid.Call.graphics(C_text, as.graphicsAnnot(x$label), x$x, x$y, :\n",
      "“conversion failure on '↓' in 'mbcsToSbcs': dot substituted for <86>”\n",
      "Warning message in grid.Call.graphics(C_text, as.graphicsAnnot(x$label), x$x, x$y, :\n",
      "“conversion failure on '↓' in 'mbcsToSbcs': dot substituted for <93>”\n",
      "Warning message in grid.Call.graphics(C_text, as.graphicsAnnot(x$label), x$x, x$y, :\n",
      "“conversion failure on '↓' in 'mbcsToSbcs': dot substituted for <e2>”\n",
      "Warning message in grid.Call.graphics(C_text, as.graphicsAnnot(x$label), x$x, x$y, :\n",
      "“conversion failure on '↓' in 'mbcsToSbcs': dot substituted for <86>”\n",
      "Warning message in grid.Call.graphics(C_text, as.graphicsAnnot(x$label), x$x, x$y, :\n",
      "“conversion failure on '↓' in 'mbcsToSbcs': dot substituted for <93>”\n",
      "Warning message in grid.Call.graphics(C_text, as.graphicsAnnot(x$label), x$x, x$y, :\n",
      "“conversion failure on '↓' in 'mbcsToSbcs': dot substituted for <e2>”\n",
      "Warning message in grid.Call.graphics(C_text, as.graphicsAnnot(x$label), x$x, x$y, :\n",
      "“conversion failure on '↓' in 'mbcsToSbcs': dot substituted for <86>”\n",
      "Warning message in grid.Call.graphics(C_text, as.graphicsAnnot(x$label), x$x, x$y, :\n",
      "“conversion failure on '↓' in 'mbcsToSbcs': dot substituted for <93>”\n",
      "Warning message in grid.Call.graphics(C_text, as.graphicsAnnot(x$label), x$x, x$y, :\n",
      "“conversion failure on '↓' in 'mbcsToSbcs': dot substituted for <e2>”\n",
      "Warning message in grid.Call.graphics(C_text, as.graphicsAnnot(x$label), x$x, x$y, :\n",
      "“conversion failure on '↓' in 'mbcsToSbcs': dot substituted for <86>”\n",
      "Warning message in grid.Call.graphics(C_text, as.graphicsAnnot(x$label), x$x, x$y, :\n",
      "“conversion failure on '↓' in 'mbcsToSbcs': dot substituted for <93>”\n",
      "Warning message in grid.Call.graphics(C_text, as.graphicsAnnot(x$label), x$x, x$y, :\n",
      "“conversion failure on '↓' in 'mbcsToSbcs': dot substituted for <e2>”\n",
      "Warning message in grid.Call.graphics(C_text, as.graphicsAnnot(x$label), x$x, x$y, :\n",
      "“conversion failure on '↓' in 'mbcsToSbcs': dot substituted for <86>”\n",
      "Warning message in grid.Call.graphics(C_text, as.graphicsAnnot(x$label), x$x, x$y, :\n",
      "“conversion failure on '↓' in 'mbcsToSbcs': dot substituted for <93>”\n",
      "Warning message in grid.Call.graphics(C_text, as.graphicsAnnot(x$label), x$x, x$y, :\n",
      "“conversion failure on '↓' in 'mbcsToSbcs': dot substituted for <e2>”\n",
      "Warning message in grid.Call.graphics(C_text, as.graphicsAnnot(x$label), x$x, x$y, :\n",
      "“conversion failure on '↓' in 'mbcsToSbcs': dot substituted for <86>”\n",
      "Warning message in grid.Call.graphics(C_text, as.graphicsAnnot(x$label), x$x, x$y, :\n",
      "“conversion failure on '↓' in 'mbcsToSbcs': dot substituted for <93>”\n",
      "Warning message in grid.Call.graphics(C_text, as.graphicsAnnot(x$label), x$x, x$y, :\n",
      "“conversion failure on '↓' in 'mbcsToSbcs': dot substituted for <e2>”\n",
      "Warning message in grid.Call.graphics(C_text, as.graphicsAnnot(x$label), x$x, x$y, :\n",
      "“conversion failure on '↓' in 'mbcsToSbcs': dot substituted for <86>”\n",
      "Warning message in grid.Call.graphics(C_text, as.graphicsAnnot(x$label), x$x, x$y, :\n",
      "“conversion failure on '↓' in 'mbcsToSbcs': dot substituted for <93>”\n",
      "Warning message in grid.Call.graphics(C_text, as.graphicsAnnot(x$label), x$x, x$y, :\n",
      "“conversion failure on '↓' in 'mbcsToSbcs': dot substituted for <e2>”\n",
      "Warning message in grid.Call.graphics(C_text, as.graphicsAnnot(x$label), x$x, x$y, :\n",
      "“conversion failure on '↓' in 'mbcsToSbcs': dot substituted for <86>”\n",
      "Warning message in grid.Call.graphics(C_text, as.graphicsAnnot(x$label), x$x, x$y, :\n",
      "“conversion failure on '↓' in 'mbcsToSbcs': dot substituted for <93>”\n",
      "Warning message in grid.Call.graphics(C_text, as.graphicsAnnot(x$label), x$x, x$y, :\n",
      "“conversion failure on '↓' in 'mbcsToSbcs': dot substituted for <e2>”\n",
      "Warning message in grid.Call.graphics(C_text, as.graphicsAnnot(x$label), x$x, x$y, :\n",
      "“conversion failure on '↓' in 'mbcsToSbcs': dot substituted for <86>”\n",
      "Warning message in grid.Call.graphics(C_text, as.graphicsAnnot(x$label), x$x, x$y, :\n",
      "“conversion failure on '↓' in 'mbcsToSbcs': dot substituted for <93>”\n",
      "Warning message in grid.Call.graphics(C_text, as.graphicsAnnot(x$label), x$x, x$y, :\n",
      "“conversion failure on '↓' in 'mbcsToSbcs': dot substituted for <e2>”\n",
      "Warning message in grid.Call.graphics(C_text, as.graphicsAnnot(x$label), x$x, x$y, :\n",
      "“conversion failure on '↓' in 'mbcsToSbcs': dot substituted for <86>”\n",
      "Warning message in grid.Call.graphics(C_text, as.graphicsAnnot(x$label), x$x, x$y, :\n",
      "“conversion failure on '↓' in 'mbcsToSbcs': dot substituted for <93>”\n",
      "Warning message in grid.Call.graphics(C_text, as.graphicsAnnot(x$label), x$x, x$y, :\n",
      "“conversion failure on '↓' in 'mbcsToSbcs': dot substituted for <e2>”\n",
      "Warning message in grid.Call.graphics(C_text, as.graphicsAnnot(x$label), x$x, x$y, :\n",
      "“conversion failure on '↓' in 'mbcsToSbcs': dot substituted for <86>”\n",
      "Warning message in grid.Call.graphics(C_text, as.graphicsAnnot(x$label), x$x, x$y, :\n",
      "“conversion failure on '↓' in 'mbcsToSbcs': dot substituted for <93>”\n",
      "Warning message in grid.Call.graphics(C_text, as.graphicsAnnot(x$label), x$x, x$y, :\n",
      "“conversion failure on '↓' in 'mbcsToSbcs': dot substituted for <e2>”\n",
      "Warning message in grid.Call.graphics(C_text, as.graphicsAnnot(x$label), x$x, x$y, :\n",
      "“conversion failure on '↓' in 'mbcsToSbcs': dot substituted for <86>”\n",
      "Warning message in grid.Call.graphics(C_text, as.graphicsAnnot(x$label), x$x, x$y, :\n",
      "“conversion failure on '↓' in 'mbcsToSbcs': dot substituted for <93>”\n",
      "Warning message in grid.Call.graphics(C_text, as.graphicsAnnot(x$label), x$x, x$y, :\n",
      "“conversion failure on '↓' in 'mbcsToSbcs': dot substituted for <e2>”\n",
      "Warning message in grid.Call.graphics(C_text, as.graphicsAnnot(x$label), x$x, x$y, :\n",
      "“conversion failure on '↓' in 'mbcsToSbcs': dot substituted for <86>”\n",
      "Warning message in grid.Call.graphics(C_text, as.graphicsAnnot(x$label), x$x, x$y, :\n",
      "“conversion failure on '↓' in 'mbcsToSbcs': dot substituted for <93>”\n",
      "Warning message in grid.Call.graphics(C_text, as.graphicsAnnot(x$label), x$x, x$y, :\n",
      "“conversion failure on '↓' in 'mbcsToSbcs': dot substituted for <e2>”\n",
      "Warning message in grid.Call.graphics(C_text, as.graphicsAnnot(x$label), x$x, x$y, :\n",
      "“conversion failure on '↓' in 'mbcsToSbcs': dot substituted for <86>”\n",
      "Warning message in grid.Call.graphics(C_text, as.graphicsAnnot(x$label), x$x, x$y, :\n",
      "“conversion failure on '↓' in 'mbcsToSbcs': dot substituted for <93>”\n",
      "Warning message in grid.Call.graphics(C_text, as.graphicsAnnot(x$label), x$x, x$y, :\n",
      "“conversion failure on '↓' in 'mbcsToSbcs': dot substituted for <e2>”\n",
      "Warning message in grid.Call.graphics(C_text, as.graphicsAnnot(x$label), x$x, x$y, :\n",
      "“conversion failure on '↓' in 'mbcsToSbcs': dot substituted for <86>”\n",
      "Warning message in grid.Call.graphics(C_text, as.graphicsAnnot(x$label), x$x, x$y, :\n",
      "“conversion failure on '↓' in 'mbcsToSbcs': dot substituted for <93>”\n",
      "Warning message in grid.Call.graphics(C_text, as.graphicsAnnot(x$label), x$x, x$y, :\n",
      "“conversion failure on '↓' in 'mbcsToSbcs': dot substituted for <e2>”\n",
      "Warning message in grid.Call.graphics(C_text, as.graphicsAnnot(x$label), x$x, x$y, :\n",
      "“conversion failure on '↓' in 'mbcsToSbcs': dot substituted for <86>”\n",
      "Warning message in grid.Call.graphics(C_text, as.graphicsAnnot(x$label), x$x, x$y, :\n",
      "“conversion failure on '↓' in 'mbcsToSbcs': dot substituted for <93>”\n",
      "Warning message in grid.Call.graphics(C_text, as.graphicsAnnot(x$label), x$x, x$y, :\n",
      "“conversion failure on '↓' in 'mbcsToSbcs': dot substituted for <e2>”\n",
      "Warning message in grid.Call.graphics(C_text, as.graphicsAnnot(x$label), x$x, x$y, :\n",
      "“conversion failure on '↓' in 'mbcsToSbcs': dot substituted for <86>”\n",
      "Warning message in grid.Call.graphics(C_text, as.graphicsAnnot(x$label), x$x, x$y, :\n",
      "“conversion failure on '↓' in 'mbcsToSbcs': dot substituted for <93>”\n",
      "Warning message in grid.Call.graphics(C_text, as.graphicsAnnot(x$label), x$x, x$y, :\n",
      "“conversion failure on '↓' in 'mbcsToSbcs': dot substituted for <e2>”\n",
      "Warning message in grid.Call.graphics(C_text, as.graphicsAnnot(x$label), x$x, x$y, :\n",
      "“conversion failure on '↓' in 'mbcsToSbcs': dot substituted for <86>”\n",
      "Warning message in grid.Call.graphics(C_text, as.graphicsAnnot(x$label), x$x, x$y, :\n",
      "“conversion failure on '↓' in 'mbcsToSbcs': dot substituted for <93>”\n",
      "Warning message in grid.Call.graphics(C_text, as.graphicsAnnot(x$label), x$x, x$y, :\n",
      "“conversion failure on '↓' in 'mbcsToSbcs': dot substituted for <e2>”\n",
      "Warning message in grid.Call.graphics(C_text, as.graphicsAnnot(x$label), x$x, x$y, :\n",
      "“conversion failure on '↓' in 'mbcsToSbcs': dot substituted for <86>”\n",
      "Warning message in grid.Call.graphics(C_text, as.graphicsAnnot(x$label), x$x, x$y, :\n",
      "“conversion failure on '↓' in 'mbcsToSbcs': dot substituted for <93>”\n"
     ]
    }
   ],
   "source": [
    "plot_name = \"FIGURE2A_RR_overview\"\n",
    "overview %>% ggsave(filename=glue(\"outputs/{plot_name}.pdf\"), device=\"pdf\", width=plot_width, height=plot_height, dpi=plot_res, limitsize=FALSE)"
   ]
  },
  {
   "cell_type": "code",
   "execution_count": null,
   "metadata": {},
   "outputs": [],
   "source": []
  },
  {
   "cell_type": "code",
   "execution_count": null,
   "metadata": {},
   "outputs": [],
   "source": []
  },
  {
   "cell_type": "code",
   "execution_count": null,
   "metadata": {},
   "outputs": [],
   "source": []
  },
  {
   "cell_type": "code",
   "execution_count": null,
   "metadata": {},
   "outputs": [],
   "source": []
  },
  {
   "cell_type": "code",
   "execution_count": null,
   "metadata": {},
   "outputs": [],
   "source": []
  },
  {
   "cell_type": "code",
   "execution_count": null,
   "metadata": {},
   "outputs": [],
   "source": []
  },
  {
   "cell_type": "code",
   "execution_count": null,
   "metadata": {},
   "outputs": [],
   "source": []
  },
  {
   "cell_type": "markdown",
   "metadata": {},
   "source": [
    "## Endpoint selection for health state and incident disease rates"
   ]
  },
  {
   "cell_type": "code",
   "execution_count": null,
   "metadata": {},
   "outputs": [],
   "source": [
    "predictions = paths %>% map_df(\n",
    "    ~suppressWarnings(read_feather(., col_select=c(\"eid\", all_of(endpoint_selection)))) %>% \n",
    "    pivot_longer(endpoint_selection, names_to=\"endpoint\", values_to=\"logh\") %>%\n",
    "    mutate(eid = as.integer(as.character(eid))) %>%\n",
    "    select(endpoint, eid, logh))# %>% arrange(endpoint, eid)\n",
    "predictions %>% head()"
   ]
  },
  {
   "cell_type": "markdown",
   "metadata": {
    "tags": []
   },
   "source": [
    "pred_outcomes = predictions %>% left_join(data_outcomes, on=c(eid, endpoint)) %>% as.data.table() #%>% as_tibble()"
   ]
  },
  {
   "cell_type": "code",
   "execution_count": null,
   "metadata": {
    "tags": []
   },
   "outputs": [],
   "source": [
    "logh_inc = pred_outcomes %>% filter(included==1) %>% group_by(endpoint) %>% mutate(logh_perc = ntile(logh, 100)) %>% ungroup() %>% as_tibble()"
   ]
  },
  {
   "cell_type": "code",
   "execution_count": null,
   "metadata": {
    "tags": []
   },
   "outputs": [],
   "source": [
    "logh_T_agg = logh_inc %>% group_by(endpoint, logh_perc) %>% summarise(n=sum(event), ratio = mean(event)) %>% as_tibble()"
   ]
  },
  {
   "cell_type": "code",
   "execution_count": null,
   "metadata": {
    "tags": []
   },
   "outputs": [],
   "source": [
    "#logh_T_endpoint = logh_inc %>% group_by(endpoint) %>% summarise(n_all=sum(event), ratio_all = mean(event)) %>% as_tibble()"
   ]
  },
  {
   "cell_type": "code",
   "execution_count": null,
   "metadata": {
    "tags": []
   },
   "outputs": [],
   "source": [
    "endpoint_order"
   ]
  },
  {
   "cell_type": "code",
   "execution_count": null,
   "metadata": {
    "tags": []
   },
   "outputs": [],
   "source": [
    "plot_width = 8.25; plot_height=6; plot_res = 320\n",
    "options(repr.plot.width = plot_width, repr.plot.height = plot_height, repr.plot.res=plot_res)\n",
    "#temp_rank = event_rest %>% filter(features==\"Metabolomics\") %>% arrange(desc(MET10PercvsREST))\n",
    "#endpoint_order = (endpoint_defs %>% mutate(phecode_rank = as.numeric(phecode)) %>% arrange(phecode_rank) %>% as_tibble())$endpoint\n",
    "temp = logh_T_agg %>% filter(endpoint %in% endpoint_selection) %>% mutate(endpoint = factor(endpoint, levels=endpoint_order)) %>% ungroup() %>% arrange(endpoint) #%>% sample_n(10000)\n",
    "\n",
    "fig2a = ggplot(temp, aes(x=logh_perc, y=ratio*100, color=logh_perc)) + \n",
    "    labs(title=NULL, x=\"Risk Percentile (%)\", y=\"Incident Events (%)\") +\n",
    "    geom_point(alpha=0.7, size=0.3) + \n",
    "    scale_colour_gradient(low = \"#7AC6FF\", high = \"#023768\", space = \"Lab\", na.value = \"grey50\", guide = \"colourbar\", aesthetics = \"colour\")+\n",
    "    scale_y_continuous(limits=c(0, NA), expand=expansion(mult=c(0, .05)))+#, limits=c(0, NA))+\n",
    "    scale_x_continuous(expand=expansion(add=c(0, 1)))+\n",
    "    facet_wrap(~endpoint, scale=\"free\", labeller = labeller(endpoint = as_labeller(endpoint_map, default=label_wrap_gen(22))), ncol=6) + theme(legend.position=\"none\")\n",
    "fig2a"
   ]
  },
  {
   "cell_type": "code",
   "execution_count": null,
   "metadata": {
    "tags": []
   },
   "outputs": [],
   "source": [
    "plot_width = 8.25; plot_height=3.5; plot_res = 320\n",
    "options(repr.plot.width = plot_width, repr.plot.height = plot_height, repr.plot.res=plot_res)\n",
    "#temp_rank = event_rest %>% filter(features==\"Metabolomics\") %>% arrange(desc(MET10PercvsREST))\n",
    "#endpoint_order = (endpoint_defs %>% mutate(phecode_rank = as.numeric(phecode)) %>% arrange(phecode_rank) %>% as_tibble())$endpoint\n",
    "temp = logh_T_agg %>% filter(endpoint %in% endpoint_selection) %>% mutate(endpoint = factor(endpoint, levels=endpoint_order)) %>% ungroup() %>% arrange(endpoint) #%>% sample_n(10000)\n",
    "\n",
    "fig2a_common = ggplot(temp %>% filter(endpoint %in% endpoints_common), aes(x=logh_perc, y=ratio*100, color=logh_perc)) + \n",
    "    labs(title=NULL, x=\"Risk Percentile (%)\", y=\"Incident Events (%)\") +\n",
    "    geom_point(alpha=0.7, size=0.3) + \n",
    "    scale_colour_gradient(low = \"#7AC6FF\", high = \"#023768\", space = \"Lab\", na.value = \"grey50\", guide = \"colourbar\", aesthetics = \"colour\")+\n",
    "    scale_y_continuous(limits=c(0, NA), expand=expansion(mult=c(0, .05)))+#, limits=c(0, NA))+\n",
    "    scale_x_continuous(expand=expansion(add=c(0, 1)))+\n",
    "    facet_wrap(~endpoint, scale=\"free\", labeller = labeller(endpoint = as_labeller(endpoint_map, default=label_wrap_gen(22))), ncol=6) + theme(legend.position=\"none\")\n",
    "fig2a_common"
   ]
  },
  {
   "cell_type": "code",
   "execution_count": null,
   "metadata": {
    "tags": []
   },
   "outputs": [],
   "source": [
    "plot_width = 8.25; plot_height=1.75; plot_res = 320\n",
    "options(repr.plot.width = plot_width, repr.plot.height = plot_height, repr.plot.res=plot_res)\n",
    "#temp_rank = event_rest %>% filter(features==\"Metabolomics\") %>% arrange(desc(MET10PercvsREST))\n",
    "#endpoint_order = (endpoint_defs %>% mutate(phecode_rank = as.numeric(phecode)) %>% arrange(phecode_rank) %>% as_tibble())$endpoint\n",
    "temp = logh_T_agg %>% filter(endpoint %in% endpoint_selection) %>% mutate(endpoint = factor(endpoint, levels=endpoint_order)) %>% ungroup() %>% arrange(endpoint) #%>% sample_n(10000)\n",
    "\n",
    "fig2a_cardio = ggplot(temp %>% filter(endpoint %in% endpoints_cardio), aes(x=logh_perc, y=ratio*100, color=logh_perc)) + \n",
    "    labs(title=NULL, x=\"Risk Percentile (%)\", y=\"Incident Events (%)\") +\n",
    "    geom_point(alpha=0.7, size=0.3) + \n",
    "    scale_colour_gradient(low = \"#7AC6FF\", high = \"#023768\", space = \"Lab\", na.value = \"grey50\", guide = \"colourbar\", aesthetics = \"colour\")+\n",
    "    scale_y_continuous(limits=c(0, NA), expand=expansion(mult=c(0, .05)))+#, limits=c(0, NA))+\n",
    "    scale_x_continuous(expand=expansion(add=c(0, 1)))+\n",
    "    facet_wrap(~endpoint, scale=\"free\", labeller = labeller(endpoint = as_labeller(endpoint_map, default=label_wrap_gen(22))), ncol=6) + theme(legend.position=\"none\")\n",
    "fig2a_cardio"
   ]
  },
  {
   "cell_type": "code",
   "execution_count": null,
   "metadata": {
    "tags": []
   },
   "outputs": [],
   "source": [
    "plot_width = 8.25; plot_height=1.75; plot_res = 320\n",
    "options(repr.plot.width = plot_width, repr.plot.height = plot_height, repr.plot.res=plot_res)\n",
    "#temp_rank = event_rest %>% filter(features==\"Metabolomics\") %>% arrange(desc(MET10PercvsREST))\n",
    "#endpoint_order = (endpoint_defs %>% mutate(phecode_rank = as.numeric(phecode)) %>% arrange(phecode_rank) %>% as_tibble())$endpoint\n",
    "temp = logh_T_agg %>% filter(endpoint %in% endpoint_selection) %>% mutate(endpoint = factor(endpoint, levels=endpoint_order)) %>% ungroup() %>% arrange(endpoint) #%>% sample_n(10000)\n",
    "\n",
    "fig2a_interesting = ggplot(temp %>% filter(endpoint %in% endpoints_interesting), aes(x=logh_perc, y=ratio*100, color=logh_perc)) + \n",
    "    labs(title=NULL, x=\"Risk Percentile (%)\", y=\"Incident Events (%)\") +\n",
    "    geom_point(alpha=0.7, size=0.3) + \n",
    "    scale_colour_gradient(low = \"#7AC6FF\", high = \"#023768\", space = \"Lab\", na.value = \"grey50\", guide = \"colourbar\", aesthetics = \"colour\")+\n",
    "    scale_y_continuous(limits=c(0, NA), expand=expansion(mult=c(0, .05)))+#, limits=c(0, NA))+\n",
    "    scale_x_continuous(expand=expansion(add=c(0, 1)))+\n",
    "    facet_wrap(~endpoint, scale=\"free\", labeller = labeller(endpoint = as_labeller(endpoint_map, default=label_wrap_gen(22))), ncol=6) + theme(legend.position=\"none\")\n",
    "fig2a_interesting"
   ]
  },
  {
   "cell_type": "markdown",
   "metadata": {},
   "source": [
    "# Kaplan Mayer"
   ]
  },
  {
   "cell_type": "code",
   "execution_count": null,
   "metadata": {
    "tags": []
   },
   "outputs": [],
   "source": [
    "logh_mh = logh_inc %>% select(endpoint, eid, logh_perc, event, time) %>% group_by(endpoint) %>% \n",
    "    mutate(MH=case_when(logh_perc %in% 100 ~ \"High\", \n",
    "                        logh_perc %in% 51 ~ \"Mid\", \n",
    "                        logh_perc %in% 1 ~ \"Low\",\n",
    "                        TRUE ~ \"NA\")\n",
    "          ) %>% mutate(MH=fct_rev(factor(MH, levels=c(\"Low\", \"Mid\", \"High\")))) %>% ungroup() %>% \n",
    "    filter(MH!=\"NA\") #%>% select(eid, endpoint, logh, logh_group)"
   ]
  },
  {
   "cell_type": "raw",
   "metadata": {},
   "source": [
    "logh_mh = logh_inc %>% select(endpoint, eid, logh_perc, event, time) %>% group_by(endpoint) %>% \n",
    "    mutate(MH=case_when(logh_perc %in% 91:100 ~ \"High\", \n",
    "                        logh_perc %in% 45:55 ~ \"Mid\", \n",
    "                        logh_perc %in% 1:10 ~ \"Low\",\n",
    "                        TRUE ~ \"NA\")\n",
    "          ) %>% mutate(MET = fct_rev(factor(MH, levels=c(\"Low\", \"Mid\", \"High\")))) %>% ungroup() %>% \n",
    "    filter(MH!=\"NA\") #%>% select(eid, endpoint, logh, logh_group)"
   ]
  },
  {
   "cell_type": "code",
   "execution_count": null,
   "metadata": {
    "tags": []
   },
   "outputs": [],
   "source": [
    "require(\"ggquickeda\")\n",
    "plot_width = 8.25; plot_height=6; plot_res = 320\n",
    "options(repr.plot.width = plot_width, repr.plot.height = plot_height, repr.plot.res=plot_res)\n",
    "met_map = c(\"High\"=\"#023768\", \"Mid\"=\"#4F8EC1\", \"Low\"=\"#7AC6FF\")\n",
    "\n",
    "temp = logh_mh %>% mutate(endpoint = factor(endpoint, levels=endpoint_order)) %>% filter(endpoint %in% endpoint_selection) %>% ungroup() \n",
    "\n",
    "fig2b = ggplot(temp, aes(time = time, status = event, fill=MH, color=MH, group=MH)) +\n",
    "    geom_km(trans = \"event\") + \n",
    "    geom_kmticks(trans = \"event\", size=0.2, alpha=0.01) + \n",
    "    geom_kmband(trans = \"event\") + \n",
    "    labs(x=\"Time (Years)\", y=\"Cumulative Events (%)\")+\n",
    "    scale_color_manual(values=met_map)+scale_fill_manual(values=met_map)+\n",
    "    scale_y_continuous(labels = function(x) round(x*100, 1), expand=c(0, 0))+\n",
    "    scale_x_continuous(expand=expansion(add=c(0, .1)), breaks=c(5, 10))+\n",
    "    facet_wrap(~endpoint, scale=\"free\", labeller = labeller(endpoint = as_labeller(endpoint_map, default=label_wrap_gen(22))), ncol=6) + theme(legend.position=\"none\")\n",
    "fig2b"
   ]
  },
  {
   "cell_type": "code",
   "execution_count": null,
   "metadata": {
    "tags": []
   },
   "outputs": [],
   "source": [
    "require(\"ggquickeda\")\n",
    "plot_width = 8.25; plot_height=3.5; plot_res = 320\n",
    "options(repr.plot.width = plot_width, repr.plot.height = plot_height, repr.plot.res=plot_res)\n",
    "met_map = c(\"High\"=\"#023768\", \"Mid\"=\"#4F8EC1\", \"Low\"=\"#7AC6FF\")\n",
    "\n",
    "temp = logh_mh %>% mutate(endpoint = factor(endpoint, levels=endpoint_order)) %>% filter(endpoint %in% endpoint_selection) %>% ungroup() \n",
    "\n",
    "fig2b_common = ggplot(temp %>% filter(endpoint %in% endpoints_common), aes(time = time, status = event, fill=MH, color=MH, group=MH)) +\n",
    "    geom_km(trans = \"event\") + \n",
    "    geom_kmticks(trans = \"event\", size=0.2, alpha=0.01) + \n",
    "    geom_kmband(trans = \"event\") + \n",
    "    labs(x=\"Time (Years)\", y=\"Cumulative Events (%)\")+\n",
    "    scale_color_manual(values=met_map)+scale_fill_manual(values=met_map)+\n",
    "    scale_y_continuous(labels = function(x) round(x*100, 1), expand=c(0, 0))+\n",
    "    scale_x_continuous(expand=expansion(add=c(0, .1)), breaks=c(5, 10))+\n",
    "    facet_wrap(~endpoint, scale=\"free\", labeller = labeller(endpoint = as_labeller(endpoint_map, default=label_wrap_gen(22))), ncol=6) + theme(legend.position=\"none\")\n",
    "fig2b_common"
   ]
  },
  {
   "cell_type": "code",
   "execution_count": null,
   "metadata": {
    "tags": []
   },
   "outputs": [],
   "source": [
    "require(\"ggquickeda\")\n",
    "plot_width = 8.25; plot_height=1.75; plot_res = 320\n",
    "options(repr.plot.width = plot_width, repr.plot.height = plot_height, repr.plot.res=plot_res)\n",
    "met_map = c(\"High\"=\"#023768\", \"Mid\"=\"#4F8EC1\", \"Low\"=\"#7AC6FF\")\n",
    "\n",
    "temp = logh_mh %>% mutate(endpoint = factor(endpoint, levels=endpoint_order)) %>% filter(endpoint %in% endpoint_selection) %>% ungroup() \n",
    "\n",
    "fig2b_cardio = ggplot(temp %>% filter(endpoint %in% endpoints_cardio), aes(time = time, status = event, fill=MH, color=MH, group=MH)) +\n",
    "    geom_km(trans = \"event\") + \n",
    "    geom_kmticks(trans = \"event\", size=0.2, alpha=0.01) + \n",
    "    geom_kmband(trans = \"event\") + \n",
    "    labs(x=\"Time (Years)\", y=\"Cumulative Events (%)\")+\n",
    "    scale_color_manual(values=met_map)+scale_fill_manual(values=met_map)+\n",
    "    scale_y_continuous(labels = function(x) round(x*100, 1), expand=c(0, 0))+\n",
    "    scale_x_continuous(expand=expansion(add=c(0, .1)), breaks=c(5, 10))+\n",
    "    facet_wrap(~endpoint, scale=\"free\", labeller = labeller(endpoint = as_labeller(endpoint_map, default=label_wrap_gen(22))), ncol=6) + theme(legend.position=\"none\")\n",
    "fig2b_cardio"
   ]
  },
  {
   "cell_type": "code",
   "execution_count": null,
   "metadata": {
    "tags": []
   },
   "outputs": [],
   "source": [
    "require(\"ggquickeda\")\n",
    "plot_width = 8.25; plot_height=1.75; plot_res = 320\n",
    "options(repr.plot.width = plot_width, repr.plot.height = plot_height, repr.plot.res=plot_res)\n",
    "met_map = c(\"High\"=\"#023768\", \"Mid\"=\"#4F8EC1\", \"Low\"=\"#7AC6FF\")\n",
    "\n",
    "temp = logh_mh %>% mutate(endpoint = factor(endpoint, levels=endpoint_order)) %>% filter(endpoint %in% endpoint_selection) %>% ungroup() \n",
    "\n",
    "fig2b_interesting = ggplot(temp %>% filter(endpoint %in% endpoints_interesting), aes(time = time, status = event, fill=MH, color=MH, group=MH)) +\n",
    "    geom_km(trans = \"event\") + \n",
    "    geom_kmticks(trans = \"event\", size=0.2, alpha=0.01) + \n",
    "    geom_kmband(trans = \"event\") + \n",
    "    labs(x=\"Time (Years)\", y=\"Cumulative Events (%)\")+\n",
    "    scale_color_manual(values=met_map)+scale_fill_manual(values=met_map)+\n",
    "    scale_y_continuous(labels = function(x) round(x*100, 1), expand=c(0, 0))+\n",
    "    scale_x_continuous(expand=expansion(add=c(0, .1)), breaks=c(5, 10))+\n",
    "    facet_wrap(~endpoint, scale=\"free\", labeller = labeller(endpoint = as_labeller(endpoint_map, default=label_wrap_gen(22))), ncol=6) + theme(legend.position=\"none\")\n",
    "fig2b_interesting"
   ]
  },
  {
   "cell_type": "code",
   "execution_count": null,
   "metadata": {
    "tags": []
   },
   "outputs": [],
   "source": [
    "plot_width = 8.25; plot_height=12; plot_res = 320\n",
    "options(repr.plot.width = plot_width, repr.plot.height = plot_height, repr.plot.res=plot_res)\n",
    "\n",
    "fig2 = (fig2a / fig2b)\n",
    "fig2"
   ]
  },
  {
   "cell_type": "code",
   "execution_count": null,
   "metadata": {
    "tags": []
   },
   "outputs": [],
   "source": [
    "plot_width = 8.25; plot_height=6; plot_res = 320\n",
    "options(repr.plot.width = plot_width, repr.plot.height = plot_height, repr.plot.res=plot_res)\n",
    "\n",
    "fig2_common = (fig2a_common / fig2b_common)\n",
    "fig2_common"
   ]
  },
  {
   "cell_type": "code",
   "execution_count": null,
   "metadata": {
    "tags": []
   },
   "outputs": [],
   "source": [
    "plot_width = 8.25; plot_height=3.5; plot_res = 320\n",
    "options(repr.plot.width = plot_width, repr.plot.height = plot_height, repr.plot.res=plot_res)\n",
    "\n",
    "fig2_cardio = (fig2a_cardio / fig2b_cardio)\n",
    "fig2_cardio"
   ]
  },
  {
   "cell_type": "code",
   "execution_count": null,
   "metadata": {},
   "outputs": [],
   "source": [
    "plot_name = \"Figure_2_EventRates\"\n",
    "fig2 %>% ggsave(filename=glue(\"outputs/{plot_name}.pdf\"), device=\"pdf\", width=plot_width, height=plot_height, dpi=plot_res, limitsize=FALSE)"
   ]
  },
  {
   "cell_type": "code",
   "execution_count": null,
   "metadata": {},
   "outputs": [],
   "source": []
  },
  {
   "cell_type": "code",
   "execution_count": null,
   "metadata": {},
   "outputs": [],
   "source": []
  },
  {
   "cell_type": "code",
   "execution_count": null,
   "metadata": {},
   "outputs": [],
   "source": []
  },
  {
   "cell_type": "code",
   "execution_count": null,
   "metadata": {},
   "outputs": [],
   "source": [
    "plot_width = 50; plot_height=75; plot_res = 320\n",
    "options(repr.plot.width = plot_width, repr.plot.height = plot_height, repr.plot.res=plot_res)\n",
    "#temp_rank = event_rest %>% filter(features==\"Metabolomics\") %>% arrange(desc(MET10PercvsREST))\n",
    "endpoint_order = (phecode_defs %>% mutate(phecode_rank = as.numeric(phecode)) %>% arrange(phecode_rank) %>% as_tibble())$endpoint\n",
    "endpoint_selection = endpoint_order# %>% head(500)\n",
    "temp = logh_T_agg %>% filter(model==\"GNN(Records)+MLP\") %>% mutate(endpoint = factor(endpoint, levels=endpoint_order)) %>% filter(endpoint %in% endpoint_selection) %>% ungroup() #%>% sample_n(10000)\n",
    "\n",
    "mh_events = ggplot(temp, aes(x=logh_perc, y=ratio*100, color=logh_perc)) + \n",
    "    labs(title=NULL, x=\"Retina Percentile [%]\", y=\"Observed Event Rate [%]\") +\n",
    "    geom_point(alpha=0.7, size=0.1) + \n",
    "    scale_colour_gradient(\n",
    "  low = \"#7AC6FF\",\n",
    "  high = \"#023768\",\n",
    "  space = \"Lab\",\n",
    "  na.value = \"grey50\",\n",
    "  guide = \"colourbar\",\n",
    "  aesthetics = \"colour\"\n",
    ")+\n",
    "    #scale_color_manual(values=c(\"Metabolomics\"=\"black\"))+\n",
    "    scale_y_continuous(limits=c(0, NA), expand=expansion(mult=c(0, .05)))+#, limits=c(0, NA))+\n",
    "    scale_x_continuous(expand=expansion(add=c(0, 1)))+\n",
    "    facet_wrap(~endpoint, scale=\"free\", labeller = labeller(endpoint = endpoint_map), ncol=25) + theme(legend.position=\"none\")"
   ]
  },
  {
   "cell_type": "code",
   "execution_count": null,
   "metadata": {},
   "outputs": [],
   "source": []
  },
  {
   "cell_type": "code",
   "execution_count": null,
   "metadata": {},
   "outputs": [],
   "source": [
    "plot_name = \"RetinaRisk\"\n",
    "mh_events %>% ggsave(filename=glue(\"outputs/{plot_name}.png\"), device=\"png\", width=plot_width, height=plot_height, dpi=plot_res, limitsize=FALSE)"
   ]
  },
  {
   "cell_type": "markdown",
   "metadata": {},
   "source": [
    "## Add buffer"
   ]
  },
  {
   "cell_type": "code",
   "execution_count": null,
   "metadata": {},
   "outputs": [],
   "source": [
    "pred_outcomes %>% head()"
   ]
  },
  {
   "cell_type": "code",
   "execution_count": null,
   "metadata": {},
   "outputs": [],
   "source": [
    "logh_T_agg_buffer = pred_outcomes %>% filter(prevalent==0) %>% mutate(event_buffer = case_when((event!=0&time<1) ~ 0, TRUE ~ event)) %>% group_by(endpoint, model) %>% mutate(logh_perc = ntile(logh, 100)) %>% group_by(endpoint, model, logh_perc) %>% summarise(ratio = mean(event_buffer)) %>% as_tibble()"
   ]
  },
  {
   "cell_type": "code",
   "execution_count": null,
   "metadata": {},
   "outputs": [],
   "source": [
    "logh_T_agg_buffer %>% write_feather(glue(\"{output_path}/logh_agg_1ybuffer_220224.feather\"))"
   ]
  },
  {
   "cell_type": "code",
   "execution_count": null,
   "metadata": {},
   "outputs": [],
   "source": [
    "plot_width = 50; plot_height=75; plot_res = 320\n",
    "options(repr.plot.width = plot_width, repr.plot.height = plot_height, repr.plot.res=plot_res)\n",
    "#temp_rank = event_rest %>% filter(features==\"Metabolomics\") %>% arrange(desc(MET10PercvsREST))\n",
    "endpoint_order = (phecode_defs %>% mutate(phecode_rank = as.numeric(phecode)) %>% arrange(phecode_rank) %>% as_tibble())$endpoint\n",
    "endpoint_selection = endpoint_order# %>% head(500)\n",
    "temp = logh_T_agg_buffer %>% filter(model==\"GNN(Records)+MLP\") %>% mutate(endpoint = factor(endpoint, levels=endpoint_order)) %>% filter(endpoint %in% endpoint_selection) %>% ungroup() #%>% sample_n(10000)\n",
    "\n",
    "mh_events = ggplot(temp, aes(x=logh_perc, y=ratio*100, color=logh_perc)) + \n",
    "    labs(title=NULL, x=\"Medical History Percentile [%]\", y=\"Observed Event Rate [%]\") +\n",
    "    geom_point(alpha=0.7, size=0.1) + \n",
    "    scale_colour_gradient(\n",
    "  low = \"#7AC6FF\",\n",
    "  high = \"#023768\",\n",
    "  space = \"Lab\",\n",
    "  na.value = \"grey50\",\n",
    "  guide = \"colourbar\",\n",
    "  aesthetics = \"colour\"\n",
    ")+\n",
    "    #scale_color_manual(values=c(\"Metabolomics\"=\"black\"))+\n",
    "    scale_y_continuous(limits=c(0, NA), expand=expansion(mult=c(0, .05)))+#, limits=c(0, NA))+\n",
    "    scale_x_continuous(expand=expansion(add=c(0, 1)))+\n",
    "    facet_wrap(~endpoint, scale=\"free\", labeller = labeller(endpoint = endpoint_map), ncol=25) + theme(legend.position=\"none\")"
   ]
  },
  {
   "cell_type": "code",
   "execution_count": null,
   "metadata": {},
   "outputs": [],
   "source": [
    "plot_name = \"RetinaRisk_1ybuffer\"\n",
    "mh_events %>% ggsave(filename=glue(\"outputs/{plot_name}.png\"), device=\"png\", width=plot_width, height=plot_height, dpi=plot_res, limitsize=FALSE)"
   ]
  },
  {
   "cell_type": "markdown",
   "metadata": {
    "tags": []
   },
   "source": [
    "## Metabolomic State and Event Trajectories"
   ]
  },
  {
   "cell_type": "code",
   "execution_count": null,
   "metadata": {},
   "outputs": [],
   "source": []
  },
  {
   "cell_type": "code",
   "execution_count": null,
   "metadata": {},
   "outputs": [],
   "source": [
    "logh_mh = logh_inc %>% select(endpoint, model, eid, logh_perc, event, time) %>% group_by(endpoint) %>% \n",
    "    mutate(MH=case_when(logh_perc %in% 91:100 ~ \"High\", \n",
    "                        logh_perc %in% 45:55 ~ \"Mid\", \n",
    "                        logh_perc %in% 1:10 ~ \"Low\",\n",
    "                        TRUE ~ \"NA\")\n",
    "          ) %>% mutate(MET = fct_rev(factor(MET, levels=c(\"Low\", \"Mid\", \"High\")))) %>% ungroup() %>% \n",
    "    filter(MH!=\"NA\") #%>% select(eid, endpoint, logh, logh_group)"
   ]
  },
  {
   "cell_type": "code",
   "execution_count": null,
   "metadata": {},
   "outputs": [],
   "source": [
    "require(\"ggquickeda\")\n",
    "plot_width = 50; plot_height=75; plot_res = 320\n",
    "options(repr.plot.width = plot_width, repr.plot.height = plot_height, repr.plot.res=plot_res)\n",
    "met_map = c(\"High\"=\"#023768\", \"Mid\"=\"#4F8EC1\", \"Low\"=\"#7AC6FF\")\n",
    "\n",
    "endpoint_order = (phecode_defs %>% mutate(phecode_rank = as.numeric(phecode)) %>% arrange(phecode_rank) %>% as_tibble())$endpoint\n",
    "endpoint_selection = endpoint_order# %>% head(500)\n",
    "temp = logh_mh %>% mutate(endpoint = factor(endpoint, levels=endpoint_order)) %>% filter(endpoint %in% endpoint_selection) %>% ungroup() \n",
    "\n",
    "km_plot = ggplot(temp, aes(time = time, status = event, fill=MET, color=MET,group=MET)) +\n",
    "    geom_km(trans = \"event\") + \n",
    "    geom_kmticks(trans = \"event\", size=0.3) + geom_kmband(trans = \"event\") + \n",
    "    labs(x=\"Time [Years]\", y=\"Cumulative Events [%]\")+\n",
    "    scale_color_manual(values=met_map)+scale_fill_manual(values=met_map)+\n",
    "    scale_y_continuous(labels = function(x) round(x*100, 1), expand=c(0, 0))+\n",
    "    scale_x_continuous(expand=expansion(add=c(0, .1)), breaks=c(5, 10))+\n",
    "    facet_wrap(~ endpoint, scale=\"free\", labeller = labeller(endpoint = endpoint_map), ncol=25) + theme(legend.position=\"none\")"
   ]
  },
  {
   "cell_type": "code",
   "execution_count": null,
   "metadata": {},
   "outputs": [],
   "source": [
    "plot_name = \"Retina_KMs\"\n",
    "km_plot %>% ggsave(filename=glue(\"outputs/{plot_name}.png\"), device=\"png\", width=plot_width, height=plot_height, dpi=plot_res, limitsize=FALSE)"
   ]
  },
  {
   "cell_type": "markdown",
   "metadata": {},
   "source": [
    "# Top 1%"
   ]
  },
  {
   "cell_type": "code",
   "execution_count": null,
   "metadata": {},
   "outputs": [],
   "source": [
    "logh_mh = logh_inc %>% select(endpoint, model, eid, logh_perc, event, time) %>% group_by(endpoint) %>% \n",
    "    mutate(MH=case_when(logh_perc == 100 ~ \"High\", \n",
    "                        logh_perc %in% 50:51 ~ \"Mid\", \n",
    "                        logh_perc == 1 ~ \"Low\",\n",
    "                        TRUE ~ \"NA\")\n",
    "          ) %>% mutate(MET = fct_rev(factor(MH, levels=c(\"Low\", \"Mid\", \"High\")))) %>% ungroup() %>% \n",
    "    filter(MH!=\"NA\") #%>% select(eid, endpoint, logh, logh_group)"
   ]
  },
  {
   "cell_type": "code",
   "execution_count": null,
   "metadata": {},
   "outputs": [],
   "source": [
    "require(\"ggquickeda\")\n",
    "plot_width = 50; plot_height=75; plot_res = 320\n",
    "options(repr.plot.width = plot_width, repr.plot.height = plot_height, repr.plot.res=plot_res)\n",
    "mh_map = c(\"High\"=\"#023768\", \"Mid\"=\"#4F8EC1\", \"Low\"=\"#7AC6FF\")\n",
    "\n",
    "endpoint_order = (phecode_defs %>% mutate(phecode_rank = as.numeric(phecode)) %>% arrange(phecode_rank) %>% as_tibble())$endpoint\n",
    "endpoint_selection = endpoint_order# %>% head(500)\n",
    "temp = logh_mh %>% mutate(endpoint = factor(endpoint, levels=endpoint_order)) %>% filter(endpoint %in% endpoint_selection) %>% ungroup() \n",
    "\n",
    "km_plot = ggplot(temp, aes(time = time, status = event, fill=MH, color=MH,group=MH)) +\n",
    "    geom_km(trans = \"event\") + \n",
    "    geom_kmticks(trans = \"event\", size=0.3) + geom_kmband(trans = \"event\") + \n",
    "    labs(x=\"Time [Years]\", y=\"Cumulative Events [%]\")+\n",
    "    scale_color_manual(values=met_map)+scale_fill_manual(values=mh_map)+\n",
    "    scale_y_continuous(labels = function(x) round(x*100, 1), expand=c(0, 0))+\n",
    "    scale_x_continuous(expand=expansion(add=c(0, .1)), breaks=c(5, 10))+\n",
    "    facet_wrap(~ endpoint, scale=\"free\", labeller = labeller(endpoint = endpoint_map), ncol=25) + theme(legend.position=\"none\")"
   ]
  },
  {
   "cell_type": "code",
   "execution_count": null,
   "metadata": {},
   "outputs": [],
   "source": [
    "plot_name = \"Retina_KMs_Top1\"\n",
    "km_plot %>% ggsave(filename=glue(\"outputs/{plot_name}.png\"), device=\"png\", width=plot_width, height=plot_height, dpi=plot_res, limitsize=FALSE)"
   ]
  },
  {
   "cell_type": "markdown",
   "metadata": {},
   "source": [
    "# Figure 2"
   ]
  },
  {
   "cell_type": "code",
   "execution_count": null,
   "metadata": {},
   "outputs": [],
   "source": [
    "plot_width=8.25; plot_height=10; plot_dpi=320\n",
    "options(repr.plot.width = plot_width, repr.plot.height = plot_height, repr.plot.res=plot_dpi)\n",
    "fig2 = met_events / km_plot# +plot_annotation(tag_levels = 'A')"
   ]
  },
  {
   "cell_type": "code",
   "execution_count": null,
   "metadata": {},
   "outputs": [],
   "source": [
    "fig2"
   ]
  },
  {
   "cell_type": "code",
   "execution_count": null,
   "metadata": {},
   "outputs": [],
   "source": [
    "library(gt)\n",
    "plot_name = \"Figures_2_AB\"\n",
    "fig2 %>% ggsave(filename=glue(\"outputs/{plot_name}.pdf\"), device=\"pdf\", width=plot_width, height=plot_height, dpi=320)"
   ]
  },
  {
   "cell_type": "code",
   "execution_count": null,
   "metadata": {},
   "outputs": [],
   "source": []
  }
 ],
 "metadata": {
  "hide_input": false,
  "kernelspec": {
   "display_name": "R",
   "language": "R",
   "name": "ir"
  },
  "language_info": {
   "codemirror_mode": "r",
   "file_extension": ".r",
   "mimetype": "text/x-r-source",
   "name": "R",
   "pygments_lexer": "r",
   "version": "4.0.2"
  },
  "toc-autonumbering": false
 },
 "nbformat": 4,
 "nbformat_minor": 4
}
