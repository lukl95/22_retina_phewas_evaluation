{
 "cells": [
  {
   "cell_type": "code",
   "execution_count": 1,
   "id": "224d3c2b-d627-405b-a9c8-6acb17b313ff",
   "metadata": {
    "execution": {
     "iopub.execute_input": "2022-11-21T09:45:36.025248Z",
     "iopub.status.busy": "2022-11-21T09:45:36.022919Z",
     "iopub.status.idle": "2022-11-21T09:45:39.709187Z",
     "shell.execute_reply": "2022-11-21T09:45:39.707496Z"
    }
   },
   "outputs": [
    {
     "name": "stderr",
     "output_type": "stream",
     "text": [
      "Warning message:\n",
      "“package ‘dtplyr’ was built under R version 4.0.3”\n",
      "Warning message:\n",
      "“package ‘tidyverse’ was built under R version 4.0.3”\n",
      "── \u001b[1mAttaching packages\u001b[22m ─────────────────────────────────────── tidyverse 1.3.1 ──\n",
      "\n",
      "\u001b[32m✔\u001b[39m \u001b[34mggplot2\u001b[39m 3.3.5     \u001b[32m✔\u001b[39m \u001b[34mpurrr  \u001b[39m 0.3.4\n",
      "\u001b[32m✔\u001b[39m \u001b[34mtibble \u001b[39m 3.1.7     \u001b[32m✔\u001b[39m \u001b[34mdplyr  \u001b[39m 1.0.9\n",
      "\u001b[32m✔\u001b[39m \u001b[34mtidyr  \u001b[39m 1.2.0     \u001b[32m✔\u001b[39m \u001b[34mstringr\u001b[39m 1.4.0\n",
      "\u001b[32m✔\u001b[39m \u001b[34mreadr  \u001b[39m 1.4.0     \u001b[32m✔\u001b[39m \u001b[34mforcats\u001b[39m 0.5.1\n",
      "\n",
      "Warning message:\n",
      "“package ‘ggplot2’ was built under R version 4.0.5”\n",
      "Warning message:\n",
      "“package ‘tibble’ was built under R version 4.0.5”\n",
      "Warning message:\n",
      "“package ‘tidyr’ was built under R version 4.0.5”\n",
      "Warning message:\n",
      "“package ‘readr’ was built under R version 4.0.5”\n",
      "Warning message:\n",
      "“package ‘purrr’ was built under R version 4.0.3”\n",
      "Warning message:\n",
      "“package ‘dplyr’ was built under R version 4.0.5”\n",
      "Warning message:\n",
      "“package ‘stringr’ was built under R version 4.0.5”\n",
      "Warning message:\n",
      "“package ‘forcats’ was built under R version 4.0.3”\n",
      "── \u001b[1mConflicts\u001b[22m ────────────────────────────────────────── tidyverse_conflicts() ──\n",
      "\u001b[31m✖\u001b[39m \u001b[34mdplyr\u001b[39m::\u001b[32mfilter()\u001b[39m masks \u001b[34mstats\u001b[39m::filter()\n",
      "\u001b[31m✖\u001b[39m \u001b[34mdplyr\u001b[39m::\u001b[32mlag()\u001b[39m    masks \u001b[34mstats\u001b[39m::lag()\n",
      "\n",
      "Warning message:\n",
      "“package ‘glue’ was built under R version 4.0.5”\n",
      "Warning message:\n",
      "“package ‘arrow’ was built under R version 4.0.5”\n",
      "\n",
      "Attaching package: ‘arrow’\n",
      "\n",
      "\n",
      "The following object is masked from ‘package:utils’:\n",
      "\n",
      "    timestamp\n",
      "\n",
      "\n",
      "Warning message:\n",
      "“package ‘patchwork’ was built under R version 4.0.3”\n",
      "Warning message:\n",
      "“package ‘data.table’ was built under R version 4.0.5”\n",
      "\n",
      "Attaching package: ‘data.table’\n",
      "\n",
      "\n",
      "The following objects are masked from ‘package:dplyr’:\n",
      "\n",
      "    between, first, last\n",
      "\n",
      "\n",
      "The following object is masked from ‘package:purrr’:\n",
      "\n",
      "    transpose\n",
      "\n",
      "\n",
      "Warning message:\n",
      "“package ‘jsonlite’ was built under R version 4.0.3”\n",
      "\n",
      "Attaching package: ‘jsonlite’\n",
      "\n",
      "\n",
      "The following object is masked from ‘package:purrr’:\n",
      "\n",
      "    flatten\n",
      "\n",
      "\n",
      "Warning message:\n",
      "“package ‘ggthemes’ was built under R version 4.0.3”\n"
     ]
    }
   ],
   "source": [
    "#library(Rmisc)\n",
    "library(dtplyr)\n",
    "library(tidyverse)\n",
    "library(glue)\n",
    "library(arrow)\n",
    "library(patchwork)\n",
    "library(data.table)\n",
    "library(\"jsonlite\")\n",
    "library(ggthemes)"
   ]
  },
  {
   "cell_type": "code",
   "execution_count": 2,
   "id": "ea03bd54-cb05-4627-bebe-bff3557a1bd3",
   "metadata": {
    "ExecuteTime": {
     "end_time": "2021-01-05T11:03:10.491477Z",
     "start_time": "2021-01-05T11:03:10.445Z"
    },
    "execution": {
     "iopub.execute_input": "2022-11-21T09:45:39.741231Z",
     "iopub.status.busy": "2022-11-21T09:45:39.711703Z",
     "iopub.status.idle": "2022-11-21T09:45:39.757154Z",
     "shell.execute_reply": "2022-11-21T09:45:39.756309Z"
    },
    "tags": []
   },
   "outputs": [
    {
     "name": "stdout",
     "output_type": "stream",
     "text": [
      "[1] \"/sc-projects/sc-proj-ukb-cvd\"\n"
     ]
    }
   ],
   "source": [
    "if (grepl(\"sc\", Sys.info()[[\"nodename\"]], fixed=TRUE)) {\n",
    "    base_path = \"/sc-projects/sc-proj-ukb-cvd\"\n",
    "} else {\n",
    "    base_path = \"/data/analysis/ag-reils/ag-reils-shared/cardioRS\"}\n",
    "print(base_path)\n",
    "\n",
    "project_label = \"22_retina_phewas\"\n",
    "project_path = glue(\"{base_path}/results/projects/{project_label}\")\n",
    "figure_path = glue(\"{project_path}/figures\")\n",
    "output_path = glue(\"{project_path}/data\")\n",
    "\n",
    "experiment = '221108'\n",
    "experiment_path = glue(\"{output_path}/{experiment}\")"
   ]
  },
  {
   "cell_type": "code",
   "execution_count": 18,
   "id": "02b36835-4936-4514-8aaf-ed85cede0667",
   "metadata": {
    "execution": {
     "iopub.execute_input": "2022-11-21T09:49:36.206959Z",
     "iopub.status.busy": "2022-11-21T09:49:36.205939Z",
     "iopub.status.idle": "2022-11-21T09:49:36.213231Z",
     "shell.execute_reply": "2022-11-21T09:49:36.212373Z"
    },
    "tags": []
   },
   "outputs": [],
   "source": [
    "dataset_path = \"/sc-projects/sc-proj-ukb-cvd/data/3_datasets_post/210714_metabolomics\""
   ]
  },
  {
   "cell_type": "code",
   "execution_count": null,
   "id": "88f93865-5dbe-457e-9752-d6b263111187",
   "metadata": {},
   "outputs": [],
   "source": []
  },
  {
   "cell_type": "code",
   "execution_count": 3,
   "id": "ddadfbf2-feca-4c27-886b-c5ec1d57bf44",
   "metadata": {
    "execution": {
     "iopub.execute_input": "2022-11-21T09:45:39.759150Z",
     "iopub.status.busy": "2022-11-21T09:45:39.758479Z",
     "iopub.status.idle": "2022-11-21T09:45:39.764763Z",
     "shell.execute_reply": "2022-11-21T09:45:39.763955Z"
    },
    "tags": []
   },
   "outputs": [],
   "source": [
    "today = '221109'"
   ]
  },
  {
   "cell_type": "code",
   "execution_count": 4,
   "id": "dcf02073-eadd-4a15-bf47-4e74e732bec5",
   "metadata": {
    "execution": {
     "iopub.execute_input": "2022-11-21T09:45:39.766682Z",
     "iopub.status.busy": "2022-11-21T09:45:39.766013Z",
     "iopub.status.idle": "2022-11-21T09:45:39.777621Z",
     "shell.execute_reply": "2022-11-21T09:45:39.776847Z"
    },
    "tags": []
   },
   "outputs": [],
   "source": [
    "base_size = 8\n",
    "title_size = 10\n",
    "facet_size = 10\n",
    "geom_text_size=3\n",
    "theme_set(theme_classic(base_size = base_size) + \n",
    "          theme(strip.background = element_blank(), plot.title=element_text(size=title_size, hjust=0), \n",
    "                strip.text.x = element_text(size = facet_size),axis.title=element_text(size=10), axis.text=element_text(size=8, color=\"black\"),\n",
    "                legend.position=\"bottom\", axis.line = element_line(size = 0.2), axis.ticks=element_line(size=0.2), panel.grid.major=element_line()))"
   ]
  },
  {
   "cell_type": "code",
   "execution_count": 5,
   "id": "a8ce0c40-1172-42d4-9abf-2ad0e05a5e74",
   "metadata": {
    "ExecuteTime": {
     "end_time": "2021-01-05T11:03:23.526022Z",
     "start_time": "2021-01-05T11:03:20.042Z"
    },
    "execution": {
     "iopub.execute_input": "2022-11-21T09:45:39.779548Z",
     "iopub.status.busy": "2022-11-21T09:45:39.778868Z",
     "iopub.status.idle": "2022-11-21T09:45:39.809827Z",
     "shell.execute_reply": "2022-11-21T09:45:39.808747Z"
    },
    "tags": []
   },
   "outputs": [],
   "source": [
    "colors_dict = read_json(\"colors.json\")\n",
    "color_map <- c(\n",
    "    \"Age+Sex\" = colors_dict$pastel$red$mid,\n",
    "    \"Retina\" = colors_dict$pastel$red$mid,\n",
    "    \"Age+Sex+Retina\" = colors_dict$pastel$red$mid,\n",
    "    'MultiTaskSurvivalTraining_None_InceptionResnetV2+MLP_Identity' = colors_dict$pastel$red$mid\n",
    "    #\"Identity(AgeSex)+MLP\" = colors_dict$pastel$red$mid,\n",
    "    #\"Identity(Records)+MLP\" = colors_dict$pastel$red$mid,\n",
    "    #\"GNN(Records)+MLP\" = colors_dict$pastel$red$mid,\n",
    "    #\"Identity(AgeSex+Records)+MLP\" = colors_dict$pastel$red$mid,\n",
    "    #\"GNN(AgeSex+Records)+MLP\" = colors_dict$pastel$red$mid\n",
    ")"
   ]
  },
  {
   "cell_type": "code",
   "execution_count": 6,
   "id": "1efa8c44-105c-451d-9e9f-df706d7bd3bc",
   "metadata": {
    "execution": {
     "iopub.execute_input": "2022-11-21T09:45:40.476138Z",
     "iopub.status.busy": "2022-11-21T09:45:40.474575Z",
     "iopub.status.idle": "2022-11-21T09:45:41.573565Z",
     "shell.execute_reply": "2022-11-21T09:45:41.572085Z"
    },
    "tags": []
   },
   "outputs": [],
   "source": [
    "endpoint_defs = arrow::read_feather(glue(\"{output_path}/phecode_defs_220306.feather\")) %>% arrange(endpoint)"
   ]
  },
  {
   "cell_type": "code",
   "execution_count": 7,
   "id": "2a9c5902-dac0-4bd8-9be3-7543944c7377",
   "metadata": {
    "execution": {
     "iopub.execute_input": "2022-11-21T09:45:41.576006Z",
     "iopub.status.busy": "2022-11-21T09:45:41.575158Z",
     "iopub.status.idle": "2022-11-21T09:45:41.589617Z",
     "shell.execute_reply": "2022-11-21T09:45:41.588778Z"
    },
    "tags": []
   },
   "outputs": [],
   "source": [
    "endpoint_map = endpoint_defs$phecode_string\n",
    "names(endpoint_map) =  endpoint_defs$endpoint\n",
    "endpoint_order = (endpoint_defs %>% arrange(as.numeric(phecode)))$endpoint"
   ]
  },
  {
   "cell_type": "code",
   "execution_count": 8,
   "id": "e908e629-bca1-4072-bb5e-4f198a0f4eb5",
   "metadata": {
    "execution": {
     "iopub.execute_input": "2022-11-21T09:45:41.591593Z",
     "iopub.status.busy": "2022-11-21T09:45:41.590901Z",
     "iopub.status.idle": "2022-11-21T09:45:41.601609Z",
     "shell.execute_reply": "2022-11-21T09:45:41.600828Z"
    },
    "tags": []
   },
   "outputs": [],
   "source": [
    "endpoint_selection = c(\n",
    "    # generally very important\n",
    "    \"phecode_202\", # Diabetes mellitus\n",
    "    \"phecode_401\",\t#Hypertension\"  \n",
    "    \"phecode_404\", # Ischemic heart disease   \n",
    "    \"phecode_404-1\", # Myocardial infarction [Heart attack]\n",
    "    \"phecode_431-11\", # Cerebral infarction [Ischemic stroke]\n",
    "    \"phecode_424\", # Heart failure\n",
    "\n",
    "    \n",
    "    \"phecode_059-1\", # COVID 19\n",
    "    \"phecode_468\", # Pneumonia\n",
    "    \"phecode_474\", # Chronic obstructive pulmonary disease [COPD]\n",
    "      \n",
    "    \"phecode_286-2\", #\tMajor depressive disorder\n",
    "    \"phecode_324-11\", #Parkinson's Disease\n",
    "    \"phecode_328\", # Dementias and cerebral degeneration\n",
    "\n",
    "    \n",
    "    \"phecode_164\", # Anemia\n",
    "    \"phecode_726-1\", # Osteoporosis\n",
    "    \"phecode_371\", # Cataract\n",
    "    \"phecode_374-42\", # Diabetic retinopathy\n",
    "    \"phecode_374-5\", # Macular degeneration\n",
    "    \"phecode_375-1\", # Glaucoma\n",
    "    \n",
    "    \n",
    "    \"phecode_103\", # Malignant neoplasm of the skin\n",
    "    \"phecode_101\", # Malignant neoplasm of the digestive organs\n",
    "    \"phecode_102\", # LUNG CANCER\n",
    "    \n",
    "    \"phecode_583\", # Chronic kidney disease    \n",
    "    \"phecode_542\", # Chronic liver disease and sequelae    \n",
    "    \"OMOP_4306655\" # All-Cause Death\n",
    "    \n",
    "    # also generally important and relevant\n",
    "    #\"phecode_440-3\", # Pulmonary embolism\n",
    "    #\"phecode_468-1\",\t#Viral pneumonia\n",
    "#     \"phecode_460-2\",\t#Acute lower respiratory infection\n",
    "    #\"phecode_388\" # Blindness and low vision\n",
    "      # generally important and fun to check\n",
    "   # \"phecode_374-3\", # Retinal vascular changes and occlusions\n",
    "    #\"phecode_665\", # Psoriasis\n",
    "#     \"phecode_121\", # Leukemia\n",
    "    # important for eye\n",
    "#     \"phecode_705-1\", # Rheumatoid arthritis\n",
    ")\n",
    "\n",
    "endpoints_common = c(\n",
    "   'phecode_164', #Anemia\n",
    " 'phecode_705-1', #Rheumatoid arthritis\n",
    " 'phecode_328', #Dementias and cerebral degeneration\n",
    " 'phecode_328-1', #Alzheimer's disease\n",
    " 'phecode_401', #Hypertension\n",
    " 'phecode_202', #Diabetes mellitus\n",
    " 'phecode_416-21', #Atrial fibrillation\n",
    " 'phecode_404-1', #Myocardial infarction [Heart attack]\n",
    " 'phecode_424', #Heart failure\n",
    " 'phecode_468', #Pneumonia\n",
    " 'phecode_474', #Chronic obstructive pulmonary disease [COPD]\n",
    " 'phecode_583', #Chronic kidney disease\n",
    " 'OMOP_4306655' #All-Cause Death\n",
    "    )\n",
    "    \n",
    "endpoints_cardio = c(\n",
    "    'phecode_438-11',   #  \"Abdominal aortic aneurysm\",\n",
    "    'phecode_440-3',#  \"Pulmonary embolism\", # intervention\n",
    "    'phecode_413-21',#  \"Aortic stenosis\", # intervention\n",
    "    'phecode_400'#  \"Rheumatic fever and chronic rheumatic heart diseases\",\t\n",
    ")\n",
    "\n",
    "endpoints_eye= c(\n",
    "    'phecode_374-5', #Macular degeneration\n",
    " 'phecode_374-51', #Age-related macular degeneration\n",
    " 'phecode_374-42', #Diabetic retinopathy\n",
    " 'phecode_371', #Cataract\n",
    " 'phecode_388', #Blindness and low vision\n",
    " 'phecode_367-5', #Uveitis\n",
    " 'phecode_389-1' #Ocular pain\n",
    ")"
   ]
  },
  {
   "cell_type": "code",
   "execution_count": 9,
   "id": "f127ca6a-7039-43b6-9851-f303601c382b",
   "metadata": {
    "execution": {
     "iopub.execute_input": "2022-11-21T09:45:42.514450Z",
     "iopub.status.busy": "2022-11-21T09:45:42.513439Z",
     "iopub.status.idle": "2022-11-21T09:45:42.536001Z",
     "shell.execute_reply": "2022-11-21T09:45:42.535173Z"
    },
    "tags": []
   },
   "outputs": [],
   "source": [
    "endpoint_defs = endpoint_defs %>% \n",
    "    mutate(name = phecode_string) %>%\n",
    "    mutate(name = \n",
    "           case_when( \n",
    "               phecode_string == \"Myocardial infarction [Heart attack]\"~\"Myocardial infarction\",\n",
    "               phecode_string == \"Cerebral infarction [Ischemic stroke]\"~\"Ischemic stroke\",\n",
    "               phecode_string == \"Chronic obstructive pulmonary disease [COPD]\"~\"Chronic obstructive pulmonary disease\",\n",
    "               phecode_string == \"Mitral valve insufficiency\"~\"Mitral insufficiency\",\n",
    "               phecode_string == \"Parkinson's disease (Primary)\"~\"Parkinson's disease\",\n",
    "               phecode_string == \"Suicide ideation and attempt or self harm\"~\"Suicide attempt\",\n",
    "               phecode_string == \"Ischemic heart disease\"~\"Coronary heart disease\",\n",
    "               phecode_string == \"Chronic kidney disease\"~\"Chronic kidney disease\",\n",
    "               phecode_string == \"Rheumatic fever and chronic rheumatic heart diseases\"~\"Rheumatic heart disease\",\n",
    "               phecode_string == \"Abdominal aortic aneurysm\"~\"Abdominal aortic aneurysm\",\n",
    "                  TRUE ~ name)\n",
    "           )\n",
    "            \n",
    "endpoint_map = endpoint_defs$name\n",
    "names(endpoint_map) =  endpoint_defs$endpoint\n",
    "#endpoint_order = (endpoint_defs %>% arrange(as.numeric(phecode)))$endpoint\n",
    "endpoint_order = endpoint_selection"
   ]
  },
  {
   "cell_type": "code",
   "execution_count": 10,
   "id": "3467b890-ede8-4922-b638-e528f7eaf888",
   "metadata": {
    "execution": {
     "iopub.execute_input": "2022-11-21T09:45:43.242930Z",
     "iopub.status.busy": "2022-11-21T09:45:43.242259Z",
     "iopub.status.idle": "2022-11-21T09:45:43.247990Z",
     "shell.execute_reply": "2022-11-21T09:45:43.247231Z"
    },
    "tags": []
   },
   "outputs": [],
   "source": [
    "endpoints_cardio = c(\n",
    "    'phecode_431-11', #  \"Cerebral infarction [Ischemic stroke]\",\n",
    "    'phecode_404', #  \"Ischemic heart disease\",\n",
    "    'phecode_404-1', #  \"Myocardial infarction [Heart attack]\", # intervention\n",
    "    'phecode_424', #  \"Heart failure\", # intervention\n",
    "     'OMOP_4306655', #  \"All-Cause Death\", # intervention\n",
    "    'phecode_420' #  \"Cardiac arrest\", # intervention\n",
    "   \n",
    ")"
   ]
  },
  {
   "cell_type": "markdown",
   "id": "ccb1eb54-1a4e-4b2d-bf6a-1078ed0ff5ac",
   "metadata": {},
   "source": [
    "## Load data"
   ]
  },
  {
   "cell_type": "code",
   "execution_count": 11,
   "id": "3f712d78-29fa-405b-b9f2-8eb1feaff5a9",
   "metadata": {
    "execution": {
     "iopub.execute_input": "2022-11-21T09:45:45.301431Z",
     "iopub.status.busy": "2022-11-21T09:45:45.300673Z",
     "iopub.status.idle": "2022-11-21T09:46:03.047158Z",
     "shell.execute_reply": "2022-11-21T09:46:03.045820Z"
    },
    "tags": []
   },
   "outputs": [
    {
     "name": "stderr",
     "output_type": "stream",
     "text": [
      "Warning message:\n",
      "“Coercing dictionary values to R character factor levels”\n"
     ]
    }
   ],
   "source": [
    "eligable_eids = arrow::read_feather(glue(\"{output_path}/eligable_eids_long_{today}.feather\")) %>% \n",
    "    filter(endpoint %in% endpoint_selection) %>% \n",
    "    mutate(endpoint = as.character(endpoint)) %>%\n",
    "    mutate(eid = as.numeric(as.character(eid))) %>%\n",
    "    mutate(included = 1)"
   ]
  },
  {
   "cell_type": "code",
   "execution_count": 12,
   "id": "a7cd2f36-a4e5-4547-bee4-3e9b5d5bb01a",
   "metadata": {
    "execution": {
     "iopub.execute_input": "2022-11-21T09:46:03.049468Z",
     "iopub.status.busy": "2022-11-21T09:46:03.048714Z",
     "iopub.status.idle": "2022-11-21T09:47:39.229642Z",
     "shell.execute_reply": "2022-11-21T09:47:39.228478Z"
    },
    "tags": []
   },
   "outputs": [],
   "source": [
    "data_outcomes = arrow::read_feather(glue(\"{output_path}/baseline_outcomes_long_220627.feather\", as_data_frame=FALSE)) %>% \n",
    "    filter(endpoint %in% endpoint_selection) %>% left_join(eligable_eids, by=c(\"eid\", \"endpoint\"))"
   ]
  },
  {
   "cell_type": "code",
   "execution_count": 13,
   "id": "fbebcc31-bbdc-487c-b368-1a8891748d5c",
   "metadata": {
    "execution": {
     "iopub.execute_input": "2022-11-21T09:47:39.231666Z",
     "iopub.status.busy": "2022-11-21T09:47:39.230983Z",
     "iopub.status.idle": "2022-11-21T09:47:39.248258Z",
     "shell.execute_reply": "2022-11-21T09:47:39.247514Z"
    },
    "tags": []
   },
   "outputs": [
    {
     "data": {
      "text/html": [
       "<style>\n",
       ".list-inline {list-style: none; margin:0; padding: 0}\n",
       ".list-inline>li {display: inline-block}\n",
       ".list-inline>li:not(:last-child)::after {content: \"\\00b7\"; padding: 0 .5ex}\n",
       "</style>\n",
       "<ol class=list-inline><li>0</li><li>1</li><li>2</li><li>3</li><li>4</li><li>5</li><li>6</li><li>7</li><li>8</li><li>9</li><li>10</li><li>11</li><li>12</li><li>13</li><li>14</li><li>15</li><li>16</li><li>17</li><li>18</li><li>19</li><li>20</li><li>21</li></ol>\n"
      ],
      "text/latex": [
       "\\begin{enumerate*}\n",
       "\\item 0\n",
       "\\item 1\n",
       "\\item 2\n",
       "\\item 3\n",
       "\\item 4\n",
       "\\item 5\n",
       "\\item 6\n",
       "\\item 7\n",
       "\\item 8\n",
       "\\item 9\n",
       "\\item 10\n",
       "\\item 11\n",
       "\\item 12\n",
       "\\item 13\n",
       "\\item 14\n",
       "\\item 15\n",
       "\\item 16\n",
       "\\item 17\n",
       "\\item 18\n",
       "\\item 19\n",
       "\\item 20\n",
       "\\item 21\n",
       "\\end{enumerate*}\n"
      ],
      "text/markdown": [
       "1. 0\n",
       "2. 1\n",
       "3. 2\n",
       "4. 3\n",
       "5. 4\n",
       "6. 5\n",
       "7. 6\n",
       "8. 7\n",
       "9. 8\n",
       "10. 9\n",
       "11. 10\n",
       "12. 11\n",
       "13. 12\n",
       "14. 13\n",
       "15. 14\n",
       "16. 15\n",
       "17. 16\n",
       "18. 17\n",
       "19. 18\n",
       "20. 19\n",
       "21. 20\n",
       "22. 21\n",
       "\n",
       "\n"
      ],
      "text/plain": [
       " [1]  0  1  2  3  4  5  6  7  8  9 10 11 12 13 14 15 16 17 18 19 20 21"
      ]
     },
     "metadata": {},
     "output_type": "display_data"
    }
   ],
   "source": [
    "partitions = 0:21\n",
    "crop_ratio = \"0.66\" # 0.3, 0.5, 0.8\n",
    "partitions\n",
    "paths = c()\n",
    "for (p in partitions){\n",
    "    #temp_path = glue(\"{experiment_path}/loghs/Identity(Records)+MLP/{p}/test.feather\")\n",
    "    temp_path = glue(\"{experiment_path}/loghs/ImageTraining_[]_ConvNeXt_MLPHead_predictions_cropratio{crop_ratio}/{p}/test.feather\")\n",
    "    paths = c(paths, temp_path)\n",
    "    }"
   ]
  },
  {
   "cell_type": "code",
   "execution_count": 14,
   "id": "7f1b82b8-32da-446e-93ef-eec4829eaff6",
   "metadata": {
    "execution": {
     "iopub.execute_input": "2022-11-21T09:47:39.249968Z",
     "iopub.status.busy": "2022-11-21T09:47:39.249348Z",
     "iopub.status.idle": "2022-11-21T09:47:40.938366Z",
     "shell.execute_reply": "2022-11-21T09:47:40.937484Z"
    },
    "tags": []
   },
   "outputs": [
    {
     "name": "stderr",
     "output_type": "stream",
     "text": [
      "Note: Using an external vector in selections is ambiguous.\n",
      "\u001b[34mℹ\u001b[39m Use `all_of(endpoint_selection)` instead of `endpoint_selection` to silence this message.\n",
      "\u001b[34mℹ\u001b[39m See <https://tidyselect.r-lib.org/reference/faq-external-vector.html>.\n",
      "\u001b[90mThis message is displayed once per session.\u001b[39m\n"
     ]
    },
    {
     "data": {
      "text/html": [
       "<table class=\"dataframe\">\n",
       "<caption>A tibble: 6 × 3</caption>\n",
       "<thead>\n",
       "\t<tr><th scope=col>endpoint</th><th scope=col>eid</th><th scope=col>logh</th></tr>\n",
       "\t<tr><th scope=col>&lt;chr&gt;</th><th scope=col>&lt;int&gt;</th><th scope=col>&lt;dbl&gt;</th></tr>\n",
       "</thead>\n",
       "<tbody>\n",
       "\t<tr><td>phecode_202   </td><td>1475840</td><td>-0.41421801</td></tr>\n",
       "\t<tr><td>phecode_401   </td><td>1475840</td><td> 0.97795552</td></tr>\n",
       "\t<tr><td>phecode_404   </td><td>1475840</td><td>-0.36773050</td></tr>\n",
       "\t<tr><td>phecode_404-1 </td><td>1475840</td><td> 0.04391166</td></tr>\n",
       "\t<tr><td>phecode_431-11</td><td>1475840</td><td> 2.29117942</td></tr>\n",
       "\t<tr><td>phecode_424   </td><td>1475840</td><td> 0.49617302</td></tr>\n",
       "</tbody>\n",
       "</table>\n"
      ],
      "text/latex": [
       "A tibble: 6 × 3\n",
       "\\begin{tabular}{lll}\n",
       " endpoint & eid & logh\\\\\n",
       " <chr> & <int> & <dbl>\\\\\n",
       "\\hline\n",
       "\t phecode\\_202    & 1475840 & -0.41421801\\\\\n",
       "\t phecode\\_401    & 1475840 &  0.97795552\\\\\n",
       "\t phecode\\_404    & 1475840 & -0.36773050\\\\\n",
       "\t phecode\\_404-1  & 1475840 &  0.04391166\\\\\n",
       "\t phecode\\_431-11 & 1475840 &  2.29117942\\\\\n",
       "\t phecode\\_424    & 1475840 &  0.49617302\\\\\n",
       "\\end{tabular}\n"
      ],
      "text/markdown": [
       "\n",
       "A tibble: 6 × 3\n",
       "\n",
       "| endpoint &lt;chr&gt; | eid &lt;int&gt; | logh &lt;dbl&gt; |\n",
       "|---|---|---|\n",
       "| phecode_202    | 1475840 | -0.41421801 |\n",
       "| phecode_401    | 1475840 |  0.97795552 |\n",
       "| phecode_404    | 1475840 | -0.36773050 |\n",
       "| phecode_404-1  | 1475840 |  0.04391166 |\n",
       "| phecode_431-11 | 1475840 |  2.29117942 |\n",
       "| phecode_424    | 1475840 |  0.49617302 |\n",
       "\n"
      ],
      "text/plain": [
       "  endpoint       eid     logh       \n",
       "1 phecode_202    1475840 -0.41421801\n",
       "2 phecode_401    1475840  0.97795552\n",
       "3 phecode_404    1475840 -0.36773050\n",
       "4 phecode_404-1  1475840  0.04391166\n",
       "5 phecode_431-11 1475840  2.29117942\n",
       "6 phecode_424    1475840  0.49617302"
      ]
     },
     "metadata": {},
     "output_type": "display_data"
    }
   ],
   "source": [
    "predictions = paths %>% map_df(\n",
    "    ~suppressWarnings(read_feather(., col_select=c(\"eid\", all_of(endpoint_selection)))) %>% \n",
    "    pivot_longer(endpoint_selection, names_to=\"endpoint\", values_to=\"logh\") %>%\n",
    "    mutate(eid = as.integer(as.character(eid))) %>%\n",
    "    select(endpoint, eid, logh))# %>% arrange(endpoint, eid)\n",
    "predictions %>% head()"
   ]
  },
  {
   "cell_type": "code",
   "execution_count": 15,
   "id": "dbcb196e-348e-428e-8dc3-6a507661d189",
   "metadata": {
    "execution": {
     "iopub.execute_input": "2022-11-21T09:49:07.096310Z",
     "iopub.status.busy": "2022-11-21T09:49:07.095292Z",
     "iopub.status.idle": "2022-11-21T09:49:11.355799Z",
     "shell.execute_reply": "2022-11-21T09:49:11.354375Z"
    },
    "tags": []
   },
   "outputs": [
    {
     "name": "stderr",
     "output_type": "stream",
     "text": [
      "\u001b[1m\u001b[22mJoining, by = c(\"endpoint\", \"eid\")\n"
     ]
    }
   ],
   "source": [
    "pred_outcomes = predictions %>% left_join(data_outcomes, on=c(eid, endpoint)) %>% as_tibble()"
   ]
  },
  {
   "cell_type": "code",
   "execution_count": 26,
   "id": "9e52af6c-54be-4b5c-9844-aa10b878fb82",
   "metadata": {
    "execution": {
     "iopub.execute_input": "2022-11-21T09:51:23.693301Z",
     "iopub.status.busy": "2022-11-21T09:51:23.692370Z",
     "iopub.status.idle": "2022-11-21T09:51:23.917545Z",
     "shell.execute_reply": "2022-11-21T09:51:23.916403Z"
    },
    "tags": []
   },
   "outputs": [],
   "source": [
    "logh_inc = pred_outcomes %>% filter(included==1) %>% group_by(endpoint) %>% mutate(logh_perc = ntile(logh, 100)) %>% ungroup() %>% as_tibble()"
   ]
  },
  {
   "cell_type": "code",
   "execution_count": 19,
   "id": "0a1c5955-28d8-4e0c-a48f-012074e0f34b",
   "metadata": {
    "ExecuteTime": {
     "end_time": "2021-01-05T07:55:31.574426Z",
     "start_time": "2021-01-05T07:55:04.259Z"
    },
    "execution": {
     "iopub.execute_input": "2022-11-21T09:49:50.399643Z",
     "iopub.status.busy": "2022-11-21T09:49:50.398731Z",
     "iopub.status.idle": "2022-11-21T09:49:58.875787Z",
     "shell.execute_reply": "2022-11-21T09:49:58.874650Z"
    },
    "tags": []
   },
   "outputs": [],
   "source": [
    "data = arrow::read_feather(glue(\"{dataset_path}/data_merged.feather\")) %>% filter(eid %in% unique(data_outcomes$eid))\n",
    "data_description = arrow::read_feather(glue(\"{dataset_path}/description.feather\"))"
   ]
  },
  {
   "cell_type": "code",
   "execution_count": 20,
   "id": "f25c1dbe-6334-41d1-80ca-51f6c9ddafc1",
   "metadata": {
    "execution": {
     "iopub.execute_input": "2022-11-21T09:50:00.120110Z",
     "iopub.status.busy": "2022-11-21T09:50:00.119120Z",
     "iopub.status.idle": "2022-11-21T09:50:00.251748Z",
     "shell.execute_reply": "2022-11-21T09:50:00.250882Z"
    },
    "tags": []
   },
   "outputs": [
    {
     "name": "stderr",
     "output_type": "stream",
     "text": [
      "Warning message:\n",
      "“Missing column names filled in: 'X1' [1]”\n",
      "\n",
      "\u001b[36m──\u001b[39m \u001b[1mColumn specification\u001b[22m \u001b[36m────────────────────────────────────────────────────────\u001b[39m\n",
      "cols(\n",
      "  X1 = \u001b[32mcol_double()\u001b[39m,\n",
      "  retina_eids = \u001b[32mcol_double()\u001b[39m\n",
      ")\n",
      "\n"
     ]
    }
   ],
   "source": [
    "eids_with_retina = read_csv(\"/sc-projects/sc-proj-ukb-cvd/data/retina/eids.csv\")"
   ]
  },
  {
   "cell_type": "code",
   "execution_count": 22,
   "id": "923d48b1-a02d-41ad-b6a6-a268feb1c080",
   "metadata": {
    "execution": {
     "iopub.execute_input": "2022-11-21T09:50:37.015698Z",
     "iopub.status.busy": "2022-11-21T09:50:37.014658Z",
     "iopub.status.idle": "2022-11-21T09:50:37.624199Z",
     "shell.execute_reply": "2022-11-21T09:50:37.623023Z"
    },
    "tags": []
   },
   "outputs": [],
   "source": [
    "data = data %>% filter(eid %in% eids_with_retina$retina_eids) %>% \n",
    "    mutate(erectile_dysfunction = case_when(sex==\"Female\" ~ FALSE, TRUE ~ erectile_dysfunction))"
   ]
  },
  {
   "cell_type": "code",
   "execution_count": 23,
   "id": "f5bf9041-5f54-4578-9b6c-ee21668b5744",
   "metadata": {
    "ExecuteTime": {
     "end_time": "2021-01-05T07:55:32.625039Z",
     "start_time": "2021-01-05T07:55:06.938Z"
    },
    "execution": {
     "iopub.execute_input": "2022-11-21T09:50:40.430492Z",
     "iopub.status.busy": "2022-11-21T09:50:40.429629Z",
     "iopub.status.idle": "2022-11-21T09:50:40.523853Z",
     "shell.execute_reply": "2022-11-21T09:50:40.522808Z"
    },
    "tags": []
   },
   "outputs": [],
   "source": [
    "data = data %>% mutate_at(c(\"sex\", \"overall_health_rating\", \"smoking_status\", \"ethnic_background\"), as.factor)\n",
    "data = data %>% mutate(sex=fct_relevel(sex, c(\"Male\", \"Female\")),\n",
    "                       overall_health_rating=fct_relevel(overall_health_rating, c(\"Excellent\", \"Good\", \"Fair\", \"Poor\")),\n",
    "                       smoking_status=fct_relevel(smoking_status, c(\"Current\", \"Previous\", \"Never\")))"
   ]
  },
  {
   "cell_type": "code",
   "execution_count": 24,
   "id": "386bc5bd-0386-4f0a-b9ef-4264077a9105",
   "metadata": {
    "execution": {
     "iopub.execute_input": "2022-11-21T09:50:47.260185Z",
     "iopub.status.busy": "2022-11-21T09:50:47.259284Z",
     "iopub.status.idle": "2022-11-21T09:50:47.435983Z",
     "shell.execute_reply": "2022-11-21T09:50:47.434986Z"
    }
   },
   "outputs": [
    {
     "data": {
      "text/html": [
       "<table class=\"dataframe\">\n",
       "<caption>A tibble: 6 × 3214</caption>\n",
       "<thead>\n",
       "\t<tr><th scope=col>eid</th><th scope=col>age_at_recruitment</th><th scope=col>sex</th><th scope=col>ethnic_background</th><th scope=col>townsend_deprivation_index_at_recruitment</th><th scope=col>date_of_attending_assessment_centre</th><th scope=col>uk_biobank_assessment_centre</th><th scope=col>birth_date</th><th scope=col>overall_health_rating</th><th scope=col>smoking_status</th><th scope=col>⋯</th><th scope=col>death_cvd_comp_event</th><th scope=col>death_cvd_comp_event_time</th><th scope=col>SCORE_comp_event</th><th scope=col>SCORE_comp_event_time</th><th scope=col>ASCVD_comp_event</th><th scope=col>ASCVD_comp_event_time</th><th scope=col>QRISK3_comp_event</th><th scope=col>QRISK3_comp_event_time</th><th scope=col>MACE_comp_event</th><th scope=col>MACE_comp_event_time</th></tr>\n",
       "\t<tr><th scope=col>&lt;int&gt;</th><th scope=col>&lt;dbl&gt;</th><th scope=col>&lt;fct&gt;</th><th scope=col>&lt;fct&gt;</th><th scope=col>&lt;dbl&gt;</th><th scope=col>&lt;date&gt;</th><th scope=col>&lt;chr&gt;</th><th scope=col>&lt;date&gt;</th><th scope=col>&lt;ord&gt;</th><th scope=col>&lt;ord&gt;</th><th scope=col>⋯</th><th scope=col>&lt;int&gt;</th><th scope=col>&lt;dbl&gt;</th><th scope=col>&lt;int&gt;</th><th scope=col>&lt;dbl&gt;</th><th scope=col>&lt;int&gt;</th><th scope=col>&lt;dbl&gt;</th><th scope=col>&lt;int&gt;</th><th scope=col>&lt;dbl&gt;</th><th scope=col>&lt;int&gt;</th><th scope=col>&lt;dbl&gt;</th></tr>\n",
       "</thead>\n",
       "<tbody>\n",
       "\t<tr><td>1000128</td><td>50</td><td>Female</td><td>White</td><td> 2.5319300</td><td>2010-02-11</td><td>Sheffield</td><td>1960-02-11</td><td>Good</td><td>Previous</td><td>⋯</td><td>0</td><td>11.11020</td><td>0</td><td>11.11020</td><td>0</td><td>11.11020</td><td>0</td><td>11.11020</td><td>0</td><td>11.11020</td></tr>\n",
       "\t<tr><td>1000206</td><td>43</td><td>Male  </td><td>White</td><td>-4.1669500</td><td>2010-05-22</td><td>Sheffield</td><td>1967-05-22</td><td>Good</td><td>Previous</td><td>⋯</td><td>0</td><td>10.83641</td><td>0</td><td>10.83641</td><td>0</td><td>10.83641</td><td>0</td><td>10.83641</td><td>0</td><td>10.83641</td></tr>\n",
       "\t<tr><td>1000212</td><td>64</td><td>Female</td><td>White</td><td>-0.0607392</td><td>2010-06-23</td><td>Sheffield</td><td>1946-06-23</td><td>Good</td><td>Never   </td><td>⋯</td><td>0</td><td>10.74880</td><td>0</td><td>10.74880</td><td>0</td><td>10.74880</td><td>0</td><td>10.74880</td><td>0</td><td>10.74880</td></tr>\n",
       "\t<tr><td>1000270</td><td>68</td><td>Female</td><td>White</td><td>-2.3972600</td><td>2010-05-24</td><td>Sheffield</td><td>1942-05-24</td><td>Good</td><td>Never   </td><td>⋯</td><td>0</td><td>10.83094</td><td>0</td><td>10.83094</td><td>0</td><td>10.83094</td><td>0</td><td>10.83094</td><td>0</td><td>10.83094</td></tr>\n",
       "\t<tr><td>1000355</td><td>42</td><td>Male  </td><td>White</td><td>-1.1800500</td><td>2010-02-08</td><td>Sheffield</td><td>1968-02-08</td><td>Good</td><td>Never   </td><td>⋯</td><td>0</td><td>11.11841</td><td>0</td><td>11.11841</td><td>0</td><td>11.11841</td><td>0</td><td>11.11841</td><td>0</td><td>11.11841</td></tr>\n",
       "\t<tr><td>1000475</td><td>52</td><td>Female</td><td>White</td><td> 0.1423740</td><td>2010-06-03</td><td>Sheffield</td><td>1958-06-03</td><td>Fair</td><td>Never   </td><td>⋯</td><td>0</td><td>10.80356</td><td>0</td><td>10.80356</td><td>0</td><td>10.80356</td><td>0</td><td>10.80356</td><td>0</td><td>10.80356</td></tr>\n",
       "</tbody>\n",
       "</table>\n"
      ],
      "text/latex": [
       "A tibble: 6 × 3214\n",
       "\\begin{tabular}{lllllllllllllllllllll}\n",
       " eid & age\\_at\\_recruitment & sex & ethnic\\_background & townsend\\_deprivation\\_index\\_at\\_recruitment & date\\_of\\_attending\\_assessment\\_centre & uk\\_biobank\\_assessment\\_centre & birth\\_date & overall\\_health\\_rating & smoking\\_status & ⋯ & death\\_cvd\\_comp\\_event & death\\_cvd\\_comp\\_event\\_time & SCORE\\_comp\\_event & SCORE\\_comp\\_event\\_time & ASCVD\\_comp\\_event & ASCVD\\_comp\\_event\\_time & QRISK3\\_comp\\_event & QRISK3\\_comp\\_event\\_time & MACE\\_comp\\_event & MACE\\_comp\\_event\\_time\\\\\n",
       " <int> & <dbl> & <fct> & <fct> & <dbl> & <date> & <chr> & <date> & <ord> & <ord> & ⋯ & <int> & <dbl> & <int> & <dbl> & <int> & <dbl> & <int> & <dbl> & <int> & <dbl>\\\\\n",
       "\\hline\n",
       "\t 1000128 & 50 & Female & White &  2.5319300 & 2010-02-11 & Sheffield & 1960-02-11 & Good & Previous & ⋯ & 0 & 11.11020 & 0 & 11.11020 & 0 & 11.11020 & 0 & 11.11020 & 0 & 11.11020\\\\\n",
       "\t 1000206 & 43 & Male   & White & -4.1669500 & 2010-05-22 & Sheffield & 1967-05-22 & Good & Previous & ⋯ & 0 & 10.83641 & 0 & 10.83641 & 0 & 10.83641 & 0 & 10.83641 & 0 & 10.83641\\\\\n",
       "\t 1000212 & 64 & Female & White & -0.0607392 & 2010-06-23 & Sheffield & 1946-06-23 & Good & Never    & ⋯ & 0 & 10.74880 & 0 & 10.74880 & 0 & 10.74880 & 0 & 10.74880 & 0 & 10.74880\\\\\n",
       "\t 1000270 & 68 & Female & White & -2.3972600 & 2010-05-24 & Sheffield & 1942-05-24 & Good & Never    & ⋯ & 0 & 10.83094 & 0 & 10.83094 & 0 & 10.83094 & 0 & 10.83094 & 0 & 10.83094\\\\\n",
       "\t 1000355 & 42 & Male   & White & -1.1800500 & 2010-02-08 & Sheffield & 1968-02-08 & Good & Never    & ⋯ & 0 & 11.11841 & 0 & 11.11841 & 0 & 11.11841 & 0 & 11.11841 & 0 & 11.11841\\\\\n",
       "\t 1000475 & 52 & Female & White &  0.1423740 & 2010-06-03 & Sheffield & 1958-06-03 & Fair & Never    & ⋯ & 0 & 10.80356 & 0 & 10.80356 & 0 & 10.80356 & 0 & 10.80356 & 0 & 10.80356\\\\\n",
       "\\end{tabular}\n"
      ],
      "text/markdown": [
       "\n",
       "A tibble: 6 × 3214\n",
       "\n",
       "| eid &lt;int&gt; | age_at_recruitment &lt;dbl&gt; | sex &lt;fct&gt; | ethnic_background &lt;fct&gt; | townsend_deprivation_index_at_recruitment &lt;dbl&gt; | date_of_attending_assessment_centre &lt;date&gt; | uk_biobank_assessment_centre &lt;chr&gt; | birth_date &lt;date&gt; | overall_health_rating &lt;ord&gt; | smoking_status &lt;ord&gt; | ⋯ ⋯ | death_cvd_comp_event &lt;int&gt; | death_cvd_comp_event_time &lt;dbl&gt; | SCORE_comp_event &lt;int&gt; | SCORE_comp_event_time &lt;dbl&gt; | ASCVD_comp_event &lt;int&gt; | ASCVD_comp_event_time &lt;dbl&gt; | QRISK3_comp_event &lt;int&gt; | QRISK3_comp_event_time &lt;dbl&gt; | MACE_comp_event &lt;int&gt; | MACE_comp_event_time &lt;dbl&gt; |\n",
       "|---|---|---|---|---|---|---|---|---|---|---|---|---|---|---|---|---|---|---|---|---|\n",
       "| 1000128 | 50 | Female | White |  2.5319300 | 2010-02-11 | Sheffield | 1960-02-11 | Good | Previous | ⋯ | 0 | 11.11020 | 0 | 11.11020 | 0 | 11.11020 | 0 | 11.11020 | 0 | 11.11020 |\n",
       "| 1000206 | 43 | Male   | White | -4.1669500 | 2010-05-22 | Sheffield | 1967-05-22 | Good | Previous | ⋯ | 0 | 10.83641 | 0 | 10.83641 | 0 | 10.83641 | 0 | 10.83641 | 0 | 10.83641 |\n",
       "| 1000212 | 64 | Female | White | -0.0607392 | 2010-06-23 | Sheffield | 1946-06-23 | Good | Never    | ⋯ | 0 | 10.74880 | 0 | 10.74880 | 0 | 10.74880 | 0 | 10.74880 | 0 | 10.74880 |\n",
       "| 1000270 | 68 | Female | White | -2.3972600 | 2010-05-24 | Sheffield | 1942-05-24 | Good | Never    | ⋯ | 0 | 10.83094 | 0 | 10.83094 | 0 | 10.83094 | 0 | 10.83094 | 0 | 10.83094 |\n",
       "| 1000355 | 42 | Male   | White | -1.1800500 | 2010-02-08 | Sheffield | 1968-02-08 | Good | Never    | ⋯ | 0 | 11.11841 | 0 | 11.11841 | 0 | 11.11841 | 0 | 11.11841 | 0 | 11.11841 |\n",
       "| 1000475 | 52 | Female | White |  0.1423740 | 2010-06-03 | Sheffield | 1958-06-03 | Fair | Never    | ⋯ | 0 | 10.80356 | 0 | 10.80356 | 0 | 10.80356 | 0 | 10.80356 | 0 | 10.80356 |\n",
       "\n"
      ],
      "text/plain": [
       "  eid     age_at_recruitment sex    ethnic_background\n",
       "1 1000128 50                 Female White            \n",
       "2 1000206 43                 Male   White            \n",
       "3 1000212 64                 Female White            \n",
       "4 1000270 68                 Female White            \n",
       "5 1000355 42                 Male   White            \n",
       "6 1000475 52                 Female White            \n",
       "  townsend_deprivation_index_at_recruitment date_of_attending_assessment_centre\n",
       "1  2.5319300                                2010-02-11                         \n",
       "2 -4.1669500                                2010-05-22                         \n",
       "3 -0.0607392                                2010-06-23                         \n",
       "4 -2.3972600                                2010-05-24                         \n",
       "5 -1.1800500                                2010-02-08                         \n",
       "6  0.1423740                                2010-06-03                         \n",
       "  uk_biobank_assessment_centre birth_date overall_health_rating smoking_status\n",
       "1 Sheffield                    1960-02-11 Good                  Previous      \n",
       "2 Sheffield                    1967-05-22 Good                  Previous      \n",
       "3 Sheffield                    1946-06-23 Good                  Never         \n",
       "4 Sheffield                    1942-05-24 Good                  Never         \n",
       "5 Sheffield                    1968-02-08 Good                  Never         \n",
       "6 Sheffield                    1958-06-03 Fair                  Never         \n",
       "  ⋯ death_cvd_comp_event death_cvd_comp_event_time SCORE_comp_event\n",
       "1 ⋯ 0                    11.11020                  0               \n",
       "2 ⋯ 0                    10.83641                  0               \n",
       "3 ⋯ 0                    10.74880                  0               \n",
       "4 ⋯ 0                    10.83094                  0               \n",
       "5 ⋯ 0                    11.11841                  0               \n",
       "6 ⋯ 0                    10.80356                  0               \n",
       "  SCORE_comp_event_time ASCVD_comp_event ASCVD_comp_event_time\n",
       "1 11.11020              0                11.11020             \n",
       "2 10.83641              0                10.83641             \n",
       "3 10.74880              0                10.74880             \n",
       "4 10.83094              0                10.83094             \n",
       "5 11.11841              0                11.11841             \n",
       "6 10.80356              0                10.80356             \n",
       "  QRISK3_comp_event QRISK3_comp_event_time MACE_comp_event MACE_comp_event_time\n",
       "1 0                 11.11020               0               11.11020            \n",
       "2 0                 10.83641               0               10.83641            \n",
       "3 0                 10.74880               0               10.74880            \n",
       "4 0                 10.83094               0               10.83094            \n",
       "5 0                 11.11841               0               11.11841            \n",
       "6 0                 10.80356               0               10.80356            "
      ]
     },
     "metadata": {},
     "output_type": "display_data"
    }
   ],
   "source": [
    "data %>% head()"
   ]
  },
  {
   "cell_type": "code",
   "execution_count": 30,
   "id": "9928d1b2-6c75-4cf2-9d0b-122b68a29093",
   "metadata": {
    "execution": {
     "iopub.execute_input": "2022-11-21T11:34:14.793628Z",
     "iopub.status.busy": "2022-11-21T11:34:14.792917Z",
     "iopub.status.idle": "2022-11-21T11:34:15.612264Z",
     "shell.execute_reply": "2022-11-21T11:34:15.611277Z"
    },
    "tags": []
   },
   "outputs": [],
   "source": [
    "arrow::write_feather(data, './outputs/baseline_data.feather')"
   ]
  },
  {
   "cell_type": "code",
   "execution_count": 25,
   "id": "8e5db0cf-80ca-4eb1-aabd-3efb2a72f772",
   "metadata": {
    "execution": {
     "iopub.execute_input": "2022-11-21T09:50:57.408897Z",
     "iopub.status.busy": "2022-11-21T09:50:57.407968Z",
     "iopub.status.idle": "2022-11-21T09:50:57.421819Z",
     "shell.execute_reply": "2022-11-21T09:50:57.420972Z"
    }
   },
   "outputs": [
    {
     "data": {
      "text/html": [
       "<table class=\"dataframe\">\n",
       "<caption>A tibble: 6 × 8</caption>\n",
       "<thead>\n",
       "\t<tr><th scope=col>endpoint</th><th scope=col>eid</th><th scope=col>logh</th><th scope=col>prev</th><th scope=col>event</th><th scope=col>time</th><th scope=col>included</th><th scope=col>logh_perc</th></tr>\n",
       "\t<tr><th scope=col>&lt;chr&gt;</th><th scope=col>&lt;dbl&gt;</th><th scope=col>&lt;dbl&gt;</th><th scope=col>&lt;lgl&gt;</th><th scope=col>&lt;lgl&gt;</th><th scope=col>&lt;dbl&gt;</th><th scope=col>&lt;dbl&gt;</th><th scope=col>&lt;int&gt;</th></tr>\n",
       "</thead>\n",
       "<tbody>\n",
       "\t<tr><td>phecode_431-11</td><td>1475840</td><td> 2.2911794</td><td>FALSE</td><td>FALSE</td><td>6.817389</td><td>1</td><td>6</td></tr>\n",
       "\t<tr><td>phecode_424   </td><td>1475840</td><td> 0.4961730</td><td>FALSE</td><td> TRUE</td><td>4.364134</td><td>1</td><td>5</td></tr>\n",
       "\t<tr><td>phecode_059-1 </td><td>1475840</td><td> 1.9812680</td><td>FALSE</td><td>FALSE</td><td>6.817389</td><td>1</td><td>4</td></tr>\n",
       "\t<tr><td>phecode_468   </td><td>1475840</td><td>-0.1743940</td><td>FALSE</td><td>FALSE</td><td>6.817389</td><td>1</td><td>4</td></tr>\n",
       "\t<tr><td>phecode_474   </td><td>1475840</td><td>-0.3750526</td><td>FALSE</td><td>FALSE</td><td>6.817389</td><td>1</td><td>4</td></tr>\n",
       "\t<tr><td>phecode_286-2 </td><td>1475840</td><td> 0.4728370</td><td>FALSE</td><td>FALSE</td><td>6.817389</td><td>1</td><td>1</td></tr>\n",
       "</tbody>\n",
       "</table>\n"
      ],
      "text/latex": [
       "A tibble: 6 × 8\n",
       "\\begin{tabular}{llllllll}\n",
       " endpoint & eid & logh & prev & event & time & included & logh\\_perc\\\\\n",
       " <chr> & <dbl> & <dbl> & <lgl> & <lgl> & <dbl> & <dbl> & <int>\\\\\n",
       "\\hline\n",
       "\t phecode\\_431-11 & 1475840 &  2.2911794 & FALSE & FALSE & 6.817389 & 1 & 6\\\\\n",
       "\t phecode\\_424    & 1475840 &  0.4961730 & FALSE &  TRUE & 4.364134 & 1 & 5\\\\\n",
       "\t phecode\\_059-1  & 1475840 &  1.9812680 & FALSE & FALSE & 6.817389 & 1 & 4\\\\\n",
       "\t phecode\\_468    & 1475840 & -0.1743940 & FALSE & FALSE & 6.817389 & 1 & 4\\\\\n",
       "\t phecode\\_474    & 1475840 & -0.3750526 & FALSE & FALSE & 6.817389 & 1 & 4\\\\\n",
       "\t phecode\\_286-2  & 1475840 &  0.4728370 & FALSE & FALSE & 6.817389 & 1 & 1\\\\\n",
       "\\end{tabular}\n"
      ],
      "text/markdown": [
       "\n",
       "A tibble: 6 × 8\n",
       "\n",
       "| endpoint &lt;chr&gt; | eid &lt;dbl&gt; | logh &lt;dbl&gt; | prev &lt;lgl&gt; | event &lt;lgl&gt; | time &lt;dbl&gt; | included &lt;dbl&gt; | logh_perc &lt;int&gt; |\n",
       "|---|---|---|---|---|---|---|---|\n",
       "| phecode_431-11 | 1475840 |  2.2911794 | FALSE | FALSE | 6.817389 | 1 | 6 |\n",
       "| phecode_424    | 1475840 |  0.4961730 | FALSE |  TRUE | 4.364134 | 1 | 5 |\n",
       "| phecode_059-1  | 1475840 |  1.9812680 | FALSE | FALSE | 6.817389 | 1 | 4 |\n",
       "| phecode_468    | 1475840 | -0.1743940 | FALSE | FALSE | 6.817389 | 1 | 4 |\n",
       "| phecode_474    | 1475840 | -0.3750526 | FALSE | FALSE | 6.817389 | 1 | 4 |\n",
       "| phecode_286-2  | 1475840 |  0.4728370 | FALSE | FALSE | 6.817389 | 1 | 1 |\n",
       "\n"
      ],
      "text/plain": [
       "  endpoint       eid     logh       prev  event time     included logh_perc\n",
       "1 phecode_431-11 1475840  2.2911794 FALSE FALSE 6.817389 1        6        \n",
       "2 phecode_424    1475840  0.4961730 FALSE  TRUE 4.364134 1        5        \n",
       "3 phecode_059-1  1475840  1.9812680 FALSE FALSE 6.817389 1        4        \n",
       "4 phecode_468    1475840 -0.1743940 FALSE FALSE 6.817389 1        4        \n",
       "5 phecode_474    1475840 -0.3750526 FALSE FALSE 6.817389 1        4        \n",
       "6 phecode_286-2  1475840  0.4728370 FALSE FALSE 6.817389 1        1        "
      ]
     },
     "metadata": {},
     "output_type": "display_data"
    }
   ],
   "source": [
    "logh_inc %>% head()"
   ]
  },
  {
   "cell_type": "code",
   "execution_count": 28,
   "id": "db28ea17-04e0-4d00-9ef4-28f397582618",
   "metadata": {
    "execution": {
     "iopub.execute_input": "2022-11-21T11:33:34.807287Z",
     "iopub.status.busy": "2022-11-21T11:33:34.806443Z",
     "iopub.status.idle": "2022-11-21T11:33:35.230479Z",
     "shell.execute_reply": "2022-11-21T11:33:35.229452Z"
    },
    "tags": []
   },
   "outputs": [],
   "source": [
    "logh_inc %>% arrow::write_feather('./outputs/logh_inc.feather')"
   ]
  },
  {
   "cell_type": "markdown",
   "id": "e5c0603e-1c26-4278-801f-aa1487085566",
   "metadata": {},
   "source": [
    "# PLOT THE IMG GRID"
   ]
  },
  {
   "cell_type": "code",
   "execution_count": null,
   "id": "d6a2a292-8d07-445c-b01c-9cb83cde68d4",
   "metadata": {},
   "outputs": [],
   "source": [
    "img = "
   ]
  },
  {
   "cell_type": "code",
   "execution_count": null,
   "id": "9294f645-8453-4b49-a1f1-5c6d67656766",
   "metadata": {},
   "outputs": [],
   "source": [
    "image_ggplot(img, interpolate = FALSE)"
   ]
  }
 ],
 "metadata": {
  "kernelspec": {
   "display_name": "R",
   "language": "R",
   "name": "ir"
  },
  "language_info": {
   "codemirror_mode": "r",
   "file_extension": ".r",
   "mimetype": "text/x-r-source",
   "name": "R",
   "pygments_lexer": "r",
   "version": "4.0.2"
  }
 },
 "nbformat": 4,
 "nbformat_minor": 5
}
