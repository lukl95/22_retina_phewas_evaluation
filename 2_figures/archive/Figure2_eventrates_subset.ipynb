{
 "cells": [
  {
   "cell_type": "markdown",
   "metadata": {},
   "source": [
    "# Benchmarks"
   ]
  },
  {
   "cell_type": "markdown",
   "metadata": {},
   "source": [
    "## Initialize"
   ]
  },
  {
   "cell_type": "code",
   "execution_count": 1,
   "metadata": {
    "ExecuteTime": {
     "end_time": "2021-01-05T11:03:09.852316Z",
     "start_time": "2021-01-05T11:03:07.701Z"
    }
   },
   "outputs": [
    {
     "name": "stderr",
     "output_type": "stream",
     "text": [
      "Warning message:\n",
      "“package ‘tidyverse’ was built under R version 4.0.3”\n",
      "── \u001b[1mAttaching packages\u001b[22m ─────────────────────────────────────── tidyverse 1.3.1 ──\n",
      "\n",
      "\u001b[32m✔\u001b[39m \u001b[34mggplot2\u001b[39m 3.3.5     \u001b[32m✔\u001b[39m \u001b[34mpurrr  \u001b[39m 0.3.4\n",
      "\u001b[32m✔\u001b[39m \u001b[34mtibble \u001b[39m 3.1.6     \u001b[32m✔\u001b[39m \u001b[34mdplyr  \u001b[39m 1.0.7\n",
      "\u001b[32m✔\u001b[39m \u001b[34mtidyr  \u001b[39m 1.1.4     \u001b[32m✔\u001b[39m \u001b[34mstringr\u001b[39m 1.4.0\n",
      "\u001b[32m✔\u001b[39m \u001b[34mreadr  \u001b[39m 1.4.0     \u001b[32m✔\u001b[39m \u001b[34mforcats\u001b[39m 0.5.1\n",
      "\n",
      "Warning message:\n",
      "“package ‘ggplot2’ was built under R version 4.0.5”\n",
      "Warning message:\n",
      "“package ‘readr’ was built under R version 4.0.5”\n",
      "Warning message:\n",
      "“package ‘purrr’ was built under R version 4.0.3”\n",
      "Warning message:\n",
      "“package ‘dplyr’ was built under R version 4.0.5”\n",
      "Warning message:\n",
      "“package ‘stringr’ was built under R version 4.0.5”\n",
      "Warning message:\n",
      "“package ‘forcats’ was built under R version 4.0.3”\n",
      "── \u001b[1mConflicts\u001b[22m ────────────────────────────────────────── tidyverse_conflicts() ──\n",
      "\u001b[31m✖\u001b[39m \u001b[34mdplyr\u001b[39m::\u001b[32mfilter()\u001b[39m masks \u001b[34mstats\u001b[39m::filter()\n",
      "\u001b[31m✖\u001b[39m \u001b[34mdplyr\u001b[39m::\u001b[32mlag()\u001b[39m    masks \u001b[34mstats\u001b[39m::lag()\n",
      "\n",
      "Warning message:\n",
      "“package ‘arrow’ was built under R version 4.0.3”\n",
      "\n",
      "Attaching package: ‘arrow’\n",
      "\n",
      "\n",
      "The following object is masked from ‘package:utils’:\n",
      "\n",
      "    timestamp\n",
      "\n",
      "\n",
      "\n",
      "Attaching package: ‘data.table’\n",
      "\n",
      "\n",
      "The following objects are masked from ‘package:dplyr’:\n",
      "\n",
      "    between, first, last\n",
      "\n",
      "\n",
      "The following object is masked from ‘package:purrr’:\n",
      "\n",
      "    transpose\n",
      "\n",
      "\n",
      "Warning message:\n",
      "“package ‘jsonlite’ was built under R version 4.0.3”\n",
      "\n",
      "Attaching package: ‘jsonlite’\n",
      "\n",
      "\n",
      "The following object is masked from ‘package:purrr’:\n",
      "\n",
      "    flatten\n",
      "\n",
      "\n",
      "Warning message:\n",
      "“package ‘ggthemes’ was built under R version 4.0.3”\n"
     ]
    }
   ],
   "source": [
    "#library(Rmisc)\n",
    "library(dtplyr)\n",
    "library(tidyverse)\n",
    "library(glue)\n",
    "library(arrow)\n",
    "library(patchwork)\n",
    "library(data.table)\n",
    "library(\"jsonlite\")\n",
    "library(ggthemes)"
   ]
  },
  {
   "cell_type": "code",
   "execution_count": 2,
   "metadata": {
    "ExecuteTime": {
     "end_time": "2021-01-05T11:03:10.491477Z",
     "start_time": "2021-01-05T11:03:10.445Z"
    }
   },
   "outputs": [
    {
     "name": "stdout",
     "output_type": "stream",
     "text": [
      "[1] \"/sc-projects/sc-proj-ukb-cvd\"\n"
     ]
    }
   ],
   "source": [
    "if (grepl(\"sc\", Sys.info()[[\"nodename\"]], fixed=TRUE)) {\n",
    "    base_path = \"/sc-projects/sc-proj-ukb-cvd\"\n",
    "} else {\n",
    "    base_path = \"/data/analysis/ag-reils/ag-reils-shared/cardioRS\"}\n",
    "print(base_path)\n",
    "\n",
    "project_label=\"22_medical_records\"\n",
    "project_path = glue(\"{base_path}/results/projects/{project_label}\")\n",
    "figure_path = glue(\"{project_path}/figures\")\n",
    "output_path = glue(\"{project_path}/data\")"
   ]
  },
  {
   "cell_type": "code",
   "execution_count": 3,
   "metadata": {},
   "outputs": [],
   "source": [
    "data_outcomes = lazy_dt(arrow::read_feather(glue(\"{output_path}/baseline_outcomes_220223.feather\")))"
   ]
  },
  {
   "cell_type": "raw",
   "metadata": {},
   "source": [
    "partitions = 0:5\n",
    "\n",
    "pred_list = list()\n",
    "for (p in partitions){\n",
    "    pred_list[p] = append(pred_list, arrow::read_feather(glue(\"{output_path}/predictions/predictions_partition{p}_220223.feather\"), as_data_frame=TRUE) %>% select(-split))\n",
    "    }"
   ]
  },
  {
   "cell_type": "code",
   "execution_count": 4,
   "metadata": {},
   "outputs": [],
   "source": [
    "model = \"GNN(Records)+MLP\""
   ]
  },
  {
   "cell_type": "code",
   "execution_count": 5,
   "metadata": {},
   "outputs": [
    {
     "name": "stderr",
     "output_type": "stream",
     "text": [
      "Warning message:\n",
      "“Coercing dictionary values to R character factor levels”\n",
      "Warning message:\n",
      "“Coercing dictionary values to R character factor levels”\n",
      "Warning message:\n",
      "“Coercing dictionary values to R character factor levels”\n",
      "Warning message:\n",
      "“Coercing dictionary values to R character factor levels”\n",
      "Warning message:\n",
      "“Coercing dictionary values to R character factor levels”\n",
      "Warning message:\n",
      "“Coercing dictionary values to R character factor levels”\n",
      "Warning message:\n",
      "“Coercing dictionary values to R character factor levels”\n",
      "Warning message:\n",
      "“Coercing dictionary values to R character factor levels”\n",
      "Warning message:\n",
      "“Coercing dictionary values to R character factor levels”\n",
      "Warning message:\n",
      "“Coercing dictionary values to R character factor levels”\n",
      "Warning message:\n",
      "“Coercing dictionary values to R character factor levels”\n",
      "Warning message:\n",
      "“Coercing dictionary values to R character factor levels”\n",
      "Warning message:\n",
      "“Coercing dictionary values to R character factor levels”\n",
      "Warning message:\n",
      "“Coercing dictionary values to R character factor levels”\n",
      "Warning message:\n",
      "“Coercing dictionary values to R character factor levels”\n",
      "Warning message:\n",
      "“Coercing dictionary values to R character factor levels”\n",
      "Warning message:\n",
      "“Coercing dictionary values to R character factor levels”\n",
      "Warning message:\n",
      "“Coercing dictionary values to R character factor levels”\n",
      "Warning message:\n",
      "“Coercing dictionary values to R character factor levels”\n",
      "Warning message:\n",
      "“Coercing dictionary values to R character factor levels”\n",
      "Warning message:\n",
      "“Coercing dictionary values to R character factor levels”\n",
      "Warning message:\n",
      "“Coercing dictionary values to R character factor levels”\n"
     ]
    }
   ],
   "source": [
    "p0 = arrow::read_feather(glue(\"{output_path}/predictions/predictions_partition0_220223.feather\"), as_data_frame=TRUE) %>% select(-split) %>% filter(model==!!model) \n",
    "p1 = arrow::read_feather(glue(\"{output_path}/predictions/predictions_partition1_220223.feather\"), as_data_frame=TRUE) %>% select(-split) %>% filter(model==!!model) \n",
    "p2 = arrow::read_feather(glue(\"{output_path}/predictions/predictions_partition2_220223.feather\"), as_data_frame=TRUE) %>% select(-split) %>% filter(model==!!model) \n",
    "p3 = arrow::read_feather(glue(\"{output_path}/predictions/predictions_partition3_220223.feather\"), as_data_frame=TRUE) %>% select(-split) %>% filter(model==!!model) \n",
    "p4 = arrow::read_feather(glue(\"{output_path}/predictions/predictions_partition4_220223.feather\"), as_data_frame=TRUE) %>% select(-split) %>% filter(model==!!model) \n",
    "p5 = arrow::read_feather(glue(\"{output_path}/predictions/predictions_partition5_220223.feather\"), as_data_frame=TRUE) %>% select(-split) %>% filter(model==!!model) \n",
    "p6 = arrow::read_feather(glue(\"{output_path}/predictions/predictions_partition6_220223.feather\"), as_data_frame=TRUE) %>% select(-split) %>% filter(model==!!model) \n",
    "p7 = arrow::read_feather(glue(\"{output_path}/predictions/predictions_partition7_220223.feather\"), as_data_frame=TRUE) %>% select(-split) %>% filter(model==!!model) \n",
    "p8 = arrow::read_feather(glue(\"{output_path}/predictions/predictions_partition8_220223.feather\"), as_data_frame=TRUE) %>% select(-split) %>% filter(model==!!model) \n",
    "p9 = arrow::read_feather(glue(\"{output_path}/predictions/predictions_partition9_220223.feather\"), as_data_frame=TRUE) %>% select(-split) %>% filter(model==!!model) \n",
    "p10 = arrow::read_feather(glue(\"{output_path}/predictions/predictions_partition10_220223.feather\"), as_data_frame=TRUE) %>% select(-split) %>% filter(model==!!model) \n",
    "p11 = arrow::read_feather(glue(\"{output_path}/predictions/predictions_partition11_220223.feather\"), as_data_frame=TRUE) %>% select(-split) %>% filter(model==!!model) \n",
    "p12 = arrow::read_feather(glue(\"{output_path}/predictions/predictions_partition12_220223.feather\"), as_data_frame=TRUE) %>% select(-split) %>% filter(model==!!model) \n",
    "p13 = arrow::read_feather(glue(\"{output_path}/predictions/predictions_partition13_220223.feather\"), as_data_frame=TRUE) %>% select(-split) %>% filter(model==!!model) \n",
    "p14 = arrow::read_feather(glue(\"{output_path}/predictions/predictions_partition14_220223.feather\"), as_data_frame=TRUE) %>% select(-split) %>% filter(model==!!model) \n",
    "p15 = arrow::read_feather(glue(\"{output_path}/predictions/predictions_partition15_220223.feather\"), as_data_frame=TRUE) %>% select(-split) %>% filter(model==!!model) \n",
    "p16 = arrow::read_feather(glue(\"{output_path}/predictions/predictions_partition16_220223.feather\"), as_data_frame=TRUE) %>% select(-split) %>% filter(model==!!model) \n",
    "p17 = arrow::read_feather(glue(\"{output_path}/predictions/predictions_partition17_220223.feather\"), as_data_frame=TRUE) %>% select(-split) %>% filter(model==!!model) \n",
    "p18 = arrow::read_feather(glue(\"{output_path}/predictions/predictions_partition18_220223.feather\"), as_data_frame=TRUE) %>% select(-split) %>% filter(model==!!model) \n",
    "p19 = arrow::read_feather(glue(\"{output_path}/predictions/predictions_partition19_220223.feather\"), as_data_frame=TRUE) %>% select(-split) %>% filter(model==!!model) \n",
    "p20 = arrow::read_feather(glue(\"{output_path}/predictions/predictions_partition20_220223.feather\"), as_data_frame=TRUE) %>% select(-split) %>% filter(model==!!model) \n",
    "p21 = arrow::read_feather(glue(\"{output_path}/predictions/predictions_partition21_220223.feather\"), as_data_frame=TRUE) %>% select(-split) %>% filter(model==!!model) "
   ]
  },
  {
   "cell_type": "code",
   "execution_count": 6,
   "metadata": {},
   "outputs": [],
   "source": [
    "predictions = lazy_dt(bind_rows(p0, p1, p2, p3, p4, p5, p6, p7, p8, p9, p10, p11, p12, p13, p14)) "
   ]
  },
  {
   "cell_type": "code",
   "execution_count": 7,
   "metadata": {},
   "outputs": [],
   "source": [
    "base_size = 8\n",
    "title_size = 10\n",
    "facet_size = 10\n",
    "geom_text_size=3\n",
    "theme_set(theme_classic(base_size = base_size) + \n",
    "          theme(strip.background = element_blank(), plot.title=element_text(size=title_size, hjust=0), \n",
    "                strip.text.x = element_text(size = facet_size),axis.title=element_text(size=10), axis.text=element_text(size=8, color=\"black\"),\n",
    "                legend.position=\"bottom\", axis.line = element_line(size = 0.2), axis.ticks=element_line(size=0.2)))"
   ]
  },
  {
   "cell_type": "code",
   "execution_count": 8,
   "metadata": {
    "ExecuteTime": {
     "end_time": "2021-01-05T11:03:23.526022Z",
     "start_time": "2021-01-05T11:03:20.042Z"
    }
   },
   "outputs": [],
   "source": [
    "colors_dict = read_json(\"colors.json\")\n",
    "color_map <- c(\n",
    "    \"Identity(AgeSex)+MLP\" = colors_dict$pastel$red$mid,\n",
    "    \"Identity(Records)+MLP\" = colors_dict$pastel$red$mid,\n",
    "    \"GNN(Records)+MLP\" = colors_dict$pastel$red$mid,\n",
    "    \"Identity(AgeSex+Records)+MLP\" = colors_dict$pastel$red$mid,\n",
    "    \"GNN(AgeSex+Records)+MLP\" = colors_dict$pastel$red$mid\n",
    ")"
   ]
  },
  {
   "cell_type": "code",
   "execution_count": 9,
   "metadata": {},
   "outputs": [
    {
     "name": "stderr",
     "output_type": "stream",
     "text": [
      "Warning message:\n",
      "“Expected 2 pieces. Missing pieces filled with `NA` in 691 rows [1, 2, 3, 4, 5, 6, 7, 8, 9, 15, 18, 20, 21, 24, 25, 26, 27, 29, 30, 31, ...].”\n"
     ]
    },
    {
     "data": {
      "text/html": [
       "<table class=\"dataframe\">\n",
       "<caption>A tibble: 5 × 8</caption>\n",
       "<thead>\n",
       "\t<tr><th scope=col>phecode</th><th scope=col>endpoint</th><th scope=col>phecode_string</th><th scope=col>phecode_category</th><th scope=col>sex</th><th scope=col>ICD10_only</th><th scope=col>phecode_top</th><th scope=col>leaf</th></tr>\n",
       "\t<tr><th scope=col>&lt;chr&gt;</th><th scope=col>&lt;glue&gt;</th><th scope=col>&lt;chr&gt;</th><th scope=col>&lt;chr&gt;</th><th scope=col>&lt;chr&gt;</th><th scope=col>&lt;int&gt;</th><th scope=col>&lt;chr&gt;</th><th scope=col>&lt;int&gt;</th></tr>\n",
       "</thead>\n",
       "<tbody>\n",
       "\t<tr><td>975.23</td><td>phecode_975-23</td><td>Mucositis (ulcerative) due to antineoplastic therapy</td><td>Rx    </td><td>Both  </td><td>0</td><td>975</td><td>1</td></tr>\n",
       "\t<tr><td>416.11</td><td>phecode_416-11</td><td>Supraventricular tachycardia                        </td><td>Cardio</td><td>Both  </td><td>0</td><td>416</td><td>1</td></tr>\n",
       "\t<tr><td>249.2 </td><td>phecode_249-2 </td><td>Light chain (AL) amyloidosis*                       </td><td>Metab </td><td>Both  </td><td>1</td><td>249</td><td>1</td></tr>\n",
       "\t<tr><td>928   </td><td>phecode_928   </td><td>Poor fetal growth and uterine size date discrepancy </td><td>Preg  </td><td>Female</td><td>0</td><td>928</td><td>1</td></tr>\n",
       "\t<tr><td>232.23</td><td>phecode_232-23</td><td>Niacin deficiency [Vitamin B3]                      </td><td>Metab </td><td>Both  </td><td>0</td><td>232</td><td>1</td></tr>\n",
       "</tbody>\n",
       "</table>\n"
      ],
      "text/latex": [
       "A tibble: 5 × 8\n",
       "\\begin{tabular}{llllllll}\n",
       " phecode & endpoint & phecode\\_string & phecode\\_category & sex & ICD10\\_only & phecode\\_top & leaf\\\\\n",
       " <chr> & <glue> & <chr> & <chr> & <chr> & <int> & <chr> & <int>\\\\\n",
       "\\hline\n",
       "\t 975.23 & phecode\\_975-23 & Mucositis (ulcerative) due to antineoplastic therapy & Rx     & Both   & 0 & 975 & 1\\\\\n",
       "\t 416.11 & phecode\\_416-11 & Supraventricular tachycardia                         & Cardio & Both   & 0 & 416 & 1\\\\\n",
       "\t 249.2  & phecode\\_249-2  & Light chain (AL) amyloidosis*                        & Metab  & Both   & 1 & 249 & 1\\\\\n",
       "\t 928    & phecode\\_928    & Poor fetal growth and uterine size date discrepancy  & Preg   & Female & 0 & 928 & 1\\\\\n",
       "\t 232.23 & phecode\\_232-23 & Niacin deficiency {[}Vitamin B3{]}                       & Metab  & Both   & 0 & 232 & 1\\\\\n",
       "\\end{tabular}\n"
      ],
      "text/markdown": [
       "\n",
       "A tibble: 5 × 8\n",
       "\n",
       "| phecode &lt;chr&gt; | endpoint &lt;glue&gt; | phecode_string &lt;chr&gt; | phecode_category &lt;chr&gt; | sex &lt;chr&gt; | ICD10_only &lt;int&gt; | phecode_top &lt;chr&gt; | leaf &lt;int&gt; |\n",
       "|---|---|---|---|---|---|---|---|\n",
       "| 975.23 | phecode_975-23 | Mucositis (ulcerative) due to antineoplastic therapy | Rx     | Both   | 0 | 975 | 1 |\n",
       "| 416.11 | phecode_416-11 | Supraventricular tachycardia                         | Cardio | Both   | 0 | 416 | 1 |\n",
       "| 249.2  | phecode_249-2  | Light chain (AL) amyloidosis*                        | Metab  | Both   | 1 | 249 | 1 |\n",
       "| 928    | phecode_928    | Poor fetal growth and uterine size date discrepancy  | Preg   | Female | 0 | 928 | 1 |\n",
       "| 232.23 | phecode_232-23 | Niacin deficiency [Vitamin B3]                       | Metab  | Both   | 0 | 232 | 1 |\n",
       "\n"
      ],
      "text/plain": [
       "  phecode endpoint       phecode_string                                      \n",
       "1 975.23  phecode_975-23 Mucositis (ulcerative) due to antineoplastic therapy\n",
       "2 416.11  phecode_416-11 Supraventricular tachycardia                        \n",
       "3 249.2   phecode_249-2  Light chain (AL) amyloidosis*                       \n",
       "4 928     phecode_928    Poor fetal growth and uterine size date discrepancy \n",
       "5 232.23  phecode_232-23 Niacin deficiency [Vitamin B3]                      \n",
       "  phecode_category sex    ICD10_only phecode_top leaf\n",
       "1 Rx               Both   0          975         1   \n",
       "2 Cardio           Both   0          416         1   \n",
       "3 Metab            Both   1          249         1   \n",
       "4 Preg             Female 0          928         1   \n",
       "5 Metab            Both   0          232         1   "
      ]
     },
     "metadata": {},
     "output_type": "display_data"
    }
   ],
   "source": [
    "phecode_defs_path = \"/sc-projects/sc-proj-ukb-cvd/data/mapping/phecodes/phecode_strings_V2.csv\"\n",
    "phecode_defs = fread(phecode_defs_path, colClasses=c(\"character\", \"character\", \"character\", \"character\", \"integer\", \"character\", \"integer\"))#, dtype={\"phecode\": str}).sort_values(\"phecode\")\n",
    "phecode_defs = phecode_defs %>% add_row(phecode = \"4306655\", phecode_string = \"All-Cause Death\", phecode_category = \"Death\", sex=\"Both\")\n",
    "phecode_defs = phecode_defs %>% as_tibble %>% separate(phecode, into=c(\"first\", \"second\"), remove=FALSE) %>% \n",
    "    mutate(comb = str_remove_all(glue(\"{first}-{second}\"), \"-NA\")) %>%\n",
    "    mutate(endpoint=case_when(comb == \"4306655\" ~ glue(\"OMOP_{comb}\"),\n",
    "                              TRUE ~ glue(\"phecode_{comb}\"))) %>%\n",
    "    select(phecode, endpoint, everything(), -first, -second, -comb)\n",
    "phecode_defs %>% sample_n(5)"
   ]
  },
  {
   "cell_type": "code",
   "execution_count": 10,
   "metadata": {},
   "outputs": [
    {
     "data": {
      "text/html": [
       "<table class=\"dataframe\">\n",
       "<caption>A tibble: 1001 × 2</caption>\n",
       "<thead>\n",
       "\t<tr><th scope=col>endpoint</th><th scope=col>freq</th></tr>\n",
       "\t<tr><th scope=col>&lt;chr&gt;</th><th scope=col>&lt;dbl&gt;</th></tr>\n",
       "</thead>\n",
       "<tbody>\n",
       "\t<tr><td>phecode_401   </td><td>0.22535619</td></tr>\n",
       "\t<tr><td>phecode_401-1 </td><td>0.22471804</td></tr>\n",
       "\t<tr><td>phecode_089   </td><td>0.15780744</td></tr>\n",
       "\t<tr><td>phecode_708   </td><td>0.15229671</td></tr>\n",
       "\t<tr><td>phecode_130   </td><td>0.13742835</td></tr>\n",
       "\t<tr><td>phecode_239   </td><td>0.12403000</td></tr>\n",
       "\t<tr><td>phecode_460   </td><td>0.12011161</td></tr>\n",
       "\t<tr><td>phecode_522   </td><td>0.11723963</td></tr>\n",
       "\t<tr><td>phecode_239-1 </td><td>0.11561741</td></tr>\n",
       "\t<tr><td>phecode_239-11</td><td>0.11505754</td></tr>\n",
       "\t<tr><td>phecode_520   </td><td>0.11434372</td></tr>\n",
       "\t<tr><td>phecode_089-1 </td><td>0.10775269</td></tr>\n",
       "\t<tr><td>phecode_529   </td><td>0.10700399</td></tr>\n",
       "\t<tr><td>phecode_523   </td><td>0.10367653</td></tr>\n",
       "\t<tr><td>phecode_136   </td><td>0.09966550</td></tr>\n",
       "\t<tr><td>phecode_089-2 </td><td>0.09941754</td></tr>\n",
       "\t<tr><td>phecode_371   </td><td>0.09877229</td></tr>\n",
       "\t<tr><td>phecode_841   </td><td>0.09507235</td></tr>\n",
       "\t<tr><td>phecode_809   </td><td>0.09435873</td></tr>\n",
       "\t<tr><td>phecode_713   </td><td>0.09340738</td></tr>\n",
       "\t<tr><td>phecode_523-2 </td><td>0.09340313</td></tr>\n",
       "\t<tr><td>phecode_718   </td><td>0.09331696</td></tr>\n",
       "\t<tr><td>phecode_511   </td><td>0.09291299</td></tr>\n",
       "\t<tr><td>phecode_527   </td><td>0.08812583</td></tr>\n",
       "\t<tr><td>phecode_460-2 </td><td>0.08750542</td></tr>\n",
       "\t<tr><td>phecode_416   </td><td>0.08633466</td></tr>\n",
       "\t<tr><td>phecode_713-3 </td><td>0.08528803</td></tr>\n",
       "\t<tr><td>phecode_660   </td><td>0.08407277</td></tr>\n",
       "\t<tr><td>phecode_136-4 </td><td>0.08359950</td></tr>\n",
       "\t<tr><td>phecode_988   </td><td>0.07557528</td></tr>\n",
       "\t<tr><td>⋮</td><td>⋮</td></tr>\n",
       "\t<tr><td>phecode_342   </td><td>0.0013188065</td></tr>\n",
       "\t<tr><td>phecode_174-1 </td><td>0.0012542930</td></tr>\n",
       "\t<tr><td>phecode_121-12</td><td>0.0012402132</td></tr>\n",
       "\t<tr><td>phecode_101-21</td><td>0.0012201870</td></tr>\n",
       "\t<tr><td>phecode_287-1 </td><td>0.0011658008</td></tr>\n",
       "\t<tr><td>phecode_614-3 </td><td>0.0011298192</td></tr>\n",
       "\t<tr><td>phecode_614-53</td><td>0.0010586576</td></tr>\n",
       "\t<tr><td>phecode_112-1 </td><td>0.0010030869</td></tr>\n",
       "\t<tr><td>phecode_209-2 </td><td>0.0009720786</td></tr>\n",
       "\t<tr><td>phecode_614-51</td><td>0.0009192023</td></tr>\n",
       "\t<tr><td>phecode_249   </td><td>0.0008680383</td></tr>\n",
       "\t<tr><td>phecode_341-1 </td><td>0.0008547145</td></tr>\n",
       "\t<tr><td>phecode_120-13</td><td>0.0008126163</td></tr>\n",
       "\t<tr><td>phecode_124-3 </td><td>0.0007906870</td></tr>\n",
       "\t<tr><td>phecode_106-13</td><td>0.0007812719</td></tr>\n",
       "\t<tr><td>phecode_200-44</td><td>0.0007325335</td></tr>\n",
       "\t<tr><td>phecode_979-2 </td><td>0.0007089699</td></tr>\n",
       "\t<tr><td>phecode_945   </td><td>0.0006769355</td></tr>\n",
       "\t<tr><td>phecode_945-3 </td><td>0.0006709138</td></tr>\n",
       "\t<tr><td>phecode_120-22</td><td>0.0006510844</td></tr>\n",
       "\t<tr><td>phecode_619-32</td><td>0.0006424947</td></tr>\n",
       "\t<tr><td>phecode_592-13</td><td>0.0006172962</td></tr>\n",
       "\t<tr><td>phecode_338   </td><td>0.0006132038</td></tr>\n",
       "\t<tr><td>phecode_122-1 </td><td>0.0005834945</td></tr>\n",
       "\t<tr><td>phecode_901-3 </td><td>0.0005405189</td></tr>\n",
       "\t<tr><td>phecode_052-31</td><td>0.0005348493</td></tr>\n",
       "\t<tr><td>phecode_179-1 </td><td>0.0004577798</td></tr>\n",
       "\t<tr><td>phecode_341-12</td><td>0.0004429811</td></tr>\n",
       "\t<tr><td>phecode_904   </td><td>0.0001941697</td></tr>\n",
       "\t<tr><td>phecode_629   </td><td>0.0001382777</td></tr>\n",
       "</tbody>\n",
       "</table>\n"
      ],
      "text/latex": [
       "A tibble: 1001 × 2\n",
       "\\begin{tabular}{ll}\n",
       " endpoint & freq\\\\\n",
       " <chr> & <dbl>\\\\\n",
       "\\hline\n",
       "\t phecode\\_401    & 0.22535619\\\\\n",
       "\t phecode\\_401-1  & 0.22471804\\\\\n",
       "\t phecode\\_089    & 0.15780744\\\\\n",
       "\t phecode\\_708    & 0.15229671\\\\\n",
       "\t phecode\\_130    & 0.13742835\\\\\n",
       "\t phecode\\_239    & 0.12403000\\\\\n",
       "\t phecode\\_460    & 0.12011161\\\\\n",
       "\t phecode\\_522    & 0.11723963\\\\\n",
       "\t phecode\\_239-1  & 0.11561741\\\\\n",
       "\t phecode\\_239-11 & 0.11505754\\\\\n",
       "\t phecode\\_520    & 0.11434372\\\\\n",
       "\t phecode\\_089-1  & 0.10775269\\\\\n",
       "\t phecode\\_529    & 0.10700399\\\\\n",
       "\t phecode\\_523    & 0.10367653\\\\\n",
       "\t phecode\\_136    & 0.09966550\\\\\n",
       "\t phecode\\_089-2  & 0.09941754\\\\\n",
       "\t phecode\\_371    & 0.09877229\\\\\n",
       "\t phecode\\_841    & 0.09507235\\\\\n",
       "\t phecode\\_809    & 0.09435873\\\\\n",
       "\t phecode\\_713    & 0.09340738\\\\\n",
       "\t phecode\\_523-2  & 0.09340313\\\\\n",
       "\t phecode\\_718    & 0.09331696\\\\\n",
       "\t phecode\\_511    & 0.09291299\\\\\n",
       "\t phecode\\_527    & 0.08812583\\\\\n",
       "\t phecode\\_460-2  & 0.08750542\\\\\n",
       "\t phecode\\_416    & 0.08633466\\\\\n",
       "\t phecode\\_713-3  & 0.08528803\\\\\n",
       "\t phecode\\_660    & 0.08407277\\\\\n",
       "\t phecode\\_136-4  & 0.08359950\\\\\n",
       "\t phecode\\_988    & 0.07557528\\\\\n",
       "\t ⋮ & ⋮\\\\\n",
       "\t phecode\\_342    & 0.0013188065\\\\\n",
       "\t phecode\\_174-1  & 0.0012542930\\\\\n",
       "\t phecode\\_121-12 & 0.0012402132\\\\\n",
       "\t phecode\\_101-21 & 0.0012201870\\\\\n",
       "\t phecode\\_287-1  & 0.0011658008\\\\\n",
       "\t phecode\\_614-3  & 0.0011298192\\\\\n",
       "\t phecode\\_614-53 & 0.0010586576\\\\\n",
       "\t phecode\\_112-1  & 0.0010030869\\\\\n",
       "\t phecode\\_209-2  & 0.0009720786\\\\\n",
       "\t phecode\\_614-51 & 0.0009192023\\\\\n",
       "\t phecode\\_249    & 0.0008680383\\\\\n",
       "\t phecode\\_341-1  & 0.0008547145\\\\\n",
       "\t phecode\\_120-13 & 0.0008126163\\\\\n",
       "\t phecode\\_124-3  & 0.0007906870\\\\\n",
       "\t phecode\\_106-13 & 0.0007812719\\\\\n",
       "\t phecode\\_200-44 & 0.0007325335\\\\\n",
       "\t phecode\\_979-2  & 0.0007089699\\\\\n",
       "\t phecode\\_945    & 0.0006769355\\\\\n",
       "\t phecode\\_945-3  & 0.0006709138\\\\\n",
       "\t phecode\\_120-22 & 0.0006510844\\\\\n",
       "\t phecode\\_619-32 & 0.0006424947\\\\\n",
       "\t phecode\\_592-13 & 0.0006172962\\\\\n",
       "\t phecode\\_338    & 0.0006132038\\\\\n",
       "\t phecode\\_122-1  & 0.0005834945\\\\\n",
       "\t phecode\\_901-3  & 0.0005405189\\\\\n",
       "\t phecode\\_052-31 & 0.0005348493\\\\\n",
       "\t phecode\\_179-1  & 0.0004577798\\\\\n",
       "\t phecode\\_341-12 & 0.0004429811\\\\\n",
       "\t phecode\\_904    & 0.0001941697\\\\\n",
       "\t phecode\\_629    & 0.0001382777\\\\\n",
       "\\end{tabular}\n"
      ],
      "text/markdown": [
       "\n",
       "A tibble: 1001 × 2\n",
       "\n",
       "| endpoint &lt;chr&gt; | freq &lt;dbl&gt; |\n",
       "|---|---|\n",
       "| phecode_401    | 0.22535619 |\n",
       "| phecode_401-1  | 0.22471804 |\n",
       "| phecode_089    | 0.15780744 |\n",
       "| phecode_708    | 0.15229671 |\n",
       "| phecode_130    | 0.13742835 |\n",
       "| phecode_239    | 0.12403000 |\n",
       "| phecode_460    | 0.12011161 |\n",
       "| phecode_522    | 0.11723963 |\n",
       "| phecode_239-1  | 0.11561741 |\n",
       "| phecode_239-11 | 0.11505754 |\n",
       "| phecode_520    | 0.11434372 |\n",
       "| phecode_089-1  | 0.10775269 |\n",
       "| phecode_529    | 0.10700399 |\n",
       "| phecode_523    | 0.10367653 |\n",
       "| phecode_136    | 0.09966550 |\n",
       "| phecode_089-2  | 0.09941754 |\n",
       "| phecode_371    | 0.09877229 |\n",
       "| phecode_841    | 0.09507235 |\n",
       "| phecode_809    | 0.09435873 |\n",
       "| phecode_713    | 0.09340738 |\n",
       "| phecode_523-2  | 0.09340313 |\n",
       "| phecode_718    | 0.09331696 |\n",
       "| phecode_511    | 0.09291299 |\n",
       "| phecode_527    | 0.08812583 |\n",
       "| phecode_460-2  | 0.08750542 |\n",
       "| phecode_416    | 0.08633466 |\n",
       "| phecode_713-3  | 0.08528803 |\n",
       "| phecode_660    | 0.08407277 |\n",
       "| phecode_136-4  | 0.08359950 |\n",
       "| phecode_988    | 0.07557528 |\n",
       "| ⋮ | ⋮ |\n",
       "| phecode_342    | 0.0013188065 |\n",
       "| phecode_174-1  | 0.0012542930 |\n",
       "| phecode_121-12 | 0.0012402132 |\n",
       "| phecode_101-21 | 0.0012201870 |\n",
       "| phecode_287-1  | 0.0011658008 |\n",
       "| phecode_614-3  | 0.0011298192 |\n",
       "| phecode_614-53 | 0.0010586576 |\n",
       "| phecode_112-1  | 0.0010030869 |\n",
       "| phecode_209-2  | 0.0009720786 |\n",
       "| phecode_614-51 | 0.0009192023 |\n",
       "| phecode_249    | 0.0008680383 |\n",
       "| phecode_341-1  | 0.0008547145 |\n",
       "| phecode_120-13 | 0.0008126163 |\n",
       "| phecode_124-3  | 0.0007906870 |\n",
       "| phecode_106-13 | 0.0007812719 |\n",
       "| phecode_200-44 | 0.0007325335 |\n",
       "| phecode_979-2  | 0.0007089699 |\n",
       "| phecode_945    | 0.0006769355 |\n",
       "| phecode_945-3  | 0.0006709138 |\n",
       "| phecode_120-22 | 0.0006510844 |\n",
       "| phecode_619-32 | 0.0006424947 |\n",
       "| phecode_592-13 | 0.0006172962 |\n",
       "| phecode_338    | 0.0006132038 |\n",
       "| phecode_122-1  | 0.0005834945 |\n",
       "| phecode_901-3  | 0.0005405189 |\n",
       "| phecode_052-31 | 0.0005348493 |\n",
       "| phecode_179-1  | 0.0004577798 |\n",
       "| phecode_341-12 | 0.0004429811 |\n",
       "| phecode_904    | 0.0001941697 |\n",
       "| phecode_629    | 0.0001382777 |\n",
       "\n"
      ],
      "text/plain": [
       "     endpoint       freq        \n",
       "1    phecode_401    0.22535619  \n",
       "2    phecode_401-1  0.22471804  \n",
       "3    phecode_089    0.15780744  \n",
       "4    phecode_708    0.15229671  \n",
       "5    phecode_130    0.13742835  \n",
       "6    phecode_239    0.12403000  \n",
       "7    phecode_460    0.12011161  \n",
       "8    phecode_522    0.11723963  \n",
       "9    phecode_239-1  0.11561741  \n",
       "10   phecode_239-11 0.11505754  \n",
       "11   phecode_520    0.11434372  \n",
       "12   phecode_089-1  0.10775269  \n",
       "13   phecode_529    0.10700399  \n",
       "14   phecode_523    0.10367653  \n",
       "15   phecode_136    0.09966550  \n",
       "16   phecode_089-2  0.09941754  \n",
       "17   phecode_371    0.09877229  \n",
       "18   phecode_841    0.09507235  \n",
       "19   phecode_809    0.09435873  \n",
       "20   phecode_713    0.09340738  \n",
       "21   phecode_523-2  0.09340313  \n",
       "22   phecode_718    0.09331696  \n",
       "23   phecode_511    0.09291299  \n",
       "24   phecode_527    0.08812583  \n",
       "25   phecode_460-2  0.08750542  \n",
       "26   phecode_416    0.08633466  \n",
       "27   phecode_713-3  0.08528803  \n",
       "28   phecode_660    0.08407277  \n",
       "29   phecode_136-4  0.08359950  \n",
       "30   phecode_988    0.07557528  \n",
       "⋮    ⋮              ⋮           \n",
       "972  phecode_342    0.0013188065\n",
       "973  phecode_174-1  0.0012542930\n",
       "974  phecode_121-12 0.0012402132\n",
       "975  phecode_101-21 0.0012201870\n",
       "976  phecode_287-1  0.0011658008\n",
       "977  phecode_614-3  0.0011298192\n",
       "978  phecode_614-53 0.0010586576\n",
       "979  phecode_112-1  0.0010030869\n",
       "980  phecode_209-2  0.0009720786\n",
       "981  phecode_614-51 0.0009192023\n",
       "982  phecode_249    0.0008680383\n",
       "983  phecode_341-1  0.0008547145\n",
       "984  phecode_120-13 0.0008126163\n",
       "985  phecode_124-3  0.0007906870\n",
       "986  phecode_106-13 0.0007812719\n",
       "987  phecode_200-44 0.0007325335\n",
       "988  phecode_979-2  0.0007089699\n",
       "989  phecode_945    0.0006769355\n",
       "990  phecode_945-3  0.0006709138\n",
       "991  phecode_120-22 0.0006510844\n",
       "992  phecode_619-32 0.0006424947\n",
       "993  phecode_592-13 0.0006172962\n",
       "994  phecode_338    0.0006132038\n",
       "995  phecode_122-1  0.0005834945\n",
       "996  phecode_901-3  0.0005405189\n",
       "997  phecode_052-31 0.0005348493\n",
       "998  phecode_179-1  0.0004577798\n",
       "999  phecode_341-12 0.0004429811\n",
       "1000 phecode_904    0.0001941697\n",
       "1001 phecode_629    0.0001382777"
      ]
     },
     "metadata": {},
     "output_type": "display_data"
    }
   ],
   "source": [
    "outcome_freq = data_outcomes %>% filter(prevalent==0) %>% group_by(endpoint) %>% summarize(freq = sum(event)/n()) %>% as_tibble()\n",
    "outcome_freq %>% arrange(desc(freq))"
   ]
  },
  {
   "cell_type": "code",
   "execution_count": 11,
   "metadata": {},
   "outputs": [],
   "source": [
    "endpoint_map = phecode_defs$phecode_string\n",
    "names(endpoint_map) =  phecode_defs$endpoint\n",
    "endpoint_order_freq = (outcome_freq %>% arrange(desc(freq)))$endpoint"
   ]
  },
  {
   "cell_type": "markdown",
   "metadata": {},
   "source": [
    "## Load data"
   ]
  },
  {
   "cell_type": "code",
   "execution_count": 12,
   "metadata": {
    "ExecuteTime": {
     "end_time": "2021-01-05T11:03:12.470354Z",
     "start_time": "2021-01-05T11:03:11.387Z"
    }
   },
   "outputs": [
    {
     "data": {
      "text/html": [
       "<style>\n",
       ".list-inline {list-style: none; margin:0; padding: 0}\n",
       ".list-inline>li {display: inline-block}\n",
       ".list-inline>li:not(:last-child)::after {content: \"\\00b7\"; padding: 0 .5ex}\n",
       "</style>\n",
       "<ol class=list-inline><li>'/sc-projects/sc-proj-ukb-cvd/results/projects/22_medical_records'</li><li>'/sc-projects/sc-proj-ukb-cvd/results/projects/22_medical_records/.ipynb_checkpoints'</li><li>'/sc-projects/sc-proj-ukb-cvd/results/projects/22_medical_records/data'</li><li>'/sc-projects/sc-proj-ukb-cvd/results/projects/22_medical_records/data/.ipynb_checkpoints'</li><li>'/sc-projects/sc-proj-ukb-cvd/results/projects/22_medical_records/data/predictions'</li><li>'/sc-projects/sc-proj-ukb-cvd/results/projects/22_medical_records/figures'</li></ol>\n"
      ],
      "text/latex": [
       "\\begin{enumerate*}\n",
       "\\item '/sc-projects/sc-proj-ukb-cvd/results/projects/22\\_medical\\_records'\n",
       "\\item '/sc-projects/sc-proj-ukb-cvd/results/projects/22\\_medical\\_records/.ipynb\\_checkpoints'\n",
       "\\item '/sc-projects/sc-proj-ukb-cvd/results/projects/22\\_medical\\_records/data'\n",
       "\\item '/sc-projects/sc-proj-ukb-cvd/results/projects/22\\_medical\\_records/data/.ipynb\\_checkpoints'\n",
       "\\item '/sc-projects/sc-proj-ukb-cvd/results/projects/22\\_medical\\_records/data/predictions'\n",
       "\\item '/sc-projects/sc-proj-ukb-cvd/results/projects/22\\_medical\\_records/figures'\n",
       "\\end{enumerate*}\n"
      ],
      "text/markdown": [
       "1. '/sc-projects/sc-proj-ukb-cvd/results/projects/22_medical_records'\n",
       "2. '/sc-projects/sc-proj-ukb-cvd/results/projects/22_medical_records/.ipynb_checkpoints'\n",
       "3. '/sc-projects/sc-proj-ukb-cvd/results/projects/22_medical_records/data'\n",
       "4. '/sc-projects/sc-proj-ukb-cvd/results/projects/22_medical_records/data/.ipynb_checkpoints'\n",
       "5. '/sc-projects/sc-proj-ukb-cvd/results/projects/22_medical_records/data/predictions'\n",
       "6. '/sc-projects/sc-proj-ukb-cvd/results/projects/22_medical_records/figures'\n",
       "\n",
       "\n"
      ],
      "text/plain": [
       "[1] \"/sc-projects/sc-proj-ukb-cvd/results/projects/22_medical_records\"                        \n",
       "[2] \"/sc-projects/sc-proj-ukb-cvd/results/projects/22_medical_records/.ipynb_checkpoints\"     \n",
       "[3] \"/sc-projects/sc-proj-ukb-cvd/results/projects/22_medical_records/data\"                   \n",
       "[4] \"/sc-projects/sc-proj-ukb-cvd/results/projects/22_medical_records/data/.ipynb_checkpoints\"\n",
       "[5] \"/sc-projects/sc-proj-ukb-cvd/results/projects/22_medical_records/data/predictions\"       \n",
       "[6] \"/sc-projects/sc-proj-ukb-cvd/results/projects/22_medical_records/figures\"                "
      ]
     },
     "metadata": {},
     "output_type": "display_data"
    }
   ],
   "source": [
    "list.dirs(path = project_path, full.names = TRUE, recursive = TRUE)"
   ]
  },
  {
   "cell_type": "markdown",
   "metadata": {},
   "source": [
    "# Figure 2: Selected Endpoints"
   ]
  },
  {
   "cell_type": "markdown",
   "metadata": {},
   "source": [
    "## Metabolic state and incident disease"
   ]
  },
  {
   "cell_type": "code",
   "execution_count": 13,
   "metadata": {},
   "outputs": [
    {
     "name": "stderr",
     "output_type": "stream",
     "text": [
      "Joining, by = c(\"eid\", \"endpoint\")\n",
      "\n"
     ]
    }
   ],
   "source": [
    "pred_outcomes = predictions %>% left_join(data_outcomes, on=c(eid, endpoint)) %>% as.data.table() "
   ]
  },
  {
   "cell_type": "code",
   "execution_count": 14,
   "metadata": {},
   "outputs": [],
   "source": [
    "logh_inc = pred_outcomes %>% filter(prevalent==0) %>% group_by(endpoint, model) %>% mutate(logh_perc = ntile(logh, 100)) %>% ungroup() %>% as_tibble()"
   ]
  },
  {
   "cell_type": "markdown",
   "metadata": {},
   "source": [
    "## No buffer"
   ]
  },
  {
   "cell_type": "code",
   "execution_count": 13,
   "metadata": {},
   "outputs": [
    {
     "name": "stderr",
     "output_type": "stream",
     "text": [
      "`summarise()` has grouped output by 'endpoint', 'model'. You can override using the `.groups` argument.\n",
      "\n"
     ]
    }
   ],
   "source": [
    "logh_T_agg = logh_inc %>% group_by(endpoint, model, logh_perc) %>% summarise(ratio = mean(event)) %>% as_tibble()"
   ]
  },
  {
   "cell_type": "code",
   "execution_count": 14,
   "metadata": {},
   "outputs": [],
   "source": [
    "logh_T_agg %>% write_feather(glue(\"{output_path}/logh_agg_220224.feather\"))"
   ]
  },
  {
   "cell_type": "code",
   "execution_count": 16,
   "metadata": {},
   "outputs": [
    {
     "ename": "ERROR",
     "evalue": "Error in eval(expr, envir, enclos): object 'logh_T_agg' not found\n",
     "output_type": "error",
     "traceback": [
      "Error in eval(expr, envir, enclos): object 'logh_T_agg' not found\nTraceback:\n"
     ]
    }
   ],
   "source": [
    "logh_T_agg"
   ]
  },
  {
   "cell_type": "code",
   "execution_count": 17,
   "metadata": {},
   "outputs": [],
   "source": [
    "plot_width = 50; plot_height=75; plot_res = 320\n",
    "options(repr.plot.width = plot_width, repr.plot.height = plot_height, repr.plot.res=plot_res)\n",
    "#temp_rank = event_rest %>% filter(features==\"Metabolomics\") %>% arrange(desc(MET10PercvsREST))\n",
    "endpoint_order = (phecode_defs %>% mutate(phecode_rank = as.numeric(phecode)) %>% arrange(phecode_rank) %>% as_tibble())$endpoint\n",
    "endpoint_selection = endpoint_order# %>% head(500)\n",
    "temp = logh_T_agg %>% filter(model==\"GNN(Records)+MLP\") %>% mutate(endpoint = factor(endpoint, levels=endpoint_order)) %>% filter(endpoint %in% endpoint_selection) %>% ungroup() #%>% sample_n(10000)\n",
    "\n",
    "mh_events = ggplot(temp, aes(x=logh_perc, y=ratio*100, color=logh_perc)) + \n",
    "    labs(title=NULL, x=\"Medical History Percentile [%]\", y=\"Observed Event Rate [%]\") +\n",
    "    geom_point(alpha=0.7, size=0.1) + \n",
    "    scale_colour_gradient(\n",
    "  low = \"#7AC6FF\",\n",
    "  high = \"#023768\",\n",
    "  space = \"Lab\",\n",
    "  na.value = \"grey50\",\n",
    "  guide = \"colourbar\",\n",
    "  aesthetics = \"colour\"\n",
    ")+\n",
    "    #scale_color_manual(values=c(\"Metabolomics\"=\"black\"))+\n",
    "    scale_y_continuous(limits=c(0, NA), expand=expansion(mult=c(0, .05)))+#, limits=c(0, NA))+\n",
    "    scale_x_continuous(expand=expansion(add=c(0, 1)))+\n",
    "    facet_wrap(~endpoint, scale=\"free\", labeller = labeller(endpoint = endpoint_map), ncol=25) + theme(legend.position=\"none\")"
   ]
  },
  {
   "cell_type": "code",
   "execution_count": 169,
   "metadata": {},
   "outputs": [],
   "source": [
    "plot_name = \"MedicalHistoryRisk\"\n",
    "mh_events %>% ggsave(filename=glue(\"outputs/{plot_name}.pdf\"), device=\"pdf\", width=plot_width, height=plot_height, dpi=plot_res, limitsize=FALSE)"
   ]
  },
  {
   "cell_type": "code",
   "execution_count": 18,
   "metadata": {},
   "outputs": [],
   "source": [
    "plot_name = \"MedicalHistoryRisk\"\n",
    "mh_events %>% ggsave(filename=glue(\"outputs/{plot_name}.png\"), device=\"png\", width=plot_width, height=plot_height, dpi=plot_res, limitsize=FALSE)"
   ]
  },
  {
   "cell_type": "markdown",
   "metadata": {},
   "source": [
    "## Add buffer"
   ]
  },
  {
   "cell_type": "code",
   "execution_count": 14,
   "metadata": {},
   "outputs": [
    {
     "data": {
      "text/html": [
       "<table class=\"dataframe\">\n",
       "<caption>A data.table: 6 × 8</caption>\n",
       "<thead>\n",
       "\t<tr><th scope=col>eid</th><th scope=col>partition</th><th scope=col>model</th><th scope=col>endpoint</th><th scope=col>logh</th><th scope=col>prevalent</th><th scope=col>event</th><th scope=col>time</th></tr>\n",
       "\t<tr><th scope=col>&lt;int&gt;</th><th scope=col>&lt;fct&gt;</th><th scope=col>&lt;fct&gt;</th><th scope=col>&lt;chr&gt;</th><th scope=col>&lt;dbl&gt;</th><th scope=col>&lt;dbl&gt;</th><th scope=col>&lt;dbl&gt;</th><th scope=col>&lt;dbl&gt;</th></tr>\n",
       "</thead>\n",
       "<tbody>\n",
       "\t<tr><td>1475839</td><td>0</td><td>Identity(Records)+MLP</td><td>OMOP_4306655</td><td>-2.819316</td><td>0</td><td>0</td><td>12.564256</td></tr>\n",
       "\t<tr><td>1475840</td><td>0</td><td>Identity(Records)+MLP</td><td>OMOP_4306655</td><td>-2.011223</td><td>0</td><td>1</td><td> 6.817248</td></tr>\n",
       "\t<tr><td>1475853</td><td>0</td><td>Identity(Records)+MLP</td><td>OMOP_4306655</td><td>-2.831062</td><td>0</td><td>0</td><td>12.772336</td></tr>\n",
       "\t<tr><td>1475862</td><td>0</td><td>Identity(Records)+MLP</td><td>OMOP_4306655</td><td>-2.578309</td><td>0</td><td>0</td><td>11.660746</td></tr>\n",
       "\t<tr><td>1475871</td><td>0</td><td>Identity(Records)+MLP</td><td>OMOP_4306655</td><td>-3.008898</td><td>0</td><td>0</td><td>11.879779</td></tr>\n",
       "\t<tr><td>1475886</td><td>0</td><td>Identity(Records)+MLP</td><td>OMOP_4306655</td><td>-3.047699</td><td>0</td><td>0</td><td>12.646393</td></tr>\n",
       "</tbody>\n",
       "</table>\n"
      ],
      "text/latex": [
       "A data.table: 6 × 8\n",
       "\\begin{tabular}{llllllll}\n",
       " eid & partition & model & endpoint & logh & prevalent & event & time\\\\\n",
       " <int> & <fct> & <fct> & <chr> & <dbl> & <dbl> & <dbl> & <dbl>\\\\\n",
       "\\hline\n",
       "\t 1475839 & 0 & Identity(Records)+MLP & OMOP\\_4306655 & -2.819316 & 0 & 0 & 12.564256\\\\\n",
       "\t 1475840 & 0 & Identity(Records)+MLP & OMOP\\_4306655 & -2.011223 & 0 & 1 &  6.817248\\\\\n",
       "\t 1475853 & 0 & Identity(Records)+MLP & OMOP\\_4306655 & -2.831062 & 0 & 0 & 12.772336\\\\\n",
       "\t 1475862 & 0 & Identity(Records)+MLP & OMOP\\_4306655 & -2.578309 & 0 & 0 & 11.660746\\\\\n",
       "\t 1475871 & 0 & Identity(Records)+MLP & OMOP\\_4306655 & -3.008898 & 0 & 0 & 11.879779\\\\\n",
       "\t 1475886 & 0 & Identity(Records)+MLP & OMOP\\_4306655 & -3.047699 & 0 & 0 & 12.646393\\\\\n",
       "\\end{tabular}\n"
      ],
      "text/markdown": [
       "\n",
       "A data.table: 6 × 8\n",
       "\n",
       "| eid &lt;int&gt; | partition &lt;fct&gt; | model &lt;fct&gt; | endpoint &lt;chr&gt; | logh &lt;dbl&gt; | prevalent &lt;dbl&gt; | event &lt;dbl&gt; | time &lt;dbl&gt; |\n",
       "|---|---|---|---|---|---|---|---|\n",
       "| 1475839 | 0 | Identity(Records)+MLP | OMOP_4306655 | -2.819316 | 0 | 0 | 12.564256 |\n",
       "| 1475840 | 0 | Identity(Records)+MLP | OMOP_4306655 | -2.011223 | 0 | 1 |  6.817248 |\n",
       "| 1475853 | 0 | Identity(Records)+MLP | OMOP_4306655 | -2.831062 | 0 | 0 | 12.772336 |\n",
       "| 1475862 | 0 | Identity(Records)+MLP | OMOP_4306655 | -2.578309 | 0 | 0 | 11.660746 |\n",
       "| 1475871 | 0 | Identity(Records)+MLP | OMOP_4306655 | -3.008898 | 0 | 0 | 11.879779 |\n",
       "| 1475886 | 0 | Identity(Records)+MLP | OMOP_4306655 | -3.047699 | 0 | 0 | 12.646393 |\n",
       "\n"
      ],
      "text/plain": [
       "  eid     partition model                 endpoint     logh      prevalent\n",
       "1 1475839 0         Identity(Records)+MLP OMOP_4306655 -2.819316 0        \n",
       "2 1475840 0         Identity(Records)+MLP OMOP_4306655 -2.011223 0        \n",
       "3 1475853 0         Identity(Records)+MLP OMOP_4306655 -2.831062 0        \n",
       "4 1475862 0         Identity(Records)+MLP OMOP_4306655 -2.578309 0        \n",
       "5 1475871 0         Identity(Records)+MLP OMOP_4306655 -3.008898 0        \n",
       "6 1475886 0         Identity(Records)+MLP OMOP_4306655 -3.047699 0        \n",
       "  event time     \n",
       "1 0     12.564256\n",
       "2 1      6.817248\n",
       "3 0     12.772336\n",
       "4 0     11.660746\n",
       "5 0     11.879779\n",
       "6 0     12.646393"
      ]
     },
     "metadata": {},
     "output_type": "display_data"
    }
   ],
   "source": [
    "pred_outcomes %>% head()"
   ]
  },
  {
   "cell_type": "code",
   "execution_count": 15,
   "metadata": {},
   "outputs": [
    {
     "name": "stderr",
     "output_type": "stream",
     "text": [
      "`summarise()` has grouped output by 'endpoint', 'model'. You can override using the `.groups` argument.\n",
      "\n"
     ]
    }
   ],
   "source": [
    "logh_T_agg_buffer = pred_outcomes %>% filter(prevalent==0) %>% mutate(event_buffer = case_when((event!=0&time<1) ~ 0, TRUE ~ event)) %>% group_by(endpoint, model) %>% mutate(logh_perc = ntile(logh, 100)) %>% group_by(endpoint, model, logh_perc) %>% summarise(ratio = mean(event_buffer)) %>% as_tibble()"
   ]
  },
  {
   "cell_type": "code",
   "execution_count": 16,
   "metadata": {},
   "outputs": [],
   "source": [
    "logh_T_agg_buffer %>% write_feather(glue(\"{output_path}/logh_agg_1ybuffer_220224.feather\"))"
   ]
  },
  {
   "cell_type": "code",
   "execution_count": 17,
   "metadata": {},
   "outputs": [],
   "source": [
    "plot_width = 50; plot_height=75; plot_res = 320\n",
    "options(repr.plot.width = plot_width, repr.plot.height = plot_height, repr.plot.res=plot_res)\n",
    "#temp_rank = event_rest %>% filter(features==\"Metabolomics\") %>% arrange(desc(MET10PercvsREST))\n",
    "endpoint_order = (phecode_defs %>% mutate(phecode_rank = as.numeric(phecode)) %>% arrange(phecode_rank) %>% as_tibble())$endpoint\n",
    "endpoint_selection = endpoint_order# %>% head(500)\n",
    "temp = logh_T_agg_buffer %>% filter(model==\"GNN(Records)+MLP\") %>% mutate(endpoint = factor(endpoint, levels=endpoint_order)) %>% filter(endpoint %in% endpoint_selection) %>% ungroup() #%>% sample_n(10000)\n",
    "\n",
    "mh_events = ggplot(temp, aes(x=logh_perc, y=ratio*100, color=logh_perc)) + \n",
    "    labs(title=NULL, x=\"Medical History Percentile [%]\", y=\"Observed Event Rate [%]\") +\n",
    "    geom_point(alpha=0.7, size=0.1) + \n",
    "    scale_colour_gradient(\n",
    "  low = \"#7AC6FF\",\n",
    "  high = \"#023768\",\n",
    "  space = \"Lab\",\n",
    "  na.value = \"grey50\",\n",
    "  guide = \"colourbar\",\n",
    "  aesthetics = \"colour\"\n",
    ")+\n",
    "    #scale_color_manual(values=c(\"Metabolomics\"=\"black\"))+\n",
    "    scale_y_continuous(limits=c(0, NA), expand=expansion(mult=c(0, .05)))+#, limits=c(0, NA))+\n",
    "    scale_x_continuous(expand=expansion(add=c(0, 1)))+\n",
    "    facet_wrap(~endpoint, scale=\"free\", labeller = labeller(endpoint = endpoint_map), ncol=25) + theme(legend.position=\"none\")"
   ]
  },
  {
   "cell_type": "code",
   "execution_count": 18,
   "metadata": {},
   "outputs": [],
   "source": [
    "plot_name = \"MedicalHistoryRisk_1ybuffer\"\n",
    "mh_events %>% ggsave(filename=glue(\"outputs/{plot_name}.png\"), device=\"png\", width=plot_width, height=plot_height, dpi=plot_res, limitsize=FALSE)"
   ]
  },
  {
   "cell_type": "markdown",
   "metadata": {
    "tags": []
   },
   "source": [
    "## Metabolomic State and Event Trajectories"
   ]
  },
  {
   "cell_type": "code",
   "execution_count": null,
   "metadata": {},
   "outputs": [],
   "source": []
  },
  {
   "cell_type": "code",
   "execution_count": 19,
   "metadata": {},
   "outputs": [],
   "source": [
    "logh_mh = logh_inc %>% select(endpoint, model, eid, logh_perc, event, time) %>% group_by(endpoint) %>% \n",
    "    mutate(MH=case_when(logh_perc %in% 91:100 ~ \"High\", \n",
    "                        logh_perc %in% 45:55 ~ \"Mid\", \n",
    "                        logh_perc %in% 1:10 ~ \"Low\",\n",
    "                        TRUE ~ \"NA\")\n",
    "          ) %>% mutate(MET = fct_rev(factor(MET, levels=c(\"Low\", \"Mid\", \"High\")))) %>% ungroup() %>% \n",
    "    filter(MH!=\"NA\") #%>% select(eid, endpoint, logh, logh_group)"
   ]
  },
  {
   "cell_type": "code",
   "execution_count": 23,
   "metadata": {},
   "outputs": [],
   "source": [
    "require(\"ggquickeda\")\n",
    "plot_width = 50; plot_height=75; plot_res = 320\n",
    "options(repr.plot.width = plot_width, repr.plot.height = plot_height, repr.plot.res=plot_res)\n",
    "met_map = c(\"High\"=\"#023768\", \"Mid\"=\"#4F8EC1\", \"Low\"=\"#7AC6FF\")\n",
    "\n",
    "endpoint_order = (phecode_defs %>% mutate(phecode_rank = as.numeric(phecode)) %>% arrange(phecode_rank) %>% as_tibble())$endpoint\n",
    "endpoint_selection = endpoint_order# %>% head(500)\n",
    "temp = logh_mh %>% mutate(endpoint = factor(endpoint, levels=endpoint_order)) %>% filter(endpoint %in% endpoint_selection) %>% ungroup() \n",
    "\n",
    "km_plot = ggplot(temp, aes(time = time, status = event, fill=MET, color=MET,group=MET)) +\n",
    "    geom_km(trans = \"event\") + \n",
    "    geom_kmticks(trans = \"event\", size=0.3) + geom_kmband(trans = \"event\") + \n",
    "    labs(x=\"Time [Years]\", y=\"Cumulative Events [%]\")+\n",
    "    scale_color_manual(values=met_map)+scale_fill_manual(values=met_map)+\n",
    "    scale_y_continuous(labels = function(x) round(x*100, 1), expand=c(0, 0))+\n",
    "    scale_x_continuous(expand=expansion(add=c(0, .1)), breaks=c(5, 10))+\n",
    "    facet_wrap(~ endpoint, scale=\"free\", labeller = labeller(endpoint = endpoint_map), ncol=25) + theme(legend.position=\"none\")"
   ]
  },
  {
   "cell_type": "code",
   "execution_count": null,
   "metadata": {},
   "outputs": [],
   "source": [
    "plot_name = \"MedicalHistory_KMs\"\n",
    "km_plot %>% ggsave(filename=glue(\"outputs/{plot_name}.png\"), device=\"png\", width=plot_width, height=plot_height, dpi=plot_res, limitsize=FALSE)"
   ]
  },
  {
   "cell_type": "markdown",
   "metadata": {},
   "source": [
    "# Top 1%"
   ]
  },
  {
   "cell_type": "code",
   "execution_count": 26,
   "metadata": {},
   "outputs": [],
   "source": [
    "logh_mh = logh_inc %>% select(endpoint, model, eid, logh_perc, event, time) %>% group_by(endpoint) %>% \n",
    "    mutate(MH=case_when(logh_perc == 100 ~ \"High\", \n",
    "                        logh_perc %in% 50:51 ~ \"Mid\", \n",
    "                        logh_perc == 1 ~ \"Low\",\n",
    "                        TRUE ~ \"NA\")\n",
    "          ) %>% mutate(MET = fct_rev(factor(MH, levels=c(\"Low\", \"Mid\", \"High\")))) %>% ungroup() %>% \n",
    "    filter(MH!=\"NA\") #%>% select(eid, endpoint, logh, logh_group)"
   ]
  },
  {
   "cell_type": "code",
   "execution_count": 27,
   "metadata": {},
   "outputs": [],
   "source": [
    "require(\"ggquickeda\")\n",
    "plot_width = 50; plot_height=75; plot_res = 320\n",
    "options(repr.plot.width = plot_width, repr.plot.height = plot_height, repr.plot.res=plot_res)\n",
    "mh_map = c(\"High\"=\"#023768\", \"Mid\"=\"#4F8EC1\", \"Low\"=\"#7AC6FF\")\n",
    "\n",
    "endpoint_order = (phecode_defs %>% mutate(phecode_rank = as.numeric(phecode)) %>% arrange(phecode_rank) %>% as_tibble())$endpoint\n",
    "endpoint_selection = endpoint_order# %>% head(500)\n",
    "temp = logh_mh %>% mutate(endpoint = factor(endpoint, levels=endpoint_order)) %>% filter(endpoint %in% endpoint_selection) %>% ungroup() \n",
    "\n",
    "km_plot = ggplot(temp, aes(time = time, status = event, fill=MH, color=MH,group=MH)) +\n",
    "    geom_km(trans = \"event\") + \n",
    "    geom_kmticks(trans = \"event\", size=0.3) + geom_kmband(trans = \"event\") + \n",
    "    labs(x=\"Time [Years]\", y=\"Cumulative Events [%]\")+\n",
    "    scale_color_manual(values=met_map)+scale_fill_manual(values=mh_map)+\n",
    "    scale_y_continuous(labels = function(x) round(x*100, 1), expand=c(0, 0))+\n",
    "    scale_x_continuous(expand=expansion(add=c(0, .1)), breaks=c(5, 10))+\n",
    "    facet_wrap(~ endpoint, scale=\"free\", labeller = labeller(endpoint = endpoint_map), ncol=25) + theme(legend.position=\"none\")"
   ]
  },
  {
   "cell_type": "code",
   "execution_count": 28,
   "metadata": {},
   "outputs": [],
   "source": [
    "plot_name = \"MedicalHistory_KMs_Top1\"\n",
    "km_plot %>% ggsave(filename=glue(\"outputs/{plot_name}.png\"), device=\"png\", width=plot_width, height=plot_height, dpi=plot_res, limitsize=FALSE)"
   ]
  },
  {
   "cell_type": "markdown",
   "metadata": {},
   "source": [
    "# Figure 2"
   ]
  },
  {
   "cell_type": "code",
   "execution_count": null,
   "metadata": {},
   "outputs": [],
   "source": [
    "plot_width=8.25; plot_height=10; plot_dpi=320\n",
    "options(repr.plot.width = plot_width, repr.plot.height = plot_height, repr.plot.res=plot_dpi)\n",
    "fig2 = met_events / km_plot# +plot_annotation(tag_levels = 'A')"
   ]
  },
  {
   "cell_type": "code",
   "execution_count": null,
   "metadata": {},
   "outputs": [],
   "source": [
    "fig2"
   ]
  },
  {
   "cell_type": "code",
   "execution_count": null,
   "metadata": {},
   "outputs": [],
   "source": [
    "library(gt)\n",
    "plot_name = \"Figures_2_AB\"\n",
    "fig2 %>% ggsave(filename=glue(\"outputs/{plot_name}.pdf\"), device=\"pdf\", width=plot_width, height=plot_height, dpi=320)"
   ]
  },
  {
   "cell_type": "code",
   "execution_count": null,
   "metadata": {},
   "outputs": [],
   "source": []
  }
 ],
 "metadata": {
  "hide_input": false,
  "kernelspec": {
   "display_name": "R [conda env:r_env]",
   "language": "R",
   "name": "conda-env-r_env-r"
  },
  "language_info": {
   "codemirror_mode": "r",
   "file_extension": ".r",
   "mimetype": "text/x-r-source",
   "name": "R",
   "pygments_lexer": "r",
   "version": "4.0.2"
  },
  "toc-autonumbering": false
 },
 "nbformat": 4,
 "nbformat_minor": 4
}
