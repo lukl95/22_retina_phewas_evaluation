{
 "cells": [
  {
   "cell_type": "markdown",
   "metadata": {},
   "source": [
    "# 2. Exploration"
   ]
  },
  {
   "cell_type": "code",
   "execution_count": 2,
   "metadata": {
    "ExecuteTime": {
     "end_time": "2021-01-05T07:55:18.706103Z",
     "start_time": "2021-01-05T07:55:03.465Z"
    },
    "execution": {
     "iopub.execute_input": "2022-06-15T17:05:30.038026Z",
     "iopub.status.busy": "2022-06-15T17:05:30.019645Z",
     "iopub.status.idle": "2022-06-15T17:05:34.942081Z",
     "shell.execute_reply": "2022-06-15T17:05:34.941057Z"
    },
    "tags": []
   },
   "outputs": [
    {
     "name": "stderr",
     "output_type": "stream",
     "text": [
      "Warning message:\n",
      "“package ‘tidyverse’ was built under R version 4.0.3”\n",
      "── \u001b[1mAttaching packages\u001b[22m ─────────────────────────────────────── tidyverse 1.3.1 ──\n",
      "\n",
      "\u001b[32m✔\u001b[39m \u001b[34mggplot2\u001b[39m 3.3.5     \u001b[32m✔\u001b[39m \u001b[34mpurrr  \u001b[39m 0.3.4\n",
      "\u001b[32m✔\u001b[39m \u001b[34mtibble \u001b[39m 3.1.6     \u001b[32m✔\u001b[39m \u001b[34mdplyr  \u001b[39m 1.0.7\n",
      "\u001b[32m✔\u001b[39m \u001b[34mtidyr  \u001b[39m 1.1.4     \u001b[32m✔\u001b[39m \u001b[34mstringr\u001b[39m 1.4.0\n",
      "\u001b[32m✔\u001b[39m \u001b[34mreadr  \u001b[39m 1.4.0     \u001b[32m✔\u001b[39m \u001b[34mforcats\u001b[39m 0.5.1\n",
      "\n",
      "Warning message:\n",
      "“package ‘ggplot2’ was built under R version 4.0.5”\n",
      "Warning message:\n",
      "“package ‘readr’ was built under R version 4.0.5”\n",
      "Warning message:\n",
      "“package ‘purrr’ was built under R version 4.0.3”\n",
      "Warning message:\n",
      "“package ‘dplyr’ was built under R version 4.0.5”\n",
      "Warning message:\n",
      "“package ‘stringr’ was built under R version 4.0.5”\n",
      "Warning message:\n",
      "“package ‘forcats’ was built under R version 4.0.3”\n",
      "── \u001b[1mConflicts\u001b[22m ────────────────────────────────────────── tidyverse_conflicts() ──\n",
      "\u001b[31m✖\u001b[39m \u001b[34mdplyr\u001b[39m::\u001b[32mfilter()\u001b[39m masks \u001b[34mstats\u001b[39m::filter()\n",
      "\u001b[31m✖\u001b[39m \u001b[34mdplyr\u001b[39m::\u001b[32mlag()\u001b[39m    masks \u001b[34mstats\u001b[39m::lag()\n",
      "\n",
      "Warning message:\n",
      "“package ‘lubridate’ was built under R version 4.0.3”\n",
      "\n",
      "Attaching package: ‘lubridate’\n",
      "\n",
      "\n",
      "The following objects are masked from ‘package:base’:\n",
      "\n",
      "    date, intersect, setdiff, union\n",
      "\n",
      "\n",
      "Warning message:\n",
      "“package ‘cowplot’ was built under R version 4.0.3”\n",
      "\n",
      "Attaching package: ‘cowplot’\n",
      "\n",
      "\n",
      "The following object is masked from ‘package:lubridate’:\n",
      "\n",
      "    stamp\n",
      "\n",
      "\n",
      "Warning message:\n",
      "“package ‘survminer’ was built under R version 4.0.3”\n",
      "Loading required package: ggpubr\n",
      "\n",
      "Warning message:\n",
      "“package ‘ggpubr’ was built under R version 4.0.5”\n",
      "\n",
      "Attaching package: ‘ggpubr’\n",
      "\n",
      "\n",
      "The following object is masked from ‘package:cowplot’:\n",
      "\n",
      "    get_legend\n",
      "\n",
      "\n",
      "Warning message:\n",
      "“package ‘survival’ was built under R version 4.0.5”\n",
      "\n",
      "Attaching package: ‘survival’\n",
      "\n",
      "\n",
      "The following object is masked from ‘package:survminer’:\n",
      "\n",
      "    myeloma\n",
      "\n",
      "\n",
      "Warning message:\n",
      "“package ‘ggsci’ was built under R version 4.0.5”\n",
      "Warning message:\n",
      "“package ‘arsenal’ was built under R version 4.0.5”\n",
      "\n",
      "Attaching package: ‘arsenal’\n",
      "\n",
      "\n",
      "The following object is masked from ‘package:lubridate’:\n",
      "\n",
      "    is.Date\n",
      "\n",
      "\n",
      "Warning message:\n",
      "“package ‘yaml’ was built under R version 4.0.3”\n"
     ]
    }
   ],
   "source": [
    "try(library(tidyverse), silent=TRUE)\n",
    "library(lubridate)\n",
    "library(glue)\n",
    "library(cowplot)\n",
    "library(survminer)\n",
    "library(survival)\n",
    "library(ggsci)\n",
    "library(arsenal)\n",
    "library(yaml)\n",
    "\n",
    "#setwd(\"/\")\n",
    "#path = \"/home/steinfej/projects/uk_biobank/\"\n",
    "#dataset_path = \"data/datasets/cvd_massive_excl_emb_ind\""
   ]
  },
  {
   "cell_type": "code",
   "execution_count": 3,
   "metadata": {
    "ExecuteTime": {
     "end_time": "2021-01-05T07:55:18.725125Z",
     "start_time": "2021-01-05T07:55:03.658Z"
    },
    "execution": {
     "iopub.execute_input": "2022-06-15T17:05:34.944748Z",
     "iopub.status.busy": "2022-06-15T17:05:34.943649Z",
     "iopub.status.idle": "2022-06-15T17:05:34.960970Z",
     "shell.execute_reply": "2022-06-15T17:05:34.960091Z"
    },
    "tags": []
   },
   "outputs": [
    {
     "name": "stdout",
     "output_type": "stream",
     "text": [
      "[1] \"/sc-projects/sc-proj-ukb-cvd\"\n"
     ]
    }
   ],
   "source": [
    "if (grepl(\"sc\", Sys.info()[[\"nodename\"]], fixed=TRUE)) {\n",
    "    base_path = \"/sc-projects/sc-proj-ukb-cvd\"\n",
    "} else {\n",
    "    base_path = \"/data/analysis/ag-reils/ag-reils-shared/cardioRS\"}\n",
    "print(base_path)\n",
    "\n",
    "project_label=\"22_medical_records\"\n",
    "project_path = glue(\"{base_path}/results/projects/{project_label}\")\n",
    "figure_path = glue(\"{project_path}/figures\")\n",
    "output_path = glue(\"{project_path}/data\")\n",
    "\n",
    "experiment = 220531\n",
    "experiment_path = glue(\"{output_path}/{experiment}\")"
   ]
  },
  {
   "cell_type": "markdown",
   "metadata": {},
   "source": [
    "## Load data"
   ]
  },
  {
   "cell_type": "code",
   "execution_count": 4,
   "metadata": {
    "execution": {
     "iopub.execute_input": "2022-06-15T17:05:34.963029Z",
     "iopub.status.busy": "2022-06-15T17:05:34.962275Z",
     "iopub.status.idle": "2022-06-15T17:05:36.050446Z",
     "shell.execute_reply": "2022-06-15T17:05:36.049296Z"
    },
    "tags": []
   },
   "outputs": [],
   "source": [
    "endpoint_defs = arrow::read_feather(glue(\"{output_path}/phecode_defs_220306.feather\")) %>% arrange(endpoint)"
   ]
  },
  {
   "cell_type": "code",
   "execution_count": 5,
   "metadata": {
    "execution": {
     "iopub.execute_input": "2022-06-15T17:05:36.052457Z",
     "iopub.status.busy": "2022-06-15T17:05:36.051723Z",
     "iopub.status.idle": "2022-06-15T17:05:58.165462Z",
     "shell.execute_reply": "2022-06-15T17:05:58.164211Z"
    },
    "tags": []
   },
   "outputs": [],
   "source": [
    "data_outcomes = arrow::read_feather(glue(\"{output_path}/baseline_outcomes_220531.feather\", as_data_frame=FALSE))"
   ]
  },
  {
   "cell_type": "code",
   "execution_count": 6,
   "metadata": {
    "execution": {
     "iopub.execute_input": "2022-06-15T17:05:58.167584Z",
     "iopub.status.busy": "2022-06-15T17:05:58.166832Z",
     "iopub.status.idle": "2022-06-15T17:05:58.176633Z",
     "shell.execute_reply": "2022-06-15T17:05:58.175751Z"
    },
    "tags": []
   },
   "outputs": [],
   "source": [
    "dataset_path = \"/sc-projects/sc-proj-ukb-cvd/data/3_datasets_post/210616_centres_dask\""
   ]
  },
  {
   "cell_type": "code",
   "execution_count": 7,
   "metadata": {
    "ExecuteTime": {
     "end_time": "2021-01-05T07:55:31.574426Z",
     "start_time": "2021-01-05T07:55:04.259Z"
    },
    "execution": {
     "iopub.execute_input": "2022-06-15T17:05:58.178727Z",
     "iopub.status.busy": "2022-06-15T17:05:58.177978Z",
     "iopub.status.idle": "2022-06-15T17:06:06.129228Z",
     "shell.execute_reply": "2022-06-15T17:06:06.128256Z"
    },
    "tags": []
   },
   "outputs": [],
   "source": [
    "data = arrow::read_feather(glue(\"{dataset_path}/data_merged.feather\")) %>% filter(eid %in% unique(data_outcomes$eid)) %>% select(!ends_with(\"_event\")&!ends_with(\"_event_time\"))\n",
    "data_description = arrow::read_feather(glue(\"{dataset_path}/description.feather\"))"
   ]
  },
  {
   "cell_type": "code",
   "execution_count": 8,
   "metadata": {
    "execution": {
     "iopub.execute_input": "2022-06-15T17:06:06.131059Z",
     "iopub.status.busy": "2022-06-15T17:06:06.130404Z",
     "iopub.status.idle": "2022-06-15T17:06:06.177957Z",
     "shell.execute_reply": "2022-06-15T17:06:06.176932Z"
    },
    "tags": []
   },
   "outputs": [],
   "source": [
    "data = data %>% \n",
    "    mutate(erectile_dysfunction = case_when(sex==\"Female\" ~ FALSE, TRUE ~ erectile_dysfunction))"
   ]
  },
  {
   "cell_type": "code",
   "execution_count": 9,
   "metadata": {
    "ExecuteTime": {
     "end_time": "2021-01-05T07:55:32.625039Z",
     "start_time": "2021-01-05T07:55:06.938Z"
    },
    "execution": {
     "iopub.execute_input": "2022-06-15T17:06:06.179804Z",
     "iopub.status.busy": "2022-06-15T17:06:06.179159Z",
     "iopub.status.idle": "2022-06-15T17:06:06.247922Z",
     "shell.execute_reply": "2022-06-15T17:06:06.246836Z"
    },
    "tags": []
   },
   "outputs": [],
   "source": [
    "data = data %>% mutate_at(c(\"sex\", \"overall_health_rating\", \"smoking_status\", \"ethnic_background\"), as.factor)\n",
    "data = data %>% mutate(sex=fct_relevel(sex, c(\"Male\", \"Female\")),\n",
    "                       overall_health_rating=fct_relevel(overall_health_rating, c(\"Excellent\", \"Good\", \"Fair\", \"Poor\")),\n",
    "                       smoking_status=fct_relevel(smoking_status, c(\"Current\", \"Previous\", \"Never\")))"
   ]
  },
  {
   "cell_type": "code",
   "execution_count": 10,
   "metadata": {
    "execution": {
     "iopub.execute_input": "2022-06-15T17:06:06.250034Z",
     "iopub.status.busy": "2022-06-15T17:06:06.249340Z",
     "iopub.status.idle": "2022-06-15T17:06:06.262170Z",
     "shell.execute_reply": "2022-06-15T17:06:06.261333Z"
    },
    "tags": []
   },
   "outputs": [],
   "source": [
    "f = list()\n",
    "f$basics = c('age_at_recruitment','sex', 'ethnic_background',\"townsend_deprivation_index_at_recruitment\")\n",
    "f$questionnaire = c('overall_health_rating','smoking_status')\n",
    "f$measurements = c('body_mass_index_bmi','weight',\"standing_height\",'systolic_blood_pressure','diastolic_blood_pressure')\n",
    "f$labs = c(\"cholesterol\", \"hdl_cholesterol\", \"ldl_direct\",\"triglycerides\")\n",
    "f$family_history = c('fh_heart_disease')\n",
    "f$diagnoses = c(\"diabetes1\", \"diabetes2\", \"chronic_kidney_disease\", \"atrial_fibrillation\", \"migraine\", \n",
    "                      \"rheumatoid_arthritis\", \"systemic_lupus_erythematosus\", \"severe_mental_illness\", \"erectile_dysfunction\")\n",
    "f$medications = c(\"antihypertensives\", \"ass\", \"atypical_antipsychotics\", \"glucocorticoids\")"
   ]
  },
  {
   "cell_type": "code",
   "execution_count": 11,
   "metadata": {
    "execution": {
     "iopub.execute_input": "2022-06-15T17:06:06.264156Z",
     "iopub.status.busy": "2022-06-15T17:06:06.263438Z",
     "iopub.status.idle": "2022-06-15T17:06:06.269605Z",
     "shell.execute_reply": "2022-06-15T17:06:06.268769Z"
    },
    "tags": []
   },
   "outputs": [],
   "source": [
    "PANEL = c( # 38 clinical predictors\n",
    "    # basics\n",
    "    \"age_at_recruitment\", \n",
    "    \"sex\", \n",
    "    \"ethnic_background\",# # added\n",
    "   # \"education_years\",\n",
    "    'smoking_status', # current smoker\n",
    "    #'alcohol_intake_frequency', # 'Daily or almost daily'\n",
    "  #  \"daily_physical_activity\",\n",
    "\n",
    "    #\"daily_healthy_food\",\n",
    "    \n",
    "    # family history\n",
    "   # \"fh_diabetes\",\n",
    "    \n",
    "    # diagnoses\n",
    "   # \"diabetes2\",\n",
    "        \n",
    "    # physical\n",
    "    \"weight\", \n",
    "    \"standing_height\", \n",
    "    \"body_mass_index_bmi\",\n",
    "   # 'waist_hip_ratio',\n",
    "    #\"waist_circumference\",\n",
    "    \"systolic_blood_pressure\",\n",
    "    \n",
    "    # lipids\n",
    "   # \"cholesterol\", \n",
    "    \"ldl_direct\", \n",
    "    #\"hdl_cholesterol\",\n",
    "    #\"triglycerides\",\n",
    "    \n",
    "    # diabetes\n",
    "    'glucose'\n",
    "   # 'glycated_haemoglobin_hba1c',\n",
    "    \n",
    "    # kidney\n",
    "  #  'creatinine',\n",
    "  #  'cystatin_c',\n",
    "  #  'urea',\n",
    "  #  'urate',\n",
    "        \n",
    "    # liver\n",
    "  #  'aspartate_aminotransferase',\n",
    "  #  'alanine_aminotransferase',\n",
    "   # 'alkaline_phosphatase',\n",
    "   # 'albumin',\n",
    "    \n",
    "    # inflammation\n",
    "   # 'creactive_protein',\n",
    "    \n",
    "    # Blood counts\n",
    "   # 'red_blood_cell_erythrocyte_count',\n",
    "   # 'white_blood_cell_leukocyte_count',\n",
    "   # 'platelet_count',\n",
    "   # 'haemoglobin_concentration',\n",
    "   # 'haematocrit_percentage',\n",
    "   #     'mean_corpuscular_volume',\n",
    "   # 'mean_corpuscular_haemoglobin',\n",
    "  #  'mean_corpuscular_haemoglobin_concentration',\n",
    "    \n",
    "    # medications\n",
    "  #  'antihypertensives'\n",
    "        )"
   ]
  },
  {
   "cell_type": "markdown",
   "metadata": {},
   "source": [
    "# Baseline Characteristics - Table 1"
   ]
  },
  {
   "cell_type": "code",
   "execution_count": 12,
   "metadata": {
    "execution": {
     "iopub.execute_input": "2022-06-15T17:06:06.271497Z",
     "iopub.status.busy": "2022-06-15T17:06:06.270790Z",
     "iopub.status.idle": "2022-06-15T17:06:06.281441Z",
     "shell.execute_reply": "2022-06-15T17:06:06.280646Z"
    },
    "tags": []
   },
   "outputs": [],
   "source": [
    "table_data = data %>% select(all_of(PANEL))"
   ]
  },
  {
   "cell_type": "code",
   "execution_count": 13,
   "metadata": {
    "execution": {
     "iopub.execute_input": "2022-06-15T17:06:06.283344Z",
     "iopub.status.busy": "2022-06-15T17:06:06.282625Z",
     "iopub.status.idle": "2022-06-15T17:06:06.335420Z",
     "shell.execute_reply": "2022-06-15T17:06:06.334553Z"
    },
    "tags": []
   },
   "outputs": [
    {
     "data": {
      "text/html": [
       "<table class=\"dataframe\">\n",
       "<caption>A tibble: 502460 × 10</caption>\n",
       "<thead>\n",
       "\t<tr><th scope=col>age_at_recruitment</th><th scope=col>sex</th><th scope=col>ethnic_background</th><th scope=col>smoking_status</th><th scope=col>weight</th><th scope=col>standing_height</th><th scope=col>body_mass_index_bmi</th><th scope=col>systolic_blood_pressure</th><th scope=col>ldl_direct</th><th scope=col>glucose</th></tr>\n",
       "\t<tr><th scope=col>&lt;dbl&gt;</th><th scope=col>&lt;fct&gt;</th><th scope=col>&lt;fct&gt;</th><th scope=col>&lt;ord&gt;</th><th scope=col>&lt;dbl&gt;</th><th scope=col>&lt;dbl&gt;</th><th scope=col>&lt;dbl&gt;</th><th scope=col>&lt;dbl&gt;</th><th scope=col>&lt;dbl&gt;</th><th scope=col>&lt;dbl&gt;</th></tr>\n",
       "</thead>\n",
       "<tbody>\n",
       "\t<tr><td>49</td><td>Female</td><td>White</td><td>Current </td><td> 63.8</td><td>155.0</td><td>26.5557</td><td>159.5</td><td>3.352</td><td>5.101</td></tr>\n",
       "\t<tr><td>59</td><td>Male  </td><td>White</td><td>Current </td><td> 70.7</td><td>176.3</td><td>22.7465</td><td>133.0</td><td>5.389</td><td>4.835</td></tr>\n",
       "\t<tr><td>59</td><td>Female</td><td>White</td><td>Previous</td><td> 78.9</td><td>156.0</td><td>32.4211</td><td>118.5</td><td>   NA</td><td>   NA</td></tr>\n",
       "\t<tr><td>63</td><td>Male  </td><td>White</td><td>Previous</td><td> 95.8</td><td>180.0</td><td>29.5679</td><td>141.5</td><td>3.128</td><td>5.060</td></tr>\n",
       "\t<tr><td>51</td><td>Female</td><td>White</td><td>Never   </td><td> 92.3</td><td>150.0</td><td>41.0222</td><td>117.0</td><td>   NA</td><td>   NA</td></tr>\n",
       "\t<tr><td>67</td><td>Male  </td><td>White</td><td>Never   </td><td> 76.0</td><td>178.0</td><td>23.9869</td><td>138.0</td><td>2.579</td><td>5.652</td></tr>\n",
       "\t<tr><td>60</td><td>Female</td><td>White</td><td>Never   </td><td> 60.1</td><td>155.0</td><td>25.0156</td><td>146.0</td><td>4.732</td><td>4.973</td></tr>\n",
       "\t<tr><td>43</td><td>Male  </td><td>White</td><td>Never   </td><td> 88.9</td><td>174.0</td><td>29.3632</td><td>155.0</td><td>4.076</td><td>6.158</td></tr>\n",
       "\t<tr><td>50</td><td>Female</td><td>Black</td><td>Current </td><td> 70.5</td><td>161.0</td><td>27.1980</td><td>130.5</td><td>3.329</td><td>4.688</td></tr>\n",
       "\t<tr><td>57</td><td>Female</td><td>White</td><td>Never   </td><td> 56.1</td><td>167.0</td><td>20.1155</td><td>114.0</td><td>4.265</td><td>5.258</td></tr>\n",
       "\t<tr><td>43</td><td>Female</td><td>White</td><td>Never   </td><td> 72.6</td><td>169.0</td><td>25.4193</td><td>118.0</td><td>3.158</td><td>5.736</td></tr>\n",
       "\t<tr><td>50</td><td>Female</td><td>White</td><td>Previous</td><td> 65.6</td><td>170.0</td><td>22.6990</td><td>105.5</td><td>3.764</td><td>5.102</td></tr>\n",
       "\t<tr><td>46</td><td>Female</td><td>White</td><td>Never   </td><td> 76.6</td><td>168.0</td><td>27.1400</td><td>127.0</td><td>4.669</td><td>5.306</td></tr>\n",
       "\t<tr><td>41</td><td>Male  </td><td>White</td><td>Current </td><td>   NA</td><td>   NA</td><td>     NA</td><td>   NA</td><td>   NA</td><td>   NA</td></tr>\n",
       "\t<tr><td>51</td><td>Female</td><td>White</td><td>Never   </td><td> 62.7</td><td>153.0</td><td>26.7846</td><td>127.5</td><td>2.989</td><td>5.732</td></tr>\n",
       "\t<tr><td>42</td><td>Male  </td><td>White</td><td>Current </td><td> 63.5</td><td>176.0</td><td>20.4997</td><td>125.5</td><td>3.109</td><td>4.018</td></tr>\n",
       "\t<tr><td>60</td><td>Female</td><td>White</td><td>Never   </td><td> 55.7</td><td>160.0</td><td>21.7578</td><td>143.5</td><td>3.685</td><td>4.455</td></tr>\n",
       "\t<tr><td>44</td><td>Female</td><td>NA   </td><td>Never   </td><td> 75.0</td><td>154.0</td><td>31.6242</td><td>140.0</td><td>3.052</td><td>5.707</td></tr>\n",
       "\t<tr><td>55</td><td>Female</td><td>White</td><td>Never   </td><td> 59.9</td><td>165.0</td><td>22.0018</td><td>136.0</td><td>4.210</td><td>6.467</td></tr>\n",
       "\t<tr><td>43</td><td>Male  </td><td>White</td><td>Previous</td><td> 90.1</td><td>179.0</td><td>28.1202</td><td>123.5</td><td>3.665</td><td>5.120</td></tr>\n",
       "\t<tr><td>64</td><td>Female</td><td>White</td><td>Never   </td><td> 60.2</td><td>160.0</td><td>23.5156</td><td>105.5</td><td>3.708</td><td>   NA</td></tr>\n",
       "\t<tr><td>65</td><td>Male  </td><td>White</td><td>Never   </td><td> 74.6</td><td>184.0</td><td>22.0345</td><td>141.5</td><td>4.264</td><td>4.663</td></tr>\n",
       "\t<tr><td>65</td><td>Female</td><td>White</td><td>Never   </td><td> 60.0</td><td>165.0</td><td>22.0386</td><td>124.5</td><td>3.601</td><td>9.607</td></tr>\n",
       "\t<tr><td>64</td><td>Male  </td><td>White</td><td>Previous</td><td>110.4</td><td>173.0</td><td>36.8873</td><td>133.0</td><td>2.507</td><td>4.519</td></tr>\n",
       "\t<tr><td>50</td><td>Male  </td><td>White</td><td>Never   </td><td> 79.4</td><td>177.0</td><td>25.3439</td><td>130.0</td><td>4.613</td><td>4.637</td></tr>\n",
       "\t<tr><td>42</td><td>Female</td><td>White</td><td>Never   </td><td> 76.3</td><td>173.0</td><td>25.4937</td><td>140.5</td><td>3.016</td><td>4.484</td></tr>\n",
       "\t<tr><td>68</td><td>Female</td><td>White</td><td>Never   </td><td> 61.3</td><td>150.0</td><td>27.2444</td><td>124.0</td><td>4.026</td><td>5.425</td></tr>\n",
       "\t<tr><td>64</td><td>Male  </td><td>White</td><td>Never   </td><td> 78.4</td><td>174.0</td><td>25.8951</td><td>135.5</td><td>2.949</td><td>4.068</td></tr>\n",
       "\t<tr><td>66</td><td>Female</td><td>White</td><td>Previous</td><td> 76.6</td><td>170.0</td><td>26.5052</td><td>139.0</td><td>3.734</td><td>5.029</td></tr>\n",
       "\t<tr><td>69</td><td>Male  </td><td>White</td><td>Current </td><td> 71.5</td><td>156.0</td><td>29.3803</td><td>125.5</td><td>3.339</td><td>4.781</td></tr>\n",
       "\t<tr><td>⋮</td><td>⋮</td><td>⋮</td><td>⋮</td><td>⋮</td><td>⋮</td><td>⋮</td><td>⋮</td><td>⋮</td><td>⋮</td></tr>\n",
       "\t<tr><td>44</td><td>Male  </td><td>White</td><td>Current </td><td>102.2</td><td>175.0</td><td>33.3714</td><td>144.0</td><td>3.287</td><td>5.101</td></tr>\n",
       "\t<tr><td>59</td><td>Male  </td><td>White</td><td>Never   </td><td> 90.4</td><td>186.0</td><td>26.1302</td><td>   NA</td><td>4.156</td><td>4.828</td></tr>\n",
       "\t<tr><td>62</td><td>Female</td><td>White</td><td>Previous</td><td> 78.4</td><td>164.0</td><td>29.1493</td><td>140.0</td><td>4.230</td><td>9.622</td></tr>\n",
       "\t<tr><td>58</td><td>Female</td><td>White</td><td>Current </td><td> 51.3</td><td>157.0</td><td>20.8122</td><td>127.0</td><td>3.886</td><td>4.455</td></tr>\n",
       "\t<tr><td>67</td><td>Male  </td><td>White</td><td>Current </td><td> 99.8</td><td>180.0</td><td>30.8025</td><td>131.5</td><td>2.338</td><td>4.757</td></tr>\n",
       "\t<tr><td>43</td><td>Female</td><td>White</td><td>Never   </td><td> 66.8</td><td>169.0</td><td>23.3885</td><td>123.5</td><td>3.164</td><td>4.655</td></tr>\n",
       "\t<tr><td>43</td><td>Male  </td><td>White</td><td>Current </td><td> 88.2</td><td>178.0</td><td>27.8374</td><td>123.5</td><td>3.462</td><td>5.050</td></tr>\n",
       "\t<tr><td>64</td><td>Female</td><td>White</td><td>Never   </td><td> 61.3</td><td>173.0</td><td>20.4818</td><td>117.0</td><td>3.294</td><td>4.484</td></tr>\n",
       "\t<tr><td>65</td><td>Female</td><td>White</td><td>Previous</td><td> 53.8</td><td>157.0</td><td>21.8264</td><td>129.0</td><td>3.875</td><td>4.714</td></tr>\n",
       "\t<tr><td>43</td><td>Female</td><td>White</td><td>Current </td><td> 66.7</td><td>164.0</td><td>24.7992</td><td>130.5</td><td>2.061</td><td>5.522</td></tr>\n",
       "\t<tr><td>60</td><td>Male  </td><td>White</td><td>Previous</td><td> 90.6</td><td>175.0</td><td>29.5837</td><td>133.0</td><td>2.649</td><td>4.872</td></tr>\n",
       "\t<tr><td>61</td><td>Male  </td><td>White</td><td>Previous</td><td> 88.8</td><td>165.0</td><td>32.6171</td><td>136.5</td><td>2.500</td><td>5.239</td></tr>\n",
       "\t<tr><td>61</td><td>Male  </td><td>White</td><td>Previous</td><td>103.5</td><td>188.0</td><td>29.2836</td><td>150.5</td><td>3.534</td><td>5.742</td></tr>\n",
       "\t<tr><td>64</td><td>Male  </td><td>White</td><td>Previous</td><td> 93.0</td><td>174.0</td><td>30.7174</td><td>124.0</td><td>3.198</td><td>4.803</td></tr>\n",
       "\t<tr><td>64</td><td>Male  </td><td>White</td><td>Previous</td><td> 99.5</td><td>185.0</td><td>29.0723</td><td>123.5</td><td>3.455</td><td>4.564</td></tr>\n",
       "\t<tr><td>59</td><td>Male  </td><td>White</td><td>Current </td><td> 98.1</td><td>175.5</td><td>31.8504</td><td>159.5</td><td>4.834</td><td>4.823</td></tr>\n",
       "\t<tr><td>45</td><td>Male  </td><td>White</td><td>Never   </td><td> 81.3</td><td>188.0</td><td>23.0025</td><td>132.5</td><td>3.248</td><td>5.736</td></tr>\n",
       "\t<tr><td>64</td><td>Male  </td><td>White</td><td>Previous</td><td> 74.9</td><td>170.0</td><td>25.9170</td><td>134.0</td><td>3.428</td><td>5.103</td></tr>\n",
       "\t<tr><td>63</td><td>Female</td><td>White</td><td>Previous</td><td>105.2</td><td>161.0</td><td>40.5849</td><td>125.5</td><td>2.384</td><td>5.092</td></tr>\n",
       "\t<tr><td>63</td><td>Male  </td><td>White</td><td>Previous</td><td> 80.4</td><td>173.0</td><td>26.8636</td><td>126.0</td><td>4.054</td><td>5.018</td></tr>\n",
       "\t<tr><td>41</td><td>Female</td><td>White</td><td>Previous</td><td> 69.3</td><td>167.0</td><td>24.8485</td><td>136.5</td><td>2.135</td><td>5.081</td></tr>\n",
       "\t<tr><td>52</td><td>Female</td><td>White</td><td>Never   </td><td> 90.5</td><td>160.0</td><td>35.3516</td><td>167.5</td><td>5.042</td><td>4.536</td></tr>\n",
       "\t<tr><td>64</td><td>Female</td><td>White</td><td>Never   </td><td> 71.1</td><td>161.0</td><td>27.4295</td><td>130.0</td><td>2.810</td><td>4.738</td></tr>\n",
       "\t<tr><td>49</td><td>Male  </td><td>White</td><td>Never   </td><td> 84.6</td><td>175.0</td><td>27.6245</td><td>127.5</td><td>3.005</td><td>4.538</td></tr>\n",
       "\t<tr><td>43</td><td>Male  </td><td>Asian</td><td>Never   </td><td> 59.0</td><td>164.0</td><td>21.9363</td><td>115.0</td><td>2.909</td><td>4.519</td></tr>\n",
       "\t<tr><td>43</td><td>Female</td><td>White</td><td>Never   </td><td> 72.4</td><td>169.0</td><td>25.3493</td><td>122.5</td><td>3.492</td><td>4.421</td></tr>\n",
       "\t<tr><td>45</td><td>Female</td><td>White</td><td>Never   </td><td> 62.8</td><td>161.0</td><td>24.2275</td><td>152.5</td><td>3.114</td><td>4.864</td></tr>\n",
       "\t<tr><td>57</td><td>Male  </td><td>White</td><td>Never   </td><td> 81.3</td><td>177.0</td><td>25.9504</td><td>131.0</td><td>3.886</td><td>4.907</td></tr>\n",
       "\t<tr><td>56</td><td>Male  </td><td>White</td><td>Previous</td><td>104.1</td><td>189.0</td><td>29.1425</td><td>127.5</td><td>3.480</td><td>4.755</td></tr>\n",
       "\t<tr><td>67</td><td>Male  </td><td>White</td><td>Current </td><td>102.4</td><td>186.0</td><td>29.5988</td><td>156.5</td><td>4.802</td><td>5.322</td></tr>\n",
       "</tbody>\n",
       "</table>\n"
      ],
      "text/latex": [
       "A tibble: 502460 × 10\n",
       "\\begin{tabular}{llllllllll}\n",
       " age\\_at\\_recruitment & sex & ethnic\\_background & smoking\\_status & weight & standing\\_height & body\\_mass\\_index\\_bmi & systolic\\_blood\\_pressure & ldl\\_direct & glucose\\\\\n",
       " <dbl> & <fct> & <fct> & <ord> & <dbl> & <dbl> & <dbl> & <dbl> & <dbl> & <dbl>\\\\\n",
       "\\hline\n",
       "\t 49 & Female & White & Current  &  63.8 & 155.0 & 26.5557 & 159.5 & 3.352 & 5.101\\\\\n",
       "\t 59 & Male   & White & Current  &  70.7 & 176.3 & 22.7465 & 133.0 & 5.389 & 4.835\\\\\n",
       "\t 59 & Female & White & Previous &  78.9 & 156.0 & 32.4211 & 118.5 &    NA &    NA\\\\\n",
       "\t 63 & Male   & White & Previous &  95.8 & 180.0 & 29.5679 & 141.5 & 3.128 & 5.060\\\\\n",
       "\t 51 & Female & White & Never    &  92.3 & 150.0 & 41.0222 & 117.0 &    NA &    NA\\\\\n",
       "\t 67 & Male   & White & Never    &  76.0 & 178.0 & 23.9869 & 138.0 & 2.579 & 5.652\\\\\n",
       "\t 60 & Female & White & Never    &  60.1 & 155.0 & 25.0156 & 146.0 & 4.732 & 4.973\\\\\n",
       "\t 43 & Male   & White & Never    &  88.9 & 174.0 & 29.3632 & 155.0 & 4.076 & 6.158\\\\\n",
       "\t 50 & Female & Black & Current  &  70.5 & 161.0 & 27.1980 & 130.5 & 3.329 & 4.688\\\\\n",
       "\t 57 & Female & White & Never    &  56.1 & 167.0 & 20.1155 & 114.0 & 4.265 & 5.258\\\\\n",
       "\t 43 & Female & White & Never    &  72.6 & 169.0 & 25.4193 & 118.0 & 3.158 & 5.736\\\\\n",
       "\t 50 & Female & White & Previous &  65.6 & 170.0 & 22.6990 & 105.5 & 3.764 & 5.102\\\\\n",
       "\t 46 & Female & White & Never    &  76.6 & 168.0 & 27.1400 & 127.0 & 4.669 & 5.306\\\\\n",
       "\t 41 & Male   & White & Current  &    NA &    NA &      NA &    NA &    NA &    NA\\\\\n",
       "\t 51 & Female & White & Never    &  62.7 & 153.0 & 26.7846 & 127.5 & 2.989 & 5.732\\\\\n",
       "\t 42 & Male   & White & Current  &  63.5 & 176.0 & 20.4997 & 125.5 & 3.109 & 4.018\\\\\n",
       "\t 60 & Female & White & Never    &  55.7 & 160.0 & 21.7578 & 143.5 & 3.685 & 4.455\\\\\n",
       "\t 44 & Female & NA    & Never    &  75.0 & 154.0 & 31.6242 & 140.0 & 3.052 & 5.707\\\\\n",
       "\t 55 & Female & White & Never    &  59.9 & 165.0 & 22.0018 & 136.0 & 4.210 & 6.467\\\\\n",
       "\t 43 & Male   & White & Previous &  90.1 & 179.0 & 28.1202 & 123.5 & 3.665 & 5.120\\\\\n",
       "\t 64 & Female & White & Never    &  60.2 & 160.0 & 23.5156 & 105.5 & 3.708 &    NA\\\\\n",
       "\t 65 & Male   & White & Never    &  74.6 & 184.0 & 22.0345 & 141.5 & 4.264 & 4.663\\\\\n",
       "\t 65 & Female & White & Never    &  60.0 & 165.0 & 22.0386 & 124.5 & 3.601 & 9.607\\\\\n",
       "\t 64 & Male   & White & Previous & 110.4 & 173.0 & 36.8873 & 133.0 & 2.507 & 4.519\\\\\n",
       "\t 50 & Male   & White & Never    &  79.4 & 177.0 & 25.3439 & 130.0 & 4.613 & 4.637\\\\\n",
       "\t 42 & Female & White & Never    &  76.3 & 173.0 & 25.4937 & 140.5 & 3.016 & 4.484\\\\\n",
       "\t 68 & Female & White & Never    &  61.3 & 150.0 & 27.2444 & 124.0 & 4.026 & 5.425\\\\\n",
       "\t 64 & Male   & White & Never    &  78.4 & 174.0 & 25.8951 & 135.5 & 2.949 & 4.068\\\\\n",
       "\t 66 & Female & White & Previous &  76.6 & 170.0 & 26.5052 & 139.0 & 3.734 & 5.029\\\\\n",
       "\t 69 & Male   & White & Current  &  71.5 & 156.0 & 29.3803 & 125.5 & 3.339 & 4.781\\\\\n",
       "\t ⋮ & ⋮ & ⋮ & ⋮ & ⋮ & ⋮ & ⋮ & ⋮ & ⋮ & ⋮\\\\\n",
       "\t 44 & Male   & White & Current  & 102.2 & 175.0 & 33.3714 & 144.0 & 3.287 & 5.101\\\\\n",
       "\t 59 & Male   & White & Never    &  90.4 & 186.0 & 26.1302 &    NA & 4.156 & 4.828\\\\\n",
       "\t 62 & Female & White & Previous &  78.4 & 164.0 & 29.1493 & 140.0 & 4.230 & 9.622\\\\\n",
       "\t 58 & Female & White & Current  &  51.3 & 157.0 & 20.8122 & 127.0 & 3.886 & 4.455\\\\\n",
       "\t 67 & Male   & White & Current  &  99.8 & 180.0 & 30.8025 & 131.5 & 2.338 & 4.757\\\\\n",
       "\t 43 & Female & White & Never    &  66.8 & 169.0 & 23.3885 & 123.5 & 3.164 & 4.655\\\\\n",
       "\t 43 & Male   & White & Current  &  88.2 & 178.0 & 27.8374 & 123.5 & 3.462 & 5.050\\\\\n",
       "\t 64 & Female & White & Never    &  61.3 & 173.0 & 20.4818 & 117.0 & 3.294 & 4.484\\\\\n",
       "\t 65 & Female & White & Previous &  53.8 & 157.0 & 21.8264 & 129.0 & 3.875 & 4.714\\\\\n",
       "\t 43 & Female & White & Current  &  66.7 & 164.0 & 24.7992 & 130.5 & 2.061 & 5.522\\\\\n",
       "\t 60 & Male   & White & Previous &  90.6 & 175.0 & 29.5837 & 133.0 & 2.649 & 4.872\\\\\n",
       "\t 61 & Male   & White & Previous &  88.8 & 165.0 & 32.6171 & 136.5 & 2.500 & 5.239\\\\\n",
       "\t 61 & Male   & White & Previous & 103.5 & 188.0 & 29.2836 & 150.5 & 3.534 & 5.742\\\\\n",
       "\t 64 & Male   & White & Previous &  93.0 & 174.0 & 30.7174 & 124.0 & 3.198 & 4.803\\\\\n",
       "\t 64 & Male   & White & Previous &  99.5 & 185.0 & 29.0723 & 123.5 & 3.455 & 4.564\\\\\n",
       "\t 59 & Male   & White & Current  &  98.1 & 175.5 & 31.8504 & 159.5 & 4.834 & 4.823\\\\\n",
       "\t 45 & Male   & White & Never    &  81.3 & 188.0 & 23.0025 & 132.5 & 3.248 & 5.736\\\\\n",
       "\t 64 & Male   & White & Previous &  74.9 & 170.0 & 25.9170 & 134.0 & 3.428 & 5.103\\\\\n",
       "\t 63 & Female & White & Previous & 105.2 & 161.0 & 40.5849 & 125.5 & 2.384 & 5.092\\\\\n",
       "\t 63 & Male   & White & Previous &  80.4 & 173.0 & 26.8636 & 126.0 & 4.054 & 5.018\\\\\n",
       "\t 41 & Female & White & Previous &  69.3 & 167.0 & 24.8485 & 136.5 & 2.135 & 5.081\\\\\n",
       "\t 52 & Female & White & Never    &  90.5 & 160.0 & 35.3516 & 167.5 & 5.042 & 4.536\\\\\n",
       "\t 64 & Female & White & Never    &  71.1 & 161.0 & 27.4295 & 130.0 & 2.810 & 4.738\\\\\n",
       "\t 49 & Male   & White & Never    &  84.6 & 175.0 & 27.6245 & 127.5 & 3.005 & 4.538\\\\\n",
       "\t 43 & Male   & Asian & Never    &  59.0 & 164.0 & 21.9363 & 115.0 & 2.909 & 4.519\\\\\n",
       "\t 43 & Female & White & Never    &  72.4 & 169.0 & 25.3493 & 122.5 & 3.492 & 4.421\\\\\n",
       "\t 45 & Female & White & Never    &  62.8 & 161.0 & 24.2275 & 152.5 & 3.114 & 4.864\\\\\n",
       "\t 57 & Male   & White & Never    &  81.3 & 177.0 & 25.9504 & 131.0 & 3.886 & 4.907\\\\\n",
       "\t 56 & Male   & White & Previous & 104.1 & 189.0 & 29.1425 & 127.5 & 3.480 & 4.755\\\\\n",
       "\t 67 & Male   & White & Current  & 102.4 & 186.0 & 29.5988 & 156.5 & 4.802 & 5.322\\\\\n",
       "\\end{tabular}\n"
      ],
      "text/markdown": [
       "\n",
       "A tibble: 502460 × 10\n",
       "\n",
       "| age_at_recruitment &lt;dbl&gt; | sex &lt;fct&gt; | ethnic_background &lt;fct&gt; | smoking_status &lt;ord&gt; | weight &lt;dbl&gt; | standing_height &lt;dbl&gt; | body_mass_index_bmi &lt;dbl&gt; | systolic_blood_pressure &lt;dbl&gt; | ldl_direct &lt;dbl&gt; | glucose &lt;dbl&gt; |\n",
       "|---|---|---|---|---|---|---|---|---|---|\n",
       "| 49 | Female | White | Current  |  63.8 | 155.0 | 26.5557 | 159.5 | 3.352 | 5.101 |\n",
       "| 59 | Male   | White | Current  |  70.7 | 176.3 | 22.7465 | 133.0 | 5.389 | 4.835 |\n",
       "| 59 | Female | White | Previous |  78.9 | 156.0 | 32.4211 | 118.5 |    NA |    NA |\n",
       "| 63 | Male   | White | Previous |  95.8 | 180.0 | 29.5679 | 141.5 | 3.128 | 5.060 |\n",
       "| 51 | Female | White | Never    |  92.3 | 150.0 | 41.0222 | 117.0 |    NA |    NA |\n",
       "| 67 | Male   | White | Never    |  76.0 | 178.0 | 23.9869 | 138.0 | 2.579 | 5.652 |\n",
       "| 60 | Female | White | Never    |  60.1 | 155.0 | 25.0156 | 146.0 | 4.732 | 4.973 |\n",
       "| 43 | Male   | White | Never    |  88.9 | 174.0 | 29.3632 | 155.0 | 4.076 | 6.158 |\n",
       "| 50 | Female | Black | Current  |  70.5 | 161.0 | 27.1980 | 130.5 | 3.329 | 4.688 |\n",
       "| 57 | Female | White | Never    |  56.1 | 167.0 | 20.1155 | 114.0 | 4.265 | 5.258 |\n",
       "| 43 | Female | White | Never    |  72.6 | 169.0 | 25.4193 | 118.0 | 3.158 | 5.736 |\n",
       "| 50 | Female | White | Previous |  65.6 | 170.0 | 22.6990 | 105.5 | 3.764 | 5.102 |\n",
       "| 46 | Female | White | Never    |  76.6 | 168.0 | 27.1400 | 127.0 | 4.669 | 5.306 |\n",
       "| 41 | Male   | White | Current  |    NA |    NA |      NA |    NA |    NA |    NA |\n",
       "| 51 | Female | White | Never    |  62.7 | 153.0 | 26.7846 | 127.5 | 2.989 | 5.732 |\n",
       "| 42 | Male   | White | Current  |  63.5 | 176.0 | 20.4997 | 125.5 | 3.109 | 4.018 |\n",
       "| 60 | Female | White | Never    |  55.7 | 160.0 | 21.7578 | 143.5 | 3.685 | 4.455 |\n",
       "| 44 | Female | NA    | Never    |  75.0 | 154.0 | 31.6242 | 140.0 | 3.052 | 5.707 |\n",
       "| 55 | Female | White | Never    |  59.9 | 165.0 | 22.0018 | 136.0 | 4.210 | 6.467 |\n",
       "| 43 | Male   | White | Previous |  90.1 | 179.0 | 28.1202 | 123.5 | 3.665 | 5.120 |\n",
       "| 64 | Female | White | Never    |  60.2 | 160.0 | 23.5156 | 105.5 | 3.708 |    NA |\n",
       "| 65 | Male   | White | Never    |  74.6 | 184.0 | 22.0345 | 141.5 | 4.264 | 4.663 |\n",
       "| 65 | Female | White | Never    |  60.0 | 165.0 | 22.0386 | 124.5 | 3.601 | 9.607 |\n",
       "| 64 | Male   | White | Previous | 110.4 | 173.0 | 36.8873 | 133.0 | 2.507 | 4.519 |\n",
       "| 50 | Male   | White | Never    |  79.4 | 177.0 | 25.3439 | 130.0 | 4.613 | 4.637 |\n",
       "| 42 | Female | White | Never    |  76.3 | 173.0 | 25.4937 | 140.5 | 3.016 | 4.484 |\n",
       "| 68 | Female | White | Never    |  61.3 | 150.0 | 27.2444 | 124.0 | 4.026 | 5.425 |\n",
       "| 64 | Male   | White | Never    |  78.4 | 174.0 | 25.8951 | 135.5 | 2.949 | 4.068 |\n",
       "| 66 | Female | White | Previous |  76.6 | 170.0 | 26.5052 | 139.0 | 3.734 | 5.029 |\n",
       "| 69 | Male   | White | Current  |  71.5 | 156.0 | 29.3803 | 125.5 | 3.339 | 4.781 |\n",
       "| ⋮ | ⋮ | ⋮ | ⋮ | ⋮ | ⋮ | ⋮ | ⋮ | ⋮ | ⋮ |\n",
       "| 44 | Male   | White | Current  | 102.2 | 175.0 | 33.3714 | 144.0 | 3.287 | 5.101 |\n",
       "| 59 | Male   | White | Never    |  90.4 | 186.0 | 26.1302 |    NA | 4.156 | 4.828 |\n",
       "| 62 | Female | White | Previous |  78.4 | 164.0 | 29.1493 | 140.0 | 4.230 | 9.622 |\n",
       "| 58 | Female | White | Current  |  51.3 | 157.0 | 20.8122 | 127.0 | 3.886 | 4.455 |\n",
       "| 67 | Male   | White | Current  |  99.8 | 180.0 | 30.8025 | 131.5 | 2.338 | 4.757 |\n",
       "| 43 | Female | White | Never    |  66.8 | 169.0 | 23.3885 | 123.5 | 3.164 | 4.655 |\n",
       "| 43 | Male   | White | Current  |  88.2 | 178.0 | 27.8374 | 123.5 | 3.462 | 5.050 |\n",
       "| 64 | Female | White | Never    |  61.3 | 173.0 | 20.4818 | 117.0 | 3.294 | 4.484 |\n",
       "| 65 | Female | White | Previous |  53.8 | 157.0 | 21.8264 | 129.0 | 3.875 | 4.714 |\n",
       "| 43 | Female | White | Current  |  66.7 | 164.0 | 24.7992 | 130.5 | 2.061 | 5.522 |\n",
       "| 60 | Male   | White | Previous |  90.6 | 175.0 | 29.5837 | 133.0 | 2.649 | 4.872 |\n",
       "| 61 | Male   | White | Previous |  88.8 | 165.0 | 32.6171 | 136.5 | 2.500 | 5.239 |\n",
       "| 61 | Male   | White | Previous | 103.5 | 188.0 | 29.2836 | 150.5 | 3.534 | 5.742 |\n",
       "| 64 | Male   | White | Previous |  93.0 | 174.0 | 30.7174 | 124.0 | 3.198 | 4.803 |\n",
       "| 64 | Male   | White | Previous |  99.5 | 185.0 | 29.0723 | 123.5 | 3.455 | 4.564 |\n",
       "| 59 | Male   | White | Current  |  98.1 | 175.5 | 31.8504 | 159.5 | 4.834 | 4.823 |\n",
       "| 45 | Male   | White | Never    |  81.3 | 188.0 | 23.0025 | 132.5 | 3.248 | 5.736 |\n",
       "| 64 | Male   | White | Previous |  74.9 | 170.0 | 25.9170 | 134.0 | 3.428 | 5.103 |\n",
       "| 63 | Female | White | Previous | 105.2 | 161.0 | 40.5849 | 125.5 | 2.384 | 5.092 |\n",
       "| 63 | Male   | White | Previous |  80.4 | 173.0 | 26.8636 | 126.0 | 4.054 | 5.018 |\n",
       "| 41 | Female | White | Previous |  69.3 | 167.0 | 24.8485 | 136.5 | 2.135 | 5.081 |\n",
       "| 52 | Female | White | Never    |  90.5 | 160.0 | 35.3516 | 167.5 | 5.042 | 4.536 |\n",
       "| 64 | Female | White | Never    |  71.1 | 161.0 | 27.4295 | 130.0 | 2.810 | 4.738 |\n",
       "| 49 | Male   | White | Never    |  84.6 | 175.0 | 27.6245 | 127.5 | 3.005 | 4.538 |\n",
       "| 43 | Male   | Asian | Never    |  59.0 | 164.0 | 21.9363 | 115.0 | 2.909 | 4.519 |\n",
       "| 43 | Female | White | Never    |  72.4 | 169.0 | 25.3493 | 122.5 | 3.492 | 4.421 |\n",
       "| 45 | Female | White | Never    |  62.8 | 161.0 | 24.2275 | 152.5 | 3.114 | 4.864 |\n",
       "| 57 | Male   | White | Never    |  81.3 | 177.0 | 25.9504 | 131.0 | 3.886 | 4.907 |\n",
       "| 56 | Male   | White | Previous | 104.1 | 189.0 | 29.1425 | 127.5 | 3.480 | 4.755 |\n",
       "| 67 | Male   | White | Current  | 102.4 | 186.0 | 29.5988 | 156.5 | 4.802 | 5.322 |\n",
       "\n"
      ],
      "text/plain": [
       "       age_at_recruitment sex    ethnic_background smoking_status weight\n",
       "1      49                 Female White             Current         63.8 \n",
       "2      59                 Male   White             Current         70.7 \n",
       "3      59                 Female White             Previous        78.9 \n",
       "4      63                 Male   White             Previous        95.8 \n",
       "5      51                 Female White             Never           92.3 \n",
       "6      67                 Male   White             Never           76.0 \n",
       "7      60                 Female White             Never           60.1 \n",
       "8      43                 Male   White             Never           88.9 \n",
       "9      50                 Female Black             Current         70.5 \n",
       "10     57                 Female White             Never           56.1 \n",
       "11     43                 Female White             Never           72.6 \n",
       "12     50                 Female White             Previous        65.6 \n",
       "13     46                 Female White             Never           76.6 \n",
       "14     41                 Male   White             Current           NA \n",
       "15     51                 Female White             Never           62.7 \n",
       "16     42                 Male   White             Current         63.5 \n",
       "17     60                 Female White             Never           55.7 \n",
       "18     44                 Female NA                Never           75.0 \n",
       "19     55                 Female White             Never           59.9 \n",
       "20     43                 Male   White             Previous        90.1 \n",
       "21     64                 Female White             Never           60.2 \n",
       "22     65                 Male   White             Never           74.6 \n",
       "23     65                 Female White             Never           60.0 \n",
       "24     64                 Male   White             Previous       110.4 \n",
       "25     50                 Male   White             Never           79.4 \n",
       "26     42                 Female White             Never           76.3 \n",
       "27     68                 Female White             Never           61.3 \n",
       "28     64                 Male   White             Never           78.4 \n",
       "29     66                 Female White             Previous        76.6 \n",
       "30     69                 Male   White             Current         71.5 \n",
       "⋮      ⋮                  ⋮      ⋮                 ⋮              ⋮     \n",
       "502431 44                 Male   White             Current        102.2 \n",
       "502432 59                 Male   White             Never           90.4 \n",
       "502433 62                 Female White             Previous        78.4 \n",
       "502434 58                 Female White             Current         51.3 \n",
       "502435 67                 Male   White             Current         99.8 \n",
       "502436 43                 Female White             Never           66.8 \n",
       "502437 43                 Male   White             Current         88.2 \n",
       "502438 64                 Female White             Never           61.3 \n",
       "502439 65                 Female White             Previous        53.8 \n",
       "502440 43                 Female White             Current         66.7 \n",
       "502441 60                 Male   White             Previous        90.6 \n",
       "502442 61                 Male   White             Previous        88.8 \n",
       "502443 61                 Male   White             Previous       103.5 \n",
       "502444 64                 Male   White             Previous        93.0 \n",
       "502445 64                 Male   White             Previous        99.5 \n",
       "502446 59                 Male   White             Current         98.1 \n",
       "502447 45                 Male   White             Never           81.3 \n",
       "502448 64                 Male   White             Previous        74.9 \n",
       "502449 63                 Female White             Previous       105.2 \n",
       "502450 63                 Male   White             Previous        80.4 \n",
       "502451 41                 Female White             Previous        69.3 \n",
       "502452 52                 Female White             Never           90.5 \n",
       "502453 64                 Female White             Never           71.1 \n",
       "502454 49                 Male   White             Never           84.6 \n",
       "502455 43                 Male   Asian             Never           59.0 \n",
       "502456 43                 Female White             Never           72.4 \n",
       "502457 45                 Female White             Never           62.8 \n",
       "502458 57                 Male   White             Never           81.3 \n",
       "502459 56                 Male   White             Previous       104.1 \n",
       "502460 67                 Male   White             Current        102.4 \n",
       "       standing_height body_mass_index_bmi systolic_blood_pressure ldl_direct\n",
       "1      155.0           26.5557             159.5                   3.352     \n",
       "2      176.3           22.7465             133.0                   5.389     \n",
       "3      156.0           32.4211             118.5                      NA     \n",
       "4      180.0           29.5679             141.5                   3.128     \n",
       "5      150.0           41.0222             117.0                      NA     \n",
       "6      178.0           23.9869             138.0                   2.579     \n",
       "7      155.0           25.0156             146.0                   4.732     \n",
       "8      174.0           29.3632             155.0                   4.076     \n",
       "9      161.0           27.1980             130.5                   3.329     \n",
       "10     167.0           20.1155             114.0                   4.265     \n",
       "11     169.0           25.4193             118.0                   3.158     \n",
       "12     170.0           22.6990             105.5                   3.764     \n",
       "13     168.0           27.1400             127.0                   4.669     \n",
       "14        NA                NA                NA                      NA     \n",
       "15     153.0           26.7846             127.5                   2.989     \n",
       "16     176.0           20.4997             125.5                   3.109     \n",
       "17     160.0           21.7578             143.5                   3.685     \n",
       "18     154.0           31.6242             140.0                   3.052     \n",
       "19     165.0           22.0018             136.0                   4.210     \n",
       "20     179.0           28.1202             123.5                   3.665     \n",
       "21     160.0           23.5156             105.5                   3.708     \n",
       "22     184.0           22.0345             141.5                   4.264     \n",
       "23     165.0           22.0386             124.5                   3.601     \n",
       "24     173.0           36.8873             133.0                   2.507     \n",
       "25     177.0           25.3439             130.0                   4.613     \n",
       "26     173.0           25.4937             140.5                   3.016     \n",
       "27     150.0           27.2444             124.0                   4.026     \n",
       "28     174.0           25.8951             135.5                   2.949     \n",
       "29     170.0           26.5052             139.0                   3.734     \n",
       "30     156.0           29.3803             125.5                   3.339     \n",
       "⋮      ⋮               ⋮                   ⋮                       ⋮         \n",
       "502431 175.0           33.3714             144.0                   3.287     \n",
       "502432 186.0           26.1302                NA                   4.156     \n",
       "502433 164.0           29.1493             140.0                   4.230     \n",
       "502434 157.0           20.8122             127.0                   3.886     \n",
       "502435 180.0           30.8025             131.5                   2.338     \n",
       "502436 169.0           23.3885             123.5                   3.164     \n",
       "502437 178.0           27.8374             123.5                   3.462     \n",
       "502438 173.0           20.4818             117.0                   3.294     \n",
       "502439 157.0           21.8264             129.0                   3.875     \n",
       "502440 164.0           24.7992             130.5                   2.061     \n",
       "502441 175.0           29.5837             133.0                   2.649     \n",
       "502442 165.0           32.6171             136.5                   2.500     \n",
       "502443 188.0           29.2836             150.5                   3.534     \n",
       "502444 174.0           30.7174             124.0                   3.198     \n",
       "502445 185.0           29.0723             123.5                   3.455     \n",
       "502446 175.5           31.8504             159.5                   4.834     \n",
       "502447 188.0           23.0025             132.5                   3.248     \n",
       "502448 170.0           25.9170             134.0                   3.428     \n",
       "502449 161.0           40.5849             125.5                   2.384     \n",
       "502450 173.0           26.8636             126.0                   4.054     \n",
       "502451 167.0           24.8485             136.5                   2.135     \n",
       "502452 160.0           35.3516             167.5                   5.042     \n",
       "502453 161.0           27.4295             130.0                   2.810     \n",
       "502454 175.0           27.6245             127.5                   3.005     \n",
       "502455 164.0           21.9363             115.0                   2.909     \n",
       "502456 169.0           25.3493             122.5                   3.492     \n",
       "502457 161.0           24.2275             152.5                   3.114     \n",
       "502458 177.0           25.9504             131.0                   3.886     \n",
       "502459 189.0           29.1425             127.5                   3.480     \n",
       "502460 186.0           29.5988             156.5                   4.802     \n",
       "       glucose\n",
       "1      5.101  \n",
       "2      4.835  \n",
       "3         NA  \n",
       "4      5.060  \n",
       "5         NA  \n",
       "6      5.652  \n",
       "7      4.973  \n",
       "8      6.158  \n",
       "9      4.688  \n",
       "10     5.258  \n",
       "11     5.736  \n",
       "12     5.102  \n",
       "13     5.306  \n",
       "14        NA  \n",
       "15     5.732  \n",
       "16     4.018  \n",
       "17     4.455  \n",
       "18     5.707  \n",
       "19     6.467  \n",
       "20     5.120  \n",
       "21        NA  \n",
       "22     4.663  \n",
       "23     9.607  \n",
       "24     4.519  \n",
       "25     4.637  \n",
       "26     4.484  \n",
       "27     5.425  \n",
       "28     4.068  \n",
       "29     5.029  \n",
       "30     4.781  \n",
       "⋮      ⋮      \n",
       "502431 5.101  \n",
       "502432 4.828  \n",
       "502433 9.622  \n",
       "502434 4.455  \n",
       "502435 4.757  \n",
       "502436 4.655  \n",
       "502437 5.050  \n",
       "502438 4.484  \n",
       "502439 4.714  \n",
       "502440 5.522  \n",
       "502441 4.872  \n",
       "502442 5.239  \n",
       "502443 5.742  \n",
       "502444 4.803  \n",
       "502445 4.564  \n",
       "502446 4.823  \n",
       "502447 5.736  \n",
       "502448 5.103  \n",
       "502449 5.092  \n",
       "502450 5.018  \n",
       "502451 5.081  \n",
       "502452 4.536  \n",
       "502453 4.738  \n",
       "502454 4.538  \n",
       "502455 4.519  \n",
       "502456 4.421  \n",
       "502457 4.864  \n",
       "502458 4.907  \n",
       "502459 4.755  \n",
       "502460 5.322  "
      ]
     },
     "metadata": {},
     "output_type": "display_data"
    }
   ],
   "source": [
    "table_data"
   ]
  },
  {
   "cell_type": "code",
   "execution_count": 14,
   "metadata": {
    "execution": {
     "iopub.execute_input": "2022-06-15T17:06:06.337298Z",
     "iopub.status.busy": "2022-06-15T17:06:06.336641Z",
     "iopub.status.idle": "2022-06-15T17:06:12.694331Z",
     "shell.execute_reply": "2022-06-15T17:06:12.693382Z"
    },
    "tags": []
   },
   "outputs": [
    {
     "name": "stderr",
     "output_type": "stream",
     "text": [
      "Warning message:\n",
      "“package ‘gtsummary’ was built under R version 4.0.5”\n"
     ]
    }
   ],
   "source": [
    "library(gtsummary)\n",
    "table1 = table_data %>% \n",
    "    mutate(smoking_status=case_when(smoking_status==\"Current\" ~ 1, TRUE ~ 0)#,\n",
    "           #alcohol_intake_frequency=case_when(alcohol_intake_frequency==\"Daily or almost daily\" ~ 1, TRUE ~ 0)\n",
    "          ) %>%\n",
    "    tbl_summary(by=\"sex\", \n",
    "                label=list(\n",
    "                    age_at_recruitment ~\"Age at Recruitment\",\n",
    "                    ethnic_background ~\"Ethnicity\",\n",
    "                    smoking_status ~ \"Current Smoker\",\n",
    "                    #alcohol_intake_frequency ~ \"Daily Alcohol Intake\",\n",
    "                    body_mass_index_bmi ~ \"BMI\",\n",
    "                    weight ~ \"Weight (kg)\",\n",
    "                    standing_height ~ \"Standing Height (cm)\",\n",
    "                    systolic_blood_pressure ~ \"Systolic Blood Pressure (mmHg)\",\n",
    "                    ldl_direct ~ \"LDL Cholesterol ()\",\n",
    "                    glucose ~ \"Glucose ()\"\n",
    "                ),\n",
    "                missing=\"no\") %>% \n",
    "    add_overall(last=TRUE) %>% \n",
    "    bold_labels()"
   ]
  },
  {
   "cell_type": "code",
   "execution_count": 15,
   "metadata": {
    "execution": {
     "iopub.execute_input": "2022-06-15T17:06:12.696171Z",
     "iopub.status.busy": "2022-06-15T17:06:12.695516Z",
     "iopub.status.idle": "2022-06-15T17:06:13.226073Z",
     "shell.execute_reply": "2022-06-15T17:06:13.225099Z"
    },
    "tags": []
   },
   "outputs": [
    {
     "name": "stderr",
     "output_type": "stream",
     "text": [
      "Warning message:\n",
      "“package ‘gt’ was built under R version 4.0.5”\n"
     ]
    }
   ],
   "source": [
    "library(gt)\n",
    "plot_name = \"Table1\"\n",
    "table1 %>% as_gt() %>% \n",
    "    #opt_align_table_header(align = \"left\") %>% \n",
    "    gt::gtsave(glue(\"outputs/{plot_name}.html\"))\n",
    "#table1 %>% as_gt()  %>% tab_header(title = \"Table 1\") %>% \n",
    "#    #opt_align_table_header(align = \"left\") %>%\n",
    " #   gt::gtsave(glue(\"{figure_path}/{plot_name}.html\"))"
   ]
  },
  {
   "cell_type": "markdown",
   "metadata": {},
   "source": [
    "# Cumulative Person Years"
   ]
  },
  {
   "cell_type": "code",
   "execution_count": 16,
   "metadata": {
    "execution": {
     "iopub.execute_input": "2022-06-15T17:06:13.227945Z",
     "iopub.status.busy": "2022-06-15T17:06:13.227288Z",
     "iopub.status.idle": "2022-06-15T17:06:13.250992Z",
     "shell.execute_reply": "2022-06-15T17:06:13.237935Z"
    },
    "tags": []
   },
   "outputs": [
    {
     "ename": "ERROR",
     "evalue": "Error in parse(text = x, srcfile = src): <text>:1:17: unexpected symbol\n1: py_data =Nature Biomedical\n                    ^\n",
     "output_type": "error",
     "traceback": [
      "Error in parse(text = x, srcfile = src): <text>:1:17: unexpected symbol\n1: py_data =Nature Biomedical\n                    ^\nTraceback:\n"
     ]
    }
   ],
   "source": [
    "py_data =Nature Biomedical Engineering data_outcomes %>% filter(endpoint == \"OMOP_4306655\") %>% group_by(eid) %>% arrange(desc(time)) %>% slice(1) %>% ungroup() %>% summarise(sum_years=sum(time))"
   ]
  },
  {
   "cell_type": "code",
   "execution_count": 17,
   "metadata": {
    "execution": {
     "iopub.execute_input": "2022-06-15T17:06:17.142382Z",
     "iopub.status.busy": "2022-06-15T17:06:17.141640Z",
     "iopub.status.idle": "2022-06-15T17:06:17.150469Z",
     "shell.execute_reply": "2022-06-15T17:06:17.149711Z"
    },
    "tags": []
   },
   "outputs": [
    {
     "ename": "ERROR",
     "evalue": "Error in eval(expr, envir, enclos): object 'py_data' not found\n",
     "output_type": "error",
     "traceback": [
      "Error in eval(expr, envir, enclos): object 'py_data' not found\nTraceback:\n"
     ]
    }
   ],
   "source": [
    "py_data "
   ]
  },
  {
   "cell_type": "markdown",
   "metadata": {},
   "source": [
    "# Endpoint Characteristics"
   ]
  },
  {
   "cell_type": "code",
   "execution_count": 18,
   "metadata": {
    "execution": {
     "iopub.execute_input": "2022-06-15T17:06:18.627813Z",
     "iopub.status.busy": "2022-06-15T17:06:18.627118Z",
     "iopub.status.idle": "2022-06-15T17:06:18.675292Z",
     "shell.execute_reply": "2022-06-15T17:06:18.674550Z"
    },
    "tags": []
   },
   "outputs": [
    {
     "name": "stderr",
     "output_type": "stream",
     "text": [
      "\n",
      "Attaching package: ‘data.table’\n",
      "\n",
      "\n",
      "The following objects are masked from ‘package:lubridate’:\n",
      "\n",
      "    hour, isoweek, mday, minute, month, quarter, second, wday, week,\n",
      "    yday, year\n",
      "\n",
      "\n",
      "The following objects are masked from ‘package:dplyr’:\n",
      "\n",
      "    between, first, last\n",
      "\n",
      "\n",
      "The following object is masked from ‘package:purrr’:\n",
      "\n",
      "    transpose\n",
      "\n",
      "\n"
     ]
    }
   ],
   "source": [
    "library(data.table)\n",
    "endpoints_md = fread(glue(\"{experiment_path}/endpoints.csv\"), colClasses = c(\"phecode\"=\"character\"))\n",
    "endpoints = sort(endpoints_md$endpoint)"
   ]
  },
  {
   "cell_type": "code",
   "execution_count": 19,
   "metadata": {
    "execution": {
     "iopub.execute_input": "2022-06-15T17:06:18.774154Z",
     "iopub.status.busy": "2022-06-15T17:06:18.773502Z",
     "iopub.status.idle": "2022-06-15T17:06:18.779074Z",
     "shell.execute_reply": "2022-06-15T17:06:18.778343Z"
    },
    "tags": []
   },
   "outputs": [],
   "source": [
    "endpoint_selection = c(\n",
    "    \"phecode_008\",\n",
    "    \"phecode_092-2\",\n",
    "    \"phecode_105\",\n",
    "    \"phecode_107-2\",\n",
    "    \"phecode_164\",\n",
    "    \"phecode_202-2\",\n",
    "    \"phecode_284\",\n",
    "    \"phecode_292\",\n",
    "    \"phecode_324-11\",\n",
    "    \"phecode_328\",\n",
    "    \"phecode_371\",\n",
    "    \"phecode_401\",\n",
    "    \"phecode_404\",\n",
    "    \"phecode_424\",\n",
    "    \"phecode_440-11\",\n",
    "    \"phecode_468\",\n",
    "    \"phecode_474\",\n",
    "    \"phecode_522-1\",\n",
    "    \"phecode_542-1\",\n",
    "    \"phecode_581-1\",\n",
    "    \"phecode_583\",\n",
    "    \"phecode_665\",\n",
    "    \"phecode_705-1\",\n",
    "    \"OMOP_4306655\"  \n",
    "    )"
   ]
  },
  {
   "cell_type": "code",
   "execution_count": 20,
   "metadata": {
    "execution": {
     "iopub.execute_input": "2022-06-15T17:06:19.402725Z",
     "iopub.status.busy": "2022-06-15T17:06:19.402045Z",
     "iopub.status.idle": "2022-06-15T17:06:20.156686Z",
     "shell.execute_reply": "2022-06-15T17:06:20.155652Z"
    },
    "tags": []
   },
   "outputs": [],
   "source": [
    "endpoint_defs = arrow::read_feather(glue(\"{output_path}/phecode_defs_220306.feather\")) %>% arrange(endpoint)"
   ]
  },
  {
   "cell_type": "code",
   "execution_count": 21,
   "metadata": {
    "execution": {
     "iopub.execute_input": "2022-06-15T17:06:20.158528Z",
     "iopub.status.busy": "2022-06-15T17:06:20.157874Z",
     "iopub.status.idle": "2022-06-15T17:06:20.173681Z",
     "shell.execute_reply": "2022-06-15T17:06:20.172921Z"
    },
    "tags": []
   },
   "outputs": [],
   "source": [
    "endpoint_defs = endpoint_defs %>% \n",
    "    mutate(name = phecode_string) %>% \n",
    "    mutate(name = \n",
    "           case_when( \n",
    "               endpoint == \"phecode_008\"~\"H. pylori\", \n",
    "               endpoint == \"phecode_092-2\"~\"Sepsis\", \n",
    "               endpoint == \"phecode_105\"~\"Breast cancer\", \n",
    "                endpoint == \"phecode_107-2\"~\"Prostate cancer\", \n",
    "               endpoint == \"phecode_123\"~\"Malignant plasma cell neoplasms\", \n",
    "               endpoint == \"phecode_164\"~\"Anemia\", \n",
    "               endpoint == \"phecode_200-1\"~\"Hypothyroidism\", \n",
    "               endpoint == \"phecode_232\"~\"Vitamin deficiencies\", \n",
    "               endpoint == \"phecode_284\"~\"Suicide attempt or self harm\", \n",
    "               #endpoint == \"phecode_287-5\"~\"Drug-induced psychosis\", \n",
    "               endpoint == \"phecode_324-11\"~\"Parkinson's\",\n",
    "               endpoint == \"phecode_328\"~\"Dementia\", \n",
    "               #endpoint == \"phecode_404\"~\"Coronary heart disease\", \n",
    "               endpoint == \"phecode_424\"~\"Heart failure\", \n",
    "               endpoint == \"phecode_440-11\"~\"Deep vein thrombosis\", \n",
    "               endpoint == \"phecode_468\"~\"Pneumonia\", \n",
    "               endpoint == \"phecode_474\"~\"COPD\", \n",
    "               endpoint == \"phecode_518\"~\"Appendicitis\", \n",
    "               endpoint == \"phecode_542-1\"~\"Fibrosis and cirrhosis of liver\", \n",
    "               endpoint == \"phecode_583\"~\"Chronic kidney disease\", \n",
    "               endpoint == \"phecode_705-1\"~\"Rheumatoid arthritis\", \n",
    "               endpoint == \"phecode_908-1\"~\"(Pre)eclampsia\", \n",
    "               #endpoint == \"phecode_976\"~\"Complication of anesthesia\",\n",
    "               TRUE ~ name)\n",
    "           )\n",
    "\n",
    "endpoint_map = endpoint_defs$name\n",
    "names(endpoint_map) =  endpoint_defs$endpoint\n",
    "endpoint_order = (endpoint_defs %>% arrange(as.numeric(phecode)))$endpoint"
   ]
  },
  {
   "cell_type": "code",
   "execution_count": 22,
   "metadata": {
    "execution": {
     "iopub.execute_input": "2022-06-15T17:06:20.597338Z",
     "iopub.status.busy": "2022-06-15T17:06:20.596680Z",
     "iopub.status.idle": "2022-06-15T17:06:20.650483Z",
     "shell.execute_reply": "2022-06-15T17:06:20.649619Z"
    },
    "tags": []
   },
   "outputs": [],
   "source": [
    "icd_to_phecode_map = fread(\"/sc-projects/sc-proj-ukb-cvd/data/mapping/phecodes/ICD10_to_phecode_V2.csv\", \n",
    "                           colClasses = c(\"phecode\"=\"character\")) %>%\n",
    "     group_by(phecode) %>% summarise(ICD = str_c(icd10, collapse=\", \"))"
   ]
  },
  {
   "cell_type": "code",
   "execution_count": 23,
   "metadata": {
    "execution": {
     "iopub.execute_input": "2022-06-15T17:06:20.876148Z",
     "iopub.status.busy": "2022-06-15T17:06:20.875485Z",
     "iopub.status.idle": "2022-06-15T17:06:20.890714Z",
     "shell.execute_reply": "2022-06-15T17:06:20.889957Z"
    },
    "tags": []
   },
   "outputs": [
    {
     "name": "stderr",
     "output_type": "stream",
     "text": [
      "Joining, by = \"phecode\"\n",
      "\n"
     ]
    }
   ],
   "source": [
    "endpoint_summary = endpoints_md %>% \n",
    "    #filter(endpoint %in% endpoint_selection) %>% \n",
    "    select(phecode, phecode_string, eligable, n, freq) %>%\n",
    "    left_join(icd_to_phecode_map)"
   ]
  },
  {
   "cell_type": "code",
   "execution_count": 24,
   "metadata": {
    "execution": {
     "iopub.execute_input": "2022-06-15T17:06:21.814755Z",
     "iopub.status.busy": "2022-06-15T17:06:21.813913Z",
     "iopub.status.idle": "2022-06-15T17:06:21.842460Z",
     "shell.execute_reply": "2022-06-15T17:06:21.841709Z"
    },
    "tags": []
   },
   "outputs": [],
   "source": [
    "endpoint_summary %>% write_csv(\"outputs/endpoints.csv\")"
   ]
  },
  {
   "cell_type": "code",
   "execution_count": null,
   "metadata": {},
   "outputs": [],
   "source": []
  }
 ],
 "metadata": {
  "hide_input": false,
  "kernelspec": {
   "display_name": "R [conda env:r_env]",
   "language": "R",
   "name": "conda-env-r_env-r"
  },
  "language_info": {
   "codemirror_mode": "r",
   "file_extension": ".r",
   "mimetype": "text/x-r-source",
   "name": "R",
   "pygments_lexer": "r",
   "version": "4.0.2"
  },
  "toc-autonumbering": true,
  "toc-showcode": false,
  "toc-showmarkdowntxt": true
 },
 "nbformat": 4,
 "nbformat_minor": 4
}
