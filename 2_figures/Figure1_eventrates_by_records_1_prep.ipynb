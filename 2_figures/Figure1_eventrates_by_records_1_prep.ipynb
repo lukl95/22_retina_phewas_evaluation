{
 "cells": [
  {
   "cell_type": "markdown",
   "metadata": {},
   "source": [
    "# Benchmarks"
   ]
  },
  {
   "cell_type": "markdown",
   "metadata": {},
   "source": [
    "## Initialize"
   ]
  },
  {
   "cell_type": "code",
   "execution_count": 1,
   "metadata": {
    "ExecuteTime": {
     "end_time": "2021-01-05T11:03:10.491477Z",
     "start_time": "2021-01-05T11:03:10.445Z"
    },
    "tags": []
   },
   "outputs": [],
   "source": [
    "import os\n",
    "import math\n",
    "import pathlib\n",
    "import numpy as np\n",
    "import pandas as pd\n",
    "from tqdm.auto import tqdm\n",
    "from IPython.display import clear_output\n",
    "\n",
    "import warnings\n",
    "from lifelines.utils import CensoringType\n",
    "from lifelines.utils import concordance_index"
   ]
  },
  {
   "cell_type": "code",
   "execution_count": 2,
   "metadata": {
    "tags": []
   },
   "outputs": [
    {
     "name": "stdout",
     "output_type": "stream",
     "text": [
      "/sc-projects/sc-proj-ukb-cvd\n"
     ]
    },
    {
     "data": {
      "text/plain": [
       "[0, 1, 2, 3, 4, 5, 6, 7, 8, 9, 10, 11, 12, 13, 14, 15, 16, 17, 18, 19, 20, 21]"
      ]
     },
     "execution_count": 2,
     "metadata": {},
     "output_type": "execute_result"
    }
   ],
   "source": [
    "node = !hostname\n",
    "if \"sc\" in node[0]:\n",
    "    base_path = \"/sc-projects/sc-proj-ukb-cvd\"\n",
    "else: \n",
    "    base_path = \"/data/analysis/ag-reils/ag-reils-shared/cardioRS\"\n",
    "print(base_path)\n",
    "\n",
    "project_label = \"22_retina_phewas_220603_fullrun\"\n",
    "project_path = f\"{base_path}/results/projects/{project_label}\"\n",
    "figure_path = f\"{project_path}/figures\"\n",
    "output_path = f\"{project_path}/data\"\n",
    "\n",
    "pathlib.Path(figure_path).mkdir(parents=True, exist_ok=True)\n",
    "pathlib.Path(output_path).mkdir(parents=True, exist_ok=True)\n",
    "\n",
    "experiment = '220603_fullrun'\n",
    "experiment_path = f\"{output_path}/{experiment}\"\n",
    "pathlib.Path(experiment_path).mkdir(parents=True, exist_ok=True)\n",
    "\n",
    "name_dict = {\n",
    "    \"predictions_cropratio0.3\": \"ConvNextSmall(Retina)+MLP_cropratio0.3\",\n",
    "    \"predictions_cropratio0.5\": \"ConvNextSmall(Retina)+MLP_cropratio0.5\",\n",
    "    \"predictions_cropratio0.8\": \"ConvNextSmall(Retina)+MLP_cropratio0.8\",\n",
    "}\n",
    "\n",
    "partitions = [i for i in range(22)]\n",
    "partitions"
   ]
  },
  {
   "cell_type": "code",
   "execution_count": 3,
   "metadata": {
    "tags": []
   },
   "outputs": [],
   "source": [
    "endpoint_defs = pd.read_feather(f\"{output_path}/phecode_defs_220306.feather\").sort_values(\"endpoint\")"
   ]
  },
  {
   "cell_type": "code",
   "execution_count": 4,
   "metadata": {
    "tags": []
   },
   "outputs": [],
   "source": [
    "#endpoints = [e[:-6] for e in data_outcomes.columns if \"_event\" in e]\n",
    "endpoints = [\n",
    "#    \"phecode_008\",\n",
    "#    \"phecode_092-2\",\n",
    "#    \"phecode_105\",\n",
    "#    \"phecode_107-2\",\n",
    "#    \"phecode_164\",\n",
    "#    \"phecode_202-2\",\n",
    "#    \"phecode_284\",\n",
    "#    \"phecode_292\",\n",
    "#    \"phecode_324-11\",\n",
    "#    \"phecode_328\",\n",
    "#    \"phecode_371\",\n",
    "#    \"phecode_401\",\n",
    "#    \"phecode_404\",\n",
    "#    \"phecode_424\",\n",
    "#    \"phecode_440-11\",\n",
    "#    \"phecode_468\",\n",
    "#    \"phecode_474\",\n",
    "#    \"phecode_522-1\",\n",
    "#    \"phecode_542-1\",\n",
    "#    \"phecode_581-1\",\n",
    "#    \"phecode_583\",\n",
    "#    \"phecode_665\",\n",
    "#    \"phecode_705-1\",\n",
    "    \"OMOP_4306655\"  \n",
    "]"
   ]
  },
  {
   "cell_type": "code",
   "execution_count": 5,
   "metadata": {
    "tags": []
   },
   "outputs": [],
   "source": [
    "data_outcomes = pd.read_feather(f\"{output_path}/baseline_outcomes_220627.feather\").set_index(\"eid\")\n",
    "data_outcomes = data_outcomes[[c for c in data_outcomes.columns if \"_event\" in c and c[:-6] in endpoints]]"
   ]
  },
  {
   "cell_type": "code",
   "execution_count": 6,
   "metadata": {
    "tags": []
   },
   "outputs": [],
   "source": [
    "data_records = pd.read_feather(f\"{output_path}/baseline_records_220627.feather\").set_index(\"eid\")"
   ]
  },
  {
   "cell_type": "code",
   "execution_count": 7,
   "metadata": {
    "tags": []
   },
   "outputs": [
    {
     "data": {
      "application/vnd.jupyter.widget-view+json": {
       "model_id": "238ac93e0ad4464f9fd3f691c37f927c",
       "version_major": 2,
       "version_minor": 0
      },
      "text/plain": [
       "  0%|          | 0/73871 [00:00<?, ?it/s]"
      ]
     },
     "metadata": {},
     "output_type": "display_data"
    }
   ],
   "source": [
    "data_records = data_records[[c for c in tqdm(data_records.columns.to_list()) if \"OMOP_\" in c]]"
   ]
  },
  {
   "cell_type": "code",
   "execution_count": 8,
   "metadata": {
    "tags": []
   },
   "outputs": [],
   "source": [
    "records = data_records.columns.to_list()"
   ]
  },
  {
   "cell_type": "code",
   "execution_count": 9,
   "metadata": {
    "tags": []
   },
   "outputs": [],
   "source": [
    "data_all = data_records.merge(data_outcomes, left_index=True, right_index=True, how=\"left\")"
   ]
  },
  {
   "cell_type": "code",
   "execution_count": 10,
   "metadata": {
    "tags": []
   },
   "outputs": [],
   "source": [
    "eligable_eids = pd.read_feather(f\"{output_path}/eligable_eids_2022-07-01.feather\")\n",
    "eids_dict = eligable_eids.set_index(\"endpoint\")[\"eid_list\"].to_dict()"
   ]
  },
  {
   "cell_type": "code",
   "execution_count": 11,
   "metadata": {
    "tags": []
   },
   "outputs": [
    {
     "data": {
      "text/plain": [
       "OMOP_4081598    307739\n",
       "OMOP_4052351    270116\n",
       "OMOP_4061103    263319\n",
       "OMOP_4144272    247882\n",
       "OMOP_4057411    221203\n",
       "                 ...  \n",
       "OMOP_4039277        50\n",
       "OMOP_4116240        50\n",
       "OMOP_4050692        50\n",
       "OMOP_4209141        50\n",
       "OMOP_4171619        50\n",
       "Length: 15595, dtype: int64"
      ]
     },
     "execution_count": 11,
     "metadata": {},
     "output_type": "execute_result"
    }
   ],
   "source": [
    "record_freqs = data_records.sum().sort_values(ascending=False).pipe(lambda x: x[x>=50])\n",
    "record_freqs"
   ]
  },
  {
   "cell_type": "code",
   "execution_count": 12,
   "metadata": {
    "tags": []
   },
   "outputs": [
    {
     "data": {
      "text/plain": [
       "RayContext(dashboard_url=None, python_version='3.9.7', ray_version='1.12.1', ray_commit='4863e33856b54ccf8add5cbe75e41558850a1b75', address_info={'node_ip_address': '10.32.105.8', 'raylet_ip_address': '10.32.105.8', 'redis_address': None, 'object_store_address': '/tmp/ray/session_2022-07-06_11-23-54_669161_2112768/sockets/plasma_store', 'raylet_socket_name': '/tmp/ray/session_2022-07-06_11-23-54_669161_2112768/sockets/raylet', 'webui_url': None, 'session_dir': '/tmp/ray/session_2022-07-06_11-23-54_669161_2112768', 'metrics_export_port': 63549, 'gcs_address': '10.32.105.8:59865', 'address': '10.32.105.8:59865', 'node_id': '17fc500e6c07bf523452eb9424446cf711ecb9f8da4ac84f265d1ab9'})"
      ]
     },
     "execution_count": 12,
     "metadata": {},
     "output_type": "execute_result"
    }
   ],
   "source": [
    "import ray\n",
    "\n",
    "ray.init(num_cpus=16, include_dashboard=False)#dashboard_port=24763, dashboard_host=\"0.0.0.0\", include_dashboard=True)#, webui_url=\"0.0.0.0\"))"
   ]
  },
  {
   "cell_type": "code",
   "execution_count": 13,
   "metadata": {
    "tags": []
   },
   "outputs": [],
   "source": [
    "@ray.remote\n",
    "def calc_ratio(data_all, eids_dict, record, eids_record, eids_nonrecord, endpoints):\n",
    "    r_ds = []\n",
    "    \n",
    "    for endpoint in endpoints:\n",
    "        eids_endpoint = eids_dict[endpoint]\n",
    "        \n",
    "        # record set\n",
    "        eid_idxs_dict = {}\n",
    "        eid_idxs_dict[\"record\"] = np.where(np.in1d(eids_endpoint, eids_record, assume_unique=True))[0]\n",
    "        eid_idxs_dict[\"nonrecord\"] = np.where(np.in1d(eids_endpoint, eids_nonrecord, assume_unique=True))[0]\n",
    "\n",
    "        for key, eid_idxs in eid_idxs_dict.items():\n",
    "            eids_temp = eids_endpoint[eid_idxs]\n",
    "            s = data_all[f\"{endpoint}_event\"].loc[eids_temp]\n",
    "            n=s.sum()\n",
    "            freq = n/len(s)\n",
    "            \n",
    "            if key==\"record\":\n",
    "                s_record\n",
    "                n_record = n\n",
    "                freq_record = freq\n",
    "                \n",
    "            if key==\"nonrecord\":\n",
    "                s_nonrecord = s\n",
    "                n_nonrecord = n\n",
    "                freq_nonrecord = freq\n",
    "        \n",
    "        #jaccard = n_record / (n_nonrecord + len(eid_idxs_dict[\"record\"])) \n",
    "        \n",
    "        r_ds.append({\"endpoint\": endpoint, \"n_eligable\": len(eids_dict[endpoint]), \n",
    "                  \"record\": record, \"n_records\": len(eids_record), \n",
    "                  \"n_events_record\": n_record, \"freq_events_record\": freq_record,\n",
    "                    \"n_events_nonrecord\": n_nonrecord, \"freq_events_nonrecord\": freq_nonrecord})\n",
    "    return r_ds"
   ]
  },
  {
   "cell_type": "code",
   "execution_count": 14,
   "metadata": {
    "tags": []
   },
   "outputs": [
    {
     "data": {
      "application/vnd.jupyter.widget-view+json": {
       "model_id": "781779df843f4d79acf1b725453f788b",
       "version_major": 2,
       "version_minor": 0
      },
      "text/plain": [
       "  0%|          | 0/15595 [00:00<?, ?it/s]"
      ]
     },
     "metadata": {},
     "output_type": "display_data"
    },
    {
     "data": {
      "application/vnd.jupyter.widget-view+json": {
       "model_id": "74067e84ba3a43a4ac53e801159c9c03",
       "version_major": 2,
       "version_minor": 0
      },
      "text/plain": [
       "  0%|          | 0/15595 [00:00<?, ?it/s]"
      ]
     },
     "metadata": {},
     "output_type": "display_data"
    }
   ],
   "source": [
    "d_nested = []\n",
    "ref_data_all = ray.put(data_all)\n",
    "ref_eids_dict = ray.put(eids_dict)\n",
    "for record in tqdm(record_freqs.index):\n",
    "    s_record = data_all[record]\n",
    "    eids_record = s_record[s_record==True].index.values\n",
    "    eids_nonrecord = s_record[s_record==False].index.values\n",
    "    ref_results = calc_ratio.remote(ref_data_all, ref_eids_dict, record, eids_record, eids_nonrecord, endpoints)\n",
    "    d_nested.append(ref_results)\n",
    "d_nested = [ray.get(e) for e in tqdm(d_nested)]\n",
    "del ref_data_all\n",
    "del ref_eids_dict"
   ]
  },
  {
   "cell_type": "code",
   "execution_count": 15,
   "metadata": {
    "tags": []
   },
   "outputs": [],
   "source": [
    "from itertools import chain\n",
    "\n",
    "d = list(chain(*d_nested))"
   ]
  },
  {
   "cell_type": "code",
   "execution_count": 16,
   "metadata": {
    "tags": []
   },
   "outputs": [],
   "source": [
    "endpoints_freqs = pd.DataFrame().from_dict(d)"
   ]
  },
  {
   "cell_type": "code",
   "execution_count": 17,
   "metadata": {
    "tags": []
   },
   "outputs": [],
   "source": [
    "endpoints_freqs.to_feather(f\"{experiment_path}/records_inc_disease_freq.feather\")"
   ]
  },
  {
   "cell_type": "code",
   "execution_count": 18,
   "metadata": {},
   "outputs": [
    {
     "data": {
      "text/html": [
       "<div>\n",
       "<style scoped>\n",
       "    .dataframe tbody tr th:only-of-type {\n",
       "        vertical-align: middle;\n",
       "    }\n",
       "\n",
       "    .dataframe tbody tr th {\n",
       "        vertical-align: top;\n",
       "    }\n",
       "\n",
       "    .dataframe thead th {\n",
       "        text-align: right;\n",
       "    }\n",
       "</style>\n",
       "<table border=\"1\" class=\"dataframe\">\n",
       "  <thead>\n",
       "    <tr style=\"text-align: right;\">\n",
       "      <th></th>\n",
       "      <th>endpoint</th>\n",
       "      <th>n_eligable</th>\n",
       "      <th>record</th>\n",
       "      <th>n_records</th>\n",
       "      <th>n_events_record</th>\n",
       "      <th>freq_events_record</th>\n",
       "      <th>n_events_nonrecord</th>\n",
       "      <th>freq_events_nonrecord</th>\n",
       "    </tr>\n",
       "  </thead>\n",
       "  <tbody>\n",
       "    <tr>\n",
       "      <th>0</th>\n",
       "      <td>OMOP_4306655</td>\n",
       "      <td>502453</td>\n",
       "      <td>OMOP_4081598</td>\n",
       "      <td>307739</td>\n",
       "      <td>12031</td>\n",
       "      <td>0.039095</td>\n",
       "      <td>25666</td>\n",
       "      <td>0.131810</td>\n",
       "    </tr>\n",
       "    <tr>\n",
       "      <th>1</th>\n",
       "      <td>OMOP_4306655</td>\n",
       "      <td>502453</td>\n",
       "      <td>OMOP_4052351</td>\n",
       "      <td>270116</td>\n",
       "      <td>10840</td>\n",
       "      <td>0.040132</td>\n",
       "      <td>26857</td>\n",
       "      <td>0.115592</td>\n",
       "    </tr>\n",
       "    <tr>\n",
       "      <th>2</th>\n",
       "      <td>OMOP_4306655</td>\n",
       "      <td>502453</td>\n",
       "      <td>OMOP_4061103</td>\n",
       "      <td>263319</td>\n",
       "      <td>7190</td>\n",
       "      <td>0.027306</td>\n",
       "      <td>30507</td>\n",
       "      <td>0.127570</td>\n",
       "    </tr>\n",
       "    <tr>\n",
       "      <th>3</th>\n",
       "      <td>OMOP_4306655</td>\n",
       "      <td>502453</td>\n",
       "      <td>OMOP_4144272</td>\n",
       "      <td>247882</td>\n",
       "      <td>7614</td>\n",
       "      <td>0.030717</td>\n",
       "      <td>30083</td>\n",
       "      <td>0.118168</td>\n",
       "    </tr>\n",
       "    <tr>\n",
       "      <th>4</th>\n",
       "      <td>OMOP_4306655</td>\n",
       "      <td>502453</td>\n",
       "      <td>OMOP_4057411</td>\n",
       "      <td>221203</td>\n",
       "      <td>12112</td>\n",
       "      <td>0.054756</td>\n",
       "      <td>25585</td>\n",
       "      <td>0.090967</td>\n",
       "    </tr>\n",
       "    <tr>\n",
       "      <th>...</th>\n",
       "      <td>...</td>\n",
       "      <td>...</td>\n",
       "      <td>...</td>\n",
       "      <td>...</td>\n",
       "      <td>...</td>\n",
       "      <td>...</td>\n",
       "      <td>...</td>\n",
       "      <td>...</td>\n",
       "    </tr>\n",
       "    <tr>\n",
       "      <th>15590</th>\n",
       "      <td>OMOP_4306655</td>\n",
       "      <td>502453</td>\n",
       "      <td>OMOP_4039277</td>\n",
       "      <td>50</td>\n",
       "      <td>1</td>\n",
       "      <td>0.020000</td>\n",
       "      <td>37696</td>\n",
       "      <td>0.075031</td>\n",
       "    </tr>\n",
       "    <tr>\n",
       "      <th>15591</th>\n",
       "      <td>OMOP_4306655</td>\n",
       "      <td>502453</td>\n",
       "      <td>OMOP_4116240</td>\n",
       "      <td>50</td>\n",
       "      <td>6</td>\n",
       "      <td>0.120000</td>\n",
       "      <td>37691</td>\n",
       "      <td>0.075021</td>\n",
       "    </tr>\n",
       "    <tr>\n",
       "      <th>15592</th>\n",
       "      <td>OMOP_4306655</td>\n",
       "      <td>502453</td>\n",
       "      <td>OMOP_4050692</td>\n",
       "      <td>50</td>\n",
       "      <td>8</td>\n",
       "      <td>0.160000</td>\n",
       "      <td>37689</td>\n",
       "      <td>0.075017</td>\n",
       "    </tr>\n",
       "    <tr>\n",
       "      <th>15593</th>\n",
       "      <td>OMOP_4306655</td>\n",
       "      <td>502453</td>\n",
       "      <td>OMOP_4209141</td>\n",
       "      <td>50</td>\n",
       "      <td>0</td>\n",
       "      <td>0.000000</td>\n",
       "      <td>37697</td>\n",
       "      <td>0.075033</td>\n",
       "    </tr>\n",
       "    <tr>\n",
       "      <th>15594</th>\n",
       "      <td>OMOP_4306655</td>\n",
       "      <td>502453</td>\n",
       "      <td>OMOP_4171619</td>\n",
       "      <td>50</td>\n",
       "      <td>9</td>\n",
       "      <td>0.180000</td>\n",
       "      <td>37688</td>\n",
       "      <td>0.075015</td>\n",
       "    </tr>\n",
       "  </tbody>\n",
       "</table>\n",
       "<p>15595 rows × 8 columns</p>\n",
       "</div>"
      ],
      "text/plain": [
       "           endpoint  n_eligable        record  n_records  n_events_record  \\\n",
       "0      OMOP_4306655      502453  OMOP_4081598     307739            12031   \n",
       "1      OMOP_4306655      502453  OMOP_4052351     270116            10840   \n",
       "2      OMOP_4306655      502453  OMOP_4061103     263319             7190   \n",
       "3      OMOP_4306655      502453  OMOP_4144272     247882             7614   \n",
       "4      OMOP_4306655      502453  OMOP_4057411     221203            12112   \n",
       "...             ...         ...           ...        ...              ...   \n",
       "15590  OMOP_4306655      502453  OMOP_4039277         50                1   \n",
       "15591  OMOP_4306655      502453  OMOP_4116240         50                6   \n",
       "15592  OMOP_4306655      502453  OMOP_4050692         50                8   \n",
       "15593  OMOP_4306655      502453  OMOP_4209141         50                0   \n",
       "15594  OMOP_4306655      502453  OMOP_4171619         50                9   \n",
       "\n",
       "       freq_events_record  n_events_nonrecord  freq_events_nonrecord  \n",
       "0                0.039095               25666               0.131810  \n",
       "1                0.040132               26857               0.115592  \n",
       "2                0.027306               30507               0.127570  \n",
       "3                0.030717               30083               0.118168  \n",
       "4                0.054756               25585               0.090967  \n",
       "...                   ...                 ...                    ...  \n",
       "15590            0.020000               37696               0.075031  \n",
       "15591            0.120000               37691               0.075021  \n",
       "15592            0.160000               37689               0.075017  \n",
       "15593            0.000000               37697               0.075033  \n",
       "15594            0.180000               37688               0.075015  \n",
       "\n",
       "[15595 rows x 8 columns]"
      ]
     },
     "execution_count": 18,
     "metadata": {},
     "output_type": "execute_result"
    }
   ],
   "source": [
    "endpoints_freqs"
   ]
  },
  {
   "cell_type": "code",
   "execution_count": null,
   "metadata": {},
   "outputs": [],
   "source": []
  }
 ],
 "metadata": {
  "hide_input": false,
  "kernelspec": {
   "display_name": "Python 3 (ipykernel)",
   "language": "python",
   "name": "python3"
  },
  "language_info": {
   "codemirror_mode": {
    "name": "ipython",
    "version": 3
   },
   "file_extension": ".py",
   "mimetype": "text/x-python",
   "name": "python",
   "nbconvert_exporter": "python",
   "pygments_lexer": "ipython3",
   "version": "3.9.7"
  },
  "toc-autonumbering": false
 },
 "nbformat": 4,
 "nbformat_minor": 4
}
