{
 "cells": [
  {
   "cell_type": "markdown",
   "metadata": {},
   "source": [
    "# Benchmarks"
   ]
  },
  {
   "cell_type": "markdown",
   "metadata": {},
   "source": [
    "## Initialize"
   ]
  },
  {
   "cell_type": "code",
   "execution_count": null,
   "metadata": {
    "ExecuteTime": {
     "end_time": "2021-01-05T11:03:09.852316Z",
     "start_time": "2021-01-05T11:03:07.701Z"
    },
    "tags": []
   },
   "outputs": [],
   "source": [
    "#library(Rmisc)\n",
    "library(dtplyr)\n",
    "library(tidyverse)\n",
    "library(glue)\n",
    "library(arrow)\n",
    "library(patchwork)\n",
    "library(data.table)\n",
    "library(\"jsonlite\")\n",
    "library(ggthemes)"
   ]
  },
  {
   "cell_type": "code",
   "execution_count": null,
   "metadata": {
    "ExecuteTime": {
     "end_time": "2021-01-05T11:03:10.491477Z",
     "start_time": "2021-01-05T11:03:10.445Z"
    },
    "tags": []
   },
   "outputs": [],
   "source": [
    "if (grepl(\"sc\", Sys.info()[[\"nodename\"]], fixed=TRUE)) {\n",
    "    base_path = \"/sc-projects/sc-proj-ukb-cvd\"\n",
    "} else {\n",
    "    base_path = \"/data/analysis/ag-reils/ag-reils-shared/cardioRS\"}\n",
    "print(base_path)\n",
    "\n",
    "project_label = \"22_retina_phewas\"\n",
    "project_path = glue(\"{base_path}/results/projects/{project_label}\")\n",
    "figure_path = glue(\"{project_path}/figures\")\n",
    "output_path = glue(\"{project_path}/data\")\n",
    "\n",
    "experiment = '220812_test'\n",
    "experiment_path = glue(\"{output_path}/{experiment}\")"
   ]
  },
  {
   "cell_type": "code",
   "execution_count": null,
   "metadata": {
    "tags": []
   },
   "outputs": [],
   "source": [
    "base_size = 8\n",
    "title_size = 10\n",
    "facet_size = 9\n",
    "geom_text_size=3\n",
    "theme_set(theme_classic(base_size = base_size) + \n",
    "          theme(strip.background = element_blank(), plot.title=element_text(size=title_size, hjust=0), \n",
    "                strip.text.x = element_text(size = facet_size),axis.title=element_text(size=10), axis.text=element_text(size=8, color=\"black\"),\n",
    "                legend.position=\"bottom\", axis.line = element_line(size = 0.2), axis.ticks=element_line(size=0.2), panel.grid.major.y=element_line()))"
   ]
  },
  {
   "cell_type": "code",
   "execution_count": null,
   "metadata": {
    "ExecuteTime": {
     "end_time": "2021-01-05T11:03:23.526022Z",
     "start_time": "2021-01-05T11:03:20.042Z"
    },
    "tags": []
   },
   "outputs": [],
   "source": [
    "colors_dict = read_json(\"colors.json\")\n",
    "color_map <- c(\n",
    "    \"Age+Sex\" = colors_dict$pastel$red$mid,\n",
    "    \"Retina\" = colors_dict$pastel$red$mid,\n",
    "    \"Age+Sex+Retina\" = colors_dict$pastel$red$mid,\n",
    "    'MultiTaskSurvivalTraining_None_InceptionResnetV2+MLP_Identity' = colors_dict$pastel$red$mid\n",
    "    #\"Identity(AgeSex)+MLP\" = colors_dict$pastel$red$mid,\n",
    "    #\"Identity(Records)+MLP\" = colors_dict$pastel$red$mid,\n",
    "    #\"GNN(Records)+MLP\" = colors_dict$pastel$red$mid,\n",
    "    #\"Identity(AgeSex+Records)+MLP\" = colors_dict$pastel$red$mid,\n",
    "    #\"GNN(AgeSex+Records)+MLP\" = colors_dict$pastel$red$mid\n",
    ")"
   ]
  },
  {
   "cell_type": "code",
   "execution_count": null,
   "metadata": {
    "tags": []
   },
   "outputs": [],
   "source": [
    "endpoint_defs = arrow::read_feather(glue(\"{output_path}/phecode_defs_220306.feather\")) %>% arrange(endpoint)\n",
    "endpoints_md = fread(glue(\"{experiment_path}/endpoints.csv\"), colClasses=c(\"phecode\"=\"character\"))\n",
    "endpoints = sort(endpoints_md$endpoint)"
   ]
  },
  {
   "cell_type": "code",
   "execution_count": null,
   "metadata": {
    "tags": []
   },
   "outputs": [],
   "source": [
    "endpoint_map = endpoint_defs$phecode_string\n",
    "names(endpoint_map) =  endpoint_defs$endpoint\n",
    "endpoint_order = (endpoint_defs %>% arrange(as.numeric(phecode)))$endpoint"
   ]
  },
  {
   "cell_type": "code",
   "execution_count": null,
   "metadata": {
    "tags": []
   },
   "outputs": [],
   "source": [
    "endpoint_selection = c(\n",
    "    # generally very important\n",
    "    \"phecode_202\", # Diabetes mellitus\n",
    "    \"phecode_404\", # Ischemic heart disease\n",
    "    \"phecode_404-1\", # Myocardial infarction [Heart attack]\n",
    "    \"phecode_431-11\", # Cerebral infarction [Ischemic stroke]\n",
    "    \"phecode_424\", # Heart failure\n",
    "    \"OMOP_4306655\", # All-Cause Death\n",
    "    # also generally important and relevant\n",
    "    \"phecode_440-3\", # Pulmonary embolism\n",
    "    \"phecode_468\", # Pneumonia\n",
    "    \"phecode_474\", # Chronic obstructive pulmonary disease [COPD]\n",
    "    \"phecode_542\", # Chronic liver disease and sequelae\n",
    "    \"phecode_583\", # Chronic kidney disease\n",
    "    \"phecode_328\", # Dementias and cerebral degeneration\n",
    "    # generally important and fun to check\n",
    "    \"phecode_164\", # Anemia\n",
    "    \"phecode_726-1\", # Osteoporosis\n",
    "    \"phecode_103\", # Malignant neoplasm of the skin\n",
    "    \"phecode_101\", # Malignant neoplasm of the digestive organs\n",
    "    \"phecode_665\", # Psoriasis\n",
    "    \"phecode_705-1\", # Rheumatoid arthritis\n",
    "    # important for eye\n",
    "    \"phecode_371\", # Cataract\n",
    "    \"phecode_374-3\", # Retinal vascular changes and occlusions\n",
    "    \"phecode_374-42\", # Diabetic retinopathy\n",
    "    \"phecode_374-5\", # Macular degeneration\n",
    "    \"phecode_375-1\", # Glaucoma\n",
    "    \"phecode_388\" # Blindness and low vision\n",
    ")\n",
    "\n",
    "endpoints_common = c(\n",
    "   'phecode_164', #Anemia\n",
    " 'phecode_705-1', #Rheumatoid arthritis\n",
    " 'phecode_328', #Dementias and cerebral degeneration\n",
    " 'phecode_328-1', #Alzheimer's disease\n",
    " 'phecode_401', #Hypertension\n",
    " 'phecode_202', #Diabetes mellitus\n",
    " 'phecode_416-21', #Atrial fibrillation\n",
    " 'phecode_404-1', #Myocardial infarction [Heart attack]\n",
    " 'phecode_424', #Heart failure\n",
    " 'phecode_468', #Pneumonia\n",
    " 'phecode_474', #Chronic obstructive pulmonary disease [COPD]\n",
    " 'phecode_583', #Chronic kidney disease\n",
    " 'OMOP_4306655' #All-Cause Death\n",
    "    )\n",
    "\n",
    "endpoints_cardio = c(\n",
    "    'phecode_431-11', #  \"Cerebral infarction [Ischemic stroke]\",\n",
    "    'phecode_404', #  \"Ischemic heart disease\",\n",
    "    'phecode_404-1', #  \"Myocardial infarction [Heart attack]\", # intervention\n",
    "    'phecode_424', #  \"Heart failure\", # intervention\n",
    "     'OMOP_4306655', #  \"All-Cause Death\", # intervention\n",
    "    'phecode_420' #  \"Cardiac arrest\", # intervention\n",
    "   \n",
    ")\n",
    "\n",
    "endpoints_eye= c(\n",
    "    'phecode_374-5', #Macular degeneration\n",
    " 'phecode_374-51', #Age-related macular degeneration\n",
    " 'phecode_374-42', #Diabetic retinopathy\n",
    " 'phecode_371', #Cataract\n",
    " 'phecode_388', #Blindness and low vision\n",
    " 'phecode_367-5', #Uveitis\n",
    " 'phecode_389-1' #Ocular pain\n",
    ")"
   ]
  },
  {
   "cell_type": "code",
   "execution_count": null,
   "metadata": {
    "tags": []
   },
   "outputs": [],
   "source": [
    "endpoint_defs = endpoint_defs %>% \n",
    "    mutate(name = phecode_string) %>%\n",
    "    mutate(name = \n",
    "           case_when( \n",
    "               phecode_string == \"Myocardial infarction [Heart attack]\"~\"Myocardial infarction\",\n",
    "               phecode_string == \"Cerebral infarction [Ischemic stroke]\"~\"Ischemic stroke\",\n",
    "               phecode_string == \"Chronic obstructive pulmonary disease [COPD]\"~\"Chronic obstructive pulmonary disease\",\n",
    "               phecode_string == \"Mitral valve insufficiency\"~\"Mitral insufficiency\",\n",
    "               phecode_string == \"Parkinson's disease (Primary)\"~\"Parkinson's disease\",\n",
    "               phecode_string == \"Suicide ideation and attempt or self harm\"~\"Suicide attempt\",\n",
    "               phecode_string == \"Ischemic heart disease\"~\"Coronary heart disease\",\n",
    "               phecode_string == \"Chronic kidney disease\"~\"Chronic kidney disease\",\n",
    "               phecode_string == \"Rheumatic fever and chronic rheumatic heart diseases\"~\"Rheumatic heart disease\",\n",
    "               phecode_string == \"Abdominal aortic aneurysm\"~\"Abdominal aortic aneurysm\",\n",
    "                  TRUE ~ name)\n",
    "           )\n",
    "            \n",
    "endpoint_map = endpoint_defs$name\n",
    "names(endpoint_map) =  endpoint_defs$endpoint\n",
    "#endpoint_order = (endpoint_defs %>% arrange(as.numeric(phecode)))$endpoint\n",
    "endpoint_order = endpoint_selection"
   ]
  },
  {
   "cell_type": "markdown",
   "metadata": {},
   "source": [
    "## Load data"
   ]
  },
  {
   "cell_type": "markdown",
   "metadata": {},
   "source": [
    "# Load Benchmarks"
   ]
  },
  {
   "cell_type": "code",
   "execution_count": null,
   "metadata": {
    "tags": []
   },
   "outputs": [],
   "source": [
    "#today = substr(Sys.time(), 0, 10) # YYYY-MM-DD\n",
    "today = '221103'\n",
    "name = glue(\"benchmarks_cindex_{today}\")\n",
    "benchmark_endpoints = arrow::read_feather(glue(\"{experiment_path}/{name}.feather\")) %>% left_join(endpoints_md) "
   ]
  },
  {
   "cell_type": "code",
   "execution_count": null,
   "metadata": {
    "tags": []
   },
   "outputs": [],
   "source": [
    "benchmark_endpoints %>% group_by(endpoint, score) %>% summarise(cindex=mean(cindex)) %>% group_by(score) %>% summarise(mean(cindex)) %>% arrange(`mean(cindex)`)"
   ]
  },
  {
   "cell_type": "code",
   "execution_count": null,
   "metadata": {
    "tags": []
   },
   "outputs": [],
   "source": [
    "endpoints_sorted = (benchmark_endpoints %>% \n",
    "    filter(score == \"Age+Sex+Retina\") %>% \n",
    "    group_by(endpoint, score) %>% \n",
    "    summarise(cindex=mean(cindex, na.rm=TRUE)) %>% \n",
    "    arrange(cindex) %>% ungroup())$endpoint"
   ]
  },
  {
   "cell_type": "code",
   "execution_count": null,
   "metadata": {
    "tags": []
   },
   "outputs": [],
   "source": [
    "categories_sorted = (endpoint_defs %>% distinct(phecode_category))$phecode_category"
   ]
  },
  {
   "cell_type": "code",
   "execution_count": null,
   "metadata": {
    "tags": []
   },
   "outputs": [],
   "source": [
    "benchmark_endpoints"
   ]
  },
  {
   "cell_type": "markdown",
   "metadata": {},
   "source": [
    "benchmark_endpoints## General Performance"
   ]
  },
  {
   "cell_type": "code",
   "execution_count": null,
   "metadata": {
    "tags": []
   },
   "outputs": [],
   "source": [
    "plot_width = 10; plot_height=2.5; plot_res = 320\n",
    "options(repr.plot.width = plot_width, repr.plot.height = plot_height, repr.plot.res=plot_res)\n",
    "\n",
    "library(ggtext)\n",
    "library(ggdist)\n",
    "\n",
    "scores_plot = c(\"Age+Sex\", \"Age+Sex+Retina\")#, \"AgeSexRetina\")\n",
    "\n",
    "temp = benchmark_endpoints %>% \n",
    "    filter(score %in% scores_plot) %>% \n",
    "    mutate(score = factor(score, levels=scores_plot)) %>%\n",
    "    mutate(endpoint = factor(endpoint, levels=endpoints_sorted)) %>%\n",
    "    ungroup() %>%\n",
    "    pivot_wider(names_from=score, values_from=cindex) %>% \n",
    "    mutate(id = row_number()) %>%\n",
    "    mutate(delta = `Age+Sex+Retina`-`Age+Sex`) %>%\n",
    "    group_by(endpoint, phecode_string, freq, phecode_category) %>%\n",
    "    median_qi(delta) %>%\n",
    "    mutate(pos = case_when(delta>=0 ~ \"pos\", delta < 0 ~\"neg\")) %>%\n",
    "    mutate(endpoint = fct_reorder(endpoint, delta)) %>%\n",
    "    mutate(highlight = case_when(endpoint %in% endpoint_selection ~ \"YES\", TRUE ~ \"NO\")) %>%# %>% filter(endpoint %in% endpoint_sample)\n",
    "    mutate(phecode_category = factor(phecode_category, levels=categories_sorted))\n",
    "\n",
    "endpoint_order = (temp %>% arrange(delta))$endpoint\n",
    "\n",
    "temp = temp %>% mutate(endpoint = factor(endpoint, levels=endpoint_order)) %>% ungroup() %>% arrange(endpoint) %>% group_by(phecode_category) %>% mutate(endpoint = row_number())\n",
    "\n",
    "overview = ggplot(temp) +\n",
    "    geom_ribbon(aes(x=endpoint, ymin=0, ymax=delta), fill=\"black\", alpha=0.2)+\n",
    "    geom_point(aes(x=endpoint, y=delta, color=highlight, size=highlight, alpha=highlight)) +\n",
    "    geom_text(data=temp %>% filter(highlight==\"YES\"), aes(x=endpoint, y=delta+0.045, label=\"↓\"), color=\"black\", size=5, alpha=0.7) +\n",
    "    #geom_segment(aes(x=endpoint, xend=endpoint, y=0, yend=delta, color=highlight, size=highlight), alpha=0.5)+#+\n",
    "    labs(x=\"Endpoints\", y=\"Delta C-Index\\nover age and sex\")+\n",
    "    scale_color_manual(values=c(\"NO\"=\"black\", \"YES\"=\"firebrick\"))+\n",
    "    scale_alpha_manual(values=c(\"NO\"=0.1, \"YES\"=1))+\n",
    "    scale_size_manual(values=c(\"NO\"=0.01, \"YES\"=1))+\n",
    "    #scale_colour_manual(values = c(\"pos\"=\"forestgreen\", \"neg\" = \"firebrick\")) + \n",
    "    #coord_polar() +\n",
    "    coord_cartesian(ylim=c(0, NA), clip = \"off\")+\n",
    "    scale_y_continuous(expand=c(0, 0))+\n",
    "    scale_x_discrete(expand=expansion(add=20))+\n",
    "    facet_grid(~phecode_category, scales=\"free_x\", space=\"free_x\")+#, switch=TRUE)+\n",
    "    #facet_grid2(~phecode_category, scales = \"free\", independent = \"all\") + \n",
    "    theme(axis.title.x=element_blank(),\n",
    "        axis.text.x=element_blank(),\n",
    "        axis.ticks.x=element_blank(),\n",
    "        panel.grid.major=element_blank(), \n",
    "         strip.text = element_text(angle=270, hjust=1)) + \n",
    "    theme(legend.position=\"none\") \n",
    "    \n",
    "    #geom_ribbon(aes(x=id, ymin=AgeSex, ymax=`Age+Sex+Retina`), fill=\"red\", alpha=0.2)\n",
    "#geom_violin(size=0.1)\n",
    "overview"
   ]
  },
  {
   "cell_type": "raw",
   "metadata": {
    "execution": {
     "iopub.execute_input": "2022-06-27T09:30:37.569076Z",
     "iopub.status.busy": "2022-06-27T09:30:37.568160Z",
     "iopub.status.idle": "2022-06-27T09:30:59.861261Z",
     "shell.execute_reply": "2022-06-27T09:30:59.859855Z"
    },
    "tags": []
   },
   "source": [
    "plot_width = 10; plot_height=10; plot_res = 320\n",
    "options(repr.plot.width = plot_width, repr.plot.height = plot_height, repr.plot.res=plot_res)\n",
    "\n",
    "library(ggtext)\n",
    "library(ggdist)\n",
    "\n",
    "scores_plot = c(\"Age+Sex\", \"Age+Sex+Retina\")#, \"AgeSexRetina\")\n",
    "\n",
    "temp = benchmark_endpoints %>% \n",
    "    filter(score %in% scores_plot) %>% \n",
    "    mutate(score = factor(score, levels=scores_plot)) %>%\n",
    "    mutate(endpoint = factor(endpoint, levels=endpoints_sorted)) %>%\n",
    "    ungroup() %>%\n",
    "    pivot_wider(names_from=score, values_from=cindex) %>% \n",
    "    mutate(id = row_number()) %>%\n",
    "    mutate(delta = `Age+Sex+Retina`-`Age+Sex`) %>%\n",
    "    group_by(endpoint, phecode_string, freq, phecode_category) %>%\n",
    "    median_qi(delta) %>%\n",
    "    mutate(pos = case_when(delta>=0 ~ \"pos\", delta < 0 ~\"neg\")) %>%\n",
    "    mutate(endpoint = fct_reorder(endpoint, delta)) %>%\n",
    "    mutate(highlight = case_when(endpoint %in% endpoint_selection ~ \"YES\", TRUE ~ \"NO\")) %>%# %>% filter(endpoint %in% endpoint_sample)\n",
    "    mutate(phecode_category = factor(phecode_category, levels=categories_sorted))\n",
    "\n",
    "endpoint_order = (temp %>% arrange(delta))$endpoint\n",
    "\n",
    "temp = temp %>% mutate(endpoint = factor(endpoint, levels=endpoint_order)) %>% ungroup() %>% arrange(endpoint) %>% group_by(phecode_category) %>% mutate(endpoint = row_number()) %>% mutate(endpoint = fct_reorder(endpoint, phecode_category))\n",
    "\n",
    "overview = ggplot(temp) +\n",
    "    #geom_ribbon(aes(x=endpoint, ymin=0, ymax=delta), fill=\"black\", alpha=0.2)+\n",
    "    geom_point(aes(x=endpoint, y=delta, color=highlight, size=highlight, alpha=highlight)) +\n",
    "    #geom_text(data=temp %>% filter(highlight==\"YES\"), aes(x=endpoint, y=delta+0.045, label=\"↓\"), color=\"black\", size=5, alpha=0.7) +\n",
    "    #labs(x=\"Endpoints\", y=\"Delta C-Index\\nover age and sex\")+\n",
    "    scale_color_manual(values=c(\"NO\"=\"black\", \"YES\"=\"firebrick\"))+\n",
    "    scale_alpha_manual(values=c(\"NO\"=0.1, \"YES\"=1))+\n",
    "    scale_size_manual(values=c(\"NO\"=0.01, \"YES\"=1))+\n",
    "    #coord_polar() +\n",
    "    coord_polar()+#ylim=c(0, NA), clip = \"off\")+\n",
    "    scale_y_continuous(expand=c(0, 0))+\n",
    "    #scale_x_discrete(expand=expansion(add=20))+\n",
    "    #facet_grid(~phecode_category) +#, scales=\"free_x\", space=\"free_x\")+#, switch=TRUE)+\n",
    "    theme(axis.title.x=element_blank(),\n",
    "        axis.text.x=element_blank(),\n",
    "        axis.ticks.x=element_blank(),\n",
    "        panel.grid.major=element_blank(), \n",
    "         strip.text = element_text(angle=270, hjust=1)) + \n",
    "    theme(legend.position=\"none\") \n",
    "\n",
    "overview"
   ]
  },
  {
   "cell_type": "code",
   "execution_count": null,
   "metadata": {
    "tags": []
   },
   "outputs": [],
   "source": [
    "temp "
   ]
  },
  {
   "cell_type": "code",
   "execution_count": null,
   "metadata": {},
   "outputs": [],
   "source": []
  },
  {
   "cell_type": "code",
   "execution_count": null,
   "metadata": {
    "tags": []
   },
   "outputs": [],
   "source": [
    "temp %>% ungroup() %>% group_by(.lower>0) %>% tally()"
   ]
  },
  {
   "cell_type": "code",
   "execution_count": null,
   "metadata": {
    "tags": []
   },
   "outputs": [],
   "source": [
    "1789/1883"
   ]
  },
  {
   "cell_type": "code",
   "execution_count": null,
   "metadata": {
    "tags": []
   },
   "outputs": [],
   "source": [
    "temp %>% ungroup() %>% filter(.lower>0) %>% median_qi(delta, .width = c(.25))"
   ]
  },
  {
   "cell_type": "code",
   "execution_count": null,
   "metadata": {
    "tags": []
   },
   "outputs": [],
   "source": []
  },
  {
   "cell_type": "code",
   "execution_count": null,
   "metadata": {
    "tags": []
   },
   "outputs": [],
   "source": [
    "temp %>% filter(delta>0.098) %>% arrange(delta)"
   ]
  },
  {
   "cell_type": "code",
   "execution_count": null,
   "metadata": {
    "tags": []
   },
   "outputs": [],
   "source": [
    "library(ggdist)"
   ]
  },
  {
   "cell_type": "code",
   "execution_count": null,
   "metadata": {
    "tags": []
   },
   "outputs": [],
   "source": [
    "base_size = 8\n",
    "title_size = 10\n",
    "facet_size = 9\n",
    "geom_text_size=3\n",
    "theme_set(theme_classic(base_size = base_size) + \n",
    "          theme(strip.background = element_blank(), plot.title=element_text(size=title_size, hjust=0), \n",
    "                strip.text.x = element_text(size = facet_size),axis.title=element_text(size=10), axis.text=element_text(size=8, color=\"black\"),\n",
    "                legend.position=\"bottom\", axis.line = element_line(size = 0.2), axis.ticks=element_line(size=0.2), panel.grid.major=element_line()))"
   ]
  },
  {
   "cell_type": "markdown",
   "metadata": {
    "execution": {
     "iopub.execute_input": "2022-06-15T09:54:05.829379Z",
     "iopub.status.busy": "2022-06-15T09:54:05.828551Z",
     "iopub.status.idle": "2022-06-15T09:54:05.842105Z",
     "shell.execute_reply": "2022-06-15T09:54:05.840873Z"
    }
   },
   "source": [
    "## Performance against CVD Scores"
   ]
  },
  {
   "cell_type": "raw",
   "metadata": {
    "tags": []
   },
   "source": [
    "SCORE2: Myocardial infarction, Stroke, hypertensive heart disease, Ischemic heart disease, heart failure, arrhythmias, cardiovascular death + cardiac arrest\n",
    "ASCVD: \n",
    "QRISK3:  Ischemic heart disease, Myocardial infarction, TIA, stroke\n",
    "\n",
    "AF: some scores ESC\n"
   ]
  },
  {
   "cell_type": "code",
   "execution_count": null,
   "metadata": {
    "tags": []
   },
   "outputs": [],
   "source": [
    "plot_width = 8.25; plot_height=2; plot_res = 320\n",
    "options(repr.plot.width = plot_width, repr.plot.height = plot_height, repr.plot.res=plot_res)\n",
    "\n",
    "plot_against_score = function(score1, score2, endpoint_order=c()){\n",
    "    \n",
    "    scores_plot = c(score1, score2)#, \"AgeSexRetina\"\n",
    "    \n",
    "    score_label = glue(\"{score1} vs. {score2}\")\n",
    "    #print(score_label)\n",
    "\n",
    "    temp = benchmark_endpoints %>% \n",
    "        filter(score %in% scores_plot) %>% \n",
    "        mutate(score = factor(score, levels=scores_plot)) %>%\n",
    "        mutate(endpoint = factor(endpoint, levels=endpoints_sorted)) %>%\n",
    "        group_by(endpoint, score, phecode_string, phecode_category) %>%\n",
    "        ungroup() %>%\n",
    "        pivot_wider(names_from=score, values_from=cindex) %>% \n",
    "        mutate(id = row_number()) %>%\n",
    "        mutate(delta = !!sym(score2)-!!sym(score1)) %>%\n",
    "        mutate(pos = case_when(delta>=0 ~ \"pos\", delta < 0 ~\"neg\")) %>%\n",
    "        mutate(endpoint = fct_reorder(endpoint, delta)) %>%\n",
    "        mutate(highlight = case_when(endpoint %in% endpoint_selection ~ \"YES\", TRUE ~ \"NO\")) %>%# %>% filter(endpoint %in% endpoint_sample)\n",
    "        mutate(phecode_category = factor(phecode_category, levels=categories_sorted)) %>%\n",
    "        filter(endpoint %in% endpoint_selection) #%>% mutate(endpoint=factor(endpoint, levels=endpoint_order_diff))\n",
    "    \n",
    "    temp_abs = temp %>% group_by(endpoint) %>% summarise(delta=median(delta), m_score2=median(!!sym(score2)), m_score1=median(!!sym(score1))) %>% ungroup() \n",
    "    #print(levels(temp_abs$endpoint))\n",
    "    \n",
    "    temp_abs_segment = temp_abs %>% rowwise() %>% mutate(min_cindex = min(m_score1, m_score2), max_cindex=max(m_score1, m_score2)) %>% ungroup()# %>% filter(abs(min_cindex-max_cindex)>0.02) \n",
    "    \n",
    "    if (length(endpoint_order)>0){\n",
    "        temp = temp %>% filter(endpoint %in% endpoint_order) %>% mutate(endpoint=factor(endpoint, levels=endpoint_order))\n",
    "        temp_abs = temp_abs %>% filter(endpoint %in% endpoint_order) %>% mutate(endpoint=factor(endpoint, levels=endpoint_order))\n",
    "        temp_abs_segment = temp_abs_segment %>% filter(endpoint %in% endpoint_order) %>% mutate(endpoint=factor(endpoint, levels=endpoint_order))\n",
    "        }\n",
    "    #print(temp_abs_segment)\n",
    "    \n",
    "    abs = ggplot(temp_abs) + \n",
    "        #geom_violin(aes(x=fct_rev(endpoint), y=delta), size=0.5) +\n",
    "        labs(y=\"Concordance Index\", title=score_label)+\n",
    "\n",
    "        #geom_segment(data=temp_abs_segment, mapping=aes(x=endpoint, xend=endpoint, y=min_cindex+0.01, yend=max_cindex-0.01), alpha=0.4)+#, arrow = arrow(length = unit(0.01, \"npc\")), arrow.fill=\"black\")+#+\n",
    "        geom_segment(aes(x=fct_rev(endpoint), xend=fct_rev(endpoint), y=m_score1+0.01, yend=m_score2-0.01), alpha=0.4, arrow = arrow(length = unit(0.01, \"npc\")), arrow.fill=\"black\")+#,\n",
    "    \n",
    "        geom_point(aes(x=fct_rev(endpoint), y=m_score1), size=1, color=\"black\", alpha=0.7)+\n",
    "        #geom_point(aes(x=fct_rev(endpoint), y=m_asm), size=1, color=\"#023768\", alpha=0.7)+\n",
    "        geom_point(aes(x=fct_rev(endpoint), y=m_score2), size=1.5, color=\"firebrick\", alpha=0.7)+\n",
    "\n",
    "        scale_x_discrete(labels=endpoint_map) +\n",
    "\n",
    "        coord_flip(ylim=c(0.5, 0.9))+\n",
    "         theme(strip.text = element_text(angle=270), axis.title.y=element_blank()) + \n",
    "        theme(legend.position=\"none\")\n",
    "\n",
    "        #geom_ribbon(aes(x=id, ymin=AgeSex, ymax=`Age+Sex+Retina`), fill=\"red\", alpha=0.2)\n",
    "    #geom_violin(size=0.1)\n",
    "    rel = ggplot(temp) + \n",
    "        #geom_violin(aes(x=fct_rev(endpoint), y=delta), size=0.5) +\n",
    "        labs(y=\"Difference in Concordance Index\")+\n",
    "        geom_hline(yintercept=0, size=0.25, alpha=0.5, linetype=\"22\") + \n",
    "        stat_pointinterval(aes(x=fct_rev(endpoint), y=delta), size=0.5)+\n",
    "\n",
    "        theme(axis.title.y=element_blank(),\n",
    "            axis.text.y=element_blank(),\n",
    "           axis.ticks.y=element_blank()) + \n",
    "        coord_flip(ylim=c(-0.05, 0.23))+\n",
    "         theme(strip.text = element_text(angle=270)) + \n",
    "        theme(legend.position=\"none\")\n",
    "\n",
    "        #geom_ribbon(aes(x=id, ymin=AgeSex, ymax=`Age+Sex+Retina`), fill=\"red\", alpha=0.2)\n",
    "    #geom_violin(size=0.1) \n",
    "    return(abs|rel)\n",
    "    }"
   ]
  },
  {
   "cell_type": "code",
   "execution_count": null,
   "metadata": {
    "tags": []
   },
   "outputs": [],
   "source": [
    "library(ggdist)"
   ]
  },
  {
   "cell_type": "code",
   "execution_count": null,
   "metadata": {
    "tags": []
   },
   "outputs": [],
   "source": [
    "base_size = 8\n",
    "title_size = 10\n",
    "facet_size = 9\n",
    "geom_text_size=3\n",
    "theme_set(theme_classic(base_size = base_size) + \n",
    "          theme(strip.background = element_blank(), plot.title=element_text(size=title_size, hjust=0), \n",
    "                strip.text.x = element_text(size = facet_size),axis.title=element_text(size=10), axis.text=element_text(size=8, color=\"black\"),\n",
    "                legend.position=\"bottom\", axis.line = element_line(size = 0.2), axis.ticks=element_line(size=0.2), panel.grid.major=element_line()))"
   ]
  },
  {
   "cell_type": "code",
   "execution_count": null,
   "metadata": {
    "tags": []
   },
   "outputs": [],
   "source": [
    "endpoint_order=c()\n",
    "length(endpoint_order)"
   ]
  },
  {
   "cell_type": "code",
   "execution_count": null,
   "metadata": {
    "tags": []
   },
   "outputs": [],
   "source": [
    "plot_width = 10; plot_height=3.5; plot_res = 320\n",
    "options(repr.plot.width = plot_width, repr.plot.height = plot_height, repr.plot.res=plot_res)\n",
    "\n",
    "fig1 = plot_against_score(\"Age+Sex\", \"Age+Sex+Retina\")  \n",
    "fig1"
   ]
  },
  {
   "cell_type": "code",
   "execution_count": null,
   "metadata": {
    "tags": []
   },
   "outputs": [],
   "source": [
    "endpoints_cardio = c(\n",
    "    'phecode_431-11', #  \"Cerebral infarction [Ischemic stroke]\",\n",
    "    'phecode_404', #  \"Ischemic heart disease\",\n",
    "    'phecode_404-1', #  \"Myocardial infarction [Heart attack]\", # intervention\n",
    "    'phecode_424', #  \"Heart failure\", # intervention\n",
    "     'OMOP_4306655', #  \"All-Cause Death\", # intervention\n",
    "    'phecode_420' #  \"Cardiac arrest\", # intervention\n",
    "   \n",
    ")"
   ]
  },
  {
   "cell_type": "code",
   "execution_count": null,
   "metadata": {
    "tags": []
   },
   "outputs": [],
   "source": [
    "plot_width = 10; plot_height=2.5; plot_res = 320\n",
    "options(repr.plot.width = plot_width, repr.plot.height = plot_height, repr.plot.res=plot_res)\n",
    "\n",
    "library(ggtext)\n",
    "\n",
    "scores_plot = c(\"Age+Sex\", \"Age+Sex+Retina\")#, \"AgeSexRetina\")\n",
    "\n",
    "temp = benchmark_endpoints %>% \n",
    "    filter(score %in% scores_plot) %>% \n",
    "    mutate(score = factor(score, levels=scores_plot)) %>%\n",
    "    mutate(endpoint = factor(endpoint, levels=endpoints_sorted)) %>%\n",
    "    ungroup() %>%\n",
    "    pivot_wider(names_from=score, values_from=cindex) %>% \n",
    "    mutate(id = row_number()) %>%\n",
    "    mutate(delta = `Age+Sex+Retina`-`Age+Sex`) %>%\n",
    "    group_by(endpoint, phecode_string, freq, phecode_category) %>%\n",
    "    median_qi(delta) %>%\n",
    "    mutate(pos = case_when(delta>=0 ~ \"pos\", delta < 0 ~\"neg\")) %>%\n",
    "    mutate(endpoint = fct_reorder(endpoint, delta)) %>%\n",
    "    mutate(highlight = case_when(endpoint %in% endpoints_cardio ~ \"YES\", TRUE ~ \"NO\")) %>%# %>% filter(endpoint %in% endpoint_sample)\n",
    "    mutate(phecode_category = factor(phecode_category, levels=categories_sorted))\n",
    "\n",
    "endpoint_order = (temp %>% arrange(delta))$endpoint\n",
    "\n",
    "temp = temp %>% mutate(endpoint = factor(endpoint, levels=endpoint_order)) %>% ungroup() %>% arrange(endpoint) %>% group_by(phecode_category) %>% mutate(endpoint = row_number())\n",
    "\n",
    "overview = ggplot(temp) +\n",
    "    geom_ribbon(aes(x=endpoint, ymin=0, ymax=delta), fill=\"black\", alpha=0.2)+\n",
    "    geom_point(aes(x=endpoint, y=delta, color=highlight, size=highlight, alpha=highlight)) +\n",
    "    geom_text(data=temp %>% filter(highlight==\"YES\"), aes(x=endpoint, y=delta+0.045, label=\"↓\"), color=\"black\", size=5, alpha=0.7) +\n",
    "    #geom_segment(aes(x=endpoint, xend=endpoint, y=0, yend=delta, color=highlight, size=highlight), alpha=0.5)+#+\n",
    "    labs(x=\"Endpoints\", y=\"Delta C-Index\\nover age and sex\")+\n",
    "    scale_x_discrete(labels=endpoint_map) +\n",
    "    scale_color_manual(values=c(\"NO\"=\"black\", \"YES\"=\"firebrick\"))+\n",
    "    scale_alpha_manual(values=c(\"NO\"=0.1, \"YES\"=1))+\n",
    "    scale_size_manual(values=c(\"NO\"=0.01, \"YES\"=1))+\n",
    "    #scale_colour_manual(values = c(\"pos\"=\"forestgreen\", \"neg\" = \"firebrick\")) + \n",
    "    #coord_polar() +\n",
    "    coord_cartesian(ylim=c(0, NA), clip = \"off\")+\n",
    "    scale_y_continuous(expand=c(0, 0))+\n",
    "    scale_x_discrete(expand=expansion(add=20))+\n",
    "    facet_grid(~phecode_category, scales=\"free_x\", space=\"free_x\")+#, switch=TRUE)+\n",
    "    #facet_grid2(~phecode_category, scales = \"free\", independent = \"all\") + \n",
    "    theme(axis.title.x=element_blank(),\n",
    "        axis.text.x=element_blank(),\n",
    "        axis.ticks.x=element_blank(),\n",
    "        panel.grid.major=element_blank(), \n",
    "         strip.text = element_text(angle=270, hjust=1)) + \n",
    "    theme(legend.position=\"none\") \n",
    "    \n",
    "    #geom_ribbon(aes(x=id, ymin=AgeSex, ymax=`Age+Sex+Retina`), fill=\"red\", alpha=0.2)\n",
    "#geom_violin(size=0.1)\n",
    "overview"
   ]
  },
  {
   "cell_type": "code",
   "execution_count": null,
   "metadata": {
    "tags": []
   },
   "outputs": [],
   "source": [
    "plot_width = 8.25; plot_height=6; plot_res = 320\n",
    "options(repr.plot.width = plot_width, repr.plot.height = plot_height, repr.plot.res=plot_res)\n",
    "\n",
    "\n",
    "fig1 = plot_against_score(\"Age+Sex\", \"Age+Sex+Retina\", endpoints_cardio) \n",
    "fig2 = plot_against_score(\"SCORE2\", \"Age+Sex+Retina\", endpoints_cardio) \n",
    "fig3 = plot_against_score(\"ASCVD\", \"Age+Sex+Retina\", endpoints_cardio)\n",
    "fig4 = plot_against_score(\"QRISK3\", \"Age+Sex+Retina\", endpoints_cardio) \n",
    "\n",
    "fig1/fig2/fig3/fig4 "
   ]
  },
  {
   "cell_type": "code",
   "execution_count": null,
   "metadata": {
    "tags": []
   },
   "outputs": [],
   "source": [
    "plot_width = 8.25; plot_height=4; plot_res = 320\n",
    "options(repr.plot.width = plot_width, repr.plot.height = plot_height, repr.plot.res=plot_res)\n",
    "\n",
    "# endpoints_cvd = c(\n",
    "#     'phecode_404', #  \"Ischemic heart disease\",\n",
    "#     'phecode_404-1', #  \"Myocardial infarction [Heart attack]\", # intervention\n",
    "#     'phecode_431-11', #  \"Cerebral infarction [Ischemic stroke]\",\n",
    "#     'phecode_424', #  \"Heart failure\", # intervention\n",
    "#     'phecode_420' #  \"Cardiac arrest\", # intervention\n",
    "# )\n",
    "\n",
    "fig2 = plot_against_score(\"SCORE2\", \"SCORE2+Retina\", endpoints_cardio) \n",
    "fig3 = plot_against_score(\"ASCVD\", \"ASCVD+Retina\", endpoints_cardio)\n",
    "fig4 = plot_against_score(\"QRISK3\", \"QRISK3+Retina\", endpoints_cardio) \n",
    "\n",
    "fig2/fig3/fig4 "
   ]
  },
  {
   "cell_type": "code",
   "execution_count": null,
   "metadata": {
    "tags": []
   },
   "outputs": [],
   "source": [
    "# "
   ]
  },
  {
   "cell_type": "code",
   "execution_count": null,
   "metadata": {},
   "outputs": [],
   "source": []
  },
  {
   "cell_type": "code",
   "execution_count": null,
   "metadata": {},
   "outputs": [],
   "source": []
  },
  {
   "cell_type": "code",
   "execution_count": null,
   "metadata": {},
   "outputs": [],
   "source": []
  },
  {
   "cell_type": "code",
   "execution_count": null,
   "metadata": {},
   "outputs": [],
   "source": []
  },
  {
   "cell_type": "code",
   "execution_count": null,
   "metadata": {},
   "outputs": [],
   "source": []
  },
  {
   "cell_type": "code",
   "execution_count": null,
   "metadata": {},
   "outputs": [],
   "source": []
  },
  {
   "cell_type": "code",
   "execution_count": null,
   "metadata": {},
   "outputs": [],
   "source": []
  },
  {
   "cell_type": "code",
   "execution_count": null,
   "metadata": {
    "tags": []
   },
   "outputs": [],
   "source": [
    "ggplot(temp) + \n",
    "    geom_point(aes(x=endpoint, y=delta, color=highlight), size=0.5) +\n",
    "    geom_segment(aes(x=endpoint, xend=endpoint, y=0, yend=delta, color=highlight, size=highlight), alpha=0.5)+#+\n",
    "    scale_color_manual(values=c(\"NO\"=\"black\", \"YES\"=\"firebrick\"))+\n",
    "    #scale_alpha_manual(values=c(\"NO\"=0.3, \"YES\"=0.7))+\n",
    "    scale_size_manual(values=c(\"NO\"=0.1, \"YES\"=0.5))+\n",
    "    #scale_colour_manual(values = c(\"pos\"=\"forestgreen\", \"neg\" = \"firebrick\")) + \n",
    "    coord_cartesian(ylim=c(0, NA), clip = \"off\")+\n",
    "    scale_y_continuous(expand=c(0, 0))+\n",
    "    scale_x_discrete(expand=expansion(add=8))+\n",
    "    facet_grid(~phecode_category, scale=\"free_x\", space=\"free_x\")+#, switch=TRUE)+\n",
    "    theme(axis.title.x=element_blank(),\n",
    "        axis.text.x=element_blank(),\n",
    "        axis.ticks.x=element_blank(),\n",
    "     strip.text = element_text(angle=270)) + \n",
    "    theme(legend.position=\"none\")\n",
    "    \n",
    "    #geom_ribbon(aes(x=id, ymin=AgeSex, ymax=`Age+Sex+Retina`), fill=\"red\", alpha=0.2)\n",
    "#geom_violin(size=0.1) "
   ]
  },
  {
   "cell_type": "code",
   "execution_count": null,
   "metadata": {
    "tags": []
   },
   "outputs": [],
   "source": [
    "library(ggdist)"
   ]
  },
  {
   "cell_type": "code",
   "execution_count": null,
   "metadata": {
    "tags": []
   },
   "outputs": [],
   "source": [
    "table_2 = benchmark_endpoints %>% \n",
    "    filter(score %in% scores_plot) %>% \n",
    "    mutate(score = factor(score, levels=scores_plot)) %>%\n",
    "    mutate(endpoint = factor(endpoint, levels=endpoints_sorted)) %>%\n",
    "    group_by(endpoint, score, phecode_string, phecode_category) %>%\n",
    "    pivot_wider(names_from=score, values_from=cindex) %>% \n",
    "    mutate(id = row_number()) %>%\n",
    "    mutate(delta = `Age+Sex+Retina`-`Age+Sex`) %>%\n",
    "    #select(endpoint, iteration, phecode_string, phecode_category, sex, `Age+Sex`, `Age+Sex+Retina`, delta) %>%\n",
    "    pivot_longer(all_of(c(\"Age+Sex\", \"Age+Sex+Retina\", \"delta\")), names_to=\"type\", values_to=\"cindex\") %>%\n",
    "    group_by(endpoint, phecode_string, phecode_category, type) %>%\n",
    "    median_qi(cindex) %>%\n",
    "    #ungroup() %>%\n",
    "    mutate(agg = glue(\"{round(cindex, 3)} ({round(.lower, 3)}, {round(.upper, 3)})\")) %>%\n",
    "    ungroup() %>% select(endpoint, phecode_string, phecode_category, type, agg) %>%\n",
    "    pivot_wider(names_from=type, values_from=agg)\n",
    "    #mutate(pos = case_when(delta>=0 ~ \"pos\", delta < 0 ~\"neg\")) %>%\n",
    "    #mutate(endpoint = fct_reorder(endpoint, delta))# %>% filter(endpoint %in% endpoint_sample)"
   ]
  },
  {
   "cell_type": "code",
   "execution_count": null,
   "metadata": {
    "tags": []
   },
   "outputs": [],
   "source": [
    "table_2 %>% \n",
    "    select(all_of(c(\"endpoint\", \"phecode_string\", \"Age+Sex\", 'Age+Sex+Retina', \"delta\"))) %>%\n",
    "    mutate(endpoint = factor(endpoint, levels = endpoint_order)) %>% \n",
    "    filter(endpoint %in% endpoint_selection) %>%\n",
    "    arrange(endpoint)"
   ]
  },
  {
   "cell_type": "code",
   "execution_count": null,
   "metadata": {},
   "outputs": [],
   "source": [
    "options(pillar.print_max = Inf)\n",
    "table_2 %>% \n",
    "    select(all_of(c(\"phecode_category\", \"endpoint\", \"phecode_string\", \"Age+Sex\", 'Age+Sex+Retina', \"delta\"))) %>%\n",
    "    mutate(endpoint = factor(endpoint, levels = endpoint_order)) %>% \n",
    "    #filter(endpoint %in% endpoint_selection) %>%\n",
    "    arrange(endpoint) %>% \n",
    "    write_csv(\"outputs/SupplTable1_DiscriminativePerformanceAll.csv\")"
   ]
  },
  {
   "cell_type": "code",
   "execution_count": null,
   "metadata": {},
   "outputs": [],
   "source": []
  },
  {
   "cell_type": "code",
   "execution_count": null,
   "metadata": {},
   "outputs": [],
   "source": [
    "table_2 %>% filter(endpoint %in% endpoint_selection) %>% arrange(as.character(endpoint))"
   ]
  },
  {
   "cell_type": "code",
   "execution_count": null,
   "metadata": {},
   "outputs": [],
   "source": []
  },
  {
   "cell_type": "code",
   "execution_count": null,
   "metadata": {},
   "outputs": [],
   "source": []
  },
  {
   "cell_type": "code",
   "execution_count": null,
   "metadata": {},
   "outputs": [],
   "source": []
  },
  {
   "cell_type": "code",
   "execution_count": null,
   "metadata": {},
   "outputs": [],
   "source": [
    "library(ggdist)"
   ]
  },
  {
   "cell_type": "code",
   "execution_count": null,
   "metadata": {
    "tags": []
   },
   "outputs": [],
   "source": []
  },
  {
   "cell_type": "code",
   "execution_count": null,
   "metadata": {
    "tags": []
   },
   "outputs": [],
   "source": [
    "score1=\"Age+Sex\"\n",
    "score2=\"Age+Sex+Retina\"\n",
    "\n",
    "scores_plot = c(score1, score2)\n",
    "temp_base = benchmark_endpoints %>% \n",
    "    filter(score %in% scores_plot) %>% \n",
    "    filter(endpoint %in% endpoint_selection) %>%\n",
    "    mutate(score = factor(score, levels=scores_plot)) %>%\n",
    "    mutate(endpoint = factor(endpoint, levels=endpoints_sorted)) %>%\n",
    "    group_by(endpoint, score, phecode_string, phecode_category) %>%\n",
    "    #ungroup() %>%\n",
    "    pivot_wider(names_from=score, values_from=cindex) %>% \n",
    "    mutate(id = row_number()) %>%\n",
    "    mutate(delta = !!sym(score2)-!!sym(score1)) %>%\n",
    "    #mutate(pos = case_when(delta>=0 ~ \"pos\", delta < 0 ~\"neg\")) %>%\n",
    "    select(endpoint, iteration, phecode_string, phecode_category, sex, score1, score2, delta) %>%\n",
    "    pivot_longer(all_of(c(score1, score2, \"delta\")), names_to=\"type\", values_to=\"cindex\") %>%\n",
    "    group_by(endpoint, phecode_string, phecode_category, type) %>%\n",
    "    median_qi(cindex) %>% \n",
    "    pivot_wider(names_from=type, values_from=cindex) %>%\n",
    "    select(phecode_string, `.lower`, `.upper`, delta) %>% \n",
    "    drop_na() %>%\n",
    "    mutate(score = glue(\"{score1} vs. {score2}\"))\n",
    "\n",
    "score1=\"SCORE2\"\n",
    "score2=\"SCORE2+Retina\"\n",
    "\n",
    "scores_plot = c(score1, score2)\n",
    "temp_score = benchmark_endpoints %>% \n",
    "    filter(score %in% scores_plot) %>% \n",
    "    filter(endpoint %in% endpoint_selection) %>%\n",
    "    mutate(score = factor(score, levels=scores_plot)) %>%\n",
    "    mutate(endpoint = factor(endpoint, levels=endpoints_sorted)) %>%\n",
    "    group_by(endpoint, score, phecode_string, phecode_category) %>%\n",
    "    #ungroup() %>%\n",
    "    pivot_wider(names_from=score, values_from=cindex) %>% \n",
    "    mutate(id = row_number()) %>%\n",
    "    mutate(delta = !!sym(score2)-!!sym(score1)) %>%\n",
    "    #mutate(pos = case_when(delta>=0 ~ \"pos\", delta < 0 ~\"neg\")) %>%\n",
    "    select(endpoint, iteration, phecode_string, phecode_category, sex, score1, score2, delta) %>%\n",
    "    pivot_longer(all_of(c(score1, score2, \"delta\")), names_to=\"type\", values_to=\"cindex\") %>%\n",
    "    group_by(endpoint, phecode_string, phecode_category, type) %>%\n",
    "    median_qi(cindex) %>% \n",
    "    pivot_wider(names_from=type, values_from=cindex) %>%\n",
    "    select(phecode_string, `.lower`, `.upper`, delta) %>% \n",
    "    drop_na() %>%\n",
    "    mutate(score = glue(\"{score1} vs. {score2}\"))\n",
    "\n",
    "score1=\"ASCVD\"\n",
    "score2=\"ASCVD+Retina\"\n",
    "\n",
    "scores_plot = c(score1, score2)\n",
    "temp_ascvd = benchmark_endpoints %>% \n",
    "    filter(score %in% scores_plot) %>% \n",
    "    filter(endpoint %in% endpoint_selection) %>%\n",
    "    mutate(score = factor(score, levels=scores_plot)) %>%\n",
    "    mutate(endpoint = factor(endpoint, levels=endpoints_sorted)) %>%\n",
    "    group_by(endpoint, score, phecode_string, phecode_category) %>%\n",
    "    #ungroup() %>%\n",
    "    pivot_wider(names_from=score, values_from=cindex) %>% \n",
    "    mutate(id = row_number()) %>%\n",
    "    mutate(delta = !!sym(score2)-!!sym(score1)) %>%\n",
    "    #mutate(pos = case_when(delta>=0 ~ \"pos\", delta < 0 ~\"neg\")) %>%\n",
    "    select(endpoint, iteration, phecode_string, phecode_category, sex, score1, score2, delta) %>%\n",
    "    pivot_longer(all_of(c(score1, score2, \"delta\")), names_to=\"type\", values_to=\"cindex\") %>%\n",
    "    group_by(endpoint, phecode_string, phecode_category, type) %>%\n",
    "    median_qi(cindex) %>% \n",
    "    pivot_wider(names_from=type, values_from=cindex) %>%\n",
    "    select(phecode_string, `.lower`, `.upper`, delta) %>% \n",
    "    drop_na() %>%\n",
    "    mutate(score = glue(\"{score1} vs. {score2}\"))\n",
    "\n",
    "score1=\"QRISK3\"\n",
    "score2=\"QRISK3+Retina\"\n",
    "\n",
    "scores_plot = c(score1, score2)\n",
    "temp_qrisk = benchmark_endpoints %>% \n",
    "    filter(score %in% scores_plot) %>% \n",
    "    filter(endpoint %in% endpoint_selection) %>%\n",
    "    mutate(score = factor(score, levels=scores_plot)) %>%\n",
    "    mutate(endpoint = factor(endpoint, levels=endpoints_sorted)) %>%\n",
    "    group_by(endpoint, score, phecode_string, phecode_category) %>%\n",
    "    #ungroup() %>%\n",
    "    pivot_wider(names_from=score, values_from=cindex) %>% \n",
    "    mutate(id = row_number()) %>%\n",
    "    mutate(delta = !!sym(score2)-!!sym(score1)) %>%\n",
    "    #mutate(pos = case_when(delta>=0 ~ \"pos\", delta < 0 ~\"neg\")) %>%\n",
    "    select(endpoint, iteration, phecode_string, phecode_category, sex, score1, score2, delta) %>%\n",
    "    pivot_longer(all_of(c(score1, score2, \"delta\")), names_to=\"type\", values_to=\"cindex\") %>%\n",
    "    group_by(endpoint, phecode_string, phecode_category, type) %>%\n",
    "    median_qi(cindex) %>% \n",
    "    pivot_wider(names_from=type, values_from=cindex) %>%\n",
    "    select(phecode_string, `.lower`, `.upper`, delta) %>% \n",
    "    drop_na() %>%\n",
    "    mutate(score = glue(\"{score1} vs. {score2}\"))\n",
    "\n",
    "\n",
    "score1=\"ASCVD\"\n",
    "score2=\"Age+Sex+Retina\"\n",
    "\n",
    "scores_plot = c(score1, score2)\n",
    "temp_retascvd = benchmark_endpoints %>% \n",
    "    filter(score %in% scores_plot) %>% \n",
    "    filter(endpoint %in% endpoint_selection) %>%\n",
    "    mutate(score = factor(score, levels=scores_plot)) %>%\n",
    "    mutate(endpoint = factor(endpoint, levels=endpoints_sorted)) %>%\n",
    "    group_by(endpoint, score, phecode_string, phecode_category) %>%\n",
    "    #ungroup() %>%\n",
    "    pivot_wider(names_from=score, values_from=cindex) %>% \n",
    "    mutate(id = row_number()) %>%\n",
    "    mutate(delta = !!sym(score2)-!!sym(score1)) %>%\n",
    "    #mutate(pos = case_when(delta>=0 ~ \"pos\", delta < 0 ~\"neg\")) %>%\n",
    "    select(endpoint, iteration, phecode_string, phecode_category, sex, score1, score2, delta) %>%\n",
    "    pivot_longer(all_of(c(score1, score2, \"delta\")), names_to=\"type\", values_to=\"cindex\") %>%\n",
    "    group_by(endpoint, phecode_string, phecode_category, type) %>%\n",
    "    median_qi(cindex) %>% \n",
    "    pivot_wider(names_from=type, values_from=cindex) %>%\n",
    "    select(phecode_string, `.lower`, `.upper`, delta) %>% \n",
    "    drop_na() %>%\n",
    "    mutate(score = glue(\"{score1} vs. {score2}\"))\n",
    "\n",
    "\n",
    "score1=\"SCORE2\"\n",
    "score2=\"Age+Sex+Retina\"\n",
    "\n",
    "scores_plot = c(score1, score2)\n",
    "temp_retscore = benchmark_endpoints %>% \n",
    "    filter(score %in% scores_plot) %>% \n",
    "    filter(endpoint %in% endpoint_selection) %>%\n",
    "    mutate(score = factor(score, levels=scores_plot)) %>%\n",
    "    mutate(endpoint = factor(endpoint, levels=endpoints_sorted)) %>%\n",
    "    group_by(endpoint, score, phecode_string, phecode_category) %>%\n",
    "    #ungroup() %>%\n",
    "    pivot_wider(names_from=score, values_from=cindex) %>% \n",
    "    mutate(id = row_number()) %>%\n",
    "    mutate(delta = !!sym(score2)-!!sym(score1)) %>%\n",
    "    #mutate(pos = case_when(delta>=0 ~ \"pos\", delta < 0 ~\"neg\")) %>%\n",
    "    select(endpoint, iteration, phecode_string, phecode_category, sex, score1, score2, delta) %>%\n",
    "    pivot_longer(all_of(c(score1, score2, \"delta\")), names_to=\"type\", values_to=\"cindex\") %>%\n",
    "    group_by(endpoint, phecode_string, phecode_category, type) %>%\n",
    "    median_qi(cindex) %>% \n",
    "    pivot_wider(names_from=type, values_from=cindex) %>%\n",
    "    select(phecode_string, `.lower`, `.upper`, delta) %>% \n",
    "    drop_na() %>%\n",
    "    mutate(score = glue(\"{score1} vs. {score2}\"))\n",
    "\n",
    "score1=\"QRISK3\"\n",
    "score2=\"Age+Sex+Retina\"\n",
    "\n",
    "scores_plot = c(score1, score2)\n",
    "temp_retqrisk= benchmark_endpoints %>% \n",
    "    filter(score %in% scores_plot) %>% \n",
    "    filter(endpoint %in% endpoint_selection) %>%\n",
    "    mutate(score = factor(score, levels=scores_plot)) %>%\n",
    "    mutate(endpoint = factor(endpoint, levels=endpoints_sorted)) %>%\n",
    "    group_by(endpoint, score, phecode_string, phecode_category) %>%\n",
    "    #ungroup() %>%\n",
    "    pivot_wider(names_from=score, values_from=cindex) %>% \n",
    "    mutate(id = row_number()) %>%\n",
    "    mutate(delta = !!sym(score2)-!!sym(score1)) %>%\n",
    "    #mutate(pos = case_when(delta>=0 ~ \"pos\", delta < 0 ~\"neg\")) %>%\n",
    "    select(endpoint, iteration, phecode_string, phecode_category, sex, score1, score2, delta) %>%\n",
    "    pivot_longer(all_of(c(score1, score2, \"delta\")), names_to=\"type\", values_to=\"cindex\") %>%\n",
    "    group_by(endpoint, phecode_string, phecode_category, type) %>%\n",
    "    median_qi(cindex) %>% \n",
    "    pivot_wider(names_from=type, values_from=cindex) %>%\n",
    "    select(phecode_string, `.lower`, `.upper`, delta) %>% \n",
    "    drop_na() %>%\n",
    "    mutate(score = glue(\"{score1} vs. {score2}\"))\n",
    "\n",
    "all = bind_rows(temp_base,\n",
    "                temp_score, \n",
    "                temp_ascvd, \n",
    "                temp_qrisk,\n",
    "                temp_retscore,\n",
    "                temp_retascvd,\n",
    "                temp_retqrisk\n",
    "               ) %>% arrange(phecode_string)\n",
    "\n",
    "#%>% filter(delta>0) %>% arrange(desc(`Age+Sex+Retina`))\n",
    "\n",
    "\n",
    "#     mutate(endpoint = fct_reorder(endpoint, delta)) %>%\n",
    "#     mutate(highlight = case_when(endpoint %in% endpoint_selection ~ \"YES\", TRUE ~ \"NO\")) %>%# %>% filter(endpoint %in% endpoint_sample)\n",
    "#     mutate(phecode_category = factor(phecode_category, levels=categories_sorted)) %>%\n",
    "\n",
    "\n",
    "\n",
    "\n",
    "#     group_by(endpoint, score, phecode_string, phecode_category) %>%\n",
    "#     pivot_wider(names_from=score, values_from=cindex) %>% \n",
    "#     mutate(id = row_number()) %>%\n",
    "#     mutate(delta = `Age+Sex+Retina`-`Age+Sex`) %>%\n",
    "#     pivot_longer(all_of(c(\"Age+Sex\", \"Age+Sex+Retina\", \"delta\")), names_to=\"type\", values_to=\"cindex\") %>%\n",
    "#     group_by(endpoint, phecode_string, phecode_category, type) %>%\n",
    "#     median_qi(cindex) %>% \n",
    "# ungroup() %>%\n",
    "  \n",
    "#select(phecode_string, score1, `Age+Sex`, delta) #%>% filter(delta>0) %>% arrange(desc(`Age+Sex+Retina`))"
   ]
  },
  {
   "cell_type": "code",
   "execution_count": null,
   "metadata": {
    "tags": []
   },
   "outputs": [],
   "source": [
    "options(repr.matrix.max.cols=150, repr.matrix.max.rows=500)\n",
    "all"
   ]
  },
  {
   "cell_type": "code",
   "execution_count": null,
   "metadata": {},
   "outputs": [],
   "source": [
    "endpoint_selection"
   ]
  },
  {
   "cell_type": "code",
   "execution_count": null,
   "metadata": {
    "tags": []
   },
   "outputs": [],
   "source": [
    "temp %>% head() #ungroup() %>% filter(endpoint %in% endpoint_selection)"
   ]
  },
  {
   "cell_type": "code",
   "execution_count": null,
   "metadata": {},
   "outputs": [],
   "source": []
  },
  {
   "cell_type": "code",
   "execution_count": null,
   "metadata": {},
   "outputs": [],
   "source": []
  },
  {
   "cell_type": "code",
   "execution_count": null,
   "metadata": {},
   "outputs": [],
   "source": [
    "temp_abs = temp %>% group_by(endpoint) %>% summarise(delta=median(delta), m_score2=median(!!sym(score2)), m_score1=median(!!sym(score1))) %>% ungroup() \n",
    "#print(levels(temp_abs$endpoint))\n",
    "\n",
    "temp_abs_segment = temp_abs %>% rowwise() %>% mutate(min_cindex = min(m_score1, m_score2), max_cindex=max(m_score1, m_score2)) %>% ungroup()# %>% filter(abs(min_cindex-max_cindex)>0.02) "
   ]
  }
 ],
 "metadata": {
  "hide_input": false,
  "kernelspec": {
   "display_name": "R",
   "language": "R",
   "name": "ir"
  },
  "language_info": {
   "codemirror_mode": "r",
   "file_extension": ".r",
   "mimetype": "text/x-r-source",
   "name": "R",
   "pygments_lexer": "r",
   "version": "4.0.2"
  },
  "toc-autonumbering": false
 },
 "nbformat": 4,
 "nbformat_minor": 4
}
