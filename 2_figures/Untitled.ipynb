{
 "cells": [
  {
   "cell_type": "code",
   "execution_count": 1,
   "id": "0f6eaf3b-58b8-40df-a38e-e0d6a7c42916",
   "metadata": {
    "execution": {
     "iopub.execute_input": "2023-02-06T20:14:40.928246Z",
     "iopub.status.busy": "2023-02-06T20:14:40.927986Z",
     "iopub.status.idle": "2023-02-06T20:14:46.156584Z",
     "shell.execute_reply": "2023-02-06T20:14:46.156106Z",
     "shell.execute_reply.started": "2023-02-06T20:14:40.928190Z"
    }
   },
   "outputs": [],
   "source": [
    "import torch "
   ]
  },
  {
   "cell_type": "code",
   "execution_count": null,
   "id": "3c049984-a52f-425a-b0e6-ddbe46a4a7da",
   "metadata": {},
   "outputs": [],
   "source": []
  }
 ],
 "metadata": {
  "kernelspec": {
   "display_name": "Python 3",
   "language": "python",
   "name": "python3"
  },
  "language_info": {
   "codemirror_mode": {
    "name": "ipython",
    "version": 3
   },
   "file_extension": ".py",
   "mimetype": "text/x-python",
   "name": "python",
   "nbconvert_exporter": "python",
   "pygments_lexer": "ipython3",
   "version": "3.9.5"
  }
 },
 "nbformat": 4,
 "nbformat_minor": 5
}
