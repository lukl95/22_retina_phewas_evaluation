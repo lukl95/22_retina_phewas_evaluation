{
 "cells": [
  {
   "cell_type": "code",
   "execution_count": 1,
   "id": "97b55585-e67b-404d-a4e5-12116e845c8a",
   "metadata": {
    "execution": {
     "iopub.execute_input": "2022-11-03T14:24:21.969259Z",
     "iopub.status.busy": "2022-11-03T14:24:21.968870Z",
     "iopub.status.idle": "2022-11-03T14:24:23.245761Z",
     "shell.execute_reply": "2022-11-03T14:24:23.245208Z",
     "shell.execute_reply.started": "2022-11-03T14:24:21.969188Z"
    }
   },
   "outputs": [],
   "source": [
    "import pandas as pd\n",
    "import os, pathlib"
   ]
  },
  {
   "cell_type": "code",
   "execution_count": 3,
   "id": "1804c849-e43c-42fe-9f3a-5db8e31c1d9f",
   "metadata": {
    "execution": {
     "iopub.execute_input": "2022-11-03T14:25:04.070033Z",
     "iopub.status.busy": "2022-11-03T14:25:04.069691Z",
     "iopub.status.idle": "2022-11-03T14:25:04.205483Z",
     "shell.execute_reply": "2022-11-03T14:25:04.204849Z",
     "shell.execute_reply.started": "2022-11-03T14:25:04.070012Z"
    },
    "tags": []
   },
   "outputs": [
    {
     "name": "stdout",
     "output_type": "stream",
     "text": [
      "/sc-projects/sc-proj-ukb-cvd\n"
     ]
    }
   ],
   "source": [
    "base_path = \"/sc-projects/sc-proj-ukb-cvd\"\n",
    "print(base_path)\n",
    "\n",
    "project_label = \"22_retina_phewas\"\n",
    "project_path = f\"{base_path}/results/projects/{project_label}\"\n",
    "figure_path = f\"{project_path}/figures\"\n",
    "output_path = f\"{project_path}/data\"\n",
    "\n",
    "experiment = '220812_test'\n",
    "experiment_path = f\"{output_path}/{experiment}\"\n",
    "pathlib.Path(experiment_path).mkdir(parents=True, exist_ok=True)\n",
    "\n",
    "in_path = f\"{experiment_path}/coxph/predictions\"\n",
    "out_path = f\"{experiment_path}/benchmarks\"\n",
    "pathlib.Path(out_path).mkdir(parents=True, exist_ok=True)\n",
    "\n",
    "prediction_paths = pd.read_feather(f\"{experiment_path}/prediction_paths.feather\")"
   ]
  },
  {
   "cell_type": "code",
   "execution_count": 7,
   "id": "5131826f-2d48-46de-bb5c-2710058231ba",
   "metadata": {
    "execution": {
     "iopub.execute_input": "2022-11-03T14:26:04.780588Z",
     "iopub.status.busy": "2022-11-03T14:26:04.780196Z",
     "iopub.status.idle": "2022-11-03T14:26:04.789398Z",
     "shell.execute_reply": "2022-11-03T14:26:04.789013Z",
     "shell.execute_reply.started": "2022-11-03T14:26:04.780567Z"
    },
    "tags": []
   },
   "outputs": [
    {
     "data": {
      "text/plain": [
       "(1171, 11)"
      ]
     },
     "execution_count": 7,
     "metadata": {},
     "output_type": "execute_result"
    }
   ],
   "source": [
    "endpoints_df = pd.read_csv('/sc-projects/sc-proj-ukb-cvd/results/projects/22_retinal_risk/data/220602/endpoints.csv', index_col=0)\n",
    "endpoints_df.shape"
   ]
  },
  {
   "cell_type": "code",
   "execution_count": 8,
   "id": "b886a5f8-e74d-4f1c-9099-632687328e96",
   "metadata": {
    "execution": {
     "iopub.execute_input": "2022-11-03T14:27:02.859695Z",
     "iopub.status.busy": "2022-11-03T14:27:02.859304Z",
     "iopub.status.idle": "2022-11-03T14:27:14.312194Z",
     "shell.execute_reply": "2022-11-03T14:27:14.311576Z",
     "shell.execute_reply.started": "2022-11-03T14:27:02.859674Z"
    }
   },
   "outputs": [],
   "source": [
    "all_endpoints = sorted([l.replace('_prevalent', '') for l in list(pd.read_csv('/sc-projects/sc-proj-ukb-cvd/results/projects/22_retinal_risk/data/220602/endpoints.csv').endpoint.values)])\n",
    "\n",
    "scores = [\n",
    "    'Age+Sex',# 'Retina', 'Age+Sex+Retina',\n",
    "    #\"SCORE2\", \"SCORE2+Retina\", \n",
    "    #\"ASCVD\", \"ASCVD+Retina\", \n",
    "    #\"QRISK3\", \"QRISK3+Retina\"\n",
    "]\n",
    "\n",
    "today = 'test'\n",
    "\n",
    "eligable_eids = pd.read_feather(f\"{output_path}/eligable_eids_220824.feather\")\n",
    "eids_dict = eligable_eids.set_index(\"endpoint\")[\"eid_list\"].to_dict()"
   ]
  },
  {
   "cell_type": "code",
   "execution_count": 10,
   "id": "dcf80e8a-f57e-460b-b92c-8d77a3edab34",
   "metadata": {
    "execution": {
     "iopub.execute_input": "2022-11-03T14:27:30.921768Z",
     "iopub.status.busy": "2022-11-03T14:27:30.921430Z",
     "iopub.status.idle": "2022-11-03T14:27:30.931632Z",
     "shell.execute_reply": "2022-11-03T14:27:30.931223Z",
     "shell.execute_reply.started": "2022-11-03T14:27:30.921745Z"
    },
    "tags": []
   },
   "outputs": [
    {
     "data": {
      "text/html": [
       "<div>\n",
       "<style scoped>\n",
       "    .dataframe tbody tr th:only-of-type {\n",
       "        vertical-align: middle;\n",
       "    }\n",
       "\n",
       "    .dataframe tbody tr th {\n",
       "        vertical-align: top;\n",
       "    }\n",
       "\n",
       "    .dataframe thead th {\n",
       "        text-align: right;\n",
       "    }\n",
       "</style>\n",
       "<table border=\"1\" class=\"dataframe\">\n",
       "  <thead>\n",
       "    <tr style=\"text-align: right;\">\n",
       "      <th></th>\n",
       "      <th>endpoint</th>\n",
       "      <th>n_eids</th>\n",
       "      <th>eid_list</th>\n",
       "    </tr>\n",
       "  </thead>\n",
       "  <tbody>\n",
       "    <tr>\n",
       "      <th>0</th>\n",
       "      <td>OMOP_4306655</td>\n",
       "      <td>502453</td>\n",
       "      <td>[1000018, 1000020, 1000037, 1000043, 1000051, ...</td>\n",
       "    </tr>\n",
       "    <tr>\n",
       "      <th>1</th>\n",
       "      <td>phecode_002</td>\n",
       "      <td>499671</td>\n",
       "      <td>[1000018, 1000020, 1000037, 1000043, 1000051, ...</td>\n",
       "    </tr>\n",
       "    <tr>\n",
       "      <th>2</th>\n",
       "      <td>phecode_002-1</td>\n",
       "      <td>500332</td>\n",
       "      <td>[1000018, 1000020, 1000037, 1000043, 1000051, ...</td>\n",
       "    </tr>\n",
       "    <tr>\n",
       "      <th>3</th>\n",
       "      <td>phecode_003</td>\n",
       "      <td>499141</td>\n",
       "      <td>[1000018, 1000020, 1000037, 1000043, 1000051, ...</td>\n",
       "    </tr>\n",
       "    <tr>\n",
       "      <th>4</th>\n",
       "      <td>phecode_004</td>\n",
       "      <td>497273</td>\n",
       "      <td>[1000018, 1000020, 1000037, 1000043, 1000051, ...</td>\n",
       "    </tr>\n",
       "  </tbody>\n",
       "</table>\n",
       "</div>"
      ],
      "text/plain": [
       "        endpoint  n_eids                                           eid_list\n",
       "0   OMOP_4306655  502453  [1000018, 1000020, 1000037, 1000043, 1000051, ...\n",
       "1    phecode_002  499671  [1000018, 1000020, 1000037, 1000043, 1000051, ...\n",
       "2  phecode_002-1  500332  [1000018, 1000020, 1000037, 1000043, 1000051, ...\n",
       "3    phecode_003  499141  [1000018, 1000020, 1000037, 1000043, 1000051, ...\n",
       "4    phecode_004  497273  [1000018, 1000020, 1000037, 1000043, 1000051, ..."
      ]
     },
     "execution_count": 10,
     "metadata": {},
     "output_type": "execute_result"
    }
   ],
   "source": []
  },
  {
   "cell_type": "code",
   "execution_count": 17,
   "id": "e3600022-4f36-4559-ae0f-0f395b489f74",
   "metadata": {
    "execution": {
     "iopub.execute_input": "2022-11-04T14:46:29.550009Z",
     "iopub.status.busy": "2022-11-04T14:46:29.549588Z",
     "iopub.status.idle": "2022-11-04T14:46:29.558488Z",
     "shell.execute_reply": "2022-11-04T14:46:29.558097Z",
     "shell.execute_reply.started": "2022-11-04T14:46:29.549988Z"
    },
    "tags": []
   },
   "outputs": [],
   "source": [
    "x = pd.read_feather('/sc-projects/sc-proj-ukb-cvd/results/projects/22_retina_phewas/data/220812_test/benchmarks/221103/benchmark_cindex_221103_model_ImageTraining_[]_ConvNeXt_MLPHead_predictions_cropratio0.66_iteration_9.feather')"
   ]
  },
  {
   "cell_type": "code",
   "execution_count": 18,
   "id": "6746b697-9b69-4268-a748-009fd9a9538a",
   "metadata": {
    "execution": {
     "iopub.execute_input": "2022-11-04T14:46:30.171867Z",
     "iopub.status.busy": "2022-11-04T14:46:30.171435Z",
     "iopub.status.idle": "2022-11-04T14:46:30.175395Z",
     "shell.execute_reply": "2022-11-04T14:46:30.175021Z",
     "shell.execute_reply.started": "2022-11-04T14:46:30.171845Z"
    },
    "tags": []
   },
   "outputs": [
    {
     "data": {
      "text/plain": [
       "0"
      ]
     },
     "execution_count": 18,
     "metadata": {},
     "output_type": "execute_result"
    }
   ],
   "source": [
    "x.cindex.isna().sum()"
   ]
  },
  {
   "cell_type": "code",
   "execution_count": 19,
   "id": "94a634f4-fff5-4513-905e-ac08a8bee9b7",
   "metadata": {
    "execution": {
     "iopub.execute_input": "2022-11-04T14:46:30.605226Z",
     "iopub.status.busy": "2022-11-04T14:46:30.604907Z",
     "iopub.status.idle": "2022-11-04T14:46:30.611414Z",
     "shell.execute_reply": "2022-11-04T14:46:30.611039Z",
     "shell.execute_reply.started": "2022-11-04T14:46:30.605209Z"
    },
    "tags": []
   },
   "outputs": [
    {
     "data": {
      "text/html": [
       "<div>\n",
       "<style scoped>\n",
       "    .dataframe tbody tr th:only-of-type {\n",
       "        vertical-align: middle;\n",
       "    }\n",
       "\n",
       "    .dataframe tbody tr th {\n",
       "        vertical-align: top;\n",
       "    }\n",
       "\n",
       "    .dataframe thead th {\n",
       "        text-align: right;\n",
       "    }\n",
       "</style>\n",
       "<table border=\"1\" class=\"dataframe\">\n",
       "  <thead>\n",
       "    <tr style=\"text-align: right;\">\n",
       "      <th></th>\n",
       "      <th>endpoint</th>\n",
       "      <th>score</th>\n",
       "      <th>model</th>\n",
       "      <th>iteration</th>\n",
       "      <th>time</th>\n",
       "      <th>cindex</th>\n",
       "    </tr>\n",
       "  </thead>\n",
       "  <tbody>\n",
       "    <tr>\n",
       "      <th>0</th>\n",
       "      <td>OMOP_4306655</td>\n",
       "      <td>Age+Sex</td>\n",
       "      <td>ImageTraining_[]_ConvNeXt_MLPHead_predictions_...</td>\n",
       "      <td>9</td>\n",
       "      <td>10</td>\n",
       "      <td>0.733250</td>\n",
       "    </tr>\n",
       "    <tr>\n",
       "      <th>1</th>\n",
       "      <td>OMOP_4306655</td>\n",
       "      <td>Retina</td>\n",
       "      <td>ImageTraining_[]_ConvNeXt_MLPHead_predictions_...</td>\n",
       "      <td>9</td>\n",
       "      <td>10</td>\n",
       "      <td>0.731022</td>\n",
       "    </tr>\n",
       "    <tr>\n",
       "      <th>2</th>\n",
       "      <td>OMOP_4306655</td>\n",
       "      <td>Age+Sex+Retina</td>\n",
       "      <td>ImageTraining_[]_ConvNeXt_MLPHead_predictions_...</td>\n",
       "      <td>9</td>\n",
       "      <td>10</td>\n",
       "      <td>0.739585</td>\n",
       "    </tr>\n",
       "    <tr>\n",
       "      <th>3</th>\n",
       "      <td>OMOP_4306655</td>\n",
       "      <td>SCORE2</td>\n",
       "      <td>ImageTraining_[]_ConvNeXt_MLPHead_predictions_...</td>\n",
       "      <td>9</td>\n",
       "      <td>10</td>\n",
       "      <td>0.739030</td>\n",
       "    </tr>\n",
       "    <tr>\n",
       "      <th>4</th>\n",
       "      <td>OMOP_4306655</td>\n",
       "      <td>SCORE2+Retina</td>\n",
       "      <td>ImageTraining_[]_ConvNeXt_MLPHead_predictions_...</td>\n",
       "      <td>9</td>\n",
       "      <td>10</td>\n",
       "      <td>0.745469</td>\n",
       "    </tr>\n",
       "  </tbody>\n",
       "</table>\n",
       "</div>"
      ],
      "text/plain": [
       "       endpoint           score  \\\n",
       "0  OMOP_4306655         Age+Sex   \n",
       "1  OMOP_4306655          Retina   \n",
       "2  OMOP_4306655  Age+Sex+Retina   \n",
       "3  OMOP_4306655          SCORE2   \n",
       "4  OMOP_4306655   SCORE2+Retina   \n",
       "\n",
       "                                               model  iteration  time  \\\n",
       "0  ImageTraining_[]_ConvNeXt_MLPHead_predictions_...          9    10   \n",
       "1  ImageTraining_[]_ConvNeXt_MLPHead_predictions_...          9    10   \n",
       "2  ImageTraining_[]_ConvNeXt_MLPHead_predictions_...          9    10   \n",
       "3  ImageTraining_[]_ConvNeXt_MLPHead_predictions_...          9    10   \n",
       "4  ImageTraining_[]_ConvNeXt_MLPHead_predictions_...          9    10   \n",
       "\n",
       "     cindex  \n",
       "0  0.733250  \n",
       "1  0.731022  \n",
       "2  0.739585  \n",
       "3  0.739030  \n",
       "4  0.745469  "
      ]
     },
     "execution_count": 19,
     "metadata": {},
     "output_type": "execute_result"
    }
   ],
   "source": [
    "x.head()"
   ]
  },
  {
   "cell_type": "code",
   "execution_count": null,
   "id": "1804b35f-b031-4ea2-8222-b056dfb25b6e",
   "metadata": {},
   "outputs": [],
   "source": []
  }
 ],
 "metadata": {
  "kernelspec": {
   "display_name": "retrisk",
   "language": "python",
   "name": "retrisk"
  },
  "language_info": {
   "codemirror_mode": {
    "name": "ipython",
    "version": 3
   },
   "file_extension": ".py",
   "mimetype": "text/x-python",
   "name": "python",
   "nbconvert_exporter": "python",
   "pygments_lexer": "ipython3",
   "version": "3.9.7"
  }
 },
 "nbformat": 4,
 "nbformat_minor": 5
}
