{
 "cells": [
  {
   "cell_type": "code",
   "execution_count": 1,
   "metadata": {},
   "outputs": [],
   "source": [
    "import hydra\n",
    "import torch\n",
    "from omegaconf import DictConfig, OmegaConf\n",
    "from pytorch_lightning import Trainer\n",
    "from pytorch_lightning.callbacks import EarlyStopping, ModelCheckpoint\n",
    "from ehrgraphs.utils.callbacks import WritePredictionsDataFrame, WriteEmbeddingsDataFrame\n",
    "from pytorch_lightning.loggers import WandbLogger\n",
    "from torch_geometric import seed_everything"
   ]
  },
  {
   "cell_type": "code",
   "execution_count": 2,
   "metadata": {},
   "outputs": [
    {
     "name": "stdout",
     "output_type": "stream",
     "text": [
      "s-sc-gpu005\n"
     ]
    }
   ],
   "source": [
    "!hostname"
   ]
  },
  {
   "cell_type": "code",
   "execution_count": 3,
   "metadata": {},
   "outputs": [
    {
     "name": "stdout",
     "output_type": "stream",
     "text": [
      "setup:\n",
      "  entity: cardiors\n",
      "  project: RecordGraphs\n",
      "  name: null\n",
      "  data_root:\n",
      "    charite-hpc: /sc-projects/sc-proj-ukb-cvd/data/2_datasets_pre/211110_anewbeginning/artifacts\n",
      "    eils-hpc: /data/analysis/ag-reils/ag-reils-shared/cardioRS/data/2_datasets_pre/211110_anewbeginning/artifacts\n",
      "  data_identifier: WandBGraphDataNoShortcuts256:latest\n",
      "  tags:\n",
      "  - full_data\n",
      "head:\n",
      "  model_type: MLP\n",
      "  dropout: 0.2\n",
      "  kwargs:\n",
      "    num_hidden: 256\n",
      "    num_layers: 2\n",
      "    detach_clf: false\n",
      "datamodule:\n",
      "  covariates:\n",
      "  - age_at_recruitment_f21022_0_0\n",
      "  - sex_f31_0_0\n",
      "  sampler:\n",
      "    sampler_type: DummySampler\n",
      "  batch_size: 8192\n",
      "  partition: 0\n",
      "  num_workers: 4\n",
      "  label_definition:\n",
      "    all_cause_death: true\n",
      "    phecodes: true\n",
      "    custom: []\n",
      "  t0_mode: recruitment\n",
      "  use_top_n_phecodes: 1000\n",
      "  edge_weight_threshold: 0.1\n",
      "  min_edge_type_fraction: 0.001\n",
      "  load_embeddings_path: null\n",
      "  use_loss_weights: false\n",
      "  task: tte\n",
      "  task_kwargs: {}\n",
      "model:\n",
      "  model_type: GNN\n",
      "  num_hidden: 256\n",
      "  num_outputs: 256\n",
      "  num_blocks: 3\n",
      "  dropout: 0.1\n",
      "  weight_norm: true\n",
      "  shuffled: false\n",
      "training:\n",
      "  exclusions_on_losses: false\n",
      "  exclusions_on_metrics: true\n",
      "  gradient_checkpointing: true\n",
      "  contrastive_loss_factor: 0\n",
      "  endpoint_loss_factor: 1\n",
      "  vicreg_loss_factor: 0\n",
      "  node_dropout: null\n",
      "trainer:\n",
      "  gpus:\n",
      "  - 0\n",
      "  precision: 16\n",
      "  max_epochs: 1\n",
      "  num_sanity_val_steps: -1\n",
      "  detect_anomaly: false\n",
      "  amp_backend: native\n",
      "  accumulate_grad_batches: 1\n",
      "\n"
     ]
    }
   ],
   "source": [
    "from hydra import compose, initialize\n",
    "from omegaconf import OmegaConf\n",
    "hydra.core.global_hydra.GlobalHydra().clear()\n",
    "initialize(config_path=\"../../ehrgraphs/config\")\n",
    "args = compose(config_name=\"config\", overrides=[\"model=gnn\", \"trainer.max_epochs=1\"])\n",
    "print(OmegaConf.to_yaml(args))"
   ]
  },
  {
   "cell_type": "code",
   "execution_count": 4,
   "metadata": {},
   "outputs": [
    {
     "name": "stderr",
     "output_type": "stream",
     "text": [
      "Using backend: pytorch\n"
     ]
    },
    {
     "name": "stdout",
     "output_type": "stream",
     "text": [
      "/sc-projects/sc-proj-ukb-cvd/data/2_datasets_pre/211110_anewbeginning/artifacts/WandBGraphDataNoShortcuts256_220203.p\n",
      "Generating train dataset...\n",
      "Generating valid dataset...\n",
      "Using edge types: ['Is a' 'ATC - RxNorm sec up' 'Tradename of' 'Has tradename' 'Constitutes'\n",
      " 'RxNorm inverse is a' 'RxNorm ing of' 'Dose form group of' 'Has method'\n",
      " 'Has asso morph' 'Has interprets' 'Interprets of' 'Is descendant of'\n",
      " 'Is associated with' 'Is ancestor of' 'Asso morph of' 'Method of'\n",
      " 'Interacts with' 'Is part of' 'Composed of']\n"
     ]
    }
   ],
   "source": [
    "from ehrgraphs.training import setup_training\n",
    "seed_everything(0)\n",
    "\n",
    "datamodule, model, tags = setup_training(args)"
   ]
  },
  {
   "cell_type": "code",
   "execution_count": 5,
   "metadata": {},
   "outputs": [
    {
     "name": "stderr",
     "output_type": "stream",
     "text": [
      "Failed to detect the name of this notebook, you can set it manually with the WANDB_NOTEBOOK_NAME environment variable to enable code saving.\n",
      "\u001b[34m\u001b[1mwandb\u001b[0m: Currently logged in as: \u001b[33mjakob-steinfeldt\u001b[0m (use `wandb login --relogin` to force relogin)\n"
     ]
    },
    {
     "data": {
      "text/html": [
       "\n",
       "                    Syncing run <strong><a href=\"https://wandb.ai/jakob-steinfeldt/RecordGraphs/runs/lkmzylt4\" target=\"_blank\">debug</a></strong> to <a href=\"https://wandb.ai/jakob-steinfeldt/RecordGraphs\" target=\"_blank\">Weights & Biases</a> (<a href=\"https://docs.wandb.com/integrations/jupyter.html\" target=\"_blank\">docs</a>).<br/>\n",
       "\n",
       "                "
      ],
      "text/plain": [
       "<IPython.core.display.HTML object>"
      ]
     },
     "metadata": {},
     "output_type": "display_data"
    },
    {
     "name": "stderr",
     "output_type": "stream",
     "text": [
      "\u001b[34m\u001b[1mwandb\u001b[0m: logging graph, to disable use `wandb.watch(log_graph=False)`\n"
     ]
    }
   ],
   "source": [
    "wandb_logger = WandbLogger(name=\"debug\", project=args.setup.project, tags=[\"debug\"])\n",
    "wandb_logger.watch(model, log_graph=True)"
   ]
  },
  {
   "cell_type": "code",
   "execution_count": 8,
   "metadata": {},
   "outputs": [
    {
     "name": "stderr",
     "output_type": "stream",
     "text": [
      "Using 16bit native Automatic Mixed Precision (AMP)\n",
      "GPU available: True, used: True\n",
      "TPU available: False, using: 0 TPU cores\n",
      "IPU available: False, using: 0 IPUs\n"
     ]
    }
   ],
   "source": [
    "trainer = Trainer(\n",
    "    logger=wandb_logger,\n",
    "    callbacks=[\n",
    "        ModelCheckpoint(mode=\"min\", monitor=\"valid/loss\", save_top_k=1, save_last=True),\n",
    "        EarlyStopping(\n",
    "            monitor=\"valid/loss\",\n",
    "            min_delta=0.00000001,\n",
    "            patience=50,\n",
    "            verbose=False,\n",
    "            mode=\"min\",\n",
    "        ),\n",
    "        WritePredictionsDataFrame(),\n",
    "        WriteEmbeddingsDataFrame()\n",
    "    ],\n",
    "    **args.trainer,\n",
    ")"
   ]
  },
  {
   "cell_type": "code",
   "execution_count": 7,
   "metadata": {},
   "outputs": [
    {
     "name": "stderr",
     "output_type": "stream",
     "text": [
      "LOCAL_RANK: 0 - CUDA_VISIBLE_DEVICES: [0]\n"
     ]
    },
    {
     "name": "stdout",
     "output_type": "stream",
     "text": [
      "Using /home/steinfej/.cache/torch_extensions/py39_cu113 as PyTorch extensions root...\n",
      "Detected CUDA files, patching ldflags\n",
      "Emitting ninja build file /home/steinfej/.cache/torch_extensions/py39_cu113/fused_adam/build.ninja...\n",
      "Building extension module fused_adam...\n",
      "Allowing ninja to set a default number of workers... (overridable by setting the environment variable MAX_JOBS=N)\n"
     ]
    },
    {
     "name": "stderr",
     "output_type": "stream",
     "text": [
      "Set SLURM handle signals.\n",
      "\n",
      "  | Name          | Type       | Params\n",
      "---------------------------------------------\n",
      "0 | graph_encoder | HeteroGNN  | 4.0 M \n",
      "1 | head          | MLPHead    | 456 K \n",
      "2 | valid_metrics | ModuleDict | 0     \n",
      "3 | train_metrics | ModuleDict | 0     \n",
      "---------------------------------------------\n",
      "4.5 M     Trainable params\n",
      "0         Non-trainable params\n",
      "4.5 M     Total params\n",
      "8.941     Total estimated model params size (MB)\n"
     ]
    },
    {
     "name": "stdout",
     "output_type": "stream",
     "text": [
      "ninja: no work to do.\n",
      "Loading extension module fused_adam...\n",
      "Time to load fused_adam op: 1.0172972679138184 seconds\n"
     ]
    },
    {
     "data": {
      "application/vnd.jupyter.widget-view+json": {
       "model_id": "",
       "version_major": 2,
       "version_minor": 0
      },
      "text/plain": [
       "Validation sanity check: 0it [00:00, ?it/s]"
      ]
     },
     "metadata": {},
     "output_type": "display_data"
    },
    {
     "name": "stderr",
     "output_type": "stream",
     "text": [
      "/home/steinfej/miniconda3/envs/ehrgraphs/lib/python3.9/site-packages/torch/utils/checkpoint.py:25: UserWarning: None of the inputs have requires_grad=True. Gradients will be None\n",
      "  warnings.warn(\"None of the inputs have requires_grad=True. Gradients will be None\")\n",
      "/home/steinfej/miniconda3/envs/ehrgraphs/lib/python3.9/site-packages/pytorch_lightning/trainer/data_loading.py:412: UserWarning: The number of training samples (47) is smaller than the logging interval Trainer(log_every_n_steps=50). Set a lower value for log_every_n_steps if you want to see logs for the training epoch.\n",
      "  rank_zero_warn(\n"
     ]
    },
    {
     "data": {
      "application/vnd.jupyter.widget-view+json": {
       "model_id": "d22621c692bf46429c6243f4c4496182",
       "version_major": 2,
       "version_minor": 0
      },
      "text/plain": [
       "Training: 0it [00:00, ?it/s]"
      ]
     },
     "metadata": {},
     "output_type": "display_data"
    },
    {
     "data": {
      "application/vnd.jupyter.widget-view+json": {
       "model_id": "",
       "version_major": 2,
       "version_minor": 0
      },
      "text/plain": [
       "Validating: 0it [00:00, ?it/s]"
      ]
     },
     "metadata": {},
     "output_type": "display_data"
    },
    {
     "name": "stderr",
     "output_type": "stream",
     "text": [
      "/home/steinfej/miniconda3/envs/ehrgraphs/lib/python3.9/site-packages/torch/utils/checkpoint.py:25: UserWarning: None of the inputs have requires_grad=True. Gradients will be None\n",
      "  warnings.warn(\"None of the inputs have requires_grad=True. Gradients will be None\")\n"
     ]
    },
    {
     "name": "stdout",
     "output_type": "stream",
     "text": [
      "Generating test dataset...\n"
     ]
    },
    {
     "data": {
      "application/vnd.jupyter.widget-view+json": {
       "model_id": "50fe51449ed34909b02412f74e36857b",
       "version_major": 2,
       "version_minor": 0
      },
      "text/plain": [
       "  0%|          | 0/6 [00:00<?, ?it/s]"
      ]
     },
     "metadata": {},
     "output_type": "display_data"
    },
    {
     "name": "stdout",
     "output_type": "stream",
     "text": [
      "Predictions saved /home/steinfej/code/22_medical_records/debugging/RecordGraphs/lkmzylt4/predictions/predictions.feather\n",
      "Embeddings saved /home/steinfej/code/22_medical_records/debugging/RecordGraphs/lkmzylt4/embeddings/embeddings.feather\n"
     ]
    }
   ],
   "source": [
    "trainer.fit(model, datamodule=datamodule)"
   ]
  },
  {
   "cell_type": "code",
   "execution_count": 9,
   "metadata": {},
   "outputs": [
    {
     "data": {
      "text/html": [
       "<br/>Waiting for W&B process to finish, PID 435063... <strong style=\"color:green\">(success).</strong>"
      ],
      "text/plain": [
       "<IPython.core.display.HTML object>"
      ]
     },
     "metadata": {},
     "output_type": "display_data"
    },
    {
     "data": {
      "application/vnd.jupyter.widget-view+json": {
       "model_id": "ad3a3fd89c9246a2bbbd9382ea292a3f",
       "version_major": 2,
       "version_minor": 0
      },
      "text/plain": [
       "VBox(children=(Label(value=' 0.03MB of 0.03MB uploaded (0.00MB deduped)\\r'), FloatProgress(value=1.0, max=1.0)…"
      ]
     },
     "metadata": {},
     "output_type": "display_data"
    }
   ],
   "source": [
    "try:\n",
    "    wandb_logger.experiment.config[\"best_checkpoint\"] = trainer.checkpoint_callback.best_model_path\n",
    "    wandb_logger.experiment.config[\"best_score\"] = trainer.checkpoint_callback.best_model_score\n",
    "except:\n",
    "    pass"
   ]
  },
  {
   "cell_type": "code",
   "execution_count": 9,
   "metadata": {},
   "outputs": [
    {
     "ename": "NameError",
     "evalue": "name 'embeddings_df' is not defined",
     "output_type": "error",
     "traceback": [
      "\u001b[0;31m---------------------------------------------------------------------------\u001b[0m",
      "\u001b[0;31mNameError\u001b[0m                                 Traceback (most recent call last)",
      "\u001b[0;32m/tmp/ipykernel_385850/2260253548.py\u001b[0m in \u001b[0;36m<module>\u001b[0;34m\u001b[0m\n\u001b[0;32m----> 1\u001b[0;31m \u001b[0membeddings_df\u001b[0m\u001b[0;34m\u001b[0m\u001b[0;34m\u001b[0m\u001b[0m\n\u001b[0m",
      "\u001b[0;31mNameError\u001b[0m: name 'embeddings_df' is not defined"
     ]
    }
   ],
   "source": [
    "embeddings_df"
   ]
  },
  {
   "cell_type": "code",
   "execution_count": 15,
   "metadata": {},
   "outputs": [],
   "source": [
    "import pandas as pd\n",
    "import numpy as np\n",
    "x = pd.DataFrame(data=np.random.rand(16201, 256))"
   ]
  },
  {
   "cell_type": "code",
   "execution_count": 17,
   "metadata": {},
   "outputs": [
    {
     "data": {
      "text/plain": [
       "Index(['0', '1', '2', '3', '4', '5', '6', '7', '8', '9',\n",
       "       ...\n",
       "       '246', '247', '248', '249', '250', '251', '252', '253', '254', '255'],\n",
       "      dtype='object', length=256)"
      ]
     },
     "execution_count": 17,
     "metadata": {},
     "output_type": "execute_result"
    }
   ],
   "source": [
    "x.columns.astype(str)"
   ]
  },
  {
   "cell_type": "code",
   "execution_count": 13,
   "metadata": {},
   "outputs": [],
   "source": [
    "device=torch.device(\"cuda:0\")"
   ]
  },
  {
   "cell_type": "code",
   "execution_count": 14,
   "metadata": {},
   "outputs": [],
   "source": [
    "dl = trainer.datamodule.test_dataloader()"
   ]
  },
  {
   "cell_type": "code",
   "execution_count": 15,
   "metadata": {},
   "outputs": [],
   "source": [
    "ckpt = torch.load(trainer.checkpoint_callback.best_model_path)\n",
    "#ckpt = torch.load(\"/home/steinfej/code/22_medical_records/debugging/RecordGraphs/lin2ah28/checkpoints/epoch=1-step=93.ckpt\")\n",
    "trainer.model.load_state_dict(ckpt['state_dict'])\n",
    "trainer.model.eval()\n",
    "trainer.model = trainer.model.to(device)"
   ]
  },
  {
   "cell_type": "code",
   "execution_count": 27,
   "metadata": {},
   "outputs": [],
   "source": [
    "batch = next(iter(dl))"
   ]
  },
  {
   "cell_type": "code",
   "execution_count": 28,
   "metadata": {},
   "outputs": [],
   "source": [
    "batch.graph = batch.graph.to(device)\n",
    "batch.records = batch.records.to(device)\n",
    "batch.covariates = batch.covariates.to(device)"
   ]
  },
  {
   "cell_type": "code",
   "execution_count": 29,
   "metadata": {},
   "outputs": [],
   "source": [
    "preds = model(batch)"
   ]
  },
  {
   "cell_type": "code",
   "execution_count": 42,
   "metadata": {},
   "outputs": [],
   "source": [
    "if \"record_node_embeddings\" in preds:\n",
    "    embeddings = preds"
   ]
  },
  {
   "cell_type": "code",
   "execution_count": 52,
   "metadata": {},
   "outputs": [
    {
     "data": {
      "text/html": [
       "<div>\n",
       "<style scoped>\n",
       "    .dataframe tbody tr th:only-of-type {\n",
       "        vertical-align: middle;\n",
       "    }\n",
       "\n",
       "    .dataframe tbody tr th {\n",
       "        vertical-align: top;\n",
       "    }\n",
       "\n",
       "    .dataframe thead th {\n",
       "        text-align: right;\n",
       "    }\n",
       "</style>\n",
       "<table border=\"1\" class=\"dataframe\">\n",
       "  <thead>\n",
       "    <tr style=\"text-align: right;\">\n",
       "      <th></th>\n",
       "      <th>record_node</th>\n",
       "      <th>0</th>\n",
       "      <th>1</th>\n",
       "      <th>2</th>\n",
       "      <th>3</th>\n",
       "      <th>4</th>\n",
       "      <th>5</th>\n",
       "      <th>6</th>\n",
       "      <th>7</th>\n",
       "      <th>8</th>\n",
       "      <th>...</th>\n",
       "      <th>246</th>\n",
       "      <th>247</th>\n",
       "      <th>248</th>\n",
       "      <th>249</th>\n",
       "      <th>250</th>\n",
       "      <th>251</th>\n",
       "      <th>252</th>\n",
       "      <th>253</th>\n",
       "      <th>254</th>\n",
       "      <th>255</th>\n",
       "    </tr>\n",
       "  </thead>\n",
       "  <tbody>\n",
       "    <tr>\n",
       "      <th>0</th>\n",
       "      <td>OMOP_1000560</td>\n",
       "      <td>0.033274</td>\n",
       "      <td>-0.000198</td>\n",
       "      <td>-0.000073</td>\n",
       "      <td>-0.000066</td>\n",
       "      <td>0.105967</td>\n",
       "      <td>0.000138</td>\n",
       "      <td>0.000732</td>\n",
       "      <td>0.016053</td>\n",
       "      <td>0.027023</td>\n",
       "      <td>...</td>\n",
       "      <td>-0.000077</td>\n",
       "      <td>-0.000160</td>\n",
       "      <td>0.065679</td>\n",
       "      <td>0.011669</td>\n",
       "      <td>-0.000169</td>\n",
       "      <td>-0.000063</td>\n",
       "      <td>-0.000189</td>\n",
       "      <td>0.146775</td>\n",
       "      <td>0.053580</td>\n",
       "      <td>0.253157</td>\n",
       "    </tr>\n",
       "    <tr>\n",
       "      <th>1</th>\n",
       "      <td>OMOP_1000632</td>\n",
       "      <td>0.018683</td>\n",
       "      <td>-0.000089</td>\n",
       "      <td>-0.000076</td>\n",
       "      <td>-0.000082</td>\n",
       "      <td>0.157785</td>\n",
       "      <td>-0.000049</td>\n",
       "      <td>-0.000006</td>\n",
       "      <td>0.026211</td>\n",
       "      <td>0.039165</td>\n",
       "      <td>...</td>\n",
       "      <td>-0.000008</td>\n",
       "      <td>-0.000243</td>\n",
       "      <td>-0.000059</td>\n",
       "      <td>-0.000093</td>\n",
       "      <td>-0.000172</td>\n",
       "      <td>-0.000003</td>\n",
       "      <td>-0.000163</td>\n",
       "      <td>0.169373</td>\n",
       "      <td>-0.000157</td>\n",
       "      <td>0.199650</td>\n",
       "    </tr>\n",
       "    <tr>\n",
       "      <th>2</th>\n",
       "      <td>OMOP_1000772</td>\n",
       "      <td>0.034484</td>\n",
       "      <td>-0.000186</td>\n",
       "      <td>-0.000071</td>\n",
       "      <td>-0.000094</td>\n",
       "      <td>0.089039</td>\n",
       "      <td>-0.000031</td>\n",
       "      <td>0.001200</td>\n",
       "      <td>0.015641</td>\n",
       "      <td>0.031990</td>\n",
       "      <td>...</td>\n",
       "      <td>-0.000098</td>\n",
       "      <td>-0.000219</td>\n",
       "      <td>0.061523</td>\n",
       "      <td>0.029405</td>\n",
       "      <td>-0.000139</td>\n",
       "      <td>-0.000047</td>\n",
       "      <td>-0.000154</td>\n",
       "      <td>0.171055</td>\n",
       "      <td>0.043815</td>\n",
       "      <td>0.265435</td>\n",
       "    </tr>\n",
       "    <tr>\n",
       "      <th>3</th>\n",
       "      <td>OMOP_1000979</td>\n",
       "      <td>0.039492</td>\n",
       "      <td>-0.000170</td>\n",
       "      <td>-0.000073</td>\n",
       "      <td>-0.000060</td>\n",
       "      <td>0.091555</td>\n",
       "      <td>-0.000024</td>\n",
       "      <td>-0.000014</td>\n",
       "      <td>0.026686</td>\n",
       "      <td>0.046753</td>\n",
       "      <td>...</td>\n",
       "      <td>-0.000103</td>\n",
       "      <td>-0.000220</td>\n",
       "      <td>0.048807</td>\n",
       "      <td>0.033016</td>\n",
       "      <td>-0.000141</td>\n",
       "      <td>-0.000036</td>\n",
       "      <td>-0.000139</td>\n",
       "      <td>0.181347</td>\n",
       "      <td>0.042297</td>\n",
       "      <td>0.246745</td>\n",
       "    </tr>\n",
       "    <tr>\n",
       "      <th>4</th>\n",
       "      <td>OMOP_1000995</td>\n",
       "      <td>0.006587</td>\n",
       "      <td>0.000213</td>\n",
       "      <td>-0.000065</td>\n",
       "      <td>-0.000040</td>\n",
       "      <td>0.169975</td>\n",
       "      <td>-0.000032</td>\n",
       "      <td>0.006070</td>\n",
       "      <td>0.026196</td>\n",
       "      <td>0.035059</td>\n",
       "      <td>...</td>\n",
       "      <td>-0.000044</td>\n",
       "      <td>-0.000260</td>\n",
       "      <td>-0.000044</td>\n",
       "      <td>-0.000054</td>\n",
       "      <td>-0.000128</td>\n",
       "      <td>0.011278</td>\n",
       "      <td>-0.000173</td>\n",
       "      <td>0.187851</td>\n",
       "      <td>-0.000152</td>\n",
       "      <td>0.150245</td>\n",
       "    </tr>\n",
       "    <tr>\n",
       "      <th>...</th>\n",
       "      <td>...</td>\n",
       "      <td>...</td>\n",
       "      <td>...</td>\n",
       "      <td>...</td>\n",
       "      <td>...</td>\n",
       "      <td>...</td>\n",
       "      <td>...</td>\n",
       "      <td>...</td>\n",
       "      <td>...</td>\n",
       "      <td>...</td>\n",
       "      <td>...</td>\n",
       "      <td>...</td>\n",
       "      <td>...</td>\n",
       "      <td>...</td>\n",
       "      <td>...</td>\n",
       "      <td>...</td>\n",
       "      <td>...</td>\n",
       "      <td>...</td>\n",
       "      <td>...</td>\n",
       "      <td>...</td>\n",
       "      <td>...</td>\n",
       "    </tr>\n",
       "    <tr>\n",
       "      <th>16196</th>\n",
       "      <td>OMOP_997276</td>\n",
       "      <td>0.061606</td>\n",
       "      <td>-0.000138</td>\n",
       "      <td>-0.000073</td>\n",
       "      <td>-0.000082</td>\n",
       "      <td>0.097845</td>\n",
       "      <td>-0.000025</td>\n",
       "      <td>0.002858</td>\n",
       "      <td>0.030324</td>\n",
       "      <td>0.044743</td>\n",
       "      <td>...</td>\n",
       "      <td>-0.000103</td>\n",
       "      <td>-0.000225</td>\n",
       "      <td>0.046367</td>\n",
       "      <td>0.040641</td>\n",
       "      <td>-0.000140</td>\n",
       "      <td>-0.000035</td>\n",
       "      <td>-0.000173</td>\n",
       "      <td>0.186441</td>\n",
       "      <td>0.045077</td>\n",
       "      <td>0.248098</td>\n",
       "    </tr>\n",
       "    <tr>\n",
       "      <th>16197</th>\n",
       "      <td>OMOP_997496</td>\n",
       "      <td>0.010466</td>\n",
       "      <td>-0.000183</td>\n",
       "      <td>0.054040</td>\n",
       "      <td>-0.000085</td>\n",
       "      <td>0.133294</td>\n",
       "      <td>-0.000054</td>\n",
       "      <td>-0.000103</td>\n",
       "      <td>0.029176</td>\n",
       "      <td>0.028950</td>\n",
       "      <td>...</td>\n",
       "      <td>0.004130</td>\n",
       "      <td>-0.000178</td>\n",
       "      <td>-0.000099</td>\n",
       "      <td>-0.000089</td>\n",
       "      <td>-0.000140</td>\n",
       "      <td>-0.000111</td>\n",
       "      <td>-0.000151</td>\n",
       "      <td>0.112729</td>\n",
       "      <td>-0.000162</td>\n",
       "      <td>0.232595</td>\n",
       "    </tr>\n",
       "    <tr>\n",
       "      <th>16198</th>\n",
       "      <td>OMOP_997881</td>\n",
       "      <td>0.011866</td>\n",
       "      <td>-0.000097</td>\n",
       "      <td>0.031949</td>\n",
       "      <td>-0.000090</td>\n",
       "      <td>0.141077</td>\n",
       "      <td>-0.000011</td>\n",
       "      <td>-0.000030</td>\n",
       "      <td>0.027730</td>\n",
       "      <td>0.037394</td>\n",
       "      <td>...</td>\n",
       "      <td>0.003756</td>\n",
       "      <td>-0.000241</td>\n",
       "      <td>-0.000087</td>\n",
       "      <td>-0.000092</td>\n",
       "      <td>-0.000159</td>\n",
       "      <td>-0.000077</td>\n",
       "      <td>-0.000144</td>\n",
       "      <td>0.144080</td>\n",
       "      <td>-0.000157</td>\n",
       "      <td>0.220444</td>\n",
       "    </tr>\n",
       "    <tr>\n",
       "      <th>16199</th>\n",
       "      <td>OMOP_998394</td>\n",
       "      <td>-0.000064</td>\n",
       "      <td>-0.000192</td>\n",
       "      <td>-0.000084</td>\n",
       "      <td>-0.000072</td>\n",
       "      <td>0.143877</td>\n",
       "      <td>-0.000051</td>\n",
       "      <td>0.002316</td>\n",
       "      <td>0.013349</td>\n",
       "      <td>0.065278</td>\n",
       "      <td>...</td>\n",
       "      <td>-0.000055</td>\n",
       "      <td>-0.000204</td>\n",
       "      <td>-0.000041</td>\n",
       "      <td>-0.000036</td>\n",
       "      <td>-0.000067</td>\n",
       "      <td>-0.000051</td>\n",
       "      <td>-0.000166</td>\n",
       "      <td>0.185569</td>\n",
       "      <td>-0.000102</td>\n",
       "      <td>0.194191</td>\n",
       "    </tr>\n",
       "    <tr>\n",
       "      <th>16200</th>\n",
       "      <td>OMOP_998415</td>\n",
       "      <td>0.016376</td>\n",
       "      <td>-0.000078</td>\n",
       "      <td>-0.000077</td>\n",
       "      <td>-0.000055</td>\n",
       "      <td>0.171789</td>\n",
       "      <td>-0.000091</td>\n",
       "      <td>0.004866</td>\n",
       "      <td>0.031879</td>\n",
       "      <td>0.039977</td>\n",
       "      <td>...</td>\n",
       "      <td>-0.000052</td>\n",
       "      <td>-0.000201</td>\n",
       "      <td>-0.000071</td>\n",
       "      <td>-0.000023</td>\n",
       "      <td>-0.000083</td>\n",
       "      <td>-0.000056</td>\n",
       "      <td>-0.000173</td>\n",
       "      <td>0.138196</td>\n",
       "      <td>-0.000133</td>\n",
       "      <td>0.179557</td>\n",
       "    </tr>\n",
       "  </tbody>\n",
       "</table>\n",
       "<p>16201 rows × 257 columns</p>\n",
       "</div>"
      ],
      "text/plain": [
       "        record_node         0         1         2         3         4  \\\n",
       "0      OMOP_1000560  0.033274 -0.000198 -0.000073 -0.000066  0.105967   \n",
       "1      OMOP_1000632  0.018683 -0.000089 -0.000076 -0.000082  0.157785   \n",
       "2      OMOP_1000772  0.034484 -0.000186 -0.000071 -0.000094  0.089039   \n",
       "3      OMOP_1000979  0.039492 -0.000170 -0.000073 -0.000060  0.091555   \n",
       "4      OMOP_1000995  0.006587  0.000213 -0.000065 -0.000040  0.169975   \n",
       "...             ...       ...       ...       ...       ...       ...   \n",
       "16196   OMOP_997276  0.061606 -0.000138 -0.000073 -0.000082  0.097845   \n",
       "16197   OMOP_997496  0.010466 -0.000183  0.054040 -0.000085  0.133294   \n",
       "16198   OMOP_997881  0.011866 -0.000097  0.031949 -0.000090  0.141077   \n",
       "16199   OMOP_998394 -0.000064 -0.000192 -0.000084 -0.000072  0.143877   \n",
       "16200   OMOP_998415  0.016376 -0.000078 -0.000077 -0.000055  0.171789   \n",
       "\n",
       "              5         6         7         8  ...       246       247  \\\n",
       "0      0.000138  0.000732  0.016053  0.027023  ... -0.000077 -0.000160   \n",
       "1     -0.000049 -0.000006  0.026211  0.039165  ... -0.000008 -0.000243   \n",
       "2     -0.000031  0.001200  0.015641  0.031990  ... -0.000098 -0.000219   \n",
       "3     -0.000024 -0.000014  0.026686  0.046753  ... -0.000103 -0.000220   \n",
       "4     -0.000032  0.006070  0.026196  0.035059  ... -0.000044 -0.000260   \n",
       "...         ...       ...       ...       ...  ...       ...       ...   \n",
       "16196 -0.000025  0.002858  0.030324  0.044743  ... -0.000103 -0.000225   \n",
       "16197 -0.000054 -0.000103  0.029176  0.028950  ...  0.004130 -0.000178   \n",
       "16198 -0.000011 -0.000030  0.027730  0.037394  ...  0.003756 -0.000241   \n",
       "16199 -0.000051  0.002316  0.013349  0.065278  ... -0.000055 -0.000204   \n",
       "16200 -0.000091  0.004866  0.031879  0.039977  ... -0.000052 -0.000201   \n",
       "\n",
       "            248       249       250       251       252       253       254  \\\n",
       "0      0.065679  0.011669 -0.000169 -0.000063 -0.000189  0.146775  0.053580   \n",
       "1     -0.000059 -0.000093 -0.000172 -0.000003 -0.000163  0.169373 -0.000157   \n",
       "2      0.061523  0.029405 -0.000139 -0.000047 -0.000154  0.171055  0.043815   \n",
       "3      0.048807  0.033016 -0.000141 -0.000036 -0.000139  0.181347  0.042297   \n",
       "4     -0.000044 -0.000054 -0.000128  0.011278 -0.000173  0.187851 -0.000152   \n",
       "...         ...       ...       ...       ...       ...       ...       ...   \n",
       "16196  0.046367  0.040641 -0.000140 -0.000035 -0.000173  0.186441  0.045077   \n",
       "16197 -0.000099 -0.000089 -0.000140 -0.000111 -0.000151  0.112729 -0.000162   \n",
       "16198 -0.000087 -0.000092 -0.000159 -0.000077 -0.000144  0.144080 -0.000157   \n",
       "16199 -0.000041 -0.000036 -0.000067 -0.000051 -0.000166  0.185569 -0.000102   \n",
       "16200 -0.000071 -0.000023 -0.000083 -0.000056 -0.000173  0.138196 -0.000133   \n",
       "\n",
       "            255  \n",
       "0      0.253157  \n",
       "1      0.199650  \n",
       "2      0.265435  \n",
       "3      0.246745  \n",
       "4      0.150245  \n",
       "...         ...  \n",
       "16196  0.248098  \n",
       "16197  0.232595  \n",
       "16198  0.220444  \n",
       "16199  0.194191  \n",
       "16200  0.179557  \n",
       "\n",
       "[16201 rows x 257 columns]"
      ]
     },
     "execution_count": 52,
     "metadata": {},
     "output_type": "execute_result"
    }
   ],
   "source": [
    "import pandas as pd\n",
    "embeddings_df = pd.DataFrame(data=embeddings, index=trainer.datamodule.record_cols).rename_axis('record_node').reset_index(drop=False)\n",
    "embeddings_df"
   ]
  },
  {
   "cell_type": "code",
   "execution_count": 22,
   "metadata": {},
   "outputs": [
    {
     "data": {
      "text/plain": [
       "torch.Size([16201, 256])"
      ]
     },
     "execution_count": 22,
     "metadata": {},
     "output_type": "execute_result"
    }
   ],
   "source": [
    "emb1 = preds['record_node_embeddings']\n",
    "emb1.shape"
   ]
  },
  {
   "cell_type": "code",
   "execution_count": 20,
   "metadata": {},
   "outputs": [
    {
     "data": {
      "application/vnd.jupyter.widget-view+json": {
       "model_id": "3937161fa0214da5a61f44aded54fcf0",
       "version_major": 2,
       "version_minor": 0
      },
      "text/plain": [
       "  0%|          | 0/6 [00:00<?, ?it/s]"
      ]
     },
     "metadata": {},
     "output_type": "display_data"
    }
   ],
   "source": [
    "loghs = predict_dataloader(model, dl, device)"
   ]
  },
  {
   "cell_type": "code",
   "execution_count": 21,
   "metadata": {},
   "outputs": [],
   "source": [
    "import pandas as pd"
   ]
  },
  {
   "cell_type": "code",
   "execution_count": 22,
   "metadata": {},
   "outputs": [],
   "source": [
    "eids = trainer.datamodule.eids[\"test\"]\n",
    "endpoints = list(trainer.datamodule.label_mapping.keys())"
   ]
  },
  {
   "cell_type": "code",
   "execution_count": 23,
   "metadata": {},
   "outputs": [],
   "source": [
    "predictions_df = pd.DataFrame(data=loghs, index=eids, columns=endpoints)"
   ]
  },
  {
   "cell_type": "code",
   "execution_count": 24,
   "metadata": {},
   "outputs": [],
   "source": [
    "predictions_df[\"split\"] = \"test\"\n",
    "predictions_df[\"partition\"] = trainer.datamodule.partition\n",
    "predictions_df[\"encoder\"] = trainer.model.graph_encoder._get_name()\n",
    "predictions_df[\"head\"] = trainer.model.head._get_name()\n",
    "predictions_df[\"covariate_cols\"] = str(trainer.datamodule.covariate_cols)\n",
    "predictions_df[\"record_cols\"] = str(trainer.datamodule.record_cols)"
   ]
  },
  {
   "cell_type": "code",
   "execution_count": 25,
   "metadata": {},
   "outputs": [],
   "source": [
    "for col in [\"split\", \"partition\", \"encoder\", \"head\", \"covariate_cols\", \"record_cols\"]:\n",
    "    predictions_df[col] = predictions_df[col].astype(\"category\")"
   ]
  }
 ],
 "metadata": {
  "interpreter": {
   "hash": "7fb005937abf8310e947cacdef9aa24b4c9570846765db425bfb20f46bc066c7"
  },
  "kernelspec": {
   "display_name": "Python [conda env:ehrgraphs]",
   "language": "python",
   "name": "conda-env-ehrgraphs-py"
  },
  "language_info": {
   "codemirror_mode": {
    "name": "ipython",
    "version": 3
   },
   "file_extension": ".py",
   "mimetype": "text/x-python",
   "name": "python",
   "nbconvert_exporter": "python",
   "pygments_lexer": "ipython3",
   "version": "3.9.7"
  }
 },
 "nbformat": 4,
 "nbformat_minor": 4
}
