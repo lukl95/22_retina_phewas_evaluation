{
 "cells": [
  {
   "cell_type": "markdown",
   "metadata": {},
   "source": [
    "# SUBMISSION NOTEBOOK"
   ]
  },
  {
   "cell_type": "markdown",
   "metadata": {},
   "source": [
    "## SETUP"
   ]
  },
  {
   "cell_type": "markdown",
   "metadata": {},
   "source": [
    "#### imports "
   ]
  },
  {
   "cell_type": "code",
   "execution_count": 1,
   "metadata": {
    "tags": []
   },
   "outputs": [],
   "source": [
    "import pandas as pd\n",
    "import os\n",
    "import datetime\n",
    "import subprocess\n",
    "import re\n",
    "from omegaconf import OmegaConf\n",
    "import pathlib\n",
    "from tqdm.auto import tqdm\n",
    "import itertools"
   ]
  },
  {
   "cell_type": "code",
   "execution_count": 2,
   "metadata": {
    "tags": []
   },
   "outputs": [],
   "source": [
    "import wandb"
   ]
  },
  {
   "cell_type": "markdown",
   "metadata": {},
   "source": [
    "#### CONFIG:"
   ]
  },
  {
   "cell_type": "code",
   "execution_count": 3,
   "metadata": {
    "tags": []
   },
   "outputs": [],
   "source": [
    "CODE_BASE = '/sc-projects/sc-proj-ukb-cvd/code/RetinalRisk'\n",
    "TAG = '230426'\n",
    "PARTITIONS = [4,5,7,9,10,20]\n",
    "IMG_SHAPE = [1,3,384,384]"
   ]
  },
  {
   "cell_type": "markdown",
   "metadata": {
    "execution": {
     "iopub.execute_input": "2022-06-05T14:47:00.983318Z",
     "iopub.status.busy": "2022-06-05T14:47:00.983088Z",
     "iopub.status.idle": "2022-06-05T14:47:00.985374Z",
     "shell.execute_reply": "2022-06-05T14:47:00.985122Z",
     "shell.execute_reply.started": "2022-06-05T14:47:00.983302Z"
    }
   },
   "source": [
    "#### get wandb runs"
   ]
  },
  {
   "cell_type": "code",
   "execution_count": 4,
   "metadata": {
    "tags": []
   },
   "outputs": [],
   "source": [
    "api = wandb.Api()\n",
    "entity, project = \"cardiors\", \"retina\"\n",
    "runs = api.runs(entity + \"/\" + project) "
   ]
  },
  {
   "cell_type": "code",
   "execution_count": 5,
   "metadata": {},
   "outputs": [
    {
     "data": {
      "text/plain": [
       "'/sc-projects/sc-proj-ukb-cvd/results/models/retina/333mvddg/checkpoints/epoch=92-step=36828.ckpt'"
      ]
     },
     "execution_count": 5,
     "metadata": {},
     "output_type": "execute_result"
    }
   ],
   "source": [
    "runs[0].config['best_checkpoint']"
   ]
  },
  {
   "cell_type": "code",
   "execution_count": 6,
   "metadata": {
    "tags": []
   },
   "outputs": [
    {
     "data": {
      "application/vnd.jupyter.widget-view+json": {
       "model_id": "bc91d04072aa4ef5b284c72001ce06e2",
       "version_major": 2,
       "version_minor": 0
      },
      "text/plain": [
       "  0%|          | 0/292 [00:00<?, ?it/s]"
      ]
     },
     "metadata": {},
     "output_type": "display_data"
    }
   ],
   "source": [
    "run_list = []\n",
    "for run in tqdm(runs): \n",
    "    if TAG in run.tags:\n",
    "        run_list.append(\n",
    "            {\n",
    "                \"id\": run.id, #path[-1]\n",
    "                \"name\": run.name,\n",
    "                \"tags\": run.tags,\n",
    "                \"partition\": eval(run.config['_content']['datamodule'])['partition'],\n",
    "                \"best_ckpt\": run.config['best_checkpoint'] if 'best_checkpoint' in run.config.keys() else None\n",
    "            }\n",
    "        )"
   ]
  },
  {
   "cell_type": "code",
   "execution_count": 7,
   "metadata": {
    "tags": []
   },
   "outputs": [],
   "source": [
    "runs_df = pd.DataFrame(run_list)"
   ]
  },
  {
   "cell_type": "code",
   "execution_count": 8,
   "metadata": {
    "tags": []
   },
   "outputs": [
    {
     "data": {
      "text/html": [
       "<div>\n",
       "<style scoped>\n",
       "    .dataframe tbody tr th:only-of-type {\n",
       "        vertical-align: middle;\n",
       "    }\n",
       "\n",
       "    .dataframe tbody tr th {\n",
       "        vertical-align: top;\n",
       "    }\n",
       "\n",
       "    .dataframe thead th {\n",
       "        text-align: right;\n",
       "    }\n",
       "</style>\n",
       "<table border=\"1\" class=\"dataframe\">\n",
       "  <thead>\n",
       "    <tr style=\"text-align: right;\">\n",
       "      <th></th>\n",
       "      <th>id</th>\n",
       "      <th>name</th>\n",
       "      <th>tags</th>\n",
       "      <th>partition</th>\n",
       "      <th>best_ckpt</th>\n",
       "    </tr>\n",
       "  </thead>\n",
       "  <tbody>\n",
       "    <tr>\n",
       "      <th>0</th>\n",
       "      <td>3n2one7r</td>\n",
       "      <td>230426_fullrun_retina</td>\n",
       "      <td>[230426, baseline_data, image]</td>\n",
       "      <td>20</td>\n",
       "      <td>/sc-projects/sc-proj-ukb-cvd/results/models/re...</td>\n",
       "    </tr>\n",
       "    <tr>\n",
       "      <th>1</th>\n",
       "      <td>1xcmy2ys</td>\n",
       "      <td>230426_fullrun_retina</td>\n",
       "      <td>[230426, baseline_data, image]</td>\n",
       "      <td>10</td>\n",
       "      <td>/sc-projects/sc-proj-ukb-cvd/results/models/re...</td>\n",
       "    </tr>\n",
       "    <tr>\n",
       "      <th>2</th>\n",
       "      <td>37ps9kby</td>\n",
       "      <td>230426_fullrun_retina</td>\n",
       "      <td>[230426, baseline_data, image]</td>\n",
       "      <td>9</td>\n",
       "      <td>/sc-projects/sc-proj-ukb-cvd/results/models/re...</td>\n",
       "    </tr>\n",
       "    <tr>\n",
       "      <th>3</th>\n",
       "      <td>lzl9g0gn</td>\n",
       "      <td>230426_fullrun_retina</td>\n",
       "      <td>[230426, baseline_data, image]</td>\n",
       "      <td>7</td>\n",
       "      <td>/sc-projects/sc-proj-ukb-cvd/results/models/re...</td>\n",
       "    </tr>\n",
       "    <tr>\n",
       "      <th>4</th>\n",
       "      <td>3uyg9080</td>\n",
       "      <td>230426_fullrun_retina</td>\n",
       "      <td>[230426, baseline_data, image]</td>\n",
       "      <td>4</td>\n",
       "      <td>/sc-projects/sc-proj-ukb-cvd/results/models/re...</td>\n",
       "    </tr>\n",
       "    <tr>\n",
       "      <th>6</th>\n",
       "      <td>16f0zmet</td>\n",
       "      <td>230426_fullrun_retina</td>\n",
       "      <td>[230426, baseline_data, image]</td>\n",
       "      <td>5</td>\n",
       "      <td>/sc-projects/sc-proj-ukb-cvd/results/models/re...</td>\n",
       "    </tr>\n",
       "  </tbody>\n",
       "</table>\n",
       "</div>"
      ],
      "text/plain": [
       "         id                   name                            tags  partition  \\\n",
       "0  3n2one7r  230426_fullrun_retina  [230426, baseline_data, image]         20   \n",
       "1  1xcmy2ys  230426_fullrun_retina  [230426, baseline_data, image]         10   \n",
       "2  37ps9kby  230426_fullrun_retina  [230426, baseline_data, image]          9   \n",
       "3  lzl9g0gn  230426_fullrun_retina  [230426, baseline_data, image]          7   \n",
       "4  3uyg9080  230426_fullrun_retina  [230426, baseline_data, image]          4   \n",
       "6  16f0zmet  230426_fullrun_retina  [230426, baseline_data, image]          5   \n",
       "\n",
       "                                           best_ckpt  \n",
       "0  /sc-projects/sc-proj-ukb-cvd/results/models/re...  \n",
       "1  /sc-projects/sc-proj-ukb-cvd/results/models/re...  \n",
       "2  /sc-projects/sc-proj-ukb-cvd/results/models/re...  \n",
       "3  /sc-projects/sc-proj-ukb-cvd/results/models/re...  \n",
       "4  /sc-projects/sc-proj-ukb-cvd/results/models/re...  \n",
       "6  /sc-projects/sc-proj-ukb-cvd/results/models/re...  "
      ]
     },
     "execution_count": 8,
     "metadata": {},
     "output_type": "execute_result"
    }
   ],
   "source": [
    "runs_df = runs_df[runs_df.partition.isin(PARTITIONS)]\n",
    "runs_df"
   ]
  },
  {
   "cell_type": "code",
   "execution_count": 9,
   "metadata": {},
   "outputs": [],
   "source": [
    "yaml = \"\"\"\n",
    "setup:\n",
    "  entity: cardiors\n",
    "  project: retina\n",
    "  group: null\n",
    "  name: onnx_export\n",
    "  root:\n",
    "    charite-hpc: /sc-projects/sc-proj-ukb-cvd\n",
    "    eils-hpc: /data/analysis/ag-reils/ag-reils-shared/cardioRS\n",
    "  data_path: data/2_datasets_pre/211110_anewbeginning/artifacts\n",
    "  output_path: results/models\n",
    "  use_data_artifact_if_available: false\n",
    "  data: null\n",
    "  restore_id: null\n",
    "  data_identifier: WandBBaselineData:latest\n",
    "  tags:\n",
    "  - baseline_data\n",
    "head:\n",
    "  model_type: MLP\n",
    "  dropout: 0.5\n",
    "  kwargs:\n",
    "    num_hidden: 512\n",
    "    num_layers: 2\n",
    "    detach_clf: false\n",
    "    initial_dropout: 0.0\n",
    "datamodule:\n",
    "  covariates: []\n",
    "  augmentation:\n",
    "    train:\n",
    "      RandomRotation:\n",
    "        degrees: 25\n",
    "      CenterCrop:\n",
    "        size: 384\n",
    "      RandomHorizontalFlip:\n",
    "        p: 0.5\n",
    "      RandomVerticalFlip:\n",
    "        p: 0.5\n",
    "      RandomGrayscale:\n",
    "        p: 0.1\n",
    "      RandomPosterize:\n",
    "        bits: 4\n",
    "        p: 0.2\n",
    "      RandomAdjustSharpness:\n",
    "        sharpness_factor: 2\n",
    "        p: 0.3\n",
    "      RandomAutocontrast:\n",
    "        p: 0.3\n",
    "    valid:\n",
    "      CenterCrop:\n",
    "        size: 384\n",
    "    test:\n",
    "      CenterCrop:\n",
    "        size: 384\n",
    "  batch_size: 256\n",
    "  partition: 0\n",
    "  num_workers: 16\n",
    "  img_root: /sc-projects/sc-proj-ukb-cvd/data/retina/preprocessed/preprocessed\n",
    "  img_visit: 0\n",
    "  img_size_to_gpu: 420\n",
    "  img_crop_ratio:\n",
    "   train:\n",
    "    - 0.3\n",
    "    - 0.4\n",
    "    - 0.5\n",
    "    - 0.6\n",
    "    - 0.7\n",
    "    - 0.8\n",
    "   test: 0.5\n",
    "   valid: 0.8\n",
    "  img_testtime_crop_ratio:\n",
    "   - 0.66\n",
    "  img_n_testtime_views: 50\n",
    "  label_definition:\n",
    "    all_cause_death: true\n",
    "    phecodes: true\n",
    "    custom: /sc-projects/sc-proj-ukb-cvd/results/projects/22_retinal_risk/data/220602/endpoints.csv\n",
    "  use_top_n_phecodes: 1000\n",
    "  filter_input_origins: []\n",
    "  use_loss_weights: false\n",
    "  task: tte\n",
    "  task_kwargs: {}\n",
    "model:\n",
    "  model_type: image\n",
    "  encoder: convnext_small\n",
    "  freeze_encoder: false\n",
    "  pretrained: true\n",
    "  restore_from_ckpt: false\n",
    "training:\n",
    "  exclusions_on_losses: false\n",
    "  exclusions_on_metrics: true\n",
    "  gradient_checkpointing: false\n",
    "  contrastive_loss_factor: 0\n",
    "  endpoint_loss_factor: 1\n",
    "  vicreg_loss_factor: 0\n",
    "  node_dropout: null\n",
    "  normalize_node_embeddings: true\n",
    "  binarize_records: true\n",
    "  gradient_checkpoining: true\n",
    "  write_predictions: true\n",
    "  write_embeddings: false\n",
    "  write_attributions: false\n",
    "  warmup_period: 8\n",
    "  attribution_baseline_mode: zeros\n",
    "  use_endpoint_embeddings: false\n",
    "  patience: 40\n",
    "  optimizer_kwargs:\n",
    "    weight_decay: 0.001\n",
    "    lr: 0.0001\n",
    "trainer:\n",
    "  gpus:\n",
    "  - 0\n",
    "  precision: 16\n",
    "  max_epochs: 10000\n",
    "  num_sanity_val_steps: -1\n",
    "  detect_anomaly: false\n",
    "  amp_backend: native\n",
    "  accumulate_grad_batches: 1\n",
    "\"\"\""
   ]
  },
  {
   "cell_type": "code",
   "execution_count": 10,
   "metadata": {},
   "outputs": [
    {
     "name": "stdout",
     "output_type": "stream",
     "text": [
      "setup:\n",
      "  entity: cardiors\n",
      "  project: retina\n",
      "  group: null\n",
      "  name: onnx_export\n",
      "  root:\n",
      "    charite-hpc: /sc-projects/sc-proj-ukb-cvd\n",
      "    eils-hpc: /data/analysis/ag-reils/ag-reils-shared/cardioRS\n",
      "  data_path: data/2_datasets_pre/211110_anewbeginning/artifacts\n",
      "  output_path: results/models\n",
      "  use_data_artifact_if_available: false\n",
      "  data: null\n",
      "  restore_id: null\n",
      "  data_identifier: WandBBaselineData:latest\n",
      "  tags:\n",
      "  - baseline_data\n",
      "head:\n",
      "  model_type: MLP\n",
      "  dropout: 0.5\n",
      "  kwargs:\n",
      "    num_hidden: 512\n",
      "    num_layers: 2\n",
      "    detach_clf: false\n",
      "    initial_dropout: 0.0\n",
      "datamodule:\n",
      "  covariates: []\n",
      "  augmentation:\n",
      "    train:\n",
      "      RandomRotation:\n",
      "        degrees: 25\n",
      "      CenterCrop:\n",
      "        size: 384\n",
      "      RandomHorizontalFlip:\n",
      "        p: 0.5\n",
      "      RandomVerticalFlip:\n",
      "        p: 0.5\n",
      "      RandomGrayscale:\n",
      "        p: 0.1\n",
      "      RandomPosterize:\n",
      "        bits: 4\n",
      "        p: 0.2\n",
      "      RandomAdjustSharpness:\n",
      "        sharpness_factor: 2\n",
      "        p: 0.3\n",
      "      RandomAutocontrast:\n",
      "        p: 0.3\n",
      "    valid:\n",
      "      CenterCrop:\n",
      "        size: 384\n",
      "    test:\n",
      "      CenterCrop:\n",
      "        size: 384\n",
      "  batch_size: 256\n",
      "  partition: 0\n",
      "  num_workers: 16\n",
      "  img_root: /sc-projects/sc-proj-ukb-cvd/data/retina/preprocessed/preprocessed\n",
      "  img_visit: 0\n",
      "  img_size_to_gpu: 420\n",
      "  img_crop_ratio:\n",
      "    train:\n",
      "    - 0.3\n",
      "    - 0.4\n",
      "    - 0.5\n",
      "    - 0.6\n",
      "    - 0.7\n",
      "    - 0.8\n",
      "    test: 0.5\n",
      "    valid: 0.8\n",
      "  img_testtime_crop_ratio:\n",
      "  - 0.66\n",
      "  img_n_testtime_views: 50\n",
      "  label_definition:\n",
      "    all_cause_death: true\n",
      "    phecodes: true\n",
      "    custom: /sc-projects/sc-proj-ukb-cvd/results/projects/22_retinal_risk/data/220602/endpoints.csv\n",
      "  use_top_n_phecodes: 1000\n",
      "  filter_input_origins: []\n",
      "  use_loss_weights: false\n",
      "  task: tte\n",
      "  task_kwargs: {}\n",
      "model:\n",
      "  model_type: image\n",
      "  encoder: convnext_small\n",
      "  freeze_encoder: false\n",
      "  pretrained: true\n",
      "  restore_from_ckpt: false\n",
      "training:\n",
      "  exclusions_on_losses: false\n",
      "  exclusions_on_metrics: true\n",
      "  gradient_checkpointing: false\n",
      "  contrastive_loss_factor: 0\n",
      "  endpoint_loss_factor: 1\n",
      "  vicreg_loss_factor: 0\n",
      "  node_dropout: null\n",
      "  normalize_node_embeddings: true\n",
      "  binarize_records: true\n",
      "  gradient_checkpoining: true\n",
      "  write_predictions: true\n",
      "  write_embeddings: false\n",
      "  write_attributions: false\n",
      "  warmup_period: 8\n",
      "  attribution_baseline_mode: zeros\n",
      "  use_endpoint_embeddings: false\n",
      "  patience: 40\n",
      "  optimizer_kwargs:\n",
      "    weight_decay: 0.001\n",
      "    lr: 0.0001\n",
      "trainer:\n",
      "  gpus:\n",
      "  - 0\n",
      "  precision: 16\n",
      "  max_epochs: 10000\n",
      "  num_sanity_val_steps: -1\n",
      "  detect_anomaly: false\n",
      "  amp_backend: native\n",
      "  accumulate_grad_batches: 1\n",
      "\n",
      "/sc-projects/sc-proj-ukb-cvd/data/2_datasets_pre/211110_anewbeginning/artifacts/phecode_definitions_220601.feather\n",
      "/sc-projects/sc-proj-ukb-cvd/data/2_datasets_pre/211110_anewbeginning/artifacts/230424_cv_eids_combined_51157.yaml\n",
      "/sc-projects/sc-proj-ukb-cvd/data/2_datasets_pre/211110_anewbeginning/artifacts/baseline_covariates_220503.feather\n",
      "/sc-projects/sc-proj-ukb-cvd/data/2_datasets_pre/211110_anewbeginning/artifacts/baseline_outcomes_220627.feather\n",
      "Labels are...\n",
      "['OMOP_4306655', 'phecode_002', 'phecode_002-1', 'phecode_003', 'phecode_004', 'phecode_005', 'phecode_007', 'phecode_007-1', 'phecode_008', 'phecode_009', 'phecode_011', 'phecode_012', 'phecode_015', 'phecode_015-2', 'phecode_030', 'phecode_052', 'phecode_052-1', 'phecode_052-3', 'phecode_052-32', 'phecode_054', 'phecode_056', 'phecode_056-1', 'phecode_059', 'phecode_059-1', 'phecode_061', 'phecode_070', 'phecode_084', 'phecode_086', 'phecode_088', 'phecode_089', 'phecode_089-1', 'phecode_089-2', 'phecode_089-3', 'phecode_092', 'phecode_092-2', 'phecode_095', 'phecode_096', 'phecode_097', 'phecode_097-1', 'phecode_098', 'phecode_099', 'phecode_100', 'phecode_101', 'phecode_101-1', 'phecode_101-2', 'phecode_101-4', 'phecode_101-41', 'phecode_101-42', 'phecode_101-6', 'phecode_101-8', 'phecode_102', 'phecode_102-1', 'phecode_103', 'phecode_103-1', 'phecode_103-2', 'phecode_103-21', 'phecode_103-22', 'phecode_103-3', 'phecode_104', 'phecode_105', 'phecode_105-1', 'phecode_106', 'phecode_106-2', 'phecode_106-21', 'phecode_106-3', 'phecode_107', 'phecode_107-2', 'phecode_108', 'phecode_108-4', 'phecode_108-41', 'phecode_108-5', 'phecode_109', 'phecode_109-3', 'phecode_110', 'phecode_112', 'phecode_114', 'phecode_116', 'phecode_116-1', 'phecode_116-2', 'phecode_116-3', 'phecode_116-4', 'phecode_116-5', 'phecode_116-6', 'phecode_120', 'phecode_120-1', 'phecode_120-2', 'phecode_120-21', 'phecode_121', 'phecode_121-2', 'phecode_121-21', 'phecode_122', 'phecode_122-2', 'phecode_122-22', 'phecode_123', 'phecode_123-1', 'phecode_124', 'phecode_124-5', 'phecode_130', 'phecode_132', 'phecode_135', 'phecode_135-1', 'phecode_135-5', 'phecode_136', 'phecode_136-2', 'phecode_136-4', 'phecode_136-41', 'phecode_136-42', 'phecode_138', 'phecode_138-1', 'phecode_138-2', 'phecode_139', 'phecode_139-3', 'phecode_139-5', 'phecode_139-52', 'phecode_139-53', 'phecode_139-54', 'phecode_139-6', 'phecode_139-61', 'phecode_140', 'phecode_142', 'phecode_142-1', 'phecode_144', 'phecode_144-1', 'phecode_144-13', 'phecode_144-2', 'phecode_144-21', 'phecode_144-3', 'phecode_146', 'phecode_146-2', 'phecode_148', 'phecode_148-1', 'phecode_148-16', 'phecode_148-2', 'phecode_149', 'phecode_149-3', 'phecode_160', 'phecode_160-1', 'phecode_160-2', 'phecode_162', 'phecode_164', 'phecode_164-1', 'phecode_164-2', 'phecode_164-6', 'phecode_165', 'phecode_168', 'phecode_168-1', 'phecode_168-19', 'phecode_168-2', 'phecode_168-4', 'phecode_169', 'phecode_169-1', 'phecode_169-11', 'phecode_170', 'phecode_170-1', 'phecode_170-19', 'phecode_171', 'phecode_171-1', 'phecode_172', 'phecode_174', 'phecode_174-2', 'phecode_175', 'phecode_175-2', 'phecode_176', 'phecode_177', 'phecode_177-2', 'phecode_177-4', 'phecode_179', 'phecode_179-9', 'phecode_180', 'phecode_180-3', 'phecode_180-31', 'phecode_181', 'phecode_200', 'phecode_200-1', 'phecode_200-13', 'phecode_200-14', 'phecode_200-2', 'phecode_200-21', 'phecode_200-22', 'phecode_200-23', 'phecode_200-3', 'phecode_200-31', 'phecode_200-4', 'phecode_200-7', 'phecode_200-9', 'phecode_202', 'phecode_202-1', 'phecode_202-2', 'phecode_202-4', 'phecode_204', 'phecode_204-1', 'phecode_204-2', 'phecode_204-4', 'phecode_205', 'phecode_208', 'phecode_208-2', 'phecode_208-21', 'phecode_209', 'phecode_209-1', 'phecode_211', 'phecode_215', 'phecode_230', 'phecode_230-2', 'phecode_230-21', 'phecode_230-22', 'phecode_230-3', 'phecode_232', 'phecode_232-2', 'phecode_232-27', 'phecode_232-29', 'phecode_232-4', 'phecode_234', 'phecode_236', 'phecode_236-1', 'phecode_236-11', 'phecode_237', 'phecode_239', 'phecode_239-1', 'phecode_239-11', 'phecode_239-12', 'phecode_239-2', 'phecode_239-3', 'phecode_244', 'phecode_247', 'phecode_247-3', 'phecode_247-4', 'phecode_247-5', 'phecode_247-51', 'phecode_247-52', 'phecode_247-7', 'phecode_247-72', 'phecode_248', 'phecode_251', 'phecode_251-1', 'phecode_256', 'phecode_256-1', 'phecode_256-2', 'phecode_256-3', 'phecode_256-31', 'phecode_256-4', 'phecode_256-5', 'phecode_256-6', 'phecode_256-7', 'phecode_257', 'phecode_280', 'phecode_280-1', 'phecode_280-11', 'phecode_280-12', 'phecode_280-13', 'phecode_280-8', 'phecode_280-82', 'phecode_281', 'phecode_281-1', 'phecode_281-2', 'phecode_282-1', 'phecode_283', 'phecode_283-4', 'phecode_283-8', 'phecode_284', 'phecode_284-1', 'phecode_284-2', 'phecode_284-29', 'phecode_286', 'phecode_286-1', 'phecode_286-2', 'phecode_286-21', 'phecode_287', 'phecode_288', 'phecode_288-2', 'phecode_288-3', 'phecode_288-4', 'phecode_290', 'phecode_290-1', 'phecode_292', 'phecode_294', 'phecode_299', 'phecode_308', 'phecode_308-1', 'phecode_308-3', 'phecode_308-4', 'phecode_308-5', 'phecode_308-6', 'phecode_308-7', 'phecode_323', 'phecode_324', 'phecode_324-1', 'phecode_324-11', 'phecode_324-3', 'phecode_324-34', 'phecode_324-4', 'phecode_324-41', 'phecode_324-8', 'phecode_325', 'phecode_325-1', 'phecode_325-2', 'phecode_325-23', 'phecode_325-3', 'phecode_327', 'phecode_328', 'phecode_328-1', 'phecode_328-7', 'phecode_328-8', 'phecode_328-9', 'phecode_329', 'phecode_329-1', 'phecode_329-4', 'phecode_329-41', 'phecode_329-42', 'phecode_329-5', 'phecode_329-6', 'phecode_329-9', 'phecode_330', 'phecode_330-1', 'phecode_330-11', 'phecode_330-12', 'phecode_330-3', 'phecode_331', 'phecode_331-1', 'phecode_331-3', 'phecode_331-6', 'phecode_331-61', 'phecode_331-8', 'phecode_333', 'phecode_333-1', 'phecode_333-11', 'phecode_333-2', 'phecode_333-4', 'phecode_334', 'phecode_334-1', 'phecode_334-11', 'phecode_334-2', 'phecode_334-21', 'phecode_335', 'phecode_336', 'phecode_336-1', 'phecode_336-2', 'phecode_336-5', 'phecode_336-52', 'phecode_336-55', 'phecode_337', 'phecode_337-8', 'phecode_341', 'phecode_341-2', 'phecode_342', 'phecode_342-4', 'phecode_343', 'phecode_344', 'phecode_344-1', 'phecode_346', 'phecode_347', 'phecode_348', 'phecode_348-2', 'phecode_349', 'phecode_349-1', 'phecode_349-13', 'phecode_349-2', 'phecode_350', 'phecode_350-5', 'phecode_351', 'phecode_351-1', 'phecode_351-2', 'phecode_351-3', 'phecode_352', 'phecode_352-1', 'phecode_352-3', 'phecode_353', 'phecode_353-1', 'phecode_354', 'phecode_355', 'phecode_355-1', 'phecode_355-2', 'phecode_356', 'phecode_356-1', 'phecode_356-2', 'phecode_360', 'phecode_360-1', 'phecode_360-11', 'phecode_360-12', 'phecode_360-2', 'phecode_360-4', 'phecode_360-5', 'phecode_360-51', 'phecode_361', 'phecode_361-1', 'phecode_361-3', 'phecode_361-4', 'phecode_361-9', 'phecode_362', 'phecode_362-5', 'phecode_363', 'phecode_363-2', 'phecode_363-5', 'phecode_363-7', 'phecode_366', 'phecode_366-1', 'phecode_366-4', 'phecode_366-42', 'phecode_367', 'phecode_367-1', 'phecode_367-12', 'phecode_367-13', 'phecode_367-2', 'phecode_367-21', 'phecode_367-5', 'phecode_367-52', 'phecode_367-6', 'phecode_369', 'phecode_369-1', 'phecode_369-4', 'phecode_369-5', 'phecode_370', 'phecode_371', 'phecode_371-3', 'phecode_371-31', 'phecode_373', 'phecode_374', 'phecode_374-1', 'phecode_374-11', 'phecode_374-3', 'phecode_374-38', 'phecode_374-39', 'phecode_374-4', 'phecode_374-42', 'phecode_374-5', 'phecode_374-51', 'phecode_374-511', 'phecode_374-512', 'phecode_374-52', 'phecode_374-55', 'phecode_374-8', 'phecode_375', 'phecode_375-1', 'phecode_375-11', 'phecode_375-113', 'phecode_375-12', 'phecode_375-14', 'phecode_375-6', 'phecode_376', 'phecode_376-1', 'phecode_376-2', 'phecode_376-21', 'phecode_377', 'phecode_377-2', 'phecode_377-4', 'phecode_377-5', 'phecode_379', 'phecode_379-2', 'phecode_379-21', 'phecode_380', 'phecode_380-2', 'phecode_381', 'phecode_381-1', 'phecode_383', 'phecode_384', 'phecode_385', 'phecode_386', 'phecode_386-1', 'phecode_386-2', 'phecode_386-4', 'phecode_386-9', 'phecode_387', 'phecode_387-1', 'phecode_387-2', 'phecode_387-3', 'phecode_388', 'phecode_389', 'phecode_389-1', 'phecode_390', 'phecode_390-1', 'phecode_390-4', 'phecode_390-6', 'phecode_391', 'phecode_391-1', 'phecode_391-11', 'phecode_391-12', 'phecode_391-2', 'phecode_391-21', 'phecode_391-7', 'phecode_391-9', 'phecode_392', 'phecode_394', 'phecode_394-1', 'phecode_394-2', 'phecode_394-21', 'phecode_394-22', 'phecode_394-4', 'phecode_395', 'phecode_395-1', 'phecode_396', 'phecode_396-1', 'phecode_396-2', 'phecode_396-21', 'phecode_396-22', 'phecode_397', 'phecode_397-1', 'phecode_398', 'phecode_398-1', 'phecode_400', 'phecode_400-2', 'phecode_401', 'phecode_401-1', 'phecode_401-3', 'phecode_401-6', 'phecode_402', 'phecode_403', 'phecode_404', 'phecode_404-1', 'phecode_404-11', 'phecode_404-2', 'phecode_406', 'phecode_406-1', 'phecode_410', 'phecode_410-2', 'phecode_411', 'phecode_411-2', 'phecode_413', 'phecode_413-1', 'phecode_413-11', 'phecode_413-12', 'phecode_413-2', 'phecode_413-21', 'phecode_413-22', 'phecode_413-3', 'phecode_413-32', 'phecode_413-4', 'phecode_413-42', 'phecode_413-6', 'phecode_414', 'phecode_414-2', 'phecode_416', 'phecode_416-1', 'phecode_416-11', 'phecode_416-12', 'phecode_416-2', 'phecode_416-21', 'phecode_416-211', 'phecode_416-212', 'phecode_416-22', 'phecode_416-4', 'phecode_416-41', 'phecode_416-42', 'phecode_416-43', 'phecode_416-5', 'phecode_416-51', 'phecode_416-52', 'phecode_416-7', 'phecode_416-71', 'phecode_417', 'phecode_417-1', 'phecode_417-2', 'phecode_417-3', 'phecode_418', 'phecode_418-1', 'phecode_419', 'phecode_420', 'phecode_423', 'phecode_423-1', 'phecode_424', 'phecode_424-1', 'phecode_424-2', 'phecode_424-3', 'phecode_425', 'phecode_426', 'phecode_430', 'phecode_430-1', 'phecode_430-2', 'phecode_430-3', 'phecode_431', 'phecode_431-1', 'phecode_431-11', 'phecode_431-12', 'phecode_431-2', 'phecode_433', 'phecode_433-1', 'phecode_433-2', 'phecode_433-21', 'phecode_436', 'phecode_437', 'phecode_438', 'phecode_438-1', 'phecode_438-11', 'phecode_438-12', 'phecode_439', 'phecode_440', 'phecode_440-1', 'phecode_440-11', 'phecode_440-13', 'phecode_440-2', 'phecode_440-3', 'phecode_443', 'phecode_443-1', 'phecode_444', 'phecode_444-1', 'phecode_444-11', 'phecode_444-15', 'phecode_444-5', 'phecode_446', 'phecode_446-2', 'phecode_447', 'phecode_448', 'phecode_448-1', 'phecode_448-9', 'phecode_449', 'phecode_452', 'phecode_460', 'phecode_460-1', 'phecode_460-2', 'phecode_462', 'phecode_462-1', 'phecode_462-2', 'phecode_463', 'phecode_463-1', 'phecode_463-2', 'phecode_463-21', 'phecode_463-4', 'phecode_463-5', 'phecode_464', 'phecode_464-1', 'phecode_465', 'phecode_465-1', 'phecode_465-2', 'phecode_466', 'phecode_466-1', 'phecode_466-4', 'phecode_467', 'phecode_467-1', 'phecode_468', 'phecode_468-1', 'phecode_468-2', 'phecode_468-8', 'phecode_468-9', 'phecode_469', 'phecode_469-1', 'phecode_469-2', 'phecode_471', 'phecode_471-2', 'phecode_471-3', 'phecode_471-5', 'phecode_472', 'phecode_473', 'phecode_474', 'phecode_474-1', 'phecode_475', 'phecode_475-5', 'phecode_476', 'phecode_477', 'phecode_478', 'phecode_479', 'phecode_479-3', 'phecode_479-6', 'phecode_480', 'phecode_481', 'phecode_481-4', 'phecode_483', 'phecode_484', 'phecode_486', 'phecode_486-2', 'phecode_486-21', 'phecode_486-5', 'phecode_487', 'phecode_487-1', 'phecode_487-3', 'phecode_488', 'phecode_488-1', 'phecode_488-6', 'phecode_488-8', 'phecode_491', 'phecode_494', 'phecode_495', 'phecode_495-1', 'phecode_496', 'phecode_498', 'phecode_500', 'phecode_500-4', 'phecode_500-41', 'phecode_501', 'phecode_502', 'phecode_503', 'phecode_503-5', 'phecode_504', 'phecode_504-1', 'phecode_504-3', 'phecode_504-32', 'phecode_506', 'phecode_506-3', 'phecode_506-5', 'phecode_507', 'phecode_507-1', 'phecode_507-11', 'phecode_508', 'phecode_509', 'phecode_509-1', 'phecode_509-11', 'phecode_509-3', 'phecode_510', 'phecode_510-2', 'phecode_510-5', 'phecode_510-8', 'phecode_511', 'phecode_512', 'phecode_513', 'phecode_513-1', 'phecode_513-2', 'phecode_513-3', 'phecode_514', 'phecode_514-1', 'phecode_514-2', 'phecode_514-21', 'phecode_514-3', 'phecode_515', 'phecode_516', 'phecode_517', 'phecode_518', 'phecode_520', 'phecode_520-1', 'phecode_520-11', 'phecode_520-12', 'phecode_520-13', 'phecode_520-14', 'phecode_520-15', 'phecode_520-2', 'phecode_522', 'phecode_522-1', 'phecode_522-11', 'phecode_522-12', 'phecode_522-14', 'phecode_522-7', 'phecode_522-8', 'phecode_522-9', 'phecode_523', 'phecode_523-1', 'phecode_523-2', 'phecode_523-4', 'phecode_524', 'phecode_524-1', 'phecode_525', 'phecode_525-1', 'phecode_525-3', 'phecode_526', 'phecode_526-1', 'phecode_526-11', 'phecode_526-12', 'phecode_526-2', 'phecode_527', 'phecode_528', 'phecode_528-1', 'phecode_528-2', 'phecode_529', 'phecode_529-1', 'phecode_529-2', 'phecode_529-3', 'phecode_529-5', 'phecode_529-6', 'phecode_530', 'phecode_530-1', 'phecode_530-2', 'phecode_530-3', 'phecode_532', 'phecode_532-1', 'phecode_532-4', 'phecode_535', 'phecode_537', 'phecode_537-1', 'phecode_540', 'phecode_540-1', 'phecode_540-3', 'phecode_542', 'phecode_542-1', 'phecode_542-2', 'phecode_542-3', 'phecode_542-4', 'phecode_545', 'phecode_546', 'phecode_546-3', 'phecode_550', 'phecode_550-1', 'phecode_550-2', 'phecode_550-4', 'phecode_552', 'phecode_552-1', 'phecode_552-2', 'phecode_554', 'phecode_554-1', 'phecode_554-11', 'phecode_554-2', 'phecode_555', 'phecode_556', 'phecode_556-3', 'phecode_556-8', 'phecode_557', 'phecode_557-1', 'phecode_557-2', 'phecode_557-8', 'phecode_558', 'phecode_559', 'phecode_580', 'phecode_580-3', 'phecode_581', 'phecode_581-1', 'phecode_581-11', 'phecode_581-3', 'phecode_581-31', 'phecode_581-33', 'phecode_582', 'phecode_583', 'phecode_583-1', 'phecode_584', 'phecode_585', 'phecode_585-1', 'phecode_586', 'phecode_586-2', 'phecode_588', 'phecode_588-2', 'phecode_591', 'phecode_592', 'phecode_592-1', 'phecode_592-11', 'phecode_592-12', 'phecode_593', 'phecode_593-1', 'phecode_593-2', 'phecode_593-3', 'phecode_594', 'phecode_594-1', 'phecode_594-11', 'phecode_594-2', 'phecode_594-3', 'phecode_594-31', 'phecode_594-32', 'phecode_594-4', 'phecode_594-41', 'phecode_594-6', 'phecode_596', 'phecode_596-1', 'phecode_596-2', 'phecode_596-3', 'phecode_596-5', 'phecode_597', 'phecode_597-1', 'phecode_597-5', 'phecode_599', 'phecode_600', 'phecode_601', 'phecode_601-1', 'phecode_601-11', 'phecode_601-12', 'phecode_602', 'phecode_602-4', 'phecode_603', 'phecode_603-1', 'phecode_603-2', 'phecode_603-5', 'phecode_603-6', 'phecode_604', 'phecode_604-1', 'phecode_604-3', 'phecode_604-5', 'phecode_605', 'phecode_605-1', 'phecode_608', 'phecode_608-1', 'phecode_610', 'phecode_610-1', 'phecode_613', 'phecode_613-1', 'phecode_613-5', 'phecode_613-7', 'phecode_614', 'phecode_614-1', 'phecode_614-5', 'phecode_614-52', 'phecode_614-53', 'phecode_614-54', 'phecode_614-55', 'phecode_615', 'phecode_618', 'phecode_618-1', 'phecode_618-11', 'phecode_618-12', 'phecode_618-2', 'phecode_619', 'phecode_619-2', 'phecode_619-3', 'phecode_619-4', 'phecode_619-5', 'phecode_620', 'phecode_621', 'phecode_622', 'phecode_622-1', 'phecode_622-2', 'phecode_623', 'phecode_624', 'phecode_624-1', 'phecode_624-2', 'phecode_625', 'phecode_625-1', 'phecode_625-2', 'phecode_626', 'phecode_626-1', 'phecode_626-11', 'phecode_626-13', 'phecode_626-14', 'phecode_626-2', 'phecode_627', 'phecode_627-1', 'phecode_627-2', 'phecode_627-3', 'phecode_627-4', 'phecode_628', 'phecode_628-2', 'phecode_660', 'phecode_660-1', 'phecode_660-11', 'phecode_660-12', 'phecode_660-13', 'phecode_660-2', 'phecode_660-21', 'phecode_660-4', 'phecode_660-6', 'phecode_662', 'phecode_664', 'phecode_664-1', 'phecode_664-2', 'phecode_664-21', 'phecode_665', 'phecode_665-2', 'phecode_665-3', 'phecode_666', 'phecode_666-1', 'phecode_666-2', 'phecode_667', 'phecode_668', 'phecode_668-1', 'phecode_668-2', 'phecode_668-3', 'phecode_668-4', 'phecode_668-5', 'phecode_668-6', 'phecode_670', 'phecode_672', 'phecode_673', 'phecode_673-1', 'phecode_674', 'phecode_674-1', 'phecode_674-11', 'phecode_674-2', 'phecode_675', 'phecode_675-1', 'phecode_676', 'phecode_676-1', 'phecode_676-2', 'phecode_678', 'phecode_679', 'phecode_679-1', 'phecode_679-2', 'phecode_679-21', 'phecode_679-22', 'phecode_679-3', 'phecode_679-4', 'phecode_679-7', 'phecode_680', 'phecode_680-1', 'phecode_680-3', 'phecode_681', 'phecode_682', 'phecode_682-1', 'phecode_682-11', 'phecode_682-12', 'phecode_682-4', 'phecode_683', 'phecode_683-1', 'phecode_683-2', 'phecode_684', 'phecode_684-1', 'phecode_684-11', 'phecode_685', 'phecode_685-1', 'phecode_685-4', 'phecode_685-8', 'phecode_685-82', 'phecode_686', 'phecode_686-1', 'phecode_686-2', 'phecode_688', 'phecode_688-1', 'phecode_688-3', 'phecode_700', 'phecode_700-2', 'phecode_701', 'phecode_701-1', 'phecode_702', 'phecode_702-3', 'phecode_703', 'phecode_703-1', 'phecode_703-11', 'phecode_703-2', 'phecode_704', 'phecode_704-5', 'phecode_705', 'phecode_705-1', 'phecode_705-3', 'phecode_705-5', 'phecode_706', 'phecode_706-1', 'phecode_707', 'phecode_707-8', 'phecode_708', 'phecode_708-1', 'phecode_708-11', 'phecode_708-12', 'phecode_708-13', 'phecode_708-14', 'phecode_708-15', 'phecode_708-16', 'phecode_708-7', 'phecode_708-8', 'phecode_708-9', 'phecode_709', 'phecode_709-1', 'phecode_709-11', 'phecode_709-2', 'phecode_709-21', 'phecode_709-22', 'phecode_709-24', 'phecode_710', 'phecode_710-3', 'phecode_710-31', 'phecode_710-32', 'phecode_710-4', 'phecode_710-41', 'phecode_711', 'phecode_711-1', 'phecode_712', 'phecode_712-1', 'phecode_712-5', 'phecode_712-6', 'phecode_713', 'phecode_713-2', 'phecode_713-3', 'phecode_713-4', 'phecode_714', 'phecode_714-3', 'phecode_715', 'phecode_715-1', 'phecode_715-3', 'phecode_715-4', 'phecode_716', 'phecode_716-2', 'phecode_716-3', 'phecode_717', 'phecode_717-2', 'phecode_718', 'phecode_718-1', 'phecode_718-2', 'phecode_718-3', 'phecode_718-4', 'phecode_718-5', 'phecode_719', 'phecode_719-1', 'phecode_719-11', 'phecode_719-3', 'phecode_719-7', 'phecode_720', 'phecode_721', 'phecode_721-1', 'phecode_721-11', 'phecode_721-12', 'phecode_721-2', 'phecode_721-4', 'phecode_721-5', 'phecode_721-6', 'phecode_722', 'phecode_722-1', 'phecode_722-4', 'phecode_723', 'phecode_723-1', 'phecode_723-2', 'phecode_723-3', 'phecode_723-4', 'phecode_723-5', 'phecode_723-51', 'phecode_723-6', 'phecode_724', 'phecode_724-1', 'phecode_724-3', 'phecode_724-5', 'phecode_724-51', 'phecode_724-52', 'phecode_726', 'phecode_726-1', 'phecode_726-2', 'phecode_727', 'phecode_727-1', 'phecode_728', 'phecode_728-1', 'phecode_728-3', 'phecode_730', 'phecode_731', 'phecode_732', 'phecode_733', 'phecode_733-6', 'phecode_733-62', 'phecode_734', 'phecode_734-9', 'phecode_800', 'phecode_800-1', 'phecode_800-11', 'phecode_800-2', 'phecode_801', 'phecode_802', 'phecode_803', 'phecode_804', 'phecode_805', 'phecode_807', 'phecode_807-1', 'phecode_807-11', 'phecode_808', 'phecode_809', 'phecode_809-1', 'phecode_809-3', 'phecode_810', 'phecode_812', 'phecode_812-2', 'phecode_814', 'phecode_815', 'phecode_817', 'phecode_819', 'phecode_820', 'phecode_821', 'phecode_823', 'phecode_823-2', 'phecode_824', 'phecode_826', 'phecode_826-3', 'phecode_827', 'phecode_827-1', 'phecode_829', 'phecode_829-2', 'phecode_830', 'phecode_831', 'phecode_832', 'phecode_832-5', 'phecode_832-6', 'phecode_835', 'phecode_840', 'phecode_840-1', 'phecode_840-2', 'phecode_840-8', 'phecode_840-9', 'phecode_841', 'phecode_841-1', 'phecode_841-11', 'phecode_841-12', 'phecode_841-13', 'phecode_841-3', 'phecode_841-4', 'phecode_841-5', 'phecode_848', 'phecode_848-2', 'phecode_969', 'phecode_973', 'phecode_977', 'phecode_977-4', 'phecode_977-41', 'phecode_977-5', 'phecode_977-51', 'phecode_977-52', 'phecode_977-7', 'phecode_977-71', 'phecode_977-72', 'phecode_979']\n",
      "Generating train dataset...\n",
      "         age_at_recruitment_f21022_0_0 sex_f31_0_0  \\\n",
      "eid                                                  \n",
      "3407873                           43.0      Female   \n",
      "4194306                           51.0      Female   \n",
      "2621443                           43.0        Male   \n",
      "2097159                           64.0      Female   \n",
      "4063240                           41.0      Female   \n",
      "\n",
      "        ethnic_background_f21000_0_0 uk_biobank_assessment_centre_f54_0_0  \n",
      "eid                                                                        \n",
      "3407873   Any other white background                              Croydon  \n",
      "4194306                      British                                Stoke  \n",
      "2621443                      British                                Barts  \n",
      "2097159                      British                       Middlesborough  \n",
      "4063240                      British                              Bristol  \n",
      "Generating valid dataset...\n",
      "         age_at_recruitment_f21022_0_0 sex_f31_0_0  \\\n",
      "eid                                                  \n",
      "5439490                           57.0        Male   \n",
      "1048595                           54.0        Male   \n",
      "5308441                           54.0      Female   \n",
      "1769501                           66.0      Female   \n",
      "5242912                           57.0        Male   \n",
      "\n",
      "        ethnic_background_f21000_0_0 uk_biobank_assessment_centre_f54_0_0  \n",
      "eid                                                                        \n",
      "5439490                       Indian                              Reading  \n",
      "1048595                      British                            Sheffield  \n",
      "5308441                      British                              Reading  \n",
      "1769501                      British                                Leeds  \n",
      "5242912                      British                           Nottingham  \n"
     ]
    }
   ],
   "source": [
    "# setup model\n",
    "from retinalrisk.training import setup_training\n",
    "import hydra\n",
    "from omegaconf import DictConfig, OmegaConf\n",
    "\n",
    "args = OmegaConf.create(yaml)\n",
    "print(OmegaConf.to_yaml(args))\n",
    "\n",
    "_, model, _ = setup_training(args)"
   ]
  },
  {
   "cell_type": "code",
   "execution_count": 15,
   "metadata": {},
   "outputs": [
    {
     "data": {
      "text/plain": [
       "array(['/sc-projects/sc-proj-ukb-cvd/results/models/retina/3n2one7r/checkpoints/epoch=112-step=44748.ckpt',\n",
       "       '/sc-projects/sc-proj-ukb-cvd/results/models/retina/1xcmy2ys/checkpoints/epoch=132-step=39368.ckpt',\n",
       "       '/sc-projects/sc-proj-ukb-cvd/results/models/retina/37ps9kby/checkpoints/epoch=122-step=37515.ckpt',\n",
       "       '/sc-projects/sc-proj-ukb-cvd/results/models/retina/lzl9g0gn/checkpoints/epoch=146-step=47334.ckpt',\n",
       "       '/sc-projects/sc-proj-ukb-cvd/results/models/retina/3uyg9080/checkpoints/epoch=111-step=40992.ckpt',\n",
       "       '/sc-projects/sc-proj-ukb-cvd/results/models/retina/16f0zmet/checkpoints/epoch=119-step=36000.ckpt'],\n",
       "      dtype=object)"
      ]
     },
     "execution_count": 15,
     "metadata": {},
     "output_type": "execute_result"
    }
   ],
   "source": [
    "runs_df.best_ckpt.values"
   ]
  },
  {
   "cell_type": "code",
   "execution_count": 20,
   "metadata": {},
   "outputs": [
    {
     "ename": "AttributeError",
     "evalue": "'Tensor' object has no attribute 'covariates'",
     "output_type": "error",
     "traceback": [
      "\u001b[0;31m---------------------------------------------------------------------------\u001b[0m",
      "\u001b[0;31mAttributeError\u001b[0m                            Traceback (most recent call last)",
      "\u001b[0;32m/tmp/ipykernel_4116825/61772823.py\u001b[0m in \u001b[0;36m<module>\u001b[0;34m\u001b[0m\n\u001b[1;32m     23\u001b[0m     \u001b[0mmodel\u001b[0m\u001b[0;34m.\u001b[0m\u001b[0meval\u001b[0m\u001b[0;34m(\u001b[0m\u001b[0;34m)\u001b[0m\u001b[0;34m\u001b[0m\u001b[0;34m\u001b[0m\u001b[0m\n\u001b[1;32m     24\u001b[0m \u001b[0;34m\u001b[0m\u001b[0m\n\u001b[0;32m---> 25\u001b[0;31m     \u001b[0mtorch_out\u001b[0m \u001b[0;34m=\u001b[0m \u001b[0mmodel\u001b[0m\u001b[0;34m(\u001b[0m\u001b[0mx\u001b[0m\u001b[0;34m)\u001b[0m\u001b[0;34m\u001b[0m\u001b[0;34m\u001b[0m\u001b[0m\n\u001b[0m\u001b[1;32m     26\u001b[0m     \u001b[0;31m# Export the model\u001b[0m\u001b[0;34m\u001b[0m\u001b[0;34m\u001b[0m\u001b[0m\n\u001b[1;32m     27\u001b[0m     torch.onnx.export(model,                     # model being run\n",
      "\u001b[0;32m~/miniconda3/envs/retina_risk/lib/python3.9/site-packages/torch/nn/modules/module.py\u001b[0m in \u001b[0;36m_call_impl\u001b[0;34m(self, *input, **kwargs)\u001b[0m\n\u001b[1;32m   1128\u001b[0m         if not (self._backward_hooks or self._forward_hooks or self._forward_pre_hooks or _global_backward_hooks\n\u001b[1;32m   1129\u001b[0m                 or _global_forward_hooks or _global_forward_pre_hooks):\n\u001b[0;32m-> 1130\u001b[0;31m             \u001b[0;32mreturn\u001b[0m \u001b[0mforward_call\u001b[0m\u001b[0;34m(\u001b[0m\u001b[0;34m*\u001b[0m\u001b[0minput\u001b[0m\u001b[0;34m,\u001b[0m \u001b[0;34m**\u001b[0m\u001b[0mkwargs\u001b[0m\u001b[0;34m)\u001b[0m\u001b[0;34m\u001b[0m\u001b[0;34m\u001b[0m\u001b[0m\n\u001b[0m\u001b[1;32m   1131\u001b[0m         \u001b[0;31m# Do not call functions when jit is used\u001b[0m\u001b[0;34m\u001b[0m\u001b[0;34m\u001b[0m\u001b[0m\n\u001b[1;32m   1132\u001b[0m         \u001b[0mfull_backward_hooks\u001b[0m\u001b[0;34m,\u001b[0m \u001b[0mnon_full_backward_hooks\u001b[0m \u001b[0;34m=\u001b[0m \u001b[0;34m[\u001b[0m\u001b[0;34m]\u001b[0m\u001b[0;34m,\u001b[0m \u001b[0;34m[\u001b[0m\u001b[0;34m]\u001b[0m\u001b[0;34m\u001b[0m\u001b[0;34m\u001b[0m\u001b[0m\n",
      "\u001b[0;32m~/RetinalRisk/retinalrisk/models/supervised.py\u001b[0m in \u001b[0;36mforward\u001b[0;34m(self, batch)\u001b[0m\n\u001b[1;32m    224\u001b[0m         \u001b[0membeddings\u001b[0m \u001b[0;34m=\u001b[0m \u001b[0mself\u001b[0m\u001b[0;34m.\u001b[0m\u001b[0mget_data_embeddings\u001b[0m\u001b[0;34m(\u001b[0m\u001b[0mbatch\u001b[0m\u001b[0;34m)\u001b[0m\u001b[0;34m\u001b[0m\u001b[0;34m\u001b[0m\u001b[0m\n\u001b[1;32m    225\u001b[0m \u001b[0;34m\u001b[0m\u001b[0m\n\u001b[0;32m--> 226\u001b[0;31m         \u001b[0mindividual_features\u001b[0m \u001b[0;34m=\u001b[0m \u001b[0mself\u001b[0m\u001b[0;34m.\u001b[0m\u001b[0mmaybe_concat_covariates\u001b[0m\u001b[0;34m(\u001b[0m\u001b[0mbatch\u001b[0m\u001b[0;34m,\u001b[0m \u001b[0membeddings\u001b[0m\u001b[0;34m)\u001b[0m\u001b[0;34m\u001b[0m\u001b[0;34m\u001b[0m\u001b[0m\n\u001b[0m\u001b[1;32m    227\u001b[0m \u001b[0;34m\u001b[0m\u001b[0m\n\u001b[1;32m    228\u001b[0m         \u001b[0mhead_outputs\u001b[0m \u001b[0;34m=\u001b[0m \u001b[0mself\u001b[0m\u001b[0;34m.\u001b[0m\u001b[0mhead\u001b[0m\u001b[0;34m(\u001b[0m\u001b[0mindividual_features\u001b[0m\u001b[0;34m)\u001b[0m\u001b[0;34m\u001b[0m\u001b[0;34m\u001b[0m\u001b[0m\n",
      "\u001b[0;32m~/RetinalRisk/retinalrisk/models/supervised.py\u001b[0m in \u001b[0;36mmaybe_concat_covariates\u001b[0;34m(self, batch, features)\u001b[0m\n\u001b[1;32m    216\u001b[0m             \u001b[0;32mreturn\u001b[0m \u001b[0mbatch\u001b[0m\u001b[0;34m.\u001b[0m\u001b[0mcovariates\u001b[0m\u001b[0;34m\u001b[0m\u001b[0;34m\u001b[0m\u001b[0m\n\u001b[1;32m    217\u001b[0m \u001b[0;34m\u001b[0m\u001b[0m\n\u001b[0;32m--> 218\u001b[0;31m         \u001b[0;32mif\u001b[0m \u001b[0mbatch\u001b[0m\u001b[0;34m.\u001b[0m\u001b[0mcovariates\u001b[0m \u001b[0;32mis\u001b[0m \u001b[0;32mnot\u001b[0m \u001b[0;32mNone\u001b[0m\u001b[0;34m:\u001b[0m\u001b[0;34m\u001b[0m\u001b[0;34m\u001b[0m\u001b[0m\n\u001b[0m\u001b[1;32m    219\u001b[0m             \u001b[0mfeatures\u001b[0m \u001b[0;34m=\u001b[0m \u001b[0mtorch\u001b[0m\u001b[0;34m.\u001b[0m\u001b[0mcat\u001b[0m\u001b[0;34m(\u001b[0m\u001b[0;34m(\u001b[0m\u001b[0mfeatures\u001b[0m\u001b[0;34m,\u001b[0m \u001b[0mbatch\u001b[0m\u001b[0;34m.\u001b[0m\u001b[0mcovariates\u001b[0m\u001b[0;34m)\u001b[0m\u001b[0;34m,\u001b[0m \u001b[0maxis\u001b[0m\u001b[0;34m=\u001b[0m\u001b[0;36m1\u001b[0m\u001b[0;34m)\u001b[0m\u001b[0;34m\u001b[0m\u001b[0;34m\u001b[0m\u001b[0m\n\u001b[1;32m    220\u001b[0m \u001b[0;34m\u001b[0m\u001b[0m\n",
      "\u001b[0;31mAttributeError\u001b[0m: 'Tensor' object has no attribute 'covariates'"
     ]
    }
   ],
   "source": [
    "import torch\n",
    "import os\n",
    "\n",
    "output_dir = '/sc-projects/sc-proj-ukb-cvd/results/models/retina/'\n",
    "\n",
    "# Input to the model\n",
    "x = torch.randn(*IMG_SHAPE, requires_grad=True)\n",
    "\n",
    "for i in range(len(runs_df)):\n",
    "    run = runs_df.loc[i]\n",
    "    ckpt_path = run['best_ckpt']\n",
    "    run_id = run['id']\n",
    "    out_path = os.path.join(output_dir, run_id, 'onnx')\n",
    "    os.makedirs(out_path, exist_ok=True)\n",
    "    \n",
    "    if torch.cuda.is_available():\n",
    "            device = torch.device('cuda')\n",
    "    else:\n",
    "        device = torch.device('cpu')\n",
    "\n",
    "    ckpt = torch.load(ckpt_path, map_location=device)\n",
    "    model.load_state_dict(ckpt[\"state_dict\"])\n",
    "    model.eval()\n",
    "\n",
    "    torch_out = model(x)\n",
    "    # Export the model\n",
    "    torch.onnx.export(model,                     # model being run\n",
    "                      x,                         # model input (or a tuple for multiple inputs)\n",
    "                      os.path.join(out_path, 'best_checkpoint.onnx'),   # where to save the model (can be a file or file-like object)\n",
    "                      export_params=True,        # store the trained parameter weights inside the model file\n",
    "                      opset_version=10,          # the ONNX version to export the model to\n",
    "                      do_constant_folding=True,  # whether to execute constant folding for optimization\n",
    "                      input_names = ['input'],   # the model's input names\n",
    "                      output_names = ['output'], # the model's output names\n",
    "                      dynamic_axes={'input' : {0 : 'batch_size'},    # variable length axes\n",
    "                                    'output' : {0 : 'batch_size'}})"
   ]
  },
  {
   "cell_type": "code",
   "execution_count": 12,
   "metadata": {},
   "outputs": [],
   "source": [
    "#model\n",
    "\n",
    "torch_model.eval()\n",
    "torch_out = model(x)\n",
    "\n",
    "# Export the model\n",
    "torch.onnx.export(torch_model,               # model being run\n",
    "                  x,                         # model input (or a tuple for multiple inputs)\n",
    "                  \"super_resolution.onnx\",   # where to save the model (can be a file or file-like object)\n",
    "                  export_params=True,        # store the trained parameter weights inside the model file\n",
    "                  opset_version=10,          # the ONNX version to export the model to\n",
    "                  do_constant_folding=True,  # whether to execute constant folding for optimization\n",
    "                  input_names = ['input'],   # the model's input names\n",
    "                  output_names = ['output'], # the model's output names\n",
    "                  dynamic_axes={'input' : {0 : 'batch_size'},    # variable length axes\n",
    "                                'output' : {0 : 'batch_size'}})"
   ]
  },
  {
   "cell_type": "code",
   "execution_count": null,
   "metadata": {},
   "outputs": [],
   "source": []
  }
 ],
 "metadata": {
  "kernelspec": {
   "display_name": "Python 3 (ipykernel)",
   "language": "python",
   "name": "python3"
  },
  "language_info": {
   "codemirror_mode": {
    "name": "ipython",
    "version": 3
   },
   "file_extension": ".py",
   "mimetype": "text/x-python",
   "name": "python",
   "nbconvert_exporter": "python",
   "pygments_lexer": "ipython3",
   "version": "3.9.7"
  },
  "toc-autonumbering": true,
  "toc-showcode": true,
  "toc-showmarkdowntxt": true
 },
 "nbformat": 4,
 "nbformat_minor": 4
}
