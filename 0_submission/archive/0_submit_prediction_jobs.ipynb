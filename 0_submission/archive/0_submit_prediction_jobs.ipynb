{
 "cells": [
  {
   "cell_type": "markdown",
   "metadata": {},
   "source": [
    "# SUBMISSION NOTEBOOK"
   ]
  },
  {
   "cell_type": "markdown",
   "metadata": {},
   "source": [
    "## SETUP"
   ]
  },
  {
   "cell_type": "markdown",
   "metadata": {},
   "source": [
    "#### imports "
   ]
  },
  {
   "cell_type": "code",
   "execution_count": 1,
   "metadata": {
    "execution": {
     "iopub.execute_input": "2022-08-22T13:57:24.250821Z",
     "iopub.status.busy": "2022-08-22T13:57:24.250706Z",
     "iopub.status.idle": "2022-08-22T13:57:25.879199Z",
     "shell.execute_reply": "2022-08-22T13:57:25.878776Z",
     "shell.execute_reply.started": "2022-08-22T13:57:24.250790Z"
    },
    "tags": []
   },
   "outputs": [],
   "source": [
    "import pandas as pd\n",
    "import os\n",
    "import datetime\n",
    "import subprocess\n",
    "import re\n",
    "from omegaconf import OmegaConf\n",
    "import pathlib\n",
    "from tqdm.auto import tqdm\n",
    "import itertools"
   ]
  },
  {
   "cell_type": "code",
   "execution_count": 2,
   "metadata": {
    "execution": {
     "iopub.execute_input": "2022-08-22T13:57:25.879806Z",
     "iopub.status.busy": "2022-08-22T13:57:25.879716Z",
     "iopub.status.idle": "2022-08-22T13:57:27.179341Z",
     "shell.execute_reply": "2022-08-22T13:57:27.178885Z",
     "shell.execute_reply.started": "2022-08-22T13:57:25.879794Z"
    },
    "tags": []
   },
   "outputs": [],
   "source": [
    "import wandb"
   ]
  },
  {
   "cell_type": "markdown",
   "metadata": {},
   "source": [
    "#### CONFIG:"
   ]
  },
  {
   "cell_type": "code",
   "execution_count": 3,
   "metadata": {
    "execution": {
     "iopub.execute_input": "2022-08-22T13:57:27.180149Z",
     "iopub.status.busy": "2022-08-22T13:57:27.180048Z",
     "iopub.status.idle": "2022-08-22T13:57:27.190862Z",
     "shell.execute_reply": "2022-08-22T13:57:27.190550Z",
     "shell.execute_reply.started": "2022-08-22T13:57:27.180136Z"
    },
    "tags": []
   },
   "outputs": [],
   "source": [
    "# USER = 'YOURUSERNAME'\n",
    "# CODE_BASE = f'/home/buergelt/projects/cardiors/code/RetinalRisk'\n",
    "CODE_BASE = '/sc-projects/sc-proj-ukb-cvd/code/RetinalRisk'\n",
    "SUBMISSION_BASE = '/sc-projects/sc-proj-ukb-cvd/submissions/RetinalRisk'\n",
    "# SUBMISSION_BASE = f'/home/buergelt/projects/cardiors/code/RetinalRisk'\n",
    "\n",
    "TAG = 230426\n",
    "JOBNAME = f'ret_preds'\n",
    "\n",
    "EXPERIMENT_NAME = f'22_retinalrisk_{TAG}_{JOBNAME}'   # name under which to store the generated .sh scripts and yamls\n",
    "TEMPLATE_CONFIG = f'{CODE_BASE}/config/'   # template yaml to use\n",
    "TRAIN_SCRIPT = f'{CODE_BASE}/retinalrisk/scripts/predict_retina.py'     # python train script to use\n",
    "\n",
    "# os.makedirs(f'/home/{USER}/tmp/{EXPERIMENT_NAME}/job_submissions', exist_ok=True)\n",
    "# os.makedirs(f'/home/{USER}/tmp/{EXPERIMENT_NAME}/job_configs', exist_ok=True)\n",
    "\n",
    "os.makedirs(f'{SUBMISSION_BASE}/{EXPERIMENT_NAME}/job_submissions', exist_ok=True)\n",
    "os.makedirs(f'{SUBMISSION_BASE}/{EXPERIMENT_NAME}/job_configs', exist_ok=True)\n",
    "os.makedirs(f'{SUBMISSION_BASE}/{EXPERIMENT_NAME}/job_outputs', exist_ok=True)"
   ]
  },
  {
   "cell_type": "raw",
   "metadata": {
    "execution": {
     "iopub.execute_input": "2022-08-22T10:02:42.346167Z",
     "iopub.status.busy": "2022-08-22T10:02:42.346070Z",
     "iopub.status.idle": "2022-08-22T10:02:42.348626Z",
     "shell.execute_reply": "2022-08-22T10:02:42.348416Z",
     "shell.execute_reply.started": "2022-08-22T10:02:42.346152Z"
    },
    "tags": []
   },
   "source": [
    "USER = 'buergelt'\n",
    "BASE = f'/home/{USER}/projects/cardiors/code/RetinalRisk'\n",
    "\n",
    "\n",
    "EXPERIMENT_NAME = '22_retinalrisk'   # name under which to store the generated .sh scripts and yamls\n",
    "TEMPLATE_CONFIG = f'{BASE}/config/'   # template yaml to use\n",
    "TRAIN_SCRIPT = f'{BASE}/retinalrisk/scripts/predict_retina.py'     # python train script to use\n",
    "\n",
    "TAG = '220812'\n",
    "JOBNAME = 'write_preds'"
   ]
  },
  {
   "cell_type": "code",
   "execution_count": 4,
   "metadata": {
    "execution": {
     "iopub.execute_input": "2022-08-22T13:57:27.191836Z",
     "iopub.status.busy": "2022-08-22T13:57:27.191750Z",
     "iopub.status.idle": "2022-08-22T13:57:27.195887Z",
     "shell.execute_reply": "2022-08-22T13:57:27.195601Z",
     "shell.execute_reply.started": "2022-08-22T13:57:27.191825Z"
    }
   },
   "outputs": [],
   "source": [
    "#partitions = [i for i in range(0, 5)] # CHRISTINA\n",
    "#partitions =  [i for i in range(5, 10)] # PAUL \n",
    "#partitions =  [i for i in range(10, 16)] # THORE \n",
    "#partitions = [i for i in range(16, 22)] # LUKAS \n"
   ]
  },
  {
   "cell_type": "markdown",
   "metadata": {
    "execution": {
     "iopub.execute_input": "2022-06-05T14:47:00.983318Z",
     "iopub.status.busy": "2022-06-05T14:47:00.983088Z",
     "iopub.status.idle": "2022-06-05T14:47:00.985374Z",
     "shell.execute_reply": "2022-06-05T14:47:00.985122Z",
     "shell.execute_reply.started": "2022-06-05T14:47:00.983302Z"
    }
   },
   "source": [
    "#### get wandb runs"
   ]
  },
  {
   "cell_type": "code",
   "execution_count": 5,
   "metadata": {
    "execution": {
     "iopub.execute_input": "2022-08-22T13:57:27.196365Z",
     "iopub.status.busy": "2022-08-22T13:57:27.196285Z",
     "iopub.status.idle": "2022-08-22T13:57:27.628713Z",
     "shell.execute_reply": "2022-08-22T13:57:27.628378Z",
     "shell.execute_reply.started": "2022-08-22T13:57:27.196354Z"
    },
    "tags": []
   },
   "outputs": [],
   "source": [
    "api = wandb.Api()\n",
    "entity, project = \"cardiors\", \"retina\"\n",
    "runs = api.runs(entity + \"/\" + project) "
   ]
  },
  {
   "cell_type": "code",
   "execution_count": 6,
   "metadata": {
    "execution": {
     "iopub.execute_input": "2022-08-22T13:57:27.629260Z",
     "iopub.status.busy": "2022-08-22T13:57:27.629176Z",
     "iopub.status.idle": "2022-08-22T13:57:51.701933Z",
     "shell.execute_reply": "2022-08-22T13:57:51.701550Z",
     "shell.execute_reply.started": "2022-08-22T13:57:27.629249Z"
    },
    "tags": []
   },
   "outputs": [
    {
     "data": {
      "application/vnd.jupyter.widget-view+json": {
       "model_id": "c23406407e094256b66742d7c1ba28e3",
       "version_major": 2,
       "version_minor": 0
      },
      "text/plain": [
       "  0%|          | 0/215 [00:00<?, ?it/s]"
      ]
     },
     "metadata": {},
     "output_type": "display_data"
    }
   ],
   "source": [
    "run_list = []\n",
    "for run in tqdm(runs): \n",
    "    if TAG in run.tags:\n",
    "        run_list.append(\n",
    "            {\n",
    "                \"id\": run.id, #path[-1]\n",
    "                \"name\": run.name,\n",
    "                \"tags\": run.tags,\n",
    "                \"config\": run.config, #{k: v for k,v in run.config.items() if not k.startswith('_')},\n",
    "                \"partition\": eval(run.config['_content']['datamodule'])['partition'],\n",
    "                \"summary\": run.summary._json_dict,\n",
    "                \"path\": None if \"predictions_path\" not in run.config.keys() else str(pathlib.Path(run.config[\"predictions_path\"]))\n",
    "    #             'path': f'/sc-projects/sc-proj-ukb-cvd/results/models/retina/{run.id}/checkpoints/predictions/predictions.feather'\n",
    "            }\n",
    "        )"
   ]
  },
  {
   "cell_type": "code",
   "execution_count": 7,
   "metadata": {
    "execution": {
     "iopub.execute_input": "2022-08-22T13:57:51.702610Z",
     "iopub.status.busy": "2022-08-22T13:57:51.702517Z",
     "iopub.status.idle": "2022-08-22T13:57:51.705637Z",
     "shell.execute_reply": "2022-08-22T13:57:51.705340Z",
     "shell.execute_reply.started": "2022-08-22T13:57:51.702598Z"
    },
    "tags": []
   },
   "outputs": [],
   "source": [
    "runs_df = pd.DataFrame(run_list)"
   ]
  },
  {
   "cell_type": "code",
   "execution_count": 8,
   "metadata": {
    "execution": {
     "iopub.execute_input": "2022-08-22T13:57:51.706211Z",
     "iopub.status.busy": "2022-08-22T13:57:51.706123Z",
     "iopub.status.idle": "2022-08-22T13:57:52.113162Z",
     "shell.execute_reply": "2022-08-22T13:57:52.112784Z",
     "shell.execute_reply.started": "2022-08-22T13:57:51.706200Z"
    },
    "tags": []
   },
   "outputs": [
    {
     "data": {
      "text/html": [
       "<div>\n",
       "<style scoped>\n",
       "    .dataframe tbody tr th:only-of-type {\n",
       "        vertical-align: middle;\n",
       "    }\n",
       "\n",
       "    .dataframe tbody tr th {\n",
       "        vertical-align: top;\n",
       "    }\n",
       "\n",
       "    .dataframe thead th {\n",
       "        text-align: right;\n",
       "    }\n",
       "</style>\n",
       "<table border=\"1\" class=\"dataframe\">\n",
       "  <thead>\n",
       "    <tr style=\"text-align: right;\">\n",
       "      <th></th>\n",
       "      <th>id</th>\n",
       "      <th>name</th>\n",
       "      <th>tags</th>\n",
       "      <th>config</th>\n",
       "      <th>partition</th>\n",
       "      <th>summary</th>\n",
       "      <th>path</th>\n",
       "    </tr>\n",
       "  </thead>\n",
       "  <tbody>\n",
       "    <tr>\n",
       "      <th>0</th>\n",
       "      <td>ljhjndx2</td>\n",
       "      <td>220812_fullrun</td>\n",
       "      <td>[220812, baseline_data, image]</td>\n",
       "      <td>{'losses': ['&lt;retinalrisk.models.loss_wrapper....</td>\n",
       "      <td>4</td>\n",
       "      <td>{'valid/phecode_526-11 - Intestinal e-coli_CIn...</td>\n",
       "      <td>None</td>\n",
       "    </tr>\n",
       "    <tr>\n",
       "      <th>1</th>\n",
       "      <td>1ts15g03</td>\n",
       "      <td>220812_fullrun</td>\n",
       "      <td>[220812, baseline_data, image]</td>\n",
       "      <td>{'losses': ['&lt;retinalrisk.models.loss_wrapper....</td>\n",
       "      <td>9</td>\n",
       "      <td>{'gradients/encoder.features.5.19.block.0.bias...</td>\n",
       "      <td>None</td>\n",
       "    </tr>\n",
       "    <tr>\n",
       "      <th>2</th>\n",
       "      <td>jtx4az09</td>\n",
       "      <td>220812_fullrun_15</td>\n",
       "      <td>[220812, baseline_data, image]</td>\n",
       "      <td>{'losses': ['&lt;retinalrisk.models.loss_wrapper....</td>\n",
       "      <td>15</td>\n",
       "      <td>{'valid/phecode_703-11 - Gout_CIndex': 0.69062...</td>\n",
       "      <td>None</td>\n",
       "    </tr>\n",
       "    <tr>\n",
       "      <th>3</th>\n",
       "      <td>10r747tq</td>\n",
       "      <td>220812_fullrun_3</td>\n",
       "      <td>[220812, baseline_data, image]</td>\n",
       "      <td>{'losses': ['&lt;retinalrisk.models.loss_wrapper....</td>\n",
       "      <td>3</td>\n",
       "      <td>{'valid/phecode_709-2 - Acquired deformities o...</td>\n",
       "      <td>None</td>\n",
       "    </tr>\n",
       "    <tr>\n",
       "      <th>4</th>\n",
       "      <td>3kkkwx1h</td>\n",
       "      <td>220812_fullrun_8</td>\n",
       "      <td>[220812, baseline_data, image]</td>\n",
       "      <td>{'losses': ['&lt;retinalrisk.models.loss_wrapper....</td>\n",
       "      <td>8</td>\n",
       "      <td>{'valid/phecode_138 - Benign neoplasm of the s...</td>\n",
       "      <td>None</td>\n",
       "    </tr>\n",
       "    <tr>\n",
       "      <th>5</th>\n",
       "      <td>kr1fcpov</td>\n",
       "      <td>220812_fullrun_7</td>\n",
       "      <td>[220812, baseline_data, image]</td>\n",
       "      <td>{'losses': ['&lt;retinalrisk.models.loss_wrapper....</td>\n",
       "      <td>7</td>\n",
       "      <td>{'gradients/encoder.features.0.0.bias': {'bins...</td>\n",
       "      <td>None</td>\n",
       "    </tr>\n",
       "    <tr>\n",
       "      <th>6</th>\n",
       "      <td>2i64fvxa</td>\n",
       "      <td>220812_fullrun_2</td>\n",
       "      <td>[220812, baseline_data, image]</td>\n",
       "      <td>{'losses': ['&lt;retinalrisk.models.loss_wrapper....</td>\n",
       "      <td>2</td>\n",
       "      <td>{'valid/phecode_375 - Abnormal intraocular pre...</td>\n",
       "      <td>None</td>\n",
       "    </tr>\n",
       "    <tr>\n",
       "      <th>7</th>\n",
       "      <td>2lsliaj8</td>\n",
       "      <td>220812_fullrun_21</td>\n",
       "      <td>[220812, baseline_data, image]</td>\n",
       "      <td>{'losses': ['&lt;retinalrisk.models.loss_wrapper....</td>\n",
       "      <td>21</td>\n",
       "      <td>{'valid/phecode_526-12 - Intestinal infection ...</td>\n",
       "      <td>None</td>\n",
       "    </tr>\n",
       "    <tr>\n",
       "      <th>8</th>\n",
       "      <td>9e6xmhpu</td>\n",
       "      <td>220812_fullrun_14</td>\n",
       "      <td>[220812, baseline_data, image]</td>\n",
       "      <td>{'losses': ['&lt;retinalrisk.models.loss_wrapper....</td>\n",
       "      <td>14</td>\n",
       "      <td>{'gradients/encoder.features.5.11.layer_scale'...</td>\n",
       "      <td>None</td>\n",
       "    </tr>\n",
       "    <tr>\n",
       "      <th>9</th>\n",
       "      <td>227i0u0y</td>\n",
       "      <td>220812_fullrun_13</td>\n",
       "      <td>[220812, baseline_data, image]</td>\n",
       "      <td>{'losses': ['&lt;retinalrisk.models.loss_wrapper....</td>\n",
       "      <td>13</td>\n",
       "      <td>{'valid/phecode_410-2 - Endocarditis_CIndex': ...</td>\n",
       "      <td>None</td>\n",
       "    </tr>\n",
       "    <tr>\n",
       "      <th>10</th>\n",
       "      <td>3r2tl7yf</td>\n",
       "      <td>220812_fullrun_20</td>\n",
       "      <td>[220812, baseline_data, image]</td>\n",
       "      <td>{'losses': ['&lt;retinalrisk.models.loss_wrapper....</td>\n",
       "      <td>20</td>\n",
       "      <td>{'valid/phecode_283 - Other behavioral problem...</td>\n",
       "      <td>None</td>\n",
       "    </tr>\n",
       "    <tr>\n",
       "      <th>11</th>\n",
       "      <td>3qdf1w29</td>\n",
       "      <td>220812_fullrun_5</td>\n",
       "      <td>[220812, baseline_data, image]</td>\n",
       "      <td>{'losses': ['&lt;retinalrisk.models.loss_wrapper....</td>\n",
       "      <td>5</td>\n",
       "      <td>{'valid/phecode_202-1 - Type 1 diabetes_CIndex...</td>\n",
       "      <td>None</td>\n",
       "    </tr>\n",
       "    <tr>\n",
       "      <th>12</th>\n",
       "      <td>10lyj53i</td>\n",
       "      <td>220812_fullrun_6</td>\n",
       "      <td>[220812, baseline_data, image]</td>\n",
       "      <td>{'losses': ['&lt;retinalrisk.models.loss_wrapper....</td>\n",
       "      <td>6</td>\n",
       "      <td>{'valid/phecode_404-2 - Coronary atheroscleros...</td>\n",
       "      <td>None</td>\n",
       "    </tr>\n",
       "    <tr>\n",
       "      <th>13</th>\n",
       "      <td>252j2c11</td>\n",
       "      <td>220812_fullrun_1</td>\n",
       "      <td>[220812, baseline_data, image]</td>\n",
       "      <td>{'losses': ['&lt;retinalrisk.models.loss_wrapper....</td>\n",
       "      <td>1</td>\n",
       "      <td>{'valid/phecode_446-2 - Orthostatic hypotensio...</td>\n",
       "      <td>None</td>\n",
       "    </tr>\n",
       "    <tr>\n",
       "      <th>14</th>\n",
       "      <td>k721isqz</td>\n",
       "      <td>220812_fullrun_0</td>\n",
       "      <td>[220812, baseline_data, image]</td>\n",
       "      <td>{'losses': ['&lt;retinalrisk.models.loss_wrapper....</td>\n",
       "      <td>0</td>\n",
       "      <td>{'gradients/encoder.features.5.1.layer_scale':...</td>\n",
       "      <td>None</td>\n",
       "    </tr>\n",
       "    <tr>\n",
       "      <th>15</th>\n",
       "      <td>14jivz7l</td>\n",
       "      <td>220812_fullrun_ 12</td>\n",
       "      <td>[220812, baseline_data, image]</td>\n",
       "      <td>{'losses': ['&lt;retinalrisk.models.loss_wrapper....</td>\n",
       "      <td>12</td>\n",
       "      <td>{'valid/phecode_232-29 - Folate deficiency [Vi...</td>\n",
       "      <td>None</td>\n",
       "    </tr>\n",
       "    <tr>\n",
       "      <th>16</th>\n",
       "      <td>3fdm7z04</td>\n",
       "      <td>220812_fullrun_ 11</td>\n",
       "      <td>[220812, baseline_data, image]</td>\n",
       "      <td>{'losses': ['&lt;retinalrisk.models.loss_wrapper....</td>\n",
       "      <td>11</td>\n",
       "      <td>{'valid/phecode_337 - Polyneuropathies_CIndex'...</td>\n",
       "      <td>None</td>\n",
       "    </tr>\n",
       "    <tr>\n",
       "      <th>17</th>\n",
       "      <td>rids0apm</td>\n",
       "      <td>220812_fullrun_ 19</td>\n",
       "      <td>[220812, baseline_data, image]</td>\n",
       "      <td>{'losses': ['&lt;retinalrisk.models.loss_wrapper....</td>\n",
       "      <td>19</td>\n",
       "      <td>{'gradients/encoder.features.7.0.block.5.bias'...</td>\n",
       "      <td>None</td>\n",
       "    </tr>\n",
       "    <tr>\n",
       "      <th>18</th>\n",
       "      <td>onv5mdtx</td>\n",
       "      <td>220812_fullrun_ 18</td>\n",
       "      <td>[220812, baseline_data, image]</td>\n",
       "      <td>{'losses': ['&lt;retinalrisk.models.loss_wrapper....</td>\n",
       "      <td>18</td>\n",
       "      <td>{'valid/phecode_351 - Disturbances of skin sen...</td>\n",
       "      <td>None</td>\n",
       "    </tr>\n",
       "    <tr>\n",
       "      <th>19</th>\n",
       "      <td>1ab5sf8x</td>\n",
       "      <td>220812_fullrun_ 10</td>\n",
       "      <td>[220812, baseline_data, image]</td>\n",
       "      <td>{'losses': ['&lt;retinalrisk.models.loss_wrapper....</td>\n",
       "      <td>10</td>\n",
       "      <td>{'valid/phecode_144-2 - Benign neoplasms of th...</td>\n",
       "      <td>None</td>\n",
       "    </tr>\n",
       "    <tr>\n",
       "      <th>20</th>\n",
       "      <td>1mrr7n3b</td>\n",
       "      <td>220812_fullrun_ 17</td>\n",
       "      <td>[220812, baseline_data, image]</td>\n",
       "      <td>{'losses': ['&lt;retinalrisk.models.loss_wrapper....</td>\n",
       "      <td>17</td>\n",
       "      <td>{'valid/phecode_179 - Immunodeficiencies_CInde...</td>\n",
       "      <td>None</td>\n",
       "    </tr>\n",
       "    <tr>\n",
       "      <th>21</th>\n",
       "      <td>1hj3owhe</td>\n",
       "      <td>220812_fullrun_16</td>\n",
       "      <td>[220812, baseline_data, image]</td>\n",
       "      <td>{'losses': ['&lt;retinalrisk.models.loss_wrapper....</td>\n",
       "      <td>16</td>\n",
       "      <td>{'valid/phecode_721-11 - Trigger finger_CIndex...</td>\n",
       "      <td>None</td>\n",
       "    </tr>\n",
       "  </tbody>\n",
       "</table>\n",
       "</div>"
      ],
      "text/plain": [
       "          id                name                            tags  \\\n",
       "0   ljhjndx2      220812_fullrun  [220812, baseline_data, image]   \n",
       "1   1ts15g03      220812_fullrun  [220812, baseline_data, image]   \n",
       "2   jtx4az09   220812_fullrun_15  [220812, baseline_data, image]   \n",
       "3   10r747tq    220812_fullrun_3  [220812, baseline_data, image]   \n",
       "4   3kkkwx1h    220812_fullrun_8  [220812, baseline_data, image]   \n",
       "5   kr1fcpov    220812_fullrun_7  [220812, baseline_data, image]   \n",
       "6   2i64fvxa    220812_fullrun_2  [220812, baseline_data, image]   \n",
       "7   2lsliaj8   220812_fullrun_21  [220812, baseline_data, image]   \n",
       "8   9e6xmhpu   220812_fullrun_14  [220812, baseline_data, image]   \n",
       "9   227i0u0y   220812_fullrun_13  [220812, baseline_data, image]   \n",
       "10  3r2tl7yf   220812_fullrun_20  [220812, baseline_data, image]   \n",
       "11  3qdf1w29    220812_fullrun_5  [220812, baseline_data, image]   \n",
       "12  10lyj53i    220812_fullrun_6  [220812, baseline_data, image]   \n",
       "13  252j2c11    220812_fullrun_1  [220812, baseline_data, image]   \n",
       "14  k721isqz    220812_fullrun_0  [220812, baseline_data, image]   \n",
       "15  14jivz7l  220812_fullrun_ 12  [220812, baseline_data, image]   \n",
       "16  3fdm7z04  220812_fullrun_ 11  [220812, baseline_data, image]   \n",
       "17  rids0apm  220812_fullrun_ 19  [220812, baseline_data, image]   \n",
       "18  onv5mdtx  220812_fullrun_ 18  [220812, baseline_data, image]   \n",
       "19  1ab5sf8x  220812_fullrun_ 10  [220812, baseline_data, image]   \n",
       "20  1mrr7n3b  220812_fullrun_ 17  [220812, baseline_data, image]   \n",
       "21  1hj3owhe   220812_fullrun_16  [220812, baseline_data, image]   \n",
       "\n",
       "                                               config  partition  \\\n",
       "0   {'losses': ['<retinalrisk.models.loss_wrapper....          4   \n",
       "1   {'losses': ['<retinalrisk.models.loss_wrapper....          9   \n",
       "2   {'losses': ['<retinalrisk.models.loss_wrapper....         15   \n",
       "3   {'losses': ['<retinalrisk.models.loss_wrapper....          3   \n",
       "4   {'losses': ['<retinalrisk.models.loss_wrapper....          8   \n",
       "5   {'losses': ['<retinalrisk.models.loss_wrapper....          7   \n",
       "6   {'losses': ['<retinalrisk.models.loss_wrapper....          2   \n",
       "7   {'losses': ['<retinalrisk.models.loss_wrapper....         21   \n",
       "8   {'losses': ['<retinalrisk.models.loss_wrapper....         14   \n",
       "9   {'losses': ['<retinalrisk.models.loss_wrapper....         13   \n",
       "10  {'losses': ['<retinalrisk.models.loss_wrapper....         20   \n",
       "11  {'losses': ['<retinalrisk.models.loss_wrapper....          5   \n",
       "12  {'losses': ['<retinalrisk.models.loss_wrapper....          6   \n",
       "13  {'losses': ['<retinalrisk.models.loss_wrapper....          1   \n",
       "14  {'losses': ['<retinalrisk.models.loss_wrapper....          0   \n",
       "15  {'losses': ['<retinalrisk.models.loss_wrapper....         12   \n",
       "16  {'losses': ['<retinalrisk.models.loss_wrapper....         11   \n",
       "17  {'losses': ['<retinalrisk.models.loss_wrapper....         19   \n",
       "18  {'losses': ['<retinalrisk.models.loss_wrapper....         18   \n",
       "19  {'losses': ['<retinalrisk.models.loss_wrapper....         10   \n",
       "20  {'losses': ['<retinalrisk.models.loss_wrapper....         17   \n",
       "21  {'losses': ['<retinalrisk.models.loss_wrapper....         16   \n",
       "\n",
       "                                              summary  path  \n",
       "0   {'valid/phecode_526-11 - Intestinal e-coli_CIn...  None  \n",
       "1   {'gradients/encoder.features.5.19.block.0.bias...  None  \n",
       "2   {'valid/phecode_703-11 - Gout_CIndex': 0.69062...  None  \n",
       "3   {'valid/phecode_709-2 - Acquired deformities o...  None  \n",
       "4   {'valid/phecode_138 - Benign neoplasm of the s...  None  \n",
       "5   {'gradients/encoder.features.0.0.bias': {'bins...  None  \n",
       "6   {'valid/phecode_375 - Abnormal intraocular pre...  None  \n",
       "7   {'valid/phecode_526-12 - Intestinal infection ...  None  \n",
       "8   {'gradients/encoder.features.5.11.layer_scale'...  None  \n",
       "9   {'valid/phecode_410-2 - Endocarditis_CIndex': ...  None  \n",
       "10  {'valid/phecode_283 - Other behavioral problem...  None  \n",
       "11  {'valid/phecode_202-1 - Type 1 diabetes_CIndex...  None  \n",
       "12  {'valid/phecode_404-2 - Coronary atheroscleros...  None  \n",
       "13  {'valid/phecode_446-2 - Orthostatic hypotensio...  None  \n",
       "14  {'gradients/encoder.features.5.1.layer_scale':...  None  \n",
       "15  {'valid/phecode_232-29 - Folate deficiency [Vi...  None  \n",
       "16  {'valid/phecode_337 - Polyneuropathies_CIndex'...  None  \n",
       "17  {'gradients/encoder.features.7.0.block.5.bias'...  None  \n",
       "18  {'valid/phecode_351 - Disturbances of skin sen...  None  \n",
       "19  {'valid/phecode_144-2 - Benign neoplasms of th...  None  \n",
       "20  {'valid/phecode_179 - Immunodeficiencies_CInde...  None  \n",
       "21  {'valid/phecode_721-11 - Trigger finger_CIndex...  None  "
      ]
     },
     "execution_count": 8,
     "metadata": {},
     "output_type": "execute_result"
    }
   ],
   "source": [
    "runs_df"
   ]
  },
  {
   "cell_type": "code",
   "execution_count": 9,
   "metadata": {
    "execution": {
     "iopub.execute_input": "2022-08-22T13:57:52.113743Z",
     "iopub.status.busy": "2022-08-22T13:57:52.113654Z",
     "iopub.status.idle": "2022-08-22T13:57:52.118391Z",
     "shell.execute_reply": "2022-08-22T13:57:52.118099Z",
     "shell.execute_reply.started": "2022-08-22T13:57:52.113731Z"
    },
    "tags": []
   },
   "outputs": [
    {
     "data": {
      "text/plain": [
       "array([15, 14, 13, 12, 11, 10])"
      ]
     },
     "execution_count": 9,
     "metadata": {},
     "output_type": "execute_result"
    }
   ],
   "source": [
    "runs_df = runs_df.query('partition in @partitions')\n",
    "\n",
    "runs_df.partition.unique()"
   ]
  },
  {
   "cell_type": "code",
   "execution_count": 10,
   "metadata": {
    "execution": {
     "iopub.execute_input": "2022-08-22T13:57:52.119004Z",
     "iopub.status.busy": "2022-08-22T13:57:52.118919Z",
     "iopub.status.idle": "2022-08-22T13:57:52.132126Z",
     "shell.execute_reply": "2022-08-22T13:57:52.131831Z",
     "shell.execute_reply.started": "2022-08-22T13:57:52.118994Z"
    },
    "tags": []
   },
   "outputs": [],
   "source": [
    "BASE_HYPERPARAMS = [\n",
    " f'setup.name={TAG}_{JOBNAME}',\n",
    "    \"training.gradient_checkpointing=False\",\n",
    "    \"training.patience=40\",\n",
    "    \"datamodule/covariates=no_covariates\",\n",
    "    \"model=image\",\n",
    "    \"setup.use_data_artifact_if_available=False\",\n",
    "    \"head=mlp\",\n",
    "    \"head.kwargs.num_hidden=512\",\n",
    "    \"head.kwargs.num_layers=2\",\n",
    "    \"head.dropout=0.5\",\n",
    "    \"training.optimizer_kwargs.weight_decay=0.001\",\n",
    "    \"training.optimizer_kwargs.lr=0.0001\",\n",
    "    \"model.freeze_encoder=False\",\n",
    "    \"model.encoder=convnext_small\",\n",
    "    \"datamodule.batch_size=100\",\n",
    "    \"training.warmup_period=8\",\n",
    "    \"datamodule/augmentation=contrast_sharpness_posterize\",\n",
    "    \"datamodule.img_size_to_gpu=420\",\n",
    "    \"datamodule.num_workers=16\",\n",
    "    \"model.pretrained=True\",\n",
    " ]"
   ]
  },
  {
   "cell_type": "code",
   "execution_count": 11,
   "metadata": {
    "execution": {
     "iopub.execute_input": "2022-08-22T13:57:52.132638Z",
     "iopub.status.busy": "2022-08-22T13:57:52.132555Z",
     "iopub.status.idle": "2022-08-22T13:57:52.170625Z",
     "shell.execute_reply": "2022-08-22T13:57:52.170329Z",
     "shell.execute_reply.started": "2022-08-22T13:57:52.132628Z"
    },
    "tags": []
   },
   "outputs": [],
   "source": [
    "# in contrast to the job submission script these parameters will NOT be run through in a nested for-loop!\n",
    "# instead, we through them simultaneously!\n",
    "\n",
    "parameters = {\n",
    "    'setup.restore_id': runs_df.id.values.tolist(), \n",
    "    'datamodule.partition': runs_df.partition.values.tolist(),\n",
    "}"
   ]
  },
  {
   "cell_type": "markdown",
   "metadata": {},
   "source": [
    "#### Functions"
   ]
  },
  {
   "cell_type": "code",
   "execution_count": 12,
   "metadata": {
    "execution": {
     "iopub.execute_input": "2022-08-22T13:57:52.171153Z",
     "iopub.status.busy": "2022-08-22T13:57:52.171071Z",
     "iopub.status.idle": "2022-08-22T13:57:52.209234Z",
     "shell.execute_reply": "2022-08-22T13:57:52.208929Z",
     "shell.execute_reply.started": "2022-08-22T13:57:52.171142Z"
    },
    "tags": []
   },
   "outputs": [],
   "source": [
    "#SBATCH --gres=gpu:nvidia_a100-sxm-80gb:1           # Generic resources; 1 GPU\n",
    "def make_job_script(job_name, hyperparams):\n",
    "    \n",
    "    params_str = ' '.join(BASE_HYPERPARAMS + hyperparams)\n",
    "\n",
    "    job_script_str = f'''#!/bin/bash\n",
    "#SBATCH --job-name={job_name}                # Specify job name\n",
    "#SBATCH --partition=pgpu                     # Specify partition name\n",
    "#SBATCH --nodes=1-1                          # Specify number of nodes\n",
    "#SBATCH --cpus-per-gpu=32\n",
    "#SBATCH --mem=200GB                          # Use entire memory of node\n",
    "#SBATCH --gres=gpu:nvidia_a100-sxm4-80gb:1   # Generic resources; 1 80GB GPU\n",
    "#SBATCH --time=50:00:00                      # Set a limit on the total run time\n",
    "#SBATCH --error={SUBMISSION_BASE}/{EXPERIMENT_NAME}/job_outputs/slurm-%A_%a.err\n",
    "#SBATCH --output={SUBMISSION_BASE}/{EXPERIMENT_NAME}/job_outputs/slurm-%A_%a.out\n",
    "\n",
    "source ~/miniconda3/etc/profile.d/conda.sh\n",
    "conda activate /sc-projects/sc-proj-ukb-cvd/environments/retina\n",
    "\n",
    "python {TRAIN_SCRIPT} --config-path {TEMPLATE_CONFIG} ''' + params_str\n",
    "    \n",
    "    return job_script_str"
   ]
  },
  {
   "cell_type": "code",
   "execution_count": 13,
   "metadata": {
    "execution": {
     "iopub.execute_input": "2022-08-22T13:57:52.210472Z",
     "iopub.status.busy": "2022-08-22T13:57:52.210384Z",
     "iopub.status.idle": "2022-08-22T13:57:52.248635Z",
     "shell.execute_reply": "2022-08-22T13:57:52.248331Z",
     "shell.execute_reply.started": "2022-08-22T13:57:52.210461Z"
    },
    "tags": []
   },
   "outputs": [],
   "source": [
    "def submit(path, job_name, job_script, time_stamp=None):\n",
    "    if not time_stamp:\n",
    "        time_stamp = datetime.datetime.now().strftime(\"%Y-%m-%d_%H:%M:%S\")\n",
    "        \n",
    "    script_path_long = f'{path}/{job_name}_{time_stamp}.sh'\n",
    "\n",
    "    with open(script_path_long, 'w') as outfile: \n",
    "        outfile.write(job_script)\n",
    "    script_path = f'{path}/{job_name}.sh'\n",
    "    try:\n",
    "        os.unlink(script_path)\n",
    "    except FileNotFoundError: # because we cannot overwrite symlinks directly\n",
    "        pass\n",
    "    os.symlink(os.path.realpath(script_path_long), script_path)\n",
    "\n",
    "    print('\\n\\nSubmission:\\n===========\\n')\n",
    "    sub_cmd = f'sbatch < {script_path}'\n",
    "    print(sub_cmd)\n",
    "    \n",
    "    ret = subprocess.run(sub_cmd, shell=True, cwd=os.getcwd(), stdout=subprocess.PIPE, stderr=subprocess.PIPE)\n",
    "    print(ret.stdout.decode())"
   ]
  },
  {
   "cell_type": "markdown",
   "metadata": {},
   "source": [
    "## RUN"
   ]
  },
  {
   "cell_type": "code",
   "execution_count": 14,
   "metadata": {
    "execution": {
     "iopub.execute_input": "2022-08-22T13:57:52.249160Z",
     "iopub.status.busy": "2022-08-22T13:57:52.249075Z",
     "iopub.status.idle": "2022-08-22T13:57:52.285945Z",
     "shell.execute_reply": "2022-08-22T13:57:52.285651Z",
     "shell.execute_reply.started": "2022-08-22T13:57:52.249149Z"
    },
    "tags": []
   },
   "outputs": [],
   "source": [
    "jobids = []"
   ]
  },
  {
   "cell_type": "code",
   "execution_count": 15,
   "metadata": {
    "execution": {
     "iopub.execute_input": "2022-08-22T13:57:52.286444Z",
     "iopub.status.busy": "2022-08-22T13:57:52.286362Z",
     "iopub.status.idle": "2022-08-22T13:57:52.814532Z",
     "shell.execute_reply": "2022-08-22T13:57:52.814045Z",
     "shell.execute_reply.started": "2022-08-22T13:57:52.286433Z"
    },
    "tags": []
   },
   "outputs": [
    {
     "name": "stdout",
     "output_type": "stream",
     "text": [
      "#!/bin/bash\n",
      "#SBATCH --job-name=write_preds                # Specify job name\n",
      "#SBATCH --partition=pgpu                     # Specify partition name\n",
      "#SBATCH --nodes=1-1                          # Specify number of nodes\n",
      "#SBATCH --cpus-per-gpu=32\n",
      "#SBATCH --mem=200GB                          # Use entire memory of node\n",
      "#SBATCH --gres=gpu:nvidia_a100-sxm4-80gb:1   # Generic resources; 1 80GB GPU\n",
      "#SBATCH --time=50:00:00                      # Set a limit on the total run time\n",
      "#SBATCH --error=/sc-projects/sc-proj-ukb-cvd/submissions/RetinalRisk/22_retinalrisk_220812_write_preds/job_outputs/slurm-%A_%a.err\n",
      "#SBATCH --output=/sc-projects/sc-proj-ukb-cvd/submissions/RetinalRisk/22_retinalrisk_220812_write_preds/job_outputs/slurm-%A_%a.out\n",
      "\n",
      "source ~/miniconda3/etc/profile.d/conda.sh\n",
      "conda activate /sc-projects/sc-proj-ukb-cvd/environments/retina\n",
      "\n",
      "python /sc-projects/sc-proj-ukb-cvd/code/RetinalRisk/retinalrisk/scripts/predict_retina.py --config-path /sc-projects/sc-proj-ukb-cvd/code/RetinalRisk/config/ setup.name=220812_write_preds training.gradient_checkpointing=False training.patience=40 datamodule/covariates=no_covariates model=image setup.use_data_artifact_if_available=False head=mlp head.kwargs.num_hidden=512 head.kwargs.num_layers=2 head.dropout=0.5 training.optimizer_kwargs.weight_decay=0.001 training.optimizer_kwargs.lr=0.0001 model.freeze_encoder=False model.encoder=convnext_small datamodule.batch_size=100 training.warmup_period=8 datamodule/augmentation=contrast_sharpness_posterize datamodule.img_size_to_gpu=420 datamodule.num_workers=16 model.pretrained=True setup.restore_id=jtx4az09 datamodule.partition=15\n",
      "\n",
      "\n",
      "Submission:\n",
      "===========\n",
      "\n",
      "sbatch < /sc-projects/sc-proj-ukb-cvd/submissions/RetinalRisk/22_retinalrisk_220812_write_preds/job_submissions/write_preds_0.sh\n",
      "Submitted batch job 420767\n",
      "\n",
      "#!/bin/bash\n",
      "#SBATCH --job-name=write_preds                # Specify job name\n",
      "#SBATCH --partition=pgpu                     # Specify partition name\n",
      "#SBATCH --nodes=1-1                          # Specify number of nodes\n",
      "#SBATCH --cpus-per-gpu=32\n",
      "#SBATCH --mem=200GB                          # Use entire memory of node\n",
      "#SBATCH --gres=gpu:nvidia_a100-sxm4-80gb:1   # Generic resources; 1 80GB GPU\n",
      "#SBATCH --time=50:00:00                      # Set a limit on the total run time\n",
      "#SBATCH --error=/sc-projects/sc-proj-ukb-cvd/submissions/RetinalRisk/22_retinalrisk_220812_write_preds/job_outputs/slurm-%A_%a.err\n",
      "#SBATCH --output=/sc-projects/sc-proj-ukb-cvd/submissions/RetinalRisk/22_retinalrisk_220812_write_preds/job_outputs/slurm-%A_%a.out\n",
      "\n",
      "source ~/miniconda3/etc/profile.d/conda.sh\n",
      "conda activate /sc-projects/sc-proj-ukb-cvd/environments/retina\n",
      "\n",
      "python /sc-projects/sc-proj-ukb-cvd/code/RetinalRisk/retinalrisk/scripts/predict_retina.py --config-path /sc-projects/sc-proj-ukb-cvd/code/RetinalRisk/config/ setup.name=220812_write_preds training.gradient_checkpointing=False training.patience=40 datamodule/covariates=no_covariates model=image setup.use_data_artifact_if_available=False head=mlp head.kwargs.num_hidden=512 head.kwargs.num_layers=2 head.dropout=0.5 training.optimizer_kwargs.weight_decay=0.001 training.optimizer_kwargs.lr=0.0001 model.freeze_encoder=False model.encoder=convnext_small datamodule.batch_size=100 training.warmup_period=8 datamodule/augmentation=contrast_sharpness_posterize datamodule.img_size_to_gpu=420 datamodule.num_workers=16 model.pretrained=True setup.restore_id=9e6xmhpu datamodule.partition=14\n",
      "\n",
      "\n",
      "Submission:\n",
      "===========\n",
      "\n",
      "sbatch < /sc-projects/sc-proj-ukb-cvd/submissions/RetinalRisk/22_retinalrisk_220812_write_preds/job_submissions/write_preds_1.sh\n",
      "Submitted batch job 420768\n",
      "\n",
      "#!/bin/bash\n",
      "#SBATCH --job-name=write_preds                # Specify job name\n",
      "#SBATCH --partition=pgpu                     # Specify partition name\n",
      "#SBATCH --nodes=1-1                          # Specify number of nodes\n",
      "#SBATCH --cpus-per-gpu=32\n",
      "#SBATCH --mem=200GB                          # Use entire memory of node\n",
      "#SBATCH --gres=gpu:nvidia_a100-sxm4-80gb:1   # Generic resources; 1 80GB GPU\n",
      "#SBATCH --time=50:00:00                      # Set a limit on the total run time\n",
      "#SBATCH --error=/sc-projects/sc-proj-ukb-cvd/submissions/RetinalRisk/22_retinalrisk_220812_write_preds/job_outputs/slurm-%A_%a.err\n",
      "#SBATCH --output=/sc-projects/sc-proj-ukb-cvd/submissions/RetinalRisk/22_retinalrisk_220812_write_preds/job_outputs/slurm-%A_%a.out\n",
      "\n",
      "source ~/miniconda3/etc/profile.d/conda.sh\n",
      "conda activate /sc-projects/sc-proj-ukb-cvd/environments/retina\n",
      "\n",
      "python /sc-projects/sc-proj-ukb-cvd/code/RetinalRisk/retinalrisk/scripts/predict_retina.py --config-path /sc-projects/sc-proj-ukb-cvd/code/RetinalRisk/config/ setup.name=220812_write_preds training.gradient_checkpointing=False training.patience=40 datamodule/covariates=no_covariates model=image setup.use_data_artifact_if_available=False head=mlp head.kwargs.num_hidden=512 head.kwargs.num_layers=2 head.dropout=0.5 training.optimizer_kwargs.weight_decay=0.001 training.optimizer_kwargs.lr=0.0001 model.freeze_encoder=False model.encoder=convnext_small datamodule.batch_size=100 training.warmup_period=8 datamodule/augmentation=contrast_sharpness_posterize datamodule.img_size_to_gpu=420 datamodule.num_workers=16 model.pretrained=True setup.restore_id=227i0u0y datamodule.partition=13\n",
      "\n",
      "\n",
      "Submission:\n",
      "===========\n",
      "\n",
      "sbatch < /sc-projects/sc-proj-ukb-cvd/submissions/RetinalRisk/22_retinalrisk_220812_write_preds/job_submissions/write_preds_2.sh\n",
      "Submitted batch job 420769\n",
      "\n",
      "#!/bin/bash\n",
      "#SBATCH --job-name=write_preds                # Specify job name\n",
      "#SBATCH --partition=pgpu                     # Specify partition name\n",
      "#SBATCH --nodes=1-1                          # Specify number of nodes\n",
      "#SBATCH --cpus-per-gpu=32\n",
      "#SBATCH --mem=200GB                          # Use entire memory of node\n",
      "#SBATCH --gres=gpu:nvidia_a100-sxm4-80gb:1   # Generic resources; 1 80GB GPU\n",
      "#SBATCH --time=50:00:00                      # Set a limit on the total run time\n",
      "#SBATCH --error=/sc-projects/sc-proj-ukb-cvd/submissions/RetinalRisk/22_retinalrisk_220812_write_preds/job_outputs/slurm-%A_%a.err\n",
      "#SBATCH --output=/sc-projects/sc-proj-ukb-cvd/submissions/RetinalRisk/22_retinalrisk_220812_write_preds/job_outputs/slurm-%A_%a.out\n",
      "\n",
      "source ~/miniconda3/etc/profile.d/conda.sh\n",
      "conda activate /sc-projects/sc-proj-ukb-cvd/environments/retina\n",
      "\n",
      "python /sc-projects/sc-proj-ukb-cvd/code/RetinalRisk/retinalrisk/scripts/predict_retina.py --config-path /sc-projects/sc-proj-ukb-cvd/code/RetinalRisk/config/ setup.name=220812_write_preds training.gradient_checkpointing=False training.patience=40 datamodule/covariates=no_covariates model=image setup.use_data_artifact_if_available=False head=mlp head.kwargs.num_hidden=512 head.kwargs.num_layers=2 head.dropout=0.5 training.optimizer_kwargs.weight_decay=0.001 training.optimizer_kwargs.lr=0.0001 model.freeze_encoder=False model.encoder=convnext_small datamodule.batch_size=100 training.warmup_period=8 datamodule/augmentation=contrast_sharpness_posterize datamodule.img_size_to_gpu=420 datamodule.num_workers=16 model.pretrained=True setup.restore_id=14jivz7l datamodule.partition=12\n",
      "\n",
      "\n",
      "Submission:\n",
      "===========\n",
      "\n",
      "sbatch < /sc-projects/sc-proj-ukb-cvd/submissions/RetinalRisk/22_retinalrisk_220812_write_preds/job_submissions/write_preds_3.sh\n",
      "Submitted batch job 420770\n",
      "\n",
      "#!/bin/bash\n",
      "#SBATCH --job-name=write_preds                # Specify job name\n",
      "#SBATCH --partition=pgpu                     # Specify partition name\n",
      "#SBATCH --nodes=1-1                          # Specify number of nodes\n",
      "#SBATCH --cpus-per-gpu=32\n",
      "#SBATCH --mem=200GB                          # Use entire memory of node\n",
      "#SBATCH --gres=gpu:nvidia_a100-sxm4-80gb:1   # Generic resources; 1 80GB GPU\n",
      "#SBATCH --time=50:00:00                      # Set a limit on the total run time\n",
      "#SBATCH --error=/sc-projects/sc-proj-ukb-cvd/submissions/RetinalRisk/22_retinalrisk_220812_write_preds/job_outputs/slurm-%A_%a.err\n",
      "#SBATCH --output=/sc-projects/sc-proj-ukb-cvd/submissions/RetinalRisk/22_retinalrisk_220812_write_preds/job_outputs/slurm-%A_%a.out\n",
      "\n",
      "source ~/miniconda3/etc/profile.d/conda.sh\n",
      "conda activate /sc-projects/sc-proj-ukb-cvd/environments/retina\n",
      "\n",
      "python /sc-projects/sc-proj-ukb-cvd/code/RetinalRisk/retinalrisk/scripts/predict_retina.py --config-path /sc-projects/sc-proj-ukb-cvd/code/RetinalRisk/config/ setup.name=220812_write_preds training.gradient_checkpointing=False training.patience=40 datamodule/covariates=no_covariates model=image setup.use_data_artifact_if_available=False head=mlp head.kwargs.num_hidden=512 head.kwargs.num_layers=2 head.dropout=0.5 training.optimizer_kwargs.weight_decay=0.001 training.optimizer_kwargs.lr=0.0001 model.freeze_encoder=False model.encoder=convnext_small datamodule.batch_size=100 training.warmup_period=8 datamodule/augmentation=contrast_sharpness_posterize datamodule.img_size_to_gpu=420 datamodule.num_workers=16 model.pretrained=True setup.restore_id=3fdm7z04 datamodule.partition=11\n",
      "\n",
      "\n",
      "Submission:\n",
      "===========\n",
      "\n",
      "sbatch < /sc-projects/sc-proj-ukb-cvd/submissions/RetinalRisk/22_retinalrisk_220812_write_preds/job_submissions/write_preds_4.sh\n",
      "Submitted batch job 420771\n",
      "\n",
      "#!/bin/bash\n",
      "#SBATCH --job-name=write_preds                # Specify job name\n",
      "#SBATCH --partition=pgpu                     # Specify partition name\n",
      "#SBATCH --nodes=1-1                          # Specify number of nodes\n",
      "#SBATCH --cpus-per-gpu=32\n",
      "#SBATCH --mem=200GB                          # Use entire memory of node\n",
      "#SBATCH --gres=gpu:nvidia_a100-sxm4-80gb:1   # Generic resources; 1 80GB GPU\n",
      "#SBATCH --time=50:00:00                      # Set a limit on the total run time\n",
      "#SBATCH --error=/sc-projects/sc-proj-ukb-cvd/submissions/RetinalRisk/22_retinalrisk_220812_write_preds/job_outputs/slurm-%A_%a.err\n",
      "#SBATCH --output=/sc-projects/sc-proj-ukb-cvd/submissions/RetinalRisk/22_retinalrisk_220812_write_preds/job_outputs/slurm-%A_%a.out\n",
      "\n",
      "source ~/miniconda3/etc/profile.d/conda.sh\n",
      "conda activate /sc-projects/sc-proj-ukb-cvd/environments/retina\n",
      "\n",
      "python /sc-projects/sc-proj-ukb-cvd/code/RetinalRisk/retinalrisk/scripts/predict_retina.py --config-path /sc-projects/sc-proj-ukb-cvd/code/RetinalRisk/config/ setup.name=220812_write_preds training.gradient_checkpointing=False training.patience=40 datamodule/covariates=no_covariates model=image setup.use_data_artifact_if_available=False head=mlp head.kwargs.num_hidden=512 head.kwargs.num_layers=2 head.dropout=0.5 training.optimizer_kwargs.weight_decay=0.001 training.optimizer_kwargs.lr=0.0001 model.freeze_encoder=False model.encoder=convnext_small datamodule.batch_size=100 training.warmup_period=8 datamodule/augmentation=contrast_sharpness_posterize datamodule.img_size_to_gpu=420 datamodule.num_workers=16 model.pretrained=True setup.restore_id=1ab5sf8x datamodule.partition=10\n",
      "\n",
      "\n",
      "Submission:\n",
      "===========\n",
      "\n",
      "sbatch < /sc-projects/sc-proj-ukb-cvd/submissions/RetinalRisk/22_retinalrisk_220812_write_preds/job_submissions/write_preds_5.sh\n",
      "Submitted batch job 420772\n",
      "\n"
     ]
    }
   ],
   "source": [
    "for i, hp_vals in enumerate(zip(*parameters.values())):\n",
    "    hyperparams = [f\"{p}={v}\" for p, v in zip(parameters.keys(), hp_vals)]\n",
    "    \n",
    "    job_script = make_job_script(job_name=JOBNAME,\n",
    "                                 hyperparams=hyperparams)\n",
    "    print(job_script)\n",
    "\n",
    "    jobid = submit(path=f\"{SUBMISSION_BASE}/{EXPERIMENT_NAME}/job_submissions\",\n",
    "#     jobid = submit(path=f\"/home/{USER}/tmp/{EXPERIMENT_NAME}/job_submissions\",\n",
    "                   job_name=JOBNAME+f'_{i}',\n",
    "                   job_script=job_script)\n",
    "\n",
    "    jobids.append(jobid)"
   ]
  },
  {
   "cell_type": "code",
   "execution_count": 16,
   "metadata": {
    "execution": {
     "iopub.execute_input": "2022-08-22T13:57:52.815388Z",
     "iopub.status.busy": "2022-08-22T13:57:52.815282Z",
     "iopub.status.idle": "2022-08-22T13:57:52.817953Z",
     "shell.execute_reply": "2022-08-22T13:57:52.817645Z",
     "shell.execute_reply.started": "2022-08-22T13:57:52.815374Z"
    },
    "tags": []
   },
   "outputs": [
    {
     "name": "stdout",
     "output_type": "stream",
     "text": [
      "[None, None, None, None, None, None]\n"
     ]
    }
   ],
   "source": [
    "print(jobids)"
   ]
  },
  {
   "cell_type": "code",
   "execution_count": null,
   "metadata": {},
   "outputs": [],
   "source": []
  },
  {
   "cell_type": "code",
   "execution_count": null,
   "metadata": {},
   "outputs": [],
   "source": []
  },
  {
   "cell_type": "code",
   "execution_count": null,
   "metadata": {},
   "outputs": [],
   "source": []
  }
 ],
 "metadata": {
  "kernelspec": {
   "display_name": "Python 3 (ipykernel)",
   "language": "python",
   "name": "python3"
  },
  "language_info": {
   "codemirror_mode": {
    "name": "ipython",
    "version": 3
   },
   "file_extension": ".py",
   "mimetype": "text/x-python",
   "name": "python",
   "nbconvert_exporter": "python",
   "pygments_lexer": "ipython3",
   "version": "3.9.7"
  },
  "toc-autonumbering": true,
  "toc-showcode": true,
  "toc-showmarkdowntxt": true
 },
 "nbformat": 4,
 "nbformat_minor": 4
}
