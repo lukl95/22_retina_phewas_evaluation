{
 "cells": [
  {
   "cell_type": "markdown",
   "id": "a0356bbd-8a74-4a14-901c-8359f619f03e",
   "metadata": {},
   "source": [
    "# TEST LOGHS DIFFERENCE TESTS"
   ]
  },
  {
   "cell_type": "code",
   "execution_count": 1,
   "id": "5465bd03-904a-48c9-b625-68788919fae5",
   "metadata": {
    "execution": {
     "iopub.execute_input": "2022-11-29T21:51:58.478613Z",
     "iopub.status.busy": "2022-11-29T21:51:58.478474Z",
     "iopub.status.idle": "2022-11-29T21:52:00.623685Z",
     "shell.execute_reply": "2022-11-29T21:52:00.623011Z",
     "shell.execute_reply.started": "2022-11-29T21:51:58.478558Z"
    },
    "tags": []
   },
   "outputs": [],
   "source": [
    "import pandas as pd"
   ]
  },
  {
   "cell_type": "code",
   "execution_count": 35,
   "id": "20418e46-8b9a-40f1-9cef-7280b72d7a90",
   "metadata": {
    "execution": {
     "iopub.execute_input": "2022-11-09T08:56:11.590926Z",
     "iopub.status.busy": "2022-11-09T08:56:11.590481Z",
     "iopub.status.idle": "2022-11-09T08:56:11.592900Z",
     "shell.execute_reply": "2022-11-09T08:56:11.592473Z",
     "shell.execute_reply.started": "2022-11-09T08:56:11.590908Z"
    },
    "tags": []
   },
   "outputs": [],
   "source": [
    "base_path = '/sc-projects/sc-proj-ukb-cvd/results/projects/22_retina_phewas/data/221108'"
   ]
  },
  {
   "cell_type": "code",
   "execution_count": 36,
   "id": "c59cb200-11b9-4a67-9135-c77337ab0162",
   "metadata": {
    "execution": {
     "iopub.execute_input": "2022-11-09T08:56:11.989713Z",
     "iopub.status.busy": "2022-11-09T08:56:11.989151Z",
     "iopub.status.idle": "2022-11-09T08:56:12.050991Z",
     "shell.execute_reply": "2022-11-09T08:56:12.050502Z",
     "shell.execute_reply.started": "2022-11-09T08:56:11.989685Z"
    },
    "tags": []
   },
   "outputs": [
    {
     "data": {
      "text/plain": [
       "5567"
      ]
     },
     "execution_count": 36,
     "metadata": {},
     "output_type": "execute_result"
    }
   ],
   "source": [
    "loghs = pd.read_feather(f'{base_path}/loghs/ImageTraining_[]_ConvNeXt_MLPHead_predictions_cropratio0.66/0/test.feather')\n",
    "loghs.eid.nunique()"
   ]
  },
  {
   "cell_type": "code",
   "execution_count": 37,
   "id": "ebd31b66-fe41-4420-ae5a-2dfa4b23ecb0",
   "metadata": {
    "execution": {
     "iopub.execute_input": "2022-11-09T08:56:12.411323Z",
     "iopub.status.busy": "2022-11-09T08:56:12.410886Z",
     "iopub.status.idle": "2022-11-09T08:56:12.468223Z",
     "shell.execute_reply": "2022-11-09T08:56:12.467730Z",
     "shell.execute_reply.started": "2022-11-09T08:56:12.411303Z"
    },
    "tags": []
   },
   "outputs": [
    {
     "data": {
      "text/plain": [
       "5567"
      ]
     },
     "execution_count": 37,
     "metadata": {},
     "output_type": "execute_result"
    }
   ],
   "source": [
    "cox_input = pd.read_feather(f'{base_path}/coxph/input/ImageTraining_[]_ConvNeXt_MLPHead_predictions_cropratio0.66/0/test.feather')\n",
    "cox_input.eid.nunique()"
   ]
  },
  {
   "cell_type": "code",
   "execution_count": 38,
   "id": "96bb6de8-33fa-4b95-8b6f-751b7f47c3e3",
   "metadata": {
    "execution": {
     "iopub.execute_input": "2022-11-09T08:56:28.282288Z",
     "iopub.status.busy": "2022-11-09T08:56:28.281941Z",
     "iopub.status.idle": "2022-11-09T08:56:28.291948Z",
     "shell.execute_reply": "2022-11-09T08:56:28.291410Z",
     "shell.execute_reply.started": "2022-11-09T08:56:28.282268Z"
    },
    "tags": []
   },
   "outputs": [],
   "source": [
    "cox_preds = pd.read_feather(f'{base_path}/coxph/predictions/phecode_979_Age+Sex_ImageTraining_[]_ConvNeXt_MLPHead_predictions_cropratio0.66_0.feather')"
   ]
  },
  {
   "cell_type": "code",
   "execution_count": 39,
   "id": "9dff2190-6cce-4e84-bea3-e7395d3cd273",
   "metadata": {
    "execution": {
     "iopub.execute_input": "2022-11-09T08:56:28.686689Z",
     "iopub.status.busy": "2022-11-09T08:56:28.686154Z",
     "iopub.status.idle": "2022-11-09T08:56:28.698009Z",
     "shell.execute_reply": "2022-11-09T08:56:28.697586Z",
     "shell.execute_reply.started": "2022-11-09T08:56:28.686667Z"
    },
    "tags": []
   },
   "outputs": [
    {
     "data": {
      "text/html": [
       "<div>\n",
       "<style scoped>\n",
       "    .dataframe tbody tr th:only-of-type {\n",
       "        vertical-align: middle;\n",
       "    }\n",
       "\n",
       "    .dataframe tbody tr th {\n",
       "        vertical-align: top;\n",
       "    }\n",
       "\n",
       "    .dataframe thead th {\n",
       "        text-align: right;\n",
       "    }\n",
       "</style>\n",
       "<table border=\"1\" class=\"dataframe\">\n",
       "  <thead>\n",
       "    <tr style=\"text-align: right;\">\n",
       "      <th></th>\n",
       "      <th>eid</th>\n",
       "      <th>endpoint</th>\n",
       "      <th>features</th>\n",
       "      <th>partition</th>\n",
       "      <th>Ft_1</th>\n",
       "      <th>Ft_2</th>\n",
       "      <th>Ft_3</th>\n",
       "      <th>Ft_4</th>\n",
       "      <th>Ft_5</th>\n",
       "      <th>Ft_6</th>\n",
       "      <th>Ft_7</th>\n",
       "      <th>Ft_8</th>\n",
       "      <th>Ft_9</th>\n",
       "      <th>Ft_10</th>\n",
       "      <th>Ft_11</th>\n",
       "      <th>Ft_12</th>\n",
       "      <th>Ft_13</th>\n",
       "      <th>Ft_14</th>\n",
       "      <th>Ft_15</th>\n",
       "    </tr>\n",
       "  </thead>\n",
       "  <tbody>\n",
       "    <tr>\n",
       "      <th>0</th>\n",
       "      <td>1475840</td>\n",
       "      <td>phecode_979</td>\n",
       "      <td>Age+Sex</td>\n",
       "      <td>0</td>\n",
       "      <td>0.000314</td>\n",
       "      <td>0.000773</td>\n",
       "      <td>0.001131</td>\n",
       "      <td>0.001435</td>\n",
       "      <td>0.001725</td>\n",
       "      <td>0.001958</td>\n",
       "      <td>0.002280</td>\n",
       "      <td>0.002663</td>\n",
       "      <td>0.003198</td>\n",
       "      <td>0.003617</td>\n",
       "      <td>0.003979</td>\n",
       "      <td>0.004230</td>\n",
       "      <td>0.004230</td>\n",
       "      <td>0.004230</td>\n",
       "      <td>0.004230</td>\n",
       "    </tr>\n",
       "    <tr>\n",
       "      <th>1</th>\n",
       "      <td>1475895</td>\n",
       "      <td>phecode_979</td>\n",
       "      <td>Age+Sex</td>\n",
       "      <td>0</td>\n",
       "      <td>0.000125</td>\n",
       "      <td>0.000306</td>\n",
       "      <td>0.000449</td>\n",
       "      <td>0.000569</td>\n",
       "      <td>0.000684</td>\n",
       "      <td>0.000777</td>\n",
       "      <td>0.000905</td>\n",
       "      <td>0.001057</td>\n",
       "      <td>0.001269</td>\n",
       "      <td>0.001436</td>\n",
       "      <td>0.001580</td>\n",
       "      <td>0.001679</td>\n",
       "      <td>0.001679</td>\n",
       "      <td>0.001679</td>\n",
       "      <td>0.001679</td>\n",
       "    </tr>\n",
       "    <tr>\n",
       "      <th>2</th>\n",
       "      <td>1475910</td>\n",
       "      <td>phecode_979</td>\n",
       "      <td>Age+Sex</td>\n",
       "      <td>0</td>\n",
       "      <td>0.000123</td>\n",
       "      <td>0.000303</td>\n",
       "      <td>0.000443</td>\n",
       "      <td>0.000562</td>\n",
       "      <td>0.000675</td>\n",
       "      <td>0.000767</td>\n",
       "      <td>0.000893</td>\n",
       "      <td>0.001044</td>\n",
       "      <td>0.001253</td>\n",
       "      <td>0.001417</td>\n",
       "      <td>0.001559</td>\n",
       "      <td>0.001658</td>\n",
       "      <td>0.001658</td>\n",
       "      <td>0.001658</td>\n",
       "      <td>0.001658</td>\n",
       "    </tr>\n",
       "    <tr>\n",
       "      <th>3</th>\n",
       "      <td>1475935</td>\n",
       "      <td>phecode_979</td>\n",
       "      <td>Age+Sex</td>\n",
       "      <td>0</td>\n",
       "      <td>0.000133</td>\n",
       "      <td>0.000327</td>\n",
       "      <td>0.000478</td>\n",
       "      <td>0.000607</td>\n",
       "      <td>0.000729</td>\n",
       "      <td>0.000828</td>\n",
       "      <td>0.000964</td>\n",
       "      <td>0.001127</td>\n",
       "      <td>0.001353</td>\n",
       "      <td>0.001530</td>\n",
       "      <td>0.001684</td>\n",
       "      <td>0.001790</td>\n",
       "      <td>0.001790</td>\n",
       "      <td>0.001790</td>\n",
       "      <td>0.001790</td>\n",
       "    </tr>\n",
       "    <tr>\n",
       "      <th>4</th>\n",
       "      <td>1476077</td>\n",
       "      <td>phecode_979</td>\n",
       "      <td>Age+Sex</td>\n",
       "      <td>0</td>\n",
       "      <td>0.000299</td>\n",
       "      <td>0.000734</td>\n",
       "      <td>0.001074</td>\n",
       "      <td>0.001363</td>\n",
       "      <td>0.001639</td>\n",
       "      <td>0.001860</td>\n",
       "      <td>0.002166</td>\n",
       "      <td>0.002531</td>\n",
       "      <td>0.003039</td>\n",
       "      <td>0.003437</td>\n",
       "      <td>0.003781</td>\n",
       "      <td>0.004020</td>\n",
       "      <td>0.004020</td>\n",
       "      <td>0.004020</td>\n",
       "      <td>0.004020</td>\n",
       "    </tr>\n",
       "  </tbody>\n",
       "</table>\n",
       "</div>"
      ],
      "text/plain": [
       "       eid     endpoint features  partition      Ft_1      Ft_2      Ft_3  \\\n",
       "0  1475840  phecode_979  Age+Sex          0  0.000314  0.000773  0.001131   \n",
       "1  1475895  phecode_979  Age+Sex          0  0.000125  0.000306  0.000449   \n",
       "2  1475910  phecode_979  Age+Sex          0  0.000123  0.000303  0.000443   \n",
       "3  1475935  phecode_979  Age+Sex          0  0.000133  0.000327  0.000478   \n",
       "4  1476077  phecode_979  Age+Sex          0  0.000299  0.000734  0.001074   \n",
       "\n",
       "       Ft_4      Ft_5      Ft_6      Ft_7      Ft_8      Ft_9     Ft_10  \\\n",
       "0  0.001435  0.001725  0.001958  0.002280  0.002663  0.003198  0.003617   \n",
       "1  0.000569  0.000684  0.000777  0.000905  0.001057  0.001269  0.001436   \n",
       "2  0.000562  0.000675  0.000767  0.000893  0.001044  0.001253  0.001417   \n",
       "3  0.000607  0.000729  0.000828  0.000964  0.001127  0.001353  0.001530   \n",
       "4  0.001363  0.001639  0.001860  0.002166  0.002531  0.003039  0.003437   \n",
       "\n",
       "      Ft_11     Ft_12     Ft_13     Ft_14     Ft_15  \n",
       "0  0.003979  0.004230  0.004230  0.004230  0.004230  \n",
       "1  0.001580  0.001679  0.001679  0.001679  0.001679  \n",
       "2  0.001559  0.001658  0.001658  0.001658  0.001658  \n",
       "3  0.001684  0.001790  0.001790  0.001790  0.001790  \n",
       "4  0.003781  0.004020  0.004020  0.004020  0.004020  "
      ]
     },
     "execution_count": 39,
     "metadata": {},
     "output_type": "execute_result"
    }
   ],
   "source": [
    "cox_preds.head()"
   ]
  },
  {
   "cell_type": "code",
   "execution_count": 40,
   "id": "db4859f8-9180-41d4-ad3d-c48afb8fa856",
   "metadata": {
    "execution": {
     "iopub.execute_input": "2022-11-09T08:56:30.438693Z",
     "iopub.status.busy": "2022-11-09T08:56:30.438203Z",
     "iopub.status.idle": "2022-11-09T08:56:30.443405Z",
     "shell.execute_reply": "2022-11-09T08:56:30.442989Z",
     "shell.execute_reply.started": "2022-11-09T08:56:30.438673Z"
    },
    "tags": []
   },
   "outputs": [
    {
     "data": {
      "text/plain": [
       "5556"
      ]
     },
     "execution_count": 40,
     "metadata": {},
     "output_type": "execute_result"
    }
   ],
   "source": [
    "len(set(loghs.eid.values.tolist()).intersection(set(cox_preds.eid.values.tolist())))"
   ]
  },
  {
   "cell_type": "code",
   "execution_count": 41,
   "id": "30e59e5d-4d86-4ac6-86d9-063aa57c0a21",
   "metadata": {
    "execution": {
     "iopub.execute_input": "2022-11-09T08:56:34.770762Z",
     "iopub.status.busy": "2022-11-09T08:56:34.770302Z",
     "iopub.status.idle": "2022-11-09T08:56:40.356708Z",
     "shell.execute_reply": "2022-11-09T08:56:40.356095Z",
     "shell.execute_reply.started": "2022-11-09T08:56:34.770742Z"
    },
    "tags": []
   },
   "outputs": [],
   "source": [
    "eligable_eids = pd.read_feather(\"/sc-projects/sc-proj-ukb-cvd/results/projects/22_retina_phewas/data/eligable_eids_220824.feather\")\n",
    "eids_dict = eligable_eids.set_index(\"endpoint\")[\"eid_list\"].to_dict()"
   ]
  },
  {
   "cell_type": "code",
   "execution_count": 42,
   "id": "97ceffac-a22e-4a7a-a37e-6c343865368b",
   "metadata": {
    "execution": {
     "iopub.execute_input": "2022-11-09T08:56:40.358167Z",
     "iopub.status.busy": "2022-11-09T08:56:40.357697Z",
     "iopub.status.idle": "2022-11-09T08:56:40.382171Z",
     "shell.execute_reply": "2022-11-09T08:56:40.381637Z",
     "shell.execute_reply.started": "2022-11-09T08:56:40.358146Z"
    },
    "tags": []
   },
   "outputs": [
    {
     "data": {
      "text/plain": [
       "5556"
      ]
     },
     "execution_count": 42,
     "metadata": {},
     "output_type": "execute_result"
    }
   ],
   "source": [
    "len(set(loghs.eid.values.tolist()).intersection(eids_dict['phecode_979'].tolist()))"
   ]
  },
  {
   "cell_type": "code",
   "execution_count": 43,
   "id": "c2961252-c847-4b22-8d81-903983a0300e",
   "metadata": {
    "execution": {
     "iopub.execute_input": "2022-11-09T08:56:41.786563Z",
     "iopub.status.busy": "2022-11-09T08:56:41.786085Z",
     "iopub.status.idle": "2022-11-09T08:56:41.902686Z",
     "shell.execute_reply": "2022-11-09T08:56:41.902188Z",
     "shell.execute_reply.started": "2022-11-09T08:56:41.786541Z"
    },
    "tags": []
   },
   "outputs": [],
   "source": [
    "n_eids = {}\n",
    "\n",
    "for partition in range(0, 22):\n",
    "    preds = pd.read_feather(f'{base_path}/coxph/predictions'\\\n",
    "                            f'/phecode_979_Age+Sex_ImageTraining_[]_ConvNeXt_MLPHead_predictions_cropratio0.66_{partition}.feather')\n",
    "    n_eids[partition] = preds.eid.nunique()"
   ]
  },
  {
   "cell_type": "code",
   "execution_count": 44,
   "id": "99aa606c-18fc-4e41-b5d0-add1576c1c32",
   "metadata": {
    "execution": {
     "iopub.execute_input": "2022-11-09T08:56:44.368594Z",
     "iopub.status.busy": "2022-11-09T08:56:44.368120Z",
     "iopub.status.idle": "2022-11-09T08:56:44.371095Z",
     "shell.execute_reply": "2022-11-09T08:56:44.370653Z",
     "shell.execute_reply.started": "2022-11-09T08:56:44.368573Z"
    },
    "tags": []
   },
   "outputs": [],
   "source": [
    "n_eids = pd.Series(n_eids)"
   ]
  },
  {
   "cell_type": "code",
   "execution_count": 45,
   "id": "de485593-698b-4646-b46f-b62d1e15550b",
   "metadata": {
    "execution": {
     "iopub.execute_input": "2022-11-09T08:56:53.500781Z",
     "iopub.status.busy": "2022-11-09T08:56:53.500211Z",
     "iopub.status.idle": "2022-11-09T08:56:53.504158Z",
     "shell.execute_reply": "2022-11-09T08:56:53.503736Z",
     "shell.execute_reply.started": "2022-11-09T08:56:53.500759Z"
    },
    "tags": []
   },
   "outputs": [
    {
     "data": {
      "text/plain": [
       "61159"
      ]
     },
     "execution_count": 45,
     "metadata": {},
     "output_type": "execute_result"
    }
   ],
   "source": [
    "n_eids.sum()"
   ]
  },
  {
   "cell_type": "code",
   "execution_count": 46,
   "id": "214d75ca-0dce-47fa-9968-18789ea55f63",
   "metadata": {
    "execution": {
     "iopub.execute_input": "2022-11-09T08:56:58.175966Z",
     "iopub.status.busy": "2022-11-09T08:56:58.175503Z",
     "iopub.status.idle": "2022-11-09T08:56:58.425210Z",
     "shell.execute_reply": "2022-11-09T08:56:58.424627Z",
     "shell.execute_reply.started": "2022-11-09T08:56:58.175945Z"
    },
    "tags": []
   },
   "outputs": [
    {
     "data": {
      "text/plain": [
       "61159"
      ]
     },
     "execution_count": 46,
     "metadata": {},
     "output_type": "execute_result"
    }
   ],
   "source": [
    "loghs_train = pd.read_feather(f'{base_path}/loghs/ImageTraining_[]_ConvNeXt_MLPHead_predictions_cropratio0.66/0/train.feather')\n",
    "loghs_valid = pd.read_feather(f'{base_path}/loghs/ImageTraining_[]_ConvNeXt_MLPHead_predictions_cropratio0.66/0/valid.feather')\n",
    "\n",
    "test = len(set(loghs.eid.unique().tolist()).intersection(eids_dict['phecode_979'].tolist()))\n",
    "train = len(set(loghs_train.eid.unique().tolist()).intersection(eids_dict['phecode_979'].tolist()))\n",
    "valid = len(set(loghs_valid.eid.unique().tolist()).intersection(eids_dict['phecode_979'].tolist()))\n",
    "\n",
    "test+train+valid"
   ]
  },
  {
   "cell_type": "markdown",
   "id": "f77fa2e6-f745-4c17-a104-7e3d9bf752a3",
   "metadata": {},
   "source": [
    "# ENDPOINT DEFINITION CARDIO"
   ]
  },
  {
   "cell_type": "code",
   "execution_count": 47,
   "id": "9594708e-927e-4294-8aca-d3051cd23f02",
   "metadata": {
    "execution": {
     "iopub.execute_input": "2022-11-09T16:28:36.611746Z",
     "iopub.status.busy": "2022-11-09T16:28:36.611118Z",
     "iopub.status.idle": "2022-11-09T16:28:36.615231Z",
     "shell.execute_reply": "2022-11-09T16:28:36.614732Z",
     "shell.execute_reply.started": "2022-11-09T16:28:36.611720Z"
    }
   },
   "outputs": [],
   "source": [
    "endpoints_cardio = [\n",
    "    'phecode_431-11', #  \"Cerebral infarction [Ischemic stroke]\",\n",
    "    'phecode_404', #  \"Ischemic heart disease\",\n",
    "    'phecode_404-1', #  \"Myocardial infarction [Heart attack]\", # intervention\n",
    "    'phecode_424', #  \"Heart failure\", # intervention\n",
    "     'OMOP_4306655', #  \"All-Cause Death\", # intervention\n",
    "    'phecode_420' #  \"Cardiac arrest\", # intervention  \n",
    "]"
   ]
  },
  {
   "cell_type": "code",
   "execution_count": 48,
   "id": "698d4af2-886a-423c-95d8-fc64f1fb9dfa",
   "metadata": {
    "execution": {
     "iopub.execute_input": "2022-11-09T16:28:55.027839Z",
     "iopub.status.busy": "2022-11-09T16:28:55.027357Z",
     "iopub.status.idle": "2022-11-09T16:28:55.047171Z",
     "shell.execute_reply": "2022-11-09T16:28:55.046588Z",
     "shell.execute_reply.started": "2022-11-09T16:28:55.027816Z"
    }
   },
   "outputs": [],
   "source": [
    "all_endpoints = sorted([l.replace('_prevalent', '') for l in list(pd.read_csv('/sc-projects/sc-proj-ukb-cvd/results/projects/22_retinal_risk/data/220602/endpoints.csv').endpoint.values)])"
   ]
  },
  {
   "cell_type": "code",
   "execution_count": 53,
   "id": "9ac8d751-57d0-4c3c-ab49-9fb17833821a",
   "metadata": {
    "execution": {
     "iopub.execute_input": "2022-11-09T16:30:54.427497Z",
     "iopub.status.busy": "2022-11-09T16:30:54.427167Z",
     "iopub.status.idle": "2022-11-09T16:30:54.429658Z",
     "shell.execute_reply": "2022-11-09T16:30:54.429367Z",
     "shell.execute_reply.started": "2022-11-09T16:30:54.427476Z"
    },
    "tags": []
   },
   "outputs": [],
   "source": [
    "endpoints = sorted(list(set(endpoints_cardio).intersection(all_endpoints)))"
   ]
  },
  {
   "cell_type": "code",
   "execution_count": 54,
   "id": "0fdccd16-7d8f-4b2a-b9bc-a9651c1c6df2",
   "metadata": {
    "execution": {
     "iopub.execute_input": "2022-11-09T16:30:54.980419Z",
     "iopub.status.busy": "2022-11-09T16:30:54.980218Z",
     "iopub.status.idle": "2022-11-09T16:30:54.982719Z",
     "shell.execute_reply": "2022-11-09T16:30:54.982474Z",
     "shell.execute_reply.started": "2022-11-09T16:30:54.980406Z"
    },
    "tags": []
   },
   "outputs": [
    {
     "data": {
      "text/plain": [
       "['OMOP_4306655',\n",
       " 'phecode_404',\n",
       " 'phecode_404-1',\n",
       " 'phecode_420',\n",
       " 'phecode_424',\n",
       " 'phecode_431-11']"
      ]
     },
     "execution_count": 54,
     "metadata": {},
     "output_type": "execute_result"
    }
   ],
   "source": [
    "endpoints"
   ]
  },
  {
   "cell_type": "code",
   "execution_count": null,
   "id": "ffbca19d-d8b8-4aad-be69-dd77ed5b7437",
   "metadata": {},
   "outputs": [],
   "source": []
  },
  {
   "cell_type": "code",
   "execution_count": null,
   "id": "faaa2e3a-57cf-488b-b538-c73e33516ce6",
   "metadata": {},
   "outputs": [],
   "source": []
  },
  {
   "cell_type": "code",
   "execution_count": null,
   "id": "12c71e55-2728-4986-893b-4ad4eee41dd3",
   "metadata": {},
   "outputs": [],
   "source": []
  },
  {
   "cell_type": "code",
   "execution_count": 1,
   "id": "ed6f0712-495f-47a6-8cb6-252a634df072",
   "metadata": {
    "execution": {
     "iopub.execute_input": "2022-11-16T18:52:02.249747Z",
     "iopub.status.busy": "2022-11-16T18:52:02.249385Z",
     "iopub.status.idle": "2022-11-16T18:52:03.575370Z",
     "shell.execute_reply": "2022-11-16T18:52:03.575035Z",
     "shell.execute_reply.started": "2022-11-16T18:52:02.249685Z"
    }
   },
   "outputs": [],
   "source": [
    "import pandas as pd"
   ]
  },
  {
   "cell_type": "code",
   "execution_count": 4,
   "id": "adda3a09-d14b-4bed-a110-cdbfed0e4109",
   "metadata": {
    "execution": {
     "iopub.execute_input": "2022-11-16T18:52:44.738711Z",
     "iopub.status.busy": "2022-11-16T18:52:44.738426Z",
     "iopub.status.idle": "2022-11-16T18:52:44.763864Z",
     "shell.execute_reply": "2022-11-16T18:52:44.763637Z",
     "shell.execute_reply.started": "2022-11-16T18:52:44.738696Z"
    },
    "tags": []
   },
   "outputs": [
    {
     "data": {
      "text/html": [
       "<div>\n",
       "<style scoped>\n",
       "    .dataframe tbody tr th:only-of-type {\n",
       "        vertical-align: middle;\n",
       "    }\n",
       "\n",
       "    .dataframe tbody tr th {\n",
       "        vertical-align: top;\n",
       "    }\n",
       "\n",
       "    .dataframe thead th {\n",
       "        text-align: right;\n",
       "    }\n",
       "</style>\n",
       "<table border=\"1\" class=\"dataframe\">\n",
       "  <thead>\n",
       "    <tr style=\"text-align: right;\">\n",
       "      <th></th>\n",
       "      <th>Category</th>\n",
       "      <th>Code</th>\n",
       "      <th>Name</th>\n",
       "      <th>Age+Sex</th>\n",
       "      <th>Age+Sex+MedicalHistory</th>\n",
       "      <th>Difference</th>\n",
       "    </tr>\n",
       "  </thead>\n",
       "  <tbody>\n",
       "    <tr>\n",
       "      <th>0</th>\n",
       "      <td>Death</td>\n",
       "      <td>OMOP_4306655</td>\n",
       "      <td>All-Cause Death</td>\n",
       "      <td>0.701 (0.699, 0.703)</td>\n",
       "      <td>0.878 (0.877, 0.88)</td>\n",
       "      <td>0.177 (0.175, 0.179)</td>\n",
       "    </tr>\n",
       "    <tr>\n",
       "      <th>1</th>\n",
       "      <td>ID</td>\n",
       "      <td>phecode_001</td>\n",
       "      <td>Salmonella</td>\n",
       "      <td>0.493 (0.469, 0.518)</td>\n",
       "      <td>0.676 (0.653, 0.7)</td>\n",
       "      <td>0.183 (0.152, 0.217)</td>\n",
       "    </tr>\n",
       "    <tr>\n",
       "      <th>2</th>\n",
       "      <td>ID</td>\n",
       "      <td>phecode_002</td>\n",
       "      <td>Staphylococcus</td>\n",
       "      <td>0.612 (0.606, 0.617)</td>\n",
       "      <td>0.728 (0.722, 0.734)</td>\n",
       "      <td>0.116 (0.11, 0.123)</td>\n",
       "    </tr>\n",
       "    <tr>\n",
       "      <th>3</th>\n",
       "      <td>ID</td>\n",
       "      <td>phecode_002-1</td>\n",
       "      <td>Staphylococcus aureus</td>\n",
       "      <td>0.607 (0.6, 0.613)</td>\n",
       "      <td>0.732 (0.725, 0.739)</td>\n",
       "      <td>0.125 (0.118, 0.133)</td>\n",
       "    </tr>\n",
       "    <tr>\n",
       "      <th>4</th>\n",
       "      <td>ID</td>\n",
       "      <td>phecode_003</td>\n",
       "      <td>Escherichia coli</td>\n",
       "      <td>0.602 (0.597, 0.607)</td>\n",
       "      <td>0.675 (0.67, 0.68)</td>\n",
       "      <td>0.073 (0.068, 0.078)</td>\n",
       "    </tr>\n",
       "  </tbody>\n",
       "</table>\n",
       "</div>"
      ],
      "text/plain": [
       "  Category           Code                   Name               Age+Sex  \\\n",
       "0    Death   OMOP_4306655        All-Cause Death  0.701 (0.699, 0.703)   \n",
       "1       ID    phecode_001             Salmonella  0.493 (0.469, 0.518)   \n",
       "2       ID    phecode_002         Staphylococcus  0.612 (0.606, 0.617)   \n",
       "3       ID  phecode_002-1  Staphylococcus aureus    0.607 (0.6, 0.613)   \n",
       "4       ID    phecode_003       Escherichia coli  0.602 (0.597, 0.607)   \n",
       "\n",
       "  Age+Sex+MedicalHistory            Difference  \n",
       "0    0.878 (0.877, 0.88)  0.177 (0.175, 0.179)  \n",
       "1     0.676 (0.653, 0.7)  0.183 (0.152, 0.217)  \n",
       "2   0.728 (0.722, 0.734)   0.116 (0.11, 0.123)  \n",
       "3   0.732 (0.725, 0.739)  0.125 (0.118, 0.133)  \n",
       "4     0.675 (0.67, 0.68)  0.073 (0.068, 0.078)  "
      ]
     },
     "execution_count": 4,
     "metadata": {},
     "output_type": "execute_result"
    }
   ],
   "source": [
    "df = pd.read_csv('3_MedicalHistory_Tables - ST5 - Discriminative Performance.csv')\n",
    "df.head()"
   ]
  },
  {
   "cell_type": "code",
   "execution_count": 9,
   "id": "218d19a0-b0db-4a17-a18c-da18859072d1",
   "metadata": {
    "execution": {
     "iopub.execute_input": "2022-11-16T18:58:25.831234Z",
     "iopub.status.busy": "2022-11-16T18:58:25.830988Z",
     "iopub.status.idle": "2022-11-16T18:58:25.833109Z",
     "shell.execute_reply": "2022-11-16T18:58:25.832880Z",
     "shell.execute_reply.started": "2022-11-16T18:58:25.831220Z"
    },
    "tags": []
   },
   "outputs": [],
   "source": [
    "l = 30\n",
    "test = 'Hi ich bin thore der coolste pr0grammierer der Erde weil ich bin fit wie ein Turnschuh'"
   ]
  },
  {
   "cell_type": "code",
   "execution_count": 23,
   "id": "fc00cb4d-060e-4786-9eb7-68f62bf86987",
   "metadata": {
    "execution": {
     "iopub.execute_input": "2022-11-16T19:01:26.004447Z",
     "iopub.status.busy": "2022-11-16T19:01:26.004140Z",
     "iopub.status.idle": "2022-11-16T19:01:26.007241Z",
     "shell.execute_reply": "2022-11-16T19:01:26.007017Z",
     "shell.execute_reply.started": "2022-11-16T19:01:26.004425Z"
    },
    "tags": []
   },
   "outputs": [],
   "source": [
    "def introduce_linebreak(s, maxchars=30):\n",
    "    chunks = []\n",
    "    \n",
    "    s = str(s)\n",
    "    \n",
    "    curr = 0\n",
    "    for split in s.split(' '):\n",
    "        if not chunks:\n",
    "            chunks = [split]\n",
    "        elif len(chunks[curr] + split)+1 <= maxchars:\n",
    "            chunks[curr] = ' '.join([chunks[curr], split])\n",
    "        else:\n",
    "            chunks.append(split)\n",
    "            curr += 1\n",
    "    \n",
    "    return '$'.join(chunks)"
   ]
  },
  {
   "cell_type": "code",
   "execution_count": 24,
   "id": "6a41ab81-5964-449c-b813-6fcc60161a08",
   "metadata": {
    "execution": {
     "iopub.execute_input": "2022-11-16T19:01:26.900900Z",
     "iopub.status.busy": "2022-11-16T19:01:26.900670Z",
     "iopub.status.idle": "2022-11-16T19:01:26.903092Z",
     "shell.execute_reply": "2022-11-16T19:01:26.902856Z",
     "shell.execute_reply.started": "2022-11-16T19:01:26.900885Z"
    },
    "tags": []
   },
   "outputs": [
    {
     "data": {
      "text/plain": [
       "'Hi ich bin thore der coolste$pr0grammierer der Erde weil ich bin$fit wie ein Turnschuh'"
      ]
     },
     "execution_count": 24,
     "metadata": {},
     "output_type": "execute_result"
    }
   ],
   "source": [
    "introduce_linebreak(test, 35)"
   ]
  },
  {
   "cell_type": "code",
   "execution_count": 25,
   "id": "16bf9a89-82f6-4ca0-ad79-081b08f04aef",
   "metadata": {
    "execution": {
     "iopub.execute_input": "2022-11-16T19:01:27.440620Z",
     "iopub.status.busy": "2022-11-16T19:01:27.440479Z",
     "iopub.status.idle": "2022-11-16T19:01:27.444112Z",
     "shell.execute_reply": "2022-11-16T19:01:27.443849Z",
     "shell.execute_reply.started": "2022-11-16T19:01:27.440605Z"
    },
    "tags": []
   },
   "outputs": [],
   "source": [
    "names = [introduce_linebreak(n, 30) for n in df['Name'].values.tolist()]"
   ]
  },
  {
   "cell_type": "code",
   "execution_count": 26,
   "id": "e13280a7-b206-49bb-9ce5-03c16f77bfe7",
   "metadata": {
    "execution": {
     "iopub.execute_input": "2022-11-16T19:01:35.901377Z",
     "iopub.status.busy": "2022-11-16T19:01:35.900994Z",
     "iopub.status.idle": "2022-11-16T19:01:35.903702Z",
     "shell.execute_reply": "2022-11-16T19:01:35.903482Z",
     "shell.execute_reply.started": "2022-11-16T19:01:35.901355Z"
    },
    "tags": []
   },
   "outputs": [],
   "source": [
    "df['Names_edited'] = names"
   ]
  },
  {
   "cell_type": "code",
   "execution_count": 28,
   "id": "82c69101-f2a8-4181-9c2f-e3bcb1e92aa7",
   "metadata": {
    "execution": {
     "iopub.execute_input": "2022-11-16T19:02:13.321980Z",
     "iopub.status.busy": "2022-11-16T19:02:13.321813Z",
     "iopub.status.idle": "2022-11-16T19:02:13.347165Z",
     "shell.execute_reply": "2022-11-16T19:02:13.346921Z",
     "shell.execute_reply.started": "2022-11-16T19:02:13.321965Z"
    },
    "tags": []
   },
   "outputs": [],
   "source": [
    "df.set_index('Category').to_csv('Discriminative Performance.csv')"
   ]
  },
  {
   "cell_type": "markdown",
   "id": "5cd7327b-bb65-4b52-a0d1-8fc5ea54afaa",
   "metadata": {},
   "source": [
    "# MATCH ENDPOINTS\n"
   ]
  },
  {
   "cell_type": "code",
   "execution_count": 61,
   "id": "b49b509c-4109-4659-b1fa-8dbb4dc5e36e",
   "metadata": {
    "execution": {
     "iopub.execute_input": "2022-11-29T22:43:42.928507Z",
     "iopub.status.busy": "2022-11-29T22:43:42.928309Z",
     "iopub.status.idle": "2022-11-29T22:43:42.938059Z",
     "shell.execute_reply": "2022-11-29T22:43:42.937505Z",
     "shell.execute_reply.started": "2022-11-29T22:43:42.928491Z"
    },
    "tags": []
   },
   "outputs": [],
   "source": [
    "ret = pd.read_csv('/home/buergelt/projects/cardiors/code/22_retina_phewas_evaluation/tmp/3_Retina_Endpoints.csv')"
   ]
  },
  {
   "cell_type": "code",
   "execution_count": 22,
   "id": "9cd2e817-99dd-48dc-a8a1-0c1327811f8f",
   "metadata": {
    "execution": {
     "iopub.execute_input": "2022-11-29T22:32:40.354302Z",
     "iopub.status.busy": "2022-11-29T22:32:40.354087Z",
     "iopub.status.idle": "2022-11-29T22:32:40.374198Z",
     "shell.execute_reply": "2022-11-29T22:32:40.373725Z",
     "shell.execute_reply.started": "2022-11-29T22:32:40.354273Z"
    },
    "tags": []
   },
   "outputs": [
    {
     "data": {
      "text/html": [
       "<div>\n",
       "<style scoped>\n",
       "    .dataframe tbody tr th:only-of-type {\n",
       "        vertical-align: middle;\n",
       "    }\n",
       "\n",
       "    .dataframe tbody tr th {\n",
       "        vertical-align: top;\n",
       "    }\n",
       "\n",
       "    .dataframe thead th {\n",
       "        text-align: right;\n",
       "    }\n",
       "</style>\n",
       "<table border=\"1\" class=\"dataframe\">\n",
       "  <thead>\n",
       "    <tr style=\"text-align: right;\">\n",
       "      <th></th>\n",
       "      <th>System</th>\n",
       "      <th>Code</th>\n",
       "      <th>phecode_string</th>\n",
       "      <th>eligable</th>\n",
       "      <th>n</th>\n",
       "      <th>freq</th>\n",
       "      <th>ICD10 Definition</th>\n",
       "    </tr>\n",
       "  </thead>\n",
       "  <tbody>\n",
       "    <tr>\n",
       "      <th>0</th>\n",
       "      <td>OMOP</td>\n",
       "      <td>4306655.0</td>\n",
       "      <td>All-Cause Death</td>\n",
       "      <td>502453</td>\n",
       "      <td>37697</td>\n",
       "      <td>7.50%</td>\n",
       "      <td>NaN</td>\n",
       "    </tr>\n",
       "    <tr>\n",
       "      <th>1</th>\n",
       "      <td>Phecode</td>\n",
       "      <td>1.0</td>\n",
       "      <td>Salmonella</td>\n",
       "      <td>500882</td>\n",
       "      <td>377</td>\n",
       "      <td>0.08%</td>\n",
       "      <td>A01, A01.0, A01.00, A01.01, A01.02, A01.03, A0...</td>\n",
       "    </tr>\n",
       "    <tr>\n",
       "      <th>2</th>\n",
       "      <td>Phecode</td>\n",
       "      <td>2.0</td>\n",
       "      <td>Staphylococcus</td>\n",
       "      <td>499671</td>\n",
       "      <td>6587</td>\n",
       "      <td>1.32%</td>\n",
       "      <td>A05.0, A41.0, A41.01, A41.02, A41.1, A41.2, A4...</td>\n",
       "    </tr>\n",
       "    <tr>\n",
       "      <th>3</th>\n",
       "      <td>Phecode</td>\n",
       "      <td>2.1</td>\n",
       "      <td>Staphylococcus aureus</td>\n",
       "      <td>500332</td>\n",
       "      <td>4909</td>\n",
       "      <td>0.98%</td>\n",
       "      <td>A41.0, A41.01, A41.02, A49.01, A49.02, B95.6, ...</td>\n",
       "    </tr>\n",
       "    <tr>\n",
       "      <th>4</th>\n",
       "      <td>Phecode</td>\n",
       "      <td>3.0</td>\n",
       "      <td>Escherichia coli</td>\n",
       "      <td>499141</td>\n",
       "      <td>9687</td>\n",
       "      <td>1.94%</td>\n",
       "      <td>A04.0, A04.1, A04.2, A04.3, A04.4, A41.51, B96...</td>\n",
       "    </tr>\n",
       "  </tbody>\n",
       "</table>\n",
       "</div>"
      ],
      "text/plain": [
       "    System       Code         phecode_string  eligable      n   freq  \\\n",
       "0     OMOP  4306655.0        All-Cause Death    502453  37697  7.50%   \n",
       "1  Phecode        1.0             Salmonella    500882    377  0.08%   \n",
       "2  Phecode        2.0         Staphylococcus    499671   6587  1.32%   \n",
       "3  Phecode        2.1  Staphylococcus aureus    500332   4909  0.98%   \n",
       "4  Phecode        3.0       Escherichia coli    499141   9687  1.94%   \n",
       "\n",
       "                                    ICD10 Definition  \n",
       "0                                                NaN  \n",
       "1  A01, A01.0, A01.00, A01.01, A01.02, A01.03, A0...  \n",
       "2  A05.0, A41.0, A41.01, A41.02, A41.1, A41.2, A4...  \n",
       "3  A41.0, A41.01, A41.02, A49.01, A49.02, B95.6, ...  \n",
       "4  A04.0, A04.1, A04.2, A04.3, A04.4, A41.51, B96...  "
      ]
     },
     "execution_count": 22,
     "metadata": {},
     "output_type": "execute_result"
    }
   ],
   "source": [
    "ehr = pd.read_csv('/home/buergelt/projects/cardiors/code/22_retina_phewas_evaluation/tmp/3_MedicalHistory_Endpoints.csv')\n",
    "ehr.head()"
   ]
  },
  {
   "cell_type": "code",
   "execution_count": 23,
   "id": "4ea9a6a1-aa7f-46a7-b880-cbe107cb4711",
   "metadata": {
    "execution": {
     "iopub.execute_input": "2022-11-29T22:32:40.626709Z",
     "iopub.status.busy": "2022-11-29T22:32:40.626481Z",
     "iopub.status.idle": "2022-11-29T22:32:40.639004Z",
     "shell.execute_reply": "2022-11-29T22:32:40.638627Z",
     "shell.execute_reply.started": "2022-11-29T22:32:40.626675Z"
    },
    "tags": []
   },
   "outputs": [
    {
     "data": {
      "text/html": [
       "<div>\n",
       "<style scoped>\n",
       "    .dataframe tbody tr th:only-of-type {\n",
       "        vertical-align: middle;\n",
       "    }\n",
       "\n",
       "    .dataframe tbody tr th {\n",
       "        vertical-align: top;\n",
       "    }\n",
       "\n",
       "    .dataframe thead th {\n",
       "        text-align: right;\n",
       "    }\n",
       "</style>\n",
       "<table border=\"1\" class=\"dataframe\">\n",
       "  <thead>\n",
       "    <tr style=\"text-align: right;\">\n",
       "      <th></th>\n",
       "      <th>Category</th>\n",
       "      <th>Code</th>\n",
       "      <th>Name</th>\n",
       "      <th>Age+Sex</th>\n",
       "      <th>Age+Sex+MedicalHistory</th>\n",
       "      <th>Difference</th>\n",
       "    </tr>\n",
       "  </thead>\n",
       "  <tbody>\n",
       "    <tr>\n",
       "      <th>0</th>\n",
       "      <td>Death</td>\n",
       "      <td>OMOP_4306655</td>\n",
       "      <td>All-Cause Death</td>\n",
       "      <td>0.701 (0.699, 0.703)</td>\n",
       "      <td>0.878 (0.877, 0.88)</td>\n",
       "      <td>0.177 (0.175, 0.179)</td>\n",
       "    </tr>\n",
       "    <tr>\n",
       "      <th>1</th>\n",
       "      <td>ID</td>\n",
       "      <td>phecode_001</td>\n",
       "      <td>Salmonella</td>\n",
       "      <td>0.493 (0.469, 0.518)</td>\n",
       "      <td>0.676 (0.653, 0.7)</td>\n",
       "      <td>0.183 (0.152, 0.217)</td>\n",
       "    </tr>\n",
       "    <tr>\n",
       "      <th>2</th>\n",
       "      <td>ID</td>\n",
       "      <td>phecode_002</td>\n",
       "      <td>Staphylococcus</td>\n",
       "      <td>0.612 (0.606, 0.617)</td>\n",
       "      <td>0.728 (0.722, 0.734)</td>\n",
       "      <td>0.116 (0.11, 0.123)</td>\n",
       "    </tr>\n",
       "    <tr>\n",
       "      <th>3</th>\n",
       "      <td>ID</td>\n",
       "      <td>phecode_002-1</td>\n",
       "      <td>Staphylococcus aureus</td>\n",
       "      <td>0.607 (0.6, 0.613)</td>\n",
       "      <td>0.732 (0.725, 0.739)</td>\n",
       "      <td>0.125 (0.118, 0.133)</td>\n",
       "    </tr>\n",
       "    <tr>\n",
       "      <th>4</th>\n",
       "      <td>ID</td>\n",
       "      <td>phecode_003</td>\n",
       "      <td>Escherichia coli</td>\n",
       "      <td>0.602 (0.597, 0.607)</td>\n",
       "      <td>0.675 (0.67, 0.68)</td>\n",
       "      <td>0.073 (0.068, 0.078)</td>\n",
       "    </tr>\n",
       "  </tbody>\n",
       "</table>\n",
       "</div>"
      ],
      "text/plain": [
       "  Category           Code                   Name               Age+Sex  \\\n",
       "0    Death   OMOP_4306655        All-Cause Death  0.701 (0.699, 0.703)   \n",
       "1       ID    phecode_001             Salmonella  0.493 (0.469, 0.518)   \n",
       "2       ID    phecode_002         Staphylococcus  0.612 (0.606, 0.617)   \n",
       "3       ID  phecode_002-1  Staphylococcus aureus    0.607 (0.6, 0.613)   \n",
       "4       ID    phecode_003       Escherichia coli  0.602 (0.597, 0.607)   \n",
       "\n",
       "  Age+Sex+MedicalHistory            Difference  \n",
       "0    0.878 (0.877, 0.88)  0.177 (0.175, 0.179)  \n",
       "1     0.676 (0.653, 0.7)  0.183 (0.152, 0.217)  \n",
       "2   0.728 (0.722, 0.734)   0.116 (0.11, 0.123)  \n",
       "3   0.732 (0.725, 0.739)  0.125 (0.118, 0.133)  \n",
       "4     0.675 (0.67, 0.68)  0.073 (0.068, 0.078)  "
      ]
     },
     "execution_count": 23,
     "metadata": {},
     "output_type": "execute_result"
    }
   ],
   "source": [
    "\n",
    "cols = pd.read_csv('/home/buergelt/projects/cardiors/code/22_retina_phewas_evaluation/tmp/cols.csv')\n",
    "cols.head()"
   ]
  },
  {
   "cell_type": "code",
   "execution_count": 47,
   "id": "a2fcc2d1-b8fa-4c00-8413-a0a8e15d4c4b",
   "metadata": {
    "execution": {
     "iopub.execute_input": "2022-11-29T22:39:55.779249Z",
     "iopub.status.busy": "2022-11-29T22:39:55.778921Z",
     "iopub.status.idle": "2022-11-29T22:39:55.782839Z",
     "shell.execute_reply": "2022-11-29T22:39:55.782614Z",
     "shell.execute_reply.started": "2022-11-29T22:39:55.779211Z"
    },
    "tags": []
   },
   "outputs": [
    {
     "data": {
      "text/plain": [
       "Index(['endpoint', 'eligable', 'n', 'freq', 'phecode', 'phecode_string',\n",
       "       'phecode_category', 'sex'],\n",
       "      dtype='object')"
      ]
     },
     "execution_count": 47,
     "metadata": {},
     "output_type": "execute_result"
    }
   ],
   "source": [
    "ret.columns"
   ]
  },
  {
   "cell_type": "code",
   "execution_count": null,
   "id": "a24c707d-971f-40db-b7f2-91d1d8ebde1e",
   "metadata": {},
   "outputs": [],
   "source": [
    "ret['freq'] = ret.freq.round(decimals=4) * 100"
   ]
  },
  {
   "cell_type": "code",
   "execution_count": 62,
   "id": "c6ed46d1-cfb3-4cf0-83c9-35cd88140497",
   "metadata": {
    "execution": {
     "iopub.execute_input": "2022-11-29T22:43:46.218172Z",
     "iopub.status.busy": "2022-11-29T22:43:46.218021Z",
     "iopub.status.idle": "2022-11-29T22:43:46.224010Z",
     "shell.execute_reply": "2022-11-29T22:43:46.223533Z",
     "shell.execute_reply.started": "2022-11-29T22:43:46.218159Z"
    },
    "tags": []
   },
   "outputs": [],
   "source": [
    "ret['freq'] = ret['freq']*100\n",
    "ret['freq'] = ret['freq'].apply(lambda x: f'{x:.2f}%')"
   ]
  },
  {
   "cell_type": "code",
   "execution_count": 86,
   "id": "5288c67b-b70b-4555-bc68-18c0a4083786",
   "metadata": {
    "execution": {
     "iopub.execute_input": "2022-11-29T23:19:06.046657Z",
     "iopub.status.busy": "2022-11-29T23:19:06.046206Z",
     "iopub.status.idle": "2022-11-29T23:19:06.051369Z",
     "shell.execute_reply": "2022-11-29T23:19:06.051108Z",
     "shell.execute_reply.started": "2022-11-29T23:19:06.046636Z"
    },
    "tags": []
   },
   "outputs": [],
   "source": [
    "ret['n'] = ret['n'].astype(int).astype(str)\n",
    "ret['eligable'] = ret['eligable'].astype(int).astype(str)"
   ]
  },
  {
   "cell_type": "code",
   "execution_count": 87,
   "id": "dc323e5d-3fea-44c2-9db4-31be0cc709bc",
   "metadata": {
    "execution": {
     "iopub.execute_input": "2022-11-29T23:19:07.084410Z",
     "iopub.status.busy": "2022-11-29T23:19:07.084141Z",
     "iopub.status.idle": "2022-11-29T23:19:07.090950Z",
     "shell.execute_reply": "2022-11-29T23:19:07.090738Z",
     "shell.execute_reply.started": "2022-11-29T23:19:07.084378Z"
    },
    "tags": []
   },
   "outputs": [
    {
     "data": {
      "text/html": [
       "<div>\n",
       "<style scoped>\n",
       "    .dataframe tbody tr th:only-of-type {\n",
       "        vertical-align: middle;\n",
       "    }\n",
       "\n",
       "    .dataframe tbody tr th {\n",
       "        vertical-align: top;\n",
       "    }\n",
       "\n",
       "    .dataframe thead th {\n",
       "        text-align: right;\n",
       "    }\n",
       "</style>\n",
       "<table border=\"1\" class=\"dataframe\">\n",
       "  <thead>\n",
       "    <tr style=\"text-align: right;\">\n",
       "      <th></th>\n",
       "      <th>endpoint</th>\n",
       "      <th>eligable</th>\n",
       "      <th>n</th>\n",
       "      <th>freq</th>\n",
       "      <th>phecode</th>\n",
       "      <th>phecode_string</th>\n",
       "      <th>phecode_category</th>\n",
       "      <th>sex</th>\n",
       "    </tr>\n",
       "  </thead>\n",
       "  <tbody>\n",
       "    <tr>\n",
       "      <th>0</th>\n",
       "      <td>OMOP_4306655</td>\n",
       "      <td>61256</td>\n",
       "      <td>3490</td>\n",
       "      <td>5.70%</td>\n",
       "      <td>4306655.0</td>\n",
       "      <td>All-Cause Death</td>\n",
       "      <td>Death</td>\n",
       "      <td>Both</td>\n",
       "    </tr>\n",
       "    <tr>\n",
       "      <th>1</th>\n",
       "      <td>phecode_002</td>\n",
       "      <td>60945</td>\n",
       "      <td>658</td>\n",
       "      <td>1.08%</td>\n",
       "      <td>2.0</td>\n",
       "      <td>Staphylococcus</td>\n",
       "      <td>ID</td>\n",
       "      <td>Both</td>\n",
       "    </tr>\n",
       "    <tr>\n",
       "      <th>2</th>\n",
       "      <td>phecode_002-1</td>\n",
       "      <td>61010</td>\n",
       "      <td>486</td>\n",
       "      <td>0.80%</td>\n",
       "      <td>2.1</td>\n",
       "      <td>Staphylococcus aureus</td>\n",
       "      <td>ID</td>\n",
       "      <td>Both</td>\n",
       "    </tr>\n",
       "    <tr>\n",
       "      <th>3</th>\n",
       "      <td>phecode_003</td>\n",
       "      <td>60757</td>\n",
       "      <td>959</td>\n",
       "      <td>1.58%</td>\n",
       "      <td>3.0</td>\n",
       "      <td>Escherichia coli</td>\n",
       "      <td>ID</td>\n",
       "      <td>Both</td>\n",
       "    </tr>\n",
       "    <tr>\n",
       "      <th>4</th>\n",
       "      <td>phecode_004</td>\n",
       "      <td>60584</td>\n",
       "      <td>494</td>\n",
       "      <td>0.82%</td>\n",
       "      <td>4.0</td>\n",
       "      <td>Streptococcus</td>\n",
       "      <td>ID</td>\n",
       "      <td>Both</td>\n",
       "    </tr>\n",
       "  </tbody>\n",
       "</table>\n",
       "</div>"
      ],
      "text/plain": [
       "        endpoint eligable     n   freq    phecode         phecode_string  \\\n",
       "0   OMOP_4306655    61256  3490  5.70%  4306655.0        All-Cause Death   \n",
       "1    phecode_002    60945   658  1.08%        2.0         Staphylococcus   \n",
       "2  phecode_002-1    61010   486  0.80%        2.1  Staphylococcus aureus   \n",
       "3    phecode_003    60757   959  1.58%        3.0       Escherichia coli   \n",
       "4    phecode_004    60584   494  0.82%        4.0          Streptococcus   \n",
       "\n",
       "  phecode_category   sex  \n",
       "0            Death  Both  \n",
       "1               ID  Both  \n",
       "2               ID  Both  \n",
       "3               ID  Both  \n",
       "4               ID  Both  "
      ]
     },
     "execution_count": 87,
     "metadata": {},
     "output_type": "execute_result"
    }
   ],
   "source": [
    "ret.head()"
   ]
  },
  {
   "cell_type": "code",
   "execution_count": 88,
   "id": "73f4a1c7-3d68-4c67-bf5a-febf7102376d",
   "metadata": {
    "execution": {
     "iopub.execute_input": "2022-11-29T23:19:07.723923Z",
     "iopub.status.busy": "2022-11-29T23:19:07.723715Z",
     "iopub.status.idle": "2022-11-29T23:19:07.727003Z",
     "shell.execute_reply": "2022-11-29T23:19:07.726784Z",
     "shell.execute_reply.started": "2022-11-29T23:19:07.723898Z"
    },
    "tags": []
   },
   "outputs": [],
   "source": [
    "ehr['endpoint'] = cols['Code']\n",
    "ehr['Category'] = cols['Category']"
   ]
  },
  {
   "cell_type": "code",
   "execution_count": 89,
   "id": "a95ddf73-eb6a-48f1-82f4-c0f0e2d4df56",
   "metadata": {
    "execution": {
     "iopub.execute_input": "2022-11-29T23:19:08.222384Z",
     "iopub.status.busy": "2022-11-29T23:19:08.222120Z",
     "iopub.status.idle": "2022-11-29T23:19:08.225141Z",
     "shell.execute_reply": "2022-11-29T23:19:08.224909Z",
     "shell.execute_reply.started": "2022-11-29T23:19:08.222334Z"
    },
    "tags": []
   },
   "outputs": [],
   "source": [
    "x = ehr[['endpoint','Category', 'phecode_string', 'eligable', 'n', 'freq', ]]"
   ]
  },
  {
   "cell_type": "code",
   "execution_count": 90,
   "id": "23c7a1bc-6347-4f6f-9a95-7c93ff247a41",
   "metadata": {
    "execution": {
     "iopub.execute_input": "2022-11-29T23:19:08.638059Z",
     "iopub.status.busy": "2022-11-29T23:19:08.637958Z",
     "iopub.status.idle": "2022-11-29T23:19:08.640530Z",
     "shell.execute_reply": "2022-11-29T23:19:08.640304Z",
     "shell.execute_reply.started": "2022-11-29T23:19:08.638047Z"
    },
    "tags": []
   },
   "outputs": [],
   "source": [
    "x = x.rename({'eligable': 'Number eligable (EHR)',\n",
    "              'n': 'Number of observations (EHR)',\n",
    "              'freq': 'Endpoint frequency (EHR)'\n",
    "              }, axis=1)"
   ]
  },
  {
   "cell_type": "code",
   "execution_count": 91,
   "id": "89a95b3e-e8ff-4cde-8fef-6a365ad6eaea",
   "metadata": {
    "execution": {
     "iopub.execute_input": "2022-11-29T23:19:13.365457Z",
     "iopub.status.busy": "2022-11-29T23:19:13.365227Z",
     "iopub.status.idle": "2022-11-29T23:19:13.369399Z",
     "shell.execute_reply": "2022-11-29T23:19:13.369145Z",
     "shell.execute_reply.started": "2022-11-29T23:19:13.365442Z"
    },
    "tags": []
   },
   "outputs": [],
   "source": [
    "y = ret[['endpoint', 'eligable', 'n', 'freq']].rename(\n",
    "    {'eligable': 'Number eligable (Retina)',\n",
    "              'n': 'Number of observations (Retina)',\n",
    "              'freq': 'Endpoint frequency (Retina)'\n",
    "              }, axis=1\n",
    ")"
   ]
  },
  {
   "cell_type": "code",
   "execution_count": 92,
   "id": "a73a6d59-8599-46f9-b6c6-65a55f793188",
   "metadata": {
    "execution": {
     "iopub.execute_input": "2022-11-29T23:19:13.788186Z",
     "iopub.status.busy": "2022-11-29T23:19:13.787946Z",
     "iopub.status.idle": "2022-11-29T23:19:13.793577Z",
     "shell.execute_reply": "2022-11-29T23:19:13.793354Z",
     "shell.execute_reply.started": "2022-11-29T23:19:13.788159Z"
    },
    "tags": []
   },
   "outputs": [
    {
     "data": {
      "text/html": [
       "<div>\n",
       "<style scoped>\n",
       "    .dataframe tbody tr th:only-of-type {\n",
       "        vertical-align: middle;\n",
       "    }\n",
       "\n",
       "    .dataframe tbody tr th {\n",
       "        vertical-align: top;\n",
       "    }\n",
       "\n",
       "    .dataframe thead th {\n",
       "        text-align: right;\n",
       "    }\n",
       "</style>\n",
       "<table border=\"1\" class=\"dataframe\">\n",
       "  <thead>\n",
       "    <tr style=\"text-align: right;\">\n",
       "      <th></th>\n",
       "      <th>endpoint</th>\n",
       "      <th>Category</th>\n",
       "      <th>phecode_string</th>\n",
       "      <th>Number eligable (EHR)</th>\n",
       "      <th>Number of observations (EHR)</th>\n",
       "      <th>Endpoint frequency (EHR)</th>\n",
       "    </tr>\n",
       "  </thead>\n",
       "  <tbody>\n",
       "    <tr>\n",
       "      <th>0</th>\n",
       "      <td>OMOP_4306655</td>\n",
       "      <td>Death</td>\n",
       "      <td>All-Cause Death</td>\n",
       "      <td>502453</td>\n",
       "      <td>37697</td>\n",
       "      <td>7.50%</td>\n",
       "    </tr>\n",
       "    <tr>\n",
       "      <th>1</th>\n",
       "      <td>phecode_001</td>\n",
       "      <td>ID</td>\n",
       "      <td>Salmonella</td>\n",
       "      <td>500882</td>\n",
       "      <td>377</td>\n",
       "      <td>0.08%</td>\n",
       "    </tr>\n",
       "    <tr>\n",
       "      <th>2</th>\n",
       "      <td>phecode_002</td>\n",
       "      <td>ID</td>\n",
       "      <td>Staphylococcus</td>\n",
       "      <td>499671</td>\n",
       "      <td>6587</td>\n",
       "      <td>1.32%</td>\n",
       "    </tr>\n",
       "    <tr>\n",
       "      <th>3</th>\n",
       "      <td>phecode_002-1</td>\n",
       "      <td>ID</td>\n",
       "      <td>Staphylococcus aureus</td>\n",
       "      <td>500332</td>\n",
       "      <td>4909</td>\n",
       "      <td>0.98%</td>\n",
       "    </tr>\n",
       "    <tr>\n",
       "      <th>4</th>\n",
       "      <td>phecode_003</td>\n",
       "      <td>ID</td>\n",
       "      <td>Escherichia coli</td>\n",
       "      <td>499141</td>\n",
       "      <td>9687</td>\n",
       "      <td>1.94%</td>\n",
       "    </tr>\n",
       "  </tbody>\n",
       "</table>\n",
       "</div>"
      ],
      "text/plain": [
       "        endpoint Category         phecode_string  Number eligable (EHR)  \\\n",
       "0   OMOP_4306655    Death        All-Cause Death                 502453   \n",
       "1    phecode_001       ID             Salmonella                 500882   \n",
       "2    phecode_002       ID         Staphylococcus                 499671   \n",
       "3  phecode_002-1       ID  Staphylococcus aureus                 500332   \n",
       "4    phecode_003       ID       Escherichia coli                 499141   \n",
       "\n",
       "   Number of observations (EHR) Endpoint frequency (EHR)  \n",
       "0                         37697                    7.50%  \n",
       "1                           377                    0.08%  \n",
       "2                          6587                    1.32%  \n",
       "3                          4909                    0.98%  \n",
       "4                          9687                    1.94%  "
      ]
     },
     "execution_count": 92,
     "metadata": {},
     "output_type": "execute_result"
    }
   ],
   "source": [
    "x.head()"
   ]
  },
  {
   "cell_type": "code",
   "execution_count": 93,
   "id": "bd62f37f-5a7e-446d-b158-709e8a5fb444",
   "metadata": {
    "execution": {
     "iopub.execute_input": "2022-11-29T23:19:14.319998Z",
     "iopub.status.busy": "2022-11-29T23:19:14.319759Z",
     "iopub.status.idle": "2022-11-29T23:19:14.327978Z",
     "shell.execute_reply": "2022-11-29T23:19:14.327767Z",
     "shell.execute_reply.started": "2022-11-29T23:19:14.319968Z"
    },
    "tags": []
   },
   "outputs": [
    {
     "data": {
      "text/html": [
       "<div>\n",
       "<style scoped>\n",
       "    .dataframe tbody tr th:only-of-type {\n",
       "        vertical-align: middle;\n",
       "    }\n",
       "\n",
       "    .dataframe tbody tr th {\n",
       "        vertical-align: top;\n",
       "    }\n",
       "\n",
       "    .dataframe thead th {\n",
       "        text-align: right;\n",
       "    }\n",
       "</style>\n",
       "<table border=\"1\" class=\"dataframe\">\n",
       "  <thead>\n",
       "    <tr style=\"text-align: right;\">\n",
       "      <th></th>\n",
       "      <th>endpoint</th>\n",
       "      <th>Category</th>\n",
       "      <th>phecode_string</th>\n",
       "      <th>Number eligable (EHR)</th>\n",
       "      <th>Number of observations (EHR)</th>\n",
       "      <th>Endpoint frequency (EHR)</th>\n",
       "      <th>Number eligable (Retina)</th>\n",
       "      <th>Number of observations (Retina)</th>\n",
       "      <th>Endpoint frequency (Retina)</th>\n",
       "    </tr>\n",
       "  </thead>\n",
       "  <tbody>\n",
       "    <tr>\n",
       "      <th>0</th>\n",
       "      <td>OMOP_4306655</td>\n",
       "      <td>Death</td>\n",
       "      <td>All-Cause Death</td>\n",
       "      <td>502453</td>\n",
       "      <td>37697</td>\n",
       "      <td>7.50%</td>\n",
       "      <td>61256</td>\n",
       "      <td>3490</td>\n",
       "      <td>5.70%</td>\n",
       "    </tr>\n",
       "    <tr>\n",
       "      <th>1</th>\n",
       "      <td>phecode_001</td>\n",
       "      <td>ID</td>\n",
       "      <td>Salmonella</td>\n",
       "      <td>500882</td>\n",
       "      <td>377</td>\n",
       "      <td>0.08%</td>\n",
       "      <td>NaN</td>\n",
       "      <td>NaN</td>\n",
       "      <td>NaN</td>\n",
       "    </tr>\n",
       "    <tr>\n",
       "      <th>2</th>\n",
       "      <td>phecode_002</td>\n",
       "      <td>ID</td>\n",
       "      <td>Staphylococcus</td>\n",
       "      <td>499671</td>\n",
       "      <td>6587</td>\n",
       "      <td>1.32%</td>\n",
       "      <td>60945</td>\n",
       "      <td>658</td>\n",
       "      <td>1.08%</td>\n",
       "    </tr>\n",
       "    <tr>\n",
       "      <th>3</th>\n",
       "      <td>phecode_002-1</td>\n",
       "      <td>ID</td>\n",
       "      <td>Staphylococcus aureus</td>\n",
       "      <td>500332</td>\n",
       "      <td>4909</td>\n",
       "      <td>0.98%</td>\n",
       "      <td>61010</td>\n",
       "      <td>486</td>\n",
       "      <td>0.80%</td>\n",
       "    </tr>\n",
       "    <tr>\n",
       "      <th>4</th>\n",
       "      <td>phecode_003</td>\n",
       "      <td>ID</td>\n",
       "      <td>Escherichia coli</td>\n",
       "      <td>499141</td>\n",
       "      <td>9687</td>\n",
       "      <td>1.94%</td>\n",
       "      <td>60757</td>\n",
       "      <td>959</td>\n",
       "      <td>1.58%</td>\n",
       "    </tr>\n",
       "  </tbody>\n",
       "</table>\n",
       "</div>"
      ],
      "text/plain": [
       "        endpoint Category         phecode_string  Number eligable (EHR)  \\\n",
       "0   OMOP_4306655    Death        All-Cause Death                 502453   \n",
       "1    phecode_001       ID             Salmonella                 500882   \n",
       "2    phecode_002       ID         Staphylococcus                 499671   \n",
       "3  phecode_002-1       ID  Staphylococcus aureus                 500332   \n",
       "4    phecode_003       ID       Escherichia coli                 499141   \n",
       "\n",
       "   Number of observations (EHR) Endpoint frequency (EHR)  \\\n",
       "0                         37697                    7.50%   \n",
       "1                           377                    0.08%   \n",
       "2                          6587                    1.32%   \n",
       "3                          4909                    0.98%   \n",
       "4                          9687                    1.94%   \n",
       "\n",
       "  Number eligable (Retina) Number of observations (Retina)  \\\n",
       "0                    61256                            3490   \n",
       "1                      NaN                             NaN   \n",
       "2                    60945                             658   \n",
       "3                    61010                             486   \n",
       "4                    60757                             959   \n",
       "\n",
       "  Endpoint frequency (Retina)  \n",
       "0                       5.70%  \n",
       "1                         NaN  \n",
       "2                       1.08%  \n",
       "3                       0.80%  \n",
       "4                       1.58%  "
      ]
     },
     "execution_count": 93,
     "metadata": {},
     "output_type": "execute_result"
    }
   ],
   "source": [
    "z = pd.merge(x, y, on='endpoint', how='outer')\n",
    "z.head()"
   ]
  },
  {
   "cell_type": "code",
   "execution_count": 94,
   "id": "5aa74817-0a9e-4d1b-8924-e7a20246d7bf",
   "metadata": {
    "execution": {
     "iopub.execute_input": "2022-11-29T23:19:22.664644Z",
     "iopub.status.busy": "2022-11-29T23:19:22.664207Z",
     "iopub.status.idle": "2022-11-29T23:19:22.680144Z",
     "shell.execute_reply": "2022-11-29T23:19:22.679874Z",
     "shell.execute_reply.started": "2022-11-29T23:19:22.664626Z"
    },
    "tags": []
   },
   "outputs": [],
   "source": [
    "z.to_csv('/home/buergelt/projects/cardiors/code/22_retina_phewas_evaluation/tmp/endpoints.csv')"
   ]
  },
  {
   "cell_type": "code",
   "execution_count": null,
   "id": "fe40acab-1346-41dd-a908-96e46c3f9a56",
   "metadata": {},
   "outputs": [],
   "source": []
  },
  {
   "cell_type": "code",
   "execution_count": null,
   "id": "d70e97b9-fb65-461f-983f-e162d111313e",
   "metadata": {},
   "outputs": [],
   "source": []
  },
  {
   "cell_type": "code",
   "execution_count": null,
   "id": "20eea849-380f-46bc-ab0b-ef3a3ca17f88",
   "metadata": {},
   "outputs": [],
   "source": []
  }
 ],
 "metadata": {
  "kernelspec": {
   "display_name": "retrisk",
   "language": "python",
   "name": "retrisk"
  },
  "language_info": {
   "codemirror_mode": {
    "name": "ipython",
    "version": 3
   },
   "file_extension": ".py",
   "mimetype": "text/x-python",
   "name": "python",
   "nbconvert_exporter": "python",
   "pygments_lexer": "ipython3",
   "version": "3.9.7"
  }
 },
 "nbformat": 4,
 "nbformat_minor": 5
}
