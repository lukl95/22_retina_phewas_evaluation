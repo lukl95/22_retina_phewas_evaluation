{
 "cells": [
  {
   "cell_type": "markdown",
   "id": "a0356bbd-8a74-4a14-901c-8359f619f03e",
   "metadata": {},
   "source": [
    "# TEST LOGHS DIFFERENCE TESTS"
   ]
  },
  {
   "cell_type": "code",
   "execution_count": 34,
   "id": "5465bd03-904a-48c9-b625-68788919fae5",
   "metadata": {
    "execution": {
     "iopub.execute_input": "2022-11-09T08:56:11.189990Z",
     "iopub.status.busy": "2022-11-09T08:56:11.189840Z",
     "iopub.status.idle": "2022-11-09T08:56:11.193146Z",
     "shell.execute_reply": "2022-11-09T08:56:11.192679Z",
     "shell.execute_reply.started": "2022-11-09T08:56:11.189974Z"
    },
    "tags": []
   },
   "outputs": [],
   "source": [
    "import pandas as pd"
   ]
  },
  {
   "cell_type": "code",
   "execution_count": 35,
   "id": "20418e46-8b9a-40f1-9cef-7280b72d7a90",
   "metadata": {
    "execution": {
     "iopub.execute_input": "2022-11-09T08:56:11.590926Z",
     "iopub.status.busy": "2022-11-09T08:56:11.590481Z",
     "iopub.status.idle": "2022-11-09T08:56:11.592900Z",
     "shell.execute_reply": "2022-11-09T08:56:11.592473Z",
     "shell.execute_reply.started": "2022-11-09T08:56:11.590908Z"
    },
    "tags": []
   },
   "outputs": [],
   "source": [
    "base_path = '/sc-projects/sc-proj-ukb-cvd/results/projects/22_retina_phewas/data/221108'"
   ]
  },
  {
   "cell_type": "code",
   "execution_count": 36,
   "id": "c59cb200-11b9-4a67-9135-c77337ab0162",
   "metadata": {
    "execution": {
     "iopub.execute_input": "2022-11-09T08:56:11.989713Z",
     "iopub.status.busy": "2022-11-09T08:56:11.989151Z",
     "iopub.status.idle": "2022-11-09T08:56:12.050991Z",
     "shell.execute_reply": "2022-11-09T08:56:12.050502Z",
     "shell.execute_reply.started": "2022-11-09T08:56:11.989685Z"
    },
    "tags": []
   },
   "outputs": [
    {
     "data": {
      "text/plain": [
       "5567"
      ]
     },
     "execution_count": 36,
     "metadata": {},
     "output_type": "execute_result"
    }
   ],
   "source": [
    "loghs = pd.read_feather(f'{base_path}/loghs/ImageTraining_[]_ConvNeXt_MLPHead_predictions_cropratio0.66/0/test.feather')\n",
    "loghs.eid.nunique()"
   ]
  },
  {
   "cell_type": "code",
   "execution_count": 37,
   "id": "ebd31b66-fe41-4420-ae5a-2dfa4b23ecb0",
   "metadata": {
    "execution": {
     "iopub.execute_input": "2022-11-09T08:56:12.411323Z",
     "iopub.status.busy": "2022-11-09T08:56:12.410886Z",
     "iopub.status.idle": "2022-11-09T08:56:12.468223Z",
     "shell.execute_reply": "2022-11-09T08:56:12.467730Z",
     "shell.execute_reply.started": "2022-11-09T08:56:12.411303Z"
    },
    "tags": []
   },
   "outputs": [
    {
     "data": {
      "text/plain": [
       "5567"
      ]
     },
     "execution_count": 37,
     "metadata": {},
     "output_type": "execute_result"
    }
   ],
   "source": [
    "cox_input = pd.read_feather(f'{base_path}/coxph/input/ImageTraining_[]_ConvNeXt_MLPHead_predictions_cropratio0.66/0/test.feather')\n",
    "cox_input.eid.nunique()"
   ]
  },
  {
   "cell_type": "code",
   "execution_count": 38,
   "id": "96bb6de8-33fa-4b95-8b6f-751b7f47c3e3",
   "metadata": {
    "execution": {
     "iopub.execute_input": "2022-11-09T08:56:28.282288Z",
     "iopub.status.busy": "2022-11-09T08:56:28.281941Z",
     "iopub.status.idle": "2022-11-09T08:56:28.291948Z",
     "shell.execute_reply": "2022-11-09T08:56:28.291410Z",
     "shell.execute_reply.started": "2022-11-09T08:56:28.282268Z"
    },
    "tags": []
   },
   "outputs": [],
   "source": [
    "cox_preds = pd.read_feather(f'{base_path}/coxph/predictions/phecode_979_Age+Sex_ImageTraining_[]_ConvNeXt_MLPHead_predictions_cropratio0.66_0.feather')"
   ]
  },
  {
   "cell_type": "code",
   "execution_count": 39,
   "id": "9dff2190-6cce-4e84-bea3-e7395d3cd273",
   "metadata": {
    "execution": {
     "iopub.execute_input": "2022-11-09T08:56:28.686689Z",
     "iopub.status.busy": "2022-11-09T08:56:28.686154Z",
     "iopub.status.idle": "2022-11-09T08:56:28.698009Z",
     "shell.execute_reply": "2022-11-09T08:56:28.697586Z",
     "shell.execute_reply.started": "2022-11-09T08:56:28.686667Z"
    },
    "tags": []
   },
   "outputs": [
    {
     "data": {
      "text/html": [
       "<div>\n",
       "<style scoped>\n",
       "    .dataframe tbody tr th:only-of-type {\n",
       "        vertical-align: middle;\n",
       "    }\n",
       "\n",
       "    .dataframe tbody tr th {\n",
       "        vertical-align: top;\n",
       "    }\n",
       "\n",
       "    .dataframe thead th {\n",
       "        text-align: right;\n",
       "    }\n",
       "</style>\n",
       "<table border=\"1\" class=\"dataframe\">\n",
       "  <thead>\n",
       "    <tr style=\"text-align: right;\">\n",
       "      <th></th>\n",
       "      <th>eid</th>\n",
       "      <th>endpoint</th>\n",
       "      <th>features</th>\n",
       "      <th>partition</th>\n",
       "      <th>Ft_1</th>\n",
       "      <th>Ft_2</th>\n",
       "      <th>Ft_3</th>\n",
       "      <th>Ft_4</th>\n",
       "      <th>Ft_5</th>\n",
       "      <th>Ft_6</th>\n",
       "      <th>Ft_7</th>\n",
       "      <th>Ft_8</th>\n",
       "      <th>Ft_9</th>\n",
       "      <th>Ft_10</th>\n",
       "      <th>Ft_11</th>\n",
       "      <th>Ft_12</th>\n",
       "      <th>Ft_13</th>\n",
       "      <th>Ft_14</th>\n",
       "      <th>Ft_15</th>\n",
       "    </tr>\n",
       "  </thead>\n",
       "  <tbody>\n",
       "    <tr>\n",
       "      <th>0</th>\n",
       "      <td>1475840</td>\n",
       "      <td>phecode_979</td>\n",
       "      <td>Age+Sex</td>\n",
       "      <td>0</td>\n",
       "      <td>0.000314</td>\n",
       "      <td>0.000773</td>\n",
       "      <td>0.001131</td>\n",
       "      <td>0.001435</td>\n",
       "      <td>0.001725</td>\n",
       "      <td>0.001958</td>\n",
       "      <td>0.002280</td>\n",
       "      <td>0.002663</td>\n",
       "      <td>0.003198</td>\n",
       "      <td>0.003617</td>\n",
       "      <td>0.003979</td>\n",
       "      <td>0.004230</td>\n",
       "      <td>0.004230</td>\n",
       "      <td>0.004230</td>\n",
       "      <td>0.004230</td>\n",
       "    </tr>\n",
       "    <tr>\n",
       "      <th>1</th>\n",
       "      <td>1475895</td>\n",
       "      <td>phecode_979</td>\n",
       "      <td>Age+Sex</td>\n",
       "      <td>0</td>\n",
       "      <td>0.000125</td>\n",
       "      <td>0.000306</td>\n",
       "      <td>0.000449</td>\n",
       "      <td>0.000569</td>\n",
       "      <td>0.000684</td>\n",
       "      <td>0.000777</td>\n",
       "      <td>0.000905</td>\n",
       "      <td>0.001057</td>\n",
       "      <td>0.001269</td>\n",
       "      <td>0.001436</td>\n",
       "      <td>0.001580</td>\n",
       "      <td>0.001679</td>\n",
       "      <td>0.001679</td>\n",
       "      <td>0.001679</td>\n",
       "      <td>0.001679</td>\n",
       "    </tr>\n",
       "    <tr>\n",
       "      <th>2</th>\n",
       "      <td>1475910</td>\n",
       "      <td>phecode_979</td>\n",
       "      <td>Age+Sex</td>\n",
       "      <td>0</td>\n",
       "      <td>0.000123</td>\n",
       "      <td>0.000303</td>\n",
       "      <td>0.000443</td>\n",
       "      <td>0.000562</td>\n",
       "      <td>0.000675</td>\n",
       "      <td>0.000767</td>\n",
       "      <td>0.000893</td>\n",
       "      <td>0.001044</td>\n",
       "      <td>0.001253</td>\n",
       "      <td>0.001417</td>\n",
       "      <td>0.001559</td>\n",
       "      <td>0.001658</td>\n",
       "      <td>0.001658</td>\n",
       "      <td>0.001658</td>\n",
       "      <td>0.001658</td>\n",
       "    </tr>\n",
       "    <tr>\n",
       "      <th>3</th>\n",
       "      <td>1475935</td>\n",
       "      <td>phecode_979</td>\n",
       "      <td>Age+Sex</td>\n",
       "      <td>0</td>\n",
       "      <td>0.000133</td>\n",
       "      <td>0.000327</td>\n",
       "      <td>0.000478</td>\n",
       "      <td>0.000607</td>\n",
       "      <td>0.000729</td>\n",
       "      <td>0.000828</td>\n",
       "      <td>0.000964</td>\n",
       "      <td>0.001127</td>\n",
       "      <td>0.001353</td>\n",
       "      <td>0.001530</td>\n",
       "      <td>0.001684</td>\n",
       "      <td>0.001790</td>\n",
       "      <td>0.001790</td>\n",
       "      <td>0.001790</td>\n",
       "      <td>0.001790</td>\n",
       "    </tr>\n",
       "    <tr>\n",
       "      <th>4</th>\n",
       "      <td>1476077</td>\n",
       "      <td>phecode_979</td>\n",
       "      <td>Age+Sex</td>\n",
       "      <td>0</td>\n",
       "      <td>0.000299</td>\n",
       "      <td>0.000734</td>\n",
       "      <td>0.001074</td>\n",
       "      <td>0.001363</td>\n",
       "      <td>0.001639</td>\n",
       "      <td>0.001860</td>\n",
       "      <td>0.002166</td>\n",
       "      <td>0.002531</td>\n",
       "      <td>0.003039</td>\n",
       "      <td>0.003437</td>\n",
       "      <td>0.003781</td>\n",
       "      <td>0.004020</td>\n",
       "      <td>0.004020</td>\n",
       "      <td>0.004020</td>\n",
       "      <td>0.004020</td>\n",
       "    </tr>\n",
       "  </tbody>\n",
       "</table>\n",
       "</div>"
      ],
      "text/plain": [
       "       eid     endpoint features  partition      Ft_1      Ft_2      Ft_3  \\\n",
       "0  1475840  phecode_979  Age+Sex          0  0.000314  0.000773  0.001131   \n",
       "1  1475895  phecode_979  Age+Sex          0  0.000125  0.000306  0.000449   \n",
       "2  1475910  phecode_979  Age+Sex          0  0.000123  0.000303  0.000443   \n",
       "3  1475935  phecode_979  Age+Sex          0  0.000133  0.000327  0.000478   \n",
       "4  1476077  phecode_979  Age+Sex          0  0.000299  0.000734  0.001074   \n",
       "\n",
       "       Ft_4      Ft_5      Ft_6      Ft_7      Ft_8      Ft_9     Ft_10  \\\n",
       "0  0.001435  0.001725  0.001958  0.002280  0.002663  0.003198  0.003617   \n",
       "1  0.000569  0.000684  0.000777  0.000905  0.001057  0.001269  0.001436   \n",
       "2  0.000562  0.000675  0.000767  0.000893  0.001044  0.001253  0.001417   \n",
       "3  0.000607  0.000729  0.000828  0.000964  0.001127  0.001353  0.001530   \n",
       "4  0.001363  0.001639  0.001860  0.002166  0.002531  0.003039  0.003437   \n",
       "\n",
       "      Ft_11     Ft_12     Ft_13     Ft_14     Ft_15  \n",
       "0  0.003979  0.004230  0.004230  0.004230  0.004230  \n",
       "1  0.001580  0.001679  0.001679  0.001679  0.001679  \n",
       "2  0.001559  0.001658  0.001658  0.001658  0.001658  \n",
       "3  0.001684  0.001790  0.001790  0.001790  0.001790  \n",
       "4  0.003781  0.004020  0.004020  0.004020  0.004020  "
      ]
     },
     "execution_count": 39,
     "metadata": {},
     "output_type": "execute_result"
    }
   ],
   "source": [
    "cox_preds.head()"
   ]
  },
  {
   "cell_type": "code",
   "execution_count": 40,
   "id": "db4859f8-9180-41d4-ad3d-c48afb8fa856",
   "metadata": {
    "execution": {
     "iopub.execute_input": "2022-11-09T08:56:30.438693Z",
     "iopub.status.busy": "2022-11-09T08:56:30.438203Z",
     "iopub.status.idle": "2022-11-09T08:56:30.443405Z",
     "shell.execute_reply": "2022-11-09T08:56:30.442989Z",
     "shell.execute_reply.started": "2022-11-09T08:56:30.438673Z"
    },
    "tags": []
   },
   "outputs": [
    {
     "data": {
      "text/plain": [
       "5556"
      ]
     },
     "execution_count": 40,
     "metadata": {},
     "output_type": "execute_result"
    }
   ],
   "source": [
    "len(set(loghs.eid.values.tolist()).intersection(set(cox_preds.eid.values.tolist())))"
   ]
  },
  {
   "cell_type": "code",
   "execution_count": 41,
   "id": "30e59e5d-4d86-4ac6-86d9-063aa57c0a21",
   "metadata": {
    "execution": {
     "iopub.execute_input": "2022-11-09T08:56:34.770762Z",
     "iopub.status.busy": "2022-11-09T08:56:34.770302Z",
     "iopub.status.idle": "2022-11-09T08:56:40.356708Z",
     "shell.execute_reply": "2022-11-09T08:56:40.356095Z",
     "shell.execute_reply.started": "2022-11-09T08:56:34.770742Z"
    },
    "tags": []
   },
   "outputs": [],
   "source": [
    "eligable_eids = pd.read_feather(\"/sc-projects/sc-proj-ukb-cvd/results/projects/22_retina_phewas/data/eligable_eids_220824.feather\")\n",
    "eids_dict = eligable_eids.set_index(\"endpoint\")[\"eid_list\"].to_dict()"
   ]
  },
  {
   "cell_type": "code",
   "execution_count": 42,
   "id": "97ceffac-a22e-4a7a-a37e-6c343865368b",
   "metadata": {
    "execution": {
     "iopub.execute_input": "2022-11-09T08:56:40.358167Z",
     "iopub.status.busy": "2022-11-09T08:56:40.357697Z",
     "iopub.status.idle": "2022-11-09T08:56:40.382171Z",
     "shell.execute_reply": "2022-11-09T08:56:40.381637Z",
     "shell.execute_reply.started": "2022-11-09T08:56:40.358146Z"
    },
    "tags": []
   },
   "outputs": [
    {
     "data": {
      "text/plain": [
       "5556"
      ]
     },
     "execution_count": 42,
     "metadata": {},
     "output_type": "execute_result"
    }
   ],
   "source": [
    "len(set(loghs.eid.values.tolist()).intersection(eids_dict['phecode_979'].tolist()))"
   ]
  },
  {
   "cell_type": "code",
   "execution_count": 43,
   "id": "c2961252-c847-4b22-8d81-903983a0300e",
   "metadata": {
    "execution": {
     "iopub.execute_input": "2022-11-09T08:56:41.786563Z",
     "iopub.status.busy": "2022-11-09T08:56:41.786085Z",
     "iopub.status.idle": "2022-11-09T08:56:41.902686Z",
     "shell.execute_reply": "2022-11-09T08:56:41.902188Z",
     "shell.execute_reply.started": "2022-11-09T08:56:41.786541Z"
    },
    "tags": []
   },
   "outputs": [],
   "source": [
    "n_eids = {}\n",
    "\n",
    "for partition in range(0, 22):\n",
    "    preds = pd.read_feather(f'{base_path}/coxph/predictions'\\\n",
    "                            f'/phecode_979_Age+Sex_ImageTraining_[]_ConvNeXt_MLPHead_predictions_cropratio0.66_{partition}.feather')\n",
    "    n_eids[partition] = preds.eid.nunique()"
   ]
  },
  {
   "cell_type": "code",
   "execution_count": 44,
   "id": "99aa606c-18fc-4e41-b5d0-add1576c1c32",
   "metadata": {
    "execution": {
     "iopub.execute_input": "2022-11-09T08:56:44.368594Z",
     "iopub.status.busy": "2022-11-09T08:56:44.368120Z",
     "iopub.status.idle": "2022-11-09T08:56:44.371095Z",
     "shell.execute_reply": "2022-11-09T08:56:44.370653Z",
     "shell.execute_reply.started": "2022-11-09T08:56:44.368573Z"
    },
    "tags": []
   },
   "outputs": [],
   "source": [
    "n_eids = pd.Series(n_eids)"
   ]
  },
  {
   "cell_type": "code",
   "execution_count": 45,
   "id": "de485593-698b-4646-b46f-b62d1e15550b",
   "metadata": {
    "execution": {
     "iopub.execute_input": "2022-11-09T08:56:53.500781Z",
     "iopub.status.busy": "2022-11-09T08:56:53.500211Z",
     "iopub.status.idle": "2022-11-09T08:56:53.504158Z",
     "shell.execute_reply": "2022-11-09T08:56:53.503736Z",
     "shell.execute_reply.started": "2022-11-09T08:56:53.500759Z"
    },
    "tags": []
   },
   "outputs": [
    {
     "data": {
      "text/plain": [
       "61159"
      ]
     },
     "execution_count": 45,
     "metadata": {},
     "output_type": "execute_result"
    }
   ],
   "source": [
    "n_eids.sum()"
   ]
  },
  {
   "cell_type": "code",
   "execution_count": 46,
   "id": "214d75ca-0dce-47fa-9968-18789ea55f63",
   "metadata": {
    "execution": {
     "iopub.execute_input": "2022-11-09T08:56:58.175966Z",
     "iopub.status.busy": "2022-11-09T08:56:58.175503Z",
     "iopub.status.idle": "2022-11-09T08:56:58.425210Z",
     "shell.execute_reply": "2022-11-09T08:56:58.424627Z",
     "shell.execute_reply.started": "2022-11-09T08:56:58.175945Z"
    },
    "tags": []
   },
   "outputs": [
    {
     "data": {
      "text/plain": [
       "61159"
      ]
     },
     "execution_count": 46,
     "metadata": {},
     "output_type": "execute_result"
    }
   ],
   "source": [
    "loghs_train = pd.read_feather(f'{base_path}/loghs/ImageTraining_[]_ConvNeXt_MLPHead_predictions_cropratio0.66/0/train.feather')\n",
    "loghs_valid = pd.read_feather(f'{base_path}/loghs/ImageTraining_[]_ConvNeXt_MLPHead_predictions_cropratio0.66/0/valid.feather')\n",
    "\n",
    "test = len(set(loghs.eid.unique().tolist()).intersection(eids_dict['phecode_979'].tolist()))\n",
    "train = len(set(loghs_train.eid.unique().tolist()).intersection(eids_dict['phecode_979'].tolist()))\n",
    "valid = len(set(loghs_valid.eid.unique().tolist()).intersection(eids_dict['phecode_979'].tolist()))\n",
    "\n",
    "test+train+valid"
   ]
  },
  {
   "cell_type": "code",
   "execution_count": null,
   "id": "768f5b3f-b260-4130-98e6-c341ce8fb43b",
   "metadata": {},
   "outputs": [],
   "source": []
  }
 ],
 "metadata": {
  "kernelspec": {
   "display_name": "retrisk",
   "language": "python",
   "name": "retrisk"
  },
  "language_info": {
   "codemirror_mode": {
    "name": "ipython",
    "version": 3
   },
   "file_extension": ".py",
   "mimetype": "text/x-python",
   "name": "python",
   "nbconvert_exporter": "python",
   "pygments_lexer": "ipython3",
   "version": "3.9.7"
  }
 },
 "nbformat": 4,
 "nbformat_minor": 5
}
